{
  "cells": [
    {
      "cell_type": "markdown",
      "source": "# API REQUEST",
      "metadata": {
        "cell_id": "00000-37d7da0d-1b35-4de0-b4c8-ffec0da5ccd0",
        "deepnote_cell_type": "markdown"
      }
    },
    {
      "cell_type": "code",
      "metadata": {
        "cell_id": "00001-919c47ce-4207-478b-b2e9-c863a5a46499",
        "deepnote_cell_type": "code"
      },
      "source": "import requests\nimport json\n\n# Set up the parameters we want to pass to the API.\n# This is the latitude and longitude of New York City.\nparameters = {\"lat\": 40.71, \"lon\": -74}\n# Make a get request with the pahttp://api.open-notify.orgrameters.\nresponse = requests.get(\"http://api.open-notify.org/iss-pass.json\", params=parameters)\n\n#is the response positive?\nprint(response)\n\n# Print the content of the response (the data the server returned)\n#print(response.content)\n\n# save response into a much nicer format\na = response.json()\n#print(response.json())\n\npretty_json = json.dumps(a, indent=4, sort_keys=True)\nprint(pretty_json)\n",
      "execution_count": null,
      "outputs": [
        {
          "name": "stdout",
          "output_type": "stream",
          "text": "<Response [200]>\n{\n    \"message\": \"success\",\n    \"request\": {\n        \"altitude\": 100,\n        \"datetime\": 1607507622,\n        \"latitude\": 40.71,\n        \"longitude\": -74.0,\n        \"passes\": 5\n    },\n    \"response\": [\n        {\n            \"duration\": 594,\n            \"risetime\": 1607524822\n        },\n        {\n            \"duration\": 648,\n            \"risetime\": 1607530588\n        },\n        {\n            \"duration\": 581,\n            \"risetime\": 1607536467\n        },\n        {\n            \"duration\": 569,\n            \"risetime\": 1607542344\n        },\n        {\n            \"duration\": 638,\n            \"risetime\": 1607548163\n        }\n    ]\n}\n"
        }
      ]
    },
    {
      "cell_type": "code",
      "metadata": {
        "cell_id": "00002-008d924b-2539-4f5c-b4f4-aa8efcd11b53",
        "deepnote_cell_type": "code"
      },
      "source": "# Make the same request we did earlier, but with the coordinates of San Francisco instead.\nparameters = {\"lat\": 37.78, \"lon\": -122.41}\nresponse = requests.get(\"http://api.open-notify.org/iss-pass.json\", params=parameters)\n# Get the response data as a python object. Verify that it's a dictionary.\ndata = response.json()\n#print(type(data))\n#print(data)\n\n\n\npretty_json = json.dumps(data, indent=4, sort_keys=True)\nprint(pretty_json)\n",
      "execution_count": null,
      "outputs": [
        {
          "name": "stdout",
          "output_type": "stream",
          "text": "{\n    \"message\": \"success\",\n    \"request\": {\n        \"altitude\": 100,\n        \"datetime\": 1607507773,\n        \"latitude\": 37.78,\n        \"longitude\": -122.41,\n        \"passes\": 5\n    },\n    \"response\": [\n        {\n            \"duration\": 610,\n            \"risetime\": 1607535915\n        },\n        {\n            \"duration\": 636,\n            \"risetime\": 1607541703\n        },\n        {\n            \"duration\": 526,\n            \"risetime\": 1607547615\n        },\n        {\n            \"duration\": 498,\n            \"risetime\": 1607553517\n        },\n        {\n            \"duration\": 607,\n            \"risetime\": 1607559334\n        }\n    ]\n}\n"
        }
      ]
    },
    {
      "cell_type": "code",
      "metadata": {
        "cell_id": "00003-81e5e74c-5d1e-482c-84c8-8de5ffe805bb",
        "deepnote_cell_type": "code"
      },
      "source": "with open(\"latlong_ny.json\", \"w\") as fp:\n    json.dump(a,fp) \n\nwith open('latlong.json') as json_file:\n    data = json.load(json_file)\n    for p in data['response']:\n        print(f\"Duration: {p['duration']}\")\n        print(f\"RiseTime: {p['risetime']}\")\n        print('')",
      "execution_count": null,
      "outputs": [
        {
          "name": "stdout",
          "output_type": "stream",
          "text": "Duration: 594\nRiseTime: 1607524821\n\nDuration: 648\nRiseTime: 1607530588\n\nDuration: 581\nRiseTime: 1607536467\n\nDuration: 569\nRiseTime: 1607542344\n\nDuration: 638\nRiseTime: 1607548163\n\n"
        }
      ]
    },
    {
      "cell_type": "markdown",
      "source": "# CSV",
      "metadata": {
        "cell_id": "00004-d4e238f1-6dd9-4e67-8b9d-87985088d345",
        "deepnote_cell_type": "markdown"
      }
    },
    {
      "cell_type": "code",
      "metadata": {
        "cell_id": "00005-f08a3c4a-fdad-4142-bff0-6314d022f0f2",
        "deepnote_cell_type": "code"
      },
      "source": "import csv\n\nwith open('./data/beers.csv') as csv_file:\n    csv_reader = csv.reader(csv_file, delimiter=',')\n    line_count = 0\n    for row in csv_reader:\n        if line_count == 0:\n            print(f'Column names are {\", \".join(row)}')\n            line_count += 1\n        else:\n            print(f'\\t The beer {row[0]} is {row[1]}, and it is from {row[2]}.')\n            line_count += 1\n    print(f'Processed {line_count} lines.')\n",
      "execution_count": null,
      "outputs": [
        {
          "name": "stdout",
          "output_type": "stream",
          "text": "Column names are Name, Appearance, Origin\n\t The beer Edelweiss is White, and it is from Austria.\n\t The beer CuvÃ©e des Trolls is Blond, and it is from Belgium.\n\t The beer Choulette AmbrÃ©e is Amber, and it is from France.\n\t The beer Gulden Draak is Dark, and it is from Belgium.\n\t The beer Water is Crystal Clear, and it is from Anywhere.\nProcessed 6 lines.\n"
        }
      ]
    },
    {
      "cell_type": "markdown",
      "source": "# CSV into Dictionary",
      "metadata": {
        "cell_id": "00006-7f5e35de-48cd-4649-bba2-5d54598de169",
        "deepnote_cell_type": "markdown"
      }
    },
    {
      "cell_type": "code",
      "metadata": {
        "cell_id": "00007-0675a9ae-8124-4260-9d88-15725e3ea912",
        "deepnote_cell_type": "code"
      },
      "source": "import csv\n\nwith open('./data/beers.csv', mode='r') as csv_file:\n    csv_reader = csv.DictReader(csv_file)\n    line_count = 0\n    for row in csv_reader:\n        if line_count == 0:\n            print(f'Column names are {\", \".join(row)}')\n            line_count += 1\n        print(f'\\tThe beer {row[\"Name\"]} is {row[\"Appearance\"]}, and it is from {row[\"Origin\"]}.')\n        line_count += 1\n    print(f'Processed {line_count} lines.')\n",
      "execution_count": null,
      "outputs": [
        {
          "name": "stdout",
          "output_type": "stream",
          "text": "Column names are Name, Appearance, Origin\n\tThe beer Edelweiss is White, and it is from Austria.\n\tThe beer CuvÃ©e des Trolls is Blond, and it is from Belgium.\n\tThe beer Choulette AmbrÃ©e is Amber, and it is from France.\n\tThe beer Gulden Draak is Dark, and it is from Belgium.\n\tThe beer Water is Crystal Clear, and it is from Anywhere.\nProcessed 6 lines.\n"
        }
      ]
    },
    {
      "cell_type": "markdown",
      "source": "# The Power of Pandas",
      "metadata": {
        "cell_id": "00008-1b15331d-cf35-48ff-8a39-f641247754ab",
        "deepnote_cell_type": "markdown"
      }
    },
    {
      "cell_type": "code",
      "metadata": {
        "cell_id": "00009-254017c3-4d22-40ce-b5b6-fe6915acac2e",
        "deepnote_cell_type": "code"
      },
      "source": "import pandas\n\ndf = pandas.read_csv('./data/beers.csv')\n\nprint(df)\n",
      "execution_count": null,
      "outputs": [
        {
          "name": "stdout",
          "output_type": "stream",
          "text": "               Name     Appearance    Origin\n0         Edelweiss          White   Austria\n1  Cuvée des Trolls          Blond   Belgium\n2  Choulette Ambrée          Amber    France\n3      Gulden Draak           Dark   Belgium\n4             Water  Crystal Clear  Anywhere\n"
        }
      ]
    },
    {
      "cell_type": "markdown",
      "source": "# downloading html with requests library",
      "metadata": {
        "cell_id": "00010-3c1288f2-20d1-4a0f-bef6-9f0c657510ce",
        "deepnote_cell_type": "markdown"
      }
    },
    {
      "cell_type": "code",
      "metadata": {
        "cell_id": "00011-3e4aa7ba-c387-4975-9978-f775c99570fa",
        "deepnote_cell_type": "code"
      },
      "source": "import requests\npage = requests.get(\"http://dataquestio.github.io/web-scraping-pages/simple.html\")\npage",
      "execution_count": null,
      "outputs": [
        {
          "data": {
            "text/plain": "<Response [200]>"
          },
          "execution_count": 17,
          "metadata": {},
          "output_type": "execute_result"
        }
      ]
    },
    {
      "cell_type": "markdown",
      "source": "# We can print out the HTML content of the page using the content property: ",
      "metadata": {
        "cell_id": "00012-5c8d79d5-300c-4d65-89c2-6fe13bcc2367",
        "deepnote_cell_type": "markdown"
      }
    },
    {
      "cell_type": "code",
      "metadata": {
        "cell_id": "00013-25e83de2-80b6-4531-b823-4d452eb6d19c",
        "deepnote_cell_type": "code"
      },
      "source": "import requests\npage = requests.get(\"http://dataquestio.github.io/web-scraping-pages/simple.html\")\npage\n\npage.status_code\npage.content",
      "execution_count": null,
      "outputs": [
        {
          "data": {
            "text/plain": "b'<!DOCTYPE html>\\n<html>\\n    <head>\\n        <title>A simple example page</title>\\n    </head>\\n    <body>\\n        <p>Here is some simple content for this page.</p>\\n    </body>\\n</html>'"
          },
          "execution_count": 18,
          "metadata": {},
          "output_type": "execute_result"
        }
      ]
    },
    {
      "cell_type": "markdown",
      "source": "# Beautiful Soup",
      "metadata": {
        "cell_id": "00014-4f73fa73-0550-46d7-af10-a70147a79a8c",
        "deepnote_cell_type": "markdown"
      }
    },
    {
      "cell_type": "code",
      "metadata": {
        "cell_id": "00015-d179718d-79aa-49b5-af67-c5fc95298dfe",
        "deepnote_to_be_reexecuted": false,
        "source_hash": "46a16ecb",
        "execution_start": 1616588927966,
        "execution_millis": 499,
        "deepnote_cell_type": "code"
      },
      "source": "# Weather.gov\n    \nimport requests\nfrom bs4 import BeautifulSoup\n\npage = requests.get(\"https://forecast.weather.gov/MapClick.php?lat=37.777120000000025&lon=-122.41963999999996#.X9DVpBakolQ\")\nsoup = BeautifulSoup(page.content, 'html.parser')\nhtml = list(soup.children)[2]\nbody = list(html.children)[3]\n\nprint(body)\n\n#target parents\n#go deeper into childen\n#find p element or relevant class\n\n    #target day\n    #target temperature\n    #target summary \n    \n#save into a list\n#save into a dictionary?\n\n{\"day1\":[\"sunday\", \"54\", 'today was a great sunny day '], \"day2\":[\"monday\", \"54\", 'today was a great sunny day ']}\n\n#load dict into pandas\n# create column names if needed",
      "execution_count": null,
      "outputs": [
        {
          "output_type": "error",
          "ename": "ModuleNotFoundError",
          "evalue": "No module named 'bs4'",
          "traceback": [
            "\u001b[0;31m---------------------------------------------------------------------------\u001b[0m",
            "\u001b[0;31mModuleNotFoundError\u001b[0m                       Traceback (most recent call last)",
            "\u001b[0;32m<ipython-input-1-2dae2c74c961>\u001b[0m in \u001b[0;36m<module>\u001b[0;34m\u001b[0m\n\u001b[1;32m      2\u001b[0m \u001b[0;34m\u001b[0m\u001b[0m\n\u001b[1;32m      3\u001b[0m \u001b[0;32mimport\u001b[0m \u001b[0mrequests\u001b[0m\u001b[0;34m\u001b[0m\u001b[0;34m\u001b[0m\u001b[0m\n\u001b[0;32m----> 4\u001b[0;31m \u001b[0;32mfrom\u001b[0m \u001b[0mbs4\u001b[0m \u001b[0;32mimport\u001b[0m \u001b[0mBeautifulSoup\u001b[0m\u001b[0;34m\u001b[0m\u001b[0;34m\u001b[0m\u001b[0m\n\u001b[0m\u001b[1;32m      5\u001b[0m \u001b[0;34m\u001b[0m\u001b[0m\n\u001b[1;32m      6\u001b[0m \u001b[0mpage\u001b[0m \u001b[0;34m=\u001b[0m \u001b[0mrequests\u001b[0m\u001b[0;34m.\u001b[0m\u001b[0mget\u001b[0m\u001b[0;34m(\u001b[0m\u001b[0;34m\"https://forecast.weather.gov/MapClick.php?lat=37.777120000000025&lon=-122.41963999999996#.X9DVpBakolQ\"\u001b[0m\u001b[0;34m)\u001b[0m\u001b[0;34m\u001b[0m\u001b[0;34m\u001b[0m\u001b[0m\n",
            "\u001b[0;31mModuleNotFoundError\u001b[0m: No module named 'bs4'"
          ]
        }
      ]
    },
    {
      "cell_type": "code",
      "metadata": {
        "cell_id": "00016-b6a4f216-9705-4e1c-aab0-5f7cd4be4b3b",
        "deepnote_cell_type": "code"
      },
      "source": "# For further information\n# https://www.dataquest.io/blog/python-api-tutorial/\n\nimport requests\nfrom bs4 import BeautifulSoup\n\npage = requests.get(\"http://dataquestio.github.io/web-scraping-pages/simple.html\")\n# Print the status code of the response.\n\nsoup = BeautifulSoup(page.content, 'html.parser')\n#print(soup.prettify())\n\nprint()\nprint(\"This are the children\")\nprint()\n\nhtml = list(soup.children)[2]\n#print(html)\n\nbody = list(html.children)[3]\n#print(body)\n\np = list(body.children)[1]\n#print(p)\n\n#print(p.get_text())\n\n#Faster Way\n\np = soup.find('p')\n\nprint(p.get_text())\n",
      "execution_count": null,
      "outputs": [
        {
          "name": "stdout",
          "output_type": "stream",
          "text": "\nThis are the children\n\nHere is some simple content for this page.\n"
        }
      ]
    },
    {
      "cell_type": "code",
      "metadata": {
        "cell_id": "00017-c68a2c2a-76d1-4935-9f22-3fd90e069dd6",
        "deepnote_cell_type": "code"
      },
      "source": "l = ['html', '\\n', \"<html> <head> <title>A simple example page</title></head><body><p>Here is some simple content for this page.</p></body></html>\"]",
      "execution_count": null,
      "outputs": []
    },
    {
      "cell_type": "code",
      "metadata": {
        "cell_id": "00018-2b53b446-a660-416e-b6dc-556b42dc972a",
        "deepnote_cell_type": "code"
      },
      "source": "l[2]",
      "execution_count": null,
      "outputs": [
        {
          "data": {
            "text/plain": "'<html> <head> <title>A simple example page</title></head><body><p>Here is some simple content for this page.</p></body></html>'"
          },
          "execution_count": 39,
          "metadata": {},
          "output_type": "execute_result"
        }
      ]
    },
    {
      "cell_type": "markdown",
      "source": "# FindAll with BS",
      "metadata": {
        "cell_id": "00019-21341565-5fc8-4841-abc5-ec1b088f3e40",
        "deepnote_cell_type": "markdown"
      }
    },
    {
      "cell_type": "code",
      "metadata": {
        "cell_id": "00020-98cf8bef-b589-4b1c-a25b-0d018c82cd11",
        "deepnote_cell_type": "code"
      },
      "source": "# https://www.dataquest.io/blog/python-api-tutorial/\n\nimport requests\nfrom bs4 import BeautifulSoup\n\npage =requests.get(\"http://dataquestio.github.io/web-scraping-pages/ids_and_classes.html\")\n# Print the status code of the response.\n\nsoup =BeautifulSoup(page.content, 'html.parser')\n#print(soup.prettify())\n\nouter = soup.find_all('p', class_='outer-text')\n#outer = soup.find(id='first').string\nprint(outer)\n",
      "execution_count": null,
      "outputs": [
        {
          "name": "stdout",
          "output_type": "stream",
          "text": "[<p class=\"outer-text first-item\" id=\"second\">\n<b>\n                First outer paragraph.\n            </b>\n</p>, <p class=\"outer-text\">\n<b>\n                Second outer paragraph.\n            </b>\n</p>]\n"
        }
      ]
    },
    {
      "cell_type": "code",
      "metadata": {
        "cell_id": "00021-b0593f9a-8798-497e-9006-3fe27b55e4b7",
        "deepnote_cell_type": "code"
      },
      "source": "outer.soup.find_all('p')",
      "execution_count": null,
      "outputs": [
        {
          "ename": "AttributeError",
          "evalue": "ResultSet object has no attribute 'soup'. You're probably treating a list of elements like a single element. Did you call find_all() when you meant to call find()?",
          "output_type": "error",
          "traceback": [
            "\u001b[1;31m---------------------------------------------------------------------------\u001b[0m",
            "\u001b[1;31mAttributeError\u001b[0m                            Traceback (most recent call last)",
            "\u001b[1;32m<ipython-input-50-deb59d5f3c84>\u001b[0m in \u001b[0;36m<module>\u001b[1;34m\u001b[0m\n\u001b[1;32m----> 1\u001b[1;33m \u001b[0mouter\u001b[0m\u001b[1;33m.\u001b[0m\u001b[0msoup\u001b[0m\u001b[1;33m.\u001b[0m\u001b[0mfind_all\u001b[0m\u001b[1;33m(\u001b[0m\u001b[1;34m'p'\u001b[0m\u001b[1;33m)\u001b[0m\u001b[1;33m\u001b[0m\u001b[1;33m\u001b[0m\u001b[0m\n\u001b[0m",
            "\u001b[1;32mC:\\ProgramData\\Anaconda3\\lib\\site-packages\\bs4\\element.py\u001b[0m in \u001b[0;36m__getattr__\u001b[1;34m(self, key)\u001b[0m\n\u001b[0;32m   2171\u001b[0m     \u001b[1;32mdef\u001b[0m \u001b[0m__getattr__\u001b[0m\u001b[1;33m(\u001b[0m\u001b[0mself\u001b[0m\u001b[1;33m,\u001b[0m \u001b[0mkey\u001b[0m\u001b[1;33m)\u001b[0m\u001b[1;33m:\u001b[0m\u001b[1;33m\u001b[0m\u001b[1;33m\u001b[0m\u001b[0m\n\u001b[0;32m   2172\u001b[0m         \u001b[1;34m\"\"\"Raise a helpful exception to explain a common code fix.\"\"\"\u001b[0m\u001b[1;33m\u001b[0m\u001b[1;33m\u001b[0m\u001b[0m\n\u001b[1;32m-> 2173\u001b[1;33m         raise AttributeError(\n\u001b[0m\u001b[0;32m   2174\u001b[0m             \u001b[1;34m\"ResultSet object has no attribute '%s'. You're probably treating a list of elements like a single element. Did you call find_all() when you meant to call find()?\"\u001b[0m \u001b[1;33m%\u001b[0m \u001b[0mkey\u001b[0m\u001b[1;33m\u001b[0m\u001b[1;33m\u001b[0m\u001b[0m\n\u001b[0;32m   2175\u001b[0m         )\n",
            "\u001b[1;31mAttributeError\u001b[0m: ResultSet object has no attribute 'soup'. You're probably treating a list of elements like a single element. Did you call find_all() when you meant to call find()?"
          ]
        }
      ]
    },
    {
      "cell_type": "code",
      "metadata": {
        "cell_id": "00022-d20f0643-79fd-4cb8-b094-9e85d2152090",
        "deepnote_cell_type": "code"
      },
      "source": "",
      "execution_count": null,
      "outputs": []
    },
    {
      "cell_type": "markdown",
      "source": "<a style='text-decoration:none;line-height:16px;display:flex;color:#5B5B62;padding:10px;justify-content:end;' href='https://deepnote.com?utm_source=created-in-deepnote-cell&projectId=79673256-d468-4dc3-bcd4-af2c4cf3525d' target=\"_blank\">\n<img style='display:inline;max-height:16px;margin:0px;margin-right:7.5px;' src='data:image/svg+xml;base64,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' > </img>\nCreated in <span style='font-weight:600;margin-left:4px;'>Deepnote</span></a>",
      "metadata": {
        "tags": [],
        "created_in_deepnote_cell": true,
        "deepnote_cell_type": "markdown"
      }
    }
  ],
  "nbformat": 4,
  "nbformat_minor": 4,
  "metadata": {
    "kernelspec": {
      "display_name": "Python 3",
      "language": "python",
      "name": "python3"
    },
    "language_info": {
      "codemirror_mode": {
        "name": "ipython",
        "version": 3
      },
      "file_extension": ".py",
      "mimetype": "text/x-python",
      "name": "python",
      "nbconvert_exporter": "python",
      "pygments_lexer": "ipython3",
      "version": "3.8.5"
    },
    "deepnote_notebook_id": "ca4597f6-a982-4d19-a037-7ec98765caf9",
    "deepnote": {},
    "deepnote_execution_queue": []
  }
}