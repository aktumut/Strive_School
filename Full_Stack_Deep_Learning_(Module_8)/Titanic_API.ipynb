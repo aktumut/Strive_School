{
 "metadata": {
  "language_info": {
   "codemirror_mode": {
    "name": "ipython",
    "version": 3
   },
   "file_extension": ".py",
   "mimetype": "text/x-python",
   "name": "python",
   "nbconvert_exporter": "python",
   "pygments_lexer": "ipython3",
   "version": "3.8.10"
  },
  "orig_nbformat": 4,
  "kernelspec": {
   "name": "python3",
   "display_name": "Python 3.8.10 64-bit ('my-project-env': virtualenvwrapper)"
  },
  "interpreter": {
   "hash": "737e9587d30d88c29f1321911dcbdbc8762e4df40f7563cdfd1b93bad311ab30"
  }
 },
 "nbformat": 4,
 "nbformat_minor": 2,
 "cells": [
  {
   "cell_type": "code",
   "execution_count": 442,
   "metadata": {},
   "outputs": [
    {
     "output_type": "stream",
     "name": "stdout",
     "text": [
      "Pandas   1.2.5\nSklearn  0.24.2\n"
     ]
    }
   ],
   "source": [
    "import time\n",
    "from IPython.display import clear_output\n",
    "import numpy    as np\n",
    "import pandas   as pd\n",
    "import seaborn  as sb\n",
    "import matplotlib.pyplot as plt\n",
    "import sklearn  as skl\n",
    "\n",
    "from sklearn import pipeline      # Pipeline\n",
    "from sklearn import preprocessing # OrdinalEncoder, LabelEncoder\n",
    "from sklearn import impute\n",
    "from sklearn import compose\n",
    "from sklearn import model_selection # train_test_split\n",
    "from sklearn import metrics         # accuracy_score, balanced_accuracy_score, plot_confusion_matrix\n",
    "from sklearn import set_config\n",
    "from sklearn.impute import KNNImputer\n",
    "from sklearn.preprocessing import PowerTransformer\n",
    "from sklearn.preprocessing import QuantileTransformer\n",
    "\n",
    "set_config(display='diagram') # Useful for display the pipeline\n",
    "\n",
    "print(\"Pandas  \", pd.__version__)\n",
    "print(\"Sklearn \", skl.__version__) # Try to use 0.24"
   ]
  },
  {
   "cell_type": "code",
   "execution_count": 443,
   "metadata": {},
   "outputs": [
    {
     "output_type": "execute_result",
     "data": {
      "text/plain": [
       "'/home/umut/Documents/GitHub/Strive_School/Full_Stack_Deep_Learning_(Module_8)/API_(Day_6)/data/'"
      ]
     },
     "metadata": {},
     "execution_count": 443
    }
   ],
   "source": [
    "CLOUD = False\n",
    "\n",
    "if CLOUD:\n",
    "    import os\n",
    "    os.environ['KAGGLE_USERNAME'] = \"umutakta\"\n",
    "    os.environ['KAGGLE_KEY']      = \"a471e5474add8d57cadac3cc5ff2b1d6\"  # See https://www.kaggle.com/docs/api\n",
    "    !pip install --upgrade kaggle\n",
    "    !kaggle competitions download -c titanic\n",
    "    DATA_PATH = \"API_(Day_6)/data/\"\n",
    "\n",
    "else:\n",
    "    DATA_PATH = \"/home/umut/Documents/GitHub/Strive_School/Full_Stack_Deep_Learning_(Module_8)/API_(Day_6)/data/\"\n",
    "\n",
    "DATA_PATH"
   ]
  },
  {
   "cell_type": "code",
   "execution_count": 444,
   "metadata": {},
   "outputs": [
    {
     "output_type": "stream",
     "name": "stdout",
     "text": [
      "Train DataFrame: (891, 12)\nTest DataFrame:  (418, 11)\n"
     ]
    }
   ],
   "source": [
    "df      = pd.read_csv(DATA_PATH + \"train.csv\", )\n",
    "df_test = pd.read_csv(DATA_PATH + \"test.csv\", )\n",
    "\n",
    "print(\"Train DataFrame:\", df.shape)\n",
    "print(\"Test DataFrame: \", df_test.shape)"
   ]
  },
  {
   "cell_type": "code",
   "execution_count": 445,
   "metadata": {},
   "outputs": [],
   "source": [
    "df = df.drop(['Ticket', \"Cabin\",\"PassengerId\"], axis=1)\n",
    "df_test = df_test.drop(['Ticket',\"Cabin\",\"PassengerId\"], axis=1)"
   ]
  },
  {
   "cell_type": "code",
   "execution_count": 446,
   "metadata": {},
   "outputs": [],
   "source": [
    "\n",
    "get_Title_from_Name = lambda x: x.split(\",\")[1].split(\".\")[0].strip()\n",
    "\n",
    "df['Title']      = df['Name'].map(get_Title_from_Name )\n",
    "df_test['Title'] = df_test['Name'].map(get_Title_from_Name)"
   ]
  },
  {
   "cell_type": "code",
   "execution_count": 447,
   "metadata": {},
   "outputs": [],
   "source": [
    "combine = [df, df_test]\n",
    "\n",
    "\n",
    "for dataset in combine:\n",
    "    dataset['Title'] = dataset.Name.str.extract(' ([A-Za-z]+)\\.', expand=False)\n",
    "\n",
    "for dataset in combine:\n",
    "    dataset['Title'] = dataset['Title'].replace(['Lady', 'Countess','Capt', 'Col',\\\n",
    " \t'Don', 'Dr', 'Major', 'Rev', 'Sir', 'Jonkheer', 'Dona'], 'Rare')\n",
    "\n",
    "    dataset['Title'] = dataset['Title'].replace('Mlle', 'Miss')\n",
    "    dataset['Title'] = dataset['Title'].replace('Ms', 'Miss')\n",
    "    dataset['Title'] = dataset['Title'].replace('Mme', 'Mrs')\n",
    "\n",
    "\n",
    "\n"
   ]
  },
  {
   "cell_type": "code",
   "execution_count": 448,
   "metadata": {},
   "outputs": [],
   "source": [
    "df[\"Title\"] = df['Title'].map(title_dictionary)\n",
    "df_test[\"Title\"] = df_test['Title'].map(title_dictionary)"
   ]
  },
  {
   "cell_type": "code",
   "execution_count": 449,
   "metadata": {},
   "outputs": [],
   "source": [
    "df = df.drop(['Name'], axis=1)\n",
    "df_test = df_test.drop(['Name'], axis=1)\n"
   ]
  },
  {
   "cell_type": "code",
   "execution_count": 450,
   "metadata": {},
   "outputs": [
    {
     "output_type": "execute_result",
     "data": {
      "text/plain": [
       "   Survived  Pclass  Sex   Age  SibSp  Parch     Fare Embarked Title\n",
       "0         0       3    0  22.0      1      0   7.2500        S    Mr\n",
       "1         1       1    1  38.0      1      0  71.2833        C   Mrs\n",
       "2         1       3    1  26.0      0      0   7.9250        S  Miss\n",
       "3         1       1    1  35.0      1      0  53.1000        S   Mrs\n",
       "4         0       3    0  35.0      0      0   8.0500        S    Mr"
      ],
      "text/html": "<div>\n<style scoped>\n    .dataframe tbody tr th:only-of-type {\n        vertical-align: middle;\n    }\n\n    .dataframe tbody tr th {\n        vertical-align: top;\n    }\n\n    .dataframe thead th {\n        text-align: right;\n    }\n</style>\n<table border=\"1\" class=\"dataframe\">\n  <thead>\n    <tr style=\"text-align: right;\">\n      <th></th>\n      <th>Survived</th>\n      <th>Pclass</th>\n      <th>Sex</th>\n      <th>Age</th>\n      <th>SibSp</th>\n      <th>Parch</th>\n      <th>Fare</th>\n      <th>Embarked</th>\n      <th>Title</th>\n    </tr>\n  </thead>\n  <tbody>\n    <tr>\n      <th>0</th>\n      <td>0</td>\n      <td>3</td>\n      <td>0</td>\n      <td>22.0</td>\n      <td>1</td>\n      <td>0</td>\n      <td>7.2500</td>\n      <td>S</td>\n      <td>Mr</td>\n    </tr>\n    <tr>\n      <th>1</th>\n      <td>1</td>\n      <td>1</td>\n      <td>1</td>\n      <td>38.0</td>\n      <td>1</td>\n      <td>0</td>\n      <td>71.2833</td>\n      <td>C</td>\n      <td>Mrs</td>\n    </tr>\n    <tr>\n      <th>2</th>\n      <td>1</td>\n      <td>3</td>\n      <td>1</td>\n      <td>26.0</td>\n      <td>0</td>\n      <td>0</td>\n      <td>7.9250</td>\n      <td>S</td>\n      <td>Miss</td>\n    </tr>\n    <tr>\n      <th>3</th>\n      <td>1</td>\n      <td>1</td>\n      <td>1</td>\n      <td>35.0</td>\n      <td>1</td>\n      <td>0</td>\n      <td>53.1000</td>\n      <td>S</td>\n      <td>Mrs</td>\n    </tr>\n    <tr>\n      <th>4</th>\n      <td>0</td>\n      <td>3</td>\n      <td>0</td>\n      <td>35.0</td>\n      <td>0</td>\n      <td>0</td>\n      <td>8.0500</td>\n      <td>S</td>\n      <td>Mr</td>\n    </tr>\n  </tbody>\n</table>\n</div>"
     },
     "metadata": {},
     "execution_count": 450
    }
   ],
   "source": [
    "combine = [df, df_test]\n",
    "for dataset in combine:\n",
    "    dataset['Sex'] = dataset['Sex'].map( {'female': 1, 'male': 0} ).astype(int)\n",
    "\n",
    "df.head()"
   ]
  },
  {
   "cell_type": "code",
   "execution_count": 451,
   "metadata": {},
   "outputs": [
    {
     "output_type": "execute_result",
     "data": {
      "text/plain": [
       "   Survived  Pclass  Sex  Age  SibSp  Parch     Fare Embarked Title\n",
       "0         0       3    0   22      1      0   7.2500        S    Mr\n",
       "1         1       1    1   38      1      0  71.2833        C   Mrs\n",
       "2         1       3    1   26      0      0   7.9250        S  Miss\n",
       "3         1       1    1   35      1      0  53.1000        S   Mrs\n",
       "4         0       3    0   35      0      0   8.0500        S    Mr"
      ],
      "text/html": "<div>\n<style scoped>\n    .dataframe tbody tr th:only-of-type {\n        vertical-align: middle;\n    }\n\n    .dataframe tbody tr th {\n        vertical-align: top;\n    }\n\n    .dataframe thead th {\n        text-align: right;\n    }\n</style>\n<table border=\"1\" class=\"dataframe\">\n  <thead>\n    <tr style=\"text-align: right;\">\n      <th></th>\n      <th>Survived</th>\n      <th>Pclass</th>\n      <th>Sex</th>\n      <th>Age</th>\n      <th>SibSp</th>\n      <th>Parch</th>\n      <th>Fare</th>\n      <th>Embarked</th>\n      <th>Title</th>\n    </tr>\n  </thead>\n  <tbody>\n    <tr>\n      <th>0</th>\n      <td>0</td>\n      <td>3</td>\n      <td>0</td>\n      <td>22</td>\n      <td>1</td>\n      <td>0</td>\n      <td>7.2500</td>\n      <td>S</td>\n      <td>Mr</td>\n    </tr>\n    <tr>\n      <th>1</th>\n      <td>1</td>\n      <td>1</td>\n      <td>1</td>\n      <td>38</td>\n      <td>1</td>\n      <td>0</td>\n      <td>71.2833</td>\n      <td>C</td>\n      <td>Mrs</td>\n    </tr>\n    <tr>\n      <th>2</th>\n      <td>1</td>\n      <td>3</td>\n      <td>1</td>\n      <td>26</td>\n      <td>0</td>\n      <td>0</td>\n      <td>7.9250</td>\n      <td>S</td>\n      <td>Miss</td>\n    </tr>\n    <tr>\n      <th>3</th>\n      <td>1</td>\n      <td>1</td>\n      <td>1</td>\n      <td>35</td>\n      <td>1</td>\n      <td>0</td>\n      <td>53.1000</td>\n      <td>S</td>\n      <td>Mrs</td>\n    </tr>\n    <tr>\n      <th>4</th>\n      <td>0</td>\n      <td>3</td>\n      <td>0</td>\n      <td>35</td>\n      <td>0</td>\n      <td>0</td>\n      <td>8.0500</td>\n      <td>S</td>\n      <td>Mr</td>\n    </tr>\n  </tbody>\n</table>\n</div>"
     },
     "metadata": {},
     "execution_count": 451
    }
   ],
   "source": [
    "guess_ages = np.zeros((2,3))\n",
    "combine = [df, df_test]\n",
    "for dataset in combine:\n",
    "    for i in range(0, 2):\n",
    "        for j in range(0, 3):\n",
    "            guess_df = dataset[(dataset['Sex'] == i) & \\\n",
    "                                  (dataset['Pclass'] == j+1)]['Age'].dropna()\n",
    "\n",
    "            # age_mean = guess_df.mean()\n",
    "            # age_std = guess_df.std()\n",
    "            # age_guess = rnd.uniform(age_mean - age_std, age_mean + age_std)\n",
    "\n",
    "            age_guess = guess_df.median()\n",
    "\n",
    "            # Convert random age float to nearest .5 age\n",
    "            guess_ages[i,j] = int( age_guess/0.5 + 0.5 ) * 0.5\n",
    "            \n",
    "    for i in range(0, 2):\n",
    "        for j in range(0, 3):\n",
    "            dataset.loc[ (dataset.Age.isnull()) & (dataset.Sex == i) & (dataset.Pclass == j+1),\\\n",
    "                    'Age'] = guess_ages[i,j]\n",
    "\n",
    "    dataset['Age'] = dataset['Age'].astype(int)\n",
    "\n",
    "df.head()"
   ]
  },
  {
   "cell_type": "code",
   "execution_count": 452,
   "metadata": {},
   "outputs": [
    {
     "output_type": "execute_result",
     "data": {
      "text/plain": [
       "         AgeBand  Survived\n",
       "0  (-0.08, 16.0]  0.550000\n",
       "1   (16.0, 32.0]  0.337374\n",
       "2   (32.0, 48.0]  0.412037\n",
       "3   (48.0, 64.0]  0.434783\n",
       "4   (64.0, 80.0]  0.090909"
      ],
      "text/html": "<div>\n<style scoped>\n    .dataframe tbody tr th:only-of-type {\n        vertical-align: middle;\n    }\n\n    .dataframe tbody tr th {\n        vertical-align: top;\n    }\n\n    .dataframe thead th {\n        text-align: right;\n    }\n</style>\n<table border=\"1\" class=\"dataframe\">\n  <thead>\n    <tr style=\"text-align: right;\">\n      <th></th>\n      <th>AgeBand</th>\n      <th>Survived</th>\n    </tr>\n  </thead>\n  <tbody>\n    <tr>\n      <th>0</th>\n      <td>(-0.08, 16.0]</td>\n      <td>0.550000</td>\n    </tr>\n    <tr>\n      <th>1</th>\n      <td>(16.0, 32.0]</td>\n      <td>0.337374</td>\n    </tr>\n    <tr>\n      <th>2</th>\n      <td>(32.0, 48.0]</td>\n      <td>0.412037</td>\n    </tr>\n    <tr>\n      <th>3</th>\n      <td>(48.0, 64.0]</td>\n      <td>0.434783</td>\n    </tr>\n    <tr>\n      <th>4</th>\n      <td>(64.0, 80.0]</td>\n      <td>0.090909</td>\n    </tr>\n  </tbody>\n</table>\n</div>"
     },
     "metadata": {},
     "execution_count": 452
    }
   ],
   "source": [
    "df['AgeBand'] = pd.cut(df['Age'], 5)\n",
    "df[['AgeBand', 'Survived']].groupby(['AgeBand'], as_index=False).mean().sort_values(by='AgeBand', ascending=True)"
   ]
  },
  {
   "cell_type": "code",
   "execution_count": 453,
   "metadata": {},
   "outputs": [
    {
     "output_type": "execute_result",
     "data": {
      "text/plain": [
       "   Survived  Pclass  Sex  Age  SibSp  Parch     Fare Embarked Title  \\\n",
       "0         0       3    0    1      1      0   7.2500        S    Mr   \n",
       "1         1       1    1    2      1      0  71.2833        C   Mrs   \n",
       "2         1       3    1    1      0      0   7.9250        S  Miss   \n",
       "3         1       1    1    2      1      0  53.1000        S   Mrs   \n",
       "4         0       3    0    2      0      0   8.0500        S    Mr   \n",
       "\n",
       "        AgeBand  \n",
       "0  (16.0, 32.0]  \n",
       "1  (32.0, 48.0]  \n",
       "2  (16.0, 32.0]  \n",
       "3  (32.0, 48.0]  \n",
       "4  (32.0, 48.0]  "
      ],
      "text/html": "<div>\n<style scoped>\n    .dataframe tbody tr th:only-of-type {\n        vertical-align: middle;\n    }\n\n    .dataframe tbody tr th {\n        vertical-align: top;\n    }\n\n    .dataframe thead th {\n        text-align: right;\n    }\n</style>\n<table border=\"1\" class=\"dataframe\">\n  <thead>\n    <tr style=\"text-align: right;\">\n      <th></th>\n      <th>Survived</th>\n      <th>Pclass</th>\n      <th>Sex</th>\n      <th>Age</th>\n      <th>SibSp</th>\n      <th>Parch</th>\n      <th>Fare</th>\n      <th>Embarked</th>\n      <th>Title</th>\n      <th>AgeBand</th>\n    </tr>\n  </thead>\n  <tbody>\n    <tr>\n      <th>0</th>\n      <td>0</td>\n      <td>3</td>\n      <td>0</td>\n      <td>1</td>\n      <td>1</td>\n      <td>0</td>\n      <td>7.2500</td>\n      <td>S</td>\n      <td>Mr</td>\n      <td>(16.0, 32.0]</td>\n    </tr>\n    <tr>\n      <th>1</th>\n      <td>1</td>\n      <td>1</td>\n      <td>1</td>\n      <td>2</td>\n      <td>1</td>\n      <td>0</td>\n      <td>71.2833</td>\n      <td>C</td>\n      <td>Mrs</td>\n      <td>(32.0, 48.0]</td>\n    </tr>\n    <tr>\n      <th>2</th>\n      <td>1</td>\n      <td>3</td>\n      <td>1</td>\n      <td>1</td>\n      <td>0</td>\n      <td>0</td>\n      <td>7.9250</td>\n      <td>S</td>\n      <td>Miss</td>\n      <td>(16.0, 32.0]</td>\n    </tr>\n    <tr>\n      <th>3</th>\n      <td>1</td>\n      <td>1</td>\n      <td>1</td>\n      <td>2</td>\n      <td>1</td>\n      <td>0</td>\n      <td>53.1000</td>\n      <td>S</td>\n      <td>Mrs</td>\n      <td>(32.0, 48.0]</td>\n    </tr>\n    <tr>\n      <th>4</th>\n      <td>0</td>\n      <td>3</td>\n      <td>0</td>\n      <td>2</td>\n      <td>0</td>\n      <td>0</td>\n      <td>8.0500</td>\n      <td>S</td>\n      <td>Mr</td>\n      <td>(32.0, 48.0]</td>\n    </tr>\n  </tbody>\n</table>\n</div>"
     },
     "metadata": {},
     "execution_count": 453
    }
   ],
   "source": [
    "combine = [df, df_test]\n",
    "for dataset in combine:    \n",
    "    dataset.loc[ dataset['Age'] <= 16, 'Age'] = 0\n",
    "    dataset.loc[(dataset['Age'] > 16) & (dataset['Age'] <= 32), 'Age'] = 1\n",
    "    dataset.loc[(dataset['Age'] > 32) & (dataset['Age'] <= 48), 'Age'] = 2\n",
    "    dataset.loc[(dataset['Age'] > 48) & (dataset['Age'] <= 64), 'Age'] = 3\n",
    "    dataset.loc[ dataset['Age'] > 64, 'Age']\n",
    "df.head()"
   ]
  },
  {
   "cell_type": "code",
   "execution_count": 454,
   "metadata": {},
   "outputs": [
    {
     "output_type": "execute_result",
     "data": {
      "text/plain": [
       "   Survived  Pclass  Sex  Age  SibSp  Parch     Fare Embarked Title\n",
       "0         0       3    0    1      1      0   7.2500        S    Mr\n",
       "1         1       1    1    2      1      0  71.2833        C   Mrs\n",
       "2         1       3    1    1      0      0   7.9250        S  Miss\n",
       "3         1       1    1    2      1      0  53.1000        S   Mrs\n",
       "4         0       3    0    2      0      0   8.0500        S    Mr"
      ],
      "text/html": "<div>\n<style scoped>\n    .dataframe tbody tr th:only-of-type {\n        vertical-align: middle;\n    }\n\n    .dataframe tbody tr th {\n        vertical-align: top;\n    }\n\n    .dataframe thead th {\n        text-align: right;\n    }\n</style>\n<table border=\"1\" class=\"dataframe\">\n  <thead>\n    <tr style=\"text-align: right;\">\n      <th></th>\n      <th>Survived</th>\n      <th>Pclass</th>\n      <th>Sex</th>\n      <th>Age</th>\n      <th>SibSp</th>\n      <th>Parch</th>\n      <th>Fare</th>\n      <th>Embarked</th>\n      <th>Title</th>\n    </tr>\n  </thead>\n  <tbody>\n    <tr>\n      <th>0</th>\n      <td>0</td>\n      <td>3</td>\n      <td>0</td>\n      <td>1</td>\n      <td>1</td>\n      <td>0</td>\n      <td>7.2500</td>\n      <td>S</td>\n      <td>Mr</td>\n    </tr>\n    <tr>\n      <th>1</th>\n      <td>1</td>\n      <td>1</td>\n      <td>1</td>\n      <td>2</td>\n      <td>1</td>\n      <td>0</td>\n      <td>71.2833</td>\n      <td>C</td>\n      <td>Mrs</td>\n    </tr>\n    <tr>\n      <th>2</th>\n      <td>1</td>\n      <td>3</td>\n      <td>1</td>\n      <td>1</td>\n      <td>0</td>\n      <td>0</td>\n      <td>7.9250</td>\n      <td>S</td>\n      <td>Miss</td>\n    </tr>\n    <tr>\n      <th>3</th>\n      <td>1</td>\n      <td>1</td>\n      <td>1</td>\n      <td>2</td>\n      <td>1</td>\n      <td>0</td>\n      <td>53.1000</td>\n      <td>S</td>\n      <td>Mrs</td>\n    </tr>\n    <tr>\n      <th>4</th>\n      <td>0</td>\n      <td>3</td>\n      <td>0</td>\n      <td>2</td>\n      <td>0</td>\n      <td>0</td>\n      <td>8.0500</td>\n      <td>S</td>\n      <td>Mr</td>\n    </tr>\n  </tbody>\n</table>\n</div>"
     },
     "metadata": {},
     "execution_count": 454
    }
   ],
   "source": [
    "df = df.drop(['AgeBand'], axis=1)\n",
    "combine = [df, df_test]\n",
    "df.head()"
   ]
  },
  {
   "cell_type": "code",
   "execution_count": 455,
   "metadata": {},
   "outputs": [],
   "source": [
    "for dataset in combine:\n",
    "    dataset['FamilySize'] = dataset['SibSp'] + dataset['Parch'] + 1\n"
   ]
  },
  {
   "cell_type": "code",
   "execution_count": 456,
   "metadata": {},
   "outputs": [],
   "source": [
    "for dataset in combine:\n",
    "    dataset['IsAlone'] = 0\n",
    "    dataset.loc[dataset['FamilySize'] == 1, 'IsAlone'] = 1\n",
    "\n"
   ]
  },
  {
   "cell_type": "code",
   "execution_count": 457,
   "metadata": {},
   "outputs": [
    {
     "output_type": "execute_result",
     "data": {
      "text/plain": [
       "   Survived  Pclass  Sex  Age     Fare Embarked Title  IsAlone\n",
       "0         0       3    0    1   7.2500        S    Mr        0\n",
       "1         1       1    1    2  71.2833        C   Mrs        0\n",
       "2         1       3    1    1   7.9250        S  Miss        1\n",
       "3         1       1    1    2  53.1000        S   Mrs        0\n",
       "4         0       3    0    2   8.0500        S    Mr        1"
      ],
      "text/html": "<div>\n<style scoped>\n    .dataframe tbody tr th:only-of-type {\n        vertical-align: middle;\n    }\n\n    .dataframe tbody tr th {\n        vertical-align: top;\n    }\n\n    .dataframe thead th {\n        text-align: right;\n    }\n</style>\n<table border=\"1\" class=\"dataframe\">\n  <thead>\n    <tr style=\"text-align: right;\">\n      <th></th>\n      <th>Survived</th>\n      <th>Pclass</th>\n      <th>Sex</th>\n      <th>Age</th>\n      <th>Fare</th>\n      <th>Embarked</th>\n      <th>Title</th>\n      <th>IsAlone</th>\n    </tr>\n  </thead>\n  <tbody>\n    <tr>\n      <th>0</th>\n      <td>0</td>\n      <td>3</td>\n      <td>0</td>\n      <td>1</td>\n      <td>7.2500</td>\n      <td>S</td>\n      <td>Mr</td>\n      <td>0</td>\n    </tr>\n    <tr>\n      <th>1</th>\n      <td>1</td>\n      <td>1</td>\n      <td>1</td>\n      <td>2</td>\n      <td>71.2833</td>\n      <td>C</td>\n      <td>Mrs</td>\n      <td>0</td>\n    </tr>\n    <tr>\n      <th>2</th>\n      <td>1</td>\n      <td>3</td>\n      <td>1</td>\n      <td>1</td>\n      <td>7.9250</td>\n      <td>S</td>\n      <td>Miss</td>\n      <td>1</td>\n    </tr>\n    <tr>\n      <th>3</th>\n      <td>1</td>\n      <td>1</td>\n      <td>1</td>\n      <td>2</td>\n      <td>53.1000</td>\n      <td>S</td>\n      <td>Mrs</td>\n      <td>0</td>\n    </tr>\n    <tr>\n      <th>4</th>\n      <td>0</td>\n      <td>3</td>\n      <td>0</td>\n      <td>2</td>\n      <td>8.0500</td>\n      <td>S</td>\n      <td>Mr</td>\n      <td>1</td>\n    </tr>\n  </tbody>\n</table>\n</div>"
     },
     "metadata": {},
     "execution_count": 457
    }
   ],
   "source": [
    "\n",
    "df = df.drop(['Parch', 'SibSp', 'FamilySize'], axis=1)\n",
    "df_test = df_test.drop(['Parch', 'SibSp', 'FamilySize'], axis=1)\n",
    "combine = [df, df_test]\n",
    "\n",
    "df.head()"
   ]
  },
  {
   "cell_type": "code",
   "execution_count": 458,
   "metadata": {},
   "outputs": [],
   "source": [
    "for dataset in combine:\n",
    "    dataset['Age*Class'] = dataset.Age * dataset.Pclass\n",
    "\n"
   ]
  },
  {
   "cell_type": "code",
   "execution_count": 459,
   "metadata": {},
   "outputs": [
    {
     "output_type": "execute_result",
     "data": {
      "text/plain": [
       "'S'"
      ]
     },
     "metadata": {},
     "execution_count": 459
    }
   ],
   "source": [
    "freq_port = df.Embarked.dropna().mode()[0]\n",
    "freq_port"
   ]
  },
  {
   "cell_type": "code",
   "execution_count": 460,
   "metadata": {},
   "outputs": [],
   "source": [
    "for dataset in combine:\n",
    "    dataset['Embarked'] = dataset['Embarked'].fillna(freq_port)\n",
    "    \n"
   ]
  },
  {
   "cell_type": "code",
   "execution_count": 461,
   "metadata": {},
   "outputs": [],
   "source": [
    "for dataset in combine:\n",
    "    dataset['Embarked'] = dataset['Embarked'].map( {'S': 0, 'C': 1, 'Q': 2} ).astype(int)"
   ]
  },
  {
   "cell_type": "code",
   "execution_count": 462,
   "metadata": {},
   "outputs": [
    {
     "output_type": "execute_result",
     "data": {
      "text/plain": [
       "   Pclass  Sex  Age     Fare  Embarked Title  IsAlone  Age*Class\n",
       "0       3    0    2   7.8292         2    Mr        1          6\n",
       "1       3    1    2   7.0000         0   Mrs        0          6\n",
       "2       2    0    3   9.6875         2    Mr        1          6\n",
       "3       3    0    1   8.6625         0    Mr        1          3\n",
       "4       3    1    1  12.2875         0   Mrs        0          3"
      ],
      "text/html": "<div>\n<style scoped>\n    .dataframe tbody tr th:only-of-type {\n        vertical-align: middle;\n    }\n\n    .dataframe tbody tr th {\n        vertical-align: top;\n    }\n\n    .dataframe thead th {\n        text-align: right;\n    }\n</style>\n<table border=\"1\" class=\"dataframe\">\n  <thead>\n    <tr style=\"text-align: right;\">\n      <th></th>\n      <th>Pclass</th>\n      <th>Sex</th>\n      <th>Age</th>\n      <th>Fare</th>\n      <th>Embarked</th>\n      <th>Title</th>\n      <th>IsAlone</th>\n      <th>Age*Class</th>\n    </tr>\n  </thead>\n  <tbody>\n    <tr>\n      <th>0</th>\n      <td>3</td>\n      <td>0</td>\n      <td>2</td>\n      <td>7.8292</td>\n      <td>2</td>\n      <td>Mr</td>\n      <td>1</td>\n      <td>6</td>\n    </tr>\n    <tr>\n      <th>1</th>\n      <td>3</td>\n      <td>1</td>\n      <td>2</td>\n      <td>7.0000</td>\n      <td>0</td>\n      <td>Mrs</td>\n      <td>0</td>\n      <td>6</td>\n    </tr>\n    <tr>\n      <th>2</th>\n      <td>2</td>\n      <td>0</td>\n      <td>3</td>\n      <td>9.6875</td>\n      <td>2</td>\n      <td>Mr</td>\n      <td>1</td>\n      <td>6</td>\n    </tr>\n    <tr>\n      <th>3</th>\n      <td>3</td>\n      <td>0</td>\n      <td>1</td>\n      <td>8.6625</td>\n      <td>0</td>\n      <td>Mr</td>\n      <td>1</td>\n      <td>3</td>\n    </tr>\n    <tr>\n      <th>4</th>\n      <td>3</td>\n      <td>1</td>\n      <td>1</td>\n      <td>12.2875</td>\n      <td>0</td>\n      <td>Mrs</td>\n      <td>0</td>\n      <td>3</td>\n    </tr>\n  </tbody>\n</table>\n</div>"
     },
     "metadata": {},
     "execution_count": 462
    }
   ],
   "source": [
    "df_test['Fare'].fillna(df_test['Fare'].dropna().median(), inplace=True)\n",
    "df_test.head()"
   ]
  },
  {
   "cell_type": "code",
   "execution_count": 463,
   "metadata": {},
   "outputs": [],
   "source": [
    "df['FareBand'] = pd.qcut(df['Fare'], 4)"
   ]
  },
  {
   "cell_type": "code",
   "execution_count": 464,
   "metadata": {},
   "outputs": [],
   "source": [
    "for dataset in combine:\n",
    "    dataset.loc[ dataset['Fare'] <= 7.91, 'Fare'] = 0\n",
    "    dataset.loc[(dataset['Fare'] > 7.91) & (dataset['Fare'] <= 14.454), 'Fare'] = 1\n",
    "    dataset.loc[(dataset['Fare'] > 14.454) & (dataset['Fare'] <= 31), 'Fare']   = 2\n",
    "    dataset.loc[ dataset['Fare'] > 31, 'Fare'] = 3\n",
    "    dataset['Fare'] = dataset['Fare'].astype(int)\n",
    "\n",
    "df = df.drop(['FareBand'], axis=1)\n",
    "combine = [df, df_test]"
   ]
  },
  {
   "cell_type": "code",
   "execution_count": 468,
   "metadata": {},
   "outputs": [
    {
     "output_type": "execute_result",
     "data": {
      "text/plain": [
       "     Pclass  Sex  Age  Fare  Embarked Title  IsAlone  Age*Class\n",
       "0         3    0    1     0         0    Mr        0          3\n",
       "1         1    1    2     3         1   Mrs        0          2\n",
       "2         3    1    1     1         0  Miss        1          3\n",
       "3         1    1    2     3         0   Mrs        0          2\n",
       "4         3    0    2     1         0    Mr        1          6\n",
       "..      ...  ...  ...   ...       ...   ...      ...        ...\n",
       "886       2    0    1     1         0   NaN        1          2\n",
       "887       1    1    1     2         0  Miss        1          1\n",
       "888       3    1    1     2         0  Miss        0          3\n",
       "889       1    0    1     2         1    Mr        1          1\n",
       "890       3    0    1     0         2    Mr        1          3\n",
       "\n",
       "[891 rows x 8 columns]"
      ],
      "text/html": "<div>\n<style scoped>\n    .dataframe tbody tr th:only-of-type {\n        vertical-align: middle;\n    }\n\n    .dataframe tbody tr th {\n        vertical-align: top;\n    }\n\n    .dataframe thead th {\n        text-align: right;\n    }\n</style>\n<table border=\"1\" class=\"dataframe\">\n  <thead>\n    <tr style=\"text-align: right;\">\n      <th></th>\n      <th>Pclass</th>\n      <th>Sex</th>\n      <th>Age</th>\n      <th>Fare</th>\n      <th>Embarked</th>\n      <th>Title</th>\n      <th>IsAlone</th>\n      <th>Age*Class</th>\n    </tr>\n  </thead>\n  <tbody>\n    <tr>\n      <th>0</th>\n      <td>3</td>\n      <td>0</td>\n      <td>1</td>\n      <td>0</td>\n      <td>0</td>\n      <td>Mr</td>\n      <td>0</td>\n      <td>3</td>\n    </tr>\n    <tr>\n      <th>1</th>\n      <td>1</td>\n      <td>1</td>\n      <td>2</td>\n      <td>3</td>\n      <td>1</td>\n      <td>Mrs</td>\n      <td>0</td>\n      <td>2</td>\n    </tr>\n    <tr>\n      <th>2</th>\n      <td>3</td>\n      <td>1</td>\n      <td>1</td>\n      <td>1</td>\n      <td>0</td>\n      <td>Miss</td>\n      <td>1</td>\n      <td>3</td>\n    </tr>\n    <tr>\n      <th>3</th>\n      <td>1</td>\n      <td>1</td>\n      <td>2</td>\n      <td>3</td>\n      <td>0</td>\n      <td>Mrs</td>\n      <td>0</td>\n      <td>2</td>\n    </tr>\n    <tr>\n      <th>4</th>\n      <td>3</td>\n      <td>0</td>\n      <td>2</td>\n      <td>1</td>\n      <td>0</td>\n      <td>Mr</td>\n      <td>1</td>\n      <td>6</td>\n    </tr>\n    <tr>\n      <th>...</th>\n      <td>...</td>\n      <td>...</td>\n      <td>...</td>\n      <td>...</td>\n      <td>...</td>\n      <td>...</td>\n      <td>...</td>\n      <td>...</td>\n    </tr>\n    <tr>\n      <th>886</th>\n      <td>2</td>\n      <td>0</td>\n      <td>1</td>\n      <td>1</td>\n      <td>0</td>\n      <td>NaN</td>\n      <td>1</td>\n      <td>2</td>\n    </tr>\n    <tr>\n      <th>887</th>\n      <td>1</td>\n      <td>1</td>\n      <td>1</td>\n      <td>2</td>\n      <td>0</td>\n      <td>Miss</td>\n      <td>1</td>\n      <td>1</td>\n    </tr>\n    <tr>\n      <th>888</th>\n      <td>3</td>\n      <td>1</td>\n      <td>1</td>\n      <td>2</td>\n      <td>0</td>\n      <td>Miss</td>\n      <td>0</td>\n      <td>3</td>\n    </tr>\n    <tr>\n      <th>889</th>\n      <td>1</td>\n      <td>0</td>\n      <td>1</td>\n      <td>2</td>\n      <td>1</td>\n      <td>Mr</td>\n      <td>1</td>\n      <td>1</td>\n    </tr>\n    <tr>\n      <th>890</th>\n      <td>3</td>\n      <td>0</td>\n      <td>1</td>\n      <td>0</td>\n      <td>2</td>\n      <td>Mr</td>\n      <td>1</td>\n      <td>3</td>\n    </tr>\n  </tbody>\n</table>\n<p>891 rows × 8 columns</p>\n</div>"
     },
     "metadata": {},
     "execution_count": 468
    }
   ],
   "source": [
    "x = df.drop(columns=[\"Survived\"]) # X DATA (WILL BE TRAIN+VALID DATA)\n",
    "y = df[\"Survived\"] # 0 = No, 1 = Yes\n",
    "\n",
    "x_test = df_test # # X_TEST DATA (NEW DATA)\n",
    "x"
   ]
  },
  {
   "cell_type": "code",
   "execution_count": 469,
   "metadata": {},
   "outputs": [
    {
     "output_type": "stream",
     "name": "stdout",
     "text": [
      "\nCategorical features:\n ['Pclass', 'Sex', 'Age', 'Fare', 'Embarked', 'Title', 'IsAlone', 'Age*Class']\n"
     ]
    }
   ],
   "source": [
    "cat_vars=list(x.columns)\n",
    "#print(\"\\nNumerical features:\\n\", num_vars)\n",
    "print(\"\\nCategorical features:\\n\", cat_vars)\n"
   ]
  },
  {
   "cell_type": "code",
   "execution_count": 488,
   "metadata": {},
   "outputs": [
    {
     "output_type": "execute_result",
     "data": {
      "text/plain": [
       "ColumnTransformer(transformers=[('cat mult',\n",
       "                                 Pipeline(steps=[('imputer',\n",
       "                                                  SimpleImputer(fill_value='missing',\n",
       "                                                                strategy='constant')),\n",
       "                                                 ('one hot',\n",
       "                                                  OneHotEncoder(handle_unknown='ignore'))]),\n",
       "                                 ['Pclass', 'Sex', 'Age', 'Fare', 'Embarked',\n",
       "                                  'Title', 'IsAlone', 'Age*Class'])])"
      ],
      "text/html": "<style>#sk-38f238d4-ccb0-463b-ac06-eeb6d406b23a {color: black;background-color: white;}#sk-38f238d4-ccb0-463b-ac06-eeb6d406b23a pre{padding: 0;}#sk-38f238d4-ccb0-463b-ac06-eeb6d406b23a div.sk-toggleable {background-color: white;}#sk-38f238d4-ccb0-463b-ac06-eeb6d406b23a label.sk-toggleable__label {cursor: pointer;display: block;width: 100%;margin-bottom: 0;padding: 0.2em 0.3em;box-sizing: border-box;text-align: center;}#sk-38f238d4-ccb0-463b-ac06-eeb6d406b23a div.sk-toggleable__content {max-height: 0;max-width: 0;overflow: hidden;text-align: left;background-color: #f0f8ff;}#sk-38f238d4-ccb0-463b-ac06-eeb6d406b23a div.sk-toggleable__content pre {margin: 0.2em;color: black;border-radius: 0.25em;background-color: #f0f8ff;}#sk-38f238d4-ccb0-463b-ac06-eeb6d406b23a input.sk-toggleable__control:checked~div.sk-toggleable__content {max-height: 200px;max-width: 100%;overflow: auto;}#sk-38f238d4-ccb0-463b-ac06-eeb6d406b23a div.sk-estimator input.sk-toggleable__control:checked~label.sk-toggleable__label {background-color: #d4ebff;}#sk-38f238d4-ccb0-463b-ac06-eeb6d406b23a div.sk-label input.sk-toggleable__control:checked~label.sk-toggleable__label {background-color: #d4ebff;}#sk-38f238d4-ccb0-463b-ac06-eeb6d406b23a input.sk-hidden--visually {border: 0;clip: rect(1px 1px 1px 1px);clip: rect(1px, 1px, 1px, 1px);height: 1px;margin: -1px;overflow: hidden;padding: 0;position: absolute;width: 1px;}#sk-38f238d4-ccb0-463b-ac06-eeb6d406b23a div.sk-estimator {font-family: monospace;background-color: #f0f8ff;margin: 0.25em 0.25em;border: 1px dotted black;border-radius: 0.25em;box-sizing: border-box;}#sk-38f238d4-ccb0-463b-ac06-eeb6d406b23a div.sk-estimator:hover {background-color: #d4ebff;}#sk-38f238d4-ccb0-463b-ac06-eeb6d406b23a div.sk-parallel-item::after {content: \"\";width: 100%;border-bottom: 1px solid gray;flex-grow: 1;}#sk-38f238d4-ccb0-463b-ac06-eeb6d406b23a div.sk-label:hover label.sk-toggleable__label {background-color: #d4ebff;}#sk-38f238d4-ccb0-463b-ac06-eeb6d406b23a div.sk-serial::before {content: \"\";position: absolute;border-left: 1px solid gray;box-sizing: border-box;top: 2em;bottom: 0;left: 50%;}#sk-38f238d4-ccb0-463b-ac06-eeb6d406b23a div.sk-serial {display: flex;flex-direction: column;align-items: center;background-color: white;}#sk-38f238d4-ccb0-463b-ac06-eeb6d406b23a div.sk-item {z-index: 1;}#sk-38f238d4-ccb0-463b-ac06-eeb6d406b23a div.sk-parallel {display: flex;align-items: stretch;justify-content: center;background-color: white;}#sk-38f238d4-ccb0-463b-ac06-eeb6d406b23a div.sk-parallel-item {display: flex;flex-direction: column;position: relative;background-color: white;}#sk-38f238d4-ccb0-463b-ac06-eeb6d406b23a div.sk-parallel-item:first-child::after {align-self: flex-end;width: 50%;}#sk-38f238d4-ccb0-463b-ac06-eeb6d406b23a div.sk-parallel-item:last-child::after {align-self: flex-start;width: 50%;}#sk-38f238d4-ccb0-463b-ac06-eeb6d406b23a div.sk-parallel-item:only-child::after {width: 0;}#sk-38f238d4-ccb0-463b-ac06-eeb6d406b23a div.sk-dashed-wrapped {border: 1px dashed gray;margin: 0.2em;box-sizing: border-box;padding-bottom: 0.1em;background-color: white;position: relative;}#sk-38f238d4-ccb0-463b-ac06-eeb6d406b23a div.sk-label label {font-family: monospace;font-weight: bold;background-color: white;display: inline-block;line-height: 1.2em;}#sk-38f238d4-ccb0-463b-ac06-eeb6d406b23a div.sk-label-container {position: relative;z-index: 2;text-align: center;}#sk-38f238d4-ccb0-463b-ac06-eeb6d406b23a div.sk-container {display: inline-block;position: relative;}</style><div id=\"sk-38f238d4-ccb0-463b-ac06-eeb6d406b23a\" class\"sk-top-container\"><div class=\"sk-container\"><div class=\"sk-item sk-dashed-wrapped\"><div class=\"sk-label-container\"><div class=\"sk-label sk-toggleable\"><input class=\"sk-toggleable__control sk-hidden--visually\" id=\"b67338ef-3503-4789-b66c-2cfb44ab37c6\" type=\"checkbox\" ><label class=\"sk-toggleable__label\" for=\"b67338ef-3503-4789-b66c-2cfb44ab37c6\">ColumnTransformer</label><div class=\"sk-toggleable__content\"><pre>ColumnTransformer(transformers=[('cat mult',\n                                 Pipeline(steps=[('imputer',\n                                                  SimpleImputer(fill_value='missing',\n                                                                strategy='constant')),\n                                                 ('one hot',\n                                                  OneHotEncoder(handle_unknown='ignore'))]),\n                                 ['Pclass', 'Sex', 'Age', 'Fare', 'Embarked',\n                                  'Title', 'IsAlone', 'Age*Class'])])</pre></div></div></div><div class=\"sk-parallel\"><div class=\"sk-parallel-item\"><div class=\"sk-item\"><div class=\"sk-label-container\"><div class=\"sk-label sk-toggleable\"><input class=\"sk-toggleable__control sk-hidden--visually\" id=\"a21d9acb-0894-4c7b-86a6-7fe628cdaedf\" type=\"checkbox\" ><label class=\"sk-toggleable__label\" for=\"a21d9acb-0894-4c7b-86a6-7fe628cdaedf\">cat mult</label><div class=\"sk-toggleable__content\"><pre>['Pclass', 'Sex', 'Age', 'Fare', 'Embarked', 'Title', 'IsAlone', 'Age*Class']</pre></div></div></div><div class=\"sk-serial\"><div class=\"sk-item\"><div class=\"sk-serial\"><div class=\"sk-item\"><div class=\"sk-estimator sk-toggleable\"><input class=\"sk-toggleable__control sk-hidden--visually\" id=\"c2acc288-196b-4d04-81f8-77e4e2d3e334\" type=\"checkbox\" ><label class=\"sk-toggleable__label\" for=\"c2acc288-196b-4d04-81f8-77e4e2d3e334\">SimpleImputer</label><div class=\"sk-toggleable__content\"><pre>SimpleImputer(fill_value='missing', strategy='constant')</pre></div></div></div><div class=\"sk-item\"><div class=\"sk-estimator sk-toggleable\"><input class=\"sk-toggleable__control sk-hidden--visually\" id=\"da14f7b9-0321-4f97-91a1-3aac2a7d1553\" type=\"checkbox\" ><label class=\"sk-toggleable__label\" for=\"da14f7b9-0321-4f97-91a1-3aac2a7d1553\">OneHotEncoder</label><div class=\"sk-toggleable__content\"><pre>OneHotEncoder(handle_unknown='ignore')</pre></div></div></div></div></div></div></div></div></div></div></div></div>"
     },
     "metadata": {},
     "execution_count": 488
    }
   ],
   "source": [
    "\n",
    "cat_4_multModels = pipeline.Pipeline(steps=[\n",
    "    ('imputer', impute.SimpleImputer(strategy='constant', fill_value='missing')),\n",
    "    ('one hot', preprocessing.OneHotEncoder(handle_unknown=\"ignore\"\n",
    "))\n",
    "])\n",
    "\n",
    "mult_prepro = compose.ColumnTransformer(transformers=[\n",
    "\n",
    "    (\"cat mult\",cat_4_multModels,cat_vars),\n",
    "\n",
    "], remainder='drop')\n",
    "\n",
    "mult_prepro\n",
    "\n"
   ]
  },
  {
   "cell_type": "code",
   "execution_count": 489,
   "metadata": {},
   "outputs": [],
   "source": [
    "from sklearn import svm\n",
    "from sklearn.linear_model import LogisticRegression\n",
    "from sklearn.neighbors import KNeighborsClassifier\n",
    "from sklearn.neural_network import MLPClassifier"
   ]
  },
  {
   "cell_type": "code",
   "execution_count": 490,
   "metadata": {},
   "outputs": [
    {
     "output_type": "execute_result",
     "data": {
      "text/plain": [
       "Pipeline(steps=[('columntransformer',\n",
       "                 ColumnTransformer(transformers=[('cat mult',\n",
       "                                                  Pipeline(steps=[('imputer',\n",
       "                                                                   SimpleImputer(fill_value='missing',\n",
       "                                                                                 strategy='constant')),\n",
       "                                                                  ('one hot',\n",
       "                                                                   OneHotEncoder(handle_unknown='ignore'))]),\n",
       "                                                  ['Pclass', 'Sex', 'Age',\n",
       "                                                   'Fare', 'Embarked', 'Title',\n",
       "                                                   'IsAlone', 'Age*Class'])])),\n",
       "                ('svc', SVC())])"
      ],
      "text/html": "<style>#sk-e3d5b69d-cf06-47db-b012-48a32f264c06 {color: black;background-color: white;}#sk-e3d5b69d-cf06-47db-b012-48a32f264c06 pre{padding: 0;}#sk-e3d5b69d-cf06-47db-b012-48a32f264c06 div.sk-toggleable {background-color: white;}#sk-e3d5b69d-cf06-47db-b012-48a32f264c06 label.sk-toggleable__label {cursor: pointer;display: block;width: 100%;margin-bottom: 0;padding: 0.2em 0.3em;box-sizing: border-box;text-align: center;}#sk-e3d5b69d-cf06-47db-b012-48a32f264c06 div.sk-toggleable__content {max-height: 0;max-width: 0;overflow: hidden;text-align: left;background-color: #f0f8ff;}#sk-e3d5b69d-cf06-47db-b012-48a32f264c06 div.sk-toggleable__content pre {margin: 0.2em;color: black;border-radius: 0.25em;background-color: #f0f8ff;}#sk-e3d5b69d-cf06-47db-b012-48a32f264c06 input.sk-toggleable__control:checked~div.sk-toggleable__content {max-height: 200px;max-width: 100%;overflow: auto;}#sk-e3d5b69d-cf06-47db-b012-48a32f264c06 div.sk-estimator input.sk-toggleable__control:checked~label.sk-toggleable__label {background-color: #d4ebff;}#sk-e3d5b69d-cf06-47db-b012-48a32f264c06 div.sk-label input.sk-toggleable__control:checked~label.sk-toggleable__label {background-color: #d4ebff;}#sk-e3d5b69d-cf06-47db-b012-48a32f264c06 input.sk-hidden--visually {border: 0;clip: rect(1px 1px 1px 1px);clip: rect(1px, 1px, 1px, 1px);height: 1px;margin: -1px;overflow: hidden;padding: 0;position: absolute;width: 1px;}#sk-e3d5b69d-cf06-47db-b012-48a32f264c06 div.sk-estimator {font-family: monospace;background-color: #f0f8ff;margin: 0.25em 0.25em;border: 1px dotted black;border-radius: 0.25em;box-sizing: border-box;}#sk-e3d5b69d-cf06-47db-b012-48a32f264c06 div.sk-estimator:hover {background-color: #d4ebff;}#sk-e3d5b69d-cf06-47db-b012-48a32f264c06 div.sk-parallel-item::after {content: \"\";width: 100%;border-bottom: 1px solid gray;flex-grow: 1;}#sk-e3d5b69d-cf06-47db-b012-48a32f264c06 div.sk-label:hover label.sk-toggleable__label {background-color: #d4ebff;}#sk-e3d5b69d-cf06-47db-b012-48a32f264c06 div.sk-serial::before {content: \"\";position: absolute;border-left: 1px solid gray;box-sizing: border-box;top: 2em;bottom: 0;left: 50%;}#sk-e3d5b69d-cf06-47db-b012-48a32f264c06 div.sk-serial {display: flex;flex-direction: column;align-items: center;background-color: white;}#sk-e3d5b69d-cf06-47db-b012-48a32f264c06 div.sk-item {z-index: 1;}#sk-e3d5b69d-cf06-47db-b012-48a32f264c06 div.sk-parallel {display: flex;align-items: stretch;justify-content: center;background-color: white;}#sk-e3d5b69d-cf06-47db-b012-48a32f264c06 div.sk-parallel-item {display: flex;flex-direction: column;position: relative;background-color: white;}#sk-e3d5b69d-cf06-47db-b012-48a32f264c06 div.sk-parallel-item:first-child::after {align-self: flex-end;width: 50%;}#sk-e3d5b69d-cf06-47db-b012-48a32f264c06 div.sk-parallel-item:last-child::after {align-self: flex-start;width: 50%;}#sk-e3d5b69d-cf06-47db-b012-48a32f264c06 div.sk-parallel-item:only-child::after {width: 0;}#sk-e3d5b69d-cf06-47db-b012-48a32f264c06 div.sk-dashed-wrapped {border: 1px dashed gray;margin: 0.2em;box-sizing: border-box;padding-bottom: 0.1em;background-color: white;position: relative;}#sk-e3d5b69d-cf06-47db-b012-48a32f264c06 div.sk-label label {font-family: monospace;font-weight: bold;background-color: white;display: inline-block;line-height: 1.2em;}#sk-e3d5b69d-cf06-47db-b012-48a32f264c06 div.sk-label-container {position: relative;z-index: 2;text-align: center;}#sk-e3d5b69d-cf06-47db-b012-48a32f264c06 div.sk-container {display: inline-block;position: relative;}</style><div id=\"sk-e3d5b69d-cf06-47db-b012-48a32f264c06\" class\"sk-top-container\"><div class=\"sk-container\"><div class=\"sk-item sk-dashed-wrapped\"><div class=\"sk-label-container\"><div class=\"sk-label sk-toggleable\"><input class=\"sk-toggleable__control sk-hidden--visually\" id=\"807f59ed-8f74-4ea5-82b3-310f37c6816d\" type=\"checkbox\" ><label class=\"sk-toggleable__label\" for=\"807f59ed-8f74-4ea5-82b3-310f37c6816d\">Pipeline</label><div class=\"sk-toggleable__content\"><pre>Pipeline(steps=[('columntransformer',\n                 ColumnTransformer(transformers=[('cat mult',\n                                                  Pipeline(steps=[('imputer',\n                                                                   SimpleImputer(fill_value='missing',\n                                                                                 strategy='constant')),\n                                                                  ('one hot',\n                                                                   OneHotEncoder(handle_unknown='ignore'))]),\n                                                  ['Pclass', 'Sex', 'Age',\n                                                   'Fare', 'Embarked', 'Title',\n                                                   'IsAlone', 'Age*Class'])])),\n                ('svc', SVC())])</pre></div></div></div><div class=\"sk-serial\"><div class=\"sk-item sk-dashed-wrapped\"><div class=\"sk-label-container\"><div class=\"sk-label sk-toggleable\"><input class=\"sk-toggleable__control sk-hidden--visually\" id=\"78657196-a850-4866-b246-c5cd125f91cc\" type=\"checkbox\" ><label class=\"sk-toggleable__label\" for=\"78657196-a850-4866-b246-c5cd125f91cc\">columntransformer: ColumnTransformer</label><div class=\"sk-toggleable__content\"><pre>ColumnTransformer(transformers=[('cat mult',\n                                 Pipeline(steps=[('imputer',\n                                                  SimpleImputer(fill_value='missing',\n                                                                strategy='constant')),\n                                                 ('one hot',\n                                                  OneHotEncoder(handle_unknown='ignore'))]),\n                                 ['Pclass', 'Sex', 'Age', 'Fare', 'Embarked',\n                                  'Title', 'IsAlone', 'Age*Class'])])</pre></div></div></div><div class=\"sk-parallel\"><div class=\"sk-parallel-item\"><div class=\"sk-item\"><div class=\"sk-label-container\"><div class=\"sk-label sk-toggleable\"><input class=\"sk-toggleable__control sk-hidden--visually\" id=\"a2484816-2539-4b33-aeae-2f27885e346f\" type=\"checkbox\" ><label class=\"sk-toggleable__label\" for=\"a2484816-2539-4b33-aeae-2f27885e346f\">cat mult</label><div class=\"sk-toggleable__content\"><pre>['Pclass', 'Sex', 'Age', 'Fare', 'Embarked', 'Title', 'IsAlone', 'Age*Class']</pre></div></div></div><div class=\"sk-serial\"><div class=\"sk-item\"><div class=\"sk-serial\"><div class=\"sk-item\"><div class=\"sk-estimator sk-toggleable\"><input class=\"sk-toggleable__control sk-hidden--visually\" id=\"fe04227f-daef-4b1d-9497-50fa1557e9ef\" type=\"checkbox\" ><label class=\"sk-toggleable__label\" for=\"fe04227f-daef-4b1d-9497-50fa1557e9ef\">SimpleImputer</label><div class=\"sk-toggleable__content\"><pre>SimpleImputer(fill_value='missing', strategy='constant')</pre></div></div></div><div class=\"sk-item\"><div class=\"sk-estimator sk-toggleable\"><input class=\"sk-toggleable__control sk-hidden--visually\" id=\"74b83200-6493-4d7f-8d1b-a0050bbf4a68\" type=\"checkbox\" ><label class=\"sk-toggleable__label\" for=\"74b83200-6493-4d7f-8d1b-a0050bbf4a68\">OneHotEncoder</label><div class=\"sk-toggleable__content\"><pre>OneHotEncoder(handle_unknown='ignore')</pre></div></div></div></div></div></div></div></div></div></div><div class=\"sk-item\"><div class=\"sk-estimator sk-toggleable\"><input class=\"sk-toggleable__control sk-hidden--visually\" id=\"cfe7e279-ca77-427e-8c46-9db015ee4241\" type=\"checkbox\" ><label class=\"sk-toggleable__label\" for=\"cfe7e279-ca77-427e-8c46-9db015ee4241\">SVC</label><div class=\"sk-toggleable__content\"><pre>SVC()</pre></div></div></div></div></div></div></div>"
     },
     "metadata": {},
     "execution_count": 490
    }
   ],
   "source": [
    "mult_classifiers={\n",
    "    \"SVM\": svm.SVC(),\n",
    "    \"Logistic\": LogisticRegression(),\n",
    "    \"KNN\":KNeighborsClassifier(n_neighbors=3),\n",
    "    \"MLP\":MLPClassifier(solver='lbfgs', alpha=1e-5,hidden_layer_sizes=(5, 2), random_state=1)}\n",
    "\n",
    "mult_classifiers = {name: pipeline.make_pipeline(mult_prepro, model) for name, model in mult_classifiers.items()}\n",
    "\n",
    "mult_classifiers[\"SVM\"]"
   ]
  },
  {
   "cell_type": "code",
   "execution_count": 491,
   "metadata": {},
   "outputs": [
    {
     "output_type": "execute_result",
     "data": {
      "text/plain": [
       "<pandas.io.formats.style.Styler at 0x7f2866bc2370>"
      ],
      "text/html": "<style  type=\"text/css\" >\n#T_6ccf2_row0_col1{\n            width:  10em;\n             height:  80%;\n            background:  linear-gradient(90deg,#5fba7d 84.4%, transparent 84.4%);\n        }#T_6ccf2_row0_col2{\n            width:  10em;\n             height:  80%;\n            background:  linear-gradient(90deg,#5fba7d 82.7%, transparent 82.7%);\n        }#T_6ccf2_row1_col1{\n            width:  10em;\n             height:  80%;\n            background:  linear-gradient(90deg,#5fba7d 83.8%, transparent 83.8%);\n        }#T_6ccf2_row1_col2{\n            width:  10em;\n             height:  80%;\n            background:  linear-gradient(90deg,#5fba7d 80.9%, transparent 80.9%);\n        }#T_6ccf2_row2_col1{\n            width:  10em;\n             height:  80%;\n            background:  linear-gradient(90deg,#5fba7d 81.0%, transparent 81.0%);\n        }#T_6ccf2_row2_col2{\n            width:  10em;\n             height:  80%;\n            background:  linear-gradient(90deg,#5fba7d 82.1%, transparent 82.1%);\n        }#T_6ccf2_row3_col1,#T_6ccf2_row3_col2{\n            width:  10em;\n             height:  80%;\n            background:  linear-gradient(90deg,#5fba7d 78.2%, transparent 78.2%);\n        }</style><table id=\"T_6ccf2_\" ><thead>    <tr>        <th class=\"blank level0\" ></th>        <th class=\"col_heading level0 col0\" >Model</th>        <th class=\"col_heading level0 col1\" >Accuracy</th>        <th class=\"col_heading level0 col2\" >Bal Acc.</th>        <th class=\"col_heading level0 col3\" >Time</th>    </tr></thead><tbody>\n                <tr>\n                        <th id=\"T_6ccf2_level0_row0\" class=\"row_heading level0 row0\" >1</th>\n                        <td id=\"T_6ccf2_row0_col0\" class=\"data row0 col0\" >Logistic</td>\n                        <td id=\"T_6ccf2_row0_col1\" class=\"data row0 col1\" >84.357542</td>\n                        <td id=\"T_6ccf2_row0_col2\" class=\"data row0 col2\" >82.681159</td>\n                        <td id=\"T_6ccf2_row0_col3\" class=\"data row0 col3\" >0.038644</td>\n            </tr>\n            <tr>\n                        <th id=\"T_6ccf2_level0_row1\" class=\"row_heading level0 row1\" >2</th>\n                        <td id=\"T_6ccf2_row1_col0\" class=\"data row1 col0\" >SVM</td>\n                        <td id=\"T_6ccf2_row1_col1\" class=\"data row1 col1\" >83.798883</td>\n                        <td id=\"T_6ccf2_row1_col2\" class=\"data row1 col2\" >80.876153</td>\n                        <td id=\"T_6ccf2_row1_col3\" class=\"data row1 col3\" >0.055426</td>\n            </tr>\n            <tr>\n                        <th id=\"T_6ccf2_level0_row2\" class=\"row_heading level0 row2\" >3</th>\n                        <td id=\"T_6ccf2_row2_col0\" class=\"data row2 col0\" >MLP</td>\n                        <td id=\"T_6ccf2_row2_col1\" class=\"data row2 col1\" >81.005587</td>\n                        <td id=\"T_6ccf2_row2_col2\" class=\"data row2 col2\" >82.114625</td>\n                        <td id=\"T_6ccf2_row2_col3\" class=\"data row2 col3\" >0.229092</td>\n            </tr>\n            <tr>\n                        <th id=\"T_6ccf2_level0_row3\" class=\"row_heading level0 row3\" >4</th>\n                        <td id=\"T_6ccf2_row3_col0\" class=\"data row3 col0\" >KNN</td>\n                        <td id=\"T_6ccf2_row3_col1\" class=\"data row3 col1\" >78.212291</td>\n                        <td id=\"T_6ccf2_row3_col2\" class=\"data row3 col2\" >78.221344</td>\n                        <td id=\"T_6ccf2_row3_col3\" class=\"data row3 col3\" >0.030334</td>\n            </tr>\n    </tbody></table>"
     },
     "metadata": {},
     "execution_count": 491
    }
   ],
   "source": [
    "\n",
    "x_train, x_val, y_train, y_val = model_selection.train_test_split(x,y, test_size=0.2,stratify = y, random_state=4)\n",
    "\n",
    "\n",
    "\n",
    "\n",
    "results = pd.DataFrame({'Model': [], 'Accuracy': [], 'Bal Acc.': [], 'Time': []})\n",
    "\n",
    "for model_name, model in mult_classifiers.items():\n",
    "    start_time = time.time()\n",
    "    \n",
    "    # FOR EVERY PIPELINE (PREPRO + MODEL) -> TRAIN WITH TRAIN DATA (x_train)\n",
    "    model.fit(x_train,y_train)\n",
    "    # GET PREDICTIONS USING x_val\n",
    "    pred = model.predict(x_val)\n",
    "\n",
    "    total_time = time.time() - start_time\n",
    "\n",
    "    results = results.append({\"Model\":    model_name,\n",
    "                              \"Accuracy\": metrics.accuracy_score(y_val, pred)*100,\n",
    "                              \"Bal Acc.\": metrics.balanced_accuracy_score(y_val, pred)*100,\n",
    "                              \"Time\":     total_time},\n",
    "                              ignore_index=True)\n",
    "                              \n",
    "                              \n",
    "\n",
    "\n",
    "\n",
    "\n",
    "\n",
    "results_ord = results.sort_values(by=['Accuracy'], ascending=False, ignore_index=True)\n",
    "results_ord.index += 1 \n",
    "results_ord.style.bar(subset=['Accuracy', 'Bal Acc.'], vmin=0, vmax=100, color='#5fba7d')"
   ]
  },
  {
   "cell_type": "code",
   "execution_count": 511,
   "metadata": {},
   "outputs": [
    {
     "output_type": "execute_result",
     "data": {
      "text/plain": [
       "ColumnTransformer(transformers=[('cat mult',\n",
       "                                 Pipeline(steps=[('imputer',\n",
       "                                                  SimpleImputer(fill_value='missing',\n",
       "                                                                strategy='constant')),\n",
       "                                                 ('one hot',\n",
       "                                                  OrdinalEncoder(handle_unknown='use_encoded_value',\n",
       "                                                                 unknown_value=nan))]),\n",
       "                                 ['Pclass', 'Sex', 'Age', 'Fare', 'Embarked',\n",
       "                                  'Title', 'IsAlone', 'Age*Class'])])"
      ],
      "text/html": "<style>#sk-26717f91-99ca-4b86-a4f6-13ce331233f4 {color: black;background-color: white;}#sk-26717f91-99ca-4b86-a4f6-13ce331233f4 pre{padding: 0;}#sk-26717f91-99ca-4b86-a4f6-13ce331233f4 div.sk-toggleable {background-color: white;}#sk-26717f91-99ca-4b86-a4f6-13ce331233f4 label.sk-toggleable__label {cursor: pointer;display: block;width: 100%;margin-bottom: 0;padding: 0.2em 0.3em;box-sizing: border-box;text-align: center;}#sk-26717f91-99ca-4b86-a4f6-13ce331233f4 div.sk-toggleable__content {max-height: 0;max-width: 0;overflow: hidden;text-align: left;background-color: #f0f8ff;}#sk-26717f91-99ca-4b86-a4f6-13ce331233f4 div.sk-toggleable__content pre {margin: 0.2em;color: black;border-radius: 0.25em;background-color: #f0f8ff;}#sk-26717f91-99ca-4b86-a4f6-13ce331233f4 input.sk-toggleable__control:checked~div.sk-toggleable__content {max-height: 200px;max-width: 100%;overflow: auto;}#sk-26717f91-99ca-4b86-a4f6-13ce331233f4 div.sk-estimator input.sk-toggleable__control:checked~label.sk-toggleable__label {background-color: #d4ebff;}#sk-26717f91-99ca-4b86-a4f6-13ce331233f4 div.sk-label input.sk-toggleable__control:checked~label.sk-toggleable__label {background-color: #d4ebff;}#sk-26717f91-99ca-4b86-a4f6-13ce331233f4 input.sk-hidden--visually {border: 0;clip: rect(1px 1px 1px 1px);clip: rect(1px, 1px, 1px, 1px);height: 1px;margin: -1px;overflow: hidden;padding: 0;position: absolute;width: 1px;}#sk-26717f91-99ca-4b86-a4f6-13ce331233f4 div.sk-estimator {font-family: monospace;background-color: #f0f8ff;margin: 0.25em 0.25em;border: 1px dotted black;border-radius: 0.25em;box-sizing: border-box;}#sk-26717f91-99ca-4b86-a4f6-13ce331233f4 div.sk-estimator:hover {background-color: #d4ebff;}#sk-26717f91-99ca-4b86-a4f6-13ce331233f4 div.sk-parallel-item::after {content: \"\";width: 100%;border-bottom: 1px solid gray;flex-grow: 1;}#sk-26717f91-99ca-4b86-a4f6-13ce331233f4 div.sk-label:hover label.sk-toggleable__label {background-color: #d4ebff;}#sk-26717f91-99ca-4b86-a4f6-13ce331233f4 div.sk-serial::before {content: \"\";position: absolute;border-left: 1px solid gray;box-sizing: border-box;top: 2em;bottom: 0;left: 50%;}#sk-26717f91-99ca-4b86-a4f6-13ce331233f4 div.sk-serial {display: flex;flex-direction: column;align-items: center;background-color: white;}#sk-26717f91-99ca-4b86-a4f6-13ce331233f4 div.sk-item {z-index: 1;}#sk-26717f91-99ca-4b86-a4f6-13ce331233f4 div.sk-parallel {display: flex;align-items: stretch;justify-content: center;background-color: white;}#sk-26717f91-99ca-4b86-a4f6-13ce331233f4 div.sk-parallel-item {display: flex;flex-direction: column;position: relative;background-color: white;}#sk-26717f91-99ca-4b86-a4f6-13ce331233f4 div.sk-parallel-item:first-child::after {align-self: flex-end;width: 50%;}#sk-26717f91-99ca-4b86-a4f6-13ce331233f4 div.sk-parallel-item:last-child::after {align-self: flex-start;width: 50%;}#sk-26717f91-99ca-4b86-a4f6-13ce331233f4 div.sk-parallel-item:only-child::after {width: 0;}#sk-26717f91-99ca-4b86-a4f6-13ce331233f4 div.sk-dashed-wrapped {border: 1px dashed gray;margin: 0.2em;box-sizing: border-box;padding-bottom: 0.1em;background-color: white;position: relative;}#sk-26717f91-99ca-4b86-a4f6-13ce331233f4 div.sk-label label {font-family: monospace;font-weight: bold;background-color: white;display: inline-block;line-height: 1.2em;}#sk-26717f91-99ca-4b86-a4f6-13ce331233f4 div.sk-label-container {position: relative;z-index: 2;text-align: center;}#sk-26717f91-99ca-4b86-a4f6-13ce331233f4 div.sk-container {display: inline-block;position: relative;}</style><div id=\"sk-26717f91-99ca-4b86-a4f6-13ce331233f4\" class\"sk-top-container\"><div class=\"sk-container\"><div class=\"sk-item sk-dashed-wrapped\"><div class=\"sk-label-container\"><div class=\"sk-label sk-toggleable\"><input class=\"sk-toggleable__control sk-hidden--visually\" id=\"43c0c5f1-7752-4952-8fb8-1d4b936c3ee7\" type=\"checkbox\" ><label class=\"sk-toggleable__label\" for=\"43c0c5f1-7752-4952-8fb8-1d4b936c3ee7\">ColumnTransformer</label><div class=\"sk-toggleable__content\"><pre>ColumnTransformer(transformers=[('cat mult',\n                                 Pipeline(steps=[('imputer',\n                                                  SimpleImputer(fill_value='missing',\n                                                                strategy='constant')),\n                                                 ('one hot',\n                                                  OrdinalEncoder(handle_unknown='use_encoded_value',\n                                                                 unknown_value=nan))]),\n                                 ['Pclass', 'Sex', 'Age', 'Fare', 'Embarked',\n                                  'Title', 'IsAlone', 'Age*Class'])])</pre></div></div></div><div class=\"sk-parallel\"><div class=\"sk-parallel-item\"><div class=\"sk-item\"><div class=\"sk-label-container\"><div class=\"sk-label sk-toggleable\"><input class=\"sk-toggleable__control sk-hidden--visually\" id=\"c11b600c-937d-4731-ac2e-737178bb5f63\" type=\"checkbox\" ><label class=\"sk-toggleable__label\" for=\"c11b600c-937d-4731-ac2e-737178bb5f63\">cat mult</label><div class=\"sk-toggleable__content\"><pre>['Pclass', 'Sex', 'Age', 'Fare', 'Embarked', 'Title', 'IsAlone', 'Age*Class']</pre></div></div></div><div class=\"sk-serial\"><div class=\"sk-item\"><div class=\"sk-serial\"><div class=\"sk-item\"><div class=\"sk-estimator sk-toggleable\"><input class=\"sk-toggleable__control sk-hidden--visually\" id=\"14c7b586-8267-48c6-aa07-53160bdce077\" type=\"checkbox\" ><label class=\"sk-toggleable__label\" for=\"14c7b586-8267-48c6-aa07-53160bdce077\">SimpleImputer</label><div class=\"sk-toggleable__content\"><pre>SimpleImputer(fill_value='missing', strategy='constant')</pre></div></div></div><div class=\"sk-item\"><div class=\"sk-estimator sk-toggleable\"><input class=\"sk-toggleable__control sk-hidden--visually\" id=\"228c8015-247b-4433-8d7d-4c5c5f25bb95\" type=\"checkbox\" ><label class=\"sk-toggleable__label\" for=\"228c8015-247b-4433-8d7d-4c5c5f25bb95\">OrdinalEncoder</label><div class=\"sk-toggleable__content\"><pre>OrdinalEncoder(handle_unknown='use_encoded_value', unknown_value=nan)</pre></div></div></div></div></div></div></div></div></div></div></div></div>"
     },
     "metadata": {},
     "execution_count": 511
    }
   ],
   "source": [
    "\n",
    "cat_4_treeModels = pipeline.Pipeline(steps=[\n",
    "    ('imputer', impute.SimpleImputer(strategy='constant', fill_value='missing')),\n",
    "    ('one hot', preprocessing.OrdinalEncoder(handle_unknown=\"use_encoded_value\",unknown_value=np.nan\n",
    "))\n",
    "])\n",
    "\n",
    "tree_prepro = compose.ColumnTransformer(transformers=[\n",
    "\n",
    "    (\"cat mult\",cat_4_treeModels,cat_vars),\n",
    "\n",
    "], remainder='drop')\n",
    "\n",
    "tree_prepro\n"
   ]
  },
  {
   "cell_type": "code",
   "execution_count": 512,
   "metadata": {},
   "outputs": [],
   "source": [
    "from sklearn.tree          import DecisionTreeClassifier\n",
    "from sklearn.ensemble      import RandomForestClassifier\n",
    "from sklearn.ensemble      import ExtraTreesClassifier\n",
    "from sklearn.ensemble      import AdaBoostClassifier\n",
    "from sklearn.ensemble      import GradientBoostingClassifier\n",
    "from sklearn.experimental  import enable_hist_gradient_boosting # Necesary for HistGradientBoostingClassifier\n",
    "from sklearn.ensemble      import HistGradientBoostingClassifier\n",
    "from xgboost               import XGBClassifier\n",
    "from lightgbm              import LGBMClassifier\n",
    "from catboost              import CatBoostClassifier"
   ]
  },
  {
   "cell_type": "code",
   "execution_count": 513,
   "metadata": {},
   "outputs": [
    {
     "output_type": "execute_result",
     "data": {
      "text/plain": [
       "Pipeline(steps=[('columntransformer',\n",
       "                 ColumnTransformer(transformers=[('cat mult',\n",
       "                                                  Pipeline(steps=[('imputer',\n",
       "                                                                   SimpleImputer(fill_value='missing',\n",
       "                                                                                 strategy='constant')),\n",
       "                                                                  ('one hot',\n",
       "                                                                   OrdinalEncoder(handle_unknown='use_encoded_value',\n",
       "                                                                                  unknown_value=nan))]),\n",
       "                                                  ['Pclass', 'Sex', 'Age',\n",
       "                                                   'Fare', 'Embarked', 'Title',\n",
       "                                                   'IsAlone', 'Age*Class'])])),\n",
       "                ('lgbmclassifier', LGBMClassifier())])"
      ],
      "text/html": "<style>#sk-a0adc78d-d16c-4941-be68-d6655f7bd3f1 {color: black;background-color: white;}#sk-a0adc78d-d16c-4941-be68-d6655f7bd3f1 pre{padding: 0;}#sk-a0adc78d-d16c-4941-be68-d6655f7bd3f1 div.sk-toggleable {background-color: white;}#sk-a0adc78d-d16c-4941-be68-d6655f7bd3f1 label.sk-toggleable__label {cursor: pointer;display: block;width: 100%;margin-bottom: 0;padding: 0.2em 0.3em;box-sizing: border-box;text-align: center;}#sk-a0adc78d-d16c-4941-be68-d6655f7bd3f1 div.sk-toggleable__content {max-height: 0;max-width: 0;overflow: hidden;text-align: left;background-color: #f0f8ff;}#sk-a0adc78d-d16c-4941-be68-d6655f7bd3f1 div.sk-toggleable__content pre {margin: 0.2em;color: black;border-radius: 0.25em;background-color: #f0f8ff;}#sk-a0adc78d-d16c-4941-be68-d6655f7bd3f1 input.sk-toggleable__control:checked~div.sk-toggleable__content {max-height: 200px;max-width: 100%;overflow: auto;}#sk-a0adc78d-d16c-4941-be68-d6655f7bd3f1 div.sk-estimator input.sk-toggleable__control:checked~label.sk-toggleable__label {background-color: #d4ebff;}#sk-a0adc78d-d16c-4941-be68-d6655f7bd3f1 div.sk-label input.sk-toggleable__control:checked~label.sk-toggleable__label {background-color: #d4ebff;}#sk-a0adc78d-d16c-4941-be68-d6655f7bd3f1 input.sk-hidden--visually {border: 0;clip: rect(1px 1px 1px 1px);clip: rect(1px, 1px, 1px, 1px);height: 1px;margin: -1px;overflow: hidden;padding: 0;position: absolute;width: 1px;}#sk-a0adc78d-d16c-4941-be68-d6655f7bd3f1 div.sk-estimator {font-family: monospace;background-color: #f0f8ff;margin: 0.25em 0.25em;border: 1px dotted black;border-radius: 0.25em;box-sizing: border-box;}#sk-a0adc78d-d16c-4941-be68-d6655f7bd3f1 div.sk-estimator:hover {background-color: #d4ebff;}#sk-a0adc78d-d16c-4941-be68-d6655f7bd3f1 div.sk-parallel-item::after {content: \"\";width: 100%;border-bottom: 1px solid gray;flex-grow: 1;}#sk-a0adc78d-d16c-4941-be68-d6655f7bd3f1 div.sk-label:hover label.sk-toggleable__label {background-color: #d4ebff;}#sk-a0adc78d-d16c-4941-be68-d6655f7bd3f1 div.sk-serial::before {content: \"\";position: absolute;border-left: 1px solid gray;box-sizing: border-box;top: 2em;bottom: 0;left: 50%;}#sk-a0adc78d-d16c-4941-be68-d6655f7bd3f1 div.sk-serial {display: flex;flex-direction: column;align-items: center;background-color: white;}#sk-a0adc78d-d16c-4941-be68-d6655f7bd3f1 div.sk-item {z-index: 1;}#sk-a0adc78d-d16c-4941-be68-d6655f7bd3f1 div.sk-parallel {display: flex;align-items: stretch;justify-content: center;background-color: white;}#sk-a0adc78d-d16c-4941-be68-d6655f7bd3f1 div.sk-parallel-item {display: flex;flex-direction: column;position: relative;background-color: white;}#sk-a0adc78d-d16c-4941-be68-d6655f7bd3f1 div.sk-parallel-item:first-child::after {align-self: flex-end;width: 50%;}#sk-a0adc78d-d16c-4941-be68-d6655f7bd3f1 div.sk-parallel-item:last-child::after {align-self: flex-start;width: 50%;}#sk-a0adc78d-d16c-4941-be68-d6655f7bd3f1 div.sk-parallel-item:only-child::after {width: 0;}#sk-a0adc78d-d16c-4941-be68-d6655f7bd3f1 div.sk-dashed-wrapped {border: 1px dashed gray;margin: 0.2em;box-sizing: border-box;padding-bottom: 0.1em;background-color: white;position: relative;}#sk-a0adc78d-d16c-4941-be68-d6655f7bd3f1 div.sk-label label {font-family: monospace;font-weight: bold;background-color: white;display: inline-block;line-height: 1.2em;}#sk-a0adc78d-d16c-4941-be68-d6655f7bd3f1 div.sk-label-container {position: relative;z-index: 2;text-align: center;}#sk-a0adc78d-d16c-4941-be68-d6655f7bd3f1 div.sk-container {display: inline-block;position: relative;}</style><div id=\"sk-a0adc78d-d16c-4941-be68-d6655f7bd3f1\" class\"sk-top-container\"><div class=\"sk-container\"><div class=\"sk-item sk-dashed-wrapped\"><div class=\"sk-label-container\"><div class=\"sk-label sk-toggleable\"><input class=\"sk-toggleable__control sk-hidden--visually\" id=\"681ea667-d22e-42bd-987d-f688db9abe22\" type=\"checkbox\" ><label class=\"sk-toggleable__label\" for=\"681ea667-d22e-42bd-987d-f688db9abe22\">Pipeline</label><div class=\"sk-toggleable__content\"><pre>Pipeline(steps=[('columntransformer',\n                 ColumnTransformer(transformers=[('cat mult',\n                                                  Pipeline(steps=[('imputer',\n                                                                   SimpleImputer(fill_value='missing',\n                                                                                 strategy='constant')),\n                                                                  ('one hot',\n                                                                   OrdinalEncoder(handle_unknown='use_encoded_value',\n                                                                                  unknown_value=nan))]),\n                                                  ['Pclass', 'Sex', 'Age',\n                                                   'Fare', 'Embarked', 'Title',\n                                                   'IsAlone', 'Age*Class'])])),\n                ('lgbmclassifier', LGBMClassifier())])</pre></div></div></div><div class=\"sk-serial\"><div class=\"sk-item sk-dashed-wrapped\"><div class=\"sk-label-container\"><div class=\"sk-label sk-toggleable\"><input class=\"sk-toggleable__control sk-hidden--visually\" id=\"c924bee2-1efe-4df5-af85-89180b1355f8\" type=\"checkbox\" ><label class=\"sk-toggleable__label\" for=\"c924bee2-1efe-4df5-af85-89180b1355f8\">columntransformer: ColumnTransformer</label><div class=\"sk-toggleable__content\"><pre>ColumnTransformer(transformers=[('cat mult',\n                                 Pipeline(steps=[('imputer',\n                                                  SimpleImputer(fill_value='missing',\n                                                                strategy='constant')),\n                                                 ('one hot',\n                                                  OrdinalEncoder(handle_unknown='use_encoded_value',\n                                                                 unknown_value=nan))]),\n                                 ['Pclass', 'Sex', 'Age', 'Fare', 'Embarked',\n                                  'Title', 'IsAlone', 'Age*Class'])])</pre></div></div></div><div class=\"sk-parallel\"><div class=\"sk-parallel-item\"><div class=\"sk-item\"><div class=\"sk-label-container\"><div class=\"sk-label sk-toggleable\"><input class=\"sk-toggleable__control sk-hidden--visually\" id=\"507a56bb-4d33-466c-b6b7-5c864df263e3\" type=\"checkbox\" ><label class=\"sk-toggleable__label\" for=\"507a56bb-4d33-466c-b6b7-5c864df263e3\">cat mult</label><div class=\"sk-toggleable__content\"><pre>['Pclass', 'Sex', 'Age', 'Fare', 'Embarked', 'Title', 'IsAlone', 'Age*Class']</pre></div></div></div><div class=\"sk-serial\"><div class=\"sk-item\"><div class=\"sk-serial\"><div class=\"sk-item\"><div class=\"sk-estimator sk-toggleable\"><input class=\"sk-toggleable__control sk-hidden--visually\" id=\"71ac2306-6014-48f7-9674-901032681e0b\" type=\"checkbox\" ><label class=\"sk-toggleable__label\" for=\"71ac2306-6014-48f7-9674-901032681e0b\">SimpleImputer</label><div class=\"sk-toggleable__content\"><pre>SimpleImputer(fill_value='missing', strategy='constant')</pre></div></div></div><div class=\"sk-item\"><div class=\"sk-estimator sk-toggleable\"><input class=\"sk-toggleable__control sk-hidden--visually\" id=\"9ab91a72-963d-4eff-8d7a-daff2bd9758f\" type=\"checkbox\" ><label class=\"sk-toggleable__label\" for=\"9ab91a72-963d-4eff-8d7a-daff2bd9758f\">OrdinalEncoder</label><div class=\"sk-toggleable__content\"><pre>OrdinalEncoder(handle_unknown='use_encoded_value', unknown_value=nan)</pre></div></div></div></div></div></div></div></div></div></div><div class=\"sk-item\"><div class=\"sk-estimator sk-toggleable\"><input class=\"sk-toggleable__control sk-hidden--visually\" id=\"998b376c-78aa-4339-9a8c-82e081d5e066\" type=\"checkbox\" ><label class=\"sk-toggleable__label\" for=\"998b376c-78aa-4339-9a8c-82e081d5e066\">LGBMClassifier</label><div class=\"sk-toggleable__content\"><pre>LGBMClassifier()</pre></div></div></div></div></div></div></div>"
     },
     "metadata": {},
     "execution_count": 513
    }
   ],
   "source": [
    "\n",
    "tree_classifiers = {\n",
    "  \"Decision Tree\": DecisionTreeClassifier(),\n",
    "  \"Extra Trees\": ExtraTreesClassifier(),\n",
    "  \"Random Forest\": RandomForestClassifier(),\n",
    "  \"AdaBoost\": AdaBoostClassifier(),\n",
    "  \"Skl GBM\": GradientBoostingClassifier(),\n",
    "  \"Skl HistGBM\": GradientBoostingClassifier(),\n",
    "  \"XGBoost\": XGBClassifier(),\n",
    "  \"LightGBM\": LGBMClassifier(),\n",
    "  \"CatBoost\": CatBoostClassifier() }\n",
    "\n",
    "\n",
    "# YOUR CODE HERE\n",
    "\n",
    "\n",
    "tree_classifiers = {name: pipeline.make_pipeline(tree_prepro, model) for name, model in tree_classifiers.items()}\n",
    "\n",
    "tree_classifiers[\"LightGBM\"]"
   ]
  },
  {
   "cell_type": "code",
   "execution_count": 516,
   "metadata": {
    "tags": [
     "outputPrepend"
    ]
   },
   "outputs": [
    {
     "output_type": "stream",
     "name": "stderr",
     "text": [
      "s\tremaining: 272ms\n",
      "618:\tlearn: 0.3428915\ttotal: 441ms\tremaining: 271ms\n",
      "619:\tlearn: 0.3428816\ttotal: 441ms\tremaining: 270ms\n",
      "620:\tlearn: 0.3428272\ttotal: 442ms\tremaining: 270ms\n",
      "621:\tlearn: 0.3427919\ttotal: 443ms\tremaining: 269ms\n",
      "622:\tlearn: 0.3427446\ttotal: 443ms\tremaining: 268ms\n",
      "623:\tlearn: 0.3426695\ttotal: 444ms\tremaining: 268ms\n",
      "624:\tlearn: 0.3426594\ttotal: 445ms\tremaining: 267ms\n",
      "625:\tlearn: 0.3426265\ttotal: 445ms\tremaining: 266ms\n",
      "626:\tlearn: 0.3425825\ttotal: 446ms\tremaining: 265ms\n",
      "627:\tlearn: 0.3425174\ttotal: 447ms\tremaining: 264ms\n",
      "628:\tlearn: 0.3424254\ttotal: 447ms\tremaining: 264ms\n",
      "629:\tlearn: 0.3423728\ttotal: 448ms\tremaining: 263ms\n",
      "630:\tlearn: 0.3423416\ttotal: 448ms\tremaining: 262ms\n",
      "631:\tlearn: 0.3422881\ttotal: 449ms\tremaining: 261ms\n",
      "632:\tlearn: 0.3422673\ttotal: 449ms\tremaining: 261ms\n",
      "633:\tlearn: 0.3421481\ttotal: 450ms\tremaining: 260ms\n",
      "634:\tlearn: 0.3421113\ttotal: 451ms\tremaining: 259ms\n",
      "635:\tlearn: 0.3420720\ttotal: 451ms\tremaining: 258ms\n",
      "636:\tlearn: 0.3419351\ttotal: 452ms\tremaining: 258ms\n",
      "637:\tlearn: 0.3419167\ttotal: 453ms\tremaining: 257ms\n",
      "638:\tlearn: 0.3418768\ttotal: 453ms\tremaining: 256ms\n",
      "639:\tlearn: 0.3418723\ttotal: 454ms\tremaining: 255ms\n",
      "640:\tlearn: 0.3418690\ttotal: 454ms\tremaining: 254ms\n",
      "641:\tlearn: 0.3418292\ttotal: 455ms\tremaining: 254ms\n",
      "642:\tlearn: 0.3417989\ttotal: 455ms\tremaining: 253ms\n",
      "643:\tlearn: 0.3417859\ttotal: 456ms\tremaining: 252ms\n",
      "644:\tlearn: 0.3417830\ttotal: 457ms\tremaining: 251ms\n",
      "645:\tlearn: 0.3417058\ttotal: 457ms\tremaining: 250ms\n",
      "646:\tlearn: 0.3416421\ttotal: 458ms\tremaining: 250ms\n",
      "647:\tlearn: 0.3415751\ttotal: 458ms\tremaining: 249ms\n",
      "648:\tlearn: 0.3413933\ttotal: 459ms\tremaining: 248ms\n",
      "649:\tlearn: 0.3412777\ttotal: 459ms\tremaining: 247ms\n",
      "650:\tlearn: 0.3411246\ttotal: 460ms\tremaining: 247ms\n",
      "651:\tlearn: 0.3410778\ttotal: 461ms\tremaining: 246ms\n",
      "652:\tlearn: 0.3410750\ttotal: 461ms\tremaining: 245ms\n",
      "653:\tlearn: 0.3410144\ttotal: 462ms\tremaining: 244ms\n",
      "654:\tlearn: 0.3409735\ttotal: 462ms\tremaining: 244ms\n",
      "655:\tlearn: 0.3409050\ttotal: 463ms\tremaining: 243ms\n",
      "656:\tlearn: 0.3408600\ttotal: 464ms\tremaining: 242ms\n",
      "657:\tlearn: 0.3408126\ttotal: 464ms\tremaining: 241ms\n",
      "658:\tlearn: 0.3407127\ttotal: 465ms\tremaining: 241ms\n",
      "659:\tlearn: 0.3406658\ttotal: 466ms\tremaining: 240ms\n",
      "660:\tlearn: 0.3405741\ttotal: 466ms\tremaining: 239ms\n",
      "661:\tlearn: 0.3405374\ttotal: 467ms\tremaining: 238ms\n",
      "662:\tlearn: 0.3403853\ttotal: 468ms\tremaining: 238ms\n",
      "663:\tlearn: 0.3403379\ttotal: 468ms\tremaining: 237ms\n",
      "664:\tlearn: 0.3402689\ttotal: 469ms\tremaining: 236ms\n",
      "665:\tlearn: 0.3402410\ttotal: 470ms\tremaining: 236ms\n",
      "666:\tlearn: 0.3401874\ttotal: 471ms\tremaining: 235ms\n",
      "667:\tlearn: 0.3401729\ttotal: 471ms\tremaining: 234ms\n",
      "668:\tlearn: 0.3401177\ttotal: 472ms\tremaining: 233ms\n",
      "669:\tlearn: 0.3400906\ttotal: 472ms\tremaining: 233ms\n",
      "670:\tlearn: 0.3400133\ttotal: 473ms\tremaining: 232ms\n",
      "671:\tlearn: 0.3399000\ttotal: 474ms\tremaining: 231ms\n",
      "672:\tlearn: 0.3398470\ttotal: 474ms\tremaining: 231ms\n",
      "673:\tlearn: 0.3398290\ttotal: 475ms\tremaining: 230ms\n",
      "674:\tlearn: 0.3397237\ttotal: 476ms\tremaining: 229ms\n",
      "675:\tlearn: 0.3396157\ttotal: 476ms\tremaining: 228ms\n",
      "676:\tlearn: 0.3395522\ttotal: 477ms\tremaining: 228ms\n",
      "677:\tlearn: 0.3395092\ttotal: 478ms\tremaining: 227ms\n",
      "678:\tlearn: 0.3394086\ttotal: 478ms\tremaining: 226ms\n",
      "679:\tlearn: 0.3393946\ttotal: 480ms\tremaining: 226ms\n",
      "680:\tlearn: 0.3393816\ttotal: 481ms\tremaining: 225ms\n",
      "681:\tlearn: 0.3393695\ttotal: 481ms\tremaining: 224ms\n",
      "682:\tlearn: 0.3392878\ttotal: 482ms\tremaining: 224ms\n",
      "683:\tlearn: 0.3392318\ttotal: 482ms\tremaining: 223ms\n",
      "684:\tlearn: 0.3390871\ttotal: 483ms\tremaining: 222ms\n",
      "685:\tlearn: 0.3389934\ttotal: 483ms\tremaining: 221ms\n",
      "686:\tlearn: 0.3389000\ttotal: 484ms\tremaining: 221ms\n",
      "687:\tlearn: 0.3388527\ttotal: 485ms\tremaining: 220ms\n",
      "688:\tlearn: 0.3387347\ttotal: 485ms\tremaining: 219ms\n",
      "689:\tlearn: 0.3387077\ttotal: 486ms\tremaining: 218ms\n",
      "690:\tlearn: 0.3386887\ttotal: 487ms\tremaining: 218ms\n",
      "691:\tlearn: 0.3386395\ttotal: 487ms\tremaining: 217ms\n",
      "692:\tlearn: 0.3386018\ttotal: 488ms\tremaining: 216ms\n",
      "693:\tlearn: 0.3385542\ttotal: 488ms\tremaining: 215ms\n",
      "694:\tlearn: 0.3384109\ttotal: 489ms\tremaining: 215ms\n",
      "695:\tlearn: 0.3383432\ttotal: 490ms\tremaining: 214ms\n",
      "696:\tlearn: 0.3382668\ttotal: 490ms\tremaining: 213ms\n",
      "697:\tlearn: 0.3382250\ttotal: 491ms\tremaining: 212ms\n",
      "698:\tlearn: 0.3381619\ttotal: 491ms\tremaining: 212ms\n",
      "699:\tlearn: 0.3381482\ttotal: 492ms\tremaining: 211ms\n",
      "700:\tlearn: 0.3380846\ttotal: 492ms\tremaining: 210ms\n",
      "701:\tlearn: 0.3380837\ttotal: 493ms\tremaining: 209ms\n",
      "702:\tlearn: 0.3380289\ttotal: 493ms\tremaining: 208ms\n",
      "703:\tlearn: 0.3379830\ttotal: 494ms\tremaining: 208ms\n",
      "704:\tlearn: 0.3378945\ttotal: 495ms\tremaining: 207ms\n",
      "705:\tlearn: 0.3378372\ttotal: 495ms\tremaining: 206ms\n",
      "706:\tlearn: 0.3377971\ttotal: 496ms\tremaining: 206ms\n",
      "707:\tlearn: 0.3377856\ttotal: 497ms\tremaining: 205ms\n",
      "708:\tlearn: 0.3377378\ttotal: 498ms\tremaining: 204ms\n",
      "709:\tlearn: 0.3377301\ttotal: 498ms\tremaining: 204ms\n",
      "710:\tlearn: 0.3376422\ttotal: 499ms\tremaining: 203ms\n",
      "711:\tlearn: 0.3374999\ttotal: 500ms\tremaining: 202ms\n",
      "712:\tlearn: 0.3374274\ttotal: 501ms\tremaining: 202ms\n",
      "713:\tlearn: 0.3373690\ttotal: 501ms\tremaining: 201ms\n",
      "714:\tlearn: 0.3373007\ttotal: 502ms\tremaining: 200ms\n",
      "715:\tlearn: 0.3372579\ttotal: 503ms\tremaining: 200ms\n",
      "716:\tlearn: 0.3372128\ttotal: 504ms\tremaining: 199ms\n",
      "717:\tlearn: 0.3372014\ttotal: 504ms\tremaining: 198ms\n",
      "718:\tlearn: 0.3371094\ttotal: 505ms\tremaining: 197ms\n",
      "719:\tlearn: 0.3370515\ttotal: 506ms\tremaining: 197ms\n",
      "720:\tlearn: 0.3370491\ttotal: 506ms\tremaining: 196ms\n",
      "721:\tlearn: 0.3370076\ttotal: 507ms\tremaining: 195ms\n",
      "722:\tlearn: 0.3369361\ttotal: 507ms\tremaining: 194ms\n",
      "723:\tlearn: 0.3368531\ttotal: 508ms\tremaining: 194ms\n",
      "724:\tlearn: 0.3367905\ttotal: 509ms\tremaining: 193ms\n",
      "725:\tlearn: 0.3367871\ttotal: 509ms\tremaining: 192ms\n",
      "726:\tlearn: 0.3366863\ttotal: 510ms\tremaining: 192ms\n",
      "727:\tlearn: 0.3365476\ttotal: 515ms\tremaining: 192ms\n",
      "728:\tlearn: 0.3365432\ttotal: 516ms\tremaining: 192ms\n",
      "729:\tlearn: 0.3364795\ttotal: 516ms\tremaining: 191ms\n",
      "730:\tlearn: 0.3364714\ttotal: 517ms\tremaining: 190ms\n",
      "731:\tlearn: 0.3363880\ttotal: 518ms\tremaining: 190ms\n",
      "732:\tlearn: 0.3363596\ttotal: 519ms\tremaining: 189ms\n",
      "733:\tlearn: 0.3363375\ttotal: 519ms\tremaining: 188ms\n",
      "734:\tlearn: 0.3363189\ttotal: 520ms\tremaining: 187ms\n",
      "735:\tlearn: 0.3362246\ttotal: 521ms\tremaining: 187ms\n",
      "736:\tlearn: 0.3360671\ttotal: 521ms\tremaining: 186ms\n",
      "737:\tlearn: 0.3360462\ttotal: 522ms\tremaining: 185ms\n",
      "738:\tlearn: 0.3359711\ttotal: 523ms\tremaining: 185ms\n",
      "739:\tlearn: 0.3359088\ttotal: 524ms\tremaining: 184ms\n",
      "740:\tlearn: 0.3357661\ttotal: 524ms\tremaining: 183ms\n",
      "741:\tlearn: 0.3356710\ttotal: 525ms\tremaining: 182ms\n",
      "742:\tlearn: 0.3354783\ttotal: 525ms\tremaining: 182ms\n",
      "743:\tlearn: 0.3354439\ttotal: 526ms\tremaining: 181ms\n",
      "744:\tlearn: 0.3353938\ttotal: 527ms\tremaining: 180ms\n",
      "745:\tlearn: 0.3353391\ttotal: 528ms\tremaining: 180ms\n",
      "746:\tlearn: 0.3353054\ttotal: 528ms\tremaining: 179ms\n",
      "747:\tlearn: 0.3352613\ttotal: 529ms\tremaining: 178ms\n",
      "748:\tlearn: 0.3351546\ttotal: 530ms\tremaining: 178ms\n",
      "749:\tlearn: 0.3351031\ttotal: 531ms\tremaining: 177ms\n",
      "750:\tlearn: 0.3350142\ttotal: 532ms\tremaining: 176ms\n",
      "751:\tlearn: 0.3349318\ttotal: 533ms\tremaining: 176ms\n",
      "752:\tlearn: 0.3348918\ttotal: 533ms\tremaining: 175ms\n",
      "753:\tlearn: 0.3348115\ttotal: 534ms\tremaining: 174ms\n",
      "754:\tlearn: 0.3347451\ttotal: 535ms\tremaining: 174ms\n",
      "755:\tlearn: 0.3347072\ttotal: 536ms\tremaining: 173ms\n",
      "756:\tlearn: 0.3346620\ttotal: 536ms\tremaining: 172ms\n",
      "757:\tlearn: 0.3346487\ttotal: 537ms\tremaining: 172ms\n",
      "758:\tlearn: 0.3345660\ttotal: 538ms\tremaining: 171ms\n",
      "759:\tlearn: 0.3345059\ttotal: 539ms\tremaining: 170ms\n",
      "760:\tlearn: 0.3344379\ttotal: 540ms\tremaining: 169ms\n",
      "761:\tlearn: 0.3343731\ttotal: 540ms\tremaining: 169ms\n",
      "762:\tlearn: 0.3343669\ttotal: 541ms\tremaining: 168ms\n",
      "763:\tlearn: 0.3343647\ttotal: 542ms\tremaining: 167ms\n",
      "764:\tlearn: 0.3342915\ttotal: 543ms\tremaining: 167ms\n",
      "765:\tlearn: 0.3342774\ttotal: 543ms\tremaining: 166ms\n",
      "766:\tlearn: 0.3342263\ttotal: 544ms\tremaining: 165ms\n",
      "767:\tlearn: 0.3342055\ttotal: 545ms\tremaining: 165ms\n",
      "768:\tlearn: 0.3341549\ttotal: 545ms\tremaining: 164ms\n",
      "769:\tlearn: 0.3340866\ttotal: 546ms\tremaining: 163ms\n",
      "770:\tlearn: 0.3340560\ttotal: 546ms\tremaining: 162ms\n",
      "771:\tlearn: 0.3339952\ttotal: 547ms\tremaining: 162ms\n",
      "772:\tlearn: 0.3339623\ttotal: 548ms\tremaining: 161ms\n",
      "773:\tlearn: 0.3339599\ttotal: 549ms\tremaining: 160ms\n",
      "774:\tlearn: 0.3338737\ttotal: 550ms\tremaining: 160ms\n",
      "775:\tlearn: 0.3338601\ttotal: 550ms\tremaining: 159ms\n",
      "776:\tlearn: 0.3337992\ttotal: 551ms\tremaining: 158ms\n",
      "777:\tlearn: 0.3336578\ttotal: 552ms\tremaining: 157ms\n",
      "778:\tlearn: 0.3335785\ttotal: 552ms\tremaining: 157ms\n",
      "779:\tlearn: 0.3335378\ttotal: 553ms\tremaining: 156ms\n",
      "780:\tlearn: 0.3335187\ttotal: 555ms\tremaining: 155ms\n",
      "781:\tlearn: 0.3334173\ttotal: 555ms\tremaining: 155ms\n",
      "782:\tlearn: 0.3333330\ttotal: 556ms\tremaining: 154ms\n",
      "783:\tlearn: 0.3332903\ttotal: 558ms\tremaining: 154ms\n",
      "784:\tlearn: 0.3332431\ttotal: 559ms\tremaining: 153ms\n",
      "785:\tlearn: 0.3331402\ttotal: 560ms\tremaining: 152ms\n",
      "786:\tlearn: 0.3331340\ttotal: 560ms\tremaining: 152ms\n",
      "787:\tlearn: 0.3330861\ttotal: 561ms\tremaining: 151ms\n",
      "788:\tlearn: 0.3330150\ttotal: 562ms\tremaining: 150ms\n",
      "789:\tlearn: 0.3329621\ttotal: 563ms\tremaining: 150ms\n",
      "790:\tlearn: 0.3329552\ttotal: 563ms\tremaining: 149ms\n",
      "791:\tlearn: 0.3328998\ttotal: 564ms\tremaining: 148ms\n",
      "792:\tlearn: 0.3327888\ttotal: 565ms\tremaining: 147ms\n",
      "793:\tlearn: 0.3327451\ttotal: 567ms\tremaining: 147ms\n",
      "794:\tlearn: 0.3326596\ttotal: 568ms\tremaining: 146ms\n",
      "795:\tlearn: 0.3326206\ttotal: 569ms\tremaining: 146ms\n",
      "796:\tlearn: 0.3325748\ttotal: 570ms\tremaining: 145ms\n",
      "797:\tlearn: 0.3325370\ttotal: 570ms\tremaining: 144ms\n",
      "798:\tlearn: 0.3324664\ttotal: 571ms\tremaining: 144ms\n",
      "799:\tlearn: 0.3323813\ttotal: 572ms\tremaining: 143ms\n",
      "800:\tlearn: 0.3323215\ttotal: 572ms\tremaining: 142ms\n",
      "801:\tlearn: 0.3322955\ttotal: 573ms\tremaining: 141ms\n",
      "802:\tlearn: 0.3321941\ttotal: 574ms\tremaining: 141ms\n",
      "803:\tlearn: 0.3321329\ttotal: 574ms\tremaining: 140ms\n",
      "804:\tlearn: 0.3320759\ttotal: 576ms\tremaining: 139ms\n",
      "805:\tlearn: 0.3320209\ttotal: 576ms\tremaining: 139ms\n",
      "806:\tlearn: 0.3319251\ttotal: 577ms\tremaining: 138ms\n",
      "807:\tlearn: 0.3318556\ttotal: 578ms\tremaining: 137ms\n",
      "808:\tlearn: 0.3317957\ttotal: 579ms\tremaining: 137ms\n",
      "809:\tlearn: 0.3316884\ttotal: 579ms\tremaining: 136ms\n",
      "810:\tlearn: 0.3316215\ttotal: 580ms\tremaining: 135ms\n",
      "811:\tlearn: 0.3314990\ttotal: 581ms\tremaining: 134ms\n",
      "812:\tlearn: 0.3314609\ttotal: 581ms\tremaining: 134ms\n",
      "813:\tlearn: 0.3313682\ttotal: 582ms\tremaining: 133ms\n",
      "814:\tlearn: 0.3312754\ttotal: 583ms\tremaining: 132ms\n",
      "815:\tlearn: 0.3312590\ttotal: 584ms\tremaining: 132ms\n",
      "816:\tlearn: 0.3312182\ttotal: 584ms\tremaining: 131ms\n",
      "817:\tlearn: 0.3311667\ttotal: 585ms\tremaining: 130ms\n",
      "818:\tlearn: 0.3311627\ttotal: 585ms\tremaining: 129ms\n",
      "819:\tlearn: 0.3310513\ttotal: 586ms\tremaining: 129ms\n",
      "820:\tlearn: 0.3310032\ttotal: 587ms\tremaining: 128ms\n",
      "821:\tlearn: 0.3309798\ttotal: 587ms\tremaining: 127ms\n",
      "822:\tlearn: 0.3309326\ttotal: 588ms\tremaining: 126ms\n",
      "823:\tlearn: 0.3308610\ttotal: 588ms\tremaining: 126ms\n",
      "824:\tlearn: 0.3308208\ttotal: 589ms\tremaining: 125ms\n",
      "825:\tlearn: 0.3307522\ttotal: 590ms\tremaining: 124ms\n",
      "826:\tlearn: 0.3306833\ttotal: 594ms\tremaining: 124ms\n",
      "827:\tlearn: 0.3306534\ttotal: 595ms\tremaining: 124ms\n",
      "828:\tlearn: 0.3305905\ttotal: 595ms\tremaining: 123ms\n",
      "829:\tlearn: 0.3305553\ttotal: 596ms\tremaining: 122ms\n",
      "830:\tlearn: 0.3305405\ttotal: 597ms\tremaining: 121ms\n",
      "831:\tlearn: 0.3304600\ttotal: 597ms\tremaining: 121ms\n",
      "832:\tlearn: 0.3304405\ttotal: 598ms\tremaining: 120ms\n",
      "833:\tlearn: 0.3303556\ttotal: 599ms\tremaining: 119ms\n",
      "834:\tlearn: 0.3302786\ttotal: 599ms\tremaining: 118ms\n",
      "835:\tlearn: 0.3302776\ttotal: 600ms\tremaining: 118ms\n",
      "836:\tlearn: 0.3302570\ttotal: 601ms\tremaining: 117ms\n",
      "837:\tlearn: 0.3302522\ttotal: 601ms\tremaining: 116ms\n",
      "838:\tlearn: 0.3302258\ttotal: 602ms\tremaining: 115ms\n",
      "839:\tlearn: 0.3301417\ttotal: 603ms\tremaining: 115ms\n",
      "840:\tlearn: 0.3300980\ttotal: 604ms\tremaining: 114ms\n",
      "841:\tlearn: 0.3300333\ttotal: 605ms\tremaining: 113ms\n",
      "842:\tlearn: 0.3299797\ttotal: 605ms\tremaining: 113ms\n",
      "843:\tlearn: 0.3299351\ttotal: 606ms\tremaining: 112ms\n",
      "844:\tlearn: 0.3298994\ttotal: 606ms\tremaining: 111ms\n",
      "845:\tlearn: 0.3298350\ttotal: 607ms\tremaining: 110ms\n",
      "846:\tlearn: 0.3297616\ttotal: 608ms\tremaining: 110ms\n",
      "847:\tlearn: 0.3297558\ttotal: 608ms\tremaining: 109ms\n",
      "848:\tlearn: 0.3296745\ttotal: 609ms\tremaining: 108ms\n",
      "849:\tlearn: 0.3296596\ttotal: 610ms\tremaining: 108ms\n",
      "850:\tlearn: 0.3295984\ttotal: 610ms\tremaining: 107ms\n",
      "851:\tlearn: 0.3295573\ttotal: 611ms\tremaining: 106ms\n",
      "852:\tlearn: 0.3295175\ttotal: 612ms\tremaining: 105ms\n",
      "853:\tlearn: 0.3293997\ttotal: 612ms\tremaining: 105ms\n",
      "854:\tlearn: 0.3293656\ttotal: 613ms\tremaining: 104ms\n",
      "855:\tlearn: 0.3293116\ttotal: 614ms\tremaining: 103ms\n",
      "856:\tlearn: 0.3292285\ttotal: 614ms\tremaining: 103ms\n",
      "857:\tlearn: 0.3291682\ttotal: 615ms\tremaining: 102ms\n",
      "858:\tlearn: 0.3291552\ttotal: 616ms\tremaining: 101ms\n",
      "859:\tlearn: 0.3291185\ttotal: 617ms\tremaining: 100ms\n",
      "860:\tlearn: 0.3290614\ttotal: 618ms\tremaining: 99.8ms\n",
      "861:\tlearn: 0.3289822\ttotal: 619ms\tremaining: 99.1ms\n",
      "862:\tlearn: 0.3289644\ttotal: 620ms\tremaining: 98.4ms\n",
      "863:\tlearn: 0.3288817\ttotal: 620ms\tremaining: 97.6ms\n",
      "864:\tlearn: 0.3288577\ttotal: 621ms\tremaining: 96.9ms\n",
      "865:\tlearn: 0.3287703\ttotal: 622ms\tremaining: 96.2ms\n",
      "866:\tlearn: 0.3287083\ttotal: 623ms\tremaining: 95.6ms\n",
      "867:\tlearn: 0.3286642\ttotal: 624ms\tremaining: 94.9ms\n",
      "868:\tlearn: 0.3285938\ttotal: 625ms\tremaining: 94.2ms\n",
      "869:\tlearn: 0.3284769\ttotal: 625ms\tremaining: 93.5ms\n",
      "870:\tlearn: 0.3284629\ttotal: 626ms\tremaining: 92.7ms\n",
      "871:\tlearn: 0.3282875\ttotal: 627ms\tremaining: 92ms\n",
      "872:\tlearn: 0.3281882\ttotal: 627ms\tremaining: 91.3ms\n",
      "873:\tlearn: 0.3281623\ttotal: 628ms\tremaining: 90.6ms\n",
      "874:\tlearn: 0.3281590\ttotal: 630ms\tremaining: 90ms\n",
      "875:\tlearn: 0.3281139\ttotal: 631ms\tremaining: 89.3ms\n",
      "876:\tlearn: 0.3280354\ttotal: 631ms\tremaining: 88.6ms\n",
      "877:\tlearn: 0.3278774\ttotal: 632ms\tremaining: 87.8ms\n",
      "878:\tlearn: 0.3277935\ttotal: 633ms\tremaining: 87.1ms\n",
      "879:\tlearn: 0.3276780\ttotal: 633ms\tremaining: 86.4ms\n",
      "880:\tlearn: 0.3276710\ttotal: 634ms\tremaining: 85.6ms\n",
      "881:\tlearn: 0.3276348\ttotal: 635ms\tremaining: 84.9ms\n",
      "882:\tlearn: 0.3275685\ttotal: 635ms\tremaining: 84.2ms\n",
      "883:\tlearn: 0.3274791\ttotal: 636ms\tremaining: 83.5ms\n",
      "884:\tlearn: 0.3274548\ttotal: 637ms\tremaining: 82.8ms\n",
      "885:\tlearn: 0.3274041\ttotal: 637ms\tremaining: 82ms\n",
      "886:\tlearn: 0.3273708\ttotal: 638ms\tremaining: 81.3ms\n",
      "887:\tlearn: 0.3273291\ttotal: 639ms\tremaining: 80.6ms\n",
      "888:\tlearn: 0.3273095\ttotal: 640ms\tremaining: 79.9ms\n",
      "889:\tlearn: 0.3273035\ttotal: 641ms\tremaining: 79.2ms\n",
      "890:\tlearn: 0.3272507\ttotal: 642ms\tremaining: 78.5ms\n",
      "891:\tlearn: 0.3272327\ttotal: 642ms\tremaining: 77.8ms\n",
      "892:\tlearn: 0.3272136\ttotal: 643ms\tremaining: 77ms\n",
      "893:\tlearn: 0.3272008\ttotal: 644ms\tremaining: 76.3ms\n",
      "894:\tlearn: 0.3271494\ttotal: 644ms\tremaining: 75.6ms\n",
      "895:\tlearn: 0.3270210\ttotal: 645ms\tremaining: 74.9ms\n",
      "896:\tlearn: 0.3270085\ttotal: 646ms\tremaining: 74.2ms\n",
      "897:\tlearn: 0.3269154\ttotal: 647ms\tremaining: 73.5ms\n",
      "898:\tlearn: 0.3268864\ttotal: 648ms\tremaining: 72.8ms\n",
      "899:\tlearn: 0.3268693\ttotal: 649ms\tremaining: 72.1ms\n",
      "900:\tlearn: 0.3268608\ttotal: 649ms\tremaining: 71.3ms\n",
      "901:\tlearn: 0.3268320\ttotal: 650ms\tremaining: 70.6ms\n",
      "902:\tlearn: 0.3267694\ttotal: 651ms\tremaining: 69.9ms\n",
      "903:\tlearn: 0.3267334\ttotal: 651ms\tremaining: 69.2ms\n",
      "904:\tlearn: 0.3267149\ttotal: 652ms\tremaining: 68.5ms\n",
      "905:\tlearn: 0.3266922\ttotal: 653ms\tremaining: 67.7ms\n",
      "906:\tlearn: 0.3266765\ttotal: 654ms\tremaining: 67.1ms\n",
      "907:\tlearn: 0.3266432\ttotal: 655ms\tremaining: 66.4ms\n",
      "908:\tlearn: 0.3265909\ttotal: 656ms\tremaining: 65.6ms\n",
      "909:\tlearn: 0.3265826\ttotal: 656ms\tremaining: 64.9ms\n",
      "910:\tlearn: 0.3265299\ttotal: 658ms\tremaining: 64.2ms\n",
      "911:\tlearn: 0.3264915\ttotal: 658ms\tremaining: 63.5ms\n",
      "912:\tlearn: 0.3264512\ttotal: 659ms\tremaining: 62.8ms\n",
      "913:\tlearn: 0.3263950\ttotal: 661ms\tremaining: 62.2ms\n",
      "914:\tlearn: 0.3263313\ttotal: 662ms\tremaining: 61.5ms\n",
      "915:\tlearn: 0.3261724\ttotal: 663ms\tremaining: 60.8ms\n",
      "916:\tlearn: 0.3261492\ttotal: 664ms\tremaining: 60.1ms\n",
      "917:\tlearn: 0.3261232\ttotal: 665ms\tremaining: 59.4ms\n",
      "918:\tlearn: 0.3261012\ttotal: 665ms\tremaining: 58.7ms\n",
      "919:\tlearn: 0.3260420\ttotal: 666ms\tremaining: 57.9ms\n",
      "920:\tlearn: 0.3259805\ttotal: 667ms\tremaining: 57.2ms\n",
      "921:\tlearn: 0.3259483\ttotal: 668ms\tremaining: 56.5ms\n",
      "922:\tlearn: 0.3259204\ttotal: 669ms\tremaining: 55.8ms\n",
      "923:\tlearn: 0.3258871\ttotal: 670ms\tremaining: 55.1ms\n",
      "924:\tlearn: 0.3258578\ttotal: 670ms\tremaining: 54.3ms\n",
      "925:\tlearn: 0.3258432\ttotal: 671ms\tremaining: 53.6ms\n",
      "926:\tlearn: 0.3257446\ttotal: 672ms\tremaining: 52.9ms\n",
      "927:\tlearn: 0.3257190\ttotal: 673ms\tremaining: 52.3ms\n",
      "928:\tlearn: 0.3255631\ttotal: 674ms\tremaining: 51.5ms\n",
      "929:\tlearn: 0.3255106\ttotal: 675ms\tremaining: 50.8ms\n",
      "930:\tlearn: 0.3253995\ttotal: 676ms\tremaining: 50.1ms\n",
      "931:\tlearn: 0.3253792\ttotal: 676ms\tremaining: 49.4ms\n",
      "932:\tlearn: 0.3253752\ttotal: 677ms\tremaining: 48.6ms\n",
      "933:\tlearn: 0.3253194\ttotal: 678ms\tremaining: 47.9ms\n",
      "934:\tlearn: 0.3252873\ttotal: 678ms\tremaining: 47.2ms\n",
      "935:\tlearn: 0.3252328\ttotal: 679ms\tremaining: 46.4ms\n",
      "936:\tlearn: 0.3251774\ttotal: 680ms\tremaining: 45.7ms\n",
      "937:\tlearn: 0.3251629\ttotal: 680ms\tremaining: 45ms\n",
      "938:\tlearn: 0.3250762\ttotal: 681ms\tremaining: 44.2ms\n",
      "939:\tlearn: 0.3250283\ttotal: 682ms\tremaining: 43.5ms\n",
      "940:\tlearn: 0.3249795\ttotal: 682ms\tremaining: 42.8ms\n",
      "941:\tlearn: 0.3249487\ttotal: 683ms\tremaining: 42.1ms\n",
      "942:\tlearn: 0.3249100\ttotal: 684ms\tremaining: 41.4ms\n",
      "943:\tlearn: 0.3248649\ttotal: 685ms\tremaining: 40.6ms\n",
      "944:\tlearn: 0.3248176\ttotal: 686ms\tremaining: 39.9ms\n",
      "945:\tlearn: 0.3247289\ttotal: 687ms\tremaining: 39.2ms\n",
      "946:\tlearn: 0.3246831\ttotal: 688ms\tremaining: 38.5ms\n",
      "947:\tlearn: 0.3245343\ttotal: 688ms\tremaining: 37.8ms\n",
      "948:\tlearn: 0.3244380\ttotal: 689ms\tremaining: 37ms\n",
      "949:\tlearn: 0.3244133\ttotal: 689ms\tremaining: 36.3ms\n",
      "950:\tlearn: 0.3243813\ttotal: 690ms\tremaining: 35.6ms\n",
      "951:\tlearn: 0.3243321\ttotal: 691ms\tremaining: 34.8ms\n",
      "952:\tlearn: 0.3242958\ttotal: 692ms\tremaining: 34.1ms\n",
      "953:\tlearn: 0.3242712\ttotal: 692ms\tremaining: 33.4ms\n",
      "954:\tlearn: 0.3242504\ttotal: 693ms\tremaining: 32.7ms\n",
      "955:\tlearn: 0.3242291\ttotal: 694ms\tremaining: 31.9ms\n",
      "956:\tlearn: 0.3241480\ttotal: 694ms\tremaining: 31.2ms\n",
      "957:\tlearn: 0.3240840\ttotal: 695ms\tremaining: 30.5ms\n",
      "958:\tlearn: 0.3240434\ttotal: 695ms\tremaining: 29.7ms\n",
      "959:\tlearn: 0.3240117\ttotal: 696ms\tremaining: 29ms\n",
      "960:\tlearn: 0.3239927\ttotal: 697ms\tremaining: 28.3ms\n",
      "961:\tlearn: 0.3239526\ttotal: 698ms\tremaining: 27.6ms\n",
      "962:\tlearn: 0.3239194\ttotal: 698ms\tremaining: 26.8ms\n",
      "963:\tlearn: 0.3238823\ttotal: 699ms\tremaining: 26.1ms\n",
      "964:\tlearn: 0.3238654\ttotal: 700ms\tremaining: 25.4ms\n",
      "965:\tlearn: 0.3238455\ttotal: 701ms\tremaining: 24.7ms\n",
      "966:\tlearn: 0.3238364\ttotal: 701ms\tremaining: 23.9ms\n",
      "967:\tlearn: 0.3238227\ttotal: 702ms\tremaining: 23.2ms\n",
      "968:\tlearn: 0.3237955\ttotal: 703ms\tremaining: 22.5ms\n",
      "969:\tlearn: 0.3237184\ttotal: 704ms\tremaining: 21.8ms\n",
      "970:\tlearn: 0.3236770\ttotal: 705ms\tremaining: 21ms\n",
      "971:\tlearn: 0.3236446\ttotal: 706ms\tremaining: 20.3ms\n",
      "972:\tlearn: 0.3235779\ttotal: 707ms\tremaining: 19.6ms\n",
      "973:\tlearn: 0.3235640\ttotal: 708ms\tremaining: 18.9ms\n",
      "974:\tlearn: 0.3235362\ttotal: 708ms\tremaining: 18.2ms\n",
      "975:\tlearn: 0.3235087\ttotal: 709ms\tremaining: 17.4ms\n",
      "976:\tlearn: 0.3234504\ttotal: 710ms\tremaining: 16.7ms\n",
      "977:\tlearn: 0.3234299\ttotal: 710ms\tremaining: 16ms\n",
      "978:\tlearn: 0.3233943\ttotal: 711ms\tremaining: 15.3ms\n",
      "979:\tlearn: 0.3233694\ttotal: 712ms\tremaining: 14.5ms\n",
      "980:\tlearn: 0.3233156\ttotal: 712ms\tremaining: 13.8ms\n",
      "981:\tlearn: 0.3232903\ttotal: 713ms\tremaining: 13.1ms\n",
      "982:\tlearn: 0.3232119\ttotal: 714ms\tremaining: 12.3ms\n",
      "983:\tlearn: 0.3231880\ttotal: 715ms\tremaining: 11.6ms\n",
      "984:\tlearn: 0.3231045\ttotal: 716ms\tremaining: 10.9ms\n",
      "985:\tlearn: 0.3230513\ttotal: 716ms\tremaining: 10.2ms\n",
      "986:\tlearn: 0.3230123\ttotal: 717ms\tremaining: 9.45ms\n",
      "987:\tlearn: 0.3229930\ttotal: 718ms\tremaining: 8.72ms\n",
      "988:\tlearn: 0.3229364\ttotal: 718ms\tremaining: 7.99ms\n",
      "989:\tlearn: 0.3229172\ttotal: 719ms\tremaining: 7.26ms\n",
      "990:\tlearn: 0.3228642\ttotal: 720ms\tremaining: 6.54ms\n",
      "991:\tlearn: 0.3228603\ttotal: 721ms\tremaining: 5.81ms\n",
      "992:\tlearn: 0.3228241\ttotal: 721ms\tremaining: 5.08ms\n",
      "993:\tlearn: 0.3227979\ttotal: 722ms\tremaining: 4.36ms\n",
      "994:\tlearn: 0.3227647\ttotal: 723ms\tremaining: 3.63ms\n",
      "995:\tlearn: 0.3227620\ttotal: 723ms\tremaining: 2.9ms\n",
      "996:\tlearn: 0.3227370\ttotal: 724ms\tremaining: 2.18ms\n",
      "997:\tlearn: 0.3226729\ttotal: 725ms\tremaining: 1.45ms\n",
      "998:\tlearn: 0.3226341\ttotal: 726ms\tremaining: 726us\n",
      "999:\tlearn: 0.3225505\ttotal: 726ms\tremaining: 0us\n"
     ]
    },
    {
     "output_type": "execute_result",
     "data": {
      "text/plain": [
       "<pandas.io.formats.style.Styler at 0x7f2866bcee80>"
      ],
      "text/html": "<style  type=\"text/css\" >\n#T_3890e_row0_col1,#T_3890e_row1_col1{\n            width:  10em;\n             height:  80%;\n            background:  linear-gradient(90deg,#5fba7d 84.4%, transparent 84.4%);\n        }#T_3890e_row0_col2{\n            width:  10em;\n             height:  80%;\n            background:  linear-gradient(90deg,#5fba7d 83.0%, transparent 83.0%);\n        }#T_3890e_row1_col2{\n            width:  10em;\n             height:  80%;\n            background:  linear-gradient(90deg,#5fba7d 82.1%, transparent 82.1%);\n        }#T_3890e_row2_col1,#T_3890e_row3_col1,#T_3890e_row4_col1,#T_3890e_row5_col1{\n            width:  10em;\n             height:  80%;\n            background:  linear-gradient(90deg,#5fba7d 83.8%, transparent 83.8%);\n        }#T_3890e_row2_col2,#T_3890e_row5_col2{\n            width:  10em;\n             height:  80%;\n            background:  linear-gradient(90deg,#5fba7d 82.2%, transparent 82.2%);\n        }#T_3890e_row3_col2,#T_3890e_row4_col2{\n            width:  10em;\n             height:  80%;\n            background:  linear-gradient(90deg,#5fba7d 81.7%, transparent 81.7%);\n        }#T_3890e_row6_col1{\n            width:  10em;\n             height:  80%;\n            background:  linear-gradient(90deg,#5fba7d 81.6%, transparent 81.6%);\n        }#T_3890e_row6_col2{\n            width:  10em;\n             height:  80%;\n            background:  linear-gradient(90deg,#5fba7d 80.9%, transparent 80.9%);\n        }#T_3890e_row7_col1{\n            width:  10em;\n             height:  80%;\n            background:  linear-gradient(90deg,#5fba7d 80.4%, transparent 80.4%);\n        }#T_3890e_row7_col2{\n            width:  10em;\n             height:  80%;\n            background:  linear-gradient(90deg,#5fba7d 78.7%, transparent 78.7%);\n        }#T_3890e_row8_col1{\n            width:  10em;\n             height:  80%;\n            background:  linear-gradient(90deg,#5fba7d 79.9%, transparent 79.9%);\n        }#T_3890e_row8_col2{\n            width:  10em;\n             height:  80%;\n            background:  linear-gradient(90deg,#5fba7d 78.2%, transparent 78.2%);\n        }</style><table id=\"T_3890e_\" ><thead>    <tr>        <th class=\"blank level0\" ></th>        <th class=\"col_heading level0 col0\" >Model</th>        <th class=\"col_heading level0 col1\" >Accuracy</th>        <th class=\"col_heading level0 col2\" >Bal Acc.</th>        <th class=\"col_heading level0 col3\" >Time</th>    </tr></thead><tbody>\n                <tr>\n                        <th id=\"T_3890e_level0_row0\" class=\"row_heading level0 row0\" >1</th>\n                        <td id=\"T_3890e_row0_col0\" class=\"data row0 col0\" >XGBoost</td>\n                        <td id=\"T_3890e_row0_col1\" class=\"data row0 col1\" >84.357542</td>\n                        <td id=\"T_3890e_row0_col2\" class=\"data row0 col2\" >82.951252</td>\n                        <td id=\"T_3890e_row0_col3\" class=\"data row0 col3\" >0.083429</td>\n            </tr>\n            <tr>\n                        <th id=\"T_3890e_level0_row1\" class=\"row_heading level0 row1\" >2</th>\n                        <td id=\"T_3890e_row1_col0\" class=\"data row1 col0\" >CatBoost</td>\n                        <td id=\"T_3890e_row1_col1\" class=\"data row1 col1\" >84.357542</td>\n                        <td id=\"T_3890e_row1_col2\" class=\"data row1 col2\" >82.140975</td>\n                        <td id=\"T_3890e_row1_col3\" class=\"data row1 col3\" >0.886077</td>\n            </tr>\n            <tr>\n                        <th id=\"T_3890e_level0_row2\" class=\"row_heading level0 row2\" >3</th>\n                        <td id=\"T_3890e_row2_col0\" class=\"data row2 col0\" >AdaBoost</td>\n                        <td id=\"T_3890e_row2_col1\" class=\"data row2 col1\" >83.798883</td>\n                        <td id=\"T_3890e_row2_col2\" class=\"data row2 col2\" >82.226614</td>\n                        <td id=\"T_3890e_row2_col3\" class=\"data row2 col3\" >0.100221</td>\n            </tr>\n            <tr>\n                        <th id=\"T_3890e_level0_row3\" class=\"row_heading level0 row3\" >4</th>\n                        <td id=\"T_3890e_row3_col0\" class=\"data row3 col0\" >Skl GBM</td>\n                        <td id=\"T_3890e_row3_col1\" class=\"data row3 col1\" >83.798883</td>\n                        <td id=\"T_3890e_row3_col2\" class=\"data row3 col2\" >81.686430</td>\n                        <td id=\"T_3890e_row3_col3\" class=\"data row3 col3\" >0.092867</td>\n            </tr>\n            <tr>\n                        <th id=\"T_3890e_level0_row4\" class=\"row_heading level0 row4\" >5</th>\n                        <td id=\"T_3890e_row4_col0\" class=\"data row4 col0\" >Skl HistGBM</td>\n                        <td id=\"T_3890e_row4_col1\" class=\"data row4 col1\" >83.798883</td>\n                        <td id=\"T_3890e_row4_col2\" class=\"data row4 col2\" >81.686430</td>\n                        <td id=\"T_3890e_row4_col3\" class=\"data row4 col3\" >0.096947</td>\n            </tr>\n            <tr>\n                        <th id=\"T_3890e_level0_row5\" class=\"row_heading level0 row5\" >6</th>\n                        <td id=\"T_3890e_row5_col0\" class=\"data row5 col0\" >LightGBM</td>\n                        <td id=\"T_3890e_row5_col1\" class=\"data row5 col1\" >83.798883</td>\n                        <td id=\"T_3890e_row5_col2\" class=\"data row5 col2\" >82.226614</td>\n                        <td id=\"T_3890e_row5_col3\" class=\"data row5 col3\" >0.113231</td>\n            </tr>\n            <tr>\n                        <th id=\"T_3890e_level0_row6\" class=\"row_heading level0 row6\" >7</th>\n                        <td id=\"T_3890e_row6_col0\" class=\"data row6 col0\" >Random Forest</td>\n                        <td id=\"T_3890e_row6_col1\" class=\"data row6 col1\" >81.564246</td>\n                        <td id=\"T_3890e_row6_col2\" class=\"data row6 col2\" >80.948617</td>\n                        <td id=\"T_3890e_row6_col3\" class=\"data row6 col3\" >0.179536</td>\n            </tr>\n            <tr>\n                        <th id=\"T_3890e_level0_row7\" class=\"row_heading level0 row7\" >8</th>\n                        <td id=\"T_3890e_row7_col0\" class=\"data row7 col0\" >Extra Trees</td>\n                        <td id=\"T_3890e_row7_col1\" class=\"data row7 col1\" >80.446927</td>\n                        <td id=\"T_3890e_row7_col2\" class=\"data row7 col2\" >78.689065</td>\n                        <td id=\"T_3890e_row7_col3\" class=\"data row7 col3\" >0.141306</td>\n            </tr>\n            <tr>\n                        <th id=\"T_3890e_level0_row8\" class=\"row_heading level0 row8\" >9</th>\n                        <td id=\"T_3890e_row8_col0\" class=\"data row8 col0\" >Decision Tree</td>\n                        <td id=\"T_3890e_row8_col1\" class=\"data row8 col1\" >79.888268</td>\n                        <td id=\"T_3890e_row8_col2\" class=\"data row8 col2\" >78.234519</td>\n                        <td id=\"T_3890e_row8_col3\" class=\"data row8 col3\" >0.020522</td>\n            </tr>\n    </tbody></table>"
     },
     "metadata": {},
     "execution_count": 516
    }
   ],
   "source": [
    "\n",
    "x_train, x_val, y_train, y_val = model_selection.train_test_split(x,y, test_size=0.2,stratify = y, random_state=4)\n",
    "\n",
    "\n",
    "\n",
    "\n",
    "results = pd.DataFrame({'Model': [], 'Accuracy': [], 'Bal Acc.': [], 'Time': []})\n",
    "\n",
    "for model_name, model in tree_classifiers.items():\n",
    "    start_time = time.time()\n",
    "    \n",
    "    # FOR EVERY PIPELINE (PREPRO + MODEL) -> TRAIN WITH TRAIN DATA (x_train)\n",
    "    model.fit(x_train,y_train)\n",
    "    # GET PREDICTIONS USING x_val\n",
    "    pred = model.predict(x_val)\n",
    "\n",
    "    total_time = time.time() - start_time\n",
    "\n",
    "    results = results.append({\"Model\":    model_name,\n",
    "                              \"Accuracy\": metrics.accuracy_score(y_val, pred)*100,\n",
    "                              \"Bal Acc.\": metrics.balanced_accuracy_score(y_val, pred)*100,\n",
    "                              \"Time\":     total_time},\n",
    "                              ignore_index=True)\n",
    "                              \n",
    "                              \n",
    "\n",
    "\n",
    "\n",
    "\n",
    "\n",
    "results_ord = results.sort_values(by=['Accuracy'], ascending=False, ignore_index=True)\n",
    "results_ord.index += 1 \n",
    "results_ord.style.bar(subset=['Accuracy', 'Bal Acc.'], vmin=0, vmax=100, color='#5fba7d')\n"
   ]
  },
  {
   "cell_type": "code",
   "execution_count": 523,
   "metadata": {},
   "outputs": [
    {
     "output_type": "stream",
     "name": "stderr",
     "text": [
      "/home/umut/.virtualenvs/my-project-env/lib/python3.8/site-packages/xgboost/sklearn.py:1146: UserWarning: The use of label encoder in XGBClassifier is deprecated and will be removed in a future release. To remove this warning, do the following: 1) Pass option use_label_encoder=False when constructing XGBClassifier object; and 2) Encode your labels (y) as integers starting with 0, i.e. 0, 1, 2, ..., [num_class - 1].\n",
      "  warnings.warn(label_encoder_deprecation_msg, UserWarning)\n",
      "[16:02:45] WARNING: ../src/learner.cc:1095: Starting in XGBoost 1.3.0, the default evaluation metric used with the objective 'binary:logistic' was changed from 'error' to 'logloss'. Explicitly set eval_metric if you'd like to restore the old behavior.\n"
     ]
    }
   ],
   "source": [
    "best_model = tree_classifiers[\"XGBoost\"]\n",
    "\n",
    "# Fit best model with all data\n",
    "best_model.fit(x,y)\n",
    "test_pred = best_model.predict(df_test)\n",
    "df_test = pd.read_csv(DATA_PATH + \"test.csv\", index_col=\"PassengerId\")\n",
    "sub = pd.DataFrame(test_pred, index=df_test.index, columns=[\"Survived\"])\n",
    "sub.head()\n",
    "sub.to_csv(\"sub.csv\")"
   ]
  },
  {
   "cell_type": "code",
   "execution_count": 525,
   "metadata": {},
   "outputs": [
    {
     "output_type": "stream",
     "name": "stdout",
     "text": [
      "100%|████████████████████████████████████████| 2.77k/2.77k [00:05<00:00, 532B/s]\n",
      "Successfully submitted to Titanic - Machine Learning from Disaster"
     ]
    }
   ],
   "source": [
    "!kaggle competitions submit -c titanic -f sub.csv -m \"My submission message\""
   ]
  },
  {
   "cell_type": "code",
   "execution_count": null,
   "metadata": {},
   "outputs": [],
   "source": []
  }
 ]
}