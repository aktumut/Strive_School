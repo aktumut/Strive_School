{
 "metadata": {
  "language_info": {
   "codemirror_mode": {
    "name": "ipython",
    "version": 3
   },
   "file_extension": ".py",
   "mimetype": "text/x-python",
   "name": "python",
   "nbconvert_exporter": "python",
   "pygments_lexer": "ipython3",
   "version": "3.8.5"
  },
  "orig_nbformat": 4,
  "kernelspec": {
   "name": "python3",
   "display_name": "Python 3.8.5 64-bit ('my-project-env': virtualenvwrapper)"
  },
  "interpreter": {
   "hash": "737e9587d30d88c29f1321911dcbdbc8762e4df40f7563cdfd1b93bad311ab30"
  }
 },
 "nbformat": 4,
 "nbformat_minor": 2,
 "cells": [
  {
   "cell_type": "code",
   "execution_count": 1,
   "metadata": {},
   "outputs": [],
   "source": [
    "import cv2\n",
    "import numpy as np\n",
    "import matplotlib.pyplot as plt\n",
    "%matplotlib inline"
   ]
  },
  {
   "cell_type": "code",
   "execution_count": 3,
   "metadata": {},
   "outputs": [],
   "source": [
    "background = cv2.createBackgroundSubtractorMOG2(history=5,varThreshold=5,detectShadows=True)"
   ]
  },
  {
   "cell_type": "code",
   "execution_count": 4,
   "metadata": {},
   "outputs": [
    {
     "output_type": "execute_result",
     "data": {
      "text/plain": [
       "-1"
      ]
     },
     "metadata": {},
     "execution_count": 4
    }
   ],
   "source": [
    "capture = cv2.VideoCapture(0)\n",
    "if not capture.isOpened():\n",
    "    exit(0)\n",
    "while True:\n",
    "    ret,frame = capture.read()\n",
    "    if frame is None:\n",
    "        break\n",
    "\n",
    "    foreground_mask = background.apply(frame)\n",
    "\n",
    "    cv2.imshow('Frame',frame)\n",
    "    cv2.imshow(\"FG Mask\",foreground_mask)\n",
    "\n",
    "    k = cv2.waitKey(30)\n",
    "    if k == ord(\"q\"):\n",
    "        break\n",
    "capture.release()\n",
    "cv2.destroyAllWindows()\n",
    "cv2.waitKey(1)\n",
    "\n"
   ]
  },
  {
   "cell_type": "code",
   "execution_count": 3,
   "metadata": {},
   "outputs": [
    {
     "output_type": "execute_result",
     "data": {
      "text/plain": [
       "-1"
      ]
     },
     "metadata": {},
     "execution_count": 3
    }
   ],
   "source": [
    "# Repeat the process above with your own images\n",
    "window_name = \"filter\"\n",
    "cap = cv2.VideoCapture(0)\n",
    "key = 0 \n",
    "cv2.namedWindow(window_name,cv2.WINDOW_AUTOSIZE)\n",
    "\n",
    "face_cascade = cv2.CascadeClassifier(\"/home/umut/Documents/GitHub/Strive_School/Computer_Vision_(Module_6)/Day_7_ Template_matching_corners_and_Haar_cascades/Haarcascades/haarcascade_frontalface_default.xml\")\n",
    "\n",
    "background = cv2.createBackgroundSubtractorMOG2(history=5,varThreshold=5,detectShadows=True)\n",
    "\n",
    "\n",
    "while (True):\n",
    "    ret, frame = cap.read()\n",
    "    gray_frame = cv2.cvtColor(frame,cv2.COLOR_BGR2GRAY)\n",
    "\n",
    "    face_rect = face_cascade.detectMultiScale(gray_frame,)\n",
    "                                              #scaleFactor = 1.2,\n",
    "                                              #minNeighbors = 5)\n",
    "    \n",
    "    if len(face_rect)==0:\n",
    "        cv2.putText(frame, 'No Face Detected', (250,50), cv2.FONT_HERSHEY_SIMPLEX, \n",
    "                   0.5, (0,0,255), 2, cv2.LINE_AA)\n",
    "\n",
    "    elif len(face_rect) == 2:\n",
    "        frame = background.apply(frame)\n",
    "\n",
    "\n",
    "    else:\n",
    "    # Otherwise draw a rectangle on each face that has been detected\n",
    "        for (x, y, w, h) in face_rect:\n",
    "            cv2.rectangle(frame, (x, y),\n",
    "                        (x + w, y + h), (0, 255, 0), 5)\n",
    "            cv2.putText(frame, 'Face Detected', (x,y), cv2.FONT_HERSHEY_SIMPLEX, \n",
    "                   0.5, (0,255,0), 2, cv2.LINE_AA)\n",
    "\n",
    "\n",
    "\n",
    "\n",
    "    \n",
    "\n",
    "\n",
    "    cv2.imshow(window_name,frame)\n",
    "\n",
    "    if key == 27:\n",
    "        break\n",
    "    \n",
    "    key = cv2.waitKey(1)\n",
    "\n",
    "\n",
    "\n",
    "cap.release()\n",
    "\n",
    "cv2.destroyAllWindows()\n",
    "cv2.waitKey(1)\n",
    "\n",
    "\n",
    "\n"
   ]
  },
  {
   "cell_type": "code",
   "execution_count": null,
   "metadata": {},
   "outputs": [],
   "source": []
  }
 ]
}