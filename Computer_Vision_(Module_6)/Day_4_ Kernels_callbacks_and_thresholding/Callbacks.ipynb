{
 "cells": [
  {
   "cell_type": "markdown",
   "metadata": {},
   "source": [
    "# OpenCV Callbacks"
   ]
  },
  {
   "cell_type": "code",
   "execution_count": 3,
   "metadata": {
    "ExecuteTime": {
     "end_time": "2019-11-19T09:54:11.762369Z",
     "start_time": "2019-11-19T09:54:09.945225Z"
    }
   },
   "outputs": [],
   "source": [
    "import cv2\n",
    "import numpy as np\n",
    "import matplotlib.pyplot as plt\n",
    "%matplotlib inline"
   ]
  },
  {
   "cell_type": "markdown",
   "metadata": {},
   "source": [
    "## Keyboard callbacks"
   ]
  },
  {
   "cell_type": "code",
   "execution_count": 2,
   "metadata": {
    "ExecuteTime": {
     "end_time": "2019-11-19T11:10:33.575331Z",
     "start_time": "2019-11-19T11:10:32.647518Z"
    }
   },
   "outputs": [],
   "source": [
    "# Load an image and show it on screen with cv2.imshow\n",
    "# When the key g or G is detected then change the image to show in grayscale\n",
    "# When the key c or C is detected then change the image to show in color\n",
    "# When the key t or T is detected then change the image to show the thresholded version of the image\n",
    "# When the key esc is detected close the image\n",
    "image=cv2.imread(\"/home/umut/Documents/GitHub/Strive_School/Computer_Vision_(Module_6)/Day_4_ Kernels_callbacks_and_thresholding/img/noisy.png\",cv2.COLOR_BGR2RGB)\n",
    "\n",
    "# \"You will need to use cv2.waitKey and python ord functions\"\n",
    "\n",
    "key = 0 \n",
    "cv2.imshow(\"little girl\", image)\n",
    "\n",
    "while True :\n",
    "    key=cv2.waitKey(0)\n",
    "    if key == ord('g') or key==ord('G'):\n",
    "        gray =cv2.cvtColor(image,cv2.COLOR_RGB2GRAY)\n",
    "        cv2.imshow(\"gray\",gray)\n",
    "    if key == ord('c') or key==ord('C'):\n",
    "        color=image\n",
    "        cv2.imshow(\"color\",color)\n",
    "    if key == ord('t') or key==ord('T'):\n",
    "        thresh=cv2.cvtColor(image,cv2.COLOR_RGB2GRAY)\n",
    "        _,thresh=cv2.threshold(image,128,255,cv2.THRESH_BINARY)\n",
    "        cv2.imshow(\"threshold\",thresh)\n",
    "    if key == 27:\n",
    "        cv2.destroyAllWindows()\n",
    "        cv2.waitKey(1)\n",
    "        break\n",
    "\n"
   ]
  },
  {
   "cell_type": "markdown",
   "metadata": {},
   "source": [
    "[Hint](# \"You will need to use cv2.waitKey and python ord functions\") "
   ]
  },
  {
   "cell_type": "code",
   "execution_count": 6,
   "metadata": {},
   "outputs": [
    {
     "output_type": "execute_result",
     "data": {
      "text/plain": [
       "-1"
      ]
     },
     "metadata": {},
     "execution_count": 6
    }
   ],
   "source": [
    "# Do the same as above but using your webcam image \n",
    "\n",
    "\n",
    "cap = cv2.VideoCapture(0)\n",
    "key = 0 \n",
    "\n",
    "\n",
    "while (True):\n",
    "    ret, frame = cap.read()\n",
    "    cv2.imshow(\"screen\",frame)\n",
    "\n",
    "    if key == ord('g') or key==ord('G'):\n",
    "        #cv2.destroyAllWindows()\n",
    "        #cv2.waitKey(1)\n",
    "\n",
    "        #ret, frame = cap.read()\n",
    "        \n",
    "        gray =cv2.cvtColor(frame,cv2.COLOR_RGB2GRAY)\n",
    "        cv2.imshow(\"screen\",gray)\n",
    "\n",
    "        #cap.release()\n",
    "\n",
    "        #cv2.imshow(\"gray\",frame)\n",
    "    if key == ord('c') or key==ord('C'):\n",
    "        #frame =cv2.cvtColor(frame,cv2.COLOR_BGR2RGB)\n",
    "        cv2.imshow(\"color\",frame)\n",
    "    if key == ord('t') or key==ord('T'):\n",
    "        frame =cv2.cvtColor(frame,cv2.COLOR_BGR2GRAY)\n",
    "        _,frame=cv2.threshold(frame,128,255,cv2.THRESH_BINARY)\n",
    "        cv2.imshow(\"screen\",frame)\n",
    "    if key == 27:\n",
    "        break\n",
    "    \n",
    "    key = cv2.waitKey(1)\n",
    "\n",
    "cap.release()\n",
    "# Destroy all the windowsq\n",
    "\n",
    "cv2.destroyAllWindows()\n",
    "cv2.waitKey(1)\n"
   ]
  },
  {
   "cell_type": "code",
   "execution_count": 4,
   "metadata": {},
   "outputs": [
    {
     "output_type": "execute_result",
     "data": {
      "text/plain": [
       "32"
      ]
     },
     "metadata": {},
     "execution_count": 4
    }
   ],
   "source": [
    "ord(' ')"
   ]
  },
  {
   "cell_type": "markdown",
   "metadata": {},
   "source": [
    "[Hint](# \"You will need to use cv2.VideoCapture function\") "
   ]
  },
  {
   "cell_type": "markdown",
   "metadata": {},
   "source": [
    "## Mouse callbacks"
   ]
  },
  {
   "cell_type": "code",
   "execution_count": 4,
   "metadata": {},
   "outputs": [
    {
     "output_type": "stream",
     "name": "stdout",
     "text": [
      "387 260\n",
      "235 163\n",
      "162 108\n",
      "120 165\n",
      "250 228\n"
     ]
    }
   ],
   "source": [
    "# Load an image and show it on screen with cv2.imshow\n",
    "# When the user clicks on top of the image save the coordinates\n",
    "# The user will then move the cursor without releasing the mouse button to another position\n",
    "# When the user releases the button draw a rectagle around the ROI\n",
    "# When the key esc is detected close the image\n",
    "image=cv2.imread(\"/home/umut/Documents/GitHub/Strive_School/Computer_Vision_(Module_6)/Day_3_ Histograms_transformations_and_Bitwise_ops/img/night1.jpg\",cv2.COLOR_BGR2RGB)\n",
    "window_name = \"mouse callbacks\"\n",
    "img = image.copy()\n",
    "cv2.namedWindow(window_name)\n",
    "\n",
    "def cursor_games(action,x,y,flags,userdata):\n",
    "    if action == cv2.EVENT_LBUTTONDOWN: #printing coordinates\n",
    "        print(x,y)\n",
    "\n",
    "\n",
    "    if action == cv2.EVENT_LBUTTONUP:\n",
    "        cv2.rectangle(userdata,(x,y),(x+50,y+50),(0,255,0),-1)\n",
    "        cv2.imshow(window_name,userdata)\n",
    "\n",
    "cv2.setMouseCallback(window_name,cursor_games,img)\n",
    "cv2.imshow(window_name,img)\n",
    "\n",
    "while True :\n",
    "    key=cv2.waitKey(0)\n",
    "\n",
    "    \n",
    "    if key == 27:\n",
    "        cv2.destroyAllWindows()\n",
    "        cv2.waitKey(1)\n",
    "        break\n",
    "\n"
   ]
  },
  {
   "cell_type": "code",
   "execution_count": 28,
   "metadata": {},
   "outputs": [
    {
     "output_type": "stream",
     "name": "stdout",
     "text": [
      "[]\n",
      "[]\n",
      "[]\n",
      "[]\n",
      "[]\n",
      "[]\n",
      "[]\n",
      "[]\n",
      "[]\n",
      "[]\n",
      "[]\n",
      "[]\n",
      "[]\n",
      "[]\n",
      "[]\n",
      "[]\n",
      "[]\n",
      "[]\n",
      "[]\n",
      "[]\n",
      "[]\n",
      "[]\n",
      "[]\n",
      "[]\n",
      "[]\n",
      "[]\n",
      "[]\n",
      "[]\n",
      "[]\n",
      "[]\n",
      "[]\n",
      "[]\n",
      "[]\n",
      "[]\n",
      "[]\n",
      "[]\n",
      "[]\n",
      "[]\n",
      "[]\n",
      "[]\n",
      "[]\n",
      "[]\n",
      "[]\n",
      "[]\n",
      "[]\n",
      "[]\n",
      "[]\n",
      "[]\n",
      "[]\n",
      "[]\n",
      "[]\n",
      "[]\n",
      "[]\n",
      "[]\n",
      "[]\n",
      "[]\n",
      "[]\n",
      "[]\n",
      "[]\n",
      "[]\n",
      "[]\n",
      "[]\n",
      "[]\n",
      "[]\n",
      "[]\n",
      "[]\n",
      "[]\n",
      "[]\n",
      "[]\n",
      "[]\n",
      "[]\n",
      "[]\n",
      "[]\n",
      "[]\n",
      "[]\n",
      "[]\n",
      "[]\n",
      "[]\n",
      "[]\n",
      "[]\n",
      "[]\n",
      "[]\n",
      "[]\n",
      "[]\n",
      "[]\n",
      "[]\n",
      "[]\n",
      "[]\n",
      "[]\n",
      "[]\n",
      "[]\n",
      "[]\n",
      "[]\n",
      "[]\n",
      "[]\n",
      "[]\n",
      "[]\n",
      "[]\n",
      "[]\n",
      "[]\n",
      "[]\n",
      "[]\n",
      "[]\n",
      "[]\n",
      "[]\n",
      "[]\n",
      "[]\n",
      "[]\n",
      "[]\n",
      "[]\n",
      "[]\n",
      "[]\n"
     ]
    }
   ],
   "source": [
    "# Crop and save the ROI image to disk \n",
    "# \"cv2.setMouseCallback\"\n",
    "image=cv2.imread(\"/home/umut/Documents/GitHub/Strive_School/Computer_Vision_(Module_6)/Day_3_ Histograms_transformations_and_Bitwise_ops/img/night1.jpg\",cv2.COLOR_BGR2RGB)\n",
    "window_name = \"mouse callbacks\"\n",
    "img = image.copy()\n",
    "cv2.namedWindow(window_name)\n",
    "\n",
    "def cursor_games(action,x,y,flags,userdata):\n",
    "    x_list=[]\n",
    "    y_list=[]\n",
    "\n",
    "    if action == cv2.EVENT_LBUTTONDOWN:\n",
    "        x_list.append(x)\n",
    "        y_list.append(y)\n",
    "        \n",
    "        print(x_list)\n",
    "        print(y_list)\n",
    "    if action == cv2.EVENT_LBUTTONUP:\n",
    "        x_list.append(x)\n",
    "        y_list.append(y)\n",
    "        print(x_list)\n",
    "        \n",
    "        userdata = userdata[(x_list[1]-x_list[0]),(y_list[1]-y_list[0])]\n",
    "        cv2.imshow(window_name,userdata)\n",
    "\n",
    "\n",
    "cv2.setMouseCallback(window_name,cursor_games,img)\n",
    "cv2.imshow(window_name,img)\n",
    "\n",
    "while True :\n",
    "    key=cv2.waitKey(0)\n",
    "\n",
    "    \n",
    "    if key == 27:\n",
    "        cv2.destroyAllWindows()\n",
    "        cv2.waitKey(1)\n",
    "        break\n",
    "\n"
   ]
  },
  {
   "cell_type": "markdown",
   "metadata": {},
   "source": [
    "[Hint](# \"cv2.setMouseCallback\") "
   ]
  },
  {
   "cell_type": "markdown",
   "metadata": {},
   "source": [
    "## Trackbars"
   ]
  },
  {
   "cell_type": "code",
   "execution_count": 11,
   "metadata": {
    "ExecuteTime": {
     "end_time": "2019-11-19T11:17:26.647991Z",
     "start_time": "2019-11-19T11:17:26.635749Z"
    }
   },
   "outputs": [
    {
     "output_type": "execute_result",
     "data": {
      "text/plain": [
       "-1"
      ]
     },
     "metadata": {},
     "execution_count": 11
    }
   ],
   "source": [
    "# Create a named window, load and show an image in that window\n",
    "image=cv2.imread(\"/home/umut/Documents/GitHub/Strive_School/Computer_Vision_(Module_6)/Day_3_ Histograms_transformations_and_Bitwise_ops/img/night1.jpg\")\n",
    "window_name = \"trackbars\"\n",
    "img = image.copy()\n",
    "cv2.namedWindow(window_name,cv2.WINDOW_AUTOSIZE)\n",
    "\n",
    "cv2.destroyAllWindows()\n",
    "cv2.waitKey(1)\n"
   ]
  },
  {
   "cell_type": "markdown",
   "metadata": {},
   "source": [
    "[Hint](# \"cv2.namedWindow\") "
   ]
  },
  {
   "cell_type": "code",
   "execution_count": 6,
   "metadata": {},
   "outputs": [
    {
     "output_type": "execute_result",
     "data": {
      "text/plain": [
       "-1"
      ]
     },
     "metadata": {},
     "execution_count": 6
    }
   ],
   "source": [
    "# Add at least 3 different trackbars to the window (choose of any parameters that you want to modify with them)\n",
    "# Each trackbar will modify some parameter of the image, write a function for each trackbar\n",
    "# When the user move the trackbar around the image should be updated accordingly\n",
    "# When the key esc is detected close the image\n",
    "image=cv2.imread(\"/home/umut/Documents/GitHub/Strive_School/Computer_Vision_(Module_6)/Day_3_ Histograms_transformations_and_Bitwise_ops/img/night1.jpg\")\n",
    "window_name = \"track games\"\n",
    "img = image.copy()\n",
    "cv2.namedWindow(window_name,cv2.WINDOW_AUTOSIZE)\n",
    "gray_image = cv2.cvtColor(image,cv2.COLOR_BGR2GRAY)\n",
    "\n",
    "\n",
    "\n",
    "color_types=[cv2.COLOR_BGR2GRAY,cv2.COLOR_BGR2HLS,cv2.COLOR_BGR2HSV,cv2.COLOR_BGR2RGBA,cv2.COLOR_BGR5552GRAY]\n",
    "\n",
    "threshold_value=150\n",
    "color = 20\n",
    "color_type=cv2.COLOR_BGR2GRAY\n",
    "\n",
    "def change_threshhold(val):\n",
    "    threshold = val\n",
    "    _,thresh = cv2.threshold(gray_image,threshold,255,cv2.THRESH_BINARY)\n",
    "    cv2.imshow(window_name,thresh)\n",
    "def change_color(val):\n",
    "    color=img*val\n",
    "    cv2.imshow(window_name,color)\n",
    "\n",
    "def color_maps(val):\n",
    "    color_type=color_types[val]\n",
    "    image_color=cv2.cvtColor(image,color_type)\n",
    "    cv2.imshow(window_name,image_color)\n",
    "\n",
    "cv2.createTrackbar(\"Threshold\",window_name,threshold_value,255,change_threshhold)\n",
    "cv2.createTrackbar(\"color\",window_name,color,30,change_color)\n",
    "cv2.createTrackbar(\"color_map\",window_name,color_type,4,color_maps)\n",
    "\n",
    "cv2.imshow(window_name,gray_image)\n",
    "cv2.waitKey()\n",
    "cv2.destroyAllWindows()\n",
    "cv2.waitKey(1)\n",
    "\n",
    "\n"
   ]
  },
  {
   "cell_type": "markdown",
   "metadata": {},
   "source": [
    "[Hint](# \"cv2.createTrackbar\") "
   ]
  },
  {
   "cell_type": "code",
   "execution_count": 22,
   "metadata": {
    "ExecuteTime": {
     "end_time": "2019-11-19T11:17:40.562115Z",
     "start_time": "2019-11-19T11:17:39.321415Z"
    },
    "scrolled": false
   },
   "outputs": [
    {
     "output_type": "execute_result",
     "data": {
      "text/plain": [
       "-1"
      ]
     },
     "metadata": {},
     "execution_count": 22
    }
   ],
   "source": [
    "# Do the same as above but using your webcam image so the trackbars will apply the changes on live image\n",
    "\n",
    "cap = cv2.VideoCapture(0)\n",
    "key = 0 \n",
    "cv2.namedWindow(window_name,cv2.WINDOW_AUTOSIZE)\n",
    "\n",
    "\n",
    "\n",
    "\n",
    "\n",
    "while (True):\n",
    "    ret, frame = cap.read()\n",
    "    gray_frame = cv2.cvtColor(frame,cv2.COLOR_BGR2GRAY)\n",
    "\n",
    "\n",
    "    def change_threshhold(val):\n",
    "        threshold = val\n",
    "        _,thresh = cv2.threshold(gray_frame,threshold,255,cv2.THRESH_BINARY)\n",
    "        cv2.imshow(window_name,thresh)\n",
    "    def change_color(val):\n",
    "        color=frame*val\n",
    "        cv2.imshow(window_name,color)\n",
    "\n",
    "    def color_maps(val):\n",
    "        color_type=color_types[val]\n",
    "        image_color=cv2.cvtColor(frame,color_type)\n",
    "        cv2.imshow(window_name,image_color)\n",
    "\n",
    "\n",
    "    cv2.createTrackbar(\"Threshold\",window_name,threshold_value,255,change_threshhold)\n",
    "    cv2.createTrackbar(\"color\",window_name,color,30,change_color)\n",
    "    cv2.createTrackbar(\"color_map\",window_name,color_type,4,color_maps)\n",
    "    \n",
    "    cv2.imshow(window_name,gray_frame)\n",
    "    if key == 27:\n",
    "        break\n",
    "    \n",
    "    key = cv2.waitKey(1)\n",
    "\n",
    "cap.release()\n",
    "\n",
    "cv2.destroyAllWindows()\n",
    "cv2.waitKey(1)\n"
   ]
  },
  {
   "cell_type": "code",
   "execution_count": null,
   "metadata": {},
   "outputs": [],
   "source": []
  }
 ],
 "metadata": {
  "kernelspec": {
   "name": "python385jvsc74a57bd0737e9587d30d88c29f1321911dcbdbc8762e4df40f7563cdfd1b93bad311ab30",
   "display_name": "Python 3.8.5 64-bit ('my-project-env': virtualenvwrapper)"
  },
  "language_info": {
   "codemirror_mode": {
    "name": "ipython",
    "version": 3
   },
   "file_extension": ".py",
   "mimetype": "text/x-python",
   "name": "python",
   "nbconvert_exporter": "python",
   "pygments_lexer": "ipython3",
   "version": "3.8.5"
  },
  "metadata": {
   "interpreter": {
    "hash": "737e9587d30d88c29f1321911dcbdbc8762e4df40f7563cdfd1b93bad311ab30"
   }
  }
 },
 "nbformat": 4,
 "nbformat_minor": 2
}