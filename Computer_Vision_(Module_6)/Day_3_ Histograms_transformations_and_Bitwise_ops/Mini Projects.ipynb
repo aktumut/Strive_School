{
 "cells": [
  {
   "cell_type": "markdown",
   "metadata": {},
   "source": [
    "# Mini projects"
   ]
  },
  {
   "cell_type": "markdown",
   "metadata": {},
   "source": [
    "## Green screen"
   ]
  },
  {
   "cell_type": "markdown",
   "metadata": {},
   "source": [
    "1. Create a method to process an image with a green screen, replace the green screen with a background image\n",
    "\n",
    "1. Adapt it to use your webcam and try it out, you might need to change the green screen to another color that you can use as your backgrouns (for example maybe white if you have a white wall behind you)"
   ]
  },
  {
   "cell_type": "code",
   "execution_count": 2,
   "metadata": {},
   "outputs": [],
   "source": [
    "import cv2\n",
    "import numpy as np\n",
    "import matplotlib.pyplot as plt\n",
    "%matplotlib inline"
   ]
  },
  {
   "cell_type": "code",
   "execution_count": 3,
   "metadata": {},
   "outputs": [
    {
     "output_type": "execute_result",
     "data": {
      "text/plain": [
       "(752, 1129)"
      ]
     },
     "metadata": {},
     "execution_count": 3
    }
   ],
   "source": [
    "img = cv2.imread(\"/home/umut/Documents/GitHub/Strive_School/Computer_Vision_(Module_6)/Day_3_ Histograms_transformations_and_Bitwise_ops/img/day1.jpg\")\n",
    "image=img.copy()\n",
    "image=cv2.cvtColor(image,cv2.COLOR_BGR2HSV)\n",
    "\n",
    "image.shape[:-1]\n"
   ]
  },
  {
   "cell_type": "code",
   "execution_count": 4,
   "metadata": {},
   "outputs": [
    {
     "output_type": "stream",
     "name": "stdout",
     "text": [
      "(2160, 3840, 3)\n"
     ]
    },
    {
     "output_type": "execute_result",
     "data": {
      "text/plain": [
       "array([[[ 98, 238, 161],\n",
       "        [ 98, 238, 161],\n",
       "        [ 98, 238, 161],\n",
       "        ...,\n",
       "        [106,  12, 233],\n",
       "        [106,  12, 231],\n",
       "        [106,  12, 225]],\n",
       "\n",
       "       [[ 98, 238, 161],\n",
       "        [ 98, 238, 161],\n",
       "        [ 98, 238, 161],\n",
       "        ...,\n",
       "        [106,  12, 233],\n",
       "        [106,  12, 231],\n",
       "        [106,  12, 225]],\n",
       "\n",
       "       [[ 98, 238, 161],\n",
       "        [ 98, 238, 161],\n",
       "        [ 98, 238, 161],\n",
       "        ...,\n",
       "        [106,  12, 233],\n",
       "        [106,  12, 231],\n",
       "        [106,  12, 225]],\n",
       "\n",
       "       ...,\n",
       "\n",
       "       [[ 92, 144, 133],\n",
       "        [ 92, 155, 127],\n",
       "        [ 93, 135, 147],\n",
       "        ...,\n",
       "        [ 96,  98, 174],\n",
       "        [ 90, 162, 143],\n",
       "        [ 89, 192, 137]],\n",
       "\n",
       "       [[ 92, 141, 132],\n",
       "        [ 92, 131, 154],\n",
       "        [ 92, 165, 130],\n",
       "        ...,\n",
       "        [ 98,  99, 162],\n",
       "        [ 90, 172, 142],\n",
       "        [ 89, 177, 151]],\n",
       "\n",
       "       [[ 90, 145, 144],\n",
       "        [ 90, 167, 133],\n",
       "        [ 90, 165, 141],\n",
       "        ...,\n",
       "        [ 92, 140, 153],\n",
       "        [ 90, 146, 161],\n",
       "        [ 91, 137, 158]]], dtype=uint8)"
      ]
     },
     "metadata": {},
     "execution_count": 4
    }
   ],
   "source": [
    "background = cv2.imread(\"/home/umut/Documents/GitHub/Strive_School/Computer_Vision_(Module_6)/Day_3_ Histograms_transformations_and_Bitwise_ops/img/day4.jpg\")\n",
    "background=cv2.cvtColor(background,cv2.COLOR_BGR2HSV)\n",
    "\n",
    "\n",
    "print(background.shape)\n",
    "\n",
    "\n",
    "#background=background.reshape((image.shape))\n",
    "#green_image = green_image[:-1]+200\n",
    "def blue_detecter(image,background):\n",
    "    \n",
    "    background   = cv2.resize(background ,(image.shape[:-1][1],image.shape[:-1][0]),interpolation=cv2.INTER_NEAREST)\n",
    "\n",
    "\n",
    "\n",
    "    lower_blue = (90, 150, 20)\n",
    "    upper_blue = (130, 250, 255)\n",
    "\n",
    "\n",
    "\n",
    "    mask_blue = cv2.inRange(image, lower_blue, upper_blue)\n",
    "\n",
    "\n",
    "\n",
    "    image[mask_blue==0] = background[mask_blue==0]\n",
    "\n",
    "    square_negative=cv2.bitwise_and(image,background)\n",
    "\n",
    "    #plt.figure(figsize = (25,20))\n",
    "    #return plt.imshow(image,cmap='gray')\n",
    "    return image \n",
    "blue_detecter(image,background)\n"
   ]
  },
  {
   "cell_type": "code",
   "execution_count": 7,
   "metadata": {},
   "outputs": [
    {
     "output_type": "execute_result",
     "data": {
      "text/plain": [
       "-1"
      ]
     },
     "metadata": {},
     "execution_count": 7
    }
   ],
   "source": [
    "# define a video capture object\n",
    "vid = cv2.VideoCapture(0)\n",
    "  \n",
    "while(True):\n",
    "      \n",
    "    # Capture the video frame\n",
    "    # by frame\n",
    "    ret, frame = vid.read()\n",
    "  \n",
    "    # Display the resulting frame\n",
    "    cv2.imshow('frame', frame)\n",
    "    \n",
    "\n",
    "    # the 'q' button is set as the\n",
    "    # quitting button you may use any\n",
    "    # desired button of your choice\n",
    "    if cv2.waitKey(1) & 0xFF == ord('q'):\n",
    "        break\n",
    "    var=blue_detecter(frame,background)\n",
    "    cv2.imshow(\"s\",var)\n",
    "#cv2.waitKey(0)\n",
    "# After the loop release the cap object\n",
    "vid.release()\n",
    "# Destroy all the windows\n",
    "\n",
    "cv2.destroyAllWindows()\n",
    "cv2.waitKey(1)\n"
   ]
  },
  {
   "cell_type": "markdown",
   "metadata": {},
   "source": [
    "## Color images to black and white and back!"
   ]
  },
  {
   "cell_type": "markdown",
   "metadata": {},
   "source": [
    "1. Using a color image, load it with openCV then transform it to HSV and make it Grayscale (without transforming it to grayscale!)\n",
    "1. Convert the grayscale image back to color."
   ]
  },
  {
   "cell_type": "code",
   "execution_count": 5,
   "metadata": {},
   "outputs": [],
   "source": [
    "img = cv2.imread(\"/home/umut/Documents/GitHub/Strive_School/Computer_Vision_(Module_6)/Day_3_ Histograms_transformations_and_Bitwise_ops/img/day1.jpg\")\n",
    "image=img.copy()\n",
    "image=cv2.cvtColor(image,cv2.COLOR_BGR2HSV)"
   ]
  },
  {
   "cell_type": "code",
   "execution_count": 6,
   "metadata": {},
   "outputs": [
    {
     "output_type": "execute_result",
     "data": {
      "text/plain": [
       "-1"
      ]
     },
     "metadata": {},
     "execution_count": 6
    }
   ],
   "source": [
    "h, s, v = cv2.split(image)\n",
    "\n",
    "cv2.imshow(\"gray-image\",v)\n",
    "\n",
    "cv2.waitKey(0)\n",
    "cv2.destroyAllWindows()\n",
    "cv2.waitKey(1)"
   ]
  },
  {
   "cell_type": "code",
   "execution_count": 7,
   "metadata": {},
   "outputs": [
    {
     "output_type": "execute_result",
     "data": {
      "text/plain": [
       "-1"
      ]
     },
     "metadata": {},
     "execution_count": 7
    }
   ],
   "source": [
    "back = cv2.cvtColor(v,cv2.COLOR_GRAY2RGB)\n",
    "\n",
    "cv2.imshow(\"gray-image\",back)\n",
    "\n",
    "cv2.waitKey(0)\n",
    "cv2.destroyAllWindows()\n",
    "cv2.waitKey(1)"
   ]
  },
  {
   "cell_type": "markdown",
   "metadata": {},
   "source": [
    "## Day or night?"
   ]
  },
  {
   "cell_type": "markdown",
   "metadata": {},
   "source": [
    "1. Using all you have learned so far about computer vision, implement at least one method (or more!) to check if a certain image corresponds to a day or a night image.\n",
    "1. Use different images to check if your approach is working"
   ]
  },
  {
   "cell_type": "code",
   "execution_count": null,
   "metadata": {},
   "outputs": [],
   "source": []
  }
 ],
 "metadata": {
  "kernelspec": {
   "name": "python385jvsc74a57bd0737e9587d30d88c29f1321911dcbdbc8762e4df40f7563cdfd1b93bad311ab30",
   "display_name": "Python 3.8.5 64-bit ('my-project-env': virtualenvwrapper)"
  },
  "language_info": {
   "codemirror_mode": {
    "name": "ipython",
    "version": 3
   },
   "file_extension": ".py",
   "mimetype": "text/x-python",
   "name": "python",
   "nbconvert_exporter": "python",
   "pygments_lexer": "ipython3",
   "version": "3.8.5"
  },
  "metadata": {
   "interpreter": {
    "hash": "737e9587d30d88c29f1321911dcbdbc8762e4df40f7563cdfd1b93bad311ab30"
   }
  }
 },
 "nbformat": 4,
 "nbformat_minor": 4
}