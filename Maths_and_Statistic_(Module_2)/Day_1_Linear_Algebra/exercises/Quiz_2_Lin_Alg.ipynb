{
  "cells": [
    {
      "cell_type": "markdown",
      "source": "## Linear Algebra Quiz #2\n\n![title](./img/2_1.jpeg)\n\nWe strongly suggest working with numpy :)",
      "metadata": {
        "cell_id": "00000-c9de2687-78a9-4905-bc8d-ae6878ba66ae",
        "deepnote_cell_type": "markdown"
      }
    },
    {
      "cell_type": "code",
      "metadata": {
        "cell_id": "00001-01f9f3aa-c303-4aa4-a1e0-1bc673bfe913",
        "deepnote_to_be_reexecuted": false,
        "source_hash": "c2602aa8",
        "execution_millis": 0,
        "execution_start": 1617267416609,
        "deepnote_cell_type": "code"
      },
      "source": "import numpy as np",
      "outputs": [],
      "execution_count": null
    },
    {
      "cell_type": "markdown",
      "source": "![title](./img/2_2.png)\n- Which vectors below define a plane spanned by a linear combination?",
      "metadata": {
        "cell_id": "00002-172ae1b7-59db-4d73-ad04-ed75d1fb3f12",
        "deepnote_cell_type": "markdown"
      }
    },
    {
      "cell_type": "code",
      "source": "np.arctan2(v2,v3)\ncounter=0\nfor i in range(len(v3)):\n    for j in range(len(v3)):\n        if np.arctan2(v2,v3)[i]==np.arctan2(v2,v3)[j] or np.arctan2(v1,v2)[i]==np.arctan2(v1,v2)[j]:\n            counter=+1\ncounter",
      "metadata": {
        "tags": [],
        "cell_id": "00003-c918d35d-1eb6-44ed-baa4-c2b33d273eaf",
        "deepnote_to_be_reexecuted": false,
        "source_hash": "16551dea",
        "execution_millis": 6,
        "execution_start": 1617104621071,
        "deepnote_cell_type": "code"
      },
      "outputs": [
        {
          "output_type": "execute_result",
          "execution_count": 48,
          "data": {
            "text/plain": "1"
          },
          "metadata": {}
        }
      ],
      "execution_count": null
    },
    {
      "cell_type": "code",
      "source": "counter=0\nfor i in range(len(np.arctan2(v2,v3))):\n    if np.arctan2(v2,v3)[i]==np.arctan2(v2,v3)[i-1]:\n        counter=counter+1\nif counter==3:\n    print(\"variable 2 and 3 are on the same length\")\nelse:\n    print(\"variable 2 and 3 aren't on the same length that makes plane!\")\ncounter2=0\nfor i in range(len(np.arctan2(v1,v2))):\n    if np.arctan2(v1,v2)[i]==np.arctan2(v1,v2)[i-1]:\n        counter2=counter2+1\nif counter2==3:\n    print(\"variable 2 and 3 are on the same length\")\nelse:\n    print(\"variable 2 and 3 aren't on the same length that makes plane!\")\ncounter3=0\nfor i in range(len(np.arctan2(v1,v3))):\n    if np.arctan2(v1,v3)[i]==np.arctan2(v1,v3)[i-1]:\n        counter3=counter3+1\nif counter3==3:\n    print(\"variable 1 and 3 are on the same length\")\nelse:\n    print(\"variable 1 and 3 aren't on the same length that makes plane!\")",
      "metadata": {
        "tags": [],
        "cell_id": "00004-9a3fad14-1fb0-4521-a153-4c46c61d1b4d",
        "deepnote_to_be_reexecuted": false,
        "source_hash": "78cee401",
        "execution_millis": 8,
        "execution_start": 1617104856245,
        "deepnote_cell_type": "code"
      },
      "outputs": [
        {
          "name": "stdout",
          "text": "variable 2 and 3 are on the same length\nvariable 2 and 3 aren't on the same length that makes plane!\nvariable 1 and 3 aren't on the same length that makes plane!\n",
          "output_type": "stream"
        }
      ],
      "execution_count": null
    },
    {
      "cell_type": "code",
      "metadata": {
        "cell_id": "00003-b333a56f-1a1e-4a04-bfae-558d7b005673",
        "deepnote_to_be_reexecuted": false,
        "source_hash": "dcb5cea9",
        "execution_millis": 8,
        "execution_start": 1617105450907,
        "deepnote_cell_type": "code"
      },
      "source": "v1=np.array([1,2,3])\nv2=np.array([2,2,2])\nv3=np.array([8,8,8])\n\ndef plane(v1,v2,v3):\n    counter=0\n    for i in range(len(np.arctan2(v2,v3))):\n        if np.arctan2(v2,v3)[i]==np.arctan2(v2,v3)[i-1]:\n            counter=counter+1\n    if counter!=3:\n        return print(\"array 2 and 3 aren't on the same length that makes plane!\")\n\n    counter2=0\n    for i in range(len(np.arctan2(v1,v2))):\n        if np.arctan2(v1,v2)[i]==np.arctan2(v1,v2)[i-1]:\n            counter2=counter2+1\n    if counter2!=3:\n        return print(\"array 1 and 2 aren't on the same length that makes plane!\")\n    counter3=0\n    for i in range(len(np.arctan2(v1,v3))):\n        if np.arctan2(v1,v3)[i]==np.arctan2(v1,v3)[i-1]:\n            counter3=counter3+1\n    if counter3!=3:\n        return print(\"array 1 and 3 aren't on the same length that makes plane!\")\n    if counter==3 and counter2==3 and counter3==0:\n        print(\"these arrays can't make plane!\")\n    \nplane(v1,v2,v3)\n",
      "outputs": [
        {
          "name": "stdout",
          "text": "array 1 and 2 aren't on the same length that makes plane!\n",
          "output_type": "stream"
        }
      ],
      "execution_count": null
    },
    {
      "cell_type": "code",
      "source": "def complete_plane(v1,v2,v3):\n    counter=0\n    for i in range(len(np.arctan2(v2,v3))):\n        if np.arctan2(v2,v3)[i]==np.arctan2(v2,v3)[i-1]:\n            counter=counter+1\n    if counter!=3:\n        return print(\"array 2 and 3 aren't on the same length that makes plane!, and arrays are;\"), print(v2,v3)\n\n    counter2=0\n    for i in range(len(np.arctan2(v1,v2))):\n        if np.arctan2(v1,v2)[i]==np.arctan2(v1,v2)[i-1]:\n            counter2=counter2+1\n    if counter2!=3:\n        return print(\"array 1 and 2 aren't on the same length that makes plane!, and arrays are;\"), print(v1,v2)\n    counter3=0\n    for i in range(len(np.arctan2(v1,v3))):\n        if np.arctan2(v1,v3)[i]==np.arctan2(v1,v3)[i-1]:\n            counter3=counter3+1\n    if counter3!=3:\n        return print(\"array 1 and 3 aren't on the same length that makes plane!, and arrays are;\"), print(v1,v3)\n    if counter==3 and counter2==3 and counter3==0:\n        print(\"these arrays can't make plane!\")\n\ncomplete_plane(v1,v2,v3)\n#returns the first set of vectors to complete a plane, false otherwise",
      "metadata": {
        "tags": [],
        "cell_id": "00006-caf1610c-3424-4c04-aba9-ab97ceb29961",
        "deepnote_to_be_reexecuted": false,
        "source_hash": "a6a69da9",
        "execution_millis": 2,
        "execution_start": 1617105516138,
        "deepnote_cell_type": "code"
      },
      "outputs": [
        {
          "name": "stdout",
          "text": "array 1 and 2 aren't on the same length that makes plane!, and arrays are;\n[1 2 3] [2 2 2]\n",
          "output_type": "stream"
        },
        {
          "output_type": "execute_result",
          "execution_count": 74,
          "data": {
            "text/plain": "(None, None)"
          },
          "metadata": {}
        }
      ],
      "execution_count": null
    },
    {
      "cell_type": "markdown",
      "source": "![title](./img/2_3.png)\n- What is the solution for a and b?",
      "metadata": {
        "cell_id": "00004-d9afe378-20de-428c-97f7-ac1843ef53e0",
        "deepnote_cell_type": "markdown"
      }
    },
    {
      "cell_type": "code",
      "metadata": {
        "cell_id": "00005-3455e7b1-b640-434b-b881-ddbe33f57973",
        "deepnote_to_be_reexecuted": false,
        "source_hash": "98d6345d",
        "execution_millis": 39,
        "execution_start": 1617267423511,
        "deepnote_cell_type": "code"
      },
      "source": "x=np.array([[2,3],[10,15]])\ny=np.array([-1,-5])\nnp.linalg.solve(x,y)\n\n# !!!!\n## it is definetly deepnote problem, I gave feedback to them",
      "outputs": [
        {
          "output_type": "error",
          "ename": "LinAlgError",
          "evalue": "Singular matrix",
          "traceback": [
            "\u001b[0;31m---------------------------------------------------------------------------\u001b[0m",
            "\u001b[0;31mLinAlgError\u001b[0m                               Traceback (most recent call last)",
            "\u001b[0;32m<ipython-input-4-c6813e564d04>\u001b[0m in \u001b[0;36m<module>\u001b[0;34m\u001b[0m\n\u001b[1;32m      1\u001b[0m \u001b[0mx\u001b[0m\u001b[0;34m=\u001b[0m\u001b[0mnp\u001b[0m\u001b[0;34m.\u001b[0m\u001b[0marray\u001b[0m\u001b[0;34m(\u001b[0m\u001b[0;34m[\u001b[0m\u001b[0;34m[\u001b[0m\u001b[0;36m2\u001b[0m\u001b[0;34m,\u001b[0m\u001b[0;36m3\u001b[0m\u001b[0;34m]\u001b[0m\u001b[0;34m,\u001b[0m\u001b[0;34m[\u001b[0m\u001b[0;36m10\u001b[0m\u001b[0;34m,\u001b[0m\u001b[0;36m15\u001b[0m\u001b[0;34m]\u001b[0m\u001b[0;34m]\u001b[0m\u001b[0;34m)\u001b[0m\u001b[0;34m\u001b[0m\u001b[0;34m\u001b[0m\u001b[0m\n\u001b[1;32m      2\u001b[0m \u001b[0my\u001b[0m\u001b[0;34m=\u001b[0m\u001b[0mnp\u001b[0m\u001b[0;34m.\u001b[0m\u001b[0marray\u001b[0m\u001b[0;34m(\u001b[0m\u001b[0;34m[\u001b[0m\u001b[0;34m-\u001b[0m\u001b[0;36m1\u001b[0m\u001b[0;34m,\u001b[0m\u001b[0;34m-\u001b[0m\u001b[0;36m5\u001b[0m\u001b[0;34m]\u001b[0m\u001b[0;34m)\u001b[0m\u001b[0;34m\u001b[0m\u001b[0;34m\u001b[0m\u001b[0m\n\u001b[0;32m----> 3\u001b[0;31m \u001b[0mnp\u001b[0m\u001b[0;34m.\u001b[0m\u001b[0mlinalg\u001b[0m\u001b[0;34m.\u001b[0m\u001b[0msolve\u001b[0m\u001b[0;34m(\u001b[0m\u001b[0mx\u001b[0m\u001b[0;34m,\u001b[0m\u001b[0my\u001b[0m\u001b[0;34m)\u001b[0m\u001b[0;34m\u001b[0m\u001b[0;34m\u001b[0m\u001b[0m\n\u001b[0m\u001b[1;32m      4\u001b[0m \u001b[0;34m\u001b[0m\u001b[0m\n\u001b[1;32m      5\u001b[0m \u001b[0;31m# !!!!\u001b[0m\u001b[0;34m\u001b[0m\u001b[0;34m\u001b[0m\u001b[0;34m\u001b[0m\u001b[0m\n",
            "\u001b[0;32m<__array_function__ internals>\u001b[0m in \u001b[0;36msolve\u001b[0;34m(*args, **kwargs)\u001b[0m\n",
            "\u001b[0;32m/shared-libs/python3.7/py/lib/python3.7/site-packages/numpy/linalg/linalg.py\u001b[0m in \u001b[0;36msolve\u001b[0;34m(a, b)\u001b[0m\n\u001b[1;32m    392\u001b[0m     \u001b[0msignature\u001b[0m \u001b[0;34m=\u001b[0m \u001b[0;34m'DD->D'\u001b[0m \u001b[0;32mif\u001b[0m \u001b[0misComplexType\u001b[0m\u001b[0;34m(\u001b[0m\u001b[0mt\u001b[0m\u001b[0;34m)\u001b[0m \u001b[0;32melse\u001b[0m \u001b[0;34m'dd->d'\u001b[0m\u001b[0;34m\u001b[0m\u001b[0;34m\u001b[0m\u001b[0m\n\u001b[1;32m    393\u001b[0m     \u001b[0mextobj\u001b[0m \u001b[0;34m=\u001b[0m \u001b[0mget_linalg_error_extobj\u001b[0m\u001b[0;34m(\u001b[0m\u001b[0m_raise_linalgerror_singular\u001b[0m\u001b[0;34m)\u001b[0m\u001b[0;34m\u001b[0m\u001b[0;34m\u001b[0m\u001b[0m\n\u001b[0;32m--> 394\u001b[0;31m     \u001b[0mr\u001b[0m \u001b[0;34m=\u001b[0m \u001b[0mgufunc\u001b[0m\u001b[0;34m(\u001b[0m\u001b[0ma\u001b[0m\u001b[0;34m,\u001b[0m \u001b[0mb\u001b[0m\u001b[0;34m,\u001b[0m \u001b[0msignature\u001b[0m\u001b[0;34m=\u001b[0m\u001b[0msignature\u001b[0m\u001b[0;34m,\u001b[0m \u001b[0mextobj\u001b[0m\u001b[0;34m=\u001b[0m\u001b[0mextobj\u001b[0m\u001b[0;34m)\u001b[0m\u001b[0;34m\u001b[0m\u001b[0;34m\u001b[0m\u001b[0m\n\u001b[0m\u001b[1;32m    395\u001b[0m \u001b[0;34m\u001b[0m\u001b[0m\n\u001b[1;32m    396\u001b[0m     \u001b[0;32mreturn\u001b[0m \u001b[0mwrap\u001b[0m\u001b[0;34m(\u001b[0m\u001b[0mr\u001b[0m\u001b[0;34m.\u001b[0m\u001b[0mastype\u001b[0m\u001b[0;34m(\u001b[0m\u001b[0mresult_t\u001b[0m\u001b[0;34m,\u001b[0m \u001b[0mcopy\u001b[0m\u001b[0;34m=\u001b[0m\u001b[0;32mFalse\u001b[0m\u001b[0;34m)\u001b[0m\u001b[0;34m)\u001b[0m\u001b[0;34m\u001b[0m\u001b[0;34m\u001b[0m\u001b[0m\n",
            "\u001b[0;32m/shared-libs/python3.7/py/lib/python3.7/site-packages/numpy/linalg/linalg.py\u001b[0m in \u001b[0;36m_raise_linalgerror_singular\u001b[0;34m(err, flag)\u001b[0m\n\u001b[1;32m     86\u001b[0m \u001b[0;34m\u001b[0m\u001b[0m\n\u001b[1;32m     87\u001b[0m \u001b[0;32mdef\u001b[0m \u001b[0m_raise_linalgerror_singular\u001b[0m\u001b[0;34m(\u001b[0m\u001b[0merr\u001b[0m\u001b[0;34m,\u001b[0m \u001b[0mflag\u001b[0m\u001b[0;34m)\u001b[0m\u001b[0;34m:\u001b[0m\u001b[0;34m\u001b[0m\u001b[0;34m\u001b[0m\u001b[0m\n\u001b[0;32m---> 88\u001b[0;31m     \u001b[0;32mraise\u001b[0m \u001b[0mLinAlgError\u001b[0m\u001b[0;34m(\u001b[0m\u001b[0;34m\"Singular matrix\"\u001b[0m\u001b[0;34m)\u001b[0m\u001b[0;34m\u001b[0m\u001b[0;34m\u001b[0m\u001b[0m\n\u001b[0m\u001b[1;32m     89\u001b[0m \u001b[0;34m\u001b[0m\u001b[0m\n\u001b[1;32m     90\u001b[0m \u001b[0;32mdef\u001b[0m \u001b[0m_raise_linalgerror_nonposdef\u001b[0m\u001b[0;34m(\u001b[0m\u001b[0merr\u001b[0m\u001b[0;34m,\u001b[0m \u001b[0mflag\u001b[0m\u001b[0;34m)\u001b[0m\u001b[0;34m:\u001b[0m\u001b[0;34m\u001b[0m\u001b[0;34m\u001b[0m\u001b[0m\n",
            "\u001b[0;31mLinAlgError\u001b[0m: Singular matrix"
          ]
        }
      ],
      "execution_count": null
    },
    {
      "cell_type": "markdown",
      "source": "![title](./img/2_4.png)\n- What is the solution for a and b?",
      "metadata": {
        "cell_id": "00006-add988ee-4247-4809-9bd7-61237e97e606",
        "deepnote_cell_type": "markdown"
      }
    },
    {
      "cell_type": "code",
      "metadata": {
        "cell_id": "00007-73dea5f9-976f-4d56-b73b-1c5080c08c6d",
        "deepnote_to_be_reexecuted": false,
        "source_hash": "e85187a3",
        "execution_millis": 1,
        "execution_start": 1617033186871,
        "deepnote_cell_type": "code"
      },
      "source": "#Same equations can't give different outputs!",
      "execution_count": null,
      "outputs": []
    },
    {
      "cell_type": "code",
      "metadata": {
        "tags": [],
        "cell_id": "00010-d45a1046-bace-4511-a669-9f10d4b62a40",
        "is_code_hidden": true,
        "deepnote_cell_type": "code"
      },
      "source": "",
      "execution_count": null,
      "outputs": []
    },
    {
      "cell_type": "markdown",
      "source": "<a style='text-decoration:none;line-height:16px;display:flex;color:#5B5B62;padding:10px;justify-content:end;' href='https://deepnote.com?utm_source=created-in-deepnote-cell&projectId=796ba814-f632-4502-b0d7-7e2f8f9e546d' target=\"_blank\">\n<img alt='Created in deepnote.com' style='display:inline;max-height:16px;margin:0px;margin-right:7.5px;' src='data:image/svg+xml;base64,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' > </img>\nCreated in <span style='font-weight:600;margin-left:4px;'>Deepnote</span></a>",
      "metadata": {
        "tags": [],
        "created_in_deepnote_cell": true,
        "deepnote_cell_type": "markdown"
      }
    }
  ],
  "nbformat": 4,
  "nbformat_minor": 2,
  "metadata": {
    "kernelspec": {
      "display_name": "Python 3",
      "language": "python",
      "name": "python3"
    },
    "language_info": {
      "codemirror_mode": {
        "name": "ipython",
        "version": 3
      },
      "file_extension": ".py",
      "mimetype": "text/x-python",
      "name": "python",
      "nbconvert_exporter": "python",
      "pygments_lexer": "ipython3",
      "version": "3.8.5"
    },
    "deepnote_notebook_id": "7c5d528d-7525-4a75-ac25-5f3dc6ae2af3",
    "deepnote": {},
    "deepnote_execution_queue": []
  }
}