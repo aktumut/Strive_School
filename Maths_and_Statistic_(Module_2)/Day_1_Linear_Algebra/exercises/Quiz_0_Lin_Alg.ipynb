{
  "cells": [
    {
      "cell_type": "markdown",
      "source": "# Vectors and Matrices\nTime to work! Do it with numpy first and then if you have time, manually by hand :)",
      "metadata": {
        "cell_id": "00000-c12e4ad4-bc09-4fc4-b8b7-ff0cbc786a2d",
        "deepnote_cell_type": "markdown"
      }
    },
    {
      "cell_type": "markdown",
      "source": "## Vectors",
      "metadata": {
        "cell_id": "00001-cf35bff7-1197-4e3d-96ac-b601776f98b2",
        "deepnote_cell_type": "markdown"
      }
    },
    {
      "cell_type": "markdown",
      "source": "Lists can be used to represent mathematical vectors. In this exercise and several that follow you will write functions to perform standard operations on vectors. Create a file named vectors.py or use the Jupyter notebook provided\n\nWrite a function add_vectors(u, v) that takes two lists of numbers of the same length, and returns a new list containing the sums of the corresponding elements of each.\n\n**Note that the text in \"\"\" \"\"\" is provided for you to accurately verify that your function works :)**",
      "metadata": {
        "cell_id": "00002-af751910-b1f7-4e00-ba29-177da01238d2",
        "deepnote_cell_type": "markdown"
      }
    },
    {
      "cell_type": "code",
      "source": "import numpy as np\nimport pandas as pd",
      "metadata": {
        "tags": [],
        "cell_id": "00003-9a7a00ac-fb86-4aff-b568-6574361ec69f",
        "deepnote_to_be_reexecuted": false,
        "source_hash": "b7dcc9c8",
        "execution_start": 1617023864952,
        "execution_millis": 0,
        "deepnote_cell_type": "code"
      },
      "outputs": [],
      "execution_count": 1
    },
    {
      "cell_type": "code",
      "metadata": {
        "cell_id": "00003-72794c53-c13c-42ed-995b-5c6bb8ede1a1",
        "deepnote_to_be_reexecuted": false,
        "source_hash": "4c0490ec",
        "execution_millis": 17,
        "execution_start": 1617023932849,
        "deepnote_cell_type": "code"
      },
      "source": "def add_vectors(u, v):\n    \"\"\"\n      >>> add_vectors([1, 0], [1, 1])\n      [2, 1]\n      >>> add_vectors([1, 2], [1, 4])\n      [2, 6]\n      >>> add_vectors([1, 2, 1], [1, 4, 3])\n      [2, 6, 4]\n      >>> add_vectors([11, 0, -4, 5], [2, -4, 17, 0])\n      [13, -4, 13, 5]\n      >>> a = [1, 2, 3]\n      >>> b = [1, 1, 1]\n      >>> add_vectors(a, b)\n      [2, 3, 4]\n      >>> a\n      [1, 2, 3]\n      >>> b\n      [1, 1, 1]\n    \"\"\"\n    u=np.array(u)\n    v=np.array(v)\n    return u+v\na=[1,2,3]\nb=[1,1,1]\nadd_vectors(a,b)",
      "execution_count": 3,
      "outputs": [
        {
          "output_type": "execute_result",
          "execution_count": 3,
          "data": {
            "text/plain": "array([2, 3, 4])"
          },
          "metadata": {}
        }
      ]
    },
    {
      "cell_type": "markdown",
      "source": "Write a function scalar_mult(s, v) that takes a number, s, and a list, v and returns the [scalar multiple](https://en.wikipedia.org/wiki/Scalar_multiplication) of v by s.",
      "metadata": {
        "cell_id": "00004-7616ff80-3a78-4326-8f8e-52733eb59621",
        "deepnote_cell_type": "markdown"
      }
    },
    {
      "cell_type": "code",
      "metadata": {
        "cell_id": "00005-7aa1bd7f-01d9-429d-9395-f311679fffb3",
        "deepnote_to_be_reexecuted": false,
        "source_hash": "23c4af85",
        "execution_start": 1617024046298,
        "execution_millis": 6,
        "deepnote_cell_type": "code"
      },
      "source": "def scalar_mult(s, v):\n    \"\"\"\n      >>> scalar_mult(5, [1, 2])\n      [5, 10]\n      >>> scalar_mult(3, [1, 0, -1])\n      [3, 0, -3]\n      >>> scalar_mult(7, [3, 0, 5, 11, 2])\n      [21, 0, 35, 77, 14]\n      >>> a = [1, 2, 3]\n      >>> scalar_mult(4, a)\n      [4, 8, 12]\n      >>> a\n      [1, 2, 3]\n    \"\"\"\n    s=np.array(s)\n    return s*v\nscalar_mult(a,2)",
      "execution_count": 4,
      "outputs": [
        {
          "output_type": "execute_result",
          "execution_count": 4,
          "data": {
            "text/plain": "array([2, 4, 6])"
          },
          "metadata": {}
        }
      ]
    },
    {
      "cell_type": "markdown",
      "source": "Write a function dot_product(u, v) that takes two lists of numbers of the same length, and returns the sum of the products of the corresponding elements of each (the [dot_product](https://en.wikipedia.org/wiki/Dot_product).",
      "metadata": {
        "cell_id": "00006-ebaee037-7ad9-44d6-9f64-5aeaf62507f5",
        "deepnote_cell_type": "markdown"
      }
    },
    {
      "cell_type": "code",
      "metadata": {
        "cell_id": "00007-63b07e6a-5556-4bb4-a3c2-656442c16637",
        "deepnote_to_be_reexecuted": false,
        "source_hash": "201cbf86",
        "execution_millis": 15,
        "execution_start": 1617024293601,
        "deepnote_cell_type": "code"
      },
      "source": "x=[2, 0, -1, 1]\ny=[1, 5, 2, 0]\n\ndef dot_product(u, v):\n    \"\"\"\n      >>> dot_product([1, 1], [1, 1])\n      2\n      >>> dot_product([1, 2], [1, 4])\n      9\n      >>> dot_product([1, 2, 1], [1, 4, 3])\n      12\n      >>> dot_product([2, 0, -1, 1], [1, 5, 2, 0])\n      0\n    \"\"\"\n    u=np.array(u)\n    v=np.array(v)\n    return np.dot(u,v)\n\ndot_product(x,y)",
      "execution_count": 6,
      "outputs": [
        {
          "output_type": "execute_result",
          "execution_count": 6,
          "data": {
            "text/plain": "0"
          },
          "metadata": {}
        }
      ]
    },
    {
      "cell_type": "markdown",
      "source": "## Matrices",
      "metadata": {
        "cell_id": "00008-1e0a87d8-297b-47dd-9c29-8f0266adaca8",
        "deepnote_cell_type": "markdown"
      }
    },
    {
      "cell_type": "markdown",
      "source": "Create a new module named matrices.py or *use the Jupyter notebook provided* and add the following function, which returns a copy of nested lists of numbers such that the lists are not aliases:",
      "metadata": {
        "cell_id": "00009-b787577b-f6e1-4f53-b924-6d29d843ea57",
        "deepnote_cell_type": "markdown"
      }
    },
    {
      "cell_type": "code",
      "metadata": {
        "cell_id": "00010-56f4b25a-75d0-4d0e-94e2-d4b0f06167b2",
        "deepnote_cell_type": "code"
      },
      "source": "def copy_matrix(matrix):\n    \"\"\"\n      >>> copy_matrix([[1, 2], [3, 4]])\n      [[1, 2], [3, 4]]\n      >>> copy_matrix([[1, 2, 3], [4, 5, 6]])\n      [[1, 2, 3], [4, 5, 6]]\n      >>> copy_matrix([[1, 2], [3, 4], [5, 6], [7, 8]])\n      [[1, 2], [3, 4], [5, 6], [7, 8]]\n      >>> m = [[1, 0, 0], [0, 2, 0], [0, 0, 3]]\n      >>> copyofm = copy_matrix(m)\n      >>> copyofm\n      [[1, 0, 0], [0, 2, 0], [0, 0, 3]]\n      >>> for row_num, row in enumerate(copyofm):\n      ...     for col_num, col_val in enumerate(row):\n      ...         copyofm[row_num][col_num] = 42\n      ...\n      >>> copyofm\n      [[42, 42, 42], [42, 42, 42], [42, 42, 42]]\n      >>> m\n      [[1, 0, 0], [0, 2, 0], [0, 0, 3]]\n    \"\"\"",
      "execution_count": 6,
      "outputs": []
    },
    {
      "cell_type": "code",
      "metadata": {
        "cell_id": "00011-e51ab207-de45-40cd-8aba-01657865cf7a",
        "deepnote_cell_type": "code"
      },
      "source": "def add_row(matrix):\n    \"\"\"\n      >>> m = [[0, 0], [0, 0]]\n      >>> add_row(m)\n      [[0, 0], [0, 0], [0, 0]]\n      >>> n = [[3, 2, 5], [1, 4, 7]]\n      >>> add_row(n)\n      [[3, 2, 5], [1, 4, 7], [0, 0, 0]]\n      >>> n\n      [[3, 2, 5], [1, 4, 7]]\n    \"\"\"",
      "execution_count": null,
      "outputs": []
    },
    {
      "cell_type": "code",
      "metadata": {
        "cell_id": "00012-fced6078-51f0-4258-b792-35c1721d99b2",
        "deepnote_cell_type": "code"
      },
      "source": "def add_column(matrix):\n    \"\"\"\n      >>> m = [[0, 0], [0, 0]]\n      >>> add_column(m)\n      [[0, 0, 0], [0, 0, 0]]\n      >>> n = [[3, 2], [5, 1], [4, 7]]\n      >>> add_column(n)\n      [[3, 2, 0], [5, 1, 0], [4, 7, 0]]\n      >>> n\n      [[3, 2], [5, 1], [4, 7]]\n    \"\"\"",
      "execution_count": null,
      "outputs": []
    },
    {
      "cell_type": "markdown",
      "source": "Write a function add_matrices(m1, m2) that adds m1 and m2 and returns a new matrix containing their sum. You can assume that m1 and m2 are the same size. You add two matrices by adding their corresponding values.",
      "metadata": {
        "cell_id": "00013-6b9a0164-0659-4cb1-8b2c-97573f7786de",
        "deepnote_cell_type": "markdown"
      }
    },
    {
      "cell_type": "code",
      "metadata": {
        "cell_id": "00014-d87a6d88-a4e0-4e3e-9bb7-ef8062cb175e",
        "deepnote_cell_type": "code"
      },
      "source": "def add_matrices(m1, m2):\n    \"\"\"\n      >>> a = [[1, 2], [3, 4]]\n      >>> b = [[2, 2], [2, 2]]\n      >>> add_matrices(a, b)\n      [[3, 4], [5, 6]]\n      >>> c = [[8, 2], [3, 4], [5, 7]]\n      >>> d = [[3, 2], [9, 2], [10, 12]]\n      >>> add_matrices(c, d)\n      [[11, 4], [12, 6], [15, 19]]\n      >>> c\n      [[8, 2], [3, 4], [5, 7]]\n      >>> d\n      [[3, 2], [9, 2], [10, 12]]\n   \"\"\"",
      "execution_count": 7,
      "outputs": []
    },
    {
      "cell_type": "markdown",
      "source": "Write a function scalar_mult(s, m) that multiplies a matrix, m, by a scalar, s.",
      "metadata": {
        "cell_id": "00015-1355e1a1-8a08-438f-90fe-bf12f3c9d2c3",
        "deepnote_cell_type": "markdown"
      }
    },
    {
      "cell_type": "code",
      "metadata": {
        "cell_id": "00016-1319fe30-3b2e-4752-a4a9-6688fc3abdc0",
        "deepnote_cell_type": "code"
      },
      "source": "def scalar_mult(s, m):\n    \"\"\"\n      >>> a = [[1, 2], [3, 4]]\n      >>> scalar_mult(3, a)\n      [[3, 6], [9, 12]]\n      >>> b = [[3, 5, 7], [1, 1, 1], [0, 2, 0], [2, 2, 3]]\n      >>> scalar_mult(10, b)\n      [[30, 50, 70], [10, 10, 10], [0, 20, 0], [20, 20, 30]]\n      >>> b\n      [[3, 5, 7], [1, 1, 1], [0, 2, 0], [2, 2, 3]]\n    \"\"\"",
      "execution_count": 8,
      "outputs": []
    },
    {
      "cell_type": "markdown",
      "source": "Write functions row_times_column and matrix_mult:",
      "metadata": {
        "cell_id": "00017-8ffd0c7f-910f-4b7f-8e6c-07834c630a62",
        "deepnote_cell_type": "markdown"
      }
    },
    {
      "cell_type": "code",
      "metadata": {
        "cell_id": "00018-a78ac756-ec90-4120-888c-fc31d99700de",
        "deepnote_cell_type": "code"
      },
      "source": "def row_times_column(m1, row, m2, column):\n    \"\"\"\n      >>> row_times_column([[1, 2], [3, 4]], 0, [[5, 6], [7, 8]], 0)\n      19\n      >>> row_times_column([[1, 2], [3, 4]], 0, [[5, 6], [7, 8]], 1)\n      22\n      >>> row_times_column([[1, 2], [3, 4]], 1, [[5, 6], [7, 8]], 0)\n      43\n      >>> row_times_column([[1, 2], [3, 4]], 1, [[5, 6], [7, 8]], 1)\n      50\n    \"\"\"",
      "execution_count": 9,
      "outputs": []
    },
    {
      "cell_type": "code",
      "metadata": {
        "cell_id": "00019-b1c298b9-7c0d-41c4-8cd6-7d8850a5f186",
        "deepnote_cell_type": "code"
      },
      "source": "def matrix_mult(m1, m2):\n   \"\"\"\n      >>> matrix_mult([[1, 2], [3,  4]], [[5, 6], [7, 8]])\n      [[19, 22], [43, 50]]\n      >>> matrix_mult([[1, 2, 3], [4,  5, 6]], [[7, 8], [9, 1], [2, 3]])\n      [[31, 19], [85, 55]]\n      >>> matrix_mult([[7, 8], [9, 1], [2, 3]], [[1, 2, 3], [4, 5, 6]])\n      [[39, 54, 69], [13, 23, 33], [14, 19, 24]]\n    \"\"\"",
      "execution_count": 10,
      "outputs": []
    },
    {
      "cell_type": "markdown",
      "source": "Write a function transpose that takes a matrix as an argument and returns is transpose:",
      "metadata": {
        "cell_id": "00020-d74fe939-98f0-40c2-9b25-971290df124e",
        "deepnote_cell_type": "markdown"
      }
    },
    {
      "cell_type": "code",
      "metadata": {
        "cell_id": "00021-f62986b5-2527-4230-b930-5b3dcf67f49b",
        "deepnote_cell_type": "code"
      },
      "source": "def transpose(m):\n   \"\"\"\n     >>> m = [[3, 4, 6]]\n     >>> transpose(m)\n     [[3], [4], [6]]\n     >>> m\n     [3, 4, 6]\n     >>> m = [[3, 4, 6], [1, 5, 9]]\n     >>> transpose(m)\n     [[3, 1], [4, 5], [6, 9]]\n   \"\"\"",
      "execution_count": 11,
      "outputs": []
    },
    {
      "cell_type": "markdown",
      "source": "<a style='text-decoration:none;line-height:16px;display:flex;color:#5B5B62;padding:10px;justify-content:end;' href='https://deepnote.com?utm_source=created-in-deepnote-cell&projectId=796ba814-f632-4502-b0d7-7e2f8f9e546d' target=\"_blank\">\n<img style='display:inline;max-height:16px;margin:0px;margin-right:7.5px;' src='data:image/svg+xml;base64,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' > </img>\nCreated in <span style='font-weight:600;margin-left:4px;'>Deepnote</span></a>",
      "metadata": {
        "tags": [],
        "created_in_deepnote_cell": true,
        "deepnote_cell_type": "markdown"
      }
    }
  ],
  "nbformat": 4,
  "nbformat_minor": 2,
  "metadata": {
    "kernelspec": {
      "display_name": "Python 3",
      "language": "python",
      "name": "python3"
    },
    "language_info": {
      "codemirror_mode": {
        "name": "ipython",
        "version": 3
      },
      "file_extension": ".py",
      "mimetype": "text/x-python",
      "name": "python",
      "nbconvert_exporter": "python",
      "pygments_lexer": "ipython3",
      "version": "3.8.5"
    },
    "deepnote_notebook_id": "6713e80f-13b9-4064-a556-2206e3cb2c02",
    "deepnote": {},
    "deepnote_execution_queue": []
  }
}