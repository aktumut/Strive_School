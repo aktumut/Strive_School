{
  "cells": [
    {
      "cell_type": "code",
      "source": "import numpy as np",
      "metadata": {
        "tags": [],
        "cell_id": "00000-dc5ed08a-eaf5-48a4-a097-40285f3dd5f3",
        "deepnote_to_be_reexecuted": false,
        "source_hash": "c2602aa8",
        "execution_start": 1617028332742,
        "execution_millis": 0,
        "deepnote_cell_type": "code"
      },
      "outputs": [],
      "execution_count": 2
    },
    {
      "cell_type": "markdown",
      "source": "## Linear Algebra Quiz #1\n\n![title](./img/1_0.jpeg)\n\nWe strongly suggest working with numpy :)",
      "metadata": {
        "cell_id": "00000-f1cab928-01a5-411c-9b28-4fd3e794d942",
        "deepnote_cell_type": "markdown"
      }
    },
    {
      "cell_type": "code",
      "metadata": {
        "cell_id": "00001-a3feff6a-18ff-4999-bce1-32012d181410",
        "deepnote_to_be_reexecuted": false,
        "source_hash": "db5c583",
        "execution_millis": 8,
        "execution_start": 1617028422235,
        "deepnote_cell_type": "code"
      },
      "source": "#Do your imports here\na=np.array([[2,0,0,0],[1,1,-3,0],[0,6,-2,0],[0,0,2,-3]])\nb=np.array([7,-10,7,13])\nnp.linalg.solve(a, b)",
      "execution_count": 6,
      "outputs": [
        {
          "output_type": "execute_result",
          "execution_count": 6,
          "data": {
            "text/plain": "array([ 3.5       ,  3.        ,  5.5       , -0.66666667])"
          },
          "metadata": {}
        }
      ]
    },
    {
      "cell_type": "markdown",
      "source": "![title](./img/1_1.png)",
      "metadata": {
        "cell_id": "00002-9d15e4ce-9504-462d-bdaa-f749841a8eee",
        "deepnote_cell_type": "markdown"
      }
    },
    {
      "cell_type": "code",
      "metadata": {
        "cell_id": "00003-281af4b2-e3b5-41a2-bfea-c4923581d872",
        "deepnote_cell_type": "code"
      },
      "source": "# type a function that given a 3_dimensional vector it is able to calculate its magnitude\n\ndef magnitude_3(a,b,c):\n\n# type a function that given a n_dimensional vector it is able to calculate its magnitude\n# if you want to try this from python (not jupyter notebook) https://docs.python.org/3/library/argparse.html would be a good addition\n# if you are doing this from a jupyter notebook only, you can try to promt the user for an input  \n\ndef magnitude_complete(#inputs):",
      "execution_count": null,
      "outputs": []
    },
    {
      "cell_type": "markdown",
      "source": "uncomment the following line when you are ready to test",
      "metadata": {
        "cell_id": "00004-35140462-e03f-4f8c-8330-c0e18ab0e5e8",
        "deepnote_cell_type": "markdown"
      }
    },
    {
      "cell_type": "code",
      "metadata": {
        "cell_id": "00005-5fa1b12c-4bd7-4a78-b8a5-78e2cc3e0db4",
        "deepnote_cell_type": "code"
      },
      "source": "#magnitude_complete(1) == 1.0\n#magnitude_complete(1,2) >= 2.236\n#magnitude_complete(1,2,3) >= 3.741\n#magnitude_complete(1,2,3,4,5) >= 5.477\n#magnitude_complete(1,2,3,4,5) >= 7.416",
      "execution_count": null,
      "outputs": []
    },
    {
      "cell_type": "markdown",
      "source": "![title](./img/1_2.png)",
      "metadata": {
        "cell_id": "00006-58c955aa-41de-4c60-9249-83fec57c6dc3",
        "deepnote_cell_type": "markdown"
      }
    },
    {
      "cell_type": "code",
      "metadata": {
        "cell_id": "00007-4eb7c40d-4506-4d81-bd97-a1a1d0d98c0a",
        "deepnote_cell_type": "code"
      },
      "source": "def magnitude_vectors(a, b):\n    #checks that size is equal\n    \n    #returns the magnitude",
      "execution_count": null,
      "outputs": []
    },
    {
      "cell_type": "markdown",
      "source": "![title](./img/1_3.png)",
      "metadata": {
        "cell_id": "00008-509762ad-218b-4e57-9723-41189e6a0d7a",
        "deepnote_cell_type": "markdown"
      }
    },
    {
      "cell_type": "code",
      "metadata": {
        "cell_id": "00009-ff00bd0d-0dbf-43ab-9e28-3148bdd89d2f",
        "deepnote_cell_type": "code"
      },
      "source": "def direction_vectors(a, b):\n    #checks that size is equal\n    \n    #returns the magnitude\n    \n# or if you want to do it all in one batch:\ndef magdir_vectors(a, b):\n    #checks that size is equal\n    \n    #returns the magnitude and direction in a nicely printed format \n    #\"The magnitude of a + b is X and the direction is Y\"",
      "execution_count": null,
      "outputs": []
    },
    {
      "cell_type": "markdown",
      "source": "![title](./img/1_4.png)\n- What is the magnitude of αx⃗? \n- If α>0, will the direction of the resulting vector change?\n- If α<0, will the direction of the resulting vector change?\n- If −1<α<1, will ∥αx⃗∥  increase, decrease or stay the same?",
      "metadata": {
        "cell_id": "00010-77d35555-7ad4-447a-9ce6-1e22017cc283",
        "deepnote_cell_type": "markdown"
      }
    },
    {
      "cell_type": "code",
      "metadata": {
        "cell_id": "00011-cef46967-bd7f-4afb-a9c2-885d3f1f9e51",
        "deepnote_cell_type": "code"
      },
      "source": "def alpha_magnitude(alpha, b):\n    \n    #returns the resulting magnitude, if the direction has changed and what has happened to the vector",
      "execution_count": null,
      "outputs": []
    },
    {
      "cell_type": "markdown",
      "source": "<a style='text-decoration:none;line-height:16px;display:flex;color:#5B5B62;padding:10px;justify-content:end;' href='https://deepnote.com?utm_source=created-in-deepnote-cell&projectId=796ba814-f632-4502-b0d7-7e2f8f9e546d' target=\"_blank\">\n<img style='display:inline;max-height:16px;margin:0px;margin-right:7.5px;' src='data:image/svg+xml;base64,PD94bWwgdmVyc2lvbj0iMS4wIiBlbmNvZGluZz0iVVRGLTgiPz4KPHN2ZyB3aWR0aD0iODBweCIgaGVpZ2h0PSI4MHB4IiB2aWV3Qm94PSIwIDAgODAgODAiIHZlcnNpb249IjEuMSIgeG1sbnM9Imh0dHA6Ly93d3cudzMub3JnLzIwMDAvc3ZnIiB4bWxuczp4bGluaz0iaHR0cDovL3d3dy53My5vcmcvMTk5OS94bGluayI+CiAgICA8IS0tIEdlbmVyYXRvcjogU2tldGNoIDU0LjEgKDc2NDkwKSAtIGh0dHBzOi8vc2tldGNoYXBwLmNvbSAtLT4KICAgIDx0aXRsZT5Hcm91cCAzPC90aXRsZT4KICAgIDxkZXNjPkNyZWF0ZWQgd2l0aCBTa2V0Y2guPC9kZXNjPgogICAgPGcgaWQ9IkxhbmRpbmciIHN0cm9rZT0ibm9uZSIgc3Ryb2tlLXdpZHRoPSIxIiBmaWxsPSJub25lIiBmaWxsLXJ1bGU9ImV2ZW5vZGQiPgogICAgICAgIDxnIGlkPSJBcnRib2FyZCIgdHJhbnNmb3JtPSJ0cmFuc2xhdGUoLTEyMzUuMDAwMDAwLCAtNzkuMDAwMDAwKSI+CiAgICAgICAgICAgIDxnIGlkPSJHcm91cC0zIiB0cmFuc2Zvcm09InRyYW5zbGF0ZSgxMjM1LjAwMDAwMCwgNzkuMDAwMDAwKSI+CiAgICAgICAgICAgICAgICA8cG9seWdvbiBpZD0iUGF0aC0yMCIgZmlsbD0iIzAyNjVCNCIgcG9pbnRzPSIyLjM3NjIzNzYyIDgwIDM4LjA0NzY2NjcgODAgNTcuODIxNzgyMiA3My44MDU3NTkyIDU3LjgyMTc4MjIgMzIuNzU5MjczOSAzOS4xNDAyMjc4IDMxLjY4MzE2ODMiPjwvcG9seWdvbj4KICAgICAgICAgICAgICAgIDxwYXRoIGQ9Ik0zNS4wMDc3MTgsODAgQzQyLjkwNjIwMDcsNzYuNDU0OTM1OCA0Ny41NjQ5MTY3LDcxLjU0MjI2NzEgNDguOTgzODY2LDY1LjI2MTk5MzkgQzUxLjExMjI4OTksNTUuODQxNTg0MiA0MS42NzcxNzk1LDQ5LjIxMjIyODQgMjUuNjIzOTg0Niw0OS4yMTIyMjg0IEMyNS40ODQ5Mjg5LDQ5LjEyNjg0NDggMjkuODI2MTI5Niw0My4yODM4MjQ4IDM4LjY0NzU4NjksMzEuNjgzMTY4MyBMNzIuODcxMjg3MSwzMi41NTQ0MjUgTDY1LjI4MDk3Myw2Ny42NzYzNDIxIEw1MS4xMTIyODk5LDc3LjM3NjE0NCBMMzUuMDA3NzE4LDgwIFoiIGlkPSJQYXRoLTIyIiBmaWxsPSIjMDAyODY4Ij48L3BhdGg+CiAgICAgICAgICAgICAgICA8cGF0aCBkPSJNMCwzNy43MzA0NDA1IEwyNy4xMTQ1MzcsMC4yNTcxMTE0MzYgQzYyLjM3MTUxMjMsLTEuOTkwNzE3MDEgODAsMTAuNTAwMzkyNyA4MCwzNy43MzA0NDA1IEM4MCw2NC45NjA0ODgyIDY0Ljc3NjUwMzgsNzkuMDUwMzQxNCAzNC4zMjk1MTEzLDgwIEM0Ny4wNTUzNDg5LDc3LjU2NzA4MDggNTMuNDE4MjY3Nyw3MC4zMTM2MTAzIDUzLjQxODI2NzcsNTguMjM5NTg4NSBDNTMuNDE4MjY3Nyw0MC4xMjg1NTU3IDM2LjMwMzk1NDQsMzcuNzMwNDQwNSAyNS4yMjc0MTcsMzcuNzMwNDQwNSBDMTcuODQzMDU4NiwzNy43MzA0NDA1IDkuNDMzOTE5NjYsMzcuNzMwNDQwNSAwLDM3LjczMDQ0MDUgWiIgaWQ9IlBhdGgtMTkiIGZpbGw9IiMzNzkzRUYiPjwvcGF0aD4KICAgICAgICAgICAgPC9nPgogICAgICAgIDwvZz4KICAgIDwvZz4KPC9zdmc+' > </img>\nCreated in <span style='font-weight:600;margin-left:4px;'>Deepnote</span></a>",
      "metadata": {
        "tags": [],
        "created_in_deepnote_cell": true,
        "deepnote_cell_type": "markdown"
      }
    }
  ],
  "nbformat": 4,
  "nbformat_minor": 2,
  "metadata": {
    "kernelspec": {
      "display_name": "Python 3",
      "language": "python",
      "name": "python3"
    },
    "language_info": {
      "codemirror_mode": {
        "name": "ipython",
        "version": 3
      },
      "file_extension": ".py",
      "mimetype": "text/x-python",
      "name": "python",
      "nbconvert_exporter": "python",
      "pygments_lexer": "ipython3",
      "version": "3.8.5"
    },
    "deepnote_notebook_id": "289ca406-2fbc-42c5-836e-41ac076aac75",
    "deepnote": {},
    "deepnote_execution_queue": []
  }
}