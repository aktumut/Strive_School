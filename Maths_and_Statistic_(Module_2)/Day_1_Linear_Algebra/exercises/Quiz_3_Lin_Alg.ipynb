{
  "cells": [
    {
      "cell_type": "code",
      "metadata": {
        "tags": [],
        "cell_id": "00000-80a83bb0-8e4d-4d49-89ca-8d25ec680d20",
        "deepnote_to_be_reexecuted": false,
        "source_hash": "c2602aa8",
        "execution_millis": 0,
        "execution_start": 1617037766434,
        "deepnote_cell_type": "code"
      },
      "source": "import numpy as np",
      "execution_count": null,
      "outputs": []
    },
    {
      "cell_type": "markdown",
      "source": "## Linear Algebra Quiz #3\n\n![title](./img/3_0.jpeg)\n\nWe strongly suggest working with numpy :)",
      "metadata": {
        "cell_id": "00000-edc51e2c-22e2-462a-9d32-7c5d4f985f0e",
        "deepnote_cell_type": "markdown"
      }
    },
    {
      "cell_type": "markdown",
      "source": "![title](./img/3_2.png)\n![title](./img/3_3.png)\nCreate a program that can output\n\n- What is the value of element c23​ of Matrix C where C=A x B ?\n- What is the value of element c23​ of Matrix C where C=B x A ?",
      "metadata": {
        "cell_id": "00002-4d6418c5-767a-477a-b6d4-ce0ea404bb7d",
        "deepnote_cell_type": "markdown"
      }
    },
    {
      "cell_type": "code",
      "metadata": {
        "cell_id": "00003-582afc21-f0a3-4adb-9bc3-8eadefac4942",
        "deepnote_to_be_reexecuted": false,
        "source_hash": "15991b8a",
        "execution_millis": 0,
        "execution_start": 1617037936427,
        "deepnote_cell_type": "code"
      },
      "source": "# okay numpy is great but... how would you inverse a matrix by hand?\nA=np.array([[3,1,2], [-5,4,1], [0,3,-8]])\nB=np.array([[0,5,-1],[3,2,-1],[10,0.5,4]])\n\n\n\ndef inverse_matrix(A):\n    return np.linalg.inv(A)\n\nprint(inverse_matrix(A))\nprint(np.linalg.inv(B))",
      "execution_count": null,
      "outputs": [
        {
          "name": "stdout",
          "text": "[[ 0.2        -0.08        0.04      ]\n [ 0.22857143  0.13714286  0.07428571]\n [ 0.08571429  0.05142857 -0.09714286]]\n[[-0.09289617  0.22404372  0.03278689]\n [ 0.24043716 -0.10928962  0.03278689]\n [ 0.20218579 -0.54644809  0.16393443]]\n",
          "output_type": "stream"
        }
      ]
    },
    {
      "cell_type": "markdown",
      "source": "![title](./img/3_1.png)\nCreate a program that can output\n\n- What is the value of the ijth element if i = 2 and j=3?\n- What is the value of the ijth element if i = 3 and j=1?",
      "metadata": {
        "cell_id": "00004-f8fab939-ff37-45bf-9086-39ceb93886b6",
        "deepnote_cell_type": "markdown"
      }
    },
    {
      "cell_type": "code",
      "metadata": {
        "cell_id": "00005-fafd48c3-3a13-415f-9a3d-20bb6baefe2a",
        "deepnote_to_be_reexecuted": false,
        "source_hash": "9a714840",
        "execution_millis": 12,
        "execution_start": 1617038050489,
        "deepnote_cell_type": "code"
      },
      "source": "# Just answer using code --> easy stuff!\nA = np.array([[3, 0.6, 4, -3],[-1.3,4,0,8.6],[7,0,-8,0.006]])\nB = np.array([[3, -5.76, 45, 0],[2, -2, 1.3 , 9],[-9, 0,0,0]])\nC = np.array([[0,1009, -66.7849, 90],[0,5,4,-0.07],[-7.7,0,0,0]])\nD = A + B - C\n# Harder\n# Can you build a matrix solver that can do output the result given n matrices and a sequence of operations such as [add subtract multiply transpose?]\n#Some ideas on valid operations: Multiplication Addition Subtraction Inverstion Transposed. \nprint(D[1][2])\nprint(D[2][0])",
      "execution_count": null,
      "outputs": [
        {
          "name": "stdout",
          "text": "-2.7\n5.7\n",
          "output_type": "stream"
        }
      ]
    },
    {
      "cell_type": "markdown",
      "source": "![title](./img/3_3.png)\nCreate a program that can output\n- How many rows will C have?\n- How many columns will C have?\n- What will be the value of c13​?",
      "metadata": {
        "cell_id": "00006-c9460fde-71d9-41d7-a5e4-9c117c1b3c06",
        "deepnote_cell_type": "markdown"
      }
    },
    {
      "cell_type": "code",
      "metadata": {
        "cell_id": "00007-03853f5b-78b5-47d1-879c-1cf160ff6f04",
        "deepnote_to_be_reexecuted": false,
        "source_hash": "aaa8a1e9",
        "execution_millis": 6,
        "execution_start": 1617038165728,
        "deepnote_cell_type": "code"
      },
      "source": "A = np.array([0.6,-15,2,5,98])\nB = np.array([[2,2,-4],[9,-14,0],[13,-0.5,44],[1,9,4],[0,0,5]])\nC=np.dot(A.T,B)\nprint(C)\nprint(C[2])",
      "execution_count": null,
      "outputs": [
        {
          "name": "stdout",
          "text": "[-102.8  255.2  595.6]\n595.6\n",
          "output_type": "stream"
        }
      ]
    },
    {
      "cell_type": "code",
      "metadata": {
        "tags": [],
        "cell_id": "00008-4e06c1f3-190e-4a6d-a971-b76cb07b95ad",
        "deepnote_cell_type": "code"
      },
      "source": "",
      "execution_count": null,
      "outputs": []
    },
    {
      "cell_type": "markdown",
      "source": "<a style='text-decoration:none;line-height:16px;display:flex;color:#5B5B62;padding:10px;justify-content:end;' href='https://deepnote.com?utm_source=created-in-deepnote-cell&projectId=796ba814-f632-4502-b0d7-7e2f8f9e546d' target=\"_blank\">\n<img style='display:inline;max-height:16px;margin:0px;margin-right:7.5px;' src='data:image/svg+xml;base64,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' > </img>\nCreated in <span style='font-weight:600;margin-left:4px;'>Deepnote</span></a>",
      "metadata": {
        "tags": [],
        "created_in_deepnote_cell": true,
        "deepnote_cell_type": "markdown"
      }
    }
  ],
  "nbformat": 4,
  "nbformat_minor": 2,
  "metadata": {
    "kernelspec": {
      "display_name": "Python 3",
      "language": "python",
      "name": "python3"
    },
    "language_info": {
      "codemirror_mode": {
        "name": "ipython",
        "version": 3
      },
      "file_extension": ".py",
      "mimetype": "text/x-python",
      "name": "python",
      "nbconvert_exporter": "python",
      "pygments_lexer": "ipython3",
      "version": "3.8.5"
    },
    "deepnote_notebook_id": "907db1ec-afef-48b3-bba1-b62df71b1965",
    "deepnote": {},
    "deepnote_execution_queue": []
  }
}