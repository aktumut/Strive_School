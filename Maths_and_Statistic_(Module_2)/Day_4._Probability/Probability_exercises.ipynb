{
  "cells": [
    {
      "cell_type": "markdown",
      "source": "## **Write your answers directly in the cells on this notebook.**\n\n### Show the entire process, from the initial fractions to the final result. \nThe probability results must be a decimal value between 0.0 and 1.0. Round your number to the third decimal (e.g 0.574).**",
      "metadata": {
        "cell_id": "00000-bab2ef12-5b09-4855-bdc9-0176422581e2",
        "deepnote_cell_type": "markdown"
      }
    },
    {
      "cell_type": "markdown",
      "source": "Consider the following boxes (two boxes (red/blue) with two types of balls (green/orange)):\n![image.png](attachment:image.png)",
      "metadata": {
        "cell_id": "00001-6dbe3a62-d11b-49f6-8da6-7d661e5f848e",
        "deepnote_cell_type": "markdown"
      }
    },
    {
      "cell_type": "markdown",
      "source": "#### Exercise 1: which is the probability of selecting the red box?",
      "metadata": {
        "cell_id": "00002-6b4de9fe-071b-40d3-890d-31f83562a472",
        "deepnote_cell_type": "markdown"
      }
    },
    {
      "cell_type": "code",
      "metadata": {
        "cell_id": "00003-8307a228-dbe1-41f1-a164-91a314692c63",
        "deepnote_to_be_reexecuted": false,
        "source_hash": "7a1db1e9",
        "execution_start": 1617271313760,
        "execution_millis": 59,
        "deepnote_cell_type": "code"
      },
      "source": "1/2",
      "execution_count": 1,
      "outputs": [
        {
          "output_type": "execute_result",
          "execution_count": 1,
          "data": {
            "text/plain": "0.5"
          },
          "metadata": {}
        }
      ]
    },
    {
      "cell_type": "markdown",
      "source": "#### Exercise 2: if you want to run out of balls both boxes at the same time, how often should you select the blue box?",
      "metadata": {
        "cell_id": "00004-304c898b-c81a-4f91-8f26-8167ea7af9e0",
        "deepnote_cell_type": "markdown"
      }
    },
    {
      "cell_type": "code",
      "metadata": {
        "cell_id": "00005-2a0fd83f-269b-441f-bd91-829225aaed2d",
        "deepnote_to_be_reexecuted": false,
        "source_hash": "866b32c",
        "execution_start": 1617271342467,
        "execution_millis": 9,
        "deepnote_cell_type": "code"
      },
      "source": "4/(8+4)",
      "execution_count": 2,
      "outputs": [
        {
          "output_type": "execute_result",
          "execution_count": 2,
          "data": {
            "text/plain": "0.3333333333333333"
          },
          "metadata": {}
        }
      ]
    },
    {
      "cell_type": "markdown",
      "source": "#### Exercise 3: which is the probability of picking up a green ball if you are using the red box?",
      "metadata": {
        "cell_id": "00006-20f4c166-76c8-4086-9cde-eea3acbad3df",
        "deepnote_cell_type": "markdown"
      }
    },
    {
      "cell_type": "code",
      "metadata": {
        "cell_id": "00007-37b42dce-db9f-4199-9ee1-ee891cef71ce",
        "deepnote_to_be_reexecuted": false,
        "source_hash": "d7345912",
        "execution_start": 1617273263959,
        "execution_millis": 11,
        "deepnote_cell_type": "code"
      },
      "source": "2/8",
      "execution_count": 3,
      "outputs": [
        {
          "output_type": "execute_result",
          "execution_count": 3,
          "data": {
            "text/plain": "0.25"
          },
          "metadata": {}
        }
      ]
    },
    {
      "cell_type": "markdown",
      "source": "#### Exercise 4: which is the probability of picking up an orange ball (any of the boxes)?",
      "metadata": {
        "cell_id": "00008-7e79014d-a819-4437-b27c-ed98f59311c6",
        "deepnote_cell_type": "markdown"
      }
    },
    {
      "cell_type": "code",
      "metadata": {
        "cell_id": "00009-1d0569c0-c4cd-4711-9537-38e6e52aa2c0",
        "deepnote_to_be_reexecuted": false,
        "source_hash": "f62b8603",
        "execution_start": 1617273409090,
        "execution_millis": 174,
        "deepnote_cell_type": "code"
      },
      "source": "#probability of choosing red box and than orange ball\nx=(1/2)*(6/8)\n#probability of choosing blue box and than orange ball\ny=(1/2)*(1/4)\nprint(x,y)",
      "execution_count": 4,
      "outputs": [
        {
          "name": "stdout",
          "text": "0.375 0.125\n",
          "output_type": "stream"
        }
      ]
    },
    {
      "cell_type": "markdown",
      "source": "#### Optional Exercise 5: given that you picked up a green ball, which is the probability of having selected the red box?",
      "metadata": {
        "cell_id": "00010-6bbe2892-1c56-4e88-be5a-304df3800ad5",
        "deepnote_cell_type": "markdown"
      }
    },
    {
      "cell_type": "code",
      "metadata": {
        "cell_id": "00011-7bd73011-4374-4caa-88ab-8ca14789cbe9",
        "deepnote_to_be_reexecuted": false,
        "source_hash": "18adc1c9",
        "execution_millis": 6,
        "execution_start": 1617273635547,
        "deepnote_cell_type": "code"
      },
      "source": "# No need to use the Bayes Theorem as it has not been explained in class\n2/5",
      "execution_count": 9,
      "outputs": [
        {
          "output_type": "execute_result",
          "execution_count": 9,
          "data": {
            "text/plain": "0.4"
          },
          "metadata": {}
        }
      ]
    },
    {
      "cell_type": "markdown",
      "source": "#### Optional Exercise 6: I have chosen a ball from a box and I picked up a green one. Which is the probability of having used the blue box?",
      "metadata": {
        "cell_id": "00012-5e67d9c4-457a-48bc-b4ce-90e3eb516168",
        "deepnote_cell_type": "markdown"
      }
    },
    {
      "cell_type": "code",
      "metadata": {
        "cell_id": "00013-f8909175-5ea0-479b-91cc-c340c7668bc6",
        "deepnote_to_be_reexecuted": false,
        "source_hash": "35784c39",
        "execution_millis": 24,
        "execution_start": 1617278488937,
        "deepnote_cell_type": "code"
      },
      "source": "# No need to use the Bayes Theorem as it has not been explained in class\na=2/12\nround(a,3)",
      "execution_count": 53,
      "outputs": [
        {
          "output_type": "execute_result",
          "execution_count": 53,
          "data": {
            "text/plain": "0.167"
          },
          "metadata": {}
        }
      ]
    },
    {
      "cell_type": "markdown",
      "source": "Now consider a standard deck of cards (the one used in Poker):\n![image.png](attachment:image.png)",
      "metadata": {
        "cell_id": "00014-a164356a-7ae2-4f16-ad77-622f783ba37e",
        "deepnote_cell_type": "markdown"
      }
    },
    {
      "cell_type": "markdown",
      "source": "#### Exercise 7: which is the probability of drawing an Ace?",
      "metadata": {
        "cell_id": "00015-1b299f10-2dad-4fe2-af9b-43f43b5d5fae",
        "deepnote_cell_type": "markdown"
      }
    },
    {
      "cell_type": "code",
      "metadata": {
        "cell_id": "00016-7bafc87e-c8de-4ac0-afd5-aedbc55932c4",
        "deepnote_to_be_reexecuted": false,
        "source_hash": "f6816966",
        "execution_millis": 2,
        "execution_start": 1617274015713,
        "deepnote_cell_type": "code"
      },
      "source": "# Create function that returns probability percent rounded to three decimal places\ndef event_probability(event_outcomes, sample_space):\n    \"\"\"\n    event outcomes= how many cards you have\n    sample space= how many spesific cards you have like aces\n    \"\"\"\n    probability=sample_space/event_outcomes\n    return round(probability, 3)",
      "execution_count": 19,
      "outputs": []
    },
    {
      "cell_type": "code",
      "metadata": {
        "cell_id": "00017-6e1e74a8-ad5c-4314-93e9-3343713bad99",
        "deepnote_to_be_reexecuted": false,
        "source_hash": "4e18a5a",
        "execution_start": 1617274028672,
        "execution_millis": 9,
        "deepnote_cell_type": "code"
      },
      "source": "# Using the previously defined function: Determine the probability of drawing an Ace\nevent_probability(52,4)",
      "execution_count": 20,
      "outputs": [
        {
          "output_type": "execute_result",
          "execution_count": 20,
          "data": {
            "text/plain": "0.077"
          },
          "metadata": {}
        }
      ]
    },
    {
      "cell_type": "markdown",
      "source": "#### Exercise 8: which is the probability of drawing a card that is a Heart?",
      "metadata": {
        "cell_id": "00018-8f22c36e-fa50-48ab-bfa0-678293cdc41e",
        "deepnote_cell_type": "markdown"
      }
    },
    {
      "cell_type": "code",
      "metadata": {
        "cell_id": "00019-45a232e7-0900-4e2d-8d41-7479e65eee92",
        "deepnote_to_be_reexecuted": false,
        "source_hash": "b3392459",
        "execution_start": 1617274038904,
        "execution_millis": 7,
        "deepnote_cell_type": "code"
      },
      "source": "# Using the previously defined function: Determine the probability of drawing a heart\nevent_probability(52,13)",
      "execution_count": 21,
      "outputs": [
        {
          "output_type": "execute_result",
          "execution_count": 21,
          "data": {
            "text/plain": "0.25"
          },
          "metadata": {}
        }
      ]
    },
    {
      "cell_type": "markdown",
      "source": "#### Exercise 9: which is the probability of drawing a face card (such as Jacks, Queens, or Kings)?",
      "metadata": {
        "cell_id": "00020-e6a81899-996a-4332-8e91-bed3ee4cfe87",
        "deepnote_cell_type": "markdown"
      }
    },
    {
      "cell_type": "code",
      "metadata": {
        "cell_id": "00021-bcfcbc2c-18e7-4607-82ce-b1134644ac7e",
        "deepnote_to_be_reexecuted": false,
        "source_hash": "16e2b29c",
        "execution_start": 1617274053168,
        "execution_millis": 12,
        "deepnote_cell_type": "code"
      },
      "source": "# Using the previously defined function: Determine the probability of drawing a face card\nevent_probability(52,12)",
      "execution_count": 22,
      "outputs": [
        {
          "output_type": "execute_result",
          "execution_count": 22,
          "data": {
            "text/plain": "0.231"
          },
          "metadata": {}
        }
      ]
    },
    {
      "cell_type": "markdown",
      "source": "#### Exercise 10: which is the probability of drawing a face card which is also a Heart?",
      "metadata": {
        "cell_id": "00022-fd0d6bfe-71e2-4f0c-9c0d-628495854782",
        "deepnote_cell_type": "markdown"
      }
    },
    {
      "cell_type": "code",
      "metadata": {
        "cell_id": "00023-f2686040-2f9c-471a-b9fe-e30818a81fab",
        "deepnote_to_be_reexecuted": false,
        "source_hash": "a5dd488f",
        "execution_millis": 16,
        "execution_start": 1617278504425,
        "deepnote_cell_type": "code"
      },
      "source": "# Using the previously defined function: Determine the probability of drawing the jack, queen or king  of hearts\na=3/52\nround(a,3)",
      "execution_count": 54,
      "outputs": [
        {
          "output_type": "execute_result",
          "execution_count": 54,
          "data": {
            "text/plain": "0.058"
          },
          "metadata": {}
        }
      ]
    },
    {
      "cell_type": "markdown",
      "source": "#### Exercise 11: which is the probability of drawing an Ace on the second draw, if the first card drawn was a King?",
      "metadata": {
        "cell_id": "00024-a5e199bc-95c8-42b2-b184-9657315b5918",
        "deepnote_cell_type": "markdown"
      }
    },
    {
      "cell_type": "code",
      "metadata": {
        "cell_id": "00025-6908ec11-fd25-40f9-bc4b-b172572b20dd",
        "deepnote_to_be_reexecuted": false,
        "source_hash": "cd063439",
        "execution_millis": 7,
        "execution_start": 1617278514845,
        "deepnote_cell_type": "code"
      },
      "source": "# Using the previously defined function: Determine the probability of drawing an Ace after drawing a King on the first draw\na=4/52 #probability of taking king \nb=4/51 #probability og taking ace \nround(a*b,3)",
      "execution_count": 55,
      "outputs": [
        {
          "output_type": "execute_result",
          "execution_count": 55,
          "data": {
            "text/plain": "0.006"
          },
          "metadata": {}
        }
      ]
    },
    {
      "cell_type": "markdown",
      "source": "#### Exercise 12: which is the probability of drawing an Ace on the second draw, if the first card drawn was an Ace?",
      "metadata": {
        "cell_id": "00026-d065fee4-9107-40c3-80a2-fd5cf280d8d4",
        "deepnote_cell_type": "markdown"
      }
    },
    {
      "cell_type": "code",
      "metadata": {
        "cell_id": "00027-ff7b0478-07d3-4016-bb2a-661e47bd6576",
        "deepnote_to_be_reexecuted": false,
        "source_hash": "77284f20",
        "execution_millis": 14,
        "execution_start": 1617278527079,
        "deepnote_cell_type": "code"
      },
      "source": "# Using the previously defined function: Determine the probability of drawing an Ace after drawing an Ace on the first draw\na=4/52 #first chance\nb=3/51 #second chance\nround(a*b,3)",
      "execution_count": 56,
      "outputs": [
        {
          "output_type": "execute_result",
          "execution_count": 56,
          "data": {
            "text/plain": "0.005"
          },
          "metadata": {}
        }
      ]
    },
    {
      "cell_type": "markdown",
      "source": "Now consider the following situation:\n\nYou are playing Poker in the [Texas Holdem variant](https://en.wikipedia.org/wiki/Texas_hold_%27em). In case you are not familiar, it is a variant of poker in which each player has two cards and there is a set of community cards to play from. \n![image.png](attachment:image.png)",
      "metadata": {
        "cell_id": "00028-a72b4d27-3ce3-48c0-9824-3bcf414bcd00",
        "deepnote_cell_type": "markdown"
      }
    },
    {
      "cell_type": "markdown",
      "source": "#### Exercise 13: what is the probability that the next card drawn will be a Diamond card?",
      "metadata": {
        "cell_id": "00029-4cf87bf0-5f2b-4c51-83ad-ee851e25f0d5",
        "deepnote_cell_type": "markdown"
      }
    },
    {
      "cell_type": "code",
      "metadata": {
        "cell_id": "00030-223463ad-ccd7-4589-8f9a-834ee996e03a",
        "deepnote_to_be_reexecuted": false,
        "source_hash": "5927870e",
        "execution_millis": 5,
        "execution_start": 1617275526709,
        "deepnote_cell_type": "code"
      },
      "source": "# Sample Space\ncards = 52\nplayer_cards = 10\nturn_community_cards = 4\ncards = cards - (player_cards + turn_community_cards)\n\n# Outcomes\ndiamonds = 20\ndiamonds_drawn =18\n\n# In poker, cards that complete a draw are known as \"outs\"\nouts = diamonds-diamonds_drawn\n\n#Determine river flush probability using the previously defined function\nriver_flush_probability = event_probability(cards, outs)\nriver_flush_probability\n\n#It is definetly not giving to river flush, it is just probability to take diamond\n# for riving flush probibility we need to consider cards should be in a row\n# result is too low because 18/20 of the diamonds already dealed",
      "execution_count": 37,
      "outputs": [
        {
          "output_type": "execute_result",
          "execution_count": 37,
          "data": {
            "text/plain": "0.053"
          },
          "metadata": {}
        }
      ]
    },
    {
      "cell_type": "markdown",
      "source": "Now consider the following situation:\n![image.png](attachment:image.png)",
      "metadata": {
        "cell_id": "00031-178a8a3b-3eaf-45de-b50f-89876c5901e1",
        "deepnote_cell_type": "markdown"
      }
    },
    {
      "cell_type": "markdown",
      "source": "#### Exercise 14: which is the probability that with the next card drawn there will be five cards in sequential order? \n\n(Notice that any Eight ( 8, 9, 10, Jack, Queen) or any King (9, 10, Jack, Queen, King) will complete the straight)",
      "metadata": {
        "cell_id": "00032-1432d812-a512-41db-a32c-02b8080b3f28",
        "deepnote_cell_type": "markdown"
      }
    },
    {
      "cell_type": "code",
      "source": "a=(4+4)/48 #if question is for general situtation like you have 52 cards so on\nround(a,3)",
      "metadata": {
        "tags": [],
        "cell_id": "00033-a5da0301-6225-4403-b950-01abae653c0e",
        "deepnote_to_be_reexecuted": false,
        "source_hash": "c842baad",
        "execution_millis": 6,
        "execution_start": 1617278540540,
        "deepnote_cell_type": "code"
      },
      "outputs": [
        {
          "output_type": "execute_result",
          "execution_count": 57,
          "data": {
            "text/plain": "0.167"
          },
          "metadata": {}
        }
      ],
      "execution_count": 57
    },
    {
      "cell_type": "markdown",
      "source": "## Now, we keep playing Texas Holdem \n![](https://media.giphy.com/media/EQBsWLfdxHW01Y1OHK/giphy.gif)\n### But looking only at the cards we could have in our hand\n### (2 possible drawing events, ignore community cards)\n#### Exercise 15: which is the probability of drawing a heart OR drawing a club?",
      "metadata": {
        "cell_id": "00034-b4c48c16-763f-4adf-90c9-fcffa28275ac",
        "deepnote_cell_type": "markdown"
      }
    },
    {
      "cell_type": "code",
      "metadata": {
        "cell_id": "00035-7202fe27-3f93-49ff-bf8b-54063d187b5b",
        "deepnote_to_be_reexecuted": false,
        "source_hash": "be8b39f8",
        "execution_start": 1617277566266,
        "execution_millis": 7,
        "deepnote_cell_type": "code"
      },
      "source": "# Calculate the probability of drawing a heart or a club\n13/52",
      "execution_count": 41,
      "outputs": [
        {
          "output_type": "execute_result",
          "execution_count": 41,
          "data": {
            "text/plain": "0.25"
          },
          "metadata": {}
        }
      ]
    },
    {
      "cell_type": "markdown",
      "source": "#### Exercise 16: which is the probability of drawing an ace, a king or a queen?",
      "metadata": {
        "cell_id": "00036-ef86e627-ecef-49a5-91de-6ac0ee91ac26",
        "deepnote_cell_type": "markdown"
      }
    },
    {
      "cell_type": "code",
      "metadata": {
        "cell_id": "00037-6565e472-d6ce-40d4-a6bd-f2eb74349e24",
        "deepnote_to_be_reexecuted": false,
        "source_hash": "91fd206b",
        "execution_millis": 14,
        "execution_start": 1617278560355,
        "deepnote_cell_type": "code"
      },
      "source": "# Calculate the probability of drawing an ace, king, or a queen\na=12/52\nround(a,3)",
      "execution_count": 58,
      "outputs": [
        {
          "output_type": "execute_result",
          "execution_count": 58,
          "data": {
            "text/plain": "0.231"
          },
          "metadata": {}
        }
      ]
    },
    {
      "cell_type": "markdown",
      "source": "#### Exercise 17: which is the probability of drawing a heart or an ace?",
      "metadata": {
        "cell_id": "00038-09308fa5-ceb7-42f4-bed6-18b735750670",
        "deepnote_cell_type": "markdown"
      }
    },
    {
      "cell_type": "code",
      "metadata": {
        "cell_id": "00039-ad8ba63d-a1a3-4ba8-9f44-22ad9000ff7f",
        "deepnote_to_be_reexecuted": false,
        "source_hash": "29662d59",
        "execution_millis": 17,
        "execution_start": 1617278568785,
        "deepnote_cell_type": "code"
      },
      "source": "# Calculate the probability of drawing a heart or an ace\na=13/52+4/52\nround(a,3)",
      "execution_count": 59,
      "outputs": [
        {
          "output_type": "execute_result",
          "execution_count": 59,
          "data": {
            "text/plain": "0.327"
          },
          "metadata": {}
        }
      ]
    },
    {
      "cell_type": "markdown",
      "source": "#### Exercise 18: which is the probability of drawing a red card or drawing a face card?",
      "metadata": {
        "cell_id": "00040-f0c841e9-2c4c-42a5-b51b-ae9b644a883e",
        "deepnote_cell_type": "markdown"
      }
    },
    {
      "cell_type": "code",
      "metadata": {
        "cell_id": "00041-759f5092-9d61-4c3c-a038-a9a7e61abbce",
        "deepnote_to_be_reexecuted": false,
        "source_hash": "f9f582c4",
        "execution_millis": 10,
        "execution_start": 1617278578757,
        "deepnote_cell_type": "code"
      },
      "source": "# Calculate the probability of drawing a red card or a face card\na=26/52+12/52\nround(a,3)",
      "execution_count": 60,
      "outputs": [
        {
          "output_type": "execute_result",
          "execution_count": 60,
          "data": {
            "text/plain": "0.731"
          },
          "metadata": {}
        }
      ]
    },
    {
      "cell_type": "markdown",
      "source": "#### Exercise 19: which is the probability of drawing an Ace from a deck of cards, replacing it, reshuffling the deck, and drawing another Ace?",
      "metadata": {
        "cell_id": "00042-5c6da39c-3986-4036-b31d-8c1c7f648531",
        "deepnote_cell_type": "markdown"
      }
    },
    {
      "cell_type": "code",
      "metadata": {
        "cell_id": "00043-15994112-5579-4520-b8f7-92035f3fbe89",
        "deepnote_to_be_reexecuted": false,
        "source_hash": "98e25bcb",
        "execution_millis": 6,
        "execution_start": 1617278596524,
        "deepnote_cell_type": "code"
      },
      "source": "\n# Probability of one ace\na=4/52\na=round(a,3)\n# Probability of two consecutive independent aces \nb=(4/52)*(4/52)\nb=round(b,3)\nprint(f\"\\t Probability of one ace: {a} \\n \\t Probability of two consecutive independent aces: {b}\")",
      "execution_count": 61,
      "outputs": [
        {
          "name": "stdout",
          "text": "\t Probability of one ace: 0.077 \n \t Probability of two consecutive independent aces: 0.006\n",
          "output_type": "stream"
        }
      ]
    },
    {
      "cell_type": "markdown",
      "source": "#### Exercise 20: which is the probability of being dealt two Aces (drawing one Ace after the other starting with a full deck)?",
      "metadata": {
        "cell_id": "00044-0797973f-864e-46e9-acee-e2ac4598a50b",
        "deepnote_cell_type": "markdown"
      }
    },
    {
      "cell_type": "code",
      "metadata": {
        "cell_id": "00045-63975185-c29d-438a-9a3f-bf5d205a9d37",
        "deepnote_to_be_reexecuted": false,
        "source_hash": "c231da77",
        "execution_millis": 7,
        "execution_start": 1617278611372,
        "deepnote_cell_type": "code"
      },
      "source": "# Probability of ace on second draw after ace on first\na=(4/52)*(4/52)\na=round(a,3)\n# Probability of two consecutive aces (dependent)\nb=(4/52)*(3/51)\nb=round(b,3)\nprint(f\"\\t Probability of ace on second draw after ace on first: {a} \\n \\t Probability of two consecutive aces (dependent): {b}\")",
      "execution_count": 62,
      "outputs": [
        {
          "name": "stdout",
          "text": "\t Probability of ace on second draw after ace on first: 0.006 \n \t Probability of two consecutive aces (dependent): 0.005\n",
          "output_type": "stream"
        }
      ]
    },
    {
      "cell_type": "markdown",
      "source": "### Permutations and combinations",
      "metadata": {
        "cell_id": "00046-9d35aa6d-1e3d-4ea4-89f2-fa648cc3388a",
        "deepnote_cell_type": "markdown"
      }
    },
    {
      "cell_type": "markdown",
      "source": "#### Exercise 22: How many different 5-letter arrangements are there of the letters in the word morse?",
      "metadata": {
        "cell_id": "00047-94de3b6c-ce82-403e-94af-48bb72734743",
        "deepnote_cell_type": "markdown"
      }
    },
    {
      "cell_type": "code",
      "metadata": {
        "cell_id": "00048-978605de-ee5e-49af-9ec9-58c33dea3009",
        "deepnote_cell_type": "code"
      },
      "source": "",
      "execution_count": null,
      "outputs": []
    },
    {
      "cell_type": "markdown",
      "source": "#### Exercise 23: How many different seven-letter arrangements of the letters in the word HEXAGON can be made if each letter is used only once?",
      "metadata": {
        "cell_id": "00049-0ecb08ca-c6bb-4c62-8f31-282aab7ca67f",
        "deepnote_cell_type": "markdown"
      }
    },
    {
      "cell_type": "code",
      "metadata": {
        "cell_id": "00050-02ab188e-1a85-4484-9c13-fc6772248ae6",
        "deepnote_cell_type": "code"
      },
      "source": "",
      "execution_count": null,
      "outputs": []
    },
    {
      "cell_type": "markdown",
      "source": "#### Exercise 24: Two cards are drawn at random from a standard deck of cards, without replacement. Find the probability of drawing an 8 and a queen in that order.",
      "metadata": {
        "cell_id": "00051-7648b643-df8c-42f8-a258-95b19999bf4f",
        "deepnote_cell_type": "markdown"
      }
    },
    {
      "cell_type": "code",
      "metadata": {
        "cell_id": "00052-39e7514a-7db7-442e-9aa9-27933ace6eaf",
        "deepnote_cell_type": "code"
      },
      "source": "",
      "execution_count": null,
      "outputs": []
    },
    {
      "cell_type": "markdown",
      "source": "<a style='text-decoration:none;line-height:16px;display:flex;color:#5B5B62;padding:10px;justify-content:end;' href='https://deepnote.com?utm_source=created-in-deepnote-cell&projectId=796ba814-f632-4502-b0d7-7e2f8f9e546d' target=\"_blank\">\n<img alt='Created in deepnote.com' style='display:inline;max-height:16px;margin:0px;margin-right:7.5px;' src='data:image/svg+xml;base64,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' > </img>\nCreated in <span style='font-weight:600;margin-left:4px;'>Deepnote</span></a>",
      "metadata": {
        "tags": [],
        "created_in_deepnote_cell": true,
        "deepnote_cell_type": "markdown"
      }
    }
  ],
  "nbformat": 4,
  "nbformat_minor": 2,
  "metadata": {
    "kernelspec": {
      "display_name": "Python 3",
      "language": "python",
      "name": "python3"
    },
    "language_info": {
      "codemirror_mode": {
        "name": "ipython",
        "version": 3
      },
      "file_extension": ".py",
      "mimetype": "text/x-python",
      "name": "python",
      "nbconvert_exporter": "python",
      "pygments_lexer": "ipython3",
      "version": "3.8.5"
    },
    "deepnote_notebook_id": "c13a131c-0819-488a-b2b3-c3d0ca4e1b8d",
    "deepnote": {},
    "deepnote_execution_queue": []
  }
}