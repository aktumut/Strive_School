{
  "cells": [
    {
      "cell_type": "code",
      "metadata": {
        "cell_id": "00000-b4583f67-5155-4e7e-86a5-511375e9b128",
        "deepnote_to_be_reexecuted": false,
        "source_hash": "207cc29b",
        "execution_millis": 293,
        "execution_start": 1617713984456,
        "deepnote_cell_type": "code"
      },
      "source": "\nfrom __future__ import division\n%matplotlib inline\nimport numpy as np\nimport matplotlib.pyplot as plt\nimport seaborn as sns\nfrom scipy import stats\n#from __future__ import division\n\nsns.set_palette(['#00A99D', '#F5CA0C', '#B6129F', '#76620C', '#095C57'])\nnp.version.full_version",
      "outputs": [
        {
          "output_type": "execute_result",
          "execution_count": 15,
          "data": {
            "text/plain": "'1.19.5'"
          },
          "metadata": {}
        }
      ],
      "execution_count": null
    },
    {
      "cell_type": "markdown",
      "source": "## Data",
      "metadata": {
        "cell_id": "00001-9ff3e86b-5e67-468f-87cb-c271d4e62c30",
        "deepnote_cell_type": "markdown"
      }
    },
    {
      "cell_type": "code",
      "metadata": {
        "cell_id": "00002-44a5742c-a160-44ca-a278-443406cdd103",
        "deepnote_to_be_reexecuted": false,
        "source_hash": "afdd850a",
        "execution_start": 1617713987446,
        "execution_millis": 29,
        "deepnote_cell_type": "code"
      },
      "source": "#We use a fictional data set of 10000 averge number of Facebook friends.\nfacebook_mu = 190.0\nfacebook_sigma = 36.0\nfacebook_friends = np.random.normal(facebook_mu, facebook_sigma, 10000)\n\n# show first 12 samples\nfacebook_friends[:12]",
      "outputs": [
        {
          "output_type": "execute_result",
          "execution_count": 16,
          "data": {
            "text/plain": "array([195.13016671, 214.72195601, 133.66113022, 226.02785961,\n       196.13343462,  91.87986062, 194.69723624, 205.78963215,\n       277.15393892, 188.65443988, 169.34053229, 135.02160947])"
          },
          "metadata": {}
        }
      ],
      "execution_count": null
    },
    {
      "cell_type": "markdown",
      "source": "## Using the Probability Density Function\nThe total area under the Probability Density Function (pdf) is always 1.0. Roughly 68% of the values is within 1 standard deviation from the mean. About 95% falls within two standard deviations. We can determine the probability of finding a given value in the distribution by using the pdf. \n\nLet's say someone's got 227 Facebook friends. What is the probability of having this or less number of Facebook friends?",
      "metadata": {
        "cell_id": "00003-fe4b65b8-64bd-43c7-9e0a-efa9886fc984",
        "deepnote_cell_type": "markdown"
      }
    },
    {
      "cell_type": "code",
      "metadata": {
        "cell_id": "00004-63df8d42-ea1f-4a15-aa0c-f8b20f80c0d5",
        "deepnote_to_be_reexecuted": false,
        "source_hash": "a27ec169",
        "execution_start": 1617714032679,
        "execution_millis": 1275,
        "deepnote_cell_type": "code"
      },
      "source": "# First take a look at the pdf and especially the green area under\n# the curve containing the probability of 227 Facebook friends or less.\nx = 227.0\nsns.distplot(facebook_friends, label='Facebook friends', kde=False, \n             fit=stats.norm, color='w')\nplt.text(x+5, .0003, '$x$='+str(x))\n\nx_plot = np.linspace(min(facebook_friends), x, 1000)\ny_plot = stats.norm.pdf(x_plot, facebook_mu, facebook_sigma)\nplt.fill_between(x_plot,  y_plot)\nc=plt.legend()",
      "outputs": [
        {
          "name": "stderr",
          "text": "/shared-libs/python3.7/py/lib/python3.7/site-packages/seaborn/distributions.py:2557: FutureWarning: `distplot` is a deprecated function and will be removed in a future version. Please adapt your code to use either `displot` (a figure-level function with similar flexibility) or `histplot` (an axes-level function for histograms).\n  warnings.warn(msg, FutureWarning)\n",
          "output_type": "stream"
        },
        {
          "data": {
            "text/plain": "<Figure size 432x288 with 1 Axes>",
            "image/png": "[encoded data removed]"
          },
          "metadata": {
            "needs_background": "light"
          },
          "output_type": "display_data"
        }
      ],
      "execution_count": null
    },
    {
      "cell_type": "code",
      "metadata": {
        "cell_id": "00005-0d79df07-28d1-45af-815f-6aa12932720f",
        "deepnote_to_be_reexecuted": false,
        "source_hash": "d7992f61",
        "execution_start": 1617714099021,
        "execution_millis": 76,
        "deepnote_cell_type": "code"
      },
      "source": "# To calculate the probability, we need the z score.\nzscore = (x - facebook_mu) / facebook_sigma\nzscore",
      "outputs": [
        {
          "output_type": "execute_result",
          "execution_count": 19,
          "data": {
            "text/plain": "1.0277777777777777"
          },
          "metadata": {}
        }
      ],
      "execution_count": null
    },
    {
      "cell_type": "code",
      "metadata": {
        "cell_id": "00006-193a4cc0-1bd7-4c1a-bb28-1d1c89409448",
        "deepnote_to_be_reexecuted": false,
        "source_hash": "a7d5cecd",
        "execution_millis": 8,
        "execution_start": 1617714100862,
        "deepnote_cell_type": "code"
      },
      "source": "# Calculate the probability by calling stats.norm.cdf\n# This is a computational z table lookup\np = stats.norm.cdf(zscore)\np",
      "outputs": [
        {
          "output_type": "execute_result",
          "execution_count": 20,
          "data": {
            "text/plain": "0.8479728141176333"
          },
          "metadata": {}
        }
      ],
      "execution_count": null
    },
    {
      "cell_type": "markdown",
      "source": "So this means the probability of people having 227 Facebook friends or less is about 85%. Since the area under the curve adds up to 1, we can say that the probability of people having a value more than 227 Facebook friends is $1-p$.",
      "metadata": {
        "cell_id": "00007-cb1aa4e5-45e6-4045-ac9f-11075dea4405",
        "deepnote_cell_type": "markdown"
      }
    },
    {
      "cell_type": "code",
      "metadata": {
        "cell_id": "00008-75d7afb3-2cf7-4411-a20c-f908c16f0d34",
        "deepnote_to_be_reexecuted": false,
        "source_hash": "b2c451c3",
        "execution_start": 1617714112112,
        "execution_millis": 12,
        "deepnote_cell_type": "code"
      },
      "source": "# Probability of having a value more than 227\n1 - p",
      "outputs": [
        {
          "output_type": "execute_result",
          "execution_count": 21,
          "data": {
            "text/plain": "0.15202718588236674"
          },
          "metadata": {}
        }
      ],
      "execution_count": null
    },
    {
      "cell_type": "markdown",
      "source": "## From probability back to the actual value\nLet's assume we have a 21% chance of having a certain number of Facebook friends or more. What is the minimum number of Facebook friends we have in this case?",
      "metadata": {
        "cell_id": "00009-2589a1cc-156d-4cf7-89b1-45b8462956cc",
        "deepnote_cell_type": "markdown"
      }
    },
    {
      "cell_type": "code",
      "metadata": {
        "cell_id": "00010-8f60efb9-b2b1-4e69-80a9-4c9a5bb412d1",
        "deepnote_to_be_reexecuted": false,
        "source_hash": "c10303f0",
        "execution_start": 1617714125315,
        "execution_millis": 22,
        "deepnote_cell_type": "code"
      },
      "source": "# We use the ppf function (inverse cdf) - from probability to z score\np = 1 - .21\nz = stats.norm.ppf(p)\nz",
      "outputs": [
        {
          "output_type": "execute_result",
          "execution_count": 22,
          "data": {
            "text/plain": "0.8064212470182404"
          },
          "metadata": {}
        }
      ],
      "execution_count": null
    },
    {
      "cell_type": "code",
      "metadata": {
        "cell_id": "00011-db216ffc-94c5-42f8-984a-9644bf2949e2",
        "deepnote_to_be_reexecuted": false,
        "source_hash": "8445b3ec",
        "execution_start": 1617714137609,
        "execution_millis": 23,
        "deepnote_cell_type": "code"
      },
      "source": "# From z score to number of Facebook friends\nx = z * facebook_sigma + facebook_mu\nx",
      "outputs": [
        {
          "output_type": "execute_result",
          "execution_count": 23,
          "data": {
            "text/plain": "219.03116489265665"
          },
          "metadata": {}
        }
      ],
      "execution_count": null
    },
    {
      "cell_type": "code",
      "metadata": {
        "cell_id": "00012-e103cb37-731d-462f-919a-4bdea8311b8c",
        "deepnote_to_be_reexecuted": false,
        "source_hash": "3cb811a2",
        "execution_start": 1617714165118,
        "execution_millis": 286,
        "deepnote_cell_type": "code"
      },
      "source": "# The green area under the curve containing the probability \n# of (roughly) 206 Facebook friends or more.\nsns.distplot(facebook_friends, label='Facebook friends', kde=False, \n             fit=stats.norm, color='w')\nplt.text(x+5, .0003, '$x$='+str(int(x)))\n\nx_plot = np.linspace(x, max(facebook_friends), 1000)\ny_plot = stats.norm.pdf(x_plot, facebook_mu, facebook_sigma)\nplt.fill_between(x_plot,  y_plot)\nc=plt.legend()",
      "outputs": [
        {
          "name": "stderr",
          "text": "/shared-libs/python3.7/py/lib/python3.7/site-packages/seaborn/distributions.py:2557: FutureWarning: `distplot` is a deprecated function and will be removed in a future version. Please adapt your code to use either `displot` (a figure-level function with similar flexibility) or `histplot` (an axes-level function for histograms).\n  warnings.warn(msg, FutureWarning)\n",
          "output_type": "stream"
        },
        {
          "data": {
            "text/plain": "<Figure size 432x288 with 1 Axes>",
            "image/png": "[encoded data removed]"
          },
          "metadata": {
            "needs_background": "light"
          },
          "output_type": "display_data"
        }
      ],
      "execution_count": null
    },
    {
      "cell_type": "markdown",
      "source": "## Calculate probability in between two values\nWhat is the probability of people having between 120 and 170 Facebook friends?",
      "metadata": {
        "cell_id": "00013-d08b21a5-6c27-4389-ade2-752d859ee6d8",
        "deepnote_cell_type": "markdown"
      }
    },
    {
      "cell_type": "code",
      "metadata": {
        "cell_id": "00014-f2ff6241-da88-47c1-8b8c-2d09b900b881",
        "deepnote_to_be_reexecuted": false,
        "source_hash": "565fdd16",
        "execution_start": 1617714171433,
        "execution_millis": 337,
        "deepnote_cell_type": "code"
      },
      "source": "# We want to know the proportion of the green area under the curve.\nx1 = 120.0\nx2 = 170.0\nsns.distplot(facebook_friends, label='Facebook friends', kde=False, \n             fit=stats.norm, color='w')\nplt.text(x1+5, .0003, '$x_1$='+str(x1))\nplt.text(x2+5, .0003, '$x_2$='+str(x2))\n\nx_plot = np.linspace(x1, x2, 1000)\ny_plot = stats.norm.pdf(x_plot, facebook_mu, facebook_sigma)\nplt.fill_between(x_plot,  y_plot)\nc=plt.legend()",
      "outputs": [
        {
          "name": "stderr",
          "text": "/shared-libs/python3.7/py/lib/python3.7/site-packages/seaborn/distributions.py:2557: FutureWarning: `distplot` is a deprecated function and will be removed in a future version. Please adapt your code to use either `displot` (a figure-level function with similar flexibility) or `histplot` (an axes-level function for histograms).\n  warnings.warn(msg, FutureWarning)\n",
          "output_type": "stream"
        },
        {
          "data": {
            "text/plain": "<Figure size 432x288 with 1 Axes>",
            "image/png": "[encoded data removed]"
          },
          "metadata": {
            "needs_background": "light"
          },
          "output_type": "display_data"
        }
      ],
      "execution_count": null
    },
    {
      "cell_type": "code",
      "metadata": {
        "cell_id": "00015-cd378bb2-ad00-4ba0-a186-1a15a5ab3727",
        "deepnote_to_be_reexecuted": false,
        "source_hash": "9f916bbf",
        "execution_millis": 106,
        "execution_start": 1617714175496,
        "deepnote_cell_type": "code"
      },
      "source": "# First we need the z score of x1\nz1 = (x1 - facebook_mu) / facebook_sigma\nz1",
      "outputs": [
        {
          "output_type": "execute_result",
          "execution_count": 27,
          "data": {
            "text/plain": "-1.9444444444444444"
          },
          "metadata": {}
        }
      ],
      "execution_count": null
    },
    {
      "cell_type": "code",
      "metadata": {
        "cell_id": "00016-a281872a-295f-4607-9a5a-a19f9ddc2fa3",
        "deepnote_to_be_reexecuted": false,
        "source_hash": "6ec96e8f",
        "execution_start": 1617714179011,
        "execution_millis": 20,
        "deepnote_cell_type": "code"
      },
      "source": "# Then we calculate the probability for value x1 or less\np1 = stats.norm.cdf(z1)\np1",
      "outputs": [
        {
          "output_type": "execute_result",
          "execution_count": 28,
          "data": {
            "text/plain": "0.025920939357843"
          },
          "metadata": {}
        }
      ],
      "execution_count": null
    },
    {
      "cell_type": "code",
      "metadata": {
        "cell_id": "00017-b91edd6e-f9f8-4be4-a041-13485893aa37",
        "deepnote_to_be_reexecuted": false,
        "source_hash": "7996d4f7",
        "execution_start": 1617714179959,
        "execution_millis": 12,
        "deepnote_cell_type": "code"
      },
      "source": "# Now we calculate the z score for x2\nz2 = (x2 - facebook_mu) / facebook_sigma\nz2",
      "outputs": [
        {
          "output_type": "execute_result",
          "execution_count": 29,
          "data": {
            "text/plain": "-0.5555555555555556"
          },
          "metadata": {}
        }
      ],
      "execution_count": null
    },
    {
      "cell_type": "code",
      "metadata": {
        "cell_id": "00018-d79911ff-53c4-4adf-90bb-97386f1b87c5",
        "deepnote_to_be_reexecuted": false,
        "source_hash": "d6925fe1",
        "execution_start": 1617714181434,
        "execution_millis": 68,
        "deepnote_cell_type": "code"
      },
      "source": "# and agian the probabilty for value x2 or less\np2 = stats.norm.cdf(z2)\np2",
      "outputs": [
        {
          "output_type": "execute_result",
          "execution_count": 30,
          "data": {
            "text/plain": "0.28925736075397196"
          },
          "metadata": {}
        }
      ],
      "execution_count": null
    },
    {
      "cell_type": "code",
      "metadata": {
        "cell_id": "00019-28465444-b2b9-4a75-8a58-7c4a30ce073d",
        "deepnote_to_be_reexecuted": false,
        "source_hash": "117a13ae",
        "execution_start": 1617714185450,
        "execution_millis": 27,
        "deepnote_cell_type": "code"
      },
      "source": "# So the probability of having between x1 and x2 Facebook friends is\n# the probability having x2 minus the probability having x1\np2 - p1",
      "outputs": [
        {
          "output_type": "execute_result",
          "execution_count": 31,
          "data": {
            "text/plain": "0.26333642139612895"
          },
          "metadata": {}
        }
      ],
      "execution_count": null
    },
    {
      "cell_type": "code",
      "source": "",
      "metadata": {
        "tags": [],
        "cell_id": "00020-771fcfa2-62bb-4237-abc8-538273c4a21f",
        "deepnote_cell_type": "code"
      },
      "outputs": [],
      "execution_count": null
    },
    {
      "cell_type": "markdown",
      "source": "<a style='text-decoration:none;line-height:16px;display:flex;color:#5B5B62;padding:10px;justify-content:end;' href='https://deepnote.com?utm_source=created-in-deepnote-cell&projectId=796ba814-f632-4502-b0d7-7e2f8f9e546d' target=\"_blank\">\n<img alt='Created in deepnote.com' style='display:inline;max-height:16px;margin:0px;margin-right:7.5px;' src='data:image/svg+xml;base64,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' > </img>\nCreated in <span style='font-weight:600;margin-left:4px;'>Deepnote</span></a>",
      "metadata": {
        "tags": [],
        "created_in_deepnote_cell": true,
        "deepnote_cell_type": "markdown"
      }
    }
  ],
  "nbformat": 4,
  "nbformat_minor": 1,
  "metadata": {
    "kernelspec": {
      "display_name": "Python 3",
      "language": "python",
      "name": "python3"
    },
    "language_info": {
      "codemirror_mode": {
        "name": "ipython",
        "version": 3
      },
      "file_extension": ".py",
      "mimetype": "text/x-python",
      "name": "python",
      "nbconvert_exporter": "python",
      "pygments_lexer": "ipython3",
      "version": "3.9.2"
    },
    "deepnote_notebook_id": "14feffbb-9e54-4e39-80c5-3ce3802463be",
    "deepnote": {},
    "deepnote_execution_queue": []
  }
}