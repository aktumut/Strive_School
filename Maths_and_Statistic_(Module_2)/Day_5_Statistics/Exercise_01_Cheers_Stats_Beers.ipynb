{
  "cells": [
    {
      "cell_type": "markdown",
      "source": "###### Content under Creative Commons Attribution license CC-BY 4.0, code under BSD 3-Clause License © 2017 L.A. Barba, N.C. Clementi, \n\n###### Modified and adapted by Jan Carbonell and Alessia Mondolo",
      "metadata": {
        "cell_id": "00000-6680b0ea-07d1-47e8-ac40-2fd4cbd80bb5",
        "deepnote_cell_type": "markdown"
      }
    },
    {
      "cell_type": "markdown",
      "source": "# Cheers!  Stats with Beers\n\nThis first lesson explores how we can answer questions using data combined with practical methods from statistics.\n\nWe'll need some fun data to work with. We found a neat data set of canned craft beers in the US, scraped from the web and cleaned up by Jean-Nicholas Hould ([@NicholasHould](https://twitter.com/NicholasHould?lang=en) on Twitter)—who we want to thank for having a permissive license on his GitHub repository so we can reuse his [work](https://github.com/nickhould/craft-beers-dataset)!\n\nThe data source ([@craftcans](https://twitter.com/craftcans) on Twitter) doesn't say that the set includes *all* the canned beers brewed in the country. So we have to assume that the data is a sample and may contain biases.\n\nWe'll manipulate the data using **NumPy**—the array library for Python that we learned before in the batch. You will combine this with the knowledge you already have in **pandas**. \n\n[`pandas`](http://pandas.pydata.org/) is an open-source library providing high-performance, easy-to-use data structures and data-analysis tools.  Even though `pandas` is great for data analysis, we won't exploit all its power in this lesson. But we'll learn more about it later on!\n\nWe'll use `pandas` to read the data file (in `csv` format, for comma-separated values), display it in a nice table, and extract the columns that we need—which we'll convert to `numpy` arrays to work with.\n\nLet's start by importing the two Python libraries that we need.",
      "metadata": {
        "cell_id": "00001-50089815-a828-4533-bacd-92eec35c37a1",
        "deepnote_cell_type": "markdown"
      }
    },
    {
      "cell_type": "code",
      "metadata": {
        "cell_id": "00002-f73aaeb3-8d43-4e2c-b497-580d0732f514",
        "deepnote_to_be_reexecuted": false,
        "source_hash": "a7f37cf6",
        "execution_start": 1617700723187,
        "execution_millis": 1,
        "deepnote_cell_type": "code"
      },
      "source": "import pandas\nimport numpy",
      "execution_count": 1,
      "outputs": []
    },
    {
      "cell_type": "markdown",
      "source": "## Step 1: Read the data file\n\nBelow, we'll take a peek into the data file, `beers.csv,` using the system command `head` (which we can use with a bang, thanks to IPython).\n\nBut first, we will download the data using a Python library for opening a URL on the Internet. We created a short URL for the data file in the public repository with our course materials.\n\nThe cell below should download the data in your current working directory. The next cell shows you the first few lines of the data.",
      "metadata": {
        "cell_id": "00003-969071df-a03b-4200-8996-4e599eb4312e",
        "deepnote_cell_type": "markdown"
      }
    },
    {
      "cell_type": "code",
      "metadata": {
        "cell_id": "00004-6cc85453-2608-4cd3-acf8-0f42b9da5f76",
        "deepnote_to_be_reexecuted": false,
        "source_hash": "2e2cf3a4",
        "execution_start": 1617700741928,
        "execution_millis": 241,
        "deepnote_cell_type": "code"
      },
      "source": "from urllib.request import urlretrieve\nURL = 'http://go.gwu.edu/engcomp2data1'\nurlretrieve(URL, 'beers.csv')",
      "execution_count": 2,
      "outputs": [
        {
          "output_type": "execute_result",
          "execution_count": 2,
          "data": {
            "text/plain": "('beers.csv', <http.client.HTTPMessage at 0x7fa64676e2d0>)"
          },
          "metadata": {}
        }
      ]
    },
    {
      "cell_type": "code",
      "metadata": {
        "cell_id": "00005-69dd651d-c01d-4fc4-bffa-c43c33897b26",
        "deepnote_to_be_reexecuted": false,
        "source_hash": "2a6056c8",
        "execution_start": 1617700751421,
        "execution_millis": 658,
        "deepnote_cell_type": "code"
      },
      "source": "!head \"beers.csv\"",
      "execution_count": 3,
      "outputs": [
        {
          "name": "stdout",
          "text": ",abv,ibu,id,name,style,brewery_id,ounces\r\n0,0.05,,1436,Pub Beer,American Pale Lager,408,12.0\r\n1,0.066,,2265,Devil's Cup,American Pale Ale (APA),177,12.0\r\n2,0.071,,2264,Rise of the Phoenix,American IPA,177,12.0\r\n3,0.09,,2263,Sinister,American Double / Imperial IPA,177,12.0\r\n4,0.075,,2262,Sex and Candy,American IPA,177,12.0\r\n5,0.077,,2261,Black Exodus,Oatmeal Stout,177,12.0\r\n6,0.045,,2260,Lake Street Express,American Pale Ale (APA),177,12.0\r\n7,0.065,,2259,Foreman,American Porter,177,12.0\r\n8,0.055,,2258,Jade,American Pale Ale (APA),177,12.0\r\n",
          "output_type": "stream"
        }
      ]
    },
    {
      "cell_type": "markdown",
      "source": "We can use `pandas` to read the data from the `csv` file, and save it into a new variable called `beers`. Let's then check the type of this new variable—rememeber that we can use the function `type()` to do this.",
      "metadata": {
        "cell_id": "00006-6104d668-defb-45af-8cea-68b634ace7d9",
        "deepnote_cell_type": "markdown"
      }
    },
    {
      "cell_type": "code",
      "metadata": {
        "cell_id": "00007-5d8f300d-476d-4b9a-8d9e-d61c32eba005",
        "deepnote_to_be_reexecuted": false,
        "source_hash": "66679992",
        "execution_start": 1617700760838,
        "execution_millis": 1,
        "deepnote_cell_type": "code"
      },
      "source": "beers = pandas.read_csv(\"beers.csv\")",
      "execution_count": 4,
      "outputs": []
    },
    {
      "cell_type": "code",
      "metadata": {
        "cell_id": "00008-dede5c52-e64a-464f-9d60-ca03d39dfa2f",
        "deepnote_to_be_reexecuted": false,
        "source_hash": "b5f427f2",
        "execution_start": 1617700763264,
        "execution_millis": 13,
        "deepnote_cell_type": "code"
      },
      "source": "type(beers)",
      "execution_count": 5,
      "outputs": [
        {
          "output_type": "execute_result",
          "execution_count": 5,
          "data": {
            "text/plain": "pandas.core.frame.DataFrame"
          },
          "metadata": {}
        }
      ]
    },
    {
      "cell_type": "markdown",
      "source": "This is a new data type for us: a `pandas DataFrame`. From the `pandas` documentation: \"A `DataFrame`  is a 2-dimensional labeled data structure with columns of potentially different types\" [4]. You can think of it as the contens of a spreadsheet, saved into one handy Python variable. If you print it out, you get a nicely laid-out table: ",
      "metadata": {
        "cell_id": "00009-adb88db3-55a8-4764-8857-25ade82d835b",
        "deepnote_cell_type": "markdown"
      }
    },
    {
      "cell_type": "code",
      "metadata": {
        "cell_id": "00010-f5c964de-1569-447f-aa5a-a08c30442d4a",
        "deepnote_to_be_reexecuted": false,
        "source_hash": "54ea7d95",
        "execution_start": 1617700771905,
        "execution_millis": 52,
        "deepnote_cell_type": "code"
      },
      "source": "beers",
      "execution_count": 6,
      "outputs": [
        {
          "output_type": "execute_result",
          "execution_count": 6,
          "data": {
            "application/vnd.deepnote.dataframe.v2+json": {
              "row_count": 2410,
              "column_count": 8,
              "columns": [
                {
                  "name": "Unnamed: 0",
                  "dtype": "int64",
                  "stats": {
                    "unique_count": 2410,
                    "nan_count": 0,
                    "min": 0,
                    "max": 2409,
                    "histogram": [
                      {
                        "bin_start": 0,
                        "bin_end": 240.9,
                        "count": 241
                      },
                      {
                        "bin_start": 240.9,
                        "bin_end": 481.8,
                        "count": 241
                      },
                      {
                        "bin_start": 481.8,
                        "bin_end": 722.7,
                        "count": 241
                      },
                      {
                        "bin_start": 722.7,
                        "bin_end": 963.6,
                        "count": 241
                      },
                      {
                        "bin_start": 963.6,
                        "bin_end": 1204.5,
                        "count": 241
                      },
                      {
                        "bin_start": 1204.5,
                        "bin_end": 1445.4,
                        "count": 241
                      },
                      {
                        "bin_start": 1445.4,
                        "bin_end": 1686.3,
                        "count": 241
                      },
                      {
                        "bin_start": 1686.3,
                        "bin_end": 1927.2,
                        "count": 241
                      },
                      {
                        "bin_start": 1927.2,
                        "bin_end": 2168.1,
                        "count": 241
                      },
                      {
                        "bin_start": 2168.1,
                        "bin_end": 2409,
                        "count": 241
                      }
                    ]
                  }
                },
                {
                  "name": "abv",
                  "dtype": "float64",
                  "stats": {
                    "unique_count": 74,
                    "nan_count": 62,
                    "min": 0.001,
                    "max": 0.128,
                    "histogram": [
                      {
                        "bin_start": 0.001,
                        "bin_end": 0.0137,
                        "count": 1
                      },
                      {
                        "bin_start": 0.0137,
                        "bin_end": 0.0264,
                        "count": 0
                      },
                      {
                        "bin_start": 0.0264,
                        "bin_end": 0.039099999999999996,
                        "count": 38
                      },
                      {
                        "bin_start": 0.039099999999999996,
                        "bin_end": 0.0518,
                        "count": 699
                      },
                      {
                        "bin_start": 0.0518,
                        "bin_end": 0.0645,
                        "count": 857
                      },
                      {
                        "bin_start": 0.0645,
                        "bin_end": 0.07719999999999999,
                        "count": 486
                      },
                      {
                        "bin_start": 0.07719999999999999,
                        "bin_end": 0.0899,
                        "count": 159
                      },
                      {
                        "bin_start": 0.0899,
                        "bin_end": 0.1026,
                        "count": 104
                      },
                      {
                        "bin_start": 0.1026,
                        "bin_end": 0.1153,
                        "count": 1
                      },
                      {
                        "bin_start": 0.1153,
                        "bin_end": 0.128,
                        "count": 3
                      }
                    ]
                  }
                },
                {
                  "name": "ibu",
                  "dtype": "float64",
                  "stats": {
                    "unique_count": 107,
                    "nan_count": 1005,
                    "min": 4,
                    "max": 138,
                    "histogram": [
                      {
                        "bin_start": 4,
                        "bin_end": 17.4,
                        "count": 199
                      },
                      {
                        "bin_start": 17.4,
                        "bin_end": 30.8,
                        "count": 414
                      },
                      {
                        "bin_start": 30.8,
                        "bin_end": 44.2,
                        "count": 234
                      },
                      {
                        "bin_start": 44.2,
                        "bin_end": 57.6,
                        "count": 144
                      },
                      {
                        "bin_start": 57.6,
                        "bin_end": 71,
                        "count": 201
                      },
                      {
                        "bin_start": 71,
                        "bin_end": 84.4,
                        "count": 87
                      },
                      {
                        "bin_start": 84.4,
                        "bin_end": 97.8,
                        "count": 69
                      },
                      {
                        "bin_start": 97.8,
                        "bin_end": 111.2,
                        "count": 43
                      },
                      {
                        "bin_start": 111.2,
                        "bin_end": 124.60000000000001,
                        "count": 10
                      },
                      {
                        "bin_start": 124.60000000000001,
                        "bin_end": 138,
                        "count": 4
                      }
                    ]
                  }
                },
                {
                  "name": "id",
                  "dtype": "int64",
                  "stats": {
                    "unique_count": 2410,
                    "nan_count": 0,
                    "min": 1,
                    "max": 2692,
                    "histogram": [
                      {
                        "bin_start": 1,
                        "bin_end": 270.1,
                        "count": 167
                      },
                      {
                        "bin_start": 270.1,
                        "bin_end": 539.2,
                        "count": 194
                      },
                      {
                        "bin_start": 539.2,
                        "bin_end": 808.3000000000001,
                        "count": 242
                      },
                      {
                        "bin_start": 808.3000000000001,
                        "bin_end": 1077.4,
                        "count": 238
                      },
                      {
                        "bin_start": 1077.4,
                        "bin_end": 1346.5,
                        "count": 262
                      },
                      {
                        "bin_start": 1346.5,
                        "bin_end": 1615.6000000000001,
                        "count": 257
                      },
                      {
                        "bin_start": 1615.6000000000001,
                        "bin_end": 1884.7000000000003,
                        "count": 260
                      },
                      {
                        "bin_start": 1884.7000000000003,
                        "bin_end": 2153.8,
                        "count": 261
                      },
                      {
                        "bin_start": 2153.8,
                        "bin_end": 2422.9,
                        "count": 262
                      },
                      {
                        "bin_start": 2422.9,
                        "bin_end": 2692,
                        "count": 267
                      }
                    ]
                  }
                },
                {
                  "name": "name",
                  "dtype": "object",
                  "stats": {
                    "unique_count": 2305,
                    "nan_count": 0,
                    "categories": [
                      {
                        "name": "Nonstop Hef Hop",
                        "count": 12
                      },
                      {
                        "name": "Oktoberfest",
                        "count": 6
                      },
                      {
                        "name": "2303 others",
                        "count": 2392
                      }
                    ]
                  }
                },
                {
                  "name": "style",
                  "dtype": "object",
                  "stats": {
                    "unique_count": 99,
                    "nan_count": 5,
                    "categories": [
                      {
                        "name": "American IPA",
                        "count": 424
                      },
                      {
                        "name": "98 others",
                        "count": 1981
                      },
                      {
                        "name": "Missing",
                        "count": 5
                      }
                    ]
                  }
                },
                {
                  "name": "brewery_id",
                  "dtype": "int64",
                  "stats": {
                    "unique_count": 558,
                    "nan_count": 0,
                    "min": 0,
                    "max": 557,
                    "histogram": [
                      {
                        "bin_start": 0,
                        "bin_end": 55.7,
                        "count": 398
                      },
                      {
                        "bin_start": 55.7,
                        "bin_end": 111.4,
                        "count": 279
                      },
                      {
                        "bin_start": 111.4,
                        "bin_end": 167.10000000000002,
                        "count": 347
                      },
                      {
                        "bin_start": 167.10000000000002,
                        "bin_end": 222.8,
                        "count": 251
                      },
                      {
                        "bin_start": 222.8,
                        "bin_end": 278.5,
                        "count": 192
                      },
                      {
                        "bin_start": 278.5,
                        "bin_end": 334.20000000000005,
                        "count": 218
                      },
                      {
                        "bin_start": 334.20000000000005,
                        "bin_end": 389.90000000000003,
                        "count": 253
                      },
                      {
                        "bin_start": 389.90000000000003,
                        "bin_end": 445.6,
                        "count": 175
                      },
                      {
                        "bin_start": 445.6,
                        "bin_end": 501.3,
                        "count": 158
                      },
                      {
                        "bin_start": 501.3,
                        "bin_end": 557,
                        "count": 139
                      }
                    ]
                  }
                },
                {
                  "name": "ounces",
                  "dtype": "float64",
                  "stats": {
                    "unique_count": 7,
                    "nan_count": 0,
                    "min": 8.4,
                    "max": 32,
                    "histogram": [
                      {
                        "bin_start": 8.4,
                        "bin_end": 10.760000000000002,
                        "count": 1
                      },
                      {
                        "bin_start": 10.760000000000002,
                        "bin_end": 13.120000000000001,
                        "count": 1525
                      },
                      {
                        "bin_start": 13.120000000000001,
                        "bin_end": 15.48,
                        "count": 0
                      },
                      {
                        "bin_start": 15.48,
                        "bin_end": 17.840000000000003,
                        "count": 842
                      },
                      {
                        "bin_start": 17.840000000000003,
                        "bin_end": 20.200000000000003,
                        "count": 15
                      },
                      {
                        "bin_start": 20.200000000000003,
                        "bin_end": 22.560000000000002,
                        "count": 0
                      },
                      {
                        "bin_start": 22.560000000000002,
                        "bin_end": 24.92,
                        "count": 22
                      },
                      {
                        "bin_start": 24.92,
                        "bin_end": 27.28,
                        "count": 0
                      },
                      {
                        "bin_start": 27.28,
                        "bin_end": 29.64,
                        "count": 0
                      },
                      {
                        "bin_start": 29.64,
                        "bin_end": 32,
                        "count": 5
                      }
                    ]
                  }
                },
                {
                  "name": "_deepnote_index_column",
                  "dtype": "int64"
                }
              ],
              "rows_top": [
                {
                  "Unnamed: 0": 0,
                  "abv": 0.05,
                  "ibu": "nan",
                  "id": 1436,
                  "name": "Pub Beer",
                  "style": "American Pale Lager",
                  "brewery_id": 408,
                  "ounces": 12,
                  "_deepnote_index_column": 0
                },
                {
                  "Unnamed: 0": 1,
                  "abv": 0.066,
                  "ibu": "nan",
                  "id": 2265,
                  "name": "Devil's Cup",
                  "style": "American Pale Ale (APA)",
                  "brewery_id": 177,
                  "ounces": 12,
                  "_deepnote_index_column": 1
                },
                {
                  "Unnamed: 0": 2,
                  "abv": 0.071,
                  "ibu": "nan",
                  "id": 2264,
                  "name": "Rise of the Phoenix",
                  "style": "American IPA",
                  "brewery_id": 177,
                  "ounces": 12,
                  "_deepnote_index_column": 2
                },
                {
                  "Unnamed: 0": 3,
                  "abv": 0.09,
                  "ibu": "nan",
                  "id": 2263,
                  "name": "Sinister",
                  "style": "American Double / Imperial IPA",
                  "brewery_id": 177,
                  "ounces": 12,
                  "_deepnote_index_column": 3
                },
                {
                  "Unnamed: 0": 4,
                  "abv": 0.075,
                  "ibu": "nan",
                  "id": 2262,
                  "name": "Sex and Candy",
                  "style": "American IPA",
                  "brewery_id": 177,
                  "ounces": 12,
                  "_deepnote_index_column": 4
                },
                {
                  "Unnamed: 0": 5,
                  "abv": 0.077,
                  "ibu": "nan",
                  "id": 2261,
                  "name": "Black Exodus",
                  "style": "Oatmeal Stout",
                  "brewery_id": 177,
                  "ounces": 12,
                  "_deepnote_index_column": 5
                },
                {
                  "Unnamed: 0": 6,
                  "abv": 0.045,
                  "ibu": "nan",
                  "id": 2260,
                  "name": "Lake Street Express",
                  "style": "American Pale Ale (APA)",
                  "brewery_id": 177,
                  "ounces": 12,
                  "_deepnote_index_column": 6
                },
                {
                  "Unnamed: 0": 7,
                  "abv": 0.065,
                  "ibu": "nan",
                  "id": 2259,
                  "name": "Foreman",
                  "style": "American Porter",
                  "brewery_id": 177,
                  "ounces": 12,
                  "_deepnote_index_column": 7
                },
                {
                  "Unnamed: 0": 8,
                  "abv": 0.055,
                  "ibu": "nan",
                  "id": 2258,
                  "name": "Jade",
                  "style": "American Pale Ale (APA)",
                  "brewery_id": 177,
                  "ounces": 12,
                  "_deepnote_index_column": 8
                },
                {
                  "Unnamed: 0": 9,
                  "abv": 0.086,
                  "ibu": "nan",
                  "id": 2131,
                  "name": "Cone Crusher",
                  "style": "American Double / Imperial IPA",
                  "brewery_id": 177,
                  "ounces": 12,
                  "_deepnote_index_column": 9
                },
                {
                  "Unnamed: 0": 10,
                  "abv": 0.072,
                  "ibu": "nan",
                  "id": 2099,
                  "name": "Sophomoric Saison",
                  "style": "Saison / Farmhouse Ale",
                  "brewery_id": 177,
                  "ounces": 12,
                  "_deepnote_index_column": 10
                },
                {
                  "Unnamed: 0": 11,
                  "abv": 0.073,
                  "ibu": "nan",
                  "id": 2098,
                  "name": "Regional Ring Of Fire",
                  "style": "Saison / Farmhouse Ale",
                  "brewery_id": 177,
                  "ounces": 12,
                  "_deepnote_index_column": 11
                },
                {
                  "Unnamed: 0": 12,
                  "abv": 0.069,
                  "ibu": "nan",
                  "id": 2097,
                  "name": "Garce Selé",
                  "style": "Saison / Farmhouse Ale",
                  "brewery_id": 177,
                  "ounces": 12,
                  "_deepnote_index_column": 12
                },
                {
                  "Unnamed: 0": 13,
                  "abv": 0.085,
                  "ibu": "nan",
                  "id": 1980,
                  "name": "Troll Destroyer",
                  "style": "Belgian IPA",
                  "brewery_id": 177,
                  "ounces": 12,
                  "_deepnote_index_column": 13
                },
                {
                  "Unnamed: 0": 14,
                  "abv": 0.061,
                  "ibu": "60.0",
                  "id": 1979,
                  "name": "Bitter Bitch",
                  "style": "American Pale Ale (APA)",
                  "brewery_id": 177,
                  "ounces": 12,
                  "_deepnote_index_column": 14
                },
                {
                  "Unnamed: 0": 15,
                  "abv": 0.06,
                  "ibu": "nan",
                  "id": 2318,
                  "name": "Ginja Ninja",
                  "style": "Cider",
                  "brewery_id": 154,
                  "ounces": 12,
                  "_deepnote_index_column": 15
                },
                {
                  "Unnamed: 0": 16,
                  "abv": 0.06,
                  "ibu": "nan",
                  "id": 2170,
                  "name": "Cherried Away",
                  "style": "Cider",
                  "brewery_id": 154,
                  "ounces": 12,
                  "_deepnote_index_column": 16
                },
                {
                  "Unnamed: 0": 17,
                  "abv": 0.06,
                  "ibu": "nan",
                  "id": 2169,
                  "name": "Rhubarbarian",
                  "style": "Cider",
                  "brewery_id": 154,
                  "ounces": 12,
                  "_deepnote_index_column": 17
                },
                {
                  "Unnamed: 0": 18,
                  "abv": 0.06,
                  "ibu": "nan",
                  "id": 1502,
                  "name": "BrightCider",
                  "style": "Cider",
                  "brewery_id": 154,
                  "ounces": 12,
                  "_deepnote_index_column": 18
                },
                {
                  "Unnamed: 0": 19,
                  "abv": 0.0819999999999999,
                  "ibu": "nan",
                  "id": 1593,
                  "name": "He Said Baltic-Style Porter",
                  "style": "Baltic Porter",
                  "brewery_id": 368,
                  "ounces": 12,
                  "_deepnote_index_column": 19
                },
                {
                  "Unnamed: 0": 20,
                  "abv": 0.0819999999999999,
                  "ibu": "nan",
                  "id": 1592,
                  "name": "He Said Belgian-Style Tripel",
                  "style": "Tripel",
                  "brewery_id": 368,
                  "ounces": 12,
                  "_deepnote_index_column": 20
                },
                {
                  "Unnamed: 0": 21,
                  "abv": 0.099,
                  "ibu": "92.0",
                  "id": 1036,
                  "name": "Lower De Boom",
                  "style": "American Barleywine",
                  "brewery_id": 368,
                  "ounces": 8.4,
                  "_deepnote_index_column": 21
                },
                {
                  "Unnamed: 0": 22,
                  "abv": 0.079,
                  "ibu": "45.0",
                  "id": 1024,
                  "name": "Fireside Chat",
                  "style": "Winter Warmer",
                  "brewery_id": 368,
                  "ounces": 12,
                  "_deepnote_index_column": 22
                },
                {
                  "Unnamed: 0": 23,
                  "abv": 0.079,
                  "ibu": "nan",
                  "id": 976,
                  "name": "Marooned On Hog Island",
                  "style": "American Stout",
                  "brewery_id": 368,
                  "ounces": 12,
                  "_deepnote_index_column": 23
                },
                {
                  "Unnamed: 0": 24,
                  "abv": 0.044,
                  "ibu": "42.0",
                  "id": 876,
                  "name": "Bitter American",
                  "style": "American Pale Ale (APA)",
                  "brewery_id": 368,
                  "ounces": 12,
                  "_deepnote_index_column": 24
                },
                {
                  "Unnamed: 0": 25,
                  "abv": 0.049,
                  "ibu": "17.0",
                  "id": 802,
                  "name": "Hell or High Watermelon Wheat (2009)",
                  "style": "Fruit / Vegetable Beer",
                  "brewery_id": 368,
                  "ounces": 12,
                  "_deepnote_index_column": 25
                },
                {
                  "Unnamed: 0": 26,
                  "abv": 0.049,
                  "ibu": "17.0",
                  "id": 801,
                  "name": "Hell or High Watermelon Wheat (2009)",
                  "style": "Fruit / Vegetable Beer",
                  "brewery_id": 368,
                  "ounces": 12,
                  "_deepnote_index_column": 26
                },
                {
                  "Unnamed: 0": 27,
                  "abv": 0.049,
                  "ibu": "17.0",
                  "id": 800,
                  "name": "21st Amendment Watermelon Wheat Beer (2006)",
                  "style": "Fruit / Vegetable Beer",
                  "brewery_id": 368,
                  "ounces": 12,
                  "_deepnote_index_column": 27
                },
                {
                  "Unnamed: 0": 28,
                  "abv": 0.07,
                  "ibu": "70.0",
                  "id": 799,
                  "name": "21st Amendment IPA (2006)",
                  "style": "American IPA",
                  "brewery_id": 368,
                  "ounces": 12,
                  "_deepnote_index_column": 28
                },
                {
                  "Unnamed: 0": 29,
                  "abv": 0.07,
                  "ibu": "70.0",
                  "id": 797,
                  "name": "Brew Free! or Die IPA (2008)",
                  "style": "American IPA",
                  "brewery_id": 368,
                  "ounces": 12,
                  "_deepnote_index_column": 29
                },
                {
                  "Unnamed: 0": 30,
                  "abv": 0.07,
                  "ibu": "70.0",
                  "id": 796,
                  "name": "Brew Free! or Die IPA (2009)",
                  "style": "American IPA",
                  "brewery_id": 368,
                  "ounces": 12,
                  "_deepnote_index_column": 30
                },
                {
                  "Unnamed: 0": 31,
                  "abv": 0.085,
                  "ibu": "52.0",
                  "id": 531,
                  "name": "Special Edition: Allies Win The War!",
                  "style": "English Strong Ale",
                  "brewery_id": 368,
                  "ounces": 12,
                  "_deepnote_index_column": 31
                },
                {
                  "Unnamed: 0": 32,
                  "abv": 0.0969999999999999,
                  "ibu": "94.0",
                  "id": 432,
                  "name": "Hop Crisis",
                  "style": "American Double / Imperial IPA",
                  "brewery_id": 368,
                  "ounces": 12,
                  "_deepnote_index_column": 32
                },
                {
                  "Unnamed: 0": 33,
                  "abv": 0.044,
                  "ibu": "42.0",
                  "id": 353,
                  "name": "Bitter American (2011)",
                  "style": "American Pale Ale (APA)",
                  "brewery_id": 368,
                  "ounces": 12,
                  "_deepnote_index_column": 33
                },
                {
                  "Unnamed: 0": 34,
                  "abv": 0.079,
                  "ibu": "45.0",
                  "id": 321,
                  "name": "Fireside Chat (2010)",
                  "style": "Winter Warmer",
                  "brewery_id": 368,
                  "ounces": 12,
                  "_deepnote_index_column": 34
                },
                {
                  "Unnamed: 0": 35,
                  "abv": 0.068,
                  "ibu": "65.0",
                  "id": 173,
                  "name": "Back in Black",
                  "style": "American Black Ale",
                  "brewery_id": 368,
                  "ounces": 12,
                  "_deepnote_index_column": 35
                },
                {
                  "Unnamed: 0": 36,
                  "abv": 0.083,
                  "ibu": "35.0",
                  "id": 11,
                  "name": "Monk's Blood",
                  "style": "Belgian Dark Ale",
                  "brewery_id": 368,
                  "ounces": 12,
                  "_deepnote_index_column": 36
                },
                {
                  "Unnamed: 0": 37,
                  "abv": 0.07,
                  "ibu": "65.0",
                  "id": 10,
                  "name": "Brew Free! or Die IPA",
                  "style": "American IPA",
                  "brewery_id": 368,
                  "ounces": 12,
                  "_deepnote_index_column": 37
                },
                {
                  "Unnamed: 0": 38,
                  "abv": 0.049,
                  "ibu": "17.0",
                  "id": 9,
                  "name": "Hell or High Watermelon Wheat",
                  "style": "Fruit / Vegetable Beer",
                  "brewery_id": 368,
                  "ounces": 12,
                  "_deepnote_index_column": 38
                },
                {
                  "Unnamed: 0": 39,
                  "abv": 0.07,
                  "ibu": "82.0",
                  "id": 2519,
                  "name": "Bimini Twist",
                  "style": "American IPA",
                  "brewery_id": 67,
                  "ounces": 12,
                  "_deepnote_index_column": 39
                },
                {
                  "Unnamed: 0": 40,
                  "abv": 0.05,
                  "ibu": "nan",
                  "id": 2518,
                  "name": "Beach Blonde",
                  "style": "American Blonde Ale",
                  "brewery_id": 67,
                  "ounces": 12,
                  "_deepnote_index_column": 40
                },
                {
                  "Unnamed: 0": 41,
                  "abv": 0.059,
                  "ibu": "nan",
                  "id": 2517,
                  "name": "Rod Bender Red",
                  "style": "American Amber / Red Ale",
                  "brewery_id": 67,
                  "ounces": 12,
                  "_deepnote_index_column": 41
                },
                {
                  "Unnamed: 0": 42,
                  "abv": 0.035,
                  "ibu": "11.0",
                  "id": 2545,
                  "name": "Passion Fruit Prussia",
                  "style": "Berliner Weissbier",
                  "brewery_id": 60,
                  "ounces": 12,
                  "_deepnote_index_column": 42
                },
                {
                  "Unnamed: 0": 43,
                  "abv": 0.045,
                  "ibu": "18.0",
                  "id": 2544,
                  "name": "Send Help",
                  "style": "American Blonde Ale",
                  "brewery_id": 60,
                  "ounces": 12,
                  "_deepnote_index_column": 43
                },
                {
                  "Unnamed: 0": 44,
                  "abv": 0.055,
                  "ibu": "nan",
                  "id": 2324,
                  "name": "Cast Iron Oatmeal Brown",
                  "style": "American Brown Ale",
                  "brewery_id": 60,
                  "ounces": 12,
                  "_deepnote_index_column": 44
                },
                {
                  "Unnamed: 0": 45,
                  "abv": 0.06,
                  "ibu": "nan",
                  "id": 2288,
                  "name": "Reprise Centennial Red",
                  "style": "American Amber / Red Ale",
                  "brewery_id": 60,
                  "ounces": 12,
                  "_deepnote_index_column": 45
                },
                {
                  "Unnamed: 0": 46,
                  "abv": 0.055,
                  "ibu": "nan",
                  "id": 2287,
                  "name": "Alter Ego",
                  "style": "American Black Ale",
                  "brewery_id": 60,
                  "ounces": 12,
                  "_deepnote_index_column": 46
                },
                {
                  "Unnamed: 0": 47,
                  "abv": 0.065,
                  "ibu": "nan",
                  "id": 2286,
                  "name": "Divided Sky",
                  "style": "American IPA",
                  "brewery_id": 60,
                  "ounces": 12,
                  "_deepnote_index_column": 47
                },
                {
                  "Unnamed: 0": 48,
                  "abv": 0.065,
                  "ibu": "nan",
                  "id": 2285,
                  "name": "Resurrected",
                  "style": "American IPA",
                  "brewery_id": 60,
                  "ounces": 12,
                  "_deepnote_index_column": 48
                },
                {
                  "Unnamed: 0": 49,
                  "abv": 0.05,
                  "ibu": "28.0",
                  "id": 1870,
                  "name": "Contact High",
                  "style": "American Pale Wheat Ale",
                  "brewery_id": 60,
                  "ounces": 12,
                  "_deepnote_index_column": 49
                },
                {
                  "Unnamed: 0": 50,
                  "abv": 0.065,
                  "ibu": "nan",
                  "id": 2603,
                  "name": "Galaxyfest",
                  "style": "American IPA",
                  "brewery_id": 27,
                  "ounces": 16,
                  "_deepnote_index_column": 50
                },
                {
                  "Unnamed: 0": 51,
                  "abv": 0.05,
                  "ibu": "45.0",
                  "id": 2602,
                  "name": "Citrafest",
                  "style": "American IPA",
                  "brewery_id": 27,
                  "ounces": 16,
                  "_deepnote_index_column": 51
                },
                {
                  "Unnamed: 0": 52,
                  "abv": 0.09,
                  "ibu": "nan",
                  "id": 2220,
                  "name": "Barn Yeti",
                  "style": "Belgian Strong Dark Ale",
                  "brewery_id": 27,
                  "ounces": 16,
                  "_deepnote_index_column": 52
                },
                {
                  "Unnamed: 0": 53,
                  "abv": 0.069,
                  "ibu": "65.0",
                  "id": 2219,
                  "name": "Scarecrow",
                  "style": "American IPA",
                  "brewery_id": 27,
                  "ounces": 16,
                  "_deepnote_index_column": 53
                },
                {
                  "Unnamed: 0": 54,
                  "abv": 0.09,
                  "ibu": "50.0",
                  "id": 2218,
                  "name": "Ironman",
                  "style": "English Strong Ale",
                  "brewery_id": 27,
                  "ounces": 16,
                  "_deepnote_index_column": 54
                },
                {
                  "Unnamed: 0": 55,
                  "abv": 0.046,
                  "ibu": "15.0",
                  "id": 2217,
                  "name": "Honey Kolsch",
                  "style": "Kölsch",
                  "brewery_id": 27,
                  "ounces": 16,
                  "_deepnote_index_column": 55
                },
                {
                  "Unnamed: 0": 56,
                  "abv": 0.052,
                  "ibu": "18.0",
                  "id": 2216,
                  "name": "Copperhead Amber",
                  "style": "Belgian Dark Ale",
                  "brewery_id": 27,
                  "ounces": 16,
                  "_deepnote_index_column": 56
                },
                {
                  "Unnamed: 0": 57,
                  "abv": 0.059,
                  "ibu": "75.0",
                  "id": 972,
                  "name": "Rude Parrot IPA",
                  "style": "American IPA",
                  "brewery_id": 481,
                  "ounces": 16,
                  "_deepnote_index_column": 57
                },
                {
                  "Unnamed: 0": 58,
                  "abv": 0.054,
                  "ibu": "30.0",
                  "id": 866,
                  "name": "British Pale Ale (2010)",
                  "style": "English Pale Ale",
                  "brewery_id": 481,
                  "ounces": 16,
                  "_deepnote_index_column": 58
                },
                {
                  "Unnamed: 0": 59,
                  "abv": 0.054,
                  "ibu": "30.0",
                  "id": 48,
                  "name": "British Pale Ale",
                  "style": "English Pale Ale",
                  "brewery_id": 481,
                  "ounces": 16,
                  "_deepnote_index_column": 59
                },
                {
                  "Unnamed: 0": 60,
                  "abv": 0.084,
                  "ibu": "82.0",
                  "id": 47,
                  "name": "Ballz Deep Double IPA",
                  "style": "American Double / Imperial IPA",
                  "brewery_id": 481,
                  "ounces": 16,
                  "_deepnote_index_column": 60
                },
                {
                  "Unnamed: 0": 61,
                  "abv": 0.038,
                  "ibu": "nan",
                  "id": 1583,
                  "name": "Wolfman's Berliner",
                  "style": "Berliner Weissbier",
                  "brewery_id": 373,
                  "ounces": 12,
                  "_deepnote_index_column": 61
                }
              ],
              "rows_bottom": [
                {
                  "Unnamed: 0": 2347,
                  "abv": "nan",
                  "ibu": "nan",
                  "id": 2344,
                  "name": "O’Malley’s Stout",
                  "style": "English Stout",
                  "brewery_id": 132,
                  "ounces": 12,
                  "_deepnote_index_column": 2347
                },
                {
                  "Unnamed: 0": 2348,
                  "abv": "0.075",
                  "ibu": "89.0",
                  "id": 2343,
                  "name": "O’Malley’s IPA",
                  "style": "American IPA",
                  "brewery_id": 132,
                  "ounces": 12,
                  "_deepnote_index_column": 2348
                },
                {
                  "Unnamed: 0": 2349,
                  "abv": "nan",
                  "ibu": "nan",
                  "id": 2342,
                  "name": "O’Malley’s Irish Style Cream Ale",
                  "style": "Cream Ale",
                  "brewery_id": 132,
                  "ounces": 12,
                  "_deepnote_index_column": 2349
                },
                {
                  "Unnamed: 0": 2350,
                  "abv": "0.049",
                  "ibu": "28.0",
                  "id": 2341,
                  "name": "L'il Lucy's Hot Pepper Ale",
                  "style": "Chile Beer",
                  "brewery_id": 132,
                  "ounces": 12,
                  "_deepnote_index_column": 2350
                },
                {
                  "Unnamed: 0": 2351,
                  "abv": "0.052",
                  "ibu": "nan",
                  "id": 2340,
                  "name": "Drop Kick Ale",
                  "style": "American Amber / Red Ale",
                  "brewery_id": 132,
                  "ounces": 12,
                  "_deepnote_index_column": 2351
                },
                {
                  "Unnamed: 0": 2352,
                  "abv": "0.055",
                  "ibu": "nan",
                  "id": 2573,
                  "name": "Raspberry Berliner Weisse",
                  "style": "Berliner Weissbier",
                  "brewery_id": 47,
                  "ounces": 12,
                  "_deepnote_index_column": 2352
                },
                {
                  "Unnamed: 0": 2353,
                  "abv": "0.05",
                  "ibu": "nan",
                  "id": 2572,
                  "name": "Hop Session",
                  "style": "American IPA",
                  "brewery_id": 47,
                  "ounces": 12,
                  "_deepnote_index_column": 2353
                },
                {
                  "Unnamed: 0": 2354,
                  "abv": "0.055",
                  "ibu": "nan",
                  "id": 2571,
                  "name": "Blueberry Berliner Weisse",
                  "style": "Berliner Weissbier",
                  "brewery_id": 47,
                  "ounces": 12,
                  "_deepnote_index_column": 2354
                },
                {
                  "Unnamed: 0": 2355,
                  "abv": "0.055",
                  "ibu": "nan",
                  "id": 2570,
                  "name": "Berliner Weisse",
                  "style": "Berliner Weissbier",
                  "brewery_id": 47,
                  "ounces": 12,
                  "_deepnote_index_column": 2355
                },
                {
                  "Unnamed: 0": 2356,
                  "abv": "0.06",
                  "ibu": "nan",
                  "id": 1498,
                  "name": "Super G IPA",
                  "style": "American IPA",
                  "brewery_id": 396,
                  "ounces": 16,
                  "_deepnote_index_column": 2356
                },
                {
                  "Unnamed: 0": 2357,
                  "abv": "0.049",
                  "ibu": "30.0",
                  "id": 1838,
                  "name": "Hefe Lemon",
                  "style": "Radler",
                  "brewery_id": 296,
                  "ounces": 12,
                  "_deepnote_index_column": 2357
                },
                {
                  "Unnamed: 0": 2358,
                  "abv": "0.049",
                  "ibu": "30.0",
                  "id": 1837,
                  "name": "Hefe Black",
                  "style": "Hefeweizen",
                  "brewery_id": 296,
                  "ounces": 12,
                  "_deepnote_index_column": 2358
                },
                {
                  "Unnamed: 0": 2359,
                  "abv": "0.049",
                  "ibu": "30.0",
                  "id": 1836,
                  "name": "Widmer Brothers Hefeweizen",
                  "style": "Hefeweizen",
                  "brewery_id": 296,
                  "ounces": 12,
                  "_deepnote_index_column": 2359
                },
                {
                  "Unnamed: 0": 2360,
                  "abv": "0.0819999999999999",
                  "ibu": "100.0",
                  "id": 1619,
                  "name": "Hop Slayer Double IPA",
                  "style": "American Double / Imperial IPA",
                  "brewery_id": 361,
                  "ounces": 12,
                  "_deepnote_index_column": 2360
                },
                {
                  "Unnamed: 0": 2361,
                  "abv": "0.045",
                  "ibu": "nan",
                  "id": 1618,
                  "name": "Pumpkin Ale",
                  "style": "Pumpkin Ale",
                  "brewery_id": 361,
                  "ounces": 12,
                  "_deepnote_index_column": 2361
                },
                {
                  "Unnamed: 0": 2362,
                  "abv": "0.05",
                  "ibu": "nan",
                  "id": 1364,
                  "name": "Big Bowl Blonde Ale",
                  "style": "American Brown Ale",
                  "brewery_id": 361,
                  "ounces": 12,
                  "_deepnote_index_column": 2362
                },
                {
                  "Unnamed: 0": 2363,
                  "abv": "0.052",
                  "ibu": "27.0",
                  "id": 971,
                  "name": "Phat Chance",
                  "style": "American Blonde Ale",
                  "brewery_id": 361,
                  "ounces": 12,
                  "_deepnote_index_column": 2363
                },
                {
                  "Unnamed: 0": 2364,
                  "abv": "0.0819999999999999",
                  "ibu": "100.0",
                  "id": 740,
                  "name": "Hop Slayer Double IPA (2011)",
                  "style": "American Double / Imperial IPA",
                  "brewery_id": 361,
                  "ounces": 12,
                  "_deepnote_index_column": 2364
                },
                {
                  "Unnamed: 0": 2365,
                  "abv": "0.0819999999999999",
                  "ibu": "100.0",
                  "id": 430,
                  "name": "Hop Slayer Double IPA (2011)",
                  "style": "American Double / Imperial IPA",
                  "brewery_id": 361,
                  "ounces": 12,
                  "_deepnote_index_column": 2365
                },
                {
                  "Unnamed: 0": 2366,
                  "abv": "0.042",
                  "ibu": "13.0",
                  "id": 398,
                  "name": "Wild Onion Summer Wit",
                  "style": "Witbier",
                  "brewery_id": 361,
                  "ounces": 12,
                  "_deepnote_index_column": 2366
                },
                {
                  "Unnamed: 0": 2367,
                  "abv": "0.06",
                  "ibu": "23.0",
                  "id": 366,
                  "name": "Jack Stout",
                  "style": "Oatmeal Stout",
                  "brewery_id": 361,
                  "ounces": 12,
                  "_deepnote_index_column": 2367
                },
                {
                  "Unnamed: 0": 2368,
                  "abv": "0.045",
                  "ibu": "nan",
                  "id": 334,
                  "name": "Wild Onion Pumpkin Ale (2010)",
                  "style": "Pumpkin Ale",
                  "brewery_id": 361,
                  "ounces": 12,
                  "_deepnote_index_column": 2368
                },
                {
                  "Unnamed: 0": 2369,
                  "abv": "0.0559999999999999",
                  "ibu": "41.0",
                  "id": 162,
                  "name": "Paddy Pale Ale",
                  "style": "American Pale Ale (APA)",
                  "brewery_id": 361,
                  "ounces": 12,
                  "_deepnote_index_column": 2369
                },
                {
                  "Unnamed: 0": 2370,
                  "abv": "0.068",
                  "ibu": "21.0",
                  "id": 2253,
                  "name": "Blonde Hunny",
                  "style": "Belgian Pale Ale",
                  "brewery_id": 181,
                  "ounces": 12,
                  "_deepnote_index_column": 2370
                },
                {
                  "Unnamed: 0": 2371,
                  "abv": "0.057",
                  "ibu": "20.0",
                  "id": 1318,
                  "name": "Wild Wolf Wee Heavy Scottish Style Ale",
                  "style": "Scotch Ale / Wee Heavy",
                  "brewery_id": 181,
                  "ounces": 12,
                  "_deepnote_index_column": 2371
                },
                {
                  "Unnamed: 0": 2372,
                  "abv": "0.045",
                  "ibu": "25.0",
                  "id": 1195,
                  "name": "Wild Wolf American Pilsner",
                  "style": "American Pilsner",
                  "brewery_id": 181,
                  "ounces": 12,
                  "_deepnote_index_column": 2372
                },
                {
                  "Unnamed: 0": 2373,
                  "abv": "0.051",
                  "ibu": "45.0",
                  "id": 1194,
                  "name": "Alpha Ale",
                  "style": "American Pale Ale (APA)",
                  "brewery_id": 181,
                  "ounces": 12,
                  "_deepnote_index_column": 2373
                },
                {
                  "Unnamed: 0": 2374,
                  "abv": "0.054",
                  "ibu": "nan",
                  "id": 826,
                  "name": "Mystical Stout",
                  "style": "Irish Dry Stout",
                  "brewery_id": 499,
                  "ounces": 16,
                  "_deepnote_index_column": 2374
                },
                {
                  "Unnamed: 0": 2375,
                  "abv": "0.075",
                  "ibu": "nan",
                  "id": 825,
                  "name": "Bodacious Bock",
                  "style": "Bock",
                  "brewery_id": 499,
                  "ounces": 16,
                  "_deepnote_index_column": 2375
                },
                {
                  "Unnamed: 0": 2376,
                  "abv": "0.05",
                  "ibu": "nan",
                  "id": 813,
                  "name": "Ambitious Lager",
                  "style": "Munich Helles Lager",
                  "brewery_id": 499,
                  "ounces": 16,
                  "_deepnote_index_column": 2376
                },
                {
                  "Unnamed: 0": 2377,
                  "abv": "0.072",
                  "ibu": "nan",
                  "id": 324,
                  "name": "Wyoming Pale Ale",
                  "style": "American Pale Ale (APA)",
                  "brewery_id": 550,
                  "ounces": 16,
                  "_deepnote_index_column": 2377
                },
                {
                  "Unnamed: 0": 2378,
                  "abv": "0.05",
                  "ibu": "nan",
                  "id": 323,
                  "name": "Wind River Blonde Ale",
                  "style": "American Blonde Ale",
                  "brewery_id": 550,
                  "ounces": 16,
                  "_deepnote_index_column": 2378
                },
                {
                  "Unnamed: 0": 2379,
                  "abv": "0.074",
                  "ibu": "83.0",
                  "id": 762,
                  "name": "Ace IPA",
                  "style": "American IPA",
                  "brewery_id": 509,
                  "ounces": 16,
                  "_deepnote_index_column": 2379
                },
                {
                  "Unnamed: 0": 2380,
                  "abv": "0.08",
                  "ibu": "31.0",
                  "id": 761,
                  "name": "P-51 Porter",
                  "style": "American Porter",
                  "brewery_id": 509,
                  "ounces": 16,
                  "_deepnote_index_column": 2380
                },
                {
                  "Unnamed: 0": 2381,
                  "abv": "0.055",
                  "ibu": "nan",
                  "id": 2149,
                  "name": "#001 Golden Amber Lager",
                  "style": "American Amber / Red Lager",
                  "brewery_id": 211,
                  "ounces": 12,
                  "_deepnote_index_column": 2381
                },
                {
                  "Unnamed: 0": 2382,
                  "abv": "0.071",
                  "ibu": "60.0",
                  "id": 2148,
                  "name": "#002 American I.P.A.",
                  "style": "American IPA",
                  "brewery_id": 211,
                  "ounces": 12,
                  "_deepnote_index_column": 2382
                },
                {
                  "Unnamed: 0": 2383,
                  "abv": "0.052",
                  "ibu": "nan",
                  "id": 2147,
                  "name": "#003 Brown & Robust Porter",
                  "style": "American Porter",
                  "brewery_id": 211,
                  "ounces": 12,
                  "_deepnote_index_column": 2383
                },
                {
                  "Unnamed: 0": 2384,
                  "abv": "0.048",
                  "ibu": "38.0",
                  "id": 2146,
                  "name": "#004 Session I.P.A.",
                  "style": "American IPA",
                  "brewery_id": 211,
                  "ounces": 12,
                  "_deepnote_index_column": 2384
                },
                {
                  "Unnamed: 0": 2385,
                  "abv": "0.059",
                  "ibu": "nan",
                  "id": 2047,
                  "name": "Tarasque",
                  "style": "Saison / Farmhouse Ale",
                  "brewery_id": 239,
                  "ounces": 12,
                  "_deepnote_index_column": 2385
                },
                {
                  "Unnamed: 0": 2386,
                  "abv": "0.062",
                  "ibu": "61.0",
                  "id": 1470,
                  "name": "Ananda India Pale Ale",
                  "style": "American IPA",
                  "brewery_id": 239,
                  "ounces": 12,
                  "_deepnote_index_column": 2386
                },
                {
                  "Unnamed: 0": 2387,
                  "abv": "0.045",
                  "ibu": "23.0",
                  "id": 1469,
                  "name": "Tiny Bomb",
                  "style": "American Pilsner",
                  "brewery_id": 239,
                  "ounces": 12,
                  "_deepnote_index_column": 2387
                },
                {
                  "Unnamed: 0": 2388,
                  "abv": "0.0579999999999999",
                  "ibu": "72.0",
                  "id": 2627,
                  "name": "Train Hopper",
                  "style": "American IPA",
                  "brewery_id": 14,
                  "ounces": 12,
                  "_deepnote_index_column": 2388
                },
                {
                  "Unnamed: 0": 2389,
                  "abv": "0.045",
                  "ibu": "nan",
                  "id": 2626,
                  "name": "Edward’s Portly Brown",
                  "style": "American Brown Ale",
                  "brewery_id": 14,
                  "ounces": 12,
                  "_deepnote_index_column": 2389
                },
                {
                  "Unnamed: 0": 2390,
                  "abv": "0.059",
                  "ibu": "135.0",
                  "id": 1676,
                  "name": "Troopers Alley IPA",
                  "style": "American IPA",
                  "brewery_id": 344,
                  "ounces": 12,
                  "_deepnote_index_column": 2390
                },
                {
                  "Unnamed: 0": 2391,
                  "abv": "0.047",
                  "ibu": "15.0",
                  "id": 1468,
                  "name": "Wolverine Premium Lager",
                  "style": "American Pale Lager",
                  "brewery_id": 402,
                  "ounces": 12,
                  "_deepnote_index_column": 2391
                },
                {
                  "Unnamed: 0": 2392,
                  "abv": "0.05",
                  "ibu": "nan",
                  "id": 822,
                  "name": "Woodchuck Amber Hard Cider",
                  "style": "Cider",
                  "brewery_id": 501,
                  "ounces": 12,
                  "_deepnote_index_column": 2392
                },
                {
                  "Unnamed: 0": 2393,
                  "abv": "0.065",
                  "ibu": "82.0",
                  "id": 2417,
                  "name": "4000 Footer IPA",
                  "style": "American IPA",
                  "brewery_id": 109,
                  "ounces": 12,
                  "_deepnote_index_column": 2393
                },
                {
                  "Unnamed: 0": 2394,
                  "abv": "0.0279999999999999",
                  "ibu": "15.0",
                  "id": 2306,
                  "name": "Summer Brew",
                  "style": "American Pilsner",
                  "brewery_id": 109,
                  "ounces": 12,
                  "_deepnote_index_column": 2394
                },
                {
                  "Unnamed: 0": 2395,
                  "abv": "0.065",
                  "ibu": "69.0",
                  "id": 1697,
                  "name": "Be Hoppy IPA",
                  "style": "American IPA",
                  "brewery_id": 339,
                  "ounces": 16,
                  "_deepnote_index_column": 2395
                },
                {
                  "Unnamed: 0": 2396,
                  "abv": "0.069",
                  "ibu": "69.0",
                  "id": 2194,
                  "name": "Worthy IPA",
                  "style": "American IPA",
                  "brewery_id": 199,
                  "ounces": 12,
                  "_deepnote_index_column": 2396
                },
                {
                  "Unnamed: 0": 2397,
                  "abv": "0.045",
                  "ibu": "25.0",
                  "id": 1514,
                  "name": "Easy Day Kolsch",
                  "style": "Kölsch",
                  "brewery_id": 199,
                  "ounces": 12,
                  "_deepnote_index_column": 2397
                },
                {
                  "Unnamed: 0": 2398,
                  "abv": "0.077",
                  "ibu": "30.0",
                  "id": 1513,
                  "name": "Lights Out Vanilla Cream Extra Stout",
                  "style": "American Double / Imperial IPA",
                  "brewery_id": 199,
                  "ounces": 12,
                  "_deepnote_index_column": 2398
                },
                {
                  "Unnamed: 0": 2399,
                  "abv": "0.069",
                  "ibu": "69.0",
                  "id": 1512,
                  "name": "Worthy IPA (2013)",
                  "style": "American IPA",
                  "brewery_id": 199,
                  "ounces": 12,
                  "_deepnote_index_column": 2399
                },
                {
                  "Unnamed: 0": 2400,
                  "abv": "0.06",
                  "ibu": "50.0",
                  "id": 1511,
                  "name": "Worthy Pale",
                  "style": "American Pale Ale (APA)",
                  "brewery_id": 199,
                  "ounces": 12,
                  "_deepnote_index_column": 2400
                },
                {
                  "Unnamed: 0": 2401,
                  "abv": "0.042",
                  "ibu": "nan",
                  "id": 1345,
                  "name": "Patty's Chile Beer",
                  "style": "Chile Beer",
                  "brewery_id": 424,
                  "ounces": 12,
                  "_deepnote_index_column": 2401
                },
                {
                  "Unnamed: 0": 2402,
                  "abv": "0.0819999999999999",
                  "ibu": "nan",
                  "id": 1316,
                  "name": "Colorojo Imperial Red Ale",
                  "style": "American Strong Ale",
                  "brewery_id": 424,
                  "ounces": 12,
                  "_deepnote_index_column": 2402
                },
                {
                  "Unnamed: 0": 2403,
                  "abv": "0.055",
                  "ibu": "nan",
                  "id": 1045,
                  "name": "Wynkoop Pumpkin Ale",
                  "style": "Pumpkin Ale",
                  "brewery_id": 424,
                  "ounces": 12,
                  "_deepnote_index_column": 2403
                },
                {
                  "Unnamed: 0": 2404,
                  "abv": "0.075",
                  "ibu": "nan",
                  "id": 1035,
                  "name": "Rocky Mountain Oyster Stout",
                  "style": "American Stout",
                  "brewery_id": 424,
                  "ounces": 12,
                  "_deepnote_index_column": 2404
                },
                {
                  "Unnamed: 0": 2405,
                  "abv": "0.067",
                  "ibu": "45.0",
                  "id": 928,
                  "name": "Belgorado",
                  "style": "Belgian IPA",
                  "brewery_id": 424,
                  "ounces": 12,
                  "_deepnote_index_column": 2405
                },
                {
                  "Unnamed: 0": 2406,
                  "abv": "0.052",
                  "ibu": "nan",
                  "id": 807,
                  "name": "Rail Yard Ale",
                  "style": "American Amber / Red Ale",
                  "brewery_id": 424,
                  "ounces": 12,
                  "_deepnote_index_column": 2406
                },
                {
                  "Unnamed: 0": 2407,
                  "abv": "0.055",
                  "ibu": "nan",
                  "id": 620,
                  "name": "B3K Black Lager",
                  "style": "Schwarzbier",
                  "brewery_id": 424,
                  "ounces": 12,
                  "_deepnote_index_column": 2407
                },
                {
                  "Unnamed: 0": 2408,
                  "abv": "0.055",
                  "ibu": "40.0",
                  "id": 145,
                  "name": "Silverback Pale Ale",
                  "style": "American Pale Ale (APA)",
                  "brewery_id": 424,
                  "ounces": 12,
                  "_deepnote_index_column": 2408
                },
                {
                  "Unnamed: 0": 2409,
                  "abv": "0.052",
                  "ibu": "nan",
                  "id": 84,
                  "name": "Rail Yard Ale (2009)",
                  "style": "American Amber / Red Ale",
                  "brewery_id": 424,
                  "ounces": 12,
                  "_deepnote_index_column": 2409
                }
              ]
            },
            "text/plain": "      Unnamed: 0    abv   ibu    id                  name  \\\n0              0  0.050   NaN  1436              Pub Beer   \n1              1  0.066   NaN  2265           Devil's Cup   \n2              2  0.071   NaN  2264   Rise of the Phoenix   \n3              3  0.090   NaN  2263              Sinister   \n4              4  0.075   NaN  2262         Sex and Candy   \n...          ...    ...   ...   ...                   ...   \n2405        2405  0.067  45.0   928             Belgorado   \n2406        2406  0.052   NaN   807         Rail Yard Ale   \n2407        2407  0.055   NaN   620       B3K Black Lager   \n2408        2408  0.055  40.0   145   Silverback Pale Ale   \n2409        2409  0.052   NaN    84  Rail Yard Ale (2009)   \n\n                               style  brewery_id  ounces  \n0                American Pale Lager         408    12.0  \n1            American Pale Ale (APA)         177    12.0  \n2                       American IPA         177    12.0  \n3     American Double / Imperial IPA         177    12.0  \n4                       American IPA         177    12.0  \n...                              ...         ...     ...  \n2405                     Belgian IPA         424    12.0  \n2406        American Amber / Red Ale         424    12.0  \n2407                     Schwarzbier         424    12.0  \n2408         American Pale Ale (APA)         424    12.0  \n2409        American Amber / Red Ale         424    12.0  \n\n[2410 rows x 8 columns]",
            "text/html": "<div>\n<style scoped>\n    .dataframe tbody tr th:only-of-type {\n        vertical-align: middle;\n    }\n\n    .dataframe tbody tr th {\n        vertical-align: top;\n    }\n\n    .dataframe thead th {\n        text-align: right;\n    }\n</style>\n<table border=\"1\" class=\"dataframe\">\n  <thead>\n    <tr style=\"text-align: right;\">\n      <th></th>\n      <th>Unnamed: 0</th>\n      <th>abv</th>\n      <th>ibu</th>\n      <th>id</th>\n      <th>name</th>\n      <th>style</th>\n      <th>brewery_id</th>\n      <th>ounces</th>\n    </tr>\n  </thead>\n  <tbody>\n    <tr>\n      <th>0</th>\n      <td>0</td>\n      <td>0.050</td>\n      <td>NaN</td>\n      <td>1436</td>\n      <td>Pub Beer</td>\n      <td>American Pale Lager</td>\n      <td>408</td>\n      <td>12.0</td>\n    </tr>\n    <tr>\n      <th>1</th>\n      <td>1</td>\n      <td>0.066</td>\n      <td>NaN</td>\n      <td>2265</td>\n      <td>Devil's Cup</td>\n      <td>American Pale Ale (APA)</td>\n      <td>177</td>\n      <td>12.0</td>\n    </tr>\n    <tr>\n      <th>2</th>\n      <td>2</td>\n      <td>0.071</td>\n      <td>NaN</td>\n      <td>2264</td>\n      <td>Rise of the Phoenix</td>\n      <td>American IPA</td>\n      <td>177</td>\n      <td>12.0</td>\n    </tr>\n    <tr>\n      <th>3</th>\n      <td>3</td>\n      <td>0.090</td>\n      <td>NaN</td>\n      <td>2263</td>\n      <td>Sinister</td>\n      <td>American Double / Imperial IPA</td>\n      <td>177</td>\n      <td>12.0</td>\n    </tr>\n    <tr>\n      <th>4</th>\n      <td>4</td>\n      <td>0.075</td>\n      <td>NaN</td>\n      <td>2262</td>\n      <td>Sex and Candy</td>\n      <td>American IPA</td>\n      <td>177</td>\n      <td>12.0</td>\n    </tr>\n    <tr>\n      <th>...</th>\n      <td>...</td>\n      <td>...</td>\n      <td>...</td>\n      <td>...</td>\n      <td>...</td>\n      <td>...</td>\n      <td>...</td>\n      <td>...</td>\n    </tr>\n    <tr>\n      <th>2405</th>\n      <td>2405</td>\n      <td>0.067</td>\n      <td>45.0</td>\n      <td>928</td>\n      <td>Belgorado</td>\n      <td>Belgian IPA</td>\n      <td>424</td>\n      <td>12.0</td>\n    </tr>\n    <tr>\n      <th>2406</th>\n      <td>2406</td>\n      <td>0.052</td>\n      <td>NaN</td>\n      <td>807</td>\n      <td>Rail Yard Ale</td>\n      <td>American Amber / Red Ale</td>\n      <td>424</td>\n      <td>12.0</td>\n    </tr>\n    <tr>\n      <th>2407</th>\n      <td>2407</td>\n      <td>0.055</td>\n      <td>NaN</td>\n      <td>620</td>\n      <td>B3K Black Lager</td>\n      <td>Schwarzbier</td>\n      <td>424</td>\n      <td>12.0</td>\n    </tr>\n    <tr>\n      <th>2408</th>\n      <td>2408</td>\n      <td>0.055</td>\n      <td>40.0</td>\n      <td>145</td>\n      <td>Silverback Pale Ale</td>\n      <td>American Pale Ale (APA)</td>\n      <td>424</td>\n      <td>12.0</td>\n    </tr>\n    <tr>\n      <th>2409</th>\n      <td>2409</td>\n      <td>0.052</td>\n      <td>NaN</td>\n      <td>84</td>\n      <td>Rail Yard Ale (2009)</td>\n      <td>American Amber / Red Ale</td>\n      <td>424</td>\n      <td>12.0</td>\n    </tr>\n  </tbody>\n</table>\n<p>2410 rows × 8 columns</p>\n</div>"
          },
          "metadata": {}
        }
      ]
    },
    {
      "cell_type": "markdown",
      "source": "Inspect the table above. The first column is a numbering scheme for the beers. The other columns contain the following data:\n\n- `abv`: Alcohol-by-volume of the beer.\n- `ibu`: International Bittering Units of the beer.\n- `id`: Unique identifier of the beer.\n- `name`: Name of the beer.\n- `style`: Style of the beer.\n- `brewery_id`: Unique identifier of the brewery.\n- `ounces`: Ounces of beer in the can.",
      "metadata": {
        "cell_id": "00011-cee55047-b4cb-4b19-b770-ece07ab83ca5",
        "deepnote_cell_type": "markdown"
      }
    },
    {
      "cell_type": "markdown",
      "source": "## Step 2: Explore the data\n\nIn the field of statistics, [Exploratory Data Analysis](https://en.wikipedia.org/wiki/Exploratory_data_analysis) (EDA) has the goal of summarizing the main features of our data, and seeing what the data can tell us without formal modeling or hypothesis-testing. [2]\n\nLet's start by extracting the columns with the `abv` and `ibu` values, and converting them to NumPy arrays. One of the advantages of data frames in `pandas` is that we can access a column simply using its header, like this:\n\n```python\ndata_frame['name_of_column']\n```\n\nThe output of this action is a `pandas Series`. From the documentation: \"a `Series` is a 1-dimensional labeled array capable of holding any data type.\" [4]\n\n## Exercise: Check the type of a column extracted by header:",
      "metadata": {
        "cell_id": "00012-b4d4b1b5-a187-4612-9f65-340eee52a48f",
        "deepnote_cell_type": "markdown"
      }
    },
    {
      "cell_type": "code",
      "metadata": {
        "cell_id": "00013-cd4a6b32-427f-450d-97b4-6fd74edaa03a",
        "deepnote_to_be_reexecuted": false,
        "source_hash": "18bd0660",
        "execution_start": 1617700848548,
        "execution_millis": 93,
        "deepnote_cell_type": "code"
      },
      "source": "type(beers['ibu'])",
      "execution_count": 7,
      "outputs": [
        {
          "output_type": "execute_result",
          "execution_count": 7,
          "data": {
            "text/plain": "pandas.core.series.Series"
          },
          "metadata": {}
        }
      ]
    },
    {
      "cell_type": "markdown",
      "source": "Of course, you can index and slice a data series like you know how to do with strings, lists and arrays.\n\n## Exercise: Display the first ten elements of the `abv` series:",
      "metadata": {
        "cell_id": "00014-1e48bc0c-3d12-46da-929a-34878b11be46",
        "deepnote_cell_type": "markdown"
      }
    },
    {
      "cell_type": "code",
      "metadata": {
        "cell_id": "00015-8d992f2b-b2a5-4cc1-a62a-d21b61170c40",
        "deepnote_to_be_reexecuted": false,
        "source_hash": "4d5cbf15",
        "execution_millis": 110,
        "execution_start": 1617700881692,
        "deepnote_cell_type": "code"
      },
      "source": "beers['abv'].head(10)",
      "execution_count": 9,
      "outputs": [
        {
          "output_type": "execute_result",
          "execution_count": 9,
          "data": {
            "text/plain": "0    0.050\n1    0.066\n2    0.071\n3    0.090\n4    0.075\n5    0.077\n6    0.045\n7    0.065\n8    0.055\n9    0.086\nName: abv, dtype: float64"
          },
          "metadata": {}
        }
      ]
    },
    {
      "cell_type": "markdown",
      "source": "Inspect the data in the table again: you'll notice that there are `NaN` (not-a-number) elements in both the `abv` and `ibu` columns. Those values mean that there was no data reported for that beer. A typical task when cleaning up data is to deal with these pesky `NaN`s.\n\n## Exercise: Extract the two series corresponding to the `abv` and `ibu` columns, clean the data by removing all `NaN` values, and then access the values of each series and assign them to a NumPy array. ",
      "metadata": {
        "cell_id": "00016-025530b9-acb4-4db5-af8e-c683d7eefea5",
        "deepnote_cell_type": "markdown"
      }
    },
    {
      "cell_type": "code",
      "metadata": {
        "cell_id": "00017-6e73d2d2-39d2-4ecd-9c8a-b1322b34daf4",
        "deepnote_to_be_reexecuted": false,
        "source_hash": "7fec1bd6",
        "execution_millis": 2,
        "execution_start": 1617701101469,
        "deepnote_cell_type": "code"
      },
      "source": "abv_series = beers['abv']",
      "execution_count": 21,
      "outputs": []
    },
    {
      "cell_type": "markdown",
      "source": "#### Check out the length of abv",
      "metadata": {
        "cell_id": "00018-f0e56bdf-fe64-4239-8110-be2c6cb1cab4",
        "deepnote_cell_type": "markdown"
      }
    },
    {
      "cell_type": "code",
      "metadata": {
        "cell_id": "00019-2a3b7d58-fd95-4214-a444-265195c60285",
        "deepnote_to_be_reexecuted": false,
        "source_hash": "70c9dc07",
        "execution_millis": 17,
        "execution_start": 1617701103135,
        "deepnote_cell_type": "code"
      },
      "source": "len(abv_series)",
      "execution_count": 22,
      "outputs": [
        {
          "output_type": "execute_result",
          "execution_count": 22,
          "data": {
            "text/plain": "2410"
          },
          "metadata": {}
        }
      ]
    },
    {
      "cell_type": "markdown",
      "source": "Another advantage of `pandas` is that it has the ability to handle missing data. The  data-frame method `dropna()` returns a new data frame with only the good values of the original: all the null values are thrown out. This is super useful!",
      "metadata": {
        "cell_id": "00020-047939d8-d221-45c8-b0b3-b8c024ac9304",
        "deepnote_cell_type": "markdown"
      }
    },
    {
      "cell_type": "code",
      "metadata": {
        "cell_id": "00021-48fb7a1f-5d5e-413b-b6be-d2202bceeec8",
        "deepnote_to_be_reexecuted": false,
        "source_hash": "211c4bbb",
        "execution_millis": 0,
        "execution_start": 1617701107882,
        "deepnote_cell_type": "code"
      },
      "source": "abv_clean=abv_series.dropna()",
      "execution_count": 23,
      "outputs": []
    },
    {
      "cell_type": "markdown",
      "source": " ####  Check out the length of the cleaned-up `abv` data; you'll see that it's shorter than the original. `NaN`s gone!",
      "metadata": {
        "cell_id": "00022-f46a9fe3-b800-4b82-bc8f-e76f7395448c",
        "deepnote_cell_type": "markdown"
      }
    },
    {
      "cell_type": "code",
      "metadata": {
        "cell_id": "00023-b09a3f78-4f69-49cb-a3b8-015623caa770",
        "deepnote_to_be_reexecuted": false,
        "source_hash": "7724f0ba",
        "execution_millis": 15,
        "execution_start": 1617701116476,
        "deepnote_cell_type": "code"
      },
      "source": "len(abv_clean)",
      "execution_count": 25,
      "outputs": [
        {
          "output_type": "execute_result",
          "execution_count": 25,
          "data": {
            "text/plain": "2348"
          },
          "metadata": {}
        }
      ]
    },
    {
      "cell_type": "markdown",
      "source": "Remember that a a `pandas` _Series_ consists of a column of values, and their labels. You can extract the values via the [`series.values`](https://pandas.pydata.org/pandas-docs/stable/generated/pandas.Series.values.html) attribute, which returns a `numpy.ndarray` (multidimensional array). In the case of the `abv_clean` series, you get a one-dimensional array. We save it into the variable name `abv`. ",
      "metadata": {
        "cell_id": "00024-1312ba20-ebf4-4735-bd00-164fd80b7522",
        "deepnote_cell_type": "markdown"
      }
    },
    {
      "cell_type": "code",
      "metadata": {
        "cell_id": "00025-5e37e36c-e252-4096-b1d6-b40e003c67ca",
        "deepnote_to_be_reexecuted": false,
        "source_hash": "373bc9a1",
        "execution_millis": 1,
        "execution_start": 1617701149413,
        "deepnote_cell_type": "code"
      },
      "source": "abv = abv_clean.values",
      "execution_count": 26,
      "outputs": []
    },
    {
      "cell_type": "code",
      "metadata": {
        "cell_id": "00026-f6a10f01-b0f6-419d-b06c-d7725ad0c7a4",
        "deepnote_to_be_reexecuted": false,
        "source_hash": "d4076495",
        "execution_start": 1617701152049,
        "execution_millis": 71,
        "deepnote_cell_type": "code"
      },
      "source": "print(abv)",
      "execution_count": 27,
      "outputs": [
        {
          "name": "stdout",
          "text": "[0.05  0.066 0.071 ... 0.055 0.055 0.052]\n",
          "output_type": "stream"
        }
      ]
    },
    {
      "cell_type": "code",
      "metadata": {
        "cell_id": "00027-08a1dafc-219e-43b4-9608-e87d91f3ff3b",
        "deepnote_to_be_reexecuted": false,
        "source_hash": "5401409f",
        "execution_start": 1617701160431,
        "execution_millis": 9,
        "deepnote_cell_type": "code"
      },
      "source": "type(abv)",
      "execution_count": 28,
      "outputs": [
        {
          "output_type": "execute_result",
          "execution_count": 28,
          "data": {
            "text/plain": "numpy.ndarray"
          },
          "metadata": {}
        }
      ]
    },
    {
      "cell_type": "markdown",
      "source": "## Exercise: Now, repeat the whole process for the `ibu` column: \n#### extract the column into a series, clean it up removing `NaN`s, extract the series values as an array, check how many values we lost.",
      "metadata": {
        "cell_id": "00028-523a517a-f12b-4d17-850a-ffca6d532dc4",
        "deepnote_cell_type": "markdown"
      }
    },
    {
      "cell_type": "code",
      "metadata": {
        "cell_id": "00029-7a20b003-45bc-45a4-85db-226dda554dae",
        "deepnote_to_be_reexecuted": false,
        "source_hash": "23f980c0",
        "execution_millis": 18,
        "execution_start": 1617701231288,
        "deepnote_cell_type": "code"
      },
      "source": "ibu_series=beers['ibu']\nlen(ibu_series)",
      "execution_count": 30,
      "outputs": [
        {
          "output_type": "execute_result",
          "execution_count": 30,
          "data": {
            "text/plain": "2410"
          },
          "metadata": {}
        }
      ]
    },
    {
      "cell_type": "code",
      "metadata": {
        "cell_id": "00030-431eec2d-e4e6-4c33-903b-33a11753eb09",
        "deepnote_to_be_reexecuted": false,
        "source_hash": "4b40df9c",
        "execution_start": 1617701252056,
        "execution_millis": 16,
        "deepnote_cell_type": "code"
      },
      "source": "ibu_clean=ibu_series.dropna()\nlen(ibu_clean)",
      "execution_count": 31,
      "outputs": [
        {
          "output_type": "execute_result",
          "execution_count": 31,
          "data": {
            "text/plain": "1405"
          },
          "metadata": {}
        }
      ]
    },
    {
      "cell_type": "markdown",
      "source": "##### Exercise\n\nWrite a Python function that calculates the percentage of missing values for a certain data series. Use the function to calculate the percentage of missing values for the `abv` and `ibu` data sets. \n\nFor the original series, before cleaning, remember that you can access the values with `series.values` (e.g., `abv_series.values`).",
      "metadata": {
        "cell_id": "00031-4532e81b-d0c5-48c6-a006-c0ec37b095f5",
        "deepnote_cell_type": "markdown"
      }
    },
    {
      "cell_type": "code",
      "metadata": {
        "cell_id": "00032-f3929fb5-5427-4632-a878-6bfb5498be48",
        "deepnote_cell_type": "code"
      },
      "source": "",
      "execution_count": null,
      "outputs": []
    },
    {
      "cell_type": "markdown",
      "source": "##### Important:\n\nNotice that in the case of the variable `ibu` we are missing almost 42% of the values. This is important, because it will affect our analysis. When we do descriptive statistics, we will ignore these missing values, and having 42% missing will very likely cause bias.",
      "metadata": {
        "cell_id": "00033-eb061c4d-5198-43f3-99d3-feb1e65dad91",
        "deepnote_cell_type": "markdown"
      }
    },
    {
      "cell_type": "markdown",
      "source": "## Step 3: Ready, stats, go!\n\n\nNow that we have NumPy arrays with clean data, let's see how we can manipulate them to get some useful information. \n\nFocusing on the numerical variables `abv` and `ibu`, we'll walk through some \"descriptive statistics,\" below. In other words, we aim to generate statistics that summarize the data concisely.",
      "metadata": {
        "cell_id": "00034-43ebd323-c800-4fe2-8974-407a61447823",
        "deepnote_cell_type": "markdown"
      }
    },
    {
      "cell_type": "markdown",
      "source": "### Maximum and minimum \n\nThe maximum and minimum values of a dataset are helpful as they tell us the _range_ of our sample: the range gives some indication of the _variability_ in the data.\nWe can obtain them for our `abv` and `ibu` arrays with the `min()` and `max()` functions from NumPy.",
      "metadata": {
        "cell_id": "00035-6df696c1-b84e-4420-a045-6c19edaa2466",
        "deepnote_cell_type": "markdown"
      }
    },
    {
      "cell_type": "markdown",
      "source": "**abv**",
      "metadata": {
        "cell_id": "00036-8cb54ce6-f2a5-4b81-87b1-26024b9934fb",
        "deepnote_cell_type": "markdown"
      }
    },
    {
      "cell_type": "code",
      "metadata": {
        "cell_id": "00037-51c9b98e-b8eb-4c7b-a1d9-aaa530d9c27c",
        "deepnote_cell_type": "code"
      },
      "source": "abv_min = numpy.min(abv)\nabv_max = numpy.max(abv)",
      "execution_count": 18,
      "outputs": []
    },
    {
      "cell_type": "code",
      "metadata": {
        "cell_id": "00038-57c8d184-4f3e-4d25-b522-78ecefdb6d13",
        "deepnote_cell_type": "code"
      },
      "source": "print('The minimum value for abv is: ', abv_min)\nprint('The maximum value for abv is: ', abv_max)",
      "execution_count": 19,
      "outputs": [
        {
          "name": "stdout",
          "output_type": "stream",
          "text": "The minimum value for abv is:  0.001\nThe maximum value for abv is:  0.128\n"
        }
      ]
    },
    {
      "cell_type": "markdown",
      "source": "**ibu**",
      "metadata": {
        "cell_id": "00039-5ae164a7-dabb-4cb5-ac69-dccc6585310a",
        "deepnote_cell_type": "markdown"
      }
    },
    {
      "cell_type": "code",
      "metadata": {
        "cell_id": "00040-1f32f994-1b6c-46ae-b711-8f3e6559a520",
        "deepnote_cell_type": "code"
      },
      "source": "ibu_min = numpy.min(ibu)\nibu_max = numpy.max(ibu)",
      "execution_count": 20,
      "outputs": []
    },
    {
      "cell_type": "code",
      "metadata": {
        "cell_id": "00041-054d3bf5-16ff-4e63-ade9-a15739807f1a",
        "deepnote_cell_type": "code"
      },
      "source": "print('The minimum value for ibu is: ', ibu_min)\nprint('The maximum value for ibu is: ', ibu_max)",
      "execution_count": 21,
      "outputs": [
        {
          "name": "stdout",
          "output_type": "stream",
          "text": "The minimum value for ibu is:  4.0\nThe maximum value for ibu is:  138.0\n"
        }
      ]
    },
    {
      "cell_type": "markdown",
      "source": "### Mean value\n\nThe **mean** value is one of the main measures to describe the central tendency of the data: an indication of where's the \"center\" of the data. If we have a sample of $N$ values, $x_i$, the mean, $\\bar{x}$, is calculated by:\n\n\\begin{equation*}\n    \\bar{x} = \\frac{1}{N}\\sum_{i} x_i\n\\end{equation*}\n\nIn words, that is the sum of the data values divided by the number of values, $N$. \n\nYou've already learned how to write a function to compute the mean in [Module 1 Lesson 5](http://go.gwu.edu/engcomp1lesson5), but you also learned that NumPy has a built-in `mean()` function. We'll use this to get the mean of the `abv` and `ibu` values.",
      "metadata": {
        "cell_id": "00042-ec812f06-1e2e-40bd-93cf-0faa0af51c0e",
        "deepnote_cell_type": "markdown"
      }
    },
    {
      "cell_type": "code",
      "metadata": {
        "cell_id": "00043-5502b70e-d95f-4f0f-90fd-eb194c39482e",
        "deepnote_cell_type": "code"
      },
      "source": "abv_mean = numpy.mean(abv)\nibu_mean = numpy.mean(ibu)",
      "execution_count": 22,
      "outputs": []
    },
    {
      "cell_type": "markdown",
      "source": "Next, we'll print these two variables, but we'll use some fancy new way of printing with Python's string formatter, `string.format()`. There's a sweet site dedicated to Python's string formatter, called [PyFormat](https://pyformat.info), where you can learn lots of tricks!\n\nThe basic trick is to use curly brackets `{}` as placeholder for a variable value that you want to print in the middle of a string (say, a sentence that explains what you are printing), and to pass the variable name as argument to `.format()`, preceded by the string.\n\nLet's try something out…",
      "metadata": {
        "cell_id": "00044-7ab96439-fb5d-4d27-aee1-0a3746231005",
        "deepnote_cell_type": "markdown"
      }
    },
    {
      "cell_type": "code",
      "metadata": {
        "cell_id": "00045-2f83c1d5-b723-4d67-9191-d81f4592c4bf",
        "deepnote_cell_type": "code"
      },
      "source": "print('The mean value for abv is {} and for ibu {}'.format(abv_mean, ibu_mean))",
      "execution_count": 23,
      "outputs": [
        {
          "name": "stdout",
          "output_type": "stream",
          "text": "The mean value for abv is 0.059773424190800686 and for ibu 42.71316725978647\n"
        }
      ]
    },
    {
      "cell_type": "markdown",
      "source": "Ugh! That doesn't look very good, does it? Here's where Python's string formatting gets fancy. We can print fewer decimal digits, so the sentence is more readable. For example, if we want to have four decimal digits, we specify it this way:",
      "metadata": {
        "cell_id": "00046-6e8926b1-0532-4fd6-a96f-460b4d5b382b",
        "deepnote_cell_type": "markdown"
      }
    },
    {
      "cell_type": "code",
      "metadata": {
        "cell_id": "00047-58393715-8aec-445c-b23b-73c889b6d514",
        "deepnote_cell_type": "code"
      },
      "source": "print('The mean value for abv is {:.4f} and for ibu {:.4f}'.format(abv_mean, ibu_mean))",
      "execution_count": 24,
      "outputs": [
        {
          "name": "stdout",
          "output_type": "stream",
          "text": "The mean value for abv is 0.0598 and for ibu 42.7132\n"
        }
      ]
    },
    {
      "cell_type": "markdown",
      "source": "Inside the curly brackets—the placeholders for the values we want to print—the `f` is for `float` and the `.4` is for four digits after the decimal dot. The colon here marks the beginning of the format specification (as there are options that can be passed before). There are so many tricks to Python's string formatter that you'll usually look up just what you need.\nAnother useful resource for string formatting is the [Python String Format Cookbook](https://mkaz.blog/code/python-string-format-cookbook/). Check it out!",
      "metadata": {
        "cell_id": "00048-966708b5-d124-482c-bd84-375fa69fe1aa",
        "deepnote_cell_type": "markdown"
      }
    },
    {
      "cell_type": "markdown",
      "source": "### Variance and standard deviation\n\nWhile the mean indicates where's the center of your data, the **variance** and **standard deviation** describe the *spread* or variability of the data. We already mentioned that the _range_ (difference between largest and smallest data values) is also an indication of variability. But the standard deviation is the most common measure of variability.\n\nWe really like the way [Prof. Kristin Sainani](https://profiles.stanford.edu/kristin-sainani), of Stanford University, presents this in her online course on [Statistics in Medicine](https://lagunita.stanford.edu/courses/Medicine/MedStats-SP/SelfPaced/about). In her lecture \"Describing Quantitative Data: Whhat is the variability in the data?\", available [on YouTube](https://youtu.be/hlFeEQF5tDc), she asks: _What if someone were to ask you to devise a statistic that gives the avarage distance from the mean?_ Think about this a little bit.\n\nThe distance from the mean, for any data value, is $x_i - \\bar{x}$. So what is the average of the distances from the mean? If we try to simply compute the average of all the values $x_i - \\bar{x}$, some of which are negative, you'll just get zero! It doesn't work.\n\nSince the problem is the negative distances from the mean, you might suggest using absolute values. But this is just mathematically inconvenient. Another way to get rid of negative values is to take the squares. And that's how we get to the expression for the _variance_: it is the average of the squares of the deviations from the mean. For a set of $N$ values,\n\n\\begin{equation*}\n     \\text{var} = \\frac{1}{N}\\sum_{i} (x_i - \\bar{x})^2\n\\end{equation*}\n\n\nThe variance itself is hard to interpret. The problem with it is that the units are strange (they are the square of the original units). The **standard deviation**, the square root of the variance, is more meaningful because it has the same units as the original variable. Often, the symbol $\\sigma$ is used for it:\n\n\\begin{equation*} \n    \\sigma = \\sqrt{\\text{var}} = \\sqrt{\\frac{1}{N}\\sum_{i} (x_i - \\bar{x})^2}\n\\end{equation*}",
      "metadata": {
        "cell_id": "00049-fd1dd775-14f4-4d4a-afd6-b2192685d69e",
        "deepnote_cell_type": "markdown"
      }
    },
    {
      "cell_type": "markdown",
      "source": "### Sample vs. population\n\nThe above definitions are used when $N$ (the number of values) represents the entire population. But if we have a _sample_ of that population, the formulas have to be adjusted: instead of dividing by $N$ we divide by $N-1$. This is important, especially when we work with real data since usually we have samples of populations. \n\nThe **standard deviation** of a sample is denoted by $s$, and the formula is:\n\n\\begin{equation*}     \n     s = \\sqrt{\\frac{1}{N-1}\\sum_{i} (x_i - \\bar{x})^2}\n\\end{equation*}\n\nWhy? This gets a little technical, but the reason is that if you have a _sample_ of the population, you don't know the _real_ value of the mean, and $\\bar{x}$ is actually an _estimate_ of the mean. That's why you'll often find the symbol $\\mu$ used to denote the population mean, and distinguish it with the sample mean, $\\bar{x}$. Using $\\bar{x}$ to compute the standard deviation introduces a small bias: $\\bar{x}$ is computed _from the sample values_, and the data are on average (slightly) closer to $\\bar{x}$ than the population is to $\\mu$. Dividing by $N-1$ instead of $N$ corrects this bias!\n\nProf. Sainani explains it by saying that we lost one degree of freedom when we estimated the mean using $\\bar{x}$.  For example, say we have 100 people and I give you their mean age, and the actual age for 99 people from the sample: you'll be able to calculate the age of that 100th person. Once we calculated the mean, we only have 99 degrees of freedom left because that 100th person's age is fixed. ",
      "metadata": {
        "cell_id": "00050-100f62f7-0396-4467-ad38-9ff27d9a5275",
        "deepnote_cell_type": "markdown"
      }
    },
    {
      "cell_type": "markdown",
      "source": "### Let's code!\n\nNow that we have the math sorted out, we can program functions to compute the variance and the standard deviation. In our case, we are working with samples of the population of craft beers, so we need to use the formulas with $N-1$ in the denominator. ",
      "metadata": {
        "cell_id": "00051-2b2f3043-2812-44ef-a9c0-47e091ce8f66",
        "deepnote_cell_type": "markdown"
      }
    },
    {
      "cell_type": "code",
      "metadata": {
        "cell_id": "00052-489179ee-6a07-479d-a4f9-b373fb32359a",
        "deepnote_cell_type": "code"
      },
      "source": "def sample_var(array):\n    \"\"\" Calculates the variance of an array that contains values of a sample of a \n    population. \n    \n    Arguments\n    ---------\n    array : array, contains sample of values. \n    \n    Returns\n    -------\n    var   : float, variance of the array .\n    \"\"\"\n    \n    return var\n    ",
      "execution_count": 25,
      "outputs": []
    },
    {
      "cell_type": "markdown",
      "source": "If you have used `numpy.mean()` in the implementation: can you search on the documentation if there is a more efficient function? \n\n*Hint:* Yes!, there is.\n\n##### Exercise:\n\nRe-write the function `sample_var()` using `numpy.sum()` to replace the `for`-loop. Name the function `var_pythonic`.",
      "metadata": {
        "cell_id": "00053-4301d213-1088-4a5e-af0c-6d47300fdd52",
        "deepnote_cell_type": "markdown"
      }
    },
    {
      "cell_type": "code",
      "metadata": {
        "cell_id": "00054-9c3e1470-22e4-4b5e-89ca-1f44470f6363",
        "deepnote_cell_type": "code"
      },
      "source": "",
      "execution_count": null,
      "outputs": []
    },
    {
      "cell_type": "markdown",
      "source": "We have the sample variance, so we take its square root to get the standard deviation. We can make it a function, even though it's just one line of Python, to make our code more readable:",
      "metadata": {
        "cell_id": "00055-fb88baac-8d77-4e8e-a03a-2de2a595ab01",
        "deepnote_cell_type": "markdown"
      }
    },
    {
      "cell_type": "code",
      "metadata": {
        "cell_id": "00056-d8c82ac3-e560-4c17-9fdb-d4218dd417c5",
        "deepnote_cell_type": "code"
      },
      "source": "def sample_std(array):\n    \"\"\" Computes the standard deviation of an array that contains values\n    of a sample of a population.\n    \n    Arguments\n    ---------\n    array : array, contains sample of values. \n    \n    Returns\n    -------\n    std   : float, standard deviation of the array.\n    \"\"\"\n    \n    \n    return std",
      "execution_count": 26,
      "outputs": []
    },
    {
      "cell_type": "markdown",
      "source": "Let's call our brand new functions and assign the output values to new variables:",
      "metadata": {
        "cell_id": "00057-b4e6df0a-38d1-4ff6-a20f-353e481f7829",
        "deepnote_cell_type": "markdown"
      }
    },
    {
      "cell_type": "code",
      "metadata": {
        "cell_id": "00058-885c73ea-d0bc-4a2d-b398-6bea4f8356a3",
        "deepnote_cell_type": "code"
      },
      "source": "abv_std = sample_std(abv)\nibu_std = sample_std(ibu)",
      "execution_count": 27,
      "outputs": []
    },
    {
      "cell_type": "markdown",
      "source": "If we print these values using the string formatter, only printing 4 decimal digits, we can display our descriptive statistics in a pleasant, human-readable way.",
      "metadata": {
        "cell_id": "00059-b2578e81-ba54-40c1-9db6-ad16c9325fb6",
        "deepnote_cell_type": "markdown"
      }
    },
    {
      "cell_type": "code",
      "metadata": {
        "cell_id": "00060-9c8b10ba-27fc-4322-9380-cb0e47acd4b8",
        "deepnote_cell_type": "code"
      },
      "source": "print('The standard deviation for abv is {:.4f} and for ibu {:.4f}'.format(abv_std, ibu_std))",
      "execution_count": 28,
      "outputs": [
        {
          "name": "stdout",
          "output_type": "stream",
          "text": "The standard deviation for abv is 0.0135 and for ibu 25.9541\n"
        }
      ]
    },
    {
      "cell_type": "markdown",
      "source": "These numbers tell us that the `abv` values are quite concentrated around the mean value, while the `ibu` values are quite spread out from their mean. How could we check these descriptions of the data? A good way of doing so is using graphics: various types of plots can tell us things about the data. \n\nWe'll learn about _histograms_ in this lesson, and in the following lesson we'll explore _box plots_. ",
      "metadata": {
        "cell_id": "00061-a4bb4e94-336f-43bf-bc3a-23b907ed98da",
        "deepnote_cell_type": "markdown"
      }
    },
    {
      "cell_type": "markdown",
      "source": "## Step 4: Distribution plots \n\nEvery time that we work with data, visualizing it is very useful. Visualizations give us a better idea of how our data behaves. One way of visualizing data is with a frequency-distribution plot known as **histogram**: a graphical representation of how the data is distributed. To make a histogram, first we need to \"bin\" the range of values (divide the range into intervals) and then we count how many data values fall into each interval. The intervals are usually consecutive (not always), of equal size and non-overlapping. \n\nThanks to Python and Matplotlib, making histograms is easy. We recommend that you always read the documentation, in this case about [histograms](https://matplotlib.org/devdocs/api/_as_gen/matplotlib.pyplot.hist.html). We'll show you here an example using the `hist()` function from `pyplot`, but this is just a starting point. \n\nLet's import the libraries that we need for plotting, as you learned in [Module 1 Lesson 5](http://go.gwu.edu/engcomp1lesson5), then study the plotting commands used below. Try changing some of the plot options and seeing the effect.",
      "metadata": {
        "collapsed": true,
        "cell_id": "00062-e14c077c-7190-477f-b250-73cf3671ad16",
        "deepnote_cell_type": "markdown"
      }
    },
    {
      "cell_type": "code",
      "metadata": {
        "cell_id": "00063-9c7e7cf8-f51a-4903-bb08-bc4b505ca119",
        "deepnote_cell_type": "code"
      },
      "source": "from matplotlib import pyplot\n%matplotlib inline\n\n#Import rcParams to set font styles\nfrom matplotlib import rcParams\n\n#Set font style and size \nrcParams['font.family'] = 'serif'\nrcParams['font.size'] = 16",
      "execution_count": 29,
      "outputs": []
    },
    {
      "cell_type": "code",
      "metadata": {
        "cell_id": "00064-2e18d3ed-7cdd-4412-b301-ba29a15bf3cf",
        "deepnote_cell_type": "code"
      },
      "source": "#You can set the size of the figure by doing:\npyplot.figure(figsize=(10,5))\n\n#Plotting\npyplot.hist(abv, bins=20, color='#3498db', histtype='bar', edgecolor='white') \n#The \\n is to leave a blank line between the title and the plot\npyplot.title('abv \\n')\npyplot.xlabel('Alcohol by Volume (abv) ')\npyplot.ylabel('Frequency');",
      "execution_count": 30,
      "outputs": [
        {
          "data": {
            "image/png": "[encoded data removed]",
            "text/plain": "<Figure size 720x360 with 1 Axes>"
          },
          "metadata": {
            "needs_background": "light"
          },
          "output_type": "display_data"
        }
      ]
    },
    {
      "cell_type": "code",
      "metadata": {
        "cell_id": "00065-c6dd91df-cfc1-4c58-9c8f-57390c00b6a0",
        "deepnote_cell_type": "code"
      },
      "source": "#You can set the size of the figure by doing:\npyplot.figure(figsize=(10,5))\n\n#Plotting\npyplot.hist(ibu, bins=20, color='#e67e22', histtype='bar', edgecolor='white') \n#The \\n is to leave a blanck line between the title and the plot\npyplot.title('ibu \\n')\npyplot.xlabel('International Bittering Units (ibu)')\npyplot.ylabel('Frequency');",
      "execution_count": 31,
      "outputs": [
        {
          "data": {
            "image/png": "[encoded data removed]",
            "text/plain": "<Figure size 720x360 with 1 Axes>"
          },
          "metadata": {
            "needs_background": "light"
          },
          "output_type": "display_data"
        }
      ]
    },
    {
      "cell_type": "markdown",
      "source": "##### Exploratory exercise:\n\nPlay around with the plots, change the values of the bins, colors, etc.",
      "metadata": {
        "cell_id": "00066-9fb789eb-0d23-4fe0-b6a2-05b0c1d0eecd",
        "deepnote_cell_type": "markdown"
      }
    },
    {
      "cell_type": "markdown",
      "source": "### Comparing with a normal distribution\n\nA **normal** (or Gaussian) distribution is a special type of distrubution that behaves as shown in the figure: 68% of the values are within one standard deviation $\\sigma$ from the mean; 95% lie within $2\\sigma$; and at a distance of $\\pm3\\sigma$ from the mean, we cover 99.7% of the values. This fact is known as the $3$-$\\sigma$ rule, or 68-95-99.7 (empirical) rule.\n\n<img src=\"../images/std_bell_curve.png\" style=\"width: 800px;\"/> \n####  Standard deviation and coverage in a normal distribution. Modified figure based on original from [Wikimedia Commons](https://commons.wikimedia.org/wiki/File:Standard_deviation_diagram.svg), the free media repository.\n\n\nNotice that our histograms don't follow the shape of a normal distribution, known as *Bell Curve*. Our histograms are not centered in the mean value, and they are not symetric with respect to it. They are what we call **skewed** to the right (yes, to the _right_). A right (or positive) skewed distribution  looks like it's been pushed to the left: the right tail is longer and most of the values are concentrated on the left of the figure. Imagine that \"right-skewed\" means that a force from the right pushes on the curve.",
      "metadata": {
        "cell_id": "00067-1066224b-6532-4bd7-a542-653c008e5b12",
        "deepnote_cell_type": "markdown"
      }
    },
    {
      "cell_type": "markdown",
      "source": "##### Discuss with your pair programming partner\n\n* How do you think that skewness will affect the percentages of coverage by standard deviation compared to the Bell Curve?\n\n* Can we calculate those percentages? \n\n##### Spoiler alert! (and Exercise)\n\nYes we can, and guess what: we can do it in a few lines of Python. But before doing that, we want you to explain in your own words how the following piece of code works. \n\n*Hints:* \n\n1. Check what the logical operation `numpy.logical_and(1<x, x<4)` returns.\n2. Check what happens if you sum booleans. For example, `True + True`, `True + False` and so on.\n",
      "metadata": {
        "cell_id": "00068-40788e05-4b77-4153-b442-bbe2a23dc790",
        "deepnote_cell_type": "markdown"
      }
    },
    {
      "cell_type": "code",
      "metadata": {
        "cell_id": "00069-bbb07d77-a7f2-46ff-9133-840708fe23ef",
        "deepnote_cell_type": "code"
      },
      "source": "x = numpy.array([1,2,3,4])\nnum_ele = numpy.logical_and(1<x, x<4).sum()\nprint(num_ele)",
      "execution_count": 32,
      "outputs": [
        {
          "name": "stdout",
          "output_type": "stream",
          "text": "2\n"
        }
      ]
    },
    {
      "cell_type": "markdown",
      "source": "Now, using the same idea, we will calculate the number of elements in each interval of width $(1\\sigma, 2\\sigma, 3\\sigma)$, and get the corresponding percentage. \n\nSince we want to compute this for both of our variables, `abv` and `ibu`, we'll write a function to do so. Study carefully the code below. Better yet, explain it to your neighbor.",
      "metadata": {
        "cell_id": "00070-17c106e2-0d46-4239-a153-fc66b2ab1dbe",
        "deepnote_cell_type": "markdown"
      }
    },
    {
      "cell_type": "code",
      "metadata": {
        "cell_id": "00071-6df3bd93-43a6-43f1-8376-4ec2a1731687",
        "deepnote_cell_type": "code"
      },
      "source": "def std_percentages(x, x_mean, x_std):\n    \"\"\" Computes the percentage of coverage at 1std, 2std and 3std from the\n    mean value of a certain variable x.\n    \n    Arguments\n    ---------\n    x      : array, data we want to compute on. \n    x_mean : float, mean value of x array.\n    x_std  : float, standard deviation of x array.\n    \n    Returns\n    -------\n    \n    per_std_1 : float, percentage of values within 1 standard deviation.\n    per_std_2 : float, percentage of values within 2 standard deviations.\n    per_std_3 : float, percentage of values within 3 standard deviations.    \n    \"\"\"\n    \n    std_1 = x_std\n    std_2 = 2 * x_std\n    std_3 = 3 * x_std\n    \n    elem_std_1 = numpy.logical_and((x_mean - std_1) < x, x < (x_mean + std_1)).sum()\n    per_std_1 = elem_std_1 * 100 / len(x) \n    \n    elem_std_2 = numpy.logical_and((x_mean - std_2) < x, x < (x_mean + std_2)).sum()\n    per_std_2 = elem_std_2 * 100 / len(x) \n    \n    elem_std_3 = numpy.logical_and((x_mean - std_3) < x, x < (x_mean + std_3)).sum()\n    per_std_3 = elem_std_3 * 100 / len(x) \n    \n    return per_std_1, per_std_2, per_std_3\n    ",
      "execution_count": 33,
      "outputs": []
    },
    {
      "cell_type": "markdown",
      "source": "Let's compute the percentages next. Notice that the function above returns three values. If we want to assign each value to a different variable, we need to follow a specific syntax. In our example this would be:",
      "metadata": {
        "cell_id": "00072-0112943e-1fe2-496d-9321-8483efc7a980",
        "deepnote_cell_type": "markdown"
      }
    },
    {
      "cell_type": "markdown",
      "source": "**abv**",
      "metadata": {
        "cell_id": "00073-d0692251-8ea3-4398-9128-49876b9ee285",
        "deepnote_cell_type": "markdown"
      }
    },
    {
      "cell_type": "code",
      "metadata": {
        "cell_id": "00074-9bebfab9-dc83-4600-97b2-f017832cdb4b",
        "deepnote_cell_type": "code"
      },
      "source": "abv_std1_per, abv_std2_per, abv_std3_per = std_percentages(abv, abv_mean, abv_std)",
      "execution_count": 34,
      "outputs": []
    },
    {
      "cell_type": "markdown",
      "source": "Let's pretty-print the values of our variables so we can inspect them:",
      "metadata": {
        "cell_id": "00075-d060ad56-6191-4bd9-905e-80fa3baa6ed9",
        "deepnote_cell_type": "markdown"
      }
    },
    {
      "cell_type": "code",
      "metadata": {
        "cell_id": "00076-cab2fa00-eaa0-4317-8411-002b242b80c7",
        "deepnote_cell_type": "code"
      },
      "source": "print('The percentage of coverage at 1 std of the abv_mean is : {:.2f} %'.format(abv_std1_per))\nprint('The percentage of coverage at 2 std of the abv_mean is : {:.2f} %'.format(abv_std2_per))\nprint('The percentage of coverage at 3 std of the abv_mean is : {:.2f} %'.format(abv_std3_per))",
      "execution_count": 35,
      "outputs": [
        {
          "name": "stdout",
          "output_type": "stream",
          "text": "The percentage of coverage at 1 std of the abv_mean is : 74.06 %\nThe percentage of coverage at 2 std of the abv_mean is : 94.34 %\nThe percentage of coverage at 3 std of the abv_mean is : 99.79 %\n"
        }
      ]
    },
    {
      "cell_type": "markdown",
      "source": "**ibu**",
      "metadata": {
        "cell_id": "00077-c2b8ebae-9e82-4d09-8a6f-638ad5c60eaf",
        "deepnote_cell_type": "markdown"
      }
    },
    {
      "cell_type": "code",
      "metadata": {
        "cell_id": "00078-16ba01b7-46ca-4989-84e7-586639d04118",
        "deepnote_cell_type": "code"
      },
      "source": "ibu_std1_per, ibu_std2_per, ibu_std3_per = std_percentages(ibu, ibu_mean, ibu_std)",
      "execution_count": 36,
      "outputs": []
    },
    {
      "cell_type": "code",
      "metadata": {
        "cell_id": "00079-0216d55a-94fc-4f0f-a59c-fffd858f2107",
        "deepnote_cell_type": "code"
      },
      "source": "print('The percentage of coverage at 1 std of the ibu_mean is : {:.2f} %'.format(ibu_std1_per))\nprint('The percentage of coverage at 2 std of the ibu_mean is : {:.2f} %'.format(ibu_std2_per))\nprint('The percentage of coverage at 3 std of the ibu_mean is : {:.2f} %'.format(ibu_std3_per))",
      "execution_count": 37,
      "outputs": [
        {
          "name": "stdout",
          "output_type": "stream",
          "text": "The percentage of coverage at 1 std of the ibu_mean is : 68.11 %\nThe percentage of coverage at 2 std of the ibu_mean is : 95.66 %\nThe percentage of coverage at 3 std of the ibu_mean is : 99.72 %\n"
        }
      ]
    },
    {
      "cell_type": "markdown",
      "source": "Notice that in both cases the percentages are not that far from the values for normal distribution (68%, 95%, 99.7%), especially for $2\\sigma$ and $3\\sigma$. So usually you can use these values as a rule of thumb. ",
      "metadata": {
        "cell_id": "00080-8c7d8e35-c248-44a8-8a01-4ec68968536e",
        "deepnote_cell_type": "markdown"
      }
    },
    {
      "cell_type": "markdown",
      "source": "## What we've learned\n\n* Read data from a `csv` file using `pandas`.\n* The concepts of Data Frame and Series in `pandas`.\n* Clean null (NaN) values from a Series using `pandas`.\n* Convert a `panda`s Series into a `numpy` array.\n* Compute maximum and minimum, and range.\n* Revise concept of mean value.\n* Compute the variance and standard deviation.\n* Use the mean and standard deviation to understand how the data is distributed.\n* Plot frequency distribution diagrams (histograms).\n* Normal distribution and 3-sigma rule.\n",
      "metadata": {
        "cell_id": "00081-7fb8270b-f692-45b9-a3b1-e54a223a08e6",
        "deepnote_cell_type": "markdown"
      }
    },
    {
      "cell_type": "markdown",
      "source": "## References\n\n1. [Craft beer datatset](https://github.com/nickhould/craft-beers-dataset) by Jean-Nicholas Hould.\n2. [Exploratory Data Analysis](https://en.wikipedia.org/wiki/Exploratory_data_analysis), Wikipedia article.\n3. _Think Python: How to Think Like a Computer Scientist_ (2012). Allen Downey. Green Tea Press.  [PDF available](http://greenteapress.com/thinkpython/thinkpython.pdf)\n4. [Intro to data Structures](https://pandas.pydata.org/pandas-docs/stable/dsintro.html), `pandas` documentation.\n5. _Think Stats: Probability and Statistics for Programmers_ version 1.6.0 (2011). Allen Downey. Green Tea Press.  [PDF available](http://greenteapress.com/thinkstats/thinkstats.pdf)\n\n### Recommended viewing\n\nFrom [\"Statistics in Medicine,\"](https://lagunita.stanford.edu/courses/Medicine/MedStats-SP/SelfPaced/about), a free course in Stanford Online by Prof. Kristin Sainani, we highly recommend that you watch these three lectures: \n* [Describing Quantitative Data: Where is the center?](https://youtu.be/tQ5slNYRcC4)\n* [Describing Quantitative Data: What is the variability in the data?](https://youtu.be/hlFeEQF5tDc)\n* [Variability in the data, continued: examples, bell curve](https://youtu.be/qeG0uNI3DBQ)",
      "metadata": {
        "cell_id": "00082-e3096f71-8bec-43fa-90e4-c3f5850f4708",
        "deepnote_cell_type": "markdown"
      }
    },
    {
      "cell_type": "code",
      "metadata": {
        "cell_id": "00083-5489d4da-bfbb-4b5f-993d-24ce617c4c89",
        "deepnote_cell_type": "code"
      },
      "source": "# Execute this cell to load the notebook's style sheet, then ignore it\nfrom IPython.core.display import HTML\ncss_file = '../style/custom.css'\nHTML(open(css_file, \"r\").read())",
      "execution_count": 38,
      "outputs": [
        {
          "data": {
            "text/html": "<link href=\"https://fonts.googleapis.com/css?family=Merriweather:300,300i,400,400i,700,700i,900,900i\" rel='stylesheet' >\n<link href=\"https://fonts.googleapis.com/css?family=Source+Sans+Pro:300,300i,400,400i,700,700i\" rel='stylesheet' >\n<link href='http://fonts.googleapis.com/css?family=Source+Code+Pro:300,400' rel='stylesheet' >\n<style>\n\n@font-face {\n    font-family: \"Computer Modern\";\n    src: url('http://mirrors.ctan.org/fonts/cm-unicode/fonts/otf/cmunss.otf');\n}\n\n\n#notebook_panel { /* main background */\n    background: rgb(245,245,245);\n}\n\ndiv.cell { /* set cell width */\n    width: 800px;\n}\n\ndiv #notebook { /* centre the content */\n    background: #fff; /* white background for content */\n    width: 1000px;\n    margin: auto;\n    padding-left: 0em;\n}\n\n#notebook li { /* More space between bullet points */\nmargin-top:0.5em;\n}\n\n/* draw border around running cells */\ndiv.cell.border-box-sizing.code_cell.running { \n    border: 1px solid #111;\n}\n\n/* Put a solid color box around each cell and its output, visually linking them*/\ndiv.cell.code_cell {\n    background-color: rgb(256,256,256); \n    border-radius: 0px; \n    padding: 0.5em;\n    margin-left:1em;\n    margin-top: 1em;\n}\n\n\ndiv.text_cell_render{\n    font-family: 'Source Sans Pro', sans-serif;\n    line-height: 140%;\n    font-size: 110%;\n    width:680px;\n    margin-left:auto;\n    margin-right:auto;\n}\n\n/* Formatting for header cells */\n.text_cell_render h1 {\n    font-family: 'Merriweather', serif;\n    font-style:regular;\n    font-weight: bold;    \n    font-size: 250%;\n    line-height: 100%;\n    color: #004065;\n    margin-bottom: 1em;\n    margin-top: 0.5em;\n    display: block;\n}\t\n.text_cell_render h2 {\n    font-family: 'Merriweather', serif;\n    font-weight: bold; \n    font-size: 180%;\n    line-height: 100%;\n    color: #0096d6;\n    margin-bottom: 0.5em;\n    margin-top: 0.5em;\n    display: block;\n}\t\n\n.text_cell_render h3 {\n    font-family: 'Merriweather', serif;\n\tfont-size: 150%;\n    margin-top:12px;\n    margin-bottom: 3px;\n    font-style: regular;\n    color: #008367;\n}\n\n.text_cell_render h4 {    /*Use this for captions*/\n    font-family: 'Merriweather', serif;\n    font-weight: 300; \n    font-size: 100%;\n    line-height: 120%;\n    text-align: left;\n    width:500px;\n    margin-top: 1em;\n    margin-bottom: 2em;\n    margin-left: 80pt;\n    font-style: regular;\n}\n\n.text_cell_render h5 {  /*Use this for small titles*/\n    font-family: 'Source Sans Pro', sans-serif;\n    font-weight: regular;\n    font-size: 130%;\n    color: #e31937;\n    font-style: italic;\n    margin-bottom: .5em;\n    margin-top: 1em;\n    display: block;\n}\n\n.text_cell_render h6 { /*use this for copyright note*/\n    font-family: 'Source Code Pro', sans-serif;\n    font-weight: 300;\n    font-size: 9pt;\n    line-height: 100%;\n    color: grey;\n    margin-bottom: 1px;\n    margin-top: 1px;\n}\n\n    .CodeMirror{\n            font-family: \"Source Code Pro\";\n\t\t\tfont-size: 90%;\n    }\n/*    .prompt{\n        display: None;\n    }*/\n\t\n    \n    .warning{\n        color: rgb( 240, 20, 20 )\n        }  \n</style>\n<script>\n    MathJax.Hub.Config({\n                        TeX: {\n                           extensions: [\"AMSmath.js\"], \n                           equationNumbers: { autoNumber: \"AMS\", useLabelIds: true}\n                           },\n                tex2jax: {\n                    inlineMath: [ ['$','$'], [\"\\\\(\",\"\\\\)\"] ],\n                    displayMath: [ ['$$','$$'], [\"\\\\[\",\"\\\\]\"] ]\n                },\n                displayAlign: 'center', // Change this to 'center' to center equations.\n                \"HTML-CSS\": {\n                    styles: {'.MathJax_Display': {\"margin\": 4}}\n                }\n        });\n</script>\n",
            "text/plain": "<IPython.core.display.HTML object>"
          },
          "execution_count": 38,
          "metadata": {},
          "output_type": "execute_result"
        }
      ]
    },
    {
      "cell_type": "markdown",
      "source": "<a style='text-decoration:none;line-height:16px;display:flex;color:#5B5B62;padding:10px;justify-content:end;' href='https://deepnote.com?utm_source=created-in-deepnote-cell&projectId=796ba814-f632-4502-b0d7-7e2f8f9e546d' target=\"_blank\">\n<img alt='Created in deepnote.com' style='display:inline;max-height:16px;margin:0px;margin-right:7.5px;' src='data:image/svg+xml;base64,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' > </img>\nCreated in <span style='font-weight:600;margin-left:4px;'>Deepnote</span></a>",
      "metadata": {
        "tags": [],
        "created_in_deepnote_cell": true,
        "deepnote_cell_type": "markdown"
      }
    }
  ],
  "nbformat": 4,
  "nbformat_minor": 2,
  "metadata": {
    "kernelspec": {
      "display_name": "Python 3",
      "language": "python",
      "name": "python3"
    },
    "language_info": {
      "codemirror_mode": {
        "name": "ipython",
        "version": 3
      },
      "file_extension": ".py",
      "mimetype": "text/x-python",
      "name": "python",
      "nbconvert_exporter": "python",
      "pygments_lexer": "ipython3",
      "version": "3.9.2"
    },
    "widgets": {
      "state": {},
      "version": "1.1.2"
    },
    "deepnote_notebook_id": "a862d693-cb05-45f5-b6fc-b40a6ce6ae69",
    "deepnote": {},
    "deepnote_execution_queue": []
  }
}