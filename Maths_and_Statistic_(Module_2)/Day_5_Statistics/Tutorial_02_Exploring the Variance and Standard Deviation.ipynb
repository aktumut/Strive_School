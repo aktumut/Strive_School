{
  "cells": [
    {
      "cell_type": "code",
      "metadata": {
        "cell_id": "00000-07f0b89b-df7b-4a04-8139-c0d0150249ff",
        "deepnote_to_be_reexecuted": false,
        "source_hash": "41ee477f",
        "execution_start": 1617711391762,
        "execution_millis": 399,
        "deepnote_cell_type": "code"
      },
      "source": "%matplotlib inline\nimport matplotlib.pyplot as plt\nimport numpy as np\nimport pandas as pd\nimport math\n\n# turn of data table rendering\npd.set_option('display.notebook_repr_html', False)\nplt.style.use('ggplot')\npd.__version__",
      "execution_count": 1,
      "outputs": [
        {
          "output_type": "execute_result",
          "execution_count": 1,
          "data": {
            "text/plain": "'1.2.3'"
          },
          "metadata": {}
        }
      ]
    },
    {
      "cell_type": "markdown",
      "source": "## Data\nThe data is a set of ten salaries, as used in the Udacity course 'Intro to Descriptive Statistics' lesson 4 on measures of variability.",
      "metadata": {
        "cell_id": "00001-000339e0-c364-4b0a-a9ae-ac0a184659b0",
        "deepnote_cell_type": "markdown"
      }
    },
    {
      "cell_type": "code",
      "metadata": {
        "cell_id": "00002-59b42f4b-84d8-4c92-a738-8aec851cd25d",
        "deepnote_to_be_reexecuted": false,
        "source_hash": "782092c9",
        "execution_start": 1617711408871,
        "execution_millis": 14,
        "deepnote_cell_type": "code"
      },
      "source": "data = pd.DataFrame({'salaries': \n                     [33219, 36254, 38801, 46335, 46840, \n                      47596, 55130, 56863, 78070, 88830]})\ndata",
      "execution_count": 2,
      "outputs": [
        {
          "output_type": "execute_result",
          "execution_count": 2,
          "data": {
            "application/vnd.deepnote.dataframe.v2+json": {
              "row_count": 10,
              "column_count": 1,
              "columns": [
                {
                  "name": "salaries",
                  "dtype": "int64",
                  "stats": {
                    "unique_count": 10,
                    "nan_count": 0,
                    "min": 33219,
                    "max": 88830,
                    "histogram": [
                      {
                        "bin_start": 33219,
                        "bin_end": 38780.1,
                        "count": 2
                      },
                      {
                        "bin_start": 38780.1,
                        "bin_end": 44341.2,
                        "count": 1
                      },
                      {
                        "bin_start": 44341.2,
                        "bin_end": 49902.3,
                        "count": 3
                      },
                      {
                        "bin_start": 49902.3,
                        "bin_end": 55463.4,
                        "count": 1
                      },
                      {
                        "bin_start": 55463.4,
                        "bin_end": 61024.5,
                        "count": 1
                      },
                      {
                        "bin_start": 61024.5,
                        "bin_end": 66585.6,
                        "count": 0
                      },
                      {
                        "bin_start": 66585.6,
                        "bin_end": 72146.70000000001,
                        "count": 0
                      },
                      {
                        "bin_start": 72146.70000000001,
                        "bin_end": 77707.8,
                        "count": 0
                      },
                      {
                        "bin_start": 77707.8,
                        "bin_end": 83268.9,
                        "count": 1
                      },
                      {
                        "bin_start": 83268.9,
                        "bin_end": 88830,
                        "count": 1
                      }
                    ]
                  }
                },
                {
                  "name": "_deepnote_index_column",
                  "dtype": "int64"
                }
              ],
              "rows_top": [
                {
                  "salaries": 33219,
                  "_deepnote_index_column": 0
                },
                {
                  "salaries": 36254,
                  "_deepnote_index_column": 1
                },
                {
                  "salaries": 38801,
                  "_deepnote_index_column": 2
                },
                {
                  "salaries": 46335,
                  "_deepnote_index_column": 3
                },
                {
                  "salaries": 46840,
                  "_deepnote_index_column": 4
                },
                {
                  "salaries": 47596,
                  "_deepnote_index_column": 5
                },
                {
                  "salaries": 55130,
                  "_deepnote_index_column": 6
                },
                {
                  "salaries": 56863,
                  "_deepnote_index_column": 7
                },
                {
                  "salaries": 78070,
                  "_deepnote_index_column": 8
                },
                {
                  "salaries": 88830,
                  "_deepnote_index_column": 9
                }
              ],
              "rows_bottom": null
            },
            "text/plain": "   salaries\n0     33219\n1     36254\n2     38801\n3     46335\n4     46840\n5     47596\n6     55130\n7     56863\n8     78070\n9     88830"
          },
          "metadata": {}
        }
      ]
    },
    {
      "cell_type": "code",
      "metadata": {
        "cell_id": "00003-8e1d8880-fb1c-4d45-bdbc-0b864502bc06",
        "deepnote_to_be_reexecuted": false,
        "source_hash": "f9097db6",
        "execution_start": 1617711416155,
        "execution_millis": 296,
        "deepnote_cell_type": "code"
      },
      "source": "data.plot(kind='bar', color='#00A99D', alpha=.5)",
      "execution_count": 3,
      "outputs": [
        {
          "output_type": "execute_result",
          "execution_count": 3,
          "data": {
            "text/plain": "<AxesSubplot:>"
          },
          "metadata": {}
        },
        {
          "data": {
            "text/plain": "<Figure size 432x288 with 1 Axes>",
            "image/png": "[encoded data removed]"
          },
          "metadata": {},
          "output_type": "display_data"
        }
      ]
    },
    {
      "cell_type": "markdown",
      "source": "## Calculate the Variance\nThe variance of a data set describes the average of the squared differences from the mean. In other words, it is a measure of how far each value in the data set is from the mean. The symbol for the variance of a population is $\\sigma^2$ (sigma squared) and for a sample we use $s^2$. We calculate the variance by summing the squared difference from the mean for each value. For the population, we divide by the number of values $n$ in the data set.\n\n$$population\\ variance:\\ \\sigma^2=\\frac{1}{n}\\sum_{i=0}^n(x_i-\\mu)^2$$\n\nFor the sample we divide the summed up values by the degrees of freedom $n-1$ (also called Bessel's correction). We use $\\bar{x}$ (x bar) to symbolize our sample mean.\n\n$$sample\\ variance:\\ s^2=\\frac{1}{n-1}\\sum_{i=0}^n(x_i-\\bar{x})^2$$",
      "metadata": {
        "cell_id": "00004-24e67875-eeb9-48fd-9a6f-61368c3b43ea",
        "deepnote_cell_type": "markdown"
      }
    },
    {
      "cell_type": "code",
      "metadata": {
        "cell_id": "00005-db4a7816-68fe-472f-a0f8-492f6497c0b0",
        "deepnote_to_be_reexecuted": false,
        "source_hash": "78c2dabd",
        "execution_start": 1617711429099,
        "execution_millis": 9,
        "deepnote_cell_type": "code"
      },
      "source": "# To calculate the population variance\nn = len(data.salaries)\n\n# first calculate the mean\nmean = data.salaries.mean()\n\n# Sum up the squared differences from the mean\nsquared_deviations = 0\nfor v in data.salaries:\n    squared_deviations += (v - mean) ** 2\n\npopulation_variance = squared_deviations / n\npopulation_variance",
      "execution_count": 4,
      "outputs": [
        {
          "output_type": "execute_result",
          "execution_count": 4,
          "data": {
            "text/plain": "291622740.36"
          },
          "metadata": {}
        }
      ]
    },
    {
      "cell_type": "code",
      "metadata": {
        "cell_id": "00006-82c47574-e443-4789-a92a-07923b0a2df9",
        "deepnote_to_be_reexecuted": false,
        "source_hash": "332c485c",
        "execution_millis": 16,
        "execution_start": 1617711567900,
        "deepnote_cell_type": "code"
      },
      "source": "# To calculate the variance if we only have a sample\n# First calculate the degrees of freedom (apply Bessel's correction)\ndof = n - 1\nsample_variance = squared_deviations / dof\nsample_variance",
      "execution_count": 6,
      "outputs": [
        {
          "output_type": "execute_result",
          "execution_count": 6,
          "data": {
            "text/plain": "324025267.0666667"
          },
          "metadata": {}
        }
      ]
    },
    {
      "cell_type": "code",
      "metadata": {
        "cell_id": "00007-f8734382-9e66-4b20-8f16-c5b01e75032f",
        "deepnote_to_be_reexecuted": false,
        "source_hash": "add8105f",
        "execution_start": 1617711575259,
        "execution_millis": 52,
        "deepnote_cell_type": "code"
      },
      "source": "# Of course we can use pandas to let NumPy do the job for us\n# The ddof parameter stands for Delta Degrees of Freedom\npopulation_variance = data.salaries.var(ddof=0)\nsample_variance = data.salaries.var() # ddof=1 by default in pandas\n\npopulation_variance, sample_variance",
      "execution_count": 7,
      "outputs": [
        {
          "output_type": "execute_result",
          "execution_count": 7,
          "data": {
            "text/plain": "(291622740.36, 324025267.06666666)"
          },
          "metadata": {}
        }
      ]
    },
    {
      "cell_type": "code",
      "metadata": {
        "cell_id": "00008-75847279-5507-4ea5-b550-296b4c262a2b",
        "deepnote_to_be_reexecuted": false,
        "source_hash": "e91c74b7",
        "execution_start": 1617711581592,
        "execution_millis": 122,
        "deepnote_cell_type": "code"
      },
      "source": "# Or call the NumPy var function ourselves\npopulation_variance = np.var(data.salaries) # ddof=0 by default in NumPy\nsample_variance = np.var(data.salaries, ddof=1)\n\npopulation_variance, sample_variance",
      "execution_count": 8,
      "outputs": [
        {
          "output_type": "execute_result",
          "execution_count": 8,
          "data": {
            "text/plain": "(291622740.36, 324025267.06666666)"
          },
          "metadata": {}
        }
      ]
    },
    {
      "cell_type": "markdown",
      "source": "## Calculate the Standard Deviation\nThe standard deviation is a widely used normalized measure of spread of a data set. Unlike the variance, the standard deviation is using the same scale as our values; dollars in this case. In a normal distribution, about 95% of the values are within two standard deviations of the mean. We use the Greek letter sigma $\\sigma$ to symbolize the population standard deviation. \n\n$$population\\ standard\\ deviation:\\ \\sigma=\\sqrt{\\frac{1}{n}\\sum_{i=0}^n(x_i-\\mu)^2}\\ \\ =\\ \\ \\sqrt{\\sigma^2}$$\n\nWe use the lowercase letter $s$ if we indicate the sample standard deviation.\n\n$$sample\\ standard\\ deviation:\\ s=\\sqrt{\\frac{1}{n-1}\\sum_{i=0}^n(x_i-\\bar{x})^2}\\ \\ =\\ \\ \\sqrt{s^2}$$",
      "metadata": {
        "cell_id": "00009-5beda8b3-d21c-46d0-9de9-bf24cfb4ee4c",
        "deepnote_cell_type": "markdown"
      }
    },
    {
      "cell_type": "code",
      "metadata": {
        "cell_id": "00010-3351bd1a-b39d-4e0d-a741-ae47759bf9c2",
        "deepnote_cell_type": "code"
      },
      "source": "# To calculate the population standard deviation\n# we first need to calculate the population variance again\nn = len(data.salaries)\n\n# first calculate the mean\nmean = data.salaries.mean()\n\n# Sum up the squared differences from the mean\nsquared_deviations = 0\nfor v in data.salaries:\n    squared_deviations += (v - mean) ** 2\n\npopulation_variance = squared_deviations / n\n\n# Square the variance\npopulation_standard_deviation = math.sqrt(population_variance)\npopulation_standard_deviation",
      "execution_count": 8,
      "outputs": [
        {
          "data": {
            "text/plain": "17076.965197598784"
          },
          "execution_count": 8,
          "metadata": {},
          "output_type": "execute_result"
        }
      ]
    },
    {
      "cell_type": "code",
      "metadata": {
        "cell_id": "00011-6621d87c-26d9-4158-98bc-56e4aa1706a5",
        "deepnote_cell_type": "code"
      },
      "source": "# To calculate the sample standard deviation\n# First calculate the degrees of freedom (apply Bessel's correction)\ndof = n - 1\nsample_variance = squared_deviations / dof\n\n# Square the variance\nsample_standard_deviation = math.sqrt(sample_variance)\nsample_standard_deviation",
      "execution_count": 9,
      "outputs": [
        {
          "data": {
            "text/plain": "18000.70184927984"
          },
          "execution_count": 9,
          "metadata": {},
          "output_type": "execute_result"
        }
      ]
    },
    {
      "cell_type": "code",
      "metadata": {
        "cell_id": "00012-b6e0e0e3-133e-4068-b2d7-2a0477d36e9a",
        "deepnote_cell_type": "code"
      },
      "source": "# Now let's use pandas to let NumPy do the job for us\npopulation_standard_deviation = data.salaries.std(ddof=0)\nsample_standard_deviation = data.salaries.std()\n\npopulation_standard_deviation, sample_standard_deviation",
      "execution_count": 10,
      "outputs": [
        {
          "data": {
            "text/plain": "(17076.965197598776, 18000.701849279834)"
          },
          "execution_count": 10,
          "metadata": {},
          "output_type": "execute_result"
        }
      ]
    },
    {
      "cell_type": "code",
      "metadata": {
        "cell_id": "00013-59eaf929-c2b7-4925-8059-4afec08ba7bd",
        "deepnote_cell_type": "code"
      },
      "source": "# Or call the NumPy std function ourselves\npopulation_standard_deviation = np.std(data.salaries)\nsample_standard_deviation = np.std(data.salaries, ddof=1)\n\npopulation_standard_deviation, sample_standard_deviation",
      "execution_count": 11,
      "outputs": [
        {
          "data": {
            "text/plain": "(17076.965197598776, 18000.701849279834)"
          },
          "execution_count": 11,
          "metadata": {},
          "output_type": "execute_result"
        }
      ]
    },
    {
      "cell_type": "markdown",
      "source": "<a style='text-decoration:none;line-height:16px;display:flex;color:#5B5B62;padding:10px;justify-content:end;' href='https://deepnote.com?utm_source=created-in-deepnote-cell&projectId=796ba814-f632-4502-b0d7-7e2f8f9e546d' target=\"_blank\">\n<img alt='Created in deepnote.com' style='display:inline;max-height:16px;margin:0px;margin-right:7.5px;' src='data:image/svg+xml;base64,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' > </img>\nCreated in <span style='font-weight:600;margin-left:4px;'>Deepnote</span></a>",
      "metadata": {
        "tags": [],
        "created_in_deepnote_cell": true,
        "deepnote_cell_type": "markdown"
      }
    }
  ],
  "nbformat": 4,
  "nbformat_minor": 1,
  "metadata": {
    "kernelspec": {
      "display_name": "Python 3",
      "language": "python",
      "name": "python3"
    },
    "language_info": {
      "codemirror_mode": {
        "name": "ipython",
        "version": 3
      },
      "file_extension": ".py",
      "mimetype": "text/x-python",
      "name": "python",
      "nbconvert_exporter": "python",
      "pygments_lexer": "ipython3",
      "version": "3.9.2"
    },
    "deepnote_notebook_id": "ca012d85-9bb0-40c3-a116-29459e835233",
    "deepnote": {},
    "deepnote_execution_queue": []
  }
}