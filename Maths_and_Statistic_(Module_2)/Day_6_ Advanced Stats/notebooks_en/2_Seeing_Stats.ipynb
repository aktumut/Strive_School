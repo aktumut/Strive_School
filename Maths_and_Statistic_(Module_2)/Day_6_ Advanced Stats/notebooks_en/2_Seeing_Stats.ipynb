{
  "cells": [
    {
      "cell_type": "markdown",
      "source": "###### Content under Creative Commons Attribution license CC-BY 4.0, code under BSD 3-Clause License © 2017 L.A. Barba, N.C. Clementi",
      "metadata": {
        "cell_id": "00000-58421540-9a35-440c-a1b3-c79235343735",
        "deepnote_cell_type": "markdown"
      }
    },
    {
      "cell_type": "markdown",
      "source": "# Seeing stats in a new light\n\nWelcome to the second lesson in \"Take off with stats,\" Module 2 of our series in _Engineering Computations_. In the previous lesson, [Cheers! Stats with Beers](http://go.gwu.edu/engcomp2lesson1), we did some exploratory data analysis with a data set of canned craft beers in the US [1]. We'll continue using that same data set here, but with a new focus on _visualizing statistics_.\n\nIn her lecture [\"Looking at Data\"](https://youtu.be/QYDuAo9r1xE), Prof. Kristin Sainani says that you should always plot your data. Immediately, several things can come to light: are there outliers in your data? (Outliers are data points that look abnormally far from other values in the sample.) Are there data points that don't make sense? (Errors in data entry can be spotted this way.) And especially, you want to get a _visual_ representation of how data are distributed in your sample.\n\nIn this lesson, we'll play around with different ways of visualizing data. We have so many ways to play! Have a look at the gallery of [The Data Viz Project](http://datavizproject.com) by _ferdio_ (a data viz agency in Copenhagen). Aren't those gorgeous? Wouldn't you like to be able to make some pretty pics like that? Python can help!\n\nLet's begin. We'll import our favorite Python libraries, and set some font parameters for our plots to look nicer. Then we'll load our data set for craft beers and begin!",
      "metadata": {
        "cell_id": "00001-4e39fbfe-4c80-42f7-a3d2-1d524968c013",
        "deepnote_cell_type": "markdown"
      }
    },
    {
      "cell_type": "code",
      "metadata": {
        "collapsed": true,
        "cell_id": "00002-c602b181-346b-430e-bb02-b92c9283b092",
        "deepnote_to_be_reexecuted": false,
        "source_hash": "b627f46a",
        "execution_millis": 1,
        "execution_start": 1617870288579,
        "deepnote_cell_type": "code"
      },
      "source": "import numpy\nimport pandas\nfrom matplotlib import pyplot\n%matplotlib inline\n\n#Import rcParams to set font styles\nfrom matplotlib import rcParams\n\n#Set font style and size \nrcParams['font.family'] = 'serif'\nrcParams['font.size'] = 16",
      "outputs": [],
      "execution_count": null
    },
    {
      "cell_type": "markdown",
      "source": "## Read the data\n\nLike in the previous lesson, we will load the data from a `.csv` file. You may have the file in your working directory if you downloaded it when working through the previous lesson. In that case, you could load it like this:\n\n```Python\nbeers = pandas.read_csv(\"beers.csv\")\n```\n\nIf you downloaded the full set of lesson files from our public repository, you can find the file in the `/data` folder, and you can load it with the full path:",
      "metadata": {
        "cell_id": "00003-e21d59f7-7aa1-4abb-adc4-218a74084365",
        "deepnote_cell_type": "markdown"
      }
    },
    {
      "cell_type": "code",
      "metadata": {
        "collapsed": true,
        "cell_id": "00004-7fce4e22-4910-466f-bc0d-93aa8a9c5ed6",
        "deepnote_to_be_reexecuted": false,
        "source_hash": "ae3fa0e9",
        "execution_start": 1617797277598,
        "execution_millis": 60,
        "deepnote_cell_type": "code"
      },
      "source": "# Load the beers data set using pandas, and assign it to a dataframe\nbeers = pandas.read_csv(\"/work/Strive_School/Maths_and_Statistic_(Module_2)/Day_6_ Advanced Stats/data/beers.csv\")",
      "execution_count": null,
      "outputs": []
    },
    {
      "cell_type": "markdown",
      "source": "##### Note:\n\nIf you don't have the data file locally, download it by adding a code cell, and executing the following code in it:\n\n```Python\nfrom urllib.request import urlretrieve\nURL = 'http://go.gwu.edu/engcomp2data1?accessType=DOWNLOAD'\nurlretrieve(URL, 'beers.csv')\n```\nThe data file will be downloaded to your working directory, and you will load it like described above.",
      "metadata": {
        "cell_id": "00005-f8047d88-eec4-445e-8ece-7d6053a16d35",
        "deepnote_cell_type": "markdown"
      }
    },
    {
      "cell_type": "markdown",
      "source": "OK. Let's have a look at the first few rows of the `pandas` dataframe we just created from the file, and confirm that it's a dataframe using the `type()` function. We only display the first 10 rows to save some space.",
      "metadata": {
        "cell_id": "00006-1e7e5bf8-3513-4a3e-a448-dce732145cb1",
        "deepnote_cell_type": "markdown"
      }
    },
    {
      "cell_type": "code",
      "metadata": {
        "cell_id": "00007-112816a7-53f5-41d3-b4a6-661051288cce",
        "deepnote_to_be_reexecuted": false,
        "source_hash": "b5f427f2",
        "execution_start": 1617797398902,
        "execution_millis": 7,
        "deepnote_cell_type": "code"
      },
      "source": "type(beers)",
      "execution_count": null,
      "outputs": [
        {
          "output_type": "execute_result",
          "execution_count": 3,
          "data": {
            "text/plain": "pandas.core.frame.DataFrame"
          },
          "metadata": {}
        }
      ]
    },
    {
      "cell_type": "code",
      "metadata": {
        "cell_id": "00008-6f9dc920-55aa-4421-9a37-2635abef9664",
        "deepnote_to_be_reexecuted": false,
        "source_hash": "5b1d16af",
        "execution_start": 1617797400933,
        "execution_millis": 63,
        "deepnote_cell_type": "code"
      },
      "source": "beers[0:10]",
      "execution_count": null,
      "outputs": [
        {
          "output_type": "execute_result",
          "execution_count": 4,
          "data": {
            "application/vnd.deepnote.dataframe.v2+json": {
              "row_count": 10,
              "column_count": 8,
              "columns": [
                {
                  "name": "Unnamed: 0",
                  "dtype": "int64",
                  "stats": {
                    "unique_count": 10,
                    "nan_count": 0,
                    "min": 0,
                    "max": 9,
                    "histogram": [
                      {
                        "bin_start": 0,
                        "bin_end": 0.9,
                        "count": 1
                      },
                      {
                        "bin_start": 0.9,
                        "bin_end": 1.8,
                        "count": 1
                      },
                      {
                        "bin_start": 1.8,
                        "bin_end": 2.7,
                        "count": 1
                      },
                      {
                        "bin_start": 2.7,
                        "bin_end": 3.6,
                        "count": 1
                      },
                      {
                        "bin_start": 3.6,
                        "bin_end": 4.5,
                        "count": 1
                      },
                      {
                        "bin_start": 4.5,
                        "bin_end": 5.4,
                        "count": 1
                      },
                      {
                        "bin_start": 5.4,
                        "bin_end": 6.3,
                        "count": 1
                      },
                      {
                        "bin_start": 6.3,
                        "bin_end": 7.2,
                        "count": 1
                      },
                      {
                        "bin_start": 7.2,
                        "bin_end": 8.1,
                        "count": 1
                      },
                      {
                        "bin_start": 8.1,
                        "bin_end": 9,
                        "count": 1
                      }
                    ]
                  }
                },
                {
                  "name": "abv",
                  "dtype": "float64",
                  "stats": {
                    "unique_count": 10,
                    "nan_count": 0,
                    "min": 0.045,
                    "max": 0.09,
                    "histogram": [
                      {
                        "bin_start": 0.045,
                        "bin_end": 0.049499999999999995,
                        "count": 1
                      },
                      {
                        "bin_start": 0.049499999999999995,
                        "bin_end": 0.054,
                        "count": 1
                      },
                      {
                        "bin_start": 0.054,
                        "bin_end": 0.058499999999999996,
                        "count": 1
                      },
                      {
                        "bin_start": 0.058499999999999996,
                        "bin_end": 0.063,
                        "count": 0
                      },
                      {
                        "bin_start": 0.063,
                        "bin_end": 0.0675,
                        "count": 2
                      },
                      {
                        "bin_start": 0.0675,
                        "bin_end": 0.072,
                        "count": 1
                      },
                      {
                        "bin_start": 0.072,
                        "bin_end": 0.0765,
                        "count": 1
                      },
                      {
                        "bin_start": 0.0765,
                        "bin_end": 0.08099999999999999,
                        "count": 1
                      },
                      {
                        "bin_start": 0.08099999999999999,
                        "bin_end": 0.08549999999999999,
                        "count": 0
                      },
                      {
                        "bin_start": 0.08549999999999999,
                        "bin_end": 0.09,
                        "count": 2
                      }
                    ]
                  }
                },
                {
                  "name": "ibu",
                  "dtype": "float64",
                  "stats": {
                    "unique_count": 0,
                    "nan_count": 10,
                    "min": null,
                    "max": null,
                    "histogram": [
                      {
                        "bin_start": 0,
                        "bin_end": 0.1,
                        "count": 0
                      },
                      {
                        "bin_start": 0.1,
                        "bin_end": 0.2,
                        "count": 0
                      },
                      {
                        "bin_start": 0.2,
                        "bin_end": 0.30000000000000004,
                        "count": 0
                      },
                      {
                        "bin_start": 0.30000000000000004,
                        "bin_end": 0.4,
                        "count": 0
                      },
                      {
                        "bin_start": 0.4,
                        "bin_end": 0.5,
                        "count": 0
                      },
                      {
                        "bin_start": 0.5,
                        "bin_end": 0.6000000000000001,
                        "count": 0
                      },
                      {
                        "bin_start": 0.6000000000000001,
                        "bin_end": 0.7000000000000001,
                        "count": 0
                      },
                      {
                        "bin_start": 0.7000000000000001,
                        "bin_end": 0.8,
                        "count": 0
                      },
                      {
                        "bin_start": 0.8,
                        "bin_end": 0.9,
                        "count": 0
                      },
                      {
                        "bin_start": 0.9,
                        "bin_end": 1,
                        "count": 0
                      }
                    ]
                  }
                },
                {
                  "name": "id",
                  "dtype": "int64",
                  "stats": {
                    "unique_count": 10,
                    "nan_count": 0,
                    "min": 1436,
                    "max": 2265,
                    "histogram": [
                      {
                        "bin_start": 1436,
                        "bin_end": 1518.9,
                        "count": 1
                      },
                      {
                        "bin_start": 1518.9,
                        "bin_end": 1601.8,
                        "count": 0
                      },
                      {
                        "bin_start": 1601.8,
                        "bin_end": 1684.7,
                        "count": 0
                      },
                      {
                        "bin_start": 1684.7,
                        "bin_end": 1767.6,
                        "count": 0
                      },
                      {
                        "bin_start": 1767.6,
                        "bin_end": 1850.5,
                        "count": 0
                      },
                      {
                        "bin_start": 1850.5,
                        "bin_end": 1933.4,
                        "count": 0
                      },
                      {
                        "bin_start": 1933.4,
                        "bin_end": 2016.3000000000002,
                        "count": 0
                      },
                      {
                        "bin_start": 2016.3000000000002,
                        "bin_end": 2099.2,
                        "count": 0
                      },
                      {
                        "bin_start": 2099.2,
                        "bin_end": 2182.1,
                        "count": 1
                      },
                      {
                        "bin_start": 2182.1,
                        "bin_end": 2265,
                        "count": 8
                      }
                    ]
                  }
                },
                {
                  "name": "name",
                  "dtype": "object",
                  "stats": {
                    "unique_count": 10,
                    "nan_count": 0,
                    "categories": [
                      {
                        "name": "Pub Beer",
                        "count": 1
                      },
                      {
                        "name": "Devil's Cup",
                        "count": 1
                      },
                      {
                        "name": "8 others",
                        "count": 8
                      }
                    ]
                  }
                },
                {
                  "name": "style",
                  "dtype": "object",
                  "stats": {
                    "unique_count": 6,
                    "nan_count": 0,
                    "categories": [
                      {
                        "name": "American Pale Ale (APA)",
                        "count": 3
                      },
                      {
                        "name": "American IPA",
                        "count": 2
                      },
                      {
                        "name": "4 others",
                        "count": 5
                      }
                    ]
                  }
                },
                {
                  "name": "brewery_id",
                  "dtype": "int64",
                  "stats": {
                    "unique_count": 2,
                    "nan_count": 0,
                    "min": 177,
                    "max": 408,
                    "histogram": [
                      {
                        "bin_start": 177,
                        "bin_end": 200.1,
                        "count": 9
                      },
                      {
                        "bin_start": 200.1,
                        "bin_end": 223.2,
                        "count": 0
                      },
                      {
                        "bin_start": 223.2,
                        "bin_end": 246.3,
                        "count": 0
                      },
                      {
                        "bin_start": 246.3,
                        "bin_end": 269.4,
                        "count": 0
                      },
                      {
                        "bin_start": 269.4,
                        "bin_end": 292.5,
                        "count": 0
                      },
                      {
                        "bin_start": 292.5,
                        "bin_end": 315.6,
                        "count": 0
                      },
                      {
                        "bin_start": 315.6,
                        "bin_end": 338.70000000000005,
                        "count": 0
                      },
                      {
                        "bin_start": 338.70000000000005,
                        "bin_end": 361.8,
                        "count": 0
                      },
                      {
                        "bin_start": 361.8,
                        "bin_end": 384.9,
                        "count": 0
                      },
                      {
                        "bin_start": 384.9,
                        "bin_end": 408,
                        "count": 1
                      }
                    ]
                  }
                },
                {
                  "name": "ounces",
                  "dtype": "float64",
                  "stats": {
                    "unique_count": 1,
                    "nan_count": 0,
                    "min": 12,
                    "max": 12,
                    "histogram": [
                      {
                        "bin_start": 11.5,
                        "bin_end": 11.6,
                        "count": 0
                      },
                      {
                        "bin_start": 11.6,
                        "bin_end": 11.7,
                        "count": 0
                      },
                      {
                        "bin_start": 11.7,
                        "bin_end": 11.8,
                        "count": 0
                      },
                      {
                        "bin_start": 11.8,
                        "bin_end": 11.9,
                        "count": 0
                      },
                      {
                        "bin_start": 11.9,
                        "bin_end": 12,
                        "count": 0
                      },
                      {
                        "bin_start": 12,
                        "bin_end": 12.1,
                        "count": 10
                      },
                      {
                        "bin_start": 12.1,
                        "bin_end": 12.2,
                        "count": 0
                      },
                      {
                        "bin_start": 12.2,
                        "bin_end": 12.3,
                        "count": 0
                      },
                      {
                        "bin_start": 12.3,
                        "bin_end": 12.4,
                        "count": 0
                      },
                      {
                        "bin_start": 12.4,
                        "bin_end": 12.5,
                        "count": 0
                      }
                    ]
                  }
                },
                {
                  "name": "_deepnote_index_column",
                  "dtype": "int64"
                }
              ],
              "rows_top": [
                {
                  "Unnamed: 0": 0,
                  "abv": 0.05,
                  "ibu": "nan",
                  "id": 1436,
                  "name": "Pub Beer",
                  "style": "American Pale Lager",
                  "brewery_id": 408,
                  "ounces": 12,
                  "_deepnote_index_column": 0
                },
                {
                  "Unnamed: 0": 1,
                  "abv": 0.066,
                  "ibu": "nan",
                  "id": 2265,
                  "name": "Devil's Cup",
                  "style": "American Pale Ale (APA)",
                  "brewery_id": 177,
                  "ounces": 12,
                  "_deepnote_index_column": 1
                },
                {
                  "Unnamed: 0": 2,
                  "abv": 0.071,
                  "ibu": "nan",
                  "id": 2264,
                  "name": "Rise of the Phoenix",
                  "style": "American IPA",
                  "brewery_id": 177,
                  "ounces": 12,
                  "_deepnote_index_column": 2
                },
                {
                  "Unnamed: 0": 3,
                  "abv": 0.09,
                  "ibu": "nan",
                  "id": 2263,
                  "name": "Sinister",
                  "style": "American Double / Imperial IPA",
                  "brewery_id": 177,
                  "ounces": 12,
                  "_deepnote_index_column": 3
                },
                {
                  "Unnamed: 0": 4,
                  "abv": 0.075,
                  "ibu": "nan",
                  "id": 2262,
                  "name": "Sex and Candy",
                  "style": "American IPA",
                  "brewery_id": 177,
                  "ounces": 12,
                  "_deepnote_index_column": 4
                },
                {
                  "Unnamed: 0": 5,
                  "abv": 0.077,
                  "ibu": "nan",
                  "id": 2261,
                  "name": "Black Exodus",
                  "style": "Oatmeal Stout",
                  "brewery_id": 177,
                  "ounces": 12,
                  "_deepnote_index_column": 5
                },
                {
                  "Unnamed: 0": 6,
                  "abv": 0.045,
                  "ibu": "nan",
                  "id": 2260,
                  "name": "Lake Street Express",
                  "style": "American Pale Ale (APA)",
                  "brewery_id": 177,
                  "ounces": 12,
                  "_deepnote_index_column": 6
                },
                {
                  "Unnamed: 0": 7,
                  "abv": 0.065,
                  "ibu": "nan",
                  "id": 2259,
                  "name": "Foreman",
                  "style": "American Porter",
                  "brewery_id": 177,
                  "ounces": 12,
                  "_deepnote_index_column": 7
                },
                {
                  "Unnamed: 0": 8,
                  "abv": 0.055,
                  "ibu": "nan",
                  "id": 2258,
                  "name": "Jade",
                  "style": "American Pale Ale (APA)",
                  "brewery_id": 177,
                  "ounces": 12,
                  "_deepnote_index_column": 8
                },
                {
                  "Unnamed: 0": 9,
                  "abv": 0.086,
                  "ibu": "nan",
                  "id": 2131,
                  "name": "Cone Crusher",
                  "style": "American Double / Imperial IPA",
                  "brewery_id": 177,
                  "ounces": 12,
                  "_deepnote_index_column": 9
                }
              ],
              "rows_bottom": null
            },
            "text/plain": "   Unnamed: 0    abv  ibu    id                 name  \\\n0           0  0.050  NaN  1436             Pub Beer   \n1           1  0.066  NaN  2265          Devil's Cup   \n2           2  0.071  NaN  2264  Rise of the Phoenix   \n3           3  0.090  NaN  2263             Sinister   \n4           4  0.075  NaN  2262        Sex and Candy   \n5           5  0.077  NaN  2261         Black Exodus   \n6           6  0.045  NaN  2260  Lake Street Express   \n7           7  0.065  NaN  2259              Foreman   \n8           8  0.055  NaN  2258                 Jade   \n9           9  0.086  NaN  2131         Cone Crusher   \n\n                            style  brewery_id  ounces  \n0             American Pale Lager         408    12.0  \n1         American Pale Ale (APA)         177    12.0  \n2                    American IPA         177    12.0  \n3  American Double / Imperial IPA         177    12.0  \n4                    American IPA         177    12.0  \n5                   Oatmeal Stout         177    12.0  \n6         American Pale Ale (APA)         177    12.0  \n7                 American Porter         177    12.0  \n8         American Pale Ale (APA)         177    12.0  \n9  American Double / Imperial IPA         177    12.0  ",
            "text/html": "<div>\n<style scoped>\n    .dataframe tbody tr th:only-of-type {\n        vertical-align: middle;\n    }\n\n    .dataframe tbody tr th {\n        vertical-align: top;\n    }\n\n    .dataframe thead th {\n        text-align: right;\n    }\n</style>\n<table border=\"1\" class=\"dataframe\">\n  <thead>\n    <tr style=\"text-align: right;\">\n      <th></th>\n      <th>Unnamed: 0</th>\n      <th>abv</th>\n      <th>ibu</th>\n      <th>id</th>\n      <th>name</th>\n      <th>style</th>\n      <th>brewery_id</th>\n      <th>ounces</th>\n    </tr>\n  </thead>\n  <tbody>\n    <tr>\n      <th>0</th>\n      <td>0</td>\n      <td>0.050</td>\n      <td>NaN</td>\n      <td>1436</td>\n      <td>Pub Beer</td>\n      <td>American Pale Lager</td>\n      <td>408</td>\n      <td>12.0</td>\n    </tr>\n    <tr>\n      <th>1</th>\n      <td>1</td>\n      <td>0.066</td>\n      <td>NaN</td>\n      <td>2265</td>\n      <td>Devil's Cup</td>\n      <td>American Pale Ale (APA)</td>\n      <td>177</td>\n      <td>12.0</td>\n    </tr>\n    <tr>\n      <th>2</th>\n      <td>2</td>\n      <td>0.071</td>\n      <td>NaN</td>\n      <td>2264</td>\n      <td>Rise of the Phoenix</td>\n      <td>American IPA</td>\n      <td>177</td>\n      <td>12.0</td>\n    </tr>\n    <tr>\n      <th>3</th>\n      <td>3</td>\n      <td>0.090</td>\n      <td>NaN</td>\n      <td>2263</td>\n      <td>Sinister</td>\n      <td>American Double / Imperial IPA</td>\n      <td>177</td>\n      <td>12.0</td>\n    </tr>\n    <tr>\n      <th>4</th>\n      <td>4</td>\n      <td>0.075</td>\n      <td>NaN</td>\n      <td>2262</td>\n      <td>Sex and Candy</td>\n      <td>American IPA</td>\n      <td>177</td>\n      <td>12.0</td>\n    </tr>\n    <tr>\n      <th>5</th>\n      <td>5</td>\n      <td>0.077</td>\n      <td>NaN</td>\n      <td>2261</td>\n      <td>Black Exodus</td>\n      <td>Oatmeal Stout</td>\n      <td>177</td>\n      <td>12.0</td>\n    </tr>\n    <tr>\n      <th>6</th>\n      <td>6</td>\n      <td>0.045</td>\n      <td>NaN</td>\n      <td>2260</td>\n      <td>Lake Street Express</td>\n      <td>American Pale Ale (APA)</td>\n      <td>177</td>\n      <td>12.0</td>\n    </tr>\n    <tr>\n      <th>7</th>\n      <td>7</td>\n      <td>0.065</td>\n      <td>NaN</td>\n      <td>2259</td>\n      <td>Foreman</td>\n      <td>American Porter</td>\n      <td>177</td>\n      <td>12.0</td>\n    </tr>\n    <tr>\n      <th>8</th>\n      <td>8</td>\n      <td>0.055</td>\n      <td>NaN</td>\n      <td>2258</td>\n      <td>Jade</td>\n      <td>American Pale Ale (APA)</td>\n      <td>177</td>\n      <td>12.0</td>\n    </tr>\n    <tr>\n      <th>9</th>\n      <td>9</td>\n      <td>0.086</td>\n      <td>NaN</td>\n      <td>2131</td>\n      <td>Cone Crusher</td>\n      <td>American Double / Imperial IPA</td>\n      <td>177</td>\n      <td>12.0</td>\n    </tr>\n  </tbody>\n</table>\n</div>"
          },
          "metadata": {}
        }
      ]
    },
    {
      "cell_type": "markdown",
      "source": "## Quantitative vs. categorical data\n\nAs you can see in the nice table that `pandas` printed for the dataframe, we have several features for each beer: the label `abv` corresponds to the acohol-by-volume fraction, label `ibu` refers to the international bitterness unit (IBU), then we have the `name` of the beer and the `style`, the brewery ID number, and the liquid volume of the beer can, in ounces.\n\nAlcohol-by-volume is a numeric feature: a volume fraction, with possible values from 0 to 1 (sometimes also given as a percentage). In the first 10 rows of our dataframe, the `ibu` value is missing (all those `NaN`s), but we saw in the previous lesson that `ibu` is also a numeric feature, with values that go from a minimum of 4 to a maximum of 138 (in our data set). IBU is pretty mysterious: how do you measure the bitterness of beer? It turns out that bitterness is measured as parts per million of _isohumulone_, the acid found in hops [2]. Who knew?\n\nFor these numeric features, we learned that we can get an idea of the _central tendency_ in the data using the **mean value**, and we get ideas of _spread_ of the data with the **standard deviation** (and also with the range, but standard deviation is the most common).\n\nNotice that the beer data also has a feature named `style`: it can be \"American IPA\" or \"American Porter\" or a bunch of other styles of beer. If we want to study the beers according to style, we'll have to come up with some new ideas, because you can't take the mean or standard deviation of this feature!\n\n**Quantitative data** have meaning through a numeric feature, either on a continuous scale (like a fraction from 0 to 1), or a discrete count. \n**Categorical data**, in contrast, have meaning through a qualitative feature (like the style of beer). Data in this form can be collected in groups (categories), and then we can count the number of data items in that group. For example, we could ask how many beers (in our set) are of the style \"American IPA,\" or ask how many beers we have in each style.\n",
      "metadata": {
        "cell_id": "00009-2e2cb9b4-1330-4994-b32b-371ade9bb8e0",
        "deepnote_cell_type": "markdown"
      }
    },
    {
      "cell_type": "markdown",
      "source": "## Visualizing quantitative data\n\nIn the previous lesson, we played around a bit with the `abv` and `ibu` columns of the dataframe `beers`. For each of these columns, we extracted it from the dataframe and saved it into a `pandas` series, then we used the `dropna()` method to get rid of null values. This \"clean\" data was our starting point for some exploratory data analysis, and for plotting the data distributions using **histograms**. Here, we will add a few more ingredients to our recipes for data exploration, and we'll learn about a new type of visualization: the **box plot**.\n\nLet's repeat here the process for extracting and cleaning the two series, and getting the values into NumPy arrays:",
      "metadata": {
        "cell_id": "00010-dcb91cb1-c5e2-4009-9223-4cf00c6295b1",
        "deepnote_cell_type": "markdown"
      }
    },
    {
      "cell_type": "code",
      "metadata": {
        "collapsed": true,
        "cell_id": "00011-502af1b3-69ea-4046-b654-496f77dfd800",
        "deepnote_to_be_reexecuted": false,
        "source_hash": "25dc7c09",
        "execution_start": 1617797836667,
        "execution_millis": 1,
        "deepnote_cell_type": "code"
      },
      "source": "#Repeat cleaning values abv\nabv_series = beers['abv']\nabv_clean = abv_series.dropna()\nabv = abv_clean.values",
      "execution_count": null,
      "outputs": []
    },
    {
      "cell_type": "code",
      "metadata": {
        "collapsed": true,
        "cell_id": "00012-2f8c1619-4877-4f58-b5fe-f69fb63e8beb",
        "deepnote_to_be_reexecuted": false,
        "source_hash": "8d527503",
        "execution_start": 1617797890239,
        "execution_millis": 1,
        "deepnote_cell_type": "code"
      },
      "source": "#Repeat cleaning values ibu\nibu_series = beers['ibu']\nibu_clean = ibu_series.dropna()\nibu = ibu_clean.values",
      "execution_count": null,
      "outputs": []
    },
    {
      "cell_type": "markdown",
      "source": "Let's also repeat a histogram plot for the `abv` variable, but this time choose to plot just 10 bins (you'll see why in a moment).",
      "metadata": {
        "cell_id": "00013-cf53f499-a0eb-432e-889d-496ce24d128c",
        "deepnote_cell_type": "markdown"
      }
    },
    {
      "cell_type": "code",
      "metadata": {
        "cell_id": "00014-f2aa5472-7318-4bd0-ab05-232b1940eb64",
        "deepnote_to_be_reexecuted": false,
        "source_hash": "e78a3252",
        "execution_millis": 242,
        "execution_start": 1617798869996,
        "deepnote_cell_type": "code"
      },
      "source": "pyplot.figure(figsize=(6,4))\npyplot.hist(abv, bins=10, color='#3498db', histtype='bar', edgecolor='white') \npyplot.title('Alcohol by Volume (abv) \\n')\npyplot.xlabel('abv')\npyplot.ylabel('Frequency');",
      "execution_count": null,
      "outputs": [
        {
          "data": {
            "text/plain": "<Figure size 432x288 with 1 Axes>",
            "image/png": "[encoded data removed]"
          },
          "metadata": {
            "needs_background": "light"
          },
          "output_type": "display_data"
        }
      ]
    },
    {
      "cell_type": "markdown",
      "source": "You can tell that the most frequent values of `abv` fall in the bin just above 0.05 (5% alcohol), and the bin below. The mean value of our data is 0.06, which happens to be within the top-frequency bin, but data is not always so neat (sometimes, extreme values weigh heavily on the mean). Note also that we have a _right skewed_ distribution, with higher-frequency bins occuring in the lower end of the range than in the higher end.\n\nIf you played around with the bin sizes in the previous lesson, you might have noticed that with a lot of bins, it becomes harder to visually pick out the patterns in the data. But if you use too few bins, the plot is also unhelpful. What number of bins is just right? Well, it depends on your data, so you'll just have to experiment and use your best judgement.",
      "metadata": {
        "cell_id": "00015-e5602962-2f18-4c01-b205-57cda235bf8d",
        "deepnote_cell_type": "markdown"
      }
    },
    {
      "cell_type": "markdown",
      "source": "Let's learn a new trick. It turns out that `pandas` has built-in methods to make histograms directly from columns of a dataframe! (It uses Matplotlib internally for that.) The syntax is short and sweet:\n\n```\ndataframe.hist(column='label')\n```\n\nAnd `pandas` plots a pretty nice histogram without help. You can add optional parameters to set these to your liking; see the [documentation](https://pandas.pydata.org/pandas-docs/stable/generated/pandas.DataFrame.hist.html). Check it out, and compare with our previous plot.",
      "metadata": {
        "cell_id": "00016-36d7172e-f124-40d8-af08-3b4649746817",
        "deepnote_cell_type": "markdown"
      }
    },
    {
      "cell_type": "code",
      "metadata": {
        "cell_id": "00017-226a1a33-7491-4655-8464-00f4be4578b6",
        "deepnote_to_be_reexecuted": false,
        "source_hash": "4baea7de",
        "execution_start": 1617797968693,
        "execution_millis": 106,
        "deepnote_cell_type": "code"
      },
      "source": "beers.hist(column='abv', edgecolor='white')\npyplot.title('Alcohol by Volume (abv) \\n');",
      "execution_count": null,
      "outputs": [
        {
          "data": {
            "text/plain": "<Figure size 432x288 with 1 Axes>",
            "image/png": "[encoded data removed]"
          },
          "metadata": {
            "needs_background": "light"
          },
          "output_type": "display_data"
        }
      ]
    },
    {
      "cell_type": "markdown",
      "source": "Which one do you like better? Well, the `pandas` histogram took fewer lines of code to create.  And it doesn't look bad at all. But we do have more fine-grained control with Matplotlib. Which method you choose in a real situation will just depend on the situation and your preference.",
      "metadata": {
        "cell_id": "00018-e2c61a91-db45-40eb-86bb-63959105c875",
        "deepnote_cell_type": "markdown"
      }
    },
    {
      "cell_type": "markdown",
      "source": "### Exploring quantitative data (continued)\n\nIn the [previous lesson](http://go.gwu.edu/engcomp2lesson1), you learned how to compute the mean of the data using `numpy.mean()`. How easy is that? But then we wrote our own custom functions to compute variance or standard deviation. It shouldn't surprise you by now that there are also NumPy functions for that!\n\n\n##### Exercise:\n\n* Go to the documentation of [`numpy.var()`](https://docs.scipy.org/doc/numpy-1.13.0/reference/generated/numpy.var.html) and analyze if this function is computing the _sample variance_. \n**Hint**: Check what it says about the \"data degrees of freedom.\"\n\nIf you did the reading, you might have noticed that, by default, the argument `ddof` in `numpy.var()` is set to zero. If we use the default option, then we are not really calculating the sample variance. Recall from the previous lesson that the **sample variance** is:\n\n$$\n\\begin{equation*}     \n     \\text{var}_{sample} = \\frac{1}{N-1}\\sum_{i} (x_i - \\bar{x})^2\n\\end{equation*}\n$$\n\nTherefore, we need to be explicit about the division by $N-1$ when calling `numpy.var()`. How do we do that? We explicitly set `ddof` to `1`.  \n\nFor example, to compute the sample variance for our `abv` variable, we do:",
      "metadata": {
        "cell_id": "00019-c9fd2802-d2c8-45b2-b06d-8be8dabcc0aa",
        "deepnote_cell_type": "markdown"
      }
    },
    {
      "cell_type": "code",
      "metadata": {
        "cell_id": "00020-39a53506-8e57-473e-8a53-272c2dcc71a5",
        "deepnote_to_be_reexecuted": false,
        "source_hash": "b58f4413",
        "execution_start": 1617798076391,
        "execution_millis": 132,
        "deepnote_cell_type": "code"
      },
      "source": "var_abv = numpy.var(abv, ddof=1)\nprint(var_abv)",
      "execution_count": null,
      "outputs": [
        {
          "name": "stdout",
          "text": "0.00018337855205347506\n",
          "output_type": "stream"
        }
      ]
    },
    {
      "cell_type": "markdown",
      "source": "Now we can compute the standard deviation by taking the square root of `var_abv`:",
      "metadata": {
        "cell_id": "00021-5a007a43-e08e-4bc1-a381-5597f7e0269e",
        "deepnote_cell_type": "markdown"
      }
    },
    {
      "cell_type": "code",
      "metadata": {
        "cell_id": "00022-efb8471c-7d93-460a-bc81-5a3542ef911d",
        "deepnote_to_be_reexecuted": false,
        "source_hash": "a978df44",
        "execution_start": 1617798091273,
        "execution_millis": 17,
        "deepnote_cell_type": "code"
      },
      "source": "std_abv = numpy.sqrt(var_abv)\nprint(std_abv)",
      "execution_count": null,
      "outputs": [
        {
          "name": "stdout",
          "text": "0.013541733716680264\n",
          "output_type": "stream"
        }
      ]
    },
    {
      "cell_type": "markdown",
      "source": "You might be wondering if there is a built-in function for the standard deviation in NumPy. Go on and search online and try to find something.\n\n**Spoiler alert!**\nYou will. \n\n##### Exercise:\n\n1. Read the documentation about the NumPy standard deviation function, compute the standard deviation for `abv` using this function, and check that you obtained the same value than if you take the square root of the variance computed with NumPy.\n\n2. Compute the variance and standard deviation for the variable `ibu`.",
      "metadata": {
        "cell_id": "00023-2d0b73f5-94f4-4667-b2cf-a315ef92452b",
        "deepnote_cell_type": "markdown"
      }
    },
    {
      "cell_type": "code",
      "metadata": {
        "tags": [],
        "cell_id": "00024-71efde9a-71ca-496d-b52a-e09f52449ccb",
        "deepnote_to_be_reexecuted": false,
        "source_hash": "a668af42",
        "execution_millis": 28,
        "execution_start": 1617798526221,
        "deepnote_cell_type": "code"
      },
      "source": "print(\"abv standart deviation is: \",numpy.std(abv,ddof=1))\nprint(\"ibu standart deviation is: \",numpy.std(ibu,ddof=1))",
      "execution_count": null,
      "outputs": [
        {
          "name": "stdout",
          "text": "abv standart deviation is:  0.013541733716680264\nibu standart deviation is:  25.954065911259317\n",
          "output_type": "stream"
        }
      ]
    },
    {
      "cell_type": "markdown",
      "source": "### Median value\n\nSo far, we've learned to characterize quantitative data using the mean, variance and standard deviation.\n\nIf you watched Prof. Sainani's lecture [Describing Quantitative Data: Where is the center?](https://youtu.be/tQ5slNYRcC4) (recommended in our previous lesson), you'll recall that she also introduced the **median**: the middle value in the data, the value that separates your data set in half. (If there's an even number of data values, you take the average between the two middle values.)\n\nAs you may anticipate, NumPy has a built-in function that computes the median, helpfully named [`numpy.median()`](https://docs.scipy.org/doc/numpy-1.13.0/reference/generated/numpy.median.html). \n\n##### Exercise:\n\nUsing NumPy, compute the median for our variables `abv` and `ibu`. Compare the median with the mean, and look at the histogram to locate where the values fall on the x-axis.",
      "metadata": {
        "collapsed": true,
        "cell_id": "00024-6cdb248e-9f6f-4ff9-9ee7-18d4ef2b3969",
        "deepnote_cell_type": "markdown"
      }
    },
    {
      "cell_type": "code",
      "metadata": {
        "tags": [],
        "cell_id": "00026-353c938b-6f11-421c-a6bf-65347f3c0519",
        "deepnote_to_be_reexecuted": false,
        "source_hash": "c2ccfc2e",
        "execution_millis": 156,
        "execution_start": 1617799844984,
        "deepnote_cell_type": "code"
      },
      "source": "print(\"median value of abv\",numpy.median(abv))\nprint(\"mean value of abv\",numpy.mean(abv))\nprint(\"median value of ibu\", numpy.median(ibu))\nprint(\"mean value of ibu\", numpy.mean(ibu))\n\npyplot.figure(figsize=(6,4))\npyplot.hist(abv, bins=10, color='#3498db', histtype='bar', edgecolor='white') \npyplot.plot([numpy.mean(abv),numpy.mean(abv)],[0,860],color = 'r')\npyplot.text(numpy.mean(abv),920,\"Mean Value of abv\",color='r')\npyplot.plot([numpy.median(abv),numpy.median(abv)],[0,860],color = 'g')\npyplot.text((numpy.median(abv)-0.08),700,\"Median Value of abv\",color='g')\npyplot.title('Alcohol by Volume (abv) \\n')\npyplot.xlabel('abv')\npyplot.ylabel('Frequency')",
      "execution_count": null,
      "outputs": [
        {
          "name": "stdout",
          "text": "median value of abv 0.0559999999999999\nmean value of abv 0.059773424190800666\nmedian value of ibu 35.0\nmean value of ibu 42.71316725978647\n",
          "output_type": "stream"
        },
        {
          "output_type": "execute_result",
          "execution_count": 77,
          "data": {
            "text/plain": "Text(0, 0.5, 'Frequency')"
          },
          "metadata": {}
        },
        {
          "data": {
            "text/plain": "<Figure size 432x288 with 1 Axes>",
            "image/png": "[encoded data removed]"
          },
          "metadata": {
            "needs_background": "light"
          },
          "output_type": "display_data"
        }
      ]
    },
    {
      "cell_type": "code",
      "metadata": {
        "tags": [],
        "cell_id": "00027-07521514-227e-4d98-93c5-6528ceeb5795",
        "deepnote_to_be_reexecuted": false,
        "source_hash": "3bab0b78",
        "execution_start": 1617799915601,
        "execution_millis": 246,
        "deepnote_cell_type": "code"
      },
      "source": "pyplot.figure(figsize=(6,4))\npyplot.hist(ibu, bins=10, color='#3498db', histtype='bar', edgecolor='white') \npyplot.plot([numpy.mean(ibu),numpy.mean(ibu)],[0,860],color = 'r')\npyplot.text(numpy.mean(ibu),920,\"Mean Value of ibu\",color='r')\npyplot.plot([numpy.median(ibu),numpy.median(ibu)],[0,860],color = 'g')\npyplot.text((numpy.median(ibu)-0.08),700,\"Median Value of ibu\",color='g')\npyplot.title('Alcohol by Volume (ibu) \\n')\npyplot.xlabel('abv')\npyplot.ylabel('Frequency')",
      "execution_count": null,
      "outputs": [
        {
          "output_type": "execute_result",
          "execution_count": 78,
          "data": {
            "text/plain": "Text(0, 0.5, 'Frequency')"
          },
          "metadata": {}
        },
        {
          "data": {
            "text/plain": "<Figure size 432x288 with 1 Axes>",
            "image/png": "[encoded data removed]"
          },
          "metadata": {
            "needs_background": "light"
          },
          "output_type": "display_data"
        }
      ]
    },
    {
      "cell_type": "markdown",
      "source": "### Box plots\n\nAnother handy way to visualize the distribution of quantitative data is using **box plots**. By \"distribution\" of the data, we mean some idea of the dataset's \"shape\": where is the center, what is the range, what is the variation in the data. \nHistograms are the most popular type of plots in exploratory data analysis. But check out box plots: they are easy to make with `pyplot`:",
      "metadata": {
        "cell_id": "00025-63d3941c-4fc3-4eb1-bef9-fe47c86b811a",
        "deepnote_cell_type": "markdown"
      }
    },
    {
      "cell_type": "code",
      "metadata": {
        "cell_id": "00026-380f760c-2b16-4554-8914-efe82f1ff818",
        "deepnote_to_be_reexecuted": false,
        "source_hash": "de6d1f72",
        "execution_millis": 384,
        "execution_start": 1617799948278,
        "deepnote_cell_type": "code"
      },
      "source": "pyplot.boxplot(abv, labels=['Alcohol by volume']);",
      "execution_count": null,
      "outputs": [
        {
          "data": {
            "text/plain": "<Figure size 432x288 with 1 Axes>",
            "image/png": "[encoded data removed]"
          },
          "metadata": {
            "needs_background": "light"
          },
          "output_type": "display_data"
        }
      ]
    },
    {
      "cell_type": "code",
      "metadata": {
        "cell_id": "00027-38b61268-f96e-4f5d-9196-1c130c7403ed",
        "deepnote_to_be_reexecuted": false,
        "source_hash": "b174e109",
        "execution_start": 1617799950360,
        "execution_millis": 116,
        "deepnote_cell_type": "code"
      },
      "source": "pyplot.boxplot(ibu, labels=['International bitterness unit']);",
      "execution_count": null,
      "outputs": [
        {
          "data": {
            "text/plain": "<Figure size 432x288 with 1 Axes>",
            "image/png": "[encoded data removed]"
          },
          "metadata": {
            "needs_background": "light"
          },
          "output_type": "display_data"
        }
      ]
    },
    {
      "cell_type": "markdown",
      "source": "What is going on here? Obviously, there is a _box_: it represents 50% of the data in the middle of the data range, with the line across it (here, in orange) indicating the _median_. \n\nThe bottom of the box is at the 25th _percentile_, while the top of the box is at the 75th percentile. In other words, the bottom 25% of the data falls below the box, and the top 25% of the data falls above the box. ",
      "metadata": {
        "cell_id": "00028-6f3e1ac9-265b-4b19-93cf-ad26c5677dae",
        "deepnote_cell_type": "markdown"
      }
    },
    {
      "cell_type": "markdown",
      "source": "_Confused by percentiles?_\nThe Nth percentile is the value below which N% of the observations fall. \n\nRecall the bell curve from our previous lesson: we said that 95% of the data falls at a distance $\\pm 2 \\sigma$ from the mean. This implies that 5% of the data (the rest) falls in the (symmetrical) tails, which in turn implies that the 2.5 percentile is at $-2\\sigma$ from the mean, and the 97.5 percentile is at $+2\\sigma$ from the mean.\n\nThe percentiles 25, 50, and 75 are also named _quartiles_, since they divide the data into quarters. They are named first (Q1), second (Q2 or median) and third quartile (Q3), respectively. \n\nFortunately, NumPy has a function to compute percentiles and we can do it in just one line. Let's use [`numpy.percentile()`](https://docs.scipy.org/doc/numpy-dev/reference/generated/numpy.percentile.html) to compute the `abv` and `ibu`  quartiles. \n\n** abv quartiles **",
      "metadata": {
        "cell_id": "00029-8fb47eac-26d7-4ea0-87d1-db34aa785c43",
        "deepnote_cell_type": "markdown"
      }
    },
    {
      "cell_type": "code",
      "metadata": {
        "cell_id": "00030-e39dbf06-701f-4475-995e-3c8820f7b810",
        "deepnote_to_be_reexecuted": false,
        "source_hash": "e450a622",
        "execution_millis": 15,
        "execution_start": 1617800169592,
        "deepnote_cell_type": "code"
      },
      "source": "Q1_abv = numpy.percentile(abv, q=25)\nQ2_abv = numpy.percentile(abv, q=50)\nQ3_abv = numpy.percentile(abv, q=75)\n\nprint('The first quartile for abv is {}'.format(Q1_abv))\nprint('The second quartile for abv is {}'.format(Q2_abv))\nprint('The third quartile for abv is {}'.format(Q3_abv))",
      "execution_count": null,
      "outputs": [
        {
          "name": "stdout",
          "text": "The first quartile for abv is 0.05\nThe second quartile for abv is 0.0559999999999999\nThe third quartile for abv is 0.067\n",
          "output_type": "stream"
        }
      ]
    },
    {
      "cell_type": "markdown",
      "source": "** ibu quartiles **\n\nYou can also pass a list of percentiles to `numpy.percentile()` and calculate several of them in one go. For example, to compute the quartiles of `ibu`, we do:",
      "metadata": {
        "cell_id": "00031-3206d159-efdc-455a-bd66-51b5fc5cf55b",
        "deepnote_cell_type": "markdown"
      }
    },
    {
      "cell_type": "code",
      "metadata": {
        "cell_id": "00032-bb092bb2-1f3c-4de9-b0bc-0d6a8bc060e8",
        "deepnote_to_be_reexecuted": false,
        "source_hash": "25bff815",
        "execution_start": 1617800182022,
        "execution_millis": 32,
        "deepnote_cell_type": "code"
      },
      "source": "quartiles_ibu = numpy.percentile(ibu, q=[25, 50, 75])\n\nprint('The first quartile for ibu is {}'.format(quartiles_ibu[0]))\nprint('The second quartile for ibu is {}'.format(quartiles_ibu[1]))\nprint('The third quartile for ibu is {}'.format(quartiles_ibu[2]))",
      "execution_count": null,
      "outputs": [
        {
          "name": "stdout",
          "text": "The first quartile for ibu is 21.0\nThe second quartile for ibu is 35.0\nThe third quartile for ibu is 64.0\n",
          "output_type": "stream"
        }
      ]
    },
    {
      "cell_type": "markdown",
      "source": "OK, back to box plots. The height of the box—between the 25th and 75th percentile—is called the _interquartile range_ (IQR). Outside the box, you have two vertical lines—the so-called \"whiskers\" of the box plot—which used to be called \"box and whiskers plot\" [3]. \n\nThe whiskers extend to the upper and lower extremes (short horizontal lines). The extremes follow the following rules: \n\n* Top whisker: lower value between the **maximum** and `Q3 + 1.5 x IQR`. \n* Bottom whisker: higher value between the **minimum** and `Q1 - 1.5 x IQR`\n\nAny data values beyond the upper and lower extremes are shown with a marker (here, small circles) and are an indication of outliers in the data.\n",
      "metadata": {
        "cell_id": "00033-646c80f7-1063-4350-a442-ee2fa72c2456",
        "deepnote_cell_type": "markdown"
      }
    },
    {
      "cell_type": "markdown",
      "source": "##### Exercise:\n\nCalculate the end-points of the top and bottom whiskers for both the `abv` and `ibu` variables, and compare the results with the whisker end-points you see in the plot. ",
      "metadata": {
        "cell_id": "00034-b73c19f5-0866-4732-908d-74f43df6f5a9",
        "deepnote_cell_type": "markdown"
      }
    },
    {
      "cell_type": "markdown",
      "source": "##### A bit of history:\n\n\"Box-and-whiskers\" plots were invented by John Tukey over 45 years ago. Tukey was a famous mathematician/statistician who is credited with coining the words _software_ and _bit_ [4]. He was active in the efforts to break the _Enigma_ code durig WWII, and worked at Bell Labs in the first surface-to-air guided missile (\"Nike\"). A classic 1947 work on early design of the electonic computer acknowledged Tukey: he designed the electronic circuit for computing addition. Tukey was also a long-time advisor for the US Census Bureau, and a consultant for the Educational Testing Service (ETS), among many other contributions [5].\n\n##### Note:\n\nBox plots are also drawn horizontally. Often, several box plots are drawn side-by-side with the purpose of comparing distributions.",
      "metadata": {
        "cell_id": "00035-876122e2-c161-49ea-9c9b-32a5d795230f",
        "deepnote_cell_type": "markdown"
      }
    },
    {
      "cell_type": "markdown",
      "source": "## Visualizing categorical data\n\nThe typical method of visualizing categorical data is using **bar plots**. These show visually the frequency of appearance of items in each category, or the proportion of data in each category. Suppose we wanted to know how many beers of the same style are in our data set. Remember: the _style_ of the beer is an example of _categorical data_. Let's extract the column with the style information from the `beers` dataframe, assign it to a variable named `style_series`, check the type of this variable, and view the first 10 elements.",
      "metadata": {
        "cell_id": "00036-2a8d9341-99dc-41aa-93d2-f9486fd270a5",
        "deepnote_cell_type": "markdown"
      }
    },
    {
      "cell_type": "code",
      "metadata": {
        "collapsed": true,
        "cell_id": "00037-6c56cc67-8eef-4cb9-9ed8-5cfe81756492",
        "deepnote_to_be_reexecuted": false,
        "source_hash": "8a3feb3d",
        "execution_start": 1617800255463,
        "execution_millis": 1,
        "deepnote_cell_type": "code"
      },
      "source": "style_series = beers['style']",
      "execution_count": null,
      "outputs": []
    },
    {
      "cell_type": "code",
      "metadata": {
        "cell_id": "00038-d078f575-c3fa-4998-be6d-4b0d60718b38",
        "deepnote_to_be_reexecuted": false,
        "source_hash": "5198cea",
        "execution_start": 1617800257406,
        "execution_millis": 9,
        "deepnote_cell_type": "code"
      },
      "source": "type(style_series)",
      "execution_count": null,
      "outputs": [
        {
          "output_type": "execute_result",
          "execution_count": 85,
          "data": {
            "text/plain": "pandas.core.series.Series"
          },
          "metadata": {}
        }
      ]
    },
    {
      "cell_type": "code",
      "metadata": {
        "cell_id": "00039-c71fa5df-262a-4f58-b753-3a02a03cccd5",
        "deepnote_to_be_reexecuted": false,
        "source_hash": "af3454ed",
        "execution_start": 1617800259455,
        "execution_millis": 39,
        "deepnote_cell_type": "code"
      },
      "source": "style_series[0:10]",
      "execution_count": null,
      "outputs": [
        {
          "output_type": "execute_result",
          "execution_count": 86,
          "data": {
            "text/plain": "0               American Pale Lager\n1           American Pale Ale (APA)\n2                      American IPA\n3    American Double / Imperial IPA\n4                      American IPA\n5                     Oatmeal Stout\n6           American Pale Ale (APA)\n7                   American Porter\n8           American Pale Ale (APA)\n9    American Double / Imperial IPA\nName: style, dtype: object"
          },
          "metadata": {}
        }
      ]
    },
    {
      "cell_type": "markdown",
      "source": "Already in the first 10 elements we see that we have two beers of the style \"American IPA,\" two beers of the style \"American Pale Ale (APA),\" but only one beer of the style \"Oatmeal Stout.\" The question is: how many beers of each style are contained in the whole series? ",
      "metadata": {
        "cell_id": "00040-3f3b2a50-41ee-4063-af1f-7ceb06519ffe",
        "deepnote_cell_type": "markdown"
      }
    },
    {
      "cell_type": "markdown",
      "source": "Luckily, `pandas` has a built-in function to answer that question: [`series.value_counts()`](https://pandas.pydata.org/pandas-docs/stable/generated/pandas.Series.value_counts.html) (where `series` is the variable name of the `pandas` series you want the counts for). Let's try it on our `style_series`, and save the result in a new variable named `style_counts`.",
      "metadata": {
        "cell_id": "00041-39b63445-b267-4770-978b-3cabb540c992",
        "deepnote_cell_type": "markdown"
      }
    },
    {
      "cell_type": "code",
      "metadata": {
        "cell_id": "00042-fad9a885-f171-45b1-9fb1-d679873af6f9",
        "deepnote_to_be_reexecuted": false,
        "source_hash": "b60efb85",
        "execution_start": 1617800289478,
        "execution_millis": 52,
        "deepnote_cell_type": "code"
      },
      "source": "style_counts = style_series.value_counts()\nstyle_counts[0:5]",
      "execution_count": null,
      "outputs": [
        {
          "output_type": "execute_result",
          "execution_count": 87,
          "data": {
            "text/plain": "American IPA                      424\nAmerican Pale Ale (APA)           245\nAmerican Amber / Red Ale          133\nAmerican Blonde Ale               108\nAmerican Double / Imperial IPA    105\nName: style, dtype: int64"
          },
          "metadata": {}
        }
      ]
    },
    {
      "cell_type": "code",
      "metadata": {
        "cell_id": "00043-b9a01350-4fac-45f0-aa34-2edd5216bd2c",
        "deepnote_to_be_reexecuted": false,
        "source_hash": "2d2c88de",
        "execution_start": 1617800292412,
        "execution_millis": 200,
        "deepnote_cell_type": "code"
      },
      "source": "type(style_counts)",
      "execution_count": null,
      "outputs": [
        {
          "output_type": "execute_result",
          "execution_count": 88,
          "data": {
            "text/plain": "pandas.core.series.Series"
          },
          "metadata": {}
        }
      ]
    },
    {
      "cell_type": "code",
      "metadata": {
        "cell_id": "00044-f2f37884-669c-4545-8d72-dbfb0fa65ac5",
        "deepnote_to_be_reexecuted": false,
        "source_hash": "fc60007f",
        "execution_start": 1617800293114,
        "execution_millis": 69,
        "deepnote_cell_type": "code"
      },
      "source": "len(style_counts)",
      "execution_count": null,
      "outputs": [
        {
          "output_type": "execute_result",
          "execution_count": 89,
          "data": {
            "text/plain": "99"
          },
          "metadata": {}
        }
      ]
    },
    {
      "cell_type": "markdown",
      "source": "The `len()` function tells us that `style_counts` has 99 elements. That is, there are a total of 99 styles of beer in our data set. Wow, that's a lot!\n\nNotice that `value_counts()` returned the counts sorted in decreasing order: the most popular beer in our data set is \"American IPA\" with 424 entries in our data. The next-most popular beer is \"American Pale Ale (APA)\" with a lot fewer entries (245), and the counts decrease sharply after that. Naturally, we'd like to know how much more popular are the top-2 beers from the rest. Bar plot to the rescue! ",
      "metadata": {
        "cell_id": "00045-e96f94b5-2ce9-43e9-afba-dc574d1d7778",
        "deepnote_cell_type": "markdown"
      }
    },
    {
      "cell_type": "markdown",
      "source": "Below, we'll draw a horizontal bar plot directly with `pandas` (which uses Matplotlib internally) using the [`plot.barh()`](https://pandas.pydata.org/pandas-docs/stable/generated/pandas.Series.plot.barh.html) method for series. We'll only show the first 20 beers, because otherwise we'll get a huge plot. This plot gives us a clear visualization of the popularity ranking of beer styles in the US!",
      "metadata": {
        "cell_id": "00046-dfd6c795-378b-475d-a1f4-fecf9908fc49",
        "deepnote_cell_type": "markdown"
      }
    },
    {
      "cell_type": "code",
      "metadata": {
        "cell_id": "00047-de9a4d18-356d-4cae-bf36-58983ed6fcaf",
        "deepnote_to_be_reexecuted": false,
        "source_hash": "1c961bf1",
        "execution_start": 1617800472258,
        "execution_millis": 299,
        "deepnote_cell_type": "code"
      },
      "source": "style_counts[0:20].plot.barh(figsize=(10,8), color='#008367', edgecolor='gray');",
      "execution_count": null,
      "outputs": [
        {
          "data": {
            "text/plain": "<Figure size 720x576 with 1 Axes>",
            "image/png": "[encoded data removed]"
          },
          "metadata": {
            "needs_background": "light"
          },
          "output_type": "display_data"
        }
      ]
    },
    {
      "cell_type": "markdown",
      "source": "## Visualizing multiple data\n\nThese visualizations are really addictive! We're now getting ambitious: what if we wanted to show more than one feature, together on the same plot? What if we wanted to get insights about the relationship between two features through a multi-variable plot? \n\nFor example, don't you want to know if the bitterness of beers is associated with the alcohol-by-volume fraction? We do!",
      "metadata": {
        "cell_id": "00048-664393b8-c204-4a4d-89bb-43f194f05c38",
        "deepnote_cell_type": "markdown"
      }
    },
    {
      "cell_type": "markdown",
      "source": "### Scatter plots\n\nMaybe we can do this: imagine a plot that has the alcohol-by-volume on the absissa, and the IBU value on the ordinate. For each beer, we can place a dot on this plot with its `abv` and `ibu` values as $(x, y)$ coordinates. This is called a **scatter plot**.\n\nWe run into a bit of a problem, though. The way we handled the beer data above, we extracted the column for `abv` into a series, dropped the null entries, and saved the values into a NumPy array. We then repeated this process for the `ibu` column. Because a lot more `ibu` values are missing, we ended up with two arrays of different length: 2348 entries for the `abv` series, and 1405 entries for the `ibu` series. If we want to make a scatter plot with these two features, we'll need series (or arrays) of the same length.\n\nLet's instead clean the whole `beers` dataframe (which will completely remove any row that has a null entry), and _then_ extract the values of the two series into NumPy arrays.",
      "metadata": {
        "cell_id": "00049-14d88a87-c596-42cc-91d1-4ed2c8aa0d4f",
        "deepnote_cell_type": "markdown"
      }
    },
    {
      "cell_type": "code",
      "metadata": {
        "collapsed": true,
        "cell_id": "00050-7191fdc8-505c-4e8e-92bf-30dd6cb9397e",
        "deepnote_to_be_reexecuted": false,
        "source_hash": "abe6fc6a",
        "execution_start": 1617800524246,
        "execution_millis": 8,
        "deepnote_cell_type": "code"
      },
      "source": "beers_clean = beers.dropna()",
      "execution_count": null,
      "outputs": []
    },
    {
      "cell_type": "code",
      "metadata": {
        "cell_id": "00051-a27721e8-8ba5-423b-b9ac-df232db60991",
        "deepnote_to_be_reexecuted": false,
        "source_hash": "caef0daa",
        "execution_start": 1617800526597,
        "execution_millis": 21,
        "deepnote_cell_type": "code"
      },
      "source": "ibu = beers_clean['ibu'].values\nlen(ibu)",
      "execution_count": null,
      "outputs": [
        {
          "output_type": "execute_result",
          "execution_count": 92,
          "data": {
            "text/plain": "1403"
          },
          "metadata": {}
        }
      ]
    },
    {
      "cell_type": "code",
      "metadata": {
        "cell_id": "00052-bf626061-0267-4ca3-bcdf-65eb650c70cd",
        "deepnote_to_be_reexecuted": false,
        "source_hash": "4a8d30db",
        "execution_start": 1617800528090,
        "execution_millis": 28,
        "deepnote_cell_type": "code"
      },
      "source": "abv = beers_clean['abv'].values\nlen(abv)",
      "execution_count": null,
      "outputs": [
        {
          "output_type": "execute_result",
          "execution_count": 93,
          "data": {
            "text/plain": "1403"
          },
          "metadata": {}
        }
      ]
    },
    {
      "cell_type": "markdown",
      "source": "Notice that both arrays now have 1403 entries—not 1405 (the length of the clean `ibu` data), because two rows that had a non-null `ibu` value _did_ have a null `abv` value and were dropped.",
      "metadata": {
        "cell_id": "00053-624a4202-6cc9-4bce-b638-6de81ece52da",
        "deepnote_cell_type": "markdown"
      }
    },
    {
      "cell_type": "markdown",
      "source": "With the two arrays of the same length, we can now call the [`pyplot.scatter()`](https://matplotlib.org/devdocs/api/_as_gen/matplotlib.pyplot.scatter.html) function.",
      "metadata": {
        "cell_id": "00054-5683c026-a389-4a15-9326-b72123d15a00",
        "deepnote_cell_type": "markdown"
      }
    },
    {
      "cell_type": "code",
      "metadata": {
        "cell_id": "00055-33c1fa8e-31ff-4eed-9df7-85fec5c2e37d",
        "deepnote_to_be_reexecuted": false,
        "source_hash": "8b46b777",
        "execution_start": 1617800530251,
        "execution_millis": 166,
        "deepnote_cell_type": "code"
      },
      "source": "pyplot.figure(figsize=(8,8))\npyplot.scatter(abv, ibu, color='#3498db') \npyplot.title('Scatter plot of alcohol-by-volume vs. IBU \\n')\npyplot.xlabel('abv')\npyplot.ylabel('IBU');",
      "execution_count": null,
      "outputs": [
        {
          "data": {
            "text/plain": "<Figure size 576x576 with 1 Axes>",
            "image/png": "[encoded data removed]"
          },
          "metadata": {
            "needs_background": "light"
          },
          "output_type": "display_data"
        }
      ]
    },
    {
      "cell_type": "markdown",
      "source": "Hmm. That's a bit of a mess. Too many dots! But we do make out that the beers with low alcohol-by-volume tend to have low bitterness. For higher alcohol fraction, the beers can be anywhere on the bitterness scale: there's a lot of vertical spread on those dots to the right of the plot. \n\nAn idea! What if the bitterness has something to do with _style_? Neither of us knows much about beer, so we have no clue. Could we explore this question with visualization? We found a way!",
      "metadata": {
        "cell_id": "00056-720f14ab-d3fb-432b-8eb5-0acf27db7999",
        "deepnote_cell_type": "markdown"
      }
    },
    {
      "cell_type": "markdown",
      "source": "### Bubble chart\n\nWhat we imagined is that we could group together the beers by style, and then make a new scatter plot where each marker corresponds to a style. The beers within a style, though, have many values of alcohol fraction and bitterness: we have to come up with a \"summary value\" for each style. Well, why not the _mean_… we can calculate the average `abv` and the average `ibu` for all the beers in each style, use that pair as $(x,y)$ coordinate, and put a dot there representing the style. \n\nBetter yet! We'll make the size of the \"dot\" proportional to the popularity of the style in our data set! This is called a **bubble chart**.\n\nHow to achieve this idea? We searched online for \"mean of a column with pandas\" and we landed in [`dataframe.mean()`](https://pandas.pydata.org/pandas-docs/stable/generated/pandas.DataFrame.mean.html). This could be helpful… But we don't want the mean of a _whole_ column—we want the mean of the column values grouped by _style_. Searching online again, we landed in [`dataframe.groupby()`](https://pandas.pydata.org/pandas-docs/stable/generated/pandas.DataFrame.groupby.html). This is amazing: `pandas` can group a series for you! \n\nHere's what we want to do: group beers by style, then compute the mean of `abv` and `ibu` in the groups. We experimented with `beers_clean.groupby('style').mean()` and were amazed… However, one thing was bothersome: `pandas` computed the mean (by style) of every column, including the `id` and `brewery_id`, which have no business being averaged. So we decided to first drop the columns we don't need, leaving only `abv`, `ibu` and `style`. We can use the [`dataframe.drop()`](https://pandas.pydata.org/pandas-docs/stable/generated/pandas.DataFrame.drop.html) method for that. Check it out!",
      "metadata": {
        "collapsed": true,
        "cell_id": "00057-deeeabec-5ca9-492a-897c-349ec9457db7",
        "deepnote_cell_type": "markdown"
      }
    },
    {
      "cell_type": "code",
      "metadata": {
        "collapsed": true,
        "cell_id": "00058-c61d27c0-cc8c-44dc-9700-13eac76a9a5b",
        "deepnote_to_be_reexecuted": false,
        "source_hash": "636b27c2",
        "execution_start": 1617800604933,
        "execution_millis": 1,
        "deepnote_cell_type": "code"
      },
      "source": "beers_styles = beers_clean.drop(['Unnamed: 0','name','brewery_id','ounces','id'], axis=1)",
      "execution_count": null,
      "outputs": []
    },
    {
      "cell_type": "code",
      "metadata": {
        "cell_id": "00059-a6c0c8ed-8b84-4964-a6dd-3cd62bc8cd16",
        "deepnote_to_be_reexecuted": false,
        "source_hash": "de405e37",
        "execution_start": 1617800609083,
        "execution_millis": 359,
        "deepnote_cell_type": "code"
      },
      "source": "beers_styles[0:10]",
      "execution_count": null,
      "outputs": [
        {
          "output_type": "execute_result",
          "execution_count": 96,
          "data": {
            "application/vnd.deepnote.dataframe.v2+json": {
              "row_count": 10,
              "column_count": 3,
              "columns": [
                {
                  "name": "abv",
                  "dtype": "float64",
                  "stats": {
                    "unique_count": 6,
                    "nan_count": 0,
                    "min": 0.044,
                    "max": 0.099,
                    "histogram": [
                      {
                        "bin_start": 0.044,
                        "bin_end": 0.049499999999999995,
                        "count": 4
                      },
                      {
                        "bin_start": 0.049499999999999995,
                        "bin_end": 0.055,
                        "count": 0
                      },
                      {
                        "bin_start": 0.055,
                        "bin_end": 0.0605,
                        "count": 0
                      },
                      {
                        "bin_start": 0.0605,
                        "bin_end": 0.066,
                        "count": 1
                      },
                      {
                        "bin_start": 0.066,
                        "bin_end": 0.07150000000000001,
                        "count": 3
                      },
                      {
                        "bin_start": 0.07150000000000001,
                        "bin_end": 0.077,
                        "count": 0
                      },
                      {
                        "bin_start": 0.077,
                        "bin_end": 0.0825,
                        "count": 1
                      },
                      {
                        "bin_start": 0.0825,
                        "bin_end": 0.088,
                        "count": 0
                      },
                      {
                        "bin_start": 0.088,
                        "bin_end": 0.0935,
                        "count": 0
                      },
                      {
                        "bin_start": 0.0935,
                        "bin_end": 0.099,
                        "count": 1
                      }
                    ]
                  }
                },
                {
                  "name": "ibu",
                  "dtype": "float64",
                  "stats": {
                    "unique_count": 6,
                    "nan_count": 0,
                    "min": 17,
                    "max": 92,
                    "histogram": [
                      {
                        "bin_start": 17,
                        "bin_end": 24.5,
                        "count": 3
                      },
                      {
                        "bin_start": 24.5,
                        "bin_end": 32,
                        "count": 0
                      },
                      {
                        "bin_start": 32,
                        "bin_end": 39.5,
                        "count": 0
                      },
                      {
                        "bin_start": 39.5,
                        "bin_end": 47,
                        "count": 2
                      },
                      {
                        "bin_start": 47,
                        "bin_end": 54.5,
                        "count": 0
                      },
                      {
                        "bin_start": 54.5,
                        "bin_end": 62,
                        "count": 1
                      },
                      {
                        "bin_start": 62,
                        "bin_end": 69.5,
                        "count": 0
                      },
                      {
                        "bin_start": 69.5,
                        "bin_end": 77,
                        "count": 3
                      },
                      {
                        "bin_start": 77,
                        "bin_end": 84.5,
                        "count": 0
                      },
                      {
                        "bin_start": 84.5,
                        "bin_end": 92,
                        "count": 1
                      }
                    ]
                  }
                },
                {
                  "name": "style",
                  "dtype": "object",
                  "stats": {
                    "unique_count": 5,
                    "nan_count": 0,
                    "categories": [
                      {
                        "name": "Fruit / Vegetable Beer",
                        "count": 3
                      },
                      {
                        "name": "American IPA",
                        "count": 3
                      },
                      {
                        "name": "3 others",
                        "count": 4
                      }
                    ]
                  }
                },
                {
                  "name": "_deepnote_index_column",
                  "dtype": "int64"
                }
              ],
              "rows_top": [
                {
                  "abv": 0.061,
                  "ibu": 60,
                  "style": "American Pale Ale (APA)",
                  "_deepnote_index_column": 14
                },
                {
                  "abv": 0.099,
                  "ibu": 92,
                  "style": "American Barleywine",
                  "_deepnote_index_column": 21
                },
                {
                  "abv": 0.079,
                  "ibu": 45,
                  "style": "Winter Warmer",
                  "_deepnote_index_column": 22
                },
                {
                  "abv": 0.044,
                  "ibu": 42,
                  "style": "American Pale Ale (APA)",
                  "_deepnote_index_column": 24
                },
                {
                  "abv": 0.049,
                  "ibu": 17,
                  "style": "Fruit / Vegetable Beer",
                  "_deepnote_index_column": 25
                },
                {
                  "abv": 0.049,
                  "ibu": 17,
                  "style": "Fruit / Vegetable Beer",
                  "_deepnote_index_column": 26
                },
                {
                  "abv": 0.049,
                  "ibu": 17,
                  "style": "Fruit / Vegetable Beer",
                  "_deepnote_index_column": 27
                },
                {
                  "abv": 0.07,
                  "ibu": 70,
                  "style": "American IPA",
                  "_deepnote_index_column": 28
                },
                {
                  "abv": 0.07,
                  "ibu": 70,
                  "style": "American IPA",
                  "_deepnote_index_column": 29
                },
                {
                  "abv": 0.07,
                  "ibu": 70,
                  "style": "American IPA",
                  "_deepnote_index_column": 30
                }
              ],
              "rows_bottom": null
            },
            "text/plain": "      abv   ibu                    style\n14  0.061  60.0  American Pale Ale (APA)\n21  0.099  92.0      American Barleywine\n22  0.079  45.0            Winter Warmer\n24  0.044  42.0  American Pale Ale (APA)\n25  0.049  17.0   Fruit / Vegetable Beer\n26  0.049  17.0   Fruit / Vegetable Beer\n27  0.049  17.0   Fruit / Vegetable Beer\n28  0.070  70.0             American IPA\n29  0.070  70.0             American IPA\n30  0.070  70.0             American IPA",
            "text/html": "<div>\n<style scoped>\n    .dataframe tbody tr th:only-of-type {\n        vertical-align: middle;\n    }\n\n    .dataframe tbody tr th {\n        vertical-align: top;\n    }\n\n    .dataframe thead th {\n        text-align: right;\n    }\n</style>\n<table border=\"1\" class=\"dataframe\">\n  <thead>\n    <tr style=\"text-align: right;\">\n      <th></th>\n      <th>abv</th>\n      <th>ibu</th>\n      <th>style</th>\n    </tr>\n  </thead>\n  <tbody>\n    <tr>\n      <th>14</th>\n      <td>0.061</td>\n      <td>60.0</td>\n      <td>American Pale Ale (APA)</td>\n    </tr>\n    <tr>\n      <th>21</th>\n      <td>0.099</td>\n      <td>92.0</td>\n      <td>American Barleywine</td>\n    </tr>\n    <tr>\n      <th>22</th>\n      <td>0.079</td>\n      <td>45.0</td>\n      <td>Winter Warmer</td>\n    </tr>\n    <tr>\n      <th>24</th>\n      <td>0.044</td>\n      <td>42.0</td>\n      <td>American Pale Ale (APA)</td>\n    </tr>\n    <tr>\n      <th>25</th>\n      <td>0.049</td>\n      <td>17.0</td>\n      <td>Fruit / Vegetable Beer</td>\n    </tr>\n    <tr>\n      <th>26</th>\n      <td>0.049</td>\n      <td>17.0</td>\n      <td>Fruit / Vegetable Beer</td>\n    </tr>\n    <tr>\n      <th>27</th>\n      <td>0.049</td>\n      <td>17.0</td>\n      <td>Fruit / Vegetable Beer</td>\n    </tr>\n    <tr>\n      <th>28</th>\n      <td>0.070</td>\n      <td>70.0</td>\n      <td>American IPA</td>\n    </tr>\n    <tr>\n      <th>29</th>\n      <td>0.070</td>\n      <td>70.0</td>\n      <td>American IPA</td>\n    </tr>\n    <tr>\n      <th>30</th>\n      <td>0.070</td>\n      <td>70.0</td>\n      <td>American IPA</td>\n    </tr>\n  </tbody>\n</table>\n</div>"
          },
          "metadata": {}
        }
      ]
    },
    {
      "cell_type": "markdown",
      "source": "We now have a dataframe with only the numeric features `abv` and `ibu`, and the categorical feature `style`. Let's find out how many beers we have of each style—we'd like to use this information to set the size of the style bubbles.",
      "metadata": {
        "cell_id": "00060-9c270eba-d289-4a86-bfcf-f0ff44873bba",
        "deepnote_cell_type": "markdown"
      }
    },
    {
      "cell_type": "code",
      "metadata": {
        "collapsed": true,
        "cell_id": "00061-7904f131-ca5e-43b3-8c20-f75cbf490751",
        "deepnote_to_be_reexecuted": false,
        "source_hash": "37b58977",
        "execution_start": 1617800611919,
        "execution_millis": 1,
        "deepnote_cell_type": "code"
      },
      "source": "style_counts = beers_styles['style'].value_counts()",
      "execution_count": null,
      "outputs": []
    },
    {
      "cell_type": "code",
      "metadata": {
        "cell_id": "00062-02345fde-dd64-4424-90c3-abe6432d4c8f",
        "deepnote_to_be_reexecuted": false,
        "source_hash": "79432c5",
        "execution_start": 1617800613023,
        "execution_millis": 11,
        "deepnote_cell_type": "code"
      },
      "source": "style_counts[0:10]",
      "execution_count": null,
      "outputs": [
        {
          "output_type": "execute_result",
          "execution_count": 98,
          "data": {
            "text/plain": "American IPA                      301\nAmerican Pale Ale (APA)           153\nAmerican Amber / Red Ale           77\nAmerican Double / Imperial IPA     75\nAmerican Blonde Ale                61\nAmerican Pale Wheat Ale            61\nAmerican Porter                    39\nAmerican Brown Ale                 38\nFruit / Vegetable Beer             30\nKölsch                             27\nName: style, dtype: int64"
          },
          "metadata": {}
        }
      ]
    },
    {
      "cell_type": "code",
      "metadata": {
        "cell_id": "00063-7a199702-a013-4647-9241-bc0ef641705e",
        "deepnote_to_be_reexecuted": false,
        "source_hash": "2d2c88de",
        "execution_start": 1617800614871,
        "execution_millis": 17,
        "deepnote_cell_type": "code"
      },
      "source": "type(style_counts)",
      "execution_count": null,
      "outputs": [
        {
          "output_type": "execute_result",
          "execution_count": 99,
          "data": {
            "text/plain": "pandas.core.series.Series"
          },
          "metadata": {}
        }
      ]
    },
    {
      "cell_type": "code",
      "metadata": {
        "cell_id": "00064-35e3608d-2630-4bc9-af1b-df98c819a1ab",
        "deepnote_to_be_reexecuted": false,
        "source_hash": "fc60007f",
        "execution_start": 1617800616344,
        "execution_millis": 21,
        "deepnote_cell_type": "code"
      },
      "source": "len(style_counts)",
      "execution_count": null,
      "outputs": [
        {
          "output_type": "execute_result",
          "execution_count": 100,
          "data": {
            "text/plain": "90"
          },
          "metadata": {}
        }
      ]
    },
    {
      "cell_type": "markdown",
      "source": "The number of beers in each style appears on each row of `style_counts`, sorted in decreasing order of count. We have 90 different styles, and the most popular style is the \"American IPA,\" with 301 beers…\n\n##### Discuss with your neighbor:\n\n* What happened? We used to have 99 styles and 424 counts in the \"American IPA\" style. Why is it different now?",
      "metadata": {
        "cell_id": "00065-5aebd3a2-9fed-48f0-974e-bc1ee0f8d6e5",
        "deepnote_cell_type": "markdown"
      }
    },
    {
      "cell_type": "markdown",
      "source": "OK. We want to characterize each style of beer with the _mean values_ of the numeric features, `abv` and `ibu`, within that style. Let's get those means.",
      "metadata": {
        "cell_id": "00066-72ea8f31-ab0f-4c16-89e6-f8e94c27c848",
        "deepnote_cell_type": "markdown"
      }
    },
    {
      "cell_type": "code",
      "metadata": {
        "collapsed": true,
        "cell_id": "00067-79278a4f-832f-4c39-9465-c20f9a0c2db4",
        "deepnote_to_be_reexecuted": false,
        "source_hash": "5db76805",
        "execution_start": 1617800826763,
        "execution_millis": 1,
        "deepnote_cell_type": "code"
      },
      "source": "style_means = beers_styles.groupby('style').mean()",
      "execution_count": null,
      "outputs": []
    },
    {
      "cell_type": "code",
      "metadata": {
        "cell_id": "00068-41c55135-d6d5-4666-9282-949bb26b0498",
        "deepnote_to_be_reexecuted": false,
        "source_hash": "5cea4d62",
        "execution_start": 1617800830108,
        "execution_millis": 16,
        "deepnote_cell_type": "code"
      },
      "source": "style_means[0:10]",
      "execution_count": null,
      "outputs": [
        {
          "output_type": "execute_result",
          "execution_count": 102,
          "data": {
            "application/vnd.deepnote.dataframe.v2+json": {
              "row_count": 10,
              "column_count": 2,
              "columns": [
                {
                  "name": "abv",
                  "dtype": "float64",
                  "stats": {
                    "unique_count": 10,
                    "nan_count": 0,
                    "min": 0.046545454545454536,
                    "max": 0.099,
                    "histogram": [
                      {
                        "bin_start": 0.046545454545454536,
                        "bin_end": 0.05179090909090908,
                        "count": 4
                      },
                      {
                        "bin_start": 0.05179090909090908,
                        "bin_end": 0.05703636363636363,
                        "count": 2
                      },
                      {
                        "bin_start": 0.05703636363636363,
                        "bin_end": 0.062281818181818174,
                        "count": 2
                      },
                      {
                        "bin_start": 0.062281818181818174,
                        "bin_end": 0.06752727272727273,
                        "count": 0
                      },
                      {
                        "bin_start": 0.06752727272727273,
                        "bin_end": 0.07277272727272727,
                        "count": 0
                      },
                      {
                        "bin_start": 0.07277272727272727,
                        "bin_end": 0.07801818181818182,
                        "count": 1
                      },
                      {
                        "bin_start": 0.07801818181818182,
                        "bin_end": 0.08326363636363637,
                        "count": 0
                      },
                      {
                        "bin_start": 0.08326363636363637,
                        "bin_end": 0.08850909090909091,
                        "count": 0
                      },
                      {
                        "bin_start": 0.08850909090909091,
                        "bin_end": 0.09375454545454545,
                        "count": 0
                      },
                      {
                        "bin_start": 0.09375454545454545,
                        "bin_end": 0.099,
                        "count": 1
                      }
                    ]
                  }
                },
                {
                  "name": "ibu",
                  "dtype": "float64",
                  "stats": {
                    "unique_count": 10,
                    "nan_count": 0,
                    "min": 11,
                    "max": 96,
                    "histogram": [
                      {
                        "bin_start": 11,
                        "bin_end": 19.5,
                        "count": 1
                      },
                      {
                        "bin_start": 19.5,
                        "bin_end": 28,
                        "count": 4
                      },
                      {
                        "bin_start": 28,
                        "bin_end": 36.5,
                        "count": 3
                      },
                      {
                        "bin_start": 36.5,
                        "bin_end": 45,
                        "count": 0
                      },
                      {
                        "bin_start": 45,
                        "bin_end": 53.5,
                        "count": 0
                      },
                      {
                        "bin_start": 53.5,
                        "bin_end": 62,
                        "count": 0
                      },
                      {
                        "bin_start": 62,
                        "bin_end": 70.5,
                        "count": 1
                      },
                      {
                        "bin_start": 70.5,
                        "bin_end": 79,
                        "count": 0
                      },
                      {
                        "bin_start": 79,
                        "bin_end": 87.5,
                        "count": 0
                      },
                      {
                        "bin_start": 87.5,
                        "bin_end": 96,
                        "count": 1
                      }
                    ]
                  }
                },
                {
                  "name": "_deepnote_index_column",
                  "dtype": "object"
                }
              ],
              "rows_top": [
                {
                  "abv": 0.049,
                  "ibu": 22,
                  "_deepnote_index_column": "Abbey Single Ale"
                },
                {
                  "abv": 0.054625,
                  "ibu": 34.125,
                  "_deepnote_index_column": "Altbier"
                },
                {
                  "abv": 0.046545454545454536,
                  "ibu": 11,
                  "_deepnote_index_column": "American Adjunct Lager"
                },
                {
                  "abv": 0.05719480519480518,
                  "ibu": 36.298701298701296,
                  "_deepnote_index_column": "American Amber / Red Ale"
                },
                {
                  "abv": 0.0480625,
                  "ibu": 23.25,
                  "_deepnote_index_column": "American Amber / Red Lager"
                },
                {
                  "abv": 0.099,
                  "ibu": 96,
                  "_deepnote_index_column": "American Barleywine"
                },
                {
                  "abv": 0.07314999999999998,
                  "ibu": 68.9,
                  "_deepnote_index_column": "American Black Ale"
                },
                {
                  "abv": 0.050147540983606534,
                  "ibu": 20.983606557377048,
                  "_deepnote_index_column": "American Blonde Ale"
                },
                {
                  "abv": 0.057842105263157896,
                  "ibu": 29.894736842105264,
                  "_deepnote_index_column": "American Brown Ale"
                },
                {
                  "abv": 0.052199999999999955,
                  "ibu": 27.6,
                  "_deepnote_index_column": "American Dark Wheat Ale"
                }
              ],
              "rows_bottom": null
            },
            "text/plain": "                                 abv        ibu\nstyle                                          \nAbbey Single Ale            0.049000  22.000000\nAltbier                     0.054625  34.125000\nAmerican Adjunct Lager      0.046545  11.000000\nAmerican Amber / Red Ale    0.057195  36.298701\nAmerican Amber / Red Lager  0.048063  23.250000\nAmerican Barleywine         0.099000  96.000000\nAmerican Black Ale          0.073150  68.900000\nAmerican Blonde Ale         0.050148  20.983607\nAmerican Brown Ale          0.057842  29.894737\nAmerican Dark Wheat Ale     0.052200  27.600000",
            "text/html": "<div>\n<style scoped>\n    .dataframe tbody tr th:only-of-type {\n        vertical-align: middle;\n    }\n\n    .dataframe tbody tr th {\n        vertical-align: top;\n    }\n\n    .dataframe thead th {\n        text-align: right;\n    }\n</style>\n<table border=\"1\" class=\"dataframe\">\n  <thead>\n    <tr style=\"text-align: right;\">\n      <th></th>\n      <th>abv</th>\n      <th>ibu</th>\n    </tr>\n    <tr>\n      <th>style</th>\n      <th></th>\n      <th></th>\n    </tr>\n  </thead>\n  <tbody>\n    <tr>\n      <th>Abbey Single Ale</th>\n      <td>0.049000</td>\n      <td>22.000000</td>\n    </tr>\n    <tr>\n      <th>Altbier</th>\n      <td>0.054625</td>\n      <td>34.125000</td>\n    </tr>\n    <tr>\n      <th>American Adjunct Lager</th>\n      <td>0.046545</td>\n      <td>11.000000</td>\n    </tr>\n    <tr>\n      <th>American Amber / Red Ale</th>\n      <td>0.057195</td>\n      <td>36.298701</td>\n    </tr>\n    <tr>\n      <th>American Amber / Red Lager</th>\n      <td>0.048063</td>\n      <td>23.250000</td>\n    </tr>\n    <tr>\n      <th>American Barleywine</th>\n      <td>0.099000</td>\n      <td>96.000000</td>\n    </tr>\n    <tr>\n      <th>American Black Ale</th>\n      <td>0.073150</td>\n      <td>68.900000</td>\n    </tr>\n    <tr>\n      <th>American Blonde Ale</th>\n      <td>0.050148</td>\n      <td>20.983607</td>\n    </tr>\n    <tr>\n      <th>American Brown Ale</th>\n      <td>0.057842</td>\n      <td>29.894737</td>\n    </tr>\n    <tr>\n      <th>American Dark Wheat Ale</th>\n      <td>0.052200</td>\n      <td>27.600000</td>\n    </tr>\n  </tbody>\n</table>\n</div>"
          },
          "metadata": {}
        }
      ]
    },
    {
      "cell_type": "markdown",
      "source": "Looking good! We have the information we need: the average `abv` and `ibu` by style, and the counts by style. The only problem is that `style_counts` is sorted by decreasing count value, while `style_means` is sorted alphabetically by style. Ugh.",
      "metadata": {
        "cell_id": "00069-8466d25c-68d8-46bc-96f5-bace9431823b",
        "deepnote_cell_type": "markdown"
      }
    },
    {
      "cell_type": "markdown",
      "source": "Notice that `style_means` is a dataframe that is now using the style string as a _label_ for each row. Meanwhile, `style_counts` is a `pandas` series, and it also uses the style as label or index to each element.\n\nMore online searching and we find the [`series.sort_index()`](https://pandas.pydata.org/pandas-docs/stable/generated/pandas.Series.sort_index.html) method. It will sort our style counts in alphabetical order of style, which is what we want.",
      "metadata": {
        "cell_id": "00070-3fff21fe-2fc3-4335-bcf3-92415ca1253c",
        "deepnote_cell_type": "markdown"
      }
    },
    {
      "cell_type": "code",
      "metadata": {
        "collapsed": true,
        "cell_id": "00071-4fc47b4b-eaad-4140-888c-b77c8af1d6db",
        "deepnote_to_be_reexecuted": false,
        "source_hash": "70ee362c",
        "execution_start": 1617800869334,
        "execution_millis": 1,
        "deepnote_cell_type": "code"
      },
      "source": "style_counts = style_counts.sort_index()",
      "execution_count": null,
      "outputs": []
    },
    {
      "cell_type": "code",
      "metadata": {
        "cell_id": "00072-4e79d760-d1e2-42e7-afaf-af0242879b36",
        "deepnote_to_be_reexecuted": false,
        "source_hash": "79432c5",
        "execution_start": 1617800870097,
        "execution_millis": 171,
        "deepnote_cell_type": "code"
      },
      "source": "style_counts[0:10]",
      "execution_count": null,
      "outputs": [
        {
          "output_type": "execute_result",
          "execution_count": 104,
          "data": {
            "text/plain": "Abbey Single Ale               2\nAltbier                        8\nAmerican Adjunct Lager        11\nAmerican Amber / Red Ale      77\nAmerican Amber / Red Lager    16\nAmerican Barleywine            2\nAmerican Black Ale            20\nAmerican Blonde Ale           61\nAmerican Brown Ale            38\nAmerican Dark Wheat Ale        5\nName: style, dtype: int64"
          },
          "metadata": {}
        }
      ]
    },
    {
      "cell_type": "markdown",
      "source": "Above, we used Matplotlib to create a scatter plot using two NumPy arrays as the `x` and `y` parameters. Like we saw previously with histograms, `pandas` also has available some plotting methods (calling Matplotlib internally). Scatter plots made easy!\n",
      "metadata": {
        "cell_id": "00073-1bf3d743-1c4c-4995-8f92-39925f7aa7a2",
        "deepnote_cell_type": "markdown"
      }
    },
    {
      "cell_type": "code",
      "metadata": {
        "cell_id": "00074-0bcc7fe0-c60b-4c90-b6ff-b30abb9552ef",
        "deepnote_to_be_reexecuted": false,
        "source_hash": "d71af3cb",
        "execution_start": 1617800881932,
        "execution_millis": 167,
        "deepnote_cell_type": "code"
      },
      "source": "style_means.plot.scatter(figsize=(8,8), \n                         x='abv', y='ibu', s=style_counts, \n                         title='Beer ABV vs. IBU mean values by style');",
      "execution_count": null,
      "outputs": [
        {
          "data": {
            "text/plain": "<Figure size 576x576 with 1 Axes>",
            "image/png": "[encoded data removed]"
          },
          "metadata": {
            "needs_background": "light"
          },
          "output_type": "display_data"
        }
      ]
    },
    {
      "cell_type": "markdown",
      "source": "That's rad! Perhaps the bubbles are too small. We could multiply the `style_counts` by a factor of 5, or maybe 10? You should experiment. ",
      "metadata": {
        "cell_id": "00075-63c21199-5f82-4527-a741-6a965b5090d5",
        "deepnote_cell_type": "markdown"
      }
    },
    {
      "cell_type": "markdown",
      "source": "But we are feeling gung-ho about this now, and decided to find a way to make the _color_ of the bubbles also vary with the style counts. Below, we import the [`colormap`](https://matplotlib.org/api/cm_api.html) module of Matplotlib, and we set our colors using the [_viridis_ colormap](https://matplotlib.org/examples/color/colormaps_reference.html) on the values of `style_counts`, then we repeat the plot with these colors on the bubbles and some transparency. _What do you think?_",
      "metadata": {
        "cell_id": "00076-1b744476-c67c-469f-943a-0f9b1c2dcdf2",
        "deepnote_cell_type": "markdown"
      }
    },
    {
      "cell_type": "code",
      "metadata": {
        "collapsed": true,
        "cell_id": "00077-aafefd3b-544b-4508-ba0f-064cec11b4fa",
        "deepnote_to_be_reexecuted": false,
        "source_hash": "cd18426b",
        "execution_start": 1617800904747,
        "execution_millis": 1,
        "deepnote_cell_type": "code"
      },
      "source": "from matplotlib import cm\ncolors = cm.viridis(style_counts.values)",
      "execution_count": null,
      "outputs": []
    },
    {
      "cell_type": "code",
      "metadata": {
        "cell_id": "00078-a7aa3c29-ef35-403c-a53a-edbab8bb080a",
        "deepnote_to_be_reexecuted": false,
        "source_hash": "b78f4441",
        "execution_start": 1617800916141,
        "execution_millis": 145,
        "deepnote_cell_type": "code"
      },
      "source": "style_means.plot.scatter(figsize=(10,10), \n                         x='abv', y='ibu', s=style_counts*20, color=colors,\n                         title='Beer ABV vs. IBU mean values by style\\n',\n                         alpha=0.3); #alpha sets the transparency",
      "execution_count": null,
      "outputs": [
        {
          "data": {
            "text/plain": "<Figure size 720x720 with 1 Axes>",
            "image/png": "[encoded data removed]"
          },
          "metadata": {
            "needs_background": "light"
          },
          "output_type": "display_data"
        }
      ]
    },
    {
      "cell_type": "markdown",
      "source": "It looks like the most popular beers do follow a linear relationship between alcohol fraction and IBU. We learned a lot about beer without having a sip!",
      "metadata": {
        "cell_id": "00079-2377fd93-0bcc-4eba-a526-bd403c6757c0",
        "deepnote_cell_type": "markdown"
      }
    },
    {
      "cell_type": "markdown",
      "source": "_Wait... one more thing!_ What if we add a text label next to the bigger bubbles, to identify the style? \n\nOK, here we go a bit overboard, but we couldn't help it. We played around a lot to get this version of the plot. It uses `enumerate` to get pairs of indices and values from a list of style names; an `if` statement to select only the large-count styles; and the [`iloc[]`](http://pandas.pydata.org/pandas-docs/version/0.17.0/generated/pandas.DataFrame.iloc.html) slicing method of `pandas` to get a slice based on index position, and extract `abv` and `ibu` values to an $(x,y)$ coordinate for placing the annotation text. _Are we overkeen or what!_ ",
      "metadata": {
        "cell_id": "00080-2c8089ed-2ca4-49f9-a365-a8c9127a0dab",
        "deepnote_cell_type": "markdown"
      }
    },
    {
      "cell_type": "code",
      "metadata": {
        "cell_id": "00081-0ec2f365-231f-423a-a98e-0dcb7e599fb1",
        "deepnote_to_be_reexecuted": false,
        "source_hash": "46fd5d1",
        "execution_start": 1617801010522,
        "execution_millis": 359,
        "deepnote_cell_type": "code"
      },
      "source": "ax = style_means.plot.scatter(figsize=(10,10), \n                               x='abv', y='ibu', s=style_counts*20, color=colors,\n                               title='Beer ABV vs. IBU mean values by style\\n',\n                               alpha=0.3);\n\nfor i, txt in enumerate(list(style_counts.index.values)):\n    if style_counts.values[i] > 65:\n        ax.annotate(txt, (style_means.abv.iloc[i],style_means.ibu.iloc[i]), fontsize=12)\n",
      "execution_count": null,
      "outputs": [
        {
          "data": {
            "text/plain": "<Figure size 720x720 with 1 Axes>",
            "image/png": "[encoded data removed]"
          },
          "metadata": {
            "needs_background": "light"
          },
          "output_type": "display_data"
        }
      ]
    },
    {
      "cell_type": "markdown",
      "source": "## What we've learned\n\n* You should always plot your data.\n* The concepts of quantitative and categorical data.\n* Plotting histograms directly on columns of dataframes, using `pandas`.\n* Computing variance and standard deviation using NumPy built-in functions.\n* The concept of median, and how to compute it with NumPy.\n* Making box plots using `pyplot`.\n* Five statistics of a box plot: the quartiles Q1, Q2 (median) and Q3 (and  interquartile range Q3$-$Q1), upper and lower extremes.\n* Visualizing categorical data with bar plots.\n* Visualizing multiple data with scatter plots and bubble charts.\n* `pandas` is awesome!",
      "metadata": {
        "cell_id": "00082-ce1941a6-1b8b-4ca2-80d2-7fb9089b3fdd",
        "deepnote_cell_type": "markdown"
      }
    },
    {
      "cell_type": "markdown",
      "source": "## References\n\n1. [Craft beer datatset](https://github.com/nickhould/craft-beers-dataset) by Jean-Nicholas Hould.\n2. [What's The Meaning Of IBU?](https://beerconnoisseur.com/articles/whats-meaning-ibu) by Jim Dykstra for The Beer Connoisseur (2015).\n3. 40 years of boxplots (2011). Hadley Wickham and Lisa Stryjewski, _Am. Statistician_. [PDF available](http://vita.had.co.nz/papers/boxplots.pdf)\n4. [John Wilder Tukey](https://www.britannica.com/biography/John-Wilder-Tukey), Encyclopædia Britannica.\n5. John W. Tukey: His life and professional contributions (2002). David R. Brillinger, _Ann. Statistics_. [PDF available](https://www.stat.berkeley.edu/~brill/Papers/life.pdf)",
      "metadata": {
        "cell_id": "00083-1a5b8b93-6758-4079-8da7-3a2ec43e7de7",
        "deepnote_cell_type": "markdown"
      }
    },
    {
      "cell_type": "markdown",
      "source": "### Recommended viewing\n\nFrom [\"Statistics in Medicine,\"](https://lagunita.stanford.edu/courses/Medicine/MedStats-SP/SelfPaced/about), a free course in Stanford Online by Prof. Kristin Sainani, we highly recommend that you watch this lecture:\n* [Looking at data](https://youtu.be/QYDuAo9r1xE)",
      "metadata": {
        "cell_id": "00084-738f7e8f-4091-414c-8a60-2210fe6c230e",
        "deepnote_cell_type": "markdown"
      }
    },
    {
      "cell_type": "code",
      "metadata": {
        "cell_id": "00085-4ca6374d-3dc5-4d50-8e10-7739691cd6aa",
        "deepnote_cell_type": "code"
      },
      "source": "# Execute this cell to load the notebook's style sheet, then ignore it\nfrom IPython.core.display import HTML\ncss_file = '../style/custom.css'\nHTML(open(css_file, \"r\").read())",
      "execution_count": null,
      "outputs": [
        {
          "data": {
            "text/html": "<link href=\"https://fonts.googleapis.com/css?family=Merriweather:300,300i,400,400i,700,700i,900,900i\" rel='stylesheet' >\n<link href=\"https://fonts.googleapis.com/css?family=Source+Sans+Pro:300,300i,400,400i,700,700i\" rel='stylesheet' >\n<link href='http://fonts.googleapis.com/css?family=Source+Code+Pro:300,400' rel='stylesheet' >\n<style>\n\n@font-face {\n    font-family: \"Computer Modern\";\n    src: url('http://mirrors.ctan.org/fonts/cm-unicode/fonts/otf/cmunss.otf');\n}\n\n\n#notebook_panel { /* main background */\n    background: rgb(245,245,245);\n}\n\ndiv.cell { /* set cell width */\n    width: 800px;\n}\n\ndiv #notebook { /* centre the content */\n    background: #fff; /* white background for content */\n    width: 1000px;\n    margin: auto;\n    padding-left: 0em;\n}\n\n#notebook li { /* More space between bullet points */\nmargin-top:0.5em;\n}\n\n/* draw border around running cells */\ndiv.cell.border-box-sizing.code_cell.running { \n    border: 1px solid #111;\n}\n\n/* Put a solid color box around each cell and its output, visually linking them*/\ndiv.cell.code_cell {\n    background-color: rgb(256,256,256); \n    border-radius: 0px; \n    padding: 0.5em;\n    margin-left:1em;\n    margin-top: 1em;\n}\n\n\ndiv.text_cell_render{\n    font-family: 'Source Sans Pro', sans-serif;\n    line-height: 140%;\n    font-size: 110%;\n    width:680px;\n    margin-left:auto;\n    margin-right:auto;\n}\n\n/* Formatting for header cells */\n.text_cell_render h1 {\n    font-family: 'Merriweather', serif;\n    font-style:regular;\n    font-weight: bold;    \n    font-size: 250%;\n    line-height: 100%;\n    color: #004065;\n    margin-bottom: 1em;\n    margin-top: 0.5em;\n    display: block;\n}\t\n.text_cell_render h2 {\n    font-family: 'Merriweather', serif;\n    font-weight: bold; \n    font-size: 180%;\n    line-height: 100%;\n    color: #0096d6;\n    margin-bottom: 0.5em;\n    margin-top: 0.5em;\n    display: block;\n}\t\n\n.text_cell_render h3 {\n    font-family: 'Merriweather', serif;\n\tfont-size: 150%;\n    margin-top:12px;\n    margin-bottom: 3px;\n    font-style: regular;\n    color: #008367;\n}\n\n.text_cell_render h4 {    /*Use this for captions*/\n    font-family: 'Merriweather', serif;\n    font-weight: 300; \n    font-size: 100%;\n    line-height: 120%;\n    text-align: center;\n    margin-top: 1em;\n    margin-bottom: 2em;\n    font-style: regular;\n}\n\n.text_cell_render h5 {  /*Use this for small titles*/\n    font-family: 'Source Sans Pro', sans-serif;\n    font-weight: regular;\n    font-size: 130%;\n    color: #e31937;\n    font-style: italic;\n    margin-bottom: .5em;\n    margin-top: 1em;\n    display: block;\n}\n\n.text_cell_render h6 { /*use this for copyright note*/\n    font-family: 'Source Code Pro', sans-serif;\n    font-weight: 300;\n    font-size: 9pt;\n    line-height: 100%;\n    color: grey;\n    margin-bottom: 1px;\n    margin-top: 1px;\n}\n\n    .CodeMirror{\n            font-family: \"Source Code Pro\";\n\t\t\tfont-size: 90%;\n    }\n/*    .prompt{\n        display: None;\n    }*/\n\t\n    \n    .warning{\n        color: rgb( 240, 20, 20 )\n        }  \n</style>\n<script>\n    MathJax.Hub.Config({\n                        TeX: {\n                           extensions: [\"AMSmath.js\"], \n                           equationNumbers: { autoNumber: \"AMS\", useLabelIds: true}\n                           },\n                tex2jax: {\n                    inlineMath: [ ['$','$'], [\"\\\\(\",\"\\\\)\"] ],\n                    displayMath: [ ['$$','$$'], [\"\\\\[\",\"\\\\]\"] ]\n                },\n                displayAlign: 'center', // Change this to 'center' to center equations.\n                \"HTML-CSS\": {\n                    styles: {'.MathJax_Display': {\"margin\": 4}}\n                }\n        });\n</script>\n",
            "text/plain": "<IPython.core.display.HTML object>"
          },
          "execution_count": 40,
          "metadata": {},
          "output_type": "execute_result"
        }
      ]
    },
    {
      "cell_type": "markdown",
      "source": "<a style='text-decoration:none;line-height:16px;display:flex;color:#5B5B62;padding:10px;justify-content:end;' href='https://deepnote.com?utm_source=created-in-deepnote-cell&projectId=796ba814-f632-4502-b0d7-7e2f8f9e546d' target=\"_blank\">\n<img alt='Created in deepnote.com' style='display:inline;max-height:16px;margin:0px;margin-right:7.5px;' src='data:image/svg+xml;base64,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' > </img>\nCreated in <span style='font-weight:600;margin-left:4px;'>Deepnote</span></a>",
      "metadata": {
        "tags": [],
        "created_in_deepnote_cell": true,
        "deepnote_cell_type": "markdown"
      }
    }
  ],
  "nbformat": 4,
  "nbformat_minor": 2,
  "metadata": {
    "kernelspec": {
      "display_name": "Python 3",
      "language": "python",
      "name": "python3"
    },
    "language_info": {
      "codemirror_mode": {
        "name": "ipython",
        "version": 3
      },
      "file_extension": ".py",
      "mimetype": "text/x-python",
      "name": "python",
      "nbconvert_exporter": "python",
      "pygments_lexer": "ipython3",
      "version": "3.8.5"
    },
    "widgets": {
      "state": {},
      "version": "1.1.2"
    },
    "deepnote_notebook_id": "66061c65-2684-4766-817c-231bfde58034",
    "deepnote": {},
    "deepnote_execution_queue": []
  }
}