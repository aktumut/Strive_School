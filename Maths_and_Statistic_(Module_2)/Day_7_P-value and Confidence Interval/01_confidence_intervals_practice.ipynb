{
  "cells": [
    {
      "cell_type": "markdown",
      "source": "# Practice notebook for confidence intervals using NHANES data\n\nThis notebook will give you the opportunity to practice working with confidence intervals using the NHANES data.\n\nYou can enter your code into the cells that say \"enter your code here\", and you can type responses to the questions into the cells that say \"Type Markdown and Latex\".\n\nNote that most of the code that you will need to write below is very similar to code that appears in the case study notebook.  You will need to edit code from that notebook in small ways to adapt it to the prompts below.\n\nTo get started, we will use the same module imports and read the data in the same way as we did in the case study:",
      "metadata": {
        "cell_id": "00000-126a370c-922e-42f9-9e18-209b899f9c88",
        "deepnote_cell_type": "markdown"
      }
    },
    {
      "cell_type": "code",
      "metadata": {
        "cell_id": "00001-81d53b2f-e807-41d9-8265-667746969c17",
        "deepnote_to_be_reexecuted": false,
        "source_hash": "96916212",
        "execution_millis": 245,
        "execution_start": 1617889139616,
        "deepnote_cell_type": "code"
      },
      "source": "%matplotlib inline\nimport matplotlib.pyplot as plt\nimport pandas as pd\nimport numpy as np\nimport seaborn as sns\nimport statsmodels.api as sm\n\nda = pd.read_csv(\"nhanes_2015_2016.csv\")\nda",
      "execution_count": 40,
      "outputs": [
        {
          "output_type": "execute_result",
          "execution_count": 40,
          "data": {
            "application/vnd.deepnote.dataframe.v2+json": {
              "row_count": 5735,
              "column_count": 28,
              "columns": [
                {
                  "name": "SEQN",
                  "dtype": "int64",
                  "stats": {
                    "unique_count": 5735,
                    "nan_count": 0,
                    "min": 83732,
                    "max": 93702,
                    "histogram": [
                      {
                        "bin_start": 83732,
                        "bin_end": 84729,
                        "count": 580
                      },
                      {
                        "bin_start": 84729,
                        "bin_end": 85726,
                        "count": 584
                      },
                      {
                        "bin_start": 85726,
                        "bin_end": 86723,
                        "count": 612
                      },
                      {
                        "bin_start": 86723,
                        "bin_end": 87720,
                        "count": 556
                      },
                      {
                        "bin_start": 87720,
                        "bin_end": 88717,
                        "count": 562
                      },
                      {
                        "bin_start": 88717,
                        "bin_end": 89714,
                        "count": 588
                      },
                      {
                        "bin_start": 89714,
                        "bin_end": 90711,
                        "count": 560
                      },
                      {
                        "bin_start": 90711,
                        "bin_end": 91708,
                        "count": 563
                      },
                      {
                        "bin_start": 91708,
                        "bin_end": 92705,
                        "count": 561
                      },
                      {
                        "bin_start": 92705,
                        "bin_end": 93702,
                        "count": 569
                      }
                    ]
                  }
                },
                {
                  "name": "ALQ101",
                  "dtype": "float64",
                  "stats": {
                    "unique_count": 3,
                    "nan_count": 527,
                    "min": 1,
                    "max": 9,
                    "histogram": [
                      {
                        "bin_start": 1,
                        "bin_end": 1.8,
                        "count": 3477
                      },
                      {
                        "bin_start": 1.8,
                        "bin_end": 2.6,
                        "count": 1728
                      },
                      {
                        "bin_start": 2.6,
                        "bin_end": 3.4000000000000004,
                        "count": 0
                      },
                      {
                        "bin_start": 3.4000000000000004,
                        "bin_end": 4.2,
                        "count": 0
                      },
                      {
                        "bin_start": 4.2,
                        "bin_end": 5,
                        "count": 0
                      },
                      {
                        "bin_start": 5,
                        "bin_end": 5.800000000000001,
                        "count": 0
                      },
                      {
                        "bin_start": 5.800000000000001,
                        "bin_end": 6.6000000000000005,
                        "count": 0
                      },
                      {
                        "bin_start": 6.6000000000000005,
                        "bin_end": 7.4,
                        "count": 0
                      },
                      {
                        "bin_start": 7.4,
                        "bin_end": 8.2,
                        "count": 0
                      },
                      {
                        "bin_start": 8.2,
                        "bin_end": 9,
                        "count": 3
                      }
                    ]
                  }
                },
                {
                  "name": "ALQ110",
                  "dtype": "float64",
                  "stats": {
                    "unique_count": 4,
                    "nan_count": 4004,
                    "min": 1,
                    "max": 9,
                    "histogram": [
                      {
                        "bin_start": 1,
                        "bin_end": 1.8,
                        "count": 747
                      },
                      {
                        "bin_start": 1.8,
                        "bin_end": 2.6,
                        "count": 979
                      },
                      {
                        "bin_start": 2.6,
                        "bin_end": 3.4000000000000004,
                        "count": 0
                      },
                      {
                        "bin_start": 3.4000000000000004,
                        "bin_end": 4.2,
                        "count": 0
                      },
                      {
                        "bin_start": 4.2,
                        "bin_end": 5,
                        "count": 0
                      },
                      {
                        "bin_start": 5,
                        "bin_end": 5.800000000000001,
                        "count": 0
                      },
                      {
                        "bin_start": 5.800000000000001,
                        "bin_end": 6.6000000000000005,
                        "count": 0
                      },
                      {
                        "bin_start": 6.6000000000000005,
                        "bin_end": 7.4,
                        "count": 1
                      },
                      {
                        "bin_start": 7.4,
                        "bin_end": 8.2,
                        "count": 0
                      },
                      {
                        "bin_start": 8.2,
                        "bin_end": 9,
                        "count": 4
                      }
                    ]
                  }
                },
                {
                  "name": "ALQ130",
                  "dtype": "float64",
                  "stats": {
                    "unique_count": 15,
                    "nan_count": 2356,
                    "min": 1,
                    "max": 999,
                    "histogram": [
                      {
                        "bin_start": 1,
                        "bin_end": 100.8,
                        "count": 3375
                      },
                      {
                        "bin_start": 100.8,
                        "bin_end": 200.6,
                        "count": 0
                      },
                      {
                        "bin_start": 200.6,
                        "bin_end": 300.4,
                        "count": 0
                      },
                      {
                        "bin_start": 300.4,
                        "bin_end": 400.2,
                        "count": 0
                      },
                      {
                        "bin_start": 400.2,
                        "bin_end": 500,
                        "count": 0
                      },
                      {
                        "bin_start": 500,
                        "bin_end": 599.8,
                        "count": 0
                      },
                      {
                        "bin_start": 599.8,
                        "bin_end": 699.6,
                        "count": 0
                      },
                      {
                        "bin_start": 699.6,
                        "bin_end": 799.4,
                        "count": 0
                      },
                      {
                        "bin_start": 799.4,
                        "bin_end": 899.1999999999999,
                        "count": 0
                      },
                      {
                        "bin_start": 899.1999999999999,
                        "bin_end": 999,
                        "count": 4
                      }
                    ]
                  }
                },
                {
                  "name": "SMQ020",
                  "dtype": "int64",
                  "stats": {
                    "unique_count": 4,
                    "nan_count": 0,
                    "min": 1,
                    "max": 9,
                    "histogram": [
                      {
                        "bin_start": 1,
                        "bin_end": 1.8,
                        "count": 2319
                      },
                      {
                        "bin_start": 1.8,
                        "bin_end": 2.6,
                        "count": 3406
                      },
                      {
                        "bin_start": 2.6,
                        "bin_end": 3.4000000000000004,
                        "count": 0
                      },
                      {
                        "bin_start": 3.4000000000000004,
                        "bin_end": 4.2,
                        "count": 0
                      },
                      {
                        "bin_start": 4.2,
                        "bin_end": 5,
                        "count": 0
                      },
                      {
                        "bin_start": 5,
                        "bin_end": 5.800000000000001,
                        "count": 0
                      },
                      {
                        "bin_start": 5.800000000000001,
                        "bin_end": 6.6000000000000005,
                        "count": 0
                      },
                      {
                        "bin_start": 6.6000000000000005,
                        "bin_end": 7.4,
                        "count": 2
                      },
                      {
                        "bin_start": 7.4,
                        "bin_end": 8.2,
                        "count": 0
                      },
                      {
                        "bin_start": 8.2,
                        "bin_end": 9,
                        "count": 8
                      }
                    ]
                  }
                },
                {
                  "name": "RIAGENDR",
                  "dtype": "int64",
                  "stats": {
                    "unique_count": 2,
                    "nan_count": 0,
                    "min": 1,
                    "max": 2,
                    "histogram": [
                      {
                        "bin_start": 1,
                        "bin_end": 1.1,
                        "count": 2759
                      },
                      {
                        "bin_start": 1.1,
                        "bin_end": 1.2,
                        "count": 0
                      },
                      {
                        "bin_start": 1.2,
                        "bin_end": 1.3,
                        "count": 0
                      },
                      {
                        "bin_start": 1.3,
                        "bin_end": 1.4,
                        "count": 0
                      },
                      {
                        "bin_start": 1.4,
                        "bin_end": 1.5,
                        "count": 0
                      },
                      {
                        "bin_start": 1.5,
                        "bin_end": 1.6,
                        "count": 0
                      },
                      {
                        "bin_start": 1.6,
                        "bin_end": 1.7000000000000002,
                        "count": 0
                      },
                      {
                        "bin_start": 1.7000000000000002,
                        "bin_end": 1.8,
                        "count": 0
                      },
                      {
                        "bin_start": 1.8,
                        "bin_end": 1.9,
                        "count": 0
                      },
                      {
                        "bin_start": 1.9,
                        "bin_end": 2,
                        "count": 2976
                      }
                    ]
                  }
                },
                {
                  "name": "RIDAGEYR",
                  "dtype": "int64",
                  "stats": {
                    "unique_count": 63,
                    "nan_count": 0,
                    "min": 18,
                    "max": 80,
                    "histogram": [
                      {
                        "bin_start": 18,
                        "bin_end": 24.2,
                        "count": 682
                      },
                      {
                        "bin_start": 24.2,
                        "bin_end": 30.4,
                        "count": 604
                      },
                      {
                        "bin_start": 30.4,
                        "bin_end": 36.6,
                        "count": 591
                      },
                      {
                        "bin_start": 36.6,
                        "bin_end": 42.8,
                        "count": 524
                      },
                      {
                        "bin_start": 42.8,
                        "bin_end": 49,
                        "count": 561
                      },
                      {
                        "bin_start": 49,
                        "bin_end": 55.2,
                        "count": 644
                      },
                      {
                        "bin_start": 55.2,
                        "bin_end": 61.4,
                        "count": 551
                      },
                      {
                        "bin_start": 61.4,
                        "bin_end": 67.6,
                        "count": 532
                      },
                      {
                        "bin_start": 67.6,
                        "bin_end": 73.80000000000001,
                        "count": 420
                      },
                      {
                        "bin_start": 73.80000000000001,
                        "bin_end": 80,
                        "count": 626
                      }
                    ]
                  }
                },
                {
                  "name": "RIDRETH1",
                  "dtype": "int64",
                  "stats": {
                    "unique_count": 5,
                    "nan_count": 0,
                    "min": 1,
                    "max": 5,
                    "histogram": [
                      {
                        "bin_start": 1,
                        "bin_end": 1.4,
                        "count": 1018
                      },
                      {
                        "bin_start": 1.4,
                        "bin_end": 1.8,
                        "count": 0
                      },
                      {
                        "bin_start": 1.8,
                        "bin_end": 2.2,
                        "count": 750
                      },
                      {
                        "bin_start": 2.2,
                        "bin_end": 2.6,
                        "count": 0
                      },
                      {
                        "bin_start": 2.6,
                        "bin_end": 3,
                        "count": 0
                      },
                      {
                        "bin_start": 3,
                        "bin_end": 3.4000000000000004,
                        "count": 1839
                      },
                      {
                        "bin_start": 3.4000000000000004,
                        "bin_end": 3.8000000000000003,
                        "count": 0
                      },
                      {
                        "bin_start": 3.8000000000000003,
                        "bin_end": 4.2,
                        "count": 1227
                      },
                      {
                        "bin_start": 4.2,
                        "bin_end": 4.6,
                        "count": 0
                      },
                      {
                        "bin_start": 4.6,
                        "bin_end": 5,
                        "count": 901
                      }
                    ]
                  }
                },
                {
                  "name": "DMDCITZN",
                  "dtype": "float64",
                  "stats": {
                    "unique_count": 4,
                    "nan_count": 1,
                    "min": 1,
                    "max": 9,
                    "histogram": [
                      {
                        "bin_start": 1,
                        "bin_end": 1.8,
                        "count": 4746
                      },
                      {
                        "bin_start": 1.8,
                        "bin_end": 2.6,
                        "count": 975
                      },
                      {
                        "bin_start": 2.6,
                        "bin_end": 3.4000000000000004,
                        "count": 0
                      },
                      {
                        "bin_start": 3.4000000000000004,
                        "bin_end": 4.2,
                        "count": 0
                      },
                      {
                        "bin_start": 4.2,
                        "bin_end": 5,
                        "count": 0
                      },
                      {
                        "bin_start": 5,
                        "bin_end": 5.800000000000001,
                        "count": 0
                      },
                      {
                        "bin_start": 5.800000000000001,
                        "bin_end": 6.6000000000000005,
                        "count": 0
                      },
                      {
                        "bin_start": 6.6000000000000005,
                        "bin_end": 7.4,
                        "count": 8
                      },
                      {
                        "bin_start": 7.4,
                        "bin_end": 8.2,
                        "count": 0
                      },
                      {
                        "bin_start": 8.2,
                        "bin_end": 9,
                        "count": 5
                      }
                    ]
                  }
                },
                {
                  "name": "DMDEDUC2",
                  "dtype": "float64",
                  "stats": {
                    "unique_count": 6,
                    "nan_count": 261,
                    "min": 1,
                    "max": 9,
                    "histogram": [
                      {
                        "bin_start": 1,
                        "bin_end": 1.8,
                        "count": 655
                      },
                      {
                        "bin_start": 1.8,
                        "bin_end": 2.6,
                        "count": 643
                      },
                      {
                        "bin_start": 2.6,
                        "bin_end": 3.4000000000000004,
                        "count": 1186
                      },
                      {
                        "bin_start": 3.4000000000000004,
                        "bin_end": 4.2,
                        "count": 1621
                      },
                      {
                        "bin_start": 4.2,
                        "bin_end": 5,
                        "count": 0
                      },
                      {
                        "bin_start": 5,
                        "bin_end": 5.800000000000001,
                        "count": 1366
                      },
                      {
                        "bin_start": 5.800000000000001,
                        "bin_end": 6.6000000000000005,
                        "count": 0
                      },
                      {
                        "bin_start": 6.6000000000000005,
                        "bin_end": 7.4,
                        "count": 0
                      },
                      {
                        "bin_start": 7.4,
                        "bin_end": 8.2,
                        "count": 0
                      },
                      {
                        "bin_start": 8.2,
                        "bin_end": 9,
                        "count": 3
                      }
                    ]
                  }
                },
                {
                  "name": "DMDMARTL",
                  "dtype": "float64",
                  "stats": {
                    "unique_count": 7,
                    "nan_count": 261,
                    "min": 1,
                    "max": 77,
                    "histogram": [
                      {
                        "bin_start": 1,
                        "bin_end": 8.6,
                        "count": 5472
                      },
                      {
                        "bin_start": 8.6,
                        "bin_end": 16.2,
                        "count": 0
                      },
                      {
                        "bin_start": 16.2,
                        "bin_end": 23.799999999999997,
                        "count": 0
                      },
                      {
                        "bin_start": 23.799999999999997,
                        "bin_end": 31.4,
                        "count": 0
                      },
                      {
                        "bin_start": 31.4,
                        "bin_end": 39,
                        "count": 0
                      },
                      {
                        "bin_start": 39,
                        "bin_end": 46.599999999999994,
                        "count": 0
                      },
                      {
                        "bin_start": 46.599999999999994,
                        "bin_end": 54.199999999999996,
                        "count": 0
                      },
                      {
                        "bin_start": 54.199999999999996,
                        "bin_end": 61.8,
                        "count": 0
                      },
                      {
                        "bin_start": 61.8,
                        "bin_end": 69.39999999999999,
                        "count": 0
                      },
                      {
                        "bin_start": 69.39999999999999,
                        "bin_end": 77,
                        "count": 2
                      }
                    ]
                  }
                },
                {
                  "name": "DMDHHSIZ",
                  "dtype": "int64",
                  "stats": {
                    "unique_count": 7,
                    "nan_count": 0,
                    "min": 1,
                    "max": 7,
                    "histogram": [
                      {
                        "bin_start": 1,
                        "bin_end": 1.6,
                        "count": 770
                      },
                      {
                        "bin_start": 1.6,
                        "bin_end": 2.2,
                        "count": 1546
                      },
                      {
                        "bin_start": 2.2,
                        "bin_end": 2.8,
                        "count": 0
                      },
                      {
                        "bin_start": 2.8,
                        "bin_end": 3.4,
                        "count": 1037
                      },
                      {
                        "bin_start": 3.4,
                        "bin_end": 4,
                        "count": 0
                      },
                      {
                        "bin_start": 4,
                        "bin_end": 4.6,
                        "count": 936
                      },
                      {
                        "bin_start": 4.6,
                        "bin_end": 5.2,
                        "count": 699
                      },
                      {
                        "bin_start": 5.2,
                        "bin_end": 5.8,
                        "count": 0
                      },
                      {
                        "bin_start": 5.8,
                        "bin_end": 6.3999999999999995,
                        "count": 379
                      },
                      {
                        "bin_start": 6.3999999999999995,
                        "bin_end": 7,
                        "count": 368
                      }
                    ]
                  }
                },
                {
                  "name": "WTINT2YR",
                  "dtype": "float64",
                  "stats": {
                    "unique_count": 4355,
                    "nan_count": 0,
                    "min": 5330.96,
                    "max": 233755.84,
                    "histogram": [
                      {
                        "bin_start": 5330.96,
                        "bin_end": 28173.448,
                        "count": 3360
                      },
                      {
                        "bin_start": 28173.448,
                        "bin_end": 51015.936,
                        "count": 1150
                      },
                      {
                        "bin_start": 51015.936,
                        "bin_end": 73858.42400000001,
                        "count": 297
                      },
                      {
                        "bin_start": 73858.42400000001,
                        "bin_end": 96700.91200000001,
                        "count": 255
                      },
                      {
                        "bin_start": 96700.91200000001,
                        "bin_end": 119543.40000000001,
                        "count": 249
                      },
                      {
                        "bin_start": 119543.40000000001,
                        "bin_end": 142385.888,
                        "count": 216
                      },
                      {
                        "bin_start": 142385.888,
                        "bin_end": 165228.376,
                        "count": 147
                      },
                      {
                        "bin_start": 165228.376,
                        "bin_end": 188070.864,
                        "count": 42
                      },
                      {
                        "bin_start": 188070.864,
                        "bin_end": 210913.352,
                        "count": 12
                      },
                      {
                        "bin_start": 210913.352,
                        "bin_end": 233755.84,
                        "count": 7
                      }
                    ]
                  }
                },
                {
                  "name": "SDMVPSU",
                  "dtype": "int64",
                  "stats": {
                    "unique_count": 2,
                    "nan_count": 0,
                    "min": 1,
                    "max": 2,
                    "histogram": [
                      {
                        "bin_start": 1,
                        "bin_end": 1.1,
                        "count": 2937
                      },
                      {
                        "bin_start": 1.1,
                        "bin_end": 1.2,
                        "count": 0
                      },
                      {
                        "bin_start": 1.2,
                        "bin_end": 1.3,
                        "count": 0
                      },
                      {
                        "bin_start": 1.3,
                        "bin_end": 1.4,
                        "count": 0
                      },
                      {
                        "bin_start": 1.4,
                        "bin_end": 1.5,
                        "count": 0
                      },
                      {
                        "bin_start": 1.5,
                        "bin_end": 1.6,
                        "count": 0
                      },
                      {
                        "bin_start": 1.6,
                        "bin_end": 1.7000000000000002,
                        "count": 0
                      },
                      {
                        "bin_start": 1.7000000000000002,
                        "bin_end": 1.8,
                        "count": 0
                      },
                      {
                        "bin_start": 1.8,
                        "bin_end": 1.9,
                        "count": 0
                      },
                      {
                        "bin_start": 1.9,
                        "bin_end": 2,
                        "count": 2798
                      }
                    ]
                  }
                },
                {
                  "name": "SDMVSTRA",
                  "dtype": "int64",
                  "stats": {
                    "unique_count": 15,
                    "nan_count": 0,
                    "min": 119,
                    "max": 133,
                    "histogram": [
                      {
                        "bin_start": 119,
                        "bin_end": 120.4,
                        "count": 641
                      },
                      {
                        "bin_start": 120.4,
                        "bin_end": 121.8,
                        "count": 390
                      },
                      {
                        "bin_start": 121.8,
                        "bin_end": 123.2,
                        "count": 740
                      },
                      {
                        "bin_start": 123.2,
                        "bin_end": 124.6,
                        "count": 366
                      },
                      {
                        "bin_start": 124.6,
                        "bin_end": 126,
                        "count": 434
                      },
                      {
                        "bin_start": 126,
                        "bin_end": 127.4,
                        "count": 764
                      },
                      {
                        "bin_start": 127.4,
                        "bin_end": 128.8,
                        "count": 388
                      },
                      {
                        "bin_start": 128.8,
                        "bin_end": 130.2,
                        "count": 781
                      },
                      {
                        "bin_start": 130.2,
                        "bin_end": 131.6,
                        "count": 434
                      },
                      {
                        "bin_start": 131.6,
                        "bin_end": 133,
                        "count": 797
                      }
                    ]
                  }
                },
                {
                  "name": "INDFMPIR",
                  "dtype": "float64",
                  "stats": {
                    "unique_count": 440,
                    "nan_count": 601,
                    "min": 0,
                    "max": 5,
                    "histogram": [
                      {
                        "bin_start": 0,
                        "bin_end": 0.5,
                        "count": 398
                      },
                      {
                        "bin_start": 0.5,
                        "bin_end": 1,
                        "count": 781
                      },
                      {
                        "bin_start": 1,
                        "bin_end": 1.5,
                        "count": 787
                      },
                      {
                        "bin_start": 1.5,
                        "bin_end": 2,
                        "count": 619
                      },
                      {
                        "bin_start": 2,
                        "bin_end": 2.5,
                        "count": 455
                      },
                      {
                        "bin_start": 2.5,
                        "bin_end": 3,
                        "count": 421
                      },
                      {
                        "bin_start": 3,
                        "bin_end": 3.5,
                        "count": 262
                      },
                      {
                        "bin_start": 3.5,
                        "bin_end": 4,
                        "count": 224
                      },
                      {
                        "bin_start": 4,
                        "bin_end": 4.5,
                        "count": 211
                      },
                      {
                        "bin_start": 4.5,
                        "bin_end": 5,
                        "count": 976
                      }
                    ]
                  }
                },
                {
                  "name": "BPXSY1",
                  "dtype": "float64",
                  "stats": {
                    "unique_count": 68,
                    "nan_count": 334,
                    "min": 82,
                    "max": 236,
                    "histogram": [
                      {
                        "bin_start": 82,
                        "bin_end": 97.4,
                        "count": 141
                      },
                      {
                        "bin_start": 97.4,
                        "bin_end": 112.8,
                        "count": 1264
                      },
                      {
                        "bin_start": 112.8,
                        "bin_end": 128.2,
                        "count": 2132
                      },
                      {
                        "bin_start": 128.2,
                        "bin_end": 143.6,
                        "count": 1044
                      },
                      {
                        "bin_start": 143.6,
                        "bin_end": 159,
                        "count": 547
                      },
                      {
                        "bin_start": 159,
                        "bin_end": 174.4,
                        "count": 177
                      },
                      {
                        "bin_start": 174.4,
                        "bin_end": 189.8,
                        "count": 61
                      },
                      {
                        "bin_start": 189.8,
                        "bin_end": 205.2,
                        "count": 26
                      },
                      {
                        "bin_start": 205.2,
                        "bin_end": 220.6,
                        "count": 7
                      },
                      {
                        "bin_start": 220.6,
                        "bin_end": 236,
                        "count": 2
                      }
                    ]
                  }
                },
                {
                  "name": "BPXDI1",
                  "dtype": "float64"
                },
                {
                  "name": "BPXSY2",
                  "dtype": "float64"
                },
                {
                  "name": "BPXDI2",
                  "dtype": "float64"
                },
                {
                  "name": "BMXWT",
                  "dtype": "float64"
                },
                {
                  "name": "BMXHT",
                  "dtype": "float64"
                },
                {
                  "name": "BMXBMI",
                  "dtype": "float64"
                },
                {
                  "name": "BMXLEG",
                  "dtype": "float64"
                },
                {
                  "name": "BMXARML",
                  "dtype": "float64"
                },
                {
                  "name": "BMXARMC",
                  "dtype": "float64"
                },
                {
                  "name": "BMXWAIST",
                  "dtype": "float64"
                },
                {
                  "name": "HIQ210",
                  "dtype": "float64"
                },
                {
                  "name": "_deepnote_index_column",
                  "dtype": "int64"
                }
              ],
              "rows_top": [
                {
                  "SEQN": 83732,
                  "ALQ101": "1.0",
                  "ALQ110": "nan",
                  "ALQ130": "1.0",
                  "SMQ020": 1,
                  "RIAGENDR": 1,
                  "RIDAGEYR": 62,
                  "RIDRETH1": 3,
                  "DMDCITZN": 1,
                  "DMDEDUC2": "5.0",
                  "DMDMARTL": "1.0",
                  "DMDHHSIZ": 2,
                  "WTINT2YR": 134671.37,
                  "SDMVPSU": 1,
                  "SDMVSTRA": 125,
                  "INDFMPIR": 4.39,
                  "BPXSY1": "128.0",
                  "BPXDI1": "70.0",
                  "BPXSY2": "124.0",
                  "BPXDI2": "64.0",
                  "BMXWT": 94.8,
                  "BMXHT": 184.5,
                  "BMXBMI": 27.8,
                  "BMXLEG": "43.3",
                  "BMXARML": "43.6",
                  "BMXARMC": "35.9",
                  "BMXWAIST": "101.1",
                  "HIQ210": "2.0",
                  "_deepnote_index_column": 0
                },
                {
                  "SEQN": 83733,
                  "ALQ101": "1.0",
                  "ALQ110": "nan",
                  "ALQ130": "6.0",
                  "SMQ020": 1,
                  "RIAGENDR": 1,
                  "RIDAGEYR": 53,
                  "RIDRETH1": 3,
                  "DMDCITZN": 2,
                  "DMDEDUC2": "3.0",
                  "DMDMARTL": "3.0",
                  "DMDHHSIZ": 1,
                  "WTINT2YR": 24328.56,
                  "SDMVPSU": 1,
                  "SDMVSTRA": 125,
                  "INDFMPIR": 1.32,
                  "BPXSY1": "146.0",
                  "BPXDI1": "88.0",
                  "BPXSY2": "140.0",
                  "BPXDI2": "88.0",
                  "BMXWT": 90.4,
                  "BMXHT": 171.4,
                  "BMXBMI": 30.8,
                  "BMXLEG": "38.0",
                  "BMXARML": "40.0",
                  "BMXARMC": "33.2",
                  "BMXWAIST": "107.9",
                  "HIQ210": "nan",
                  "_deepnote_index_column": 1
                },
                {
                  "SEQN": 83734,
                  "ALQ101": "1.0",
                  "ALQ110": "nan",
                  "ALQ130": "nan",
                  "SMQ020": 1,
                  "RIAGENDR": 1,
                  "RIDAGEYR": 78,
                  "RIDRETH1": 3,
                  "DMDCITZN": 1,
                  "DMDEDUC2": "3.0",
                  "DMDMARTL": "1.0",
                  "DMDHHSIZ": 2,
                  "WTINT2YR": 12400.01,
                  "SDMVPSU": 1,
                  "SDMVSTRA": 131,
                  "INDFMPIR": 1.51,
                  "BPXSY1": "138.0",
                  "BPXDI1": "46.0",
                  "BPXSY2": "132.0",
                  "BPXDI2": "44.0",
                  "BMXWT": 83.4,
                  "BMXHT": 170.1,
                  "BMXBMI": 28.8,
                  "BMXLEG": "35.6",
                  "BMXARML": "37.0",
                  "BMXARMC": "31.0",
                  "BMXWAIST": "116.5",
                  "HIQ210": "2.0",
                  "_deepnote_index_column": 2
                },
                {
                  "SEQN": 83735,
                  "ALQ101": "2.0",
                  "ALQ110": "1.0",
                  "ALQ130": "1.0",
                  "SMQ020": 2,
                  "RIAGENDR": 2,
                  "RIDAGEYR": 56,
                  "RIDRETH1": 3,
                  "DMDCITZN": 1,
                  "DMDEDUC2": "5.0",
                  "DMDMARTL": "6.0",
                  "DMDHHSIZ": 1,
                  "WTINT2YR": 102718,
                  "SDMVPSU": 1,
                  "SDMVSTRA": 131,
                  "INDFMPIR": 5,
                  "BPXSY1": "132.0",
                  "BPXDI1": "72.0",
                  "BPXSY2": "134.0",
                  "BPXDI2": "68.0",
                  "BMXWT": 109.8,
                  "BMXHT": 160.9,
                  "BMXBMI": 42.4,
                  "BMXLEG": "38.5",
                  "BMXARML": "37.7",
                  "BMXARMC": "38.3",
                  "BMXWAIST": "110.1",
                  "HIQ210": "2.0",
                  "_deepnote_index_column": 3
                },
                {
                  "SEQN": 83736,
                  "ALQ101": "2.0",
                  "ALQ110": "1.0",
                  "ALQ130": "1.0",
                  "SMQ020": 2,
                  "RIAGENDR": 2,
                  "RIDAGEYR": 42,
                  "RIDRETH1": 4,
                  "DMDCITZN": 1,
                  "DMDEDUC2": "4.0",
                  "DMDMARTL": "3.0",
                  "DMDHHSIZ": 5,
                  "WTINT2YR": 17627.67,
                  "SDMVPSU": 2,
                  "SDMVSTRA": 126,
                  "INDFMPIR": 1.23,
                  "BPXSY1": "100.0",
                  "BPXDI1": "70.0",
                  "BPXSY2": "114.0",
                  "BPXDI2": "54.0",
                  "BMXWT": 55.2,
                  "BMXHT": 164.9,
                  "BMXBMI": 20.3,
                  "BMXLEG": "37.4",
                  "BMXARML": "36.0",
                  "BMXARMC": "27.2",
                  "BMXWAIST": "80.4",
                  "HIQ210": "2.0",
                  "_deepnote_index_column": 4
                },
                {
                  "SEQN": 83737,
                  "ALQ101": "2.0",
                  "ALQ110": "2.0",
                  "ALQ130": "nan",
                  "SMQ020": 2,
                  "RIAGENDR": 2,
                  "RIDAGEYR": 72,
                  "RIDRETH1": 1,
                  "DMDCITZN": 2,
                  "DMDEDUC2": "2.0",
                  "DMDMARTL": "4.0",
                  "DMDHHSIZ": 5,
                  "WTINT2YR": 11252.31,
                  "SDMVPSU": 1,
                  "SDMVSTRA": 128,
                  "INDFMPIR": 2.82,
                  "BPXSY1": "116.0",
                  "BPXDI1": "58.0",
                  "BPXSY2": "122.0",
                  "BPXDI2": "58.0",
                  "BMXWT": 64.4,
                  "BMXHT": 150,
                  "BMXBMI": 28.6,
                  "BMXLEG": "34.4",
                  "BMXARML": "33.5",
                  "BMXARMC": "31.4",
                  "BMXWAIST": "92.9",
                  "HIQ210": "nan",
                  "_deepnote_index_column": 5
                },
                {
                  "SEQN": 83741,
                  "ALQ101": "1.0",
                  "ALQ110": "nan",
                  "ALQ130": "8.0",
                  "SMQ020": 1,
                  "RIAGENDR": 1,
                  "RIDAGEYR": 22,
                  "RIDRETH1": 4,
                  "DMDCITZN": 1,
                  "DMDEDUC2": "4.0",
                  "DMDMARTL": "5.0",
                  "DMDHHSIZ": 3,
                  "WTINT2YR": 37043.09,
                  "SDMVPSU": 2,
                  "SDMVSTRA": 128,
                  "INDFMPIR": 2.08,
                  "BPXSY1": "110.0",
                  "BPXDI1": "70.0",
                  "BPXSY2": "112.0",
                  "BPXDI2": "74.0",
                  "BMXWT": 76.6,
                  "BMXHT": 165.4,
                  "BMXBMI": 28,
                  "BMXLEG": "38.8",
                  "BMXARML": "38.0",
                  "BMXARMC": "34.0",
                  "BMXWAIST": "86.6",
                  "HIQ210": "nan",
                  "_deepnote_index_column": 6
                },
                {
                  "SEQN": 83742,
                  "ALQ101": "1.0",
                  "ALQ110": "nan",
                  "ALQ130": "1.0",
                  "SMQ020": 2,
                  "RIAGENDR": 2,
                  "RIDAGEYR": 32,
                  "RIDRETH1": 1,
                  "DMDCITZN": 2,
                  "DMDEDUC2": "4.0",
                  "DMDMARTL": "1.0",
                  "DMDHHSIZ": 4,
                  "WTINT2YR": 22744.36,
                  "SDMVPSU": 1,
                  "SDMVSTRA": 125,
                  "INDFMPIR": 1.03,
                  "BPXSY1": "120.0",
                  "BPXDI1": "70.0",
                  "BPXSY2": "114.0",
                  "BPXDI2": "70.0",
                  "BMXWT": 64.5,
                  "BMXHT": 151.3,
                  "BMXBMI": 28.2,
                  "BMXLEG": "34.1",
                  "BMXARML": "33.1",
                  "BMXARMC": "31.5",
                  "BMXWAIST": "93.3",
                  "HIQ210": "2.0",
                  "_deepnote_index_column": 7
                },
                {
                  "SEQN": 83743,
                  "ALQ101": "nan",
                  "ALQ110": "nan",
                  "ALQ130": "nan",
                  "SMQ020": 2,
                  "RIAGENDR": 1,
                  "RIDAGEYR": 18,
                  "RIDRETH1": 5,
                  "DMDCITZN": 1,
                  "DMDEDUC2": "nan",
                  "DMDMARTL": "nan",
                  "DMDHHSIZ": 3,
                  "WTINT2YR": 18526.16,
                  "SDMVPSU": 2,
                  "SDMVSTRA": 122,
                  "INDFMPIR": 5,
                  "BPXSY1": "nan",
                  "BPXDI1": "nan",
                  "BPXSY2": "nan",
                  "BPXDI2": "nan",
                  "BMXWT": 72.4,
                  "BMXHT": 166.1,
                  "BMXBMI": 26.2,
                  "BMXLEG": "nan",
                  "BMXARML": "nan",
                  "BMXARMC": "nan",
                  "BMXWAIST": "nan",
                  "HIQ210": "2.0",
                  "_deepnote_index_column": 8
                },
                {
                  "SEQN": 83744,
                  "ALQ101": "1.0",
                  "ALQ110": "nan",
                  "ALQ130": "nan",
                  "SMQ020": 2,
                  "RIAGENDR": 1,
                  "RIDAGEYR": 56,
                  "RIDRETH1": 4,
                  "DMDCITZN": 1,
                  "DMDEDUC2": "3.0",
                  "DMDMARTL": "3.0",
                  "DMDHHSIZ": 1,
                  "WTINT2YR": 20395.54,
                  "SDMVPSU": 2,
                  "SDMVSTRA": 126,
                  "INDFMPIR": 1.19,
                  "BPXSY1": "178.0",
                  "BPXDI1": "116.0",
                  "BPXSY2": "180.0",
                  "BPXDI2": "114.0",
                  "BMXWT": 108.3,
                  "BMXHT": 179.4,
                  "BMXBMI": 33.6,
                  "BMXLEG": "46.0",
                  "BMXARML": "44.1",
                  "BMXARMC": "38.5",
                  "BMXWAIST": "116.0",
                  "HIQ210": "2.0",
                  "_deepnote_index_column": 9
                },
                {
                  "SEQN": 83747,
                  "ALQ101": "1.0",
                  "ALQ110": "nan",
                  "ALQ130": "1.0",
                  "SMQ020": 1,
                  "RIAGENDR": 1,
                  "RIDAGEYR": 46,
                  "RIDRETH1": 3,
                  "DMDCITZN": 1,
                  "DMDEDUC2": "5.0",
                  "DMDMARTL": "6.0",
                  "DMDHHSIZ": 2,
                  "WTINT2YR": 34513.08,
                  "SDMVPSU": 1,
                  "SDMVSTRA": 121,
                  "INDFMPIR": 0.75,
                  "BPXSY1": "144.0",
                  "BPXDI1": "94.0",
                  "BPXSY2": "150.0",
                  "BPXDI2": "90.0",
                  "BMXWT": 86.2,
                  "BMXHT": 176.7,
                  "BMXBMI": 27.6,
                  "BMXLEG": "41.0",
                  "BMXARML": "38.0",
                  "BMXARMC": "33.6",
                  "BMXWAIST": "104.3",
                  "HIQ210": "2.0",
                  "_deepnote_index_column": 10
                },
                {
                  "SEQN": 83750,
                  "ALQ101": "1.0",
                  "ALQ110": "nan",
                  "ALQ130": "3.0",
                  "SMQ020": 1,
                  "RIAGENDR": 1,
                  "RIDAGEYR": 45,
                  "RIDRETH1": 5,
                  "DMDCITZN": 1,
                  "DMDEDUC2": "2.0",
                  "DMDMARTL": "5.0",
                  "DMDHHSIZ": 5,
                  "WTINT2YR": 96194.93,
                  "SDMVPSU": 1,
                  "SDMVSTRA": 125,
                  "INDFMPIR": 1.36,
                  "BPXSY1": "116.0",
                  "BPXDI1": "70.0",
                  "BPXSY2": "108.0",
                  "BPXDI2": "72.0",
                  "BMXWT": 76.2,
                  "BMXHT": 177.8,
                  "BMXBMI": 24.1,
                  "BMXLEG": "43.9",
                  "BMXARML": "37.8",
                  "BMXARMC": "33.0",
                  "BMXWAIST": "90.1",
                  "HIQ210": "nan",
                  "_deepnote_index_column": 11
                },
                {
                  "SEQN": 83752,
                  "ALQ101": "1.0",
                  "ALQ110": "nan",
                  "ALQ130": "2.0",
                  "SMQ020": 1,
                  "RIAGENDR": 2,
                  "RIDAGEYR": 30,
                  "RIDRETH1": 2,
                  "DMDCITZN": 1,
                  "DMDEDUC2": "4.0",
                  "DMDMARTL": "6.0",
                  "DMDHHSIZ": 2,
                  "WTINT2YR": 36978.42,
                  "SDMVPSU": 1,
                  "SDMVSTRA": 124,
                  "INDFMPIR": 5,
                  "BPXSY1": "104.0",
                  "BPXDI1": "50.0",
                  "BPXSY2": "104.0",
                  "BPXDI2": "50.0",
                  "BMXWT": 71.2,
                  "BMXHT": 163.6,
                  "BMXBMI": 26.6,
                  "BMXLEG": "37.3",
                  "BMXARML": "35.7",
                  "BMXARMC": "31.0",
                  "BMXWAIST": "90.7",
                  "HIQ210": "2.0",
                  "_deepnote_index_column": 12
                },
                {
                  "SEQN": 83754,
                  "ALQ101": "2.0",
                  "ALQ110": "1.0",
                  "ALQ130": "1.0",
                  "SMQ020": 2,
                  "RIAGENDR": 2,
                  "RIDAGEYR": 67,
                  "RIDRETH1": 2,
                  "DMDCITZN": 1,
                  "DMDEDUC2": "5.0",
                  "DMDMARTL": "1.0",
                  "DMDHHSIZ": 7,
                  "WTINT2YR": 10495.87,
                  "SDMVPSU": 1,
                  "SDMVSTRA": 128,
                  "INDFMPIR": 0.89,
                  "BPXSY1": "124.0",
                  "BPXDI1": "76.0",
                  "BPXSY2": "116.0",
                  "BPXDI2": "64.0",
                  "BMXWT": 117.8,
                  "BMXHT": 164.1,
                  "BMXBMI": 43.7,
                  "BMXLEG": "34.8",
                  "BMXARML": "38.6",
                  "BMXARMC": "42.7",
                  "BMXWAIST": "123.0",
                  "HIQ210": "2.0",
                  "_deepnote_index_column": 13
                },
                {
                  "SEQN": 83755,
                  "ALQ101": "1.0",
                  "ALQ110": "nan",
                  "ALQ130": "3.0",
                  "SMQ020": 2,
                  "RIAGENDR": 1,
                  "RIDAGEYR": 67,
                  "RIDRETH1": 4,
                  "DMDCITZN": 1,
                  "DMDEDUC2": "5.0",
                  "DMDMARTL": "2.0",
                  "DMDHHSIZ": 1,
                  "WTINT2YR": 14080.1,
                  "SDMVPSU": 1,
                  "SDMVSTRA": 126,
                  "INDFMPIR": 2.04,
                  "BPXSY1": "132.0",
                  "BPXDI1": "84.0",
                  "BPXSY2": "136.0",
                  "BPXDI2": "82.0",
                  "BMXWT": 97.4,
                  "BMXHT": 183.8,
                  "BMXBMI": 28.8,
                  "BMXLEG": "42.5",
                  "BMXARML": "40.6",
                  "BMXARMC": "34.2",
                  "BMXWAIST": "106.3",
                  "HIQ210": "2.0",
                  "_deepnote_index_column": 14
                },
                {
                  "SEQN": 83757,
                  "ALQ101": "1.0",
                  "ALQ110": "nan",
                  "ALQ130": "1.0",
                  "SMQ020": 2,
                  "RIAGENDR": 2,
                  "RIDAGEYR": 57,
                  "RIDRETH1": 2,
                  "DMDCITZN": 1,
                  "DMDEDUC2": "1.0",
                  "DMDMARTL": "4.0",
                  "DMDHHSIZ": 5,
                  "WTINT2YR": 11709.11,
                  "SDMVPSU": 1,
                  "SDMVSTRA": 120,
                  "INDFMPIR": 0.77,
                  "BPXSY1": "134.0",
                  "BPXDI1": "68.0",
                  "BPXSY2": "146.0",
                  "BPXDI2": "62.0",
                  "BMXWT": 80.5,
                  "BMXHT": 150.8,
                  "BMXBMI": 35.4,
                  "BMXLEG": "31.6",
                  "BMXARML": "32.7",
                  "BMXARMC": "33.7",
                  "BMXWAIST": "113.5",
                  "HIQ210": "2.0",
                  "_deepnote_index_column": 15
                },
                {
                  "SEQN": 83759,
                  "ALQ101": "2.0",
                  "ALQ110": "2.0",
                  "ALQ130": "nan",
                  "SMQ020": 2,
                  "RIAGENDR": 2,
                  "RIDAGEYR": 19,
                  "RIDRETH1": 1,
                  "DMDCITZN": 1,
                  "DMDEDUC2": "nan",
                  "DMDMARTL": "nan",
                  "DMDHHSIZ": 3,
                  "WTINT2YR": 18928.63,
                  "SDMVPSU": 2,
                  "SDMVSTRA": 121,
                  "INDFMPIR": 1.74,
                  "BPXSY1": "102.0",
                  "BPXDI1": "68.0",
                  "BPXSY2": "102.0",
                  "BPXDI2": "66.0",
                  "BMXWT": 100.8,
                  "BMXHT": 175.4,
                  "BMXBMI": 32.8,
                  "BMXLEG": "40.7",
                  "BMXARML": "38.6",
                  "BMXARMC": "35.9",
                  "BMXWAIST": "104.6",
                  "HIQ210": "1.0",
                  "_deepnote_index_column": 16
                }
              ],
              "rows_bottom": [
                {
                  "SEQN": 93670,
                  "ALQ101": "1.0",
                  "ALQ110": "nan",
                  "ALQ130": "3.0",
                  "SMQ020": 1,
                  "RIAGENDR": 1,
                  "RIDAGEYR": 32,
                  "RIDRETH1": 3,
                  "DMDCITZN": 2,
                  "DMDEDUC2": 5,
                  "DMDMARTL": 1,
                  "DMDHHSIZ": 4,
                  "WTINT2YR": 120187.36,
                  "SDMVPSU": 2,
                  "SDMVSTRA": 123,
                  "INDFMPIR": "nan",
                  "BPXSY1": "112.0",
                  "BPXDI1": "70.0",
                  "BPXSY2": "112.0",
                  "BPXDI2": "72.0",
                  "BMXWT": 81.4,
                  "BMXHT": 170.1,
                  "BMXBMI": 28.1,
                  "BMXLEG": 41.7,
                  "BMXARML": 38.2,
                  "BMXARMC": 33.9,
                  "BMXWAIST": "93.6",
                  "HIQ210": 1,
                  "_deepnote_index_column": 5717
                },
                {
                  "SEQN": 93671,
                  "ALQ101": "1.0",
                  "ALQ110": "nan",
                  "ALQ130": "3.0",
                  "SMQ020": 2,
                  "RIAGENDR": 1,
                  "RIDAGEYR": 45,
                  "RIDRETH1": 4,
                  "DMDCITZN": 1,
                  "DMDEDUC2": 5,
                  "DMDMARTL": 1,
                  "DMDHHSIZ": 3,
                  "WTINT2YR": 21351.55,
                  "SDMVPSU": 1,
                  "SDMVSTRA": 124,
                  "INDFMPIR": "5.0",
                  "BPXSY1": "128.0",
                  "BPXDI1": "60.0",
                  "BPXSY2": "120.0",
                  "BPXDI2": "58.0",
                  "BMXWT": 89,
                  "BMXHT": 174.3,
                  "BMXBMI": 29.3,
                  "BMXLEG": 42.4,
                  "BMXARML": 40.6,
                  "BMXARMC": 39.5,
                  "BMXWAIST": "97.0",
                  "HIQ210": 2,
                  "_deepnote_index_column": 5718
                },
                {
                  "SEQN": 93672,
                  "ALQ101": "2.0",
                  "ALQ110": "2.0",
                  "ALQ130": "nan",
                  "SMQ020": 1,
                  "RIAGENDR": 2,
                  "RIDAGEYR": 63,
                  "RIDRETH1": 2,
                  "DMDCITZN": 1,
                  "DMDEDUC2": 1,
                  "DMDMARTL": 1,
                  "DMDHHSIZ": 3,
                  "WTINT2YR": 8605.87,
                  "SDMVPSU": 2,
                  "SDMVSTRA": 119,
                  "INDFMPIR": "0.2",
                  "BPXSY1": "nan",
                  "BPXDI1": "nan",
                  "BPXSY2": "nan",
                  "BPXDI2": "nan",
                  "BMXWT": 81.9,
                  "BMXHT": 147.6,
                  "BMXBMI": 37.6,
                  "BMXLEG": 35,
                  "BMXARML": 33,
                  "BMXARMC": 38.2,
                  "BMXWAIST": "122.5",
                  "HIQ210": 2,
                  "_deepnote_index_column": 5719
                },
                {
                  "SEQN": 93675,
                  "ALQ101": "1.0",
                  "ALQ110": "nan",
                  "ALQ130": "1.0",
                  "SMQ020": 2,
                  "RIAGENDR": 1,
                  "RIDAGEYR": 38,
                  "RIDRETH1": 5,
                  "DMDCITZN": 2,
                  "DMDEDUC2": 5,
                  "DMDMARTL": 4,
                  "DMDHHSIZ": 1,
                  "WTINT2YR": 26328.59,
                  "SDMVPSU": 2,
                  "SDMVSTRA": 122,
                  "INDFMPIR": "5.0",
                  "BPXSY1": "110.0",
                  "BPXDI1": "58.0",
                  "BPXSY2": "118.0",
                  "BPXDI2": "62.0",
                  "BMXWT": 77.6,
                  "BMXHT": 179,
                  "BMXBMI": 24.2,
                  "BMXLEG": 42.3,
                  "BMXARML": 41.5,
                  "BMXARMC": 31.7,
                  "BMXWAIST": "94.2",
                  "HIQ210": 2,
                  "_deepnote_index_column": 5720
                },
                {
                  "SEQN": 93676,
                  "ALQ101": "1.0",
                  "ALQ110": "nan",
                  "ALQ130": "2.0",
                  "SMQ020": 2,
                  "RIAGENDR": 2,
                  "RIDAGEYR": 35,
                  "RIDRETH1": 4,
                  "DMDCITZN": 1,
                  "DMDEDUC2": 5,
                  "DMDMARTL": 3,
                  "DMDHHSIZ": 2,
                  "WTINT2YR": 32944.36,
                  "SDMVPSU": 2,
                  "SDMVSTRA": 132,
                  "INDFMPIR": "2.68",
                  "BPXSY1": "118.0",
                  "BPXDI1": "78.0",
                  "BPXSY2": "114.0",
                  "BPXDI2": "76.0",
                  "BMXWT": 92.2,
                  "BMXHT": 161.7,
                  "BMXBMI": 35.3,
                  "BMXLEG": 41.5,
                  "BMXARML": 37.5,
                  "BMXARMC": 38.9,
                  "BMXWAIST": "110.9",
                  "HIQ210": 2,
                  "_deepnote_index_column": 5721
                },
                {
                  "SEQN": 93677,
                  "ALQ101": "1.0",
                  "ALQ110": "nan",
                  "ALQ130": "1.0",
                  "SMQ020": 2,
                  "RIAGENDR": 2,
                  "RIDAGEYR": 34,
                  "RIDRETH1": 3,
                  "DMDCITZN": 1,
                  "DMDEDUC2": 5,
                  "DMDMARTL": 5,
                  "DMDHHSIZ": 3,
                  "WTINT2YR": 136319.8,
                  "SDMVPSU": 1,
                  "SDMVSTRA": 122,
                  "INDFMPIR": "1.76",
                  "BPXSY1": "114.0",
                  "BPXDI1": "72.0",
                  "BPXSY2": "110.0",
                  "BPXDI2": "78.0",
                  "BMXWT": 62.2,
                  "BMXHT": 167.4,
                  "BMXBMI": 22.2,
                  "BMXLEG": 39.8,
                  "BMXARML": 37.7,
                  "BMXARMC": 28.5,
                  "BMXWAIST": "83.3",
                  "HIQ210": 2,
                  "_deepnote_index_column": 5722
                },
                {
                  "SEQN": 93679,
                  "ALQ101": "2.0",
                  "ALQ110": "1.0",
                  "ALQ130": "nan",
                  "SMQ020": 1,
                  "RIAGENDR": 2,
                  "RIDAGEYR": 72,
                  "RIDRETH1": 4,
                  "DMDCITZN": 1,
                  "DMDEDUC2": 2,
                  "DMDMARTL": 2,
                  "DMDHHSIZ": 3,
                  "WTINT2YR": 21037.26,
                  "SDMVPSU": 2,
                  "SDMVSTRA": 132,
                  "INDFMPIR": "2.98",
                  "BPXSY1": "142.0",
                  "BPXDI1": "64.0",
                  "BPXSY2": "136.0",
                  "BPXDI2": "78.0",
                  "BMXWT": 57.8,
                  "BMXHT": 157,
                  "BMXBMI": 23.4,
                  "BMXLEG": 32,
                  "BMXARML": 35.5,
                  "BMXARMC": 26.8,
                  "BMXWAIST": "90.4",
                  "HIQ210": 2,
                  "_deepnote_index_column": 5723
                },
                {
                  "SEQN": 93682,
                  "ALQ101": "nan",
                  "ALQ110": "nan",
                  "ALQ130": "nan",
                  "SMQ020": 2,
                  "RIAGENDR": 2,
                  "RIDAGEYR": 41,
                  "RIDRETH1": 5,
                  "DMDCITZN": 1,
                  "DMDEDUC2": 5,
                  "DMDMARTL": 1,
                  "DMDHHSIZ": 5,
                  "WTINT2YR": 23924.2,
                  "SDMVPSU": 2,
                  "SDMVSTRA": 121,
                  "INDFMPIR": "5.0",
                  "BPXSY1": "132.0",
                  "BPXDI1": "78.0",
                  "BPXSY2": "122.0",
                  "BPXDI2": "84.0",
                  "BMXWT": 58.2,
                  "BMXHT": 166.9,
                  "BMXBMI": 20.9,
                  "BMXLEG": 37.1,
                  "BMXARML": 35.3,
                  "BMXARMC": 26.9,
                  "BMXWAIST": "80.8",
                  "HIQ210": 2,
                  "_deepnote_index_column": 5724
                },
                {
                  "SEQN": 93684,
                  "ALQ101": "2.0",
                  "ALQ110": "2.0",
                  "ALQ130": "nan",
                  "SMQ020": 2,
                  "RIAGENDR": 1,
                  "RIDAGEYR": 34,
                  "RIDRETH1": 4,
                  "DMDCITZN": 1,
                  "DMDEDUC2": 5,
                  "DMDMARTL": 1,
                  "DMDHHSIZ": 5,
                  "WTINT2YR": 29880.64,
                  "SDMVPSU": 2,
                  "SDMVSTRA": 131,
                  "INDFMPIR": "2.81",
                  "BPXSY1": "110.0",
                  "BPXDI1": "72.0",
                  "BPXSY2": "112.0",
                  "BPXDI2": "72.0",
                  "BMXWT": 101.2,
                  "BMXHT": 180.9,
                  "BMXBMI": 30.9,
                  "BMXLEG": 43.7,
                  "BMXARML": 43,
                  "BMXARMC": 41.3,
                  "BMXWAIST": "99.0",
                  "HIQ210": 2,
                  "_deepnote_index_column": 5725
                },
                {
                  "SEQN": 93685,
                  "ALQ101": "1.0",
                  "ALQ110": "nan",
                  "ALQ130": "2.0",
                  "SMQ020": 1,
                  "RIAGENDR": 1,
                  "RIDAGEYR": 53,
                  "RIDRETH1": 1,
                  "DMDCITZN": 2,
                  "DMDEDUC2": 2,
                  "DMDMARTL": 1,
                  "DMDHHSIZ": 5,
                  "WTINT2YR": 22441.86,
                  "SDMVPSU": 1,
                  "SDMVSTRA": 126,
                  "INDFMPIR": "0.49",
                  "BPXSY1": "132.0",
                  "BPXDI1": "54.0",
                  "BPXSY2": "128.0",
                  "BPXDI2": "56.0",
                  "BMXWT": 78.7,
                  "BMXHT": 156.9,
                  "BMXBMI": 32,
                  "BMXLEG": 31.5,
                  "BMXARML": 38,
                  "BMXARMC": 33.7,
                  "BMXWAIST": "107.5",
                  "HIQ210": 2,
                  "_deepnote_index_column": 5726
                },
                {
                  "SEQN": 93689,
                  "ALQ101": "2.0",
                  "ALQ110": "1.0",
                  "ALQ130": "nan",
                  "SMQ020": 2,
                  "RIAGENDR": 2,
                  "RIDAGEYR": 69,
                  "RIDRETH1": 1,
                  "DMDCITZN": 1,
                  "DMDEDUC2": 1,
                  "DMDMARTL": 1,
                  "DMDHHSIZ": 1,
                  "WTINT2YR": 9611.19,
                  "SDMVPSU": 2,
                  "SDMVSTRA": 127,
                  "INDFMPIR": "0.97",
                  "BPXSY1": "164.0",
                  "BPXDI1": "62.0",
                  "BPXSY2": "166.0",
                  "BPXDI2": "64.0",
                  "BMXWT": 64.8,
                  "BMXHT": 151.9,
                  "BMXBMI": 28.1,
                  "BMXLEG": 32.2,
                  "BMXARML": 32.6,
                  "BMXARMC": 28.7,
                  "BMXWAIST": "101.1",
                  "HIQ210": 2,
                  "_deepnote_index_column": 5727
                },
                {
                  "SEQN": 93690,
                  "ALQ101": "1.0",
                  "ALQ110": "nan",
                  "ALQ130": "3.0",
                  "SMQ020": 2,
                  "RIAGENDR": 1,
                  "RIDAGEYR": 32,
                  "RIDRETH1": 2,
                  "DMDCITZN": 1,
                  "DMDEDUC2": 2,
                  "DMDMARTL": 1,
                  "DMDHHSIZ": 4,
                  "WTINT2YR": 43971.6,
                  "SDMVPSU": 2,
                  "SDMVSTRA": 127,
                  "INDFMPIR": "5.0",
                  "BPXSY1": "112.0",
                  "BPXDI1": "60.0",
                  "BPXSY2": "118.0",
                  "BPXDI2": "58.0",
                  "BMXWT": 89.5,
                  "BMXHT": 164.9,
                  "BMXBMI": 32.9,
                  "BMXLEG": 40,
                  "BMXARML": 38,
                  "BMXARMC": 39,
                  "BMXWAIST": "101.0",
                  "HIQ210": 2,
                  "_deepnote_index_column": 5728
                },
                {
                  "SEQN": 93691,
                  "ALQ101": "2.0",
                  "ALQ110": "2.0",
                  "ALQ130": "nan",
                  "SMQ020": 2,
                  "RIAGENDR": 1,
                  "RIDAGEYR": 25,
                  "RIDRETH1": 5,
                  "DMDCITZN": 2,
                  "DMDEDUC2": 5,
                  "DMDMARTL": 5,
                  "DMDHHSIZ": 7,
                  "WTINT2YR": 13525.39,
                  "SDMVPSU": 2,
                  "SDMVSTRA": 133,
                  "INDFMPIR": "1.59",
                  "BPXSY1": "112.0",
                  "BPXDI1": "80.0",
                  "BPXSY2": "112.0",
                  "BPXDI2": "76.0",
                  "BMXWT": 39.2,
                  "BMXHT": 136.5,
                  "BMXBMI": 21,
                  "BMXLEG": 33.6,
                  "BMXARML": 29.7,
                  "BMXARMC": 23.8,
                  "BMXWAIST": "75.4",
                  "HIQ210": 2,
                  "_deepnote_index_column": 5729
                },
                {
                  "SEQN": 93695,
                  "ALQ101": "2.0",
                  "ALQ110": "2.0",
                  "ALQ130": "nan",
                  "SMQ020": 1,
                  "RIAGENDR": 2,
                  "RIDAGEYR": 76,
                  "RIDRETH1": 3,
                  "DMDCITZN": 1,
                  "DMDEDUC2": 3,
                  "DMDMARTL": 2,
                  "DMDHHSIZ": 1,
                  "WTINT2YR": 58614.08,
                  "SDMVPSU": 2,
                  "SDMVSTRA": 130,
                  "INDFMPIR": "1.43",
                  "BPXSY1": "112.0",
                  "BPXDI1": "48.0",
                  "BPXSY2": "112.0",
                  "BPXDI2": "46.0",
                  "BMXWT": 59.1,
                  "BMXHT": 165.8,
                  "BMXBMI": 21.5,
                  "BMXLEG": 38.2,
                  "BMXARML": 37,
                  "BMXARMC": 29.5,
                  "BMXWAIST": "95.0",
                  "HIQ210": 2,
                  "_deepnote_index_column": 5730
                },
                {
                  "SEQN": 93696,
                  "ALQ101": "2.0",
                  "ALQ110": "2.0",
                  "ALQ130": "nan",
                  "SMQ020": 2,
                  "RIAGENDR": 1,
                  "RIDAGEYR": 26,
                  "RIDRETH1": 3,
                  "DMDCITZN": 1,
                  "DMDEDUC2": 5,
                  "DMDMARTL": 1,
                  "DMDHHSIZ": 3,
                  "WTINT2YR": 122920.6,
                  "SDMVPSU": 1,
                  "SDMVSTRA": 121,
                  "INDFMPIR": "2.99",
                  "BPXSY1": "118.0",
                  "BPXDI1": "68.0",
                  "BPXSY2": "116.0",
                  "BPXDI2": "76.0",
                  "BMXWT": 112.1,
                  "BMXHT": 182.2,
                  "BMXBMI": 33.8,
                  "BMXLEG": 43.4,
                  "BMXARML": 41.8,
                  "BMXARMC": 42.3,
                  "BMXWAIST": "110.2",
                  "HIQ210": 2,
                  "_deepnote_index_column": 5731
                },
                {
                  "SEQN": 93697,
                  "ALQ101": "1.0",
                  "ALQ110": "nan",
                  "ALQ130": "1.0",
                  "SMQ020": 1,
                  "RIAGENDR": 2,
                  "RIDAGEYR": 80,
                  "RIDRETH1": 3,
                  "DMDCITZN": 1,
                  "DMDEDUC2": 4,
                  "DMDMARTL": 2,
                  "DMDHHSIZ": 1,
                  "WTINT2YR": 49050.06,
                  "SDMVPSU": 2,
                  "SDMVSTRA": 132,
                  "INDFMPIR": "2.97",
                  "BPXSY1": "154.0",
                  "BPXDI1": "56.0",
                  "BPXSY2": "146.0",
                  "BPXDI2": "58.0",
                  "BMXWT": 71.7,
                  "BMXHT": 152.2,
                  "BMXBMI": 31,
                  "BMXLEG": 31.3,
                  "BMXARML": 37.5,
                  "BMXARMC": 28.8,
                  "BMXWAIST": "nan",
                  "HIQ210": 2,
                  "_deepnote_index_column": 5732
                },
                {
                  "SEQN": 93700,
                  "ALQ101": "nan",
                  "ALQ110": "nan",
                  "ALQ130": "nan",
                  "SMQ020": 1,
                  "RIAGENDR": 1,
                  "RIDAGEYR": 35,
                  "RIDRETH1": 3,
                  "DMDCITZN": 2,
                  "DMDEDUC2": 1,
                  "DMDMARTL": 1,
                  "DMDHHSIZ": 5,
                  "WTINT2YR": 42314.29,
                  "SDMVPSU": 1,
                  "SDMVSTRA": 126,
                  "INDFMPIR": "0.0",
                  "BPXSY1": "104.0",
                  "BPXDI1": "62.0",
                  "BPXSY2": "106.0",
                  "BPXDI2": "66.0",
                  "BMXWT": 78.2,
                  "BMXHT": 173.3,
                  "BMXBMI": 26,
                  "BMXLEG": 40.3,
                  "BMXARML": 37.5,
                  "BMXARMC": 30.6,
                  "BMXWAIST": "98.9",
                  "HIQ210": 2,
                  "_deepnote_index_column": 5733
                },
                {
                  "SEQN": 93702,
                  "ALQ101": "1.0",
                  "ALQ110": "nan",
                  "ALQ130": "2.0",
                  "SMQ020": 2,
                  "RIAGENDR": 2,
                  "RIDAGEYR": 24,
                  "RIDRETH1": 3,
                  "DMDCITZN": 1,
                  "DMDEDUC2": 5,
                  "DMDMARTL": 5,
                  "DMDHHSIZ": 3,
                  "WTINT2YR": 107361.91,
                  "SDMVPSU": 2,
                  "SDMVSTRA": 119,
                  "INDFMPIR": "3.54",
                  "BPXSY1": "118.0",
                  "BPXDI1": "66.0",
                  "BPXSY2": "114.0",
                  "BPXDI2": "68.0",
                  "BMXWT": 58.3,
                  "BMXHT": 165,
                  "BMXBMI": 21.4,
                  "BMXLEG": 38.2,
                  "BMXARML": 33.5,
                  "BMXARMC": 26.2,
                  "BMXWAIST": "72.5",
                  "HIQ210": 2,
                  "_deepnote_index_column": 5734
                }
              ]
            },
            "text/plain": "       SEQN  ALQ101  ALQ110  ALQ130  SMQ020  RIAGENDR  RIDAGEYR  RIDRETH1  \\\n0     83732     1.0     NaN     1.0       1         1        62         3   \n1     83733     1.0     NaN     6.0       1         1        53         3   \n2     83734     1.0     NaN     NaN       1         1        78         3   \n3     83735     2.0     1.0     1.0       2         2        56         3   \n4     83736     2.0     1.0     1.0       2         2        42         4   \n...     ...     ...     ...     ...     ...       ...       ...       ...   \n5730  93695     2.0     2.0     NaN       1         2        76         3   \n5731  93696     2.0     2.0     NaN       2         1        26         3   \n5732  93697     1.0     NaN     1.0       1         2        80         3   \n5733  93700     NaN     NaN     NaN       1         1        35         3   \n5734  93702     1.0     NaN     2.0       2         2        24         3   \n\n      DMDCITZN  DMDEDUC2  ...  BPXSY2  BPXDI2  BMXWT  BMXHT  BMXBMI  BMXLEG  \\\n0          1.0       5.0  ...   124.0    64.0   94.8  184.5    27.8    43.3   \n1          2.0       3.0  ...   140.0    88.0   90.4  171.4    30.8    38.0   \n2          1.0       3.0  ...   132.0    44.0   83.4  170.1    28.8    35.6   \n3          1.0       5.0  ...   134.0    68.0  109.8  160.9    42.4    38.5   \n4          1.0       4.0  ...   114.0    54.0   55.2  164.9    20.3    37.4   \n...        ...       ...  ...     ...     ...    ...    ...     ...     ...   \n5730       1.0       3.0  ...   112.0    46.0   59.1  165.8    21.5    38.2   \n5731       1.0       5.0  ...   116.0    76.0  112.1  182.2    33.8    43.4   \n5732       1.0       4.0  ...   146.0    58.0   71.7  152.2    31.0    31.3   \n5733       2.0       1.0  ...   106.0    66.0   78.2  173.3    26.0    40.3   \n5734       1.0       5.0  ...   114.0    68.0   58.3  165.0    21.4    38.2   \n\n      BMXARML  BMXARMC  BMXWAIST  HIQ210  \n0        43.6     35.9     101.1     2.0  \n1        40.0     33.2     107.9     NaN  \n2        37.0     31.0     116.5     2.0  \n3        37.7     38.3     110.1     2.0  \n4        36.0     27.2      80.4     2.0  \n...       ...      ...       ...     ...  \n5730     37.0     29.5      95.0     2.0  \n5731     41.8     42.3     110.2     2.0  \n5732     37.5     28.8       NaN     2.0  \n5733     37.5     30.6      98.9     2.0  \n5734     33.5     26.2      72.5     2.0  \n\n[5735 rows x 28 columns]",
            "text/html": "<div>\n<style scoped>\n    .dataframe tbody tr th:only-of-type {\n        vertical-align: middle;\n    }\n\n    .dataframe tbody tr th {\n        vertical-align: top;\n    }\n\n    .dataframe thead th {\n        text-align: right;\n    }\n</style>\n<table border=\"1\" class=\"dataframe\">\n  <thead>\n    <tr style=\"text-align: right;\">\n      <th></th>\n      <th>SEQN</th>\n      <th>ALQ101</th>\n      <th>ALQ110</th>\n      <th>ALQ130</th>\n      <th>SMQ020</th>\n      <th>RIAGENDR</th>\n      <th>RIDAGEYR</th>\n      <th>RIDRETH1</th>\n      <th>DMDCITZN</th>\n      <th>DMDEDUC2</th>\n      <th>...</th>\n      <th>BPXSY2</th>\n      <th>BPXDI2</th>\n      <th>BMXWT</th>\n      <th>BMXHT</th>\n      <th>BMXBMI</th>\n      <th>BMXLEG</th>\n      <th>BMXARML</th>\n      <th>BMXARMC</th>\n      <th>BMXWAIST</th>\n      <th>HIQ210</th>\n    </tr>\n  </thead>\n  <tbody>\n    <tr>\n      <th>0</th>\n      <td>83732</td>\n      <td>1.0</td>\n      <td>NaN</td>\n      <td>1.0</td>\n      <td>1</td>\n      <td>1</td>\n      <td>62</td>\n      <td>3</td>\n      <td>1.0</td>\n      <td>5.0</td>\n      <td>...</td>\n      <td>124.0</td>\n      <td>64.0</td>\n      <td>94.8</td>\n      <td>184.5</td>\n      <td>27.8</td>\n      <td>43.3</td>\n      <td>43.6</td>\n      <td>35.9</td>\n      <td>101.1</td>\n      <td>2.0</td>\n    </tr>\n    <tr>\n      <th>1</th>\n      <td>83733</td>\n      <td>1.0</td>\n      <td>NaN</td>\n      <td>6.0</td>\n      <td>1</td>\n      <td>1</td>\n      <td>53</td>\n      <td>3</td>\n      <td>2.0</td>\n      <td>3.0</td>\n      <td>...</td>\n      <td>140.0</td>\n      <td>88.0</td>\n      <td>90.4</td>\n      <td>171.4</td>\n      <td>30.8</td>\n      <td>38.0</td>\n      <td>40.0</td>\n      <td>33.2</td>\n      <td>107.9</td>\n      <td>NaN</td>\n    </tr>\n    <tr>\n      <th>2</th>\n      <td>83734</td>\n      <td>1.0</td>\n      <td>NaN</td>\n      <td>NaN</td>\n      <td>1</td>\n      <td>1</td>\n      <td>78</td>\n      <td>3</td>\n      <td>1.0</td>\n      <td>3.0</td>\n      <td>...</td>\n      <td>132.0</td>\n      <td>44.0</td>\n      <td>83.4</td>\n      <td>170.1</td>\n      <td>28.8</td>\n      <td>35.6</td>\n      <td>37.0</td>\n      <td>31.0</td>\n      <td>116.5</td>\n      <td>2.0</td>\n    </tr>\n    <tr>\n      <th>3</th>\n      <td>83735</td>\n      <td>2.0</td>\n      <td>1.0</td>\n      <td>1.0</td>\n      <td>2</td>\n      <td>2</td>\n      <td>56</td>\n      <td>3</td>\n      <td>1.0</td>\n      <td>5.0</td>\n      <td>...</td>\n      <td>134.0</td>\n      <td>68.0</td>\n      <td>109.8</td>\n      <td>160.9</td>\n      <td>42.4</td>\n      <td>38.5</td>\n      <td>37.7</td>\n      <td>38.3</td>\n      <td>110.1</td>\n      <td>2.0</td>\n    </tr>\n    <tr>\n      <th>4</th>\n      <td>83736</td>\n      <td>2.0</td>\n      <td>1.0</td>\n      <td>1.0</td>\n      <td>2</td>\n      <td>2</td>\n      <td>42</td>\n      <td>4</td>\n      <td>1.0</td>\n      <td>4.0</td>\n      <td>...</td>\n      <td>114.0</td>\n      <td>54.0</td>\n      <td>55.2</td>\n      <td>164.9</td>\n      <td>20.3</td>\n      <td>37.4</td>\n      <td>36.0</td>\n      <td>27.2</td>\n      <td>80.4</td>\n      <td>2.0</td>\n    </tr>\n    <tr>\n      <th>...</th>\n      <td>...</td>\n      <td>...</td>\n      <td>...</td>\n      <td>...</td>\n      <td>...</td>\n      <td>...</td>\n      <td>...</td>\n      <td>...</td>\n      <td>...</td>\n      <td>...</td>\n      <td>...</td>\n      <td>...</td>\n      <td>...</td>\n      <td>...</td>\n      <td>...</td>\n      <td>...</td>\n      <td>...</td>\n      <td>...</td>\n      <td>...</td>\n      <td>...</td>\n      <td>...</td>\n    </tr>\n    <tr>\n      <th>5730</th>\n      <td>93695</td>\n      <td>2.0</td>\n      <td>2.0</td>\n      <td>NaN</td>\n      <td>1</td>\n      <td>2</td>\n      <td>76</td>\n      <td>3</td>\n      <td>1.0</td>\n      <td>3.0</td>\n      <td>...</td>\n      <td>112.0</td>\n      <td>46.0</td>\n      <td>59.1</td>\n      <td>165.8</td>\n      <td>21.5</td>\n      <td>38.2</td>\n      <td>37.0</td>\n      <td>29.5</td>\n      <td>95.0</td>\n      <td>2.0</td>\n    </tr>\n    <tr>\n      <th>5731</th>\n      <td>93696</td>\n      <td>2.0</td>\n      <td>2.0</td>\n      <td>NaN</td>\n      <td>2</td>\n      <td>1</td>\n      <td>26</td>\n      <td>3</td>\n      <td>1.0</td>\n      <td>5.0</td>\n      <td>...</td>\n      <td>116.0</td>\n      <td>76.0</td>\n      <td>112.1</td>\n      <td>182.2</td>\n      <td>33.8</td>\n      <td>43.4</td>\n      <td>41.8</td>\n      <td>42.3</td>\n      <td>110.2</td>\n      <td>2.0</td>\n    </tr>\n    <tr>\n      <th>5732</th>\n      <td>93697</td>\n      <td>1.0</td>\n      <td>NaN</td>\n      <td>1.0</td>\n      <td>1</td>\n      <td>2</td>\n      <td>80</td>\n      <td>3</td>\n      <td>1.0</td>\n      <td>4.0</td>\n      <td>...</td>\n      <td>146.0</td>\n      <td>58.0</td>\n      <td>71.7</td>\n      <td>152.2</td>\n      <td>31.0</td>\n      <td>31.3</td>\n      <td>37.5</td>\n      <td>28.8</td>\n      <td>NaN</td>\n      <td>2.0</td>\n    </tr>\n    <tr>\n      <th>5733</th>\n      <td>93700</td>\n      <td>NaN</td>\n      <td>NaN</td>\n      <td>NaN</td>\n      <td>1</td>\n      <td>1</td>\n      <td>35</td>\n      <td>3</td>\n      <td>2.0</td>\n      <td>1.0</td>\n      <td>...</td>\n      <td>106.0</td>\n      <td>66.0</td>\n      <td>78.2</td>\n      <td>173.3</td>\n      <td>26.0</td>\n      <td>40.3</td>\n      <td>37.5</td>\n      <td>30.6</td>\n      <td>98.9</td>\n      <td>2.0</td>\n    </tr>\n    <tr>\n      <th>5734</th>\n      <td>93702</td>\n      <td>1.0</td>\n      <td>NaN</td>\n      <td>2.0</td>\n      <td>2</td>\n      <td>2</td>\n      <td>24</td>\n      <td>3</td>\n      <td>1.0</td>\n      <td>5.0</td>\n      <td>...</td>\n      <td>114.0</td>\n      <td>68.0</td>\n      <td>58.3</td>\n      <td>165.0</td>\n      <td>21.4</td>\n      <td>38.2</td>\n      <td>33.5</td>\n      <td>26.2</td>\n      <td>72.5</td>\n      <td>2.0</td>\n    </tr>\n  </tbody>\n</table>\n<p>5735 rows × 28 columns</p>\n</div>"
          },
          "metadata": {}
        }
      ]
    },
    {
      "cell_type": "markdown",
      "source": "## Question 1\n\nRestrict the sample to women between 35 and 50, then use the marital status variable [DMDMARTL](https://wwwn.cdc.gov/Nchs/Nhanes/2015-2016/DEMO_I.htm#DMDMARTL) to partition this sample into two groups - women who are currently married, and women who are not currently married.  Within each of these groups, calculate the proportion of women who have completed college.  Calculate 95% confidence intervals for each of these proportions.",
      "metadata": {
        "cell_id": "00002-e1d70348-c50e-466a-8662-d27e1642581f",
        "deepnote_cell_type": "markdown"
      }
    },
    {
      "cell_type": "code",
      "metadata": {
        "cell_id": "00003-8edc6313-161b-4aa6-ae6e-65e4a3530b98",
        "deepnote_to_be_reexecuted": false,
        "source_hash": "c7299cb5",
        "execution_millis": 61,
        "execution_start": 1617889292258,
        "deepnote_cell_type": "code"
      },
      "source": "da[\"DMDMARTL\"] = da.DMDMARTL.replace({1: \"Yes\", 2: \"No\", 3: \"No\",4:\"Yes\",5:\"No\",6:\"No\", 77: np.nan, 99: np.nan,\".\": np.nan})\nda[\"RIAGENDR\"] = da.RIAGENDR.replace({1: \"Male\", 2: \"Female\",\".\":np.nan})\nda[\"DMDEDUC2\"] = da.DMDEDUC2.replace({1: \"No\", 2: \"No\", 3: \"No\",4:\"Yes\",5:\"Yes\", 7: np.nan, 9: np.nan,\".\": np.nan})\n\ndaz=da.loc[(da[\"RIDAGEYR\"]<50) & (35<da[\"RIDAGEYR\"]) & (da[\"RIAGENDR\"]==\"Female\") ,[\"DMDMARTL\",\"DMDEDUC2\"]]\n \npd.crosstab(daz.DMDEDUC2,daz.DMDMARTL)\n",
      "execution_count": 46,
      "outputs": [
        {
          "output_type": "execute_result",
          "execution_count": 46,
          "data": {
            "application/vnd.deepnote.dataframe.v2+json": {
              "row_count": 2,
              "column_count": 2,
              "columns": [
                {
                  "name": "No",
                  "dtype": "int64",
                  "stats": {
                    "unique_count": 2,
                    "nan_count": 0,
                    "min": 107,
                    "max": 160,
                    "histogram": [
                      {
                        "bin_start": 107,
                        "bin_end": 112.3,
                        "count": 1
                      },
                      {
                        "bin_start": 112.3,
                        "bin_end": 117.6,
                        "count": 0
                      },
                      {
                        "bin_start": 117.6,
                        "bin_end": 122.9,
                        "count": 0
                      },
                      {
                        "bin_start": 122.9,
                        "bin_end": 128.2,
                        "count": 0
                      },
                      {
                        "bin_start": 128.2,
                        "bin_end": 133.5,
                        "count": 0
                      },
                      {
                        "bin_start": 133.5,
                        "bin_end": 138.8,
                        "count": 0
                      },
                      {
                        "bin_start": 138.8,
                        "bin_end": 144.1,
                        "count": 0
                      },
                      {
                        "bin_start": 144.1,
                        "bin_end": 149.4,
                        "count": 0
                      },
                      {
                        "bin_start": 149.4,
                        "bin_end": 154.7,
                        "count": 0
                      },
                      {
                        "bin_start": 154.7,
                        "bin_end": 160,
                        "count": 1
                      }
                    ]
                  }
                },
                {
                  "name": "Yes",
                  "dtype": "int64",
                  "stats": {
                    "unique_count": 2,
                    "nan_count": 0,
                    "min": 154,
                    "max": 277,
                    "histogram": [
                      {
                        "bin_start": 154,
                        "bin_end": 166.3,
                        "count": 1
                      },
                      {
                        "bin_start": 166.3,
                        "bin_end": 178.6,
                        "count": 0
                      },
                      {
                        "bin_start": 178.6,
                        "bin_end": 190.9,
                        "count": 0
                      },
                      {
                        "bin_start": 190.9,
                        "bin_end": 203.2,
                        "count": 0
                      },
                      {
                        "bin_start": 203.2,
                        "bin_end": 215.5,
                        "count": 0
                      },
                      {
                        "bin_start": 215.5,
                        "bin_end": 227.8,
                        "count": 0
                      },
                      {
                        "bin_start": 227.8,
                        "bin_end": 240.10000000000002,
                        "count": 0
                      },
                      {
                        "bin_start": 240.10000000000002,
                        "bin_end": 252.4,
                        "count": 0
                      },
                      {
                        "bin_start": 252.4,
                        "bin_end": 264.7,
                        "count": 0
                      },
                      {
                        "bin_start": 264.7,
                        "bin_end": 277,
                        "count": 1
                      }
                    ]
                  }
                },
                {
                  "name": "_deepnote_index_column",
                  "dtype": "object"
                }
              ],
              "rows_top": [
                {
                  "No": 107,
                  "Yes": 154,
                  "_deepnote_index_column": "No"
                },
                {
                  "No": 160,
                  "Yes": 277,
                  "_deepnote_index_column": "Yes"
                }
              ],
              "rows_bottom": null
            },
            "text/plain": "DMDMARTL   No  Yes\nDMDEDUC2          \nNo        107  154\nYes       160  277",
            "text/html": "<div>\n<style scoped>\n    .dataframe tbody tr th:only-of-type {\n        vertical-align: middle;\n    }\n\n    .dataframe tbody tr th {\n        vertical-align: top;\n    }\n\n    .dataframe thead th {\n        text-align: right;\n    }\n</style>\n<table border=\"1\" class=\"dataframe\">\n  <thead>\n    <tr style=\"text-align: right;\">\n      <th>DMDMARTL</th>\n      <th>No</th>\n      <th>Yes</th>\n    </tr>\n    <tr>\n      <th>DMDEDUC2</th>\n      <th></th>\n      <th></th>\n    </tr>\n  </thead>\n  <tbody>\n    <tr>\n      <th>No</th>\n      <td>107</td>\n      <td>154</td>\n    </tr>\n    <tr>\n      <th>Yes</th>\n      <td>160</td>\n      <td>277</td>\n    </tr>\n  </tbody>\n</table>\n</div>"
          },
          "metadata": {}
        }
      ]
    },
    {
      "cell_type": "code",
      "source": "print(\"Single college 95% confidence intervals: \",sm.stats.proportion_confint(160, 160+187))\nprint(\"Married college 95% confidence intervals: \",sm.stats.proportion_confint(277, 277+154))\n\n",
      "metadata": {
        "tags": [],
        "cell_id": "00004-44df1aab-3fd3-4471-842b-9d118ca76324",
        "deepnote_to_be_reexecuted": false,
        "source_hash": "1c2feca0",
        "execution_millis": 10,
        "execution_start": 1617889456832,
        "deepnote_cell_type": "code"
      },
      "outputs": [
        {
          "name": "stdout",
          "text": "Single college 95% confidence intervals:  (0.4086464074772925, 0.5135437942518142)\nMarried college 95% confidence intervals:  (0.597450390854583, 0.6879324397718671)\n",
          "output_type": "stream"
        }
      ],
      "execution_count": 49
    },
    {
      "cell_type": "markdown",
      "source": "__Q1a.__ Identify which of the two confidence intervals is wider, and explain why this is the case. ",
      "metadata": {
        "cell_id": "00004-e12c7ab3-3cd5-4863-aa00-174281e997bd",
        "deepnote_cell_type": "markdown"
      }
    },
    {
      "cell_type": "markdown",
      "source": "",
      "metadata": {
        "cell_id": "00005-808f10e3-ede5-42b6-b628-57833bf9516e",
        "deepnote_cell_type": "markdown"
      }
    },
    {
      "cell_type": "markdown",
      "source": "__Q1b.__ Write 1-2 sentences summarizing these findings for an audience that does not know what a confidence interval is (the goal here is to report the substance of what you learned about how marital status and educational attainment are related, not to teach a person what a confidence interval is).",
      "metadata": {
        "cell_id": "00006-4b6fd3e6-5406-45e6-a088-68529e4cfaa4",
        "deepnote_cell_type": "markdown"
      }
    },
    {
      "cell_type": "markdown",
      "source": "",
      "metadata": {
        "cell_id": "00007-e1771598-2c4a-45d7-beba-ed6c7042b988",
        "deepnote_cell_type": "markdown"
      }
    },
    {
      "cell_type": "markdown",
      "source": "## Question 2\n\nConstruct 95% confidence intervals for the proportion of smokers who are female, and for the proportion of smokers who are male.  Then construct a 95% confidence interval for the difference between these proportions.",
      "metadata": {
        "cell_id": "00008-3cc799be-cd41-43ec-af20-89f2812016cb",
        "deepnote_cell_type": "markdown"
      }
    },
    {
      "cell_type": "code",
      "metadata": {
        "cell_id": "00009-7f01ef91-0ad4-44cc-b84c-c0a55dc4ffd1",
        "deepnote_cell_type": "code"
      },
      "source": "# enter your code here",
      "execution_count": null,
      "outputs": []
    },
    {
      "cell_type": "markdown",
      "source": "__Q2a.__ Discuss why it may be relevant to report the proportions of smokers who are female and male, and contrast this to reporting the proportions of males and females who smoke.",
      "metadata": {
        "cell_id": "00010-626c2b04-df42-4cad-995c-0cad4966aa5b",
        "deepnote_cell_type": "markdown"
      }
    },
    {
      "cell_type": "markdown",
      "source": "",
      "metadata": {
        "cell_id": "00011-d804041b-7f42-413b-9ab2-83df92dcbe1d",
        "deepnote_cell_type": "markdown"
      }
    },
    {
      "cell_type": "markdown",
      "source": "__Q2b.__ How does the width of the confidence interval for the difference of the two proportions compare to the widths of the confidence intervals for each proportion separately?",
      "metadata": {
        "cell_id": "00012-d06f89d0-58d5-4d99-873a-063145e5e049",
        "deepnote_cell_type": "markdown"
      }
    },
    {
      "cell_type": "markdown",
      "source": "",
      "metadata": {
        "cell_id": "00013-d55c66f6-4185-470f-b674-2835c818e5b3",
        "deepnote_cell_type": "markdown"
      }
    },
    {
      "cell_type": "markdown",
      "source": "## Question 3\n\nConstruct a 95% interval for height ([BMXHT](https://wwwn.cdc.gov/Nchs/Nhanes/2015-2016/BMX_I.htm#BMXHT)) in centimeters.  Then convert height from centimeters to inches by dividing by 2.54, and construct a 95% confidence interval for height in inches.  Finally, convert the endpoints (the lower and upper confidence limits) of the confidence interval from inches to back to centimeters   ",
      "metadata": {
        "cell_id": "00014-38ec084d-08a0-4084-a19d-ab82553013e4",
        "deepnote_cell_type": "markdown"
      }
    },
    {
      "cell_type": "code",
      "metadata": {
        "cell_id": "00015-db759579-186e-4889-91a5-1261ffc5eca2",
        "deepnote_cell_type": "code"
      },
      "source": "# enter your code here",
      "execution_count": null,
      "outputs": []
    },
    {
      "cell_type": "markdown",
      "source": "__Q3a.__ Describe how the confidence interval constructed in centimeters relates to the confidence interval constructed in inches.",
      "metadata": {
        "cell_id": "00016-9113aafa-9bce-4206-98be-d29e17e6a4f4",
        "deepnote_cell_type": "markdown"
      }
    },
    {
      "cell_type": "markdown",
      "source": "",
      "metadata": {
        "cell_id": "00017-20333b00-f1f5-4990-b6e2-3796767fad9b",
        "deepnote_cell_type": "markdown"
      }
    },
    {
      "cell_type": "markdown",
      "source": "## Question 4\n\nPartition the sample based on 10-year age bands, i.e. the resulting groups will consist of people with ages from 18-28, 29-38, etc. Construct 95% confidence intervals for the difference between the mean BMI for females and for males within each age band.",
      "metadata": {
        "cell_id": "00018-9f690411-1fce-4b52-8ba3-70bd65b2a03d",
        "deepnote_cell_type": "markdown"
      }
    },
    {
      "cell_type": "code",
      "metadata": {
        "cell_id": "00019-0dab8f3c-164b-42eb-a903-995746a39617",
        "deepnote_cell_type": "code"
      },
      "source": "# enter your code here",
      "execution_count": null,
      "outputs": []
    },
    {
      "cell_type": "markdown",
      "source": "__Q4a.__ How do the widths of these confidence intervals differ?  Provide an explanation for any substantial diferences in the confidence interval widths that you see.",
      "metadata": {
        "cell_id": "00020-0626d0c8-a28b-4a1e-8b53-538a0d220c9b",
        "deepnote_cell_type": "markdown"
      }
    },
    {
      "cell_type": "markdown",
      "source": "",
      "metadata": {
        "cell_id": "00021-60f4c072-7461-44a9-a652-acd18e522823",
        "deepnote_cell_type": "markdown"
      }
    },
    {
      "cell_type": "markdown",
      "source": "## Question 5\n\nConstruct a 95% confidence interval for the first and second systolic blood pressure measures, and for the difference between the first and second systolic blood pressure measurements within a subject.",
      "metadata": {
        "cell_id": "00022-639fbeaa-7180-411d-89ba-37a43653840d",
        "deepnote_cell_type": "markdown"
      }
    },
    {
      "cell_type": "code",
      "metadata": {
        "cell_id": "00023-d3a0409c-132f-4226-b080-023ee232733a",
        "deepnote_cell_type": "code"
      },
      "source": "# enter code here",
      "execution_count": null,
      "outputs": []
    },
    {
      "cell_type": "markdown",
      "source": "__Q5a.__ Based on these confidence intervals, would you say that a difference of zero between the population mean values of the first and second systolic blood pressure measures is consistent with the data?",
      "metadata": {
        "cell_id": "00024-f96b6b9a-8d7c-40ae-b9c9-9a9374060ae9",
        "deepnote_cell_type": "markdown"
      }
    },
    {
      "cell_type": "markdown",
      "source": "",
      "metadata": {
        "cell_id": "00025-79f040e4-91b1-46de-999d-381a6b0601e6",
        "deepnote_cell_type": "markdown"
      }
    },
    {
      "cell_type": "markdown",
      "source": "\n__Q5b.__ Discuss how the width of the confidence interval for the within-subject difference compares to the widths of the confidence intervals for the first and second measures.",
      "metadata": {
        "cell_id": "00026-2be5e16e-d256-44c7-8178-bb987bb974f4",
        "deepnote_cell_type": "markdown"
      }
    },
    {
      "cell_type": "markdown",
      "source": "",
      "metadata": {
        "cell_id": "00027-d957b3cd-cf1b-4d56-9633-0447765d812a",
        "deepnote_cell_type": "markdown"
      }
    },
    {
      "cell_type": "markdown",
      "source": "## Question 6\n\nConstruct a 95% confidence interval for the mean difference between the average age of a smoker, and the average age of a non-smoker.",
      "metadata": {
        "cell_id": "00028-63a269de-96e0-49bc-93eb-5ad329b54815",
        "deepnote_cell_type": "markdown"
      }
    },
    {
      "cell_type": "code",
      "metadata": {
        "cell_id": "00029-80e7ee18-6ca0-438f-9a66-0c94a4613bc8",
        "deepnote_cell_type": "code"
      },
      "source": "# insert your code here",
      "execution_count": null,
      "outputs": []
    },
    {
      "cell_type": "markdown",
      "source": "__Q6a.__ Use graphical and numerical techniques to compare the variation in the ages of smokers to the variation in the ages of non-smokers.  ",
      "metadata": {
        "cell_id": "00030-dc442788-01db-447c-a647-27ce1ade90fd",
        "deepnote_cell_type": "markdown"
      }
    },
    {
      "cell_type": "code",
      "metadata": {
        "cell_id": "00031-8b9cf447-1568-4bef-9787-a1b8f333713a",
        "deepnote_cell_type": "code"
      },
      "source": "# insert your code here",
      "execution_count": 1,
      "outputs": []
    },
    {
      "cell_type": "markdown",
      "source": "__Q6b.__ Does it appear that uncertainty about the mean age of smokers, or uncertainty about the mean age of non-smokers contributed more to the uncertainty for the mean difference that we are focusing on here?",
      "metadata": {
        "cell_id": "00032-7ac20282-8113-4ca3-9fa4-dcc7d22e473b",
        "deepnote_cell_type": "markdown"
      }
    },
    {
      "cell_type": "markdown",
      "source": "",
      "metadata": {
        "cell_id": "00033-9c0cbfab-f886-420a-b25a-9d596a13a17a",
        "deepnote_cell_type": "markdown"
      }
    },
    {
      "cell_type": "markdown",
      "source": "<a style='text-decoration:none;line-height:16px;display:flex;color:#5B5B62;padding:10px;justify-content:end;' href='https://deepnote.com?utm_source=created-in-deepnote-cell&projectId=796ba814-f632-4502-b0d7-7e2f8f9e546d' target=\"_blank\">\n<img alt='Created in deepnote.com' style='display:inline;max-height:16px;margin:0px;margin-right:7.5px;' src='data:image/svg+xml;base64,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' > </img>\nCreated in <span style='font-weight:600;margin-left:4px;'>Deepnote</span></a>",
      "metadata": {
        "tags": [],
        "created_in_deepnote_cell": true,
        "deepnote_cell_type": "markdown"
      }
    }
  ],
  "nbformat": 4,
  "nbformat_minor": 2,
  "metadata": {
    "kernelspec": {
      "display_name": "Python 3",
      "language": "python",
      "name": "python3"
    },
    "language_info": {
      "codemirror_mode": {
        "name": "ipython",
        "version": 3
      },
      "file_extension": ".py",
      "mimetype": "text/x-python",
      "name": "python",
      "nbconvert_exporter": "python",
      "pygments_lexer": "ipython3",
      "version": "3.8.5"
    },
    "deepnote_notebook_id": "1df55d29-08c4-4c3b-8316-f3895b484c08",
    "deepnote": {},
    "deepnote_execution_queue": []
  }
}