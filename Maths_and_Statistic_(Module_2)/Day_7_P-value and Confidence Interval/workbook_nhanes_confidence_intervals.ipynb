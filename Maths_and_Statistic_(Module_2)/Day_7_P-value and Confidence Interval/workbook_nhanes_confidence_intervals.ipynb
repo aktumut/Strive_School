{
  "cells": [
    {
      "cell_type": "markdown",
      "source": "# Confidence intervals case study using NHANES data\n\n\nThis notebook demonstrates how to use Python and its statistical libraries to construct confidence intervals for proportions and means.  We will also cover some important points relating to the properties of confidence intervals, and discuss how to use and interpret confidence intervals in practice.  We will use the 2015-2016 wave of the [NHANES](https://www.cdc.gov/nchs/nhanes/index.htm) data for all the analyses below.\n\nIt is important to note that the NHANES data are a \"complex survey\".  The data are not an independent and representative sample from the target population.  Proper analysis of complex survey data should make use of additional information about the manner in which the data were collected.  Since complex survey analysis is a somewhat specialized topic, we ignore this aspect of the data here, and analyze the NHANES data as if it were an independent and identically distributed sample from a population.\n\nThe following module import statements and data reading statement are identical to what we have used previously in course 1.",
      "metadata": {
        "cell_id": "00000-6d766c73-1009-4729-8bd8-096c73d50c66",
        "deepnote_cell_type": "markdown"
      }
    },
    {
      "cell_type": "code",
      "metadata": {
        "cell_id": "00001-b306e55d-9e0c-4365-b773-d0e273deac8c",
        "deepnote_to_be_reexecuted": false,
        "source_hash": "9f932a4e",
        "execution_millis": 0,
        "execution_start": 1617883533412,
        "deepnote_cell_type": "code"
      },
      "source": "%matplotlib inline\nimport matplotlib.pyplot as plt\nimport pandas as pd\nimport numpy as np\nimport seaborn as sns\nimport statsmodels.api as sm",
      "execution_count": null,
      "outputs": []
    },
    {
      "cell_type": "markdown",
      "source": "We can now read the data into Python using the [read_csv](https://pandas.pydata.org/pandas-docs/stable/generated/pandas.read_csv.html) function:",
      "metadata": {
        "cell_id": "00002-a0e68914-2728-42b4-b786-4a7e732754f8",
        "deepnote_cell_type": "markdown"
      }
    },
    {
      "cell_type": "code",
      "metadata": {
        "cell_id": "00003-b213f8e2-f13f-46e8-9c60-05fbdba88a1e",
        "deepnote_to_be_reexecuted": false,
        "source_hash": "ca8d22a1",
        "execution_millis": 190,
        "execution_start": 1617883638955,
        "deepnote_cell_type": "code"
      },
      "source": "da = pd.read_csv(\"nhanes_2015_2016.csv\")\nda",
      "execution_count": null,
      "outputs": [
        {
          "output_type": "execute_result",
          "execution_count": 4,
          "data": {
            "application/vnd.deepnote.dataframe.v2+json": {
              "row_count": 5735,
              "column_count": 28,
              "columns": [
                {
                  "name": "SEQN",
                  "dtype": "int64",
                  "stats": {
                    "unique_count": 5735,
                    "nan_count": 0,
                    "min": 83732,
                    "max": 93702,
                    "histogram": [
                      {
                        "bin_start": 83732,
                        "bin_end": 84729,
                        "count": 580
                      },
                      {
                        "bin_start": 84729,
                        "bin_end": 85726,
                        "count": 584
                      },
                      {
                        "bin_start": 85726,
                        "bin_end": 86723,
                        "count": 612
                      },
                      {
                        "bin_start": 86723,
                        "bin_end": 87720,
                        "count": 556
                      },
                      {
                        "bin_start": 87720,
                        "bin_end": 88717,
                        "count": 562
                      },
                      {
                        "bin_start": 88717,
                        "bin_end": 89714,
                        "count": 588
                      },
                      {
                        "bin_start": 89714,
                        "bin_end": 90711,
                        "count": 560
                      },
                      {
                        "bin_start": 90711,
                        "bin_end": 91708,
                        "count": 563
                      },
                      {
                        "bin_start": 91708,
                        "bin_end": 92705,
                        "count": 561
                      },
                      {
                        "bin_start": 92705,
                        "bin_end": 93702,
                        "count": 569
                      }
                    ]
                  }
                },
                {
                  "name": "ALQ101",
                  "dtype": "float64",
                  "stats": {
                    "unique_count": 3,
                    "nan_count": 527,
                    "min": 1,
                    "max": 9,
                    "histogram": [
                      {
                        "bin_start": 1,
                        "bin_end": 1.8,
                        "count": 3477
                      },
                      {
                        "bin_start": 1.8,
                        "bin_end": 2.6,
                        "count": 1728
                      },
                      {
                        "bin_start": 2.6,
                        "bin_end": 3.4000000000000004,
                        "count": 0
                      },
                      {
                        "bin_start": 3.4000000000000004,
                        "bin_end": 4.2,
                        "count": 0
                      },
                      {
                        "bin_start": 4.2,
                        "bin_end": 5,
                        "count": 0
                      },
                      {
                        "bin_start": 5,
                        "bin_end": 5.800000000000001,
                        "count": 0
                      },
                      {
                        "bin_start": 5.800000000000001,
                        "bin_end": 6.6000000000000005,
                        "count": 0
                      },
                      {
                        "bin_start": 6.6000000000000005,
                        "bin_end": 7.4,
                        "count": 0
                      },
                      {
                        "bin_start": 7.4,
                        "bin_end": 8.2,
                        "count": 0
                      },
                      {
                        "bin_start": 8.2,
                        "bin_end": 9,
                        "count": 3
                      }
                    ]
                  }
                },
                {
                  "name": "ALQ110",
                  "dtype": "float64",
                  "stats": {
                    "unique_count": 4,
                    "nan_count": 4004,
                    "min": 1,
                    "max": 9,
                    "histogram": [
                      {
                        "bin_start": 1,
                        "bin_end": 1.8,
                        "count": 747
                      },
                      {
                        "bin_start": 1.8,
                        "bin_end": 2.6,
                        "count": 979
                      },
                      {
                        "bin_start": 2.6,
                        "bin_end": 3.4000000000000004,
                        "count": 0
                      },
                      {
                        "bin_start": 3.4000000000000004,
                        "bin_end": 4.2,
                        "count": 0
                      },
                      {
                        "bin_start": 4.2,
                        "bin_end": 5,
                        "count": 0
                      },
                      {
                        "bin_start": 5,
                        "bin_end": 5.800000000000001,
                        "count": 0
                      },
                      {
                        "bin_start": 5.800000000000001,
                        "bin_end": 6.6000000000000005,
                        "count": 0
                      },
                      {
                        "bin_start": 6.6000000000000005,
                        "bin_end": 7.4,
                        "count": 1
                      },
                      {
                        "bin_start": 7.4,
                        "bin_end": 8.2,
                        "count": 0
                      },
                      {
                        "bin_start": 8.2,
                        "bin_end": 9,
                        "count": 4
                      }
                    ]
                  }
                },
                {
                  "name": "ALQ130",
                  "dtype": "float64",
                  "stats": {
                    "unique_count": 15,
                    "nan_count": 2356,
                    "min": 1,
                    "max": 999,
                    "histogram": [
                      {
                        "bin_start": 1,
                        "bin_end": 100.8,
                        "count": 3375
                      },
                      {
                        "bin_start": 100.8,
                        "bin_end": 200.6,
                        "count": 0
                      },
                      {
                        "bin_start": 200.6,
                        "bin_end": 300.4,
                        "count": 0
                      },
                      {
                        "bin_start": 300.4,
                        "bin_end": 400.2,
                        "count": 0
                      },
                      {
                        "bin_start": 400.2,
                        "bin_end": 500,
                        "count": 0
                      },
                      {
                        "bin_start": 500,
                        "bin_end": 599.8,
                        "count": 0
                      },
                      {
                        "bin_start": 599.8,
                        "bin_end": 699.6,
                        "count": 0
                      },
                      {
                        "bin_start": 699.6,
                        "bin_end": 799.4,
                        "count": 0
                      },
                      {
                        "bin_start": 799.4,
                        "bin_end": 899.1999999999999,
                        "count": 0
                      },
                      {
                        "bin_start": 899.1999999999999,
                        "bin_end": 999,
                        "count": 4
                      }
                    ]
                  }
                },
                {
                  "name": "SMQ020",
                  "dtype": "int64",
                  "stats": {
                    "unique_count": 4,
                    "nan_count": 0,
                    "min": 1,
                    "max": 9,
                    "histogram": [
                      {
                        "bin_start": 1,
                        "bin_end": 1.8,
                        "count": 2319
                      },
                      {
                        "bin_start": 1.8,
                        "bin_end": 2.6,
                        "count": 3406
                      },
                      {
                        "bin_start": 2.6,
                        "bin_end": 3.4000000000000004,
                        "count": 0
                      },
                      {
                        "bin_start": 3.4000000000000004,
                        "bin_end": 4.2,
                        "count": 0
                      },
                      {
                        "bin_start": 4.2,
                        "bin_end": 5,
                        "count": 0
                      },
                      {
                        "bin_start": 5,
                        "bin_end": 5.800000000000001,
                        "count": 0
                      },
                      {
                        "bin_start": 5.800000000000001,
                        "bin_end": 6.6000000000000005,
                        "count": 0
                      },
                      {
                        "bin_start": 6.6000000000000005,
                        "bin_end": 7.4,
                        "count": 2
                      },
                      {
                        "bin_start": 7.4,
                        "bin_end": 8.2,
                        "count": 0
                      },
                      {
                        "bin_start": 8.2,
                        "bin_end": 9,
                        "count": 8
                      }
                    ]
                  }
                },
                {
                  "name": "RIAGENDR",
                  "dtype": "int64",
                  "stats": {
                    "unique_count": 2,
                    "nan_count": 0,
                    "min": 1,
                    "max": 2,
                    "histogram": [
                      {
                        "bin_start": 1,
                        "bin_end": 1.1,
                        "count": 2759
                      },
                      {
                        "bin_start": 1.1,
                        "bin_end": 1.2,
                        "count": 0
                      },
                      {
                        "bin_start": 1.2,
                        "bin_end": 1.3,
                        "count": 0
                      },
                      {
                        "bin_start": 1.3,
                        "bin_end": 1.4,
                        "count": 0
                      },
                      {
                        "bin_start": 1.4,
                        "bin_end": 1.5,
                        "count": 0
                      },
                      {
                        "bin_start": 1.5,
                        "bin_end": 1.6,
                        "count": 0
                      },
                      {
                        "bin_start": 1.6,
                        "bin_end": 1.7000000000000002,
                        "count": 0
                      },
                      {
                        "bin_start": 1.7000000000000002,
                        "bin_end": 1.8,
                        "count": 0
                      },
                      {
                        "bin_start": 1.8,
                        "bin_end": 1.9,
                        "count": 0
                      },
                      {
                        "bin_start": 1.9,
                        "bin_end": 2,
                        "count": 2976
                      }
                    ]
                  }
                },
                {
                  "name": "RIDAGEYR",
                  "dtype": "int64",
                  "stats": {
                    "unique_count": 63,
                    "nan_count": 0,
                    "min": 18,
                    "max": 80,
                    "histogram": [
                      {
                        "bin_start": 18,
                        "bin_end": 24.2,
                        "count": 682
                      },
                      {
                        "bin_start": 24.2,
                        "bin_end": 30.4,
                        "count": 604
                      },
                      {
                        "bin_start": 30.4,
                        "bin_end": 36.6,
                        "count": 591
                      },
                      {
                        "bin_start": 36.6,
                        "bin_end": 42.8,
                        "count": 524
                      },
                      {
                        "bin_start": 42.8,
                        "bin_end": 49,
                        "count": 561
                      },
                      {
                        "bin_start": 49,
                        "bin_end": 55.2,
                        "count": 644
                      },
                      {
                        "bin_start": 55.2,
                        "bin_end": 61.4,
                        "count": 551
                      },
                      {
                        "bin_start": 61.4,
                        "bin_end": 67.6,
                        "count": 532
                      },
                      {
                        "bin_start": 67.6,
                        "bin_end": 73.80000000000001,
                        "count": 420
                      },
                      {
                        "bin_start": 73.80000000000001,
                        "bin_end": 80,
                        "count": 626
                      }
                    ]
                  }
                },
                {
                  "name": "RIDRETH1",
                  "dtype": "int64",
                  "stats": {
                    "unique_count": 5,
                    "nan_count": 0,
                    "min": 1,
                    "max": 5,
                    "histogram": [
                      {
                        "bin_start": 1,
                        "bin_end": 1.4,
                        "count": 1018
                      },
                      {
                        "bin_start": 1.4,
                        "bin_end": 1.8,
                        "count": 0
                      },
                      {
                        "bin_start": 1.8,
                        "bin_end": 2.2,
                        "count": 750
                      },
                      {
                        "bin_start": 2.2,
                        "bin_end": 2.6,
                        "count": 0
                      },
                      {
                        "bin_start": 2.6,
                        "bin_end": 3,
                        "count": 0
                      },
                      {
                        "bin_start": 3,
                        "bin_end": 3.4000000000000004,
                        "count": 1839
                      },
                      {
                        "bin_start": 3.4000000000000004,
                        "bin_end": 3.8000000000000003,
                        "count": 0
                      },
                      {
                        "bin_start": 3.8000000000000003,
                        "bin_end": 4.2,
                        "count": 1227
                      },
                      {
                        "bin_start": 4.2,
                        "bin_end": 4.6,
                        "count": 0
                      },
                      {
                        "bin_start": 4.6,
                        "bin_end": 5,
                        "count": 901
                      }
                    ]
                  }
                },
                {
                  "name": "DMDCITZN",
                  "dtype": "float64",
                  "stats": {
                    "unique_count": 4,
                    "nan_count": 1,
                    "min": 1,
                    "max": 9,
                    "histogram": [
                      {
                        "bin_start": 1,
                        "bin_end": 1.8,
                        "count": 4746
                      },
                      {
                        "bin_start": 1.8,
                        "bin_end": 2.6,
                        "count": 975
                      },
                      {
                        "bin_start": 2.6,
                        "bin_end": 3.4000000000000004,
                        "count": 0
                      },
                      {
                        "bin_start": 3.4000000000000004,
                        "bin_end": 4.2,
                        "count": 0
                      },
                      {
                        "bin_start": 4.2,
                        "bin_end": 5,
                        "count": 0
                      },
                      {
                        "bin_start": 5,
                        "bin_end": 5.800000000000001,
                        "count": 0
                      },
                      {
                        "bin_start": 5.800000000000001,
                        "bin_end": 6.6000000000000005,
                        "count": 0
                      },
                      {
                        "bin_start": 6.6000000000000005,
                        "bin_end": 7.4,
                        "count": 8
                      },
                      {
                        "bin_start": 7.4,
                        "bin_end": 8.2,
                        "count": 0
                      },
                      {
                        "bin_start": 8.2,
                        "bin_end": 9,
                        "count": 5
                      }
                    ]
                  }
                },
                {
                  "name": "DMDEDUC2",
                  "dtype": "float64",
                  "stats": {
                    "unique_count": 6,
                    "nan_count": 261,
                    "min": 1,
                    "max": 9,
                    "histogram": [
                      {
                        "bin_start": 1,
                        "bin_end": 1.8,
                        "count": 655
                      },
                      {
                        "bin_start": 1.8,
                        "bin_end": 2.6,
                        "count": 643
                      },
                      {
                        "bin_start": 2.6,
                        "bin_end": 3.4000000000000004,
                        "count": 1186
                      },
                      {
                        "bin_start": 3.4000000000000004,
                        "bin_end": 4.2,
                        "count": 1621
                      },
                      {
                        "bin_start": 4.2,
                        "bin_end": 5,
                        "count": 0
                      },
                      {
                        "bin_start": 5,
                        "bin_end": 5.800000000000001,
                        "count": 1366
                      },
                      {
                        "bin_start": 5.800000000000001,
                        "bin_end": 6.6000000000000005,
                        "count": 0
                      },
                      {
                        "bin_start": 6.6000000000000005,
                        "bin_end": 7.4,
                        "count": 0
                      },
                      {
                        "bin_start": 7.4,
                        "bin_end": 8.2,
                        "count": 0
                      },
                      {
                        "bin_start": 8.2,
                        "bin_end": 9,
                        "count": 3
                      }
                    ]
                  }
                },
                {
                  "name": "DMDMARTL",
                  "dtype": "float64",
                  "stats": {
                    "unique_count": 7,
                    "nan_count": 261,
                    "min": 1,
                    "max": 77,
                    "histogram": [
                      {
                        "bin_start": 1,
                        "bin_end": 8.6,
                        "count": 5472
                      },
                      {
                        "bin_start": 8.6,
                        "bin_end": 16.2,
                        "count": 0
                      },
                      {
                        "bin_start": 16.2,
                        "bin_end": 23.799999999999997,
                        "count": 0
                      },
                      {
                        "bin_start": 23.799999999999997,
                        "bin_end": 31.4,
                        "count": 0
                      },
                      {
                        "bin_start": 31.4,
                        "bin_end": 39,
                        "count": 0
                      },
                      {
                        "bin_start": 39,
                        "bin_end": 46.599999999999994,
                        "count": 0
                      },
                      {
                        "bin_start": 46.599999999999994,
                        "bin_end": 54.199999999999996,
                        "count": 0
                      },
                      {
                        "bin_start": 54.199999999999996,
                        "bin_end": 61.8,
                        "count": 0
                      },
                      {
                        "bin_start": 61.8,
                        "bin_end": 69.39999999999999,
                        "count": 0
                      },
                      {
                        "bin_start": 69.39999999999999,
                        "bin_end": 77,
                        "count": 2
                      }
                    ]
                  }
                },
                {
                  "name": "DMDHHSIZ",
                  "dtype": "int64",
                  "stats": {
                    "unique_count": 7,
                    "nan_count": 0,
                    "min": 1,
                    "max": 7,
                    "histogram": [
                      {
                        "bin_start": 1,
                        "bin_end": 1.6,
                        "count": 770
                      },
                      {
                        "bin_start": 1.6,
                        "bin_end": 2.2,
                        "count": 1546
                      },
                      {
                        "bin_start": 2.2,
                        "bin_end": 2.8,
                        "count": 0
                      },
                      {
                        "bin_start": 2.8,
                        "bin_end": 3.4,
                        "count": 1037
                      },
                      {
                        "bin_start": 3.4,
                        "bin_end": 4,
                        "count": 0
                      },
                      {
                        "bin_start": 4,
                        "bin_end": 4.6,
                        "count": 936
                      },
                      {
                        "bin_start": 4.6,
                        "bin_end": 5.2,
                        "count": 699
                      },
                      {
                        "bin_start": 5.2,
                        "bin_end": 5.8,
                        "count": 0
                      },
                      {
                        "bin_start": 5.8,
                        "bin_end": 6.3999999999999995,
                        "count": 379
                      },
                      {
                        "bin_start": 6.3999999999999995,
                        "bin_end": 7,
                        "count": 368
                      }
                    ]
                  }
                },
                {
                  "name": "WTINT2YR",
                  "dtype": "float64",
                  "stats": {
                    "unique_count": 4355,
                    "nan_count": 0,
                    "min": 5330.96,
                    "max": 233755.84,
                    "histogram": [
                      {
                        "bin_start": 5330.96,
                        "bin_end": 28173.448,
                        "count": 3360
                      },
                      {
                        "bin_start": 28173.448,
                        "bin_end": 51015.936,
                        "count": 1150
                      },
                      {
                        "bin_start": 51015.936,
                        "bin_end": 73858.42400000001,
                        "count": 297
                      },
                      {
                        "bin_start": 73858.42400000001,
                        "bin_end": 96700.91200000001,
                        "count": 255
                      },
                      {
                        "bin_start": 96700.91200000001,
                        "bin_end": 119543.40000000001,
                        "count": 249
                      },
                      {
                        "bin_start": 119543.40000000001,
                        "bin_end": 142385.888,
                        "count": 216
                      },
                      {
                        "bin_start": 142385.888,
                        "bin_end": 165228.376,
                        "count": 147
                      },
                      {
                        "bin_start": 165228.376,
                        "bin_end": 188070.864,
                        "count": 42
                      },
                      {
                        "bin_start": 188070.864,
                        "bin_end": 210913.352,
                        "count": 12
                      },
                      {
                        "bin_start": 210913.352,
                        "bin_end": 233755.84,
                        "count": 7
                      }
                    ]
                  }
                },
                {
                  "name": "SDMVPSU",
                  "dtype": "int64",
                  "stats": {
                    "unique_count": 2,
                    "nan_count": 0,
                    "min": 1,
                    "max": 2,
                    "histogram": [
                      {
                        "bin_start": 1,
                        "bin_end": 1.1,
                        "count": 2937
                      },
                      {
                        "bin_start": 1.1,
                        "bin_end": 1.2,
                        "count": 0
                      },
                      {
                        "bin_start": 1.2,
                        "bin_end": 1.3,
                        "count": 0
                      },
                      {
                        "bin_start": 1.3,
                        "bin_end": 1.4,
                        "count": 0
                      },
                      {
                        "bin_start": 1.4,
                        "bin_end": 1.5,
                        "count": 0
                      },
                      {
                        "bin_start": 1.5,
                        "bin_end": 1.6,
                        "count": 0
                      },
                      {
                        "bin_start": 1.6,
                        "bin_end": 1.7000000000000002,
                        "count": 0
                      },
                      {
                        "bin_start": 1.7000000000000002,
                        "bin_end": 1.8,
                        "count": 0
                      },
                      {
                        "bin_start": 1.8,
                        "bin_end": 1.9,
                        "count": 0
                      },
                      {
                        "bin_start": 1.9,
                        "bin_end": 2,
                        "count": 2798
                      }
                    ]
                  }
                },
                {
                  "name": "SDMVSTRA",
                  "dtype": "int64",
                  "stats": {
                    "unique_count": 15,
                    "nan_count": 0,
                    "min": 119,
                    "max": 133,
                    "histogram": [
                      {
                        "bin_start": 119,
                        "bin_end": 120.4,
                        "count": 641
                      },
                      {
                        "bin_start": 120.4,
                        "bin_end": 121.8,
                        "count": 390
                      },
                      {
                        "bin_start": 121.8,
                        "bin_end": 123.2,
                        "count": 740
                      },
                      {
                        "bin_start": 123.2,
                        "bin_end": 124.6,
                        "count": 366
                      },
                      {
                        "bin_start": 124.6,
                        "bin_end": 126,
                        "count": 434
                      },
                      {
                        "bin_start": 126,
                        "bin_end": 127.4,
                        "count": 764
                      },
                      {
                        "bin_start": 127.4,
                        "bin_end": 128.8,
                        "count": 388
                      },
                      {
                        "bin_start": 128.8,
                        "bin_end": 130.2,
                        "count": 781
                      },
                      {
                        "bin_start": 130.2,
                        "bin_end": 131.6,
                        "count": 434
                      },
                      {
                        "bin_start": 131.6,
                        "bin_end": 133,
                        "count": 797
                      }
                    ]
                  }
                },
                {
                  "name": "INDFMPIR",
                  "dtype": "float64",
                  "stats": {
                    "unique_count": 440,
                    "nan_count": 601,
                    "min": 0,
                    "max": 5,
                    "histogram": [
                      {
                        "bin_start": 0,
                        "bin_end": 0.5,
                        "count": 398
                      },
                      {
                        "bin_start": 0.5,
                        "bin_end": 1,
                        "count": 781
                      },
                      {
                        "bin_start": 1,
                        "bin_end": 1.5,
                        "count": 787
                      },
                      {
                        "bin_start": 1.5,
                        "bin_end": 2,
                        "count": 619
                      },
                      {
                        "bin_start": 2,
                        "bin_end": 2.5,
                        "count": 455
                      },
                      {
                        "bin_start": 2.5,
                        "bin_end": 3,
                        "count": 421
                      },
                      {
                        "bin_start": 3,
                        "bin_end": 3.5,
                        "count": 262
                      },
                      {
                        "bin_start": 3.5,
                        "bin_end": 4,
                        "count": 224
                      },
                      {
                        "bin_start": 4,
                        "bin_end": 4.5,
                        "count": 211
                      },
                      {
                        "bin_start": 4.5,
                        "bin_end": 5,
                        "count": 976
                      }
                    ]
                  }
                },
                {
                  "name": "BPXSY1",
                  "dtype": "float64",
                  "stats": {
                    "unique_count": 68,
                    "nan_count": 334,
                    "min": 82,
                    "max": 236,
                    "histogram": [
                      {
                        "bin_start": 82,
                        "bin_end": 97.4,
                        "count": 141
                      },
                      {
                        "bin_start": 97.4,
                        "bin_end": 112.8,
                        "count": 1264
                      },
                      {
                        "bin_start": 112.8,
                        "bin_end": 128.2,
                        "count": 2132
                      },
                      {
                        "bin_start": 128.2,
                        "bin_end": 143.6,
                        "count": 1044
                      },
                      {
                        "bin_start": 143.6,
                        "bin_end": 159,
                        "count": 547
                      },
                      {
                        "bin_start": 159,
                        "bin_end": 174.4,
                        "count": 177
                      },
                      {
                        "bin_start": 174.4,
                        "bin_end": 189.8,
                        "count": 61
                      },
                      {
                        "bin_start": 189.8,
                        "bin_end": 205.2,
                        "count": 26
                      },
                      {
                        "bin_start": 205.2,
                        "bin_end": 220.6,
                        "count": 7
                      },
                      {
                        "bin_start": 220.6,
                        "bin_end": 236,
                        "count": 2
                      }
                    ]
                  }
                },
                {
                  "name": "BPXDI1",
                  "dtype": "float64"
                },
                {
                  "name": "BPXSY2",
                  "dtype": "float64"
                },
                {
                  "name": "BPXDI2",
                  "dtype": "float64"
                },
                {
                  "name": "BMXWT",
                  "dtype": "float64"
                },
                {
                  "name": "BMXHT",
                  "dtype": "float64"
                },
                {
                  "name": "BMXBMI",
                  "dtype": "float64"
                },
                {
                  "name": "BMXLEG",
                  "dtype": "float64"
                },
                {
                  "name": "BMXARML",
                  "dtype": "float64"
                },
                {
                  "name": "BMXARMC",
                  "dtype": "float64"
                },
                {
                  "name": "BMXWAIST",
                  "dtype": "float64"
                },
                {
                  "name": "HIQ210",
                  "dtype": "float64"
                },
                {
                  "name": "_deepnote_index_column",
                  "dtype": "int64"
                }
              ],
              "rows_top": [
                {
                  "SEQN": 83732,
                  "ALQ101": "1.0",
                  "ALQ110": "nan",
                  "ALQ130": "1.0",
                  "SMQ020": 1,
                  "RIAGENDR": 1,
                  "RIDAGEYR": 62,
                  "RIDRETH1": 3,
                  "DMDCITZN": 1,
                  "DMDEDUC2": "5.0",
                  "DMDMARTL": "1.0",
                  "DMDHHSIZ": 2,
                  "WTINT2YR": 134671.37,
                  "SDMVPSU": 1,
                  "SDMVSTRA": 125,
                  "INDFMPIR": 4.39,
                  "BPXSY1": "128.0",
                  "BPXDI1": "70.0",
                  "BPXSY2": "124.0",
                  "BPXDI2": "64.0",
                  "BMXWT": 94.8,
                  "BMXHT": 184.5,
                  "BMXBMI": 27.8,
                  "BMXLEG": "43.3",
                  "BMXARML": "43.6",
                  "BMXARMC": "35.9",
                  "BMXWAIST": "101.1",
                  "HIQ210": "2.0",
                  "_deepnote_index_column": 0
                },
                {
                  "SEQN": 83733,
                  "ALQ101": "1.0",
                  "ALQ110": "nan",
                  "ALQ130": "6.0",
                  "SMQ020": 1,
                  "RIAGENDR": 1,
                  "RIDAGEYR": 53,
                  "RIDRETH1": 3,
                  "DMDCITZN": 2,
                  "DMDEDUC2": "3.0",
                  "DMDMARTL": "3.0",
                  "DMDHHSIZ": 1,
                  "WTINT2YR": 24328.56,
                  "SDMVPSU": 1,
                  "SDMVSTRA": 125,
                  "INDFMPIR": 1.32,
                  "BPXSY1": "146.0",
                  "BPXDI1": "88.0",
                  "BPXSY2": "140.0",
                  "BPXDI2": "88.0",
                  "BMXWT": 90.4,
                  "BMXHT": 171.4,
                  "BMXBMI": 30.8,
                  "BMXLEG": "38.0",
                  "BMXARML": "40.0",
                  "BMXARMC": "33.2",
                  "BMXWAIST": "107.9",
                  "HIQ210": "nan",
                  "_deepnote_index_column": 1
                },
                {
                  "SEQN": 83734,
                  "ALQ101": "1.0",
                  "ALQ110": "nan",
                  "ALQ130": "nan",
                  "SMQ020": 1,
                  "RIAGENDR": 1,
                  "RIDAGEYR": 78,
                  "RIDRETH1": 3,
                  "DMDCITZN": 1,
                  "DMDEDUC2": "3.0",
                  "DMDMARTL": "1.0",
                  "DMDHHSIZ": 2,
                  "WTINT2YR": 12400.01,
                  "SDMVPSU": 1,
                  "SDMVSTRA": 131,
                  "INDFMPIR": 1.51,
                  "BPXSY1": "138.0",
                  "BPXDI1": "46.0",
                  "BPXSY2": "132.0",
                  "BPXDI2": "44.0",
                  "BMXWT": 83.4,
                  "BMXHT": 170.1,
                  "BMXBMI": 28.8,
                  "BMXLEG": "35.6",
                  "BMXARML": "37.0",
                  "BMXARMC": "31.0",
                  "BMXWAIST": "116.5",
                  "HIQ210": "2.0",
                  "_deepnote_index_column": 2
                },
                {
                  "SEQN": 83735,
                  "ALQ101": "2.0",
                  "ALQ110": "1.0",
                  "ALQ130": "1.0",
                  "SMQ020": 2,
                  "RIAGENDR": 2,
                  "RIDAGEYR": 56,
                  "RIDRETH1": 3,
                  "DMDCITZN": 1,
                  "DMDEDUC2": "5.0",
                  "DMDMARTL": "6.0",
                  "DMDHHSIZ": 1,
                  "WTINT2YR": 102718,
                  "SDMVPSU": 1,
                  "SDMVSTRA": 131,
                  "INDFMPIR": 5,
                  "BPXSY1": "132.0",
                  "BPXDI1": "72.0",
                  "BPXSY2": "134.0",
                  "BPXDI2": "68.0",
                  "BMXWT": 109.8,
                  "BMXHT": 160.9,
                  "BMXBMI": 42.4,
                  "BMXLEG": "38.5",
                  "BMXARML": "37.7",
                  "BMXARMC": "38.3",
                  "BMXWAIST": "110.1",
                  "HIQ210": "2.0",
                  "_deepnote_index_column": 3
                },
                {
                  "SEQN": 83736,
                  "ALQ101": "2.0",
                  "ALQ110": "1.0",
                  "ALQ130": "1.0",
                  "SMQ020": 2,
                  "RIAGENDR": 2,
                  "RIDAGEYR": 42,
                  "RIDRETH1": 4,
                  "DMDCITZN": 1,
                  "DMDEDUC2": "4.0",
                  "DMDMARTL": "3.0",
                  "DMDHHSIZ": 5,
                  "WTINT2YR": 17627.67,
                  "SDMVPSU": 2,
                  "SDMVSTRA": 126,
                  "INDFMPIR": 1.23,
                  "BPXSY1": "100.0",
                  "BPXDI1": "70.0",
                  "BPXSY2": "114.0",
                  "BPXDI2": "54.0",
                  "BMXWT": 55.2,
                  "BMXHT": 164.9,
                  "BMXBMI": 20.3,
                  "BMXLEG": "37.4",
                  "BMXARML": "36.0",
                  "BMXARMC": "27.2",
                  "BMXWAIST": "80.4",
                  "HIQ210": "2.0",
                  "_deepnote_index_column": 4
                },
                {
                  "SEQN": 83737,
                  "ALQ101": "2.0",
                  "ALQ110": "2.0",
                  "ALQ130": "nan",
                  "SMQ020": 2,
                  "RIAGENDR": 2,
                  "RIDAGEYR": 72,
                  "RIDRETH1": 1,
                  "DMDCITZN": 2,
                  "DMDEDUC2": "2.0",
                  "DMDMARTL": "4.0",
                  "DMDHHSIZ": 5,
                  "WTINT2YR": 11252.31,
                  "SDMVPSU": 1,
                  "SDMVSTRA": 128,
                  "INDFMPIR": 2.82,
                  "BPXSY1": "116.0",
                  "BPXDI1": "58.0",
                  "BPXSY2": "122.0",
                  "BPXDI2": "58.0",
                  "BMXWT": 64.4,
                  "BMXHT": 150,
                  "BMXBMI": 28.6,
                  "BMXLEG": "34.4",
                  "BMXARML": "33.5",
                  "BMXARMC": "31.4",
                  "BMXWAIST": "92.9",
                  "HIQ210": "nan",
                  "_deepnote_index_column": 5
                },
                {
                  "SEQN": 83741,
                  "ALQ101": "1.0",
                  "ALQ110": "nan",
                  "ALQ130": "8.0",
                  "SMQ020": 1,
                  "RIAGENDR": 1,
                  "RIDAGEYR": 22,
                  "RIDRETH1": 4,
                  "DMDCITZN": 1,
                  "DMDEDUC2": "4.0",
                  "DMDMARTL": "5.0",
                  "DMDHHSIZ": 3,
                  "WTINT2YR": 37043.09,
                  "SDMVPSU": 2,
                  "SDMVSTRA": 128,
                  "INDFMPIR": 2.08,
                  "BPXSY1": "110.0",
                  "BPXDI1": "70.0",
                  "BPXSY2": "112.0",
                  "BPXDI2": "74.0",
                  "BMXWT": 76.6,
                  "BMXHT": 165.4,
                  "BMXBMI": 28,
                  "BMXLEG": "38.8",
                  "BMXARML": "38.0",
                  "BMXARMC": "34.0",
                  "BMXWAIST": "86.6",
                  "HIQ210": "nan",
                  "_deepnote_index_column": 6
                },
                {
                  "SEQN": 83742,
                  "ALQ101": "1.0",
                  "ALQ110": "nan",
                  "ALQ130": "1.0",
                  "SMQ020": 2,
                  "RIAGENDR": 2,
                  "RIDAGEYR": 32,
                  "RIDRETH1": 1,
                  "DMDCITZN": 2,
                  "DMDEDUC2": "4.0",
                  "DMDMARTL": "1.0",
                  "DMDHHSIZ": 4,
                  "WTINT2YR": 22744.36,
                  "SDMVPSU": 1,
                  "SDMVSTRA": 125,
                  "INDFMPIR": 1.03,
                  "BPXSY1": "120.0",
                  "BPXDI1": "70.0",
                  "BPXSY2": "114.0",
                  "BPXDI2": "70.0",
                  "BMXWT": 64.5,
                  "BMXHT": 151.3,
                  "BMXBMI": 28.2,
                  "BMXLEG": "34.1",
                  "BMXARML": "33.1",
                  "BMXARMC": "31.5",
                  "BMXWAIST": "93.3",
                  "HIQ210": "2.0",
                  "_deepnote_index_column": 7
                },
                {
                  "SEQN": 83743,
                  "ALQ101": "nan",
                  "ALQ110": "nan",
                  "ALQ130": "nan",
                  "SMQ020": 2,
                  "RIAGENDR": 1,
                  "RIDAGEYR": 18,
                  "RIDRETH1": 5,
                  "DMDCITZN": 1,
                  "DMDEDUC2": "nan",
                  "DMDMARTL": "nan",
                  "DMDHHSIZ": 3,
                  "WTINT2YR": 18526.16,
                  "SDMVPSU": 2,
                  "SDMVSTRA": 122,
                  "INDFMPIR": 5,
                  "BPXSY1": "nan",
                  "BPXDI1": "nan",
                  "BPXSY2": "nan",
                  "BPXDI2": "nan",
                  "BMXWT": 72.4,
                  "BMXHT": 166.1,
                  "BMXBMI": 26.2,
                  "BMXLEG": "nan",
                  "BMXARML": "nan",
                  "BMXARMC": "nan",
                  "BMXWAIST": "nan",
                  "HIQ210": "2.0",
                  "_deepnote_index_column": 8
                },
                {
                  "SEQN": 83744,
                  "ALQ101": "1.0",
                  "ALQ110": "nan",
                  "ALQ130": "nan",
                  "SMQ020": 2,
                  "RIAGENDR": 1,
                  "RIDAGEYR": 56,
                  "RIDRETH1": 4,
                  "DMDCITZN": 1,
                  "DMDEDUC2": "3.0",
                  "DMDMARTL": "3.0",
                  "DMDHHSIZ": 1,
                  "WTINT2YR": 20395.54,
                  "SDMVPSU": 2,
                  "SDMVSTRA": 126,
                  "INDFMPIR": 1.19,
                  "BPXSY1": "178.0",
                  "BPXDI1": "116.0",
                  "BPXSY2": "180.0",
                  "BPXDI2": "114.0",
                  "BMXWT": 108.3,
                  "BMXHT": 179.4,
                  "BMXBMI": 33.6,
                  "BMXLEG": "46.0",
                  "BMXARML": "44.1",
                  "BMXARMC": "38.5",
                  "BMXWAIST": "116.0",
                  "HIQ210": "2.0",
                  "_deepnote_index_column": 9
                },
                {
                  "SEQN": 83747,
                  "ALQ101": "1.0",
                  "ALQ110": "nan",
                  "ALQ130": "1.0",
                  "SMQ020": 1,
                  "RIAGENDR": 1,
                  "RIDAGEYR": 46,
                  "RIDRETH1": 3,
                  "DMDCITZN": 1,
                  "DMDEDUC2": "5.0",
                  "DMDMARTL": "6.0",
                  "DMDHHSIZ": 2,
                  "WTINT2YR": 34513.08,
                  "SDMVPSU": 1,
                  "SDMVSTRA": 121,
                  "INDFMPIR": 0.75,
                  "BPXSY1": "144.0",
                  "BPXDI1": "94.0",
                  "BPXSY2": "150.0",
                  "BPXDI2": "90.0",
                  "BMXWT": 86.2,
                  "BMXHT": 176.7,
                  "BMXBMI": 27.6,
                  "BMXLEG": "41.0",
                  "BMXARML": "38.0",
                  "BMXARMC": "33.6",
                  "BMXWAIST": "104.3",
                  "HIQ210": "2.0",
                  "_deepnote_index_column": 10
                },
                {
                  "SEQN": 83750,
                  "ALQ101": "1.0",
                  "ALQ110": "nan",
                  "ALQ130": "3.0",
                  "SMQ020": 1,
                  "RIAGENDR": 1,
                  "RIDAGEYR": 45,
                  "RIDRETH1": 5,
                  "DMDCITZN": 1,
                  "DMDEDUC2": "2.0",
                  "DMDMARTL": "5.0",
                  "DMDHHSIZ": 5,
                  "WTINT2YR": 96194.93,
                  "SDMVPSU": 1,
                  "SDMVSTRA": 125,
                  "INDFMPIR": 1.36,
                  "BPXSY1": "116.0",
                  "BPXDI1": "70.0",
                  "BPXSY2": "108.0",
                  "BPXDI2": "72.0",
                  "BMXWT": 76.2,
                  "BMXHT": 177.8,
                  "BMXBMI": 24.1,
                  "BMXLEG": "43.9",
                  "BMXARML": "37.8",
                  "BMXARMC": "33.0",
                  "BMXWAIST": "90.1",
                  "HIQ210": "nan",
                  "_deepnote_index_column": 11
                },
                {
                  "SEQN": 83752,
                  "ALQ101": "1.0",
                  "ALQ110": "nan",
                  "ALQ130": "2.0",
                  "SMQ020": 1,
                  "RIAGENDR": 2,
                  "RIDAGEYR": 30,
                  "RIDRETH1": 2,
                  "DMDCITZN": 1,
                  "DMDEDUC2": "4.0",
                  "DMDMARTL": "6.0",
                  "DMDHHSIZ": 2,
                  "WTINT2YR": 36978.42,
                  "SDMVPSU": 1,
                  "SDMVSTRA": 124,
                  "INDFMPIR": 5,
                  "BPXSY1": "104.0",
                  "BPXDI1": "50.0",
                  "BPXSY2": "104.0",
                  "BPXDI2": "50.0",
                  "BMXWT": 71.2,
                  "BMXHT": 163.6,
                  "BMXBMI": 26.6,
                  "BMXLEG": "37.3",
                  "BMXARML": "35.7",
                  "BMXARMC": "31.0",
                  "BMXWAIST": "90.7",
                  "HIQ210": "2.0",
                  "_deepnote_index_column": 12
                },
                {
                  "SEQN": 83754,
                  "ALQ101": "2.0",
                  "ALQ110": "1.0",
                  "ALQ130": "1.0",
                  "SMQ020": 2,
                  "RIAGENDR": 2,
                  "RIDAGEYR": 67,
                  "RIDRETH1": 2,
                  "DMDCITZN": 1,
                  "DMDEDUC2": "5.0",
                  "DMDMARTL": "1.0",
                  "DMDHHSIZ": 7,
                  "WTINT2YR": 10495.87,
                  "SDMVPSU": 1,
                  "SDMVSTRA": 128,
                  "INDFMPIR": 0.89,
                  "BPXSY1": "124.0",
                  "BPXDI1": "76.0",
                  "BPXSY2": "116.0",
                  "BPXDI2": "64.0",
                  "BMXWT": 117.8,
                  "BMXHT": 164.1,
                  "BMXBMI": 43.7,
                  "BMXLEG": "34.8",
                  "BMXARML": "38.6",
                  "BMXARMC": "42.7",
                  "BMXWAIST": "123.0",
                  "HIQ210": "2.0",
                  "_deepnote_index_column": 13
                },
                {
                  "SEQN": 83755,
                  "ALQ101": "1.0",
                  "ALQ110": "nan",
                  "ALQ130": "3.0",
                  "SMQ020": 2,
                  "RIAGENDR": 1,
                  "RIDAGEYR": 67,
                  "RIDRETH1": 4,
                  "DMDCITZN": 1,
                  "DMDEDUC2": "5.0",
                  "DMDMARTL": "2.0",
                  "DMDHHSIZ": 1,
                  "WTINT2YR": 14080.1,
                  "SDMVPSU": 1,
                  "SDMVSTRA": 126,
                  "INDFMPIR": 2.04,
                  "BPXSY1": "132.0",
                  "BPXDI1": "84.0",
                  "BPXSY2": "136.0",
                  "BPXDI2": "82.0",
                  "BMXWT": 97.4,
                  "BMXHT": 183.8,
                  "BMXBMI": 28.8,
                  "BMXLEG": "42.5",
                  "BMXARML": "40.6",
                  "BMXARMC": "34.2",
                  "BMXWAIST": "106.3",
                  "HIQ210": "2.0",
                  "_deepnote_index_column": 14
                },
                {
                  "SEQN": 83757,
                  "ALQ101": "1.0",
                  "ALQ110": "nan",
                  "ALQ130": "1.0",
                  "SMQ020": 2,
                  "RIAGENDR": 2,
                  "RIDAGEYR": 57,
                  "RIDRETH1": 2,
                  "DMDCITZN": 1,
                  "DMDEDUC2": "1.0",
                  "DMDMARTL": "4.0",
                  "DMDHHSIZ": 5,
                  "WTINT2YR": 11709.11,
                  "SDMVPSU": 1,
                  "SDMVSTRA": 120,
                  "INDFMPIR": 0.77,
                  "BPXSY1": "134.0",
                  "BPXDI1": "68.0",
                  "BPXSY2": "146.0",
                  "BPXDI2": "62.0",
                  "BMXWT": 80.5,
                  "BMXHT": 150.8,
                  "BMXBMI": 35.4,
                  "BMXLEG": "31.6",
                  "BMXARML": "32.7",
                  "BMXARMC": "33.7",
                  "BMXWAIST": "113.5",
                  "HIQ210": "2.0",
                  "_deepnote_index_column": 15
                },
                {
                  "SEQN": 83759,
                  "ALQ101": "2.0",
                  "ALQ110": "2.0",
                  "ALQ130": "nan",
                  "SMQ020": 2,
                  "RIAGENDR": 2,
                  "RIDAGEYR": 19,
                  "RIDRETH1": 1,
                  "DMDCITZN": 1,
                  "DMDEDUC2": "nan",
                  "DMDMARTL": "nan",
                  "DMDHHSIZ": 3,
                  "WTINT2YR": 18928.63,
                  "SDMVPSU": 2,
                  "SDMVSTRA": 121,
                  "INDFMPIR": 1.74,
                  "BPXSY1": "102.0",
                  "BPXDI1": "68.0",
                  "BPXSY2": "102.0",
                  "BPXDI2": "66.0",
                  "BMXWT": 100.8,
                  "BMXHT": 175.4,
                  "BMXBMI": 32.8,
                  "BMXLEG": "40.7",
                  "BMXARML": "38.6",
                  "BMXARMC": "35.9",
                  "BMXWAIST": "104.6",
                  "HIQ210": "1.0",
                  "_deepnote_index_column": 16
                }
              ],
              "rows_bottom": [
                {
                  "SEQN": 93670,
                  "ALQ101": "1.0",
                  "ALQ110": "nan",
                  "ALQ130": "3.0",
                  "SMQ020": 1,
                  "RIAGENDR": 1,
                  "RIDAGEYR": 32,
                  "RIDRETH1": 3,
                  "DMDCITZN": 2,
                  "DMDEDUC2": 5,
                  "DMDMARTL": 1,
                  "DMDHHSIZ": 4,
                  "WTINT2YR": 120187.36,
                  "SDMVPSU": 2,
                  "SDMVSTRA": 123,
                  "INDFMPIR": "nan",
                  "BPXSY1": "112.0",
                  "BPXDI1": "70.0",
                  "BPXSY2": "112.0",
                  "BPXDI2": "72.0",
                  "BMXWT": 81.4,
                  "BMXHT": 170.1,
                  "BMXBMI": 28.1,
                  "BMXLEG": 41.7,
                  "BMXARML": 38.2,
                  "BMXARMC": 33.9,
                  "BMXWAIST": "93.6",
                  "HIQ210": 1,
                  "_deepnote_index_column": 5717
                },
                {
                  "SEQN": 93671,
                  "ALQ101": "1.0",
                  "ALQ110": "nan",
                  "ALQ130": "3.0",
                  "SMQ020": 2,
                  "RIAGENDR": 1,
                  "RIDAGEYR": 45,
                  "RIDRETH1": 4,
                  "DMDCITZN": 1,
                  "DMDEDUC2": 5,
                  "DMDMARTL": 1,
                  "DMDHHSIZ": 3,
                  "WTINT2YR": 21351.55,
                  "SDMVPSU": 1,
                  "SDMVSTRA": 124,
                  "INDFMPIR": "5.0",
                  "BPXSY1": "128.0",
                  "BPXDI1": "60.0",
                  "BPXSY2": "120.0",
                  "BPXDI2": "58.0",
                  "BMXWT": 89,
                  "BMXHT": 174.3,
                  "BMXBMI": 29.3,
                  "BMXLEG": 42.4,
                  "BMXARML": 40.6,
                  "BMXARMC": 39.5,
                  "BMXWAIST": "97.0",
                  "HIQ210": 2,
                  "_deepnote_index_column": 5718
                },
                {
                  "SEQN": 93672,
                  "ALQ101": "2.0",
                  "ALQ110": "2.0",
                  "ALQ130": "nan",
                  "SMQ020": 1,
                  "RIAGENDR": 2,
                  "RIDAGEYR": 63,
                  "RIDRETH1": 2,
                  "DMDCITZN": 1,
                  "DMDEDUC2": 1,
                  "DMDMARTL": 1,
                  "DMDHHSIZ": 3,
                  "WTINT2YR": 8605.87,
                  "SDMVPSU": 2,
                  "SDMVSTRA": 119,
                  "INDFMPIR": "0.2",
                  "BPXSY1": "nan",
                  "BPXDI1": "nan",
                  "BPXSY2": "nan",
                  "BPXDI2": "nan",
                  "BMXWT": 81.9,
                  "BMXHT": 147.6,
                  "BMXBMI": 37.6,
                  "BMXLEG": 35,
                  "BMXARML": 33,
                  "BMXARMC": 38.2,
                  "BMXWAIST": "122.5",
                  "HIQ210": 2,
                  "_deepnote_index_column": 5719
                },
                {
                  "SEQN": 93675,
                  "ALQ101": "1.0",
                  "ALQ110": "nan",
                  "ALQ130": "1.0",
                  "SMQ020": 2,
                  "RIAGENDR": 1,
                  "RIDAGEYR": 38,
                  "RIDRETH1": 5,
                  "DMDCITZN": 2,
                  "DMDEDUC2": 5,
                  "DMDMARTL": 4,
                  "DMDHHSIZ": 1,
                  "WTINT2YR": 26328.59,
                  "SDMVPSU": 2,
                  "SDMVSTRA": 122,
                  "INDFMPIR": "5.0",
                  "BPXSY1": "110.0",
                  "BPXDI1": "58.0",
                  "BPXSY2": "118.0",
                  "BPXDI2": "62.0",
                  "BMXWT": 77.6,
                  "BMXHT": 179,
                  "BMXBMI": 24.2,
                  "BMXLEG": 42.3,
                  "BMXARML": 41.5,
                  "BMXARMC": 31.7,
                  "BMXWAIST": "94.2",
                  "HIQ210": 2,
                  "_deepnote_index_column": 5720
                },
                {
                  "SEQN": 93676,
                  "ALQ101": "1.0",
                  "ALQ110": "nan",
                  "ALQ130": "2.0",
                  "SMQ020": 2,
                  "RIAGENDR": 2,
                  "RIDAGEYR": 35,
                  "RIDRETH1": 4,
                  "DMDCITZN": 1,
                  "DMDEDUC2": 5,
                  "DMDMARTL": 3,
                  "DMDHHSIZ": 2,
                  "WTINT2YR": 32944.36,
                  "SDMVPSU": 2,
                  "SDMVSTRA": 132,
                  "INDFMPIR": "2.68",
                  "BPXSY1": "118.0",
                  "BPXDI1": "78.0",
                  "BPXSY2": "114.0",
                  "BPXDI2": "76.0",
                  "BMXWT": 92.2,
                  "BMXHT": 161.7,
                  "BMXBMI": 35.3,
                  "BMXLEG": 41.5,
                  "BMXARML": 37.5,
                  "BMXARMC": 38.9,
                  "BMXWAIST": "110.9",
                  "HIQ210": 2,
                  "_deepnote_index_column": 5721
                },
                {
                  "SEQN": 93677,
                  "ALQ101": "1.0",
                  "ALQ110": "nan",
                  "ALQ130": "1.0",
                  "SMQ020": 2,
                  "RIAGENDR": 2,
                  "RIDAGEYR": 34,
                  "RIDRETH1": 3,
                  "DMDCITZN": 1,
                  "DMDEDUC2": 5,
                  "DMDMARTL": 5,
                  "DMDHHSIZ": 3,
                  "WTINT2YR": 136319.8,
                  "SDMVPSU": 1,
                  "SDMVSTRA": 122,
                  "INDFMPIR": "1.76",
                  "BPXSY1": "114.0",
                  "BPXDI1": "72.0",
                  "BPXSY2": "110.0",
                  "BPXDI2": "78.0",
                  "BMXWT": 62.2,
                  "BMXHT": 167.4,
                  "BMXBMI": 22.2,
                  "BMXLEG": 39.8,
                  "BMXARML": 37.7,
                  "BMXARMC": 28.5,
                  "BMXWAIST": "83.3",
                  "HIQ210": 2,
                  "_deepnote_index_column": 5722
                },
                {
                  "SEQN": 93679,
                  "ALQ101": "2.0",
                  "ALQ110": "1.0",
                  "ALQ130": "nan",
                  "SMQ020": 1,
                  "RIAGENDR": 2,
                  "RIDAGEYR": 72,
                  "RIDRETH1": 4,
                  "DMDCITZN": 1,
                  "DMDEDUC2": 2,
                  "DMDMARTL": 2,
                  "DMDHHSIZ": 3,
                  "WTINT2YR": 21037.26,
                  "SDMVPSU": 2,
                  "SDMVSTRA": 132,
                  "INDFMPIR": "2.98",
                  "BPXSY1": "142.0",
                  "BPXDI1": "64.0",
                  "BPXSY2": "136.0",
                  "BPXDI2": "78.0",
                  "BMXWT": 57.8,
                  "BMXHT": 157,
                  "BMXBMI": 23.4,
                  "BMXLEG": 32,
                  "BMXARML": 35.5,
                  "BMXARMC": 26.8,
                  "BMXWAIST": "90.4",
                  "HIQ210": 2,
                  "_deepnote_index_column": 5723
                },
                {
                  "SEQN": 93682,
                  "ALQ101": "nan",
                  "ALQ110": "nan",
                  "ALQ130": "nan",
                  "SMQ020": 2,
                  "RIAGENDR": 2,
                  "RIDAGEYR": 41,
                  "RIDRETH1": 5,
                  "DMDCITZN": 1,
                  "DMDEDUC2": 5,
                  "DMDMARTL": 1,
                  "DMDHHSIZ": 5,
                  "WTINT2YR": 23924.2,
                  "SDMVPSU": 2,
                  "SDMVSTRA": 121,
                  "INDFMPIR": "5.0",
                  "BPXSY1": "132.0",
                  "BPXDI1": "78.0",
                  "BPXSY2": "122.0",
                  "BPXDI2": "84.0",
                  "BMXWT": 58.2,
                  "BMXHT": 166.9,
                  "BMXBMI": 20.9,
                  "BMXLEG": 37.1,
                  "BMXARML": 35.3,
                  "BMXARMC": 26.9,
                  "BMXWAIST": "80.8",
                  "HIQ210": 2,
                  "_deepnote_index_column": 5724
                },
                {
                  "SEQN": 93684,
                  "ALQ101": "2.0",
                  "ALQ110": "2.0",
                  "ALQ130": "nan",
                  "SMQ020": 2,
                  "RIAGENDR": 1,
                  "RIDAGEYR": 34,
                  "RIDRETH1": 4,
                  "DMDCITZN": 1,
                  "DMDEDUC2": 5,
                  "DMDMARTL": 1,
                  "DMDHHSIZ": 5,
                  "WTINT2YR": 29880.64,
                  "SDMVPSU": 2,
                  "SDMVSTRA": 131,
                  "INDFMPIR": "2.81",
                  "BPXSY1": "110.0",
                  "BPXDI1": "72.0",
                  "BPXSY2": "112.0",
                  "BPXDI2": "72.0",
                  "BMXWT": 101.2,
                  "BMXHT": 180.9,
                  "BMXBMI": 30.9,
                  "BMXLEG": 43.7,
                  "BMXARML": 43,
                  "BMXARMC": 41.3,
                  "BMXWAIST": "99.0",
                  "HIQ210": 2,
                  "_deepnote_index_column": 5725
                },
                {
                  "SEQN": 93685,
                  "ALQ101": "1.0",
                  "ALQ110": "nan",
                  "ALQ130": "2.0",
                  "SMQ020": 1,
                  "RIAGENDR": 1,
                  "RIDAGEYR": 53,
                  "RIDRETH1": 1,
                  "DMDCITZN": 2,
                  "DMDEDUC2": 2,
                  "DMDMARTL": 1,
                  "DMDHHSIZ": 5,
                  "WTINT2YR": 22441.86,
                  "SDMVPSU": 1,
                  "SDMVSTRA": 126,
                  "INDFMPIR": "0.49",
                  "BPXSY1": "132.0",
                  "BPXDI1": "54.0",
                  "BPXSY2": "128.0",
                  "BPXDI2": "56.0",
                  "BMXWT": 78.7,
                  "BMXHT": 156.9,
                  "BMXBMI": 32,
                  "BMXLEG": 31.5,
                  "BMXARML": 38,
                  "BMXARMC": 33.7,
                  "BMXWAIST": "107.5",
                  "HIQ210": 2,
                  "_deepnote_index_column": 5726
                },
                {
                  "SEQN": 93689,
                  "ALQ101": "2.0",
                  "ALQ110": "1.0",
                  "ALQ130": "nan",
                  "SMQ020": 2,
                  "RIAGENDR": 2,
                  "RIDAGEYR": 69,
                  "RIDRETH1": 1,
                  "DMDCITZN": 1,
                  "DMDEDUC2": 1,
                  "DMDMARTL": 1,
                  "DMDHHSIZ": 1,
                  "WTINT2YR": 9611.19,
                  "SDMVPSU": 2,
                  "SDMVSTRA": 127,
                  "INDFMPIR": "0.97",
                  "BPXSY1": "164.0",
                  "BPXDI1": "62.0",
                  "BPXSY2": "166.0",
                  "BPXDI2": "64.0",
                  "BMXWT": 64.8,
                  "BMXHT": 151.9,
                  "BMXBMI": 28.1,
                  "BMXLEG": 32.2,
                  "BMXARML": 32.6,
                  "BMXARMC": 28.7,
                  "BMXWAIST": "101.1",
                  "HIQ210": 2,
                  "_deepnote_index_column": 5727
                },
                {
                  "SEQN": 93690,
                  "ALQ101": "1.0",
                  "ALQ110": "nan",
                  "ALQ130": "3.0",
                  "SMQ020": 2,
                  "RIAGENDR": 1,
                  "RIDAGEYR": 32,
                  "RIDRETH1": 2,
                  "DMDCITZN": 1,
                  "DMDEDUC2": 2,
                  "DMDMARTL": 1,
                  "DMDHHSIZ": 4,
                  "WTINT2YR": 43971.6,
                  "SDMVPSU": 2,
                  "SDMVSTRA": 127,
                  "INDFMPIR": "5.0",
                  "BPXSY1": "112.0",
                  "BPXDI1": "60.0",
                  "BPXSY2": "118.0",
                  "BPXDI2": "58.0",
                  "BMXWT": 89.5,
                  "BMXHT": 164.9,
                  "BMXBMI": 32.9,
                  "BMXLEG": 40,
                  "BMXARML": 38,
                  "BMXARMC": 39,
                  "BMXWAIST": "101.0",
                  "HIQ210": 2,
                  "_deepnote_index_column": 5728
                },
                {
                  "SEQN": 93691,
                  "ALQ101": "2.0",
                  "ALQ110": "2.0",
                  "ALQ130": "nan",
                  "SMQ020": 2,
                  "RIAGENDR": 1,
                  "RIDAGEYR": 25,
                  "RIDRETH1": 5,
                  "DMDCITZN": 2,
                  "DMDEDUC2": 5,
                  "DMDMARTL": 5,
                  "DMDHHSIZ": 7,
                  "WTINT2YR": 13525.39,
                  "SDMVPSU": 2,
                  "SDMVSTRA": 133,
                  "INDFMPIR": "1.59",
                  "BPXSY1": "112.0",
                  "BPXDI1": "80.0",
                  "BPXSY2": "112.0",
                  "BPXDI2": "76.0",
                  "BMXWT": 39.2,
                  "BMXHT": 136.5,
                  "BMXBMI": 21,
                  "BMXLEG": 33.6,
                  "BMXARML": 29.7,
                  "BMXARMC": 23.8,
                  "BMXWAIST": "75.4",
                  "HIQ210": 2,
                  "_deepnote_index_column": 5729
                },
                {
                  "SEQN": 93695,
                  "ALQ101": "2.0",
                  "ALQ110": "2.0",
                  "ALQ130": "nan",
                  "SMQ020": 1,
                  "RIAGENDR": 2,
                  "RIDAGEYR": 76,
                  "RIDRETH1": 3,
                  "DMDCITZN": 1,
                  "DMDEDUC2": 3,
                  "DMDMARTL": 2,
                  "DMDHHSIZ": 1,
                  "WTINT2YR": 58614.08,
                  "SDMVPSU": 2,
                  "SDMVSTRA": 130,
                  "INDFMPIR": "1.43",
                  "BPXSY1": "112.0",
                  "BPXDI1": "48.0",
                  "BPXSY2": "112.0",
                  "BPXDI2": "46.0",
                  "BMXWT": 59.1,
                  "BMXHT": 165.8,
                  "BMXBMI": 21.5,
                  "BMXLEG": 38.2,
                  "BMXARML": 37,
                  "BMXARMC": 29.5,
                  "BMXWAIST": "95.0",
                  "HIQ210": 2,
                  "_deepnote_index_column": 5730
                },
                {
                  "SEQN": 93696,
                  "ALQ101": "2.0",
                  "ALQ110": "2.0",
                  "ALQ130": "nan",
                  "SMQ020": 2,
                  "RIAGENDR": 1,
                  "RIDAGEYR": 26,
                  "RIDRETH1": 3,
                  "DMDCITZN": 1,
                  "DMDEDUC2": 5,
                  "DMDMARTL": 1,
                  "DMDHHSIZ": 3,
                  "WTINT2YR": 122920.6,
                  "SDMVPSU": 1,
                  "SDMVSTRA": 121,
                  "INDFMPIR": "2.99",
                  "BPXSY1": "118.0",
                  "BPXDI1": "68.0",
                  "BPXSY2": "116.0",
                  "BPXDI2": "76.0",
                  "BMXWT": 112.1,
                  "BMXHT": 182.2,
                  "BMXBMI": 33.8,
                  "BMXLEG": 43.4,
                  "BMXARML": 41.8,
                  "BMXARMC": 42.3,
                  "BMXWAIST": "110.2",
                  "HIQ210": 2,
                  "_deepnote_index_column": 5731
                },
                {
                  "SEQN": 93697,
                  "ALQ101": "1.0",
                  "ALQ110": "nan",
                  "ALQ130": "1.0",
                  "SMQ020": 1,
                  "RIAGENDR": 2,
                  "RIDAGEYR": 80,
                  "RIDRETH1": 3,
                  "DMDCITZN": 1,
                  "DMDEDUC2": 4,
                  "DMDMARTL": 2,
                  "DMDHHSIZ": 1,
                  "WTINT2YR": 49050.06,
                  "SDMVPSU": 2,
                  "SDMVSTRA": 132,
                  "INDFMPIR": "2.97",
                  "BPXSY1": "154.0",
                  "BPXDI1": "56.0",
                  "BPXSY2": "146.0",
                  "BPXDI2": "58.0",
                  "BMXWT": 71.7,
                  "BMXHT": 152.2,
                  "BMXBMI": 31,
                  "BMXLEG": 31.3,
                  "BMXARML": 37.5,
                  "BMXARMC": 28.8,
                  "BMXWAIST": "nan",
                  "HIQ210": 2,
                  "_deepnote_index_column": 5732
                },
                {
                  "SEQN": 93700,
                  "ALQ101": "nan",
                  "ALQ110": "nan",
                  "ALQ130": "nan",
                  "SMQ020": 1,
                  "RIAGENDR": 1,
                  "RIDAGEYR": 35,
                  "RIDRETH1": 3,
                  "DMDCITZN": 2,
                  "DMDEDUC2": 1,
                  "DMDMARTL": 1,
                  "DMDHHSIZ": 5,
                  "WTINT2YR": 42314.29,
                  "SDMVPSU": 1,
                  "SDMVSTRA": 126,
                  "INDFMPIR": "0.0",
                  "BPXSY1": "104.0",
                  "BPXDI1": "62.0",
                  "BPXSY2": "106.0",
                  "BPXDI2": "66.0",
                  "BMXWT": 78.2,
                  "BMXHT": 173.3,
                  "BMXBMI": 26,
                  "BMXLEG": 40.3,
                  "BMXARML": 37.5,
                  "BMXARMC": 30.6,
                  "BMXWAIST": "98.9",
                  "HIQ210": 2,
                  "_deepnote_index_column": 5733
                },
                {
                  "SEQN": 93702,
                  "ALQ101": "1.0",
                  "ALQ110": "nan",
                  "ALQ130": "2.0",
                  "SMQ020": 2,
                  "RIAGENDR": 2,
                  "RIDAGEYR": 24,
                  "RIDRETH1": 3,
                  "DMDCITZN": 1,
                  "DMDEDUC2": 5,
                  "DMDMARTL": 5,
                  "DMDHHSIZ": 3,
                  "WTINT2YR": 107361.91,
                  "SDMVPSU": 2,
                  "SDMVSTRA": 119,
                  "INDFMPIR": "3.54",
                  "BPXSY1": "118.0",
                  "BPXDI1": "66.0",
                  "BPXSY2": "114.0",
                  "BPXDI2": "68.0",
                  "BMXWT": 58.3,
                  "BMXHT": 165,
                  "BMXBMI": 21.4,
                  "BMXLEG": 38.2,
                  "BMXARML": 33.5,
                  "BMXARMC": 26.2,
                  "BMXWAIST": "72.5",
                  "HIQ210": 2,
                  "_deepnote_index_column": 5734
                }
              ]
            },
            "text/plain": "       SEQN  ALQ101  ALQ110  ALQ130  SMQ020  RIAGENDR  RIDAGEYR  RIDRETH1  \\\n0     83732     1.0     NaN     1.0       1         1        62         3   \n1     83733     1.0     NaN     6.0       1         1        53         3   \n2     83734     1.0     NaN     NaN       1         1        78         3   \n3     83735     2.0     1.0     1.0       2         2        56         3   \n4     83736     2.0     1.0     1.0       2         2        42         4   \n...     ...     ...     ...     ...     ...       ...       ...       ...   \n5730  93695     2.0     2.0     NaN       1         2        76         3   \n5731  93696     2.0     2.0     NaN       2         1        26         3   \n5732  93697     1.0     NaN     1.0       1         2        80         3   \n5733  93700     NaN     NaN     NaN       1         1        35         3   \n5734  93702     1.0     NaN     2.0       2         2        24         3   \n\n      DMDCITZN  DMDEDUC2  ...  BPXSY2  BPXDI2  BMXWT  BMXHT  BMXBMI  BMXLEG  \\\n0          1.0       5.0  ...   124.0    64.0   94.8  184.5    27.8    43.3   \n1          2.0       3.0  ...   140.0    88.0   90.4  171.4    30.8    38.0   \n2          1.0       3.0  ...   132.0    44.0   83.4  170.1    28.8    35.6   \n3          1.0       5.0  ...   134.0    68.0  109.8  160.9    42.4    38.5   \n4          1.0       4.0  ...   114.0    54.0   55.2  164.9    20.3    37.4   \n...        ...       ...  ...     ...     ...    ...    ...     ...     ...   \n5730       1.0       3.0  ...   112.0    46.0   59.1  165.8    21.5    38.2   \n5731       1.0       5.0  ...   116.0    76.0  112.1  182.2    33.8    43.4   \n5732       1.0       4.0  ...   146.0    58.0   71.7  152.2    31.0    31.3   \n5733       2.0       1.0  ...   106.0    66.0   78.2  173.3    26.0    40.3   \n5734       1.0       5.0  ...   114.0    68.0   58.3  165.0    21.4    38.2   \n\n      BMXARML  BMXARMC  BMXWAIST  HIQ210  \n0        43.6     35.9     101.1     2.0  \n1        40.0     33.2     107.9     NaN  \n2        37.0     31.0     116.5     2.0  \n3        37.7     38.3     110.1     2.0  \n4        36.0     27.2      80.4     2.0  \n...       ...      ...       ...     ...  \n5730     37.0     29.5      95.0     2.0  \n5731     41.8     42.3     110.2     2.0  \n5732     37.5     28.8       NaN     2.0  \n5733     37.5     30.6      98.9     2.0  \n5734     33.5     26.2      72.5     2.0  \n\n[5735 rows x 28 columns]",
            "text/html": "<div>\n<style scoped>\n    .dataframe tbody tr th:only-of-type {\n        vertical-align: middle;\n    }\n\n    .dataframe tbody tr th {\n        vertical-align: top;\n    }\n\n    .dataframe thead th {\n        text-align: right;\n    }\n</style>\n<table border=\"1\" class=\"dataframe\">\n  <thead>\n    <tr style=\"text-align: right;\">\n      <th></th>\n      <th>SEQN</th>\n      <th>ALQ101</th>\n      <th>ALQ110</th>\n      <th>ALQ130</th>\n      <th>SMQ020</th>\n      <th>RIAGENDR</th>\n      <th>RIDAGEYR</th>\n      <th>RIDRETH1</th>\n      <th>DMDCITZN</th>\n      <th>DMDEDUC2</th>\n      <th>...</th>\n      <th>BPXSY2</th>\n      <th>BPXDI2</th>\n      <th>BMXWT</th>\n      <th>BMXHT</th>\n      <th>BMXBMI</th>\n      <th>BMXLEG</th>\n      <th>BMXARML</th>\n      <th>BMXARMC</th>\n      <th>BMXWAIST</th>\n      <th>HIQ210</th>\n    </tr>\n  </thead>\n  <tbody>\n    <tr>\n      <th>0</th>\n      <td>83732</td>\n      <td>1.0</td>\n      <td>NaN</td>\n      <td>1.0</td>\n      <td>1</td>\n      <td>1</td>\n      <td>62</td>\n      <td>3</td>\n      <td>1.0</td>\n      <td>5.0</td>\n      <td>...</td>\n      <td>124.0</td>\n      <td>64.0</td>\n      <td>94.8</td>\n      <td>184.5</td>\n      <td>27.8</td>\n      <td>43.3</td>\n      <td>43.6</td>\n      <td>35.9</td>\n      <td>101.1</td>\n      <td>2.0</td>\n    </tr>\n    <tr>\n      <th>1</th>\n      <td>83733</td>\n      <td>1.0</td>\n      <td>NaN</td>\n      <td>6.0</td>\n      <td>1</td>\n      <td>1</td>\n      <td>53</td>\n      <td>3</td>\n      <td>2.0</td>\n      <td>3.0</td>\n      <td>...</td>\n      <td>140.0</td>\n      <td>88.0</td>\n      <td>90.4</td>\n      <td>171.4</td>\n      <td>30.8</td>\n      <td>38.0</td>\n      <td>40.0</td>\n      <td>33.2</td>\n      <td>107.9</td>\n      <td>NaN</td>\n    </tr>\n    <tr>\n      <th>2</th>\n      <td>83734</td>\n      <td>1.0</td>\n      <td>NaN</td>\n      <td>NaN</td>\n      <td>1</td>\n      <td>1</td>\n      <td>78</td>\n      <td>3</td>\n      <td>1.0</td>\n      <td>3.0</td>\n      <td>...</td>\n      <td>132.0</td>\n      <td>44.0</td>\n      <td>83.4</td>\n      <td>170.1</td>\n      <td>28.8</td>\n      <td>35.6</td>\n      <td>37.0</td>\n      <td>31.0</td>\n      <td>116.5</td>\n      <td>2.0</td>\n    </tr>\n    <tr>\n      <th>3</th>\n      <td>83735</td>\n      <td>2.0</td>\n      <td>1.0</td>\n      <td>1.0</td>\n      <td>2</td>\n      <td>2</td>\n      <td>56</td>\n      <td>3</td>\n      <td>1.0</td>\n      <td>5.0</td>\n      <td>...</td>\n      <td>134.0</td>\n      <td>68.0</td>\n      <td>109.8</td>\n      <td>160.9</td>\n      <td>42.4</td>\n      <td>38.5</td>\n      <td>37.7</td>\n      <td>38.3</td>\n      <td>110.1</td>\n      <td>2.0</td>\n    </tr>\n    <tr>\n      <th>4</th>\n      <td>83736</td>\n      <td>2.0</td>\n      <td>1.0</td>\n      <td>1.0</td>\n      <td>2</td>\n      <td>2</td>\n      <td>42</td>\n      <td>4</td>\n      <td>1.0</td>\n      <td>4.0</td>\n      <td>...</td>\n      <td>114.0</td>\n      <td>54.0</td>\n      <td>55.2</td>\n      <td>164.9</td>\n      <td>20.3</td>\n      <td>37.4</td>\n      <td>36.0</td>\n      <td>27.2</td>\n      <td>80.4</td>\n      <td>2.0</td>\n    </tr>\n    <tr>\n      <th>...</th>\n      <td>...</td>\n      <td>...</td>\n      <td>...</td>\n      <td>...</td>\n      <td>...</td>\n      <td>...</td>\n      <td>...</td>\n      <td>...</td>\n      <td>...</td>\n      <td>...</td>\n      <td>...</td>\n      <td>...</td>\n      <td>...</td>\n      <td>...</td>\n      <td>...</td>\n      <td>...</td>\n      <td>...</td>\n      <td>...</td>\n      <td>...</td>\n      <td>...</td>\n      <td>...</td>\n    </tr>\n    <tr>\n      <th>5730</th>\n      <td>93695</td>\n      <td>2.0</td>\n      <td>2.0</td>\n      <td>NaN</td>\n      <td>1</td>\n      <td>2</td>\n      <td>76</td>\n      <td>3</td>\n      <td>1.0</td>\n      <td>3.0</td>\n      <td>...</td>\n      <td>112.0</td>\n      <td>46.0</td>\n      <td>59.1</td>\n      <td>165.8</td>\n      <td>21.5</td>\n      <td>38.2</td>\n      <td>37.0</td>\n      <td>29.5</td>\n      <td>95.0</td>\n      <td>2.0</td>\n    </tr>\n    <tr>\n      <th>5731</th>\n      <td>93696</td>\n      <td>2.0</td>\n      <td>2.0</td>\n      <td>NaN</td>\n      <td>2</td>\n      <td>1</td>\n      <td>26</td>\n      <td>3</td>\n      <td>1.0</td>\n      <td>5.0</td>\n      <td>...</td>\n      <td>116.0</td>\n      <td>76.0</td>\n      <td>112.1</td>\n      <td>182.2</td>\n      <td>33.8</td>\n      <td>43.4</td>\n      <td>41.8</td>\n      <td>42.3</td>\n      <td>110.2</td>\n      <td>2.0</td>\n    </tr>\n    <tr>\n      <th>5732</th>\n      <td>93697</td>\n      <td>1.0</td>\n      <td>NaN</td>\n      <td>1.0</td>\n      <td>1</td>\n      <td>2</td>\n      <td>80</td>\n      <td>3</td>\n      <td>1.0</td>\n      <td>4.0</td>\n      <td>...</td>\n      <td>146.0</td>\n      <td>58.0</td>\n      <td>71.7</td>\n      <td>152.2</td>\n      <td>31.0</td>\n      <td>31.3</td>\n      <td>37.5</td>\n      <td>28.8</td>\n      <td>NaN</td>\n      <td>2.0</td>\n    </tr>\n    <tr>\n      <th>5733</th>\n      <td>93700</td>\n      <td>NaN</td>\n      <td>NaN</td>\n      <td>NaN</td>\n      <td>1</td>\n      <td>1</td>\n      <td>35</td>\n      <td>3</td>\n      <td>2.0</td>\n      <td>1.0</td>\n      <td>...</td>\n      <td>106.0</td>\n      <td>66.0</td>\n      <td>78.2</td>\n      <td>173.3</td>\n      <td>26.0</td>\n      <td>40.3</td>\n      <td>37.5</td>\n      <td>30.6</td>\n      <td>98.9</td>\n      <td>2.0</td>\n    </tr>\n    <tr>\n      <th>5734</th>\n      <td>93702</td>\n      <td>1.0</td>\n      <td>NaN</td>\n      <td>2.0</td>\n      <td>2</td>\n      <td>2</td>\n      <td>24</td>\n      <td>3</td>\n      <td>1.0</td>\n      <td>5.0</td>\n      <td>...</td>\n      <td>114.0</td>\n      <td>68.0</td>\n      <td>58.3</td>\n      <td>165.0</td>\n      <td>21.4</td>\n      <td>38.2</td>\n      <td>33.5</td>\n      <td>26.2</td>\n      <td>72.5</td>\n      <td>2.0</td>\n    </tr>\n  </tbody>\n</table>\n<p>5735 rows × 28 columns</p>\n</div>"
          },
          "metadata": {}
        }
      ]
    },
    {
      "cell_type": "markdown",
      "source": "## Confidence intervals for one proportion\n\nIn this section, we demonstrate the construction of confidence intervals for the proportion of people who smoke.  The specific definition of \"smoker\" used here ([SMQ020](https://wwwn.cdc.gov/Nchs/Nhanes/2015-2016/SMQ_I.htm#SMQ020)) identifies a person as being a smoker if they self-report as having smoked 100 or more cigarettes in their lifetime.  It is more accurate to refer to this as a measure of \"lifetime smoking\" rather than \"current smoking\".  Recall that the definitions of these and other NHANES variables can be found using the NHANES code books, or by searching using the link below.\n\nhttps://wwwn.cdc.gov/nchs/nhanes/search/default.aspx\n\nWe will calculate the proportions of smokers separately for females and for males.  Initially we can compare these two proportions and their corresponding confidence intervals informally, but later we will discuss methods to compare two proportions formally using confidence intervals.\n\nFirst we replace the numeric codes in the variables of interest with text labels, and set the rare answers other than \"yes\" and \"no\" to be missing (so they will automatically be omitted from all the analyses below).",
      "metadata": {
        "cell_id": "00004-32e3a4f5-5b65-4a73-804a-a927bb0ee958",
        "deepnote_cell_type": "markdown"
      }
    },
    {
      "cell_type": "code",
      "metadata": {
        "cell_id": "00005-059a7fc3-528f-43cd-9407-271916df7c75",
        "deepnote_to_be_reexecuted": false,
        "source_hash": "d47f18e0",
        "execution_start": 1617883700086,
        "execution_millis": 0,
        "deepnote_cell_type": "code"
      },
      "source": "da[\"SMQ020x\"] = da.SMQ020.replace({1: \"Yes\", 2: \"No\", 7: np.nan, 9: np.nan})  # np.nan represents a missing value\nda[\"RIAGENDRx\"] = da.RIAGENDR.replace({1: \"Male\", 2: \"Female\"})",
      "execution_count": null,
      "outputs": []
    },
    {
      "cell_type": "code",
      "metadata": {
        "tags": [],
        "cell_id": "00006-6e9f0e60-3a63-4457-9056-46292d229908",
        "deepnote_to_be_reexecuted": false,
        "source_hash": "80c741",
        "execution_start": 1617883705903,
        "execution_millis": 236,
        "deepnote_cell_type": "code"
      },
      "source": "da",
      "execution_count": null,
      "outputs": [
        {
          "output_type": "execute_result",
          "execution_count": 6,
          "data": {
            "application/vnd.deepnote.dataframe.v2+json": {
              "row_count": 5735,
              "column_count": 30,
              "columns": [
                {
                  "name": "SEQN",
                  "dtype": "int64",
                  "stats": {
                    "unique_count": 5735,
                    "nan_count": 0,
                    "min": 83732,
                    "max": 93702,
                    "histogram": [
                      {
                        "bin_start": 83732,
                        "bin_end": 84729,
                        "count": 580
                      },
                      {
                        "bin_start": 84729,
                        "bin_end": 85726,
                        "count": 584
                      },
                      {
                        "bin_start": 85726,
                        "bin_end": 86723,
                        "count": 612
                      },
                      {
                        "bin_start": 86723,
                        "bin_end": 87720,
                        "count": 556
                      },
                      {
                        "bin_start": 87720,
                        "bin_end": 88717,
                        "count": 562
                      },
                      {
                        "bin_start": 88717,
                        "bin_end": 89714,
                        "count": 588
                      },
                      {
                        "bin_start": 89714,
                        "bin_end": 90711,
                        "count": 560
                      },
                      {
                        "bin_start": 90711,
                        "bin_end": 91708,
                        "count": 563
                      },
                      {
                        "bin_start": 91708,
                        "bin_end": 92705,
                        "count": 561
                      },
                      {
                        "bin_start": 92705,
                        "bin_end": 93702,
                        "count": 569
                      }
                    ]
                  }
                },
                {
                  "name": "ALQ101",
                  "dtype": "float64",
                  "stats": {
                    "unique_count": 3,
                    "nan_count": 527,
                    "min": 1,
                    "max": 9,
                    "histogram": [
                      {
                        "bin_start": 1,
                        "bin_end": 1.8,
                        "count": 3477
                      },
                      {
                        "bin_start": 1.8,
                        "bin_end": 2.6,
                        "count": 1728
                      },
                      {
                        "bin_start": 2.6,
                        "bin_end": 3.4000000000000004,
                        "count": 0
                      },
                      {
                        "bin_start": 3.4000000000000004,
                        "bin_end": 4.2,
                        "count": 0
                      },
                      {
                        "bin_start": 4.2,
                        "bin_end": 5,
                        "count": 0
                      },
                      {
                        "bin_start": 5,
                        "bin_end": 5.800000000000001,
                        "count": 0
                      },
                      {
                        "bin_start": 5.800000000000001,
                        "bin_end": 6.6000000000000005,
                        "count": 0
                      },
                      {
                        "bin_start": 6.6000000000000005,
                        "bin_end": 7.4,
                        "count": 0
                      },
                      {
                        "bin_start": 7.4,
                        "bin_end": 8.2,
                        "count": 0
                      },
                      {
                        "bin_start": 8.2,
                        "bin_end": 9,
                        "count": 3
                      }
                    ]
                  }
                },
                {
                  "name": "ALQ110",
                  "dtype": "float64",
                  "stats": {
                    "unique_count": 4,
                    "nan_count": 4004,
                    "min": 1,
                    "max": 9,
                    "histogram": [
                      {
                        "bin_start": 1,
                        "bin_end": 1.8,
                        "count": 747
                      },
                      {
                        "bin_start": 1.8,
                        "bin_end": 2.6,
                        "count": 979
                      },
                      {
                        "bin_start": 2.6,
                        "bin_end": 3.4000000000000004,
                        "count": 0
                      },
                      {
                        "bin_start": 3.4000000000000004,
                        "bin_end": 4.2,
                        "count": 0
                      },
                      {
                        "bin_start": 4.2,
                        "bin_end": 5,
                        "count": 0
                      },
                      {
                        "bin_start": 5,
                        "bin_end": 5.800000000000001,
                        "count": 0
                      },
                      {
                        "bin_start": 5.800000000000001,
                        "bin_end": 6.6000000000000005,
                        "count": 0
                      },
                      {
                        "bin_start": 6.6000000000000005,
                        "bin_end": 7.4,
                        "count": 1
                      },
                      {
                        "bin_start": 7.4,
                        "bin_end": 8.2,
                        "count": 0
                      },
                      {
                        "bin_start": 8.2,
                        "bin_end": 9,
                        "count": 4
                      }
                    ]
                  }
                },
                {
                  "name": "ALQ130",
                  "dtype": "float64",
                  "stats": {
                    "unique_count": 15,
                    "nan_count": 2356,
                    "min": 1,
                    "max": 999,
                    "histogram": [
                      {
                        "bin_start": 1,
                        "bin_end": 100.8,
                        "count": 3375
                      },
                      {
                        "bin_start": 100.8,
                        "bin_end": 200.6,
                        "count": 0
                      },
                      {
                        "bin_start": 200.6,
                        "bin_end": 300.4,
                        "count": 0
                      },
                      {
                        "bin_start": 300.4,
                        "bin_end": 400.2,
                        "count": 0
                      },
                      {
                        "bin_start": 400.2,
                        "bin_end": 500,
                        "count": 0
                      },
                      {
                        "bin_start": 500,
                        "bin_end": 599.8,
                        "count": 0
                      },
                      {
                        "bin_start": 599.8,
                        "bin_end": 699.6,
                        "count": 0
                      },
                      {
                        "bin_start": 699.6,
                        "bin_end": 799.4,
                        "count": 0
                      },
                      {
                        "bin_start": 799.4,
                        "bin_end": 899.1999999999999,
                        "count": 0
                      },
                      {
                        "bin_start": 899.1999999999999,
                        "bin_end": 999,
                        "count": 4
                      }
                    ]
                  }
                },
                {
                  "name": "SMQ020",
                  "dtype": "int64",
                  "stats": {
                    "unique_count": 4,
                    "nan_count": 0,
                    "min": 1,
                    "max": 9,
                    "histogram": [
                      {
                        "bin_start": 1,
                        "bin_end": 1.8,
                        "count": 2319
                      },
                      {
                        "bin_start": 1.8,
                        "bin_end": 2.6,
                        "count": 3406
                      },
                      {
                        "bin_start": 2.6,
                        "bin_end": 3.4000000000000004,
                        "count": 0
                      },
                      {
                        "bin_start": 3.4000000000000004,
                        "bin_end": 4.2,
                        "count": 0
                      },
                      {
                        "bin_start": 4.2,
                        "bin_end": 5,
                        "count": 0
                      },
                      {
                        "bin_start": 5,
                        "bin_end": 5.800000000000001,
                        "count": 0
                      },
                      {
                        "bin_start": 5.800000000000001,
                        "bin_end": 6.6000000000000005,
                        "count": 0
                      },
                      {
                        "bin_start": 6.6000000000000005,
                        "bin_end": 7.4,
                        "count": 2
                      },
                      {
                        "bin_start": 7.4,
                        "bin_end": 8.2,
                        "count": 0
                      },
                      {
                        "bin_start": 8.2,
                        "bin_end": 9,
                        "count": 8
                      }
                    ]
                  }
                },
                {
                  "name": "RIAGENDR",
                  "dtype": "int64",
                  "stats": {
                    "unique_count": 2,
                    "nan_count": 0,
                    "min": 1,
                    "max": 2,
                    "histogram": [
                      {
                        "bin_start": 1,
                        "bin_end": 1.1,
                        "count": 2759
                      },
                      {
                        "bin_start": 1.1,
                        "bin_end": 1.2,
                        "count": 0
                      },
                      {
                        "bin_start": 1.2,
                        "bin_end": 1.3,
                        "count": 0
                      },
                      {
                        "bin_start": 1.3,
                        "bin_end": 1.4,
                        "count": 0
                      },
                      {
                        "bin_start": 1.4,
                        "bin_end": 1.5,
                        "count": 0
                      },
                      {
                        "bin_start": 1.5,
                        "bin_end": 1.6,
                        "count": 0
                      },
                      {
                        "bin_start": 1.6,
                        "bin_end": 1.7000000000000002,
                        "count": 0
                      },
                      {
                        "bin_start": 1.7000000000000002,
                        "bin_end": 1.8,
                        "count": 0
                      },
                      {
                        "bin_start": 1.8,
                        "bin_end": 1.9,
                        "count": 0
                      },
                      {
                        "bin_start": 1.9,
                        "bin_end": 2,
                        "count": 2976
                      }
                    ]
                  }
                },
                {
                  "name": "RIDAGEYR",
                  "dtype": "int64",
                  "stats": {
                    "unique_count": 63,
                    "nan_count": 0,
                    "min": 18,
                    "max": 80,
                    "histogram": [
                      {
                        "bin_start": 18,
                        "bin_end": 24.2,
                        "count": 682
                      },
                      {
                        "bin_start": 24.2,
                        "bin_end": 30.4,
                        "count": 604
                      },
                      {
                        "bin_start": 30.4,
                        "bin_end": 36.6,
                        "count": 591
                      },
                      {
                        "bin_start": 36.6,
                        "bin_end": 42.8,
                        "count": 524
                      },
                      {
                        "bin_start": 42.8,
                        "bin_end": 49,
                        "count": 561
                      },
                      {
                        "bin_start": 49,
                        "bin_end": 55.2,
                        "count": 644
                      },
                      {
                        "bin_start": 55.2,
                        "bin_end": 61.4,
                        "count": 551
                      },
                      {
                        "bin_start": 61.4,
                        "bin_end": 67.6,
                        "count": 532
                      },
                      {
                        "bin_start": 67.6,
                        "bin_end": 73.80000000000001,
                        "count": 420
                      },
                      {
                        "bin_start": 73.80000000000001,
                        "bin_end": 80,
                        "count": 626
                      }
                    ]
                  }
                },
                {
                  "name": "RIDRETH1",
                  "dtype": "int64",
                  "stats": {
                    "unique_count": 5,
                    "nan_count": 0,
                    "min": 1,
                    "max": 5,
                    "histogram": [
                      {
                        "bin_start": 1,
                        "bin_end": 1.4,
                        "count": 1018
                      },
                      {
                        "bin_start": 1.4,
                        "bin_end": 1.8,
                        "count": 0
                      },
                      {
                        "bin_start": 1.8,
                        "bin_end": 2.2,
                        "count": 750
                      },
                      {
                        "bin_start": 2.2,
                        "bin_end": 2.6,
                        "count": 0
                      },
                      {
                        "bin_start": 2.6,
                        "bin_end": 3,
                        "count": 0
                      },
                      {
                        "bin_start": 3,
                        "bin_end": 3.4000000000000004,
                        "count": 1839
                      },
                      {
                        "bin_start": 3.4000000000000004,
                        "bin_end": 3.8000000000000003,
                        "count": 0
                      },
                      {
                        "bin_start": 3.8000000000000003,
                        "bin_end": 4.2,
                        "count": 1227
                      },
                      {
                        "bin_start": 4.2,
                        "bin_end": 4.6,
                        "count": 0
                      },
                      {
                        "bin_start": 4.6,
                        "bin_end": 5,
                        "count": 901
                      }
                    ]
                  }
                },
                {
                  "name": "DMDCITZN",
                  "dtype": "float64",
                  "stats": {
                    "unique_count": 4,
                    "nan_count": 1,
                    "min": 1,
                    "max": 9,
                    "histogram": [
                      {
                        "bin_start": 1,
                        "bin_end": 1.8,
                        "count": 4746
                      },
                      {
                        "bin_start": 1.8,
                        "bin_end": 2.6,
                        "count": 975
                      },
                      {
                        "bin_start": 2.6,
                        "bin_end": 3.4000000000000004,
                        "count": 0
                      },
                      {
                        "bin_start": 3.4000000000000004,
                        "bin_end": 4.2,
                        "count": 0
                      },
                      {
                        "bin_start": 4.2,
                        "bin_end": 5,
                        "count": 0
                      },
                      {
                        "bin_start": 5,
                        "bin_end": 5.800000000000001,
                        "count": 0
                      },
                      {
                        "bin_start": 5.800000000000001,
                        "bin_end": 6.6000000000000005,
                        "count": 0
                      },
                      {
                        "bin_start": 6.6000000000000005,
                        "bin_end": 7.4,
                        "count": 8
                      },
                      {
                        "bin_start": 7.4,
                        "bin_end": 8.2,
                        "count": 0
                      },
                      {
                        "bin_start": 8.2,
                        "bin_end": 9,
                        "count": 5
                      }
                    ]
                  }
                },
                {
                  "name": "DMDEDUC2",
                  "dtype": "float64",
                  "stats": {
                    "unique_count": 6,
                    "nan_count": 261,
                    "min": 1,
                    "max": 9,
                    "histogram": [
                      {
                        "bin_start": 1,
                        "bin_end": 1.8,
                        "count": 655
                      },
                      {
                        "bin_start": 1.8,
                        "bin_end": 2.6,
                        "count": 643
                      },
                      {
                        "bin_start": 2.6,
                        "bin_end": 3.4000000000000004,
                        "count": 1186
                      },
                      {
                        "bin_start": 3.4000000000000004,
                        "bin_end": 4.2,
                        "count": 1621
                      },
                      {
                        "bin_start": 4.2,
                        "bin_end": 5,
                        "count": 0
                      },
                      {
                        "bin_start": 5,
                        "bin_end": 5.800000000000001,
                        "count": 1366
                      },
                      {
                        "bin_start": 5.800000000000001,
                        "bin_end": 6.6000000000000005,
                        "count": 0
                      },
                      {
                        "bin_start": 6.6000000000000005,
                        "bin_end": 7.4,
                        "count": 0
                      },
                      {
                        "bin_start": 7.4,
                        "bin_end": 8.2,
                        "count": 0
                      },
                      {
                        "bin_start": 8.2,
                        "bin_end": 9,
                        "count": 3
                      }
                    ]
                  }
                },
                {
                  "name": "DMDMARTL",
                  "dtype": "float64",
                  "stats": {
                    "unique_count": 7,
                    "nan_count": 261,
                    "min": 1,
                    "max": 77,
                    "histogram": [
                      {
                        "bin_start": 1,
                        "bin_end": 8.6,
                        "count": 5472
                      },
                      {
                        "bin_start": 8.6,
                        "bin_end": 16.2,
                        "count": 0
                      },
                      {
                        "bin_start": 16.2,
                        "bin_end": 23.799999999999997,
                        "count": 0
                      },
                      {
                        "bin_start": 23.799999999999997,
                        "bin_end": 31.4,
                        "count": 0
                      },
                      {
                        "bin_start": 31.4,
                        "bin_end": 39,
                        "count": 0
                      },
                      {
                        "bin_start": 39,
                        "bin_end": 46.599999999999994,
                        "count": 0
                      },
                      {
                        "bin_start": 46.599999999999994,
                        "bin_end": 54.199999999999996,
                        "count": 0
                      },
                      {
                        "bin_start": 54.199999999999996,
                        "bin_end": 61.8,
                        "count": 0
                      },
                      {
                        "bin_start": 61.8,
                        "bin_end": 69.39999999999999,
                        "count": 0
                      },
                      {
                        "bin_start": 69.39999999999999,
                        "bin_end": 77,
                        "count": 2
                      }
                    ]
                  }
                },
                {
                  "name": "DMDHHSIZ",
                  "dtype": "int64",
                  "stats": {
                    "unique_count": 7,
                    "nan_count": 0,
                    "min": 1,
                    "max": 7,
                    "histogram": [
                      {
                        "bin_start": 1,
                        "bin_end": 1.6,
                        "count": 770
                      },
                      {
                        "bin_start": 1.6,
                        "bin_end": 2.2,
                        "count": 1546
                      },
                      {
                        "bin_start": 2.2,
                        "bin_end": 2.8,
                        "count": 0
                      },
                      {
                        "bin_start": 2.8,
                        "bin_end": 3.4,
                        "count": 1037
                      },
                      {
                        "bin_start": 3.4,
                        "bin_end": 4,
                        "count": 0
                      },
                      {
                        "bin_start": 4,
                        "bin_end": 4.6,
                        "count": 936
                      },
                      {
                        "bin_start": 4.6,
                        "bin_end": 5.2,
                        "count": 699
                      },
                      {
                        "bin_start": 5.2,
                        "bin_end": 5.8,
                        "count": 0
                      },
                      {
                        "bin_start": 5.8,
                        "bin_end": 6.3999999999999995,
                        "count": 379
                      },
                      {
                        "bin_start": 6.3999999999999995,
                        "bin_end": 7,
                        "count": 368
                      }
                    ]
                  }
                },
                {
                  "name": "WTINT2YR",
                  "dtype": "float64",
                  "stats": {
                    "unique_count": 4355,
                    "nan_count": 0,
                    "min": 5330.96,
                    "max": 233755.84,
                    "histogram": [
                      {
                        "bin_start": 5330.96,
                        "bin_end": 28173.448,
                        "count": 3360
                      },
                      {
                        "bin_start": 28173.448,
                        "bin_end": 51015.936,
                        "count": 1150
                      },
                      {
                        "bin_start": 51015.936,
                        "bin_end": 73858.42400000001,
                        "count": 297
                      },
                      {
                        "bin_start": 73858.42400000001,
                        "bin_end": 96700.91200000001,
                        "count": 255
                      },
                      {
                        "bin_start": 96700.91200000001,
                        "bin_end": 119543.40000000001,
                        "count": 249
                      },
                      {
                        "bin_start": 119543.40000000001,
                        "bin_end": 142385.888,
                        "count": 216
                      },
                      {
                        "bin_start": 142385.888,
                        "bin_end": 165228.376,
                        "count": 147
                      },
                      {
                        "bin_start": 165228.376,
                        "bin_end": 188070.864,
                        "count": 42
                      },
                      {
                        "bin_start": 188070.864,
                        "bin_end": 210913.352,
                        "count": 12
                      },
                      {
                        "bin_start": 210913.352,
                        "bin_end": 233755.84,
                        "count": 7
                      }
                    ]
                  }
                },
                {
                  "name": "SDMVPSU",
                  "dtype": "int64",
                  "stats": {
                    "unique_count": 2,
                    "nan_count": 0,
                    "min": 1,
                    "max": 2,
                    "histogram": [
                      {
                        "bin_start": 1,
                        "bin_end": 1.1,
                        "count": 2937
                      },
                      {
                        "bin_start": 1.1,
                        "bin_end": 1.2,
                        "count": 0
                      },
                      {
                        "bin_start": 1.2,
                        "bin_end": 1.3,
                        "count": 0
                      },
                      {
                        "bin_start": 1.3,
                        "bin_end": 1.4,
                        "count": 0
                      },
                      {
                        "bin_start": 1.4,
                        "bin_end": 1.5,
                        "count": 0
                      },
                      {
                        "bin_start": 1.5,
                        "bin_end": 1.6,
                        "count": 0
                      },
                      {
                        "bin_start": 1.6,
                        "bin_end": 1.7000000000000002,
                        "count": 0
                      },
                      {
                        "bin_start": 1.7000000000000002,
                        "bin_end": 1.8,
                        "count": 0
                      },
                      {
                        "bin_start": 1.8,
                        "bin_end": 1.9,
                        "count": 0
                      },
                      {
                        "bin_start": 1.9,
                        "bin_end": 2,
                        "count": 2798
                      }
                    ]
                  }
                },
                {
                  "name": "SDMVSTRA",
                  "dtype": "int64",
                  "stats": {
                    "unique_count": 15,
                    "nan_count": 0,
                    "min": 119,
                    "max": 133,
                    "histogram": [
                      {
                        "bin_start": 119,
                        "bin_end": 120.4,
                        "count": 641
                      },
                      {
                        "bin_start": 120.4,
                        "bin_end": 121.8,
                        "count": 390
                      },
                      {
                        "bin_start": 121.8,
                        "bin_end": 123.2,
                        "count": 740
                      },
                      {
                        "bin_start": 123.2,
                        "bin_end": 124.6,
                        "count": 366
                      },
                      {
                        "bin_start": 124.6,
                        "bin_end": 126,
                        "count": 434
                      },
                      {
                        "bin_start": 126,
                        "bin_end": 127.4,
                        "count": 764
                      },
                      {
                        "bin_start": 127.4,
                        "bin_end": 128.8,
                        "count": 388
                      },
                      {
                        "bin_start": 128.8,
                        "bin_end": 130.2,
                        "count": 781
                      },
                      {
                        "bin_start": 130.2,
                        "bin_end": 131.6,
                        "count": 434
                      },
                      {
                        "bin_start": 131.6,
                        "bin_end": 133,
                        "count": 797
                      }
                    ]
                  }
                },
                {
                  "name": "INDFMPIR",
                  "dtype": "float64",
                  "stats": {
                    "unique_count": 440,
                    "nan_count": 601,
                    "min": 0,
                    "max": 5,
                    "histogram": [
                      {
                        "bin_start": 0,
                        "bin_end": 0.5,
                        "count": 398
                      },
                      {
                        "bin_start": 0.5,
                        "bin_end": 1,
                        "count": 781
                      },
                      {
                        "bin_start": 1,
                        "bin_end": 1.5,
                        "count": 787
                      },
                      {
                        "bin_start": 1.5,
                        "bin_end": 2,
                        "count": 619
                      },
                      {
                        "bin_start": 2,
                        "bin_end": 2.5,
                        "count": 455
                      },
                      {
                        "bin_start": 2.5,
                        "bin_end": 3,
                        "count": 421
                      },
                      {
                        "bin_start": 3,
                        "bin_end": 3.5,
                        "count": 262
                      },
                      {
                        "bin_start": 3.5,
                        "bin_end": 4,
                        "count": 224
                      },
                      {
                        "bin_start": 4,
                        "bin_end": 4.5,
                        "count": 211
                      },
                      {
                        "bin_start": 4.5,
                        "bin_end": 5,
                        "count": 976
                      }
                    ]
                  }
                },
                {
                  "name": "BPXSY1",
                  "dtype": "float64",
                  "stats": {
                    "unique_count": 68,
                    "nan_count": 334,
                    "min": 82,
                    "max": 236,
                    "histogram": [
                      {
                        "bin_start": 82,
                        "bin_end": 97.4,
                        "count": 141
                      },
                      {
                        "bin_start": 97.4,
                        "bin_end": 112.8,
                        "count": 1264
                      },
                      {
                        "bin_start": 112.8,
                        "bin_end": 128.2,
                        "count": 2132
                      },
                      {
                        "bin_start": 128.2,
                        "bin_end": 143.6,
                        "count": 1044
                      },
                      {
                        "bin_start": 143.6,
                        "bin_end": 159,
                        "count": 547
                      },
                      {
                        "bin_start": 159,
                        "bin_end": 174.4,
                        "count": 177
                      },
                      {
                        "bin_start": 174.4,
                        "bin_end": 189.8,
                        "count": 61
                      },
                      {
                        "bin_start": 189.8,
                        "bin_end": 205.2,
                        "count": 26
                      },
                      {
                        "bin_start": 205.2,
                        "bin_end": 220.6,
                        "count": 7
                      },
                      {
                        "bin_start": 220.6,
                        "bin_end": 236,
                        "count": 2
                      }
                    ]
                  }
                },
                {
                  "name": "BPXDI1",
                  "dtype": "float64"
                },
                {
                  "name": "BPXSY2",
                  "dtype": "float64"
                },
                {
                  "name": "BPXDI2",
                  "dtype": "float64"
                },
                {
                  "name": "BMXWT",
                  "dtype": "float64"
                },
                {
                  "name": "BMXHT",
                  "dtype": "float64"
                },
                {
                  "name": "BMXBMI",
                  "dtype": "float64"
                },
                {
                  "name": "BMXLEG",
                  "dtype": "float64"
                },
                {
                  "name": "BMXARML",
                  "dtype": "float64"
                },
                {
                  "name": "BMXARMC",
                  "dtype": "float64"
                },
                {
                  "name": "BMXWAIST",
                  "dtype": "float64"
                },
                {
                  "name": "HIQ210",
                  "dtype": "float64"
                },
                {
                  "name": "SMQ020x",
                  "dtype": "object"
                },
                {
                  "name": "RIAGENDRx",
                  "dtype": "object"
                },
                {
                  "name": "_deepnote_index_column",
                  "dtype": "int64"
                }
              ],
              "rows_top": [
                {
                  "SEQN": 83732,
                  "ALQ101": "1.0",
                  "ALQ110": "nan",
                  "ALQ130": "1.0",
                  "SMQ020": 1,
                  "RIAGENDR": 1,
                  "RIDAGEYR": 62,
                  "RIDRETH1": 3,
                  "DMDCITZN": 1,
                  "DMDEDUC2": "5.0",
                  "DMDMARTL": "1.0",
                  "DMDHHSIZ": 2,
                  "WTINT2YR": 134671.37,
                  "SDMVPSU": 1,
                  "SDMVSTRA": 125,
                  "INDFMPIR": 4.39,
                  "BPXSY1": "128.0",
                  "BPXDI1": "70.0",
                  "BPXSY2": "124.0",
                  "BPXDI2": "64.0",
                  "BMXWT": 94.8,
                  "BMXHT": 184.5,
                  "BMXBMI": 27.8,
                  "BMXLEG": "43.3",
                  "BMXARML": "43.6",
                  "BMXARMC": "35.9",
                  "BMXWAIST": "101.1",
                  "HIQ210": "2.0",
                  "SMQ020x": "Yes",
                  "RIAGENDRx": "Male",
                  "_deepnote_index_column": 0
                },
                {
                  "SEQN": 83733,
                  "ALQ101": "1.0",
                  "ALQ110": "nan",
                  "ALQ130": "6.0",
                  "SMQ020": 1,
                  "RIAGENDR": 1,
                  "RIDAGEYR": 53,
                  "RIDRETH1": 3,
                  "DMDCITZN": 2,
                  "DMDEDUC2": "3.0",
                  "DMDMARTL": "3.0",
                  "DMDHHSIZ": 1,
                  "WTINT2YR": 24328.56,
                  "SDMVPSU": 1,
                  "SDMVSTRA": 125,
                  "INDFMPIR": 1.32,
                  "BPXSY1": "146.0",
                  "BPXDI1": "88.0",
                  "BPXSY2": "140.0",
                  "BPXDI2": "88.0",
                  "BMXWT": 90.4,
                  "BMXHT": 171.4,
                  "BMXBMI": 30.8,
                  "BMXLEG": "38.0",
                  "BMXARML": "40.0",
                  "BMXARMC": "33.2",
                  "BMXWAIST": "107.9",
                  "HIQ210": "nan",
                  "SMQ020x": "Yes",
                  "RIAGENDRx": "Male",
                  "_deepnote_index_column": 1
                },
                {
                  "SEQN": 83734,
                  "ALQ101": "1.0",
                  "ALQ110": "nan",
                  "ALQ130": "nan",
                  "SMQ020": 1,
                  "RIAGENDR": 1,
                  "RIDAGEYR": 78,
                  "RIDRETH1": 3,
                  "DMDCITZN": 1,
                  "DMDEDUC2": "3.0",
                  "DMDMARTL": "1.0",
                  "DMDHHSIZ": 2,
                  "WTINT2YR": 12400.01,
                  "SDMVPSU": 1,
                  "SDMVSTRA": 131,
                  "INDFMPIR": 1.51,
                  "BPXSY1": "138.0",
                  "BPXDI1": "46.0",
                  "BPXSY2": "132.0",
                  "BPXDI2": "44.0",
                  "BMXWT": 83.4,
                  "BMXHT": 170.1,
                  "BMXBMI": 28.8,
                  "BMXLEG": "35.6",
                  "BMXARML": "37.0",
                  "BMXARMC": "31.0",
                  "BMXWAIST": "116.5",
                  "HIQ210": "2.0",
                  "SMQ020x": "Yes",
                  "RIAGENDRx": "Male",
                  "_deepnote_index_column": 2
                },
                {
                  "SEQN": 83735,
                  "ALQ101": "2.0",
                  "ALQ110": "1.0",
                  "ALQ130": "1.0",
                  "SMQ020": 2,
                  "RIAGENDR": 2,
                  "RIDAGEYR": 56,
                  "RIDRETH1": 3,
                  "DMDCITZN": 1,
                  "DMDEDUC2": "5.0",
                  "DMDMARTL": "6.0",
                  "DMDHHSIZ": 1,
                  "WTINT2YR": 102718,
                  "SDMVPSU": 1,
                  "SDMVSTRA": 131,
                  "INDFMPIR": 5,
                  "BPXSY1": "132.0",
                  "BPXDI1": "72.0",
                  "BPXSY2": "134.0",
                  "BPXDI2": "68.0",
                  "BMXWT": 109.8,
                  "BMXHT": 160.9,
                  "BMXBMI": 42.4,
                  "BMXLEG": "38.5",
                  "BMXARML": "37.7",
                  "BMXARMC": "38.3",
                  "BMXWAIST": "110.1",
                  "HIQ210": "2.0",
                  "SMQ020x": "No",
                  "RIAGENDRx": "Female",
                  "_deepnote_index_column": 3
                },
                {
                  "SEQN": 83736,
                  "ALQ101": "2.0",
                  "ALQ110": "1.0",
                  "ALQ130": "1.0",
                  "SMQ020": 2,
                  "RIAGENDR": 2,
                  "RIDAGEYR": 42,
                  "RIDRETH1": 4,
                  "DMDCITZN": 1,
                  "DMDEDUC2": "4.0",
                  "DMDMARTL": "3.0",
                  "DMDHHSIZ": 5,
                  "WTINT2YR": 17627.67,
                  "SDMVPSU": 2,
                  "SDMVSTRA": 126,
                  "INDFMPIR": 1.23,
                  "BPXSY1": "100.0",
                  "BPXDI1": "70.0",
                  "BPXSY2": "114.0",
                  "BPXDI2": "54.0",
                  "BMXWT": 55.2,
                  "BMXHT": 164.9,
                  "BMXBMI": 20.3,
                  "BMXLEG": "37.4",
                  "BMXARML": "36.0",
                  "BMXARMC": "27.2",
                  "BMXWAIST": "80.4",
                  "HIQ210": "2.0",
                  "SMQ020x": "No",
                  "RIAGENDRx": "Female",
                  "_deepnote_index_column": 4
                },
                {
                  "SEQN": 83737,
                  "ALQ101": "2.0",
                  "ALQ110": "2.0",
                  "ALQ130": "nan",
                  "SMQ020": 2,
                  "RIAGENDR": 2,
                  "RIDAGEYR": 72,
                  "RIDRETH1": 1,
                  "DMDCITZN": 2,
                  "DMDEDUC2": "2.0",
                  "DMDMARTL": "4.0",
                  "DMDHHSIZ": 5,
                  "WTINT2YR": 11252.31,
                  "SDMVPSU": 1,
                  "SDMVSTRA": 128,
                  "INDFMPIR": 2.82,
                  "BPXSY1": "116.0",
                  "BPXDI1": "58.0",
                  "BPXSY2": "122.0",
                  "BPXDI2": "58.0",
                  "BMXWT": 64.4,
                  "BMXHT": 150,
                  "BMXBMI": 28.6,
                  "BMXLEG": "34.4",
                  "BMXARML": "33.5",
                  "BMXARMC": "31.4",
                  "BMXWAIST": "92.9",
                  "HIQ210": "nan",
                  "SMQ020x": "No",
                  "RIAGENDRx": "Female",
                  "_deepnote_index_column": 5
                },
                {
                  "SEQN": 83741,
                  "ALQ101": "1.0",
                  "ALQ110": "nan",
                  "ALQ130": "8.0",
                  "SMQ020": 1,
                  "RIAGENDR": 1,
                  "RIDAGEYR": 22,
                  "RIDRETH1": 4,
                  "DMDCITZN": 1,
                  "DMDEDUC2": "4.0",
                  "DMDMARTL": "5.0",
                  "DMDHHSIZ": 3,
                  "WTINT2YR": 37043.09,
                  "SDMVPSU": 2,
                  "SDMVSTRA": 128,
                  "INDFMPIR": 2.08,
                  "BPXSY1": "110.0",
                  "BPXDI1": "70.0",
                  "BPXSY2": "112.0",
                  "BPXDI2": "74.0",
                  "BMXWT": 76.6,
                  "BMXHT": 165.4,
                  "BMXBMI": 28,
                  "BMXLEG": "38.8",
                  "BMXARML": "38.0",
                  "BMXARMC": "34.0",
                  "BMXWAIST": "86.6",
                  "HIQ210": "nan",
                  "SMQ020x": "Yes",
                  "RIAGENDRx": "Male",
                  "_deepnote_index_column": 6
                },
                {
                  "SEQN": 83742,
                  "ALQ101": "1.0",
                  "ALQ110": "nan",
                  "ALQ130": "1.0",
                  "SMQ020": 2,
                  "RIAGENDR": 2,
                  "RIDAGEYR": 32,
                  "RIDRETH1": 1,
                  "DMDCITZN": 2,
                  "DMDEDUC2": "4.0",
                  "DMDMARTL": "1.0",
                  "DMDHHSIZ": 4,
                  "WTINT2YR": 22744.36,
                  "SDMVPSU": 1,
                  "SDMVSTRA": 125,
                  "INDFMPIR": 1.03,
                  "BPXSY1": "120.0",
                  "BPXDI1": "70.0",
                  "BPXSY2": "114.0",
                  "BPXDI2": "70.0",
                  "BMXWT": 64.5,
                  "BMXHT": 151.3,
                  "BMXBMI": 28.2,
                  "BMXLEG": "34.1",
                  "BMXARML": "33.1",
                  "BMXARMC": "31.5",
                  "BMXWAIST": "93.3",
                  "HIQ210": "2.0",
                  "SMQ020x": "No",
                  "RIAGENDRx": "Female",
                  "_deepnote_index_column": 7
                },
                {
                  "SEQN": 83743,
                  "ALQ101": "nan",
                  "ALQ110": "nan",
                  "ALQ130": "nan",
                  "SMQ020": 2,
                  "RIAGENDR": 1,
                  "RIDAGEYR": 18,
                  "RIDRETH1": 5,
                  "DMDCITZN": 1,
                  "DMDEDUC2": "nan",
                  "DMDMARTL": "nan",
                  "DMDHHSIZ": 3,
                  "WTINT2YR": 18526.16,
                  "SDMVPSU": 2,
                  "SDMVSTRA": 122,
                  "INDFMPIR": 5,
                  "BPXSY1": "nan",
                  "BPXDI1": "nan",
                  "BPXSY2": "nan",
                  "BPXDI2": "nan",
                  "BMXWT": 72.4,
                  "BMXHT": 166.1,
                  "BMXBMI": 26.2,
                  "BMXLEG": "nan",
                  "BMXARML": "nan",
                  "BMXARMC": "nan",
                  "BMXWAIST": "nan",
                  "HIQ210": "2.0",
                  "SMQ020x": "No",
                  "RIAGENDRx": "Male",
                  "_deepnote_index_column": 8
                },
                {
                  "SEQN": 83744,
                  "ALQ101": "1.0",
                  "ALQ110": "nan",
                  "ALQ130": "nan",
                  "SMQ020": 2,
                  "RIAGENDR": 1,
                  "RIDAGEYR": 56,
                  "RIDRETH1": 4,
                  "DMDCITZN": 1,
                  "DMDEDUC2": "3.0",
                  "DMDMARTL": "3.0",
                  "DMDHHSIZ": 1,
                  "WTINT2YR": 20395.54,
                  "SDMVPSU": 2,
                  "SDMVSTRA": 126,
                  "INDFMPIR": 1.19,
                  "BPXSY1": "178.0",
                  "BPXDI1": "116.0",
                  "BPXSY2": "180.0",
                  "BPXDI2": "114.0",
                  "BMXWT": 108.3,
                  "BMXHT": 179.4,
                  "BMXBMI": 33.6,
                  "BMXLEG": "46.0",
                  "BMXARML": "44.1",
                  "BMXARMC": "38.5",
                  "BMXWAIST": "116.0",
                  "HIQ210": "2.0",
                  "SMQ020x": "No",
                  "RIAGENDRx": "Male",
                  "_deepnote_index_column": 9
                },
                {
                  "SEQN": 83747,
                  "ALQ101": "1.0",
                  "ALQ110": "nan",
                  "ALQ130": "1.0",
                  "SMQ020": 1,
                  "RIAGENDR": 1,
                  "RIDAGEYR": 46,
                  "RIDRETH1": 3,
                  "DMDCITZN": 1,
                  "DMDEDUC2": "5.0",
                  "DMDMARTL": "6.0",
                  "DMDHHSIZ": 2,
                  "WTINT2YR": 34513.08,
                  "SDMVPSU": 1,
                  "SDMVSTRA": 121,
                  "INDFMPIR": 0.75,
                  "BPXSY1": "144.0",
                  "BPXDI1": "94.0",
                  "BPXSY2": "150.0",
                  "BPXDI2": "90.0",
                  "BMXWT": 86.2,
                  "BMXHT": 176.7,
                  "BMXBMI": 27.6,
                  "BMXLEG": "41.0",
                  "BMXARML": "38.0",
                  "BMXARMC": "33.6",
                  "BMXWAIST": "104.3",
                  "HIQ210": "2.0",
                  "SMQ020x": "Yes",
                  "RIAGENDRx": "Male",
                  "_deepnote_index_column": 10
                },
                {
                  "SEQN": 83750,
                  "ALQ101": "1.0",
                  "ALQ110": "nan",
                  "ALQ130": "3.0",
                  "SMQ020": 1,
                  "RIAGENDR": 1,
                  "RIDAGEYR": 45,
                  "RIDRETH1": 5,
                  "DMDCITZN": 1,
                  "DMDEDUC2": "2.0",
                  "DMDMARTL": "5.0",
                  "DMDHHSIZ": 5,
                  "WTINT2YR": 96194.93,
                  "SDMVPSU": 1,
                  "SDMVSTRA": 125,
                  "INDFMPIR": 1.36,
                  "BPXSY1": "116.0",
                  "BPXDI1": "70.0",
                  "BPXSY2": "108.0",
                  "BPXDI2": "72.0",
                  "BMXWT": 76.2,
                  "BMXHT": 177.8,
                  "BMXBMI": 24.1,
                  "BMXLEG": "43.9",
                  "BMXARML": "37.8",
                  "BMXARMC": "33.0",
                  "BMXWAIST": "90.1",
                  "HIQ210": "nan",
                  "SMQ020x": "Yes",
                  "RIAGENDRx": "Male",
                  "_deepnote_index_column": 11
                },
                {
                  "SEQN": 83752,
                  "ALQ101": "1.0",
                  "ALQ110": "nan",
                  "ALQ130": "2.0",
                  "SMQ020": 1,
                  "RIAGENDR": 2,
                  "RIDAGEYR": 30,
                  "RIDRETH1": 2,
                  "DMDCITZN": 1,
                  "DMDEDUC2": "4.0",
                  "DMDMARTL": "6.0",
                  "DMDHHSIZ": 2,
                  "WTINT2YR": 36978.42,
                  "SDMVPSU": 1,
                  "SDMVSTRA": 124,
                  "INDFMPIR": 5,
                  "BPXSY1": "104.0",
                  "BPXDI1": "50.0",
                  "BPXSY2": "104.0",
                  "BPXDI2": "50.0",
                  "BMXWT": 71.2,
                  "BMXHT": 163.6,
                  "BMXBMI": 26.6,
                  "BMXLEG": "37.3",
                  "BMXARML": "35.7",
                  "BMXARMC": "31.0",
                  "BMXWAIST": "90.7",
                  "HIQ210": "2.0",
                  "SMQ020x": "Yes",
                  "RIAGENDRx": "Female",
                  "_deepnote_index_column": 12
                },
                {
                  "SEQN": 83754,
                  "ALQ101": "2.0",
                  "ALQ110": "1.0",
                  "ALQ130": "1.0",
                  "SMQ020": 2,
                  "RIAGENDR": 2,
                  "RIDAGEYR": 67,
                  "RIDRETH1": 2,
                  "DMDCITZN": 1,
                  "DMDEDUC2": "5.0",
                  "DMDMARTL": "1.0",
                  "DMDHHSIZ": 7,
                  "WTINT2YR": 10495.87,
                  "SDMVPSU": 1,
                  "SDMVSTRA": 128,
                  "INDFMPIR": 0.89,
                  "BPXSY1": "124.0",
                  "BPXDI1": "76.0",
                  "BPXSY2": "116.0",
                  "BPXDI2": "64.0",
                  "BMXWT": 117.8,
                  "BMXHT": 164.1,
                  "BMXBMI": 43.7,
                  "BMXLEG": "34.8",
                  "BMXARML": "38.6",
                  "BMXARMC": "42.7",
                  "BMXWAIST": "123.0",
                  "HIQ210": "2.0",
                  "SMQ020x": "No",
                  "RIAGENDRx": "Female",
                  "_deepnote_index_column": 13
                },
                {
                  "SEQN": 83755,
                  "ALQ101": "1.0",
                  "ALQ110": "nan",
                  "ALQ130": "3.0",
                  "SMQ020": 2,
                  "RIAGENDR": 1,
                  "RIDAGEYR": 67,
                  "RIDRETH1": 4,
                  "DMDCITZN": 1,
                  "DMDEDUC2": "5.0",
                  "DMDMARTL": "2.0",
                  "DMDHHSIZ": 1,
                  "WTINT2YR": 14080.1,
                  "SDMVPSU": 1,
                  "SDMVSTRA": 126,
                  "INDFMPIR": 2.04,
                  "BPXSY1": "132.0",
                  "BPXDI1": "84.0",
                  "BPXSY2": "136.0",
                  "BPXDI2": "82.0",
                  "BMXWT": 97.4,
                  "BMXHT": 183.8,
                  "BMXBMI": 28.8,
                  "BMXLEG": "42.5",
                  "BMXARML": "40.6",
                  "BMXARMC": "34.2",
                  "BMXWAIST": "106.3",
                  "HIQ210": "2.0",
                  "SMQ020x": "No",
                  "RIAGENDRx": "Male",
                  "_deepnote_index_column": 14
                },
                {
                  "SEQN": 83757,
                  "ALQ101": "1.0",
                  "ALQ110": "nan",
                  "ALQ130": "1.0",
                  "SMQ020": 2,
                  "RIAGENDR": 2,
                  "RIDAGEYR": 57,
                  "RIDRETH1": 2,
                  "DMDCITZN": 1,
                  "DMDEDUC2": "1.0",
                  "DMDMARTL": "4.0",
                  "DMDHHSIZ": 5,
                  "WTINT2YR": 11709.11,
                  "SDMVPSU": 1,
                  "SDMVSTRA": 120,
                  "INDFMPIR": 0.77,
                  "BPXSY1": "134.0",
                  "BPXDI1": "68.0",
                  "BPXSY2": "146.0",
                  "BPXDI2": "62.0",
                  "BMXWT": 80.5,
                  "BMXHT": 150.8,
                  "BMXBMI": 35.4,
                  "BMXLEG": "31.6",
                  "BMXARML": "32.7",
                  "BMXARMC": "33.7",
                  "BMXWAIST": "113.5",
                  "HIQ210": "2.0",
                  "SMQ020x": "No",
                  "RIAGENDRx": "Female",
                  "_deepnote_index_column": 15
                }
              ],
              "rows_bottom": [
                {
                  "SEQN": 93671,
                  "ALQ101": "1.0",
                  "ALQ110": "nan",
                  "ALQ130": "3.0",
                  "SMQ020": 2,
                  "RIAGENDR": 1,
                  "RIDAGEYR": 45,
                  "RIDRETH1": 4,
                  "DMDCITZN": 1,
                  "DMDEDUC2": 5,
                  "DMDMARTL": 1,
                  "DMDHHSIZ": 3,
                  "WTINT2YR": 21351.55,
                  "SDMVPSU": 1,
                  "SDMVSTRA": 124,
                  "INDFMPIR": 5,
                  "BPXSY1": "128.0",
                  "BPXDI1": "60.0",
                  "BPXSY2": "120.0",
                  "BPXDI2": "58.0",
                  "BMXWT": 89,
                  "BMXHT": 174.3,
                  "BMXBMI": 29.3,
                  "BMXLEG": 42.4,
                  "BMXARML": 40.6,
                  "BMXARMC": 39.5,
                  "BMXWAIST": "97.0",
                  "HIQ210": 2,
                  "SMQ020x": "No",
                  "RIAGENDRx": "Male",
                  "_deepnote_index_column": 5718
                },
                {
                  "SEQN": 93672,
                  "ALQ101": "2.0",
                  "ALQ110": "2.0",
                  "ALQ130": "nan",
                  "SMQ020": 1,
                  "RIAGENDR": 2,
                  "RIDAGEYR": 63,
                  "RIDRETH1": 2,
                  "DMDCITZN": 1,
                  "DMDEDUC2": 1,
                  "DMDMARTL": 1,
                  "DMDHHSIZ": 3,
                  "WTINT2YR": 8605.87,
                  "SDMVPSU": 2,
                  "SDMVSTRA": 119,
                  "INDFMPIR": 0.2,
                  "BPXSY1": "nan",
                  "BPXDI1": "nan",
                  "BPXSY2": "nan",
                  "BPXDI2": "nan",
                  "BMXWT": 81.9,
                  "BMXHT": 147.6,
                  "BMXBMI": 37.6,
                  "BMXLEG": 35,
                  "BMXARML": 33,
                  "BMXARMC": 38.2,
                  "BMXWAIST": "122.5",
                  "HIQ210": 2,
                  "SMQ020x": "Yes",
                  "RIAGENDRx": "Female",
                  "_deepnote_index_column": 5719
                },
                {
                  "SEQN": 93675,
                  "ALQ101": "1.0",
                  "ALQ110": "nan",
                  "ALQ130": "1.0",
                  "SMQ020": 2,
                  "RIAGENDR": 1,
                  "RIDAGEYR": 38,
                  "RIDRETH1": 5,
                  "DMDCITZN": 2,
                  "DMDEDUC2": 5,
                  "DMDMARTL": 4,
                  "DMDHHSIZ": 1,
                  "WTINT2YR": 26328.59,
                  "SDMVPSU": 2,
                  "SDMVSTRA": 122,
                  "INDFMPIR": 5,
                  "BPXSY1": "110.0",
                  "BPXDI1": "58.0",
                  "BPXSY2": "118.0",
                  "BPXDI2": "62.0",
                  "BMXWT": 77.6,
                  "BMXHT": 179,
                  "BMXBMI": 24.2,
                  "BMXLEG": 42.3,
                  "BMXARML": 41.5,
                  "BMXARMC": 31.7,
                  "BMXWAIST": "94.2",
                  "HIQ210": 2,
                  "SMQ020x": "No",
                  "RIAGENDRx": "Male",
                  "_deepnote_index_column": 5720
                },
                {
                  "SEQN": 93676,
                  "ALQ101": "1.0",
                  "ALQ110": "nan",
                  "ALQ130": "2.0",
                  "SMQ020": 2,
                  "RIAGENDR": 2,
                  "RIDAGEYR": 35,
                  "RIDRETH1": 4,
                  "DMDCITZN": 1,
                  "DMDEDUC2": 5,
                  "DMDMARTL": 3,
                  "DMDHHSIZ": 2,
                  "WTINT2YR": 32944.36,
                  "SDMVPSU": 2,
                  "SDMVSTRA": 132,
                  "INDFMPIR": 2.68,
                  "BPXSY1": "118.0",
                  "BPXDI1": "78.0",
                  "BPXSY2": "114.0",
                  "BPXDI2": "76.0",
                  "BMXWT": 92.2,
                  "BMXHT": 161.7,
                  "BMXBMI": 35.3,
                  "BMXLEG": 41.5,
                  "BMXARML": 37.5,
                  "BMXARMC": 38.9,
                  "BMXWAIST": "110.9",
                  "HIQ210": 2,
                  "SMQ020x": "No",
                  "RIAGENDRx": "Female",
                  "_deepnote_index_column": 5721
                },
                {
                  "SEQN": 93677,
                  "ALQ101": "1.0",
                  "ALQ110": "nan",
                  "ALQ130": "1.0",
                  "SMQ020": 2,
                  "RIAGENDR": 2,
                  "RIDAGEYR": 34,
                  "RIDRETH1": 3,
                  "DMDCITZN": 1,
                  "DMDEDUC2": 5,
                  "DMDMARTL": 5,
                  "DMDHHSIZ": 3,
                  "WTINT2YR": 136319.8,
                  "SDMVPSU": 1,
                  "SDMVSTRA": 122,
                  "INDFMPIR": 1.76,
                  "BPXSY1": "114.0",
                  "BPXDI1": "72.0",
                  "BPXSY2": "110.0",
                  "BPXDI2": "78.0",
                  "BMXWT": 62.2,
                  "BMXHT": 167.4,
                  "BMXBMI": 22.2,
                  "BMXLEG": 39.8,
                  "BMXARML": 37.7,
                  "BMXARMC": 28.5,
                  "BMXWAIST": "83.3",
                  "HIQ210": 2,
                  "SMQ020x": "No",
                  "RIAGENDRx": "Female",
                  "_deepnote_index_column": 5722
                },
                {
                  "SEQN": 93679,
                  "ALQ101": "2.0",
                  "ALQ110": "1.0",
                  "ALQ130": "nan",
                  "SMQ020": 1,
                  "RIAGENDR": 2,
                  "RIDAGEYR": 72,
                  "RIDRETH1": 4,
                  "DMDCITZN": 1,
                  "DMDEDUC2": 2,
                  "DMDMARTL": 2,
                  "DMDHHSIZ": 3,
                  "WTINT2YR": 21037.26,
                  "SDMVPSU": 2,
                  "SDMVSTRA": 132,
                  "INDFMPIR": 2.98,
                  "BPXSY1": "142.0",
                  "BPXDI1": "64.0",
                  "BPXSY2": "136.0",
                  "BPXDI2": "78.0",
                  "BMXWT": 57.8,
                  "BMXHT": 157,
                  "BMXBMI": 23.4,
                  "BMXLEG": 32,
                  "BMXARML": 35.5,
                  "BMXARMC": 26.8,
                  "BMXWAIST": "90.4",
                  "HIQ210": 2,
                  "SMQ020x": "Yes",
                  "RIAGENDRx": "Female",
                  "_deepnote_index_column": 5723
                },
                {
                  "SEQN": 93682,
                  "ALQ101": "nan",
                  "ALQ110": "nan",
                  "ALQ130": "nan",
                  "SMQ020": 2,
                  "RIAGENDR": 2,
                  "RIDAGEYR": 41,
                  "RIDRETH1": 5,
                  "DMDCITZN": 1,
                  "DMDEDUC2": 5,
                  "DMDMARTL": 1,
                  "DMDHHSIZ": 5,
                  "WTINT2YR": 23924.2,
                  "SDMVPSU": 2,
                  "SDMVSTRA": 121,
                  "INDFMPIR": 5,
                  "BPXSY1": "132.0",
                  "BPXDI1": "78.0",
                  "BPXSY2": "122.0",
                  "BPXDI2": "84.0",
                  "BMXWT": 58.2,
                  "BMXHT": 166.9,
                  "BMXBMI": 20.9,
                  "BMXLEG": 37.1,
                  "BMXARML": 35.3,
                  "BMXARMC": 26.9,
                  "BMXWAIST": "80.8",
                  "HIQ210": 2,
                  "SMQ020x": "No",
                  "RIAGENDRx": "Female",
                  "_deepnote_index_column": 5724
                },
                {
                  "SEQN": 93684,
                  "ALQ101": "2.0",
                  "ALQ110": "2.0",
                  "ALQ130": "nan",
                  "SMQ020": 2,
                  "RIAGENDR": 1,
                  "RIDAGEYR": 34,
                  "RIDRETH1": 4,
                  "DMDCITZN": 1,
                  "DMDEDUC2": 5,
                  "DMDMARTL": 1,
                  "DMDHHSIZ": 5,
                  "WTINT2YR": 29880.64,
                  "SDMVPSU": 2,
                  "SDMVSTRA": 131,
                  "INDFMPIR": 2.81,
                  "BPXSY1": "110.0",
                  "BPXDI1": "72.0",
                  "BPXSY2": "112.0",
                  "BPXDI2": "72.0",
                  "BMXWT": 101.2,
                  "BMXHT": 180.9,
                  "BMXBMI": 30.9,
                  "BMXLEG": 43.7,
                  "BMXARML": 43,
                  "BMXARMC": 41.3,
                  "BMXWAIST": "99.0",
                  "HIQ210": 2,
                  "SMQ020x": "No",
                  "RIAGENDRx": "Male",
                  "_deepnote_index_column": 5725
                },
                {
                  "SEQN": 93685,
                  "ALQ101": "1.0",
                  "ALQ110": "nan",
                  "ALQ130": "2.0",
                  "SMQ020": 1,
                  "RIAGENDR": 1,
                  "RIDAGEYR": 53,
                  "RIDRETH1": 1,
                  "DMDCITZN": 2,
                  "DMDEDUC2": 2,
                  "DMDMARTL": 1,
                  "DMDHHSIZ": 5,
                  "WTINT2YR": 22441.86,
                  "SDMVPSU": 1,
                  "SDMVSTRA": 126,
                  "INDFMPIR": 0.49,
                  "BPXSY1": "132.0",
                  "BPXDI1": "54.0",
                  "BPXSY2": "128.0",
                  "BPXDI2": "56.0",
                  "BMXWT": 78.7,
                  "BMXHT": 156.9,
                  "BMXBMI": 32,
                  "BMXLEG": 31.5,
                  "BMXARML": 38,
                  "BMXARMC": 33.7,
                  "BMXWAIST": "107.5",
                  "HIQ210": 2,
                  "SMQ020x": "Yes",
                  "RIAGENDRx": "Male",
                  "_deepnote_index_column": 5726
                },
                {
                  "SEQN": 93689,
                  "ALQ101": "2.0",
                  "ALQ110": "1.0",
                  "ALQ130": "nan",
                  "SMQ020": 2,
                  "RIAGENDR": 2,
                  "RIDAGEYR": 69,
                  "RIDRETH1": 1,
                  "DMDCITZN": 1,
                  "DMDEDUC2": 1,
                  "DMDMARTL": 1,
                  "DMDHHSIZ": 1,
                  "WTINT2YR": 9611.19,
                  "SDMVPSU": 2,
                  "SDMVSTRA": 127,
                  "INDFMPIR": 0.97,
                  "BPXSY1": "164.0",
                  "BPXDI1": "62.0",
                  "BPXSY2": "166.0",
                  "BPXDI2": "64.0",
                  "BMXWT": 64.8,
                  "BMXHT": 151.9,
                  "BMXBMI": 28.1,
                  "BMXLEG": 32.2,
                  "BMXARML": 32.6,
                  "BMXARMC": 28.7,
                  "BMXWAIST": "101.1",
                  "HIQ210": 2,
                  "SMQ020x": "No",
                  "RIAGENDRx": "Female",
                  "_deepnote_index_column": 5727
                },
                {
                  "SEQN": 93690,
                  "ALQ101": "1.0",
                  "ALQ110": "nan",
                  "ALQ130": "3.0",
                  "SMQ020": 2,
                  "RIAGENDR": 1,
                  "RIDAGEYR": 32,
                  "RIDRETH1": 2,
                  "DMDCITZN": 1,
                  "DMDEDUC2": 2,
                  "DMDMARTL": 1,
                  "DMDHHSIZ": 4,
                  "WTINT2YR": 43971.6,
                  "SDMVPSU": 2,
                  "SDMVSTRA": 127,
                  "INDFMPIR": 5,
                  "BPXSY1": "112.0",
                  "BPXDI1": "60.0",
                  "BPXSY2": "118.0",
                  "BPXDI2": "58.0",
                  "BMXWT": 89.5,
                  "BMXHT": 164.9,
                  "BMXBMI": 32.9,
                  "BMXLEG": 40,
                  "BMXARML": 38,
                  "BMXARMC": 39,
                  "BMXWAIST": "101.0",
                  "HIQ210": 2,
                  "SMQ020x": "No",
                  "RIAGENDRx": "Male",
                  "_deepnote_index_column": 5728
                },
                {
                  "SEQN": 93691,
                  "ALQ101": "2.0",
                  "ALQ110": "2.0",
                  "ALQ130": "nan",
                  "SMQ020": 2,
                  "RIAGENDR": 1,
                  "RIDAGEYR": 25,
                  "RIDRETH1": 5,
                  "DMDCITZN": 2,
                  "DMDEDUC2": 5,
                  "DMDMARTL": 5,
                  "DMDHHSIZ": 7,
                  "WTINT2YR": 13525.39,
                  "SDMVPSU": 2,
                  "SDMVSTRA": 133,
                  "INDFMPIR": 1.59,
                  "BPXSY1": "112.0",
                  "BPXDI1": "80.0",
                  "BPXSY2": "112.0",
                  "BPXDI2": "76.0",
                  "BMXWT": 39.2,
                  "BMXHT": 136.5,
                  "BMXBMI": 21,
                  "BMXLEG": 33.6,
                  "BMXARML": 29.7,
                  "BMXARMC": 23.8,
                  "BMXWAIST": "75.4",
                  "HIQ210": 2,
                  "SMQ020x": "No",
                  "RIAGENDRx": "Male",
                  "_deepnote_index_column": 5729
                },
                {
                  "SEQN": 93695,
                  "ALQ101": "2.0",
                  "ALQ110": "2.0",
                  "ALQ130": "nan",
                  "SMQ020": 1,
                  "RIAGENDR": 2,
                  "RIDAGEYR": 76,
                  "RIDRETH1": 3,
                  "DMDCITZN": 1,
                  "DMDEDUC2": 3,
                  "DMDMARTL": 2,
                  "DMDHHSIZ": 1,
                  "WTINT2YR": 58614.08,
                  "SDMVPSU": 2,
                  "SDMVSTRA": 130,
                  "INDFMPIR": 1.43,
                  "BPXSY1": "112.0",
                  "BPXDI1": "48.0",
                  "BPXSY2": "112.0",
                  "BPXDI2": "46.0",
                  "BMXWT": 59.1,
                  "BMXHT": 165.8,
                  "BMXBMI": 21.5,
                  "BMXLEG": 38.2,
                  "BMXARML": 37,
                  "BMXARMC": 29.5,
                  "BMXWAIST": "95.0",
                  "HIQ210": 2,
                  "SMQ020x": "Yes",
                  "RIAGENDRx": "Female",
                  "_deepnote_index_column": 5730
                },
                {
                  "SEQN": 93696,
                  "ALQ101": "2.0",
                  "ALQ110": "2.0",
                  "ALQ130": "nan",
                  "SMQ020": 2,
                  "RIAGENDR": 1,
                  "RIDAGEYR": 26,
                  "RIDRETH1": 3,
                  "DMDCITZN": 1,
                  "DMDEDUC2": 5,
                  "DMDMARTL": 1,
                  "DMDHHSIZ": 3,
                  "WTINT2YR": 122920.6,
                  "SDMVPSU": 1,
                  "SDMVSTRA": 121,
                  "INDFMPIR": 2.99,
                  "BPXSY1": "118.0",
                  "BPXDI1": "68.0",
                  "BPXSY2": "116.0",
                  "BPXDI2": "76.0",
                  "BMXWT": 112.1,
                  "BMXHT": 182.2,
                  "BMXBMI": 33.8,
                  "BMXLEG": 43.4,
                  "BMXARML": 41.8,
                  "BMXARMC": 42.3,
                  "BMXWAIST": "110.2",
                  "HIQ210": 2,
                  "SMQ020x": "No",
                  "RIAGENDRx": "Male",
                  "_deepnote_index_column": 5731
                },
                {
                  "SEQN": 93697,
                  "ALQ101": "1.0",
                  "ALQ110": "nan",
                  "ALQ130": "1.0",
                  "SMQ020": 1,
                  "RIAGENDR": 2,
                  "RIDAGEYR": 80,
                  "RIDRETH1": 3,
                  "DMDCITZN": 1,
                  "DMDEDUC2": 4,
                  "DMDMARTL": 2,
                  "DMDHHSIZ": 1,
                  "WTINT2YR": 49050.06,
                  "SDMVPSU": 2,
                  "SDMVSTRA": 132,
                  "INDFMPIR": 2.97,
                  "BPXSY1": "154.0",
                  "BPXDI1": "56.0",
                  "BPXSY2": "146.0",
                  "BPXDI2": "58.0",
                  "BMXWT": 71.7,
                  "BMXHT": 152.2,
                  "BMXBMI": 31,
                  "BMXLEG": 31.3,
                  "BMXARML": 37.5,
                  "BMXARMC": 28.8,
                  "BMXWAIST": "nan",
                  "HIQ210": 2,
                  "SMQ020x": "Yes",
                  "RIAGENDRx": "Female",
                  "_deepnote_index_column": 5732
                },
                {
                  "SEQN": 93700,
                  "ALQ101": "nan",
                  "ALQ110": "nan",
                  "ALQ130": "nan",
                  "SMQ020": 1,
                  "RIAGENDR": 1,
                  "RIDAGEYR": 35,
                  "RIDRETH1": 3,
                  "DMDCITZN": 2,
                  "DMDEDUC2": 1,
                  "DMDMARTL": 1,
                  "DMDHHSIZ": 5,
                  "WTINT2YR": 42314.29,
                  "SDMVPSU": 1,
                  "SDMVSTRA": 126,
                  "INDFMPIR": 0,
                  "BPXSY1": "104.0",
                  "BPXDI1": "62.0",
                  "BPXSY2": "106.0",
                  "BPXDI2": "66.0",
                  "BMXWT": 78.2,
                  "BMXHT": 173.3,
                  "BMXBMI": 26,
                  "BMXLEG": 40.3,
                  "BMXARML": 37.5,
                  "BMXARMC": 30.6,
                  "BMXWAIST": "98.9",
                  "HIQ210": 2,
                  "SMQ020x": "Yes",
                  "RIAGENDRx": "Male",
                  "_deepnote_index_column": 5733
                },
                {
                  "SEQN": 93702,
                  "ALQ101": "1.0",
                  "ALQ110": "nan",
                  "ALQ130": "2.0",
                  "SMQ020": 2,
                  "RIAGENDR": 2,
                  "RIDAGEYR": 24,
                  "RIDRETH1": 3,
                  "DMDCITZN": 1,
                  "DMDEDUC2": 5,
                  "DMDMARTL": 5,
                  "DMDHHSIZ": 3,
                  "WTINT2YR": 107361.91,
                  "SDMVPSU": 2,
                  "SDMVSTRA": 119,
                  "INDFMPIR": 3.54,
                  "BPXSY1": "118.0",
                  "BPXDI1": "66.0",
                  "BPXSY2": "114.0",
                  "BPXDI2": "68.0",
                  "BMXWT": 58.3,
                  "BMXHT": 165,
                  "BMXBMI": 21.4,
                  "BMXLEG": 38.2,
                  "BMXARML": 33.5,
                  "BMXARMC": 26.2,
                  "BMXWAIST": "72.5",
                  "HIQ210": 2,
                  "SMQ020x": "No",
                  "RIAGENDRx": "Female",
                  "_deepnote_index_column": 5734
                }
              ]
            },
            "text/plain": "       SEQN  ALQ101  ALQ110  ALQ130  SMQ020  RIAGENDR  RIDAGEYR  RIDRETH1  \\\n0     83732     1.0     NaN     1.0       1         1        62         3   \n1     83733     1.0     NaN     6.0       1         1        53         3   \n2     83734     1.0     NaN     NaN       1         1        78         3   \n3     83735     2.0     1.0     1.0       2         2        56         3   \n4     83736     2.0     1.0     1.0       2         2        42         4   \n...     ...     ...     ...     ...     ...       ...       ...       ...   \n5730  93695     2.0     2.0     NaN       1         2        76         3   \n5731  93696     2.0     2.0     NaN       2         1        26         3   \n5732  93697     1.0     NaN     1.0       1         2        80         3   \n5733  93700     NaN     NaN     NaN       1         1        35         3   \n5734  93702     1.0     NaN     2.0       2         2        24         3   \n\n      DMDCITZN  DMDEDUC2  ...  BMXWT  BMXHT  BMXBMI  BMXLEG  BMXARML  BMXARMC  \\\n0          1.0       5.0  ...   94.8  184.5    27.8    43.3     43.6     35.9   \n1          2.0       3.0  ...   90.4  171.4    30.8    38.0     40.0     33.2   \n2          1.0       3.0  ...   83.4  170.1    28.8    35.6     37.0     31.0   \n3          1.0       5.0  ...  109.8  160.9    42.4    38.5     37.7     38.3   \n4          1.0       4.0  ...   55.2  164.9    20.3    37.4     36.0     27.2   \n...        ...       ...  ...    ...    ...     ...     ...      ...      ...   \n5730       1.0       3.0  ...   59.1  165.8    21.5    38.2     37.0     29.5   \n5731       1.0       5.0  ...  112.1  182.2    33.8    43.4     41.8     42.3   \n5732       1.0       4.0  ...   71.7  152.2    31.0    31.3     37.5     28.8   \n5733       2.0       1.0  ...   78.2  173.3    26.0    40.3     37.5     30.6   \n5734       1.0       5.0  ...   58.3  165.0    21.4    38.2     33.5     26.2   \n\n      BMXWAIST  HIQ210  SMQ020x  RIAGENDRx  \n0        101.1     2.0      Yes       Male  \n1        107.9     NaN      Yes       Male  \n2        116.5     2.0      Yes       Male  \n3        110.1     2.0       No     Female  \n4         80.4     2.0       No     Female  \n...        ...     ...      ...        ...  \n5730      95.0     2.0      Yes     Female  \n5731     110.2     2.0       No       Male  \n5732       NaN     2.0      Yes     Female  \n5733      98.9     2.0      Yes       Male  \n5734      72.5     2.0       No     Female  \n\n[5735 rows x 30 columns]",
            "text/html": "<div>\n<style scoped>\n    .dataframe tbody tr th:only-of-type {\n        vertical-align: middle;\n    }\n\n    .dataframe tbody tr th {\n        vertical-align: top;\n    }\n\n    .dataframe thead th {\n        text-align: right;\n    }\n</style>\n<table border=\"1\" class=\"dataframe\">\n  <thead>\n    <tr style=\"text-align: right;\">\n      <th></th>\n      <th>SEQN</th>\n      <th>ALQ101</th>\n      <th>ALQ110</th>\n      <th>ALQ130</th>\n      <th>SMQ020</th>\n      <th>RIAGENDR</th>\n      <th>RIDAGEYR</th>\n      <th>RIDRETH1</th>\n      <th>DMDCITZN</th>\n      <th>DMDEDUC2</th>\n      <th>...</th>\n      <th>BMXWT</th>\n      <th>BMXHT</th>\n      <th>BMXBMI</th>\n      <th>BMXLEG</th>\n      <th>BMXARML</th>\n      <th>BMXARMC</th>\n      <th>BMXWAIST</th>\n      <th>HIQ210</th>\n      <th>SMQ020x</th>\n      <th>RIAGENDRx</th>\n    </tr>\n  </thead>\n  <tbody>\n    <tr>\n      <th>0</th>\n      <td>83732</td>\n      <td>1.0</td>\n      <td>NaN</td>\n      <td>1.0</td>\n      <td>1</td>\n      <td>1</td>\n      <td>62</td>\n      <td>3</td>\n      <td>1.0</td>\n      <td>5.0</td>\n      <td>...</td>\n      <td>94.8</td>\n      <td>184.5</td>\n      <td>27.8</td>\n      <td>43.3</td>\n      <td>43.6</td>\n      <td>35.9</td>\n      <td>101.1</td>\n      <td>2.0</td>\n      <td>Yes</td>\n      <td>Male</td>\n    </tr>\n    <tr>\n      <th>1</th>\n      <td>83733</td>\n      <td>1.0</td>\n      <td>NaN</td>\n      <td>6.0</td>\n      <td>1</td>\n      <td>1</td>\n      <td>53</td>\n      <td>3</td>\n      <td>2.0</td>\n      <td>3.0</td>\n      <td>...</td>\n      <td>90.4</td>\n      <td>171.4</td>\n      <td>30.8</td>\n      <td>38.0</td>\n      <td>40.0</td>\n      <td>33.2</td>\n      <td>107.9</td>\n      <td>NaN</td>\n      <td>Yes</td>\n      <td>Male</td>\n    </tr>\n    <tr>\n      <th>2</th>\n      <td>83734</td>\n      <td>1.0</td>\n      <td>NaN</td>\n      <td>NaN</td>\n      <td>1</td>\n      <td>1</td>\n      <td>78</td>\n      <td>3</td>\n      <td>1.0</td>\n      <td>3.0</td>\n      <td>...</td>\n      <td>83.4</td>\n      <td>170.1</td>\n      <td>28.8</td>\n      <td>35.6</td>\n      <td>37.0</td>\n      <td>31.0</td>\n      <td>116.5</td>\n      <td>2.0</td>\n      <td>Yes</td>\n      <td>Male</td>\n    </tr>\n    <tr>\n      <th>3</th>\n      <td>83735</td>\n      <td>2.0</td>\n      <td>1.0</td>\n      <td>1.0</td>\n      <td>2</td>\n      <td>2</td>\n      <td>56</td>\n      <td>3</td>\n      <td>1.0</td>\n      <td>5.0</td>\n      <td>...</td>\n      <td>109.8</td>\n      <td>160.9</td>\n      <td>42.4</td>\n      <td>38.5</td>\n      <td>37.7</td>\n      <td>38.3</td>\n      <td>110.1</td>\n      <td>2.0</td>\n      <td>No</td>\n      <td>Female</td>\n    </tr>\n    <tr>\n      <th>4</th>\n      <td>83736</td>\n      <td>2.0</td>\n      <td>1.0</td>\n      <td>1.0</td>\n      <td>2</td>\n      <td>2</td>\n      <td>42</td>\n      <td>4</td>\n      <td>1.0</td>\n      <td>4.0</td>\n      <td>...</td>\n      <td>55.2</td>\n      <td>164.9</td>\n      <td>20.3</td>\n      <td>37.4</td>\n      <td>36.0</td>\n      <td>27.2</td>\n      <td>80.4</td>\n      <td>2.0</td>\n      <td>No</td>\n      <td>Female</td>\n    </tr>\n    <tr>\n      <th>...</th>\n      <td>...</td>\n      <td>...</td>\n      <td>...</td>\n      <td>...</td>\n      <td>...</td>\n      <td>...</td>\n      <td>...</td>\n      <td>...</td>\n      <td>...</td>\n      <td>...</td>\n      <td>...</td>\n      <td>...</td>\n      <td>...</td>\n      <td>...</td>\n      <td>...</td>\n      <td>...</td>\n      <td>...</td>\n      <td>...</td>\n      <td>...</td>\n      <td>...</td>\n      <td>...</td>\n    </tr>\n    <tr>\n      <th>5730</th>\n      <td>93695</td>\n      <td>2.0</td>\n      <td>2.0</td>\n      <td>NaN</td>\n      <td>1</td>\n      <td>2</td>\n      <td>76</td>\n      <td>3</td>\n      <td>1.0</td>\n      <td>3.0</td>\n      <td>...</td>\n      <td>59.1</td>\n      <td>165.8</td>\n      <td>21.5</td>\n      <td>38.2</td>\n      <td>37.0</td>\n      <td>29.5</td>\n      <td>95.0</td>\n      <td>2.0</td>\n      <td>Yes</td>\n      <td>Female</td>\n    </tr>\n    <tr>\n      <th>5731</th>\n      <td>93696</td>\n      <td>2.0</td>\n      <td>2.0</td>\n      <td>NaN</td>\n      <td>2</td>\n      <td>1</td>\n      <td>26</td>\n      <td>3</td>\n      <td>1.0</td>\n      <td>5.0</td>\n      <td>...</td>\n      <td>112.1</td>\n      <td>182.2</td>\n      <td>33.8</td>\n      <td>43.4</td>\n      <td>41.8</td>\n      <td>42.3</td>\n      <td>110.2</td>\n      <td>2.0</td>\n      <td>No</td>\n      <td>Male</td>\n    </tr>\n    <tr>\n      <th>5732</th>\n      <td>93697</td>\n      <td>1.0</td>\n      <td>NaN</td>\n      <td>1.0</td>\n      <td>1</td>\n      <td>2</td>\n      <td>80</td>\n      <td>3</td>\n      <td>1.0</td>\n      <td>4.0</td>\n      <td>...</td>\n      <td>71.7</td>\n      <td>152.2</td>\n      <td>31.0</td>\n      <td>31.3</td>\n      <td>37.5</td>\n      <td>28.8</td>\n      <td>NaN</td>\n      <td>2.0</td>\n      <td>Yes</td>\n      <td>Female</td>\n    </tr>\n    <tr>\n      <th>5733</th>\n      <td>93700</td>\n      <td>NaN</td>\n      <td>NaN</td>\n      <td>NaN</td>\n      <td>1</td>\n      <td>1</td>\n      <td>35</td>\n      <td>3</td>\n      <td>2.0</td>\n      <td>1.0</td>\n      <td>...</td>\n      <td>78.2</td>\n      <td>173.3</td>\n      <td>26.0</td>\n      <td>40.3</td>\n      <td>37.5</td>\n      <td>30.6</td>\n      <td>98.9</td>\n      <td>2.0</td>\n      <td>Yes</td>\n      <td>Male</td>\n    </tr>\n    <tr>\n      <th>5734</th>\n      <td>93702</td>\n      <td>1.0</td>\n      <td>NaN</td>\n      <td>2.0</td>\n      <td>2</td>\n      <td>2</td>\n      <td>24</td>\n      <td>3</td>\n      <td>1.0</td>\n      <td>5.0</td>\n      <td>...</td>\n      <td>58.3</td>\n      <td>165.0</td>\n      <td>21.4</td>\n      <td>38.2</td>\n      <td>33.5</td>\n      <td>26.2</td>\n      <td>72.5</td>\n      <td>2.0</td>\n      <td>No</td>\n      <td>Female</td>\n    </tr>\n  </tbody>\n</table>\n<p>5735 rows × 30 columns</p>\n</div>"
          },
          "metadata": {}
        }
      ]
    },
    {
      "cell_type": "markdown",
      "source": "We can now [tabulate](https://pandas.pydata.org/pandas-docs/stable/generated/pandas.crosstab.html) the numbers of female and male smokers and non-smokers:",
      "metadata": {
        "cell_id": "00006-e296b292-e681-453b-81a4-08b1e5e0621e",
        "deepnote_cell_type": "markdown"
      }
    },
    {
      "cell_type": "code",
      "metadata": {
        "cell_id": "00007-6be388b3-2efa-4eb5-9cec-9eb90254457c",
        "deepnote_to_be_reexecuted": false,
        "source_hash": "b465c7ab",
        "execution_start": 1617883816020,
        "execution_millis": 87,
        "deepnote_cell_type": "code"
      },
      "source": "dx = da[[\"SMQ020x\", \"RIAGENDRx\"]].dropna()  # dropna drops cases where either variable is missing\npd.crosstab(dx.SMQ020x, dx.RIAGENDRx)",
      "execution_count": null,
      "outputs": [
        {
          "output_type": "execute_result",
          "execution_count": 7,
          "data": {
            "application/vnd.deepnote.dataframe.v2+json": {
              "row_count": 2,
              "column_count": 2,
              "columns": [
                {
                  "name": "Female",
                  "dtype": "int64",
                  "stats": {
                    "unique_count": 2,
                    "nan_count": 0,
                    "min": 906,
                    "max": 2066,
                    "histogram": [
                      {
                        "bin_start": 906,
                        "bin_end": 1022,
                        "count": 1
                      },
                      {
                        "bin_start": 1022,
                        "bin_end": 1138,
                        "count": 0
                      },
                      {
                        "bin_start": 1138,
                        "bin_end": 1254,
                        "count": 0
                      },
                      {
                        "bin_start": 1254,
                        "bin_end": 1370,
                        "count": 0
                      },
                      {
                        "bin_start": 1370,
                        "bin_end": 1486,
                        "count": 0
                      },
                      {
                        "bin_start": 1486,
                        "bin_end": 1602,
                        "count": 0
                      },
                      {
                        "bin_start": 1602,
                        "bin_end": 1718,
                        "count": 0
                      },
                      {
                        "bin_start": 1718,
                        "bin_end": 1834,
                        "count": 0
                      },
                      {
                        "bin_start": 1834,
                        "bin_end": 1950,
                        "count": 0
                      },
                      {
                        "bin_start": 1950,
                        "bin_end": 2066,
                        "count": 1
                      }
                    ]
                  }
                },
                {
                  "name": "Male",
                  "dtype": "int64",
                  "stats": {
                    "unique_count": 2,
                    "nan_count": 0,
                    "min": 1340,
                    "max": 1413,
                    "histogram": [
                      {
                        "bin_start": 1340,
                        "bin_end": 1347.3,
                        "count": 1
                      },
                      {
                        "bin_start": 1347.3,
                        "bin_end": 1354.6,
                        "count": 0
                      },
                      {
                        "bin_start": 1354.6,
                        "bin_end": 1361.9,
                        "count": 0
                      },
                      {
                        "bin_start": 1361.9,
                        "bin_end": 1369.2,
                        "count": 0
                      },
                      {
                        "bin_start": 1369.2,
                        "bin_end": 1376.5,
                        "count": 0
                      },
                      {
                        "bin_start": 1376.5,
                        "bin_end": 1383.8,
                        "count": 0
                      },
                      {
                        "bin_start": 1383.8,
                        "bin_end": 1391.1,
                        "count": 0
                      },
                      {
                        "bin_start": 1391.1,
                        "bin_end": 1398.4,
                        "count": 0
                      },
                      {
                        "bin_start": 1398.4,
                        "bin_end": 1405.7,
                        "count": 0
                      },
                      {
                        "bin_start": 1405.7,
                        "bin_end": 1413,
                        "count": 1
                      }
                    ]
                  }
                },
                {
                  "name": "_deepnote_index_column",
                  "dtype": "object"
                }
              ],
              "rows_top": [
                {
                  "Female": 2066,
                  "Male": 1340,
                  "_deepnote_index_column": "No"
                },
                {
                  "Female": 906,
                  "Male": 1413,
                  "_deepnote_index_column": "Yes"
                }
              ],
              "rows_bottom": null
            },
            "text/plain": "RIAGENDRx  Female  Male\nSMQ020x                \nNo           2066  1340\nYes           906  1413",
            "text/html": "<div>\n<style scoped>\n    .dataframe tbody tr th:only-of-type {\n        vertical-align: middle;\n    }\n\n    .dataframe tbody tr th {\n        vertical-align: top;\n    }\n\n    .dataframe thead th {\n        text-align: right;\n    }\n</style>\n<table border=\"1\" class=\"dataframe\">\n  <thead>\n    <tr style=\"text-align: right;\">\n      <th>RIAGENDRx</th>\n      <th>Female</th>\n      <th>Male</th>\n    </tr>\n    <tr>\n      <th>SMQ020x</th>\n      <th></th>\n      <th></th>\n    </tr>\n  </thead>\n  <tbody>\n    <tr>\n      <th>No</th>\n      <td>2066</td>\n      <td>1340</td>\n    </tr>\n    <tr>\n      <th>Yes</th>\n      <td>906</td>\n      <td>1413</td>\n    </tr>\n  </tbody>\n</table>\n</div>"
          },
          "metadata": {}
        }
      ]
    },
    {
      "cell_type": "markdown",
      "source": "The confidence interval (CI) is constructed using two inputs: the sample proportion of smokers, and the total sample size for smokers and non-smokers combined.  We calculate these values next.",
      "metadata": {
        "cell_id": "00008-596c39c1-4fbf-4371-b6e8-149d1722668c",
        "deepnote_cell_type": "markdown"
      }
    },
    {
      "cell_type": "code",
      "metadata": {
        "cell_id": "00009-dc9f718d-ba79-45e2-af40-1554851e0069",
        "deepnote_to_be_reexecuted": false,
        "source_hash": "5ba396f5",
        "execution_start": 1617884401360,
        "execution_millis": 117,
        "deepnote_cell_type": "code"
      },
      "source": "dz = dx.groupby(dx.RIAGENDRx).agg({\"SMQ020x\": [lambda x: np.mean(x==\"Yes\"), np.size]})\ndz.columns = [\"Proportion\", \"Total_n\"] # The default column names are unclear, so we replace them here\ndz",
      "execution_count": null,
      "outputs": [
        {
          "output_type": "execute_result",
          "execution_count": 10,
          "data": {
            "application/vnd.deepnote.dataframe.v2+json": {
              "row_count": 2,
              "column_count": 2,
              "columns": [
                {
                  "name": "Proportion",
                  "dtype": "float64",
                  "stats": {
                    "unique_count": 2,
                    "nan_count": 0,
                    "min": 0.30484522207267833,
                    "max": 0.5132582637123139,
                    "histogram": [
                      {
                        "bin_start": 0.30484522207267833,
                        "bin_end": 0.3256865262366419,
                        "count": 1
                      },
                      {
                        "bin_start": 0.3256865262366419,
                        "bin_end": 0.3465278304006054,
                        "count": 0
                      },
                      {
                        "bin_start": 0.3465278304006054,
                        "bin_end": 0.367369134564569,
                        "count": 0
                      },
                      {
                        "bin_start": 0.367369134564569,
                        "bin_end": 0.38821043872853256,
                        "count": 0
                      },
                      {
                        "bin_start": 0.38821043872853256,
                        "bin_end": 0.40905174289249613,
                        "count": 0
                      },
                      {
                        "bin_start": 0.40905174289249613,
                        "bin_end": 0.42989304705645964,
                        "count": 0
                      },
                      {
                        "bin_start": 0.42989304705645964,
                        "bin_end": 0.4507343512204232,
                        "count": 0
                      },
                      {
                        "bin_start": 0.4507343512204232,
                        "bin_end": 0.4715756553843867,
                        "count": 0
                      },
                      {
                        "bin_start": 0.4715756553843867,
                        "bin_end": 0.4924169595483503,
                        "count": 0
                      },
                      {
                        "bin_start": 0.4924169595483503,
                        "bin_end": 0.5132582637123139,
                        "count": 1
                      }
                    ]
                  }
                },
                {
                  "name": "Total_n",
                  "dtype": "int64",
                  "stats": {
                    "unique_count": 2,
                    "nan_count": 0,
                    "min": 2753,
                    "max": 2972,
                    "histogram": [
                      {
                        "bin_start": 2753,
                        "bin_end": 2774.9,
                        "count": 1
                      },
                      {
                        "bin_start": 2774.9,
                        "bin_end": 2796.8,
                        "count": 0
                      },
                      {
                        "bin_start": 2796.8,
                        "bin_end": 2818.7,
                        "count": 0
                      },
                      {
                        "bin_start": 2818.7,
                        "bin_end": 2840.6,
                        "count": 0
                      },
                      {
                        "bin_start": 2840.6,
                        "bin_end": 2862.5,
                        "count": 0
                      },
                      {
                        "bin_start": 2862.5,
                        "bin_end": 2884.4,
                        "count": 0
                      },
                      {
                        "bin_start": 2884.4,
                        "bin_end": 2906.3,
                        "count": 0
                      },
                      {
                        "bin_start": 2906.3,
                        "bin_end": 2928.2,
                        "count": 0
                      },
                      {
                        "bin_start": 2928.2,
                        "bin_end": 2950.1,
                        "count": 0
                      },
                      {
                        "bin_start": 2950.1,
                        "bin_end": 2972,
                        "count": 1
                      }
                    ]
                  }
                },
                {
                  "name": "_deepnote_index_column",
                  "dtype": "object"
                }
              ],
              "rows_top": [
                {
                  "Proportion": 0.30484522207267833,
                  "Total_n": 2972,
                  "_deepnote_index_column": "Female"
                },
                {
                  "Proportion": 0.5132582637123139,
                  "Total_n": 2753,
                  "_deepnote_index_column": "Male"
                }
              ],
              "rows_bottom": null
            },
            "text/plain": "           Proportion  Total_n\nRIAGENDRx                     \nFemale       0.304845     2972\nMale         0.513258     2753",
            "text/html": "<div>\n<style scoped>\n    .dataframe tbody tr th:only-of-type {\n        vertical-align: middle;\n    }\n\n    .dataframe tbody tr th {\n        vertical-align: top;\n    }\n\n    .dataframe thead th {\n        text-align: right;\n    }\n</style>\n<table border=\"1\" class=\"dataframe\">\n  <thead>\n    <tr style=\"text-align: right;\">\n      <th></th>\n      <th>Proportion</th>\n      <th>Total_n</th>\n    </tr>\n    <tr>\n      <th>RIAGENDRx</th>\n      <th></th>\n      <th></th>\n    </tr>\n  </thead>\n  <tbody>\n    <tr>\n      <th>Female</th>\n      <td>0.304845</td>\n      <td>2972</td>\n    </tr>\n    <tr>\n      <th>Male</th>\n      <td>0.513258</td>\n      <td>2753</td>\n    </tr>\n  </tbody>\n</table>\n</div>"
          },
          "metadata": {}
        }
      ]
    },
    {
      "cell_type": "markdown",
      "source": "Confidence intervals are closely connected to standard errors.  Recall that the standard error essentially tells you how\nfar you should expect an estimate to fall from the truth.  A confidence interval is an interval that under repeated sampling covers the truth a defined proportion of the time.  In most settings, this \"coverage probability\" is set to 95%.  \n\nIt turns out that in many settings, a 95% confidence interval can be constructed as the interval consisting of all points that are within two (or 1.96) standard errors of the point estimate.  More concisely, the confidence interval approximately spans from e - 2•SE to e + 2•SE, where e is the point estimate and SE is the standard error.\n\nSince the standard error plays such an important role here, we calculate it separately first.",
      "metadata": {
        "cell_id": "00010-f73fb27e-41ee-4bd0-b374-157efec6a0d9",
        "deepnote_cell_type": "markdown"
      }
    },
    {
      "cell_type": "code",
      "metadata": {
        "cell_id": "00011-83152679-7fcb-42d4-863b-17a3ef83bbbd",
        "deepnote_to_be_reexecuted": false,
        "source_hash": "d2804aeb",
        "execution_millis": 400,
        "execution_start": 1617885026226,
        "deepnote_cell_type": "code"
      },
      "source": "p = dz.Proportion.Female # Female proportion\nn = dz.Total_n.Female # Total number of females\nse_female = np.sqrt(p * (1 - p) / n)\nprint(se_female)\n\np = dz.Proportion.Male # Male proportion\nn = dz[\"Total_n\"].Male # Total number of males\nse_male = np.sqrt(p * (1 - p) / n)\nprint(se_male)",
      "execution_count": null,
      "outputs": [
        {
          "name": "stdout",
          "text": "0.008444152146214435\n0.009526078653689868\n",
          "output_type": "stream"
        }
      ]
    },
    {
      "cell_type": "markdown",
      "source": "We can see that the standard errors for the estimated proportions of females and males who smoke are similar, and are each around 1% (since we are studying a proportion here, 0.01 corresponds to a 1 percentage point change in the smoking rate).  \n\nThe standard error for a proportion is maximized when the true proportion is around 1/2, and gets smaller as the true proportion approaches either 0 or 1.  The estimated male smoking proportion is closer to 1/2 than the estimated female smoking proportion, and the male sample size is smaller than the female sample size.  Both of these factors lead to the male standard error being larger than the female standard error, although the difference is very small in this case.\n\nNext we calculate the 95% confidence intervals for the proportions of female and male smokers using the formula for the one-sample confidence interval for a proportion:",
      "metadata": {
        "cell_id": "00012-5608ecbd-130e-4426-867b-c75c0ede7c7a",
        "deepnote_cell_type": "markdown"
      }
    },
    {
      "cell_type": "code",
      "metadata": {
        "cell_id": "00013-999e96b9-572b-4680-9540-ccca4f3d2233",
        "deepnote_to_be_reexecuted": false,
        "source_hash": "dd3a5cf5",
        "execution_millis": 18,
        "execution_start": 1617884408896,
        "deepnote_cell_type": "code"
      },
      "source": "p = dz.Proportion.Female # Female proportion\nn = dz.Total_n.Female # Total number of females\nlcb = p - 1.96 * np.sqrt(p * (1 - p) / n)  \nucb = p + 1.96 * np.sqrt(p * (1 - p) / n)  \nprint(lcb, ucb)",
      "execution_count": null,
      "outputs": [
        {
          "name": "stdout",
          "text": "0.288294683866098 0.32139576027925865\n",
          "output_type": "stream"
        }
      ]
    },
    {
      "cell_type": "markdown",
      "source": "The results above indicate that any population proportion (for female lifetime smokers) between 0.288 and 0.321 would be compatible with the data that we observed in NHANES.",
      "metadata": {
        "cell_id": "00014-07e92b9a-a234-47bc-b288-3378edddc2ef",
        "deepnote_cell_type": "markdown"
      }
    },
    {
      "cell_type": "code",
      "metadata": {
        "cell_id": "00015-0efa1e8f-a7a3-4531-b744-8cb64053f1b1",
        "deepnote_to_be_reexecuted": false,
        "source_hash": "229f18c3",
        "execution_start": 1617884417202,
        "execution_millis": 85,
        "deepnote_cell_type": "code"
      },
      "source": "p = dz.Proportion.Male # Male proportion\nn = dz.Total_n.Male # Total number of males\nlcb = p - 1.96 * np.sqrt(p * (1 - p) / n)  \nucb = p + 1.96 * np.sqrt(p * (1 - p) / n)  \nprint(lcb, ucb)",
      "execution_count": null,
      "outputs": [
        {
          "name": "stdout",
          "text": "0.49458714955108174 0.531929377873546\n",
          "output_type": "stream"
        }
      ]
    },
    {
      "cell_type": "markdown",
      "source": "These results indicate that any population proportion (for male lifetime smokers) between 0.493 and 0.531 would be compatible with the NHANES data.",
      "metadata": {
        "cell_id": "00016-f7f3e72c-a8a4-4801-945a-b1b6e495428a",
        "deepnote_cell_type": "markdown"
      }
    },
    {
      "cell_type": "markdown",
      "source": "In a routine data analysis, we do not need to calculate these intervals manually.  We can use the Statsmodels library to calculate the CI for us in one line:",
      "metadata": {
        "cell_id": "00017-014b5ccb-4d98-47b6-8277-bbe9fafdb751",
        "deepnote_cell_type": "markdown"
      }
    },
    {
      "cell_type": "code",
      "metadata": {
        "cell_id": "00018-6c45791e-d7f9-4fdb-9d51-b9395abfb802",
        "deepnote_to_be_reexecuted": false,
        "source_hash": "ed7ef635",
        "execution_start": 1617884450088,
        "execution_millis": 11,
        "deepnote_cell_type": "code"
      },
      "source": "# 95% CI for the proportion of females who smoke (compare to value above)\nsm.stats.proportion_confint(906, 906+2066)  ",
      "execution_count": null,
      "outputs": [
        {
          "output_type": "execute_result",
          "execution_count": 14,
          "data": {
            "text/plain": "(0.2882949879861214, 0.32139545615923526)"
          },
          "metadata": {}
        }
      ]
    },
    {
      "cell_type": "code",
      "metadata": {
        "cell_id": "00019-6acc38b8-6cdd-4ffb-ade4-0aa77a1343a8",
        "deepnote_to_be_reexecuted": false,
        "source_hash": "ca2fab50",
        "execution_start": 1617884465621,
        "execution_millis": 8,
        "deepnote_cell_type": "code"
      },
      "source": "# 95% CI for the proportion of males who smoke (compare to value above)\nsm.stats.proportion_confint(1413, 1413+1340)  ",
      "execution_count": null,
      "outputs": [
        {
          "output_type": "execute_result",
          "execution_count": 15,
          "data": {
            "text/plain": "(0.49458749263718593, 0.5319290347874418)"
          },
          "metadata": {}
        }
      ]
    },
    {
      "cell_type": "markdown",
      "source": "## Confidence intervals comparing two independent proportions",
      "metadata": {
        "cell_id": "00020-484874ad-6df7-4989-862e-c026a8d8abff",
        "deepnote_cell_type": "markdown"
      }
    },
    {
      "cell_type": "markdown",
      "source": "The confidence intervals for the proportions of female and male smokers shown above are quite narrow and do not overlap.  This suggests that there is a substantial difference between the lifetime smoking rates for women and men. However there is no explicit information here about how different the two population proportions might be.  To address this question, we can form a confidence interval for the difference between the proportion of females who smoke and the proportion of males who smoke.  \n\nThe point estimate of the difference between female and male smoking rates is -0.208 (0.305 - 0.513).  That is, the smoking rate is about 20 percentage points higher in men than in women.  This difference of around 20 percentage points is only a point estimate of the underlying true value -- it is not exactly equal to the difference between the unknown proportions of females and males who smoke in the population.  A confidence interval helps us assess how far the estimated difference may be from the true difference.\n\nAs above, we start with the standard error.  The difference between two sample proportions based on independent data has a standard error that reflects the combined uncertainty in the two proportions being differenced.  This standard error can be calculated very easily.  If SE1 and SE2 are the standard errors for two proportions, then sqrt(SE1^2 + SE2^2) is the standard error for the difference of these proportions (`sqrt` is the square root function).  Note that this formula is only accurate if the two sample proportions being differenced are independent.\n\nIn the next cell we calculate the standard error for the difference between the proprotion of females who smoke and the proportion of males who smoke.",
      "metadata": {
        "collapsed": true,
        "cell_id": "00021-69236da0-e884-49fa-900d-b8ac1b105463",
        "deepnote_cell_type": "markdown"
      }
    },
    {
      "cell_type": "code",
      "metadata": {
        "cell_id": "00022-fa2262bb-0aa3-416b-a4cf-e7c13ca17438",
        "deepnote_to_be_reexecuted": false,
        "source_hash": "eb3d6e3b",
        "execution_start": 1617885030251,
        "execution_millis": 153,
        "deepnote_cell_type": "code"
      },
      "source": "se_diff = np.sqrt(se_female**2 + se_male**2)\nse_diff",
      "execution_count": null,
      "outputs": [
        {
          "output_type": "execute_result",
          "execution_count": 18,
          "data": {
            "text/plain": "0.012729881381407434"
          },
          "metadata": {}
        }
      ]
    },
    {
      "cell_type": "markdown",
      "source": "The standard error of around 0.013 indicates that the estimated difference statistic -0.208 is expected to fall around 0.013 units from the true value.  We do not know in which direction the error lies, and we do not know that the error is exactly 0.013, only that it is around this large on average.  For most purposes, a standard error of 0.013 relative to an observed difference of -0.21 would be considered very small.  That is, we have a very accurate estimate of the difference between smoking rates in women and in men.\n\nNow that we have the standard error, we can construct a 95% confidence interval for the difference in proportions by taking the estimate and subtracting and adding two (or 1.96) standard errors from it.",
      "metadata": {
        "cell_id": "00023-509ad57c-2bce-4f0b-aa94-43a6d9c93f5c",
        "deepnote_cell_type": "markdown"
      }
    },
    {
      "cell_type": "code",
      "metadata": {
        "cell_id": "00024-14f94366-ac16-4215-a815-c04053277f1c",
        "deepnote_to_be_reexecuted": false,
        "source_hash": "d8889c62",
        "execution_millis": 98,
        "execution_start": 1617885197703,
        "deepnote_cell_type": "code"
      },
      "source": "d = dz.Proportion.Female - dz.Proportion.Male\nlcb = d - 2*se_diff\nucb = d + 2*se_diff\nprint(lcb, ucb)\nprint( d)",
      "execution_count": null,
      "outputs": [
        {
          "name": "stdout",
          "text": "-0.2338728044024504 -0.18295327887682067\n-0.20841304163963553\n",
          "output_type": "stream"
        }
      ]
    },
    {
      "cell_type": "markdown",
      "source": "The 95% confidence interval above shows us that any value for the difference of population proportions (between females and males) lying between -0.233 and -0.183 is consistent with the observed data.",
      "metadata": {
        "cell_id": "00025-eea16f6c-9431-444a-8de1-95e99f5aa6c8",
        "deepnote_cell_type": "markdown"
      }
    },
    {
      "cell_type": "markdown",
      "source": "### Confidence intervals for subpopulations\n\nSince smoking rates vary strongly with age, it might be more informative to stratify the data into homogeneous age bands and compare the proportions of female and male smokers within each age band.  We can also calculate the 95% confidence interval for this difference within each age band.  These data can be displayed as a plot, with the difference in proportions plotted as a curve.  The confidence intervals can then be used to construct a \"confidence band\" around the estimates.",
      "metadata": {
        "cell_id": "00026-267c1a2e-0e98-4128-b444-1eb5e7f4bcc8",
        "deepnote_cell_type": "markdown"
      }
    },
    {
      "cell_type": "code",
      "metadata": {
        "cell_id": "00027-4c96be96-19d4-4047-8873-fa7a9aa6e5bb",
        "deepnote_to_be_reexecuted": false,
        "source_hash": "bce3d53f",
        "execution_start": 1617885277603,
        "execution_millis": 209,
        "deepnote_cell_type": "code"
      },
      "source": "# Calculate the smoking rates within age/gender groups\nda[\"agegrp\"] = pd.cut(da.RIDAGEYR, [18, 30, 40, 50, 60, 70, 80])\npr = da.groupby([\"agegrp\", \"RIAGENDRx\"]).agg({\"SMQ020x\": lambda x: np.mean(x==\"Yes\")}).unstack()\npr.columns = [\"Female\", \"Male\"]\n\n# The number of people for each calculated proportion\ndn = da.groupby([\"agegrp\", \"RIAGENDRx\"]).agg({\"SMQ020x\": np.size}).unstack()\ndn.columns = [\"Female\", \"Male\"]\n\n# Standard errors for each proportion\nse = np.sqrt(pr * (1 - pr) / dn)\n\n# Standard error for the difference in female/male smoking rates in every age band\nse_diff = np.sqrt(se.Female**2 + se.Male**2)\n\n# Standard errors for the difference in smoking rates between genders, within age bands\n\n# The difference in smoking rates between genders\npq = pr.Female - pr.Male\n\nx = np.arange(pq.size)\npp = sns.pointplot(x, pq.values, color='black')\nsns.pointplot(x, pq - 2*se_diff)\nsns.pointplot(x, pq + 2*se_diff)\npp.set_xticklabels(pq.index)\npp.set_xlabel(\"Age group\")\npp.set_ylabel(\"Female - male smoking proportion\")",
      "execution_count": null,
      "outputs": [
        {
          "name": "stderr",
          "text": "/shared-libs/python3.7/py/lib/python3.7/site-packages/seaborn/_decorators.py:43: FutureWarning: Pass the following variables as keyword args: x, y. From version 0.12, the only valid positional argument will be `data`, and passing other arguments without an explicit keyword will result in an error or misinterpretation.\n  FutureWarning\n/shared-libs/python3.7/py/lib/python3.7/site-packages/seaborn/_decorators.py:43: FutureWarning: Pass the following variables as keyword args: x, y. From version 0.12, the only valid positional argument will be `data`, and passing other arguments without an explicit keyword will result in an error or misinterpretation.\n  FutureWarning\n/shared-libs/python3.7/py/lib/python3.7/site-packages/seaborn/_decorators.py:43: FutureWarning: Pass the following variables as keyword args: x, y. From version 0.12, the only valid positional argument will be `data`, and passing other arguments without an explicit keyword will result in an error or misinterpretation.\n  FutureWarning\n",
          "output_type": "stream"
        },
        {
          "output_type": "execute_result",
          "execution_count": 22,
          "data": {
            "text/plain": "Text(0, 0.5, 'Female - male smoking proportion')"
          },
          "metadata": {}
        },
        {
          "data": {
            "text/plain": "<Figure size 432x288 with 1 Axes>",
            "image/png": "[encoded data removed]"
          },
          "metadata": {
            "needs_background": "light"
          },
          "output_type": "display_data"
        }
      ]
    },
    {
      "cell_type": "markdown",
      "source": "The plot above shows for each age band, the point estimate of the difference in smoking rates between genders (black dot), and the lower and upper end points of the 95% confidence interval (blue points).  Based on this plot, we see that in the United States, smoking is more common in men than in women, not just overall, but also in every one of the age bands.  The difference is largest for older people -- for people older than 60, the smoking rate for males is around 30 percentage points greater than the smoking rate for females, while for people younger than 30, the smoking rate for males is only around 15 percentage points greater than the smoking rate for females.\n\nAlso note that the 95% confidence bands shown above are much wider than the 95% confidence intervals for the data that were not stratified by age.  Stratifying by age leads to smaller sample sizes, which in turn results in wider confidence intervals.",
      "metadata": {
        "cell_id": "00028-068ee9fe-0247-476f-881c-3ce706b9e249",
        "deepnote_cell_type": "markdown"
      }
    },
    {
      "cell_type": "markdown",
      "source": "## Confidence intervals for the mean\n\nIn this section, we discuss how to construct confidence intervals for the mean.  First note that the proportion discussed above is also a mean -- for example, if the data are 0, 1, 0, then the mean is 1/3, which is also the proportion of 1's in the data.  However the proportion has the special property that the variance is completely determined by the mean. That is why we constructed the standard errors for the sample proportion above using p•(1 - p) as the variance.  In general, the variance of quantitative data will not be a function of the mean, as this is a very special property of binary data.  Therefore, in general we must estimate the variance as a separate step after estimating the mean. \n\nTo illustrate the construction of confidence intervals for the population mean of a quantitative variable, we will use the body mass inde (BMI) data from NHANES.  To begin, we calculate the mean BMI for all women and for all men in the NHANES sample.",
      "metadata": {
        "cell_id": "00029-df3eb74e-f027-41e9-8c8c-a02f55073ca5",
        "deepnote_cell_type": "markdown"
      }
    },
    {
      "cell_type": "code",
      "metadata": {
        "cell_id": "00030-47982da7-22b4-40a8-ba34-e383b075d3d0",
        "deepnote_to_be_reexecuted": false,
        "source_hash": "71d4b89",
        "execution_start": 1617885408362,
        "execution_millis": 7,
        "deepnote_cell_type": "code"
      },
      "source": "da.groupby(\"RIAGENDRx\").agg({\"BMXBMI\": np.mean})",
      "execution_count": null,
      "outputs": [
        {
          "output_type": "execute_result",
          "execution_count": 23,
          "data": {
            "application/vnd.deepnote.dataframe.v2+json": {
              "row_count": 2,
              "column_count": 1,
              "columns": [
                {
                  "name": "BMXBMI",
                  "dtype": "float64",
                  "stats": {
                    "unique_count": 2,
                    "nan_count": 0,
                    "min": 28.778072111846985,
                    "max": 29.939945652173996,
                    "histogram": [
                      {
                        "bin_start": 28.778072111846985,
                        "bin_end": 28.894259465879685,
                        "count": 1
                      },
                      {
                        "bin_start": 28.894259465879685,
                        "bin_end": 29.01044681991239,
                        "count": 0
                      },
                      {
                        "bin_start": 29.01044681991239,
                        "bin_end": 29.12663417394509,
                        "count": 0
                      },
                      {
                        "bin_start": 29.12663417394509,
                        "bin_end": 29.24282152797779,
                        "count": 0
                      },
                      {
                        "bin_start": 29.24282152797779,
                        "bin_end": 29.359008882010492,
                        "count": 0
                      },
                      {
                        "bin_start": 29.359008882010492,
                        "bin_end": 29.475196236043192,
                        "count": 0
                      },
                      {
                        "bin_start": 29.475196236043192,
                        "bin_end": 29.591383590075893,
                        "count": 0
                      },
                      {
                        "bin_start": 29.591383590075893,
                        "bin_end": 29.707570944108593,
                        "count": 0
                      },
                      {
                        "bin_start": 29.707570944108593,
                        "bin_end": 29.823758298141296,
                        "count": 0
                      },
                      {
                        "bin_start": 29.823758298141296,
                        "bin_end": 29.939945652173996,
                        "count": 1
                      }
                    ]
                  }
                },
                {
                  "name": "_deepnote_index_column",
                  "dtype": "object"
                }
              ],
              "rows_top": [
                {
                  "BMXBMI": 29.939945652173996,
                  "_deepnote_index_column": "Female"
                },
                {
                  "BMXBMI": 28.778072111846985,
                  "_deepnote_index_column": "Male"
                }
              ],
              "rows_bottom": null
            },
            "text/plain": "              BMXBMI\nRIAGENDRx           \nFemale     29.939946\nMale       28.778072",
            "text/html": "<div>\n<style scoped>\n    .dataframe tbody tr th:only-of-type {\n        vertical-align: middle;\n    }\n\n    .dataframe tbody tr th {\n        vertical-align: top;\n    }\n\n    .dataframe thead th {\n        text-align: right;\n    }\n</style>\n<table border=\"1\" class=\"dataframe\">\n  <thead>\n    <tr style=\"text-align: right;\">\n      <th></th>\n      <th>BMXBMI</th>\n    </tr>\n    <tr>\n      <th>RIAGENDRx</th>\n      <th></th>\n    </tr>\n  </thead>\n  <tbody>\n    <tr>\n      <th>Female</th>\n      <td>29.939946</td>\n    </tr>\n    <tr>\n      <th>Male</th>\n      <td>28.778072</td>\n    </tr>\n  </tbody>\n</table>\n</div>"
          },
          "metadata": {}
        }
      ]
    },
    {
      "cell_type": "markdown",
      "source": "The numbers in the first column of the table above are estimates of the population mean BMI for all women and for all men in the United States (the population that the NHANES study represents). As with the sample proportions, these numbers are not exactly equal to the mean BMI for all women and men, they are only estimates.  To establish the uncertainty for these estimates, we can use the standard errors for these two estimated means.\n\nThe standard error for the mean based on an independent and identically distributed sample is equal to the standard deviation of the variable divided by the square root of the sample size.  We next calculate all the relevant values needed to compute the standard error. ",
      "metadata": {
        "cell_id": "00031-f15851dd-b749-4cb6-a134-5627fc0942e5",
        "deepnote_cell_type": "markdown"
      }
    },
    {
      "cell_type": "code",
      "metadata": {
        "cell_id": "00032-66ce71b3-eb93-433f-9f84-a06b6de1a87a",
        "deepnote_to_be_reexecuted": false,
        "source_hash": "35d7064c",
        "execution_millis": 37,
        "execution_start": 1617885420405,
        "deepnote_cell_type": "code"
      },
      "source": "da.groupby(\"RIAGENDRx\").agg({\"BMXBMI\": [np.mean, np.std, np.size]})",
      "execution_count": null,
      "outputs": [
        {
          "output_type": "execute_result",
          "execution_count": 25,
          "data": {
            "application/vnd.deepnote.dataframe.v2+json": {
              "row_count": 2,
              "column_count": 3,
              "columns": [
                {
                  "name": [
                    "BMXBMI",
                    "mean"
                  ],
                  "dtype": "float64",
                  "stats": {
                    "unique_count": 2,
                    "nan_count": 0,
                    "min": 28.778072111846985,
                    "max": 29.939945652173996,
                    "histogram": [
                      {
                        "bin_start": 28.778072111846985,
                        "bin_end": 28.894259465879685,
                        "count": 1
                      },
                      {
                        "bin_start": 28.894259465879685,
                        "bin_end": 29.01044681991239,
                        "count": 0
                      },
                      {
                        "bin_start": 29.01044681991239,
                        "bin_end": 29.12663417394509,
                        "count": 0
                      },
                      {
                        "bin_start": 29.12663417394509,
                        "bin_end": 29.24282152797779,
                        "count": 0
                      },
                      {
                        "bin_start": 29.24282152797779,
                        "bin_end": 29.359008882010492,
                        "count": 0
                      },
                      {
                        "bin_start": 29.359008882010492,
                        "bin_end": 29.475196236043192,
                        "count": 0
                      },
                      {
                        "bin_start": 29.475196236043192,
                        "bin_end": 29.591383590075893,
                        "count": 0
                      },
                      {
                        "bin_start": 29.591383590075893,
                        "bin_end": 29.707570944108593,
                        "count": 0
                      },
                      {
                        "bin_start": 29.707570944108593,
                        "bin_end": 29.823758298141296,
                        "count": 0
                      },
                      {
                        "bin_start": 29.823758298141296,
                        "bin_end": 29.939945652173996,
                        "count": 1
                      }
                    ]
                  }
                },
                {
                  "name": [
                    "BMXBMI",
                    "std"
                  ],
                  "dtype": "float64",
                  "stats": {
                    "unique_count": 2,
                    "nan_count": 0,
                    "min": 6.252567616801466,
                    "max": 7.753318809545676,
                    "histogram": [
                      {
                        "bin_start": 6.252567616801466,
                        "bin_end": 6.402642736075887,
                        "count": 1
                      },
                      {
                        "bin_start": 6.402642736075887,
                        "bin_end": 6.552717855350308,
                        "count": 0
                      },
                      {
                        "bin_start": 6.552717855350308,
                        "bin_end": 6.702792974624729,
                        "count": 0
                      },
                      {
                        "bin_start": 6.702792974624729,
                        "bin_end": 6.85286809389915,
                        "count": 0
                      },
                      {
                        "bin_start": 6.85286809389915,
                        "bin_end": 7.002943213173571,
                        "count": 0
                      },
                      {
                        "bin_start": 7.002943213173571,
                        "bin_end": 7.153018332447992,
                        "count": 0
                      },
                      {
                        "bin_start": 7.153018332447992,
                        "bin_end": 7.303093451722413,
                        "count": 0
                      },
                      {
                        "bin_start": 7.303093451722413,
                        "bin_end": 7.453168570996834,
                        "count": 0
                      },
                      {
                        "bin_start": 7.453168570996834,
                        "bin_end": 7.603243690271255,
                        "count": 0
                      },
                      {
                        "bin_start": 7.603243690271255,
                        "bin_end": 7.753318809545676,
                        "count": 1
                      }
                    ]
                  }
                },
                {
                  "name": [
                    "BMXBMI",
                    "size"
                  ],
                  "dtype": "float64",
                  "stats": {
                    "unique_count": 2,
                    "nan_count": 0,
                    "min": 2759,
                    "max": 2976,
                    "histogram": [
                      {
                        "bin_start": 2759,
                        "bin_end": 2780.7,
                        "count": 1
                      },
                      {
                        "bin_start": 2780.7,
                        "bin_end": 2802.4,
                        "count": 0
                      },
                      {
                        "bin_start": 2802.4,
                        "bin_end": 2824.1,
                        "count": 0
                      },
                      {
                        "bin_start": 2824.1,
                        "bin_end": 2845.8,
                        "count": 0
                      },
                      {
                        "bin_start": 2845.8,
                        "bin_end": 2867.5,
                        "count": 0
                      },
                      {
                        "bin_start": 2867.5,
                        "bin_end": 2889.2,
                        "count": 0
                      },
                      {
                        "bin_start": 2889.2,
                        "bin_end": 2910.9,
                        "count": 0
                      },
                      {
                        "bin_start": 2910.9,
                        "bin_end": 2932.6,
                        "count": 0
                      },
                      {
                        "bin_start": 2932.6,
                        "bin_end": 2954.3,
                        "count": 0
                      },
                      {
                        "bin_start": 2954.3,
                        "bin_end": 2976,
                        "count": 1
                      }
                    ]
                  }
                },
                {
                  "name": "_deepnote_index_column",
                  "dtype": "object"
                }
              ],
              "rows_top": [
                {
                  "('BMXBMI', 'mean')": 29.939945652173996,
                  "('BMXBMI', 'std')": 7.753318809545676,
                  "('BMXBMI', 'size')": 2976,
                  "_deepnote_index_column": "Female"
                },
                {
                  "('BMXBMI', 'mean')": 28.778072111846985,
                  "('BMXBMI', 'std')": 6.252567616801466,
                  "('BMXBMI', 'size')": 2759,
                  "_deepnote_index_column": "Male"
                }
              ],
              "rows_bottom": null
            },
            "text/plain": "              BMXBMI                  \n                mean       std    size\nRIAGENDRx                             \nFemale     29.939946  7.753319  2976.0\nMale       28.778072  6.252568  2759.0",
            "text/html": "<div>\n<style scoped>\n    .dataframe tbody tr th:only-of-type {\n        vertical-align: middle;\n    }\n\n    .dataframe tbody tr th {\n        vertical-align: top;\n    }\n\n    .dataframe thead tr th {\n        text-align: left;\n    }\n\n    .dataframe thead tr:last-of-type th {\n        text-align: right;\n    }\n</style>\n<table border=\"1\" class=\"dataframe\">\n  <thead>\n    <tr>\n      <th></th>\n      <th colspan=\"3\" halign=\"left\">BMXBMI</th>\n    </tr>\n    <tr>\n      <th></th>\n      <th>mean</th>\n      <th>std</th>\n      <th>size</th>\n    </tr>\n    <tr>\n      <th>RIAGENDRx</th>\n      <th></th>\n      <th></th>\n      <th></th>\n    </tr>\n  </thead>\n  <tbody>\n    <tr>\n      <th>Female</th>\n      <td>29.939946</td>\n      <td>7.753319</td>\n      <td>2976.0</td>\n    </tr>\n    <tr>\n      <th>Male</th>\n      <td>28.778072</td>\n      <td>6.252568</td>\n      <td>2759.0</td>\n    </tr>\n  </tbody>\n</table>\n</div>"
          },
          "metadata": {}
        }
      ]
    },
    {
      "cell_type": "markdown",
      "source": "We can now calculate the standard error of the mean BMI for women and for men:",
      "metadata": {
        "cell_id": "00033-6e7d188a-819d-404c-9d98-f5bba91c2c6c",
        "deepnote_cell_type": "markdown"
      }
    },
    {
      "cell_type": "code",
      "metadata": {
        "cell_id": "00034-543dd562-9a53-4179-8317-344f95243045",
        "deepnote_to_be_reexecuted": false,
        "source_hash": "c110f093",
        "execution_start": 1617885440831,
        "execution_millis": 7,
        "deepnote_cell_type": "code"
      },
      "source": "sem_female = 7.753 / np.sqrt(2976)\nsem_male = 6.253 / np.sqrt(2759)\nprint(sem_female, sem_male)",
      "execution_count": null,
      "outputs": [
        {
          "name": "stdout",
          "text": "0.14211938534506902 0.119045388988243\n",
          "output_type": "stream"
        }
      ]
    },
    {
      "cell_type": "markdown",
      "source": "We see that the sample mean BMI for women is expected to be off by around 0.14 relative to the population mean BMI for women, and the sample mean BMI for men is expected to be off by around 0.12 relative to the population mean BMI for men.\n\nThe standard error of the mean for women is slightly larger for women than for men.  The reason for this is that even though the NHANES sample size for women is slightly larger than that for men, the data for women appears to be more spread out.  The greater standard deviation for the female BMI values leads in turn to less precision when estimating the population mean BMI for females. ",
      "metadata": {
        "cell_id": "00035-d4f73922-8253-4f70-b492-a8728c382e95",
        "deepnote_cell_type": "markdown"
      }
    },
    {
      "cell_type": "markdown",
      "source": "As was the case for proportions, the 95% confidence interval for the mean can be calculated by taking the estimate plus and minus 2 (or 1.96) times the standard error.  The 95% confidence interval for female BMI is thus calculated as follows:",
      "metadata": {
        "cell_id": "00036-cedf783d-bd02-481a-b6c5-34829f5442af",
        "deepnote_cell_type": "markdown"
      }
    },
    {
      "cell_type": "code",
      "metadata": {
        "cell_id": "00037-acc10083-1a5e-4f8c-bd8b-0160c3672d45",
        "deepnote_to_be_reexecuted": false,
        "source_hash": "b26b0ed7",
        "execution_start": 1617885461798,
        "execution_millis": 6,
        "deepnote_cell_type": "code"
      },
      "source": "lcb_female = 29.94 - 1.96 * 7.753 / np.sqrt(2976)\nucb_female = 29.94 + 1.96 * 7.753 / np.sqrt(2976)\nprint(lcb_female, ucb_female)",
      "execution_count": null,
      "outputs": [
        {
          "name": "stdout",
          "text": "29.661446004723665 30.218553995276338\n",
          "output_type": "stream"
        }
      ]
    },
    {
      "cell_type": "markdown",
      "source": "Below we show how the one-sample confidence interval can be calculated using Statsmodels.  The numbers differ slightly\ndue to rounding in the calculation above.  The result below is more exact.",
      "metadata": {
        "cell_id": "00038-972bca96-34cb-4f09-be80-453a135daa81",
        "deepnote_cell_type": "markdown"
      }
    },
    {
      "cell_type": "code",
      "metadata": {
        "cell_id": "00039-4e8dd3c9-c9d6-4a2d-9b60-f593403f9070",
        "deepnote_cell_type": "code"
      },
      "source": "female_bmi = da.loc[da.RIAGENDRx==\"Female\", \"BMXBMI\"].dropna()\nsm.stats.DescrStatsW(female_bmi).zconfint_mean()",
      "execution_count": null,
      "outputs": [
        {
          "data": {
            "text/plain": "(29.659875498090155, 30.220015806257681)"
          },
          "execution_count": 169,
          "metadata": {},
          "output_type": "execute_result"
        }
      ]
    },
    {
      "cell_type": "markdown",
      "source": "### Confidence intervals for the difference between two means\n\nNow we turn to studying the difference between two means, taking the difference between mean female and male BMI for illustration.  As discussed above, the standard error for the difference of two means taken from independent samples is sqrt(SE1^2 + SE2^2), where SE1 and SE2 are the standard errors for the two means being compared.  Below we see that this gives us a value around 0.19 when comparing the female BMI to the male BMI.  This is substantially larger than either the SEM for estimating the female mean (0.14) or the SEM for estimating the male mean (0.12).  It is expected that the standard error for the difference between two means is greater than the standard errors for estimating a single mean, since the uncertainty of both gender-specific proportions impacts the statistic.",
      "metadata": {
        "cell_id": "00040-e8f2b8b7-41b1-4083-992f-23b448a7c51c",
        "deepnote_cell_type": "markdown"
      }
    },
    {
      "cell_type": "code",
      "metadata": {
        "cell_id": "00041-55490f70-c84a-406c-9df7-7370cea98f03",
        "deepnote_cell_type": "code"
      },
      "source": "sem_diff = np.sqrt(sem_female**2 + sem_male**2)\nsem_diff",
      "execution_count": null,
      "outputs": [
        {
          "data": {
            "text/plain": "0.18539073420811059"
          },
          "execution_count": 170,
          "metadata": {},
          "output_type": "execute_result"
        }
      ]
    },
    {
      "cell_type": "markdown",
      "source": "We can can now construct a 95% confidence interval for the difference between the female and male mean BMI.",
      "metadata": {
        "cell_id": "00042-a09fe0c5-75fe-47c3-8669-9c77d120b62f",
        "deepnote_cell_type": "markdown"
      }
    },
    {
      "cell_type": "code",
      "metadata": {
        "cell_id": "00043-bb1a365e-0fc5-4320-a31c-d35f3a7bad3a",
        "deepnote_cell_type": "code"
      },
      "source": "bmi_diff = 29.94 - 28.78\nlcb = bmi_diff - 2*sem_diff\nucb = bmi_diff + 2*sem_diff\n(lcb, ucb)",
      "execution_count": null,
      "outputs": [
        {
          "data": {
            "text/plain": "(0.78921853158377897, 1.5307814684162213)"
          },
          "execution_count": 171,
          "metadata": {},
          "output_type": "execute_result"
        }
      ]
    },
    {
      "cell_type": "markdown",
      "source": "This finding indicates that while the point estimate shows that the women in our sample have around 1.1 unit greater BMI than the men in our sample, the true difference between the mean for all women in the population and for all men in the population could fall between 0.79 and 1.53, and still be consistent with the observed data.",
      "metadata": {
        "cell_id": "00044-ab51b95c-1f05-4d72-8086-4060e3065119",
        "deepnote_cell_type": "markdown"
      }
    },
    {
      "cell_type": "markdown",
      "source": "**Age-stratified confidence intervals** As a final example, we refine the analysis above by considering the difference of mean BMI values between females and males within age bands.  We see below that the overall average difference of 1.1 units results from differences that are very different based on age.  Specifically, the difference between female and male BMI is much smaller than 1.1 for younger people, and much larger than 1.1 for older people.  \n\nSince the confidence bands for people under 40 contain 0, the data are consistent with there being no difference between female and male BMI in this age range.  For people older than 40, a hypothetical zero difference between the mean BMI values for females and males is not very consistent with the data.  Informally, we can say that the data strongly suggest that the female mean BMI is greater than the male mean BMI in this age band, with the difference being anywhere from 0.5 to 2 units.",
      "metadata": {
        "cell_id": "00045-69d6af60-8907-4a94-9b58-9ac49e896eea",
        "deepnote_cell_type": "markdown"
      }
    },
    {
      "cell_type": "code",
      "metadata": {
        "cell_id": "00046-a68addd8-1e89-47d5-ab11-091318b5b895",
        "deepnote_cell_type": "code"
      },
      "source": "# Calculate the mean, SD, and sample size for BMI within age/gender groups\nda[\"agegrp\"] = pd.cut(da.RIDAGEYR, [18, 30, 40, 50, 60, 70, 80])\npr = da.groupby([\"agegrp\", \"RIAGENDRx\"]).agg({\"BMXBMI\": [np.mean, np.std, np.size]}).unstack()\n\n# Calculate the SEM for females and for males within each age band\npr[\"BMXBMI\", \"sem\", \"Female\"] = pr[\"BMXBMI\", \"std\", \"Female\"] / np.sqrt(pr[\"BMXBMI\", \"size\", \"Female\"]) \npr[\"BMXBMI\", \"sem\", \"Male\"] = pr[\"BMXBMI\", \"std\", \"Male\"] / np.sqrt(pr[\"BMXBMI\", \"size\", \"Male\"]) \n\n# Calculate the mean difference of BMI between females and males within each age band, also  calculate\n# its SE and the lower and upper limits of its 95% CI.\npr[\"BMXBMI\", \"mean_diff\", \"\"] = pr[\"BMXBMI\", \"mean\", \"Female\"] - pr[\"BMXBMI\", \"mean\", \"Male\"]\npr[\"BMXBMI\", \"sem_diff\", \"\"] = np.sqrt(pr[\"BMXBMI\", \"sem\", \"Female\"]**2 + pr[\"BMXBMI\", \"sem\", \"Male\"]**2) \npr[\"BMXBMI\", \"lcb_diff\", \"\"] = pr[\"BMXBMI\", \"mean_diff\", \"\"] - 1.96 * pr[\"BMXBMI\", \"sem_diff\", \"\"] \npr[\"BMXBMI\", \"ucb_diff\", \"\"] = pr[\"BMXBMI\", \"mean_diff\", \"\"] + 1.96 * pr[\"BMXBMI\", \"sem_diff\", \"\"] \n\n# Plot the mean difference in black and the confidence limits in blue\nx = np.arange(pr.shape[0])\npp = sns.pointplot(x, pr[\"BMXBMI\", \"mean_diff\", \"\"], color='black')\nsns.pointplot(x, pr[\"BMXBMI\", \"lcb_diff\", \"\"], color='blue')\nsns.pointplot(x, pr[\"BMXBMI\", \"ucb_diff\", \"\"], color='blue')\npp.set_xticklabels(pr.index)\npp.set_xlabel(\"Age group\")\npp.set_ylabel(\"Female - male BMI difference\")",
      "execution_count": null,
      "outputs": [
        {
          "data": {
            "text/plain": "Text(0,0.5,'Female - male BMI difference')"
          },
          "execution_count": 172,
          "metadata": {},
          "output_type": "execute_result"
        },
        {
          "data": {
            "image/png": "[encoded data removed]",
            "text/plain": "<Figure size 432x288 with 1 Axes>"
          },
          "metadata": {},
          "output_type": "display_data"
        }
      ]
    },
    {
      "cell_type": "markdown",
      "source": "**Inter-group and intra-group differences:** As the sample size grows, estimates become increasingly precise, but it is important to remember that a highly precise estimate for the mean does not imply that individuals within a population do not vary from each other.  To put the differences shown above in context, below we show the underlying summaries on which the plot above was based.  Note that the standard deviation of BMI within both females and males ranges from around 5 to around 8 depending on the age band.  This means, for example, that two randomly-selected males will tend to have BMI values that differ by around 6 units.  This is a far greater difference than the mean difference of up to around 1.5 BMI units between females and males.  Thus, while there is a tendency for females to have slightly higher BMI than males, the heterogeneity within genders is substantially greater than the difference of means between genders.",
      "metadata": {
        "cell_id": "00047-dfd14774-c6db-495e-a298-5fabfe685754",
        "deepnote_cell_type": "markdown"
      }
    },
    {
      "cell_type": "code",
      "metadata": {
        "cell_id": "00048-af528db1-5824-4512-abd4-dd9c79ff6200",
        "deepnote_cell_type": "code"
      },
      "source": "print(pr)",
      "execution_count": null,
      "outputs": [
        {
          "name": "stdout",
          "output_type": "stream",
          "text": "              BMXBMI                                                         \\\n                mean                  std             size              sem   \nRIAGENDRx     Female       Male    Female      Male Female   Male    Female   \nagegrp                                                                        \n(18, 30]   28.123881  27.391822  7.745893  6.649440  609.0  544.0  0.313879   \n(30, 40]   30.325586  29.611726  8.315608  6.622412  474.0  458.0  0.381949   \n(40, 50]   31.160643  29.724623  8.076195  6.407076  502.0  401.0  0.360458   \n(50, 60]   30.743777  29.231486  7.575848  5.914373  470.0  454.0  0.349448   \n(60, 70]   31.074828  29.392488  7.604514  5.933307  441.0  437.0  0.362120   \n(70, 80]   29.138213  27.957692  6.284968  4.974855  410.0  402.0  0.310392   \n\n                                                             \n                    mean_diff  sem_diff  lcb_diff  ucb_diff  \nRIAGENDRx      Male                                          \nagegrp                                                       \n(18, 30]   0.285092  0.732059  0.424026 -0.099032  1.563150  \n(30, 40]   0.309445  0.713861  0.491570 -0.249616  1.677338  \n(40, 50]   0.319954  1.436019  0.481976  0.491347  2.380692  \n(50, 60]   0.277575  1.512291  0.446275  0.637591  2.386991  \n(60, 70]   0.283829  1.682340  0.460097  0.780550  2.584130  \n(70, 80]   0.248123  1.180521  0.397377  0.401662  1.959380  \n"
        }
      ]
    },
    {
      "cell_type": "markdown",
      "source": "### Confidence intervals and sample size\n\nConfidence intervals reflect the precision of an estimate, which is largely driven by the amount of data used to construct the estimate.  We can explore the relationship between precision and sample size by subampling data from NHANES and calculating confidence intervals for the subsamples.  Below we calculate confidence intervals based on subsamples of size 100, 200, 400, and 800.\n\nA wider confidence interval implies that we have less precision in our estimate.  In the simulation below, we calculate the average width of the confidence intervals constructed for each sample size.  We see that the confidence interval steadily becomes shorter as the sample size grows.  For most settings, the confidence interval will become around half as wide when the sample size is increased by a factor of 4.  Below we see this scaling when the sample size increases from 100 to 400, and when it increases from 200 to 800, both of which are increases by a factor of 4.",
      "metadata": {
        "cell_id": "00049-28e83896-1785-4ad6-a3f1-946c7a6268a2",
        "deepnote_cell_type": "markdown"
      }
    },
    {
      "cell_type": "code",
      "metadata": {
        "cell_id": "00050-adeb559e-3730-45ff-b6b8-f864a5632dbc",
        "deepnote_cell_type": "code"
      },
      "source": "dx = da.loc[da.RIAGENDRx==\"Female\", [\"RIAGENDRx\", \"BMXBMI\"]].dropna()\n\nall_cis = []\nfor n in 100, 200, 400, 800:\n    cis = []\n    for i in range(500):\n        dz = dx.sample(n)\n        ci = sm.stats.DescrStatsW(dz.BMXBMI).zconfint_mean()\n        cis.append(ci)\n    cis = np.asarray(cis)\n    mean_width = cis[:, 1].mean() - cis[:, 0].mean()\n    print(n, mean_width)\n    all_cis.append(cis)",
      "execution_count": null,
      "outputs": [
        {
          "name": "stdout",
          "output_type": "stream",
          "text": "100 3.03569675744\n200 2.14396986451\n400 1.52339573732\n800 1.07282499255\n"
        }
      ]
    },
    {
      "cell_type": "markdown",
      "source": "It is also informative to plot the individual confidence intervals, computed for 500 subsamples of size 100, to see how they vary.  The vertical grey bars below each correspond to a confidence interval.  The red horizontal line is the mean BMI calculated using the entire data set, which can be taken as a proxy for othe population mean.  While the individual intervals are quite different from each other, it appears that the vast majority of them cover the population value.",
      "metadata": {
        "cell_id": "00051-0281ca5e-c693-4733-82a7-8475b60e3458",
        "deepnote_cell_type": "markdown"
      }
    },
    {
      "cell_type": "code",
      "metadata": {
        "cell_id": "00052-4c0034f6-2e8c-41e4-8f0a-ece578a10e32",
        "deepnote_cell_type": "code"
      },
      "source": "ci = all_cis[0]\nfor j, x in enumerate(ci):\n    plt.plot([j, j], x, color='grey')\n    plt.gca().set_ylabel(\"BMI\")\nmn = dx.BMXBMI.mean()\nplt.plot([0, 500], [mn, mn], color='red')",
      "execution_count": null,
      "outputs": [
        {
          "data": {
            "text/plain": "[<matplotlib.lines.Line2D at 0x7f904cf513c8>]"
          },
          "execution_count": 175,
          "metadata": {},
          "output_type": "execute_result"
        },
        {
          "data": {
            "image/png": "[encoded data removed]",
            "text/plain": "<Figure size 432x288 with 1 Axes>"
          },
          "metadata": {},
          "output_type": "display_data"
        }
      ]
    },
    {
      "cell_type": "markdown",
      "source": "We can calculate the fraction of the 500 simulated confidence intervals that did not cover the target value.  This is called the \"non-coverage probability\".  There are two ways for an interval to fail to cover the target -- either the upper limit of the interval can fall below the target, or the lower limit of the interval can fall above the target.  We calculate each of these below.  The sum of these two probabilities should be around 0.05, which is the allowed proportion of the time that a 95% confidence interval does not cover its target.",
      "metadata": {
        "cell_id": "00053-f1e38b1c-d3a6-4137-b49a-73ec63ef6d07",
        "deepnote_cell_type": "markdown"
      }
    },
    {
      "cell_type": "code",
      "metadata": {
        "cell_id": "00054-a13ba9cc-2263-447e-b82d-0cec86cc4484",
        "deepnote_cell_type": "code"
      },
      "source": "print(np.mean(ci[:, 1] < mn)) # Upper limit falls below the target\nprint(np.mean(ci[:, 0] > mn)) # Lower limit falls above the target",
      "execution_count": null,
      "outputs": [
        {
          "name": "stdout",
          "output_type": "stream",
          "text": "0.03\n0.018\n"
        }
      ]
    },
    {
      "cell_type": "markdown",
      "source": "<a style='text-decoration:none;line-height:16px;display:flex;color:#5B5B62;padding:10px;justify-content:end;' href='https://deepnote.com?utm_source=created-in-deepnote-cell&projectId=796ba814-f632-4502-b0d7-7e2f8f9e546d' target=\"_blank\">\n<img alt='Created in deepnote.com' style='display:inline;max-height:16px;margin:0px;margin-right:7.5px;' src='data:image/svg+xml;base64,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' > </img>\nCreated in <span style='font-weight:600;margin-left:4px;'>Deepnote</span></a>",
      "metadata": {
        "tags": [],
        "created_in_deepnote_cell": true,
        "deepnote_cell_type": "markdown"
      }
    }
  ],
  "nbformat": 4,
  "nbformat_minor": 1,
  "metadata": {
    "kernelspec": {
      "display_name": "Python 3",
      "language": "python",
      "name": "python3"
    },
    "language_info": {
      "codemirror_mode": {
        "name": "ipython",
        "version": 3
      },
      "file_extension": ".py",
      "mimetype": "text/x-python",
      "name": "python",
      "nbconvert_exporter": "python",
      "pygments_lexer": "ipython3",
      "version": "3.8.5"
    },
    "deepnote_notebook_id": "249cb3d3-25cc-4bf6-a8e3-d2201c1fd3b6",
    "deepnote": {},
    "deepnote_execution_queue": []
  }
}