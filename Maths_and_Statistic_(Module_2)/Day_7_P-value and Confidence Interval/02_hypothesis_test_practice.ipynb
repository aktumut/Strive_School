{
  "cells": [
    {
      "cell_type": "markdown",
      "source": "# Practice notebook for hypothesis tests using NHANES data\n\nThis notebook will give you the opportunity to perform some hypothesis tests with the NHANES data that are similar to\nwhat was done in the week 3 case study notebook.\n\nYou can enter your code into the cells that say \"enter your code here\", and you can type responses to the questions into the cells that say \"Type Markdown and Latex\".\n\nNote that most of the code that you will need to write below is very similar to code that appears in the case study notebook.  You will need to edit code from that notebook in small ways to adapt it to the prompts below.\n\nTo get started, we will use the same module imports and read the data in the same way as we did in the case study:",
      "metadata": {
        "cell_id": "00000-e56f61e0-1b92-46a5-91c1-0a72946edf3f",
        "deepnote_cell_type": "markdown"
      }
    },
    {
      "cell_type": "code",
      "metadata": {
        "cell_id": "00001-aee427c1-fb86-409c-84ea-be0e7c5b65f7",
        "deepnote_to_be_reexecuted": false,
        "source_hash": "c55beb95",
        "execution_millis": 19,
        "execution_start": 1617977608684,
        "deepnote_cell_type": "code"
      },
      "source": "%matplotlib inline\nimport matplotlib.pyplot as plt\nimport seaborn as sns\nimport pandas as pd\nimport statsmodels.api as sm\nimport numpy as np\n\nda = pd.read_csv(\"nhanes_2015_2016.csv\")",
      "execution_count": 32,
      "outputs": []
    },
    {
      "cell_type": "code",
      "metadata": {
        "cell_id": "00002-86418168-b261-411f-b6bf-f633dcbad755",
        "deepnote_to_be_reexecuted": false,
        "source_hash": "c30d79c5",
        "execution_millis": 4,
        "execution_start": 1617977608988,
        "deepnote_cell_type": "code"
      },
      "source": "nhanes = da.copy()",
      "execution_count": 33,
      "outputs": []
    },
    {
      "cell_type": "code",
      "metadata": {
        "cell_id": "00003-525b9303-ff89-474a-9d9e-aa1acbfe4652",
        "deepnote_to_be_reexecuted": false,
        "source_hash": "57229efd",
        "execution_millis": 57,
        "execution_start": 1617977609374,
        "deepnote_cell_type": "code"
      },
      "source": "nhanes.info()",
      "execution_count": 34,
      "outputs": [
        {
          "name": "stdout",
          "text": "<class 'pandas.core.frame.DataFrame'>\nRangeIndex: 5735 entries, 0 to 5734\nData columns (total 28 columns):\n #   Column    Non-Null Count  Dtype  \n---  ------    --------------  -----  \n 0   SEQN      5735 non-null   int64  \n 1   ALQ101    5208 non-null   float64\n 2   ALQ110    1731 non-null   float64\n 3   ALQ130    3379 non-null   float64\n 4   SMQ020    5735 non-null   int64  \n 5   RIAGENDR  5735 non-null   int64  \n 6   RIDAGEYR  5735 non-null   int64  \n 7   RIDRETH1  5735 non-null   int64  \n 8   DMDCITZN  5734 non-null   float64\n 9   DMDEDUC2  5474 non-null   float64\n 10  DMDMARTL  5474 non-null   float64\n 11  DMDHHSIZ  5735 non-null   int64  \n 12  WTINT2YR  5735 non-null   float64\n 13  SDMVPSU   5735 non-null   int64  \n 14  SDMVSTRA  5735 non-null   int64  \n 15  INDFMPIR  5134 non-null   float64\n 16  BPXSY1    5401 non-null   float64\n 17  BPXDI1    5401 non-null   float64\n 18  BPXSY2    5535 non-null   float64\n 19  BPXDI2    5535 non-null   float64\n 20  BMXWT     5666 non-null   float64\n 21  BMXHT     5673 non-null   float64\n 22  BMXBMI    5662 non-null   float64\n 23  BMXLEG    5345 non-null   float64\n 24  BMXARML   5427 non-null   float64\n 25  BMXARMC   5427 non-null   float64\n 26  BMXWAIST  5368 non-null   float64\n 27  HIQ210    4732 non-null   float64\ndtypes: float64(20), int64(8)\nmemory usage: 1.2 MB\n",
          "output_type": "stream"
        }
      ]
    },
    {
      "cell_type": "markdown",
      "source": "## Question 1\n\nConduct a hypothesis test (at the 0.05 level) for the null hypothesis that the proportion of women who smoke is equal to the proportion of men who smoke.",
      "metadata": {
        "cell_id": "00004-8a667f81-3c3f-48aa-8d6e-2e4e58e2bede",
        "deepnote_cell_type": "markdown"
      }
    },
    {
      "cell_type": "code",
      "metadata": {
        "cell_id": "00005-84a028da-0b08-4b1d-a782-d47112f56184",
        "deepnote_to_be_reexecuted": false,
        "source_hash": "fe5930ef",
        "execution_millis": 194,
        "execution_start": 1617977611290,
        "deepnote_cell_type": "code"
      },
      "source": "nhanes\n",
      "execution_count": 35,
      "outputs": [
        {
          "output_type": "execute_result",
          "execution_count": 35,
          "data": {
            "application/vnd.deepnote.dataframe.v2+json": {
              "row_count": 5735,
              "column_count": 28,
              "columns": [
                {
                  "name": "SEQN",
                  "dtype": "int64",
                  "stats": {
                    "unique_count": 5735,
                    "nan_count": 0,
                    "min": 83732,
                    "max": 93702,
                    "histogram": [
                      {
                        "bin_start": 83732,
                        "bin_end": 84729,
                        "count": 580
                      },
                      {
                        "bin_start": 84729,
                        "bin_end": 85726,
                        "count": 584
                      },
                      {
                        "bin_start": 85726,
                        "bin_end": 86723,
                        "count": 612
                      },
                      {
                        "bin_start": 86723,
                        "bin_end": 87720,
                        "count": 556
                      },
                      {
                        "bin_start": 87720,
                        "bin_end": 88717,
                        "count": 562
                      },
                      {
                        "bin_start": 88717,
                        "bin_end": 89714,
                        "count": 588
                      },
                      {
                        "bin_start": 89714,
                        "bin_end": 90711,
                        "count": 560
                      },
                      {
                        "bin_start": 90711,
                        "bin_end": 91708,
                        "count": 563
                      },
                      {
                        "bin_start": 91708,
                        "bin_end": 92705,
                        "count": 561
                      },
                      {
                        "bin_start": 92705,
                        "bin_end": 93702,
                        "count": 569
                      }
                    ]
                  }
                },
                {
                  "name": "ALQ101",
                  "dtype": "float64",
                  "stats": {
                    "unique_count": 3,
                    "nan_count": 527,
                    "min": 1,
                    "max": 9,
                    "histogram": [
                      {
                        "bin_start": 1,
                        "bin_end": 1.8,
                        "count": 3477
                      },
                      {
                        "bin_start": 1.8,
                        "bin_end": 2.6,
                        "count": 1728
                      },
                      {
                        "bin_start": 2.6,
                        "bin_end": 3.4000000000000004,
                        "count": 0
                      },
                      {
                        "bin_start": 3.4000000000000004,
                        "bin_end": 4.2,
                        "count": 0
                      },
                      {
                        "bin_start": 4.2,
                        "bin_end": 5,
                        "count": 0
                      },
                      {
                        "bin_start": 5,
                        "bin_end": 5.800000000000001,
                        "count": 0
                      },
                      {
                        "bin_start": 5.800000000000001,
                        "bin_end": 6.6000000000000005,
                        "count": 0
                      },
                      {
                        "bin_start": 6.6000000000000005,
                        "bin_end": 7.4,
                        "count": 0
                      },
                      {
                        "bin_start": 7.4,
                        "bin_end": 8.2,
                        "count": 0
                      },
                      {
                        "bin_start": 8.2,
                        "bin_end": 9,
                        "count": 3
                      }
                    ]
                  }
                },
                {
                  "name": "ALQ110",
                  "dtype": "float64",
                  "stats": {
                    "unique_count": 4,
                    "nan_count": 4004,
                    "min": 1,
                    "max": 9,
                    "histogram": [
                      {
                        "bin_start": 1,
                        "bin_end": 1.8,
                        "count": 747
                      },
                      {
                        "bin_start": 1.8,
                        "bin_end": 2.6,
                        "count": 979
                      },
                      {
                        "bin_start": 2.6,
                        "bin_end": 3.4000000000000004,
                        "count": 0
                      },
                      {
                        "bin_start": 3.4000000000000004,
                        "bin_end": 4.2,
                        "count": 0
                      },
                      {
                        "bin_start": 4.2,
                        "bin_end": 5,
                        "count": 0
                      },
                      {
                        "bin_start": 5,
                        "bin_end": 5.800000000000001,
                        "count": 0
                      },
                      {
                        "bin_start": 5.800000000000001,
                        "bin_end": 6.6000000000000005,
                        "count": 0
                      },
                      {
                        "bin_start": 6.6000000000000005,
                        "bin_end": 7.4,
                        "count": 1
                      },
                      {
                        "bin_start": 7.4,
                        "bin_end": 8.2,
                        "count": 0
                      },
                      {
                        "bin_start": 8.2,
                        "bin_end": 9,
                        "count": 4
                      }
                    ]
                  }
                },
                {
                  "name": "ALQ130",
                  "dtype": "float64",
                  "stats": {
                    "unique_count": 15,
                    "nan_count": 2356,
                    "min": 1,
                    "max": 999,
                    "histogram": [
                      {
                        "bin_start": 1,
                        "bin_end": 100.8,
                        "count": 3375
                      },
                      {
                        "bin_start": 100.8,
                        "bin_end": 200.6,
                        "count": 0
                      },
                      {
                        "bin_start": 200.6,
                        "bin_end": 300.4,
                        "count": 0
                      },
                      {
                        "bin_start": 300.4,
                        "bin_end": 400.2,
                        "count": 0
                      },
                      {
                        "bin_start": 400.2,
                        "bin_end": 500,
                        "count": 0
                      },
                      {
                        "bin_start": 500,
                        "bin_end": 599.8,
                        "count": 0
                      },
                      {
                        "bin_start": 599.8,
                        "bin_end": 699.6,
                        "count": 0
                      },
                      {
                        "bin_start": 699.6,
                        "bin_end": 799.4,
                        "count": 0
                      },
                      {
                        "bin_start": 799.4,
                        "bin_end": 899.1999999999999,
                        "count": 0
                      },
                      {
                        "bin_start": 899.1999999999999,
                        "bin_end": 999,
                        "count": 4
                      }
                    ]
                  }
                },
                {
                  "name": "SMQ020",
                  "dtype": "int64",
                  "stats": {
                    "unique_count": 4,
                    "nan_count": 0,
                    "min": 1,
                    "max": 9,
                    "histogram": [
                      {
                        "bin_start": 1,
                        "bin_end": 1.8,
                        "count": 2319
                      },
                      {
                        "bin_start": 1.8,
                        "bin_end": 2.6,
                        "count": 3406
                      },
                      {
                        "bin_start": 2.6,
                        "bin_end": 3.4000000000000004,
                        "count": 0
                      },
                      {
                        "bin_start": 3.4000000000000004,
                        "bin_end": 4.2,
                        "count": 0
                      },
                      {
                        "bin_start": 4.2,
                        "bin_end": 5,
                        "count": 0
                      },
                      {
                        "bin_start": 5,
                        "bin_end": 5.800000000000001,
                        "count": 0
                      },
                      {
                        "bin_start": 5.800000000000001,
                        "bin_end": 6.6000000000000005,
                        "count": 0
                      },
                      {
                        "bin_start": 6.6000000000000005,
                        "bin_end": 7.4,
                        "count": 2
                      },
                      {
                        "bin_start": 7.4,
                        "bin_end": 8.2,
                        "count": 0
                      },
                      {
                        "bin_start": 8.2,
                        "bin_end": 9,
                        "count": 8
                      }
                    ]
                  }
                },
                {
                  "name": "RIAGENDR",
                  "dtype": "int64",
                  "stats": {
                    "unique_count": 2,
                    "nan_count": 0,
                    "min": 1,
                    "max": 2,
                    "histogram": [
                      {
                        "bin_start": 1,
                        "bin_end": 1.1,
                        "count": 2759
                      },
                      {
                        "bin_start": 1.1,
                        "bin_end": 1.2,
                        "count": 0
                      },
                      {
                        "bin_start": 1.2,
                        "bin_end": 1.3,
                        "count": 0
                      },
                      {
                        "bin_start": 1.3,
                        "bin_end": 1.4,
                        "count": 0
                      },
                      {
                        "bin_start": 1.4,
                        "bin_end": 1.5,
                        "count": 0
                      },
                      {
                        "bin_start": 1.5,
                        "bin_end": 1.6,
                        "count": 0
                      },
                      {
                        "bin_start": 1.6,
                        "bin_end": 1.7000000000000002,
                        "count": 0
                      },
                      {
                        "bin_start": 1.7000000000000002,
                        "bin_end": 1.8,
                        "count": 0
                      },
                      {
                        "bin_start": 1.8,
                        "bin_end": 1.9,
                        "count": 0
                      },
                      {
                        "bin_start": 1.9,
                        "bin_end": 2,
                        "count": 2976
                      }
                    ]
                  }
                },
                {
                  "name": "RIDAGEYR",
                  "dtype": "int64",
                  "stats": {
                    "unique_count": 63,
                    "nan_count": 0,
                    "min": 18,
                    "max": 80,
                    "histogram": [
                      {
                        "bin_start": 18,
                        "bin_end": 24.2,
                        "count": 682
                      },
                      {
                        "bin_start": 24.2,
                        "bin_end": 30.4,
                        "count": 604
                      },
                      {
                        "bin_start": 30.4,
                        "bin_end": 36.6,
                        "count": 591
                      },
                      {
                        "bin_start": 36.6,
                        "bin_end": 42.8,
                        "count": 524
                      },
                      {
                        "bin_start": 42.8,
                        "bin_end": 49,
                        "count": 561
                      },
                      {
                        "bin_start": 49,
                        "bin_end": 55.2,
                        "count": 644
                      },
                      {
                        "bin_start": 55.2,
                        "bin_end": 61.4,
                        "count": 551
                      },
                      {
                        "bin_start": 61.4,
                        "bin_end": 67.6,
                        "count": 532
                      },
                      {
                        "bin_start": 67.6,
                        "bin_end": 73.80000000000001,
                        "count": 420
                      },
                      {
                        "bin_start": 73.80000000000001,
                        "bin_end": 80,
                        "count": 626
                      }
                    ]
                  }
                },
                {
                  "name": "RIDRETH1",
                  "dtype": "int64",
                  "stats": {
                    "unique_count": 5,
                    "nan_count": 0,
                    "min": 1,
                    "max": 5,
                    "histogram": [
                      {
                        "bin_start": 1,
                        "bin_end": 1.4,
                        "count": 1018
                      },
                      {
                        "bin_start": 1.4,
                        "bin_end": 1.8,
                        "count": 0
                      },
                      {
                        "bin_start": 1.8,
                        "bin_end": 2.2,
                        "count": 750
                      },
                      {
                        "bin_start": 2.2,
                        "bin_end": 2.6,
                        "count": 0
                      },
                      {
                        "bin_start": 2.6,
                        "bin_end": 3,
                        "count": 0
                      },
                      {
                        "bin_start": 3,
                        "bin_end": 3.4000000000000004,
                        "count": 1839
                      },
                      {
                        "bin_start": 3.4000000000000004,
                        "bin_end": 3.8000000000000003,
                        "count": 0
                      },
                      {
                        "bin_start": 3.8000000000000003,
                        "bin_end": 4.2,
                        "count": 1227
                      },
                      {
                        "bin_start": 4.2,
                        "bin_end": 4.6,
                        "count": 0
                      },
                      {
                        "bin_start": 4.6,
                        "bin_end": 5,
                        "count": 901
                      }
                    ]
                  }
                },
                {
                  "name": "DMDCITZN",
                  "dtype": "float64",
                  "stats": {
                    "unique_count": 4,
                    "nan_count": 1,
                    "min": 1,
                    "max": 9,
                    "histogram": [
                      {
                        "bin_start": 1,
                        "bin_end": 1.8,
                        "count": 4746
                      },
                      {
                        "bin_start": 1.8,
                        "bin_end": 2.6,
                        "count": 975
                      },
                      {
                        "bin_start": 2.6,
                        "bin_end": 3.4000000000000004,
                        "count": 0
                      },
                      {
                        "bin_start": 3.4000000000000004,
                        "bin_end": 4.2,
                        "count": 0
                      },
                      {
                        "bin_start": 4.2,
                        "bin_end": 5,
                        "count": 0
                      },
                      {
                        "bin_start": 5,
                        "bin_end": 5.800000000000001,
                        "count": 0
                      },
                      {
                        "bin_start": 5.800000000000001,
                        "bin_end": 6.6000000000000005,
                        "count": 0
                      },
                      {
                        "bin_start": 6.6000000000000005,
                        "bin_end": 7.4,
                        "count": 8
                      },
                      {
                        "bin_start": 7.4,
                        "bin_end": 8.2,
                        "count": 0
                      },
                      {
                        "bin_start": 8.2,
                        "bin_end": 9,
                        "count": 5
                      }
                    ]
                  }
                },
                {
                  "name": "DMDEDUC2",
                  "dtype": "float64",
                  "stats": {
                    "unique_count": 6,
                    "nan_count": 261,
                    "min": 1,
                    "max": 9,
                    "histogram": [
                      {
                        "bin_start": 1,
                        "bin_end": 1.8,
                        "count": 655
                      },
                      {
                        "bin_start": 1.8,
                        "bin_end": 2.6,
                        "count": 643
                      },
                      {
                        "bin_start": 2.6,
                        "bin_end": 3.4000000000000004,
                        "count": 1186
                      },
                      {
                        "bin_start": 3.4000000000000004,
                        "bin_end": 4.2,
                        "count": 1621
                      },
                      {
                        "bin_start": 4.2,
                        "bin_end": 5,
                        "count": 0
                      },
                      {
                        "bin_start": 5,
                        "bin_end": 5.800000000000001,
                        "count": 1366
                      },
                      {
                        "bin_start": 5.800000000000001,
                        "bin_end": 6.6000000000000005,
                        "count": 0
                      },
                      {
                        "bin_start": 6.6000000000000005,
                        "bin_end": 7.4,
                        "count": 0
                      },
                      {
                        "bin_start": 7.4,
                        "bin_end": 8.2,
                        "count": 0
                      },
                      {
                        "bin_start": 8.2,
                        "bin_end": 9,
                        "count": 3
                      }
                    ]
                  }
                },
                {
                  "name": "DMDMARTL",
                  "dtype": "float64",
                  "stats": {
                    "unique_count": 7,
                    "nan_count": 261,
                    "min": 1,
                    "max": 77,
                    "histogram": [
                      {
                        "bin_start": 1,
                        "bin_end": 8.6,
                        "count": 5472
                      },
                      {
                        "bin_start": 8.6,
                        "bin_end": 16.2,
                        "count": 0
                      },
                      {
                        "bin_start": 16.2,
                        "bin_end": 23.799999999999997,
                        "count": 0
                      },
                      {
                        "bin_start": 23.799999999999997,
                        "bin_end": 31.4,
                        "count": 0
                      },
                      {
                        "bin_start": 31.4,
                        "bin_end": 39,
                        "count": 0
                      },
                      {
                        "bin_start": 39,
                        "bin_end": 46.599999999999994,
                        "count": 0
                      },
                      {
                        "bin_start": 46.599999999999994,
                        "bin_end": 54.199999999999996,
                        "count": 0
                      },
                      {
                        "bin_start": 54.199999999999996,
                        "bin_end": 61.8,
                        "count": 0
                      },
                      {
                        "bin_start": 61.8,
                        "bin_end": 69.39999999999999,
                        "count": 0
                      },
                      {
                        "bin_start": 69.39999999999999,
                        "bin_end": 77,
                        "count": 2
                      }
                    ]
                  }
                },
                {
                  "name": "DMDHHSIZ",
                  "dtype": "int64",
                  "stats": {
                    "unique_count": 7,
                    "nan_count": 0,
                    "min": 1,
                    "max": 7,
                    "histogram": [
                      {
                        "bin_start": 1,
                        "bin_end": 1.6,
                        "count": 770
                      },
                      {
                        "bin_start": 1.6,
                        "bin_end": 2.2,
                        "count": 1546
                      },
                      {
                        "bin_start": 2.2,
                        "bin_end": 2.8,
                        "count": 0
                      },
                      {
                        "bin_start": 2.8,
                        "bin_end": 3.4,
                        "count": 1037
                      },
                      {
                        "bin_start": 3.4,
                        "bin_end": 4,
                        "count": 0
                      },
                      {
                        "bin_start": 4,
                        "bin_end": 4.6,
                        "count": 936
                      },
                      {
                        "bin_start": 4.6,
                        "bin_end": 5.2,
                        "count": 699
                      },
                      {
                        "bin_start": 5.2,
                        "bin_end": 5.8,
                        "count": 0
                      },
                      {
                        "bin_start": 5.8,
                        "bin_end": 6.3999999999999995,
                        "count": 379
                      },
                      {
                        "bin_start": 6.3999999999999995,
                        "bin_end": 7,
                        "count": 368
                      }
                    ]
                  }
                },
                {
                  "name": "WTINT2YR",
                  "dtype": "float64",
                  "stats": {
                    "unique_count": 4355,
                    "nan_count": 0,
                    "min": 5330.96,
                    "max": 233755.84,
                    "histogram": [
                      {
                        "bin_start": 5330.96,
                        "bin_end": 28173.448,
                        "count": 3360
                      },
                      {
                        "bin_start": 28173.448,
                        "bin_end": 51015.936,
                        "count": 1150
                      },
                      {
                        "bin_start": 51015.936,
                        "bin_end": 73858.42400000001,
                        "count": 297
                      },
                      {
                        "bin_start": 73858.42400000001,
                        "bin_end": 96700.91200000001,
                        "count": 255
                      },
                      {
                        "bin_start": 96700.91200000001,
                        "bin_end": 119543.40000000001,
                        "count": 249
                      },
                      {
                        "bin_start": 119543.40000000001,
                        "bin_end": 142385.888,
                        "count": 216
                      },
                      {
                        "bin_start": 142385.888,
                        "bin_end": 165228.376,
                        "count": 147
                      },
                      {
                        "bin_start": 165228.376,
                        "bin_end": 188070.864,
                        "count": 42
                      },
                      {
                        "bin_start": 188070.864,
                        "bin_end": 210913.352,
                        "count": 12
                      },
                      {
                        "bin_start": 210913.352,
                        "bin_end": 233755.84,
                        "count": 7
                      }
                    ]
                  }
                },
                {
                  "name": "SDMVPSU",
                  "dtype": "int64",
                  "stats": {
                    "unique_count": 2,
                    "nan_count": 0,
                    "min": 1,
                    "max": 2,
                    "histogram": [
                      {
                        "bin_start": 1,
                        "bin_end": 1.1,
                        "count": 2937
                      },
                      {
                        "bin_start": 1.1,
                        "bin_end": 1.2,
                        "count": 0
                      },
                      {
                        "bin_start": 1.2,
                        "bin_end": 1.3,
                        "count": 0
                      },
                      {
                        "bin_start": 1.3,
                        "bin_end": 1.4,
                        "count": 0
                      },
                      {
                        "bin_start": 1.4,
                        "bin_end": 1.5,
                        "count": 0
                      },
                      {
                        "bin_start": 1.5,
                        "bin_end": 1.6,
                        "count": 0
                      },
                      {
                        "bin_start": 1.6,
                        "bin_end": 1.7000000000000002,
                        "count": 0
                      },
                      {
                        "bin_start": 1.7000000000000002,
                        "bin_end": 1.8,
                        "count": 0
                      },
                      {
                        "bin_start": 1.8,
                        "bin_end": 1.9,
                        "count": 0
                      },
                      {
                        "bin_start": 1.9,
                        "bin_end": 2,
                        "count": 2798
                      }
                    ]
                  }
                },
                {
                  "name": "SDMVSTRA",
                  "dtype": "int64",
                  "stats": {
                    "unique_count": 15,
                    "nan_count": 0,
                    "min": 119,
                    "max": 133,
                    "histogram": [
                      {
                        "bin_start": 119,
                        "bin_end": 120.4,
                        "count": 641
                      },
                      {
                        "bin_start": 120.4,
                        "bin_end": 121.8,
                        "count": 390
                      },
                      {
                        "bin_start": 121.8,
                        "bin_end": 123.2,
                        "count": 740
                      },
                      {
                        "bin_start": 123.2,
                        "bin_end": 124.6,
                        "count": 366
                      },
                      {
                        "bin_start": 124.6,
                        "bin_end": 126,
                        "count": 434
                      },
                      {
                        "bin_start": 126,
                        "bin_end": 127.4,
                        "count": 764
                      },
                      {
                        "bin_start": 127.4,
                        "bin_end": 128.8,
                        "count": 388
                      },
                      {
                        "bin_start": 128.8,
                        "bin_end": 130.2,
                        "count": 781
                      },
                      {
                        "bin_start": 130.2,
                        "bin_end": 131.6,
                        "count": 434
                      },
                      {
                        "bin_start": 131.6,
                        "bin_end": 133,
                        "count": 797
                      }
                    ]
                  }
                },
                {
                  "name": "INDFMPIR",
                  "dtype": "float64",
                  "stats": {
                    "unique_count": 440,
                    "nan_count": 601,
                    "min": 0,
                    "max": 5,
                    "histogram": [
                      {
                        "bin_start": 0,
                        "bin_end": 0.5,
                        "count": 398
                      },
                      {
                        "bin_start": 0.5,
                        "bin_end": 1,
                        "count": 781
                      },
                      {
                        "bin_start": 1,
                        "bin_end": 1.5,
                        "count": 787
                      },
                      {
                        "bin_start": 1.5,
                        "bin_end": 2,
                        "count": 619
                      },
                      {
                        "bin_start": 2,
                        "bin_end": 2.5,
                        "count": 455
                      },
                      {
                        "bin_start": 2.5,
                        "bin_end": 3,
                        "count": 421
                      },
                      {
                        "bin_start": 3,
                        "bin_end": 3.5,
                        "count": 262
                      },
                      {
                        "bin_start": 3.5,
                        "bin_end": 4,
                        "count": 224
                      },
                      {
                        "bin_start": 4,
                        "bin_end": 4.5,
                        "count": 211
                      },
                      {
                        "bin_start": 4.5,
                        "bin_end": 5,
                        "count": 976
                      }
                    ]
                  }
                },
                {
                  "name": "BPXSY1",
                  "dtype": "float64",
                  "stats": {
                    "unique_count": 68,
                    "nan_count": 334,
                    "min": 82,
                    "max": 236,
                    "histogram": [
                      {
                        "bin_start": 82,
                        "bin_end": 97.4,
                        "count": 141
                      },
                      {
                        "bin_start": 97.4,
                        "bin_end": 112.8,
                        "count": 1264
                      },
                      {
                        "bin_start": 112.8,
                        "bin_end": 128.2,
                        "count": 2132
                      },
                      {
                        "bin_start": 128.2,
                        "bin_end": 143.6,
                        "count": 1044
                      },
                      {
                        "bin_start": 143.6,
                        "bin_end": 159,
                        "count": 547
                      },
                      {
                        "bin_start": 159,
                        "bin_end": 174.4,
                        "count": 177
                      },
                      {
                        "bin_start": 174.4,
                        "bin_end": 189.8,
                        "count": 61
                      },
                      {
                        "bin_start": 189.8,
                        "bin_end": 205.2,
                        "count": 26
                      },
                      {
                        "bin_start": 205.2,
                        "bin_end": 220.6,
                        "count": 7
                      },
                      {
                        "bin_start": 220.6,
                        "bin_end": 236,
                        "count": 2
                      }
                    ]
                  }
                },
                {
                  "name": "BPXDI1",
                  "dtype": "float64"
                },
                {
                  "name": "BPXSY2",
                  "dtype": "float64"
                },
                {
                  "name": "BPXDI2",
                  "dtype": "float64"
                },
                {
                  "name": "BMXWT",
                  "dtype": "float64"
                },
                {
                  "name": "BMXHT",
                  "dtype": "float64"
                },
                {
                  "name": "BMXBMI",
                  "dtype": "float64"
                },
                {
                  "name": "BMXLEG",
                  "dtype": "float64"
                },
                {
                  "name": "BMXARML",
                  "dtype": "float64"
                },
                {
                  "name": "BMXARMC",
                  "dtype": "float64"
                },
                {
                  "name": "BMXWAIST",
                  "dtype": "float64"
                },
                {
                  "name": "HIQ210",
                  "dtype": "float64"
                },
                {
                  "name": "_deepnote_index_column",
                  "dtype": "int64"
                }
              ],
              "rows_top": [
                {
                  "SEQN": 83732,
                  "ALQ101": "1.0",
                  "ALQ110": "nan",
                  "ALQ130": "1.0",
                  "SMQ020": 1,
                  "RIAGENDR": 1,
                  "RIDAGEYR": 62,
                  "RIDRETH1": 3,
                  "DMDCITZN": 1,
                  "DMDEDUC2": "5.0",
                  "DMDMARTL": "1.0",
                  "DMDHHSIZ": 2,
                  "WTINT2YR": 134671.37,
                  "SDMVPSU": 1,
                  "SDMVSTRA": 125,
                  "INDFMPIR": 4.39,
                  "BPXSY1": "128.0",
                  "BPXDI1": "70.0",
                  "BPXSY2": "124.0",
                  "BPXDI2": "64.0",
                  "BMXWT": 94.8,
                  "BMXHT": 184.5,
                  "BMXBMI": 27.8,
                  "BMXLEG": "43.3",
                  "BMXARML": "43.6",
                  "BMXARMC": "35.9",
                  "BMXWAIST": "101.1",
                  "HIQ210": "2.0",
                  "_deepnote_index_column": 0
                },
                {
                  "SEQN": 83733,
                  "ALQ101": "1.0",
                  "ALQ110": "nan",
                  "ALQ130": "6.0",
                  "SMQ020": 1,
                  "RIAGENDR": 1,
                  "RIDAGEYR": 53,
                  "RIDRETH1": 3,
                  "DMDCITZN": 2,
                  "DMDEDUC2": "3.0",
                  "DMDMARTL": "3.0",
                  "DMDHHSIZ": 1,
                  "WTINT2YR": 24328.56,
                  "SDMVPSU": 1,
                  "SDMVSTRA": 125,
                  "INDFMPIR": 1.32,
                  "BPXSY1": "146.0",
                  "BPXDI1": "88.0",
                  "BPXSY2": "140.0",
                  "BPXDI2": "88.0",
                  "BMXWT": 90.4,
                  "BMXHT": 171.4,
                  "BMXBMI": 30.8,
                  "BMXLEG": "38.0",
                  "BMXARML": "40.0",
                  "BMXARMC": "33.2",
                  "BMXWAIST": "107.9",
                  "HIQ210": "nan",
                  "_deepnote_index_column": 1
                },
                {
                  "SEQN": 83734,
                  "ALQ101": "1.0",
                  "ALQ110": "nan",
                  "ALQ130": "nan",
                  "SMQ020": 1,
                  "RIAGENDR": 1,
                  "RIDAGEYR": 78,
                  "RIDRETH1": 3,
                  "DMDCITZN": 1,
                  "DMDEDUC2": "3.0",
                  "DMDMARTL": "1.0",
                  "DMDHHSIZ": 2,
                  "WTINT2YR": 12400.01,
                  "SDMVPSU": 1,
                  "SDMVSTRA": 131,
                  "INDFMPIR": 1.51,
                  "BPXSY1": "138.0",
                  "BPXDI1": "46.0",
                  "BPXSY2": "132.0",
                  "BPXDI2": "44.0",
                  "BMXWT": 83.4,
                  "BMXHT": 170.1,
                  "BMXBMI": 28.8,
                  "BMXLEG": "35.6",
                  "BMXARML": "37.0",
                  "BMXARMC": "31.0",
                  "BMXWAIST": "116.5",
                  "HIQ210": "2.0",
                  "_deepnote_index_column": 2
                },
                {
                  "SEQN": 83735,
                  "ALQ101": "2.0",
                  "ALQ110": "1.0",
                  "ALQ130": "1.0",
                  "SMQ020": 2,
                  "RIAGENDR": 2,
                  "RIDAGEYR": 56,
                  "RIDRETH1": 3,
                  "DMDCITZN": 1,
                  "DMDEDUC2": "5.0",
                  "DMDMARTL": "6.0",
                  "DMDHHSIZ": 1,
                  "WTINT2YR": 102718,
                  "SDMVPSU": 1,
                  "SDMVSTRA": 131,
                  "INDFMPIR": 5,
                  "BPXSY1": "132.0",
                  "BPXDI1": "72.0",
                  "BPXSY2": "134.0",
                  "BPXDI2": "68.0",
                  "BMXWT": 109.8,
                  "BMXHT": 160.9,
                  "BMXBMI": 42.4,
                  "BMXLEG": "38.5",
                  "BMXARML": "37.7",
                  "BMXARMC": "38.3",
                  "BMXWAIST": "110.1",
                  "HIQ210": "2.0",
                  "_deepnote_index_column": 3
                },
                {
                  "SEQN": 83736,
                  "ALQ101": "2.0",
                  "ALQ110": "1.0",
                  "ALQ130": "1.0",
                  "SMQ020": 2,
                  "RIAGENDR": 2,
                  "RIDAGEYR": 42,
                  "RIDRETH1": 4,
                  "DMDCITZN": 1,
                  "DMDEDUC2": "4.0",
                  "DMDMARTL": "3.0",
                  "DMDHHSIZ": 5,
                  "WTINT2YR": 17627.67,
                  "SDMVPSU": 2,
                  "SDMVSTRA": 126,
                  "INDFMPIR": 1.23,
                  "BPXSY1": "100.0",
                  "BPXDI1": "70.0",
                  "BPXSY2": "114.0",
                  "BPXDI2": "54.0",
                  "BMXWT": 55.2,
                  "BMXHT": 164.9,
                  "BMXBMI": 20.3,
                  "BMXLEG": "37.4",
                  "BMXARML": "36.0",
                  "BMXARMC": "27.2",
                  "BMXWAIST": "80.4",
                  "HIQ210": "2.0",
                  "_deepnote_index_column": 4
                },
                {
                  "SEQN": 83737,
                  "ALQ101": "2.0",
                  "ALQ110": "2.0",
                  "ALQ130": "nan",
                  "SMQ020": 2,
                  "RIAGENDR": 2,
                  "RIDAGEYR": 72,
                  "RIDRETH1": 1,
                  "DMDCITZN": 2,
                  "DMDEDUC2": "2.0",
                  "DMDMARTL": "4.0",
                  "DMDHHSIZ": 5,
                  "WTINT2YR": 11252.31,
                  "SDMVPSU": 1,
                  "SDMVSTRA": 128,
                  "INDFMPIR": 2.82,
                  "BPXSY1": "116.0",
                  "BPXDI1": "58.0",
                  "BPXSY2": "122.0",
                  "BPXDI2": "58.0",
                  "BMXWT": 64.4,
                  "BMXHT": 150,
                  "BMXBMI": 28.6,
                  "BMXLEG": "34.4",
                  "BMXARML": "33.5",
                  "BMXARMC": "31.4",
                  "BMXWAIST": "92.9",
                  "HIQ210": "nan",
                  "_deepnote_index_column": 5
                },
                {
                  "SEQN": 83741,
                  "ALQ101": "1.0",
                  "ALQ110": "nan",
                  "ALQ130": "8.0",
                  "SMQ020": 1,
                  "RIAGENDR": 1,
                  "RIDAGEYR": 22,
                  "RIDRETH1": 4,
                  "DMDCITZN": 1,
                  "DMDEDUC2": "4.0",
                  "DMDMARTL": "5.0",
                  "DMDHHSIZ": 3,
                  "WTINT2YR": 37043.09,
                  "SDMVPSU": 2,
                  "SDMVSTRA": 128,
                  "INDFMPIR": 2.08,
                  "BPXSY1": "110.0",
                  "BPXDI1": "70.0",
                  "BPXSY2": "112.0",
                  "BPXDI2": "74.0",
                  "BMXWT": 76.6,
                  "BMXHT": 165.4,
                  "BMXBMI": 28,
                  "BMXLEG": "38.8",
                  "BMXARML": "38.0",
                  "BMXARMC": "34.0",
                  "BMXWAIST": "86.6",
                  "HIQ210": "nan",
                  "_deepnote_index_column": 6
                },
                {
                  "SEQN": 83742,
                  "ALQ101": "1.0",
                  "ALQ110": "nan",
                  "ALQ130": "1.0",
                  "SMQ020": 2,
                  "RIAGENDR": 2,
                  "RIDAGEYR": 32,
                  "RIDRETH1": 1,
                  "DMDCITZN": 2,
                  "DMDEDUC2": "4.0",
                  "DMDMARTL": "1.0",
                  "DMDHHSIZ": 4,
                  "WTINT2YR": 22744.36,
                  "SDMVPSU": 1,
                  "SDMVSTRA": 125,
                  "INDFMPIR": 1.03,
                  "BPXSY1": "120.0",
                  "BPXDI1": "70.0",
                  "BPXSY2": "114.0",
                  "BPXDI2": "70.0",
                  "BMXWT": 64.5,
                  "BMXHT": 151.3,
                  "BMXBMI": 28.2,
                  "BMXLEG": "34.1",
                  "BMXARML": "33.1",
                  "BMXARMC": "31.5",
                  "BMXWAIST": "93.3",
                  "HIQ210": "2.0",
                  "_deepnote_index_column": 7
                },
                {
                  "SEQN": 83743,
                  "ALQ101": "nan",
                  "ALQ110": "nan",
                  "ALQ130": "nan",
                  "SMQ020": 2,
                  "RIAGENDR": 1,
                  "RIDAGEYR": 18,
                  "RIDRETH1": 5,
                  "DMDCITZN": 1,
                  "DMDEDUC2": "nan",
                  "DMDMARTL": "nan",
                  "DMDHHSIZ": 3,
                  "WTINT2YR": 18526.16,
                  "SDMVPSU": 2,
                  "SDMVSTRA": 122,
                  "INDFMPIR": 5,
                  "BPXSY1": "nan",
                  "BPXDI1": "nan",
                  "BPXSY2": "nan",
                  "BPXDI2": "nan",
                  "BMXWT": 72.4,
                  "BMXHT": 166.1,
                  "BMXBMI": 26.2,
                  "BMXLEG": "nan",
                  "BMXARML": "nan",
                  "BMXARMC": "nan",
                  "BMXWAIST": "nan",
                  "HIQ210": "2.0",
                  "_deepnote_index_column": 8
                },
                {
                  "SEQN": 83744,
                  "ALQ101": "1.0",
                  "ALQ110": "nan",
                  "ALQ130": "nan",
                  "SMQ020": 2,
                  "RIAGENDR": 1,
                  "RIDAGEYR": 56,
                  "RIDRETH1": 4,
                  "DMDCITZN": 1,
                  "DMDEDUC2": "3.0",
                  "DMDMARTL": "3.0",
                  "DMDHHSIZ": 1,
                  "WTINT2YR": 20395.54,
                  "SDMVPSU": 2,
                  "SDMVSTRA": 126,
                  "INDFMPIR": 1.19,
                  "BPXSY1": "178.0",
                  "BPXDI1": "116.0",
                  "BPXSY2": "180.0",
                  "BPXDI2": "114.0",
                  "BMXWT": 108.3,
                  "BMXHT": 179.4,
                  "BMXBMI": 33.6,
                  "BMXLEG": "46.0",
                  "BMXARML": "44.1",
                  "BMXARMC": "38.5",
                  "BMXWAIST": "116.0",
                  "HIQ210": "2.0",
                  "_deepnote_index_column": 9
                },
                {
                  "SEQN": 83747,
                  "ALQ101": "1.0",
                  "ALQ110": "nan",
                  "ALQ130": "1.0",
                  "SMQ020": 1,
                  "RIAGENDR": 1,
                  "RIDAGEYR": 46,
                  "RIDRETH1": 3,
                  "DMDCITZN": 1,
                  "DMDEDUC2": "5.0",
                  "DMDMARTL": "6.0",
                  "DMDHHSIZ": 2,
                  "WTINT2YR": 34513.08,
                  "SDMVPSU": 1,
                  "SDMVSTRA": 121,
                  "INDFMPIR": 0.75,
                  "BPXSY1": "144.0",
                  "BPXDI1": "94.0",
                  "BPXSY2": "150.0",
                  "BPXDI2": "90.0",
                  "BMXWT": 86.2,
                  "BMXHT": 176.7,
                  "BMXBMI": 27.6,
                  "BMXLEG": "41.0",
                  "BMXARML": "38.0",
                  "BMXARMC": "33.6",
                  "BMXWAIST": "104.3",
                  "HIQ210": "2.0",
                  "_deepnote_index_column": 10
                },
                {
                  "SEQN": 83750,
                  "ALQ101": "1.0",
                  "ALQ110": "nan",
                  "ALQ130": "3.0",
                  "SMQ020": 1,
                  "RIAGENDR": 1,
                  "RIDAGEYR": 45,
                  "RIDRETH1": 5,
                  "DMDCITZN": 1,
                  "DMDEDUC2": "2.0",
                  "DMDMARTL": "5.0",
                  "DMDHHSIZ": 5,
                  "WTINT2YR": 96194.93,
                  "SDMVPSU": 1,
                  "SDMVSTRA": 125,
                  "INDFMPIR": 1.36,
                  "BPXSY1": "116.0",
                  "BPXDI1": "70.0",
                  "BPXSY2": "108.0",
                  "BPXDI2": "72.0",
                  "BMXWT": 76.2,
                  "BMXHT": 177.8,
                  "BMXBMI": 24.1,
                  "BMXLEG": "43.9",
                  "BMXARML": "37.8",
                  "BMXARMC": "33.0",
                  "BMXWAIST": "90.1",
                  "HIQ210": "nan",
                  "_deepnote_index_column": 11
                },
                {
                  "SEQN": 83752,
                  "ALQ101": "1.0",
                  "ALQ110": "nan",
                  "ALQ130": "2.0",
                  "SMQ020": 1,
                  "RIAGENDR": 2,
                  "RIDAGEYR": 30,
                  "RIDRETH1": 2,
                  "DMDCITZN": 1,
                  "DMDEDUC2": "4.0",
                  "DMDMARTL": "6.0",
                  "DMDHHSIZ": 2,
                  "WTINT2YR": 36978.42,
                  "SDMVPSU": 1,
                  "SDMVSTRA": 124,
                  "INDFMPIR": 5,
                  "BPXSY1": "104.0",
                  "BPXDI1": "50.0",
                  "BPXSY2": "104.0",
                  "BPXDI2": "50.0",
                  "BMXWT": 71.2,
                  "BMXHT": 163.6,
                  "BMXBMI": 26.6,
                  "BMXLEG": "37.3",
                  "BMXARML": "35.7",
                  "BMXARMC": "31.0",
                  "BMXWAIST": "90.7",
                  "HIQ210": "2.0",
                  "_deepnote_index_column": 12
                },
                {
                  "SEQN": 83754,
                  "ALQ101": "2.0",
                  "ALQ110": "1.0",
                  "ALQ130": "1.0",
                  "SMQ020": 2,
                  "RIAGENDR": 2,
                  "RIDAGEYR": 67,
                  "RIDRETH1": 2,
                  "DMDCITZN": 1,
                  "DMDEDUC2": "5.0",
                  "DMDMARTL": "1.0",
                  "DMDHHSIZ": 7,
                  "WTINT2YR": 10495.87,
                  "SDMVPSU": 1,
                  "SDMVSTRA": 128,
                  "INDFMPIR": 0.89,
                  "BPXSY1": "124.0",
                  "BPXDI1": "76.0",
                  "BPXSY2": "116.0",
                  "BPXDI2": "64.0",
                  "BMXWT": 117.8,
                  "BMXHT": 164.1,
                  "BMXBMI": 43.7,
                  "BMXLEG": "34.8",
                  "BMXARML": "38.6",
                  "BMXARMC": "42.7",
                  "BMXWAIST": "123.0",
                  "HIQ210": "2.0",
                  "_deepnote_index_column": 13
                },
                {
                  "SEQN": 83755,
                  "ALQ101": "1.0",
                  "ALQ110": "nan",
                  "ALQ130": "3.0",
                  "SMQ020": 2,
                  "RIAGENDR": 1,
                  "RIDAGEYR": 67,
                  "RIDRETH1": 4,
                  "DMDCITZN": 1,
                  "DMDEDUC2": "5.0",
                  "DMDMARTL": "2.0",
                  "DMDHHSIZ": 1,
                  "WTINT2YR": 14080.1,
                  "SDMVPSU": 1,
                  "SDMVSTRA": 126,
                  "INDFMPIR": 2.04,
                  "BPXSY1": "132.0",
                  "BPXDI1": "84.0",
                  "BPXSY2": "136.0",
                  "BPXDI2": "82.0",
                  "BMXWT": 97.4,
                  "BMXHT": 183.8,
                  "BMXBMI": 28.8,
                  "BMXLEG": "42.5",
                  "BMXARML": "40.6",
                  "BMXARMC": "34.2",
                  "BMXWAIST": "106.3",
                  "HIQ210": "2.0",
                  "_deepnote_index_column": 14
                },
                {
                  "SEQN": 83757,
                  "ALQ101": "1.0",
                  "ALQ110": "nan",
                  "ALQ130": "1.0",
                  "SMQ020": 2,
                  "RIAGENDR": 2,
                  "RIDAGEYR": 57,
                  "RIDRETH1": 2,
                  "DMDCITZN": 1,
                  "DMDEDUC2": "1.0",
                  "DMDMARTL": "4.0",
                  "DMDHHSIZ": 5,
                  "WTINT2YR": 11709.11,
                  "SDMVPSU": 1,
                  "SDMVSTRA": 120,
                  "INDFMPIR": 0.77,
                  "BPXSY1": "134.0",
                  "BPXDI1": "68.0",
                  "BPXSY2": "146.0",
                  "BPXDI2": "62.0",
                  "BMXWT": 80.5,
                  "BMXHT": 150.8,
                  "BMXBMI": 35.4,
                  "BMXLEG": "31.6",
                  "BMXARML": "32.7",
                  "BMXARMC": "33.7",
                  "BMXWAIST": "113.5",
                  "HIQ210": "2.0",
                  "_deepnote_index_column": 15
                },
                {
                  "SEQN": 83759,
                  "ALQ101": "2.0",
                  "ALQ110": "2.0",
                  "ALQ130": "nan",
                  "SMQ020": 2,
                  "RIAGENDR": 2,
                  "RIDAGEYR": 19,
                  "RIDRETH1": 1,
                  "DMDCITZN": 1,
                  "DMDEDUC2": "nan",
                  "DMDMARTL": "nan",
                  "DMDHHSIZ": 3,
                  "WTINT2YR": 18928.63,
                  "SDMVPSU": 2,
                  "SDMVSTRA": 121,
                  "INDFMPIR": 1.74,
                  "BPXSY1": "102.0",
                  "BPXDI1": "68.0",
                  "BPXSY2": "102.0",
                  "BPXDI2": "66.0",
                  "BMXWT": 100.8,
                  "BMXHT": 175.4,
                  "BMXBMI": 32.8,
                  "BMXLEG": "40.7",
                  "BMXARML": "38.6",
                  "BMXARMC": "35.9",
                  "BMXWAIST": "104.6",
                  "HIQ210": "1.0",
                  "_deepnote_index_column": 16
                }
              ],
              "rows_bottom": [
                {
                  "SEQN": 93670,
                  "ALQ101": "1.0",
                  "ALQ110": "nan",
                  "ALQ130": "3.0",
                  "SMQ020": 1,
                  "RIAGENDR": 1,
                  "RIDAGEYR": 32,
                  "RIDRETH1": 3,
                  "DMDCITZN": 2,
                  "DMDEDUC2": 5,
                  "DMDMARTL": 1,
                  "DMDHHSIZ": 4,
                  "WTINT2YR": 120187.36,
                  "SDMVPSU": 2,
                  "SDMVSTRA": 123,
                  "INDFMPIR": "nan",
                  "BPXSY1": "112.0",
                  "BPXDI1": "70.0",
                  "BPXSY2": "112.0",
                  "BPXDI2": "72.0",
                  "BMXWT": 81.4,
                  "BMXHT": 170.1,
                  "BMXBMI": 28.1,
                  "BMXLEG": 41.7,
                  "BMXARML": 38.2,
                  "BMXARMC": 33.9,
                  "BMXWAIST": "93.6",
                  "HIQ210": 1,
                  "_deepnote_index_column": 5717
                },
                {
                  "SEQN": 93671,
                  "ALQ101": "1.0",
                  "ALQ110": "nan",
                  "ALQ130": "3.0",
                  "SMQ020": 2,
                  "RIAGENDR": 1,
                  "RIDAGEYR": 45,
                  "RIDRETH1": 4,
                  "DMDCITZN": 1,
                  "DMDEDUC2": 5,
                  "DMDMARTL": 1,
                  "DMDHHSIZ": 3,
                  "WTINT2YR": 21351.55,
                  "SDMVPSU": 1,
                  "SDMVSTRA": 124,
                  "INDFMPIR": "5.0",
                  "BPXSY1": "128.0",
                  "BPXDI1": "60.0",
                  "BPXSY2": "120.0",
                  "BPXDI2": "58.0",
                  "BMXWT": 89,
                  "BMXHT": 174.3,
                  "BMXBMI": 29.3,
                  "BMXLEG": 42.4,
                  "BMXARML": 40.6,
                  "BMXARMC": 39.5,
                  "BMXWAIST": "97.0",
                  "HIQ210": 2,
                  "_deepnote_index_column": 5718
                },
                {
                  "SEQN": 93672,
                  "ALQ101": "2.0",
                  "ALQ110": "2.0",
                  "ALQ130": "nan",
                  "SMQ020": 1,
                  "RIAGENDR": 2,
                  "RIDAGEYR": 63,
                  "RIDRETH1": 2,
                  "DMDCITZN": 1,
                  "DMDEDUC2": 1,
                  "DMDMARTL": 1,
                  "DMDHHSIZ": 3,
                  "WTINT2YR": 8605.87,
                  "SDMVPSU": 2,
                  "SDMVSTRA": 119,
                  "INDFMPIR": "0.2",
                  "BPXSY1": "nan",
                  "BPXDI1": "nan",
                  "BPXSY2": "nan",
                  "BPXDI2": "nan",
                  "BMXWT": 81.9,
                  "BMXHT": 147.6,
                  "BMXBMI": 37.6,
                  "BMXLEG": 35,
                  "BMXARML": 33,
                  "BMXARMC": 38.2,
                  "BMXWAIST": "122.5",
                  "HIQ210": 2,
                  "_deepnote_index_column": 5719
                },
                {
                  "SEQN": 93675,
                  "ALQ101": "1.0",
                  "ALQ110": "nan",
                  "ALQ130": "1.0",
                  "SMQ020": 2,
                  "RIAGENDR": 1,
                  "RIDAGEYR": 38,
                  "RIDRETH1": 5,
                  "DMDCITZN": 2,
                  "DMDEDUC2": 5,
                  "DMDMARTL": 4,
                  "DMDHHSIZ": 1,
                  "WTINT2YR": 26328.59,
                  "SDMVPSU": 2,
                  "SDMVSTRA": 122,
                  "INDFMPIR": "5.0",
                  "BPXSY1": "110.0",
                  "BPXDI1": "58.0",
                  "BPXSY2": "118.0",
                  "BPXDI2": "62.0",
                  "BMXWT": 77.6,
                  "BMXHT": 179,
                  "BMXBMI": 24.2,
                  "BMXLEG": 42.3,
                  "BMXARML": 41.5,
                  "BMXARMC": 31.7,
                  "BMXWAIST": "94.2",
                  "HIQ210": 2,
                  "_deepnote_index_column": 5720
                },
                {
                  "SEQN": 93676,
                  "ALQ101": "1.0",
                  "ALQ110": "nan",
                  "ALQ130": "2.0",
                  "SMQ020": 2,
                  "RIAGENDR": 2,
                  "RIDAGEYR": 35,
                  "RIDRETH1": 4,
                  "DMDCITZN": 1,
                  "DMDEDUC2": 5,
                  "DMDMARTL": 3,
                  "DMDHHSIZ": 2,
                  "WTINT2YR": 32944.36,
                  "SDMVPSU": 2,
                  "SDMVSTRA": 132,
                  "INDFMPIR": "2.68",
                  "BPXSY1": "118.0",
                  "BPXDI1": "78.0",
                  "BPXSY2": "114.0",
                  "BPXDI2": "76.0",
                  "BMXWT": 92.2,
                  "BMXHT": 161.7,
                  "BMXBMI": 35.3,
                  "BMXLEG": 41.5,
                  "BMXARML": 37.5,
                  "BMXARMC": 38.9,
                  "BMXWAIST": "110.9",
                  "HIQ210": 2,
                  "_deepnote_index_column": 5721
                },
                {
                  "SEQN": 93677,
                  "ALQ101": "1.0",
                  "ALQ110": "nan",
                  "ALQ130": "1.0",
                  "SMQ020": 2,
                  "RIAGENDR": 2,
                  "RIDAGEYR": 34,
                  "RIDRETH1": 3,
                  "DMDCITZN": 1,
                  "DMDEDUC2": 5,
                  "DMDMARTL": 5,
                  "DMDHHSIZ": 3,
                  "WTINT2YR": 136319.8,
                  "SDMVPSU": 1,
                  "SDMVSTRA": 122,
                  "INDFMPIR": "1.76",
                  "BPXSY1": "114.0",
                  "BPXDI1": "72.0",
                  "BPXSY2": "110.0",
                  "BPXDI2": "78.0",
                  "BMXWT": 62.2,
                  "BMXHT": 167.4,
                  "BMXBMI": 22.2,
                  "BMXLEG": 39.8,
                  "BMXARML": 37.7,
                  "BMXARMC": 28.5,
                  "BMXWAIST": "83.3",
                  "HIQ210": 2,
                  "_deepnote_index_column": 5722
                },
                {
                  "SEQN": 93679,
                  "ALQ101": "2.0",
                  "ALQ110": "1.0",
                  "ALQ130": "nan",
                  "SMQ020": 1,
                  "RIAGENDR": 2,
                  "RIDAGEYR": 72,
                  "RIDRETH1": 4,
                  "DMDCITZN": 1,
                  "DMDEDUC2": 2,
                  "DMDMARTL": 2,
                  "DMDHHSIZ": 3,
                  "WTINT2YR": 21037.26,
                  "SDMVPSU": 2,
                  "SDMVSTRA": 132,
                  "INDFMPIR": "2.98",
                  "BPXSY1": "142.0",
                  "BPXDI1": "64.0",
                  "BPXSY2": "136.0",
                  "BPXDI2": "78.0",
                  "BMXWT": 57.8,
                  "BMXHT": 157,
                  "BMXBMI": 23.4,
                  "BMXLEG": 32,
                  "BMXARML": 35.5,
                  "BMXARMC": 26.8,
                  "BMXWAIST": "90.4",
                  "HIQ210": 2,
                  "_deepnote_index_column": 5723
                },
                {
                  "SEQN": 93682,
                  "ALQ101": "nan",
                  "ALQ110": "nan",
                  "ALQ130": "nan",
                  "SMQ020": 2,
                  "RIAGENDR": 2,
                  "RIDAGEYR": 41,
                  "RIDRETH1": 5,
                  "DMDCITZN": 1,
                  "DMDEDUC2": 5,
                  "DMDMARTL": 1,
                  "DMDHHSIZ": 5,
                  "WTINT2YR": 23924.2,
                  "SDMVPSU": 2,
                  "SDMVSTRA": 121,
                  "INDFMPIR": "5.0",
                  "BPXSY1": "132.0",
                  "BPXDI1": "78.0",
                  "BPXSY2": "122.0",
                  "BPXDI2": "84.0",
                  "BMXWT": 58.2,
                  "BMXHT": 166.9,
                  "BMXBMI": 20.9,
                  "BMXLEG": 37.1,
                  "BMXARML": 35.3,
                  "BMXARMC": 26.9,
                  "BMXWAIST": "80.8",
                  "HIQ210": 2,
                  "_deepnote_index_column": 5724
                },
                {
                  "SEQN": 93684,
                  "ALQ101": "2.0",
                  "ALQ110": "2.0",
                  "ALQ130": "nan",
                  "SMQ020": 2,
                  "RIAGENDR": 1,
                  "RIDAGEYR": 34,
                  "RIDRETH1": 4,
                  "DMDCITZN": 1,
                  "DMDEDUC2": 5,
                  "DMDMARTL": 1,
                  "DMDHHSIZ": 5,
                  "WTINT2YR": 29880.64,
                  "SDMVPSU": 2,
                  "SDMVSTRA": 131,
                  "INDFMPIR": "2.81",
                  "BPXSY1": "110.0",
                  "BPXDI1": "72.0",
                  "BPXSY2": "112.0",
                  "BPXDI2": "72.0",
                  "BMXWT": 101.2,
                  "BMXHT": 180.9,
                  "BMXBMI": 30.9,
                  "BMXLEG": 43.7,
                  "BMXARML": 43,
                  "BMXARMC": 41.3,
                  "BMXWAIST": "99.0",
                  "HIQ210": 2,
                  "_deepnote_index_column": 5725
                },
                {
                  "SEQN": 93685,
                  "ALQ101": "1.0",
                  "ALQ110": "nan",
                  "ALQ130": "2.0",
                  "SMQ020": 1,
                  "RIAGENDR": 1,
                  "RIDAGEYR": 53,
                  "RIDRETH1": 1,
                  "DMDCITZN": 2,
                  "DMDEDUC2": 2,
                  "DMDMARTL": 1,
                  "DMDHHSIZ": 5,
                  "WTINT2YR": 22441.86,
                  "SDMVPSU": 1,
                  "SDMVSTRA": 126,
                  "INDFMPIR": "0.49",
                  "BPXSY1": "132.0",
                  "BPXDI1": "54.0",
                  "BPXSY2": "128.0",
                  "BPXDI2": "56.0",
                  "BMXWT": 78.7,
                  "BMXHT": 156.9,
                  "BMXBMI": 32,
                  "BMXLEG": 31.5,
                  "BMXARML": 38,
                  "BMXARMC": 33.7,
                  "BMXWAIST": "107.5",
                  "HIQ210": 2,
                  "_deepnote_index_column": 5726
                },
                {
                  "SEQN": 93689,
                  "ALQ101": "2.0",
                  "ALQ110": "1.0",
                  "ALQ130": "nan",
                  "SMQ020": 2,
                  "RIAGENDR": 2,
                  "RIDAGEYR": 69,
                  "RIDRETH1": 1,
                  "DMDCITZN": 1,
                  "DMDEDUC2": 1,
                  "DMDMARTL": 1,
                  "DMDHHSIZ": 1,
                  "WTINT2YR": 9611.19,
                  "SDMVPSU": 2,
                  "SDMVSTRA": 127,
                  "INDFMPIR": "0.97",
                  "BPXSY1": "164.0",
                  "BPXDI1": "62.0",
                  "BPXSY2": "166.0",
                  "BPXDI2": "64.0",
                  "BMXWT": 64.8,
                  "BMXHT": 151.9,
                  "BMXBMI": 28.1,
                  "BMXLEG": 32.2,
                  "BMXARML": 32.6,
                  "BMXARMC": 28.7,
                  "BMXWAIST": "101.1",
                  "HIQ210": 2,
                  "_deepnote_index_column": 5727
                },
                {
                  "SEQN": 93690,
                  "ALQ101": "1.0",
                  "ALQ110": "nan",
                  "ALQ130": "3.0",
                  "SMQ020": 2,
                  "RIAGENDR": 1,
                  "RIDAGEYR": 32,
                  "RIDRETH1": 2,
                  "DMDCITZN": 1,
                  "DMDEDUC2": 2,
                  "DMDMARTL": 1,
                  "DMDHHSIZ": 4,
                  "WTINT2YR": 43971.6,
                  "SDMVPSU": 2,
                  "SDMVSTRA": 127,
                  "INDFMPIR": "5.0",
                  "BPXSY1": "112.0",
                  "BPXDI1": "60.0",
                  "BPXSY2": "118.0",
                  "BPXDI2": "58.0",
                  "BMXWT": 89.5,
                  "BMXHT": 164.9,
                  "BMXBMI": 32.9,
                  "BMXLEG": 40,
                  "BMXARML": 38,
                  "BMXARMC": 39,
                  "BMXWAIST": "101.0",
                  "HIQ210": 2,
                  "_deepnote_index_column": 5728
                },
                {
                  "SEQN": 93691,
                  "ALQ101": "2.0",
                  "ALQ110": "2.0",
                  "ALQ130": "nan",
                  "SMQ020": 2,
                  "RIAGENDR": 1,
                  "RIDAGEYR": 25,
                  "RIDRETH1": 5,
                  "DMDCITZN": 2,
                  "DMDEDUC2": 5,
                  "DMDMARTL": 5,
                  "DMDHHSIZ": 7,
                  "WTINT2YR": 13525.39,
                  "SDMVPSU": 2,
                  "SDMVSTRA": 133,
                  "INDFMPIR": "1.59",
                  "BPXSY1": "112.0",
                  "BPXDI1": "80.0",
                  "BPXSY2": "112.0",
                  "BPXDI2": "76.0",
                  "BMXWT": 39.2,
                  "BMXHT": 136.5,
                  "BMXBMI": 21,
                  "BMXLEG": 33.6,
                  "BMXARML": 29.7,
                  "BMXARMC": 23.8,
                  "BMXWAIST": "75.4",
                  "HIQ210": 2,
                  "_deepnote_index_column": 5729
                },
                {
                  "SEQN": 93695,
                  "ALQ101": "2.0",
                  "ALQ110": "2.0",
                  "ALQ130": "nan",
                  "SMQ020": 1,
                  "RIAGENDR": 2,
                  "RIDAGEYR": 76,
                  "RIDRETH1": 3,
                  "DMDCITZN": 1,
                  "DMDEDUC2": 3,
                  "DMDMARTL": 2,
                  "DMDHHSIZ": 1,
                  "WTINT2YR": 58614.08,
                  "SDMVPSU": 2,
                  "SDMVSTRA": 130,
                  "INDFMPIR": "1.43",
                  "BPXSY1": "112.0",
                  "BPXDI1": "48.0",
                  "BPXSY2": "112.0",
                  "BPXDI2": "46.0",
                  "BMXWT": 59.1,
                  "BMXHT": 165.8,
                  "BMXBMI": 21.5,
                  "BMXLEG": 38.2,
                  "BMXARML": 37,
                  "BMXARMC": 29.5,
                  "BMXWAIST": "95.0",
                  "HIQ210": 2,
                  "_deepnote_index_column": 5730
                },
                {
                  "SEQN": 93696,
                  "ALQ101": "2.0",
                  "ALQ110": "2.0",
                  "ALQ130": "nan",
                  "SMQ020": 2,
                  "RIAGENDR": 1,
                  "RIDAGEYR": 26,
                  "RIDRETH1": 3,
                  "DMDCITZN": 1,
                  "DMDEDUC2": 5,
                  "DMDMARTL": 1,
                  "DMDHHSIZ": 3,
                  "WTINT2YR": 122920.6,
                  "SDMVPSU": 1,
                  "SDMVSTRA": 121,
                  "INDFMPIR": "2.99",
                  "BPXSY1": "118.0",
                  "BPXDI1": "68.0",
                  "BPXSY2": "116.0",
                  "BPXDI2": "76.0",
                  "BMXWT": 112.1,
                  "BMXHT": 182.2,
                  "BMXBMI": 33.8,
                  "BMXLEG": 43.4,
                  "BMXARML": 41.8,
                  "BMXARMC": 42.3,
                  "BMXWAIST": "110.2",
                  "HIQ210": 2,
                  "_deepnote_index_column": 5731
                },
                {
                  "SEQN": 93697,
                  "ALQ101": "1.0",
                  "ALQ110": "nan",
                  "ALQ130": "1.0",
                  "SMQ020": 1,
                  "RIAGENDR": 2,
                  "RIDAGEYR": 80,
                  "RIDRETH1": 3,
                  "DMDCITZN": 1,
                  "DMDEDUC2": 4,
                  "DMDMARTL": 2,
                  "DMDHHSIZ": 1,
                  "WTINT2YR": 49050.06,
                  "SDMVPSU": 2,
                  "SDMVSTRA": 132,
                  "INDFMPIR": "2.97",
                  "BPXSY1": "154.0",
                  "BPXDI1": "56.0",
                  "BPXSY2": "146.0",
                  "BPXDI2": "58.0",
                  "BMXWT": 71.7,
                  "BMXHT": 152.2,
                  "BMXBMI": 31,
                  "BMXLEG": 31.3,
                  "BMXARML": 37.5,
                  "BMXARMC": 28.8,
                  "BMXWAIST": "nan",
                  "HIQ210": 2,
                  "_deepnote_index_column": 5732
                },
                {
                  "SEQN": 93700,
                  "ALQ101": "nan",
                  "ALQ110": "nan",
                  "ALQ130": "nan",
                  "SMQ020": 1,
                  "RIAGENDR": 1,
                  "RIDAGEYR": 35,
                  "RIDRETH1": 3,
                  "DMDCITZN": 2,
                  "DMDEDUC2": 1,
                  "DMDMARTL": 1,
                  "DMDHHSIZ": 5,
                  "WTINT2YR": 42314.29,
                  "SDMVPSU": 1,
                  "SDMVSTRA": 126,
                  "INDFMPIR": "0.0",
                  "BPXSY1": "104.0",
                  "BPXDI1": "62.0",
                  "BPXSY2": "106.0",
                  "BPXDI2": "66.0",
                  "BMXWT": 78.2,
                  "BMXHT": 173.3,
                  "BMXBMI": 26,
                  "BMXLEG": 40.3,
                  "BMXARML": 37.5,
                  "BMXARMC": 30.6,
                  "BMXWAIST": "98.9",
                  "HIQ210": 2,
                  "_deepnote_index_column": 5733
                },
                {
                  "SEQN": 93702,
                  "ALQ101": "1.0",
                  "ALQ110": "nan",
                  "ALQ130": "2.0",
                  "SMQ020": 2,
                  "RIAGENDR": 2,
                  "RIDAGEYR": 24,
                  "RIDRETH1": 3,
                  "DMDCITZN": 1,
                  "DMDEDUC2": 5,
                  "DMDMARTL": 5,
                  "DMDHHSIZ": 3,
                  "WTINT2YR": 107361.91,
                  "SDMVPSU": 2,
                  "SDMVSTRA": 119,
                  "INDFMPIR": "3.54",
                  "BPXSY1": "118.0",
                  "BPXDI1": "66.0",
                  "BPXSY2": "114.0",
                  "BPXDI2": "68.0",
                  "BMXWT": 58.3,
                  "BMXHT": 165,
                  "BMXBMI": 21.4,
                  "BMXLEG": 38.2,
                  "BMXARML": 33.5,
                  "BMXARMC": 26.2,
                  "BMXWAIST": "72.5",
                  "HIQ210": 2,
                  "_deepnote_index_column": 5734
                }
              ]
            },
            "text/plain": "       SEQN  ALQ101  ALQ110  ALQ130  SMQ020  RIAGENDR  RIDAGEYR  RIDRETH1  \\\n0     83732     1.0     NaN     1.0       1         1        62         3   \n1     83733     1.0     NaN     6.0       1         1        53         3   \n2     83734     1.0     NaN     NaN       1         1        78         3   \n3     83735     2.0     1.0     1.0       2         2        56         3   \n4     83736     2.0     1.0     1.0       2         2        42         4   \n...     ...     ...     ...     ...     ...       ...       ...       ...   \n5730  93695     2.0     2.0     NaN       1         2        76         3   \n5731  93696     2.0     2.0     NaN       2         1        26         3   \n5732  93697     1.0     NaN     1.0       1         2        80         3   \n5733  93700     NaN     NaN     NaN       1         1        35         3   \n5734  93702     1.0     NaN     2.0       2         2        24         3   \n\n      DMDCITZN  DMDEDUC2  ...  BPXSY2  BPXDI2  BMXWT  BMXHT  BMXBMI  BMXLEG  \\\n0          1.0       5.0  ...   124.0    64.0   94.8  184.5    27.8    43.3   \n1          2.0       3.0  ...   140.0    88.0   90.4  171.4    30.8    38.0   \n2          1.0       3.0  ...   132.0    44.0   83.4  170.1    28.8    35.6   \n3          1.0       5.0  ...   134.0    68.0  109.8  160.9    42.4    38.5   \n4          1.0       4.0  ...   114.0    54.0   55.2  164.9    20.3    37.4   \n...        ...       ...  ...     ...     ...    ...    ...     ...     ...   \n5730       1.0       3.0  ...   112.0    46.0   59.1  165.8    21.5    38.2   \n5731       1.0       5.0  ...   116.0    76.0  112.1  182.2    33.8    43.4   \n5732       1.0       4.0  ...   146.0    58.0   71.7  152.2    31.0    31.3   \n5733       2.0       1.0  ...   106.0    66.0   78.2  173.3    26.0    40.3   \n5734       1.0       5.0  ...   114.0    68.0   58.3  165.0    21.4    38.2   \n\n      BMXARML  BMXARMC  BMXWAIST  HIQ210  \n0        43.6     35.9     101.1     2.0  \n1        40.0     33.2     107.9     NaN  \n2        37.0     31.0     116.5     2.0  \n3        37.7     38.3     110.1     2.0  \n4        36.0     27.2      80.4     2.0  \n...       ...      ...       ...     ...  \n5730     37.0     29.5      95.0     2.0  \n5731     41.8     42.3     110.2     2.0  \n5732     37.5     28.8       NaN     2.0  \n5733     37.5     30.6      98.9     2.0  \n5734     33.5     26.2      72.5     2.0  \n\n[5735 rows x 28 columns]",
            "text/html": "<div>\n<style scoped>\n    .dataframe tbody tr th:only-of-type {\n        vertical-align: middle;\n    }\n\n    .dataframe tbody tr th {\n        vertical-align: top;\n    }\n\n    .dataframe thead th {\n        text-align: right;\n    }\n</style>\n<table border=\"1\" class=\"dataframe\">\n  <thead>\n    <tr style=\"text-align: right;\">\n      <th></th>\n      <th>SEQN</th>\n      <th>ALQ101</th>\n      <th>ALQ110</th>\n      <th>ALQ130</th>\n      <th>SMQ020</th>\n      <th>RIAGENDR</th>\n      <th>RIDAGEYR</th>\n      <th>RIDRETH1</th>\n      <th>DMDCITZN</th>\n      <th>DMDEDUC2</th>\n      <th>...</th>\n      <th>BPXSY2</th>\n      <th>BPXDI2</th>\n      <th>BMXWT</th>\n      <th>BMXHT</th>\n      <th>BMXBMI</th>\n      <th>BMXLEG</th>\n      <th>BMXARML</th>\n      <th>BMXARMC</th>\n      <th>BMXWAIST</th>\n      <th>HIQ210</th>\n    </tr>\n  </thead>\n  <tbody>\n    <tr>\n      <th>0</th>\n      <td>83732</td>\n      <td>1.0</td>\n      <td>NaN</td>\n      <td>1.0</td>\n      <td>1</td>\n      <td>1</td>\n      <td>62</td>\n      <td>3</td>\n      <td>1.0</td>\n      <td>5.0</td>\n      <td>...</td>\n      <td>124.0</td>\n      <td>64.0</td>\n      <td>94.8</td>\n      <td>184.5</td>\n      <td>27.8</td>\n      <td>43.3</td>\n      <td>43.6</td>\n      <td>35.9</td>\n      <td>101.1</td>\n      <td>2.0</td>\n    </tr>\n    <tr>\n      <th>1</th>\n      <td>83733</td>\n      <td>1.0</td>\n      <td>NaN</td>\n      <td>6.0</td>\n      <td>1</td>\n      <td>1</td>\n      <td>53</td>\n      <td>3</td>\n      <td>2.0</td>\n      <td>3.0</td>\n      <td>...</td>\n      <td>140.0</td>\n      <td>88.0</td>\n      <td>90.4</td>\n      <td>171.4</td>\n      <td>30.8</td>\n      <td>38.0</td>\n      <td>40.0</td>\n      <td>33.2</td>\n      <td>107.9</td>\n      <td>NaN</td>\n    </tr>\n    <tr>\n      <th>2</th>\n      <td>83734</td>\n      <td>1.0</td>\n      <td>NaN</td>\n      <td>NaN</td>\n      <td>1</td>\n      <td>1</td>\n      <td>78</td>\n      <td>3</td>\n      <td>1.0</td>\n      <td>3.0</td>\n      <td>...</td>\n      <td>132.0</td>\n      <td>44.0</td>\n      <td>83.4</td>\n      <td>170.1</td>\n      <td>28.8</td>\n      <td>35.6</td>\n      <td>37.0</td>\n      <td>31.0</td>\n      <td>116.5</td>\n      <td>2.0</td>\n    </tr>\n    <tr>\n      <th>3</th>\n      <td>83735</td>\n      <td>2.0</td>\n      <td>1.0</td>\n      <td>1.0</td>\n      <td>2</td>\n      <td>2</td>\n      <td>56</td>\n      <td>3</td>\n      <td>1.0</td>\n      <td>5.0</td>\n      <td>...</td>\n      <td>134.0</td>\n      <td>68.0</td>\n      <td>109.8</td>\n      <td>160.9</td>\n      <td>42.4</td>\n      <td>38.5</td>\n      <td>37.7</td>\n      <td>38.3</td>\n      <td>110.1</td>\n      <td>2.0</td>\n    </tr>\n    <tr>\n      <th>4</th>\n      <td>83736</td>\n      <td>2.0</td>\n      <td>1.0</td>\n      <td>1.0</td>\n      <td>2</td>\n      <td>2</td>\n      <td>42</td>\n      <td>4</td>\n      <td>1.0</td>\n      <td>4.0</td>\n      <td>...</td>\n      <td>114.0</td>\n      <td>54.0</td>\n      <td>55.2</td>\n      <td>164.9</td>\n      <td>20.3</td>\n      <td>37.4</td>\n      <td>36.0</td>\n      <td>27.2</td>\n      <td>80.4</td>\n      <td>2.0</td>\n    </tr>\n    <tr>\n      <th>...</th>\n      <td>...</td>\n      <td>...</td>\n      <td>...</td>\n      <td>...</td>\n      <td>...</td>\n      <td>...</td>\n      <td>...</td>\n      <td>...</td>\n      <td>...</td>\n      <td>...</td>\n      <td>...</td>\n      <td>...</td>\n      <td>...</td>\n      <td>...</td>\n      <td>...</td>\n      <td>...</td>\n      <td>...</td>\n      <td>...</td>\n      <td>...</td>\n      <td>...</td>\n      <td>...</td>\n    </tr>\n    <tr>\n      <th>5730</th>\n      <td>93695</td>\n      <td>2.0</td>\n      <td>2.0</td>\n      <td>NaN</td>\n      <td>1</td>\n      <td>2</td>\n      <td>76</td>\n      <td>3</td>\n      <td>1.0</td>\n      <td>3.0</td>\n      <td>...</td>\n      <td>112.0</td>\n      <td>46.0</td>\n      <td>59.1</td>\n      <td>165.8</td>\n      <td>21.5</td>\n      <td>38.2</td>\n      <td>37.0</td>\n      <td>29.5</td>\n      <td>95.0</td>\n      <td>2.0</td>\n    </tr>\n    <tr>\n      <th>5731</th>\n      <td>93696</td>\n      <td>2.0</td>\n      <td>2.0</td>\n      <td>NaN</td>\n      <td>2</td>\n      <td>1</td>\n      <td>26</td>\n      <td>3</td>\n      <td>1.0</td>\n      <td>5.0</td>\n      <td>...</td>\n      <td>116.0</td>\n      <td>76.0</td>\n      <td>112.1</td>\n      <td>182.2</td>\n      <td>33.8</td>\n      <td>43.4</td>\n      <td>41.8</td>\n      <td>42.3</td>\n      <td>110.2</td>\n      <td>2.0</td>\n    </tr>\n    <tr>\n      <th>5732</th>\n      <td>93697</td>\n      <td>1.0</td>\n      <td>NaN</td>\n      <td>1.0</td>\n      <td>1</td>\n      <td>2</td>\n      <td>80</td>\n      <td>3</td>\n      <td>1.0</td>\n      <td>4.0</td>\n      <td>...</td>\n      <td>146.0</td>\n      <td>58.0</td>\n      <td>71.7</td>\n      <td>152.2</td>\n      <td>31.0</td>\n      <td>31.3</td>\n      <td>37.5</td>\n      <td>28.8</td>\n      <td>NaN</td>\n      <td>2.0</td>\n    </tr>\n    <tr>\n      <th>5733</th>\n      <td>93700</td>\n      <td>NaN</td>\n      <td>NaN</td>\n      <td>NaN</td>\n      <td>1</td>\n      <td>1</td>\n      <td>35</td>\n      <td>3</td>\n      <td>2.0</td>\n      <td>1.0</td>\n      <td>...</td>\n      <td>106.0</td>\n      <td>66.0</td>\n      <td>78.2</td>\n      <td>173.3</td>\n      <td>26.0</td>\n      <td>40.3</td>\n      <td>37.5</td>\n      <td>30.6</td>\n      <td>98.9</td>\n      <td>2.0</td>\n    </tr>\n    <tr>\n      <th>5734</th>\n      <td>93702</td>\n      <td>1.0</td>\n      <td>NaN</td>\n      <td>2.0</td>\n      <td>2</td>\n      <td>2</td>\n      <td>24</td>\n      <td>3</td>\n      <td>1.0</td>\n      <td>5.0</td>\n      <td>...</td>\n      <td>114.0</td>\n      <td>68.0</td>\n      <td>58.3</td>\n      <td>165.0</td>\n      <td>21.4</td>\n      <td>38.2</td>\n      <td>33.5</td>\n      <td>26.2</td>\n      <td>72.5</td>\n      <td>2.0</td>\n    </tr>\n  </tbody>\n</table>\n<p>5735 rows × 28 columns</p>\n</div>"
          },
          "metadata": {}
        }
      ]
    },
    {
      "cell_type": "code",
      "source": "da[\"RIAGENDR\"] = da.RIAGENDR.replace({1: \"Male\", 2: \"Female\",\".\":np.nan})\nda[\"SMQ020\"] = da.SMQ020.replace({1: \"Yes\", 2: \"No\",\".\":np.nan,7:np.nan,9:np.nan})\nda",
      "metadata": {
        "tags": [],
        "cell_id": "00006-cf999416-39de-4823-ab02-98f999cb8f43",
        "deepnote_to_be_reexecuted": false,
        "source_hash": "1d64df5",
        "execution_millis": 246,
        "execution_start": 1617977614394,
        "deepnote_cell_type": "code"
      },
      "outputs": [
        {
          "output_type": "execute_result",
          "execution_count": 36,
          "data": {
            "application/vnd.deepnote.dataframe.v2+json": {
              "row_count": 5735,
              "column_count": 28,
              "columns": [
                {
                  "name": "SEQN",
                  "dtype": "int64",
                  "stats": {
                    "unique_count": 5735,
                    "nan_count": 0,
                    "min": 83732,
                    "max": 93702,
                    "histogram": [
                      {
                        "bin_start": 83732,
                        "bin_end": 84729,
                        "count": 580
                      },
                      {
                        "bin_start": 84729,
                        "bin_end": 85726,
                        "count": 584
                      },
                      {
                        "bin_start": 85726,
                        "bin_end": 86723,
                        "count": 612
                      },
                      {
                        "bin_start": 86723,
                        "bin_end": 87720,
                        "count": 556
                      },
                      {
                        "bin_start": 87720,
                        "bin_end": 88717,
                        "count": 562
                      },
                      {
                        "bin_start": 88717,
                        "bin_end": 89714,
                        "count": 588
                      },
                      {
                        "bin_start": 89714,
                        "bin_end": 90711,
                        "count": 560
                      },
                      {
                        "bin_start": 90711,
                        "bin_end": 91708,
                        "count": 563
                      },
                      {
                        "bin_start": 91708,
                        "bin_end": 92705,
                        "count": 561
                      },
                      {
                        "bin_start": 92705,
                        "bin_end": 93702,
                        "count": 569
                      }
                    ]
                  }
                },
                {
                  "name": "ALQ101",
                  "dtype": "float64",
                  "stats": {
                    "unique_count": 3,
                    "nan_count": 527,
                    "min": 1,
                    "max": 9,
                    "histogram": [
                      {
                        "bin_start": 1,
                        "bin_end": 1.8,
                        "count": 3477
                      },
                      {
                        "bin_start": 1.8,
                        "bin_end": 2.6,
                        "count": 1728
                      },
                      {
                        "bin_start": 2.6,
                        "bin_end": 3.4000000000000004,
                        "count": 0
                      },
                      {
                        "bin_start": 3.4000000000000004,
                        "bin_end": 4.2,
                        "count": 0
                      },
                      {
                        "bin_start": 4.2,
                        "bin_end": 5,
                        "count": 0
                      },
                      {
                        "bin_start": 5,
                        "bin_end": 5.800000000000001,
                        "count": 0
                      },
                      {
                        "bin_start": 5.800000000000001,
                        "bin_end": 6.6000000000000005,
                        "count": 0
                      },
                      {
                        "bin_start": 6.6000000000000005,
                        "bin_end": 7.4,
                        "count": 0
                      },
                      {
                        "bin_start": 7.4,
                        "bin_end": 8.2,
                        "count": 0
                      },
                      {
                        "bin_start": 8.2,
                        "bin_end": 9,
                        "count": 3
                      }
                    ]
                  }
                },
                {
                  "name": "ALQ110",
                  "dtype": "float64",
                  "stats": {
                    "unique_count": 4,
                    "nan_count": 4004,
                    "min": 1,
                    "max": 9,
                    "histogram": [
                      {
                        "bin_start": 1,
                        "bin_end": 1.8,
                        "count": 747
                      },
                      {
                        "bin_start": 1.8,
                        "bin_end": 2.6,
                        "count": 979
                      },
                      {
                        "bin_start": 2.6,
                        "bin_end": 3.4000000000000004,
                        "count": 0
                      },
                      {
                        "bin_start": 3.4000000000000004,
                        "bin_end": 4.2,
                        "count": 0
                      },
                      {
                        "bin_start": 4.2,
                        "bin_end": 5,
                        "count": 0
                      },
                      {
                        "bin_start": 5,
                        "bin_end": 5.800000000000001,
                        "count": 0
                      },
                      {
                        "bin_start": 5.800000000000001,
                        "bin_end": 6.6000000000000005,
                        "count": 0
                      },
                      {
                        "bin_start": 6.6000000000000005,
                        "bin_end": 7.4,
                        "count": 1
                      },
                      {
                        "bin_start": 7.4,
                        "bin_end": 8.2,
                        "count": 0
                      },
                      {
                        "bin_start": 8.2,
                        "bin_end": 9,
                        "count": 4
                      }
                    ]
                  }
                },
                {
                  "name": "ALQ130",
                  "dtype": "float64",
                  "stats": {
                    "unique_count": 15,
                    "nan_count": 2356,
                    "min": 1,
                    "max": 999,
                    "histogram": [
                      {
                        "bin_start": 1,
                        "bin_end": 100.8,
                        "count": 3375
                      },
                      {
                        "bin_start": 100.8,
                        "bin_end": 200.6,
                        "count": 0
                      },
                      {
                        "bin_start": 200.6,
                        "bin_end": 300.4,
                        "count": 0
                      },
                      {
                        "bin_start": 300.4,
                        "bin_end": 400.2,
                        "count": 0
                      },
                      {
                        "bin_start": 400.2,
                        "bin_end": 500,
                        "count": 0
                      },
                      {
                        "bin_start": 500,
                        "bin_end": 599.8,
                        "count": 0
                      },
                      {
                        "bin_start": 599.8,
                        "bin_end": 699.6,
                        "count": 0
                      },
                      {
                        "bin_start": 699.6,
                        "bin_end": 799.4,
                        "count": 0
                      },
                      {
                        "bin_start": 799.4,
                        "bin_end": 899.1999999999999,
                        "count": 0
                      },
                      {
                        "bin_start": 899.1999999999999,
                        "bin_end": 999,
                        "count": 4
                      }
                    ]
                  }
                },
                {
                  "name": "SMQ020",
                  "dtype": "object",
                  "stats": {
                    "unique_count": 2,
                    "nan_count": 10,
                    "categories": [
                      {
                        "name": "No",
                        "count": 3406
                      },
                      {
                        "name": "Yes",
                        "count": 2319
                      },
                      {
                        "name": "Missing",
                        "count": 10
                      }
                    ]
                  }
                },
                {
                  "name": "RIAGENDR",
                  "dtype": "object",
                  "stats": {
                    "unique_count": 2,
                    "nan_count": 0,
                    "categories": [
                      {
                        "name": "Female",
                        "count": 2976
                      },
                      {
                        "name": "Male",
                        "count": 2759
                      }
                    ]
                  }
                },
                {
                  "name": "RIDAGEYR",
                  "dtype": "int64",
                  "stats": {
                    "unique_count": 63,
                    "nan_count": 0,
                    "min": 18,
                    "max": 80,
                    "histogram": [
                      {
                        "bin_start": 18,
                        "bin_end": 24.2,
                        "count": 682
                      },
                      {
                        "bin_start": 24.2,
                        "bin_end": 30.4,
                        "count": 604
                      },
                      {
                        "bin_start": 30.4,
                        "bin_end": 36.6,
                        "count": 591
                      },
                      {
                        "bin_start": 36.6,
                        "bin_end": 42.8,
                        "count": 524
                      },
                      {
                        "bin_start": 42.8,
                        "bin_end": 49,
                        "count": 561
                      },
                      {
                        "bin_start": 49,
                        "bin_end": 55.2,
                        "count": 644
                      },
                      {
                        "bin_start": 55.2,
                        "bin_end": 61.4,
                        "count": 551
                      },
                      {
                        "bin_start": 61.4,
                        "bin_end": 67.6,
                        "count": 532
                      },
                      {
                        "bin_start": 67.6,
                        "bin_end": 73.80000000000001,
                        "count": 420
                      },
                      {
                        "bin_start": 73.80000000000001,
                        "bin_end": 80,
                        "count": 626
                      }
                    ]
                  }
                },
                {
                  "name": "RIDRETH1",
                  "dtype": "int64",
                  "stats": {
                    "unique_count": 5,
                    "nan_count": 0,
                    "min": 1,
                    "max": 5,
                    "histogram": [
                      {
                        "bin_start": 1,
                        "bin_end": 1.4,
                        "count": 1018
                      },
                      {
                        "bin_start": 1.4,
                        "bin_end": 1.8,
                        "count": 0
                      },
                      {
                        "bin_start": 1.8,
                        "bin_end": 2.2,
                        "count": 750
                      },
                      {
                        "bin_start": 2.2,
                        "bin_end": 2.6,
                        "count": 0
                      },
                      {
                        "bin_start": 2.6,
                        "bin_end": 3,
                        "count": 0
                      },
                      {
                        "bin_start": 3,
                        "bin_end": 3.4000000000000004,
                        "count": 1839
                      },
                      {
                        "bin_start": 3.4000000000000004,
                        "bin_end": 3.8000000000000003,
                        "count": 0
                      },
                      {
                        "bin_start": 3.8000000000000003,
                        "bin_end": 4.2,
                        "count": 1227
                      },
                      {
                        "bin_start": 4.2,
                        "bin_end": 4.6,
                        "count": 0
                      },
                      {
                        "bin_start": 4.6,
                        "bin_end": 5,
                        "count": 901
                      }
                    ]
                  }
                },
                {
                  "name": "DMDCITZN",
                  "dtype": "float64",
                  "stats": {
                    "unique_count": 4,
                    "nan_count": 1,
                    "min": 1,
                    "max": 9,
                    "histogram": [
                      {
                        "bin_start": 1,
                        "bin_end": 1.8,
                        "count": 4746
                      },
                      {
                        "bin_start": 1.8,
                        "bin_end": 2.6,
                        "count": 975
                      },
                      {
                        "bin_start": 2.6,
                        "bin_end": 3.4000000000000004,
                        "count": 0
                      },
                      {
                        "bin_start": 3.4000000000000004,
                        "bin_end": 4.2,
                        "count": 0
                      },
                      {
                        "bin_start": 4.2,
                        "bin_end": 5,
                        "count": 0
                      },
                      {
                        "bin_start": 5,
                        "bin_end": 5.800000000000001,
                        "count": 0
                      },
                      {
                        "bin_start": 5.800000000000001,
                        "bin_end": 6.6000000000000005,
                        "count": 0
                      },
                      {
                        "bin_start": 6.6000000000000005,
                        "bin_end": 7.4,
                        "count": 8
                      },
                      {
                        "bin_start": 7.4,
                        "bin_end": 8.2,
                        "count": 0
                      },
                      {
                        "bin_start": 8.2,
                        "bin_end": 9,
                        "count": 5
                      }
                    ]
                  }
                },
                {
                  "name": "DMDEDUC2",
                  "dtype": "float64",
                  "stats": {
                    "unique_count": 6,
                    "nan_count": 261,
                    "min": 1,
                    "max": 9,
                    "histogram": [
                      {
                        "bin_start": 1,
                        "bin_end": 1.8,
                        "count": 655
                      },
                      {
                        "bin_start": 1.8,
                        "bin_end": 2.6,
                        "count": 643
                      },
                      {
                        "bin_start": 2.6,
                        "bin_end": 3.4000000000000004,
                        "count": 1186
                      },
                      {
                        "bin_start": 3.4000000000000004,
                        "bin_end": 4.2,
                        "count": 1621
                      },
                      {
                        "bin_start": 4.2,
                        "bin_end": 5,
                        "count": 0
                      },
                      {
                        "bin_start": 5,
                        "bin_end": 5.800000000000001,
                        "count": 1366
                      },
                      {
                        "bin_start": 5.800000000000001,
                        "bin_end": 6.6000000000000005,
                        "count": 0
                      },
                      {
                        "bin_start": 6.6000000000000005,
                        "bin_end": 7.4,
                        "count": 0
                      },
                      {
                        "bin_start": 7.4,
                        "bin_end": 8.2,
                        "count": 0
                      },
                      {
                        "bin_start": 8.2,
                        "bin_end": 9,
                        "count": 3
                      }
                    ]
                  }
                },
                {
                  "name": "DMDMARTL",
                  "dtype": "float64",
                  "stats": {
                    "unique_count": 7,
                    "nan_count": 261,
                    "min": 1,
                    "max": 77,
                    "histogram": [
                      {
                        "bin_start": 1,
                        "bin_end": 8.6,
                        "count": 5472
                      },
                      {
                        "bin_start": 8.6,
                        "bin_end": 16.2,
                        "count": 0
                      },
                      {
                        "bin_start": 16.2,
                        "bin_end": 23.799999999999997,
                        "count": 0
                      },
                      {
                        "bin_start": 23.799999999999997,
                        "bin_end": 31.4,
                        "count": 0
                      },
                      {
                        "bin_start": 31.4,
                        "bin_end": 39,
                        "count": 0
                      },
                      {
                        "bin_start": 39,
                        "bin_end": 46.599999999999994,
                        "count": 0
                      },
                      {
                        "bin_start": 46.599999999999994,
                        "bin_end": 54.199999999999996,
                        "count": 0
                      },
                      {
                        "bin_start": 54.199999999999996,
                        "bin_end": 61.8,
                        "count": 0
                      },
                      {
                        "bin_start": 61.8,
                        "bin_end": 69.39999999999999,
                        "count": 0
                      },
                      {
                        "bin_start": 69.39999999999999,
                        "bin_end": 77,
                        "count": 2
                      }
                    ]
                  }
                },
                {
                  "name": "DMDHHSIZ",
                  "dtype": "int64",
                  "stats": {
                    "unique_count": 7,
                    "nan_count": 0,
                    "min": 1,
                    "max": 7,
                    "histogram": [
                      {
                        "bin_start": 1,
                        "bin_end": 1.6,
                        "count": 770
                      },
                      {
                        "bin_start": 1.6,
                        "bin_end": 2.2,
                        "count": 1546
                      },
                      {
                        "bin_start": 2.2,
                        "bin_end": 2.8,
                        "count": 0
                      },
                      {
                        "bin_start": 2.8,
                        "bin_end": 3.4,
                        "count": 1037
                      },
                      {
                        "bin_start": 3.4,
                        "bin_end": 4,
                        "count": 0
                      },
                      {
                        "bin_start": 4,
                        "bin_end": 4.6,
                        "count": 936
                      },
                      {
                        "bin_start": 4.6,
                        "bin_end": 5.2,
                        "count": 699
                      },
                      {
                        "bin_start": 5.2,
                        "bin_end": 5.8,
                        "count": 0
                      },
                      {
                        "bin_start": 5.8,
                        "bin_end": 6.3999999999999995,
                        "count": 379
                      },
                      {
                        "bin_start": 6.3999999999999995,
                        "bin_end": 7,
                        "count": 368
                      }
                    ]
                  }
                },
                {
                  "name": "WTINT2YR",
                  "dtype": "float64",
                  "stats": {
                    "unique_count": 4355,
                    "nan_count": 0,
                    "min": 5330.96,
                    "max": 233755.84,
                    "histogram": [
                      {
                        "bin_start": 5330.96,
                        "bin_end": 28173.448,
                        "count": 3360
                      },
                      {
                        "bin_start": 28173.448,
                        "bin_end": 51015.936,
                        "count": 1150
                      },
                      {
                        "bin_start": 51015.936,
                        "bin_end": 73858.42400000001,
                        "count": 297
                      },
                      {
                        "bin_start": 73858.42400000001,
                        "bin_end": 96700.91200000001,
                        "count": 255
                      },
                      {
                        "bin_start": 96700.91200000001,
                        "bin_end": 119543.40000000001,
                        "count": 249
                      },
                      {
                        "bin_start": 119543.40000000001,
                        "bin_end": 142385.888,
                        "count": 216
                      },
                      {
                        "bin_start": 142385.888,
                        "bin_end": 165228.376,
                        "count": 147
                      },
                      {
                        "bin_start": 165228.376,
                        "bin_end": 188070.864,
                        "count": 42
                      },
                      {
                        "bin_start": 188070.864,
                        "bin_end": 210913.352,
                        "count": 12
                      },
                      {
                        "bin_start": 210913.352,
                        "bin_end": 233755.84,
                        "count": 7
                      }
                    ]
                  }
                },
                {
                  "name": "SDMVPSU",
                  "dtype": "int64",
                  "stats": {
                    "unique_count": 2,
                    "nan_count": 0,
                    "min": 1,
                    "max": 2,
                    "histogram": [
                      {
                        "bin_start": 1,
                        "bin_end": 1.1,
                        "count": 2937
                      },
                      {
                        "bin_start": 1.1,
                        "bin_end": 1.2,
                        "count": 0
                      },
                      {
                        "bin_start": 1.2,
                        "bin_end": 1.3,
                        "count": 0
                      },
                      {
                        "bin_start": 1.3,
                        "bin_end": 1.4,
                        "count": 0
                      },
                      {
                        "bin_start": 1.4,
                        "bin_end": 1.5,
                        "count": 0
                      },
                      {
                        "bin_start": 1.5,
                        "bin_end": 1.6,
                        "count": 0
                      },
                      {
                        "bin_start": 1.6,
                        "bin_end": 1.7000000000000002,
                        "count": 0
                      },
                      {
                        "bin_start": 1.7000000000000002,
                        "bin_end": 1.8,
                        "count": 0
                      },
                      {
                        "bin_start": 1.8,
                        "bin_end": 1.9,
                        "count": 0
                      },
                      {
                        "bin_start": 1.9,
                        "bin_end": 2,
                        "count": 2798
                      }
                    ]
                  }
                },
                {
                  "name": "SDMVSTRA",
                  "dtype": "int64",
                  "stats": {
                    "unique_count": 15,
                    "nan_count": 0,
                    "min": 119,
                    "max": 133,
                    "histogram": [
                      {
                        "bin_start": 119,
                        "bin_end": 120.4,
                        "count": 641
                      },
                      {
                        "bin_start": 120.4,
                        "bin_end": 121.8,
                        "count": 390
                      },
                      {
                        "bin_start": 121.8,
                        "bin_end": 123.2,
                        "count": 740
                      },
                      {
                        "bin_start": 123.2,
                        "bin_end": 124.6,
                        "count": 366
                      },
                      {
                        "bin_start": 124.6,
                        "bin_end": 126,
                        "count": 434
                      },
                      {
                        "bin_start": 126,
                        "bin_end": 127.4,
                        "count": 764
                      },
                      {
                        "bin_start": 127.4,
                        "bin_end": 128.8,
                        "count": 388
                      },
                      {
                        "bin_start": 128.8,
                        "bin_end": 130.2,
                        "count": 781
                      },
                      {
                        "bin_start": 130.2,
                        "bin_end": 131.6,
                        "count": 434
                      },
                      {
                        "bin_start": 131.6,
                        "bin_end": 133,
                        "count": 797
                      }
                    ]
                  }
                },
                {
                  "name": "INDFMPIR",
                  "dtype": "float64",
                  "stats": {
                    "unique_count": 440,
                    "nan_count": 601,
                    "min": 0,
                    "max": 5,
                    "histogram": [
                      {
                        "bin_start": 0,
                        "bin_end": 0.5,
                        "count": 398
                      },
                      {
                        "bin_start": 0.5,
                        "bin_end": 1,
                        "count": 781
                      },
                      {
                        "bin_start": 1,
                        "bin_end": 1.5,
                        "count": 787
                      },
                      {
                        "bin_start": 1.5,
                        "bin_end": 2,
                        "count": 619
                      },
                      {
                        "bin_start": 2,
                        "bin_end": 2.5,
                        "count": 455
                      },
                      {
                        "bin_start": 2.5,
                        "bin_end": 3,
                        "count": 421
                      },
                      {
                        "bin_start": 3,
                        "bin_end": 3.5,
                        "count": 262
                      },
                      {
                        "bin_start": 3.5,
                        "bin_end": 4,
                        "count": 224
                      },
                      {
                        "bin_start": 4,
                        "bin_end": 4.5,
                        "count": 211
                      },
                      {
                        "bin_start": 4.5,
                        "bin_end": 5,
                        "count": 976
                      }
                    ]
                  }
                },
                {
                  "name": "BPXSY1",
                  "dtype": "float64",
                  "stats": {
                    "unique_count": 68,
                    "nan_count": 334,
                    "min": 82,
                    "max": 236,
                    "histogram": [
                      {
                        "bin_start": 82,
                        "bin_end": 97.4,
                        "count": 141
                      },
                      {
                        "bin_start": 97.4,
                        "bin_end": 112.8,
                        "count": 1264
                      },
                      {
                        "bin_start": 112.8,
                        "bin_end": 128.2,
                        "count": 2132
                      },
                      {
                        "bin_start": 128.2,
                        "bin_end": 143.6,
                        "count": 1044
                      },
                      {
                        "bin_start": 143.6,
                        "bin_end": 159,
                        "count": 547
                      },
                      {
                        "bin_start": 159,
                        "bin_end": 174.4,
                        "count": 177
                      },
                      {
                        "bin_start": 174.4,
                        "bin_end": 189.8,
                        "count": 61
                      },
                      {
                        "bin_start": 189.8,
                        "bin_end": 205.2,
                        "count": 26
                      },
                      {
                        "bin_start": 205.2,
                        "bin_end": 220.6,
                        "count": 7
                      },
                      {
                        "bin_start": 220.6,
                        "bin_end": 236,
                        "count": 2
                      }
                    ]
                  }
                },
                {
                  "name": "BPXDI1",
                  "dtype": "float64"
                },
                {
                  "name": "BPXSY2",
                  "dtype": "float64"
                },
                {
                  "name": "BPXDI2",
                  "dtype": "float64"
                },
                {
                  "name": "BMXWT",
                  "dtype": "float64"
                },
                {
                  "name": "BMXHT",
                  "dtype": "float64"
                },
                {
                  "name": "BMXBMI",
                  "dtype": "float64"
                },
                {
                  "name": "BMXLEG",
                  "dtype": "float64"
                },
                {
                  "name": "BMXARML",
                  "dtype": "float64"
                },
                {
                  "name": "BMXARMC",
                  "dtype": "float64"
                },
                {
                  "name": "BMXWAIST",
                  "dtype": "float64"
                },
                {
                  "name": "HIQ210",
                  "dtype": "float64"
                },
                {
                  "name": "_deepnote_index_column",
                  "dtype": "int64"
                }
              ],
              "rows_top": [
                {
                  "SEQN": 83732,
                  "ALQ101": "1.0",
                  "ALQ110": "nan",
                  "ALQ130": "1.0",
                  "SMQ020": "Yes",
                  "RIAGENDR": "Male",
                  "RIDAGEYR": 62,
                  "RIDRETH1": 3,
                  "DMDCITZN": 1,
                  "DMDEDUC2": "5.0",
                  "DMDMARTL": "1.0",
                  "DMDHHSIZ": 2,
                  "WTINT2YR": 134671.37,
                  "SDMVPSU": 1,
                  "SDMVSTRA": 125,
                  "INDFMPIR": 4.39,
                  "BPXSY1": "128.0",
                  "BPXDI1": "70.0",
                  "BPXSY2": "124.0",
                  "BPXDI2": "64.0",
                  "BMXWT": 94.8,
                  "BMXHT": 184.5,
                  "BMXBMI": 27.8,
                  "BMXLEG": "43.3",
                  "BMXARML": "43.6",
                  "BMXARMC": "35.9",
                  "BMXWAIST": "101.1",
                  "HIQ210": "2.0",
                  "_deepnote_index_column": 0
                },
                {
                  "SEQN": 83733,
                  "ALQ101": "1.0",
                  "ALQ110": "nan",
                  "ALQ130": "6.0",
                  "SMQ020": "Yes",
                  "RIAGENDR": "Male",
                  "RIDAGEYR": 53,
                  "RIDRETH1": 3,
                  "DMDCITZN": 2,
                  "DMDEDUC2": "3.0",
                  "DMDMARTL": "3.0",
                  "DMDHHSIZ": 1,
                  "WTINT2YR": 24328.56,
                  "SDMVPSU": 1,
                  "SDMVSTRA": 125,
                  "INDFMPIR": 1.32,
                  "BPXSY1": "146.0",
                  "BPXDI1": "88.0",
                  "BPXSY2": "140.0",
                  "BPXDI2": "88.0",
                  "BMXWT": 90.4,
                  "BMXHT": 171.4,
                  "BMXBMI": 30.8,
                  "BMXLEG": "38.0",
                  "BMXARML": "40.0",
                  "BMXARMC": "33.2",
                  "BMXWAIST": "107.9",
                  "HIQ210": "nan",
                  "_deepnote_index_column": 1
                },
                {
                  "SEQN": 83734,
                  "ALQ101": "1.0",
                  "ALQ110": "nan",
                  "ALQ130": "nan",
                  "SMQ020": "Yes",
                  "RIAGENDR": "Male",
                  "RIDAGEYR": 78,
                  "RIDRETH1": 3,
                  "DMDCITZN": 1,
                  "DMDEDUC2": "3.0",
                  "DMDMARTL": "1.0",
                  "DMDHHSIZ": 2,
                  "WTINT2YR": 12400.01,
                  "SDMVPSU": 1,
                  "SDMVSTRA": 131,
                  "INDFMPIR": 1.51,
                  "BPXSY1": "138.0",
                  "BPXDI1": "46.0",
                  "BPXSY2": "132.0",
                  "BPXDI2": "44.0",
                  "BMXWT": 83.4,
                  "BMXHT": 170.1,
                  "BMXBMI": 28.8,
                  "BMXLEG": "35.6",
                  "BMXARML": "37.0",
                  "BMXARMC": "31.0",
                  "BMXWAIST": "116.5",
                  "HIQ210": "2.0",
                  "_deepnote_index_column": 2
                },
                {
                  "SEQN": 83735,
                  "ALQ101": "2.0",
                  "ALQ110": "1.0",
                  "ALQ130": "1.0",
                  "SMQ020": "No",
                  "RIAGENDR": "Female",
                  "RIDAGEYR": 56,
                  "RIDRETH1": 3,
                  "DMDCITZN": 1,
                  "DMDEDUC2": "5.0",
                  "DMDMARTL": "6.0",
                  "DMDHHSIZ": 1,
                  "WTINT2YR": 102718,
                  "SDMVPSU": 1,
                  "SDMVSTRA": 131,
                  "INDFMPIR": 5,
                  "BPXSY1": "132.0",
                  "BPXDI1": "72.0",
                  "BPXSY2": "134.0",
                  "BPXDI2": "68.0",
                  "BMXWT": 109.8,
                  "BMXHT": 160.9,
                  "BMXBMI": 42.4,
                  "BMXLEG": "38.5",
                  "BMXARML": "37.7",
                  "BMXARMC": "38.3",
                  "BMXWAIST": "110.1",
                  "HIQ210": "2.0",
                  "_deepnote_index_column": 3
                },
                {
                  "SEQN": 83736,
                  "ALQ101": "2.0",
                  "ALQ110": "1.0",
                  "ALQ130": "1.0",
                  "SMQ020": "No",
                  "RIAGENDR": "Female",
                  "RIDAGEYR": 42,
                  "RIDRETH1": 4,
                  "DMDCITZN": 1,
                  "DMDEDUC2": "4.0",
                  "DMDMARTL": "3.0",
                  "DMDHHSIZ": 5,
                  "WTINT2YR": 17627.67,
                  "SDMVPSU": 2,
                  "SDMVSTRA": 126,
                  "INDFMPIR": 1.23,
                  "BPXSY1": "100.0",
                  "BPXDI1": "70.0",
                  "BPXSY2": "114.0",
                  "BPXDI2": "54.0",
                  "BMXWT": 55.2,
                  "BMXHT": 164.9,
                  "BMXBMI": 20.3,
                  "BMXLEG": "37.4",
                  "BMXARML": "36.0",
                  "BMXARMC": "27.2",
                  "BMXWAIST": "80.4",
                  "HIQ210": "2.0",
                  "_deepnote_index_column": 4
                },
                {
                  "SEQN": 83737,
                  "ALQ101": "2.0",
                  "ALQ110": "2.0",
                  "ALQ130": "nan",
                  "SMQ020": "No",
                  "RIAGENDR": "Female",
                  "RIDAGEYR": 72,
                  "RIDRETH1": 1,
                  "DMDCITZN": 2,
                  "DMDEDUC2": "2.0",
                  "DMDMARTL": "4.0",
                  "DMDHHSIZ": 5,
                  "WTINT2YR": 11252.31,
                  "SDMVPSU": 1,
                  "SDMVSTRA": 128,
                  "INDFMPIR": 2.82,
                  "BPXSY1": "116.0",
                  "BPXDI1": "58.0",
                  "BPXSY2": "122.0",
                  "BPXDI2": "58.0",
                  "BMXWT": 64.4,
                  "BMXHT": 150,
                  "BMXBMI": 28.6,
                  "BMXLEG": "34.4",
                  "BMXARML": "33.5",
                  "BMXARMC": "31.4",
                  "BMXWAIST": "92.9",
                  "HIQ210": "nan",
                  "_deepnote_index_column": 5
                },
                {
                  "SEQN": 83741,
                  "ALQ101": "1.0",
                  "ALQ110": "nan",
                  "ALQ130": "8.0",
                  "SMQ020": "Yes",
                  "RIAGENDR": "Male",
                  "RIDAGEYR": 22,
                  "RIDRETH1": 4,
                  "DMDCITZN": 1,
                  "DMDEDUC2": "4.0",
                  "DMDMARTL": "5.0",
                  "DMDHHSIZ": 3,
                  "WTINT2YR": 37043.09,
                  "SDMVPSU": 2,
                  "SDMVSTRA": 128,
                  "INDFMPIR": 2.08,
                  "BPXSY1": "110.0",
                  "BPXDI1": "70.0",
                  "BPXSY2": "112.0",
                  "BPXDI2": "74.0",
                  "BMXWT": 76.6,
                  "BMXHT": 165.4,
                  "BMXBMI": 28,
                  "BMXLEG": "38.8",
                  "BMXARML": "38.0",
                  "BMXARMC": "34.0",
                  "BMXWAIST": "86.6",
                  "HIQ210": "nan",
                  "_deepnote_index_column": 6
                },
                {
                  "SEQN": 83742,
                  "ALQ101": "1.0",
                  "ALQ110": "nan",
                  "ALQ130": "1.0",
                  "SMQ020": "No",
                  "RIAGENDR": "Female",
                  "RIDAGEYR": 32,
                  "RIDRETH1": 1,
                  "DMDCITZN": 2,
                  "DMDEDUC2": "4.0",
                  "DMDMARTL": "1.0",
                  "DMDHHSIZ": 4,
                  "WTINT2YR": 22744.36,
                  "SDMVPSU": 1,
                  "SDMVSTRA": 125,
                  "INDFMPIR": 1.03,
                  "BPXSY1": "120.0",
                  "BPXDI1": "70.0",
                  "BPXSY2": "114.0",
                  "BPXDI2": "70.0",
                  "BMXWT": 64.5,
                  "BMXHT": 151.3,
                  "BMXBMI": 28.2,
                  "BMXLEG": "34.1",
                  "BMXARML": "33.1",
                  "BMXARMC": "31.5",
                  "BMXWAIST": "93.3",
                  "HIQ210": "2.0",
                  "_deepnote_index_column": 7
                },
                {
                  "SEQN": 83743,
                  "ALQ101": "nan",
                  "ALQ110": "nan",
                  "ALQ130": "nan",
                  "SMQ020": "No",
                  "RIAGENDR": "Male",
                  "RIDAGEYR": 18,
                  "RIDRETH1": 5,
                  "DMDCITZN": 1,
                  "DMDEDUC2": "nan",
                  "DMDMARTL": "nan",
                  "DMDHHSIZ": 3,
                  "WTINT2YR": 18526.16,
                  "SDMVPSU": 2,
                  "SDMVSTRA": 122,
                  "INDFMPIR": 5,
                  "BPXSY1": "nan",
                  "BPXDI1": "nan",
                  "BPXSY2": "nan",
                  "BPXDI2": "nan",
                  "BMXWT": 72.4,
                  "BMXHT": 166.1,
                  "BMXBMI": 26.2,
                  "BMXLEG": "nan",
                  "BMXARML": "nan",
                  "BMXARMC": "nan",
                  "BMXWAIST": "nan",
                  "HIQ210": "2.0",
                  "_deepnote_index_column": 8
                },
                {
                  "SEQN": 83744,
                  "ALQ101": "1.0",
                  "ALQ110": "nan",
                  "ALQ130": "nan",
                  "SMQ020": "No",
                  "RIAGENDR": "Male",
                  "RIDAGEYR": 56,
                  "RIDRETH1": 4,
                  "DMDCITZN": 1,
                  "DMDEDUC2": "3.0",
                  "DMDMARTL": "3.0",
                  "DMDHHSIZ": 1,
                  "WTINT2YR": 20395.54,
                  "SDMVPSU": 2,
                  "SDMVSTRA": 126,
                  "INDFMPIR": 1.19,
                  "BPXSY1": "178.0",
                  "BPXDI1": "116.0",
                  "BPXSY2": "180.0",
                  "BPXDI2": "114.0",
                  "BMXWT": 108.3,
                  "BMXHT": 179.4,
                  "BMXBMI": 33.6,
                  "BMXLEG": "46.0",
                  "BMXARML": "44.1",
                  "BMXARMC": "38.5",
                  "BMXWAIST": "116.0",
                  "HIQ210": "2.0",
                  "_deepnote_index_column": 9
                },
                {
                  "SEQN": 83747,
                  "ALQ101": "1.0",
                  "ALQ110": "nan",
                  "ALQ130": "1.0",
                  "SMQ020": "Yes",
                  "RIAGENDR": "Male",
                  "RIDAGEYR": 46,
                  "RIDRETH1": 3,
                  "DMDCITZN": 1,
                  "DMDEDUC2": "5.0",
                  "DMDMARTL": "6.0",
                  "DMDHHSIZ": 2,
                  "WTINT2YR": 34513.08,
                  "SDMVPSU": 1,
                  "SDMVSTRA": 121,
                  "INDFMPIR": 0.75,
                  "BPXSY1": "144.0",
                  "BPXDI1": "94.0",
                  "BPXSY2": "150.0",
                  "BPXDI2": "90.0",
                  "BMXWT": 86.2,
                  "BMXHT": 176.7,
                  "BMXBMI": 27.6,
                  "BMXLEG": "41.0",
                  "BMXARML": "38.0",
                  "BMXARMC": "33.6",
                  "BMXWAIST": "104.3",
                  "HIQ210": "2.0",
                  "_deepnote_index_column": 10
                },
                {
                  "SEQN": 83750,
                  "ALQ101": "1.0",
                  "ALQ110": "nan",
                  "ALQ130": "3.0",
                  "SMQ020": "Yes",
                  "RIAGENDR": "Male",
                  "RIDAGEYR": 45,
                  "RIDRETH1": 5,
                  "DMDCITZN": 1,
                  "DMDEDUC2": "2.0",
                  "DMDMARTL": "5.0",
                  "DMDHHSIZ": 5,
                  "WTINT2YR": 96194.93,
                  "SDMVPSU": 1,
                  "SDMVSTRA": 125,
                  "INDFMPIR": 1.36,
                  "BPXSY1": "116.0",
                  "BPXDI1": "70.0",
                  "BPXSY2": "108.0",
                  "BPXDI2": "72.0",
                  "BMXWT": 76.2,
                  "BMXHT": 177.8,
                  "BMXBMI": 24.1,
                  "BMXLEG": "43.9",
                  "BMXARML": "37.8",
                  "BMXARMC": "33.0",
                  "BMXWAIST": "90.1",
                  "HIQ210": "nan",
                  "_deepnote_index_column": 11
                },
                {
                  "SEQN": 83752,
                  "ALQ101": "1.0",
                  "ALQ110": "nan",
                  "ALQ130": "2.0",
                  "SMQ020": "Yes",
                  "RIAGENDR": "Female",
                  "RIDAGEYR": 30,
                  "RIDRETH1": 2,
                  "DMDCITZN": 1,
                  "DMDEDUC2": "4.0",
                  "DMDMARTL": "6.0",
                  "DMDHHSIZ": 2,
                  "WTINT2YR": 36978.42,
                  "SDMVPSU": 1,
                  "SDMVSTRA": 124,
                  "INDFMPIR": 5,
                  "BPXSY1": "104.0",
                  "BPXDI1": "50.0",
                  "BPXSY2": "104.0",
                  "BPXDI2": "50.0",
                  "BMXWT": 71.2,
                  "BMXHT": 163.6,
                  "BMXBMI": 26.6,
                  "BMXLEG": "37.3",
                  "BMXARML": "35.7",
                  "BMXARMC": "31.0",
                  "BMXWAIST": "90.7",
                  "HIQ210": "2.0",
                  "_deepnote_index_column": 12
                },
                {
                  "SEQN": 83754,
                  "ALQ101": "2.0",
                  "ALQ110": "1.0",
                  "ALQ130": "1.0",
                  "SMQ020": "No",
                  "RIAGENDR": "Female",
                  "RIDAGEYR": 67,
                  "RIDRETH1": 2,
                  "DMDCITZN": 1,
                  "DMDEDUC2": "5.0",
                  "DMDMARTL": "1.0",
                  "DMDHHSIZ": 7,
                  "WTINT2YR": 10495.87,
                  "SDMVPSU": 1,
                  "SDMVSTRA": 128,
                  "INDFMPIR": 0.89,
                  "BPXSY1": "124.0",
                  "BPXDI1": "76.0",
                  "BPXSY2": "116.0",
                  "BPXDI2": "64.0",
                  "BMXWT": 117.8,
                  "BMXHT": 164.1,
                  "BMXBMI": 43.7,
                  "BMXLEG": "34.8",
                  "BMXARML": "38.6",
                  "BMXARMC": "42.7",
                  "BMXWAIST": "123.0",
                  "HIQ210": "2.0",
                  "_deepnote_index_column": 13
                },
                {
                  "SEQN": 83755,
                  "ALQ101": "1.0",
                  "ALQ110": "nan",
                  "ALQ130": "3.0",
                  "SMQ020": "No",
                  "RIAGENDR": "Male",
                  "RIDAGEYR": 67,
                  "RIDRETH1": 4,
                  "DMDCITZN": 1,
                  "DMDEDUC2": "5.0",
                  "DMDMARTL": "2.0",
                  "DMDHHSIZ": 1,
                  "WTINT2YR": 14080.1,
                  "SDMVPSU": 1,
                  "SDMVSTRA": 126,
                  "INDFMPIR": 2.04,
                  "BPXSY1": "132.0",
                  "BPXDI1": "84.0",
                  "BPXSY2": "136.0",
                  "BPXDI2": "82.0",
                  "BMXWT": 97.4,
                  "BMXHT": 183.8,
                  "BMXBMI": 28.8,
                  "BMXLEG": "42.5",
                  "BMXARML": "40.6",
                  "BMXARMC": "34.2",
                  "BMXWAIST": "106.3",
                  "HIQ210": "2.0",
                  "_deepnote_index_column": 14
                },
                {
                  "SEQN": 83757,
                  "ALQ101": "1.0",
                  "ALQ110": "nan",
                  "ALQ130": "1.0",
                  "SMQ020": "No",
                  "RIAGENDR": "Female",
                  "RIDAGEYR": 57,
                  "RIDRETH1": 2,
                  "DMDCITZN": 1,
                  "DMDEDUC2": "1.0",
                  "DMDMARTL": "4.0",
                  "DMDHHSIZ": 5,
                  "WTINT2YR": 11709.11,
                  "SDMVPSU": 1,
                  "SDMVSTRA": 120,
                  "INDFMPIR": 0.77,
                  "BPXSY1": "134.0",
                  "BPXDI1": "68.0",
                  "BPXSY2": "146.0",
                  "BPXDI2": "62.0",
                  "BMXWT": 80.5,
                  "BMXHT": 150.8,
                  "BMXBMI": 35.4,
                  "BMXLEG": "31.6",
                  "BMXARML": "32.7",
                  "BMXARMC": "33.7",
                  "BMXWAIST": "113.5",
                  "HIQ210": "2.0",
                  "_deepnote_index_column": 15
                },
                {
                  "SEQN": 83759,
                  "ALQ101": "2.0",
                  "ALQ110": "2.0",
                  "ALQ130": "nan",
                  "SMQ020": "No",
                  "RIAGENDR": "Female",
                  "RIDAGEYR": 19,
                  "RIDRETH1": 1,
                  "DMDCITZN": 1,
                  "DMDEDUC2": "nan",
                  "DMDMARTL": "nan",
                  "DMDHHSIZ": 3,
                  "WTINT2YR": 18928.63,
                  "SDMVPSU": 2,
                  "SDMVSTRA": 121,
                  "INDFMPIR": 1.74,
                  "BPXSY1": "102.0",
                  "BPXDI1": "68.0",
                  "BPXSY2": "102.0",
                  "BPXDI2": "66.0",
                  "BMXWT": 100.8,
                  "BMXHT": 175.4,
                  "BMXBMI": 32.8,
                  "BMXLEG": "40.7",
                  "BMXARML": "38.6",
                  "BMXARMC": "35.9",
                  "BMXWAIST": "104.6",
                  "HIQ210": "1.0",
                  "_deepnote_index_column": 16
                }
              ],
              "rows_bottom": [
                {
                  "SEQN": 93670,
                  "ALQ101": "1.0",
                  "ALQ110": "nan",
                  "ALQ130": "3.0",
                  "SMQ020": "Yes",
                  "RIAGENDR": "Male",
                  "RIDAGEYR": 32,
                  "RIDRETH1": 3,
                  "DMDCITZN": 2,
                  "DMDEDUC2": 5,
                  "DMDMARTL": 1,
                  "DMDHHSIZ": 4,
                  "WTINT2YR": 120187.36,
                  "SDMVPSU": 2,
                  "SDMVSTRA": 123,
                  "INDFMPIR": "nan",
                  "BPXSY1": "112.0",
                  "BPXDI1": "70.0",
                  "BPXSY2": "112.0",
                  "BPXDI2": "72.0",
                  "BMXWT": 81.4,
                  "BMXHT": 170.1,
                  "BMXBMI": 28.1,
                  "BMXLEG": 41.7,
                  "BMXARML": 38.2,
                  "BMXARMC": 33.9,
                  "BMXWAIST": "93.6",
                  "HIQ210": 1,
                  "_deepnote_index_column": 5717
                },
                {
                  "SEQN": 93671,
                  "ALQ101": "1.0",
                  "ALQ110": "nan",
                  "ALQ130": "3.0",
                  "SMQ020": "No",
                  "RIAGENDR": "Male",
                  "RIDAGEYR": 45,
                  "RIDRETH1": 4,
                  "DMDCITZN": 1,
                  "DMDEDUC2": 5,
                  "DMDMARTL": 1,
                  "DMDHHSIZ": 3,
                  "WTINT2YR": 21351.55,
                  "SDMVPSU": 1,
                  "SDMVSTRA": 124,
                  "INDFMPIR": "5.0",
                  "BPXSY1": "128.0",
                  "BPXDI1": "60.0",
                  "BPXSY2": "120.0",
                  "BPXDI2": "58.0",
                  "BMXWT": 89,
                  "BMXHT": 174.3,
                  "BMXBMI": 29.3,
                  "BMXLEG": 42.4,
                  "BMXARML": 40.6,
                  "BMXARMC": 39.5,
                  "BMXWAIST": "97.0",
                  "HIQ210": 2,
                  "_deepnote_index_column": 5718
                },
                {
                  "SEQN": 93672,
                  "ALQ101": "2.0",
                  "ALQ110": "2.0",
                  "ALQ130": "nan",
                  "SMQ020": "Yes",
                  "RIAGENDR": "Female",
                  "RIDAGEYR": 63,
                  "RIDRETH1": 2,
                  "DMDCITZN": 1,
                  "DMDEDUC2": 1,
                  "DMDMARTL": 1,
                  "DMDHHSIZ": 3,
                  "WTINT2YR": 8605.87,
                  "SDMVPSU": 2,
                  "SDMVSTRA": 119,
                  "INDFMPIR": "0.2",
                  "BPXSY1": "nan",
                  "BPXDI1": "nan",
                  "BPXSY2": "nan",
                  "BPXDI2": "nan",
                  "BMXWT": 81.9,
                  "BMXHT": 147.6,
                  "BMXBMI": 37.6,
                  "BMXLEG": 35,
                  "BMXARML": 33,
                  "BMXARMC": 38.2,
                  "BMXWAIST": "122.5",
                  "HIQ210": 2,
                  "_deepnote_index_column": 5719
                },
                {
                  "SEQN": 93675,
                  "ALQ101": "1.0",
                  "ALQ110": "nan",
                  "ALQ130": "1.0",
                  "SMQ020": "No",
                  "RIAGENDR": "Male",
                  "RIDAGEYR": 38,
                  "RIDRETH1": 5,
                  "DMDCITZN": 2,
                  "DMDEDUC2": 5,
                  "DMDMARTL": 4,
                  "DMDHHSIZ": 1,
                  "WTINT2YR": 26328.59,
                  "SDMVPSU": 2,
                  "SDMVSTRA": 122,
                  "INDFMPIR": "5.0",
                  "BPXSY1": "110.0",
                  "BPXDI1": "58.0",
                  "BPXSY2": "118.0",
                  "BPXDI2": "62.0",
                  "BMXWT": 77.6,
                  "BMXHT": 179,
                  "BMXBMI": 24.2,
                  "BMXLEG": 42.3,
                  "BMXARML": 41.5,
                  "BMXARMC": 31.7,
                  "BMXWAIST": "94.2",
                  "HIQ210": 2,
                  "_deepnote_index_column": 5720
                },
                {
                  "SEQN": 93676,
                  "ALQ101": "1.0",
                  "ALQ110": "nan",
                  "ALQ130": "2.0",
                  "SMQ020": "No",
                  "RIAGENDR": "Female",
                  "RIDAGEYR": 35,
                  "RIDRETH1": 4,
                  "DMDCITZN": 1,
                  "DMDEDUC2": 5,
                  "DMDMARTL": 3,
                  "DMDHHSIZ": 2,
                  "WTINT2YR": 32944.36,
                  "SDMVPSU": 2,
                  "SDMVSTRA": 132,
                  "INDFMPIR": "2.68",
                  "BPXSY1": "118.0",
                  "BPXDI1": "78.0",
                  "BPXSY2": "114.0",
                  "BPXDI2": "76.0",
                  "BMXWT": 92.2,
                  "BMXHT": 161.7,
                  "BMXBMI": 35.3,
                  "BMXLEG": 41.5,
                  "BMXARML": 37.5,
                  "BMXARMC": 38.9,
                  "BMXWAIST": "110.9",
                  "HIQ210": 2,
                  "_deepnote_index_column": 5721
                },
                {
                  "SEQN": 93677,
                  "ALQ101": "1.0",
                  "ALQ110": "nan",
                  "ALQ130": "1.0",
                  "SMQ020": "No",
                  "RIAGENDR": "Female",
                  "RIDAGEYR": 34,
                  "RIDRETH1": 3,
                  "DMDCITZN": 1,
                  "DMDEDUC2": 5,
                  "DMDMARTL": 5,
                  "DMDHHSIZ": 3,
                  "WTINT2YR": 136319.8,
                  "SDMVPSU": 1,
                  "SDMVSTRA": 122,
                  "INDFMPIR": "1.76",
                  "BPXSY1": "114.0",
                  "BPXDI1": "72.0",
                  "BPXSY2": "110.0",
                  "BPXDI2": "78.0",
                  "BMXWT": 62.2,
                  "BMXHT": 167.4,
                  "BMXBMI": 22.2,
                  "BMXLEG": 39.8,
                  "BMXARML": 37.7,
                  "BMXARMC": 28.5,
                  "BMXWAIST": "83.3",
                  "HIQ210": 2,
                  "_deepnote_index_column": 5722
                },
                {
                  "SEQN": 93679,
                  "ALQ101": "2.0",
                  "ALQ110": "1.0",
                  "ALQ130": "nan",
                  "SMQ020": "Yes",
                  "RIAGENDR": "Female",
                  "RIDAGEYR": 72,
                  "RIDRETH1": 4,
                  "DMDCITZN": 1,
                  "DMDEDUC2": 2,
                  "DMDMARTL": 2,
                  "DMDHHSIZ": 3,
                  "WTINT2YR": 21037.26,
                  "SDMVPSU": 2,
                  "SDMVSTRA": 132,
                  "INDFMPIR": "2.98",
                  "BPXSY1": "142.0",
                  "BPXDI1": "64.0",
                  "BPXSY2": "136.0",
                  "BPXDI2": "78.0",
                  "BMXWT": 57.8,
                  "BMXHT": 157,
                  "BMXBMI": 23.4,
                  "BMXLEG": 32,
                  "BMXARML": 35.5,
                  "BMXARMC": 26.8,
                  "BMXWAIST": "90.4",
                  "HIQ210": 2,
                  "_deepnote_index_column": 5723
                },
                {
                  "SEQN": 93682,
                  "ALQ101": "nan",
                  "ALQ110": "nan",
                  "ALQ130": "nan",
                  "SMQ020": "No",
                  "RIAGENDR": "Female",
                  "RIDAGEYR": 41,
                  "RIDRETH1": 5,
                  "DMDCITZN": 1,
                  "DMDEDUC2": 5,
                  "DMDMARTL": 1,
                  "DMDHHSIZ": 5,
                  "WTINT2YR": 23924.2,
                  "SDMVPSU": 2,
                  "SDMVSTRA": 121,
                  "INDFMPIR": "5.0",
                  "BPXSY1": "132.0",
                  "BPXDI1": "78.0",
                  "BPXSY2": "122.0",
                  "BPXDI2": "84.0",
                  "BMXWT": 58.2,
                  "BMXHT": 166.9,
                  "BMXBMI": 20.9,
                  "BMXLEG": 37.1,
                  "BMXARML": 35.3,
                  "BMXARMC": 26.9,
                  "BMXWAIST": "80.8",
                  "HIQ210": 2,
                  "_deepnote_index_column": 5724
                },
                {
                  "SEQN": 93684,
                  "ALQ101": "2.0",
                  "ALQ110": "2.0",
                  "ALQ130": "nan",
                  "SMQ020": "No",
                  "RIAGENDR": "Male",
                  "RIDAGEYR": 34,
                  "RIDRETH1": 4,
                  "DMDCITZN": 1,
                  "DMDEDUC2": 5,
                  "DMDMARTL": 1,
                  "DMDHHSIZ": 5,
                  "WTINT2YR": 29880.64,
                  "SDMVPSU": 2,
                  "SDMVSTRA": 131,
                  "INDFMPIR": "2.81",
                  "BPXSY1": "110.0",
                  "BPXDI1": "72.0",
                  "BPXSY2": "112.0",
                  "BPXDI2": "72.0",
                  "BMXWT": 101.2,
                  "BMXHT": 180.9,
                  "BMXBMI": 30.9,
                  "BMXLEG": 43.7,
                  "BMXARML": 43,
                  "BMXARMC": 41.3,
                  "BMXWAIST": "99.0",
                  "HIQ210": 2,
                  "_deepnote_index_column": 5725
                },
                {
                  "SEQN": 93685,
                  "ALQ101": "1.0",
                  "ALQ110": "nan",
                  "ALQ130": "2.0",
                  "SMQ020": "Yes",
                  "RIAGENDR": "Male",
                  "RIDAGEYR": 53,
                  "RIDRETH1": 1,
                  "DMDCITZN": 2,
                  "DMDEDUC2": 2,
                  "DMDMARTL": 1,
                  "DMDHHSIZ": 5,
                  "WTINT2YR": 22441.86,
                  "SDMVPSU": 1,
                  "SDMVSTRA": 126,
                  "INDFMPIR": "0.49",
                  "BPXSY1": "132.0",
                  "BPXDI1": "54.0",
                  "BPXSY2": "128.0",
                  "BPXDI2": "56.0",
                  "BMXWT": 78.7,
                  "BMXHT": 156.9,
                  "BMXBMI": 32,
                  "BMXLEG": 31.5,
                  "BMXARML": 38,
                  "BMXARMC": 33.7,
                  "BMXWAIST": "107.5",
                  "HIQ210": 2,
                  "_deepnote_index_column": 5726
                },
                {
                  "SEQN": 93689,
                  "ALQ101": "2.0",
                  "ALQ110": "1.0",
                  "ALQ130": "nan",
                  "SMQ020": "No",
                  "RIAGENDR": "Female",
                  "RIDAGEYR": 69,
                  "RIDRETH1": 1,
                  "DMDCITZN": 1,
                  "DMDEDUC2": 1,
                  "DMDMARTL": 1,
                  "DMDHHSIZ": 1,
                  "WTINT2YR": 9611.19,
                  "SDMVPSU": 2,
                  "SDMVSTRA": 127,
                  "INDFMPIR": "0.97",
                  "BPXSY1": "164.0",
                  "BPXDI1": "62.0",
                  "BPXSY2": "166.0",
                  "BPXDI2": "64.0",
                  "BMXWT": 64.8,
                  "BMXHT": 151.9,
                  "BMXBMI": 28.1,
                  "BMXLEG": 32.2,
                  "BMXARML": 32.6,
                  "BMXARMC": 28.7,
                  "BMXWAIST": "101.1",
                  "HIQ210": 2,
                  "_deepnote_index_column": 5727
                },
                {
                  "SEQN": 93690,
                  "ALQ101": "1.0",
                  "ALQ110": "nan",
                  "ALQ130": "3.0",
                  "SMQ020": "No",
                  "RIAGENDR": "Male",
                  "RIDAGEYR": 32,
                  "RIDRETH1": 2,
                  "DMDCITZN": 1,
                  "DMDEDUC2": 2,
                  "DMDMARTL": 1,
                  "DMDHHSIZ": 4,
                  "WTINT2YR": 43971.6,
                  "SDMVPSU": 2,
                  "SDMVSTRA": 127,
                  "INDFMPIR": "5.0",
                  "BPXSY1": "112.0",
                  "BPXDI1": "60.0",
                  "BPXSY2": "118.0",
                  "BPXDI2": "58.0",
                  "BMXWT": 89.5,
                  "BMXHT": 164.9,
                  "BMXBMI": 32.9,
                  "BMXLEG": 40,
                  "BMXARML": 38,
                  "BMXARMC": 39,
                  "BMXWAIST": "101.0",
                  "HIQ210": 2,
                  "_deepnote_index_column": 5728
                },
                {
                  "SEQN": 93691,
                  "ALQ101": "2.0",
                  "ALQ110": "2.0",
                  "ALQ130": "nan",
                  "SMQ020": "No",
                  "RIAGENDR": "Male",
                  "RIDAGEYR": 25,
                  "RIDRETH1": 5,
                  "DMDCITZN": 2,
                  "DMDEDUC2": 5,
                  "DMDMARTL": 5,
                  "DMDHHSIZ": 7,
                  "WTINT2YR": 13525.39,
                  "SDMVPSU": 2,
                  "SDMVSTRA": 133,
                  "INDFMPIR": "1.59",
                  "BPXSY1": "112.0",
                  "BPXDI1": "80.0",
                  "BPXSY2": "112.0",
                  "BPXDI2": "76.0",
                  "BMXWT": 39.2,
                  "BMXHT": 136.5,
                  "BMXBMI": 21,
                  "BMXLEG": 33.6,
                  "BMXARML": 29.7,
                  "BMXARMC": 23.8,
                  "BMXWAIST": "75.4",
                  "HIQ210": 2,
                  "_deepnote_index_column": 5729
                },
                {
                  "SEQN": 93695,
                  "ALQ101": "2.0",
                  "ALQ110": "2.0",
                  "ALQ130": "nan",
                  "SMQ020": "Yes",
                  "RIAGENDR": "Female",
                  "RIDAGEYR": 76,
                  "RIDRETH1": 3,
                  "DMDCITZN": 1,
                  "DMDEDUC2": 3,
                  "DMDMARTL": 2,
                  "DMDHHSIZ": 1,
                  "WTINT2YR": 58614.08,
                  "SDMVPSU": 2,
                  "SDMVSTRA": 130,
                  "INDFMPIR": "1.43",
                  "BPXSY1": "112.0",
                  "BPXDI1": "48.0",
                  "BPXSY2": "112.0",
                  "BPXDI2": "46.0",
                  "BMXWT": 59.1,
                  "BMXHT": 165.8,
                  "BMXBMI": 21.5,
                  "BMXLEG": 38.2,
                  "BMXARML": 37,
                  "BMXARMC": 29.5,
                  "BMXWAIST": "95.0",
                  "HIQ210": 2,
                  "_deepnote_index_column": 5730
                },
                {
                  "SEQN": 93696,
                  "ALQ101": "2.0",
                  "ALQ110": "2.0",
                  "ALQ130": "nan",
                  "SMQ020": "No",
                  "RIAGENDR": "Male",
                  "RIDAGEYR": 26,
                  "RIDRETH1": 3,
                  "DMDCITZN": 1,
                  "DMDEDUC2": 5,
                  "DMDMARTL": 1,
                  "DMDHHSIZ": 3,
                  "WTINT2YR": 122920.6,
                  "SDMVPSU": 1,
                  "SDMVSTRA": 121,
                  "INDFMPIR": "2.99",
                  "BPXSY1": "118.0",
                  "BPXDI1": "68.0",
                  "BPXSY2": "116.0",
                  "BPXDI2": "76.0",
                  "BMXWT": 112.1,
                  "BMXHT": 182.2,
                  "BMXBMI": 33.8,
                  "BMXLEG": 43.4,
                  "BMXARML": 41.8,
                  "BMXARMC": 42.3,
                  "BMXWAIST": "110.2",
                  "HIQ210": 2,
                  "_deepnote_index_column": 5731
                },
                {
                  "SEQN": 93697,
                  "ALQ101": "1.0",
                  "ALQ110": "nan",
                  "ALQ130": "1.0",
                  "SMQ020": "Yes",
                  "RIAGENDR": "Female",
                  "RIDAGEYR": 80,
                  "RIDRETH1": 3,
                  "DMDCITZN": 1,
                  "DMDEDUC2": 4,
                  "DMDMARTL": 2,
                  "DMDHHSIZ": 1,
                  "WTINT2YR": 49050.06,
                  "SDMVPSU": 2,
                  "SDMVSTRA": 132,
                  "INDFMPIR": "2.97",
                  "BPXSY1": "154.0",
                  "BPXDI1": "56.0",
                  "BPXSY2": "146.0",
                  "BPXDI2": "58.0",
                  "BMXWT": 71.7,
                  "BMXHT": 152.2,
                  "BMXBMI": 31,
                  "BMXLEG": 31.3,
                  "BMXARML": 37.5,
                  "BMXARMC": 28.8,
                  "BMXWAIST": "nan",
                  "HIQ210": 2,
                  "_deepnote_index_column": 5732
                },
                {
                  "SEQN": 93700,
                  "ALQ101": "nan",
                  "ALQ110": "nan",
                  "ALQ130": "nan",
                  "SMQ020": "Yes",
                  "RIAGENDR": "Male",
                  "RIDAGEYR": 35,
                  "RIDRETH1": 3,
                  "DMDCITZN": 2,
                  "DMDEDUC2": 1,
                  "DMDMARTL": 1,
                  "DMDHHSIZ": 5,
                  "WTINT2YR": 42314.29,
                  "SDMVPSU": 1,
                  "SDMVSTRA": 126,
                  "INDFMPIR": "0.0",
                  "BPXSY1": "104.0",
                  "BPXDI1": "62.0",
                  "BPXSY2": "106.0",
                  "BPXDI2": "66.0",
                  "BMXWT": 78.2,
                  "BMXHT": 173.3,
                  "BMXBMI": 26,
                  "BMXLEG": 40.3,
                  "BMXARML": 37.5,
                  "BMXARMC": 30.6,
                  "BMXWAIST": "98.9",
                  "HIQ210": 2,
                  "_deepnote_index_column": 5733
                },
                {
                  "SEQN": 93702,
                  "ALQ101": "1.0",
                  "ALQ110": "nan",
                  "ALQ130": "2.0",
                  "SMQ020": "No",
                  "RIAGENDR": "Female",
                  "RIDAGEYR": 24,
                  "RIDRETH1": 3,
                  "DMDCITZN": 1,
                  "DMDEDUC2": 5,
                  "DMDMARTL": 5,
                  "DMDHHSIZ": 3,
                  "WTINT2YR": 107361.91,
                  "SDMVPSU": 2,
                  "SDMVSTRA": 119,
                  "INDFMPIR": "3.54",
                  "BPXSY1": "118.0",
                  "BPXDI1": "66.0",
                  "BPXSY2": "114.0",
                  "BPXDI2": "68.0",
                  "BMXWT": 58.3,
                  "BMXHT": 165,
                  "BMXBMI": 21.4,
                  "BMXLEG": 38.2,
                  "BMXARML": 33.5,
                  "BMXARMC": 26.2,
                  "BMXWAIST": "72.5",
                  "HIQ210": 2,
                  "_deepnote_index_column": 5734
                }
              ]
            },
            "text/plain": "       SEQN  ALQ101  ALQ110  ALQ130 SMQ020 RIAGENDR  RIDAGEYR  RIDRETH1  \\\n0     83732     1.0     NaN     1.0    Yes     Male        62         3   \n1     83733     1.0     NaN     6.0    Yes     Male        53         3   \n2     83734     1.0     NaN     NaN    Yes     Male        78         3   \n3     83735     2.0     1.0     1.0     No   Female        56         3   \n4     83736     2.0     1.0     1.0     No   Female        42         4   \n...     ...     ...     ...     ...    ...      ...       ...       ...   \n5730  93695     2.0     2.0     NaN    Yes   Female        76         3   \n5731  93696     2.0     2.0     NaN     No     Male        26         3   \n5732  93697     1.0     NaN     1.0    Yes   Female        80         3   \n5733  93700     NaN     NaN     NaN    Yes     Male        35         3   \n5734  93702     1.0     NaN     2.0     No   Female        24         3   \n\n      DMDCITZN  DMDEDUC2  ...  BPXSY2  BPXDI2  BMXWT  BMXHT  BMXBMI  BMXLEG  \\\n0          1.0       5.0  ...   124.0    64.0   94.8  184.5    27.8    43.3   \n1          2.0       3.0  ...   140.0    88.0   90.4  171.4    30.8    38.0   \n2          1.0       3.0  ...   132.0    44.0   83.4  170.1    28.8    35.6   \n3          1.0       5.0  ...   134.0    68.0  109.8  160.9    42.4    38.5   \n4          1.0       4.0  ...   114.0    54.0   55.2  164.9    20.3    37.4   \n...        ...       ...  ...     ...     ...    ...    ...     ...     ...   \n5730       1.0       3.0  ...   112.0    46.0   59.1  165.8    21.5    38.2   \n5731       1.0       5.0  ...   116.0    76.0  112.1  182.2    33.8    43.4   \n5732       1.0       4.0  ...   146.0    58.0   71.7  152.2    31.0    31.3   \n5733       2.0       1.0  ...   106.0    66.0   78.2  173.3    26.0    40.3   \n5734       1.0       5.0  ...   114.0    68.0   58.3  165.0    21.4    38.2   \n\n      BMXARML  BMXARMC  BMXWAIST  HIQ210  \n0        43.6     35.9     101.1     2.0  \n1        40.0     33.2     107.9     NaN  \n2        37.0     31.0     116.5     2.0  \n3        37.7     38.3     110.1     2.0  \n4        36.0     27.2      80.4     2.0  \n...       ...      ...       ...     ...  \n5730     37.0     29.5      95.0     2.0  \n5731     41.8     42.3     110.2     2.0  \n5732     37.5     28.8       NaN     2.0  \n5733     37.5     30.6      98.9     2.0  \n5734     33.5     26.2      72.5     2.0  \n\n[5735 rows x 28 columns]",
            "text/html": "<div>\n<style scoped>\n    .dataframe tbody tr th:only-of-type {\n        vertical-align: middle;\n    }\n\n    .dataframe tbody tr th {\n        vertical-align: top;\n    }\n\n    .dataframe thead th {\n        text-align: right;\n    }\n</style>\n<table border=\"1\" class=\"dataframe\">\n  <thead>\n    <tr style=\"text-align: right;\">\n      <th></th>\n      <th>SEQN</th>\n      <th>ALQ101</th>\n      <th>ALQ110</th>\n      <th>ALQ130</th>\n      <th>SMQ020</th>\n      <th>RIAGENDR</th>\n      <th>RIDAGEYR</th>\n      <th>RIDRETH1</th>\n      <th>DMDCITZN</th>\n      <th>DMDEDUC2</th>\n      <th>...</th>\n      <th>BPXSY2</th>\n      <th>BPXDI2</th>\n      <th>BMXWT</th>\n      <th>BMXHT</th>\n      <th>BMXBMI</th>\n      <th>BMXLEG</th>\n      <th>BMXARML</th>\n      <th>BMXARMC</th>\n      <th>BMXWAIST</th>\n      <th>HIQ210</th>\n    </tr>\n  </thead>\n  <tbody>\n    <tr>\n      <th>0</th>\n      <td>83732</td>\n      <td>1.0</td>\n      <td>NaN</td>\n      <td>1.0</td>\n      <td>Yes</td>\n      <td>Male</td>\n      <td>62</td>\n      <td>3</td>\n      <td>1.0</td>\n      <td>5.0</td>\n      <td>...</td>\n      <td>124.0</td>\n      <td>64.0</td>\n      <td>94.8</td>\n      <td>184.5</td>\n      <td>27.8</td>\n      <td>43.3</td>\n      <td>43.6</td>\n      <td>35.9</td>\n      <td>101.1</td>\n      <td>2.0</td>\n    </tr>\n    <tr>\n      <th>1</th>\n      <td>83733</td>\n      <td>1.0</td>\n      <td>NaN</td>\n      <td>6.0</td>\n      <td>Yes</td>\n      <td>Male</td>\n      <td>53</td>\n      <td>3</td>\n      <td>2.0</td>\n      <td>3.0</td>\n      <td>...</td>\n      <td>140.0</td>\n      <td>88.0</td>\n      <td>90.4</td>\n      <td>171.4</td>\n      <td>30.8</td>\n      <td>38.0</td>\n      <td>40.0</td>\n      <td>33.2</td>\n      <td>107.9</td>\n      <td>NaN</td>\n    </tr>\n    <tr>\n      <th>2</th>\n      <td>83734</td>\n      <td>1.0</td>\n      <td>NaN</td>\n      <td>NaN</td>\n      <td>Yes</td>\n      <td>Male</td>\n      <td>78</td>\n      <td>3</td>\n      <td>1.0</td>\n      <td>3.0</td>\n      <td>...</td>\n      <td>132.0</td>\n      <td>44.0</td>\n      <td>83.4</td>\n      <td>170.1</td>\n      <td>28.8</td>\n      <td>35.6</td>\n      <td>37.0</td>\n      <td>31.0</td>\n      <td>116.5</td>\n      <td>2.0</td>\n    </tr>\n    <tr>\n      <th>3</th>\n      <td>83735</td>\n      <td>2.0</td>\n      <td>1.0</td>\n      <td>1.0</td>\n      <td>No</td>\n      <td>Female</td>\n      <td>56</td>\n      <td>3</td>\n      <td>1.0</td>\n      <td>5.0</td>\n      <td>...</td>\n      <td>134.0</td>\n      <td>68.0</td>\n      <td>109.8</td>\n      <td>160.9</td>\n      <td>42.4</td>\n      <td>38.5</td>\n      <td>37.7</td>\n      <td>38.3</td>\n      <td>110.1</td>\n      <td>2.0</td>\n    </tr>\n    <tr>\n      <th>4</th>\n      <td>83736</td>\n      <td>2.0</td>\n      <td>1.0</td>\n      <td>1.0</td>\n      <td>No</td>\n      <td>Female</td>\n      <td>42</td>\n      <td>4</td>\n      <td>1.0</td>\n      <td>4.0</td>\n      <td>...</td>\n      <td>114.0</td>\n      <td>54.0</td>\n      <td>55.2</td>\n      <td>164.9</td>\n      <td>20.3</td>\n      <td>37.4</td>\n      <td>36.0</td>\n      <td>27.2</td>\n      <td>80.4</td>\n      <td>2.0</td>\n    </tr>\n    <tr>\n      <th>...</th>\n      <td>...</td>\n      <td>...</td>\n      <td>...</td>\n      <td>...</td>\n      <td>...</td>\n      <td>...</td>\n      <td>...</td>\n      <td>...</td>\n      <td>...</td>\n      <td>...</td>\n      <td>...</td>\n      <td>...</td>\n      <td>...</td>\n      <td>...</td>\n      <td>...</td>\n      <td>...</td>\n      <td>...</td>\n      <td>...</td>\n      <td>...</td>\n      <td>...</td>\n      <td>...</td>\n    </tr>\n    <tr>\n      <th>5730</th>\n      <td>93695</td>\n      <td>2.0</td>\n      <td>2.0</td>\n      <td>NaN</td>\n      <td>Yes</td>\n      <td>Female</td>\n      <td>76</td>\n      <td>3</td>\n      <td>1.0</td>\n      <td>3.0</td>\n      <td>...</td>\n      <td>112.0</td>\n      <td>46.0</td>\n      <td>59.1</td>\n      <td>165.8</td>\n      <td>21.5</td>\n      <td>38.2</td>\n      <td>37.0</td>\n      <td>29.5</td>\n      <td>95.0</td>\n      <td>2.0</td>\n    </tr>\n    <tr>\n      <th>5731</th>\n      <td>93696</td>\n      <td>2.0</td>\n      <td>2.0</td>\n      <td>NaN</td>\n      <td>No</td>\n      <td>Male</td>\n      <td>26</td>\n      <td>3</td>\n      <td>1.0</td>\n      <td>5.0</td>\n      <td>...</td>\n      <td>116.0</td>\n      <td>76.0</td>\n      <td>112.1</td>\n      <td>182.2</td>\n      <td>33.8</td>\n      <td>43.4</td>\n      <td>41.8</td>\n      <td>42.3</td>\n      <td>110.2</td>\n      <td>2.0</td>\n    </tr>\n    <tr>\n      <th>5732</th>\n      <td>93697</td>\n      <td>1.0</td>\n      <td>NaN</td>\n      <td>1.0</td>\n      <td>Yes</td>\n      <td>Female</td>\n      <td>80</td>\n      <td>3</td>\n      <td>1.0</td>\n      <td>4.0</td>\n      <td>...</td>\n      <td>146.0</td>\n      <td>58.0</td>\n      <td>71.7</td>\n      <td>152.2</td>\n      <td>31.0</td>\n      <td>31.3</td>\n      <td>37.5</td>\n      <td>28.8</td>\n      <td>NaN</td>\n      <td>2.0</td>\n    </tr>\n    <tr>\n      <th>5733</th>\n      <td>93700</td>\n      <td>NaN</td>\n      <td>NaN</td>\n      <td>NaN</td>\n      <td>Yes</td>\n      <td>Male</td>\n      <td>35</td>\n      <td>3</td>\n      <td>2.0</td>\n      <td>1.0</td>\n      <td>...</td>\n      <td>106.0</td>\n      <td>66.0</td>\n      <td>78.2</td>\n      <td>173.3</td>\n      <td>26.0</td>\n      <td>40.3</td>\n      <td>37.5</td>\n      <td>30.6</td>\n      <td>98.9</td>\n      <td>2.0</td>\n    </tr>\n    <tr>\n      <th>5734</th>\n      <td>93702</td>\n      <td>1.0</td>\n      <td>NaN</td>\n      <td>2.0</td>\n      <td>No</td>\n      <td>Female</td>\n      <td>24</td>\n      <td>3</td>\n      <td>1.0</td>\n      <td>5.0</td>\n      <td>...</td>\n      <td>114.0</td>\n      <td>68.0</td>\n      <td>58.3</td>\n      <td>165.0</td>\n      <td>21.4</td>\n      <td>38.2</td>\n      <td>33.5</td>\n      <td>26.2</td>\n      <td>72.5</td>\n      <td>2.0</td>\n    </tr>\n  </tbody>\n</table>\n<p>5735 rows × 28 columns</p>\n</div>"
          },
          "metadata": {}
        }
      ],
      "execution_count": 36
    },
    {
      "cell_type": "markdown",
      "source": "Hypothesis proportion males smoking = proportion females smoking\nAlternative is they are not equal.\n\nTwo population difference in proportions test. T-test for two proportions.",
      "metadata": {
        "cell_id": "00006-82e17686-1e8b-4891-8d1c-d85886987b8d",
        "deepnote_cell_type": "markdown"
      }
    },
    {
      "cell_type": "code",
      "source": "da.groupby(\"RIAGENDR\")[\"SMQ020\"].agg([lambda z: np.mean(z==\"Yes\"),\"size\"])",
      "metadata": {
        "tags": [],
        "cell_id": "00008-106ff21b-89f5-48af-8b06-fb4f6330d0c5",
        "deepnote_to_be_reexecuted": false,
        "source_hash": "5d8ade9",
        "execution_millis": 66,
        "execution_start": 1617975496919,
        "deepnote_cell_type": "code"
      },
      "outputs": [
        {
          "output_type": "execute_result",
          "execution_count": 17,
          "data": {
            "application/vnd.deepnote.dataframe.v2+json": {
              "row_count": 2,
              "column_count": 2,
              "columns": [
                {
                  "name": "<lambda_0>",
                  "dtype": "float64",
                  "stats": {
                    "unique_count": 2,
                    "nan_count": 0,
                    "min": 0.30443548387096775,
                    "max": 0.5121420804639362,
                    "histogram": [
                      {
                        "bin_start": 0.30443548387096775,
                        "bin_end": 0.3252061435302646,
                        "count": 1
                      },
                      {
                        "bin_start": 0.3252061435302646,
                        "bin_end": 0.3459768031895614,
                        "count": 0
                      },
                      {
                        "bin_start": 0.3459768031895614,
                        "bin_end": 0.3667474628488583,
                        "count": 0
                      },
                      {
                        "bin_start": 0.3667474628488583,
                        "bin_end": 0.3875181225081551,
                        "count": 0
                      },
                      {
                        "bin_start": 0.3875181225081551,
                        "bin_end": 0.40828878216745196,
                        "count": 0
                      },
                      {
                        "bin_start": 0.40828878216745196,
                        "bin_end": 0.4290594418267488,
                        "count": 0
                      },
                      {
                        "bin_start": 0.4290594418267488,
                        "bin_end": 0.44983010148604563,
                        "count": 0
                      },
                      {
                        "bin_start": 0.44983010148604563,
                        "bin_end": 0.4706007611453425,
                        "count": 0
                      },
                      {
                        "bin_start": 0.4706007611453425,
                        "bin_end": 0.49137142080463936,
                        "count": 0
                      },
                      {
                        "bin_start": 0.49137142080463936,
                        "bin_end": 0.5121420804639362,
                        "count": 1
                      }
                    ]
                  }
                },
                {
                  "name": "size",
                  "dtype": "int64",
                  "stats": {
                    "unique_count": 2,
                    "nan_count": 0,
                    "min": 2759,
                    "max": 2976,
                    "histogram": [
                      {
                        "bin_start": 2759,
                        "bin_end": 2780.7,
                        "count": 1
                      },
                      {
                        "bin_start": 2780.7,
                        "bin_end": 2802.4,
                        "count": 0
                      },
                      {
                        "bin_start": 2802.4,
                        "bin_end": 2824.1,
                        "count": 0
                      },
                      {
                        "bin_start": 2824.1,
                        "bin_end": 2845.8,
                        "count": 0
                      },
                      {
                        "bin_start": 2845.8,
                        "bin_end": 2867.5,
                        "count": 0
                      },
                      {
                        "bin_start": 2867.5,
                        "bin_end": 2889.2,
                        "count": 0
                      },
                      {
                        "bin_start": 2889.2,
                        "bin_end": 2910.9,
                        "count": 0
                      },
                      {
                        "bin_start": 2910.9,
                        "bin_end": 2932.6,
                        "count": 0
                      },
                      {
                        "bin_start": 2932.6,
                        "bin_end": 2954.3,
                        "count": 0
                      },
                      {
                        "bin_start": 2954.3,
                        "bin_end": 2976,
                        "count": 1
                      }
                    ]
                  }
                },
                {
                  "name": "_deepnote_index_column",
                  "dtype": "object"
                }
              ],
              "rows_top": [
                {
                  "<lambda_0>": 0.30443548387096775,
                  "size": 2976,
                  "_deepnote_index_column": "Female"
                },
                {
                  "<lambda_0>": 0.5121420804639362,
                  "size": 2759,
                  "_deepnote_index_column": "Male"
                }
              ],
              "rows_bottom": null
            },
            "text/plain": "          <lambda_0>  size\nRIAGENDR                  \nFemale      0.304435  2976\nMale        0.512142  2759",
            "text/html": "<div>\n<style scoped>\n    .dataframe tbody tr th:only-of-type {\n        vertical-align: middle;\n    }\n\n    .dataframe tbody tr th {\n        vertical-align: top;\n    }\n\n    .dataframe thead th {\n        text-align: right;\n    }\n</style>\n<table border=\"1\" class=\"dataframe\">\n  <thead>\n    <tr style=\"text-align: right;\">\n      <th></th>\n      <th>&lt;lambda_0&gt;</th>\n      <th>size</th>\n    </tr>\n    <tr>\n      <th>RIAGENDR</th>\n      <th></th>\n      <th></th>\n    </tr>\n  </thead>\n  <tbody>\n    <tr>\n      <th>Female</th>\n      <td>0.304435</td>\n      <td>2976</td>\n    </tr>\n    <tr>\n      <th>Male</th>\n      <td>0.512142</td>\n      <td>2759</td>\n    </tr>\n  </tbody>\n</table>\n</div>"
          },
          "metadata": {}
        }
      ],
      "execution_count": 17
    },
    {
      "cell_type": "code",
      "metadata": {
        "cell_id": "00008-2d1a86b2-79af-49e8-964d-9653e4462308",
        "deepnote_to_be_reexecuted": false,
        "source_hash": "53a97660",
        "execution_millis": 1145,
        "execution_start": 1617978031751,
        "deepnote_cell_type": "code"
      },
      "source": "#drop missing values\ndx = da[[\"SMQ020\", \"RIAGENDR\"]].dropna()\ndx.reset_index()\ndx",
      "execution_count": 58,
      "outputs": [
        {
          "output_type": "execute_result",
          "execution_count": 58,
          "data": {
            "application/vnd.deepnote.dataframe.v2+json": {
              "row_count": 5725,
              "column_count": 2,
              "columns": [
                {
                  "name": "SMQ020",
                  "dtype": "object",
                  "stats": {
                    "unique_count": 2,
                    "nan_count": 0,
                    "categories": [
                      {
                        "name": "No",
                        "count": 3406
                      },
                      {
                        "name": "Yes",
                        "count": 2319
                      }
                    ]
                  }
                },
                {
                  "name": "RIAGENDR",
                  "dtype": "object",
                  "stats": {
                    "unique_count": 2,
                    "nan_count": 0,
                    "categories": [
                      {
                        "name": "Female",
                        "count": 2972
                      },
                      {
                        "name": "Male",
                        "count": 2753
                      }
                    ]
                  }
                },
                {
                  "name": "_deepnote_index_column",
                  "dtype": "int64"
                }
              ],
              "rows_top": [
                {
                  "SMQ020": "Yes",
                  "RIAGENDR": "Male",
                  "_deepnote_index_column": 0
                },
                {
                  "SMQ020": "Yes",
                  "RIAGENDR": "Male",
                  "_deepnote_index_column": 1
                },
                {
                  "SMQ020": "Yes",
                  "RIAGENDR": "Male",
                  "_deepnote_index_column": 2
                },
                {
                  "SMQ020": "No",
                  "RIAGENDR": "Female",
                  "_deepnote_index_column": 3
                },
                {
                  "SMQ020": "No",
                  "RIAGENDR": "Female",
                  "_deepnote_index_column": 4
                },
                {
                  "SMQ020": "No",
                  "RIAGENDR": "Female",
                  "_deepnote_index_column": 5
                },
                {
                  "SMQ020": "Yes",
                  "RIAGENDR": "Male",
                  "_deepnote_index_column": 6
                },
                {
                  "SMQ020": "No",
                  "RIAGENDR": "Female",
                  "_deepnote_index_column": 7
                },
                {
                  "SMQ020": "No",
                  "RIAGENDR": "Male",
                  "_deepnote_index_column": 8
                },
                {
                  "SMQ020": "No",
                  "RIAGENDR": "Male",
                  "_deepnote_index_column": 9
                },
                {
                  "SMQ020": "Yes",
                  "RIAGENDR": "Male",
                  "_deepnote_index_column": 10
                },
                {
                  "SMQ020": "Yes",
                  "RIAGENDR": "Male",
                  "_deepnote_index_column": 11
                },
                {
                  "SMQ020": "Yes",
                  "RIAGENDR": "Female",
                  "_deepnote_index_column": 12
                },
                {
                  "SMQ020": "No",
                  "RIAGENDR": "Female",
                  "_deepnote_index_column": 13
                },
                {
                  "SMQ020": "No",
                  "RIAGENDR": "Male",
                  "_deepnote_index_column": 14
                },
                {
                  "SMQ020": "No",
                  "RIAGENDR": "Female",
                  "_deepnote_index_column": 15
                },
                {
                  "SMQ020": "No",
                  "RIAGENDR": "Female",
                  "_deepnote_index_column": 16
                },
                {
                  "SMQ020": "No",
                  "RIAGENDR": "Female",
                  "_deepnote_index_column": 17
                },
                {
                  "SMQ020": "Yes",
                  "RIAGENDR": "Female",
                  "_deepnote_index_column": 18
                },
                {
                  "SMQ020": "No",
                  "RIAGENDR": "Female",
                  "_deepnote_index_column": 19
                },
                {
                  "SMQ020": "No",
                  "RIAGENDR": "Male",
                  "_deepnote_index_column": 20
                },
                {
                  "SMQ020": "No",
                  "RIAGENDR": "Female",
                  "_deepnote_index_column": 21
                },
                {
                  "SMQ020": "Yes",
                  "RIAGENDR": "Female",
                  "_deepnote_index_column": 22
                },
                {
                  "SMQ020": "No",
                  "RIAGENDR": "Female",
                  "_deepnote_index_column": 23
                },
                {
                  "SMQ020": "No",
                  "RIAGENDR": "Male",
                  "_deepnote_index_column": 24
                },
                {
                  "SMQ020": "No",
                  "RIAGENDR": "Female",
                  "_deepnote_index_column": 25
                },
                {
                  "SMQ020": "Yes",
                  "RIAGENDR": "Male",
                  "_deepnote_index_column": 26
                },
                {
                  "SMQ020": "Yes",
                  "RIAGENDR": "Female",
                  "_deepnote_index_column": 27
                },
                {
                  "SMQ020": "No",
                  "RIAGENDR": "Male",
                  "_deepnote_index_column": 28
                },
                {
                  "SMQ020": "No",
                  "RIAGENDR": "Female",
                  "_deepnote_index_column": 29
                },
                {
                  "SMQ020": "Yes",
                  "RIAGENDR": "Female",
                  "_deepnote_index_column": 30
                },
                {
                  "SMQ020": "No",
                  "RIAGENDR": "Male",
                  "_deepnote_index_column": 31
                },
                {
                  "SMQ020": "Yes",
                  "RIAGENDR": "Male",
                  "_deepnote_index_column": 32
                },
                {
                  "SMQ020": "No",
                  "RIAGENDR": "Female",
                  "_deepnote_index_column": 33
                },
                {
                  "SMQ020": "No",
                  "RIAGENDR": "Female",
                  "_deepnote_index_column": 34
                },
                {
                  "SMQ020": "Yes",
                  "RIAGENDR": "Female",
                  "_deepnote_index_column": 35
                },
                {
                  "SMQ020": "No",
                  "RIAGENDR": "Female",
                  "_deepnote_index_column": 36
                },
                {
                  "SMQ020": "No",
                  "RIAGENDR": "Male",
                  "_deepnote_index_column": 37
                },
                {
                  "SMQ020": "No",
                  "RIAGENDR": "Female",
                  "_deepnote_index_column": 38
                },
                {
                  "SMQ020": "No",
                  "RIAGENDR": "Female",
                  "_deepnote_index_column": 39
                },
                {
                  "SMQ020": "Yes",
                  "RIAGENDR": "Male",
                  "_deepnote_index_column": 40
                },
                {
                  "SMQ020": "No",
                  "RIAGENDR": "Male",
                  "_deepnote_index_column": 41
                },
                {
                  "SMQ020": "No",
                  "RIAGENDR": "Male",
                  "_deepnote_index_column": 42
                },
                {
                  "SMQ020": "No",
                  "RIAGENDR": "Female",
                  "_deepnote_index_column": 43
                },
                {
                  "SMQ020": "Yes",
                  "RIAGENDR": "Male",
                  "_deepnote_index_column": 44
                },
                {
                  "SMQ020": "Yes",
                  "RIAGENDR": "Male",
                  "_deepnote_index_column": 45
                },
                {
                  "SMQ020": "No",
                  "RIAGENDR": "Female",
                  "_deepnote_index_column": 46
                },
                {
                  "SMQ020": "No",
                  "RIAGENDR": "Female",
                  "_deepnote_index_column": 47
                },
                {
                  "SMQ020": "No",
                  "RIAGENDR": "Male",
                  "_deepnote_index_column": 48
                },
                {
                  "SMQ020": "Yes",
                  "RIAGENDR": "Male",
                  "_deepnote_index_column": 49
                },
                {
                  "SMQ020": "No",
                  "RIAGENDR": "Female",
                  "_deepnote_index_column": 50
                },
                {
                  "SMQ020": "No",
                  "RIAGENDR": "Male",
                  "_deepnote_index_column": 51
                },
                {
                  "SMQ020": "No",
                  "RIAGENDR": "Female",
                  "_deepnote_index_column": 52
                },
                {
                  "SMQ020": "Yes",
                  "RIAGENDR": "Male",
                  "_deepnote_index_column": 53
                },
                {
                  "SMQ020": "No",
                  "RIAGENDR": "Female",
                  "_deepnote_index_column": 54
                },
                {
                  "SMQ020": "No",
                  "RIAGENDR": "Female",
                  "_deepnote_index_column": 55
                },
                {
                  "SMQ020": "Yes",
                  "RIAGENDR": "Male",
                  "_deepnote_index_column": 56
                },
                {
                  "SMQ020": "No",
                  "RIAGENDR": "Male",
                  "_deepnote_index_column": 57
                },
                {
                  "SMQ020": "Yes",
                  "RIAGENDR": "Female",
                  "_deepnote_index_column": 58
                },
                {
                  "SMQ020": "No",
                  "RIAGENDR": "Male",
                  "_deepnote_index_column": 59
                },
                {
                  "SMQ020": "Yes",
                  "RIAGENDR": "Male",
                  "_deepnote_index_column": 60
                },
                {
                  "SMQ020": "Yes",
                  "RIAGENDR": "Female",
                  "_deepnote_index_column": 61
                },
                {
                  "SMQ020": "No",
                  "RIAGENDR": "Female",
                  "_deepnote_index_column": 62
                },
                {
                  "SMQ020": "No",
                  "RIAGENDR": "Female",
                  "_deepnote_index_column": 63
                },
                {
                  "SMQ020": "Yes",
                  "RIAGENDR": "Male",
                  "_deepnote_index_column": 64
                },
                {
                  "SMQ020": "No",
                  "RIAGENDR": "Female",
                  "_deepnote_index_column": 65
                },
                {
                  "SMQ020": "Yes",
                  "RIAGENDR": "Male",
                  "_deepnote_index_column": 66
                },
                {
                  "SMQ020": "No",
                  "RIAGENDR": "Female",
                  "_deepnote_index_column": 67
                },
                {
                  "SMQ020": "No",
                  "RIAGENDR": "Male",
                  "_deepnote_index_column": 68
                },
                {
                  "SMQ020": "Yes",
                  "RIAGENDR": "Female",
                  "_deepnote_index_column": 69
                },
                {
                  "SMQ020": "Yes",
                  "RIAGENDR": "Male",
                  "_deepnote_index_column": 70
                },
                {
                  "SMQ020": "Yes",
                  "RIAGENDR": "Female",
                  "_deepnote_index_column": 71
                },
                {
                  "SMQ020": "Yes",
                  "RIAGENDR": "Male",
                  "_deepnote_index_column": 72
                },
                {
                  "SMQ020": "No",
                  "RIAGENDR": "Female",
                  "_deepnote_index_column": 73
                },
                {
                  "SMQ020": "No",
                  "RIAGENDR": "Male",
                  "_deepnote_index_column": 74
                },
                {
                  "SMQ020": "Yes",
                  "RIAGENDR": "Male",
                  "_deepnote_index_column": 75
                },
                {
                  "SMQ020": "No",
                  "RIAGENDR": "Female",
                  "_deepnote_index_column": 76
                },
                {
                  "SMQ020": "Yes",
                  "RIAGENDR": "Female",
                  "_deepnote_index_column": 77
                },
                {
                  "SMQ020": "No",
                  "RIAGENDR": "Female",
                  "_deepnote_index_column": 78
                },
                {
                  "SMQ020": "No",
                  "RIAGENDR": "Female",
                  "_deepnote_index_column": 79
                },
                {
                  "SMQ020": "No",
                  "RIAGENDR": "Female",
                  "_deepnote_index_column": 80
                },
                {
                  "SMQ020": "Yes",
                  "RIAGENDR": "Male",
                  "_deepnote_index_column": 81
                },
                {
                  "SMQ020": "No",
                  "RIAGENDR": "Female",
                  "_deepnote_index_column": 82
                },
                {
                  "SMQ020": "Yes",
                  "RIAGENDR": "Male",
                  "_deepnote_index_column": 83
                },
                {
                  "SMQ020": "No",
                  "RIAGENDR": "Female",
                  "_deepnote_index_column": 84
                },
                {
                  "SMQ020": "Yes",
                  "RIAGENDR": "Male",
                  "_deepnote_index_column": 85
                },
                {
                  "SMQ020": "No",
                  "RIAGENDR": "Female",
                  "_deepnote_index_column": 86
                },
                {
                  "SMQ020": "No",
                  "RIAGENDR": "Female",
                  "_deepnote_index_column": 87
                },
                {
                  "SMQ020": "Yes",
                  "RIAGENDR": "Male",
                  "_deepnote_index_column": 88
                },
                {
                  "SMQ020": "No",
                  "RIAGENDR": "Female",
                  "_deepnote_index_column": 89
                },
                {
                  "SMQ020": "Yes",
                  "RIAGENDR": "Female",
                  "_deepnote_index_column": 90
                },
                {
                  "SMQ020": "Yes",
                  "RIAGENDR": "Male",
                  "_deepnote_index_column": 91
                },
                {
                  "SMQ020": "No",
                  "RIAGENDR": "Male",
                  "_deepnote_index_column": 92
                },
                {
                  "SMQ020": "Yes",
                  "RIAGENDR": "Female",
                  "_deepnote_index_column": 93
                },
                {
                  "SMQ020": "No",
                  "RIAGENDR": "Male",
                  "_deepnote_index_column": 94
                },
                {
                  "SMQ020": "Yes",
                  "RIAGENDR": "Female",
                  "_deepnote_index_column": 95
                },
                {
                  "SMQ020": "No",
                  "RIAGENDR": "Male",
                  "_deepnote_index_column": 96
                },
                {
                  "SMQ020": "No",
                  "RIAGENDR": "Male",
                  "_deepnote_index_column": 97
                },
                {
                  "SMQ020": "Yes",
                  "RIAGENDR": "Female",
                  "_deepnote_index_column": 98
                },
                {
                  "SMQ020": "Yes",
                  "RIAGENDR": "Male",
                  "_deepnote_index_column": 99
                },
                {
                  "SMQ020": "No",
                  "RIAGENDR": "Female",
                  "_deepnote_index_column": 100
                },
                {
                  "SMQ020": "No",
                  "RIAGENDR": "Male",
                  "_deepnote_index_column": 101
                },
                {
                  "SMQ020": "Yes",
                  "RIAGENDR": "Female",
                  "_deepnote_index_column": 102
                },
                {
                  "SMQ020": "Yes",
                  "RIAGENDR": "Male",
                  "_deepnote_index_column": 103
                },
                {
                  "SMQ020": "Yes",
                  "RIAGENDR": "Male",
                  "_deepnote_index_column": 104
                },
                {
                  "SMQ020": "No",
                  "RIAGENDR": "Female",
                  "_deepnote_index_column": 105
                },
                {
                  "SMQ020": "Yes",
                  "RIAGENDR": "Female",
                  "_deepnote_index_column": 106
                },
                {
                  "SMQ020": "No",
                  "RIAGENDR": "Female",
                  "_deepnote_index_column": 107
                },
                {
                  "SMQ020": "Yes",
                  "RIAGENDR": "Male",
                  "_deepnote_index_column": 108
                },
                {
                  "SMQ020": "No",
                  "RIAGENDR": "Female",
                  "_deepnote_index_column": 109
                },
                {
                  "SMQ020": "Yes",
                  "RIAGENDR": "Male",
                  "_deepnote_index_column": 110
                },
                {
                  "SMQ020": "No",
                  "RIAGENDR": "Female",
                  "_deepnote_index_column": 111
                },
                {
                  "SMQ020": "Yes",
                  "RIAGENDR": "Female",
                  "_deepnote_index_column": 112
                },
                {
                  "SMQ020": "No",
                  "RIAGENDR": "Female",
                  "_deepnote_index_column": 113
                },
                {
                  "SMQ020": "No",
                  "RIAGENDR": "Female",
                  "_deepnote_index_column": 114
                },
                {
                  "SMQ020": "Yes",
                  "RIAGENDR": "Female",
                  "_deepnote_index_column": 115
                },
                {
                  "SMQ020": "Yes",
                  "RIAGENDR": "Male",
                  "_deepnote_index_column": 116
                },
                {
                  "SMQ020": "Yes",
                  "RIAGENDR": "Male",
                  "_deepnote_index_column": 117
                },
                {
                  "SMQ020": "Yes",
                  "RIAGENDR": "Male",
                  "_deepnote_index_column": 118
                },
                {
                  "SMQ020": "Yes",
                  "RIAGENDR": "Male",
                  "_deepnote_index_column": 119
                },
                {
                  "SMQ020": "No",
                  "RIAGENDR": "Female",
                  "_deepnote_index_column": 120
                },
                {
                  "SMQ020": "No",
                  "RIAGENDR": "Female",
                  "_deepnote_index_column": 121
                },
                {
                  "SMQ020": "Yes",
                  "RIAGENDR": "Male",
                  "_deepnote_index_column": 122
                },
                {
                  "SMQ020": "Yes",
                  "RIAGENDR": "Male",
                  "_deepnote_index_column": 123
                },
                {
                  "SMQ020": "No",
                  "RIAGENDR": "Female",
                  "_deepnote_index_column": 124
                },
                {
                  "SMQ020": "Yes",
                  "RIAGENDR": "Male",
                  "_deepnote_index_column": 125
                },
                {
                  "SMQ020": "No",
                  "RIAGENDR": "Male",
                  "_deepnote_index_column": 126
                },
                {
                  "SMQ020": "Yes",
                  "RIAGENDR": "Female",
                  "_deepnote_index_column": 127
                },
                {
                  "SMQ020": "No",
                  "RIAGENDR": "Female",
                  "_deepnote_index_column": 128
                },
                {
                  "SMQ020": "No",
                  "RIAGENDR": "Female",
                  "_deepnote_index_column": 129
                },
                {
                  "SMQ020": "No",
                  "RIAGENDR": "Female",
                  "_deepnote_index_column": 130
                },
                {
                  "SMQ020": "No",
                  "RIAGENDR": "Female",
                  "_deepnote_index_column": 131
                },
                {
                  "SMQ020": "No",
                  "RIAGENDR": "Female",
                  "_deepnote_index_column": 132
                },
                {
                  "SMQ020": "Yes",
                  "RIAGENDR": "Male",
                  "_deepnote_index_column": 133
                },
                {
                  "SMQ020": "No",
                  "RIAGENDR": "Male",
                  "_deepnote_index_column": 134
                },
                {
                  "SMQ020": "Yes",
                  "RIAGENDR": "Male",
                  "_deepnote_index_column": 135
                },
                {
                  "SMQ020": "No",
                  "RIAGENDR": "Female",
                  "_deepnote_index_column": 136
                },
                {
                  "SMQ020": "Yes",
                  "RIAGENDR": "Female",
                  "_deepnote_index_column": 137
                },
                {
                  "SMQ020": "Yes",
                  "RIAGENDR": "Male",
                  "_deepnote_index_column": 138
                },
                {
                  "SMQ020": "No",
                  "RIAGENDR": "Female",
                  "_deepnote_index_column": 139
                },
                {
                  "SMQ020": "Yes",
                  "RIAGENDR": "Male",
                  "_deepnote_index_column": 140
                },
                {
                  "SMQ020": "No",
                  "RIAGENDR": "Female",
                  "_deepnote_index_column": 141
                },
                {
                  "SMQ020": "No",
                  "RIAGENDR": "Male",
                  "_deepnote_index_column": 142
                },
                {
                  "SMQ020": "No",
                  "RIAGENDR": "Male",
                  "_deepnote_index_column": 143
                },
                {
                  "SMQ020": "Yes",
                  "RIAGENDR": "Male",
                  "_deepnote_index_column": 144
                },
                {
                  "SMQ020": "Yes",
                  "RIAGENDR": "Male",
                  "_deepnote_index_column": 145
                },
                {
                  "SMQ020": "Yes",
                  "RIAGENDR": "Male",
                  "_deepnote_index_column": 146
                },
                {
                  "SMQ020": "Yes",
                  "RIAGENDR": "Female",
                  "_deepnote_index_column": 147
                },
                {
                  "SMQ020": "No",
                  "RIAGENDR": "Female",
                  "_deepnote_index_column": 148
                },
                {
                  "SMQ020": "Yes",
                  "RIAGENDR": "Male",
                  "_deepnote_index_column": 149
                },
                {
                  "SMQ020": "No",
                  "RIAGENDR": "Female",
                  "_deepnote_index_column": 150
                },
                {
                  "SMQ020": "No",
                  "RIAGENDR": "Female",
                  "_deepnote_index_column": 151
                },
                {
                  "SMQ020": "No",
                  "RIAGENDR": "Male",
                  "_deepnote_index_column": 152
                },
                {
                  "SMQ020": "Yes",
                  "RIAGENDR": "Female",
                  "_deepnote_index_column": 153
                },
                {
                  "SMQ020": "Yes",
                  "RIAGENDR": "Female",
                  "_deepnote_index_column": 154
                },
                {
                  "SMQ020": "Yes",
                  "RIAGENDR": "Male",
                  "_deepnote_index_column": 155
                },
                {
                  "SMQ020": "Yes",
                  "RIAGENDR": "Female",
                  "_deepnote_index_column": 156
                },
                {
                  "SMQ020": "Yes",
                  "RIAGENDR": "Male",
                  "_deepnote_index_column": 157
                },
                {
                  "SMQ020": "No",
                  "RIAGENDR": "Male",
                  "_deepnote_index_column": 158
                },
                {
                  "SMQ020": "Yes",
                  "RIAGENDR": "Female",
                  "_deepnote_index_column": 159
                },
                {
                  "SMQ020": "No",
                  "RIAGENDR": "Female",
                  "_deepnote_index_column": 160
                },
                {
                  "SMQ020": "No",
                  "RIAGENDR": "Female",
                  "_deepnote_index_column": 161
                },
                {
                  "SMQ020": "Yes",
                  "RIAGENDR": "Male",
                  "_deepnote_index_column": 162
                },
                {
                  "SMQ020": "No",
                  "RIAGENDR": "Male",
                  "_deepnote_index_column": 163
                },
                {
                  "SMQ020": "No",
                  "RIAGENDR": "Male",
                  "_deepnote_index_column": 164
                },
                {
                  "SMQ020": "No",
                  "RIAGENDR": "Male",
                  "_deepnote_index_column": 165
                },
                {
                  "SMQ020": "No",
                  "RIAGENDR": "Female",
                  "_deepnote_index_column": 166
                },
                {
                  "SMQ020": "Yes",
                  "RIAGENDR": "Male",
                  "_deepnote_index_column": 167
                },
                {
                  "SMQ020": "No",
                  "RIAGENDR": "Male",
                  "_deepnote_index_column": 168
                },
                {
                  "SMQ020": "No",
                  "RIAGENDR": "Female",
                  "_deepnote_index_column": 169
                },
                {
                  "SMQ020": "No",
                  "RIAGENDR": "Female",
                  "_deepnote_index_column": 170
                },
                {
                  "SMQ020": "Yes",
                  "RIAGENDR": "Female",
                  "_deepnote_index_column": 171
                },
                {
                  "SMQ020": "No",
                  "RIAGENDR": "Female",
                  "_deepnote_index_column": 172
                },
                {
                  "SMQ020": "No",
                  "RIAGENDR": "Male",
                  "_deepnote_index_column": 173
                },
                {
                  "SMQ020": "No",
                  "RIAGENDR": "Female",
                  "_deepnote_index_column": 174
                },
                {
                  "SMQ020": "No",
                  "RIAGENDR": "Female",
                  "_deepnote_index_column": 175
                },
                {
                  "SMQ020": "No",
                  "RIAGENDR": "Male",
                  "_deepnote_index_column": 176
                },
                {
                  "SMQ020": "Yes",
                  "RIAGENDR": "Male",
                  "_deepnote_index_column": 177
                },
                {
                  "SMQ020": "Yes",
                  "RIAGENDR": "Female",
                  "_deepnote_index_column": 178
                },
                {
                  "SMQ020": "Yes",
                  "RIAGENDR": "Female",
                  "_deepnote_index_column": 179
                },
                {
                  "SMQ020": "No",
                  "RIAGENDR": "Male",
                  "_deepnote_index_column": 180
                },
                {
                  "SMQ020": "No",
                  "RIAGENDR": "Male",
                  "_deepnote_index_column": 181
                },
                {
                  "SMQ020": "No",
                  "RIAGENDR": "Female",
                  "_deepnote_index_column": 182
                },
                {
                  "SMQ020": "No",
                  "RIAGENDR": "Male",
                  "_deepnote_index_column": 183
                },
                {
                  "SMQ020": "No",
                  "RIAGENDR": "Female",
                  "_deepnote_index_column": 184
                },
                {
                  "SMQ020": "Yes",
                  "RIAGENDR": "Male",
                  "_deepnote_index_column": 185
                },
                {
                  "SMQ020": "No",
                  "RIAGENDR": "Female",
                  "_deepnote_index_column": 186
                },
                {
                  "SMQ020": "No",
                  "RIAGENDR": "Female",
                  "_deepnote_index_column": 187
                },
                {
                  "SMQ020": "No",
                  "RIAGENDR": "Female",
                  "_deepnote_index_column": 188
                },
                {
                  "SMQ020": "Yes",
                  "RIAGENDR": "Female",
                  "_deepnote_index_column": 189
                },
                {
                  "SMQ020": "No",
                  "RIAGENDR": "Female",
                  "_deepnote_index_column": 190
                },
                {
                  "SMQ020": "No",
                  "RIAGENDR": "Female",
                  "_deepnote_index_column": 191
                },
                {
                  "SMQ020": "Yes",
                  "RIAGENDR": "Female",
                  "_deepnote_index_column": 192
                },
                {
                  "SMQ020": "No",
                  "RIAGENDR": "Female",
                  "_deepnote_index_column": 193
                },
                {
                  "SMQ020": "No",
                  "RIAGENDR": "Female",
                  "_deepnote_index_column": 194
                },
                {
                  "SMQ020": "Yes",
                  "RIAGENDR": "Male",
                  "_deepnote_index_column": 195
                },
                {
                  "SMQ020": "Yes",
                  "RIAGENDR": "Female",
                  "_deepnote_index_column": 196
                },
                {
                  "SMQ020": "Yes",
                  "RIAGENDR": "Male",
                  "_deepnote_index_column": 197
                },
                {
                  "SMQ020": "Yes",
                  "RIAGENDR": "Female",
                  "_deepnote_index_column": 198
                },
                {
                  "SMQ020": "Yes",
                  "RIAGENDR": "Female",
                  "_deepnote_index_column": 199
                },
                {
                  "SMQ020": "No",
                  "RIAGENDR": "Female",
                  "_deepnote_index_column": 200
                },
                {
                  "SMQ020": "Yes",
                  "RIAGENDR": "Male",
                  "_deepnote_index_column": 201
                },
                {
                  "SMQ020": "No",
                  "RIAGENDR": "Female",
                  "_deepnote_index_column": 202
                },
                {
                  "SMQ020": "No",
                  "RIAGENDR": "Female",
                  "_deepnote_index_column": 203
                },
                {
                  "SMQ020": "No",
                  "RIAGENDR": "Male",
                  "_deepnote_index_column": 204
                },
                {
                  "SMQ020": "Yes",
                  "RIAGENDR": "Male",
                  "_deepnote_index_column": 205
                },
                {
                  "SMQ020": "Yes",
                  "RIAGENDR": "Female",
                  "_deepnote_index_column": 206
                },
                {
                  "SMQ020": "Yes",
                  "RIAGENDR": "Male",
                  "_deepnote_index_column": 207
                },
                {
                  "SMQ020": "No",
                  "RIAGENDR": "Female",
                  "_deepnote_index_column": 208
                },
                {
                  "SMQ020": "Yes",
                  "RIAGENDR": "Female",
                  "_deepnote_index_column": 209
                },
                {
                  "SMQ020": "No",
                  "RIAGENDR": "Female",
                  "_deepnote_index_column": 210
                },
                {
                  "SMQ020": "No",
                  "RIAGENDR": "Female",
                  "_deepnote_index_column": 211
                },
                {
                  "SMQ020": "No",
                  "RIAGENDR": "Female",
                  "_deepnote_index_column": 212
                },
                {
                  "SMQ020": "Yes",
                  "RIAGENDR": "Male",
                  "_deepnote_index_column": 213
                },
                {
                  "SMQ020": "Yes",
                  "RIAGENDR": "Male",
                  "_deepnote_index_column": 214
                },
                {
                  "SMQ020": "Yes",
                  "RIAGENDR": "Male",
                  "_deepnote_index_column": 215
                },
                {
                  "SMQ020": "Yes",
                  "RIAGENDR": "Male",
                  "_deepnote_index_column": 216
                },
                {
                  "SMQ020": "Yes",
                  "RIAGENDR": "Male",
                  "_deepnote_index_column": 217
                },
                {
                  "SMQ020": "Yes",
                  "RIAGENDR": "Male",
                  "_deepnote_index_column": 218
                },
                {
                  "SMQ020": "No",
                  "RIAGENDR": "Female",
                  "_deepnote_index_column": 219
                },
                {
                  "SMQ020": "Yes",
                  "RIAGENDR": "Male",
                  "_deepnote_index_column": 220
                },
                {
                  "SMQ020": "Yes",
                  "RIAGENDR": "Male",
                  "_deepnote_index_column": 221
                },
                {
                  "SMQ020": "Yes",
                  "RIAGENDR": "Male",
                  "_deepnote_index_column": 222
                },
                {
                  "SMQ020": "Yes",
                  "RIAGENDR": "Male",
                  "_deepnote_index_column": 223
                },
                {
                  "SMQ020": "No",
                  "RIAGENDR": "Male",
                  "_deepnote_index_column": 224
                },
                {
                  "SMQ020": "Yes",
                  "RIAGENDR": "Male",
                  "_deepnote_index_column": 225
                },
                {
                  "SMQ020": "Yes",
                  "RIAGENDR": "Male",
                  "_deepnote_index_column": 226
                },
                {
                  "SMQ020": "No",
                  "RIAGENDR": "Female",
                  "_deepnote_index_column": 227
                },
                {
                  "SMQ020": "No",
                  "RIAGENDR": "Male",
                  "_deepnote_index_column": 228
                },
                {
                  "SMQ020": "Yes",
                  "RIAGENDR": "Male",
                  "_deepnote_index_column": 229
                },
                {
                  "SMQ020": "No",
                  "RIAGENDR": "Male",
                  "_deepnote_index_column": 230
                },
                {
                  "SMQ020": "Yes",
                  "RIAGENDR": "Male",
                  "_deepnote_index_column": 231
                },
                {
                  "SMQ020": "Yes",
                  "RIAGENDR": "Female",
                  "_deepnote_index_column": 232
                },
                {
                  "SMQ020": "Yes",
                  "RIAGENDR": "Male",
                  "_deepnote_index_column": 233
                },
                {
                  "SMQ020": "Yes",
                  "RIAGENDR": "Female",
                  "_deepnote_index_column": 234
                },
                {
                  "SMQ020": "Yes",
                  "RIAGENDR": "Male",
                  "_deepnote_index_column": 235
                },
                {
                  "SMQ020": "Yes",
                  "RIAGENDR": "Female",
                  "_deepnote_index_column": 236
                },
                {
                  "SMQ020": "No",
                  "RIAGENDR": "Female",
                  "_deepnote_index_column": 237
                },
                {
                  "SMQ020": "Yes",
                  "RIAGENDR": "Female",
                  "_deepnote_index_column": 238
                },
                {
                  "SMQ020": "No",
                  "RIAGENDR": "Female",
                  "_deepnote_index_column": 239
                },
                {
                  "SMQ020": "No",
                  "RIAGENDR": "Male",
                  "_deepnote_index_column": 240
                },
                {
                  "SMQ020": "Yes",
                  "RIAGENDR": "Female",
                  "_deepnote_index_column": 241
                },
                {
                  "SMQ020": "No",
                  "RIAGENDR": "Male",
                  "_deepnote_index_column": 242
                },
                {
                  "SMQ020": "No",
                  "RIAGENDR": "Female",
                  "_deepnote_index_column": 243
                },
                {
                  "SMQ020": "No",
                  "RIAGENDR": "Female",
                  "_deepnote_index_column": 244
                },
                {
                  "SMQ020": "No",
                  "RIAGENDR": "Female",
                  "_deepnote_index_column": 245
                },
                {
                  "SMQ020": "No",
                  "RIAGENDR": "Male",
                  "_deepnote_index_column": 246
                },
                {
                  "SMQ020": "Yes",
                  "RIAGENDR": "Male",
                  "_deepnote_index_column": 247
                },
                {
                  "SMQ020": "Yes",
                  "RIAGENDR": "Female",
                  "_deepnote_index_column": 248
                },
                {
                  "SMQ020": "No",
                  "RIAGENDR": "Male",
                  "_deepnote_index_column": 249
                }
              ],
              "rows_bottom": [
                {
                  "SMQ020": "No",
                  "RIAGENDR": "Female",
                  "_deepnote_index_column": 5485
                },
                {
                  "SMQ020": "No",
                  "RIAGENDR": "Male",
                  "_deepnote_index_column": 5486
                },
                {
                  "SMQ020": "Yes",
                  "RIAGENDR": "Male",
                  "_deepnote_index_column": 5487
                },
                {
                  "SMQ020": "Yes",
                  "RIAGENDR": "Female",
                  "_deepnote_index_column": 5488
                },
                {
                  "SMQ020": "No",
                  "RIAGENDR": "Female",
                  "_deepnote_index_column": 5489
                },
                {
                  "SMQ020": "Yes",
                  "RIAGENDR": "Female",
                  "_deepnote_index_column": 5490
                },
                {
                  "SMQ020": "No",
                  "RIAGENDR": "Female",
                  "_deepnote_index_column": 5491
                },
                {
                  "SMQ020": "No",
                  "RIAGENDR": "Female",
                  "_deepnote_index_column": 5492
                },
                {
                  "SMQ020": "Yes",
                  "RIAGENDR": "Male",
                  "_deepnote_index_column": 5493
                },
                {
                  "SMQ020": "Yes",
                  "RIAGENDR": "Female",
                  "_deepnote_index_column": 5494
                },
                {
                  "SMQ020": "No",
                  "RIAGENDR": "Female",
                  "_deepnote_index_column": 5495
                },
                {
                  "SMQ020": "Yes",
                  "RIAGENDR": "Female",
                  "_deepnote_index_column": 5496
                },
                {
                  "SMQ020": "No",
                  "RIAGENDR": "Female",
                  "_deepnote_index_column": 5497
                },
                {
                  "SMQ020": "No",
                  "RIAGENDR": "Male",
                  "_deepnote_index_column": 5498
                },
                {
                  "SMQ020": "No",
                  "RIAGENDR": "Female",
                  "_deepnote_index_column": 5499
                },
                {
                  "SMQ020": "Yes",
                  "RIAGENDR": "Male",
                  "_deepnote_index_column": 5500
                },
                {
                  "SMQ020": "No",
                  "RIAGENDR": "Male",
                  "_deepnote_index_column": 5501
                },
                {
                  "SMQ020": "No",
                  "RIAGENDR": "Female",
                  "_deepnote_index_column": 5502
                },
                {
                  "SMQ020": "Yes",
                  "RIAGENDR": "Male",
                  "_deepnote_index_column": 5503
                },
                {
                  "SMQ020": "Yes",
                  "RIAGENDR": "Female",
                  "_deepnote_index_column": 5504
                },
                {
                  "SMQ020": "Yes",
                  "RIAGENDR": "Female",
                  "_deepnote_index_column": 5505
                },
                {
                  "SMQ020": "Yes",
                  "RIAGENDR": "Male",
                  "_deepnote_index_column": 5506
                },
                {
                  "SMQ020": "No",
                  "RIAGENDR": "Female",
                  "_deepnote_index_column": 5507
                },
                {
                  "SMQ020": "No",
                  "RIAGENDR": "Female",
                  "_deepnote_index_column": 5508
                },
                {
                  "SMQ020": "No",
                  "RIAGENDR": "Female",
                  "_deepnote_index_column": 5509
                },
                {
                  "SMQ020": "Yes",
                  "RIAGENDR": "Male",
                  "_deepnote_index_column": 5510
                },
                {
                  "SMQ020": "Yes",
                  "RIAGENDR": "Male",
                  "_deepnote_index_column": 5511
                },
                {
                  "SMQ020": "Yes",
                  "RIAGENDR": "Male",
                  "_deepnote_index_column": 5512
                },
                {
                  "SMQ020": "No",
                  "RIAGENDR": "Female",
                  "_deepnote_index_column": 5513
                },
                {
                  "SMQ020": "No",
                  "RIAGENDR": "Female",
                  "_deepnote_index_column": 5514
                },
                {
                  "SMQ020": "No",
                  "RIAGENDR": "Male",
                  "_deepnote_index_column": 5515
                },
                {
                  "SMQ020": "No",
                  "RIAGENDR": "Female",
                  "_deepnote_index_column": 5516
                },
                {
                  "SMQ020": "No",
                  "RIAGENDR": "Male",
                  "_deepnote_index_column": 5517
                },
                {
                  "SMQ020": "Yes",
                  "RIAGENDR": "Male",
                  "_deepnote_index_column": 5518
                },
                {
                  "SMQ020": "Yes",
                  "RIAGENDR": "Male",
                  "_deepnote_index_column": 5519
                },
                {
                  "SMQ020": "Yes",
                  "RIAGENDR": "Male",
                  "_deepnote_index_column": 5520
                },
                {
                  "SMQ020": "No",
                  "RIAGENDR": "Female",
                  "_deepnote_index_column": 5521
                },
                {
                  "SMQ020": "Yes",
                  "RIAGENDR": "Male",
                  "_deepnote_index_column": 5522
                },
                {
                  "SMQ020": "Yes",
                  "RIAGENDR": "Female",
                  "_deepnote_index_column": 5523
                },
                {
                  "SMQ020": "No",
                  "RIAGENDR": "Male",
                  "_deepnote_index_column": 5524
                },
                {
                  "SMQ020": "Yes",
                  "RIAGENDR": "Female",
                  "_deepnote_index_column": 5525
                },
                {
                  "SMQ020": "Yes",
                  "RIAGENDR": "Male",
                  "_deepnote_index_column": 5526
                },
                {
                  "SMQ020": "No",
                  "RIAGENDR": "Female",
                  "_deepnote_index_column": 5527
                },
                {
                  "SMQ020": "Yes",
                  "RIAGENDR": "Male",
                  "_deepnote_index_column": 5528
                },
                {
                  "SMQ020": "No",
                  "RIAGENDR": "Female",
                  "_deepnote_index_column": 5529
                },
                {
                  "SMQ020": "No",
                  "RIAGENDR": "Female",
                  "_deepnote_index_column": 5530
                },
                {
                  "SMQ020": "Yes",
                  "RIAGENDR": "Male",
                  "_deepnote_index_column": 5531
                },
                {
                  "SMQ020": "Yes",
                  "RIAGENDR": "Male",
                  "_deepnote_index_column": 5532
                },
                {
                  "SMQ020": "Yes",
                  "RIAGENDR": "Male",
                  "_deepnote_index_column": 5533
                },
                {
                  "SMQ020": "No",
                  "RIAGENDR": "Female",
                  "_deepnote_index_column": 5534
                },
                {
                  "SMQ020": "No",
                  "RIAGENDR": "Male",
                  "_deepnote_index_column": 5535
                },
                {
                  "SMQ020": "No",
                  "RIAGENDR": "Female",
                  "_deepnote_index_column": 5536
                },
                {
                  "SMQ020": "Yes",
                  "RIAGENDR": "Male",
                  "_deepnote_index_column": 5537
                },
                {
                  "SMQ020": "Yes",
                  "RIAGENDR": "Female",
                  "_deepnote_index_column": 5538
                },
                {
                  "SMQ020": "Yes",
                  "RIAGENDR": "Male",
                  "_deepnote_index_column": 5539
                },
                {
                  "SMQ020": "No",
                  "RIAGENDR": "Female",
                  "_deepnote_index_column": 5540
                },
                {
                  "SMQ020": "No",
                  "RIAGENDR": "Female",
                  "_deepnote_index_column": 5541
                },
                {
                  "SMQ020": "Yes",
                  "RIAGENDR": "Female",
                  "_deepnote_index_column": 5542
                },
                {
                  "SMQ020": "Yes",
                  "RIAGENDR": "Male",
                  "_deepnote_index_column": 5543
                },
                {
                  "SMQ020": "No",
                  "RIAGENDR": "Male",
                  "_deepnote_index_column": 5544
                },
                {
                  "SMQ020": "Yes",
                  "RIAGENDR": "Female",
                  "_deepnote_index_column": 5545
                },
                {
                  "SMQ020": "No",
                  "RIAGENDR": "Female",
                  "_deepnote_index_column": 5546
                },
                {
                  "SMQ020": "No",
                  "RIAGENDR": "Male",
                  "_deepnote_index_column": 5547
                },
                {
                  "SMQ020": "Yes",
                  "RIAGENDR": "Female",
                  "_deepnote_index_column": 5548
                },
                {
                  "SMQ020": "No",
                  "RIAGENDR": "Female",
                  "_deepnote_index_column": 5549
                },
                {
                  "SMQ020": "Yes",
                  "RIAGENDR": "Male",
                  "_deepnote_index_column": 5550
                },
                {
                  "SMQ020": "Yes",
                  "RIAGENDR": "Male",
                  "_deepnote_index_column": 5551
                },
                {
                  "SMQ020": "No",
                  "RIAGENDR": "Female",
                  "_deepnote_index_column": 5552
                },
                {
                  "SMQ020": "No",
                  "RIAGENDR": "Male",
                  "_deepnote_index_column": 5553
                },
                {
                  "SMQ020": "No",
                  "RIAGENDR": "Female",
                  "_deepnote_index_column": 5554
                },
                {
                  "SMQ020": "No",
                  "RIAGENDR": "Male",
                  "_deepnote_index_column": 5555
                },
                {
                  "SMQ020": "No",
                  "RIAGENDR": "Female",
                  "_deepnote_index_column": 5556
                },
                {
                  "SMQ020": "Yes",
                  "RIAGENDR": "Female",
                  "_deepnote_index_column": 5557
                },
                {
                  "SMQ020": "No",
                  "RIAGENDR": "Female",
                  "_deepnote_index_column": 5558
                },
                {
                  "SMQ020": "No",
                  "RIAGENDR": "Female",
                  "_deepnote_index_column": 5559
                },
                {
                  "SMQ020": "No",
                  "RIAGENDR": "Male",
                  "_deepnote_index_column": 5560
                },
                {
                  "SMQ020": "No",
                  "RIAGENDR": "Female",
                  "_deepnote_index_column": 5561
                },
                {
                  "SMQ020": "No",
                  "RIAGENDR": "Female",
                  "_deepnote_index_column": 5562
                },
                {
                  "SMQ020": "No",
                  "RIAGENDR": "Male",
                  "_deepnote_index_column": 5563
                },
                {
                  "SMQ020": "No",
                  "RIAGENDR": "Female",
                  "_deepnote_index_column": 5564
                },
                {
                  "SMQ020": "Yes",
                  "RIAGENDR": "Male",
                  "_deepnote_index_column": 5565
                },
                {
                  "SMQ020": "Yes",
                  "RIAGENDR": "Male",
                  "_deepnote_index_column": 5566
                },
                {
                  "SMQ020": "No",
                  "RIAGENDR": "Female",
                  "_deepnote_index_column": 5567
                },
                {
                  "SMQ020": "Yes",
                  "RIAGENDR": "Female",
                  "_deepnote_index_column": 5568
                },
                {
                  "SMQ020": "No",
                  "RIAGENDR": "Male",
                  "_deepnote_index_column": 5569
                },
                {
                  "SMQ020": "Yes",
                  "RIAGENDR": "Female",
                  "_deepnote_index_column": 5570
                },
                {
                  "SMQ020": "Yes",
                  "RIAGENDR": "Female",
                  "_deepnote_index_column": 5571
                },
                {
                  "SMQ020": "No",
                  "RIAGENDR": "Male",
                  "_deepnote_index_column": 5572
                },
                {
                  "SMQ020": "No",
                  "RIAGENDR": "Male",
                  "_deepnote_index_column": 5573
                },
                {
                  "SMQ020": "No",
                  "RIAGENDR": "Female",
                  "_deepnote_index_column": 5574
                },
                {
                  "SMQ020": "No",
                  "RIAGENDR": "Female",
                  "_deepnote_index_column": 5575
                },
                {
                  "SMQ020": "No",
                  "RIAGENDR": "Male",
                  "_deepnote_index_column": 5576
                },
                {
                  "SMQ020": "No",
                  "RIAGENDR": "Female",
                  "_deepnote_index_column": 5577
                },
                {
                  "SMQ020": "No",
                  "RIAGENDR": "Female",
                  "_deepnote_index_column": 5578
                },
                {
                  "SMQ020": "No",
                  "RIAGENDR": "Female",
                  "_deepnote_index_column": 5579
                },
                {
                  "SMQ020": "No",
                  "RIAGENDR": "Female",
                  "_deepnote_index_column": 5580
                },
                {
                  "SMQ020": "Yes",
                  "RIAGENDR": "Male",
                  "_deepnote_index_column": 5581
                },
                {
                  "SMQ020": "Yes",
                  "RIAGENDR": "Female",
                  "_deepnote_index_column": 5582
                },
                {
                  "SMQ020": "No",
                  "RIAGENDR": "Male",
                  "_deepnote_index_column": 5583
                },
                {
                  "SMQ020": "No",
                  "RIAGENDR": "Female",
                  "_deepnote_index_column": 5584
                },
                {
                  "SMQ020": "No",
                  "RIAGENDR": "Male",
                  "_deepnote_index_column": 5585
                },
                {
                  "SMQ020": "No",
                  "RIAGENDR": "Female",
                  "_deepnote_index_column": 5586
                },
                {
                  "SMQ020": "No",
                  "RIAGENDR": "Male",
                  "_deepnote_index_column": 5587
                },
                {
                  "SMQ020": "Yes",
                  "RIAGENDR": "Male",
                  "_deepnote_index_column": 5588
                },
                {
                  "SMQ020": "No",
                  "RIAGENDR": "Male",
                  "_deepnote_index_column": 5589
                },
                {
                  "SMQ020": "Yes",
                  "RIAGENDR": "Male",
                  "_deepnote_index_column": 5590
                },
                {
                  "SMQ020": "No",
                  "RIAGENDR": "Male",
                  "_deepnote_index_column": 5591
                },
                {
                  "SMQ020": "No",
                  "RIAGENDR": "Male",
                  "_deepnote_index_column": 5592
                },
                {
                  "SMQ020": "No",
                  "RIAGENDR": "Male",
                  "_deepnote_index_column": 5593
                },
                {
                  "SMQ020": "Yes",
                  "RIAGENDR": "Male",
                  "_deepnote_index_column": 5594
                },
                {
                  "SMQ020": "Yes",
                  "RIAGENDR": "Male",
                  "_deepnote_index_column": 5595
                },
                {
                  "SMQ020": "Yes",
                  "RIAGENDR": "Male",
                  "_deepnote_index_column": 5596
                },
                {
                  "SMQ020": "No",
                  "RIAGENDR": "Female",
                  "_deepnote_index_column": 5597
                },
                {
                  "SMQ020": "No",
                  "RIAGENDR": "Female",
                  "_deepnote_index_column": 5598
                },
                {
                  "SMQ020": "No",
                  "RIAGENDR": "Female",
                  "_deepnote_index_column": 5599
                },
                {
                  "SMQ020": "No",
                  "RIAGENDR": "Male",
                  "_deepnote_index_column": 5600
                },
                {
                  "SMQ020": "Yes",
                  "RIAGENDR": "Male",
                  "_deepnote_index_column": 5601
                },
                {
                  "SMQ020": "No",
                  "RIAGENDR": "Male",
                  "_deepnote_index_column": 5602
                },
                {
                  "SMQ020": "Yes",
                  "RIAGENDR": "Female",
                  "_deepnote_index_column": 5603
                },
                {
                  "SMQ020": "No",
                  "RIAGENDR": "Male",
                  "_deepnote_index_column": 5604
                },
                {
                  "SMQ020": "Yes",
                  "RIAGENDR": "Male",
                  "_deepnote_index_column": 5605
                },
                {
                  "SMQ020": "No",
                  "RIAGENDR": "Female",
                  "_deepnote_index_column": 5606
                },
                {
                  "SMQ020": "No",
                  "RIAGENDR": "Female",
                  "_deepnote_index_column": 5607
                },
                {
                  "SMQ020": "Yes",
                  "RIAGENDR": "Male",
                  "_deepnote_index_column": 5608
                },
                {
                  "SMQ020": "No",
                  "RIAGENDR": "Female",
                  "_deepnote_index_column": 5609
                },
                {
                  "SMQ020": "Yes",
                  "RIAGENDR": "Male",
                  "_deepnote_index_column": 5610
                },
                {
                  "SMQ020": "No",
                  "RIAGENDR": "Female",
                  "_deepnote_index_column": 5611
                },
                {
                  "SMQ020": "No",
                  "RIAGENDR": "Male",
                  "_deepnote_index_column": 5612
                },
                {
                  "SMQ020": "No",
                  "RIAGENDR": "Female",
                  "_deepnote_index_column": 5613
                },
                {
                  "SMQ020": "No",
                  "RIAGENDR": "Female",
                  "_deepnote_index_column": 5614
                },
                {
                  "SMQ020": "Yes",
                  "RIAGENDR": "Female",
                  "_deepnote_index_column": 5615
                },
                {
                  "SMQ020": "Yes",
                  "RIAGENDR": "Male",
                  "_deepnote_index_column": 5616
                },
                {
                  "SMQ020": "No",
                  "RIAGENDR": "Female",
                  "_deepnote_index_column": 5617
                },
                {
                  "SMQ020": "Yes",
                  "RIAGENDR": "Female",
                  "_deepnote_index_column": 5618
                },
                {
                  "SMQ020": "No",
                  "RIAGENDR": "Female",
                  "_deepnote_index_column": 5619
                },
                {
                  "SMQ020": "No",
                  "RIAGENDR": "Male",
                  "_deepnote_index_column": 5620
                },
                {
                  "SMQ020": "No",
                  "RIAGENDR": "Female",
                  "_deepnote_index_column": 5621
                },
                {
                  "SMQ020": "No",
                  "RIAGENDR": "Female",
                  "_deepnote_index_column": 5622
                },
                {
                  "SMQ020": "No",
                  "RIAGENDR": "Female",
                  "_deepnote_index_column": 5623
                },
                {
                  "SMQ020": "Yes",
                  "RIAGENDR": "Male",
                  "_deepnote_index_column": 5624
                },
                {
                  "SMQ020": "No",
                  "RIAGENDR": "Male",
                  "_deepnote_index_column": 5625
                },
                {
                  "SMQ020": "No",
                  "RIAGENDR": "Female",
                  "_deepnote_index_column": 5626
                },
                {
                  "SMQ020": "No",
                  "RIAGENDR": "Female",
                  "_deepnote_index_column": 5627
                },
                {
                  "SMQ020": "No",
                  "RIAGENDR": "Male",
                  "_deepnote_index_column": 5628
                },
                {
                  "SMQ020": "No",
                  "RIAGENDR": "Male",
                  "_deepnote_index_column": 5629
                },
                {
                  "SMQ020": "No",
                  "RIAGENDR": "Male",
                  "_deepnote_index_column": 5630
                },
                {
                  "SMQ020": "No",
                  "RIAGENDR": "Male",
                  "_deepnote_index_column": 5631
                },
                {
                  "SMQ020": "No",
                  "RIAGENDR": "Female",
                  "_deepnote_index_column": 5632
                },
                {
                  "SMQ020": "No",
                  "RIAGENDR": "Male",
                  "_deepnote_index_column": 5633
                },
                {
                  "SMQ020": "Yes",
                  "RIAGENDR": "Female",
                  "_deepnote_index_column": 5634
                },
                {
                  "SMQ020": "No",
                  "RIAGENDR": "Female",
                  "_deepnote_index_column": 5635
                },
                {
                  "SMQ020": "Yes",
                  "RIAGENDR": "Female",
                  "_deepnote_index_column": 5636
                },
                {
                  "SMQ020": "Yes",
                  "RIAGENDR": "Male",
                  "_deepnote_index_column": 5637
                },
                {
                  "SMQ020": "No",
                  "RIAGENDR": "Female",
                  "_deepnote_index_column": 5638
                },
                {
                  "SMQ020": "No",
                  "RIAGENDR": "Female",
                  "_deepnote_index_column": 5639
                },
                {
                  "SMQ020": "No",
                  "RIAGENDR": "Male",
                  "_deepnote_index_column": 5640
                },
                {
                  "SMQ020": "Yes",
                  "RIAGENDR": "Female",
                  "_deepnote_index_column": 5641
                },
                {
                  "SMQ020": "Yes",
                  "RIAGENDR": "Male",
                  "_deepnote_index_column": 5642
                },
                {
                  "SMQ020": "No",
                  "RIAGENDR": "Female",
                  "_deepnote_index_column": 5643
                },
                {
                  "SMQ020": "No",
                  "RIAGENDR": "Male",
                  "_deepnote_index_column": 5644
                },
                {
                  "SMQ020": "No",
                  "RIAGENDR": "Female",
                  "_deepnote_index_column": 5645
                },
                {
                  "SMQ020": "Yes",
                  "RIAGENDR": "Male",
                  "_deepnote_index_column": 5646
                },
                {
                  "SMQ020": "Yes",
                  "RIAGENDR": "Male",
                  "_deepnote_index_column": 5647
                },
                {
                  "SMQ020": "No",
                  "RIAGENDR": "Female",
                  "_deepnote_index_column": 5648
                },
                {
                  "SMQ020": "No",
                  "RIAGENDR": "Female",
                  "_deepnote_index_column": 5649
                },
                {
                  "SMQ020": "Yes",
                  "RIAGENDR": "Male",
                  "_deepnote_index_column": 5650
                },
                {
                  "SMQ020": "Yes",
                  "RIAGENDR": "Female",
                  "_deepnote_index_column": 5651
                },
                {
                  "SMQ020": "Yes",
                  "RIAGENDR": "Male",
                  "_deepnote_index_column": 5652
                },
                {
                  "SMQ020": "No",
                  "RIAGENDR": "Female",
                  "_deepnote_index_column": 5653
                },
                {
                  "SMQ020": "Yes",
                  "RIAGENDR": "Female",
                  "_deepnote_index_column": 5654
                },
                {
                  "SMQ020": "No",
                  "RIAGENDR": "Male",
                  "_deepnote_index_column": 5655
                },
                {
                  "SMQ020": "Yes",
                  "RIAGENDR": "Male",
                  "_deepnote_index_column": 5656
                },
                {
                  "SMQ020": "No",
                  "RIAGENDR": "Female",
                  "_deepnote_index_column": 5657
                },
                {
                  "SMQ020": "Yes",
                  "RIAGENDR": "Female",
                  "_deepnote_index_column": 5658
                },
                {
                  "SMQ020": "No",
                  "RIAGENDR": "Male",
                  "_deepnote_index_column": 5659
                },
                {
                  "SMQ020": "Yes",
                  "RIAGENDR": "Male",
                  "_deepnote_index_column": 5660
                },
                {
                  "SMQ020": "Yes",
                  "RIAGENDR": "Female",
                  "_deepnote_index_column": 5661
                },
                {
                  "SMQ020": "No",
                  "RIAGENDR": "Male",
                  "_deepnote_index_column": 5662
                },
                {
                  "SMQ020": "Yes",
                  "RIAGENDR": "Male",
                  "_deepnote_index_column": 5663
                },
                {
                  "SMQ020": "No",
                  "RIAGENDR": "Male",
                  "_deepnote_index_column": 5664
                },
                {
                  "SMQ020": "No",
                  "RIAGENDR": "Male",
                  "_deepnote_index_column": 5665
                },
                {
                  "SMQ020": "No",
                  "RIAGENDR": "Male",
                  "_deepnote_index_column": 5666
                },
                {
                  "SMQ020": "Yes",
                  "RIAGENDR": "Male",
                  "_deepnote_index_column": 5667
                },
                {
                  "SMQ020": "Yes",
                  "RIAGENDR": "Female",
                  "_deepnote_index_column": 5668
                },
                {
                  "SMQ020": "No",
                  "RIAGENDR": "Male",
                  "_deepnote_index_column": 5669
                },
                {
                  "SMQ020": "Yes",
                  "RIAGENDR": "Male",
                  "_deepnote_index_column": 5670
                },
                {
                  "SMQ020": "No",
                  "RIAGENDR": "Female",
                  "_deepnote_index_column": 5671
                },
                {
                  "SMQ020": "No",
                  "RIAGENDR": "Male",
                  "_deepnote_index_column": 5672
                },
                {
                  "SMQ020": "Yes",
                  "RIAGENDR": "Male",
                  "_deepnote_index_column": 5673
                },
                {
                  "SMQ020": "No",
                  "RIAGENDR": "Female",
                  "_deepnote_index_column": 5674
                },
                {
                  "SMQ020": "Yes",
                  "RIAGENDR": "Female",
                  "_deepnote_index_column": 5675
                },
                {
                  "SMQ020": "No",
                  "RIAGENDR": "Female",
                  "_deepnote_index_column": 5676
                },
                {
                  "SMQ020": "Yes",
                  "RIAGENDR": "Male",
                  "_deepnote_index_column": 5677
                },
                {
                  "SMQ020": "Yes",
                  "RIAGENDR": "Female",
                  "_deepnote_index_column": 5678
                },
                {
                  "SMQ020": "No",
                  "RIAGENDR": "Female",
                  "_deepnote_index_column": 5679
                },
                {
                  "SMQ020": "No",
                  "RIAGENDR": "Male",
                  "_deepnote_index_column": 5680
                },
                {
                  "SMQ020": "No",
                  "RIAGENDR": "Female",
                  "_deepnote_index_column": 5681
                },
                {
                  "SMQ020": "Yes",
                  "RIAGENDR": "Female",
                  "_deepnote_index_column": 5682
                },
                {
                  "SMQ020": "No",
                  "RIAGENDR": "Female",
                  "_deepnote_index_column": 5683
                },
                {
                  "SMQ020": "No",
                  "RIAGENDR": "Female",
                  "_deepnote_index_column": 5684
                },
                {
                  "SMQ020": "No",
                  "RIAGENDR": "Female",
                  "_deepnote_index_column": 5685
                },
                {
                  "SMQ020": "No",
                  "RIAGENDR": "Female",
                  "_deepnote_index_column": 5686
                },
                {
                  "SMQ020": "Yes",
                  "RIAGENDR": "Male",
                  "_deepnote_index_column": 5687
                },
                {
                  "SMQ020": "No",
                  "RIAGENDR": "Male",
                  "_deepnote_index_column": 5688
                },
                {
                  "SMQ020": "No",
                  "RIAGENDR": "Female",
                  "_deepnote_index_column": 5689
                },
                {
                  "SMQ020": "Yes",
                  "RIAGENDR": "Male",
                  "_deepnote_index_column": 5690
                },
                {
                  "SMQ020": "No",
                  "RIAGENDR": "Male",
                  "_deepnote_index_column": 5691
                },
                {
                  "SMQ020": "No",
                  "RIAGENDR": "Female",
                  "_deepnote_index_column": 5692
                },
                {
                  "SMQ020": "No",
                  "RIAGENDR": "Male",
                  "_deepnote_index_column": 5693
                },
                {
                  "SMQ020": "No",
                  "RIAGENDR": "Male",
                  "_deepnote_index_column": 5694
                },
                {
                  "SMQ020": "No",
                  "RIAGENDR": "Male",
                  "_deepnote_index_column": 5695
                },
                {
                  "SMQ020": "Yes",
                  "RIAGENDR": "Female",
                  "_deepnote_index_column": 5696
                },
                {
                  "SMQ020": "No",
                  "RIAGENDR": "Female",
                  "_deepnote_index_column": 5697
                },
                {
                  "SMQ020": "Yes",
                  "RIAGENDR": "Male",
                  "_deepnote_index_column": 5698
                },
                {
                  "SMQ020": "No",
                  "RIAGENDR": "Female",
                  "_deepnote_index_column": 5699
                },
                {
                  "SMQ020": "Yes",
                  "RIAGENDR": "Male",
                  "_deepnote_index_column": 5700
                },
                {
                  "SMQ020": "No",
                  "RIAGENDR": "Male",
                  "_deepnote_index_column": 5701
                },
                {
                  "SMQ020": "No",
                  "RIAGENDR": "Male",
                  "_deepnote_index_column": 5702
                },
                {
                  "SMQ020": "Yes",
                  "RIAGENDR": "Female",
                  "_deepnote_index_column": 5703
                },
                {
                  "SMQ020": "No",
                  "RIAGENDR": "Female",
                  "_deepnote_index_column": 5704
                },
                {
                  "SMQ020": "Yes",
                  "RIAGENDR": "Male",
                  "_deepnote_index_column": 5705
                },
                {
                  "SMQ020": "Yes",
                  "RIAGENDR": "Male",
                  "_deepnote_index_column": 5706
                },
                {
                  "SMQ020": "No",
                  "RIAGENDR": "Female",
                  "_deepnote_index_column": 5707
                },
                {
                  "SMQ020": "No",
                  "RIAGENDR": "Female",
                  "_deepnote_index_column": 5708
                },
                {
                  "SMQ020": "Yes",
                  "RIAGENDR": "Male",
                  "_deepnote_index_column": 5709
                },
                {
                  "SMQ020": "No",
                  "RIAGENDR": "Female",
                  "_deepnote_index_column": 5710
                },
                {
                  "SMQ020": "Yes",
                  "RIAGENDR": "Male",
                  "_deepnote_index_column": 5711
                },
                {
                  "SMQ020": "No",
                  "RIAGENDR": "Female",
                  "_deepnote_index_column": 5712
                },
                {
                  "SMQ020": "No",
                  "RIAGENDR": "Male",
                  "_deepnote_index_column": 5713
                },
                {
                  "SMQ020": "No",
                  "RIAGENDR": "Male",
                  "_deepnote_index_column": 5714
                },
                {
                  "SMQ020": "No",
                  "RIAGENDR": "Female",
                  "_deepnote_index_column": 5715
                },
                {
                  "SMQ020": "Yes",
                  "RIAGENDR": "Female",
                  "_deepnote_index_column": 5716
                },
                {
                  "SMQ020": "Yes",
                  "RIAGENDR": "Male",
                  "_deepnote_index_column": 5717
                },
                {
                  "SMQ020": "No",
                  "RIAGENDR": "Male",
                  "_deepnote_index_column": 5718
                },
                {
                  "SMQ020": "Yes",
                  "RIAGENDR": "Female",
                  "_deepnote_index_column": 5719
                },
                {
                  "SMQ020": "No",
                  "RIAGENDR": "Male",
                  "_deepnote_index_column": 5720
                },
                {
                  "SMQ020": "No",
                  "RIAGENDR": "Female",
                  "_deepnote_index_column": 5721
                },
                {
                  "SMQ020": "No",
                  "RIAGENDR": "Female",
                  "_deepnote_index_column": 5722
                },
                {
                  "SMQ020": "Yes",
                  "RIAGENDR": "Female",
                  "_deepnote_index_column": 5723
                },
                {
                  "SMQ020": "No",
                  "RIAGENDR": "Female",
                  "_deepnote_index_column": 5724
                },
                {
                  "SMQ020": "No",
                  "RIAGENDR": "Male",
                  "_deepnote_index_column": 5725
                },
                {
                  "SMQ020": "Yes",
                  "RIAGENDR": "Male",
                  "_deepnote_index_column": 5726
                },
                {
                  "SMQ020": "No",
                  "RIAGENDR": "Female",
                  "_deepnote_index_column": 5727
                },
                {
                  "SMQ020": "No",
                  "RIAGENDR": "Male",
                  "_deepnote_index_column": 5728
                },
                {
                  "SMQ020": "No",
                  "RIAGENDR": "Male",
                  "_deepnote_index_column": 5729
                },
                {
                  "SMQ020": "Yes",
                  "RIAGENDR": "Female",
                  "_deepnote_index_column": 5730
                },
                {
                  "SMQ020": "No",
                  "RIAGENDR": "Male",
                  "_deepnote_index_column": 5731
                },
                {
                  "SMQ020": "Yes",
                  "RIAGENDR": "Female",
                  "_deepnote_index_column": 5732
                },
                {
                  "SMQ020": "Yes",
                  "RIAGENDR": "Male",
                  "_deepnote_index_column": 5733
                },
                {
                  "SMQ020": "No",
                  "RIAGENDR": "Female",
                  "_deepnote_index_column": 5734
                }
              ]
            },
            "text/plain": "     SMQ020 RIAGENDR\n0       Yes     Male\n1       Yes     Male\n2       Yes     Male\n3        No   Female\n4        No   Female\n...     ...      ...\n5730    Yes   Female\n5731     No     Male\n5732    Yes   Female\n5733    Yes     Male\n5734     No   Female\n\n[5725 rows x 2 columns]",
            "text/html": "<div>\n<style scoped>\n    .dataframe tbody tr th:only-of-type {\n        vertical-align: middle;\n    }\n\n    .dataframe tbody tr th {\n        vertical-align: top;\n    }\n\n    .dataframe thead th {\n        text-align: right;\n    }\n</style>\n<table border=\"1\" class=\"dataframe\">\n  <thead>\n    <tr style=\"text-align: right;\">\n      <th></th>\n      <th>SMQ020</th>\n      <th>RIAGENDR</th>\n    </tr>\n  </thead>\n  <tbody>\n    <tr>\n      <th>0</th>\n      <td>Yes</td>\n      <td>Male</td>\n    </tr>\n    <tr>\n      <th>1</th>\n      <td>Yes</td>\n      <td>Male</td>\n    </tr>\n    <tr>\n      <th>2</th>\n      <td>Yes</td>\n      <td>Male</td>\n    </tr>\n    <tr>\n      <th>3</th>\n      <td>No</td>\n      <td>Female</td>\n    </tr>\n    <tr>\n      <th>4</th>\n      <td>No</td>\n      <td>Female</td>\n    </tr>\n    <tr>\n      <th>...</th>\n      <td>...</td>\n      <td>...</td>\n    </tr>\n    <tr>\n      <th>5730</th>\n      <td>Yes</td>\n      <td>Female</td>\n    </tr>\n    <tr>\n      <th>5731</th>\n      <td>No</td>\n      <td>Male</td>\n    </tr>\n    <tr>\n      <th>5732</th>\n      <td>Yes</td>\n      <td>Female</td>\n    </tr>\n    <tr>\n      <th>5733</th>\n      <td>Yes</td>\n      <td>Male</td>\n    </tr>\n    <tr>\n      <th>5734</th>\n      <td>No</td>\n      <td>Female</td>\n    </tr>\n  </tbody>\n</table>\n<p>5725 rows × 2 columns</p>\n</div>"
          },
          "metadata": {}
        }
      ]
    },
    {
      "cell_type": "code",
      "source": "from scipy import stats\nimport scipy.stats.distributions as dist\n\n\np = dx.groupby(\"RIAGENDR\")[\"SMQ020\"].agg([lambda z: np.mean(z==\"Yes\"), \"size\"])\np.columns = [\"Smoke\", \"N\"]\nprint(p)\n\n# The pooled rate of yes responses, and the standard error of the estimated difference of proportions\np_comb = (dx.SMQ020 == \"Yes\").mean()\nva = p_comb * (1 - p_comb)\nse = np.sqrt(va * (1 / p.N.Female + 1 / p.N.Male))\n\n# Calculate the test statistic and its p-value\ntest_stat = (p.Smoke.Female - p.Smoke.Male) / se\npvalue = 2*dist.norm.cdf(-np.abs(test_stat))\nprint(test_stat, pvalue)\n",
      "metadata": {
        "tags": [],
        "cell_id": "00010-dc57aa95-4b06-45b7-9559-44ccc7864fc0",
        "deepnote_to_be_reexecuted": false,
        "source_hash": "c98298fb",
        "execution_millis": 66,
        "execution_start": 1617978041528,
        "deepnote_cell_type": "code"
      },
      "outputs": [
        {
          "name": "stdout",
          "text": "             Smoke     N\nRIAGENDR                \nFemale    0.304845  2972\nMale      0.513258  2753\n-16.049719603652488 5.742288777302776e-58\n",
          "output_type": "stream"
        }
      ],
      "execution_count": 59
    },
    {
      "cell_type": "code",
      "source": "print(stats.ttest_ind(p_comb, p.Smoke.Male))\n\nprint(stats.ttest_ind(p.Smoke.Female, p.Smoke.Male, equal_var = False))",
      "metadata": {
        "tags": [],
        "cell_id": "00011-5de16eb4-1d01-48d8-b84a-9ad6bf1bc426",
        "deepnote_to_be_reexecuted": false,
        "source_hash": "30fe0f10",
        "execution_millis": 24,
        "execution_start": 1617978045769,
        "deepnote_cell_type": "code"
      },
      "outputs": [
        {
          "name": "stdout",
          "text": "Ttest_indResult(statistic=nan, pvalue=nan)\nTtest_indResult(statistic=nan, pvalue=nan)\n/shared-libs/python3.7/py/lib/python3.7/site-packages/numpy/core/fromnumeric.py:3622: RuntimeWarning: Degrees of freedom <= 0 for slice\n  **kwargs)\n/shared-libs/python3.7/py/lib/python3.7/site-packages/numpy/core/_methods.py:226: RuntimeWarning: invalid value encountered in double_scalars\n  ret = ret.dtype.type(ret / rcount)\n",
          "output_type": "stream"
        }
      ],
      "execution_count": 60
    },
    {
      "cell_type": "code",
      "metadata": {
        "cell_id": "00009-d79b1c47-1072-4639-9a94-a41f012a95e9",
        "deepnote_cell_type": "code"
      },
      "source": "#conduct a t test with female population vs male populaitons\n",
      "execution_count": null,
      "outputs": [
        {
          "data": {
            "text/plain": "(16.42058555898443, 3.032088786691117e-59, 5723.0)"
          },
          "execution_count": 33,
          "metadata": {},
          "output_type": "execute_result"
        }
      ]
    },
    {
      "cell_type": "markdown",
      "source": "__Q1a.__ Write 1-2 sentences explaining the substance of your findings to someone who does not know anything about statistical hypothesis tests.",
      "metadata": {
        "cell_id": "00010-ca2a69e1-5c2a-4517-ac70-5a17f3511d54",
        "deepnote_cell_type": "markdown"
      }
    },
    {
      "cell_type": "markdown",
      "source": "",
      "metadata": {
        "cell_id": "00011-9559cb55-7930-4b4b-9ae5-e3a41ec35848",
        "deepnote_cell_type": "markdown"
      }
    },
    {
      "cell_type": "markdown",
      "source": "__Q1b.__ Create three 95% confidence intervals: one for the proportion of women who smoke, one for the proportion of men who smoke, and one for the difference in the rates of smoking between women and men.",
      "metadata": {
        "cell_id": "00012-9c0c52d5-481e-4d7e-93d4-9820da655dba",
        "deepnote_cell_type": "markdown"
      }
    },
    {
      "cell_type": "code",
      "source": "pd.crosstab(dx.SMQ020,dx.RIAGENDR)",
      "metadata": {
        "tags": [],
        "cell_id": "00016-aa6f259a-b1ae-4ab5-886f-dd72e79e77d1",
        "deepnote_to_be_reexecuted": false,
        "source_hash": "f19a5594",
        "execution_millis": 693,
        "execution_start": 1617978052205,
        "deepnote_cell_type": "code"
      },
      "outputs": [
        {
          "output_type": "execute_result",
          "execution_count": 61,
          "data": {
            "application/vnd.deepnote.dataframe.v2+json": {
              "row_count": 2,
              "column_count": 2,
              "columns": [
                {
                  "name": "Female",
                  "dtype": "int64",
                  "stats": {
                    "unique_count": 2,
                    "nan_count": 0,
                    "min": 906,
                    "max": 2066,
                    "histogram": [
                      {
                        "bin_start": 906,
                        "bin_end": 1022,
                        "count": 1
                      },
                      {
                        "bin_start": 1022,
                        "bin_end": 1138,
                        "count": 0
                      },
                      {
                        "bin_start": 1138,
                        "bin_end": 1254,
                        "count": 0
                      },
                      {
                        "bin_start": 1254,
                        "bin_end": 1370,
                        "count": 0
                      },
                      {
                        "bin_start": 1370,
                        "bin_end": 1486,
                        "count": 0
                      },
                      {
                        "bin_start": 1486,
                        "bin_end": 1602,
                        "count": 0
                      },
                      {
                        "bin_start": 1602,
                        "bin_end": 1718,
                        "count": 0
                      },
                      {
                        "bin_start": 1718,
                        "bin_end": 1834,
                        "count": 0
                      },
                      {
                        "bin_start": 1834,
                        "bin_end": 1950,
                        "count": 0
                      },
                      {
                        "bin_start": 1950,
                        "bin_end": 2066,
                        "count": 1
                      }
                    ]
                  }
                },
                {
                  "name": "Male",
                  "dtype": "int64",
                  "stats": {
                    "unique_count": 2,
                    "nan_count": 0,
                    "min": 1340,
                    "max": 1413,
                    "histogram": [
                      {
                        "bin_start": 1340,
                        "bin_end": 1347.3,
                        "count": 1
                      },
                      {
                        "bin_start": 1347.3,
                        "bin_end": 1354.6,
                        "count": 0
                      },
                      {
                        "bin_start": 1354.6,
                        "bin_end": 1361.9,
                        "count": 0
                      },
                      {
                        "bin_start": 1361.9,
                        "bin_end": 1369.2,
                        "count": 0
                      },
                      {
                        "bin_start": 1369.2,
                        "bin_end": 1376.5,
                        "count": 0
                      },
                      {
                        "bin_start": 1376.5,
                        "bin_end": 1383.8,
                        "count": 0
                      },
                      {
                        "bin_start": 1383.8,
                        "bin_end": 1391.1,
                        "count": 0
                      },
                      {
                        "bin_start": 1391.1,
                        "bin_end": 1398.4,
                        "count": 0
                      },
                      {
                        "bin_start": 1398.4,
                        "bin_end": 1405.7,
                        "count": 0
                      },
                      {
                        "bin_start": 1405.7,
                        "bin_end": 1413,
                        "count": 1
                      }
                    ]
                  }
                },
                {
                  "name": "_deepnote_index_column",
                  "dtype": "object"
                }
              ],
              "rows_top": [
                {
                  "Female": 2066,
                  "Male": 1340,
                  "_deepnote_index_column": "No"
                },
                {
                  "Female": 906,
                  "Male": 1413,
                  "_deepnote_index_column": "Yes"
                }
              ],
              "rows_bottom": null
            },
            "text/plain": "RIAGENDR  Female  Male\nSMQ020                \nNo          2066  1340\nYes          906  1413",
            "text/html": "<div>\n<style scoped>\n    .dataframe tbody tr th:only-of-type {\n        vertical-align: middle;\n    }\n\n    .dataframe tbody tr th {\n        vertical-align: top;\n    }\n\n    .dataframe thead th {\n        text-align: right;\n    }\n</style>\n<table border=\"1\" class=\"dataframe\">\n  <thead>\n    <tr style=\"text-align: right;\">\n      <th>RIAGENDR</th>\n      <th>Female</th>\n      <th>Male</th>\n    </tr>\n    <tr>\n      <th>SMQ020</th>\n      <th></th>\n      <th></th>\n    </tr>\n  </thead>\n  <tbody>\n    <tr>\n      <th>No</th>\n      <td>2066</td>\n      <td>1340</td>\n    </tr>\n    <tr>\n      <th>Yes</th>\n      <td>906</td>\n      <td>1413</td>\n    </tr>\n  </tbody>\n</table>\n</div>"
          },
          "metadata": {}
        }
      ],
      "execution_count": 61
    },
    {
      "cell_type": "code",
      "metadata": {
        "cell_id": "00013-1655cd73-0aaa-4cb7-bb9b-9d08fc6b14a2",
        "deepnote_to_be_reexecuted": false,
        "source_hash": "39e6bf0b",
        "execution_start": 1617978074166,
        "execution_millis": 31,
        "deepnote_cell_type": "code"
      },
      "source": "#Building confidence intervals manually\nprint(\"Male 95% confidence intervals: \",sm.stats.proportion_confint(1413, 1413+1340))\nprint(\"Female 95% confidence intervals: \",sm.stats.proportion_confint(906, 2066+906))",
      "execution_count": 62,
      "outputs": [
        {
          "name": "stdout",
          "text": "Male 95% confidence intervals:  (0.49458749263718593, 0.5319290347874418)\nFemale 95% confidence intervals:  (0.2882949879861214, 0.32139545615923526)\n",
          "output_type": "stream"
        }
      ]
    },
    {
      "cell_type": "code",
      "source": "dz = dx.groupby(dx.RIAGENDR).agg({\"SMQ020\": [lambda x: np.mean(x==\"Yes\"), np.size]})\ndz.columns = [\"Proportion\", \"Total_n\"] \ndz",
      "metadata": {
        "tags": [],
        "cell_id": "00018-f48ef243-fb82-4df8-88ff-246ddc1585c2",
        "deepnote_to_be_reexecuted": false,
        "source_hash": "a3a23e0",
        "execution_millis": 188,
        "execution_start": 1617978184560,
        "deepnote_cell_type": "code"
      },
      "outputs": [
        {
          "output_type": "execute_result",
          "execution_count": 64,
          "data": {
            "application/vnd.deepnote.dataframe.v2+json": {
              "row_count": 2,
              "column_count": 2,
              "columns": [
                {
                  "name": "Proportion",
                  "dtype": "float64",
                  "stats": {
                    "unique_count": 2,
                    "nan_count": 0,
                    "min": 0.30484522207267833,
                    "max": 0.5132582637123139,
                    "histogram": [
                      {
                        "bin_start": 0.30484522207267833,
                        "bin_end": 0.3256865262366419,
                        "count": 1
                      },
                      {
                        "bin_start": 0.3256865262366419,
                        "bin_end": 0.3465278304006054,
                        "count": 0
                      },
                      {
                        "bin_start": 0.3465278304006054,
                        "bin_end": 0.367369134564569,
                        "count": 0
                      },
                      {
                        "bin_start": 0.367369134564569,
                        "bin_end": 0.38821043872853256,
                        "count": 0
                      },
                      {
                        "bin_start": 0.38821043872853256,
                        "bin_end": 0.40905174289249613,
                        "count": 0
                      },
                      {
                        "bin_start": 0.40905174289249613,
                        "bin_end": 0.42989304705645964,
                        "count": 0
                      },
                      {
                        "bin_start": 0.42989304705645964,
                        "bin_end": 0.4507343512204232,
                        "count": 0
                      },
                      {
                        "bin_start": 0.4507343512204232,
                        "bin_end": 0.4715756553843867,
                        "count": 0
                      },
                      {
                        "bin_start": 0.4715756553843867,
                        "bin_end": 0.4924169595483503,
                        "count": 0
                      },
                      {
                        "bin_start": 0.4924169595483503,
                        "bin_end": 0.5132582637123139,
                        "count": 1
                      }
                    ]
                  }
                },
                {
                  "name": "Total_n",
                  "dtype": "int64",
                  "stats": {
                    "unique_count": 2,
                    "nan_count": 0,
                    "min": 2753,
                    "max": 2972,
                    "histogram": [
                      {
                        "bin_start": 2753,
                        "bin_end": 2774.9,
                        "count": 1
                      },
                      {
                        "bin_start": 2774.9,
                        "bin_end": 2796.8,
                        "count": 0
                      },
                      {
                        "bin_start": 2796.8,
                        "bin_end": 2818.7,
                        "count": 0
                      },
                      {
                        "bin_start": 2818.7,
                        "bin_end": 2840.6,
                        "count": 0
                      },
                      {
                        "bin_start": 2840.6,
                        "bin_end": 2862.5,
                        "count": 0
                      },
                      {
                        "bin_start": 2862.5,
                        "bin_end": 2884.4,
                        "count": 0
                      },
                      {
                        "bin_start": 2884.4,
                        "bin_end": 2906.3,
                        "count": 0
                      },
                      {
                        "bin_start": 2906.3,
                        "bin_end": 2928.2,
                        "count": 0
                      },
                      {
                        "bin_start": 2928.2,
                        "bin_end": 2950.1,
                        "count": 0
                      },
                      {
                        "bin_start": 2950.1,
                        "bin_end": 2972,
                        "count": 1
                      }
                    ]
                  }
                },
                {
                  "name": "_deepnote_index_column",
                  "dtype": "object"
                }
              ],
              "rows_top": [
                {
                  "Proportion": 0.30484522207267833,
                  "Total_n": 2972,
                  "_deepnote_index_column": "Female"
                },
                {
                  "Proportion": 0.5132582637123139,
                  "Total_n": 2753,
                  "_deepnote_index_column": "Male"
                }
              ],
              "rows_bottom": null
            },
            "text/plain": "          Proportion  Total_n\nRIAGENDR                     \nFemale      0.304845     2972\nMale        0.513258     2753",
            "text/html": "<div>\n<style scoped>\n    .dataframe tbody tr th:only-of-type {\n        vertical-align: middle;\n    }\n\n    .dataframe tbody tr th {\n        vertical-align: top;\n    }\n\n    .dataframe thead th {\n        text-align: right;\n    }\n</style>\n<table border=\"1\" class=\"dataframe\">\n  <thead>\n    <tr style=\"text-align: right;\">\n      <th></th>\n      <th>Proportion</th>\n      <th>Total_n</th>\n    </tr>\n    <tr>\n      <th>RIAGENDR</th>\n      <th></th>\n      <th></th>\n    </tr>\n  </thead>\n  <tbody>\n    <tr>\n      <th>Female</th>\n      <td>0.304845</td>\n      <td>2972</td>\n    </tr>\n    <tr>\n      <th>Male</th>\n      <td>0.513258</td>\n      <td>2753</td>\n    </tr>\n  </tbody>\n</table>\n</div>"
          },
          "metadata": {}
        }
      ],
      "execution_count": 64
    },
    {
      "cell_type": "code",
      "source": "p = dz.Proportion.Female # Female proportion\nn = dz.Total_n.Female # Total number of females\nse_female = np.sqrt(p * (1 - p) / n)\n\n\np = dz.Proportion.Male # Male proportion\nn = dz[\"Total_n\"].Male # Total number of males\nse_male = np.sqrt(p * (1 - p) / n)\n\n\nse_diff = np.sqrt(se_female**2 + se_male**2)\n\nd = dz.Proportion.Female - dz.Proportion.Male\nlcb = d - 2*se_diff\nucb = d + 2*se_diff\nprint(lcb, ucb)\nprint( d)",
      "metadata": {
        "tags": [],
        "cell_id": "00019-ea7036c4-0f64-4dbf-94b3-778eef5159f7",
        "deepnote_to_be_reexecuted": false,
        "source_hash": "b2f8812d",
        "execution_millis": 623,
        "execution_start": 1617978452741,
        "deepnote_cell_type": "code"
      },
      "outputs": [
        {
          "name": "stdout",
          "text": "-0.2338728044024504 -0.18295327887682067\n-0.20841304163963553\n",
          "output_type": "stream"
        }
      ],
      "execution_count": 69
    },
    {
      "cell_type": "code",
      "metadata": {
        "cell_id": "00014-c6ab2c5a-9a05-4625-bb55-65dede4306b8",
        "deepnote_cell_type": "code"
      },
      "source": "# Building confidence interval for difference\n",
      "execution_count": null,
      "outputs": [
        {
          "data": {
            "text/plain": "(0.20818684127912837, 0.2086392420001427)"
          },
          "execution_count": 57,
          "metadata": {},
          "output_type": "execute_result"
        }
      ]
    },
    {
      "cell_type": "markdown",
      "source": "__Q1c.__ Comment on any ways in which the confidence intervals that you found in part b reinforce, contradict, or add support to the hypothesis test conducted in part a.",
      "metadata": {
        "cell_id": "00015-34f61ad9-2a5d-4f58-bd78-5753d61f635b",
        "deepnote_cell_type": "markdown"
      }
    },
    {
      "cell_type": "markdown",
      "source": "",
      "metadata": {
        "cell_id": "00016-076fc9b1-59c3-4e6b-ae72-f03932152c4d",
        "deepnote_cell_type": "markdown"
      }
    },
    {
      "cell_type": "markdown",
      "source": "## Question 2\n\nPartition the population into two groups based on whether a person has graduated college or not, using the educational attainment variable [DMDEDUC2](https://wwwn.cdc.gov/Nchs/Nhanes/2015-2016/DEMO_I.htm#DMDEDUC2).  Then conduct a test of the null hypothesis that the average heights (in centimeters) of the two groups are equal.  Next, convert the heights from centimeters to inches, and conduct a test of the null hypothesis that the average heights (in inches) of the two groups are equal.",
      "metadata": {
        "cell_id": "00017-9806b7f2-753d-4c0b-9da6-b80ad03d0dd1",
        "deepnote_cell_type": "markdown"
      }
    },
    {
      "cell_type": "code",
      "metadata": {
        "cell_id": "00018-4f70565c-8c52-4ac5-9da2-30c10d5595e6",
        "deepnote_to_be_reexecuted": false,
        "source_hash": "112a6c80",
        "execution_millis": 174,
        "execution_start": 1617979253851,
        "deepnote_cell_type": "code"
      },
      "source": "#da[\"DMDMARTL\"] = da.DMDMARTL.replace({1: \"Married\", 2: \"Unmarried\", 3: \"Unmarried\",4:\"UnMarried\",5:\"Unmarried\",6:\"Unmarried\", 77: np.nan, 99: np.nan,\".\": np.nan})\nnhanes[\"DMDEDUC2\"] = nhanes.DMDEDUC2.replace({1: \"No\", 2: \"No\", 3: \"No\",4:\"Yes\",5:\"Yes\", 7: np.nan, 9: np.nan,\".\": np.nan})\n \npd.crosstab(nhanes.DMDEDUC2,nhanes.DMDMARTL)",
      "execution_count": 71,
      "outputs": [
        {
          "output_type": "execute_result",
          "execution_count": 71,
          "data": {
            "application/vnd.deepnote.dataframe.v2+json": {
              "row_count": 2,
              "column_count": 7,
              "columns": [
                {
                  "name": 1,
                  "dtype": "int64",
                  "stats": {
                    "unique_count": 2,
                    "nan_count": 0,
                    "min": 1196,
                    "max": 1584,
                    "histogram": [
                      {
                        "bin_start": 1196,
                        "bin_end": 1234.8,
                        "count": 1
                      },
                      {
                        "bin_start": 1234.8,
                        "bin_end": 1273.6,
                        "count": 0
                      },
                      {
                        "bin_start": 1273.6,
                        "bin_end": 1312.4,
                        "count": 0
                      },
                      {
                        "bin_start": 1312.4,
                        "bin_end": 1351.2,
                        "count": 0
                      },
                      {
                        "bin_start": 1351.2,
                        "bin_end": 1390,
                        "count": 0
                      },
                      {
                        "bin_start": 1390,
                        "bin_end": 1428.8,
                        "count": 0
                      },
                      {
                        "bin_start": 1428.8,
                        "bin_end": 1467.6,
                        "count": 0
                      },
                      {
                        "bin_start": 1467.6,
                        "bin_end": 1506.4,
                        "count": 0
                      },
                      {
                        "bin_start": 1506.4,
                        "bin_end": 1545.2,
                        "count": 0
                      },
                      {
                        "bin_start": 1545.2,
                        "bin_end": 1584,
                        "count": 1
                      }
                    ]
                  }
                },
                {
                  "name": 2,
                  "dtype": "int64",
                  "stats": {
                    "unique_count": 2,
                    "nan_count": 0,
                    "min": 167,
                    "max": 227,
                    "histogram": [
                      {
                        "bin_start": 167,
                        "bin_end": 173,
                        "count": 1
                      },
                      {
                        "bin_start": 173,
                        "bin_end": 179,
                        "count": 0
                      },
                      {
                        "bin_start": 179,
                        "bin_end": 185,
                        "count": 0
                      },
                      {
                        "bin_start": 185,
                        "bin_end": 191,
                        "count": 0
                      },
                      {
                        "bin_start": 191,
                        "bin_end": 197,
                        "count": 0
                      },
                      {
                        "bin_start": 197,
                        "bin_end": 203,
                        "count": 0
                      },
                      {
                        "bin_start": 203,
                        "bin_end": 209,
                        "count": 0
                      },
                      {
                        "bin_start": 209,
                        "bin_end": 215,
                        "count": 0
                      },
                      {
                        "bin_start": 215,
                        "bin_end": 221,
                        "count": 0
                      },
                      {
                        "bin_start": 221,
                        "bin_end": 227,
                        "count": 1
                      }
                    ]
                  }
                },
                {
                  "name": 3,
                  "dtype": "int64",
                  "stats": {
                    "unique_count": 2,
                    "nan_count": 0,
                    "min": 241,
                    "max": 337,
                    "histogram": [
                      {
                        "bin_start": 241,
                        "bin_end": 250.6,
                        "count": 1
                      },
                      {
                        "bin_start": 250.6,
                        "bin_end": 260.2,
                        "count": 0
                      },
                      {
                        "bin_start": 260.2,
                        "bin_end": 269.8,
                        "count": 0
                      },
                      {
                        "bin_start": 269.8,
                        "bin_end": 279.4,
                        "count": 0
                      },
                      {
                        "bin_start": 279.4,
                        "bin_end": 289,
                        "count": 0
                      },
                      {
                        "bin_start": 289,
                        "bin_end": 298.6,
                        "count": 0
                      },
                      {
                        "bin_start": 298.6,
                        "bin_end": 308.2,
                        "count": 0
                      },
                      {
                        "bin_start": 308.2,
                        "bin_end": 317.8,
                        "count": 0
                      },
                      {
                        "bin_start": 317.8,
                        "bin_end": 327.4,
                        "count": 0
                      },
                      {
                        "bin_start": 327.4,
                        "bin_end": 337,
                        "count": 1
                      }
                    ]
                  }
                },
                {
                  "name": 4,
                  "dtype": "int64",
                  "stats": {
                    "unique_count": 2,
                    "nan_count": 0,
                    "min": 64,
                    "max": 122,
                    "histogram": [
                      {
                        "bin_start": 64,
                        "bin_end": 69.8,
                        "count": 1
                      },
                      {
                        "bin_start": 69.8,
                        "bin_end": 75.6,
                        "count": 0
                      },
                      {
                        "bin_start": 75.6,
                        "bin_end": 81.4,
                        "count": 0
                      },
                      {
                        "bin_start": 81.4,
                        "bin_end": 87.2,
                        "count": 0
                      },
                      {
                        "bin_start": 87.2,
                        "bin_end": 93,
                        "count": 0
                      },
                      {
                        "bin_start": 93,
                        "bin_end": 98.8,
                        "count": 0
                      },
                      {
                        "bin_start": 98.8,
                        "bin_end": 104.6,
                        "count": 0
                      },
                      {
                        "bin_start": 104.6,
                        "bin_end": 110.4,
                        "count": 0
                      },
                      {
                        "bin_start": 110.4,
                        "bin_end": 116.19999999999999,
                        "count": 0
                      },
                      {
                        "bin_start": 116.19999999999999,
                        "bin_end": 122,
                        "count": 1
                      }
                    ]
                  }
                },
                {
                  "name": 5,
                  "dtype": "int64",
                  "stats": {
                    "unique_count": 2,
                    "nan_count": 0,
                    "min": 419,
                    "max": 585,
                    "histogram": [
                      {
                        "bin_start": 419,
                        "bin_end": 435.6,
                        "count": 1
                      },
                      {
                        "bin_start": 435.6,
                        "bin_end": 452.2,
                        "count": 0
                      },
                      {
                        "bin_start": 452.2,
                        "bin_end": 468.8,
                        "count": 0
                      },
                      {
                        "bin_start": 468.8,
                        "bin_end": 485.4,
                        "count": 0
                      },
                      {
                        "bin_start": 485.4,
                        "bin_end": 502,
                        "count": 0
                      },
                      {
                        "bin_start": 502,
                        "bin_end": 518.6,
                        "count": 0
                      },
                      {
                        "bin_start": 518.6,
                        "bin_end": 535.2,
                        "count": 0
                      },
                      {
                        "bin_start": 535.2,
                        "bin_end": 551.8,
                        "count": 0
                      },
                      {
                        "bin_start": 551.8,
                        "bin_end": 568.4,
                        "count": 0
                      },
                      {
                        "bin_start": 568.4,
                        "bin_end": 585,
                        "count": 1
                      }
                    ]
                  }
                },
                {
                  "name": 6,
                  "dtype": "int64",
                  "stats": {
                    "unique_count": 2,
                    "nan_count": 0,
                    "min": 248,
                    "max": 279,
                    "histogram": [
                      {
                        "bin_start": 248,
                        "bin_end": 251.1,
                        "count": 1
                      },
                      {
                        "bin_start": 251.1,
                        "bin_end": 254.2,
                        "count": 0
                      },
                      {
                        "bin_start": 254.2,
                        "bin_end": 257.3,
                        "count": 0
                      },
                      {
                        "bin_start": 257.3,
                        "bin_end": 260.4,
                        "count": 0
                      },
                      {
                        "bin_start": 260.4,
                        "bin_end": 263.5,
                        "count": 0
                      },
                      {
                        "bin_start": 263.5,
                        "bin_end": 266.6,
                        "count": 0
                      },
                      {
                        "bin_start": 266.6,
                        "bin_end": 269.7,
                        "count": 0
                      },
                      {
                        "bin_start": 269.7,
                        "bin_end": 272.8,
                        "count": 0
                      },
                      {
                        "bin_start": 272.8,
                        "bin_end": 275.9,
                        "count": 0
                      },
                      {
                        "bin_start": 275.9,
                        "bin_end": 279,
                        "count": 1
                      }
                    ]
                  }
                },
                {
                  "name": 77,
                  "dtype": "int64",
                  "stats": {
                    "unique_count": 2,
                    "nan_count": 0,
                    "min": 0,
                    "max": 2,
                    "histogram": [
                      {
                        "bin_start": 0,
                        "bin_end": 0.2,
                        "count": 1
                      },
                      {
                        "bin_start": 0.2,
                        "bin_end": 0.4,
                        "count": 0
                      },
                      {
                        "bin_start": 0.4,
                        "bin_end": 0.6000000000000001,
                        "count": 0
                      },
                      {
                        "bin_start": 0.6000000000000001,
                        "bin_end": 0.8,
                        "count": 0
                      },
                      {
                        "bin_start": 0.8,
                        "bin_end": 1,
                        "count": 0
                      },
                      {
                        "bin_start": 1,
                        "bin_end": 1.2000000000000002,
                        "count": 0
                      },
                      {
                        "bin_start": 1.2000000000000002,
                        "bin_end": 1.4000000000000001,
                        "count": 0
                      },
                      {
                        "bin_start": 1.4000000000000001,
                        "bin_end": 1.6,
                        "count": 0
                      },
                      {
                        "bin_start": 1.6,
                        "bin_end": 1.8,
                        "count": 0
                      },
                      {
                        "bin_start": 1.8,
                        "bin_end": 2,
                        "count": 1
                      }
                    ]
                  }
                },
                {
                  "name": "_deepnote_index_column",
                  "dtype": "object"
                }
              ],
              "rows_top": [
                {
                  "1.0": 1196,
                  "2.0": 227,
                  "3.0": 241,
                  "4.0": 122,
                  "5.0": 419,
                  "6.0": 279,
                  "77.0": 0,
                  "_deepnote_index_column": "No"
                },
                {
                  "1.0": 1584,
                  "2.0": 167,
                  "3.0": 337,
                  "4.0": 64,
                  "5.0": 585,
                  "6.0": 248,
                  "77.0": 2,
                  "_deepnote_index_column": "Yes"
                }
              ],
              "rows_bottom": null
            },
            "text/plain": "DMDMARTL  1.0   2.0   3.0   4.0   5.0   6.0   77.0\nDMDEDUC2                                          \nNo        1196   227   241   122   419   279     0\nYes       1584   167   337    64   585   248     2",
            "text/html": "<div>\n<style scoped>\n    .dataframe tbody tr th:only-of-type {\n        vertical-align: middle;\n    }\n\n    .dataframe tbody tr th {\n        vertical-align: top;\n    }\n\n    .dataframe thead th {\n        text-align: right;\n    }\n</style>\n<table border=\"1\" class=\"dataframe\">\n  <thead>\n    <tr style=\"text-align: right;\">\n      <th>DMDMARTL</th>\n      <th>1.0</th>\n      <th>2.0</th>\n      <th>3.0</th>\n      <th>4.0</th>\n      <th>5.0</th>\n      <th>6.0</th>\n      <th>77.0</th>\n    </tr>\n    <tr>\n      <th>DMDEDUC2</th>\n      <th></th>\n      <th></th>\n      <th></th>\n      <th></th>\n      <th></th>\n      <th></th>\n      <th></th>\n    </tr>\n  </thead>\n  <tbody>\n    <tr>\n      <th>No</th>\n      <td>1196</td>\n      <td>227</td>\n      <td>241</td>\n      <td>122</td>\n      <td>419</td>\n      <td>279</td>\n      <td>0</td>\n    </tr>\n    <tr>\n      <th>Yes</th>\n      <td>1584</td>\n      <td>167</td>\n      <td>337</td>\n      <td>64</td>\n      <td>585</td>\n      <td>248</td>\n      <td>2</td>\n    </tr>\n  </tbody>\n</table>\n</div>"
          },
          "metadata": {}
        }
      ]
    },
    {
      "cell_type": "code",
      "metadata": {
        "cell_id": "00019-46c800f4-31b9-47e6-8969-d504a9a47e90",
        "deepnote_cell_type": "code"
      },
      "source": "#drop nans in sample of grads",
      "execution_count": null,
      "outputs": []
    },
    {
      "cell_type": "code",
      "metadata": {
        "cell_id": "00020-60c922d3-87cc-4ea4-9651-76acb34d5574",
        "deepnote_cell_type": "code"
      },
      "source": "#test of two means on the null hypothesis that education level of grads is equal to the mean height of non-grads",
      "execution_count": null,
      "outputs": [
        {
          "name": "stdout",
          "output_type": "stream",
          "text": "167.85535055350553 165.46395864106353\n9.705432880946814 10.172963714064156\n(7.578706943765256, 4.0813240427733594e-14, 5415.0)\n"
        }
      ]
    },
    {
      "cell_type": "markdown",
      "source": "__Q2a.__ Based on the analysis performed here, are you confident that people who graduated from college have a different average height compared to people who did not graduate from college?",
      "metadata": {
        "cell_id": "00021-5f10513e-3721-488d-8764-8d9fe164b98a",
        "deepnote_cell_type": "markdown"
      }
    },
    {
      "cell_type": "markdown",
      "source": "",
      "metadata": {
        "cell_id": "00022-db83cbff-1449-44f0-8b9c-91588913941f",
        "deepnote_cell_type": "markdown"
      }
    },
    {
      "cell_type": "markdown",
      "source": "__Q2b:__ How do the results obtained using the heights expressed in inches compare to the results obtained using the heights expressed in centimeters?",
      "metadata": {
        "cell_id": "00023-7aa50079-0a9c-493d-b37d-42530dbb6bf7",
        "deepnote_cell_type": "markdown"
      }
    },
    {
      "cell_type": "markdown",
      "source": "",
      "metadata": {
        "cell_id": "00024-d374acb7-9dd5-4b1e-80e4-9befca74d287",
        "deepnote_cell_type": "markdown"
      }
    },
    {
      "cell_type": "markdown",
      "source": "## Question 3\n\nConduct a hypothesis test of the null hypothesis that the average BMI for men between 30 and 40 is equal to the average BMI for men between 50 and 60.  Then carry out this test again after log transforming the BMI values.",
      "metadata": {
        "cell_id": "00025-b1152dae-6c21-4382-992f-a2747e27bca2",
        "deepnote_cell_type": "markdown"
      }
    },
    {
      "cell_type": "code",
      "metadata": {
        "cell_id": "00026-25eb2929-f531-4737-b589-4c4f4bd32d01",
        "deepnote_cell_type": "code"
      },
      "source": "# insert your code here\n\n#filter two series for the target populations\n\n",
      "execution_count": null,
      "outputs": []
    },
    {
      "cell_type": "code",
      "metadata": {
        "cell_id": "00027-44b4a145-9ae0-43bc-81af-9c9be8dd41af",
        "deepnote_cell_type": "code"
      },
      "source": "# print out mean and std of BMI for each group\n",
      "execution_count": null,
      "outputs": [
        {
          "name": "stdout",
          "output_type": "stream",
          "text": "Men 30-40: 29.61372950819672 6.657329568695859\nMen 50-60: 29.25 6.002543588477157\n"
        }
      ]
    },
    {
      "cell_type": "code",
      "metadata": {
        "cell_id": "00028-bf0a16bc-000c-41c4-a0d8-c03519a44c01",
        "deepnote_cell_type": "code"
      },
      "source": "from scipy import stats\nstats.probplot(bmi_m_30_40, plot=plt, fit=True)\nplt.show()",
      "execution_count": null,
      "outputs": [
        {
          "data": {
            "image/png": "[encoded data removed]",
            "text/plain": "<Figure size 432x288 with 1 Axes>"
          },
          "metadata": {},
          "output_type": "display_data"
        }
      ]
    },
    {
      "cell_type": "code",
      "metadata": {
        "cell_id": "00029-d54b7463-2373-4b0e-aca5-7dc6b53bcf50",
        "deepnote_cell_type": "code"
      },
      "source": "stats.probplot(bmi_m_50_60, plot=plt, fit=True)\nplt.show()",
      "execution_count": null,
      "outputs": [
        {
          "data": {
            "image/png": "[encoded data removed]",
            "text/plain": "<Figure size 432x288 with 1 Axes>"
          },
          "metadata": {},
          "output_type": "display_data"
        }
      ]
    },
    {
      "cell_type": "code",
      "metadata": {
        "cell_id": "00030-f56278f0-3974-48dd-97af-189bba4b5ea4",
        "deepnote_cell_type": "code"
      },
      "source": "#testing of two means using ttest unpooled because of the differences in std and the qq looks non-normal\n\nbmi_30 = sm.stats.DescrStatsW(bmi_m_30_40)\nbmi_50 = sm.stats.DescrStatsW(bmi_m_50_60)\n\nsm.stats.CompareMeans(bmi_30, bmi_50).ztest_ind(usevar='unequal')",
      "execution_count": null,
      "outputs": [
        {
          "data": {
            "text/plain": "(0.8980221879527006, 0.3691737205589899)"
          },
          "execution_count": 122,
          "metadata": {},
          "output_type": "execute_result"
        }
      ]
    },
    {
      "cell_type": "markdown",
      "source": "__Q3a.__ How would you characterize the evidence that mean BMI differs between these age bands, and how would you characterize the evidence that mean log BMI differs between these age bands?",
      "metadata": {
        "cell_id": "00031-f6c8b486-d234-42c9-b4c7-64386e52df4c",
        "deepnote_cell_type": "markdown"
      }
    },
    {
      "cell_type": "markdown",
      "source": "",
      "metadata": {
        "cell_id": "00032-2d2dd1bc-3595-409d-9463-6a06b78e5e19",
        "deepnote_cell_type": "markdown"
      }
    },
    {
      "cell_type": "markdown",
      "source": "# From here, it is optional work: ",
      "metadata": {
        "cell_id": "00033-3e16ec8f-efa2-4916-ad65-8218ded1a3f8",
        "deepnote_cell_type": "markdown"
      }
    },
    {
      "cell_type": "markdown",
      "source": "## Question 4\n\nSuppose we wish to compare the mean BMI between college graduates and people who have not graduated from college, focusing on women between the ages of 30 and 40.  First, consider the variance of BMI within each of these subpopulations using graphical techniques, and through the estimated subpopulation variances.  Then, calculate pooled and unpooled estimates of the standard error for the difference between the mean BMI in the two populations being compared.  Finally, test the null hypothesis that the two population means are equal, using each of the two different standard errors.",
      "metadata": {
        "cell_id": "00034-3fd9504b-cbfb-490a-b32f-856d888f52a0",
        "deepnote_cell_type": "markdown"
      }
    },
    {
      "cell_type": "code",
      "metadata": {
        "cell_id": "00035-e00477a0-b73c-4023-8d94-6c9f57e1d9a7",
        "deepnote_cell_type": "code"
      },
      "source": "# insert your code here",
      "execution_count": null,
      "outputs": []
    },
    {
      "cell_type": "markdown",
      "source": "__Q4a.__ Comment on the strength of evidence against the null hypothesis that these two populations have equal mean BMI.",
      "metadata": {
        "cell_id": "00036-e5b1a5d8-34c6-4c3f-bdc9-d861a4e460c7",
        "deepnote_cell_type": "markdown"
      }
    },
    {
      "cell_type": "markdown",
      "source": "",
      "metadata": {
        "cell_id": "00037-1f389f32-1eac-4b4c-a0f1-4b9474739ef6",
        "deepnote_cell_type": "markdown"
      }
    },
    {
      "cell_type": "markdown",
      "source": "__Q4b.__ Comment on the degree to which the two populations have different variances, and on the extent to which the results using different approaches to estimating the standard error of the mean difference give divergent results.",
      "metadata": {
        "cell_id": "00038-08e38424-a932-47af-b17d-e21c174cbe6b",
        "deepnote_cell_type": "markdown"
      }
    },
    {
      "cell_type": "markdown",
      "source": "",
      "metadata": {
        "cell_id": "00039-426cd8ff-77f8-4862-8779-87d8498f5838",
        "deepnote_cell_type": "markdown"
      }
    },
    {
      "cell_type": "markdown",
      "source": "## Question 5\n\nConduct a test of the null hypothesis that the first and second diastolic blood pressure measurements within a subject have the same mean values.",
      "metadata": {
        "cell_id": "00040-04c8a508-f2a9-4069-b941-78d9caf47b5a",
        "deepnote_cell_type": "markdown"
      }
    },
    {
      "cell_type": "code",
      "metadata": {
        "cell_id": "00041-9c0cb99b-cc0e-45e7-b513-e3627be5681a",
        "deepnote_cell_type": "code"
      },
      "source": "# insert your code here",
      "execution_count": null,
      "outputs": []
    },
    {
      "cell_type": "markdown",
      "source": "__Q5a.__ Briefly describe your findings for an audience that is not familiar with statistical hypothesis testing.",
      "metadata": {
        "cell_id": "00042-63b7af0e-8923-4ad2-9d67-56714c1fdb42",
        "deepnote_cell_type": "markdown"
      }
    },
    {
      "cell_type": "markdown",
      "source": "",
      "metadata": {
        "cell_id": "00043-f3050d67-01b5-4c56-807c-4c311a137249",
        "deepnote_cell_type": "markdown"
      }
    },
    {
      "cell_type": "markdown",
      "source": "__Q5b.__ Pretend that the first and second diastolic blood pressure measurements were taken on different people.  Modfify the analysis above as appropriate for this setting.",
      "metadata": {
        "cell_id": "00044-30186ae7-0fd0-477f-b3e3-6368748a9b70",
        "deepnote_cell_type": "markdown"
      }
    },
    {
      "cell_type": "code",
      "metadata": {
        "cell_id": "00045-1810079f-5591-4886-b2f6-560ebf24c293",
        "deepnote_cell_type": "code"
      },
      "source": "# insert your code here",
      "execution_count": null,
      "outputs": []
    },
    {
      "cell_type": "markdown",
      "source": "__Q5c.__ Briefly describe how the approaches used and the results obtained in the preceeding two parts of the question differ.",
      "metadata": {
        "cell_id": "00046-72d6997c-6d87-4e1b-b893-016428496e6b",
        "deepnote_cell_type": "markdown"
      }
    },
    {
      "cell_type": "markdown",
      "source": "",
      "metadata": {
        "cell_id": "00047-9c0e2ab9-0ef3-4511-a9d1-a481a9e9da29",
        "deepnote_cell_type": "markdown"
      }
    },
    {
      "cell_type": "markdown",
      "source": "<a style='text-decoration:none;line-height:16px;display:flex;color:#5B5B62;padding:10px;justify-content:end;' href='https://deepnote.com?utm_source=created-in-deepnote-cell&projectId=796ba814-f632-4502-b0d7-7e2f8f9e546d' target=\"_blank\">\n<img alt='Created in deepnote.com' style='display:inline;max-height:16px;margin:0px;margin-right:7.5px;' src='data:image/svg+xml;base64,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' > </img>\nCreated in <span style='font-weight:600;margin-left:4px;'>Deepnote</span></a>",
      "metadata": {
        "tags": [],
        "created_in_deepnote_cell": true,
        "deepnote_cell_type": "markdown"
      }
    }
  ],
  "nbformat": 4,
  "nbformat_minor": 2,
  "metadata": {
    "kernelspec": {
      "display_name": "Python 3",
      "language": "python",
      "name": "python3"
    },
    "language_info": {
      "codemirror_mode": {
        "name": "ipython",
        "version": 3
      },
      "file_extension": ".py",
      "mimetype": "text/x-python",
      "name": "python",
      "nbconvert_exporter": "python",
      "pygments_lexer": "ipython3",
      "version": "3.8.5"
    },
    "deepnote_notebook_id": "4fd92bf3-0210-4bea-8f94-8a0d74eabd3f",
    "deepnote": {},
    "deepnote_execution_queue": []
  }
}