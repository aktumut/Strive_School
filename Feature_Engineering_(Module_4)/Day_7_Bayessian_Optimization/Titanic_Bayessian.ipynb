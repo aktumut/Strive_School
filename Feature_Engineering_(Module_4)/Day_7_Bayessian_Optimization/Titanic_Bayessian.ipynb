{
 "cells": [
  {
   "cell_type": "markdown",
   "source": "## Imports",
   "metadata": {
    "id": "Fvhf5aj7GTI8",
    "cell_id": "00000-7de3c7a6-5322-482d-9435-c38951b58d21",
    "deepnote_cell_type": "markdown"
   }
  },
  {
   "cell_type": "code",
   "metadata": {
    "colab": {
     "base_uri": "https://localhost:8080/"
    },
    "id": "mjnuJ19dJV7v",
    "outputId": "d20d4825-fa0d-4f12-9d07-8bbba494c64c",
    "deepnote_to_be_reexecuted": false,
    "source_hash": "fbbc4272",
    "execution_start": 1620745278523,
    "execution_millis": 1032,
    "cell_id": "00001-daa5b09c-802c-4d73-a32c-556cc19d60bb",
    "deepnote_cell_type": "code"
   },
   "source": "import time\nfrom IPython.display import clear_output\nimport numpy    as np\nimport pandas   as pd\nimport seaborn  as sb\nimport matplotlib.pyplot as plt\nimport sklearn  as skl\n\nfrom sklearn import pipeline      # Pipeline\nfrom sklearn import preprocessing # OrdinalEncoder, LabelEncoder\nfrom sklearn import impute\nfrom sklearn import compose\nfrom sklearn import model_selection # train_test_split\nfrom sklearn import metrics         # accuracy_score, balanced_accuracy_score, plot_confusion_matrix\nfrom sklearn import set_config\nfrom sklearn.impute import KNNImputer\nfrom sklearn.preprocessing import PowerTransformer\nfrom sklearn.preprocessing import QuantileTransformer\n\nset_config(display='diagram') # Useful for display the pipeline\n\nprint(\"Pandas  \", pd.__version__)\nprint(\"Sklearn \", skl.__version__) # Try to use 0.24",
   "execution_count": null,
   "outputs": []
  },
  {
   "cell_type": "markdown",
   "source": "## Get the dataset\n- **CLOUD = True**: Download dataset from Kaggle. Necesary for cloud enviroments like COLAB. **Specify your [kaggle credentials](https://www.kaggle.com/docs/api)**.\n- **CLOUD = False**: Get the dataset from your local machine. **Specify the data path**.",
   "metadata": {
    "id": "7Pl1NEDkGTJC",
    "cell_id": "00002-8104d467-ccf7-4908-a59a-184058ab88e8",
    "deepnote_cell_type": "markdown"
   }
  },
  {
   "cell_type": "code",
   "metadata": {
    "id": "7JpmZyaMGTJD",
    "colab": {
     "base_uri": "https://localhost:8080/",
     "height": 307
    },
    "outputId": "096819c7-915b-413e-87c2-c5fe3d4e0619",
    "deepnote_to_be_reexecuted": false,
    "source_hash": "c5577990",
    "execution_start": 1620745279564,
    "execution_millis": 13,
    "cell_id": "00003-495cd134-1b47-4275-8569-f2c1326a275c",
    "deepnote_cell_type": "code"
   },
   "source": "CLOUD = False\n\nif CLOUD:\n    import os\n    os.environ['KAGGLE_USERNAME'] = \"umutakta\"\n    os.environ['KAGGLE_KEY']      = \"a471e5474add8d57cadac3cc5ff2b1d6\"  # See https://www.kaggle.com/docs/api\n    !pip install --upgrade kaggle\n    !kaggle competitions download -c titanic\n    DATA_PATH = \"/work/Strive_School/Feature_Engineering_(Module_4)/Day_2_ Data Cleaning/titanic/\"\n\nelse:\n    DATA_PATH = \"/work/Data_Sets/titanic/\"\n\nDATA_PATH",
   "execution_count": null,
   "outputs": [
    {
     "output_type": "execute_result",
     "execution_count": 2,
     "data": {
      "text/plain": "'/work/Data_Sets/titanic/'"
     },
     "metadata": {}
    }
   ]
  },
  {
   "cell_type": "markdown",
   "source": "## Load data",
   "metadata": {
    "id": "AENWx5_SGTJE",
    "cell_id": "00004-58e0f870-829c-4a08-b2bb-9cf46c4e1387",
    "deepnote_cell_type": "markdown"
   }
  },
  {
   "cell_type": "code",
   "metadata": {
    "colab": {
     "base_uri": "https://localhost:8080/"
    },
    "id": "wAy8TnVPJV8S",
    "outputId": "9dd361fa-9cb6-47fb-993e-c8a0a39537da",
    "deepnote_to_be_reexecuted": false,
    "source_hash": "e6b3969e",
    "execution_start": 1620745279572,
    "execution_millis": 30,
    "cell_id": "00005-3c9b9e5f-a27c-435d-b576-0e316cadf104",
    "deepnote_cell_type": "code"
   },
   "source": "df      = pd.read_csv(DATA_PATH + \"train.csv\", index_col='PassengerId')\ndf_test = pd.read_csv(DATA_PATH + \"test.csv\",  index_col='PassengerId')\n\nprint(\"Train DataFrame:\", df.shape)\nprint(\"Test DataFrame: \", df_test.shape)",
   "execution_count": null,
   "outputs": [
    {
     "name": "stdout",
     "text": "Train DataFrame: (891, 11)\nTest DataFrame:  (418, 10)\n",
     "output_type": "stream"
    }
   ]
  },
  {
   "cell_type": "markdown",
   "source": "## Check missings",
   "metadata": {
    "id": "L-J5FF4jGTJE",
    "cell_id": "00006-6342c516-ceae-43d5-b70b-16f8e4fe0797",
    "deepnote_cell_type": "markdown"
   }
  },
  {
   "cell_type": "code",
   "metadata": {
    "id": "Aa63GWy2GTJF",
    "colab": {
     "base_uri": "https://localhost:8080/"
    },
    "outputId": "12527b4a-9e0c-4b83-99a8-50783593f832",
    "deepnote_to_be_reexecuted": false,
    "source_hash": "f3dd26da",
    "execution_start": 1620745279593,
    "execution_millis": 13,
    "cell_id": "00007-42190f93-159c-4413-b88a-be49596f783a",
    "deepnote_cell_type": "code"
   },
   "source": "df.isnull().sum()",
   "execution_count": null,
   "outputs": [
    {
     "output_type": "execute_result",
     "execution_count": 4,
     "data": {
      "text/plain": "Survived      0\nPclass        0\nName          0\nSex           0\nAge         177\nSibSp         0\nParch         0\nTicket        0\nFare          0\nCabin       687\nEmbarked      2\ndtype: int64"
     },
     "metadata": {}
    }
   ]
  },
  {
   "cell_type": "code",
   "metadata": {
    "id": "RuU4CA-zGTJF",
    "colab": {
     "base_uri": "https://localhost:8080/"
    },
    "outputId": "c1ab2405-aaf9-4403-beb9-18e52932b3d7",
    "deepnote_to_be_reexecuted": false,
    "source_hash": "5a27af67",
    "execution_start": 1620745279602,
    "execution_millis": 16,
    "cell_id": "00008-41de18f7-6480-4ed1-b221-245193f1e0a5",
    "deepnote_cell_type": "code"
   },
   "source": "df_test.isnull().sum()",
   "execution_count": null,
   "outputs": [
    {
     "output_type": "execute_result",
     "execution_count": 5,
     "data": {
      "text/plain": "Pclass        0\nName          0\nSex           0\nAge          86\nSibSp         0\nParch         0\nTicket        0\nFare          1\nCabin       327\nEmbarked      0\ndtype: int64"
     },
     "metadata": {}
    }
   ]
  },
  {
   "cell_type": "markdown",
   "source": "# Exercise 1 (2pts):\nExtract the title (Mr, Mrs, ... ) from the \"Name\" column.\n\nTips:\n- split(',')[1] to get the 2nd part, and remove the surnamename\n- split('.')[0] to get the 1str part, and remove the name",
   "metadata": {
    "id": "wqMF4rvWGTJF",
    "cell_id": "00009-45dd8b54-9c72-4daa-8866-ec5b4f37f015",
    "deepnote_cell_type": "markdown"
   }
  },
  {
   "cell_type": "code",
   "metadata": {
    "deletable": false,
    "nbgrader": {
     "cell_type": "code",
     "checksum": "cac1de4ed2d966fcdf707a8bfd131fba",
     "grade": false,
     "grade_id": "cell-d56107842f0f54d2",
     "locked": false,
     "schema_version": 3,
     "solution": true,
     "task": false
    },
    "id": "etk_5JccGTJG",
    "deepnote_to_be_reexecuted": false,
    "source_hash": "f6edd746",
    "execution_start": 1620745279615,
    "execution_millis": 5,
    "cell_id": "00010-c1ea621f-44f4-48c8-aa65-1eb2f26e24a3",
    "deepnote_cell_type": "code"
   },
   "source": "# CODE HERE get_Title_from_Name funtion\n# Create this function using lambda (not def)\n\nget_Title_from_Name = lambda x: x.split(\",\")[1].split(\".\")[0].strip()\n\n# YOUR CODE HERE\n\n\ndf['Title']      = df['Name'].map(get_Title_from_Name )\ndf_test['Title'] = df_test['Name'].map(get_Title_from_Name)",
   "execution_count": null,
   "outputs": []
  },
  {
   "cell_type": "code",
   "metadata": {
    "deletable": false,
    "editable": false,
    "nbgrader": {
     "cell_type": "code",
     "checksum": "f23c4d567e5fb4f4b69a001df14c6f7c",
     "grade": true,
     "grade_id": "cell-f3d989a17018344b",
     "locked": true,
     "points": 2,
     "schema_version": 3,
     "solution": false,
     "task": false
    },
    "id": "rjA2WiP2GTJG",
    "deepnote_to_be_reexecuted": false,
    "source_hash": "cdcf037f",
    "execution_start": 1620745279625,
    "execution_millis": 4,
    "cell_id": "00011-67d4ee88-b760-4033-9045-b989446cd8fd",
    "deepnote_cell_type": "code"
   },
   "source": "assert df['Title'].values[0] == \"Mr\"\nassert df['Title'].values[1] == \"Mrs\"\nassert df['Title'].values[2] == \"Miss\"\n\nassert df_test['Title'].values[0] == \"Mr\"\nassert df_test['Title'].values[1] == \"Mrs\"\nassert df_test['Title'].values[414] == \"Dona\"",
   "execution_count": null,
   "outputs": []
  },
  {
   "cell_type": "markdown",
   "source": "# Exercise 2 (1pts):\nApply the title_dictionary to get a better information about the title. You have to overwrite the Title variable.",
   "metadata": {
    "id": "UgNzdajbGTJH",
    "cell_id": "00012-b1631415-7ba8-451d-8496-955dab88d2c3",
    "deepnote_cell_type": "markdown"
   }
  },
  {
   "cell_type": "code",
   "metadata": {
    "id": "5ldddkOOGTJH",
    "deepnote_to_be_reexecuted": false,
    "source_hash": "93108900",
    "execution_start": 1620745279635,
    "execution_millis": 3,
    "cell_id": "00013-b7bb42ef-8b23-4a62-9e37-a90ccaf869a4",
    "deepnote_cell_type": "code"
   },
   "source": "title_dictionary = {\n    \"Capt\": \"Officer\",\n    \"Col\": \"Officer\",\n    \"Major\": \"Officer\",\n    \"Jonkheer\": \"Royalty\",\n    \"Don\": \"Royalty\",\n    \"Sir\" : \"Royalty\",\n    \"Dr\": \"Officer\",\n    \"Rev\": \"Officer\",\n    \"the Countess\":\"Royalty\",\n    \"Mme\": \"Mrs\",\n    \"Mlle\": \"Miss\",\n    \"Ms\": \"Mrs\",\n    \"Mr\" : \"Mr\",\n    \"Mrs\" : \"Mrs\",\n    \"Miss\" : \"Miss\",\n    \"Master\" : \"Master\",\n    \"Lady\" : \"Royalty\"\n}",
   "execution_count": null,
   "outputs": []
  },
  {
   "cell_type": "code",
   "metadata": {
    "deletable": false,
    "nbgrader": {
     "cell_type": "code",
     "checksum": "da7233548e7218eded680b5edb7963de",
     "grade": false,
     "grade_id": "cell-5c6a842c812fafda",
     "locked": false,
     "schema_version": 3,
     "solution": true,
     "task": false
    },
    "id": "qcrIrZ4eGTJH",
    "deepnote_to_be_reexecuted": false,
    "source_hash": "460610bb",
    "execution_start": 1620745279646,
    "execution_millis": 2,
    "cell_id": "00014-bb98f523-27c0-4b2e-8532-a4b9bd9e61b7",
    "deepnote_cell_type": "code"
   },
   "source": "# Use map to apply the prevous dict\n\n# df[\"Title\"] =  \n# df_test[\"Title\"] =\n\n# YOUR CODE HERE\ndf[\"Title\"] = df['Title'].map(title_dictionary)\ndf_test[\"Title\"] = df_test['Title'].map(title_dictionary)",
   "execution_count": null,
   "outputs": []
  },
  {
   "cell_type": "code",
   "metadata": {
    "deletable": false,
    "editable": false,
    "nbgrader": {
     "cell_type": "code",
     "checksum": "96a09f1cde63b704ff2f391309c30690",
     "grade": true,
     "grade_id": "cell-669f5a637e57e835",
     "locked": true,
     "points": 1,
     "schema_version": 3,
     "solution": false,
     "task": false
    },
    "id": "Hk0Io4rWGTJI",
    "deepnote_to_be_reexecuted": false,
    "source_hash": "c2c848aa",
    "execution_start": 1620745279649,
    "execution_millis": 9,
    "cell_id": "00015-ba6c557d-682f-4899-b611-4de9f62cff5c",
    "deepnote_cell_type": "code"
   },
   "source": "assert df['Title'].values[886] == \"Officer\"\nassert df_test['Title'].values[417] == \"Master\"",
   "execution_count": null,
   "outputs": []
  },
  {
   "cell_type": "markdown",
   "source": "# Exercise OPTINAL (0pts):\nTry to extract some information from the feature **Ticket**. Search on Internet if that colum has some kind of information.",
   "metadata": {
    "id": "CvWatIkvGTJI",
    "cell_id": "00016-17f5bc90-28b0-4687-aae2-c18cec9ed92a",
    "deepnote_cell_type": "markdown"
   }
  },
  {
   "cell_type": "code",
   "metadata": {
    "id": "s6UeTErrGTJI",
    "colab": {
     "base_uri": "https://localhost:8080/"
    },
    "outputId": "6d4758f1-6d32-471c-dc0e-c1798e1be947",
    "deepnote_to_be_reexecuted": false,
    "source_hash": "8057010a",
    "execution_start": 1620745279659,
    "execution_millis": 21,
    "cell_id": "00017-e17943cc-c533-4471-b66d-07d173b3e4e8",
    "deepnote_cell_type": "code"
   },
   "source": "df_test['Ticket']",
   "execution_count": null,
   "outputs": [
    {
     "output_type": "execute_result",
     "execution_count": 11,
     "data": {
      "text/plain": "PassengerId\n892                 330911\n893                 363272\n894                 240276\n895                 315154\n896                3101298\n               ...        \n1305             A.5. 3236\n1306              PC 17758\n1307    SOTON/O.Q. 3101262\n1308                359309\n1309                  2668\nName: Ticket, Length: 418, dtype: object"
     },
     "metadata": {}
    }
   ]
  },
  {
   "cell_type": "markdown",
   "source": "# Exercise OPTIONAL (0pts):\nTry to extract some information from the feature **Cabin**. Search on Internet if that colum has some kind of information.",
   "metadata": {
    "id": "mIg7gLfIGTJJ",
    "cell_id": "00018-ebdec5eb-b87f-4a7f-aad0-b99a724d8236",
    "deepnote_cell_type": "markdown"
   }
  },
  {
   "cell_type": "code",
   "metadata": {
    "id": "wtnbMMjsGTJJ",
    "deepnote_to_be_reexecuted": false,
    "source_hash": "d2530624",
    "execution_start": 1620745279670,
    "execution_millis": 2,
    "cell_id": "00019-d20054f4-f846-4d72-9844-26e56b291f00",
    "deepnote_cell_type": "code"
   },
   "source": "df_test['Cabin']\n\ndf.Cabin.fillna(0, inplace=True) #We named Null cells as 'Empty'\ndf_test.Cabin.fillna(0, inplace=True) #We named Null cells as 'Empty'\n\ndf.loc[df[\"Cabin\"] != 0, \"Cabin\"] = 1\ndf_test.loc[df_test[\"Cabin\"] != 0, \"Cabin\" ] =1\n\n\n",
   "execution_count": null,
   "outputs": []
  },
  {
   "cell_type": "code",
   "metadata": {
    "tags": [],
    "cell_id": "00020-aa18e275-f8cd-4ba4-9d80-bc1505aa3ae9",
    "deepnote_to_be_reexecuted": false,
    "source_hash": "b623e53d",
    "execution_start": 1620745279676,
    "execution_millis": 22,
    "deepnote_cell_type": "code"
   },
   "source": "",
   "execution_count": null,
   "outputs": []
  },
  {
   "cell_type": "code",
   "metadata": {
    "id": "Ga2zbIvq6bAm",
    "cell_id": "00021-4641d825-579c-47ba-8631-04e23a0c402f",
    "deepnote_to_be_reexecuted": false,
    "source_hash": "c5f81e32",
    "execution_start": 1620745279741,
    "execution_millis": 1,
    "deepnote_cell_type": "code"
   },
   "source": "df.Age.fillna(df.groupby(['Pclass', 'Sex']).Age.transform('mean'), inplace=True)\ndf_test.Age.fillna(df_test.groupby(['Pclass', 'Sex']).Age.transform('mean'), inplace=True)",
   "execution_count": null,
   "outputs": []
  },
  {
   "cell_type": "markdown",
   "source": "# Preprocessing\nFor X data, notice that...\n- We drop Survived because is the target variable\n- We drop Name because we have extracted the Title: Mr, Mrs, ...\n- We drop Ticket because it has no information -> see df.Ticket.nunique()\n- We drop Cabin because it has a lot of missings (77% are missings)\n\nThen, we identify **numerical** variables and **categorical** variables,",
   "metadata": {
    "id": "9tGsgzSwGTJJ",
    "cell_id": "00022-c42890d8-3a08-4b2f-9890-666463fe2d5c",
    "deepnote_cell_type": "markdown"
   }
  },
  {
   "cell_type": "code",
   "metadata": {
    "id": "FDrpBk5_GTJJ",
    "deepnote_to_be_reexecuted": false,
    "source_hash": "b1e3ada0",
    "execution_start": 1620746711615,
    "execution_millis": 4,
    "cell_id": "00023-6309ad3d-0f67-4d00-9fe1-2359db61027a",
    "deepnote_cell_type": "code"
   },
   "source": "x = df.drop(columns=[\"Survived\", 'Name', 'Ticket']) # X DATA (WILL BE TRAIN+VALID DATA)\ny = df[\"Survived\"] # 0 = No, 1 = Yes\n\nx_test = df_test.drop(columns=['Name', 'Ticket']) # # X_TEST DATA (NEW DATA)",
   "execution_count": null,
   "outputs": []
  },
  {
   "cell_type": "code",
   "metadata": {
    "id": "IH7jsS2BGTJK",
    "colab": {
     "base_uri": "https://localhost:8080/"
    },
    "outputId": "dc0a4d2e-2aa5-41b3-dca0-753a1f608328",
    "deepnote_to_be_reexecuted": false,
    "source_hash": "d4ce8b83",
    "execution_start": 1620745279743,
    "execution_millis": 39,
    "cell_id": "00024-3c3c52ab-b9fe-44fb-9383-6dfb787eda59",
    "deepnote_cell_type": "code"
   },
   "source": "cat_vars  = ['Sex', 'Embarked', 'Title']         # x.select_dtypes(include=[object]).columns.values.tolist()\nnum_vars  = ['Pclass', 'SibSp', 'Parch', 'Fare', 'Age'] # x.select_dtypes(exclude=[object]).columns.values.tolist()\n\nprint(\"\\nNumerical features:\\n\", num_vars)\nprint(\"\\nCategorical features:\\n\", cat_vars)",
   "execution_count": null,
   "outputs": [
    {
     "name": "stdout",
     "text": "\nNumerical features:\n ['Pclass', 'SibSp', 'Parch', 'Fare', 'Age']\n\nCategorical features:\n ['Sex', 'Embarked', 'Title']\n",
     "output_type": "stream"
    }
   ]
  },
  {
   "cell_type": "markdown",
   "source": "# Exercise 3 (2pts):\nCreate a **ColumnTransformer for Tree Models**. You need to create 2 pipelines (one for numerical and other for categories). Remember:\n- Categorical pipeline: Some SimpleImputer -> Some Encoder\n- Numerical pipeline: Some SimpleImputer -> NO Encoder",
   "metadata": {
    "id": "EThRmjL4GTJK",
    "cell_id": "00025-0bf6fd81-dbfc-4c7d-9a7b-6ecbb5d322f5",
    "deepnote_cell_type": "markdown"
   }
  },
  {
   "cell_type": "code",
   "metadata": {
    "deletable": false,
    "nbgrader": {
     "cell_type": "code",
     "checksum": "4a99fc5ecc693dc549b0e1560c568eea",
     "grade": false,
     "grade_id": "cell-c607e75fb38ea248",
     "locked": false,
     "schema_version": 3,
     "solution": true,
     "task": false
    },
    "id": "iujggawzGTJL",
    "colab": {
     "base_uri": "https://localhost:8080/",
     "height": 134
    },
    "outputId": "dbc2d864-ebcb-4c11-d2d6-b86d8f2770d4",
    "deepnote_to_be_reexecuted": false,
    "source_hash": "68ef0baa",
    "execution_start": 1620745279762,
    "execution_millis": 36,
    "cell_id": "00027-c605b848-486e-4485-ad7e-59839d72dd06",
    "deepnote_cell_type": "code"
   },
   "source": "\ncat_4_multModels = pipeline.Pipeline(steps=[\n    ('imputer', impute.SimpleImputer(strategy='constant', fill_value='missing')),\n    ('one hot', preprocessing.OneHotEncoder(\n))\n])\n\n\nnum_4_multmodels=pipeline.Pipeline(steps=[\n    (\"imputer\",KNNImputer(n_neighbors=5)),\n    (\"quantile transformer\",preprocessing.QuantileTransformer(n_quantiles=100, random_state=0))\n    ])\n\ntree_prepro = compose.ColumnTransformer(transformers=[\n    #('num', num_4_treeModels, num_vars),\n    #('cat', cat_4_treeModels, cat_vars),\n    (\"cat mult\",cat_4_multModels,cat_vars),\n    (\"num mult\",num_4_multmodels,num_vars)\n], remainder='drop') # Drop other vars not specified in num_vars or cat_vars\n\ntree_prepro\n\n",
   "execution_count": null,
   "outputs": [
    {
     "output_type": "execute_result",
     "execution_count": 16,
     "data": {
      "text/plain": "ColumnTransformer(transformers=[('cat mult',\n                                 Pipeline(steps=[('imputer',\n                                                  SimpleImputer(fill_value='missing',\n                                                                strategy='constant')),\n                                                 ('one hot', OneHotEncoder())]),\n                                 ['Sex', 'Embarked', 'Title']),\n                                ('num mult',\n                                 Pipeline(steps=[('imputer', KNNImputer()),\n                                                 ('quantile transformer',\n                                                  QuantileTransformer(n_quantiles=100,\n                                                                      random_state=0))]),\n                                 ['Pclass', 'SibSp', 'Parch', 'Fare', 'Age'])])",
      "text/html": "<style>#sk-a48148d4-86a4-4b34-a8a3-a42e119ac907 {color: black;background-color: white;}#sk-a48148d4-86a4-4b34-a8a3-a42e119ac907 pre{padding: 0;}#sk-a48148d4-86a4-4b34-a8a3-a42e119ac907 div.sk-toggleable {background-color: white;}#sk-a48148d4-86a4-4b34-a8a3-a42e119ac907 label.sk-toggleable__label {cursor: pointer;display: block;width: 100%;margin-bottom: 0;padding: 0.2em 0.3em;box-sizing: border-box;text-align: center;}#sk-a48148d4-86a4-4b34-a8a3-a42e119ac907 div.sk-toggleable__content {max-height: 0;max-width: 0;overflow: hidden;text-align: left;background-color: #f0f8ff;}#sk-a48148d4-86a4-4b34-a8a3-a42e119ac907 div.sk-toggleable__content pre {margin: 0.2em;color: black;border-radius: 0.25em;background-color: #f0f8ff;}#sk-a48148d4-86a4-4b34-a8a3-a42e119ac907 input.sk-toggleable__control:checked~div.sk-toggleable__content {max-height: 200px;max-width: 100%;overflow: auto;}#sk-a48148d4-86a4-4b34-a8a3-a42e119ac907 div.sk-estimator input.sk-toggleable__control:checked~label.sk-toggleable__label {background-color: #d4ebff;}#sk-a48148d4-86a4-4b34-a8a3-a42e119ac907 div.sk-label input.sk-toggleable__control:checked~label.sk-toggleable__label {background-color: #d4ebff;}#sk-a48148d4-86a4-4b34-a8a3-a42e119ac907 input.sk-hidden--visually {border: 0;clip: rect(1px 1px 1px 1px);clip: rect(1px, 1px, 1px, 1px);height: 1px;margin: -1px;overflow: hidden;padding: 0;position: absolute;width: 1px;}#sk-a48148d4-86a4-4b34-a8a3-a42e119ac907 div.sk-estimator {font-family: monospace;background-color: #f0f8ff;margin: 0.25em 0.25em;border: 1px dotted black;border-radius: 0.25em;box-sizing: border-box;}#sk-a48148d4-86a4-4b34-a8a3-a42e119ac907 div.sk-estimator:hover {background-color: #d4ebff;}#sk-a48148d4-86a4-4b34-a8a3-a42e119ac907 div.sk-parallel-item::after {content: \"\";width: 100%;border-bottom: 1px solid gray;flex-grow: 1;}#sk-a48148d4-86a4-4b34-a8a3-a42e119ac907 div.sk-label:hover label.sk-toggleable__label {background-color: #d4ebff;}#sk-a48148d4-86a4-4b34-a8a3-a42e119ac907 div.sk-serial::before {content: \"\";position: absolute;border-left: 1px solid gray;box-sizing: border-box;top: 2em;bottom: 0;left: 50%;}#sk-a48148d4-86a4-4b34-a8a3-a42e119ac907 div.sk-serial {display: flex;flex-direction: column;align-items: center;background-color: white;}#sk-a48148d4-86a4-4b34-a8a3-a42e119ac907 div.sk-item {z-index: 1;}#sk-a48148d4-86a4-4b34-a8a3-a42e119ac907 div.sk-parallel {display: flex;align-items: stretch;justify-content: center;background-color: white;}#sk-a48148d4-86a4-4b34-a8a3-a42e119ac907 div.sk-parallel-item {display: flex;flex-direction: column;position: relative;background-color: white;}#sk-a48148d4-86a4-4b34-a8a3-a42e119ac907 div.sk-parallel-item:first-child::after {align-self: flex-end;width: 50%;}#sk-a48148d4-86a4-4b34-a8a3-a42e119ac907 div.sk-parallel-item:last-child::after {align-self: flex-start;width: 50%;}#sk-a48148d4-86a4-4b34-a8a3-a42e119ac907 div.sk-parallel-item:only-child::after {width: 0;}#sk-a48148d4-86a4-4b34-a8a3-a42e119ac907 div.sk-dashed-wrapped {border: 1px dashed gray;margin: 0.2em;box-sizing: border-box;padding-bottom: 0.1em;background-color: white;position: relative;}#sk-a48148d4-86a4-4b34-a8a3-a42e119ac907 div.sk-label label {font-family: monospace;font-weight: bold;background-color: white;display: inline-block;line-height: 1.2em;}#sk-a48148d4-86a4-4b34-a8a3-a42e119ac907 div.sk-label-container {position: relative;z-index: 2;text-align: center;}#sk-a48148d4-86a4-4b34-a8a3-a42e119ac907 div.sk-container {display: inline-block;position: relative;}</style><div id=\"sk-a48148d4-86a4-4b34-a8a3-a42e119ac907\" class\"sk-top-container\"><div class=\"sk-container\"><div class=\"sk-item sk-dashed-wrapped\"><div class=\"sk-label-container\"><div class=\"sk-label sk-toggleable\"><input class=\"sk-toggleable__control sk-hidden--visually\" id=\"f820fd66-38e8-4143-81ed-f126bd7518b3\" type=\"checkbox\" ><label class=\"sk-toggleable__label\" for=\"f820fd66-38e8-4143-81ed-f126bd7518b3\">ColumnTransformer</label><div class=\"sk-toggleable__content\"><pre>ColumnTransformer(transformers=[('cat mult',\n                                 Pipeline(steps=[('imputer',\n                                                  SimpleImputer(fill_value='missing',\n                                                                strategy='constant')),\n                                                 ('one hot', OneHotEncoder())]),\n                                 ['Sex', 'Embarked', 'Title']),\n                                ('num mult',\n                                 Pipeline(steps=[('imputer', KNNImputer()),\n                                                 ('quantile transformer',\n                                                  QuantileTransformer(n_quantiles=100,\n                                                                      random_state=0))]),\n                                 ['Pclass', 'SibSp', 'Parch', 'Fare', 'Age'])])</pre></div></div></div><div class=\"sk-parallel\"><div class=\"sk-parallel-item\"><div class=\"sk-item\"><div class=\"sk-label-container\"><div class=\"sk-label sk-toggleable\"><input class=\"sk-toggleable__control sk-hidden--visually\" id=\"e22fc6f8-075a-4362-af32-ef33c0052aff\" type=\"checkbox\" ><label class=\"sk-toggleable__label\" for=\"e22fc6f8-075a-4362-af32-ef33c0052aff\">cat mult</label><div class=\"sk-toggleable__content\"><pre>['Sex', 'Embarked', 'Title']</pre></div></div></div><div class=\"sk-serial\"><div class=\"sk-item\"><div class=\"sk-serial\"><div class=\"sk-item\"><div class=\"sk-estimator sk-toggleable\"><input class=\"sk-toggleable__control sk-hidden--visually\" id=\"1202360b-dcf2-40ea-87e7-45712b60f3c3\" type=\"checkbox\" ><label class=\"sk-toggleable__label\" for=\"1202360b-dcf2-40ea-87e7-45712b60f3c3\">SimpleImputer</label><div class=\"sk-toggleable__content\"><pre>SimpleImputer(fill_value='missing', strategy='constant')</pre></div></div></div><div class=\"sk-item\"><div class=\"sk-estimator sk-toggleable\"><input class=\"sk-toggleable__control sk-hidden--visually\" id=\"deb73d5e-c9e9-4653-9eb4-5ddfd4e56f67\" type=\"checkbox\" ><label class=\"sk-toggleable__label\" for=\"deb73d5e-c9e9-4653-9eb4-5ddfd4e56f67\">OneHotEncoder</label><div class=\"sk-toggleable__content\"><pre>OneHotEncoder()</pre></div></div></div></div></div></div></div></div><div class=\"sk-parallel-item\"><div class=\"sk-item\"><div class=\"sk-label-container\"><div class=\"sk-label sk-toggleable\"><input class=\"sk-toggleable__control sk-hidden--visually\" id=\"50fad6ac-6131-4ad2-9af2-c3922429c74f\" type=\"checkbox\" ><label class=\"sk-toggleable__label\" for=\"50fad6ac-6131-4ad2-9af2-c3922429c74f\">num mult</label><div class=\"sk-toggleable__content\"><pre>['Pclass', 'SibSp', 'Parch', 'Fare', 'Age']</pre></div></div></div><div class=\"sk-serial\"><div class=\"sk-item\"><div class=\"sk-serial\"><div class=\"sk-item\"><div class=\"sk-estimator sk-toggleable\"><input class=\"sk-toggleable__control sk-hidden--visually\" id=\"ebad7204-4f7e-475d-8bac-a562725c8e7b\" type=\"checkbox\" ><label class=\"sk-toggleable__label\" for=\"ebad7204-4f7e-475d-8bac-a562725c8e7b\">KNNImputer</label><div class=\"sk-toggleable__content\"><pre>KNNImputer()</pre></div></div></div><div class=\"sk-item\"><div class=\"sk-estimator sk-toggleable\"><input class=\"sk-toggleable__control sk-hidden--visually\" id=\"12211c5c-d359-4772-8eeb-83585e2974dd\" type=\"checkbox\" ><label class=\"sk-toggleable__label\" for=\"12211c5c-d359-4772-8eeb-83585e2974dd\">QuantileTransformer</label><div class=\"sk-toggleable__content\"><pre>QuantileTransformer(n_quantiles=100, random_state=0)</pre></div></div></div></div></div></div></div></div></div></div></div></div>"
     },
     "metadata": {}
    }
   ]
  },
  {
   "cell_type": "markdown",
   "source": "# Exercise 4 (1pts):\n1. Complete the diccionary with some Tree Models.\n2. Then we put each model in a Pipeline where:\n   - first is the prepocessing with the column Transformer\n   - Then is the Tree model\n3. Display the fullpipeline of the LGBMClassifier",
   "metadata": {
    "id": "aL6HiZK0GTJL",
    "cell_id": "00029-503352fc-725c-4755-9e05-fe759adb8bb2",
    "deepnote_cell_type": "markdown"
   }
  },
  {
   "cell_type": "code",
   "metadata": {
    "id": "FXdl1hKgGTJM",
    "deepnote_to_be_reexecuted": false,
    "source_hash": "657a8b57",
    "execution_start": 1620745301721,
    "execution_millis": 248,
    "cell_id": "00030-49d67348-0c57-42ff-9c44-40539130b8d7",
    "deepnote_cell_type": "code"
   },
   "source": "from sklearn.tree          import DecisionTreeClassifier\nfrom sklearn.ensemble      import RandomForestClassifier\nfrom sklearn.ensemble      import ExtraTreesClassifier\nfrom sklearn.ensemble      import AdaBoostClassifier\nfrom sklearn.ensemble      import GradientBoostingClassifier\nfrom sklearn.experimental  import enable_hist_gradient_boosting # Necesary for HistGradientBoostingClassifier\nfrom sklearn.ensemble      import HistGradientBoostingClassifier\nfrom xgboost               import XGBClassifier\nfrom lightgbm              import LGBMClassifier\nfrom catboost              import CatBoostClassifier",
   "execution_count": null,
   "outputs": []
  },
  {
   "cell_type": "code",
   "metadata": {
    "tags": [],
    "deepnote_to_be_reexecuted": false,
    "source_hash": "9b4f4b43",
    "execution_start": 1620745302662,
    "execution_millis": 47,
    "cell_id": "00031-c6bf7367-3f62-4274-af03-3c6814a05dba",
    "deepnote_cell_type": "code"
   },
   "source": "from sklearn import svm\nfrom sklearn.linear_model import LogisticRegression\nfrom sklearn.neighbors import KNeighborsClassifier\nfrom sklearn.neural_network import MLPClassifier",
   "execution_count": null,
   "outputs": []
  },
  {
   "cell_type": "code",
   "metadata": {
    "tags": [],
    "deepnote_to_be_reexecuted": false,
    "source_hash": "bd3f372",
    "execution_start": 1620745303436,
    "execution_millis": 56,
    "cell_id": "00032-edf832ef-7b76-45a7-bab8-9dca7be0f07a",
    "deepnote_cell_type": "code"
   },
   "source": "mult_classifiers={\n    \"SVM\": svm.SVC(),\n    \"Logistic\": LogisticRegression(),\n    \"KNN\":KNeighborsClassifier(n_neighbors=3),\n    \"MLP\":MLPClassifier(solver='lbfgs', alpha=1e-5,hidden_layer_sizes=(5, 2), random_state=1)}\n\nmult_classifiers = {name: pipeline.make_pipeline(tree_prepro, model) for name, model in mult_classifiers.items()}\n\nmult_classifiers[\"SVM\"]",
   "execution_count": null,
   "outputs": [
    {
     "output_type": "execute_result",
     "execution_count": 20,
     "data": {
      "text/plain": "Pipeline(steps=[('columntransformer',\n                 ColumnTransformer(transformers=[('cat mult',\n                                                  Pipeline(steps=[('imputer',\n                                                                   SimpleImputer(fill_value='missing',\n                                                                                 strategy='constant')),\n                                                                  ('one hot',\n                                                                   OneHotEncoder())]),\n                                                  ['Sex', 'Embarked', 'Title']),\n                                                 ('num mult',\n                                                  Pipeline(steps=[('imputer',\n                                                                   KNNImputer()),\n                                                                  ('quantile '\n                                                                   'transformer',\n                                                                   QuantileTransformer(n_quantiles=100,\n                                                                                       random_state=0))]),\n                                                  ['Pclass', 'SibSp', 'Parch',\n                                                   'Fare', 'Age'])])),\n                ('svc', SVC())])",
      "text/html": "<style>#sk-bd0165e1-9ef9-48e4-abfd-843fdec30970 {color: black;background-color: white;}#sk-bd0165e1-9ef9-48e4-abfd-843fdec30970 pre{padding: 0;}#sk-bd0165e1-9ef9-48e4-abfd-843fdec30970 div.sk-toggleable {background-color: white;}#sk-bd0165e1-9ef9-48e4-abfd-843fdec30970 label.sk-toggleable__label {cursor: pointer;display: block;width: 100%;margin-bottom: 0;padding: 0.2em 0.3em;box-sizing: border-box;text-align: center;}#sk-bd0165e1-9ef9-48e4-abfd-843fdec30970 div.sk-toggleable__content {max-height: 0;max-width: 0;overflow: hidden;text-align: left;background-color: #f0f8ff;}#sk-bd0165e1-9ef9-48e4-abfd-843fdec30970 div.sk-toggleable__content pre {margin: 0.2em;color: black;border-radius: 0.25em;background-color: #f0f8ff;}#sk-bd0165e1-9ef9-48e4-abfd-843fdec30970 input.sk-toggleable__control:checked~div.sk-toggleable__content {max-height: 200px;max-width: 100%;overflow: auto;}#sk-bd0165e1-9ef9-48e4-abfd-843fdec30970 div.sk-estimator input.sk-toggleable__control:checked~label.sk-toggleable__label {background-color: #d4ebff;}#sk-bd0165e1-9ef9-48e4-abfd-843fdec30970 div.sk-label input.sk-toggleable__control:checked~label.sk-toggleable__label {background-color: #d4ebff;}#sk-bd0165e1-9ef9-48e4-abfd-843fdec30970 input.sk-hidden--visually {border: 0;clip: rect(1px 1px 1px 1px);clip: rect(1px, 1px, 1px, 1px);height: 1px;margin: -1px;overflow: hidden;padding: 0;position: absolute;width: 1px;}#sk-bd0165e1-9ef9-48e4-abfd-843fdec30970 div.sk-estimator {font-family: monospace;background-color: #f0f8ff;margin: 0.25em 0.25em;border: 1px dotted black;border-radius: 0.25em;box-sizing: border-box;}#sk-bd0165e1-9ef9-48e4-abfd-843fdec30970 div.sk-estimator:hover {background-color: #d4ebff;}#sk-bd0165e1-9ef9-48e4-abfd-843fdec30970 div.sk-parallel-item::after {content: \"\";width: 100%;border-bottom: 1px solid gray;flex-grow: 1;}#sk-bd0165e1-9ef9-48e4-abfd-843fdec30970 div.sk-label:hover label.sk-toggleable__label {background-color: #d4ebff;}#sk-bd0165e1-9ef9-48e4-abfd-843fdec30970 div.sk-serial::before {content: \"\";position: absolute;border-left: 1px solid gray;box-sizing: border-box;top: 2em;bottom: 0;left: 50%;}#sk-bd0165e1-9ef9-48e4-abfd-843fdec30970 div.sk-serial {display: flex;flex-direction: column;align-items: center;background-color: white;}#sk-bd0165e1-9ef9-48e4-abfd-843fdec30970 div.sk-item {z-index: 1;}#sk-bd0165e1-9ef9-48e4-abfd-843fdec30970 div.sk-parallel {display: flex;align-items: stretch;justify-content: center;background-color: white;}#sk-bd0165e1-9ef9-48e4-abfd-843fdec30970 div.sk-parallel-item {display: flex;flex-direction: column;position: relative;background-color: white;}#sk-bd0165e1-9ef9-48e4-abfd-843fdec30970 div.sk-parallel-item:first-child::after {align-self: flex-end;width: 50%;}#sk-bd0165e1-9ef9-48e4-abfd-843fdec30970 div.sk-parallel-item:last-child::after {align-self: flex-start;width: 50%;}#sk-bd0165e1-9ef9-48e4-abfd-843fdec30970 div.sk-parallel-item:only-child::after {width: 0;}#sk-bd0165e1-9ef9-48e4-abfd-843fdec30970 div.sk-dashed-wrapped {border: 1px dashed gray;margin: 0.2em;box-sizing: border-box;padding-bottom: 0.1em;background-color: white;position: relative;}#sk-bd0165e1-9ef9-48e4-abfd-843fdec30970 div.sk-label label {font-family: monospace;font-weight: bold;background-color: white;display: inline-block;line-height: 1.2em;}#sk-bd0165e1-9ef9-48e4-abfd-843fdec30970 div.sk-label-container {position: relative;z-index: 2;text-align: center;}#sk-bd0165e1-9ef9-48e4-abfd-843fdec30970 div.sk-container {display: inline-block;position: relative;}</style><div id=\"sk-bd0165e1-9ef9-48e4-abfd-843fdec30970\" class\"sk-top-container\"><div class=\"sk-container\"><div class=\"sk-item sk-dashed-wrapped\"><div class=\"sk-label-container\"><div class=\"sk-label sk-toggleable\"><input class=\"sk-toggleable__control sk-hidden--visually\" id=\"71f10aa2-d6ea-428e-8942-fe91d097f4b0\" type=\"checkbox\" ><label class=\"sk-toggleable__label\" for=\"71f10aa2-d6ea-428e-8942-fe91d097f4b0\">Pipeline</label><div class=\"sk-toggleable__content\"><pre>Pipeline(steps=[('columntransformer',\n                 ColumnTransformer(transformers=[('cat mult',\n                                                  Pipeline(steps=[('imputer',\n                                                                   SimpleImputer(fill_value='missing',\n                                                                                 strategy='constant')),\n                                                                  ('one hot',\n                                                                   OneHotEncoder())]),\n                                                  ['Sex', 'Embarked', 'Title']),\n                                                 ('num mult',\n                                                  Pipeline(steps=[('imputer',\n                                                                   KNNImputer()),\n                                                                  ('quantile '\n                                                                   'transformer',\n                                                                   QuantileTransformer(n_quantiles=100,\n                                                                                       random_state=0))]),\n                                                  ['Pclass', 'SibSp', 'Parch',\n                                                   'Fare', 'Age'])])),\n                ('svc', SVC())])</pre></div></div></div><div class=\"sk-serial\"><div class=\"sk-item sk-dashed-wrapped\"><div class=\"sk-label-container\"><div class=\"sk-label sk-toggleable\"><input class=\"sk-toggleable__control sk-hidden--visually\" id=\"df4fa036-fea6-4fd8-a63e-236ef71a5db9\" type=\"checkbox\" ><label class=\"sk-toggleable__label\" for=\"df4fa036-fea6-4fd8-a63e-236ef71a5db9\">columntransformer: ColumnTransformer</label><div class=\"sk-toggleable__content\"><pre>ColumnTransformer(transformers=[('cat mult',\n                                 Pipeline(steps=[('imputer',\n                                                  SimpleImputer(fill_value='missing',\n                                                                strategy='constant')),\n                                                 ('one hot', OneHotEncoder())]),\n                                 ['Sex', 'Embarked', 'Title']),\n                                ('num mult',\n                                 Pipeline(steps=[('imputer', KNNImputer()),\n                                                 ('quantile transformer',\n                                                  QuantileTransformer(n_quantiles=100,\n                                                                      random_state=0))]),\n                                 ['Pclass', 'SibSp', 'Parch', 'Fare', 'Age'])])</pre></div></div></div><div class=\"sk-parallel\"><div class=\"sk-parallel-item\"><div class=\"sk-item\"><div class=\"sk-label-container\"><div class=\"sk-label sk-toggleable\"><input class=\"sk-toggleable__control sk-hidden--visually\" id=\"ab1a0833-17f4-48eb-924f-55928ba028fd\" type=\"checkbox\" ><label class=\"sk-toggleable__label\" for=\"ab1a0833-17f4-48eb-924f-55928ba028fd\">cat mult</label><div class=\"sk-toggleable__content\"><pre>['Sex', 'Embarked', 'Title']</pre></div></div></div><div class=\"sk-serial\"><div class=\"sk-item\"><div class=\"sk-serial\"><div class=\"sk-item\"><div class=\"sk-estimator sk-toggleable\"><input class=\"sk-toggleable__control sk-hidden--visually\" id=\"bbc172aa-3dcb-431e-a826-db594ec76be5\" type=\"checkbox\" ><label class=\"sk-toggleable__label\" for=\"bbc172aa-3dcb-431e-a826-db594ec76be5\">SimpleImputer</label><div class=\"sk-toggleable__content\"><pre>SimpleImputer(fill_value='missing', strategy='constant')</pre></div></div></div><div class=\"sk-item\"><div class=\"sk-estimator sk-toggleable\"><input class=\"sk-toggleable__control sk-hidden--visually\" id=\"3c24abf2-28f6-400b-8c51-57a5b492738b\" type=\"checkbox\" ><label class=\"sk-toggleable__label\" for=\"3c24abf2-28f6-400b-8c51-57a5b492738b\">OneHotEncoder</label><div class=\"sk-toggleable__content\"><pre>OneHotEncoder()</pre></div></div></div></div></div></div></div></div><div class=\"sk-parallel-item\"><div class=\"sk-item\"><div class=\"sk-label-container\"><div class=\"sk-label sk-toggleable\"><input class=\"sk-toggleable__control sk-hidden--visually\" id=\"8e6b493e-bc36-4eca-9fd5-b1bc8bfb63b4\" type=\"checkbox\" ><label class=\"sk-toggleable__label\" for=\"8e6b493e-bc36-4eca-9fd5-b1bc8bfb63b4\">num mult</label><div class=\"sk-toggleable__content\"><pre>['Pclass', 'SibSp', 'Parch', 'Fare', 'Age']</pre></div></div></div><div class=\"sk-serial\"><div class=\"sk-item\"><div class=\"sk-serial\"><div class=\"sk-item\"><div class=\"sk-estimator sk-toggleable\"><input class=\"sk-toggleable__control sk-hidden--visually\" id=\"b8ba08ef-3b69-4845-ab66-ae4dc23ab74e\" type=\"checkbox\" ><label class=\"sk-toggleable__label\" for=\"b8ba08ef-3b69-4845-ab66-ae4dc23ab74e\">KNNImputer</label><div class=\"sk-toggleable__content\"><pre>KNNImputer()</pre></div></div></div><div class=\"sk-item\"><div class=\"sk-estimator sk-toggleable\"><input class=\"sk-toggleable__control sk-hidden--visually\" id=\"b4d67e57-f986-433f-8705-a310452ae525\" type=\"checkbox\" ><label class=\"sk-toggleable__label\" for=\"b4d67e57-f986-433f-8705-a310452ae525\">QuantileTransformer</label><div class=\"sk-toggleable__content\"><pre>QuantileTransformer(n_quantiles=100, random_state=0)</pre></div></div></div></div></div></div></div></div></div></div><div class=\"sk-item\"><div class=\"sk-estimator sk-toggleable\"><input class=\"sk-toggleable__control sk-hidden--visually\" id=\"bc37d5d9-d79f-4a86-8ff2-7973cebcc265\" type=\"checkbox\" ><label class=\"sk-toggleable__label\" for=\"bc37d5d9-d79f-4a86-8ff2-7973cebcc265\">SVC</label><div class=\"sk-toggleable__content\"><pre>SVC()</pre></div></div></div></div></div></div></div>"
     },
     "metadata": {}
    }
   ]
  },
  {
   "cell_type": "code",
   "metadata": {
    "tags": [],
    "deepnote_to_be_reexecuted": false,
    "source_hash": "8612258d",
    "execution_start": 1620745304743,
    "execution_millis": 464,
    "cell_id": "00033-6dbfcb4f-d161-4114-8fe3-a18173d229f8",
    "deepnote_cell_type": "code"
   },
   "source": "\nx_train, x_val, y_train, y_val = model_selection.train_test_split(x,y, test_size=0.2,stratify = y, random_state=4)\n\n\n\n\nresults = pd.DataFrame({'Model': [], 'Accuracy': [], 'Bal Acc.': [], 'Time': []})\n\nfor model_name, model in mult_classifiers.items():\n    start_time = time.time()\n    \n    # FOR EVERY PIPELINE (PREPRO + MODEL) -> TRAIN WITH TRAIN DATA (x_train)\n    model.fit(x_train,y_train)\n    # GET PREDICTIONS USING x_val\n    pred = model.predict(x_val)\n\n    total_time = time.time() - start_time\n\n    results = results.append({\"Model\":    model_name,\n                              \"Accuracy\": metrics.accuracy_score(y_val, pred)*100,\n                              \"Bal Acc.\": metrics.balanced_accuracy_score(y_val, pred)*100,\n                              \"Time\":     total_time},\n                              ignore_index=True)\n                              \n                              \n\n\n\n\n\nresults_ord = results.sort_values(by=['Accuracy'], ascending=False, ignore_index=True)\nresults_ord.index += 1 \nresults_ord.style.bar(subset=['Accuracy', 'Bal Acc.'], vmin=0, vmax=100, color='#5fba7d')",
   "execution_count": null,
   "outputs": [
    {
     "name": "stderr",
     "text": "/shared-libs/python3.7/py/lib/python3.7/site-packages/sklearn/neural_network/_multilayer_perceptron.py:500: ConvergenceWarning: lbfgs failed to converge (status=1):\nSTOP: TOTAL NO. of ITERATIONS REACHED LIMIT.\n\nIncrease the number of iterations (max_iter) or scale the data as shown in:\n    https://scikit-learn.org/stable/modules/preprocessing.html\n  self.n_iter_ = _check_optimize_result(\"lbfgs\", opt_res, self.max_iter)\n",
     "output_type": "stream"
    },
    {
     "output_type": "execute_result",
     "execution_count": 21,
     "data": {
      "text/plain": "<pandas.io.formats.style.Styler at 0x7f9b345b55d0>",
      "text/html": "<style  type=\"text/css\" >\n#T_4c759_row0_col1{\n            width:  10em;\n             height:  80%;\n            background:  linear-gradient(90deg,#5fba7d 84.4%, transparent 84.4%);\n        }#T_4c759_row0_col2{\n            width:  10em;\n             height:  80%;\n            background:  linear-gradient(90deg,#5fba7d 82.4%, transparent 82.4%);\n        }#T_4c759_row1_col1,#T_4c759_row2_col1{\n            width:  10em;\n             height:  80%;\n            background:  linear-gradient(90deg,#5fba7d 83.2%, transparent 83.2%);\n        }#T_4c759_row1_col2{\n            width:  10em;\n             height:  80%;\n            background:  linear-gradient(90deg,#5fba7d 80.4%, transparent 80.4%);\n        }#T_4c759_row2_col2{\n            width:  10em;\n             height:  80%;\n            background:  linear-gradient(90deg,#5fba7d 81.5%, transparent 81.5%);\n        }#T_4c759_row3_col1{\n            width:  10em;\n             height:  80%;\n            background:  linear-gradient(90deg,#5fba7d 81.0%, transparent 81.0%);\n        }#T_4c759_row3_col2{\n            width:  10em;\n             height:  80%;\n            background:  linear-gradient(90deg,#5fba7d 78.9%, transparent 78.9%);\n        }</style><table id=\"T_4c759_\" ><thead>    <tr>        <th class=\"blank level0\" ></th>        <th class=\"col_heading level0 col0\" >Model</th>        <th class=\"col_heading level0 col1\" >Accuracy</th>        <th class=\"col_heading level0 col2\" >Bal Acc.</th>        <th class=\"col_heading level0 col3\" >Time</th>    </tr></thead><tbody>\n                <tr>\n                        <th id=\"T_4c759_level0_row0\" class=\"row_heading level0 row0\" >1</th>\n                        <td id=\"T_4c759_row0_col0\" class=\"data row0 col0\" >MLP</td>\n                        <td id=\"T_4c759_row0_col1\" class=\"data row0 col1\" >84.357542</td>\n                        <td id=\"T_4c759_row0_col2\" class=\"data row0 col2\" >82.411067</td>\n                        <td id=\"T_4c759_row0_col3\" class=\"data row0 col3\" >0.242119</td>\n            </tr>\n            <tr>\n                        <th id=\"T_4c759_level0_row1\" class=\"row_heading level0 row1\" >2</th>\n                        <td id=\"T_4c759_row1_col0\" class=\"data row1 col0\" >SVM</td>\n                        <td id=\"T_4c759_row1_col1\" class=\"data row1 col1\" >83.240223</td>\n                        <td id=\"T_4c759_row1_col2\" class=\"data row1 col2\" >80.421607</td>\n                        <td id=\"T_4c759_row1_col3\" class=\"data row1 col3\" >0.038903</td>\n            </tr>\n            <tr>\n                        <th id=\"T_4c759_level0_row2\" class=\"row_heading level0 row2\" >3</th>\n                        <td id=\"T_4c759_row2_col0\" class=\"data row2 col0\" >Logistic</td>\n                        <td id=\"T_4c759_row2_col1\" class=\"data row2 col1\" >83.240223</td>\n                        <td id=\"T_4c759_row2_col2\" class=\"data row2 col2\" >81.501976</td>\n                        <td id=\"T_4c759_row2_col3\" class=\"data row2 col3\" >0.040529</td>\n            </tr>\n            <tr>\n                        <th id=\"T_4c759_level0_row3\" class=\"row_heading level0 row3\" >4</th>\n                        <td id=\"T_4c759_row3_col0\" class=\"data row3 col0\" >KNN</td>\n                        <td id=\"T_4c759_row3_col1\" class=\"data row3 col1\" >81.005587</td>\n                        <td id=\"T_4c759_row3_col2\" class=\"data row3 col2\" >78.873518</td>\n                        <td id=\"T_4c759_row3_col3\" class=\"data row3 col3\" >0.042733</td>\n            </tr>\n    </tbody></table>"
     },
     "metadata": {}
    }
   ]
  },
  {
   "cell_type": "code",
   "metadata": {
    "tags": [],
    "deepnote_to_be_reexecuted": false,
    "source_hash": "e9f65a16",
    "execution_start": 1620745306085,
    "execution_millis": 3530,
    "cell_id": "00034-2e6d6433-b499-403a-8a93-b4dd5ff9ef55",
    "deepnote_cell_type": "code"
   },
   "source": "\nfrom sklearn.model_selection import cross_val_predict\n\nskf = model_selection.StratifiedKFold(n_splits=10, random_state=0, shuffle=True)\n\n\n\n\nresults = pd.DataFrame({'Model': [], 'Accuracy': [], 'Bal Acc.': [], 'Time': []})\n\n\n\n\n\nfor model_name, model in mult_classifiers.items():\n    start_time = time.time()\n\n\n        \n    # TRAIN AND GET PREDICTIONS USING cross_val_predict() and x,y\n    pred = cross_val_predict(model, x,y, cv=skf)\n\n    total_time = time.time() - start_time\n\n    results = results.append({\"Model\":    model_name,\n                              \"Accuracy\": metrics.accuracy_score(y, pred)*100,\n                              \"Bal Acc.\": metrics.balanced_accuracy_score(y, pred)*100,\n                              \"Time\":     total_time},\n                              ignore_index=True)\n                              \n                              \n\n\n# YOUR CODE HERE\n\n\n\nresults_ord = results.sort_values(by=['Accuracy'], ascending=False, ignore_index=True)\nresults_ord.index += 1 \nresults_ord.style.bar(subset=['Accuracy', 'Bal Acc.'], vmin=0, vmax=100, color='#5fba7d')\n",
   "execution_count": null,
   "outputs": [
    {
     "name": "stderr",
     "text": "/shared-libs/python3.7/py/lib/python3.7/site-packages/sklearn/neural_network/_multilayer_perceptron.py:500: ConvergenceWarning: lbfgs failed to converge (status=1):\nSTOP: TOTAL NO. of ITERATIONS REACHED LIMIT.\n\nIncrease the number of iterations (max_iter) or scale the data as shown in:\n    https://scikit-learn.org/stable/modules/preprocessing.html\n  self.n_iter_ = _check_optimize_result(\"lbfgs\", opt_res, self.max_iter)\n/shared-libs/python3.7/py/lib/python3.7/site-packages/sklearn/neural_network/_multilayer_perceptron.py:500: ConvergenceWarning: lbfgs failed to converge (status=1):\nSTOP: TOTAL NO. of ITERATIONS REACHED LIMIT.\n\nIncrease the number of iterations (max_iter) or scale the data as shown in:\n    https://scikit-learn.org/stable/modules/preprocessing.html\n  self.n_iter_ = _check_optimize_result(\"lbfgs\", opt_res, self.max_iter)\n/shared-libs/python3.7/py/lib/python3.7/site-packages/sklearn/neural_network/_multilayer_perceptron.py:500: ConvergenceWarning: lbfgs failed to converge (status=1):\nSTOP: TOTAL NO. of ITERATIONS REACHED LIMIT.\n\nIncrease the number of iterations (max_iter) or scale the data as shown in:\n    https://scikit-learn.org/stable/modules/preprocessing.html\n  self.n_iter_ = _check_optimize_result(\"lbfgs\", opt_res, self.max_iter)\n/shared-libs/python3.7/py/lib/python3.7/site-packages/sklearn/neural_network/_multilayer_perceptron.py:500: ConvergenceWarning: lbfgs failed to converge (status=1):\nSTOP: TOTAL NO. of ITERATIONS REACHED LIMIT.\n\nIncrease the number of iterations (max_iter) or scale the data as shown in:\n    https://scikit-learn.org/stable/modules/preprocessing.html\n  self.n_iter_ = _check_optimize_result(\"lbfgs\", opt_res, self.max_iter)\n/shared-libs/python3.7/py/lib/python3.7/site-packages/sklearn/neural_network/_multilayer_perceptron.py:500: ConvergenceWarning: lbfgs failed to converge (status=1):\nSTOP: TOTAL NO. of ITERATIONS REACHED LIMIT.\n\nIncrease the number of iterations (max_iter) or scale the data as shown in:\n    https://scikit-learn.org/stable/modules/preprocessing.html\n  self.n_iter_ = _check_optimize_result(\"lbfgs\", opt_res, self.max_iter)\n/shared-libs/python3.7/py/lib/python3.7/site-packages/sklearn/neural_network/_multilayer_perceptron.py:500: ConvergenceWarning: lbfgs failed to converge (status=1):\nSTOP: TOTAL NO. of ITERATIONS REACHED LIMIT.\n\nIncrease the number of iterations (max_iter) or scale the data as shown in:\n    https://scikit-learn.org/stable/modules/preprocessing.html\n  self.n_iter_ = _check_optimize_result(\"lbfgs\", opt_res, self.max_iter)\n/shared-libs/python3.7/py/lib/python3.7/site-packages/sklearn/neural_network/_multilayer_perceptron.py:500: ConvergenceWarning: lbfgs failed to converge (status=1):\nSTOP: TOTAL NO. of ITERATIONS REACHED LIMIT.\n\nIncrease the number of iterations (max_iter) or scale the data as shown in:\n    https://scikit-learn.org/stable/modules/preprocessing.html\n  self.n_iter_ = _check_optimize_result(\"lbfgs\", opt_res, self.max_iter)\n/shared-libs/python3.7/py/lib/python3.7/site-packages/sklearn/neural_network/_multilayer_perceptron.py:500: ConvergenceWarning: lbfgs failed to converge (status=1):\nSTOP: TOTAL NO. of ITERATIONS REACHED LIMIT.\n\nIncrease the number of iterations (max_iter) or scale the data as shown in:\n    https://scikit-learn.org/stable/modules/preprocessing.html\n  self.n_iter_ = _check_optimize_result(\"lbfgs\", opt_res, self.max_iter)\n/shared-libs/python3.7/py/lib/python3.7/site-packages/sklearn/neural_network/_multilayer_perceptron.py:500: ConvergenceWarning: lbfgs failed to converge (status=1):\nSTOP: TOTAL NO. of ITERATIONS REACHED LIMIT.\n\nIncrease the number of iterations (max_iter) or scale the data as shown in:\n    https://scikit-learn.org/stable/modules/preprocessing.html\n  self.n_iter_ = _check_optimize_result(\"lbfgs\", opt_res, self.max_iter)\n/shared-libs/python3.7/py/lib/python3.7/site-packages/sklearn/neural_network/_multilayer_perceptron.py:500: ConvergenceWarning: lbfgs failed to converge (status=1):\nSTOP: TOTAL NO. of ITERATIONS REACHED LIMIT.\n\nIncrease the number of iterations (max_iter) or scale the data as shown in:\n    https://scikit-learn.org/stable/modules/preprocessing.html\n  self.n_iter_ = _check_optimize_result(\"lbfgs\", opt_res, self.max_iter)\n",
     "output_type": "stream"
    },
    {
     "output_type": "execute_result",
     "execution_count": 22,
     "data": {
      "text/plain": "<pandas.io.formats.style.Styler at 0x7f9b2c513a90>",
      "text/html": "<style  type=\"text/css\" >\n#T_9da68_row0_col1,#T_9da68_row1_col1{\n            width:  10em;\n             height:  80%;\n            background:  linear-gradient(90deg,#5fba7d 81.7%, transparent 81.7%);\n        }#T_9da68_row0_col2{\n            width:  10em;\n             height:  80%;\n            background:  linear-gradient(90deg,#5fba7d 78.6%, transparent 78.6%);\n        }#T_9da68_row1_col2{\n            width:  10em;\n             height:  80%;\n            background:  linear-gradient(90deg,#5fba7d 79.0%, transparent 79.0%);\n        }#T_9da68_row2_col1{\n            width:  10em;\n             height:  80%;\n            background:  linear-gradient(90deg,#5fba7d 81.3%, transparent 81.3%);\n        }#T_9da68_row2_col2{\n            width:  10em;\n             height:  80%;\n            background:  linear-gradient(90deg,#5fba7d 79.3%, transparent 79.3%);\n        }#T_9da68_row3_col1{\n            width:  10em;\n             height:  80%;\n            background:  linear-gradient(90deg,#5fba7d 80.1%, transparent 80.1%);\n        }#T_9da68_row3_col2{\n            width:  10em;\n             height:  80%;\n            background:  linear-gradient(90deg,#5fba7d 78.5%, transparent 78.5%);\n        }</style><table id=\"T_9da68_\" ><thead>    <tr>        <th class=\"blank level0\" ></th>        <th class=\"col_heading level0 col0\" >Model</th>        <th class=\"col_heading level0 col1\" >Accuracy</th>        <th class=\"col_heading level0 col2\" >Bal Acc.</th>        <th class=\"col_heading level0 col3\" >Time</th>    </tr></thead><tbody>\n                <tr>\n                        <th id=\"T_9da68_level0_row0\" class=\"row_heading level0 row0\" >1</th>\n                        <td id=\"T_9da68_row0_col0\" class=\"data row0 col0\" >SVM</td>\n                        <td id=\"T_9da68_row0_col1\" class=\"data row0 col1\" >81.705948</td>\n                        <td id=\"T_9da68_row0_col2\" class=\"data row0 col2\" >78.595053</td>\n                        <td id=\"T_9da68_row0_col3\" class=\"data row0 col3\" >0.475997</td>\n            </tr>\n            <tr>\n                        <th id=\"T_9da68_level0_row1\" class=\"row_heading level0 row1\" >2</th>\n                        <td id=\"T_9da68_row1_col0\" class=\"data row1 col0\" >MLP</td>\n                        <td id=\"T_9da68_row1_col1\" class=\"data row1 col1\" >81.705948</td>\n                        <td id=\"T_9da68_row1_col2\" class=\"data row1 col2\" >78.980922</td>\n                        <td id=\"T_9da68_row1_col3\" class=\"data row1 col3\" >1.788326</td>\n            </tr>\n            <tr>\n                        <th id=\"T_9da68_level0_row2\" class=\"row_heading level0 row2\" >3</th>\n                        <td id=\"T_9da68_row2_col0\" class=\"data row2 col0\" >Logistic</td>\n                        <td id=\"T_9da68_row2_col1\" class=\"data row2 col1\" >81.257015</td>\n                        <td id=\"T_9da68_row2_col2\" class=\"data row2 col2\" >79.333237</td>\n                        <td id=\"T_9da68_row2_col3\" class=\"data row2 col3\" >0.697373</td>\n            </tr>\n            <tr>\n                        <th id=\"T_9da68_level0_row3\" class=\"row_heading level0 row3\" >4</th>\n                        <td id=\"T_9da68_row3_col0\" class=\"data row3 col0\" >KNN</td>\n                        <td id=\"T_9da68_row3_col1\" class=\"data row3 col1\" >80.134680</td>\n                        <td id=\"T_9da68_row3_col2\" class=\"data row3 col2\" >78.532739</td>\n                        <td id=\"T_9da68_row3_col3\" class=\"data row3 col3\" >0.509419</td>\n            </tr>\n    </tbody></table>"
     },
     "metadata": {}
    }
   ]
  },
  {
   "cell_type": "code",
   "metadata": {
    "deletable": false,
    "nbgrader": {
     "cell_type": "code",
     "checksum": "f23af11f3af791efa5687477c0a4c9d6",
     "grade": false,
     "grade_id": "cell-76a3be8223730c5a",
     "locked": false,
     "schema_version": 3,
     "solution": true,
     "task": false
    },
    "id": "92x9ELMfGTJM",
    "colab": {
     "base_uri": "https://localhost:8080/",
     "height": 198
    },
    "outputId": "956a4d19-6068-4dee-a0c3-e433a37f1d99",
    "cell_id": "00035-cb26381c-3094-4a6b-9fb0-b4f8af4c6f16",
    "deepnote_to_be_reexecuted": false,
    "source_hash": "15aab1fc",
    "execution_start": 1620745309648,
    "execution_millis": 69,
    "deepnote_cell_type": "code"
   },
   "source": "\ntree_classifiers = {\n  \"Decision Tree\": DecisionTreeClassifier(),\n  \"Extra Trees\": ExtraTreesClassifier(),\n  \"Random Forest\": RandomForestClassifier(),\n  \"AdaBoost\": AdaBoostClassifier(),\n  \"Skl GBM\": GradientBoostingClassifier(),\n  \"Skl HistGBM\": GradientBoostingClassifier(),\n  \"XGBoost\": XGBClassifier(),\n  \"LightGBM\": LGBMClassifier(),\n  \"CatBoost\": CatBoostClassifier() }\n\n\n# YOUR CODE HERE\n\n\ntree_classifiers = {name: pipeline.make_pipeline(tree_prepro, model) for name, model in tree_classifiers.items()}\n\ntree_classifiers[\"LightGBM\"]",
   "execution_count": null,
   "outputs": [
    {
     "output_type": "execute_result",
     "execution_count": 23,
     "data": {
      "text/plain": "Pipeline(steps=[('columntransformer',\n                 ColumnTransformer(transformers=[('cat mult',\n                                                  Pipeline(steps=[('imputer',\n                                                                   SimpleImputer(fill_value='missing',\n                                                                                 strategy='constant')),\n                                                                  ('one hot',\n                                                                   OneHotEncoder())]),\n                                                  ['Sex', 'Embarked', 'Title']),\n                                                 ('num mult',\n                                                  Pipeline(steps=[('imputer',\n                                                                   KNNImputer()),\n                                                                  ('quantile '\n                                                                   'transformer',\n                                                                   QuantileTransformer(n_quantiles=100,\n                                                                                       random_state=0))]),\n                                                  ['Pclass', 'SibSp', 'Parch',\n                                                   'Fare', 'Age'])])),\n                ('lgbmclassifier', LGBMClassifier())])",
      "text/html": "<style>#sk-eeb2c32b-5fe5-4934-9810-3a2331f24137 {color: black;background-color: white;}#sk-eeb2c32b-5fe5-4934-9810-3a2331f24137 pre{padding: 0;}#sk-eeb2c32b-5fe5-4934-9810-3a2331f24137 div.sk-toggleable {background-color: white;}#sk-eeb2c32b-5fe5-4934-9810-3a2331f24137 label.sk-toggleable__label {cursor: pointer;display: block;width: 100%;margin-bottom: 0;padding: 0.2em 0.3em;box-sizing: border-box;text-align: center;}#sk-eeb2c32b-5fe5-4934-9810-3a2331f24137 div.sk-toggleable__content {max-height: 0;max-width: 0;overflow: hidden;text-align: left;background-color: #f0f8ff;}#sk-eeb2c32b-5fe5-4934-9810-3a2331f24137 div.sk-toggleable__content pre {margin: 0.2em;color: black;border-radius: 0.25em;background-color: #f0f8ff;}#sk-eeb2c32b-5fe5-4934-9810-3a2331f24137 input.sk-toggleable__control:checked~div.sk-toggleable__content {max-height: 200px;max-width: 100%;overflow: auto;}#sk-eeb2c32b-5fe5-4934-9810-3a2331f24137 div.sk-estimator input.sk-toggleable__control:checked~label.sk-toggleable__label {background-color: #d4ebff;}#sk-eeb2c32b-5fe5-4934-9810-3a2331f24137 div.sk-label input.sk-toggleable__control:checked~label.sk-toggleable__label {background-color: #d4ebff;}#sk-eeb2c32b-5fe5-4934-9810-3a2331f24137 input.sk-hidden--visually {border: 0;clip: rect(1px 1px 1px 1px);clip: rect(1px, 1px, 1px, 1px);height: 1px;margin: -1px;overflow: hidden;padding: 0;position: absolute;width: 1px;}#sk-eeb2c32b-5fe5-4934-9810-3a2331f24137 div.sk-estimator {font-family: monospace;background-color: #f0f8ff;margin: 0.25em 0.25em;border: 1px dotted black;border-radius: 0.25em;box-sizing: border-box;}#sk-eeb2c32b-5fe5-4934-9810-3a2331f24137 div.sk-estimator:hover {background-color: #d4ebff;}#sk-eeb2c32b-5fe5-4934-9810-3a2331f24137 div.sk-parallel-item::after {content: \"\";width: 100%;border-bottom: 1px solid gray;flex-grow: 1;}#sk-eeb2c32b-5fe5-4934-9810-3a2331f24137 div.sk-label:hover label.sk-toggleable__label {background-color: #d4ebff;}#sk-eeb2c32b-5fe5-4934-9810-3a2331f24137 div.sk-serial::before {content: \"\";position: absolute;border-left: 1px solid gray;box-sizing: border-box;top: 2em;bottom: 0;left: 50%;}#sk-eeb2c32b-5fe5-4934-9810-3a2331f24137 div.sk-serial {display: flex;flex-direction: column;align-items: center;background-color: white;}#sk-eeb2c32b-5fe5-4934-9810-3a2331f24137 div.sk-item {z-index: 1;}#sk-eeb2c32b-5fe5-4934-9810-3a2331f24137 div.sk-parallel {display: flex;align-items: stretch;justify-content: center;background-color: white;}#sk-eeb2c32b-5fe5-4934-9810-3a2331f24137 div.sk-parallel-item {display: flex;flex-direction: column;position: relative;background-color: white;}#sk-eeb2c32b-5fe5-4934-9810-3a2331f24137 div.sk-parallel-item:first-child::after {align-self: flex-end;width: 50%;}#sk-eeb2c32b-5fe5-4934-9810-3a2331f24137 div.sk-parallel-item:last-child::after {align-self: flex-start;width: 50%;}#sk-eeb2c32b-5fe5-4934-9810-3a2331f24137 div.sk-parallel-item:only-child::after {width: 0;}#sk-eeb2c32b-5fe5-4934-9810-3a2331f24137 div.sk-dashed-wrapped {border: 1px dashed gray;margin: 0.2em;box-sizing: border-box;padding-bottom: 0.1em;background-color: white;position: relative;}#sk-eeb2c32b-5fe5-4934-9810-3a2331f24137 div.sk-label label {font-family: monospace;font-weight: bold;background-color: white;display: inline-block;line-height: 1.2em;}#sk-eeb2c32b-5fe5-4934-9810-3a2331f24137 div.sk-label-container {position: relative;z-index: 2;text-align: center;}#sk-eeb2c32b-5fe5-4934-9810-3a2331f24137 div.sk-container {display: inline-block;position: relative;}</style><div id=\"sk-eeb2c32b-5fe5-4934-9810-3a2331f24137\" class\"sk-top-container\"><div class=\"sk-container\"><div class=\"sk-item sk-dashed-wrapped\"><div class=\"sk-label-container\"><div class=\"sk-label sk-toggleable\"><input class=\"sk-toggleable__control sk-hidden--visually\" id=\"46535d27-c2ad-4a3a-abdc-92efccb187f6\" type=\"checkbox\" ><label class=\"sk-toggleable__label\" for=\"46535d27-c2ad-4a3a-abdc-92efccb187f6\">Pipeline</label><div class=\"sk-toggleable__content\"><pre>Pipeline(steps=[('columntransformer',\n                 ColumnTransformer(transformers=[('cat mult',\n                                                  Pipeline(steps=[('imputer',\n                                                                   SimpleImputer(fill_value='missing',\n                                                                                 strategy='constant')),\n                                                                  ('one hot',\n                                                                   OneHotEncoder())]),\n                                                  ['Sex', 'Embarked', 'Title']),\n                                                 ('num mult',\n                                                  Pipeline(steps=[('imputer',\n                                                                   KNNImputer()),\n                                                                  ('quantile '\n                                                                   'transformer',\n                                                                   QuantileTransformer(n_quantiles=100,\n                                                                                       random_state=0))]),\n                                                  ['Pclass', 'SibSp', 'Parch',\n                                                   'Fare', 'Age'])])),\n                ('lgbmclassifier', LGBMClassifier())])</pre></div></div></div><div class=\"sk-serial\"><div class=\"sk-item sk-dashed-wrapped\"><div class=\"sk-label-container\"><div class=\"sk-label sk-toggleable\"><input class=\"sk-toggleable__control sk-hidden--visually\" id=\"8551b837-2141-4420-a9fd-987fb674c8ca\" type=\"checkbox\" ><label class=\"sk-toggleable__label\" for=\"8551b837-2141-4420-a9fd-987fb674c8ca\">columntransformer: ColumnTransformer</label><div class=\"sk-toggleable__content\"><pre>ColumnTransformer(transformers=[('cat mult',\n                                 Pipeline(steps=[('imputer',\n                                                  SimpleImputer(fill_value='missing',\n                                                                strategy='constant')),\n                                                 ('one hot', OneHotEncoder())]),\n                                 ['Sex', 'Embarked', 'Title']),\n                                ('num mult',\n                                 Pipeline(steps=[('imputer', KNNImputer()),\n                                                 ('quantile transformer',\n                                                  QuantileTransformer(n_quantiles=100,\n                                                                      random_state=0))]),\n                                 ['Pclass', 'SibSp', 'Parch', 'Fare', 'Age'])])</pre></div></div></div><div class=\"sk-parallel\"><div class=\"sk-parallel-item\"><div class=\"sk-item\"><div class=\"sk-label-container\"><div class=\"sk-label sk-toggleable\"><input class=\"sk-toggleable__control sk-hidden--visually\" id=\"4943c042-29a9-4038-b5dd-5af02ea085fe\" type=\"checkbox\" ><label class=\"sk-toggleable__label\" for=\"4943c042-29a9-4038-b5dd-5af02ea085fe\">cat mult</label><div class=\"sk-toggleable__content\"><pre>['Sex', 'Embarked', 'Title']</pre></div></div></div><div class=\"sk-serial\"><div class=\"sk-item\"><div class=\"sk-serial\"><div class=\"sk-item\"><div class=\"sk-estimator sk-toggleable\"><input class=\"sk-toggleable__control sk-hidden--visually\" id=\"3a0f03c8-f0d0-4b20-a8f4-226a00f6d474\" type=\"checkbox\" ><label class=\"sk-toggleable__label\" for=\"3a0f03c8-f0d0-4b20-a8f4-226a00f6d474\">SimpleImputer</label><div class=\"sk-toggleable__content\"><pre>SimpleImputer(fill_value='missing', strategy='constant')</pre></div></div></div><div class=\"sk-item\"><div class=\"sk-estimator sk-toggleable\"><input class=\"sk-toggleable__control sk-hidden--visually\" id=\"468f41c0-1f5c-41d0-b07a-0384e14f0c09\" type=\"checkbox\" ><label class=\"sk-toggleable__label\" for=\"468f41c0-1f5c-41d0-b07a-0384e14f0c09\">OneHotEncoder</label><div class=\"sk-toggleable__content\"><pre>OneHotEncoder()</pre></div></div></div></div></div></div></div></div><div class=\"sk-parallel-item\"><div class=\"sk-item\"><div class=\"sk-label-container\"><div class=\"sk-label sk-toggleable\"><input class=\"sk-toggleable__control sk-hidden--visually\" id=\"5b46ad91-feb8-4490-9ecf-1fc35aeb2cf0\" type=\"checkbox\" ><label class=\"sk-toggleable__label\" for=\"5b46ad91-feb8-4490-9ecf-1fc35aeb2cf0\">num mult</label><div class=\"sk-toggleable__content\"><pre>['Pclass', 'SibSp', 'Parch', 'Fare', 'Age']</pre></div></div></div><div class=\"sk-serial\"><div class=\"sk-item\"><div class=\"sk-serial\"><div class=\"sk-item\"><div class=\"sk-estimator sk-toggleable\"><input class=\"sk-toggleable__control sk-hidden--visually\" id=\"78586bb7-666a-4de1-91eb-d5ab5e166e05\" type=\"checkbox\" ><label class=\"sk-toggleable__label\" for=\"78586bb7-666a-4de1-91eb-d5ab5e166e05\">KNNImputer</label><div class=\"sk-toggleable__content\"><pre>KNNImputer()</pre></div></div></div><div class=\"sk-item\"><div class=\"sk-estimator sk-toggleable\"><input class=\"sk-toggleable__control sk-hidden--visually\" id=\"b6751104-8af6-4d8d-9751-58ae225ea437\" type=\"checkbox\" ><label class=\"sk-toggleable__label\" for=\"b6751104-8af6-4d8d-9751-58ae225ea437\">QuantileTransformer</label><div class=\"sk-toggleable__content\"><pre>QuantileTransformer(n_quantiles=100, random_state=0)</pre></div></div></div></div></div></div></div></div></div></div><div class=\"sk-item\"><div class=\"sk-estimator sk-toggleable\"><input class=\"sk-toggleable__control sk-hidden--visually\" id=\"227504c8-3cd1-42aa-a9fa-0575e4f2d841\" type=\"checkbox\" ><label class=\"sk-toggleable__label\" for=\"227504c8-3cd1-42aa-a9fa-0575e4f2d841\">LGBMClassifier</label><div class=\"sk-toggleable__content\"><pre>LGBMClassifier()</pre></div></div></div></div></div></div></div>"
     },
     "metadata": {}
    }
   ]
  },
  {
   "cell_type": "code",
   "metadata": {
    "deletable": false,
    "editable": false,
    "nbgrader": {
     "cell_type": "code",
     "checksum": "2355552b3ce823e44fdaea06394e054c",
     "grade": true,
     "grade_id": "cell-d4744022b37e2e9b",
     "locked": true,
     "points": 1,
     "schema_version": 3,
     "solution": false,
     "task": false
    },
    "id": "rcXkb9ZiGTJN",
    "cell_id": "00036-366e1001-7716-4c55-a778-772fbf514547",
    "deepnote_to_be_reexecuted": false,
    "source_hash": "25e0f28b",
    "execution_start": 1620745309708,
    "execution_millis": 3,
    "deepnote_cell_type": "code"
   },
   "source": "for pipe in tree_classifiers.values():\n    assert type(pipe) is pipeline.Pipeline",
   "execution_count": null,
   "outputs": []
  },
  {
   "cell_type": "markdown",
   "source": "# Exercise 5 (3pts):\nDefine a simple split validation strategy with:\n- 80% for train\n- 20% for validation\n- With stratification\n- random_state=0\n\nAnd train all the models in a for loop",
   "metadata": {
    "id": "FH7UKPVJGTJN",
    "cell_id": "00037-d21484d1-a347-457a-8396-a45b69670a09",
    "deepnote_cell_type": "markdown"
   }
  },
  {
   "cell_type": "code",
   "metadata": {
    "deletable": false,
    "id": "kY1uWk6-OcLw",
    "nbgrader": {
     "cell_type": "code",
     "checksum": "e48597a78f468a95abf116052e9f68e6",
     "grade": false,
     "grade_id": "cell-64f17e0d448bca7e",
     "locked": false,
     "schema_version": 3,
     "solution": true,
     "task": false
    },
    "colab": {
     "base_uri": "https://localhost:8080/",
     "height": 1000
    },
    "outputId": "dee0dd82-d92f-4349-ab7d-797de295f365",
    "cell_id": "00038-169b3dc1-cc8f-454f-9777-0cc70341cb8c",
    "deepnote_to_be_reexecuted": false,
    "source_hash": "ed0754b7",
    "execution_start": 1620745310249,
    "execution_millis": 2465,
    "deepnote_cell_type": "code"
   },
   "source": "\nx_train, x_val, y_train, y_val = model_selection.train_test_split(x,y, test_size=0.2,stratify = y, random_state=4)\n\n\n\n\nresults = pd.DataFrame({'Model': [], 'Accuracy': [], 'Bal Acc.': [], 'Time': []})\n\nfor model_name, model in tree_classifiers.items():\n    start_time = time.time()\n    \n    # FOR EVERY PIPELINE (PREPRO + MODEL) -> TRAIN WITH TRAIN DATA (x_train)\n    model.fit(x_train,y_train)\n    # GET PREDICTIONS USING x_val\n    pred = model.predict(x_val)\n\n    total_time = time.time() - start_time\n\n    results = results.append({\"Model\":    model_name,\n                              \"Accuracy\": metrics.accuracy_score(y_val, pred)*100,\n                              \"Bal Acc.\": metrics.balanced_accuracy_score(y_val, pred)*100,\n                              \"Time\":     total_time},\n                              ignore_index=True)\n                              \n                              \n\n\n\n\n\nresults_ord = results.sort_values(by=['Accuracy'], ascending=False, ignore_index=True)\nresults_ord.index += 1 \nresults_ord.style.bar(subset=['Accuracy', 'Bal Acc.'], vmin=0, vmax=100, color='#5fba7d')",
   "execution_count": null,
   "outputs": [
    {
     "name": "stderr",
     "text": "1:\tlearn: 0.6820801\ttotal: 49.2ms\tremaining: 24.5s\n2:\tlearn: 0.6770935\ttotal: 50.2ms\tremaining: 16.7s\n3:\tlearn: 0.6723015\ttotal: 51.3ms\tremaining: 12.8s\n4:\tlearn: 0.6672715\ttotal: 52.3ms\tremaining: 10.4s\n5:\tlearn: 0.6625852\ttotal: 53.4ms\tremaining: 8.84s\n6:\tlearn: 0.6576968\ttotal: 54.4ms\tremaining: 7.71s\n7:\tlearn: 0.6527901\ttotal: 55.4ms\tremaining: 6.87s\n8:\tlearn: 0.6472399\ttotal: 56.5ms\tremaining: 6.22s\n9:\tlearn: 0.6421550\ttotal: 57.5ms\tremaining: 5.7s\n10:\tlearn: 0.6369511\ttotal: 58.6ms\tremaining: 5.26s\n11:\tlearn: 0.6320371\ttotal: 59.6ms\tremaining: 4.91s\n12:\tlearn: 0.6282963\ttotal: 60.7ms\tremaining: 4.61s\n13:\tlearn: 0.6246123\ttotal: 61.3ms\tremaining: 4.32s\n14:\tlearn: 0.6201889\ttotal: 62.3ms\tremaining: 4.09s\n15:\tlearn: 0.6164933\ttotal: 63.1ms\tremaining: 3.88s\n16:\tlearn: 0.6118215\ttotal: 64.1ms\tremaining: 3.71s\n17:\tlearn: 0.6078144\ttotal: 65.2ms\tremaining: 3.56s\n18:\tlearn: 0.6040424\ttotal: 66.2ms\tremaining: 3.42s\n19:\tlearn: 0.5998107\ttotal: 67.3ms\tremaining: 3.3s\n20:\tlearn: 0.5954308\ttotal: 68.4ms\tremaining: 3.19s\n21:\tlearn: 0.5912266\ttotal: 69.4ms\tremaining: 3.09s\n22:\tlearn: 0.5875240\ttotal: 70.5ms\tremaining: 2.99s\n23:\tlearn: 0.5840181\ttotal: 71.4ms\tremaining: 2.9s\n24:\tlearn: 0.5803144\ttotal: 72.4ms\tremaining: 2.82s\n25:\tlearn: 0.5773899\ttotal: 73.1ms\tremaining: 2.74s\n26:\tlearn: 0.5738461\ttotal: 74.2ms\tremaining: 2.67s\n27:\tlearn: 0.5697562\ttotal: 75.2ms\tremaining: 2.61s\n28:\tlearn: 0.5667738\ttotal: 75.9ms\tremaining: 2.54s\n29:\tlearn: 0.5632749\ttotal: 77ms\tremaining: 2.49s\n30:\tlearn: 0.5602877\ttotal: 78ms\tremaining: 2.44s\n31:\tlearn: 0.5571375\ttotal: 79.1ms\tremaining: 2.39s\n32:\tlearn: 0.5541101\ttotal: 80.1ms\tremaining: 2.35s\n33:\tlearn: 0.5510197\ttotal: 81.2ms\tremaining: 2.31s\n34:\tlearn: 0.5480072\ttotal: 82.2ms\tremaining: 2.27s\n35:\tlearn: 0.5449116\ttotal: 83.3ms\tremaining: 2.23s\n36:\tlearn: 0.5421292\ttotal: 84.3ms\tremaining: 2.19s\n37:\tlearn: 0.5397842\ttotal: 85.2ms\tremaining: 2.15s\n38:\tlearn: 0.5369918\ttotal: 86.2ms\tremaining: 2.12s\n39:\tlearn: 0.5347805\ttotal: 87.2ms\tremaining: 2.09s\n40:\tlearn: 0.5322901\ttotal: 88ms\tremaining: 2.06s\n41:\tlearn: 0.5307187\ttotal: 88.6ms\tremaining: 2.02s\n42:\tlearn: 0.5281896\ttotal: 89.7ms\tremaining: 2s\n43:\tlearn: 0.5251741\ttotal: 90.7ms\tremaining: 1.97s\n44:\tlearn: 0.5232348\ttotal: 91.8ms\tremaining: 1.95s\n45:\tlearn: 0.5206196\ttotal: 92.8ms\tremaining: 1.93s\n46:\tlearn: 0.5181782\ttotal: 93.9ms\tremaining: 1.9s\n47:\tlearn: 0.5157501\ttotal: 94.9ms\tremaining: 1.88s\n48:\tlearn: 0.5134227\ttotal: 96ms\tremaining: 1.86s\n49:\tlearn: 0.5115907\ttotal: 97ms\tremaining: 1.84s\n50:\tlearn: 0.5094081\ttotal: 98.1ms\tremaining: 1.82s\n51:\tlearn: 0.5073457\ttotal: 99.1ms\tremaining: 1.81s\n52:\tlearn: 0.5049223\ttotal: 100ms\tremaining: 1.79s\n53:\tlearn: 0.5025351\ttotal: 101ms\tremaining: 1.78s\n54:\tlearn: 0.5006339\ttotal: 102ms\tremaining: 1.76s\n55:\tlearn: 0.4982596\ttotal: 104ms\tremaining: 1.75s\n56:\tlearn: 0.4968700\ttotal: 105ms\tremaining: 1.73s\n57:\tlearn: 0.4949896\ttotal: 106ms\tremaining: 1.72s\n58:\tlearn: 0.4928582\ttotal: 107ms\tremaining: 1.7s\n59:\tlearn: 0.4909278\ttotal: 108ms\tremaining: 1.69s\n60:\tlearn: 0.4890283\ttotal: 109ms\tremaining: 1.68s\n61:\tlearn: 0.4881135\ttotal: 109ms\tremaining: 1.66s\n62:\tlearn: 0.4862669\ttotal: 111ms\tremaining: 1.64s\n63:\tlearn: 0.4848959\ttotal: 111ms\tremaining: 1.63s\n64:\tlearn: 0.4831000\ttotal: 112ms\tremaining: 1.62s\n65:\tlearn: 0.4818698\ttotal: 113ms\tremaining: 1.6s\n66:\tlearn: 0.4808580\ttotal: 114ms\tremaining: 1.58s\n67:\tlearn: 0.4800015\ttotal: 114ms\tremaining: 1.57s\n68:\tlearn: 0.4782673\ttotal: 116ms\tremaining: 1.56s\n69:\tlearn: 0.4767939\ttotal: 117ms\tremaining: 1.55s\n70:\tlearn: 0.4752191\ttotal: 118ms\tremaining: 1.54s\n71:\tlearn: 0.4732862\ttotal: 119ms\tremaining: 1.53s\n72:\tlearn: 0.4720275\ttotal: 120ms\tremaining: 1.52s\n73:\tlearn: 0.4701752\ttotal: 121ms\tremaining: 1.51s\n74:\tlearn: 0.4685299\ttotal: 122ms\tremaining: 1.5s\n75:\tlearn: 0.4672453\ttotal: 123ms\tremaining: 1.5s\n76:\tlearn: 0.4655743\ttotal: 124ms\tremaining: 1.49s\n77:\tlearn: 0.4644594\ttotal: 125ms\tremaining: 1.48s\n78:\tlearn: 0.4630454\ttotal: 126ms\tremaining: 1.47s\n79:\tlearn: 0.4621310\ttotal: 127ms\tremaining: 1.46s\n80:\tlearn: 0.4614799\ttotal: 128ms\tremaining: 1.45s\n81:\tlearn: 0.4603026\ttotal: 129ms\tremaining: 1.44s\n82:\tlearn: 0.4588283\ttotal: 130ms\tremaining: 1.44s\n83:\tlearn: 0.4574956\ttotal: 131ms\tremaining: 1.43s\n84:\tlearn: 0.4564904\ttotal: 132ms\tremaining: 1.42s\n85:\tlearn: 0.4550207\ttotal: 133ms\tremaining: 1.41s\n86:\tlearn: 0.4540875\ttotal: 134ms\tremaining: 1.4s\n87:\tlearn: 0.4530330\ttotal: 135ms\tremaining: 1.4s\n88:\tlearn: 0.4518668\ttotal: 136ms\tremaining: 1.39s\n89:\tlearn: 0.4507751\ttotal: 137ms\tremaining: 1.39s\n90:\tlearn: 0.4495719\ttotal: 138ms\tremaining: 1.38s\n91:\tlearn: 0.4482000\ttotal: 139ms\tremaining: 1.37s\n92:\tlearn: 0.4470348\ttotal: 140ms\tremaining: 1.37s\n93:\tlearn: 0.4454412\ttotal: 141ms\tremaining: 1.36s\n94:\tlearn: 0.4441942\ttotal: 142ms\tremaining: 1.36s\n95:\tlearn: 0.4432068\ttotal: 143ms\tremaining: 1.35s\n96:\tlearn: 0.4426922\ttotal: 144ms\tremaining: 1.34s\n97:\tlearn: 0.4416435\ttotal: 145ms\tremaining: 1.34s\n98:\tlearn: 0.4407408\ttotal: 146ms\tremaining: 1.33s\n99:\tlearn: 0.4396922\ttotal: 147ms\tremaining: 1.32s\n100:\tlearn: 0.4389413\ttotal: 148ms\tremaining: 1.32s\n101:\tlearn: 0.4378666\ttotal: 149ms\tremaining: 1.31s\n102:\tlearn: 0.4371239\ttotal: 150ms\tremaining: 1.31s\n103:\tlearn: 0.4360570\ttotal: 151ms\tremaining: 1.3s\n104:\tlearn: 0.4348929\ttotal: 152ms\tremaining: 1.3s\n105:\tlearn: 0.4340750\ttotal: 153ms\tremaining: 1.29s\n106:\tlearn: 0.4330051\ttotal: 154ms\tremaining: 1.29s\n107:\tlearn: 0.4317922\ttotal: 156ms\tremaining: 1.28s\n108:\tlearn: 0.4311365\ttotal: 157ms\tremaining: 1.28s\n109:\tlearn: 0.4301137\ttotal: 158ms\tremaining: 1.27s\n110:\tlearn: 0.4291218\ttotal: 159ms\tremaining: 1.27s\n111:\tlearn: 0.4282497\ttotal: 160ms\tremaining: 1.27s\n112:\tlearn: 0.4276930\ttotal: 161ms\tremaining: 1.26s\n113:\tlearn: 0.4267444\ttotal: 162ms\tremaining: 1.26s\n114:\tlearn: 0.4258877\ttotal: 163ms\tremaining: 1.25s\n115:\tlearn: 0.4247910\ttotal: 164ms\tremaining: 1.25s\n116:\tlearn: 0.4243127\ttotal: 165ms\tremaining: 1.24s\n117:\tlearn: 0.4235799\ttotal: 166ms\tremaining: 1.24s\n118:\tlearn: 0.4226621\ttotal: 167ms\tremaining: 1.24s\n119:\tlearn: 0.4223892\ttotal: 168ms\tremaining: 1.23s\n120:\tlearn: 0.4214153\ttotal: 169ms\tremaining: 1.23s\n121:\tlearn: 0.4207372\ttotal: 170ms\tremaining: 1.22s\n122:\tlearn: 0.4199991\ttotal: 171ms\tremaining: 1.22s\n123:\tlearn: 0.4195468\ttotal: 172ms\tremaining: 1.21s\n124:\tlearn: 0.4187425\ttotal: 173ms\tremaining: 1.21s\n125:\tlearn: 0.4180280\ttotal: 174ms\tremaining: 1.21s\n126:\tlearn: 0.4172354\ttotal: 175ms\tremaining: 1.2s\n127:\tlearn: 0.4170103\ttotal: 176ms\tremaining: 1.2s\n128:\tlearn: 0.4164289\ttotal: 177ms\tremaining: 1.19s\n129:\tlearn: 0.4157963\ttotal: 178ms\tremaining: 1.19s\n130:\tlearn: 0.4152730\ttotal: 179ms\tremaining: 1.19s\n131:\tlearn: 0.4149278\ttotal: 180ms\tremaining: 1.18s\n132:\tlearn: 0.4143493\ttotal: 181ms\tremaining: 1.18s\n133:\tlearn: 0.4137274\ttotal: 182ms\tremaining: 1.18s\n134:\tlearn: 0.4133063\ttotal: 183ms\tremaining: 1.17s\n135:\tlearn: 0.4125615\ttotal: 184ms\tremaining: 1.17s\n136:\tlearn: 0.4120198\ttotal: 185ms\tremaining: 1.17s\n137:\tlearn: 0.4114859\ttotal: 187ms\tremaining: 1.17s\n138:\tlearn: 0.4107977\ttotal: 189ms\tremaining: 1.17s\n139:\tlearn: 0.4102055\ttotal: 190ms\tremaining: 1.17s\n140:\tlearn: 0.4095785\ttotal: 191ms\tremaining: 1.16s\n141:\tlearn: 0.4089764\ttotal: 192ms\tremaining: 1.16s\n142:\tlearn: 0.4085573\ttotal: 193ms\tremaining: 1.16s\n143:\tlearn: 0.4083940\ttotal: 194ms\tremaining: 1.15s\n144:\tlearn: 0.4080117\ttotal: 195ms\tremaining: 1.15s\n145:\tlearn: 0.4074030\ttotal: 196ms\tremaining: 1.15s\n146:\tlearn: 0.4067424\ttotal: 197ms\tremaining: 1.14s\n147:\tlearn: 0.4060574\ttotal: 198ms\tremaining: 1.14s\n148:\tlearn: 0.4055168\ttotal: 199ms\tremaining: 1.14s\n149:\tlearn: 0.4051074\ttotal: 200ms\tremaining: 1.13s\n150:\tlearn: 0.4048725\ttotal: 201ms\tremaining: 1.13s\n151:\tlearn: 0.4042259\ttotal: 202ms\tremaining: 1.13s\n152:\tlearn: 0.4036710\ttotal: 203ms\tremaining: 1.12s\n153:\tlearn: 0.4031487\ttotal: 204ms\tremaining: 1.12s\n154:\tlearn: 0.4028634\ttotal: 205ms\tremaining: 1.12s\n155:\tlearn: 0.4025825\ttotal: 206ms\tremaining: 1.11s\n156:\tlearn: 0.4020372\ttotal: 207ms\tremaining: 1.11s\n157:\tlearn: 0.4017200\ttotal: 208ms\tremaining: 1.11s\n158:\tlearn: 0.4015485\ttotal: 209ms\tremaining: 1.1s\n159:\tlearn: 0.4010627\ttotal: 210ms\tremaining: 1.1s\n160:\tlearn: 0.4005411\ttotal: 211ms\tremaining: 1.1s\n161:\tlearn: 0.4001869\ttotal: 212ms\tremaining: 1.09s\n162:\tlearn: 0.3996573\ttotal: 213ms\tremaining: 1.09s\n163:\tlearn: 0.3995477\ttotal: 213ms\tremaining: 1.09s\n164:\tlearn: 0.3994400\ttotal: 214ms\tremaining: 1.08s\n165:\tlearn: 0.3989884\ttotal: 215ms\tremaining: 1.08s\n166:\tlearn: 0.3985039\ttotal: 216ms\tremaining: 1.08s\n167:\tlearn: 0.3983366\ttotal: 217ms\tremaining: 1.07s\n168:\tlearn: 0.3979231\ttotal: 218ms\tremaining: 1.07s\n169:\tlearn: 0.3976627\ttotal: 228ms\tremaining: 1.11s\n170:\tlearn: 0.3971872\ttotal: 229ms\tremaining: 1.11s\n171:\tlearn: 0.3966503\ttotal: 230ms\tremaining: 1.11s\n172:\tlearn: 0.3961965\ttotal: 231ms\tremaining: 1.11s\n173:\tlearn: 0.3959233\ttotal: 232ms\tremaining: 1.1s\n174:\tlearn: 0.3954217\ttotal: 233ms\tremaining: 1.1s\n175:\tlearn: 0.3949771\ttotal: 234ms\tremaining: 1.1s\n176:\tlearn: 0.3947267\ttotal: 236ms\tremaining: 1.09s\n177:\tlearn: 0.3945804\ttotal: 238ms\tremaining: 1.1s\n178:\tlearn: 0.3940916\ttotal: 240ms\tremaining: 1.1s\n179:\tlearn: 0.3936291\ttotal: 242ms\tremaining: 1.1s\n180:\tlearn: 0.3933823\ttotal: 244ms\tremaining: 1.1s\n181:\tlearn: 0.3931081\ttotal: 246ms\tremaining: 1.1s\n182:\tlearn: 0.3925189\ttotal: 247ms\tremaining: 1.1s\n183:\tlearn: 0.3920845\ttotal: 248ms\tremaining: 1.1s\n184:\tlearn: 0.3916945\ttotal: 249ms\tremaining: 1.1s\n185:\tlearn: 0.3913781\ttotal: 250ms\tremaining: 1.09s\n186:\tlearn: 0.3910087\ttotal: 251ms\tremaining: 1.09s\n187:\tlearn: 0.3908671\ttotal: 252ms\tremaining: 1.09s\n188:\tlearn: 0.3904488\ttotal: 253ms\tremaining: 1.09s\n189:\tlearn: 0.3901621\ttotal: 254ms\tremaining: 1.08s\n190:\tlearn: 0.3897928\ttotal: 256ms\tremaining: 1.08s\n191:\tlearn: 0.3894609\ttotal: 257ms\tremaining: 1.08s\n192:\tlearn: 0.3891726\ttotal: 258ms\tremaining: 1.08s\n193:\tlearn: 0.3891015\ttotal: 258ms\tremaining: 1.07s\n194:\tlearn: 0.3887490\ttotal: 259ms\tremaining: 1.07s\n195:\tlearn: 0.3886543\ttotal: 260ms\tremaining: 1.07s\n196:\tlearn: 0.3883377\ttotal: 261ms\tremaining: 1.06s\n197:\tlearn: 0.3881013\ttotal: 262ms\tremaining: 1.06s\n198:\tlearn: 0.3878255\ttotal: 263ms\tremaining: 1.06s\n199:\tlearn: 0.3875424\ttotal: 264ms\tremaining: 1.06s\n200:\tlearn: 0.3872041\ttotal: 265ms\tremaining: 1.05s\n201:\tlearn: 0.3868332\ttotal: 266ms\tremaining: 1.05s\n202:\tlearn: 0.3864638\ttotal: 268ms\tremaining: 1.05s\n203:\tlearn: 0.3863432\ttotal: 271ms\tremaining: 1.05s\n204:\tlearn: 0.3859393\ttotal: 272ms\tremaining: 1.05s\n205:\tlearn: 0.3856460\ttotal: 273ms\tremaining: 1.05s\n206:\tlearn: 0.3853742\ttotal: 274ms\tremaining: 1.05s\n207:\tlearn: 0.3850985\ttotal: 275ms\tremaining: 1.05s\n208:\tlearn: 0.3848677\ttotal: 276ms\tremaining: 1.04s\n209:\tlearn: 0.3845516\ttotal: 277ms\tremaining: 1.04s\n210:\tlearn: 0.3840786\ttotal: 278ms\tremaining: 1.04s\n211:\tlearn: 0.3837235\ttotal: 279ms\tremaining: 1.04s\n212:\tlearn: 0.3835400\ttotal: 280ms\tremaining: 1.03s\n213:\tlearn: 0.3832776\ttotal: 281ms\tremaining: 1.03s\n214:\tlearn: 0.3829457\ttotal: 282ms\tremaining: 1.03s\n215:\tlearn: 0.3827793\ttotal: 283ms\tremaining: 1.03s\n216:\tlearn: 0.3825240\ttotal: 285ms\tremaining: 1.03s\n217:\tlearn: 0.3822055\ttotal: 286ms\tremaining: 1.02s\n218:\tlearn: 0.3819553\ttotal: 287ms\tremaining: 1.02s\n219:\tlearn: 0.3816943\ttotal: 288ms\tremaining: 1.02s\n220:\tlearn: 0.3813144\ttotal: 289ms\tremaining: 1.02s\n221:\tlearn: 0.3811348\ttotal: 290ms\tremaining: 1.01s\n222:\tlearn: 0.3808144\ttotal: 291ms\tremaining: 1.01s\n223:\tlearn: 0.3806496\ttotal: 292ms\tremaining: 1.01s\n224:\tlearn: 0.3801655\ttotal: 293ms\tremaining: 1.01s\n225:\tlearn: 0.3800976\ttotal: 294ms\tremaining: 1s\n226:\tlearn: 0.3796410\ttotal: 295ms\tremaining: 1s\n227:\tlearn: 0.3793885\ttotal: 296ms\tremaining: 1s\n228:\tlearn: 0.3791291\ttotal: 297ms\tremaining: 999ms\n229:\tlearn: 0.3787913\ttotal: 298ms\tremaining: 997ms\n230:\tlearn: 0.3783800\ttotal: 299ms\tremaining: 995ms\n231:\tlearn: 0.3782260\ttotal: 300ms\tremaining: 993ms\n232:\tlearn: 0.3781000\ttotal: 301ms\tremaining: 991ms\n233:\tlearn: 0.3779538\ttotal: 302ms\tremaining: 988ms\n234:\tlearn: 0.3779231\ttotal: 302ms\tremaining: 984ms\n235:\tlearn: 0.3777713\ttotal: 303ms\tremaining: 981ms\n236:\tlearn: 0.3775971\ttotal: 304ms\tremaining: 979ms\n237:\tlearn: 0.3774611\ttotal: 305ms\tremaining: 977ms\n238:\tlearn: 0.3774388\ttotal: 306ms\tremaining: 973ms\n239:\tlearn: 0.3771887\ttotal: 307ms\tremaining: 971ms\n240:\tlearn: 0.3770200\ttotal: 308ms\tremaining: 969ms\n241:\tlearn: 0.3766902\ttotal: 309ms\tremaining: 968ms\n242:\tlearn: 0.3764341\ttotal: 311ms\tremaining: 967ms\n243:\tlearn: 0.3761070\ttotal: 312ms\tremaining: 968ms\n244:\tlearn: 0.3758858\ttotal: 314ms\tremaining: 967ms\n245:\tlearn: 0.3756627\ttotal: 316ms\tremaining: 967ms\n246:\tlearn: 0.3755630\ttotal: 317ms\tremaining: 965ms\n247:\tlearn: 0.3754290\ttotal: 318ms\tremaining: 964ms\n248:\tlearn: 0.3753149\ttotal: 320ms\tremaining: 964ms\n249:\tlearn: 0.3751868\ttotal: 321ms\tremaining: 962ms\n250:\tlearn: 0.3749705\ttotal: 322ms\tremaining: 961ms\n251:\tlearn: 0.3747138\ttotal: 323ms\tremaining: 960ms\n252:\tlearn: 0.3743010\ttotal: 325ms\tremaining: 958ms\n253:\tlearn: 0.3740827\ttotal: 326ms\tremaining: 957ms\n254:\tlearn: 0.3737379\ttotal: 327ms\tremaining: 955ms\n255:\tlearn: 0.3734337\ttotal: 328ms\tremaining: 954ms\n256:\tlearn: 0.3731491\ttotal: 329ms\tremaining: 953ms\n257:\tlearn: 0.3729552\ttotal: 331ms\tremaining: 952ms\n258:\tlearn: 0.3727566\ttotal: 332ms\tremaining: 950ms\n259:\tlearn: 0.3723866\ttotal: 333ms\tremaining: 949ms\n260:\tlearn: 0.3723709\ttotal: 334ms\tremaining: 946ms\n261:\tlearn: 0.3722257\ttotal: 335ms\tremaining: 944ms\n262:\tlearn: 0.3720445\ttotal: 336ms\tremaining: 942ms\n263:\tlearn: 0.3718679\ttotal: 337ms\tremaining: 940ms\n264:\tlearn: 0.3716390\ttotal: 338ms\tremaining: 939ms\n265:\tlearn: 0.3710939\ttotal: 339ms\tremaining: 937ms\n266:\tlearn: 0.3708672\ttotal: 340ms\tremaining: 935ms\n267:\tlearn: 0.3706337\ttotal: 342ms\tremaining: 933ms\n268:\tlearn: 0.3705420\ttotal: 343ms\tremaining: 931ms\n269:\tlearn: 0.3702200\ttotal: 344ms\tremaining: 929ms\n270:\tlearn: 0.3698711\ttotal: 345ms\tremaining: 928ms\n271:\tlearn: 0.3696186\ttotal: 346ms\tremaining: 926ms\n272:\tlearn: 0.3693976\ttotal: 347ms\tremaining: 924ms\n273:\tlearn: 0.3692015\ttotal: 348ms\tremaining: 922ms\n274:\tlearn: 0.3690233\ttotal: 349ms\tremaining: 920ms\n275:\tlearn: 0.3687428\ttotal: 350ms\tremaining: 918ms\n276:\tlearn: 0.3685473\ttotal: 351ms\tremaining: 916ms\n277:\tlearn: 0.3685301\ttotal: 352ms\tremaining: 913ms\n278:\tlearn: 0.3683809\ttotal: 353ms\tremaining: 911ms\n279:\tlearn: 0.3681398\ttotal: 354ms\tremaining: 910ms\n280:\tlearn: 0.3679588\ttotal: 355ms\tremaining: 908ms\n281:\tlearn: 0.3676642\ttotal: 356ms\tremaining: 906ms\n282:\tlearn: 0.3675048\ttotal: 357ms\tremaining: 904ms\n283:\tlearn: 0.3672462\ttotal: 358ms\tremaining: 902ms\n284:\tlearn: 0.3671360\ttotal: 359ms\tremaining: 901ms\n285:\tlearn: 0.3670285\ttotal: 360ms\tremaining: 899ms\n286:\tlearn: 0.3667780\ttotal: 361ms\tremaining: 897ms\n287:\tlearn: 0.3665983\ttotal: 362ms\tremaining: 895ms\n288:\tlearn: 0.3663897\ttotal: 363ms\tremaining: 893ms\n289:\tlearn: 0.3661785\ttotal: 364ms\tremaining: 892ms\n290:\tlearn: 0.3659395\ttotal: 365ms\tremaining: 890ms\n291:\tlearn: 0.3657074\ttotal: 366ms\tremaining: 888ms\n292:\tlearn: 0.3656572\ttotal: 367ms\tremaining: 885ms\n293:\tlearn: 0.3656442\ttotal: 368ms\tremaining: 883ms\n294:\tlearn: 0.3655292\ttotal: 368ms\tremaining: 880ms\n295:\tlearn: 0.3653885\ttotal: 369ms\tremaining: 879ms\n296:\tlearn: 0.3652024\ttotal: 370ms\tremaining: 877ms\n297:\tlearn: 0.3649322\ttotal: 372ms\tremaining: 875ms\n298:\tlearn: 0.3646973\ttotal: 373ms\tremaining: 874ms\n299:\tlearn: 0.3645734\ttotal: 375ms\tremaining: 874ms\n300:\tlearn: 0.3642950\ttotal: 376ms\tremaining: 873ms\n301:\tlearn: 0.3640637\ttotal: 377ms\tremaining: 871ms\n302:\tlearn: 0.3637562\ttotal: 378ms\tremaining: 870ms\n303:\tlearn: 0.3634785\ttotal: 379ms\tremaining: 868ms\n304:\tlearn: 0.3632992\ttotal: 380ms\tremaining: 866ms\n305:\tlearn: 0.3631021\ttotal: 381ms\tremaining: 864ms\n306:\tlearn: 0.3630391\ttotal: 382ms\tremaining: 863ms\n307:\tlearn: 0.3628390\ttotal: 383ms\tremaining: 861ms\n308:\tlearn: 0.3624806\ttotal: 384ms\tremaining: 859ms\n309:\tlearn: 0.3622838\ttotal: 385ms\tremaining: 858ms\n310:\tlearn: 0.3619890\ttotal: 386ms\tremaining: 856ms\n311:\tlearn: 0.3619036\ttotal: 387ms\tremaining: 854ms\n312:\tlearn: 0.3618234\ttotal: 388ms\tremaining: 852ms\n313:\tlearn: 0.3616739\ttotal: 389ms\tremaining: 851ms\n314:\tlearn: 0.3614420\ttotal: 390ms\tremaining: 849ms\n315:\tlearn: 0.3611977\ttotal: 392ms\tremaining: 848ms\n316:\tlearn: 0.3610269\ttotal: 393ms\tremaining: 846ms\n317:\tlearn: 0.3609211\ttotal: 394ms\tremaining: 844ms\n318:\tlearn: 0.3608954\ttotal: 394ms\tremaining: 842ms\n319:\tlearn: 0.3607240\ttotal: 395ms\tremaining: 840ms\n320:\tlearn: 0.3603270\ttotal: 397ms\tremaining: 839ms\n321:\tlearn: 0.3601050\ttotal: 398ms\tremaining: 837ms\n322:\tlearn: 0.3599379\ttotal: 399ms\tremaining: 836ms\n323:\tlearn: 0.3598610\ttotal: 400ms\tremaining: 834ms\n324:\tlearn: 0.3595969\ttotal: 401ms\tremaining: 832ms\n325:\tlearn: 0.3594069\ttotal: 402ms\tremaining: 831ms\n326:\tlearn: 0.3592778\ttotal: 403ms\tremaining: 829ms\n327:\tlearn: 0.3589809\ttotal: 404ms\tremaining: 828ms\n328:\tlearn: 0.3587239\ttotal: 405ms\tremaining: 826ms\n329:\tlearn: 0.3585053\ttotal: 406ms\tremaining: 825ms\n330:\tlearn: 0.3583463\ttotal: 407ms\tremaining: 823ms\n331:\tlearn: 0.3581160\ttotal: 412ms\tremaining: 830ms\n332:\tlearn: 0.3579307\ttotal: 413ms\tremaining: 828ms\n333:\tlearn: 0.3577063\ttotal: 414ms\tremaining: 826ms\n334:\tlearn: 0.3575526\ttotal: 416ms\tremaining: 825ms\n335:\tlearn: 0.3573185\ttotal: 417ms\tremaining: 823ms\n336:\tlearn: 0.3571310\ttotal: 418ms\tremaining: 822ms\n337:\tlearn: 0.3568728\ttotal: 419ms\tremaining: 820ms\n338:\tlearn: 0.3567007\ttotal: 420ms\tremaining: 819ms\n339:\tlearn: 0.3565909\ttotal: 421ms\tremaining: 817ms\n340:\tlearn: 0.3564315\ttotal: 422ms\tremaining: 815ms\n341:\tlearn: 0.3562090\ttotal: 423ms\tremaining: 814ms\n342:\tlearn: 0.3561180\ttotal: 424ms\tremaining: 812ms\n343:\tlearn: 0.3558522\ttotal: 425ms\tremaining: 811ms\n344:\tlearn: 0.3556463\ttotal: 426ms\tremaining: 809ms\n345:\tlearn: 0.3552901\ttotal: 427ms\tremaining: 808ms\n346:\tlearn: 0.3549580\ttotal: 428ms\tremaining: 806ms\n347:\tlearn: 0.3546930\ttotal: 429ms\tremaining: 805ms\n348:\tlearn: 0.3545584\ttotal: 431ms\tremaining: 803ms\n349:\tlearn: 0.3544072\ttotal: 432ms\tremaining: 801ms\n350:\tlearn: 0.3542948\ttotal: 433ms\tremaining: 800ms\n351:\tlearn: 0.3540223\ttotal: 434ms\tremaining: 798ms\n352:\tlearn: 0.3539592\ttotal: 435ms\tremaining: 797ms\n353:\tlearn: 0.3538143\ttotal: 436ms\tremaining: 795ms\n354:\tlearn: 0.3536757\ttotal: 437ms\tremaining: 794ms\n355:\tlearn: 0.3535623\ttotal: 438ms\tremaining: 792ms\n356:\tlearn: 0.3533464\ttotal: 439ms\tremaining: 791ms\n357:\tlearn: 0.3531144\ttotal: 440ms\tremaining: 789ms\n358:\tlearn: 0.3530000\ttotal: 441ms\tremaining: 787ms\n359:\tlearn: 0.3528232\ttotal: 442ms\tremaining: 786ms\n360:\tlearn: 0.3526636\ttotal: 444ms\tremaining: 785ms\n361:\tlearn: 0.3526418\ttotal: 444ms\tremaining: 783ms\n362:\tlearn: 0.3523417\ttotal: 446ms\tremaining: 782ms\n363:\tlearn: 0.3522930\ttotal: 446ms\tremaining: 780ms\n364:\tlearn: 0.3521461\ttotal: 447ms\tremaining: 778ms\n365:\tlearn: 0.3521153\ttotal: 448ms\tremaining: 777ms\n366:\tlearn: 0.3519843\ttotal: 450ms\tremaining: 775ms\n367:\tlearn: 0.3517647\ttotal: 451ms\tremaining: 774ms\n368:\tlearn: 0.3516200\ttotal: 452ms\tremaining: 772ms\n369:\tlearn: 0.3514431\ttotal: 453ms\tremaining: 771ms\n370:\tlearn: 0.3513322\ttotal: 454ms\tremaining: 769ms\n371:\tlearn: 0.3512105\ttotal: 455ms\tremaining: 768ms\n372:\tlearn: 0.3509905\ttotal: 456ms\tremaining: 766ms\n373:\tlearn: 0.3509217\ttotal: 457ms\tremaining: 765ms\n374:\tlearn: 0.3506876\ttotal: 458ms\tremaining: 763ms\n375:\tlearn: 0.3505143\ttotal: 459ms\tremaining: 762ms\n376:\tlearn: 0.3501844\ttotal: 460ms\tremaining: 760ms\n377:\tlearn: 0.3500207\ttotal: 461ms\tremaining: 759ms\n378:\tlearn: 0.3498263\ttotal: 462ms\tremaining: 757ms\n379:\tlearn: 0.3497435\ttotal: 463ms\tremaining: 756ms\n380:\tlearn: 0.3496451\ttotal: 464ms\tremaining: 754ms\n381:\tlearn: 0.3495339\ttotal: 465ms\tremaining: 753ms\n382:\tlearn: 0.3494900\ttotal: 466ms\tremaining: 751ms\n383:\tlearn: 0.3494030\ttotal: 467ms\tremaining: 749ms\n384:\tlearn: 0.3493457\ttotal: 468ms\tremaining: 748ms\n385:\tlearn: 0.3493022\ttotal: 469ms\tremaining: 746ms\n386:\tlearn: 0.3492904\ttotal: 469ms\tremaining: 744ms\n387:\tlearn: 0.3491139\ttotal: 472ms\tremaining: 744ms\n388:\tlearn: 0.3489440\ttotal: 473ms\tremaining: 743ms\n389:\tlearn: 0.3488403\ttotal: 474ms\tremaining: 741ms\n390:\tlearn: 0.3486726\ttotal: 475ms\tremaining: 740ms\n391:\tlearn: 0.3485305\ttotal: 476ms\tremaining: 738ms\n392:\tlearn: 0.3484509\ttotal: 477ms\tremaining: 737ms\n393:\tlearn: 0.3483977\ttotal: 478ms\tremaining: 735ms\n394:\tlearn: 0.3482269\ttotal: 479ms\tremaining: 734ms\n395:\tlearn: 0.3480411\ttotal: 480ms\tremaining: 732ms\n396:\tlearn: 0.3476922\ttotal: 481ms\tremaining: 731ms\n397:\tlearn: 0.3476381\ttotal: 482ms\tremaining: 729ms\n398:\tlearn: 0.3475789\ttotal: 483ms\tremaining: 728ms\n399:\tlearn: 0.3473377\ttotal: 484ms\tremaining: 726ms\n400:\tlearn: 0.3471567\ttotal: 485ms\tremaining: 725ms\n401:\tlearn: 0.3470668\ttotal: 486ms\tremaining: 723ms\n402:\tlearn: 0.3469657\ttotal: 487ms\tremaining: 722ms\n403:\tlearn: 0.3467979\ttotal: 488ms\tremaining: 721ms\n404:\tlearn: 0.3466308\ttotal: 490ms\tremaining: 719ms\n405:\tlearn: 0.3465766\ttotal: 491ms\tremaining: 718ms\n406:\tlearn: 0.3463892\ttotal: 492ms\tremaining: 717ms\n407:\tlearn: 0.3462319\ttotal: 493ms\tremaining: 716ms\n408:\tlearn: 0.3459366\ttotal: 494ms\tremaining: 714ms\n409:\tlearn: 0.3458269\ttotal: 495ms\tremaining: 713ms\n410:\tlearn: 0.3457170\ttotal: 496ms\tremaining: 711ms\n411:\tlearn: 0.3456003\ttotal: 497ms\tremaining: 710ms\n412:\tlearn: 0.3454681\ttotal: 499ms\tremaining: 709ms\n413:\tlearn: 0.3452850\ttotal: 500ms\tremaining: 707ms\n414:\tlearn: 0.3452694\ttotal: 501ms\tremaining: 706ms\n415:\tlearn: 0.3451355\ttotal: 502ms\tremaining: 704ms\n416:\tlearn: 0.3449638\ttotal: 503ms\tremaining: 703ms\n417:\tlearn: 0.3447386\ttotal: 504ms\tremaining: 701ms\n418:\tlearn: 0.3445483\ttotal: 505ms\tremaining: 700ms\n419:\tlearn: 0.3444764\ttotal: 506ms\tremaining: 699ms\n420:\tlearn: 0.3444240\ttotal: 507ms\tremaining: 697ms\n421:\tlearn: 0.3442870\ttotal: 508ms\tremaining: 695ms\n422:\tlearn: 0.3441175\ttotal: 509ms\tremaining: 694ms\n423:\tlearn: 0.3439736\ttotal: 510ms\tremaining: 692ms\n424:\tlearn: 0.3439475\ttotal: 511ms\tremaining: 691ms\n425:\tlearn: 0.3438626\ttotal: 512ms\tremaining: 690ms\n426:\tlearn: 0.3437444\ttotal: 513ms\tremaining: 688ms\n427:\tlearn: 0.3435635\ttotal: 514ms\tremaining: 687ms\n428:\tlearn: 0.3432843\ttotal: 515ms\tremaining: 685ms\n429:\tlearn: 0.3431748\ttotal: 516ms\tremaining: 684ms\n430:\tlearn: 0.3431579\ttotal: 517ms\tremaining: 682ms\n431:\tlearn: 0.3430850\ttotal: 518ms\tremaining: 681ms\n432:\tlearn: 0.3429363\ttotal: 519ms\tremaining: 679ms\n433:\tlearn: 0.3428887\ttotal: 520ms\tremaining: 678ms\n434:\tlearn: 0.3428799\ttotal: 520ms\tremaining: 676ms\n435:\tlearn: 0.3427990\ttotal: 521ms\tremaining: 675ms\n436:\tlearn: 0.3427810\ttotal: 522ms\tremaining: 673ms\n437:\tlearn: 0.3424567\ttotal: 523ms\tremaining: 671ms\n438:\tlearn: 0.3423642\ttotal: 524ms\tremaining: 670ms\n439:\tlearn: 0.3420099\ttotal: 525ms\tremaining: 669ms\n440:\tlearn: 0.3418694\ttotal: 526ms\tremaining: 667ms\n441:\tlearn: 0.3416780\ttotal: 528ms\tremaining: 666ms\n442:\tlearn: 0.3416511\ttotal: 528ms\tremaining: 664ms\n443:\tlearn: 0.3415792\ttotal: 529ms\tremaining: 663ms\n444:\tlearn: 0.3413254\ttotal: 531ms\tremaining: 663ms\n445:\tlearn: 0.3412116\ttotal: 532ms\tremaining: 661ms\n446:\tlearn: 0.3410135\ttotal: 533ms\tremaining: 660ms\n447:\tlearn: 0.3409545\ttotal: 534ms\tremaining: 658ms\n448:\tlearn: 0.3406818\ttotal: 535ms\tremaining: 657ms\n449:\tlearn: 0.3406478\ttotal: 536ms\tremaining: 656ms\n450:\tlearn: 0.3405110\ttotal: 537ms\tremaining: 654ms\n451:\tlearn: 0.3404320\ttotal: 539ms\tremaining: 653ms\n452:\tlearn: 0.3403212\ttotal: 540ms\tremaining: 652ms\n453:\tlearn: 0.3402101\ttotal: 541ms\tremaining: 650ms\n454:\tlearn: 0.3400159\ttotal: 542ms\tremaining: 649ms\n455:\tlearn: 0.3399540\ttotal: 543ms\tremaining: 648ms\n456:\tlearn: 0.3398571\ttotal: 544ms\tremaining: 646ms\n457:\tlearn: 0.3396601\ttotal: 545ms\tremaining: 645ms\n458:\tlearn: 0.3395231\ttotal: 546ms\tremaining: 644ms\n459:\tlearn: 0.3394371\ttotal: 547ms\tremaining: 642ms\n460:\tlearn: 0.3393692\ttotal: 548ms\tremaining: 641ms\n461:\tlearn: 0.3393347\ttotal: 549ms\tremaining: 639ms\n462:\tlearn: 0.3393041\ttotal: 550ms\tremaining: 638ms\n463:\tlearn: 0.3392626\ttotal: 551ms\tremaining: 637ms\n464:\tlearn: 0.3390436\ttotal: 552ms\tremaining: 636ms\n465:\tlearn: 0.3388232\ttotal: 554ms\tremaining: 634ms\n466:\tlearn: 0.3387399\ttotal: 555ms\tremaining: 634ms\n467:\tlearn: 0.3385432\ttotal: 557ms\tremaining: 633ms\n468:\tlearn: 0.3383655\ttotal: 558ms\tremaining: 632ms\n469:\tlearn: 0.3381923\ttotal: 559ms\tremaining: 630ms\n470:\tlearn: 0.3381878\ttotal: 560ms\tremaining: 628ms\n471:\tlearn: 0.3381096\ttotal: 561ms\tremaining: 627ms\n472:\tlearn: 0.3380121\ttotal: 562ms\tremaining: 626ms\n473:\tlearn: 0.3378914\ttotal: 563ms\tremaining: 624ms\n474:\tlearn: 0.3378044\ttotal: 564ms\tremaining: 623ms\n475:\tlearn: 0.3375118\ttotal: 565ms\tremaining: 622ms\n476:\tlearn: 0.3373648\ttotal: 566ms\tremaining: 620ms\n477:\tlearn: 0.3373031\ttotal: 567ms\tremaining: 619ms\n478:\tlearn: 0.3372837\ttotal: 567ms\tremaining: 617ms\n479:\tlearn: 0.3372192\ttotal: 568ms\tremaining: 616ms\n480:\tlearn: 0.3370951\ttotal: 570ms\tremaining: 615ms\n481:\tlearn: 0.3369796\ttotal: 571ms\tremaining: 613ms\n482:\tlearn: 0.3369104\ttotal: 572ms\tremaining: 612ms\n483:\tlearn: 0.3367534\ttotal: 573ms\tremaining: 611ms\n484:\tlearn: 0.3366061\ttotal: 574ms\tremaining: 609ms\n485:\tlearn: 0.3364624\ttotal: 575ms\tremaining: 608ms\n486:\tlearn: 0.3363126\ttotal: 576ms\tremaining: 607ms\n487:\tlearn: 0.3362467\ttotal: 577ms\tremaining: 605ms\n488:\tlearn: 0.3361787\ttotal: 578ms\tremaining: 604ms\n489:\tlearn: 0.3360426\ttotal: 579ms\tremaining: 602ms\n490:\tlearn: 0.3359112\ttotal: 580ms\tremaining: 601ms\n491:\tlearn: 0.3358415\ttotal: 581ms\tremaining: 600ms\n492:\tlearn: 0.3358039\ttotal: 582ms\tremaining: 599ms\n493:\tlearn: 0.3357411\ttotal: 590ms\tremaining: 604ms\n494:\tlearn: 0.3355021\ttotal: 591ms\tremaining: 603ms\n495:\tlearn: 0.3353863\ttotal: 592ms\tremaining: 602ms\n496:\tlearn: 0.3352464\ttotal: 593ms\tremaining: 600ms\n497:\tlearn: 0.3351390\ttotal: 594ms\tremaining: 599ms\n498:\tlearn: 0.3349898\ttotal: 595ms\tremaining: 598ms\n499:\tlearn: 0.3348290\ttotal: 596ms\tremaining: 596ms\n500:\tlearn: 0.3346097\ttotal: 601ms\tremaining: 599ms\n501:\tlearn: 0.3344947\ttotal: 603ms\tremaining: 598ms\n502:\tlearn: 0.3344328\ttotal: 604ms\tremaining: 597ms\n503:\tlearn: 0.3342702\ttotal: 606ms\tremaining: 596ms\n504:\tlearn: 0.3341336\ttotal: 608ms\tremaining: 596ms\n505:\tlearn: 0.3340021\ttotal: 610ms\tremaining: 595ms\n506:\tlearn: 0.3339381\ttotal: 611ms\tremaining: 594ms\n507:\tlearn: 0.3339072\ttotal: 612ms\tremaining: 592ms\n508:\tlearn: 0.3337797\ttotal: 613ms\tremaining: 591ms\n509:\tlearn: 0.3336705\ttotal: 614ms\tremaining: 590ms\n510:\tlearn: 0.3335620\ttotal: 615ms\tremaining: 589ms\n511:\tlearn: 0.3335159\ttotal: 617ms\tremaining: 588ms\n512:\tlearn: 0.3332692\ttotal: 619ms\tremaining: 587ms\n513:\tlearn: 0.3331248\ttotal: 620ms\tremaining: 586ms\n514:\tlearn: 0.3330681\ttotal: 621ms\tremaining: 585ms\n515:\tlearn: 0.3328970\ttotal: 622ms\tremaining: 584ms\n516:\tlearn: 0.3327439\ttotal: 624ms\tremaining: 583ms\n517:\tlearn: 0.3325177\ttotal: 625ms\tremaining: 582ms\n518:\tlearn: 0.3324086\ttotal: 627ms\tremaining: 581ms\n519:\tlearn: 0.3322837\ttotal: 628ms\tremaining: 580ms\n520:\tlearn: 0.3322831\ttotal: 629ms\tremaining: 578ms\n521:\tlearn: 0.3322691\ttotal: 630ms\tremaining: 577ms\n522:\tlearn: 0.3321944\ttotal: 631ms\tremaining: 576ms\n523:\tlearn: 0.3321416\ttotal: 632ms\tremaining: 574ms\n524:\tlearn: 0.3320593\ttotal: 634ms\tremaining: 573ms\n525:\tlearn: 0.3319808\ttotal: 635ms\tremaining: 572ms\n526:\tlearn: 0.3314940\ttotal: 636ms\tremaining: 571ms\n527:\tlearn: 0.3314344\ttotal: 637ms\tremaining: 570ms\n528:\tlearn: 0.3313467\ttotal: 638ms\tremaining: 568ms\n529:\tlearn: 0.3312043\ttotal: 640ms\tremaining: 567ms\n530:\tlearn: 0.3310434\ttotal: 641ms\tremaining: 566ms\n531:\tlearn: 0.3308548\ttotal: 642ms\tremaining: 564ms\n532:\tlearn: 0.3308120\ttotal: 642ms\tremaining: 563ms\n533:\tlearn: 0.3306785\ttotal: 644ms\tremaining: 562ms\n534:\tlearn: 0.3305934\ttotal: 645ms\tremaining: 561ms\n535:\tlearn: 0.3305385\ttotal: 646ms\tremaining: 559ms\n536:\tlearn: 0.3304420\ttotal: 647ms\tremaining: 558ms\n537:\tlearn: 0.3303004\ttotal: 648ms\tremaining: 557ms\n538:\tlearn: 0.3302488\ttotal: 649ms\tremaining: 555ms\n539:\tlearn: 0.3301428\ttotal: 650ms\tremaining: 554ms\n540:\tlearn: 0.3300165\ttotal: 651ms\tremaining: 553ms\n541:\tlearn: 0.3299551\ttotal: 652ms\tremaining: 551ms\n542:\tlearn: 0.3298278\ttotal: 653ms\tremaining: 550ms\n543:\tlearn: 0.3296749\ttotal: 654ms\tremaining: 549ms\n544:\tlearn: 0.3295168\ttotal: 656ms\tremaining: 547ms\n545:\tlearn: 0.3292714\ttotal: 657ms\tremaining: 546ms\n546:\tlearn: 0.3291731\ttotal: 658ms\tremaining: 545ms\n547:\tlearn: 0.3290270\ttotal: 659ms\tremaining: 543ms\n548:\tlearn: 0.3287949\ttotal: 660ms\tremaining: 542ms\n549:\tlearn: 0.3287677\ttotal: 661ms\tremaining: 541ms\n550:\tlearn: 0.3286855\ttotal: 662ms\tremaining: 539ms\n551:\tlearn: 0.3286341\ttotal: 663ms\tremaining: 538ms\n552:\tlearn: 0.3285446\ttotal: 664ms\tremaining: 537ms\n553:\tlearn: 0.3284866\ttotal: 665ms\tremaining: 535ms\n554:\tlearn: 0.3283692\ttotal: 666ms\tremaining: 534ms\n555:\tlearn: 0.3283166\ttotal: 668ms\tremaining: 533ms\n556:\tlearn: 0.3282352\ttotal: 670ms\tremaining: 533ms\n557:\tlearn: 0.3281502\ttotal: 672ms\tremaining: 532ms\n558:\tlearn: 0.3279950\ttotal: 675ms\tremaining: 533ms\n559:\tlearn: 0.3279522\ttotal: 677ms\tremaining: 532ms\n560:\tlearn: 0.3278439\ttotal: 678ms\tremaining: 531ms\n561:\tlearn: 0.3278176\ttotal: 681ms\tremaining: 531ms\n562:\tlearn: 0.3277246\ttotal: 684ms\tremaining: 531ms\n563:\tlearn: 0.3276186\ttotal: 686ms\tremaining: 530ms\n564:\tlearn: 0.3275639\ttotal: 689ms\tremaining: 530ms\n565:\tlearn: 0.3274333\ttotal: 698ms\tremaining: 535ms\n566:\tlearn: 0.3274106\ttotal: 699ms\tremaining: 534ms\n567:\tlearn: 0.3273918\ttotal: 700ms\tremaining: 532ms\n568:\tlearn: 0.3273251\ttotal: 701ms\tremaining: 531ms\n569:\tlearn: 0.3268912\ttotal: 702ms\tremaining: 530ms\n570:\tlearn: 0.3268002\ttotal: 703ms\tremaining: 528ms\n571:\tlearn: 0.3266937\ttotal: 704ms\tremaining: 527ms\n572:\tlearn: 0.3265511\ttotal: 705ms\tremaining: 526ms\n573:\tlearn: 0.3265077\ttotal: 706ms\tremaining: 524ms\n574:\tlearn: 0.3263754\ttotal: 708ms\tremaining: 523ms\n575:\tlearn: 0.3262303\ttotal: 709ms\tremaining: 522ms\n576:\tlearn: 0.3260646\ttotal: 710ms\tremaining: 520ms\n577:\tlearn: 0.3259578\ttotal: 711ms\tremaining: 519ms\n578:\tlearn: 0.3258944\ttotal: 712ms\tremaining: 518ms\n579:\tlearn: 0.3257139\ttotal: 713ms\tremaining: 516ms\n580:\tlearn: 0.3257055\ttotal: 714ms\tremaining: 515ms\n581:\tlearn: 0.3256353\ttotal: 715ms\tremaining: 513ms\n582:\tlearn: 0.3255291\ttotal: 716ms\tremaining: 512ms\n583:\tlearn: 0.3254325\ttotal: 717ms\tremaining: 511ms\n584:\tlearn: 0.3252424\ttotal: 719ms\tremaining: 510ms\n585:\tlearn: 0.3250926\ttotal: 720ms\tremaining: 508ms\n586:\tlearn: 0.3250174\ttotal: 721ms\tremaining: 507ms\n587:\tlearn: 0.3249305\ttotal: 722ms\tremaining: 506ms\n588:\tlearn: 0.3248651\ttotal: 723ms\tremaining: 505ms\n589:\tlearn: 0.3247485\ttotal: 725ms\tremaining: 504ms\n590:\tlearn: 0.3246784\ttotal: 726ms\tremaining: 502ms\n591:\tlearn: 0.3245655\ttotal: 727ms\tremaining: 501ms\n592:\tlearn: 0.3244179\ttotal: 728ms\tremaining: 500ms\n593:\tlearn: 0.3242271\ttotal: 729ms\tremaining: 498ms\n594:\tlearn: 0.3239602\ttotal: 731ms\tremaining: 497ms\n595:\tlearn: 0.3239078\ttotal: 733ms\tremaining: 497ms\n596:\tlearn: 0.3237317\ttotal: 734ms\tremaining: 496ms\n597:\tlearn: 0.3236234\ttotal: 736ms\tremaining: 495ms\n598:\tlearn: 0.3235469\ttotal: 737ms\tremaining: 494ms\n599:\tlearn: 0.3234788\ttotal: 738ms\tremaining: 492ms\n600:\tlearn: 0.3234560\ttotal: 740ms\tremaining: 491ms\n601:\tlearn: 0.3233518\ttotal: 741ms\tremaining: 490ms\n602:\tlearn: 0.3232895\ttotal: 742ms\tremaining: 489ms\n603:\tlearn: 0.3231322\ttotal: 746ms\tremaining: 489ms\n604:\tlearn: 0.3230584\ttotal: 747ms\tremaining: 488ms\n605:\tlearn: 0.3229873\ttotal: 749ms\tremaining: 487ms\n606:\tlearn: 0.3228634\ttotal: 750ms\tremaining: 486ms\n607:\tlearn: 0.3226771\ttotal: 751ms\tremaining: 484ms\n608:\tlearn: 0.3225953\ttotal: 753ms\tremaining: 483ms\n609:\tlearn: 0.3225060\ttotal: 754ms\tremaining: 482ms\n610:\tlearn: 0.3224808\ttotal: 756ms\tremaining: 481ms\n611:\tlearn: 0.3223619\ttotal: 757ms\tremaining: 480ms\n612:\tlearn: 0.3223251\ttotal: 759ms\tremaining: 479ms\n613:\tlearn: 0.3222428\ttotal: 760ms\tremaining: 478ms\n614:\tlearn: 0.3221207\ttotal: 762ms\tremaining: 477ms\n615:\tlearn: 0.3220454\ttotal: 763ms\tremaining: 476ms\n616:\tlearn: 0.3219696\ttotal: 765ms\tremaining: 475ms\n617:\tlearn: 0.3218927\ttotal: 766ms\tremaining: 473ms\n618:\tlearn: 0.3218651\ttotal: 767ms\tremaining: 472ms\n619:\tlearn: 0.3217319\ttotal: 768ms\tremaining: 471ms\n620:\tlearn: 0.3216336\ttotal: 769ms\tremaining: 470ms\n621:\tlearn: 0.3216049\ttotal: 771ms\tremaining: 468ms\n622:\tlearn: 0.3215176\ttotal: 772ms\tremaining: 467ms\n623:\tlearn: 0.3214082\ttotal: 773ms\tremaining: 466ms\n624:\tlearn: 0.3210557\ttotal: 774ms\tremaining: 465ms\n625:\tlearn: 0.3210464\ttotal: 775ms\tremaining: 463ms\n626:\tlearn: 0.3210324\ttotal: 776ms\tremaining: 462ms\n627:\tlearn: 0.3209565\ttotal: 777ms\tremaining: 460ms\n628:\tlearn: 0.3209343\ttotal: 779ms\tremaining: 459ms\n629:\tlearn: 0.3208524\ttotal: 780ms\tremaining: 458ms\n630:\tlearn: 0.3207492\ttotal: 781ms\tremaining: 457ms\n631:\tlearn: 0.3206623\ttotal: 782ms\tremaining: 455ms\n632:\tlearn: 0.3205347\ttotal: 783ms\tremaining: 454ms\n633:\tlearn: 0.3202846\ttotal: 785ms\tremaining: 453ms\n634:\tlearn: 0.3202267\ttotal: 786ms\tremaining: 452ms\n635:\tlearn: 0.3200598\ttotal: 787ms\tremaining: 450ms\n636:\tlearn: 0.3199810\ttotal: 788ms\tremaining: 449ms\n637:\tlearn: 0.3198240\ttotal: 789ms\tremaining: 448ms\n638:\tlearn: 0.3197180\ttotal: 791ms\tremaining: 447ms\n639:\tlearn: 0.3195522\ttotal: 792ms\tremaining: 445ms\n640:\tlearn: 0.3193965\ttotal: 793ms\tremaining: 444ms\n641:\tlearn: 0.3192448\ttotal: 794ms\tremaining: 443ms\n642:\tlearn: 0.3192380\ttotal: 795ms\tremaining: 441ms\n643:\tlearn: 0.3191672\ttotal: 797ms\tremaining: 440ms\n644:\tlearn: 0.3190377\ttotal: 798ms\tremaining: 439ms\n645:\tlearn: 0.3189366\ttotal: 799ms\tremaining: 438ms\n646:\tlearn: 0.3186808\ttotal: 801ms\tremaining: 437ms\n647:\tlearn: 0.3185475\ttotal: 802ms\tremaining: 436ms\n648:\tlearn: 0.3185187\ttotal: 803ms\tremaining: 434ms\n649:\tlearn: 0.3183081\ttotal: 805ms\tremaining: 433ms\n650:\tlearn: 0.3182213\ttotal: 806ms\tremaining: 432ms\n651:\tlearn: 0.3181435\ttotal: 807ms\tremaining: 431ms\n652:\tlearn: 0.3180812\ttotal: 808ms\tremaining: 429ms\n653:\tlearn: 0.3178511\ttotal: 809ms\tremaining: 428ms\n654:\tlearn: 0.3177401\ttotal: 810ms\tremaining: 427ms\n655:\tlearn: 0.3176522\ttotal: 811ms\tremaining: 426ms\n656:\tlearn: 0.3175518\ttotal: 813ms\tremaining: 424ms\n657:\tlearn: 0.3175298\ttotal: 814ms\tremaining: 423ms\n658:\tlearn: 0.3172769\ttotal: 815ms\tremaining: 422ms\n659:\tlearn: 0.3171192\ttotal: 816ms\tremaining: 420ms\n660:\tlearn: 0.3168981\ttotal: 817ms\tremaining: 419ms\n661:\tlearn: 0.3168034\ttotal: 818ms\tremaining: 418ms\n662:\tlearn: 0.3166432\ttotal: 819ms\tremaining: 416ms\n663:\tlearn: 0.3164031\ttotal: 820ms\tremaining: 415ms\n664:\tlearn: 0.3163471\ttotal: 821ms\tremaining: 414ms\n665:\tlearn: 0.3162996\ttotal: 822ms\tremaining: 412ms\n666:\tlearn: 0.3162045\ttotal: 823ms\tremaining: 411ms\n667:\tlearn: 0.3161776\ttotal: 824ms\tremaining: 410ms\n668:\tlearn: 0.3161202\ttotal: 825ms\tremaining: 408ms\n669:\tlearn: 0.3160499\ttotal: 826ms\tremaining: 407ms\n670:\tlearn: 0.3159358\ttotal: 827ms\tremaining: 406ms\n671:\tlearn: 0.3157717\ttotal: 828ms\tremaining: 404ms\n672:\tlearn: 0.3156719\ttotal: 830ms\tremaining: 403ms\n673:\tlearn: 0.3156086\ttotal: 831ms\tremaining: 402ms\n674:\tlearn: 0.3154706\ttotal: 832ms\tremaining: 400ms\n675:\tlearn: 0.3154352\ttotal: 833ms\tremaining: 399ms\n676:\tlearn: 0.3153465\ttotal: 834ms\tremaining: 398ms\n677:\tlearn: 0.3152911\ttotal: 835ms\tremaining: 396ms\n678:\tlearn: 0.3152364\ttotal: 836ms\tremaining: 395ms\n679:\tlearn: 0.3151822\ttotal: 837ms\tremaining: 394ms\n680:\tlearn: 0.3150723\ttotal: 838ms\tremaining: 393ms\n681:\tlearn: 0.3148532\ttotal: 839ms\tremaining: 391ms\n682:\tlearn: 0.3146447\ttotal: 840ms\tremaining: 390ms\n683:\tlearn: 0.3145678\ttotal: 841ms\tremaining: 389ms\n684:\tlearn: 0.3145224\ttotal: 844ms\tremaining: 388ms\n685:\tlearn: 0.3144325\ttotal: 845ms\tremaining: 387ms\n686:\tlearn: 0.3143547\ttotal: 846ms\tremaining: 385ms\n687:\tlearn: 0.3143037\ttotal: 847ms\tremaining: 384ms\n688:\tlearn: 0.3140725\ttotal: 848ms\tremaining: 383ms\n689:\tlearn: 0.3139832\ttotal: 849ms\tremaining: 382ms\n690:\tlearn: 0.3138466\ttotal: 850ms\tremaining: 380ms\n691:\tlearn: 0.3138057\ttotal: 851ms\tremaining: 379ms\n692:\tlearn: 0.3136993\ttotal: 852ms\tremaining: 378ms\n693:\tlearn: 0.3136381\ttotal: 853ms\tremaining: 376ms\n694:\tlearn: 0.3136142\ttotal: 854ms\tremaining: 375ms\n695:\tlearn: 0.3133714\ttotal: 855ms\tremaining: 374ms\n696:\tlearn: 0.3132742\ttotal: 856ms\tremaining: 372ms\n697:\tlearn: 0.3131429\ttotal: 857ms\tremaining: 371ms\n698:\tlearn: 0.3129774\ttotal: 858ms\tremaining: 370ms\n699:\tlearn: 0.3128946\ttotal: 859ms\tremaining: 368ms\n700:\tlearn: 0.3128193\ttotal: 861ms\tremaining: 367ms\n701:\tlearn: 0.3127391\ttotal: 862ms\tremaining: 366ms\n702:\tlearn: 0.3126552\ttotal: 863ms\tremaining: 365ms\n703:\tlearn: 0.3126383\ttotal: 864ms\tremaining: 363ms\n704:\tlearn: 0.3126069\ttotal: 865ms\tremaining: 362ms\n705:\tlearn: 0.3125560\ttotal: 867ms\tremaining: 361ms\n706:\tlearn: 0.3123730\ttotal: 868ms\tremaining: 360ms\n707:\tlearn: 0.3123089\ttotal: 869ms\tremaining: 358ms\n708:\tlearn: 0.3122226\ttotal: 870ms\tremaining: 357ms\n709:\tlearn: 0.3120737\ttotal: 872ms\tremaining: 356ms\n710:\tlearn: 0.3119761\ttotal: 873ms\tremaining: 355ms\n711:\tlearn: 0.3119029\ttotal: 875ms\tremaining: 354ms\n712:\tlearn: 0.3116873\ttotal: 876ms\tremaining: 353ms\n713:\tlearn: 0.3114704\ttotal: 877ms\tremaining: 351ms\n714:\tlearn: 0.3114359\ttotal: 878ms\tremaining: 350ms\n715:\tlearn: 0.3114035\ttotal: 879ms\tremaining: 349ms\n716:\tlearn: 0.3113345\ttotal: 881ms\tremaining: 348ms\n717:\tlearn: 0.3113296\ttotal: 881ms\tremaining: 346ms\n718:\tlearn: 0.3112770\ttotal: 883ms\tremaining: 345ms\n719:\tlearn: 0.3112145\ttotal: 884ms\tremaining: 344ms\n720:\tlearn: 0.3111949\ttotal: 885ms\tremaining: 342ms\n721:\tlearn: 0.3111190\ttotal: 886ms\tremaining: 341ms\n722:\tlearn: 0.3110086\ttotal: 887ms\tremaining: 340ms\n723:\tlearn: 0.3109219\ttotal: 888ms\tremaining: 339ms\n724:\tlearn: 0.3107728\ttotal: 889ms\tremaining: 337ms\n725:\tlearn: 0.3106689\ttotal: 890ms\tremaining: 336ms\n726:\tlearn: 0.3104866\ttotal: 892ms\tremaining: 335ms\n727:\tlearn: 0.3104005\ttotal: 893ms\tremaining: 334ms\n728:\tlearn: 0.3103335\ttotal: 894ms\tremaining: 332ms\n729:\tlearn: 0.3101348\ttotal: 895ms\tremaining: 331ms\n730:\tlearn: 0.3100651\ttotal: 896ms\tremaining: 330ms\n731:\tlearn: 0.3100260\ttotal: 897ms\tremaining: 328ms\n732:\tlearn: 0.3099309\ttotal: 898ms\tremaining: 327ms\n733:\tlearn: 0.3097941\ttotal: 899ms\tremaining: 326ms\n734:\tlearn: 0.3096933\ttotal: 901ms\tremaining: 325ms\n735:\tlearn: 0.3095814\ttotal: 902ms\tremaining: 323ms\n736:\tlearn: 0.3094179\ttotal: 903ms\tremaining: 322ms\n737:\tlearn: 0.3092119\ttotal: 904ms\tremaining: 321ms\n738:\tlearn: 0.3091222\ttotal: 905ms\tremaining: 320ms\n739:\tlearn: 0.3089929\ttotal: 907ms\tremaining: 319ms\n740:\tlearn: 0.3089084\ttotal: 908ms\tremaining: 317ms\n741:\tlearn: 0.3087968\ttotal: 909ms\tremaining: 316ms\n742:\tlearn: 0.3086755\ttotal: 910ms\tremaining: 315ms\n743:\tlearn: 0.3085940\ttotal: 911ms\tremaining: 314ms\n744:\tlearn: 0.3084655\ttotal: 912ms\tremaining: 312ms\n745:\tlearn: 0.3082829\ttotal: 913ms\tremaining: 311ms\n746:\tlearn: 0.3082505\ttotal: 915ms\tremaining: 310ms\n747:\tlearn: 0.3082129\ttotal: 916ms\tremaining: 308ms\n748:\tlearn: 0.3081515\ttotal: 917ms\tremaining: 307ms\n749:\tlearn: 0.3080950\ttotal: 918ms\tremaining: 306ms\n750:\tlearn: 0.3078759\ttotal: 919ms\tremaining: 305ms\n751:\tlearn: 0.3078572\ttotal: 920ms\tremaining: 303ms\n752:\tlearn: 0.3077288\ttotal: 921ms\tremaining: 302ms\n753:\tlearn: 0.3075536\ttotal: 922ms\tremaining: 301ms\n754:\tlearn: 0.3074592\ttotal: 923ms\tremaining: 300ms\n755:\tlearn: 0.3073207\ttotal: 924ms\tremaining: 298ms\n756:\tlearn: 0.3072736\ttotal: 925ms\tremaining: 297ms\n757:\tlearn: 0.3071897\ttotal: 926ms\tremaining: 296ms\n758:\tlearn: 0.3070988\ttotal: 927ms\tremaining: 294ms\n759:\tlearn: 0.3069974\ttotal: 928ms\tremaining: 293ms\n760:\tlearn: 0.3066373\ttotal: 930ms\tremaining: 292ms\n761:\tlearn: 0.3065051\ttotal: 931ms\tremaining: 291ms\n762:\tlearn: 0.3064958\ttotal: 932ms\tremaining: 289ms\n763:\tlearn: 0.3064370\ttotal: 933ms\tremaining: 288ms\n764:\tlearn: 0.3061620\ttotal: 935ms\tremaining: 287ms\n765:\tlearn: 0.3061051\ttotal: 936ms\tremaining: 286ms\n766:\tlearn: 0.3060258\ttotal: 937ms\tremaining: 285ms\n767:\tlearn: 0.3059310\ttotal: 938ms\tremaining: 283ms\n768:\tlearn: 0.3058554\ttotal: 939ms\tremaining: 282ms\n769:\tlearn: 0.3058211\ttotal: 940ms\tremaining: 281ms\n770:\tlearn: 0.3056471\ttotal: 941ms\tremaining: 280ms\n771:\tlearn: 0.3055986\ttotal: 942ms\tremaining: 278ms\n772:\tlearn: 0.3054929\ttotal: 943ms\tremaining: 277ms\n773:\tlearn: 0.3054027\ttotal: 944ms\tremaining: 276ms\n774:\tlearn: 0.3052847\ttotal: 945ms\tremaining: 274ms\n775:\tlearn: 0.3051819\ttotal: 946ms\tremaining: 273ms\n776:\tlearn: 0.3050922\ttotal: 948ms\tremaining: 272ms\n777:\tlearn: 0.3050078\ttotal: 949ms\tremaining: 271ms\n778:\tlearn: 0.3048031\ttotal: 950ms\tremaining: 269ms\n779:\tlearn: 0.3047190\ttotal: 951ms\tremaining: 268ms\n780:\tlearn: 0.3045523\ttotal: 952ms\tremaining: 267ms\n781:\tlearn: 0.3045207\ttotal: 953ms\tremaining: 266ms\n782:\tlearn: 0.3043648\ttotal: 954ms\tremaining: 264ms\n783:\tlearn: 0.3041327\ttotal: 955ms\tremaining: 263ms\n784:\tlearn: 0.3039533\ttotal: 956ms\tremaining: 262ms\n785:\tlearn: 0.3038462\ttotal: 957ms\tremaining: 260ms\n786:\tlearn: 0.3038311\ttotal: 958ms\tremaining: 259ms\n787:\tlearn: 0.3037822\ttotal: 959ms\tremaining: 258ms\n788:\tlearn: 0.3037145\ttotal: 960ms\tremaining: 257ms\n789:\tlearn: 0.3034467\ttotal: 961ms\tremaining: 255ms\n790:\tlearn: 0.3032883\ttotal: 962ms\tremaining: 254ms\n791:\tlearn: 0.3031749\ttotal: 963ms\tremaining: 253ms\n792:\tlearn: 0.3031446\ttotal: 964ms\tremaining: 252ms\n793:\tlearn: 0.3029928\ttotal: 965ms\tremaining: 250ms\n794:\tlearn: 0.3029467\ttotal: 966ms\tremaining: 249ms\n795:\tlearn: 0.3028712\ttotal: 967ms\tremaining: 248ms\n796:\tlearn: 0.3028439\ttotal: 968ms\tremaining: 247ms\n797:\tlearn: 0.3027578\ttotal: 969ms\tremaining: 245ms\n798:\tlearn: 0.3027118\ttotal: 970ms\tremaining: 244ms\n799:\tlearn: 0.3024828\ttotal: 971ms\tremaining: 243ms\n800:\tlearn: 0.3023247\ttotal: 972ms\tremaining: 242ms\n801:\tlearn: 0.3023246\ttotal: 973ms\tremaining: 240ms\n802:\tlearn: 0.3022229\ttotal: 974ms\tremaining: 239ms\n803:\tlearn: 0.3019357\ttotal: 975ms\tremaining: 238ms\n804:\tlearn: 0.3018483\ttotal: 976ms\tremaining: 236ms\n805:\tlearn: 0.3018250\ttotal: 977ms\tremaining: 235ms\n806:\tlearn: 0.3016749\ttotal: 978ms\tremaining: 234ms\n807:\tlearn: 0.3015684\ttotal: 979ms\tremaining: 233ms\n808:\tlearn: 0.3012990\ttotal: 980ms\tremaining: 231ms\n809:\tlearn: 0.3012131\ttotal: 981ms\tremaining: 230ms\n810:\tlearn: 0.3010808\ttotal: 983ms\tremaining: 229ms\n811:\tlearn: 0.3010455\ttotal: 984ms\tremaining: 228ms\n812:\tlearn: 0.3008660\ttotal: 987ms\tremaining: 227ms\n813:\tlearn: 0.3008000\ttotal: 988ms\tremaining: 226ms\n814:\tlearn: 0.3007126\ttotal: 989ms\tremaining: 225ms\n815:\tlearn: 0.3006495\ttotal: 990ms\tremaining: 223ms\n816:\tlearn: 0.3005851\ttotal: 992ms\tremaining: 222ms\n817:\tlearn: 0.3004896\ttotal: 993ms\tremaining: 221ms\n818:\tlearn: 0.3004189\ttotal: 994ms\tremaining: 220ms\n819:\tlearn: 0.3003617\ttotal: 995ms\tremaining: 218ms\n820:\tlearn: 0.3002767\ttotal: 996ms\tremaining: 217ms\n821:\tlearn: 0.3001730\ttotal: 997ms\tremaining: 216ms\n822:\tlearn: 0.3001030\ttotal: 998ms\tremaining: 215ms\n823:\tlearn: 0.2999354\ttotal: 999ms\tremaining: 213ms\n824:\tlearn: 0.2998921\ttotal: 1s\tremaining: 212ms\n825:\tlearn: 0.2996160\ttotal: 1s\tremaining: 211ms\n826:\tlearn: 0.2995073\ttotal: 1s\tremaining: 210ms\n827:\tlearn: 0.2994275\ttotal: 1s\tremaining: 208ms\n828:\tlearn: 0.2993864\ttotal: 1s\tremaining: 207ms\n829:\tlearn: 0.2993345\ttotal: 1s\tremaining: 206ms\n830:\tlearn: 0.2992321\ttotal: 1.01s\tremaining: 205ms\n831:\tlearn: 0.2991194\ttotal: 1.01s\tremaining: 203ms\n832:\tlearn: 0.2990380\ttotal: 1.01s\tremaining: 202ms\n833:\tlearn: 0.2989669\ttotal: 1.01s\tremaining: 201ms\n834:\tlearn: 0.2989079\ttotal: 1.01s\tremaining: 200ms\n835:\tlearn: 0.2987874\ttotal: 1.01s\tremaining: 199ms\n836:\tlearn: 0.2987712\ttotal: 1.01s\tremaining: 197ms\n837:\tlearn: 0.2984500\ttotal: 1.01s\tremaining: 196ms\n838:\tlearn: 0.2984125\ttotal: 1.01s\tremaining: 195ms\n839:\tlearn: 0.2982072\ttotal: 1.02s\tremaining: 194ms\n840:\tlearn: 0.2979630\ttotal: 1.02s\tremaining: 192ms\n841:\tlearn: 0.2977761\ttotal: 1.02s\tremaining: 191ms\n842:\tlearn: 0.2977271\ttotal: 1.02s\tremaining: 190ms\n843:\tlearn: 0.2976626\ttotal: 1.02s\tremaining: 189ms\n844:\tlearn: 0.2976419\ttotal: 1.02s\tremaining: 187ms\n845:\tlearn: 0.2974938\ttotal: 1.02s\tremaining: 186ms\n846:\tlearn: 0.2973968\ttotal: 1.02s\tremaining: 185ms\n847:\tlearn: 0.2971968\ttotal: 1.02s\tremaining: 184ms\n848:\tlearn: 0.2971560\ttotal: 1.02s\tremaining: 182ms\n849:\tlearn: 0.2969785\ttotal: 1.03s\tremaining: 181ms\n850:\tlearn: 0.2969044\ttotal: 1.03s\tremaining: 180ms\n851:\tlearn: 0.2966945\ttotal: 1.03s\tremaining: 179ms\n852:\tlearn: 0.2966113\ttotal: 1.03s\tremaining: 178ms\n853:\tlearn: 0.2964684\ttotal: 1.03s\tremaining: 176ms\n854:\tlearn: 0.2964285\ttotal: 1.03s\tremaining: 175ms\n855:\tlearn: 0.2963032\ttotal: 1.03s\tremaining: 174ms\n856:\tlearn: 0.2962041\ttotal: 1.03s\tremaining: 173ms\n857:\tlearn: 0.2961359\ttotal: 1.03s\tremaining: 171ms\n858:\tlearn: 0.2959876\ttotal: 1.04s\tremaining: 170ms\n859:\tlearn: 0.2959674\ttotal: 1.04s\tremaining: 169ms\n860:\tlearn: 0.2959205\ttotal: 1.04s\tremaining: 168ms\n861:\tlearn: 0.2957437\ttotal: 1.04s\tremaining: 166ms\n862:\tlearn: 0.2956822\ttotal: 1.04s\tremaining: 165ms\n863:\tlearn: 0.2956071\ttotal: 1.04s\tremaining: 164ms\n864:\tlearn: 0.2954333\ttotal: 1.04s\tremaining: 163ms\n865:\tlearn: 0.2954055\ttotal: 1.04s\tremaining: 162ms\n866:\tlearn: 0.2953396\ttotal: 1.05s\tremaining: 161ms\n867:\tlearn: 0.2952362\ttotal: 1.05s\tremaining: 160ms\n868:\tlearn: 0.2951730\ttotal: 1.05s\tremaining: 159ms\n869:\tlearn: 0.2951038\ttotal: 1.05s\tremaining: 158ms\n870:\tlearn: 0.2949075\ttotal: 1.05s\tremaining: 156ms\n871:\tlearn: 0.2947206\ttotal: 1.06s\tremaining: 155ms\n872:\tlearn: 0.2946893\ttotal: 1.06s\tremaining: 154ms\n873:\tlearn: 0.2946381\ttotal: 1.06s\tremaining: 153ms\n874:\tlearn: 0.2945002\ttotal: 1.06s\tremaining: 151ms\n875:\tlearn: 0.2943622\ttotal: 1.06s\tremaining: 150ms\n876:\tlearn: 0.2942578\ttotal: 1.06s\tremaining: 149ms\n877:\tlearn: 0.2941625\ttotal: 1.06s\tremaining: 148ms\n878:\tlearn: 0.2940068\ttotal: 1.06s\tremaining: 147ms\n879:\tlearn: 0.2938644\ttotal: 1.06s\tremaining: 145ms\n880:\tlearn: 0.2938009\ttotal: 1.07s\tremaining: 144ms\n881:\tlearn: 0.2937711\ttotal: 1.07s\tremaining: 143ms\n882:\tlearn: 0.2935939\ttotal: 1.07s\tremaining: 142ms\n883:\tlearn: 0.2934890\ttotal: 1.07s\tremaining: 140ms\n884:\tlearn: 0.2932872\ttotal: 1.07s\tremaining: 139ms\n885:\tlearn: 0.2932233\ttotal: 1.07s\tremaining: 138ms\n886:\tlearn: 0.2930837\ttotal: 1.07s\tremaining: 137ms\n887:\tlearn: 0.2929963\ttotal: 1.07s\tremaining: 135ms\n888:\tlearn: 0.2929098\ttotal: 1.07s\tremaining: 134ms\n889:\tlearn: 0.2928744\ttotal: 1.08s\tremaining: 133ms\n890:\tlearn: 0.2926145\ttotal: 1.08s\tremaining: 132ms\n891:\tlearn: 0.2924121\ttotal: 1.08s\tremaining: 131ms\n892:\tlearn: 0.2922561\ttotal: 1.08s\tremaining: 129ms\n893:\tlearn: 0.2922175\ttotal: 1.08s\tremaining: 128ms\n894:\tlearn: 0.2921724\ttotal: 1.08s\tremaining: 127ms\n895:\tlearn: 0.2921004\ttotal: 1.08s\tremaining: 126ms\n896:\tlearn: 0.2919803\ttotal: 1.08s\tremaining: 124ms\n897:\tlearn: 0.2918078\ttotal: 1.08s\tremaining: 123ms\n898:\tlearn: 0.2917302\ttotal: 1.08s\tremaining: 122ms\n899:\tlearn: 0.2916602\ttotal: 1.09s\tremaining: 121ms\n900:\tlearn: 0.2914669\ttotal: 1.09s\tremaining: 120ms\n901:\tlearn: 0.2914147\ttotal: 1.09s\tremaining: 118ms\n902:\tlearn: 0.2913647\ttotal: 1.09s\tremaining: 117ms\n903:\tlearn: 0.2911322\ttotal: 1.09s\tremaining: 116ms\n904:\tlearn: 0.2910590\ttotal: 1.09s\tremaining: 115ms\n905:\tlearn: 0.2909927\ttotal: 1.09s\tremaining: 113ms\n906:\tlearn: 0.2908410\ttotal: 1.09s\tremaining: 112ms\n907:\tlearn: 0.2906278\ttotal: 1.09s\tremaining: 111ms\n908:\tlearn: 0.2905770\ttotal: 1.1s\tremaining: 110ms\n909:\tlearn: 0.2905561\ttotal: 1.1s\tremaining: 109ms\n910:\tlearn: 0.2903348\ttotal: 1.1s\tremaining: 107ms\n911:\tlearn: 0.2901076\ttotal: 1.1s\tremaining: 106ms\n912:\tlearn: 0.2899819\ttotal: 1.1s\tremaining: 105ms\n913:\tlearn: 0.2899318\ttotal: 1.1s\tremaining: 104ms\n914:\tlearn: 0.2898324\ttotal: 1.1s\tremaining: 102ms\n915:\tlearn: 0.2897350\ttotal: 1.1s\tremaining: 101ms\n916:\tlearn: 0.2896285\ttotal: 1.1s\tremaining: 100ms\n917:\tlearn: 0.2895489\ttotal: 1.1s\tremaining: 98.8ms\n918:\tlearn: 0.2893602\ttotal: 1.11s\tremaining: 97.6ms\n919:\tlearn: 0.2891153\ttotal: 1.11s\tremaining: 96.4ms\n920:\tlearn: 0.2890025\ttotal: 1.11s\tremaining: 95.2ms\n921:\tlearn: 0.2889241\ttotal: 1.11s\tremaining: 93.9ms\n922:\tlearn: 0.2887654\ttotal: 1.11s\tremaining: 92.7ms\n923:\tlearn: 0.2887063\ttotal: 1.11s\tremaining: 91.5ms\n924:\tlearn: 0.2885568\ttotal: 1.11s\tremaining: 90.3ms\n925:\tlearn: 0.2885172\ttotal: 1.11s\tremaining: 89.1ms\n926:\tlearn: 0.2883099\ttotal: 1.11s\tremaining: 87.9ms\n927:\tlearn: 0.2882006\ttotal: 1.12s\tremaining: 86.6ms\n928:\tlearn: 0.2879570\ttotal: 1.12s\tremaining: 85.4ms\n929:\tlearn: 0.2878750\ttotal: 1.12s\tremaining: 84.2ms\n930:\tlearn: 0.2878147\ttotal: 1.12s\tremaining: 83ms\n931:\tlearn: 0.2877323\ttotal: 1.12s\tremaining: 81.8ms\n932:\tlearn: 0.2876868\ttotal: 1.12s\tremaining: 80.6ms\n933:\tlearn: 0.2875699\ttotal: 1.12s\tremaining: 79.4ms\n934:\tlearn: 0.2874333\ttotal: 1.13s\tremaining: 78.3ms\n935:\tlearn: 0.2873023\ttotal: 1.13s\tremaining: 77ms\n936:\tlearn: 0.2870006\ttotal: 1.13s\tremaining: 75.8ms\n937:\tlearn: 0.2869512\ttotal: 1.13s\tremaining: 74.6ms\n938:\tlearn: 0.2869181\ttotal: 1.13s\tremaining: 73.4ms\n939:\tlearn: 0.2867214\ttotal: 1.13s\tremaining: 72.2ms\n940:\tlearn: 0.2866800\ttotal: 1.13s\tremaining: 71ms\n941:\tlearn: 0.2865620\ttotal: 1.13s\tremaining: 69.8ms\n942:\tlearn: 0.2865551\ttotal: 1.13s\tremaining: 68.5ms\n943:\tlearn: 0.2864233\ttotal: 1.13s\tremaining: 67.3ms\n944:\tlearn: 0.2862493\ttotal: 1.14s\tremaining: 66.6ms\n945:\tlearn: 0.2859726\ttotal: 1.15s\tremaining: 65.4ms\n946:\tlearn: 0.2857726\ttotal: 1.15s\tremaining: 64.2ms\n947:\tlearn: 0.2855728\ttotal: 1.15s\tremaining: 63ms\n948:\tlearn: 0.2854243\ttotal: 1.15s\tremaining: 61.8ms\n949:\tlearn: 0.2852246\ttotal: 1.15s\tremaining: 60.5ms\n950:\tlearn: 0.2851655\ttotal: 1.15s\tremaining: 59.3ms\n951:\tlearn: 0.2850986\ttotal: 1.15s\tremaining: 58.1ms\n952:\tlearn: 0.2849935\ttotal: 1.15s\tremaining: 56.9ms\n953:\tlearn: 0.2848430\ttotal: 1.15s\tremaining: 55.7ms\n954:\tlearn: 0.2848034\ttotal: 1.16s\tremaining: 54.5ms\n955:\tlearn: 0.2845291\ttotal: 1.16s\tremaining: 53.2ms\n956:\tlearn: 0.2844330\ttotal: 1.16s\tremaining: 52ms\n957:\tlearn: 0.2843929\ttotal: 1.16s\tremaining: 50.8ms\n958:\tlearn: 0.2842229\ttotal: 1.16s\tremaining: 49.6ms\n959:\tlearn: 0.2840163\ttotal: 1.16s\tremaining: 48.4ms\n960:\tlearn: 0.2838973\ttotal: 1.16s\tremaining: 47.2ms\n961:\tlearn: 0.2838017\ttotal: 1.16s\tremaining: 46ms\n962:\tlearn: 0.2835957\ttotal: 1.17s\tremaining: 44.8ms\n963:\tlearn: 0.2835198\ttotal: 1.17s\tremaining: 43.7ms\n964:\tlearn: 0.2833823\ttotal: 1.17s\tremaining: 42.5ms\n965:\tlearn: 0.2832861\ttotal: 1.17s\tremaining: 41.3ms\n966:\tlearn: 0.2830792\ttotal: 1.17s\tremaining: 40ms\n967:\tlearn: 0.2829345\ttotal: 1.17s\tremaining: 38.8ms\n968:\tlearn: 0.2828984\ttotal: 1.18s\tremaining: 37.6ms\n969:\tlearn: 0.2828414\ttotal: 1.18s\tremaining: 36.4ms\n970:\tlearn: 0.2827822\ttotal: 1.18s\tremaining: 35.2ms\n971:\tlearn: 0.2826918\ttotal: 1.18s\tremaining: 34ms\n972:\tlearn: 0.2826093\ttotal: 1.18s\tremaining: 32.7ms\n973:\tlearn: 0.2825357\ttotal: 1.18s\tremaining: 31.5ms\n974:\tlearn: 0.2824255\ttotal: 1.18s\tremaining: 30.3ms\n975:\tlearn: 0.2821364\ttotal: 1.18s\tremaining: 29.1ms\n976:\tlearn: 0.2820564\ttotal: 1.18s\tremaining: 27.9ms\n977:\tlearn: 0.2819930\ttotal: 1.19s\tremaining: 26.7ms\n978:\tlearn: 0.2819538\ttotal: 1.19s\tremaining: 25.4ms\n979:\tlearn: 0.2819288\ttotal: 1.19s\tremaining: 24.2ms\n980:\tlearn: 0.2818937\ttotal: 1.19s\tremaining: 23ms\n981:\tlearn: 0.2817983\ttotal: 1.19s\tremaining: 21.8ms\n982:\tlearn: 0.2817258\ttotal: 1.19s\tremaining: 20.6ms\n983:\tlearn: 0.2815980\ttotal: 1.19s\tremaining: 19.4ms\n984:\tlearn: 0.2815651\ttotal: 1.19s\tremaining: 18.2ms\n985:\tlearn: 0.2813266\ttotal: 1.19s\tremaining: 17ms\n986:\tlearn: 0.2812807\ttotal: 1.19s\tremaining: 15.7ms\n987:\tlearn: 0.2812394\ttotal: 1.2s\tremaining: 14.5ms\n988:\tlearn: 0.2811733\ttotal: 1.2s\tremaining: 13.3ms\n989:\tlearn: 0.2810989\ttotal: 1.2s\tremaining: 12.1ms\n990:\tlearn: 0.2810275\ttotal: 1.2s\tremaining: 10.9ms\n991:\tlearn: 0.2807650\ttotal: 1.2s\tremaining: 9.68ms\n992:\tlearn: 0.2805510\ttotal: 1.2s\tremaining: 8.47ms\n993:\tlearn: 0.2803103\ttotal: 1.2s\tremaining: 7.26ms\n994:\tlearn: 0.2802909\ttotal: 1.2s\tremaining: 6.05ms\n995:\tlearn: 0.2802316\ttotal: 1.2s\tremaining: 4.84ms\n996:\tlearn: 0.2802105\ttotal: 1.21s\tremaining: 3.63ms\n997:\tlearn: 0.2800352\ttotal: 1.21s\tremaining: 2.42ms\n998:\tlearn: 0.2798491\ttotal: 1.21s\tremaining: 1.21ms\n999:\tlearn: 0.2796695\ttotal: 1.21s\tremaining: 0us\n",
     "output_type": "stream"
    },
    {
     "output_type": "execute_result",
     "execution_count": 25,
     "data": {
      "text/plain": "<pandas.io.formats.style.Styler at 0x7f9b2c1f2bd0>",
      "text/html": "<style  type=\"text/css\" >\n#T_be812_row0_col1{\n            width:  10em;\n             height:  80%;\n            background:  linear-gradient(90deg,#5fba7d 87.2%, transparent 87.2%);\n        }#T_be812_row0_col2{\n            width:  10em;\n             height:  80%;\n            background:  linear-gradient(90deg,#5fba7d 85.8%, transparent 85.8%);\n        }#T_be812_row1_col1,#T_be812_row2_col1{\n            width:  10em;\n             height:  80%;\n            background:  linear-gradient(90deg,#5fba7d 85.5%, transparent 85.5%);\n        }#T_be812_row1_col2,#T_be812_row2_col2{\n            width:  10em;\n             height:  80%;\n            background:  linear-gradient(90deg,#5fba7d 83.9%, transparent 83.9%);\n        }#T_be812_row3_col1,#T_be812_row4_col1{\n            width:  10em;\n             height:  80%;\n            background:  linear-gradient(90deg,#5fba7d 83.2%, transparent 83.2%);\n        }#T_be812_row3_col2{\n            width:  10em;\n             height:  80%;\n            background:  linear-gradient(90deg,#5fba7d 82.9%, transparent 82.9%);\n        }#T_be812_row4_col2{\n            width:  10em;\n             height:  80%;\n            background:  linear-gradient(90deg,#5fba7d 82.3%, transparent 82.3%);\n        }#T_be812_row5_col1{\n            width:  10em;\n             height:  80%;\n            background:  linear-gradient(90deg,#5fba7d 82.7%, transparent 82.7%);\n        }#T_be812_row5_col2{\n            width:  10em;\n             height:  80%;\n            background:  linear-gradient(90deg,#5fba7d 81.9%, transparent 81.9%);\n        }#T_be812_row6_col1{\n            width:  10em;\n             height:  80%;\n            background:  linear-gradient(90deg,#5fba7d 81.6%, transparent 81.6%);\n        }#T_be812_row6_col2{\n            width:  10em;\n             height:  80%;\n            background:  linear-gradient(90deg,#5fba7d 79.9%, transparent 79.9%);\n        }#T_be812_row7_col1{\n            width:  10em;\n             height:  80%;\n            background:  linear-gradient(90deg,#5fba7d 80.4%, transparent 80.4%);\n        }#T_be812_row7_col2{\n            width:  10em;\n             height:  80%;\n            background:  linear-gradient(90deg,#5fba7d 78.4%, transparent 78.4%);\n        }#T_be812_row8_col1{\n            width:  10em;\n             height:  80%;\n            background:  linear-gradient(90deg,#5fba7d 78.8%, transparent 78.8%);\n        }#T_be812_row8_col2{\n            width:  10em;\n             height:  80%;\n            background:  linear-gradient(90deg,#5fba7d 77.3%, transparent 77.3%);\n        }</style><table id=\"T_be812_\" ><thead>    <tr>        <th class=\"blank level0\" ></th>        <th class=\"col_heading level0 col0\" >Model</th>        <th class=\"col_heading level0 col1\" >Accuracy</th>        <th class=\"col_heading level0 col2\" >Bal Acc.</th>        <th class=\"col_heading level0 col3\" >Time</th>    </tr></thead><tbody>\n                <tr>\n                        <th id=\"T_be812_level0_row0\" class=\"row_heading level0 row0\" >1</th>\n                        <td id=\"T_be812_row0_col0\" class=\"data row0 col0\" >CatBoost</td>\n                        <td id=\"T_be812_row0_col1\" class=\"data row0 col1\" >87.150838</td>\n                        <td id=\"T_be812_row0_col2\" class=\"data row0 col2\" >85.764163</td>\n                        <td id=\"T_be812_row0_col3\" class=\"data row0 col3\" >1.398042</td>\n            </tr>\n            <tr>\n                        <th id=\"T_be812_level0_row1\" class=\"row_heading level0 row1\" >2</th>\n                        <td id=\"T_be812_row1_col0\" class=\"data row1 col0\" >Skl GBM</td>\n                        <td id=\"T_be812_row1_col1\" class=\"data row1 col1\" >85.474860</td>\n                        <td id=\"T_be812_row1_col2\" class=\"data row1 col2\" >83.860343</td>\n                        <td id=\"T_be812_row1_col3\" class=\"data row1 col3\" >0.120197</td>\n            </tr>\n            <tr>\n                        <th id=\"T_be812_level0_row2\" class=\"row_heading level0 row2\" >3</th>\n                        <td id=\"T_be812_row2_col0\" class=\"data row2 col0\" >Skl HistGBM</td>\n                        <td id=\"T_be812_row2_col1\" class=\"data row2 col1\" >85.474860</td>\n                        <td id=\"T_be812_row2_col2\" class=\"data row2 col2\" >83.860343</td>\n                        <td id=\"T_be812_row2_col3\" class=\"data row2 col3\" >0.131340</td>\n            </tr>\n            <tr>\n                        <th id=\"T_be812_level0_row3\" class=\"row_heading level0 row3\" >4</th>\n                        <td id=\"T_be812_row3_col0\" class=\"data row3 col0\" >AdaBoost</td>\n                        <td id=\"T_be812_row3_col1\" class=\"data row3 col1\" >83.240223</td>\n                        <td id=\"T_be812_row3_col2\" class=\"data row3 col2\" >82.852437</td>\n                        <td id=\"T_be812_row3_col3\" class=\"data row3 col3\" >0.111628</td>\n            </tr>\n            <tr>\n                        <th id=\"T_be812_level0_row4\" class=\"row_heading level0 row4\" >5</th>\n                        <td id=\"T_be812_row4_col0\" class=\"data row4 col0\" >LightGBM</td>\n                        <td id=\"T_be812_row4_col1\" class=\"data row4 col1\" >83.240223</td>\n                        <td id=\"T_be812_row4_col2\" class=\"data row4 col2\" >82.312253</td>\n                        <td id=\"T_be812_row4_col3\" class=\"data row4 col3\" >0.121211</td>\n            </tr>\n            <tr>\n                        <th id=\"T_be812_level0_row5\" class=\"row_heading level0 row5\" >6</th>\n                        <td id=\"T_be812_row5_col0\" class=\"data row5 col0\" >XGBoost</td>\n                        <td id=\"T_be812_row5_col1\" class=\"data row5 col1\" >82.681564</td>\n                        <td id=\"T_be812_row5_col2\" class=\"data row5 col2\" >81.857708</td>\n                        <td id=\"T_be812_row5_col3\" class=\"data row5 col3\" >0.149091</td>\n            </tr>\n            <tr>\n                        <th id=\"T_be812_level0_row6\" class=\"row_heading level0 row6\" >7</th>\n                        <td id=\"T_be812_row6_col0\" class=\"data row6 col0\" >Random Forest</td>\n                        <td id=\"T_be812_row6_col1\" class=\"data row6 col1\" >81.564246</td>\n                        <td id=\"T_be812_row6_col2\" class=\"data row6 col2\" >79.868248</td>\n                        <td id=\"T_be812_row6_col3\" class=\"data row6 col3\" >0.196945</td>\n            </tr>\n            <tr>\n                        <th id=\"T_be812_level0_row7\" class=\"row_heading level0 row7\" >8</th>\n                        <td id=\"T_be812_row7_col0\" class=\"data row7 col0\" >Extra Trees</td>\n                        <td id=\"T_be812_row7_col1\" class=\"data row7 col1\" >80.446927</td>\n                        <td id=\"T_be812_row7_col2\" class=\"data row7 col2\" >78.418972</td>\n                        <td id=\"T_be812_row7_col3\" class=\"data row7 col3\" >0.154289</td>\n            </tr>\n            <tr>\n                        <th id=\"T_be812_level0_row8\" class=\"row_heading level0 row8\" >9</th>\n                        <td id=\"T_be812_row8_col0\" class=\"data row8 col0\" >Decision Tree</td>\n                        <td id=\"T_be812_row8_col1\" class=\"data row8 col1\" >78.770950</td>\n                        <td id=\"T_be812_row8_col2\" class=\"data row8 col2\" >77.325428</td>\n                        <td id=\"T_be812_row8_col3\" class=\"data row8 col3\" >0.025628</td>\n            </tr>\n    </tbody></table>"
     },
     "metadata": {}
    }
   ]
  },
  {
   "cell_type": "markdown",
   "source": "# Exercise 6 (3pts):\nDefine a 10 Fold cross validation strategy with:\n- With stratification\n- shuffle=True\n- random_state=0\n\nAnd train all the models in a for loop.\n\nTip you can use **[cross_val_predict](https://scikit-learn.org/stable/modules/generated/sklearn.model_selection.cross_val_predict.html)** for both training and predict with ",
   "metadata": {
    "id": "X-a6u4rxGTJO",
    "cell_id": "00040-48adcc47-b4b1-4627-9eec-bf48c3071d3f",
    "deepnote_cell_type": "markdown"
   }
  },
  {
   "cell_type": "code",
   "metadata": {
    "deletable": false,
    "nbgrader": {
     "cell_type": "code",
     "checksum": "b9238f7916249fc81179a78b5492e5d4",
     "grade": false,
     "grade_id": "cell-37bf16dc25b43732",
     "locked": false,
     "schema_version": 3,
     "solution": true,
     "task": false
    },
    "id": "7Dj52erlGTJO",
    "colab": {
     "base_uri": "https://localhost:8080/",
     "height": 1000
    },
    "outputId": "87fbed29-44ad-4dca-a18e-1a3e1088df91",
    "cell_id": "00041-7d89dff3-9cc7-4ea4-8418-21475c3bb2af",
    "deepnote_to_be_reexecuted": false,
    "source_hash": "39682e6c",
    "execution_start": 1620745318708,
    "execution_millis": 27874,
    "deepnote_cell_type": "code"
   },
   "source": "\nfrom sklearn.model_selection import cross_val_predict\n\nskf = model_selection.StratifiedKFold(n_splits=10, random_state=0, shuffle=True)\n\n\n\n\nresults = pd.DataFrame({'Model': [], 'Accuracy': [], 'Bal Acc.': [], 'Time': []})\n\n\n\n\n\nfor model_name, model in tree_classifiers.items():\n    start_time = time.time()\n\n\n        \n    # TRAIN AND GET PREDICTIONS USING cross_val_predict() and x,y\n    pred = cross_val_predict(model, x,y, cv=skf)\n\n    total_time = time.time() - start_time\n\n    results = results.append({\"Model\":    model_name,\n                              \"Accuracy\": metrics.accuracy_score(y, pred)*100,\n                              \"Bal Acc.\": metrics.balanced_accuracy_score(y, pred)*100,\n                              \"Time\":     total_time},\n                              ignore_index=True)\n                              \n                              \n\n\n# YOUR CODE HERE\n\n\n\nresults_ord = results.sort_values(by=['Accuracy'], ascending=False, ignore_index=True)\nresults_ord.index += 1 \nresults_ord.style.bar(subset=['Accuracy', 'Bal Acc.'], vmin=0, vmax=100, color='#5fba7d')\n",
   "execution_count": null,
   "outputs": [
    {
     "name": "stderr",
     "text": "1:\tlearn: 0.6801017\ttotal: 9.26ms\tremaining: 4.62s\n2:\tlearn: 0.6748498\ttotal: 12ms\tremaining: 4s\n3:\tlearn: 0.6714246\ttotal: 14ms\tremaining: 3.49s\n4:\tlearn: 0.6657903\ttotal: 15.8ms\tremaining: 3.14s\n5:\tlearn: 0.6600028\ttotal: 18.3ms\tremaining: 3.03s\n6:\tlearn: 0.6549985\ttotal: 20ms\tremaining: 2.84s\n7:\tlearn: 0.6502942\ttotal: 23.3ms\tremaining: 2.89s\n8:\tlearn: 0.6449366\ttotal: 26.5ms\tremaining: 2.92s\n9:\tlearn: 0.6408220\ttotal: 28.1ms\tremaining: 2.78s\n10:\tlearn: 0.6348829\ttotal: 30.5ms\tremaining: 2.74s\n11:\tlearn: 0.6304520\ttotal: 32.3ms\tremaining: 2.66s\n12:\tlearn: 0.6254857\ttotal: 34ms\tremaining: 2.58s\n13:\tlearn: 0.6208682\ttotal: 36.8ms\tremaining: 2.59s\n14:\tlearn: 0.6165273\ttotal: 39.5ms\tremaining: 2.59s\n15:\tlearn: 0.6110367\ttotal: 42.7ms\tremaining: 2.63s\n16:\tlearn: 0.6063400\ttotal: 44.8ms\tremaining: 2.59s\n17:\tlearn: 0.6019598\ttotal: 47.7ms\tremaining: 2.6s\n18:\tlearn: 0.5971015\ttotal: 50.4ms\tremaining: 2.6s\n19:\tlearn: 0.5935575\ttotal: 53ms\tremaining: 2.6s\n20:\tlearn: 0.5894821\ttotal: 55.1ms\tremaining: 2.57s\n21:\tlearn: 0.5847075\ttotal: 58.7ms\tremaining: 2.61s\n22:\tlearn: 0.5800558\ttotal: 61.3ms\tremaining: 2.6s\n23:\tlearn: 0.5759686\ttotal: 64.1ms\tremaining: 2.61s\n24:\tlearn: 0.5716791\ttotal: 67.4ms\tremaining: 2.63s\n25:\tlearn: 0.5677729\ttotal: 69.6ms\tremaining: 2.6s\n26:\tlearn: 0.5645066\ttotal: 72.4ms\tremaining: 2.61s\n27:\tlearn: 0.5619703\ttotal: 76.1ms\tremaining: 2.64s\n28:\tlearn: 0.5591509\ttotal: 78ms\tremaining: 2.61s\n29:\tlearn: 0.5561434\ttotal: 80.3ms\tremaining: 2.6s\n30:\tlearn: 0.5529258\ttotal: 83ms\tremaining: 2.6s\n31:\tlearn: 0.5500521\ttotal: 85.8ms\tremaining: 2.59s\n32:\tlearn: 0.5462233\ttotal: 88.6ms\tremaining: 2.59s\n33:\tlearn: 0.5423708\ttotal: 91.3ms\tremaining: 2.59s\n34:\tlearn: 0.5386685\ttotal: 94ms\tremaining: 2.59s\n35:\tlearn: 0.5360441\ttotal: 96.7ms\tremaining: 2.59s\n36:\tlearn: 0.5328828\ttotal: 99.7ms\tremaining: 2.59s\n37:\tlearn: 0.5302539\ttotal: 102ms\tremaining: 2.57s\n38:\tlearn: 0.5271386\ttotal: 104ms\tremaining: 2.56s\n39:\tlearn: 0.5243840\ttotal: 107ms\tremaining: 2.56s\n40:\tlearn: 0.5218495\ttotal: 109ms\tremaining: 2.55s\n41:\tlearn: 0.5191381\ttotal: 112ms\tremaining: 2.54s\n42:\tlearn: 0.5173885\ttotal: 114ms\tremaining: 2.53s\n43:\tlearn: 0.5151094\ttotal: 116ms\tremaining: 2.52s\n44:\tlearn: 0.5130149\ttotal: 119ms\tremaining: 2.52s\n45:\tlearn: 0.5109432\ttotal: 122ms\tremaining: 2.53s\n46:\tlearn: 0.5082536\ttotal: 124ms\tremaining: 2.52s\n47:\tlearn: 0.5063705\ttotal: 127ms\tremaining: 2.52s\n48:\tlearn: 0.5037423\ttotal: 130ms\tremaining: 2.52s\n49:\tlearn: 0.5013238\ttotal: 132ms\tremaining: 2.52s\n50:\tlearn: 0.4985084\ttotal: 135ms\tremaining: 2.52s\n51:\tlearn: 0.4972224\ttotal: 138ms\tremaining: 2.51s\n52:\tlearn: 0.4949158\ttotal: 140ms\tremaining: 2.49s\n53:\tlearn: 0.4921686\ttotal: 142ms\tremaining: 2.49s\n54:\tlearn: 0.4899181\ttotal: 145ms\tremaining: 2.49s\n55:\tlearn: 0.4871657\ttotal: 148ms\tremaining: 2.49s\n56:\tlearn: 0.4851065\ttotal: 151ms\tremaining: 2.49s\n57:\tlearn: 0.4829619\ttotal: 153ms\tremaining: 2.49s\n58:\tlearn: 0.4808008\ttotal: 156ms\tremaining: 2.48s\n59:\tlearn: 0.4791639\ttotal: 158ms\tremaining: 2.48s\n60:\tlearn: 0.4772552\ttotal: 161ms\tremaining: 2.48s\n61:\tlearn: 0.4748850\ttotal: 163ms\tremaining: 2.47s\n62:\tlearn: 0.4738743\ttotal: 165ms\tremaining: 2.45s\n63:\tlearn: 0.4716508\ttotal: 167ms\tremaining: 2.44s\n64:\tlearn: 0.4700387\ttotal: 169ms\tremaining: 2.43s\n65:\tlearn: 0.4685435\ttotal: 171ms\tremaining: 2.41s\n66:\tlearn: 0.4668258\ttotal: 173ms\tremaining: 2.41s\n67:\tlearn: 0.4649655\ttotal: 176ms\tremaining: 2.4s\n68:\tlearn: 0.4632558\ttotal: 178ms\tremaining: 2.4s\n69:\tlearn: 0.4615345\ttotal: 180ms\tremaining: 2.4s\n70:\tlearn: 0.4605437\ttotal: 183ms\tremaining: 2.39s\n71:\tlearn: 0.4590412\ttotal: 189ms\tremaining: 2.43s\n72:\tlearn: 0.4575359\ttotal: 191ms\tremaining: 2.43s\n73:\tlearn: 0.4559922\ttotal: 194ms\tremaining: 2.43s\n74:\tlearn: 0.4550750\ttotal: 196ms\tremaining: 2.42s\n75:\tlearn: 0.4538701\ttotal: 199ms\tremaining: 2.41s\n76:\tlearn: 0.4524371\ttotal: 202ms\tremaining: 2.42s\n77:\tlearn: 0.4517971\ttotal: 203ms\tremaining: 2.4s\n78:\tlearn: 0.4505417\ttotal: 205ms\tremaining: 2.39s\n79:\tlearn: 0.4488301\ttotal: 207ms\tremaining: 2.38s\n80:\tlearn: 0.4473714\ttotal: 210ms\tremaining: 2.38s\n81:\tlearn: 0.4458202\ttotal: 212ms\tremaining: 2.37s\n82:\tlearn: 0.4447355\ttotal: 214ms\tremaining: 2.37s\n83:\tlearn: 0.4438234\ttotal: 217ms\tremaining: 2.37s\n84:\tlearn: 0.4426568\ttotal: 219ms\tremaining: 2.36s\n85:\tlearn: 0.4417763\ttotal: 221ms\tremaining: 2.35s\n86:\tlearn: 0.4404368\ttotal: 224ms\tremaining: 2.35s\n87:\tlearn: 0.4395174\ttotal: 226ms\tremaining: 2.35s\n88:\tlearn: 0.4385644\ttotal: 230ms\tremaining: 2.35s\n89:\tlearn: 0.4374600\ttotal: 231ms\tremaining: 2.34s\n90:\tlearn: 0.4367984\ttotal: 234ms\tremaining: 2.34s\n91:\tlearn: 0.4355459\ttotal: 236ms\tremaining: 2.33s\n92:\tlearn: 0.4350830\ttotal: 238ms\tremaining: 2.33s\n93:\tlearn: 0.4337557\ttotal: 240ms\tremaining: 2.31s\n94:\tlearn: 0.4327325\ttotal: 243ms\tremaining: 2.31s\n95:\tlearn: 0.4316913\ttotal: 246ms\tremaining: 2.31s\n96:\tlearn: 0.4305707\ttotal: 248ms\tremaining: 2.31s\n97:\tlearn: 0.4296441\ttotal: 255ms\tremaining: 2.35s\n98:\tlearn: 0.4287934\ttotal: 264ms\tremaining: 2.4s\n99:\tlearn: 0.4278616\ttotal: 269ms\tremaining: 2.42s\n100:\tlearn: 0.4268993\ttotal: 272ms\tremaining: 2.42s\n101:\tlearn: 0.4258300\ttotal: 275ms\tremaining: 2.42s\n102:\tlearn: 0.4248938\ttotal: 277ms\tremaining: 2.41s\n103:\tlearn: 0.4241329\ttotal: 279ms\tremaining: 2.4s\n104:\tlearn: 0.4230733\ttotal: 282ms\tremaining: 2.4s\n105:\tlearn: 0.4221143\ttotal: 284ms\tremaining: 2.4s\n106:\tlearn: 0.4214573\ttotal: 287ms\tremaining: 2.39s\n107:\tlearn: 0.4203912\ttotal: 289ms\tremaining: 2.39s\n108:\tlearn: 0.4192535\ttotal: 292ms\tremaining: 2.39s\n109:\tlearn: 0.4185381\ttotal: 295ms\tremaining: 2.38s\n110:\tlearn: 0.4181013\ttotal: 298ms\tremaining: 2.38s\n111:\tlearn: 0.4177268\ttotal: 300ms\tremaining: 2.38s\n112:\tlearn: 0.4167969\ttotal: 302ms\tremaining: 2.37s\n113:\tlearn: 0.4156502\ttotal: 306ms\tremaining: 2.38s\n114:\tlearn: 0.4147296\ttotal: 309ms\tremaining: 2.38s\n115:\tlearn: 0.4139378\ttotal: 312ms\tremaining: 2.38s\n116:\tlearn: 0.4130495\ttotal: 316ms\tremaining: 2.38s\n117:\tlearn: 0.4121241\ttotal: 319ms\tremaining: 2.38s\n118:\tlearn: 0.4111361\ttotal: 322ms\tremaining: 2.38s\n119:\tlearn: 0.4104871\ttotal: 325ms\tremaining: 2.38s\n120:\tlearn: 0.4096446\ttotal: 328ms\tremaining: 2.38s\n121:\tlearn: 0.4087809\ttotal: 331ms\tremaining: 2.38s\n122:\tlearn: 0.4085584\ttotal: 334ms\tremaining: 2.38s\n123:\tlearn: 0.4079638\ttotal: 336ms\tremaining: 2.37s\n124:\tlearn: 0.4077021\ttotal: 339ms\tremaining: 2.38s\n125:\tlearn: 0.4069353\ttotal: 342ms\tremaining: 2.37s\n126:\tlearn: 0.4067054\ttotal: 345ms\tremaining: 2.37s\n127:\tlearn: 0.4059824\ttotal: 348ms\tremaining: 2.37s\n128:\tlearn: 0.4056605\ttotal: 351ms\tremaining: 2.37s\n129:\tlearn: 0.4049194\ttotal: 354ms\tremaining: 2.37s\n130:\tlearn: 0.4044803\ttotal: 357ms\tremaining: 2.37s\n131:\tlearn: 0.4037825\ttotal: 361ms\tremaining: 2.37s\n132:\tlearn: 0.4032985\ttotal: 364ms\tremaining: 2.37s\n133:\tlearn: 0.4028348\ttotal: 370ms\tremaining: 2.39s\n134:\tlearn: 0.4022543\ttotal: 371ms\tremaining: 2.38s\n135:\tlearn: 0.4017709\ttotal: 374ms\tremaining: 2.37s\n136:\tlearn: 0.4013718\ttotal: 376ms\tremaining: 2.37s\n137:\tlearn: 0.4009786\ttotal: 378ms\tremaining: 2.36s\n138:\tlearn: 0.4003719\ttotal: 381ms\tremaining: 2.36s\n139:\tlearn: 0.3999584\ttotal: 383ms\tremaining: 2.35s\n140:\tlearn: 0.3994466\ttotal: 386ms\tremaining: 2.35s\n141:\tlearn: 0.3986199\ttotal: 388ms\tremaining: 2.35s\n142:\tlearn: 0.3979933\ttotal: 390ms\tremaining: 2.34s\n143:\tlearn: 0.3972186\ttotal: 393ms\tremaining: 2.33s\n144:\tlearn: 0.3968361\ttotal: 395ms\tremaining: 2.33s\n145:\tlearn: 0.3961867\ttotal: 398ms\tremaining: 2.33s\n146:\tlearn: 0.3955682\ttotal: 400ms\tremaining: 2.32s\n147:\tlearn: 0.3953017\ttotal: 402ms\tremaining: 2.31s\n148:\tlearn: 0.3950144\ttotal: 404ms\tremaining: 2.31s\n149:\tlearn: 0.3946081\ttotal: 407ms\tremaining: 2.31s\n150:\tlearn: 0.3941982\ttotal: 411ms\tremaining: 2.31s\n151:\tlearn: 0.3936151\ttotal: 414ms\tremaining: 2.31s\n152:\tlearn: 0.3930194\ttotal: 416ms\tremaining: 2.31s\n153:\tlearn: 0.3928622\ttotal: 418ms\tremaining: 2.3s\n154:\tlearn: 0.3923009\ttotal: 420ms\tremaining: 2.29s\n155:\tlearn: 0.3918038\ttotal: 422ms\tremaining: 2.29s\n156:\tlearn: 0.3913524\ttotal: 425ms\tremaining: 2.28s\n157:\tlearn: 0.3907300\ttotal: 427ms\tremaining: 2.28s\n158:\tlearn: 0.3902350\ttotal: 429ms\tremaining: 2.27s\n159:\tlearn: 0.3896865\ttotal: 432ms\tremaining: 2.27s\n160:\tlearn: 0.3891373\ttotal: 434ms\tremaining: 2.26s\n161:\tlearn: 0.3889254\ttotal: 437ms\tremaining: 2.26s\n162:\tlearn: 0.3884997\ttotal: 440ms\tremaining: 2.26s\n163:\tlearn: 0.3880690\ttotal: 442ms\tremaining: 2.25s\n164:\tlearn: 0.3877247\ttotal: 445ms\tremaining: 2.25s\n165:\tlearn: 0.3872417\ttotal: 447ms\tremaining: 2.25s\n166:\tlearn: 0.3870382\ttotal: 449ms\tremaining: 2.24s\n167:\tlearn: 0.3865577\ttotal: 451ms\tremaining: 2.23s\n168:\tlearn: 0.3862473\ttotal: 454ms\tremaining: 2.23s\n169:\tlearn: 0.3856441\ttotal: 466ms\tremaining: 2.27s\n170:\tlearn: 0.3852949\ttotal: 470ms\tremaining: 2.28s\n171:\tlearn: 0.3848305\ttotal: 475ms\tremaining: 2.29s\n172:\tlearn: 0.3845354\ttotal: 479ms\tremaining: 2.29s\n173:\tlearn: 0.3841896\ttotal: 484ms\tremaining: 2.3s\n174:\tlearn: 0.3839317\ttotal: 491ms\tremaining: 2.31s\n175:\tlearn: 0.3836360\ttotal: 495ms\tremaining: 2.32s\n176:\tlearn: 0.3832307\ttotal: 498ms\tremaining: 2.32s\n177:\tlearn: 0.3827058\ttotal: 502ms\tremaining: 2.32s\n178:\tlearn: 0.3824194\ttotal: 505ms\tremaining: 2.32s\n179:\tlearn: 0.3820871\ttotal: 509ms\tremaining: 2.32s\n180:\tlearn: 0.3815097\ttotal: 511ms\tremaining: 2.31s\n181:\tlearn: 0.3813815\ttotal: 513ms\tremaining: 2.31s\n182:\tlearn: 0.3809712\ttotal: 515ms\tremaining: 2.3s\n183:\tlearn: 0.3806227\ttotal: 518ms\tremaining: 2.29s\n184:\tlearn: 0.3802780\ttotal: 521ms\tremaining: 2.29s\n185:\tlearn: 0.3799078\ttotal: 523ms\tremaining: 2.29s\n186:\tlearn: 0.3795100\ttotal: 525ms\tremaining: 2.28s\n187:\tlearn: 0.3793769\ttotal: 528ms\tremaining: 2.28s\n188:\tlearn: 0.3790746\ttotal: 530ms\tremaining: 2.27s\n189:\tlearn: 0.3787541\ttotal: 532ms\tremaining: 2.27s\n190:\tlearn: 0.3782377\ttotal: 535ms\tremaining: 2.27s\n191:\tlearn: 0.3781739\ttotal: 536ms\tremaining: 2.26s\n192:\tlearn: 0.3777952\ttotal: 538ms\tremaining: 2.25s\n193:\tlearn: 0.3775550\ttotal: 544ms\tremaining: 2.26s\n194:\tlearn: 0.3770466\ttotal: 546ms\tremaining: 2.25s\n195:\tlearn: 0.3767868\ttotal: 549ms\tremaining: 2.25s\n196:\tlearn: 0.3763465\ttotal: 551ms\tremaining: 2.25s\n197:\tlearn: 0.3761097\ttotal: 553ms\tremaining: 2.24s\n198:\tlearn: 0.3760598\ttotal: 555ms\tremaining: 2.23s\n199:\tlearn: 0.3756936\ttotal: 557ms\tremaining: 2.23s\n200:\tlearn: 0.3754151\ttotal: 559ms\tremaining: 2.22s\n201:\tlearn: 0.3751746\ttotal: 562ms\tremaining: 2.22s\n202:\tlearn: 0.3748805\ttotal: 564ms\tremaining: 2.21s\n203:\tlearn: 0.3746351\ttotal: 566ms\tremaining: 2.21s\n204:\tlearn: 0.3742030\ttotal: 568ms\tremaining: 2.2s\n205:\tlearn: 0.3738307\ttotal: 571ms\tremaining: 2.2s\n206:\tlearn: 0.3736122\ttotal: 574ms\tremaining: 2.2s\n207:\tlearn: 0.3733158\ttotal: 576ms\tremaining: 2.19s\n208:\tlearn: 0.3728652\ttotal: 579ms\tremaining: 2.19s\n209:\tlearn: 0.3726285\ttotal: 582ms\tremaining: 2.19s\n210:\tlearn: 0.3723312\ttotal: 584ms\tremaining: 2.18s\n211:\tlearn: 0.3721562\ttotal: 587ms\tremaining: 2.18s\n212:\tlearn: 0.3718090\ttotal: 589ms\tremaining: 2.18s\n213:\tlearn: 0.3715081\ttotal: 592ms\tremaining: 2.17s\n214:\tlearn: 0.3712168\ttotal: 594ms\tremaining: 2.17s\n215:\tlearn: 0.3709685\ttotal: 597ms\tremaining: 2.17s\n216:\tlearn: 0.3706830\ttotal: 599ms\tremaining: 2.16s\n217:\tlearn: 0.3704068\ttotal: 602ms\tremaining: 2.16s\n218:\tlearn: 0.3701468\ttotal: 605ms\tremaining: 2.16s\n219:\tlearn: 0.3698678\ttotal: 607ms\tremaining: 2.15s\n220:\tlearn: 0.3695725\ttotal: 610ms\tremaining: 2.15s\n221:\tlearn: 0.3693528\ttotal: 612ms\tremaining: 2.15s\n222:\tlearn: 0.3690432\ttotal: 616ms\tremaining: 2.15s\n223:\tlearn: 0.3688256\ttotal: 623ms\tremaining: 2.16s\n224:\tlearn: 0.3685831\ttotal: 625ms\tremaining: 2.15s\n225:\tlearn: 0.3682992\ttotal: 628ms\tremaining: 2.15s\n226:\tlearn: 0.3680416\ttotal: 632ms\tremaining: 2.15s\n227:\tlearn: 0.3677469\ttotal: 636ms\tremaining: 2.15s\n228:\tlearn: 0.3675096\ttotal: 640ms\tremaining: 2.15s\n229:\tlearn: 0.3672693\ttotal: 644ms\tremaining: 2.16s\n230:\tlearn: 0.3671363\ttotal: 646ms\tremaining: 2.15s\n231:\tlearn: 0.3670015\ttotal: 651ms\tremaining: 2.15s\n232:\tlearn: 0.3667850\ttotal: 653ms\tremaining: 2.15s\n233:\tlearn: 0.3667097\ttotal: 655ms\tremaining: 2.15s\n234:\tlearn: 0.3664231\ttotal: 658ms\tremaining: 2.14s\n235:\tlearn: 0.3662851\ttotal: 661ms\tremaining: 2.14s\n236:\tlearn: 0.3661411\ttotal: 666ms\tremaining: 2.14s\n237:\tlearn: 0.3659212\ttotal: 670ms\tremaining: 2.15s\n238:\tlearn: 0.3656119\ttotal: 672ms\tremaining: 2.14s\n239:\tlearn: 0.3653314\ttotal: 676ms\tremaining: 2.14s\n240:\tlearn: 0.3651835\ttotal: 684ms\tremaining: 2.15s\n241:\tlearn: 0.3650215\ttotal: 688ms\tremaining: 2.16s\n242:\tlearn: 0.3648473\ttotal: 691ms\tremaining: 2.15s\n243:\tlearn: 0.3644753\ttotal: 694ms\tremaining: 2.15s\n244:\tlearn: 0.3642884\ttotal: 698ms\tremaining: 2.15s\n245:\tlearn: 0.3640357\ttotal: 702ms\tremaining: 2.15s\n246:\tlearn: 0.3636699\ttotal: 704ms\tremaining: 2.15s\n247:\tlearn: 0.3634588\ttotal: 707ms\tremaining: 2.14s\n248:\tlearn: 0.3633605\ttotal: 709ms\tremaining: 2.14s\n249:\tlearn: 0.3631455\ttotal: 711ms\tremaining: 2.13s\n250:\tlearn: 0.3630014\ttotal: 713ms\tremaining: 2.13s\n251:\tlearn: 0.3629419\ttotal: 720ms\tremaining: 2.14s\n252:\tlearn: 0.3627097\ttotal: 724ms\tremaining: 2.14s\n253:\tlearn: 0.3624768\ttotal: 727ms\tremaining: 2.13s\n254:\tlearn: 0.3623014\ttotal: 729ms\tremaining: 2.13s\n255:\tlearn: 0.3620475\ttotal: 732ms\tremaining: 2.13s\n256:\tlearn: 0.3619491\ttotal: 734ms\tremaining: 2.12s\n257:\tlearn: 0.3617068\ttotal: 737ms\tremaining: 2.12s\n258:\tlearn: 0.3616175\ttotal: 739ms\tremaining: 2.12s\n259:\tlearn: 0.3612109\ttotal: 746ms\tremaining: 2.12s\n260:\tlearn: 0.3611375\ttotal: 749ms\tremaining: 2.12s\n261:\tlearn: 0.3608384\ttotal: 751ms\tremaining: 2.12s\n262:\tlearn: 0.3605376\ttotal: 754ms\tremaining: 2.11s\n263:\tlearn: 0.3603352\ttotal: 757ms\tremaining: 2.11s\n264:\tlearn: 0.3602231\ttotal: 759ms\tremaining: 2.1s\n265:\tlearn: 0.3600746\ttotal: 762ms\tremaining: 2.1s\n266:\tlearn: 0.3599470\ttotal: 765ms\tremaining: 2.1s\n267:\tlearn: 0.3596962\ttotal: 769ms\tremaining: 2.1s\n268:\tlearn: 0.3595550\ttotal: 771ms\tremaining: 2.1s\n269:\tlearn: 0.3593174\ttotal: 774ms\tremaining: 2.09s\n270:\tlearn: 0.3591070\ttotal: 777ms\tremaining: 2.09s\n271:\tlearn: 0.3589432\ttotal: 780ms\tremaining: 2.09s\n272:\tlearn: 0.3588201\ttotal: 783ms\tremaining: 2.08s\n273:\tlearn: 0.3585008\ttotal: 788ms\tremaining: 2.09s\n274:\tlearn: 0.3582240\ttotal: 791ms\tremaining: 2.09s\n275:\tlearn: 0.3581082\ttotal: 794ms\tremaining: 2.08s\n276:\tlearn: 0.3578510\ttotal: 798ms\tremaining: 2.08s\n277:\tlearn: 0.3578108\ttotal: 799ms\tremaining: 2.08s\n278:\tlearn: 0.3576816\ttotal: 802ms\tremaining: 2.07s\n279:\tlearn: 0.3575059\ttotal: 804ms\tremaining: 2.07s\n280:\tlearn: 0.3572561\ttotal: 807ms\tremaining: 2.06s\n281:\tlearn: 0.3569608\ttotal: 810ms\tremaining: 2.06s\n282:\tlearn: 0.3567335\ttotal: 813ms\tremaining: 2.06s\n283:\tlearn: 0.3564522\ttotal: 816ms\tremaining: 2.06s\n284:\tlearn: 0.3562380\ttotal: 819ms\tremaining: 2.05s\n285:\tlearn: 0.3560908\ttotal: 821ms\tremaining: 2.05s\n286:\tlearn: 0.3559420\ttotal: 824ms\tremaining: 2.05s\n287:\tlearn: 0.3557944\ttotal: 827ms\tremaining: 2.04s\n288:\tlearn: 0.3555872\ttotal: 830ms\tremaining: 2.04s\n289:\tlearn: 0.3553250\ttotal: 832ms\tremaining: 2.04s\n290:\tlearn: 0.3551428\ttotal: 835ms\tremaining: 2.03s\n291:\tlearn: 0.3548846\ttotal: 838ms\tremaining: 2.03s\n292:\tlearn: 0.3548053\ttotal: 841ms\tremaining: 2.03s\n293:\tlearn: 0.3545850\ttotal: 843ms\tremaining: 2.02s\n294:\tlearn: 0.3544167\ttotal: 846ms\tremaining: 2.02s\n295:\tlearn: 0.3542327\ttotal: 849ms\tremaining: 2.02s\n296:\tlearn: 0.3540630\ttotal: 852ms\tremaining: 2.02s\n297:\tlearn: 0.3537854\ttotal: 854ms\tremaining: 2.01s\n298:\tlearn: 0.3536788\ttotal: 857ms\tremaining: 2.01s\n299:\tlearn: 0.3536727\ttotal: 859ms\tremaining: 2s\n300:\tlearn: 0.3534698\ttotal: 861ms\tremaining: 2s\n301:\tlearn: 0.3534313\ttotal: 864ms\tremaining: 2s\n302:\tlearn: 0.3530881\ttotal: 866ms\tremaining: 1.99s\n303:\tlearn: 0.3528961\ttotal: 869ms\tremaining: 1.99s\n304:\tlearn: 0.3527249\ttotal: 871ms\tremaining: 1.99s\n305:\tlearn: 0.3525994\ttotal: 874ms\tremaining: 1.98s\n306:\tlearn: 0.3524766\ttotal: 877ms\tremaining: 1.98s\n307:\tlearn: 0.3523881\ttotal: 879ms\tremaining: 1.98s\n308:\tlearn: 0.3521927\ttotal: 885ms\tremaining: 1.98s\n309:\tlearn: 0.3520391\ttotal: 887ms\tremaining: 1.97s\n310:\tlearn: 0.3519534\ttotal: 893ms\tremaining: 1.98s\n311:\tlearn: 0.3518118\ttotal: 897ms\tremaining: 1.98s\n312:\tlearn: 0.3516571\ttotal: 899ms\tremaining: 1.97s\n313:\tlearn: 0.3515256\ttotal: 902ms\tremaining: 1.97s\n314:\tlearn: 0.3514461\ttotal: 905ms\tremaining: 1.97s\n315:\tlearn: 0.3511662\ttotal: 907ms\tremaining: 1.96s\n316:\tlearn: 0.3510757\ttotal: 910ms\tremaining: 1.96s\n317:\tlearn: 0.3508283\ttotal: 913ms\tremaining: 1.96s\n318:\tlearn: 0.3507030\ttotal: 916ms\tremaining: 1.95s\n319:\tlearn: 0.3505825\ttotal: 918ms\tremaining: 1.95s\n320:\tlearn: 0.3503688\ttotal: 921ms\tremaining: 1.95s\n321:\tlearn: 0.3502327\ttotal: 924ms\tremaining: 1.95s\n322:\tlearn: 0.3499961\ttotal: 926ms\tremaining: 1.94s\n323:\tlearn: 0.3499242\ttotal: 929ms\tremaining: 1.94s\n324:\tlearn: 0.3497523\ttotal: 931ms\tremaining: 1.93s\n325:\tlearn: 0.3496843\ttotal: 934ms\tremaining: 1.93s\n326:\tlearn: 0.3495913\ttotal: 936ms\tremaining: 1.93s\n327:\tlearn: 0.3494620\ttotal: 939ms\tremaining: 1.92s\n328:\tlearn: 0.3492492\ttotal: 941ms\tremaining: 1.92s\n329:\tlearn: 0.3490866\ttotal: 943ms\tremaining: 1.92s\n330:\tlearn: 0.3488758\ttotal: 946ms\tremaining: 1.91s\n331:\tlearn: 0.3487451\ttotal: 948ms\tremaining: 1.91s\n332:\tlearn: 0.3485251\ttotal: 951ms\tremaining: 1.9s\n333:\tlearn: 0.3484537\ttotal: 953ms\tremaining: 1.9s\n334:\tlearn: 0.3482174\ttotal: 956ms\tremaining: 1.9s\n335:\tlearn: 0.3479050\ttotal: 958ms\tremaining: 1.89s\n336:\tlearn: 0.3477953\ttotal: 961ms\tremaining: 1.89s\n337:\tlearn: 0.3476759\ttotal: 963ms\tremaining: 1.89s\n338:\tlearn: 0.3475472\ttotal: 966ms\tremaining: 1.88s\n339:\tlearn: 0.3474827\ttotal: 968ms\tremaining: 1.88s\n340:\tlearn: 0.3472996\ttotal: 970ms\tremaining: 1.87s\n341:\tlearn: 0.3471501\ttotal: 973ms\tremaining: 1.87s\n342:\tlearn: 0.3470792\ttotal: 975ms\tremaining: 1.87s\n343:\tlearn: 0.3467536\ttotal: 978ms\tremaining: 1.86s\n344:\tlearn: 0.3466155\ttotal: 980ms\tremaining: 1.86s\n345:\tlearn: 0.3464525\ttotal: 983ms\tremaining: 1.86s\n346:\tlearn: 0.3462997\ttotal: 985ms\tremaining: 1.85s\n347:\tlearn: 0.3460748\ttotal: 987ms\tremaining: 1.85s\n348:\tlearn: 0.3458688\ttotal: 990ms\tremaining: 1.85s\n349:\tlearn: 0.3456545\ttotal: 993ms\tremaining: 1.84s\n350:\tlearn: 0.3455134\ttotal: 995ms\tremaining: 1.84s\n351:\tlearn: 0.3453204\ttotal: 998ms\tremaining: 1.84s\n352:\tlearn: 0.3452569\ttotal: 1000ms\tremaining: 1.83s\n353:\tlearn: 0.3449750\ttotal: 1s\tremaining: 1.83s\n354:\tlearn: 0.3447305\ttotal: 1s\tremaining: 1.82s\n355:\tlearn: 0.3446212\ttotal: 1.01s\tremaining: 1.82s\n356:\tlearn: 0.3445163\ttotal: 1.01s\tremaining: 1.82s\n357:\tlearn: 0.3443744\ttotal: 1.01s\tremaining: 1.81s\n358:\tlearn: 0.3442301\ttotal: 1.01s\tremaining: 1.81s\n359:\tlearn: 0.3441294\ttotal: 1.02s\tremaining: 1.81s\n360:\tlearn: 0.3439822\ttotal: 1.02s\tremaining: 1.8s\n361:\tlearn: 0.3438960\ttotal: 1.02s\tremaining: 1.8s\n362:\tlearn: 0.3436272\ttotal: 1.02s\tremaining: 1.8s\n363:\tlearn: 0.3435018\ttotal: 1.03s\tremaining: 1.79s\n364:\tlearn: 0.3433637\ttotal: 1.03s\tremaining: 1.79s\n365:\tlearn: 0.3431535\ttotal: 1.03s\tremaining: 1.79s\n366:\tlearn: 0.3428313\ttotal: 1.03s\tremaining: 1.78s\n367:\tlearn: 0.3427293\ttotal: 1.04s\tremaining: 1.78s\n368:\tlearn: 0.3425415\ttotal: 1.04s\tremaining: 1.78s\n369:\tlearn: 0.3423624\ttotal: 1.04s\tremaining: 1.77s\n370:\tlearn: 0.3420676\ttotal: 1.04s\tremaining: 1.77s\n371:\tlearn: 0.3419213\ttotal: 1.05s\tremaining: 1.77s\n372:\tlearn: 0.3418377\ttotal: 1.05s\tremaining: 1.76s\n373:\tlearn: 0.3417356\ttotal: 1.05s\tremaining: 1.76s\n374:\tlearn: 0.3415957\ttotal: 1.05s\tremaining: 1.76s\n375:\tlearn: 0.3415928\ttotal: 1.05s\tremaining: 1.75s\n376:\tlearn: 0.3414045\ttotal: 1.06s\tremaining: 1.75s\n377:\tlearn: 0.3413065\ttotal: 1.06s\tremaining: 1.74s\n378:\tlearn: 0.3410291\ttotal: 1.06s\tremaining: 1.74s\n379:\tlearn: 0.3408405\ttotal: 1.06s\tremaining: 1.74s\n380:\tlearn: 0.3406880\ttotal: 1.07s\tremaining: 1.73s\n381:\tlearn: 0.3404981\ttotal: 1.07s\tremaining: 1.73s\n382:\tlearn: 0.3403802\ttotal: 1.08s\tremaining: 1.74s\n383:\tlearn: 0.3403258\ttotal: 1.08s\tremaining: 1.73s\n384:\tlearn: 0.3402641\ttotal: 1.08s\tremaining: 1.73s\n385:\tlearn: 0.3402439\ttotal: 1.09s\tremaining: 1.73s\n386:\tlearn: 0.3401546\ttotal: 1.09s\tremaining: 1.73s\n387:\tlearn: 0.3400437\ttotal: 1.09s\tremaining: 1.72s\n388:\tlearn: 0.3399069\ttotal: 1.1s\tremaining: 1.72s\n389:\tlearn: 0.3398915\ttotal: 1.1s\tremaining: 1.72s\n390:\tlearn: 0.3398121\ttotal: 1.1s\tremaining: 1.72s\n391:\tlearn: 0.3396040\ttotal: 1.1s\tremaining: 1.71s\n392:\tlearn: 0.3395531\ttotal: 1.11s\tremaining: 1.71s\n393:\tlearn: 0.3394860\ttotal: 1.11s\tremaining: 1.71s\n394:\tlearn: 0.3393704\ttotal: 1.11s\tremaining: 1.71s\n395:\tlearn: 0.3391869\ttotal: 1.12s\tremaining: 1.7s\n396:\tlearn: 0.3391133\ttotal: 1.12s\tremaining: 1.7s\n397:\tlearn: 0.3389987\ttotal: 1.12s\tremaining: 1.7s\n398:\tlearn: 0.3387543\ttotal: 1.13s\tremaining: 1.7s\n399:\tlearn: 0.3386039\ttotal: 1.13s\tremaining: 1.69s\n400:\tlearn: 0.3384901\ttotal: 1.13s\tremaining: 1.69s\n401:\tlearn: 0.3384221\ttotal: 1.14s\tremaining: 1.69s\n402:\tlearn: 0.3383838\ttotal: 1.14s\tremaining: 1.69s\n403:\tlearn: 0.3383003\ttotal: 1.14s\tremaining: 1.69s\n404:\tlearn: 0.3381400\ttotal: 1.15s\tremaining: 1.68s\n405:\tlearn: 0.3379911\ttotal: 1.15s\tremaining: 1.68s\n406:\tlearn: 0.3378909\ttotal: 1.15s\tremaining: 1.68s\n407:\tlearn: 0.3377184\ttotal: 1.15s\tremaining: 1.67s\n408:\tlearn: 0.3374443\ttotal: 1.16s\tremaining: 1.67s\n409:\tlearn: 0.3373699\ttotal: 1.16s\tremaining: 1.67s\n410:\tlearn: 0.3372504\ttotal: 1.16s\tremaining: 1.67s\n411:\tlearn: 0.3370859\ttotal: 1.16s\tremaining: 1.66s\n412:\tlearn: 0.3368826\ttotal: 1.17s\tremaining: 1.66s\n413:\tlearn: 0.3367707\ttotal: 1.17s\tremaining: 1.66s\n414:\tlearn: 0.3366942\ttotal: 1.17s\tremaining: 1.65s\n415:\tlearn: 0.3365949\ttotal: 1.17s\tremaining: 1.65s\n416:\tlearn: 0.3364555\ttotal: 1.18s\tremaining: 1.65s\n417:\tlearn: 0.3363157\ttotal: 1.18s\tremaining: 1.64s\n418:\tlearn: 0.3361874\ttotal: 1.18s\tremaining: 1.64s\n419:\tlearn: 0.3361126\ttotal: 1.19s\tremaining: 1.64s\n420:\tlearn: 0.3359122\ttotal: 1.19s\tremaining: 1.64s\n421:\tlearn: 0.3357141\ttotal: 1.2s\tremaining: 1.64s\n422:\tlearn: 0.3356433\ttotal: 1.2s\tremaining: 1.63s\n423:\tlearn: 0.3355257\ttotal: 1.2s\tremaining: 1.63s\n424:\tlearn: 0.3353787\ttotal: 1.2s\tremaining: 1.63s\n425:\tlearn: 0.3351675\ttotal: 1.21s\tremaining: 1.62s\n426:\tlearn: 0.3350435\ttotal: 1.21s\tremaining: 1.62s\n427:\tlearn: 0.3349689\ttotal: 1.21s\tremaining: 1.62s\n428:\tlearn: 0.3348692\ttotal: 1.21s\tremaining: 1.61s\n429:\tlearn: 0.3347819\ttotal: 1.22s\tremaining: 1.61s\n430:\tlearn: 0.3346837\ttotal: 1.22s\tremaining: 1.61s\n431:\tlearn: 0.3345893\ttotal: 1.22s\tremaining: 1.6s\n432:\tlearn: 0.3345340\ttotal: 1.22s\tremaining: 1.6s\n433:\tlearn: 0.3343698\ttotal: 1.23s\tremaining: 1.6s\n434:\tlearn: 0.3342184\ttotal: 1.23s\tremaining: 1.59s\n435:\tlearn: 0.3340616\ttotal: 1.23s\tremaining: 1.59s\n436:\tlearn: 0.3340073\ttotal: 1.23s\tremaining: 1.59s\n437:\tlearn: 0.3337186\ttotal: 1.24s\tremaining: 1.58s\n438:\tlearn: 0.3335451\ttotal: 1.24s\tremaining: 1.58s\n439:\tlearn: 0.3333897\ttotal: 1.24s\tremaining: 1.58s\n440:\tlearn: 0.3333410\ttotal: 1.24s\tremaining: 1.57s\n441:\tlearn: 0.3332269\ttotal: 1.24s\tremaining: 1.57s\n442:\tlearn: 0.3331706\ttotal: 1.25s\tremaining: 1.57s\n443:\tlearn: 0.3330848\ttotal: 1.25s\tremaining: 1.56s\n444:\tlearn: 0.3330766\ttotal: 1.25s\tremaining: 1.56s\n445:\tlearn: 0.3328083\ttotal: 1.26s\tremaining: 1.56s\n446:\tlearn: 0.3327260\ttotal: 1.26s\tremaining: 1.56s\n447:\tlearn: 0.3326390\ttotal: 1.26s\tremaining: 1.56s\n448:\tlearn: 0.3325869\ttotal: 1.27s\tremaining: 1.55s\n449:\tlearn: 0.3324467\ttotal: 1.27s\tremaining: 1.55s\n450:\tlearn: 0.3323590\ttotal: 1.27s\tremaining: 1.55s\n451:\tlearn: 0.3321636\ttotal: 1.28s\tremaining: 1.55s\n452:\tlearn: 0.3320661\ttotal: 1.28s\tremaining: 1.55s\n453:\tlearn: 0.3319965\ttotal: 1.28s\tremaining: 1.54s\n454:\tlearn: 0.3319514\ttotal: 1.29s\tremaining: 1.54s\n455:\tlearn: 0.3317642\ttotal: 1.29s\tremaining: 1.54s\n456:\tlearn: 0.3315474\ttotal: 1.29s\tremaining: 1.54s\n457:\tlearn: 0.3313108\ttotal: 1.3s\tremaining: 1.54s\n458:\tlearn: 0.3312400\ttotal: 1.3s\tremaining: 1.53s\n459:\tlearn: 0.3312022\ttotal: 1.3s\tremaining: 1.53s\n460:\tlearn: 0.3310409\ttotal: 1.3s\tremaining: 1.53s\n461:\tlearn: 0.3309724\ttotal: 1.31s\tremaining: 1.52s\n462:\tlearn: 0.3308907\ttotal: 1.31s\tremaining: 1.52s\n463:\tlearn: 0.3306315\ttotal: 1.31s\tremaining: 1.51s\n464:\tlearn: 0.3304987\ttotal: 1.31s\tremaining: 1.51s\n465:\tlearn: 0.3304045\ttotal: 1.32s\tremaining: 1.51s\n466:\tlearn: 0.3301978\ttotal: 1.32s\tremaining: 1.5s\n467:\tlearn: 0.3300174\ttotal: 1.32s\tremaining: 1.5s\n468:\tlearn: 0.3299614\ttotal: 1.32s\tremaining: 1.5s\n469:\tlearn: 0.3298843\ttotal: 1.33s\tremaining: 1.5s\n470:\tlearn: 0.3298074\ttotal: 1.33s\tremaining: 1.49s\n471:\tlearn: 0.3297740\ttotal: 1.33s\tremaining: 1.49s\n472:\tlearn: 0.3297387\ttotal: 1.33s\tremaining: 1.48s\n473:\tlearn: 0.3295111\ttotal: 1.33s\tremaining: 1.48s\n474:\tlearn: 0.3294219\ttotal: 1.34s\tremaining: 1.48s\n475:\tlearn: 0.3293289\ttotal: 1.34s\tremaining: 1.47s\n476:\tlearn: 0.3291288\ttotal: 1.34s\tremaining: 1.47s\n477:\tlearn: 0.3290561\ttotal: 1.34s\tremaining: 1.47s\n478:\tlearn: 0.3289891\ttotal: 1.34s\tremaining: 1.46s\n479:\tlearn: 0.3289088\ttotal: 1.35s\tremaining: 1.46s\n480:\tlearn: 0.3288361\ttotal: 1.35s\tremaining: 1.46s\n481:\tlearn: 0.3286550\ttotal: 1.35s\tremaining: 1.45s\n482:\tlearn: 0.3283557\ttotal: 1.35s\tremaining: 1.45s\n483:\tlearn: 0.3282486\ttotal: 1.36s\tremaining: 1.45s\n484:\tlearn: 0.3281707\ttotal: 1.36s\tremaining: 1.44s\n485:\tlearn: 0.3280670\ttotal: 1.36s\tremaining: 1.44s\n486:\tlearn: 0.3278778\ttotal: 1.36s\tremaining: 1.44s\n487:\tlearn: 0.3277865\ttotal: 1.37s\tremaining: 1.44s\n488:\tlearn: 0.3277084\ttotal: 1.37s\tremaining: 1.43s\n489:\tlearn: 0.3276841\ttotal: 1.37s\tremaining: 1.43s\n490:\tlearn: 0.3274719\ttotal: 1.38s\tremaining: 1.43s\n491:\tlearn: 0.3274503\ttotal: 1.38s\tremaining: 1.42s\n492:\tlearn: 0.3274222\ttotal: 1.38s\tremaining: 1.42s\n493:\tlearn: 0.3273722\ttotal: 1.38s\tremaining: 1.42s\n494:\tlearn: 0.3272272\ttotal: 1.38s\tremaining: 1.41s\n495:\tlearn: 0.3271100\ttotal: 1.39s\tremaining: 1.41s\n496:\tlearn: 0.3269933\ttotal: 1.39s\tremaining: 1.41s\n497:\tlearn: 0.3268460\ttotal: 1.39s\tremaining: 1.4s\n498:\tlearn: 0.3267648\ttotal: 1.39s\tremaining: 1.4s\n499:\tlearn: 0.3266755\ttotal: 1.4s\tremaining: 1.4s\n500:\tlearn: 0.3265885\ttotal: 1.4s\tremaining: 1.39s\n501:\tlearn: 0.3264791\ttotal: 1.4s\tremaining: 1.39s\n502:\tlearn: 0.3263724\ttotal: 1.4s\tremaining: 1.39s\n503:\tlearn: 0.3262044\ttotal: 1.41s\tremaining: 1.38s\n504:\tlearn: 0.3259988\ttotal: 1.41s\tremaining: 1.38s\n505:\tlearn: 0.3257722\ttotal: 1.41s\tremaining: 1.38s\n506:\tlearn: 0.3256491\ttotal: 1.42s\tremaining: 1.38s\n507:\tlearn: 0.3256266\ttotal: 1.42s\tremaining: 1.37s\n508:\tlearn: 0.3255481\ttotal: 1.42s\tremaining: 1.37s\n509:\tlearn: 0.3255038\ttotal: 1.42s\tremaining: 1.37s\n510:\tlearn: 0.3252561\ttotal: 1.43s\tremaining: 1.36s\n511:\tlearn: 0.3250944\ttotal: 1.43s\tremaining: 1.36s\n512:\tlearn: 0.3249693\ttotal: 1.43s\tremaining: 1.36s\n513:\tlearn: 0.3249360\ttotal: 1.44s\tremaining: 1.36s\n514:\tlearn: 0.3249018\ttotal: 1.44s\tremaining: 1.35s\n515:\tlearn: 0.3248383\ttotal: 1.44s\tremaining: 1.35s\n516:\tlearn: 0.3247871\ttotal: 1.44s\tremaining: 1.35s\n517:\tlearn: 0.3247320\ttotal: 1.44s\tremaining: 1.34s\n518:\tlearn: 0.3246751\ttotal: 1.45s\tremaining: 1.34s\n519:\tlearn: 0.3246500\ttotal: 1.45s\tremaining: 1.34s\n520:\tlearn: 0.3244863\ttotal: 1.45s\tremaining: 1.33s\n521:\tlearn: 0.3243229\ttotal: 1.45s\tremaining: 1.33s\n522:\tlearn: 0.3241791\ttotal: 1.46s\tremaining: 1.33s\n523:\tlearn: 0.3241049\ttotal: 1.46s\tremaining: 1.32s\n524:\tlearn: 0.3240943\ttotal: 1.46s\tremaining: 1.32s\n525:\tlearn: 0.3240404\ttotal: 1.46s\tremaining: 1.32s\n526:\tlearn: 0.3239777\ttotal: 1.46s\tremaining: 1.31s\n527:\tlearn: 0.3238714\ttotal: 1.47s\tremaining: 1.31s\n528:\tlearn: 0.3237128\ttotal: 1.47s\tremaining: 1.31s\n529:\tlearn: 0.3236320\ttotal: 1.47s\tremaining: 1.3s\n530:\tlearn: 0.3234802\ttotal: 1.47s\tremaining: 1.3s\n531:\tlearn: 0.3234445\ttotal: 1.48s\tremaining: 1.3s\n532:\tlearn: 0.3233298\ttotal: 1.48s\tremaining: 1.3s\n533:\tlearn: 0.3232146\ttotal: 1.48s\tremaining: 1.29s\n534:\tlearn: 0.3231601\ttotal: 1.49s\tremaining: 1.29s\n535:\tlearn: 0.3230934\ttotal: 1.49s\tremaining: 1.29s\n536:\tlearn: 0.3229609\ttotal: 1.49s\tremaining: 1.28s\n537:\tlearn: 0.3229548\ttotal: 1.49s\tremaining: 1.28s\n538:\tlearn: 0.3228005\ttotal: 1.5s\tremaining: 1.28s\n539:\tlearn: 0.3226550\ttotal: 1.5s\tremaining: 1.27s\n540:\tlearn: 0.3225736\ttotal: 1.5s\tremaining: 1.27s\n541:\tlearn: 0.3223689\ttotal: 1.5s\tremaining: 1.27s\n542:\tlearn: 0.3223542\ttotal: 1.5s\tremaining: 1.27s\n543:\tlearn: 0.3223014\ttotal: 1.51s\tremaining: 1.26s\n544:\tlearn: 0.3221920\ttotal: 1.51s\tremaining: 1.26s\n545:\tlearn: 0.3221087\ttotal: 1.51s\tremaining: 1.26s\n546:\tlearn: 0.3220321\ttotal: 1.52s\tremaining: 1.25s\n547:\tlearn: 0.3220039\ttotal: 1.52s\tremaining: 1.25s\n548:\tlearn: 0.3218959\ttotal: 1.52s\tremaining: 1.25s\n549:\tlearn: 0.3217511\ttotal: 1.52s\tremaining: 1.25s\n550:\tlearn: 0.3216798\ttotal: 1.53s\tremaining: 1.24s\n551:\tlearn: 0.3214886\ttotal: 1.53s\tremaining: 1.24s\n552:\tlearn: 0.3212883\ttotal: 1.53s\tremaining: 1.24s\n553:\tlearn: 0.3212033\ttotal: 1.53s\tremaining: 1.24s\n554:\tlearn: 0.3210373\ttotal: 1.54s\tremaining: 1.23s\n555:\tlearn: 0.3209657\ttotal: 1.54s\tremaining: 1.23s\n556:\tlearn: 0.3208260\ttotal: 1.54s\tremaining: 1.23s\n557:\tlearn: 0.3206742\ttotal: 1.55s\tremaining: 1.23s\n558:\tlearn: 0.3206102\ttotal: 1.55s\tremaining: 1.22s\n559:\tlearn: 0.3205302\ttotal: 1.55s\tremaining: 1.22s\n560:\tlearn: 0.3203704\ttotal: 1.55s\tremaining: 1.22s\n561:\tlearn: 0.3202441\ttotal: 1.56s\tremaining: 1.21s\n562:\tlearn: 0.3201052\ttotal: 1.56s\tremaining: 1.21s\n563:\tlearn: 0.3200909\ttotal: 1.57s\tremaining: 1.21s\n564:\tlearn: 0.3200011\ttotal: 1.57s\tremaining: 1.21s\n565:\tlearn: 0.3197992\ttotal: 1.57s\tremaining: 1.21s\n566:\tlearn: 0.3197054\ttotal: 1.58s\tremaining: 1.2s\n567:\tlearn: 0.3196123\ttotal: 1.58s\tremaining: 1.2s\n568:\tlearn: 0.3195739\ttotal: 1.58s\tremaining: 1.2s\n569:\tlearn: 0.3194000\ttotal: 1.58s\tremaining: 1.2s\n570:\tlearn: 0.3193175\ttotal: 1.59s\tremaining: 1.19s\n571:\tlearn: 0.3192511\ttotal: 1.59s\tremaining: 1.19s\n572:\tlearn: 0.3190647\ttotal: 1.59s\tremaining: 1.19s\n573:\tlearn: 0.3189834\ttotal: 1.59s\tremaining: 1.18s\n574:\tlearn: 0.3189301\ttotal: 1.6s\tremaining: 1.18s\n575:\tlearn: 0.3188561\ttotal: 1.6s\tremaining: 1.18s\n576:\tlearn: 0.3187683\ttotal: 1.6s\tremaining: 1.18s\n577:\tlearn: 0.3186970\ttotal: 1.61s\tremaining: 1.17s\n578:\tlearn: 0.3186320\ttotal: 1.61s\tremaining: 1.17s\n579:\tlearn: 0.3184900\ttotal: 1.61s\tremaining: 1.17s\n580:\tlearn: 0.3183909\ttotal: 1.62s\tremaining: 1.17s\n581:\tlearn: 0.3182449\ttotal: 1.62s\tremaining: 1.16s\n582:\tlearn: 0.3181544\ttotal: 1.62s\tremaining: 1.16s\n583:\tlearn: 0.3180630\ttotal: 1.63s\tremaining: 1.16s\n584:\tlearn: 0.3179153\ttotal: 1.63s\tremaining: 1.16s\n585:\tlearn: 0.3178402\ttotal: 1.63s\tremaining: 1.15s\n586:\tlearn: 0.3178090\ttotal: 1.63s\tremaining: 1.15s\n587:\tlearn: 0.3177345\ttotal: 1.64s\tremaining: 1.15s\n588:\tlearn: 0.3176791\ttotal: 1.64s\tremaining: 1.14s\n589:\tlearn: 0.3176178\ttotal: 1.64s\tremaining: 1.14s\n590:\tlearn: 0.3174912\ttotal: 1.64s\tremaining: 1.14s\n591:\tlearn: 0.3172860\ttotal: 1.65s\tremaining: 1.14s\n592:\tlearn: 0.3172643\ttotal: 1.65s\tremaining: 1.13s\n593:\tlearn: 0.3171800\ttotal: 1.65s\tremaining: 1.13s\n594:\tlearn: 0.3171143\ttotal: 1.65s\tremaining: 1.13s\n595:\tlearn: 0.3171005\ttotal: 1.66s\tremaining: 1.12s\n596:\tlearn: 0.3169780\ttotal: 1.66s\tremaining: 1.12s\n597:\tlearn: 0.3168974\ttotal: 1.66s\tremaining: 1.12s\n598:\tlearn: 0.3168550\ttotal: 1.66s\tremaining: 1.11s\n599:\tlearn: 0.3166724\ttotal: 1.67s\tremaining: 1.11s\n600:\tlearn: 0.3165365\ttotal: 1.67s\tremaining: 1.11s\n601:\tlearn: 0.3164827\ttotal: 1.67s\tremaining: 1.1s\n602:\tlearn: 0.3162857\ttotal: 1.67s\tremaining: 1.1s\n603:\tlearn: 0.3162670\ttotal: 1.68s\tremaining: 1.1s\n604:\tlearn: 0.3160941\ttotal: 1.68s\tremaining: 1.1s\n605:\tlearn: 0.3159733\ttotal: 1.69s\tremaining: 1.09s\n606:\tlearn: 0.3159466\ttotal: 1.69s\tremaining: 1.09s\n607:\tlearn: 0.3158277\ttotal: 1.69s\tremaining: 1.09s\n608:\tlearn: 0.3156825\ttotal: 1.69s\tremaining: 1.09s\n609:\tlearn: 0.3155598\ttotal: 1.69s\tremaining: 1.08s\n610:\tlearn: 0.3155098\ttotal: 1.7s\tremaining: 1.08s\n611:\tlearn: 0.3153799\ttotal: 1.7s\tremaining: 1.08s\n612:\tlearn: 0.3152647\ttotal: 1.7s\tremaining: 1.07s\n613:\tlearn: 0.3151544\ttotal: 1.71s\tremaining: 1.07s\n614:\tlearn: 0.3151231\ttotal: 1.71s\tremaining: 1.07s\n615:\tlearn: 0.3151126\ttotal: 1.71s\tremaining: 1.07s\n616:\tlearn: 0.3149578\ttotal: 1.71s\tremaining: 1.06s\n617:\tlearn: 0.3148839\ttotal: 1.72s\tremaining: 1.06s\n618:\tlearn: 0.3148134\ttotal: 1.72s\tremaining: 1.06s\n619:\tlearn: 0.3147571\ttotal: 1.72s\tremaining: 1.05s\n620:\tlearn: 0.3146050\ttotal: 1.72s\tremaining: 1.05s\n621:\tlearn: 0.3145308\ttotal: 1.73s\tremaining: 1.05s\n622:\tlearn: 0.3144311\ttotal: 1.73s\tremaining: 1.05s\n623:\tlearn: 0.3143288\ttotal: 1.73s\tremaining: 1.04s\n624:\tlearn: 0.3142472\ttotal: 1.73s\tremaining: 1.04s\n625:\tlearn: 0.3140812\ttotal: 1.74s\tremaining: 1.04s\n626:\tlearn: 0.3140602\ttotal: 1.74s\tremaining: 1.03s\n627:\tlearn: 0.3139878\ttotal: 1.74s\tremaining: 1.03s\n628:\tlearn: 0.3138734\ttotal: 1.74s\tremaining: 1.03s\n629:\tlearn: 0.3138379\ttotal: 1.75s\tremaining: 1.02s\n630:\tlearn: 0.3137005\ttotal: 1.75s\tremaining: 1.02s\n631:\tlearn: 0.3135084\ttotal: 1.75s\tremaining: 1.02s\n632:\tlearn: 0.3133061\ttotal: 1.75s\tremaining: 1.02s\n633:\tlearn: 0.3132843\ttotal: 1.76s\tremaining: 1.01s\n634:\tlearn: 0.3132366\ttotal: 1.76s\tremaining: 1.01s\n635:\tlearn: 0.3130773\ttotal: 1.76s\tremaining: 1.01s\n636:\tlearn: 0.3130279\ttotal: 1.76s\tremaining: 1s\n637:\tlearn: 0.3129119\ttotal: 1.77s\tremaining: 1s\n638:\tlearn: 0.3128454\ttotal: 1.77s\tremaining: 999ms\n639:\tlearn: 0.3126785\ttotal: 1.77s\tremaining: 996ms\n640:\tlearn: 0.3125459\ttotal: 1.77s\tremaining: 994ms\n641:\tlearn: 0.3124683\ttotal: 1.78s\tremaining: 991ms\n642:\tlearn: 0.3123470\ttotal: 1.78s\tremaining: 988ms\n643:\tlearn: 0.3123283\ttotal: 1.78s\tremaining: 985ms\n644:\tlearn: 0.3121708\ttotal: 1.78s\tremaining: 982ms\n645:\tlearn: 0.3119736\ttotal: 1.79s\tremaining: 982ms\n646:\tlearn: 0.3118841\ttotal: 1.79s\tremaining: 980ms\n647:\tlearn: 0.3117121\ttotal: 1.8s\tremaining: 977ms\n648:\tlearn: 0.3116618\ttotal: 1.8s\tremaining: 975ms\n649:\tlearn: 0.3115690\ttotal: 1.8s\tremaining: 972ms\n650:\tlearn: 0.3114479\ttotal: 1.81s\tremaining: 970ms\n651:\tlearn: 0.3113991\ttotal: 1.81s\tremaining: 967ms\n652:\tlearn: 0.3111808\ttotal: 1.81s\tremaining: 965ms\n653:\tlearn: 0.3111530\ttotal: 1.82s\tremaining: 962ms\n654:\tlearn: 0.3108810\ttotal: 1.82s\tremaining: 959ms\n655:\tlearn: 0.3108055\ttotal: 1.82s\tremaining: 956ms\n656:\tlearn: 0.3106136\ttotal: 1.83s\tremaining: 954ms\n657:\tlearn: 0.3104969\ttotal: 1.83s\tremaining: 951ms\n658:\tlearn: 0.3103748\ttotal: 1.83s\tremaining: 949ms\n659:\tlearn: 0.3102968\ttotal: 1.84s\tremaining: 946ms\n660:\tlearn: 0.3102028\ttotal: 1.84s\tremaining: 944ms\n661:\tlearn: 0.3099915\ttotal: 1.84s\tremaining: 941ms\n662:\tlearn: 0.3099359\ttotal: 1.85s\tremaining: 939ms\n663:\tlearn: 0.3099237\ttotal: 1.85s\tremaining: 935ms\n664:\tlearn: 0.3097924\ttotal: 1.85s\tremaining: 932ms\n665:\tlearn: 0.3097045\ttotal: 1.85s\tremaining: 930ms\n666:\tlearn: 0.3096375\ttotal: 1.85s\tremaining: 926ms\n667:\tlearn: 0.3096044\ttotal: 1.86s\tremaining: 923ms\n668:\tlearn: 0.3093582\ttotal: 1.86s\tremaining: 920ms\n669:\tlearn: 0.3092379\ttotal: 1.86s\tremaining: 917ms\n670:\tlearn: 0.3091942\ttotal: 1.86s\tremaining: 914ms\n671:\tlearn: 0.3091129\ttotal: 1.87s\tremaining: 911ms\n672:\tlearn: 0.3090520\ttotal: 1.87s\tremaining: 908ms\n673:\tlearn: 0.3089350\ttotal: 1.87s\tremaining: 905ms\n674:\tlearn: 0.3089054\ttotal: 1.87s\tremaining: 902ms\n675:\tlearn: 0.3087116\ttotal: 1.88s\tremaining: 899ms\n676:\tlearn: 0.3085330\ttotal: 1.88s\tremaining: 896ms\n677:\tlearn: 0.3084023\ttotal: 1.88s\tremaining: 893ms\n678:\tlearn: 0.3081875\ttotal: 1.88s\tremaining: 890ms\n679:\tlearn: 0.3081142\ttotal: 1.89s\tremaining: 887ms\n680:\tlearn: 0.3080331\ttotal: 1.89s\tremaining: 885ms\n681:\tlearn: 0.3078632\ttotal: 1.89s\tremaining: 882ms\n682:\tlearn: 0.3078008\ttotal: 1.9s\tremaining: 880ms\n683:\tlearn: 0.3077538\ttotal: 1.9s\tremaining: 877ms\n684:\tlearn: 0.3076321\ttotal: 1.9s\tremaining: 874ms\n685:\tlearn: 0.3074675\ttotal: 1.9s\tremaining: 872ms\n686:\tlearn: 0.3073772\ttotal: 1.91s\tremaining: 869ms\n687:\tlearn: 0.3072623\ttotal: 1.91s\tremaining: 866ms\n688:\tlearn: 0.3071473\ttotal: 1.91s\tremaining: 863ms\n689:\tlearn: 0.3069711\ttotal: 1.91s\tremaining: 860ms\n690:\tlearn: 0.3069610\ttotal: 1.92s\tremaining: 856ms\n691:\tlearn: 0.3067440\ttotal: 1.92s\tremaining: 853ms\n692:\tlearn: 0.3065812\ttotal: 1.92s\tremaining: 850ms\n693:\tlearn: 0.3065072\ttotal: 1.92s\tremaining: 847ms\n694:\tlearn: 0.3064484\ttotal: 1.93s\tremaining: 846ms\n695:\tlearn: 0.3063513\ttotal: 1.93s\tremaining: 843ms\n696:\tlearn: 0.3061499\ttotal: 1.93s\tremaining: 840ms\n697:\tlearn: 0.3060318\ttotal: 1.94s\tremaining: 837ms\n698:\tlearn: 0.3059575\ttotal: 1.94s\tremaining: 834ms\n699:\tlearn: 0.3058134\ttotal: 1.94s\tremaining: 831ms\n700:\tlearn: 0.3056310\ttotal: 1.94s\tremaining: 828ms\n701:\tlearn: 0.3054443\ttotal: 1.94s\tremaining: 826ms\n702:\tlearn: 0.3052476\ttotal: 1.95s\tremaining: 823ms\n703:\tlearn: 0.3052141\ttotal: 1.95s\tremaining: 820ms\n704:\tlearn: 0.3051607\ttotal: 1.95s\tremaining: 817ms\n705:\tlearn: 0.3050728\ttotal: 1.96s\tremaining: 814ms\n706:\tlearn: 0.3050242\ttotal: 1.96s\tremaining: 812ms\n707:\tlearn: 0.3049437\ttotal: 1.96s\tremaining: 809ms\n708:\tlearn: 0.3048435\ttotal: 1.96s\tremaining: 806ms\n709:\tlearn: 0.3047173\ttotal: 1.97s\tremaining: 805ms\n710:\tlearn: 0.3046490\ttotal: 1.97s\tremaining: 803ms\n711:\tlearn: 0.3045618\ttotal: 1.98s\tremaining: 800ms\n712:\tlearn: 0.3045005\ttotal: 1.98s\tremaining: 798ms\n713:\tlearn: 0.3042666\ttotal: 1.99s\tremaining: 795ms\n714:\tlearn: 0.3040885\ttotal: 1.99s\tremaining: 793ms\n715:\tlearn: 0.3039934\ttotal: 1.99s\tremaining: 790ms\n716:\tlearn: 0.3039516\ttotal: 2s\tremaining: 788ms\n717:\tlearn: 0.3037603\ttotal: 2s\tremaining: 785ms\n718:\tlearn: 0.3036632\ttotal: 2s\tremaining: 782ms\n719:\tlearn: 0.3034511\ttotal: 2s\tremaining: 780ms\n720:\tlearn: 0.3033676\ttotal: 2.01s\tremaining: 777ms\n721:\tlearn: 0.3032976\ttotal: 2.01s\tremaining: 774ms\n722:\tlearn: 0.3031814\ttotal: 2.01s\tremaining: 771ms\n723:\tlearn: 0.3030638\ttotal: 2.01s\tremaining: 768ms\n724:\tlearn: 0.3029288\ttotal: 2.02s\tremaining: 765ms\n725:\tlearn: 0.3028147\ttotal: 2.02s\tremaining: 762ms\n726:\tlearn: 0.3027127\ttotal: 2.02s\tremaining: 759ms\n727:\tlearn: 0.3026707\ttotal: 2.02s\tremaining: 756ms\n728:\tlearn: 0.3025564\ttotal: 2.02s\tremaining: 753ms\n729:\tlearn: 0.3022509\ttotal: 2.03s\tremaining: 750ms\n730:\tlearn: 0.3021474\ttotal: 2.03s\tremaining: 748ms\n731:\tlearn: 0.3019311\ttotal: 2.03s\tremaining: 745ms\n732:\tlearn: 0.3017857\ttotal: 2.04s\tremaining: 742ms\n733:\tlearn: 0.3017037\ttotal: 2.04s\tremaining: 739ms\n734:\tlearn: 0.3015727\ttotal: 2.05s\tremaining: 739ms\n735:\tlearn: 0.3014985\ttotal: 2.05s\tremaining: 736ms\n736:\tlearn: 0.3014158\ttotal: 2.05s\tremaining: 733ms\n737:\tlearn: 0.3013343\ttotal: 2.06s\tremaining: 730ms\n738:\tlearn: 0.3013008\ttotal: 2.06s\tremaining: 727ms\n739:\tlearn: 0.3012714\ttotal: 2.06s\tremaining: 724ms\n740:\tlearn: 0.3012527\ttotal: 2.06s\tremaining: 721ms\n741:\tlearn: 0.3012346\ttotal: 2.07s\tremaining: 718ms\n742:\tlearn: 0.3011052\ttotal: 2.07s\tremaining: 717ms\n743:\tlearn: 0.3009289\ttotal: 2.07s\tremaining: 714ms\n744:\tlearn: 0.3009232\ttotal: 2.08s\tremaining: 711ms\n745:\tlearn: 0.3008559\ttotal: 2.08s\tremaining: 708ms\n746:\tlearn: 0.3007720\ttotal: 2.08s\tremaining: 705ms\n747:\tlearn: 0.3006038\ttotal: 2.08s\tremaining: 702ms\n748:\tlearn: 0.3005032\ttotal: 2.09s\tremaining: 699ms\n749:\tlearn: 0.3003109\ttotal: 2.09s\tremaining: 696ms\n750:\tlearn: 0.3001953\ttotal: 2.09s\tremaining: 694ms\n751:\tlearn: 0.3001429\ttotal: 2.1s\tremaining: 691ms\n752:\tlearn: 0.3000867\ttotal: 2.1s\tremaining: 688ms\n753:\tlearn: 0.2999786\ttotal: 2.1s\tremaining: 685ms\n754:\tlearn: 0.2997808\ttotal: 2.1s\tremaining: 683ms\n755:\tlearn: 0.2997357\ttotal: 2.11s\tremaining: 680ms\n756:\tlearn: 0.2997196\ttotal: 2.11s\tremaining: 677ms\n757:\tlearn: 0.2996496\ttotal: 2.11s\tremaining: 674ms\n758:\tlearn: 0.2995704\ttotal: 2.11s\tremaining: 671ms\n759:\tlearn: 0.2995163\ttotal: 2.12s\tremaining: 669ms\n760:\tlearn: 0.2993831\ttotal: 2.12s\tremaining: 666ms\n761:\tlearn: 0.2992651\ttotal: 2.12s\tremaining: 663ms\n762:\tlearn: 0.2991915\ttotal: 2.13s\tremaining: 661ms\n763:\tlearn: 0.2991275\ttotal: 2.13s\tremaining: 658ms\n764:\tlearn: 0.2990971\ttotal: 2.13s\tremaining: 655ms\n765:\tlearn: 0.2989206\ttotal: 2.13s\tremaining: 652ms\n766:\tlearn: 0.2988867\ttotal: 2.14s\tremaining: 649ms\n767:\tlearn: 0.2988009\ttotal: 2.14s\tremaining: 646ms\n768:\tlearn: 0.2987423\ttotal: 2.14s\tremaining: 643ms\n769:\tlearn: 0.2986011\ttotal: 2.14s\tremaining: 641ms\n770:\tlearn: 0.2984966\ttotal: 2.15s\tremaining: 638ms\n771:\tlearn: 0.2984322\ttotal: 2.15s\tremaining: 636ms\n772:\tlearn: 0.2982864\ttotal: 2.16s\tremaining: 633ms\n773:\tlearn: 0.2982129\ttotal: 2.16s\tremaining: 630ms\n774:\tlearn: 0.2981090\ttotal: 2.16s\tremaining: 627ms\n775:\tlearn: 0.2980576\ttotal: 2.16s\tremaining: 625ms\n776:\tlearn: 0.2980366\ttotal: 2.17s\tremaining: 622ms\n777:\tlearn: 0.2979833\ttotal: 2.17s\tremaining: 619ms\n778:\tlearn: 0.2979033\ttotal: 2.17s\tremaining: 616ms\n779:\tlearn: 0.2978239\ttotal: 2.17s\tremaining: 613ms\n780:\tlearn: 0.2977471\ttotal: 2.17s\tremaining: 610ms\n781:\tlearn: 0.2976861\ttotal: 2.18s\tremaining: 607ms\n782:\tlearn: 0.2975567\ttotal: 2.18s\tremaining: 604ms\n783:\tlearn: 0.2974656\ttotal: 2.18s\tremaining: 602ms\n784:\tlearn: 0.2973450\ttotal: 2.19s\tremaining: 599ms\n785:\tlearn: 0.2972326\ttotal: 2.19s\tremaining: 596ms\n786:\tlearn: 0.2970799\ttotal: 2.19s\tremaining: 593ms\n787:\tlearn: 0.2969750\ttotal: 2.19s\tremaining: 590ms\n788:\tlearn: 0.2969263\ttotal: 2.2s\tremaining: 588ms\n789:\tlearn: 0.2968165\ttotal: 2.2s\tremaining: 585ms\n790:\tlearn: 0.2967690\ttotal: 2.2s\tremaining: 582ms\n791:\tlearn: 0.2965874\ttotal: 2.21s\tremaining: 579ms\n792:\tlearn: 0.2965155\ttotal: 2.21s\tremaining: 577ms\n793:\tlearn: 0.2964592\ttotal: 2.21s\tremaining: 574ms\n794:\tlearn: 0.2962101\ttotal: 2.21s\tremaining: 571ms\n795:\tlearn: 0.2961191\ttotal: 2.22s\tremaining: 568ms\n796:\tlearn: 0.2960885\ttotal: 2.22s\tremaining: 565ms\n797:\tlearn: 0.2959927\ttotal: 2.22s\tremaining: 563ms\n798:\tlearn: 0.2959152\ttotal: 2.23s\tremaining: 560ms\n799:\tlearn: 0.2958521\ttotal: 2.23s\tremaining: 557ms\n800:\tlearn: 0.2957287\ttotal: 2.23s\tremaining: 554ms\n801:\tlearn: 0.2954295\ttotal: 2.23s\tremaining: 552ms\n802:\tlearn: 0.2953556\ttotal: 2.24s\tremaining: 549ms\n803:\tlearn: 0.2950163\ttotal: 2.24s\tremaining: 546ms\n804:\tlearn: 0.2949458\ttotal: 2.24s\tremaining: 543ms\n805:\tlearn: 0.2947588\ttotal: 2.25s\tremaining: 540ms\n806:\tlearn: 0.2946568\ttotal: 2.25s\tremaining: 538ms\n807:\tlearn: 0.2946045\ttotal: 2.25s\tremaining: 535ms\n808:\tlearn: 0.2944455\ttotal: 2.25s\tremaining: 532ms\n809:\tlearn: 0.2944425\ttotal: 2.25s\tremaining: 529ms\n810:\tlearn: 0.2943240\ttotal: 2.26s\tremaining: 526ms\n811:\tlearn: 0.2942594\ttotal: 2.26s\tremaining: 523ms\n812:\tlearn: 0.2941985\ttotal: 2.26s\tremaining: 520ms\n813:\tlearn: 0.2941447\ttotal: 2.27s\tremaining: 518ms\n814:\tlearn: 0.2940060\ttotal: 2.27s\tremaining: 515ms\n815:\tlearn: 0.2939129\ttotal: 2.27s\tremaining: 512ms\n816:\tlearn: 0.2938437\ttotal: 2.27s\tremaining: 509ms\n817:\tlearn: 0.2937173\ttotal: 2.28s\tremaining: 506ms\n818:\tlearn: 0.2936823\ttotal: 2.28s\tremaining: 504ms\n819:\tlearn: 0.2936181\ttotal: 2.28s\tremaining: 501ms\n820:\tlearn: 0.2935267\ttotal: 2.28s\tremaining: 498ms\n821:\tlearn: 0.2934462\ttotal: 2.29s\tremaining: 495ms\n822:\tlearn: 0.2933616\ttotal: 2.29s\tremaining: 492ms\n823:\tlearn: 0.2932321\ttotal: 2.29s\tremaining: 490ms\n824:\tlearn: 0.2931690\ttotal: 2.29s\tremaining: 487ms\n825:\tlearn: 0.2931018\ttotal: 2.3s\tremaining: 484ms\n826:\tlearn: 0.2930412\ttotal: 2.3s\tremaining: 481ms\n827:\tlearn: 0.2929773\ttotal: 2.3s\tremaining: 479ms\n828:\tlearn: 0.2928088\ttotal: 2.31s\tremaining: 476ms\n829:\tlearn: 0.2926178\ttotal: 2.31s\tremaining: 473ms\n830:\tlearn: 0.2924712\ttotal: 2.31s\tremaining: 470ms\n831:\tlearn: 0.2924240\ttotal: 2.31s\tremaining: 467ms\n832:\tlearn: 0.2923702\ttotal: 2.32s\tremaining: 465ms\n833:\tlearn: 0.2923497\ttotal: 2.32s\tremaining: 462ms\n834:\tlearn: 0.2922857\ttotal: 2.32s\tremaining: 459ms\n835:\tlearn: 0.2922350\ttotal: 2.33s\tremaining: 456ms\n836:\tlearn: 0.2921893\ttotal: 2.33s\tremaining: 453ms\n837:\tlearn: 0.2921159\ttotal: 2.33s\tremaining: 451ms\n838:\tlearn: 0.2920312\ttotal: 2.34s\tremaining: 449ms\n839:\tlearn: 0.2919749\ttotal: 2.34s\tremaining: 446ms\n840:\tlearn: 0.2918475\ttotal: 2.34s\tremaining: 443ms\n841:\tlearn: 0.2917460\ttotal: 2.35s\tremaining: 440ms\n842:\tlearn: 0.2917415\ttotal: 2.35s\tremaining: 437ms\n843:\tlearn: 0.2915065\ttotal: 2.35s\tremaining: 434ms\n844:\tlearn: 0.2914010\ttotal: 2.35s\tremaining: 431ms\n845:\tlearn: 0.2913047\ttotal: 2.35s\tremaining: 428ms\n846:\tlearn: 0.2912454\ttotal: 2.36s\tremaining: 426ms\n847:\tlearn: 0.2912090\ttotal: 2.36s\tremaining: 423ms\n848:\tlearn: 0.2910964\ttotal: 2.36s\tremaining: 420ms\n849:\tlearn: 0.2909286\ttotal: 2.36s\tremaining: 417ms\n850:\tlearn: 0.2908623\ttotal: 2.37s\tremaining: 414ms\n851:\tlearn: 0.2906638\ttotal: 2.37s\tremaining: 411ms\n852:\tlearn: 0.2905470\ttotal: 2.37s\tremaining: 408ms\n853:\tlearn: 0.2905083\ttotal: 2.37s\tremaining: 406ms\n854:\tlearn: 0.2904001\ttotal: 2.38s\tremaining: 403ms\n855:\tlearn: 0.2903119\ttotal: 2.38s\tremaining: 400ms\n856:\tlearn: 0.2902637\ttotal: 2.38s\tremaining: 397ms\n857:\tlearn: 0.2901908\ttotal: 2.38s\tremaining: 394ms\n858:\tlearn: 0.2901568\ttotal: 2.38s\tremaining: 392ms\n859:\tlearn: 0.2901355\ttotal: 2.39s\tremaining: 389ms\n860:\tlearn: 0.2900702\ttotal: 2.39s\tremaining: 386ms\n861:\tlearn: 0.2899893\ttotal: 2.39s\tremaining: 383ms\n862:\tlearn: 0.2897869\ttotal: 2.4s\tremaining: 380ms\n863:\tlearn: 0.2896631\ttotal: 2.4s\tremaining: 377ms\n864:\tlearn: 0.2896124\ttotal: 2.4s\tremaining: 375ms\n865:\tlearn: 0.2894901\ttotal: 2.4s\tremaining: 372ms\n866:\tlearn: 0.2893782\ttotal: 2.4s\tremaining: 369ms\n867:\tlearn: 0.2893016\ttotal: 2.41s\tremaining: 366ms\n868:\tlearn: 0.2891616\ttotal: 2.41s\tremaining: 363ms\n869:\tlearn: 0.2888642\ttotal: 2.41s\tremaining: 361ms\n870:\tlearn: 0.2888261\ttotal: 2.42s\tremaining: 358ms\n871:\tlearn: 0.2886268\ttotal: 2.42s\tremaining: 355ms\n872:\tlearn: 0.2885244\ttotal: 2.42s\tremaining: 352ms\n873:\tlearn: 0.2884255\ttotal: 2.42s\tremaining: 349ms\n874:\tlearn: 0.2882817\ttotal: 2.42s\tremaining: 346ms\n875:\tlearn: 0.2882482\ttotal: 2.43s\tremaining: 344ms\n876:\tlearn: 0.2881618\ttotal: 2.43s\tremaining: 341ms\n877:\tlearn: 0.2881107\ttotal: 2.43s\tremaining: 338ms\n878:\tlearn: 0.2880217\ttotal: 2.43s\tremaining: 335ms\n879:\tlearn: 0.2879686\ttotal: 2.44s\tremaining: 332ms\n880:\tlearn: 0.2878969\ttotal: 2.44s\tremaining: 330ms\n881:\tlearn: 0.2877934\ttotal: 2.44s\tremaining: 327ms\n882:\tlearn: 0.2876754\ttotal: 2.44s\tremaining: 324ms\n883:\tlearn: 0.2875169\ttotal: 2.45s\tremaining: 321ms\n884:\tlearn: 0.2874780\ttotal: 2.45s\tremaining: 318ms\n885:\tlearn: 0.2874017\ttotal: 2.45s\tremaining: 316ms\n886:\tlearn: 0.2873675\ttotal: 2.45s\tremaining: 313ms\n887:\tlearn: 0.2872397\ttotal: 2.46s\tremaining: 310ms\n888:\tlearn: 0.2871615\ttotal: 2.46s\tremaining: 307ms\n889:\tlearn: 0.2871389\ttotal: 2.46s\tremaining: 304ms\n890:\tlearn: 0.2870436\ttotal: 2.46s\tremaining: 301ms\n891:\tlearn: 0.2869876\ttotal: 2.47s\tremaining: 299ms\n892:\tlearn: 0.2869477\ttotal: 2.47s\tremaining: 296ms\n893:\tlearn: 0.2868824\ttotal: 2.47s\tremaining: 293ms\n894:\tlearn: 0.2868067\ttotal: 2.47s\tremaining: 290ms\n895:\tlearn: 0.2867253\ttotal: 2.48s\tremaining: 287ms\n896:\tlearn: 0.2866021\ttotal: 2.48s\tremaining: 285ms\n897:\tlearn: 0.2865646\ttotal: 2.48s\tremaining: 282ms\n898:\tlearn: 0.2864434\ttotal: 2.48s\tremaining: 279ms\n899:\tlearn: 0.2863951\ttotal: 2.49s\tremaining: 276ms\n900:\tlearn: 0.2862616\ttotal: 2.49s\tremaining: 274ms\n901:\tlearn: 0.2862065\ttotal: 2.49s\tremaining: 271ms\n902:\tlearn: 0.2861660\ttotal: 2.49s\tremaining: 268ms\n903:\tlearn: 0.2861006\ttotal: 2.5s\tremaining: 265ms\n904:\tlearn: 0.2860276\ttotal: 2.5s\tremaining: 262ms\n905:\tlearn: 0.2859212\ttotal: 2.5s\tremaining: 260ms\n906:\tlearn: 0.2857822\ttotal: 2.5s\tremaining: 257ms\n907:\tlearn: 0.2857181\ttotal: 2.51s\tremaining: 254ms\n908:\tlearn: 0.2856281\ttotal: 2.51s\tremaining: 251ms\n909:\tlearn: 0.2855627\ttotal: 2.52s\tremaining: 249ms\n910:\tlearn: 0.2853856\ttotal: 2.52s\tremaining: 246ms\n911:\tlearn: 0.2852893\ttotal: 2.52s\tremaining: 243ms\n912:\tlearn: 0.2852603\ttotal: 2.53s\tremaining: 241ms\n913:\tlearn: 0.2851543\ttotal: 2.53s\tremaining: 238ms\n914:\tlearn: 0.2850441\ttotal: 2.53s\tremaining: 235ms\n915:\tlearn: 0.2849800\ttotal: 2.54s\tremaining: 233ms\n916:\tlearn: 0.2848740\ttotal: 2.54s\tremaining: 230ms\n917:\tlearn: 0.2848335\ttotal: 2.54s\tremaining: 227ms\n918:\tlearn: 0.2848061\ttotal: 2.54s\tremaining: 224ms\n919:\tlearn: 0.2847538\ttotal: 2.55s\tremaining: 222ms\n920:\tlearn: 0.2846001\ttotal: 2.55s\tremaining: 219ms\n921:\tlearn: 0.2845278\ttotal: 2.56s\tremaining: 216ms\n922:\tlearn: 0.2844261\ttotal: 2.56s\tremaining: 214ms\n923:\tlearn: 0.2843321\ttotal: 2.56s\tremaining: 211ms\n924:\tlearn: 0.2842687\ttotal: 2.57s\tremaining: 208ms\n925:\tlearn: 0.2840956\ttotal: 2.57s\tremaining: 205ms\n926:\tlearn: 0.2840069\ttotal: 2.57s\tremaining: 203ms\n927:\tlearn: 0.2838977\ttotal: 2.57s\tremaining: 200ms\n928:\tlearn: 0.2838267\ttotal: 2.58s\tremaining: 197ms\n929:\tlearn: 0.2837661\ttotal: 2.58s\tremaining: 194ms\n930:\tlearn: 0.2836632\ttotal: 2.58s\tremaining: 191ms\n931:\tlearn: 0.2835970\ttotal: 2.58s\tremaining: 189ms\n932:\tlearn: 0.2835544\ttotal: 2.58s\tremaining: 186ms\n933:\tlearn: 0.2834668\ttotal: 2.59s\tremaining: 183ms\n934:\tlearn: 0.2832212\ttotal: 2.59s\tremaining: 180ms\n935:\tlearn: 0.2831835\ttotal: 2.59s\tremaining: 177ms\n936:\tlearn: 0.2830192\ttotal: 2.6s\tremaining: 175ms\n937:\tlearn: 0.2826388\ttotal: 2.6s\tremaining: 172ms\n938:\tlearn: 0.2825658\ttotal: 2.6s\tremaining: 169ms\n939:\tlearn: 0.2824446\ttotal: 2.6s\tremaining: 166ms\n940:\tlearn: 0.2823953\ttotal: 2.6s\tremaining: 163ms\n941:\tlearn: 0.2821944\ttotal: 2.61s\tremaining: 161ms\n942:\tlearn: 0.2820347\ttotal: 2.61s\tremaining: 158ms\n943:\tlearn: 0.2819969\ttotal: 2.61s\tremaining: 155ms\n944:\tlearn: 0.2818942\ttotal: 2.62s\tremaining: 152ms\n945:\tlearn: 0.2816638\ttotal: 2.62s\tremaining: 149ms\n946:\tlearn: 0.2816181\ttotal: 2.62s\tremaining: 147ms\n947:\tlearn: 0.2815285\ttotal: 2.62s\tremaining: 144ms\n948:\tlearn: 0.2814819\ttotal: 2.63s\tremaining: 141ms\n949:\tlearn: 0.2813478\ttotal: 2.63s\tremaining: 138ms\n950:\tlearn: 0.2810009\ttotal: 2.63s\tremaining: 136ms\n951:\tlearn: 0.2809251\ttotal: 2.63s\tremaining: 133ms\n952:\tlearn: 0.2808455\ttotal: 2.63s\tremaining: 130ms\n953:\tlearn: 0.2807566\ttotal: 2.64s\tremaining: 127ms\n954:\tlearn: 0.2806335\ttotal: 2.64s\tremaining: 124ms\n955:\tlearn: 0.2805816\ttotal: 2.64s\tremaining: 122ms\n956:\tlearn: 0.2803378\ttotal: 2.65s\tremaining: 119ms\n957:\tlearn: 0.2802914\ttotal: 2.65s\tremaining: 116ms\n958:\tlearn: 0.2802179\ttotal: 2.65s\tremaining: 113ms\n959:\tlearn: 0.2800917\ttotal: 2.66s\tremaining: 111ms\n960:\tlearn: 0.2799105\ttotal: 2.66s\tremaining: 108ms\n961:\tlearn: 0.2796069\ttotal: 2.66s\tremaining: 105ms\n962:\tlearn: 0.2795735\ttotal: 2.66s\tremaining: 102ms\n963:\tlearn: 0.2794725\ttotal: 2.67s\tremaining: 99.6ms\n964:\tlearn: 0.2794278\ttotal: 2.67s\tremaining: 96.8ms\n965:\tlearn: 0.2793137\ttotal: 2.67s\tremaining: 94ms\n966:\tlearn: 0.2790958\ttotal: 2.67s\tremaining: 91.2ms\n967:\tlearn: 0.2790308\ttotal: 2.68s\tremaining: 88.5ms\n968:\tlearn: 0.2788114\ttotal: 2.68s\tremaining: 85.7ms\n969:\tlearn: 0.2787468\ttotal: 2.68s\tremaining: 82.9ms\n970:\tlearn: 0.2784745\ttotal: 2.68s\tremaining: 80.2ms\n971:\tlearn: 0.2782907\ttotal: 2.69s\tremaining: 77.5ms\n972:\tlearn: 0.2782659\ttotal: 2.69s\tremaining: 74.7ms\n973:\tlearn: 0.2781034\ttotal: 2.69s\tremaining: 72ms\n974:\tlearn: 0.2779824\ttotal: 2.7s\tremaining: 69.2ms\n975:\tlearn: 0.2779391\ttotal: 2.7s\tremaining: 66.5ms\n976:\tlearn: 0.2778874\ttotal: 2.71s\tremaining: 63.7ms\n977:\tlearn: 0.2777474\ttotal: 2.71s\tremaining: 60.9ms\n978:\tlearn: 0.2775230\ttotal: 2.71s\tremaining: 58.2ms\n979:\tlearn: 0.2774436\ttotal: 2.72s\tremaining: 55.4ms\n980:\tlearn: 0.2773886\ttotal: 2.72s\tremaining: 52.7ms\n981:\tlearn: 0.2770916\ttotal: 2.72s\tremaining: 49.9ms\n982:\tlearn: 0.2769547\ttotal: 2.72s\tremaining: 47.1ms\n983:\tlearn: 0.2768288\ttotal: 2.73s\tremaining: 44.3ms\n984:\tlearn: 0.2768113\ttotal: 2.73s\tremaining: 41.6ms\n985:\tlearn: 0.2767308\ttotal: 2.73s\tremaining: 38.8ms\n986:\tlearn: 0.2766590\ttotal: 2.73s\tremaining: 36ms\n987:\tlearn: 0.2766357\ttotal: 2.74s\tremaining: 33.2ms\n988:\tlearn: 0.2765683\ttotal: 2.74s\tremaining: 30.5ms\n989:\tlearn: 0.2764822\ttotal: 2.74s\tremaining: 27.7ms\n990:\tlearn: 0.2762658\ttotal: 2.74s\tremaining: 24.9ms\n991:\tlearn: 0.2761773\ttotal: 2.75s\tremaining: 22.1ms\n992:\tlearn: 0.2761162\ttotal: 2.75s\tremaining: 19.4ms\n993:\tlearn: 0.2759578\ttotal: 2.75s\tremaining: 16.6ms\n994:\tlearn: 0.2759103\ttotal: 2.75s\tremaining: 13.8ms\n995:\tlearn: 0.2757632\ttotal: 2.75s\tremaining: 11.1ms\n996:\tlearn: 0.2756779\ttotal: 2.76s\tremaining: 8.3ms\n997:\tlearn: 0.2755930\ttotal: 2.76s\tremaining: 5.53ms\n998:\tlearn: 0.2755336\ttotal: 2.76s\tremaining: 2.77ms\n999:\tlearn: 0.2754859\ttotal: 2.76s\tremaining: 0us\n",
     "output_type": "stream"
    },
    {
     "output_type": "execute_result",
     "execution_count": 26,
     "data": {
      "text/plain": "<pandas.io.formats.style.Styler at 0x7f9b2c14c1d0>",
      "text/html": "<style  type=\"text/css\" >\n#T_c7516_row0_col1,#T_c7516_row1_col1{\n            width:  10em;\n             height:  80%;\n            background:  linear-gradient(90deg,#5fba7d 83.5%, transparent 83.5%);\n        }#T_c7516_row0_col2,#T_c7516_row1_col2{\n            width:  10em;\n             height:  80%;\n            background:  linear-gradient(90deg,#5fba7d 81.5%, transparent 81.5%);\n        }#T_c7516_row2_col1{\n            width:  10em;\n             height:  80%;\n            background:  linear-gradient(90deg,#5fba7d 82.9%, transparent 82.9%);\n        }#T_c7516_row2_col2{\n            width:  10em;\n             height:  80%;\n            background:  linear-gradient(90deg,#5fba7d 80.7%, transparent 80.7%);\n        }#T_c7516_row3_col1{\n            width:  10em;\n             height:  80%;\n            background:  linear-gradient(90deg,#5fba7d 82.4%, transparent 82.4%);\n        }#T_c7516_row3_col2{\n            width:  10em;\n             height:  80%;\n            background:  linear-gradient(90deg,#5fba7d 80.6%, transparent 80.6%);\n        }#T_c7516_row4_col1{\n            width:  10em;\n             height:  80%;\n            background:  linear-gradient(90deg,#5fba7d 81.9%, transparent 81.9%);\n        }#T_c7516_row4_col2,#T_c7516_row5_col2,#T_c7516_row7_col1{\n            width:  10em;\n             height:  80%;\n            background:  linear-gradient(90deg,#5fba7d 80.5%, transparent 80.5%);\n        }#T_c7516_row5_col1{\n            width:  10em;\n             height:  80%;\n            background:  linear-gradient(90deg,#5fba7d 81.7%, transparent 81.7%);\n        }#T_c7516_row6_col1{\n            width:  10em;\n             height:  80%;\n            background:  linear-gradient(90deg,#5fba7d 80.8%, transparent 80.8%);\n        }#T_c7516_row6_col2{\n            width:  10em;\n             height:  80%;\n            background:  linear-gradient(90deg,#5fba7d 79.1%, transparent 79.1%);\n        }#T_c7516_row7_col2{\n            width:  10em;\n             height:  80%;\n            background:  linear-gradient(90deg,#5fba7d 78.9%, transparent 78.9%);\n        }#T_c7516_row8_col1{\n            width:  10em;\n             height:  80%;\n            background:  linear-gradient(90deg,#5fba7d 80.2%, transparent 80.2%);\n        }#T_c7516_row8_col2{\n            width:  10em;\n             height:  80%;\n            background:  linear-gradient(90deg,#5fba7d 78.7%, transparent 78.7%);\n        }</style><table id=\"T_c7516_\" ><thead>    <tr>        <th class=\"blank level0\" ></th>        <th class=\"col_heading level0 col0\" >Model</th>        <th class=\"col_heading level0 col1\" >Accuracy</th>        <th class=\"col_heading level0 col2\" >Bal Acc.</th>        <th class=\"col_heading level0 col3\" >Time</th>    </tr></thead><tbody>\n                <tr>\n                        <th id=\"T_c7516_level0_row0\" class=\"row_heading level0 row0\" >1</th>\n                        <td id=\"T_c7516_row0_col0\" class=\"data row0 col0\" >Skl GBM</td>\n                        <td id=\"T_c7516_row0_col1\" class=\"data row0 col1\" >83.501684</td>\n                        <td id=\"T_c7516_row0_col2\" class=\"data row0 col2\" >81.485476</td>\n                        <td id=\"T_c7516_row0_col3\" class=\"data row0 col3\" >1.343295</td>\n            </tr>\n            <tr>\n                        <th id=\"T_c7516_level0_row1\" class=\"row_heading level0 row1\" >2</th>\n                        <td id=\"T_c7516_row1_col0\" class=\"data row1 col0\" >Skl HistGBM</td>\n                        <td id=\"T_c7516_row1_col1\" class=\"data row1 col1\" >83.501684</td>\n                        <td id=\"T_c7516_row1_col2\" class=\"data row1 col2\" >81.485476</td>\n                        <td id=\"T_c7516_row1_col3\" class=\"data row1 col3\" >1.363973</td>\n            </tr>\n            <tr>\n                        <th id=\"T_c7516_level0_row2\" class=\"row_heading level0 row2\" >3</th>\n                        <td id=\"T_c7516_row2_col0\" class=\"data row2 col0\" >CatBoost</td>\n                        <td id=\"T_c7516_row2_col1\" class=\"data row2 col1\" >82.940516</td>\n                        <td id=\"T_c7516_row2_col2\" class=\"data row2 col2\" >80.699358</td>\n                        <td id=\"T_c7516_row2_col3\" class=\"data row2 col3\" >16.969239</td>\n            </tr>\n            <tr>\n                        <th id=\"T_c7516_level0_row3\" class=\"row_heading level0 row3\" >4</th>\n                        <td id=\"T_c7516_row3_col0\" class=\"data row3 col0\" >LightGBM</td>\n                        <td id=\"T_c7516_row3_col1\" class=\"data row3 col1\" >82.379349</td>\n                        <td id=\"T_c7516_row3_col2\" class=\"data row3 col2\" >80.629853</td>\n                        <td id=\"T_c7516_row3_col3\" class=\"data row3 col3\" >1.086854</td>\n            </tr>\n            <tr>\n                        <th id=\"T_c7516_level0_row4\" class=\"row_heading level0 row4\" >5</th>\n                        <td id=\"T_c7516_row4_col0\" class=\"data row4 col0\" >XGBoost</td>\n                        <td id=\"T_c7516_row4_col1\" class=\"data row4 col1\" >81.930415</td>\n                        <td id=\"T_c7516_row4_col2\" class=\"data row4 col2\" >80.541175</td>\n                        <td id=\"T_c7516_row4_col3\" class=\"data row4 col3\" >1.606801</td>\n            </tr>\n            <tr>\n                        <th id=\"T_c7516_level0_row5\" class=\"row_heading level0 row5\" >6</th>\n                        <td id=\"T_c7516_row5_col0\" class=\"data row5 col0\" >AdaBoost</td>\n                        <td id=\"T_c7516_row5_col1\" class=\"data row5 col1\" >81.705948</td>\n                        <td id=\"T_c7516_row5_col2\" class=\"data row5 col2\" >80.469274</td>\n                        <td id=\"T_c7516_row5_col3\" class=\"data row5 col3\" >1.172006</td>\n            </tr>\n            <tr>\n                        <th id=\"T_c7516_level0_row6\" class=\"row_heading level0 row6\" >7</th>\n                        <td id=\"T_c7516_row6_col0\" class=\"data row6 col0\" >Random Forest</td>\n                        <td id=\"T_c7516_row6_col1\" class=\"data row6 col1\" >80.808081</td>\n                        <td id=\"T_c7516_row6_col2\" class=\"data row6 col2\" >79.134311</td>\n                        <td id=\"T_c7516_row6_col3\" class=\"data row6 col3\" >2.198112</td>\n            </tr>\n            <tr>\n                        <th id=\"T_c7516_level0_row7\" class=\"row_heading level0 row7\" >8</th>\n                        <td id=\"T_c7516_row7_col0\" class=\"data row7 col0\" >Extra Trees</td>\n                        <td id=\"T_c7516_row7_col1\" class=\"data row7 col1\" >80.471380</td>\n                        <td id=\"T_c7516_row7_col2\" class=\"data row7 col2\" >78.916211</td>\n                        <td id=\"T_c7516_row7_col3\" class=\"data row7 col3\" >1.812095</td>\n            </tr>\n            <tr>\n                        <th id=\"T_c7516_level0_row8\" class=\"row_heading level0 row8\" >9</th>\n                        <td id=\"T_c7516_row8_col0\" class=\"data row8 col0\" >Decision Tree</td>\n                        <td id=\"T_c7516_row8_col1\" class=\"data row8 col1\" >80.246914</td>\n                        <td id=\"T_c7516_row8_col2\" class=\"data row8 col2\" >78.734062</td>\n                        <td id=\"T_c7516_row8_col3\" class=\"data row8 col3\" >0.208418</td>\n            </tr>\n    </tbody></table>"
     },
     "metadata": {}
    }
   ]
  },
  {
   "cell_type": "markdown",
   "source": "**Training with all data the best model**",
   "metadata": {
    "id": "-7Si9ngzGTJP",
    "cell_id": "00043-69a2aaf9-e5c4-4691-b9a5-1384206a6ef9",
    "deepnote_cell_type": "markdown"
   }
  },
  {
   "cell_type": "code",
   "metadata": {
    "tags": [],
    "cell_id": "00044-14947491-3d5a-4879-9ac0-9f43eadbcab4",
    "deepnote_to_be_reexecuted": false,
    "source_hash": "752f0ad",
    "execution_start": 1620745969018,
    "execution_millis": 0,
    "deepnote_cell_type": "code"
   },
   "source": "import optuna\nimport sklearn\nfrom sklearn import datasets\ndef objective(trial):\n\n    skf = model_selection.StratifiedKFold(n_splits=10, random_state=0, shuffle=True)\n\n    tree_prepro.fit_transform(x)\n\n    n_estimators = trial.suggest_int('n_estimators', 2, 20)\n\n    max_depth = int(trial.suggest_loguniform('max_depth', 1, 32))\n    clf=pipeline.make_pipeline(tree_prepro, GradientBoostingClassifier(n_estimators=n_estimators, max_depth=max_depth))\n\n\n    return sklearn.model_selection.cross_val_score(clf, x, y, cv=skf).mean()\n",
   "execution_count": null,
   "outputs": []
  },
  {
   "cell_type": "code",
   "metadata": {
    "tags": [],
    "cell_id": "00044-5cc8c1f7-2e77-44b3-9080-2d748d9b657f",
    "deepnote_to_be_reexecuted": false,
    "source_hash": "33e45f0c",
    "execution_start": 1620745888878,
    "execution_millis": 62,
    "deepnote_cell_type": "code"
   },
   "source": "clf = DecisionTreeClassifier()\nsklearn.model_selection.cross_val_score(clf, x, y, cv=5).mean()",
   "execution_count": null,
   "outputs": [
    {
     "name": "stderr",
     "text": "/shared-libs/python3.7/py/lib/python3.7/site-packages/sklearn/model_selection/_validation.py:619: FitFailedWarning: Estimator fit failed. The score on this train-test partition for these parameters will be set to nan. Details: \nTraceback (most recent call last):\n  File \"/shared-libs/python3.7/py/lib/python3.7/site-packages/sklearn/model_selection/_validation.py\", line 598, in _fit_and_score\n    estimator.fit(X_train, y_train, **fit_params)\n  File \"/shared-libs/python3.7/py/lib/python3.7/site-packages/sklearn/tree/_classes.py\", line 907, in fit\n    X_idx_sorted=X_idx_sorted)\n  File \"/shared-libs/python3.7/py/lib/python3.7/site-packages/sklearn/tree/_classes.py\", line 159, in fit\n    check_y_params))\n  File \"/shared-libs/python3.7/py/lib/python3.7/site-packages/sklearn/base.py\", line 430, in _validate_data\n    X = check_array(X, **check_X_params)\n  File \"/shared-libs/python3.7/py/lib/python3.7/site-packages/sklearn/utils/validation.py\", line 63, in inner_f\n    return f(*args, **kwargs)\n  File \"/shared-libs/python3.7/py/lib/python3.7/site-packages/sklearn/utils/validation.py\", line 673, in check_array\n    array = np.asarray(array, order=order, dtype=dtype)\n  File \"/shared-libs/python3.7/py/lib/python3.7/site-packages/numpy/core/_asarray.py\", line 83, in asarray\n    return array(a, dtype, copy=False, order=order)\n  File \"/shared-libs/python3.7/py/lib/python3.7/site-packages/pandas/core/generic.py\", line 1899, in __array__\n    return np.asarray(self._values, dtype=dtype)\n  File \"/shared-libs/python3.7/py/lib/python3.7/site-packages/numpy/core/_asarray.py\", line 83, in asarray\n    return array(a, dtype, copy=False, order=order)\nValueError: could not convert string to float: 'male'\n\n  FitFailedWarning)\n/shared-libs/python3.7/py/lib/python3.7/site-packages/sklearn/model_selection/_validation.py:619: FitFailedWarning: Estimator fit failed. The score on this train-test partition for these parameters will be set to nan. Details: \nTraceback (most recent call last):\n  File \"/shared-libs/python3.7/py/lib/python3.7/site-packages/sklearn/model_selection/_validation.py\", line 598, in _fit_and_score\n    estimator.fit(X_train, y_train, **fit_params)\n  File \"/shared-libs/python3.7/py/lib/python3.7/site-packages/sklearn/tree/_classes.py\", line 907, in fit\n    X_idx_sorted=X_idx_sorted)\n  File \"/shared-libs/python3.7/py/lib/python3.7/site-packages/sklearn/tree/_classes.py\", line 159, in fit\n    check_y_params))\n  File \"/shared-libs/python3.7/py/lib/python3.7/site-packages/sklearn/base.py\", line 430, in _validate_data\n    X = check_array(X, **check_X_params)\n  File \"/shared-libs/python3.7/py/lib/python3.7/site-packages/sklearn/utils/validation.py\", line 63, in inner_f\n    return f(*args, **kwargs)\n  File \"/shared-libs/python3.7/py/lib/python3.7/site-packages/sklearn/utils/validation.py\", line 673, in check_array\n    array = np.asarray(array, order=order, dtype=dtype)\n  File \"/shared-libs/python3.7/py/lib/python3.7/site-packages/numpy/core/_asarray.py\", line 83, in asarray\n    return array(a, dtype, copy=False, order=order)\n  File \"/shared-libs/python3.7/py/lib/python3.7/site-packages/pandas/core/generic.py\", line 1899, in __array__\n    return np.asarray(self._values, dtype=dtype)\n  File \"/shared-libs/python3.7/py/lib/python3.7/site-packages/numpy/core/_asarray.py\", line 83, in asarray\n    return array(a, dtype, copy=False, order=order)\nValueError: could not convert string to float: 'male'\n\n  FitFailedWarning)\n/shared-libs/python3.7/py/lib/python3.7/site-packages/sklearn/model_selection/_validation.py:619: FitFailedWarning: Estimator fit failed. The score on this train-test partition for these parameters will be set to nan. Details: \nTraceback (most recent call last):\n  File \"/shared-libs/python3.7/py/lib/python3.7/site-packages/sklearn/model_selection/_validation.py\", line 598, in _fit_and_score\n    estimator.fit(X_train, y_train, **fit_params)\n  File \"/shared-libs/python3.7/py/lib/python3.7/site-packages/sklearn/tree/_classes.py\", line 907, in fit\n    X_idx_sorted=X_idx_sorted)\n  File \"/shared-libs/python3.7/py/lib/python3.7/site-packages/sklearn/tree/_classes.py\", line 159, in fit\n    check_y_params))\n  File \"/shared-libs/python3.7/py/lib/python3.7/site-packages/sklearn/base.py\", line 430, in _validate_data\n    X = check_array(X, **check_X_params)\n  File \"/shared-libs/python3.7/py/lib/python3.7/site-packages/sklearn/utils/validation.py\", line 63, in inner_f\n    return f(*args, **kwargs)\n  File \"/shared-libs/python3.7/py/lib/python3.7/site-packages/sklearn/utils/validation.py\", line 673, in check_array\n    array = np.asarray(array, order=order, dtype=dtype)\n  File \"/shared-libs/python3.7/py/lib/python3.7/site-packages/numpy/core/_asarray.py\", line 83, in asarray\n    return array(a, dtype, copy=False, order=order)\n  File \"/shared-libs/python3.7/py/lib/python3.7/site-packages/pandas/core/generic.py\", line 1899, in __array__\n    return np.asarray(self._values, dtype=dtype)\n  File \"/shared-libs/python3.7/py/lib/python3.7/site-packages/numpy/core/_asarray.py\", line 83, in asarray\n    return array(a, dtype, copy=False, order=order)\nValueError: could not convert string to float: 'male'\n\n  FitFailedWarning)\n/shared-libs/python3.7/py/lib/python3.7/site-packages/sklearn/model_selection/_validation.py:619: FitFailedWarning: Estimator fit failed. The score on this train-test partition for these parameters will be set to nan. Details: \nTraceback (most recent call last):\n  File \"/shared-libs/python3.7/py/lib/python3.7/site-packages/sklearn/model_selection/_validation.py\", line 598, in _fit_and_score\n    estimator.fit(X_train, y_train, **fit_params)\n  File \"/shared-libs/python3.7/py/lib/python3.7/site-packages/sklearn/tree/_classes.py\", line 907, in fit\n    X_idx_sorted=X_idx_sorted)\n  File \"/shared-libs/python3.7/py/lib/python3.7/site-packages/sklearn/tree/_classes.py\", line 159, in fit\n    check_y_params))\n  File \"/shared-libs/python3.7/py/lib/python3.7/site-packages/sklearn/base.py\", line 430, in _validate_data\n    X = check_array(X, **check_X_params)\n  File \"/shared-libs/python3.7/py/lib/python3.7/site-packages/sklearn/utils/validation.py\", line 63, in inner_f\n    return f(*args, **kwargs)\n  File \"/shared-libs/python3.7/py/lib/python3.7/site-packages/sklearn/utils/validation.py\", line 673, in check_array\n    array = np.asarray(array, order=order, dtype=dtype)\n  File \"/shared-libs/python3.7/py/lib/python3.7/site-packages/numpy/core/_asarray.py\", line 83, in asarray\n    return array(a, dtype, copy=False, order=order)\n  File \"/shared-libs/python3.7/py/lib/python3.7/site-packages/pandas/core/generic.py\", line 1899, in __array__\n    return np.asarray(self._values, dtype=dtype)\n  File \"/shared-libs/python3.7/py/lib/python3.7/site-packages/numpy/core/_asarray.py\", line 83, in asarray\n    return array(a, dtype, copy=False, order=order)\nValueError: could not convert string to float: 'male'\n\n  FitFailedWarning)\n/shared-libs/python3.7/py/lib/python3.7/site-packages/sklearn/model_selection/_validation.py:619: FitFailedWarning: Estimator fit failed. The score on this train-test partition for these parameters will be set to nan. Details: \nTraceback (most recent call last):\n  File \"/shared-libs/python3.7/py/lib/python3.7/site-packages/sklearn/model_selection/_validation.py\", line 598, in _fit_and_score\n    estimator.fit(X_train, y_train, **fit_params)\n  File \"/shared-libs/python3.7/py/lib/python3.7/site-packages/sklearn/tree/_classes.py\", line 907, in fit\n    X_idx_sorted=X_idx_sorted)\n  File \"/shared-libs/python3.7/py/lib/python3.7/site-packages/sklearn/tree/_classes.py\", line 159, in fit\n    check_y_params))\n  File \"/shared-libs/python3.7/py/lib/python3.7/site-packages/sklearn/base.py\", line 430, in _validate_data\n    X = check_array(X, **check_X_params)\n  File \"/shared-libs/python3.7/py/lib/python3.7/site-packages/sklearn/utils/validation.py\", line 63, in inner_f\n    return f(*args, **kwargs)\n  File \"/shared-libs/python3.7/py/lib/python3.7/site-packages/sklearn/utils/validation.py\", line 673, in check_array\n    array = np.asarray(array, order=order, dtype=dtype)\n  File \"/shared-libs/python3.7/py/lib/python3.7/site-packages/numpy/core/_asarray.py\", line 83, in asarray\n    return array(a, dtype, copy=False, order=order)\n  File \"/shared-libs/python3.7/py/lib/python3.7/site-packages/pandas/core/generic.py\", line 1899, in __array__\n    return np.asarray(self._values, dtype=dtype)\n  File \"/shared-libs/python3.7/py/lib/python3.7/site-packages/numpy/core/_asarray.py\", line 83, in asarray\n    return array(a, dtype, copy=False, order=order)\nValueError: could not convert string to float: 'male'\n\n  FitFailedWarning)\n",
     "output_type": "stream"
    },
    {
     "output_type": "execute_result",
     "execution_count": 49,
     "data": {
      "text/plain": "nan"
     },
     "metadata": {}
    }
   ]
  },
  {
   "cell_type": "code",
   "metadata": {
    "tags": [],
    "cell_id": "00045-cb9a4bd8-50ef-4d74-abb2-e6952cf1550c",
    "deepnote_to_be_reexecuted": false,
    "source_hash": "f8a3c1d1",
    "execution_start": 1620745973370,
    "execution_millis": 48936,
    "deepnote_cell_type": "code"
   },
   "source": "study = optuna.create_study(direction='maximize')\nstudy.optimize(objective, n_trials=100)",
   "execution_count": null,
   "outputs": [
    {
     "name": "stderr",
     "text": "\u001b[32m[I 2021-05-11 15:12:53,364]\u001b[0m A new study created in memory with name: no-name-92059e0f-f1fa-43a3-b179-075cb3c09a18\u001b[0m\n\u001b[32m[I 2021-05-11 15:12:54,251]\u001b[0m Trial 0 finished with value: 0.7990886392009988 and parameters: {'n_estimators': 9, 'max_depth': 13.780976922527666}. Best is trial 0 with value: 0.7990886392009988.\u001b[0m\n\u001b[32m[I 2021-05-11 15:12:54,614]\u001b[0m Trial 1 finished with value: 0.8091510611735331 and parameters: {'n_estimators': 13, 'max_depth': 2.572290214598924}. Best is trial 1 with value: 0.8091510611735331.\u001b[0m\n\u001b[32m[I 2021-05-11 15:12:54,942]\u001b[0m Trial 2 finished with value: 0.7855680399500624 and parameters: {'n_estimators': 12, 'max_depth': 1.0099102854055846}. Best is trial 1 with value: 0.8091510611735331.\u001b[0m\n\u001b[32m[I 2021-05-11 15:12:55,225]\u001b[0m Trial 3 finished with value: 0.7866916354556804 and parameters: {'n_estimators': 10, 'max_depth': 1.265093292779183}. Best is trial 1 with value: 0.8091510611735331.\u001b[0m\n\u001b[32m[I 2021-05-11 15:12:55,598]\u001b[0m Trial 4 finished with value: 0.7855930087390763 and parameters: {'n_estimators': 20, 'max_depth': 1.2835820851525734}. Best is trial 1 with value: 0.8091510611735331.\u001b[0m\n\u001b[32m[I 2021-05-11 15:12:55,951]\u001b[0m Trial 5 finished with value: 0.7855930087390763 and parameters: {'n_estimators': 20, 'max_depth': 1.4436278186521425}. Best is trial 1 with value: 0.8091510611735331.\u001b[0m\n\u001b[32m[I 2021-05-11 15:12:56,238]\u001b[0m Trial 6 finished with value: 0.7866916354556804 and parameters: {'n_estimators': 10, 'max_depth': 1.6742114995510768}. Best is trial 1 with value: 0.8091510611735331.\u001b[0m\n\u001b[32m[I 2021-05-11 15:12:57,093]\u001b[0m Trial 7 finished with value: 0.7957053682896379 and parameters: {'n_estimators': 9, 'max_depth': 16.491079474331475}. Best is trial 1 with value: 0.8091510611735331.\u001b[0m\n\u001b[32m[I 2021-05-11 15:12:58,525]\u001b[0m Trial 8 finished with value: 0.7990761548064919 and parameters: {'n_estimators': 17, 'max_depth': 19.767845060437466}. Best is trial 1 with value: 0.8091510611735331.\u001b[0m\n\u001b[32m[I 2021-05-11 15:12:58,894]\u001b[0m Trial 9 finished with value: 0.8181398252184771 and parameters: {'n_estimators': 17, 'max_depth': 2.666099125488211}. Best is trial 9 with value: 0.8181398252184771.\u001b[0m\n\u001b[32m[I 2021-05-11 15:12:59,187]\u001b[0m Trial 10 finished with value: 0.799076154806492 and parameters: {'n_estimators': 3, 'max_depth': 5.438979538261148}. Best is trial 9 with value: 0.8181398252184771.\u001b[0m\n\u001b[32m[I 2021-05-11 15:12:59,605]\u001b[0m Trial 11 finished with value: 0.8282771535580524 and parameters: {'n_estimators': 15, 'max_depth': 3.5212278287821506}. Best is trial 11 with value: 0.8282771535580524.\u001b[0m\n\u001b[32m[I 2021-05-11 15:13:00,052]\u001b[0m Trial 12 finished with value: 0.8305243445692885 and parameters: {'n_estimators': 16, 'max_depth': 3.9960722676378517}. Best is trial 12 with value: 0.8305243445692885.\u001b[0m\n\u001b[32m[I 2021-05-11 15:13:00,665]\u001b[0m Trial 13 finished with value: 0.8361298377028715 and parameters: {'n_estimators': 15, 'max_depth': 6.323759433042683}. Best is trial 13 with value: 0.8361298377028715.\u001b[0m\n\u001b[32m[I 2021-05-11 15:13:01,889]\u001b[0m Trial 14 finished with value: 0.8136454431960048 and parameters: {'n_estimators': 16, 'max_depth': 10.090012655157963}. Best is trial 13 with value: 0.8361298377028715.\u001b[0m\n\u001b[32m[I 2021-05-11 15:13:02,318]\u001b[0m Trial 15 finished with value: 0.8181647940074906 and parameters: {'n_estimators': 6, 'max_depth': 6.8558895778467965}. Best is trial 13 with value: 0.8361298377028715.\u001b[0m\n\u001b[32m[I 2021-05-11 15:13:03,581]\u001b[0m Trial 16 finished with value: 0.7990761548064919 and parameters: {'n_estimators': 14, 'max_depth': 30.23743824225306}. Best is trial 13 with value: 0.8361298377028715.\u001b[0m\n\u001b[32m[I 2021-05-11 15:13:04,168]\u001b[0m Trial 17 finished with value: 0.8327340823970036 and parameters: {'n_estimators': 19, 'max_depth': 5.2740861918890065}. Best is trial 13 with value: 0.8361298377028715.\u001b[0m\n\u001b[32m[I 2021-05-11 15:13:05,034]\u001b[0m Trial 18 finished with value: 0.8360923845193508 and parameters: {'n_estimators': 19, 'max_depth': 7.807412954565374}. Best is trial 13 with value: 0.8361298377028715.\u001b[0m\n\u001b[32m[I 2021-05-11 15:13:06,170]\u001b[0m Trial 19 finished with value: 0.8170162297128589 and parameters: {'n_estimators': 18, 'max_depth': 9.722335461970312}. Best is trial 13 with value: 0.8361298377028715.\u001b[0m\n\u001b[32m[I 2021-05-11 15:13:06,977]\u001b[0m Trial 20 finished with value: 0.8226342072409489 and parameters: {'n_estimators': 14, 'max_depth': 8.58941386077731}. Best is trial 13 with value: 0.8361298377028715.\u001b[0m\n\u001b[32m[I 2021-05-11 15:13:07,566]\u001b[0m Trial 21 finished with value: 0.8338576779026216 and parameters: {'n_estimators': 19, 'max_depth': 5.356340713647076}. Best is trial 13 with value: 0.8361298377028715.\u001b[0m\n\u001b[32m[I 2021-05-11 15:13:08,462]\u001b[0m Trial 22 finished with value: 0.8316104868913857 and parameters: {'n_estimators': 20, 'max_depth': 7.116541944321153}. Best is trial 13 with value: 0.8361298377028715.\u001b[0m\n\u001b[32m[I 2021-05-11 15:13:08,997]\u001b[0m Trial 23 finished with value: 0.8293757802746565 and parameters: {'n_estimators': 18, 'max_depth': 4.656496483493359}. Best is trial 13 with value: 0.8361298377028715.\u001b[0m\n\u001b[32m[I 2021-05-11 15:13:10,590]\u001b[0m Trial 24 finished with value: 0.8001747815230962 and parameters: {'n_estimators': 19, 'max_depth': 12.266484502950505}. Best is trial 13 with value: 0.8361298377028715.\u001b[0m\n\u001b[32m[I 2021-05-11 15:13:11,248]\u001b[0m Trial 25 finished with value: 0.8372534332084894 and parameters: {'n_estimators': 15, 'max_depth': 6.9877850431503825}. Best is trial 25 with value: 0.8372534332084894.\u001b[0m\n\u001b[32m[I 2021-05-11 15:13:11,903]\u001b[0m Trial 26 finished with value: 0.8260049937578028 and parameters: {'n_estimators': 12, 'max_depth': 7.397644593153893}. Best is trial 25 with value: 0.8372534332084894.\u001b[0m\n\u001b[32m[I 2021-05-11 15:13:12,346]\u001b[0m Trial 27 finished with value: 0.8294007490636706 and parameters: {'n_estimators': 15, 'max_depth': 3.0630644776120506}. Best is trial 25 with value: 0.8372534332084894.\u001b[0m\n\u001b[32m[I 2021-05-11 15:13:13,516]\u001b[0m Trial 28 finished with value: 0.7990761548064917 and parameters: {'n_estimators': 13, 'max_depth': 21.379952971839757}. Best is trial 25 with value: 0.8372534332084894.\u001b[0m\n\u001b[32m[I 2021-05-11 15:13:14,868]\u001b[0m Trial 29 finished with value: 0.795692883895131 and parameters: {'n_estimators': 16, 'max_depth': 13.86768027322687}. Best is trial 25 with value: 0.8372534332084894.\u001b[0m\n\u001b[32m[I 2021-05-11 15:13:16,043]\u001b[0m Trial 30 finished with value: 0.810287141073658 and parameters: {'n_estimators': 14, 'max_depth': 11.677203206795472}. Best is trial 25 with value: 0.8372534332084894.\u001b[0m\n\u001b[32m[I 2021-05-11 15:13:16,732]\u001b[0m Trial 31 finished with value: 0.8293882646691635 and parameters: {'n_estimators': 18, 'max_depth': 6.303567310782539}. Best is trial 25 with value: 0.8372534332084894.\u001b[0m\n\u001b[32m[I 2021-05-11 15:13:17,036]\u001b[0m Trial 32 finished with value: 0.8406242197253432 and parameters: {'n_estimators': 7, 'max_depth': 4.862786659333275}. Best is trial 32 with value: 0.8406242197253432.\u001b[0m\n\u001b[32m[I 2021-05-11 15:13:17,358]\u001b[0m Trial 33 finished with value: 0.8406242197253432 and parameters: {'n_estimators': 7, 'max_depth': 4.102215771495223}. Best is trial 32 with value: 0.8406242197253432.\u001b[0m\n\u001b[32m[I 2021-05-11 15:13:17,639]\u001b[0m Trial 34 finished with value: 0.7866916354556804 and parameters: {'n_estimators': 7, 'max_depth': 1.949401120149248}. Best is trial 32 with value: 0.8406242197253432.\u001b[0m\n\u001b[32m[I 2021-05-11 15:13:17,908]\u001b[0m Trial 35 finished with value: 0.8002372034956305 and parameters: {'n_estimators': 4, 'max_depth': 3.9630678290355403}. Best is trial 32 with value: 0.8406242197253432.\u001b[0m\n\u001b[32m[I 2021-05-11 15:13:18,208]\u001b[0m Trial 36 finished with value: 0.7957303370786517 and parameters: {'n_estimators': 7, 'max_depth': 2.344155807501508}. Best is trial 32 with value: 0.8406242197253432.\u001b[0m\n\u001b[32m[I 2021-05-11 15:13:18,571]\u001b[0m Trial 37 finished with value: 0.8159300873907614 and parameters: {'n_estimators': 5, 'max_depth': 4.554110633971081}. Best is trial 32 with value: 0.8406242197253432.\u001b[0m\n\u001b[32m[I 2021-05-11 15:13:18,905]\u001b[0m Trial 38 finished with value: 0.8293757802746565 and parameters: {'n_estimators': 9, 'max_depth': 3.1179954330290793}. Best is trial 32 with value: 0.8406242197253432.\u001b[0m\n\u001b[32m[I 2021-05-11 15:13:19,297]\u001b[0m Trial 39 finished with value: 0.8372534332084893 and parameters: {'n_estimators': 11, 'max_depth': 4.2394389376954456}. Best is trial 32 with value: 0.8406242197253432.\u001b[0m\n\u001b[32m[I 2021-05-11 15:13:19,651]\u001b[0m Trial 40 finished with value: 0.8069038701622973 and parameters: {'n_estimators': 11, 'max_depth': 2.351650559962484}. Best is trial 32 with value: 0.8406242197253432.\u001b[0m\n\u001b[32m[I 2021-05-11 15:13:20,073]\u001b[0m Trial 41 finished with value: 0.8271410736579277 and parameters: {'n_estimators': 8, 'max_depth': 6.024103035873795}. Best is trial 32 with value: 0.8406242197253432.\u001b[0m\n\u001b[32m[I 2021-05-11 15:13:20,460]\u001b[0m Trial 42 finished with value: 0.8395006242197253 and parameters: {'n_estimators': 10, 'max_depth': 4.431138285466659}. Best is trial 32 with value: 0.8406242197253432.\u001b[0m\n\u001b[32m[I 2021-05-11 15:13:20,828]\u001b[0m Trial 43 finished with value: 0.8395006242197253 and parameters: {'n_estimators': 10, 'max_depth': 4.4665178691066645}. Best is trial 32 with value: 0.8406242197253432.\u001b[0m\n\u001b[32m[I 2021-05-11 15:13:21,204]\u001b[0m Trial 44 finished with value: 0.8293757802746565 and parameters: {'n_estimators': 9, 'max_depth': 3.4460260326514307}. Best is trial 32 with value: 0.8406242197253432.\u001b[0m\n\u001b[32m[I 2021-05-11 15:13:21,587]\u001b[0m Trial 45 finished with value: 0.8395006242197253 and parameters: {'n_estimators': 10, 'max_depth': 4.854136158146649}. Best is trial 32 with value: 0.8406242197253432.\u001b[0m\n\u001b[32m[I 2021-05-11 15:13:21,905]\u001b[0m Trial 46 finished with value: 0.7934831460674158 and parameters: {'n_estimators': 10, 'max_depth': 2.7763594658109176}. Best is trial 32 with value: 0.8406242197253432.\u001b[0m\n\u001b[32m[I 2021-05-11 15:13:22,296]\u001b[0m Trial 47 finished with value: 0.8383770287141072 and parameters: {'n_estimators': 8, 'max_depth': 4.916533364137042}. Best is trial 32 with value: 0.8406242197253432.\u001b[0m\n\u001b[32m[I 2021-05-11 15:13:22,604]\u001b[0m Trial 48 finished with value: 0.8002247191011236 and parameters: {'n_estimators': 6, 'max_depth': 3.4989117883712093}. Best is trial 32 with value: 0.8406242197253432.\u001b[0m\n\u001b[32m[I 2021-05-11 15:13:22,980]\u001b[0m Trial 49 finished with value: 0.8395006242197253 and parameters: {'n_estimators': 10, 'max_depth': 4.031152121588916}. Best is trial 32 with value: 0.8406242197253432.\u001b[0m\n\u001b[32m[I 2021-05-11 15:13:23,233]\u001b[0m Trial 50 finished with value: 0.616167290886392 and parameters: {'n_estimators': 2, 'max_depth': 3.9480322425080185}. Best is trial 32 with value: 0.8406242197253432.\u001b[0m\n\u001b[32m[I 2021-05-11 15:13:23,669]\u001b[0m Trial 51 finished with value: 0.8248813982521848 and parameters: {'n_estimators': 10, 'max_depth': 5.425895013339751}. Best is trial 32 with value: 0.8406242197253432.\u001b[0m\n\u001b[32m[I 2021-05-11 15:13:24,013]\u001b[0m Trial 52 finished with value: 0.8159300873907614 and parameters: {'n_estimators': 8, 'max_depth': 3.6644993904586483}. Best is trial 32 with value: 0.8406242197253432.\u001b[0m\n\u001b[32m[I 2021-05-11 15:13:24,372]\u001b[0m Trial 53 finished with value: 0.8091510611735331 and parameters: {'n_estimators': 12, 'max_depth': 2.9980736060299655}. Best is trial 32 with value: 0.8406242197253432.\u001b[0m\n\u001b[32m[I 2021-05-11 15:13:24,762]\u001b[0m Trial 54 finished with value: 0.8395006242197253 and parameters: {'n_estimators': 10, 'max_depth': 4.657408086276157}. Best is trial 32 with value: 0.8406242197253432.\u001b[0m\n\u001b[32m[I 2021-05-11 15:13:25,108]\u001b[0m Trial 55 finished with value: 0.8248813982521848 and parameters: {'n_estimators': 7, 'max_depth': 5.008409758768736}. Best is trial 32 with value: 0.8406242197253432.\u001b[0m\n\u001b[32m[I 2021-05-11 15:13:25,528]\u001b[0m Trial 56 finished with value: 0.8260049937578028 and parameters: {'n_estimators': 9, 'max_depth': 5.755987535370144}. Best is trial 32 with value: 0.8406242197253432.\u001b[0m\n\u001b[32m[I 2021-05-11 15:13:25,937]\u001b[0m Trial 57 finished with value: 0.8271410736579277 and parameters: {'n_estimators': 12, 'max_depth': 4.23136554256228}. Best is trial 32 with value: 0.8406242197253432.\u001b[0m\n\u001b[32m[I 2021-05-11 15:13:26,222]\u001b[0m Trial 58 finished with value: 0.7923595505617979 and parameters: {'n_estimators': 6, 'max_depth': 2.037384814739037}. Best is trial 32 with value: 0.8406242197253432.\u001b[0m\n\u001b[32m[I 2021-05-11 15:13:26,606]\u001b[0m Trial 59 finished with value: 0.8271285892634207 and parameters: {'n_estimators': 11, 'max_depth': 3.3993056162798116}. Best is trial 32 with value: 0.8406242197253432.\u001b[0m\n\u001b[32m[I 2021-05-11 15:13:27,298]\u001b[0m Trial 60 finished with value: 0.8260174781523096 and parameters: {'n_estimators': 10, 'max_depth': 9.211494175424567}. Best is trial 32 with value: 0.8406242197253432.\u001b[0m\n\u001b[32m[I 2021-05-11 15:13:27,640]\u001b[0m Trial 61 finished with value: 0.8383770287141072 and parameters: {'n_estimators': 8, 'max_depth': 4.708623318089957}. Best is trial 32 with value: 0.8406242197253432.\u001b[0m\n\u001b[32m[I 2021-05-11 15:13:28,020]\u001b[0m Trial 62 finished with value: 0.8395006242197253 and parameters: {'n_estimators': 10, 'max_depth': 4.395018505688789}. Best is trial 32 with value: 0.8406242197253432.\u001b[0m\n\u001b[32m[I 2021-05-11 15:13:28,388]\u001b[0m Trial 63 finished with value: 0.8350062421972533 and parameters: {'n_estimators': 9, 'max_depth': 4.294354332605114}. Best is trial 32 with value: 0.8406242197253432.\u001b[0m\n\u001b[32m[I 2021-05-11 15:13:28,798]\u001b[0m Trial 64 finished with value: 0.8304993757802748 and parameters: {'n_estimators': 13, 'max_depth': 3.837805747704293}. Best is trial 32 with value: 0.8406242197253432.\u001b[0m\n\u001b[32m[I 2021-05-11 15:13:29,405]\u001b[0m Trial 65 finished with value: 0.8271285892634207 and parameters: {'n_estimators': 10, 'max_depth': 8.191496919467848}. Best is trial 32 with value: 0.8406242197253432.\u001b[0m\n\u001b[32m[I 2021-05-11 15:13:29,791]\u001b[0m Trial 66 finished with value: 0.8249063670411985 and parameters: {'n_estimators': 5, 'max_depth': 6.561865739839543}. Best is trial 32 with value: 0.8406242197253432.\u001b[0m\n\u001b[32m[I 2021-05-11 15:13:30,104]\u001b[0m Trial 67 finished with value: 0.7855680399500624 and parameters: {'n_estimators': 12, 'max_depth': 1.0127146808187573}. Best is trial 32 with value: 0.8406242197253432.\u001b[0m\n\u001b[32m[I 2021-05-11 15:13:30,560]\u001b[0m Trial 68 finished with value: 0.8260049937578028 and parameters: {'n_estimators': 11, 'max_depth': 5.198027245566119}. Best is trial 32 with value: 0.8406242197253432.\u001b[0m\n\u001b[32m[I 2021-05-11 15:13:30,921]\u001b[0m Trial 69 finished with value: 0.8237578027465668 and parameters: {'n_estimators': 7, 'max_depth': 5.831287535907316}. Best is trial 32 with value: 0.8406242197253432.\u001b[0m\n\u001b[32m[I 2021-05-11 15:13:31,256]\u001b[0m Trial 70 finished with value: 0.7946067415730338 and parameters: {'n_estimators': 8, 'max_depth': 2.6806233318254504}. Best is trial 32 with value: 0.8406242197253432.\u001b[0m\n\u001b[32m[I 2021-05-11 15:13:31,650]\u001b[0m Trial 71 finished with value: 0.8395006242197253 and parameters: {'n_estimators': 10, 'max_depth': 4.504219114024552}. Best is trial 32 with value: 0.8406242197253432.\u001b[0m\n\u001b[32m[I 2021-05-11 15:13:31,982]\u001b[0m Trial 72 finished with value: 0.8293757802746565 and parameters: {'n_estimators': 9, 'max_depth': 3.235394258460716}. Best is trial 32 with value: 0.8406242197253432.\u001b[0m\n\u001b[32m[I 2021-05-11 15:13:32,395]\u001b[0m Trial 73 finished with value: 0.8395006242197253 and parameters: {'n_estimators': 10, 'max_depth': 4.294372628586805}. Best is trial 32 with value: 0.8406242197253432.\u001b[0m\n\u001b[32m[I 2021-05-11 15:13:32,817]\u001b[0m Trial 74 finished with value: 0.8338701622971285 and parameters: {'n_estimators': 13, 'max_depth': 4.19244879089665}. Best is trial 32 with value: 0.8406242197253432.\u001b[0m\n\u001b[32m[I 2021-05-11 15:13:33,238]\u001b[0m Trial 75 finished with value: 0.8293757802746567 and parameters: {'n_estimators': 11, 'max_depth': 5.616124840825571}. Best is trial 32 with value: 0.8406242197253432.\u001b[0m\n\u001b[32m[I 2021-05-11 15:13:33,605]\u001b[0m Trial 76 finished with value: 0.8350062421972533 and parameters: {'n_estimators': 9, 'max_depth': 4.4733464599981705}. Best is trial 32 with value: 0.8406242197253432.\u001b[0m\n\u001b[32m[I 2021-05-11 15:13:33,947]\u001b[0m Trial 77 finished with value: 0.8293757802746567 and parameters: {'n_estimators': 10, 'max_depth': 3.6493322169116955}. Best is trial 32 with value: 0.8406242197253432.\u001b[0m\n\u001b[32m[I 2021-05-11 15:13:34,468]\u001b[0m Trial 78 finished with value: 0.8372534332084894 and parameters: {'n_estimators': 12, 'max_depth': 6.638245458921856}. Best is trial 32 with value: 0.8406242197253432.\u001b[0m\n\u001b[32m[I 2021-05-11 15:13:34,796]\u001b[0m Trial 79 finished with value: 0.8148064918851435 and parameters: {'n_estimators': 5, 'max_depth': 5.0326704273307215}. Best is trial 32 with value: 0.8406242197253432.\u001b[0m\n\u001b[32m[I 2021-05-11 15:13:35,266]\u001b[0m Trial 80 finished with value: 0.8282646691635456 and parameters: {'n_estimators': 8, 'max_depth': 7.579250917157159}. Best is trial 32 with value: 0.8406242197253432.\u001b[0m\n\u001b[32m[I 2021-05-11 15:13:35,640]\u001b[0m Trial 81 finished with value: 0.8395006242197253 and parameters: {'n_estimators': 10, 'max_depth': 4.727639830816822}. Best is trial 32 with value: 0.8406242197253432.\u001b[0m\n\u001b[32m[I 2021-05-11 15:13:36,165]\u001b[0m Trial 82 finished with value: 0.8271285892634207 and parameters: {'n_estimators': 11, 'max_depth': 3.9739563213955185}. Best is trial 32 with value: 0.8406242197253432.\u001b[0m\n\u001b[32m[I 2021-05-11 15:13:36,552]\u001b[0m Trial 83 finished with value: 0.8293757802746567 and parameters: {'n_estimators': 10, 'max_depth': 3.0209188817233583}. Best is trial 32 with value: 0.8406242197253432.\u001b[0m\n\u001b[32m[I 2021-05-11 15:13:37,023]\u001b[0m Trial 84 finished with value: 0.8271285892634207 and parameters: {'n_estimators': 9, 'max_depth': 6.035364489609686}. Best is trial 32 with value: 0.8406242197253432.\u001b[0m\n\u001b[32m[I 2021-05-11 15:13:37,317]\u001b[0m Trial 85 finished with value: 0.8002247191011236 and parameters: {'n_estimators': 6, 'max_depth': 3.7436353235393844}. Best is trial 32 with value: 0.8406242197253432.\u001b[0m\n\u001b[32m[I 2021-05-11 15:13:37,730]\u001b[0m Trial 86 finished with value: 0.8293757802746567 and parameters: {'n_estimators': 10, 'max_depth': 3.3019328375452215}. Best is trial 32 with value: 0.8406242197253432.\u001b[0m\n\u001b[32m[I 2021-05-11 15:13:38,169]\u001b[0m Trial 87 finished with value: 0.8271285892634207 and parameters: {'n_estimators': 11, 'max_depth': 5.0013676689179}. Best is trial 32 with value: 0.8406242197253432.\u001b[0m\n\u001b[32m[I 2021-05-11 15:13:38,495]\u001b[0m Trial 88 finished with value: 0.8406242197253432 and parameters: {'n_estimators': 7, 'max_depth': 4.423474652225579}. Best is trial 32 with value: 0.8406242197253432.\u001b[0m\n\u001b[32m[I 2021-05-11 15:13:38,899]\u001b[0m Trial 89 finished with value: 0.8237578027465668 and parameters: {'n_estimators': 7, 'max_depth': 5.401330550149426}. Best is trial 32 with value: 0.8406242197253432.\u001b[0m\n\u001b[32m[I 2021-05-11 15:13:39,196]\u001b[0m Trial 90 finished with value: 0.786741573033708 and parameters: {'n_estimators': 4, 'max_depth': 2.8283580629172245}. Best is trial 32 with value: 0.8406242197253432.\u001b[0m\n\u001b[32m[I 2021-05-11 15:13:39,527]\u001b[0m Trial 91 finished with value: 0.8383770287141072 and parameters: {'n_estimators': 8, 'max_depth': 4.020993054957944}. Best is trial 32 with value: 0.8406242197253432.\u001b[0m\n\u001b[32m[I 2021-05-11 15:13:39,876]\u001b[0m Trial 92 finished with value: 0.8350062421972533 and parameters: {'n_estimators': 9, 'max_depth': 4.671402493669293}. Best is trial 32 with value: 0.8406242197253432.\u001b[0m\n\u001b[32m[I 2021-05-11 15:13:40,206]\u001b[0m Trial 93 finished with value: 0.8406242197253432 and parameters: {'n_estimators': 7, 'max_depth': 4.8025524670752056}. Best is trial 32 with value: 0.8406242197253432.\u001b[0m\n\u001b[32m[I 2021-05-11 15:13:40,591]\u001b[0m Trial 94 finished with value: 0.8192883895131086 and parameters: {'n_estimators': 6, 'max_depth': 6.114797138770716}. Best is trial 32 with value: 0.8406242197253432.\u001b[0m\n\u001b[32m[I 2021-05-11 15:13:40,906]\u001b[0m Trial 95 finished with value: 0.8215480649188514 and parameters: {'n_estimators': 7, 'max_depth': 3.611630717023186}. Best is trial 32 with value: 0.8406242197253432.\u001b[0m\n\u001b[32m[I 2021-05-11 15:13:41,240]\u001b[0m Trial 96 finished with value: 0.7957303370786517 and parameters: {'n_estimators': 7, 'max_depth': 2.454744396356095}. Best is trial 32 with value: 0.8406242197253432.\u001b[0m\n\u001b[32m[I 2021-05-11 15:13:41,595]\u001b[0m Trial 97 finished with value: 0.8350062421972533 and parameters: {'n_estimators': 9, 'max_depth': 4.9108103191495065}. Best is trial 32 with value: 0.8406242197253432.\u001b[0m\n\u001b[32m[I 2021-05-11 15:13:41,914]\u001b[0m Trial 98 finished with value: 0.8148064918851435 and parameters: {'n_estimators': 5, 'max_depth': 5.396387592640721}. Best is trial 32 with value: 0.8406242197253432.\u001b[0m\n\u001b[32m[I 2021-05-11 15:13:42,300]\u001b[0m Trial 99 finished with value: 0.8383770287141072 and parameters: {'n_estimators': 8, 'max_depth': 4.366870582005701}. Best is trial 32 with value: 0.8406242197253432.\u001b[0m\n",
     "output_type": "stream"
    }
   ]
  },
  {
   "cell_type": "code",
   "metadata": {
    "tags": [],
    "cell_id": "00046-2cd459b8-47e1-4957-89e8-3643d99daf40",
    "deepnote_to_be_reexecuted": false,
    "source_hash": "47997c90",
    "execution_start": 1620746337895,
    "execution_millis": 8,
    "deepnote_cell_type": "code"
   },
   "source": "trial = study.best_trial\nprint('Accuracy: {}'.format(trial.value))\nstudy.best_params",
   "execution_count": null,
   "outputs": [
    {
     "name": "stdout",
     "text": "Accuracy: 0.8406242197253432\n",
     "output_type": "stream"
    },
    {
     "output_type": "execute_result",
     "execution_count": 56,
     "data": {
      "text/plain": "{'n_estimators': 7, 'max_depth': 4.862786659333275}"
     },
     "metadata": {}
    }
   ]
  },
  {
   "cell_type": "code",
   "metadata": {
    "deletable": false,
    "id": "monuuQhHL7B_",
    "nbgrader": {
     "cell_type": "code",
     "checksum": "088ae511ec2eb947de2bff002e75d460",
     "grade": false,
     "grade_id": "cell-031a656e1e811717",
     "locked": false,
     "schema_version": 3,
     "solution": true,
     "task": false
    },
    "colab": {
     "base_uri": "https://localhost:8080/",
     "height": 198
    },
    "outputId": "480aaab5-d3ae-4d8e-81e8-e3f2befb5c67",
    "cell_id": "00044-8f4bfd77-58f2-48f8-9b4b-3b1349d91ba6",
    "deepnote_to_be_reexecuted": false,
    "source_hash": "91446d72",
    "execution_start": 1620746521080,
    "execution_millis": 99,
    "deepnote_cell_type": "code"
   },
   "source": "best_model = tree_classifiers[\"XGBoost\"]\n\n# Fit best model with all data\n\nbest_pipe=pipeline.make_pipeline(tree_prepro, GradientBoostingClassifier(n_estimators= 7, max_depth= 4.862786659333275))\nbest_pipe.fit(x,y)",
   "execution_count": null,
   "outputs": [
    {
     "output_type": "execute_result",
     "execution_count": 63,
     "data": {
      "text/plain": "Pipeline(steps=[('columntransformer',\n                 ColumnTransformer(transformers=[('cat mult',\n                                                  Pipeline(steps=[('imputer',\n                                                                   SimpleImputer(fill_value='missing',\n                                                                                 strategy='constant')),\n                                                                  ('one hot',\n                                                                   OneHotEncoder())]),\n                                                  ['Sex', 'Embarked', 'Title']),\n                                                 ('num mult',\n                                                  Pipeline(steps=[('imputer',\n                                                                   KNNImputer()),\n                                                                  ('quantile '\n                                                                   'transformer',\n                                                                   QuantileTransformer(n_quantiles=100,\n                                                                                       random_state=0))]),\n                                                  ['Pclass', 'SibSp', 'Parch',\n                                                   'Fare', 'Age'])])),\n                ('gradientboostingclassifier',\n                 GradientBoostingClassifier(max_depth=4.862786659333275,\n                                            n_estimators=7))])",
      "text/html": "<style>#sk-ce54bb40-1700-4f3e-b137-fc7300b2143a {color: black;background-color: white;}#sk-ce54bb40-1700-4f3e-b137-fc7300b2143a pre{padding: 0;}#sk-ce54bb40-1700-4f3e-b137-fc7300b2143a div.sk-toggleable {background-color: white;}#sk-ce54bb40-1700-4f3e-b137-fc7300b2143a label.sk-toggleable__label {cursor: pointer;display: block;width: 100%;margin-bottom: 0;padding: 0.2em 0.3em;box-sizing: border-box;text-align: center;}#sk-ce54bb40-1700-4f3e-b137-fc7300b2143a div.sk-toggleable__content {max-height: 0;max-width: 0;overflow: hidden;text-align: left;background-color: #f0f8ff;}#sk-ce54bb40-1700-4f3e-b137-fc7300b2143a div.sk-toggleable__content pre {margin: 0.2em;color: black;border-radius: 0.25em;background-color: #f0f8ff;}#sk-ce54bb40-1700-4f3e-b137-fc7300b2143a input.sk-toggleable__control:checked~div.sk-toggleable__content {max-height: 200px;max-width: 100%;overflow: auto;}#sk-ce54bb40-1700-4f3e-b137-fc7300b2143a div.sk-estimator input.sk-toggleable__control:checked~label.sk-toggleable__label {background-color: #d4ebff;}#sk-ce54bb40-1700-4f3e-b137-fc7300b2143a div.sk-label input.sk-toggleable__control:checked~label.sk-toggleable__label {background-color: #d4ebff;}#sk-ce54bb40-1700-4f3e-b137-fc7300b2143a input.sk-hidden--visually {border: 0;clip: rect(1px 1px 1px 1px);clip: rect(1px, 1px, 1px, 1px);height: 1px;margin: -1px;overflow: hidden;padding: 0;position: absolute;width: 1px;}#sk-ce54bb40-1700-4f3e-b137-fc7300b2143a div.sk-estimator {font-family: monospace;background-color: #f0f8ff;margin: 0.25em 0.25em;border: 1px dotted black;border-radius: 0.25em;box-sizing: border-box;}#sk-ce54bb40-1700-4f3e-b137-fc7300b2143a div.sk-estimator:hover {background-color: #d4ebff;}#sk-ce54bb40-1700-4f3e-b137-fc7300b2143a div.sk-parallel-item::after {content: \"\";width: 100%;border-bottom: 1px solid gray;flex-grow: 1;}#sk-ce54bb40-1700-4f3e-b137-fc7300b2143a div.sk-label:hover label.sk-toggleable__label {background-color: #d4ebff;}#sk-ce54bb40-1700-4f3e-b137-fc7300b2143a div.sk-serial::before {content: \"\";position: absolute;border-left: 1px solid gray;box-sizing: border-box;top: 2em;bottom: 0;left: 50%;}#sk-ce54bb40-1700-4f3e-b137-fc7300b2143a div.sk-serial {display: flex;flex-direction: column;align-items: center;background-color: white;}#sk-ce54bb40-1700-4f3e-b137-fc7300b2143a div.sk-item {z-index: 1;}#sk-ce54bb40-1700-4f3e-b137-fc7300b2143a div.sk-parallel {display: flex;align-items: stretch;justify-content: center;background-color: white;}#sk-ce54bb40-1700-4f3e-b137-fc7300b2143a div.sk-parallel-item {display: flex;flex-direction: column;position: relative;background-color: white;}#sk-ce54bb40-1700-4f3e-b137-fc7300b2143a div.sk-parallel-item:first-child::after {align-self: flex-end;width: 50%;}#sk-ce54bb40-1700-4f3e-b137-fc7300b2143a div.sk-parallel-item:last-child::after {align-self: flex-start;width: 50%;}#sk-ce54bb40-1700-4f3e-b137-fc7300b2143a div.sk-parallel-item:only-child::after {width: 0;}#sk-ce54bb40-1700-4f3e-b137-fc7300b2143a div.sk-dashed-wrapped {border: 1px dashed gray;margin: 0.2em;box-sizing: border-box;padding-bottom: 0.1em;background-color: white;position: relative;}#sk-ce54bb40-1700-4f3e-b137-fc7300b2143a div.sk-label label {font-family: monospace;font-weight: bold;background-color: white;display: inline-block;line-height: 1.2em;}#sk-ce54bb40-1700-4f3e-b137-fc7300b2143a div.sk-label-container {position: relative;z-index: 2;text-align: center;}#sk-ce54bb40-1700-4f3e-b137-fc7300b2143a div.sk-container {display: inline-block;position: relative;}</style><div id=\"sk-ce54bb40-1700-4f3e-b137-fc7300b2143a\" class\"sk-top-container\"><div class=\"sk-container\"><div class=\"sk-item sk-dashed-wrapped\"><div class=\"sk-label-container\"><div class=\"sk-label sk-toggleable\"><input class=\"sk-toggleable__control sk-hidden--visually\" id=\"e90f29a5-2cac-4c40-876e-7fe45fce8e20\" type=\"checkbox\" ><label class=\"sk-toggleable__label\" for=\"e90f29a5-2cac-4c40-876e-7fe45fce8e20\">Pipeline</label><div class=\"sk-toggleable__content\"><pre>Pipeline(steps=[('columntransformer',\n                 ColumnTransformer(transformers=[('cat mult',\n                                                  Pipeline(steps=[('imputer',\n                                                                   SimpleImputer(fill_value='missing',\n                                                                                 strategy='constant')),\n                                                                  ('one hot',\n                                                                   OneHotEncoder())]),\n                                                  ['Sex', 'Embarked', 'Title']),\n                                                 ('num mult',\n                                                  Pipeline(steps=[('imputer',\n                                                                   KNNImputer()),\n                                                                  ('quantile '\n                                                                   'transformer',\n                                                                   QuantileTransformer(n_quantiles=100,\n                                                                                       random_state=0))]),\n                                                  ['Pclass', 'SibSp', 'Parch',\n                                                   'Fare', 'Age'])])),\n                ('gradientboostingclassifier',\n                 GradientBoostingClassifier(max_depth=4.862786659333275,\n                                            n_estimators=7))])</pre></div></div></div><div class=\"sk-serial\"><div class=\"sk-item sk-dashed-wrapped\"><div class=\"sk-label-container\"><div class=\"sk-label sk-toggleable\"><input class=\"sk-toggleable__control sk-hidden--visually\" id=\"c1254ffd-42d2-4695-b069-70247da5407f\" type=\"checkbox\" ><label class=\"sk-toggleable__label\" for=\"c1254ffd-42d2-4695-b069-70247da5407f\">columntransformer: ColumnTransformer</label><div class=\"sk-toggleable__content\"><pre>ColumnTransformer(transformers=[('cat mult',\n                                 Pipeline(steps=[('imputer',\n                                                  SimpleImputer(fill_value='missing',\n                                                                strategy='constant')),\n                                                 ('one hot', OneHotEncoder())]),\n                                 ['Sex', 'Embarked', 'Title']),\n                                ('num mult',\n                                 Pipeline(steps=[('imputer', KNNImputer()),\n                                                 ('quantile transformer',\n                                                  QuantileTransformer(n_quantiles=100,\n                                                                      random_state=0))]),\n                                 ['Pclass', 'SibSp', 'Parch', 'Fare', 'Age'])])</pre></div></div></div><div class=\"sk-parallel\"><div class=\"sk-parallel-item\"><div class=\"sk-item\"><div class=\"sk-label-container\"><div class=\"sk-label sk-toggleable\"><input class=\"sk-toggleable__control sk-hidden--visually\" id=\"02be7f8e-3cf2-40b9-bc3e-2b85c75b402d\" type=\"checkbox\" ><label class=\"sk-toggleable__label\" for=\"02be7f8e-3cf2-40b9-bc3e-2b85c75b402d\">cat mult</label><div class=\"sk-toggleable__content\"><pre>['Sex', 'Embarked', 'Title']</pre></div></div></div><div class=\"sk-serial\"><div class=\"sk-item\"><div class=\"sk-serial\"><div class=\"sk-item\"><div class=\"sk-estimator sk-toggleable\"><input class=\"sk-toggleable__control sk-hidden--visually\" id=\"f7db1d4b-7e67-4ace-892d-dce1846fedf3\" type=\"checkbox\" ><label class=\"sk-toggleable__label\" for=\"f7db1d4b-7e67-4ace-892d-dce1846fedf3\">SimpleImputer</label><div class=\"sk-toggleable__content\"><pre>SimpleImputer(fill_value='missing', strategy='constant')</pre></div></div></div><div class=\"sk-item\"><div class=\"sk-estimator sk-toggleable\"><input class=\"sk-toggleable__control sk-hidden--visually\" id=\"278fc3a0-fec1-4a48-b4ac-9c9dda3769a0\" type=\"checkbox\" ><label class=\"sk-toggleable__label\" for=\"278fc3a0-fec1-4a48-b4ac-9c9dda3769a0\">OneHotEncoder</label><div class=\"sk-toggleable__content\"><pre>OneHotEncoder()</pre></div></div></div></div></div></div></div></div><div class=\"sk-parallel-item\"><div class=\"sk-item\"><div class=\"sk-label-container\"><div class=\"sk-label sk-toggleable\"><input class=\"sk-toggleable__control sk-hidden--visually\" id=\"43ba53f9-b6ca-4109-9fa2-566311e5a88d\" type=\"checkbox\" ><label class=\"sk-toggleable__label\" for=\"43ba53f9-b6ca-4109-9fa2-566311e5a88d\">num mult</label><div class=\"sk-toggleable__content\"><pre>['Pclass', 'SibSp', 'Parch', 'Fare', 'Age']</pre></div></div></div><div class=\"sk-serial\"><div class=\"sk-item\"><div class=\"sk-serial\"><div class=\"sk-item\"><div class=\"sk-estimator sk-toggleable\"><input class=\"sk-toggleable__control sk-hidden--visually\" id=\"798715e9-3acd-47cb-837e-fd9da69b2b18\" type=\"checkbox\" ><label class=\"sk-toggleable__label\" for=\"798715e9-3acd-47cb-837e-fd9da69b2b18\">KNNImputer</label><div class=\"sk-toggleable__content\"><pre>KNNImputer()</pre></div></div></div><div class=\"sk-item\"><div class=\"sk-estimator sk-toggleable\"><input class=\"sk-toggleable__control sk-hidden--visually\" id=\"dd9510fc-4183-4af3-ace0-19ba992147b7\" type=\"checkbox\" ><label class=\"sk-toggleable__label\" for=\"dd9510fc-4183-4af3-ace0-19ba992147b7\">QuantileTransformer</label><div class=\"sk-toggleable__content\"><pre>QuantileTransformer(n_quantiles=100, random_state=0)</pre></div></div></div></div></div></div></div></div></div></div><div class=\"sk-item\"><div class=\"sk-estimator sk-toggleable\"><input class=\"sk-toggleable__control sk-hidden--visually\" id=\"4185c12d-11d4-421a-9d8d-3ee278daa4f2\" type=\"checkbox\" ><label class=\"sk-toggleable__label\" for=\"4185c12d-11d4-421a-9d8d-3ee278daa4f2\">GradientBoostingClassifier</label><div class=\"sk-toggleable__content\"><pre>GradientBoostingClassifier(max_depth=4.862786659333275, n_estimators=7)</pre></div></div></div></div></div></div></div>"
     },
     "metadata": {}
    }
   ]
  },
  {
   "cell_type": "markdown",
   "source": "# Exercise 7.2 (2pts)\nWith your best model, generate the predicitions for test data (x_test)",
   "metadata": {
    "id": "PV8ILwfKGTJP",
    "cell_id": "00045-1e01c648-9996-4fc2-a0ae-5bf34e6db386",
    "deepnote_cell_type": "markdown"
   }
  },
  {
   "cell_type": "code",
   "metadata": {
    "colab": {
     "base_uri": "https://localhost:8080/"
    },
    "id": "lrm3fScy2nmb",
    "outputId": "d41989e0-9b5a-4709-c1be-3c1ffc3f8b22",
    "cell_id": "00046-4698d42c-c904-460d-9422-352dd7e4cedd",
    "deepnote_to_be_reexecuted": false,
    "source_hash": "8f0fc249",
    "execution_start": 1620746778074,
    "execution_millis": 6,
    "deepnote_cell_type": "code"
   },
   "source": "x_test.isnull().sum()",
   "execution_count": null,
   "outputs": [
    {
     "output_type": "execute_result",
     "execution_count": 79,
     "data": {
      "text/plain": "Pclass      0\nSex         0\nAge         0\nSibSp       0\nParch       0\nFare        0\nCabin       0\nEmbarked    0\nTitle       0\ndtype: int64"
     },
     "metadata": {}
    }
   ]
  },
  {
   "cell_type": "code",
   "metadata": {
    "tags": [],
    "cell_id": "00047-2265c336-1475-4ffc-b16d-9e586535f0e4",
    "deepnote_to_be_reexecuted": false,
    "source_hash": "77a791df",
    "execution_start": 1620746775946,
    "execution_millis": 2,
    "deepnote_cell_type": "code"
   },
   "source": "x_test.Title=x_test.Title.fillna(x_test.Title.mode()[0])\nx_test.Fare=x_test.Fare.fillna(x_test.Fare.mean())",
   "execution_count": null,
   "outputs": []
  },
  {
   "cell_type": "code",
   "metadata": {
    "tags": [],
    "cell_id": "00048-5305f19c-79b3-41e9-8817-8be0877f668a",
    "deepnote_to_be_reexecuted": false,
    "source_hash": "4ea9727a",
    "execution_start": 1620746780336,
    "execution_millis": 58,
    "deepnote_cell_type": "code"
   },
   "source": "x_test",
   "execution_count": null,
   "outputs": [
    {
     "output_type": "execute_result",
     "execution_count": 80,
     "data": {
      "application/vnd.deepnote.dataframe.v2+json": {
       "row_count": 418,
       "column_count": 9,
       "columns": [
        {
         "name": "Pclass",
         "dtype": "int64",
         "stats": {
          "unique_count": 3,
          "nan_count": 0,
          "min": "1",
          "max": "3",
          "histogram": [
           {
            "bin_start": 1,
            "bin_end": 1.2,
            "count": 107
           },
           {
            "bin_start": 1.2,
            "bin_end": 1.4,
            "count": 0
           },
           {
            "bin_start": 1.4,
            "bin_end": 1.6,
            "count": 0
           },
           {
            "bin_start": 1.6,
            "bin_end": 1.8,
            "count": 0
           },
           {
            "bin_start": 1.8,
            "bin_end": 2,
            "count": 0
           },
           {
            "bin_start": 2,
            "bin_end": 2.2,
            "count": 93
           },
           {
            "bin_start": 2.2,
            "bin_end": 2.4000000000000004,
            "count": 0
           },
           {
            "bin_start": 2.4000000000000004,
            "bin_end": 2.6,
            "count": 0
           },
           {
            "bin_start": 2.6,
            "bin_end": 2.8,
            "count": 0
           },
           {
            "bin_start": 2.8,
            "bin_end": 3,
            "count": 218
           }
          ]
         }
        },
        {
         "name": "Sex",
         "dtype": "object",
         "stats": {
          "unique_count": 2,
          "nan_count": 0,
          "categories": [
           {
            "name": "male",
            "count": 266
           },
           {
            "name": "female",
            "count": 152
           }
          ]
         }
        },
        {
         "name": "Age",
         "dtype": "float64",
         "stats": {
          "unique_count": 85,
          "nan_count": 0,
          "min": "0.17",
          "max": "76.0",
          "histogram": [
           {
            "bin_start": 0.17,
            "bin_end": 7.753,
            "count": 16
           },
           {
            "bin_start": 7.753,
            "bin_end": 15.336,
            "count": 16
           },
           {
            "bin_start": 15.336,
            "bin_end": 22.919000000000004,
            "count": 71
           },
           {
            "bin_start": 22.919000000000004,
            "bin_end": 30.502000000000002,
            "count": 170
           },
           {
            "bin_start": 30.502000000000002,
            "bin_end": 38.085,
            "count": 47
           },
           {
            "bin_start": 38.085,
            "bin_end": 45.668000000000006,
            "count": 46
           },
           {
            "bin_start": 45.668000000000006,
            "bin_end": 53.251000000000005,
            "count": 25
           },
           {
            "bin_start": 53.251000000000005,
            "bin_end": 60.834,
            "count": 17
           },
           {
            "bin_start": 60.834,
            "bin_end": 68.417,
            "count": 9
           },
           {
            "bin_start": 68.417,
            "bin_end": 76,
            "count": 1
           }
          ]
         }
        },
        {
         "name": "SibSp",
         "dtype": "int64",
         "stats": {
          "unique_count": 7,
          "nan_count": 0,
          "min": "0",
          "max": "8",
          "histogram": [
           {
            "bin_start": 0,
            "bin_end": 0.8,
            "count": 283
           },
           {
            "bin_start": 0.8,
            "bin_end": 1.6,
            "count": 110
           },
           {
            "bin_start": 1.6,
            "bin_end": 2.4000000000000004,
            "count": 14
           },
           {
            "bin_start": 2.4000000000000004,
            "bin_end": 3.2,
            "count": 4
           },
           {
            "bin_start": 3.2,
            "bin_end": 4,
            "count": 0
           },
           {
            "bin_start": 4,
            "bin_end": 4.800000000000001,
            "count": 4
           },
           {
            "bin_start": 4.800000000000001,
            "bin_end": 5.6000000000000005,
            "count": 1
           },
           {
            "bin_start": 5.6000000000000005,
            "bin_end": 6.4,
            "count": 0
           },
           {
            "bin_start": 6.4,
            "bin_end": 7.2,
            "count": 0
           },
           {
            "bin_start": 7.2,
            "bin_end": 8,
            "count": 2
           }
          ]
         }
        },
        {
         "name": "Parch",
         "dtype": "int64",
         "stats": {
          "unique_count": 8,
          "nan_count": 0,
          "min": "0",
          "max": "9",
          "histogram": [
           {
            "bin_start": 0,
            "bin_end": 0.9,
            "count": 324
           },
           {
            "bin_start": 0.9,
            "bin_end": 1.8,
            "count": 52
           },
           {
            "bin_start": 1.8,
            "bin_end": 2.7,
            "count": 33
           },
           {
            "bin_start": 2.7,
            "bin_end": 3.6,
            "count": 3
           },
           {
            "bin_start": 3.6,
            "bin_end": 4.5,
            "count": 2
           },
           {
            "bin_start": 4.5,
            "bin_end": 5.4,
            "count": 1
           },
           {
            "bin_start": 5.4,
            "bin_end": 6.3,
            "count": 1
           },
           {
            "bin_start": 6.3,
            "bin_end": 7.2,
            "count": 0
           },
           {
            "bin_start": 7.2,
            "bin_end": 8.1,
            "count": 0
           },
           {
            "bin_start": 8.1,
            "bin_end": 9,
            "count": 2
           }
          ]
         }
        },
        {
         "name": "Fare",
         "dtype": "float64",
         "stats": {
          "unique_count": 170,
          "nan_count": 0,
          "min": "0.0",
          "max": "512.3292",
          "histogram": [
           {
            "bin_start": 0,
            "bin_end": 51.23292,
            "count": 339
           },
           {
            "bin_start": 51.23292,
            "bin_end": 102.46584,
            "count": 48
           },
           {
            "bin_start": 102.46584,
            "bin_end": 153.69876,
            "count": 11
           },
           {
            "bin_start": 153.69876,
            "bin_end": 204.93168,
            "count": 2
           },
           {
            "bin_start": 204.93168,
            "bin_end": 256.1646,
            "count": 10
           },
           {
            "bin_start": 256.1646,
            "bin_end": 307.39752,
            "count": 7
           },
           {
            "bin_start": 307.39752,
            "bin_end": 358.63044,
            "count": 0
           },
           {
            "bin_start": 358.63044,
            "bin_end": 409.86336,
            "count": 0
           },
           {
            "bin_start": 409.86336,
            "bin_end": 461.09628,
            "count": 0
           },
           {
            "bin_start": 461.09628,
            "bin_end": 512.3292,
            "count": 1
           }
          ]
         }
        },
        {
         "name": "Cabin",
         "dtype": "object",
         "stats": {
          "unique_count": 2,
          "nan_count": 0,
          "categories": [
           {
            "name": "0",
            "count": 327
           },
           {
            "name": "1",
            "count": 91
           }
          ]
         }
        },
        {
         "name": "Embarked",
         "dtype": "object",
         "stats": {
          "unique_count": 3,
          "nan_count": 0,
          "categories": [
           {
            "name": "S",
            "count": 270
           },
           {
            "name": "C",
            "count": 102
           },
           {
            "name": "Q",
            "count": 46
           }
          ]
         }
        },
        {
         "name": "Title",
         "dtype": "object",
         "stats": {
          "unique_count": 5,
          "nan_count": 0,
          "categories": [
           {
            "name": "Mr",
            "count": 241
           },
           {
            "name": "Miss",
            "count": 78
           },
           {
            "name": "3 others",
            "count": 99
           }
          ]
         }
        },
        {
         "name": "_deepnote_index_column",
         "dtype": "int64"
        }
       ],
       "rows_top": [
        {
         "Pclass": 3,
         "Sex": "male",
         "Age": 34.5,
         "SibSp": 0,
         "Parch": 0,
         "Fare": 7.8292,
         "Cabin": 0,
         "Embarked": "Q",
         "Title": "Mr",
         "_deepnote_index_column": 892
        },
        {
         "Pclass": 3,
         "Sex": "female",
         "Age": 47,
         "SibSp": 1,
         "Parch": 0,
         "Fare": 7,
         "Cabin": 0,
         "Embarked": "S",
         "Title": "Mrs",
         "_deepnote_index_column": 893
        },
        {
         "Pclass": 2,
         "Sex": "male",
         "Age": 62,
         "SibSp": 0,
         "Parch": 0,
         "Fare": 9.6875,
         "Cabin": 0,
         "Embarked": "Q",
         "Title": "Mr",
         "_deepnote_index_column": 894
        },
        {
         "Pclass": 3,
         "Sex": "male",
         "Age": 27,
         "SibSp": 0,
         "Parch": 0,
         "Fare": 8.6625,
         "Cabin": 0,
         "Embarked": "S",
         "Title": "Mr",
         "_deepnote_index_column": 895
        },
        {
         "Pclass": 3,
         "Sex": "female",
         "Age": 22,
         "SibSp": 1,
         "Parch": 1,
         "Fare": 12.2875,
         "Cabin": 0,
         "Embarked": "S",
         "Title": "Mrs",
         "_deepnote_index_column": 896
        },
        {
         "Pclass": 3,
         "Sex": "male",
         "Age": 14,
         "SibSp": 0,
         "Parch": 0,
         "Fare": 9.225,
         "Cabin": 0,
         "Embarked": "S",
         "Title": "Mr",
         "_deepnote_index_column": 897
        },
        {
         "Pclass": 3,
         "Sex": "female",
         "Age": 30,
         "SibSp": 0,
         "Parch": 0,
         "Fare": 7.6292,
         "Cabin": 0,
         "Embarked": "Q",
         "Title": "Miss",
         "_deepnote_index_column": 898
        },
        {
         "Pclass": 2,
         "Sex": "male",
         "Age": 26,
         "SibSp": 1,
         "Parch": 1,
         "Fare": 29,
         "Cabin": 0,
         "Embarked": "S",
         "Title": "Mr",
         "_deepnote_index_column": 899
        },
        {
         "Pclass": 3,
         "Sex": "female",
         "Age": 18,
         "SibSp": 0,
         "Parch": 0,
         "Fare": 7.2292,
         "Cabin": 0,
         "Embarked": "C",
         "Title": "Mrs",
         "_deepnote_index_column": 900
        },
        {
         "Pclass": 3,
         "Sex": "male",
         "Age": 21,
         "SibSp": 2,
         "Parch": 0,
         "Fare": 24.15,
         "Cabin": 0,
         "Embarked": "S",
         "Title": "Mr",
         "_deepnote_index_column": 901
        },
        {
         "Pclass": 3,
         "Sex": "male",
         "Age": 24.525104166666665,
         "SibSp": 0,
         "Parch": 0,
         "Fare": 7.8958,
         "Cabin": 0,
         "Embarked": "S",
         "Title": "Mr",
         "_deepnote_index_column": 902
        },
        {
         "Pclass": 1,
         "Sex": "male",
         "Age": 46,
         "SibSp": 0,
         "Parch": 0,
         "Fare": 26,
         "Cabin": 0,
         "Embarked": "S",
         "Title": "Mr",
         "_deepnote_index_column": 903
        },
        {
         "Pclass": 1,
         "Sex": "female",
         "Age": 23,
         "SibSp": 1,
         "Parch": 0,
         "Fare": 82.2667,
         "Cabin": 1,
         "Embarked": "S",
         "Title": "Mrs",
         "_deepnote_index_column": 904
        },
        {
         "Pclass": 2,
         "Sex": "male",
         "Age": 63,
         "SibSp": 1,
         "Parch": 0,
         "Fare": 26,
         "Cabin": 0,
         "Embarked": "S",
         "Title": "Mr",
         "_deepnote_index_column": 905
        },
        {
         "Pclass": 1,
         "Sex": "female",
         "Age": 47,
         "SibSp": 1,
         "Parch": 0,
         "Fare": 61.175,
         "Cabin": 1,
         "Embarked": "S",
         "Title": "Mrs",
         "_deepnote_index_column": 906
        },
        {
         "Pclass": 2,
         "Sex": "female",
         "Age": 24,
         "SibSp": 1,
         "Parch": 0,
         "Fare": 27.7208,
         "Cabin": 0,
         "Embarked": "C",
         "Title": "Mrs",
         "_deepnote_index_column": 907
        },
        {
         "Pclass": 2,
         "Sex": "male",
         "Age": 35,
         "SibSp": 0,
         "Parch": 0,
         "Fare": 12.35,
         "Cabin": 0,
         "Embarked": "Q",
         "Title": "Mr",
         "_deepnote_index_column": 908
        },
        {
         "Pclass": 3,
         "Sex": "male",
         "Age": 21,
         "SibSp": 0,
         "Parch": 0,
         "Fare": 7.225,
         "Cabin": 0,
         "Embarked": "C",
         "Title": "Mr",
         "_deepnote_index_column": 909
        },
        {
         "Pclass": 3,
         "Sex": "female",
         "Age": 27,
         "SibSp": 1,
         "Parch": 0,
         "Fare": 7.925,
         "Cabin": 0,
         "Embarked": "S",
         "Title": "Miss",
         "_deepnote_index_column": 910
        },
        {
         "Pclass": 3,
         "Sex": "female",
         "Age": 45,
         "SibSp": 0,
         "Parch": 0,
         "Fare": 7.225,
         "Cabin": 0,
         "Embarked": "C",
         "Title": "Mrs",
         "_deepnote_index_column": 911
        },
        {
         "Pclass": 1,
         "Sex": "male",
         "Age": 55,
         "SibSp": 1,
         "Parch": 0,
         "Fare": 59.4,
         "Cabin": 0,
         "Embarked": "C",
         "Title": "Mr",
         "_deepnote_index_column": 912
        },
        {
         "Pclass": 3,
         "Sex": "male",
         "Age": 9,
         "SibSp": 0,
         "Parch": 1,
         "Fare": 3.1708,
         "Cabin": 0,
         "Embarked": "S",
         "Title": "Master",
         "_deepnote_index_column": 913
        },
        {
         "Pclass": 1,
         "Sex": "female",
         "Age": 41.333333333333336,
         "SibSp": 0,
         "Parch": 0,
         "Fare": 31.6833,
         "Cabin": 0,
         "Embarked": "S",
         "Title": "Mrs",
         "_deepnote_index_column": 914
        },
        {
         "Pclass": 1,
         "Sex": "male",
         "Age": 21,
         "SibSp": 0,
         "Parch": 1,
         "Fare": 61.3792,
         "Cabin": 0,
         "Embarked": "C",
         "Title": "Mr",
         "_deepnote_index_column": 915
        },
        {
         "Pclass": 1,
         "Sex": "female",
         "Age": 48,
         "SibSp": 1,
         "Parch": 3,
         "Fare": 262.375,
         "Cabin": 1,
         "Embarked": "C",
         "Title": "Mrs",
         "_deepnote_index_column": 916
        },
        {
         "Pclass": 3,
         "Sex": "male",
         "Age": 50,
         "SibSp": 1,
         "Parch": 0,
         "Fare": 14.5,
         "Cabin": 0,
         "Embarked": "S",
         "Title": "Mr",
         "_deepnote_index_column": 917
        },
        {
         "Pclass": 1,
         "Sex": "female",
         "Age": 22,
         "SibSp": 0,
         "Parch": 1,
         "Fare": 61.9792,
         "Cabin": 1,
         "Embarked": "C",
         "Title": "Miss",
         "_deepnote_index_column": 918
        },
        {
         "Pclass": 3,
         "Sex": "male",
         "Age": 22.5,
         "SibSp": 0,
         "Parch": 0,
         "Fare": 7.225,
         "Cabin": 0,
         "Embarked": "C",
         "Title": "Mr",
         "_deepnote_index_column": 919
        },
        {
         "Pclass": 1,
         "Sex": "male",
         "Age": 41,
         "SibSp": 0,
         "Parch": 0,
         "Fare": 30.5,
         "Cabin": 1,
         "Embarked": "S",
         "Title": "Mr",
         "_deepnote_index_column": 920
        },
        {
         "Pclass": 3,
         "Sex": "male",
         "Age": 24.525104166666665,
         "SibSp": 2,
         "Parch": 0,
         "Fare": 21.6792,
         "Cabin": 0,
         "Embarked": "C",
         "Title": "Mr",
         "_deepnote_index_column": 921
        },
        {
         "Pclass": 2,
         "Sex": "male",
         "Age": 50,
         "SibSp": 1,
         "Parch": 0,
         "Fare": 26,
         "Cabin": 0,
         "Embarked": "S",
         "Title": "Mr",
         "_deepnote_index_column": 922
        },
        {
         "Pclass": 2,
         "Sex": "male",
         "Age": 24,
         "SibSp": 2,
         "Parch": 0,
         "Fare": 31.5,
         "Cabin": 0,
         "Embarked": "S",
         "Title": "Mr",
         "_deepnote_index_column": 923
        },
        {
         "Pclass": 3,
         "Sex": "female",
         "Age": 33,
         "SibSp": 1,
         "Parch": 2,
         "Fare": 20.575,
         "Cabin": 0,
         "Embarked": "S",
         "Title": "Mrs",
         "_deepnote_index_column": 924
        },
        {
         "Pclass": 3,
         "Sex": "female",
         "Age": 23.073400000000003,
         "SibSp": 1,
         "Parch": 2,
         "Fare": 23.45,
         "Cabin": 0,
         "Embarked": "S",
         "Title": "Mrs",
         "_deepnote_index_column": 925
        },
        {
         "Pclass": 1,
         "Sex": "male",
         "Age": 30,
         "SibSp": 1,
         "Parch": 0,
         "Fare": 57.75,
         "Cabin": 1,
         "Embarked": "C",
         "Title": "Mr",
         "_deepnote_index_column": 926
        },
        {
         "Pclass": 3,
         "Sex": "male",
         "Age": 18.5,
         "SibSp": 0,
         "Parch": 0,
         "Fare": 7.2292,
         "Cabin": 0,
         "Embarked": "C",
         "Title": "Mr",
         "_deepnote_index_column": 927
        },
        {
         "Pclass": 3,
         "Sex": "female",
         "Age": 23.073400000000003,
         "SibSp": 0,
         "Parch": 0,
         "Fare": 8.05,
         "Cabin": 0,
         "Embarked": "S",
         "Title": "Miss",
         "_deepnote_index_column": 928
        },
        {
         "Pclass": 3,
         "Sex": "female",
         "Age": 21,
         "SibSp": 0,
         "Parch": 0,
         "Fare": 8.6625,
         "Cabin": 0,
         "Embarked": "S",
         "Title": "Miss",
         "_deepnote_index_column": 929
        },
        {
         "Pclass": 3,
         "Sex": "male",
         "Age": 25,
         "SibSp": 0,
         "Parch": 0,
         "Fare": 9.5,
         "Cabin": 0,
         "Embarked": "S",
         "Title": "Mr",
         "_deepnote_index_column": 930
        },
        {
         "Pclass": 3,
         "Sex": "male",
         "Age": 24.525104166666665,
         "SibSp": 0,
         "Parch": 0,
         "Fare": 56.4958,
         "Cabin": 0,
         "Embarked": "S",
         "Title": "Mr",
         "_deepnote_index_column": 931
        },
        {
         "Pclass": 3,
         "Sex": "male",
         "Age": 39,
         "SibSp": 0,
         "Parch": 1,
         "Fare": 13.4167,
         "Cabin": 0,
         "Embarked": "C",
         "Title": "Mr",
         "_deepnote_index_column": 932
        },
        {
         "Pclass": 1,
         "Sex": "male",
         "Age": 40.52,
         "SibSp": 0,
         "Parch": 0,
         "Fare": 26.55,
         "Cabin": 1,
         "Embarked": "S",
         "Title": "Mr",
         "_deepnote_index_column": 933
        },
        {
         "Pclass": 3,
         "Sex": "male",
         "Age": 41,
         "SibSp": 0,
         "Parch": 0,
         "Fare": 7.85,
         "Cabin": 0,
         "Embarked": "S",
         "Title": "Mr",
         "_deepnote_index_column": 934
        },
        {
         "Pclass": 2,
         "Sex": "female",
         "Age": 30,
         "SibSp": 0,
         "Parch": 0,
         "Fare": 13,
         "Cabin": 0,
         "Embarked": "S",
         "Title": "Mrs",
         "_deepnote_index_column": 935
        },
        {
         "Pclass": 1,
         "Sex": "female",
         "Age": 45,
         "SibSp": 1,
         "Parch": 0,
         "Fare": 52.5542,
         "Cabin": 1,
         "Embarked": "S",
         "Title": "Mrs",
         "_deepnote_index_column": 936
        },
        {
         "Pclass": 3,
         "Sex": "male",
         "Age": 25,
         "SibSp": 0,
         "Parch": 0,
         "Fare": 7.925,
         "Cabin": 0,
         "Embarked": "S",
         "Title": "Mr",
         "_deepnote_index_column": 937
        },
        {
         "Pclass": 1,
         "Sex": "male",
         "Age": 45,
         "SibSp": 0,
         "Parch": 0,
         "Fare": 29.7,
         "Cabin": 1,
         "Embarked": "C",
         "Title": "Mr",
         "_deepnote_index_column": 938
        },
        {
         "Pclass": 3,
         "Sex": "male",
         "Age": 24.525104166666665,
         "SibSp": 0,
         "Parch": 0,
         "Fare": 7.75,
         "Cabin": 0,
         "Embarked": "Q",
         "Title": "Mr",
         "_deepnote_index_column": 939
        },
        {
         "Pclass": 1,
         "Sex": "female",
         "Age": 60,
         "SibSp": 0,
         "Parch": 0,
         "Fare": 76.2917,
         "Cabin": 1,
         "Embarked": "C",
         "Title": "Mrs",
         "_deepnote_index_column": 940
        },
        {
         "Pclass": 3,
         "Sex": "female",
         "Age": 36,
         "SibSp": 0,
         "Parch": 2,
         "Fare": 15.9,
         "Cabin": 0,
         "Embarked": "S",
         "Title": "Mrs",
         "_deepnote_index_column": 941
        },
        {
         "Pclass": 1,
         "Sex": "male",
         "Age": 24,
         "SibSp": 1,
         "Parch": 0,
         "Fare": 60,
         "Cabin": 1,
         "Embarked": "S",
         "Title": "Mr",
         "_deepnote_index_column": 942
        },
        {
         "Pclass": 2,
         "Sex": "male",
         "Age": 27,
         "SibSp": 0,
         "Parch": 0,
         "Fare": 15.0333,
         "Cabin": 0,
         "Embarked": "C",
         "Title": "Mr",
         "_deepnote_index_column": 943
        },
        {
         "Pclass": 2,
         "Sex": "female",
         "Age": 20,
         "SibSp": 2,
         "Parch": 1,
         "Fare": 23,
         "Cabin": 0,
         "Embarked": "S",
         "Title": "Miss",
         "_deepnote_index_column": 944
        },
        {
         "Pclass": 1,
         "Sex": "female",
         "Age": 28,
         "SibSp": 3,
         "Parch": 2,
         "Fare": 263,
         "Cabin": 1,
         "Embarked": "S",
         "Title": "Miss",
         "_deepnote_index_column": 945
        },
        {
         "Pclass": 2,
         "Sex": "male",
         "Age": 30.940677966101696,
         "SibSp": 0,
         "Parch": 0,
         "Fare": 15.5792,
         "Cabin": 0,
         "Embarked": "C",
         "Title": "Mr",
         "_deepnote_index_column": 946
        }
       ],
       "rows_bottom": [
        {
         "Pclass": 2,
         "Sex": "female",
         "Age": 31,
         "SibSp": 0,
         "Parch": 0,
         "Fare": 21,
         "Cabin": 0,
         "Embarked": "S",
         "Title": "Mrs",
         "_deepnote_index_column": 1254
        },
        {
         "Pclass": 3,
         "Sex": "male",
         "Age": 27,
         "SibSp": 0,
         "Parch": 0,
         "Fare": 8.6625,
         "Cabin": 0,
         "Embarked": "S",
         "Title": "Mr",
         "_deepnote_index_column": 1255
        },
        {
         "Pclass": 1,
         "Sex": "female",
         "Age": 25,
         "SibSp": 1,
         "Parch": 0,
         "Fare": 55.4417,
         "Cabin": 1,
         "Embarked": "C",
         "Title": "Mrs",
         "_deepnote_index_column": 1256
        },
        {
         "Pclass": 3,
         "Sex": "female",
         "Age": 23.073400000000003,
         "SibSp": 1,
         "Parch": 9,
         "Fare": 69.55,
         "Cabin": 0,
         "Embarked": "S",
         "Title": "Mrs",
         "_deepnote_index_column": 1257
        },
        {
         "Pclass": 3,
         "Sex": "male",
         "Age": 24.525104166666665,
         "SibSp": 1,
         "Parch": 0,
         "Fare": 14.4583,
         "Cabin": 0,
         "Embarked": "C",
         "Title": "Mr",
         "_deepnote_index_column": 1258
        },
        {
         "Pclass": 3,
         "Sex": "female",
         "Age": 22,
         "SibSp": 0,
         "Parch": 0,
         "Fare": 39.6875,
         "Cabin": 0,
         "Embarked": "S",
         "Title": "Miss",
         "_deepnote_index_column": 1259
        },
        {
         "Pclass": 1,
         "Sex": "female",
         "Age": 45,
         "SibSp": 0,
         "Parch": 1,
         "Fare": 59.4,
         "Cabin": 0,
         "Embarked": "C",
         "Title": "Mrs",
         "_deepnote_index_column": 1260
        },
        {
         "Pclass": 2,
         "Sex": "male",
         "Age": 29,
         "SibSp": 0,
         "Parch": 0,
         "Fare": 13.8583,
         "Cabin": 0,
         "Embarked": "C",
         "Title": "Mr",
         "_deepnote_index_column": 1261
        },
        {
         "Pclass": 2,
         "Sex": "male",
         "Age": 21,
         "SibSp": 1,
         "Parch": 0,
         "Fare": 11.5,
         "Cabin": 0,
         "Embarked": "S",
         "Title": "Mr",
         "_deepnote_index_column": 1262
        },
        {
         "Pclass": 1,
         "Sex": "female",
         "Age": 31,
         "SibSp": 0,
         "Parch": 0,
         "Fare": 134.5,
         "Cabin": 1,
         "Embarked": "C",
         "Title": "Miss",
         "_deepnote_index_column": 1263
        },
        {
         "Pclass": 1,
         "Sex": "male",
         "Age": 49,
         "SibSp": 0,
         "Parch": 0,
         "Fare": 0,
         "Cabin": 1,
         "Embarked": "S",
         "Title": "Mr",
         "_deepnote_index_column": 1264
        },
        {
         "Pclass": 2,
         "Sex": "male",
         "Age": 44,
         "SibSp": 0,
         "Parch": 0,
         "Fare": 13,
         "Cabin": 0,
         "Embarked": "S",
         "Title": "Mr",
         "_deepnote_index_column": 1265
        },
        {
         "Pclass": 1,
         "Sex": "female",
         "Age": 54,
         "SibSp": 1,
         "Parch": 1,
         "Fare": 81.8583,
         "Cabin": 1,
         "Embarked": "S",
         "Title": "Mrs",
         "_deepnote_index_column": 1266
        },
        {
         "Pclass": 1,
         "Sex": "female",
         "Age": 45,
         "SibSp": 0,
         "Parch": 0,
         "Fare": 262.375,
         "Cabin": 0,
         "Embarked": "C",
         "Title": "Miss",
         "_deepnote_index_column": 1267
        },
        {
         "Pclass": 3,
         "Sex": "female",
         "Age": 22,
         "SibSp": 2,
         "Parch": 0,
         "Fare": 8.6625,
         "Cabin": 0,
         "Embarked": "S",
         "Title": "Miss",
         "_deepnote_index_column": 1268
        },
        {
         "Pclass": 2,
         "Sex": "male",
         "Age": 21,
         "SibSp": 0,
         "Parch": 0,
         "Fare": 11.5,
         "Cabin": 0,
         "Embarked": "S",
         "Title": "Mr",
         "_deepnote_index_column": 1269
        },
        {
         "Pclass": 1,
         "Sex": "male",
         "Age": 55,
         "SibSp": 0,
         "Parch": 0,
         "Fare": 50,
         "Cabin": 1,
         "Embarked": "S",
         "Title": "Mr",
         "_deepnote_index_column": 1270
        },
        {
         "Pclass": 3,
         "Sex": "male",
         "Age": 5,
         "SibSp": 4,
         "Parch": 2,
         "Fare": 31.3875,
         "Cabin": 0,
         "Embarked": "S",
         "Title": "Master",
         "_deepnote_index_column": 1271
        },
        {
         "Pclass": 3,
         "Sex": "male",
         "Age": 24.525104166666665,
         "SibSp": 0,
         "Parch": 0,
         "Fare": 7.75,
         "Cabin": 0,
         "Embarked": "Q",
         "Title": "Mr",
         "_deepnote_index_column": 1272
        },
        {
         "Pclass": 3,
         "Sex": "male",
         "Age": 26,
         "SibSp": 0,
         "Parch": 0,
         "Fare": 7.8792,
         "Cabin": 0,
         "Embarked": "Q",
         "Title": "Mr",
         "_deepnote_index_column": 1273
        },
        {
         "Pclass": 3,
         "Sex": "female",
         "Age": 23.073400000000003,
         "SibSp": 0,
         "Parch": 0,
         "Fare": 14.5,
         "Cabin": 0,
         "Embarked": "S",
         "Title": "Mrs",
         "_deepnote_index_column": 1274
        },
        {
         "Pclass": 3,
         "Sex": "female",
         "Age": 19,
         "SibSp": 1,
         "Parch": 0,
         "Fare": 16.1,
         "Cabin": 0,
         "Embarked": "S",
         "Title": "Mrs",
         "_deepnote_index_column": 1275
        },
        {
         "Pclass": 2,
         "Sex": "male",
         "Age": 30.940677966101696,
         "SibSp": 0,
         "Parch": 0,
         "Fare": 12.875,
         "Cabin": 0,
         "Embarked": "S",
         "Title": "Mr",
         "_deepnote_index_column": 1276
        },
        {
         "Pclass": 2,
         "Sex": "female",
         "Age": 24,
         "SibSp": 1,
         "Parch": 2,
         "Fare": 65,
         "Cabin": 0,
         "Embarked": "S",
         "Title": "Miss",
         "_deepnote_index_column": 1277
        },
        {
         "Pclass": 3,
         "Sex": "male",
         "Age": 24,
         "SibSp": 0,
         "Parch": 0,
         "Fare": 7.775,
         "Cabin": 0,
         "Embarked": "S",
         "Title": "Mr",
         "_deepnote_index_column": 1278
        },
        {
         "Pclass": 2,
         "Sex": "male",
         "Age": 57,
         "SibSp": 0,
         "Parch": 0,
         "Fare": 13,
         "Cabin": 0,
         "Embarked": "S",
         "Title": "Mr",
         "_deepnote_index_column": 1279
        },
        {
         "Pclass": 3,
         "Sex": "male",
         "Age": 21,
         "SibSp": 0,
         "Parch": 0,
         "Fare": 7.75,
         "Cabin": 0,
         "Embarked": "Q",
         "Title": "Mr",
         "_deepnote_index_column": 1280
        },
        {
         "Pclass": 3,
         "Sex": "male",
         "Age": 6,
         "SibSp": 3,
         "Parch": 1,
         "Fare": 21.075,
         "Cabin": 0,
         "Embarked": "S",
         "Title": "Master",
         "_deepnote_index_column": 1281
        },
        {
         "Pclass": 1,
         "Sex": "male",
         "Age": 23,
         "SibSp": 0,
         "Parch": 0,
         "Fare": 93.5,
         "Cabin": 1,
         "Embarked": "S",
         "Title": "Mr",
         "_deepnote_index_column": 1282
        },
        {
         "Pclass": 1,
         "Sex": "female",
         "Age": 51,
         "SibSp": 0,
         "Parch": 1,
         "Fare": 39.4,
         "Cabin": 1,
         "Embarked": "S",
         "Title": "Mrs",
         "_deepnote_index_column": 1283
        },
        {
         "Pclass": 3,
         "Sex": "male",
         "Age": 13,
         "SibSp": 0,
         "Parch": 2,
         "Fare": 20.25,
         "Cabin": 0,
         "Embarked": "S",
         "Title": "Master",
         "_deepnote_index_column": 1284
        },
        {
         "Pclass": 2,
         "Sex": "male",
         "Age": 47,
         "SibSp": 0,
         "Parch": 0,
         "Fare": 10.5,
         "Cabin": 0,
         "Embarked": "S",
         "Title": "Mr",
         "_deepnote_index_column": 1285
        },
        {
         "Pclass": 3,
         "Sex": "male",
         "Age": 29,
         "SibSp": 3,
         "Parch": 1,
         "Fare": 22.025,
         "Cabin": 0,
         "Embarked": "S",
         "Title": "Mr",
         "_deepnote_index_column": 1286
        },
        {
         "Pclass": 1,
         "Sex": "female",
         "Age": 18,
         "SibSp": 1,
         "Parch": 0,
         "Fare": 60,
         "Cabin": 1,
         "Embarked": "S",
         "Title": "Mrs",
         "_deepnote_index_column": 1287
        },
        {
         "Pclass": 3,
         "Sex": "male",
         "Age": 24,
         "SibSp": 0,
         "Parch": 0,
         "Fare": 7.25,
         "Cabin": 0,
         "Embarked": "Q",
         "Title": "Mr",
         "_deepnote_index_column": 1288
        },
        {
         "Pclass": 1,
         "Sex": "female",
         "Age": 48,
         "SibSp": 1,
         "Parch": 1,
         "Fare": 79.2,
         "Cabin": 1,
         "Embarked": "C",
         "Title": "Mrs",
         "_deepnote_index_column": 1289
        },
        {
         "Pclass": 3,
         "Sex": "male",
         "Age": 22,
         "SibSp": 0,
         "Parch": 0,
         "Fare": 7.775,
         "Cabin": 0,
         "Embarked": "S",
         "Title": "Mr",
         "_deepnote_index_column": 1290
        },
        {
         "Pclass": 3,
         "Sex": "male",
         "Age": 31,
         "SibSp": 0,
         "Parch": 0,
         "Fare": 7.7333,
         "Cabin": 0,
         "Embarked": "Q",
         "Title": "Mr",
         "_deepnote_index_column": 1291
        },
        {
         "Pclass": 1,
         "Sex": "female",
         "Age": 30,
         "SibSp": 0,
         "Parch": 0,
         "Fare": 164.8667,
         "Cabin": 1,
         "Embarked": "S",
         "Title": "Miss",
         "_deepnote_index_column": 1292
        },
        {
         "Pclass": 2,
         "Sex": "male",
         "Age": 38,
         "SibSp": 1,
         "Parch": 0,
         "Fare": 21,
         "Cabin": 0,
         "Embarked": "S",
         "Title": "Mr",
         "_deepnote_index_column": 1293
        },
        {
         "Pclass": 1,
         "Sex": "female",
         "Age": 22,
         "SibSp": 0,
         "Parch": 1,
         "Fare": 59.4,
         "Cabin": 0,
         "Embarked": "C",
         "Title": "Miss",
         "_deepnote_index_column": 1294
        },
        {
         "Pclass": 1,
         "Sex": "male",
         "Age": 17,
         "SibSp": 0,
         "Parch": 0,
         "Fare": 47.1,
         "Cabin": 0,
         "Embarked": "S",
         "Title": "Mr",
         "_deepnote_index_column": 1295
        },
        {
         "Pclass": 1,
         "Sex": "male",
         "Age": 43,
         "SibSp": 1,
         "Parch": 0,
         "Fare": 27.7208,
         "Cabin": 1,
         "Embarked": "C",
         "Title": "Mr",
         "_deepnote_index_column": 1296
        },
        {
         "Pclass": 2,
         "Sex": "male",
         "Age": 20,
         "SibSp": 0,
         "Parch": 0,
         "Fare": 13.8625,
         "Cabin": 1,
         "Embarked": "C",
         "Title": "Mr",
         "_deepnote_index_column": 1297
        },
        {
         "Pclass": 2,
         "Sex": "male",
         "Age": 23,
         "SibSp": 1,
         "Parch": 0,
         "Fare": 10.5,
         "Cabin": 0,
         "Embarked": "S",
         "Title": "Mr",
         "_deepnote_index_column": 1298
        },
        {
         "Pclass": 1,
         "Sex": "male",
         "Age": 50,
         "SibSp": 1,
         "Parch": 1,
         "Fare": 211.5,
         "Cabin": 1,
         "Embarked": "C",
         "Title": "Mr",
         "_deepnote_index_column": 1299
        },
        {
         "Pclass": 3,
         "Sex": "female",
         "Age": 23.073400000000003,
         "SibSp": 0,
         "Parch": 0,
         "Fare": 7.7208,
         "Cabin": 0,
         "Embarked": "Q",
         "Title": "Miss",
         "_deepnote_index_column": 1300
        },
        {
         "Pclass": 3,
         "Sex": "female",
         "Age": 3,
         "SibSp": 1,
         "Parch": 1,
         "Fare": 13.775,
         "Cabin": 0,
         "Embarked": "S",
         "Title": "Miss",
         "_deepnote_index_column": 1301
        },
        {
         "Pclass": 3,
         "Sex": "female",
         "Age": 23.073400000000003,
         "SibSp": 0,
         "Parch": 0,
         "Fare": 7.75,
         "Cabin": 0,
         "Embarked": "Q",
         "Title": "Miss",
         "_deepnote_index_column": 1302
        },
        {
         "Pclass": 1,
         "Sex": "female",
         "Age": 37,
         "SibSp": 1,
         "Parch": 0,
         "Fare": 90,
         "Cabin": 1,
         "Embarked": "Q",
         "Title": "Mrs",
         "_deepnote_index_column": 1303
        },
        {
         "Pclass": 3,
         "Sex": "female",
         "Age": 28,
         "SibSp": 0,
         "Parch": 0,
         "Fare": 7.775,
         "Cabin": 0,
         "Embarked": "S",
         "Title": "Miss",
         "_deepnote_index_column": 1304
        },
        {
         "Pclass": 3,
         "Sex": "male",
         "Age": 24.525104166666665,
         "SibSp": 0,
         "Parch": 0,
         "Fare": 8.05,
         "Cabin": 0,
         "Embarked": "S",
         "Title": "Mr",
         "_deepnote_index_column": 1305
        },
        {
         "Pclass": 1,
         "Sex": "female",
         "Age": 39,
         "SibSp": 0,
         "Parch": 0,
         "Fare": 108.9,
         "Cabin": 1,
         "Embarked": "C",
         "Title": "Mr",
         "_deepnote_index_column": 1306
        },
        {
         "Pclass": 3,
         "Sex": "male",
         "Age": 38.5,
         "SibSp": 0,
         "Parch": 0,
         "Fare": 7.25,
         "Cabin": 0,
         "Embarked": "S",
         "Title": "Mr",
         "_deepnote_index_column": 1307
        },
        {
         "Pclass": 3,
         "Sex": "male",
         "Age": 24.525104166666665,
         "SibSp": 0,
         "Parch": 0,
         "Fare": 8.05,
         "Cabin": 0,
         "Embarked": "S",
         "Title": "Mr",
         "_deepnote_index_column": 1308
        },
        {
         "Pclass": 3,
         "Sex": "male",
         "Age": 24.525104166666665,
         "SibSp": 1,
         "Parch": 1,
         "Fare": 22.3583,
         "Cabin": 0,
         "Embarked": "C",
         "Title": "Master",
         "_deepnote_index_column": 1309
        }
       ]
      },
      "text/plain": "             Pclass     Sex        Age  SibSp  Parch      Fare Cabin Embarked  \\\nPassengerId                                                                     \n892               3    male  34.500000      0      0    7.8292     0        Q   \n893               3  female  47.000000      1      0    7.0000     0        S   \n894               2    male  62.000000      0      0    9.6875     0        Q   \n895               3    male  27.000000      0      0    8.6625     0        S   \n896               3  female  22.000000      1      1   12.2875     0        S   \n...             ...     ...        ...    ...    ...       ...   ...      ...   \n1305              3    male  24.525104      0      0    8.0500     0        S   \n1306              1  female  39.000000      0      0  108.9000     1        C   \n1307              3    male  38.500000      0      0    7.2500     0        S   \n1308              3    male  24.525104      0      0    8.0500     0        S   \n1309              3    male  24.525104      1      1   22.3583     0        C   \n\n              Title  \nPassengerId          \n892              Mr  \n893             Mrs  \n894              Mr  \n895              Mr  \n896             Mrs  \n...             ...  \n1305             Mr  \n1306             Mr  \n1307             Mr  \n1308             Mr  \n1309         Master  \n\n[418 rows x 9 columns]",
      "text/html": "<div>\n<style scoped>\n    .dataframe tbody tr th:only-of-type {\n        vertical-align: middle;\n    }\n\n    .dataframe tbody tr th {\n        vertical-align: top;\n    }\n\n    .dataframe thead th {\n        text-align: right;\n    }\n</style>\n<table border=\"1\" class=\"dataframe\">\n  <thead>\n    <tr style=\"text-align: right;\">\n      <th></th>\n      <th>Pclass</th>\n      <th>Sex</th>\n      <th>Age</th>\n      <th>SibSp</th>\n      <th>Parch</th>\n      <th>Fare</th>\n      <th>Cabin</th>\n      <th>Embarked</th>\n      <th>Title</th>\n    </tr>\n    <tr>\n      <th>PassengerId</th>\n      <th></th>\n      <th></th>\n      <th></th>\n      <th></th>\n      <th></th>\n      <th></th>\n      <th></th>\n      <th></th>\n      <th></th>\n    </tr>\n  </thead>\n  <tbody>\n    <tr>\n      <th>892</th>\n      <td>3</td>\n      <td>male</td>\n      <td>34.500000</td>\n      <td>0</td>\n      <td>0</td>\n      <td>7.8292</td>\n      <td>0</td>\n      <td>Q</td>\n      <td>Mr</td>\n    </tr>\n    <tr>\n      <th>893</th>\n      <td>3</td>\n      <td>female</td>\n      <td>47.000000</td>\n      <td>1</td>\n      <td>0</td>\n      <td>7.0000</td>\n      <td>0</td>\n      <td>S</td>\n      <td>Mrs</td>\n    </tr>\n    <tr>\n      <th>894</th>\n      <td>2</td>\n      <td>male</td>\n      <td>62.000000</td>\n      <td>0</td>\n      <td>0</td>\n      <td>9.6875</td>\n      <td>0</td>\n      <td>Q</td>\n      <td>Mr</td>\n    </tr>\n    <tr>\n      <th>895</th>\n      <td>3</td>\n      <td>male</td>\n      <td>27.000000</td>\n      <td>0</td>\n      <td>0</td>\n      <td>8.6625</td>\n      <td>0</td>\n      <td>S</td>\n      <td>Mr</td>\n    </tr>\n    <tr>\n      <th>896</th>\n      <td>3</td>\n      <td>female</td>\n      <td>22.000000</td>\n      <td>1</td>\n      <td>1</td>\n      <td>12.2875</td>\n      <td>0</td>\n      <td>S</td>\n      <td>Mrs</td>\n    </tr>\n    <tr>\n      <th>...</th>\n      <td>...</td>\n      <td>...</td>\n      <td>...</td>\n      <td>...</td>\n      <td>...</td>\n      <td>...</td>\n      <td>...</td>\n      <td>...</td>\n      <td>...</td>\n    </tr>\n    <tr>\n      <th>1305</th>\n      <td>3</td>\n      <td>male</td>\n      <td>24.525104</td>\n      <td>0</td>\n      <td>0</td>\n      <td>8.0500</td>\n      <td>0</td>\n      <td>S</td>\n      <td>Mr</td>\n    </tr>\n    <tr>\n      <th>1306</th>\n      <td>1</td>\n      <td>female</td>\n      <td>39.000000</td>\n      <td>0</td>\n      <td>0</td>\n      <td>108.9000</td>\n      <td>1</td>\n      <td>C</td>\n      <td>Mr</td>\n    </tr>\n    <tr>\n      <th>1307</th>\n      <td>3</td>\n      <td>male</td>\n      <td>38.500000</td>\n      <td>0</td>\n      <td>0</td>\n      <td>7.2500</td>\n      <td>0</td>\n      <td>S</td>\n      <td>Mr</td>\n    </tr>\n    <tr>\n      <th>1308</th>\n      <td>3</td>\n      <td>male</td>\n      <td>24.525104</td>\n      <td>0</td>\n      <td>0</td>\n      <td>8.0500</td>\n      <td>0</td>\n      <td>S</td>\n      <td>Mr</td>\n    </tr>\n    <tr>\n      <th>1309</th>\n      <td>3</td>\n      <td>male</td>\n      <td>24.525104</td>\n      <td>1</td>\n      <td>1</td>\n      <td>22.3583</td>\n      <td>0</td>\n      <td>C</td>\n      <td>Master</td>\n    </tr>\n  </tbody>\n</table>\n<p>418 rows × 9 columns</p>\n</div>"
     },
     "metadata": {}
    }
   ]
  },
  {
   "cell_type": "code",
   "metadata": {
    "deletable": false,
    "nbgrader": {
     "cell_type": "code",
     "checksum": "031ab122b02b5833236370a53d148daf",
     "grade": false,
     "grade_id": "cell-44b93a0dbd4eb6fc",
     "locked": false,
     "schema_version": 3,
     "solution": true,
     "task": false
    },
    "id": "ee4a_CpLGTJQ",
    "cell_id": "00047-12bebda4-f3f3-4fd2-8424-d5b044d54ac4",
    "deepnote_to_be_reexecuted": false,
    "source_hash": "c4d80384",
    "execution_start": 1620746782254,
    "execution_millis": 8,
    "deepnote_cell_type": "code"
   },
   "source": "test_pred = best_pipe.predict(x_test)\n",
   "execution_count": null,
   "outputs": []
  },
  {
   "cell_type": "markdown",
   "source": "# Exercise 7.3\n\nSubmit to kaggle.\n\n- You can use the kaggle command line app. Check https://github.com/Kaggle/kaggle-api",
   "metadata": {
    "id": "S9THNB0rGTJQ",
    "cell_id": "00049-36ec58ee-b264-415b-9881-1381ff7e5869",
    "deepnote_cell_type": "markdown"
   }
  },
  {
   "cell_type": "code",
   "metadata": {
    "id": "ipuMU0coGTJQ",
    "colab": {
     "base_uri": "https://localhost:8080/",
     "height": 225
    },
    "outputId": "b1ae07bc-a64c-48e2-d7de-c31c193b3313",
    "cell_id": "00050-a9b5b8e6-07ac-41c2-8231-48b2a46a4f22",
    "deepnote_to_be_reexecuted": false,
    "source_hash": "82f8bb8f",
    "execution_start": 1620746784845,
    "execution_millis": 18,
    "deepnote_cell_type": "code"
   },
   "source": "sub = pd.DataFrame(test_pred, index=x_test.index, columns=[\"Survived\"])\nsub.head()",
   "execution_count": null,
   "outputs": [
    {
     "output_type": "execute_result",
     "execution_count": 82,
     "data": {
      "application/vnd.deepnote.dataframe.v2+json": {
       "row_count": 5,
       "column_count": 1,
       "columns": [
        {
         "name": "Survived",
         "dtype": "int64",
         "stats": {
          "unique_count": 2,
          "nan_count": 0,
          "min": "0",
          "max": "1",
          "histogram": [
           {
            "bin_start": 0,
            "bin_end": 0.1,
            "count": 4
           },
           {
            "bin_start": 0.1,
            "bin_end": 0.2,
            "count": 0
           },
           {
            "bin_start": 0.2,
            "bin_end": 0.30000000000000004,
            "count": 0
           },
           {
            "bin_start": 0.30000000000000004,
            "bin_end": 0.4,
            "count": 0
           },
           {
            "bin_start": 0.4,
            "bin_end": 0.5,
            "count": 0
           },
           {
            "bin_start": 0.5,
            "bin_end": 0.6000000000000001,
            "count": 0
           },
           {
            "bin_start": 0.6000000000000001,
            "bin_end": 0.7000000000000001,
            "count": 0
           },
           {
            "bin_start": 0.7000000000000001,
            "bin_end": 0.8,
            "count": 0
           },
           {
            "bin_start": 0.8,
            "bin_end": 0.9,
            "count": 0
           },
           {
            "bin_start": 0.9,
            "bin_end": 1,
            "count": 1
           }
          ]
         }
        },
        {
         "name": "_deepnote_index_column",
         "dtype": "int64"
        }
       ],
       "rows_top": [
        {
         "Survived": 0,
         "_deepnote_index_column": 892
        },
        {
         "Survived": 0,
         "_deepnote_index_column": 893
        },
        {
         "Survived": 0,
         "_deepnote_index_column": 894
        },
        {
         "Survived": 0,
         "_deepnote_index_column": 895
        },
        {
         "Survived": 1,
         "_deepnote_index_column": 896
        }
       ],
       "rows_bottom": null
      },
      "text/plain": "             Survived\nPassengerId          \n892                 0\n893                 0\n894                 0\n895                 0\n896                 1",
      "text/html": "<div>\n<style scoped>\n    .dataframe tbody tr th:only-of-type {\n        vertical-align: middle;\n    }\n\n    .dataframe tbody tr th {\n        vertical-align: top;\n    }\n\n    .dataframe thead th {\n        text-align: right;\n    }\n</style>\n<table border=\"1\" class=\"dataframe\">\n  <thead>\n    <tr style=\"text-align: right;\">\n      <th></th>\n      <th>Survived</th>\n    </tr>\n    <tr>\n      <th>PassengerId</th>\n      <th></th>\n    </tr>\n  </thead>\n  <tbody>\n    <tr>\n      <th>892</th>\n      <td>0</td>\n    </tr>\n    <tr>\n      <th>893</th>\n      <td>0</td>\n    </tr>\n    <tr>\n      <th>894</th>\n      <td>0</td>\n    </tr>\n    <tr>\n      <th>895</th>\n      <td>0</td>\n    </tr>\n    <tr>\n      <th>896</th>\n      <td>1</td>\n    </tr>\n  </tbody>\n</table>\n</div>"
     },
     "metadata": {}
    }
   ]
  },
  {
   "cell_type": "code",
   "metadata": {
    "id": "GQkdojiZGTJR",
    "cell_id": "00051-d2601477-278a-4958-baaf-5754b7050292",
    "deepnote_to_be_reexecuted": false,
    "source_hash": "d25356f7",
    "execution_start": 1620746786512,
    "execution_millis": 37,
    "deepnote_cell_type": "code"
   },
   "source": "sub.to_csv(\"sub.csv\")",
   "execution_count": null,
   "outputs": []
  },
  {
   "cell_type": "code",
   "metadata": {
    "id": "mcGTKHoOGTJR",
    "colab": {
     "base_uri": "https://localhost:8080/"
    },
    "outputId": "d1b4ea9d-d561-4522-8afa-8b5c69df98db",
    "cell_id": "00052-03768e64-8a00-4704-9cd2-8617c16cee55",
    "deepnote_to_be_reexecuted": false,
    "source_hash": "c64add6f",
    "execution_start": 1620746787793,
    "execution_millis": 1008,
    "deepnote_cell_type": "code"
   },
   "source": "!kaggle competitions submit -c titanic -f sub.csv -m \"My submission message\"",
   "execution_count": null,
   "outputs": [
    {
     "name": "stdout",
     "text": "Traceback (most recent call last):\r\n  File \"/root/venv/bin/kaggle\", line 5, in <module>\r\n    from kaggle.cli import main\r\n  File \"/root/venv/lib/python3.7/site-packages/kaggle/__init__.py\", line 23, in <module>\r\n    api.authenticate()\r\n  File \"/root/venv/lib/python3.7/site-packages/kaggle/api/kaggle_api_extended.py\", line 166, in authenticate\r\n    self.config_file, self.config_dir))\r\nOSError: Could not find kaggle.json. Make sure it's located in /root/.kaggle. Or use the environment method.\r\n",
     "output_type": "stream"
    }
   ]
  },
  {
   "cell_type": "code",
   "metadata": {
    "id": "dIDPSRg4oHRb",
    "cell_id": "00053-cb6d973c-cf12-4d1f-bae4-c58e36b01333",
    "deepnote_to_be_reexecuted": true,
    "source_hash": "b623e53d",
    "deepnote_cell_type": "code"
   },
   "source": "",
   "execution_count": null,
   "outputs": []
  },
  {
   "cell_type": "markdown",
   "source": "<a style='text-decoration:none;line-height:16px;display:flex;color:#5B5B62;padding:10px;justify-content:end;' href='https://deepnote.com?utm_source=created-in-deepnote-cell&projectId=796ba814-f632-4502-b0d7-7e2f8f9e546d' target=\"_blank\">\n<img alt='Created in deepnote.com' style='display:inline;max-height:16px;margin:0px;margin-right:7.5px;' src='data:image/svg+xml;base64,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' > </img>\nCreated in <span style='font-weight:600;margin-left:4px;'>Deepnote</span></a>",
   "metadata": {
    "tags": [],
    "created_in_deepnote_cell": true,
    "deepnote_cell_type": "markdown"
   }
  }
 ],
 "nbformat": 4,
 "nbformat_minor": 0,
 "metadata": {
  "anaconda-cloud": {},
  "colab": {
   "name": "28fe1",
   "provenance": [],
   "collapsed_sections": [],
   "toc_visible": true
  },
  "kernelspec": {
   "display_name": "Python 3",
   "language": "python",
   "name": "python3"
  },
  "language_info": {
   "codemirror_mode": {
    "name": "ipython",
    "version": 3
   },
   "file_extension": ".py",
   "mimetype": "text/x-python",
   "name": "python",
   "nbconvert_exporter": "python",
   "pygments_lexer": "ipython3",
   "version": "3.7.10"
  },
  "name": "seminar13_optional_practice_trees_titanic.ipynb",
  "deepnote_notebook_id": "23bf2aa8-6ee9-421d-8859-2e4746e600a0",
  "deepnote": {},
  "deepnote_execution_queue": []
 }
}