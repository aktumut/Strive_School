{
 "cells": [
  {
   "cell_type": "code",
   "metadata": {
    "tags": [],
    "cell_id": "00000-95741be9-e8d0-4076-977b-dd0705e36669",
    "deepnote_to_be_reexecuted": false,
    "source_hash": "fbbc4272",
    "execution_start": 1620648501443,
    "execution_millis": 1546,
    "deepnote_cell_type": "code"
   },
   "source": "import time\nfrom IPython.display import clear_output\nimport numpy    as np\nimport pandas   as pd\nimport seaborn  as sb\nimport matplotlib.pyplot as plt\nimport sklearn  as skl\n\nfrom sklearn import pipeline      # Pipeline\nfrom sklearn import preprocessing # OrdinalEncoder, LabelEncoder\nfrom sklearn import impute\nfrom sklearn import compose\nfrom sklearn import model_selection # train_test_split\nfrom sklearn import metrics         # accuracy_score, balanced_accuracy_score, plot_confusion_matrix\nfrom sklearn import set_config\nfrom sklearn.impute import KNNImputer\nfrom sklearn.preprocessing import PowerTransformer\nfrom sklearn.preprocessing import QuantileTransformer\n\nset_config(display='diagram') # Useful for display the pipeline\n\nprint(\"Pandas  \", pd.__version__)\nprint(\"Sklearn \", skl.__version__) # Try to use 0.24",
   "execution_count": 1,
   "outputs": [
    {
     "name": "stdout",
     "text": "Pandas   1.2.4\nSklearn  0.24.2\n",
     "output_type": "stream"
    }
   ]
  },
  {
   "cell_type": "markdown",
   "source": "### Importing Dataset",
   "metadata": {
    "tags": [],
    "cell_id": "00001-082b1ddd-36f4-4d84-93cb-2d9e484c5741",
    "deepnote_cell_type": "markdown"
   }
  },
  {
   "cell_type": "code",
   "source": "CLOUD = False\n\nif CLOUD:\n    import os\n    os.environ['KAGGLE_USERNAME'] = \"umutakta\"\n    os.environ['KAGGLE_KEY']      = \"a471e5474add8d57cadac3cc5ff2b1d6\"  \n    !pip install --upgrade kaggle\n    !kaggle competitions download -c competitive-data-science-predict-future-sales\n    DATA_PATH = \"/work/Strive_School/Feature_Engineering_(Module_4)/Day_6_Feature_Selection/competitive-data-science-predict-future-sales/\"\n\nelse:\n    DATA_PATH = \"/work/competitive-data-science-predict-future-sales/\"\n\nDATA_PATH",
   "metadata": {
    "tags": [],
    "cell_id": "00001-4d9caa75-fcf5-46f6-8cb0-4764c7876989",
    "deepnote_to_be_reexecuted": false,
    "source_hash": "99c20893",
    "execution_start": 1620648502995,
    "execution_millis": 8,
    "deepnote_cell_type": "code"
   },
   "outputs": [
    {
     "output_type": "execute_result",
     "execution_count": 2,
     "data": {
      "text/plain": "'/work/Strive_School/Feature_Engineering_(Module_4)/Day_6_Feature_Selection/competitive-data-science-predict-future-sales/'"
     },
     "metadata": {}
    }
   ],
   "execution_count": 2
  },
  {
   "cell_type": "markdown",
   "source": "**Creating Data Frame**",
   "metadata": {
    "tags": [],
    "cell_id": "00003-059498e6-3368-4293-9131-8d6bacd09536",
    "deepnote_cell_type": "markdown"
   }
  },
  {
   "cell_type": "code",
   "source": "df_item_categ=pd.read_csv(DATA_PATH+\"item_categories.csv\")\ndf_items=pd.read_csv(DATA_PATH+\"items.csv\")\ndf=pd.read_csv(DATA_PATH+\"sales_train.csv\")\ndf_sample=pd.read_csv(DATA_PATH+\"sample_submission.csv\")\ndf_shops=pd.read_csv(DATA_PATH+\"shops.csv\")\ndf_test=pd.read_csv(DATA_PATH+\"test.csv\")",
   "metadata": {
    "tags": [],
    "cell_id": "00003-809636de-6c7f-4f89-a92a-fefb558b426b",
    "deepnote_to_be_reexecuted": false,
    "source_hash": "bc6d4ea6",
    "execution_start": 1620648503005,
    "execution_millis": 1753,
    "deepnote_cell_type": "code"
   },
   "outputs": [],
   "execution_count": 3
  },
  {
   "cell_type": "code",
   "source": "df.head()",
   "metadata": {
    "tags": [],
    "cell_id": "00004-ca719acd-7795-41a3-b6be-3fd51c7b0ad5",
    "deepnote_to_be_reexecuted": false,
    "source_hash": "c085b6ba",
    "execution_start": 1620648504781,
    "execution_millis": 21,
    "deepnote_cell_type": "code"
   },
   "outputs": [
    {
     "output_type": "execute_result",
     "execution_count": 4,
     "data": {
      "application/vnd.deepnote.dataframe.v2+json": {
       "row_count": 5,
       "column_count": 6,
       "columns": [
        {
         "name": "date",
         "dtype": "object",
         "stats": {
          "unique_count": 5,
          "nan_count": 0,
          "categories": [
           {
            "name": "02.01.2013",
            "count": 1
           },
           {
            "name": "03.01.2013",
            "count": 1
           },
           {
            "name": "3 others",
            "count": 3
           }
          ]
         }
        },
        {
         "name": "date_block_num",
         "dtype": "int64",
         "stats": {
          "unique_count": 1,
          "nan_count": 0,
          "min": "0",
          "max": "0",
          "histogram": [
           {
            "bin_start": -0.5,
            "bin_end": -0.4,
            "count": 0
           },
           {
            "bin_start": -0.4,
            "bin_end": -0.3,
            "count": 0
           },
           {
            "bin_start": -0.3,
            "bin_end": -0.19999999999999996,
            "count": 0
           },
           {
            "bin_start": -0.19999999999999996,
            "bin_end": -0.09999999999999998,
            "count": 0
           },
           {
            "bin_start": -0.09999999999999998,
            "bin_end": 0,
            "count": 0
           },
           {
            "bin_start": 0,
            "bin_end": 0.10000000000000009,
            "count": 5
           },
           {
            "bin_start": 0.10000000000000009,
            "bin_end": 0.20000000000000007,
            "count": 0
           },
           {
            "bin_start": 0.20000000000000007,
            "bin_end": 0.30000000000000004,
            "count": 0
           },
           {
            "bin_start": 0.30000000000000004,
            "bin_end": 0.4,
            "count": 0
           },
           {
            "bin_start": 0.4,
            "bin_end": 0.5,
            "count": 0
           }
          ]
         }
        },
        {
         "name": "shop_id",
         "dtype": "int64",
         "stats": {
          "unique_count": 2,
          "nan_count": 0,
          "min": "25",
          "max": "59",
          "histogram": [
           {
            "bin_start": 25,
            "bin_end": 28.4,
            "count": 4
           },
           {
            "bin_start": 28.4,
            "bin_end": 31.8,
            "count": 0
           },
           {
            "bin_start": 31.8,
            "bin_end": 35.2,
            "count": 0
           },
           {
            "bin_start": 35.2,
            "bin_end": 38.6,
            "count": 0
           },
           {
            "bin_start": 38.6,
            "bin_end": 42,
            "count": 0
           },
           {
            "bin_start": 42,
            "bin_end": 45.4,
            "count": 0
           },
           {
            "bin_start": 45.4,
            "bin_end": 48.8,
            "count": 0
           },
           {
            "bin_start": 48.8,
            "bin_end": 52.2,
            "count": 0
           },
           {
            "bin_start": 52.2,
            "bin_end": 55.599999999999994,
            "count": 0
           },
           {
            "bin_start": 55.599999999999994,
            "bin_end": 59,
            "count": 1
           }
          ]
         }
        },
        {
         "name": "item_id",
         "dtype": "int64",
         "stats": {
          "unique_count": 4,
          "nan_count": 0,
          "min": "2552",
          "max": "22154",
          "histogram": [
           {
            "bin_start": 2552,
            "bin_end": 4512.2,
            "count": 4
           },
           {
            "bin_start": 4512.2,
            "bin_end": 6472.4,
            "count": 0
           },
           {
            "bin_start": 6472.4,
            "bin_end": 8432.6,
            "count": 0
           },
           {
            "bin_start": 8432.6,
            "bin_end": 10392.8,
            "count": 0
           },
           {
            "bin_start": 10392.8,
            "bin_end": 12353,
            "count": 0
           },
           {
            "bin_start": 12353,
            "bin_end": 14313.2,
            "count": 0
           },
           {
            "bin_start": 14313.2,
            "bin_end": 16273.4,
            "count": 0
           },
           {
            "bin_start": 16273.4,
            "bin_end": 18233.6,
            "count": 0
           },
           {
            "bin_start": 18233.6,
            "bin_end": 20193.8,
            "count": 0
           },
           {
            "bin_start": 20193.8,
            "bin_end": 22154,
            "count": 1
           }
          ]
         }
        },
        {
         "name": "item_price",
         "dtype": "float64",
         "stats": {
          "unique_count": 4,
          "nan_count": 0,
          "min": "899.0",
          "max": "1709.05",
          "histogram": [
           {
            "bin_start": 899,
            "bin_end": 980.005,
            "count": 2
           },
           {
            "bin_start": 980.005,
            "bin_end": 1061.01,
            "count": 1
           },
           {
            "bin_start": 1061.01,
            "bin_end": 1142.0149999999999,
            "count": 1
           },
           {
            "bin_start": 1142.0149999999999,
            "bin_end": 1223.02,
            "count": 0
           },
           {
            "bin_start": 1223.02,
            "bin_end": 1304.025,
            "count": 0
           },
           {
            "bin_start": 1304.025,
            "bin_end": 1385.03,
            "count": 0
           },
           {
            "bin_start": 1385.03,
            "bin_end": 1466.0349999999999,
            "count": 0
           },
           {
            "bin_start": 1466.0349999999999,
            "bin_end": 1547.04,
            "count": 0
           },
           {
            "bin_start": 1547.04,
            "bin_end": 1628.045,
            "count": 0
           },
           {
            "bin_start": 1628.045,
            "bin_end": 1709.05,
            "count": 1
           }
          ]
         }
        },
        {
         "name": "item_cnt_day",
         "dtype": "float64",
         "stats": {
          "unique_count": 2,
          "nan_count": 0,
          "min": "-1.0",
          "max": "1.0",
          "histogram": [
           {
            "bin_start": -1,
            "bin_end": -0.8,
            "count": 1
           },
           {
            "bin_start": -0.8,
            "bin_end": -0.6,
            "count": 0
           },
           {
            "bin_start": -0.6,
            "bin_end": -0.3999999999999999,
            "count": 0
           },
           {
            "bin_start": -0.3999999999999999,
            "bin_end": -0.19999999999999996,
            "count": 0
           },
           {
            "bin_start": -0.19999999999999996,
            "bin_end": 0,
            "count": 0
           },
           {
            "bin_start": 0,
            "bin_end": 0.20000000000000018,
            "count": 0
           },
           {
            "bin_start": 0.20000000000000018,
            "bin_end": 0.40000000000000013,
            "count": 0
           },
           {
            "bin_start": 0.40000000000000013,
            "bin_end": 0.6000000000000001,
            "count": 0
           },
           {
            "bin_start": 0.6000000000000001,
            "bin_end": 0.8,
            "count": 0
           },
           {
            "bin_start": 0.8,
            "bin_end": 1,
            "count": 4
           }
          ]
         }
        },
        {
         "name": "_deepnote_index_column",
         "dtype": "int64"
        }
       ],
       "rows_top": [
        {
         "date": "02.01.2013",
         "date_block_num": 0,
         "shop_id": 59,
         "item_id": 22154,
         "item_price": 999,
         "item_cnt_day": 1,
         "_deepnote_index_column": 0
        },
        {
         "date": "03.01.2013",
         "date_block_num": 0,
         "shop_id": 25,
         "item_id": 2552,
         "item_price": 899,
         "item_cnt_day": 1,
         "_deepnote_index_column": 1
        },
        {
         "date": "05.01.2013",
         "date_block_num": 0,
         "shop_id": 25,
         "item_id": 2552,
         "item_price": 899,
         "item_cnt_day": -1,
         "_deepnote_index_column": 2
        },
        {
         "date": "06.01.2013",
         "date_block_num": 0,
         "shop_id": 25,
         "item_id": 2554,
         "item_price": 1709.05,
         "item_cnt_day": 1,
         "_deepnote_index_column": 3
        },
        {
         "date": "15.01.2013",
         "date_block_num": 0,
         "shop_id": 25,
         "item_id": 2555,
         "item_price": 1099,
         "item_cnt_day": 1,
         "_deepnote_index_column": 4
        }
       ],
       "rows_bottom": null
      },
      "text/plain": "         date  date_block_num  shop_id  item_id  item_price  item_cnt_day\n0  02.01.2013               0       59    22154      999.00           1.0\n1  03.01.2013               0       25     2552      899.00           1.0\n2  05.01.2013               0       25     2552      899.00          -1.0\n3  06.01.2013               0       25     2554     1709.05           1.0\n4  15.01.2013               0       25     2555     1099.00           1.0",
      "text/html": "<div>\n<style scoped>\n    .dataframe tbody tr th:only-of-type {\n        vertical-align: middle;\n    }\n\n    .dataframe tbody tr th {\n        vertical-align: top;\n    }\n\n    .dataframe thead th {\n        text-align: right;\n    }\n</style>\n<table border=\"1\" class=\"dataframe\">\n  <thead>\n    <tr style=\"text-align: right;\">\n      <th></th>\n      <th>date</th>\n      <th>date_block_num</th>\n      <th>shop_id</th>\n      <th>item_id</th>\n      <th>item_price</th>\n      <th>item_cnt_day</th>\n    </tr>\n  </thead>\n  <tbody>\n    <tr>\n      <th>0</th>\n      <td>02.01.2013</td>\n      <td>0</td>\n      <td>59</td>\n      <td>22154</td>\n      <td>999.00</td>\n      <td>1.0</td>\n    </tr>\n    <tr>\n      <th>1</th>\n      <td>03.01.2013</td>\n      <td>0</td>\n      <td>25</td>\n      <td>2552</td>\n      <td>899.00</td>\n      <td>1.0</td>\n    </tr>\n    <tr>\n      <th>2</th>\n      <td>05.01.2013</td>\n      <td>0</td>\n      <td>25</td>\n      <td>2552</td>\n      <td>899.00</td>\n      <td>-1.0</td>\n    </tr>\n    <tr>\n      <th>3</th>\n      <td>06.01.2013</td>\n      <td>0</td>\n      <td>25</td>\n      <td>2554</td>\n      <td>1709.05</td>\n      <td>1.0</td>\n    </tr>\n    <tr>\n      <th>4</th>\n      <td>15.01.2013</td>\n      <td>0</td>\n      <td>25</td>\n      <td>2555</td>\n      <td>1099.00</td>\n      <td>1.0</td>\n    </tr>\n  </tbody>\n</table>\n</div>"
     },
     "metadata": {}
    }
   ],
   "execution_count": 4
  },
  {
   "cell_type": "markdown",
   "source": "Turning date column to **date type**",
   "metadata": {
    "tags": [],
    "cell_id": "00006-2d022b11-84fa-43ee-bcff-ccc9cd264af5",
    "deepnote_cell_type": "markdown"
   }
  },
  {
   "cell_type": "code",
   "source": "from datetime import datetime\n\ndf[\"date\"]=df['date'].apply(lambda x:datetime.strptime(x, '%d.%m.%Y'))\n",
   "metadata": {
    "tags": [],
    "cell_id": "00007-7989bcb2-6a3c-4555-8b11-5bb9d1d4d3ae",
    "deepnote_to_be_reexecuted": false,
    "source_hash": "caa69966",
    "execution_start": 1620648504800,
    "execution_millis": 22276,
    "deepnote_cell_type": "code"
   },
   "outputs": [],
   "execution_count": 5
  },
  {
   "cell_type": "markdown",
   "source": "**Creating new data frame for only 2013**",
   "metadata": {
    "tags": [],
    "cell_id": "00008-e516ce89-f017-48f4-bc67-f28a86687c20",
    "deepnote_cell_type": "markdown"
   }
  },
  {
   "cell_type": "code",
   "source": "df_2013=df[(df.date<\"01-01-2014\") & (\"31-12-2012\"<df.date)]\ndf_2013",
   "metadata": {
    "tags": [],
    "cell_id": "00009-b9aaa326-1923-4406-b3c8-18364a427a11",
    "deepnote_to_be_reexecuted": false,
    "source_hash": "10171202",
    "execution_start": 1620648735253,
    "execution_millis": 173,
    "deepnote_cell_type": "code"
   },
   "outputs": [
    {
     "output_type": "execute_result",
     "execution_count": 7,
     "data": {
      "application/vnd.deepnote.dataframe.v2+json": {
       "row_count": 1267562,
       "column_count": 6,
       "columns": [
        {
         "name": "date",
         "dtype": "datetime64[ns]"
        },
        {
         "name": "date_block_num",
         "dtype": "int64"
        },
        {
         "name": "shop_id",
         "dtype": "int64"
        },
        {
         "name": "item_id",
         "dtype": "int64"
        },
        {
         "name": "item_price",
         "dtype": "float64"
        },
        {
         "name": "item_cnt_day",
         "dtype": "float64"
        },
        {
         "name": "_deepnote_index_column",
         "dtype": "int64"
        }
       ],
       "rows_top": [
        {
         "date": "2013-01-02T00:00:00.000000",
         "date_block_num": 0,
         "shop_id": 59,
         "item_id": 22154,
         "item_price": 999,
         "item_cnt_day": 1,
         "_deepnote_index_column": 0
        },
        {
         "date": "2013-01-03T00:00:00.000000",
         "date_block_num": 0,
         "shop_id": 25,
         "item_id": 2552,
         "item_price": 899,
         "item_cnt_day": 1,
         "_deepnote_index_column": 1
        },
        {
         "date": "2013-01-05T00:00:00.000000",
         "date_block_num": 0,
         "shop_id": 25,
         "item_id": 2552,
         "item_price": 899,
         "item_cnt_day": -1,
         "_deepnote_index_column": 2
        },
        {
         "date": "2013-01-06T00:00:00.000000",
         "date_block_num": 0,
         "shop_id": 25,
         "item_id": 2554,
         "item_price": 1709.05,
         "item_cnt_day": 1,
         "_deepnote_index_column": 3
        },
        {
         "date": "2013-01-15T00:00:00.000000",
         "date_block_num": 0,
         "shop_id": 25,
         "item_id": 2555,
         "item_price": 1099,
         "item_cnt_day": 1,
         "_deepnote_index_column": 4
        },
        {
         "date": "2013-01-10T00:00:00.000000",
         "date_block_num": 0,
         "shop_id": 25,
         "item_id": 2564,
         "item_price": 349,
         "item_cnt_day": 1,
         "_deepnote_index_column": 5
        },
        {
         "date": "2013-01-02T00:00:00.000000",
         "date_block_num": 0,
         "shop_id": 25,
         "item_id": 2565,
         "item_price": 549,
         "item_cnt_day": 1,
         "_deepnote_index_column": 6
        },
        {
         "date": "2013-01-04T00:00:00.000000",
         "date_block_num": 0,
         "shop_id": 25,
         "item_id": 2572,
         "item_price": 239,
         "item_cnt_day": 1,
         "_deepnote_index_column": 7
        },
        {
         "date": "2013-01-11T00:00:00.000000",
         "date_block_num": 0,
         "shop_id": 25,
         "item_id": 2572,
         "item_price": 299,
         "item_cnt_day": 1,
         "_deepnote_index_column": 8
        },
        {
         "date": "2013-01-03T00:00:00.000000",
         "date_block_num": 0,
         "shop_id": 25,
         "item_id": 2573,
         "item_price": 299,
         "item_cnt_day": 3,
         "_deepnote_index_column": 9
        },
        {
         "date": "2013-01-03T00:00:00.000000",
         "date_block_num": 0,
         "shop_id": 25,
         "item_id": 2574,
         "item_price": 399,
         "item_cnt_day": 2,
         "_deepnote_index_column": 10
        },
        {
         "date": "2013-01-05T00:00:00.000000",
         "date_block_num": 0,
         "shop_id": 25,
         "item_id": 2574,
         "item_price": 399,
         "item_cnt_day": 1,
         "_deepnote_index_column": 11
        },
        {
         "date": "2013-01-07T00:00:00.000000",
         "date_block_num": 0,
         "shop_id": 25,
         "item_id": 2574,
         "item_price": 399,
         "item_cnt_day": 1,
         "_deepnote_index_column": 12
        },
        {
         "date": "2013-01-08T00:00:00.000000",
         "date_block_num": 0,
         "shop_id": 25,
         "item_id": 2574,
         "item_price": 399,
         "item_cnt_day": 2,
         "_deepnote_index_column": 13
        },
        {
         "date": "2013-01-10T00:00:00.000000",
         "date_block_num": 0,
         "shop_id": 25,
         "item_id": 2574,
         "item_price": 399,
         "item_cnt_day": 1,
         "_deepnote_index_column": 14
        },
        {
         "date": "2013-01-11T00:00:00.000000",
         "date_block_num": 0,
         "shop_id": 25,
         "item_id": 2574,
         "item_price": 399,
         "item_cnt_day": 2,
         "_deepnote_index_column": 15
        },
        {
         "date": "2013-01-13T00:00:00.000000",
         "date_block_num": 0,
         "shop_id": 25,
         "item_id": 2574,
         "item_price": 399,
         "item_cnt_day": 1,
         "_deepnote_index_column": 16
        },
        {
         "date": "2013-01-16T00:00:00.000000",
         "date_block_num": 0,
         "shop_id": 25,
         "item_id": 2574,
         "item_price": 399,
         "item_cnt_day": 1,
         "_deepnote_index_column": 17
        },
        {
         "date": "2013-01-26T00:00:00.000000",
         "date_block_num": 0,
         "shop_id": 25,
         "item_id": 2574,
         "item_price": 399,
         "item_cnt_day": 1,
         "_deepnote_index_column": 18
        },
        {
         "date": "2013-01-27T00:00:00.000000",
         "date_block_num": 0,
         "shop_id": 25,
         "item_id": 2574,
         "item_price": 399,
         "item_cnt_day": 1,
         "_deepnote_index_column": 19
        },
        {
         "date": "2013-01-09T00:00:00.000000",
         "date_block_num": 0,
         "shop_id": 25,
         "item_id": 2593,
         "item_price": 279,
         "item_cnt_day": 1,
         "_deepnote_index_column": 20
        },
        {
         "date": "2013-01-16T00:00:00.000000",
         "date_block_num": 0,
         "shop_id": 25,
         "item_id": 2604,
         "item_price": 299,
         "item_cnt_day": 1,
         "_deepnote_index_column": 21
        },
        {
         "date": "2013-01-27T00:00:00.000000",
         "date_block_num": 0,
         "shop_id": 25,
         "item_id": 2604,
         "item_price": 299,
         "item_cnt_day": 1,
         "_deepnote_index_column": 22
        },
        {
         "date": "2013-01-27T00:00:00.000000",
         "date_block_num": 0,
         "shop_id": 25,
         "item_id": 2607,
         "item_price": 279,
         "item_cnt_day": 1,
         "_deepnote_index_column": 23
        },
        {
         "date": "2013-01-29T00:00:00.000000",
         "date_block_num": 0,
         "shop_id": 25,
         "item_id": 2607,
         "item_price": 279,
         "item_cnt_day": 1,
         "_deepnote_index_column": 24
        },
        {
         "date": "2013-01-27T00:00:00.000000",
         "date_block_num": 0,
         "shop_id": 25,
         "item_id": 2609,
         "item_price": 1699,
         "item_cnt_day": 1,
         "_deepnote_index_column": 25
        },
        {
         "date": "2013-01-06T00:00:00.000000",
         "date_block_num": 0,
         "shop_id": 25,
         "item_id": 2548,
         "item_price": 1708.95,
         "item_cnt_day": 1,
         "_deepnote_index_column": 26
        },
        {
         "date": "2013-01-26T00:00:00.000000",
         "date_block_num": 0,
         "shop_id": 25,
         "item_id": 2611,
         "item_price": 299,
         "item_cnt_day": 1,
         "_deepnote_index_column": 27
        },
        {
         "date": "2013-01-02T00:00:00.000000",
         "date_block_num": 0,
         "shop_id": 25,
         "item_id": 2546,
         "item_price": 299,
         "item_cnt_day": 1,
         "_deepnote_index_column": 28
        },
        {
         "date": "2013-01-06T00:00:00.000000",
         "date_block_num": 0,
         "shop_id": 25,
         "item_id": 2515,
         "item_price": 1649,
         "item_cnt_day": 1,
         "_deepnote_index_column": 29
        },
        {
         "date": "2013-01-07T00:00:00.000000",
         "date_block_num": 0,
         "shop_id": 25,
         "item_id": 2705,
         "item_price": 1799,
         "item_cnt_day": 1,
         "_deepnote_index_column": 30
        },
        {
         "date": "2013-01-11T00:00:00.000000",
         "date_block_num": 0,
         "shop_id": 25,
         "item_id": 2705,
         "item_price": 1799,
         "item_cnt_day": 1,
         "_deepnote_index_column": 31
        },
        {
         "date": "2013-01-26T00:00:00.000000",
         "date_block_num": 0,
         "shop_id": 25,
         "item_id": 2705,
         "item_price": 1799,
         "item_cnt_day": 1,
         "_deepnote_index_column": 32
        },
        {
         "date": "2013-01-02T00:00:00.000000",
         "date_block_num": 0,
         "shop_id": 25,
         "item_id": 2715,
         "item_price": 899,
         "item_cnt_day": 1,
         "_deepnote_index_column": 33
        },
        {
         "date": "2013-01-12T00:00:00.000000",
         "date_block_num": 0,
         "shop_id": 25,
         "item_id": 2715,
         "item_price": 898.5,
         "item_cnt_day": 1,
         "_deepnote_index_column": 34
        },
        {
         "date": "2013-01-02T00:00:00.000000",
         "date_block_num": 0,
         "shop_id": 25,
         "item_id": 2716,
         "item_price": 149,
         "item_cnt_day": 1,
         "_deepnote_index_column": 35
        },
        {
         "date": "2013-01-23T00:00:00.000000",
         "date_block_num": 0,
         "shop_id": 25,
         "item_id": 2716,
         "item_price": 149,
         "item_cnt_day": 1,
         "_deepnote_index_column": 36
        },
        {
         "date": "2013-01-02T00:00:00.000000",
         "date_block_num": 0,
         "shop_id": 25,
         "item_id": 2719,
         "item_price": 2699,
         "item_cnt_day": 1,
         "_deepnote_index_column": 37
        },
        {
         "date": "2013-01-12T00:00:00.000000",
         "date_block_num": 0,
         "shop_id": 25,
         "item_id": 2719,
         "item_price": 2699,
         "item_cnt_day": 1,
         "_deepnote_index_column": 38
        },
        {
         "date": "2013-01-25T00:00:00.000000",
         "date_block_num": 0,
         "shop_id": 25,
         "item_id": 2719,
         "item_price": 1699,
         "item_cnt_day": 1,
         "_deepnote_index_column": 39
        },
        {
         "date": "2013-01-30T00:00:00.000000",
         "date_block_num": 0,
         "shop_id": 25,
         "item_id": 2720,
         "item_price": 1699,
         "item_cnt_day": 1,
         "_deepnote_index_column": 40
        },
        {
         "date": "2013-01-05T00:00:00.000000",
         "date_block_num": 0,
         "shop_id": 25,
         "item_id": 2473,
         "item_price": 899,
         "item_cnt_day": 1,
         "_deepnote_index_column": 41
        },
        {
         "date": "2013-01-02T00:00:00.000000",
         "date_block_num": 0,
         "shop_id": 25,
         "item_id": 2480,
         "item_price": 58,
         "item_cnt_day": 1,
         "_deepnote_index_column": 42
        },
        {
         "date": "2013-01-02T00:00:00.000000",
         "date_block_num": 0,
         "shop_id": 25,
         "item_id": 2731,
         "item_price": 599,
         "item_cnt_day": 1,
         "_deepnote_index_column": 43
        },
        {
         "date": "2013-01-19T00:00:00.000000",
         "date_block_num": 0,
         "shop_id": 25,
         "item_id": 2731,
         "item_price": 599,
         "item_cnt_day": 1,
         "_deepnote_index_column": 44
        },
        {
         "date": "2013-01-06T00:00:00.000000",
         "date_block_num": 0,
         "shop_id": 25,
         "item_id": 2746,
         "item_price": 299,
         "item_cnt_day": 1,
         "_deepnote_index_column": 45
        },
        {
         "date": "2013-01-07T00:00:00.000000",
         "date_block_num": 0,
         "shop_id": 25,
         "item_id": 2746,
         "item_price": 299,
         "item_cnt_day": 1,
         "_deepnote_index_column": 46
        },
        {
         "date": "2013-01-10T00:00:00.000000",
         "date_block_num": 0,
         "shop_id": 25,
         "item_id": 2746,
         "item_price": 299,
         "item_cnt_day": 2,
         "_deepnote_index_column": 47
        },
        {
         "date": "2013-01-12T00:00:00.000000",
         "date_block_num": 0,
         "shop_id": 25,
         "item_id": 2746,
         "item_price": 299,
         "item_cnt_day": 1,
         "_deepnote_index_column": 48
        },
        {
         "date": "2013-01-20T00:00:00.000000",
         "date_block_num": 0,
         "shop_id": 25,
         "item_id": 2746,
         "item_price": 299,
         "item_cnt_day": 1,
         "_deepnote_index_column": 49
        },
        {
         "date": "2013-01-24T00:00:00.000000",
         "date_block_num": 0,
         "shop_id": 25,
         "item_id": 2746,
         "item_price": 299,
         "item_cnt_day": 1,
         "_deepnote_index_column": 50
        },
        {
         "date": "2013-01-25T00:00:00.000000",
         "date_block_num": 0,
         "shop_id": 25,
         "item_id": 2746,
         "item_price": 299,
         "item_cnt_day": 1,
         "_deepnote_index_column": 51
        },
        {
         "date": "2013-01-04T00:00:00.000000",
         "date_block_num": 0,
         "shop_id": 25,
         "item_id": 2748,
         "item_price": 1399,
         "item_cnt_day": 1,
         "_deepnote_index_column": 52
        },
        {
         "date": "2013-01-23T00:00:00.000000",
         "date_block_num": 0,
         "shop_id": 25,
         "item_id": 2748,
         "item_price": 799,
         "item_cnt_day": 1,
         "_deepnote_index_column": 53
        },
        {
         "date": "2013-01-25T00:00:00.000000",
         "date_block_num": 0,
         "shop_id": 25,
         "item_id": 2748,
         "item_price": 799,
         "item_cnt_day": 1,
         "_deepnote_index_column": 54
        },
        {
         "date": "2013-01-06T00:00:00.000000",
         "date_block_num": 0,
         "shop_id": 25,
         "item_id": 2522,
         "item_price": 1999,
         "item_cnt_day": 1,
         "_deepnote_index_column": 55
        },
        {
         "date": "2013-01-19T00:00:00.000000",
         "date_block_num": 0,
         "shop_id": 25,
         "item_id": 2614,
         "item_price": 299,
         "item_cnt_day": 1,
         "_deepnote_index_column": 56
        },
        {
         "date": "2013-01-27T00:00:00.000000",
         "date_block_num": 0,
         "shop_id": 25,
         "item_id": 2614,
         "item_price": 299,
         "item_cnt_day": 1,
         "_deepnote_index_column": 57
        },
        {
         "date": "2013-01-11T00:00:00.000000",
         "date_block_num": 0,
         "shop_id": 25,
         "item_id": 2798,
         "item_price": 449,
         "item_cnt_day": 1,
         "_deepnote_index_column": 58
        },
        {
         "date": "2013-01-16T00:00:00.000000",
         "date_block_num": 0,
         "shop_id": 25,
         "item_id": 2833,
         "item_price": 599,
         "item_cnt_day": 1,
         "_deepnote_index_column": 59
        },
        {
         "date": "2013-01-19T00:00:00.000000",
         "date_block_num": 0,
         "shop_id": 25,
         "item_id": 2833,
         "item_price": 599,
         "item_cnt_day": 1,
         "_deepnote_index_column": 60
        },
        {
         "date": "2013-01-21T00:00:00.000000",
         "date_block_num": 0,
         "shop_id": 25,
         "item_id": 2833,
         "item_price": 599,
         "item_cnt_day": 1,
         "_deepnote_index_column": 61
        },
        {
         "date": "2013-01-22T00:00:00.000000",
         "date_block_num": 0,
         "shop_id": 25,
         "item_id": 2833,
         "item_price": 599,
         "item_cnt_day": 1,
         "_deepnote_index_column": 62
        },
        {
         "date": "2013-01-27T00:00:00.000000",
         "date_block_num": 0,
         "shop_id": 25,
         "item_id": 2833,
         "item_price": 599,
         "item_cnt_day": 1,
         "_deepnote_index_column": 63
        },
        {
         "date": "2013-01-28T00:00:00.000000",
         "date_block_num": 0,
         "shop_id": 25,
         "item_id": 2833,
         "item_price": 599,
         "item_cnt_day": 1,
         "_deepnote_index_column": 64
        },
        {
         "date": "2013-01-14T00:00:00.000000",
         "date_block_num": 0,
         "shop_id": 25,
         "item_id": 2835,
         "item_price": 1999,
         "item_cnt_day": 1,
         "_deepnote_index_column": 65
        },
        {
         "date": "2013-01-19T00:00:00.000000",
         "date_block_num": 0,
         "shop_id": 25,
         "item_id": 2835,
         "item_price": 1999,
         "item_cnt_day": 1,
         "_deepnote_index_column": 66
        },
        {
         "date": "2013-01-25T00:00:00.000000",
         "date_block_num": 0,
         "shop_id": 25,
         "item_id": 2835,
         "item_price": 1999,
         "item_cnt_day": 1,
         "_deepnote_index_column": 67
        },
        {
         "date": "2013-01-06T00:00:00.000000",
         "date_block_num": 0,
         "shop_id": 25,
         "item_id": 2836,
         "item_price": 1999,
         "item_cnt_day": 1,
         "_deepnote_index_column": 68
        },
        {
         "date": "2013-01-12T00:00:00.000000",
         "date_block_num": 0,
         "shop_id": 25,
         "item_id": 2836,
         "item_price": 1999,
         "item_cnt_day": 1,
         "_deepnote_index_column": 69
        },
        {
         "date": "2013-01-14T00:00:00.000000",
         "date_block_num": 0,
         "shop_id": 25,
         "item_id": 2844,
         "item_price": 899,
         "item_cnt_day": 1,
         "_deepnote_index_column": 70
        },
        {
         "date": "2013-01-15T00:00:00.000000",
         "date_block_num": 0,
         "shop_id": 25,
         "item_id": 2844,
         "item_price": 899,
         "item_cnt_day": 1,
         "_deepnote_index_column": 71
        },
        {
         "date": "2013-01-25T00:00:00.000000",
         "date_block_num": 0,
         "shop_id": 25,
         "item_id": 2844,
         "item_price": 899,
         "item_cnt_day": 1,
         "_deepnote_index_column": 72
        },
        {
         "date": "2013-01-06T00:00:00.000000",
         "date_block_num": 0,
         "shop_id": 25,
         "item_id": 2845,
         "item_price": 599,
         "item_cnt_day": 1,
         "_deepnote_index_column": 73
        },
        {
         "date": "2013-01-10T00:00:00.000000",
         "date_block_num": 0,
         "shop_id": 25,
         "item_id": 2847,
         "item_price": 1699,
         "item_cnt_day": 1,
         "_deepnote_index_column": 74
        },
        {
         "date": "2013-01-26T00:00:00.000000",
         "date_block_num": 0,
         "shop_id": 25,
         "item_id": 2847,
         "item_price": 1699,
         "item_cnt_day": 1,
         "_deepnote_index_column": 75
        },
        {
         "date": "2013-01-05T00:00:00.000000",
         "date_block_num": 0,
         "shop_id": 25,
         "item_id": 2848,
         "item_price": 99,
         "item_cnt_day": 2,
         "_deepnote_index_column": 76
        },
        {
         "date": "2013-01-12T00:00:00.000000",
         "date_block_num": 0,
         "shop_id": 25,
         "item_id": 2854,
         "item_price": 449,
         "item_cnt_day": 1,
         "_deepnote_index_column": 77
        },
        {
         "date": "2013-01-13T00:00:00.000000",
         "date_block_num": 0,
         "shop_id": 25,
         "item_id": 2854,
         "item_price": 449,
         "item_cnt_day": 1,
         "_deepnote_index_column": 78
        },
        {
         "date": "2013-01-16T00:00:00.000000",
         "date_block_num": 0,
         "shop_id": 25,
         "item_id": 2854,
         "item_price": 449,
         "item_cnt_day": 1,
         "_deepnote_index_column": 79
        },
        {
         "date": "2013-01-25T00:00:00.000000",
         "date_block_num": 0,
         "shop_id": 25,
         "item_id": 2857,
         "item_price": 1998.5,
         "item_cnt_day": 1,
         "_deepnote_index_column": 80
        },
        {
         "date": "2013-01-31T00:00:00.000000",
         "date_block_num": 0,
         "shop_id": 25,
         "item_id": 2857,
         "item_price": 1999,
         "item_cnt_day": 1,
         "_deepnote_index_column": 81
        },
        {
         "date": "2013-01-04T00:00:00.000000",
         "date_block_num": 0,
         "shop_id": 25,
         "item_id": 2920,
         "item_price": 599,
         "item_cnt_day": 1,
         "_deepnote_index_column": 82
        }
       ],
       "rows_bottom": [
        {
         "date": "2013-12-28T00:00:00.000000",
         "date_block_num": 11,
         "shop_id": 46,
         "item_id": 5872,
         "item_price": 799,
         "item_cnt_day": 1,
         "_deepnote_index_column": 1267479
        },
        {
         "date": "2013-12-10T00:00:00.000000",
         "date_block_num": 11,
         "shop_id": 46,
         "item_id": 5581,
         "item_price": 499,
         "item_cnt_day": 1,
         "_deepnote_index_column": 1267480
        },
        {
         "date": "2013-12-31T00:00:00.000000",
         "date_block_num": 11,
         "shop_id": 46,
         "item_id": 5576,
         "item_price": 2290,
         "item_cnt_day": 1,
         "_deepnote_index_column": 1267481
        },
        {
         "date": "2013-12-28T00:00:00.000000",
         "date_block_num": 11,
         "shop_id": 46,
         "item_id": 5573,
         "item_price": 449,
         "item_cnt_day": 1,
         "_deepnote_index_column": 1267482
        },
        {
         "date": "2013-12-31T00:00:00.000000",
         "date_block_num": 11,
         "shop_id": 46,
         "item_id": 5572,
         "item_price": 1590,
         "item_cnt_day": 1,
         "_deepnote_index_column": 1267483
        },
        {
         "date": "2013-12-30T00:00:00.000000",
         "date_block_num": 11,
         "shop_id": 46,
         "item_id": 5572,
         "item_price": 1590,
         "item_cnt_day": 1,
         "_deepnote_index_column": 1267484
        },
        {
         "date": "2013-12-13T00:00:00.000000",
         "date_block_num": 11,
         "shop_id": 46,
         "item_id": 5572,
         "item_price": 1490,
         "item_cnt_day": 1,
         "_deepnote_index_column": 1267485
        },
        {
         "date": "2013-12-29T00:00:00.000000",
         "date_block_num": 11,
         "shop_id": 46,
         "item_id": 5612,
         "item_price": 3990,
         "item_cnt_day": 1,
         "_deepnote_index_column": 1267486
        },
        {
         "date": "2013-12-28T00:00:00.000000",
         "date_block_num": 11,
         "shop_id": 46,
         "item_id": 5571,
         "item_price": 449,
         "item_cnt_day": 1,
         "_deepnote_index_column": 1267487
        },
        {
         "date": "2013-12-27T00:00:00.000000",
         "date_block_num": 11,
         "shop_id": 46,
         "item_id": 5550,
         "item_price": 299,
         "item_cnt_day": 1,
         "_deepnote_index_column": 1267488
        },
        {
         "date": "2013-12-25T00:00:00.000000",
         "date_block_num": 11,
         "shop_id": 46,
         "item_id": 5898,
         "item_price": 999,
         "item_cnt_day": 1,
         "_deepnote_index_column": 1267489
        },
        {
         "date": "2013-12-31T00:00:00.000000",
         "date_block_num": 11,
         "shop_id": 46,
         "item_id": 5896,
         "item_price": 1099,
         "item_cnt_day": 1,
         "_deepnote_index_column": 1267490
        },
        {
         "date": "2013-12-30T00:00:00.000000",
         "date_block_num": 11,
         "shop_id": 46,
         "item_id": 5543,
         "item_price": 499,
         "item_cnt_day": 1,
         "_deepnote_index_column": 1267491
        },
        {
         "date": "2013-12-21T00:00:00.000000",
         "date_block_num": 11,
         "shop_id": 46,
         "item_id": 5542,
         "item_price": 499,
         "item_cnt_day": 1,
         "_deepnote_index_column": 1267492
        },
        {
         "date": "2013-12-30T00:00:00.000000",
         "date_block_num": 11,
         "shop_id": 46,
         "item_id": 5872,
         "item_price": 799,
         "item_cnt_day": 1,
         "_deepnote_index_column": 1267493
        },
        {
         "date": "2013-12-12T00:00:00.000000",
         "date_block_num": 11,
         "shop_id": 46,
         "item_id": 5552,
         "item_price": 299,
         "item_cnt_day": 1,
         "_deepnote_index_column": 1267494
        },
        {
         "date": "2013-12-10T00:00:00.000000",
         "date_block_num": 11,
         "shop_id": 46,
         "item_id": 5660,
         "item_price": 1299,
         "item_cnt_day": 2,
         "_deepnote_index_column": 1267495
        },
        {
         "date": "2013-12-22T00:00:00.000000",
         "date_block_num": 11,
         "shop_id": 46,
         "item_id": 5612,
         "item_price": 3989.5,
         "item_cnt_day": 1,
         "_deepnote_index_column": 1267496
        },
        {
         "date": "2013-12-17T00:00:00.000000",
         "date_block_num": 11,
         "shop_id": 46,
         "item_id": 5660,
         "item_price": 1299,
         "item_cnt_day": 2,
         "_deepnote_index_column": 1267497
        },
        {
         "date": "2013-12-29T00:00:00.000000",
         "date_block_num": 11,
         "shop_id": 46,
         "item_id": 5672,
         "item_price": 2590,
         "item_cnt_day": 2,
         "_deepnote_index_column": 1267498
        },
        {
         "date": "2013-12-30T00:00:00.000000",
         "date_block_num": 11,
         "shop_id": 46,
         "item_id": 5672,
         "item_price": 2590,
         "item_cnt_day": 2,
         "_deepnote_index_column": 1267499
        },
        {
         "date": "2013-12-10T00:00:00.000000",
         "date_block_num": 11,
         "shop_id": 46,
         "item_id": 5673,
         "item_price": 790,
         "item_cnt_day": 1,
         "_deepnote_index_column": 1267500
        },
        {
         "date": "2013-12-16T00:00:00.000000",
         "date_block_num": 11,
         "shop_id": 46,
         "item_id": 5673,
         "item_price": 790,
         "item_cnt_day": 1,
         "_deepnote_index_column": 1267501
        },
        {
         "date": "2013-12-25T00:00:00.000000",
         "date_block_num": 11,
         "shop_id": 46,
         "item_id": 5673,
         "item_price": 790,
         "item_cnt_day": 1,
         "_deepnote_index_column": 1267502
        },
        {
         "date": "2013-12-03T00:00:00.000000",
         "date_block_num": 11,
         "shop_id": 46,
         "item_id": 5682,
         "item_price": 299,
         "item_cnt_day": 1,
         "_deepnote_index_column": 1267503
        },
        {
         "date": "2013-12-10T00:00:00.000000",
         "date_block_num": 11,
         "shop_id": 46,
         "item_id": 6090,
         "item_price": 999,
         "item_cnt_day": 1,
         "_deepnote_index_column": 1267504
        },
        {
         "date": "2013-12-21T00:00:00.000000",
         "date_block_num": 11,
         "shop_id": 46,
         "item_id": 5945,
         "item_price": 299,
         "item_cnt_day": 1,
         "_deepnote_index_column": 1267505
        },
        {
         "date": "2013-12-29T00:00:00.000000",
         "date_block_num": 11,
         "shop_id": 46,
         "item_id": 5945,
         "item_price": 299,
         "item_cnt_day": 1,
         "_deepnote_index_column": 1267506
        },
        {
         "date": "2013-12-21T00:00:00.000000",
         "date_block_num": 11,
         "shop_id": 46,
         "item_id": 5946,
         "item_price": 299,
         "item_cnt_day": 1,
         "_deepnote_index_column": 1267507
        },
        {
         "date": "2013-12-21T00:00:00.000000",
         "date_block_num": 11,
         "shop_id": 46,
         "item_id": 5998,
         "item_price": 399,
         "item_cnt_day": 1,
         "_deepnote_index_column": 1267508
        },
        {
         "date": "2013-12-07T00:00:00.000000",
         "date_block_num": 11,
         "shop_id": 46,
         "item_id": 6002,
         "item_price": 299,
         "item_cnt_day": 1,
         "_deepnote_index_column": 1267509
        },
        {
         "date": "2013-12-25T00:00:00.000000",
         "date_block_num": 11,
         "shop_id": 46,
         "item_id": 6004,
         "item_price": 299,
         "item_cnt_day": 1,
         "_deepnote_index_column": 1267510
        },
        {
         "date": "2013-12-07T00:00:00.000000",
         "date_block_num": 11,
         "shop_id": 46,
         "item_id": 6005,
         "item_price": 299,
         "item_cnt_day": 1,
         "_deepnote_index_column": 1267511
        },
        {
         "date": "2013-12-28T00:00:00.000000",
         "date_block_num": 11,
         "shop_id": 46,
         "item_id": 5672,
         "item_price": 2590,
         "item_cnt_day": 1,
         "_deepnote_index_column": 1267512
        },
        {
         "date": "2013-12-10T00:00:00.000000",
         "date_block_num": 11,
         "shop_id": 46,
         "item_id": 6007,
         "item_price": 299,
         "item_cnt_day": 1,
         "_deepnote_index_column": 1267513
        },
        {
         "date": "2013-12-10T00:00:00.000000",
         "date_block_num": 11,
         "shop_id": 46,
         "item_id": 6008,
         "item_price": 299,
         "item_cnt_day": 1,
         "_deepnote_index_column": 1267514
        },
        {
         "date": "2013-12-14T00:00:00.000000",
         "date_block_num": 11,
         "shop_id": 46,
         "item_id": 6072,
         "item_price": 899,
         "item_cnt_day": 1,
         "_deepnote_index_column": 1267515
        },
        {
         "date": "2013-12-18T00:00:00.000000",
         "date_block_num": 11,
         "shop_id": 46,
         "item_id": 6077,
         "item_price": 629.3,
         "item_cnt_day": 1,
         "_deepnote_index_column": 1267516
        },
        {
         "date": "2013-12-26T00:00:00.000000",
         "date_block_num": 11,
         "shop_id": 46,
         "item_id": 6083,
         "item_price": 1999,
         "item_cnt_day": 1,
         "_deepnote_index_column": 1267517
        },
        {
         "date": "2013-12-28T00:00:00.000000",
         "date_block_num": 11,
         "shop_id": 46,
         "item_id": 6083,
         "item_price": 1999,
         "item_cnt_day": 2,
         "_deepnote_index_column": 1267518
        },
        {
         "date": "2013-12-06T00:00:00.000000",
         "date_block_num": 11,
         "shop_id": 46,
         "item_id": 6084,
         "item_price": 2199,
         "item_cnt_day": 1,
         "_deepnote_index_column": 1267519
        },
        {
         "date": "2013-12-07T00:00:00.000000",
         "date_block_num": 11,
         "shop_id": 46,
         "item_id": 6084,
         "item_price": 2199,
         "item_cnt_day": 1,
         "_deepnote_index_column": 1267520
        },
        {
         "date": "2013-12-21T00:00:00.000000",
         "date_block_num": 11,
         "shop_id": 46,
         "item_id": 6086,
         "item_price": 399,
         "item_cnt_day": 1,
         "_deepnote_index_column": 1267521
        },
        {
         "date": "2013-12-28T00:00:00.000000",
         "date_block_num": 11,
         "shop_id": 46,
         "item_id": 6086,
         "item_price": 399,
         "item_cnt_day": 1,
         "_deepnote_index_column": 1267522
        },
        {
         "date": "2013-12-12T00:00:00.000000",
         "date_block_num": 11,
         "shop_id": 46,
         "item_id": 5660,
         "item_price": 1299,
         "item_cnt_day": 1,
         "_deepnote_index_column": 1267523
        },
        {
         "date": "2013-12-03T00:00:00.000000",
         "date_block_num": 11,
         "shop_id": 46,
         "item_id": 6090,
         "item_price": 999,
         "item_cnt_day": 1,
         "_deepnote_index_column": 1267524
        },
        {
         "date": "2013-12-24T00:00:00.000000",
         "date_block_num": 11,
         "shop_id": 46,
         "item_id": 6087,
         "item_price": 2199,
         "item_cnt_day": 1,
         "_deepnote_index_column": 1267525
        },
        {
         "date": "2013-12-30T00:00:00.000000",
         "date_block_num": 11,
         "shop_id": 46,
         "item_id": 6087,
         "item_price": 2199,
         "item_cnt_day": 1,
         "_deepnote_index_column": 1267526
        },
        {
         "date": "2013-12-31T00:00:00.000000",
         "date_block_num": 11,
         "shop_id": 46,
         "item_id": 6087,
         "item_price": 2199,
         "item_cnt_day": 1,
         "_deepnote_index_column": 1267527
        },
        {
         "date": "2013-12-04T00:00:00.000000",
         "date_block_num": 11,
         "shop_id": 46,
         "item_id": 6008,
         "item_price": 299,
         "item_cnt_day": 1,
         "_deepnote_index_column": 1267528
        },
        {
         "date": "2013-12-27T00:00:00.000000",
         "date_block_num": 11,
         "shop_id": 46,
         "item_id": 5672,
         "item_price": 2590,
         "item_cnt_day": 1,
         "_deepnote_index_column": 1267529
        },
        {
         "date": "2013-12-07T00:00:00.000000",
         "date_block_num": 11,
         "shop_id": 46,
         "item_id": 6004,
         "item_price": 299,
         "item_cnt_day": 1,
         "_deepnote_index_column": 1267530
        },
        {
         "date": "2013-12-25T00:00:00.000000",
         "date_block_num": 11,
         "shop_id": 46,
         "item_id": 5672,
         "item_price": 2590,
         "item_cnt_day": 1,
         "_deepnote_index_column": 1267531
        },
        {
         "date": "2013-12-25T00:00:00.000000",
         "date_block_num": 11,
         "shop_id": 46,
         "item_id": 5665,
         "item_price": 1090,
         "item_cnt_day": 1,
         "_deepnote_index_column": 1267532
        },
        {
         "date": "2013-12-19T00:00:00.000000",
         "date_block_num": 11,
         "shop_id": 46,
         "item_id": 5664,
         "item_price": 2090,
         "item_cnt_day": 1,
         "_deepnote_index_column": 1267533
        },
        {
         "date": "2013-12-31T00:00:00.000000",
         "date_block_num": 11,
         "shop_id": 46,
         "item_id": 5663,
         "item_price": 2599,
         "item_cnt_day": 1,
         "_deepnote_index_column": 1267534
        },
        {
         "date": "2013-12-30T00:00:00.000000",
         "date_block_num": 11,
         "shop_id": 46,
         "item_id": 5663,
         "item_price": 2599,
         "item_cnt_day": 1,
         "_deepnote_index_column": 1267535
        },
        {
         "date": "2013-12-28T00:00:00.000000",
         "date_block_num": 11,
         "shop_id": 46,
         "item_id": 5663,
         "item_price": 2599,
         "item_cnt_day": 2,
         "_deepnote_index_column": 1267536
        },
        {
         "date": "2013-12-25T00:00:00.000000",
         "date_block_num": 11,
         "shop_id": 46,
         "item_id": 5663,
         "item_price": 2599,
         "item_cnt_day": 1,
         "_deepnote_index_column": 1267537
        },
        {
         "date": "2013-12-10T00:00:00.000000",
         "date_block_num": 11,
         "shop_id": 46,
         "item_id": 5669,
         "item_price": 2690,
         "item_cnt_day": 1,
         "_deepnote_index_column": 1267538
        },
        {
         "date": "2013-12-14T00:00:00.000000",
         "date_block_num": 11,
         "shop_id": 46,
         "item_id": 5663,
         "item_price": 2599,
         "item_cnt_day": 1,
         "_deepnote_index_column": 1267539
        },
        {
         "date": "2013-12-20T00:00:00.000000",
         "date_block_num": 11,
         "shop_id": 46,
         "item_id": 5663,
         "item_price": 2599,
         "item_cnt_day": 1,
         "_deepnote_index_column": 1267540
        },
        {
         "date": "2013-12-19T00:00:00.000000",
         "date_block_num": 11,
         "shop_id": 46,
         "item_id": 5663,
         "item_price": 2599,
         "item_cnt_day": 1,
         "_deepnote_index_column": 1267541
        },
        {
         "date": "2013-12-26T00:00:00.000000",
         "date_block_num": 11,
         "shop_id": 46,
         "item_id": 5672,
         "item_price": 2590,
         "item_cnt_day": 1,
         "_deepnote_index_column": 1267542
        },
        {
         "date": "2013-12-18T00:00:00.000000",
         "date_block_num": 11,
         "shop_id": 46,
         "item_id": 5663,
         "item_price": 2599,
         "item_cnt_day": 1,
         "_deepnote_index_column": 1267543
        },
        {
         "date": "2013-12-17T00:00:00.000000",
         "date_block_num": 11,
         "shop_id": 46,
         "item_id": 5663,
         "item_price": 2599,
         "item_cnt_day": 1,
         "_deepnote_index_column": 1267544
        },
        {
         "date": "2013-12-16T00:00:00.000000",
         "date_block_num": 11,
         "shop_id": 46,
         "item_id": 5663,
         "item_price": 2599,
         "item_cnt_day": 3,
         "_deepnote_index_column": 1267545
        },
        {
         "date": "2013-12-21T00:00:00.000000",
         "date_block_num": 11,
         "shop_id": 46,
         "item_id": 5663,
         "item_price": 2599,
         "item_cnt_day": 2,
         "_deepnote_index_column": 1267546
        },
        {
         "date": "2013-12-16T00:00:00.000000",
         "date_block_num": 11,
         "shop_id": 46,
         "item_id": 5669,
         "item_price": 2690,
         "item_cnt_day": 1,
         "_deepnote_index_column": 1267547
        },
        {
         "date": "2013-12-15T00:00:00.000000",
         "date_block_num": 11,
         "shop_id": 46,
         "item_id": 5663,
         "item_price": 2599,
         "item_cnt_day": 1,
         "_deepnote_index_column": 1267548
        },
        {
         "date": "2013-12-22T00:00:00.000000",
         "date_block_num": 11,
         "shop_id": 46,
         "item_id": 5669,
         "item_price": 2690,
         "item_cnt_day": 1,
         "_deepnote_index_column": 1267549
        },
        {
         "date": "2013-12-23T00:00:00.000000",
         "date_block_num": 11,
         "shop_id": 46,
         "item_id": 5672,
         "item_price": 2590,
         "item_cnt_day": 1,
         "_deepnote_index_column": 1267550
        },
        {
         "date": "2013-12-10T00:00:00.000000",
         "date_block_num": 11,
         "shop_id": 46,
         "item_id": 5663,
         "item_price": 2599,
         "item_cnt_day": 3,
         "_deepnote_index_column": 1267551
        },
        {
         "date": "2013-12-01T00:00:00.000000",
         "date_block_num": 11,
         "shop_id": 46,
         "item_id": 5672,
         "item_price": 2590,
         "item_cnt_day": 1,
         "_deepnote_index_column": 1267552
        },
        {
         "date": "2013-12-26T00:00:00.000000",
         "date_block_num": 11,
         "shop_id": 46,
         "item_id": 5671,
         "item_price": 2690,
         "item_cnt_day": 1,
         "_deepnote_index_column": 1267553
        },
        {
         "date": "2013-12-13T00:00:00.000000",
         "date_block_num": 11,
         "shop_id": 46,
         "item_id": 5672,
         "item_price": 2590,
         "item_cnt_day": 1,
         "_deepnote_index_column": 1267554
        },
        {
         "date": "2013-12-20T00:00:00.000000",
         "date_block_num": 11,
         "shop_id": 46,
         "item_id": 5671,
         "item_price": 2690,
         "item_cnt_day": 1,
         "_deepnote_index_column": 1267555
        },
        {
         "date": "2013-12-24T00:00:00.000000",
         "date_block_num": 11,
         "shop_id": 46,
         "item_id": 5671,
         "item_price": 2690,
         "item_cnt_day": 1,
         "_deepnote_index_column": 1267556
        },
        {
         "date": "2013-12-06T00:00:00.000000",
         "date_block_num": 11,
         "shop_id": 46,
         "item_id": 5671,
         "item_price": 2690,
         "item_cnt_day": 1,
         "_deepnote_index_column": 1267557
        },
        {
         "date": "2013-12-01T00:00:00.000000",
         "date_block_num": 11,
         "shop_id": 46,
         "item_id": 5671,
         "item_price": 2590,
         "item_cnt_day": 3,
         "_deepnote_index_column": 1267558
        },
        {
         "date": "2013-12-26T00:00:00.000000",
         "date_block_num": 11,
         "shop_id": 46,
         "item_id": 5669,
         "item_price": 2690,
         "item_cnt_day": 2,
         "_deepnote_index_column": 1267559
        },
        {
         "date": "2013-12-25T00:00:00.000000",
         "date_block_num": 11,
         "shop_id": 46,
         "item_id": 5669,
         "item_price": 2690,
         "item_cnt_day": 1,
         "_deepnote_index_column": 1267560
        },
        {
         "date": "2013-12-19T00:00:00.000000",
         "date_block_num": 11,
         "shop_id": 46,
         "item_id": 5671,
         "item_price": 2690,
         "item_cnt_day": 1,
         "_deepnote_index_column": 1267561
        }
       ]
      },
      "text/plain": "              date  date_block_num  shop_id  item_id  item_price  item_cnt_day\n0       2013-01-02               0       59    22154      999.00           1.0\n1       2013-01-03               0       25     2552      899.00           1.0\n2       2013-01-05               0       25     2552      899.00          -1.0\n3       2013-01-06               0       25     2554     1709.05           1.0\n4       2013-01-15               0       25     2555     1099.00           1.0\n...            ...             ...      ...      ...         ...           ...\n1267557 2013-12-06              11       46     5671     2690.00           1.0\n1267558 2013-12-01              11       46     5671     2590.00           3.0\n1267559 2013-12-26              11       46     5669     2690.00           2.0\n1267560 2013-12-25              11       46     5669     2690.00           1.0\n1267561 2013-12-19              11       46     5671     2690.00           1.0\n\n[1267562 rows x 6 columns]",
      "text/html": "<div>\n<style scoped>\n    .dataframe tbody tr th:only-of-type {\n        vertical-align: middle;\n    }\n\n    .dataframe tbody tr th {\n        vertical-align: top;\n    }\n\n    .dataframe thead th {\n        text-align: right;\n    }\n</style>\n<table border=\"1\" class=\"dataframe\">\n  <thead>\n    <tr style=\"text-align: right;\">\n      <th></th>\n      <th>date</th>\n      <th>date_block_num</th>\n      <th>shop_id</th>\n      <th>item_id</th>\n      <th>item_price</th>\n      <th>item_cnt_day</th>\n    </tr>\n  </thead>\n  <tbody>\n    <tr>\n      <th>0</th>\n      <td>2013-01-02</td>\n      <td>0</td>\n      <td>59</td>\n      <td>22154</td>\n      <td>999.00</td>\n      <td>1.0</td>\n    </tr>\n    <tr>\n      <th>1</th>\n      <td>2013-01-03</td>\n      <td>0</td>\n      <td>25</td>\n      <td>2552</td>\n      <td>899.00</td>\n      <td>1.0</td>\n    </tr>\n    <tr>\n      <th>2</th>\n      <td>2013-01-05</td>\n      <td>0</td>\n      <td>25</td>\n      <td>2552</td>\n      <td>899.00</td>\n      <td>-1.0</td>\n    </tr>\n    <tr>\n      <th>3</th>\n      <td>2013-01-06</td>\n      <td>0</td>\n      <td>25</td>\n      <td>2554</td>\n      <td>1709.05</td>\n      <td>1.0</td>\n    </tr>\n    <tr>\n      <th>4</th>\n      <td>2013-01-15</td>\n      <td>0</td>\n      <td>25</td>\n      <td>2555</td>\n      <td>1099.00</td>\n      <td>1.0</td>\n    </tr>\n    <tr>\n      <th>...</th>\n      <td>...</td>\n      <td>...</td>\n      <td>...</td>\n      <td>...</td>\n      <td>...</td>\n      <td>...</td>\n    </tr>\n    <tr>\n      <th>1267557</th>\n      <td>2013-12-06</td>\n      <td>11</td>\n      <td>46</td>\n      <td>5671</td>\n      <td>2690.00</td>\n      <td>1.0</td>\n    </tr>\n    <tr>\n      <th>1267558</th>\n      <td>2013-12-01</td>\n      <td>11</td>\n      <td>46</td>\n      <td>5671</td>\n      <td>2590.00</td>\n      <td>3.0</td>\n    </tr>\n    <tr>\n      <th>1267559</th>\n      <td>2013-12-26</td>\n      <td>11</td>\n      <td>46</td>\n      <td>5669</td>\n      <td>2690.00</td>\n      <td>2.0</td>\n    </tr>\n    <tr>\n      <th>1267560</th>\n      <td>2013-12-25</td>\n      <td>11</td>\n      <td>46</td>\n      <td>5669</td>\n      <td>2690.00</td>\n      <td>1.0</td>\n    </tr>\n    <tr>\n      <th>1267561</th>\n      <td>2013-12-19</td>\n      <td>11</td>\n      <td>46</td>\n      <td>5671</td>\n      <td>2690.00</td>\n      <td>1.0</td>\n    </tr>\n  </tbody>\n</table>\n<p>1267562 rows × 6 columns</p>\n</div>"
     },
     "metadata": {}
    }
   ],
   "execution_count": 7
  },
  {
   "cell_type": "markdown",
   "source": "**Filter to obtain only the sales from Octuber 2015**",
   "metadata": {
    "tags": [],
    "cell_id": "00010-eaafd52b-45e5-4ec6-b184-9168d458ac31",
    "deepnote_cell_type": "markdown"
   }
  },
  {
   "cell_type": "code",
   "source": "df_2015_oct=df[df.date_block_num==33]\n",
   "metadata": {
    "tags": [],
    "cell_id": "00010-c43da2b3-e8f5-452e-9044-b5e648cf787b",
    "deepnote_to_be_reexecuted": false,
    "source_hash": "6b774359",
    "execution_start": 1620654635615,
    "execution_millis": 6,
    "deepnote_cell_type": "code"
   },
   "outputs": [],
   "execution_count": 25
  },
  {
   "cell_type": "markdown",
   "source": "**Converting from day detail to month detail**",
   "metadata": {
    "tags": [],
    "cell_id": "00012-345738ff-1751-4992-8f67-32af4caaf04d",
    "deepnote_cell_type": "markdown"
   }
  },
  {
   "cell_type": "code",
   "source": "df_2015_oct=df_2015_oct.groupby(['shop_id','item_id'],as_index=False).sum().drop('item_price',1)\n",
   "metadata": {
    "tags": [],
    "cell_id": "00013-9ba4e0d4-ab8e-4aa0-b4d3-c4a1cb7a39de",
    "deepnote_to_be_reexecuted": false,
    "source_hash": "94d53a9f",
    "execution_start": 1620655466502,
    "execution_millis": 1,
    "deepnote_cell_type": "code"
   },
   "outputs": [],
   "execution_count": 32
  },
  {
   "cell_type": "markdown",
   "source": "**Filter the aggregated shop-item pairs to get only the pairs needed at test: merge**\n\n**Fill NaNs with zero**",
   "metadata": {
    "tags": [],
    "cell_id": "00014-cc3957b9-45cd-4808-9d57-c9f335fc1e35",
    "deepnote_cell_type": "markdown"
   }
  },
  {
   "cell_type": "code",
   "source": "df_new_test = pd.merge(left = df_test,  right = df_2015_oct, how='left',on=['shop_id','item_id']).fillna(value=0,)",
   "metadata": {
    "tags": [],
    "cell_id": "00015-18e2626b-7dda-4543-b499-223102a52413",
    "deepnote_to_be_reexecuted": false,
    "source_hash": "2b42efbc",
    "execution_start": 1620655598642,
    "execution_millis": 1261,
    "deepnote_cell_type": "code"
   },
   "outputs": [],
   "execution_count": 34
  },
  {
   "cell_type": "markdown",
   "source": "**Limit your predictions to the range [0,...,20]: .clip(lower=0, upper=20)**",
   "metadata": {
    "tags": [],
    "cell_id": "00016-6193538e-3192-4828-be5c-189e9230f7d5",
    "deepnote_cell_type": "markdown"
   }
  },
  {
   "cell_type": "code",
   "source": "submission",
   "metadata": {
    "tags": [],
    "cell_id": "00017-bb5f9afc-2990-4e84-b775-713a765ed071",
    "deepnote_to_be_reexecuted": false,
    "source_hash": "7498d8cd",
    "execution_start": 1620655969377,
    "execution_millis": 18,
    "deepnote_cell_type": "code"
   },
   "outputs": [
    {
     "output_type": "execute_result",
     "execution_count": 40,
     "data": {
      "text/plain": "0         0.0\n1         0.0\n2         1.0\n3         0.0\n4         0.0\n         ... \n235047    1.0\n235048    0.0\n235049    0.0\n235050    0.0\n235051    0.0\nName: item_cnt_day, Length: 235052, dtype: float64"
     },
     "metadata": {}
    }
   ],
   "execution_count": 40
  },
  {
   "cell_type": "code",
   "source": "submission=df_new_test.item_cnt_day.clip(lower=0, upper=20)\n\n.item_cnt_month = new_test_df.item_cnt_day.values\nsubmission.to_csv('submission.csv')",
   "metadata": {
    "tags": [],
    "cell_id": "00017-2f51cdc3-93a5-4a06-a98f-cd58fb048a10",
    "deepnote_to_be_reexecuted": false,
    "source_hash": "d797e41d",
    "execution_start": 1620655865733,
    "execution_millis": 408,
    "deepnote_cell_type": "code"
   },
   "outputs": [],
   "execution_count": 39
  },
  {
   "cell_type": "code",
   "source": "len(df_2013.shop_id.unique())",
   "metadata": {
    "tags": [],
    "cell_id": "00011-4e45625b-392a-43eb-9cf8-c55ecdecc9c3",
    "deepnote_to_be_reexecuted": false,
    "source_hash": "79df4aeb",
    "execution_start": 1620649727819,
    "execution_millis": 14,
    "deepnote_cell_type": "code"
   },
   "outputs": [
    {
     "output_type": "execute_result",
     "execution_count": 15,
     "data": {
      "text/plain": "52"
     },
     "metadata": {}
    }
   ],
   "execution_count": 15
  },
  {
   "cell_type": "code",
   "source": "len(df_2013.item_id.unique())",
   "metadata": {
    "tags": [],
    "cell_id": "00011-2e37a49e-a957-4567-9398-066f5c890173",
    "deepnote_to_be_reexecuted": false,
    "source_hash": "3760fba5",
    "execution_start": 1620650674656,
    "execution_millis": 14,
    "deepnote_cell_type": "code"
   },
   "outputs": [
    {
     "output_type": "execute_result",
     "execution_count": 17,
     "data": {
      "text/plain": "14971"
     },
     "metadata": {}
    }
   ],
   "execution_count": 17
  },
  {
   "cell_type": "code",
   "source": "df.",
   "metadata": {
    "tags": [],
    "cell_id": "00013-68e726a4-b816-4378-87db-4822f35dd87a",
    "deepnote_cell_type": "code"
   },
   "outputs": [],
   "execution_count": null
  },
  {
   "cell_type": "code",
   "source": "df_items",
   "metadata": {
    "tags": [],
    "cell_id": "00012-f5af2ca9-1a03-4d5b-a1a2-c7c1de4da097",
    "deepnote_to_be_reexecuted": false,
    "source_hash": "1a8f766a",
    "execution_start": 1620652047334,
    "execution_millis": 103,
    "deepnote_cell_type": "code"
   },
   "outputs": [
    {
     "output_type": "execute_result",
     "execution_count": 22,
     "data": {
      "application/vnd.deepnote.dataframe.v2+json": {
       "row_count": 22170,
       "column_count": 3,
       "columns": [
        {
         "name": "item_name",
         "dtype": "object",
         "stats": {
          "unique_count": 22170,
          "nan_count": 0,
          "categories": [
           {
            "name": "! ВО ВЛАСТИ НАВАЖДЕНИЯ (ПЛАСТ.)         D",
            "count": 1
           },
           {
            "name": "!ABBYY FineReader 12 Professional Edition Full [PC, Цифровая версия]",
            "count": 1
           },
           {
            "name": "22168 others",
            "count": 22168
           }
          ]
         }
        },
        {
         "name": "item_id",
         "dtype": "int64",
         "stats": {
          "unique_count": 22170,
          "nan_count": 0,
          "min": "0",
          "max": "22169",
          "histogram": [
           {
            "bin_start": 0,
            "bin_end": 2216.9,
            "count": 2217
           },
           {
            "bin_start": 2216.9,
            "bin_end": 4433.8,
            "count": 2217
           },
           {
            "bin_start": 4433.8,
            "bin_end": 6650.700000000001,
            "count": 2217
           },
           {
            "bin_start": 6650.700000000001,
            "bin_end": 8867.6,
            "count": 2217
           },
           {
            "bin_start": 8867.6,
            "bin_end": 11084.5,
            "count": 2217
           },
           {
            "bin_start": 11084.5,
            "bin_end": 13301.400000000001,
            "count": 2217
           },
           {
            "bin_start": 13301.400000000001,
            "bin_end": 15518.300000000001,
            "count": 2217
           },
           {
            "bin_start": 15518.300000000001,
            "bin_end": 17735.2,
            "count": 2217
           },
           {
            "bin_start": 17735.2,
            "bin_end": 19952.100000000002,
            "count": 2217
           },
           {
            "bin_start": 19952.100000000002,
            "bin_end": 22169,
            "count": 2217
           }
          ]
         }
        },
        {
         "name": "item_category_id",
         "dtype": "int64",
         "stats": {
          "unique_count": 84,
          "nan_count": 0,
          "min": "0",
          "max": "83",
          "histogram": [
           {
            "bin_start": 0,
            "bin_end": 8.3,
            "count": 232
           },
           {
            "bin_start": 8.3,
            "bin_end": 16.6,
            "count": 155
           },
           {
            "bin_start": 16.6,
            "bin_end": 24.900000000000002,
            "count": 1644
           },
           {
            "bin_start": 24.900000000000002,
            "bin_end": 33.2,
            "count": 2342
           },
           {
            "bin_start": 33.2,
            "bin_end": 41.5,
            "count": 7482
           },
           {
            "bin_start": 41.5,
            "bin_end": 49.800000000000004,
            "count": 1174
           },
           {
            "bin_start": 49.800000000000004,
            "bin_end": 58.10000000000001,
            "count": 4078
           },
           {
            "bin_start": 58.10000000000001,
            "bin_end": 66.4,
            "count": 2236
           },
           {
            "bin_start": 66.4,
            "bin_end": 74.7,
            "count": 1682
           },
           {
            "bin_start": 74.7,
            "bin_end": 83,
            "count": 1145
           }
          ]
         }
        },
        {
         "name": "_deepnote_index_column",
         "dtype": "int64"
        }
       ],
       "rows_top": [
        {
         "item_name": "! ВО ВЛАСТИ НАВАЖДЕНИЯ (ПЛАСТ.)         D",
         "item_id": 0,
         "item_category_id": 40,
         "_deepnote_index_column": 0
        },
        {
         "item_name": "!ABBYY FineReader 12 Professional Edition Full [PC, Цифровая версия]",
         "item_id": 1,
         "item_category_id": 76,
         "_deepnote_index_column": 1
        },
        {
         "item_name": "***В ЛУЧАХ СЛАВЫ   (UNV)                    D",
         "item_id": 2,
         "item_category_id": 40,
         "_deepnote_index_column": 2
        },
        {
         "item_name": "***ГОЛУБАЯ ВОЛНА  (Univ)                      D",
         "item_id": 3,
         "item_category_id": 40,
         "_deepnote_index_column": 3
        },
        {
         "item_name": "***КОРОБКА (СТЕКЛО)                       D",
         "item_id": 4,
         "item_category_id": 40,
         "_deepnote_index_column": 4
        },
        {
         "item_name": "***НОВЫЕ АМЕРИКАНСКИЕ ГРАФФИТИ  (UNI)             D",
         "item_id": 5,
         "item_category_id": 40,
         "_deepnote_index_column": 5
        },
        {
         "item_name": "***УДАР ПО ВОРОТАМ (UNI)               D",
         "item_id": 6,
         "item_category_id": 40,
         "_deepnote_index_column": 6
        },
        {
         "item_name": "***УДАР ПО ВОРОТАМ-2 (UNI)               D",
         "item_id": 7,
         "item_category_id": 40,
         "_deepnote_index_column": 7
        },
        {
         "item_name": "***ЧАЙ С МУССОЛИНИ                     D",
         "item_id": 8,
         "item_category_id": 40,
         "_deepnote_index_column": 8
        },
        {
         "item_name": "***ШУГАРЛЭНДСКИЙ ЭКСПРЕСС (UNI)             D",
         "item_id": 9,
         "item_category_id": 40,
         "_deepnote_index_column": 9
        },
        {
         "item_name": "*ЗА ГРАНЬЮ СМЕРТИ                       D",
         "item_id": 10,
         "item_category_id": 40,
         "_deepnote_index_column": 10
        },
        {
         "item_name": "*ЛИНИЯ СМЕРТИ                           D",
         "item_id": 11,
         "item_category_id": 40,
         "_deepnote_index_column": 11
        },
        {
         "item_name": "*МИХЕЙ И ДЖУМАНДЖИ  Сука любовь",
         "item_id": 12,
         "item_category_id": 55,
         "_deepnote_index_column": 12
        },
        {
         "item_name": "*СПАСАЯ ЭМИЛИ                           D",
         "item_id": 13,
         "item_category_id": 40,
         "_deepnote_index_column": 13
        },
        {
         "item_name": "*ЧОКНУТЫЙ ПРОФЕССОР /МАГИЯ/             D",
         "item_id": 14,
         "item_category_id": 40,
         "_deepnote_index_column": 14
        },
        {
         "item_name": "//АДРЕНАЛИН: ОДИН ПРОТИВ ВСЕХ (Регион)",
         "item_id": 15,
         "item_category_id": 40,
         "_deepnote_index_column": 15
        },
        {
         "item_name": "//МОНГОЛ С.Бодров (Регион)",
         "item_id": 16,
         "item_category_id": 40,
         "_deepnote_index_column": 16
        },
        {
         "item_name": "//НЕ ОСТАВЛЯЮЩИЙ СЛЕДА (Регион)",
         "item_id": 17,
         "item_category_id": 40,
         "_deepnote_index_column": 17
        },
        {
         "item_name": "/БОМБА ДЛЯ НЕВЕСТЫ /2DVD/               D",
         "item_id": 18,
         "item_category_id": 40,
         "_deepnote_index_column": 18
        },
        {
         "item_name": "/ЗОЛОТАЯ КОЛЛЕКЦИЯ м/ф-72",
         "item_id": 19,
         "item_category_id": 40,
         "_deepnote_index_column": 19
        },
        {
         "item_name": "/ОДНАЖДЫ В КИТАЕ-2",
         "item_id": 20,
         "item_category_id": 40,
         "_deepnote_index_column": 20
        },
        {
         "item_name": "/ПОСЛЕДНИЙ ШАНС",
         "item_id": 21,
         "item_category_id": 40,
         "_deepnote_index_column": 21
        },
        {
         "item_name": "/ПРОКЛЯТЬЕ ЭЛЬ ЧАРРО",
         "item_id": 22,
         "item_category_id": 40,
         "_deepnote_index_column": 22
        },
        {
         "item_name": "/СЕВЕР И ЮГ /Ч.2/",
         "item_id": 23,
         "item_category_id": 40,
         "_deepnote_index_column": 23
        },
        {
         "item_name": "/СМЕРТЕЛЬНЫЙ РАСКЛАД",
         "item_id": 24,
         "item_category_id": 40,
         "_deepnote_index_column": 24
        },
        {
         "item_name": "/ТЫ  - ТРУП",
         "item_id": 25,
         "item_category_id": 40,
         "_deepnote_index_column": 25
        },
        {
         "item_name": "/УМНОЖАЮЩИЙ ПЕЧАЛЬ т.2 (сер.3-4)",
         "item_id": 26,
         "item_category_id": 40,
         "_deepnote_index_column": 26
        },
        {
         "item_name": "007 Legends [PS3, русская версия]",
         "item_id": 27,
         "item_category_id": 19,
         "_deepnote_index_column": 27
        },
        {
         "item_name": "007 Legends [PС, Jewel, русская версия]",
         "item_id": 28,
         "item_category_id": 30,
         "_deepnote_index_column": 28
        },
        {
         "item_name": "007 Legends [Xbox 360, русская версия]",
         "item_id": 29,
         "item_category_id": 23,
         "_deepnote_index_column": 29
        },
        {
         "item_name": "007: КООРДИНАТЫ «СКАЙФОЛЛ»",
         "item_id": 30,
         "item_category_id": 40,
         "_deepnote_index_column": 30
        },
        {
         "item_name": "007: КООРДИНАТЫ «СКАЙФОЛЛ» (BD)",
         "item_id": 31,
         "item_category_id": 37,
         "_deepnote_index_column": 31
        },
        {
         "item_name": "1+1",
         "item_id": 32,
         "item_category_id": 40,
         "_deepnote_index_column": 32
        },
        {
         "item_name": "1+1 (BD)",
         "item_id": 33,
         "item_category_id": 37,
         "_deepnote_index_column": 33
        },
        {
         "item_name": "10 000 ЛЕТ ДО НАШЕЙ ЭРЫ WB (регион)",
         "item_id": 34,
         "item_category_id": 40,
         "_deepnote_index_column": 34
        },
        {
         "item_name": "10 ЛЕТ СПУСТЯ",
         "item_id": 35,
         "item_category_id": 40,
         "_deepnote_index_column": 35
        },
        {
         "item_name": "10 ЛЕТ СПУСТЯ (BD)",
         "item_id": 36,
         "item_category_id": 37,
         "_deepnote_index_column": 36
        },
        {
         "item_name": "10 ЛЕТ СПУСТЯ (регион)",
         "item_id": 37,
         "item_category_id": 40,
         "_deepnote_index_column": 37
        },
        {
         "item_name": "10 САМЫХ ПОПУЛЯРНЫХ КИНОКОМЕДИЙ ХХ ВЕКА  10DVD (rem)",
         "item_id": 38,
         "item_category_id": 41,
         "_deepnote_index_column": 38
        },
        {
         "item_name": "10 САМЫХ ПОПУЛЯРНЫХ ОТЕЧЕСТВЕННЫХ КОМЕДИЙ ХХ ВЕКА (BD)",
         "item_id": 39,
         "item_category_id": 41,
         "_deepnote_index_column": 39
        },
        {
         "item_name": "100 Best classical melodies (mp3-CD) (Digipack)",
         "item_id": 40,
         "item_category_id": 57,
         "_deepnote_index_column": 40
        },
        {
         "item_name": "100 Best relax melodies (mp3-CD) (CD-Digipack)",
         "item_id": 41,
         "item_category_id": 57,
         "_deepnote_index_column": 41
        },
        {
         "item_name": "100 Best romantic melodies (mp3-CD) (Digipack)",
         "item_id": 42,
         "item_category_id": 57,
         "_deepnote_index_column": 42
        },
        {
         "item_name": "100 МИЛЛИОНОВ ЕВРО",
         "item_id": 43,
         "item_category_id": 40,
         "_deepnote_index_column": 43
        },
        {
         "item_name": "100 лучших мелодий против стресса (mp3-CD) (CD-Digipack)",
         "item_id": 44,
         "item_category_id": 57,
         "_deepnote_index_column": 44
        },
        {
         "item_name": "100 лучших народных песен (mp3-CD) (CD-Digipack)",
         "item_id": 45,
         "item_category_id": 57,
         "_deepnote_index_column": 45
        },
        {
         "item_name": "100 лучших произведений Баха (mp3-CD) (Digipack)",
         "item_id": 46,
         "item_category_id": 57,
         "_deepnote_index_column": 46
        },
        {
         "item_name": "100 лучших произведений Бетховена (mp3-CD) (Digipack)",
         "item_id": 47,
         "item_category_id": 57,
         "_deepnote_index_column": 47
        },
        {
         "item_name": "100 лучших произведений Вивальди (mp3-CD) (CD-Digipack)",
         "item_id": 48,
         "item_category_id": 57,
         "_deepnote_index_column": 48
        },
        {
         "item_name": "100 лучших произведений Моцарта (mp3-CD) (Digipack)",
         "item_id": 49,
         "item_category_id": 57,
         "_deepnote_index_column": 49
        },
        {
         "item_name": "100 лучших произведений Рахманинова (mp3-CD) (Jewel)",
         "item_id": 50,
         "item_category_id": 57,
         "_deepnote_index_column": 50
        },
        {
         "item_name": "100 лучших произведений классики (mp3-CD) (Digipack)",
         "item_id": 51,
         "item_category_id": 57,
         "_deepnote_index_column": 51
        },
        {
         "item_name": "100 лучших произведений фортепианной музыки (mp3-CD) (CD-Digipack)",
         "item_id": 52,
         "item_category_id": 57,
         "_deepnote_index_column": 52
        },
        {
         "item_name": "100 лучших русских романсов (mp3-CD) (CD-Digipack)",
         "item_id": 53,
         "item_category_id": 57,
         "_deepnote_index_column": 53
        },
        {
         "item_name": "100 лучших цыганских романсов (mp3-CD) (CD-Digipack)",
         "item_id": 54,
         "item_category_id": 57,
         "_deepnote_index_column": 54
        },
        {
         "item_name": "100 любимых маленьких сказок (mp3-CD) (Jewel)",
         "item_id": 55,
         "item_category_id": 43,
         "_deepnote_index_column": 55
        },
        {
         "item_name": "100 любимых песен. Александра Пахмутова (подар. уп.) (mp3-CD) (Jewel)",
         "item_id": 56,
         "item_category_id": 57,
         "_deepnote_index_column": 56
        },
        {
         "item_name": "100 пудов из мультхитов (подар. уп.) (mp3-CD) (Jewel)",
         "item_id": 57,
         "item_category_id": 57,
         "_deepnote_index_column": 57
        },
        {
         "item_name": "100 чудес России [PC, Цифровая версия]",
         "item_id": 58,
         "item_category_id": 78,
         "_deepnote_index_column": 58
        },
        {
         "item_name": "100 шедевров классики (mp3-CD) (Digipack)",
         "item_id": 59,
         "item_category_id": 57,
         "_deepnote_index_column": 59
        },
        {
         "item_name": "1000 английских фраз на все случаи жизни (mp3-CD) (Jewel)",
         "item_id": 60,
         "item_category_id": 43,
         "_deepnote_index_column": 60
        },
        {
         "item_name": "1000 и одна ночь  2CD (mp3-DVD) (DVD-Book)",
         "item_id": 61,
         "item_category_id": 43,
         "_deepnote_index_column": 61
        },
        {
         "item_name": "10000 ЛЕТ ДО Н.Э. WB (BD)",
         "item_id": 62,
         "item_category_id": 37,
         "_deepnote_index_column": 62
        },
        {
         "item_name": "101 ДАЛМАТИНЕЦ  wd",
         "item_id": 63,
         "item_category_id": 40,
         "_deepnote_index_column": 63
        },
        {
         "item_name": "101 ДАЛМАТИНЕЦ 2 м/ф (регион)",
         "item_id": 64,
         "item_category_id": 40,
         "_deepnote_index_column": 64
        },
        {
         "item_name": "101 ДАЛМАТИНЕЦ 2:ПРИКЛЮЧЕНИЯ ПАТЧА В ЛОНДОНЕ (BD)",
         "item_id": 65,
         "item_category_id": 37,
         "_deepnote_index_column": 65
        },
        {
         "item_name": "101 ДАЛМАТИНЕЦ М/Ф (BD)",
         "item_id": 66,
         "item_category_id": 37,
         "_deepnote_index_column": 66
        },
        {
         "item_name": "101 ДАЛМАТИНЕЦ м/ф (регион)",
         "item_id": 67,
         "item_category_id": 40,
         "_deepnote_index_column": 67
        },
        {
         "item_name": "101 Далматинец. Интерактивная сказка [PC-CD, Jewel]",
         "item_id": 68,
         "item_category_id": 30,
         "_deepnote_index_column": 68
        },
        {
         "item_name": "101 совет начинающим разработчикам в системе \"1С:Предприятие 8\"  [Цифровая версия]",
         "item_id": 69,
         "item_category_id": 54,
         "_deepnote_index_column": 69
        },
        {
         "item_name": "101 совет начинающим разработчикам в системе \"1С:Предприятие 8\". Хрусталева Е.Ю.",
         "item_id": 70,
         "item_category_id": 49,
         "_deepnote_index_column": 70
        },
        {
         "item_name": "11 ДРУЗЕЙ ОУШЕНА WB (BD)",
         "item_id": 71,
         "item_category_id": 37,
         "_deepnote_index_column": 71
        },
        {
         "item_name": "11 ДРУЗЕЙ ОУШЕНА WB (регион)",
         "item_id": 72,
         "item_category_id": 40,
         "_deepnote_index_column": 72
        },
        {
         "item_name": "11-11-11 (регион)",
         "item_id": 73,
         "item_category_id": 40,
         "_deepnote_index_column": 73
        },
        {
         "item_name": "12 ДРУЗЕЙ ОУШЕНА WB (BD)",
         "item_id": 74,
         "item_category_id": 37,
         "_deepnote_index_column": 74
        },
        {
         "item_name": "12 ДРУЗЕЙ ОУШЕНА WB (регион)",
         "item_id": 75,
         "item_category_id": 40,
         "_deepnote_index_column": 75
        },
        {
         "item_name": "12 ЛЕТ РАБСТВА (BD)",
         "item_id": 76,
         "item_category_id": 37,
         "_deepnote_index_column": 76
        },
        {
         "item_name": "12 ЛЕТ РАБСТВА (регион)",
         "item_id": 77,
         "item_category_id": 40,
         "_deepnote_index_column": 77
        },
        {
         "item_name": "12 МЕСЯЦЕВ",
         "item_id": 78,
         "item_category_id": 40,
         "_deepnote_index_column": 78
        },
        {
         "item_name": "12 МЕСЯЦЕВ. НОВАЯ СКАЗКА",
         "item_id": 79,
         "item_category_id": 40,
         "_deepnote_index_column": 79
        },
        {
         "item_name": "12 РАУНДОВ (BD)",
         "item_id": 80,
         "item_category_id": 37,
         "_deepnote_index_column": 80
        },
        {
         "item_name": "12 РОЖДЕСТВЕНСКИХ ЖЕЛАНИЙ",
         "item_id": 81,
         "item_category_id": 40,
         "_deepnote_index_column": 81
        },
        {
         "item_name": "12/ДВЕНАДЦАТЬ (BD)",
         "item_id": 82,
         "item_category_id": 37,
         "_deepnote_index_column": 82
        },
        {
         "item_name": "12/ДВЕНАДЦАТЬ (СР) (Регион)",
         "item_id": 83,
         "item_category_id": 40,
         "_deepnote_index_column": 83
        },
        {
         "item_name": "127 ЧАСОВ",
         "item_id": 84,
         "item_category_id": 40,
         "_deepnote_index_column": 84
        },
        {
         "item_name": "127 ЧАСОВ (BD+DVD)",
         "item_id": 85,
         "item_category_id": 37,
         "_deepnote_index_column": 85
        },
        {
         "item_name": "127 ЧАСОВ (регион)",
         "item_id": 86,
         "item_category_id": 40,
         "_deepnote_index_column": 86
        },
        {
         "item_name": "13 ДРУЗЕЙ ОУШЕНА WB (BD)",
         "item_id": 87,
         "item_category_id": 37,
         "_deepnote_index_column": 87
        },
        {
         "item_name": "13 ДРУЗЕЙ ОУШЕНА WB (регион)",
         "item_id": 88,
         "item_category_id": 40,
         "_deepnote_index_column": 88
        },
        {
         "item_name": "13-Й ВОИН wd",
         "item_id": 89,
         "item_category_id": 40,
         "_deepnote_index_column": 89
        },
        {
         "item_name": "13-Й РАЙОН: Кирпичные особняки",
         "item_id": 90,
         "item_category_id": 40,
         "_deepnote_index_column": 90
        },
        {
         "item_name": "13-Й РАЙОН: Кирпичные особняки (BD)",
         "item_id": 91,
         "item_category_id": 37,
         "_deepnote_index_column": 91
        },
        {
         "item_name": "13-Й РАЙОН: УЛЬТИМАТУМ (BD)",
         "item_id": 92,
         "item_category_id": 37,
         "_deepnote_index_column": 92
        },
        {
         "item_name": "15 знаменитых сказок  Детям от 0 до 3 лет (mp3-CD) (Jewel)",
         "item_id": 93,
         "item_category_id": 43,
         "_deepnote_index_column": 93
        },
        {
         "item_name": "16 ЖЕЛАНИЙ",
         "item_id": 94,
         "item_category_id": 40,
         "_deepnote_index_column": 94
        },
        {
         "item_name": "1812. ЭНЦИКЛОПЕДИЯ ВЕЛИКОЙ ВОЙНЫ",
         "item_id": 95,
         "item_category_id": 40,
         "_deepnote_index_column": 95
        },
        {
         "item_name": "1812. ЭНЦИКЛОПЕДИЯ ВОЙНЫ (регион)",
         "item_id": 96,
         "item_category_id": 40,
         "_deepnote_index_column": 96
        },
        {
         "item_name": "1812: 4 СЕРИИ (регион)",
         "item_id": 97,
         "item_category_id": 40,
         "_deepnote_index_column": 97
        },
        {
         "item_name": "1812: УЛАНСКАЯ БАЛЛАДА",
         "item_id": 98,
         "item_category_id": 40,
         "_deepnote_index_column": 98
        },
        {
         "item_name": "1812: УЛАНСКАЯ БАЛЛАДА (BD)",
         "item_id": 99,
         "item_category_id": 37,
         "_deepnote_index_column": 99
        },
        {
         "item_name": "1812: УЛАНСКАЯ БАЛЛАДА (регион)",
         "item_id": 100,
         "item_category_id": 40,
         "_deepnote_index_column": 100
        },
        {
         "item_name": "1C:Школа. Физика, 9кл. [PC, Цифровая версия]",
         "item_id": 101,
         "item_category_id": 78,
         "_deepnote_index_column": 101
        },
        {
         "item_name": "1С-Битрикс: Управление сайтом - Малый бизнес [PC, Цифровая версия]",
         "item_id": 102,
         "item_category_id": 76,
         "_deepnote_index_column": 102
        },
        {
         "item_name": "1С-Битрикс: Управление сайтом - Стандарт [PC, Цифровая версия]",
         "item_id": 103,
         "item_category_id": 76,
         "_deepnote_index_column": 103
        },
        {
         "item_name": "1С-Битрикс: Управление сайтом - Старт (Bitrix) [PC, Цифровая версия]",
         "item_id": 104,
         "item_category_id": 76,
         "_deepnote_index_column": 104
        },
        {
         "item_name": "1С:Snowball ORIGINALS \"Europa Universalis III. In Nomine\"",
         "item_id": 105,
         "item_category_id": 30,
         "_deepnote_index_column": 105
        },
        {
         "item_name": "1С:Snowball ИГРУШКИ \"День Победы II. Новая война\"",
         "item_id": 106,
         "item_category_id": 30,
         "_deepnote_index_column": 106
        },
        {
         "item_name": "1С:Аудио. В гармонии с природой. Музыка для спокойного вождения автомобиля [Цифровая версия]",
         "item_id": 107,
         "item_category_id": 44,
         "_deepnote_index_column": 107
        },
        {
         "item_name": "1С:Аудио. В гармонии с природой. Отдых в лесу [Цифровая версия]",
         "item_id": 108,
         "item_category_id": 44,
         "_deepnote_index_column": 108
        },
        {
         "item_name": "1С:Аудио. Музыка восстановления равновесия души и тела (Jewel)",
         "item_id": 109,
         "item_category_id": 57,
         "_deepnote_index_column": 109
        },
        {
         "item_name": "1С:Аудио. Музыка восстановления равновесия души и тела [Цифровая версия]",
         "item_id": 110,
         "item_category_id": 44,
         "_deepnote_index_column": 110
        },
        {
         "item_name": "1С:Аудио. Музыка для оздоровления организма (Jewel)",
         "item_id": 111,
         "item_category_id": 57,
         "_deepnote_index_column": 111
        },
        {
         "item_name": "1С:Аудио. Музыка для релаксации и массажа [Цифровая версия]",
         "item_id": 112,
         "item_category_id": 44,
         "_deepnote_index_column": 112
        },
        {
         "item_name": "1С:Аудио. Музыка для снятия стресса (Jewel)",
         "item_id": 113,
         "item_category_id": 57,
         "_deepnote_index_column": 113
        },
        {
         "item_name": "1С:Аудио. Музыка для снятия стресса [Цифровая версия]",
         "item_id": 114,
         "item_category_id": 44,
         "_deepnote_index_column": 114
        },
        {
         "item_name": "1С:Аудио. Музыка природы (Jewel)",
         "item_id": 115,
         "item_category_id": 57,
         "_deepnote_index_column": 115
        },
        {
         "item_name": "1С:Аудио. Музыка страсти: повышение тонуса (Jewel)",
         "item_id": 116,
         "item_category_id": 57,
         "_deepnote_index_column": 116
        },
        {
         "item_name": "1С:Аудио. Музыка страсти: повышение тонуса [Цифровая версия]",
         "item_id": 117,
         "item_category_id": 44,
         "_deepnote_index_column": 117
        },
        {
         "item_name": "1С:Аудиокниги \"Аленушкины сказки\" [Цифровая версия]",
         "item_id": 118,
         "item_category_id": 44,
         "_deepnote_index_column": 118
        },
        {
         "item_name": "1С:Аудиокниги \"Баба-Яга – Золотая нога\" [Цифровая версия]",
         "item_id": 119,
         "item_category_id": 44,
         "_deepnote_index_column": 119
        },
        {
         "item_name": "1С:Аудиокниги \"Дама с собачкой\" [Цифровая версия]",
         "item_id": 120,
         "item_category_id": 44,
         "_deepnote_index_column": 120
        },
        {
         "item_name": "1С:Аудиокниги \"Кадетский монастырь\" [Цифровая версия]",
         "item_id": 121,
         "item_category_id": 44,
         "_deepnote_index_column": 121
        },
        {
         "item_name": "1С:Аудиокниги \"Любовь\" [Цифровая версия]",
         "item_id": 122,
         "item_category_id": 44,
         "_deepnote_index_column": 122
        },
        {
         "item_name": "1С:Аудиокниги \"Севастопольские рассказы\" [Цифровая версия]",
         "item_id": 123,
         "item_category_id": 44,
         "_deepnote_index_column": 123
        },
        {
         "item_name": "1С:Аудиокниги \"Серая Шейка\" [Цифровая версия]",
         "item_id": 124,
         "item_category_id": 44,
         "_deepnote_index_column": 124
        },
        {
         "item_name": "1С:Аудиокниги \"Сказки народов мира\" [Цифровая версия]",
         "item_id": 125,
         "item_category_id": 44,
         "_deepnote_index_column": 125
        },
        {
         "item_name": "1С:Аудиокниги \"Сказки. Выпуск 1\" [Цифровая версия]",
         "item_id": 126,
         "item_category_id": 44,
         "_deepnote_index_column": 126
        },
        {
         "item_name": "1С:Аудиокниги \"Сказки. Выпуск 2\" [Цифровая версия]",
         "item_id": 127,
         "item_category_id": 44,
         "_deepnote_index_column": 127
        },
        {
         "item_name": "1С:Аудиокниги \"Сказки. Выпуск 3\" [Цифровая версия]",
         "item_id": 128,
         "item_category_id": 44,
         "_deepnote_index_column": 128
        },
        {
         "item_name": "1С:Аудиокниги \"Сказки. Выпуск 4\" [Цифровая версия]",
         "item_id": 129,
         "item_category_id": 44,
         "_deepnote_index_column": 129
        },
        {
         "item_name": "1С:Аудиокниги \"Сказки. Выпуск 5\" [Цифровая версия]",
         "item_id": 130,
         "item_category_id": 44,
         "_deepnote_index_column": 130
        },
        {
         "item_name": "1С:Аудиокниги \"Сказки. Выпуск 6\" [Цифровая версия]",
         "item_id": 131,
         "item_category_id": 44,
         "_deepnote_index_column": 131
        },
        {
         "item_name": "1С:Аудиокниги. \"Мистические рассказы русских писателей\", А. С. Пушкин, Ф. М. Достоевский [Цифровая в",
         "item_id": 132,
         "item_category_id": 44,
         "_deepnote_index_column": 132
        },
        {
         "item_name": "1С:Аудиокниги. 25 знаменитых сказок",
         "item_id": 133,
         "item_category_id": 45,
         "_deepnote_index_column": 133
        },
        {
         "item_name": "1С:Аудиокниги. Around the World in 80 days (by Jules Verne) (Jewel)",
         "item_id": 134,
         "item_category_id": 45,
         "_deepnote_index_column": 134
        },
        {
         "item_name": "1С:Аудиокниги. Classical Mosaic. English Stories. Part 1",
         "item_id": 135,
         "item_category_id": 45,
         "_deepnote_index_column": 135
        },
        {
         "item_name": "1С:Аудиокниги. Happy New English! (Best funny stories) (Digipack)",
         "item_id": 136,
         "item_category_id": 45,
         "_deepnote_index_column": 136
        },
        {
         "item_name": "1С:Аудиокниги. The Golden Age of Detective Fiction. Part 1 [PC, Цифровая версия]",
         "item_id": 137,
         "item_category_id": 44,
         "_deepnote_index_column": 137
        },
        {
         "item_name": "1С:Аудиокниги. А. Некрасов. Приключения капитана Врунгеля (Digipack)",
         "item_id": 138,
         "item_category_id": 45,
         "_deepnote_index_column": 138
        },
        {
         "item_name": "1С:Аудиокниги. А.М. Волков. Волшебник изумрудного города (Digipack)",
         "item_id": 139,
         "item_category_id": 45,
         "_deepnote_index_column": 139
        },
        {
         "item_name": "1С:Аудиокниги. Аладдин и другие восточные сказки (Jewel)",
         "item_id": 140,
         "item_category_id": 45,
         "_deepnote_index_column": 140
        },
        {
         "item_name": "1С:Аудиокниги. Аладдин и другие восточные сказки [PC, Цифровая версия]",
         "item_id": 141,
         "item_category_id": 44,
         "_deepnote_index_column": 141
        },
        {
         "item_name": "1С:Аудиокниги. Алексей Толстой. Приключения Буратино (Digipack)",
         "item_id": 142,
         "item_category_id": 45,
         "_deepnote_index_column": 142
        },
        {
         "item_name": "1С:Аудиокниги. Аленький цветочек и другие сказки (Jewel)",
         "item_id": 143,
         "item_category_id": 45,
         "_deepnote_index_column": 143
        },
        {
         "item_name": "1С:Аудиокниги. Аленький цветочек и другие сказки [Цифровая версия]",
         "item_id": 144,
         "item_category_id": 44,
         "_deepnote_index_column": 144
        },
        {
         "item_name": "1С:Аудиокниги. Али-Баба и сорок разбойников [PC, Цифровая версия]",
         "item_id": 145,
         "item_category_id": 44,
         "_deepnote_index_column": 145
        },
        {
         "item_name": "1С:Аудиокниги. Английские неправильные глаголы. Тренажер   [PC, Цифровая версия]",
         "item_id": 146,
         "item_category_id": 44,
         "_deepnote_index_column": 146
        },
        {
         "item_name": "1С:Аудиокниги. Английские пословицы, поговорки и устойчивые выражения. Самоучитель  [PC, Цифровая версия]",
         "item_id": 147,
         "item_category_id": 44,
         "_deepnote_index_column": 147
        },
        {
         "item_name": "1С:Аудиокниги. Английские сказки, часть 1 [PC, Цифровая версия]",
         "item_id": 148,
         "item_category_id": 44,
         "_deepnote_index_column": 148
        },
        {
         "item_name": "1С:Аудиокниги. Английский для детей. Слушай и изучай (Jewel)",
         "item_id": 149,
         "item_category_id": 45,
         "_deepnote_index_column": 149
        },
        {
         "item_name": "1С:Аудиокниги. Английский для детей. Слушай и изучай [Цифровая версия]",
         "item_id": 150,
         "item_category_id": 44,
         "_deepnote_index_column": 150
        },
        {
         "item_name": "1С:Аудиокниги. Английский для малышей. Наглядное пособие (Jewel)",
         "item_id": 151,
         "item_category_id": 45,
         "_deepnote_index_column": 151
        },
        {
         "item_name": "1С:Аудиокниги. Английский для путешественников (Jewel)",
         "item_id": 152,
         "item_category_id": 45,
         "_deepnote_index_column": 152
        },
        {
         "item_name": "1С:Аудиокниги. Английский за 30 минут (Digipack)",
         "item_id": 153,
         "item_category_id": 45,
         "_deepnote_index_column": 153
        },
        {
         "item_name": "1С:Аудиокниги. Английский за рулем. Выпуск 1 (Beginner) (Digipack)",
         "item_id": 154,
         "item_category_id": 45,
         "_deepnote_index_column": 154
        },
        {
         "item_name": "1С:Аудиокниги. Английский за рулем. Выпуск 2 (Elementary) (Digipack)",
         "item_id": 155,
         "item_category_id": 45,
         "_deepnote_index_column": 155
        },
        {
         "item_name": "1С:Аудиокниги. Английский за рулем. Выпуск 3 (Pre-Intermediate) (Digipack)",
         "item_id": 156,
         "item_category_id": 45,
         "_deepnote_index_column": 156
        },
        {
         "item_name": "1С:Аудиокниги. Английский словарный минимум. Тренажер  [PC, Цифровая версия]",
         "item_id": 157,
         "item_category_id": 44,
         "_deepnote_index_column": 157
        },
        {
         "item_name": "1С:Аудиокниги. Английский язык за 12 дней: Самоучитель для повседневного общения [PC, Цифровая версия]",
         "item_id": 158,
         "item_category_id": 44,
         "_deepnote_index_column": 158
        },
        {
         "item_name": "1С:Аудиокниги. Английский язык за 12 дней: Самоучитель. Деловой английский  [PC, Цифровая версия]",
         "item_id": 159,
         "item_category_id": 44,
         "_deepnote_index_column": 159
        },
        {
         "item_name": "1С:Аудиокниги. Английский язык за 12 дней: Самоучитель. Отдых за рубежом [PC, Цифровая версия]",
         "item_id": 160,
         "item_category_id": 44,
         "_deepnote_index_column": 160
        },
        {
         "item_name": "1С:Аудиокниги. Английский язык. 1700 распространенных фраз и выражений. Тренажер   [PC, Цифровая версия]",
         "item_id": 161,
         "item_category_id": 44,
         "_deepnote_index_column": 161
        },
        {
         "item_name": "1С:Аудиокниги. Андерсен Г.Х. Дюймовочка",
         "item_id": 162,
         "item_category_id": 45,
         "_deepnote_index_column": 162
        },
        {
         "item_name": "1С:Аудиокниги. Андрей Платонов. Челюсть дракона. Рассказы о войне12    [PC, Цифровая версия]",
         "item_id": 163,
         "item_category_id": 44,
         "_deepnote_index_column": 163
        },
        {
         "item_name": "1С:Аудиокниги. Аркадий Аверченко. Классика русского юмора. [Цифровая версия]",
         "item_id": 164,
         "item_category_id": 44,
         "_deepnote_index_column": 164
        },
        {
         "item_name": "1С:Аудиокниги. Артур Конан Дойл. Долина страха (Jewel)",
         "item_id": 165,
         "item_category_id": 45,
         "_deepnote_index_column": 165
        }
       ],
       "rows_bottom": [
        {
         "item_name": "ЩЕНЯЧИЙ ПАТРУЛЬ  Сезон 1  Выпуск 3  Пиратские сокровища",
         "item_id": 22003,
         "item_category_id": 40,
         "_deepnote_index_column": 22003
        },
        {
         "item_name": "ЩЕНЯЧИЙ ПАТРУЛЬ  Сезон 1  Выпуск 4  Зимние спасатели",
         "item_id": 22004,
         "item_category_id": 40,
         "_deepnote_index_column": 22004
        },
        {
         "item_name": "ЩЕНЯЧИЙ ПАТРУЛЬ  Сезон 1  Выпуск 5  Сбор урожая",
         "item_id": 22005,
         "item_category_id": 40,
         "_deepnote_index_column": 22005
        },
        {
         "item_name": "ЩЕНЯЧИЙ ПАТРУЛЬ  Сезон 1  Выпуск 6  Большие гонки",
         "item_id": 22006,
         "item_category_id": 40,
         "_deepnote_index_column": 22006
        },
        {
         "item_name": "ЩИТ И МЕЧ (1-2 серия) (регион)",
         "item_id": 22007,
         "item_category_id": 40,
         "_deepnote_index_column": 22007
        },
        {
         "item_name": "ЩИТ И МЕЧ (3-4 серия) (регион)",
         "item_id": 22008,
         "item_category_id": 40,
         "_deepnote_index_column": 22008
        },
        {
         "item_name": "ЩИТ И МЕЧ (rem) (2DVD)",
         "item_id": 22009,
         "item_category_id": 40,
         "_deepnote_index_column": 22009
        },
        {
         "item_name": "Щелкунчик и Крысиный король [PC, Jewel]",
         "item_id": 22010,
         "item_category_id": 30,
         "_deepnote_index_column": 22010
        },
        {
         "item_name": "Щит Adventure Time Jake Shield with Sounds со звуком",
         "item_id": 22011,
         "item_category_id": 61,
         "_deepnote_index_column": 22011
        },
        {
         "item_name": "ЭВАН ВСЕМОГУЩИЙ (BD)",
         "item_id": 22012,
         "item_category_id": 37,
         "_deepnote_index_column": 22012
        },
        {
         "item_name": "ЭВЕРГЛЕЙДС: ЛАМАНТИН КРИСТАЛЬНОЙ РЕКИ (3D BD)",
         "item_id": 22013,
         "item_category_id": 38,
         "_deepnote_index_column": 22013
        },
        {
         "item_name": "ЭВОЛЮЦИЯ БОРНА",
         "item_id": 22014,
         "item_category_id": 40,
         "_deepnote_index_column": 22014
        },
        {
         "item_name": "ЭВОЛЮЦИЯ БОРНА (BD)",
         "item_id": 22015,
         "item_category_id": 37,
         "_deepnote_index_column": 22015
        },
        {
         "item_name": "ЭДВАРД РУКИ-НОЖНИЦЫ (BD)",
         "item_id": 22016,
         "item_category_id": 37,
         "_deepnote_index_column": 22016
        },
        {
         "item_name": "ЭДДИ МЕРФИ. Коллекция фильмов",
         "item_id": 22017,
         "item_category_id": 40,
         "_deepnote_index_column": 22017
        },
        {
         "item_name": "ЭКЗАМЕН ДЛЯ ДВОИХ",
         "item_id": 22018,
         "item_category_id": 40,
         "_deepnote_index_column": 22018
        },
        {
         "item_name": "ЭКЗАМЕН ДЛЯ ДВОИХ (BD)",
         "item_id": 22019,
         "item_category_id": 37,
         "_deepnote_index_column": 22019
        },
        {
         "item_name": "ЭКИПАЖ",
         "item_id": 22020,
         "item_category_id": 40,
         "_deepnote_index_column": 22020
        },
        {
         "item_name": "ЭКИПАЖ (BD)",
         "item_id": 22021,
         "item_category_id": 37,
         "_deepnote_index_column": 22021
        },
        {
         "item_name": "ЭКИПАЖ (rem)",
         "item_id": 22022,
         "item_category_id": 40,
         "_deepnote_index_column": 22022
        },
        {
         "item_name": "ЭКИПАЖ (Регион)",
         "item_id": 22023,
         "item_category_id": 40,
         "_deepnote_index_column": 22023
        },
        {
         "item_name": "ЭКИПАЖ (регион)",
         "item_id": 22024,
         "item_category_id": 40,
         "_deepnote_index_column": 22024
        },
        {
         "item_name": "ЭКСПАТ (BD)",
         "item_id": 22025,
         "item_category_id": 37,
         "_deepnote_index_column": 22025
        },
        {
         "item_name": "ЭКСПАТ (DVD+BD)",
         "item_id": 22026,
         "item_category_id": 40,
         "_deepnote_index_column": 22026
        },
        {
         "item_name": "ЭКСПАТ (регион)",
         "item_id": 22027,
         "item_category_id": 40,
         "_deepnote_index_column": 22027
        },
        {
         "item_name": "ЭКСПЕРИМЕНТ",
         "item_id": 22028,
         "item_category_id": 40,
         "_deepnote_index_column": 22028
        },
        {
         "item_name": "ЭКСПЕРИМЕНТ \"ПОВИНОВЕНИЕ\" (регион)",
         "item_id": 22029,
         "item_category_id": 40,
         "_deepnote_index_column": 22029
        },
        {
         "item_name": "ЭКСТАЗИ",
         "item_id": 22030,
         "item_category_id": 40,
         "_deepnote_index_column": 22030
        },
        {
         "item_name": "ЭКСТРАСЕНС",
         "item_id": 22031,
         "item_category_id": 40,
         "_deepnote_index_column": 22031
        },
        {
         "item_name": "ЭКСТРАСЕНС (BD)",
         "item_id": 22032,
         "item_category_id": 37,
         "_deepnote_index_column": 22032
        },
        {
         "item_name": "ЭЛВИН И БУРУНДУКИ (BD)",
         "item_id": 22033,
         "item_category_id": 37,
         "_deepnote_index_column": 22033
        },
        {
         "item_name": "ЭЛВИН И БУРУНДУКИ 1,2 (ХХси)",
         "item_id": 22034,
         "item_category_id": 40,
         "_deepnote_index_column": 22034
        },
        {
         "item_name": "ЭЛВИН И БУРУНДУКИ 2",
         "item_id": 22035,
         "item_category_id": 40,
         "_deepnote_index_column": 22035
        },
        {
         "item_name": "ЭЛВИН И БУРУНДУКИ 2 (BD)",
         "item_id": 22036,
         "item_category_id": 37,
         "_deepnote_index_column": 22036
        },
        {
         "item_name": "ЭЛВИН И БУРУНДУКИ 2 (р)",
         "item_id": 22037,
         "item_category_id": 40,
         "_deepnote_index_column": 22037
        },
        {
         "item_name": "ЭЛВИН И БУРУНДУКИ 3",
         "item_id": 22038,
         "item_category_id": 40,
         "_deepnote_index_column": 22038
        },
        {
         "item_name": "ЭЛВИН И БУРУНДУКИ 3 (BD)",
         "item_id": 22039,
         "item_category_id": 37,
         "_deepnote_index_column": 22039
        },
        {
         "item_name": "ЭЛВИН И БУРУНДУКИ 3 (регион)",
         "item_id": 22040,
         "item_category_id": 40,
         "_deepnote_index_column": 22040
        },
        {
         "item_name": "ЭЛВИН И БУРУНДУКИ. ТРИЛОГИЯ (BD)",
         "item_id": 22041,
         "item_category_id": 41,
         "_deepnote_index_column": 22041
        },
        {
         "item_name": "ЭЛВИН И БУРУНДУКИ: ТРИЛОГИЯ",
         "item_id": 22042,
         "item_category_id": 40,
         "_deepnote_index_column": 22042
        },
        {
         "item_name": "ЭЛЕКТРА (BD)",
         "item_id": 22043,
         "item_category_id": 37,
         "_deepnote_index_column": 22043
        },
        {
         "item_name": "ЭЛИЗАБЕТТАУН (регион)",
         "item_id": 22044,
         "item_category_id": 40,
         "_deepnote_index_column": 22044
        },
        {
         "item_name": "ЭЛИЗИУМ: РАЙ НЕ НА ЗЕМЛЕ",
         "item_id": 22045,
         "item_category_id": 40,
         "_deepnote_index_column": 22045
        },
        {
         "item_name": "ЭЛИЗИУМ: РАЙ НЕ НА ЗЕМЛЕ (BD)",
         "item_id": 22046,
         "item_category_id": 37,
         "_deepnote_index_column": 22046
        },
        {
         "item_name": "ЭЛИЗИУМ: РАЙ НЕ НА ЗЕМЛЕ (регион)",
         "item_id": 22047,
         "item_category_id": 40,
         "_deepnote_index_column": 22047
        },
        {
         "item_name": "ЭЛИТНОЕ ОБЩЕСТВО",
         "item_id": 22048,
         "item_category_id": 40,
         "_deepnote_index_column": 22048
        },
        {
         "item_name": "ЭММА (регион)",
         "item_id": 22049,
         "item_category_id": 40,
         "_deepnote_index_column": 22049
        },
        {
         "item_name": "ЭМПАЙР СТЭЙТ",
         "item_id": 22050,
         "item_category_id": 40,
         "_deepnote_index_column": 22050
        },
        {
         "item_name": "ЭННИ",
         "item_id": 22051,
         "item_category_id": 40,
         "_deepnote_index_column": 22051
        },
        {
         "item_name": "ЭПИДЕМИЯ  Всадник из льда (фирм.)",
         "item_id": 22052,
         "item_category_id": 55,
         "_deepnote_index_column": 22052
        },
        {
         "item_name": "ЭПИДЕМИЯ  Дорога домой",
         "item_id": 22053,
         "item_category_id": 55,
         "_deepnote_index_column": 22053
        },
        {
         "item_name": "ЭПИДЕМИЯ  Сокровище Энии  2LP",
         "item_id": 22054,
         "item_category_id": 58,
         "_deepnote_index_column": 22054
        },
        {
         "item_name": "ЭПИДЕМИЯ  Эльфийская рукопись  Сага о двух мирах  3DVD",
         "item_id": 22055,
         "item_category_id": 59,
         "_deepnote_index_column": 22055
        },
        {
         "item_name": "ЭПИДЕМИЯ (2013)",
         "item_id": 22056,
         "item_category_id": 40,
         "_deepnote_index_column": 22056
        },
        {
         "item_name": "ЭПИДЕМИЯ (регион)",
         "item_id": 22057,
         "item_category_id": 40,
         "_deepnote_index_column": 22057
        },
        {
         "item_name": "ЭПИК",
         "item_id": 22058,
         "item_category_id": 40,
         "_deepnote_index_column": 22058
        },
        {
         "item_name": "ЭПИК (3D BD+BD)",
         "item_id": 22059,
         "item_category_id": 38,
         "_deepnote_index_column": 22059
        },
        {
         "item_name": "ЭПИК (BD)",
         "item_id": 22060,
         "item_category_id": 37,
         "_deepnote_index_column": 22060
        },
        {
         "item_name": "ЭПОХА ГЕРОЕВ",
         "item_id": 22061,
         "item_category_id": 40,
         "_deepnote_index_column": 22061
        },
        {
         "item_name": "ЭПОХА ГЕРОЕВ (BD)",
         "item_id": 22062,
         "item_category_id": 37,
         "_deepnote_index_column": 22062
        },
        {
         "item_name": "ЭРАГОН (ХХси)",
         "item_id": 22063,
         "item_category_id": 40,
         "_deepnote_index_column": 22063
        },
        {
         "item_name": "ЭРНЕСТ И СЕЛЕСТИНА: ПРИКЛЮЧЕНИЯ МЫШКИ И МЕДВЕДЯ",
         "item_id": 22064,
         "item_category_id": 40,
         "_deepnote_index_column": 22064
        },
        {
         "item_name": "ЭТА ВЕСЕЛАЯ ПЛАНЕТА (rem)",
         "item_id": 22065,
         "item_category_id": 40,
         "_deepnote_index_column": 22065
        },
        {
         "item_name": "ЭТА ВЕСЕЛАЯ ПЛАНЕТА (регион)",
         "item_id": 22066,
         "item_category_id": 40,
         "_deepnote_index_column": 22066
        },
        {
         "item_name": "ЭТА-ДУРАЦКАЯ-ЛЮБОВЬ",
         "item_id": 22067,
         "item_category_id": 40,
         "_deepnote_index_column": 22067
        },
        {
         "item_name": "ЭТА-ДУРАЦКАЯ-ЛЮБОВЬ (BD)",
         "item_id": 22068,
         "item_category_id": 37,
         "_deepnote_index_column": 22068
        },
        {
         "item_name": "ЭТА-ДУРАЦКАЯ-ЛЮБОВЬ (регион)",
         "item_id": 22069,
         "item_category_id": 40,
         "_deepnote_index_column": 22069
        },
        {
         "item_name": "ЭТИМ УТРОМ В НЬЮ-ЙОРКЕ",
         "item_id": 22070,
         "item_category_id": 40,
         "_deepnote_index_column": 22070
        },
        {
         "item_name": "ЭТОТ НЕЛОВКИЙ МОМЕНТ",
         "item_id": 22071,
         "item_category_id": 40,
         "_deepnote_index_column": 22071
        },
        {
         "item_name": "ЭФФЕКТ КОЛИБРИ",
         "item_id": 22072,
         "item_category_id": 40,
         "_deepnote_index_column": 22072
        },
        {
         "item_name": "ЭФФЕКТ КОЛИБРИ (BD)",
         "item_id": 22073,
         "item_category_id": 37,
         "_deepnote_index_column": 22073
        },
        {
         "item_name": "ЭФФЕКТ КОЛИБРИ (регион)",
         "item_id": 22074,
         "item_category_id": 40,
         "_deepnote_index_column": 22074
        },
        {
         "item_name": "ЭФФЕКТИВНОЕ ПОХУДАНИЕ:Фитнес-йога. Начальный уровень.",
         "item_id": 22075,
         "item_category_id": 40,
         "_deepnote_index_column": 22075
        },
        {
         "item_name": "Эадор. Владыки миров [PC, Jewel, русская версия]",
         "item_id": 22076,
         "item_category_id": 30,
         "_deepnote_index_column": 22076
        },
        {
         "item_name": "Эадор. Сотворение",
         "item_id": 22077,
         "item_category_id": 30,
         "_deepnote_index_column": 22077
        },
        {
         "item_name": "Эадор: Владыки миров [PC, Цифровая версия]",
         "item_id": 22078,
         "item_category_id": 31,
         "_deepnote_index_column": 22078
        },
        {
         "item_name": "Эврика [PC, Jewel]",
         "item_id": 22079,
         "item_category_id": 30,
         "_deepnote_index_column": 22079
        },
        {
         "item_name": "Эврика! [PC, Цифровая версия]",
         "item_id": 22080,
         "item_category_id": 31,
         "_deepnote_index_column": 22080
        },
        {
         "item_name": "Экзаменационные билеты ГИБДД 2012 [PC, Jewel]",
         "item_id": 22081,
         "item_category_id": 77,
         "_deepnote_index_column": 22081
        },
        {
         "item_name": "Экспресс-курс. Программы и компоненты Windows 7 (Jewel)",
         "item_id": 22082,
         "item_category_id": 77,
         "_deepnote_index_column": 22082
        },
        {
         "item_name": "Элвин и бурундуки 3 (только для MS Kinect) [Xbox 360, русская документация]",
         "item_id": 22083,
         "item_category_id": 23,
         "_deepnote_index_column": 22083
        },
        {
         "item_name": "Электронный Ди-Джей. HipHop 6 (Jewel)",
         "item_id": 22084,
         "item_category_id": 77,
         "_deepnote_index_column": 22084
        },
        {
         "item_name": "Элемент питания DURACELL 123 A Ultra MP3 1*BL",
         "item_id": 22085,
         "item_category_id": 83,
         "_deepnote_index_column": 22085
        },
        {
         "item_name": "Элемент питания DURACELL 6LR61 9V 1*BL",
         "item_id": 22086,
         "item_category_id": 83,
         "_deepnote_index_column": 22086
        },
        {
         "item_name": "Элемент питания DURACELL LR03-BC2",
         "item_id": 22087,
         "item_category_id": 83,
         "_deepnote_index_column": 22087
        },
        {
         "item_name": "Элемент питания DURACELL LR06-BC2",
         "item_id": 22088,
         "item_category_id": 83,
         "_deepnote_index_column": 22088
        },
        {
         "item_name": "Элемент питания DURACELL LR14 2*BL",
         "item_id": 22089,
         "item_category_id": 83,
         "_deepnote_index_column": 22089
        },
        {
         "item_name": "Элемент питания DURACELL LR20 2*BL",
         "item_id": 22090,
         "item_category_id": 83,
         "_deepnote_index_column": 22090
        },
        {
         "item_name": "Элемент питания DURACELL TURBO LR 03 2*BL",
         "item_id": 22091,
         "item_category_id": 83,
         "_deepnote_index_column": 22091
        },
        {
         "item_name": "Элемент питания DURACELL TURBO LR6 2*BL",
         "item_id": 22092,
         "item_category_id": 83,
         "_deepnote_index_column": 22092
        },
        {
         "item_name": "Элемент питания GP 13A (LR20) - Блистер 2 шт",
         "item_id": 22093,
         "item_category_id": 83,
         "_deepnote_index_column": 22093
        },
        {
         "item_name": "Элемент питания GP 15A (LR6) - Блистер 2 шт",
         "item_id": 22094,
         "item_category_id": 83,
         "_deepnote_index_column": 22094
        },
        {
         "item_name": "Элемент питания GP 15AU (LR6) - Блистер 2 шт Ultra",
         "item_id": 22095,
         "item_category_id": 83,
         "_deepnote_index_column": 22095
        },
        {
         "item_name": "Элемент питания GP 24A (LR03) - Блистер 2 шт",
         "item_id": 22096,
         "item_category_id": 83,
         "_deepnote_index_column": 22096
        },
        {
         "item_name": "Элемент питания GP 24AU (LR03) - Блистер 2 шт Ultra",
         "item_id": 22097,
         "item_category_id": 83,
         "_deepnote_index_column": 22097
        },
        {
         "item_name": "Элемент питания КОСМОС LR03 2*BL",
         "item_id": 22098,
         "item_category_id": 83,
         "_deepnote_index_column": 22098
        },
        {
         "item_name": "Элемент питания СТАРТ ZT 15A (LR6) - Блистер 2 шт",
         "item_id": 22099,
         "item_category_id": 83,
         "_deepnote_index_column": 22099
        },
        {
         "item_name": "Энциклопедия Adventure Time",
         "item_id": 22100,
         "item_category_id": 42,
         "_deepnote_index_column": 22100
        },
        {
         "item_name": "Энциклопедия Dragon Age Мир Тедаса Том 1",
         "item_id": 22101,
         "item_category_id": 42,
         "_deepnote_index_column": 22101
        },
        {
         "item_name": "Энциклопедия Мир Ведьмака",
         "item_id": 22102,
         "item_category_id": 42,
         "_deepnote_index_column": 22102
        },
        {
         "item_name": "Эхо Москвы  Басовская Н., Венедиктов А. Древний мир (mp3-CD) (Jewel)",
         "item_id": 22103,
         "item_category_id": 43,
         "_deepnote_index_column": 22103
        },
        {
         "item_name": "Ю-ПИТЕР  Гудгора (фирм.)",
         "item_id": 22104,
         "item_category_id": 55,
         "_deepnote_index_column": 22104
        },
        {
         "item_name": "ЮГО-ЗАПАДНАЯ АМЕРИКА: ОТ ДОЛИНЫ СМЕРТИ ДО ВЕЛИКОГО КАНЬОНА (3D BD)",
         "item_id": 22105,
         "item_category_id": 38,
         "_deepnote_index_column": 22105
        },
        {
         "item_name": "ЮЖНЫЕ МОРЯ: АТОЛЛ БИКИНИ И МАРШАЛЛОВЫ ОСТРОВА (3D BD)",
         "item_id": 22106,
         "item_category_id": 38,
         "_deepnote_index_column": 22106
        },
        {
         "item_name": "ЮНАЙТЕД. МЮНХЕНСКАЯ ИСТОРИЯ (BD)",
         "item_id": 22107,
         "item_category_id": 37,
         "_deepnote_index_column": 22107
        },
        {
         "item_name": "ЮНОНА И АВОСЬ  (Н.Караченцов)",
         "item_id": 22108,
         "item_category_id": 40,
         "_deepnote_index_column": 22108
        },
        {
         "item_name": "ЮТА  Кстати  LP",
         "item_id": 22109,
         "item_category_id": 58,
         "_deepnote_index_column": 22109
        },
        {
         "item_name": "Юго-Восточная Азия Шанин В.А.",
         "item_id": 22110,
         "item_category_id": 52,
         "_deepnote_index_column": 22110
        },
        {
         "item_name": "Юмор и сатира  1  Рассказы русских писателей  6CD (mp3-CD) (DVD-Box)",
         "item_id": 22111,
         "item_category_id": 43,
         "_deepnote_index_column": 22111
        },
        {
         "item_name": "Юмор и сатира  2  Рассказы русских писателей  6CD (mp3-CD) (DVD-Box)",
         "item_id": 22112,
         "item_category_id": 43,
         "_deepnote_index_column": 22112
        },
        {
         "item_name": "Юмористические рассказы русских писателей в исполнении Валерия Гаркалина (mp3-CD) (Jewel)",
         "item_id": 22113,
         "item_category_id": 43,
         "_deepnote_index_column": 22113
        },
        {
         "item_name": "Я БУДУ РЯДОМ",
         "item_id": 22114,
         "item_category_id": 40,
         "_deepnote_index_column": 22114
        },
        {
         "item_name": "Я ВСЕ ЕЩЕ ЗНАЮ ЧТО ВЫ СДЕЛАЛИ ПРОШЛЫМ ЛЕТОМ (BD)",
         "item_id": 22115,
         "item_category_id": 37,
         "_deepnote_index_column": 22115
        },
        {
         "item_name": "Я И МОНИКА ВЕЛЮР",
         "item_id": 22116,
         "item_category_id": 40,
         "_deepnote_index_column": 22116
        },
        {
         "item_name": "Я ЛЮБЛЮ НЕПРЯТНОСТИ (BD)",
         "item_id": 22117,
         "item_category_id": 37,
         "_deepnote_index_column": 22117
        },
        {
         "item_name": "Я ЛЮБЛЮ ТЕБЯ, ФИЛЛИП МОРРИС (BD)",
         "item_id": 22118,
         "item_category_id": 37,
         "_deepnote_index_column": 22118
        },
        {
         "item_name": "Я НЕ ЗНАЮ, КАК ОНА ДЕЛАЕТ ЭТО (регион)",
         "item_id": 22119,
         "item_category_id": 40,
         "_deepnote_index_column": 22119
        },
        {
         "item_name": "Я НОРМАЛЬНО СУПЕР ГУД (регион)",
         "item_id": 22120,
         "item_category_id": 40,
         "_deepnote_index_column": 22120
        },
        {
         "item_name": "Я ОЧЕНЬ ВОЗБУЖДЕН",
         "item_id": 22121,
         "item_category_id": 40,
         "_deepnote_index_column": 22121
        },
        {
         "item_name": "Я ОЧЕНЬ ВОЗБУЖДЕН (BD)",
         "item_id": 22122,
         "item_category_id": 37,
         "_deepnote_index_column": 22122
        },
        {
         "item_name": "Я ОЧЕНЬ ВОЗБУЖДЕН (регион)",
         "item_id": 22123,
         "item_category_id": 40,
         "_deepnote_index_column": 22123
        },
        {
         "item_name": "Я ПЛЮЮ НА ВАШИ МОГИЛЫ",
         "item_id": 22124,
         "item_category_id": 40,
         "_deepnote_index_column": 22124
        },
        {
         "item_name": "Я ПЛЮЮ НА ВАШИ МОГИЛЫ (BD)",
         "item_id": 22125,
         "item_category_id": 37,
         "_deepnote_index_column": 22125
        },
        {
         "item_name": "Я ПЛЮЮ НА ВАШИ МОГИЛЫ 2",
         "item_id": 22126,
         "item_category_id": 40,
         "_deepnote_index_column": 22126
        },
        {
         "item_name": "Я ПЛЮЮ НА ВАШИ МОГИЛЫ 2 (BD)",
         "item_id": 22127,
         "item_category_id": 37,
         "_deepnote_index_column": 22127
        },
        {
         "item_name": "Я СЭМ (регион)",
         "item_id": 22128,
         "item_category_id": 40,
         "_deepnote_index_column": 22128
        },
        {
         "item_name": "Я ТОЖЕ",
         "item_id": 22129,
         "item_category_id": 40,
         "_deepnote_index_column": 22129
        },
        {
         "item_name": "Я ТОЖЕ ХОЧУ",
         "item_id": 22130,
         "item_category_id": 40,
         "_deepnote_index_column": 22130
        },
        {
         "item_name": "Я ТОЖЕ ХОЧУ (BD)",
         "item_id": 22131,
         "item_category_id": 37,
         "_deepnote_index_column": 22131
        },
        {
         "item_name": "Я ТОЖЕ ХОЧУ (регион)",
         "item_id": 22132,
         "item_category_id": 40,
         "_deepnote_index_column": 22132
        },
        {
         "item_name": "Я ШАГАЮ ПО МОСКВЕ (регион)",
         "item_id": 22133,
         "item_category_id": 40,
         "_deepnote_index_column": 22133
        },
        {
         "item_name": "Я, АЛЕКС КРОСС",
         "item_id": 22134,
         "item_category_id": 40,
         "_deepnote_index_column": 22134
        },
        {
         "item_name": "Я, АЛЕКС КРОСС (BD)",
         "item_id": 22135,
         "item_category_id": 37,
         "_deepnote_index_column": 22135
        },
        {
         "item_name": "Я, АЛЕКС КРОСС (регион)",
         "item_id": 22136,
         "item_category_id": 40,
         "_deepnote_index_column": 22136
        },
        {
         "item_name": "Я, РОБОТ",
         "item_id": 22137,
         "item_category_id": 40,
         "_deepnote_index_column": 22137
        },
        {
         "item_name": "Я, РОБОТ (2DVD+BD) жел.бокс",
         "item_id": 22138,
         "item_category_id": 40,
         "_deepnote_index_column": 22138
        },
        {
         "item_name": "Я, РОБОТ (3D BD)",
         "item_id": 22139,
         "item_category_id": 38,
         "_deepnote_index_column": 22139
        },
        {
         "item_name": "Я, РОБОТ (BD)",
         "item_id": 22140,
         "item_category_id": 37,
         "_deepnote_index_column": 22140
        },
        {
         "item_name": "Я, СНОВА Я И МАМА",
         "item_id": 22141,
         "item_category_id": 40,
         "_deepnote_index_column": 22141
        },
        {
         "item_name": "Я, СНОВА Я И МАМА (BD)",
         "item_id": 22142,
         "item_category_id": 37,
         "_deepnote_index_column": 22142
        },
        {
         "item_name": "Я, ФРАНКЕНШТЕЙН",
         "item_id": 22143,
         "item_category_id": 40,
         "_deepnote_index_column": 22143
        },
        {
         "item_name": "Я, ФРАНКЕНШТЕЙН (3D BD)",
         "item_id": 22144,
         "item_category_id": 38,
         "_deepnote_index_column": 22144
        },
        {
         "item_name": "Я, ФРАНКЕНШТЕЙН (BD)",
         "item_id": 22145,
         "item_category_id": 37,
         "_deepnote_index_column": 22145
        },
        {
         "item_name": "Я-ЛЕГЕНДА WB (BD)",
         "item_id": 22146,
         "item_category_id": 37,
         "_deepnote_index_column": 22146
        },
        {
         "item_name": "Я-ЛЕГЕНДА WB (регион)",
         "item_id": 22147,
         "item_category_id": 40,
         "_deepnote_index_column": 22147
        },
        {
         "item_name": "Я-ЧЕТВЕРТЫЙ  WD",
         "item_id": 22148,
         "item_category_id": 40,
         "_deepnote_index_column": 22148
        },
        {
         "item_name": "Я-ЧЕТВЕРТЫЙ  WD (регион)",
         "item_id": 22149,
         "item_category_id": 40,
         "_deepnote_index_column": 22149
        },
        {
         "item_name": "Я-ЧЕТВЕРТЫЙ (BD)",
         "item_id": 22150,
         "item_category_id": 37,
         "_deepnote_index_column": 22150
        },
        {
         "item_name": "ЯВЛЕНИЕ (2012)",
         "item_id": 22151,
         "item_category_id": 40,
         "_deepnote_index_column": 22151
        },
        {
         "item_name": "ЯВЛЕНИЕ (2012) (регион)",
         "item_id": 22152,
         "item_category_id": 40,
         "_deepnote_index_column": 22152
        },
        {
         "item_name": "ЯВЛЕНИЕ (BD)",
         "item_id": 22153,
         "item_category_id": 37,
         "_deepnote_index_column": 22153
        },
        {
         "item_name": "ЯВЛЕНИЕ 2012 (BD)",
         "item_id": 22154,
         "item_category_id": 37,
         "_deepnote_index_column": 22154
        },
        {
         "item_name": "ЯДЫ, ИЛИ ВСЕМИРНАЯ ИСТОРИЯ ОТРАВЛЕНИЙ (BD)",
         "item_id": 22155,
         "item_category_id": 37,
         "_deepnote_index_column": 22155
        },
        {
         "item_name": "ЯДЫ, ИЛИ ВСЕМИРНАЯ ИСТОРИЯ ОТРАВЛЕНИЙ (регион)",
         "item_id": 22156,
         "item_category_id": 40,
         "_deepnote_index_column": 22156
        },
        {
         "item_name": "ЯЛТА 45",
         "item_id": 22157,
         "item_category_id": 40,
         "_deepnote_index_column": 22157
        },
        {
         "item_name": "ЯМА (rem)",
         "item_id": 22158,
         "item_category_id": 40,
         "_deepnote_index_column": 22158
        },
        {
         "item_name": "ЯНКОВСКИЙ",
         "item_id": 22159,
         "item_category_id": 40,
         "_deepnote_index_column": 22159
        },
        {
         "item_name": "ЯРМАРКА ТЩЕСЛАВИЯ (Регион)",
         "item_id": 22160,
         "item_category_id": 40,
         "_deepnote_index_column": 22160
        },
        {
         "item_name": "ЯРОСЛАВ. ТЫСЯЧУ ЛЕТ НАЗАД э (BD)",
         "item_id": 22161,
         "item_category_id": 37,
         "_deepnote_index_column": 22161
        },
        {
         "item_name": "ЯРОСТЬ",
         "item_id": 22162,
         "item_category_id": 40,
         "_deepnote_index_column": 22162
        },
        {
         "item_name": "ЯРОСТЬ ( регион)",
         "item_id": 22163,
         "item_category_id": 40,
         "_deepnote_index_column": 22163
        },
        {
         "item_name": "ЯРОСТЬ (BD)",
         "item_id": 22164,
         "item_category_id": 37,
         "_deepnote_index_column": 22164
        },
        {
         "item_name": "Ядерный титбит 2 [PC, Цифровая версия]",
         "item_id": 22165,
         "item_category_id": 31,
         "_deepnote_index_column": 22165
        },
        {
         "item_name": "Язык запросов 1С:Предприятия  [Цифровая версия]",
         "item_id": 22166,
         "item_category_id": 54,
         "_deepnote_index_column": 22166
        },
        {
         "item_name": "Язык запросов 1С:Предприятия 8 (+CD). Хрусталева Е.Ю.",
         "item_id": 22167,
         "item_category_id": 49,
         "_deepnote_index_column": 22167
        },
        {
         "item_name": "Яйцо для Little Inu",
         "item_id": 22168,
         "item_category_id": 62,
         "_deepnote_index_column": 22168
        },
        {
         "item_name": "Яйцо дракона (Игра престолов)",
         "item_id": 22169,
         "item_category_id": 69,
         "_deepnote_index_column": 22169
        }
       ]
      },
      "text/plain": "                                               item_name  item_id  \\\n0              ! ВО ВЛАСТИ НАВАЖДЕНИЯ (ПЛАСТ.)         D        0   \n1      !ABBYY FineReader 12 Professional Edition Full...        1   \n2          ***В ЛУЧАХ СЛАВЫ   (UNV)                    D        2   \n3        ***ГОЛУБАЯ ВОЛНА  (Univ)                      D        3   \n4            ***КОРОБКА (СТЕКЛО)                       D        4   \n...                                                  ...      ...   \n22165             Ядерный титбит 2 [PC, Цифровая версия]    22165   \n22166    Язык запросов 1С:Предприятия  [Цифровая версия]    22166   \n22167  Язык запросов 1С:Предприятия 8 (+CD). Хрустале...    22167   \n22168                                Яйцо для Little Inu    22168   \n22169                      Яйцо дракона (Игра престолов)    22169   \n\n       item_category_id  \n0                    40  \n1                    76  \n2                    40  \n3                    40  \n4                    40  \n...                 ...  \n22165                31  \n22166                54  \n22167                49  \n22168                62  \n22169                69  \n\n[22170 rows x 3 columns]",
      "text/html": "<div>\n<style scoped>\n    .dataframe tbody tr th:only-of-type {\n        vertical-align: middle;\n    }\n\n    .dataframe tbody tr th {\n        vertical-align: top;\n    }\n\n    .dataframe thead th {\n        text-align: right;\n    }\n</style>\n<table border=\"1\" class=\"dataframe\">\n  <thead>\n    <tr style=\"text-align: right;\">\n      <th></th>\n      <th>item_name</th>\n      <th>item_id</th>\n      <th>item_category_id</th>\n    </tr>\n  </thead>\n  <tbody>\n    <tr>\n      <th>0</th>\n      <td>! ВО ВЛАСТИ НАВАЖДЕНИЯ (ПЛАСТ.)         D</td>\n      <td>0</td>\n      <td>40</td>\n    </tr>\n    <tr>\n      <th>1</th>\n      <td>!ABBYY FineReader 12 Professional Edition Full...</td>\n      <td>1</td>\n      <td>76</td>\n    </tr>\n    <tr>\n      <th>2</th>\n      <td>***В ЛУЧАХ СЛАВЫ   (UNV)                    D</td>\n      <td>2</td>\n      <td>40</td>\n    </tr>\n    <tr>\n      <th>3</th>\n      <td>***ГОЛУБАЯ ВОЛНА  (Univ)                      D</td>\n      <td>3</td>\n      <td>40</td>\n    </tr>\n    <tr>\n      <th>4</th>\n      <td>***КОРОБКА (СТЕКЛО)                       D</td>\n      <td>4</td>\n      <td>40</td>\n    </tr>\n    <tr>\n      <th>...</th>\n      <td>...</td>\n      <td>...</td>\n      <td>...</td>\n    </tr>\n    <tr>\n      <th>22165</th>\n      <td>Ядерный титбит 2 [PC, Цифровая версия]</td>\n      <td>22165</td>\n      <td>31</td>\n    </tr>\n    <tr>\n      <th>22166</th>\n      <td>Язык запросов 1С:Предприятия  [Цифровая версия]</td>\n      <td>22166</td>\n      <td>54</td>\n    </tr>\n    <tr>\n      <th>22167</th>\n      <td>Язык запросов 1С:Предприятия 8 (+CD). Хрустале...</td>\n      <td>22167</td>\n      <td>49</td>\n    </tr>\n    <tr>\n      <th>22168</th>\n      <td>Яйцо для Little Inu</td>\n      <td>22168</td>\n      <td>62</td>\n    </tr>\n    <tr>\n      <th>22169</th>\n      <td>Яйцо дракона (Игра престолов)</td>\n      <td>22169</td>\n      <td>69</td>\n    </tr>\n  </tbody>\n</table>\n<p>22170 rows × 3 columns</p>\n</div>"
     },
     "metadata": {}
    }
   ],
   "execution_count": 22
  },
  {
   "cell_type": "code",
   "source": "df_item_categ",
   "metadata": {
    "tags": [],
    "cell_id": "00014-ebc03f0a-cc44-4692-b69f-73c7303fc25e",
    "deepnote_to_be_reexecuted": false,
    "source_hash": "5ee475d7",
    "execution_start": 1620652189979,
    "execution_millis": 13,
    "deepnote_cell_type": "code"
   },
   "outputs": [
    {
     "output_type": "execute_result",
     "execution_count": 23,
     "data": {
      "application/vnd.deepnote.dataframe.v2+json": {
       "row_count": 84,
       "column_count": 2,
       "columns": [
        {
         "name": "item_category_name",
         "dtype": "object",
         "stats": {
          "unique_count": 84,
          "nan_count": 0,
          "categories": [
           {
            "name": "PC - Гарнитуры/Наушники",
            "count": 1
           },
           {
            "name": "Аксессуары - PS2",
            "count": 1
           },
           {
            "name": "82 others",
            "count": 82
           }
          ]
         }
        },
        {
         "name": "item_category_id",
         "dtype": "int64",
         "stats": {
          "unique_count": 84,
          "nan_count": 0,
          "min": "0",
          "max": "83",
          "histogram": [
           {
            "bin_start": 0,
            "bin_end": 8.3,
            "count": 9
           },
           {
            "bin_start": 8.3,
            "bin_end": 16.6,
            "count": 8
           },
           {
            "bin_start": 16.6,
            "bin_end": 24.900000000000002,
            "count": 8
           },
           {
            "bin_start": 24.900000000000002,
            "bin_end": 33.2,
            "count": 9
           },
           {
            "bin_start": 33.2,
            "bin_end": 41.5,
            "count": 8
           },
           {
            "bin_start": 41.5,
            "bin_end": 49.800000000000004,
            "count": 8
           },
           {
            "bin_start": 49.800000000000004,
            "bin_end": 58.10000000000001,
            "count": 9
           },
           {
            "bin_start": 58.10000000000001,
            "bin_end": 66.4,
            "count": 8
           },
           {
            "bin_start": 66.4,
            "bin_end": 74.7,
            "count": 8
           },
           {
            "bin_start": 74.7,
            "bin_end": 83,
            "count": 9
           }
          ]
         }
        },
        {
         "name": "_deepnote_index_column",
         "dtype": "int64"
        }
       ],
       "rows_top": [
        {
         "item_category_name": "PC - Гарнитуры/Наушники",
         "item_category_id": 0,
         "_deepnote_index_column": 0
        },
        {
         "item_category_name": "Аксессуары - PS2",
         "item_category_id": 1,
         "_deepnote_index_column": 1
        },
        {
         "item_category_name": "Аксессуары - PS3",
         "item_category_id": 2,
         "_deepnote_index_column": 2
        },
        {
         "item_category_name": "Аксессуары - PS4",
         "item_category_id": 3,
         "_deepnote_index_column": 3
        },
        {
         "item_category_name": "Аксессуары - PSP",
         "item_category_id": 4,
         "_deepnote_index_column": 4
        },
        {
         "item_category_name": "Аксессуары - PSVita",
         "item_category_id": 5,
         "_deepnote_index_column": 5
        },
        {
         "item_category_name": "Аксессуары - XBOX 360",
         "item_category_id": 6,
         "_deepnote_index_column": 6
        },
        {
         "item_category_name": "Аксессуары - XBOX ONE",
         "item_category_id": 7,
         "_deepnote_index_column": 7
        },
        {
         "item_category_name": "Билеты (Цифра)",
         "item_category_id": 8,
         "_deepnote_index_column": 8
        },
        {
         "item_category_name": "Доставка товара",
         "item_category_id": 9,
         "_deepnote_index_column": 9
        },
        {
         "item_category_name": "Игровые консоли - PS2",
         "item_category_id": 10,
         "_deepnote_index_column": 10
        },
        {
         "item_category_name": "Игровые консоли - PS3",
         "item_category_id": 11,
         "_deepnote_index_column": 11
        },
        {
         "item_category_name": "Игровые консоли - PS4",
         "item_category_id": 12,
         "_deepnote_index_column": 12
        },
        {
         "item_category_name": "Игровые консоли - PSP",
         "item_category_id": 13,
         "_deepnote_index_column": 13
        },
        {
         "item_category_name": "Игровые консоли - PSVita",
         "item_category_id": 14,
         "_deepnote_index_column": 14
        },
        {
         "item_category_name": "Игровые консоли - XBOX 360",
         "item_category_id": 15,
         "_deepnote_index_column": 15
        },
        {
         "item_category_name": "Игровые консоли - XBOX ONE",
         "item_category_id": 16,
         "_deepnote_index_column": 16
        },
        {
         "item_category_name": "Игровые консоли - Прочие",
         "item_category_id": 17,
         "_deepnote_index_column": 17
        },
        {
         "item_category_name": "Игры - PS2",
         "item_category_id": 18,
         "_deepnote_index_column": 18
        },
        {
         "item_category_name": "Игры - PS3",
         "item_category_id": 19,
         "_deepnote_index_column": 19
        },
        {
         "item_category_name": "Игры - PS4",
         "item_category_id": 20,
         "_deepnote_index_column": 20
        },
        {
         "item_category_name": "Игры - PSP",
         "item_category_id": 21,
         "_deepnote_index_column": 21
        },
        {
         "item_category_name": "Игры - PSVita",
         "item_category_id": 22,
         "_deepnote_index_column": 22
        },
        {
         "item_category_name": "Игры - XBOX 360",
         "item_category_id": 23,
         "_deepnote_index_column": 23
        },
        {
         "item_category_name": "Игры - XBOX ONE",
         "item_category_id": 24,
         "_deepnote_index_column": 24
        },
        {
         "item_category_name": "Игры - Аксессуары для игр",
         "item_category_id": 25,
         "_deepnote_index_column": 25
        },
        {
         "item_category_name": "Игры Android - Цифра",
         "item_category_id": 26,
         "_deepnote_index_column": 26
        },
        {
         "item_category_name": "Игры MAC - Цифра",
         "item_category_id": 27,
         "_deepnote_index_column": 27
        },
        {
         "item_category_name": "Игры PC - Дополнительные издания",
         "item_category_id": 28,
         "_deepnote_index_column": 28
        },
        {
         "item_category_name": "Игры PC - Коллекционные издания",
         "item_category_id": 29,
         "_deepnote_index_column": 29
        },
        {
         "item_category_name": "Игры PC - Стандартные издания",
         "item_category_id": 30,
         "_deepnote_index_column": 30
        },
        {
         "item_category_name": "Игры PC - Цифра",
         "item_category_id": 31,
         "_deepnote_index_column": 31
        },
        {
         "item_category_name": "Карты оплаты (Кино, Музыка, Игры)",
         "item_category_id": 32,
         "_deepnote_index_column": 32
        },
        {
         "item_category_name": "Карты оплаты - Live!",
         "item_category_id": 33,
         "_deepnote_index_column": 33
        },
        {
         "item_category_name": "Карты оплаты - Live! (Цифра)",
         "item_category_id": 34,
         "_deepnote_index_column": 34
        },
        {
         "item_category_name": "Карты оплаты - PSN",
         "item_category_id": 35,
         "_deepnote_index_column": 35
        },
        {
         "item_category_name": "Карты оплаты - Windows (Цифра)",
         "item_category_id": 36,
         "_deepnote_index_column": 36
        },
        {
         "item_category_name": "Кино - Blu-Ray",
         "item_category_id": 37,
         "_deepnote_index_column": 37
        },
        {
         "item_category_name": "Кино - Blu-Ray 3D",
         "item_category_id": 38,
         "_deepnote_index_column": 38
        },
        {
         "item_category_name": "Кино - Blu-Ray 4K",
         "item_category_id": 39,
         "_deepnote_index_column": 39
        },
        {
         "item_category_name": "Кино - DVD",
         "item_category_id": 40,
         "_deepnote_index_column": 40
        },
        {
         "item_category_name": "Кино - Коллекционное",
         "item_category_id": 41,
         "_deepnote_index_column": 41
        },
        {
         "item_category_name": "Книги - Артбуки, энциклопедии",
         "item_category_id": 42,
         "_deepnote_index_column": 42
        },
        {
         "item_category_name": "Книги - Аудиокниги",
         "item_category_id": 43,
         "_deepnote_index_column": 43
        },
        {
         "item_category_name": "Книги - Аудиокниги (Цифра)",
         "item_category_id": 44,
         "_deepnote_index_column": 44
        },
        {
         "item_category_name": "Книги - Аудиокниги 1С",
         "item_category_id": 45,
         "_deepnote_index_column": 45
        },
        {
         "item_category_name": "Книги - Бизнес литература",
         "item_category_id": 46,
         "_deepnote_index_column": 46
        },
        {
         "item_category_name": "Книги - Комиксы, манга",
         "item_category_id": 47,
         "_deepnote_index_column": 47
        },
        {
         "item_category_name": "Книги - Компьютерная литература",
         "item_category_id": 48,
         "_deepnote_index_column": 48
        },
        {
         "item_category_name": "Книги - Методические материалы 1С",
         "item_category_id": 49,
         "_deepnote_index_column": 49
        },
        {
         "item_category_name": "Книги - Открытки",
         "item_category_id": 50,
         "_deepnote_index_column": 50
        },
        {
         "item_category_name": "Книги - Познавательная литература",
         "item_category_id": 51,
         "_deepnote_index_column": 51
        },
        {
         "item_category_name": "Книги - Путеводители",
         "item_category_id": 52,
         "_deepnote_index_column": 52
        },
        {
         "item_category_name": "Книги - Художественная литература",
         "item_category_id": 53,
         "_deepnote_index_column": 53
        },
        {
         "item_category_name": "Книги - Цифра",
         "item_category_id": 54,
         "_deepnote_index_column": 54
        },
        {
         "item_category_name": "Музыка - CD локального производства",
         "item_category_id": 55,
         "_deepnote_index_column": 55
        },
        {
         "item_category_name": "Музыка - CD фирменного производства",
         "item_category_id": 56,
         "_deepnote_index_column": 56
        },
        {
         "item_category_name": "Музыка - MP3",
         "item_category_id": 57,
         "_deepnote_index_column": 57
        },
        {
         "item_category_name": "Музыка - Винил",
         "item_category_id": 58,
         "_deepnote_index_column": 58
        },
        {
         "item_category_name": "Музыка - Музыкальное видео",
         "item_category_id": 59,
         "_deepnote_index_column": 59
        },
        {
         "item_category_name": "Музыка - Подарочные издания",
         "item_category_id": 60,
         "_deepnote_index_column": 60
        },
        {
         "item_category_name": "Подарки - Атрибутика",
         "item_category_id": 61,
         "_deepnote_index_column": 61
        },
        {
         "item_category_name": "Подарки - Гаджеты, роботы, спорт",
         "item_category_id": 62,
         "_deepnote_index_column": 62
        },
        {
         "item_category_name": "Подарки - Мягкие игрушки",
         "item_category_id": 63,
         "_deepnote_index_column": 63
        },
        {
         "item_category_name": "Подарки - Настольные игры",
         "item_category_id": 64,
         "_deepnote_index_column": 64
        },
        {
         "item_category_name": "Подарки - Настольные игры (компактные)",
         "item_category_id": 65,
         "_deepnote_index_column": 65
        },
        {
         "item_category_name": "Подарки - Открытки, наклейки",
         "item_category_id": 66,
         "_deepnote_index_column": 66
        },
        {
         "item_category_name": "Подарки - Развитие",
         "item_category_id": 67,
         "_deepnote_index_column": 67
        },
        {
         "item_category_name": "Подарки - Сертификаты, услуги",
         "item_category_id": 68,
         "_deepnote_index_column": 68
        },
        {
         "item_category_name": "Подарки - Сувениры",
         "item_category_id": 69,
         "_deepnote_index_column": 69
        },
        {
         "item_category_name": "Подарки - Сувениры (в навеску)",
         "item_category_id": 70,
         "_deepnote_index_column": 70
        },
        {
         "item_category_name": "Подарки - Сумки, Альбомы, Коврики д/мыши",
         "item_category_id": 71,
         "_deepnote_index_column": 71
        },
        {
         "item_category_name": "Подарки - Фигурки",
         "item_category_id": 72,
         "_deepnote_index_column": 72
        },
        {
         "item_category_name": "Программы - 1С:Предприятие 8",
         "item_category_id": 73,
         "_deepnote_index_column": 73
        },
        {
         "item_category_name": "Программы - MAC (Цифра)",
         "item_category_id": 74,
         "_deepnote_index_column": 74
        },
        {
         "item_category_name": "Программы - Для дома и офиса",
         "item_category_id": 75,
         "_deepnote_index_column": 75
        },
        {
         "item_category_name": "Программы - Для дома и офиса (Цифра)",
         "item_category_id": 76,
         "_deepnote_index_column": 76
        },
        {
         "item_category_name": "Программы - Обучающие",
         "item_category_id": 77,
         "_deepnote_index_column": 77
        },
        {
         "item_category_name": "Программы - Обучающие (Цифра)",
         "item_category_id": 78,
         "_deepnote_index_column": 78
        },
        {
         "item_category_name": "Служебные",
         "item_category_id": 79,
         "_deepnote_index_column": 79
        },
        {
         "item_category_name": "Служебные - Билеты",
         "item_category_id": 80,
         "_deepnote_index_column": 80
        },
        {
         "item_category_name": "Чистые носители (шпиль)",
         "item_category_id": 81,
         "_deepnote_index_column": 81
        },
        {
         "item_category_name": "Чистые носители (штучные)",
         "item_category_id": 82,
         "_deepnote_index_column": 82
        },
        {
         "item_category_name": "Элементы питания",
         "item_category_id": 83,
         "_deepnote_index_column": 83
        }
       ],
       "rows_bottom": null
      },
      "text/plain": "           item_category_name  item_category_id\n0     PC - Гарнитуры/Наушники                 0\n1            Аксессуары - PS2                 1\n2            Аксессуары - PS3                 2\n3            Аксессуары - PS4                 3\n4            Аксессуары - PSP                 4\n..                        ...               ...\n79                  Служебные                79\n80         Служебные - Билеты                80\n81    Чистые носители (шпиль)                81\n82  Чистые носители (штучные)                82\n83           Элементы питания                83\n\n[84 rows x 2 columns]",
      "text/html": "<div>\n<style scoped>\n    .dataframe tbody tr th:only-of-type {\n        vertical-align: middle;\n    }\n\n    .dataframe tbody tr th {\n        vertical-align: top;\n    }\n\n    .dataframe thead th {\n        text-align: right;\n    }\n</style>\n<table border=\"1\" class=\"dataframe\">\n  <thead>\n    <tr style=\"text-align: right;\">\n      <th></th>\n      <th>item_category_name</th>\n      <th>item_category_id</th>\n    </tr>\n  </thead>\n  <tbody>\n    <tr>\n      <th>0</th>\n      <td>PC - Гарнитуры/Наушники</td>\n      <td>0</td>\n    </tr>\n    <tr>\n      <th>1</th>\n      <td>Аксессуары - PS2</td>\n      <td>1</td>\n    </tr>\n    <tr>\n      <th>2</th>\n      <td>Аксессуары - PS3</td>\n      <td>2</td>\n    </tr>\n    <tr>\n      <th>3</th>\n      <td>Аксессуары - PS4</td>\n      <td>3</td>\n    </tr>\n    <tr>\n      <th>4</th>\n      <td>Аксессуары - PSP</td>\n      <td>4</td>\n    </tr>\n    <tr>\n      <th>...</th>\n      <td>...</td>\n      <td>...</td>\n    </tr>\n    <tr>\n      <th>79</th>\n      <td>Служебные</td>\n      <td>79</td>\n    </tr>\n    <tr>\n      <th>80</th>\n      <td>Служебные - Билеты</td>\n      <td>80</td>\n    </tr>\n    <tr>\n      <th>81</th>\n      <td>Чистые носители (шпиль)</td>\n      <td>81</td>\n    </tr>\n    <tr>\n      <th>82</th>\n      <td>Чистые носители (штучные)</td>\n      <td>82</td>\n    </tr>\n    <tr>\n      <th>83</th>\n      <td>Элементы питания</td>\n      <td>83</td>\n    </tr>\n  </tbody>\n</table>\n<p>84 rows × 2 columns</p>\n</div>"
     },
     "metadata": {}
    }
   ],
   "execution_count": 23
  },
  {
   "cell_type": "code",
   "source": "",
   "metadata": {
    "tags": [],
    "cell_id": "00015-b61935f4-fe6f-43ca-b8e8-e862f2d43e9a",
    "deepnote_cell_type": "code"
   },
   "outputs": [],
   "execution_count": null
  },
  {
   "cell_type": "code",
   "source": "",
   "metadata": {
    "tags": [],
    "cell_id": "00016-8dcf8a5c-af67-4282-af06-c329457d87b5",
    "deepnote_cell_type": "code"
   },
   "outputs": [],
   "execution_count": null
  },
  {
   "cell_type": "markdown",
   "source": "<a style='text-decoration:none;line-height:16px;display:flex;color:#5B5B62;padding:10px;justify-content:end;' href='https://deepnote.com?utm_source=created-in-deepnote-cell&projectId=796ba814-f632-4502-b0d7-7e2f8f9e546d' target=\"_blank\">\n<img alt='Created in deepnote.com' style='display:inline;max-height:16px;margin:0px;margin-right:7.5px;' src='data:image/svg+xml;base64,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' > </img>\nCreated in <span style='font-weight:600;margin-left:4px;'>Deepnote</span></a>",
   "metadata": {
    "tags": [],
    "created_in_deepnote_cell": true,
    "deepnote_cell_type": "markdown"
   }
  }
 ],
 "nbformat": 4,
 "nbformat_minor": 2,
 "metadata": {
  "orig_nbformat": 2,
  "deepnote": {
   "is_reactive": false
  },
  "deepnote_notebook_id": "f27c2445-9bf2-4bb1-88b4-c1ce09958451",
  "deepnote_execution_queue": []
 }
}