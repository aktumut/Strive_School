{
 "cells": [
  {
   "cell_type": "code",
   "metadata": {
    "tags": [],
    "deepnote_to_be_reexecuted": false,
    "source_hash": "fbbc4272",
    "execution_start": 1620732173754,
    "execution_millis": 952,
    "cell_id": "00000-9ee10c7d-4fb6-4d7a-a15c-f13ad64e3a73",
    "deepnote_cell_type": "code"
   },
   "source": "import time\nfrom IPython.display import clear_output\nimport numpy    as np\nimport pandas   as pd\nimport seaborn  as sb\nimport matplotlib.pyplot as plt\nimport sklearn  as skl\n\nfrom sklearn import pipeline      # Pipeline\nfrom sklearn import preprocessing # OrdinalEncoder, LabelEncoder\nfrom sklearn import impute\nfrom sklearn import compose\nfrom sklearn import model_selection # train_test_split\nfrom sklearn import metrics         # accuracy_score, balanced_accuracy_score, plot_confusion_matrix\nfrom sklearn import set_config\nfrom sklearn.impute import KNNImputer\nfrom sklearn.preprocessing import PowerTransformer\nfrom sklearn.preprocessing import QuantileTransformer\n\nset_config(display='diagram') # Useful for display the pipeline\n\nprint(\"Pandas  \", pd.__version__)\nprint(\"Sklearn \", skl.__version__) # Try to use 0.24",
   "execution_count": 1,
   "outputs": [
    {
     "name": "stdout",
     "text": "Pandas   1.2.4\nSklearn  0.24.2\n",
     "output_type": "stream"
    }
   ]
  },
  {
   "cell_type": "markdown",
   "source": "### Importing Dataset",
   "metadata": {
    "tags": [],
    "cell_id": "00001-edd3f1f5-ecf4-4146-9e1f-755bc2d68587",
    "deepnote_cell_type": "markdown"
   }
  },
  {
   "cell_type": "code",
   "metadata": {
    "tags": [],
    "deepnote_to_be_reexecuted": false,
    "source_hash": "111a8ca0",
    "execution_start": 1620732174702,
    "execution_millis": 16,
    "cell_id": "00002-2bdd459d-6345-4cea-b859-385ad47ec94d",
    "deepnote_cell_type": "code"
   },
   "source": "CLOUD = False\n\nif CLOUD:\n    import os\n    os.environ['KAGGLE_USERNAME'] = \"umutakta\"\n    os.environ['KAGGLE_KEY']      = \"a471e5474add8d57cadac3cc5ff2b1d6\"  \n    !pip install --upgrade kaggle\n    !kaggle competitions download -c competitive-data-science-predict-future-sales\n    DATA_PATH = \"/work/Strive_School/Feature_Engineering_(Module_4)/Day_6_Feature_Selection/competitive-data-science-predict-future-sales/\"\n\nelse:\n    DATA_PATH = \"/work/competitive-data-science-predict-future-sales/\"\n\nDATA_PATH",
   "execution_count": 2,
   "outputs": [
    {
     "output_type": "execute_result",
     "execution_count": 2,
     "data": {
      "text/plain": "'/work/competitive-data-science-predict-future-sales/'"
     },
     "metadata": {}
    }
   ]
  },
  {
   "cell_type": "markdown",
   "source": "**Creating Data Frame**",
   "metadata": {
    "tags": [],
    "cell_id": "00003-93918899-0854-4ad2-8ea9-d86f444b7e8a",
    "deepnote_cell_type": "markdown"
   }
  },
  {
   "cell_type": "code",
   "metadata": {
    "tags": [],
    "deepnote_to_be_reexecuted": false,
    "source_hash": "bc6d4ea6",
    "execution_start": 1620732174714,
    "execution_millis": 1360,
    "cell_id": "00004-251205ac-1041-47b4-b05f-8450fa0a8c16",
    "deepnote_cell_type": "code"
   },
   "source": "df_item_categ=pd.read_csv(DATA_PATH+\"item_categories.csv\")\ndf_items=pd.read_csv(DATA_PATH+\"items.csv\")\ndf=pd.read_csv(DATA_PATH+\"sales_train.csv\")\ndf_sample=pd.read_csv(DATA_PATH+\"sample_submission.csv\")\ndf_shops=pd.read_csv(DATA_PATH+\"shops.csv\")\ndf_test=pd.read_csv(DATA_PATH+\"test.csv\")",
   "execution_count": 3,
   "outputs": []
  },
  {
   "cell_type": "code",
   "metadata": {
    "tags": [],
    "deepnote_to_be_reexecuted": false,
    "source_hash": "c085b6ba",
    "execution_start": 1620732176090,
    "execution_millis": 17,
    "cell_id": "00005-ac1db4d7-4f06-4b4f-8969-26b2a680fc31",
    "deepnote_cell_type": "code"
   },
   "source": "df.head()",
   "execution_count": 4,
   "outputs": [
    {
     "output_type": "execute_result",
     "execution_count": 4,
     "data": {
      "application/vnd.deepnote.dataframe.v2+json": {
       "row_count": 5,
       "column_count": 6,
       "columns": [
        {
         "name": "date",
         "dtype": "object",
         "stats": {
          "unique_count": 5,
          "nan_count": 0,
          "categories": [
           {
            "name": "02.01.2013",
            "count": 1
           },
           {
            "name": "03.01.2013",
            "count": 1
           },
           {
            "name": "3 others",
            "count": 3
           }
          ]
         }
        },
        {
         "name": "date_block_num",
         "dtype": "int64",
         "stats": {
          "unique_count": 1,
          "nan_count": 0,
          "min": "0",
          "max": "0",
          "histogram": [
           {
            "bin_start": -0.5,
            "bin_end": -0.4,
            "count": 0
           },
           {
            "bin_start": -0.4,
            "bin_end": -0.3,
            "count": 0
           },
           {
            "bin_start": -0.3,
            "bin_end": -0.19999999999999996,
            "count": 0
           },
           {
            "bin_start": -0.19999999999999996,
            "bin_end": -0.09999999999999998,
            "count": 0
           },
           {
            "bin_start": -0.09999999999999998,
            "bin_end": 0,
            "count": 0
           },
           {
            "bin_start": 0,
            "bin_end": 0.10000000000000009,
            "count": 5
           },
           {
            "bin_start": 0.10000000000000009,
            "bin_end": 0.20000000000000007,
            "count": 0
           },
           {
            "bin_start": 0.20000000000000007,
            "bin_end": 0.30000000000000004,
            "count": 0
           },
           {
            "bin_start": 0.30000000000000004,
            "bin_end": 0.4,
            "count": 0
           },
           {
            "bin_start": 0.4,
            "bin_end": 0.5,
            "count": 0
           }
          ]
         }
        },
        {
         "name": "shop_id",
         "dtype": "int64",
         "stats": {
          "unique_count": 2,
          "nan_count": 0,
          "min": "25",
          "max": "59",
          "histogram": [
           {
            "bin_start": 25,
            "bin_end": 28.4,
            "count": 4
           },
           {
            "bin_start": 28.4,
            "bin_end": 31.8,
            "count": 0
           },
           {
            "bin_start": 31.8,
            "bin_end": 35.2,
            "count": 0
           },
           {
            "bin_start": 35.2,
            "bin_end": 38.6,
            "count": 0
           },
           {
            "bin_start": 38.6,
            "bin_end": 42,
            "count": 0
           },
           {
            "bin_start": 42,
            "bin_end": 45.4,
            "count": 0
           },
           {
            "bin_start": 45.4,
            "bin_end": 48.8,
            "count": 0
           },
           {
            "bin_start": 48.8,
            "bin_end": 52.2,
            "count": 0
           },
           {
            "bin_start": 52.2,
            "bin_end": 55.599999999999994,
            "count": 0
           },
           {
            "bin_start": 55.599999999999994,
            "bin_end": 59,
            "count": 1
           }
          ]
         }
        },
        {
         "name": "item_id",
         "dtype": "int64",
         "stats": {
          "unique_count": 4,
          "nan_count": 0,
          "min": "2552",
          "max": "22154",
          "histogram": [
           {
            "bin_start": 2552,
            "bin_end": 4512.2,
            "count": 4
           },
           {
            "bin_start": 4512.2,
            "bin_end": 6472.4,
            "count": 0
           },
           {
            "bin_start": 6472.4,
            "bin_end": 8432.6,
            "count": 0
           },
           {
            "bin_start": 8432.6,
            "bin_end": 10392.8,
            "count": 0
           },
           {
            "bin_start": 10392.8,
            "bin_end": 12353,
            "count": 0
           },
           {
            "bin_start": 12353,
            "bin_end": 14313.2,
            "count": 0
           },
           {
            "bin_start": 14313.2,
            "bin_end": 16273.4,
            "count": 0
           },
           {
            "bin_start": 16273.4,
            "bin_end": 18233.6,
            "count": 0
           },
           {
            "bin_start": 18233.6,
            "bin_end": 20193.8,
            "count": 0
           },
           {
            "bin_start": 20193.8,
            "bin_end": 22154,
            "count": 1
           }
          ]
         }
        },
        {
         "name": "item_price",
         "dtype": "float64",
         "stats": {
          "unique_count": 4,
          "nan_count": 0,
          "min": "899.0",
          "max": "1709.05",
          "histogram": [
           {
            "bin_start": 899,
            "bin_end": 980.005,
            "count": 2
           },
           {
            "bin_start": 980.005,
            "bin_end": 1061.01,
            "count": 1
           },
           {
            "bin_start": 1061.01,
            "bin_end": 1142.0149999999999,
            "count": 1
           },
           {
            "bin_start": 1142.0149999999999,
            "bin_end": 1223.02,
            "count": 0
           },
           {
            "bin_start": 1223.02,
            "bin_end": 1304.025,
            "count": 0
           },
           {
            "bin_start": 1304.025,
            "bin_end": 1385.03,
            "count": 0
           },
           {
            "bin_start": 1385.03,
            "bin_end": 1466.0349999999999,
            "count": 0
           },
           {
            "bin_start": 1466.0349999999999,
            "bin_end": 1547.04,
            "count": 0
           },
           {
            "bin_start": 1547.04,
            "bin_end": 1628.045,
            "count": 0
           },
           {
            "bin_start": 1628.045,
            "bin_end": 1709.05,
            "count": 1
           }
          ]
         }
        },
        {
         "name": "item_cnt_day",
         "dtype": "float64",
         "stats": {
          "unique_count": 2,
          "nan_count": 0,
          "min": "-1.0",
          "max": "1.0",
          "histogram": [
           {
            "bin_start": -1,
            "bin_end": -0.8,
            "count": 1
           },
           {
            "bin_start": -0.8,
            "bin_end": -0.6,
            "count": 0
           },
           {
            "bin_start": -0.6,
            "bin_end": -0.3999999999999999,
            "count": 0
           },
           {
            "bin_start": -0.3999999999999999,
            "bin_end": -0.19999999999999996,
            "count": 0
           },
           {
            "bin_start": -0.19999999999999996,
            "bin_end": 0,
            "count": 0
           },
           {
            "bin_start": 0,
            "bin_end": 0.20000000000000018,
            "count": 0
           },
           {
            "bin_start": 0.20000000000000018,
            "bin_end": 0.40000000000000013,
            "count": 0
           },
           {
            "bin_start": 0.40000000000000013,
            "bin_end": 0.6000000000000001,
            "count": 0
           },
           {
            "bin_start": 0.6000000000000001,
            "bin_end": 0.8,
            "count": 0
           },
           {
            "bin_start": 0.8,
            "bin_end": 1,
            "count": 4
           }
          ]
         }
        },
        {
         "name": "_deepnote_index_column",
         "dtype": "int64"
        }
       ],
       "rows_top": [
        {
         "date": "02.01.2013",
         "date_block_num": 0,
         "shop_id": 59,
         "item_id": 22154,
         "item_price": 999,
         "item_cnt_day": 1,
         "_deepnote_index_column": 0
        },
        {
         "date": "03.01.2013",
         "date_block_num": 0,
         "shop_id": 25,
         "item_id": 2552,
         "item_price": 899,
         "item_cnt_day": 1,
         "_deepnote_index_column": 1
        },
        {
         "date": "05.01.2013",
         "date_block_num": 0,
         "shop_id": 25,
         "item_id": 2552,
         "item_price": 899,
         "item_cnt_day": -1,
         "_deepnote_index_column": 2
        },
        {
         "date": "06.01.2013",
         "date_block_num": 0,
         "shop_id": 25,
         "item_id": 2554,
         "item_price": 1709.05,
         "item_cnt_day": 1,
         "_deepnote_index_column": 3
        },
        {
         "date": "15.01.2013",
         "date_block_num": 0,
         "shop_id": 25,
         "item_id": 2555,
         "item_price": 1099,
         "item_cnt_day": 1,
         "_deepnote_index_column": 4
        }
       ],
       "rows_bottom": null
      },
      "text/plain": "         date  date_block_num  shop_id  item_id  item_price  item_cnt_day\n0  02.01.2013               0       59    22154      999.00           1.0\n1  03.01.2013               0       25     2552      899.00           1.0\n2  05.01.2013               0       25     2552      899.00          -1.0\n3  06.01.2013               0       25     2554     1709.05           1.0\n4  15.01.2013               0       25     2555     1099.00           1.0",
      "text/html": "<div>\n<style scoped>\n    .dataframe tbody tr th:only-of-type {\n        vertical-align: middle;\n    }\n\n    .dataframe tbody tr th {\n        vertical-align: top;\n    }\n\n    .dataframe thead th {\n        text-align: right;\n    }\n</style>\n<table border=\"1\" class=\"dataframe\">\n  <thead>\n    <tr style=\"text-align: right;\">\n      <th></th>\n      <th>date</th>\n      <th>date_block_num</th>\n      <th>shop_id</th>\n      <th>item_id</th>\n      <th>item_price</th>\n      <th>item_cnt_day</th>\n    </tr>\n  </thead>\n  <tbody>\n    <tr>\n      <th>0</th>\n      <td>02.01.2013</td>\n      <td>0</td>\n      <td>59</td>\n      <td>22154</td>\n      <td>999.00</td>\n      <td>1.0</td>\n    </tr>\n    <tr>\n      <th>1</th>\n      <td>03.01.2013</td>\n      <td>0</td>\n      <td>25</td>\n      <td>2552</td>\n      <td>899.00</td>\n      <td>1.0</td>\n    </tr>\n    <tr>\n      <th>2</th>\n      <td>05.01.2013</td>\n      <td>0</td>\n      <td>25</td>\n      <td>2552</td>\n      <td>899.00</td>\n      <td>-1.0</td>\n    </tr>\n    <tr>\n      <th>3</th>\n      <td>06.01.2013</td>\n      <td>0</td>\n      <td>25</td>\n      <td>2554</td>\n      <td>1709.05</td>\n      <td>1.0</td>\n    </tr>\n    <tr>\n      <th>4</th>\n      <td>15.01.2013</td>\n      <td>0</td>\n      <td>25</td>\n      <td>2555</td>\n      <td>1099.00</td>\n      <td>1.0</td>\n    </tr>\n  </tbody>\n</table>\n</div>"
     },
     "metadata": {}
    }
   ]
  },
  {
   "cell_type": "markdown",
   "source": "Turning date column to **date type**",
   "metadata": {
    "tags": [],
    "cell_id": "00006-a36c314d-cbdb-42ce-878d-11fafc7f53fe",
    "deepnote_cell_type": "markdown"
   }
  },
  {
   "cell_type": "code",
   "metadata": {
    "tags": [],
    "deepnote_to_be_reexecuted": false,
    "source_hash": "caa69966",
    "execution_start": 1620732176109,
    "execution_millis": 21343,
    "cell_id": "00007-b1a62260-db1f-42c2-832c-edf08cfa6c4b",
    "deepnote_cell_type": "code"
   },
   "source": "from datetime import datetime\n\ndf[\"date\"]=df['date'].apply(lambda x:datetime.strptime(x, '%d.%m.%Y'))\n",
   "execution_count": 5,
   "outputs": []
  },
  {
   "cell_type": "code",
   "metadata": {
    "tags": [],
    "cell_id": "00008-6e3770bc-9e13-4ce6-9be7-03bc544a0097",
    "deepnote_to_be_reexecuted": false,
    "source_hash": "b31fd813",
    "execution_start": 1620732197456,
    "execution_millis": 3,
    "deepnote_cell_type": "code"
   },
   "source": "\n",
   "execution_count": 5,
   "outputs": []
  },
  {
   "cell_type": "markdown",
   "source": "### Deleting Outliers",
   "metadata": {
    "tags": [],
    "cell_id": "00009-160bb83c-bb17-4a26-a34a-333c1a7ac0a2",
    "deepnote_cell_type": "markdown"
   }
  },
  {
   "cell_type": "markdown",
   "source": "**Item Count Day**",
   "metadata": {
    "tags": [],
    "cell_id": "00010-7c9acb54-6e66-4c4d-b263-f5485920276f",
    "deepnote_cell_type": "markdown"
   }
  },
  {
   "cell_type": "code",
   "metadata": {
    "tags": [],
    "cell_id": "00012-dd3e5c93-790a-4650-a073-cd9818f8cf6d",
    "deepnote_to_be_reexecuted": false,
    "source_hash": "7bc3d9b5",
    "execution_start": 1620732197465,
    "execution_millis": 165,
    "deepnote_cell_type": "code"
   },
   "source": "df=df.drop(df.loc[df.item_cnt_day<0].index.tolist())",
   "execution_count": 6,
   "outputs": []
  },
  {
   "cell_type": "code",
   "metadata": {
    "tags": [],
    "cell_id": "00008-15d678e2-5d02-424b-8e00-070206906cd2",
    "deepnote_to_be_reexecuted": false,
    "source_hash": "abbebe74",
    "execution_start": 1620732197673,
    "execution_millis": 692,
    "deepnote_cell_type": "code"
   },
   "source": "plt.figure(figsize=(16,1))\nsb.boxplot(x=df.item_cnt_day)",
   "execution_count": 7,
   "outputs": [
    {
     "output_type": "execute_result",
     "execution_count": 7,
     "data": {
      "text/plain": "<AxesSubplot:xlabel='item_cnt_day'>"
     },
     "metadata": {}
    },
    {
     "data": {
      "text/plain": "<Figure size 1152x72 with 1 Axes>",
      "image/png": "[encoded data removed]"
     },
     "metadata": {
      "needs_background": "light",
      "image/png": {
       "width": 910,
       "height": 100
      }
     },
     "output_type": "display_data"
    }
   ]
  },
  {
   "cell_type": "markdown",
   "source": "**Item Price**",
   "metadata": {
    "tags": [],
    "cell_id": "00013-48ad4af9-7091-46e3-b655-a2e29ec74fa0",
    "deepnote_cell_type": "markdown"
   }
  },
  {
   "cell_type": "code",
   "metadata": {
    "tags": [],
    "cell_id": "00014-6bcd558c-1fd4-4fbf-95cd-4cae55a62585",
    "deepnote_to_be_reexecuted": false,
    "source_hash": "8268b599",
    "execution_start": 1620732198368,
    "execution_millis": 1128,
    "deepnote_cell_type": "code"
   },
   "source": "for i in range(5):\n    df=df.drop(df.index[df.loc[df.item_price==df.item_price.max()].index[0]])",
   "execution_count": 8,
   "outputs": []
  },
  {
   "cell_type": "code",
   "metadata": {
    "tags": [],
    "cell_id": "00014-5d551c87-d1f2-4835-b46d-7d5451ea6d9f",
    "deepnote_to_be_reexecuted": false,
    "source_hash": "232699e5",
    "execution_start": 1620732199501,
    "execution_millis": 625,
    "deepnote_cell_type": "code"
   },
   "source": "plt.figure(figsize=(16,1))\nsb.boxplot(x=df.item_price)",
   "execution_count": 9,
   "outputs": [
    {
     "output_type": "execute_result",
     "execution_count": 9,
     "data": {
      "text/plain": "<AxesSubplot:xlabel='item_price'>"
     },
     "metadata": {}
    },
    {
     "data": {
      "text/plain": "<Figure size 1152x72 with 1 Axes>",
      "image/png": "[encoded data removed]"
     },
     "metadata": {
      "needs_background": "light",
      "image/png": {
       "width": 910,
       "height": 100
      }
     },
     "output_type": "display_data"
    }
   ]
  },
  {
   "cell_type": "markdown",
   "source": "#### Creating new data frame for only 2013,2014,2015",
   "metadata": {
    "tags": [],
    "cell_id": "00008-42325cf5-ac11-4606-ae70-01042fd80a93",
    "deepnote_cell_type": "markdown"
   }
  },
  {
   "cell_type": "code",
   "metadata": {
    "tags": [],
    "deepnote_to_be_reexecuted": false,
    "source_hash": "540e2377",
    "execution_start": 1620732200129,
    "execution_millis": 130,
    "cell_id": "00009-ddb2a81e-6562-4a74-91b1-49776d4631ee",
    "deepnote_cell_type": "code"
   },
   "source": "df_2013=df[(df.date<\"01-01-2014\") & (\"31-12-2012\"<df.date)]\ndf_2014=df[(df.date<\"01-01-2015\") & (\"31-12-2013\"<df.date)]\ndf_2015=df[(df.date<\"01-01-2016\") & (\"31-12-2014\"<df.date)]",
   "execution_count": 10,
   "outputs": []
  },
  {
   "cell_type": "markdown",
   "source": "** Grouping monthly sales **",
   "metadata": {
    "tags": [],
    "cell_id": "00018-14b9d106-c913-4e66-afd2-507cb1fde9cf",
    "deepnote_cell_type": "markdown"
   }
  },
  {
   "cell_type": "code",
   "source": "df_2013['total_income_13']=df_2013.item_price*df_2013.item_cnt_day\ndf13_total=df_2013.groupby(['date_block_num']).sum()\n\ndf_2014['total_income_14']=df_2014.item_price*df_2014.item_cnt_day\ndf14_total=df_2014.groupby(['date_block_num']).sum()\n\ndf_2015['total_income_15']=df_2015.item_price*df_2015.item_cnt_day\ndf15_total=df_2015.groupby(['date_block_num']).sum()",
   "metadata": {
    "tags": [],
    "cell_id": "00018-1811a597-3c24-4e5f-9503-fe4e57068a02",
    "deepnote_to_be_reexecuted": false,
    "source_hash": "61754554",
    "execution_start": 1620732200318,
    "execution_millis": 193,
    "deepnote_cell_type": "code"
   },
   "outputs": [
    {
     "name": "stderr",
     "text": "/shared-libs/python3.7/py-core/lib/python3.7/site-packages/ipykernel_launcher.py:1: SettingWithCopyWarning: \nA value is trying to be set on a copy of a slice from a DataFrame.\nTry using .loc[row_indexer,col_indexer] = value instead\n\nSee the caveats in the documentation: https://pandas.pydata.org/pandas-docs/stable/user_guide/indexing.html#returning-a-view-versus-a-copy\n  \"\"\"Entry point for launching an IPython kernel.\n/shared-libs/python3.7/py-core/lib/python3.7/site-packages/ipykernel_launcher.py:4: SettingWithCopyWarning: \nA value is trying to be set on a copy of a slice from a DataFrame.\nTry using .loc[row_indexer,col_indexer] = value instead\n\nSee the caveats in the documentation: https://pandas.pydata.org/pandas-docs/stable/user_guide/indexing.html#returning-a-view-versus-a-copy\n  after removing the cwd from sys.path.\n/shared-libs/python3.7/py-core/lib/python3.7/site-packages/ipykernel_launcher.py:7: SettingWithCopyWarning: \nA value is trying to be set on a copy of a slice from a DataFrame.\nTry using .loc[row_indexer,col_indexer] = value instead\n\nSee the caveats in the documentation: https://pandas.pydata.org/pandas-docs/stable/user_guide/indexing.html#returning-a-view-versus-a-copy\n  import sys\n",
     "output_type": "stream"
    }
   ],
   "execution_count": 11
  },
  {
   "cell_type": "markdown",
   "source": "** Plot by total income for 2013 and 2014**",
   "metadata": {
    "tags": [],
    "cell_id": "00019-14a817ac-8ff9-4555-bd5e-d698a77923ea",
    "deepnote_cell_type": "markdown"
   }
  },
  {
   "cell_type": "code",
   "source": "plt.subplots(figsize=(15,8))\n\nplt.plot([],[],color='m', label='Total Income 2013', linewidth=5)\nplt.plot([],[],color='c', label='Total Income 2014', linewidth=5)\n\nplt.stackplot(df13_total.index, df13_total.total_income_13, df14_total.total_income_14,colors=['m','c'])\n\nplt.xlabel('Month Number')\nplt.ylabel('Total Income')\nplt.title('Total Income 2013 - 2014')\nplt.legend(loc='upper left')\nplt.show()",
   "metadata": {
    "tags": [],
    "cell_id": "00022-510273ee-1f96-479b-a76d-3080cf528a68",
    "deepnote_to_be_reexecuted": false,
    "source_hash": "42a89598",
    "execution_start": 1620732200507,
    "execution_millis": 150,
    "deepnote_cell_type": "code"
   },
   "outputs": [
    {
     "data": {
      "text/plain": "<Figure size 1080x576 with 1 Axes>",
      "image/png": "[encoded data removed]"
     },
     "metadata": {
      "needs_background": "light",
      "image/png": {
       "width": 878,
       "height": 496
      }
     },
     "output_type": "display_data"
    }
   ],
   "execution_count": 12
  },
  {
   "cell_type": "markdown",
   "source": "** Total Income Plotting Until October in 2013,2014 and 2015 **",
   "metadata": {
    "tags": [],
    "cell_id": "00022-15e87047-d005-4715-bd7f-329ae8ffee2b",
    "deepnote_cell_type": "markdown"
   }
  },
  {
   "cell_type": "code",
   "source": "plt.subplots(figsize=(15,8))\n\nplt.plot([],[],color='k', label='Total Income 2013', linewidth=5)\nplt.plot([],[],color='g', label='Total Income 2014', linewidth=5)\nplt.plot([],[],color='r', label='Total Income 2015', linewidth=5)\n\nplt.stackplot(df13_total.index[:10], df13_total.loc[:9].total_income_13, \n    df14_total.loc[:21].total_income_14,df15_total.total_income_15,colors=['k','g',\"r\"])\n\nplt.xlabel('Month Number')\nplt.ylabel('Total Income')\nplt.title('Total Income 2013 - 2014')\nplt.legend(loc='upper left')\nplt.show()",
   "metadata": {
    "tags": [],
    "cell_id": "00024-8bedac8e-6dca-4bd5-bfef-dc43249b084d",
    "deepnote_to_be_reexecuted": false,
    "source_hash": "d34b3e38",
    "execution_start": 1620733776265,
    "execution_millis": 475,
    "deepnote_cell_type": "code"
   },
   "outputs": [
    {
     "data": {
      "text/plain": "<Figure size 1080x576 with 1 Axes>",
      "image/png": "[encoded data removed]"
     },
     "metadata": {
      "needs_background": "light",
      "image/png": {
       "width": 888,
       "height": 496
      }
     },
     "output_type": "display_data"
    }
   ],
   "execution_count": 51
  },
  {
   "cell_type": "markdown",
   "source": "#### Interesting with shop id",
   "metadata": {
    "tags": [],
    "cell_id": "00024-55155bf6-2f0d-4cf1-a05c-a32e23f09627",
    "deepnote_cell_type": "markdown"
   }
  },
  {
   "cell_type": "markdown",
   "source": "Finding different shops between years",
   "metadata": {
    "tags": [],
    "cell_id": "00025-fb6e5ace-6bf1-4e1b-95d4-d3ab9a74f14b",
    "deepnote_cell_type": "markdown"
   }
  },
  {
   "cell_type": "code",
   "source": "set_difference_13_14 = set(df_2013.shop_id.unique()) - set(df_2014.shop_id.unique())\nlist_difference_13_14 = list(set_difference_13_14)\nlist_difference_13_14",
   "metadata": {
    "tags": [],
    "cell_id": "00024-6cf80839-0ba6-4c81-8efa-f4c5dfbf6556",
    "deepnote_to_be_reexecuted": false,
    "source_hash": "fe199518",
    "execution_start": 1620734343566,
    "execution_millis": 51,
    "deepnote_cell_type": "code"
   },
   "outputs": [
    {
     "output_type": "execute_result",
     "execution_count": 65,
     "data": {
      "text/plain": "[0, 1, 32, 8, 23]"
     },
     "metadata": {}
    }
   ],
   "execution_count": 65
  },
  {
   "cell_type": "code",
   "source": "set_difference_14_15 = set(df_2014.shop_id.unique()) - set(df_2015.shop_id.unique())\nlist_difference_14_15 = list(set_difference_14_15)\nlist_difference",
   "metadata": {
    "tags": [],
    "cell_id": "00025-481bbf65-c914-484b-aaba-7a401dbdb287",
    "deepnote_to_be_reexecuted": false,
    "source_hash": "26d3c0e",
    "execution_start": 1620734341659,
    "execution_millis": 28,
    "deepnote_cell_type": "code"
   },
   "outputs": [
    {
     "output_type": "execute_result",
     "execution_count": 64,
     "data": {
      "text/plain": "[13]"
     },
     "metadata": {}
    }
   ],
   "execution_count": 64
  },
  {
   "cell_type": "code",
   "metadata": {
    "tags": [],
    "cell_id": "00024-c15bc3c3-ba8c-47f7-82f9-63cc0eee9afb",
    "deepnote_to_be_reexecuted": false,
    "source_hash": "18b86687",
    "execution_start": 1620733883599,
    "execution_millis": 87,
    "deepnote_cell_type": "code"
   },
   "source": "df_2013.groupby([\"shop_id\"]).sum()",
   "execution_count": 53,
   "outputs": [
    {
     "output_type": "execute_result",
     "execution_count": 53,
     "data": {
      "application/vnd.deepnote.dataframe.v2+json": {
       "row_count": 52,
       "column_count": 5,
       "columns": [
        {
         "name": "date_block_num",
         "dtype": "int64",
         "stats": {
          "unique_count": 52,
          "nan_count": 0,
          "min": "1936",
          "max": "549207",
          "histogram": [
           {
            "bin_start": 1936,
            "bin_end": 56663.1,
            "count": 11
           },
           {
            "bin_start": 56663.1,
            "bin_end": 111390.2,
            "count": 14
           },
           {
            "bin_start": 111390.2,
            "bin_end": 166117.3,
            "count": 16
           },
           {
            "bin_start": 166117.3,
            "bin_end": 220844.4,
            "count": 4
           },
           {
            "bin_start": 220844.4,
            "bin_end": 275571.5,
            "count": 2
           },
           {
            "bin_start": 275571.5,
            "bin_end": 330298.6,
            "count": 1
           },
           {
            "bin_start": 330298.6,
            "bin_end": 385025.7,
            "count": 1
           },
           {
            "bin_start": 385025.7,
            "bin_end": 439752.8,
            "count": 2
           },
           {
            "bin_start": 439752.8,
            "bin_end": 494479.89999999997,
            "count": 0
           },
           {
            "bin_start": 494479.89999999997,
            "bin_end": 549207,
            "count": 1
           }
          ]
         }
        },
        {
         "name": "item_id",
         "dtype": "int64",
         "stats": {
          "unique_count": 52,
          "nan_count": 0,
          "min": "1627701",
          "max": "1082996996",
          "histogram": [
           {
            "bin_start": 1627701,
            "bin_end": 109764630.5,
            "count": 13
           },
           {
            "bin_start": 109764630.5,
            "bin_end": 217901560,
            "count": 16
           },
           {
            "bin_start": 217901560,
            "bin_end": 326038489.5,
            "count": 13
           },
           {
            "bin_start": 326038489.5,
            "bin_end": 434175419,
            "count": 5
           },
           {
            "bin_start": 434175419,
            "bin_end": 542312348.5,
            "count": 0
           },
           {
            "bin_start": 542312348.5,
            "bin_end": 650449278,
            "count": 2
           },
           {
            "bin_start": 650449278,
            "bin_end": 758586207.5,
            "count": 0
           },
           {
            "bin_start": 758586207.5,
            "bin_end": 866723137,
            "count": 2
           },
           {
            "bin_start": 866723137,
            "bin_end": 974860066.5,
            "count": 0
           },
           {
            "bin_start": 974860066.5,
            "bin_end": 1082996996,
            "count": 1
           }
          ]
         }
        },
        {
         "name": "item_price",
         "dtype": "float64",
         "stats": {
          "unique_count": 52,
          "nan_count": 0,
          "min": "316888.0",
          "max": "61413747.76519186",
          "histogram": [
           {
            "bin_start": 316888,
            "bin_end": 6426573.976519186,
            "count": 10
           },
           {
            "bin_start": 6426573.976519186,
            "bin_end": 12536259.953038372,
            "count": 7
           },
           {
            "bin_start": 12536259.953038372,
            "bin_end": 18645945.92955756,
            "count": 17
           },
           {
            "bin_start": 18645945.92955756,
            "bin_end": 24755631.906076744,
            "count": 8
           },
           {
            "bin_start": 24755631.906076744,
            "bin_end": 30865317.88259593,
            "count": 3
           },
           {
            "bin_start": 30865317.88259593,
            "bin_end": 36975003.85911512,
            "count": 3
           },
           {
            "bin_start": 36975003.85911512,
            "bin_end": 43084689.835634306,
            "count": 1
           },
           {
            "bin_start": 43084689.835634306,
            "bin_end": 49194375.81215349,
            "count": 1
           },
           {
            "bin_start": 49194375.81215349,
            "bin_end": 55304061.78867267,
            "count": 1
           },
           {
            "bin_start": 55304061.78867267,
            "bin_end": 61413747.76519186,
            "count": 1
           }
          ]
         }
        },
        {
         "name": "item_cnt_day",
         "dtype": "float64",
         "stats": {
          "unique_count": 52,
          "nan_count": 0,
          "min": "197.0",
          "max": "132649.0",
          "histogram": [
           {
            "bin_start": 197,
            "bin_end": 13442.2,
            "count": 12
           },
           {
            "bin_start": 13442.2,
            "bin_end": 26687.4,
            "count": 17
           },
           {
            "bin_start": 26687.4,
            "bin_end": 39932.600000000006,
            "count": 14
           },
           {
            "bin_start": 39932.600000000006,
            "bin_end": 53177.8,
            "count": 2
           },
           {
            "bin_start": 53177.8,
            "bin_end": 66423,
            "count": 3
           },
           {
            "bin_start": 66423,
            "bin_end": 79668.20000000001,
            "count": 1
           },
           {
            "bin_start": 79668.20000000001,
            "bin_end": 92913.40000000001,
            "count": 0
           },
           {
            "bin_start": 92913.40000000001,
            "bin_end": 106158.6,
            "count": 2
           },
           {
            "bin_start": 106158.6,
            "bin_end": 119403.8,
            "count": 0
           },
           {
            "bin_start": 119403.8,
            "bin_end": 132649,
            "count": 1
           }
          ]
         }
        },
        {
         "name": "total_income_13",
         "dtype": "float64",
         "stats": {
          "unique_count": 52,
          "nan_count": 0,
          "min": "380080.0",
          "max": "87930150.70000404",
          "histogram": [
           {
            "bin_start": 380080,
            "bin_end": 9135087.070000404,
            "count": 11
           },
           {
            "bin_start": 9135087.070000404,
            "bin_end": 17890094.14000081,
            "count": 11
           },
           {
            "bin_start": 17890094.14000081,
            "bin_end": 26645101.210001215,
            "count": 17
           },
           {
            "bin_start": 26645101.210001215,
            "bin_end": 35400108.28000162,
            "count": 3
           },
           {
            "bin_start": 35400108.28000162,
            "bin_end": 44155115.35000202,
            "count": 4
           },
           {
            "bin_start": 44155115.35000202,
            "bin_end": 52910122.42000243,
            "count": 2
           },
           {
            "bin_start": 52910122.42000243,
            "bin_end": 61665129.49000283,
            "count": 1
           },
           {
            "bin_start": 61665129.49000283,
            "bin_end": 70420136.56000324,
            "count": 1
           },
           {
            "bin_start": 70420136.56000324,
            "bin_end": 79175143.63000365,
            "count": 1
           },
           {
            "bin_start": 79175143.63000365,
            "bin_end": 87930150.70000404,
            "count": 1
           }
          ]
         }
        },
        {
         "name": "_deepnote_index_column",
         "dtype": "int64"
        }
       ],
       "rows_top": [
        {
         "date_block_num": 5064,
         "item_id": 104811661,
         "item_price": 5553869,
         "item_cnt_day": 11705,
         "total_income_13": 6637370,
         "_deepnote_index_column": 0
        },
        {
         "date_block_num": 2984,
         "item_id": 60950373,
         "item_price": 2926161,
         "item_cnt_day": 6311,
         "total_income_13": 3238207,
         "_deepnote_index_column": 1
        },
        {
         "date_block_num": 50270,
         "item_id": 72717743,
         "item_price": 10321342.957343254,
         "item_cnt_day": 9989,
         "total_income_13": 13182961.509998593,
         "_deepnote_index_column": 2
        },
        {
         "date_block_num": 53320,
         "item_id": 84190900,
         "item_price": 7331792.95749247,
         "item_cnt_day": 10242,
         "total_income_13": 8699230.009999566,
         "_deepnote_index_column": 3
        },
        {
         "date_block_num": 90079,
         "item_id": 148853533,
         "item_price": 13303320.113204315,
         "item_cnt_day": 19054,
         "total_income_13": 15922247.769999195,
         "_deepnote_index_column": 4
        },
        {
         "date_block_num": 85622,
         "item_id": 133165128,
         "item_price": 9181054.572968973,
         "item_cnt_day": 14717,
         "total_income_13": 10820503.499999955,
         "_deepnote_index_column": 5
        },
        {
         "date_block_num": 211678,
         "item_id": 370602264,
         "item_price": 27795985.572718315,
         "item_cnt_day": 46702,
         "total_income_13": 38001076.93000229,
         "_deepnote_index_column": 6
        },
        {
         "date_block_num": 138191,
         "item_id": 236498690,
         "item_price": 19224180.141232986,
         "item_cnt_day": 28218,
         "total_income_13": 23876730.490000557,
         "_deepnote_index_column": 7
        },
        {
         "date_block_num": 2942,
         "item_id": 34216674,
         "item_price": 2223328.705,
         "item_cnt_day": 3602,
         "total_income_13": 2353301.0000000005,
         "_deepnote_index_column": 8
        },
        {
         "date_block_num": 13347,
         "item_id": 17589409,
         "item_price": 1607995.603857942,
         "item_cnt_day": 6531,
         "total_income_13": 5853849.000000158,
         "_deepnote_index_column": 9
        },
        {
         "date_block_num": 54792,
         "item_id": 88776405,
         "item_price": 6145594,
         "item_cnt_day": 11132,
         "total_income_13": 7455772,
         "_deepnote_index_column": 10
        },
        {
         "date_block_num": 66868,
         "item_id": 98462937,
         "item_price": 14734808.159784384,
         "item_cnt_day": 19495,
         "total_income_13": 32703004.69000035,
         "_deepnote_index_column": 12
        },
        {
         "date_block_num": 66290,
         "item_id": 152036986,
         "item_price": 3326750,
         "item_cnt_day": 13529,
         "total_income_13": 3878111,
         "_deepnote_index_column": 13
        },
        {
         "date_block_num": 83992,
         "item_id": 146620590,
         "item_price": 12177257.217595782,
         "item_cnt_day": 20114,
         "total_income_13": 16207180.999999803,
         "_deepnote_index_column": 14
        },
        {
         "date_block_num": 150961,
         "item_id": 258422820,
         "item_price": 19600646.605158057,
         "item_cnt_day": 32339,
         "total_income_13": 25054545.999999322,
         "_deepnote_index_column": 15
        },
        {
         "date_block_num": 130830,
         "item_id": 263991807,
         "item_price": 18134422.235740457,
         "item_cnt_day": 30250,
         "total_income_13": 21918116.690000545,
         "_deepnote_index_column": 16
        },
        {
         "date_block_num": 73513,
         "item_id": 87903677,
         "item_price": 7729456.2419633465,
         "item_cnt_day": 9913,
         "total_income_13": 9639561.999999007,
         "_deepnote_index_column": 17
        },
        {
         "date_block_num": 135627,
         "item_id": 240981693,
         "item_price": 27022711.141679414,
         "item_cnt_day": 33632,
         "total_income_13": 37886816.6900037,
         "_deepnote_index_column": 18
        },
        {
         "date_block_num": 154783,
         "item_id": 279119786,
         "item_price": 19656106.732443903,
         "item_cnt_day": 32860,
         "total_income_13": 24444926.88999978,
         "_deepnote_index_column": 19
        },
        {
         "date_block_num": 128296,
         "item_id": 233370518,
         "item_price": 14488569.256282208,
         "item_cnt_day": 25258,
         "total_income_13": 17975049.639998846,
         "_deepnote_index_column": 21
        },
        {
         "date_block_num": 108068,
         "item_id": 187553224,
         "item_price": 15842696.296940653,
         "item_cnt_day": 26943,
         "total_income_13": 23684291.61000162,
         "_deepnote_index_column": 22
        },
        {
         "date_block_num": 10102,
         "item_id": 65798983,
         "item_price": 5014308.846071436,
         "item_cnt_day": 7722,
         "total_income_13": 5630354.200000017,
         "_deepnote_index_column": 23
        },
        {
         "date_block_num": 142429,
         "item_id": 214137211,
         "item_price": 20411643.89155553,
         "item_cnt_day": 27983,
         "total_income_13": 26218476.47000069,
         "_deepnote_index_column": 24
        },
        {
         "date_block_num": 432369,
         "item_id": 845175470,
         "item_price": 53289626.852388225,
         "item_cnt_day": 102682,
         "total_income_13": 75661829.10000028,
         "_deepnote_index_column": 25
        },
        {
         "date_block_num": 134132,
         "item_id": 246344798,
         "item_price": 17962140.87430551,
         "item_cnt_day": 31277,
         "total_income_13": 25471261.250000976,
         "_deepnote_index_column": 26
        },
        {
         "date_block_num": 240471,
         "item_id": 422362689,
         "item_price": 34768701.40457193,
         "item_cnt_day": 54480,
         "total_income_13": 47141824.49999942,
         "_deepnote_index_column": 27
        },
        {
         "date_block_num": 331806,
         "item_id": 638813217,
         "item_price": 42246955.473835774,
         "item_cnt_day": 78764,
         "total_income_13": 56135759.82999925,
         "_deepnote_index_column": 28
        },
        {
         "date_block_num": 133938,
         "item_id": 259545383,
         "item_price": 19726182.959486876,
         "item_cnt_day": 31014,
         "total_income_13": 25530831.49999982,
         "_deepnote_index_column": 29
        },
        {
         "date_block_num": 152967,
         "item_id": 293699395,
         "item_price": 18333391.953226455,
         "item_cnt_day": 33577,
         "total_income_13": 22908447.899999335,
         "_deepnote_index_column": 30
        },
        {
         "date_block_num": 549207,
         "item_id": 1082996996,
         "item_price": 61413747.76519186,
         "item_cnt_day": 132649,
         "total_income_13": 87930150.70000404,
         "_deepnote_index_column": 31
        },
        {
         "date_block_num": 19695,
         "item_id": 77954707,
         "item_price": 5064243.531581204,
         "item_cnt_day": 8815,
         "total_income_13": 5807232.000000036,
         "_deepnote_index_column": 32
        },
        {
         "date_block_num": 134801,
         "item_id": 229028551,
         "item_price": 17751430.033069834,
         "item_cnt_day": 28113,
         "total_income_13": 23320801.010000486,
         "_deepnote_index_column": 35
        },
        {
         "date_block_num": 87276,
         "item_id": 182996353,
         "item_price": 13449517.529105559,
         "item_cnt_day": 21706,
         "total_income_13": 16732951.000000292,
         "_deepnote_index_column": 37
        },
        {
         "date_block_num": 98621,
         "item_id": 156434596,
         "item_price": 16765354.052216308,
         "item_cnt_day": 20653,
         "total_income_13": 21831851.970001034,
         "_deepnote_index_column": 38
        },
        {
         "date_block_num": 120125,
         "item_id": 202691114,
         "item_price": 16689204.905576471,
         "item_cnt_day": 24729,
         "total_income_13": 20926888.500001736,
         "_deepnote_index_column": 41
        },
        {
         "date_block_num": 231312,
         "item_id": 420356650,
         "item_price": 31500640.34577885,
         "item_cnt_day": 53826,
         "total_income_13": 48360134.50000136,
         "_deepnote_index_column": 42
        },
        {
         "date_block_num": 116563,
         "item_id": 191433588,
         "item_price": 18651717.44639558,
         "item_cnt_day": 26308,
         "total_income_13": 27985375.989998065,
         "_deepnote_index_column": 43
        },
        {
         "date_block_num": 100406,
         "item_id": 195674642,
         "item_price": 10575026.876221694,
         "item_cnt_day": 21105,
         "total_income_13": 12929565.000000065,
         "_deepnote_index_column": 44
        },
        {
         "date_block_num": 93898,
         "item_id": 164217834,
         "item_price": 13235105.794694683,
         "item_cnt_day": 19652,
         "total_income_13": 16742559.179998698,
         "_deepnote_index_column": 45
        },
        {
         "date_block_num": 163854,
         "item_id": 293422798,
         "item_price": 21691165.303349487,
         "item_cnt_day": 35907,
         "total_income_13": 27251787.419998985,
         "_deepnote_index_column": 46
        },
        {
         "date_block_num": 107257,
         "item_id": 178068770,
         "item_price": 16901215.643983867,
         "item_cnt_day": 22369,
         "total_income_13": 19849654.59999912,
         "_deepnote_index_column": 47
        },
        {
         "date_block_num": 1936,
         "item_id": 1627701,
         "item_price": 316888,
         "item_cnt_day": 197,
         "total_income_13": 380080,
         "_deepnote_index_column": 49
        },
        {
         "date_block_num": 196908,
         "item_id": 342657138,
         "item_price": 29946034.28451458,
         "item_cnt_day": 41925,
         "total_income_13": 38813547.00000202,
         "_deepnote_index_column": 50
        },
        {
         "date_block_num": 121231,
         "item_id": 266207689,
         "item_price": 9422258,
         "item_cnt_day": 26177,
         "total_income_13": 10710024,
         "_deepnote_index_column": 51
        },
        {
         "date_block_num": 106223,
         "item_id": 181893615,
         "item_price": 13178856.731912995,
         "item_cnt_day": 22130,
         "total_income_13": 16606135.999997988,
         "_deepnote_index_column": 52
        },
        {
         "date_block_num": 125814,
         "item_id": 199143827,
         "item_price": 17060575.885259118,
         "item_cnt_day": 26054,
         "total_income_13": 20833846.899998937,
         "_deepnote_index_column": 53
        },
        {
         "date_block_num": 394961,
         "item_id": 811806120,
         "item_price": 48421904.821438126,
         "item_cnt_day": 96527,
         "total_income_13": 64202552.77999913,
         "_deepnote_index_column": 54
        },
        {
         "date_block_num": 45290,
         "item_id": 33730035,
         "item_price": 2271826.3527777772,
         "item_cnt_day": 7433,
         "total_income_13": 3007485.159999996,
         "_deepnote_index_column": 55
        },
        {
         "date_block_num": 168978,
         "item_id": 336912590,
         "item_price": 19058679.695004385,
         "item_cnt_day": 34690,
         "total_income_13": 22685771.529999096,
         "_deepnote_index_column": 56
        },
        {
         "date_block_num": 319211,
         "item_id": 546398932,
         "item_price": 31709849.58114703,
         "item_cnt_day": 60285,
         "total_income_13": 40877725.9999984,
         "_deepnote_index_column": 57
        },
        {
         "date_block_num": 186615,
         "item_id": 307673189,
         "item_price": 18424712.25354763,
         "item_cnt_day": 32242,
         "total_income_13": 21759856.46999999,
         "_deepnote_index_column": 58
        },
        {
         "date_block_num": 106909,
         "item_id": 187677301,
         "item_price": 14166617.496221405,
         "item_cnt_day": 22365,
         "total_income_13": 17458456.999999106,
         "_deepnote_index_column": 59
        }
       ],
       "rows_bottom": null
      },
      "text/plain": "         date_block_num     item_id    item_price  item_cnt_day  \\\nshop_id                                                           \n0                  5064   104811661  5.553869e+06       11705.0   \n1                  2984    60950373  2.926161e+06        6311.0   \n2                 50270    72717743  1.032134e+07        9989.0   \n3                 53320    84190900  7.331793e+06       10242.0   \n4                 90079   148853533  1.330332e+07       19054.0   \n5                 85622   133165128  9.181055e+06       14717.0   \n6                211678   370602264  2.779599e+07       46702.0   \n7                138191   236498690  1.922418e+07       28218.0   \n8                  2942    34216674  2.223329e+06        3602.0   \n9                 13347    17589409  1.607996e+06        6531.0   \n10                54792    88776405  6.145594e+06       11132.0   \n12                66868    98462937  1.473481e+07       19495.0   \n13                66290   152036986  3.326750e+06       13529.0   \n14                83992   146620590  1.217726e+07       20114.0   \n15               150961   258422820  1.960065e+07       32339.0   \n16               130830   263991807  1.813442e+07       30250.0   \n17                73513    87903677  7.729456e+06        9913.0   \n18               135627   240981693  2.702271e+07       33632.0   \n19               154783   279119786  1.965611e+07       32860.0   \n21               128296   233370518  1.448857e+07       25258.0   \n22               108068   187553224  1.584270e+07       26943.0   \n23                10102    65798983  5.014309e+06        7722.0   \n24               142429   214137211  2.041164e+07       27983.0   \n25               432369   845175470  5.328963e+07      102682.0   \n26               134132   246344798  1.796214e+07       31277.0   \n27               240471   422362689  3.476870e+07       54480.0   \n28               331806   638813217  4.224696e+07       78764.0   \n29               133938   259545383  1.972618e+07       31014.0   \n30               152967   293699395  1.833339e+07       33577.0   \n31               549207  1082996996  6.141375e+07      132649.0   \n32                19695    77954707  5.064244e+06        8815.0   \n35               134801   229028551  1.775143e+07       28113.0   \n37                87276   182996353  1.344952e+07       21706.0   \n38                98621   156434596  1.676535e+07       20653.0   \n41               120125   202691114  1.668920e+07       24729.0   \n42               231312   420356650  3.150064e+07       53826.0   \n43               116563   191433588  1.865172e+07       26308.0   \n44               100406   195674642  1.057503e+07       21105.0   \n45                93898   164217834  1.323511e+07       19652.0   \n46               163854   293422798  2.169117e+07       35907.0   \n47               107257   178068770  1.690122e+07       22369.0   \n49                 1936     1627701  3.168880e+05         197.0   \n50               196908   342657138  2.994603e+07       41925.0   \n51               121231   266207689  9.422258e+06       26177.0   \n52               106223   181893615  1.317886e+07       22130.0   \n53               125814   199143827  1.706058e+07       26054.0   \n54               394961   811806120  4.842190e+07       96527.0   \n55                45290    33730035  2.271826e+06        7433.0   \n56               168978   336912590  1.905868e+07       34690.0   \n57               319211   546398932  3.170985e+07       60285.0   \n58               186615   307673189  1.842471e+07       32242.0   \n59               106909   187677301  1.416662e+07       22365.0   \n\n         total_income_13  \nshop_id                   \n0           6.637370e+06  \n1           3.238207e+06  \n2           1.318296e+07  \n3           8.699230e+06  \n4           1.592225e+07  \n5           1.082050e+07  \n6           3.800108e+07  \n7           2.387673e+07  \n8           2.353301e+06  \n9           5.853849e+06  \n10          7.455772e+06  \n12          3.270300e+07  \n13          3.878111e+06  \n14          1.620718e+07  \n15          2.505455e+07  \n16          2.191812e+07  \n17          9.639562e+06  \n18          3.788682e+07  \n19          2.444493e+07  \n21          1.797505e+07  \n22          2.368429e+07  \n23          5.630354e+06  \n24          2.621848e+07  \n25          7.566183e+07  \n26          2.547126e+07  \n27          4.714182e+07  \n28          5.613576e+07  \n29          2.553083e+07  \n30          2.290845e+07  \n31          8.793015e+07  \n32          5.807232e+06  \n35          2.332080e+07  \n37          1.673295e+07  \n38          2.183185e+07  \n41          2.092689e+07  \n42          4.836013e+07  \n43          2.798538e+07  \n44          1.292957e+07  \n45          1.674256e+07  \n46          2.725179e+07  \n47          1.984965e+07  \n49          3.800800e+05  \n50          3.881355e+07  \n51          1.071002e+07  \n52          1.660614e+07  \n53          2.083385e+07  \n54          6.420255e+07  \n55          3.007485e+06  \n56          2.268577e+07  \n57          4.087773e+07  \n58          2.175986e+07  \n59          1.745846e+07  ",
      "text/html": "<div>\n<style scoped>\n    .dataframe tbody tr th:only-of-type {\n        vertical-align: middle;\n    }\n\n    .dataframe tbody tr th {\n        vertical-align: top;\n    }\n\n    .dataframe thead th {\n        text-align: right;\n    }\n</style>\n<table border=\"1\" class=\"dataframe\">\n  <thead>\n    <tr style=\"text-align: right;\">\n      <th></th>\n      <th>date_block_num</th>\n      <th>item_id</th>\n      <th>item_price</th>\n      <th>item_cnt_day</th>\n      <th>total_income_13</th>\n    </tr>\n    <tr>\n      <th>shop_id</th>\n      <th></th>\n      <th></th>\n      <th></th>\n      <th></th>\n      <th></th>\n    </tr>\n  </thead>\n  <tbody>\n    <tr>\n      <th>0</th>\n      <td>5064</td>\n      <td>104811661</td>\n      <td>5.553869e+06</td>\n      <td>11705.0</td>\n      <td>6.637370e+06</td>\n    </tr>\n    <tr>\n      <th>1</th>\n      <td>2984</td>\n      <td>60950373</td>\n      <td>2.926161e+06</td>\n      <td>6311.0</td>\n      <td>3.238207e+06</td>\n    </tr>\n    <tr>\n      <th>2</th>\n      <td>50270</td>\n      <td>72717743</td>\n      <td>1.032134e+07</td>\n      <td>9989.0</td>\n      <td>1.318296e+07</td>\n    </tr>\n    <tr>\n      <th>3</th>\n      <td>53320</td>\n      <td>84190900</td>\n      <td>7.331793e+06</td>\n      <td>10242.0</td>\n      <td>8.699230e+06</td>\n    </tr>\n    <tr>\n      <th>4</th>\n      <td>90079</td>\n      <td>148853533</td>\n      <td>1.330332e+07</td>\n      <td>19054.0</td>\n      <td>1.592225e+07</td>\n    </tr>\n    <tr>\n      <th>5</th>\n      <td>85622</td>\n      <td>133165128</td>\n      <td>9.181055e+06</td>\n      <td>14717.0</td>\n      <td>1.082050e+07</td>\n    </tr>\n    <tr>\n      <th>6</th>\n      <td>211678</td>\n      <td>370602264</td>\n      <td>2.779599e+07</td>\n      <td>46702.0</td>\n      <td>3.800108e+07</td>\n    </tr>\n    <tr>\n      <th>7</th>\n      <td>138191</td>\n      <td>236498690</td>\n      <td>1.922418e+07</td>\n      <td>28218.0</td>\n      <td>2.387673e+07</td>\n    </tr>\n    <tr>\n      <th>8</th>\n      <td>2942</td>\n      <td>34216674</td>\n      <td>2.223329e+06</td>\n      <td>3602.0</td>\n      <td>2.353301e+06</td>\n    </tr>\n    <tr>\n      <th>9</th>\n      <td>13347</td>\n      <td>17589409</td>\n      <td>1.607996e+06</td>\n      <td>6531.0</td>\n      <td>5.853849e+06</td>\n    </tr>\n    <tr>\n      <th>10</th>\n      <td>54792</td>\n      <td>88776405</td>\n      <td>6.145594e+06</td>\n      <td>11132.0</td>\n      <td>7.455772e+06</td>\n    </tr>\n    <tr>\n      <th>12</th>\n      <td>66868</td>\n      <td>98462937</td>\n      <td>1.473481e+07</td>\n      <td>19495.0</td>\n      <td>3.270300e+07</td>\n    </tr>\n    <tr>\n      <th>13</th>\n      <td>66290</td>\n      <td>152036986</td>\n      <td>3.326750e+06</td>\n      <td>13529.0</td>\n      <td>3.878111e+06</td>\n    </tr>\n    <tr>\n      <th>14</th>\n      <td>83992</td>\n      <td>146620590</td>\n      <td>1.217726e+07</td>\n      <td>20114.0</td>\n      <td>1.620718e+07</td>\n    </tr>\n    <tr>\n      <th>15</th>\n      <td>150961</td>\n      <td>258422820</td>\n      <td>1.960065e+07</td>\n      <td>32339.0</td>\n      <td>2.505455e+07</td>\n    </tr>\n    <tr>\n      <th>16</th>\n      <td>130830</td>\n      <td>263991807</td>\n      <td>1.813442e+07</td>\n      <td>30250.0</td>\n      <td>2.191812e+07</td>\n    </tr>\n    <tr>\n      <th>17</th>\n      <td>73513</td>\n      <td>87903677</td>\n      <td>7.729456e+06</td>\n      <td>9913.0</td>\n      <td>9.639562e+06</td>\n    </tr>\n    <tr>\n      <th>18</th>\n      <td>135627</td>\n      <td>240981693</td>\n      <td>2.702271e+07</td>\n      <td>33632.0</td>\n      <td>3.788682e+07</td>\n    </tr>\n    <tr>\n      <th>19</th>\n      <td>154783</td>\n      <td>279119786</td>\n      <td>1.965611e+07</td>\n      <td>32860.0</td>\n      <td>2.444493e+07</td>\n    </tr>\n    <tr>\n      <th>21</th>\n      <td>128296</td>\n      <td>233370518</td>\n      <td>1.448857e+07</td>\n      <td>25258.0</td>\n      <td>1.797505e+07</td>\n    </tr>\n    <tr>\n      <th>22</th>\n      <td>108068</td>\n      <td>187553224</td>\n      <td>1.584270e+07</td>\n      <td>26943.0</td>\n      <td>2.368429e+07</td>\n    </tr>\n    <tr>\n      <th>23</th>\n      <td>10102</td>\n      <td>65798983</td>\n      <td>5.014309e+06</td>\n      <td>7722.0</td>\n      <td>5.630354e+06</td>\n    </tr>\n    <tr>\n      <th>24</th>\n      <td>142429</td>\n      <td>214137211</td>\n      <td>2.041164e+07</td>\n      <td>27983.0</td>\n      <td>2.621848e+07</td>\n    </tr>\n    <tr>\n      <th>25</th>\n      <td>432369</td>\n      <td>845175470</td>\n      <td>5.328963e+07</td>\n      <td>102682.0</td>\n      <td>7.566183e+07</td>\n    </tr>\n    <tr>\n      <th>26</th>\n      <td>134132</td>\n      <td>246344798</td>\n      <td>1.796214e+07</td>\n      <td>31277.0</td>\n      <td>2.547126e+07</td>\n    </tr>\n    <tr>\n      <th>27</th>\n      <td>240471</td>\n      <td>422362689</td>\n      <td>3.476870e+07</td>\n      <td>54480.0</td>\n      <td>4.714182e+07</td>\n    </tr>\n    <tr>\n      <th>28</th>\n      <td>331806</td>\n      <td>638813217</td>\n      <td>4.224696e+07</td>\n      <td>78764.0</td>\n      <td>5.613576e+07</td>\n    </tr>\n    <tr>\n      <th>29</th>\n      <td>133938</td>\n      <td>259545383</td>\n      <td>1.972618e+07</td>\n      <td>31014.0</td>\n      <td>2.553083e+07</td>\n    </tr>\n    <tr>\n      <th>30</th>\n      <td>152967</td>\n      <td>293699395</td>\n      <td>1.833339e+07</td>\n      <td>33577.0</td>\n      <td>2.290845e+07</td>\n    </tr>\n    <tr>\n      <th>31</th>\n      <td>549207</td>\n      <td>1082996996</td>\n      <td>6.141375e+07</td>\n      <td>132649.0</td>\n      <td>8.793015e+07</td>\n    </tr>\n    <tr>\n      <th>32</th>\n      <td>19695</td>\n      <td>77954707</td>\n      <td>5.064244e+06</td>\n      <td>8815.0</td>\n      <td>5.807232e+06</td>\n    </tr>\n    <tr>\n      <th>35</th>\n      <td>134801</td>\n      <td>229028551</td>\n      <td>1.775143e+07</td>\n      <td>28113.0</td>\n      <td>2.332080e+07</td>\n    </tr>\n    <tr>\n      <th>37</th>\n      <td>87276</td>\n      <td>182996353</td>\n      <td>1.344952e+07</td>\n      <td>21706.0</td>\n      <td>1.673295e+07</td>\n    </tr>\n    <tr>\n      <th>38</th>\n      <td>98621</td>\n      <td>156434596</td>\n      <td>1.676535e+07</td>\n      <td>20653.0</td>\n      <td>2.183185e+07</td>\n    </tr>\n    <tr>\n      <th>41</th>\n      <td>120125</td>\n      <td>202691114</td>\n      <td>1.668920e+07</td>\n      <td>24729.0</td>\n      <td>2.092689e+07</td>\n    </tr>\n    <tr>\n      <th>42</th>\n      <td>231312</td>\n      <td>420356650</td>\n      <td>3.150064e+07</td>\n      <td>53826.0</td>\n      <td>4.836013e+07</td>\n    </tr>\n    <tr>\n      <th>43</th>\n      <td>116563</td>\n      <td>191433588</td>\n      <td>1.865172e+07</td>\n      <td>26308.0</td>\n      <td>2.798538e+07</td>\n    </tr>\n    <tr>\n      <th>44</th>\n      <td>100406</td>\n      <td>195674642</td>\n      <td>1.057503e+07</td>\n      <td>21105.0</td>\n      <td>1.292957e+07</td>\n    </tr>\n    <tr>\n      <th>45</th>\n      <td>93898</td>\n      <td>164217834</td>\n      <td>1.323511e+07</td>\n      <td>19652.0</td>\n      <td>1.674256e+07</td>\n    </tr>\n    <tr>\n      <th>46</th>\n      <td>163854</td>\n      <td>293422798</td>\n      <td>2.169117e+07</td>\n      <td>35907.0</td>\n      <td>2.725179e+07</td>\n    </tr>\n    <tr>\n      <th>47</th>\n      <td>107257</td>\n      <td>178068770</td>\n      <td>1.690122e+07</td>\n      <td>22369.0</td>\n      <td>1.984965e+07</td>\n    </tr>\n    <tr>\n      <th>49</th>\n      <td>1936</td>\n      <td>1627701</td>\n      <td>3.168880e+05</td>\n      <td>197.0</td>\n      <td>3.800800e+05</td>\n    </tr>\n    <tr>\n      <th>50</th>\n      <td>196908</td>\n      <td>342657138</td>\n      <td>2.994603e+07</td>\n      <td>41925.0</td>\n      <td>3.881355e+07</td>\n    </tr>\n    <tr>\n      <th>51</th>\n      <td>121231</td>\n      <td>266207689</td>\n      <td>9.422258e+06</td>\n      <td>26177.0</td>\n      <td>1.071002e+07</td>\n    </tr>\n    <tr>\n      <th>52</th>\n      <td>106223</td>\n      <td>181893615</td>\n      <td>1.317886e+07</td>\n      <td>22130.0</td>\n      <td>1.660614e+07</td>\n    </tr>\n    <tr>\n      <th>53</th>\n      <td>125814</td>\n      <td>199143827</td>\n      <td>1.706058e+07</td>\n      <td>26054.0</td>\n      <td>2.083385e+07</td>\n    </tr>\n    <tr>\n      <th>54</th>\n      <td>394961</td>\n      <td>811806120</td>\n      <td>4.842190e+07</td>\n      <td>96527.0</td>\n      <td>6.420255e+07</td>\n    </tr>\n    <tr>\n      <th>55</th>\n      <td>45290</td>\n      <td>33730035</td>\n      <td>2.271826e+06</td>\n      <td>7433.0</td>\n      <td>3.007485e+06</td>\n    </tr>\n    <tr>\n      <th>56</th>\n      <td>168978</td>\n      <td>336912590</td>\n      <td>1.905868e+07</td>\n      <td>34690.0</td>\n      <td>2.268577e+07</td>\n    </tr>\n    <tr>\n      <th>57</th>\n      <td>319211</td>\n      <td>546398932</td>\n      <td>3.170985e+07</td>\n      <td>60285.0</td>\n      <td>4.087773e+07</td>\n    </tr>\n    <tr>\n      <th>58</th>\n      <td>186615</td>\n      <td>307673189</td>\n      <td>1.842471e+07</td>\n      <td>32242.0</td>\n      <td>2.175986e+07</td>\n    </tr>\n    <tr>\n      <th>59</th>\n      <td>106909</td>\n      <td>187677301</td>\n      <td>1.416662e+07</td>\n      <td>22365.0</td>\n      <td>1.745846e+07</td>\n    </tr>\n  </tbody>\n</table>\n</div>"
     },
     "metadata": {}
    }
   ]
  },
  {
   "cell_type": "code",
   "source": "df_2014.groupby([\"shop_id\"]).sum()",
   "metadata": {
    "tags": [],
    "cell_id": "00020-05d49b84-93aa-43e7-8ef2-019208cb8de1",
    "deepnote_to_be_reexecuted": false,
    "source_hash": "8815d483",
    "execution_start": 1620733928949,
    "execution_millis": 76,
    "deepnote_cell_type": "code"
   },
   "outputs": [
    {
     "output_type": "execute_result",
     "execution_count": 54,
     "data": {
      "application/vnd.deepnote.dataframe.v2+json": {
       "row_count": 53,
       "column_count": 5,
       "columns": [
        {
         "name": "date_block_num",
         "dtype": "int64",
         "stats": {
          "unique_count": 53,
          "nan_count": 0,
          "min": "19824",
          "max": "1466268",
          "histogram": [
           {
            "bin_start": 19824,
            "bin_end": 164468.4,
            "count": 9
           },
           {
            "bin_start": 164468.4,
            "bin_end": 309112.8,
            "count": 20
           },
           {
            "bin_start": 309112.8,
            "bin_end": 453757.19999999995,
            "count": 15
           },
           {
            "bin_start": 453757.19999999995,
            "bin_end": 598401.6,
            "count": 2
           },
           {
            "bin_start": 598401.6,
            "bin_end": 743046,
            "count": 2
           },
           {
            "bin_start": 743046,
            "bin_end": 887690.3999999999,
            "count": 2
           },
           {
            "bin_start": 887690.3999999999,
            "bin_end": 1032334.7999999999,
            "count": 1
           },
           {
            "bin_start": 1032334.7999999999,
            "bin_end": 1176979.2,
            "count": 1
           },
           {
            "bin_start": 1176979.2,
            "bin_end": 1321623.5999999999,
            "count": 0
           },
           {
            "bin_start": 1321623.5999999999,
            "bin_end": 1466268,
            "count": 1
           }
          ]
         }
        },
        {
         "name": "item_id",
         "dtype": "int64",
         "stats": {
          "unique_count": 53,
          "nan_count": 0,
          "min": "16529817",
          "max": "915496571",
          "histogram": [
           {
            "bin_start": 16529817,
            "bin_end": 106426492.4,
            "count": 12
           },
           {
            "bin_start": 106426492.4,
            "bin_end": 196323167.8,
            "count": 24
           },
           {
            "bin_start": 196323167.8,
            "bin_end": 286219843.20000005,
            "count": 8
           },
           {
            "bin_start": 286219843.20000005,
            "bin_end": 376116518.6,
            "count": 2
           },
           {
            "bin_start": 376116518.6,
            "bin_end": 466013194,
            "count": 2
           },
           {
            "bin_start": 466013194,
            "bin_end": 555909869.4000001,
            "count": 2
           },
           {
            "bin_start": 555909869.4000001,
            "bin_end": 645806544.8000001,
            "count": 1
           },
           {
            "bin_start": 645806544.8000001,
            "bin_end": 735703220.2,
            "count": 1
           },
           {
            "bin_start": 735703220.2,
            "bin_end": 825599895.6,
            "count": 0
           },
           {
            "bin_start": 825599895.6,
            "bin_end": 915496571,
            "count": 1
           }
          ]
         }
        },
        {
         "name": "item_price",
         "dtype": "float64",
         "stats": {
          "unique_count": 53,
          "nan_count": 0,
          "min": "1144218.836638871",
          "max": "64342403.387753166",
          "histogram": [
           {
            "bin_start": 1144218.836638871,
            "bin_end": 7464037.291750301,
            "count": 7
           },
           {
            "bin_start": 7464037.291750301,
            "bin_end": 13783855.746861732,
            "count": 10
           },
           {
            "bin_start": 13783855.746861732,
            "bin_end": 20103674.201973163,
            "count": 15
           },
           {
            "bin_start": 20103674.201973163,
            "bin_end": 26423492.65708459,
            "count": 13
           },
           {
            "bin_start": 26423492.65708459,
            "bin_end": 32743311.11219602,
            "count": 1
           },
           {
            "bin_start": 32743311.11219602,
            "bin_end": 39063129.56730745,
            "count": 2
           },
           {
            "bin_start": 39063129.56730745,
            "bin_end": 45382948.02241888,
            "count": 0
           },
           {
            "bin_start": 45382948.02241888,
            "bin_end": 51702766.47753031,
            "count": 3
           },
           {
            "bin_start": 51702766.47753031,
            "bin_end": 58022584.93264174,
            "count": 1
           },
           {
            "bin_start": 58022584.93264174,
            "bin_end": 64342403.387753166,
            "count": 1
           }
          ]
         }
        },
        {
         "name": "item_cnt_day",
         "dtype": "float64",
         "stats": {
          "unique_count": 53,
          "nan_count": 0,
          "min": "2201.0",
          "max": "110812.0",
          "histogram": [
           {
            "bin_start": 2201,
            "bin_end": 13062.1,
            "count": 11
           },
           {
            "bin_start": 13062.1,
            "bin_end": 23923.2,
            "count": 21
           },
           {
            "bin_start": 23923.2,
            "bin_end": 34784.3,
            "count": 13
           },
           {
            "bin_start": 34784.3,
            "bin_end": 45645.4,
            "count": 1
           },
           {
            "bin_start": 45645.4,
            "bin_end": 56506.5,
            "count": 3
           },
           {
            "bin_start": 56506.5,
            "bin_end": 67367.6,
            "count": 1
           },
           {
            "bin_start": 67367.6,
            "bin_end": 78228.7,
            "count": 1
           },
           {
            "bin_start": 78228.7,
            "bin_end": 89089.8,
            "count": 1
           },
           {
            "bin_start": 89089.8,
            "bin_end": 99950.90000000001,
            "count": 0
           },
           {
            "bin_start": 99950.90000000001,
            "bin_end": 110812,
            "count": 1
           }
          ]
         }
        },
        {
         "name": "total_income_14",
         "dtype": "float64",
         "stats": {
          "unique_count": 53,
          "nan_count": 0,
          "min": "2128062.180000001",
          "max": "89148607.6299997",
          "histogram": [
           {
            "bin_start": 2128062.180000001,
            "bin_end": 10830116.72499997,
            "count": 9
           },
           {
            "bin_start": 10830116.72499997,
            "bin_end": 19532171.269999936,
            "count": 15
           },
           {
            "bin_start": 19532171.269999936,
            "bin_end": 28234225.814999904,
            "count": 15
           },
           {
            "bin_start": 28234225.814999904,
            "bin_end": 36936280.35999987,
            "count": 5
           },
           {
            "bin_start": 36936280.35999987,
            "bin_end": 45638334.904999845,
            "count": 2
           },
           {
            "bin_start": 45638334.904999845,
            "bin_end": 54340389.44999981,
            "count": 1
           },
           {
            "bin_start": 54340389.44999981,
            "bin_end": 63042443.994999774,
            "count": 2
           },
           {
            "bin_start": 63042443.994999774,
            "bin_end": 71744498.53999975,
            "count": 2
           },
           {
            "bin_start": 71744498.53999975,
            "bin_end": 80446553.08499973,
            "count": 1
           },
           {
            "bin_start": 80446553.08499973,
            "bin_end": 89148607.6299997,
            "count": 1
           }
          ]
         }
        },
        {
         "name": "_deepnote_index_column",
         "dtype": "int64"
        }
       ],
       "rows_top": [
        {
         "date_block_num": 179035,
         "item_id": 83280536,
         "item_price": 14933480.317479476,
         "item_cnt_day": 12247,
         "total_income_14": 19095415.49999953,
         "_deepnote_index_column": 2
        },
        {
         "date_block_num": 170929,
         "item_id": 86364857,
         "item_price": 10794305.695827873,
         "item_cnt_day": 11039,
         "total_income_14": 12509365.000000266,
         "_deepnote_index_column": 3
        },
        {
         "date_block_num": 238779,
         "item_id": 123118075,
         "item_price": 14024299.961283082,
         "item_cnt_day": 15909,
         "total_income_14": 15903472.409999922,
         "_deepnote_index_column": 4
        },
        {
         "date_block_num": 262842,
         "item_id": 148542142,
         "item_price": 14492060.779135218,
         "item_cnt_day": 17041,
         "total_income_14": 16867034.949999712,
         "_deepnote_index_column": 5
        },
        {
         "date_block_num": 505507,
         "item_id": 287568449,
         "item_price": 29042607.563908476,
         "item_cnt_day": 35496,
         "total_income_14": 37987986.840000294,
         "_deepnote_index_column": 6
        },
        {
         "date_block_num": 367622,
         "item_id": 199780518,
         "item_price": 22324556.324178588,
         "item_cnt_day": 24530,
         "total_income_14": 26562486.929999705,
         "_deepnote_index_column": 7
        },
        {
         "date_block_num": 29757,
         "item_id": 18231529,
         "item_price": 1839812.103175469,
         "item_cnt_day": 6155,
         "total_income_14": 6615740.999999903,
         "_deepnote_index_column": 9
        },
        {
         "date_block_num": 135064,
         "item_id": 70504092,
         "item_price": 6879312.890000012,
         "item_cnt_day": 8859,
         "total_income_14": 7944204.540000012,
         "_deepnote_index_column": 10
        },
        {
         "date_block_num": 222460,
         "item_id": 126081526,
         "item_price": 19142704.83236145,
         "item_cnt_day": 26379,
         "total_income_14": 43290831.51999816,
         "_deepnote_index_column": 12
        },
        {
         "date_block_num": 84443,
         "item_id": 69333997,
         "item_price": 2006851.4800000016,
         "item_cnt_day": 6234,
         "total_income_14": 2128062.180000001,
         "_deepnote_index_column": 13
        },
        {
         "date_block_num": 217990,
         "item_id": 109668669,
         "item_price": 13970123.239755573,
         "item_cnt_day": 16003,
         "total_income_14": 18279544.32999999,
         "_deepnote_index_column": 14
        },
        {
         "date_block_num": 358367,
         "item_id": 194319754,
         "item_price": 21183585.101307593,
         "item_cnt_day": 24854,
         "total_income_14": 26300575.300000183,
         "_deepnote_index_column": 15
        },
        {
         "date_block_num": 290239,
         "item_id": 157267084,
         "item_price": 18089681.9883599,
         "item_cnt_day": 19569,
         "total_income_14": 21490760.99999991,
         "_deepnote_index_column": 16
        },
        {
         "date_block_num": 235966,
         "item_id": 132560867,
         "item_price": 14867355.248191405,
         "item_cnt_day": 15308,
         "total_income_14": 17348801.000000175,
         "_deepnote_index_column": 17
        },
        {
         "date_block_num": 266764,
         "item_id": 136475227,
         "item_price": 21180368.05637832,
         "item_cnt_day": 18815,
         "total_income_14": 27758003.500000015,
         "_deepnote_index_column": 18
        },
        {
         "date_block_num": 384505,
         "item_id": 213063196,
         "item_price": 20742729.89037813,
         "item_cnt_day": 25353,
         "total_income_14": 24723310.000000343,
         "_deepnote_index_column": 19
        },
        {
         "date_block_num": 19824,
         "item_id": 16529817,
         "item_price": 1144218.836638871,
         "item_cnt_day": 3262,
         "total_income_14": 3504557.999999957,
         "_deepnote_index_column": 20
        },
        {
         "date_block_num": 377523,
         "item_id": 226718441,
         "item_price": 20386135.85537432,
         "item_cnt_day": 25168,
         "total_income_14": 24568803.999999925,
         "_deepnote_index_column": 21
        },
        {
         "date_block_num": 270083,
         "item_id": 150013360,
         "item_price": 15905130.531987054,
         "item_cnt_day": 20341,
         "total_income_14": 21897793.09999965,
         "_deepnote_index_column": 22
        },
        {
         "date_block_num": 332964,
         "item_id": 173461805,
         "item_price": 22216848.38670197,
         "item_cnt_day": 23402,
         "total_income_14": 26651783.999999966,
         "_deepnote_index_column": 24
        },
        {
         "date_block_num": 1116375,
         "item_id": 676272908,
         "item_price": 57168773.071818545,
         "item_cnt_day": 82841,
         "total_income_14": 80445758.49999969,
         "_deepnote_index_column": 25
        },
        {
         "date_block_num": 320039,
         "item_id": 181219242,
         "item_price": 17986105.579766646,
         "item_cnt_day": 23182,
         "total_income_14": 24970584.00000029,
         "_deepnote_index_column": 26
        },
        {
         "date_block_num": 733400,
         "item_id": 399349854,
         "item_price": 46192645.80981538,
         "item_cnt_day": 56028,
         "total_income_14": 63367083.49999872,
         "_deepnote_index_column": 27
        },
        {
         "date_block_num": 870715,
         "item_id": 520922197,
         "item_price": 47724918.55116831,
         "item_cnt_day": 65964,
         "total_income_14": 61609523.29999981,
         "_deepnote_index_column": 28
        },
        {
         "date_block_num": 319606,
         "item_id": 180057089,
         "item_price": 18928410.462235175,
         "item_cnt_day": 21656,
         "total_income_14": 23617084.0000002,
         "_deepnote_index_column": 29
        },
        {
         "date_block_num": 353252,
         "item_id": 213081470,
         "item_price": 17915358.170013785,
         "item_cnt_day": 24796,
         "total_income_14": 21371884.500000022,
         "_deepnote_index_column": 30
        },
        {
         "date_block_num": 1466268,
         "item_id": 915496571,
         "item_price": 64342403.387753166,
         "item_cnt_day": 110812,
         "total_income_14": 89148607.6299997,
         "_deepnote_index_column": 31
        },
        {
         "date_block_num": 62924,
         "item_id": 30063893,
         "item_price": 3268631.9050000007,
         "item_cnt_day": 3193,
         "total_income_14": 3537670.9999999977,
         "_deepnote_index_column": 33
        },
        {
         "date_block_num": 41721,
         "item_id": 19724595,
         "item_price": 2773906.304999998,
         "item_cnt_day": 2201,
         "total_income_14": 3046621.339999982,
         "_deepnote_index_column": 34
        },
        {
         "date_block_num": 377940,
         "item_id": 203076893,
         "item_price": 22928392.01191697,
         "item_cnt_day": 25553,
         "total_income_14": 28247440.500000153,
         "_deepnote_index_column": 35
        },
        {
         "date_block_num": 216615,
         "item_id": 116728264,
         "item_price": 13532103.44296301,
         "item_cnt_day": 14558,
         "total_income_14": 16885821.660000052,
         "_deepnote_index_column": 37
        },
        {
         "date_block_num": 294955,
         "item_id": 147390155,
         "item_price": 20761794.42089023,
         "item_cnt_day": 19646,
         "total_income_14": 25625184.16000006,
         "_deepnote_index_column": 38
        },
        {
         "date_block_num": 128093,
         "item_id": 69483849,
         "item_price": 7573199.770037444,
         "item_cnt_day": 8415,
         "total_income_14": 9058101.499999758,
         "_deepnote_index_column": 39
        },
        {
         "date_block_num": 73767,
         "item_id": 51151937,
         "item_price": 3640992.55,
         "item_cnt_day": 4512,
         "total_income_14": 3859532.82,
         "_deepnote_index_column": 40
        },
        {
         "date_block_num": 234441,
         "item_id": 131958936,
         "item_price": 13529832.068058215,
         "item_cnt_day": 16176,
         "total_income_14": 16190466.499999916,
         "_deepnote_index_column": 41
        },
        {
         "date_block_num": 675927,
         "item_id": 402159667,
         "item_price": 37807827.84287996,
         "item_cnt_day": 50224,
         "total_income_14": 54951212.99999926,
         "_deepnote_index_column": 42
        },
        {
         "date_block_num": 315396,
         "item_id": 171585428,
         "item_price": 22033854.502054766,
         "item_cnt_day": 23169,
         "total_income_14": 32476885.909998972,
         "_deepnote_index_column": 43
        },
        {
         "date_block_num": 236974,
         "item_id": 149822334,
         "item_price": 11992471.062820962,
         "item_cnt_day": 15900,
         "total_income_14": 13670473.999999931,
         "_deepnote_index_column": 44
        },
        {
         "date_block_num": 214462,
         "item_id": 118330791,
         "item_price": 13187080.914907489,
         "item_cnt_day": 14818,
         "total_income_14": 15844165.499999912,
         "_deepnote_index_column": 45
        },
        {
         "date_block_num": 403672,
         "item_id": 224402629,
         "item_price": 24192755.9406154,
         "item_cnt_day": 27442,
         "total_income_14": 29626232.500000212,
         "_deepnote_index_column": 46
        },
        {
         "date_block_num": 377868,
         "item_id": 193973039,
         "item_price": 25738505.82520036,
         "item_cnt_day": 25940,
         "total_income_14": 31715926.000000115,
         "_deepnote_index_column": 47
        },
        {
         "date_block_num": 216532,
         "item_id": 106786221,
         "item_price": 12728821.813725494,
         "item_cnt_day": 13458,
         "total_income_14": 15048874.159999914,
         "_deepnote_index_column": 48
        },
        {
         "date_block_num": 153388,
         "item_id": 83089478,
         "item_price": 10189886.573333362,
         "item_cnt_day": 9282,
         "total_income_14": 11302010.000000132,
         "_deepnote_index_column": 49
        },
        {
         "date_block_num": 350916,
         "item_id": 210653405,
         "item_price": 22030564.35156657,
         "item_cnt_day": 24026,
         "total_income_14": 26232764.999999873,
         "_deepnote_index_column": 50
        },
        {
         "date_block_num": 262175,
         "item_id": 168078360,
         "item_price": 8860213.709999975,
         "item_cnt_day": 16210,
         "total_income_14": 9688030.899999995,
         "_deepnote_index_column": 51
        },
        {
         "date_block_num": 269992,
         "item_id": 149147088,
         "item_price": 15409988.116415085,
         "item_cnt_day": 17603,
         "total_income_14": 18377508.769999675,
         "_deepnote_index_column": 52
        },
        {
         "date_block_num": 339079,
         "item_id": 176986881,
         "item_price": 19623393.083106987,
         "item_cnt_day": 22801,
         "total_income_14": 23060126.75000025,
         "_deepnote_index_column": 53
        },
        {
         "date_block_num": 969521,
         "item_id": 610900397,
         "item_price": 47948504.212681204,
         "item_cnt_day": 73953,
         "total_income_14": 63183227.499999404,
         "_deepnote_index_column": 54
        },
        {
         "date_block_num": 275320,
         "item_id": 99049350,
         "item_price": 8708860.25632479,
         "item_cnt_day": 24287,
         "total_income_14": 17845836.250000026,
         "_deepnote_index_column": 55
        },
        {
         "date_block_num": 439227,
         "item_id": 274899888,
         "item_price": 19824216.380181834,
         "item_cnt_day": 28356,
         "total_income_14": 22260984.000000015,
         "_deepnote_index_column": 56
        },
        {
         "date_block_num": 756217,
         "item_id": 483596894,
         "item_price": 37380549.48650071,
         "item_cnt_day": 52836,
         "total_income_14": 46771059.99999985,
         "_deepnote_index_column": 57
        },
        {
         "date_block_num": 478743,
         "item_id": 295246302,
         "item_price": 24038553.663035978,
         "item_cnt_day": 31543,
         "total_income_14": 29003559.300000124,
         "_deepnote_index_column": 58
        },
        {
         "date_block_num": 244723,
         "item_id": 137071849,
         "item_price": 14294981.479949532,
         "item_cnt_day": 16249,
         "total_income_14": 17556727.000000082,
         "_deepnote_index_column": 59
        }
       ],
       "rows_bottom": null
      },
      "text/plain": "         date_block_num    item_id    item_price  item_cnt_day  \\\nshop_id                                                          \n2                179035   83280536  1.493348e+07       12247.0   \n3                170929   86364857  1.079431e+07       11039.0   \n4                238779  123118075  1.402430e+07       15909.0   \n5                262842  148542142  1.449206e+07       17041.0   \n6                505507  287568449  2.904261e+07       35496.0   \n7                367622  199780518  2.232456e+07       24530.0   \n9                 29757   18231529  1.839812e+06        6155.0   \n10               135064   70504092  6.879313e+06        8859.0   \n12               222460  126081526  1.914270e+07       26379.0   \n13                84443   69333997  2.006851e+06        6234.0   \n14               217990  109668669  1.397012e+07       16003.0   \n15               358367  194319754  2.118359e+07       24854.0   \n16               290239  157267084  1.808968e+07       19569.0   \n17               235966  132560867  1.486736e+07       15308.0   \n18               266764  136475227  2.118037e+07       18815.0   \n19               384505  213063196  2.074273e+07       25353.0   \n20                19824   16529817  1.144219e+06        3262.0   \n21               377523  226718441  2.038614e+07       25168.0   \n22               270083  150013360  1.590513e+07       20341.0   \n24               332964  173461805  2.221685e+07       23402.0   \n25              1116375  676272908  5.716877e+07       82841.0   \n26               320039  181219242  1.798611e+07       23182.0   \n27               733400  399349854  4.619265e+07       56028.0   \n28               870715  520922197  4.772492e+07       65964.0   \n29               319606  180057089  1.892841e+07       21656.0   \n30               353252  213081470  1.791536e+07       24796.0   \n31              1466268  915496571  6.434240e+07      110812.0   \n33                62924   30063893  3.268632e+06        3193.0   \n34                41721   19724595  2.773906e+06        2201.0   \n35               377940  203076893  2.292839e+07       25553.0   \n37               216615  116728264  1.353210e+07       14558.0   \n38               294955  147390155  2.076179e+07       19646.0   \n39               128093   69483849  7.573200e+06        8415.0   \n40                73767   51151937  3.640993e+06        4512.0   \n41               234441  131958936  1.352983e+07       16176.0   \n42               675927  402159667  3.780783e+07       50224.0   \n43               315396  171585428  2.203385e+07       23169.0   \n44               236974  149822334  1.199247e+07       15900.0   \n45               214462  118330791  1.318708e+07       14818.0   \n46               403672  224402629  2.419276e+07       27442.0   \n47               377868  193973039  2.573851e+07       25940.0   \n48               216532  106786221  1.272882e+07       13458.0   \n49               153388   83089478  1.018989e+07        9282.0   \n50               350916  210653405  2.203056e+07       24026.0   \n51               262175  168078360  8.860214e+06       16210.0   \n52               269992  149147088  1.540999e+07       17603.0   \n53               339079  176986881  1.962339e+07       22801.0   \n54               969521  610900397  4.794850e+07       73953.0   \n55               275320   99049350  8.708860e+06       24287.0   \n56               439227  274899888  1.982422e+07       28356.0   \n57               756217  483596894  3.738055e+07       52836.0   \n58               478743  295246302  2.403855e+07       31543.0   \n59               244723  137071849  1.429498e+07       16249.0   \n\n         total_income_14  \nshop_id                   \n2           1.909542e+07  \n3           1.250937e+07  \n4           1.590347e+07  \n5           1.686703e+07  \n6           3.798799e+07  \n7           2.656249e+07  \n9           6.615741e+06  \n10          7.944205e+06  \n12          4.329083e+07  \n13          2.128062e+06  \n14          1.827954e+07  \n15          2.630058e+07  \n16          2.149076e+07  \n17          1.734880e+07  \n18          2.775800e+07  \n19          2.472331e+07  \n20          3.504558e+06  \n21          2.456880e+07  \n22          2.189779e+07  \n24          2.665178e+07  \n25          8.044576e+07  \n26          2.497058e+07  \n27          6.336708e+07  \n28          6.160952e+07  \n29          2.361708e+07  \n30          2.137188e+07  \n31          8.914861e+07  \n33          3.537671e+06  \n34          3.046621e+06  \n35          2.824744e+07  \n37          1.688582e+07  \n38          2.562518e+07  \n39          9.058101e+06  \n40          3.859533e+06  \n41          1.619047e+07  \n42          5.495121e+07  \n43          3.247689e+07  \n44          1.367047e+07  \n45          1.584417e+07  \n46          2.962623e+07  \n47          3.171593e+07  \n48          1.504887e+07  \n49          1.130201e+07  \n50          2.623276e+07  \n51          9.688031e+06  \n52          1.837751e+07  \n53          2.306013e+07  \n54          6.318323e+07  \n55          1.784584e+07  \n56          2.226098e+07  \n57          4.677106e+07  \n58          2.900356e+07  \n59          1.755673e+07  ",
      "text/html": "<div>\n<style scoped>\n    .dataframe tbody tr th:only-of-type {\n        vertical-align: middle;\n    }\n\n    .dataframe tbody tr th {\n        vertical-align: top;\n    }\n\n    .dataframe thead th {\n        text-align: right;\n    }\n</style>\n<table border=\"1\" class=\"dataframe\">\n  <thead>\n    <tr style=\"text-align: right;\">\n      <th></th>\n      <th>date_block_num</th>\n      <th>item_id</th>\n      <th>item_price</th>\n      <th>item_cnt_day</th>\n      <th>total_income_14</th>\n    </tr>\n    <tr>\n      <th>shop_id</th>\n      <th></th>\n      <th></th>\n      <th></th>\n      <th></th>\n      <th></th>\n    </tr>\n  </thead>\n  <tbody>\n    <tr>\n      <th>2</th>\n      <td>179035</td>\n      <td>83280536</td>\n      <td>1.493348e+07</td>\n      <td>12247.0</td>\n      <td>1.909542e+07</td>\n    </tr>\n    <tr>\n      <th>3</th>\n      <td>170929</td>\n      <td>86364857</td>\n      <td>1.079431e+07</td>\n      <td>11039.0</td>\n      <td>1.250937e+07</td>\n    </tr>\n    <tr>\n      <th>4</th>\n      <td>238779</td>\n      <td>123118075</td>\n      <td>1.402430e+07</td>\n      <td>15909.0</td>\n      <td>1.590347e+07</td>\n    </tr>\n    <tr>\n      <th>5</th>\n      <td>262842</td>\n      <td>148542142</td>\n      <td>1.449206e+07</td>\n      <td>17041.0</td>\n      <td>1.686703e+07</td>\n    </tr>\n    <tr>\n      <th>6</th>\n      <td>505507</td>\n      <td>287568449</td>\n      <td>2.904261e+07</td>\n      <td>35496.0</td>\n      <td>3.798799e+07</td>\n    </tr>\n    <tr>\n      <th>7</th>\n      <td>367622</td>\n      <td>199780518</td>\n      <td>2.232456e+07</td>\n      <td>24530.0</td>\n      <td>2.656249e+07</td>\n    </tr>\n    <tr>\n      <th>9</th>\n      <td>29757</td>\n      <td>18231529</td>\n      <td>1.839812e+06</td>\n      <td>6155.0</td>\n      <td>6.615741e+06</td>\n    </tr>\n    <tr>\n      <th>10</th>\n      <td>135064</td>\n      <td>70504092</td>\n      <td>6.879313e+06</td>\n      <td>8859.0</td>\n      <td>7.944205e+06</td>\n    </tr>\n    <tr>\n      <th>12</th>\n      <td>222460</td>\n      <td>126081526</td>\n      <td>1.914270e+07</td>\n      <td>26379.0</td>\n      <td>4.329083e+07</td>\n    </tr>\n    <tr>\n      <th>13</th>\n      <td>84443</td>\n      <td>69333997</td>\n      <td>2.006851e+06</td>\n      <td>6234.0</td>\n      <td>2.128062e+06</td>\n    </tr>\n    <tr>\n      <th>14</th>\n      <td>217990</td>\n      <td>109668669</td>\n      <td>1.397012e+07</td>\n      <td>16003.0</td>\n      <td>1.827954e+07</td>\n    </tr>\n    <tr>\n      <th>15</th>\n      <td>358367</td>\n      <td>194319754</td>\n      <td>2.118359e+07</td>\n      <td>24854.0</td>\n      <td>2.630058e+07</td>\n    </tr>\n    <tr>\n      <th>16</th>\n      <td>290239</td>\n      <td>157267084</td>\n      <td>1.808968e+07</td>\n      <td>19569.0</td>\n      <td>2.149076e+07</td>\n    </tr>\n    <tr>\n      <th>17</th>\n      <td>235966</td>\n      <td>132560867</td>\n      <td>1.486736e+07</td>\n      <td>15308.0</td>\n      <td>1.734880e+07</td>\n    </tr>\n    <tr>\n      <th>18</th>\n      <td>266764</td>\n      <td>136475227</td>\n      <td>2.118037e+07</td>\n      <td>18815.0</td>\n      <td>2.775800e+07</td>\n    </tr>\n    <tr>\n      <th>19</th>\n      <td>384505</td>\n      <td>213063196</td>\n      <td>2.074273e+07</td>\n      <td>25353.0</td>\n      <td>2.472331e+07</td>\n    </tr>\n    <tr>\n      <th>20</th>\n      <td>19824</td>\n      <td>16529817</td>\n      <td>1.144219e+06</td>\n      <td>3262.0</td>\n      <td>3.504558e+06</td>\n    </tr>\n    <tr>\n      <th>21</th>\n      <td>377523</td>\n      <td>226718441</td>\n      <td>2.038614e+07</td>\n      <td>25168.0</td>\n      <td>2.456880e+07</td>\n    </tr>\n    <tr>\n      <th>22</th>\n      <td>270083</td>\n      <td>150013360</td>\n      <td>1.590513e+07</td>\n      <td>20341.0</td>\n      <td>2.189779e+07</td>\n    </tr>\n    <tr>\n      <th>24</th>\n      <td>332964</td>\n      <td>173461805</td>\n      <td>2.221685e+07</td>\n      <td>23402.0</td>\n      <td>2.665178e+07</td>\n    </tr>\n    <tr>\n      <th>25</th>\n      <td>1116375</td>\n      <td>676272908</td>\n      <td>5.716877e+07</td>\n      <td>82841.0</td>\n      <td>8.044576e+07</td>\n    </tr>\n    <tr>\n      <th>26</th>\n      <td>320039</td>\n      <td>181219242</td>\n      <td>1.798611e+07</td>\n      <td>23182.0</td>\n      <td>2.497058e+07</td>\n    </tr>\n    <tr>\n      <th>27</th>\n      <td>733400</td>\n      <td>399349854</td>\n      <td>4.619265e+07</td>\n      <td>56028.0</td>\n      <td>6.336708e+07</td>\n    </tr>\n    <tr>\n      <th>28</th>\n      <td>870715</td>\n      <td>520922197</td>\n      <td>4.772492e+07</td>\n      <td>65964.0</td>\n      <td>6.160952e+07</td>\n    </tr>\n    <tr>\n      <th>29</th>\n      <td>319606</td>\n      <td>180057089</td>\n      <td>1.892841e+07</td>\n      <td>21656.0</td>\n      <td>2.361708e+07</td>\n    </tr>\n    <tr>\n      <th>30</th>\n      <td>353252</td>\n      <td>213081470</td>\n      <td>1.791536e+07</td>\n      <td>24796.0</td>\n      <td>2.137188e+07</td>\n    </tr>\n    <tr>\n      <th>31</th>\n      <td>1466268</td>\n      <td>915496571</td>\n      <td>6.434240e+07</td>\n      <td>110812.0</td>\n      <td>8.914861e+07</td>\n    </tr>\n    <tr>\n      <th>33</th>\n      <td>62924</td>\n      <td>30063893</td>\n      <td>3.268632e+06</td>\n      <td>3193.0</td>\n      <td>3.537671e+06</td>\n    </tr>\n    <tr>\n      <th>34</th>\n      <td>41721</td>\n      <td>19724595</td>\n      <td>2.773906e+06</td>\n      <td>2201.0</td>\n      <td>3.046621e+06</td>\n    </tr>\n    <tr>\n      <th>35</th>\n      <td>377940</td>\n      <td>203076893</td>\n      <td>2.292839e+07</td>\n      <td>25553.0</td>\n      <td>2.824744e+07</td>\n    </tr>\n    <tr>\n      <th>37</th>\n      <td>216615</td>\n      <td>116728264</td>\n      <td>1.353210e+07</td>\n      <td>14558.0</td>\n      <td>1.688582e+07</td>\n    </tr>\n    <tr>\n      <th>38</th>\n      <td>294955</td>\n      <td>147390155</td>\n      <td>2.076179e+07</td>\n      <td>19646.0</td>\n      <td>2.562518e+07</td>\n    </tr>\n    <tr>\n      <th>39</th>\n      <td>128093</td>\n      <td>69483849</td>\n      <td>7.573200e+06</td>\n      <td>8415.0</td>\n      <td>9.058101e+06</td>\n    </tr>\n    <tr>\n      <th>40</th>\n      <td>73767</td>\n      <td>51151937</td>\n      <td>3.640993e+06</td>\n      <td>4512.0</td>\n      <td>3.859533e+06</td>\n    </tr>\n    <tr>\n      <th>41</th>\n      <td>234441</td>\n      <td>131958936</td>\n      <td>1.352983e+07</td>\n      <td>16176.0</td>\n      <td>1.619047e+07</td>\n    </tr>\n    <tr>\n      <th>42</th>\n      <td>675927</td>\n      <td>402159667</td>\n      <td>3.780783e+07</td>\n      <td>50224.0</td>\n      <td>5.495121e+07</td>\n    </tr>\n    <tr>\n      <th>43</th>\n      <td>315396</td>\n      <td>171585428</td>\n      <td>2.203385e+07</td>\n      <td>23169.0</td>\n      <td>3.247689e+07</td>\n    </tr>\n    <tr>\n      <th>44</th>\n      <td>236974</td>\n      <td>149822334</td>\n      <td>1.199247e+07</td>\n      <td>15900.0</td>\n      <td>1.367047e+07</td>\n    </tr>\n    <tr>\n      <th>45</th>\n      <td>214462</td>\n      <td>118330791</td>\n      <td>1.318708e+07</td>\n      <td>14818.0</td>\n      <td>1.584417e+07</td>\n    </tr>\n    <tr>\n      <th>46</th>\n      <td>403672</td>\n      <td>224402629</td>\n      <td>2.419276e+07</td>\n      <td>27442.0</td>\n      <td>2.962623e+07</td>\n    </tr>\n    <tr>\n      <th>47</th>\n      <td>377868</td>\n      <td>193973039</td>\n      <td>2.573851e+07</td>\n      <td>25940.0</td>\n      <td>3.171593e+07</td>\n    </tr>\n    <tr>\n      <th>48</th>\n      <td>216532</td>\n      <td>106786221</td>\n      <td>1.272882e+07</td>\n      <td>13458.0</td>\n      <td>1.504887e+07</td>\n    </tr>\n    <tr>\n      <th>49</th>\n      <td>153388</td>\n      <td>83089478</td>\n      <td>1.018989e+07</td>\n      <td>9282.0</td>\n      <td>1.130201e+07</td>\n    </tr>\n    <tr>\n      <th>50</th>\n      <td>350916</td>\n      <td>210653405</td>\n      <td>2.203056e+07</td>\n      <td>24026.0</td>\n      <td>2.623276e+07</td>\n    </tr>\n    <tr>\n      <th>51</th>\n      <td>262175</td>\n      <td>168078360</td>\n      <td>8.860214e+06</td>\n      <td>16210.0</td>\n      <td>9.688031e+06</td>\n    </tr>\n    <tr>\n      <th>52</th>\n      <td>269992</td>\n      <td>149147088</td>\n      <td>1.540999e+07</td>\n      <td>17603.0</td>\n      <td>1.837751e+07</td>\n    </tr>\n    <tr>\n      <th>53</th>\n      <td>339079</td>\n      <td>176986881</td>\n      <td>1.962339e+07</td>\n      <td>22801.0</td>\n      <td>2.306013e+07</td>\n    </tr>\n    <tr>\n      <th>54</th>\n      <td>969521</td>\n      <td>610900397</td>\n      <td>4.794850e+07</td>\n      <td>73953.0</td>\n      <td>6.318323e+07</td>\n    </tr>\n    <tr>\n      <th>55</th>\n      <td>275320</td>\n      <td>99049350</td>\n      <td>8.708860e+06</td>\n      <td>24287.0</td>\n      <td>1.784584e+07</td>\n    </tr>\n    <tr>\n      <th>56</th>\n      <td>439227</td>\n      <td>274899888</td>\n      <td>1.982422e+07</td>\n      <td>28356.0</td>\n      <td>2.226098e+07</td>\n    </tr>\n    <tr>\n      <th>57</th>\n      <td>756217</td>\n      <td>483596894</td>\n      <td>3.738055e+07</td>\n      <td>52836.0</td>\n      <td>4.677106e+07</td>\n    </tr>\n    <tr>\n      <th>58</th>\n      <td>478743</td>\n      <td>295246302</td>\n      <td>2.403855e+07</td>\n      <td>31543.0</td>\n      <td>2.900356e+07</td>\n    </tr>\n    <tr>\n      <th>59</th>\n      <td>244723</td>\n      <td>137071849</td>\n      <td>1.429498e+07</td>\n      <td>16249.0</td>\n      <td>1.755673e+07</td>\n    </tr>\n  </tbody>\n</table>\n</div>"
     },
     "metadata": {}
    }
   ],
   "execution_count": 54
  },
  {
   "cell_type": "code",
   "source": "df_2015.groupby([\"shop_id\"]).sum()",
   "metadata": {
    "tags": [],
    "cell_id": "00026-84110113-d094-4d68-88ea-f78e15be0f81",
    "deepnote_to_be_reexecuted": false,
    "source_hash": "c000e531",
    "execution_start": 1620733984181,
    "execution_millis": 52,
    "deepnote_cell_type": "code"
   },
   "outputs": [
    {
     "output_type": "execute_result",
     "execution_count": 55,
     "data": {
      "application/vnd.deepnote.dataframe.v2+json": {
       "row_count": 54,
       "column_count": 5,
       "columns": [
        {
         "name": "date_block_num",
         "dtype": "int64",
         "stats": {
          "unique_count": 54,
          "nan_count": 0,
          "min": "9696",
          "max": "1496870",
          "histogram": [
           {
            "bin_start": 9696,
            "bin_end": 158413.4,
            "count": 12
           },
           {
            "bin_start": 158413.4,
            "bin_end": 307130.8,
            "count": 19
           },
           {
            "bin_start": 307130.8,
            "bin_end": 455848.19999999995,
            "count": 17
           },
           {
            "bin_start": 455848.19999999995,
            "bin_end": 604565.6,
            "count": 1
           },
           {
            "bin_start": 604565.6,
            "bin_end": 753283,
            "count": 1
           },
           {
            "bin_start": 753283,
            "bin_end": 902000.3999999999,
            "count": 2
           },
           {
            "bin_start": 902000.3999999999,
            "bin_end": 1050717.7999999998,
            "count": 0
           },
           {
            "bin_start": 1050717.7999999998,
            "bin_end": 1199435.2,
            "count": 0
           },
           {
            "bin_start": 1199435.2,
            "bin_end": 1348152.5999999999,
            "count": 1
           },
           {
            "bin_start": 1348152.5999999999,
            "bin_end": 1496870,
            "count": 1
           }
          ]
         }
        },
        {
         "name": "item_id",
         "dtype": "int64",
         "stats": {
          "unique_count": 54,
          "nan_count": 0,
          "min": "3398305",
          "max": "610996897",
          "histogram": [
           {
            "bin_start": 3398305,
            "bin_end": 64158164.2,
            "count": 13
           },
           {
            "bin_start": 64158164.2,
            "bin_end": 124918023.4,
            "count": 25
           },
           {
            "bin_start": 124918023.4,
            "bin_end": 185677882.60000002,
            "count": 10
           },
           {
            "bin_start": 185677882.60000002,
            "bin_end": 246437741.8,
            "count": 1
           },
           {
            "bin_start": 246437741.8,
            "bin_end": 307197601,
            "count": 1
           },
           {
            "bin_start": 307197601,
            "bin_end": 367957460.20000005,
            "count": 2
           },
           {
            "bin_start": 367957460.20000005,
            "bin_end": 428717319.40000004,
            "count": 0
           },
           {
            "bin_start": 428717319.40000004,
            "bin_end": 489477178.6,
            "count": 0
           },
           {
            "bin_start": 489477178.6,
            "bin_end": 550237037.8000001,
            "count": 1
           },
           {
            "bin_start": 550237037.8000001,
            "bin_end": 610996897,
            "count": 1
           }
          ]
         }
        },
        {
         "name": "item_price",
         "dtype": "float64",
         "stats": {
          "unique_count": 54,
          "nan_count": 0,
          "min": "355072.0",
          "max": "44612318.924772955",
          "histogram": [
           {
            "bin_start": 355072,
            "bin_end": 4780796.692477295,
            "count": 11
           },
           {
            "bin_start": 4780796.692477295,
            "bin_end": 9206521.38495459,
            "count": 11
           },
           {
            "bin_start": 9206521.38495459,
            "bin_end": 13632246.077431886,
            "count": 14
           },
           {
            "bin_start": 13632246.077431886,
            "bin_end": 18057970.76990918,
            "count": 11
           },
           {
            "bin_start": 18057970.76990918,
            "bin_end": 22483695.462386474,
            "count": 2
           },
           {
            "bin_start": 22483695.462386474,
            "bin_end": 26909420.15486377,
            "count": 1
           },
           {
            "bin_start": 26909420.15486377,
            "bin_end": 31335144.847341068,
            "count": 0
           },
           {
            "bin_start": 31335144.847341068,
            "bin_end": 35760869.53981836,
            "count": 2
           },
           {
            "bin_start": 35760869.53981836,
            "bin_end": 40186594.232295655,
            "count": 0
           },
           {
            "bin_start": 40186594.232295655,
            "bin_end": 44612318.924772955,
            "count": 2
           }
          ]
         }
        },
        {
         "name": "item_cnt_day",
         "dtype": "float64",
         "stats": {
          "unique_count": 54,
          "nan_count": 0,
          "min": "333.0",
          "max": "67769.0",
          "histogram": [
           {
            "bin_start": 333,
            "bin_end": 7076.6,
            "count": 13
           },
           {
            "bin_start": 7076.6,
            "bin_end": 13820.2,
            "count": 22
           },
           {
            "bin_start": 13820.2,
            "bin_end": 20563.800000000003,
            "count": 11
           },
           {
            "bin_start": 20563.800000000003,
            "bin_end": 27307.4,
            "count": 1
           },
           {
            "bin_start": 27307.4,
            "bin_end": 34051,
            "count": 3
           },
           {
            "bin_start": 34051,
            "bin_end": 40794.600000000006,
            "count": 1
           },
           {
            "bin_start": 40794.600000000006,
            "bin_end": 47538.200000000004,
            "count": 1
           },
           {
            "bin_start": 47538.200000000004,
            "bin_end": 54281.8,
            "count": 0
           },
           {
            "bin_start": 54281.8,
            "bin_end": 61025.4,
            "count": 1
           },
           {
            "bin_start": 61025.4,
            "bin_end": 67769,
            "count": 1
           }
          ]
         }
        },
        {
         "name": "total_income_15",
         "dtype": "float64",
         "stats": {
          "unique_count": 54,
          "nan_count": 0,
          "min": "379461.0",
          "max": "60860047.99999997",
          "histogram": [
           {
            "bin_start": 379461,
            "bin_end": 6427519.699999997,
            "count": 12
           },
           {
            "bin_start": 6427519.699999997,
            "bin_end": 12475578.399999995,
            "count": 13
           },
           {
            "bin_start": 12475578.399999995,
            "bin_end": 18523637.099999994,
            "count": 16
           },
           {
            "bin_start": 18523637.099999994,
            "bin_end": 24571695.79999999,
            "count": 5
           },
           {
            "bin_start": 24571695.79999999,
            "bin_end": 30619754.499999985,
            "count": 3
           },
           {
            "bin_start": 30619754.499999985,
            "bin_end": 36667813.19999999,
            "count": 0
           },
           {
            "bin_start": 36667813.19999999,
            "bin_end": 42715871.89999998,
            "count": 2
           },
           {
            "bin_start": 42715871.89999998,
            "bin_end": 48763930.59999998,
            "count": 0
           },
           {
            "bin_start": 48763930.59999998,
            "bin_end": 54811989.299999975,
            "count": 1
           },
           {
            "bin_start": 54811989.299999975,
            "bin_end": 60860047.99999997,
            "count": 2
           }
          ]
         }
        },
        {
         "name": "_deepnote_index_column",
         "dtype": "int64"
        }
       ],
       "rows_top": [
        {
         "date_block_num": 203231,
         "item_id": 65646918,
         "item_price": 9704363.947120382,
         "item_cnt_day": 8470,
         "total_income_15": 11935110.999999749,
         "_deepnote_index_column": 2
        },
        {
         "date_block_num": 180380,
         "item_id": 58330706,
         "item_price": 8127820.446249991,
         "item_cnt_day": 7194,
         "total_income_15": 9152853.840000026,
         "_deepnote_index_column": 3
        },
        {
         "date_block_num": 224204,
         "item_id": 78807345,
         "item_price": 7833780.281643329,
         "item_cnt_day": 9106,
         "total_income_15": 8889768.500000015,
         "_deepnote_index_column": 4
        },
        {
         "date_block_num": 280722,
         "item_id": 103824865,
         "item_price": 9454979.560703555,
         "item_cnt_day": 11089,
         "total_income_15": 10605672.169999901,
         "_deepnote_index_column": 5
        },
        {
         "date_block_num": 441693,
         "item_id": 160598359,
         "item_price": 17318873.673711628,
         "item_cnt_day": 18554,
         "total_income_15": 22481090.99999958,
         "_deepnote_index_column": 6
        },
        {
         "date_block_num": 355238,
         "item_id": 126371073,
         "item_price": 14396145.46775808,
         "item_cnt_day": 14411,
         "total_income_15": 16651161.890000118,
         "_deepnote_index_column": 7
        },
        {
         "date_block_num": 27819,
         "item_id": 13347618,
         "item_price": 1247866.033800712,
         "item_cnt_day": 3188,
         "total_income_15": 3921876.00000002,
         "_deepnote_index_column": 9
        },
        {
         "date_block_num": 113599,
         "item_id": 39127973,
         "item_price": 3417937.3400000082,
         "item_cnt_day": 4532,
         "total_income_15": 4010306.840000006,
         "_deepnote_index_column": 10
        },
        {
         "date_block_num": 12475,
         "item_id": 4839666,
         "item_price": 479842.45999999985,
         "item_cnt_day": 572,
         "total_income_15": 521655.13999999984,
         "_deepnote_index_column": 11
        },
        {
         "date_block_num": 311607,
         "item_id": 115411289,
         "item_price": 16102754.959672812,
         "item_cnt_day": 28116,
         "total_income_15": 37191393.65000014,
         "_deepnote_index_column": 12
        },
        {
         "date_block_num": 239498,
         "item_id": 80071292,
         "item_price": 9726585.77605342,
         "item_cnt_day": 10397,
         "total_income_15": 12389594.650000054,
         "_deepnote_index_column": 14
        },
        {
         "date_block_num": 337479,
         "item_id": 116055180,
         "item_price": 14642960.941942668,
         "item_cnt_day": 14138,
         "total_income_15": 17525640.00000004,
         "_deepnote_index_column": 15
        },
        {
         "date_block_num": 292448,
         "item_id": 100131534,
         "item_price": 12283971.857538238,
         "item_cnt_day": 11953,
         "total_income_15": 14232512.999999823,
         "_deepnote_index_column": 16
        },
        {
         "date_block_num": 15744,
         "item_id": 6485611,
         "item_price": 803018.9333333302,
         "item_cnt_day": 697,
         "total_income_15": 918424.9999999902,
         "_deepnote_index_column": 17
        },
        {
         "date_block_num": 311771,
         "item_id": 101539333,
         "item_price": 14045721.846219487,
         "item_cnt_day": 13174,
         "total_income_15": 18023902.35000026,
         "_deepnote_index_column": 18
        },
        {
         "date_block_num": 383582,
         "item_id": 139594187,
         "item_price": 13669389.380625067,
         "item_cnt_day": 15455,
         "total_income_15": 16020207.880000023,
         "_deepnote_index_column": 19
        },
        {
         "date_block_num": 27951,
         "item_id": 13563669,
         "item_price": 1239048.0904168098,
         "item_cnt_day": 2611,
         "total_income_15": 3101364.999999994,
         "_deepnote_index_column": 20
        },
        {
         "date_block_num": 431873,
         "item_id": 167223064,
         "item_price": 16416473.550490031,
         "item_cnt_day": 18259,
         "total_income_15": 20225724.49999995,
         "_deepnote_index_column": 21
        },
        {
         "date_block_num": 285979,
         "item_id": 102726061,
         "item_price": 10270556.505105443,
         "item_cnt_day": 13050,
         "total_income_15": 15101952.999999505,
         "_deepnote_index_column": 22
        },
        {
         "date_block_num": 302091,
         "item_id": 97418483,
         "item_price": 13442287.276066182,
         "item_cnt_day": 12604,
         "total_income_15": 16158937.000000214,
         "_deepnote_index_column": 24
        },
        {
         "date_block_num": 1249922,
         "item_id": 492991937,
         "item_price": 44612318.924772955,
         "item_cnt_day": 56714,
         "total_income_15": 60860047.99999997,
         "_deepnote_index_column": 25
        },
        {
         "date_block_num": 309614,
         "item_id": 111244360,
         "item_price": 12373986.329778418,
         "item_cnt_day": 13565,
         "total_income_15": 17303127.32000008,
         "_deepnote_index_column": 26
        },
        {
         "date_block_num": 552936,
         "item_id": 213330493,
         "item_price": 24439147.564973038,
         "item_cnt_day": 26307,
         "total_income_15": 30375954.44999996,
         "_deepnote_index_column": 27
        },
        {
         "date_block_num": 901179,
         "item_id": 341465843,
         "item_price": 34945639.186038494,
         "item_cnt_day": 40049,
         "total_income_15": 42384322.54999972,
         "_deepnote_index_column": 28
        },
        {
         "date_block_num": 138985,
         "item_id": 55603123,
         "item_price": 6398965.782761993,
         "item_cnt_day": 6195,
         "total_income_15": 7657364.999999798,
         "_deepnote_index_column": 29
        },
        {
         "date_block_num": 55466,
         "item_id": 24550539,
         "item_price": 2442547.7816666667,
         "item_cnt_day": 2593,
         "total_income_15": 2589991.0000000005,
         "_deepnote_index_column": 30
        },
        {
         "date_block_num": 1496870,
         "item_id": 610996897,
         "item_price": 44564577.85341412,
         "item_cnt_day": 67769,
         "total_income_15": 58582324.53999877,
         "_deepnote_index_column": 31
        },
        {
         "date_block_num": 51947,
         "item_id": 22391552,
         "item_price": 2291623.185238097,
         "item_cnt_day": 2311,
         "total_income_15": 2445255.00000001,
         "_deepnote_index_column": 33
        },
        {
         "date_block_num": 107109,
         "item_id": 35373924,
         "item_price": 4860854.784935065,
         "item_cnt_day": 4275,
         "total_income_15": 5596937.000000034,
         "_deepnote_index_column": 34
        },
        {
         "date_block_num": 376370,
         "item_id": 130386820,
         "item_price": 15972662.093567759,
         "item_cnt_day": 15479,
         "total_income_15": 18807471.099999852,
         "_deepnote_index_column": 35
        },
        {
         "date_block_num": 9999,
         "item_id": 3398305,
         "item_price": 355072,
         "item_cnt_day": 333,
         "total_income_15": 379461,
         "_deepnote_index_column": 36
        },
        {
         "date_block_num": 242758,
         "item_id": 80267341,
         "item_price": 10125499.799502656,
         "item_cnt_day": 10146,
         "total_income_15": 12597468.479999922,
         "_deepnote_index_column": 37
        },
        {
         "date_block_num": 334829,
         "item_id": 108907464,
         "item_price": 15860290.432948174,
         "item_cnt_day": 13750,
         "total_income_15": 18528010.34999982,
         "_deepnote_index_column": 38
        },
        {
         "date_block_num": 187146,
         "item_id": 70410263,
         "item_price": 7394094.695975545,
         "item_cnt_day": 8239,
         "total_income_15": 9079884.00000009,
         "_deepnote_index_column": 39
        },
        {
         "date_block_num": 9696,
         "item_id": 5508732,
         "item_price": 424394.9,
         "item_cnt_day": 444,
         "total_income_15": 448822.9,
         "_deepnote_index_column": 40
        },
        {
         "date_block_num": 209349,
         "item_id": 73686379,
         "item_price": 7897933.204069716,
         "item_cnt_day": 8505,
         "total_income_15": 9145563.49999953,
         "_deepnote_index_column": 41
        },
        {
         "date_block_num": 851476,
         "item_id": 324581826,
         "item_price": 31899834.110885262,
         "item_cnt_day": 41145,
         "total_income_15": 48967800.38999834,
         "_deepnote_index_column": 42
        },
        {
         "date_block_num": 27480,
         "item_id": 11847863,
         "item_price": 1733691.3866666667,
         "item_cnt_day": 1346,
         "total_income_15": 2094072.9999999986,
         "_deepnote_index_column": 43
        },
        {
         "date_block_num": 206963,
         "item_id": 82856637,
         "item_price": 6717316.392143792,
         "item_cnt_day": 8100,
         "total_income_15": 7739955.500000169,
         "_deepnote_index_column": 44
        },
        {
         "date_block_num": 187040,
         "item_id": 68508600,
         "item_price": 7219980.106046344,
         "item_cnt_day": 7531,
         "total_income_15": 8476353.29000002,
         "_deepnote_index_column": 45
        },
        {
         "date_block_num": 383629,
         "item_id": 136662118,
         "item_price": 14895602.355868274,
         "item_cnt_day": 15743,
         "total_income_15": 17466466.89000013,
         "_deepnote_index_column": 46
        },
        {
         "date_block_num": 452654,
         "item_id": 156164347,
         "item_price": 19834914.630892415,
         "item_cnt_day": 19524,
         "total_income_15": 23651698.78000046,
         "_deepnote_index_column": 47
        },
        {
         "date_block_num": 296280,
         "item_id": 104173830,
         "item_price": 11346770.443438575,
         "item_cnt_day": 11540,
         "total_income_15": 12887862.600000039,
         "_deepnote_index_column": 48
        },
        {
         "date_block_num": 199714,
         "item_id": 74672235,
         "item_price": 7748720.131190468,
         "item_cnt_day": 7653,
         "total_income_15": 8541575.999999937,
         "_deepnote_index_column": 49
        },
        {
         "date_block_num": 262572,
         "item_id": 95471046,
         "item_price": 11215074.349199137,
         "item_cnt_day": 10418,
         "total_income_15": 13070163.999999894,
         "_deepnote_index_column": 50
        },
        {
         "date_block_num": 170281,
         "item_id": 67548189,
         "item_price": 3573118.3899999927,
         "item_cnt_day": 6380,
         "total_income_15": 3807106.349999998,
         "_deepnote_index_column": 51
        },
        {
         "date_block_num": 258297,
         "item_id": 95559504,
         "item_price": 8878929.853430757,
         "item_cnt_day": 10154,
         "total_income_15": 10251945.149999978,
         "_deepnote_index_column": 52
        },
        {
         "date_block_num": 320760,
         "item_id": 113448419,
         "item_price": 11067513.003604606,
         "item_cnt_day": 12966,
         "total_income_15": 12795096.00000031,
         "_deepnote_index_column": 53
        },
        {
         "date_block_num": 331942,
         "item_id": 149390656,
         "item_price": 12819304.626260066,
         "item_cnt_day": 15669,
         "total_income_15": 15036040.000000084,
         "_deepnote_index_column": 54
        },
        {
         "date_block_num": 397914,
         "item_id": 105491153,
         "item_price": 10153575.221560648,
         "item_cnt_day": 31670,
         "total_income_15": 28940338.08999854,
         "_deepnote_index_column": 55
        },
        {
         "date_block_num": 384368,
         "item_id": 153436719,
         "item_price": 12596797.393277775,
         "item_cnt_day": 15230,
         "total_income_15": 13880414.899999924,
         "_deepnote_index_column": 56
        },
        {
         "date_block_num": 694721,
         "item_id": 279592984,
         "item_price": 21893573.49280465,
         "item_cnt_day": 28303,
         "total_income_15": 25686276.499999773,
         "_deepnote_index_column": 57
        },
        {
         "date_block_num": 455364,
         "item_id": 179942599,
         "item_price": 15816890.296857115,
         "item_cnt_day": 18123,
         "total_income_15": 18158483.09999992,
         "_deepnote_index_column": 58
        },
        {
         "date_block_num": 248642,
         "item_id": 88089548,
         "item_price": 8621037.431008385,
         "item_cnt_day": 10517,
         "total_income_15": 10394246.999999838,
         "_deepnote_index_column": 59
        }
       ],
       "rows_bottom": null
      },
      "text/plain": "         date_block_num    item_id    item_price  item_cnt_day  \\\nshop_id                                                          \n2                203231   65646918  9.704364e+06        8470.0   \n3                180380   58330706  8.127820e+06        7194.0   \n4                224204   78807345  7.833780e+06        9106.0   \n5                280722  103824865  9.454980e+06       11089.0   \n6                441693  160598359  1.731887e+07       18554.0   \n7                355238  126371073  1.439615e+07       14411.0   \n9                 27819   13347618  1.247866e+06        3188.0   \n10               113599   39127973  3.417937e+06        4532.0   \n11                12475    4839666  4.798425e+05         572.0   \n12               311607  115411289  1.610275e+07       28116.0   \n14               239498   80071292  9.726586e+06       10397.0   \n15               337479  116055180  1.464296e+07       14138.0   \n16               292448  100131534  1.228397e+07       11953.0   \n17                15744    6485611  8.030189e+05         697.0   \n18               311771  101539333  1.404572e+07       13174.0   \n19               383582  139594187  1.366939e+07       15455.0   \n20                27951   13563669  1.239048e+06        2611.0   \n21               431873  167223064  1.641647e+07       18259.0   \n22               285979  102726061  1.027056e+07       13050.0   \n24               302091   97418483  1.344229e+07       12604.0   \n25              1249922  492991937  4.461232e+07       56714.0   \n26               309614  111244360  1.237399e+07       13565.0   \n27               552936  213330493  2.443915e+07       26307.0   \n28               901179  341465843  3.494564e+07       40049.0   \n29               138985   55603123  6.398966e+06        6195.0   \n30                55466   24550539  2.442548e+06        2593.0   \n31              1496870  610996897  4.456458e+07       67769.0   \n33                51947   22391552  2.291623e+06        2311.0   \n34               107109   35373924  4.860855e+06        4275.0   \n35               376370  130386820  1.597266e+07       15479.0   \n36                 9999    3398305  3.550720e+05         333.0   \n37               242758   80267341  1.012550e+07       10146.0   \n38               334829  108907464  1.586029e+07       13750.0   \n39               187146   70410263  7.394095e+06        8239.0   \n40                 9696    5508732  4.243949e+05         444.0   \n41               209349   73686379  7.897933e+06        8505.0   \n42               851476  324581826  3.189983e+07       41145.0   \n43                27480   11847863  1.733691e+06        1346.0   \n44               206963   82856637  6.717316e+06        8100.0   \n45               187040   68508600  7.219980e+06        7531.0   \n46               383629  136662118  1.489560e+07       15743.0   \n47               452654  156164347  1.983491e+07       19524.0   \n48               296280  104173830  1.134677e+07       11540.0   \n49               199714   74672235  7.748720e+06        7653.0   \n50               262572   95471046  1.121507e+07       10418.0   \n51               170281   67548189  3.573118e+06        6380.0   \n52               258297   95559504  8.878930e+06       10154.0   \n53               320760  113448419  1.106751e+07       12966.0   \n54               331942  149390656  1.281930e+07       15669.0   \n55               397914  105491153  1.015358e+07       31670.0   \n56               384368  153436719  1.259680e+07       15230.0   \n57               694721  279592984  2.189357e+07       28303.0   \n58               455364  179942599  1.581689e+07       18123.0   \n59               248642   88089548  8.621037e+06       10517.0   \n\n         total_income_15  \nshop_id                   \n2           1.193511e+07  \n3           9.152854e+06  \n4           8.889769e+06  \n5           1.060567e+07  \n6           2.248109e+07  \n7           1.665116e+07  \n9           3.921876e+06  \n10          4.010307e+06  \n11          5.216551e+05  \n12          3.719139e+07  \n14          1.238959e+07  \n15          1.752564e+07  \n16          1.423251e+07  \n17          9.184250e+05  \n18          1.802390e+07  \n19          1.602021e+07  \n20          3.101365e+06  \n21          2.022572e+07  \n22          1.510195e+07  \n24          1.615894e+07  \n25          6.086005e+07  \n26          1.730313e+07  \n27          3.037595e+07  \n28          4.238432e+07  \n29          7.657365e+06  \n30          2.589991e+06  \n31          5.858232e+07  \n33          2.445255e+06  \n34          5.596937e+06  \n35          1.880747e+07  \n36          3.794610e+05  \n37          1.259747e+07  \n38          1.852801e+07  \n39          9.079884e+06  \n40          4.488229e+05  \n41          9.145563e+06  \n42          4.896780e+07  \n43          2.094073e+06  \n44          7.739956e+06  \n45          8.476353e+06  \n46          1.746647e+07  \n47          2.365170e+07  \n48          1.288786e+07  \n49          8.541576e+06  \n50          1.307016e+07  \n51          3.807106e+06  \n52          1.025195e+07  \n53          1.279510e+07  \n54          1.503604e+07  \n55          2.894034e+07  \n56          1.388041e+07  \n57          2.568628e+07  \n58          1.815848e+07  \n59          1.039425e+07  ",
      "text/html": "<div>\n<style scoped>\n    .dataframe tbody tr th:only-of-type {\n        vertical-align: middle;\n    }\n\n    .dataframe tbody tr th {\n        vertical-align: top;\n    }\n\n    .dataframe thead th {\n        text-align: right;\n    }\n</style>\n<table border=\"1\" class=\"dataframe\">\n  <thead>\n    <tr style=\"text-align: right;\">\n      <th></th>\n      <th>date_block_num</th>\n      <th>item_id</th>\n      <th>item_price</th>\n      <th>item_cnt_day</th>\n      <th>total_income_15</th>\n    </tr>\n    <tr>\n      <th>shop_id</th>\n      <th></th>\n      <th></th>\n      <th></th>\n      <th></th>\n      <th></th>\n    </tr>\n  </thead>\n  <tbody>\n    <tr>\n      <th>2</th>\n      <td>203231</td>\n      <td>65646918</td>\n      <td>9.704364e+06</td>\n      <td>8470.0</td>\n      <td>1.193511e+07</td>\n    </tr>\n    <tr>\n      <th>3</th>\n      <td>180380</td>\n      <td>58330706</td>\n      <td>8.127820e+06</td>\n      <td>7194.0</td>\n      <td>9.152854e+06</td>\n    </tr>\n    <tr>\n      <th>4</th>\n      <td>224204</td>\n      <td>78807345</td>\n      <td>7.833780e+06</td>\n      <td>9106.0</td>\n      <td>8.889769e+06</td>\n    </tr>\n    <tr>\n      <th>5</th>\n      <td>280722</td>\n      <td>103824865</td>\n      <td>9.454980e+06</td>\n      <td>11089.0</td>\n      <td>1.060567e+07</td>\n    </tr>\n    <tr>\n      <th>6</th>\n      <td>441693</td>\n      <td>160598359</td>\n      <td>1.731887e+07</td>\n      <td>18554.0</td>\n      <td>2.248109e+07</td>\n    </tr>\n    <tr>\n      <th>7</th>\n      <td>355238</td>\n      <td>126371073</td>\n      <td>1.439615e+07</td>\n      <td>14411.0</td>\n      <td>1.665116e+07</td>\n    </tr>\n    <tr>\n      <th>9</th>\n      <td>27819</td>\n      <td>13347618</td>\n      <td>1.247866e+06</td>\n      <td>3188.0</td>\n      <td>3.921876e+06</td>\n    </tr>\n    <tr>\n      <th>10</th>\n      <td>113599</td>\n      <td>39127973</td>\n      <td>3.417937e+06</td>\n      <td>4532.0</td>\n      <td>4.010307e+06</td>\n    </tr>\n    <tr>\n      <th>11</th>\n      <td>12475</td>\n      <td>4839666</td>\n      <td>4.798425e+05</td>\n      <td>572.0</td>\n      <td>5.216551e+05</td>\n    </tr>\n    <tr>\n      <th>12</th>\n      <td>311607</td>\n      <td>115411289</td>\n      <td>1.610275e+07</td>\n      <td>28116.0</td>\n      <td>3.719139e+07</td>\n    </tr>\n    <tr>\n      <th>14</th>\n      <td>239498</td>\n      <td>80071292</td>\n      <td>9.726586e+06</td>\n      <td>10397.0</td>\n      <td>1.238959e+07</td>\n    </tr>\n    <tr>\n      <th>15</th>\n      <td>337479</td>\n      <td>116055180</td>\n      <td>1.464296e+07</td>\n      <td>14138.0</td>\n      <td>1.752564e+07</td>\n    </tr>\n    <tr>\n      <th>16</th>\n      <td>292448</td>\n      <td>100131534</td>\n      <td>1.228397e+07</td>\n      <td>11953.0</td>\n      <td>1.423251e+07</td>\n    </tr>\n    <tr>\n      <th>17</th>\n      <td>15744</td>\n      <td>6485611</td>\n      <td>8.030189e+05</td>\n      <td>697.0</td>\n      <td>9.184250e+05</td>\n    </tr>\n    <tr>\n      <th>18</th>\n      <td>311771</td>\n      <td>101539333</td>\n      <td>1.404572e+07</td>\n      <td>13174.0</td>\n      <td>1.802390e+07</td>\n    </tr>\n    <tr>\n      <th>19</th>\n      <td>383582</td>\n      <td>139594187</td>\n      <td>1.366939e+07</td>\n      <td>15455.0</td>\n      <td>1.602021e+07</td>\n    </tr>\n    <tr>\n      <th>20</th>\n      <td>27951</td>\n      <td>13563669</td>\n      <td>1.239048e+06</td>\n      <td>2611.0</td>\n      <td>3.101365e+06</td>\n    </tr>\n    <tr>\n      <th>21</th>\n      <td>431873</td>\n      <td>167223064</td>\n      <td>1.641647e+07</td>\n      <td>18259.0</td>\n      <td>2.022572e+07</td>\n    </tr>\n    <tr>\n      <th>22</th>\n      <td>285979</td>\n      <td>102726061</td>\n      <td>1.027056e+07</td>\n      <td>13050.0</td>\n      <td>1.510195e+07</td>\n    </tr>\n    <tr>\n      <th>24</th>\n      <td>302091</td>\n      <td>97418483</td>\n      <td>1.344229e+07</td>\n      <td>12604.0</td>\n      <td>1.615894e+07</td>\n    </tr>\n    <tr>\n      <th>25</th>\n      <td>1249922</td>\n      <td>492991937</td>\n      <td>4.461232e+07</td>\n      <td>56714.0</td>\n      <td>6.086005e+07</td>\n    </tr>\n    <tr>\n      <th>26</th>\n      <td>309614</td>\n      <td>111244360</td>\n      <td>1.237399e+07</td>\n      <td>13565.0</td>\n      <td>1.730313e+07</td>\n    </tr>\n    <tr>\n      <th>27</th>\n      <td>552936</td>\n      <td>213330493</td>\n      <td>2.443915e+07</td>\n      <td>26307.0</td>\n      <td>3.037595e+07</td>\n    </tr>\n    <tr>\n      <th>28</th>\n      <td>901179</td>\n      <td>341465843</td>\n      <td>3.494564e+07</td>\n      <td>40049.0</td>\n      <td>4.238432e+07</td>\n    </tr>\n    <tr>\n      <th>29</th>\n      <td>138985</td>\n      <td>55603123</td>\n      <td>6.398966e+06</td>\n      <td>6195.0</td>\n      <td>7.657365e+06</td>\n    </tr>\n    <tr>\n      <th>30</th>\n      <td>55466</td>\n      <td>24550539</td>\n      <td>2.442548e+06</td>\n      <td>2593.0</td>\n      <td>2.589991e+06</td>\n    </tr>\n    <tr>\n      <th>31</th>\n      <td>1496870</td>\n      <td>610996897</td>\n      <td>4.456458e+07</td>\n      <td>67769.0</td>\n      <td>5.858232e+07</td>\n    </tr>\n    <tr>\n      <th>33</th>\n      <td>51947</td>\n      <td>22391552</td>\n      <td>2.291623e+06</td>\n      <td>2311.0</td>\n      <td>2.445255e+06</td>\n    </tr>\n    <tr>\n      <th>34</th>\n      <td>107109</td>\n      <td>35373924</td>\n      <td>4.860855e+06</td>\n      <td>4275.0</td>\n      <td>5.596937e+06</td>\n    </tr>\n    <tr>\n      <th>35</th>\n      <td>376370</td>\n      <td>130386820</td>\n      <td>1.597266e+07</td>\n      <td>15479.0</td>\n      <td>1.880747e+07</td>\n    </tr>\n    <tr>\n      <th>36</th>\n      <td>9999</td>\n      <td>3398305</td>\n      <td>3.550720e+05</td>\n      <td>333.0</td>\n      <td>3.794610e+05</td>\n    </tr>\n    <tr>\n      <th>37</th>\n      <td>242758</td>\n      <td>80267341</td>\n      <td>1.012550e+07</td>\n      <td>10146.0</td>\n      <td>1.259747e+07</td>\n    </tr>\n    <tr>\n      <th>38</th>\n      <td>334829</td>\n      <td>108907464</td>\n      <td>1.586029e+07</td>\n      <td>13750.0</td>\n      <td>1.852801e+07</td>\n    </tr>\n    <tr>\n      <th>39</th>\n      <td>187146</td>\n      <td>70410263</td>\n      <td>7.394095e+06</td>\n      <td>8239.0</td>\n      <td>9.079884e+06</td>\n    </tr>\n    <tr>\n      <th>40</th>\n      <td>9696</td>\n      <td>5508732</td>\n      <td>4.243949e+05</td>\n      <td>444.0</td>\n      <td>4.488229e+05</td>\n    </tr>\n    <tr>\n      <th>41</th>\n      <td>209349</td>\n      <td>73686379</td>\n      <td>7.897933e+06</td>\n      <td>8505.0</td>\n      <td>9.145563e+06</td>\n    </tr>\n    <tr>\n      <th>42</th>\n      <td>851476</td>\n      <td>324581826</td>\n      <td>3.189983e+07</td>\n      <td>41145.0</td>\n      <td>4.896780e+07</td>\n    </tr>\n    <tr>\n      <th>43</th>\n      <td>27480</td>\n      <td>11847863</td>\n      <td>1.733691e+06</td>\n      <td>1346.0</td>\n      <td>2.094073e+06</td>\n    </tr>\n    <tr>\n      <th>44</th>\n      <td>206963</td>\n      <td>82856637</td>\n      <td>6.717316e+06</td>\n      <td>8100.0</td>\n      <td>7.739956e+06</td>\n    </tr>\n    <tr>\n      <th>45</th>\n      <td>187040</td>\n      <td>68508600</td>\n      <td>7.219980e+06</td>\n      <td>7531.0</td>\n      <td>8.476353e+06</td>\n    </tr>\n    <tr>\n      <th>46</th>\n      <td>383629</td>\n      <td>136662118</td>\n      <td>1.489560e+07</td>\n      <td>15743.0</td>\n      <td>1.746647e+07</td>\n    </tr>\n    <tr>\n      <th>47</th>\n      <td>452654</td>\n      <td>156164347</td>\n      <td>1.983491e+07</td>\n      <td>19524.0</td>\n      <td>2.365170e+07</td>\n    </tr>\n    <tr>\n      <th>48</th>\n      <td>296280</td>\n      <td>104173830</td>\n      <td>1.134677e+07</td>\n      <td>11540.0</td>\n      <td>1.288786e+07</td>\n    </tr>\n    <tr>\n      <th>49</th>\n      <td>199714</td>\n      <td>74672235</td>\n      <td>7.748720e+06</td>\n      <td>7653.0</td>\n      <td>8.541576e+06</td>\n    </tr>\n    <tr>\n      <th>50</th>\n      <td>262572</td>\n      <td>95471046</td>\n      <td>1.121507e+07</td>\n      <td>10418.0</td>\n      <td>1.307016e+07</td>\n    </tr>\n    <tr>\n      <th>51</th>\n      <td>170281</td>\n      <td>67548189</td>\n      <td>3.573118e+06</td>\n      <td>6380.0</td>\n      <td>3.807106e+06</td>\n    </tr>\n    <tr>\n      <th>52</th>\n      <td>258297</td>\n      <td>95559504</td>\n      <td>8.878930e+06</td>\n      <td>10154.0</td>\n      <td>1.025195e+07</td>\n    </tr>\n    <tr>\n      <th>53</th>\n      <td>320760</td>\n      <td>113448419</td>\n      <td>1.106751e+07</td>\n      <td>12966.0</td>\n      <td>1.279510e+07</td>\n    </tr>\n    <tr>\n      <th>54</th>\n      <td>331942</td>\n      <td>149390656</td>\n      <td>1.281930e+07</td>\n      <td>15669.0</td>\n      <td>1.503604e+07</td>\n    </tr>\n    <tr>\n      <th>55</th>\n      <td>397914</td>\n      <td>105491153</td>\n      <td>1.015358e+07</td>\n      <td>31670.0</td>\n      <td>2.894034e+07</td>\n    </tr>\n    <tr>\n      <th>56</th>\n      <td>384368</td>\n      <td>153436719</td>\n      <td>1.259680e+07</td>\n      <td>15230.0</td>\n      <td>1.388041e+07</td>\n    </tr>\n    <tr>\n      <th>57</th>\n      <td>694721</td>\n      <td>279592984</td>\n      <td>2.189357e+07</td>\n      <td>28303.0</td>\n      <td>2.568628e+07</td>\n    </tr>\n    <tr>\n      <th>58</th>\n      <td>455364</td>\n      <td>179942599</td>\n      <td>1.581689e+07</td>\n      <td>18123.0</td>\n      <td>1.815848e+07</td>\n    </tr>\n    <tr>\n      <th>59</th>\n      <td>248642</td>\n      <td>88089548</td>\n      <td>8.621037e+06</td>\n      <td>10517.0</td>\n      <td>1.039425e+07</td>\n    </tr>\n  </tbody>\n</table>\n</div>"
     },
     "metadata": {}
    }
   ],
   "execution_count": 55
  },
  {
   "cell_type": "code",
   "source": "",
   "metadata": {
    "tags": [],
    "cell_id": "00027-b8854f8c-3041-4417-b96e-87141eaf9c32",
    "deepnote_cell_type": "code"
   },
   "outputs": [],
   "execution_count": null
  },
  {
   "cell_type": "markdown",
   "source": "<a style='text-decoration:none;line-height:16px;display:flex;color:#5B5B62;padding:10px;justify-content:end;' href='https://deepnote.com?utm_source=created-in-deepnote-cell&projectId=796ba814-f632-4502-b0d7-7e2f8f9e546d' target=\"_blank\">\n<img alt='Created in deepnote.com' style='display:inline;max-height:16px;margin:0px;margin-right:7.5px;' src='data:image/svg+xml;base64,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' > </img>\nCreated in <span style='font-weight:600;margin-left:4px;'>Deepnote</span></a>",
   "metadata": {
    "tags": [],
    "created_in_deepnote_cell": true,
    "deepnote_cell_type": "markdown"
   }
  }
 ],
 "nbformat": 4,
 "nbformat_minor": 2,
 "metadata": {
  "orig_nbformat": 2,
  "deepnote": {
   "is_reactive": false
  },
  "deepnote_notebook_id": "738f5e0f-48e2-4a77-98ad-a398c5447f1d",
  "deepnote_execution_queue": []
 }
}