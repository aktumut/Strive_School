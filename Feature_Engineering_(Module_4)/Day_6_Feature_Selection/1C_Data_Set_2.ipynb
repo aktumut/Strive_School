{
 "cells": [
  {
   "cell_type": "code",
   "metadata": {
    "tags": [],
    "deepnote_to_be_reexecuted": false,
    "source_hash": "fbbc4272",
    "execution_start": 1620716685517,
    "execution_millis": 2083,
    "cell_id": "00000-9ee10c7d-4fb6-4d7a-a15c-f13ad64e3a73",
    "deepnote_cell_type": "code"
   },
   "source": "import time\nfrom IPython.display import clear_output\nimport numpy    as np\nimport pandas   as pd\nimport seaborn  as sb\nimport matplotlib.pyplot as plt\nimport sklearn  as skl\n\nfrom sklearn import pipeline      # Pipeline\nfrom sklearn import preprocessing # OrdinalEncoder, LabelEncoder\nfrom sklearn import impute\nfrom sklearn import compose\nfrom sklearn import model_selection # train_test_split\nfrom sklearn import metrics         # accuracy_score, balanced_accuracy_score, plot_confusion_matrix\nfrom sklearn import set_config\nfrom sklearn.impute import KNNImputer\nfrom sklearn.preprocessing import PowerTransformer\nfrom sklearn.preprocessing import QuantileTransformer\n\nset_config(display='diagram') # Useful for display the pipeline\n\nprint(\"Pandas  \", pd.__version__)\nprint(\"Sklearn \", skl.__version__) # Try to use 0.24",
   "execution_count": 1,
   "outputs": [
    {
     "name": "stdout",
     "text": "Pandas   1.2.4\nSklearn  0.24.2\n",
     "output_type": "stream"
    }
   ]
  },
  {
   "cell_type": "markdown",
   "source": "### Importing Dataset",
   "metadata": {
    "tags": [],
    "cell_id": "00001-edd3f1f5-ecf4-4146-9e1f-755bc2d68587",
    "deepnote_cell_type": "markdown"
   }
  },
  {
   "cell_type": "code",
   "metadata": {
    "tags": [],
    "deepnote_to_be_reexecuted": false,
    "source_hash": "111a8ca0",
    "execution_start": 1620657487085,
    "execution_millis": 9,
    "cell_id": "00002-2bdd459d-6345-4cea-b859-385ad47ec94d",
    "deepnote_cell_type": "code"
   },
   "source": "CLOUD = False\n\nif CLOUD:\n    import os\n    os.environ['KAGGLE_USERNAME'] = \"umutakta\"\n    os.environ['KAGGLE_KEY']      = \"a471e5474add8d57cadac3cc5ff2b1d6\"  \n    !pip install --upgrade kaggle\n    !kaggle competitions download -c competitive-data-science-predict-future-sales\n    DATA_PATH = \"/work/Strive_School/Feature_Engineering_(Module_4)/Day_6_Feature_Selection/competitive-data-science-predict-future-sales/\"\n\nelse:\n    DATA_PATH = \"/work/competitive-data-science-predict-future-sales/\"\n\nDATA_PATH",
   "execution_count": null,
   "outputs": [
    {
     "output_type": "execute_result",
     "execution_count": 2,
     "data": {
      "text/plain": "'/work/competitive-data-science-predict-future-sales/'"
     },
     "metadata": {}
    }
   ]
  },
  {
   "cell_type": "markdown",
   "source": "**Creating Data Frame**",
   "metadata": {
    "tags": [],
    "cell_id": "00003-93918899-0854-4ad2-8ea9-d86f444b7e8a",
    "deepnote_cell_type": "markdown"
   }
  },
  {
   "cell_type": "code",
   "metadata": {
    "tags": [],
    "deepnote_to_be_reexecuted": false,
    "source_hash": "bc6d4ea6",
    "execution_start": 1620657487092,
    "execution_millis": 1341,
    "cell_id": "00004-251205ac-1041-47b4-b05f-8450fa0a8c16",
    "deepnote_cell_type": "code"
   },
   "source": "df_item_categ=pd.read_csv(DATA_PATH+\"item_categories.csv\")\ndf_items=pd.read_csv(DATA_PATH+\"items.csv\")\ndf=pd.read_csv(DATA_PATH+\"sales_train.csv\")\ndf_sample=pd.read_csv(DATA_PATH+\"sample_submission.csv\")\ndf_shops=pd.read_csv(DATA_PATH+\"shops.csv\")\ndf_test=pd.read_csv(DATA_PATH+\"test.csv\")",
   "execution_count": null,
   "outputs": []
  },
  {
   "cell_type": "code",
   "metadata": {
    "tags": [],
    "deepnote_to_be_reexecuted": false,
    "source_hash": "c085b6ba",
    "execution_start": 1620657488448,
    "execution_millis": 66,
    "cell_id": "00005-ac1db4d7-4f06-4b4f-8969-26b2a680fc31",
    "deepnote_cell_type": "code"
   },
   "source": "df.head()",
   "execution_count": null,
   "outputs": [
    {
     "output_type": "execute_result",
     "execution_count": 4,
     "data": {
      "application/vnd.deepnote.dataframe.v2+json": {
       "row_count": 5,
       "column_count": 6,
       "columns": [
        {
         "name": "date",
         "dtype": "object",
         "stats": {
          "unique_count": 5,
          "nan_count": 0,
          "categories": [
           {
            "name": "02.01.2013",
            "count": 1
           },
           {
            "name": "03.01.2013",
            "count": 1
           },
           {
            "name": "3 others",
            "count": 3
           }
          ]
         }
        },
        {
         "name": "date_block_num",
         "dtype": "int64",
         "stats": {
          "unique_count": 1,
          "nan_count": 0,
          "min": "0",
          "max": "0",
          "histogram": [
           {
            "bin_start": -0.5,
            "bin_end": -0.4,
            "count": 0
           },
           {
            "bin_start": -0.4,
            "bin_end": -0.3,
            "count": 0
           },
           {
            "bin_start": -0.3,
            "bin_end": -0.19999999999999996,
            "count": 0
           },
           {
            "bin_start": -0.19999999999999996,
            "bin_end": -0.09999999999999998,
            "count": 0
           },
           {
            "bin_start": -0.09999999999999998,
            "bin_end": 0,
            "count": 0
           },
           {
            "bin_start": 0,
            "bin_end": 0.10000000000000009,
            "count": 5
           },
           {
            "bin_start": 0.10000000000000009,
            "bin_end": 0.20000000000000007,
            "count": 0
           },
           {
            "bin_start": 0.20000000000000007,
            "bin_end": 0.30000000000000004,
            "count": 0
           },
           {
            "bin_start": 0.30000000000000004,
            "bin_end": 0.4,
            "count": 0
           },
           {
            "bin_start": 0.4,
            "bin_end": 0.5,
            "count": 0
           }
          ]
         }
        },
        {
         "name": "shop_id",
         "dtype": "int64",
         "stats": {
          "unique_count": 2,
          "nan_count": 0,
          "min": "25",
          "max": "59",
          "histogram": [
           {
            "bin_start": 25,
            "bin_end": 28.4,
            "count": 4
           },
           {
            "bin_start": 28.4,
            "bin_end": 31.8,
            "count": 0
           },
           {
            "bin_start": 31.8,
            "bin_end": 35.2,
            "count": 0
           },
           {
            "bin_start": 35.2,
            "bin_end": 38.6,
            "count": 0
           },
           {
            "bin_start": 38.6,
            "bin_end": 42,
            "count": 0
           },
           {
            "bin_start": 42,
            "bin_end": 45.4,
            "count": 0
           },
           {
            "bin_start": 45.4,
            "bin_end": 48.8,
            "count": 0
           },
           {
            "bin_start": 48.8,
            "bin_end": 52.2,
            "count": 0
           },
           {
            "bin_start": 52.2,
            "bin_end": 55.599999999999994,
            "count": 0
           },
           {
            "bin_start": 55.599999999999994,
            "bin_end": 59,
            "count": 1
           }
          ]
         }
        },
        {
         "name": "item_id",
         "dtype": "int64",
         "stats": {
          "unique_count": 4,
          "nan_count": 0,
          "min": "2552",
          "max": "22154",
          "histogram": [
           {
            "bin_start": 2552,
            "bin_end": 4512.2,
            "count": 4
           },
           {
            "bin_start": 4512.2,
            "bin_end": 6472.4,
            "count": 0
           },
           {
            "bin_start": 6472.4,
            "bin_end": 8432.6,
            "count": 0
           },
           {
            "bin_start": 8432.6,
            "bin_end": 10392.8,
            "count": 0
           },
           {
            "bin_start": 10392.8,
            "bin_end": 12353,
            "count": 0
           },
           {
            "bin_start": 12353,
            "bin_end": 14313.2,
            "count": 0
           },
           {
            "bin_start": 14313.2,
            "bin_end": 16273.4,
            "count": 0
           },
           {
            "bin_start": 16273.4,
            "bin_end": 18233.6,
            "count": 0
           },
           {
            "bin_start": 18233.6,
            "bin_end": 20193.8,
            "count": 0
           },
           {
            "bin_start": 20193.8,
            "bin_end": 22154,
            "count": 1
           }
          ]
         }
        },
        {
         "name": "item_price",
         "dtype": "float64",
         "stats": {
          "unique_count": 4,
          "nan_count": 0,
          "min": "899.0",
          "max": "1709.05",
          "histogram": [
           {
            "bin_start": 899,
            "bin_end": 980.005,
            "count": 2
           },
           {
            "bin_start": 980.005,
            "bin_end": 1061.01,
            "count": 1
           },
           {
            "bin_start": 1061.01,
            "bin_end": 1142.0149999999999,
            "count": 1
           },
           {
            "bin_start": 1142.0149999999999,
            "bin_end": 1223.02,
            "count": 0
           },
           {
            "bin_start": 1223.02,
            "bin_end": 1304.025,
            "count": 0
           },
           {
            "bin_start": 1304.025,
            "bin_end": 1385.03,
            "count": 0
           },
           {
            "bin_start": 1385.03,
            "bin_end": 1466.0349999999999,
            "count": 0
           },
           {
            "bin_start": 1466.0349999999999,
            "bin_end": 1547.04,
            "count": 0
           },
           {
            "bin_start": 1547.04,
            "bin_end": 1628.045,
            "count": 0
           },
           {
            "bin_start": 1628.045,
            "bin_end": 1709.05,
            "count": 1
           }
          ]
         }
        },
        {
         "name": "item_cnt_day",
         "dtype": "float64",
         "stats": {
          "unique_count": 2,
          "nan_count": 0,
          "min": "-1.0",
          "max": "1.0",
          "histogram": [
           {
            "bin_start": -1,
            "bin_end": -0.8,
            "count": 1
           },
           {
            "bin_start": -0.8,
            "bin_end": -0.6,
            "count": 0
           },
           {
            "bin_start": -0.6,
            "bin_end": -0.3999999999999999,
            "count": 0
           },
           {
            "bin_start": -0.3999999999999999,
            "bin_end": -0.19999999999999996,
            "count": 0
           },
           {
            "bin_start": -0.19999999999999996,
            "bin_end": 0,
            "count": 0
           },
           {
            "bin_start": 0,
            "bin_end": 0.20000000000000018,
            "count": 0
           },
           {
            "bin_start": 0.20000000000000018,
            "bin_end": 0.40000000000000013,
            "count": 0
           },
           {
            "bin_start": 0.40000000000000013,
            "bin_end": 0.6000000000000001,
            "count": 0
           },
           {
            "bin_start": 0.6000000000000001,
            "bin_end": 0.8,
            "count": 0
           },
           {
            "bin_start": 0.8,
            "bin_end": 1,
            "count": 4
           }
          ]
         }
        },
        {
         "name": "_deepnote_index_column",
         "dtype": "int64"
        }
       ],
       "rows_top": [
        {
         "date": "02.01.2013",
         "date_block_num": 0,
         "shop_id": 59,
         "item_id": 22154,
         "item_price": 999,
         "item_cnt_day": 1,
         "_deepnote_index_column": 0
        },
        {
         "date": "03.01.2013",
         "date_block_num": 0,
         "shop_id": 25,
         "item_id": 2552,
         "item_price": 899,
         "item_cnt_day": 1,
         "_deepnote_index_column": 1
        },
        {
         "date": "05.01.2013",
         "date_block_num": 0,
         "shop_id": 25,
         "item_id": 2552,
         "item_price": 899,
         "item_cnt_day": -1,
         "_deepnote_index_column": 2
        },
        {
         "date": "06.01.2013",
         "date_block_num": 0,
         "shop_id": 25,
         "item_id": 2554,
         "item_price": 1709.05,
         "item_cnt_day": 1,
         "_deepnote_index_column": 3
        },
        {
         "date": "15.01.2013",
         "date_block_num": 0,
         "shop_id": 25,
         "item_id": 2555,
         "item_price": 1099,
         "item_cnt_day": 1,
         "_deepnote_index_column": 4
        }
       ],
       "rows_bottom": null
      },
      "text/plain": "         date  date_block_num  shop_id  item_id  item_price  item_cnt_day\n0  02.01.2013               0       59    22154      999.00           1.0\n1  03.01.2013               0       25     2552      899.00           1.0\n2  05.01.2013               0       25     2552      899.00          -1.0\n3  06.01.2013               0       25     2554     1709.05           1.0\n4  15.01.2013               0       25     2555     1099.00           1.0",
      "text/html": "<div>\n<style scoped>\n    .dataframe tbody tr th:only-of-type {\n        vertical-align: middle;\n    }\n\n    .dataframe tbody tr th {\n        vertical-align: top;\n    }\n\n    .dataframe thead th {\n        text-align: right;\n    }\n</style>\n<table border=\"1\" class=\"dataframe\">\n  <thead>\n    <tr style=\"text-align: right;\">\n      <th></th>\n      <th>date</th>\n      <th>date_block_num</th>\n      <th>shop_id</th>\n      <th>item_id</th>\n      <th>item_price</th>\n      <th>item_cnt_day</th>\n    </tr>\n  </thead>\n  <tbody>\n    <tr>\n      <th>0</th>\n      <td>02.01.2013</td>\n      <td>0</td>\n      <td>59</td>\n      <td>22154</td>\n      <td>999.00</td>\n      <td>1.0</td>\n    </tr>\n    <tr>\n      <th>1</th>\n      <td>03.01.2013</td>\n      <td>0</td>\n      <td>25</td>\n      <td>2552</td>\n      <td>899.00</td>\n      <td>1.0</td>\n    </tr>\n    <tr>\n      <th>2</th>\n      <td>05.01.2013</td>\n      <td>0</td>\n      <td>25</td>\n      <td>2552</td>\n      <td>899.00</td>\n      <td>-1.0</td>\n    </tr>\n    <tr>\n      <th>3</th>\n      <td>06.01.2013</td>\n      <td>0</td>\n      <td>25</td>\n      <td>2554</td>\n      <td>1709.05</td>\n      <td>1.0</td>\n    </tr>\n    <tr>\n      <th>4</th>\n      <td>15.01.2013</td>\n      <td>0</td>\n      <td>25</td>\n      <td>2555</td>\n      <td>1099.00</td>\n      <td>1.0</td>\n    </tr>\n  </tbody>\n</table>\n</div>"
     },
     "metadata": {}
    }
   ]
  },
  {
   "cell_type": "markdown",
   "source": "Turning date column to **date type**",
   "metadata": {
    "tags": [],
    "cell_id": "00006-a36c314d-cbdb-42ce-878d-11fafc7f53fe",
    "deepnote_cell_type": "markdown"
   }
  },
  {
   "cell_type": "code",
   "metadata": {
    "tags": [],
    "deepnote_to_be_reexecuted": false,
    "source_hash": "caa69966",
    "execution_start": 1620657488504,
    "execution_millis": 22805,
    "cell_id": "00007-b1a62260-db1f-42c2-832c-edf08cfa6c4b",
    "deepnote_cell_type": "code"
   },
   "source": "from datetime import datetime\n\ndf[\"date\"]=df['date'].apply(lambda x:datetime.strptime(x, '%d.%m.%Y'))\n",
   "execution_count": null,
   "outputs": []
  },
  {
   "cell_type": "code",
   "metadata": {
    "tags": [],
    "cell_id": "00008-6e3770bc-9e13-4ce6-9be7-03bc544a0097",
    "deepnote_to_be_reexecuted": false,
    "source_hash": "b31fd813",
    "execution_start": 1620657511312,
    "execution_millis": 43,
    "deepnote_cell_type": "code"
   },
   "source": "\n",
   "execution_count": null,
   "outputs": []
  },
  {
   "cell_type": "markdown",
   "source": "### Deleting Outliers",
   "metadata": {
    "tags": [],
    "cell_id": "00009-160bb83c-bb17-4a26-a34a-333c1a7ac0a2",
    "deepnote_cell_type": "markdown"
   }
  },
  {
   "cell_type": "markdown",
   "source": "**Item Count Day**",
   "metadata": {
    "tags": [],
    "cell_id": "00010-7c9acb54-6e66-4c4d-b263-f5485920276f",
    "deepnote_cell_type": "markdown"
   }
  },
  {
   "cell_type": "code",
   "metadata": {
    "tags": [],
    "cell_id": "00012-dd3e5c93-790a-4650-a073-cd9818f8cf6d",
    "deepnote_to_be_reexecuted": false,
    "source_hash": "7bc3d9b5",
    "execution_start": 1620660862105,
    "execution_millis": 124,
    "deepnote_cell_type": "code"
   },
   "source": "df=df.drop(df.loc[df.item_cnt_day<0].index.tolist())",
   "execution_count": null,
   "outputs": []
  },
  {
   "cell_type": "code",
   "metadata": {
    "tags": [],
    "cell_id": "00008-15d678e2-5d02-424b-8e00-070206906cd2",
    "deepnote_to_be_reexecuted": false,
    "source_hash": "abbebe74",
    "execution_start": 1620660871953,
    "execution_millis": 685,
    "deepnote_cell_type": "code"
   },
   "source": "plt.figure(figsize=(16,1))\nsb.boxplot(x=df.item_cnt_day)",
   "execution_count": null,
   "outputs": [
    {
     "output_type": "execute_result",
     "execution_count": 61,
     "data": {
      "text/plain": "<AxesSubplot:xlabel='item_cnt_day'>"
     },
     "metadata": {}
    },
    {
     "data": {
      "text/plain": "<Figure size 1152x72 with 1 Axes>",
      "image/png": "[encoded data removed]"
     },
     "metadata": {
      "needs_background": "light",
      "image/png": {
       "width": 910,
       "height": 100
      }
     },
     "output_type": "display_data"
    }
   ]
  },
  {
   "cell_type": "markdown",
   "source": "**Item Price**",
   "metadata": {
    "tags": [],
    "cell_id": "00013-48ad4af9-7091-46e3-b655-a2e29ec74fa0",
    "deepnote_cell_type": "markdown"
   }
  },
  {
   "cell_type": "code",
   "metadata": {
    "tags": [],
    "cell_id": "00014-6bcd558c-1fd4-4fbf-95cd-4cae55a62585",
    "deepnote_to_be_reexecuted": false,
    "source_hash": "fc0f25b4",
    "execution_start": 1620657826057,
    "execution_millis": 9178,
    "deepnote_cell_type": "code"
   },
   "source": "for i in range(5):\n    df=df.drop(df.index[df.loc[df.item_price==df.item_price.max()].index[0]])",
   "execution_count": null,
   "outputs": []
  },
  {
   "cell_type": "code",
   "metadata": {
    "tags": [],
    "cell_id": "00014-5d551c87-d1f2-4835-b46d-7d5451ea6d9f",
    "deepnote_to_be_reexecuted": false,
    "source_hash": "232699e5",
    "execution_start": 1620657836534,
    "execution_millis": 601,
    "deepnote_cell_type": "code"
   },
   "source": "plt.figure(figsize=(16,1))\nsb.boxplot(x=df.item_price)",
   "execution_count": null,
   "outputs": [
    {
     "output_type": "execute_result",
     "execution_count": 37,
     "data": {
      "text/plain": "<AxesSubplot:xlabel='item_price'>"
     },
     "metadata": {}
    },
    {
     "data": {
      "text/plain": "<Figure size 1152x72 with 1 Axes>",
      "image/png": "[encoded data removed]"
     },
     "metadata": {
      "needs_background": "light",
      "image/png": {
       "width": 910,
       "height": 100
      }
     },
     "output_type": "display_data"
    }
   ]
  },
  {
   "cell_type": "markdown",
   "source": "**Creating new data frame for only 2013**",
   "metadata": {
    "tags": [],
    "cell_id": "00008-42325cf5-ac11-4606-ae70-01042fd80a93",
    "deepnote_cell_type": "markdown"
   }
  },
  {
   "cell_type": "code",
   "metadata": {
    "tags": [],
    "deepnote_to_be_reexecuted": false,
    "source_hash": "10171202",
    "execution_start": 1620657512268,
    "execution_millis": 164,
    "cell_id": "00009-ddb2a81e-6562-4a74-91b1-49776d4631ee",
    "deepnote_cell_type": "code"
   },
   "source": "df_2013=df[(df.date<\"01-01-2014\") & (\"31-12-2012\"<df.date)]\ndf_2013",
   "execution_count": null,
   "outputs": [
    {
     "output_type": "execute_result",
     "execution_count": 9,
     "data": {
      "application/vnd.deepnote.dataframe.v2+json": {
       "row_count": 1267562,
       "column_count": 6,
       "columns": [
        {
         "name": "date",
         "dtype": "datetime64[ns]"
        },
        {
         "name": "date_block_num",
         "dtype": "int64"
        },
        {
         "name": "shop_id",
         "dtype": "int64"
        },
        {
         "name": "item_id",
         "dtype": "int64"
        },
        {
         "name": "item_price",
         "dtype": "float64"
        },
        {
         "name": "item_cnt_day",
         "dtype": "float64"
        },
        {
         "name": "_deepnote_index_column",
         "dtype": "int64"
        }
       ],
       "rows_top": [
        {
         "date": "2013-01-02T00:00:00.000000",
         "date_block_num": 0,
         "shop_id": 59,
         "item_id": 22154,
         "item_price": 999,
         "item_cnt_day": 1,
         "_deepnote_index_column": 0
        },
        {
         "date": "2013-01-03T00:00:00.000000",
         "date_block_num": 0,
         "shop_id": 25,
         "item_id": 2552,
         "item_price": 899,
         "item_cnt_day": 1,
         "_deepnote_index_column": 1
        },
        {
         "date": "2013-01-05T00:00:00.000000",
         "date_block_num": 0,
         "shop_id": 25,
         "item_id": 2552,
         "item_price": 899,
         "item_cnt_day": -1,
         "_deepnote_index_column": 2
        },
        {
         "date": "2013-01-06T00:00:00.000000",
         "date_block_num": 0,
         "shop_id": 25,
         "item_id": 2554,
         "item_price": 1709.05,
         "item_cnt_day": 1,
         "_deepnote_index_column": 3
        },
        {
         "date": "2013-01-15T00:00:00.000000",
         "date_block_num": 0,
         "shop_id": 25,
         "item_id": 2555,
         "item_price": 1099,
         "item_cnt_day": 1,
         "_deepnote_index_column": 4
        },
        {
         "date": "2013-01-10T00:00:00.000000",
         "date_block_num": 0,
         "shop_id": 25,
         "item_id": 2564,
         "item_price": 349,
         "item_cnt_day": 1,
         "_deepnote_index_column": 5
        },
        {
         "date": "2013-01-02T00:00:00.000000",
         "date_block_num": 0,
         "shop_id": 25,
         "item_id": 2565,
         "item_price": 549,
         "item_cnt_day": 1,
         "_deepnote_index_column": 6
        },
        {
         "date": "2013-01-04T00:00:00.000000",
         "date_block_num": 0,
         "shop_id": 25,
         "item_id": 2572,
         "item_price": 239,
         "item_cnt_day": 1,
         "_deepnote_index_column": 7
        },
        {
         "date": "2013-01-11T00:00:00.000000",
         "date_block_num": 0,
         "shop_id": 25,
         "item_id": 2572,
         "item_price": 299,
         "item_cnt_day": 1,
         "_deepnote_index_column": 8
        },
        {
         "date": "2013-01-03T00:00:00.000000",
         "date_block_num": 0,
         "shop_id": 25,
         "item_id": 2573,
         "item_price": 299,
         "item_cnt_day": 3,
         "_deepnote_index_column": 9
        },
        {
         "date": "2013-01-03T00:00:00.000000",
         "date_block_num": 0,
         "shop_id": 25,
         "item_id": 2574,
         "item_price": 399,
         "item_cnt_day": 2,
         "_deepnote_index_column": 10
        },
        {
         "date": "2013-01-05T00:00:00.000000",
         "date_block_num": 0,
         "shop_id": 25,
         "item_id": 2574,
         "item_price": 399,
         "item_cnt_day": 1,
         "_deepnote_index_column": 11
        },
        {
         "date": "2013-01-07T00:00:00.000000",
         "date_block_num": 0,
         "shop_id": 25,
         "item_id": 2574,
         "item_price": 399,
         "item_cnt_day": 1,
         "_deepnote_index_column": 12
        },
        {
         "date": "2013-01-08T00:00:00.000000",
         "date_block_num": 0,
         "shop_id": 25,
         "item_id": 2574,
         "item_price": 399,
         "item_cnt_day": 2,
         "_deepnote_index_column": 13
        },
        {
         "date": "2013-01-10T00:00:00.000000",
         "date_block_num": 0,
         "shop_id": 25,
         "item_id": 2574,
         "item_price": 399,
         "item_cnt_day": 1,
         "_deepnote_index_column": 14
        },
        {
         "date": "2013-01-11T00:00:00.000000",
         "date_block_num": 0,
         "shop_id": 25,
         "item_id": 2574,
         "item_price": 399,
         "item_cnt_day": 2,
         "_deepnote_index_column": 15
        },
        {
         "date": "2013-01-13T00:00:00.000000",
         "date_block_num": 0,
         "shop_id": 25,
         "item_id": 2574,
         "item_price": 399,
         "item_cnt_day": 1,
         "_deepnote_index_column": 16
        },
        {
         "date": "2013-01-16T00:00:00.000000",
         "date_block_num": 0,
         "shop_id": 25,
         "item_id": 2574,
         "item_price": 399,
         "item_cnt_day": 1,
         "_deepnote_index_column": 17
        },
        {
         "date": "2013-01-26T00:00:00.000000",
         "date_block_num": 0,
         "shop_id": 25,
         "item_id": 2574,
         "item_price": 399,
         "item_cnt_day": 1,
         "_deepnote_index_column": 18
        },
        {
         "date": "2013-01-27T00:00:00.000000",
         "date_block_num": 0,
         "shop_id": 25,
         "item_id": 2574,
         "item_price": 399,
         "item_cnt_day": 1,
         "_deepnote_index_column": 19
        },
        {
         "date": "2013-01-09T00:00:00.000000",
         "date_block_num": 0,
         "shop_id": 25,
         "item_id": 2593,
         "item_price": 279,
         "item_cnt_day": 1,
         "_deepnote_index_column": 20
        },
        {
         "date": "2013-01-16T00:00:00.000000",
         "date_block_num": 0,
         "shop_id": 25,
         "item_id": 2604,
         "item_price": 299,
         "item_cnt_day": 1,
         "_deepnote_index_column": 21
        },
        {
         "date": "2013-01-27T00:00:00.000000",
         "date_block_num": 0,
         "shop_id": 25,
         "item_id": 2604,
         "item_price": 299,
         "item_cnt_day": 1,
         "_deepnote_index_column": 22
        },
        {
         "date": "2013-01-27T00:00:00.000000",
         "date_block_num": 0,
         "shop_id": 25,
         "item_id": 2607,
         "item_price": 279,
         "item_cnt_day": 1,
         "_deepnote_index_column": 23
        },
        {
         "date": "2013-01-29T00:00:00.000000",
         "date_block_num": 0,
         "shop_id": 25,
         "item_id": 2607,
         "item_price": 279,
         "item_cnt_day": 1,
         "_deepnote_index_column": 24
        },
        {
         "date": "2013-01-27T00:00:00.000000",
         "date_block_num": 0,
         "shop_id": 25,
         "item_id": 2609,
         "item_price": 1699,
         "item_cnt_day": 1,
         "_deepnote_index_column": 25
        },
        {
         "date": "2013-01-06T00:00:00.000000",
         "date_block_num": 0,
         "shop_id": 25,
         "item_id": 2548,
         "item_price": 1708.95,
         "item_cnt_day": 1,
         "_deepnote_index_column": 26
        },
        {
         "date": "2013-01-26T00:00:00.000000",
         "date_block_num": 0,
         "shop_id": 25,
         "item_id": 2611,
         "item_price": 299,
         "item_cnt_day": 1,
         "_deepnote_index_column": 27
        },
        {
         "date": "2013-01-02T00:00:00.000000",
         "date_block_num": 0,
         "shop_id": 25,
         "item_id": 2546,
         "item_price": 299,
         "item_cnt_day": 1,
         "_deepnote_index_column": 28
        },
        {
         "date": "2013-01-06T00:00:00.000000",
         "date_block_num": 0,
         "shop_id": 25,
         "item_id": 2515,
         "item_price": 1649,
         "item_cnt_day": 1,
         "_deepnote_index_column": 29
        },
        {
         "date": "2013-01-07T00:00:00.000000",
         "date_block_num": 0,
         "shop_id": 25,
         "item_id": 2705,
         "item_price": 1799,
         "item_cnt_day": 1,
         "_deepnote_index_column": 30
        },
        {
         "date": "2013-01-11T00:00:00.000000",
         "date_block_num": 0,
         "shop_id": 25,
         "item_id": 2705,
         "item_price": 1799,
         "item_cnt_day": 1,
         "_deepnote_index_column": 31
        },
        {
         "date": "2013-01-26T00:00:00.000000",
         "date_block_num": 0,
         "shop_id": 25,
         "item_id": 2705,
         "item_price": 1799,
         "item_cnt_day": 1,
         "_deepnote_index_column": 32
        },
        {
         "date": "2013-01-02T00:00:00.000000",
         "date_block_num": 0,
         "shop_id": 25,
         "item_id": 2715,
         "item_price": 899,
         "item_cnt_day": 1,
         "_deepnote_index_column": 33
        },
        {
         "date": "2013-01-12T00:00:00.000000",
         "date_block_num": 0,
         "shop_id": 25,
         "item_id": 2715,
         "item_price": 898.5,
         "item_cnt_day": 1,
         "_deepnote_index_column": 34
        },
        {
         "date": "2013-01-02T00:00:00.000000",
         "date_block_num": 0,
         "shop_id": 25,
         "item_id": 2716,
         "item_price": 149,
         "item_cnt_day": 1,
         "_deepnote_index_column": 35
        },
        {
         "date": "2013-01-23T00:00:00.000000",
         "date_block_num": 0,
         "shop_id": 25,
         "item_id": 2716,
         "item_price": 149,
         "item_cnt_day": 1,
         "_deepnote_index_column": 36
        },
        {
         "date": "2013-01-02T00:00:00.000000",
         "date_block_num": 0,
         "shop_id": 25,
         "item_id": 2719,
         "item_price": 2699,
         "item_cnt_day": 1,
         "_deepnote_index_column": 37
        },
        {
         "date": "2013-01-12T00:00:00.000000",
         "date_block_num": 0,
         "shop_id": 25,
         "item_id": 2719,
         "item_price": 2699,
         "item_cnt_day": 1,
         "_deepnote_index_column": 38
        },
        {
         "date": "2013-01-25T00:00:00.000000",
         "date_block_num": 0,
         "shop_id": 25,
         "item_id": 2719,
         "item_price": 1699,
         "item_cnt_day": 1,
         "_deepnote_index_column": 39
        },
        {
         "date": "2013-01-30T00:00:00.000000",
         "date_block_num": 0,
         "shop_id": 25,
         "item_id": 2720,
         "item_price": 1699,
         "item_cnt_day": 1,
         "_deepnote_index_column": 40
        },
        {
         "date": "2013-01-05T00:00:00.000000",
         "date_block_num": 0,
         "shop_id": 25,
         "item_id": 2473,
         "item_price": 899,
         "item_cnt_day": 1,
         "_deepnote_index_column": 41
        },
        {
         "date": "2013-01-02T00:00:00.000000",
         "date_block_num": 0,
         "shop_id": 25,
         "item_id": 2480,
         "item_price": 58,
         "item_cnt_day": 1,
         "_deepnote_index_column": 42
        },
        {
         "date": "2013-01-02T00:00:00.000000",
         "date_block_num": 0,
         "shop_id": 25,
         "item_id": 2731,
         "item_price": 599,
         "item_cnt_day": 1,
         "_deepnote_index_column": 43
        },
        {
         "date": "2013-01-19T00:00:00.000000",
         "date_block_num": 0,
         "shop_id": 25,
         "item_id": 2731,
         "item_price": 599,
         "item_cnt_day": 1,
         "_deepnote_index_column": 44
        },
        {
         "date": "2013-01-06T00:00:00.000000",
         "date_block_num": 0,
         "shop_id": 25,
         "item_id": 2746,
         "item_price": 299,
         "item_cnt_day": 1,
         "_deepnote_index_column": 45
        },
        {
         "date": "2013-01-07T00:00:00.000000",
         "date_block_num": 0,
         "shop_id": 25,
         "item_id": 2746,
         "item_price": 299,
         "item_cnt_day": 1,
         "_deepnote_index_column": 46
        },
        {
         "date": "2013-01-10T00:00:00.000000",
         "date_block_num": 0,
         "shop_id": 25,
         "item_id": 2746,
         "item_price": 299,
         "item_cnt_day": 2,
         "_deepnote_index_column": 47
        },
        {
         "date": "2013-01-12T00:00:00.000000",
         "date_block_num": 0,
         "shop_id": 25,
         "item_id": 2746,
         "item_price": 299,
         "item_cnt_day": 1,
         "_deepnote_index_column": 48
        },
        {
         "date": "2013-01-20T00:00:00.000000",
         "date_block_num": 0,
         "shop_id": 25,
         "item_id": 2746,
         "item_price": 299,
         "item_cnt_day": 1,
         "_deepnote_index_column": 49
        },
        {
         "date": "2013-01-24T00:00:00.000000",
         "date_block_num": 0,
         "shop_id": 25,
         "item_id": 2746,
         "item_price": 299,
         "item_cnt_day": 1,
         "_deepnote_index_column": 50
        },
        {
         "date": "2013-01-25T00:00:00.000000",
         "date_block_num": 0,
         "shop_id": 25,
         "item_id": 2746,
         "item_price": 299,
         "item_cnt_day": 1,
         "_deepnote_index_column": 51
        },
        {
         "date": "2013-01-04T00:00:00.000000",
         "date_block_num": 0,
         "shop_id": 25,
         "item_id": 2748,
         "item_price": 1399,
         "item_cnt_day": 1,
         "_deepnote_index_column": 52
        },
        {
         "date": "2013-01-23T00:00:00.000000",
         "date_block_num": 0,
         "shop_id": 25,
         "item_id": 2748,
         "item_price": 799,
         "item_cnt_day": 1,
         "_deepnote_index_column": 53
        },
        {
         "date": "2013-01-25T00:00:00.000000",
         "date_block_num": 0,
         "shop_id": 25,
         "item_id": 2748,
         "item_price": 799,
         "item_cnt_day": 1,
         "_deepnote_index_column": 54
        },
        {
         "date": "2013-01-06T00:00:00.000000",
         "date_block_num": 0,
         "shop_id": 25,
         "item_id": 2522,
         "item_price": 1999,
         "item_cnt_day": 1,
         "_deepnote_index_column": 55
        },
        {
         "date": "2013-01-19T00:00:00.000000",
         "date_block_num": 0,
         "shop_id": 25,
         "item_id": 2614,
         "item_price": 299,
         "item_cnt_day": 1,
         "_deepnote_index_column": 56
        },
        {
         "date": "2013-01-27T00:00:00.000000",
         "date_block_num": 0,
         "shop_id": 25,
         "item_id": 2614,
         "item_price": 299,
         "item_cnt_day": 1,
         "_deepnote_index_column": 57
        },
        {
         "date": "2013-01-11T00:00:00.000000",
         "date_block_num": 0,
         "shop_id": 25,
         "item_id": 2798,
         "item_price": 449,
         "item_cnt_day": 1,
         "_deepnote_index_column": 58
        },
        {
         "date": "2013-01-16T00:00:00.000000",
         "date_block_num": 0,
         "shop_id": 25,
         "item_id": 2833,
         "item_price": 599,
         "item_cnt_day": 1,
         "_deepnote_index_column": 59
        },
        {
         "date": "2013-01-19T00:00:00.000000",
         "date_block_num": 0,
         "shop_id": 25,
         "item_id": 2833,
         "item_price": 599,
         "item_cnt_day": 1,
         "_deepnote_index_column": 60
        },
        {
         "date": "2013-01-21T00:00:00.000000",
         "date_block_num": 0,
         "shop_id": 25,
         "item_id": 2833,
         "item_price": 599,
         "item_cnt_day": 1,
         "_deepnote_index_column": 61
        },
        {
         "date": "2013-01-22T00:00:00.000000",
         "date_block_num": 0,
         "shop_id": 25,
         "item_id": 2833,
         "item_price": 599,
         "item_cnt_day": 1,
         "_deepnote_index_column": 62
        },
        {
         "date": "2013-01-27T00:00:00.000000",
         "date_block_num": 0,
         "shop_id": 25,
         "item_id": 2833,
         "item_price": 599,
         "item_cnt_day": 1,
         "_deepnote_index_column": 63
        },
        {
         "date": "2013-01-28T00:00:00.000000",
         "date_block_num": 0,
         "shop_id": 25,
         "item_id": 2833,
         "item_price": 599,
         "item_cnt_day": 1,
         "_deepnote_index_column": 64
        },
        {
         "date": "2013-01-14T00:00:00.000000",
         "date_block_num": 0,
         "shop_id": 25,
         "item_id": 2835,
         "item_price": 1999,
         "item_cnt_day": 1,
         "_deepnote_index_column": 65
        },
        {
         "date": "2013-01-19T00:00:00.000000",
         "date_block_num": 0,
         "shop_id": 25,
         "item_id": 2835,
         "item_price": 1999,
         "item_cnt_day": 1,
         "_deepnote_index_column": 66
        },
        {
         "date": "2013-01-25T00:00:00.000000",
         "date_block_num": 0,
         "shop_id": 25,
         "item_id": 2835,
         "item_price": 1999,
         "item_cnt_day": 1,
         "_deepnote_index_column": 67
        },
        {
         "date": "2013-01-06T00:00:00.000000",
         "date_block_num": 0,
         "shop_id": 25,
         "item_id": 2836,
         "item_price": 1999,
         "item_cnt_day": 1,
         "_deepnote_index_column": 68
        },
        {
         "date": "2013-01-12T00:00:00.000000",
         "date_block_num": 0,
         "shop_id": 25,
         "item_id": 2836,
         "item_price": 1999,
         "item_cnt_day": 1,
         "_deepnote_index_column": 69
        },
        {
         "date": "2013-01-14T00:00:00.000000",
         "date_block_num": 0,
         "shop_id": 25,
         "item_id": 2844,
         "item_price": 899,
         "item_cnt_day": 1,
         "_deepnote_index_column": 70
        },
        {
         "date": "2013-01-15T00:00:00.000000",
         "date_block_num": 0,
         "shop_id": 25,
         "item_id": 2844,
         "item_price": 899,
         "item_cnt_day": 1,
         "_deepnote_index_column": 71
        },
        {
         "date": "2013-01-25T00:00:00.000000",
         "date_block_num": 0,
         "shop_id": 25,
         "item_id": 2844,
         "item_price": 899,
         "item_cnt_day": 1,
         "_deepnote_index_column": 72
        },
        {
         "date": "2013-01-06T00:00:00.000000",
         "date_block_num": 0,
         "shop_id": 25,
         "item_id": 2845,
         "item_price": 599,
         "item_cnt_day": 1,
         "_deepnote_index_column": 73
        },
        {
         "date": "2013-01-10T00:00:00.000000",
         "date_block_num": 0,
         "shop_id": 25,
         "item_id": 2847,
         "item_price": 1699,
         "item_cnt_day": 1,
         "_deepnote_index_column": 74
        },
        {
         "date": "2013-01-26T00:00:00.000000",
         "date_block_num": 0,
         "shop_id": 25,
         "item_id": 2847,
         "item_price": 1699,
         "item_cnt_day": 1,
         "_deepnote_index_column": 75
        },
        {
         "date": "2013-01-05T00:00:00.000000",
         "date_block_num": 0,
         "shop_id": 25,
         "item_id": 2848,
         "item_price": 99,
         "item_cnt_day": 2,
         "_deepnote_index_column": 76
        },
        {
         "date": "2013-01-12T00:00:00.000000",
         "date_block_num": 0,
         "shop_id": 25,
         "item_id": 2854,
         "item_price": 449,
         "item_cnt_day": 1,
         "_deepnote_index_column": 77
        },
        {
         "date": "2013-01-13T00:00:00.000000",
         "date_block_num": 0,
         "shop_id": 25,
         "item_id": 2854,
         "item_price": 449,
         "item_cnt_day": 1,
         "_deepnote_index_column": 78
        },
        {
         "date": "2013-01-16T00:00:00.000000",
         "date_block_num": 0,
         "shop_id": 25,
         "item_id": 2854,
         "item_price": 449,
         "item_cnt_day": 1,
         "_deepnote_index_column": 79
        },
        {
         "date": "2013-01-25T00:00:00.000000",
         "date_block_num": 0,
         "shop_id": 25,
         "item_id": 2857,
         "item_price": 1998.5,
         "item_cnt_day": 1,
         "_deepnote_index_column": 80
        },
        {
         "date": "2013-01-31T00:00:00.000000",
         "date_block_num": 0,
         "shop_id": 25,
         "item_id": 2857,
         "item_price": 1999,
         "item_cnt_day": 1,
         "_deepnote_index_column": 81
        },
        {
         "date": "2013-01-04T00:00:00.000000",
         "date_block_num": 0,
         "shop_id": 25,
         "item_id": 2920,
         "item_price": 599,
         "item_cnt_day": 1,
         "_deepnote_index_column": 82
        }
       ],
       "rows_bottom": [
        {
         "date": "2013-12-28T00:00:00.000000",
         "date_block_num": 11,
         "shop_id": 46,
         "item_id": 5872,
         "item_price": 799,
         "item_cnt_day": 1,
         "_deepnote_index_column": 1267479
        },
        {
         "date": "2013-12-10T00:00:00.000000",
         "date_block_num": 11,
         "shop_id": 46,
         "item_id": 5581,
         "item_price": 499,
         "item_cnt_day": 1,
         "_deepnote_index_column": 1267480
        },
        {
         "date": "2013-12-31T00:00:00.000000",
         "date_block_num": 11,
         "shop_id": 46,
         "item_id": 5576,
         "item_price": 2290,
         "item_cnt_day": 1,
         "_deepnote_index_column": 1267481
        },
        {
         "date": "2013-12-28T00:00:00.000000",
         "date_block_num": 11,
         "shop_id": 46,
         "item_id": 5573,
         "item_price": 449,
         "item_cnt_day": 1,
         "_deepnote_index_column": 1267482
        },
        {
         "date": "2013-12-31T00:00:00.000000",
         "date_block_num": 11,
         "shop_id": 46,
         "item_id": 5572,
         "item_price": 1590,
         "item_cnt_day": 1,
         "_deepnote_index_column": 1267483
        },
        {
         "date": "2013-12-30T00:00:00.000000",
         "date_block_num": 11,
         "shop_id": 46,
         "item_id": 5572,
         "item_price": 1590,
         "item_cnt_day": 1,
         "_deepnote_index_column": 1267484
        },
        {
         "date": "2013-12-13T00:00:00.000000",
         "date_block_num": 11,
         "shop_id": 46,
         "item_id": 5572,
         "item_price": 1490,
         "item_cnt_day": 1,
         "_deepnote_index_column": 1267485
        },
        {
         "date": "2013-12-29T00:00:00.000000",
         "date_block_num": 11,
         "shop_id": 46,
         "item_id": 5612,
         "item_price": 3990,
         "item_cnt_day": 1,
         "_deepnote_index_column": 1267486
        },
        {
         "date": "2013-12-28T00:00:00.000000",
         "date_block_num": 11,
         "shop_id": 46,
         "item_id": 5571,
         "item_price": 449,
         "item_cnt_day": 1,
         "_deepnote_index_column": 1267487
        },
        {
         "date": "2013-12-27T00:00:00.000000",
         "date_block_num": 11,
         "shop_id": 46,
         "item_id": 5550,
         "item_price": 299,
         "item_cnt_day": 1,
         "_deepnote_index_column": 1267488
        },
        {
         "date": "2013-12-25T00:00:00.000000",
         "date_block_num": 11,
         "shop_id": 46,
         "item_id": 5898,
         "item_price": 999,
         "item_cnt_day": 1,
         "_deepnote_index_column": 1267489
        },
        {
         "date": "2013-12-31T00:00:00.000000",
         "date_block_num": 11,
         "shop_id": 46,
         "item_id": 5896,
         "item_price": 1099,
         "item_cnt_day": 1,
         "_deepnote_index_column": 1267490
        },
        {
         "date": "2013-12-30T00:00:00.000000",
         "date_block_num": 11,
         "shop_id": 46,
         "item_id": 5543,
         "item_price": 499,
         "item_cnt_day": 1,
         "_deepnote_index_column": 1267491
        },
        {
         "date": "2013-12-21T00:00:00.000000",
         "date_block_num": 11,
         "shop_id": 46,
         "item_id": 5542,
         "item_price": 499,
         "item_cnt_day": 1,
         "_deepnote_index_column": 1267492
        },
        {
         "date": "2013-12-30T00:00:00.000000",
         "date_block_num": 11,
         "shop_id": 46,
         "item_id": 5872,
         "item_price": 799,
         "item_cnt_day": 1,
         "_deepnote_index_column": 1267493
        },
        {
         "date": "2013-12-12T00:00:00.000000",
         "date_block_num": 11,
         "shop_id": 46,
         "item_id": 5552,
         "item_price": 299,
         "item_cnt_day": 1,
         "_deepnote_index_column": 1267494
        },
        {
         "date": "2013-12-10T00:00:00.000000",
         "date_block_num": 11,
         "shop_id": 46,
         "item_id": 5660,
         "item_price": 1299,
         "item_cnt_day": 2,
         "_deepnote_index_column": 1267495
        },
        {
         "date": "2013-12-22T00:00:00.000000",
         "date_block_num": 11,
         "shop_id": 46,
         "item_id": 5612,
         "item_price": 3989.5,
         "item_cnt_day": 1,
         "_deepnote_index_column": 1267496
        },
        {
         "date": "2013-12-17T00:00:00.000000",
         "date_block_num": 11,
         "shop_id": 46,
         "item_id": 5660,
         "item_price": 1299,
         "item_cnt_day": 2,
         "_deepnote_index_column": 1267497
        },
        {
         "date": "2013-12-29T00:00:00.000000",
         "date_block_num": 11,
         "shop_id": 46,
         "item_id": 5672,
         "item_price": 2590,
         "item_cnt_day": 2,
         "_deepnote_index_column": 1267498
        },
        {
         "date": "2013-12-30T00:00:00.000000",
         "date_block_num": 11,
         "shop_id": 46,
         "item_id": 5672,
         "item_price": 2590,
         "item_cnt_day": 2,
         "_deepnote_index_column": 1267499
        },
        {
         "date": "2013-12-10T00:00:00.000000",
         "date_block_num": 11,
         "shop_id": 46,
         "item_id": 5673,
         "item_price": 790,
         "item_cnt_day": 1,
         "_deepnote_index_column": 1267500
        },
        {
         "date": "2013-12-16T00:00:00.000000",
         "date_block_num": 11,
         "shop_id": 46,
         "item_id": 5673,
         "item_price": 790,
         "item_cnt_day": 1,
         "_deepnote_index_column": 1267501
        },
        {
         "date": "2013-12-25T00:00:00.000000",
         "date_block_num": 11,
         "shop_id": 46,
         "item_id": 5673,
         "item_price": 790,
         "item_cnt_day": 1,
         "_deepnote_index_column": 1267502
        },
        {
         "date": "2013-12-03T00:00:00.000000",
         "date_block_num": 11,
         "shop_id": 46,
         "item_id": 5682,
         "item_price": 299,
         "item_cnt_day": 1,
         "_deepnote_index_column": 1267503
        },
        {
         "date": "2013-12-10T00:00:00.000000",
         "date_block_num": 11,
         "shop_id": 46,
         "item_id": 6090,
         "item_price": 999,
         "item_cnt_day": 1,
         "_deepnote_index_column": 1267504
        },
        {
         "date": "2013-12-21T00:00:00.000000",
         "date_block_num": 11,
         "shop_id": 46,
         "item_id": 5945,
         "item_price": 299,
         "item_cnt_day": 1,
         "_deepnote_index_column": 1267505
        },
        {
         "date": "2013-12-29T00:00:00.000000",
         "date_block_num": 11,
         "shop_id": 46,
         "item_id": 5945,
         "item_price": 299,
         "item_cnt_day": 1,
         "_deepnote_index_column": 1267506
        },
        {
         "date": "2013-12-21T00:00:00.000000",
         "date_block_num": 11,
         "shop_id": 46,
         "item_id": 5946,
         "item_price": 299,
         "item_cnt_day": 1,
         "_deepnote_index_column": 1267507
        },
        {
         "date": "2013-12-21T00:00:00.000000",
         "date_block_num": 11,
         "shop_id": 46,
         "item_id": 5998,
         "item_price": 399,
         "item_cnt_day": 1,
         "_deepnote_index_column": 1267508
        },
        {
         "date": "2013-12-07T00:00:00.000000",
         "date_block_num": 11,
         "shop_id": 46,
         "item_id": 6002,
         "item_price": 299,
         "item_cnt_day": 1,
         "_deepnote_index_column": 1267509
        },
        {
         "date": "2013-12-25T00:00:00.000000",
         "date_block_num": 11,
         "shop_id": 46,
         "item_id": 6004,
         "item_price": 299,
         "item_cnt_day": 1,
         "_deepnote_index_column": 1267510
        },
        {
         "date": "2013-12-07T00:00:00.000000",
         "date_block_num": 11,
         "shop_id": 46,
         "item_id": 6005,
         "item_price": 299,
         "item_cnt_day": 1,
         "_deepnote_index_column": 1267511
        },
        {
         "date": "2013-12-28T00:00:00.000000",
         "date_block_num": 11,
         "shop_id": 46,
         "item_id": 5672,
         "item_price": 2590,
         "item_cnt_day": 1,
         "_deepnote_index_column": 1267512
        },
        {
         "date": "2013-12-10T00:00:00.000000",
         "date_block_num": 11,
         "shop_id": 46,
         "item_id": 6007,
         "item_price": 299,
         "item_cnt_day": 1,
         "_deepnote_index_column": 1267513
        },
        {
         "date": "2013-12-10T00:00:00.000000",
         "date_block_num": 11,
         "shop_id": 46,
         "item_id": 6008,
         "item_price": 299,
         "item_cnt_day": 1,
         "_deepnote_index_column": 1267514
        },
        {
         "date": "2013-12-14T00:00:00.000000",
         "date_block_num": 11,
         "shop_id": 46,
         "item_id": 6072,
         "item_price": 899,
         "item_cnt_day": 1,
         "_deepnote_index_column": 1267515
        },
        {
         "date": "2013-12-18T00:00:00.000000",
         "date_block_num": 11,
         "shop_id": 46,
         "item_id": 6077,
         "item_price": 629.3,
         "item_cnt_day": 1,
         "_deepnote_index_column": 1267516
        },
        {
         "date": "2013-12-26T00:00:00.000000",
         "date_block_num": 11,
         "shop_id": 46,
         "item_id": 6083,
         "item_price": 1999,
         "item_cnt_day": 1,
         "_deepnote_index_column": 1267517
        },
        {
         "date": "2013-12-28T00:00:00.000000",
         "date_block_num": 11,
         "shop_id": 46,
         "item_id": 6083,
         "item_price": 1999,
         "item_cnt_day": 2,
         "_deepnote_index_column": 1267518
        },
        {
         "date": "2013-12-06T00:00:00.000000",
         "date_block_num": 11,
         "shop_id": 46,
         "item_id": 6084,
         "item_price": 2199,
         "item_cnt_day": 1,
         "_deepnote_index_column": 1267519
        },
        {
         "date": "2013-12-07T00:00:00.000000",
         "date_block_num": 11,
         "shop_id": 46,
         "item_id": 6084,
         "item_price": 2199,
         "item_cnt_day": 1,
         "_deepnote_index_column": 1267520
        },
        {
         "date": "2013-12-21T00:00:00.000000",
         "date_block_num": 11,
         "shop_id": 46,
         "item_id": 6086,
         "item_price": 399,
         "item_cnt_day": 1,
         "_deepnote_index_column": 1267521
        },
        {
         "date": "2013-12-28T00:00:00.000000",
         "date_block_num": 11,
         "shop_id": 46,
         "item_id": 6086,
         "item_price": 399,
         "item_cnt_day": 1,
         "_deepnote_index_column": 1267522
        },
        {
         "date": "2013-12-12T00:00:00.000000",
         "date_block_num": 11,
         "shop_id": 46,
         "item_id": 5660,
         "item_price": 1299,
         "item_cnt_day": 1,
         "_deepnote_index_column": 1267523
        },
        {
         "date": "2013-12-03T00:00:00.000000",
         "date_block_num": 11,
         "shop_id": 46,
         "item_id": 6090,
         "item_price": 999,
         "item_cnt_day": 1,
         "_deepnote_index_column": 1267524
        },
        {
         "date": "2013-12-24T00:00:00.000000",
         "date_block_num": 11,
         "shop_id": 46,
         "item_id": 6087,
         "item_price": 2199,
         "item_cnt_day": 1,
         "_deepnote_index_column": 1267525
        },
        {
         "date": "2013-12-30T00:00:00.000000",
         "date_block_num": 11,
         "shop_id": 46,
         "item_id": 6087,
         "item_price": 2199,
         "item_cnt_day": 1,
         "_deepnote_index_column": 1267526
        },
        {
         "date": "2013-12-31T00:00:00.000000",
         "date_block_num": 11,
         "shop_id": 46,
         "item_id": 6087,
         "item_price": 2199,
         "item_cnt_day": 1,
         "_deepnote_index_column": 1267527
        },
        {
         "date": "2013-12-04T00:00:00.000000",
         "date_block_num": 11,
         "shop_id": 46,
         "item_id": 6008,
         "item_price": 299,
         "item_cnt_day": 1,
         "_deepnote_index_column": 1267528
        },
        {
         "date": "2013-12-27T00:00:00.000000",
         "date_block_num": 11,
         "shop_id": 46,
         "item_id": 5672,
         "item_price": 2590,
         "item_cnt_day": 1,
         "_deepnote_index_column": 1267529
        },
        {
         "date": "2013-12-07T00:00:00.000000",
         "date_block_num": 11,
         "shop_id": 46,
         "item_id": 6004,
         "item_price": 299,
         "item_cnt_day": 1,
         "_deepnote_index_column": 1267530
        },
        {
         "date": "2013-12-25T00:00:00.000000",
         "date_block_num": 11,
         "shop_id": 46,
         "item_id": 5672,
         "item_price": 2590,
         "item_cnt_day": 1,
         "_deepnote_index_column": 1267531
        },
        {
         "date": "2013-12-25T00:00:00.000000",
         "date_block_num": 11,
         "shop_id": 46,
         "item_id": 5665,
         "item_price": 1090,
         "item_cnt_day": 1,
         "_deepnote_index_column": 1267532
        },
        {
         "date": "2013-12-19T00:00:00.000000",
         "date_block_num": 11,
         "shop_id": 46,
         "item_id": 5664,
         "item_price": 2090,
         "item_cnt_day": 1,
         "_deepnote_index_column": 1267533
        },
        {
         "date": "2013-12-31T00:00:00.000000",
         "date_block_num": 11,
         "shop_id": 46,
         "item_id": 5663,
         "item_price": 2599,
         "item_cnt_day": 1,
         "_deepnote_index_column": 1267534
        },
        {
         "date": "2013-12-30T00:00:00.000000",
         "date_block_num": 11,
         "shop_id": 46,
         "item_id": 5663,
         "item_price": 2599,
         "item_cnt_day": 1,
         "_deepnote_index_column": 1267535
        },
        {
         "date": "2013-12-28T00:00:00.000000",
         "date_block_num": 11,
         "shop_id": 46,
         "item_id": 5663,
         "item_price": 2599,
         "item_cnt_day": 2,
         "_deepnote_index_column": 1267536
        },
        {
         "date": "2013-12-25T00:00:00.000000",
         "date_block_num": 11,
         "shop_id": 46,
         "item_id": 5663,
         "item_price": 2599,
         "item_cnt_day": 1,
         "_deepnote_index_column": 1267537
        },
        {
         "date": "2013-12-10T00:00:00.000000",
         "date_block_num": 11,
         "shop_id": 46,
         "item_id": 5669,
         "item_price": 2690,
         "item_cnt_day": 1,
         "_deepnote_index_column": 1267538
        },
        {
         "date": "2013-12-14T00:00:00.000000",
         "date_block_num": 11,
         "shop_id": 46,
         "item_id": 5663,
         "item_price": 2599,
         "item_cnt_day": 1,
         "_deepnote_index_column": 1267539
        },
        {
         "date": "2013-12-20T00:00:00.000000",
         "date_block_num": 11,
         "shop_id": 46,
         "item_id": 5663,
         "item_price": 2599,
         "item_cnt_day": 1,
         "_deepnote_index_column": 1267540
        },
        {
         "date": "2013-12-19T00:00:00.000000",
         "date_block_num": 11,
         "shop_id": 46,
         "item_id": 5663,
         "item_price": 2599,
         "item_cnt_day": 1,
         "_deepnote_index_column": 1267541
        },
        {
         "date": "2013-12-26T00:00:00.000000",
         "date_block_num": 11,
         "shop_id": 46,
         "item_id": 5672,
         "item_price": 2590,
         "item_cnt_day": 1,
         "_deepnote_index_column": 1267542
        },
        {
         "date": "2013-12-18T00:00:00.000000",
         "date_block_num": 11,
         "shop_id": 46,
         "item_id": 5663,
         "item_price": 2599,
         "item_cnt_day": 1,
         "_deepnote_index_column": 1267543
        },
        {
         "date": "2013-12-17T00:00:00.000000",
         "date_block_num": 11,
         "shop_id": 46,
         "item_id": 5663,
         "item_price": 2599,
         "item_cnt_day": 1,
         "_deepnote_index_column": 1267544
        },
        {
         "date": "2013-12-16T00:00:00.000000",
         "date_block_num": 11,
         "shop_id": 46,
         "item_id": 5663,
         "item_price": 2599,
         "item_cnt_day": 3,
         "_deepnote_index_column": 1267545
        },
        {
         "date": "2013-12-21T00:00:00.000000",
         "date_block_num": 11,
         "shop_id": 46,
         "item_id": 5663,
         "item_price": 2599,
         "item_cnt_day": 2,
         "_deepnote_index_column": 1267546
        },
        {
         "date": "2013-12-16T00:00:00.000000",
         "date_block_num": 11,
         "shop_id": 46,
         "item_id": 5669,
         "item_price": 2690,
         "item_cnt_day": 1,
         "_deepnote_index_column": 1267547
        },
        {
         "date": "2013-12-15T00:00:00.000000",
         "date_block_num": 11,
         "shop_id": 46,
         "item_id": 5663,
         "item_price": 2599,
         "item_cnt_day": 1,
         "_deepnote_index_column": 1267548
        },
        {
         "date": "2013-12-22T00:00:00.000000",
         "date_block_num": 11,
         "shop_id": 46,
         "item_id": 5669,
         "item_price": 2690,
         "item_cnt_day": 1,
         "_deepnote_index_column": 1267549
        },
        {
         "date": "2013-12-23T00:00:00.000000",
         "date_block_num": 11,
         "shop_id": 46,
         "item_id": 5672,
         "item_price": 2590,
         "item_cnt_day": 1,
         "_deepnote_index_column": 1267550
        },
        {
         "date": "2013-12-10T00:00:00.000000",
         "date_block_num": 11,
         "shop_id": 46,
         "item_id": 5663,
         "item_price": 2599,
         "item_cnt_day": 3,
         "_deepnote_index_column": 1267551
        },
        {
         "date": "2013-12-01T00:00:00.000000",
         "date_block_num": 11,
         "shop_id": 46,
         "item_id": 5672,
         "item_price": 2590,
         "item_cnt_day": 1,
         "_deepnote_index_column": 1267552
        },
        {
         "date": "2013-12-26T00:00:00.000000",
         "date_block_num": 11,
         "shop_id": 46,
         "item_id": 5671,
         "item_price": 2690,
         "item_cnt_day": 1,
         "_deepnote_index_column": 1267553
        },
        {
         "date": "2013-12-13T00:00:00.000000",
         "date_block_num": 11,
         "shop_id": 46,
         "item_id": 5672,
         "item_price": 2590,
         "item_cnt_day": 1,
         "_deepnote_index_column": 1267554
        },
        {
         "date": "2013-12-20T00:00:00.000000",
         "date_block_num": 11,
         "shop_id": 46,
         "item_id": 5671,
         "item_price": 2690,
         "item_cnt_day": 1,
         "_deepnote_index_column": 1267555
        },
        {
         "date": "2013-12-24T00:00:00.000000",
         "date_block_num": 11,
         "shop_id": 46,
         "item_id": 5671,
         "item_price": 2690,
         "item_cnt_day": 1,
         "_deepnote_index_column": 1267556
        },
        {
         "date": "2013-12-06T00:00:00.000000",
         "date_block_num": 11,
         "shop_id": 46,
         "item_id": 5671,
         "item_price": 2690,
         "item_cnt_day": 1,
         "_deepnote_index_column": 1267557
        },
        {
         "date": "2013-12-01T00:00:00.000000",
         "date_block_num": 11,
         "shop_id": 46,
         "item_id": 5671,
         "item_price": 2590,
         "item_cnt_day": 3,
         "_deepnote_index_column": 1267558
        },
        {
         "date": "2013-12-26T00:00:00.000000",
         "date_block_num": 11,
         "shop_id": 46,
         "item_id": 5669,
         "item_price": 2690,
         "item_cnt_day": 2,
         "_deepnote_index_column": 1267559
        },
        {
         "date": "2013-12-25T00:00:00.000000",
         "date_block_num": 11,
         "shop_id": 46,
         "item_id": 5669,
         "item_price": 2690,
         "item_cnt_day": 1,
         "_deepnote_index_column": 1267560
        },
        {
         "date": "2013-12-19T00:00:00.000000",
         "date_block_num": 11,
         "shop_id": 46,
         "item_id": 5671,
         "item_price": 2690,
         "item_cnt_day": 1,
         "_deepnote_index_column": 1267561
        }
       ]
      },
      "text/plain": "              date  date_block_num  shop_id  item_id  item_price  item_cnt_day\n0       2013-01-02               0       59    22154      999.00           1.0\n1       2013-01-03               0       25     2552      899.00           1.0\n2       2013-01-05               0       25     2552      899.00          -1.0\n3       2013-01-06               0       25     2554     1709.05           1.0\n4       2013-01-15               0       25     2555     1099.00           1.0\n...            ...             ...      ...      ...         ...           ...\n1267557 2013-12-06              11       46     5671     2690.00           1.0\n1267558 2013-12-01              11       46     5671     2590.00           3.0\n1267559 2013-12-26              11       46     5669     2690.00           2.0\n1267560 2013-12-25              11       46     5669     2690.00           1.0\n1267561 2013-12-19              11       46     5671     2690.00           1.0\n\n[1267562 rows x 6 columns]",
      "text/html": "<div>\n<style scoped>\n    .dataframe tbody tr th:only-of-type {\n        vertical-align: middle;\n    }\n\n    .dataframe tbody tr th {\n        vertical-align: top;\n    }\n\n    .dataframe thead th {\n        text-align: right;\n    }\n</style>\n<table border=\"1\" class=\"dataframe\">\n  <thead>\n    <tr style=\"text-align: right;\">\n      <th></th>\n      <th>date</th>\n      <th>date_block_num</th>\n      <th>shop_id</th>\n      <th>item_id</th>\n      <th>item_price</th>\n      <th>item_cnt_day</th>\n    </tr>\n  </thead>\n  <tbody>\n    <tr>\n      <th>0</th>\n      <td>2013-01-02</td>\n      <td>0</td>\n      <td>59</td>\n      <td>22154</td>\n      <td>999.00</td>\n      <td>1.0</td>\n    </tr>\n    <tr>\n      <th>1</th>\n      <td>2013-01-03</td>\n      <td>0</td>\n      <td>25</td>\n      <td>2552</td>\n      <td>899.00</td>\n      <td>1.0</td>\n    </tr>\n    <tr>\n      <th>2</th>\n      <td>2013-01-05</td>\n      <td>0</td>\n      <td>25</td>\n      <td>2552</td>\n      <td>899.00</td>\n      <td>-1.0</td>\n    </tr>\n    <tr>\n      <th>3</th>\n      <td>2013-01-06</td>\n      <td>0</td>\n      <td>25</td>\n      <td>2554</td>\n      <td>1709.05</td>\n      <td>1.0</td>\n    </tr>\n    <tr>\n      <th>4</th>\n      <td>2013-01-15</td>\n      <td>0</td>\n      <td>25</td>\n      <td>2555</td>\n      <td>1099.00</td>\n      <td>1.0</td>\n    </tr>\n    <tr>\n      <th>...</th>\n      <td>...</td>\n      <td>...</td>\n      <td>...</td>\n      <td>...</td>\n      <td>...</td>\n      <td>...</td>\n    </tr>\n    <tr>\n      <th>1267557</th>\n      <td>2013-12-06</td>\n      <td>11</td>\n      <td>46</td>\n      <td>5671</td>\n      <td>2690.00</td>\n      <td>1.0</td>\n    </tr>\n    <tr>\n      <th>1267558</th>\n      <td>2013-12-01</td>\n      <td>11</td>\n      <td>46</td>\n      <td>5671</td>\n      <td>2590.00</td>\n      <td>3.0</td>\n    </tr>\n    <tr>\n      <th>1267559</th>\n      <td>2013-12-26</td>\n      <td>11</td>\n      <td>46</td>\n      <td>5669</td>\n      <td>2690.00</td>\n      <td>2.0</td>\n    </tr>\n    <tr>\n      <th>1267560</th>\n      <td>2013-12-25</td>\n      <td>11</td>\n      <td>46</td>\n      <td>5669</td>\n      <td>2690.00</td>\n      <td>1.0</td>\n    </tr>\n    <tr>\n      <th>1267561</th>\n      <td>2013-12-19</td>\n      <td>11</td>\n      <td>46</td>\n      <td>5671</td>\n      <td>2690.00</td>\n      <td>1.0</td>\n    </tr>\n  </tbody>\n</table>\n<p>1267562 rows × 6 columns</p>\n</div>"
     },
     "metadata": {}
    }
   ]
  },
  {
   "cell_type": "code",
   "metadata": {
    "tags": [],
    "cell_id": "00024-c15bc3c3-ba8c-47f7-82f9-63cc0eee9afb",
    "deepnote_to_be_reexecuted": false,
    "source_hash": "b623e53d",
    "execution_start": 1620657512426,
    "execution_millis": 1,
    "deepnote_cell_type": "code"
   },
   "source": "",
   "execution_count": null,
   "outputs": []
  },
  {
   "cell_type": "code",
   "metadata": {
    "tags": [],
    "cell_id": "00025-ca0450bf-e4d3-4e41-9d70-fed0055051cc",
    "deepnote_to_be_reexecuted": false,
    "source_hash": "b623e53d",
    "execution_start": 1620657512427,
    "execution_millis": 0,
    "deepnote_cell_type": "code"
   },
   "source": "",
   "execution_count": null,
   "outputs": []
  },
  {
   "cell_type": "markdown",
   "source": "<a style='text-decoration:none;line-height:16px;display:flex;color:#5B5B62;padding:10px;justify-content:end;' href='https://deepnote.com?utm_source=created-in-deepnote-cell&projectId=796ba814-f632-4502-b0d7-7e2f8f9e546d' target=\"_blank\">\n<img alt='Created in deepnote.com' style='display:inline;max-height:16px;margin:0px;margin-right:7.5px;' src='data:image/svg+xml;base64,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' > </img>\nCreated in <span style='font-weight:600;margin-left:4px;'>Deepnote</span></a>",
   "metadata": {
    "tags": [],
    "created_in_deepnote_cell": true,
    "deepnote_cell_type": "markdown"
   }
  }
 ],
 "nbformat": 4,
 "nbformat_minor": 2,
 "metadata": {
  "orig_nbformat": 2,
  "deepnote": {
   "is_reactive": false
  },
  "deepnote_notebook_id": "738f5e0f-48e2-4a77-98ad-a398c5447f1d",
  "deepnote_execution_queue": []
 }
}