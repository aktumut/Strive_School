{
 "cells": [
  {
   "cell_type": "markdown",
   "source": "## Imports",
   "metadata": {
    "id": "Fvhf5aj7GTI8",
    "cell_id": "00000-a938295d-f7ff-405b-9d88-b9cce9250db5",
    "deepnote_cell_type": "markdown"
   }
  },
  {
   "cell_type": "code",
   "metadata": {
    "colab": {
     "base_uri": "https://localhost:8080/"
    },
    "id": "mjnuJ19dJV7v",
    "outputId": "d20d4825-fa0d-4f12-9d07-8bbba494c64c",
    "deepnote_to_be_reexecuted": false,
    "source_hash": "fbbc4272",
    "execution_start": 1620311506116,
    "execution_millis": 1421,
    "cell_id": "00001-f424be50-3195-4ba2-aaff-f499a65962b4",
    "deepnote_cell_type": "code"
   },
   "source": "import time\nfrom IPython.display import clear_output\nimport numpy    as np\nimport pandas   as pd\nimport seaborn  as sb\nimport matplotlib.pyplot as plt\nimport sklearn  as skl\n\nfrom sklearn import pipeline      # Pipeline\nfrom sklearn import preprocessing # OrdinalEncoder, LabelEncoder\nfrom sklearn import impute\nfrom sklearn import compose\nfrom sklearn import model_selection # train_test_split\nfrom sklearn import metrics         # accuracy_score, balanced_accuracy_score, plot_confusion_matrix\nfrom sklearn import set_config\nfrom sklearn.impute import KNNImputer\nfrom sklearn.preprocessing import PowerTransformer\nfrom sklearn.preprocessing import QuantileTransformer\n\nset_config(display='diagram') # Useful for display the pipeline\n\nprint(\"Pandas  \", pd.__version__)\nprint(\"Sklearn \", skl.__version__) # Try to use 0.24",
   "execution_count": null,
   "outputs": [
    {
     "name": "stdout",
     "text": "Pandas   1.2.4\nSklearn  0.24.2\n",
     "output_type": "stream"
    }
   ]
  },
  {
   "cell_type": "markdown",
   "source": "## Get the dataset\n- **CLOUD = True**: Download dataset from Kaggle. Necesary for cloud enviroments like COLAB. **Specify your [kaggle credentials](https://www.kaggle.com/docs/api)**.\n- **CLOUD = False**: Get the dataset from your local machine. **Specify the data path**.",
   "metadata": {
    "id": "7Pl1NEDkGTJC",
    "cell_id": "00002-b1d1ef5a-ba73-49f7-a703-897c7daf0159",
    "deepnote_cell_type": "markdown"
   }
  },
  {
   "cell_type": "code",
   "metadata": {
    "id": "7JpmZyaMGTJD",
    "colab": {
     "base_uri": "https://localhost:8080/",
     "height": 307
    },
    "outputId": "096819c7-915b-413e-87c2-c5fe3d4e0619",
    "deepnote_to_be_reexecuted": false,
    "source_hash": "caf4c8e2",
    "execution_start": 1620311567501,
    "execution_millis": 8,
    "cell_id": "00003-5adf1dff-b267-441f-af56-bdb9f5e8b373",
    "deepnote_cell_type": "code"
   },
   "source": "CLOUD = True\n\nif CLOUD:\n    import os\n    os.environ['KAGGLE_USERNAME'] = \"umutakta\"\n    os.environ['KAGGLE_KEY']      = \"a471e5474add8d57cadac3cc5ff2b1d6\"  # See https://www.kaggle.com/docs/api\n    #!pip install --upgrade kaggle\n    #!kaggle competitions download -c titanic\n    DATA_PATH = \"/work/Strive_School/Feature_Engineering_(Module_4)/Day_4_ Categorical_Encoding/titanic/\"\n\nelse:\n    DATA_PATH = \"../../datasets/titanic/\"\n\nDATA_PATH",
   "execution_count": null,
   "outputs": [
    {
     "output_type": "execute_result",
     "execution_count": 3,
     "data": {
      "text/plain": "'/work/Strive_School/Feature_Engineering_(Module_4)/Day_4_ Categorical_Encoding/titanic/'"
     },
     "metadata": {}
    }
   ]
  },
  {
   "cell_type": "markdown",
   "source": "## Load data",
   "metadata": {
    "id": "AENWx5_SGTJE",
    "cell_id": "00004-36810ed7-bff6-4d0c-8937-f0942fe68b5d",
    "deepnote_cell_type": "markdown"
   }
  },
  {
   "cell_type": "code",
   "metadata": {
    "colab": {
     "base_uri": "https://localhost:8080/"
    },
    "id": "wAy8TnVPJV8S",
    "outputId": "9dd361fa-9cb6-47fb-993e-c8a0a39537da",
    "deepnote_to_be_reexecuted": false,
    "source_hash": "e6b3969e",
    "execution_start": 1620311572282,
    "execution_millis": 20,
    "cell_id": "00005-6a26d0ea-6936-45fa-9818-3b9aa14aac33",
    "deepnote_cell_type": "code"
   },
   "source": "df      = pd.read_csv(DATA_PATH + \"train.csv\", index_col='PassengerId')\ndf_test = pd.read_csv(DATA_PATH + \"test.csv\",  index_col='PassengerId')\n\nprint(\"Train DataFrame:\", df.shape)\nprint(\"Test DataFrame: \", df_test.shape)",
   "execution_count": null,
   "outputs": [
    {
     "name": "stdout",
     "text": "Train DataFrame: (891, 11)\nTest DataFrame:  (418, 10)\n",
     "output_type": "stream"
    }
   ]
  },
  {
   "cell_type": "markdown",
   "source": "## Check missings",
   "metadata": {
    "id": "L-J5FF4jGTJE",
    "cell_id": "00006-a196764f-5551-4245-9ff7-982c377f1a12",
    "deepnote_cell_type": "markdown"
   }
  },
  {
   "cell_type": "code",
   "metadata": {
    "id": "Aa63GWy2GTJF",
    "colab": {
     "base_uri": "https://localhost:8080/"
    },
    "outputId": "12527b4a-9e0c-4b83-99a8-50783593f832",
    "deepnote_to_be_reexecuted": false,
    "source_hash": "c1beb346",
    "execution_start": 1620313532605,
    "execution_millis": 6,
    "cell_id": "00007-24578fdf-c01e-4de6-9a8a-7d45c75b1d45",
    "deepnote_cell_type": "code"
   },
   "source": "#df.isnull().sum(),\ndf_test.isnull().sum()",
   "execution_count": null,
   "outputs": [
    {
     "output_type": "execute_result",
     "execution_count": 49,
     "data": {
      "text/plain": "Pclass      0\nName        0\nSex         0\nAge         0\nSibSp       0\nParch       0\nTicket      0\nFare        1\nCabin       0\nEmbarked    0\nTitle       1\ndtype: int64"
     },
     "metadata": {}
    }
   ]
  },
  {
   "cell_type": "markdown",
   "source": "\nExtract the title (Mr, Mrs, ... ) from the \"Name\" column.\n",
   "metadata": {
    "id": "wqMF4rvWGTJF",
    "cell_id": "00009-54fbbd77-451e-4293-b59f-ad2333bb32b7",
    "deepnote_cell_type": "markdown"
   }
  },
  {
   "cell_type": "code",
   "metadata": {
    "deletable": false,
    "nbgrader": {
     "cell_type": "code",
     "checksum": "cac1de4ed2d966fcdf707a8bfd131fba",
     "grade": false,
     "grade_id": "cell-d56107842f0f54d2",
     "locked": false,
     "schema_version": 3,
     "solution": true,
     "task": false
    },
    "id": "etk_5JccGTJG",
    "deepnote_to_be_reexecuted": false,
    "source_hash": "f6edd746",
    "execution_start": 1620311576640,
    "execution_millis": 0,
    "cell_id": "00010-5c94ea79-fedc-48b0-b0be-b02e854f764b",
    "deepnote_cell_type": "code"
   },
   "source": "\nget_Title_from_Name = lambda x: x.split(\",\")[1].split(\".\")[0].strip()\n\ndf['Title']      = df['Name'].map(get_Title_from_Name )\ndf_test['Title'] = df_test['Name'].map(get_Title_from_Name)",
   "execution_count": null,
   "outputs": []
  },
  {
   "cell_type": "markdown",
   "source": "# Exercise 2 (1pts):\nApply the title_dictionary to get a better information about the title. You have to overwrite the Title variable.",
   "metadata": {
    "id": "UgNzdajbGTJH",
    "cell_id": "00012-b560cbb4-c867-4abc-a3b7-8269eeed93e7",
    "deepnote_cell_type": "markdown"
   }
  },
  {
   "cell_type": "code",
   "metadata": {
    "id": "5ldddkOOGTJH",
    "deepnote_to_be_reexecuted": false,
    "source_hash": "93108900",
    "execution_start": 1620311581972,
    "execution_millis": 0,
    "cell_id": "00013-9e47ad21-f2a2-4d3a-874d-315d66b49c85",
    "deepnote_cell_type": "code"
   },
   "source": "title_dictionary = {\n    \"Capt\": \"Officer\",\n    \"Col\": \"Officer\",\n    \"Major\": \"Officer\",\n    \"Jonkheer\": \"Royalty\",\n    \"Don\": \"Royalty\",\n    \"Sir\" : \"Royalty\",\n    \"Dr\": \"Officer\",\n    \"Rev\": \"Officer\",\n    \"the Countess\":\"Royalty\",\n    \"Mme\": \"Mrs\",\n    \"Mlle\": \"Miss\",\n    \"Ms\": \"Mrs\",\n    \"Mr\" : \"Mr\",\n    \"Mrs\" : \"Mrs\",\n    \"Miss\" : \"Miss\",\n    \"Master\" : \"Master\",\n    \"Lady\" : \"Royalty\"\n}",
   "execution_count": null,
   "outputs": []
  },
  {
   "cell_type": "code",
   "metadata": {
    "deletable": false,
    "nbgrader": {
     "cell_type": "code",
     "checksum": "da7233548e7218eded680b5edb7963de",
     "grade": false,
     "grade_id": "cell-5c6a842c812fafda",
     "locked": false,
     "schema_version": 3,
     "solution": true,
     "task": false
    },
    "id": "qcrIrZ4eGTJH",
    "deepnote_to_be_reexecuted": false,
    "source_hash": "460610bb",
    "execution_start": 1620311584627,
    "execution_millis": 0,
    "cell_id": "00014-2537c18a-983b-488c-a520-07a255e6b9aa",
    "deepnote_cell_type": "code"
   },
   "source": "df[\"Title\"] = df['Title'].map(title_dictionary)\ndf_test[\"Title\"] = df_test['Title'].map(title_dictionary)",
   "execution_count": null,
   "outputs": []
  },
  {
   "cell_type": "markdown",
   "source": "# Exercise OPTINAL (0pts):\nTry to extract some information from the feature **Ticket**. Search on Internet if that colum has some kind of information.",
   "metadata": {
    "id": "CvWatIkvGTJI",
    "cell_id": "00016-c2612e08-d5f5-45e5-bdb4-3ace4389972c",
    "deepnote_cell_type": "markdown"
   }
  },
  {
   "cell_type": "code",
   "metadata": {
    "id": "s6UeTErrGTJI",
    "colab": {
     "base_uri": "https://localhost:8080/"
    },
    "outputId": "6d4758f1-6d32-471c-dc0e-c1798e1be947",
    "deepnote_to_be_reexecuted": false,
    "source_hash": "8057010a",
    "execution_start": 1620132950762,
    "execution_millis": 12,
    "cell_id": "00017-6833d64e-bc4e-43fc-9aa0-23a653135054",
    "deepnote_cell_type": "code"
   },
   "source": "df_test['Ticket']",
   "execution_count": null,
   "outputs": [
    {
     "output_type": "execute_result",
     "execution_count": 18,
     "data": {
      "text/plain": "PassengerId\n892                 330911\n893                 363272\n894                 240276\n895                 315154\n896                3101298\n               ...        \n1305             A.5. 3236\n1306              PC 17758\n1307    SOTON/O.Q. 3101262\n1308                359309\n1309                  2668\nName: Ticket, Length: 418, dtype: object"
     },
     "metadata": {}
    }
   ]
  },
  {
   "cell_type": "markdown",
   "source": "extract some information from the feature **Cabin**. Search on Internet if that colum has some kind of information.",
   "metadata": {
    "id": "mIg7gLfIGTJJ",
    "cell_id": "00018-ec507071-0601-401e-9800-f7921724c5bf",
    "deepnote_cell_type": "markdown"
   }
  },
  {
   "cell_type": "code",
   "metadata": {
    "id": "wtnbMMjsGTJJ",
    "deepnote_to_be_reexecuted": false,
    "source_hash": "b5ab2229",
    "execution_start": 1620313814529,
    "execution_millis": 12,
    "cell_id": "00019-95017b8f-1744-45c8-83c4-89688b9380de",
    "deepnote_cell_type": "code"
   },
   "source": "df_test['Cabin']\n\ndf.Cabin.fillna(0, inplace=True) #We named Null cells as 'Empty'\ndf_test.Cabin.fillna(0, inplace=True) #We named Null cells as 'Empty'\n\ndf.loc[df[\"Cabin\"] != 0, \"Cabin\"] = 1\ndf_test.loc[df_test[\"Cabin\"] != 0, \"Cabin\" ] =1\n\n\ndf_test[\"Fare\"]=df_test[\"Fare\"].fillna(value=df_test[\"Fare\"].mean())\n\ndf_test.isnull().sum()\n",
   "execution_count": null,
   "outputs": [
    {
     "output_type": "execute_result",
     "execution_count": 57,
     "data": {
      "text/plain": "Pclass      0\nName        0\nSex         0\nAge         0\nSibSp       0\nParch       0\nTicket      0\nFare        0\nCabin       0\nEmbarked    0\nTitle       1\ndtype: int64"
     },
     "metadata": {}
    }
   ]
  },
  {
   "cell_type": "markdown",
   "source": "### Target Encoding",
   "metadata": {
    "tags": [],
    "cell_id": "00017-182502a5-314c-4fcf-8afd-71ed59aeda5e",
    "deepnote_cell_type": "markdown"
   }
  },
  {
   "cell_type": "code",
   "metadata": {
    "tags": [],
    "cell_id": "00020-c94030fe-bd06-4783-bcb4-1bc768c7938e",
    "deepnote_to_be_reexecuted": false,
    "source_hash": "4319b2e1",
    "execution_start": 1620312864940,
    "execution_millis": 17,
    "deepnote_cell_type": "code"
   },
   "source": "import category_encoders as ce\ntarget_encoder = ce.TargetEncoder(smoothing=0)\n\ntrain_encoded=target_encoder.fit_transform(df[\"Embarked\"],df[\"Survived\"])\ndf[\"Embarked\"]=train_encoded\ndf[\"Embarked\"]",
   "execution_count": null,
   "outputs": [
    {
     "name": "stderr",
     "text": "/root/venv/lib/python3.7/site-packages/category_encoders/utils.py:21: FutureWarning: is_categorical is deprecated and will be removed in a future version.  Use is_categorical_dtype instead\n  elif pd.api.types.is_categorical(cols):\n",
     "output_type": "stream"
    },
    {
     "output_type": "execute_result",
     "execution_count": 18,
     "data": {
      "text/plain": "PassengerId\n1      0.336957\n2      0.553571\n3      0.336957\n4      0.336957\n5      0.336957\n         ...   \n887    0.336957\n888    0.336957\n889    0.336957\n890    0.553571\n891    0.389610\nName: Embarked, Length: 891, dtype: float64"
     },
     "metadata": {}
    }
   ]
  },
  {
   "cell_type": "code",
   "metadata": {
    "id": "Ga2zbIvq6bAm",
    "cell_id": "00021-b62b9789-a82c-442c-a540-4e32159854b2",
    "deepnote_to_be_reexecuted": false,
    "source_hash": "c5f81e32",
    "execution_start": 1620312869957,
    "execution_millis": 0,
    "deepnote_cell_type": "code"
   },
   "source": "df.Age.fillna(df.groupby(['Pclass', 'Sex']).Age.transform('mean'), inplace=True)\ndf_test.Age.fillna(df_test.groupby(['Pclass', 'Sex']).Age.transform('mean'), inplace=True)\n",
   "execution_count": null,
   "outputs": []
  },
  {
   "cell_type": "markdown",
   "source": "# Preprocessing\nFor X data, notice that...\n- We drop Survived because is the target variable\n- We drop Name because we have extracted the Title: Mr, Mrs, ...\n- We drop Ticket because it has no information -> see df.Ticket.nunique()\n- We drop Cabin because it has a lot of missings (77% are missings)\n\nThen, we identify **numerical** variables and **categorical** variables,",
   "metadata": {
    "id": "9tGsgzSwGTJJ",
    "cell_id": "00022-30775f7e-d27a-44d7-8645-8bafc183b677",
    "deepnote_cell_type": "markdown"
   }
  },
  {
   "cell_type": "code",
   "metadata": {
    "id": "FDrpBk5_GTJJ",
    "deepnote_to_be_reexecuted": false,
    "source_hash": "b1e3ada0",
    "execution_start": 1620313838563,
    "execution_millis": 5,
    "cell_id": "00023-e15df254-a836-4043-a69f-84d67ec0c2c8",
    "deepnote_cell_type": "code"
   },
   "source": "x = df.drop(columns=[\"Survived\", 'Name', 'Ticket']) # X DATA (WILL BE TRAIN+VALID DATA)\ny = df[\"Survived\"] # 0 = No, 1 = Yes\n\nx_test = df_test.drop(columns=['Name', 'Ticket']) # # X_TEST DATA (NEW DATA)",
   "execution_count": null,
   "outputs": []
  },
  {
   "cell_type": "code",
   "metadata": {
    "id": "IH7jsS2BGTJK",
    "colab": {
     "base_uri": "https://localhost:8080/"
    },
    "outputId": "dc0a4d2e-2aa5-41b3-dca0-753a1f608328",
    "deepnote_to_be_reexecuted": false,
    "source_hash": "978277ff",
    "execution_start": 1620312892280,
    "execution_millis": 9,
    "cell_id": "00024-f6e9bf33-ee30-4c66-ba62-baea08eb3f06",
    "deepnote_cell_type": "code"
   },
   "source": "cat_vars  = ['Sex', 'Title']         # x.select_dtypes(include=[object]).columns.values.tolist()\nnum_vars  = ['Pclass', 'SibSp', 'Parch', 'Fare', 'Age', 'Embarked'] # x.select_dtypes(exclude=[object]).columns.values.tolist()\n\nprint(\"\\nNumerical features:\\n\", num_vars)\nprint(\"\\nCategorical features:\\n\", cat_vars)",
   "execution_count": null,
   "outputs": [
    {
     "name": "stdout",
     "text": "\nNumerical features:\n ['Pclass', 'SibSp', 'Parch', 'Fare', 'Age', 'Embarked']\n\nCategorical features:\n ['Sex', 'Title']\n",
     "output_type": "stream"
    }
   ]
  },
  {
   "cell_type": "markdown",
   "source": "# Exercise 3 (2pts):\nCreate a **ColumnTransformer for Tree Models**. You need to create 2 pipelines (one for numerical and other for categories). Remember:\n- Categorical pipeline: Some SimpleImputer -> Some Encoder\n- Numerical pipeline: Some SimpleImputer -> NO Encoder",
   "metadata": {
    "id": "EThRmjL4GTJK",
    "cell_id": "00025-9eb6f645-b3b7-4b7d-9906-11d607ca9cc4",
    "deepnote_cell_type": "markdown"
   }
  },
  {
   "cell_type": "code",
   "metadata": {
    "tags": [],
    "cell_id": "00026-a1c2b893-b107-4790-845d-c6c3641346bc",
    "deepnote_cell_type": "code"
   },
   "source": "",
   "execution_count": null,
   "outputs": []
  },
  {
   "cell_type": "code",
   "metadata": {
    "deletable": false,
    "nbgrader": {
     "cell_type": "code",
     "checksum": "4a99fc5ecc693dc549b0e1560c568eea",
     "grade": false,
     "grade_id": "cell-c607e75fb38ea248",
     "locked": false,
     "schema_version": 3,
     "solution": true,
     "task": false
    },
    "id": "iujggawzGTJL",
    "colab": {
     "base_uri": "https://localhost:8080/",
     "height": 134
    },
    "outputId": "dbc2d864-ebcb-4c11-d2d6-b86d8f2770d4",
    "deepnote_to_be_reexecuted": false,
    "source_hash": "2ca727d2",
    "execution_start": 1620313955573,
    "execution_millis": 28,
    "cell_id": "00027-2c81d26a-f8dc-416c-8794-7357802d4110",
    "deepnote_cell_type": "code"
   },
   "source": "\n#num_4_treeModels = pipeline.Pipeline(steps=[('imputer', impute.SimpleImputer(strategy='mean', add_indicator=False)), \n#                                            ])\n\n#cat_4_treeModels = pipeline.Pipeline(steps=[\n#    ('imputer', impute.SimpleImputer(strategy='constant', fill_value='missing')),\n#    ('ordinal', preprocessing.OrdinalEncoder(handle_unknown=\"use_encoded_value\", unknown_value=np.nan\n#))\n#])\n\ncat_4_multModels = pipeline.Pipeline(steps=[\n    ('imputer', impute.SimpleImputer(strategy='constant', fill_value='missing')),\n    ('one hot', preprocessing.OneHotEncoder(handle_unknown=\"ignore\"\n))\n])\n\n\nnum_4_multmodels=pipeline.Pipeline(steps=[\n    (\"imputer\",KNNImputer(n_neighbors=5)),\n    (\"quantile transformer\",preprocessing.QuantileTransformer(n_quantiles=100, random_state=0))\n    ])\n\ntree_prepro = compose.ColumnTransformer(transformers=[\n    #('num', num_4_treeModels, num_vars),\n    #('cat', cat_4_treeModels, cat_vars),\n    (\"cat mult\",cat_4_multModels,cat_vars),\n    (\"num mult\",num_4_multmodels,num_vars)\n], remainder='drop') # Drop other vars not specified in num_vars or cat_vars\n\ntree_prepro\n\n",
   "execution_count": null,
   "outputs": [
    {
     "output_type": "execute_result",
     "execution_count": 64,
     "data": {
      "text/plain": "ColumnTransformer(transformers=[('cat mult',\n                                 Pipeline(steps=[('imputer',\n                                                  SimpleImputer(fill_value='missing',\n                                                                strategy='constant')),\n                                                 ('one hot',\n                                                  OneHotEncoder(handle_unknown='ignore'))]),\n                                 ['Sex', 'Title']),\n                                ('num mult',\n                                 Pipeline(steps=[('imputer', KNNImputer()),\n                                                 ('quantile transformer',\n                                                  QuantileTransformer(n_quantiles=100,\n                                                                      random_state=0))]),\n                                 ['Pclass', 'SibSp', 'Parch', 'Fare', 'Age',\n                                  'Embarked'])])",
      "text/html": "<style>#sk-f70e7441-5f88-4ef5-bfaa-0b1f5f74af6a {color: black;background-color: white;}#sk-f70e7441-5f88-4ef5-bfaa-0b1f5f74af6a pre{padding: 0;}#sk-f70e7441-5f88-4ef5-bfaa-0b1f5f74af6a div.sk-toggleable {background-color: white;}#sk-f70e7441-5f88-4ef5-bfaa-0b1f5f74af6a label.sk-toggleable__label {cursor: pointer;display: block;width: 100%;margin-bottom: 0;padding: 0.2em 0.3em;box-sizing: border-box;text-align: center;}#sk-f70e7441-5f88-4ef5-bfaa-0b1f5f74af6a div.sk-toggleable__content {max-height: 0;max-width: 0;overflow: hidden;text-align: left;background-color: #f0f8ff;}#sk-f70e7441-5f88-4ef5-bfaa-0b1f5f74af6a div.sk-toggleable__content pre {margin: 0.2em;color: black;border-radius: 0.25em;background-color: #f0f8ff;}#sk-f70e7441-5f88-4ef5-bfaa-0b1f5f74af6a input.sk-toggleable__control:checked~div.sk-toggleable__content {max-height: 200px;max-width: 100%;overflow: auto;}#sk-f70e7441-5f88-4ef5-bfaa-0b1f5f74af6a div.sk-estimator input.sk-toggleable__control:checked~label.sk-toggleable__label {background-color: #d4ebff;}#sk-f70e7441-5f88-4ef5-bfaa-0b1f5f74af6a div.sk-label input.sk-toggleable__control:checked~label.sk-toggleable__label {background-color: #d4ebff;}#sk-f70e7441-5f88-4ef5-bfaa-0b1f5f74af6a input.sk-hidden--visually {border: 0;clip: rect(1px 1px 1px 1px);clip: rect(1px, 1px, 1px, 1px);height: 1px;margin: -1px;overflow: hidden;padding: 0;position: absolute;width: 1px;}#sk-f70e7441-5f88-4ef5-bfaa-0b1f5f74af6a div.sk-estimator {font-family: monospace;background-color: #f0f8ff;margin: 0.25em 0.25em;border: 1px dotted black;border-radius: 0.25em;box-sizing: border-box;}#sk-f70e7441-5f88-4ef5-bfaa-0b1f5f74af6a div.sk-estimator:hover {background-color: #d4ebff;}#sk-f70e7441-5f88-4ef5-bfaa-0b1f5f74af6a div.sk-parallel-item::after {content: \"\";width: 100%;border-bottom: 1px solid gray;flex-grow: 1;}#sk-f70e7441-5f88-4ef5-bfaa-0b1f5f74af6a div.sk-label:hover label.sk-toggleable__label {background-color: #d4ebff;}#sk-f70e7441-5f88-4ef5-bfaa-0b1f5f74af6a div.sk-serial::before {content: \"\";position: absolute;border-left: 1px solid gray;box-sizing: border-box;top: 2em;bottom: 0;left: 50%;}#sk-f70e7441-5f88-4ef5-bfaa-0b1f5f74af6a div.sk-serial {display: flex;flex-direction: column;align-items: center;background-color: white;}#sk-f70e7441-5f88-4ef5-bfaa-0b1f5f74af6a div.sk-item {z-index: 1;}#sk-f70e7441-5f88-4ef5-bfaa-0b1f5f74af6a div.sk-parallel {display: flex;align-items: stretch;justify-content: center;background-color: white;}#sk-f70e7441-5f88-4ef5-bfaa-0b1f5f74af6a div.sk-parallel-item {display: flex;flex-direction: column;position: relative;background-color: white;}#sk-f70e7441-5f88-4ef5-bfaa-0b1f5f74af6a div.sk-parallel-item:first-child::after {align-self: flex-end;width: 50%;}#sk-f70e7441-5f88-4ef5-bfaa-0b1f5f74af6a div.sk-parallel-item:last-child::after {align-self: flex-start;width: 50%;}#sk-f70e7441-5f88-4ef5-bfaa-0b1f5f74af6a div.sk-parallel-item:only-child::after {width: 0;}#sk-f70e7441-5f88-4ef5-bfaa-0b1f5f74af6a div.sk-dashed-wrapped {border: 1px dashed gray;margin: 0.2em;box-sizing: border-box;padding-bottom: 0.1em;background-color: white;position: relative;}#sk-f70e7441-5f88-4ef5-bfaa-0b1f5f74af6a div.sk-label label {font-family: monospace;font-weight: bold;background-color: white;display: inline-block;line-height: 1.2em;}#sk-f70e7441-5f88-4ef5-bfaa-0b1f5f74af6a div.sk-label-container {position: relative;z-index: 2;text-align: center;}#sk-f70e7441-5f88-4ef5-bfaa-0b1f5f74af6a div.sk-container {display: inline-block;position: relative;}</style><div id=\"sk-f70e7441-5f88-4ef5-bfaa-0b1f5f74af6a\" class\"sk-top-container\"><div class=\"sk-container\"><div class=\"sk-item sk-dashed-wrapped\"><div class=\"sk-label-container\"><div class=\"sk-label sk-toggleable\"><input class=\"sk-toggleable__control sk-hidden--visually\" id=\"74b109f2-a7dc-48e1-ade0-1e3dc4670a02\" type=\"checkbox\" ><label class=\"sk-toggleable__label\" for=\"74b109f2-a7dc-48e1-ade0-1e3dc4670a02\">ColumnTransformer</label><div class=\"sk-toggleable__content\"><pre>ColumnTransformer(transformers=[('cat mult',\n                                 Pipeline(steps=[('imputer',\n                                                  SimpleImputer(fill_value='missing',\n                                                                strategy='constant')),\n                                                 ('one hot',\n                                                  OneHotEncoder(handle_unknown='ignore'))]),\n                                 ['Sex', 'Title']),\n                                ('num mult',\n                                 Pipeline(steps=[('imputer', KNNImputer()),\n                                                 ('quantile transformer',\n                                                  QuantileTransformer(n_quantiles=100,\n                                                                      random_state=0))]),\n                                 ['Pclass', 'SibSp', 'Parch', 'Fare', 'Age',\n                                  'Embarked'])])</pre></div></div></div><div class=\"sk-parallel\"><div class=\"sk-parallel-item\"><div class=\"sk-item\"><div class=\"sk-label-container\"><div class=\"sk-label sk-toggleable\"><input class=\"sk-toggleable__control sk-hidden--visually\" id=\"2b917ed6-e4b1-478f-8fa7-d3035a5ad244\" type=\"checkbox\" ><label class=\"sk-toggleable__label\" for=\"2b917ed6-e4b1-478f-8fa7-d3035a5ad244\">cat mult</label><div class=\"sk-toggleable__content\"><pre>['Sex', 'Title']</pre></div></div></div><div class=\"sk-serial\"><div class=\"sk-item\"><div class=\"sk-serial\"><div class=\"sk-item\"><div class=\"sk-estimator sk-toggleable\"><input class=\"sk-toggleable__control sk-hidden--visually\" id=\"b9a51a2f-bf40-47ff-b9ff-bcb754a8c2cf\" type=\"checkbox\" ><label class=\"sk-toggleable__label\" for=\"b9a51a2f-bf40-47ff-b9ff-bcb754a8c2cf\">SimpleImputer</label><div class=\"sk-toggleable__content\"><pre>SimpleImputer(fill_value='missing', strategy='constant')</pre></div></div></div><div class=\"sk-item\"><div class=\"sk-estimator sk-toggleable\"><input class=\"sk-toggleable__control sk-hidden--visually\" id=\"d66c7308-6750-4519-bb92-c71c9ad9c484\" type=\"checkbox\" ><label class=\"sk-toggleable__label\" for=\"d66c7308-6750-4519-bb92-c71c9ad9c484\">OneHotEncoder</label><div class=\"sk-toggleable__content\"><pre>OneHotEncoder(handle_unknown='ignore')</pre></div></div></div></div></div></div></div></div><div class=\"sk-parallel-item\"><div class=\"sk-item\"><div class=\"sk-label-container\"><div class=\"sk-label sk-toggleable\"><input class=\"sk-toggleable__control sk-hidden--visually\" id=\"b7a66471-6b96-4bfb-817a-10e1549cd7f6\" type=\"checkbox\" ><label class=\"sk-toggleable__label\" for=\"b7a66471-6b96-4bfb-817a-10e1549cd7f6\">num mult</label><div class=\"sk-toggleable__content\"><pre>['Pclass', 'SibSp', 'Parch', 'Fare', 'Age', 'Embarked']</pre></div></div></div><div class=\"sk-serial\"><div class=\"sk-item\"><div class=\"sk-serial\"><div class=\"sk-item\"><div class=\"sk-estimator sk-toggleable\"><input class=\"sk-toggleable__control sk-hidden--visually\" id=\"110b9091-c032-496b-ac57-665171723065\" type=\"checkbox\" ><label class=\"sk-toggleable__label\" for=\"110b9091-c032-496b-ac57-665171723065\">KNNImputer</label><div class=\"sk-toggleable__content\"><pre>KNNImputer()</pre></div></div></div><div class=\"sk-item\"><div class=\"sk-estimator sk-toggleable\"><input class=\"sk-toggleable__control sk-hidden--visually\" id=\"06ac29db-6607-48a3-b6a6-59cc2b9f4572\" type=\"checkbox\" ><label class=\"sk-toggleable__label\" for=\"06ac29db-6607-48a3-b6a6-59cc2b9f4572\">QuantileTransformer</label><div class=\"sk-toggleable__content\"><pre>QuantileTransformer(n_quantiles=100, random_state=0)</pre></div></div></div></div></div></div></div></div></div></div></div></div>"
     },
     "metadata": {}
    }
   ]
  },
  {
   "cell_type": "markdown",
   "source": "# Exercise 4 (1pts):\n1. Complete the diccionary with some Tree Models.\n2. Then we put each model in a Pipeline where:\n   - first is the prepocessing with the column Transformer\n   - Then is the Tree model\n3. Display the fullpipeline of the LGBMClassifier",
   "metadata": {
    "id": "aL6HiZK0GTJL",
    "cell_id": "00029-916ad220-1d0c-42e5-a055-fdd67812694e",
    "deepnote_cell_type": "markdown"
   }
  },
  {
   "cell_type": "code",
   "metadata": {
    "id": "FXdl1hKgGTJM",
    "deepnote_to_be_reexecuted": false,
    "source_hash": "657a8b57",
    "execution_start": 1620313964027,
    "execution_millis": 1,
    "cell_id": "00030-91b24cb0-3e4b-449e-9e4b-9524d1b3f734",
    "deepnote_cell_type": "code"
   },
   "source": "from sklearn.tree          import DecisionTreeClassifier\nfrom sklearn.ensemble      import RandomForestClassifier\nfrom sklearn.ensemble      import ExtraTreesClassifier\nfrom sklearn.ensemble      import AdaBoostClassifier\nfrom sklearn.ensemble      import GradientBoostingClassifier\nfrom sklearn.experimental  import enable_hist_gradient_boosting # Necesary for HistGradientBoostingClassifier\nfrom sklearn.ensemble      import HistGradientBoostingClassifier\nfrom xgboost               import XGBClassifier\nfrom lightgbm              import LGBMClassifier\nfrom catboost              import CatBoostClassifier",
   "execution_count": null,
   "outputs": []
  },
  {
   "cell_type": "code",
   "metadata": {
    "tags": [],
    "deepnote_to_be_reexecuted": false,
    "source_hash": "9b4f4b43",
    "execution_start": 1620313966117,
    "execution_millis": 2,
    "cell_id": "00031-88fdba6b-54ac-4315-990c-246841f35802",
    "deepnote_cell_type": "code"
   },
   "source": "from sklearn import svm\nfrom sklearn.linear_model import LogisticRegression\nfrom sklearn.neighbors import KNeighborsClassifier\nfrom sklearn.neural_network import MLPClassifier",
   "execution_count": null,
   "outputs": []
  },
  {
   "cell_type": "code",
   "metadata": {
    "tags": [],
    "deepnote_to_be_reexecuted": false,
    "source_hash": "bd3f372",
    "execution_start": 1620313966588,
    "execution_millis": 71,
    "cell_id": "00032-3b70486d-ab07-4943-92c4-7fa8b46c5e6f",
    "deepnote_cell_type": "code"
   },
   "source": "mult_classifiers={\n    \"SVM\": svm.SVC(),\n    \"Logistic\": LogisticRegression(),\n    \"KNN\":KNeighborsClassifier(n_neighbors=3),\n    \"MLP\":MLPClassifier(solver='lbfgs', alpha=1e-5,hidden_layer_sizes=(5, 2), random_state=1)}\n\nmult_classifiers = {name: pipeline.make_pipeline(tree_prepro, model) for name, model in mult_classifiers.items()}\n\nmult_classifiers[\"SVM\"]",
   "execution_count": null,
   "outputs": [
    {
     "output_type": "execute_result",
     "execution_count": 67,
     "data": {
      "text/plain": "Pipeline(steps=[('columntransformer',\n                 ColumnTransformer(transformers=[('cat mult',\n                                                  Pipeline(steps=[('imputer',\n                                                                   SimpleImputer(fill_value='missing',\n                                                                                 strategy='constant')),\n                                                                  ('one hot',\n                                                                   OneHotEncoder(handle_unknown='ignore'))]),\n                                                  ['Sex', 'Title']),\n                                                 ('num mult',\n                                                  Pipeline(steps=[('imputer',\n                                                                   KNNImputer()),\n                                                                  ('quantile '\n                                                                   'transformer',\n                                                                   QuantileTransformer(n_quantiles=100,\n                                                                                       random_state=0))]),\n                                                  ['Pclass', 'SibSp', 'Parch',\n                                                   'Fare', 'Age',\n                                                   'Embarked'])])),\n                ('svc', SVC())])",
      "text/html": "<style>#sk-1ebc3e0e-591f-4138-b3c9-13313c0351e1 {color: black;background-color: white;}#sk-1ebc3e0e-591f-4138-b3c9-13313c0351e1 pre{padding: 0;}#sk-1ebc3e0e-591f-4138-b3c9-13313c0351e1 div.sk-toggleable {background-color: white;}#sk-1ebc3e0e-591f-4138-b3c9-13313c0351e1 label.sk-toggleable__label {cursor: pointer;display: block;width: 100%;margin-bottom: 0;padding: 0.2em 0.3em;box-sizing: border-box;text-align: center;}#sk-1ebc3e0e-591f-4138-b3c9-13313c0351e1 div.sk-toggleable__content {max-height: 0;max-width: 0;overflow: hidden;text-align: left;background-color: #f0f8ff;}#sk-1ebc3e0e-591f-4138-b3c9-13313c0351e1 div.sk-toggleable__content pre {margin: 0.2em;color: black;border-radius: 0.25em;background-color: #f0f8ff;}#sk-1ebc3e0e-591f-4138-b3c9-13313c0351e1 input.sk-toggleable__control:checked~div.sk-toggleable__content {max-height: 200px;max-width: 100%;overflow: auto;}#sk-1ebc3e0e-591f-4138-b3c9-13313c0351e1 div.sk-estimator input.sk-toggleable__control:checked~label.sk-toggleable__label {background-color: #d4ebff;}#sk-1ebc3e0e-591f-4138-b3c9-13313c0351e1 div.sk-label input.sk-toggleable__control:checked~label.sk-toggleable__label {background-color: #d4ebff;}#sk-1ebc3e0e-591f-4138-b3c9-13313c0351e1 input.sk-hidden--visually {border: 0;clip: rect(1px 1px 1px 1px);clip: rect(1px, 1px, 1px, 1px);height: 1px;margin: -1px;overflow: hidden;padding: 0;position: absolute;width: 1px;}#sk-1ebc3e0e-591f-4138-b3c9-13313c0351e1 div.sk-estimator {font-family: monospace;background-color: #f0f8ff;margin: 0.25em 0.25em;border: 1px dotted black;border-radius: 0.25em;box-sizing: border-box;}#sk-1ebc3e0e-591f-4138-b3c9-13313c0351e1 div.sk-estimator:hover {background-color: #d4ebff;}#sk-1ebc3e0e-591f-4138-b3c9-13313c0351e1 div.sk-parallel-item::after {content: \"\";width: 100%;border-bottom: 1px solid gray;flex-grow: 1;}#sk-1ebc3e0e-591f-4138-b3c9-13313c0351e1 div.sk-label:hover label.sk-toggleable__label {background-color: #d4ebff;}#sk-1ebc3e0e-591f-4138-b3c9-13313c0351e1 div.sk-serial::before {content: \"\";position: absolute;border-left: 1px solid gray;box-sizing: border-box;top: 2em;bottom: 0;left: 50%;}#sk-1ebc3e0e-591f-4138-b3c9-13313c0351e1 div.sk-serial {display: flex;flex-direction: column;align-items: center;background-color: white;}#sk-1ebc3e0e-591f-4138-b3c9-13313c0351e1 div.sk-item {z-index: 1;}#sk-1ebc3e0e-591f-4138-b3c9-13313c0351e1 div.sk-parallel {display: flex;align-items: stretch;justify-content: center;background-color: white;}#sk-1ebc3e0e-591f-4138-b3c9-13313c0351e1 div.sk-parallel-item {display: flex;flex-direction: column;position: relative;background-color: white;}#sk-1ebc3e0e-591f-4138-b3c9-13313c0351e1 div.sk-parallel-item:first-child::after {align-self: flex-end;width: 50%;}#sk-1ebc3e0e-591f-4138-b3c9-13313c0351e1 div.sk-parallel-item:last-child::after {align-self: flex-start;width: 50%;}#sk-1ebc3e0e-591f-4138-b3c9-13313c0351e1 div.sk-parallel-item:only-child::after {width: 0;}#sk-1ebc3e0e-591f-4138-b3c9-13313c0351e1 div.sk-dashed-wrapped {border: 1px dashed gray;margin: 0.2em;box-sizing: border-box;padding-bottom: 0.1em;background-color: white;position: relative;}#sk-1ebc3e0e-591f-4138-b3c9-13313c0351e1 div.sk-label label {font-family: monospace;font-weight: bold;background-color: white;display: inline-block;line-height: 1.2em;}#sk-1ebc3e0e-591f-4138-b3c9-13313c0351e1 div.sk-label-container {position: relative;z-index: 2;text-align: center;}#sk-1ebc3e0e-591f-4138-b3c9-13313c0351e1 div.sk-container {display: inline-block;position: relative;}</style><div id=\"sk-1ebc3e0e-591f-4138-b3c9-13313c0351e1\" class\"sk-top-container\"><div class=\"sk-container\"><div class=\"sk-item sk-dashed-wrapped\"><div class=\"sk-label-container\"><div class=\"sk-label sk-toggleable\"><input class=\"sk-toggleable__control sk-hidden--visually\" id=\"1a913756-d872-49ca-9d3c-4fe9deb76a1a\" type=\"checkbox\" ><label class=\"sk-toggleable__label\" for=\"1a913756-d872-49ca-9d3c-4fe9deb76a1a\">Pipeline</label><div class=\"sk-toggleable__content\"><pre>Pipeline(steps=[('columntransformer',\n                 ColumnTransformer(transformers=[('cat mult',\n                                                  Pipeline(steps=[('imputer',\n                                                                   SimpleImputer(fill_value='missing',\n                                                                                 strategy='constant')),\n                                                                  ('one hot',\n                                                                   OneHotEncoder(handle_unknown='ignore'))]),\n                                                  ['Sex', 'Title']),\n                                                 ('num mult',\n                                                  Pipeline(steps=[('imputer',\n                                                                   KNNImputer()),\n                                                                  ('quantile '\n                                                                   'transformer',\n                                                                   QuantileTransformer(n_quantiles=100,\n                                                                                       random_state=0))]),\n                                                  ['Pclass', 'SibSp', 'Parch',\n                                                   'Fare', 'Age',\n                                                   'Embarked'])])),\n                ('svc', SVC())])</pre></div></div></div><div class=\"sk-serial\"><div class=\"sk-item sk-dashed-wrapped\"><div class=\"sk-label-container\"><div class=\"sk-label sk-toggleable\"><input class=\"sk-toggleable__control sk-hidden--visually\" id=\"c99bef94-fce4-4b8b-9ac5-58d288e407cf\" type=\"checkbox\" ><label class=\"sk-toggleable__label\" for=\"c99bef94-fce4-4b8b-9ac5-58d288e407cf\">columntransformer: ColumnTransformer</label><div class=\"sk-toggleable__content\"><pre>ColumnTransformer(transformers=[('cat mult',\n                                 Pipeline(steps=[('imputer',\n                                                  SimpleImputer(fill_value='missing',\n                                                                strategy='constant')),\n                                                 ('one hot',\n                                                  OneHotEncoder(handle_unknown='ignore'))]),\n                                 ['Sex', 'Title']),\n                                ('num mult',\n                                 Pipeline(steps=[('imputer', KNNImputer()),\n                                                 ('quantile transformer',\n                                                  QuantileTransformer(n_quantiles=100,\n                                                                      random_state=0))]),\n                                 ['Pclass', 'SibSp', 'Parch', 'Fare', 'Age',\n                                  'Embarked'])])</pre></div></div></div><div class=\"sk-parallel\"><div class=\"sk-parallel-item\"><div class=\"sk-item\"><div class=\"sk-label-container\"><div class=\"sk-label sk-toggleable\"><input class=\"sk-toggleable__control sk-hidden--visually\" id=\"d0cdcb14-528b-4722-a8e7-66e05b738301\" type=\"checkbox\" ><label class=\"sk-toggleable__label\" for=\"d0cdcb14-528b-4722-a8e7-66e05b738301\">cat mult</label><div class=\"sk-toggleable__content\"><pre>['Sex', 'Title']</pre></div></div></div><div class=\"sk-serial\"><div class=\"sk-item\"><div class=\"sk-serial\"><div class=\"sk-item\"><div class=\"sk-estimator sk-toggleable\"><input class=\"sk-toggleable__control sk-hidden--visually\" id=\"5c01cb84-25b1-4e3b-b6b7-e99a60a3f595\" type=\"checkbox\" ><label class=\"sk-toggleable__label\" for=\"5c01cb84-25b1-4e3b-b6b7-e99a60a3f595\">SimpleImputer</label><div class=\"sk-toggleable__content\"><pre>SimpleImputer(fill_value='missing', strategy='constant')</pre></div></div></div><div class=\"sk-item\"><div class=\"sk-estimator sk-toggleable\"><input class=\"sk-toggleable__control sk-hidden--visually\" id=\"e39f29d7-61d2-4519-816c-8071ec38fe74\" type=\"checkbox\" ><label class=\"sk-toggleable__label\" for=\"e39f29d7-61d2-4519-816c-8071ec38fe74\">OneHotEncoder</label><div class=\"sk-toggleable__content\"><pre>OneHotEncoder(handle_unknown='ignore')</pre></div></div></div></div></div></div></div></div><div class=\"sk-parallel-item\"><div class=\"sk-item\"><div class=\"sk-label-container\"><div class=\"sk-label sk-toggleable\"><input class=\"sk-toggleable__control sk-hidden--visually\" id=\"3da404ac-235f-4ad2-a8fc-e1f0b1393321\" type=\"checkbox\" ><label class=\"sk-toggleable__label\" for=\"3da404ac-235f-4ad2-a8fc-e1f0b1393321\">num mult</label><div class=\"sk-toggleable__content\"><pre>['Pclass', 'SibSp', 'Parch', 'Fare', 'Age', 'Embarked']</pre></div></div></div><div class=\"sk-serial\"><div class=\"sk-item\"><div class=\"sk-serial\"><div class=\"sk-item\"><div class=\"sk-estimator sk-toggleable\"><input class=\"sk-toggleable__control sk-hidden--visually\" id=\"4f60a3bd-1a32-49a5-ac92-4fe5df1d4b73\" type=\"checkbox\" ><label class=\"sk-toggleable__label\" for=\"4f60a3bd-1a32-49a5-ac92-4fe5df1d4b73\">KNNImputer</label><div class=\"sk-toggleable__content\"><pre>KNNImputer()</pre></div></div></div><div class=\"sk-item\"><div class=\"sk-estimator sk-toggleable\"><input class=\"sk-toggleable__control sk-hidden--visually\" id=\"9988ba1a-a553-4ccf-b543-556faa096bed\" type=\"checkbox\" ><label class=\"sk-toggleable__label\" for=\"9988ba1a-a553-4ccf-b543-556faa096bed\">QuantileTransformer</label><div class=\"sk-toggleable__content\"><pre>QuantileTransformer(n_quantiles=100, random_state=0)</pre></div></div></div></div></div></div></div></div></div></div><div class=\"sk-item\"><div class=\"sk-estimator sk-toggleable\"><input class=\"sk-toggleable__control sk-hidden--visually\" id=\"98dede69-f072-4470-9162-0ba64736b9e1\" type=\"checkbox\" ><label class=\"sk-toggleable__label\" for=\"98dede69-f072-4470-9162-0ba64736b9e1\">SVC</label><div class=\"sk-toggleable__content\"><pre>SVC()</pre></div></div></div></div></div></div></div>"
     },
     "metadata": {}
    }
   ]
  },
  {
   "cell_type": "code",
   "metadata": {
    "tags": [],
    "deepnote_to_be_reexecuted": false,
    "source_hash": "8612258d",
    "execution_start": 1620312945993,
    "execution_millis": 455,
    "cell_id": "00033-9fd3aaa9-0949-409f-a670-403b465bb5c3",
    "deepnote_cell_type": "code"
   },
   "source": "\nx_train, x_val, y_train, y_val = model_selection.train_test_split(x,y, test_size=0.2,stratify = y, random_state=4)\n\n\n\n\nresults = pd.DataFrame({'Model': [], 'Accuracy': [], 'Bal Acc.': [], 'Time': []})\n\nfor model_name, model in mult_classifiers.items():\n    start_time = time.time()\n    \n    # FOR EVERY PIPELINE (PREPRO + MODEL) -> TRAIN WITH TRAIN DATA (x_train)\n    model.fit(x_train,y_train)\n    # GET PREDICTIONS USING x_val\n    pred = model.predict(x_val)\n\n    total_time = time.time() - start_time\n\n    results = results.append({\"Model\":    model_name,\n                              \"Accuracy\": metrics.accuracy_score(y_val, pred)*100,\n                              \"Bal Acc.\": metrics.balanced_accuracy_score(y_val, pred)*100,\n                              \"Time\":     total_time},\n                              ignore_index=True)\n                              \n                              \n\n\n\n\n\nresults_ord = results.sort_values(by=['Accuracy'], ascending=False, ignore_index=True)\nresults_ord.index += 1 \nresults_ord.style.bar(subset=['Accuracy', 'Bal Acc.'], vmin=0, vmax=100, color='#5fba7d')",
   "execution_count": null,
   "outputs": [
    {
     "output_type": "execute_result",
     "execution_count": 29,
     "data": {
      "text/plain": "<pandas.io.formats.style.Styler at 0x7f48fc0b96d0>",
      "text/html": "<style  type=\"text/css\" >\n#T_742dd_row0_col1{\n            width:  10em;\n             height:  80%;\n            background:  linear-gradient(90deg,#5fba7d 84.9%, transparent 84.9%);\n        }#T_742dd_row0_col2{\n            width:  10em;\n             height:  80%;\n            background:  linear-gradient(90deg,#5fba7d 82.3%, transparent 82.3%);\n        }#T_742dd_row1_col1{\n            width:  10em;\n             height:  80%;\n            background:  linear-gradient(90deg,#5fba7d 83.2%, transparent 83.2%);\n        }#T_742dd_row1_col2{\n            width:  10em;\n             height:  80%;\n            background:  linear-gradient(90deg,#5fba7d 81.5%, transparent 81.5%);\n        }#T_742dd_row2_col1{\n            width:  10em;\n             height:  80%;\n            background:  linear-gradient(90deg,#5fba7d 82.7%, transparent 82.7%);\n        }#T_742dd_row2_col2{\n            width:  10em;\n             height:  80%;\n            background:  linear-gradient(90deg,#5fba7d 79.7%, transparent 79.7%);\n        }#T_742dd_row3_col1{\n            width:  10em;\n             height:  80%;\n            background:  linear-gradient(90deg,#5fba7d 80.4%, transparent 80.4%);\n        }#T_742dd_row3_col2{\n            width:  10em;\n             height:  80%;\n            background:  linear-gradient(90deg,#5fba7d 78.4%, transparent 78.4%);\n        }</style><table id=\"T_742dd_\" ><thead>    <tr>        <th class=\"blank level0\" ></th>        <th class=\"col_heading level0 col0\" >Model</th>        <th class=\"col_heading level0 col1\" >Accuracy</th>        <th class=\"col_heading level0 col2\" >Bal Acc.</th>        <th class=\"col_heading level0 col3\" >Time</th>    </tr></thead><tbody>\n                <tr>\n                        <th id=\"T_742dd_level0_row0\" class=\"row_heading level0 row0\" >1</th>\n                        <td id=\"T_742dd_row0_col0\" class=\"data row0 col0\" >MLP</td>\n                        <td id=\"T_742dd_row0_col1\" class=\"data row0 col1\" >84.916201</td>\n                        <td id=\"T_742dd_row0_col2\" class=\"data row0 col2\" >82.325428</td>\n                        <td id=\"T_742dd_row0_col3\" class=\"data row0 col3\" >0.236838</td>\n            </tr>\n            <tr>\n                        <th id=\"T_742dd_level0_row1\" class=\"row_heading level0 row1\" >2</th>\n                        <td id=\"T_742dd_row1_col0\" class=\"data row1 col0\" >Logistic</td>\n                        <td id=\"T_742dd_row1_col1\" class=\"data row1 col1\" >83.240223</td>\n                        <td id=\"T_742dd_row1_col2\" class=\"data row1 col2\" >81.501976</td>\n                        <td id=\"T_742dd_row1_col3\" class=\"data row1 col3\" >0.042139</td>\n            </tr>\n            <tr>\n                        <th id=\"T_742dd_level0_row2\" class=\"row_heading level0 row2\" >3</th>\n                        <td id=\"T_742dd_row2_col0\" class=\"data row2 col0\" >SVM</td>\n                        <td id=\"T_742dd_row2_col1\" class=\"data row2 col1\" >82.681564</td>\n                        <td id=\"T_742dd_row2_col2\" class=\"data row2 col2\" >79.696970</td>\n                        <td id=\"T_742dd_row2_col3\" class=\"data row2 col3\" >0.039446</td>\n            </tr>\n            <tr>\n                        <th id=\"T_742dd_level0_row3\" class=\"row_heading level0 row3\" >4</th>\n                        <td id=\"T_742dd_row3_col0\" class=\"data row3 col0\" >KNN</td>\n                        <td id=\"T_742dd_row3_col1\" class=\"data row3 col1\" >80.446927</td>\n                        <td id=\"T_742dd_row3_col2\" class=\"data row3 col2\" >78.418972</td>\n                        <td id=\"T_742dd_row3_col3\" class=\"data row3 col3\" >0.045287</td>\n            </tr>\n    </tbody></table>"
     },
     "metadata": {}
    }
   ]
  },
  {
   "cell_type": "code",
   "metadata": {
    "tags": [],
    "deepnote_to_be_reexecuted": false,
    "source_hash": "e9f65a16",
    "execution_start": 1620312952759,
    "execution_millis": 3301,
    "cell_id": "00034-e2d80662-f82d-4554-b167-33c69d429a6c",
    "deepnote_cell_type": "code"
   },
   "source": "\nfrom sklearn.model_selection import cross_val_predict\n\nskf = model_selection.StratifiedKFold(n_splits=10, random_state=0, shuffle=True)\n\n\n\n\nresults = pd.DataFrame({'Model': [], 'Accuracy': [], 'Bal Acc.': [], 'Time': []})\n\n\n\n\n\nfor model_name, model in mult_classifiers.items():\n    start_time = time.time()\n\n\n        \n    # TRAIN AND GET PREDICTIONS USING cross_val_predict() and x,y\n    pred = cross_val_predict(model, x,y, cv=skf)\n\n    total_time = time.time() - start_time\n\n    results = results.append({\"Model\":    model_name,\n                              \"Accuracy\": metrics.accuracy_score(y, pred)*100,\n                              \"Bal Acc.\": metrics.balanced_accuracy_score(y, pred)*100,\n                              \"Time\":     total_time},\n                              ignore_index=True)\n                              \n                              \n\n\n# YOUR CODE HERE\n\n\n\nresults_ord = results.sort_values(by=['Accuracy'], ascending=False, ignore_index=True)\nresults_ord.index += 1 \nresults_ord.style.bar(subset=['Accuracy', 'Bal Acc.'], vmin=0, vmax=100, color='#5fba7d')\n",
   "execution_count": null,
   "outputs": [
    {
     "name": "stderr",
     "text": "/shared-libs/python3.7/py/lib/python3.7/site-packages/sklearn/neural_network/_multilayer_perceptron.py:500: ConvergenceWarning: lbfgs failed to converge (status=1):\nSTOP: TOTAL NO. of ITERATIONS REACHED LIMIT.\n\nIncrease the number of iterations (max_iter) or scale the data as shown in:\n    https://scikit-learn.org/stable/modules/preprocessing.html\n  self.n_iter_ = _check_optimize_result(\"lbfgs\", opt_res, self.max_iter)\n/shared-libs/python3.7/py/lib/python3.7/site-packages/sklearn/neural_network/_multilayer_perceptron.py:500: ConvergenceWarning: lbfgs failed to converge (status=1):\nSTOP: TOTAL NO. of ITERATIONS REACHED LIMIT.\n\nIncrease the number of iterations (max_iter) or scale the data as shown in:\n    https://scikit-learn.org/stable/modules/preprocessing.html\n  self.n_iter_ = _check_optimize_result(\"lbfgs\", opt_res, self.max_iter)\n/shared-libs/python3.7/py/lib/python3.7/site-packages/sklearn/neural_network/_multilayer_perceptron.py:500: ConvergenceWarning: lbfgs failed to converge (status=1):\nSTOP: TOTAL NO. of ITERATIONS REACHED LIMIT.\n\nIncrease the number of iterations (max_iter) or scale the data as shown in:\n    https://scikit-learn.org/stable/modules/preprocessing.html\n  self.n_iter_ = _check_optimize_result(\"lbfgs\", opt_res, self.max_iter)\n/shared-libs/python3.7/py/lib/python3.7/site-packages/sklearn/neural_network/_multilayer_perceptron.py:500: ConvergenceWarning: lbfgs failed to converge (status=1):\nSTOP: TOTAL NO. of ITERATIONS REACHED LIMIT.\n\nIncrease the number of iterations (max_iter) or scale the data as shown in:\n    https://scikit-learn.org/stable/modules/preprocessing.html\n  self.n_iter_ = _check_optimize_result(\"lbfgs\", opt_res, self.max_iter)\n/shared-libs/python3.7/py/lib/python3.7/site-packages/sklearn/neural_network/_multilayer_perceptron.py:500: ConvergenceWarning: lbfgs failed to converge (status=1):\nSTOP: TOTAL NO. of ITERATIONS REACHED LIMIT.\n\nIncrease the number of iterations (max_iter) or scale the data as shown in:\n    https://scikit-learn.org/stable/modules/preprocessing.html\n  self.n_iter_ = _check_optimize_result(\"lbfgs\", opt_res, self.max_iter)\n/shared-libs/python3.7/py/lib/python3.7/site-packages/sklearn/neural_network/_multilayer_perceptron.py:500: ConvergenceWarning: lbfgs failed to converge (status=1):\nSTOP: TOTAL NO. of ITERATIONS REACHED LIMIT.\n\nIncrease the number of iterations (max_iter) or scale the data as shown in:\n    https://scikit-learn.org/stable/modules/preprocessing.html\n  self.n_iter_ = _check_optimize_result(\"lbfgs\", opt_res, self.max_iter)\n/shared-libs/python3.7/py/lib/python3.7/site-packages/sklearn/neural_network/_multilayer_perceptron.py:500: ConvergenceWarning: lbfgs failed to converge (status=1):\nSTOP: TOTAL NO. of ITERATIONS REACHED LIMIT.\n\nIncrease the number of iterations (max_iter) or scale the data as shown in:\n    https://scikit-learn.org/stable/modules/preprocessing.html\n  self.n_iter_ = _check_optimize_result(\"lbfgs\", opt_res, self.max_iter)\n/shared-libs/python3.7/py/lib/python3.7/site-packages/sklearn/neural_network/_multilayer_perceptron.py:500: ConvergenceWarning: lbfgs failed to converge (status=1):\nSTOP: TOTAL NO. of ITERATIONS REACHED LIMIT.\n\nIncrease the number of iterations (max_iter) or scale the data as shown in:\n    https://scikit-learn.org/stable/modules/preprocessing.html\n  self.n_iter_ = _check_optimize_result(\"lbfgs\", opt_res, self.max_iter)\n",
     "output_type": "stream"
    },
    {
     "output_type": "execute_result",
     "execution_count": 30,
     "data": {
      "text/plain": "<pandas.io.formats.style.Styler at 0x7f48fb7c5950>",
      "text/html": "<style  type=\"text/css\" >\n#T_153d5_row0_col1{\n            width:  10em;\n             height:  80%;\n            background:  linear-gradient(90deg,#5fba7d 81.6%, transparent 81.6%);\n        }#T_153d5_row0_col2,#T_153d5_row2_col2{\n            width:  10em;\n             height:  80%;\n            background:  linear-gradient(90deg,#5fba7d 79.2%, transparent 79.2%);\n        }#T_153d5_row1_col1{\n            width:  10em;\n             height:  80%;\n            background:  linear-gradient(90deg,#5fba7d 81.4%, transparent 81.4%);\n        }#T_153d5_row1_col2,#T_153d5_row3_col2{\n            width:  10em;\n             height:  80%;\n            background:  linear-gradient(90deg,#5fba7d 78.2%, transparent 78.2%);\n        }#T_153d5_row2_col1{\n            width:  10em;\n             height:  80%;\n            background:  linear-gradient(90deg,#5fba7d 81.1%, transparent 81.1%);\n        }#T_153d5_row3_col1{\n            width:  10em;\n             height:  80%;\n            background:  linear-gradient(90deg,#5fba7d 79.8%, transparent 79.8%);\n        }</style><table id=\"T_153d5_\" ><thead>    <tr>        <th class=\"blank level0\" ></th>        <th class=\"col_heading level0 col0\" >Model</th>        <th class=\"col_heading level0 col1\" >Accuracy</th>        <th class=\"col_heading level0 col2\" >Bal Acc.</th>        <th class=\"col_heading level0 col3\" >Time</th>    </tr></thead><tbody>\n                <tr>\n                        <th id=\"T_153d5_level0_row0\" class=\"row_heading level0 row0\" >1</th>\n                        <td id=\"T_153d5_row0_col0\" class=\"data row0 col0\" >MLP</td>\n                        <td id=\"T_153d5_row0_col1\" class=\"data row0 col1\" >81.593715</td>\n                        <td id=\"T_153d5_row0_col2\" class=\"data row0 col2\" >79.220592</td>\n                        <td id=\"T_153d5_row0_col3\" class=\"data row0 col3\" >1.865240</td>\n            </tr>\n            <tr>\n                        <th id=\"T_153d5_level0_row1\" class=\"row_heading level0 row1\" >2</th>\n                        <td id=\"T_153d5_row1_col0\" class=\"data row1 col0\" >SVM</td>\n                        <td id=\"T_153d5_row1_col1\" class=\"data row1 col1\" >81.369248</td>\n                        <td id=\"T_153d5_row1_col2\" class=\"data row1 col2\" >78.211581</td>\n                        <td id=\"T_153d5_row1_col3\" class=\"data row1 col3\" >0.447945</td>\n            </tr>\n            <tr>\n                        <th id=\"T_153d5_level0_row2\" class=\"row_heading level0 row2\" >3</th>\n                        <td id=\"T_153d5_row2_col0\" class=\"data row2 col0\" >Logistic</td>\n                        <td id=\"T_153d5_row2_col1\" class=\"data row2 col1\" >81.144781</td>\n                        <td id=\"T_153d5_row2_col2\" class=\"data row2 col2\" >79.242163</td>\n                        <td id=\"T_153d5_row2_col3\" class=\"data row2 col3\" >0.666128</td>\n            </tr>\n            <tr>\n                        <th id=\"T_153d5_level0_row3\" class=\"row_heading level0 row3\" >4</th>\n                        <td id=\"T_153d5_row3_col0\" class=\"data row3 col0\" >KNN</td>\n                        <td id=\"T_153d5_row3_col1\" class=\"data row3 col1\" >79.797980</td>\n                        <td id=\"T_153d5_row3_col2\" class=\"data row3 col2\" >78.204391</td>\n                        <td id=\"T_153d5_row3_col3\" class=\"data row3 col3\" >0.294117</td>\n            </tr>\n    </tbody></table>"
     },
     "metadata": {}
    }
   ]
  },
  {
   "cell_type": "code",
   "metadata": {
    "deletable": false,
    "nbgrader": {
     "cell_type": "code",
     "checksum": "f23af11f3af791efa5687477c0a4c9d6",
     "grade": false,
     "grade_id": "cell-76a3be8223730c5a",
     "locked": false,
     "schema_version": 3,
     "solution": true,
     "task": false
    },
    "id": "92x9ELMfGTJM",
    "colab": {
     "base_uri": "https://localhost:8080/",
     "height": 198
    },
    "outputId": "956a4d19-6068-4dee-a0c3-e433a37f1d99",
    "cell_id": "00035-79d622f5-4c16-40f0-ab50-623b1667548a",
    "deepnote_to_be_reexecuted": false,
    "source_hash": "15aab1fc",
    "execution_start": 1620312960527,
    "execution_millis": 41,
    "deepnote_cell_type": "code"
   },
   "source": "\ntree_classifiers = {\n  \"Decision Tree\": DecisionTreeClassifier(),\n  \"Extra Trees\": ExtraTreesClassifier(),\n  \"Random Forest\": RandomForestClassifier(),\n  \"AdaBoost\": AdaBoostClassifier(),\n  \"Skl GBM\": GradientBoostingClassifier(),\n  \"Skl HistGBM\": GradientBoostingClassifier(),\n  \"XGBoost\": XGBClassifier(),\n  \"LightGBM\": LGBMClassifier(),\n  \"CatBoost\": CatBoostClassifier() }\n\n\n# YOUR CODE HERE\n\n\ntree_classifiers = {name: pipeline.make_pipeline(tree_prepro, model) for name, model in tree_classifiers.items()}\n\ntree_classifiers[\"LightGBM\"]",
   "execution_count": null,
   "outputs": [
    {
     "output_type": "execute_result",
     "execution_count": 31,
     "data": {
      "text/plain": "Pipeline(steps=[('columntransformer',\n                 ColumnTransformer(transformers=[('cat mult',\n                                                  Pipeline(steps=[('imputer',\n                                                                   SimpleImputer(fill_value='missing',\n                                                                                 strategy='constant')),\n                                                                  ('one hot',\n                                                                   OneHotEncoder())]),\n                                                  ['Sex', 'Title']),\n                                                 ('num mult',\n                                                  Pipeline(steps=[('imputer',\n                                                                   KNNImputer()),\n                                                                  ('quantile '\n                                                                   'transformer',\n                                                                   QuantileTransformer(n_quantiles=100,\n                                                                                       random_state=0))]),\n                                                  ['Pclass', 'SibSp', 'Parch',\n                                                   'Fare', 'Age',\n                                                   'Embarked'])])),\n                ('lgbmclassifier', LGBMClassifier())])",
      "text/html": "<style>#sk-4046fe28-a173-4bf3-90f4-948fe65e4962 {color: black;background-color: white;}#sk-4046fe28-a173-4bf3-90f4-948fe65e4962 pre{padding: 0;}#sk-4046fe28-a173-4bf3-90f4-948fe65e4962 div.sk-toggleable {background-color: white;}#sk-4046fe28-a173-4bf3-90f4-948fe65e4962 label.sk-toggleable__label {cursor: pointer;display: block;width: 100%;margin-bottom: 0;padding: 0.2em 0.3em;box-sizing: border-box;text-align: center;}#sk-4046fe28-a173-4bf3-90f4-948fe65e4962 div.sk-toggleable__content {max-height: 0;max-width: 0;overflow: hidden;text-align: left;background-color: #f0f8ff;}#sk-4046fe28-a173-4bf3-90f4-948fe65e4962 div.sk-toggleable__content pre {margin: 0.2em;color: black;border-radius: 0.25em;background-color: #f0f8ff;}#sk-4046fe28-a173-4bf3-90f4-948fe65e4962 input.sk-toggleable__control:checked~div.sk-toggleable__content {max-height: 200px;max-width: 100%;overflow: auto;}#sk-4046fe28-a173-4bf3-90f4-948fe65e4962 div.sk-estimator input.sk-toggleable__control:checked~label.sk-toggleable__label {background-color: #d4ebff;}#sk-4046fe28-a173-4bf3-90f4-948fe65e4962 div.sk-label input.sk-toggleable__control:checked~label.sk-toggleable__label {background-color: #d4ebff;}#sk-4046fe28-a173-4bf3-90f4-948fe65e4962 input.sk-hidden--visually {border: 0;clip: rect(1px 1px 1px 1px);clip: rect(1px, 1px, 1px, 1px);height: 1px;margin: -1px;overflow: hidden;padding: 0;position: absolute;width: 1px;}#sk-4046fe28-a173-4bf3-90f4-948fe65e4962 div.sk-estimator {font-family: monospace;background-color: #f0f8ff;margin: 0.25em 0.25em;border: 1px dotted black;border-radius: 0.25em;box-sizing: border-box;}#sk-4046fe28-a173-4bf3-90f4-948fe65e4962 div.sk-estimator:hover {background-color: #d4ebff;}#sk-4046fe28-a173-4bf3-90f4-948fe65e4962 div.sk-parallel-item::after {content: \"\";width: 100%;border-bottom: 1px solid gray;flex-grow: 1;}#sk-4046fe28-a173-4bf3-90f4-948fe65e4962 div.sk-label:hover label.sk-toggleable__label {background-color: #d4ebff;}#sk-4046fe28-a173-4bf3-90f4-948fe65e4962 div.sk-serial::before {content: \"\";position: absolute;border-left: 1px solid gray;box-sizing: border-box;top: 2em;bottom: 0;left: 50%;}#sk-4046fe28-a173-4bf3-90f4-948fe65e4962 div.sk-serial {display: flex;flex-direction: column;align-items: center;background-color: white;}#sk-4046fe28-a173-4bf3-90f4-948fe65e4962 div.sk-item {z-index: 1;}#sk-4046fe28-a173-4bf3-90f4-948fe65e4962 div.sk-parallel {display: flex;align-items: stretch;justify-content: center;background-color: white;}#sk-4046fe28-a173-4bf3-90f4-948fe65e4962 div.sk-parallel-item {display: flex;flex-direction: column;position: relative;background-color: white;}#sk-4046fe28-a173-4bf3-90f4-948fe65e4962 div.sk-parallel-item:first-child::after {align-self: flex-end;width: 50%;}#sk-4046fe28-a173-4bf3-90f4-948fe65e4962 div.sk-parallel-item:last-child::after {align-self: flex-start;width: 50%;}#sk-4046fe28-a173-4bf3-90f4-948fe65e4962 div.sk-parallel-item:only-child::after {width: 0;}#sk-4046fe28-a173-4bf3-90f4-948fe65e4962 div.sk-dashed-wrapped {border: 1px dashed gray;margin: 0.2em;box-sizing: border-box;padding-bottom: 0.1em;background-color: white;position: relative;}#sk-4046fe28-a173-4bf3-90f4-948fe65e4962 div.sk-label label {font-family: monospace;font-weight: bold;background-color: white;display: inline-block;line-height: 1.2em;}#sk-4046fe28-a173-4bf3-90f4-948fe65e4962 div.sk-label-container {position: relative;z-index: 2;text-align: center;}#sk-4046fe28-a173-4bf3-90f4-948fe65e4962 div.sk-container {display: inline-block;position: relative;}</style><div id=\"sk-4046fe28-a173-4bf3-90f4-948fe65e4962\" class\"sk-top-container\"><div class=\"sk-container\"><div class=\"sk-item sk-dashed-wrapped\"><div class=\"sk-label-container\"><div class=\"sk-label sk-toggleable\"><input class=\"sk-toggleable__control sk-hidden--visually\" id=\"dbafa613-c28f-44af-82a2-37df03ea77d9\" type=\"checkbox\" ><label class=\"sk-toggleable__label\" for=\"dbafa613-c28f-44af-82a2-37df03ea77d9\">Pipeline</label><div class=\"sk-toggleable__content\"><pre>Pipeline(steps=[('columntransformer',\n                 ColumnTransformer(transformers=[('cat mult',\n                                                  Pipeline(steps=[('imputer',\n                                                                   SimpleImputer(fill_value='missing',\n                                                                                 strategy='constant')),\n                                                                  ('one hot',\n                                                                   OneHotEncoder())]),\n                                                  ['Sex', 'Title']),\n                                                 ('num mult',\n                                                  Pipeline(steps=[('imputer',\n                                                                   KNNImputer()),\n                                                                  ('quantile '\n                                                                   'transformer',\n                                                                   QuantileTransformer(n_quantiles=100,\n                                                                                       random_state=0))]),\n                                                  ['Pclass', 'SibSp', 'Parch',\n                                                   'Fare', 'Age',\n                                                   'Embarked'])])),\n                ('lgbmclassifier', LGBMClassifier())])</pre></div></div></div><div class=\"sk-serial\"><div class=\"sk-item sk-dashed-wrapped\"><div class=\"sk-label-container\"><div class=\"sk-label sk-toggleable\"><input class=\"sk-toggleable__control sk-hidden--visually\" id=\"4976bd46-e2d8-486c-a2cc-c355994b415e\" type=\"checkbox\" ><label class=\"sk-toggleable__label\" for=\"4976bd46-e2d8-486c-a2cc-c355994b415e\">columntransformer: ColumnTransformer</label><div class=\"sk-toggleable__content\"><pre>ColumnTransformer(transformers=[('cat mult',\n                                 Pipeline(steps=[('imputer',\n                                                  SimpleImputer(fill_value='missing',\n                                                                strategy='constant')),\n                                                 ('one hot', OneHotEncoder())]),\n                                 ['Sex', 'Title']),\n                                ('num mult',\n                                 Pipeline(steps=[('imputer', KNNImputer()),\n                                                 ('quantile transformer',\n                                                  QuantileTransformer(n_quantiles=100,\n                                                                      random_state=0))]),\n                                 ['Pclass', 'SibSp', 'Parch', 'Fare', 'Age',\n                                  'Embarked'])])</pre></div></div></div><div class=\"sk-parallel\"><div class=\"sk-parallel-item\"><div class=\"sk-item\"><div class=\"sk-label-container\"><div class=\"sk-label sk-toggleable\"><input class=\"sk-toggleable__control sk-hidden--visually\" id=\"4e0d1901-e30e-4ccc-8574-810881e056cf\" type=\"checkbox\" ><label class=\"sk-toggleable__label\" for=\"4e0d1901-e30e-4ccc-8574-810881e056cf\">cat mult</label><div class=\"sk-toggleable__content\"><pre>['Sex', 'Title']</pre></div></div></div><div class=\"sk-serial\"><div class=\"sk-item\"><div class=\"sk-serial\"><div class=\"sk-item\"><div class=\"sk-estimator sk-toggleable\"><input class=\"sk-toggleable__control sk-hidden--visually\" id=\"54512f31-1a2a-477f-a2e7-2fcd48d330fd\" type=\"checkbox\" ><label class=\"sk-toggleable__label\" for=\"54512f31-1a2a-477f-a2e7-2fcd48d330fd\">SimpleImputer</label><div class=\"sk-toggleable__content\"><pre>SimpleImputer(fill_value='missing', strategy='constant')</pre></div></div></div><div class=\"sk-item\"><div class=\"sk-estimator sk-toggleable\"><input class=\"sk-toggleable__control sk-hidden--visually\" id=\"1359e63b-c789-4723-9729-47956cd5f57f\" type=\"checkbox\" ><label class=\"sk-toggleable__label\" for=\"1359e63b-c789-4723-9729-47956cd5f57f\">OneHotEncoder</label><div class=\"sk-toggleable__content\"><pre>OneHotEncoder()</pre></div></div></div></div></div></div></div></div><div class=\"sk-parallel-item\"><div class=\"sk-item\"><div class=\"sk-label-container\"><div class=\"sk-label sk-toggleable\"><input class=\"sk-toggleable__control sk-hidden--visually\" id=\"de9e4dbc-cdff-4f41-b283-fef8262b5f86\" type=\"checkbox\" ><label class=\"sk-toggleable__label\" for=\"de9e4dbc-cdff-4f41-b283-fef8262b5f86\">num mult</label><div class=\"sk-toggleable__content\"><pre>['Pclass', 'SibSp', 'Parch', 'Fare', 'Age', 'Embarked']</pre></div></div></div><div class=\"sk-serial\"><div class=\"sk-item\"><div class=\"sk-serial\"><div class=\"sk-item\"><div class=\"sk-estimator sk-toggleable\"><input class=\"sk-toggleable__control sk-hidden--visually\" id=\"487a60e6-d0f4-4485-8d70-6f6c06194eac\" type=\"checkbox\" ><label class=\"sk-toggleable__label\" for=\"487a60e6-d0f4-4485-8d70-6f6c06194eac\">KNNImputer</label><div class=\"sk-toggleable__content\"><pre>KNNImputer()</pre></div></div></div><div class=\"sk-item\"><div class=\"sk-estimator sk-toggleable\"><input class=\"sk-toggleable__control sk-hidden--visually\" id=\"0065e409-f09c-4b7f-ad5b-509c93037a6f\" type=\"checkbox\" ><label class=\"sk-toggleable__label\" for=\"0065e409-f09c-4b7f-ad5b-509c93037a6f\">QuantileTransformer</label><div class=\"sk-toggleable__content\"><pre>QuantileTransformer(n_quantiles=100, random_state=0)</pre></div></div></div></div></div></div></div></div></div></div><div class=\"sk-item\"><div class=\"sk-estimator sk-toggleable\"><input class=\"sk-toggleable__control sk-hidden--visually\" id=\"919764bd-1187-4a7a-8b6f-a39ba26baccb\" type=\"checkbox\" ><label class=\"sk-toggleable__label\" for=\"919764bd-1187-4a7a-8b6f-a39ba26baccb\">LGBMClassifier</label><div class=\"sk-toggleable__content\"><pre>LGBMClassifier()</pre></div></div></div></div></div></div></div>"
     },
     "metadata": {}
    }
   ]
  },
  {
   "cell_type": "markdown",
   "source": "# Exercise 5 (3pts):\nDefine a simple split validation strategy with:\n- 80% for train\n- 20% for validation\n- With stratification\n- random_state=0\n\nAnd train all the models in a for loop",
   "metadata": {
    "id": "FH7UKPVJGTJN",
    "cell_id": "00037-fa4ab454-e8ae-4646-9b9b-2fe1744a7294",
    "deepnote_cell_type": "markdown"
   }
  },
  {
   "cell_type": "code",
   "metadata": {
    "deletable": false,
    "id": "kY1uWk6-OcLw",
    "nbgrader": {
     "cell_type": "code",
     "checksum": "e48597a78f468a95abf116052e9f68e6",
     "grade": false,
     "grade_id": "cell-64f17e0d448bca7e",
     "locked": false,
     "schema_version": 3,
     "solution": true,
     "task": false
    },
    "colab": {
     "base_uri": "https://localhost:8080/",
     "height": 1000
    },
    "outputId": "dee0dd82-d92f-4349-ab7d-797de295f365",
    "cell_id": "00038-0cd098ac-6684-422d-b305-d4c9266ebd70",
    "deepnote_to_be_reexecuted": false,
    "source_hash": "ed0754b7",
    "execution_start": 1620312970253,
    "execution_millis": 2311,
    "deepnote_cell_type": "code"
   },
   "source": "\nx_train, x_val, y_train, y_val = model_selection.train_test_split(x,y, test_size=0.2,stratify = y, random_state=4)\n\n\n\n\nresults = pd.DataFrame({'Model': [], 'Accuracy': [], 'Bal Acc.': [], 'Time': []})\n\nfor model_name, model in tree_classifiers.items():\n    start_time = time.time()\n    \n    # FOR EVERY PIPELINE (PREPRO + MODEL) -> TRAIN WITH TRAIN DATA (x_train)\n    model.fit(x_train,y_train)\n    # GET PREDICTIONS USING x_val\n    pred = model.predict(x_val)\n\n    total_time = time.time() - start_time\n\n    results = results.append({\"Model\":    model_name,\n                              \"Accuracy\": metrics.accuracy_score(y_val, pred)*100,\n                              \"Bal Acc.\": metrics.balanced_accuracy_score(y_val, pred)*100,\n                              \"Time\":     total_time},\n                              ignore_index=True)\n                              \n                              \n\n\n\n\n\nresults_ord = results.sort_values(by=['Accuracy'], ascending=False, ignore_index=True)\nresults_ord.index += 1 \nresults_ord.style.bar(subset=['Accuracy', 'Bal Acc.'], vmin=0, vmax=100, color='#5fba7d')\n",
   "execution_count": null,
   "outputs": [
    {
     "name": "stderr",
     "text": "1:\tlearn: 0.6818340\ttotal: 49.1ms\tremaining: 24.5s\n2:\tlearn: 0.6765413\ttotal: 50.2ms\tremaining: 16.7s\n3:\tlearn: 0.6707946\ttotal: 51.2ms\tremaining: 12.8s\n4:\tlearn: 0.6657201\ttotal: 52.1ms\tremaining: 10.4s\n5:\tlearn: 0.6625543\ttotal: 52.6ms\tremaining: 8.72s\n6:\tlearn: 0.6576241\ttotal: 53.6ms\tremaining: 7.61s\n7:\tlearn: 0.6531408\ttotal: 54.4ms\tremaining: 6.74s\n8:\tlearn: 0.6496930\ttotal: 55.3ms\tremaining: 6.09s\n9:\tlearn: 0.6467767\ttotal: 55.8ms\tremaining: 5.53s\n10:\tlearn: 0.6418560\ttotal: 56.8ms\tremaining: 5.11s\n11:\tlearn: 0.6371246\ttotal: 57.9ms\tremaining: 4.76s\n12:\tlearn: 0.6319074\ttotal: 59ms\tremaining: 4.48s\n13:\tlearn: 0.6275882\ttotal: 60ms\tremaining: 4.22s\n14:\tlearn: 0.6226872\ttotal: 61ms\tremaining: 4.01s\n15:\tlearn: 0.6182087\ttotal: 62.1ms\tremaining: 3.82s\n16:\tlearn: 0.6142786\ttotal: 62.8ms\tremaining: 3.63s\n17:\tlearn: 0.6097641\ttotal: 63.8ms\tremaining: 3.48s\n18:\tlearn: 0.6064363\ttotal: 64.4ms\tremaining: 3.33s\n19:\tlearn: 0.6024827\ttotal: 65.4ms\tremaining: 3.21s\n20:\tlearn: 0.6001947\ttotal: 66ms\tremaining: 3.08s\n21:\tlearn: 0.5959576\ttotal: 67ms\tremaining: 2.98s\n22:\tlearn: 0.5919731\ttotal: 68ms\tremaining: 2.89s\n23:\tlearn: 0.5888414\ttotal: 69.1ms\tremaining: 2.81s\n24:\tlearn: 0.5850119\ttotal: 70.1ms\tremaining: 2.73s\n25:\tlearn: 0.5811815\ttotal: 71.2ms\tremaining: 2.67s\n26:\tlearn: 0.5781162\ttotal: 72.2ms\tremaining: 2.6s\n27:\tlearn: 0.5747507\ttotal: 73.2ms\tremaining: 2.54s\n28:\tlearn: 0.5711682\ttotal: 74.3ms\tremaining: 2.49s\n29:\tlearn: 0.5680029\ttotal: 75.2ms\tremaining: 2.43s\n30:\tlearn: 0.5648879\ttotal: 76.2ms\tremaining: 2.38s\n31:\tlearn: 0.5617231\ttotal: 77.3ms\tremaining: 2.34s\n32:\tlearn: 0.5589833\ttotal: 78.3ms\tremaining: 2.29s\n33:\tlearn: 0.5554579\ttotal: 79.4ms\tremaining: 2.25s\n34:\tlearn: 0.5527490\ttotal: 80.4ms\tremaining: 2.22s\n35:\tlearn: 0.5496122\ttotal: 81.3ms\tremaining: 2.18s\n36:\tlearn: 0.5464758\ttotal: 82.3ms\tremaining: 2.14s\n37:\tlearn: 0.5443008\ttotal: 83.4ms\tremaining: 2.11s\n38:\tlearn: 0.5411632\ttotal: 84.4ms\tremaining: 2.08s\n39:\tlearn: 0.5383761\ttotal: 85.5ms\tremaining: 2.05s\n40:\tlearn: 0.5359935\ttotal: 86.2ms\tremaining: 2.02s\n41:\tlearn: 0.5331823\ttotal: 87.2ms\tremaining: 1.99s\n42:\tlearn: 0.5306612\ttotal: 88.3ms\tremaining: 1.96s\n43:\tlearn: 0.5283250\ttotal: 89.3ms\tremaining: 1.94s\n44:\tlearn: 0.5259846\ttotal: 90ms\tremaining: 1.91s\n45:\tlearn: 0.5235982\ttotal: 91ms\tremaining: 1.89s\n46:\tlearn: 0.5210535\ttotal: 92.1ms\tremaining: 1.87s\n47:\tlearn: 0.5191309\ttotal: 93.1ms\tremaining: 1.85s\n48:\tlearn: 0.5172704\ttotal: 93.9ms\tremaining: 1.82s\n49:\tlearn: 0.5149832\ttotal: 94.9ms\tremaining: 1.8s\n50:\tlearn: 0.5124263\ttotal: 96ms\tremaining: 1.79s\n51:\tlearn: 0.5108158\ttotal: 99ms\tremaining: 1.8s\n52:\tlearn: 0.5083103\ttotal: 100ms\tremaining: 1.79s\n53:\tlearn: 0.5060671\ttotal: 101ms\tremaining: 1.77s\n54:\tlearn: 0.5035926\ttotal: 102ms\tremaining: 1.75s\n55:\tlearn: 0.5015298\ttotal: 103ms\tremaining: 1.74s\n56:\tlearn: 0.5002026\ttotal: 104ms\tremaining: 1.72s\n57:\tlearn: 0.4991911\ttotal: 104ms\tremaining: 1.7s\n58:\tlearn: 0.4970953\ttotal: 106ms\tremaining: 1.68s\n59:\tlearn: 0.4951817\ttotal: 107ms\tremaining: 1.67s\n60:\tlearn: 0.4928141\ttotal: 108ms\tremaining: 1.66s\n61:\tlearn: 0.4912173\ttotal: 109ms\tremaining: 1.64s\n62:\tlearn: 0.4900584\ttotal: 110ms\tremaining: 1.63s\n63:\tlearn: 0.4882957\ttotal: 111ms\tremaining: 1.62s\n64:\tlearn: 0.4867914\ttotal: 112ms\tremaining: 1.61s\n65:\tlearn: 0.4848237\ttotal: 113ms\tremaining: 1.6s\n66:\tlearn: 0.4831219\ttotal: 114ms\tremaining: 1.59s\n67:\tlearn: 0.4812268\ttotal: 115ms\tremaining: 1.58s\n68:\tlearn: 0.4804298\ttotal: 116ms\tremaining: 1.56s\n69:\tlearn: 0.4786848\ttotal: 117ms\tremaining: 1.55s\n70:\tlearn: 0.4769785\ttotal: 118ms\tremaining: 1.54s\n71:\tlearn: 0.4753607\ttotal: 119ms\tremaining: 1.53s\n72:\tlearn: 0.4738183\ttotal: 120ms\tremaining: 1.52s\n73:\tlearn: 0.4720012\ttotal: 121ms\tremaining: 1.51s\n74:\tlearn: 0.4705168\ttotal: 122ms\tremaining: 1.51s\n75:\tlearn: 0.4690175\ttotal: 123ms\tremaining: 1.5s\n76:\tlearn: 0.4677810\ttotal: 124ms\tremaining: 1.49s\n77:\tlearn: 0.4666060\ttotal: 126ms\tremaining: 1.48s\n78:\tlearn: 0.4655691\ttotal: 126ms\tremaining: 1.47s\n79:\tlearn: 0.4641466\ttotal: 127ms\tremaining: 1.47s\n80:\tlearn: 0.4624241\ttotal: 128ms\tremaining: 1.46s\n81:\tlearn: 0.4609599\ttotal: 130ms\tremaining: 1.45s\n82:\tlearn: 0.4600616\ttotal: 131ms\tremaining: 1.44s\n83:\tlearn: 0.4588293\ttotal: 132ms\tremaining: 1.44s\n84:\tlearn: 0.4576735\ttotal: 133ms\tremaining: 1.43s\n85:\tlearn: 0.4571148\ttotal: 133ms\tremaining: 1.42s\n86:\tlearn: 0.4563870\ttotal: 134ms\tremaining: 1.41s\n87:\tlearn: 0.4551633\ttotal: 135ms\tremaining: 1.4s\n88:\tlearn: 0.4542718\ttotal: 136ms\tremaining: 1.4s\n89:\tlearn: 0.4532678\ttotal: 137ms\tremaining: 1.39s\n90:\tlearn: 0.4527606\ttotal: 138ms\tremaining: 1.38s\n91:\tlearn: 0.4517203\ttotal: 139ms\tremaining: 1.37s\n92:\tlearn: 0.4511263\ttotal: 139ms\tremaining: 1.36s\n93:\tlearn: 0.4498425\ttotal: 141ms\tremaining: 1.35s\n94:\tlearn: 0.4485257\ttotal: 142ms\tremaining: 1.35s\n95:\tlearn: 0.4473021\ttotal: 143ms\tremaining: 1.34s\n96:\tlearn: 0.4468550\ttotal: 143ms\tremaining: 1.33s\n97:\tlearn: 0.4458284\ttotal: 144ms\tremaining: 1.33s\n98:\tlearn: 0.4447789\ttotal: 145ms\tremaining: 1.32s\n99:\tlearn: 0.4437147\ttotal: 146ms\tremaining: 1.32s\n100:\tlearn: 0.4425575\ttotal: 148ms\tremaining: 1.31s\n101:\tlearn: 0.4421531\ttotal: 148ms\tremaining: 1.3s\n102:\tlearn: 0.4408868\ttotal: 149ms\tremaining: 1.3s\n103:\tlearn: 0.4400413\ttotal: 150ms\tremaining: 1.29s\n104:\tlearn: 0.4389513\ttotal: 151ms\tremaining: 1.29s\n105:\tlearn: 0.4382789\ttotal: 152ms\tremaining: 1.28s\n106:\tlearn: 0.4374278\ttotal: 153ms\tremaining: 1.28s\n107:\tlearn: 0.4367957\ttotal: 154ms\tremaining: 1.27s\n108:\tlearn: 0.4358565\ttotal: 155ms\tremaining: 1.26s\n109:\tlearn: 0.4354421\ttotal: 155ms\tremaining: 1.26s\n110:\tlearn: 0.4345959\ttotal: 156ms\tremaining: 1.25s\n111:\tlearn: 0.4341378\ttotal: 157ms\tremaining: 1.25s\n112:\tlearn: 0.4331194\ttotal: 158ms\tremaining: 1.24s\n113:\tlearn: 0.4321038\ttotal: 159ms\tremaining: 1.24s\n114:\tlearn: 0.4311886\ttotal: 160ms\tremaining: 1.23s\n115:\tlearn: 0.4305382\ttotal: 161ms\tremaining: 1.23s\n116:\tlearn: 0.4298079\ttotal: 163ms\tremaining: 1.23s\n117:\tlearn: 0.4294528\ttotal: 163ms\tremaining: 1.22s\n118:\tlearn: 0.4288385\ttotal: 164ms\tremaining: 1.22s\n119:\tlearn: 0.4285592\ttotal: 165ms\tremaining: 1.21s\n120:\tlearn: 0.4279849\ttotal: 166ms\tremaining: 1.2s\n121:\tlearn: 0.4271198\ttotal: 167ms\tremaining: 1.2s\n122:\tlearn: 0.4263290\ttotal: 168ms\tremaining: 1.2s\n123:\tlearn: 0.4256286\ttotal: 169ms\tremaining: 1.19s\n124:\tlearn: 0.4249389\ttotal: 170ms\tremaining: 1.19s\n125:\tlearn: 0.4245116\ttotal: 171ms\tremaining: 1.19s\n126:\tlearn: 0.4238651\ttotal: 172ms\tremaining: 1.18s\n127:\tlearn: 0.4234798\ttotal: 173ms\tremaining: 1.18s\n128:\tlearn: 0.4225996\ttotal: 174ms\tremaining: 1.17s\n129:\tlearn: 0.4220068\ttotal: 175ms\tremaining: 1.17s\n130:\tlearn: 0.4215372\ttotal: 176ms\tremaining: 1.17s\n131:\tlearn: 0.4207461\ttotal: 177ms\tremaining: 1.16s\n132:\tlearn: 0.4203351\ttotal: 178ms\tremaining: 1.16s\n133:\tlearn: 0.4196823\ttotal: 179ms\tremaining: 1.16s\n134:\tlearn: 0.4194207\ttotal: 179ms\tremaining: 1.15s\n135:\tlearn: 0.4190099\ttotal: 180ms\tremaining: 1.14s\n136:\tlearn: 0.4182707\ttotal: 181ms\tremaining: 1.14s\n137:\tlearn: 0.4176337\ttotal: 182ms\tremaining: 1.14s\n138:\tlearn: 0.4174222\ttotal: 183ms\tremaining: 1.13s\n139:\tlearn: 0.4168134\ttotal: 186ms\tremaining: 1.14s\n140:\tlearn: 0.4166289\ttotal: 187ms\tremaining: 1.14s\n141:\tlearn: 0.4161377\ttotal: 188ms\tremaining: 1.14s\n142:\tlearn: 0.4154066\ttotal: 189ms\tremaining: 1.13s\n143:\tlearn: 0.4149073\ttotal: 190ms\tremaining: 1.13s\n144:\tlearn: 0.4142516\ttotal: 191ms\tremaining: 1.13s\n145:\tlearn: 0.4135245\ttotal: 192ms\tremaining: 1.12s\n146:\tlearn: 0.4128907\ttotal: 193ms\tremaining: 1.12s\n147:\tlearn: 0.4122746\ttotal: 194ms\tremaining: 1.12s\n148:\tlearn: 0.4116358\ttotal: 195ms\tremaining: 1.11s\n149:\tlearn: 0.4109863\ttotal: 196ms\tremaining: 1.11s\n150:\tlearn: 0.4103658\ttotal: 197ms\tremaining: 1.11s\n151:\tlearn: 0.4099269\ttotal: 198ms\tremaining: 1.11s\n152:\tlearn: 0.4092767\ttotal: 200ms\tremaining: 1.1s\n153:\tlearn: 0.4085942\ttotal: 201ms\tremaining: 1.1s\n154:\tlearn: 0.4081690\ttotal: 202ms\tremaining: 1.1s\n155:\tlearn: 0.4077151\ttotal: 203ms\tremaining: 1.1s\n156:\tlearn: 0.4073811\ttotal: 203ms\tremaining: 1.09s\n157:\tlearn: 0.4071702\ttotal: 204ms\tremaining: 1.09s\n158:\tlearn: 0.4067738\ttotal: 205ms\tremaining: 1.08s\n159:\tlearn: 0.4060819\ttotal: 206ms\tremaining: 1.08s\n160:\tlearn: 0.4054170\ttotal: 207ms\tremaining: 1.08s\n161:\tlearn: 0.4049623\ttotal: 208ms\tremaining: 1.08s\n162:\tlearn: 0.4045051\ttotal: 209ms\tremaining: 1.07s\n163:\tlearn: 0.4040537\ttotal: 210ms\tremaining: 1.07s\n164:\tlearn: 0.4033652\ttotal: 212ms\tremaining: 1.07s\n165:\tlearn: 0.4030458\ttotal: 213ms\tremaining: 1.07s\n166:\tlearn: 0.4026176\ttotal: 214ms\tremaining: 1.07s\n167:\tlearn: 0.4020824\ttotal: 215ms\tremaining: 1.06s\n168:\tlearn: 0.4019386\ttotal: 216ms\tremaining: 1.06s\n169:\tlearn: 0.4015498\ttotal: 217ms\tremaining: 1.06s\n170:\tlearn: 0.4012538\ttotal: 218ms\tremaining: 1.05s\n171:\tlearn: 0.4007174\ttotal: 219ms\tremaining: 1.05s\n172:\tlearn: 0.4001188\ttotal: 220ms\tremaining: 1.05s\n173:\tlearn: 0.3996137\ttotal: 221ms\tremaining: 1.05s\n174:\tlearn: 0.3995168\ttotal: 221ms\tremaining: 1.04s\n175:\tlearn: 0.3991888\ttotal: 222ms\tremaining: 1.04s\n176:\tlearn: 0.3990701\ttotal: 223ms\tremaining: 1.04s\n177:\tlearn: 0.3987687\ttotal: 224ms\tremaining: 1.03s\n178:\tlearn: 0.3982832\ttotal: 225ms\tremaining: 1.03s\n179:\tlearn: 0.3977718\ttotal: 226ms\tremaining: 1.03s\n180:\tlearn: 0.3974362\ttotal: 228ms\tremaining: 1.03s\n181:\tlearn: 0.3970628\ttotal: 229ms\tremaining: 1.03s\n182:\tlearn: 0.3965056\ttotal: 230ms\tremaining: 1.02s\n183:\tlearn: 0.3962870\ttotal: 231ms\tremaining: 1.02s\n184:\tlearn: 0.3958509\ttotal: 232ms\tremaining: 1.02s\n185:\tlearn: 0.3954348\ttotal: 233ms\tremaining: 1.02s\n186:\tlearn: 0.3950655\ttotal: 234ms\tremaining: 1.02s\n187:\tlearn: 0.3946788\ttotal: 235ms\tremaining: 1.01s\n188:\tlearn: 0.3943455\ttotal: 236ms\tremaining: 1.01s\n189:\tlearn: 0.3942643\ttotal: 237ms\tremaining: 1.01s\n190:\tlearn: 0.3940791\ttotal: 248ms\tremaining: 1.05s\n191:\tlearn: 0.3937171\ttotal: 249ms\tremaining: 1.05s\n192:\tlearn: 0.3931951\ttotal: 250ms\tremaining: 1.04s\n193:\tlearn: 0.3927810\ttotal: 251ms\tremaining: 1.04s\n194:\tlearn: 0.3926878\ttotal: 252ms\tremaining: 1.04s\n195:\tlearn: 0.3923888\ttotal: 253ms\tremaining: 1.04s\n196:\tlearn: 0.3923583\ttotal: 253ms\tremaining: 1.03s\n197:\tlearn: 0.3921300\ttotal: 254ms\tremaining: 1.03s\n198:\tlearn: 0.3919644\ttotal: 255ms\tremaining: 1.03s\n199:\tlearn: 0.3917216\ttotal: 257ms\tremaining: 1.03s\n200:\tlearn: 0.3914298\ttotal: 258ms\tremaining: 1.02s\n201:\tlearn: 0.3911523\ttotal: 259ms\tremaining: 1.02s\n202:\tlearn: 0.3910493\ttotal: 259ms\tremaining: 1.02s\n203:\tlearn: 0.3906944\ttotal: 261ms\tremaining: 1.02s\n204:\tlearn: 0.3903107\ttotal: 262ms\tremaining: 1.01s\n205:\tlearn: 0.3902538\ttotal: 262ms\tremaining: 1.01s\n206:\tlearn: 0.3898061\ttotal: 263ms\tremaining: 1.01s\n207:\tlearn: 0.3895255\ttotal: 264ms\tremaining: 1.01s\n208:\tlearn: 0.3892495\ttotal: 265ms\tremaining: 1s\n209:\tlearn: 0.3888773\ttotal: 266ms\tremaining: 1s\n210:\tlearn: 0.3882460\ttotal: 268ms\tremaining: 1s\n211:\tlearn: 0.3879145\ttotal: 269ms\tremaining: 999ms\n212:\tlearn: 0.3876902\ttotal: 270ms\tremaining: 997ms\n213:\tlearn: 0.3873272\ttotal: 271ms\tremaining: 995ms\n214:\tlearn: 0.3869053\ttotal: 272ms\tremaining: 993ms\n215:\tlearn: 0.3867459\ttotal: 273ms\tremaining: 991ms\n216:\tlearn: 0.3865436\ttotal: 275ms\tremaining: 991ms\n217:\tlearn: 0.3863983\ttotal: 276ms\tremaining: 989ms\n218:\tlearn: 0.3860522\ttotal: 277ms\tremaining: 987ms\n219:\tlearn: 0.3857603\ttotal: 278ms\tremaining: 985ms\n220:\tlearn: 0.3853595\ttotal: 279ms\tremaining: 983ms\n221:\tlearn: 0.3851777\ttotal: 280ms\tremaining: 981ms\n222:\tlearn: 0.3850537\ttotal: 281ms\tremaining: 979ms\n223:\tlearn: 0.3845566\ttotal: 282ms\tremaining: 977ms\n224:\tlearn: 0.3843446\ttotal: 283ms\tremaining: 975ms\n225:\tlearn: 0.3841333\ttotal: 284ms\tremaining: 973ms\n226:\tlearn: 0.3839837\ttotal: 285ms\tremaining: 971ms\n227:\tlearn: 0.3837415\ttotal: 286ms\tremaining: 969ms\n228:\tlearn: 0.3835246\ttotal: 287ms\tremaining: 967ms\n229:\tlearn: 0.3832475\ttotal: 288ms\tremaining: 965ms\n230:\tlearn: 0.3828769\ttotal: 289ms\tremaining: 963ms\n231:\tlearn: 0.3827355\ttotal: 290ms\tremaining: 960ms\n232:\tlearn: 0.3825189\ttotal: 291ms\tremaining: 958ms\n233:\tlearn: 0.3822976\ttotal: 292ms\tremaining: 956ms\n234:\tlearn: 0.3819882\ttotal: 293ms\tremaining: 955ms\n235:\tlearn: 0.3817339\ttotal: 294ms\tremaining: 953ms\n236:\tlearn: 0.3815985\ttotal: 295ms\tremaining: 950ms\n237:\tlearn: 0.3813406\ttotal: 296ms\tremaining: 948ms\n238:\tlearn: 0.3810122\ttotal: 297ms\tremaining: 946ms\n239:\tlearn: 0.3806403\ttotal: 298ms\tremaining: 944ms\n240:\tlearn: 0.3803033\ttotal: 299ms\tremaining: 942ms\n241:\tlearn: 0.3800274\ttotal: 300ms\tremaining: 941ms\n242:\tlearn: 0.3799103\ttotal: 301ms\tremaining: 939ms\n243:\tlearn: 0.3798331\ttotal: 302ms\tremaining: 936ms\n244:\tlearn: 0.3796269\ttotal: 303ms\tremaining: 934ms\n245:\tlearn: 0.3794812\ttotal: 304ms\tremaining: 933ms\n246:\tlearn: 0.3791711\ttotal: 305ms\tremaining: 931ms\n247:\tlearn: 0.3788998\ttotal: 306ms\tremaining: 929ms\n248:\tlearn: 0.3787806\ttotal: 307ms\tremaining: 927ms\n249:\tlearn: 0.3786007\ttotal: 309ms\tremaining: 926ms\n250:\tlearn: 0.3783625\ttotal: 310ms\tremaining: 924ms\n251:\tlearn: 0.3781513\ttotal: 311ms\tremaining: 922ms\n252:\tlearn: 0.3778884\ttotal: 312ms\tremaining: 921ms\n253:\tlearn: 0.3777117\ttotal: 313ms\tremaining: 919ms\n254:\tlearn: 0.3774395\ttotal: 314ms\tremaining: 917ms\n255:\tlearn: 0.3772078\ttotal: 315ms\tremaining: 916ms\n256:\tlearn: 0.3769012\ttotal: 316ms\tremaining: 914ms\n257:\tlearn: 0.3766505\ttotal: 317ms\tremaining: 912ms\n258:\tlearn: 0.3764226\ttotal: 318ms\tremaining: 911ms\n259:\tlearn: 0.3760896\ttotal: 319ms\tremaining: 909ms\n260:\tlearn: 0.3758347\ttotal: 320ms\tremaining: 907ms\n261:\tlearn: 0.3755262\ttotal: 321ms\tremaining: 906ms\n262:\tlearn: 0.3752593\ttotal: 323ms\tremaining: 904ms\n263:\tlearn: 0.3750688\ttotal: 324ms\tremaining: 902ms\n264:\tlearn: 0.3747718\ttotal: 325ms\tremaining: 901ms\n265:\tlearn: 0.3742715\ttotal: 326ms\tremaining: 899ms\n266:\tlearn: 0.3741059\ttotal: 327ms\tremaining: 896ms\n267:\tlearn: 0.3739405\ttotal: 328ms\tremaining: 895ms\n268:\tlearn: 0.3734949\ttotal: 329ms\tremaining: 893ms\n269:\tlearn: 0.3732475\ttotal: 330ms\tremaining: 891ms\n270:\tlearn: 0.3730697\ttotal: 331ms\tremaining: 890ms\n271:\tlearn: 0.3730468\ttotal: 331ms\tremaining: 887ms\n272:\tlearn: 0.3726937\ttotal: 332ms\tremaining: 885ms\n273:\tlearn: 0.3725603\ttotal: 341ms\tremaining: 903ms\n274:\tlearn: 0.3723904\ttotal: 342ms\tremaining: 902ms\n275:\tlearn: 0.3720593\ttotal: 343ms\tremaining: 900ms\n276:\tlearn: 0.3717548\ttotal: 344ms\tremaining: 898ms\n277:\tlearn: 0.3715790\ttotal: 345ms\tremaining: 896ms\n278:\tlearn: 0.3714288\ttotal: 346ms\tremaining: 895ms\n279:\tlearn: 0.3713234\ttotal: 347ms\tremaining: 893ms\n280:\tlearn: 0.3711512\ttotal: 348ms\tremaining: 891ms\n281:\tlearn: 0.3708875\ttotal: 349ms\tremaining: 890ms\n282:\tlearn: 0.3706953\ttotal: 350ms\tremaining: 888ms\n283:\tlearn: 0.3705660\ttotal: 352ms\tremaining: 886ms\n284:\tlearn: 0.3704114\ttotal: 353ms\tremaining: 885ms\n285:\tlearn: 0.3702859\ttotal: 353ms\tremaining: 882ms\n286:\tlearn: 0.3698435\ttotal: 354ms\tremaining: 881ms\n287:\tlearn: 0.3696150\ttotal: 356ms\tremaining: 879ms\n288:\tlearn: 0.3693219\ttotal: 357ms\tremaining: 877ms\n289:\tlearn: 0.3692270\ttotal: 358ms\tremaining: 876ms\n290:\tlearn: 0.3690483\ttotal: 359ms\tremaining: 874ms\n291:\tlearn: 0.3688489\ttotal: 360ms\tremaining: 872ms\n292:\tlearn: 0.3685150\ttotal: 361ms\tremaining: 871ms\n293:\tlearn: 0.3683233\ttotal: 362ms\tremaining: 869ms\n294:\tlearn: 0.3680691\ttotal: 363ms\tremaining: 867ms\n295:\tlearn: 0.3679332\ttotal: 364ms\tremaining: 866ms\n296:\tlearn: 0.3678298\ttotal: 365ms\tremaining: 864ms\n297:\tlearn: 0.3676283\ttotal: 366ms\tremaining: 863ms\n298:\tlearn: 0.3675079\ttotal: 367ms\tremaining: 861ms\n299:\tlearn: 0.3673096\ttotal: 368ms\tremaining: 859ms\n300:\tlearn: 0.3671405\ttotal: 369ms\tremaining: 858ms\n301:\tlearn: 0.3669725\ttotal: 370ms\tremaining: 856ms\n302:\tlearn: 0.3668550\ttotal: 371ms\tremaining: 854ms\n303:\tlearn: 0.3664979\ttotal: 372ms\tremaining: 853ms\n304:\tlearn: 0.3662384\ttotal: 374ms\tremaining: 853ms\n305:\tlearn: 0.3659170\ttotal: 375ms\tremaining: 852ms\n306:\tlearn: 0.3658384\ttotal: 376ms\tremaining: 850ms\n307:\tlearn: 0.3657266\ttotal: 378ms\tremaining: 848ms\n308:\tlearn: 0.3657063\ttotal: 378ms\tremaining: 846ms\n309:\tlearn: 0.3654463\ttotal: 379ms\tremaining: 844ms\n310:\tlearn: 0.3651065\ttotal: 380ms\tremaining: 843ms\n311:\tlearn: 0.3648876\ttotal: 382ms\tremaining: 841ms\n312:\tlearn: 0.3645960\ttotal: 383ms\tremaining: 840ms\n313:\tlearn: 0.3645857\ttotal: 383ms\tremaining: 837ms\n314:\tlearn: 0.3643795\ttotal: 384ms\tremaining: 836ms\n315:\tlearn: 0.3642257\ttotal: 385ms\tremaining: 834ms\n316:\tlearn: 0.3639589\ttotal: 386ms\tremaining: 833ms\n317:\tlearn: 0.3636927\ttotal: 388ms\tremaining: 831ms\n318:\tlearn: 0.3634884\ttotal: 389ms\tremaining: 830ms\n319:\tlearn: 0.3633488\ttotal: 390ms\tremaining: 828ms\n320:\tlearn: 0.3630324\ttotal: 391ms\tremaining: 826ms\n321:\tlearn: 0.3627807\ttotal: 392ms\tremaining: 825ms\n322:\tlearn: 0.3625956\ttotal: 393ms\tremaining: 823ms\n323:\tlearn: 0.3623849\ttotal: 394ms\tremaining: 822ms\n324:\tlearn: 0.3621259\ttotal: 395ms\tremaining: 820ms\n325:\tlearn: 0.3619954\ttotal: 396ms\tremaining: 819ms\n326:\tlearn: 0.3618147\ttotal: 397ms\tremaining: 817ms\n327:\tlearn: 0.3615776\ttotal: 398ms\tremaining: 816ms\n328:\tlearn: 0.3614104\ttotal: 399ms\tremaining: 814ms\n329:\tlearn: 0.3613645\ttotal: 400ms\tremaining: 812ms\n330:\tlearn: 0.3611355\ttotal: 401ms\tremaining: 811ms\n331:\tlearn: 0.3610194\ttotal: 403ms\tremaining: 810ms\n332:\tlearn: 0.3608382\ttotal: 404ms\tremaining: 808ms\n333:\tlearn: 0.3606595\ttotal: 405ms\tremaining: 807ms\n334:\tlearn: 0.3604694\ttotal: 406ms\tremaining: 805ms\n335:\tlearn: 0.3603148\ttotal: 407ms\tremaining: 804ms\n336:\tlearn: 0.3600548\ttotal: 408ms\tremaining: 802ms\n337:\tlearn: 0.3599089\ttotal: 409ms\tremaining: 801ms\n338:\tlearn: 0.3597027\ttotal: 410ms\tremaining: 799ms\n339:\tlearn: 0.3595885\ttotal: 411ms\tremaining: 798ms\n340:\tlearn: 0.3593170\ttotal: 412ms\tremaining: 797ms\n341:\tlearn: 0.3591666\ttotal: 413ms\tremaining: 795ms\n342:\tlearn: 0.3589585\ttotal: 416ms\tremaining: 796ms\n343:\tlearn: 0.3588192\ttotal: 417ms\tremaining: 795ms\n344:\tlearn: 0.3587946\ttotal: 417ms\tremaining: 792ms\n345:\tlearn: 0.3586199\ttotal: 418ms\tremaining: 791ms\n346:\tlearn: 0.3584672\ttotal: 420ms\tremaining: 789ms\n347:\tlearn: 0.3582977\ttotal: 421ms\tremaining: 788ms\n348:\tlearn: 0.3580773\ttotal: 422ms\tremaining: 787ms\n349:\tlearn: 0.3578891\ttotal: 423ms\tremaining: 785ms\n350:\tlearn: 0.3577077\ttotal: 424ms\tremaining: 784ms\n351:\tlearn: 0.3575069\ttotal: 425ms\tremaining: 782ms\n352:\tlearn: 0.3572755\ttotal: 426ms\tremaining: 781ms\n353:\tlearn: 0.3570926\ttotal: 427ms\tremaining: 779ms\n354:\tlearn: 0.3568390\ttotal: 434ms\tremaining: 788ms\n355:\tlearn: 0.3567245\ttotal: 435ms\tremaining: 787ms\n356:\tlearn: 0.3565601\ttotal: 436ms\tremaining: 785ms\n357:\tlearn: 0.3563732\ttotal: 437ms\tremaining: 784ms\n358:\tlearn: 0.3561453\ttotal: 438ms\tremaining: 782ms\n359:\tlearn: 0.3559511\ttotal: 439ms\tremaining: 781ms\n360:\tlearn: 0.3558337\ttotal: 440ms\tremaining: 779ms\n361:\tlearn: 0.3556663\ttotal: 442ms\tremaining: 778ms\n362:\tlearn: 0.3555756\ttotal: 443ms\tremaining: 778ms\n363:\tlearn: 0.3554010\ttotal: 445ms\tremaining: 778ms\n364:\tlearn: 0.3553748\ttotal: 446ms\tremaining: 777ms\n365:\tlearn: 0.3552988\ttotal: 448ms\tremaining: 775ms\n366:\tlearn: 0.3550543\ttotal: 449ms\tremaining: 774ms\n367:\tlearn: 0.3549556\ttotal: 451ms\tremaining: 774ms\n368:\tlearn: 0.3549117\ttotal: 451ms\tremaining: 772ms\n369:\tlearn: 0.3547348\ttotal: 453ms\tremaining: 771ms\n370:\tlearn: 0.3545390\ttotal: 454ms\tremaining: 770ms\n371:\tlearn: 0.3544025\ttotal: 455ms\tremaining: 768ms\n372:\tlearn: 0.3542325\ttotal: 456ms\tremaining: 767ms\n373:\tlearn: 0.3541250\ttotal: 457ms\tremaining: 766ms\n374:\tlearn: 0.3540273\ttotal: 458ms\tremaining: 764ms\n375:\tlearn: 0.3539239\ttotal: 460ms\tremaining: 763ms\n376:\tlearn: 0.3537926\ttotal: 461ms\tremaining: 761ms\n377:\tlearn: 0.3536278\ttotal: 462ms\tremaining: 760ms\n378:\tlearn: 0.3534361\ttotal: 463ms\tremaining: 759ms\n379:\tlearn: 0.3532299\ttotal: 464ms\tremaining: 758ms\n380:\tlearn: 0.3529362\ttotal: 466ms\tremaining: 757ms\n381:\tlearn: 0.3527558\ttotal: 467ms\tremaining: 755ms\n382:\tlearn: 0.3526606\ttotal: 468ms\tremaining: 754ms\n383:\tlearn: 0.3525713\ttotal: 469ms\tremaining: 753ms\n384:\tlearn: 0.3525368\ttotal: 470ms\tremaining: 751ms\n385:\tlearn: 0.3524251\ttotal: 471ms\tremaining: 749ms\n386:\tlearn: 0.3523491\ttotal: 472ms\tremaining: 748ms\n387:\tlearn: 0.3521898\ttotal: 473ms\tremaining: 747ms\n388:\tlearn: 0.3520314\ttotal: 475ms\tremaining: 746ms\n389:\tlearn: 0.3519484\ttotal: 476ms\tremaining: 745ms\n390:\tlearn: 0.3517048\ttotal: 477ms\tremaining: 743ms\n391:\tlearn: 0.3515329\ttotal: 478ms\tremaining: 742ms\n392:\tlearn: 0.3514112\ttotal: 479ms\tremaining: 741ms\n393:\tlearn: 0.3513346\ttotal: 481ms\tremaining: 739ms\n394:\tlearn: 0.3512322\ttotal: 482ms\tremaining: 738ms\n395:\tlearn: 0.3511456\ttotal: 483ms\tremaining: 736ms\n396:\tlearn: 0.3508985\ttotal: 484ms\tremaining: 735ms\n397:\tlearn: 0.3508550\ttotal: 485ms\tremaining: 733ms\n398:\tlearn: 0.3507077\ttotal: 486ms\tremaining: 731ms\n399:\tlearn: 0.3505868\ttotal: 487ms\tremaining: 730ms\n400:\tlearn: 0.3505047\ttotal: 488ms\tremaining: 729ms\n401:\tlearn: 0.3503775\ttotal: 489ms\tremaining: 727ms\n402:\tlearn: 0.3502632\ttotal: 490ms\tremaining: 726ms\n403:\tlearn: 0.3499483\ttotal: 491ms\tremaining: 724ms\n404:\tlearn: 0.3498113\ttotal: 492ms\tremaining: 723ms\n405:\tlearn: 0.3496209\ttotal: 493ms\tremaining: 721ms\n406:\tlearn: 0.3495619\ttotal: 494ms\tremaining: 720ms\n407:\tlearn: 0.3493270\ttotal: 495ms\tremaining: 719ms\n408:\tlearn: 0.3492376\ttotal: 496ms\tremaining: 717ms\n409:\tlearn: 0.3490113\ttotal: 497ms\tremaining: 716ms\n410:\tlearn: 0.3489008\ttotal: 498ms\tremaining: 714ms\n411:\tlearn: 0.3488431\ttotal: 499ms\tremaining: 713ms\n412:\tlearn: 0.3486592\ttotal: 500ms\tremaining: 711ms\n413:\tlearn: 0.3485245\ttotal: 502ms\tremaining: 710ms\n414:\tlearn: 0.3484234\ttotal: 503ms\tremaining: 709ms\n415:\tlearn: 0.3483240\ttotal: 504ms\tremaining: 707ms\n416:\tlearn: 0.3482321\ttotal: 505ms\tremaining: 706ms\n417:\tlearn: 0.3479821\ttotal: 506ms\tremaining: 704ms\n418:\tlearn: 0.3479678\ttotal: 507ms\tremaining: 703ms\n419:\tlearn: 0.3477426\ttotal: 508ms\tremaining: 701ms\n420:\tlearn: 0.3477220\ttotal: 509ms\tremaining: 699ms\n421:\tlearn: 0.3476650\ttotal: 510ms\tremaining: 698ms\n422:\tlearn: 0.3475743\ttotal: 511ms\tremaining: 696ms\n423:\tlearn: 0.3474325\ttotal: 512ms\tremaining: 695ms\n424:\tlearn: 0.3472805\ttotal: 513ms\tremaining: 694ms\n425:\tlearn: 0.3472275\ttotal: 514ms\tremaining: 692ms\n426:\tlearn: 0.3471375\ttotal: 515ms\tremaining: 691ms\n427:\tlearn: 0.3470212\ttotal: 516ms\tremaining: 689ms\n428:\tlearn: 0.3468435\ttotal: 517ms\tremaining: 688ms\n429:\tlearn: 0.3468390\ttotal: 517ms\tremaining: 686ms\n430:\tlearn: 0.3466970\ttotal: 518ms\tremaining: 684ms\n431:\tlearn: 0.3466328\ttotal: 519ms\tremaining: 683ms\n432:\tlearn: 0.3465678\ttotal: 521ms\tremaining: 682ms\n433:\tlearn: 0.3465066\ttotal: 522ms\tremaining: 680ms\n434:\tlearn: 0.3462987\ttotal: 523ms\tremaining: 679ms\n435:\tlearn: 0.3460158\ttotal: 526ms\tremaining: 680ms\n436:\tlearn: 0.3459772\ttotal: 527ms\tremaining: 678ms\n437:\tlearn: 0.3457781\ttotal: 528ms\tremaining: 677ms\n438:\tlearn: 0.3454578\ttotal: 529ms\tremaining: 676ms\n439:\tlearn: 0.3452832\ttotal: 530ms\tremaining: 674ms\n440:\tlearn: 0.3452091\ttotal: 531ms\tremaining: 673ms\n441:\tlearn: 0.3451398\ttotal: 532ms\tremaining: 671ms\n442:\tlearn: 0.3450720\ttotal: 533ms\tremaining: 670ms\n443:\tlearn: 0.3450104\ttotal: 534ms\tremaining: 669ms\n444:\tlearn: 0.3448572\ttotal: 535ms\tremaining: 667ms\n445:\tlearn: 0.3447614\ttotal: 536ms\tremaining: 666ms\n446:\tlearn: 0.3446769\ttotal: 537ms\tremaining: 665ms\n447:\tlearn: 0.3443754\ttotal: 538ms\tremaining: 663ms\n448:\tlearn: 0.3441429\ttotal: 539ms\tremaining: 662ms\n449:\tlearn: 0.3440586\ttotal: 540ms\tremaining: 660ms\n450:\tlearn: 0.3437412\ttotal: 541ms\tremaining: 659ms\n451:\tlearn: 0.3435599\ttotal: 542ms\tremaining: 658ms\n452:\tlearn: 0.3433609\ttotal: 543ms\tremaining: 656ms\n453:\tlearn: 0.3433295\ttotal: 545ms\tremaining: 655ms\n454:\tlearn: 0.3431811\ttotal: 546ms\tremaining: 653ms\n455:\tlearn: 0.3430152\ttotal: 547ms\tremaining: 652ms\n456:\tlearn: 0.3429149\ttotal: 548ms\tremaining: 651ms\n457:\tlearn: 0.3427141\ttotal: 549ms\tremaining: 649ms\n458:\tlearn: 0.3425630\ttotal: 550ms\tremaining: 648ms\n459:\tlearn: 0.3424341\ttotal: 551ms\tremaining: 647ms\n460:\tlearn: 0.3423549\ttotal: 552ms\tremaining: 645ms\n461:\tlearn: 0.3421976\ttotal: 553ms\tremaining: 644ms\n462:\tlearn: 0.3421305\ttotal: 554ms\tremaining: 643ms\n463:\tlearn: 0.3420173\ttotal: 555ms\tremaining: 641ms\n464:\tlearn: 0.3418193\ttotal: 556ms\tremaining: 640ms\n465:\tlearn: 0.3417527\ttotal: 557ms\tremaining: 638ms\n466:\tlearn: 0.3416519\ttotal: 558ms\tremaining: 637ms\n467:\tlearn: 0.3414840\ttotal: 559ms\tremaining: 636ms\n468:\tlearn: 0.3413056\ttotal: 560ms\tremaining: 634ms\n469:\tlearn: 0.3411642\ttotal: 561ms\tremaining: 633ms\n470:\tlearn: 0.3410635\ttotal: 563ms\tremaining: 632ms\n471:\tlearn: 0.3410063\ttotal: 564ms\tremaining: 631ms\n472:\tlearn: 0.3407422\ttotal: 565ms\tremaining: 630ms\n473:\tlearn: 0.3406592\ttotal: 566ms\tremaining: 629ms\n474:\tlearn: 0.3405092\ttotal: 567ms\tremaining: 627ms\n475:\tlearn: 0.3404249\ttotal: 569ms\tremaining: 626ms\n476:\tlearn: 0.3402680\ttotal: 570ms\tremaining: 624ms\n477:\tlearn: 0.3402157\ttotal: 570ms\tremaining: 623ms\n478:\tlearn: 0.3401044\ttotal: 571ms\tremaining: 622ms\n479:\tlearn: 0.3399177\ttotal: 573ms\tremaining: 620ms\n480:\tlearn: 0.3399060\ttotal: 573ms\tremaining: 618ms\n481:\tlearn: 0.3398540\ttotal: 574ms\tremaining: 617ms\n482:\tlearn: 0.3397303\ttotal: 575ms\tremaining: 616ms\n483:\tlearn: 0.3396771\ttotal: 576ms\tremaining: 614ms\n484:\tlearn: 0.3394759\ttotal: 577ms\tremaining: 613ms\n485:\tlearn: 0.3394592\ttotal: 578ms\tremaining: 611ms\n486:\tlearn: 0.3393812\ttotal: 579ms\tremaining: 610ms\n487:\tlearn: 0.3391830\ttotal: 580ms\tremaining: 609ms\n488:\tlearn: 0.3391531\ttotal: 581ms\tremaining: 608ms\n489:\tlearn: 0.3390092\ttotal: 582ms\tremaining: 606ms\n490:\tlearn: 0.3388330\ttotal: 583ms\tremaining: 605ms\n491:\tlearn: 0.3386859\ttotal: 585ms\tremaining: 604ms\n492:\tlearn: 0.3384661\ttotal: 586ms\tremaining: 602ms\n493:\tlearn: 0.3383527\ttotal: 587ms\tremaining: 601ms\n494:\tlearn: 0.3382257\ttotal: 588ms\tremaining: 600ms\n495:\tlearn: 0.3380749\ttotal: 589ms\tremaining: 599ms\n496:\tlearn: 0.3379089\ttotal: 590ms\tremaining: 598ms\n497:\tlearn: 0.3378277\ttotal: 591ms\tremaining: 596ms\n498:\tlearn: 0.3377199\ttotal: 593ms\tremaining: 595ms\n499:\tlearn: 0.3376363\ttotal: 594ms\tremaining: 594ms\n500:\tlearn: 0.3374656\ttotal: 595ms\tremaining: 592ms\n501:\tlearn: 0.3373578\ttotal: 596ms\tremaining: 591ms\n502:\tlearn: 0.3371450\ttotal: 597ms\tremaining: 590ms\n503:\tlearn: 0.3370738\ttotal: 598ms\tremaining: 588ms\n504:\tlearn: 0.3368246\ttotal: 599ms\tremaining: 587ms\n505:\tlearn: 0.3367652\ttotal: 600ms\tremaining: 586ms\n506:\tlearn: 0.3364513\ttotal: 601ms\tremaining: 584ms\n507:\tlearn: 0.3361305\ttotal: 602ms\tremaining: 583ms\n508:\tlearn: 0.3359703\ttotal: 603ms\tremaining: 582ms\n509:\tlearn: 0.3357118\ttotal: 604ms\tremaining: 580ms\n510:\tlearn: 0.3355742\ttotal: 605ms\tremaining: 579ms\n511:\tlearn: 0.3355000\ttotal: 606ms\tremaining: 578ms\n512:\tlearn: 0.3354789\ttotal: 607ms\tremaining: 577ms\n513:\tlearn: 0.3353719\ttotal: 608ms\tremaining: 575ms\n514:\tlearn: 0.3353048\ttotal: 609ms\tremaining: 574ms\n515:\tlearn: 0.3351776\ttotal: 610ms\tremaining: 573ms\n516:\tlearn: 0.3350750\ttotal: 612ms\tremaining: 571ms\n517:\tlearn: 0.3349537\ttotal: 613ms\tremaining: 570ms\n518:\tlearn: 0.3346412\ttotal: 614ms\tremaining: 569ms\n519:\tlearn: 0.3346395\ttotal: 614ms\tremaining: 567ms\n520:\tlearn: 0.3345918\ttotal: 615ms\tremaining: 566ms\n521:\tlearn: 0.3345885\ttotal: 616ms\tremaining: 564ms\n522:\tlearn: 0.3345504\ttotal: 616ms\tremaining: 562ms\n523:\tlearn: 0.3343155\ttotal: 617ms\tremaining: 561ms\n524:\tlearn: 0.3342179\ttotal: 619ms\tremaining: 560ms\n525:\tlearn: 0.3341125\ttotal: 620ms\tremaining: 558ms\n526:\tlearn: 0.3339970\ttotal: 621ms\tremaining: 557ms\n527:\tlearn: 0.3339590\ttotal: 622ms\tremaining: 556ms\n528:\tlearn: 0.3338588\ttotal: 623ms\tremaining: 554ms\n529:\tlearn: 0.3338583\ttotal: 623ms\tremaining: 553ms\n530:\tlearn: 0.3337278\ttotal: 624ms\tremaining: 551ms\n531:\tlearn: 0.3335768\ttotal: 625ms\tremaining: 550ms\n532:\tlearn: 0.3335487\ttotal: 627ms\tremaining: 549ms\n533:\tlearn: 0.3333975\ttotal: 628ms\tremaining: 548ms\n534:\tlearn: 0.3332398\ttotal: 629ms\tremaining: 546ms\n535:\tlearn: 0.3331645\ttotal: 630ms\tremaining: 545ms\n536:\tlearn: 0.3329499\ttotal: 631ms\tremaining: 544ms\n537:\tlearn: 0.3327343\ttotal: 632ms\tremaining: 543ms\n538:\tlearn: 0.3324764\ttotal: 633ms\tremaining: 541ms\n539:\tlearn: 0.3322929\ttotal: 634ms\tremaining: 540ms\n540:\tlearn: 0.3322324\ttotal: 635ms\tremaining: 538ms\n541:\tlearn: 0.3321321\ttotal: 636ms\tremaining: 537ms\n542:\tlearn: 0.3320542\ttotal: 637ms\tremaining: 536ms\n543:\tlearn: 0.3319584\ttotal: 638ms\tremaining: 535ms\n544:\tlearn: 0.3317996\ttotal: 639ms\tremaining: 533ms\n545:\tlearn: 0.3316616\ttotal: 640ms\tremaining: 532ms\n546:\tlearn: 0.3315131\ttotal: 641ms\tremaining: 531ms\n547:\tlearn: 0.3313804\ttotal: 642ms\tremaining: 529ms\n548:\tlearn: 0.3311551\ttotal: 643ms\tremaining: 528ms\n549:\tlearn: 0.3311098\ttotal: 644ms\tremaining: 527ms\n550:\tlearn: 0.3309786\ttotal: 645ms\tremaining: 526ms\n551:\tlearn: 0.3309167\ttotal: 646ms\tremaining: 524ms\n552:\tlearn: 0.3308538\ttotal: 647ms\tremaining: 523ms\n553:\tlearn: 0.3308400\ttotal: 648ms\tremaining: 522ms\n554:\tlearn: 0.3307989\ttotal: 649ms\tremaining: 520ms\n555:\tlearn: 0.3307267\ttotal: 650ms\tremaining: 519ms\n556:\tlearn: 0.3307241\ttotal: 651ms\tremaining: 517ms\n557:\tlearn: 0.3306505\ttotal: 652ms\tremaining: 516ms\n558:\tlearn: 0.3305925\ttotal: 653ms\tremaining: 515ms\n559:\tlearn: 0.3304914\ttotal: 654ms\tremaining: 514ms\n560:\tlearn: 0.3304062\ttotal: 655ms\tremaining: 512ms\n561:\tlearn: 0.3302883\ttotal: 656ms\tremaining: 511ms\n562:\tlearn: 0.3302050\ttotal: 657ms\tremaining: 510ms\n563:\tlearn: 0.3301475\ttotal: 658ms\tremaining: 509ms\n564:\tlearn: 0.3299229\ttotal: 659ms\tremaining: 507ms\n565:\tlearn: 0.3298999\ttotal: 660ms\tremaining: 506ms\n566:\tlearn: 0.3297825\ttotal: 661ms\tremaining: 505ms\n567:\tlearn: 0.3296989\ttotal: 662ms\tremaining: 504ms\n568:\tlearn: 0.3296260\ttotal: 663ms\tremaining: 502ms\n569:\tlearn: 0.3293806\ttotal: 664ms\tremaining: 501ms\n570:\tlearn: 0.3292738\ttotal: 665ms\tremaining: 500ms\n571:\tlearn: 0.3291894\ttotal: 666ms\tremaining: 499ms\n572:\tlearn: 0.3289256\ttotal: 667ms\tremaining: 497ms\n573:\tlearn: 0.3288256\ttotal: 668ms\tremaining: 496ms\n574:\tlearn: 0.3288151\ttotal: 669ms\tremaining: 495ms\n575:\tlearn: 0.3287011\ttotal: 670ms\tremaining: 493ms\n576:\tlearn: 0.3284458\ttotal: 671ms\tremaining: 492ms\n577:\tlearn: 0.3284282\ttotal: 672ms\tremaining: 491ms\n578:\tlearn: 0.3282676\ttotal: 674ms\tremaining: 490ms\n579:\tlearn: 0.3281752\ttotal: 675ms\tremaining: 488ms\n580:\tlearn: 0.3280435\ttotal: 676ms\tremaining: 487ms\n581:\tlearn: 0.3279414\ttotal: 677ms\tremaining: 486ms\n582:\tlearn: 0.3276984\ttotal: 678ms\tremaining: 485ms\n583:\tlearn: 0.3276104\ttotal: 679ms\tremaining: 484ms\n584:\tlearn: 0.3274568\ttotal: 680ms\tremaining: 482ms\n585:\tlearn: 0.3273446\ttotal: 681ms\tremaining: 481ms\n586:\tlearn: 0.3272564\ttotal: 682ms\tremaining: 480ms\n587:\tlearn: 0.3271846\ttotal: 683ms\tremaining: 479ms\n588:\tlearn: 0.3271243\ttotal: 684ms\tremaining: 477ms\n589:\tlearn: 0.3270949\ttotal: 685ms\tremaining: 476ms\n590:\tlearn: 0.3270483\ttotal: 686ms\tremaining: 475ms\n591:\tlearn: 0.3268839\ttotal: 687ms\tremaining: 474ms\n592:\tlearn: 0.3268721\ttotal: 688ms\tremaining: 473ms\n593:\tlearn: 0.3267833\ttotal: 690ms\tremaining: 471ms\n594:\tlearn: 0.3267378\ttotal: 690ms\tremaining: 470ms\n595:\tlearn: 0.3266997\ttotal: 691ms\tremaining: 469ms\n596:\tlearn: 0.3265948\ttotal: 692ms\tremaining: 467ms\n597:\tlearn: 0.3265784\ttotal: 693ms\tremaining: 466ms\n598:\tlearn: 0.3265338\ttotal: 694ms\tremaining: 465ms\n599:\tlearn: 0.3263289\ttotal: 695ms\tremaining: 463ms\n600:\tlearn: 0.3261391\ttotal: 702ms\tremaining: 466ms\n601:\tlearn: 0.3259933\ttotal: 703ms\tremaining: 465ms\n602:\tlearn: 0.3259500\ttotal: 704ms\tremaining: 464ms\n603:\tlearn: 0.3259183\ttotal: 705ms\tremaining: 462ms\n604:\tlearn: 0.3258125\ttotal: 706ms\tremaining: 461ms\n605:\tlearn: 0.3257565\ttotal: 707ms\tremaining: 460ms\n606:\tlearn: 0.3256911\ttotal: 708ms\tremaining: 459ms\n607:\tlearn: 0.3255860\ttotal: 709ms\tremaining: 457ms\n608:\tlearn: 0.3255096\ttotal: 710ms\tremaining: 456ms\n609:\tlearn: 0.3253652\ttotal: 712ms\tremaining: 455ms\n610:\tlearn: 0.3252677\ttotal: 713ms\tremaining: 454ms\n611:\tlearn: 0.3252054\ttotal: 714ms\tremaining: 452ms\n612:\tlearn: 0.3251238\ttotal: 715ms\tremaining: 451ms\n613:\tlearn: 0.3250565\ttotal: 716ms\tremaining: 450ms\n614:\tlearn: 0.3248557\ttotal: 717ms\tremaining: 449ms\n615:\tlearn: 0.3247402\ttotal: 718ms\tremaining: 448ms\n616:\tlearn: 0.3244855\ttotal: 719ms\tremaining: 446ms\n617:\tlearn: 0.3244164\ttotal: 720ms\tremaining: 445ms\n618:\tlearn: 0.3242164\ttotal: 721ms\tremaining: 444ms\n619:\tlearn: 0.3241164\ttotal: 722ms\tremaining: 443ms\n620:\tlearn: 0.3240224\ttotal: 723ms\tremaining: 441ms\n621:\tlearn: 0.3239106\ttotal: 724ms\tremaining: 440ms\n622:\tlearn: 0.3238350\ttotal: 725ms\tremaining: 439ms\n623:\tlearn: 0.3237616\ttotal: 726ms\tremaining: 438ms\n624:\tlearn: 0.3236092\ttotal: 728ms\tremaining: 437ms\n625:\tlearn: 0.3235165\ttotal: 729ms\tremaining: 435ms\n626:\tlearn: 0.3233673\ttotal: 730ms\tremaining: 434ms\n627:\tlearn: 0.3232502\ttotal: 731ms\tremaining: 433ms\n628:\tlearn: 0.3231929\ttotal: 732ms\tremaining: 432ms\n629:\tlearn: 0.3230488\ttotal: 733ms\tremaining: 430ms\n630:\tlearn: 0.3229634\ttotal: 734ms\tremaining: 429ms\n631:\tlearn: 0.3227394\ttotal: 735ms\tremaining: 428ms\n632:\tlearn: 0.3225664\ttotal: 736ms\tremaining: 427ms\n633:\tlearn: 0.3224101\ttotal: 737ms\tremaining: 426ms\n634:\tlearn: 0.3223006\ttotal: 738ms\tremaining: 424ms\n635:\tlearn: 0.3222471\ttotal: 739ms\tremaining: 423ms\n636:\tlearn: 0.3220706\ttotal: 740ms\tremaining: 422ms\n637:\tlearn: 0.3219754\ttotal: 741ms\tremaining: 421ms\n638:\tlearn: 0.3218965\ttotal: 743ms\tremaining: 420ms\n639:\tlearn: 0.3218693\ttotal: 744ms\tremaining: 419ms\n640:\tlearn: 0.3217326\ttotal: 746ms\tremaining: 418ms\n641:\tlearn: 0.3217015\ttotal: 749ms\tremaining: 418ms\n642:\tlearn: 0.3215697\ttotal: 751ms\tremaining: 417ms\n643:\tlearn: 0.3214552\ttotal: 753ms\tremaining: 416ms\n644:\tlearn: 0.3213977\ttotal: 754ms\tremaining: 415ms\n645:\tlearn: 0.3213470\ttotal: 755ms\tremaining: 414ms\n646:\tlearn: 0.3212317\ttotal: 757ms\tremaining: 413ms\n647:\tlearn: 0.3210824\ttotal: 758ms\tremaining: 412ms\n648:\tlearn: 0.3210750\ttotal: 759ms\tremaining: 410ms\n649:\tlearn: 0.3210683\ttotal: 760ms\tremaining: 409ms\n650:\tlearn: 0.3208993\ttotal: 761ms\tremaining: 408ms\n651:\tlearn: 0.3208461\ttotal: 763ms\tremaining: 407ms\n652:\tlearn: 0.3207750\ttotal: 764ms\tremaining: 406ms\n653:\tlearn: 0.3207286\ttotal: 765ms\tremaining: 405ms\n654:\tlearn: 0.3205962\ttotal: 767ms\tremaining: 404ms\n655:\tlearn: 0.3205020\ttotal: 768ms\tremaining: 403ms\n656:\tlearn: 0.3202716\ttotal: 769ms\tremaining: 402ms\n657:\tlearn: 0.3201152\ttotal: 771ms\tremaining: 401ms\n658:\tlearn: 0.3198223\ttotal: 772ms\tremaining: 399ms\n659:\tlearn: 0.3197852\ttotal: 773ms\tremaining: 398ms\n660:\tlearn: 0.3196049\ttotal: 774ms\tremaining: 397ms\n661:\tlearn: 0.3195199\ttotal: 775ms\tremaining: 396ms\n662:\tlearn: 0.3193013\ttotal: 776ms\tremaining: 394ms\n663:\tlearn: 0.3192226\ttotal: 777ms\tremaining: 393ms\n664:\tlearn: 0.3189462\ttotal: 778ms\tremaining: 392ms\n665:\tlearn: 0.3188311\ttotal: 779ms\tremaining: 391ms\n666:\tlearn: 0.3186450\ttotal: 780ms\tremaining: 389ms\n667:\tlearn: 0.3185668\ttotal: 781ms\tremaining: 388ms\n668:\tlearn: 0.3183831\ttotal: 782ms\tremaining: 387ms\n669:\tlearn: 0.3182167\ttotal: 783ms\tremaining: 386ms\n670:\tlearn: 0.3181486\ttotal: 784ms\tremaining: 384ms\n671:\tlearn: 0.3180131\ttotal: 785ms\tremaining: 383ms\n672:\tlearn: 0.3179576\ttotal: 786ms\tremaining: 382ms\n673:\tlearn: 0.3178494\ttotal: 787ms\tremaining: 381ms\n674:\tlearn: 0.3177892\ttotal: 788ms\tremaining: 380ms\n675:\tlearn: 0.3176896\ttotal: 790ms\tremaining: 378ms\n676:\tlearn: 0.3175821\ttotal: 791ms\tremaining: 377ms\n677:\tlearn: 0.3174247\ttotal: 794ms\tremaining: 377ms\n678:\tlearn: 0.3172407\ttotal: 795ms\tremaining: 376ms\n679:\tlearn: 0.3171850\ttotal: 796ms\tremaining: 374ms\n680:\tlearn: 0.3169816\ttotal: 797ms\tremaining: 373ms\n681:\tlearn: 0.3168196\ttotal: 798ms\tremaining: 372ms\n682:\tlearn: 0.3166521\ttotal: 799ms\tremaining: 371ms\n683:\tlearn: 0.3165752\ttotal: 800ms\tremaining: 370ms\n684:\tlearn: 0.3165575\ttotal: 801ms\tremaining: 368ms\n685:\tlearn: 0.3163703\ttotal: 802ms\tremaining: 367ms\n686:\tlearn: 0.3163538\ttotal: 803ms\tremaining: 366ms\n687:\tlearn: 0.3163041\ttotal: 804ms\tremaining: 365ms\n688:\tlearn: 0.3161061\ttotal: 805ms\tremaining: 363ms\n689:\tlearn: 0.3160150\ttotal: 806ms\tremaining: 362ms\n690:\tlearn: 0.3158719\ttotal: 807ms\tremaining: 361ms\n691:\tlearn: 0.3158150\ttotal: 808ms\tremaining: 360ms\n692:\tlearn: 0.3156276\ttotal: 809ms\tremaining: 359ms\n693:\tlearn: 0.3154093\ttotal: 811ms\tremaining: 357ms\n694:\tlearn: 0.3153133\ttotal: 812ms\tremaining: 356ms\n695:\tlearn: 0.3152759\ttotal: 812ms\tremaining: 355ms\n696:\tlearn: 0.3151704\ttotal: 813ms\tremaining: 354ms\n697:\tlearn: 0.3151120\ttotal: 815ms\tremaining: 352ms\n698:\tlearn: 0.3150121\ttotal: 816ms\tremaining: 351ms\n699:\tlearn: 0.3148708\ttotal: 817ms\tremaining: 350ms\n700:\tlearn: 0.3147771\ttotal: 818ms\tremaining: 349ms\n701:\tlearn: 0.3147280\ttotal: 819ms\tremaining: 348ms\n702:\tlearn: 0.3145996\ttotal: 820ms\tremaining: 346ms\n703:\tlearn: 0.3145534\ttotal: 821ms\tremaining: 345ms\n704:\tlearn: 0.3144746\ttotal: 822ms\tremaining: 344ms\n705:\tlearn: 0.3143551\ttotal: 823ms\tremaining: 343ms\n706:\tlearn: 0.3141217\ttotal: 824ms\tremaining: 342ms\n707:\tlearn: 0.3138859\ttotal: 825ms\tremaining: 340ms\n708:\tlearn: 0.3136566\ttotal: 826ms\tremaining: 339ms\n709:\tlearn: 0.3134879\ttotal: 827ms\tremaining: 338ms\n710:\tlearn: 0.3134187\ttotal: 828ms\tremaining: 337ms\n711:\tlearn: 0.3133744\ttotal: 830ms\tremaining: 336ms\n712:\tlearn: 0.3133175\ttotal: 831ms\tremaining: 334ms\n713:\tlearn: 0.3132272\ttotal: 832ms\tremaining: 333ms\n714:\tlearn: 0.3130952\ttotal: 833ms\tremaining: 332ms\n715:\tlearn: 0.3128404\ttotal: 834ms\tremaining: 331ms\n716:\tlearn: 0.3127679\ttotal: 835ms\tremaining: 329ms\n717:\tlearn: 0.3126298\ttotal: 836ms\tremaining: 328ms\n718:\tlearn: 0.3123420\ttotal: 837ms\tremaining: 327ms\n719:\tlearn: 0.3122599\ttotal: 838ms\tremaining: 326ms\n720:\tlearn: 0.3121113\ttotal: 839ms\tremaining: 325ms\n721:\tlearn: 0.3118895\ttotal: 840ms\tremaining: 323ms\n722:\tlearn: 0.3118167\ttotal: 841ms\tremaining: 322ms\n723:\tlearn: 0.3116753\ttotal: 842ms\tremaining: 321ms\n724:\tlearn: 0.3115021\ttotal: 843ms\tremaining: 320ms\n725:\tlearn: 0.3113452\ttotal: 844ms\tremaining: 319ms\n726:\tlearn: 0.3111723\ttotal: 845ms\tremaining: 317ms\n727:\tlearn: 0.3110800\ttotal: 846ms\tremaining: 316ms\n728:\tlearn: 0.3109771\ttotal: 848ms\tremaining: 315ms\n729:\tlearn: 0.3108776\ttotal: 849ms\tremaining: 314ms\n730:\tlearn: 0.3108464\ttotal: 850ms\tremaining: 313ms\n731:\tlearn: 0.3108068\ttotal: 851ms\tremaining: 311ms\n732:\tlearn: 0.3107092\ttotal: 852ms\tremaining: 310ms\n733:\tlearn: 0.3105845\ttotal: 853ms\tremaining: 309ms\n734:\tlearn: 0.3104694\ttotal: 855ms\tremaining: 308ms\n735:\tlearn: 0.3104491\ttotal: 857ms\tremaining: 307ms\n736:\tlearn: 0.3104425\ttotal: 858ms\tremaining: 306ms\n737:\tlearn: 0.3103194\ttotal: 860ms\tremaining: 305ms\n738:\tlearn: 0.3102111\ttotal: 861ms\tremaining: 304ms\n739:\tlearn: 0.3101257\ttotal: 863ms\tremaining: 303ms\n740:\tlearn: 0.3100941\ttotal: 864ms\tremaining: 302ms\n741:\tlearn: 0.3100833\ttotal: 865ms\tremaining: 301ms\n742:\tlearn: 0.3099109\ttotal: 866ms\tremaining: 300ms\n743:\tlearn: 0.3097588\ttotal: 867ms\tremaining: 298ms\n744:\tlearn: 0.3096433\ttotal: 868ms\tremaining: 297ms\n745:\tlearn: 0.3095769\ttotal: 869ms\tremaining: 296ms\n746:\tlearn: 0.3095427\ttotal: 870ms\tremaining: 295ms\n747:\tlearn: 0.3094643\ttotal: 871ms\tremaining: 294ms\n748:\tlearn: 0.3093565\ttotal: 872ms\tremaining: 292ms\n749:\tlearn: 0.3090920\ttotal: 874ms\tremaining: 291ms\n750:\tlearn: 0.3089781\ttotal: 875ms\tremaining: 290ms\n751:\tlearn: 0.3089037\ttotal: 876ms\tremaining: 289ms\n752:\tlearn: 0.3088429\ttotal: 877ms\tremaining: 288ms\n753:\tlearn: 0.3087833\ttotal: 878ms\tremaining: 286ms\n754:\tlearn: 0.3087570\ttotal: 879ms\tremaining: 285ms\n755:\tlearn: 0.3086542\ttotal: 880ms\tremaining: 284ms\n756:\tlearn: 0.3085319\ttotal: 881ms\tremaining: 283ms\n757:\tlearn: 0.3084346\ttotal: 882ms\tremaining: 282ms\n758:\tlearn: 0.3082286\ttotal: 883ms\tremaining: 280ms\n759:\tlearn: 0.3080509\ttotal: 887ms\tremaining: 280ms\n760:\tlearn: 0.3078856\ttotal: 889ms\tremaining: 279ms\n761:\tlearn: 0.3077137\ttotal: 890ms\tremaining: 278ms\n762:\tlearn: 0.3075375\ttotal: 891ms\tremaining: 277ms\n763:\tlearn: 0.3074497\ttotal: 892ms\tremaining: 275ms\n764:\tlearn: 0.3074371\ttotal: 893ms\tremaining: 274ms\n765:\tlearn: 0.3073918\ttotal: 894ms\tremaining: 273ms\n766:\tlearn: 0.3071827\ttotal: 895ms\tremaining: 272ms\n767:\tlearn: 0.3071466\ttotal: 896ms\tremaining: 271ms\n768:\tlearn: 0.3070878\ttotal: 897ms\tremaining: 269ms\n769:\tlearn: 0.3070243\ttotal: 898ms\tremaining: 268ms\n770:\tlearn: 0.3068129\ttotal: 899ms\tremaining: 267ms\n771:\tlearn: 0.3067613\ttotal: 900ms\tremaining: 266ms\n772:\tlearn: 0.3066309\ttotal: 901ms\tremaining: 265ms\n773:\tlearn: 0.3065982\ttotal: 902ms\tremaining: 263ms\n774:\tlearn: 0.3064823\ttotal: 903ms\tremaining: 262ms\n775:\tlearn: 0.3064224\ttotal: 904ms\tremaining: 261ms\n776:\tlearn: 0.3062865\ttotal: 905ms\tremaining: 260ms\n777:\tlearn: 0.3062251\ttotal: 906ms\tremaining: 259ms\n778:\tlearn: 0.3060295\ttotal: 907ms\tremaining: 257ms\n779:\tlearn: 0.3059369\ttotal: 908ms\tremaining: 256ms\n780:\tlearn: 0.3058945\ttotal: 910ms\tremaining: 255ms\n781:\tlearn: 0.3058342\ttotal: 911ms\tremaining: 254ms\n782:\tlearn: 0.3057112\ttotal: 912ms\tremaining: 253ms\n783:\tlearn: 0.3056654\ttotal: 913ms\tremaining: 251ms\n784:\tlearn: 0.3053459\ttotal: 914ms\tremaining: 250ms\n785:\tlearn: 0.3052711\ttotal: 915ms\tremaining: 249ms\n786:\tlearn: 0.3051220\ttotal: 916ms\tremaining: 248ms\n787:\tlearn: 0.3049044\ttotal: 917ms\tremaining: 247ms\n788:\tlearn: 0.3048139\ttotal: 918ms\tremaining: 246ms\n789:\tlearn: 0.3047267\ttotal: 919ms\tremaining: 244ms\n790:\tlearn: 0.3046809\ttotal: 920ms\tremaining: 243ms\n791:\tlearn: 0.3045862\ttotal: 921ms\tremaining: 242ms\n792:\tlearn: 0.3045678\ttotal: 922ms\tremaining: 241ms\n793:\tlearn: 0.3044824\ttotal: 923ms\tremaining: 240ms\n794:\tlearn: 0.3044099\ttotal: 925ms\tremaining: 238ms\n795:\tlearn: 0.3043301\ttotal: 926ms\tremaining: 237ms\n796:\tlearn: 0.3041404\ttotal: 927ms\tremaining: 236ms\n797:\tlearn: 0.3038960\ttotal: 928ms\tremaining: 235ms\n798:\tlearn: 0.3038222\ttotal: 929ms\tremaining: 234ms\n799:\tlearn: 0.3035813\ttotal: 930ms\tremaining: 232ms\n800:\tlearn: 0.3035599\ttotal: 930ms\tremaining: 231ms\n801:\tlearn: 0.3032881\ttotal: 932ms\tremaining: 230ms\n802:\tlearn: 0.3032431\ttotal: 933ms\tremaining: 229ms\n803:\tlearn: 0.3030683\ttotal: 935ms\tremaining: 228ms\n804:\tlearn: 0.3029349\ttotal: 936ms\tremaining: 227ms\n805:\tlearn: 0.3028626\ttotal: 937ms\tremaining: 225ms\n806:\tlearn: 0.3027033\ttotal: 938ms\tremaining: 224ms\n807:\tlearn: 0.3026364\ttotal: 939ms\tremaining: 223ms\n808:\tlearn: 0.3025760\ttotal: 940ms\tremaining: 222ms\n809:\tlearn: 0.3024992\ttotal: 941ms\tremaining: 221ms\n810:\tlearn: 0.3023332\ttotal: 942ms\tremaining: 220ms\n811:\tlearn: 0.3022980\ttotal: 943ms\tremaining: 218ms\n812:\tlearn: 0.3022655\ttotal: 944ms\tremaining: 217ms\n813:\tlearn: 0.3021059\ttotal: 945ms\tremaining: 216ms\n814:\tlearn: 0.3019705\ttotal: 946ms\tremaining: 215ms\n815:\tlearn: 0.3018338\ttotal: 947ms\tremaining: 214ms\n816:\tlearn: 0.3017903\ttotal: 948ms\tremaining: 212ms\n817:\tlearn: 0.3015893\ttotal: 949ms\tremaining: 211ms\n818:\tlearn: 0.3015029\ttotal: 950ms\tremaining: 210ms\n819:\tlearn: 0.3014888\ttotal: 951ms\tremaining: 209ms\n820:\tlearn: 0.3013764\ttotal: 952ms\tremaining: 208ms\n821:\tlearn: 0.3013042\ttotal: 954ms\tremaining: 206ms\n822:\tlearn: 0.3012183\ttotal: 955ms\tremaining: 205ms\n823:\tlearn: 0.3010948\ttotal: 956ms\tremaining: 204ms\n824:\tlearn: 0.3010640\ttotal: 957ms\tremaining: 203ms\n825:\tlearn: 0.3009223\ttotal: 958ms\tremaining: 202ms\n826:\tlearn: 0.3008105\ttotal: 959ms\tremaining: 201ms\n827:\tlearn: 0.3006935\ttotal: 960ms\tremaining: 199ms\n828:\tlearn: 0.3005362\ttotal: 961ms\tremaining: 198ms\n829:\tlearn: 0.3004292\ttotal: 962ms\tremaining: 197ms\n830:\tlearn: 0.3003655\ttotal: 963ms\tremaining: 196ms\n831:\tlearn: 0.3000905\ttotal: 964ms\tremaining: 195ms\n832:\tlearn: 0.2999943\ttotal: 965ms\tremaining: 193ms\n833:\tlearn: 0.2998227\ttotal: 966ms\tremaining: 192ms\n834:\tlearn: 0.2997881\ttotal: 967ms\tremaining: 191ms\n835:\tlearn: 0.2997506\ttotal: 968ms\tremaining: 190ms\n836:\tlearn: 0.2997061\ttotal: 969ms\tremaining: 189ms\n837:\tlearn: 0.2996753\ttotal: 970ms\tremaining: 188ms\n838:\tlearn: 0.2996013\ttotal: 971ms\tremaining: 186ms\n839:\tlearn: 0.2995173\ttotal: 972ms\tremaining: 185ms\n840:\tlearn: 0.2994178\ttotal: 973ms\tremaining: 184ms\n841:\tlearn: 0.2992292\ttotal: 980ms\tremaining: 184ms\n842:\tlearn: 0.2991457\ttotal: 981ms\tremaining: 183ms\n843:\tlearn: 0.2990949\ttotal: 982ms\tremaining: 182ms\n844:\tlearn: 0.2990369\ttotal: 983ms\tremaining: 180ms\n845:\tlearn: 0.2989828\ttotal: 984ms\tremaining: 179ms\n846:\tlearn: 0.2988758\ttotal: 985ms\tremaining: 178ms\n847:\tlearn: 0.2987673\ttotal: 986ms\tremaining: 177ms\n848:\tlearn: 0.2986398\ttotal: 987ms\tremaining: 176ms\n849:\tlearn: 0.2985662\ttotal: 989ms\tremaining: 174ms\n850:\tlearn: 0.2985029\ttotal: 990ms\tremaining: 173ms\n851:\tlearn: 0.2984127\ttotal: 991ms\tremaining: 172ms\n852:\tlearn: 0.2983601\ttotal: 992ms\tremaining: 171ms\n853:\tlearn: 0.2983295\ttotal: 993ms\tremaining: 170ms\n854:\tlearn: 0.2982734\ttotal: 994ms\tremaining: 169ms\n855:\tlearn: 0.2981629\ttotal: 995ms\tremaining: 167ms\n856:\tlearn: 0.2979970\ttotal: 996ms\tremaining: 166ms\n857:\tlearn: 0.2979900\ttotal: 997ms\tremaining: 165ms\n858:\tlearn: 0.2978458\ttotal: 998ms\tremaining: 164ms\n859:\tlearn: 0.2977975\ttotal: 999ms\tremaining: 163ms\n860:\tlearn: 0.2975273\ttotal: 1s\tremaining: 161ms\n861:\tlearn: 0.2974806\ttotal: 1s\tremaining: 160ms\n862:\tlearn: 0.2972553\ttotal: 1s\tremaining: 159ms\n863:\tlearn: 0.2971724\ttotal: 1s\tremaining: 158ms\n864:\tlearn: 0.2971301\ttotal: 1s\tremaining: 157ms\n865:\tlearn: 0.2969323\ttotal: 1.01s\tremaining: 156ms\n866:\tlearn: 0.2966976\ttotal: 1.01s\tremaining: 155ms\n867:\tlearn: 0.2964640\ttotal: 1.01s\tremaining: 153ms\n868:\tlearn: 0.2964322\ttotal: 1.01s\tremaining: 152ms\n869:\tlearn: 0.2962087\ttotal: 1.01s\tremaining: 151ms\n870:\tlearn: 0.2960813\ttotal: 1.01s\tremaining: 150ms\n871:\tlearn: 0.2960774\ttotal: 1.01s\tremaining: 149ms\n872:\tlearn: 0.2959711\ttotal: 1.01s\tremaining: 147ms\n873:\tlearn: 0.2959399\ttotal: 1.01s\tremaining: 146ms\n874:\tlearn: 0.2956565\ttotal: 1.01s\tremaining: 145ms\n875:\tlearn: 0.2954451\ttotal: 1.02s\tremaining: 144ms\n876:\tlearn: 0.2953738\ttotal: 1.02s\tremaining: 143ms\n877:\tlearn: 0.2951847\ttotal: 1.02s\tremaining: 142ms\n878:\tlearn: 0.2951016\ttotal: 1.02s\tremaining: 140ms\n879:\tlearn: 0.2949810\ttotal: 1.02s\tremaining: 139ms\n880:\tlearn: 0.2946512\ttotal: 1.02s\tremaining: 138ms\n881:\tlearn: 0.2945614\ttotal: 1.02s\tremaining: 137ms\n882:\tlearn: 0.2945080\ttotal: 1.02s\tremaining: 136ms\n883:\tlearn: 0.2942494\ttotal: 1.02s\tremaining: 135ms\n884:\tlearn: 0.2940054\ttotal: 1.03s\tremaining: 133ms\n885:\tlearn: 0.2935756\ttotal: 1.03s\tremaining: 132ms\n886:\tlearn: 0.2935635\ttotal: 1.03s\tremaining: 131ms\n887:\tlearn: 0.2935174\ttotal: 1.03s\tremaining: 130ms\n888:\tlearn: 0.2934027\ttotal: 1.03s\tremaining: 129ms\n889:\tlearn: 0.2933520\ttotal: 1.03s\tremaining: 127ms\n890:\tlearn: 0.2932326\ttotal: 1.03s\tremaining: 126ms\n891:\tlearn: 0.2931136\ttotal: 1.03s\tremaining: 125ms\n892:\tlearn: 0.2927835\ttotal: 1.03s\tremaining: 124ms\n893:\tlearn: 0.2926052\ttotal: 1.03s\tremaining: 123ms\n894:\tlearn: 0.2925628\ttotal: 1.04s\tremaining: 122ms\n895:\tlearn: 0.2925334\ttotal: 1.04s\tremaining: 120ms\n896:\tlearn: 0.2924038\ttotal: 1.04s\tremaining: 119ms\n897:\tlearn: 0.2923454\ttotal: 1.04s\tremaining: 118ms\n898:\tlearn: 0.2921731\ttotal: 1.04s\tremaining: 117ms\n899:\tlearn: 0.2921292\ttotal: 1.04s\tremaining: 116ms\n900:\tlearn: 0.2920173\ttotal: 1.04s\tremaining: 115ms\n901:\tlearn: 0.2917704\ttotal: 1.04s\tremaining: 113ms\n902:\tlearn: 0.2915520\ttotal: 1.04s\tremaining: 112ms\n903:\tlearn: 0.2913511\ttotal: 1.05s\tremaining: 111ms\n904:\tlearn: 0.2912830\ttotal: 1.05s\tremaining: 110ms\n905:\tlearn: 0.2912585\ttotal: 1.05s\tremaining: 109ms\n906:\tlearn: 0.2911952\ttotal: 1.05s\tremaining: 108ms\n907:\tlearn: 0.2911528\ttotal: 1.05s\tremaining: 106ms\n908:\tlearn: 0.2908596\ttotal: 1.05s\tremaining: 105ms\n909:\tlearn: 0.2907888\ttotal: 1.05s\tremaining: 104ms\n910:\tlearn: 0.2907449\ttotal: 1.05s\tremaining: 103ms\n911:\tlearn: 0.2904245\ttotal: 1.05s\tremaining: 102ms\n912:\tlearn: 0.2903333\ttotal: 1.05s\tremaining: 101ms\n913:\tlearn: 0.2902834\ttotal: 1.06s\tremaining: 99.5ms\n914:\tlearn: 0.2902284\ttotal: 1.06s\tremaining: 98.3ms\n915:\tlearn: 0.2900849\ttotal: 1.06s\tremaining: 97.1ms\n916:\tlearn: 0.2900377\ttotal: 1.06s\tremaining: 96ms\n917:\tlearn: 0.2899477\ttotal: 1.06s\tremaining: 94.8ms\n918:\tlearn: 0.2898973\ttotal: 1.06s\tremaining: 93.6ms\n919:\tlearn: 0.2898778\ttotal: 1.06s\tremaining: 92.5ms\n920:\tlearn: 0.2896871\ttotal: 1.06s\tremaining: 91.3ms\n921:\tlearn: 0.2896435\ttotal: 1.06s\tremaining: 90.1ms\n922:\tlearn: 0.2896368\ttotal: 1.06s\tremaining: 88.9ms\n923:\tlearn: 0.2896184\ttotal: 1.07s\tremaining: 87.7ms\n924:\tlearn: 0.2895708\ttotal: 1.07s\tremaining: 86.6ms\n925:\tlearn: 0.2895183\ttotal: 1.07s\tremaining: 85.4ms\n926:\tlearn: 0.2894896\ttotal: 1.07s\tremaining: 84.2ms\n927:\tlearn: 0.2893505\ttotal: 1.07s\tremaining: 83.1ms\n928:\tlearn: 0.2893083\ttotal: 1.07s\tremaining: 81.9ms\n929:\tlearn: 0.2889311\ttotal: 1.07s\tremaining: 80.7ms\n930:\tlearn: 0.2887874\ttotal: 1.07s\tremaining: 79.6ms\n931:\tlearn: 0.2886644\ttotal: 1.07s\tremaining: 78.4ms\n932:\tlearn: 0.2884733\ttotal: 1.08s\tremaining: 77.3ms\n933:\tlearn: 0.2883431\ttotal: 1.08s\tremaining: 76.1ms\n934:\tlearn: 0.2882070\ttotal: 1.08s\tremaining: 75ms\n935:\tlearn: 0.2881729\ttotal: 1.08s\tremaining: 73.8ms\n936:\tlearn: 0.2879707\ttotal: 1.08s\tremaining: 72.6ms\n937:\tlearn: 0.2879218\ttotal: 1.08s\tremaining: 71.5ms\n938:\tlearn: 0.2878483\ttotal: 1.08s\tremaining: 70.3ms\n939:\tlearn: 0.2877195\ttotal: 1.08s\tremaining: 69.2ms\n940:\tlearn: 0.2876369\ttotal: 1.08s\tremaining: 68ms\n941:\tlearn: 0.2875702\ttotal: 1.08s\tremaining: 66.8ms\n942:\tlearn: 0.2874329\ttotal: 1.09s\tremaining: 65.7ms\n943:\tlearn: 0.2872690\ttotal: 1.09s\tremaining: 64.5ms\n944:\tlearn: 0.2871897\ttotal: 1.09s\tremaining: 63.4ms\n945:\tlearn: 0.2871802\ttotal: 1.09s\tremaining: 62.2ms\n946:\tlearn: 0.2871250\ttotal: 1.09s\tremaining: 61ms\n947:\tlearn: 0.2870096\ttotal: 1.09s\tremaining: 59.9ms\n948:\tlearn: 0.2868040\ttotal: 1.09s\tremaining: 58.7ms\n949:\tlearn: 0.2866843\ttotal: 1.09s\tremaining: 57.6ms\n950:\tlearn: 0.2865889\ttotal: 1.09s\tremaining: 56.4ms\n951:\tlearn: 0.2865653\ttotal: 1.09s\tremaining: 55.3ms\n952:\tlearn: 0.2865174\ttotal: 1.1s\tremaining: 54.1ms\n953:\tlearn: 0.2863867\ttotal: 1.1s\tremaining: 52.9ms\n954:\tlearn: 0.2861439\ttotal: 1.1s\tremaining: 51.8ms\n955:\tlearn: 0.2860995\ttotal: 1.1s\tremaining: 50.6ms\n956:\tlearn: 0.2860647\ttotal: 1.1s\tremaining: 49.5ms\n957:\tlearn: 0.2859812\ttotal: 1.1s\tremaining: 48.3ms\n958:\tlearn: 0.2859093\ttotal: 1.1s\tremaining: 47.2ms\n959:\tlearn: 0.2859002\ttotal: 1.1s\tremaining: 46ms\n960:\tlearn: 0.2857383\ttotal: 1.1s\tremaining: 44.9ms\n961:\tlearn: 0.2856722\ttotal: 1.11s\tremaining: 43.7ms\n962:\tlearn: 0.2855399\ttotal: 1.11s\tremaining: 42.5ms\n963:\tlearn: 0.2854857\ttotal: 1.11s\tremaining: 41.4ms\n964:\tlearn: 0.2854022\ttotal: 1.11s\tremaining: 40.2ms\n965:\tlearn: 0.2853097\ttotal: 1.11s\tremaining: 39.1ms\n966:\tlearn: 0.2851791\ttotal: 1.11s\tremaining: 37.9ms\n967:\tlearn: 0.2850833\ttotal: 1.11s\tremaining: 36.8ms\n968:\tlearn: 0.2849927\ttotal: 1.11s\tremaining: 35.6ms\n969:\tlearn: 0.2847084\ttotal: 1.11s\tremaining: 34.5ms\n970:\tlearn: 0.2844657\ttotal: 1.12s\tremaining: 33.3ms\n971:\tlearn: 0.2844025\ttotal: 1.12s\tremaining: 32.2ms\n972:\tlearn: 0.2843383\ttotal: 1.12s\tremaining: 31.1ms\n973:\tlearn: 0.2843203\ttotal: 1.12s\tremaining: 29.9ms\n974:\tlearn: 0.2841471\ttotal: 1.12s\tremaining: 28.7ms\n975:\tlearn: 0.2840676\ttotal: 1.12s\tremaining: 27.6ms\n976:\tlearn: 0.2838415\ttotal: 1.12s\tremaining: 26.4ms\n977:\tlearn: 0.2835925\ttotal: 1.12s\tremaining: 25.3ms\n978:\tlearn: 0.2834753\ttotal: 1.13s\tremaining: 24.1ms\n979:\tlearn: 0.2830859\ttotal: 1.13s\tremaining: 23ms\n980:\tlearn: 0.2830135\ttotal: 1.13s\tremaining: 21.8ms\n981:\tlearn: 0.2828531\ttotal: 1.13s\tremaining: 20.7ms\n982:\tlearn: 0.2827433\ttotal: 1.13s\tremaining: 19.5ms\n983:\tlearn: 0.2827095\ttotal: 1.13s\tremaining: 18.4ms\n984:\tlearn: 0.2826440\ttotal: 1.13s\tremaining: 17.2ms\n985:\tlearn: 0.2823553\ttotal: 1.13s\tremaining: 16.1ms\n986:\tlearn: 0.2821968\ttotal: 1.13s\tremaining: 14.9ms\n987:\tlearn: 0.2821583\ttotal: 1.13s\tremaining: 13.8ms\n988:\tlearn: 0.2821055\ttotal: 1.14s\tremaining: 12.6ms\n989:\tlearn: 0.2818630\ttotal: 1.14s\tremaining: 11.5ms\n990:\tlearn: 0.2817724\ttotal: 1.14s\tremaining: 10.3ms\n991:\tlearn: 0.2817163\ttotal: 1.14s\tremaining: 9.19ms\n992:\tlearn: 0.2815131\ttotal: 1.14s\tremaining: 8.04ms\n993:\tlearn: 0.2814748\ttotal: 1.14s\tremaining: 6.89ms\n994:\tlearn: 0.2813277\ttotal: 1.14s\tremaining: 5.74ms\n995:\tlearn: 0.2812603\ttotal: 1.14s\tremaining: 4.59ms\n996:\tlearn: 0.2810471\ttotal: 1.14s\tremaining: 3.44ms\n997:\tlearn: 0.2810111\ttotal: 1.15s\tremaining: 2.29ms\n998:\tlearn: 0.2809465\ttotal: 1.15s\tremaining: 1.15ms\n999:\tlearn: 0.2808841\ttotal: 1.15s\tremaining: 0us\n",
     "output_type": "stream"
    },
    {
     "output_type": "execute_result",
     "execution_count": 33,
     "data": {
      "text/plain": "<pandas.io.formats.style.Styler at 0x7f4900254850>",
      "text/html": "<style  type=\"text/css\" >\n#T_45bb2_row0_col1{\n            width:  10em;\n             height:  80%;\n            background:  linear-gradient(90deg,#5fba7d 86.6%, transparent 86.6%);\n        }#T_45bb2_row0_col2{\n            width:  10em;\n             height:  80%;\n            background:  linear-gradient(90deg,#5fba7d 85.3%, transparent 85.3%);\n        }#T_45bb2_row1_col1,#T_45bb2_row2_col1{\n            width:  10em;\n             height:  80%;\n            background:  linear-gradient(90deg,#5fba7d 85.5%, transparent 85.5%);\n        }#T_45bb2_row1_col2,#T_45bb2_row2_col2{\n            width:  10em;\n             height:  80%;\n            background:  linear-gradient(90deg,#5fba7d 83.9%, transparent 83.9%);\n        }#T_45bb2_row3_col1{\n            width:  10em;\n             height:  80%;\n            background:  linear-gradient(90deg,#5fba7d 83.8%, transparent 83.8%);\n        }#T_45bb2_row3_col2{\n            width:  10em;\n             height:  80%;\n            background:  linear-gradient(90deg,#5fba7d 83.0%, transparent 83.0%);\n        }#T_45bb2_row4_col1{\n            width:  10em;\n             height:  80%;\n            background:  linear-gradient(90deg,#5fba7d 83.2%, transparent 83.2%);\n        }#T_45bb2_row4_col2{\n            width:  10em;\n             height:  80%;\n            background:  linear-gradient(90deg,#5fba7d 82.9%, transparent 82.9%);\n        }#T_45bb2_row5_col1{\n            width:  10em;\n             height:  80%;\n            background:  linear-gradient(90deg,#5fba7d 82.7%, transparent 82.7%);\n        }#T_45bb2_row5_col2{\n            width:  10em;\n             height:  80%;\n            background:  linear-gradient(90deg,#5fba7d 81.9%, transparent 81.9%);\n        }#T_45bb2_row6_col1{\n            width:  10em;\n             height:  80%;\n            background:  linear-gradient(90deg,#5fba7d 82.1%, transparent 82.1%);\n        }#T_45bb2_row6_col2{\n            width:  10em;\n             height:  80%;\n            background:  linear-gradient(90deg,#5fba7d 79.8%, transparent 79.8%);\n        }#T_45bb2_row7_col1{\n            width:  10em;\n             height:  80%;\n            background:  linear-gradient(90deg,#5fba7d 81.0%, transparent 81.0%);\n        }#T_45bb2_row7_col2{\n            width:  10em;\n             height:  80%;\n            background:  linear-gradient(90deg,#5fba7d 78.9%, transparent 78.9%);\n        }#T_45bb2_row8_col1{\n            width:  10em;\n             height:  80%;\n            background:  linear-gradient(90deg,#5fba7d 79.3%, transparent 79.3%);\n        }#T_45bb2_row8_col2{\n            width:  10em;\n             height:  80%;\n            background:  linear-gradient(90deg,#5fba7d 78.1%, transparent 78.1%);\n        }</style><table id=\"T_45bb2_\" ><thead>    <tr>        <th class=\"blank level0\" ></th>        <th class=\"col_heading level0 col0\" >Model</th>        <th class=\"col_heading level0 col1\" >Accuracy</th>        <th class=\"col_heading level0 col2\" >Bal Acc.</th>        <th class=\"col_heading level0 col3\" >Time</th>    </tr></thead><tbody>\n                <tr>\n                        <th id=\"T_45bb2_level0_row0\" class=\"row_heading level0 row0\" >1</th>\n                        <td id=\"T_45bb2_row0_col0\" class=\"data row0 col0\" >CatBoost</td>\n                        <td id=\"T_45bb2_row0_col1\" class=\"data row0 col1\" >86.592179</td>\n                        <td id=\"T_45bb2_row0_col2\" class=\"data row0 col2\" >85.309618</td>\n                        <td id=\"T_45bb2_row0_col3\" class=\"data row0 col3\" >1.306856</td>\n            </tr>\n            <tr>\n                        <th id=\"T_45bb2_level0_row1\" class=\"row_heading level0 row1\" >2</th>\n                        <td id=\"T_45bb2_row1_col0\" class=\"data row1 col0\" >Skl GBM</td>\n                        <td id=\"T_45bb2_row1_col1\" class=\"data row1 col1\" >85.474860</td>\n                        <td id=\"T_45bb2_row1_col2\" class=\"data row1 col2\" >83.860343</td>\n                        <td id=\"T_45bb2_row1_col3\" class=\"data row1 col3\" >0.133919</td>\n            </tr>\n            <tr>\n                        <th id=\"T_45bb2_level0_row2\" class=\"row_heading level0 row2\" >3</th>\n                        <td id=\"T_45bb2_row2_col0\" class=\"data row2 col0\" >Skl HistGBM</td>\n                        <td id=\"T_45bb2_row2_col1\" class=\"data row2 col1\" >85.474860</td>\n                        <td id=\"T_45bb2_row2_col2\" class=\"data row2 col2\" >83.860343</td>\n                        <td id=\"T_45bb2_row2_col3\" class=\"data row2 col3\" >0.117510</td>\n            </tr>\n            <tr>\n                        <th id=\"T_45bb2_level0_row3\" class=\"row_heading level0 row3\" >4</th>\n                        <td id=\"T_45bb2_row3_col0\" class=\"data row3 col0\" >LightGBM</td>\n                        <td id=\"T_45bb2_row3_col1\" class=\"data row3 col1\" >83.798883</td>\n                        <td id=\"T_45bb2_row3_col2\" class=\"data row3 col2\" >83.036891</td>\n                        <td id=\"T_45bb2_row3_col3\" class=\"data row3 col3\" >0.091135</td>\n            </tr>\n            <tr>\n                        <th id=\"T_45bb2_level0_row4\" class=\"row_heading level0 row4\" >5</th>\n                        <td id=\"T_45bb2_row4_col0\" class=\"data row4 col0\" >AdaBoost</td>\n                        <td id=\"T_45bb2_row4_col1\" class=\"data row4 col1\" >83.240223</td>\n                        <td id=\"T_45bb2_row4_col2\" class=\"data row4 col2\" >82.852437</td>\n                        <td id=\"T_45bb2_row4_col3\" class=\"data row4 col3\" >0.098936</td>\n            </tr>\n            <tr>\n                        <th id=\"T_45bb2_level0_row5\" class=\"row_heading level0 row5\" >6</th>\n                        <td id=\"T_45bb2_row5_col0\" class=\"data row5 col0\" >XGBoost</td>\n                        <td id=\"T_45bb2_row5_col1\" class=\"data row5 col1\" >82.681564</td>\n                        <td id=\"T_45bb2_row5_col2\" class=\"data row5 col2\" >81.857708</td>\n                        <td id=\"T_45bb2_row5_col3\" class=\"data row5 col3\" >0.169271</td>\n            </tr>\n            <tr>\n                        <th id=\"T_45bb2_level0_row6\" class=\"row_heading level0 row6\" >7</th>\n                        <td id=\"T_45bb2_row6_col0\" class=\"data row6 col0\" >Random Forest</td>\n                        <td id=\"T_45bb2_row6_col1\" class=\"data row6 col1\" >82.122905</td>\n                        <td id=\"T_45bb2_row6_col2\" class=\"data row6 col2\" >79.782609</td>\n                        <td id=\"T_45bb2_row6_col3\" class=\"data row6 col3\" >0.176670</td>\n            </tr>\n            <tr>\n                        <th id=\"T_45bb2_level0_row7\" class=\"row_heading level0 row7\" >8</th>\n                        <td id=\"T_45bb2_row7_col0\" class=\"data row7 col0\" >Extra Trees</td>\n                        <td id=\"T_45bb2_row7_col1\" class=\"data row7 col1\" >81.005587</td>\n                        <td id=\"T_45bb2_row7_col2\" class=\"data row7 col2\" >78.873518</td>\n                        <td id=\"T_45bb2_row7_col3\" class=\"data row7 col3\" >0.148689</td>\n            </tr>\n            <tr>\n                        <th id=\"T_45bb2_level0_row8\" class=\"row_heading level0 row8\" >9</th>\n                        <td id=\"T_45bb2_row8_col0\" class=\"data row8 col0\" >Decision Tree</td>\n                        <td id=\"T_45bb2_row8_col1\" class=\"data row8 col1\" >79.329609</td>\n                        <td id=\"T_45bb2_row8_col2\" class=\"data row8 col2\" >78.050066</td>\n                        <td id=\"T_45bb2_row8_col3\" class=\"data row8 col3\" >0.018147</td>\n            </tr>\n    </tbody></table>"
     },
     "metadata": {}
    }
   ]
  },
  {
   "cell_type": "markdown",
   "source": "# Exercise 6 (3pts):\nDefine a 10 Fold cross validation strategy with:\n- With stratification\n- shuffle=True\n- random_state=0\n\nAnd train all the models in a for loop.\n\nTip you can use **[cross_val_predict](https://scikit-learn.org/stable/modules/generated/sklearn.model_selection.cross_val_predict.html)** for both training and predict with ",
   "metadata": {
    "id": "X-a6u4rxGTJO",
    "cell_id": "00040-a6a0e1d1-6765-4b22-a197-f4796c039960",
    "deepnote_cell_type": "markdown"
   }
  },
  {
   "cell_type": "code",
   "metadata": {
    "deletable": false,
    "nbgrader": {
     "cell_type": "code",
     "checksum": "b9238f7916249fc81179a78b5492e5d4",
     "grade": false,
     "grade_id": "cell-37bf16dc25b43732",
     "locked": false,
     "schema_version": 3,
     "solution": true,
     "task": false
    },
    "id": "7Dj52erlGTJO",
    "colab": {
     "base_uri": "https://localhost:8080/",
     "height": 1000
    },
    "outputId": "87fbed29-44ad-4dca-a18e-1a3e1088df91",
    "cell_id": "00041-eaaf34e7-29e3-418a-8e19-c3f60752ee88",
    "deepnote_to_be_reexecuted": false,
    "source_hash": "6d90dd51",
    "execution_start": 1620313119779,
    "execution_millis": 23319,
    "deepnote_cell_type": "code"
   },
   "source": "\nfrom sklearn.model_selection import cross_val_predict\n\nskf = model_selection.StratifiedKFold(n_splits=10, random_state=0, shuffle=True)\n\n\n\n\nresults = pd.DataFrame({'Model': [], 'Accuracy': [], 'Bal Acc.': [], 'Time': []})\n\n\n\n\n\nfor model_name, model in tree_classifiers.items():\n    start_time = time.time()\n\n\n        \n    # TRAIN AND GET PREDICTIONS USING cross_val_predict() and x,y\n    pred = cross_val_predict(model, x,y, cv=skf)\n\n    total_time = time.time() - start_time\n\n    results = results.append({\"Model\":    model_name,\n                              \"Accuracy\": metrics.accuracy_score(y, pred)*100,\n                              \"Bal Acc.\": metrics.balanced_accuracy_score(y, pred)*100,\n                              \"Time\":     total_time},\n                              ignore_index=True)\n                              \n                              \n\n\n# YOUR CODE HERE\n\n\n\nresults_ord = results.sort_values(by=['Accuracy'], ascending=False, ignore_index=True)\nresults_ord.index += 1 \nresults_ord.style.bar(subset=['Accuracy', 'Bal Acc.'], vmin=0, vmax=100, color='#5fba7d')\nprint(\"done\")",
   "execution_count": null,
   "outputs": [
    {
     "name": "stderr",
     "text": "2:\tlearn: 0.6747618\ttotal: 3.33ms\tremaining: 1.11s\n3:\tlearn: 0.6687106\ttotal: 4.47ms\tremaining: 1.11s\n4:\tlearn: 0.6635666\ttotal: 5.17ms\tremaining: 1.03s\n5:\tlearn: 0.6578367\ttotal: 6.26ms\tremaining: 1.04s\n6:\tlearn: 0.6522758\ttotal: 7.39ms\tremaining: 1.05s\n7:\tlearn: 0.6468097\ttotal: 8.55ms\tremaining: 1.06s\n8:\tlearn: 0.6415641\ttotal: 9.62ms\tremaining: 1.06s\n9:\tlearn: 0.6356896\ttotal: 10.7ms\tremaining: 1.06s\n10:\tlearn: 0.6301142\ttotal: 11.8ms\tremaining: 1.06s\n11:\tlearn: 0.6248813\ttotal: 12.9ms\tremaining: 1.06s\n12:\tlearn: 0.6202576\ttotal: 13.8ms\tremaining: 1.05s\n13:\tlearn: 0.6151900\ttotal: 14.9ms\tremaining: 1.05s\n14:\tlearn: 0.6096069\ttotal: 16.1ms\tremaining: 1.06s\n15:\tlearn: 0.6056472\ttotal: 16.8ms\tremaining: 1.03s\n16:\tlearn: 0.6010461\ttotal: 17.9ms\tremaining: 1.04s\n17:\tlearn: 0.5964921\ttotal: 19ms\tremaining: 1.04s\n18:\tlearn: 0.5920382\ttotal: 20.3ms\tremaining: 1.05s\n19:\tlearn: 0.5877664\ttotal: 21.4ms\tremaining: 1.05s\n20:\tlearn: 0.5832608\ttotal: 22.5ms\tremaining: 1.05s\n21:\tlearn: 0.5792769\ttotal: 23.6ms\tremaining: 1.05s\n22:\tlearn: 0.5745809\ttotal: 24.7ms\tremaining: 1.05s\n23:\tlearn: 0.5707673\ttotal: 25.8ms\tremaining: 1.05s\n24:\tlearn: 0.5662581\ttotal: 26.9ms\tremaining: 1.05s\n25:\tlearn: 0.5620211\ttotal: 28ms\tremaining: 1.05s\n26:\tlearn: 0.5582182\ttotal: 29.1ms\tremaining: 1.05s\n27:\tlearn: 0.5541145\ttotal: 30.2ms\tremaining: 1.05s\n28:\tlearn: 0.5506949\ttotal: 31.3ms\tremaining: 1.05s\n29:\tlearn: 0.5477067\ttotal: 32.4ms\tremaining: 1.05s\n30:\tlearn: 0.5459253\ttotal: 33ms\tremaining: 1.03s\n31:\tlearn: 0.5441784\ttotal: 33.7ms\tremaining: 1.02s\n32:\tlearn: 0.5413255\ttotal: 34.8ms\tremaining: 1.02s\n33:\tlearn: 0.5375960\ttotal: 35.9ms\tremaining: 1.02s\n34:\tlearn: 0.5349084\ttotal: 37ms\tremaining: 1.02s\n35:\tlearn: 0.5319025\ttotal: 38.2ms\tremaining: 1.02s\n36:\tlearn: 0.5289501\ttotal: 39.3ms\tremaining: 1.02s\n37:\tlearn: 0.5254859\ttotal: 40.4ms\tremaining: 1.02s\n38:\tlearn: 0.5223285\ttotal: 41.5ms\tremaining: 1.02s\n39:\tlearn: 0.5198479\ttotal: 42.7ms\tremaining: 1.02s\n40:\tlearn: 0.5175075\ttotal: 43.5ms\tremaining: 1.02s\n41:\tlearn: 0.5145337\ttotal: 44.6ms\tremaining: 1.02s\n42:\tlearn: 0.5115715\ttotal: 45.8ms\tremaining: 1.02s\n43:\tlearn: 0.5091461\ttotal: 46.9ms\tremaining: 1.02s\n44:\tlearn: 0.5065499\ttotal: 48ms\tremaining: 1.02s\n45:\tlearn: 0.5041094\ttotal: 49.1ms\tremaining: 1.02s\n46:\tlearn: 0.5017155\ttotal: 50.2ms\tremaining: 1.02s\n47:\tlearn: 0.4999705\ttotal: 51.3ms\tremaining: 1.02s\n48:\tlearn: 0.4974054\ttotal: 52.5ms\tremaining: 1.02s\n49:\tlearn: 0.4952480\ttotal: 53.6ms\tremaining: 1.02s\n50:\tlearn: 0.4933177\ttotal: 54.7ms\tremaining: 1.02s\n51:\tlearn: 0.4911188\ttotal: 55.8ms\tremaining: 1.02s\n52:\tlearn: 0.4900546\ttotal: 56.4ms\tremaining: 1.01s\n53:\tlearn: 0.4882970\ttotal: 57.5ms\tremaining: 1.01s\n54:\tlearn: 0.4861408\ttotal: 58.7ms\tremaining: 1.01s\n55:\tlearn: 0.4846771\ttotal: 59.7ms\tremaining: 1.01s\n56:\tlearn: 0.4827534\ttotal: 60.9ms\tremaining: 1.01s\n57:\tlearn: 0.4806107\ttotal: 62ms\tremaining: 1.01s\n58:\tlearn: 0.4787656\ttotal: 63ms\tremaining: 1s\n59:\tlearn: 0.4772026\ttotal: 63.9ms\tremaining: 1s\n60:\tlearn: 0.4759065\ttotal: 64.6ms\tremaining: 994ms\n61:\tlearn: 0.4738935\ttotal: 65.7ms\tremaining: 995ms\n62:\tlearn: 0.4721025\ttotal: 66.9ms\tremaining: 995ms\n63:\tlearn: 0.4709147\ttotal: 68ms\tremaining: 995ms\n64:\tlearn: 0.4693481\ttotal: 69.1ms\tremaining: 994ms\n65:\tlearn: 0.4672625\ttotal: 70.3ms\tremaining: 995ms\n66:\tlearn: 0.4652765\ttotal: 71.5ms\tremaining: 995ms\n67:\tlearn: 0.4638007\ttotal: 72.6ms\tremaining: 995ms\n68:\tlearn: 0.4629697\ttotal: 73.3ms\tremaining: 988ms\n69:\tlearn: 0.4610739\ttotal: 74.4ms\tremaining: 988ms\n70:\tlearn: 0.4603621\ttotal: 75ms\tremaining: 981ms\n71:\tlearn: 0.4590310\ttotal: 76.1ms\tremaining: 981ms\n72:\tlearn: 0.4577874\ttotal: 77.2ms\tremaining: 980ms\n73:\tlearn: 0.4563734\ttotal: 78.3ms\tremaining: 980ms\n74:\tlearn: 0.4557209\ttotal: 78.9ms\tremaining: 974ms\n75:\tlearn: 0.4543284\ttotal: 80.1ms\tremaining: 974ms\n76:\tlearn: 0.4537037\ttotal: 80.7ms\tremaining: 967ms\n77:\tlearn: 0.4523693\ttotal: 81.8ms\tremaining: 967ms\n78:\tlearn: 0.4507897\ttotal: 82.9ms\tremaining: 966ms\n79:\tlearn: 0.4494384\ttotal: 84ms\tremaining: 966ms\n80:\tlearn: 0.4479437\ttotal: 85.2ms\tremaining: 966ms\n81:\tlearn: 0.4466956\ttotal: 86.3ms\tremaining: 966ms\n82:\tlearn: 0.4459712\ttotal: 87ms\tremaining: 961ms\n83:\tlearn: 0.4448535\ttotal: 87.9ms\tremaining: 959ms\n84:\tlearn: 0.4434755\ttotal: 89ms\tremaining: 959ms\n85:\tlearn: 0.4420876\ttotal: 90.2ms\tremaining: 958ms\n86:\tlearn: 0.4408484\ttotal: 91.3ms\tremaining: 958ms\n87:\tlearn: 0.4394673\ttotal: 92.4ms\tremaining: 958ms\n88:\tlearn: 0.4381718\ttotal: 93.6ms\tremaining: 958ms\n89:\tlearn: 0.4370123\ttotal: 94.7ms\tremaining: 958ms\n90:\tlearn: 0.4356797\ttotal: 95.9ms\tremaining: 958ms\n91:\tlearn: 0.4344386\ttotal: 104ms\tremaining: 1.03s\n92:\tlearn: 0.4332859\ttotal: 106ms\tremaining: 1.03s\n93:\tlearn: 0.4321132\ttotal: 107ms\tremaining: 1.03s\n94:\tlearn: 0.4316957\ttotal: 108ms\tremaining: 1.02s\n95:\tlearn: 0.4307923\ttotal: 109ms\tremaining: 1.02s\n96:\tlearn: 0.4298486\ttotal: 110ms\tremaining: 1.02s\n97:\tlearn: 0.4285920\ttotal: 111ms\tremaining: 1.02s\n98:\tlearn: 0.4272747\ttotal: 112ms\tremaining: 1.02s\n99:\tlearn: 0.4269017\ttotal: 113ms\tremaining: 1.01s\n100:\tlearn: 0.4256165\ttotal: 114ms\tremaining: 1.01s\n101:\tlearn: 0.4247870\ttotal: 115ms\tremaining: 1.01s\n102:\tlearn: 0.4241405\ttotal: 116ms\tremaining: 1.01s\n103:\tlearn: 0.4229248\ttotal: 118ms\tremaining: 1.01s\n104:\tlearn: 0.4220595\ttotal: 119ms\tremaining: 1.01s\n105:\tlearn: 0.4210437\ttotal: 120ms\tremaining: 1.01s\n106:\tlearn: 0.4202980\ttotal: 122ms\tremaining: 1.01s\n107:\tlearn: 0.4193122\ttotal: 123ms\tremaining: 1.01s\n108:\tlearn: 0.4187751\ttotal: 124ms\tremaining: 1.02s\n109:\tlearn: 0.4180514\ttotal: 126ms\tremaining: 1.02s\n110:\tlearn: 0.4173582\ttotal: 127ms\tremaining: 1.02s\n111:\tlearn: 0.4166110\ttotal: 129ms\tremaining: 1.02s\n112:\tlearn: 0.4159622\ttotal: 130ms\tremaining: 1.02s\n113:\tlearn: 0.4151821\ttotal: 131ms\tremaining: 1.02s\n114:\tlearn: 0.4147921\ttotal: 132ms\tremaining: 1.02s\n115:\tlearn: 0.4143473\ttotal: 133ms\tremaining: 1.01s\n116:\tlearn: 0.4133363\ttotal: 135ms\tremaining: 1.01s\n117:\tlearn: 0.4125729\ttotal: 136ms\tremaining: 1.01s\n118:\tlearn: 0.4117221\ttotal: 137ms\tremaining: 1.01s\n119:\tlearn: 0.4112879\ttotal: 138ms\tremaining: 1.01s\n120:\tlearn: 0.4106661\ttotal: 139ms\tremaining: 1.01s\n121:\tlearn: 0.4100280\ttotal: 140ms\tremaining: 1.01s\n122:\tlearn: 0.4094746\ttotal: 142ms\tremaining: 1.01s\n123:\tlearn: 0.4086084\ttotal: 143ms\tremaining: 1.01s\n124:\tlearn: 0.4079667\ttotal: 144ms\tremaining: 1.01s\n125:\tlearn: 0.4070951\ttotal: 145ms\tremaining: 1.01s\n126:\tlearn: 0.4064173\ttotal: 147ms\tremaining: 1.01s\n127:\tlearn: 0.4058095\ttotal: 148ms\tremaining: 1.01s\n128:\tlearn: 0.4054104\ttotal: 149ms\tremaining: 1s\n129:\tlearn: 0.4049508\ttotal: 150ms\tremaining: 1s\n130:\tlearn: 0.4043102\ttotal: 151ms\tremaining: 1000ms\n131:\tlearn: 0.4040993\ttotal: 152ms\tremaining: 997ms\n132:\tlearn: 0.4034495\ttotal: 153ms\tremaining: 996ms\n133:\tlearn: 0.4026557\ttotal: 154ms\tremaining: 995ms\n134:\tlearn: 0.4019609\ttotal: 155ms\tremaining: 993ms\n135:\tlearn: 0.4014606\ttotal: 157ms\tremaining: 999ms\n136:\tlearn: 0.4009255\ttotal: 159ms\tremaining: 1s\n137:\tlearn: 0.4004006\ttotal: 161ms\tremaining: 1.01s\n138:\tlearn: 0.3998222\ttotal: 164ms\tremaining: 1.01s\n139:\tlearn: 0.3993717\ttotal: 165ms\tremaining: 1.01s\n140:\tlearn: 0.3985687\ttotal: 167ms\tremaining: 1.01s\n141:\tlearn: 0.3980334\ttotal: 168ms\tremaining: 1.01s\n142:\tlearn: 0.3975518\ttotal: 169ms\tremaining: 1.01s\n143:\tlearn: 0.3969392\ttotal: 170ms\tremaining: 1.01s\n144:\tlearn: 0.3963541\ttotal: 172ms\tremaining: 1.01s\n145:\tlearn: 0.3956897\ttotal: 173ms\tremaining: 1.01s\n146:\tlearn: 0.3951052\ttotal: 174ms\tremaining: 1.01s\n147:\tlearn: 0.3943940\ttotal: 175ms\tremaining: 1.01s\n148:\tlearn: 0.3939318\ttotal: 176ms\tremaining: 1.01s\n149:\tlearn: 0.3935570\ttotal: 177ms\tremaining: 1s\n150:\tlearn: 0.3933366\ttotal: 179ms\tremaining: 1s\n151:\tlearn: 0.3928238\ttotal: 180ms\tremaining: 1s\n152:\tlearn: 0.3923471\ttotal: 181ms\tremaining: 1s\n153:\tlearn: 0.3918837\ttotal: 182ms\tremaining: 999ms\n154:\tlearn: 0.3915150\ttotal: 183ms\tremaining: 998ms\n155:\tlearn: 0.3910263\ttotal: 185ms\tremaining: 999ms\n156:\tlearn: 0.3905021\ttotal: 186ms\tremaining: 998ms\n157:\tlearn: 0.3900727\ttotal: 187ms\tremaining: 997ms\n158:\tlearn: 0.3896146\ttotal: 188ms\tremaining: 996ms\n159:\tlearn: 0.3892331\ttotal: 189ms\tremaining: 994ms\n160:\tlearn: 0.3891192\ttotal: 191ms\tremaining: 993ms\n161:\tlearn: 0.3890173\ttotal: 191ms\tremaining: 989ms\n162:\tlearn: 0.3885942\ttotal: 192ms\tremaining: 987ms\n163:\tlearn: 0.3881306\ttotal: 193ms\tremaining: 985ms\n164:\tlearn: 0.3875382\ttotal: 194ms\tremaining: 984ms\n165:\tlearn: 0.3874681\ttotal: 195ms\tremaining: 981ms\n166:\tlearn: 0.3869828\ttotal: 196ms\tremaining: 979ms\n167:\tlearn: 0.3864865\ttotal: 197ms\tremaining: 977ms\n168:\tlearn: 0.3863418\ttotal: 198ms\tremaining: 974ms\n169:\tlearn: 0.3862085\ttotal: 199ms\tremaining: 971ms\n170:\tlearn: 0.3859612\ttotal: 200ms\tremaining: 969ms\n171:\tlearn: 0.3857073\ttotal: 201ms\tremaining: 968ms\n172:\tlearn: 0.3856039\ttotal: 202ms\tremaining: 964ms\n173:\tlearn: 0.3850773\ttotal: 203ms\tremaining: 963ms\n174:\tlearn: 0.3849529\ttotal: 204ms\tremaining: 960ms\n175:\tlearn: 0.3846283\ttotal: 205ms\tremaining: 959ms\n176:\tlearn: 0.3842134\ttotal: 206ms\tremaining: 957ms\n177:\tlearn: 0.3841155\ttotal: 207ms\tremaining: 954ms\n178:\tlearn: 0.3840413\ttotal: 207ms\tremaining: 950ms\n179:\tlearn: 0.3835984\ttotal: 208ms\tremaining: 949ms\n180:\tlearn: 0.3833605\ttotal: 209ms\tremaining: 948ms\n181:\tlearn: 0.3832895\ttotal: 210ms\tremaining: 944ms\n182:\tlearn: 0.3827080\ttotal: 211ms\tremaining: 943ms\n183:\tlearn: 0.3823586\ttotal: 212ms\tremaining: 941ms\n184:\tlearn: 0.3819179\ttotal: 213ms\tremaining: 940ms\n185:\tlearn: 0.3816584\ttotal: 215ms\tremaining: 939ms\n186:\tlearn: 0.3813696\ttotal: 216ms\tremaining: 938ms\n187:\tlearn: 0.3808885\ttotal: 217ms\tremaining: 937ms\n188:\tlearn: 0.3805509\ttotal: 218ms\tremaining: 935ms\n189:\tlearn: 0.3801120\ttotal: 219ms\tremaining: 934ms\n190:\tlearn: 0.3798089\ttotal: 220ms\tremaining: 933ms\n191:\tlearn: 0.3793236\ttotal: 221ms\tremaining: 932ms\n192:\tlearn: 0.3788238\ttotal: 222ms\tremaining: 930ms\n193:\tlearn: 0.3785100\ttotal: 224ms\tremaining: 929ms\n194:\tlearn: 0.3780244\ttotal: 225ms\tremaining: 928ms\n195:\tlearn: 0.3775483\ttotal: 226ms\tremaining: 927ms\n196:\tlearn: 0.3773974\ttotal: 227ms\tremaining: 924ms\n197:\tlearn: 0.3770456\ttotal: 228ms\tremaining: 923ms\n198:\tlearn: 0.3768677\ttotal: 229ms\tremaining: 921ms\n199:\tlearn: 0.3765565\ttotal: 230ms\tremaining: 920ms\n200:\tlearn: 0.3763453\ttotal: 231ms\tremaining: 918ms\n201:\tlearn: 0.3762652\ttotal: 232ms\tremaining: 915ms\n202:\tlearn: 0.3758121\ttotal: 233ms\tremaining: 914ms\n203:\tlearn: 0.3754921\ttotal: 234ms\tremaining: 913ms\n204:\tlearn: 0.3752905\ttotal: 235ms\tremaining: 912ms\n205:\tlearn: 0.3748902\ttotal: 236ms\tremaining: 910ms\n206:\tlearn: 0.3746125\ttotal: 237ms\tremaining: 909ms\n207:\tlearn: 0.3743167\ttotal: 238ms\tremaining: 908ms\n208:\tlearn: 0.3739236\ttotal: 240ms\tremaining: 907ms\n209:\tlearn: 0.3736422\ttotal: 241ms\tremaining: 906ms\n210:\tlearn: 0.3734114\ttotal: 242ms\tremaining: 905ms\n211:\tlearn: 0.3731168\ttotal: 243ms\tremaining: 904ms\n212:\tlearn: 0.3728965\ttotal: 244ms\tremaining: 903ms\n213:\tlearn: 0.3727381\ttotal: 245ms\tremaining: 901ms\n214:\tlearn: 0.3723712\ttotal: 247ms\tremaining: 900ms\n215:\tlearn: 0.3719613\ttotal: 248ms\tremaining: 899ms\n216:\tlearn: 0.3716136\ttotal: 249ms\tremaining: 898ms\n217:\tlearn: 0.3713650\ttotal: 250ms\tremaining: 897ms\n218:\tlearn: 0.3711650\ttotal: 251ms\tremaining: 897ms\n219:\tlearn: 0.3708555\ttotal: 253ms\tremaining: 895ms\n220:\tlearn: 0.3706522\ttotal: 254ms\tremaining: 895ms\n221:\tlearn: 0.3703074\ttotal: 259ms\tremaining: 908ms\n222:\tlearn: 0.3702047\ttotal: 261ms\tremaining: 908ms\n223:\tlearn: 0.3697998\ttotal: 262ms\tremaining: 907ms\n224:\tlearn: 0.3693872\ttotal: 264ms\tremaining: 908ms\n225:\tlearn: 0.3690917\ttotal: 265ms\tremaining: 907ms\n226:\tlearn: 0.3689671\ttotal: 266ms\tremaining: 905ms\n227:\tlearn: 0.3686821\ttotal: 267ms\tremaining: 904ms\n228:\tlearn: 0.3686537\ttotal: 268ms\tremaining: 902ms\n229:\tlearn: 0.3684476\ttotal: 269ms\tremaining: 901ms\n230:\tlearn: 0.3681088\ttotal: 270ms\tremaining: 900ms\n231:\tlearn: 0.3678207\ttotal: 272ms\tremaining: 899ms\n232:\tlearn: 0.3676094\ttotal: 273ms\tremaining: 898ms\n233:\tlearn: 0.3674396\ttotal: 274ms\tremaining: 897ms\n234:\tlearn: 0.3672911\ttotal: 279ms\tremaining: 909ms\n235:\tlearn: 0.3669834\ttotal: 281ms\tremaining: 909ms\n236:\tlearn: 0.3668029\ttotal: 283ms\tremaining: 911ms\n237:\tlearn: 0.3667402\ttotal: 286ms\tremaining: 914ms\n238:\tlearn: 0.3665356\ttotal: 289ms\tremaining: 920ms\n239:\tlearn: 0.3664115\ttotal: 292ms\tremaining: 924ms\n240:\tlearn: 0.3662013\ttotal: 294ms\tremaining: 927ms\n241:\tlearn: 0.3659566\ttotal: 297ms\tremaining: 930ms\n242:\tlearn: 0.3658630\ttotal: 300ms\tremaining: 935ms\n243:\tlearn: 0.3656020\ttotal: 302ms\tremaining: 937ms\n244:\tlearn: 0.3653282\ttotal: 304ms\tremaining: 938ms\n245:\tlearn: 0.3651928\ttotal: 306ms\tremaining: 937ms\n246:\tlearn: 0.3649026\ttotal: 307ms\tremaining: 936ms\n247:\tlearn: 0.3647031\ttotal: 308ms\tremaining: 934ms\n248:\tlearn: 0.3645115\ttotal: 309ms\tremaining: 933ms\n249:\tlearn: 0.3642174\ttotal: 310ms\tremaining: 931ms\n250:\tlearn: 0.3640776\ttotal: 311ms\tremaining: 929ms\n251:\tlearn: 0.3639766\ttotal: 312ms\tremaining: 927ms\n252:\tlearn: 0.3638781\ttotal: 313ms\tremaining: 925ms\n253:\tlearn: 0.3635898\ttotal: 314ms\tremaining: 924ms\n254:\tlearn: 0.3633258\ttotal: 316ms\tremaining: 922ms\n255:\tlearn: 0.3631265\ttotal: 317ms\tremaining: 920ms\n256:\tlearn: 0.3629255\ttotal: 318ms\tremaining: 919ms\n257:\tlearn: 0.3626112\ttotal: 319ms\tremaining: 917ms\n258:\tlearn: 0.3622700\ttotal: 320ms\tremaining: 916ms\n259:\tlearn: 0.3621222\ttotal: 321ms\tremaining: 913ms\n260:\tlearn: 0.3619008\ttotal: 322ms\tremaining: 912ms\n261:\tlearn: 0.3617054\ttotal: 323ms\tremaining: 910ms\n262:\tlearn: 0.3615907\ttotal: 324ms\tremaining: 908ms\n263:\tlearn: 0.3612208\ttotal: 325ms\tremaining: 907ms\n264:\tlearn: 0.3609988\ttotal: 326ms\tremaining: 905ms\n265:\tlearn: 0.3608995\ttotal: 327ms\tremaining: 904ms\n266:\tlearn: 0.3606891\ttotal: 329ms\tremaining: 902ms\n267:\tlearn: 0.3605004\ttotal: 330ms\tremaining: 900ms\n268:\tlearn: 0.3602135\ttotal: 331ms\tremaining: 899ms\n269:\tlearn: 0.3599931\ttotal: 332ms\tremaining: 897ms\n270:\tlearn: 0.3597690\ttotal: 333ms\tremaining: 896ms\n271:\tlearn: 0.3597415\ttotal: 334ms\tremaining: 893ms\n272:\tlearn: 0.3595838\ttotal: 335ms\tremaining: 892ms\n273:\tlearn: 0.3594328\ttotal: 336ms\tremaining: 890ms\n274:\tlearn: 0.3591908\ttotal: 337ms\tremaining: 889ms\n275:\tlearn: 0.3590653\ttotal: 338ms\tremaining: 887ms\n276:\tlearn: 0.3589027\ttotal: 340ms\tremaining: 887ms\n277:\tlearn: 0.3586937\ttotal: 341ms\tremaining: 885ms\n278:\tlearn: 0.3585579\ttotal: 342ms\tremaining: 884ms\n279:\tlearn: 0.3583670\ttotal: 343ms\tremaining: 882ms\n280:\tlearn: 0.3580547\ttotal: 344ms\tremaining: 881ms\n281:\tlearn: 0.3577929\ttotal: 345ms\tremaining: 879ms\n282:\tlearn: 0.3577048\ttotal: 346ms\tremaining: 878ms\n283:\tlearn: 0.3575315\ttotal: 348ms\tremaining: 876ms\n284:\tlearn: 0.3574939\ttotal: 348ms\tremaining: 874ms\n285:\tlearn: 0.3572193\ttotal: 350ms\tremaining: 873ms\n286:\tlearn: 0.3570343\ttotal: 351ms\tremaining: 871ms\n287:\tlearn: 0.3569484\ttotal: 352ms\tremaining: 870ms\n288:\tlearn: 0.3567090\ttotal: 353ms\tremaining: 868ms\n289:\tlearn: 0.3564038\ttotal: 354ms\tremaining: 867ms\n290:\tlearn: 0.3562599\ttotal: 355ms\tremaining: 866ms\n291:\tlearn: 0.3558771\ttotal: 356ms\tremaining: 864ms\n292:\tlearn: 0.3556486\ttotal: 358ms\tremaining: 863ms\n293:\tlearn: 0.3554992\ttotal: 359ms\tremaining: 861ms\n294:\tlearn: 0.3552703\ttotal: 360ms\tremaining: 860ms\n295:\tlearn: 0.3550601\ttotal: 361ms\tremaining: 859ms\n296:\tlearn: 0.3548988\ttotal: 362ms\tremaining: 858ms\n297:\tlearn: 0.3546451\ttotal: 363ms\tremaining: 856ms\n298:\tlearn: 0.3543216\ttotal: 365ms\tremaining: 855ms\n299:\tlearn: 0.3540951\ttotal: 366ms\tremaining: 853ms\n300:\tlearn: 0.3538326\ttotal: 367ms\tremaining: 852ms\n301:\tlearn: 0.3535870\ttotal: 368ms\tremaining: 851ms\n302:\tlearn: 0.3535269\ttotal: 370ms\tremaining: 851ms\n303:\tlearn: 0.3533549\ttotal: 371ms\tremaining: 849ms\n304:\tlearn: 0.3533017\ttotal: 372ms\tremaining: 847ms\n305:\tlearn: 0.3530102\ttotal: 373ms\tremaining: 846ms\n306:\tlearn: 0.3528800\ttotal: 374ms\tremaining: 845ms\n307:\tlearn: 0.3528722\ttotal: 375ms\tremaining: 842ms\n308:\tlearn: 0.3526552\ttotal: 376ms\tremaining: 841ms\n309:\tlearn: 0.3523579\ttotal: 377ms\tremaining: 840ms\n310:\tlearn: 0.3522286\ttotal: 378ms\tremaining: 838ms\n311:\tlearn: 0.3520290\ttotal: 380ms\tremaining: 837ms\n312:\tlearn: 0.3518616\ttotal: 381ms\tremaining: 836ms\n313:\tlearn: 0.3516716\ttotal: 382ms\tremaining: 834ms\n314:\tlearn: 0.3514469\ttotal: 383ms\tremaining: 833ms\n315:\tlearn: 0.3514174\ttotal: 384ms\tremaining: 831ms\n316:\tlearn: 0.3512355\ttotal: 385ms\tremaining: 829ms\n317:\tlearn: 0.3509472\ttotal: 386ms\tremaining: 828ms\n318:\tlearn: 0.3508824\ttotal: 387ms\tremaining: 826ms\n319:\tlearn: 0.3506876\ttotal: 388ms\tremaining: 825ms\n320:\tlearn: 0.3504546\ttotal: 389ms\tremaining: 823ms\n321:\tlearn: 0.3503673\ttotal: 390ms\tremaining: 822ms\n322:\tlearn: 0.3502402\ttotal: 391ms\tremaining: 820ms\n323:\tlearn: 0.3499392\ttotal: 392ms\tremaining: 819ms\n324:\tlearn: 0.3497641\ttotal: 394ms\tremaining: 817ms\n325:\tlearn: 0.3495852\ttotal: 395ms\tremaining: 816ms\n326:\tlearn: 0.3493662\ttotal: 396ms\tremaining: 815ms\n327:\tlearn: 0.3492311\ttotal: 397ms\tremaining: 813ms\n328:\tlearn: 0.3490118\ttotal: 398ms\tremaining: 812ms\n329:\tlearn: 0.3487999\ttotal: 399ms\tremaining: 810ms\n330:\tlearn: 0.3487568\ttotal: 400ms\tremaining: 808ms\n331:\tlearn: 0.3486320\ttotal: 401ms\tremaining: 807ms\n332:\tlearn: 0.3483711\ttotal: 402ms\tremaining: 806ms\n333:\tlearn: 0.3482302\ttotal: 403ms\tremaining: 804ms\n334:\tlearn: 0.3480141\ttotal: 405ms\tremaining: 804ms\n335:\tlearn: 0.3478092\ttotal: 406ms\tremaining: 803ms\n336:\tlearn: 0.3475371\ttotal: 407ms\tremaining: 801ms\n337:\tlearn: 0.3473632\ttotal: 408ms\tremaining: 800ms\n338:\tlearn: 0.3470821\ttotal: 410ms\tremaining: 798ms\n339:\tlearn: 0.3470543\ttotal: 410ms\tremaining: 796ms\n340:\tlearn: 0.3469012\ttotal: 411ms\tremaining: 795ms\n341:\tlearn: 0.3467810\ttotal: 412ms\tremaining: 794ms\n342:\tlearn: 0.3465033\ttotal: 414ms\tremaining: 792ms\n343:\tlearn: 0.3462651\ttotal: 415ms\tremaining: 791ms\n344:\tlearn: 0.3459419\ttotal: 416ms\tremaining: 790ms\n345:\tlearn: 0.3457402\ttotal: 425ms\tremaining: 802ms\n346:\tlearn: 0.3456248\ttotal: 426ms\tremaining: 801ms\n347:\tlearn: 0.3454751\ttotal: 427ms\tremaining: 800ms\n348:\tlearn: 0.3453671\ttotal: 431ms\tremaining: 805ms\n349:\tlearn: 0.3451958\ttotal: 433ms\tremaining: 804ms\n350:\tlearn: 0.3450237\ttotal: 434ms\tremaining: 803ms\n351:\tlearn: 0.3448474\ttotal: 438ms\tremaining: 807ms\n352:\tlearn: 0.3445562\ttotal: 440ms\tremaining: 806ms\n353:\tlearn: 0.3445525\ttotal: 440ms\tremaining: 803ms\n354:\tlearn: 0.3444025\ttotal: 441ms\tremaining: 802ms\n355:\tlearn: 0.3443070\ttotal: 443ms\tremaining: 801ms\n356:\tlearn: 0.3442420\ttotal: 444ms\tremaining: 799ms\n357:\tlearn: 0.3440263\ttotal: 445ms\tremaining: 798ms\n358:\tlearn: 0.3438801\ttotal: 446ms\tremaining: 796ms\n359:\tlearn: 0.3437594\ttotal: 447ms\tremaining: 795ms\n360:\tlearn: 0.3435439\ttotal: 448ms\tremaining: 794ms\n361:\tlearn: 0.3434393\ttotal: 450ms\tremaining: 792ms\n362:\tlearn: 0.3432610\ttotal: 451ms\tremaining: 791ms\n363:\tlearn: 0.3430502\ttotal: 452ms\tremaining: 789ms\n364:\tlearn: 0.3428624\ttotal: 453ms\tremaining: 788ms\n365:\tlearn: 0.3427198\ttotal: 454ms\tremaining: 786ms\n366:\tlearn: 0.3424896\ttotal: 455ms\tremaining: 785ms\n367:\tlearn: 0.3424211\ttotal: 456ms\tremaining: 784ms\n368:\tlearn: 0.3423509\ttotal: 457ms\tremaining: 782ms\n369:\tlearn: 0.3421833\ttotal: 459ms\tremaining: 781ms\n370:\tlearn: 0.3419897\ttotal: 460ms\tremaining: 779ms\n371:\tlearn: 0.3418373\ttotal: 461ms\tremaining: 778ms\n372:\tlearn: 0.3417397\ttotal: 462ms\tremaining: 776ms\n373:\tlearn: 0.3417261\ttotal: 463ms\tremaining: 774ms\n374:\tlearn: 0.3415292\ttotal: 464ms\tremaining: 773ms\n375:\tlearn: 0.3413926\ttotal: 465ms\tremaining: 771ms\n376:\tlearn: 0.3412961\ttotal: 466ms\tremaining: 770ms\n377:\tlearn: 0.3410276\ttotal: 467ms\tremaining: 769ms\n378:\tlearn: 0.3409127\ttotal: 468ms\tremaining: 767ms\n379:\tlearn: 0.3408518\ttotal: 469ms\tremaining: 766ms\n380:\tlearn: 0.3407276\ttotal: 470ms\tremaining: 764ms\n381:\tlearn: 0.3405113\ttotal: 472ms\tremaining: 763ms\n382:\tlearn: 0.3404117\ttotal: 473ms\tremaining: 762ms\n383:\tlearn: 0.3403420\ttotal: 474ms\tremaining: 760ms\n384:\tlearn: 0.3401192\ttotal: 475ms\tremaining: 759ms\n385:\tlearn: 0.3400610\ttotal: 476ms\tremaining: 757ms\n386:\tlearn: 0.3399919\ttotal: 477ms\tremaining: 756ms\n387:\tlearn: 0.3398028\ttotal: 478ms\tremaining: 755ms\n388:\tlearn: 0.3396796\ttotal: 480ms\tremaining: 753ms\n389:\tlearn: 0.3394835\ttotal: 481ms\tremaining: 752ms\n390:\tlearn: 0.3393901\ttotal: 482ms\tremaining: 751ms\n391:\tlearn: 0.3392598\ttotal: 483ms\tremaining: 749ms\n392:\tlearn: 0.3390733\ttotal: 484ms\tremaining: 748ms\n393:\tlearn: 0.3389212\ttotal: 486ms\tremaining: 747ms\n394:\tlearn: 0.3387282\ttotal: 487ms\tremaining: 746ms\n395:\tlearn: 0.3385376\ttotal: 488ms\tremaining: 744ms\n396:\tlearn: 0.3384558\ttotal: 489ms\tremaining: 743ms\n397:\tlearn: 0.3383010\ttotal: 490ms\tremaining: 742ms\n398:\tlearn: 0.3381482\ttotal: 491ms\tremaining: 740ms\n399:\tlearn: 0.3380040\ttotal: 493ms\tremaining: 739ms\n400:\tlearn: 0.3377597\ttotal: 494ms\tremaining: 737ms\n401:\tlearn: 0.3375151\ttotal: 495ms\tremaining: 736ms\n402:\tlearn: 0.3371929\ttotal: 496ms\tremaining: 735ms\n403:\tlearn: 0.3369846\ttotal: 497ms\tremaining: 733ms\n404:\tlearn: 0.3368163\ttotal: 498ms\tremaining: 732ms\n405:\tlearn: 0.3366893\ttotal: 499ms\tremaining: 730ms\n406:\tlearn: 0.3366666\ttotal: 500ms\tremaining: 729ms\n407:\tlearn: 0.3365784\ttotal: 501ms\tremaining: 727ms\n408:\tlearn: 0.3365497\ttotal: 502ms\tremaining: 726ms\n409:\tlearn: 0.3364368\ttotal: 503ms\tremaining: 725ms\n410:\tlearn: 0.3362466\ttotal: 505ms\tremaining: 723ms\n411:\tlearn: 0.3361768\ttotal: 506ms\tremaining: 722ms\n412:\tlearn: 0.3360775\ttotal: 507ms\tremaining: 720ms\n413:\tlearn: 0.3359437\ttotal: 508ms\tremaining: 719ms\n414:\tlearn: 0.3357052\ttotal: 509ms\tremaining: 717ms\n415:\tlearn: 0.3355443\ttotal: 510ms\tremaining: 716ms\n416:\tlearn: 0.3354638\ttotal: 511ms\tremaining: 715ms\n417:\tlearn: 0.3352824\ttotal: 512ms\tremaining: 713ms\n418:\tlearn: 0.3352276\ttotal: 513ms\tremaining: 712ms\n419:\tlearn: 0.3352189\ttotal: 514ms\tremaining: 710ms\n420:\tlearn: 0.3351256\ttotal: 515ms\tremaining: 709ms\n421:\tlearn: 0.3350488\ttotal: 516ms\tremaining: 707ms\n422:\tlearn: 0.3348708\ttotal: 517ms\tremaining: 706ms\n423:\tlearn: 0.3347353\ttotal: 518ms\tremaining: 704ms\n424:\tlearn: 0.3345938\ttotal: 520ms\tremaining: 703ms\n425:\tlearn: 0.3344195\ttotal: 521ms\tremaining: 702ms\n426:\tlearn: 0.3343639\ttotal: 522ms\tremaining: 700ms\n427:\tlearn: 0.3342368\ttotal: 523ms\tremaining: 699ms\n428:\tlearn: 0.3341189\ttotal: 524ms\tremaining: 698ms\n429:\tlearn: 0.3338879\ttotal: 525ms\tremaining: 696ms\n430:\tlearn: 0.3337793\ttotal: 526ms\tremaining: 695ms\n431:\tlearn: 0.3336211\ttotal: 527ms\tremaining: 694ms\n432:\tlearn: 0.3334881\ttotal: 529ms\tremaining: 692ms\n433:\tlearn: 0.3333685\ttotal: 530ms\tremaining: 691ms\n434:\tlearn: 0.3332602\ttotal: 531ms\tremaining: 690ms\n435:\tlearn: 0.3331422\ttotal: 532ms\tremaining: 688ms\n436:\tlearn: 0.3330336\ttotal: 533ms\tremaining: 687ms\n437:\tlearn: 0.3330025\ttotal: 534ms\tremaining: 685ms\n438:\tlearn: 0.3328056\ttotal: 535ms\tremaining: 684ms\n439:\tlearn: 0.3327194\ttotal: 536ms\tremaining: 683ms\n440:\tlearn: 0.3326522\ttotal: 537ms\tremaining: 681ms\n441:\tlearn: 0.3326191\ttotal: 539ms\tremaining: 680ms\n442:\tlearn: 0.3324773\ttotal: 540ms\tremaining: 679ms\n443:\tlearn: 0.3323371\ttotal: 541ms\tremaining: 677ms\n444:\tlearn: 0.3322549\ttotal: 542ms\tremaining: 676ms\n445:\tlearn: 0.3321469\ttotal: 543ms\tremaining: 675ms\n446:\tlearn: 0.3320611\ttotal: 544ms\tremaining: 673ms\n447:\tlearn: 0.3317974\ttotal: 545ms\tremaining: 672ms\n448:\tlearn: 0.3317769\ttotal: 546ms\tremaining: 670ms\n449:\tlearn: 0.3316939\ttotal: 547ms\tremaining: 669ms\n450:\tlearn: 0.3315452\ttotal: 548ms\tremaining: 668ms\n451:\tlearn: 0.3313682\ttotal: 550ms\tremaining: 666ms\n452:\tlearn: 0.3313554\ttotal: 550ms\tremaining: 665ms\n453:\tlearn: 0.3313491\ttotal: 551ms\tremaining: 663ms\n454:\tlearn: 0.3313094\ttotal: 552ms\tremaining: 662ms\n455:\tlearn: 0.3312777\ttotal: 553ms\tremaining: 660ms\n456:\tlearn: 0.3311548\ttotal: 555ms\tremaining: 659ms\n457:\tlearn: 0.3311054\ttotal: 564ms\tremaining: 667ms\n458:\tlearn: 0.3309574\ttotal: 565ms\tremaining: 666ms\n459:\tlearn: 0.3308830\ttotal: 566ms\tremaining: 665ms\n460:\tlearn: 0.3307546\ttotal: 567ms\tremaining: 663ms\n461:\tlearn: 0.3306617\ttotal: 569ms\tremaining: 662ms\n462:\tlearn: 0.3305786\ttotal: 570ms\tremaining: 661ms\n463:\tlearn: 0.3305261\ttotal: 571ms\tremaining: 659ms\n464:\tlearn: 0.3304128\ttotal: 572ms\tremaining: 658ms\n465:\tlearn: 0.3303173\ttotal: 573ms\tremaining: 656ms\n466:\tlearn: 0.3301748\ttotal: 574ms\tremaining: 655ms\n467:\tlearn: 0.3301621\ttotal: 575ms\tremaining: 653ms\n468:\tlearn: 0.3300470\ttotal: 576ms\tremaining: 652ms\n469:\tlearn: 0.3300062\ttotal: 577ms\tremaining: 651ms\n470:\tlearn: 0.3297889\ttotal: 578ms\tremaining: 649ms\n471:\tlearn: 0.3296636\ttotal: 579ms\tremaining: 648ms\n472:\tlearn: 0.3296328\ttotal: 580ms\tremaining: 646ms\n473:\tlearn: 0.3295084\ttotal: 581ms\tremaining: 645ms\n474:\tlearn: 0.3294262\ttotal: 582ms\tremaining: 643ms\n475:\tlearn: 0.3293508\ttotal: 583ms\tremaining: 642ms\n476:\tlearn: 0.3292505\ttotal: 584ms\tremaining: 641ms\n477:\tlearn: 0.3290613\ttotal: 585ms\tremaining: 639ms\n478:\tlearn: 0.3289077\ttotal: 586ms\tremaining: 638ms\n479:\tlearn: 0.3288122\ttotal: 588ms\tremaining: 637ms\n480:\tlearn: 0.3285686\ttotal: 589ms\tremaining: 635ms\n481:\tlearn: 0.3284544\ttotal: 590ms\tremaining: 634ms\n482:\tlearn: 0.3283961\ttotal: 591ms\tremaining: 633ms\n483:\tlearn: 0.3282445\ttotal: 592ms\tremaining: 631ms\n484:\tlearn: 0.3281193\ttotal: 593ms\tremaining: 630ms\n485:\tlearn: 0.3280528\ttotal: 594ms\tremaining: 629ms\n486:\tlearn: 0.3279964\ttotal: 596ms\tremaining: 627ms\n487:\tlearn: 0.3278851\ttotal: 597ms\tremaining: 626ms\n488:\tlearn: 0.3277081\ttotal: 598ms\tremaining: 625ms\n489:\tlearn: 0.3275807\ttotal: 599ms\tremaining: 623ms\n490:\tlearn: 0.3274858\ttotal: 600ms\tremaining: 622ms\n491:\tlearn: 0.3273967\ttotal: 601ms\tremaining: 621ms\n492:\tlearn: 0.3273068\ttotal: 602ms\tremaining: 619ms\n493:\tlearn: 0.3271331\ttotal: 603ms\tremaining: 618ms\n494:\tlearn: 0.3270323\ttotal: 605ms\tremaining: 617ms\n495:\tlearn: 0.3269177\ttotal: 606ms\tremaining: 616ms\n496:\tlearn: 0.3267808\ttotal: 607ms\tremaining: 614ms\n497:\tlearn: 0.3266902\ttotal: 608ms\tremaining: 613ms\n498:\tlearn: 0.3265403\ttotal: 609ms\tremaining: 612ms\n499:\tlearn: 0.3265044\ttotal: 610ms\tremaining: 610ms\n500:\tlearn: 0.3264206\ttotal: 611ms\tremaining: 609ms\n501:\tlearn: 0.3262984\ttotal: 613ms\tremaining: 608ms\n502:\tlearn: 0.3261829\ttotal: 614ms\tremaining: 606ms\n503:\tlearn: 0.3259489\ttotal: 615ms\tremaining: 605ms\n504:\tlearn: 0.3257940\ttotal: 616ms\tremaining: 604ms\n505:\tlearn: 0.3257610\ttotal: 617ms\tremaining: 603ms\n506:\tlearn: 0.3256324\ttotal: 618ms\tremaining: 601ms\n507:\tlearn: 0.3255153\ttotal: 619ms\tremaining: 600ms\n508:\tlearn: 0.3253420\ttotal: 621ms\tremaining: 599ms\n509:\tlearn: 0.3251575\ttotal: 622ms\tremaining: 598ms\n510:\tlearn: 0.3250247\ttotal: 623ms\tremaining: 596ms\n511:\tlearn: 0.3249258\ttotal: 624ms\tremaining: 595ms\n512:\tlearn: 0.3248935\ttotal: 625ms\tremaining: 594ms\n513:\tlearn: 0.3247870\ttotal: 627ms\tremaining: 592ms\n514:\tlearn: 0.3247584\ttotal: 628ms\tremaining: 591ms\n515:\tlearn: 0.3246105\ttotal: 629ms\tremaining: 590ms\n516:\tlearn: 0.3245711\ttotal: 630ms\tremaining: 588ms\n517:\tlearn: 0.3243520\ttotal: 631ms\tremaining: 587ms\n518:\tlearn: 0.3242976\ttotal: 632ms\tremaining: 586ms\n519:\tlearn: 0.3242477\ttotal: 633ms\tremaining: 584ms\n520:\tlearn: 0.3241742\ttotal: 634ms\tremaining: 583ms\n521:\tlearn: 0.3240708\ttotal: 635ms\tremaining: 582ms\n522:\tlearn: 0.3239672\ttotal: 636ms\tremaining: 580ms\n523:\tlearn: 0.3238661\ttotal: 637ms\tremaining: 579ms\n524:\tlearn: 0.3237666\ttotal: 638ms\tremaining: 578ms\n525:\tlearn: 0.3236683\ttotal: 640ms\tremaining: 576ms\n526:\tlearn: 0.3236166\ttotal: 640ms\tremaining: 575ms\n527:\tlearn: 0.3234720\ttotal: 642ms\tremaining: 573ms\n528:\tlearn: 0.3232739\ttotal: 643ms\tremaining: 572ms\n529:\tlearn: 0.3231231\ttotal: 644ms\tremaining: 571ms\n530:\tlearn: 0.3230702\ttotal: 645ms\tremaining: 570ms\n531:\tlearn: 0.3230065\ttotal: 646ms\tremaining: 568ms\n532:\tlearn: 0.3229354\ttotal: 647ms\tremaining: 567ms\n533:\tlearn: 0.3229004\ttotal: 648ms\tremaining: 566ms\n534:\tlearn: 0.3228806\ttotal: 658ms\tremaining: 572ms\n535:\tlearn: 0.3227790\ttotal: 659ms\tremaining: 571ms\n536:\tlearn: 0.3226276\ttotal: 661ms\tremaining: 570ms\n537:\tlearn: 0.3225467\ttotal: 662ms\tremaining: 568ms\n538:\tlearn: 0.3225042\ttotal: 663ms\tremaining: 567ms\n539:\tlearn: 0.3223578\ttotal: 664ms\tremaining: 566ms\n540:\tlearn: 0.3222698\ttotal: 665ms\tremaining: 564ms\n541:\tlearn: 0.3221632\ttotal: 668ms\tremaining: 564ms\n542:\tlearn: 0.3219362\ttotal: 669ms\tremaining: 563ms\n543:\tlearn: 0.3218186\ttotal: 670ms\tremaining: 561ms\n544:\tlearn: 0.3215523\ttotal: 671ms\tremaining: 560ms\n545:\tlearn: 0.3214920\ttotal: 672ms\tremaining: 559ms\n546:\tlearn: 0.3214039\ttotal: 673ms\tremaining: 558ms\n547:\tlearn: 0.3213100\ttotal: 674ms\tremaining: 556ms\n548:\tlearn: 0.3212520\ttotal: 675ms\tremaining: 555ms\n549:\tlearn: 0.3211932\ttotal: 676ms\tremaining: 553ms\n550:\tlearn: 0.3211346\ttotal: 678ms\tremaining: 552ms\n551:\tlearn: 0.3211044\ttotal: 679ms\tremaining: 551ms\n552:\tlearn: 0.3210719\ttotal: 680ms\tremaining: 550ms\n553:\tlearn: 0.3209272\ttotal: 681ms\tremaining: 548ms\n554:\tlearn: 0.3208436\ttotal: 682ms\tremaining: 547ms\n555:\tlearn: 0.3207485\ttotal: 683ms\tremaining: 546ms\n556:\tlearn: 0.3206682\ttotal: 684ms\tremaining: 544ms\n557:\tlearn: 0.3205871\ttotal: 686ms\tremaining: 543ms\n558:\tlearn: 0.3204955\ttotal: 687ms\tremaining: 542ms\n559:\tlearn: 0.3203765\ttotal: 688ms\tremaining: 540ms\n560:\tlearn: 0.3202980\ttotal: 689ms\tremaining: 539ms\n561:\tlearn: 0.3201980\ttotal: 690ms\tremaining: 538ms\n562:\tlearn: 0.3201415\ttotal: 691ms\tremaining: 536ms\n563:\tlearn: 0.3200194\ttotal: 692ms\tremaining: 535ms\n564:\tlearn: 0.3199236\ttotal: 693ms\tremaining: 534ms\n565:\tlearn: 0.3199140\ttotal: 694ms\tremaining: 532ms\n566:\tlearn: 0.3198309\ttotal: 695ms\tremaining: 531ms\n567:\tlearn: 0.3197580\ttotal: 696ms\tremaining: 530ms\n568:\tlearn: 0.3197554\ttotal: 697ms\tremaining: 528ms\n569:\tlearn: 0.3197306\ttotal: 698ms\tremaining: 527ms\n570:\tlearn: 0.3196524\ttotal: 699ms\tremaining: 525ms\n571:\tlearn: 0.3196026\ttotal: 701ms\tremaining: 524ms\n572:\tlearn: 0.3192690\ttotal: 702ms\tremaining: 523ms\n573:\tlearn: 0.3191575\ttotal: 703ms\tremaining: 522ms\n574:\tlearn: 0.3190522\ttotal: 704ms\tremaining: 520ms\n575:\tlearn: 0.3189441\ttotal: 705ms\tremaining: 519ms\n576:\tlearn: 0.3188048\ttotal: 706ms\tremaining: 518ms\n577:\tlearn: 0.3187280\ttotal: 707ms\tremaining: 516ms\n578:\tlearn: 0.3186173\ttotal: 709ms\tremaining: 515ms\n579:\tlearn: 0.3185560\ttotal: 710ms\tremaining: 514ms\n580:\tlearn: 0.3185445\ttotal: 710ms\tremaining: 512ms\n581:\tlearn: 0.3183478\ttotal: 712ms\tremaining: 511ms\n582:\tlearn: 0.3182256\ttotal: 713ms\tremaining: 510ms\n583:\tlearn: 0.3181976\ttotal: 714ms\tremaining: 508ms\n584:\tlearn: 0.3181366\ttotal: 715ms\tremaining: 507ms\n585:\tlearn: 0.3180315\ttotal: 716ms\tremaining: 506ms\n586:\tlearn: 0.3179270\ttotal: 718ms\tremaining: 505ms\n587:\tlearn: 0.3178298\ttotal: 719ms\tremaining: 504ms\n588:\tlearn: 0.3177213\ttotal: 720ms\tremaining: 502ms\n589:\tlearn: 0.3177099\ttotal: 721ms\tremaining: 501ms\n590:\tlearn: 0.3176198\ttotal: 722ms\tremaining: 500ms\n591:\tlearn: 0.3175079\ttotal: 723ms\tremaining: 498ms\n592:\tlearn: 0.3174451\ttotal: 724ms\tremaining: 497ms\n593:\tlearn: 0.3172086\ttotal: 725ms\tremaining: 496ms\n594:\tlearn: 0.3170533\ttotal: 726ms\tremaining: 494ms\n595:\tlearn: 0.3169894\ttotal: 728ms\tremaining: 493ms\n596:\tlearn: 0.3169054\ttotal: 729ms\tremaining: 492ms\n597:\tlearn: 0.3168470\ttotal: 730ms\tremaining: 491ms\n598:\tlearn: 0.3166709\ttotal: 731ms\tremaining: 489ms\n599:\tlearn: 0.3165347\ttotal: 732ms\tremaining: 488ms\n600:\tlearn: 0.3163922\ttotal: 733ms\tremaining: 487ms\n601:\tlearn: 0.3162733\ttotal: 734ms\tremaining: 485ms\n602:\tlearn: 0.3162103\ttotal: 735ms\tremaining: 484ms\n603:\tlearn: 0.3160659\ttotal: 737ms\tremaining: 483ms\n604:\tlearn: 0.3160232\ttotal: 738ms\tremaining: 482ms\n605:\tlearn: 0.3159184\ttotal: 739ms\tremaining: 480ms\n606:\tlearn: 0.3158633\ttotal: 740ms\tremaining: 479ms\n607:\tlearn: 0.3157218\ttotal: 741ms\tremaining: 478ms\n608:\tlearn: 0.3156707\ttotal: 743ms\tremaining: 477ms\n609:\tlearn: 0.3155467\ttotal: 750ms\tremaining: 480ms\n610:\tlearn: 0.3154574\ttotal: 751ms\tremaining: 478ms\n611:\tlearn: 0.3153137\ttotal: 753ms\tremaining: 477ms\n612:\tlearn: 0.3151582\ttotal: 754ms\tremaining: 476ms\n613:\tlearn: 0.3150929\ttotal: 755ms\tremaining: 475ms\n614:\tlearn: 0.3150085\ttotal: 756ms\tremaining: 473ms\n615:\tlearn: 0.3148429\ttotal: 757ms\tremaining: 472ms\n616:\tlearn: 0.3147431\ttotal: 758ms\tremaining: 471ms\n617:\tlearn: 0.3146908\ttotal: 759ms\tremaining: 469ms\n618:\tlearn: 0.3146846\ttotal: 760ms\tremaining: 468ms\n619:\tlearn: 0.3145145\ttotal: 761ms\tremaining: 466ms\n620:\tlearn: 0.3144127\ttotal: 762ms\tremaining: 465ms\n621:\tlearn: 0.3142497\ttotal: 763ms\tremaining: 464ms\n622:\tlearn: 0.3142392\ttotal: 764ms\tremaining: 462ms\n623:\tlearn: 0.3142253\ttotal: 765ms\tremaining: 461ms\n624:\tlearn: 0.3142018\ttotal: 766ms\tremaining: 459ms\n625:\tlearn: 0.3141547\ttotal: 767ms\tremaining: 458ms\n626:\tlearn: 0.3139849\ttotal: 768ms\tremaining: 457ms\n627:\tlearn: 0.3138597\ttotal: 769ms\tremaining: 456ms\n628:\tlearn: 0.3136942\ttotal: 770ms\tremaining: 454ms\n629:\tlearn: 0.3135167\ttotal: 771ms\tremaining: 453ms\n630:\tlearn: 0.3134410\ttotal: 772ms\tremaining: 452ms\n631:\tlearn: 0.3133288\ttotal: 773ms\tremaining: 450ms\n632:\tlearn: 0.3133222\ttotal: 774ms\tremaining: 449ms\n633:\tlearn: 0.3131457\ttotal: 775ms\tremaining: 448ms\n634:\tlearn: 0.3130581\ttotal: 776ms\tremaining: 446ms\n635:\tlearn: 0.3129948\ttotal: 778ms\tremaining: 445ms\n636:\tlearn: 0.3127318\ttotal: 779ms\tremaining: 444ms\n637:\tlearn: 0.3126565\ttotal: 779ms\tremaining: 442ms\n638:\tlearn: 0.3125338\ttotal: 781ms\tremaining: 441ms\n639:\tlearn: 0.3124288\ttotal: 782ms\tremaining: 440ms\n640:\tlearn: 0.3123135\ttotal: 783ms\tremaining: 439ms\n641:\tlearn: 0.3121642\ttotal: 784ms\tremaining: 437ms\n642:\tlearn: 0.3121249\ttotal: 786ms\tremaining: 436ms\n643:\tlearn: 0.3119923\ttotal: 787ms\tremaining: 435ms\n644:\tlearn: 0.3118993\ttotal: 788ms\tremaining: 434ms\n645:\tlearn: 0.3118440\ttotal: 789ms\tremaining: 432ms\n646:\tlearn: 0.3115963\ttotal: 790ms\tremaining: 431ms\n647:\tlearn: 0.3114395\ttotal: 791ms\tremaining: 430ms\n648:\tlearn: 0.3114290\ttotal: 792ms\tremaining: 428ms\n649:\tlearn: 0.3113576\ttotal: 793ms\tremaining: 427ms\n650:\tlearn: 0.3110952\ttotal: 794ms\tremaining: 426ms\n651:\tlearn: 0.3110642\ttotal: 795ms\tremaining: 424ms\n652:\tlearn: 0.3109499\ttotal: 796ms\tremaining: 423ms\n653:\tlearn: 0.3108954\ttotal: 798ms\tremaining: 422ms\n654:\tlearn: 0.3108803\ttotal: 799ms\tremaining: 421ms\n655:\tlearn: 0.3108129\ttotal: 801ms\tremaining: 420ms\n656:\tlearn: 0.3107126\ttotal: 802ms\tremaining: 419ms\n657:\tlearn: 0.3105903\ttotal: 804ms\tremaining: 418ms\n658:\tlearn: 0.3104329\ttotal: 806ms\tremaining: 417ms\n659:\tlearn: 0.3101463\ttotal: 807ms\tremaining: 416ms\n660:\tlearn: 0.3100288\ttotal: 809ms\tremaining: 415ms\n661:\tlearn: 0.3098923\ttotal: 810ms\tremaining: 414ms\n662:\tlearn: 0.3097287\ttotal: 811ms\tremaining: 412ms\n663:\tlearn: 0.3096352\ttotal: 813ms\tremaining: 411ms\n664:\tlearn: 0.3095746\ttotal: 814ms\tremaining: 410ms\n665:\tlearn: 0.3095039\ttotal: 815ms\tremaining: 409ms\n666:\tlearn: 0.3094804\ttotal: 816ms\tremaining: 408ms\n667:\tlearn: 0.3094097\ttotal: 818ms\tremaining: 407ms\n668:\tlearn: 0.3093434\ttotal: 820ms\tremaining: 406ms\n669:\tlearn: 0.3093018\ttotal: 821ms\tremaining: 405ms\n670:\tlearn: 0.3091828\ttotal: 823ms\tremaining: 403ms\n671:\tlearn: 0.3091259\ttotal: 824ms\tremaining: 402ms\n672:\tlearn: 0.3090841\ttotal: 825ms\tremaining: 401ms\n673:\tlearn: 0.3090366\ttotal: 826ms\tremaining: 399ms\n674:\tlearn: 0.3089528\ttotal: 827ms\tremaining: 398ms\n675:\tlearn: 0.3087918\ttotal: 828ms\tremaining: 397ms\n676:\tlearn: 0.3086898\ttotal: 829ms\tremaining: 396ms\n677:\tlearn: 0.3086232\ttotal: 830ms\tremaining: 394ms\n678:\tlearn: 0.3084274\ttotal: 831ms\tremaining: 393ms\n679:\tlearn: 0.3081848\ttotal: 833ms\tremaining: 392ms\n680:\tlearn: 0.3080439\ttotal: 834ms\tremaining: 391ms\n681:\tlearn: 0.3079268\ttotal: 835ms\tremaining: 389ms\n682:\tlearn: 0.3078898\ttotal: 836ms\tremaining: 388ms\n683:\tlearn: 0.3077828\ttotal: 837ms\tremaining: 387ms\n684:\tlearn: 0.3076760\ttotal: 838ms\tremaining: 386ms\n685:\tlearn: 0.3075456\ttotal: 839ms\tremaining: 384ms\n686:\tlearn: 0.3073892\ttotal: 841ms\tremaining: 383ms\n687:\tlearn: 0.3072887\ttotal: 842ms\tremaining: 382ms\n688:\tlearn: 0.3071714\ttotal: 844ms\tremaining: 381ms\n689:\tlearn: 0.3069249\ttotal: 845ms\tremaining: 380ms\n690:\tlearn: 0.3068537\ttotal: 846ms\tremaining: 378ms\n691:\tlearn: 0.3066811\ttotal: 847ms\tremaining: 377ms\n692:\tlearn: 0.3066295\ttotal: 848ms\tremaining: 376ms\n693:\tlearn: 0.3065265\ttotal: 849ms\tremaining: 374ms\n694:\tlearn: 0.3063136\ttotal: 850ms\tremaining: 373ms\n695:\tlearn: 0.3061788\ttotal: 851ms\tremaining: 372ms\n696:\tlearn: 0.3061235\ttotal: 853ms\tremaining: 371ms\n697:\tlearn: 0.3059667\ttotal: 854ms\tremaining: 369ms\n698:\tlearn: 0.3057403\ttotal: 855ms\tremaining: 368ms\n699:\tlearn: 0.3055440\ttotal: 856ms\tremaining: 367ms\n700:\tlearn: 0.3054941\ttotal: 857ms\tremaining: 366ms\n701:\tlearn: 0.3054174\ttotal: 858ms\tremaining: 364ms\n702:\tlearn: 0.3052550\ttotal: 859ms\tremaining: 363ms\n703:\tlearn: 0.3052142\ttotal: 861ms\tremaining: 362ms\n704:\tlearn: 0.3050605\ttotal: 862ms\tremaining: 361ms\n705:\tlearn: 0.3050044\ttotal: 863ms\tremaining: 359ms\n706:\tlearn: 0.3049317\ttotal: 864ms\tremaining: 358ms\n707:\tlearn: 0.3044972\ttotal: 865ms\tremaining: 357ms\n708:\tlearn: 0.3044099\ttotal: 866ms\tremaining: 356ms\n709:\tlearn: 0.3041928\ttotal: 868ms\tremaining: 354ms\n710:\tlearn: 0.3040413\ttotal: 869ms\tremaining: 353ms\n711:\tlearn: 0.3038649\ttotal: 870ms\tremaining: 352ms\n712:\tlearn: 0.3038297\ttotal: 871ms\tremaining: 351ms\n713:\tlearn: 0.3036834\ttotal: 872ms\tremaining: 349ms\n714:\tlearn: 0.3036388\ttotal: 873ms\tremaining: 348ms\n715:\tlearn: 0.3034390\ttotal: 874ms\tremaining: 347ms\n716:\tlearn: 0.3032298\ttotal: 876ms\tremaining: 346ms\n717:\tlearn: 0.3030799\ttotal: 877ms\tremaining: 344ms\n718:\tlearn: 0.3030207\ttotal: 878ms\tremaining: 343ms\n719:\tlearn: 0.3028829\ttotal: 879ms\tremaining: 342ms\n720:\tlearn: 0.3027734\ttotal: 880ms\tremaining: 341ms\n721:\tlearn: 0.3027512\ttotal: 881ms\tremaining: 339ms\n722:\tlearn: 0.3026911\ttotal: 882ms\tremaining: 338ms\n723:\tlearn: 0.3025189\ttotal: 883ms\tremaining: 337ms\n724:\tlearn: 0.3023664\ttotal: 884ms\tremaining: 335ms\n725:\tlearn: 0.3022314\ttotal: 885ms\tremaining: 334ms\n726:\tlearn: 0.3021776\ttotal: 886ms\tremaining: 333ms\n727:\tlearn: 0.3021028\ttotal: 888ms\tremaining: 332ms\n728:\tlearn: 0.3019947\ttotal: 889ms\tremaining: 330ms\n729:\tlearn: 0.3017889\ttotal: 890ms\tremaining: 329ms\n730:\tlearn: 0.3017025\ttotal: 891ms\tremaining: 328ms\n731:\tlearn: 0.3016373\ttotal: 892ms\tremaining: 327ms\n732:\tlearn: 0.3014282\ttotal: 893ms\tremaining: 325ms\n733:\tlearn: 0.3013414\ttotal: 894ms\tremaining: 324ms\n734:\tlearn: 0.3012020\ttotal: 895ms\tremaining: 323ms\n735:\tlearn: 0.3009927\ttotal: 897ms\tremaining: 322ms\n736:\tlearn: 0.3009577\ttotal: 898ms\tremaining: 320ms\n737:\tlearn: 0.3008895\ttotal: 899ms\tremaining: 319ms\n738:\tlearn: 0.3008578\ttotal: 900ms\tremaining: 318ms\n739:\tlearn: 0.3006707\ttotal: 901ms\tremaining: 317ms\n740:\tlearn: 0.3005100\ttotal: 902ms\tremaining: 315ms\n741:\tlearn: 0.3003271\ttotal: 903ms\tremaining: 314ms\n742:\tlearn: 0.3002135\ttotal: 905ms\tremaining: 313ms\n743:\tlearn: 0.3001498\ttotal: 906ms\tremaining: 312ms\n744:\tlearn: 0.3001420\ttotal: 907ms\tremaining: 310ms\n745:\tlearn: 0.3000504\ttotal: 908ms\tremaining: 309ms\n746:\tlearn: 0.2998150\ttotal: 909ms\tremaining: 308ms\n747:\tlearn: 0.2997225\ttotal: 910ms\tremaining: 307ms\n748:\tlearn: 0.2996722\ttotal: 911ms\tremaining: 305ms\n749:\tlearn: 0.2995994\ttotal: 912ms\tremaining: 304ms\n750:\tlearn: 0.2994994\ttotal: 914ms\tremaining: 303ms\n751:\tlearn: 0.2993620\ttotal: 915ms\tremaining: 302ms\n752:\tlearn: 0.2993373\ttotal: 916ms\tremaining: 300ms\n753:\tlearn: 0.2992043\ttotal: 917ms\tremaining: 299ms\n754:\tlearn: 0.2991121\ttotal: 918ms\tremaining: 298ms\n755:\tlearn: 0.2990631\ttotal: 919ms\tremaining: 297ms\n756:\tlearn: 0.2990444\ttotal: 920ms\tremaining: 295ms\n757:\tlearn: 0.2988811\ttotal: 921ms\tremaining: 294ms\n758:\tlearn: 0.2987861\ttotal: 922ms\tremaining: 293ms\n759:\tlearn: 0.2987212\ttotal: 924ms\tremaining: 292ms\n760:\tlearn: 0.2985810\ttotal: 925ms\tremaining: 290ms\n761:\tlearn: 0.2985516\ttotal: 926ms\tremaining: 289ms\n762:\tlearn: 0.2984635\ttotal: 927ms\tremaining: 288ms\n763:\tlearn: 0.2982491\ttotal: 928ms\tremaining: 287ms\n764:\tlearn: 0.2981043\ttotal: 929ms\tremaining: 285ms\n765:\tlearn: 0.2980205\ttotal: 936ms\tremaining: 286ms\n766:\tlearn: 0.2979486\ttotal: 937ms\tremaining: 285ms\n767:\tlearn: 0.2977212\ttotal: 938ms\tremaining: 284ms\n768:\tlearn: 0.2976294\ttotal: 940ms\tremaining: 282ms\n769:\tlearn: 0.2975044\ttotal: 941ms\tremaining: 281ms\n770:\tlearn: 0.2973256\ttotal: 942ms\tremaining: 280ms\n771:\tlearn: 0.2973144\ttotal: 943ms\tremaining: 278ms\n772:\tlearn: 0.2972979\ttotal: 944ms\tremaining: 277ms\n773:\tlearn: 0.2971521\ttotal: 945ms\tremaining: 276ms\n774:\tlearn: 0.2971453\ttotal: 946ms\tremaining: 275ms\n775:\tlearn: 0.2970735\ttotal: 947ms\tremaining: 273ms\n776:\tlearn: 0.2969778\ttotal: 949ms\tremaining: 272ms\n777:\tlearn: 0.2967533\ttotal: 950ms\tremaining: 271ms\n778:\tlearn: 0.2966809\ttotal: 951ms\tremaining: 270ms\n779:\tlearn: 0.2966339\ttotal: 952ms\tremaining: 268ms\n780:\tlearn: 0.2965191\ttotal: 953ms\tremaining: 267ms\n781:\tlearn: 0.2965082\ttotal: 954ms\tremaining: 266ms\n782:\tlearn: 0.2964694\ttotal: 955ms\tremaining: 265ms\n783:\tlearn: 0.2963130\ttotal: 956ms\tremaining: 263ms\n784:\tlearn: 0.2961901\ttotal: 957ms\tremaining: 262ms\n785:\tlearn: 0.2961464\ttotal: 958ms\tremaining: 261ms\n786:\tlearn: 0.2958654\ttotal: 959ms\tremaining: 260ms\n787:\tlearn: 0.2956907\ttotal: 960ms\tremaining: 258ms\n788:\tlearn: 0.2955687\ttotal: 962ms\tremaining: 257ms\n789:\tlearn: 0.2954924\ttotal: 963ms\tremaining: 256ms\n790:\tlearn: 0.2953504\ttotal: 964ms\tremaining: 255ms\n791:\tlearn: 0.2952352\ttotal: 965ms\tremaining: 253ms\n792:\tlearn: 0.2951928\ttotal: 966ms\tremaining: 252ms\n793:\tlearn: 0.2951572\ttotal: 967ms\tremaining: 251ms\n794:\tlearn: 0.2950554\ttotal: 968ms\tremaining: 250ms\n795:\tlearn: 0.2949019\ttotal: 970ms\tremaining: 248ms\n796:\tlearn: 0.2948368\ttotal: 971ms\tremaining: 247ms\n797:\tlearn: 0.2947662\ttotal: 976ms\tremaining: 247ms\n798:\tlearn: 0.2947119\ttotal: 978ms\tremaining: 246ms\n799:\tlearn: 0.2946440\ttotal: 979ms\tremaining: 245ms\n800:\tlearn: 0.2945881\ttotal: 983ms\tremaining: 244ms\n801:\tlearn: 0.2945087\ttotal: 984ms\tremaining: 243ms\n802:\tlearn: 0.2944415\ttotal: 987ms\tremaining: 242ms\n803:\tlearn: 0.2943547\ttotal: 989ms\tremaining: 241ms\n804:\tlearn: 0.2941762\ttotal: 993ms\tremaining: 240ms\n805:\tlearn: 0.2941381\ttotal: 994ms\tremaining: 239ms\n806:\tlearn: 0.2940922\ttotal: 996ms\tremaining: 238ms\n807:\tlearn: 0.2940429\ttotal: 997ms\tremaining: 237ms\n808:\tlearn: 0.2939731\ttotal: 998ms\tremaining: 236ms\n809:\tlearn: 0.2939016\ttotal: 999ms\tremaining: 234ms\n810:\tlearn: 0.2937672\ttotal: 1s\tremaining: 233ms\n811:\tlearn: 0.2936802\ttotal: 1s\tremaining: 232ms\n812:\tlearn: 0.2935958\ttotal: 1s\tremaining: 231ms\n813:\tlearn: 0.2934512\ttotal: 1s\tremaining: 229ms\n814:\tlearn: 0.2932837\ttotal: 1s\tremaining: 228ms\n815:\tlearn: 0.2931995\ttotal: 1.01s\tremaining: 227ms\n816:\tlearn: 0.2931411\ttotal: 1.01s\tremaining: 226ms\n817:\tlearn: 0.2930716\ttotal: 1.01s\tremaining: 224ms\n818:\tlearn: 0.2928494\ttotal: 1.01s\tremaining: 223ms\n819:\tlearn: 0.2927529\ttotal: 1.01s\tremaining: 222ms\n820:\tlearn: 0.2925570\ttotal: 1.01s\tremaining: 221ms\n821:\tlearn: 0.2924702\ttotal: 1.01s\tremaining: 219ms\n822:\tlearn: 0.2924282\ttotal: 1.01s\tremaining: 218ms\n823:\tlearn: 0.2921988\ttotal: 1.01s\tremaining: 217ms\n824:\tlearn: 0.2921734\ttotal: 1.02s\tremaining: 216ms\n825:\tlearn: 0.2920820\ttotal: 1.02s\tremaining: 214ms\n826:\tlearn: 0.2920393\ttotal: 1.02s\tremaining: 213ms\n827:\tlearn: 0.2918869\ttotal: 1.02s\tremaining: 212ms\n828:\tlearn: 0.2917958\ttotal: 1.02s\tremaining: 211ms\n829:\tlearn: 0.2917133\ttotal: 1.02s\tremaining: 209ms\n830:\tlearn: 0.2916632\ttotal: 1.02s\tremaining: 208ms\n831:\tlearn: 0.2916162\ttotal: 1.02s\tremaining: 207ms\n832:\tlearn: 0.2915547\ttotal: 1.02s\tremaining: 206ms\n833:\tlearn: 0.2914798\ttotal: 1.03s\tremaining: 204ms\n834:\tlearn: 0.2914094\ttotal: 1.03s\tremaining: 203ms\n835:\tlearn: 0.2913953\ttotal: 1.03s\tremaining: 202ms\n836:\tlearn: 0.2913353\ttotal: 1.03s\tremaining: 201ms\n837:\tlearn: 0.2912444\ttotal: 1.03s\tremaining: 199ms\n838:\tlearn: 0.2911789\ttotal: 1.03s\tremaining: 198ms\n839:\tlearn: 0.2911356\ttotal: 1.03s\tremaining: 197ms\n840:\tlearn: 0.2910224\ttotal: 1.03s\tremaining: 196ms\n841:\tlearn: 0.2910109\ttotal: 1.03s\tremaining: 194ms\n842:\tlearn: 0.2909679\ttotal: 1.04s\tremaining: 193ms\n843:\tlearn: 0.2909228\ttotal: 1.04s\tremaining: 192ms\n844:\tlearn: 0.2907906\ttotal: 1.04s\tremaining: 191ms\n845:\tlearn: 0.2907069\ttotal: 1.04s\tremaining: 189ms\n846:\tlearn: 0.2905183\ttotal: 1.05s\tremaining: 190ms\n847:\tlearn: 0.2904084\ttotal: 1.05s\tremaining: 188ms\n848:\tlearn: 0.2901926\ttotal: 1.05s\tremaining: 187ms\n849:\tlearn: 0.2901719\ttotal: 1.05s\tremaining: 186ms\n850:\tlearn: 0.2898961\ttotal: 1.05s\tremaining: 185ms\n851:\tlearn: 0.2898052\ttotal: 1.06s\tremaining: 183ms\n852:\tlearn: 0.2895909\ttotal: 1.06s\tremaining: 183ms\n853:\tlearn: 0.2895793\ttotal: 1.06s\tremaining: 182ms\n854:\tlearn: 0.2894362\ttotal: 1.06s\tremaining: 180ms\n855:\tlearn: 0.2891674\ttotal: 1.06s\tremaining: 179ms\n856:\tlearn: 0.2890730\ttotal: 1.07s\tremaining: 178ms\n857:\tlearn: 0.2890186\ttotal: 1.07s\tremaining: 177ms\n858:\tlearn: 0.2889672\ttotal: 1.07s\tremaining: 176ms\n859:\tlearn: 0.2888429\ttotal: 1.07s\tremaining: 174ms\n860:\tlearn: 0.2887640\ttotal: 1.07s\tremaining: 173ms\n861:\tlearn: 0.2885844\ttotal: 1.07s\tremaining: 172ms\n862:\tlearn: 0.2884637\ttotal: 1.07s\tremaining: 171ms\n863:\tlearn: 0.2882943\ttotal: 1.07s\tremaining: 169ms\n864:\tlearn: 0.2882451\ttotal: 1.08s\tremaining: 168ms\n865:\tlearn: 0.2881253\ttotal: 1.08s\tremaining: 167ms\n866:\tlearn: 0.2880779\ttotal: 1.08s\tremaining: 166ms\n867:\tlearn: 0.2879705\ttotal: 1.08s\tremaining: 164ms\n868:\tlearn: 0.2879043\ttotal: 1.08s\tremaining: 163ms\n869:\tlearn: 0.2878660\ttotal: 1.08s\tremaining: 162ms\n870:\tlearn: 0.2878033\ttotal: 1.08s\tremaining: 161ms\n871:\tlearn: 0.2877192\ttotal: 1.09s\tremaining: 159ms\n872:\tlearn: 0.2875397\ttotal: 1.09s\tremaining: 158ms\n873:\tlearn: 0.2874443\ttotal: 1.09s\tremaining: 157ms\n874:\tlearn: 0.2874100\ttotal: 1.09s\tremaining: 156ms\n875:\tlearn: 0.2873477\ttotal: 1.09s\tremaining: 154ms\n876:\tlearn: 0.2873055\ttotal: 1.09s\tremaining: 153ms\n877:\tlearn: 0.2872438\ttotal: 1.1s\tremaining: 152ms\n878:\tlearn: 0.2872026\ttotal: 1.1s\tremaining: 151ms\n879:\tlearn: 0.2871440\ttotal: 1.1s\tremaining: 150ms\n880:\tlearn: 0.2870508\ttotal: 1.1s\tremaining: 149ms\n881:\tlearn: 0.2869319\ttotal: 1.1s\tremaining: 148ms\n882:\tlearn: 0.2868523\ttotal: 1.1s\tremaining: 146ms\n883:\tlearn: 0.2867884\ttotal: 1.1s\tremaining: 145ms\n884:\tlearn: 0.2867024\ttotal: 1.11s\tremaining: 144ms\n885:\tlearn: 0.2865931\ttotal: 1.11s\tremaining: 142ms\n886:\tlearn: 0.2865546\ttotal: 1.11s\tremaining: 141ms\n887:\tlearn: 0.2865140\ttotal: 1.11s\tremaining: 140ms\n888:\tlearn: 0.2864360\ttotal: 1.11s\tremaining: 139ms\n889:\tlearn: 0.2863469\ttotal: 1.11s\tremaining: 137ms\n890:\tlearn: 0.2862651\ttotal: 1.11s\tremaining: 136ms\n891:\tlearn: 0.2862149\ttotal: 1.11s\tremaining: 135ms\n892:\tlearn: 0.2860806\ttotal: 1.11s\tremaining: 134ms\n893:\tlearn: 0.2860373\ttotal: 1.12s\tremaining: 132ms\n894:\tlearn: 0.2859324\ttotal: 1.12s\tremaining: 131ms\n895:\tlearn: 0.2858335\ttotal: 1.12s\tremaining: 130ms\n896:\tlearn: 0.2857896\ttotal: 1.12s\tremaining: 129ms\n897:\tlearn: 0.2855264\ttotal: 1.12s\tremaining: 127ms\n898:\tlearn: 0.2853893\ttotal: 1.12s\tremaining: 126ms\n899:\tlearn: 0.2853346\ttotal: 1.13s\tremaining: 125ms\n900:\tlearn: 0.2852737\ttotal: 1.13s\tremaining: 124ms\n901:\tlearn: 0.2851685\ttotal: 1.13s\tremaining: 123ms\n902:\tlearn: 0.2851151\ttotal: 1.13s\tremaining: 121ms\n903:\tlearn: 0.2850351\ttotal: 1.13s\tremaining: 120ms\n904:\tlearn: 0.2849950\ttotal: 1.13s\tremaining: 119ms\n905:\tlearn: 0.2849493\ttotal: 1.13s\tremaining: 118ms\n906:\tlearn: 0.2847537\ttotal: 1.13s\tremaining: 116ms\n907:\tlearn: 0.2846849\ttotal: 1.14s\tremaining: 115ms\n908:\tlearn: 0.2846417\ttotal: 1.14s\tremaining: 114ms\n909:\tlearn: 0.2845958\ttotal: 1.14s\tremaining: 113ms\n910:\tlearn: 0.2844919\ttotal: 1.14s\tremaining: 111ms\n911:\tlearn: 0.2844411\ttotal: 1.14s\tremaining: 110ms\n912:\tlearn: 0.2844069\ttotal: 1.14s\tremaining: 109ms\n913:\tlearn: 0.2843015\ttotal: 1.14s\tremaining: 108ms\n914:\tlearn: 0.2842339\ttotal: 1.14s\tremaining: 106ms\n915:\tlearn: 0.2841422\ttotal: 1.14s\tremaining: 105ms\n916:\tlearn: 0.2840701\ttotal: 1.15s\tremaining: 104ms\n917:\tlearn: 0.2840296\ttotal: 1.15s\tremaining: 102ms\n918:\tlearn: 0.2839820\ttotal: 1.15s\tremaining: 101ms\n919:\tlearn: 0.2838403\ttotal: 1.15s\tremaining: 100ms\n920:\tlearn: 0.2837915\ttotal: 1.15s\tremaining: 98.7ms\n921:\tlearn: 0.2837041\ttotal: 1.15s\tremaining: 97.4ms\n922:\tlearn: 0.2836670\ttotal: 1.15s\tremaining: 96.2ms\n923:\tlearn: 0.2836365\ttotal: 1.15s\tremaining: 94.9ms\n924:\tlearn: 0.2836019\ttotal: 1.16s\tremaining: 93.7ms\n925:\tlearn: 0.2835523\ttotal: 1.16s\tremaining: 92.4ms\n926:\tlearn: 0.2834708\ttotal: 1.16s\tremaining: 91.2ms\n927:\tlearn: 0.2833722\ttotal: 1.16s\tremaining: 89.9ms\n928:\tlearn: 0.2831160\ttotal: 1.16s\tremaining: 88.7ms\n929:\tlearn: 0.2830879\ttotal: 1.16s\tremaining: 87.4ms\n930:\tlearn: 0.2830319\ttotal: 1.16s\tremaining: 86.2ms\n931:\tlearn: 0.2829459\ttotal: 1.16s\tremaining: 84.9ms\n932:\tlearn: 0.2829008\ttotal: 1.17s\tremaining: 83.7ms\n933:\tlearn: 0.2828572\ttotal: 1.17s\tremaining: 82.4ms\n934:\tlearn: 0.2827257\ttotal: 1.17s\tremaining: 81.2ms\n935:\tlearn: 0.2826598\ttotal: 1.17s\tremaining: 79.9ms\n936:\tlearn: 0.2825518\ttotal: 1.17s\tremaining: 78.7ms\n937:\tlearn: 0.2824278\ttotal: 1.17s\tremaining: 77.4ms\n938:\tlearn: 0.2822753\ttotal: 1.17s\tremaining: 76.2ms\n939:\tlearn: 0.2821960\ttotal: 1.17s\tremaining: 75ms\n940:\tlearn: 0.2821615\ttotal: 1.18s\tremaining: 73.7ms\n941:\tlearn: 0.2819712\ttotal: 1.18s\tremaining: 72.5ms\n942:\tlearn: 0.2819486\ttotal: 1.18s\tremaining: 71.2ms\n943:\tlearn: 0.2818603\ttotal: 1.18s\tremaining: 70ms\n944:\tlearn: 0.2817683\ttotal: 1.18s\tremaining: 68.7ms\n945:\tlearn: 0.2817321\ttotal: 1.18s\tremaining: 67.5ms\n946:\tlearn: 0.2816053\ttotal: 1.18s\tremaining: 66.2ms\n947:\tlearn: 0.2814977\ttotal: 1.18s\tremaining: 65ms\n948:\tlearn: 0.2813243\ttotal: 1.19s\tremaining: 63.7ms\n949:\tlearn: 0.2811194\ttotal: 1.19s\tremaining: 62.5ms\n950:\tlearn: 0.2809256\ttotal: 1.19s\tremaining: 61.2ms\n951:\tlearn: 0.2808809\ttotal: 1.19s\tremaining: 60ms\n952:\tlearn: 0.2808150\ttotal: 1.19s\tremaining: 58.7ms\n953:\tlearn: 0.2807508\ttotal: 1.19s\tremaining: 57.5ms\n954:\tlearn: 0.2806610\ttotal: 1.19s\tremaining: 56.3ms\n955:\tlearn: 0.2806206\ttotal: 1.2s\tremaining: 55ms\n956:\tlearn: 0.2803926\ttotal: 1.2s\tremaining: 53.8ms\n957:\tlearn: 0.2803416\ttotal: 1.2s\tremaining: 52.5ms\n958:\tlearn: 0.2802691\ttotal: 1.2s\tremaining: 51.3ms\n959:\tlearn: 0.2800260\ttotal: 1.2s\tremaining: 50ms\n960:\tlearn: 0.2799077\ttotal: 1.2s\tremaining: 48.7ms\n961:\tlearn: 0.2798479\ttotal: 1.2s\tremaining: 47.5ms\n962:\tlearn: 0.2797975\ttotal: 1.2s\tremaining: 46.2ms\n963:\tlearn: 0.2794307\ttotal: 1.2s\tremaining: 45ms\n964:\tlearn: 0.2793420\ttotal: 1.21s\tremaining: 43.7ms\n965:\tlearn: 0.2792685\ttotal: 1.21s\tremaining: 42.5ms\n966:\tlearn: 0.2792487\ttotal: 1.21s\tremaining: 41.2ms\n967:\tlearn: 0.2791879\ttotal: 1.21s\tremaining: 40ms\n968:\tlearn: 0.2790753\ttotal: 1.21s\tremaining: 38.7ms\n969:\tlearn: 0.2790056\ttotal: 1.21s\tremaining: 37.5ms\n970:\tlearn: 0.2788739\ttotal: 1.21s\tremaining: 36.3ms\n971:\tlearn: 0.2786039\ttotal: 1.22s\tremaining: 35ms\n972:\tlearn: 0.2784891\ttotal: 1.22s\tremaining: 33.8ms\n973:\tlearn: 0.2784440\ttotal: 1.22s\tremaining: 32.5ms\n974:\tlearn: 0.2783477\ttotal: 1.22s\tremaining: 31.3ms\n975:\tlearn: 0.2783124\ttotal: 1.22s\tremaining: 30ms\n976:\tlearn: 0.2782813\ttotal: 1.22s\tremaining: 28.7ms\n977:\tlearn: 0.2782480\ttotal: 1.22s\tremaining: 27.5ms\n978:\tlearn: 0.2781347\ttotal: 1.22s\tremaining: 26.2ms\n979:\tlearn: 0.2779989\ttotal: 1.22s\tremaining: 25ms\n980:\tlearn: 0.2779517\ttotal: 1.23s\tremaining: 23.7ms\n981:\tlearn: 0.2778817\ttotal: 1.23s\tremaining: 22.5ms\n982:\tlearn: 0.2778706\ttotal: 1.23s\tremaining: 21.2ms\n983:\tlearn: 0.2778089\ttotal: 1.23s\tremaining: 20ms\n984:\tlearn: 0.2775279\ttotal: 1.23s\tremaining: 18.7ms\n985:\tlearn: 0.2774998\ttotal: 1.23s\tremaining: 17.5ms\n986:\tlearn: 0.2774513\ttotal: 1.23s\tremaining: 16.2ms\n987:\tlearn: 0.2773731\ttotal: 1.23s\tremaining: 15ms\n988:\tlearn: 0.2771560\ttotal: 1.23s\tremaining: 13.7ms\n989:\tlearn: 0.2770725\ttotal: 1.24s\tremaining: 12.5ms\n990:\tlearn: 0.2769078\ttotal: 1.24s\tremaining: 11.2ms\n991:\tlearn: 0.2768269\ttotal: 1.24s\tremaining: 9.98ms\n992:\tlearn: 0.2767577\ttotal: 1.24s\tremaining: 8.73ms\n993:\tlearn: 0.2766877\ttotal: 1.24s\tremaining: 7.48ms\n994:\tlearn: 0.2766097\ttotal: 1.24s\tremaining: 6.24ms\n995:\tlearn: 0.2763625\ttotal: 1.24s\tremaining: 4.99ms\n996:\tlearn: 0.2762603\ttotal: 1.24s\tremaining: 3.74ms\n997:\tlearn: 0.2762494\ttotal: 1.24s\tremaining: 2.49ms\n998:\tlearn: 0.2759977\ttotal: 1.25s\tremaining: 1.25ms\n999:\tlearn: 0.2759649\ttotal: 1.25s\tremaining: 0us\ndone\n",
     "output_type": "stream"
    }
   ]
  },
  {
   "cell_type": "markdown",
   "source": "# Exercise 7.1\nTrain with all data the best model",
   "metadata": {
    "id": "-7Si9ngzGTJP",
    "cell_id": "00043-a628a1c9-1094-41a9-b5c7-a94ecb252654",
    "deepnote_cell_type": "markdown"
   }
  },
  {
   "cell_type": "code",
   "metadata": {
    "deletable": false,
    "id": "monuuQhHL7B_",
    "nbgrader": {
     "cell_type": "code",
     "checksum": "088ae511ec2eb947de2bff002e75d460",
     "grade": false,
     "grade_id": "cell-031a656e1e811717",
     "locked": false,
     "schema_version": 3,
     "solution": true,
     "task": false
    },
    "colab": {
     "base_uri": "https://localhost:8080/",
     "height": 198
    },
    "outputId": "480aaab5-d3ae-4d8e-81e8-e3f2befb5c67",
    "cell_id": "00044-97d3cb7b-8fb8-4b87-a4e8-a36e1e216367",
    "deepnote_to_be_reexecuted": false,
    "source_hash": "1012ba0a",
    "execution_start": 1620313987888,
    "execution_millis": 286,
    "deepnote_cell_type": "code"
   },
   "source": "best_model = tree_classifiers[\"Skl GBM\"]\n\n# Fit best model with all data\nbest_model.fit(x,y)\n\n",
   "execution_count": null,
   "outputs": [
    {
     "output_type": "execute_result",
     "execution_count": 68,
     "data": {
      "text/plain": "Pipeline(steps=[('columntransformer',\n                 ColumnTransformer(transformers=[('cat mult',\n                                                  Pipeline(steps=[('imputer',\n                                                                   SimpleImputer(fill_value='missing',\n                                                                                 strategy='constant')),\n                                                                  ('one hot',\n                                                                   OneHotEncoder())]),\n                                                  ['Sex', 'Title']),\n                                                 ('num mult',\n                                                  Pipeline(steps=[('imputer',\n                                                                   KNNImputer()),\n                                                                  ('quantile '\n                                                                   'transformer',\n                                                                   QuantileTransformer(n_quantiles=100,\n                                                                                       random_state=0))]),\n                                                  ['Pclass', 'SibSp', 'Parch',\n                                                   'Fare', 'Age',\n                                                   'Embarked'])])),\n                ('gradientboostingclassifier', GradientBoostingClassifier())])",
      "text/html": "<style>#sk-14043731-7f21-48ad-89b1-44c2740b84e4 {color: black;background-color: white;}#sk-14043731-7f21-48ad-89b1-44c2740b84e4 pre{padding: 0;}#sk-14043731-7f21-48ad-89b1-44c2740b84e4 div.sk-toggleable {background-color: white;}#sk-14043731-7f21-48ad-89b1-44c2740b84e4 label.sk-toggleable__label {cursor: pointer;display: block;width: 100%;margin-bottom: 0;padding: 0.2em 0.3em;box-sizing: border-box;text-align: center;}#sk-14043731-7f21-48ad-89b1-44c2740b84e4 div.sk-toggleable__content {max-height: 0;max-width: 0;overflow: hidden;text-align: left;background-color: #f0f8ff;}#sk-14043731-7f21-48ad-89b1-44c2740b84e4 div.sk-toggleable__content pre {margin: 0.2em;color: black;border-radius: 0.25em;background-color: #f0f8ff;}#sk-14043731-7f21-48ad-89b1-44c2740b84e4 input.sk-toggleable__control:checked~div.sk-toggleable__content {max-height: 200px;max-width: 100%;overflow: auto;}#sk-14043731-7f21-48ad-89b1-44c2740b84e4 div.sk-estimator input.sk-toggleable__control:checked~label.sk-toggleable__label {background-color: #d4ebff;}#sk-14043731-7f21-48ad-89b1-44c2740b84e4 div.sk-label input.sk-toggleable__control:checked~label.sk-toggleable__label {background-color: #d4ebff;}#sk-14043731-7f21-48ad-89b1-44c2740b84e4 input.sk-hidden--visually {border: 0;clip: rect(1px 1px 1px 1px);clip: rect(1px, 1px, 1px, 1px);height: 1px;margin: -1px;overflow: hidden;padding: 0;position: absolute;width: 1px;}#sk-14043731-7f21-48ad-89b1-44c2740b84e4 div.sk-estimator {font-family: monospace;background-color: #f0f8ff;margin: 0.25em 0.25em;border: 1px dotted black;border-radius: 0.25em;box-sizing: border-box;}#sk-14043731-7f21-48ad-89b1-44c2740b84e4 div.sk-estimator:hover {background-color: #d4ebff;}#sk-14043731-7f21-48ad-89b1-44c2740b84e4 div.sk-parallel-item::after {content: \"\";width: 100%;border-bottom: 1px solid gray;flex-grow: 1;}#sk-14043731-7f21-48ad-89b1-44c2740b84e4 div.sk-label:hover label.sk-toggleable__label {background-color: #d4ebff;}#sk-14043731-7f21-48ad-89b1-44c2740b84e4 div.sk-serial::before {content: \"\";position: absolute;border-left: 1px solid gray;box-sizing: border-box;top: 2em;bottom: 0;left: 50%;}#sk-14043731-7f21-48ad-89b1-44c2740b84e4 div.sk-serial {display: flex;flex-direction: column;align-items: center;background-color: white;}#sk-14043731-7f21-48ad-89b1-44c2740b84e4 div.sk-item {z-index: 1;}#sk-14043731-7f21-48ad-89b1-44c2740b84e4 div.sk-parallel {display: flex;align-items: stretch;justify-content: center;background-color: white;}#sk-14043731-7f21-48ad-89b1-44c2740b84e4 div.sk-parallel-item {display: flex;flex-direction: column;position: relative;background-color: white;}#sk-14043731-7f21-48ad-89b1-44c2740b84e4 div.sk-parallel-item:first-child::after {align-self: flex-end;width: 50%;}#sk-14043731-7f21-48ad-89b1-44c2740b84e4 div.sk-parallel-item:last-child::after {align-self: flex-start;width: 50%;}#sk-14043731-7f21-48ad-89b1-44c2740b84e4 div.sk-parallel-item:only-child::after {width: 0;}#sk-14043731-7f21-48ad-89b1-44c2740b84e4 div.sk-dashed-wrapped {border: 1px dashed gray;margin: 0.2em;box-sizing: border-box;padding-bottom: 0.1em;background-color: white;position: relative;}#sk-14043731-7f21-48ad-89b1-44c2740b84e4 div.sk-label label {font-family: monospace;font-weight: bold;background-color: white;display: inline-block;line-height: 1.2em;}#sk-14043731-7f21-48ad-89b1-44c2740b84e4 div.sk-label-container {position: relative;z-index: 2;text-align: center;}#sk-14043731-7f21-48ad-89b1-44c2740b84e4 div.sk-container {display: inline-block;position: relative;}</style><div id=\"sk-14043731-7f21-48ad-89b1-44c2740b84e4\" class\"sk-top-container\"><div class=\"sk-container\"><div class=\"sk-item sk-dashed-wrapped\"><div class=\"sk-label-container\"><div class=\"sk-label sk-toggleable\"><input class=\"sk-toggleable__control sk-hidden--visually\" id=\"f550a2bf-c5de-44f9-b892-312928f3c332\" type=\"checkbox\" ><label class=\"sk-toggleable__label\" for=\"f550a2bf-c5de-44f9-b892-312928f3c332\">Pipeline</label><div class=\"sk-toggleable__content\"><pre>Pipeline(steps=[('columntransformer',\n                 ColumnTransformer(transformers=[('cat mult',\n                                                  Pipeline(steps=[('imputer',\n                                                                   SimpleImputer(fill_value='missing',\n                                                                                 strategy='constant')),\n                                                                  ('one hot',\n                                                                   OneHotEncoder())]),\n                                                  ['Sex', 'Title']),\n                                                 ('num mult',\n                                                  Pipeline(steps=[('imputer',\n                                                                   KNNImputer()),\n                                                                  ('quantile '\n                                                                   'transformer',\n                                                                   QuantileTransformer(n_quantiles=100,\n                                                                                       random_state=0))]),\n                                                  ['Pclass', 'SibSp', 'Parch',\n                                                   'Fare', 'Age',\n                                                   'Embarked'])])),\n                ('gradientboostingclassifier', GradientBoostingClassifier())])</pre></div></div></div><div class=\"sk-serial\"><div class=\"sk-item sk-dashed-wrapped\"><div class=\"sk-label-container\"><div class=\"sk-label sk-toggleable\"><input class=\"sk-toggleable__control sk-hidden--visually\" id=\"9ad3eef5-fa30-4b90-8b05-11e4289614ec\" type=\"checkbox\" ><label class=\"sk-toggleable__label\" for=\"9ad3eef5-fa30-4b90-8b05-11e4289614ec\">columntransformer: ColumnTransformer</label><div class=\"sk-toggleable__content\"><pre>ColumnTransformer(transformers=[('cat mult',\n                                 Pipeline(steps=[('imputer',\n                                                  SimpleImputer(fill_value='missing',\n                                                                strategy='constant')),\n                                                 ('one hot', OneHotEncoder())]),\n                                 ['Sex', 'Title']),\n                                ('num mult',\n                                 Pipeline(steps=[('imputer', KNNImputer()),\n                                                 ('quantile transformer',\n                                                  QuantileTransformer(n_quantiles=100,\n                                                                      random_state=0))]),\n                                 ['Pclass', 'SibSp', 'Parch', 'Fare', 'Age',\n                                  'Embarked'])])</pre></div></div></div><div class=\"sk-parallel\"><div class=\"sk-parallel-item\"><div class=\"sk-item\"><div class=\"sk-label-container\"><div class=\"sk-label sk-toggleable\"><input class=\"sk-toggleable__control sk-hidden--visually\" id=\"7fd4b058-d3bb-418a-a8c2-e68181549c44\" type=\"checkbox\" ><label class=\"sk-toggleable__label\" for=\"7fd4b058-d3bb-418a-a8c2-e68181549c44\">cat mult</label><div class=\"sk-toggleable__content\"><pre>['Sex', 'Title']</pre></div></div></div><div class=\"sk-serial\"><div class=\"sk-item\"><div class=\"sk-serial\"><div class=\"sk-item\"><div class=\"sk-estimator sk-toggleable\"><input class=\"sk-toggleable__control sk-hidden--visually\" id=\"4af6dc41-a216-483f-ab79-8366652a826c\" type=\"checkbox\" ><label class=\"sk-toggleable__label\" for=\"4af6dc41-a216-483f-ab79-8366652a826c\">SimpleImputer</label><div class=\"sk-toggleable__content\"><pre>SimpleImputer(fill_value='missing', strategy='constant')</pre></div></div></div><div class=\"sk-item\"><div class=\"sk-estimator sk-toggleable\"><input class=\"sk-toggleable__control sk-hidden--visually\" id=\"11c8254a-46ba-45e1-b60c-560a52778934\" type=\"checkbox\" ><label class=\"sk-toggleable__label\" for=\"11c8254a-46ba-45e1-b60c-560a52778934\">OneHotEncoder</label><div class=\"sk-toggleable__content\"><pre>OneHotEncoder()</pre></div></div></div></div></div></div></div></div><div class=\"sk-parallel-item\"><div class=\"sk-item\"><div class=\"sk-label-container\"><div class=\"sk-label sk-toggleable\"><input class=\"sk-toggleable__control sk-hidden--visually\" id=\"6874aeff-4beb-4038-a86b-0b474a21b15a\" type=\"checkbox\" ><label class=\"sk-toggleable__label\" for=\"6874aeff-4beb-4038-a86b-0b474a21b15a\">num mult</label><div class=\"sk-toggleable__content\"><pre>['Pclass', 'SibSp', 'Parch', 'Fare', 'Age', 'Embarked']</pre></div></div></div><div class=\"sk-serial\"><div class=\"sk-item\"><div class=\"sk-serial\"><div class=\"sk-item\"><div class=\"sk-estimator sk-toggleable\"><input class=\"sk-toggleable__control sk-hidden--visually\" id=\"daeab0de-8b86-46ba-a536-0ec461750efd\" type=\"checkbox\" ><label class=\"sk-toggleable__label\" for=\"daeab0de-8b86-46ba-a536-0ec461750efd\">KNNImputer</label><div class=\"sk-toggleable__content\"><pre>KNNImputer()</pre></div></div></div><div class=\"sk-item\"><div class=\"sk-estimator sk-toggleable\"><input class=\"sk-toggleable__control sk-hidden--visually\" id=\"52c59a4e-7422-458b-ad92-4cb5e5ce7df9\" type=\"checkbox\" ><label class=\"sk-toggleable__label\" for=\"52c59a4e-7422-458b-ad92-4cb5e5ce7df9\">QuantileTransformer</label><div class=\"sk-toggleable__content\"><pre>QuantileTransformer(n_quantiles=100, random_state=0)</pre></div></div></div></div></div></div></div></div></div></div><div class=\"sk-item\"><div class=\"sk-estimator sk-toggleable\"><input class=\"sk-toggleable__control sk-hidden--visually\" id=\"2c979701-b392-420a-98b0-e4eebb075c6c\" type=\"checkbox\" ><label class=\"sk-toggleable__label\" for=\"2c979701-b392-420a-98b0-e4eebb075c6c\">GradientBoostingClassifier</label><div class=\"sk-toggleable__content\"><pre>GradientBoostingClassifier()</pre></div></div></div></div></div></div></div>"
     },
     "metadata": {}
    }
   ]
  },
  {
   "cell_type": "markdown",
   "source": "# Exercise 7.2 (2pts)\nWith your best model, generate the predicitions for test data (x_test)",
   "metadata": {
    "id": "PV8ILwfKGTJP",
    "cell_id": "00045-46658ffa-9a29-4fe7-a201-7c5d8d0d6590",
    "deepnote_cell_type": "markdown"
   }
  },
  {
   "cell_type": "code",
   "metadata": {
    "tags": [],
    "cell_id": "00040-2faeb4a6-d459-4e1d-84dd-66bb1931dca9",
    "deepnote_to_be_reexecuted": false,
    "source_hash": "f804c160",
    "execution_start": 1620313990666,
    "execution_millis": 95,
    "deepnote_cell_type": "code"
   },
   "source": "df",
   "execution_count": null,
   "outputs": [
    {
     "output_type": "execute_result",
     "execution_count": 69,
     "data": {
      "application/vnd.deepnote.dataframe.v2+json": {
       "row_count": 891,
       "column_count": 12,
       "columns": [
        {
         "name": "Survived",
         "dtype": "int64",
         "stats": {
          "unique_count": 2,
          "nan_count": 0,
          "min": "0",
          "max": "1",
          "histogram": [
           {
            "bin_start": 0,
            "bin_end": 0.1,
            "count": 549
           },
           {
            "bin_start": 0.1,
            "bin_end": 0.2,
            "count": 0
           },
           {
            "bin_start": 0.2,
            "bin_end": 0.30000000000000004,
            "count": 0
           },
           {
            "bin_start": 0.30000000000000004,
            "bin_end": 0.4,
            "count": 0
           },
           {
            "bin_start": 0.4,
            "bin_end": 0.5,
            "count": 0
           },
           {
            "bin_start": 0.5,
            "bin_end": 0.6000000000000001,
            "count": 0
           },
           {
            "bin_start": 0.6000000000000001,
            "bin_end": 0.7000000000000001,
            "count": 0
           },
           {
            "bin_start": 0.7000000000000001,
            "bin_end": 0.8,
            "count": 0
           },
           {
            "bin_start": 0.8,
            "bin_end": 0.9,
            "count": 0
           },
           {
            "bin_start": 0.9,
            "bin_end": 1,
            "count": 342
           }
          ]
         }
        },
        {
         "name": "Pclass",
         "dtype": "int64",
         "stats": {
          "unique_count": 3,
          "nan_count": 0,
          "min": "1",
          "max": "3",
          "histogram": [
           {
            "bin_start": 1,
            "bin_end": 1.2,
            "count": 216
           },
           {
            "bin_start": 1.2,
            "bin_end": 1.4,
            "count": 0
           },
           {
            "bin_start": 1.4,
            "bin_end": 1.6,
            "count": 0
           },
           {
            "bin_start": 1.6,
            "bin_end": 1.8,
            "count": 0
           },
           {
            "bin_start": 1.8,
            "bin_end": 2,
            "count": 0
           },
           {
            "bin_start": 2,
            "bin_end": 2.2,
            "count": 184
           },
           {
            "bin_start": 2.2,
            "bin_end": 2.4000000000000004,
            "count": 0
           },
           {
            "bin_start": 2.4000000000000004,
            "bin_end": 2.6,
            "count": 0
           },
           {
            "bin_start": 2.6,
            "bin_end": 2.8,
            "count": 0
           },
           {
            "bin_start": 2.8,
            "bin_end": 3,
            "count": 491
           }
          ]
         }
        },
        {
         "name": "Name",
         "dtype": "object",
         "stats": {
          "unique_count": 891,
          "nan_count": 0,
          "categories": [
           {
            "name": "Braund, Mr. Owen Harris",
            "count": 1
           },
           {
            "name": "Cumings, Mrs. John Bradley (Florence Briggs Thayer)",
            "count": 1
           },
           {
            "name": "889 others",
            "count": 889
           }
          ]
         }
        },
        {
         "name": "Sex",
         "dtype": "object",
         "stats": {
          "unique_count": 2,
          "nan_count": 0,
          "categories": [
           {
            "name": "male",
            "count": 577
           },
           {
            "name": "female",
            "count": 314
           }
          ]
         }
        },
        {
         "name": "Age",
         "dtype": "float64",
         "stats": {
          "unique_count": 94,
          "nan_count": 0,
          "min": "0.42",
          "max": "80.0",
          "histogram": [
           {
            "bin_start": 0.42,
            "bin_end": 8.378,
            "count": 54
           },
           {
            "bin_start": 8.378,
            "bin_end": 16.336000000000002,
            "count": 46
           },
           {
            "bin_start": 16.336000000000002,
            "bin_end": 24.294000000000004,
            "count": 219
           },
           {
            "bin_start": 24.294000000000004,
            "bin_end": 32.252,
            "count": 274
           },
           {
            "bin_start": 32.252,
            "bin_end": 40.21,
            "count": 127
           },
           {
            "bin_start": 40.21,
            "bin_end": 48.168000000000006,
            "count": 91
           },
           {
            "bin_start": 48.168000000000006,
            "bin_end": 56.126000000000005,
            "count": 45
           },
           {
            "bin_start": 56.126000000000005,
            "bin_end": 64.084,
            "count": 24
           },
           {
            "bin_start": 64.084,
            "bin_end": 72.042,
            "count": 9
           },
           {
            "bin_start": 72.042,
            "bin_end": 80,
            "count": 2
           }
          ]
         }
        },
        {
         "name": "SibSp",
         "dtype": "int64",
         "stats": {
          "unique_count": 7,
          "nan_count": 0,
          "min": "0",
          "max": "8",
          "histogram": [
           {
            "bin_start": 0,
            "bin_end": 0.8,
            "count": 608
           },
           {
            "bin_start": 0.8,
            "bin_end": 1.6,
            "count": 209
           },
           {
            "bin_start": 1.6,
            "bin_end": 2.4000000000000004,
            "count": 28
           },
           {
            "bin_start": 2.4000000000000004,
            "bin_end": 3.2,
            "count": 16
           },
           {
            "bin_start": 3.2,
            "bin_end": 4,
            "count": 0
           },
           {
            "bin_start": 4,
            "bin_end": 4.800000000000001,
            "count": 18
           },
           {
            "bin_start": 4.800000000000001,
            "bin_end": 5.6000000000000005,
            "count": 5
           },
           {
            "bin_start": 5.6000000000000005,
            "bin_end": 6.4,
            "count": 0
           },
           {
            "bin_start": 6.4,
            "bin_end": 7.2,
            "count": 0
           },
           {
            "bin_start": 7.2,
            "bin_end": 8,
            "count": 7
           }
          ]
         }
        },
        {
         "name": "Parch",
         "dtype": "int64",
         "stats": {
          "unique_count": 7,
          "nan_count": 0,
          "min": "0",
          "max": "6",
          "histogram": [
           {
            "bin_start": 0,
            "bin_end": 0.6,
            "count": 678
           },
           {
            "bin_start": 0.6,
            "bin_end": 1.2,
            "count": 118
           },
           {
            "bin_start": 1.2,
            "bin_end": 1.7999999999999998,
            "count": 0
           },
           {
            "bin_start": 1.7999999999999998,
            "bin_end": 2.4,
            "count": 80
           },
           {
            "bin_start": 2.4,
            "bin_end": 3,
            "count": 0
           },
           {
            "bin_start": 3,
            "bin_end": 3.5999999999999996,
            "count": 5
           },
           {
            "bin_start": 3.5999999999999996,
            "bin_end": 4.2,
            "count": 4
           },
           {
            "bin_start": 4.2,
            "bin_end": 4.8,
            "count": 0
           },
           {
            "bin_start": 4.8,
            "bin_end": 5.3999999999999995,
            "count": 5
           },
           {
            "bin_start": 5.3999999999999995,
            "bin_end": 6,
            "count": 1
           }
          ]
         }
        },
        {
         "name": "Ticket",
         "dtype": "object",
         "stats": {
          "unique_count": 681,
          "nan_count": 0,
          "categories": [
           {
            "name": "347082",
            "count": 7
           },
           {
            "name": "1601",
            "count": 7
           },
           {
            "name": "679 others",
            "count": 877
           }
          ]
         }
        },
        {
         "name": "Fare",
         "dtype": "float64",
         "stats": {
          "unique_count": 248,
          "nan_count": 0,
          "min": "0.0",
          "max": "512.3292",
          "histogram": [
           {
            "bin_start": 0,
            "bin_end": 51.23292,
            "count": 732
           },
           {
            "bin_start": 51.23292,
            "bin_end": 102.46584,
            "count": 106
           },
           {
            "bin_start": 102.46584,
            "bin_end": 153.69876,
            "count": 31
           },
           {
            "bin_start": 153.69876,
            "bin_end": 204.93168,
            "count": 2
           },
           {
            "bin_start": 204.93168,
            "bin_end": 256.1646,
            "count": 11
           },
           {
            "bin_start": 256.1646,
            "bin_end": 307.39752,
            "count": 6
           },
           {
            "bin_start": 307.39752,
            "bin_end": 358.63044,
            "count": 0
           },
           {
            "bin_start": 358.63044,
            "bin_end": 409.86336,
            "count": 0
           },
           {
            "bin_start": 409.86336,
            "bin_end": 461.09628,
            "count": 0
           },
           {
            "bin_start": 461.09628,
            "bin_end": 512.3292,
            "count": 3
           }
          ]
         }
        },
        {
         "name": "Cabin",
         "dtype": "int64",
         "stats": {
          "unique_count": 2,
          "nan_count": 0,
          "min": "0",
          "max": "1",
          "histogram": [
           {
            "bin_start": 0,
            "bin_end": 0.1,
            "count": 687
           },
           {
            "bin_start": 0.1,
            "bin_end": 0.2,
            "count": 0
           },
           {
            "bin_start": 0.2,
            "bin_end": 0.30000000000000004,
            "count": 0
           },
           {
            "bin_start": 0.30000000000000004,
            "bin_end": 0.4,
            "count": 0
           },
           {
            "bin_start": 0.4,
            "bin_end": 0.5,
            "count": 0
           },
           {
            "bin_start": 0.5,
            "bin_end": 0.6000000000000001,
            "count": 0
           },
           {
            "bin_start": 0.6000000000000001,
            "bin_end": 0.7000000000000001,
            "count": 0
           },
           {
            "bin_start": 0.7000000000000001,
            "bin_end": 0.8,
            "count": 0
           },
           {
            "bin_start": 0.8,
            "bin_end": 0.9,
            "count": 0
           },
           {
            "bin_start": 0.9,
            "bin_end": 1,
            "count": 204
           }
          ]
         }
        },
        {
         "name": "Embarked",
         "dtype": "float64",
         "stats": {
          "unique_count": 4,
          "nan_count": 0,
          "min": "0.33695652173913043",
          "max": "1.0",
          "histogram": [
           {
            "bin_start": 0.33695652173913043,
            "bin_end": 0.4032608695652174,
            "count": 721
           },
           {
            "bin_start": 0.4032608695652174,
            "bin_end": 0.46956521739130436,
            "count": 0
           },
           {
            "bin_start": 0.46956521739130436,
            "bin_end": 0.5358695652173913,
            "count": 0
           },
           {
            "bin_start": 0.5358695652173913,
            "bin_end": 0.6021739130434782,
            "count": 168
           },
           {
            "bin_start": 0.6021739130434782,
            "bin_end": 0.6684782608695652,
            "count": 0
           },
           {
            "bin_start": 0.6684782608695652,
            "bin_end": 0.7347826086956522,
            "count": 0
           },
           {
            "bin_start": 0.7347826086956522,
            "bin_end": 0.8010869565217391,
            "count": 0
           },
           {
            "bin_start": 0.8010869565217391,
            "bin_end": 0.8673913043478261,
            "count": 0
           },
           {
            "bin_start": 0.8673913043478261,
            "bin_end": 0.933695652173913,
            "count": 0
           },
           {
            "bin_start": 0.933695652173913,
            "bin_end": 1,
            "count": 2
           }
          ]
         }
        },
        {
         "name": "Title",
         "dtype": "object",
         "stats": {
          "unique_count": 6,
          "nan_count": 0,
          "categories": [
           {
            "name": "Mr",
            "count": 517
           },
           {
            "name": "Miss",
            "count": 184
           },
           {
            "name": "4 others",
            "count": 190
           }
          ]
         }
        },
        {
         "name": "_deepnote_index_column",
         "dtype": "int64"
        }
       ],
       "rows_top": [
        {
         "Survived": 0,
         "Pclass": 3,
         "Name": "Braund, Mr. Owen Harris",
         "Sex": "male",
         "Age": 22,
         "SibSp": 1,
         "Parch": 0,
         "Ticket": "A/5 21171",
         "Fare": 7.25,
         "Cabin": 0,
         "Embarked": 0.33695652173913043,
         "Title": "Mr",
         "_deepnote_index_column": 1
        },
        {
         "Survived": 1,
         "Pclass": 1,
         "Name": "Cumings, Mrs. John Bradley (Florence Briggs Thayer)",
         "Sex": "female",
         "Age": 38,
         "SibSp": 1,
         "Parch": 0,
         "Ticket": "PC 17599",
         "Fare": 71.2833,
         "Cabin": 1,
         "Embarked": 0.5535714285714286,
         "Title": "Mrs",
         "_deepnote_index_column": 2
        },
        {
         "Survived": 1,
         "Pclass": 3,
         "Name": "Heikkinen, Miss. Laina",
         "Sex": "female",
         "Age": 26,
         "SibSp": 0,
         "Parch": 0,
         "Ticket": "STON/O2. 3101282",
         "Fare": 7.925,
         "Cabin": 0,
         "Embarked": 0.33695652173913043,
         "Title": "Miss",
         "_deepnote_index_column": 3
        },
        {
         "Survived": 1,
         "Pclass": 1,
         "Name": "Futrelle, Mrs. Jacques Heath (Lily May Peel)",
         "Sex": "female",
         "Age": 35,
         "SibSp": 1,
         "Parch": 0,
         "Ticket": "113803",
         "Fare": 53.1,
         "Cabin": 1,
         "Embarked": 0.33695652173913043,
         "Title": "Mrs",
         "_deepnote_index_column": 4
        },
        {
         "Survived": 0,
         "Pclass": 3,
         "Name": "Allen, Mr. William Henry",
         "Sex": "male",
         "Age": 35,
         "SibSp": 0,
         "Parch": 0,
         "Ticket": "373450",
         "Fare": 8.05,
         "Cabin": 0,
         "Embarked": 0.33695652173913043,
         "Title": "Mr",
         "_deepnote_index_column": 5
        },
        {
         "Survived": 0,
         "Pclass": 3,
         "Name": "Moran, Mr. James",
         "Sex": "male",
         "Age": 26.507588932806325,
         "SibSp": 0,
         "Parch": 0,
         "Ticket": "330877",
         "Fare": 8.4583,
         "Cabin": 0,
         "Embarked": 0.38961038961038963,
         "Title": "Mr",
         "_deepnote_index_column": 6
        },
        {
         "Survived": 0,
         "Pclass": 1,
         "Name": "McCarthy, Mr. Timothy J",
         "Sex": "male",
         "Age": 54,
         "SibSp": 0,
         "Parch": 0,
         "Ticket": "17463",
         "Fare": 51.8625,
         "Cabin": 1,
         "Embarked": 0.33695652173913043,
         "Title": "Mr",
         "_deepnote_index_column": 7
        },
        {
         "Survived": 0,
         "Pclass": 3,
         "Name": "Palsson, Master. Gosta Leonard",
         "Sex": "male",
         "Age": 2,
         "SibSp": 3,
         "Parch": 1,
         "Ticket": "349909",
         "Fare": 21.075,
         "Cabin": 0,
         "Embarked": 0.33695652173913043,
         "Title": "Master",
         "_deepnote_index_column": 8
        },
        {
         "Survived": 1,
         "Pclass": 3,
         "Name": "Johnson, Mrs. Oscar W (Elisabeth Vilhelmina Berg)",
         "Sex": "female",
         "Age": 27,
         "SibSp": 0,
         "Parch": 2,
         "Ticket": "347742",
         "Fare": 11.1333,
         "Cabin": 0,
         "Embarked": 0.33695652173913043,
         "Title": "Mrs",
         "_deepnote_index_column": 9
        },
        {
         "Survived": 1,
         "Pclass": 2,
         "Name": "Nasser, Mrs. Nicholas (Adele Achem)",
         "Sex": "female",
         "Age": 14,
         "SibSp": 1,
         "Parch": 0,
         "Ticket": "237736",
         "Fare": 30.0708,
         "Cabin": 0,
         "Embarked": 0.5535714285714286,
         "Title": "Mrs",
         "_deepnote_index_column": 10
        },
        {
         "Survived": 1,
         "Pclass": 3,
         "Name": "Sandstrom, Miss. Marguerite Rut",
         "Sex": "female",
         "Age": 4,
         "SibSp": 1,
         "Parch": 1,
         "Ticket": "PP 9549",
         "Fare": 16.7,
         "Cabin": 1,
         "Embarked": 0.33695652173913043,
         "Title": "Miss",
         "_deepnote_index_column": 11
        },
        {
         "Survived": 1,
         "Pclass": 1,
         "Name": "Bonnell, Miss. Elizabeth",
         "Sex": "female",
         "Age": 58,
         "SibSp": 0,
         "Parch": 0,
         "Ticket": "113783",
         "Fare": 26.55,
         "Cabin": 1,
         "Embarked": 0.33695652173913043,
         "Title": "Miss",
         "_deepnote_index_column": 12
        },
        {
         "Survived": 0,
         "Pclass": 3,
         "Name": "Saundercock, Mr. William Henry",
         "Sex": "male",
         "Age": 20,
         "SibSp": 0,
         "Parch": 0,
         "Ticket": "A/5. 2151",
         "Fare": 8.05,
         "Cabin": 0,
         "Embarked": 0.33695652173913043,
         "Title": "Mr",
         "_deepnote_index_column": 13
        },
        {
         "Survived": 0,
         "Pclass": 3,
         "Name": "Andersson, Mr. Anders Johan",
         "Sex": "male",
         "Age": 39,
         "SibSp": 1,
         "Parch": 5,
         "Ticket": "347082",
         "Fare": 31.275,
         "Cabin": 0,
         "Embarked": 0.33695652173913043,
         "Title": "Mr",
         "_deepnote_index_column": 14
        },
        {
         "Survived": 0,
         "Pclass": 3,
         "Name": "Vestrom, Miss. Hulda Amanda Adolfina",
         "Sex": "female",
         "Age": 14,
         "SibSp": 0,
         "Parch": 0,
         "Ticket": "350406",
         "Fare": 7.8542,
         "Cabin": 0,
         "Embarked": 0.33695652173913043,
         "Title": "Miss",
         "_deepnote_index_column": 15
        },
        {
         "Survived": 1,
         "Pclass": 2,
         "Name": "Hewlett, Mrs. (Mary D Kingcome) ",
         "Sex": "female",
         "Age": 55,
         "SibSp": 0,
         "Parch": 0,
         "Ticket": "248706",
         "Fare": 16,
         "Cabin": 0,
         "Embarked": 0.33695652173913043,
         "Title": "Mrs",
         "_deepnote_index_column": 16
        },
        {
         "Survived": 0,
         "Pclass": 3,
         "Name": "Rice, Master. Eugene",
         "Sex": "male",
         "Age": 2,
         "SibSp": 4,
         "Parch": 1,
         "Ticket": "382652",
         "Fare": 29.125,
         "Cabin": 0,
         "Embarked": 0.38961038961038963,
         "Title": "Master",
         "_deepnote_index_column": 17
        },
        {
         "Survived": 1,
         "Pclass": 2,
         "Name": "Williams, Mr. Charles Eugene",
         "Sex": "male",
         "Age": 30.74070707070707,
         "SibSp": 0,
         "Parch": 0,
         "Ticket": "244373",
         "Fare": 13,
         "Cabin": 0,
         "Embarked": 0.33695652173913043,
         "Title": "Mr",
         "_deepnote_index_column": 18
        },
        {
         "Survived": 0,
         "Pclass": 3,
         "Name": "Vander Planke, Mrs. Julius (Emelia Maria Vandemoortele)",
         "Sex": "female",
         "Age": 31,
         "SibSp": 1,
         "Parch": 0,
         "Ticket": "345763",
         "Fare": 18,
         "Cabin": 0,
         "Embarked": 0.33695652173913043,
         "Title": "Mrs",
         "_deepnote_index_column": 19
        },
        {
         "Survived": 1,
         "Pclass": 3,
         "Name": "Masselmani, Mrs. Fatima",
         "Sex": "female",
         "Age": 21.75,
         "SibSp": 0,
         "Parch": 0,
         "Ticket": "2649",
         "Fare": 7.225,
         "Cabin": 0,
         "Embarked": 0.5535714285714286,
         "Title": "Mrs",
         "_deepnote_index_column": 20
        },
        {
         "Survived": 0,
         "Pclass": 2,
         "Name": "Fynney, Mr. Joseph J",
         "Sex": "male",
         "Age": 35,
         "SibSp": 0,
         "Parch": 0,
         "Ticket": "239865",
         "Fare": 26,
         "Cabin": 0,
         "Embarked": 0.33695652173913043,
         "Title": "Mr",
         "_deepnote_index_column": 21
        },
        {
         "Survived": 1,
         "Pclass": 2,
         "Name": "Beesley, Mr. Lawrence",
         "Sex": "male",
         "Age": 34,
         "SibSp": 0,
         "Parch": 0,
         "Ticket": "248698",
         "Fare": 13,
         "Cabin": 1,
         "Embarked": 0.33695652173913043,
         "Title": "Mr",
         "_deepnote_index_column": 22
        },
        {
         "Survived": 1,
         "Pclass": 3,
         "Name": "McGowan, Miss. Anna \"Annie\"",
         "Sex": "female",
         "Age": 15,
         "SibSp": 0,
         "Parch": 0,
         "Ticket": "330923",
         "Fare": 8.0292,
         "Cabin": 0,
         "Embarked": 0.38961038961038963,
         "Title": "Miss",
         "_deepnote_index_column": 23
        },
        {
         "Survived": 1,
         "Pclass": 1,
         "Name": "Sloper, Mr. William Thompson",
         "Sex": "male",
         "Age": 28,
         "SibSp": 0,
         "Parch": 0,
         "Ticket": "113788",
         "Fare": 35.5,
         "Cabin": 1,
         "Embarked": 0.33695652173913043,
         "Title": "Mr",
         "_deepnote_index_column": 24
        },
        {
         "Survived": 0,
         "Pclass": 3,
         "Name": "Palsson, Miss. Torborg Danira",
         "Sex": "female",
         "Age": 8,
         "SibSp": 3,
         "Parch": 1,
         "Ticket": "349909",
         "Fare": 21.075,
         "Cabin": 0,
         "Embarked": 0.33695652173913043,
         "Title": "Miss",
         "_deepnote_index_column": 25
        },
        {
         "Survived": 1,
         "Pclass": 3,
         "Name": "Asplund, Mrs. Carl Oscar (Selma Augusta Emilia Johansson)",
         "Sex": "female",
         "Age": 38,
         "SibSp": 1,
         "Parch": 5,
         "Ticket": "347077",
         "Fare": 31.3875,
         "Cabin": 0,
         "Embarked": 0.33695652173913043,
         "Title": "Mrs",
         "_deepnote_index_column": 26
        },
        {
         "Survived": 0,
         "Pclass": 3,
         "Name": "Emir, Mr. Farred Chehab",
         "Sex": "male",
         "Age": 26.507588932806325,
         "SibSp": 0,
         "Parch": 0,
         "Ticket": "2631",
         "Fare": 7.225,
         "Cabin": 0,
         "Embarked": 0.5535714285714286,
         "Title": "Mr",
         "_deepnote_index_column": 27
        },
        {
         "Survived": 0,
         "Pclass": 1,
         "Name": "Fortune, Mr. Charles Alexander",
         "Sex": "male",
         "Age": 19,
         "SibSp": 3,
         "Parch": 2,
         "Ticket": "19950",
         "Fare": 263,
         "Cabin": 1,
         "Embarked": 0.33695652173913043,
         "Title": "Mr",
         "_deepnote_index_column": 28
        },
        {
         "Survived": 1,
         "Pclass": 3,
         "Name": "O'Dwyer, Miss. Ellen \"Nellie\"",
         "Sex": "female",
         "Age": 21.75,
         "SibSp": 0,
         "Parch": 0,
         "Ticket": "330959",
         "Fare": 7.8792,
         "Cabin": 0,
         "Embarked": 0.38961038961038963,
         "Title": "Miss",
         "_deepnote_index_column": 29
        },
        {
         "Survived": 0,
         "Pclass": 3,
         "Name": "Todoroff, Mr. Lalio",
         "Sex": "male",
         "Age": 26.507588932806325,
         "SibSp": 0,
         "Parch": 0,
         "Ticket": "349216",
         "Fare": 7.8958,
         "Cabin": 0,
         "Embarked": 0.33695652173913043,
         "Title": "Mr",
         "_deepnote_index_column": 30
        },
        {
         "Survived": 0,
         "Pclass": 1,
         "Name": "Uruchurtu, Don. Manuel E",
         "Sex": "male",
         "Age": 40,
         "SibSp": 0,
         "Parch": 0,
         "Ticket": "PC 17601",
         "Fare": 27.7208,
         "Cabin": 0,
         "Embarked": 0.5535714285714286,
         "Title": "Royalty",
         "_deepnote_index_column": 31
        },
        {
         "Survived": 1,
         "Pclass": 1,
         "Name": "Spencer, Mrs. William Augustus (Marie Eugenie)",
         "Sex": "female",
         "Age": 34.61176470588235,
         "SibSp": 1,
         "Parch": 0,
         "Ticket": "PC 17569",
         "Fare": 146.5208,
         "Cabin": 1,
         "Embarked": 0.5535714285714286,
         "Title": "Mrs",
         "_deepnote_index_column": 32
        },
        {
         "Survived": 1,
         "Pclass": 3,
         "Name": "Glynn, Miss. Mary Agatha",
         "Sex": "female",
         "Age": 21.75,
         "SibSp": 0,
         "Parch": 0,
         "Ticket": "335677",
         "Fare": 7.75,
         "Cabin": 0,
         "Embarked": 0.38961038961038963,
         "Title": "Miss",
         "_deepnote_index_column": 33
        },
        {
         "Survived": 0,
         "Pclass": 2,
         "Name": "Wheadon, Mr. Edward H",
         "Sex": "male",
         "Age": 66,
         "SibSp": 0,
         "Parch": 0,
         "Ticket": "C.A. 24579",
         "Fare": 10.5,
         "Cabin": 0,
         "Embarked": 0.33695652173913043,
         "Title": "Mr",
         "_deepnote_index_column": 34
        },
        {
         "Survived": 0,
         "Pclass": 1,
         "Name": "Meyer, Mr. Edgar Joseph",
         "Sex": "male",
         "Age": 28,
         "SibSp": 1,
         "Parch": 0,
         "Ticket": "PC 17604",
         "Fare": 82.1708,
         "Cabin": 0,
         "Embarked": 0.5535714285714286,
         "Title": "Mr",
         "_deepnote_index_column": 35
        },
        {
         "Survived": 0,
         "Pclass": 1,
         "Name": "Holverson, Mr. Alexander Oskar",
         "Sex": "male",
         "Age": 42,
         "SibSp": 1,
         "Parch": 0,
         "Ticket": "113789",
         "Fare": 52,
         "Cabin": 0,
         "Embarked": 0.33695652173913043,
         "Title": "Mr",
         "_deepnote_index_column": 36
        },
        {
         "Survived": 1,
         "Pclass": 3,
         "Name": "Mamee, Mr. Hanna",
         "Sex": "male",
         "Age": 26.507588932806325,
         "SibSp": 0,
         "Parch": 0,
         "Ticket": "2677",
         "Fare": 7.2292,
         "Cabin": 0,
         "Embarked": 0.5535714285714286,
         "Title": "Mr",
         "_deepnote_index_column": 37
        },
        {
         "Survived": 0,
         "Pclass": 3,
         "Name": "Cann, Mr. Ernest Charles",
         "Sex": "male",
         "Age": 21,
         "SibSp": 0,
         "Parch": 0,
         "Ticket": "A./5. 2152",
         "Fare": 8.05,
         "Cabin": 0,
         "Embarked": 0.33695652173913043,
         "Title": "Mr",
         "_deepnote_index_column": 38
        },
        {
         "Survived": 0,
         "Pclass": 3,
         "Name": "Vander Planke, Miss. Augusta Maria",
         "Sex": "female",
         "Age": 18,
         "SibSp": 2,
         "Parch": 0,
         "Ticket": "345764",
         "Fare": 18,
         "Cabin": 0,
         "Embarked": 0.33695652173913043,
         "Title": "Miss",
         "_deepnote_index_column": 39
        },
        {
         "Survived": 1,
         "Pclass": 3,
         "Name": "Nicola-Yarred, Miss. Jamila",
         "Sex": "female",
         "Age": 14,
         "SibSp": 1,
         "Parch": 0,
         "Ticket": "2651",
         "Fare": 11.2417,
         "Cabin": 0,
         "Embarked": 0.5535714285714286,
         "Title": "Miss",
         "_deepnote_index_column": 40
        },
        {
         "Survived": 0,
         "Pclass": 3,
         "Name": "Ahlin, Mrs. Johan (Johanna Persdotter Larsson)",
         "Sex": "female",
         "Age": 40,
         "SibSp": 1,
         "Parch": 0,
         "Ticket": "7546",
         "Fare": 9.475,
         "Cabin": 0,
         "Embarked": 0.33695652173913043,
         "Title": "Mrs",
         "_deepnote_index_column": 41
        }
       ],
       "rows_bottom": [
        {
         "Survived": 1,
         "Pclass": 1,
         "Name": "Goldenberg, Mrs. Samuel L (Edwiga Grabowska)",
         "Sex": "female",
         "Age": 34.61176470588235,
         "SibSp": 1,
         "Parch": 0,
         "Ticket": "17453",
         "Fare": 89.1042,
         "Cabin": 1,
         "Embarked": 0.5535714285714286,
         "Title": "Mrs",
         "_deepnote_index_column": 850
        },
        {
         "Survived": 0,
         "Pclass": 3,
         "Name": "Andersson, Master. Sigvard Harald Elias",
         "Sex": "male",
         "Age": 4,
         "SibSp": 4,
         "Parch": 2,
         "Ticket": "347082",
         "Fare": 31.275,
         "Cabin": 0,
         "Embarked": 0.33695652173913043,
         "Title": "Master",
         "_deepnote_index_column": 851
        },
        {
         "Survived": 0,
         "Pclass": 3,
         "Name": "Svensson, Mr. Johan",
         "Sex": "male",
         "Age": 74,
         "SibSp": 0,
         "Parch": 0,
         "Ticket": "347060",
         "Fare": 7.775,
         "Cabin": 0,
         "Embarked": 0.33695652173913043,
         "Title": "Mr",
         "_deepnote_index_column": 852
        },
        {
         "Survived": 0,
         "Pclass": 3,
         "Name": "Boulos, Miss. Nourelain",
         "Sex": "female",
         "Age": 9,
         "SibSp": 1,
         "Parch": 1,
         "Ticket": "2678",
         "Fare": 15.2458,
         "Cabin": 0,
         "Embarked": 0.5535714285714286,
         "Title": "Miss",
         "_deepnote_index_column": 853
        },
        {
         "Survived": 1,
         "Pclass": 1,
         "Name": "Lines, Miss. Mary Conover",
         "Sex": "female",
         "Age": 16,
         "SibSp": 0,
         "Parch": 1,
         "Ticket": "PC 17592",
         "Fare": 39.4,
         "Cabin": 1,
         "Embarked": 0.33695652173913043,
         "Title": "Miss",
         "_deepnote_index_column": 854
        },
        {
         "Survived": 0,
         "Pclass": 2,
         "Name": "Carter, Mrs. Ernest Courtenay (Lilian Hughes)",
         "Sex": "female",
         "Age": 44,
         "SibSp": 1,
         "Parch": 0,
         "Ticket": "244252",
         "Fare": 26,
         "Cabin": 0,
         "Embarked": 0.33695652173913043,
         "Title": "Mrs",
         "_deepnote_index_column": 855
        },
        {
         "Survived": 1,
         "Pclass": 3,
         "Name": "Aks, Mrs. Sam (Leah Rosen)",
         "Sex": "female",
         "Age": 18,
         "SibSp": 0,
         "Parch": 1,
         "Ticket": "392091",
         "Fare": 9.35,
         "Cabin": 0,
         "Embarked": 0.33695652173913043,
         "Title": "Mrs",
         "_deepnote_index_column": 856
        },
        {
         "Survived": 1,
         "Pclass": 1,
         "Name": "Wick, Mrs. George Dennick (Mary Hitchcock)",
         "Sex": "female",
         "Age": 45,
         "SibSp": 1,
         "Parch": 1,
         "Ticket": "36928",
         "Fare": 164.8667,
         "Cabin": 0,
         "Embarked": 0.33695652173913043,
         "Title": "Mrs",
         "_deepnote_index_column": 857
        },
        {
         "Survived": 1,
         "Pclass": 1,
         "Name": "Daly, Mr. Peter Denis ",
         "Sex": "male",
         "Age": 51,
         "SibSp": 0,
         "Parch": 0,
         "Ticket": "113055",
         "Fare": 26.55,
         "Cabin": 1,
         "Embarked": 0.33695652173913043,
         "Title": "Mr",
         "_deepnote_index_column": 858
        },
        {
         "Survived": 1,
         "Pclass": 3,
         "Name": "Baclini, Mrs. Solomon (Latifa Qurban)",
         "Sex": "female",
         "Age": 24,
         "SibSp": 0,
         "Parch": 3,
         "Ticket": "2666",
         "Fare": 19.2583,
         "Cabin": 0,
         "Embarked": 0.5535714285714286,
         "Title": "Mrs",
         "_deepnote_index_column": 859
        },
        {
         "Survived": 0,
         "Pclass": 3,
         "Name": "Razi, Mr. Raihed",
         "Sex": "male",
         "Age": 26.507588932806325,
         "SibSp": 0,
         "Parch": 0,
         "Ticket": "2629",
         "Fare": 7.2292,
         "Cabin": 0,
         "Embarked": 0.5535714285714286,
         "Title": "Mr",
         "_deepnote_index_column": 860
        },
        {
         "Survived": 0,
         "Pclass": 3,
         "Name": "Hansen, Mr. Claus Peter",
         "Sex": "male",
         "Age": 41,
         "SibSp": 2,
         "Parch": 0,
         "Ticket": "350026",
         "Fare": 14.1083,
         "Cabin": 0,
         "Embarked": 0.33695652173913043,
         "Title": "Mr",
         "_deepnote_index_column": 861
        },
        {
         "Survived": 0,
         "Pclass": 2,
         "Name": "Giles, Mr. Frederick Edward",
         "Sex": "male",
         "Age": 21,
         "SibSp": 1,
         "Parch": 0,
         "Ticket": "28134",
         "Fare": 11.5,
         "Cabin": 0,
         "Embarked": 0.33695652173913043,
         "Title": "Mr",
         "_deepnote_index_column": 862
        },
        {
         "Survived": 1,
         "Pclass": 1,
         "Name": "Swift, Mrs. Frederick Joel (Margaret Welles Barron)",
         "Sex": "female",
         "Age": 48,
         "SibSp": 0,
         "Parch": 0,
         "Ticket": "17466",
         "Fare": 25.9292,
         "Cabin": 1,
         "Embarked": 0.33695652173913043,
         "Title": "Mrs",
         "_deepnote_index_column": 863
        },
        {
         "Survived": 0,
         "Pclass": 3,
         "Name": "Sage, Miss. Dorothy Edith \"Dolly\"",
         "Sex": "female",
         "Age": 21.75,
         "SibSp": 8,
         "Parch": 2,
         "Ticket": "CA. 2343",
         "Fare": 69.55,
         "Cabin": 0,
         "Embarked": 0.33695652173913043,
         "Title": "Miss",
         "_deepnote_index_column": 864
        },
        {
         "Survived": 0,
         "Pclass": 2,
         "Name": "Gill, Mr. John William",
         "Sex": "male",
         "Age": 24,
         "SibSp": 0,
         "Parch": 0,
         "Ticket": "233866",
         "Fare": 13,
         "Cabin": 0,
         "Embarked": 0.33695652173913043,
         "Title": "Mr",
         "_deepnote_index_column": 865
        },
        {
         "Survived": 1,
         "Pclass": 2,
         "Name": "Bystrom, Mrs. (Karolina)",
         "Sex": "female",
         "Age": 42,
         "SibSp": 0,
         "Parch": 0,
         "Ticket": "236852",
         "Fare": 13,
         "Cabin": 0,
         "Embarked": 0.33695652173913043,
         "Title": "Mrs",
         "_deepnote_index_column": 866
        },
        {
         "Survived": 1,
         "Pclass": 2,
         "Name": "Duran y More, Miss. Asuncion",
         "Sex": "female",
         "Age": 27,
         "SibSp": 1,
         "Parch": 0,
         "Ticket": "SC/PARIS 2149",
         "Fare": 13.8583,
         "Cabin": 0,
         "Embarked": 0.5535714285714286,
         "Title": "Miss",
         "_deepnote_index_column": 867
        },
        {
         "Survived": 0,
         "Pclass": 1,
         "Name": "Roebling, Mr. Washington Augustus II",
         "Sex": "male",
         "Age": 31,
         "SibSp": 0,
         "Parch": 0,
         "Ticket": "PC 17590",
         "Fare": 50.4958,
         "Cabin": 1,
         "Embarked": 0.33695652173913043,
         "Title": "Mr",
         "_deepnote_index_column": 868
        },
        {
         "Survived": 0,
         "Pclass": 3,
         "Name": "van Melkebeke, Mr. Philemon",
         "Sex": "male",
         "Age": 26.507588932806325,
         "SibSp": 0,
         "Parch": 0,
         "Ticket": "345777",
         "Fare": 9.5,
         "Cabin": 0,
         "Embarked": 0.33695652173913043,
         "Title": "Mr",
         "_deepnote_index_column": 869
        },
        {
         "Survived": 1,
         "Pclass": 3,
         "Name": "Johnson, Master. Harold Theodor",
         "Sex": "male",
         "Age": 4,
         "SibSp": 1,
         "Parch": 1,
         "Ticket": "347742",
         "Fare": 11.1333,
         "Cabin": 0,
         "Embarked": 0.33695652173913043,
         "Title": "Master",
         "_deepnote_index_column": 870
        },
        {
         "Survived": 0,
         "Pclass": 3,
         "Name": "Balkic, Mr. Cerin",
         "Sex": "male",
         "Age": 26,
         "SibSp": 0,
         "Parch": 0,
         "Ticket": "349248",
         "Fare": 7.8958,
         "Cabin": 0,
         "Embarked": 0.33695652173913043,
         "Title": "Mr",
         "_deepnote_index_column": 871
        },
        {
         "Survived": 1,
         "Pclass": 1,
         "Name": "Beckwith, Mrs. Richard Leonard (Sallie Monypeny)",
         "Sex": "female",
         "Age": 47,
         "SibSp": 1,
         "Parch": 1,
         "Ticket": "11751",
         "Fare": 52.5542,
         "Cabin": 1,
         "Embarked": 0.33695652173913043,
         "Title": "Mrs",
         "_deepnote_index_column": 872
        },
        {
         "Survived": 0,
         "Pclass": 1,
         "Name": "Carlsson, Mr. Frans Olof",
         "Sex": "male",
         "Age": 33,
         "SibSp": 0,
         "Parch": 0,
         "Ticket": "695",
         "Fare": 5,
         "Cabin": 1,
         "Embarked": 0.33695652173913043,
         "Title": "Mr",
         "_deepnote_index_column": 873
        },
        {
         "Survived": 0,
         "Pclass": 3,
         "Name": "Vander Cruyssen, Mr. Victor",
         "Sex": "male",
         "Age": 47,
         "SibSp": 0,
         "Parch": 0,
         "Ticket": "345765",
         "Fare": 9,
         "Cabin": 0,
         "Embarked": 0.33695652173913043,
         "Title": "Mr",
         "_deepnote_index_column": 874
        },
        {
         "Survived": 1,
         "Pclass": 2,
         "Name": "Abelson, Mrs. Samuel (Hannah Wizosky)",
         "Sex": "female",
         "Age": 28,
         "SibSp": 1,
         "Parch": 0,
         "Ticket": "P/PP 3381",
         "Fare": 24,
         "Cabin": 0,
         "Embarked": 0.5535714285714286,
         "Title": "Mrs",
         "_deepnote_index_column": 875
        },
        {
         "Survived": 1,
         "Pclass": 3,
         "Name": "Najib, Miss. Adele Kiamie \"Jane\"",
         "Sex": "female",
         "Age": 15,
         "SibSp": 0,
         "Parch": 0,
         "Ticket": "2667",
         "Fare": 7.225,
         "Cabin": 0,
         "Embarked": 0.5535714285714286,
         "Title": "Miss",
         "_deepnote_index_column": 876
        },
        {
         "Survived": 0,
         "Pclass": 3,
         "Name": "Gustafsson, Mr. Alfred Ossian",
         "Sex": "male",
         "Age": 20,
         "SibSp": 0,
         "Parch": 0,
         "Ticket": "7534",
         "Fare": 9.8458,
         "Cabin": 0,
         "Embarked": 0.33695652173913043,
         "Title": "Mr",
         "_deepnote_index_column": 877
        },
        {
         "Survived": 0,
         "Pclass": 3,
         "Name": "Petroff, Mr. Nedelio",
         "Sex": "male",
         "Age": 19,
         "SibSp": 0,
         "Parch": 0,
         "Ticket": "349212",
         "Fare": 7.8958,
         "Cabin": 0,
         "Embarked": 0.33695652173913043,
         "Title": "Mr",
         "_deepnote_index_column": 878
        },
        {
         "Survived": 0,
         "Pclass": 3,
         "Name": "Laleff, Mr. Kristo",
         "Sex": "male",
         "Age": 26.507588932806325,
         "SibSp": 0,
         "Parch": 0,
         "Ticket": "349217",
         "Fare": 7.8958,
         "Cabin": 0,
         "Embarked": 0.33695652173913043,
         "Title": "Mr",
         "_deepnote_index_column": 879
        },
        {
         "Survived": 1,
         "Pclass": 1,
         "Name": "Potter, Mrs. Thomas Jr (Lily Alexenia Wilson)",
         "Sex": "female",
         "Age": 56,
         "SibSp": 0,
         "Parch": 1,
         "Ticket": "11767",
         "Fare": 83.1583,
         "Cabin": 1,
         "Embarked": 0.5535714285714286,
         "Title": "Mrs",
         "_deepnote_index_column": 880
        },
        {
         "Survived": 1,
         "Pclass": 2,
         "Name": "Shelley, Mrs. William (Imanita Parrish Hall)",
         "Sex": "female",
         "Age": 25,
         "SibSp": 0,
         "Parch": 1,
         "Ticket": "230433",
         "Fare": 26,
         "Cabin": 0,
         "Embarked": 0.33695652173913043,
         "Title": "Mrs",
         "_deepnote_index_column": 881
        },
        {
         "Survived": 0,
         "Pclass": 3,
         "Name": "Markun, Mr. Johann",
         "Sex": "male",
         "Age": 33,
         "SibSp": 0,
         "Parch": 0,
         "Ticket": "349257",
         "Fare": 7.8958,
         "Cabin": 0,
         "Embarked": 0.33695652173913043,
         "Title": "Mr",
         "_deepnote_index_column": 882
        },
        {
         "Survived": 0,
         "Pclass": 3,
         "Name": "Dahlberg, Miss. Gerda Ulrika",
         "Sex": "female",
         "Age": 22,
         "SibSp": 0,
         "Parch": 0,
         "Ticket": "7552",
         "Fare": 10.5167,
         "Cabin": 0,
         "Embarked": 0.33695652173913043,
         "Title": "Miss",
         "_deepnote_index_column": 883
        },
        {
         "Survived": 0,
         "Pclass": 2,
         "Name": "Banfield, Mr. Frederick James",
         "Sex": "male",
         "Age": 28,
         "SibSp": 0,
         "Parch": 0,
         "Ticket": "C.A./SOTON 34068",
         "Fare": 10.5,
         "Cabin": 0,
         "Embarked": 0.33695652173913043,
         "Title": "Mr",
         "_deepnote_index_column": 884
        },
        {
         "Survived": 0,
         "Pclass": 3,
         "Name": "Sutehall, Mr. Henry Jr",
         "Sex": "male",
         "Age": 25,
         "SibSp": 0,
         "Parch": 0,
         "Ticket": "SOTON/OQ 392076",
         "Fare": 7.05,
         "Cabin": 0,
         "Embarked": 0.33695652173913043,
         "Title": "Mr",
         "_deepnote_index_column": 885
        },
        {
         "Survived": 0,
         "Pclass": 3,
         "Name": "Rice, Mrs. William (Margaret Norton)",
         "Sex": "female",
         "Age": 39,
         "SibSp": 0,
         "Parch": 5,
         "Ticket": "382652",
         "Fare": 29.125,
         "Cabin": 0,
         "Embarked": 0.38961038961038963,
         "Title": "Mrs",
         "_deepnote_index_column": 886
        },
        {
         "Survived": 0,
         "Pclass": 2,
         "Name": "Montvila, Rev. Juozas",
         "Sex": "male",
         "Age": 27,
         "SibSp": 0,
         "Parch": 0,
         "Ticket": "211536",
         "Fare": 13,
         "Cabin": 0,
         "Embarked": 0.33695652173913043,
         "Title": "Officer",
         "_deepnote_index_column": 887
        },
        {
         "Survived": 1,
         "Pclass": 1,
         "Name": "Graham, Miss. Margaret Edith",
         "Sex": "female",
         "Age": 19,
         "SibSp": 0,
         "Parch": 0,
         "Ticket": "112053",
         "Fare": 30,
         "Cabin": 1,
         "Embarked": 0.33695652173913043,
         "Title": "Miss",
         "_deepnote_index_column": 888
        },
        {
         "Survived": 0,
         "Pclass": 3,
         "Name": "Johnston, Miss. Catherine Helen \"Carrie\"",
         "Sex": "female",
         "Age": 21.75,
         "SibSp": 1,
         "Parch": 2,
         "Ticket": "W./C. 6607",
         "Fare": 23.45,
         "Cabin": 0,
         "Embarked": 0.33695652173913043,
         "Title": "Miss",
         "_deepnote_index_column": 889
        },
        {
         "Survived": 1,
         "Pclass": 1,
         "Name": "Behr, Mr. Karl Howell",
         "Sex": "male",
         "Age": 26,
         "SibSp": 0,
         "Parch": 0,
         "Ticket": "111369",
         "Fare": 30,
         "Cabin": 1,
         "Embarked": 0.5535714285714286,
         "Title": "Mr",
         "_deepnote_index_column": 890
        },
        {
         "Survived": 0,
         "Pclass": 3,
         "Name": "Dooley, Mr. Patrick",
         "Sex": "male",
         "Age": 32,
         "SibSp": 0,
         "Parch": 0,
         "Ticket": "370376",
         "Fare": 7.75,
         "Cabin": 0,
         "Embarked": 0.38961038961038963,
         "Title": "Mr",
         "_deepnote_index_column": 891
        }
       ]
      },
      "text/plain": "             Survived  Pclass  \\\nPassengerId                     \n1                   0       3   \n2                   1       1   \n3                   1       3   \n4                   1       1   \n5                   0       3   \n...               ...     ...   \n887                 0       2   \n888                 1       1   \n889                 0       3   \n890                 1       1   \n891                 0       3   \n\n                                                          Name     Sex    Age  \\\nPassengerId                                                                     \n1                                      Braund, Mr. Owen Harris    male  22.00   \n2            Cumings, Mrs. John Bradley (Florence Briggs Th...  female  38.00   \n3                                       Heikkinen, Miss. Laina  female  26.00   \n4                 Futrelle, Mrs. Jacques Heath (Lily May Peel)  female  35.00   \n5                                     Allen, Mr. William Henry    male  35.00   \n...                                                        ...     ...    ...   \n887                                      Montvila, Rev. Juozas    male  27.00   \n888                               Graham, Miss. Margaret Edith  female  19.00   \n889                   Johnston, Miss. Catherine Helen \"Carrie\"  female  21.75   \n890                                      Behr, Mr. Karl Howell    male  26.00   \n891                                        Dooley, Mr. Patrick    male  32.00   \n\n             SibSp  Parch            Ticket     Fare  Cabin  Embarked    Title  \nPassengerId                                                                     \n1                1      0         A/5 21171   7.2500      0  0.336957       Mr  \n2                1      0          PC 17599  71.2833      1  0.553571      Mrs  \n3                0      0  STON/O2. 3101282   7.9250      0  0.336957     Miss  \n4                1      0            113803  53.1000      1  0.336957      Mrs  \n5                0      0            373450   8.0500      0  0.336957       Mr  \n...            ...    ...               ...      ...    ...       ...      ...  \n887              0      0            211536  13.0000      0  0.336957  Officer  \n888              0      0            112053  30.0000      1  0.336957     Miss  \n889              1      2        W./C. 6607  23.4500      0  0.336957     Miss  \n890              0      0            111369  30.0000      1  0.553571       Mr  \n891              0      0            370376   7.7500      0  0.389610       Mr  \n\n[891 rows x 12 columns]",
      "text/html": "<div>\n<style scoped>\n    .dataframe tbody tr th:only-of-type {\n        vertical-align: middle;\n    }\n\n    .dataframe tbody tr th {\n        vertical-align: top;\n    }\n\n    .dataframe thead th {\n        text-align: right;\n    }\n</style>\n<table border=\"1\" class=\"dataframe\">\n  <thead>\n    <tr style=\"text-align: right;\">\n      <th></th>\n      <th>Survived</th>\n      <th>Pclass</th>\n      <th>Name</th>\n      <th>Sex</th>\n      <th>Age</th>\n      <th>SibSp</th>\n      <th>Parch</th>\n      <th>Ticket</th>\n      <th>Fare</th>\n      <th>Cabin</th>\n      <th>Embarked</th>\n      <th>Title</th>\n    </tr>\n    <tr>\n      <th>PassengerId</th>\n      <th></th>\n      <th></th>\n      <th></th>\n      <th></th>\n      <th></th>\n      <th></th>\n      <th></th>\n      <th></th>\n      <th></th>\n      <th></th>\n      <th></th>\n      <th></th>\n    </tr>\n  </thead>\n  <tbody>\n    <tr>\n      <th>1</th>\n      <td>0</td>\n      <td>3</td>\n      <td>Braund, Mr. Owen Harris</td>\n      <td>male</td>\n      <td>22.00</td>\n      <td>1</td>\n      <td>0</td>\n      <td>A/5 21171</td>\n      <td>7.2500</td>\n      <td>0</td>\n      <td>0.336957</td>\n      <td>Mr</td>\n    </tr>\n    <tr>\n      <th>2</th>\n      <td>1</td>\n      <td>1</td>\n      <td>Cumings, Mrs. John Bradley (Florence Briggs Th...</td>\n      <td>female</td>\n      <td>38.00</td>\n      <td>1</td>\n      <td>0</td>\n      <td>PC 17599</td>\n      <td>71.2833</td>\n      <td>1</td>\n      <td>0.553571</td>\n      <td>Mrs</td>\n    </tr>\n    <tr>\n      <th>3</th>\n      <td>1</td>\n      <td>3</td>\n      <td>Heikkinen, Miss. Laina</td>\n      <td>female</td>\n      <td>26.00</td>\n      <td>0</td>\n      <td>0</td>\n      <td>STON/O2. 3101282</td>\n      <td>7.9250</td>\n      <td>0</td>\n      <td>0.336957</td>\n      <td>Miss</td>\n    </tr>\n    <tr>\n      <th>4</th>\n      <td>1</td>\n      <td>1</td>\n      <td>Futrelle, Mrs. Jacques Heath (Lily May Peel)</td>\n      <td>female</td>\n      <td>35.00</td>\n      <td>1</td>\n      <td>0</td>\n      <td>113803</td>\n      <td>53.1000</td>\n      <td>1</td>\n      <td>0.336957</td>\n      <td>Mrs</td>\n    </tr>\n    <tr>\n      <th>5</th>\n      <td>0</td>\n      <td>3</td>\n      <td>Allen, Mr. William Henry</td>\n      <td>male</td>\n      <td>35.00</td>\n      <td>0</td>\n      <td>0</td>\n      <td>373450</td>\n      <td>8.0500</td>\n      <td>0</td>\n      <td>0.336957</td>\n      <td>Mr</td>\n    </tr>\n    <tr>\n      <th>...</th>\n      <td>...</td>\n      <td>...</td>\n      <td>...</td>\n      <td>...</td>\n      <td>...</td>\n      <td>...</td>\n      <td>...</td>\n      <td>...</td>\n      <td>...</td>\n      <td>...</td>\n      <td>...</td>\n      <td>...</td>\n    </tr>\n    <tr>\n      <th>887</th>\n      <td>0</td>\n      <td>2</td>\n      <td>Montvila, Rev. Juozas</td>\n      <td>male</td>\n      <td>27.00</td>\n      <td>0</td>\n      <td>0</td>\n      <td>211536</td>\n      <td>13.0000</td>\n      <td>0</td>\n      <td>0.336957</td>\n      <td>Officer</td>\n    </tr>\n    <tr>\n      <th>888</th>\n      <td>1</td>\n      <td>1</td>\n      <td>Graham, Miss. Margaret Edith</td>\n      <td>female</td>\n      <td>19.00</td>\n      <td>0</td>\n      <td>0</td>\n      <td>112053</td>\n      <td>30.0000</td>\n      <td>1</td>\n      <td>0.336957</td>\n      <td>Miss</td>\n    </tr>\n    <tr>\n      <th>889</th>\n      <td>0</td>\n      <td>3</td>\n      <td>Johnston, Miss. Catherine Helen \"Carrie\"</td>\n      <td>female</td>\n      <td>21.75</td>\n      <td>1</td>\n      <td>2</td>\n      <td>W./C. 6607</td>\n      <td>23.4500</td>\n      <td>0</td>\n      <td>0.336957</td>\n      <td>Miss</td>\n    </tr>\n    <tr>\n      <th>890</th>\n      <td>1</td>\n      <td>1</td>\n      <td>Behr, Mr. Karl Howell</td>\n      <td>male</td>\n      <td>26.00</td>\n      <td>0</td>\n      <td>0</td>\n      <td>111369</td>\n      <td>30.0000</td>\n      <td>1</td>\n      <td>0.553571</td>\n      <td>Mr</td>\n    </tr>\n    <tr>\n      <th>891</th>\n      <td>0</td>\n      <td>3</td>\n      <td>Dooley, Mr. Patrick</td>\n      <td>male</td>\n      <td>32.00</td>\n      <td>0</td>\n      <td>0</td>\n      <td>370376</td>\n      <td>7.7500</td>\n      <td>0</td>\n      <td>0.389610</td>\n      <td>Mr</td>\n    </tr>\n  </tbody>\n</table>\n<p>891 rows × 12 columns</p>\n</div>"
     },
     "metadata": {}
    }
   ]
  },
  {
   "cell_type": "code",
   "metadata": {
    "deletable": false,
    "nbgrader": {
     "cell_type": "code",
     "checksum": "031ab122b02b5833236370a53d148daf",
     "grade": false,
     "grade_id": "cell-44b93a0dbd4eb6fc",
     "locked": false,
     "schema_version": 3,
     "solution": true,
     "task": false
    },
    "id": "ee4a_CpLGTJQ",
    "cell_id": "00047-6cf0bc4d-82c3-4706-9a7c-47137938bc93",
    "deepnote_to_be_reexecuted": false,
    "source_hash": "b5481abb",
    "execution_start": 1620313998099,
    "execution_millis": 31,
    "deepnote_cell_type": "code"
   },
   "source": "test_pred = best_model.predict(x_test)\n",
   "execution_count": null,
   "outputs": [
    {
     "output_type": "error",
     "ename": "ValueError",
     "evalue": "Found unknown categories ['missing'] in column 1 during transform",
     "traceback": [
      "\u001b[0;31m---------------------------------------------------------------------------\u001b[0m",
      "\u001b[0;31mValueError\u001b[0m                                Traceback (most recent call last)",
      "\u001b[0;32m<ipython-input-73-4b9f29e5eb8a>\u001b[0m in \u001b[0;36m<module>\u001b[0;34m\u001b[0m\n\u001b[0;32m----> 1\u001b[0;31m \u001b[0mtest_pred\u001b[0m \u001b[0;34m=\u001b[0m \u001b[0mbest_model\u001b[0m\u001b[0;34m.\u001b[0m\u001b[0mpredict\u001b[0m\u001b[0;34m(\u001b[0m\u001b[0mx_test\u001b[0m\u001b[0;34m)\u001b[0m\u001b[0;34m\u001b[0m\u001b[0;34m\u001b[0m\u001b[0m\n\u001b[0m",
      "\u001b[0;32m/shared-libs/python3.7/py/lib/python3.7/site-packages/sklearn/utils/metaestimators.py\u001b[0m in \u001b[0;36m<lambda>\u001b[0;34m(*args, **kwargs)\u001b[0m\n\u001b[1;32m    118\u001b[0m \u001b[0;34m\u001b[0m\u001b[0m\n\u001b[1;32m    119\u001b[0m         \u001b[0;31m# lambda, but not partial, allows help() to work with update_wrapper\u001b[0m\u001b[0;34m\u001b[0m\u001b[0;34m\u001b[0m\u001b[0;34m\u001b[0m\u001b[0m\n\u001b[0;32m--> 120\u001b[0;31m         \u001b[0mout\u001b[0m \u001b[0;34m=\u001b[0m \u001b[0;32mlambda\u001b[0m \u001b[0;34m*\u001b[0m\u001b[0margs\u001b[0m\u001b[0;34m,\u001b[0m \u001b[0;34m**\u001b[0m\u001b[0mkwargs\u001b[0m\u001b[0;34m:\u001b[0m \u001b[0mself\u001b[0m\u001b[0;34m.\u001b[0m\u001b[0mfn\u001b[0m\u001b[0;34m(\u001b[0m\u001b[0mobj\u001b[0m\u001b[0;34m,\u001b[0m \u001b[0;34m*\u001b[0m\u001b[0margs\u001b[0m\u001b[0;34m,\u001b[0m \u001b[0;34m**\u001b[0m\u001b[0mkwargs\u001b[0m\u001b[0;34m)\u001b[0m\u001b[0;34m\u001b[0m\u001b[0;34m\u001b[0m\u001b[0m\n\u001b[0m\u001b[1;32m    121\u001b[0m         \u001b[0;31m# update the docstring of the returned function\u001b[0m\u001b[0;34m\u001b[0m\u001b[0;34m\u001b[0m\u001b[0;34m\u001b[0m\u001b[0m\n\u001b[1;32m    122\u001b[0m         \u001b[0mupdate_wrapper\u001b[0m\u001b[0;34m(\u001b[0m\u001b[0mout\u001b[0m\u001b[0;34m,\u001b[0m \u001b[0mself\u001b[0m\u001b[0;34m.\u001b[0m\u001b[0mfn\u001b[0m\u001b[0;34m)\u001b[0m\u001b[0;34m\u001b[0m\u001b[0;34m\u001b[0m\u001b[0m\n",
      "\u001b[0;32m/shared-libs/python3.7/py/lib/python3.7/site-packages/sklearn/pipeline.py\u001b[0m in \u001b[0;36mpredict\u001b[0;34m(self, X, **predict_params)\u001b[0m\n\u001b[1;32m    416\u001b[0m         \u001b[0mXt\u001b[0m \u001b[0;34m=\u001b[0m \u001b[0mX\u001b[0m\u001b[0;34m\u001b[0m\u001b[0;34m\u001b[0m\u001b[0m\n\u001b[1;32m    417\u001b[0m         \u001b[0;32mfor\u001b[0m \u001b[0m_\u001b[0m\u001b[0;34m,\u001b[0m \u001b[0mname\u001b[0m\u001b[0;34m,\u001b[0m \u001b[0mtransform\u001b[0m \u001b[0;32min\u001b[0m \u001b[0mself\u001b[0m\u001b[0;34m.\u001b[0m\u001b[0m_iter\u001b[0m\u001b[0;34m(\u001b[0m\u001b[0mwith_final\u001b[0m\u001b[0;34m=\u001b[0m\u001b[0;32mFalse\u001b[0m\u001b[0;34m)\u001b[0m\u001b[0;34m:\u001b[0m\u001b[0;34m\u001b[0m\u001b[0;34m\u001b[0m\u001b[0m\n\u001b[0;32m--> 418\u001b[0;31m             \u001b[0mXt\u001b[0m \u001b[0;34m=\u001b[0m \u001b[0mtransform\u001b[0m\u001b[0;34m.\u001b[0m\u001b[0mtransform\u001b[0m\u001b[0;34m(\u001b[0m\u001b[0mXt\u001b[0m\u001b[0;34m)\u001b[0m\u001b[0;34m\u001b[0m\u001b[0;34m\u001b[0m\u001b[0m\n\u001b[0m\u001b[1;32m    419\u001b[0m         \u001b[0;32mreturn\u001b[0m \u001b[0mself\u001b[0m\u001b[0;34m.\u001b[0m\u001b[0msteps\u001b[0m\u001b[0;34m[\u001b[0m\u001b[0;34m-\u001b[0m\u001b[0;36m1\u001b[0m\u001b[0;34m]\u001b[0m\u001b[0;34m[\u001b[0m\u001b[0;34m-\u001b[0m\u001b[0;36m1\u001b[0m\u001b[0;34m]\u001b[0m\u001b[0;34m.\u001b[0m\u001b[0mpredict\u001b[0m\u001b[0;34m(\u001b[0m\u001b[0mXt\u001b[0m\u001b[0;34m,\u001b[0m \u001b[0;34m**\u001b[0m\u001b[0mpredict_params\u001b[0m\u001b[0;34m)\u001b[0m\u001b[0;34m\u001b[0m\u001b[0;34m\u001b[0m\u001b[0m\n\u001b[1;32m    420\u001b[0m \u001b[0;34m\u001b[0m\u001b[0m\n",
      "\u001b[0;32m/shared-libs/python3.7/py/lib/python3.7/site-packages/sklearn/compose/_column_transformer.py\u001b[0m in \u001b[0;36mtransform\u001b[0;34m(self, X)\u001b[0m\n\u001b[1;32m    562\u001b[0m                 \u001b[0;34m\"data given during fit.\"\u001b[0m\u001b[0;34m\u001b[0m\u001b[0;34m\u001b[0m\u001b[0m\n\u001b[1;32m    563\u001b[0m             )\n\u001b[0;32m--> 564\u001b[0;31m         \u001b[0mXs\u001b[0m \u001b[0;34m=\u001b[0m \u001b[0mself\u001b[0m\u001b[0;34m.\u001b[0m\u001b[0m_fit_transform\u001b[0m\u001b[0;34m(\u001b[0m\u001b[0mX\u001b[0m\u001b[0;34m,\u001b[0m \u001b[0;32mNone\u001b[0m\u001b[0;34m,\u001b[0m \u001b[0m_transform_one\u001b[0m\u001b[0;34m,\u001b[0m \u001b[0mfitted\u001b[0m\u001b[0;34m=\u001b[0m\u001b[0;32mTrue\u001b[0m\u001b[0;34m)\u001b[0m\u001b[0;34m\u001b[0m\u001b[0;34m\u001b[0m\u001b[0m\n\u001b[0m\u001b[1;32m    565\u001b[0m         \u001b[0mself\u001b[0m\u001b[0;34m.\u001b[0m\u001b[0m_validate_output\u001b[0m\u001b[0;34m(\u001b[0m\u001b[0mXs\u001b[0m\u001b[0;34m)\u001b[0m\u001b[0;34m\u001b[0m\u001b[0;34m\u001b[0m\u001b[0m\n\u001b[1;32m    566\u001b[0m \u001b[0;34m\u001b[0m\u001b[0m\n",
      "\u001b[0;32m/shared-libs/python3.7/py/lib/python3.7/site-packages/sklearn/compose/_column_transformer.py\u001b[0m in \u001b[0;36m_fit_transform\u001b[0;34m(self, X, y, func, fitted)\u001b[0m\n\u001b[1;32m    441\u001b[0m                     message=self._log_message(name, idx, len(transformers)))\n\u001b[1;32m    442\u001b[0m                 for idx, (name, trans, column, weight) in enumerate(\n\u001b[0;32m--> 443\u001b[0;31m                         self._iter(fitted=fitted, replace_strings=True), 1))\n\u001b[0m\u001b[1;32m    444\u001b[0m         \u001b[0;32mexcept\u001b[0m \u001b[0mValueError\u001b[0m \u001b[0;32mas\u001b[0m \u001b[0me\u001b[0m\u001b[0;34m:\u001b[0m\u001b[0;34m\u001b[0m\u001b[0;34m\u001b[0m\u001b[0m\n\u001b[1;32m    445\u001b[0m             \u001b[0;32mif\u001b[0m \u001b[0;34m\"Expected 2D array, got 1D array instead\"\u001b[0m \u001b[0;32min\u001b[0m \u001b[0mstr\u001b[0m\u001b[0;34m(\u001b[0m\u001b[0me\u001b[0m\u001b[0;34m)\u001b[0m\u001b[0;34m:\u001b[0m\u001b[0;34m\u001b[0m\u001b[0;34m\u001b[0m\u001b[0m\n",
      "\u001b[0;32m/shared-libs/python3.7/py/lib/python3.7/site-packages/joblib/parallel.py\u001b[0m in \u001b[0;36m__call__\u001b[0;34m(self, iterable)\u001b[0m\n\u001b[1;32m   1039\u001b[0m             \u001b[0;31m# remaining jobs.\u001b[0m\u001b[0;34m\u001b[0m\u001b[0;34m\u001b[0m\u001b[0;34m\u001b[0m\u001b[0m\n\u001b[1;32m   1040\u001b[0m             \u001b[0mself\u001b[0m\u001b[0;34m.\u001b[0m\u001b[0m_iterating\u001b[0m \u001b[0;34m=\u001b[0m \u001b[0;32mFalse\u001b[0m\u001b[0;34m\u001b[0m\u001b[0;34m\u001b[0m\u001b[0m\n\u001b[0;32m-> 1041\u001b[0;31m             \u001b[0;32mif\u001b[0m \u001b[0mself\u001b[0m\u001b[0;34m.\u001b[0m\u001b[0mdispatch_one_batch\u001b[0m\u001b[0;34m(\u001b[0m\u001b[0miterator\u001b[0m\u001b[0;34m)\u001b[0m\u001b[0;34m:\u001b[0m\u001b[0;34m\u001b[0m\u001b[0;34m\u001b[0m\u001b[0m\n\u001b[0m\u001b[1;32m   1042\u001b[0m                 \u001b[0mself\u001b[0m\u001b[0;34m.\u001b[0m\u001b[0m_iterating\u001b[0m \u001b[0;34m=\u001b[0m \u001b[0mself\u001b[0m\u001b[0;34m.\u001b[0m\u001b[0m_original_iterator\u001b[0m \u001b[0;32mis\u001b[0m \u001b[0;32mnot\u001b[0m \u001b[0;32mNone\u001b[0m\u001b[0;34m\u001b[0m\u001b[0;34m\u001b[0m\u001b[0m\n\u001b[1;32m   1043\u001b[0m \u001b[0;34m\u001b[0m\u001b[0m\n",
      "\u001b[0;32m/shared-libs/python3.7/py/lib/python3.7/site-packages/joblib/parallel.py\u001b[0m in \u001b[0;36mdispatch_one_batch\u001b[0;34m(self, iterator)\u001b[0m\n\u001b[1;32m    857\u001b[0m                 \u001b[0;32mreturn\u001b[0m \u001b[0;32mFalse\u001b[0m\u001b[0;34m\u001b[0m\u001b[0;34m\u001b[0m\u001b[0m\n\u001b[1;32m    858\u001b[0m             \u001b[0;32melse\u001b[0m\u001b[0;34m:\u001b[0m\u001b[0;34m\u001b[0m\u001b[0;34m\u001b[0m\u001b[0m\n\u001b[0;32m--> 859\u001b[0;31m                 \u001b[0mself\u001b[0m\u001b[0;34m.\u001b[0m\u001b[0m_dispatch\u001b[0m\u001b[0;34m(\u001b[0m\u001b[0mtasks\u001b[0m\u001b[0;34m)\u001b[0m\u001b[0;34m\u001b[0m\u001b[0;34m\u001b[0m\u001b[0m\n\u001b[0m\u001b[1;32m    860\u001b[0m                 \u001b[0;32mreturn\u001b[0m \u001b[0;32mTrue\u001b[0m\u001b[0;34m\u001b[0m\u001b[0;34m\u001b[0m\u001b[0m\n\u001b[1;32m    861\u001b[0m \u001b[0;34m\u001b[0m\u001b[0m\n",
      "\u001b[0;32m/shared-libs/python3.7/py/lib/python3.7/site-packages/joblib/parallel.py\u001b[0m in \u001b[0;36m_dispatch\u001b[0;34m(self, batch)\u001b[0m\n\u001b[1;32m    775\u001b[0m         \u001b[0;32mwith\u001b[0m \u001b[0mself\u001b[0m\u001b[0;34m.\u001b[0m\u001b[0m_lock\u001b[0m\u001b[0;34m:\u001b[0m\u001b[0;34m\u001b[0m\u001b[0;34m\u001b[0m\u001b[0m\n\u001b[1;32m    776\u001b[0m             \u001b[0mjob_idx\u001b[0m \u001b[0;34m=\u001b[0m \u001b[0mlen\u001b[0m\u001b[0;34m(\u001b[0m\u001b[0mself\u001b[0m\u001b[0;34m.\u001b[0m\u001b[0m_jobs\u001b[0m\u001b[0;34m)\u001b[0m\u001b[0;34m\u001b[0m\u001b[0;34m\u001b[0m\u001b[0m\n\u001b[0;32m--> 777\u001b[0;31m             \u001b[0mjob\u001b[0m \u001b[0;34m=\u001b[0m \u001b[0mself\u001b[0m\u001b[0;34m.\u001b[0m\u001b[0m_backend\u001b[0m\u001b[0;34m.\u001b[0m\u001b[0mapply_async\u001b[0m\u001b[0;34m(\u001b[0m\u001b[0mbatch\u001b[0m\u001b[0;34m,\u001b[0m \u001b[0mcallback\u001b[0m\u001b[0;34m=\u001b[0m\u001b[0mcb\u001b[0m\u001b[0;34m)\u001b[0m\u001b[0;34m\u001b[0m\u001b[0;34m\u001b[0m\u001b[0m\n\u001b[0m\u001b[1;32m    778\u001b[0m             \u001b[0;31m# A job can complete so quickly than its callback is\u001b[0m\u001b[0;34m\u001b[0m\u001b[0;34m\u001b[0m\u001b[0;34m\u001b[0m\u001b[0m\n\u001b[1;32m    779\u001b[0m             \u001b[0;31m# called before we get here, causing self._jobs to\u001b[0m\u001b[0;34m\u001b[0m\u001b[0;34m\u001b[0m\u001b[0;34m\u001b[0m\u001b[0m\n",
      "\u001b[0;32m/shared-libs/python3.7/py/lib/python3.7/site-packages/joblib/_parallel_backends.py\u001b[0m in \u001b[0;36mapply_async\u001b[0;34m(self, func, callback)\u001b[0m\n\u001b[1;32m    206\u001b[0m     \u001b[0;32mdef\u001b[0m \u001b[0mapply_async\u001b[0m\u001b[0;34m(\u001b[0m\u001b[0mself\u001b[0m\u001b[0;34m,\u001b[0m \u001b[0mfunc\u001b[0m\u001b[0;34m,\u001b[0m \u001b[0mcallback\u001b[0m\u001b[0;34m=\u001b[0m\u001b[0;32mNone\u001b[0m\u001b[0;34m)\u001b[0m\u001b[0;34m:\u001b[0m\u001b[0;34m\u001b[0m\u001b[0;34m\u001b[0m\u001b[0m\n\u001b[1;32m    207\u001b[0m         \u001b[0;34m\"\"\"Schedule a func to be run\"\"\"\u001b[0m\u001b[0;34m\u001b[0m\u001b[0;34m\u001b[0m\u001b[0m\n\u001b[0;32m--> 208\u001b[0;31m         \u001b[0mresult\u001b[0m \u001b[0;34m=\u001b[0m \u001b[0mImmediateResult\u001b[0m\u001b[0;34m(\u001b[0m\u001b[0mfunc\u001b[0m\u001b[0;34m)\u001b[0m\u001b[0;34m\u001b[0m\u001b[0;34m\u001b[0m\u001b[0m\n\u001b[0m\u001b[1;32m    209\u001b[0m         \u001b[0;32mif\u001b[0m \u001b[0mcallback\u001b[0m\u001b[0;34m:\u001b[0m\u001b[0;34m\u001b[0m\u001b[0;34m\u001b[0m\u001b[0m\n\u001b[1;32m    210\u001b[0m             \u001b[0mcallback\u001b[0m\u001b[0;34m(\u001b[0m\u001b[0mresult\u001b[0m\u001b[0;34m)\u001b[0m\u001b[0;34m\u001b[0m\u001b[0;34m\u001b[0m\u001b[0m\n",
      "\u001b[0;32m/shared-libs/python3.7/py/lib/python3.7/site-packages/joblib/_parallel_backends.py\u001b[0m in \u001b[0;36m__init__\u001b[0;34m(self, batch)\u001b[0m\n\u001b[1;32m    570\u001b[0m         \u001b[0;31m# Don't delay the application, to avoid keeping the input\u001b[0m\u001b[0;34m\u001b[0m\u001b[0;34m\u001b[0m\u001b[0;34m\u001b[0m\u001b[0m\n\u001b[1;32m    571\u001b[0m         \u001b[0;31m# arguments in memory\u001b[0m\u001b[0;34m\u001b[0m\u001b[0;34m\u001b[0m\u001b[0;34m\u001b[0m\u001b[0m\n\u001b[0;32m--> 572\u001b[0;31m         \u001b[0mself\u001b[0m\u001b[0;34m.\u001b[0m\u001b[0mresults\u001b[0m \u001b[0;34m=\u001b[0m \u001b[0mbatch\u001b[0m\u001b[0;34m(\u001b[0m\u001b[0;34m)\u001b[0m\u001b[0;34m\u001b[0m\u001b[0;34m\u001b[0m\u001b[0m\n\u001b[0m\u001b[1;32m    573\u001b[0m \u001b[0;34m\u001b[0m\u001b[0m\n\u001b[1;32m    574\u001b[0m     \u001b[0;32mdef\u001b[0m \u001b[0mget\u001b[0m\u001b[0;34m(\u001b[0m\u001b[0mself\u001b[0m\u001b[0;34m)\u001b[0m\u001b[0;34m:\u001b[0m\u001b[0;34m\u001b[0m\u001b[0;34m\u001b[0m\u001b[0m\n",
      "\u001b[0;32m/shared-libs/python3.7/py/lib/python3.7/site-packages/joblib/parallel.py\u001b[0m in \u001b[0;36m__call__\u001b[0;34m(self)\u001b[0m\n\u001b[1;32m    261\u001b[0m         \u001b[0;32mwith\u001b[0m \u001b[0mparallel_backend\u001b[0m\u001b[0;34m(\u001b[0m\u001b[0mself\u001b[0m\u001b[0;34m.\u001b[0m\u001b[0m_backend\u001b[0m\u001b[0;34m,\u001b[0m \u001b[0mn_jobs\u001b[0m\u001b[0;34m=\u001b[0m\u001b[0mself\u001b[0m\u001b[0;34m.\u001b[0m\u001b[0m_n_jobs\u001b[0m\u001b[0;34m)\u001b[0m\u001b[0;34m:\u001b[0m\u001b[0;34m\u001b[0m\u001b[0;34m\u001b[0m\u001b[0m\n\u001b[1;32m    262\u001b[0m             return [func(*args, **kwargs)\n\u001b[0;32m--> 263\u001b[0;31m                     for func, args, kwargs in self.items]\n\u001b[0m\u001b[1;32m    264\u001b[0m \u001b[0;34m\u001b[0m\u001b[0m\n\u001b[1;32m    265\u001b[0m     \u001b[0;32mdef\u001b[0m \u001b[0m__reduce__\u001b[0m\u001b[0;34m(\u001b[0m\u001b[0mself\u001b[0m\u001b[0;34m)\u001b[0m\u001b[0;34m:\u001b[0m\u001b[0;34m\u001b[0m\u001b[0;34m\u001b[0m\u001b[0m\n",
      "\u001b[0;32m/shared-libs/python3.7/py/lib/python3.7/site-packages/joblib/parallel.py\u001b[0m in \u001b[0;36m<listcomp>\u001b[0;34m(.0)\u001b[0m\n\u001b[1;32m    261\u001b[0m         \u001b[0;32mwith\u001b[0m \u001b[0mparallel_backend\u001b[0m\u001b[0;34m(\u001b[0m\u001b[0mself\u001b[0m\u001b[0;34m.\u001b[0m\u001b[0m_backend\u001b[0m\u001b[0;34m,\u001b[0m \u001b[0mn_jobs\u001b[0m\u001b[0;34m=\u001b[0m\u001b[0mself\u001b[0m\u001b[0;34m.\u001b[0m\u001b[0m_n_jobs\u001b[0m\u001b[0;34m)\u001b[0m\u001b[0;34m:\u001b[0m\u001b[0;34m\u001b[0m\u001b[0;34m\u001b[0m\u001b[0m\n\u001b[1;32m    262\u001b[0m             return [func(*args, **kwargs)\n\u001b[0;32m--> 263\u001b[0;31m                     for func, args, kwargs in self.items]\n\u001b[0m\u001b[1;32m    264\u001b[0m \u001b[0;34m\u001b[0m\u001b[0m\n\u001b[1;32m    265\u001b[0m     \u001b[0;32mdef\u001b[0m \u001b[0m__reduce__\u001b[0m\u001b[0;34m(\u001b[0m\u001b[0mself\u001b[0m\u001b[0;34m)\u001b[0m\u001b[0;34m:\u001b[0m\u001b[0;34m\u001b[0m\u001b[0;34m\u001b[0m\u001b[0m\n",
      "\u001b[0;32m/shared-libs/python3.7/py/lib/python3.7/site-packages/sklearn/utils/fixes.py\u001b[0m in \u001b[0;36m__call__\u001b[0;34m(self, *args, **kwargs)\u001b[0m\n\u001b[1;32m    220\u001b[0m     \u001b[0;32mdef\u001b[0m \u001b[0m__call__\u001b[0m\u001b[0;34m(\u001b[0m\u001b[0mself\u001b[0m\u001b[0;34m,\u001b[0m \u001b[0;34m*\u001b[0m\u001b[0margs\u001b[0m\u001b[0;34m,\u001b[0m \u001b[0;34m**\u001b[0m\u001b[0mkwargs\u001b[0m\u001b[0;34m)\u001b[0m\u001b[0;34m:\u001b[0m\u001b[0;34m\u001b[0m\u001b[0;34m\u001b[0m\u001b[0m\n\u001b[1;32m    221\u001b[0m         \u001b[0;32mwith\u001b[0m \u001b[0mconfig_context\u001b[0m\u001b[0;34m(\u001b[0m\u001b[0;34m**\u001b[0m\u001b[0mself\u001b[0m\u001b[0;34m.\u001b[0m\u001b[0mconfig\u001b[0m\u001b[0;34m)\u001b[0m\u001b[0;34m:\u001b[0m\u001b[0;34m\u001b[0m\u001b[0;34m\u001b[0m\u001b[0m\n\u001b[0;32m--> 222\u001b[0;31m             \u001b[0;32mreturn\u001b[0m \u001b[0mself\u001b[0m\u001b[0;34m.\u001b[0m\u001b[0mfunction\u001b[0m\u001b[0;34m(\u001b[0m\u001b[0;34m*\u001b[0m\u001b[0margs\u001b[0m\u001b[0;34m,\u001b[0m \u001b[0;34m**\u001b[0m\u001b[0mkwargs\u001b[0m\u001b[0;34m)\u001b[0m\u001b[0;34m\u001b[0m\u001b[0;34m\u001b[0m\u001b[0m\n\u001b[0m",
      "\u001b[0;32m/shared-libs/python3.7/py/lib/python3.7/site-packages/sklearn/pipeline.py\u001b[0m in \u001b[0;36m_transform_one\u001b[0;34m(transformer, X, y, weight, **fit_params)\u001b[0m\n\u001b[1;32m    731\u001b[0m \u001b[0;34m\u001b[0m\u001b[0m\n\u001b[1;32m    732\u001b[0m \u001b[0;32mdef\u001b[0m \u001b[0m_transform_one\u001b[0m\u001b[0;34m(\u001b[0m\u001b[0mtransformer\u001b[0m\u001b[0;34m,\u001b[0m \u001b[0mX\u001b[0m\u001b[0;34m,\u001b[0m \u001b[0my\u001b[0m\u001b[0;34m,\u001b[0m \u001b[0mweight\u001b[0m\u001b[0;34m,\u001b[0m \u001b[0;34m**\u001b[0m\u001b[0mfit_params\u001b[0m\u001b[0;34m)\u001b[0m\u001b[0;34m:\u001b[0m\u001b[0;34m\u001b[0m\u001b[0;34m\u001b[0m\u001b[0m\n\u001b[0;32m--> 733\u001b[0;31m     \u001b[0mres\u001b[0m \u001b[0;34m=\u001b[0m \u001b[0mtransformer\u001b[0m\u001b[0;34m.\u001b[0m\u001b[0mtransform\u001b[0m\u001b[0;34m(\u001b[0m\u001b[0mX\u001b[0m\u001b[0;34m)\u001b[0m\u001b[0;34m\u001b[0m\u001b[0;34m\u001b[0m\u001b[0m\n\u001b[0m\u001b[1;32m    734\u001b[0m     \u001b[0;31m# if we have a weight for this transformer, multiply output\u001b[0m\u001b[0;34m\u001b[0m\u001b[0;34m\u001b[0m\u001b[0;34m\u001b[0m\u001b[0m\n\u001b[1;32m    735\u001b[0m     \u001b[0;32mif\u001b[0m \u001b[0mweight\u001b[0m \u001b[0;32mis\u001b[0m \u001b[0;32mNone\u001b[0m\u001b[0;34m:\u001b[0m\u001b[0;34m\u001b[0m\u001b[0;34m\u001b[0m\u001b[0m\n",
      "\u001b[0;32m/shared-libs/python3.7/py/lib/python3.7/site-packages/sklearn/pipeline.py\u001b[0m in \u001b[0;36m_transform\u001b[0;34m(self, X)\u001b[0m\n\u001b[1;32m    558\u001b[0m         \u001b[0mXt\u001b[0m \u001b[0;34m=\u001b[0m \u001b[0mX\u001b[0m\u001b[0;34m\u001b[0m\u001b[0;34m\u001b[0m\u001b[0m\n\u001b[1;32m    559\u001b[0m         \u001b[0;32mfor\u001b[0m \u001b[0m_\u001b[0m\u001b[0;34m,\u001b[0m \u001b[0m_\u001b[0m\u001b[0;34m,\u001b[0m \u001b[0mtransform\u001b[0m \u001b[0;32min\u001b[0m \u001b[0mself\u001b[0m\u001b[0;34m.\u001b[0m\u001b[0m_iter\u001b[0m\u001b[0;34m(\u001b[0m\u001b[0;34m)\u001b[0m\u001b[0;34m:\u001b[0m\u001b[0;34m\u001b[0m\u001b[0;34m\u001b[0m\u001b[0m\n\u001b[0;32m--> 560\u001b[0;31m             \u001b[0mXt\u001b[0m \u001b[0;34m=\u001b[0m \u001b[0mtransform\u001b[0m\u001b[0;34m.\u001b[0m\u001b[0mtransform\u001b[0m\u001b[0;34m(\u001b[0m\u001b[0mXt\u001b[0m\u001b[0;34m)\u001b[0m\u001b[0;34m\u001b[0m\u001b[0;34m\u001b[0m\u001b[0m\n\u001b[0m\u001b[1;32m    561\u001b[0m         \u001b[0;32mreturn\u001b[0m \u001b[0mXt\u001b[0m\u001b[0;34m\u001b[0m\u001b[0;34m\u001b[0m\u001b[0m\n\u001b[1;32m    562\u001b[0m \u001b[0;34m\u001b[0m\u001b[0m\n",
      "\u001b[0;32m/shared-libs/python3.7/py/lib/python3.7/site-packages/sklearn/preprocessing/_encoders.py\u001b[0m in \u001b[0;36mtransform\u001b[0;34m(self, X)\u001b[0m\n\u001b[1;32m    470\u001b[0m         \u001b[0;31m# validation of X happens in _check_X called by _transform\u001b[0m\u001b[0;34m\u001b[0m\u001b[0;34m\u001b[0m\u001b[0;34m\u001b[0m\u001b[0m\n\u001b[1;32m    471\u001b[0m         X_int, X_mask = self._transform(X, handle_unknown=self.handle_unknown,\n\u001b[0;32m--> 472\u001b[0;31m                                         force_all_finite='allow-nan')\n\u001b[0m\u001b[1;32m    473\u001b[0m \u001b[0;34m\u001b[0m\u001b[0m\n\u001b[1;32m    474\u001b[0m         \u001b[0mn_samples\u001b[0m\u001b[0;34m,\u001b[0m \u001b[0mn_features\u001b[0m \u001b[0;34m=\u001b[0m \u001b[0mX_int\u001b[0m\u001b[0;34m.\u001b[0m\u001b[0mshape\u001b[0m\u001b[0;34m\u001b[0m\u001b[0;34m\u001b[0m\u001b[0m\n",
      "\u001b[0;32m/shared-libs/python3.7/py/lib/python3.7/site-packages/sklearn/preprocessing/_encoders.py\u001b[0m in \u001b[0;36m_transform\u001b[0;34m(self, X, handle_unknown, force_all_finite)\u001b[0m\n\u001b[1;32m    134\u001b[0m                     msg = (\"Found unknown categories {0} in column {1}\"\n\u001b[1;32m    135\u001b[0m                            \" during transform\".format(diff, i))\n\u001b[0;32m--> 136\u001b[0;31m                     \u001b[0;32mraise\u001b[0m \u001b[0mValueError\u001b[0m\u001b[0;34m(\u001b[0m\u001b[0mmsg\u001b[0m\u001b[0;34m)\u001b[0m\u001b[0;34m\u001b[0m\u001b[0;34m\u001b[0m\u001b[0m\n\u001b[0m\u001b[1;32m    137\u001b[0m                 \u001b[0;32melse\u001b[0m\u001b[0;34m:\u001b[0m\u001b[0;34m\u001b[0m\u001b[0;34m\u001b[0m\u001b[0m\n\u001b[1;32m    138\u001b[0m                     \u001b[0;31m# Set the problematic rows to an acceptable value and\u001b[0m\u001b[0;34m\u001b[0m\u001b[0;34m\u001b[0m\u001b[0;34m\u001b[0m\u001b[0m\n",
      "\u001b[0;31mValueError\u001b[0m: Found unknown categories ['missing'] in column 1 during transform"
     ]
    }
   ]
  },
  {
   "cell_type": "code",
   "metadata": {
    "deletable": false,
    "editable": false,
    "nbgrader": {
     "cell_type": "code",
     "checksum": "180b37cf4a0276bdf509220b1706a8aa",
     "grade": true,
     "grade_id": "cell-a29fc8d24284520e",
     "locked": true,
     "points": 2,
     "schema_version": 3,
     "solution": false,
     "task": false
    },
    "id": "zJeLWLWcGTJQ",
    "cell_id": "00048-2c8eea9a-31b5-48a8-bc09-1d72e494cbde",
    "deepnote_to_be_reexecuted": false,
    "source_hash": "9e8127cf",
    "execution_start": 1620313995250,
    "execution_millis": 22,
    "deepnote_cell_type": "code"
   },
   "source": "assert len(test_pred) == 418\nassert np.unique(test_pred).tolist() == [0,1]",
   "execution_count": null,
   "outputs": [
    {
     "output_type": "error",
     "ename": "NameError",
     "evalue": "name 'test_pred' is not defined",
     "traceback": [
      "\u001b[0;31m---------------------------------------------------------------------------\u001b[0m",
      "\u001b[0;31mNameError\u001b[0m                                 Traceback (most recent call last)",
      "\u001b[0;32m<ipython-input-72-f534868b1047>\u001b[0m in \u001b[0;36m<module>\u001b[0;34m\u001b[0m\n\u001b[0;32m----> 1\u001b[0;31m \u001b[0;32massert\u001b[0m \u001b[0mlen\u001b[0m\u001b[0;34m(\u001b[0m\u001b[0mtest_pred\u001b[0m\u001b[0;34m)\u001b[0m \u001b[0;34m==\u001b[0m \u001b[0;36m418\u001b[0m\u001b[0;34m\u001b[0m\u001b[0;34m\u001b[0m\u001b[0m\n\u001b[0m\u001b[1;32m      2\u001b[0m \u001b[0;32massert\u001b[0m \u001b[0mnp\u001b[0m\u001b[0;34m.\u001b[0m\u001b[0munique\u001b[0m\u001b[0;34m(\u001b[0m\u001b[0mtest_pred\u001b[0m\u001b[0;34m)\u001b[0m\u001b[0;34m.\u001b[0m\u001b[0mtolist\u001b[0m\u001b[0;34m(\u001b[0m\u001b[0;34m)\u001b[0m \u001b[0;34m==\u001b[0m \u001b[0;34m[\u001b[0m\u001b[0;36m0\u001b[0m\u001b[0;34m,\u001b[0m\u001b[0;36m1\u001b[0m\u001b[0;34m]\u001b[0m\u001b[0;34m\u001b[0m\u001b[0;34m\u001b[0m\u001b[0m\n",
      "\u001b[0;31mNameError\u001b[0m: name 'test_pred' is not defined"
     ]
    }
   ]
  },
  {
   "cell_type": "markdown",
   "source": "# Exercise 7.3\n\nSubmit to kaggle.\n\n- You can use the kaggle command line app. Check https://github.com/Kaggle/kaggle-api",
   "metadata": {
    "id": "S9THNB0rGTJQ",
    "cell_id": "00049-6f22b73b-b02c-4978-ab1d-aeed600170ec",
    "deepnote_cell_type": "markdown"
   }
  },
  {
   "cell_type": "code",
   "metadata": {
    "id": "ipuMU0coGTJQ",
    "colab": {
     "base_uri": "https://localhost:8080/",
     "height": 225
    },
    "outputId": "b1ae07bc-a64c-48e2-d7de-c31c193b3313",
    "cell_id": "00050-ab1b5ceb-51f1-4150-a3d6-f18181f6d545",
    "deepnote_cell_type": "code"
   },
   "source": "sub = pd.DataFrame(test_pred, index=x_test.index, columns=[\"Survived\"])\nsub.head()",
   "execution_count": null,
   "outputs": [
    {
     "output_type": "execute_result",
     "data": {
      "text/html": "<div>\n<style scoped>\n    .dataframe tbody tr th:only-of-type {\n        vertical-align: middle;\n    }\n\n    .dataframe tbody tr th {\n        vertical-align: top;\n    }\n\n    .dataframe thead th {\n        text-align: right;\n    }\n</style>\n<table border=\"1\" class=\"dataframe\">\n  <thead>\n    <tr style=\"text-align: right;\">\n      <th></th>\n      <th>Survived</th>\n    </tr>\n    <tr>\n      <th>PassengerId</th>\n      <th></th>\n    </tr>\n  </thead>\n  <tbody>\n    <tr>\n      <th>892</th>\n      <td>0</td>\n    </tr>\n    <tr>\n      <th>893</th>\n      <td>0</td>\n    </tr>\n    <tr>\n      <th>894</th>\n      <td>0</td>\n    </tr>\n    <tr>\n      <th>895</th>\n      <td>0</td>\n    </tr>\n    <tr>\n      <th>896</th>\n      <td>0</td>\n    </tr>\n  </tbody>\n</table>\n</div>",
      "text/plain": "             Survived\nPassengerId          \n892                 0\n893                 0\n894                 0\n895                 0\n896                 0"
     },
     "metadata": {
      "tags": []
     },
     "execution_count": 36
    }
   ]
  },
  {
   "cell_type": "code",
   "metadata": {
    "id": "GQkdojiZGTJR",
    "cell_id": "00051-425474f7-4ef2-4223-bcae-22b8a7f4a255",
    "deepnote_cell_type": "code"
   },
   "source": "sub.to_csv(\"sub.csv\")",
   "execution_count": null,
   "outputs": []
  },
  {
   "cell_type": "code",
   "metadata": {
    "id": "mcGTKHoOGTJR",
    "colab": {
     "base_uri": "https://localhost:8080/"
    },
    "outputId": "d1b4ea9d-d561-4522-8afa-8b5c69df98db",
    "cell_id": "00052-e918af8c-9bb0-4f52-8aae-455fb72b8eba",
    "deepnote_cell_type": "code"
   },
   "source": "!kaggle competitions submit -c titanic -f sub.csv -m \"My submission message\"",
   "execution_count": null,
   "outputs": [
    {
     "output_type": "stream",
     "text": "Warning: Looks like you're using an outdated API Version, please consider updating (server 1.5.12 / client 1.5.4)\n100% 2.77k/2.77k [00:08<00:00, 338B/s]\nSuccessfully submitted to Titanic - Machine Learning from Disaster",
     "name": "stdout"
    }
   ]
  },
  {
   "cell_type": "code",
   "metadata": {
    "id": "dIDPSRg4oHRb",
    "cell_id": "00053-633d3250-f812-4d8d-ba3f-565c1404f527",
    "deepnote_cell_type": "code"
   },
   "source": "",
   "execution_count": null,
   "outputs": []
  },
  {
   "cell_type": "markdown",
   "source": "<a style='text-decoration:none;line-height:16px;display:flex;color:#5B5B62;padding:10px;justify-content:end;' href='https://deepnote.com?utm_source=created-in-deepnote-cell&projectId=796ba814-f632-4502-b0d7-7e2f8f9e546d' target=\"_blank\">\n<img alt='Created in deepnote.com' style='display:inline;max-height:16px;margin:0px;margin-right:7.5px;' src='data:image/svg+xml;base64,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' > </img>\nCreated in <span style='font-weight:600;margin-left:4px;'>Deepnote</span></a>",
   "metadata": {
    "tags": [],
    "created_in_deepnote_cell": true,
    "deepnote_cell_type": "markdown"
   }
  }
 ],
 "nbformat": 4,
 "nbformat_minor": 0,
 "metadata": {
  "anaconda-cloud": {},
  "colab": {
   "name": "28fe1",
   "provenance": [],
   "collapsed_sections": [],
   "toc_visible": true
  },
  "kernelspec": {
   "display_name": "Python 3",
   "language": "python",
   "name": "python3"
  },
  "language_info": {
   "codemirror_mode": {
    "name": "ipython",
    "version": 3
   },
   "file_extension": ".py",
   "mimetype": "text/x-python",
   "name": "python",
   "nbconvert_exporter": "python",
   "pygments_lexer": "ipython3",
   "version": "3.7.10"
  },
  "name": "seminar13_optional_practice_trees_titanic.ipynb",
  "deepnote_notebook_id": "5c725c17-4244-4369-b500-083fb3476fd3",
  "deepnote": {},
  "deepnote_execution_queue": []
 }
}