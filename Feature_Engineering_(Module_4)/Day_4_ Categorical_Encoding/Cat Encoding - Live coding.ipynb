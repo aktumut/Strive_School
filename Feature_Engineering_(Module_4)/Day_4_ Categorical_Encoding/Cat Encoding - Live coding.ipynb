{
 "cells": [
  {
   "cell_type": "markdown",
   "source": "# <center> Categorical encoders\n### <center> With [Scikit-learn](https://scikit-learn.org/stable/modules/preprocessing.html#encoding-categorical-features ) and [Category Encoders](https://contrib.scikit-learn.org/category_encoders/)\n    \n**This is a notebook from [Feature Engineering](https://www.kaggle.com/learn/feature-engineering) course. You can reference the tutorial at [this link](https://www.kaggle.com/matleonard/categorical-encodings).**",
   "metadata": {
    "cell_id": "00000-129720f6-fda4-4f5b-8391-188e4220c3d0",
    "deepnote_cell_type": "markdown"
   }
  },
  {
   "cell_type": "markdown",
   "source": "## Imports",
   "metadata": {
    "cell_id": "00001-ea4c5c31-fde3-4a6d-98fb-484bef126f72",
    "deepnote_cell_type": "markdown"
   }
  },
  {
   "cell_type": "code",
   "metadata": {
    "cell_id": "00002-7a848dcd-816c-4ed2-80c6-46270c60557b",
    "deepnote_to_be_reexecuted": false,
    "source_hash": "77637f04",
    "execution_start": 1620305822588,
    "execution_millis": 1981,
    "deepnote_cell_type": "code"
   },
   "source": "import numpy as np\nimport pandas as pd\nimport category_encoders as ce\n\nimport lightgbm as lgb\nimport sklearn as skl\nfrom sklearn import impute\nfrom sklearn import pipeline\nfrom sklearn import compose\nfrom sklearn import metrics\nfrom sklearn import model_selection\nfrom sklearn import set_config\n\nset_config(display='diagram') # Useful for display the pipeline\n\nimport warnings\nwarnings.simplefilter(action='ignore', category=FutureWarning)\n\nprint(\"Pandas  \", pd.__version__)\nprint(\"Sklearn \", skl.__version__)\nprint(\"lightgbm\", lgb.__version__)\nprint(\"Cat Enc.\", ce.__version__)",
   "execution_count": 3,
   "outputs": [
    {
     "name": "stdout",
     "text": "Pandas   1.2.4\nSklearn  0.24.2\nlightgbm 3.2.1\nCat Enc. 2.2.2\n",
     "output_type": "stream"
    }
   ]
  },
  {
   "cell_type": "markdown",
   "source": "### Load data",
   "metadata": {
    "cell_id": "00003-0a57f335-c2c3-45a4-9c52-7de04f061c76",
    "deepnote_cell_type": "markdown"
   }
  },
  {
   "cell_type": "code",
   "metadata": {
    "cell_id": "00004-6bfdabb7-2732-4b3b-83cd-edc35a41f04a",
    "deepnote_to_be_reexecuted": false,
    "source_hash": "74ce3835",
    "execution_start": 1620305832298,
    "execution_millis": 922,
    "deepnote_cell_type": "code"
   },
   "source": "!ls ../../Datasets/Tabular/kickstarter-projects",
   "execution_count": 4,
   "outputs": [
    {
     "name": "stdout",
     "text": "ls: cannot access '../../Datasets/Tabular/kickstarter-projects': No such file or directory\r\n",
     "output_type": "stream"
    }
   ]
  },
  {
   "cell_type": "code",
   "metadata": {
    "cell_id": "00005-1486a035-bb10-466c-b34e-5a82a7d677e8",
    "deepnote_cell_type": "code"
   },
   "source": "path = \"../../Datasets/Tabular/kickstarter-projects/\"\ndf   = pd.read_csv(path+'ks-projects-201801.csv',\n                   #index_col=\"ID\",\n                   parse_dates=['deadline', 'launched'])\n\n# Drop live projects\ndf = df.query('state != \"live\"')\n\n# Timestamp features\ndf = df.assign(hour = df.launched.dt.hour,\n               day  = df.launched.dt.day,\n               month= df.launched.dt.month,\n               year = df.launched.dt.year)\n\n# Add target column, \"successful\" == 1, others are 0\ndf[\"target\"] = (df['state'] == 'successful').astype(int)\n\ndf.head(3)",
   "execution_count": 6,
   "outputs": [
    {
     "data": {
      "text/html": "<div>\n<style scoped>\n    .dataframe tbody tr th:only-of-type {\n        vertical-align: middle;\n    }\n\n    .dataframe tbody tr th {\n        vertical-align: top;\n    }\n\n    .dataframe thead th {\n        text-align: right;\n    }\n</style>\n<table border=\"1\" class=\"dataframe\">\n  <thead>\n    <tr style=\"text-align: right;\">\n      <th></th>\n      <th>ID</th>\n      <th>name</th>\n      <th>category</th>\n      <th>main_category</th>\n      <th>currency</th>\n      <th>deadline</th>\n      <th>goal</th>\n      <th>launched</th>\n      <th>pledged</th>\n      <th>state</th>\n      <th>backers</th>\n      <th>country</th>\n      <th>usd pledged</th>\n      <th>usd_pledged_real</th>\n      <th>usd_goal_real</th>\n      <th>hour</th>\n      <th>day</th>\n      <th>month</th>\n      <th>year</th>\n      <th>target</th>\n    </tr>\n  </thead>\n  <tbody>\n    <tr>\n      <th>0</th>\n      <td>1000002330</td>\n      <td>The Songs of Adelaide &amp; Abullah</td>\n      <td>Poetry</td>\n      <td>Publishing</td>\n      <td>GBP</td>\n      <td>2015-10-09</td>\n      <td>1000.0</td>\n      <td>2015-08-11 12:12:28</td>\n      <td>0.0</td>\n      <td>failed</td>\n      <td>0</td>\n      <td>GB</td>\n      <td>0.0</td>\n      <td>0.0</td>\n      <td>1533.95</td>\n      <td>12</td>\n      <td>11</td>\n      <td>8</td>\n      <td>2015</td>\n      <td>0</td>\n    </tr>\n    <tr>\n      <th>1</th>\n      <td>1000003930</td>\n      <td>Greeting From Earth: ZGAC Arts Capsule For ET</td>\n      <td>Narrative Film</td>\n      <td>Film &amp; Video</td>\n      <td>USD</td>\n      <td>2017-11-01</td>\n      <td>30000.0</td>\n      <td>2017-09-02 04:43:57</td>\n      <td>2421.0</td>\n      <td>failed</td>\n      <td>15</td>\n      <td>US</td>\n      <td>100.0</td>\n      <td>2421.0</td>\n      <td>30000.00</td>\n      <td>4</td>\n      <td>2</td>\n      <td>9</td>\n      <td>2017</td>\n      <td>0</td>\n    </tr>\n    <tr>\n      <th>2</th>\n      <td>1000004038</td>\n      <td>Where is Hank?</td>\n      <td>Narrative Film</td>\n      <td>Film &amp; Video</td>\n      <td>USD</td>\n      <td>2013-02-26</td>\n      <td>45000.0</td>\n      <td>2013-01-12 00:20:50</td>\n      <td>220.0</td>\n      <td>failed</td>\n      <td>3</td>\n      <td>US</td>\n      <td>220.0</td>\n      <td>220.0</td>\n      <td>45000.00</td>\n      <td>0</td>\n      <td>12</td>\n      <td>1</td>\n      <td>2013</td>\n      <td>0</td>\n    </tr>\n  </tbody>\n</table>\n</div>",
      "text/plain": "           ID                                           name        category  \\\n0  1000002330                The Songs of Adelaide & Abullah          Poetry   \n1  1000003930  Greeting From Earth: ZGAC Arts Capsule For ET  Narrative Film   \n2  1000004038                                 Where is Hank?  Narrative Film   \n\n  main_category currency   deadline     goal            launched  pledged  \\\n0    Publishing      GBP 2015-10-09   1000.0 2015-08-11 12:12:28      0.0   \n1  Film & Video      USD 2017-11-01  30000.0 2017-09-02 04:43:57   2421.0   \n2  Film & Video      USD 2013-02-26  45000.0 2013-01-12 00:20:50    220.0   \n\n    state  backers country  usd pledged  usd_pledged_real  usd_goal_real  \\\n0  failed        0      GB          0.0               0.0        1533.95   \n1  failed       15      US        100.0            2421.0       30000.00   \n2  failed        3      US        220.0             220.0       45000.00   \n\n   hour  day  month  year  target  \n0    12   11      8  2015       0  \n1     4    2      9  2017       0  \n2     0   12      1  2013       0  "
     },
     "execution_count": 6,
     "metadata": {},
     "output_type": "execute_result"
    }
   ]
  },
  {
   "cell_type": "code",
   "metadata": {
    "cell_id": "00006-aa66b3b3-c0e1-49cb-a0a2-af89b37b345e",
    "deepnote_cell_type": "code"
   },
   "source": "df.target.value_counts().plot.pie();",
   "execution_count": 7,
   "outputs": [
    {
     "data": {
      "image/png": "[encoded data removed]",
      "text/plain": "<Figure size 432x288 with 1 Axes>"
     },
     "metadata": {
      "image/png": {
       "width": 245,
       "height": 231
      }
     },
     "output_type": "display_data"
    }
   ]
  },
  {
   "cell_type": "markdown",
   "source": "## Select data",
   "metadata": {
    "cell_id": "00007-ac4163d2-ca0c-4c8e-be12-3ddeb53e58bd",
    "deepnote_cell_type": "markdown"
   }
  },
  {
   "cell_type": "code",
   "metadata": {
    "cell_id": "00008-3debf33f-24b3-4735-92d2-a9765b33877a",
    "deepnote_cell_type": "code"
   },
   "source": "cat_vars = ['category', 'currency', 'country']\nnum_vars = ['goal', 'hour', 'day', 'month', 'year']\n\nx = df[cat_vars + num_vars]\ny = df[\"target\"] # \"successful\" == 1, others are 0",
   "execution_count": 8,
   "outputs": []
  },
  {
   "cell_type": "markdown",
   "source": "## Prepro",
   "metadata": {
    "papermill": {
     "duration": 0.009478,
     "end_time": "2020-10-01T00:24:45.412525",
     "exception": false,
     "start_time": "2020-10-01T00:24:45.403047",
     "status": "completed"
    },
    "tags": [],
    "cell_id": "00009-40f61475-d4d7-46bd-91be-6bd00b097582",
    "deepnote_cell_type": "markdown"
   }
  },
  {
   "cell_type": "code",
   "metadata": {
    "cell_id": "00010-08fb645c-a344-40d2-8b1a-ea22bd89143c",
    "deepnote_cell_type": "code"
   },
   "source": "cat_encoders = {\n    \"OneHot\":      ce.OneHotEncoder(cols = cat_vars),\n    \"Ordinal\":     ce.OrdinalEncoder(cols = cat_vars),\n    \"Binary\":      ce.BinaryEncoder(cols = cat_vars),\n    \"Count\":       ce.CountEncoder(cols = cat_vars, min_group_size=False),\n    \"Frequency\":   ce.CountEncoder(cols = cat_vars, min_group_size=False, normalize=True),\n    \"Target\":      ce.TargetEncoder(cols = cat_vars),\n    \"Target_LOO\":  ce.LeaveOneOutEncoder(cols = cat_vars),\n    \"Target_CatB\": ce.TargetEncoder(cols = cat_vars),\n}\n\n# OTHERS LESS COMMON CAT ENCODERS\n#\n# ce.BackwardDifferenceEncoder()\n# ce.BaseNEncoder()\n# ce.GLMMEncoder()\n# ce.HashingEncoder()\n# ce.HelmertEncoder()\n# ce.JamesSteinEncoder()\n# ce.MEstimateEncoder()\n# ce.SumEncoder()\n# ce.PolynomialEncoder()\n# ce.WOEEncoder()",
   "execution_count": 9,
   "outputs": []
  },
  {
   "cell_type": "code",
   "metadata": {
    "cell_id": "00011-abb60514-805c-4355-861a-d6618c3f6ecb",
    "deepnote_cell_type": "code"
   },
   "source": "\"\"\"\ndef create_tree_prepro(cat_encoder):\n\n    num_prepro = pipeline.Pipeline(steps=[\n        ('imputer', impute.SimpleImputer(strategy='constant', fill_value=-9999)),\n    ])\n\n    cat_prepro = pipeline.Pipeline(steps=[\n        ('imputer', impute.SimpleImputer(strategy='constant', fill_value='missing')),\n        ('ordinal', cat_encoder)\n    ])\n\n    tree_prepro = compose.ColumnTransformer(transformers=[\n        ('num', num_prepro, num_vars),\n        ('cat', cat_prepro, cat_vars),\n    ], remainder='drop') # Drop other vars not specified in num_vars or cat_vars\n\n    return tree_prepro\n\np= create_tree_prepro(cat_encoders[\"OneHot\"])\np\n\"\"\";",
   "execution_count": 6,
   "outputs": []
  },
  {
   "cell_type": "markdown",
   "source": "## Model",
   "metadata": {
    "cell_id": "00012-ee8fcb90-4603-4e90-aa83-5935becc76ec",
    "deepnote_cell_type": "markdown"
   }
  },
  {
   "cell_type": "code",
   "metadata": {
    "cell_id": "00013-4d954050-118b-4029-86f8-0cf986869c99",
    "deepnote_cell_type": "code"
   },
   "source": "def create_lgb_model():\n\n    model = lgb.LGBMClassifier(\n         num_leaves   = 64,\n         objective    = \"binary\",\n         metric       = \"auc\",\n         seed         = 7\n    #   n_estimators  = 7000\n    #   max_bin       = 128,\n    #   num_leaves    = 8,\n    #   reg_alpha     = 1.2,\n    #   reg_lambda    = 1.2,\n    #   min_data_in_leaf = 50,\n    #   bagging_fraction = 0.5,\n    #   learning_rate    = 0.001\n    #   n_jobs           = -1\n    )\n    \n    return model\n\ncreate_lgb_model()",
   "execution_count": 7,
   "outputs": [
    {
     "data": {
      "text/html": "<style>div.sk-top-container {color: black;background-color: white;}div.sk-toggleable {background-color: white;}label.sk-toggleable__label {cursor: pointer;display: block;width: 100%;margin-bottom: 0;padding: 0.2em 0.3em;box-sizing: border-box;text-align: center;}div.sk-toggleable__content {max-height: 0;max-width: 0;overflow: hidden;text-align: left;background-color: #f0f8ff;}div.sk-toggleable__content pre {margin: 0.2em;color: black;border-radius: 0.25em;background-color: #f0f8ff;}input.sk-toggleable__control:checked~div.sk-toggleable__content {max-height: 200px;max-width: 100%;overflow: auto;}div.sk-estimator input.sk-toggleable__control:checked~label.sk-toggleable__label {background-color: #d4ebff;}div.sk-label input.sk-toggleable__control:checked~label.sk-toggleable__label {background-color: #d4ebff;}input.sk-hidden--visually {border: 0;clip: rect(1px 1px 1px 1px);clip: rect(1px, 1px, 1px, 1px);height: 1px;margin: -1px;overflow: hidden;padding: 0;position: absolute;width: 1px;}div.sk-estimator {font-family: monospace;background-color: #f0f8ff;margin: 0.25em 0.25em;border: 1px dotted black;border-radius: 0.25em;box-sizing: border-box;}div.sk-estimator:hover {background-color: #d4ebff;}div.sk-parallel-item::after {content: \"\";width: 100%;border-bottom: 1px solid gray;flex-grow: 1;}div.sk-label:hover label.sk-toggleable__label {background-color: #d4ebff;}div.sk-serial::before {content: \"\";position: absolute;border-left: 1px solid gray;box-sizing: border-box;top: 2em;bottom: 0;left: 50%;}div.sk-serial {display: flex;flex-direction: column;align-items: center;background-color: white;}div.sk-item {z-index: 1;}div.sk-parallel {display: flex;align-items: stretch;justify-content: center;background-color: white;}div.sk-parallel-item {display: flex;flex-direction: column;position: relative;background-color: white;}div.sk-parallel-item:first-child::after {align-self: flex-end;width: 50%;}div.sk-parallel-item:last-child::after {align-self: flex-start;width: 50%;}div.sk-parallel-item:only-child::after {width: 0;}div.sk-dashed-wrapped {border: 1px dashed gray;margin: 0.2em;box-sizing: border-box;padding-bottom: 0.1em;background-color: white;position: relative;}div.sk-label label {font-family: monospace;font-weight: bold;background-color: white;display: inline-block;line-height: 1.2em;}div.sk-label-container {position: relative;z-index: 2;text-align: center;}div.sk-container {display: inline-block;position: relative;}</style><div class=\"sk-top-container\"><div class=\"sk-container\"><div class=\"sk-item\"><div class=\"sk-estimator sk-toggleable\"><input class=\"sk-toggleable__control sk-hidden--visually\" id=\"db9548a3-3f48-4efa-973b-d4dbe07c4440\" type=\"checkbox\" checked><label class=\"sk-toggleable__label\" for=\"db9548a3-3f48-4efa-973b-d4dbe07c4440\">LGBMClassifier</label><div class=\"sk-toggleable__content\"><pre>LGBMClassifier(metric='auc', num_leaves=64, objective='binary', seed=7)</pre></div></div></div></div></div>",
      "text/plain": "LGBMClassifier(metric='auc', num_leaves=64, objective='binary', seed=7)"
     },
     "execution_count": 7,
     "metadata": {},
     "output_type": "execute_result"
    }
   ]
  },
  {
   "cell_type": "markdown",
   "source": "# TRAIN 10 Folds",
   "metadata": {
    "cell_id": "00014-f3ca5b7e-cc39-4e08-8b3d-2cda4e8a44fe",
    "deepnote_cell_type": "markdown"
   }
  },
  {
   "cell_type": "code",
   "metadata": {
    "_kg_hide-input": true,
    "execution": {
     "iopub.execute_input": "2020-10-01T00:24:45.448938Z",
     "iopub.status.busy": "2020-10-01T00:24:45.448255Z",
     "iopub.status.idle": "2020-10-01T00:24:49.202582Z",
     "shell.execute_reply": "2020-10-01T00:24:49.203135Z"
    },
    "papermill": {
     "duration": 3.781918,
     "end_time": "2020-10-01T00:24:49.203326",
     "exception": false,
     "start_time": "2020-10-01T00:24:45.421408",
     "status": "completed"
    },
    "scrolled": false,
    "tags": [],
    "cell_id": "00015-a5c3f976-ab7b-409e-8136-8e2d993c4c4a",
    "deepnote_cell_type": "code"
   },
   "source": "skf = model_selection.StratifiedKFold(n_splits=10, shuffle=True, random_state=0)\n\nfor train_idxs, valid_idxs in skf.split(x, y):\n        \n    x_train, y_train = x.iloc[train_idxs], y.iloc[train_idxs]\n    x_valid, y_valid = x.iloc[valid_idxs], y.iloc[valid_idxs]\n\n    for cat_encoder_name, cat_encoder in cat_encoders.items():\n        \n        print()\n\n        # 1) PREPRO THE DATA\n        #prepro = create_tree_prepro(cat_encoder)\n        x_train_prepro = cat_encoder.fit_transform(x_train, y_train) # y_train ONLY USED IN TARGET ENCS\n        x_valid_prepro = cat_encoder.transform(x_valid)\n        \n        \n        # 2) TRAIN\n        model  = create_lgb_model()\n        model.fit(\n            X                     = x_train_prepro,\n            y                     = y_train,\n            eval_set              = [(x_valid_prepro, y_valid)],\n            eval_metric           = 'auc',\n            early_stopping_rounds = 2000,\n            verbose               = -1\n            #categorical_feature   = cat_vars,\n        )\n        \n        #from sklearn.ensemble import RandomForestClassifier\n        #model = RandomForestClassifier(max_depth=2, random_state=0)\n        #model.fit(x_train_prepro, y_train)\n        \n        # 3) VALIDATE\n        valid_pred = model.predict(x_valid_prepro)\n        auc = metrics.roc_auc_score(y_valid, valid_pred) * 100\n        print(cat_encoder_name + \" AUC score: \" + str(round(auc, 4)))\n\n    break",
   "execution_count": 8,
   "outputs": [
    {
     "name": "stdout",
     "output_type": "stream",
     "text": "\nTraining until validation scores don't improve for 2000 rounds\nDid not meet early stopping. Best iteration is:\n[100]\tvalid_0's auc: 0.748453\nOneHot AUC score: 64.1334\n\nTraining until validation scores don't improve for 2000 rounds\nDid not meet early stopping. Best iteration is:\n[100]\tvalid_0's auc: 0.747264\nOrdinal AUC score: 63.904\n\nTraining until validation scores don't improve for 2000 rounds\nDid not meet early stopping. Best iteration is:\n[100]\tvalid_0's auc: 0.744696\nBinary AUC score: 63.6053\n\nTraining until validation scores don't improve for 2000 rounds\nDid not meet early stopping. Best iteration is:\n[100]\tvalid_0's auc: 0.744284\nCount AUC score: 63.91\n\nTraining until validation scores don't improve for 2000 rounds\nDid not meet early stopping. Best iteration is:\n[100]\tvalid_0's auc: 0.744284\nFrequency AUC score: 63.91\n\nTraining until validation scores don't improve for 2000 rounds\nDid not meet early stopping. Best iteration is:\n[99]\tvalid_0's auc: 0.744704\nTarget AUC score: 64.0168\n\nTraining until validation scores don't improve for 2000 rounds\nDid not meet early stopping. Best iteration is:\n[67]\tvalid_0's auc: 0.507791\nTarget_LOO AUC score: 49.8669\n\nTraining until validation scores don't improve for 2000 rounds\nDid not meet early stopping. Best iteration is:\n[99]\tvalid_0's auc: 0.744704\nTarget_CatB AUC score: 64.0168\n"
    }
   ]
  },
  {
   "cell_type": "code",
   "metadata": {
    "execution": {
     "iopub.execute_input": "2020-10-01T00:24:49.230021Z",
     "iopub.status.busy": "2020-10-01T00:24:49.228640Z",
     "iopub.status.idle": "2020-10-01T00:24:52.996995Z",
     "shell.execute_reply": "2020-10-01T00:24:52.997613Z"
    },
    "papermill": {
     "duration": 3.785292,
     "end_time": "2020-10-01T00:24:52.997795",
     "exception": false,
     "start_time": "2020-10-01T00:24:49.212503",
     "status": "completed"
    },
    "tags": [],
    "cell_id": "00016-7b990c62-5752-4a76-b119-8d432cc8e50a",
    "deepnote_cell_type": "code"
   },
   "source": "def get_data_splits(dataframe, valid_fraction=0.1):\n    valid_fraction = 0.1\n    valid_size = int(len(dataframe) * valid_fraction)\n\n    train = dataframe[:-valid_size * 2]\n    # valid size == test size, last two sections of the data\n    valid = dataframe[-valid_size * 2:-valid_size]\n    test = dataframe[-valid_size:]\n    \n    return train, valid, test\n\ndef train_model(train, valid):\n    feature_cols = train.columns.drop('outcome')\n\n    dtrain = lgb.Dataset(train[feature_cols], label=train['outcome'])\n    dvalid = lgb.Dataset(valid[feature_cols], label=valid['outcome'])\n\n    param = {'num_leaves': 64, 'objective': 'binary', \n             'metric': 'auc', 'seed': 7}\n    bst = lgb.train(param, dtrain, num_boost_round=1000, valid_sets=[dvalid], \n                    early_stopping_rounds=10, verbose_eval=False)\n\n    valid_pred = bst.predict(valid[feature_cols])\n    valid_score = metrics.roc_auc_score(valid['outcome'], valid_pred)\n    print(f\"Validation AUC score: {valid_score:.4f}\")\n    \n    \n# Train a model (on the baseline data)\ntrain, valid, test = get_data_splits(data)\ntrain_model(train, valid)",
   "execution_count": null,
   "outputs": []
  },
  {
   "cell_type": "markdown",
   "source": "# Count Encoding (aka Frequency Encoding)\n\nCount encoding replaces each categorical value with the number of times it appears in the dataset. For example, if the value \"GB\" occured 10 times in the country feature, then each \"GB\" would be replaced with the number 10.\n\nWe'll use the [`categorical-encodings` package](https://github.com/scikit-learn-contrib/categorical-encoding) to get this encoding. The encoder itself is available as `CountEncoder`. This encoder and the others in `categorical-encodings` work like scikit-learn transformers with `.fit` and `.transform` methods.",
   "metadata": {
    "papermill": {
     "duration": 0.012291,
     "end_time": "2020-10-01T00:24:53.022550",
     "exception": false,
     "start_time": "2020-10-01T00:24:53.010259",
     "status": "completed"
    },
    "tags": [],
    "cell_id": "00017-e8ef90fe-a9c9-471f-a463-de3e41ed6c75",
    "deepnote_cell_type": "markdown"
   }
  },
  {
   "cell_type": "code",
   "metadata": {
    "execution": {
     "iopub.execute_input": "2020-10-01T00:24:53.055365Z",
     "iopub.status.busy": "2020-10-01T00:24:53.054447Z",
     "iopub.status.idle": "2020-10-01T00:24:58.446850Z",
     "shell.execute_reply": "2020-10-01T00:24:58.447431Z"
    },
    "papermill": {
     "duration": 5.412997,
     "end_time": "2020-10-01T00:24:58.447626",
     "exception": false,
     "start_time": "2020-10-01T00:24:53.034629",
     "status": "completed"
    },
    "tags": [],
    "cell_id": "00018-65813390-80df-459f-9c3f-5103c1d945c1",
    "deepnote_cell_type": "code"
   },
   "source": "\ncat_features = ['category', 'currency', 'country']\n\n# Create the encoder\ncount_enc = ce.CountEncoder()\n\n# Transform the features, rename the columns with the _count suffix, and join to dataframe\ncount_encoded = count_enc.fit_transform(ks[cat_features])\ndata = data.join(count_encoded.add_suffix(\"_count\"))\n\n# Train a model \ntrain, valid, test = get_data_splits(data)\ntrain_model(train, valid)",
   "execution_count": 3,
   "outputs": [
    {
     "name": "stdout",
     "output_type": "stream",
     "text": "Validation AUC score: 0.7486\n"
    }
   ]
  },
  {
   "cell_type": "markdown",
   "source": "Adding the count encoding features increase the validation score from 0.7467 to 0.7486, only a slight improvement.",
   "metadata": {
    "papermill": {
     "duration": 0.012139,
     "end_time": "2020-10-01T00:24:58.472479",
     "exception": false,
     "start_time": "2020-10-01T00:24:58.460340",
     "status": "completed"
    },
    "tags": [],
    "cell_id": "00019-aa3cce4e-b82c-4854-a39f-452e245cdd70",
    "deepnote_cell_type": "markdown"
   }
  },
  {
   "cell_type": "markdown",
   "source": "# Target Encoding (aka Mean Encoding)\n\nTarget encoding replaces a categorical value with the average value of the target for that value of the feature. For example, given the country value \"CA\", you'd calculate the average outcome for all the rows with `country == 'CA'`, around 0.28. This is often blended with the target probability over the entire dataset to reduce the variance of values with few occurences.\n\nThis technique uses the targets to create new features. So including the validation or test data in the target encodings would be a form of target leakage. Instead, you should learn the target encodings from the training dataset only and apply it to the other datasets.\n\nThe `category_encoders` package provides `TargetEncoder` for target encoding. The implementation is similar to `CountEncoder`.",
   "metadata": {
    "papermill": {
     "duration": 0.012054,
     "end_time": "2020-10-01T00:24:58.497173",
     "exception": false,
     "start_time": "2020-10-01T00:24:58.485119",
     "status": "completed"
    },
    "tags": [],
    "cell_id": "00020-d25c1e88-7da0-44c9-8240-861a4a811f1c",
    "deepnote_cell_type": "markdown"
   }
  },
  {
   "cell_type": "code",
   "metadata": {
    "execution": {
     "iopub.execute_input": "2020-10-01T00:24:58.535078Z",
     "iopub.status.busy": "2020-10-01T00:24:58.534238Z",
     "iopub.status.idle": "2020-10-01T00:25:02.959128Z",
     "shell.execute_reply": "2020-10-01T00:25:02.960276Z"
    },
    "papermill": {
     "duration": 4.449064,
     "end_time": "2020-10-01T00:25:02.960460",
     "exception": false,
     "start_time": "2020-10-01T00:24:58.511396",
     "status": "completed"
    },
    "tags": [],
    "cell_id": "00021-3d590564-1e48-4d5d-a82e-681d1d3e2145",
    "deepnote_cell_type": "code"
   },
   "source": "# Create the encoder\ntarget_enc = ce.TargetEncoder(cols=cat_features)\ntarget_enc.fit(train[cat_features], train['outcome'])\n\n# Transform the features, rename the columns with _target suffix, and join to dataframe\ntrain_TE = train.join(target_enc.transform(train[cat_features]).add_suffix('_target'))\nvalid_TE = valid.join(target_enc.transform(valid[cat_features]).add_suffix('_target'))\n\n# Train a model\ntrain_model(train_TE, valid_TE)",
   "execution_count": 4,
   "outputs": [
    {
     "name": "stderr",
     "output_type": "stream",
     "text": "/opt/conda/lib/python3.7/site-packages/category_encoders/utils.py:21: FutureWarning: is_categorical is deprecated and will be removed in a future version.  Use is_categorical_dtype instead\n  elif pd.api.types.is_categorical(cols):\n"
    },
    {
     "name": "stdout",
     "output_type": "stream",
     "text": "Validation AUC score: 0.7491\n"
    }
   ]
  },
  {
   "cell_type": "markdown",
   "source": "The validation score is higher again, from 0.7467 to 0.7491.",
   "metadata": {
    "papermill": {
     "duration": 0.013231,
     "end_time": "2020-10-01T00:25:02.987944",
     "exception": false,
     "start_time": "2020-10-01T00:25:02.974713",
     "status": "completed"
    },
    "tags": [],
    "cell_id": "00022-c6e56c91-2910-4a1d-b57b-a38fcf67095b",
    "deepnote_cell_type": "markdown"
   }
  },
  {
   "cell_type": "markdown",
   "source": "# CatBoost Encoding\n\nFinally, we'll look at CatBoost encoding. This is similar to target encoding in that it's based on the target probablity for a given value. However with CatBoost, for each row, the target probability is calculated only from the rows before it.",
   "metadata": {
    "papermill": {
     "duration": 0.014087,
     "end_time": "2020-10-01T00:25:03.015653",
     "exception": false,
     "start_time": "2020-10-01T00:25:03.001566",
     "status": "completed"
    },
    "tags": [],
    "cell_id": "00023-ff17cfff-3a1b-40ab-8030-2502737eb10f",
    "deepnote_cell_type": "markdown"
   }
  },
  {
   "cell_type": "code",
   "metadata": {
    "execution": {
     "iopub.execute_input": "2020-10-01T00:25:03.056440Z",
     "iopub.status.busy": "2020-10-01T00:25:03.055638Z",
     "iopub.status.idle": "2020-10-01T00:25:07.434323Z",
     "shell.execute_reply": "2020-10-01T00:25:07.435102Z"
    },
    "papermill": {
     "duration": 4.405934,
     "end_time": "2020-10-01T00:25:07.435283",
     "exception": false,
     "start_time": "2020-10-01T00:25:03.029349",
     "status": "completed"
    },
    "tags": [],
    "cell_id": "00024-878c292e-0c75-45c9-9db1-3095123083e4",
    "deepnote_cell_type": "code"
   },
   "source": "# Create the encoder\ntarget_enc = ce.CatBoostEncoder(cols=cat_features)\ntarget_enc.fit(train[cat_features], train['outcome'])\n\n# Transform the features, rename columns with _cb suffix, and join to dataframe\ntrain_CBE = train.join(target_enc.transform(train[cat_features]).add_suffix('_cb'))\nvalid_CBE = valid.join(target_enc.transform(valid[cat_features]).add_suffix('_cb'))\n\n# Train a model\ntrain_model(train_CBE, valid_CBE)",
   "execution_count": 5,
   "outputs": [
    {
     "name": "stderr",
     "output_type": "stream",
     "text": "/opt/conda/lib/python3.7/site-packages/category_encoders/utils.py:21: FutureWarning: is_categorical is deprecated and will be removed in a future version.  Use is_categorical_dtype instead\n  elif pd.api.types.is_categorical(cols):\n"
    },
    {
     "name": "stdout",
     "output_type": "stream",
     "text": "Validation AUC score: 0.7492\n"
    }
   ]
  },
  {
   "cell_type": "markdown",
   "source": "This does slightly better than target encoding.",
   "metadata": {
    "papermill": {
     "duration": 0.014069,
     "end_time": "2020-10-01T00:25:07.466991",
     "exception": false,
     "start_time": "2020-10-01T00:25:07.452922",
     "status": "completed"
    },
    "tags": [],
    "cell_id": "00025-a58bc5a0-4c4f-4f4c-a0b0-6466f6be6521",
    "deepnote_cell_type": "markdown"
   }
  },
  {
   "cell_type": "markdown",
   "source": "# Your Turn\n**[Try encoding categorical features](https://www.kaggle.com/kernels/fork/5407502)** yourself.",
   "metadata": {
    "papermill": {
     "duration": 0.01397,
     "end_time": "2020-10-01T00:25:07.495595",
     "exception": false,
     "start_time": "2020-10-01T00:25:07.481625",
     "status": "completed"
    },
    "tags": [],
    "cell_id": "00026-b828840b-6bb1-4286-95a9-64b30c613a48",
    "deepnote_cell_type": "markdown"
   }
  },
  {
   "cell_type": "markdown",
   "source": "<a style='text-decoration:none;line-height:16px;display:flex;color:#5B5B62;padding:10px;justify-content:end;' href='https://deepnote.com?utm_source=created-in-deepnote-cell&projectId=796ba814-f632-4502-b0d7-7e2f8f9e546d' target=\"_blank\">\n<img alt='Created in deepnote.com' style='display:inline;max-height:16px;margin:0px;margin-right:7.5px;' src='data:image/svg+xml;base64,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' > </img>\nCreated in <span style='font-weight:600;margin-left:4px;'>Deepnote</span></a>",
   "metadata": {
    "tags": [],
    "created_in_deepnote_cell": true,
    "deepnote_cell_type": "markdown"
   }
  }
 ],
 "nbformat": 4,
 "nbformat_minor": 4,
 "metadata": {
  "kernelspec": {
   "display_name": "Python 3",
   "language": "python",
   "name": "python3"
  },
  "language_info": {
   "codemirror_mode": {
    "name": "ipython",
    "version": 3
   },
   "file_extension": ".py",
   "mimetype": "text/x-python",
   "name": "python",
   "nbconvert_exporter": "python",
   "pygments_lexer": "ipython3",
   "version": "3.9.4"
  },
  "papermill": {
   "duration": 26.887004,
   "end_time": "2020-10-01T00:25:07.647744",
   "environment_variables": {},
   "exception": null,
   "input_path": "__notebook__.ipynb",
   "output_path": "__notebook__.ipynb",
   "parameters": {},
   "start_time": "2020-10-01T00:24:40.760740",
   "version": "2.1.0"
  },
  "deepnote_notebook_id": "b6329937-c409-4bda-91fc-83a453fd28aa",
  "deepnote": {},
  "deepnote_execution_queue": []
 }
}