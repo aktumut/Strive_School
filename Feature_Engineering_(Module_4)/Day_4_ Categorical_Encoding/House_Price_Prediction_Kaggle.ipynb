{
 "cells": [
  {
   "cell_type": "code",
   "metadata": {
    "tags": [],
    "cell_id": "00000-f3eb7db7-7f9a-4bb1-874b-4e6a43d14089",
    "deepnote_to_be_reexecuted": false,
    "source_hash": "fbbc4272",
    "execution_start": 1620304314422,
    "execution_millis": 1629,
    "deepnote_cell_type": "code"
   },
   "source": "import time\nfrom IPython.display import clear_output\nimport numpy    as np\nimport pandas   as pd\nimport seaborn  as sb\nimport matplotlib.pyplot as plt\nimport sklearn  as skl\n\nfrom sklearn import pipeline      # Pipeline\nfrom sklearn import preprocessing # OrdinalEncoder, LabelEncoder\nfrom sklearn import impute\nfrom sklearn import compose\nfrom sklearn import model_selection # train_test_split\nfrom sklearn import metrics         # accuracy_score, balanced_accuracy_score, plot_confusion_matrix\nfrom sklearn import set_config\nfrom sklearn.impute import KNNImputer\nfrom sklearn.preprocessing import PowerTransformer\nfrom sklearn.preprocessing import QuantileTransformer\n\nset_config(display='diagram') # Useful for display the pipeline\n\nprint(\"Pandas  \", pd.__version__)\nprint(\"Sklearn \", skl.__version__) # Try to use 0.24",
   "execution_count": 1,
   "outputs": [
    {
     "name": "stdout",
     "text": "Pandas   1.2.4\nSklearn  0.24.2\n",
     "output_type": "stream"
    }
   ]
  },
  {
   "cell_type": "code",
   "metadata": {
    "tags": [],
    "cell_id": "00001-4ff0f20b-1bb7-4484-a391-08177007a5a7",
    "deepnote_to_be_reexecuted": false,
    "source_hash": "e97727bd",
    "execution_start": 1620304316049,
    "execution_millis": 10,
    "deepnote_cell_type": "code"
   },
   "source": "CLOUD = True\n\nif CLOUD:\n    import os\n    os.environ['KAGGLE_USERNAME'] = \"umutakta\"\n    os.environ['KAGGLE_KEY']      = \"a471e5474add8d57cadac3cc5ff2b1d6\"  # See https://www.kaggle.com/docs/api\n    #!pip install --upgrade kaggle\n    #!kaggle competitions download -c competitive-data-science-predict-future-sales\n    DATA_PATH = \"/work/Strive_School/Feature_Engineering_(Module_4)/Day_4_ Categorical_Encoding/competitive-data-science-predict-future-sales/\"\n\nelse:\n    #DATA_PATH = \"../../datasets/titanic/\"\n    pass\n\nDATA_PATH",
   "execution_count": 2,
   "outputs": [
    {
     "output_type": "execute_result",
     "execution_count": 2,
     "data": {
      "text/plain": "'/work/Strive_School/Feature_Engineering_(Module_4)/Day_4_ Categorical_Encoding/competitive-data-science-predict-future-sales/'"
     },
     "metadata": {}
    }
   ]
  },
  {
   "cell_type": "code",
   "metadata": {
    "tags": [],
    "cell_id": "00002-ddb86fbe-0b0b-47e8-853c-1d80a7fc55da",
    "deepnote_to_be_reexecuted": false,
    "source_hash": "a2af488b",
    "execution_start": 1620304546206,
    "execution_millis": 1458,
    "deepnote_cell_type": "code"
   },
   "source": "df      = pd.read_csv(DATA_PATH + \"sales_train.csv\")\ndf_test = pd.read_csv(DATA_PATH + \"test.csv\")\ndf_items= pd.read_csv(DATA_PATH + \"items.csv\")\ndf_shops= pd.read_csv(DATA_PATH + \"shops.csv\")\ndf_categ= pd.read_csv(DATA_PATH + \"item_categories.csv\")\n\nprint(\"Train DataFrame:\", df.shape)\nprint(\"Test DataFrame: \", df_test.shape)",
   "execution_count": 9,
   "outputs": [
    {
     "name": "stdout",
     "text": "Train DataFrame: (2935849, 6)\nTest DataFrame:  (214200, 3)\n",
     "output_type": "stream"
    }
   ]
  },
  {
   "cell_type": "code",
   "metadata": {
    "tags": [],
    "cell_id": "00003-5463b903-e0d5-4476-ab8c-a08fb5862de0",
    "deepnote_to_be_reexecuted": false,
    "source_hash": "f804c160",
    "execution_start": 1620304549330,
    "execution_millis": 195,
    "deepnote_cell_type": "code"
   },
   "source": "df",
   "execution_count": 10,
   "outputs": [
    {
     "output_type": "execute_result",
     "execution_count": 10,
     "data": {
      "application/vnd.deepnote.dataframe.v2+json": {
       "row_count": 2935849,
       "column_count": 6,
       "columns": [
        {
         "name": "date",
         "dtype": "object"
        },
        {
         "name": "date_block_num",
         "dtype": "int64"
        },
        {
         "name": "shop_id",
         "dtype": "int64"
        },
        {
         "name": "item_id",
         "dtype": "int64"
        },
        {
         "name": "item_price",
         "dtype": "float64"
        },
        {
         "name": "item_cnt_day",
         "dtype": "float64"
        },
        {
         "name": "_deepnote_index_column",
         "dtype": "int64"
        }
       ],
       "rows_top": [
        {
         "date": "02.01.2013",
         "date_block_num": 0,
         "shop_id": 59,
         "item_id": 22154,
         "item_price": 999,
         "item_cnt_day": 1,
         "_deepnote_index_column": 0
        },
        {
         "date": "03.01.2013",
         "date_block_num": 0,
         "shop_id": 25,
         "item_id": 2552,
         "item_price": 899,
         "item_cnt_day": 1,
         "_deepnote_index_column": 1
        },
        {
         "date": "05.01.2013",
         "date_block_num": 0,
         "shop_id": 25,
         "item_id": 2552,
         "item_price": 899,
         "item_cnt_day": -1,
         "_deepnote_index_column": 2
        },
        {
         "date": "06.01.2013",
         "date_block_num": 0,
         "shop_id": 25,
         "item_id": 2554,
         "item_price": 1709.05,
         "item_cnt_day": 1,
         "_deepnote_index_column": 3
        },
        {
         "date": "15.01.2013",
         "date_block_num": 0,
         "shop_id": 25,
         "item_id": 2555,
         "item_price": 1099,
         "item_cnt_day": 1,
         "_deepnote_index_column": 4
        },
        {
         "date": "10.01.2013",
         "date_block_num": 0,
         "shop_id": 25,
         "item_id": 2564,
         "item_price": 349,
         "item_cnt_day": 1,
         "_deepnote_index_column": 5
        },
        {
         "date": "02.01.2013",
         "date_block_num": 0,
         "shop_id": 25,
         "item_id": 2565,
         "item_price": 549,
         "item_cnt_day": 1,
         "_deepnote_index_column": 6
        },
        {
         "date": "04.01.2013",
         "date_block_num": 0,
         "shop_id": 25,
         "item_id": 2572,
         "item_price": 239,
         "item_cnt_day": 1,
         "_deepnote_index_column": 7
        },
        {
         "date": "11.01.2013",
         "date_block_num": 0,
         "shop_id": 25,
         "item_id": 2572,
         "item_price": 299,
         "item_cnt_day": 1,
         "_deepnote_index_column": 8
        },
        {
         "date": "03.01.2013",
         "date_block_num": 0,
         "shop_id": 25,
         "item_id": 2573,
         "item_price": 299,
         "item_cnt_day": 3,
         "_deepnote_index_column": 9
        },
        {
         "date": "03.01.2013",
         "date_block_num": 0,
         "shop_id": 25,
         "item_id": 2574,
         "item_price": 399,
         "item_cnt_day": 2,
         "_deepnote_index_column": 10
        },
        {
         "date": "05.01.2013",
         "date_block_num": 0,
         "shop_id": 25,
         "item_id": 2574,
         "item_price": 399,
         "item_cnt_day": 1,
         "_deepnote_index_column": 11
        },
        {
         "date": "07.01.2013",
         "date_block_num": 0,
         "shop_id": 25,
         "item_id": 2574,
         "item_price": 399,
         "item_cnt_day": 1,
         "_deepnote_index_column": 12
        },
        {
         "date": "08.01.2013",
         "date_block_num": 0,
         "shop_id": 25,
         "item_id": 2574,
         "item_price": 399,
         "item_cnt_day": 2,
         "_deepnote_index_column": 13
        },
        {
         "date": "10.01.2013",
         "date_block_num": 0,
         "shop_id": 25,
         "item_id": 2574,
         "item_price": 399,
         "item_cnt_day": 1,
         "_deepnote_index_column": 14
        },
        {
         "date": "11.01.2013",
         "date_block_num": 0,
         "shop_id": 25,
         "item_id": 2574,
         "item_price": 399,
         "item_cnt_day": 2,
         "_deepnote_index_column": 15
        },
        {
         "date": "13.01.2013",
         "date_block_num": 0,
         "shop_id": 25,
         "item_id": 2574,
         "item_price": 399,
         "item_cnt_day": 1,
         "_deepnote_index_column": 16
        },
        {
         "date": "16.01.2013",
         "date_block_num": 0,
         "shop_id": 25,
         "item_id": 2574,
         "item_price": 399,
         "item_cnt_day": 1,
         "_deepnote_index_column": 17
        },
        {
         "date": "26.01.2013",
         "date_block_num": 0,
         "shop_id": 25,
         "item_id": 2574,
         "item_price": 399,
         "item_cnt_day": 1,
         "_deepnote_index_column": 18
        },
        {
         "date": "27.01.2013",
         "date_block_num": 0,
         "shop_id": 25,
         "item_id": 2574,
         "item_price": 399,
         "item_cnt_day": 1,
         "_deepnote_index_column": 19
        },
        {
         "date": "09.01.2013",
         "date_block_num": 0,
         "shop_id": 25,
         "item_id": 2593,
         "item_price": 279,
         "item_cnt_day": 1,
         "_deepnote_index_column": 20
        },
        {
         "date": "16.01.2013",
         "date_block_num": 0,
         "shop_id": 25,
         "item_id": 2604,
         "item_price": 299,
         "item_cnt_day": 1,
         "_deepnote_index_column": 21
        },
        {
         "date": "27.01.2013",
         "date_block_num": 0,
         "shop_id": 25,
         "item_id": 2604,
         "item_price": 299,
         "item_cnt_day": 1,
         "_deepnote_index_column": 22
        },
        {
         "date": "27.01.2013",
         "date_block_num": 0,
         "shop_id": 25,
         "item_id": 2607,
         "item_price": 279,
         "item_cnt_day": 1,
         "_deepnote_index_column": 23
        },
        {
         "date": "29.01.2013",
         "date_block_num": 0,
         "shop_id": 25,
         "item_id": 2607,
         "item_price": 279,
         "item_cnt_day": 1,
         "_deepnote_index_column": 24
        },
        {
         "date": "27.01.2013",
         "date_block_num": 0,
         "shop_id": 25,
         "item_id": 2609,
         "item_price": 1699,
         "item_cnt_day": 1,
         "_deepnote_index_column": 25
        },
        {
         "date": "06.01.2013",
         "date_block_num": 0,
         "shop_id": 25,
         "item_id": 2548,
         "item_price": 1708.95,
         "item_cnt_day": 1,
         "_deepnote_index_column": 26
        },
        {
         "date": "26.01.2013",
         "date_block_num": 0,
         "shop_id": 25,
         "item_id": 2611,
         "item_price": 299,
         "item_cnt_day": 1,
         "_deepnote_index_column": 27
        },
        {
         "date": "02.01.2013",
         "date_block_num": 0,
         "shop_id": 25,
         "item_id": 2546,
         "item_price": 299,
         "item_cnt_day": 1,
         "_deepnote_index_column": 28
        },
        {
         "date": "06.01.2013",
         "date_block_num": 0,
         "shop_id": 25,
         "item_id": 2515,
         "item_price": 1649,
         "item_cnt_day": 1,
         "_deepnote_index_column": 29
        },
        {
         "date": "07.01.2013",
         "date_block_num": 0,
         "shop_id": 25,
         "item_id": 2705,
         "item_price": 1799,
         "item_cnt_day": 1,
         "_deepnote_index_column": 30
        },
        {
         "date": "11.01.2013",
         "date_block_num": 0,
         "shop_id": 25,
         "item_id": 2705,
         "item_price": 1799,
         "item_cnt_day": 1,
         "_deepnote_index_column": 31
        },
        {
         "date": "26.01.2013",
         "date_block_num": 0,
         "shop_id": 25,
         "item_id": 2705,
         "item_price": 1799,
         "item_cnt_day": 1,
         "_deepnote_index_column": 32
        },
        {
         "date": "02.01.2013",
         "date_block_num": 0,
         "shop_id": 25,
         "item_id": 2715,
         "item_price": 899,
         "item_cnt_day": 1,
         "_deepnote_index_column": 33
        },
        {
         "date": "12.01.2013",
         "date_block_num": 0,
         "shop_id": 25,
         "item_id": 2715,
         "item_price": 898.5,
         "item_cnt_day": 1,
         "_deepnote_index_column": 34
        },
        {
         "date": "02.01.2013",
         "date_block_num": 0,
         "shop_id": 25,
         "item_id": 2716,
         "item_price": 149,
         "item_cnt_day": 1,
         "_deepnote_index_column": 35
        },
        {
         "date": "23.01.2013",
         "date_block_num": 0,
         "shop_id": 25,
         "item_id": 2716,
         "item_price": 149,
         "item_cnt_day": 1,
         "_deepnote_index_column": 36
        },
        {
         "date": "02.01.2013",
         "date_block_num": 0,
         "shop_id": 25,
         "item_id": 2719,
         "item_price": 2699,
         "item_cnt_day": 1,
         "_deepnote_index_column": 37
        },
        {
         "date": "12.01.2013",
         "date_block_num": 0,
         "shop_id": 25,
         "item_id": 2719,
         "item_price": 2699,
         "item_cnt_day": 1,
         "_deepnote_index_column": 38
        },
        {
         "date": "25.01.2013",
         "date_block_num": 0,
         "shop_id": 25,
         "item_id": 2719,
         "item_price": 1699,
         "item_cnt_day": 1,
         "_deepnote_index_column": 39
        },
        {
         "date": "30.01.2013",
         "date_block_num": 0,
         "shop_id": 25,
         "item_id": 2720,
         "item_price": 1699,
         "item_cnt_day": 1,
         "_deepnote_index_column": 40
        },
        {
         "date": "05.01.2013",
         "date_block_num": 0,
         "shop_id": 25,
         "item_id": 2473,
         "item_price": 899,
         "item_cnt_day": 1,
         "_deepnote_index_column": 41
        },
        {
         "date": "02.01.2013",
         "date_block_num": 0,
         "shop_id": 25,
         "item_id": 2480,
         "item_price": 58,
         "item_cnt_day": 1,
         "_deepnote_index_column": 42
        },
        {
         "date": "02.01.2013",
         "date_block_num": 0,
         "shop_id": 25,
         "item_id": 2731,
         "item_price": 599,
         "item_cnt_day": 1,
         "_deepnote_index_column": 43
        },
        {
         "date": "19.01.2013",
         "date_block_num": 0,
         "shop_id": 25,
         "item_id": 2731,
         "item_price": 599,
         "item_cnt_day": 1,
         "_deepnote_index_column": 44
        },
        {
         "date": "06.01.2013",
         "date_block_num": 0,
         "shop_id": 25,
         "item_id": 2746,
         "item_price": 299,
         "item_cnt_day": 1,
         "_deepnote_index_column": 45
        },
        {
         "date": "07.01.2013",
         "date_block_num": 0,
         "shop_id": 25,
         "item_id": 2746,
         "item_price": 299,
         "item_cnt_day": 1,
         "_deepnote_index_column": 46
        },
        {
         "date": "10.01.2013",
         "date_block_num": 0,
         "shop_id": 25,
         "item_id": 2746,
         "item_price": 299,
         "item_cnt_day": 2,
         "_deepnote_index_column": 47
        },
        {
         "date": "12.01.2013",
         "date_block_num": 0,
         "shop_id": 25,
         "item_id": 2746,
         "item_price": 299,
         "item_cnt_day": 1,
         "_deepnote_index_column": 48
        },
        {
         "date": "20.01.2013",
         "date_block_num": 0,
         "shop_id": 25,
         "item_id": 2746,
         "item_price": 299,
         "item_cnt_day": 1,
         "_deepnote_index_column": 49
        },
        {
         "date": "24.01.2013",
         "date_block_num": 0,
         "shop_id": 25,
         "item_id": 2746,
         "item_price": 299,
         "item_cnt_day": 1,
         "_deepnote_index_column": 50
        },
        {
         "date": "25.01.2013",
         "date_block_num": 0,
         "shop_id": 25,
         "item_id": 2746,
         "item_price": 299,
         "item_cnt_day": 1,
         "_deepnote_index_column": 51
        },
        {
         "date": "04.01.2013",
         "date_block_num": 0,
         "shop_id": 25,
         "item_id": 2748,
         "item_price": 1399,
         "item_cnt_day": 1,
         "_deepnote_index_column": 52
        },
        {
         "date": "23.01.2013",
         "date_block_num": 0,
         "shop_id": 25,
         "item_id": 2748,
         "item_price": 799,
         "item_cnt_day": 1,
         "_deepnote_index_column": 53
        },
        {
         "date": "25.01.2013",
         "date_block_num": 0,
         "shop_id": 25,
         "item_id": 2748,
         "item_price": 799,
         "item_cnt_day": 1,
         "_deepnote_index_column": 54
        },
        {
         "date": "06.01.2013",
         "date_block_num": 0,
         "shop_id": 25,
         "item_id": 2522,
         "item_price": 1999,
         "item_cnt_day": 1,
         "_deepnote_index_column": 55
        },
        {
         "date": "19.01.2013",
         "date_block_num": 0,
         "shop_id": 25,
         "item_id": 2614,
         "item_price": 299,
         "item_cnt_day": 1,
         "_deepnote_index_column": 56
        },
        {
         "date": "27.01.2013",
         "date_block_num": 0,
         "shop_id": 25,
         "item_id": 2614,
         "item_price": 299,
         "item_cnt_day": 1,
         "_deepnote_index_column": 57
        },
        {
         "date": "11.01.2013",
         "date_block_num": 0,
         "shop_id": 25,
         "item_id": 2798,
         "item_price": 449,
         "item_cnt_day": 1,
         "_deepnote_index_column": 58
        },
        {
         "date": "16.01.2013",
         "date_block_num": 0,
         "shop_id": 25,
         "item_id": 2833,
         "item_price": 599,
         "item_cnt_day": 1,
         "_deepnote_index_column": 59
        },
        {
         "date": "19.01.2013",
         "date_block_num": 0,
         "shop_id": 25,
         "item_id": 2833,
         "item_price": 599,
         "item_cnt_day": 1,
         "_deepnote_index_column": 60
        },
        {
         "date": "21.01.2013",
         "date_block_num": 0,
         "shop_id": 25,
         "item_id": 2833,
         "item_price": 599,
         "item_cnt_day": 1,
         "_deepnote_index_column": 61
        },
        {
         "date": "22.01.2013",
         "date_block_num": 0,
         "shop_id": 25,
         "item_id": 2833,
         "item_price": 599,
         "item_cnt_day": 1,
         "_deepnote_index_column": 62
        },
        {
         "date": "27.01.2013",
         "date_block_num": 0,
         "shop_id": 25,
         "item_id": 2833,
         "item_price": 599,
         "item_cnt_day": 1,
         "_deepnote_index_column": 63
        },
        {
         "date": "28.01.2013",
         "date_block_num": 0,
         "shop_id": 25,
         "item_id": 2833,
         "item_price": 599,
         "item_cnt_day": 1,
         "_deepnote_index_column": 64
        },
        {
         "date": "14.01.2013",
         "date_block_num": 0,
         "shop_id": 25,
         "item_id": 2835,
         "item_price": 1999,
         "item_cnt_day": 1,
         "_deepnote_index_column": 65
        },
        {
         "date": "19.01.2013",
         "date_block_num": 0,
         "shop_id": 25,
         "item_id": 2835,
         "item_price": 1999,
         "item_cnt_day": 1,
         "_deepnote_index_column": 66
        },
        {
         "date": "25.01.2013",
         "date_block_num": 0,
         "shop_id": 25,
         "item_id": 2835,
         "item_price": 1999,
         "item_cnt_day": 1,
         "_deepnote_index_column": 67
        },
        {
         "date": "06.01.2013",
         "date_block_num": 0,
         "shop_id": 25,
         "item_id": 2836,
         "item_price": 1999,
         "item_cnt_day": 1,
         "_deepnote_index_column": 68
        },
        {
         "date": "12.01.2013",
         "date_block_num": 0,
         "shop_id": 25,
         "item_id": 2836,
         "item_price": 1999,
         "item_cnt_day": 1,
         "_deepnote_index_column": 69
        },
        {
         "date": "14.01.2013",
         "date_block_num": 0,
         "shop_id": 25,
         "item_id": 2844,
         "item_price": 899,
         "item_cnt_day": 1,
         "_deepnote_index_column": 70
        },
        {
         "date": "15.01.2013",
         "date_block_num": 0,
         "shop_id": 25,
         "item_id": 2844,
         "item_price": 899,
         "item_cnt_day": 1,
         "_deepnote_index_column": 71
        },
        {
         "date": "25.01.2013",
         "date_block_num": 0,
         "shop_id": 25,
         "item_id": 2844,
         "item_price": 899,
         "item_cnt_day": 1,
         "_deepnote_index_column": 72
        },
        {
         "date": "06.01.2013",
         "date_block_num": 0,
         "shop_id": 25,
         "item_id": 2845,
         "item_price": 599,
         "item_cnt_day": 1,
         "_deepnote_index_column": 73
        },
        {
         "date": "10.01.2013",
         "date_block_num": 0,
         "shop_id": 25,
         "item_id": 2847,
         "item_price": 1699,
         "item_cnt_day": 1,
         "_deepnote_index_column": 74
        },
        {
         "date": "26.01.2013",
         "date_block_num": 0,
         "shop_id": 25,
         "item_id": 2847,
         "item_price": 1699,
         "item_cnt_day": 1,
         "_deepnote_index_column": 75
        },
        {
         "date": "05.01.2013",
         "date_block_num": 0,
         "shop_id": 25,
         "item_id": 2848,
         "item_price": 99,
         "item_cnt_day": 2,
         "_deepnote_index_column": 76
        },
        {
         "date": "12.01.2013",
         "date_block_num": 0,
         "shop_id": 25,
         "item_id": 2854,
         "item_price": 449,
         "item_cnt_day": 1,
         "_deepnote_index_column": 77
        },
        {
         "date": "13.01.2013",
         "date_block_num": 0,
         "shop_id": 25,
         "item_id": 2854,
         "item_price": 449,
         "item_cnt_day": 1,
         "_deepnote_index_column": 78
        },
        {
         "date": "16.01.2013",
         "date_block_num": 0,
         "shop_id": 25,
         "item_id": 2854,
         "item_price": 449,
         "item_cnt_day": 1,
         "_deepnote_index_column": 79
        },
        {
         "date": "25.01.2013",
         "date_block_num": 0,
         "shop_id": 25,
         "item_id": 2857,
         "item_price": 1998.5,
         "item_cnt_day": 1,
         "_deepnote_index_column": 80
        },
        {
         "date": "31.01.2013",
         "date_block_num": 0,
         "shop_id": 25,
         "item_id": 2857,
         "item_price": 1999,
         "item_cnt_day": 1,
         "_deepnote_index_column": 81
        },
        {
         "date": "04.01.2013",
         "date_block_num": 0,
         "shop_id": 25,
         "item_id": 2920,
         "item_price": 599,
         "item_cnt_day": 1,
         "_deepnote_index_column": 82
        }
       ],
       "rows_bottom": [
        {
         "date": "07.10.2015",
         "date_block_num": 33,
         "shop_id": 25,
         "item_id": 7223,
         "item_price": 3999,
         "item_cnt_day": 35,
         "_deepnote_index_column": 2935766
        },
        {
         "date": "10.10.2015",
         "date_block_num": 33,
         "shop_id": 25,
         "item_id": 7220,
         "item_price": 1299,
         "item_cnt_day": 1,
         "_deepnote_index_column": 2935767
        },
        {
         "date": "08.10.2015",
         "date_block_num": 33,
         "shop_id": 25,
         "item_id": 7220,
         "item_price": 1299,
         "item_cnt_day": 1,
         "_deepnote_index_column": 2935768
        },
        {
         "date": "31.10.2015",
         "date_block_num": 33,
         "shop_id": 25,
         "item_id": 7215,
         "item_price": 1199,
         "item_cnt_day": 1,
         "_deepnote_index_column": 2935769
        },
        {
         "date": "12.10.2015",
         "date_block_num": 33,
         "shop_id": 25,
         "item_id": 7071,
         "item_price": 999,
         "item_cnt_day": 2,
         "_deepnote_index_column": 2935770
        },
        {
         "date": "18.10.2015",
         "date_block_num": 33,
         "shop_id": 25,
         "item_id": 7071,
         "item_price": 999,
         "item_cnt_day": 1,
         "_deepnote_index_column": 2935771
        },
        {
         "date": "10.10.2015",
         "date_block_num": 33,
         "shop_id": 25,
         "item_id": 7793,
         "item_price": 1799,
         "item_cnt_day": 1,
         "_deepnote_index_column": 2935772
        },
        {
         "date": "03.10.2015",
         "date_block_num": 33,
         "shop_id": 25,
         "item_id": 7018,
         "item_price": 999,
         "item_cnt_day": 1,
         "_deepnote_index_column": 2935773
        },
        {
         "date": "24.10.2015",
         "date_block_num": 33,
         "shop_id": 25,
         "item_id": 7003,
         "item_price": 299,
         "item_cnt_day": 1,
         "_deepnote_index_column": 2935774
        },
        {
         "date": "04.10.2015",
         "date_block_num": 33,
         "shop_id": 25,
         "item_id": 7075,
         "item_price": 1499,
         "item_cnt_day": 1,
         "_deepnote_index_column": 2935775
        },
        {
         "date": "05.10.2015",
         "date_block_num": 33,
         "shop_id": 25,
         "item_id": 7075,
         "item_price": 1499,
         "item_cnt_day": 1,
         "_deepnote_index_column": 2935776
        },
        {
         "date": "16.10.2015",
         "date_block_num": 33,
         "shop_id": 25,
         "item_id": 7075,
         "item_price": 1499,
         "item_cnt_day": 1,
         "_deepnote_index_column": 2935777
        },
        {
         "date": "23.10.2015",
         "date_block_num": 33,
         "shop_id": 25,
         "item_id": 7075,
         "item_price": 1499,
         "item_cnt_day": 1,
         "_deepnote_index_column": 2935778
        },
        {
         "date": "07.10.2015",
         "date_block_num": 33,
         "shop_id": 25,
         "item_id": 7087,
         "item_price": 999,
         "item_cnt_day": -1,
         "_deepnote_index_column": 2935779
        },
        {
         "date": "31.10.2015",
         "date_block_num": 33,
         "shop_id": 25,
         "item_id": 7087,
         "item_price": 699,
         "item_cnt_day": 1,
         "_deepnote_index_column": 2935780
        },
        {
         "date": "29.10.2015",
         "date_block_num": 33,
         "shop_id": 25,
         "item_id": 7224,
         "item_price": 4499,
         "item_cnt_day": 1,
         "_deepnote_index_column": 2935781
        },
        {
         "date": "30.10.2015",
         "date_block_num": 33,
         "shop_id": 25,
         "item_id": 7134,
         "item_price": 3599,
         "item_cnt_day": 1,
         "_deepnote_index_column": 2935782
        },
        {
         "date": "09.10.2015",
         "date_block_num": 33,
         "shop_id": 25,
         "item_id": 7172,
         "item_price": 1499,
         "item_cnt_day": 1,
         "_deepnote_index_column": 2935783
        },
        {
         "date": "21.10.2015",
         "date_block_num": 33,
         "shop_id": 25,
         "item_id": 7172,
         "item_price": 1499,
         "item_cnt_day": 1,
         "_deepnote_index_column": 2935784
        },
        {
         "date": "30.10.2015",
         "date_block_num": 33,
         "shop_id": 25,
         "item_id": 7172,
         "item_price": 1499,
         "item_cnt_day": 1,
         "_deepnote_index_column": 2935785
        },
        {
         "date": "31.10.2015",
         "date_block_num": 33,
         "shop_id": 25,
         "item_id": 7172,
         "item_price": 1499,
         "item_cnt_day": 1,
         "_deepnote_index_column": 2935786
        },
        {
         "date": "02.10.2015",
         "date_block_num": 33,
         "shop_id": 25,
         "item_id": 7202,
         "item_price": 199,
         "item_cnt_day": 1,
         "_deepnote_index_column": 2935787
        },
        {
         "date": "04.10.2015",
         "date_block_num": 33,
         "shop_id": 25,
         "item_id": 7202,
         "item_price": 199,
         "item_cnt_day": 1,
         "_deepnote_index_column": 2935788
        },
        {
         "date": "06.10.2015",
         "date_block_num": 33,
         "shop_id": 25,
         "item_id": 7202,
         "item_price": 199,
         "item_cnt_day": 1,
         "_deepnote_index_column": 2935789
        },
        {
         "date": "10.10.2015",
         "date_block_num": 33,
         "shop_id": 25,
         "item_id": 7202,
         "item_price": 199,
         "item_cnt_day": 1,
         "_deepnote_index_column": 2935790
        },
        {
         "date": "31.10.2015",
         "date_block_num": 33,
         "shop_id": 25,
         "item_id": 7202,
         "item_price": 199,
         "item_cnt_day": 1,
         "_deepnote_index_column": 2935791
        },
        {
         "date": "18.10.2015",
         "date_block_num": 33,
         "shop_id": 25,
         "item_id": 7206,
         "item_price": 199,
         "item_cnt_day": 1,
         "_deepnote_index_column": 2935792
        },
        {
         "date": "17.10.2015",
         "date_block_num": 33,
         "shop_id": 25,
         "item_id": 7215,
         "item_price": 1199,
         "item_cnt_day": 1,
         "_deepnote_index_column": 2935793
        },
        {
         "date": "03.10.2015",
         "date_block_num": 33,
         "shop_id": 25,
         "item_id": 7172,
         "item_price": 1499,
         "item_cnt_day": 1,
         "_deepnote_index_column": 2935794
        },
        {
         "date": "26.10.2015",
         "date_block_num": 33,
         "shop_id": 25,
         "item_id": 7230,
         "item_price": 699,
         "item_cnt_day": 1,
         "_deepnote_index_column": 2935795
        },
        {
         "date": "10.10.2015",
         "date_block_num": 33,
         "shop_id": 25,
         "item_id": 7087,
         "item_price": 999,
         "item_cnt_day": 1,
         "_deepnote_index_column": 2935796
        },
        {
         "date": "01.10.2015",
         "date_block_num": 33,
         "shop_id": 25,
         "item_id": 7233,
         "item_price": 599,
         "item_cnt_day": 1,
         "_deepnote_index_column": 2935797
        },
        {
         "date": "26.10.2015",
         "date_block_num": 33,
         "shop_id": 25,
         "item_id": 7499,
         "item_price": 399,
         "item_cnt_day": 1,
         "_deepnote_index_column": 2935798
        },
        {
         "date": "13.10.2015",
         "date_block_num": 33,
         "shop_id": 25,
         "item_id": 7524,
         "item_price": 299,
         "item_cnt_day": 1,
         "_deepnote_index_column": 2935799
        },
        {
         "date": "08.10.2015",
         "date_block_num": 33,
         "shop_id": 25,
         "item_id": 7529,
         "item_price": 249,
         "item_cnt_day": 1,
         "_deepnote_index_column": 2935800
        },
        {
         "date": "29.10.2015",
         "date_block_num": 33,
         "shop_id": 25,
         "item_id": 7531,
         "item_price": 199,
         "item_cnt_day": 1,
         "_deepnote_index_column": 2935801
        },
        {
         "date": "19.10.2015",
         "date_block_num": 33,
         "shop_id": 25,
         "item_id": 7583,
         "item_price": 2150,
         "item_cnt_day": 1,
         "_deepnote_index_column": 2935802
        },
        {
         "date": "22.10.2015",
         "date_block_num": 33,
         "shop_id": 25,
         "item_id": 7590,
         "item_price": 1625,
         "item_cnt_day": 1,
         "_deepnote_index_column": 2935803
        },
        {
         "date": "29.10.2015",
         "date_block_num": 33,
         "shop_id": 25,
         "item_id": 7610,
         "item_price": 2890,
         "item_cnt_day": 1,
         "_deepnote_index_column": 2935804
        },
        {
         "date": "19.10.2015",
         "date_block_num": 33,
         "shop_id": 25,
         "item_id": 7612,
         "item_price": 250,
         "item_cnt_day": 1,
         "_deepnote_index_column": 2935805
        },
        {
         "date": "11.10.2015",
         "date_block_num": 33,
         "shop_id": 25,
         "item_id": 7615,
         "item_price": 250,
         "item_cnt_day": 1,
         "_deepnote_index_column": 2935806
        },
        {
         "date": "11.10.2015",
         "date_block_num": 33,
         "shop_id": 25,
         "item_id": 7624,
         "item_price": 250,
         "item_cnt_day": 1,
         "_deepnote_index_column": 2935807
        },
        {
         "date": "19.10.2015",
         "date_block_num": 33,
         "shop_id": 25,
         "item_id": 7627,
         "item_price": 349,
         "item_cnt_day": 1,
         "_deepnote_index_column": 2935808
        },
        {
         "date": "26.10.2015",
         "date_block_num": 33,
         "shop_id": 25,
         "item_id": 7493,
         "item_price": 349,
         "item_cnt_day": 1,
         "_deepnote_index_column": 2935809
        },
        {
         "date": "16.10.2015",
         "date_block_num": 33,
         "shop_id": 25,
         "item_id": 7628,
         "item_price": 250,
         "item_cnt_day": 1,
         "_deepnote_index_column": 2935810
        },
        {
         "date": "22.10.2015",
         "date_block_num": 33,
         "shop_id": 25,
         "item_id": 7635,
         "item_price": 2100,
         "item_cnt_day": 1,
         "_deepnote_index_column": 2935811
        },
        {
         "date": "30.10.2015",
         "date_block_num": 33,
         "shop_id": 25,
         "item_id": 7638,
         "item_price": 1890,
         "item_cnt_day": 1,
         "_deepnote_index_column": 2935812
        },
        {
         "date": "01.10.2015",
         "date_block_num": 33,
         "shop_id": 25,
         "item_id": 7640,
         "item_price": 4040,
         "item_cnt_day": 1,
         "_deepnote_index_column": 2935813
        },
        {
         "date": "05.10.2015",
         "date_block_num": 33,
         "shop_id": 25,
         "item_id": 7780,
         "item_price": 248,
         "item_cnt_day": 1,
         "_deepnote_index_column": 2935814
        },
        {
         "date": "24.10.2015",
         "date_block_num": 33,
         "shop_id": 25,
         "item_id": 7231,
         "item_price": 999,
         "item_cnt_day": 1,
         "_deepnote_index_column": 2935815
        },
        {
         "date": "19.10.2015",
         "date_block_num": 33,
         "shop_id": 25,
         "item_id": 7780,
         "item_price": 248,
         "item_cnt_day": 1,
         "_deepnote_index_column": 2935816
        },
        {
         "date": "23.10.2015",
         "date_block_num": 33,
         "shop_id": 25,
         "item_id": 7780,
         "item_price": 248,
         "item_cnt_day": 2,
         "_deepnote_index_column": 2935817
        },
        {
         "date": "31.10.2015",
         "date_block_num": 33,
         "shop_id": 25,
         "item_id": 7780,
         "item_price": 198,
         "item_cnt_day": 1,
         "_deepnote_index_column": 2935818
        },
        {
         "date": "16.10.2015",
         "date_block_num": 33,
         "shop_id": 25,
         "item_id": 7789,
         "item_price": 1799,
         "item_cnt_day": 1,
         "_deepnote_index_column": 2935819
        },
        {
         "date": "22.10.2015",
         "date_block_num": 33,
         "shop_id": 25,
         "item_id": 7790,
         "item_price": 799,
         "item_cnt_day": 1,
         "_deepnote_index_column": 2935820
        },
        {
         "date": "22.10.2015",
         "date_block_num": 33,
         "shop_id": 25,
         "item_id": 7791,
         "item_price": 899.5,
         "item_cnt_day": 1,
         "_deepnote_index_column": 2935821
        },
        {
         "date": "17.10.2015",
         "date_block_num": 33,
         "shop_id": 25,
         "item_id": 7632,
         "item_price": 2310,
         "item_cnt_day": 1,
         "_deepnote_index_column": 2935822
        },
        {
         "date": "26.10.2015",
         "date_block_num": 33,
         "shop_id": 25,
         "item_id": 7487,
         "item_price": 299,
         "item_cnt_day": 1,
         "_deepnote_index_column": 2935823
        },
        {
         "date": "14.10.2015",
         "date_block_num": 33,
         "shop_id": 25,
         "item_id": 7029,
         "item_price": 999,
         "item_cnt_day": 1,
         "_deepnote_index_column": 2935824
        },
        {
         "date": "23.10.2015",
         "date_block_num": 33,
         "shop_id": 25,
         "item_id": 7460,
         "item_price": 299,
         "item_cnt_day": 1,
         "_deepnote_index_column": 2935825
        },
        {
         "date": "04.10.2015",
         "date_block_num": 33,
         "shop_id": 25,
         "item_id": 7233,
         "item_price": 599,
         "item_cnt_day": 1,
         "_deepnote_index_column": 2935826
        },
        {
         "date": "18.10.2015",
         "date_block_num": 33,
         "shop_id": 25,
         "item_id": 7308,
         "item_price": 349,
         "item_cnt_day": 1,
         "_deepnote_index_column": 2935827
        },
        {
         "date": "21.10.2015",
         "date_block_num": 33,
         "shop_id": 25,
         "item_id": 7233,
         "item_price": 479,
         "item_cnt_day": 1,
         "_deepnote_index_column": 2935828
        },
        {
         "date": "03.10.2015",
         "date_block_num": 33,
         "shop_id": 25,
         "item_id": 7233,
         "item_price": 599,
         "item_cnt_day": 1,
         "_deepnote_index_column": 2935829
        },
        {
         "date": "11.10.2015",
         "date_block_num": 33,
         "shop_id": 25,
         "item_id": 7286,
         "item_price": 299,
         "item_cnt_day": 1,
         "_deepnote_index_column": 2935830
        },
        {
         "date": "22.10.2015",
         "date_block_num": 33,
         "shop_id": 25,
         "item_id": 7187,
         "item_price": 299,
         "item_cnt_day": 1,
         "_deepnote_index_column": 2935831
        },
        {
         "date": "26.10.2015",
         "date_block_num": 33,
         "shop_id": 25,
         "item_id": 7484,
         "item_price": 299,
         "item_cnt_day": 1,
         "_deepnote_index_column": 2935832
        },
        {
         "date": "22.10.2015",
         "date_block_num": 33,
         "shop_id": 25,
         "item_id": 7308,
         "item_price": 349,
         "item_cnt_day": 1,
         "_deepnote_index_column": 2935833
        },
        {
         "date": "29.10.2015",
         "date_block_num": 33,
         "shop_id": 25,
         "item_id": 7235,
         "item_price": 298,
         "item_cnt_day": 1,
         "_deepnote_index_column": 2935834
        },
        {
         "date": "18.10.2015",
         "date_block_num": 33,
         "shop_id": 25,
         "item_id": 7327,
         "item_price": 349,
         "item_cnt_day": 1,
         "_deepnote_index_column": 2935835
        },
        {
         "date": "22.10.2015",
         "date_block_num": 33,
         "shop_id": 25,
         "item_id": 7327,
         "item_price": 349,
         "item_cnt_day": 1,
         "_deepnote_index_column": 2935836
        },
        {
         "date": "24.10.2015",
         "date_block_num": 33,
         "shop_id": 25,
         "item_id": 7328,
         "item_price": 249,
         "item_cnt_day": 1,
         "_deepnote_index_column": 2935837
        },
        {
         "date": "17.10.2015",
         "date_block_num": 33,
         "shop_id": 25,
         "item_id": 7338,
         "item_price": 349,
         "item_cnt_day": 1,
         "_deepnote_index_column": 2935838
        },
        {
         "date": "24.10.2015",
         "date_block_num": 33,
         "shop_id": 25,
         "item_id": 7315,
         "item_price": 399,
         "item_cnt_day": 1,
         "_deepnote_index_column": 2935839
        },
        {
         "date": "31.10.2015",
         "date_block_num": 33,
         "shop_id": 25,
         "item_id": 7409,
         "item_price": 299,
         "item_cnt_day": 1,
         "_deepnote_index_column": 2935840
        },
        {
         "date": "11.10.2015",
         "date_block_num": 33,
         "shop_id": 25,
         "item_id": 7393,
         "item_price": 349,
         "item_cnt_day": 1,
         "_deepnote_index_column": 2935841
        },
        {
         "date": "10.10.2015",
         "date_block_num": 33,
         "shop_id": 25,
         "item_id": 7384,
         "item_price": 749,
         "item_cnt_day": 1,
         "_deepnote_index_column": 2935842
        },
        {
         "date": "09.10.2015",
         "date_block_num": 33,
         "shop_id": 25,
         "item_id": 7409,
         "item_price": 299,
         "item_cnt_day": 1,
         "_deepnote_index_column": 2935843
        },
        {
         "date": "10.10.2015",
         "date_block_num": 33,
         "shop_id": 25,
         "item_id": 7409,
         "item_price": 299,
         "item_cnt_day": 1,
         "_deepnote_index_column": 2935844
        },
        {
         "date": "09.10.2015",
         "date_block_num": 33,
         "shop_id": 25,
         "item_id": 7460,
         "item_price": 299,
         "item_cnt_day": 1,
         "_deepnote_index_column": 2935845
        },
        {
         "date": "14.10.2015",
         "date_block_num": 33,
         "shop_id": 25,
         "item_id": 7459,
         "item_price": 349,
         "item_cnt_day": 1,
         "_deepnote_index_column": 2935846
        },
        {
         "date": "22.10.2015",
         "date_block_num": 33,
         "shop_id": 25,
         "item_id": 7440,
         "item_price": 299,
         "item_cnt_day": 1,
         "_deepnote_index_column": 2935847
        },
        {
         "date": "03.10.2015",
         "date_block_num": 33,
         "shop_id": 25,
         "item_id": 7460,
         "item_price": 299,
         "item_cnt_day": 1,
         "_deepnote_index_column": 2935848
        }
       ]
      },
      "text/plain": "               date  date_block_num  shop_id  item_id  item_price  \\\n0        02.01.2013               0       59    22154      999.00   \n1        03.01.2013               0       25     2552      899.00   \n2        05.01.2013               0       25     2552      899.00   \n3        06.01.2013               0       25     2554     1709.05   \n4        15.01.2013               0       25     2555     1099.00   \n...             ...             ...      ...      ...         ...   \n2935844  10.10.2015              33       25     7409      299.00   \n2935845  09.10.2015              33       25     7460      299.00   \n2935846  14.10.2015              33       25     7459      349.00   \n2935847  22.10.2015              33       25     7440      299.00   \n2935848  03.10.2015              33       25     7460      299.00   \n\n         item_cnt_day  \n0                 1.0  \n1                 1.0  \n2                -1.0  \n3                 1.0  \n4                 1.0  \n...               ...  \n2935844           1.0  \n2935845           1.0  \n2935846           1.0  \n2935847           1.0  \n2935848           1.0  \n\n[2935849 rows x 6 columns]",
      "text/html": "<div>\n<style scoped>\n    .dataframe tbody tr th:only-of-type {\n        vertical-align: middle;\n    }\n\n    .dataframe tbody tr th {\n        vertical-align: top;\n    }\n\n    .dataframe thead th {\n        text-align: right;\n    }\n</style>\n<table border=\"1\" class=\"dataframe\">\n  <thead>\n    <tr style=\"text-align: right;\">\n      <th></th>\n      <th>date</th>\n      <th>date_block_num</th>\n      <th>shop_id</th>\n      <th>item_id</th>\n      <th>item_price</th>\n      <th>item_cnt_day</th>\n    </tr>\n  </thead>\n  <tbody>\n    <tr>\n      <th>0</th>\n      <td>02.01.2013</td>\n      <td>0</td>\n      <td>59</td>\n      <td>22154</td>\n      <td>999.00</td>\n      <td>1.0</td>\n    </tr>\n    <tr>\n      <th>1</th>\n      <td>03.01.2013</td>\n      <td>0</td>\n      <td>25</td>\n      <td>2552</td>\n      <td>899.00</td>\n      <td>1.0</td>\n    </tr>\n    <tr>\n      <th>2</th>\n      <td>05.01.2013</td>\n      <td>0</td>\n      <td>25</td>\n      <td>2552</td>\n      <td>899.00</td>\n      <td>-1.0</td>\n    </tr>\n    <tr>\n      <th>3</th>\n      <td>06.01.2013</td>\n      <td>0</td>\n      <td>25</td>\n      <td>2554</td>\n      <td>1709.05</td>\n      <td>1.0</td>\n    </tr>\n    <tr>\n      <th>4</th>\n      <td>15.01.2013</td>\n      <td>0</td>\n      <td>25</td>\n      <td>2555</td>\n      <td>1099.00</td>\n      <td>1.0</td>\n    </tr>\n    <tr>\n      <th>...</th>\n      <td>...</td>\n      <td>...</td>\n      <td>...</td>\n      <td>...</td>\n      <td>...</td>\n      <td>...</td>\n    </tr>\n    <tr>\n      <th>2935844</th>\n      <td>10.10.2015</td>\n      <td>33</td>\n      <td>25</td>\n      <td>7409</td>\n      <td>299.00</td>\n      <td>1.0</td>\n    </tr>\n    <tr>\n      <th>2935845</th>\n      <td>09.10.2015</td>\n      <td>33</td>\n      <td>25</td>\n      <td>7460</td>\n      <td>299.00</td>\n      <td>1.0</td>\n    </tr>\n    <tr>\n      <th>2935846</th>\n      <td>14.10.2015</td>\n      <td>33</td>\n      <td>25</td>\n      <td>7459</td>\n      <td>349.00</td>\n      <td>1.0</td>\n    </tr>\n    <tr>\n      <th>2935847</th>\n      <td>22.10.2015</td>\n      <td>33</td>\n      <td>25</td>\n      <td>7440</td>\n      <td>299.00</td>\n      <td>1.0</td>\n    </tr>\n    <tr>\n      <th>2935848</th>\n      <td>03.10.2015</td>\n      <td>33</td>\n      <td>25</td>\n      <td>7460</td>\n      <td>299.00</td>\n      <td>1.0</td>\n    </tr>\n  </tbody>\n</table>\n<p>2935849 rows × 6 columns</p>\n</div>"
     },
     "metadata": {}
    }
   ]
  },
  {
   "cell_type": "code",
   "metadata": {
    "tags": [],
    "cell_id": "00005-8a9ac815-2fe0-450c-9b09-0023daedaa34",
    "deepnote_to_be_reexecuted": false,
    "source_hash": "caa69966",
    "execution_start": 1620304552567,
    "execution_millis": 24009,
    "deepnote_cell_type": "code"
   },
   "source": "from datetime import datetime\n\ndf[\"date\"]=df['date'].apply(lambda x:datetime.strptime(x, '%d.%m.%Y'))\n",
   "execution_count": 12,
   "outputs": []
  },
  {
   "cell_type": "code",
   "metadata": {
    "tags": [],
    "cell_id": "00007-efab25d4-73cd-4955-b9fd-63f484653e79",
    "deepnote_to_be_reexecuted": false,
    "source_hash": "f88152d9",
    "execution_start": 1620304340489,
    "execution_millis": 696,
    "deepnote_cell_type": "code"
   },
   "source": "df.describe()",
   "execution_count": 7,
   "outputs": [
    {
     "output_type": "execute_result",
     "execution_count": 7,
     "data": {
      "application/vnd.deepnote.dataframe.v2+json": {
       "row_count": 8,
       "column_count": 5,
       "columns": [
        {
         "name": "date_block_num",
         "dtype": "float64",
         "stats": {
          "unique_count": 8,
          "nan_count": 0,
          "min": "0.0",
          "max": "2935849.0",
          "histogram": [
           {
            "bin_start": 0,
            "bin_end": 293584.9,
            "count": 7
           },
           {
            "bin_start": 293584.9,
            "bin_end": 587169.8,
            "count": 0
           },
           {
            "bin_start": 587169.8,
            "bin_end": 880754.7000000001,
            "count": 0
           },
           {
            "bin_start": 880754.7000000001,
            "bin_end": 1174339.6,
            "count": 0
           },
           {
            "bin_start": 1174339.6,
            "bin_end": 1467924.5,
            "count": 0
           },
           {
            "bin_start": 1467924.5,
            "bin_end": 1761509.4000000001,
            "count": 0
           },
           {
            "bin_start": 1761509.4000000001,
            "bin_end": 2055094.3000000003,
            "count": 0
           },
           {
            "bin_start": 2055094.3000000003,
            "bin_end": 2348679.2,
            "count": 0
           },
           {
            "bin_start": 2348679.2,
            "bin_end": 2642264.1,
            "count": 0
           },
           {
            "bin_start": 2642264.1,
            "bin_end": 2935849,
            "count": 1
           }
          ]
         }
        },
        {
         "name": "shop_id",
         "dtype": "float64",
         "stats": {
          "unique_count": 8,
          "nan_count": 0,
          "min": "0.0",
          "max": "2935849.0",
          "histogram": [
           {
            "bin_start": 0,
            "bin_end": 293584.9,
            "count": 7
           },
           {
            "bin_start": 293584.9,
            "bin_end": 587169.8,
            "count": 0
           },
           {
            "bin_start": 587169.8,
            "bin_end": 880754.7000000001,
            "count": 0
           },
           {
            "bin_start": 880754.7000000001,
            "bin_end": 1174339.6,
            "count": 0
           },
           {
            "bin_start": 1174339.6,
            "bin_end": 1467924.5,
            "count": 0
           },
           {
            "bin_start": 1467924.5,
            "bin_end": 1761509.4000000001,
            "count": 0
           },
           {
            "bin_start": 1761509.4000000001,
            "bin_end": 2055094.3000000003,
            "count": 0
           },
           {
            "bin_start": 2055094.3000000003,
            "bin_end": 2348679.2,
            "count": 0
           },
           {
            "bin_start": 2348679.2,
            "bin_end": 2642264.1,
            "count": 0
           },
           {
            "bin_start": 2642264.1,
            "bin_end": 2935849,
            "count": 1
           }
          ]
         }
        },
        {
         "name": "item_id",
         "dtype": "float64",
         "stats": {
          "unique_count": 8,
          "nan_count": 0,
          "min": "0.0",
          "max": "2935849.0",
          "histogram": [
           {
            "bin_start": 0,
            "bin_end": 293584.9,
            "count": 7
           },
           {
            "bin_start": 293584.9,
            "bin_end": 587169.8,
            "count": 0
           },
           {
            "bin_start": 587169.8,
            "bin_end": 880754.7000000001,
            "count": 0
           },
           {
            "bin_start": 880754.7000000001,
            "bin_end": 1174339.6,
            "count": 0
           },
           {
            "bin_start": 1174339.6,
            "bin_end": 1467924.5,
            "count": 0
           },
           {
            "bin_start": 1467924.5,
            "bin_end": 1761509.4000000001,
            "count": 0
           },
           {
            "bin_start": 1761509.4000000001,
            "bin_end": 2055094.3000000003,
            "count": 0
           },
           {
            "bin_start": 2055094.3000000003,
            "bin_end": 2348679.2,
            "count": 0
           },
           {
            "bin_start": 2348679.2,
            "bin_end": 2642264.1,
            "count": 0
           },
           {
            "bin_start": 2642264.1,
            "bin_end": 2935849,
            "count": 1
           }
          ]
         }
        },
        {
         "name": "item_price",
         "dtype": "float64",
         "stats": {
          "unique_count": 8,
          "nan_count": 0,
          "min": "-1.0",
          "max": "2935849.0",
          "histogram": [
           {
            "bin_start": -1,
            "bin_end": 293584,
            "count": 6
           },
           {
            "bin_start": 293584,
            "bin_end": 587169,
            "count": 1
           },
           {
            "bin_start": 587169,
            "bin_end": 880754,
            "count": 0
           },
           {
            "bin_start": 880754,
            "bin_end": 1174339,
            "count": 0
           },
           {
            "bin_start": 1174339,
            "bin_end": 1467924,
            "count": 0
           },
           {
            "bin_start": 1467924,
            "bin_end": 1761509,
            "count": 0
           },
           {
            "bin_start": 1761509,
            "bin_end": 2055094,
            "count": 0
           },
           {
            "bin_start": 2055094,
            "bin_end": 2348679,
            "count": 0
           },
           {
            "bin_start": 2348679,
            "bin_end": 2642264,
            "count": 0
           },
           {
            "bin_start": 2642264,
            "bin_end": 2935849,
            "count": 1
           }
          ]
         }
        },
        {
         "name": "item_cnt_day",
         "dtype": "float64",
         "stats": {
          "unique_count": 6,
          "nan_count": 0,
          "min": "-22.0",
          "max": "2935849.0",
          "histogram": [
           {
            "bin_start": -22,
            "bin_end": 293565.1,
            "count": 7
           },
           {
            "bin_start": 293565.1,
            "bin_end": 587152.2,
            "count": 0
           },
           {
            "bin_start": 587152.2,
            "bin_end": 880739.2999999999,
            "count": 0
           },
           {
            "bin_start": 880739.2999999999,
            "bin_end": 1174326.4,
            "count": 0
           },
           {
            "bin_start": 1174326.4,
            "bin_end": 1467913.5,
            "count": 0
           },
           {
            "bin_start": 1467913.5,
            "bin_end": 1761500.5999999999,
            "count": 0
           },
           {
            "bin_start": 1761500.5999999999,
            "bin_end": 2055087.6999999997,
            "count": 0
           },
           {
            "bin_start": 2055087.6999999997,
            "bin_end": 2348674.8,
            "count": 0
           },
           {
            "bin_start": 2348674.8,
            "bin_end": 2642261.9,
            "count": 0
           },
           {
            "bin_start": 2642261.9,
            "bin_end": 2935849,
            "count": 1
           }
          ]
         }
        },
        {
         "name": "_deepnote_index_column",
         "dtype": "object"
        }
       ],
       "rows_top": [
        {
         "date_block_num": 2935849,
         "shop_id": 2935849,
         "item_id": 2935849,
         "item_price": 2935849,
         "item_cnt_day": 2935849,
         "_deepnote_index_column": "count"
        },
        {
         "date_block_num": 14.56991146343017,
         "shop_id": 33.001728290521754,
         "item_id": 10197.227056977385,
         "item_price": 890.8532326980126,
         "item_cnt_day": 1.242640885140891,
         "_deepnote_index_column": "mean"
        },
        {
         "date_block_num": 9.42298770875573,
         "shop_id": 16.226973048333605,
         "item_id": 6324.297353891169,
         "item_price": 1729.7996307126623,
         "item_cnt_day": 2.618834430895425,
         "_deepnote_index_column": "std"
        },
        {
         "date_block_num": 0,
         "shop_id": 0,
         "item_id": 0,
         "item_price": -1,
         "item_cnt_day": -22,
         "_deepnote_index_column": "min"
        },
        {
         "date_block_num": 7,
         "shop_id": 22,
         "item_id": 4476,
         "item_price": 249,
         "item_cnt_day": 1,
         "_deepnote_index_column": "25%"
        },
        {
         "date_block_num": 14,
         "shop_id": 31,
         "item_id": 9343,
         "item_price": 399,
         "item_cnt_day": 1,
         "_deepnote_index_column": "50%"
        },
        {
         "date_block_num": 23,
         "shop_id": 47,
         "item_id": 15684,
         "item_price": 999,
         "item_cnt_day": 1,
         "_deepnote_index_column": "75%"
        },
        {
         "date_block_num": 33,
         "shop_id": 59,
         "item_id": 22169,
         "item_price": 307980,
         "item_cnt_day": 2169,
         "_deepnote_index_column": "max"
        }
       ],
       "rows_bottom": null
      },
      "text/plain": "       date_block_num       shop_id       item_id    item_price  item_cnt_day\ncount    2.935849e+06  2.935849e+06  2.935849e+06  2.935849e+06  2.935849e+06\nmean     1.456991e+01  3.300173e+01  1.019723e+04  8.908532e+02  1.242641e+00\nstd      9.422988e+00  1.622697e+01  6.324297e+03  1.729800e+03  2.618834e+00\nmin      0.000000e+00  0.000000e+00  0.000000e+00 -1.000000e+00 -2.200000e+01\n25%      7.000000e+00  2.200000e+01  4.476000e+03  2.490000e+02  1.000000e+00\n50%      1.400000e+01  3.100000e+01  9.343000e+03  3.990000e+02  1.000000e+00\n75%      2.300000e+01  4.700000e+01  1.568400e+04  9.990000e+02  1.000000e+00\nmax      3.300000e+01  5.900000e+01  2.216900e+04  3.079800e+05  2.169000e+03",
      "text/html": "<div>\n<style scoped>\n    .dataframe tbody tr th:only-of-type {\n        vertical-align: middle;\n    }\n\n    .dataframe tbody tr th {\n        vertical-align: top;\n    }\n\n    .dataframe thead th {\n        text-align: right;\n    }\n</style>\n<table border=\"1\" class=\"dataframe\">\n  <thead>\n    <tr style=\"text-align: right;\">\n      <th></th>\n      <th>date_block_num</th>\n      <th>shop_id</th>\n      <th>item_id</th>\n      <th>item_price</th>\n      <th>item_cnt_day</th>\n    </tr>\n  </thead>\n  <tbody>\n    <tr>\n      <th>count</th>\n      <td>2.935849e+06</td>\n      <td>2.935849e+06</td>\n      <td>2.935849e+06</td>\n      <td>2.935849e+06</td>\n      <td>2.935849e+06</td>\n    </tr>\n    <tr>\n      <th>mean</th>\n      <td>1.456991e+01</td>\n      <td>3.300173e+01</td>\n      <td>1.019723e+04</td>\n      <td>8.908532e+02</td>\n      <td>1.242641e+00</td>\n    </tr>\n    <tr>\n      <th>std</th>\n      <td>9.422988e+00</td>\n      <td>1.622697e+01</td>\n      <td>6.324297e+03</td>\n      <td>1.729800e+03</td>\n      <td>2.618834e+00</td>\n    </tr>\n    <tr>\n      <th>min</th>\n      <td>0.000000e+00</td>\n      <td>0.000000e+00</td>\n      <td>0.000000e+00</td>\n      <td>-1.000000e+00</td>\n      <td>-2.200000e+01</td>\n    </tr>\n    <tr>\n      <th>25%</th>\n      <td>7.000000e+00</td>\n      <td>2.200000e+01</td>\n      <td>4.476000e+03</td>\n      <td>2.490000e+02</td>\n      <td>1.000000e+00</td>\n    </tr>\n    <tr>\n      <th>50%</th>\n      <td>1.400000e+01</td>\n      <td>3.100000e+01</td>\n      <td>9.343000e+03</td>\n      <td>3.990000e+02</td>\n      <td>1.000000e+00</td>\n    </tr>\n    <tr>\n      <th>75%</th>\n      <td>2.300000e+01</td>\n      <td>4.700000e+01</td>\n      <td>1.568400e+04</td>\n      <td>9.990000e+02</td>\n      <td>1.000000e+00</td>\n    </tr>\n    <tr>\n      <th>max</th>\n      <td>3.300000e+01</td>\n      <td>5.900000e+01</td>\n      <td>2.216900e+04</td>\n      <td>3.079800e+05</td>\n      <td>2.169000e+03</td>\n    </tr>\n  </tbody>\n</table>\n</div>"
     },
     "metadata": {}
    }
   ]
  },
  {
   "cell_type": "code",
   "source": "",
   "metadata": {
    "tags": [],
    "cell_id": "00006-bac32570-f451-42d2-97ce-f5f1d3b3dee5",
    "deepnote_to_be_reexecuted": false,
    "source_hash": "b623e53d",
    "execution_start": 1620304748910,
    "execution_millis": 3,
    "deepnote_cell_type": "code"
   },
   "outputs": [],
   "execution_count": 18
  },
  {
   "cell_type": "code",
   "metadata": {
    "tags": [],
    "cell_id": "00007-f3e75fe6-899d-4094-a70d-a8ef65ec001b",
    "deepnote_to_be_reexecuted": false,
    "source_hash": "f3da4067",
    "execution_start": 1620304661862,
    "execution_millis": 8,
    "deepnote_cell_type": "code"
   },
   "source": "df_items[\"item_category_id\"].unique()",
   "execution_count": 17,
   "outputs": [
    {
     "output_type": "execute_result",
     "execution_count": 17,
     "data": {
      "text/plain": "array([40, 76, 55, 19, 30, 23, 37, 41, 57, 43, 78, 54, 49, 44, 45, 77, 73,\n       31, 75, 58, 56, 38, 67, 59, 60, 74, 21, 28, 20, 24, 29, 70, 22, 32,\n       62, 25, 72,  4, 63, 27, 18, 26, 64, 15, 68,  0,  2,  5,  1,  3,  6,\n       35, 65, 14, 13, 10, 11, 12, 48, 71, 69,  7, 33, 34, 16, 66, 39, 52,\n       46, 42, 61,  8, 80,  9, 17, 36, 47, 82, 81, 50, 51, 79, 53, 83])"
     },
     "metadata": {}
    }
   ]
  },
  {
   "cell_type": "code",
   "source": "df_items",
   "metadata": {
    "tags": [],
    "cell_id": "00008-9ee50358-68af-42a0-b225-b7e8907c438e",
    "deepnote_to_be_reexecuted": false,
    "source_hash": "1a8f766a",
    "execution_start": 1620304634846,
    "execution_millis": 58,
    "deepnote_cell_type": "code"
   },
   "outputs": [
    {
     "output_type": "execute_result",
     "execution_count": 15,
     "data": {
      "application/vnd.deepnote.dataframe.v2+json": {
       "row_count": 22170,
       "column_count": 3,
       "columns": [
        {
         "name": "item_name",
         "dtype": "object",
         "stats": {
          "unique_count": 22170,
          "nan_count": 0,
          "categories": [
           {
            "name": "! ВО ВЛАСТИ НАВАЖДЕНИЯ (ПЛАСТ.)         D",
            "count": 1
           },
           {
            "name": "!ABBYY FineReader 12 Professional Edition Full [PC, Цифровая версия]",
            "count": 1
           },
           {
            "name": "22168 others",
            "count": 22168
           }
          ]
         }
        },
        {
         "name": "item_id",
         "dtype": "int64",
         "stats": {
          "unique_count": 22170,
          "nan_count": 0,
          "min": "0",
          "max": "22169",
          "histogram": [
           {
            "bin_start": 0,
            "bin_end": 2216.9,
            "count": 2217
           },
           {
            "bin_start": 2216.9,
            "bin_end": 4433.8,
            "count": 2217
           },
           {
            "bin_start": 4433.8,
            "bin_end": 6650.700000000001,
            "count": 2217
           },
           {
            "bin_start": 6650.700000000001,
            "bin_end": 8867.6,
            "count": 2217
           },
           {
            "bin_start": 8867.6,
            "bin_end": 11084.5,
            "count": 2217
           },
           {
            "bin_start": 11084.5,
            "bin_end": 13301.400000000001,
            "count": 2217
           },
           {
            "bin_start": 13301.400000000001,
            "bin_end": 15518.300000000001,
            "count": 2217
           },
           {
            "bin_start": 15518.300000000001,
            "bin_end": 17735.2,
            "count": 2217
           },
           {
            "bin_start": 17735.2,
            "bin_end": 19952.100000000002,
            "count": 2217
           },
           {
            "bin_start": 19952.100000000002,
            "bin_end": 22169,
            "count": 2217
           }
          ]
         }
        },
        {
         "name": "item_category_id",
         "dtype": "int64",
         "stats": {
          "unique_count": 84,
          "nan_count": 0,
          "min": "0",
          "max": "83",
          "histogram": [
           {
            "bin_start": 0,
            "bin_end": 8.3,
            "count": 232
           },
           {
            "bin_start": 8.3,
            "bin_end": 16.6,
            "count": 155
           },
           {
            "bin_start": 16.6,
            "bin_end": 24.900000000000002,
            "count": 1644
           },
           {
            "bin_start": 24.900000000000002,
            "bin_end": 33.2,
            "count": 2342
           },
           {
            "bin_start": 33.2,
            "bin_end": 41.5,
            "count": 7482
           },
           {
            "bin_start": 41.5,
            "bin_end": 49.800000000000004,
            "count": 1174
           },
           {
            "bin_start": 49.800000000000004,
            "bin_end": 58.10000000000001,
            "count": 4078
           },
           {
            "bin_start": 58.10000000000001,
            "bin_end": 66.4,
            "count": 2236
           },
           {
            "bin_start": 66.4,
            "bin_end": 74.7,
            "count": 1682
           },
           {
            "bin_start": 74.7,
            "bin_end": 83,
            "count": 1145
           }
          ]
         }
        },
        {
         "name": "_deepnote_index_column",
         "dtype": "int64"
        }
       ],
       "rows_top": [
        {
         "item_name": "! ВО ВЛАСТИ НАВАЖДЕНИЯ (ПЛАСТ.)         D",
         "item_id": 0,
         "item_category_id": 40,
         "_deepnote_index_column": 0
        },
        {
         "item_name": "!ABBYY FineReader 12 Professional Edition Full [PC, Цифровая версия]",
         "item_id": 1,
         "item_category_id": 76,
         "_deepnote_index_column": 1
        },
        {
         "item_name": "***В ЛУЧАХ СЛАВЫ   (UNV)                    D",
         "item_id": 2,
         "item_category_id": 40,
         "_deepnote_index_column": 2
        },
        {
         "item_name": "***ГОЛУБАЯ ВОЛНА  (Univ)                      D",
         "item_id": 3,
         "item_category_id": 40,
         "_deepnote_index_column": 3
        },
        {
         "item_name": "***КОРОБКА (СТЕКЛО)                       D",
         "item_id": 4,
         "item_category_id": 40,
         "_deepnote_index_column": 4
        },
        {
         "item_name": "***НОВЫЕ АМЕРИКАНСКИЕ ГРАФФИТИ  (UNI)             D",
         "item_id": 5,
         "item_category_id": 40,
         "_deepnote_index_column": 5
        },
        {
         "item_name": "***УДАР ПО ВОРОТАМ (UNI)               D",
         "item_id": 6,
         "item_category_id": 40,
         "_deepnote_index_column": 6
        },
        {
         "item_name": "***УДАР ПО ВОРОТАМ-2 (UNI)               D",
         "item_id": 7,
         "item_category_id": 40,
         "_deepnote_index_column": 7
        },
        {
         "item_name": "***ЧАЙ С МУССОЛИНИ                     D",
         "item_id": 8,
         "item_category_id": 40,
         "_deepnote_index_column": 8
        },
        {
         "item_name": "***ШУГАРЛЭНДСКИЙ ЭКСПРЕСС (UNI)             D",
         "item_id": 9,
         "item_category_id": 40,
         "_deepnote_index_column": 9
        },
        {
         "item_name": "*ЗА ГРАНЬЮ СМЕРТИ                       D",
         "item_id": 10,
         "item_category_id": 40,
         "_deepnote_index_column": 10
        },
        {
         "item_name": "*ЛИНИЯ СМЕРТИ                           D",
         "item_id": 11,
         "item_category_id": 40,
         "_deepnote_index_column": 11
        },
        {
         "item_name": "*МИХЕЙ И ДЖУМАНДЖИ  Сука любовь",
         "item_id": 12,
         "item_category_id": 55,
         "_deepnote_index_column": 12
        },
        {
         "item_name": "*СПАСАЯ ЭМИЛИ                           D",
         "item_id": 13,
         "item_category_id": 40,
         "_deepnote_index_column": 13
        },
        {
         "item_name": "*ЧОКНУТЫЙ ПРОФЕССОР /МАГИЯ/             D",
         "item_id": 14,
         "item_category_id": 40,
         "_deepnote_index_column": 14
        },
        {
         "item_name": "//АДРЕНАЛИН: ОДИН ПРОТИВ ВСЕХ (Регион)",
         "item_id": 15,
         "item_category_id": 40,
         "_deepnote_index_column": 15
        },
        {
         "item_name": "//МОНГОЛ С.Бодров (Регион)",
         "item_id": 16,
         "item_category_id": 40,
         "_deepnote_index_column": 16
        },
        {
         "item_name": "//НЕ ОСТАВЛЯЮЩИЙ СЛЕДА (Регион)",
         "item_id": 17,
         "item_category_id": 40,
         "_deepnote_index_column": 17
        },
        {
         "item_name": "/БОМБА ДЛЯ НЕВЕСТЫ /2DVD/               D",
         "item_id": 18,
         "item_category_id": 40,
         "_deepnote_index_column": 18
        },
        {
         "item_name": "/ЗОЛОТАЯ КОЛЛЕКЦИЯ м/ф-72",
         "item_id": 19,
         "item_category_id": 40,
         "_deepnote_index_column": 19
        },
        {
         "item_name": "/ОДНАЖДЫ В КИТАЕ-2",
         "item_id": 20,
         "item_category_id": 40,
         "_deepnote_index_column": 20
        },
        {
         "item_name": "/ПОСЛЕДНИЙ ШАНС",
         "item_id": 21,
         "item_category_id": 40,
         "_deepnote_index_column": 21
        },
        {
         "item_name": "/ПРОКЛЯТЬЕ ЭЛЬ ЧАРРО",
         "item_id": 22,
         "item_category_id": 40,
         "_deepnote_index_column": 22
        },
        {
         "item_name": "/СЕВЕР И ЮГ /Ч.2/",
         "item_id": 23,
         "item_category_id": 40,
         "_deepnote_index_column": 23
        },
        {
         "item_name": "/СМЕРТЕЛЬНЫЙ РАСКЛАД",
         "item_id": 24,
         "item_category_id": 40,
         "_deepnote_index_column": 24
        },
        {
         "item_name": "/ТЫ  - ТРУП",
         "item_id": 25,
         "item_category_id": 40,
         "_deepnote_index_column": 25
        },
        {
         "item_name": "/УМНОЖАЮЩИЙ ПЕЧАЛЬ т.2 (сер.3-4)",
         "item_id": 26,
         "item_category_id": 40,
         "_deepnote_index_column": 26
        },
        {
         "item_name": "007 Legends [PS3, русская версия]",
         "item_id": 27,
         "item_category_id": 19,
         "_deepnote_index_column": 27
        },
        {
         "item_name": "007 Legends [PС, Jewel, русская версия]",
         "item_id": 28,
         "item_category_id": 30,
         "_deepnote_index_column": 28
        },
        {
         "item_name": "007 Legends [Xbox 360, русская версия]",
         "item_id": 29,
         "item_category_id": 23,
         "_deepnote_index_column": 29
        },
        {
         "item_name": "007: КООРДИНАТЫ «СКАЙФОЛЛ»",
         "item_id": 30,
         "item_category_id": 40,
         "_deepnote_index_column": 30
        },
        {
         "item_name": "007: КООРДИНАТЫ «СКАЙФОЛЛ» (BD)",
         "item_id": 31,
         "item_category_id": 37,
         "_deepnote_index_column": 31
        },
        {
         "item_name": "1+1",
         "item_id": 32,
         "item_category_id": 40,
         "_deepnote_index_column": 32
        },
        {
         "item_name": "1+1 (BD)",
         "item_id": 33,
         "item_category_id": 37,
         "_deepnote_index_column": 33
        },
        {
         "item_name": "10 000 ЛЕТ ДО НАШЕЙ ЭРЫ WB (регион)",
         "item_id": 34,
         "item_category_id": 40,
         "_deepnote_index_column": 34
        },
        {
         "item_name": "10 ЛЕТ СПУСТЯ",
         "item_id": 35,
         "item_category_id": 40,
         "_deepnote_index_column": 35
        },
        {
         "item_name": "10 ЛЕТ СПУСТЯ (BD)",
         "item_id": 36,
         "item_category_id": 37,
         "_deepnote_index_column": 36
        },
        {
         "item_name": "10 ЛЕТ СПУСТЯ (регион)",
         "item_id": 37,
         "item_category_id": 40,
         "_deepnote_index_column": 37
        },
        {
         "item_name": "10 САМЫХ ПОПУЛЯРНЫХ КИНОКОМЕДИЙ ХХ ВЕКА  10DVD (rem)",
         "item_id": 38,
         "item_category_id": 41,
         "_deepnote_index_column": 38
        },
        {
         "item_name": "10 САМЫХ ПОПУЛЯРНЫХ ОТЕЧЕСТВЕННЫХ КОМЕДИЙ ХХ ВЕКА (BD)",
         "item_id": 39,
         "item_category_id": 41,
         "_deepnote_index_column": 39
        },
        {
         "item_name": "100 Best classical melodies (mp3-CD) (Digipack)",
         "item_id": 40,
         "item_category_id": 57,
         "_deepnote_index_column": 40
        },
        {
         "item_name": "100 Best relax melodies (mp3-CD) (CD-Digipack)",
         "item_id": 41,
         "item_category_id": 57,
         "_deepnote_index_column": 41
        },
        {
         "item_name": "100 Best romantic melodies (mp3-CD) (Digipack)",
         "item_id": 42,
         "item_category_id": 57,
         "_deepnote_index_column": 42
        },
        {
         "item_name": "100 МИЛЛИОНОВ ЕВРО",
         "item_id": 43,
         "item_category_id": 40,
         "_deepnote_index_column": 43
        },
        {
         "item_name": "100 лучших мелодий против стресса (mp3-CD) (CD-Digipack)",
         "item_id": 44,
         "item_category_id": 57,
         "_deepnote_index_column": 44
        },
        {
         "item_name": "100 лучших народных песен (mp3-CD) (CD-Digipack)",
         "item_id": 45,
         "item_category_id": 57,
         "_deepnote_index_column": 45
        },
        {
         "item_name": "100 лучших произведений Баха (mp3-CD) (Digipack)",
         "item_id": 46,
         "item_category_id": 57,
         "_deepnote_index_column": 46
        },
        {
         "item_name": "100 лучших произведений Бетховена (mp3-CD) (Digipack)",
         "item_id": 47,
         "item_category_id": 57,
         "_deepnote_index_column": 47
        },
        {
         "item_name": "100 лучших произведений Вивальди (mp3-CD) (CD-Digipack)",
         "item_id": 48,
         "item_category_id": 57,
         "_deepnote_index_column": 48
        },
        {
         "item_name": "100 лучших произведений Моцарта (mp3-CD) (Digipack)",
         "item_id": 49,
         "item_category_id": 57,
         "_deepnote_index_column": 49
        },
        {
         "item_name": "100 лучших произведений Рахманинова (mp3-CD) (Jewel)",
         "item_id": 50,
         "item_category_id": 57,
         "_deepnote_index_column": 50
        },
        {
         "item_name": "100 лучших произведений классики (mp3-CD) (Digipack)",
         "item_id": 51,
         "item_category_id": 57,
         "_deepnote_index_column": 51
        },
        {
         "item_name": "100 лучших произведений фортепианной музыки (mp3-CD) (CD-Digipack)",
         "item_id": 52,
         "item_category_id": 57,
         "_deepnote_index_column": 52
        },
        {
         "item_name": "100 лучших русских романсов (mp3-CD) (CD-Digipack)",
         "item_id": 53,
         "item_category_id": 57,
         "_deepnote_index_column": 53
        },
        {
         "item_name": "100 лучших цыганских романсов (mp3-CD) (CD-Digipack)",
         "item_id": 54,
         "item_category_id": 57,
         "_deepnote_index_column": 54
        },
        {
         "item_name": "100 любимых маленьких сказок (mp3-CD) (Jewel)",
         "item_id": 55,
         "item_category_id": 43,
         "_deepnote_index_column": 55
        },
        {
         "item_name": "100 любимых песен. Александра Пахмутова (подар. уп.) (mp3-CD) (Jewel)",
         "item_id": 56,
         "item_category_id": 57,
         "_deepnote_index_column": 56
        },
        {
         "item_name": "100 пудов из мультхитов (подар. уп.) (mp3-CD) (Jewel)",
         "item_id": 57,
         "item_category_id": 57,
         "_deepnote_index_column": 57
        },
        {
         "item_name": "100 чудес России [PC, Цифровая версия]",
         "item_id": 58,
         "item_category_id": 78,
         "_deepnote_index_column": 58
        },
        {
         "item_name": "100 шедевров классики (mp3-CD) (Digipack)",
         "item_id": 59,
         "item_category_id": 57,
         "_deepnote_index_column": 59
        },
        {
         "item_name": "1000 английских фраз на все случаи жизни (mp3-CD) (Jewel)",
         "item_id": 60,
         "item_category_id": 43,
         "_deepnote_index_column": 60
        },
        {
         "item_name": "1000 и одна ночь  2CD (mp3-DVD) (DVD-Book)",
         "item_id": 61,
         "item_category_id": 43,
         "_deepnote_index_column": 61
        },
        {
         "item_name": "10000 ЛЕТ ДО Н.Э. WB (BD)",
         "item_id": 62,
         "item_category_id": 37,
         "_deepnote_index_column": 62
        },
        {
         "item_name": "101 ДАЛМАТИНЕЦ  wd",
         "item_id": 63,
         "item_category_id": 40,
         "_deepnote_index_column": 63
        },
        {
         "item_name": "101 ДАЛМАТИНЕЦ 2 м/ф (регион)",
         "item_id": 64,
         "item_category_id": 40,
         "_deepnote_index_column": 64
        },
        {
         "item_name": "101 ДАЛМАТИНЕЦ 2:ПРИКЛЮЧЕНИЯ ПАТЧА В ЛОНДОНЕ (BD)",
         "item_id": 65,
         "item_category_id": 37,
         "_deepnote_index_column": 65
        },
        {
         "item_name": "101 ДАЛМАТИНЕЦ М/Ф (BD)",
         "item_id": 66,
         "item_category_id": 37,
         "_deepnote_index_column": 66
        },
        {
         "item_name": "101 ДАЛМАТИНЕЦ м/ф (регион)",
         "item_id": 67,
         "item_category_id": 40,
         "_deepnote_index_column": 67
        },
        {
         "item_name": "101 Далматинец. Интерактивная сказка [PC-CD, Jewel]",
         "item_id": 68,
         "item_category_id": 30,
         "_deepnote_index_column": 68
        },
        {
         "item_name": "101 совет начинающим разработчикам в системе \"1С:Предприятие 8\"  [Цифровая версия]",
         "item_id": 69,
         "item_category_id": 54,
         "_deepnote_index_column": 69
        },
        {
         "item_name": "101 совет начинающим разработчикам в системе \"1С:Предприятие 8\". Хрусталева Е.Ю.",
         "item_id": 70,
         "item_category_id": 49,
         "_deepnote_index_column": 70
        },
        {
         "item_name": "11 ДРУЗЕЙ ОУШЕНА WB (BD)",
         "item_id": 71,
         "item_category_id": 37,
         "_deepnote_index_column": 71
        },
        {
         "item_name": "11 ДРУЗЕЙ ОУШЕНА WB (регион)",
         "item_id": 72,
         "item_category_id": 40,
         "_deepnote_index_column": 72
        },
        {
         "item_name": "11-11-11 (регион)",
         "item_id": 73,
         "item_category_id": 40,
         "_deepnote_index_column": 73
        },
        {
         "item_name": "12 ДРУЗЕЙ ОУШЕНА WB (BD)",
         "item_id": 74,
         "item_category_id": 37,
         "_deepnote_index_column": 74
        },
        {
         "item_name": "12 ДРУЗЕЙ ОУШЕНА WB (регион)",
         "item_id": 75,
         "item_category_id": 40,
         "_deepnote_index_column": 75
        },
        {
         "item_name": "12 ЛЕТ РАБСТВА (BD)",
         "item_id": 76,
         "item_category_id": 37,
         "_deepnote_index_column": 76
        },
        {
         "item_name": "12 ЛЕТ РАБСТВА (регион)",
         "item_id": 77,
         "item_category_id": 40,
         "_deepnote_index_column": 77
        },
        {
         "item_name": "12 МЕСЯЦЕВ",
         "item_id": 78,
         "item_category_id": 40,
         "_deepnote_index_column": 78
        },
        {
         "item_name": "12 МЕСЯЦЕВ. НОВАЯ СКАЗКА",
         "item_id": 79,
         "item_category_id": 40,
         "_deepnote_index_column": 79
        },
        {
         "item_name": "12 РАУНДОВ (BD)",
         "item_id": 80,
         "item_category_id": 37,
         "_deepnote_index_column": 80
        },
        {
         "item_name": "12 РОЖДЕСТВЕНСКИХ ЖЕЛАНИЙ",
         "item_id": 81,
         "item_category_id": 40,
         "_deepnote_index_column": 81
        },
        {
         "item_name": "12/ДВЕНАДЦАТЬ (BD)",
         "item_id": 82,
         "item_category_id": 37,
         "_deepnote_index_column": 82
        },
        {
         "item_name": "12/ДВЕНАДЦАТЬ (СР) (Регион)",
         "item_id": 83,
         "item_category_id": 40,
         "_deepnote_index_column": 83
        },
        {
         "item_name": "127 ЧАСОВ",
         "item_id": 84,
         "item_category_id": 40,
         "_deepnote_index_column": 84
        },
        {
         "item_name": "127 ЧАСОВ (BD+DVD)",
         "item_id": 85,
         "item_category_id": 37,
         "_deepnote_index_column": 85
        },
        {
         "item_name": "127 ЧАСОВ (регион)",
         "item_id": 86,
         "item_category_id": 40,
         "_deepnote_index_column": 86
        },
        {
         "item_name": "13 ДРУЗЕЙ ОУШЕНА WB (BD)",
         "item_id": 87,
         "item_category_id": 37,
         "_deepnote_index_column": 87
        },
        {
         "item_name": "13 ДРУЗЕЙ ОУШЕНА WB (регион)",
         "item_id": 88,
         "item_category_id": 40,
         "_deepnote_index_column": 88
        },
        {
         "item_name": "13-Й ВОИН wd",
         "item_id": 89,
         "item_category_id": 40,
         "_deepnote_index_column": 89
        },
        {
         "item_name": "13-Й РАЙОН: Кирпичные особняки",
         "item_id": 90,
         "item_category_id": 40,
         "_deepnote_index_column": 90
        },
        {
         "item_name": "13-Й РАЙОН: Кирпичные особняки (BD)",
         "item_id": 91,
         "item_category_id": 37,
         "_deepnote_index_column": 91
        },
        {
         "item_name": "13-Й РАЙОН: УЛЬТИМАТУМ (BD)",
         "item_id": 92,
         "item_category_id": 37,
         "_deepnote_index_column": 92
        },
        {
         "item_name": "15 знаменитых сказок  Детям от 0 до 3 лет (mp3-CD) (Jewel)",
         "item_id": 93,
         "item_category_id": 43,
         "_deepnote_index_column": 93
        },
        {
         "item_name": "16 ЖЕЛАНИЙ",
         "item_id": 94,
         "item_category_id": 40,
         "_deepnote_index_column": 94
        },
        {
         "item_name": "1812. ЭНЦИКЛОПЕДИЯ ВЕЛИКОЙ ВОЙНЫ",
         "item_id": 95,
         "item_category_id": 40,
         "_deepnote_index_column": 95
        },
        {
         "item_name": "1812. ЭНЦИКЛОПЕДИЯ ВОЙНЫ (регион)",
         "item_id": 96,
         "item_category_id": 40,
         "_deepnote_index_column": 96
        },
        {
         "item_name": "1812: 4 СЕРИИ (регион)",
         "item_id": 97,
         "item_category_id": 40,
         "_deepnote_index_column": 97
        },
        {
         "item_name": "1812: УЛАНСКАЯ БАЛЛАДА",
         "item_id": 98,
         "item_category_id": 40,
         "_deepnote_index_column": 98
        },
        {
         "item_name": "1812: УЛАНСКАЯ БАЛЛАДА (BD)",
         "item_id": 99,
         "item_category_id": 37,
         "_deepnote_index_column": 99
        },
        {
         "item_name": "1812: УЛАНСКАЯ БАЛЛАДА (регион)",
         "item_id": 100,
         "item_category_id": 40,
         "_deepnote_index_column": 100
        },
        {
         "item_name": "1C:Школа. Физика, 9кл. [PC, Цифровая версия]",
         "item_id": 101,
         "item_category_id": 78,
         "_deepnote_index_column": 101
        },
        {
         "item_name": "1С-Битрикс: Управление сайтом - Малый бизнес [PC, Цифровая версия]",
         "item_id": 102,
         "item_category_id": 76,
         "_deepnote_index_column": 102
        },
        {
         "item_name": "1С-Битрикс: Управление сайтом - Стандарт [PC, Цифровая версия]",
         "item_id": 103,
         "item_category_id": 76,
         "_deepnote_index_column": 103
        },
        {
         "item_name": "1С-Битрикс: Управление сайтом - Старт (Bitrix) [PC, Цифровая версия]",
         "item_id": 104,
         "item_category_id": 76,
         "_deepnote_index_column": 104
        },
        {
         "item_name": "1С:Snowball ORIGINALS \"Europa Universalis III. In Nomine\"",
         "item_id": 105,
         "item_category_id": 30,
         "_deepnote_index_column": 105
        },
        {
         "item_name": "1С:Snowball ИГРУШКИ \"День Победы II. Новая война\"",
         "item_id": 106,
         "item_category_id": 30,
         "_deepnote_index_column": 106
        },
        {
         "item_name": "1С:Аудио. В гармонии с природой. Музыка для спокойного вождения автомобиля [Цифровая версия]",
         "item_id": 107,
         "item_category_id": 44,
         "_deepnote_index_column": 107
        },
        {
         "item_name": "1С:Аудио. В гармонии с природой. Отдых в лесу [Цифровая версия]",
         "item_id": 108,
         "item_category_id": 44,
         "_deepnote_index_column": 108
        },
        {
         "item_name": "1С:Аудио. Музыка восстановления равновесия души и тела (Jewel)",
         "item_id": 109,
         "item_category_id": 57,
         "_deepnote_index_column": 109
        },
        {
         "item_name": "1С:Аудио. Музыка восстановления равновесия души и тела [Цифровая версия]",
         "item_id": 110,
         "item_category_id": 44,
         "_deepnote_index_column": 110
        },
        {
         "item_name": "1С:Аудио. Музыка для оздоровления организма (Jewel)",
         "item_id": 111,
         "item_category_id": 57,
         "_deepnote_index_column": 111
        },
        {
         "item_name": "1С:Аудио. Музыка для релаксации и массажа [Цифровая версия]",
         "item_id": 112,
         "item_category_id": 44,
         "_deepnote_index_column": 112
        },
        {
         "item_name": "1С:Аудио. Музыка для снятия стресса (Jewel)",
         "item_id": 113,
         "item_category_id": 57,
         "_deepnote_index_column": 113
        },
        {
         "item_name": "1С:Аудио. Музыка для снятия стресса [Цифровая версия]",
         "item_id": 114,
         "item_category_id": 44,
         "_deepnote_index_column": 114
        },
        {
         "item_name": "1С:Аудио. Музыка природы (Jewel)",
         "item_id": 115,
         "item_category_id": 57,
         "_deepnote_index_column": 115
        },
        {
         "item_name": "1С:Аудио. Музыка страсти: повышение тонуса (Jewel)",
         "item_id": 116,
         "item_category_id": 57,
         "_deepnote_index_column": 116
        },
        {
         "item_name": "1С:Аудио. Музыка страсти: повышение тонуса [Цифровая версия]",
         "item_id": 117,
         "item_category_id": 44,
         "_deepnote_index_column": 117
        },
        {
         "item_name": "1С:Аудиокниги \"Аленушкины сказки\" [Цифровая версия]",
         "item_id": 118,
         "item_category_id": 44,
         "_deepnote_index_column": 118
        },
        {
         "item_name": "1С:Аудиокниги \"Баба-Яга – Золотая нога\" [Цифровая версия]",
         "item_id": 119,
         "item_category_id": 44,
         "_deepnote_index_column": 119
        },
        {
         "item_name": "1С:Аудиокниги \"Дама с собачкой\" [Цифровая версия]",
         "item_id": 120,
         "item_category_id": 44,
         "_deepnote_index_column": 120
        },
        {
         "item_name": "1С:Аудиокниги \"Кадетский монастырь\" [Цифровая версия]",
         "item_id": 121,
         "item_category_id": 44,
         "_deepnote_index_column": 121
        },
        {
         "item_name": "1С:Аудиокниги \"Любовь\" [Цифровая версия]",
         "item_id": 122,
         "item_category_id": 44,
         "_deepnote_index_column": 122
        },
        {
         "item_name": "1С:Аудиокниги \"Севастопольские рассказы\" [Цифровая версия]",
         "item_id": 123,
         "item_category_id": 44,
         "_deepnote_index_column": 123
        },
        {
         "item_name": "1С:Аудиокниги \"Серая Шейка\" [Цифровая версия]",
         "item_id": 124,
         "item_category_id": 44,
         "_deepnote_index_column": 124
        },
        {
         "item_name": "1С:Аудиокниги \"Сказки народов мира\" [Цифровая версия]",
         "item_id": 125,
         "item_category_id": 44,
         "_deepnote_index_column": 125
        },
        {
         "item_name": "1С:Аудиокниги \"Сказки. Выпуск 1\" [Цифровая версия]",
         "item_id": 126,
         "item_category_id": 44,
         "_deepnote_index_column": 126
        },
        {
         "item_name": "1С:Аудиокниги \"Сказки. Выпуск 2\" [Цифровая версия]",
         "item_id": 127,
         "item_category_id": 44,
         "_deepnote_index_column": 127
        },
        {
         "item_name": "1С:Аудиокниги \"Сказки. Выпуск 3\" [Цифровая версия]",
         "item_id": 128,
         "item_category_id": 44,
         "_deepnote_index_column": 128
        },
        {
         "item_name": "1С:Аудиокниги \"Сказки. Выпуск 4\" [Цифровая версия]",
         "item_id": 129,
         "item_category_id": 44,
         "_deepnote_index_column": 129
        },
        {
         "item_name": "1С:Аудиокниги \"Сказки. Выпуск 5\" [Цифровая версия]",
         "item_id": 130,
         "item_category_id": 44,
         "_deepnote_index_column": 130
        },
        {
         "item_name": "1С:Аудиокниги \"Сказки. Выпуск 6\" [Цифровая версия]",
         "item_id": 131,
         "item_category_id": 44,
         "_deepnote_index_column": 131
        },
        {
         "item_name": "1С:Аудиокниги. \"Мистические рассказы русских писателей\", А. С. Пушкин, Ф. М. Достоевский [Цифровая в",
         "item_id": 132,
         "item_category_id": 44,
         "_deepnote_index_column": 132
        },
        {
         "item_name": "1С:Аудиокниги. 25 знаменитых сказок",
         "item_id": 133,
         "item_category_id": 45,
         "_deepnote_index_column": 133
        },
        {
         "item_name": "1С:Аудиокниги. Around the World in 80 days (by Jules Verne) (Jewel)",
         "item_id": 134,
         "item_category_id": 45,
         "_deepnote_index_column": 134
        },
        {
         "item_name": "1С:Аудиокниги. Classical Mosaic. English Stories. Part 1",
         "item_id": 135,
         "item_category_id": 45,
         "_deepnote_index_column": 135
        },
        {
         "item_name": "1С:Аудиокниги. Happy New English! (Best funny stories) (Digipack)",
         "item_id": 136,
         "item_category_id": 45,
         "_deepnote_index_column": 136
        },
        {
         "item_name": "1С:Аудиокниги. The Golden Age of Detective Fiction. Part 1 [PC, Цифровая версия]",
         "item_id": 137,
         "item_category_id": 44,
         "_deepnote_index_column": 137
        },
        {
         "item_name": "1С:Аудиокниги. А. Некрасов. Приключения капитана Врунгеля (Digipack)",
         "item_id": 138,
         "item_category_id": 45,
         "_deepnote_index_column": 138
        },
        {
         "item_name": "1С:Аудиокниги. А.М. Волков. Волшебник изумрудного города (Digipack)",
         "item_id": 139,
         "item_category_id": 45,
         "_deepnote_index_column": 139
        },
        {
         "item_name": "1С:Аудиокниги. Аладдин и другие восточные сказки (Jewel)",
         "item_id": 140,
         "item_category_id": 45,
         "_deepnote_index_column": 140
        },
        {
         "item_name": "1С:Аудиокниги. Аладдин и другие восточные сказки [PC, Цифровая версия]",
         "item_id": 141,
         "item_category_id": 44,
         "_deepnote_index_column": 141
        },
        {
         "item_name": "1С:Аудиокниги. Алексей Толстой. Приключения Буратино (Digipack)",
         "item_id": 142,
         "item_category_id": 45,
         "_deepnote_index_column": 142
        },
        {
         "item_name": "1С:Аудиокниги. Аленький цветочек и другие сказки (Jewel)",
         "item_id": 143,
         "item_category_id": 45,
         "_deepnote_index_column": 143
        },
        {
         "item_name": "1С:Аудиокниги. Аленький цветочек и другие сказки [Цифровая версия]",
         "item_id": 144,
         "item_category_id": 44,
         "_deepnote_index_column": 144
        },
        {
         "item_name": "1С:Аудиокниги. Али-Баба и сорок разбойников [PC, Цифровая версия]",
         "item_id": 145,
         "item_category_id": 44,
         "_deepnote_index_column": 145
        },
        {
         "item_name": "1С:Аудиокниги. Английские неправильные глаголы. Тренажер   [PC, Цифровая версия]",
         "item_id": 146,
         "item_category_id": 44,
         "_deepnote_index_column": 146
        },
        {
         "item_name": "1С:Аудиокниги. Английские пословицы, поговорки и устойчивые выражения. Самоучитель  [PC, Цифровая версия]",
         "item_id": 147,
         "item_category_id": 44,
         "_deepnote_index_column": 147
        },
        {
         "item_name": "1С:Аудиокниги. Английские сказки, часть 1 [PC, Цифровая версия]",
         "item_id": 148,
         "item_category_id": 44,
         "_deepnote_index_column": 148
        },
        {
         "item_name": "1С:Аудиокниги. Английский для детей. Слушай и изучай (Jewel)",
         "item_id": 149,
         "item_category_id": 45,
         "_deepnote_index_column": 149
        },
        {
         "item_name": "1С:Аудиокниги. Английский для детей. Слушай и изучай [Цифровая версия]",
         "item_id": 150,
         "item_category_id": 44,
         "_deepnote_index_column": 150
        },
        {
         "item_name": "1С:Аудиокниги. Английский для малышей. Наглядное пособие (Jewel)",
         "item_id": 151,
         "item_category_id": 45,
         "_deepnote_index_column": 151
        },
        {
         "item_name": "1С:Аудиокниги. Английский для путешественников (Jewel)",
         "item_id": 152,
         "item_category_id": 45,
         "_deepnote_index_column": 152
        },
        {
         "item_name": "1С:Аудиокниги. Английский за 30 минут (Digipack)",
         "item_id": 153,
         "item_category_id": 45,
         "_deepnote_index_column": 153
        },
        {
         "item_name": "1С:Аудиокниги. Английский за рулем. Выпуск 1 (Beginner) (Digipack)",
         "item_id": 154,
         "item_category_id": 45,
         "_deepnote_index_column": 154
        },
        {
         "item_name": "1С:Аудиокниги. Английский за рулем. Выпуск 2 (Elementary) (Digipack)",
         "item_id": 155,
         "item_category_id": 45,
         "_deepnote_index_column": 155
        },
        {
         "item_name": "1С:Аудиокниги. Английский за рулем. Выпуск 3 (Pre-Intermediate) (Digipack)",
         "item_id": 156,
         "item_category_id": 45,
         "_deepnote_index_column": 156
        },
        {
         "item_name": "1С:Аудиокниги. Английский словарный минимум. Тренажер  [PC, Цифровая версия]",
         "item_id": 157,
         "item_category_id": 44,
         "_deepnote_index_column": 157
        },
        {
         "item_name": "1С:Аудиокниги. Английский язык за 12 дней: Самоучитель для повседневного общения [PC, Цифровая версия]",
         "item_id": 158,
         "item_category_id": 44,
         "_deepnote_index_column": 158
        },
        {
         "item_name": "1С:Аудиокниги. Английский язык за 12 дней: Самоучитель. Деловой английский  [PC, Цифровая версия]",
         "item_id": 159,
         "item_category_id": 44,
         "_deepnote_index_column": 159
        },
        {
         "item_name": "1С:Аудиокниги. Английский язык за 12 дней: Самоучитель. Отдых за рубежом [PC, Цифровая версия]",
         "item_id": 160,
         "item_category_id": 44,
         "_deepnote_index_column": 160
        },
        {
         "item_name": "1С:Аудиокниги. Английский язык. 1700 распространенных фраз и выражений. Тренажер   [PC, Цифровая версия]",
         "item_id": 161,
         "item_category_id": 44,
         "_deepnote_index_column": 161
        },
        {
         "item_name": "1С:Аудиокниги. Андерсен Г.Х. Дюймовочка",
         "item_id": 162,
         "item_category_id": 45,
         "_deepnote_index_column": 162
        },
        {
         "item_name": "1С:Аудиокниги. Андрей Платонов. Челюсть дракона. Рассказы о войне12    [PC, Цифровая версия]",
         "item_id": 163,
         "item_category_id": 44,
         "_deepnote_index_column": 163
        },
        {
         "item_name": "1С:Аудиокниги. Аркадий Аверченко. Классика русского юмора. [Цифровая версия]",
         "item_id": 164,
         "item_category_id": 44,
         "_deepnote_index_column": 164
        },
        {
         "item_name": "1С:Аудиокниги. Артур Конан Дойл. Долина страха (Jewel)",
         "item_id": 165,
         "item_category_id": 45,
         "_deepnote_index_column": 165
        }
       ],
       "rows_bottom": [
        {
         "item_name": "ЩЕНЯЧИЙ ПАТРУЛЬ  Сезон 1  Выпуск 3  Пиратские сокровища",
         "item_id": 22003,
         "item_category_id": 40,
         "_deepnote_index_column": 22003
        },
        {
         "item_name": "ЩЕНЯЧИЙ ПАТРУЛЬ  Сезон 1  Выпуск 4  Зимние спасатели",
         "item_id": 22004,
         "item_category_id": 40,
         "_deepnote_index_column": 22004
        },
        {
         "item_name": "ЩЕНЯЧИЙ ПАТРУЛЬ  Сезон 1  Выпуск 5  Сбор урожая",
         "item_id": 22005,
         "item_category_id": 40,
         "_deepnote_index_column": 22005
        },
        {
         "item_name": "ЩЕНЯЧИЙ ПАТРУЛЬ  Сезон 1  Выпуск 6  Большие гонки",
         "item_id": 22006,
         "item_category_id": 40,
         "_deepnote_index_column": 22006
        },
        {
         "item_name": "ЩИТ И МЕЧ (1-2 серия) (регион)",
         "item_id": 22007,
         "item_category_id": 40,
         "_deepnote_index_column": 22007
        },
        {
         "item_name": "ЩИТ И МЕЧ (3-4 серия) (регион)",
         "item_id": 22008,
         "item_category_id": 40,
         "_deepnote_index_column": 22008
        },
        {
         "item_name": "ЩИТ И МЕЧ (rem) (2DVD)",
         "item_id": 22009,
         "item_category_id": 40,
         "_deepnote_index_column": 22009
        },
        {
         "item_name": "Щелкунчик и Крысиный король [PC, Jewel]",
         "item_id": 22010,
         "item_category_id": 30,
         "_deepnote_index_column": 22010
        },
        {
         "item_name": "Щит Adventure Time Jake Shield with Sounds со звуком",
         "item_id": 22011,
         "item_category_id": 61,
         "_deepnote_index_column": 22011
        },
        {
         "item_name": "ЭВАН ВСЕМОГУЩИЙ (BD)",
         "item_id": 22012,
         "item_category_id": 37,
         "_deepnote_index_column": 22012
        },
        {
         "item_name": "ЭВЕРГЛЕЙДС: ЛАМАНТИН КРИСТАЛЬНОЙ РЕКИ (3D BD)",
         "item_id": 22013,
         "item_category_id": 38,
         "_deepnote_index_column": 22013
        },
        {
         "item_name": "ЭВОЛЮЦИЯ БОРНА",
         "item_id": 22014,
         "item_category_id": 40,
         "_deepnote_index_column": 22014
        },
        {
         "item_name": "ЭВОЛЮЦИЯ БОРНА (BD)",
         "item_id": 22015,
         "item_category_id": 37,
         "_deepnote_index_column": 22015
        },
        {
         "item_name": "ЭДВАРД РУКИ-НОЖНИЦЫ (BD)",
         "item_id": 22016,
         "item_category_id": 37,
         "_deepnote_index_column": 22016
        },
        {
         "item_name": "ЭДДИ МЕРФИ. Коллекция фильмов",
         "item_id": 22017,
         "item_category_id": 40,
         "_deepnote_index_column": 22017
        },
        {
         "item_name": "ЭКЗАМЕН ДЛЯ ДВОИХ",
         "item_id": 22018,
         "item_category_id": 40,
         "_deepnote_index_column": 22018
        },
        {
         "item_name": "ЭКЗАМЕН ДЛЯ ДВОИХ (BD)",
         "item_id": 22019,
         "item_category_id": 37,
         "_deepnote_index_column": 22019
        },
        {
         "item_name": "ЭКИПАЖ",
         "item_id": 22020,
         "item_category_id": 40,
         "_deepnote_index_column": 22020
        },
        {
         "item_name": "ЭКИПАЖ (BD)",
         "item_id": 22021,
         "item_category_id": 37,
         "_deepnote_index_column": 22021
        },
        {
         "item_name": "ЭКИПАЖ (rem)",
         "item_id": 22022,
         "item_category_id": 40,
         "_deepnote_index_column": 22022
        },
        {
         "item_name": "ЭКИПАЖ (Регион)",
         "item_id": 22023,
         "item_category_id": 40,
         "_deepnote_index_column": 22023
        },
        {
         "item_name": "ЭКИПАЖ (регион)",
         "item_id": 22024,
         "item_category_id": 40,
         "_deepnote_index_column": 22024
        },
        {
         "item_name": "ЭКСПАТ (BD)",
         "item_id": 22025,
         "item_category_id": 37,
         "_deepnote_index_column": 22025
        },
        {
         "item_name": "ЭКСПАТ (DVD+BD)",
         "item_id": 22026,
         "item_category_id": 40,
         "_deepnote_index_column": 22026
        },
        {
         "item_name": "ЭКСПАТ (регион)",
         "item_id": 22027,
         "item_category_id": 40,
         "_deepnote_index_column": 22027
        },
        {
         "item_name": "ЭКСПЕРИМЕНТ",
         "item_id": 22028,
         "item_category_id": 40,
         "_deepnote_index_column": 22028
        },
        {
         "item_name": "ЭКСПЕРИМЕНТ \"ПОВИНОВЕНИЕ\" (регион)",
         "item_id": 22029,
         "item_category_id": 40,
         "_deepnote_index_column": 22029
        },
        {
         "item_name": "ЭКСТАЗИ",
         "item_id": 22030,
         "item_category_id": 40,
         "_deepnote_index_column": 22030
        },
        {
         "item_name": "ЭКСТРАСЕНС",
         "item_id": 22031,
         "item_category_id": 40,
         "_deepnote_index_column": 22031
        },
        {
         "item_name": "ЭКСТРАСЕНС (BD)",
         "item_id": 22032,
         "item_category_id": 37,
         "_deepnote_index_column": 22032
        },
        {
         "item_name": "ЭЛВИН И БУРУНДУКИ (BD)",
         "item_id": 22033,
         "item_category_id": 37,
         "_deepnote_index_column": 22033
        },
        {
         "item_name": "ЭЛВИН И БУРУНДУКИ 1,2 (ХХси)",
         "item_id": 22034,
         "item_category_id": 40,
         "_deepnote_index_column": 22034
        },
        {
         "item_name": "ЭЛВИН И БУРУНДУКИ 2",
         "item_id": 22035,
         "item_category_id": 40,
         "_deepnote_index_column": 22035
        },
        {
         "item_name": "ЭЛВИН И БУРУНДУКИ 2 (BD)",
         "item_id": 22036,
         "item_category_id": 37,
         "_deepnote_index_column": 22036
        },
        {
         "item_name": "ЭЛВИН И БУРУНДУКИ 2 (р)",
         "item_id": 22037,
         "item_category_id": 40,
         "_deepnote_index_column": 22037
        },
        {
         "item_name": "ЭЛВИН И БУРУНДУКИ 3",
         "item_id": 22038,
         "item_category_id": 40,
         "_deepnote_index_column": 22038
        },
        {
         "item_name": "ЭЛВИН И БУРУНДУКИ 3 (BD)",
         "item_id": 22039,
         "item_category_id": 37,
         "_deepnote_index_column": 22039
        },
        {
         "item_name": "ЭЛВИН И БУРУНДУКИ 3 (регион)",
         "item_id": 22040,
         "item_category_id": 40,
         "_deepnote_index_column": 22040
        },
        {
         "item_name": "ЭЛВИН И БУРУНДУКИ. ТРИЛОГИЯ (BD)",
         "item_id": 22041,
         "item_category_id": 41,
         "_deepnote_index_column": 22041
        },
        {
         "item_name": "ЭЛВИН И БУРУНДУКИ: ТРИЛОГИЯ",
         "item_id": 22042,
         "item_category_id": 40,
         "_deepnote_index_column": 22042
        },
        {
         "item_name": "ЭЛЕКТРА (BD)",
         "item_id": 22043,
         "item_category_id": 37,
         "_deepnote_index_column": 22043
        },
        {
         "item_name": "ЭЛИЗАБЕТТАУН (регион)",
         "item_id": 22044,
         "item_category_id": 40,
         "_deepnote_index_column": 22044
        },
        {
         "item_name": "ЭЛИЗИУМ: РАЙ НЕ НА ЗЕМЛЕ",
         "item_id": 22045,
         "item_category_id": 40,
         "_deepnote_index_column": 22045
        },
        {
         "item_name": "ЭЛИЗИУМ: РАЙ НЕ НА ЗЕМЛЕ (BD)",
         "item_id": 22046,
         "item_category_id": 37,
         "_deepnote_index_column": 22046
        },
        {
         "item_name": "ЭЛИЗИУМ: РАЙ НЕ НА ЗЕМЛЕ (регион)",
         "item_id": 22047,
         "item_category_id": 40,
         "_deepnote_index_column": 22047
        },
        {
         "item_name": "ЭЛИТНОЕ ОБЩЕСТВО",
         "item_id": 22048,
         "item_category_id": 40,
         "_deepnote_index_column": 22048
        },
        {
         "item_name": "ЭММА (регион)",
         "item_id": 22049,
         "item_category_id": 40,
         "_deepnote_index_column": 22049
        },
        {
         "item_name": "ЭМПАЙР СТЭЙТ",
         "item_id": 22050,
         "item_category_id": 40,
         "_deepnote_index_column": 22050
        },
        {
         "item_name": "ЭННИ",
         "item_id": 22051,
         "item_category_id": 40,
         "_deepnote_index_column": 22051
        },
        {
         "item_name": "ЭПИДЕМИЯ  Всадник из льда (фирм.)",
         "item_id": 22052,
         "item_category_id": 55,
         "_deepnote_index_column": 22052
        },
        {
         "item_name": "ЭПИДЕМИЯ  Дорога домой",
         "item_id": 22053,
         "item_category_id": 55,
         "_deepnote_index_column": 22053
        },
        {
         "item_name": "ЭПИДЕМИЯ  Сокровище Энии  2LP",
         "item_id": 22054,
         "item_category_id": 58,
         "_deepnote_index_column": 22054
        },
        {
         "item_name": "ЭПИДЕМИЯ  Эльфийская рукопись  Сага о двух мирах  3DVD",
         "item_id": 22055,
         "item_category_id": 59,
         "_deepnote_index_column": 22055
        },
        {
         "item_name": "ЭПИДЕМИЯ (2013)",
         "item_id": 22056,
         "item_category_id": 40,
         "_deepnote_index_column": 22056
        },
        {
         "item_name": "ЭПИДЕМИЯ (регион)",
         "item_id": 22057,
         "item_category_id": 40,
         "_deepnote_index_column": 22057
        },
        {
         "item_name": "ЭПИК",
         "item_id": 22058,
         "item_category_id": 40,
         "_deepnote_index_column": 22058
        },
        {
         "item_name": "ЭПИК (3D BD+BD)",
         "item_id": 22059,
         "item_category_id": 38,
         "_deepnote_index_column": 22059
        },
        {
         "item_name": "ЭПИК (BD)",
         "item_id": 22060,
         "item_category_id": 37,
         "_deepnote_index_column": 22060
        },
        {
         "item_name": "ЭПОХА ГЕРОЕВ",
         "item_id": 22061,
         "item_category_id": 40,
         "_deepnote_index_column": 22061
        },
        {
         "item_name": "ЭПОХА ГЕРОЕВ (BD)",
         "item_id": 22062,
         "item_category_id": 37,
         "_deepnote_index_column": 22062
        },
        {
         "item_name": "ЭРАГОН (ХХси)",
         "item_id": 22063,
         "item_category_id": 40,
         "_deepnote_index_column": 22063
        },
        {
         "item_name": "ЭРНЕСТ И СЕЛЕСТИНА: ПРИКЛЮЧЕНИЯ МЫШКИ И МЕДВЕДЯ",
         "item_id": 22064,
         "item_category_id": 40,
         "_deepnote_index_column": 22064
        },
        {
         "item_name": "ЭТА ВЕСЕЛАЯ ПЛАНЕТА (rem)",
         "item_id": 22065,
         "item_category_id": 40,
         "_deepnote_index_column": 22065
        },
        {
         "item_name": "ЭТА ВЕСЕЛАЯ ПЛАНЕТА (регион)",
         "item_id": 22066,
         "item_category_id": 40,
         "_deepnote_index_column": 22066
        },
        {
         "item_name": "ЭТА-ДУРАЦКАЯ-ЛЮБОВЬ",
         "item_id": 22067,
         "item_category_id": 40,
         "_deepnote_index_column": 22067
        },
        {
         "item_name": "ЭТА-ДУРАЦКАЯ-ЛЮБОВЬ (BD)",
         "item_id": 22068,
         "item_category_id": 37,
         "_deepnote_index_column": 22068
        },
        {
         "item_name": "ЭТА-ДУРАЦКАЯ-ЛЮБОВЬ (регион)",
         "item_id": 22069,
         "item_category_id": 40,
         "_deepnote_index_column": 22069
        },
        {
         "item_name": "ЭТИМ УТРОМ В НЬЮ-ЙОРКЕ",
         "item_id": 22070,
         "item_category_id": 40,
         "_deepnote_index_column": 22070
        },
        {
         "item_name": "ЭТОТ НЕЛОВКИЙ МОМЕНТ",
         "item_id": 22071,
         "item_category_id": 40,
         "_deepnote_index_column": 22071
        },
        {
         "item_name": "ЭФФЕКТ КОЛИБРИ",
         "item_id": 22072,
         "item_category_id": 40,
         "_deepnote_index_column": 22072
        },
        {
         "item_name": "ЭФФЕКТ КОЛИБРИ (BD)",
         "item_id": 22073,
         "item_category_id": 37,
         "_deepnote_index_column": 22073
        },
        {
         "item_name": "ЭФФЕКТ КОЛИБРИ (регион)",
         "item_id": 22074,
         "item_category_id": 40,
         "_deepnote_index_column": 22074
        },
        {
         "item_name": "ЭФФЕКТИВНОЕ ПОХУДАНИЕ:Фитнес-йога. Начальный уровень.",
         "item_id": 22075,
         "item_category_id": 40,
         "_deepnote_index_column": 22075
        },
        {
         "item_name": "Эадор. Владыки миров [PC, Jewel, русская версия]",
         "item_id": 22076,
         "item_category_id": 30,
         "_deepnote_index_column": 22076
        },
        {
         "item_name": "Эадор. Сотворение",
         "item_id": 22077,
         "item_category_id": 30,
         "_deepnote_index_column": 22077
        },
        {
         "item_name": "Эадор: Владыки миров [PC, Цифровая версия]",
         "item_id": 22078,
         "item_category_id": 31,
         "_deepnote_index_column": 22078
        },
        {
         "item_name": "Эврика [PC, Jewel]",
         "item_id": 22079,
         "item_category_id": 30,
         "_deepnote_index_column": 22079
        },
        {
         "item_name": "Эврика! [PC, Цифровая версия]",
         "item_id": 22080,
         "item_category_id": 31,
         "_deepnote_index_column": 22080
        },
        {
         "item_name": "Экзаменационные билеты ГИБДД 2012 [PC, Jewel]",
         "item_id": 22081,
         "item_category_id": 77,
         "_deepnote_index_column": 22081
        },
        {
         "item_name": "Экспресс-курс. Программы и компоненты Windows 7 (Jewel)",
         "item_id": 22082,
         "item_category_id": 77,
         "_deepnote_index_column": 22082
        },
        {
         "item_name": "Элвин и бурундуки 3 (только для MS Kinect) [Xbox 360, русская документация]",
         "item_id": 22083,
         "item_category_id": 23,
         "_deepnote_index_column": 22083
        },
        {
         "item_name": "Электронный Ди-Джей. HipHop 6 (Jewel)",
         "item_id": 22084,
         "item_category_id": 77,
         "_deepnote_index_column": 22084
        },
        {
         "item_name": "Элемент питания DURACELL 123 A Ultra MP3 1*BL",
         "item_id": 22085,
         "item_category_id": 83,
         "_deepnote_index_column": 22085
        },
        {
         "item_name": "Элемент питания DURACELL 6LR61 9V 1*BL",
         "item_id": 22086,
         "item_category_id": 83,
         "_deepnote_index_column": 22086
        },
        {
         "item_name": "Элемент питания DURACELL LR03-BC2",
         "item_id": 22087,
         "item_category_id": 83,
         "_deepnote_index_column": 22087
        },
        {
         "item_name": "Элемент питания DURACELL LR06-BC2",
         "item_id": 22088,
         "item_category_id": 83,
         "_deepnote_index_column": 22088
        },
        {
         "item_name": "Элемент питания DURACELL LR14 2*BL",
         "item_id": 22089,
         "item_category_id": 83,
         "_deepnote_index_column": 22089
        },
        {
         "item_name": "Элемент питания DURACELL LR20 2*BL",
         "item_id": 22090,
         "item_category_id": 83,
         "_deepnote_index_column": 22090
        },
        {
         "item_name": "Элемент питания DURACELL TURBO LR 03 2*BL",
         "item_id": 22091,
         "item_category_id": 83,
         "_deepnote_index_column": 22091
        },
        {
         "item_name": "Элемент питания DURACELL TURBO LR6 2*BL",
         "item_id": 22092,
         "item_category_id": 83,
         "_deepnote_index_column": 22092
        },
        {
         "item_name": "Элемент питания GP 13A (LR20) - Блистер 2 шт",
         "item_id": 22093,
         "item_category_id": 83,
         "_deepnote_index_column": 22093
        },
        {
         "item_name": "Элемент питания GP 15A (LR6) - Блистер 2 шт",
         "item_id": 22094,
         "item_category_id": 83,
         "_deepnote_index_column": 22094
        },
        {
         "item_name": "Элемент питания GP 15AU (LR6) - Блистер 2 шт Ultra",
         "item_id": 22095,
         "item_category_id": 83,
         "_deepnote_index_column": 22095
        },
        {
         "item_name": "Элемент питания GP 24A (LR03) - Блистер 2 шт",
         "item_id": 22096,
         "item_category_id": 83,
         "_deepnote_index_column": 22096
        },
        {
         "item_name": "Элемент питания GP 24AU (LR03) - Блистер 2 шт Ultra",
         "item_id": 22097,
         "item_category_id": 83,
         "_deepnote_index_column": 22097
        },
        {
         "item_name": "Элемент питания КОСМОС LR03 2*BL",
         "item_id": 22098,
         "item_category_id": 83,
         "_deepnote_index_column": 22098
        },
        {
         "item_name": "Элемент питания СТАРТ ZT 15A (LR6) - Блистер 2 шт",
         "item_id": 22099,
         "item_category_id": 83,
         "_deepnote_index_column": 22099
        },
        {
         "item_name": "Энциклопедия Adventure Time",
         "item_id": 22100,
         "item_category_id": 42,
         "_deepnote_index_column": 22100
        },
        {
         "item_name": "Энциклопедия Dragon Age Мир Тедаса Том 1",
         "item_id": 22101,
         "item_category_id": 42,
         "_deepnote_index_column": 22101
        },
        {
         "item_name": "Энциклопедия Мир Ведьмака",
         "item_id": 22102,
         "item_category_id": 42,
         "_deepnote_index_column": 22102
        },
        {
         "item_name": "Эхо Москвы  Басовская Н., Венедиктов А. Древний мир (mp3-CD) (Jewel)",
         "item_id": 22103,
         "item_category_id": 43,
         "_deepnote_index_column": 22103
        },
        {
         "item_name": "Ю-ПИТЕР  Гудгора (фирм.)",
         "item_id": 22104,
         "item_category_id": 55,
         "_deepnote_index_column": 22104
        },
        {
         "item_name": "ЮГО-ЗАПАДНАЯ АМЕРИКА: ОТ ДОЛИНЫ СМЕРТИ ДО ВЕЛИКОГО КАНЬОНА (3D BD)",
         "item_id": 22105,
         "item_category_id": 38,
         "_deepnote_index_column": 22105
        },
        {
         "item_name": "ЮЖНЫЕ МОРЯ: АТОЛЛ БИКИНИ И МАРШАЛЛОВЫ ОСТРОВА (3D BD)",
         "item_id": 22106,
         "item_category_id": 38,
         "_deepnote_index_column": 22106
        },
        {
         "item_name": "ЮНАЙТЕД. МЮНХЕНСКАЯ ИСТОРИЯ (BD)",
         "item_id": 22107,
         "item_category_id": 37,
         "_deepnote_index_column": 22107
        },
        {
         "item_name": "ЮНОНА И АВОСЬ  (Н.Караченцов)",
         "item_id": 22108,
         "item_category_id": 40,
         "_deepnote_index_column": 22108
        },
        {
         "item_name": "ЮТА  Кстати  LP",
         "item_id": 22109,
         "item_category_id": 58,
         "_deepnote_index_column": 22109
        },
        {
         "item_name": "Юго-Восточная Азия Шанин В.А.",
         "item_id": 22110,
         "item_category_id": 52,
         "_deepnote_index_column": 22110
        },
        {
         "item_name": "Юмор и сатира  1  Рассказы русских писателей  6CD (mp3-CD) (DVD-Box)",
         "item_id": 22111,
         "item_category_id": 43,
         "_deepnote_index_column": 22111
        },
        {
         "item_name": "Юмор и сатира  2  Рассказы русских писателей  6CD (mp3-CD) (DVD-Box)",
         "item_id": 22112,
         "item_category_id": 43,
         "_deepnote_index_column": 22112
        },
        {
         "item_name": "Юмористические рассказы русских писателей в исполнении Валерия Гаркалина (mp3-CD) (Jewel)",
         "item_id": 22113,
         "item_category_id": 43,
         "_deepnote_index_column": 22113
        },
        {
         "item_name": "Я БУДУ РЯДОМ",
         "item_id": 22114,
         "item_category_id": 40,
         "_deepnote_index_column": 22114
        },
        {
         "item_name": "Я ВСЕ ЕЩЕ ЗНАЮ ЧТО ВЫ СДЕЛАЛИ ПРОШЛЫМ ЛЕТОМ (BD)",
         "item_id": 22115,
         "item_category_id": 37,
         "_deepnote_index_column": 22115
        },
        {
         "item_name": "Я И МОНИКА ВЕЛЮР",
         "item_id": 22116,
         "item_category_id": 40,
         "_deepnote_index_column": 22116
        },
        {
         "item_name": "Я ЛЮБЛЮ НЕПРЯТНОСТИ (BD)",
         "item_id": 22117,
         "item_category_id": 37,
         "_deepnote_index_column": 22117
        },
        {
         "item_name": "Я ЛЮБЛЮ ТЕБЯ, ФИЛЛИП МОРРИС (BD)",
         "item_id": 22118,
         "item_category_id": 37,
         "_deepnote_index_column": 22118
        },
        {
         "item_name": "Я НЕ ЗНАЮ, КАК ОНА ДЕЛАЕТ ЭТО (регион)",
         "item_id": 22119,
         "item_category_id": 40,
         "_deepnote_index_column": 22119
        },
        {
         "item_name": "Я НОРМАЛЬНО СУПЕР ГУД (регион)",
         "item_id": 22120,
         "item_category_id": 40,
         "_deepnote_index_column": 22120
        },
        {
         "item_name": "Я ОЧЕНЬ ВОЗБУЖДЕН",
         "item_id": 22121,
         "item_category_id": 40,
         "_deepnote_index_column": 22121
        },
        {
         "item_name": "Я ОЧЕНЬ ВОЗБУЖДЕН (BD)",
         "item_id": 22122,
         "item_category_id": 37,
         "_deepnote_index_column": 22122
        },
        {
         "item_name": "Я ОЧЕНЬ ВОЗБУЖДЕН (регион)",
         "item_id": 22123,
         "item_category_id": 40,
         "_deepnote_index_column": 22123
        },
        {
         "item_name": "Я ПЛЮЮ НА ВАШИ МОГИЛЫ",
         "item_id": 22124,
         "item_category_id": 40,
         "_deepnote_index_column": 22124
        },
        {
         "item_name": "Я ПЛЮЮ НА ВАШИ МОГИЛЫ (BD)",
         "item_id": 22125,
         "item_category_id": 37,
         "_deepnote_index_column": 22125
        },
        {
         "item_name": "Я ПЛЮЮ НА ВАШИ МОГИЛЫ 2",
         "item_id": 22126,
         "item_category_id": 40,
         "_deepnote_index_column": 22126
        },
        {
         "item_name": "Я ПЛЮЮ НА ВАШИ МОГИЛЫ 2 (BD)",
         "item_id": 22127,
         "item_category_id": 37,
         "_deepnote_index_column": 22127
        },
        {
         "item_name": "Я СЭМ (регион)",
         "item_id": 22128,
         "item_category_id": 40,
         "_deepnote_index_column": 22128
        },
        {
         "item_name": "Я ТОЖЕ",
         "item_id": 22129,
         "item_category_id": 40,
         "_deepnote_index_column": 22129
        },
        {
         "item_name": "Я ТОЖЕ ХОЧУ",
         "item_id": 22130,
         "item_category_id": 40,
         "_deepnote_index_column": 22130
        },
        {
         "item_name": "Я ТОЖЕ ХОЧУ (BD)",
         "item_id": 22131,
         "item_category_id": 37,
         "_deepnote_index_column": 22131
        },
        {
         "item_name": "Я ТОЖЕ ХОЧУ (регион)",
         "item_id": 22132,
         "item_category_id": 40,
         "_deepnote_index_column": 22132
        },
        {
         "item_name": "Я ШАГАЮ ПО МОСКВЕ (регион)",
         "item_id": 22133,
         "item_category_id": 40,
         "_deepnote_index_column": 22133
        },
        {
         "item_name": "Я, АЛЕКС КРОСС",
         "item_id": 22134,
         "item_category_id": 40,
         "_deepnote_index_column": 22134
        },
        {
         "item_name": "Я, АЛЕКС КРОСС (BD)",
         "item_id": 22135,
         "item_category_id": 37,
         "_deepnote_index_column": 22135
        },
        {
         "item_name": "Я, АЛЕКС КРОСС (регион)",
         "item_id": 22136,
         "item_category_id": 40,
         "_deepnote_index_column": 22136
        },
        {
         "item_name": "Я, РОБОТ",
         "item_id": 22137,
         "item_category_id": 40,
         "_deepnote_index_column": 22137
        },
        {
         "item_name": "Я, РОБОТ (2DVD+BD) жел.бокс",
         "item_id": 22138,
         "item_category_id": 40,
         "_deepnote_index_column": 22138
        },
        {
         "item_name": "Я, РОБОТ (3D BD)",
         "item_id": 22139,
         "item_category_id": 38,
         "_deepnote_index_column": 22139
        },
        {
         "item_name": "Я, РОБОТ (BD)",
         "item_id": 22140,
         "item_category_id": 37,
         "_deepnote_index_column": 22140
        },
        {
         "item_name": "Я, СНОВА Я И МАМА",
         "item_id": 22141,
         "item_category_id": 40,
         "_deepnote_index_column": 22141
        },
        {
         "item_name": "Я, СНОВА Я И МАМА (BD)",
         "item_id": 22142,
         "item_category_id": 37,
         "_deepnote_index_column": 22142
        },
        {
         "item_name": "Я, ФРАНКЕНШТЕЙН",
         "item_id": 22143,
         "item_category_id": 40,
         "_deepnote_index_column": 22143
        },
        {
         "item_name": "Я, ФРАНКЕНШТЕЙН (3D BD)",
         "item_id": 22144,
         "item_category_id": 38,
         "_deepnote_index_column": 22144
        },
        {
         "item_name": "Я, ФРАНКЕНШТЕЙН (BD)",
         "item_id": 22145,
         "item_category_id": 37,
         "_deepnote_index_column": 22145
        },
        {
         "item_name": "Я-ЛЕГЕНДА WB (BD)",
         "item_id": 22146,
         "item_category_id": 37,
         "_deepnote_index_column": 22146
        },
        {
         "item_name": "Я-ЛЕГЕНДА WB (регион)",
         "item_id": 22147,
         "item_category_id": 40,
         "_deepnote_index_column": 22147
        },
        {
         "item_name": "Я-ЧЕТВЕРТЫЙ  WD",
         "item_id": 22148,
         "item_category_id": 40,
         "_deepnote_index_column": 22148
        },
        {
         "item_name": "Я-ЧЕТВЕРТЫЙ  WD (регион)",
         "item_id": 22149,
         "item_category_id": 40,
         "_deepnote_index_column": 22149
        },
        {
         "item_name": "Я-ЧЕТВЕРТЫЙ (BD)",
         "item_id": 22150,
         "item_category_id": 37,
         "_deepnote_index_column": 22150
        },
        {
         "item_name": "ЯВЛЕНИЕ (2012)",
         "item_id": 22151,
         "item_category_id": 40,
         "_deepnote_index_column": 22151
        },
        {
         "item_name": "ЯВЛЕНИЕ (2012) (регион)",
         "item_id": 22152,
         "item_category_id": 40,
         "_deepnote_index_column": 22152
        },
        {
         "item_name": "ЯВЛЕНИЕ (BD)",
         "item_id": 22153,
         "item_category_id": 37,
         "_deepnote_index_column": 22153
        },
        {
         "item_name": "ЯВЛЕНИЕ 2012 (BD)",
         "item_id": 22154,
         "item_category_id": 37,
         "_deepnote_index_column": 22154
        },
        {
         "item_name": "ЯДЫ, ИЛИ ВСЕМИРНАЯ ИСТОРИЯ ОТРАВЛЕНИЙ (BD)",
         "item_id": 22155,
         "item_category_id": 37,
         "_deepnote_index_column": 22155
        },
        {
         "item_name": "ЯДЫ, ИЛИ ВСЕМИРНАЯ ИСТОРИЯ ОТРАВЛЕНИЙ (регион)",
         "item_id": 22156,
         "item_category_id": 40,
         "_deepnote_index_column": 22156
        },
        {
         "item_name": "ЯЛТА 45",
         "item_id": 22157,
         "item_category_id": 40,
         "_deepnote_index_column": 22157
        },
        {
         "item_name": "ЯМА (rem)",
         "item_id": 22158,
         "item_category_id": 40,
         "_deepnote_index_column": 22158
        },
        {
         "item_name": "ЯНКОВСКИЙ",
         "item_id": 22159,
         "item_category_id": 40,
         "_deepnote_index_column": 22159
        },
        {
         "item_name": "ЯРМАРКА ТЩЕСЛАВИЯ (Регион)",
         "item_id": 22160,
         "item_category_id": 40,
         "_deepnote_index_column": 22160
        },
        {
         "item_name": "ЯРОСЛАВ. ТЫСЯЧУ ЛЕТ НАЗАД э (BD)",
         "item_id": 22161,
         "item_category_id": 37,
         "_deepnote_index_column": 22161
        },
        {
         "item_name": "ЯРОСТЬ",
         "item_id": 22162,
         "item_category_id": 40,
         "_deepnote_index_column": 22162
        },
        {
         "item_name": "ЯРОСТЬ ( регион)",
         "item_id": 22163,
         "item_category_id": 40,
         "_deepnote_index_column": 22163
        },
        {
         "item_name": "ЯРОСТЬ (BD)",
         "item_id": 22164,
         "item_category_id": 37,
         "_deepnote_index_column": 22164
        },
        {
         "item_name": "Ядерный титбит 2 [PC, Цифровая версия]",
         "item_id": 22165,
         "item_category_id": 31,
         "_deepnote_index_column": 22165
        },
        {
         "item_name": "Язык запросов 1С:Предприятия  [Цифровая версия]",
         "item_id": 22166,
         "item_category_id": 54,
         "_deepnote_index_column": 22166
        },
        {
         "item_name": "Язык запросов 1С:Предприятия 8 (+CD). Хрусталева Е.Ю.",
         "item_id": 22167,
         "item_category_id": 49,
         "_deepnote_index_column": 22167
        },
        {
         "item_name": "Яйцо для Little Inu",
         "item_id": 22168,
         "item_category_id": 62,
         "_deepnote_index_column": 22168
        },
        {
         "item_name": "Яйцо дракона (Игра престолов)",
         "item_id": 22169,
         "item_category_id": 69,
         "_deepnote_index_column": 22169
        }
       ]
      },
      "text/plain": "                                               item_name  item_id  \\\n0              ! ВО ВЛАСТИ НАВАЖДЕНИЯ (ПЛАСТ.)         D        0   \n1      !ABBYY FineReader 12 Professional Edition Full...        1   \n2          ***В ЛУЧАХ СЛАВЫ   (UNV)                    D        2   \n3        ***ГОЛУБАЯ ВОЛНА  (Univ)                      D        3   \n4            ***КОРОБКА (СТЕКЛО)                       D        4   \n...                                                  ...      ...   \n22165             Ядерный титбит 2 [PC, Цифровая версия]    22165   \n22166    Язык запросов 1С:Предприятия  [Цифровая версия]    22166   \n22167  Язык запросов 1С:Предприятия 8 (+CD). Хрустале...    22167   \n22168                                Яйцо для Little Inu    22168   \n22169                      Яйцо дракона (Игра престолов)    22169   \n\n       item_category_id  \n0                    40  \n1                    76  \n2                    40  \n3                    40  \n4                    40  \n...                 ...  \n22165                31  \n22166                54  \n22167                49  \n22168                62  \n22169                69  \n\n[22170 rows x 3 columns]",
      "text/html": "<div>\n<style scoped>\n    .dataframe tbody tr th:only-of-type {\n        vertical-align: middle;\n    }\n\n    .dataframe tbody tr th {\n        vertical-align: top;\n    }\n\n    .dataframe thead th {\n        text-align: right;\n    }\n</style>\n<table border=\"1\" class=\"dataframe\">\n  <thead>\n    <tr style=\"text-align: right;\">\n      <th></th>\n      <th>item_name</th>\n      <th>item_id</th>\n      <th>item_category_id</th>\n    </tr>\n  </thead>\n  <tbody>\n    <tr>\n      <th>0</th>\n      <td>! ВО ВЛАСТИ НАВАЖДЕНИЯ (ПЛАСТ.)         D</td>\n      <td>0</td>\n      <td>40</td>\n    </tr>\n    <tr>\n      <th>1</th>\n      <td>!ABBYY FineReader 12 Professional Edition Full...</td>\n      <td>1</td>\n      <td>76</td>\n    </tr>\n    <tr>\n      <th>2</th>\n      <td>***В ЛУЧАХ СЛАВЫ   (UNV)                    D</td>\n      <td>2</td>\n      <td>40</td>\n    </tr>\n    <tr>\n      <th>3</th>\n      <td>***ГОЛУБАЯ ВОЛНА  (Univ)                      D</td>\n      <td>3</td>\n      <td>40</td>\n    </tr>\n    <tr>\n      <th>4</th>\n      <td>***КОРОБКА (СТЕКЛО)                       D</td>\n      <td>4</td>\n      <td>40</td>\n    </tr>\n    <tr>\n      <th>...</th>\n      <td>...</td>\n      <td>...</td>\n      <td>...</td>\n    </tr>\n    <tr>\n      <th>22165</th>\n      <td>Ядерный титбит 2 [PC, Цифровая версия]</td>\n      <td>22165</td>\n      <td>31</td>\n    </tr>\n    <tr>\n      <th>22166</th>\n      <td>Язык запросов 1С:Предприятия  [Цифровая версия]</td>\n      <td>22166</td>\n      <td>54</td>\n    </tr>\n    <tr>\n      <th>22167</th>\n      <td>Язык запросов 1С:Предприятия 8 (+CD). Хрустале...</td>\n      <td>22167</td>\n      <td>49</td>\n    </tr>\n    <tr>\n      <th>22168</th>\n      <td>Яйцо для Little Inu</td>\n      <td>22168</td>\n      <td>62</td>\n    </tr>\n    <tr>\n      <th>22169</th>\n      <td>Яйцо дракона (Игра престолов)</td>\n      <td>22169</td>\n      <td>69</td>\n    </tr>\n  </tbody>\n</table>\n<p>22170 rows × 3 columns</p>\n</div>"
     },
     "metadata": {}
    }
   ],
   "execution_count": 15
  },
  {
   "cell_type": "code",
   "source": "",
   "metadata": {
    "tags": [],
    "cell_id": "00008-d4ef3fb9-9951-459f-895c-91dd77c19a67",
    "deepnote_cell_type": "code"
   },
   "outputs": [],
   "execution_count": null
  },
  {
   "cell_type": "markdown",
   "source": "<a style='text-decoration:none;line-height:16px;display:flex;color:#5B5B62;padding:10px;justify-content:end;' href='https://deepnote.com?utm_source=created-in-deepnote-cell&projectId=796ba814-f632-4502-b0d7-7e2f8f9e546d' target=\"_blank\">\n<img alt='Created in deepnote.com' style='display:inline;max-height:16px;margin:0px;margin-right:7.5px;' src='data:image/svg+xml;base64,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' > </img>\nCreated in <span style='font-weight:600;margin-left:4px;'>Deepnote</span></a>",
   "metadata": {
    "tags": [],
    "created_in_deepnote_cell": true,
    "deepnote_cell_type": "markdown"
   }
  }
 ],
 "nbformat": 4,
 "nbformat_minor": 2,
 "metadata": {
  "orig_nbformat": 2,
  "deepnote": {
   "is_reactive": false
  },
  "deepnote_notebook_id": "553d24a7-e53d-47b2-a8a2-e247548993d4",
  "deepnote_execution_queue": []
 }
}