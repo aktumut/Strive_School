{
 "cells": [
  {
   "cell_type": "code",
   "metadata": {
    "tags": [],
    "deepnote_to_be_reexecuted": false,
    "source_hash": "5bdcef1c",
    "execution_start": 1620995538349,
    "execution_millis": 1577,
    "cell_id": "00000-e467fd1d-594a-4229-9caa-057d8b03a2d4",
    "deepnote_cell_type": "code"
   },
   "source": "import time\nfrom IPython.display import clear_output\nimport numpy    as np\nimport pandas   as pd\nimport seaborn  as sb\nimport matplotlib.pyplot as plt\nimport sklearn  as skl\n\nfrom sklearn import pipeline      # Pipeline\nfrom sklearn import preprocessing # OrdinalEncoder, LabelEncoder\nfrom sklearn import impute\nfrom sklearn import compose\nfrom sklearn import model_selection # train_test_split\nfrom sklearn import metrics         # accuracy_score, balanced_accuracy_score, plot_confusion_matrix\nfrom sklearn import set_config\nfrom sklearn.impute import KNNImputer\nfrom sklearn.preprocessing import PowerTransformer\nfrom sklearn.preprocessing import QuantileTransformer\nfrom sklearn.preprocessing import OneHotEncoder\n\nfrom sklearn.metrics import mean_squared_error\nfrom sklearn.preprocessing import MinMaxScaler\nfrom sklearn.preprocessing import MaxAbsScaler\nfrom sklearn.preprocessing import StandardScaler\nfrom sklearn.preprocessing import RobustScaler\nfrom sklearn.preprocessing import Normalizer\nfrom sklearn.preprocessing import QuantileTransformer\nfrom sklearn.preprocessing import PowerTransformer\n\nimport pandas as pd\nimport numpy as np\nimport matplotlib.pyplot as plt\n#import seaborn as sb\nimport sklearn as skl\nimport time as t\nfrom IPython.display import display, clear_output\n\n\nfrom geopy.geocoders import Nominatim # for latitudes and longitudes\nimport json\nimport pickle\n\nset_config(display='diagram') # Useful for display the pipeline\n\nprint(\"Pandas  \", pd.__version__)\nprint(\"Sklearn \", skl.__version__) # Try to use 0.24",
   "execution_count": 1,
   "outputs": [
    {
     "name": "stdout",
     "text": "Pandas   1.2.4\nSklearn  0.24.2\n",
     "output_type": "stream"
    }
   ]
  },
  {
   "cell_type": "markdown",
   "source": "### Importing Dataset",
   "metadata": {
    "tags": [],
    "cell_id": "00001-2823c468-4091-4bd8-a107-bb085856f033",
    "deepnote_cell_type": "markdown"
   }
  },
  {
   "cell_type": "code",
   "metadata": {
    "tags": [],
    "deepnote_to_be_reexecuted": false,
    "source_hash": "8e935fd4",
    "execution_start": 1620934935370,
    "execution_millis": 25,
    "cell_id": "00002-77eda750-41c2-4e95-9fc0-899f3fecb58a",
    "deepnote_cell_type": "code"
   },
   "source": "CLOUD = False\n\nif CLOUD:\n    import os\n    os.environ['KAGGLE_USERNAME'] = \"umutakta\"\n    os.environ['KAGGLE_KEY']      = \"a471e5474add8d57cadac3cc5ff2b1d6\"  \n    !pip install --upgrade kaggle\n    !kaggle competitions download -c competitive-data-science-predict-future-sales\n    DATA_PATH = \"/work/Strive_School/Feature_Engineering_(Module_4)/Day_6_Feature_Selection/competitive-data-science-predict-future-sales/\"\n\nelse:\n    DATA_PATH = \"/work/Data_Sets/competitive-data-science-predict-future-sales/\"\n\nDATA_PATH",
   "execution_count": null,
   "outputs": [
    {
     "output_type": "execute_result",
     "execution_count": 2,
     "data": {
      "text/plain": "'/work/Data_Sets/competitive-data-science-predict-future-sales/'"
     },
     "metadata": {}
    }
   ]
  },
  {
   "cell_type": "markdown",
   "source": "**Creating Data Frame**",
   "metadata": {
    "tags": [],
    "cell_id": "00003-8fd17085-bad7-454a-bd67-acce73fbebec",
    "deepnote_cell_type": "markdown"
   }
  },
  {
   "cell_type": "code",
   "metadata": {
    "tags": [],
    "deepnote_to_be_reexecuted": false,
    "source_hash": "4cce1e49",
    "execution_start": 1620934935375,
    "execution_millis": 2400,
    "cell_id": "00004-73846ac5-9449-4479-b2e6-4799f2283abe",
    "deepnote_cell_type": "code"
   },
   "source": "df_item_categ=pd.read_csv(DATA_PATH+\"item_categories_eng.csv\")\ndf_items=pd.read_csv(DATA_PATH+\"items_eng.csv\")\ndf=pd.read_csv(DATA_PATH+\"sales_train.csv\")\ndf_sample=pd.read_csv(DATA_PATH+\"sample_submission.csv\")\ndf_shops=pd.read_csv(DATA_PATH+\"shops_eng.csv\")\ndf_test=pd.read_csv(DATA_PATH+\"test.csv\")",
   "execution_count": null,
   "outputs": []
  },
  {
   "cell_type": "code",
   "metadata": {
    "tags": [],
    "deepnote_to_be_reexecuted": false,
    "source_hash": "c085b6ba",
    "execution_start": 1620934937806,
    "execution_millis": 133,
    "cell_id": "00005-e33ba2a4-7e24-43d9-be5c-63b8d525f264",
    "deepnote_cell_type": "code"
   },
   "source": "df.head()",
   "execution_count": null,
   "outputs": [
    {
     "output_type": "execute_result",
     "execution_count": 4,
     "data": {
      "application/vnd.deepnote.dataframe.v2+json": {
       "row_count": 5,
       "column_count": 6,
       "columns": [
        {
         "name": "date",
         "dtype": "object",
         "stats": {
          "unique_count": 5,
          "nan_count": 0,
          "categories": [
           {
            "name": "02.01.2013",
            "count": 1
           },
           {
            "name": "03.01.2013",
            "count": 1
           },
           {
            "name": "3 others",
            "count": 3
           }
          ]
         }
        },
        {
         "name": "date_block_num",
         "dtype": "int64",
         "stats": {
          "unique_count": 1,
          "nan_count": 0,
          "min": "0",
          "max": "0",
          "histogram": [
           {
            "bin_start": -0.5,
            "bin_end": -0.4,
            "count": 0
           },
           {
            "bin_start": -0.4,
            "bin_end": -0.3,
            "count": 0
           },
           {
            "bin_start": -0.3,
            "bin_end": -0.19999999999999996,
            "count": 0
           },
           {
            "bin_start": -0.19999999999999996,
            "bin_end": -0.09999999999999998,
            "count": 0
           },
           {
            "bin_start": -0.09999999999999998,
            "bin_end": 0,
            "count": 0
           },
           {
            "bin_start": 0,
            "bin_end": 0.10000000000000009,
            "count": 5
           },
           {
            "bin_start": 0.10000000000000009,
            "bin_end": 0.20000000000000007,
            "count": 0
           },
           {
            "bin_start": 0.20000000000000007,
            "bin_end": 0.30000000000000004,
            "count": 0
           },
           {
            "bin_start": 0.30000000000000004,
            "bin_end": 0.4,
            "count": 0
           },
           {
            "bin_start": 0.4,
            "bin_end": 0.5,
            "count": 0
           }
          ]
         }
        },
        {
         "name": "shop_id",
         "dtype": "int64",
         "stats": {
          "unique_count": 2,
          "nan_count": 0,
          "min": "25",
          "max": "59",
          "histogram": [
           {
            "bin_start": 25,
            "bin_end": 28.4,
            "count": 4
           },
           {
            "bin_start": 28.4,
            "bin_end": 31.8,
            "count": 0
           },
           {
            "bin_start": 31.8,
            "bin_end": 35.2,
            "count": 0
           },
           {
            "bin_start": 35.2,
            "bin_end": 38.6,
            "count": 0
           },
           {
            "bin_start": 38.6,
            "bin_end": 42,
            "count": 0
           },
           {
            "bin_start": 42,
            "bin_end": 45.4,
            "count": 0
           },
           {
            "bin_start": 45.4,
            "bin_end": 48.8,
            "count": 0
           },
           {
            "bin_start": 48.8,
            "bin_end": 52.2,
            "count": 0
           },
           {
            "bin_start": 52.2,
            "bin_end": 55.599999999999994,
            "count": 0
           },
           {
            "bin_start": 55.599999999999994,
            "bin_end": 59,
            "count": 1
           }
          ]
         }
        },
        {
         "name": "item_id",
         "dtype": "int64",
         "stats": {
          "unique_count": 4,
          "nan_count": 0,
          "min": "2552",
          "max": "22154",
          "histogram": [
           {
            "bin_start": 2552,
            "bin_end": 4512.2,
            "count": 4
           },
           {
            "bin_start": 4512.2,
            "bin_end": 6472.4,
            "count": 0
           },
           {
            "bin_start": 6472.4,
            "bin_end": 8432.6,
            "count": 0
           },
           {
            "bin_start": 8432.6,
            "bin_end": 10392.8,
            "count": 0
           },
           {
            "bin_start": 10392.8,
            "bin_end": 12353,
            "count": 0
           },
           {
            "bin_start": 12353,
            "bin_end": 14313.2,
            "count": 0
           },
           {
            "bin_start": 14313.2,
            "bin_end": 16273.4,
            "count": 0
           },
           {
            "bin_start": 16273.4,
            "bin_end": 18233.6,
            "count": 0
           },
           {
            "bin_start": 18233.6,
            "bin_end": 20193.8,
            "count": 0
           },
           {
            "bin_start": 20193.8,
            "bin_end": 22154,
            "count": 1
           }
          ]
         }
        },
        {
         "name": "item_price",
         "dtype": "float64",
         "stats": {
          "unique_count": 4,
          "nan_count": 0,
          "min": "899.0",
          "max": "1709.05",
          "histogram": [
           {
            "bin_start": 899,
            "bin_end": 980.005,
            "count": 2
           },
           {
            "bin_start": 980.005,
            "bin_end": 1061.01,
            "count": 1
           },
           {
            "bin_start": 1061.01,
            "bin_end": 1142.0149999999999,
            "count": 1
           },
           {
            "bin_start": 1142.0149999999999,
            "bin_end": 1223.02,
            "count": 0
           },
           {
            "bin_start": 1223.02,
            "bin_end": 1304.025,
            "count": 0
           },
           {
            "bin_start": 1304.025,
            "bin_end": 1385.03,
            "count": 0
           },
           {
            "bin_start": 1385.03,
            "bin_end": 1466.0349999999999,
            "count": 0
           },
           {
            "bin_start": 1466.0349999999999,
            "bin_end": 1547.04,
            "count": 0
           },
           {
            "bin_start": 1547.04,
            "bin_end": 1628.045,
            "count": 0
           },
           {
            "bin_start": 1628.045,
            "bin_end": 1709.05,
            "count": 1
           }
          ]
         }
        },
        {
         "name": "item_cnt_day",
         "dtype": "float64",
         "stats": {
          "unique_count": 2,
          "nan_count": 0,
          "min": "-1.0",
          "max": "1.0",
          "histogram": [
           {
            "bin_start": -1,
            "bin_end": -0.8,
            "count": 1
           },
           {
            "bin_start": -0.8,
            "bin_end": -0.6,
            "count": 0
           },
           {
            "bin_start": -0.6,
            "bin_end": -0.3999999999999999,
            "count": 0
           },
           {
            "bin_start": -0.3999999999999999,
            "bin_end": -0.19999999999999996,
            "count": 0
           },
           {
            "bin_start": -0.19999999999999996,
            "bin_end": 0,
            "count": 0
           },
           {
            "bin_start": 0,
            "bin_end": 0.20000000000000018,
            "count": 0
           },
           {
            "bin_start": 0.20000000000000018,
            "bin_end": 0.40000000000000013,
            "count": 0
           },
           {
            "bin_start": 0.40000000000000013,
            "bin_end": 0.6000000000000001,
            "count": 0
           },
           {
            "bin_start": 0.6000000000000001,
            "bin_end": 0.8,
            "count": 0
           },
           {
            "bin_start": 0.8,
            "bin_end": 1,
            "count": 4
           }
          ]
         }
        },
        {
         "name": "_deepnote_index_column",
         "dtype": "int64"
        }
       ],
       "rows_top": [
        {
         "date": "02.01.2013",
         "date_block_num": 0,
         "shop_id": 59,
         "item_id": 22154,
         "item_price": 999,
         "item_cnt_day": 1,
         "_deepnote_index_column": 0
        },
        {
         "date": "03.01.2013",
         "date_block_num": 0,
         "shop_id": 25,
         "item_id": 2552,
         "item_price": 899,
         "item_cnt_day": 1,
         "_deepnote_index_column": 1
        },
        {
         "date": "05.01.2013",
         "date_block_num": 0,
         "shop_id": 25,
         "item_id": 2552,
         "item_price": 899,
         "item_cnt_day": -1,
         "_deepnote_index_column": 2
        },
        {
         "date": "06.01.2013",
         "date_block_num": 0,
         "shop_id": 25,
         "item_id": 2554,
         "item_price": 1709.05,
         "item_cnt_day": 1,
         "_deepnote_index_column": 3
        },
        {
         "date": "15.01.2013",
         "date_block_num": 0,
         "shop_id": 25,
         "item_id": 2555,
         "item_price": 1099,
         "item_cnt_day": 1,
         "_deepnote_index_column": 4
        }
       ],
       "rows_bottom": null
      },
      "text/plain": "         date  date_block_num  shop_id  item_id  item_price  item_cnt_day\n0  02.01.2013               0       59    22154      999.00           1.0\n1  03.01.2013               0       25     2552      899.00           1.0\n2  05.01.2013               0       25     2552      899.00          -1.0\n3  06.01.2013               0       25     2554     1709.05           1.0\n4  15.01.2013               0       25     2555     1099.00           1.0",
      "text/html": "<div>\n<style scoped>\n    .dataframe tbody tr th:only-of-type {\n        vertical-align: middle;\n    }\n\n    .dataframe tbody tr th {\n        vertical-align: top;\n    }\n\n    .dataframe thead th {\n        text-align: right;\n    }\n</style>\n<table border=\"1\" class=\"dataframe\">\n  <thead>\n    <tr style=\"text-align: right;\">\n      <th></th>\n      <th>date</th>\n      <th>date_block_num</th>\n      <th>shop_id</th>\n      <th>item_id</th>\n      <th>item_price</th>\n      <th>item_cnt_day</th>\n    </tr>\n  </thead>\n  <tbody>\n    <tr>\n      <th>0</th>\n      <td>02.01.2013</td>\n      <td>0</td>\n      <td>59</td>\n      <td>22154</td>\n      <td>999.00</td>\n      <td>1.0</td>\n    </tr>\n    <tr>\n      <th>1</th>\n      <td>03.01.2013</td>\n      <td>0</td>\n      <td>25</td>\n      <td>2552</td>\n      <td>899.00</td>\n      <td>1.0</td>\n    </tr>\n    <tr>\n      <th>2</th>\n      <td>05.01.2013</td>\n      <td>0</td>\n      <td>25</td>\n      <td>2552</td>\n      <td>899.00</td>\n      <td>-1.0</td>\n    </tr>\n    <tr>\n      <th>3</th>\n      <td>06.01.2013</td>\n      <td>0</td>\n      <td>25</td>\n      <td>2554</td>\n      <td>1709.05</td>\n      <td>1.0</td>\n    </tr>\n    <tr>\n      <th>4</th>\n      <td>15.01.2013</td>\n      <td>0</td>\n      <td>25</td>\n      <td>2555</td>\n      <td>1099.00</td>\n      <td>1.0</td>\n    </tr>\n  </tbody>\n</table>\n</div>"
     },
     "metadata": {}
    }
   ]
  },
  {
   "cell_type": "markdown",
   "source": "Turning date column to **date type**",
   "metadata": {
    "tags": [],
    "cell_id": "00006-f3263733-a692-4e97-b08b-778f0d1c3964",
    "deepnote_cell_type": "markdown"
   }
  },
  {
   "cell_type": "code",
   "metadata": {
    "tags": [],
    "deepnote_to_be_reexecuted": false,
    "source_hash": "caa69966",
    "execution_start": 1620934937901,
    "execution_millis": 34705,
    "cell_id": "00007-c7ca48a9-ee4b-44ae-bf10-69f343378a27",
    "deepnote_cell_type": "code"
   },
   "source": "from datetime import datetime\n\ndf[\"date\"]=df['date'].apply(lambda x:datetime.strptime(x, '%d.%m.%Y'))\n",
   "execution_count": null,
   "outputs": []
  },
  {
   "cell_type": "markdown",
   "source": "### Deleting Outliers",
   "metadata": {
    "tags": [],
    "cell_id": "00008-8d5b3ee5-5396-45aa-9d4d-583559ae3708",
    "deepnote_cell_type": "markdown"
   }
  },
  {
   "cell_type": "markdown",
   "source": "**Item Count Day**",
   "metadata": {
    "tags": [],
    "cell_id": "00009-63e878ba-b8b9-401b-b22e-122508693473",
    "deepnote_cell_type": "markdown"
   }
  },
  {
   "cell_type": "code",
   "metadata": {
    "tags": [],
    "deepnote_to_be_reexecuted": false,
    "source_hash": "8c86500",
    "execution_start": 1620934972606,
    "execution_millis": 149,
    "cell_id": "00010-94d12f2d-8f0a-4936-9b51-7cc246e27a77",
    "deepnote_cell_type": "code"
   },
   "source": "df=df.drop(df.loc[df.item_cnt_day>800].index.tolist())",
   "execution_count": null,
   "outputs": []
  },
  {
   "cell_type": "code",
   "metadata": {
    "tags": [],
    "deepnote_to_be_reexecuted": false,
    "source_hash": "abbebe74",
    "execution_start": 1620934972763,
    "execution_millis": 720,
    "cell_id": "00011-a8d37366-74f0-4a99-adbc-13adda065687",
    "deepnote_cell_type": "code"
   },
   "source": "plt.figure(figsize=(16,1))\nsb.boxplot(x=df.item_cnt_day)",
   "execution_count": null,
   "outputs": [
    {
     "output_type": "execute_result",
     "execution_count": 7,
     "data": {
      "text/plain": "<AxesSubplot:xlabel='item_cnt_day'>"
     },
     "metadata": {}
    },
    {
     "data": {
      "text/plain": "<Figure size 1152x72 with 1 Axes>",
      "image/png": "[encoded data removed]"
     },
     "metadata": {
      "needs_background": "light",
      "image/png": {
       "width": 915,
       "height": 100
      }
     },
     "output_type": "display_data"
    }
   ]
  },
  {
   "cell_type": "markdown",
   "source": "**Item Price**",
   "metadata": {
    "tags": [],
    "cell_id": "00012-db76c0f2-36ec-4b03-b3e9-983193d131ee",
    "deepnote_cell_type": "markdown"
   }
  },
  {
   "cell_type": "code",
   "metadata": {
    "tags": [],
    "deepnote_to_be_reexecuted": false,
    "source_hash": "afa695cd",
    "execution_start": 1620934973483,
    "execution_millis": 242,
    "cell_id": "00013-b42dab6e-8422-41a8-a430-939c79d4d68b",
    "deepnote_cell_type": "code"
   },
   "source": "df=df.drop(df.loc[df.item_price>10000].index.tolist())",
   "execution_count": null,
   "outputs": []
  },
  {
   "cell_type": "code",
   "metadata": {
    "tags": [],
    "deepnote_to_be_reexecuted": false,
    "source_hash": "232699e5",
    "execution_start": 1620934973733,
    "execution_millis": 592,
    "cell_id": "00014-3df81f61-6ad7-4b3f-a7a6-da0b35554220",
    "deepnote_cell_type": "code"
   },
   "source": "plt.figure(figsize=(16,1))\nsb.boxplot(x=df.item_price)",
   "execution_count": null,
   "outputs": [
    {
     "output_type": "execute_result",
     "execution_count": 9,
     "data": {
      "text/plain": "<AxesSubplot:xlabel='item_price'>"
     },
     "metadata": {}
    },
    {
     "data": {
      "text/plain": "<Figure size 1152x72 with 1 Axes>",
      "image/png": "[encoded data removed]"
     },
     "metadata": {
      "needs_background": "light",
      "image/png": {
       "width": 910,
       "height": 100
      }
     },
     "output_type": "display_data"
    }
   ]
  },
  {
   "cell_type": "markdown",
   "source": "#### Creating new data frame for only 2013,2014,2015",
   "metadata": {
    "tags": [],
    "cell_id": "00015-cca9b1b2-3f30-4c39-877f-19134bf74d2e",
    "deepnote_cell_type": "markdown"
   }
  },
  {
   "cell_type": "code",
   "metadata": {
    "tags": [],
    "deepnote_to_be_reexecuted": false,
    "source_hash": "540e2377",
    "execution_start": 1620934974328,
    "execution_millis": 164,
    "cell_id": "00016-bdda4284-87b6-4420-b3dc-9699a93627c1",
    "deepnote_cell_type": "code"
   },
   "source": "df_2013=df[(df.date<\"01-01-2014\") & (\"31-12-2012\"<df.date)]\ndf_2014=df[(df.date<\"01-01-2015\") & (\"31-12-2013\"<df.date)]\ndf_2015=df[(df.date<\"01-01-2016\") & (\"31-12-2014\"<df.date)]",
   "execution_count": null,
   "outputs": []
  },
  {
   "cell_type": "markdown",
   "source": "** Grouping monthly sales **",
   "metadata": {
    "tags": [],
    "cell_id": "00017-9034084d-b493-4f6e-b6a1-5b0bf354bdb1",
    "deepnote_cell_type": "markdown"
   }
  },
  {
   "cell_type": "code",
   "metadata": {
    "tags": [],
    "deepnote_to_be_reexecuted": false,
    "source_hash": "61754554",
    "execution_start": 1620934974505,
    "execution_millis": 249,
    "cell_id": "00018-e58611eb-f10a-4a1b-977c-b6a2beaa0426",
    "deepnote_cell_type": "code"
   },
   "source": "df_2013['total_income_13']=df_2013.item_price*df_2013.item_cnt_day\ndf13_total=df_2013.groupby(['date_block_num']).sum()\n\ndf_2014['total_income_14']=df_2014.item_price*df_2014.item_cnt_day\ndf14_total=df_2014.groupby(['date_block_num']).sum()\n\ndf_2015['total_income_15']=df_2015.item_price*df_2015.item_cnt_day\ndf15_total=df_2015.groupby(['date_block_num']).sum()",
   "execution_count": null,
   "outputs": [
    {
     "name": "stderr",
     "text": "/shared-libs/python3.7/py-core/lib/python3.7/site-packages/ipykernel_launcher.py:1: SettingWithCopyWarning: \nA value is trying to be set on a copy of a slice from a DataFrame.\nTry using .loc[row_indexer,col_indexer] = value instead\n\nSee the caveats in the documentation: https://pandas.pydata.org/pandas-docs/stable/user_guide/indexing.html#returning-a-view-versus-a-copy\n  \"\"\"Entry point for launching an IPython kernel.\n/shared-libs/python3.7/py-core/lib/python3.7/site-packages/ipykernel_launcher.py:4: SettingWithCopyWarning: \nA value is trying to be set on a copy of a slice from a DataFrame.\nTry using .loc[row_indexer,col_indexer] = value instead\n\nSee the caveats in the documentation: https://pandas.pydata.org/pandas-docs/stable/user_guide/indexing.html#returning-a-view-versus-a-copy\n  after removing the cwd from sys.path.\n/shared-libs/python3.7/py-core/lib/python3.7/site-packages/ipykernel_launcher.py:7: SettingWithCopyWarning: \nA value is trying to be set on a copy of a slice from a DataFrame.\nTry using .loc[row_indexer,col_indexer] = value instead\n\nSee the caveats in the documentation: https://pandas.pydata.org/pandas-docs/stable/user_guide/indexing.html#returning-a-view-versus-a-copy\n  import sys\n",
     "output_type": "stream"
    }
   ]
  },
  {
   "cell_type": "markdown",
   "source": "** Plot by total income for 2013 and 2014**",
   "metadata": {
    "tags": [],
    "cell_id": "00019-869d8122-8742-4a9b-95cf-b30876ded3f7",
    "deepnote_cell_type": "markdown"
   }
  },
  {
   "cell_type": "code",
   "metadata": {
    "tags": [],
    "deepnote_to_be_reexecuted": false,
    "source_hash": "42a89598",
    "execution_start": 1620934974763,
    "execution_millis": 318,
    "cell_id": "00020-754234dc-6634-40e2-9132-914231ef46d4",
    "deepnote_cell_type": "code"
   },
   "source": "plt.subplots(figsize=(15,8))\n\nplt.plot([],[],color='m', label='Total Income 2013', linewidth=5)\nplt.plot([],[],color='c', label='Total Income 2014', linewidth=5)\n\nplt.stackplot(df13_total.index, df13_total.total_income_13, df14_total.total_income_14,colors=['m','c'])\n\nplt.xlabel('Month Number')\nplt.ylabel('Total Income')\nplt.title('Total Income 2013 - 2014')\nplt.legend(loc='upper left')\nplt.show()",
   "execution_count": null,
   "outputs": [
    {
     "data": {
      "text/plain": "<Figure size 1080x576 with 1 Axes>",
      "image/png": "[encoded data removed]"
     },
     "metadata": {
      "needs_background": "light",
      "image/png": {
       "width": 888,
       "height": 496
      }
     },
     "output_type": "display_data"
    }
   ]
  },
  {
   "cell_type": "markdown",
   "source": "** Total Income Plotting Until October in 2013,2014 and 2015 **",
   "metadata": {
    "tags": [],
    "cell_id": "00021-c34a1f88-727a-40de-a677-2b42531e45fa",
    "deepnote_cell_type": "markdown"
   }
  },
  {
   "cell_type": "code",
   "metadata": {
    "tags": [],
    "deepnote_to_be_reexecuted": false,
    "source_hash": "d34b3e38",
    "execution_start": 1620934975077,
    "execution_millis": 329,
    "cell_id": "00022-c73c7e21-0d92-4428-858c-62c9473595f7",
    "deepnote_cell_type": "code"
   },
   "source": "plt.subplots(figsize=(15,8))\n\nplt.plot([],[],color='k', label='Total Income 2013', linewidth=5)\nplt.plot([],[],color='g', label='Total Income 2014', linewidth=5)\nplt.plot([],[],color='r', label='Total Income 2015', linewidth=5)\n\nplt.stackplot(df13_total.index[:10], df13_total.loc[:9].total_income_13, \n    df14_total.loc[:21].total_income_14,df15_total.total_income_15,colors=['k','g',\"r\"])\n\nplt.xlabel('Month Number')\nplt.ylabel('Total Income')\nplt.title('Total Income 2013 - 2014')\nplt.legend(loc='upper left')\nplt.show()",
   "execution_count": null,
   "outputs": [
    {
     "data": {
      "text/plain": "<Figure size 1080x576 with 1 Axes>",
      "image/png": "[encoded data removed]"
     },
     "metadata": {
      "needs_background": "light",
      "image/png": {
       "width": 888,
       "height": 496
      }
     },
     "output_type": "display_data"
    }
   ]
  },
  {
   "cell_type": "markdown",
   "source": "#### Interesting with shop id",
   "metadata": {
    "tags": [],
    "cell_id": "00023-1fe9c03b-ae38-410c-9995-abd63a72b04c",
    "deepnote_cell_type": "markdown"
   }
  },
  {
   "cell_type": "markdown",
   "source": "Finding different shops between years 2013, 2014 and 2015",
   "metadata": {
    "tags": [],
    "cell_id": "00024-c7b7b76d-667c-4e2c-8096-3eac7eb47e07",
    "deepnote_cell_type": "markdown"
   }
  },
  {
   "cell_type": "code",
   "metadata": {
    "tags": [],
    "deepnote_to_be_reexecuted": false,
    "source_hash": "73f94be6",
    "execution_start": 1620934975391,
    "execution_millis": 53,
    "cell_id": "00025-a5082493-3db0-4ea0-bea6-e39569a3d19f",
    "deepnote_cell_type": "code"
   },
   "source": "set_difference_13_14 = set(df_2013.shop_id.unique()) - set(df_2014.shop_id.unique())\ndifference_13_14 = list(set_difference_13_14)\n\nset_difference_13_15 = set(df_2013.shop_id.unique()) - set(df_2015.shop_id.unique())\ndifference_13_15 = list(set_difference_13_15)\n\ndifference_13_14.extend(difference_13_15)\ndifference_13=difference_13_14\ndifference_13",
   "execution_count": null,
   "outputs": [
    {
     "output_type": "execute_result",
     "execution_count": 14,
     "data": {
      "text/plain": "[0, 1, 32, 8, 23, 0, 1, 32, 8, 13, 23]"
     },
     "metadata": {}
    }
   ]
  },
  {
   "cell_type": "code",
   "metadata": {
    "tags": [],
    "deepnote_to_be_reexecuted": false,
    "source_hash": "a23359da",
    "execution_start": 1620934975434,
    "execution_millis": 51,
    "cell_id": "00026-cd73914f-f7ce-4345-bcce-d844b97a65a3",
    "deepnote_cell_type": "code"
   },
   "source": "set_difference_14_15 = set(df_2014.shop_id.unique()) - set(df_2015.shop_id.unique())\ndifference_14_15 = list(set_difference_14_15)\n\nset_difference_14_13 = set(df_2014.shop_id.unique()) - set(df_2013.shop_id.unique())\ndifference_14_13 = list(set_difference_14_13)\n\ndifference_14_13.extend(difference_14_15)\ndifference_14=difference_14_13\ndifference_14",
   "execution_count": null,
   "outputs": [
    {
     "output_type": "execute_result",
     "execution_count": 15,
     "data": {
      "text/plain": "[33, 34, 39, 40, 48, 20, 13]"
     },
     "metadata": {}
    }
   ]
  },
  {
   "cell_type": "code",
   "metadata": {
    "tags": [],
    "deepnote_to_be_reexecuted": false,
    "source_hash": "b0bef448",
    "execution_start": 1620934975475,
    "execution_millis": 127,
    "cell_id": "00027-c87146dc-bc98-4714-b3ee-7d5e8f98a561",
    "deepnote_cell_type": "code"
   },
   "source": "set_difference_15_13 = set(df_2015.shop_id.unique()) - set(df_2013.shop_id.unique())\ndifference_15_13 = list(set_difference_15_13)\n\nset_difference_15_14 = set(df_2015.shop_id.unique()) - set(df_2014.shop_id.unique())\ndifference_15_14 = list(set_difference_15_14)\n\ndifference_15_14.extend(difference_15_13)\ndifference_15=difference_15_14\ndifference_15",
   "execution_count": null,
   "outputs": [
    {
     "output_type": "execute_result",
     "execution_count": 16,
     "data": {
      "text/plain": "[11, 36, 33, 34, 36, 39, 40, 11, 48, 20]"
     },
     "metadata": {}
    }
   ]
  },
  {
   "cell_type": "code",
   "metadata": {
    "tags": [],
    "deepnote_to_be_reexecuted": false,
    "source_hash": "d7f08de4",
    "execution_start": 1620934975540,
    "execution_millis": 177,
    "cell_id": "00028-16e63d59-c26e-4904-931b-575a141aa54d",
    "deepnote_cell_type": "code"
   },
   "source": "# Dropping different shops from 2013 and 2014\ndf_2013_drop_shops=df_2013.groupby([\"shop_id\"]).sum().drop(difference_13, axis=0)\ndf_2014_drop_shops=df_2014.groupby([\"shop_id\"]).sum().drop(difference_14, axis=0)\ndf_2015_drop_shops=df_2015.groupby([\"shop_id\"]).sum().drop(difference_15, axis=0)",
   "execution_count": null,
   "outputs": []
  },
  {
   "cell_type": "markdown",
   "source": "** Plot Total Income Per Shop **",
   "metadata": {
    "tags": [],
    "cell_id": "00029-18e0aee4-7533-4b02-93b2-4cb7efee4d29",
    "deepnote_cell_type": "markdown"
   }
  },
  {
   "cell_type": "code",
   "metadata": {
    "tags": [],
    "deepnote_to_be_reexecuted": false,
    "source_hash": "2cce0022",
    "execution_start": 1620934975736,
    "execution_millis": 373,
    "cell_id": "00030-9ed0bea5-f4fe-4a39-aacb-33d22cf6b251",
    "deepnote_cell_type": "code"
   },
   "source": "plt.subplots(figsize=(15,8))\n\nplt.plot([],[],color='b', label='Total Income Per Shop 2013', linewidth=5)\nplt.plot([],[],color='y', label='Total Income Per Shop 2014', linewidth=5)\nplt.plot([],[],color='m', label='Total Income Per Shop 2015', linewidth=5)\n\nplt.stackplot(df_2013_drop_shops.index, df_2013_drop_shops.total_income_13, \n    df_2014_drop_shops.total_income_14,df_2015_drop_shops.total_income_15,colors=['b','y',\"m\"])\n\nplt.xlabel('Shops')\nplt.ylabel('Total Income Per Shop')\nplt.title('Total Income 2013 - 2014- 2015')\nplt.legend(loc='upper left')\nplt.show()",
   "execution_count": null,
   "outputs": [
    {
     "data": {
      "text/plain": "<Figure size 1080x576 with 1 Axes>",
      "image/png": "[encoded data removed]"
     },
     "metadata": {
      "needs_background": "light",
      "image/png": {
       "width": 894,
       "height": 496
      }
     },
     "output_type": "display_data"
    }
   ]
  },
  {
   "cell_type": "markdown",
   "source": "## Shop Data",
   "metadata": {
    "tags": [],
    "cell_id": "00034-3bcf224a-bbef-4a14-b7b0-b25fa07726db",
    "deepnote_cell_type": "markdown"
   }
  },
  {
   "cell_type": "markdown",
   "source": "### Cleaning Data",
   "metadata": {
    "tags": [],
    "cell_id": "00032-b2980ce5-058e-4890-9055-f3b91bdeef36",
    "deepnote_cell_type": "markdown"
   }
  },
  {
   "cell_type": "markdown",
   "source": "**Dropping duplicate shops**\n\n",
   "metadata": {
    "tags": [],
    "cell_id": "00033-676d4041-e06e-462e-bb5f-496b9dd756a9",
    "deepnote_cell_type": "markdown"
   }
  },
  {
   "cell_type": "code",
   "metadata": {
    "tags": [],
    "cell_id": "00032-ea5de1fb-0eb9-4f63-8412-01f908d7a768",
    "deepnote_to_be_reexecuted": false,
    "source_hash": "faa0db6",
    "execution_start": 1620934976111,
    "execution_millis": 0,
    "deepnote_cell_type": "code"
   },
   "source": "df_shops=df_shops.drop([10,39,0]).reset_index()",
   "execution_count": null,
   "outputs": []
  },
  {
   "cell_type": "markdown",
   "source": "** Identifying Cities **",
   "metadata": {
    "tags": [],
    "cell_id": "00037-ff7eeb84-e47f-41cb-b3e4-5ad80498cdb8",
    "deepnote_cell_type": "markdown"
   }
  },
  {
   "cell_type": "code",
   "metadata": {
    "tags": [],
    "cell_id": "00038-9ab937e6-42f4-49bd-b365-0f2c7fc12949",
    "deepnote_to_be_reexecuted": false,
    "source_hash": "169b0ce5",
    "execution_start": 1620934976130,
    "execution_millis": 11,
    "deepnote_cell_type": "code"
   },
   "source": "#Cleaning shop name\ndf_shops['shop_names_cleaned'] = [df_shops['shop_name'][i].replace('!', '').replace('?', '')\n    .replace('²', '').replace('\" ', ' ').replace(' \"', ' ').replace('\"', '')\n    .replace('-', ' ').strip() for i in range(df_shops.shape[0])]\n\n\ncities= lambda x: x.split(\" \")[0]\ndf_shops[\"city\"]=df_shops.shop_names_cleaned.map(cities)\nfor i in range(len(df_shops[\"city\"])):\n    if df_shops[\"city\"][i]==\"St.\":\n        df_shops[\"city\"][i]=\"Saint Petersburg\"\n    if df_shops[\"city\"][i]==\"Adygeya\":\n        df_shops[\"city\"][i]=\"Tul’skiy\"\n\n\ndf_shops=df_shops.replace([\"St.\",\"Adygea\",\"N.Novgorod\",'RostovNaDon','RostovNaDonu','Sergiev','Volga','Zhukovsky'],\n    [\"Saint Petersburg\",\"Tul’skiy\",\"Nizhniy Novgorod\",\"Rostov\",\"Rostov\",\"Sergiyev Posad\",\"Tver\",\"Moscow\"])\n",
   "execution_count": null,
   "outputs": [
    {
     "name": "stderr",
     "text": "/shared-libs/python3.7/py-core/lib/python3.7/site-packages/ipykernel_launcher.py:11: SettingWithCopyWarning: \nA value is trying to be set on a copy of a slice from a DataFrame\n\nSee the caveats in the documentation: https://pandas.pydata.org/pandas-docs/stable/user_guide/indexing.html#returning-a-view-versus-a-copy\n  # This is added back by InteractiveShellApp.init_path()\n",
     "output_type": "stream"
    }
   ]
  },
  {
   "cell_type": "markdown",
   "source": "** Identifying Shops **",
   "metadata": {
    "tags": [],
    "cell_id": "00040-36b376fe-04ac-4257-a72b-08eaa6dc6f8c",
    "deepnote_cell_type": "markdown"
   }
  },
  {
   "cell_type": "code",
   "metadata": {
    "tags": [],
    "cell_id": "00040-ccd99053-8be4-459a-b345-12b5664da69f",
    "deepnote_to_be_reexecuted": false,
    "source_hash": "8cf67530",
    "execution_start": 1620934976186,
    "execution_millis": 150,
    "deepnote_cell_type": "code"
   },
   "source": "df_shops['shop_type'] = 'regular' # By default all shops are regular shops\n\n#there is some overlap in tc and mall, mall is given precedence\ndf_shops.loc[ df_shops['shop_name'].str.contains(r'tc'), 'shop_type' ]               = 'tc'\ndf_shops.loc[ df_shops['shop_name'].str.contains(r'mall|center|mega'), 'shop_type' ] = 'mall'\ndf_shops.loc[ df_shops.shop_id.isin([9,20]), 'shop_type' ]                             = 'special'\ndf_shops.loc[ df_shops.shop_id.isin([12,55]), 'shop_type' ]                            = 'online'\n\ndf_shops['shop_type'].value_counts().plot.pie();",
   "execution_count": null,
   "outputs": [
    {
     "data": {
      "text/plain": "<Figure size 432x288 with 1 Axes>",
      "image/png": "[encoded data removed]"
     },
     "metadata": {
      "image/png": {
       "width": 263,
       "height": 231
      }
     },
     "output_type": "display_data"
    }
   ]
  },
  {
   "cell_type": "markdown",
   "source": "latitude_list, longitude_list=[],[]\n\nfor i in df_shops.cleaned:\n\n    geolocator = Nominatim(user_agent=\"foursquare_agent\")\n    \n    #geolocator = Nominatim(user_agent=\"my_user_agent\")\n    location = geolocator.geocode(i)\n    try:\n        latitude = location.latitude\n        latitude_list.append(latitude)\n    except:\n        latitude_list.append(np.nan)\n\n    try:    \n        longitude = location.longitude\n        longitude_list.append(longitude)\n    except:\n        longitude_list.append(np.nan)\n\ndf_shops[\"latitude\"]=latitude_list\ndf_shops[\"longitude\"]=longitude_list\n\n",
   "metadata": {
    "tags": [],
    "cell_id": "00040-ccab5e2a-6fb7-4cde-bfbe-452bf651dba1",
    "deepnote_cell_type": "markdown"
   }
  },
  {
   "cell_type": "markdown",
   "source": "### Russia Population Dataset",
   "metadata": {
    "tags": [],
    "cell_id": "00040-f29656d3-539f-418f-9090-a0c4ed36d4d2",
    "deepnote_cell_type": "markdown"
   }
  },
  {
   "cell_type": "code",
   "metadata": {
    "tags": [],
    "cell_id": "00042-3a3f0308-532c-4bf2-8298-1e1f3fb638cf",
    "deepnote_to_be_reexecuted": false,
    "source_hash": "9187b905",
    "execution_start": 1620934976338,
    "execution_millis": 8,
    "deepnote_cell_type": "code"
   },
   "source": "df_pop=pd.read_csv(\"/work/Data_Sets/competitive-data-science-predict-future-sales/ru_population.csv\")\n",
   "execution_count": null,
   "outputs": []
  },
  {
   "cell_type": "code",
   "metadata": {
    "tags": [],
    "cell_id": "00045-ea6f88e0-45f9-4bfe-81e4-bd7c9217186c",
    "deepnote_to_be_reexecuted": false,
    "source_hash": "2fafd164",
    "execution_start": 1620934976399,
    "execution_millis": 9,
    "deepnote_cell_type": "code"
   },
   "source": "city_difference= set(df_shops.city.unique())-set(df_pop.city.unique())\ncity_difference",
   "execution_count": null,
   "outputs": [
    {
     "output_type": "execute_result",
     "execution_count": 23,
     "data": {
      "text/plain": "{'Digital', 'Internet', 'Outbound'}"
     },
     "metadata": {}
    }
   ]
  },
  {
   "cell_type": "markdown",
   "source": "### Creating New Merged Dataframe",
   "metadata": {
    "tags": [],
    "cell_id": "00041-88f26bed-5381-46dc-96eb-6208b14525bc",
    "deepnote_cell_type": "markdown"
   }
  },
  {
   "cell_type": "code",
   "metadata": {
    "tags": [],
    "cell_id": "00046-d0fa416b-a2ad-4aa6-93d2-6d06e4a400ee",
    "deepnote_to_be_reexecuted": false,
    "source_hash": "15827f7",
    "execution_start": 1620934976400,
    "execution_millis": 1,
    "deepnote_cell_type": "code"
   },
   "source": "df_new_shop=pd.merge(df_pop, df_shops, on=['city'])\ndf_new_shop=df_new_shop.drop([\"country\",\"iso2\",\"admin_name\",\"index\",\"shop_name\",\"shop_name\"],axis=1).drop_duplicates(subset=['shop_names_cleaned']).reset_index()\ndf_new_shop=df_new_shop.drop([\"shop_names_cleaned\",\"lat\",\"lng\",\"index\"],axis=1)",
   "execution_count": null,
   "outputs": []
  },
  {
   "cell_type": "code",
   "metadata": {
    "tags": [],
    "cell_id": "00048-ee9684de-0756-4854-9cbb-aca550abb9f1",
    "deepnote_to_be_reexecuted": false,
    "source_hash": "fd06abb7",
    "execution_start": 1620934976442,
    "execution_millis": 0,
    "deepnote_cell_type": "code"
   },
   "source": "online_shop_1 = {'city':\"no_city\",\"capital\":\"no_capital\",\"population\":0,\n    \"population_proper\":0,\"shop_id\":55,\"shop_type\":\"online\"}\n\nonline_shop_2 = {'city':\"no_city\",\"capital\":\"no_capital\",\"population\":0,\n    \"population_proper\":0,\"shop_id\":12,\"shop_type\":\"online\"}\n\n\nonline_shop_3 = {'city':\"no_city\",\"capital\":\"no_capital\",\"population\":0,\n    \"population_proper\":0,\"shop_id\":9,\"shop_type\":\"online\"}\n\n\n\n#append row to the dataframe\ndf_new_shop = df_new_shop.append(online_shop_1, ignore_index=True)\ndf_new_shop = df_new_shop.append(online_shop_2, ignore_index=True)\ndf_new_shop = df_new_shop.append(online_shop_3, ignore_index=True)\n",
   "execution_count": null,
   "outputs": []
  },
  {
   "cell_type": "markdown",
   "source": "** Handling null values**",
   "metadata": {
    "tags": [],
    "cell_id": "00044-fdfd2867-1fb0-49ee-ae22-d3993cb98285",
    "deepnote_cell_type": "markdown"
   }
  },
  {
   "cell_type": "code",
   "metadata": {
    "tags": [],
    "cell_id": "00045-e0ef3b06-652d-4094-9cb6-92a858a77cc9",
    "deepnote_to_be_reexecuted": false,
    "source_hash": "db4f9da8",
    "execution_start": 1620934976458,
    "execution_millis": 20,
    "deepnote_cell_type": "code"
   },
   "source": "df_new_shop.capital.fillna(\"minor\", inplace = True)\ndf_new_shop.population.fillna(1553925,inplace = True)\ndf_new_shop.population_proper.fillna(1491855,inplace = True)\ndf_new_shop.head()",
   "execution_count": null,
   "outputs": [
    {
     "output_type": "execute_result",
     "execution_count": 26,
     "data": {
      "application/vnd.deepnote.dataframe.v2+json": {
       "row_count": 5,
       "column_count": 6,
       "columns": [
        {
         "name": "city",
         "dtype": "object",
         "stats": {
          "unique_count": 1,
          "nan_count": 0,
          "categories": [
           {
            "name": "Moscow",
            "count": 5
           }
          ]
         }
        },
        {
         "name": "capital",
         "dtype": "object",
         "stats": {
          "unique_count": 1,
          "nan_count": 0,
          "categories": [
           {
            "name": "primary",
            "count": 5
           }
          ]
         }
        },
        {
         "name": "population",
         "dtype": "float64",
         "stats": {
          "unique_count": 1,
          "nan_count": 0,
          "min": "17125000.0",
          "max": "17125000.0",
          "histogram": [
           {
            "bin_start": 17124999.5,
            "bin_end": 17124999.6,
            "count": 0
           },
           {
            "bin_start": 17124999.6,
            "bin_end": 17124999.7,
            "count": 0
           },
           {
            "bin_start": 17124999.7,
            "bin_end": 17124999.8,
            "count": 0
           },
           {
            "bin_start": 17124999.8,
            "bin_end": 17124999.9,
            "count": 0
           },
           {
            "bin_start": 17124999.9,
            "bin_end": 17125000,
            "count": 0
           },
           {
            "bin_start": 17125000,
            "bin_end": 17125000.1,
            "count": 5
           },
           {
            "bin_start": 17125000.1,
            "bin_end": 17125000.2,
            "count": 0
           },
           {
            "bin_start": 17125000.2,
            "bin_end": 17125000.3,
            "count": 0
           },
           {
            "bin_start": 17125000.3,
            "bin_end": 17125000.4,
            "count": 0
           },
           {
            "bin_start": 17125000.4,
            "bin_end": 17125000.5,
            "count": 0
           }
          ]
         }
        },
        {
         "name": "population_proper",
         "dtype": "float64",
         "stats": {
          "unique_count": 1,
          "nan_count": 0,
          "min": "13200000.0",
          "max": "13200000.0",
          "histogram": [
           {
            "bin_start": 13199999.5,
            "bin_end": 13199999.6,
            "count": 0
           },
           {
            "bin_start": 13199999.6,
            "bin_end": 13199999.7,
            "count": 0
           },
           {
            "bin_start": 13199999.7,
            "bin_end": 13199999.8,
            "count": 0
           },
           {
            "bin_start": 13199999.8,
            "bin_end": 13199999.9,
            "count": 0
           },
           {
            "bin_start": 13199999.9,
            "bin_end": 13200000,
            "count": 0
           },
           {
            "bin_start": 13200000,
            "bin_end": 13200000.1,
            "count": 5
           },
           {
            "bin_start": 13200000.1,
            "bin_end": 13200000.2,
            "count": 0
           },
           {
            "bin_start": 13200000.2,
            "bin_end": 13200000.3,
            "count": 0
           },
           {
            "bin_start": 13200000.3,
            "bin_end": 13200000.4,
            "count": 0
           },
           {
            "bin_start": 13200000.4,
            "bin_end": 13200000.5,
            "count": 0
           }
          ]
         }
        },
        {
         "name": "shop_id",
         "dtype": "int64",
         "stats": {
          "unique_count": 5,
          "nan_count": 0,
          "min": "11",
          "max": "23",
          "histogram": [
           {
            "bin_start": 11,
            "bin_end": 12.2,
            "count": 1
           },
           {
            "bin_start": 12.2,
            "bin_end": 13.4,
            "count": 0
           },
           {
            "bin_start": 13.4,
            "bin_end": 14.6,
            "count": 0
           },
           {
            "bin_start": 14.6,
            "bin_end": 15.8,
            "count": 0
           },
           {
            "bin_start": 15.8,
            "bin_end": 17,
            "count": 0
           },
           {
            "bin_start": 17,
            "bin_end": 18.2,
            "count": 0
           },
           {
            "bin_start": 18.2,
            "bin_end": 19.4,
            "count": 0
           },
           {
            "bin_start": 19.4,
            "bin_end": 20.6,
            "count": 1
           },
           {
            "bin_start": 20.6,
            "bin_end": 21.799999999999997,
            "count": 1
           },
           {
            "bin_start": 21.799999999999997,
            "bin_end": 23,
            "count": 2
           }
          ]
         }
        },
        {
         "name": "shop_type",
         "dtype": "object",
         "stats": {
          "unique_count": 2,
          "nan_count": 0,
          "categories": [
           {
            "name": "regular",
            "count": 4
           },
           {
            "name": "special",
            "count": 1
           }
          ]
         }
        },
        {
         "name": "_deepnote_index_column",
         "dtype": "int64"
        }
       ],
       "rows_top": [
        {
         "city": "Moscow",
         "capital": "primary",
         "population": 17125000,
         "population_proper": 13200000,
         "shop_id": 11,
         "shop_type": "regular",
         "_deepnote_index_column": 0
        },
        {
         "city": "Moscow",
         "capital": "primary",
         "population": 17125000,
         "population_proper": 13200000,
         "shop_id": 20,
         "shop_type": "special",
         "_deepnote_index_column": 1
        },
        {
         "city": "Moscow",
         "capital": "primary",
         "population": 17125000,
         "population_proper": 13200000,
         "shop_id": 21,
         "shop_type": "regular",
         "_deepnote_index_column": 2
        },
        {
         "city": "Moscow",
         "capital": "primary",
         "population": 17125000,
         "population_proper": 13200000,
         "shop_id": 22,
         "shop_type": "regular",
         "_deepnote_index_column": 3
        },
        {
         "city": "Moscow",
         "capital": "primary",
         "population": 17125000,
         "population_proper": 13200000,
         "shop_id": 23,
         "shop_type": "regular",
         "_deepnote_index_column": 4
        }
       ],
       "rows_bottom": null
      },
      "text/plain": "     city  capital  population  population_proper  shop_id shop_type\n0  Moscow  primary  17125000.0         13200000.0       11   regular\n1  Moscow  primary  17125000.0         13200000.0       20   special\n2  Moscow  primary  17125000.0         13200000.0       21   regular\n3  Moscow  primary  17125000.0         13200000.0       22   regular\n4  Moscow  primary  17125000.0         13200000.0       23   regular",
      "text/html": "<div>\n<style scoped>\n    .dataframe tbody tr th:only-of-type {\n        vertical-align: middle;\n    }\n\n    .dataframe tbody tr th {\n        vertical-align: top;\n    }\n\n    .dataframe thead th {\n        text-align: right;\n    }\n</style>\n<table border=\"1\" class=\"dataframe\">\n  <thead>\n    <tr style=\"text-align: right;\">\n      <th></th>\n      <th>city</th>\n      <th>capital</th>\n      <th>population</th>\n      <th>population_proper</th>\n      <th>shop_id</th>\n      <th>shop_type</th>\n    </tr>\n  </thead>\n  <tbody>\n    <tr>\n      <th>0</th>\n      <td>Moscow</td>\n      <td>primary</td>\n      <td>17125000.0</td>\n      <td>13200000.0</td>\n      <td>11</td>\n      <td>regular</td>\n    </tr>\n    <tr>\n      <th>1</th>\n      <td>Moscow</td>\n      <td>primary</td>\n      <td>17125000.0</td>\n      <td>13200000.0</td>\n      <td>20</td>\n      <td>special</td>\n    </tr>\n    <tr>\n      <th>2</th>\n      <td>Moscow</td>\n      <td>primary</td>\n      <td>17125000.0</td>\n      <td>13200000.0</td>\n      <td>21</td>\n      <td>regular</td>\n    </tr>\n    <tr>\n      <th>3</th>\n      <td>Moscow</td>\n      <td>primary</td>\n      <td>17125000.0</td>\n      <td>13200000.0</td>\n      <td>22</td>\n      <td>regular</td>\n    </tr>\n    <tr>\n      <th>4</th>\n      <td>Moscow</td>\n      <td>primary</td>\n      <td>17125000.0</td>\n      <td>13200000.0</td>\n      <td>23</td>\n      <td>regular</td>\n    </tr>\n  </tbody>\n</table>\n</div>"
     },
     "metadata": {}
    }
   ]
  },
  {
   "cell_type": "code",
   "metadata": {
    "tags": [],
    "cell_id": "00048-4f18550f-9590-44a0-8321-199e6397082a",
    "deepnote_to_be_reexecuted": false,
    "source_hash": "7687cbc7",
    "execution_start": 1620934976471,
    "execution_millis": 20,
    "deepnote_cell_type": "code"
   },
   "source": "df_new_shop.isnull().sum()",
   "execution_count": null,
   "outputs": [
    {
     "output_type": "execute_result",
     "execution_count": 27,
     "data": {
      "text/plain": "city                 0\ncapital              0\npopulation           0\npopulation_proper    0\nshop_id              0\nshop_type            0\ndtype: int64"
     },
     "metadata": {}
    }
   ]
  },
  {
   "cell_type": "markdown",
   "source": "## Item Category Data",
   "metadata": {
    "tags": [],
    "cell_id": "00049-77e6ffe6-7e21-4ee0-9484-cbdae341a93c",
    "deepnote_cell_type": "markdown"
   }
  },
  {
   "cell_type": "code",
   "metadata": {
    "tags": [],
    "cell_id": "00045-d765f516-ad97-4e4f-acff-5a76e8c3208e",
    "deepnote_to_be_reexecuted": false,
    "source_hash": "84ef5b38",
    "execution_start": 1620934976486,
    "execution_millis": 19,
    "deepnote_cell_type": "code"
   },
   "source": "#df_item_categ[\"main_categories\"]=0\nfind_main_categories=lambda x: x.split(\"-\")[0].strip()\ndf_item_categ[\"main_categories\"]=df_item_categ.category_name.map(find_main_categories)\ndf_item_categ.head()",
   "execution_count": null,
   "outputs": [
    {
     "output_type": "execute_result",
     "execution_count": 28,
     "data": {
      "application/vnd.deepnote.dataframe.v2+json": {
       "row_count": 5,
       "column_count": 3,
       "columns": [
        {
         "name": "category_name",
         "dtype": "object",
         "stats": {
          "unique_count": 5,
          "nan_count": 0,
          "categories": [
           {
            "name": "PC - Headsets / Headphones",
            "count": 1
           },
           {
            "name": " Accessories - PS2",
            "count": 1
           },
           {
            "name": "3 others",
            "count": 3
           }
          ]
         }
        },
        {
         "name": "category_id",
         "dtype": "int64",
         "stats": {
          "unique_count": 5,
          "nan_count": 0,
          "min": "0",
          "max": "4",
          "histogram": [
           {
            "bin_start": 0,
            "bin_end": 0.4,
            "count": 1
           },
           {
            "bin_start": 0.4,
            "bin_end": 0.8,
            "count": 0
           },
           {
            "bin_start": 0.8,
            "bin_end": 1.2000000000000002,
            "count": 1
           },
           {
            "bin_start": 1.2000000000000002,
            "bin_end": 1.6,
            "count": 0
           },
           {
            "bin_start": 1.6,
            "bin_end": 2,
            "count": 0
           },
           {
            "bin_start": 2,
            "bin_end": 2.4000000000000004,
            "count": 1
           },
           {
            "bin_start": 2.4000000000000004,
            "bin_end": 2.8000000000000003,
            "count": 0
           },
           {
            "bin_start": 2.8000000000000003,
            "bin_end": 3.2,
            "count": 1
           },
           {
            "bin_start": 3.2,
            "bin_end": 3.6,
            "count": 0
           },
           {
            "bin_start": 3.6,
            "bin_end": 4,
            "count": 1
           }
          ]
         }
        },
        {
         "name": "main_categories",
         "dtype": "object",
         "stats": {
          "unique_count": 2,
          "nan_count": 0,
          "categories": [
           {
            "name": "Accessories",
            "count": 4
           },
           {
            "name": "PC",
            "count": 1
           }
          ]
         }
        },
        {
         "name": "_deepnote_index_column",
         "dtype": "int64"
        }
       ],
       "rows_top": [
        {
         "category_name": "PC - Headsets / Headphones",
         "category_id": 0,
         "main_categories": "PC",
         "_deepnote_index_column": 0
        },
        {
         "category_name": " Accessories - PS2",
         "category_id": 1,
         "main_categories": "Accessories",
         "_deepnote_index_column": 1
        },
        {
         "category_name": " Accessories - PS3",
         "category_id": 2,
         "main_categories": "Accessories",
         "_deepnote_index_column": 2
        },
        {
         "category_name": " Accessories - PS4",
         "category_id": 3,
         "main_categories": "Accessories",
         "_deepnote_index_column": 3
        },
        {
         "category_name": " Accessories - PSP",
         "category_id": 4,
         "main_categories": "Accessories",
         "_deepnote_index_column": 4
        }
       ],
       "rows_bottom": null
      },
      "text/plain": "                category_name  category_id main_categories\n0  PC - Headsets / Headphones            0              PC\n1           Accessories - PS2            1     Accessories\n2           Accessories - PS3            2     Accessories\n3           Accessories - PS4            3     Accessories\n4           Accessories - PSP            4     Accessories",
      "text/html": "<div>\n<style scoped>\n    .dataframe tbody tr th:only-of-type {\n        vertical-align: middle;\n    }\n\n    .dataframe tbody tr th {\n        vertical-align: top;\n    }\n\n    .dataframe thead th {\n        text-align: right;\n    }\n</style>\n<table border=\"1\" class=\"dataframe\">\n  <thead>\n    <tr style=\"text-align: right;\">\n      <th></th>\n      <th>category_name</th>\n      <th>category_id</th>\n      <th>main_categories</th>\n    </tr>\n  </thead>\n  <tbody>\n    <tr>\n      <th>0</th>\n      <td>PC - Headsets / Headphones</td>\n      <td>0</td>\n      <td>PC</td>\n    </tr>\n    <tr>\n      <th>1</th>\n      <td>Accessories - PS2</td>\n      <td>1</td>\n      <td>Accessories</td>\n    </tr>\n    <tr>\n      <th>2</th>\n      <td>Accessories - PS3</td>\n      <td>2</td>\n      <td>Accessories</td>\n    </tr>\n    <tr>\n      <th>3</th>\n      <td>Accessories - PS4</td>\n      <td>3</td>\n      <td>Accessories</td>\n    </tr>\n    <tr>\n      <th>4</th>\n      <td>Accessories - PSP</td>\n      <td>4</td>\n      <td>Accessories</td>\n    </tr>\n  </tbody>\n</table>\n</div>"
     },
     "metadata": {}
    }
   ]
  },
  {
   "cell_type": "markdown",
   "source": "## Item Data",
   "metadata": {
    "tags": [],
    "cell_id": "00051-1dcb8d42-2792-4dd7-8506-1a47e1f0f542",
    "deepnote_cell_type": "markdown"
   }
  },
  {
   "cell_type": "markdown",
   "source": "### Cleaning",
   "metadata": {
    "tags": [],
    "cell_id": "00052-a7d68c8f-14ab-401c-9e92-83f845cbf155",
    "deepnote_cell_type": "markdown"
   }
  },
  {
   "cell_type": "code",
   "metadata": {
    "tags": [],
    "cell_id": "00052-f2c5c1bf-d370-4ec4-a1f2-2a7fcb48d96b",
    "deepnote_to_be_reexecuted": false,
    "source_hash": "47b66464",
    "execution_start": 1620934976511,
    "execution_millis": 894,
    "deepnote_cell_type": "code"
   },
   "source": "df_items['item_name'] = df_items['item_name'].str.lower()\ndf_items['item_name'] = df_items['item_name'].str.replace('.', '')\nfor i in [r'[^\\w\\d\\s\\.]', r'\\bthe\\b', r'\\bin\\b', r'\\bis\\b',\n          r'\\bfor\\b', r'\\bof\\b', r'\\bon\\b', r'\\band\\b',  \n          r'\\bto\\b', r'\\bwith\\b' , r'\\byo\\b']:\n    df_items['item_name'] = df_items['item_name'].str.replace(i, ' ')\ndf_items['item_name'] = df_items['item_name'].str.replace(r'\\b.\\b', ' ').str.strip()\n",
   "execution_count": null,
   "outputs": [
    {
     "name": "stderr",
     "text": "/shared-libs/python3.7/py-core/lib/python3.7/site-packages/ipykernel_launcher.py:2: FutureWarning: The default value of regex will change from True to False in a future version. In addition, single character regular expressions will*not* be treated as literal strings when regex=True.\n  \n/shared-libs/python3.7/py-core/lib/python3.7/site-packages/ipykernel_launcher.py:6: FutureWarning: The default value of regex will change from True to False in a future version.\n  \n/shared-libs/python3.7/py-core/lib/python3.7/site-packages/ipykernel_launcher.py:7: FutureWarning: The default value of regex will change from True to False in a future version.\n  import sys\n",
     "output_type": "stream"
    }
   ]
  },
  {
   "cell_type": "markdown",
   "source": "** Finding Duplicates **",
   "metadata": {
    "tags": [],
    "cell_id": "00054-9f625542-c637-4556-8617-fd173ffd6e96",
    "deepnote_cell_type": "markdown"
   }
  },
  {
   "cell_type": "code",
   "metadata": {
    "tags": [],
    "cell_id": "00055-551b9f8a-eb0c-4490-9f4d-a19d6eef98c8",
    "deepnote_to_be_reexecuted": false,
    "source_hash": "9f392d30",
    "execution_start": 1620934977404,
    "execution_millis": 59,
    "deepnote_cell_type": "code"
   },
   "source": "dupes = df_items[(df_items.duplicated(subset=['item_name','category_id'],keep=False))]\ndupes['in_test'] = dupes.item_id.isin(df_test.item_id.unique())\ndupes = dupes.groupby('item_name').agg({'item_id':[\"count\",'first','last'],'in_test':['first','last']})",
   "execution_count": null,
   "outputs": [
    {
     "name": "stderr",
     "text": "/shared-libs/python3.7/py-core/lib/python3.7/site-packages/ipykernel_launcher.py:2: SettingWithCopyWarning: \nA value is trying to be set on a copy of a slice from a DataFrame.\nTry using .loc[row_indexer,col_indexer] = value instead\n\nSee the caveats in the documentation: https://pandas.pydata.org/pandas-docs/stable/user_guide/indexing.html#returning-a-view-versus-a-copy\n  \n",
     "output_type": "stream"
    }
   ]
  },
  {
   "cell_type": "markdown",
   "source": "** Removing Duplicates **",
   "metadata": {
    "tags": [],
    "cell_id": "00056-c4d72dab-0293-4495-93d3-f97087625075",
    "deepnote_cell_type": "markdown"
   }
  },
  {
   "cell_type": "code",
   "metadata": {
    "tags": [],
    "cell_id": "00057-450d0266-9571-4a3f-9a78-f66c61b75b99",
    "deepnote_to_be_reexecuted": false,
    "source_hash": "d5f3d447",
    "execution_start": 1620934977453,
    "execution_millis": 0,
    "deepnote_cell_type": "code"
   },
   "source": "# A) if both item id's are in the test set do nothing\ndupes = dupes[(dupes[('in_test', 'first')]==False) | (dupes[('in_test', 'last')]==False)]\n\n# B) if only the first id is in the test set assign this id to both\ntemp = dupes[dupes[('in_test', 'first')]==True]\nkeep_first = dict(zip(temp[('item_id', 'last')], temp[('item_id',  'first')]))\n\n# C) if neither id or only the second id is in the test set, assign the second id to both\ntemp = dupes[dupes[('in_test', 'first')]==False]\nkeep_second = dict(zip(temp[('item_id', 'first')], temp[('item_id',  'last')]))\nitem_map = {**keep_first, **keep_second}",
   "execution_count": null,
   "outputs": []
  },
  {
   "cell_type": "markdown",
   "source": "** Saving Item Map **",
   "metadata": {
    "tags": [],
    "cell_id": "00058-1c0bbb0f-7ac2-40ac-83b7-aea4171f4da0",
    "deepnote_cell_type": "markdown"
   }
  },
  {
   "cell_type": "code",
   "metadata": {
    "tags": [],
    "cell_id": "00058-74a0682f-860d-426c-90f7-f114dac6db43",
    "deepnote_to_be_reexecuted": false,
    "source_hash": "c5445b03",
    "execution_start": 1620934977454,
    "execution_millis": 3,
    "deepnote_cell_type": "code"
   },
   "source": "json_filename = DATA_PATH + 'duplicated_items_replacement.json'\n\njson.dump(item_map, open(json_filename, 'w'), indent=4)",
   "execution_count": null,
   "outputs": []
  },
  {
   "cell_type": "markdown",
   "source": "** Replacing **",
   "metadata": {
    "tags": [],
    "cell_id": "00060-1fe73752-1ce0-4de5-9452-f05e593b39bc",
    "deepnote_cell_type": "markdown"
   }
  },
  {
   "cell_type": "code",
   "metadata": {
    "tags": [],
    "cell_id": "00060-a20ba7ed-c24f-4fbc-924d-f83427a6b51f",
    "deepnote_to_be_reexecuted": false,
    "source_hash": "fe29b3e5",
    "execution_start": 1620934977509,
    "execution_millis": 37,
    "deepnote_cell_type": "code"
   },
   "source": "df = df.replace({\n        'shop_id': json_filename, # replacing obsolete shop id's\n        'item_id': json_filename  # fixing duplicate item id's  \n})\n",
   "execution_count": null,
   "outputs": []
  },
  {
   "cell_type": "markdown",
   "source": "### Encoding For Item",
   "metadata": {
    "tags": [],
    "cell_id": "00060-29ca8da2-51b5-4787-a75f-099408d0b076",
    "deepnote_cell_type": "markdown"
   }
  },
  {
   "cell_type": "code",
   "metadata": {
    "tags": [],
    "cell_id": "00061-1fa44012-0793-4027-8579-f04c65b9c9e7",
    "deepnote_to_be_reexecuted": false,
    "source_hash": "dd369c9b",
    "execution_start": 1620934977546,
    "execution_millis": 147,
    "deepnote_cell_type": "code"
   },
   "source": "df_items['item_name_no_space'] = df_items['item_name'].str.replace(' ', '')\ndf_items['item_name_first4']   = [x[:4] for x in df_items['item_name_no_space']]\ndf_items['item_name_first6']   = [x[:6] for x in df_items['item_name_no_space']]\ndf_items['item_name_first11']  = [x[:11] for x in df_items['item_name_no_space']]\ndel df_items['item_name_no_space']\n\ndf_items.head()",
   "execution_count": null,
   "outputs": [
    {
     "output_type": "execute_result",
     "execution_count": 34,
     "data": {
      "application/vnd.deepnote.dataframe.v2+json": {
       "row_count": 5,
       "column_count": 6,
       "columns": [
        {
         "name": "item_id",
         "dtype": "int64",
         "stats": {
          "unique_count": 5,
          "nan_count": 0,
          "min": "0",
          "max": "4",
          "histogram": [
           {
            "bin_start": 0,
            "bin_end": 0.4,
            "count": 1
           },
           {
            "bin_start": 0.4,
            "bin_end": 0.8,
            "count": 0
           },
           {
            "bin_start": 0.8,
            "bin_end": 1.2000000000000002,
            "count": 1
           },
           {
            "bin_start": 1.2000000000000002,
            "bin_end": 1.6,
            "count": 0
           },
           {
            "bin_start": 1.6,
            "bin_end": 2,
            "count": 0
           },
           {
            "bin_start": 2,
            "bin_end": 2.4000000000000004,
            "count": 1
           },
           {
            "bin_start": 2.4000000000000004,
            "bin_end": 2.8000000000000003,
            "count": 0
           },
           {
            "bin_start": 2.8000000000000003,
            "bin_end": 3.2,
            "count": 1
           },
           {
            "bin_start": 3.2,
            "bin_end": 3.6,
            "count": 0
           },
           {
            "bin_start": 3.6,
            "bin_end": 4,
            "count": 1
           }
          ]
         }
        },
        {
         "name": "category_id",
         "dtype": "int64",
         "stats": {
          "unique_count": 2,
          "nan_count": 0,
          "min": "40",
          "max": "76",
          "histogram": [
           {
            "bin_start": 40,
            "bin_end": 43.6,
            "count": 4
           },
           {
            "bin_start": 43.6,
            "bin_end": 47.2,
            "count": 0
           },
           {
            "bin_start": 47.2,
            "bin_end": 50.8,
            "count": 0
           },
           {
            "bin_start": 50.8,
            "bin_end": 54.4,
            "count": 0
           },
           {
            "bin_start": 54.4,
            "bin_end": 58,
            "count": 0
           },
           {
            "bin_start": 58,
            "bin_end": 61.6,
            "count": 0
           },
           {
            "bin_start": 61.6,
            "bin_end": 65.2,
            "count": 0
           },
           {
            "bin_start": 65.2,
            "bin_end": 68.8,
            "count": 0
           },
           {
            "bin_start": 68.8,
            "bin_end": 72.4,
            "count": 0
           },
           {
            "bin_start": 72.4,
            "bin_end": 76,
            "count": 1
           }
          ]
         }
        },
        {
         "name": "item_name",
         "dtype": "object",
         "stats": {
          "unique_count": 5,
          "nan_count": 0,
          "categories": [
           {
            "name": "power   happiness  plast",
            "count": 1
           },
           {
            "name": "abbyy finereader 12 professional edition full  pc  digital version",
            "count": 1
           },
           {
            "name": "3 others",
            "count": 3
           }
          ]
         }
        },
        {
         "name": "item_name_first4",
         "dtype": "object",
         "stats": {
          "unique_count": 5,
          "nan_count": 0,
          "categories": [
           {
            "name": "powe",
            "count": 1
           },
           {
            "name": "abby",
            "count": 1
           },
           {
            "name": "3 others",
            "count": 3
           }
          ]
         }
        },
        {
         "name": "item_name_first6",
         "dtype": "object",
         "stats": {
          "unique_count": 5,
          "nan_count": 0,
          "categories": [
           {
            "name": "powerh",
            "count": 1
           },
           {
            "name": "abbyyf",
            "count": 1
           },
           {
            "name": "3 others",
            "count": 3
           }
          ]
         }
        },
        {
         "name": "item_name_first11",
         "dtype": "object",
         "stats": {
          "unique_count": 5,
          "nan_count": 0,
          "categories": [
           {
            "name": "powerhappin",
            "count": 1
           },
           {
            "name": "abbyyfinere",
            "count": 1
           },
           {
            "name": "3 others",
            "count": 3
           }
          ]
         }
        },
        {
         "name": "_deepnote_index_column",
         "dtype": "int64"
        }
       ],
       "rows_top": [
        {
         "item_id": 0,
         "category_id": 40,
         "item_name": "power   happiness  plast",
         "item_name_first4": "powe",
         "item_name_first6": "powerh",
         "item_name_first11": "powerhappin",
         "_deepnote_index_column": 0
        },
        {
         "item_id": 1,
         "category_id": 76,
         "item_name": "abbyy finereader 12 professional edition full  pc  digital version",
         "item_name_first4": "abby",
         "item_name_first6": "abbyyf",
         "item_name_first11": "abbyyfinere",
         "_deepnote_index_column": 1
        },
        {
         "item_id": 2,
         "category_id": 40,
         "item_name": "glory     glory  unv",
         "item_name_first4": "glor",
         "item_name_first6": "gloryg",
         "item_name_first11": "glorygloryu",
         "_deepnote_index_column": 2
        },
        {
         "item_id": 3,
         "category_id": 40,
         "item_name": "blue wave  univ",
         "item_name_first4": "blue",
         "item_name_first6": "bluewa",
         "item_name_first11": "bluewaveuni",
         "_deepnote_index_column": 3
        },
        {
         "item_id": 4,
         "category_id": 40,
         "item_name": "box  glass",
         "item_name_first4": "boxg",
         "item_name_first6": "boxgla",
         "item_name_first11": "boxglass",
         "_deepnote_index_column": 4
        }
       ],
       "rows_bottom": null
      },
      "text/plain": "   item_id  category_id                                          item_name  \\\n0        0           40                           power   happiness  plast   \n1        1           76  abbyy finereader 12 professional edition full ...   \n2        2           40                               glory     glory  unv   \n3        3           40                                    blue wave  univ   \n4        4           40                                         box  glass   \n\n  item_name_first4 item_name_first6 item_name_first11  \n0             powe           powerh       powerhappin  \n1             abby           abbyyf       abbyyfinere  \n2             glor           gloryg       glorygloryu  \n3             blue           bluewa       bluewaveuni  \n4             boxg           boxgla          boxglass  ",
      "text/html": "<div>\n<style scoped>\n    .dataframe tbody tr th:only-of-type {\n        vertical-align: middle;\n    }\n\n    .dataframe tbody tr th {\n        vertical-align: top;\n    }\n\n    .dataframe thead th {\n        text-align: right;\n    }\n</style>\n<table border=\"1\" class=\"dataframe\">\n  <thead>\n    <tr style=\"text-align: right;\">\n      <th></th>\n      <th>item_id</th>\n      <th>category_id</th>\n      <th>item_name</th>\n      <th>item_name_first4</th>\n      <th>item_name_first6</th>\n      <th>item_name_first11</th>\n    </tr>\n  </thead>\n  <tbody>\n    <tr>\n      <th>0</th>\n      <td>0</td>\n      <td>40</td>\n      <td>power   happiness  plast</td>\n      <td>powe</td>\n      <td>powerh</td>\n      <td>powerhappin</td>\n    </tr>\n    <tr>\n      <th>1</th>\n      <td>1</td>\n      <td>76</td>\n      <td>abbyy finereader 12 professional edition full ...</td>\n      <td>abby</td>\n      <td>abbyyf</td>\n      <td>abbyyfinere</td>\n    </tr>\n    <tr>\n      <th>2</th>\n      <td>2</td>\n      <td>40</td>\n      <td>glory     glory  unv</td>\n      <td>glor</td>\n      <td>gloryg</td>\n      <td>glorygloryu</td>\n    </tr>\n    <tr>\n      <th>3</th>\n      <td>3</td>\n      <td>40</td>\n      <td>blue wave  univ</td>\n      <td>blue</td>\n      <td>bluewa</td>\n      <td>bluewaveuni</td>\n    </tr>\n    <tr>\n      <th>4</th>\n      <td>4</td>\n      <td>40</td>\n      <td>box  glass</td>\n      <td>boxg</td>\n      <td>boxgla</td>\n      <td>boxglass</td>\n    </tr>\n  </tbody>\n</table>\n</div>"
     },
     "metadata": {}
    }
   ]
  },
  {
   "cell_type": "markdown",
   "source": "## Creating New Data Frame Items With Categories",
   "metadata": {
    "tags": [],
    "cell_id": "00052-550d9210-3d12-4ccc-af7e-a8e131fc89fe",
    "deepnote_cell_type": "markdown"
   }
  },
  {
   "cell_type": "code",
   "metadata": {
    "tags": [],
    "cell_id": "00053-e662c5c5-026c-4b74-b859-d5501b4c5eac",
    "deepnote_to_be_reexecuted": false,
    "source_hash": "2cd08a60",
    "execution_start": 1620934977663,
    "execution_millis": 78,
    "deepnote_cell_type": "code"
   },
   "source": "df_new_items=pd.merge(df_item_categ, df_items, on=['category_id'])\ndf_new_items.head()",
   "execution_count": null,
   "outputs": [
    {
     "output_type": "execute_result",
     "execution_count": 35,
     "data": {
      "application/vnd.deepnote.dataframe.v2+json": {
       "row_count": 5,
       "column_count": 8,
       "columns": [
        {
         "name": "category_name",
         "dtype": "object",
         "stats": {
          "unique_count": 2,
          "nan_count": 0,
          "categories": [
           {
            "name": "PC - Headsets / Headphones",
            "count": 4
           },
           {
            "name": " Accessories - PS2",
            "count": 1
           }
          ]
         }
        },
        {
         "name": "category_id",
         "dtype": "int64",
         "stats": {
          "unique_count": 2,
          "nan_count": 0,
          "min": "0",
          "max": "1",
          "histogram": [
           {
            "bin_start": 0,
            "bin_end": 0.1,
            "count": 4
           },
           {
            "bin_start": 0.1,
            "bin_end": 0.2,
            "count": 0
           },
           {
            "bin_start": 0.2,
            "bin_end": 0.30000000000000004,
            "count": 0
           },
           {
            "bin_start": 0.30000000000000004,
            "bin_end": 0.4,
            "count": 0
           },
           {
            "bin_start": 0.4,
            "bin_end": 0.5,
            "count": 0
           },
           {
            "bin_start": 0.5,
            "bin_end": 0.6000000000000001,
            "count": 0
           },
           {
            "bin_start": 0.6000000000000001,
            "bin_end": 0.7000000000000001,
            "count": 0
           },
           {
            "bin_start": 0.7000000000000001,
            "bin_end": 0.8,
            "count": 0
           },
           {
            "bin_start": 0.8,
            "bin_end": 0.9,
            "count": 0
           },
           {
            "bin_start": 0.9,
            "bin_end": 1,
            "count": 1
           }
          ]
         }
        },
        {
         "name": "main_categories",
         "dtype": "object",
         "stats": {
          "unique_count": 2,
          "nan_count": 0,
          "categories": [
           {
            "name": "PC",
            "count": 4
           },
           {
            "name": "Accessories",
            "count": 1
           }
          ]
         }
        },
        {
         "name": "item_id",
         "dtype": "int64",
         "stats": {
          "unique_count": 5,
          "nan_count": 0,
          "min": "5441",
          "max": "16257",
          "histogram": [
           {
            "bin_start": 5441,
            "bin_end": 6522.6,
            "count": 2
           },
           {
            "bin_start": 6522.6,
            "bin_end": 7604.2,
            "count": 0
           },
           {
            "bin_start": 7604.2,
            "bin_end": 8685.8,
            "count": 0
           },
           {
            "bin_start": 8685.8,
            "bin_end": 9767.4,
            "count": 0
           },
           {
            "bin_start": 9767.4,
            "bin_end": 10849,
            "count": 0
           },
           {
            "bin_start": 10849,
            "bin_end": 11930.599999999999,
            "count": 0
           },
           {
            "bin_start": 11930.599999999999,
            "bin_end": 13012.199999999999,
            "count": 0
           },
           {
            "bin_start": 13012.199999999999,
            "bin_end": 14093.8,
            "count": 0
           },
           {
            "bin_start": 14093.8,
            "bin_end": 15175.4,
            "count": 0
           },
           {
            "bin_start": 15175.4,
            "bin_end": 16257,
            "count": 3
           }
          ]
         }
        },
        {
         "name": "item_name",
         "dtype": "object",
         "stats": {
          "unique_count": 5,
          "nan_count": 0,
          "categories": [
           {
            "name": "pc  headset hyperx cloud core gaming stereo  khx hscc bk br",
            "count": 1
           },
           {
            "name": "headphones philips sbc hc8680",
            "count": 1
           },
           {
            "name": "3 others",
            "count": 3
           }
          ]
         }
        },
        {
         "name": "item_name_first4",
         "dtype": "object",
         "stats": {
          "unique_count": 3,
          "nan_count": 0,
          "categories": [
           {
            "name": "head",
            "count": 3
           },
           {
            "name": "pche",
            "count": 1
           },
           {
            "name": "ps2m",
            "count": 1
           }
          ]
         }
        },
        {
         "name": "item_name_first6",
         "dtype": "object",
         "stats": {
          "unique_count": 3,
          "nan_count": 0,
          "categories": [
           {
            "name": "headph",
            "count": 3
           },
           {
            "name": "pchead",
            "count": 1
           },
           {
            "name": "ps2mem",
            "count": 1
           }
          ]
         }
        },
        {
         "name": "item_name_first11",
         "dtype": "object",
         "stats": {
          "unique_count": 4,
          "nan_count": 0,
          "categories": [
           {
            "name": "headphonesr",
            "count": 2
           },
           {
            "name": "pcheadsethy",
            "count": 1
           },
           {
            "name": "2 others",
            "count": 2
           }
          ]
         }
        },
        {
         "name": "_deepnote_index_column",
         "dtype": "int64"
        }
       ],
       "rows_top": [
        {
         "category_name": "PC - Headsets / Headphones",
         "category_id": 0,
         "main_categories": "PC",
         "item_id": 5441,
         "item_name": "pc  headset hyperx cloud core gaming stereo  khx hscc bk br",
         "item_name_first4": "pche",
         "item_name_first6": "pchead",
         "item_name_first11": "pcheadsethy",
         "_deepnote_index_column": 0
        },
        {
         "category_name": "PC - Headsets / Headphones",
         "category_id": 0,
         "main_categories": "PC",
         "item_id": 16255,
         "item_name": "headphones philips sbc hc8680",
         "item_name_first4": "head",
         "item_name_first6": "headph",
         "item_name_first11": "headphonesp",
         "_deepnote_index_column": 1
        },
        {
         "category_name": "PC - Headsets / Headphones",
         "category_id": 0,
         "main_categories": "PC",
         "item_id": 16256,
         "item_name": "headphones ritmix rh 120",
         "item_name_first4": "head",
         "item_name_first6": "headph",
         "item_name_first11": "headphonesr",
         "_deepnote_index_column": 2
        },
        {
         "category_name": "PC - Headsets / Headphones",
         "category_id": 0,
         "main_categories": "PC",
         "item_id": 16257,
         "item_name": "headphones ritmix rh 124 black",
         "item_name_first4": "head",
         "item_name_first6": "headph",
         "item_name_first11": "headphonesr",
         "_deepnote_index_column": 3
        },
        {
         "category_name": " Accessories - PS2",
         "category_id": 1,
         "main_categories": "Accessories",
         "item_id": 5606,
         "item_name": "ps2  memory card   mb black  memory card 8mb   102304  scee",
         "item_name_first4": "ps2m",
         "item_name_first6": "ps2mem",
         "item_name_first11": "ps2memoryca",
         "_deepnote_index_column": 4
        }
       ],
       "rows_bottom": null
      },
      "text/plain": "                category_name  category_id main_categories  item_id  \\\n0  PC - Headsets / Headphones            0              PC     5441   \n1  PC - Headsets / Headphones            0              PC    16255   \n2  PC - Headsets / Headphones            0              PC    16256   \n3  PC - Headsets / Headphones            0              PC    16257   \n4           Accessories - PS2            1     Accessories     5606   \n\n                                           item_name item_name_first4  \\\n0  pc  headset hyperx cloud core gaming stereo  k...             pche   \n1                      headphones philips sbc hc8680             head   \n2                           headphones ritmix rh 120             head   \n3                     headphones ritmix rh 124 black             head   \n4  ps2  memory card   mb black  memory card 8mb  ...             ps2m   \n\n  item_name_first6 item_name_first11  \n0           pchead       pcheadsethy  \n1           headph       headphonesp  \n2           headph       headphonesr  \n3           headph       headphonesr  \n4           ps2mem       ps2memoryca  ",
      "text/html": "<div>\n<style scoped>\n    .dataframe tbody tr th:only-of-type {\n        vertical-align: middle;\n    }\n\n    .dataframe tbody tr th {\n        vertical-align: top;\n    }\n\n    .dataframe thead th {\n        text-align: right;\n    }\n</style>\n<table border=\"1\" class=\"dataframe\">\n  <thead>\n    <tr style=\"text-align: right;\">\n      <th></th>\n      <th>category_name</th>\n      <th>category_id</th>\n      <th>main_categories</th>\n      <th>item_id</th>\n      <th>item_name</th>\n      <th>item_name_first4</th>\n      <th>item_name_first6</th>\n      <th>item_name_first11</th>\n    </tr>\n  </thead>\n  <tbody>\n    <tr>\n      <th>0</th>\n      <td>PC - Headsets / Headphones</td>\n      <td>0</td>\n      <td>PC</td>\n      <td>5441</td>\n      <td>pc  headset hyperx cloud core gaming stereo  k...</td>\n      <td>pche</td>\n      <td>pchead</td>\n      <td>pcheadsethy</td>\n    </tr>\n    <tr>\n      <th>1</th>\n      <td>PC - Headsets / Headphones</td>\n      <td>0</td>\n      <td>PC</td>\n      <td>16255</td>\n      <td>headphones philips sbc hc8680</td>\n      <td>head</td>\n      <td>headph</td>\n      <td>headphonesp</td>\n    </tr>\n    <tr>\n      <th>2</th>\n      <td>PC - Headsets / Headphones</td>\n      <td>0</td>\n      <td>PC</td>\n      <td>16256</td>\n      <td>headphones ritmix rh 120</td>\n      <td>head</td>\n      <td>headph</td>\n      <td>headphonesr</td>\n    </tr>\n    <tr>\n      <th>3</th>\n      <td>PC - Headsets / Headphones</td>\n      <td>0</td>\n      <td>PC</td>\n      <td>16257</td>\n      <td>headphones ritmix rh 124 black</td>\n      <td>head</td>\n      <td>headph</td>\n      <td>headphonesr</td>\n    </tr>\n    <tr>\n      <th>4</th>\n      <td>Accessories - PS2</td>\n      <td>1</td>\n      <td>Accessories</td>\n      <td>5606</td>\n      <td>ps2  memory card   mb black  memory card 8mb  ...</td>\n      <td>ps2m</td>\n      <td>ps2mem</td>\n      <td>ps2memoryca</td>\n    </tr>\n  </tbody>\n</table>\n</div>"
     },
     "metadata": {}
    }
   ]
  },
  {
   "cell_type": "markdown",
   "source": "## Sales Data",
   "metadata": {
    "tags": [],
    "cell_id": "00064-7fc492fd-3798-4e5a-9fbb-665f522bd658",
    "deepnote_cell_type": "markdown"
   }
  },
  {
   "cell_type": "markdown",
   "source": "### Creating Time Data",
   "metadata": {
    "tags": [],
    "cell_id": "00065-ce0bd3f6-ab72-4a3f-b0e7-80626da80d0a",
    "deepnote_cell_type": "markdown"
   }
  },
  {
   "cell_type": "code",
   "metadata": {
    "tags": [],
    "cell_id": "00066-7f1f729d-6dd7-4f66-a827-ba3a5eec0583",
    "deepnote_to_be_reexecuted": false,
    "source_hash": "9f63276a",
    "execution_start": 1620934977718,
    "execution_millis": 1,
    "deepnote_cell_type": "code"
   },
   "source": "time = pd.DataFrame(data={'date':pd.date_range(start='2013-01-01', end='2015-11-30')})\n\ntime['month']          = time.date.dt.month \ntime['year']           = time.date.dt.year - 2013\ntime[\"day_of_week\"]    = time.date.dt.dayofweek + 1\ntime[\"day_of_month\"]   = time.date.dt.day\ntime['day_of_year']    = time.date.dt.dayofyear\ntime[\"day_of_history\"] = time.day_of_year + (365 * time.year)\ntime['date_block_num'] = time['year']*12 + time['month'] - 1\ntime.set_index('date', inplace=True)",
   "execution_count": null,
   "outputs": []
  },
  {
   "cell_type": "code",
   "metadata": {
    "tags": [],
    "cell_id": "00067-a99d90af-4b1d-45c5-9e35-2bf7ec250bd3",
    "deepnote_to_be_reexecuted": false,
    "source_hash": "a0fc9baf",
    "execution_start": 1620934977719,
    "execution_millis": 64,
    "deepnote_cell_type": "code"
   },
   "source": "days_of_week = [\"#mon\", \"#tue\", \"#wed\", \"#thu\", \"#fri\", \"#sat\", \"#sun\"]\n\nmonths = time.groupby([\"date_block_num\", \"day_of_week\"]).size().unstack()\nmonths.columns = days_of_week\nmonths[\"#sat+sun\"] = months[\"#sat\"] + months[\"#sun\"]\n\nmonths[\"#days\"] = months[days_of_week].sum(1)\n#months[\"month_id\"]   = months.index%12 + 1\n\ndate_block_num_list=list(df.date_block_num.unique())\ndate_block_num_list.append(34)\nmonths[\"date_block_num\"]=date_block_num_list\nmonths.head()",
   "execution_count": null,
   "outputs": [
    {
     "output_type": "execute_result",
     "execution_count": 37,
     "data": {
      "application/vnd.deepnote.dataframe.v2+json": {
       "row_count": 5,
       "column_count": 10,
       "columns": [
        {
         "name": "#mon",
         "dtype": "int64",
         "stats": {
          "unique_count": 2,
          "nan_count": 0,
          "min": "4",
          "max": "5",
          "histogram": [
           {
            "bin_start": 4,
            "bin_end": 4.1,
            "count": 4
           },
           {
            "bin_start": 4.1,
            "bin_end": 4.2,
            "count": 0
           },
           {
            "bin_start": 4.2,
            "bin_end": 4.3,
            "count": 0
           },
           {
            "bin_start": 4.3,
            "bin_end": 4.4,
            "count": 0
           },
           {
            "bin_start": 4.4,
            "bin_end": 4.5,
            "count": 0
           },
           {
            "bin_start": 4.5,
            "bin_end": 4.6,
            "count": 0
           },
           {
            "bin_start": 4.6,
            "bin_end": 4.7,
            "count": 0
           },
           {
            "bin_start": 4.7,
            "bin_end": 4.8,
            "count": 0
           },
           {
            "bin_start": 4.8,
            "bin_end": 4.9,
            "count": 0
           },
           {
            "bin_start": 4.9,
            "bin_end": 5,
            "count": 1
           }
          ]
         }
        },
        {
         "name": "#tue",
         "dtype": "int64",
         "stats": {
          "unique_count": 2,
          "nan_count": 0,
          "min": "4",
          "max": "5",
          "histogram": [
           {
            "bin_start": 4,
            "bin_end": 4.1,
            "count": 3
           },
           {
            "bin_start": 4.1,
            "bin_end": 4.2,
            "count": 0
           },
           {
            "bin_start": 4.2,
            "bin_end": 4.3,
            "count": 0
           },
           {
            "bin_start": 4.3,
            "bin_end": 4.4,
            "count": 0
           },
           {
            "bin_start": 4.4,
            "bin_end": 4.5,
            "count": 0
           },
           {
            "bin_start": 4.5,
            "bin_end": 4.6,
            "count": 0
           },
           {
            "bin_start": 4.6,
            "bin_end": 4.7,
            "count": 0
           },
           {
            "bin_start": 4.7,
            "bin_end": 4.8,
            "count": 0
           },
           {
            "bin_start": 4.8,
            "bin_end": 4.9,
            "count": 0
           },
           {
            "bin_start": 4.9,
            "bin_end": 5,
            "count": 2
           }
          ]
         }
        },
        {
         "name": "#wed",
         "dtype": "int64",
         "stats": {
          "unique_count": 2,
          "nan_count": 0,
          "min": "4",
          "max": "5",
          "histogram": [
           {
            "bin_start": 4,
            "bin_end": 4.1,
            "count": 3
           },
           {
            "bin_start": 4.1,
            "bin_end": 4.2,
            "count": 0
           },
           {
            "bin_start": 4.2,
            "bin_end": 4.3,
            "count": 0
           },
           {
            "bin_start": 4.3,
            "bin_end": 4.4,
            "count": 0
           },
           {
            "bin_start": 4.4,
            "bin_end": 4.5,
            "count": 0
           },
           {
            "bin_start": 4.5,
            "bin_end": 4.6,
            "count": 0
           },
           {
            "bin_start": 4.6,
            "bin_end": 4.7,
            "count": 0
           },
           {
            "bin_start": 4.7,
            "bin_end": 4.8,
            "count": 0
           },
           {
            "bin_start": 4.8,
            "bin_end": 4.9,
            "count": 0
           },
           {
            "bin_start": 4.9,
            "bin_end": 5,
            "count": 2
           }
          ]
         }
        },
        {
         "name": "#thu",
         "dtype": "int64",
         "stats": {
          "unique_count": 2,
          "nan_count": 0,
          "min": "4",
          "max": "5",
          "histogram": [
           {
            "bin_start": 4,
            "bin_end": 4.1,
            "count": 3
           },
           {
            "bin_start": 4.1,
            "bin_end": 4.2,
            "count": 0
           },
           {
            "bin_start": 4.2,
            "bin_end": 4.3,
            "count": 0
           },
           {
            "bin_start": 4.3,
            "bin_end": 4.4,
            "count": 0
           },
           {
            "bin_start": 4.4,
            "bin_end": 4.5,
            "count": 0
           },
           {
            "bin_start": 4.5,
            "bin_end": 4.6,
            "count": 0
           },
           {
            "bin_start": 4.6,
            "bin_end": 4.7,
            "count": 0
           },
           {
            "bin_start": 4.7,
            "bin_end": 4.8,
            "count": 0
           },
           {
            "bin_start": 4.8,
            "bin_end": 4.9,
            "count": 0
           },
           {
            "bin_start": 4.9,
            "bin_end": 5,
            "count": 2
           }
          ]
         }
        },
        {
         "name": "#fri",
         "dtype": "int64",
         "stats": {
          "unique_count": 2,
          "nan_count": 0,
          "min": "4",
          "max": "5",
          "histogram": [
           {
            "bin_start": 4,
            "bin_end": 4.1,
            "count": 3
           },
           {
            "bin_start": 4.1,
            "bin_end": 4.2,
            "count": 0
           },
           {
            "bin_start": 4.2,
            "bin_end": 4.3,
            "count": 0
           },
           {
            "bin_start": 4.3,
            "bin_end": 4.4,
            "count": 0
           },
           {
            "bin_start": 4.4,
            "bin_end": 4.5,
            "count": 0
           },
           {
            "bin_start": 4.5,
            "bin_end": 4.6,
            "count": 0
           },
           {
            "bin_start": 4.6,
            "bin_end": 4.7,
            "count": 0
           },
           {
            "bin_start": 4.7,
            "bin_end": 4.8,
            "count": 0
           },
           {
            "bin_start": 4.8,
            "bin_end": 4.9,
            "count": 0
           },
           {
            "bin_start": 4.9,
            "bin_end": 5,
            "count": 2
           }
          ]
         }
        },
        {
         "name": "#sat",
         "dtype": "int64",
         "stats": {
          "unique_count": 2,
          "nan_count": 0,
          "min": "4",
          "max": "5",
          "histogram": [
           {
            "bin_start": 4,
            "bin_end": 4.1,
            "count": 4
           },
           {
            "bin_start": 4.1,
            "bin_end": 4.2,
            "count": 0
           },
           {
            "bin_start": 4.2,
            "bin_end": 4.3,
            "count": 0
           },
           {
            "bin_start": 4.3,
            "bin_end": 4.4,
            "count": 0
           },
           {
            "bin_start": 4.4,
            "bin_end": 4.5,
            "count": 0
           },
           {
            "bin_start": 4.5,
            "bin_end": 4.6,
            "count": 0
           },
           {
            "bin_start": 4.6,
            "bin_end": 4.7,
            "count": 0
           },
           {
            "bin_start": 4.7,
            "bin_end": 4.8,
            "count": 0
           },
           {
            "bin_start": 4.8,
            "bin_end": 4.9,
            "count": 0
           },
           {
            "bin_start": 4.9,
            "bin_end": 5,
            "count": 1
           }
          ]
         }
        },
        {
         "name": "#sun",
         "dtype": "int64",
         "stats": {
          "unique_count": 2,
          "nan_count": 0,
          "min": "4",
          "max": "5",
          "histogram": [
           {
            "bin_start": 4,
            "bin_end": 4.1,
            "count": 4
           },
           {
            "bin_start": 4.1,
            "bin_end": 4.2,
            "count": 0
           },
           {
            "bin_start": 4.2,
            "bin_end": 4.3,
            "count": 0
           },
           {
            "bin_start": 4.3,
            "bin_end": 4.4,
            "count": 0
           },
           {
            "bin_start": 4.4,
            "bin_end": 4.5,
            "count": 0
           },
           {
            "bin_start": 4.5,
            "bin_end": 4.6,
            "count": 0
           },
           {
            "bin_start": 4.6,
            "bin_end": 4.7,
            "count": 0
           },
           {
            "bin_start": 4.7,
            "bin_end": 4.8,
            "count": 0
           },
           {
            "bin_start": 4.8,
            "bin_end": 4.9,
            "count": 0
           },
           {
            "bin_start": 4.9,
            "bin_end": 5,
            "count": 1
           }
          ]
         }
        },
        {
         "name": "#sat+sun",
         "dtype": "int64",
         "stats": {
          "unique_count": 2,
          "nan_count": 0,
          "min": "8",
          "max": "10",
          "histogram": [
           {
            "bin_start": 8,
            "bin_end": 8.2,
            "count": 4
           },
           {
            "bin_start": 8.2,
            "bin_end": 8.4,
            "count": 0
           },
           {
            "bin_start": 8.4,
            "bin_end": 8.6,
            "count": 0
           },
           {
            "bin_start": 8.6,
            "bin_end": 8.8,
            "count": 0
           },
           {
            "bin_start": 8.8,
            "bin_end": 9,
            "count": 0
           },
           {
            "bin_start": 9,
            "bin_end": 9.2,
            "count": 0
           },
           {
            "bin_start": 9.2,
            "bin_end": 9.4,
            "count": 0
           },
           {
            "bin_start": 9.4,
            "bin_end": 9.6,
            "count": 0
           },
           {
            "bin_start": 9.6,
            "bin_end": 9.8,
            "count": 0
           },
           {
            "bin_start": 9.8,
            "bin_end": 10,
            "count": 1
           }
          ]
         }
        },
        {
         "name": "#days",
         "dtype": "int64",
         "stats": {
          "unique_count": 3,
          "nan_count": 0,
          "min": "28",
          "max": "31",
          "histogram": [
           {
            "bin_start": 28,
            "bin_end": 28.3,
            "count": 1
           },
           {
            "bin_start": 28.3,
            "bin_end": 28.6,
            "count": 0
           },
           {
            "bin_start": 28.6,
            "bin_end": 28.9,
            "count": 0
           },
           {
            "bin_start": 28.9,
            "bin_end": 29.2,
            "count": 0
           },
           {
            "bin_start": 29.2,
            "bin_end": 29.5,
            "count": 0
           },
           {
            "bin_start": 29.5,
            "bin_end": 29.8,
            "count": 0
           },
           {
            "bin_start": 29.8,
            "bin_end": 30.1,
            "count": 1
           },
           {
            "bin_start": 30.1,
            "bin_end": 30.4,
            "count": 0
           },
           {
            "bin_start": 30.4,
            "bin_end": 30.7,
            "count": 0
           },
           {
            "bin_start": 30.7,
            "bin_end": 31,
            "count": 3
           }
          ]
         }
        },
        {
         "name": "date_block_num",
         "dtype": "int64",
         "stats": {
          "unique_count": 5,
          "nan_count": 0,
          "min": "0",
          "max": "4",
          "histogram": [
           {
            "bin_start": 0,
            "bin_end": 0.4,
            "count": 1
           },
           {
            "bin_start": 0.4,
            "bin_end": 0.8,
            "count": 0
           },
           {
            "bin_start": 0.8,
            "bin_end": 1.2000000000000002,
            "count": 1
           },
           {
            "bin_start": 1.2000000000000002,
            "bin_end": 1.6,
            "count": 0
           },
           {
            "bin_start": 1.6,
            "bin_end": 2,
            "count": 0
           },
           {
            "bin_start": 2,
            "bin_end": 2.4000000000000004,
            "count": 1
           },
           {
            "bin_start": 2.4000000000000004,
            "bin_end": 2.8000000000000003,
            "count": 0
           },
           {
            "bin_start": 2.8000000000000003,
            "bin_end": 3.2,
            "count": 1
           },
           {
            "bin_start": 3.2,
            "bin_end": 3.6,
            "count": 0
           },
           {
            "bin_start": 3.6,
            "bin_end": 4,
            "count": 1
           }
          ]
         }
        },
        {
         "name": "_deepnote_index_column",
         "dtype": "int64"
        }
       ],
       "rows_top": [
        {
         "#mon": 4,
         "#tue": 5,
         "#wed": 5,
         "#thu": 5,
         "#fri": 4,
         "#sat": 4,
         "#sun": 4,
         "#sat+sun": 8,
         "#days": 31,
         "date_block_num": 0,
         "_deepnote_index_column": 0
        },
        {
         "#mon": 4,
         "#tue": 4,
         "#wed": 4,
         "#thu": 4,
         "#fri": 4,
         "#sat": 4,
         "#sun": 4,
         "#sat+sun": 8,
         "#days": 28,
         "date_block_num": 1,
         "_deepnote_index_column": 1
        },
        {
         "#mon": 4,
         "#tue": 4,
         "#wed": 4,
         "#thu": 4,
         "#fri": 5,
         "#sat": 5,
         "#sun": 5,
         "#sat+sun": 10,
         "#days": 31,
         "date_block_num": 2,
         "_deepnote_index_column": 2
        },
        {
         "#mon": 5,
         "#tue": 5,
         "#wed": 4,
         "#thu": 4,
         "#fri": 4,
         "#sat": 4,
         "#sun": 4,
         "#sat+sun": 8,
         "#days": 30,
         "date_block_num": 3,
         "_deepnote_index_column": 3
        },
        {
         "#mon": 4,
         "#tue": 4,
         "#wed": 5,
         "#thu": 5,
         "#fri": 5,
         "#sat": 4,
         "#sun": 4,
         "#sat+sun": 8,
         "#days": 31,
         "date_block_num": 4,
         "_deepnote_index_column": 4
        }
       ],
       "rows_bottom": null
      },
      "text/plain": "                #mon  #tue  #wed  #thu  #fri  #sat  #sun  #sat+sun  #days  \\\ndate_block_num                                                              \n0                  4     5     5     5     4     4     4         8     31   \n1                  4     4     4     4     4     4     4         8     28   \n2                  4     4     4     4     5     5     5        10     31   \n3                  5     5     4     4     4     4     4         8     30   \n4                  4     4     5     5     5     4     4         8     31   \n\n                date_block_num  \ndate_block_num                  \n0                            0  \n1                            1  \n2                            2  \n3                            3  \n4                            4  ",
      "text/html": "<div>\n<style scoped>\n    .dataframe tbody tr th:only-of-type {\n        vertical-align: middle;\n    }\n\n    .dataframe tbody tr th {\n        vertical-align: top;\n    }\n\n    .dataframe thead th {\n        text-align: right;\n    }\n</style>\n<table border=\"1\" class=\"dataframe\">\n  <thead>\n    <tr style=\"text-align: right;\">\n      <th></th>\n      <th>#mon</th>\n      <th>#tue</th>\n      <th>#wed</th>\n      <th>#thu</th>\n      <th>#fri</th>\n      <th>#sat</th>\n      <th>#sun</th>\n      <th>#sat+sun</th>\n      <th>#days</th>\n      <th>date_block_num</th>\n    </tr>\n    <tr>\n      <th>date_block_num</th>\n      <th></th>\n      <th></th>\n      <th></th>\n      <th></th>\n      <th></th>\n      <th></th>\n      <th></th>\n      <th></th>\n      <th></th>\n      <th></th>\n    </tr>\n  </thead>\n  <tbody>\n    <tr>\n      <th>0</th>\n      <td>4</td>\n      <td>5</td>\n      <td>5</td>\n      <td>5</td>\n      <td>4</td>\n      <td>4</td>\n      <td>4</td>\n      <td>8</td>\n      <td>31</td>\n      <td>0</td>\n    </tr>\n    <tr>\n      <th>1</th>\n      <td>4</td>\n      <td>4</td>\n      <td>4</td>\n      <td>4</td>\n      <td>4</td>\n      <td>4</td>\n      <td>4</td>\n      <td>8</td>\n      <td>28</td>\n      <td>1</td>\n    </tr>\n    <tr>\n      <th>2</th>\n      <td>4</td>\n      <td>4</td>\n      <td>4</td>\n      <td>4</td>\n      <td>5</td>\n      <td>5</td>\n      <td>5</td>\n      <td>10</td>\n      <td>31</td>\n      <td>2</td>\n    </tr>\n    <tr>\n      <th>3</th>\n      <td>5</td>\n      <td>5</td>\n      <td>4</td>\n      <td>4</td>\n      <td>4</td>\n      <td>4</td>\n      <td>4</td>\n      <td>8</td>\n      <td>30</td>\n      <td>3</td>\n    </tr>\n    <tr>\n      <th>4</th>\n      <td>4</td>\n      <td>4</td>\n      <td>5</td>\n      <td>5</td>\n      <td>5</td>\n      <td>4</td>\n      <td>4</td>\n      <td>8</td>\n      <td>31</td>\n      <td>4</td>\n    </tr>\n  </tbody>\n</table>\n</div>"
     },
     "metadata": {}
    }
   ]
  },
  {
   "cell_type": "markdown",
   "source": "** Merging Time and Sales Data **",
   "metadata": {
    "tags": [],
    "cell_id": "00068-b6c0b46d-3451-4bac-a556-906d85d573ed",
    "deepnote_cell_type": "markdown"
   }
  },
  {
   "cell_type": "code",
   "metadata": {
    "tags": [],
    "cell_id": "00070-44e2b852-289a-4439-8e22-d297c8d06df3",
    "deepnote_to_be_reexecuted": false,
    "source_hash": "4e9c5305",
    "execution_start": 1620934977779,
    "execution_millis": 427,
    "deepnote_cell_type": "code"
   },
   "source": "months=months.reset_index(drop=True)\ndf=pd.merge(df, months, on=[\"date_block_num\"])\ndf.head()",
   "execution_count": null,
   "outputs": [
    {
     "output_type": "execute_result",
     "execution_count": 38,
     "data": {
      "application/vnd.deepnote.dataframe.v2+json": {
       "row_count": 5,
       "column_count": 15,
       "columns": [
        {
         "name": "date",
         "dtype": "datetime64[ns]",
         "stats": {
          "unique_count": 5,
          "nan_count": 0,
          "min": "2013-01-02 00:00:00",
          "max": "2013-01-15 00:00:00",
          "histogram": [
           {
            "bin_start": 1357084800000000000,
            "bin_end": 1357197120000000000,
            "count": 2
           },
           {
            "bin_start": 1357197120000000000,
            "bin_end": 1357309440000000000,
            "count": 0
           },
           {
            "bin_start": 1357309440000000000,
            "bin_end": 1357421760000000000,
            "count": 1
           },
           {
            "bin_start": 1357421760000000000,
            "bin_end": 1357534080000000000,
            "count": 1
           },
           {
            "bin_start": 1357534080000000000,
            "bin_end": 1357646400000000000,
            "count": 0
           },
           {
            "bin_start": 1357646400000000000,
            "bin_end": 1357758720000000000,
            "count": 0
           },
           {
            "bin_start": 1357758720000000000,
            "bin_end": 1357871040000000000,
            "count": 0
           },
           {
            "bin_start": 1357871040000000000,
            "bin_end": 1357983360000000000,
            "count": 0
           },
           {
            "bin_start": 1357983360000000000,
            "bin_end": 1358095680000000000,
            "count": 0
           },
           {
            "bin_start": 1358095680000000000,
            "bin_end": 1358208000000000000,
            "count": 1
           }
          ]
         }
        },
        {
         "name": "date_block_num",
         "dtype": "int64",
         "stats": {
          "unique_count": 1,
          "nan_count": 0,
          "min": "0",
          "max": "0",
          "histogram": [
           {
            "bin_start": -0.5,
            "bin_end": -0.4,
            "count": 0
           },
           {
            "bin_start": -0.4,
            "bin_end": -0.3,
            "count": 0
           },
           {
            "bin_start": -0.3,
            "bin_end": -0.19999999999999996,
            "count": 0
           },
           {
            "bin_start": -0.19999999999999996,
            "bin_end": -0.09999999999999998,
            "count": 0
           },
           {
            "bin_start": -0.09999999999999998,
            "bin_end": 0,
            "count": 0
           },
           {
            "bin_start": 0,
            "bin_end": 0.10000000000000009,
            "count": 5
           },
           {
            "bin_start": 0.10000000000000009,
            "bin_end": 0.20000000000000007,
            "count": 0
           },
           {
            "bin_start": 0.20000000000000007,
            "bin_end": 0.30000000000000004,
            "count": 0
           },
           {
            "bin_start": 0.30000000000000004,
            "bin_end": 0.4,
            "count": 0
           },
           {
            "bin_start": 0.4,
            "bin_end": 0.5,
            "count": 0
           }
          ]
         }
        },
        {
         "name": "shop_id",
         "dtype": "int64",
         "stats": {
          "unique_count": 2,
          "nan_count": 0,
          "min": "25",
          "max": "59",
          "histogram": [
           {
            "bin_start": 25,
            "bin_end": 28.4,
            "count": 4
           },
           {
            "bin_start": 28.4,
            "bin_end": 31.8,
            "count": 0
           },
           {
            "bin_start": 31.8,
            "bin_end": 35.2,
            "count": 0
           },
           {
            "bin_start": 35.2,
            "bin_end": 38.6,
            "count": 0
           },
           {
            "bin_start": 38.6,
            "bin_end": 42,
            "count": 0
           },
           {
            "bin_start": 42,
            "bin_end": 45.4,
            "count": 0
           },
           {
            "bin_start": 45.4,
            "bin_end": 48.8,
            "count": 0
           },
           {
            "bin_start": 48.8,
            "bin_end": 52.2,
            "count": 0
           },
           {
            "bin_start": 52.2,
            "bin_end": 55.599999999999994,
            "count": 0
           },
           {
            "bin_start": 55.599999999999994,
            "bin_end": 59,
            "count": 1
           }
          ]
         }
        },
        {
         "name": "item_id",
         "dtype": "int64",
         "stats": {
          "unique_count": 4,
          "nan_count": 0,
          "min": "2552",
          "max": "22154",
          "histogram": [
           {
            "bin_start": 2552,
            "bin_end": 4512.2,
            "count": 4
           },
           {
            "bin_start": 4512.2,
            "bin_end": 6472.4,
            "count": 0
           },
           {
            "bin_start": 6472.4,
            "bin_end": 8432.6,
            "count": 0
           },
           {
            "bin_start": 8432.6,
            "bin_end": 10392.8,
            "count": 0
           },
           {
            "bin_start": 10392.8,
            "bin_end": 12353,
            "count": 0
           },
           {
            "bin_start": 12353,
            "bin_end": 14313.2,
            "count": 0
           },
           {
            "bin_start": 14313.2,
            "bin_end": 16273.4,
            "count": 0
           },
           {
            "bin_start": 16273.4,
            "bin_end": 18233.6,
            "count": 0
           },
           {
            "bin_start": 18233.6,
            "bin_end": 20193.8,
            "count": 0
           },
           {
            "bin_start": 20193.8,
            "bin_end": 22154,
            "count": 1
           }
          ]
         }
        },
        {
         "name": "item_price",
         "dtype": "float64",
         "stats": {
          "unique_count": 4,
          "nan_count": 0,
          "min": "899.0",
          "max": "1709.05",
          "histogram": [
           {
            "bin_start": 899,
            "bin_end": 980.005,
            "count": 2
           },
           {
            "bin_start": 980.005,
            "bin_end": 1061.01,
            "count": 1
           },
           {
            "bin_start": 1061.01,
            "bin_end": 1142.0149999999999,
            "count": 1
           },
           {
            "bin_start": 1142.0149999999999,
            "bin_end": 1223.02,
            "count": 0
           },
           {
            "bin_start": 1223.02,
            "bin_end": 1304.025,
            "count": 0
           },
           {
            "bin_start": 1304.025,
            "bin_end": 1385.03,
            "count": 0
           },
           {
            "bin_start": 1385.03,
            "bin_end": 1466.0349999999999,
            "count": 0
           },
           {
            "bin_start": 1466.0349999999999,
            "bin_end": 1547.04,
            "count": 0
           },
           {
            "bin_start": 1547.04,
            "bin_end": 1628.045,
            "count": 0
           },
           {
            "bin_start": 1628.045,
            "bin_end": 1709.05,
            "count": 1
           }
          ]
         }
        },
        {
         "name": "item_cnt_day",
         "dtype": "float64",
         "stats": {
          "unique_count": 2,
          "nan_count": 0,
          "min": "-1.0",
          "max": "1.0",
          "histogram": [
           {
            "bin_start": -1,
            "bin_end": -0.8,
            "count": 1
           },
           {
            "bin_start": -0.8,
            "bin_end": -0.6,
            "count": 0
           },
           {
            "bin_start": -0.6,
            "bin_end": -0.3999999999999999,
            "count": 0
           },
           {
            "bin_start": -0.3999999999999999,
            "bin_end": -0.19999999999999996,
            "count": 0
           },
           {
            "bin_start": -0.19999999999999996,
            "bin_end": 0,
            "count": 0
           },
           {
            "bin_start": 0,
            "bin_end": 0.20000000000000018,
            "count": 0
           },
           {
            "bin_start": 0.20000000000000018,
            "bin_end": 0.40000000000000013,
            "count": 0
           },
           {
            "bin_start": 0.40000000000000013,
            "bin_end": 0.6000000000000001,
            "count": 0
           },
           {
            "bin_start": 0.6000000000000001,
            "bin_end": 0.8,
            "count": 0
           },
           {
            "bin_start": 0.8,
            "bin_end": 1,
            "count": 4
           }
          ]
         }
        },
        {
         "name": "#mon",
         "dtype": "int64",
         "stats": {
          "unique_count": 1,
          "nan_count": 0,
          "min": "4",
          "max": "4",
          "histogram": [
           {
            "bin_start": 3.5,
            "bin_end": 3.6,
            "count": 0
           },
           {
            "bin_start": 3.6,
            "bin_end": 3.7,
            "count": 0
           },
           {
            "bin_start": 3.7,
            "bin_end": 3.8,
            "count": 0
           },
           {
            "bin_start": 3.8,
            "bin_end": 3.9,
            "count": 0
           },
           {
            "bin_start": 3.9,
            "bin_end": 4,
            "count": 0
           },
           {
            "bin_start": 4,
            "bin_end": 4.1,
            "count": 5
           },
           {
            "bin_start": 4.1,
            "bin_end": 4.2,
            "count": 0
           },
           {
            "bin_start": 4.2,
            "bin_end": 4.3,
            "count": 0
           },
           {
            "bin_start": 4.3,
            "bin_end": 4.4,
            "count": 0
           },
           {
            "bin_start": 4.4,
            "bin_end": 4.5,
            "count": 0
           }
          ]
         }
        },
        {
         "name": "#tue",
         "dtype": "int64",
         "stats": {
          "unique_count": 1,
          "nan_count": 0,
          "min": "5",
          "max": "5",
          "histogram": [
           {
            "bin_start": 4.5,
            "bin_end": 4.6,
            "count": 0
           },
           {
            "bin_start": 4.6,
            "bin_end": 4.7,
            "count": 0
           },
           {
            "bin_start": 4.7,
            "bin_end": 4.8,
            "count": 0
           },
           {
            "bin_start": 4.8,
            "bin_end": 4.9,
            "count": 0
           },
           {
            "bin_start": 4.9,
            "bin_end": 5,
            "count": 0
           },
           {
            "bin_start": 5,
            "bin_end": 5.1,
            "count": 5
           },
           {
            "bin_start": 5.1,
            "bin_end": 5.2,
            "count": 0
           },
           {
            "bin_start": 5.2,
            "bin_end": 5.3,
            "count": 0
           },
           {
            "bin_start": 5.3,
            "bin_end": 5.4,
            "count": 0
           },
           {
            "bin_start": 5.4,
            "bin_end": 5.5,
            "count": 0
           }
          ]
         }
        },
        {
         "name": "#wed",
         "dtype": "int64",
         "stats": {
          "unique_count": 1,
          "nan_count": 0,
          "min": "5",
          "max": "5",
          "histogram": [
           {
            "bin_start": 4.5,
            "bin_end": 4.6,
            "count": 0
           },
           {
            "bin_start": 4.6,
            "bin_end": 4.7,
            "count": 0
           },
           {
            "bin_start": 4.7,
            "bin_end": 4.8,
            "count": 0
           },
           {
            "bin_start": 4.8,
            "bin_end": 4.9,
            "count": 0
           },
           {
            "bin_start": 4.9,
            "bin_end": 5,
            "count": 0
           },
           {
            "bin_start": 5,
            "bin_end": 5.1,
            "count": 5
           },
           {
            "bin_start": 5.1,
            "bin_end": 5.2,
            "count": 0
           },
           {
            "bin_start": 5.2,
            "bin_end": 5.3,
            "count": 0
           },
           {
            "bin_start": 5.3,
            "bin_end": 5.4,
            "count": 0
           },
           {
            "bin_start": 5.4,
            "bin_end": 5.5,
            "count": 0
           }
          ]
         }
        },
        {
         "name": "#thu",
         "dtype": "int64",
         "stats": {
          "unique_count": 1,
          "nan_count": 0,
          "min": "5",
          "max": "5",
          "histogram": [
           {
            "bin_start": 4.5,
            "bin_end": 4.6,
            "count": 0
           },
           {
            "bin_start": 4.6,
            "bin_end": 4.7,
            "count": 0
           },
           {
            "bin_start": 4.7,
            "bin_end": 4.8,
            "count": 0
           },
           {
            "bin_start": 4.8,
            "bin_end": 4.9,
            "count": 0
           },
           {
            "bin_start": 4.9,
            "bin_end": 5,
            "count": 0
           },
           {
            "bin_start": 5,
            "bin_end": 5.1,
            "count": 5
           },
           {
            "bin_start": 5.1,
            "bin_end": 5.2,
            "count": 0
           },
           {
            "bin_start": 5.2,
            "bin_end": 5.3,
            "count": 0
           },
           {
            "bin_start": 5.3,
            "bin_end": 5.4,
            "count": 0
           },
           {
            "bin_start": 5.4,
            "bin_end": 5.5,
            "count": 0
           }
          ]
         }
        },
        {
         "name": "#fri",
         "dtype": "int64",
         "stats": {
          "unique_count": 1,
          "nan_count": 0,
          "min": "4",
          "max": "4",
          "histogram": [
           {
            "bin_start": 3.5,
            "bin_end": 3.6,
            "count": 0
           },
           {
            "bin_start": 3.6,
            "bin_end": 3.7,
            "count": 0
           },
           {
            "bin_start": 3.7,
            "bin_end": 3.8,
            "count": 0
           },
           {
            "bin_start": 3.8,
            "bin_end": 3.9,
            "count": 0
           },
           {
            "bin_start": 3.9,
            "bin_end": 4,
            "count": 0
           },
           {
            "bin_start": 4,
            "bin_end": 4.1,
            "count": 5
           },
           {
            "bin_start": 4.1,
            "bin_end": 4.2,
            "count": 0
           },
           {
            "bin_start": 4.2,
            "bin_end": 4.3,
            "count": 0
           },
           {
            "bin_start": 4.3,
            "bin_end": 4.4,
            "count": 0
           },
           {
            "bin_start": 4.4,
            "bin_end": 4.5,
            "count": 0
           }
          ]
         }
        },
        {
         "name": "#sat",
         "dtype": "int64",
         "stats": {
          "unique_count": 1,
          "nan_count": 0,
          "min": "4",
          "max": "4",
          "histogram": [
           {
            "bin_start": 3.5,
            "bin_end": 3.6,
            "count": 0
           },
           {
            "bin_start": 3.6,
            "bin_end": 3.7,
            "count": 0
           },
           {
            "bin_start": 3.7,
            "bin_end": 3.8,
            "count": 0
           },
           {
            "bin_start": 3.8,
            "bin_end": 3.9,
            "count": 0
           },
           {
            "bin_start": 3.9,
            "bin_end": 4,
            "count": 0
           },
           {
            "bin_start": 4,
            "bin_end": 4.1,
            "count": 5
           },
           {
            "bin_start": 4.1,
            "bin_end": 4.2,
            "count": 0
           },
           {
            "bin_start": 4.2,
            "bin_end": 4.3,
            "count": 0
           },
           {
            "bin_start": 4.3,
            "bin_end": 4.4,
            "count": 0
           },
           {
            "bin_start": 4.4,
            "bin_end": 4.5,
            "count": 0
           }
          ]
         }
        },
        {
         "name": "#sun",
         "dtype": "int64",
         "stats": {
          "unique_count": 1,
          "nan_count": 0,
          "min": "4",
          "max": "4",
          "histogram": [
           {
            "bin_start": 3.5,
            "bin_end": 3.6,
            "count": 0
           },
           {
            "bin_start": 3.6,
            "bin_end": 3.7,
            "count": 0
           },
           {
            "bin_start": 3.7,
            "bin_end": 3.8,
            "count": 0
           },
           {
            "bin_start": 3.8,
            "bin_end": 3.9,
            "count": 0
           },
           {
            "bin_start": 3.9,
            "bin_end": 4,
            "count": 0
           },
           {
            "bin_start": 4,
            "bin_end": 4.1,
            "count": 5
           },
           {
            "bin_start": 4.1,
            "bin_end": 4.2,
            "count": 0
           },
           {
            "bin_start": 4.2,
            "bin_end": 4.3,
            "count": 0
           },
           {
            "bin_start": 4.3,
            "bin_end": 4.4,
            "count": 0
           },
           {
            "bin_start": 4.4,
            "bin_end": 4.5,
            "count": 0
           }
          ]
         }
        },
        {
         "name": "#sat+sun",
         "dtype": "int64",
         "stats": {
          "unique_count": 1,
          "nan_count": 0,
          "min": "8",
          "max": "8",
          "histogram": [
           {
            "bin_start": 7.5,
            "bin_end": 7.6,
            "count": 0
           },
           {
            "bin_start": 7.6,
            "bin_end": 7.7,
            "count": 0
           },
           {
            "bin_start": 7.7,
            "bin_end": 7.8,
            "count": 0
           },
           {
            "bin_start": 7.8,
            "bin_end": 7.9,
            "count": 0
           },
           {
            "bin_start": 7.9,
            "bin_end": 8,
            "count": 0
           },
           {
            "bin_start": 8,
            "bin_end": 8.1,
            "count": 5
           },
           {
            "bin_start": 8.1,
            "bin_end": 8.2,
            "count": 0
           },
           {
            "bin_start": 8.2,
            "bin_end": 8.3,
            "count": 0
           },
           {
            "bin_start": 8.3,
            "bin_end": 8.4,
            "count": 0
           },
           {
            "bin_start": 8.4,
            "bin_end": 8.5,
            "count": 0
           }
          ]
         }
        },
        {
         "name": "#days",
         "dtype": "int64",
         "stats": {
          "unique_count": 1,
          "nan_count": 0,
          "min": "31",
          "max": "31",
          "histogram": [
           {
            "bin_start": 30.5,
            "bin_end": 30.6,
            "count": 0
           },
           {
            "bin_start": 30.6,
            "bin_end": 30.7,
            "count": 0
           },
           {
            "bin_start": 30.7,
            "bin_end": 30.8,
            "count": 0
           },
           {
            "bin_start": 30.8,
            "bin_end": 30.9,
            "count": 0
           },
           {
            "bin_start": 30.9,
            "bin_end": 31,
            "count": 0
           },
           {
            "bin_start": 31,
            "bin_end": 31.1,
            "count": 5
           },
           {
            "bin_start": 31.1,
            "bin_end": 31.2,
            "count": 0
           },
           {
            "bin_start": 31.2,
            "bin_end": 31.3,
            "count": 0
           },
           {
            "bin_start": 31.3,
            "bin_end": 31.4,
            "count": 0
           },
           {
            "bin_start": 31.4,
            "bin_end": 31.5,
            "count": 0
           }
          ]
         }
        },
        {
         "name": "_deepnote_index_column",
         "dtype": "int64"
        }
       ],
       "rows_top": [
        {
         "date": "2013-01-02T00:00:00.000000",
         "date_block_num": 0,
         "shop_id": 59,
         "item_id": 22154,
         "item_price": 999,
         "item_cnt_day": 1,
         "#mon": 4,
         "#tue": 5,
         "#wed": 5,
         "#thu": 5,
         "#fri": 4,
         "#sat": 4,
         "#sun": 4,
         "#sat+sun": 8,
         "#days": 31,
         "_deepnote_index_column": 0
        },
        {
         "date": "2013-01-03T00:00:00.000000",
         "date_block_num": 0,
         "shop_id": 25,
         "item_id": 2552,
         "item_price": 899,
         "item_cnt_day": 1,
         "#mon": 4,
         "#tue": 5,
         "#wed": 5,
         "#thu": 5,
         "#fri": 4,
         "#sat": 4,
         "#sun": 4,
         "#sat+sun": 8,
         "#days": 31,
         "_deepnote_index_column": 1
        },
        {
         "date": "2013-01-05T00:00:00.000000",
         "date_block_num": 0,
         "shop_id": 25,
         "item_id": 2552,
         "item_price": 899,
         "item_cnt_day": -1,
         "#mon": 4,
         "#tue": 5,
         "#wed": 5,
         "#thu": 5,
         "#fri": 4,
         "#sat": 4,
         "#sun": 4,
         "#sat+sun": 8,
         "#days": 31,
         "_deepnote_index_column": 2
        },
        {
         "date": "2013-01-06T00:00:00.000000",
         "date_block_num": 0,
         "shop_id": 25,
         "item_id": 2554,
         "item_price": 1709.05,
         "item_cnt_day": 1,
         "#mon": 4,
         "#tue": 5,
         "#wed": 5,
         "#thu": 5,
         "#fri": 4,
         "#sat": 4,
         "#sun": 4,
         "#sat+sun": 8,
         "#days": 31,
         "_deepnote_index_column": 3
        },
        {
         "date": "2013-01-15T00:00:00.000000",
         "date_block_num": 0,
         "shop_id": 25,
         "item_id": 2555,
         "item_price": 1099,
         "item_cnt_day": 1,
         "#mon": 4,
         "#tue": 5,
         "#wed": 5,
         "#thu": 5,
         "#fri": 4,
         "#sat": 4,
         "#sun": 4,
         "#sat+sun": 8,
         "#days": 31,
         "_deepnote_index_column": 4
        }
       ],
       "rows_bottom": null
      },
      "text/plain": "        date  date_block_num  shop_id  item_id  item_price  item_cnt_day  \\\n0 2013-01-02               0       59    22154      999.00           1.0   \n1 2013-01-03               0       25     2552      899.00           1.0   \n2 2013-01-05               0       25     2552      899.00          -1.0   \n3 2013-01-06               0       25     2554     1709.05           1.0   \n4 2013-01-15               0       25     2555     1099.00           1.0   \n\n   #mon  #tue  #wed  #thu  #fri  #sat  #sun  #sat+sun  #days  \n0     4     5     5     5     4     4     4         8     31  \n1     4     5     5     5     4     4     4         8     31  \n2     4     5     5     5     4     4     4         8     31  \n3     4     5     5     5     4     4     4         8     31  \n4     4     5     5     5     4     4     4         8     31  ",
      "text/html": "<div>\n<style scoped>\n    .dataframe tbody tr th:only-of-type {\n        vertical-align: middle;\n    }\n\n    .dataframe tbody tr th {\n        vertical-align: top;\n    }\n\n    .dataframe thead th {\n        text-align: right;\n    }\n</style>\n<table border=\"1\" class=\"dataframe\">\n  <thead>\n    <tr style=\"text-align: right;\">\n      <th></th>\n      <th>date</th>\n      <th>date_block_num</th>\n      <th>shop_id</th>\n      <th>item_id</th>\n      <th>item_price</th>\n      <th>item_cnt_day</th>\n      <th>#mon</th>\n      <th>#tue</th>\n      <th>#wed</th>\n      <th>#thu</th>\n      <th>#fri</th>\n      <th>#sat</th>\n      <th>#sun</th>\n      <th>#sat+sun</th>\n      <th>#days</th>\n    </tr>\n  </thead>\n  <tbody>\n    <tr>\n      <th>0</th>\n      <td>2013-01-02</td>\n      <td>0</td>\n      <td>59</td>\n      <td>22154</td>\n      <td>999.00</td>\n      <td>1.0</td>\n      <td>4</td>\n      <td>5</td>\n      <td>5</td>\n      <td>5</td>\n      <td>4</td>\n      <td>4</td>\n      <td>4</td>\n      <td>8</td>\n      <td>31</td>\n    </tr>\n    <tr>\n      <th>1</th>\n      <td>2013-01-03</td>\n      <td>0</td>\n      <td>25</td>\n      <td>2552</td>\n      <td>899.00</td>\n      <td>1.0</td>\n      <td>4</td>\n      <td>5</td>\n      <td>5</td>\n      <td>5</td>\n      <td>4</td>\n      <td>4</td>\n      <td>4</td>\n      <td>8</td>\n      <td>31</td>\n    </tr>\n    <tr>\n      <th>2</th>\n      <td>2013-01-05</td>\n      <td>0</td>\n      <td>25</td>\n      <td>2552</td>\n      <td>899.00</td>\n      <td>-1.0</td>\n      <td>4</td>\n      <td>5</td>\n      <td>5</td>\n      <td>5</td>\n      <td>4</td>\n      <td>4</td>\n      <td>4</td>\n      <td>8</td>\n      <td>31</td>\n    </tr>\n    <tr>\n      <th>3</th>\n      <td>2013-01-06</td>\n      <td>0</td>\n      <td>25</td>\n      <td>2554</td>\n      <td>1709.05</td>\n      <td>1.0</td>\n      <td>4</td>\n      <td>5</td>\n      <td>5</td>\n      <td>5</td>\n      <td>4</td>\n      <td>4</td>\n      <td>4</td>\n      <td>8</td>\n      <td>31</td>\n    </tr>\n    <tr>\n      <th>4</th>\n      <td>2013-01-15</td>\n      <td>0</td>\n      <td>25</td>\n      <td>2555</td>\n      <td>1099.00</td>\n      <td>1.0</td>\n      <td>4</td>\n      <td>5</td>\n      <td>5</td>\n      <td>5</td>\n      <td>4</td>\n      <td>4</td>\n      <td>4</td>\n      <td>8</td>\n      <td>31</td>\n    </tr>\n  </tbody>\n</table>\n</div>"
     },
     "metadata": {}
    }
   ]
  },
  {
   "cell_type": "markdown",
   "source": "** Removing shops which don't appear in the test set **",
   "metadata": {
    "tags": [],
    "cell_id": "00072-188935fe-a5b1-4d16-9006-70a6983f6d69",
    "deepnote_cell_type": "markdown"
   }
  },
  {
   "cell_type": "code",
   "metadata": {
    "tags": [],
    "cell_id": "00072-9b450b33-b865-4c63-993e-aa8cff776a5c",
    "deepnote_to_be_reexecuted": false,
    "source_hash": "e1cf787d",
    "execution_start": 1620934978202,
    "execution_millis": 424,
    "deepnote_cell_type": "code"
   },
   "source": "df = df[df['shop_id'].isin(df_test.shop_id.unique())]\n",
   "execution_count": null,
   "outputs": []
  },
  {
   "cell_type": "markdown",
   "source": "** Merging Item Category Data and Sales Data **",
   "metadata": {
    "tags": [],
    "cell_id": "00075-4e275cf5-0435-49c7-a22a-637ccab1389a",
    "deepnote_cell_type": "markdown"
   }
  },
  {
   "cell_type": "code",
   "metadata": {
    "tags": [],
    "cell_id": "00075-eb8ea6c2-ba47-4e61-b5fe-30d9f123e9ae",
    "deepnote_to_be_reexecuted": false,
    "source_hash": "2dda9dde",
    "execution_start": 1620934978632,
    "execution_millis": 3226,
    "deepnote_cell_type": "code"
   },
   "source": "df=pd.merge(df, df_new_items, on=[\"item_id\"])\ndf=pd.merge(df, df_new_shop, on=[\"shop_id\"])\ndf.head()",
   "execution_count": null,
   "outputs": [
    {
     "output_type": "execute_result",
     "execution_count": 40,
     "data": {
      "application/vnd.deepnote.dataframe.v2+json": {
       "row_count": 5,
       "column_count": 27,
       "columns": [
        {
         "name": "date",
         "dtype": "datetime64[ns]",
         "stats": {
          "unique_count": 5,
          "nan_count": 0,
          "min": "2013-01-02 00:00:00",
          "max": "2013-05-16 00:00:00",
          "histogram": [
           {
            "bin_start": 1357084800000000000,
            "bin_end": 1358242560000000000,
            "count": 2
           },
           {
            "bin_start": 1358242560000000000,
            "bin_end": 1359400320000000000,
            "count": 1
           },
           {
            "bin_start": 1359400320000000000,
            "bin_end": 1360558080000000000,
            "count": 0
           },
           {
            "bin_start": 1360558080000000000,
            "bin_end": 1361715840000000000,
            "count": 1
           },
           {
            "bin_start": 1361715840000000000,
            "bin_end": 1362873600000000000,
            "count": 0
           },
           {
            "bin_start": 1362873600000000000,
            "bin_end": 1364031360000000000,
            "count": 0
           },
           {
            "bin_start": 1364031360000000000,
            "bin_end": 1365189120000000000,
            "count": 0
           },
           {
            "bin_start": 1365189120000000000,
            "bin_end": 1366346880000000000,
            "count": 0
           },
           {
            "bin_start": 1366346880000000000,
            "bin_end": 1367504640000000000,
            "count": 0
           },
           {
            "bin_start": 1367504640000000000,
            "bin_end": 1368662400000000000,
            "count": 1
           }
          ]
         }
        },
        {
         "name": "date_block_num",
         "dtype": "int64",
         "stats": {
          "unique_count": 3,
          "nan_count": 0,
          "min": "0",
          "max": "4",
          "histogram": [
           {
            "bin_start": 0,
            "bin_end": 0.4,
            "count": 3
           },
           {
            "bin_start": 0.4,
            "bin_end": 0.8,
            "count": 0
           },
           {
            "bin_start": 0.8,
            "bin_end": 1.2000000000000002,
            "count": 1
           },
           {
            "bin_start": 1.2000000000000002,
            "bin_end": 1.6,
            "count": 0
           },
           {
            "bin_start": 1.6,
            "bin_end": 2,
            "count": 0
           },
           {
            "bin_start": 2,
            "bin_end": 2.4000000000000004,
            "count": 0
           },
           {
            "bin_start": 2.4000000000000004,
            "bin_end": 2.8000000000000003,
            "count": 0
           },
           {
            "bin_start": 2.8000000000000003,
            "bin_end": 3.2,
            "count": 0
           },
           {
            "bin_start": 3.2,
            "bin_end": 3.6,
            "count": 0
           },
           {
            "bin_start": 3.6,
            "bin_end": 4,
            "count": 1
           }
          ]
         }
        },
        {
         "name": "shop_id",
         "dtype": "int64",
         "stats": {
          "unique_count": 1,
          "nan_count": 0,
          "min": "59",
          "max": "59",
          "histogram": [
           {
            "bin_start": 58.5,
            "bin_end": 58.6,
            "count": 0
           },
           {
            "bin_start": 58.6,
            "bin_end": 58.7,
            "count": 0
           },
           {
            "bin_start": 58.7,
            "bin_end": 58.8,
            "count": 0
           },
           {
            "bin_start": 58.8,
            "bin_end": 58.9,
            "count": 0
           },
           {
            "bin_start": 58.9,
            "bin_end": 59,
            "count": 0
           },
           {
            "bin_start": 59,
            "bin_end": 59.1,
            "count": 5
           },
           {
            "bin_start": 59.1,
            "bin_end": 59.2,
            "count": 0
           },
           {
            "bin_start": 59.2,
            "bin_end": 59.3,
            "count": 0
           },
           {
            "bin_start": 59.3,
            "bin_end": 59.4,
            "count": 0
           },
           {
            "bin_start": 59.4,
            "bin_end": 59.5,
            "count": 0
           }
          ]
         }
        },
        {
         "name": "item_id",
         "dtype": "int64",
         "stats": {
          "unique_count": 3,
          "nan_count": 0,
          "min": "2573",
          "max": "22154",
          "histogram": [
           {
            "bin_start": 2573,
            "bin_end": 4531.1,
            "count": 4
           },
           {
            "bin_start": 4531.1,
            "bin_end": 6489.2,
            "count": 0
           },
           {
            "bin_start": 6489.2,
            "bin_end": 8447.3,
            "count": 0
           },
           {
            "bin_start": 8447.3,
            "bin_end": 10405.4,
            "count": 0
           },
           {
            "bin_start": 10405.4,
            "bin_end": 12363.5,
            "count": 0
           },
           {
            "bin_start": 12363.5,
            "bin_end": 14321.599999999999,
            "count": 0
           },
           {
            "bin_start": 14321.599999999999,
            "bin_end": 16279.699999999999,
            "count": 0
           },
           {
            "bin_start": 16279.699999999999,
            "bin_end": 18237.8,
            "count": 0
           },
           {
            "bin_start": 18237.8,
            "bin_end": 20195.899999999998,
            "count": 0
           },
           {
            "bin_start": 20195.899999999998,
            "bin_end": 22154,
            "count": 1
           }
          ]
         }
        },
        {
         "name": "item_price",
         "dtype": "float64",
         "stats": {
          "unique_count": 3,
          "nan_count": 0,
          "min": "249.0",
          "max": "999.0",
          "histogram": [
           {
            "bin_start": 249,
            "bin_end": 324,
            "count": 1
           },
           {
            "bin_start": 324,
            "bin_end": 399,
            "count": 0
           },
           {
            "bin_start": 399,
            "bin_end": 474,
            "count": 3
           },
           {
            "bin_start": 474,
            "bin_end": 549,
            "count": 0
           },
           {
            "bin_start": 549,
            "bin_end": 624,
            "count": 0
           },
           {
            "bin_start": 624,
            "bin_end": 699,
            "count": 0
           },
           {
            "bin_start": 699,
            "bin_end": 774,
            "count": 0
           },
           {
            "bin_start": 774,
            "bin_end": 849,
            "count": 0
           },
           {
            "bin_start": 849,
            "bin_end": 924,
            "count": 0
           },
           {
            "bin_start": 924,
            "bin_end": 999,
            "count": 1
           }
          ]
         }
        },
        {
         "name": "item_cnt_day",
         "dtype": "float64",
         "stats": {
          "unique_count": 1,
          "nan_count": 0,
          "min": "1.0",
          "max": "1.0",
          "histogram": [
           {
            "bin_start": 0.5,
            "bin_end": 0.6,
            "count": 0
           },
           {
            "bin_start": 0.6,
            "bin_end": 0.7,
            "count": 0
           },
           {
            "bin_start": 0.7,
            "bin_end": 0.8,
            "count": 0
           },
           {
            "bin_start": 0.8,
            "bin_end": 0.9,
            "count": 0
           },
           {
            "bin_start": 0.9,
            "bin_end": 1,
            "count": 0
           },
           {
            "bin_start": 1,
            "bin_end": 1.1,
            "count": 5
           },
           {
            "bin_start": 1.1,
            "bin_end": 1.2000000000000002,
            "count": 0
           },
           {
            "bin_start": 1.2000000000000002,
            "bin_end": 1.3,
            "count": 0
           },
           {
            "bin_start": 1.3,
            "bin_end": 1.4,
            "count": 0
           },
           {
            "bin_start": 1.4,
            "bin_end": 1.5,
            "count": 0
           }
          ]
         }
        },
        {
         "name": "#mon",
         "dtype": "int64",
         "stats": {
          "unique_count": 1,
          "nan_count": 0,
          "min": "4",
          "max": "4",
          "histogram": [
           {
            "bin_start": 3.5,
            "bin_end": 3.6,
            "count": 0
           },
           {
            "bin_start": 3.6,
            "bin_end": 3.7,
            "count": 0
           },
           {
            "bin_start": 3.7,
            "bin_end": 3.8,
            "count": 0
           },
           {
            "bin_start": 3.8,
            "bin_end": 3.9,
            "count": 0
           },
           {
            "bin_start": 3.9,
            "bin_end": 4,
            "count": 0
           },
           {
            "bin_start": 4,
            "bin_end": 4.1,
            "count": 5
           },
           {
            "bin_start": 4.1,
            "bin_end": 4.2,
            "count": 0
           },
           {
            "bin_start": 4.2,
            "bin_end": 4.3,
            "count": 0
           },
           {
            "bin_start": 4.3,
            "bin_end": 4.4,
            "count": 0
           },
           {
            "bin_start": 4.4,
            "bin_end": 4.5,
            "count": 0
           }
          ]
         }
        },
        {
         "name": "#tue",
         "dtype": "int64",
         "stats": {
          "unique_count": 2,
          "nan_count": 0,
          "min": "4",
          "max": "5",
          "histogram": [
           {
            "bin_start": 4,
            "bin_end": 4.1,
            "count": 2
           },
           {
            "bin_start": 4.1,
            "bin_end": 4.2,
            "count": 0
           },
           {
            "bin_start": 4.2,
            "bin_end": 4.3,
            "count": 0
           },
           {
            "bin_start": 4.3,
            "bin_end": 4.4,
            "count": 0
           },
           {
            "bin_start": 4.4,
            "bin_end": 4.5,
            "count": 0
           },
           {
            "bin_start": 4.5,
            "bin_end": 4.6,
            "count": 0
           },
           {
            "bin_start": 4.6,
            "bin_end": 4.7,
            "count": 0
           },
           {
            "bin_start": 4.7,
            "bin_end": 4.8,
            "count": 0
           },
           {
            "bin_start": 4.8,
            "bin_end": 4.9,
            "count": 0
           },
           {
            "bin_start": 4.9,
            "bin_end": 5,
            "count": 3
           }
          ]
         }
        },
        {
         "name": "#wed",
         "dtype": "int64",
         "stats": {
          "unique_count": 2,
          "nan_count": 0,
          "min": "4",
          "max": "5",
          "histogram": [
           {
            "bin_start": 4,
            "bin_end": 4.1,
            "count": 1
           },
           {
            "bin_start": 4.1,
            "bin_end": 4.2,
            "count": 0
           },
           {
            "bin_start": 4.2,
            "bin_end": 4.3,
            "count": 0
           },
           {
            "bin_start": 4.3,
            "bin_end": 4.4,
            "count": 0
           },
           {
            "bin_start": 4.4,
            "bin_end": 4.5,
            "count": 0
           },
           {
            "bin_start": 4.5,
            "bin_end": 4.6,
            "count": 0
           },
           {
            "bin_start": 4.6,
            "bin_end": 4.7,
            "count": 0
           },
           {
            "bin_start": 4.7,
            "bin_end": 4.8,
            "count": 0
           },
           {
            "bin_start": 4.8,
            "bin_end": 4.9,
            "count": 0
           },
           {
            "bin_start": 4.9,
            "bin_end": 5,
            "count": 4
           }
          ]
         }
        },
        {
         "name": "#thu",
         "dtype": "int64",
         "stats": {
          "unique_count": 2,
          "nan_count": 0,
          "min": "4",
          "max": "5",
          "histogram": [
           {
            "bin_start": 4,
            "bin_end": 4.1,
            "count": 1
           },
           {
            "bin_start": 4.1,
            "bin_end": 4.2,
            "count": 0
           },
           {
            "bin_start": 4.2,
            "bin_end": 4.3,
            "count": 0
           },
           {
            "bin_start": 4.3,
            "bin_end": 4.4,
            "count": 0
           },
           {
            "bin_start": 4.4,
            "bin_end": 4.5,
            "count": 0
           },
           {
            "bin_start": 4.5,
            "bin_end": 4.6,
            "count": 0
           },
           {
            "bin_start": 4.6,
            "bin_end": 4.7,
            "count": 0
           },
           {
            "bin_start": 4.7,
            "bin_end": 4.8,
            "count": 0
           },
           {
            "bin_start": 4.8,
            "bin_end": 4.9,
            "count": 0
           },
           {
            "bin_start": 4.9,
            "bin_end": 5,
            "count": 4
           }
          ]
         }
        },
        {
         "name": "#fri",
         "dtype": "int64",
         "stats": {
          "unique_count": 2,
          "nan_count": 0,
          "min": "4",
          "max": "5",
          "histogram": [
           {
            "bin_start": 4,
            "bin_end": 4.1,
            "count": 4
           },
           {
            "bin_start": 4.1,
            "bin_end": 4.2,
            "count": 0
           },
           {
            "bin_start": 4.2,
            "bin_end": 4.3,
            "count": 0
           },
           {
            "bin_start": 4.3,
            "bin_end": 4.4,
            "count": 0
           },
           {
            "bin_start": 4.4,
            "bin_end": 4.5,
            "count": 0
           },
           {
            "bin_start": 4.5,
            "bin_end": 4.6,
            "count": 0
           },
           {
            "bin_start": 4.6,
            "bin_end": 4.7,
            "count": 0
           },
           {
            "bin_start": 4.7,
            "bin_end": 4.8,
            "count": 0
           },
           {
            "bin_start": 4.8,
            "bin_end": 4.9,
            "count": 0
           },
           {
            "bin_start": 4.9,
            "bin_end": 5,
            "count": 1
           }
          ]
         }
        },
        {
         "name": "#sat",
         "dtype": "int64",
         "stats": {
          "unique_count": 1,
          "nan_count": 0,
          "min": "4",
          "max": "4",
          "histogram": [
           {
            "bin_start": 3.5,
            "bin_end": 3.6,
            "count": 0
           },
           {
            "bin_start": 3.6,
            "bin_end": 3.7,
            "count": 0
           },
           {
            "bin_start": 3.7,
            "bin_end": 3.8,
            "count": 0
           },
           {
            "bin_start": 3.8,
            "bin_end": 3.9,
            "count": 0
           },
           {
            "bin_start": 3.9,
            "bin_end": 4,
            "count": 0
           },
           {
            "bin_start": 4,
            "bin_end": 4.1,
            "count": 5
           },
           {
            "bin_start": 4.1,
            "bin_end": 4.2,
            "count": 0
           },
           {
            "bin_start": 4.2,
            "bin_end": 4.3,
            "count": 0
           },
           {
            "bin_start": 4.3,
            "bin_end": 4.4,
            "count": 0
           },
           {
            "bin_start": 4.4,
            "bin_end": 4.5,
            "count": 0
           }
          ]
         }
        },
        {
         "name": "#sun",
         "dtype": "int64",
         "stats": {
          "unique_count": 1,
          "nan_count": 0,
          "min": "4",
          "max": "4",
          "histogram": [
           {
            "bin_start": 3.5,
            "bin_end": 3.6,
            "count": 0
           },
           {
            "bin_start": 3.6,
            "bin_end": 3.7,
            "count": 0
           },
           {
            "bin_start": 3.7,
            "bin_end": 3.8,
            "count": 0
           },
           {
            "bin_start": 3.8,
            "bin_end": 3.9,
            "count": 0
           },
           {
            "bin_start": 3.9,
            "bin_end": 4,
            "count": 0
           },
           {
            "bin_start": 4,
            "bin_end": 4.1,
            "count": 5
           },
           {
            "bin_start": 4.1,
            "bin_end": 4.2,
            "count": 0
           },
           {
            "bin_start": 4.2,
            "bin_end": 4.3,
            "count": 0
           },
           {
            "bin_start": 4.3,
            "bin_end": 4.4,
            "count": 0
           },
           {
            "bin_start": 4.4,
            "bin_end": 4.5,
            "count": 0
           }
          ]
         }
        },
        {
         "name": "#sat+sun",
         "dtype": "int64",
         "stats": {
          "unique_count": 1,
          "nan_count": 0,
          "min": "8",
          "max": "8",
          "histogram": [
           {
            "bin_start": 7.5,
            "bin_end": 7.6,
            "count": 0
           },
           {
            "bin_start": 7.6,
            "bin_end": 7.7,
            "count": 0
           },
           {
            "bin_start": 7.7,
            "bin_end": 7.8,
            "count": 0
           },
           {
            "bin_start": 7.8,
            "bin_end": 7.9,
            "count": 0
           },
           {
            "bin_start": 7.9,
            "bin_end": 8,
            "count": 0
           },
           {
            "bin_start": 8,
            "bin_end": 8.1,
            "count": 5
           },
           {
            "bin_start": 8.1,
            "bin_end": 8.2,
            "count": 0
           },
           {
            "bin_start": 8.2,
            "bin_end": 8.3,
            "count": 0
           },
           {
            "bin_start": 8.3,
            "bin_end": 8.4,
            "count": 0
           },
           {
            "bin_start": 8.4,
            "bin_end": 8.5,
            "count": 0
           }
          ]
         }
        },
        {
         "name": "#days",
         "dtype": "int64",
         "stats": {
          "unique_count": 2,
          "nan_count": 0,
          "min": "28",
          "max": "31",
          "histogram": [
           {
            "bin_start": 28,
            "bin_end": 28.3,
            "count": 1
           },
           {
            "bin_start": 28.3,
            "bin_end": 28.6,
            "count": 0
           },
           {
            "bin_start": 28.6,
            "bin_end": 28.9,
            "count": 0
           },
           {
            "bin_start": 28.9,
            "bin_end": 29.2,
            "count": 0
           },
           {
            "bin_start": 29.2,
            "bin_end": 29.5,
            "count": 0
           },
           {
            "bin_start": 29.5,
            "bin_end": 29.8,
            "count": 0
           },
           {
            "bin_start": 29.8,
            "bin_end": 30.1,
            "count": 0
           },
           {
            "bin_start": 30.1,
            "bin_end": 30.4,
            "count": 0
           },
           {
            "bin_start": 30.4,
            "bin_end": 30.7,
            "count": 0
           },
           {
            "bin_start": 30.7,
            "bin_end": 31,
            "count": 4
           }
          ]
         }
        },
        {
         "name": "category_name",
         "dtype": "object",
         "stats": {
          "unique_count": 2,
          "nan_count": 0,
          "categories": [
           {
            "name": " Music - CD of local production",
            "count": 4
           },
           {
            "name": " Cinema - Blu-Ray",
            "count": 1
           }
          ]
         }
        },
        {
         "name": "category_id",
         "dtype": "int64",
         "stats": {
          "unique_count": 2,
          "nan_count": 0,
          "min": "37",
          "max": "55",
          "histogram": [
           {
            "bin_start": 37,
            "bin_end": 38.8,
            "count": 1
           },
           {
            "bin_start": 38.8,
            "bin_end": 40.6,
            "count": 0
           },
           {
            "bin_start": 40.6,
            "bin_end": 42.4,
            "count": 0
           },
           {
            "bin_start": 42.4,
            "bin_end": 44.2,
            "count": 0
           },
           {
            "bin_start": 44.2,
            "bin_end": 46,
            "count": 0
           },
           {
            "bin_start": 46,
            "bin_end": 47.8,
            "count": 0
           },
           {
            "bin_start": 47.8,
            "bin_end": 49.6,
            "count": 0
           },
           {
            "bin_start": 49.6,
            "bin_end": 51.4,
            "count": 0
           },
           {
            "bin_start": 51.4,
            "bin_end": 53.2,
            "count": 0
           },
           {
            "bin_start": 53.2,
            "bin_end": 55,
            "count": 4
           }
          ]
         }
        },
        {
         "name": "main_categories",
         "dtype": "object",
         "stats": {
          "unique_count": 2,
          "nan_count": 0,
          "categories": [
           {
            "name": "Music",
            "count": 4
           },
           {
            "name": "Cinema",
            "count": 1
           }
          ]
         }
        },
        {
         "name": "item_name",
         "dtype": "object",
         "stats": {
          "unique_count": 3,
          "nan_count": 0,
          "categories": [
           {
            "name": "del rey lana  born   die    paradise edition  2cd",
            "count": 3
           },
           {
            "name": "scene 2012  bd",
            "count": 1
           },
           {
            "name": "del rey lana  born   die",
            "count": 1
           }
          ]
         }
        },
        {
         "name": "item_name_first4",
         "dtype": "object",
         "stats": {
          "unique_count": 2,
          "nan_count": 0,
          "categories": [
           {
            "name": "delr",
            "count": 4
           },
           {
            "name": "scen",
            "count": 1
           }
          ]
         }
        },
        {
         "name": "item_name_first6",
         "dtype": "object",
         "stats": {
          "unique_count": 2,
          "nan_count": 0,
          "categories": [
           {
            "name": "delrey",
            "count": 4
           },
           {
            "name": "scene2",
            "count": 1
           }
          ]
         }
        },
        {
         "name": "item_name_first11",
         "dtype": "object",
         "stats": {
          "unique_count": 2,
          "nan_count": 0,
          "categories": [
           {
            "name": "delreylanab",
            "count": 4
           },
           {
            "name": "scene2012bd",
            "count": 1
           }
          ]
         }
        },
        {
         "name": "city",
         "dtype": "object",
         "stats": {
          "unique_count": 1,
          "nan_count": 0,
          "categories": [
           {
            "name": "Yaroslavl",
            "count": 5
           }
          ]
         }
        },
        {
         "name": "capital",
         "dtype": "object",
         "stats": {
          "unique_count": 1,
          "nan_count": 0,
          "categories": [
           {
            "name": "admin",
            "count": 5
           }
          ]
         }
        },
        {
         "name": "population",
         "dtype": "float64",
         "stats": {
          "unique_count": 1,
          "nan_count": 0,
          "min": "608079.0",
          "max": "608079.0",
          "histogram": [
           {
            "bin_start": 608078.5,
            "bin_end": 608078.6,
            "count": 0
           },
           {
            "bin_start": 608078.6,
            "bin_end": 608078.7,
            "count": 0
           },
           {
            "bin_start": 608078.7,
            "bin_end": 608078.8,
            "count": 0
           },
           {
            "bin_start": 608078.8,
            "bin_end": 608078.9,
            "count": 0
           },
           {
            "bin_start": 608078.9,
            "bin_end": 608079,
            "count": 0
           },
           {
            "bin_start": 608079,
            "bin_end": 608079.1,
            "count": 5
           },
           {
            "bin_start": 608079.1,
            "bin_end": 608079.2,
            "count": 0
           },
           {
            "bin_start": 608079.2,
            "bin_end": 608079.3,
            "count": 0
           },
           {
            "bin_start": 608079.3,
            "bin_end": 608079.4,
            "count": 0
           },
           {
            "bin_start": 608079.4,
            "bin_end": 608079.5,
            "count": 0
           }
          ]
         }
        },
        {
         "name": "population_proper",
         "dtype": "float64",
         "stats": {
          "unique_count": 1,
          "nan_count": 0,
          "min": "608079.0",
          "max": "608079.0",
          "histogram": [
           {
            "bin_start": 608078.5,
            "bin_end": 608078.6,
            "count": 0
           },
           {
            "bin_start": 608078.6,
            "bin_end": 608078.7,
            "count": 0
           },
           {
            "bin_start": 608078.7,
            "bin_end": 608078.8,
            "count": 0
           },
           {
            "bin_start": 608078.8,
            "bin_end": 608078.9,
            "count": 0
           },
           {
            "bin_start": 608078.9,
            "bin_end": 608079,
            "count": 0
           },
           {
            "bin_start": 608079,
            "bin_end": 608079.1,
            "count": 5
           },
           {
            "bin_start": 608079.1,
            "bin_end": 608079.2,
            "count": 0
           },
           {
            "bin_start": 608079.2,
            "bin_end": 608079.3,
            "count": 0
           },
           {
            "bin_start": 608079.3,
            "bin_end": 608079.4,
            "count": 0
           },
           {
            "bin_start": 608079.4,
            "bin_end": 608079.5,
            "count": 0
           }
          ]
         }
        },
        {
         "name": "shop_type",
         "dtype": "object",
         "stats": {
          "unique_count": 1,
          "nan_count": 0,
          "categories": [
           {
            "name": "regular",
            "count": 5
           }
          ]
         }
        },
        {
         "name": "_deepnote_index_column",
         "dtype": "int64"
        }
       ],
       "rows_top": [
        {
         "date": "2013-01-02T00:00:00.000000",
         "date_block_num": 0,
         "shop_id": 59,
         "item_id": 22154,
         "item_price": 999,
         "item_cnt_day": 1,
         "#mon": 4,
         "#tue": 5,
         "#wed": 5,
         "#thu": 5,
         "#fri": 4,
         "#sat": 4,
         "#sun": 4,
         "#sat+sun": 8,
         "#days": 31,
         "category_name": " Cinema - Blu-Ray",
         "category_id": 37,
         "main_categories": "Cinema",
         "item_name": "scene 2012  bd",
         "item_name_first4": "scen",
         "item_name_first6": "scene2",
         "item_name_first11": "scene2012bd",
         "city": "Yaroslavl",
         "capital": "admin",
         "population": 608079,
         "population_proper": 608079,
         "shop_type": "regular",
         "_deepnote_index_column": 0
        },
        {
         "date": "2013-05-16T00:00:00.000000",
         "date_block_num": 4,
         "shop_id": 59,
         "item_id": 2573,
         "item_price": 249,
         "item_cnt_day": 1,
         "#mon": 4,
         "#tue": 4,
         "#wed": 5,
         "#thu": 5,
         "#fri": 5,
         "#sat": 4,
         "#sun": 4,
         "#sat+sun": 8,
         "#days": 31,
         "category_name": " Music - CD of local production",
         "category_id": 55,
         "main_categories": "Music",
         "item_name": "del rey lana  born   die",
         "item_name_first4": "delr",
         "item_name_first6": "delrey",
         "item_name_first11": "delreylanab",
         "city": "Yaroslavl",
         "capital": "admin",
         "population": 608079,
         "population_proper": 608079,
         "shop_type": "regular",
         "_deepnote_index_column": 1
        },
        {
         "date": "2013-01-26T00:00:00.000000",
         "date_block_num": 0,
         "shop_id": 59,
         "item_id": 2574,
         "item_price": 399,
         "item_cnt_day": 1,
         "#mon": 4,
         "#tue": 5,
         "#wed": 5,
         "#thu": 5,
         "#fri": 4,
         "#sat": 4,
         "#sun": 4,
         "#sat+sun": 8,
         "#days": 31,
         "category_name": " Music - CD of local production",
         "category_id": 55,
         "main_categories": "Music",
         "item_name": "del rey lana  born   die    paradise edition  2cd",
         "item_name_first4": "delr",
         "item_name_first6": "delrey",
         "item_name_first11": "delreylanab",
         "city": "Yaroslavl",
         "capital": "admin",
         "population": 608079,
         "population_proper": 608079,
         "shop_type": "regular",
         "_deepnote_index_column": 2
        },
        {
         "date": "2013-01-09T00:00:00.000000",
         "date_block_num": 0,
         "shop_id": 59,
         "item_id": 2574,
         "item_price": 399,
         "item_cnt_day": 1,
         "#mon": 4,
         "#tue": 5,
         "#wed": 5,
         "#thu": 5,
         "#fri": 4,
         "#sat": 4,
         "#sun": 4,
         "#sat+sun": 8,
         "#days": 31,
         "category_name": " Music - CD of local production",
         "category_id": 55,
         "main_categories": "Music",
         "item_name": "del rey lana  born   die    paradise edition  2cd",
         "item_name_first4": "delr",
         "item_name_first6": "delrey",
         "item_name_first11": "delreylanab",
         "city": "Yaroslavl",
         "capital": "admin",
         "population": 608079,
         "population_proper": 608079,
         "shop_type": "regular",
         "_deepnote_index_column": 3
        },
        {
         "date": "2013-02-24T00:00:00.000000",
         "date_block_num": 1,
         "shop_id": 59,
         "item_id": 2574,
         "item_price": 399,
         "item_cnt_day": 1,
         "#mon": 4,
         "#tue": 4,
         "#wed": 4,
         "#thu": 4,
         "#fri": 4,
         "#sat": 4,
         "#sun": 4,
         "#sat+sun": 8,
         "#days": 28,
         "category_name": " Music - CD of local production",
         "category_id": 55,
         "main_categories": "Music",
         "item_name": "del rey lana  born   die    paradise edition  2cd",
         "item_name_first4": "delr",
         "item_name_first6": "delrey",
         "item_name_first11": "delreylanab",
         "city": "Yaroslavl",
         "capital": "admin",
         "population": 608079,
         "population_proper": 608079,
         "shop_type": "regular",
         "_deepnote_index_column": 4
        }
       ],
       "rows_bottom": null
      },
      "text/plain": "        date  date_block_num  shop_id  item_id  item_price  item_cnt_day  \\\n0 2013-01-02               0       59    22154       999.0           1.0   \n1 2013-05-16               4       59     2573       249.0           1.0   \n2 2013-01-26               0       59     2574       399.0           1.0   \n3 2013-01-09               0       59     2574       399.0           1.0   \n4 2013-02-24               1       59     2574       399.0           1.0   \n\n   #mon  #tue  #wed  #thu  ...  main_categories  \\\n0     4     5     5     5  ...           Cinema   \n1     4     4     5     5  ...            Music   \n2     4     5     5     5  ...            Music   \n3     4     5     5     5  ...            Music   \n4     4     4     4     4  ...            Music   \n\n                                           item_name  item_name_first4  \\\n0                                     scene 2012  bd              scen   \n1                           del rey lana  born   die              delr   \n2  del rey lana  born   die    paradise edition  2cd              delr   \n3  del rey lana  born   die    paradise edition  2cd              delr   \n4  del rey lana  born   die    paradise edition  2cd              delr   \n\n   item_name_first6  item_name_first11       city  capital population  \\\n0            scene2        scene2012bd  Yaroslavl    admin   608079.0   \n1            delrey        delreylanab  Yaroslavl    admin   608079.0   \n2            delrey        delreylanab  Yaroslavl    admin   608079.0   \n3            delrey        delreylanab  Yaroslavl    admin   608079.0   \n4            delrey        delreylanab  Yaroslavl    admin   608079.0   \n\n  population_proper shop_type  \n0          608079.0   regular  \n1          608079.0   regular  \n2          608079.0   regular  \n3          608079.0   regular  \n4          608079.0   regular  \n\n[5 rows x 27 columns]",
      "text/html": "<div>\n<style scoped>\n    .dataframe tbody tr th:only-of-type {\n        vertical-align: middle;\n    }\n\n    .dataframe tbody tr th {\n        vertical-align: top;\n    }\n\n    .dataframe thead th {\n        text-align: right;\n    }\n</style>\n<table border=\"1\" class=\"dataframe\">\n  <thead>\n    <tr style=\"text-align: right;\">\n      <th></th>\n      <th>date</th>\n      <th>date_block_num</th>\n      <th>shop_id</th>\n      <th>item_id</th>\n      <th>item_price</th>\n      <th>item_cnt_day</th>\n      <th>#mon</th>\n      <th>#tue</th>\n      <th>#wed</th>\n      <th>#thu</th>\n      <th>...</th>\n      <th>main_categories</th>\n      <th>item_name</th>\n      <th>item_name_first4</th>\n      <th>item_name_first6</th>\n      <th>item_name_first11</th>\n      <th>city</th>\n      <th>capital</th>\n      <th>population</th>\n      <th>population_proper</th>\n      <th>shop_type</th>\n    </tr>\n  </thead>\n  <tbody>\n    <tr>\n      <th>0</th>\n      <td>2013-01-02</td>\n      <td>0</td>\n      <td>59</td>\n      <td>22154</td>\n      <td>999.0</td>\n      <td>1.0</td>\n      <td>4</td>\n      <td>5</td>\n      <td>5</td>\n      <td>5</td>\n      <td>...</td>\n      <td>Cinema</td>\n      <td>scene 2012  bd</td>\n      <td>scen</td>\n      <td>scene2</td>\n      <td>scene2012bd</td>\n      <td>Yaroslavl</td>\n      <td>admin</td>\n      <td>608079.0</td>\n      <td>608079.0</td>\n      <td>regular</td>\n    </tr>\n    <tr>\n      <th>1</th>\n      <td>2013-05-16</td>\n      <td>4</td>\n      <td>59</td>\n      <td>2573</td>\n      <td>249.0</td>\n      <td>1.0</td>\n      <td>4</td>\n      <td>4</td>\n      <td>5</td>\n      <td>5</td>\n      <td>...</td>\n      <td>Music</td>\n      <td>del rey lana  born   die</td>\n      <td>delr</td>\n      <td>delrey</td>\n      <td>delreylanab</td>\n      <td>Yaroslavl</td>\n      <td>admin</td>\n      <td>608079.0</td>\n      <td>608079.0</td>\n      <td>regular</td>\n    </tr>\n    <tr>\n      <th>2</th>\n      <td>2013-01-26</td>\n      <td>0</td>\n      <td>59</td>\n      <td>2574</td>\n      <td>399.0</td>\n      <td>1.0</td>\n      <td>4</td>\n      <td>5</td>\n      <td>5</td>\n      <td>5</td>\n      <td>...</td>\n      <td>Music</td>\n      <td>del rey lana  born   die    paradise edition  2cd</td>\n      <td>delr</td>\n      <td>delrey</td>\n      <td>delreylanab</td>\n      <td>Yaroslavl</td>\n      <td>admin</td>\n      <td>608079.0</td>\n      <td>608079.0</td>\n      <td>regular</td>\n    </tr>\n    <tr>\n      <th>3</th>\n      <td>2013-01-09</td>\n      <td>0</td>\n      <td>59</td>\n      <td>2574</td>\n      <td>399.0</td>\n      <td>1.0</td>\n      <td>4</td>\n      <td>5</td>\n      <td>5</td>\n      <td>5</td>\n      <td>...</td>\n      <td>Music</td>\n      <td>del rey lana  born   die    paradise edition  2cd</td>\n      <td>delr</td>\n      <td>delrey</td>\n      <td>delreylanab</td>\n      <td>Yaroslavl</td>\n      <td>admin</td>\n      <td>608079.0</td>\n      <td>608079.0</td>\n      <td>regular</td>\n    </tr>\n    <tr>\n      <th>4</th>\n      <td>2013-02-24</td>\n      <td>1</td>\n      <td>59</td>\n      <td>2574</td>\n      <td>399.0</td>\n      <td>1.0</td>\n      <td>4</td>\n      <td>4</td>\n      <td>4</td>\n      <td>4</td>\n      <td>...</td>\n      <td>Music</td>\n      <td>del rey lana  born   die    paradise edition  2cd</td>\n      <td>delr</td>\n      <td>delrey</td>\n      <td>delreylanab</td>\n      <td>Yaroslavl</td>\n      <td>admin</td>\n      <td>608079.0</td>\n      <td>608079.0</td>\n      <td>regular</td>\n    </tr>\n  </tbody>\n</table>\n<p>5 rows × 27 columns</p>\n</div>"
     },
     "metadata": {}
    }
   ]
  },
  {
   "cell_type": "code",
   "metadata": {
    "tags": [],
    "cell_id": "00076-f9d9cf58-6b78-4664-923c-e93ce8e518c3",
    "deepnote_to_be_reexecuted": false,
    "source_hash": "25d43fa0",
    "execution_start": 1620934981860,
    "execution_millis": 23,
    "deepnote_cell_type": "code"
   },
   "source": "df.columns",
   "execution_count": null,
   "outputs": [
    {
     "output_type": "execute_result",
     "execution_count": 41,
     "data": {
      "text/plain": "Index(['date', 'date_block_num', 'shop_id', 'item_id', 'item_price',\n       'item_cnt_day', '#mon', '#tue', '#wed', '#thu', '#fri', '#sat', '#sun',\n       '#sat+sun', '#days', 'category_name', 'category_id', 'main_categories',\n       'item_name', 'item_name_first4', 'item_name_first6',\n       'item_name_first11', 'city', 'capital', 'population',\n       'population_proper', 'shop_type'],\n      dtype='object')"
     },
     "metadata": {}
    }
   ]
  },
  {
   "cell_type": "code",
   "metadata": {
    "tags": [],
    "cell_id": "00078-22e54501-5f64-4860-8e07-88bcf0b2b24d",
    "deepnote_to_be_reexecuted": false,
    "source_hash": "389e6aaf",
    "execution_start": 1620934981873,
    "execution_millis": 1093,
    "deepnote_cell_type": "code"
   },
   "source": "cat_vars = ['shop_id', 'item_id','category_name', 'category_id', 'main_categories',\n    'item_name_first4', 'item_name_first6',\n    'item_name_first11','city', 'capital','shop_type']\nnum_vars = ['item_price','#mon', '#tue', '#wed', '#thu', '#fri', '#sat', '#sun',\n    '#sat+sun', '#days','population_proper']\n\nx=df[cat_vars+num_vars]\ny=df['item_cnt_day']",
   "execution_count": null,
   "outputs": []
  },
  {
   "cell_type": "code",
   "metadata": {
    "tags": [],
    "cell_id": "00079-66660cd3-2ce4-4e73-bbbc-3551d6a46ce9",
    "deepnote_to_be_reexecuted": false,
    "source_hash": "1d48648b",
    "execution_start": 1620934982978,
    "execution_millis": 39,
    "deepnote_cell_type": "code"
   },
   "source": "\ncat_4_Models = pipeline.Pipeline(steps=[\n    ('one hot', preprocessing.OneHotEncoder(handle_unknown='ignore'))])\n\n\nnum_4_Models=pipeline.Pipeline(steps=[\n    ((\"quantile transformer\",preprocessing.QuantileTransformer(n_quantiles=100, random_state=0,\n    output_distribution='normal')))])\n\n\n\ntree_prepro=compose.ColumnTransformer(transformers=[\n    (\"categorical\",cat_4_Models,cat_vars),\n    (\"numerical\",num_4_Models,num_vars)]) \n\ntree_prepro",
   "execution_count": null,
   "outputs": [
    {
     "output_type": "execute_result",
     "execution_count": 43,
     "data": {
      "text/plain": "ColumnTransformer(transformers=[('categorical',\n                                 Pipeline(steps=[('one hot',\n                                                  OneHotEncoder(handle_unknown='ignore'))]),\n                                 ['shop_id', 'item_id', 'category_name',\n                                  'category_id', 'main_categories',\n                                  'item_name_first4', 'item_name_first6',\n                                  'item_name_first11', 'city', 'capital',\n                                  'shop_type']),\n                                ('numerical',\n                                 Pipeline(steps=[('quantile transformer',\n                                                  QuantileTransformer(n_quantiles=100,\n                                                                      output_distribution='normal',\n                                                                      random_state=0))]),\n                                 ['item_price', '#mon', '#tue', '#wed', '#thu',\n                                  '#fri', '#sat', '#sun', '#sat+sun', '#days',\n                                  'population_proper'])])",
      "text/html": "<style>#sk-f3e9dccb-bc1e-4519-93db-df9f19ad0751 {color: black;background-color: white;}#sk-f3e9dccb-bc1e-4519-93db-df9f19ad0751 pre{padding: 0;}#sk-f3e9dccb-bc1e-4519-93db-df9f19ad0751 div.sk-toggleable {background-color: white;}#sk-f3e9dccb-bc1e-4519-93db-df9f19ad0751 label.sk-toggleable__label {cursor: pointer;display: block;width: 100%;margin-bottom: 0;padding: 0.2em 0.3em;box-sizing: border-box;text-align: center;}#sk-f3e9dccb-bc1e-4519-93db-df9f19ad0751 div.sk-toggleable__content {max-height: 0;max-width: 0;overflow: hidden;text-align: left;background-color: #f0f8ff;}#sk-f3e9dccb-bc1e-4519-93db-df9f19ad0751 div.sk-toggleable__content pre {margin: 0.2em;color: black;border-radius: 0.25em;background-color: #f0f8ff;}#sk-f3e9dccb-bc1e-4519-93db-df9f19ad0751 input.sk-toggleable__control:checked~div.sk-toggleable__content {max-height: 200px;max-width: 100%;overflow: auto;}#sk-f3e9dccb-bc1e-4519-93db-df9f19ad0751 div.sk-estimator input.sk-toggleable__control:checked~label.sk-toggleable__label {background-color: #d4ebff;}#sk-f3e9dccb-bc1e-4519-93db-df9f19ad0751 div.sk-label input.sk-toggleable__control:checked~label.sk-toggleable__label {background-color: #d4ebff;}#sk-f3e9dccb-bc1e-4519-93db-df9f19ad0751 input.sk-hidden--visually {border: 0;clip: rect(1px 1px 1px 1px);clip: rect(1px, 1px, 1px, 1px);height: 1px;margin: -1px;overflow: hidden;padding: 0;position: absolute;width: 1px;}#sk-f3e9dccb-bc1e-4519-93db-df9f19ad0751 div.sk-estimator {font-family: monospace;background-color: #f0f8ff;margin: 0.25em 0.25em;border: 1px dotted black;border-radius: 0.25em;box-sizing: border-box;}#sk-f3e9dccb-bc1e-4519-93db-df9f19ad0751 div.sk-estimator:hover {background-color: #d4ebff;}#sk-f3e9dccb-bc1e-4519-93db-df9f19ad0751 div.sk-parallel-item::after {content: \"\";width: 100%;border-bottom: 1px solid gray;flex-grow: 1;}#sk-f3e9dccb-bc1e-4519-93db-df9f19ad0751 div.sk-label:hover label.sk-toggleable__label {background-color: #d4ebff;}#sk-f3e9dccb-bc1e-4519-93db-df9f19ad0751 div.sk-serial::before {content: \"\";position: absolute;border-left: 1px solid gray;box-sizing: border-box;top: 2em;bottom: 0;left: 50%;}#sk-f3e9dccb-bc1e-4519-93db-df9f19ad0751 div.sk-serial {display: flex;flex-direction: column;align-items: center;background-color: white;}#sk-f3e9dccb-bc1e-4519-93db-df9f19ad0751 div.sk-item {z-index: 1;}#sk-f3e9dccb-bc1e-4519-93db-df9f19ad0751 div.sk-parallel {display: flex;align-items: stretch;justify-content: center;background-color: white;}#sk-f3e9dccb-bc1e-4519-93db-df9f19ad0751 div.sk-parallel-item {display: flex;flex-direction: column;position: relative;background-color: white;}#sk-f3e9dccb-bc1e-4519-93db-df9f19ad0751 div.sk-parallel-item:first-child::after {align-self: flex-end;width: 50%;}#sk-f3e9dccb-bc1e-4519-93db-df9f19ad0751 div.sk-parallel-item:last-child::after {align-self: flex-start;width: 50%;}#sk-f3e9dccb-bc1e-4519-93db-df9f19ad0751 div.sk-parallel-item:only-child::after {width: 0;}#sk-f3e9dccb-bc1e-4519-93db-df9f19ad0751 div.sk-dashed-wrapped {border: 1px dashed gray;margin: 0.2em;box-sizing: border-box;padding-bottom: 0.1em;background-color: white;position: relative;}#sk-f3e9dccb-bc1e-4519-93db-df9f19ad0751 div.sk-label label {font-family: monospace;font-weight: bold;background-color: white;display: inline-block;line-height: 1.2em;}#sk-f3e9dccb-bc1e-4519-93db-df9f19ad0751 div.sk-label-container {position: relative;z-index: 2;text-align: center;}#sk-f3e9dccb-bc1e-4519-93db-df9f19ad0751 div.sk-container {display: inline-block;position: relative;}</style><div id=\"sk-f3e9dccb-bc1e-4519-93db-df9f19ad0751\" class\"sk-top-container\"><div class=\"sk-container\"><div class=\"sk-item sk-dashed-wrapped\"><div class=\"sk-label-container\"><div class=\"sk-label sk-toggleable\"><input class=\"sk-toggleable__control sk-hidden--visually\" id=\"43b61c6b-bea2-4631-936c-fcfef9fabaeb\" type=\"checkbox\" ><label class=\"sk-toggleable__label\" for=\"43b61c6b-bea2-4631-936c-fcfef9fabaeb\">ColumnTransformer</label><div class=\"sk-toggleable__content\"><pre>ColumnTransformer(transformers=[('categorical',\n                                 Pipeline(steps=[('one hot',\n                                                  OneHotEncoder(handle_unknown='ignore'))]),\n                                 ['shop_id', 'item_id', 'category_name',\n                                  'category_id', 'main_categories',\n                                  'item_name_first4', 'item_name_first6',\n                                  'item_name_first11', 'city', 'capital',\n                                  'shop_type']),\n                                ('numerical',\n                                 Pipeline(steps=[('quantile transformer',\n                                                  QuantileTransformer(n_quantiles=100,\n                                                                      output_distribution='normal',\n                                                                      random_state=0))]),\n                                 ['item_price', '#mon', '#tue', '#wed', '#thu',\n                                  '#fri', '#sat', '#sun', '#sat+sun', '#days',\n                                  'population_proper'])])</pre></div></div></div><div class=\"sk-parallel\"><div class=\"sk-parallel-item\"><div class=\"sk-item\"><div class=\"sk-label-container\"><div class=\"sk-label sk-toggleable\"><input class=\"sk-toggleable__control sk-hidden--visually\" id=\"3d00ab65-5155-45db-9798-b2bb491fd482\" type=\"checkbox\" ><label class=\"sk-toggleable__label\" for=\"3d00ab65-5155-45db-9798-b2bb491fd482\">categorical</label><div class=\"sk-toggleable__content\"><pre>['shop_id', 'item_id', 'category_name', 'category_id', 'main_categories', 'item_name_first4', 'item_name_first6', 'item_name_first11', 'city', 'capital', 'shop_type']</pre></div></div></div><div class=\"sk-serial\"><div class=\"sk-item\"><div class=\"sk-serial\"><div class=\"sk-item\"><div class=\"sk-estimator sk-toggleable\"><input class=\"sk-toggleable__control sk-hidden--visually\" id=\"2470293e-fa8c-4c8a-a31a-541ef95752ba\" type=\"checkbox\" ><label class=\"sk-toggleable__label\" for=\"2470293e-fa8c-4c8a-a31a-541ef95752ba\">OneHotEncoder</label><div class=\"sk-toggleable__content\"><pre>OneHotEncoder(handle_unknown='ignore')</pre></div></div></div></div></div></div></div></div><div class=\"sk-parallel-item\"><div class=\"sk-item\"><div class=\"sk-label-container\"><div class=\"sk-label sk-toggleable\"><input class=\"sk-toggleable__control sk-hidden--visually\" id=\"7f9c9bf4-c675-4be9-ad4d-b41ce873316c\" type=\"checkbox\" ><label class=\"sk-toggleable__label\" for=\"7f9c9bf4-c675-4be9-ad4d-b41ce873316c\">numerical</label><div class=\"sk-toggleable__content\"><pre>['item_price', '#mon', '#tue', '#wed', '#thu', '#fri', '#sat', '#sun', '#sat+sun', '#days', 'population_proper']</pre></div></div></div><div class=\"sk-serial\"><div class=\"sk-item\"><div class=\"sk-serial\"><div class=\"sk-item\"><div class=\"sk-estimator sk-toggleable\"><input class=\"sk-toggleable__control sk-hidden--visually\" id=\"5c5fe7d5-6d3c-403f-aef5-3b3ce95cfe56\" type=\"checkbox\" ><label class=\"sk-toggleable__label\" for=\"5c5fe7d5-6d3c-403f-aef5-3b3ce95cfe56\">QuantileTransformer</label><div class=\"sk-toggleable__content\"><pre>QuantileTransformer(n_quantiles=100, output_distribution='normal',\n                    random_state=0)</pre></div></div></div></div></div></div></div></div></div></div></div></div>"
     },
     "metadata": {}
    }
   ]
  },
  {
   "cell_type": "code",
   "metadata": {
    "tags": [],
    "cell_id": "00080-eaaf65ea-c78a-4608-8b93-d74aa9f66f41",
    "deepnote_to_be_reexecuted": false,
    "source_hash": "71dd514b",
    "execution_start": 1620934983009,
    "execution_millis": 67,
    "deepnote_cell_type": "code"
   },
   "source": "\nfrom sklearn.linear_model import LinearRegression\nfrom sklearn.linear_model import Ridge\nfrom sklearn import linear_model\nfrom sklearn.linear_model import ElasticNet\n\nfrom sklearn.tree import DecisionTreeRegressor\n\nfrom sklearn.ensemble import RandomForestRegressor\nfrom sklearn.ensemble import ExtraTreesRegressor\n\nfrom sklearn.ensemble import GradientBoostingRegressor\nfrom sklearn.experimental import enable_hist_gradient_boosting\nfrom sklearn.ensemble import HistGradientBoostingRegressor\n",
   "execution_count": null,
   "outputs": []
  },
  {
   "cell_type": "code",
   "metadata": {
    "tags": [],
    "cell_id": "00081-3ad8557c-bb91-4cb6-83bb-9ac0f592dd41",
    "deepnote_to_be_reexecuted": false,
    "source_hash": "76b34dbe",
    "execution_start": 1620934983079,
    "execution_millis": 91,
    "deepnote_cell_type": "code"
   },
   "source": "# YOUR CODE HERE\nall_pipelines={\n    #\"Linear Regression\": LinearRegression(),\n    \"Ridge\": Ridge(alpha=1.0),\n    \"Lasso\": linear_model.Lasso(alpha=0.1),\n    \"Elastic Net\":ElasticNet(random_state=0),\n    \"Decision Tree Regressor\":DecisionTreeRegressor(max_depth=2),\n    \"Random Forest Regressor\":RandomForestRegressor(max_depth=2, random_state=0),\n    \"Extra Tree Regressor\":ExtraTreesRegressor(n_estimators=10, random_state=0),\n    \"Gradient Boosting Regressor\":GradientBoostingRegressor(random_state=0),\n    #\"Gradient Hist  Boosting Regressor\":HistGradientBoostingRegressor()\n    \n    }\n\nall_pipelines = {name: pipeline.make_pipeline(tree_prepro, model) for name, model in all_pipelines.items()}\n\nall_pipelines[\"Gradient Boosting Regressor\"]\n\n\n",
   "execution_count": null,
   "outputs": [
    {
     "output_type": "execute_result",
     "execution_count": 45,
     "data": {
      "text/plain": "Pipeline(steps=[('columntransformer',\n                 ColumnTransformer(transformers=[('categorical',\n                                                  Pipeline(steps=[('one hot',\n                                                                   OneHotEncoder(handle_unknown='ignore'))]),\n                                                  ['shop_id', 'item_id',\n                                                   'category_name',\n                                                   'category_id',\n                                                   'main_categories',\n                                                   'item_name_first4',\n                                                   'item_name_first6',\n                                                   'item_name_first11', 'city',\n                                                   'capital', 'shop_type']),\n                                                 ('numerical',\n                                                  Pipeline(steps=[('quantile '\n                                                                   'transformer',\n                                                                   QuantileTransformer(n_quantiles=100,\n                                                                                       output_distribution='normal',\n                                                                                       random_state=0))]),\n                                                  ['item_price', '#mon', '#tue',\n                                                   '#wed', '#thu', '#fri',\n                                                   '#sat', '#sun', '#sat+sun',\n                                                   '#days',\n                                                   'population_proper'])])),\n                ('gradientboostingregressor',\n                 GradientBoostingRegressor(random_state=0))])",
      "text/html": "<style>#sk-df493767-c125-411e-a47d-e7d296af0021 {color: black;background-color: white;}#sk-df493767-c125-411e-a47d-e7d296af0021 pre{padding: 0;}#sk-df493767-c125-411e-a47d-e7d296af0021 div.sk-toggleable {background-color: white;}#sk-df493767-c125-411e-a47d-e7d296af0021 label.sk-toggleable__label {cursor: pointer;display: block;width: 100%;margin-bottom: 0;padding: 0.2em 0.3em;box-sizing: border-box;text-align: center;}#sk-df493767-c125-411e-a47d-e7d296af0021 div.sk-toggleable__content {max-height: 0;max-width: 0;overflow: hidden;text-align: left;background-color: #f0f8ff;}#sk-df493767-c125-411e-a47d-e7d296af0021 div.sk-toggleable__content pre {margin: 0.2em;color: black;border-radius: 0.25em;background-color: #f0f8ff;}#sk-df493767-c125-411e-a47d-e7d296af0021 input.sk-toggleable__control:checked~div.sk-toggleable__content {max-height: 200px;max-width: 100%;overflow: auto;}#sk-df493767-c125-411e-a47d-e7d296af0021 div.sk-estimator input.sk-toggleable__control:checked~label.sk-toggleable__label {background-color: #d4ebff;}#sk-df493767-c125-411e-a47d-e7d296af0021 div.sk-label input.sk-toggleable__control:checked~label.sk-toggleable__label {background-color: #d4ebff;}#sk-df493767-c125-411e-a47d-e7d296af0021 input.sk-hidden--visually {border: 0;clip: rect(1px 1px 1px 1px);clip: rect(1px, 1px, 1px, 1px);height: 1px;margin: -1px;overflow: hidden;padding: 0;position: absolute;width: 1px;}#sk-df493767-c125-411e-a47d-e7d296af0021 div.sk-estimator {font-family: monospace;background-color: #f0f8ff;margin: 0.25em 0.25em;border: 1px dotted black;border-radius: 0.25em;box-sizing: border-box;}#sk-df493767-c125-411e-a47d-e7d296af0021 div.sk-estimator:hover {background-color: #d4ebff;}#sk-df493767-c125-411e-a47d-e7d296af0021 div.sk-parallel-item::after {content: \"\";width: 100%;border-bottom: 1px solid gray;flex-grow: 1;}#sk-df493767-c125-411e-a47d-e7d296af0021 div.sk-label:hover label.sk-toggleable__label {background-color: #d4ebff;}#sk-df493767-c125-411e-a47d-e7d296af0021 div.sk-serial::before {content: \"\";position: absolute;border-left: 1px solid gray;box-sizing: border-box;top: 2em;bottom: 0;left: 50%;}#sk-df493767-c125-411e-a47d-e7d296af0021 div.sk-serial {display: flex;flex-direction: column;align-items: center;background-color: white;}#sk-df493767-c125-411e-a47d-e7d296af0021 div.sk-item {z-index: 1;}#sk-df493767-c125-411e-a47d-e7d296af0021 div.sk-parallel {display: flex;align-items: stretch;justify-content: center;background-color: white;}#sk-df493767-c125-411e-a47d-e7d296af0021 div.sk-parallel-item {display: flex;flex-direction: column;position: relative;background-color: white;}#sk-df493767-c125-411e-a47d-e7d296af0021 div.sk-parallel-item:first-child::after {align-self: flex-end;width: 50%;}#sk-df493767-c125-411e-a47d-e7d296af0021 div.sk-parallel-item:last-child::after {align-self: flex-start;width: 50%;}#sk-df493767-c125-411e-a47d-e7d296af0021 div.sk-parallel-item:only-child::after {width: 0;}#sk-df493767-c125-411e-a47d-e7d296af0021 div.sk-dashed-wrapped {border: 1px dashed gray;margin: 0.2em;box-sizing: border-box;padding-bottom: 0.1em;background-color: white;position: relative;}#sk-df493767-c125-411e-a47d-e7d296af0021 div.sk-label label {font-family: monospace;font-weight: bold;background-color: white;display: inline-block;line-height: 1.2em;}#sk-df493767-c125-411e-a47d-e7d296af0021 div.sk-label-container {position: relative;z-index: 2;text-align: center;}#sk-df493767-c125-411e-a47d-e7d296af0021 div.sk-container {display: inline-block;position: relative;}</style><div id=\"sk-df493767-c125-411e-a47d-e7d296af0021\" class\"sk-top-container\"><div class=\"sk-container\"><div class=\"sk-item sk-dashed-wrapped\"><div class=\"sk-label-container\"><div class=\"sk-label sk-toggleable\"><input class=\"sk-toggleable__control sk-hidden--visually\" id=\"a13a5220-d355-4828-93b2-6958044c8f52\" type=\"checkbox\" ><label class=\"sk-toggleable__label\" for=\"a13a5220-d355-4828-93b2-6958044c8f52\">Pipeline</label><div class=\"sk-toggleable__content\"><pre>Pipeline(steps=[('columntransformer',\n                 ColumnTransformer(transformers=[('categorical',\n                                                  Pipeline(steps=[('one hot',\n                                                                   OneHotEncoder(handle_unknown='ignore'))]),\n                                                  ['shop_id', 'item_id',\n                                                   'category_name',\n                                                   'category_id',\n                                                   'main_categories',\n                                                   'item_name_first4',\n                                                   'item_name_first6',\n                                                   'item_name_first11', 'city',\n                                                   'capital', 'shop_type']),\n                                                 ('numerical',\n                                                  Pipeline(steps=[('quantile '\n                                                                   'transformer',\n                                                                   QuantileTransformer(n_quantiles=100,\n                                                                                       output_distribution='normal',\n                                                                                       random_state=0))]),\n                                                  ['item_price', '#mon', '#tue',\n                                                   '#wed', '#thu', '#fri',\n                                                   '#sat', '#sun', '#sat+sun',\n                                                   '#days',\n                                                   'population_proper'])])),\n                ('gradientboostingregressor',\n                 GradientBoostingRegressor(random_state=0))])</pre></div></div></div><div class=\"sk-serial\"><div class=\"sk-item sk-dashed-wrapped\"><div class=\"sk-label-container\"><div class=\"sk-label sk-toggleable\"><input class=\"sk-toggleable__control sk-hidden--visually\" id=\"3c124804-9a4f-4ffc-b635-38fa65cc7258\" type=\"checkbox\" ><label class=\"sk-toggleable__label\" for=\"3c124804-9a4f-4ffc-b635-38fa65cc7258\">columntransformer: ColumnTransformer</label><div class=\"sk-toggleable__content\"><pre>ColumnTransformer(transformers=[('categorical',\n                                 Pipeline(steps=[('one hot',\n                                                  OneHotEncoder(handle_unknown='ignore'))]),\n                                 ['shop_id', 'item_id', 'category_name',\n                                  'category_id', 'main_categories',\n                                  'item_name_first4', 'item_name_first6',\n                                  'item_name_first11', 'city', 'capital',\n                                  'shop_type']),\n                                ('numerical',\n                                 Pipeline(steps=[('quantile transformer',\n                                                  QuantileTransformer(n_quantiles=100,\n                                                                      output_distribution='normal',\n                                                                      random_state=0))]),\n                                 ['item_price', '#mon', '#tue', '#wed', '#thu',\n                                  '#fri', '#sat', '#sun', '#sat+sun', '#days',\n                                  'population_proper'])])</pre></div></div></div><div class=\"sk-parallel\"><div class=\"sk-parallel-item\"><div class=\"sk-item\"><div class=\"sk-label-container\"><div class=\"sk-label sk-toggleable\"><input class=\"sk-toggleable__control sk-hidden--visually\" id=\"c99cfb1d-6ab3-4630-b630-9e919ca13ced\" type=\"checkbox\" ><label class=\"sk-toggleable__label\" for=\"c99cfb1d-6ab3-4630-b630-9e919ca13ced\">categorical</label><div class=\"sk-toggleable__content\"><pre>['shop_id', 'item_id', 'category_name', 'category_id', 'main_categories', 'item_name_first4', 'item_name_first6', 'item_name_first11', 'city', 'capital', 'shop_type']</pre></div></div></div><div class=\"sk-serial\"><div class=\"sk-item\"><div class=\"sk-serial\"><div class=\"sk-item\"><div class=\"sk-estimator sk-toggleable\"><input class=\"sk-toggleable__control sk-hidden--visually\" id=\"d309efb3-e101-4479-a5f6-4020eb11fda3\" type=\"checkbox\" ><label class=\"sk-toggleable__label\" for=\"d309efb3-e101-4479-a5f6-4020eb11fda3\">OneHotEncoder</label><div class=\"sk-toggleable__content\"><pre>OneHotEncoder(handle_unknown='ignore')</pre></div></div></div></div></div></div></div></div><div class=\"sk-parallel-item\"><div class=\"sk-item\"><div class=\"sk-label-container\"><div class=\"sk-label sk-toggleable\"><input class=\"sk-toggleable__control sk-hidden--visually\" id=\"22126fd8-4543-4519-b80f-7d27431d738a\" type=\"checkbox\" ><label class=\"sk-toggleable__label\" for=\"22126fd8-4543-4519-b80f-7d27431d738a\">numerical</label><div class=\"sk-toggleable__content\"><pre>['item_price', '#mon', '#tue', '#wed', '#thu', '#fri', '#sat', '#sun', '#sat+sun', '#days', 'population_proper']</pre></div></div></div><div class=\"sk-serial\"><div class=\"sk-item\"><div class=\"sk-serial\"><div class=\"sk-item\"><div class=\"sk-estimator sk-toggleable\"><input class=\"sk-toggleable__control sk-hidden--visually\" id=\"057d3fcd-255b-40a0-b2ca-fe9e7ffd33f7\" type=\"checkbox\" ><label class=\"sk-toggleable__label\" for=\"057d3fcd-255b-40a0-b2ca-fe9e7ffd33f7\">QuantileTransformer</label><div class=\"sk-toggleable__content\"><pre>QuantileTransformer(n_quantiles=100, output_distribution='normal',\n                    random_state=0)</pre></div></div></div></div></div></div></div></div></div></div><div class=\"sk-item\"><div class=\"sk-estimator sk-toggleable\"><input class=\"sk-toggleable__control sk-hidden--visually\" id=\"38c65d9f-1b14-4ed9-a376-aeb9e4ab2fd9\" type=\"checkbox\" ><label class=\"sk-toggleable__label\" for=\"38c65d9f-1b14-4ed9-a376-aeb9e4ab2fd9\">GradientBoostingRegressor</label><div class=\"sk-toggleable__content\"><pre>GradientBoostingRegressor(random_state=0)</pre></div></div></div></div></div></div></div>"
     },
     "metadata": {}
    }
   ]
  },
  {
   "cell_type": "code",
   "metadata": {
    "tags": [],
    "cell_id": "00082-331ebbbf-7ac6-4603-a0ef-583670ed4a8e",
    "deepnote_to_be_reexecuted": false,
    "source_hash": "659651d",
    "execution_start": 1620934983205,
    "execution_millis": 23053813,
    "deepnote_cell_type": "code"
   },
   "source": "x_train, x_valid, y_train, y_valid = model_selection.train_test_split(x, y, test_size=0.2, random_state=0)\n\nresults = pd.DataFrame({'Model': [], 'MSE': [], 'RMSE': [], 'Time': []})\n\nfor name, pipe in all_pipelines.items():\n\n    start_time = t.time()\n    \n    preds = pipe.fit(x_train,y_train).predict(x_valid)\n\n    total_time = t.time() - start_time\n\n    results = results.append({\"Model\": name,\n                              \"MSE\":   mean_squared_error(y_valid, preds),\n                              \"RMSE\":  mean_squared_error(y_valid, preds,squared=False),\n                              \"Time\":  total_time},\n                              ignore_index=True)\n\n    \n    results_ord = results.sort_values(by=['RMSE'], ascending=True, ignore_index=True)\n    results_ord.index += 1 \n    clear_output()\n    display(results_ord.style.bar(subset=['MSE', 'RMSE'], vmin=0, color='#5fba7d'))",
   "execution_count": null,
   "outputs": [
    {
     "output_type": "clearOutput"
    },
    {
     "data": {
      "text/plain": "<pandas.io.formats.style.Styler at 0x7f2778bdd8d0>",
      "text/html": "<style  type=\"text/css\" >\n#T_5143a_row0_col1{\n            width:  10em;\n             height:  80%;\n            background:  linear-gradient(90deg,#5fba7d 83.3%, transparent 83.3%);\n        }#T_5143a_row0_col2{\n            width:  10em;\n             height:  80%;\n            background:  linear-gradient(90deg,#5fba7d 91.3%, transparent 91.3%);\n        }#T_5143a_row1_col1{\n            width:  10em;\n             height:  80%;\n            background:  linear-gradient(90deg,#5fba7d 85.4%, transparent 85.4%);\n        }#T_5143a_row1_col2{\n            width:  10em;\n             height:  80%;\n            background:  linear-gradient(90deg,#5fba7d 92.4%, transparent 92.4%);\n        }#T_5143a_row2_col1{\n            width:  10em;\n             height:  80%;\n            background:  linear-gradient(90deg,#5fba7d 90.3%, transparent 90.3%);\n        }#T_5143a_row2_col2{\n            width:  10em;\n             height:  80%;\n            background:  linear-gradient(90deg,#5fba7d 95.0%, transparent 95.0%);\n        }#T_5143a_row3_col1{\n            width:  10em;\n             height:  80%;\n            background:  linear-gradient(90deg,#5fba7d 94.1%, transparent 94.1%);\n        }#T_5143a_row3_col2{\n            width:  10em;\n             height:  80%;\n            background:  linear-gradient(90deg,#5fba7d 97.0%, transparent 97.0%);\n        }#T_5143a_row4_col1{\n            width:  10em;\n             height:  80%;\n            background:  linear-gradient(90deg,#5fba7d 96.8%, transparent 96.8%);\n        }#T_5143a_row4_col2{\n            width:  10em;\n             height:  80%;\n            background:  linear-gradient(90deg,#5fba7d 98.4%, transparent 98.4%);\n        }#T_5143a_row5_col1,#T_5143a_row5_col2,#T_5143a_row6_col1,#T_5143a_row6_col2{\n            width:  10em;\n             height:  80%;\n            background:  linear-gradient(90deg,#5fba7d 100.0%, transparent 100.0%);\n        }</style><table id=\"T_5143a_\" ><thead>    <tr>        <th class=\"blank level0\" ></th>        <th class=\"col_heading level0 col0\" >Model</th>        <th class=\"col_heading level0 col1\" >MSE</th>        <th class=\"col_heading level0 col2\" >RMSE</th>        <th class=\"col_heading level0 col3\" >Time</th>    </tr></thead><tbody>\n                <tr>\n                        <th id=\"T_5143a_level0_row0\" class=\"row_heading level0 row0\" >1</th>\n                        <td id=\"T_5143a_row0_col0\" class=\"data row0 col0\" >Gradient Boosting Regressor</td>\n                        <td id=\"T_5143a_row0_col1\" class=\"data row0 col1\" >3.405975</td>\n                        <td id=\"T_5143a_row0_col2\" class=\"data row0 col2\" >1.845528</td>\n                        <td id=\"T_5143a_row0_col3\" class=\"data row0 col3\" >1066.723115</td>\n            </tr>\n            <tr>\n                        <th id=\"T_5143a_level0_row1\" class=\"row_heading level0 row1\" >2</th>\n                        <td id=\"T_5143a_row1_col0\" class=\"data row1 col0\" >Extra Tree Regressor</td>\n                        <td id=\"T_5143a_row1_col1\" class=\"data row1 col1\" >3.490350</td>\n                        <td id=\"T_5143a_row1_col2\" class=\"data row1 col2\" >1.868248</td>\n                        <td id=\"T_5143a_row1_col3\" class=\"data row1 col3\" >20916.780521</td>\n            </tr>\n            <tr>\n                        <th id=\"T_5143a_level0_row2\" class=\"row_heading level0 row2\" >3</th>\n                        <td id=\"T_5143a_row2_col0\" class=\"data row2 col0\" >Ridge</td>\n                        <td id=\"T_5143a_row2_col1\" class=\"data row2 col1\" >3.692165</td>\n                        <td id=\"T_5143a_row2_col2\" class=\"data row2 col2\" >1.921501</td>\n                        <td id=\"T_5143a_row2_col3\" class=\"data row2 col3\" >374.617993</td>\n            </tr>\n            <tr>\n                        <th id=\"T_5143a_level0_row3\" class=\"row_heading level0 row3\" >4</th>\n                        <td id=\"T_5143a_row3_col0\" class=\"data row3 col0\" >Random Forest Regressor</td>\n                        <td id=\"T_5143a_row3_col1\" class=\"data row3 col1\" >3.847174</td>\n                        <td id=\"T_5143a_row3_col2\" class=\"data row3 col2\" >1.961421</td>\n                        <td id=\"T_5143a_row3_col3\" class=\"data row3 col3\" >390.220885</td>\n            </tr>\n            <tr>\n                        <th id=\"T_5143a_level0_row4\" class=\"row_heading level0 row4\" >5</th>\n                        <td id=\"T_5143a_row4_col0\" class=\"data row4 col0\" >Decision Tree Regressor</td>\n                        <td id=\"T_5143a_row4_col1\" class=\"data row4 col1\" >3.956127</td>\n                        <td id=\"T_5143a_row4_col2\" class=\"data row4 col2\" >1.989001</td>\n                        <td id=\"T_5143a_row4_col3\" class=\"data row4 col3\" >18.501725</td>\n            </tr>\n            <tr>\n                        <th id=\"T_5143a_level0_row5\" class=\"row_heading level0 row5\" >6</th>\n                        <td id=\"T_5143a_row5_col0\" class=\"data row5 col0\" >Lasso</td>\n                        <td id=\"T_5143a_row5_col1\" class=\"data row5 col1\" >4.088613</td>\n                        <td id=\"T_5143a_row5_col2\" class=\"data row5 col2\" >2.022032</td>\n                        <td id=\"T_5143a_row5_col3\" class=\"data row5 col3\" >134.896772</td>\n            </tr>\n            <tr>\n                        <th id=\"T_5143a_level0_row6\" class=\"row_heading level0 row6\" >7</th>\n                        <td id=\"T_5143a_row6_col0\" class=\"data row6 col0\" >Elastic Net</td>\n                        <td id=\"T_5143a_row6_col1\" class=\"data row6 col1\" >4.088613</td>\n                        <td id=\"T_5143a_row6_col2\" class=\"data row6 col2\" >2.022032</td>\n                        <td id=\"T_5143a_row6_col3\" class=\"data row6 col3\" >148.791117</td>\n            </tr>\n    </tbody></table>"
     },
     "metadata": {},
     "output_type": "display_data"
    }
   ]
  },
  {
   "cell_type": "code",
   "metadata": {
    "tags": [],
    "cell_id": "00083-3c7af1ab-17d9-4e03-8ddd-ed821ae4c95c",
    "deepnote_to_be_reexecuted": false,
    "source_hash": "b623e53d",
    "execution_start": 1620958037062,
    "deepnote_cell_type": "code"
   },
   "source": "",
   "execution_count": null,
   "outputs": []
  },
  {
   "cell_type": "markdown",
   "source": "<a style='text-decoration:none;line-height:16px;display:flex;color:#5B5B62;padding:10px;justify-content:end;' href='https://deepnote.com?utm_source=created-in-deepnote-cell&projectId=796ba814-f632-4502-b0d7-7e2f8f9e546d' target=\"_blank\">\n<img alt='Created in deepnote.com' style='display:inline;max-height:16px;margin:0px;margin-right:7.5px;' src='data:image/svg+xml;base64,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' > </img>\nCreated in <span style='font-weight:600;margin-left:4px;'>Deepnote</span></a>",
   "metadata": {
    "tags": [],
    "created_in_deepnote_cell": true,
    "deepnote_cell_type": "markdown"
   }
  }
 ],
 "nbformat": 4,
 "nbformat_minor": 2,
 "metadata": {
  "orig_nbformat": 2,
  "deepnote": {
   "is_reactive": false
  },
  "deepnote_notebook_id": "935a91b4-466a-4925-a660-65668442d829",
  "deepnote_execution_queue": []
 }
}