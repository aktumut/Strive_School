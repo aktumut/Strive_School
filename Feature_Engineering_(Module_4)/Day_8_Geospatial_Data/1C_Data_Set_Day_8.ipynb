{
 "cells": [
  {
   "cell_type": "code",
   "metadata": {
    "tags": [],
    "deepnote_to_be_reexecuted": false,
    "source_hash": "bf0f58cb",
    "execution_start": 1620895099598,
    "execution_millis": 2141,
    "cell_id": "00000-e467fd1d-594a-4229-9caa-057d8b03a2d4",
    "deepnote_cell_type": "code"
   },
   "source": "import time\nfrom IPython.display import clear_output\nimport numpy    as np\nimport pandas   as pd\nimport seaborn  as sb\nimport matplotlib.pyplot as plt\nimport sklearn  as skl\n\nfrom sklearn import pipeline      # Pipeline\nfrom sklearn import preprocessing # OrdinalEncoder, LabelEncoder\nfrom sklearn import impute\nfrom sklearn import compose\nfrom sklearn import model_selection # train_test_split\nfrom sklearn import metrics         # accuracy_score, balanced_accuracy_score, plot_confusion_matrix\nfrom sklearn import set_config\nfrom sklearn.impute import KNNImputer\nfrom sklearn.preprocessing import PowerTransformer\nfrom sklearn.preprocessing import QuantileTransformer\n\nfrom geopy.geocoders import Nominatim # for latitudes and longitudes\n\n\nset_config(display='diagram') # Useful for display the pipeline\n\nprint(\"Pandas  \", pd.__version__)\nprint(\"Sklearn \", skl.__version__) # Try to use 0.24",
   "execution_count": 1,
   "outputs": [
    {
     "name": "stdout",
     "text": "Pandas   1.2.4\nSklearn  0.24.2\n",
     "output_type": "stream"
    }
   ]
  },
  {
   "cell_type": "markdown",
   "source": "### Importing Dataset",
   "metadata": {
    "tags": [],
    "cell_id": "00001-2823c468-4091-4bd8-a107-bb085856f033",
    "deepnote_cell_type": "markdown"
   }
  },
  {
   "cell_type": "code",
   "metadata": {
    "tags": [],
    "deepnote_to_be_reexecuted": false,
    "source_hash": "8e935fd4",
    "execution_start": 1620895101744,
    "execution_millis": 49,
    "cell_id": "00002-77eda750-41c2-4e95-9fc0-899f3fecb58a",
    "deepnote_cell_type": "code"
   },
   "source": "CLOUD = False\n\nif CLOUD:\n    import os\n    os.environ['KAGGLE_USERNAME'] = \"umutakta\"\n    os.environ['KAGGLE_KEY']      = \"a471e5474add8d57cadac3cc5ff2b1d6\"  \n    !pip install --upgrade kaggle\n    !kaggle competitions download -c competitive-data-science-predict-future-sales\n    DATA_PATH = \"/work/Strive_School/Feature_Engineering_(Module_4)/Day_6_Feature_Selection/competitive-data-science-predict-future-sales/\"\n\nelse:\n    DATA_PATH = \"/work/Data_Sets/competitive-data-science-predict-future-sales/\"\n\nDATA_PATH",
   "execution_count": 2,
   "outputs": [
    {
     "output_type": "execute_result",
     "execution_count": 2,
     "data": {
      "text/plain": "'/work/Data_Sets/competitive-data-science-predict-future-sales/'"
     },
     "metadata": {}
    }
   ]
  },
  {
   "cell_type": "markdown",
   "source": "**Creating Data Frame**",
   "metadata": {
    "tags": [],
    "cell_id": "00003-8fd17085-bad7-454a-bd67-acce73fbebec",
    "deepnote_cell_type": "markdown"
   }
  },
  {
   "cell_type": "code",
   "metadata": {
    "tags": [],
    "deepnote_to_be_reexecuted": false,
    "source_hash": "5cfdd9b7",
    "execution_start": 1620895621114,
    "execution_millis": 3159,
    "cell_id": "00004-73846ac5-9449-4479-b2e6-4799f2283abe",
    "deepnote_cell_type": "code"
   },
   "source": "df_item_categ=pd.read_csv(DATA_PATH+\"item_categories.csv\")\ndf_items=pd.read_csv(DATA_PATH+\"items.csv\")\ndf=pd.read_csv(DATA_PATH+\"sales_train.csv\")\ndf_sample=pd.read_csv(DATA_PATH+\"sample_submission.csv\")\ndf_shops=pd.read_csv(DATA_PATH+\"shops_eng.csv\")\ndf_test=pd.read_csv(DATA_PATH+\"test.csv\")",
   "execution_count": 32,
   "outputs": []
  },
  {
   "cell_type": "code",
   "metadata": {
    "tags": [],
    "deepnote_to_be_reexecuted": false,
    "source_hash": "c085b6ba",
    "execution_start": 1620895105254,
    "execution_millis": 90,
    "cell_id": "00005-e33ba2a4-7e24-43d9-be5c-63b8d525f264",
    "deepnote_cell_type": "code"
   },
   "source": "df.head()",
   "execution_count": 4,
   "outputs": [
    {
     "output_type": "execute_result",
     "execution_count": 4,
     "data": {
      "application/vnd.deepnote.dataframe.v2+json": {
       "row_count": 5,
       "column_count": 6,
       "columns": [
        {
         "name": "date",
         "dtype": "object",
         "stats": {
          "unique_count": 5,
          "nan_count": 0,
          "categories": [
           {
            "name": "02.01.2013",
            "count": 1
           },
           {
            "name": "03.01.2013",
            "count": 1
           },
           {
            "name": "3 others",
            "count": 3
           }
          ]
         }
        },
        {
         "name": "date_block_num",
         "dtype": "int64",
         "stats": {
          "unique_count": 1,
          "nan_count": 0,
          "min": "0",
          "max": "0",
          "histogram": [
           {
            "bin_start": -0.5,
            "bin_end": -0.4,
            "count": 0
           },
           {
            "bin_start": -0.4,
            "bin_end": -0.3,
            "count": 0
           },
           {
            "bin_start": -0.3,
            "bin_end": -0.19999999999999996,
            "count": 0
           },
           {
            "bin_start": -0.19999999999999996,
            "bin_end": -0.09999999999999998,
            "count": 0
           },
           {
            "bin_start": -0.09999999999999998,
            "bin_end": 0,
            "count": 0
           },
           {
            "bin_start": 0,
            "bin_end": 0.10000000000000009,
            "count": 5
           },
           {
            "bin_start": 0.10000000000000009,
            "bin_end": 0.20000000000000007,
            "count": 0
           },
           {
            "bin_start": 0.20000000000000007,
            "bin_end": 0.30000000000000004,
            "count": 0
           },
           {
            "bin_start": 0.30000000000000004,
            "bin_end": 0.4,
            "count": 0
           },
           {
            "bin_start": 0.4,
            "bin_end": 0.5,
            "count": 0
           }
          ]
         }
        },
        {
         "name": "shop_id",
         "dtype": "int64",
         "stats": {
          "unique_count": 2,
          "nan_count": 0,
          "min": "25",
          "max": "59",
          "histogram": [
           {
            "bin_start": 25,
            "bin_end": 28.4,
            "count": 4
           },
           {
            "bin_start": 28.4,
            "bin_end": 31.8,
            "count": 0
           },
           {
            "bin_start": 31.8,
            "bin_end": 35.2,
            "count": 0
           },
           {
            "bin_start": 35.2,
            "bin_end": 38.6,
            "count": 0
           },
           {
            "bin_start": 38.6,
            "bin_end": 42,
            "count": 0
           },
           {
            "bin_start": 42,
            "bin_end": 45.4,
            "count": 0
           },
           {
            "bin_start": 45.4,
            "bin_end": 48.8,
            "count": 0
           },
           {
            "bin_start": 48.8,
            "bin_end": 52.2,
            "count": 0
           },
           {
            "bin_start": 52.2,
            "bin_end": 55.599999999999994,
            "count": 0
           },
           {
            "bin_start": 55.599999999999994,
            "bin_end": 59,
            "count": 1
           }
          ]
         }
        },
        {
         "name": "item_id",
         "dtype": "int64",
         "stats": {
          "unique_count": 4,
          "nan_count": 0,
          "min": "2552",
          "max": "22154",
          "histogram": [
           {
            "bin_start": 2552,
            "bin_end": 4512.2,
            "count": 4
           },
           {
            "bin_start": 4512.2,
            "bin_end": 6472.4,
            "count": 0
           },
           {
            "bin_start": 6472.4,
            "bin_end": 8432.6,
            "count": 0
           },
           {
            "bin_start": 8432.6,
            "bin_end": 10392.8,
            "count": 0
           },
           {
            "bin_start": 10392.8,
            "bin_end": 12353,
            "count": 0
           },
           {
            "bin_start": 12353,
            "bin_end": 14313.2,
            "count": 0
           },
           {
            "bin_start": 14313.2,
            "bin_end": 16273.4,
            "count": 0
           },
           {
            "bin_start": 16273.4,
            "bin_end": 18233.6,
            "count": 0
           },
           {
            "bin_start": 18233.6,
            "bin_end": 20193.8,
            "count": 0
           },
           {
            "bin_start": 20193.8,
            "bin_end": 22154,
            "count": 1
           }
          ]
         }
        },
        {
         "name": "item_price",
         "dtype": "float64",
         "stats": {
          "unique_count": 4,
          "nan_count": 0,
          "min": "899.0",
          "max": "1709.05",
          "histogram": [
           {
            "bin_start": 899,
            "bin_end": 980.005,
            "count": 2
           },
           {
            "bin_start": 980.005,
            "bin_end": 1061.01,
            "count": 1
           },
           {
            "bin_start": 1061.01,
            "bin_end": 1142.0149999999999,
            "count": 1
           },
           {
            "bin_start": 1142.0149999999999,
            "bin_end": 1223.02,
            "count": 0
           },
           {
            "bin_start": 1223.02,
            "bin_end": 1304.025,
            "count": 0
           },
           {
            "bin_start": 1304.025,
            "bin_end": 1385.03,
            "count": 0
           },
           {
            "bin_start": 1385.03,
            "bin_end": 1466.0349999999999,
            "count": 0
           },
           {
            "bin_start": 1466.0349999999999,
            "bin_end": 1547.04,
            "count": 0
           },
           {
            "bin_start": 1547.04,
            "bin_end": 1628.045,
            "count": 0
           },
           {
            "bin_start": 1628.045,
            "bin_end": 1709.05,
            "count": 1
           }
          ]
         }
        },
        {
         "name": "item_cnt_day",
         "dtype": "float64",
         "stats": {
          "unique_count": 2,
          "nan_count": 0,
          "min": "-1.0",
          "max": "1.0",
          "histogram": [
           {
            "bin_start": -1,
            "bin_end": -0.8,
            "count": 1
           },
           {
            "bin_start": -0.8,
            "bin_end": -0.6,
            "count": 0
           },
           {
            "bin_start": -0.6,
            "bin_end": -0.3999999999999999,
            "count": 0
           },
           {
            "bin_start": -0.3999999999999999,
            "bin_end": -0.19999999999999996,
            "count": 0
           },
           {
            "bin_start": -0.19999999999999996,
            "bin_end": 0,
            "count": 0
           },
           {
            "bin_start": 0,
            "bin_end": 0.20000000000000018,
            "count": 0
           },
           {
            "bin_start": 0.20000000000000018,
            "bin_end": 0.40000000000000013,
            "count": 0
           },
           {
            "bin_start": 0.40000000000000013,
            "bin_end": 0.6000000000000001,
            "count": 0
           },
           {
            "bin_start": 0.6000000000000001,
            "bin_end": 0.8,
            "count": 0
           },
           {
            "bin_start": 0.8,
            "bin_end": 1,
            "count": 4
           }
          ]
         }
        },
        {
         "name": "_deepnote_index_column",
         "dtype": "int64"
        }
       ],
       "rows_top": [
        {
         "date": "02.01.2013",
         "date_block_num": 0,
         "shop_id": 59,
         "item_id": 22154,
         "item_price": 999,
         "item_cnt_day": 1,
         "_deepnote_index_column": 0
        },
        {
         "date": "03.01.2013",
         "date_block_num": 0,
         "shop_id": 25,
         "item_id": 2552,
         "item_price": 899,
         "item_cnt_day": 1,
         "_deepnote_index_column": 1
        },
        {
         "date": "05.01.2013",
         "date_block_num": 0,
         "shop_id": 25,
         "item_id": 2552,
         "item_price": 899,
         "item_cnt_day": -1,
         "_deepnote_index_column": 2
        },
        {
         "date": "06.01.2013",
         "date_block_num": 0,
         "shop_id": 25,
         "item_id": 2554,
         "item_price": 1709.05,
         "item_cnt_day": 1,
         "_deepnote_index_column": 3
        },
        {
         "date": "15.01.2013",
         "date_block_num": 0,
         "shop_id": 25,
         "item_id": 2555,
         "item_price": 1099,
         "item_cnt_day": 1,
         "_deepnote_index_column": 4
        }
       ],
       "rows_bottom": null
      },
      "text/plain": "         date  date_block_num  shop_id  item_id  item_price  item_cnt_day\n0  02.01.2013               0       59    22154      999.00           1.0\n1  03.01.2013               0       25     2552      899.00           1.0\n2  05.01.2013               0       25     2552      899.00          -1.0\n3  06.01.2013               0       25     2554     1709.05           1.0\n4  15.01.2013               0       25     2555     1099.00           1.0",
      "text/html": "<div>\n<style scoped>\n    .dataframe tbody tr th:only-of-type {\n        vertical-align: middle;\n    }\n\n    .dataframe tbody tr th {\n        vertical-align: top;\n    }\n\n    .dataframe thead th {\n        text-align: right;\n    }\n</style>\n<table border=\"1\" class=\"dataframe\">\n  <thead>\n    <tr style=\"text-align: right;\">\n      <th></th>\n      <th>date</th>\n      <th>date_block_num</th>\n      <th>shop_id</th>\n      <th>item_id</th>\n      <th>item_price</th>\n      <th>item_cnt_day</th>\n    </tr>\n  </thead>\n  <tbody>\n    <tr>\n      <th>0</th>\n      <td>02.01.2013</td>\n      <td>0</td>\n      <td>59</td>\n      <td>22154</td>\n      <td>999.00</td>\n      <td>1.0</td>\n    </tr>\n    <tr>\n      <th>1</th>\n      <td>03.01.2013</td>\n      <td>0</td>\n      <td>25</td>\n      <td>2552</td>\n      <td>899.00</td>\n      <td>1.0</td>\n    </tr>\n    <tr>\n      <th>2</th>\n      <td>05.01.2013</td>\n      <td>0</td>\n      <td>25</td>\n      <td>2552</td>\n      <td>899.00</td>\n      <td>-1.0</td>\n    </tr>\n    <tr>\n      <th>3</th>\n      <td>06.01.2013</td>\n      <td>0</td>\n      <td>25</td>\n      <td>2554</td>\n      <td>1709.05</td>\n      <td>1.0</td>\n    </tr>\n    <tr>\n      <th>4</th>\n      <td>15.01.2013</td>\n      <td>0</td>\n      <td>25</td>\n      <td>2555</td>\n      <td>1099.00</td>\n      <td>1.0</td>\n    </tr>\n  </tbody>\n</table>\n</div>"
     },
     "metadata": {}
    }
   ]
  },
  {
   "cell_type": "markdown",
   "source": "Turning date column to **date type**",
   "metadata": {
    "tags": [],
    "cell_id": "00006-f3263733-a692-4e97-b08b-778f0d1c3964",
    "deepnote_cell_type": "markdown"
   }
  },
  {
   "cell_type": "code",
   "metadata": {
    "tags": [],
    "deepnote_to_be_reexecuted": false,
    "source_hash": "caa69966",
    "execution_start": 1620895105333,
    "execution_millis": 57377,
    "cell_id": "00007-c7ca48a9-ee4b-44ae-bf10-69f343378a27",
    "deepnote_cell_type": "code"
   },
   "source": "from datetime import datetime\n\ndf[\"date\"]=df['date'].apply(lambda x:datetime.strptime(x, '%d.%m.%Y'))\n",
   "execution_count": 5,
   "outputs": []
  },
  {
   "cell_type": "markdown",
   "source": "### Deleting Outliers",
   "metadata": {
    "tags": [],
    "cell_id": "00008-8d5b3ee5-5396-45aa-9d4d-583559ae3708",
    "deepnote_cell_type": "markdown"
   }
  },
  {
   "cell_type": "markdown",
   "source": "**Item Count Day**",
   "metadata": {
    "tags": [],
    "cell_id": "00009-63e878ba-b8b9-401b-b22e-122508693473",
    "deepnote_cell_type": "markdown"
   }
  },
  {
   "cell_type": "code",
   "metadata": {
    "tags": [],
    "deepnote_to_be_reexecuted": false,
    "source_hash": "7bc3d9b5",
    "execution_start": 1620895162711,
    "execution_millis": 496,
    "cell_id": "00010-94d12f2d-8f0a-4936-9b51-7cc246e27a77",
    "deepnote_cell_type": "code"
   },
   "source": "df=df.drop(df.loc[df.item_cnt_day<0].index.tolist())",
   "execution_count": 6,
   "outputs": []
  },
  {
   "cell_type": "code",
   "metadata": {
    "tags": [],
    "deepnote_to_be_reexecuted": false,
    "source_hash": "abbebe74",
    "execution_start": 1620895163208,
    "execution_millis": 1529,
    "cell_id": "00011-a8d37366-74f0-4a99-adbc-13adda065687",
    "deepnote_cell_type": "code"
   },
   "source": "plt.figure(figsize=(16,1))\nsb.boxplot(x=df.item_cnt_day)",
   "execution_count": 7,
   "outputs": [
    {
     "output_type": "execute_result",
     "execution_count": 7,
     "data": {
      "text/plain": "<AxesSubplot:xlabel='item_cnt_day'>"
     },
     "metadata": {}
    },
    {
     "data": {
      "text/plain": "<Figure size 1152x72 with 1 Axes>",
      "image/png": "[encoded data removed]"
     },
     "metadata": {
      "needs_background": "light",
      "image/png": {
       "width": 910,
       "height": 100
      }
     },
     "output_type": "display_data"
    }
   ]
  },
  {
   "cell_type": "markdown",
   "source": "**Item Price**",
   "metadata": {
    "tags": [],
    "cell_id": "00012-db76c0f2-36ec-4b03-b3e9-983193d131ee",
    "deepnote_cell_type": "markdown"
   }
  },
  {
   "cell_type": "code",
   "metadata": {
    "tags": [],
    "deepnote_to_be_reexecuted": false,
    "source_hash": "8268b599",
    "execution_start": 1620895164745,
    "execution_millis": 2268,
    "cell_id": "00013-b42dab6e-8422-41a8-a430-939c79d4d68b",
    "deepnote_cell_type": "code"
   },
   "source": "for i in range(5):\n    df=df.drop(df.index[df.loc[df.item_price==df.item_price.max()].index[0]])",
   "execution_count": 8,
   "outputs": []
  },
  {
   "cell_type": "code",
   "metadata": {
    "tags": [],
    "deepnote_to_be_reexecuted": false,
    "source_hash": "232699e5",
    "execution_start": 1620895167032,
    "execution_millis": 1433,
    "cell_id": "00014-3df81f61-6ad7-4b3f-a7a6-da0b35554220",
    "deepnote_cell_type": "code"
   },
   "source": "plt.figure(figsize=(16,1))\nsb.boxplot(x=df.item_price)",
   "execution_count": 9,
   "outputs": [
    {
     "output_type": "execute_result",
     "execution_count": 9,
     "data": {
      "text/plain": "<AxesSubplot:xlabel='item_price'>"
     },
     "metadata": {}
    },
    {
     "data": {
      "text/plain": "<Figure size 1152x72 with 1 Axes>",
      "image/png": "[encoded data removed]"
     },
     "metadata": {
      "needs_background": "light",
      "image/png": {
       "width": 910,
       "height": 100
      }
     },
     "output_type": "display_data"
    }
   ]
  },
  {
   "cell_type": "markdown",
   "source": "#### Creating new data frame for only 2013,2014,2015",
   "metadata": {
    "tags": [],
    "cell_id": "00015-cca9b1b2-3f30-4c39-877f-19134bf74d2e",
    "deepnote_cell_type": "markdown"
   }
  },
  {
   "cell_type": "code",
   "metadata": {
    "tags": [],
    "deepnote_to_be_reexecuted": false,
    "source_hash": "540e2377",
    "execution_start": 1620895168469,
    "execution_millis": 368,
    "cell_id": "00016-bdda4284-87b6-4420-b3dc-9699a93627c1",
    "deepnote_cell_type": "code"
   },
   "source": "df_2013=df[(df.date<\"01-01-2014\") & (\"31-12-2012\"<df.date)]\ndf_2014=df[(df.date<\"01-01-2015\") & (\"31-12-2013\"<df.date)]\ndf_2015=df[(df.date<\"01-01-2016\") & (\"31-12-2014\"<df.date)]",
   "execution_count": 10,
   "outputs": []
  },
  {
   "cell_type": "markdown",
   "source": "** Grouping monthly sales **",
   "metadata": {
    "tags": [],
    "cell_id": "00017-9034084d-b493-4f6e-b6a1-5b0bf354bdb1",
    "deepnote_cell_type": "markdown"
   }
  },
  {
   "cell_type": "code",
   "metadata": {
    "tags": [],
    "deepnote_to_be_reexecuted": false,
    "source_hash": "61754554",
    "execution_start": 1620895168851,
    "execution_millis": 446,
    "cell_id": "00018-e58611eb-f10a-4a1b-977c-b6a2beaa0426",
    "deepnote_cell_type": "code"
   },
   "source": "df_2013['total_income_13']=df_2013.item_price*df_2013.item_cnt_day\ndf13_total=df_2013.groupby(['date_block_num']).sum()\n\ndf_2014['total_income_14']=df_2014.item_price*df_2014.item_cnt_day\ndf14_total=df_2014.groupby(['date_block_num']).sum()\n\ndf_2015['total_income_15']=df_2015.item_price*df_2015.item_cnt_day\ndf15_total=df_2015.groupby(['date_block_num']).sum()",
   "execution_count": 11,
   "outputs": [
    {
     "name": "stderr",
     "text": "/shared-libs/python3.7/py-core/lib/python3.7/site-packages/ipykernel_launcher.py:1: SettingWithCopyWarning: \nA value is trying to be set on a copy of a slice from a DataFrame.\nTry using .loc[row_indexer,col_indexer] = value instead\n\nSee the caveats in the documentation: https://pandas.pydata.org/pandas-docs/stable/user_guide/indexing.html#returning-a-view-versus-a-copy\n  \"\"\"Entry point for launching an IPython kernel.\n/shared-libs/python3.7/py-core/lib/python3.7/site-packages/ipykernel_launcher.py:4: SettingWithCopyWarning: \nA value is trying to be set on a copy of a slice from a DataFrame.\nTry using .loc[row_indexer,col_indexer] = value instead\n\nSee the caveats in the documentation: https://pandas.pydata.org/pandas-docs/stable/user_guide/indexing.html#returning-a-view-versus-a-copy\n  after removing the cwd from sys.path.\n/shared-libs/python3.7/py-core/lib/python3.7/site-packages/ipykernel_launcher.py:7: SettingWithCopyWarning: \nA value is trying to be set on a copy of a slice from a DataFrame.\nTry using .loc[row_indexer,col_indexer] = value instead\n\nSee the caveats in the documentation: https://pandas.pydata.org/pandas-docs/stable/user_guide/indexing.html#returning-a-view-versus-a-copy\n  import sys\n",
     "output_type": "stream"
    }
   ]
  },
  {
   "cell_type": "markdown",
   "source": "** Plot by total income for 2013 and 2014**",
   "metadata": {
    "tags": [],
    "cell_id": "00019-869d8122-8742-4a9b-95cf-b30876ded3f7",
    "deepnote_cell_type": "markdown"
   }
  },
  {
   "cell_type": "code",
   "metadata": {
    "tags": [],
    "deepnote_to_be_reexecuted": false,
    "source_hash": "42a89598",
    "execution_start": 1620895169301,
    "execution_millis": 505,
    "cell_id": "00020-754234dc-6634-40e2-9132-914231ef46d4",
    "deepnote_cell_type": "code"
   },
   "source": "plt.subplots(figsize=(15,8))\n\nplt.plot([],[],color='m', label='Total Income 2013', linewidth=5)\nplt.plot([],[],color='c', label='Total Income 2014', linewidth=5)\n\nplt.stackplot(df13_total.index, df13_total.total_income_13, df14_total.total_income_14,colors=['m','c'])\n\nplt.xlabel('Month Number')\nplt.ylabel('Total Income')\nplt.title('Total Income 2013 - 2014')\nplt.legend(loc='upper left')\nplt.show()",
   "execution_count": 12,
   "outputs": [
    {
     "data": {
      "text/plain": "<Figure size 1080x576 with 1 Axes>",
      "image/png": "[encoded data removed]"
     },
     "metadata": {
      "needs_background": "light",
      "image/png": {
       "width": 878,
       "height": 496
      }
     },
     "output_type": "display_data"
    }
   ]
  },
  {
   "cell_type": "markdown",
   "source": "** Total Income Plotting Until October in 2013,2014 and 2015 **",
   "metadata": {
    "tags": [],
    "cell_id": "00021-c34a1f88-727a-40de-a677-2b42531e45fa",
    "deepnote_cell_type": "markdown"
   }
  },
  {
   "cell_type": "code",
   "metadata": {
    "tags": [],
    "deepnote_to_be_reexecuted": false,
    "source_hash": "d34b3e38",
    "execution_start": 1620895169830,
    "execution_millis": 550,
    "cell_id": "00022-c73c7e21-0d92-4428-858c-62c9473595f7",
    "deepnote_cell_type": "code"
   },
   "source": "plt.subplots(figsize=(15,8))\n\nplt.plot([],[],color='k', label='Total Income 2013', linewidth=5)\nplt.plot([],[],color='g', label='Total Income 2014', linewidth=5)\nplt.plot([],[],color='r', label='Total Income 2015', linewidth=5)\n\nplt.stackplot(df13_total.index[:10], df13_total.loc[:9].total_income_13, \n    df14_total.loc[:21].total_income_14,df15_total.total_income_15,colors=['k','g',\"r\"])\n\nplt.xlabel('Month Number')\nplt.ylabel('Total Income')\nplt.title('Total Income 2013 - 2014')\nplt.legend(loc='upper left')\nplt.show()",
   "execution_count": 13,
   "outputs": [
    {
     "data": {
      "text/plain": "<Figure size 1080x576 with 1 Axes>",
      "image/png": "[encoded data removed]"
     },
     "metadata": {
      "needs_background": "light",
      "image/png": {
       "width": 888,
       "height": 496
      }
     },
     "output_type": "display_data"
    }
   ]
  },
  {
   "cell_type": "markdown",
   "source": "#### Interesting with shop id",
   "metadata": {
    "tags": [],
    "cell_id": "00023-1fe9c03b-ae38-410c-9995-abd63a72b04c",
    "deepnote_cell_type": "markdown"
   }
  },
  {
   "cell_type": "markdown",
   "source": "Finding different shops between years 2013, 2014 and 2015",
   "metadata": {
    "tags": [],
    "cell_id": "00024-c7b7b76d-667c-4e2c-8096-3eac7eb47e07",
    "deepnote_cell_type": "markdown"
   }
  },
  {
   "cell_type": "code",
   "metadata": {
    "tags": [],
    "deepnote_to_be_reexecuted": false,
    "source_hash": "73f94be6",
    "execution_start": 1620895170361,
    "execution_millis": 139,
    "cell_id": "00025-a5082493-3db0-4ea0-bea6-e39569a3d19f",
    "deepnote_cell_type": "code"
   },
   "source": "set_difference_13_14 = set(df_2013.shop_id.unique()) - set(df_2014.shop_id.unique())\ndifference_13_14 = list(set_difference_13_14)\n\nset_difference_13_15 = set(df_2013.shop_id.unique()) - set(df_2015.shop_id.unique())\ndifference_13_15 = list(set_difference_13_15)\n\ndifference_13_14.extend(difference_13_15)\ndifference_13=difference_13_14\ndifference_13",
   "execution_count": 14,
   "outputs": [
    {
     "output_type": "execute_result",
     "execution_count": 14,
     "data": {
      "text/plain": "[0, 1, 32, 8, 23, 0, 1, 32, 8, 13, 23]"
     },
     "metadata": {}
    }
   ]
  },
  {
   "cell_type": "code",
   "metadata": {
    "tags": [],
    "deepnote_to_be_reexecuted": false,
    "source_hash": "a23359da",
    "execution_start": 1620895170491,
    "execution_millis": 142,
    "cell_id": "00026-cd73914f-f7ce-4345-bcce-d844b97a65a3",
    "deepnote_cell_type": "code"
   },
   "source": "set_difference_14_15 = set(df_2014.shop_id.unique()) - set(df_2015.shop_id.unique())\ndifference_14_15 = list(set_difference_14_15)\n\nset_difference_14_13 = set(df_2014.shop_id.unique()) - set(df_2013.shop_id.unique())\ndifference_14_13 = list(set_difference_14_13)\n\ndifference_14_13.extend(difference_14_15)\ndifference_14=difference_14_13\ndifference_14",
   "execution_count": 15,
   "outputs": [
    {
     "output_type": "execute_result",
     "execution_count": 15,
     "data": {
      "text/plain": "[33, 34, 39, 40, 48, 20, 13]"
     },
     "metadata": {}
    }
   ]
  },
  {
   "cell_type": "code",
   "metadata": {
    "tags": [],
    "deepnote_to_be_reexecuted": false,
    "source_hash": "b0bef448",
    "execution_start": 1620895170616,
    "execution_millis": 105,
    "cell_id": "00027-c87146dc-bc98-4714-b3ee-7d5e8f98a561",
    "deepnote_cell_type": "code"
   },
   "source": "set_difference_15_13 = set(df_2015.shop_id.unique()) - set(df_2013.shop_id.unique())\ndifference_15_13 = list(set_difference_15_13)\n\nset_difference_15_14 = set(df_2015.shop_id.unique()) - set(df_2014.shop_id.unique())\ndifference_15_14 = list(set_difference_15_14)\n\ndifference_15_14.extend(difference_15_13)\ndifference_15=difference_15_14\ndifference_15",
   "execution_count": 16,
   "outputs": [
    {
     "output_type": "execute_result",
     "execution_count": 16,
     "data": {
      "text/plain": "[11, 36, 33, 34, 36, 39, 40, 11, 48, 20]"
     },
     "metadata": {}
    }
   ]
  },
  {
   "cell_type": "code",
   "metadata": {
    "tags": [],
    "deepnote_to_be_reexecuted": false,
    "source_hash": "d7f08de4",
    "execution_start": 1620895170718,
    "execution_millis": 310,
    "cell_id": "00028-16e63d59-c26e-4904-931b-575a141aa54d",
    "deepnote_cell_type": "code"
   },
   "source": "# Dropping different shops from 2013 and 2014\ndf_2013_drop_shops=df_2013.groupby([\"shop_id\"]).sum().drop(difference_13, axis=0)\ndf_2014_drop_shops=df_2014.groupby([\"shop_id\"]).sum().drop(difference_14, axis=0)\ndf_2015_drop_shops=df_2015.groupby([\"shop_id\"]).sum().drop(difference_15, axis=0)",
   "execution_count": 17,
   "outputs": []
  },
  {
   "cell_type": "markdown",
   "source": "** Plot Total Income Per Shop **",
   "metadata": {
    "tags": [],
    "cell_id": "00029-18e0aee4-7533-4b02-93b2-4cb7efee4d29",
    "deepnote_cell_type": "markdown"
   }
  },
  {
   "cell_type": "code",
   "metadata": {
    "tags": [],
    "deepnote_to_be_reexecuted": false,
    "source_hash": "2cce0022",
    "execution_start": 1620895171031,
    "execution_millis": 642,
    "cell_id": "00030-9ed0bea5-f4fe-4a39-aacb-33d22cf6b251",
    "deepnote_cell_type": "code"
   },
   "source": "plt.subplots(figsize=(15,8))\n\nplt.plot([],[],color='b', label='Total Income Per Shop 2013', linewidth=5)\nplt.plot([],[],color='y', label='Total Income Per Shop 2014', linewidth=5)\nplt.plot([],[],color='m', label='Total Income Per Shop 2015', linewidth=5)\n\nplt.stackplot(df_2013_drop_shops.index, df_2013_drop_shops.total_income_13, \n    df_2014_drop_shops.total_income_14,df_2015_drop_shops.total_income_15,colors=['b','y',\"m\"])\n\nplt.xlabel('Shops')\nplt.ylabel('Total Income Per Shop')\nplt.title('Total Income 2013 - 2014- 2015')\nplt.legend(loc='upper left')\nplt.show()",
   "execution_count": 18,
   "outputs": [
    {
     "data": {
      "text/plain": "<Figure size 1080x576 with 1 Axes>",
      "image/png": "[encoded data removed]"
     },
     "metadata": {
      "needs_background": "light",
      "image/png": {
       "width": 888,
       "height": 496
      }
     },
     "output_type": "display_data"
    }
   ]
  },
  {
   "cell_type": "markdown",
   "source": "#### Creating Geo Data",
   "metadata": {
    "tags": [],
    "cell_id": "00031-11921c04-7aae-44bd-99d5-36ac651069c9",
    "deepnote_cell_type": "markdown"
   }
  },
  {
   "cell_type": "code",
   "metadata": {
    "tags": [],
    "cell_id": "00033-c8509a84-baed-48c2-a000-e64d795e4893",
    "deepnote_to_be_reexecuted": false,
    "source_hash": "ae3ba837",
    "execution_start": 1620895171683,
    "execution_millis": 2,
    "deepnote_cell_type": "code"
   },
   "source": "#shop_names= lambda x: x.split(\" \")[1]\n#df_shops.shop_name.map(shop_names)",
   "execution_count": 19,
   "outputs": []
  },
  {
   "cell_type": "markdown",
   "source": "**Dropping duplicate shops**\n\n10 and 11  Жуковский ул. Чкалова 39м?\n\nРостовНаДону ТРК \"Мегацентр Горизонт\" Островной 39 40  \n\nМосква ТК \"Буденовский\" (пав.К7) ??\n\n",
   "metadata": {
    "tags": [],
    "cell_id": "00034-3bcf224a-bbef-4a14-b7b0-b25fa07726db",
    "deepnote_cell_type": "markdown"
   }
  },
  {
   "cell_type": "code",
   "metadata": {
    "tags": [],
    "cell_id": "00032-ea5de1fb-0eb9-4f63-8412-01f908d7a768",
    "deepnote_to_be_reexecuted": false,
    "source_hash": "faa0db6",
    "execution_start": 1620895171687,
    "execution_millis": 38,
    "deepnote_cell_type": "code"
   },
   "source": "df_shops=df_shops.drop([10,39,0]).reset_index()",
   "execution_count": 20,
   "outputs": []
  },
  {
   "cell_type": "markdown",
   "source": "** Identifying Online Shops **",
   "metadata": {
    "tags": [],
    "cell_id": "00036-c24386c9-418f-4fb9-a8b9-d899420c67cf",
    "deepnote_cell_type": "markdown"
   }
  },
  {
   "cell_type": "code",
   "metadata": {
    "tags": [],
    "deepnote_to_be_reexecuted": false,
    "source_hash": "5bd5f6f3",
    "execution_start": 1620895171728,
    "execution_millis": 51,
    "cell_id": "00033-63ddc5ab-6cce-46a4-bff1-59439e6f6cae",
    "deepnote_cell_type": "code"
   },
   "source": "df_shops[\"Online_Shops\"]=0\ndf_shops.loc[df_shops.shop_id==9,\"Online_Shops\"]=1\ndf_shops.loc[df_shops.shop_id==20,\"Online_Shops\"]=1\ndf_shops.loc[df_shops.shop_id==55,\"Online_Shops\"]=1",
   "execution_count": 21,
   "outputs": []
  },
  {
   "cell_type": "markdown",
   "source": "** Identifying Cities **",
   "metadata": {
    "tags": [],
    "cell_id": "00037-ff7eeb84-e47f-41cb-b3e4-5ad80498cdb8",
    "deepnote_cell_type": "markdown"
   }
  },
  {
   "cell_type": "code",
   "metadata": {
    "tags": [],
    "cell_id": "00038-9ab937e6-42f4-49bd-b365-0f2c7fc12949",
    "deepnote_to_be_reexecuted": false,
    "source_hash": "3dfedbf6",
    "execution_start": 1620899331993,
    "execution_millis": 74,
    "deepnote_cell_type": "code"
   },
   "source": "#Cleaning shop name\ndf_shops['cleaned'] = [df_shops['shop_name'][i].replace('!', '').replace('?', '')\n    .replace('²', '').replace('\" ', ' ').replace(' \"', ' ').replace('\"', '')\n    .replace('-', ' ').strip() for i in range(df_shops.shape[0])]\n\n\ncities= lambda x: x.split(\" \")[0]\ndf_shops[\"city\"]=df_shops.cleaned.map(cities)\nfor i in range(len(df_shops[\"city\"])):\n    if df_shops[\"city\"][i]==\"St.\":\n        df_shops[\"city\"][i]=\"Saint Petersburg\"\n    if df_shops[\"city\"][i]==\"Adygeya\":\n        df_shops[\"city\"][i]=\"Tul’skiy\"\n\ndf_shops.replace(, )\ndf_shops=df_shops.replace([\"St.\",\"Adygea\",\"N.Novgorod\"], [\"Saint Petersburg\",\"Tul’skiy\",\"Nizhniy Novgorod\"])\n#\n\ndf_shops",
   "execution_count": 88,
   "outputs": [
    {
     "name": "stderr",
     "text": "/shared-libs/python3.7/py-core/lib/python3.7/site-packages/ipykernel_launcher.py:11: SettingWithCopyWarning: \nA value is trying to be set on a copy of a slice from a DataFrame\n\nSee the caveats in the documentation: https://pandas.pydata.org/pandas-docs/stable/user_guide/indexing.html#returning-a-view-versus-a-copy\n  # This is added back by InteractiveShellApp.init_path()\n",
     "output_type": "stream"
    },
    {
     "output_type": "execute_result",
     "execution_count": 88,
     "data": {
      "application/vnd.deepnote.dataframe.v2+json": {
       "row_count": 60,
       "column_count": 9,
       "columns": [
        {
         "name": "shop_name",
         "dtype": "object",
         "stats": {
          "unique_count": 60,
          "nan_count": 0,
          "categories": [
           {
            "name": "! Yakutsk Ordzhonikidze, 56 francs",
            "count": 1
           },
           {
            "name": "! Yakutsk TC \"Central\" fran",
            "count": 1
           },
           {
            "name": "58 others",
            "count": 58
           }
          ]
         }
        },
        {
         "name": "shop_id",
         "dtype": "int64",
         "stats": {
          "unique_count": 60,
          "nan_count": 0,
          "min": "0",
          "max": "59",
          "histogram": [
           {
            "bin_start": 0,
            "bin_end": 5.9,
            "count": 6
           },
           {
            "bin_start": 5.9,
            "bin_end": 11.8,
            "count": 6
           },
           {
            "bin_start": 11.8,
            "bin_end": 17.700000000000003,
            "count": 6
           },
           {
            "bin_start": 17.700000000000003,
            "bin_end": 23.6,
            "count": 6
           },
           {
            "bin_start": 23.6,
            "bin_end": 29.5,
            "count": 6
           },
           {
            "bin_start": 29.5,
            "bin_end": 35.400000000000006,
            "count": 6
           },
           {
            "bin_start": 35.400000000000006,
            "bin_end": 41.300000000000004,
            "count": 6
           },
           {
            "bin_start": 41.300000000000004,
            "bin_end": 47.2,
            "count": 6
           },
           {
            "bin_start": 47.2,
            "bin_end": 53.1,
            "count": 6
           },
           {
            "bin_start": 53.1,
            "bin_end": 59,
            "count": 6
           }
          ]
         }
        },
        {
         "name": "cleaned",
         "dtype": "object",
         "stats": {
          "unique_count": 59,
          "nan_count": 0,
          "categories": [
           {
            "name": "Zhukovsky st. Chkalov 39m",
            "count": 2
           },
           {
            "name": "Yakutsk Ordzhonikidze, 56 francs",
            "count": 1
           },
           {
            "name": "57 others",
            "count": 57
           }
          ]
         }
        },
        {
         "name": "Cities",
         "dtype": "object",
         "stats": {
          "unique_count": 32,
          "nan_count": 0,
          "categories": [
           {
            "name": "Moscow",
            "count": 13
           },
           {
            "name": "Yakutsk",
            "count": 4
           },
           {
            "name": "30 others",
            "count": 43
           }
          ]
         }
        },
        {
         "name": "latitude",
         "dtype": "float64",
         "stats": {
          "unique_count": 15,
          "nan_count": 45,
          "min": "42.348221",
          "max": "62.091462500000006",
          "histogram": [
           {
            "bin_start": 42.348221,
            "bin_end": 44.32254515,
            "count": 1
           },
           {
            "bin_start": 44.32254515,
            "bin_end": 46.296869300000004,
            "count": 1
           },
           {
            "bin_start": 46.296869300000004,
            "bin_end": 48.271193450000005,
            "count": 1
           },
           {
            "bin_start": 48.271193450000005,
            "bin_end": 50.24551760000001,
            "count": 0
           },
           {
            "bin_start": 50.24551760000001,
            "bin_end": 52.21984175,
            "count": 1
           },
           {
            "bin_start": 52.21984175,
            "bin_end": 54.1941659,
            "count": 0
           },
           {
            "bin_start": 54.1941659,
            "bin_end": 56.16849005,
            "count": 8
           },
           {
            "bin_start": 56.16849005,
            "bin_end": 58.142814200000004,
            "count": 2
           },
           {
            "bin_start": 58.142814200000004,
            "bin_end": 60.117138350000005,
            "count": 0
           },
           {
            "bin_start": 60.117138350000005,
            "bin_end": 62.091462500000006,
            "count": 1
           }
          ]
         }
        },
        {
         "name": "longitude",
         "dtype": "float64",
         "stats": {
          "unique_count": 15,
          "nan_count": 45,
          "min": "-71.042664",
          "max": "129.76969577334057",
          "histogram": [
           {
            "bin_start": -71.042664,
            "bin_end": -50.96142802266594,
            "count": 1
           },
           {
            "bin_start": -50.96142802266594,
            "bin_end": -30.88019204533189,
            "count": 0
           },
           {
            "bin_start": -30.88019204533189,
            "bin_end": -10.798956067997835,
            "count": 0
           },
           {
            "bin_start": -10.798956067997835,
            "bin_end": 9.282279909336225,
            "count": 1
           },
           {
            "bin_start": 9.282279909336225,
            "bin_end": 29.363515886670285,
            "count": 0
           },
           {
            "bin_start": 29.363515886670285,
            "bin_end": 49.44475186400433,
            "count": 12
           },
           {
            "bin_start": 49.44475186400433,
            "bin_end": 69.5259878413384,
            "count": 0
           },
           {
            "bin_start": 69.5259878413384,
            "bin_end": 89.60722381867245,
            "count": 0
           },
           {
            "bin_start": 89.60722381867245,
            "bin_end": 109.6884597960065,
            "count": 0
           },
           {
            "bin_start": 109.6884597960065,
            "bin_end": 129.76969577334057,
            "count": 1
           }
          ]
         }
        },
        {
         "name": "population",
         "dtype": "float64",
         "stats": {
          "unique_count": 1,
          "nan_count": 45,
          "min": "0.0",
          "max": "0.0",
          "histogram": [
           {
            "bin_start": -0.5,
            "bin_end": -0.4,
            "count": 0
           },
           {
            "bin_start": -0.4,
            "bin_end": -0.3,
            "count": 0
           },
           {
            "bin_start": -0.3,
            "bin_end": -0.19999999999999996,
            "count": 0
           },
           {
            "bin_start": -0.19999999999999996,
            "bin_end": -0.09999999999999998,
            "count": 0
           },
           {
            "bin_start": -0.09999999999999998,
            "bin_end": 0,
            "count": 0
           },
           {
            "bin_start": 0,
            "bin_end": 0.10000000000000009,
            "count": 15
           },
           {
            "bin_start": 0.10000000000000009,
            "bin_end": 0.20000000000000007,
            "count": 0
           },
           {
            "bin_start": 0.20000000000000007,
            "bin_end": 0.30000000000000004,
            "count": 0
           },
           {
            "bin_start": 0.30000000000000004,
            "bin_end": 0.4,
            "count": 0
           },
           {
            "bin_start": 0.4,
            "bin_end": 0.5,
            "count": 0
           }
          ]
         }
        },
        {
         "name": "capital",
         "dtype": "int64",
         "stats": {
          "unique_count": 1,
          "nan_count": 0,
          "min": "0",
          "max": "0",
          "histogram": [
           {
            "bin_start": -0.5,
            "bin_end": -0.4,
            "count": 0
           },
           {
            "bin_start": -0.4,
            "bin_end": -0.3,
            "count": 0
           },
           {
            "bin_start": -0.3,
            "bin_end": -0.19999999999999996,
            "count": 0
           },
           {
            "bin_start": -0.19999999999999996,
            "bin_end": -0.09999999999999998,
            "count": 0
           },
           {
            "bin_start": -0.09999999999999998,
            "bin_end": 0,
            "count": 0
           },
           {
            "bin_start": 0,
            "bin_end": 0.10000000000000009,
            "count": 60
           },
           {
            "bin_start": 0.10000000000000009,
            "bin_end": 0.20000000000000007,
            "count": 0
           },
           {
            "bin_start": 0.20000000000000007,
            "bin_end": 0.30000000000000004,
            "count": 0
           },
           {
            "bin_start": 0.30000000000000004,
            "bin_end": 0.4,
            "count": 0
           },
           {
            "bin_start": 0.4,
            "bin_end": 0.5,
            "count": 0
           }
          ]
         }
        },
        {
         "name": "city",
         "dtype": "object",
         "stats": {
          "unique_count": 32,
          "nan_count": 0,
          "categories": [
           {
            "name": "Moscow",
            "count": 13
           },
           {
            "name": "Yakutsk",
            "count": 4
           },
           {
            "name": "30 others",
            "count": 43
           }
          ]
         }
        },
        {
         "name": "_deepnote_index_column",
         "dtype": "int64"
        }
       ],
       "rows_top": [
        {
         "shop_name": "! Yakutsk Ordzhonikidze, 56 francs",
         "shop_id": 0,
         "cleaned": "Yakutsk Ordzhonikidze, 56 francs",
         "Cities": "Yakutsk",
         "latitude": "nan",
         "longitude": "nan",
         "population": "nan",
         "capital": 0,
         "city": "Yakutsk",
         "_deepnote_index_column": 0
        },
        {
         "shop_name": "! Yakutsk TC \"Central\" fran",
         "shop_id": 1,
         "cleaned": "Yakutsk TC Central fran",
         "Cities": "Yakutsk",
         "latitude": "nan",
         "longitude": "nan",
         "population": "nan",
         "capital": 0,
         "city": "Yakutsk",
         "_deepnote_index_column": 1
        },
        {
         "shop_name": " Adygea TC \"Mega\"",
         "shop_id": 2,
         "cleaned": "Adygea TC Mega",
         "Cities": "Tul’skiy",
         "latitude": "45.012948949999995",
         "longitude": "38.92903300373271",
         "population": "0.0",
         "capital": 0,
         "city": "Tul’skiy",
         "_deepnote_index_column": 2
        },
        {
         "shop_name": " Balashikha TC \"Oktyabr-Kinomir\"",
         "shop_id": 3,
         "cleaned": "Balashikha TC Oktyabr Kinomir",
         "Cities": "Balashikha",
         "latitude": "nan",
         "longitude": "nan",
         "population": "nan",
         "capital": 0,
         "city": "Balashikha",
         "_deepnote_index_column": 3
        },
        {
         "shop_name": " Volga TC \"Volga Mall\"",
         "shop_id": 4,
         "cleaned": "Volga TC Volga Mall",
         "Cities": "Volga",
         "latitude": "nan",
         "longitude": "nan",
         "population": "0.0",
         "capital": 0,
         "city": "Volga",
         "_deepnote_index_column": 4
        },
        {
         "shop_name": " Vologda SEC \"Marmelad\"",
         "shop_id": 5,
         "cleaned": "Vologda SEC Marmelad",
         "Cities": "Vologda",
         "latitude": "nan",
         "longitude": "nan",
         "population": "nan",
         "capital": 0,
         "city": "Vologda",
         "_deepnote_index_column": 5
        },
        {
         "shop_name": " Voronezh (Plekhanovskaya, 13)",
         "shop_id": 6,
         "cleaned": "Voronezh (Plekhanovskaya, 13)",
         "Cities": "Voronezh",
         "latitude": "nan",
         "longitude": "nan",
         "population": "nan",
         "capital": 0,
         "city": "Voronezh",
         "_deepnote_index_column": 6
        },
        {
         "shop_name": " Voronezh SEC \"Maksimir\"",
         "shop_id": 7,
         "cleaned": "Voronezh SEC Maksimir",
         "Cities": "Voronezh",
         "latitude": "51.697217800000004",
         "longitude": "39.27362145990902",
         "population": "nan",
         "capital": 0,
         "city": "Voronezh",
         "_deepnote_index_column": 7
        },
        {
         "shop_name": " Voronezh SEC City-Park \"Grad\"",
         "shop_id": 8,
         "cleaned": "Voronezh SEC City Park Grad",
         "Cities": "Voronezh",
         "latitude": "nan",
         "longitude": "nan",
         "population": "nan",
         "capital": 0,
         "city": "Voronezh",
         "_deepnote_index_column": 8
        },
        {
         "shop_name": " Outbound Trade",
         "shop_id": 9,
         "cleaned": "Outbound Trade",
         "Cities": "Outbound",
         "latitude": "42.348221",
         "longitude": "-71.042664",
         "population": "0.0",
         "capital": 0,
         "city": "Outbound",
         "_deepnote_index_column": 9
        },
        {
         "shop_name": " Zhukovsky st. Chkalov 39m?",
         "shop_id": 10,
         "cleaned": "Zhukovsky st. Chkalov 39m",
         "Cities": "Zhukovsky",
         "latitude": "nan",
         "longitude": "nan",
         "population": "0.0",
         "capital": 0,
         "city": "Zhukovsky",
         "_deepnote_index_column": 10
        },
        {
         "shop_name": " Zhukovsky st. Chkalov 39m²",
         "shop_id": 11,
         "cleaned": "Zhukovsky st. Chkalov 39m",
         "Cities": "Zhukovsky",
         "latitude": "nan",
         "longitude": "nan",
         "population": "0.0",
         "capital": 0,
         "city": "Zhukovsky",
         "_deepnote_index_column": 11
        },
        {
         "shop_name": " Internet-shop of emergency situations",
         "shop_id": 12,
         "cleaned": "Internet shop of emergency situations",
         "Cities": "Internet",
         "latitude": "nan",
         "longitude": "nan",
         "population": "0.0",
         "capital": 0,
         "city": "Internet",
         "_deepnote_index_column": 12
        },
        {
         "shop_name": " Kazan TC \"Behetle\"",
         "shop_id": 13,
         "cleaned": "Kazan TC Behetle",
         "Cities": "Kazan",
         "latitude": "nan",
         "longitude": "nan",
         "population": "nan",
         "capital": 0,
         "city": "Kazan",
         "_deepnote_index_column": 13
        },
        {
         "shop_name": " Kazan TC \"ParkHouse\" II",
         "shop_id": 14,
         "cleaned": "Kazan TC ParkHouse II",
         "Cities": "Kazan",
         "latitude": "nan",
         "longitude": "nan",
         "population": "nan",
         "capital": 0,
         "city": "Kazan",
         "_deepnote_index_column": 14
        },
        {
         "shop_name": " Kaluga TC \"XXI century\"",
         "shop_id": 15,
         "cleaned": "Kaluga TC XXI century",
         "Cities": "Kaluga",
         "latitude": "nan",
         "longitude": "nan",
         "population": "nan",
         "capital": 0,
         "city": "Kaluga",
         "_deepnote_index_column": 15
        },
        {
         "shop_name": " Kolomna TC \"Rio\"",
         "shop_id": 16,
         "cleaned": "Kolomna TC Rio",
         "Cities": "Kolomna",
         "latitude": "55.0841251",
         "longitude": "38.8001618",
         "population": "nan",
         "capital": 0,
         "city": "Kolomna",
         "_deepnote_index_column": 16
        },
        {
         "shop_name": " Krasnoyarsk TC \"Vzletka Plaza\"",
         "shop_id": 17,
         "cleaned": "Krasnoyarsk TC Vzletka Plaza",
         "Cities": "Krasnoyarsk",
         "latitude": "nan",
         "longitude": "nan",
         "population": "nan",
         "capital": 0,
         "city": "Krasnoyarsk",
         "_deepnote_index_column": 17
        },
        {
         "shop_name": " Krasnoyarsk TC \"June\"",
         "shop_id": 18,
         "cleaned": "Krasnoyarsk TC June",
         "Cities": "Krasnoyarsk",
         "latitude": "nan",
         "longitude": "nan",
         "population": "nan",
         "capital": 0,
         "city": "Krasnoyarsk",
         "_deepnote_index_column": 18
        },
        {
         "shop_name": " Kursk TC \" Pushkinskiy \"",
         "shop_id": 19,
         "cleaned": "Kursk TC  Pushkinskiy",
         "Cities": "Kursk",
         "latitude": "nan",
         "longitude": "nan",
         "population": "nan",
         "capital": 0,
         "city": "Kursk",
         "_deepnote_index_column": 19
        },
        {
         "shop_name": " Moscow\" Sale \"",
         "shop_id": 20,
         "cleaned": "Moscow Sale",
         "Cities": "Moscow",
         "latitude": "55.7585392",
         "longitude": "37.741209",
         "population": "nan",
         "capital": 0,
         "city": "Moscow",
         "_deepnote_index_column": 20
        },
        {
         "shop_name": " Moscow MTRC\" Afi Mall \"",
         "shop_id": 21,
         "cleaned": "Moscow MTRC Afi Mall",
         "Cities": "Moscow",
         "latitude": "nan",
         "longitude": "nan",
         "population": "nan",
         "capital": 0,
         "city": "Moscow",
         "_deepnote_index_column": 21
        },
        {
         "shop_name": " Moscow Shop C21",
         "shop_id": 22,
         "cleaned": "Moscow Shop C21",
         "Cities": "Moscow",
         "latitude": "55.6188728",
         "longitude": "37.6543187",
         "population": "nan",
         "capital": 0,
         "city": "Moscow",
         "_deepnote_index_column": 22
        },
        {
         "shop_name": " Moscow TK\" Budenovskiy \"(pav.A2)",
         "shop_id": 23,
         "cleaned": "Moscow TK Budenovskiy (pav.A2)",
         "Cities": "Moscow",
         "latitude": "nan",
         "longitude": "nan",
         "population": "nan",
         "capital": 0,
         "city": "Moscow",
         "_deepnote_index_column": 23
        },
        {
         "shop_name": " Moscow TK\" Budenovskiy \"(pav.K7)",
         "shop_id": 24,
         "cleaned": "Moscow TK Budenovskiy (pav.K7)",
         "Cities": "Moscow",
         "latitude": "nan",
         "longitude": "nan",
         "population": "nan",
         "capital": 0,
         "city": "Moscow",
         "_deepnote_index_column": 24
        },
        {
         "shop_name": " Moscow TEC\" Atrium \"",
         "shop_id": 25,
         "cleaned": "Moscow TEC Atrium",
         "Cities": "Moscow",
         "latitude": "55.8187423",
         "longitude": "37.52124755184107",
         "population": "nan",
         "capital": 0,
         "city": "Moscow",
         "_deepnote_index_column": 25
        },
        {
         "shop_name": " Moscow TTS\" Areal \"(Belyaevo)",
         "shop_id": 26,
         "cleaned": "Moscow TTS Areal (Belyaevo)",
         "Cities": "Moscow",
         "latitude": "nan",
         "longitude": "nan",
         "population": "nan",
         "capital": 0,
         "city": "Moscow",
         "_deepnote_index_column": 26
        },
        {
         "shop_name": " Moscow TC\" MEGA Belaya Dacha II \"",
         "shop_id": 27,
         "cleaned": "Moscow TC MEGA Belaya Dacha II",
         "Cities": "Moscow",
         "latitude": "nan",
         "longitude": "nan",
         "population": "nan",
         "capital": 0,
         "city": "Moscow",
         "_deepnote_index_column": 27
        },
        {
         "shop_name": " Moscow TC\" MEGA Teply Stan \"II",
         "shop_id": 28,
         "cleaned": "Moscow TC MEGA Teply Stan II",
         "Cities": "Moscow",
         "latitude": "nan",
         "longitude": "nan",
         "population": "nan",
         "capital": 0,
         "city": "Moscow",
         "_deepnote_index_column": 28
        },
        {
         "shop_name": " Moscow TC\" New Age \"(Novokosino)",
         "shop_id": 29,
         "cleaned": "Moscow TC New Age (Novokosino)",
         "Cities": "Moscow",
         "latitude": "nan",
         "longitude": "nan",
         "population": "nan",
         "capital": 0,
         "city": "Moscow",
         "_deepnote_index_column": 29
        },
        {
         "shop_name": " Moscow TC\" Perlovsky \"",
         "shop_id": 30,
         "cleaned": "Moscow TC Perlovsky",
         "Cities": "Moscow",
         "latitude": "nan",
         "longitude": "nan",
         "population": "nan",
         "capital": 0,
         "city": "Moscow",
         "_deepnote_index_column": 30
        },
        {
         "shop_name": " Moscow TC\" Semenovsky \"",
         "shop_id": 31,
         "cleaned": "Moscow TC Semenovsky",
         "Cities": "Moscow",
         "latitude": "nan",
         "longitude": "nan",
         "population": "nan",
         "capital": 0,
         "city": "Moscow",
         "_deepnote_index_column": 31
        },
        {
         "shop_name": " Moscow TC\" Serebryany House \"",
         "shop_id": 32,
         "cleaned": "Moscow TC Serebryany House",
         "Cities": "Moscow",
         "latitude": "55.7814253",
         "longitude": "37.4206318",
         "population": "nan",
         "capital": 0,
         "city": "Moscow",
         "_deepnote_index_column": 32
        },
        {
         "shop_name": " Mytishchi SEC\" XL-3 \"",
         "shop_id": 33,
         "cleaned": "Mytishchi SEC XL 3",
         "Cities": "Mytishchi",
         "latitude": "55.89164445",
         "longitude": "37.74500599901913",
         "population": "nan",
         "capital": 0,
         "city": "Mytishchi",
         "_deepnote_index_column": 33
        },
        {
         "shop_name": " N.Novgorod SEC\" RIO \"",
         "shop_id": 34,
         "cleaned": "N.Novgorod SEC RIO",
         "Cities": "N.Novgorod",
         "latitude": "56.2486561",
         "longitude": "43.8657285",
         "population": "0.0",
         "capital": 0,
         "city": "N.Novgorod",
         "_deepnote_index_column": 34
        },
        {
         "shop_name": " N.Novgorod SEC\" Fantasy \"",
         "shop_id": 35,
         "cleaned": "N.Novgorod SEC Fantasy",
         "Cities": "N.Novgorod",
         "latitude": "nan",
         "longitude": "nan",
         "population": "0.0",
         "capital": 0,
         "city": "N.Novgorod",
         "_deepnote_index_column": 35
        },
        {
         "shop_name": " Novosibirsk SEC\" Gallery Novosibirsk \"",
         "shop_id": 36,
         "cleaned": "Novosibirsk SEC Gallery Novosibirsk",
         "Cities": "Novosibirsk",
         "latitude": "nan",
         "longitude": "nan",
         "population": "nan",
         "capital": 0,
         "city": "Novosibirsk",
         "_deepnote_index_column": 36
        },
        {
         "shop_name": " Novosibirsk SEC\" Mega \"",
         "shop_id": 37,
         "cleaned": "Novosibirsk SEC Mega",
         "Cities": "Novosibirsk",
         "latitude": "nan",
         "longitude": "nan",
         "population": "nan",
         "capital": 0,
         "city": "Novosibirsk",
         "_deepnote_index_column": 37
        },
        {
         "shop_name": " Omsk TC\" Mega \"",
         "shop_id": 38,
         "cleaned": "Omsk TC Mega",
         "Cities": "Omsk",
         "latitude": "nan",
         "longitude": "nan",
         "population": "nan",
         "capital": 0,
         "city": "Omsk",
         "_deepnote_index_column": 38
        },
        {
         "shop_name": " RostovNaDonu SEC\" Megacenter Horizon",
         "shop_id": 39,
         "cleaned": "RostovNaDonu SEC Megacenter Horizon",
         "Cities": "RostovNaDonu",
         "latitude": "nan",
         "longitude": "nan",
         "population": "0.0",
         "capital": 0,
         "city": "RostovNaDonu",
         "_deepnote_index_column": 39
        },
        {
         "shop_name": " RostovNaDon Megatsentr Gorizont Ostrovnoy shopping mall",
         "shop_id": 40,
         "cleaned": "RostovNaDon Megatsentr Gorizont Ostrovnoy shopping mall",
         "Cities": "RostovNaDon",
         "latitude": "nan",
         "longitude": "nan",
         "population": "0.0",
         "capital": 0,
         "city": "RostovNaDon",
         "_deepnote_index_column": 40
        },
        {
         "shop_name": " RostovNaDon Mega shopping center",
         "shop_id": 41,
         "cleaned": "RostovNaDon Mega shopping center",
         "Cities": "RostovNaDon",
         "latitude": "nan",
         "longitude": "nan",
         "population": "0.0",
         "capital": 0,
         "city": "RostovNaDon",
         "_deepnote_index_column": 41
        },
        {
         "shop_name": " St. Petersburg Nevsky Center shopping center",
         "shop_id": 42,
         "cleaned": "St. Petersburg Nevsky Center shopping center",
         "Cities": "Saint Petersburg",
         "latitude": "nan",
         "longitude": "nan",
         "population": "0.0",
         "capital": 0,
         "city": "Saint Petersburg",
         "_deepnote_index_column": 42
        },
        {
         "shop_name": " St. Petersburg Sennaya shopping center",
         "shop_id": 43,
         "cleaned": "St. Petersburg Sennaya shopping center",
         "Cities": "Saint Petersburg",
         "latitude": "nan",
         "longitude": "nan",
         "population": "0.0",
         "capital": 0,
         "city": "Saint Petersburg",
         "_deepnote_index_column": 43
        },
        {
         "shop_name": " Samara Melody shopping center",
         "shop_id": 44,
         "cleaned": "Samara Melody shopping center",
         "Cities": "Samara",
         "latitude": "nan",
         "longitude": "nan",
         "population": "nan",
         "capital": 0,
         "city": "Samara",
         "_deepnote_index_column": 44
        },
        {
         "shop_name": " Samara ParkHouse shopping center",
         "shop_id": 45,
         "cleaned": "Samara ParkHouse shopping center",
         "Cities": "Samara",
         "latitude": "nan",
         "longitude": "nan",
         "population": "nan",
         "capital": 0,
         "city": "Samara",
         "_deepnote_index_column": 45
        },
        {
         "shop_name": " Sergiev Posad 7Ya shopping center",
         "shop_id": 46,
         "cleaned": "Sergiev Posad 7Ya shopping center",
         "Cities": "Sergiev",
         "latitude": "nan",
         "longitude": "nan",
         "population": "0.0",
         "capital": 0,
         "city": "Sergiev",
         "_deepnote_index_column": 46
        },
        {
         "shop_name": " Surgut SEC \"City Mall\"",
         "shop_id": 47,
         "cleaned": "Surgut SEC City Mall",
         "Cities": "Surgut",
         "latitude": "nan",
         "longitude": "nan",
         "population": "nan",
         "capital": 0,
         "city": "Surgut",
         "_deepnote_index_column": 47
        },
        {
         "shop_name": " Tomsk SEC \"Emerald City\"",
         "shop_id": 48,
         "cleaned": "Tomsk SEC Emerald City",
         "Cities": "Tomsk",
         "latitude": "nan",
         "longitude": "nan",
         "population": "nan",
         "capital": 0,
         "city": "Tomsk",
         "_deepnote_index_column": 48
        },
        {
         "shop_name": " Tyumen SEC \"Crystal\"",
         "shop_id": 49,
         "cleaned": "Tyumen SEC Crystal",
         "Cities": "Tyumen",
         "latitude": "nan",
         "longitude": "nan",
         "population": "nan",
         "capital": 0,
         "city": "Tyumen",
         "_deepnote_index_column": 49
        },
        {
         "shop_name": " Tyumen SEC \"Goodwin\"",
         "shop_id": 50,
         "cleaned": "Tyumen SEC Goodwin",
         "Cities": "Tyumen",
         "latitude": "nan",
         "longitude": "nan",
         "population": "nan",
         "capital": 0,
         "city": "Tyumen",
         "_deepnote_index_column": 50
        },
        {
         "shop_name": " Tyumen TC \"Green Coast \"",
         "shop_id": 51,
         "cleaned": "Tyumen TC Green Coast",
         "Cities": "Tyumen",
         "latitude": "nan",
         "longitude": "nan",
         "population": "nan",
         "capital": 0,
         "city": "Tyumen",
         "_deepnote_index_column": 51
        },
        {
         "shop_name": " Ufa TC\" Central \"",
         "shop_id": 52,
         "cleaned": "Ufa TC Central",
         "Cities": "Ufa",
         "latitude": "46.370935349999996",
         "longitude": "6.231168493722434",
         "population": "nan",
         "capital": 0,
         "city": "Ufa",
         "_deepnote_index_column": 52
        },
        {
         "shop_name": " Ufa TC\" Family \"2",
         "shop_id": 53,
         "cleaned": "Ufa TC Family 2",
         "Cities": "Ufa",
         "latitude": "nan",
         "longitude": "nan",
         "population": "nan",
         "capital": 0,
         "city": "Ufa",
         "_deepnote_index_column": 53
        },
        {
         "shop_name": " Khimki TC\" Mega \"",
         "shop_id": 54,
         "cleaned": "Khimki TC Mega",
         "Cities": "Khimki",
         "latitude": "55.9114337",
         "longitude": "37.395596590243215",
         "population": "nan",
         "capital": 0,
         "city": "Khimki",
         "_deepnote_index_column": 54
        },
        {
         "shop_name": " Digital warehouse 1C-Online",
         "shop_id": 55,
         "cleaned": "Digital warehouse 1C Online",
         "Cities": "Digital",
         "latitude": "nan",
         "longitude": "nan",
         "population": "0.0",
         "capital": 0,
         "city": "Digital",
         "_deepnote_index_column": 55
        },
        {
         "shop_name": " Chekhov TC\" Karnaval \"",
         "shop_id": 56,
         "cleaned": "Chekhov TC Karnaval",
         "Cities": "Chekhov",
         "latitude": "55.15334245",
         "longitude": "37.459416910922286",
         "population": "nan",
         "capital": 0,
         "city": "Chekhov",
         "_deepnote_index_column": 56
        },
        {
         "shop_name": " Yakutsk Ordzhonikidze, 56",
         "shop_id": 57,
         "cleaned": "Yakutsk Ordzhonikidze, 56",
         "Cities": "Yakutsk",
         "latitude": "nan",
         "longitude": "nan",
         "population": "nan",
         "capital": 0,
         "city": "Yakutsk",
         "_deepnote_index_column": 57
        },
        {
         "shop_name": " Yakutsk TC\" Central \"",
         "shop_id": 58,
         "cleaned": "Yakutsk TC Central",
         "Cities": "Yakutsk",
         "latitude": "62.091462500000006",
         "longitude": "129.76969577334057",
         "population": "nan",
         "capital": 0,
         "city": "Yakutsk",
         "_deepnote_index_column": 58
        },
        {
         "shop_name": " Yaroslavl TC\" Altair \"",
         "shop_id": 59,
         "cleaned": "Yaroslavl TC Altair",
         "Cities": "Yaroslavl",
         "latitude": "57.69780985",
         "longitude": "39.75859173669758",
         "population": "nan",
         "capital": 0,
         "city": "Yaroslavl",
         "_deepnote_index_column": 59
        }
       ],
       "rows_bottom": null
      },
      "text/plain": "                                            shop_name  shop_id  \\\n0                  ! Yakutsk Ordzhonikidze, 56 francs        0   \n1                         ! Yakutsk TC \"Central\" fran        1   \n2                                    Adygea TC \"Mega\"        2   \n3                     Balashikha TC \"Oktyabr-Kinomir\"        3   \n4                               Volga TC \"Volga Mall\"        4   \n5                              Vologda SEC \"Marmelad\"        5   \n6                       Voronezh (Plekhanovskaya, 13)        6   \n7                             Voronezh SEC \"Maksimir\"        7   \n8                       Voronezh SEC City-Park \"Grad\"        8   \n9                                      Outbound Trade        9   \n10                         Zhukovsky st. Chkalov 39m?       10   \n11                         Zhukovsky st. Chkalov 39m²       11   \n12              Internet-shop of emergency situations       12   \n13                                 Kazan TC \"Behetle\"       13   \n14                            Kazan TC \"ParkHouse\" II       14   \n15                            Kaluga TC \"XXI century\"       15   \n16                                   Kolomna TC \"Rio\"       16   \n17                     Krasnoyarsk TC \"Vzletka Plaza\"       17   \n18                              Krasnoyarsk TC \"June\"       18   \n19                           Kursk TC \" Pushkinskiy \"       19   \n20                                     Moscow\" Sale \"       20   \n21                            Moscow MTRC\" Afi Mall \"       21   \n22                                    Moscow Shop C21       22   \n23                   Moscow TK\" Budenovskiy \"(pav.A2)       23   \n24                   Moscow TK\" Budenovskiy \"(pav.K7)       24   \n25                               Moscow TEC\" Atrium \"       25   \n26                      Moscow TTS\" Areal \"(Belyaevo)       26   \n27                  Moscow TC\" MEGA Belaya Dacha II \"       27   \n28                     Moscow TC\" MEGA Teply Stan \"II       28   \n29                   Moscow TC\" New Age \"(Novokosino)       29   \n30                             Moscow TC\" Perlovsky \"       30   \n31                            Moscow TC\" Semenovsky \"       31   \n32                      Moscow TC\" Serebryany House \"       32   \n33                              Mytishchi SEC\" XL-3 \"       33   \n34                              N.Novgorod SEC\" RIO \"       34   \n35                          N.Novgorod SEC\" Fantasy \"       35   \n36             Novosibirsk SEC\" Gallery Novosibirsk \"       36   \n37                            Novosibirsk SEC\" Mega \"       37   \n38                                    Omsk TC\" Mega \"       38   \n39               RostovNaDonu SEC\" Megacenter Horizon       39   \n40   RostovNaDon Megatsentr Gorizont Ostrovnoy sho...       40   \n41                   RostovNaDon Mega shopping center       41   \n42       St. Petersburg Nevsky Center shopping center       42   \n43             St. Petersburg Sennaya shopping center       43   \n44                      Samara Melody shopping center       44   \n45                   Samara ParkHouse shopping center       45   \n46                  Sergiev Posad 7Ya shopping center       46   \n47                             Surgut SEC \"City Mall\"       47   \n48                           Tomsk SEC \"Emerald City\"       48   \n49                               Tyumen SEC \"Crystal\"       49   \n50                               Tyumen SEC \"Goodwin\"       50   \n51                           Tyumen TC \"Green Coast \"       51   \n52                                  Ufa TC\" Central \"       52   \n53                                  Ufa TC\" Family \"2       53   \n54                                  Khimki TC\" Mega \"       54   \n55                        Digital warehouse 1C-Online       55   \n56                             Chekhov TC\" Karnaval \"       56   \n57                          Yakutsk Ordzhonikidze, 56       57   \n58                              Yakutsk TC\" Central \"       58   \n59                             Yaroslavl TC\" Altair \"       59   \n\n                                              cleaned            Cities  \\\n0                    Yakutsk Ordzhonikidze, 56 francs           Yakutsk   \n1                             Yakutsk TC Central fran           Yakutsk   \n2                                      Adygea TC Mega          Tul’skiy   \n3                       Balashikha TC Oktyabr Kinomir        Balashikha   \n4                                 Volga TC Volga Mall             Volga   \n5                                Vologda SEC Marmelad           Vologda   \n6                       Voronezh (Plekhanovskaya, 13)          Voronezh   \n7                               Voronezh SEC Maksimir          Voronezh   \n8                         Voronezh SEC City Park Grad          Voronezh   \n9                                      Outbound Trade          Outbound   \n10                          Zhukovsky st. Chkalov 39m         Zhukovsky   \n11                          Zhukovsky st. Chkalov 39m         Zhukovsky   \n12              Internet shop of emergency situations          Internet   \n13                                   Kazan TC Behetle             Kazan   \n14                              Kazan TC ParkHouse II             Kazan   \n15                              Kaluga TC XXI century            Kaluga   \n16                                     Kolomna TC Rio           Kolomna   \n17                       Krasnoyarsk TC Vzletka Plaza       Krasnoyarsk   \n18                                Krasnoyarsk TC June       Krasnoyarsk   \n19                              Kursk TC  Pushkinskiy             Kursk   \n20                                        Moscow Sale            Moscow   \n21                               Moscow MTRC Afi Mall            Moscow   \n22                                    Moscow Shop C21            Moscow   \n23                     Moscow TK Budenovskiy (pav.A2)            Moscow   \n24                     Moscow TK Budenovskiy (pav.K7)            Moscow   \n25                                  Moscow TEC Atrium            Moscow   \n26                        Moscow TTS Areal (Belyaevo)            Moscow   \n27                     Moscow TC MEGA Belaya Dacha II            Moscow   \n28                       Moscow TC MEGA Teply Stan II            Moscow   \n29                     Moscow TC New Age (Novokosino)            Moscow   \n30                                Moscow TC Perlovsky            Moscow   \n31                               Moscow TC Semenovsky            Moscow   \n32                         Moscow TC Serebryany House            Moscow   \n33                                 Mytishchi SEC XL 3         Mytishchi   \n34                                 N.Novgorod SEC RIO        N.Novgorod   \n35                             N.Novgorod SEC Fantasy        N.Novgorod   \n36                Novosibirsk SEC Gallery Novosibirsk       Novosibirsk   \n37                               Novosibirsk SEC Mega       Novosibirsk   \n38                                       Omsk TC Mega              Omsk   \n39                RostovNaDonu SEC Megacenter Horizon      RostovNaDonu   \n40  RostovNaDon Megatsentr Gorizont Ostrovnoy shop...       RostovNaDon   \n41                   RostovNaDon Mega shopping center       RostovNaDon   \n42       St. Petersburg Nevsky Center shopping center  Saint Petersburg   \n43             St. Petersburg Sennaya shopping center  Saint Petersburg   \n44                      Samara Melody shopping center            Samara   \n45                   Samara ParkHouse shopping center            Samara   \n46                  Sergiev Posad 7Ya shopping center           Sergiev   \n47                               Surgut SEC City Mall            Surgut   \n48                             Tomsk SEC Emerald City             Tomsk   \n49                                 Tyumen SEC Crystal            Tyumen   \n50                                 Tyumen SEC Goodwin            Tyumen   \n51                              Tyumen TC Green Coast            Tyumen   \n52                                     Ufa TC Central               Ufa   \n53                                    Ufa TC Family 2               Ufa   \n54                                     Khimki TC Mega            Khimki   \n55                        Digital warehouse 1C Online           Digital   \n56                                Chekhov TC Karnaval           Chekhov   \n57                          Yakutsk Ordzhonikidze, 56           Yakutsk   \n58                                 Yakutsk TC Central           Yakutsk   \n59                                Yaroslavl TC Altair         Yaroslavl   \n\n     latitude   longitude  population  capital              city  \n0         NaN         NaN         NaN        0           Yakutsk  \n1         NaN         NaN         NaN        0           Yakutsk  \n2   45.012949   38.929033         0.0        0          Tul’skiy  \n3         NaN         NaN         NaN        0        Balashikha  \n4         NaN         NaN         0.0        0             Volga  \n5         NaN         NaN         NaN        0           Vologda  \n6         NaN         NaN         NaN        0          Voronezh  \n7   51.697218   39.273621         NaN        0          Voronezh  \n8         NaN         NaN         NaN        0          Voronezh  \n9   42.348221  -71.042664         0.0        0          Outbound  \n10        NaN         NaN         0.0        0         Zhukovsky  \n11        NaN         NaN         0.0        0         Zhukovsky  \n12        NaN         NaN         0.0        0          Internet  \n13        NaN         NaN         NaN        0             Kazan  \n14        NaN         NaN         NaN        0             Kazan  \n15        NaN         NaN         NaN        0            Kaluga  \n16  55.084125   38.800162         NaN        0           Kolomna  \n17        NaN         NaN         NaN        0       Krasnoyarsk  \n18        NaN         NaN         NaN        0       Krasnoyarsk  \n19        NaN         NaN         NaN        0             Kursk  \n20  55.758539   37.741209         NaN        0            Moscow  \n21        NaN         NaN         NaN        0            Moscow  \n22  55.618873   37.654319         NaN        0            Moscow  \n23        NaN         NaN         NaN        0            Moscow  \n24        NaN         NaN         NaN        0            Moscow  \n25  55.818742   37.521248         NaN        0            Moscow  \n26        NaN         NaN         NaN        0            Moscow  \n27        NaN         NaN         NaN        0            Moscow  \n28        NaN         NaN         NaN        0            Moscow  \n29        NaN         NaN         NaN        0            Moscow  \n30        NaN         NaN         NaN        0            Moscow  \n31        NaN         NaN         NaN        0            Moscow  \n32  55.781425   37.420632         NaN        0            Moscow  \n33  55.891644   37.745006         NaN        0         Mytishchi  \n34  56.248656   43.865729         0.0        0        N.Novgorod  \n35        NaN         NaN         0.0        0        N.Novgorod  \n36        NaN         NaN         NaN        0       Novosibirsk  \n37        NaN         NaN         NaN        0       Novosibirsk  \n38        NaN         NaN         NaN        0              Omsk  \n39        NaN         NaN         0.0        0      RostovNaDonu  \n40        NaN         NaN         0.0        0       RostovNaDon  \n41        NaN         NaN         0.0        0       RostovNaDon  \n42        NaN         NaN         0.0        0  Saint Petersburg  \n43        NaN         NaN         0.0        0  Saint Petersburg  \n44        NaN         NaN         NaN        0            Samara  \n45        NaN         NaN         NaN        0            Samara  \n46        NaN         NaN         0.0        0           Sergiev  \n47        NaN         NaN         NaN        0            Surgut  \n48        NaN         NaN         NaN        0             Tomsk  \n49        NaN         NaN         NaN        0            Tyumen  \n50        NaN         NaN         NaN        0            Tyumen  \n51        NaN         NaN         NaN        0            Tyumen  \n52  46.370935    6.231168         NaN        0               Ufa  \n53        NaN         NaN         NaN        0               Ufa  \n54  55.911434   37.395597         NaN        0            Khimki  \n55        NaN         NaN         0.0        0           Digital  \n56  55.153342   37.459417         NaN        0           Chekhov  \n57        NaN         NaN         NaN        0           Yakutsk  \n58  62.091463  129.769696         NaN        0           Yakutsk  \n59  57.697810   39.758592         NaN        0         Yaroslavl  ",
      "text/html": "<div>\n<style scoped>\n    .dataframe tbody tr th:only-of-type {\n        vertical-align: middle;\n    }\n\n    .dataframe tbody tr th {\n        vertical-align: top;\n    }\n\n    .dataframe thead th {\n        text-align: right;\n    }\n</style>\n<table border=\"1\" class=\"dataframe\">\n  <thead>\n    <tr style=\"text-align: right;\">\n      <th></th>\n      <th>shop_name</th>\n      <th>shop_id</th>\n      <th>cleaned</th>\n      <th>Cities</th>\n      <th>latitude</th>\n      <th>longitude</th>\n      <th>population</th>\n      <th>capital</th>\n      <th>city</th>\n    </tr>\n  </thead>\n  <tbody>\n    <tr>\n      <th>0</th>\n      <td>! Yakutsk Ordzhonikidze, 56 francs</td>\n      <td>0</td>\n      <td>Yakutsk Ordzhonikidze, 56 francs</td>\n      <td>Yakutsk</td>\n      <td>NaN</td>\n      <td>NaN</td>\n      <td>NaN</td>\n      <td>0</td>\n      <td>Yakutsk</td>\n    </tr>\n    <tr>\n      <th>1</th>\n      <td>! Yakutsk TC \"Central\" fran</td>\n      <td>1</td>\n      <td>Yakutsk TC Central fran</td>\n      <td>Yakutsk</td>\n      <td>NaN</td>\n      <td>NaN</td>\n      <td>NaN</td>\n      <td>0</td>\n      <td>Yakutsk</td>\n    </tr>\n    <tr>\n      <th>2</th>\n      <td>Adygea TC \"Mega\"</td>\n      <td>2</td>\n      <td>Adygea TC Mega</td>\n      <td>Tul’skiy</td>\n      <td>45.012949</td>\n      <td>38.929033</td>\n      <td>0.0</td>\n      <td>0</td>\n      <td>Tul’skiy</td>\n    </tr>\n    <tr>\n      <th>3</th>\n      <td>Balashikha TC \"Oktyabr-Kinomir\"</td>\n      <td>3</td>\n      <td>Balashikha TC Oktyabr Kinomir</td>\n      <td>Balashikha</td>\n      <td>NaN</td>\n      <td>NaN</td>\n      <td>NaN</td>\n      <td>0</td>\n      <td>Balashikha</td>\n    </tr>\n    <tr>\n      <th>4</th>\n      <td>Volga TC \"Volga Mall\"</td>\n      <td>4</td>\n      <td>Volga TC Volga Mall</td>\n      <td>Volga</td>\n      <td>NaN</td>\n      <td>NaN</td>\n      <td>0.0</td>\n      <td>0</td>\n      <td>Volga</td>\n    </tr>\n    <tr>\n      <th>5</th>\n      <td>Vologda SEC \"Marmelad\"</td>\n      <td>5</td>\n      <td>Vologda SEC Marmelad</td>\n      <td>Vologda</td>\n      <td>NaN</td>\n      <td>NaN</td>\n      <td>NaN</td>\n      <td>0</td>\n      <td>Vologda</td>\n    </tr>\n    <tr>\n      <th>6</th>\n      <td>Voronezh (Plekhanovskaya, 13)</td>\n      <td>6</td>\n      <td>Voronezh (Plekhanovskaya, 13)</td>\n      <td>Voronezh</td>\n      <td>NaN</td>\n      <td>NaN</td>\n      <td>NaN</td>\n      <td>0</td>\n      <td>Voronezh</td>\n    </tr>\n    <tr>\n      <th>7</th>\n      <td>Voronezh SEC \"Maksimir\"</td>\n      <td>7</td>\n      <td>Voronezh SEC Maksimir</td>\n      <td>Voronezh</td>\n      <td>51.697218</td>\n      <td>39.273621</td>\n      <td>NaN</td>\n      <td>0</td>\n      <td>Voronezh</td>\n    </tr>\n    <tr>\n      <th>8</th>\n      <td>Voronezh SEC City-Park \"Grad\"</td>\n      <td>8</td>\n      <td>Voronezh SEC City Park Grad</td>\n      <td>Voronezh</td>\n      <td>NaN</td>\n      <td>NaN</td>\n      <td>NaN</td>\n      <td>0</td>\n      <td>Voronezh</td>\n    </tr>\n    <tr>\n      <th>9</th>\n      <td>Outbound Trade</td>\n      <td>9</td>\n      <td>Outbound Trade</td>\n      <td>Outbound</td>\n      <td>42.348221</td>\n      <td>-71.042664</td>\n      <td>0.0</td>\n      <td>0</td>\n      <td>Outbound</td>\n    </tr>\n    <tr>\n      <th>10</th>\n      <td>Zhukovsky st. Chkalov 39m?</td>\n      <td>10</td>\n      <td>Zhukovsky st. Chkalov 39m</td>\n      <td>Zhukovsky</td>\n      <td>NaN</td>\n      <td>NaN</td>\n      <td>0.0</td>\n      <td>0</td>\n      <td>Zhukovsky</td>\n    </tr>\n    <tr>\n      <th>11</th>\n      <td>Zhukovsky st. Chkalov 39m²</td>\n      <td>11</td>\n      <td>Zhukovsky st. Chkalov 39m</td>\n      <td>Zhukovsky</td>\n      <td>NaN</td>\n      <td>NaN</td>\n      <td>0.0</td>\n      <td>0</td>\n      <td>Zhukovsky</td>\n    </tr>\n    <tr>\n      <th>12</th>\n      <td>Internet-shop of emergency situations</td>\n      <td>12</td>\n      <td>Internet shop of emergency situations</td>\n      <td>Internet</td>\n      <td>NaN</td>\n      <td>NaN</td>\n      <td>0.0</td>\n      <td>0</td>\n      <td>Internet</td>\n    </tr>\n    <tr>\n      <th>13</th>\n      <td>Kazan TC \"Behetle\"</td>\n      <td>13</td>\n      <td>Kazan TC Behetle</td>\n      <td>Kazan</td>\n      <td>NaN</td>\n      <td>NaN</td>\n      <td>NaN</td>\n      <td>0</td>\n      <td>Kazan</td>\n    </tr>\n    <tr>\n      <th>14</th>\n      <td>Kazan TC \"ParkHouse\" II</td>\n      <td>14</td>\n      <td>Kazan TC ParkHouse II</td>\n      <td>Kazan</td>\n      <td>NaN</td>\n      <td>NaN</td>\n      <td>NaN</td>\n      <td>0</td>\n      <td>Kazan</td>\n    </tr>\n    <tr>\n      <th>15</th>\n      <td>Kaluga TC \"XXI century\"</td>\n      <td>15</td>\n      <td>Kaluga TC XXI century</td>\n      <td>Kaluga</td>\n      <td>NaN</td>\n      <td>NaN</td>\n      <td>NaN</td>\n      <td>0</td>\n      <td>Kaluga</td>\n    </tr>\n    <tr>\n      <th>16</th>\n      <td>Kolomna TC \"Rio\"</td>\n      <td>16</td>\n      <td>Kolomna TC Rio</td>\n      <td>Kolomna</td>\n      <td>55.084125</td>\n      <td>38.800162</td>\n      <td>NaN</td>\n      <td>0</td>\n      <td>Kolomna</td>\n    </tr>\n    <tr>\n      <th>17</th>\n      <td>Krasnoyarsk TC \"Vzletka Plaza\"</td>\n      <td>17</td>\n      <td>Krasnoyarsk TC Vzletka Plaza</td>\n      <td>Krasnoyarsk</td>\n      <td>NaN</td>\n      <td>NaN</td>\n      <td>NaN</td>\n      <td>0</td>\n      <td>Krasnoyarsk</td>\n    </tr>\n    <tr>\n      <th>18</th>\n      <td>Krasnoyarsk TC \"June\"</td>\n      <td>18</td>\n      <td>Krasnoyarsk TC June</td>\n      <td>Krasnoyarsk</td>\n      <td>NaN</td>\n      <td>NaN</td>\n      <td>NaN</td>\n      <td>0</td>\n      <td>Krasnoyarsk</td>\n    </tr>\n    <tr>\n      <th>19</th>\n      <td>Kursk TC \" Pushkinskiy \"</td>\n      <td>19</td>\n      <td>Kursk TC  Pushkinskiy</td>\n      <td>Kursk</td>\n      <td>NaN</td>\n      <td>NaN</td>\n      <td>NaN</td>\n      <td>0</td>\n      <td>Kursk</td>\n    </tr>\n    <tr>\n      <th>20</th>\n      <td>Moscow\" Sale \"</td>\n      <td>20</td>\n      <td>Moscow Sale</td>\n      <td>Moscow</td>\n      <td>55.758539</td>\n      <td>37.741209</td>\n      <td>NaN</td>\n      <td>0</td>\n      <td>Moscow</td>\n    </tr>\n    <tr>\n      <th>21</th>\n      <td>Moscow MTRC\" Afi Mall \"</td>\n      <td>21</td>\n      <td>Moscow MTRC Afi Mall</td>\n      <td>Moscow</td>\n      <td>NaN</td>\n      <td>NaN</td>\n      <td>NaN</td>\n      <td>0</td>\n      <td>Moscow</td>\n    </tr>\n    <tr>\n      <th>22</th>\n      <td>Moscow Shop C21</td>\n      <td>22</td>\n      <td>Moscow Shop C21</td>\n      <td>Moscow</td>\n      <td>55.618873</td>\n      <td>37.654319</td>\n      <td>NaN</td>\n      <td>0</td>\n      <td>Moscow</td>\n    </tr>\n    <tr>\n      <th>23</th>\n      <td>Moscow TK\" Budenovskiy \"(pav.A2)</td>\n      <td>23</td>\n      <td>Moscow TK Budenovskiy (pav.A2)</td>\n      <td>Moscow</td>\n      <td>NaN</td>\n      <td>NaN</td>\n      <td>NaN</td>\n      <td>0</td>\n      <td>Moscow</td>\n    </tr>\n    <tr>\n      <th>24</th>\n      <td>Moscow TK\" Budenovskiy \"(pav.K7)</td>\n      <td>24</td>\n      <td>Moscow TK Budenovskiy (pav.K7)</td>\n      <td>Moscow</td>\n      <td>NaN</td>\n      <td>NaN</td>\n      <td>NaN</td>\n      <td>0</td>\n      <td>Moscow</td>\n    </tr>\n    <tr>\n      <th>25</th>\n      <td>Moscow TEC\" Atrium \"</td>\n      <td>25</td>\n      <td>Moscow TEC Atrium</td>\n      <td>Moscow</td>\n      <td>55.818742</td>\n      <td>37.521248</td>\n      <td>NaN</td>\n      <td>0</td>\n      <td>Moscow</td>\n    </tr>\n    <tr>\n      <th>26</th>\n      <td>Moscow TTS\" Areal \"(Belyaevo)</td>\n      <td>26</td>\n      <td>Moscow TTS Areal (Belyaevo)</td>\n      <td>Moscow</td>\n      <td>NaN</td>\n      <td>NaN</td>\n      <td>NaN</td>\n      <td>0</td>\n      <td>Moscow</td>\n    </tr>\n    <tr>\n      <th>27</th>\n      <td>Moscow TC\" MEGA Belaya Dacha II \"</td>\n      <td>27</td>\n      <td>Moscow TC MEGA Belaya Dacha II</td>\n      <td>Moscow</td>\n      <td>NaN</td>\n      <td>NaN</td>\n      <td>NaN</td>\n      <td>0</td>\n      <td>Moscow</td>\n    </tr>\n    <tr>\n      <th>28</th>\n      <td>Moscow TC\" MEGA Teply Stan \"II</td>\n      <td>28</td>\n      <td>Moscow TC MEGA Teply Stan II</td>\n      <td>Moscow</td>\n      <td>NaN</td>\n      <td>NaN</td>\n      <td>NaN</td>\n      <td>0</td>\n      <td>Moscow</td>\n    </tr>\n    <tr>\n      <th>29</th>\n      <td>Moscow TC\" New Age \"(Novokosino)</td>\n      <td>29</td>\n      <td>Moscow TC New Age (Novokosino)</td>\n      <td>Moscow</td>\n      <td>NaN</td>\n      <td>NaN</td>\n      <td>NaN</td>\n      <td>0</td>\n      <td>Moscow</td>\n    </tr>\n    <tr>\n      <th>30</th>\n      <td>Moscow TC\" Perlovsky \"</td>\n      <td>30</td>\n      <td>Moscow TC Perlovsky</td>\n      <td>Moscow</td>\n      <td>NaN</td>\n      <td>NaN</td>\n      <td>NaN</td>\n      <td>0</td>\n      <td>Moscow</td>\n    </tr>\n    <tr>\n      <th>31</th>\n      <td>Moscow TC\" Semenovsky \"</td>\n      <td>31</td>\n      <td>Moscow TC Semenovsky</td>\n      <td>Moscow</td>\n      <td>NaN</td>\n      <td>NaN</td>\n      <td>NaN</td>\n      <td>0</td>\n      <td>Moscow</td>\n    </tr>\n    <tr>\n      <th>32</th>\n      <td>Moscow TC\" Serebryany House \"</td>\n      <td>32</td>\n      <td>Moscow TC Serebryany House</td>\n      <td>Moscow</td>\n      <td>55.781425</td>\n      <td>37.420632</td>\n      <td>NaN</td>\n      <td>0</td>\n      <td>Moscow</td>\n    </tr>\n    <tr>\n      <th>33</th>\n      <td>Mytishchi SEC\" XL-3 \"</td>\n      <td>33</td>\n      <td>Mytishchi SEC XL 3</td>\n      <td>Mytishchi</td>\n      <td>55.891644</td>\n      <td>37.745006</td>\n      <td>NaN</td>\n      <td>0</td>\n      <td>Mytishchi</td>\n    </tr>\n    <tr>\n      <th>34</th>\n      <td>N.Novgorod SEC\" RIO \"</td>\n      <td>34</td>\n      <td>N.Novgorod SEC RIO</td>\n      <td>N.Novgorod</td>\n      <td>56.248656</td>\n      <td>43.865729</td>\n      <td>0.0</td>\n      <td>0</td>\n      <td>N.Novgorod</td>\n    </tr>\n    <tr>\n      <th>35</th>\n      <td>N.Novgorod SEC\" Fantasy \"</td>\n      <td>35</td>\n      <td>N.Novgorod SEC Fantasy</td>\n      <td>N.Novgorod</td>\n      <td>NaN</td>\n      <td>NaN</td>\n      <td>0.0</td>\n      <td>0</td>\n      <td>N.Novgorod</td>\n    </tr>\n    <tr>\n      <th>36</th>\n      <td>Novosibirsk SEC\" Gallery Novosibirsk \"</td>\n      <td>36</td>\n      <td>Novosibirsk SEC Gallery Novosibirsk</td>\n      <td>Novosibirsk</td>\n      <td>NaN</td>\n      <td>NaN</td>\n      <td>NaN</td>\n      <td>0</td>\n      <td>Novosibirsk</td>\n    </tr>\n    <tr>\n      <th>37</th>\n      <td>Novosibirsk SEC\" Mega \"</td>\n      <td>37</td>\n      <td>Novosibirsk SEC Mega</td>\n      <td>Novosibirsk</td>\n      <td>NaN</td>\n      <td>NaN</td>\n      <td>NaN</td>\n      <td>0</td>\n      <td>Novosibirsk</td>\n    </tr>\n    <tr>\n      <th>38</th>\n      <td>Omsk TC\" Mega \"</td>\n      <td>38</td>\n      <td>Omsk TC Mega</td>\n      <td>Omsk</td>\n      <td>NaN</td>\n      <td>NaN</td>\n      <td>NaN</td>\n      <td>0</td>\n      <td>Omsk</td>\n    </tr>\n    <tr>\n      <th>39</th>\n      <td>RostovNaDonu SEC\" Megacenter Horizon</td>\n      <td>39</td>\n      <td>RostovNaDonu SEC Megacenter Horizon</td>\n      <td>RostovNaDonu</td>\n      <td>NaN</td>\n      <td>NaN</td>\n      <td>0.0</td>\n      <td>0</td>\n      <td>RostovNaDonu</td>\n    </tr>\n    <tr>\n      <th>40</th>\n      <td>RostovNaDon Megatsentr Gorizont Ostrovnoy sho...</td>\n      <td>40</td>\n      <td>RostovNaDon Megatsentr Gorizont Ostrovnoy shop...</td>\n      <td>RostovNaDon</td>\n      <td>NaN</td>\n      <td>NaN</td>\n      <td>0.0</td>\n      <td>0</td>\n      <td>RostovNaDon</td>\n    </tr>\n    <tr>\n      <th>41</th>\n      <td>RostovNaDon Mega shopping center</td>\n      <td>41</td>\n      <td>RostovNaDon Mega shopping center</td>\n      <td>RostovNaDon</td>\n      <td>NaN</td>\n      <td>NaN</td>\n      <td>0.0</td>\n      <td>0</td>\n      <td>RostovNaDon</td>\n    </tr>\n    <tr>\n      <th>42</th>\n      <td>St. Petersburg Nevsky Center shopping center</td>\n      <td>42</td>\n      <td>St. Petersburg Nevsky Center shopping center</td>\n      <td>Saint Petersburg</td>\n      <td>NaN</td>\n      <td>NaN</td>\n      <td>0.0</td>\n      <td>0</td>\n      <td>Saint Petersburg</td>\n    </tr>\n    <tr>\n      <th>43</th>\n      <td>St. Petersburg Sennaya shopping center</td>\n      <td>43</td>\n      <td>St. Petersburg Sennaya shopping center</td>\n      <td>Saint Petersburg</td>\n      <td>NaN</td>\n      <td>NaN</td>\n      <td>0.0</td>\n      <td>0</td>\n      <td>Saint Petersburg</td>\n    </tr>\n    <tr>\n      <th>44</th>\n      <td>Samara Melody shopping center</td>\n      <td>44</td>\n      <td>Samara Melody shopping center</td>\n      <td>Samara</td>\n      <td>NaN</td>\n      <td>NaN</td>\n      <td>NaN</td>\n      <td>0</td>\n      <td>Samara</td>\n    </tr>\n    <tr>\n      <th>45</th>\n      <td>Samara ParkHouse shopping center</td>\n      <td>45</td>\n      <td>Samara ParkHouse shopping center</td>\n      <td>Samara</td>\n      <td>NaN</td>\n      <td>NaN</td>\n      <td>NaN</td>\n      <td>0</td>\n      <td>Samara</td>\n    </tr>\n    <tr>\n      <th>46</th>\n      <td>Sergiev Posad 7Ya shopping center</td>\n      <td>46</td>\n      <td>Sergiev Posad 7Ya shopping center</td>\n      <td>Sergiev</td>\n      <td>NaN</td>\n      <td>NaN</td>\n      <td>0.0</td>\n      <td>0</td>\n      <td>Sergiev</td>\n    </tr>\n    <tr>\n      <th>47</th>\n      <td>Surgut SEC \"City Mall\"</td>\n      <td>47</td>\n      <td>Surgut SEC City Mall</td>\n      <td>Surgut</td>\n      <td>NaN</td>\n      <td>NaN</td>\n      <td>NaN</td>\n      <td>0</td>\n      <td>Surgut</td>\n    </tr>\n    <tr>\n      <th>48</th>\n      <td>Tomsk SEC \"Emerald City\"</td>\n      <td>48</td>\n      <td>Tomsk SEC Emerald City</td>\n      <td>Tomsk</td>\n      <td>NaN</td>\n      <td>NaN</td>\n      <td>NaN</td>\n      <td>0</td>\n      <td>Tomsk</td>\n    </tr>\n    <tr>\n      <th>49</th>\n      <td>Tyumen SEC \"Crystal\"</td>\n      <td>49</td>\n      <td>Tyumen SEC Crystal</td>\n      <td>Tyumen</td>\n      <td>NaN</td>\n      <td>NaN</td>\n      <td>NaN</td>\n      <td>0</td>\n      <td>Tyumen</td>\n    </tr>\n    <tr>\n      <th>50</th>\n      <td>Tyumen SEC \"Goodwin\"</td>\n      <td>50</td>\n      <td>Tyumen SEC Goodwin</td>\n      <td>Tyumen</td>\n      <td>NaN</td>\n      <td>NaN</td>\n      <td>NaN</td>\n      <td>0</td>\n      <td>Tyumen</td>\n    </tr>\n    <tr>\n      <th>51</th>\n      <td>Tyumen TC \"Green Coast \"</td>\n      <td>51</td>\n      <td>Tyumen TC Green Coast</td>\n      <td>Tyumen</td>\n      <td>NaN</td>\n      <td>NaN</td>\n      <td>NaN</td>\n      <td>0</td>\n      <td>Tyumen</td>\n    </tr>\n    <tr>\n      <th>52</th>\n      <td>Ufa TC\" Central \"</td>\n      <td>52</td>\n      <td>Ufa TC Central</td>\n      <td>Ufa</td>\n      <td>46.370935</td>\n      <td>6.231168</td>\n      <td>NaN</td>\n      <td>0</td>\n      <td>Ufa</td>\n    </tr>\n    <tr>\n      <th>53</th>\n      <td>Ufa TC\" Family \"2</td>\n      <td>53</td>\n      <td>Ufa TC Family 2</td>\n      <td>Ufa</td>\n      <td>NaN</td>\n      <td>NaN</td>\n      <td>NaN</td>\n      <td>0</td>\n      <td>Ufa</td>\n    </tr>\n    <tr>\n      <th>54</th>\n      <td>Khimki TC\" Mega \"</td>\n      <td>54</td>\n      <td>Khimki TC Mega</td>\n      <td>Khimki</td>\n      <td>55.911434</td>\n      <td>37.395597</td>\n      <td>NaN</td>\n      <td>0</td>\n      <td>Khimki</td>\n    </tr>\n    <tr>\n      <th>55</th>\n      <td>Digital warehouse 1C-Online</td>\n      <td>55</td>\n      <td>Digital warehouse 1C Online</td>\n      <td>Digital</td>\n      <td>NaN</td>\n      <td>NaN</td>\n      <td>0.0</td>\n      <td>0</td>\n      <td>Digital</td>\n    </tr>\n    <tr>\n      <th>56</th>\n      <td>Chekhov TC\" Karnaval \"</td>\n      <td>56</td>\n      <td>Chekhov TC Karnaval</td>\n      <td>Chekhov</td>\n      <td>55.153342</td>\n      <td>37.459417</td>\n      <td>NaN</td>\n      <td>0</td>\n      <td>Chekhov</td>\n    </tr>\n    <tr>\n      <th>57</th>\n      <td>Yakutsk Ordzhonikidze, 56</td>\n      <td>57</td>\n      <td>Yakutsk Ordzhonikidze, 56</td>\n      <td>Yakutsk</td>\n      <td>NaN</td>\n      <td>NaN</td>\n      <td>NaN</td>\n      <td>0</td>\n      <td>Yakutsk</td>\n    </tr>\n    <tr>\n      <th>58</th>\n      <td>Yakutsk TC\" Central \"</td>\n      <td>58</td>\n      <td>Yakutsk TC Central</td>\n      <td>Yakutsk</td>\n      <td>62.091463</td>\n      <td>129.769696</td>\n      <td>NaN</td>\n      <td>0</td>\n      <td>Yakutsk</td>\n    </tr>\n    <tr>\n      <th>59</th>\n      <td>Yaroslavl TC\" Altair \"</td>\n      <td>59</td>\n      <td>Yaroslavl TC Altair</td>\n      <td>Yaroslavl</td>\n      <td>57.697810</td>\n      <td>39.758592</td>\n      <td>NaN</td>\n      <td>0</td>\n      <td>Yaroslavl</td>\n    </tr>\n  </tbody>\n</table>\n</div>"
     },
     "metadata": {}
    }
   ]
  },
  {
   "cell_type": "code",
   "metadata": {
    "tags": [],
    "cell_id": "00042-74c35e9f-3b6d-41e8-9b95-d670d1d34e3c",
    "deepnote_to_be_reexecuted": false,
    "source_hash": "74829fc7",
    "execution_start": 1620895660004,
    "execution_millis": 29858,
    "deepnote_cell_type": "code"
   },
   "source": "latitude_list, longitude_list=[],[]\n\nfor i in df_shops.cleaned:\n\n    geolocator = Nominatim(user_agent=\"foursquare_agent\")\n    \n    #geolocator = Nominatim(user_agent=\"my_user_agent\")\n    location = geolocator.geocode(i)\n    try:\n        latitude = location.latitude\n        latitude_list.append(latitude)\n    except:\n        latitude_list.append(np.nan)\n\n    try:    \n        longitude = location.longitude\n        longitude_list.append(longitude)\n    except:\n        longitude_list.append(np.nan)\n\ndf_shops[\"latitude\"]=latitude_list\ndf_shops[\"longitude\"]=longitude_list\n\n",
   "execution_count": 34,
   "outputs": []
  },
  {
   "cell_type": "markdown",
   "source": "### Russia Population Dataset",
   "metadata": {
    "tags": [],
    "cell_id": "00040-f29656d3-539f-418f-9090-a0c4ed36d4d2",
    "deepnote_cell_type": "markdown"
   }
  },
  {
   "cell_type": "code",
   "metadata": {
    "tags": [],
    "cell_id": "00042-3a3f0308-532c-4bf2-8298-1e1f3fb638cf",
    "deepnote_to_be_reexecuted": false,
    "source_hash": "df76f75d",
    "execution_start": 1620895342838,
    "execution_millis": 223,
    "deepnote_cell_type": "code"
   },
   "source": "df_pop=pd.read_csv(\"/work/Data_Sets/competitive-data-science-predict-future-sales/ru_population.csv\")\ndf_pop",
   "execution_count": 24,
   "outputs": [
    {
     "output_type": "execute_result",
     "execution_count": 24,
     "data": {
      "application/vnd.deepnote.dataframe.v2+json": {
       "row_count": 723,
       "column_count": 9,
       "columns": [
        {
         "name": "city",
         "dtype": "object",
         "stats": {
          "unique_count": 708,
          "nan_count": 0,
          "categories": [
           {
            "name": "Rostov",
            "count": 2
           },
           {
            "name": "Kirov",
            "count": 2
           },
           {
            "name": "706 others",
            "count": 719
           }
          ]
         }
        },
        {
         "name": "lat",
         "dtype": "float64",
         "stats": {
          "unique_count": 616,
          "nan_count": 0,
          "min": "42.0692",
          "max": "70.767",
          "histogram": [
           {
            "bin_start": 42.0692,
            "bin_end": 44.93898,
            "count": 79
           },
           {
            "bin_start": 44.93898,
            "bin_end": 47.80876,
            "count": 79
           },
           {
            "bin_start": 47.80876,
            "bin_end": 50.67854,
            "count": 42
           },
           {
            "bin_start": 50.67854,
            "bin_end": 53.548320000000004,
            "count": 95
           },
           {
            "bin_start": 53.548320000000004,
            "bin_end": 56.418099999999995,
            "count": 231
           },
           {
            "bin_start": 56.418099999999995,
            "bin_end": 59.28788,
            "count": 123
           },
           {
            "bin_start": 59.28788,
            "bin_end": 62.15766,
            "count": 41
           },
           {
            "bin_start": 62.15766,
            "bin_end": 65.02744,
            "count": 14
           },
           {
            "bin_start": 65.02744,
            "bin_end": 67.89722,
            "count": 14
           },
           {
            "bin_start": 67.89722,
            "bin_end": 70.767,
            "count": 5
           }
          ]
         }
        },
        {
         "name": "lng",
         "dtype": "float64",
         "stats": {
          "unique_count": 691,
          "nan_count": 0,
          "min": "19.9167",
          "max": "177.5167",
          "histogram": [
           {
            "bin_start": 19.9167,
            "bin_end": 35.6767,
            "count": 102
           },
           {
            "bin_start": 35.6767,
            "bin_end": 51.4367,
            "count": 367
           },
           {
            "bin_start": 51.4367,
            "bin_end": 67.19669999999999,
            "count": 127
           },
           {
            "bin_start": 67.19669999999999,
            "bin_end": 82.9567,
            "count": 28
           },
           {
            "bin_start": 82.9567,
            "bin_end": 98.7167,
            "count": 46
           },
           {
            "bin_start": 98.7167,
            "bin_end": 114.4767,
            "count": 18
           },
           {
            "bin_start": 114.4767,
            "bin_end": 130.23669999999998,
            "count": 10
           },
           {
            "bin_start": 130.23669999999998,
            "bin_end": 145.9967,
            "count": 20
           },
           {
            "bin_start": 145.9967,
            "bin_end": 161.7567,
            "count": 4
           },
           {
            "bin_start": 161.7567,
            "bin_end": 177.5167,
            "count": 1
           }
          ]
         }
        },
        {
         "name": "country",
         "dtype": "object",
         "stats": {
          "unique_count": 1,
          "nan_count": 0,
          "categories": [
           {
            "name": "Russia",
            "count": 723
           }
          ]
         }
        },
        {
         "name": "iso2",
         "dtype": "object",
         "stats": {
          "unique_count": 1,
          "nan_count": 0,
          "categories": [
           {
            "name": "RU",
            "count": 723
           }
          ]
         }
        },
        {
         "name": "admin_name",
         "dtype": "object",
         "stats": {
          "unique_count": 83,
          "nan_count": 0,
          "categories": [
           {
            "name": "Rostovskaya Oblast’",
            "count": 50
           },
           {
            "name": "Moskovskaya Oblast’",
            "count": 50
           },
           {
            "name": "81 others",
            "count": 623
           }
          ]
         }
        },
        {
         "name": "capital",
         "dtype": "object",
         "stats": {
          "unique_count": 3,
          "nan_count": 471,
          "categories": [
           {
            "name": "minor",
            "count": 171
           },
           {
            "name": "2 others",
            "count": 81
           },
           {
            "name": "Missing",
            "count": 471
           }
          ]
         }
        },
        {
         "name": "population",
         "dtype": "float64",
         "stats": {
          "unique_count": 624,
          "nan_count": 97,
          "min": "3188.0",
          "max": "17125000.0",
          "histogram": [
           {
            "bin_start": 3188,
            "bin_end": 1715369.2,
            "count": 624
           },
           {
            "bin_start": 1715369.2,
            "bin_end": 3427550.4,
            "count": 0
           },
           {
            "bin_start": 3427550.4,
            "bin_end": 5139731.6,
            "count": 0
           },
           {
            "bin_start": 5139731.6,
            "bin_end": 6851912.8,
            "count": 1
           },
           {
            "bin_start": 6851912.8,
            "bin_end": 8564094,
            "count": 0
           },
           {
            "bin_start": 8564094,
            "bin_end": 10276275.2,
            "count": 0
           },
           {
            "bin_start": 10276275.2,
            "bin_end": 11988456.4,
            "count": 0
           },
           {
            "bin_start": 11988456.4,
            "bin_end": 13700637.6,
            "count": 0
           },
           {
            "bin_start": 13700637.6,
            "bin_end": 15412818.799999999,
            "count": 0
           },
           {
            "bin_start": 15412818.799999999,
            "bin_end": 17125000,
            "count": 1
           }
          ]
         }
        },
        {
         "name": "population_proper",
         "dtype": "float64",
         "stats": {
          "unique_count": 624,
          "nan_count": 97,
          "min": "3188.0",
          "max": "13200000.0",
          "histogram": [
           {
            "bin_start": 3188,
            "bin_end": 1322869.2,
            "count": 622
           },
           {
            "bin_start": 1322869.2,
            "bin_end": 2642550.4,
            "count": 2
           },
           {
            "bin_start": 2642550.4,
            "bin_end": 3962231.5999999996,
            "count": 0
           },
           {
            "bin_start": 3962231.5999999996,
            "bin_end": 5281912.8,
            "count": 0
           },
           {
            "bin_start": 5281912.8,
            "bin_end": 6601594,
            "count": 1
           },
           {
            "bin_start": 6601594,
            "bin_end": 7921275.199999999,
            "count": 0
           },
           {
            "bin_start": 7921275.199999999,
            "bin_end": 9240956.4,
            "count": 0
           },
           {
            "bin_start": 9240956.4,
            "bin_end": 10560637.6,
            "count": 0
           },
           {
            "bin_start": 10560637.6,
            "bin_end": 11880318.799999999,
            "count": 0
           },
           {
            "bin_start": 11880318.799999999,
            "bin_end": 13200000,
            "count": 1
           }
          ]
         }
        },
        {
         "name": "_deepnote_index_column",
         "dtype": "int64"
        }
       ],
       "rows_top": [
        {
         "city": "Moscow",
         "lat": 55.7558,
         "lng": 37.6178,
         "country": "Russia",
         "iso2": "RU",
         "admin_name": "Moskva",
         "capital": "primary",
         "population": 17125000,
         "population_proper": 13200000,
         "_deepnote_index_column": 0
        },
        {
         "city": "Saint Petersburg",
         "lat": 59.95,
         "lng": 30.3167,
         "country": "Russia",
         "iso2": "RU",
         "admin_name": "Sankt-Peterburg",
         "capital": "admin",
         "population": 5351935,
         "population_proper": 5351935,
         "_deepnote_index_column": 1
        },
        {
         "city": "Novosibirsk",
         "lat": 55.0333,
         "lng": 82.9167,
         "country": "Russia",
         "iso2": "RU",
         "admin_name": "Novosibirskaya Oblast’",
         "capital": "admin",
         "population": 1602915,
         "population_proper": 1602915,
         "_deepnote_index_column": 2
        },
        {
         "city": "Yekaterinburg",
         "lat": 56.8356,
         "lng": 60.6128,
         "country": "Russia",
         "iso2": "RU",
         "admin_name": "Sverdlovskaya Oblast’",
         "capital": "admin",
         "population": 1468833,
         "population_proper": 1468833,
         "_deepnote_index_column": 3
        },
        {
         "city": "Nizhniy Novgorod",
         "lat": 56.3269,
         "lng": 44.0075,
         "country": "Russia",
         "iso2": "RU",
         "admin_name": "Nizhegorodskaya Oblast’",
         "capital": "admin",
         "population": 1264075,
         "population_proper": 1264075,
         "_deepnote_index_column": 4
        },
        {
         "city": "Kazan",
         "lat": 55.7908,
         "lng": 49.1144,
         "country": "Russia",
         "iso2": "RU",
         "admin_name": "Tatarstan",
         "capital": "admin",
         "population": 1243500,
         "population_proper": 1243500,
         "_deepnote_index_column": 5
        },
        {
         "city": "Chelyabinsk",
         "lat": 55.15,
         "lng": 61.4,
         "country": "Russia",
         "iso2": "RU",
         "admin_name": "Chelyabinskaya Oblast’",
         "capital": "admin",
         "population": 1202371,
         "population_proper": 1202371,
         "_deepnote_index_column": 6
        },
        {
         "city": "Omsk",
         "lat": 54.9667,
         "lng": 73.3833,
         "country": "Russia",
         "iso2": "RU",
         "admin_name": "Omskaya Oblast’",
         "capital": "admin",
         "population": 1178391,
         "population_proper": 1178391,
         "_deepnote_index_column": 7
        },
        {
         "city": "Samara",
         "lat": 53.1833,
         "lng": 50.1167,
         "country": "Russia",
         "iso2": "RU",
         "admin_name": "Samarskaya Oblast’",
         "capital": "admin",
         "population": 1169719,
         "population_proper": 1169719,
         "_deepnote_index_column": 8
        },
        {
         "city": "Rostov",
         "lat": 47.2333,
         "lng": 39.7167,
         "country": "Russia",
         "iso2": "RU",
         "admin_name": "Rostovskaya Oblast’",
         "capital": "admin",
         "population": 1125299,
         "population_proper": 1125299,
         "_deepnote_index_column": 9
        },
        {
         "city": "Ufa",
         "lat": 54.7333,
         "lng": 55.9667,
         "country": "Russia",
         "iso2": "RU",
         "admin_name": "Bashkortostan",
         "capital": "admin",
         "population": 1115560,
         "population_proper": 1115560,
         "_deepnote_index_column": 10
        },
        {
         "city": "Krasnoyarsk",
         "lat": 56.0167,
         "lng": 92.8667,
         "country": "Russia",
         "iso2": "RU",
         "admin_name": "Krasnoyarskiy Kray",
         "capital": "admin",
         "population": 1083865,
         "population_proper": 1083865,
         "_deepnote_index_column": 11
        },
        {
         "city": "Perm",
         "lat": 58.0139,
         "lng": 56.2489,
         "country": "Russia",
         "iso2": "RU",
         "admin_name": "Permskiy Kray",
         "capital": "admin",
         "population": 1048005,
         "population_proper": 1048005,
         "_deepnote_index_column": 12
        },
        {
         "city": "Voronezh",
         "lat": 51.6717,
         "lng": 39.2106,
         "country": "Russia",
         "iso2": "RU",
         "admin_name": "Voronezhskaya Oblast’",
         "capital": "admin",
         "population": 1047549,
         "population_proper": 1047549,
         "_deepnote_index_column": 13
        },
        {
         "city": "Volgograd",
         "lat": 48.7,
         "lng": 44.4833,
         "country": "Russia",
         "iso2": "RU",
         "admin_name": "Volgogradskaya Oblast’",
         "capital": "admin",
         "population": 1015586,
         "population_proper": 1015586,
         "_deepnote_index_column": 14
        },
        {
         "city": "Krasnodar",
         "lat": 45.0333,
         "lng": 38.9833,
         "country": "Russia",
         "iso2": "RU",
         "admin_name": "Krasnodarskiy Kray",
         "capital": "admin",
         "population": 881476,
         "population_proper": 881476,
         "_deepnote_index_column": 15
        },
        {
         "city": "Saratov",
         "lat": 51.5333,
         "lng": 46,
         "country": "Russia",
         "iso2": "RU",
         "admin_name": "Saratovskaya Oblast’",
         "capital": "admin",
         "population": 845300,
         "population_proper": 845300,
         "_deepnote_index_column": 16
        },
        {
         "city": "Tyumen",
         "lat": 57.15,
         "lng": 65.5333,
         "country": "Russia",
         "iso2": "RU",
         "admin_name": "Tyumenskaya Oblast’",
         "capital": "admin",
         "population": 744554,
         "population_proper": 744554,
         "_deepnote_index_column": 17
        },
        {
         "city": "Tolyatti",
         "lat": 53.5167,
         "lng": 49.4167,
         "country": "Russia",
         "iso2": "RU",
         "admin_name": "Samarskaya Oblast’",
         "capital": "nan",
         "population": 707408,
         "population_proper": 707408,
         "_deepnote_index_column": 18
        },
        {
         "city": "Izhevsk",
         "lat": 56.85,
         "lng": 53.2167,
         "country": "Russia",
         "iso2": "RU",
         "admin_name": "Udmurtiya",
         "capital": "admin",
         "population": 646277,
         "population_proper": 646277,
         "_deepnote_index_column": 19
        },
        {
         "city": "Barnaul",
         "lat": 53.3567,
         "lng": 83.7872,
         "country": "Russia",
         "iso2": "RU",
         "admin_name": "Altayskiy Kray",
         "capital": "admin",
         "population": 633301,
         "population_proper": 633301,
         "_deepnote_index_column": 20
        },
        {
         "city": "Ulyanovsk",
         "lat": 54.3167,
         "lng": 48.3667,
         "country": "Russia",
         "iso2": "RU",
         "admin_name": "Ul’yanovskaya Oblast’",
         "capital": "admin",
         "population": 624518,
         "population_proper": 624518,
         "_deepnote_index_column": 21
        },
        {
         "city": "Irkutsk",
         "lat": 52.2833,
         "lng": 104.3,
         "country": "Russia",
         "iso2": "RU",
         "admin_name": "Irkutskaya Oblast’",
         "capital": "admin",
         "population": 623736,
         "population_proper": 623736,
         "_deepnote_index_column": 22
        },
        {
         "city": "Khabarovsk",
         "lat": 48.4833,
         "lng": 135.0667,
         "country": "Russia",
         "iso2": "RU",
         "admin_name": "Khabarovskiy Kray",
         "capital": "admin",
         "population": 616242,
         "population_proper": 616242,
         "_deepnote_index_column": 23
        },
        {
         "city": "Yaroslavl",
         "lat": 57.6167,
         "lng": 39.85,
         "country": "Russia",
         "iso2": "RU",
         "admin_name": "Yaroslavskaya Oblast’",
         "capital": "admin",
         "population": 608079,
         "population_proper": 608079,
         "_deepnote_index_column": 24
        },
        {
         "city": "Vladivostok",
         "lat": 43.1167,
         "lng": 131.9,
         "country": "Russia",
         "iso2": "RU",
         "admin_name": "Primorskiy Kray",
         "capital": "admin",
         "population": 606589,
         "population_proper": 606589,
         "_deepnote_index_column": 25
        },
        {
         "city": "Makhachkala",
         "lat": 42.9833,
         "lng": 47.4833,
         "country": "Russia",
         "iso2": "RU",
         "admin_name": "Dagestan",
         "capital": "admin",
         "population": 592976,
         "population_proper": 592976,
         "_deepnote_index_column": 26
        },
        {
         "city": "Tomsk",
         "lat": 56.4886,
         "lng": 84.9522,
         "country": "Russia",
         "iso2": "RU",
         "admin_name": "Tomskaya Oblast’",
         "capital": "admin",
         "population": 572740,
         "population_proper": 572740,
         "_deepnote_index_column": 27
        },
        {
         "city": "Orenburg",
         "lat": 51.7667,
         "lng": 55.1,
         "country": "Russia",
         "iso2": "RU",
         "admin_name": "Orenburgskaya Oblast’",
         "capital": "admin",
         "population": 564443,
         "population_proper": 564443,
         "_deepnote_index_column": 28
        },
        {
         "city": "Kemerovo",
         "lat": 55.3333,
         "lng": 86.0667,
         "country": "Russia",
         "iso2": "RU",
         "admin_name": "Kemerovskaya Oblast’",
         "capital": "admin",
         "population": 556920,
         "population_proper": 556920,
         "_deepnote_index_column": 29
        },
        {
         "city": "Novokuznetsk",
         "lat": 53.75,
         "lng": 87.1167,
         "country": "Russia",
         "iso2": "RU",
         "admin_name": "Kemerovskaya Oblast’",
         "capital": "nan",
         "population": 552105,
         "population_proper": 552105,
         "_deepnote_index_column": 30
        },
        {
         "city": "Ryazan",
         "lat": 54.6167,
         "lng": 39.7167,
         "country": "Russia",
         "iso2": "RU",
         "admin_name": "Ryazanskaya Oblast’",
         "capital": "admin",
         "population": 537622,
         "population_proper": 537622,
         "_deepnote_index_column": 31
        },
        {
         "city": "Astrakhan",
         "lat": 46.3333,
         "lng": 48.0167,
         "country": "Russia",
         "iso2": "RU",
         "admin_name": "Astrakhanskaya Oblast’",
         "capital": "admin",
         "population": 532504,
         "population_proper": 532504,
         "_deepnote_index_column": 32
        },
        {
         "city": "Naberezhnyye Chelny",
         "lat": 55.7,
         "lng": 52.3333,
         "country": "Russia",
         "iso2": "RU",
         "admin_name": "Tatarstan",
         "capital": "nan",
         "population": 529797,
         "population_proper": 529797,
         "_deepnote_index_column": 33
        },
        {
         "city": "Penza",
         "lat": 53.2,
         "lng": 45,
         "country": "Russia",
         "iso2": "RU",
         "admin_name": "Penzenskaya Oblast’",
         "capital": "admin",
         "population": 523726,
         "population_proper": 523726,
         "_deepnote_index_column": 34
        },
        {
         "city": "Lipetsk",
         "lat": 52.6167,
         "lng": 39.6,
         "country": "Russia",
         "iso2": "RU",
         "admin_name": "Lipetskaya Oblast’",
         "capital": "admin",
         "population": 510439,
         "population_proper": 510439,
         "_deepnote_index_column": 35
        },
        {
         "city": "Kirov",
         "lat": 58.6,
         "lng": 49.65,
         "country": "Russia",
         "iso2": "RU",
         "admin_name": "Kirovskaya Oblast’",
         "capital": "admin",
         "population": 501468,
         "population_proper": 501468,
         "_deepnote_index_column": 36
        },
        {
         "city": "Cheboksary",
         "lat": 56.1333,
         "lng": 47.25,
         "country": "Russia",
         "iso2": "RU",
         "admin_name": "Chuvashiya",
         "capital": "admin",
         "population": 489498,
         "population_proper": 489498,
         "_deepnote_index_column": 37
        },
        {
         "city": "Tula",
         "lat": 54.2,
         "lng": 37.6167,
         "country": "Russia",
         "iso2": "RU",
         "admin_name": "Tul’skaya Oblast’",
         "capital": "admin",
         "population": 485221,
         "population_proper": 485221,
         "_deepnote_index_column": 38
        },
        {
         "city": "Kaliningrad",
         "lat": 54.7167,
         "lng": 20.5,
         "country": "Russia",
         "iso2": "RU",
         "admin_name": "Kaliningradskaya Oblast’",
         "capital": "admin",
         "population": 475056,
         "population_proper": 475056,
         "_deepnote_index_column": 39
        },
        {
         "city": "Balashikha",
         "lat": 55.8,
         "lng": 37.95,
         "country": "Russia",
         "iso2": "RU",
         "admin_name": "Moskovskaya Oblast’",
         "capital": "nan",
         "population": 450771,
         "population_proper": 450771,
         "_deepnote_index_column": 40
        },
        {
         "city": "Kursk",
         "lat": 51.7372,
         "lng": 36.1872,
         "country": "Russia",
         "iso2": "RU",
         "admin_name": "Kurskaya Oblast’",
         "capital": "admin",
         "population": 449063,
         "population_proper": 449063,
         "_deepnote_index_column": 41
        },
        {
         "city": "Stavropol",
         "lat": 45.05,
         "lng": 41.9833,
         "country": "Russia",
         "iso2": "RU",
         "admin_name": "Stavropol’skiy Kray",
         "capital": "admin",
         "population": 433577,
         "population_proper": 433577,
         "_deepnote_index_column": 42
        },
        {
         "city": "Ulan-Ude",
         "lat": 51.8272,
         "lng": 107.6064,
         "country": "Russia",
         "iso2": "RU",
         "admin_name": "Buryatiya",
         "capital": "admin",
         "population": 431922,
         "population_proper": 431922,
         "_deepnote_index_column": 43
        },
        {
         "city": "Tver",
         "lat": 56.8578,
         "lng": 35.9219,
         "country": "Russia",
         "iso2": "RU",
         "admin_name": "Tverskaya Oblast’",
         "capital": "admin",
         "population": 419363,
         "population_proper": 419363,
         "_deepnote_index_column": 44
        },
        {
         "city": "Magnitogorsk",
         "lat": 53.3833,
         "lng": 59.0333,
         "country": "Russia",
         "iso2": "RU",
         "admin_name": "Chelyabinskaya Oblast’",
         "capital": "nan",
         "population": 418241,
         "population_proper": 418241,
         "_deepnote_index_column": 45
        },
        {
         "city": "Sochi",
         "lat": 43.5853,
         "lng": 39.7203,
         "country": "Russia",
         "iso2": "RU",
         "admin_name": "Krasnodarskiy Kray",
         "capital": "nan",
         "population": 411524,
         "population_proper": 411524,
         "_deepnote_index_column": 46
        },
        {
         "city": "Ivanovo",
         "lat": 57,
         "lng": 41,
         "country": "Russia",
         "iso2": "RU",
         "admin_name": "Ivanovskaya Oblast’",
         "capital": "admin",
         "population": 406933,
         "population_proper": 406933,
         "_deepnote_index_column": 47
        },
        {
         "city": "Bryansk",
         "lat": 53.25,
         "lng": 34.3667,
         "country": "Russia",
         "iso2": "RU",
         "admin_name": "Bryanskaya Oblast’",
         "capital": "admin",
         "population": 406553,
         "population_proper": 406553,
         "_deepnote_index_column": 48
        },
        {
         "city": "Belgorod",
         "lat": 50.6,
         "lng": 36.6,
         "country": "Russia",
         "iso2": "RU",
         "admin_name": "Belgorodskaya Oblast’",
         "capital": "admin",
         "population": 391135,
         "population_proper": 391135,
         "_deepnote_index_column": 49
        },
        {
         "city": "Surgut",
         "lat": 61.25,
         "lng": 73.4333,
         "country": "Russia",
         "iso2": "RU",
         "admin_name": "Khanty-Mansiyskiy Avtonomnyy Okrug-Yugra",
         "capital": "nan",
         "population": 360590,
         "population_proper": 360590,
         "_deepnote_index_column": 50
        },
        {
         "city": "Vladimir",
         "lat": 56.1333,
         "lng": 40.4167,
         "country": "Russia",
         "iso2": "RU",
         "admin_name": "Vladimirskaya Oblast’",
         "capital": "admin",
         "population": 356168,
         "population_proper": 356168,
         "_deepnote_index_column": 51
        },
        {
         "city": "Nizhniy Tagil",
         "lat": 57.9167,
         "lng": 59.9667,
         "country": "Russia",
         "iso2": "RU",
         "admin_name": "Sverdlovskaya Oblast’",
         "capital": "nan",
         "population": 355693,
         "population_proper": 355693,
         "_deepnote_index_column": 52
        },
        {
         "city": "Arkhangelsk",
         "lat": 64.55,
         "lng": 40.5333,
         "country": "Russia",
         "iso2": "RU",
         "admin_name": "Arkhangel’skaya Oblast’",
         "capital": "admin",
         "population": 351488,
         "population_proper": 351488,
         "_deepnote_index_column": 53
        },
        {
         "city": "Chita",
         "lat": 52.0333,
         "lng": 113.5,
         "country": "Russia",
         "iso2": "RU",
         "admin_name": "Zabaykal’skiy Kray",
         "capital": "admin",
         "population": 347088,
         "population_proper": 347088,
         "_deepnote_index_column": 54
        }
       ],
       "rows_bottom": [
        {
         "city": "Mostovskoy",
         "lat": 44.4122,
         "lng": 40.7936,
         "country": "Russia",
         "iso2": "RU",
         "admin_name": "Krasnodarskiy Kray",
         "capital": "minor",
         "population": "nan",
         "population_proper": "nan",
         "_deepnote_index_column": 667
        },
        {
         "city": "Bol’shaya Martynovka",
         "lat": 47.2742,
         "lng": 41.6668,
         "country": "Russia",
         "iso2": "RU",
         "admin_name": "Rostovskaya Oblast’",
         "capital": "minor",
         "population": "nan",
         "population_proper": "nan",
         "_deepnote_index_column": 668
        },
        {
         "city": "Roven’ki",
         "lat": 49.9223,
         "lng": 38.8914,
         "country": "Russia",
         "iso2": "RU",
         "admin_name": "Belgorodskaya Oblast’",
         "capital": "minor",
         "population": "nan",
         "population_proper": "nan",
         "_deepnote_index_column": 669
        },
        {
         "city": "Kuybyshevo",
         "lat": 47.8123,
         "lng": 38.9073,
         "country": "Russia",
         "iso2": "RU",
         "admin_name": "Rostovskaya Oblast’",
         "capital": "minor",
         "population": "nan",
         "population_proper": "nan",
         "_deepnote_index_column": 670
        },
        {
         "city": "Peschanokopskoye",
         "lat": 46.1952,
         "lng": 41.0814,
         "country": "Russia",
         "iso2": "RU",
         "admin_name": "Rostovskaya Oblast’",
         "capital": "minor",
         "population": "nan",
         "population_proper": "nan",
         "_deepnote_index_column": 671
        },
        {
         "city": "Igra",
         "lat": 57.5549,
         "lng": 53.0544,
         "country": "Russia",
         "iso2": "RU",
         "admin_name": "Udmurtiya",
         "capital": "minor",
         "population": "nan",
         "population_proper": "nan",
         "_deepnote_index_column": 672
        },
        {
         "city": "Kantemirovka",
         "lat": 49.7089,
         "lng": 39.8592,
         "country": "Russia",
         "iso2": "RU",
         "admin_name": "Voronezhskaya Oblast’",
         "capital": "minor",
         "population": "nan",
         "population_proper": "nan",
         "_deepnote_index_column": 673
        },
        {
         "city": "Tul’skiy",
         "lat": 44.5136,
         "lng": 40.1789,
         "country": "Russia",
         "iso2": "RU",
         "admin_name": "Adygeya",
         "capital": "minor",
         "population": "nan",
         "population_proper": "nan",
         "_deepnote_index_column": 674
        },
        {
         "city": "Tselina",
         "lat": 46.5338,
         "lng": 41.0328,
         "country": "Russia",
         "iso2": "RU",
         "admin_name": "Rostovskaya Oblast’",
         "capital": "minor",
         "population": "nan",
         "population_proper": "nan",
         "_deepnote_index_column": 675
        },
        {
         "city": "Vorob’yëvka",
         "lat": 50.6481,
         "lng": 40.9503,
         "country": "Russia",
         "iso2": "RU",
         "admin_name": "Voronezhskaya Oblast’",
         "capital": "minor",
         "population": "nan",
         "population_proper": "nan",
         "_deepnote_index_column": 676
        },
        {
         "city": "Rodionovo-Nesvetayskaya",
         "lat": 47.6103,
         "lng": 39.7121,
         "country": "Russia",
         "iso2": "RU",
         "admin_name": "Rostovskaya Oblast’",
         "capital": "minor",
         "population": "nan",
         "population_proper": "nan",
         "_deepnote_index_column": 677
        },
        {
         "city": "Kashkhatau",
         "lat": 43.3169,
         "lng": 43.6077,
         "country": "Russia",
         "iso2": "RU",
         "admin_name": "Kabardino-Balkariya",
         "capital": "minor",
         "population": "nan",
         "population_proper": "nan",
         "_deepnote_index_column": 678
        },
        {
         "city": "Balezino",
         "lat": 57.9787,
         "lng": 53.0138,
         "country": "Russia",
         "iso2": "RU",
         "admin_name": "Udmurtiya",
         "capital": "minor",
         "population": "nan",
         "population_proper": "nan",
         "_deepnote_index_column": 679
        },
        {
         "city": "Chertkovo",
         "lat": 49.3845,
         "lng": 40.1472,
         "country": "Russia",
         "iso2": "RU",
         "admin_name": "Rostovskaya Oblast’",
         "capital": "minor",
         "population": "nan",
         "population_proper": "nan",
         "_deepnote_index_column": 680
        },
        {
         "city": "Chikola",
         "lat": 43.1952,
         "lng": 43.9202,
         "country": "Russia",
         "iso2": "RU",
         "admin_name": "North Ossetia",
         "capital": "minor",
         "population": "nan",
         "population_proper": "nan",
         "_deepnote_index_column": 681
        },
        {
         "city": "Sovetskoye",
         "lat": 46.7219,
         "lng": 42.1464,
         "country": "Russia",
         "iso2": "RU",
         "admin_name": "Rostovskaya Oblast’",
         "capital": "minor",
         "population": "nan",
         "population_proper": "nan",
         "_deepnote_index_column": 682
        },
        {
         "city": "Debesy",
         "lat": 57.6515,
         "lng": 53.8089,
         "country": "Russia",
         "iso2": "RU",
         "admin_name": "Udmurtiya",
         "capital": "minor",
         "population": "nan",
         "population_proper": "nan",
         "_deepnote_index_column": 683
        },
        {
         "city": "Veshenskaya",
         "lat": 49.6352,
         "lng": 41.7245,
         "country": "Russia",
         "iso2": "RU",
         "admin_name": "Rostovskaya Oblast’",
         "capital": "minor",
         "population": "nan",
         "population_proper": "nan",
         "_deepnote_index_column": 684
        },
        {
         "city": "Tarasovskiy",
         "lat": 48.7273,
         "lng": 40.3627,
         "country": "Russia",
         "iso2": "RU",
         "admin_name": "Rostovskaya Oblast’",
         "capital": "minor",
         "population": "nan",
         "population_proper": "nan",
         "_deepnote_index_column": 685
        },
        {
         "city": "Kez",
         "lat": 57.8957,
         "lng": 53.7132,
         "country": "Russia",
         "iso2": "RU",
         "admin_name": "Udmurtiya",
         "capital": "minor",
         "population": "nan",
         "population_proper": "nan",
         "_deepnote_index_column": 686
        },
        {
         "city": "Oblivskaya",
         "lat": 48.5362,
         "lng": 42.5014,
         "country": "Russia",
         "iso2": "RU",
         "admin_name": "Rostovskaya Oblast’",
         "capital": "minor",
         "population": "nan",
         "population_proper": "nan",
         "_deepnote_index_column": 687
        },
        {
         "city": "Zvony",
         "lat": 56.6241,
         "lng": 28.816,
         "country": "Russia",
         "iso2": "RU",
         "admin_name": "Pskovskaya Oblast’",
         "capital": "minor",
         "population": "nan",
         "population_proper": "nan",
         "_deepnote_index_column": 688
        },
        {
         "city": "Bolgatovo",
         "lat": 56.8031,
         "lng": 28.9488,
         "country": "Russia",
         "iso2": "RU",
         "admin_name": "Pskovskaya Oblast’",
         "capital": "minor",
         "population": "nan",
         "population_proper": "nan",
         "_deepnote_index_column": 689
        },
        {
         "city": "Varygino",
         "lat": 56.7627,
         "lng": 28.535,
         "country": "Russia",
         "iso2": "RU",
         "admin_name": "Pskovskaya Oblast’",
         "capital": "minor",
         "population": "nan",
         "population_proper": "nan",
         "_deepnote_index_column": 690
        },
        {
         "city": "Petrovskoye",
         "lat": 56.6975,
         "lng": 28.645,
         "country": "Russia",
         "iso2": "RU",
         "admin_name": "Pskovskaya Oblast’",
         "capital": "minor",
         "population": "nan",
         "population_proper": "nan",
         "_deepnote_index_column": 691
        },
        {
         "city": "Matyushkino",
         "lat": 56.8632,
         "lng": 28.6251,
         "country": "Russia",
         "iso2": "RU",
         "admin_name": "Pskovskaya Oblast’",
         "capital": "minor",
         "population": "nan",
         "population_proper": "nan",
         "_deepnote_index_column": 692
        },
        {
         "city": "Makushino",
         "lat": 56.688,
         "lng": 28.4721,
         "country": "Russia",
         "iso2": "RU",
         "admin_name": "Pskovskaya Oblast’",
         "capital": "minor",
         "population": "nan",
         "population_proper": "nan",
         "_deepnote_index_column": 693
        },
        {
         "city": "Norkino",
         "lat": 56.6682,
         "lng": 29.0286,
         "country": "Russia",
         "iso2": "RU",
         "admin_name": "Pskovskaya Oblast’",
         "capital": "minor",
         "population": "nan",
         "population_proper": "nan",
         "_deepnote_index_column": 694
        },
        {
         "city": "Glubokoye",
         "lat": 56.6089,
         "lng": 29.0207,
         "country": "Russia",
         "iso2": "RU",
         "admin_name": "Pskovskaya Oblast’",
         "capital": "minor",
         "population": "nan",
         "population_proper": "nan",
         "_deepnote_index_column": 695
        },
        {
         "city": "Laptëvo",
         "lat": 56.7426,
         "lng": 28.8344,
         "country": "Russia",
         "iso2": "RU",
         "admin_name": "Pskovskaya Oblast’",
         "capital": "minor",
         "population": "nan",
         "population_proper": "nan",
         "_deepnote_index_column": 696
        },
        {
         "city": "Vel’ye",
         "lat": 56.9701,
         "lng": 28.5788,
         "country": "Russia",
         "iso2": "RU",
         "admin_name": "Pskovskaya Oblast’",
         "capital": "minor",
         "population": "nan",
         "population_proper": "nan",
         "_deepnote_index_column": 697
        },
        {
         "city": "Polyane",
         "lat": 56.8809,
         "lng": 28.8849,
         "country": "Russia",
         "iso2": "RU",
         "admin_name": "Pskovskaya Oblast’",
         "capital": "minor",
         "population": "nan",
         "population_proper": "nan",
         "_deepnote_index_column": 698
        },
        {
         "city": "Kashary",
         "lat": 49.04,
         "lng": 41.0056,
         "country": "Russia",
         "iso2": "RU",
         "admin_name": "Rostovskaya Oblast’",
         "capital": "minor",
         "population": "nan",
         "population_proper": "nan",
         "_deepnote_index_column": 699
        },
        {
         "city": "Bokovskaya",
         "lat": 49.229,
         "lng": 41.8306,
         "country": "Russia",
         "iso2": "RU",
         "admin_name": "Rostovskaya Oblast’",
         "capital": "minor",
         "population": "nan",
         "population_proper": "nan",
         "_deepnote_index_column": 700
        },
        {
         "city": "Kazanskaya",
         "lat": 49.7956,
         "lng": 41.1395,
         "country": "Russia",
         "iso2": "RU",
         "admin_name": "Rostovskaya Oblast’",
         "capital": "minor",
         "population": "nan",
         "population_proper": "nan",
         "_deepnote_index_column": 701
        },
        {
         "city": "Zimovniki",
         "lat": 47.1474,
         "lng": 42.4721,
         "country": "Russia",
         "iso2": "RU",
         "admin_name": "Rostovskaya Oblast’",
         "capital": "minor",
         "population": "nan",
         "population_proper": "nan",
         "_deepnote_index_column": 702
        },
        {
         "city": "Milyutinskaya",
         "lat": 48.6279,
         "lng": 41.6679,
         "country": "Russia",
         "iso2": "RU",
         "admin_name": "Rostovskaya Oblast’",
         "capital": "minor",
         "population": "nan",
         "population_proper": "nan",
         "_deepnote_index_column": 703
        },
        {
         "city": "Osyno",
         "lat": 56.1505,
         "lng": 28.6758,
         "country": "Russia",
         "iso2": "RU",
         "admin_name": "Pskovskaya Oblast’",
         "capital": "minor",
         "population": "nan",
         "population_proper": "nan",
         "_deepnote_index_column": 704
        },
        {
         "city": "Glembochino",
         "lat": 56.1876,
         "lng": 28.3785,
         "country": "Russia",
         "iso2": "RU",
         "admin_name": "Pskovskaya Oblast’",
         "capital": "minor",
         "population": "nan",
         "population_proper": "nan",
         "_deepnote_index_column": 705
        },
        {
         "city": "Mostishche",
         "lat": 56.2912,
         "lng": 28.7642,
         "country": "Russia",
         "iso2": "RU",
         "admin_name": "Pskovskaya Oblast’",
         "capital": "minor",
         "population": "nan",
         "population_proper": "nan",
         "_deepnote_index_column": 706
        },
        {
         "city": "Idritsa",
         "lat": 56.3316,
         "lng": 28.8988,
         "country": "Russia",
         "iso2": "RU",
         "admin_name": "Pskovskaya Oblast’",
         "capital": "minor",
         "population": "nan",
         "population_proper": "nan",
         "_deepnote_index_column": 707
        },
        {
         "city": "Cherneya",
         "lat": 56.2497,
         "lng": 28.5426,
         "country": "Russia",
         "iso2": "RU",
         "admin_name": "Pskovskaya Oblast’",
         "capital": "minor",
         "population": "nan",
         "population_proper": "nan",
         "_deepnote_index_column": 708
        },
        {
         "city": "Dedino",
         "lat": 56.2446,
         "lng": 28.2506,
         "country": "Russia",
         "iso2": "RU",
         "admin_name": "Pskovskaya Oblast’",
         "capital": "minor",
         "population": "nan",
         "population_proper": "nan",
         "_deepnote_index_column": 709
        },
        {
         "city": "Dubrovka",
         "lat": 56.391,
         "lng": 28.6385,
         "country": "Russia",
         "iso2": "RU",
         "admin_name": "Pskovskaya Oblast’",
         "capital": "minor",
         "population": "nan",
         "population_proper": "nan",
         "_deepnote_index_column": 710
        },
        {
         "city": "Tomsino",
         "lat": 56.452,
         "lng": 28.5392,
         "country": "Russia",
         "iso2": "RU",
         "admin_name": "Pskovskaya Oblast’",
         "capital": "minor",
         "population": "nan",
         "population_proper": "nan",
         "_deepnote_index_column": 711
        },
        {
         "city": "Dubovskoye",
         "lat": 47.4142,
         "lng": 42.7697,
         "country": "Russia",
         "iso2": "RU",
         "admin_name": "Rostovskaya Oblast’",
         "capital": "minor",
         "population": "nan",
         "population_proper": "nan",
         "_deepnote_index_column": 712
        },
        {
         "city": "Lukino",
         "lat": 56.8593,
         "lng": 28.4643,
         "country": "Russia",
         "iso2": "RU",
         "admin_name": "Pskovskaya Oblast’",
         "capital": "minor",
         "population": "nan",
         "population_proper": "nan",
         "_deepnote_index_column": 713
        },
        {
         "city": "Kresty",
         "lat": 56.776,
         "lng": 28.0908,
         "country": "Russia",
         "iso2": "RU",
         "admin_name": "Pskovskaya Oblast’",
         "capital": "minor",
         "population": "nan",
         "population_proper": "nan",
         "_deepnote_index_column": 714
        },
        {
         "city": "Il’inskoye",
         "lat": 56.9236,
         "lng": 28.525,
         "country": "Russia",
         "iso2": "RU",
         "admin_name": "Pskovskaya Oblast’",
         "capital": "minor",
         "population": "nan",
         "population_proper": "nan",
         "_deepnote_index_column": 715
        },
        {
         "city": "Krasnogorodsk",
         "lat": 56.8357,
         "lng": 28.2822,
         "country": "Russia",
         "iso2": "RU",
         "admin_name": "Pskovskaya Oblast’",
         "capital": "minor",
         "population": "nan",
         "population_proper": "nan",
         "_deepnote_index_column": 716
        },
        {
         "city": "Blyasino",
         "lat": 56.9457,
         "lng": 28.3062,
         "country": "Russia",
         "iso2": "RU",
         "admin_name": "Pskovskaya Oblast’",
         "capital": "minor",
         "population": "nan",
         "population_proper": "nan",
         "_deepnote_index_column": 717
        },
        {
         "city": "Pokrovskoye",
         "lat": 56.6897,
         "lng": 28.2548,
         "country": "Russia",
         "iso2": "RU",
         "admin_name": "Pskovskaya Oblast’",
         "capital": "minor",
         "population": "nan",
         "population_proper": "nan",
         "_deepnote_index_column": 718
        },
        {
         "city": "Remontnoye",
         "lat": 46.5614,
         "lng": 43.6501,
         "country": "Russia",
         "iso2": "RU",
         "admin_name": "Rostovskaya Oblast’",
         "capital": "minor",
         "population": "nan",
         "population_proper": "nan",
         "_deepnote_index_column": 719
        },
        {
         "city": "Uni",
         "lat": 57.751,
         "lng": 51.4913,
         "country": "Russia",
         "iso2": "RU",
         "admin_name": "Kirovskaya Oblast’",
         "capital": "minor",
         "population": "nan",
         "population_proper": "nan",
         "_deepnote_index_column": 720
        },
        {
         "city": "Zavetnoye",
         "lat": 47.1194,
         "lng": 43.8903,
         "country": "Russia",
         "iso2": "RU",
         "admin_name": "Rostovskaya Oblast’",
         "capital": "minor",
         "population": "nan",
         "population_proper": "nan",
         "_deepnote_index_column": 721
        },
        {
         "city": "Sebezhskiy Rayon",
         "lat": 56.25,
         "lng": 28.5,
         "country": "Russia",
         "iso2": "RU",
         "admin_name": "Pskovskaya Oblast’",
         "capital": "minor",
         "population": "nan",
         "population_proper": "nan",
         "_deepnote_index_column": 722
        }
       ]
      },
      "text/plain": "                 city      lat      lng country iso2               admin_name  \\\n0              Moscow  55.7558  37.6178  Russia   RU                   Moskva   \n1    Saint Petersburg  59.9500  30.3167  Russia   RU          Sankt-Peterburg   \n2         Novosibirsk  55.0333  82.9167  Russia   RU   Novosibirskaya Oblast’   \n3       Yekaterinburg  56.8356  60.6128  Russia   RU    Sverdlovskaya Oblast’   \n4    Nizhniy Novgorod  56.3269  44.0075  Russia   RU  Nizhegorodskaya Oblast’   \n..                ...      ...      ...     ...  ...                      ...   \n718       Pokrovskoye  56.6897  28.2548  Russia   RU       Pskovskaya Oblast’   \n719        Remontnoye  46.5614  43.6501  Russia   RU      Rostovskaya Oblast’   \n720               Uni  57.7510  51.4913  Russia   RU       Kirovskaya Oblast’   \n721         Zavetnoye  47.1194  43.8903  Russia   RU      Rostovskaya Oblast’   \n722  Sebezhskiy Rayon  56.2500  28.5000  Russia   RU       Pskovskaya Oblast’   \n\n     capital  population  population_proper  \n0    primary  17125000.0         13200000.0  \n1      admin   5351935.0          5351935.0  \n2      admin   1602915.0          1602915.0  \n3      admin   1468833.0          1468833.0  \n4      admin   1264075.0          1264075.0  \n..       ...         ...                ...  \n718    minor         NaN                NaN  \n719    minor         NaN                NaN  \n720    minor         NaN                NaN  \n721    minor         NaN                NaN  \n722    minor         NaN                NaN  \n\n[723 rows x 9 columns]",
      "text/html": "<div>\n<style scoped>\n    .dataframe tbody tr th:only-of-type {\n        vertical-align: middle;\n    }\n\n    .dataframe tbody tr th {\n        vertical-align: top;\n    }\n\n    .dataframe thead th {\n        text-align: right;\n    }\n</style>\n<table border=\"1\" class=\"dataframe\">\n  <thead>\n    <tr style=\"text-align: right;\">\n      <th></th>\n      <th>city</th>\n      <th>lat</th>\n      <th>lng</th>\n      <th>country</th>\n      <th>iso2</th>\n      <th>admin_name</th>\n      <th>capital</th>\n      <th>population</th>\n      <th>population_proper</th>\n    </tr>\n  </thead>\n  <tbody>\n    <tr>\n      <th>0</th>\n      <td>Moscow</td>\n      <td>55.7558</td>\n      <td>37.6178</td>\n      <td>Russia</td>\n      <td>RU</td>\n      <td>Moskva</td>\n      <td>primary</td>\n      <td>17125000.0</td>\n      <td>13200000.0</td>\n    </tr>\n    <tr>\n      <th>1</th>\n      <td>Saint Petersburg</td>\n      <td>59.9500</td>\n      <td>30.3167</td>\n      <td>Russia</td>\n      <td>RU</td>\n      <td>Sankt-Peterburg</td>\n      <td>admin</td>\n      <td>5351935.0</td>\n      <td>5351935.0</td>\n    </tr>\n    <tr>\n      <th>2</th>\n      <td>Novosibirsk</td>\n      <td>55.0333</td>\n      <td>82.9167</td>\n      <td>Russia</td>\n      <td>RU</td>\n      <td>Novosibirskaya Oblast’</td>\n      <td>admin</td>\n      <td>1602915.0</td>\n      <td>1602915.0</td>\n    </tr>\n    <tr>\n      <th>3</th>\n      <td>Yekaterinburg</td>\n      <td>56.8356</td>\n      <td>60.6128</td>\n      <td>Russia</td>\n      <td>RU</td>\n      <td>Sverdlovskaya Oblast’</td>\n      <td>admin</td>\n      <td>1468833.0</td>\n      <td>1468833.0</td>\n    </tr>\n    <tr>\n      <th>4</th>\n      <td>Nizhniy Novgorod</td>\n      <td>56.3269</td>\n      <td>44.0075</td>\n      <td>Russia</td>\n      <td>RU</td>\n      <td>Nizhegorodskaya Oblast’</td>\n      <td>admin</td>\n      <td>1264075.0</td>\n      <td>1264075.0</td>\n    </tr>\n    <tr>\n      <th>...</th>\n      <td>...</td>\n      <td>...</td>\n      <td>...</td>\n      <td>...</td>\n      <td>...</td>\n      <td>...</td>\n      <td>...</td>\n      <td>...</td>\n      <td>...</td>\n    </tr>\n    <tr>\n      <th>718</th>\n      <td>Pokrovskoye</td>\n      <td>56.6897</td>\n      <td>28.2548</td>\n      <td>Russia</td>\n      <td>RU</td>\n      <td>Pskovskaya Oblast’</td>\n      <td>minor</td>\n      <td>NaN</td>\n      <td>NaN</td>\n    </tr>\n    <tr>\n      <th>719</th>\n      <td>Remontnoye</td>\n      <td>46.5614</td>\n      <td>43.6501</td>\n      <td>Russia</td>\n      <td>RU</td>\n      <td>Rostovskaya Oblast’</td>\n      <td>minor</td>\n      <td>NaN</td>\n      <td>NaN</td>\n    </tr>\n    <tr>\n      <th>720</th>\n      <td>Uni</td>\n      <td>57.7510</td>\n      <td>51.4913</td>\n      <td>Russia</td>\n      <td>RU</td>\n      <td>Kirovskaya Oblast’</td>\n      <td>minor</td>\n      <td>NaN</td>\n      <td>NaN</td>\n    </tr>\n    <tr>\n      <th>721</th>\n      <td>Zavetnoye</td>\n      <td>47.1194</td>\n      <td>43.8903</td>\n      <td>Russia</td>\n      <td>RU</td>\n      <td>Rostovskaya Oblast’</td>\n      <td>minor</td>\n      <td>NaN</td>\n      <td>NaN</td>\n    </tr>\n    <tr>\n      <th>722</th>\n      <td>Sebezhskiy Rayon</td>\n      <td>56.2500</td>\n      <td>28.5000</td>\n      <td>Russia</td>\n      <td>RU</td>\n      <td>Pskovskaya Oblast’</td>\n      <td>minor</td>\n      <td>NaN</td>\n      <td>NaN</td>\n    </tr>\n  </tbody>\n</table>\n<p>723 rows × 9 columns</p>\n</div>"
     },
     "metadata": {}
    }
   ]
  },
  {
   "cell_type": "markdown",
   "source": "cities_pop_list=[] #matched list\npop_list=[] #population list\ncap_list=[] #capital list\ndf_shops[\"population\"]=0\ndf_shops[\"capital\"]=0\n\nfor i in range(len(cities_list)): \n    for j in range(len(df_pop.city)):\n        if df_pop.city[j]==cities_list[i]:\n            #print(cities_list[i])\n\n            cities_pop_list.append(i)\n\n            df_shops.loc[df_shops.Cities==cities_list[i],\"population\"]=df_pop.city.loc[df_pop.city==cities_list[i]]\nprint(len(cities_pop_list))\ndf_shops\n",
   "metadata": {
    "tags": [],
    "cell_id": "00042-65849059-bd03-420f-9659-bf2d507e547f",
    "deepnote_cell_type": "markdown"
   }
  },
  {
   "cell_type": "code",
   "source": "city_difference= set(df_shops.city.unique())-set(df_pop.city.unique())\ncity_difference",
   "metadata": {
    "tags": [],
    "cell_id": "00045-ea6f88e0-45f9-4bfe-81e4-bd7c9217186c",
    "deepnote_to_be_reexecuted": false,
    "source_hash": "2fafd164",
    "execution_start": 1620898379862,
    "execution_millis": 9,
    "deepnote_cell_type": "code"
   },
   "outputs": [
    {
     "output_type": "execute_result",
     "execution_count": 80,
     "data": {
      "text/plain": "{'Adygea',\n 'Digital',\n 'Internet',\n 'N.Novgorod',\n 'Outbound',\n 'RostovNaDon',\n 'RostovNaDonu',\n 'Sergiev',\n 'Volga',\n 'Zhukovsky'}"
     },
     "metadata": {}
    }
   ],
   "execution_count": 80
  },
  {
   "cell_type": "code",
   "source": "df_pop[df_pop.city.isin(df_shops.city)]\npd.merge(df_pop, df_shops, on=['city'])",
   "metadata": {
    "tags": [],
    "cell_id": "00046-d0fa416b-a2ad-4aa6-93d2-6d06e4a400ee",
    "deepnote_to_be_reexecuted": false,
    "source_hash": "63e9705a",
    "execution_start": 1620898113972,
    "execution_millis": 212,
    "deepnote_cell_type": "code"
   },
   "outputs": [
    {
     "output_type": "execute_result",
     "execution_count": 77,
     "data": {
      "application/vnd.deepnote.dataframe.v2+json": {
       "row_count": 47,
       "column_count": 17,
       "columns": [
        {
         "name": "city",
         "dtype": "object",
         "stats": {
          "unique_count": 22,
          "nan_count": 0,
          "categories": [
           {
            "name": "Moscow",
            "count": 13
           },
           {
            "name": "Yakutsk",
            "count": 4
           },
           {
            "name": "20 others",
            "count": 30
           }
          ]
         }
        },
        {
         "name": "lat",
         "dtype": "float64",
         "stats": {
          "unique_count": 22,
          "nan_count": 0,
          "min": "51.6717",
          "max": "62.0272",
          "histogram": [
           {
            "bin_start": 51.6717,
            "bin_end": 52.70725,
            "count": 4
           },
           {
            "bin_start": 52.70725,
            "bin_end": 53.7428,
            "count": 2
           },
           {
            "bin_start": 53.7428,
            "bin_end": 54.77835,
            "count": 3
           },
           {
            "bin_start": 54.77835,
            "bin_end": 55.813900000000004,
            "count": 21
           },
           {
            "bin_start": 55.813900000000004,
            "bin_end": 56.849450000000004,
            "count": 5
           },
           {
            "bin_start": 56.849450000000004,
            "bin_end": 57.885000000000005,
            "count": 4
           },
           {
            "bin_start": 57.885000000000005,
            "bin_end": 58.92055,
            "count": 0
           },
           {
            "bin_start": 58.92055,
            "bin_end": 59.9561,
            "count": 3
           },
           {
            "bin_start": 59.9561,
            "bin_end": 60.99165,
            "count": 0
           },
           {
            "bin_start": 60.99165,
            "bin_end": 62.0272,
            "count": 5
           }
          ]
         }
        },
        {
         "name": "lng",
         "dtype": "float64",
         "stats": {
          "unique_count": 22,
          "nan_count": 0,
          "min": "30.3167",
          "max": "129.7319",
          "histogram": [
           {
            "bin_start": 30.3167,
            "bin_end": 40.25822,
            "count": 27
           },
           {
            "bin_start": 40.25822,
            "bin_end": 50.199740000000006,
            "count": 4
           },
           {
            "bin_start": 50.199740000000006,
            "bin_end": 60.14126,
            "count": 2
           },
           {
            "bin_start": 60.14126,
            "bin_end": 70.08278,
            "count": 3
           },
           {
            "bin_start": 70.08278,
            "bin_end": 80.0243,
            "count": 2
           },
           {
            "bin_start": 80.0243,
            "bin_end": 89.96582000000001,
            "count": 3
           },
           {
            "bin_start": 89.96582000000001,
            "bin_end": 99.90734,
            "count": 2
           },
           {
            "bin_start": 99.90734,
            "bin_end": 109.84886,
            "count": 0
           },
           {
            "bin_start": 109.84886,
            "bin_end": 119.79038,
            "count": 0
           },
           {
            "bin_start": 119.79038,
            "bin_end": 129.7319,
            "count": 4
           }
          ]
         }
        },
        {
         "name": "country",
         "dtype": "object",
         "stats": {
          "unique_count": 1,
          "nan_count": 0,
          "categories": [
           {
            "name": "Russia",
            "count": 47
           }
          ]
         }
        },
        {
         "name": "iso2",
         "dtype": "object",
         "stats": {
          "unique_count": 1,
          "nan_count": 0,
          "categories": [
           {
            "name": "RU",
            "count": 47
           }
          ]
         }
        },
        {
         "name": "admin_name",
         "dtype": "object",
         "stats": {
          "unique_count": 18,
          "nan_count": 0,
          "categories": [
           {
            "name": "Moskva",
            "count": 14
           },
           {
            "name": "Moskovskaya Oblast’",
            "count": 4
           },
           {
            "name": "16 others",
            "count": 29
           }
          ]
         }
        },
        {
         "name": "capital_x",
         "dtype": "object",
         "stats": {
          "unique_count": 2,
          "nan_count": 6,
          "categories": [
           {
            "name": "admin",
            "count": 28
           },
           {
            "name": "primary",
            "count": 13
           },
           {
            "name": "Missing",
            "count": 6
           }
          ]
         }
        },
        {
         "name": "population_x",
         "dtype": "float64",
         "stats": {
          "unique_count": 22,
          "nan_count": 0,
          "min": "70548.0",
          "max": "17125000.0",
          "histogram": [
           {
            "bin_start": 70548,
            "bin_end": 1775993.2,
            "count": 32
           },
           {
            "bin_start": 1775993.2,
            "bin_end": 3481438.4,
            "count": 0
           },
           {
            "bin_start": 3481438.4,
            "bin_end": 5186883.6,
            "count": 0
           },
           {
            "bin_start": 5186883.6,
            "bin_end": 6892328.8,
            "count": 2
           },
           {
            "bin_start": 6892328.8,
            "bin_end": 8597774,
            "count": 0
           },
           {
            "bin_start": 8597774,
            "bin_end": 10303219.2,
            "count": 0
           },
           {
            "bin_start": 10303219.2,
            "bin_end": 12008664.4,
            "count": 0
           },
           {
            "bin_start": 12008664.4,
            "bin_end": 13714109.6,
            "count": 0
           },
           {
            "bin_start": 13714109.6,
            "bin_end": 15419554.799999999,
            "count": 0
           },
           {
            "bin_start": 15419554.799999999,
            "bin_end": 17125000,
            "count": 13
           }
          ]
         }
        },
        {
         "name": "population_proper",
         "dtype": "float64",
         "stats": {
          "unique_count": 22,
          "nan_count": 0,
          "min": "70548.0",
          "max": "13200000.0",
          "histogram": [
           {
            "bin_start": 70548,
            "bin_end": 1383493.2,
            "count": 30
           },
           {
            "bin_start": 1383493.2,
            "bin_end": 2696438.4,
            "count": 2
           },
           {
            "bin_start": 2696438.4,
            "bin_end": 4009383.5999999996,
            "count": 0
           },
           {
            "bin_start": 4009383.5999999996,
            "bin_end": 5322328.8,
            "count": 0
           },
           {
            "bin_start": 5322328.8,
            "bin_end": 6635274,
            "count": 2
           },
           {
            "bin_start": 6635274,
            "bin_end": 7948219.199999999,
            "count": 0
           },
           {
            "bin_start": 7948219.199999999,
            "bin_end": 9261164.4,
            "count": 0
           },
           {
            "bin_start": 9261164.4,
            "bin_end": 10574109.6,
            "count": 0
           },
           {
            "bin_start": 10574109.6,
            "bin_end": 11887054.799999999,
            "count": 0
           },
           {
            "bin_start": 11887054.799999999,
            "bin_end": 13200000,
            "count": 13
           }
          ]
         }
        },
        {
         "name": "shop_name",
         "dtype": "object",
         "stats": {
          "unique_count": 47,
          "nan_count": 0,
          "categories": [
           {
            "name": " Moscow\" Sale \"",
            "count": 1
           },
           {
            "name": " Moscow MTRC\" Afi Mall \"",
            "count": 1
           },
           {
            "name": "45 others",
            "count": 45
           }
          ]
         }
        },
        {
         "name": "shop_id",
         "dtype": "int64",
         "stats": {
          "unique_count": 47,
          "nan_count": 0,
          "min": "0",
          "max": "59",
          "histogram": [
           {
            "bin_start": 0,
            "bin_end": 5.9,
            "count": 4
           },
           {
            "bin_start": 5.9,
            "bin_end": 11.8,
            "count": 3
           },
           {
            "bin_start": 11.8,
            "bin_end": 17.700000000000003,
            "count": 5
           },
           {
            "bin_start": 17.700000000000003,
            "bin_end": 23.6,
            "count": 6
           },
           {
            "bin_start": 23.6,
            "bin_end": 29.5,
            "count": 6
           },
           {
            "bin_start": 29.5,
            "bin_end": 35.400000000000006,
            "count": 4
           },
           {
            "bin_start": 35.400000000000006,
            "bin_end": 41.300000000000004,
            "count": 3
           },
           {
            "bin_start": 41.300000000000004,
            "bin_end": 47.2,
            "count": 5
           },
           {
            "bin_start": 47.2,
            "bin_end": 53.1,
            "count": 6
           },
           {
            "bin_start": 53.1,
            "bin_end": 59,
            "count": 5
           }
          ]
         }
        },
        {
         "name": "cleaned",
         "dtype": "object",
         "stats": {
          "unique_count": 47,
          "nan_count": 0,
          "categories": [
           {
            "name": "Moscow Sale",
            "count": 1
           },
           {
            "name": "Moscow MTRC Afi Mall",
            "count": 1
           },
           {
            "name": "45 others",
            "count": 45
           }
          ]
         }
        },
        {
         "name": "Cities",
         "dtype": "object",
         "stats": {
          "unique_count": 22,
          "nan_count": 0,
          "categories": [
           {
            "name": "Moscow",
            "count": 13
           },
           {
            "name": "Yakutsk",
            "count": 4
           },
           {
            "name": "20 others",
            "count": 30
           }
          ]
         }
        },
        {
         "name": "latitude",
         "dtype": "float64",
         "stats": {
          "unique_count": 12,
          "nan_count": 35,
          "min": "46.370935349999996",
          "max": "62.091462500000006",
          "histogram": [
           {
            "bin_start": 46.370935349999996,
            "bin_end": 47.942988064999994,
            "count": 1
           },
           {
            "bin_start": 47.942988064999994,
            "bin_end": 49.51504078,
            "count": 0
           },
           {
            "bin_start": 49.51504078,
            "bin_end": 51.087093495,
            "count": 0
           },
           {
            "bin_start": 51.087093495,
            "bin_end": 52.65914621,
            "count": 1
           },
           {
            "bin_start": 52.65914621,
            "bin_end": 54.231198925,
            "count": 0
           },
           {
            "bin_start": 54.231198925,
            "bin_end": 55.80325164,
            "count": 5
           },
           {
            "bin_start": 55.80325164,
            "bin_end": 57.375304355000004,
            "count": 3
           },
           {
            "bin_start": 57.375304355000004,
            "bin_end": 58.94735707,
            "count": 1
           },
           {
            "bin_start": 58.94735707,
            "bin_end": 60.51940978500001,
            "count": 0
           },
           {
            "bin_start": 60.51940978500001,
            "bin_end": 62.091462500000006,
            "count": 1
           }
          ]
         }
        },
        {
         "name": "longitude",
         "dtype": "float64",
         "stats": {
          "unique_count": 12,
          "nan_count": 35,
          "min": "6.231168493722434",
          "max": "129.76969577334057",
          "histogram": [
           {
            "bin_start": 6.231168493722434,
            "bin_end": 18.585021221684247,
            "count": 1
           },
           {
            "bin_start": 18.585021221684247,
            "bin_end": 30.93887394964606,
            "count": 0
           },
           {
            "bin_start": 30.93887394964606,
            "bin_end": 43.292726677607874,
            "count": 10
           },
           {
            "bin_start": 43.292726677607874,
            "bin_end": 55.64657940556969,
            "count": 0
           },
           {
            "bin_start": 55.64657940556969,
            "bin_end": 68.0004321335315,
            "count": 0
           },
           {
            "bin_start": 68.0004321335315,
            "bin_end": 80.35428486149331,
            "count": 0
           },
           {
            "bin_start": 80.35428486149331,
            "bin_end": 92.70813758945513,
            "count": 0
           },
           {
            "bin_start": 92.70813758945513,
            "bin_end": 105.06199031741694,
            "count": 0
           },
           {
            "bin_start": 105.06199031741694,
            "bin_end": 117.41584304537875,
            "count": 0
           },
           {
            "bin_start": 117.41584304537875,
            "bin_end": 129.76969577334057,
            "count": 1
           }
          ]
         }
        },
        {
         "name": "population_y",
         "dtype": "object",
         "stats": {
          "unique_count": 1,
          "nan_count": 45,
          "categories": [
           {
            "name": "0.0",
            "count": 2
           },
           {
            "name": "Missing",
            "count": 45
           }
          ]
         }
        },
        {
         "name": "capital_y",
         "dtype": "int64",
         "stats": {
          "unique_count": 1,
          "nan_count": 0,
          "min": "0",
          "max": "0",
          "histogram": [
           {
            "bin_start": -0.5,
            "bin_end": -0.4,
            "count": 0
           },
           {
            "bin_start": -0.4,
            "bin_end": -0.3,
            "count": 0
           },
           {
            "bin_start": -0.3,
            "bin_end": -0.19999999999999996,
            "count": 0
           },
           {
            "bin_start": -0.19999999999999996,
            "bin_end": -0.09999999999999998,
            "count": 0
           },
           {
            "bin_start": -0.09999999999999998,
            "bin_end": 0,
            "count": 0
           },
           {
            "bin_start": 0,
            "bin_end": 0.10000000000000009,
            "count": 47
           },
           {
            "bin_start": 0.10000000000000009,
            "bin_end": 0.20000000000000007,
            "count": 0
           },
           {
            "bin_start": 0.20000000000000007,
            "bin_end": 0.30000000000000004,
            "count": 0
           },
           {
            "bin_start": 0.30000000000000004,
            "bin_end": 0.4,
            "count": 0
           },
           {
            "bin_start": 0.4,
            "bin_end": 0.5,
            "count": 0
           }
          ]
         }
        },
        {
         "name": "_deepnote_index_column",
         "dtype": "int64"
        }
       ],
       "rows_top": [
        {
         "city": "Moscow",
         "lat": 55.7558,
         "lng": 37.6178,
         "country": "Russia",
         "iso2": "RU",
         "admin_name": "Moskva",
         "capital_x": "primary",
         "population_x": 17125000,
         "population_proper": 13200000,
         "shop_name": " Moscow\" Sale \"",
         "shop_id": 20,
         "cleaned": "Moscow Sale",
         "Cities": "Moscow",
         "latitude": "55.7585392",
         "longitude": "37.741209",
         "population_y": "nan",
         "capital_y": 0,
         "_deepnote_index_column": 0
        },
        {
         "city": "Moscow",
         "lat": 55.7558,
         "lng": 37.6178,
         "country": "Russia",
         "iso2": "RU",
         "admin_name": "Moskva",
         "capital_x": "primary",
         "population_x": 17125000,
         "population_proper": 13200000,
         "shop_name": " Moscow MTRC\" Afi Mall \"",
         "shop_id": 21,
         "cleaned": "Moscow MTRC Afi Mall",
         "Cities": "Moscow",
         "latitude": "nan",
         "longitude": "nan",
         "population_y": "nan",
         "capital_y": 0,
         "_deepnote_index_column": 1
        },
        {
         "city": "Moscow",
         "lat": 55.7558,
         "lng": 37.6178,
         "country": "Russia",
         "iso2": "RU",
         "admin_name": "Moskva",
         "capital_x": "primary",
         "population_x": 17125000,
         "population_proper": 13200000,
         "shop_name": " Moscow Shop C21",
         "shop_id": 22,
         "cleaned": "Moscow Shop C21",
         "Cities": "Moscow",
         "latitude": "55.6188728",
         "longitude": "37.6543187",
         "population_y": "nan",
         "capital_y": 0,
         "_deepnote_index_column": 2
        },
        {
         "city": "Moscow",
         "lat": 55.7558,
         "lng": 37.6178,
         "country": "Russia",
         "iso2": "RU",
         "admin_name": "Moskva",
         "capital_x": "primary",
         "population_x": 17125000,
         "population_proper": 13200000,
         "shop_name": " Moscow TK\" Budenovskiy \"(pav.A2)",
         "shop_id": 23,
         "cleaned": "Moscow TK Budenovskiy (pav.A2)",
         "Cities": "Moscow",
         "latitude": "nan",
         "longitude": "nan",
         "population_y": "nan",
         "capital_y": 0,
         "_deepnote_index_column": 3
        },
        {
         "city": "Moscow",
         "lat": 55.7558,
         "lng": 37.6178,
         "country": "Russia",
         "iso2": "RU",
         "admin_name": "Moskva",
         "capital_x": "primary",
         "population_x": 17125000,
         "population_proper": 13200000,
         "shop_name": " Moscow TK\" Budenovskiy \"(pav.K7)",
         "shop_id": 24,
         "cleaned": "Moscow TK Budenovskiy (pav.K7)",
         "Cities": "Moscow",
         "latitude": "nan",
         "longitude": "nan",
         "population_y": "nan",
         "capital_y": 0,
         "_deepnote_index_column": 4
        },
        {
         "city": "Moscow",
         "lat": 55.7558,
         "lng": 37.6178,
         "country": "Russia",
         "iso2": "RU",
         "admin_name": "Moskva",
         "capital_x": "primary",
         "population_x": 17125000,
         "population_proper": 13200000,
         "shop_name": " Moscow TEC\" Atrium \"",
         "shop_id": 25,
         "cleaned": "Moscow TEC Atrium",
         "Cities": "Moscow",
         "latitude": "55.8187423",
         "longitude": "37.52124755184107",
         "population_y": "nan",
         "capital_y": 0,
         "_deepnote_index_column": 5
        },
        {
         "city": "Moscow",
         "lat": 55.7558,
         "lng": 37.6178,
         "country": "Russia",
         "iso2": "RU",
         "admin_name": "Moskva",
         "capital_x": "primary",
         "population_x": 17125000,
         "population_proper": 13200000,
         "shop_name": " Moscow TTS\" Areal \"(Belyaevo)",
         "shop_id": 26,
         "cleaned": "Moscow TTS Areal (Belyaevo)",
         "Cities": "Moscow",
         "latitude": "nan",
         "longitude": "nan",
         "population_y": "nan",
         "capital_y": 0,
         "_deepnote_index_column": 6
        },
        {
         "city": "Moscow",
         "lat": 55.7558,
         "lng": 37.6178,
         "country": "Russia",
         "iso2": "RU",
         "admin_name": "Moskva",
         "capital_x": "primary",
         "population_x": 17125000,
         "population_proper": 13200000,
         "shop_name": " Moscow TC\" MEGA Belaya Dacha II \"",
         "shop_id": 27,
         "cleaned": "Moscow TC MEGA Belaya Dacha II",
         "Cities": "Moscow",
         "latitude": "nan",
         "longitude": "nan",
         "population_y": "nan",
         "capital_y": 0,
         "_deepnote_index_column": 7
        },
        {
         "city": "Moscow",
         "lat": 55.7558,
         "lng": 37.6178,
         "country": "Russia",
         "iso2": "RU",
         "admin_name": "Moskva",
         "capital_x": "primary",
         "population_x": 17125000,
         "population_proper": 13200000,
         "shop_name": " Moscow TC\" MEGA Teply Stan \"II",
         "shop_id": 28,
         "cleaned": "Moscow TC MEGA Teply Stan II",
         "Cities": "Moscow",
         "latitude": "nan",
         "longitude": "nan",
         "population_y": "nan",
         "capital_y": 0,
         "_deepnote_index_column": 8
        },
        {
         "city": "Moscow",
         "lat": 55.7558,
         "lng": 37.6178,
         "country": "Russia",
         "iso2": "RU",
         "admin_name": "Moskva",
         "capital_x": "primary",
         "population_x": 17125000,
         "population_proper": 13200000,
         "shop_name": " Moscow TC\" New Age \"(Novokosino)",
         "shop_id": 29,
         "cleaned": "Moscow TC New Age (Novokosino)",
         "Cities": "Moscow",
         "latitude": "nan",
         "longitude": "nan",
         "population_y": "nan",
         "capital_y": 0,
         "_deepnote_index_column": 9
        },
        {
         "city": "Moscow",
         "lat": 55.7558,
         "lng": 37.6178,
         "country": "Russia",
         "iso2": "RU",
         "admin_name": "Moskva",
         "capital_x": "primary",
         "population_x": 17125000,
         "population_proper": 13200000,
         "shop_name": " Moscow TC\" Perlovsky \"",
         "shop_id": 30,
         "cleaned": "Moscow TC Perlovsky",
         "Cities": "Moscow",
         "latitude": "nan",
         "longitude": "nan",
         "population_y": "nan",
         "capital_y": 0,
         "_deepnote_index_column": 10
        },
        {
         "city": "Moscow",
         "lat": 55.7558,
         "lng": 37.6178,
         "country": "Russia",
         "iso2": "RU",
         "admin_name": "Moskva",
         "capital_x": "primary",
         "population_x": 17125000,
         "population_proper": 13200000,
         "shop_name": " Moscow TC\" Semenovsky \"",
         "shop_id": 31,
         "cleaned": "Moscow TC Semenovsky",
         "Cities": "Moscow",
         "latitude": "nan",
         "longitude": "nan",
         "population_y": "nan",
         "capital_y": 0,
         "_deepnote_index_column": 11
        },
        {
         "city": "Moscow",
         "lat": 55.7558,
         "lng": 37.6178,
         "country": "Russia",
         "iso2": "RU",
         "admin_name": "Moskva",
         "capital_x": "primary",
         "population_x": 17125000,
         "population_proper": 13200000,
         "shop_name": " Moscow TC\" Serebryany House \"",
         "shop_id": 32,
         "cleaned": "Moscow TC Serebryany House",
         "Cities": "Moscow",
         "latitude": "55.7814253",
         "longitude": "37.4206318",
         "population_y": "nan",
         "capital_y": 0,
         "_deepnote_index_column": 12
        },
        {
         "city": "Saint Petersburg",
         "lat": 59.95,
         "lng": 30.3167,
         "country": "Russia",
         "iso2": "RU",
         "admin_name": "Sankt-Peterburg",
         "capital_x": "admin",
         "population_x": 5351935,
         "population_proper": 5351935,
         "shop_name": " St. Petersburg Nevsky Center shopping center",
         "shop_id": 42,
         "cleaned": "St. Petersburg Nevsky Center shopping center",
         "Cities": "Saint Petersburg",
         "latitude": "nan",
         "longitude": "nan",
         "population_y": "0",
         "capital_y": 0,
         "_deepnote_index_column": 13
        },
        {
         "city": "Saint Petersburg",
         "lat": 59.95,
         "lng": 30.3167,
         "country": "Russia",
         "iso2": "RU",
         "admin_name": "Sankt-Peterburg",
         "capital_x": "admin",
         "population_x": 5351935,
         "population_proper": 5351935,
         "shop_name": " St. Petersburg Sennaya shopping center",
         "shop_id": 43,
         "cleaned": "St. Petersburg Sennaya shopping center",
         "Cities": "Saint Petersburg",
         "latitude": "nan",
         "longitude": "nan",
         "population_y": "0",
         "capital_y": 0,
         "_deepnote_index_column": 14
        },
        {
         "city": "Novosibirsk",
         "lat": 55.0333,
         "lng": 82.9167,
         "country": "Russia",
         "iso2": "RU",
         "admin_name": "Novosibirskaya Oblast’",
         "capital_x": "admin",
         "population_x": 1602915,
         "population_proper": 1602915,
         "shop_name": " Novosibirsk SEC\" Gallery Novosibirsk \"",
         "shop_id": 36,
         "cleaned": "Novosibirsk SEC Gallery Novosibirsk",
         "Cities": "Novosibirsk",
         "latitude": "nan",
         "longitude": "nan",
         "population_y": "nan",
         "capital_y": 0,
         "_deepnote_index_column": 15
        },
        {
         "city": "Novosibirsk",
         "lat": 55.0333,
         "lng": 82.9167,
         "country": "Russia",
         "iso2": "RU",
         "admin_name": "Novosibirskaya Oblast’",
         "capital_x": "admin",
         "population_x": 1602915,
         "population_proper": 1602915,
         "shop_name": " Novosibirsk SEC\" Mega \"",
         "shop_id": 37,
         "cleaned": "Novosibirsk SEC Mega",
         "Cities": "Novosibirsk",
         "latitude": "nan",
         "longitude": "nan",
         "population_y": "nan",
         "capital_y": 0,
         "_deepnote_index_column": 16
        },
        {
         "city": "Kazan",
         "lat": 55.7908,
         "lng": 49.1144,
         "country": "Russia",
         "iso2": "RU",
         "admin_name": "Tatarstan",
         "capital_x": "admin",
         "population_x": 1243500,
         "population_proper": 1243500,
         "shop_name": " Kazan TC \"Behetle\"",
         "shop_id": 13,
         "cleaned": "Kazan TC Behetle",
         "Cities": "Kazan",
         "latitude": "nan",
         "longitude": "nan",
         "population_y": "nan",
         "capital_y": 0,
         "_deepnote_index_column": 17
        },
        {
         "city": "Kazan",
         "lat": 55.7908,
         "lng": 49.1144,
         "country": "Russia",
         "iso2": "RU",
         "admin_name": "Tatarstan",
         "capital_x": "admin",
         "population_x": 1243500,
         "population_proper": 1243500,
         "shop_name": " Kazan TC \"ParkHouse\" II",
         "shop_id": 14,
         "cleaned": "Kazan TC ParkHouse II",
         "Cities": "Kazan",
         "latitude": "nan",
         "longitude": "nan",
         "population_y": "nan",
         "capital_y": 0,
         "_deepnote_index_column": 18
        },
        {
         "city": "Omsk",
         "lat": 54.9667,
         "lng": 73.3833,
         "country": "Russia",
         "iso2": "RU",
         "admin_name": "Omskaya Oblast’",
         "capital_x": "admin",
         "population_x": 1178391,
         "population_proper": 1178391,
         "shop_name": " Omsk TC\" Mega \"",
         "shop_id": 38,
         "cleaned": "Omsk TC Mega",
         "Cities": "Omsk",
         "latitude": "nan",
         "longitude": "nan",
         "population_y": "nan",
         "capital_y": 0,
         "_deepnote_index_column": 19
        },
        {
         "city": "Samara",
         "lat": 53.1833,
         "lng": 50.1167,
         "country": "Russia",
         "iso2": "RU",
         "admin_name": "Samarskaya Oblast’",
         "capital_x": "admin",
         "population_x": 1169719,
         "population_proper": 1169719,
         "shop_name": " Samara Melody shopping center",
         "shop_id": 44,
         "cleaned": "Samara Melody shopping center",
         "Cities": "Samara",
         "latitude": "nan",
         "longitude": "nan",
         "population_y": "nan",
         "capital_y": 0,
         "_deepnote_index_column": 20
        },
        {
         "city": "Samara",
         "lat": 53.1833,
         "lng": 50.1167,
         "country": "Russia",
         "iso2": "RU",
         "admin_name": "Samarskaya Oblast’",
         "capital_x": "admin",
         "population_x": 1169719,
         "population_proper": 1169719,
         "shop_name": " Samara ParkHouse shopping center",
         "shop_id": 45,
         "cleaned": "Samara ParkHouse shopping center",
         "Cities": "Samara",
         "latitude": "nan",
         "longitude": "nan",
         "population_y": "nan",
         "capital_y": 0,
         "_deepnote_index_column": 21
        },
        {
         "city": "Ufa",
         "lat": 54.7333,
         "lng": 55.9667,
         "country": "Russia",
         "iso2": "RU",
         "admin_name": "Bashkortostan",
         "capital_x": "admin",
         "population_x": 1115560,
         "population_proper": 1115560,
         "shop_name": " Ufa TC\" Central \"",
         "shop_id": 52,
         "cleaned": "Ufa TC Central",
         "Cities": "Ufa",
         "latitude": "46.370935349999996",
         "longitude": "6.231168493722434",
         "population_y": "nan",
         "capital_y": 0,
         "_deepnote_index_column": 22
        },
        {
         "city": "Ufa",
         "lat": 54.7333,
         "lng": 55.9667,
         "country": "Russia",
         "iso2": "RU",
         "admin_name": "Bashkortostan",
         "capital_x": "admin",
         "population_x": 1115560,
         "population_proper": 1115560,
         "shop_name": " Ufa TC\" Family \"2",
         "shop_id": 53,
         "cleaned": "Ufa TC Family 2",
         "Cities": "Ufa",
         "latitude": "nan",
         "longitude": "nan",
         "population_y": "nan",
         "capital_y": 0,
         "_deepnote_index_column": 23
        },
        {
         "city": "Krasnoyarsk",
         "lat": 56.0167,
         "lng": 92.8667,
         "country": "Russia",
         "iso2": "RU",
         "admin_name": "Krasnoyarskiy Kray",
         "capital_x": "admin",
         "population_x": 1083865,
         "population_proper": 1083865,
         "shop_name": " Krasnoyarsk TC \"Vzletka Plaza\"",
         "shop_id": 17,
         "cleaned": "Krasnoyarsk TC Vzletka Plaza",
         "Cities": "Krasnoyarsk",
         "latitude": "nan",
         "longitude": "nan",
         "population_y": "nan",
         "capital_y": 0,
         "_deepnote_index_column": 24
        },
        {
         "city": "Krasnoyarsk",
         "lat": 56.0167,
         "lng": 92.8667,
         "country": "Russia",
         "iso2": "RU",
         "admin_name": "Krasnoyarskiy Kray",
         "capital_x": "admin",
         "population_x": 1083865,
         "population_proper": 1083865,
         "shop_name": " Krasnoyarsk TC \"June\"",
         "shop_id": 18,
         "cleaned": "Krasnoyarsk TC June",
         "Cities": "Krasnoyarsk",
         "latitude": "nan",
         "longitude": "nan",
         "population_y": "nan",
         "capital_y": 0,
         "_deepnote_index_column": 25
        },
        {
         "city": "Voronezh",
         "lat": 51.6717,
         "lng": 39.2106,
         "country": "Russia",
         "iso2": "RU",
         "admin_name": "Voronezhskaya Oblast’",
         "capital_x": "admin",
         "population_x": 1047549,
         "population_proper": 1047549,
         "shop_name": " Voronezh (Plekhanovskaya, 13)",
         "shop_id": 6,
         "cleaned": "Voronezh (Plekhanovskaya, 13)",
         "Cities": "Voronezh",
         "latitude": "nan",
         "longitude": "nan",
         "population_y": "nan",
         "capital_y": 0,
         "_deepnote_index_column": 26
        },
        {
         "city": "Voronezh",
         "lat": 51.6717,
         "lng": 39.2106,
         "country": "Russia",
         "iso2": "RU",
         "admin_name": "Voronezhskaya Oblast’",
         "capital_x": "admin",
         "population_x": 1047549,
         "population_proper": 1047549,
         "shop_name": " Voronezh SEC \"Maksimir\"",
         "shop_id": 7,
         "cleaned": "Voronezh SEC Maksimir",
         "Cities": "Voronezh",
         "latitude": "51.697217800000004",
         "longitude": "39.27362145990902",
         "population_y": "nan",
         "capital_y": 0,
         "_deepnote_index_column": 27
        },
        {
         "city": "Voronezh",
         "lat": 51.6717,
         "lng": 39.2106,
         "country": "Russia",
         "iso2": "RU",
         "admin_name": "Voronezhskaya Oblast’",
         "capital_x": "admin",
         "population_x": 1047549,
         "population_proper": 1047549,
         "shop_name": " Voronezh SEC City-Park \"Grad\"",
         "shop_id": 8,
         "cleaned": "Voronezh SEC City Park Grad",
         "Cities": "Voronezh",
         "latitude": "nan",
         "longitude": "nan",
         "population_y": "nan",
         "capital_y": 0,
         "_deepnote_index_column": 28
        },
        {
         "city": "Tyumen",
         "lat": 57.15,
         "lng": 65.5333,
         "country": "Russia",
         "iso2": "RU",
         "admin_name": "Tyumenskaya Oblast’",
         "capital_x": "admin",
         "population_x": 744554,
         "population_proper": 744554,
         "shop_name": " Tyumen SEC \"Crystal\"",
         "shop_id": 49,
         "cleaned": "Tyumen SEC Crystal",
         "Cities": "Tyumen",
         "latitude": "nan",
         "longitude": "nan",
         "population_y": "nan",
         "capital_y": 0,
         "_deepnote_index_column": 29
        },
        {
         "city": "Tyumen",
         "lat": 57.15,
         "lng": 65.5333,
         "country": "Russia",
         "iso2": "RU",
         "admin_name": "Tyumenskaya Oblast’",
         "capital_x": "admin",
         "population_x": 744554,
         "population_proper": 744554,
         "shop_name": " Tyumen SEC \"Goodwin\"",
         "shop_id": 50,
         "cleaned": "Tyumen SEC Goodwin",
         "Cities": "Tyumen",
         "latitude": "nan",
         "longitude": "nan",
         "population_y": "nan",
         "capital_y": 0,
         "_deepnote_index_column": 30
        },
        {
         "city": "Tyumen",
         "lat": 57.15,
         "lng": 65.5333,
         "country": "Russia",
         "iso2": "RU",
         "admin_name": "Tyumenskaya Oblast’",
         "capital_x": "admin",
         "population_x": 744554,
         "population_proper": 744554,
         "shop_name": " Tyumen TC \"Green Coast \"",
         "shop_id": 51,
         "cleaned": "Tyumen TC Green Coast",
         "Cities": "Tyumen",
         "latitude": "nan",
         "longitude": "nan",
         "population_y": "nan",
         "capital_y": 0,
         "_deepnote_index_column": 31
        },
        {
         "city": "Yaroslavl",
         "lat": 57.6167,
         "lng": 39.85,
         "country": "Russia",
         "iso2": "RU",
         "admin_name": "Yaroslavskaya Oblast’",
         "capital_x": "admin",
         "population_x": 608079,
         "population_proper": 608079,
         "shop_name": " Yaroslavl TC\" Altair \"",
         "shop_id": 59,
         "cleaned": "Yaroslavl TC Altair",
         "Cities": "Yaroslavl",
         "latitude": "57.69780985",
         "longitude": "39.75859173669758",
         "population_y": "nan",
         "capital_y": 0,
         "_deepnote_index_column": 32
        },
        {
         "city": "Tomsk",
         "lat": 56.4886,
         "lng": 84.9522,
         "country": "Russia",
         "iso2": "RU",
         "admin_name": "Tomskaya Oblast’",
         "capital_x": "admin",
         "population_x": 572740,
         "population_proper": 572740,
         "shop_name": " Tomsk SEC \"Emerald City\"",
         "shop_id": 48,
         "cleaned": "Tomsk SEC Emerald City",
         "Cities": "Tomsk",
         "latitude": "nan",
         "longitude": "nan",
         "population_y": "nan",
         "capital_y": 0,
         "_deepnote_index_column": 33
        },
        {
         "city": "Balashikha",
         "lat": 55.8,
         "lng": 37.95,
         "country": "Russia",
         "iso2": "RU",
         "admin_name": "Moskovskaya Oblast’",
         "capital_x": "nan",
         "population_x": 450771,
         "population_proper": 450771,
         "shop_name": " Balashikha TC \"Oktyabr-Kinomir\"",
         "shop_id": 3,
         "cleaned": "Balashikha TC Oktyabr Kinomir",
         "Cities": "Balashikha",
         "latitude": "nan",
         "longitude": "nan",
         "population_y": "nan",
         "capital_y": 0,
         "_deepnote_index_column": 34
        },
        {
         "city": "Kursk",
         "lat": 51.7372,
         "lng": 36.1872,
         "country": "Russia",
         "iso2": "RU",
         "admin_name": "Kurskaya Oblast’",
         "capital_x": "admin",
         "population_x": 449063,
         "population_proper": 449063,
         "shop_name": " Kursk TC \" Pushkinskiy \"",
         "shop_id": 19,
         "cleaned": "Kursk TC  Pushkinskiy",
         "Cities": "Kursk",
         "latitude": "nan",
         "longitude": "nan",
         "population_y": "nan",
         "capital_y": 0,
         "_deepnote_index_column": 35
        },
        {
         "city": "Surgut",
         "lat": 61.25,
         "lng": 73.4333,
         "country": "Russia",
         "iso2": "RU",
         "admin_name": "Khanty-Mansiyskiy Avtonomnyy Okrug-Yugra",
         "capital_x": "nan",
         "population_x": 360590,
         "population_proper": 360590,
         "shop_name": " Surgut SEC \"City Mall\"",
         "shop_id": 47,
         "cleaned": "Surgut SEC City Mall",
         "Cities": "Surgut",
         "latitude": "nan",
         "longitude": "nan",
         "population_y": "nan",
         "capital_y": 0,
         "_deepnote_index_column": 36
        },
        {
         "city": "Kaluga",
         "lat": 54.5333,
         "lng": 36.2667,
         "country": "Russia",
         "iso2": "RU",
         "admin_name": "Kaluzhskaya Oblast’",
         "capital_x": "admin",
         "population_x": 341892,
         "population_proper": 341892,
         "shop_name": " Kaluga TC \"XXI century\"",
         "shop_id": 15,
         "cleaned": "Kaluga TC XXI century",
         "Cities": "Kaluga",
         "latitude": "nan",
         "longitude": "nan",
         "population_y": "nan",
         "capital_y": 0,
         "_deepnote_index_column": 37
        },
        {
         "city": "Vologda",
         "lat": 59.2167,
         "lng": 39.9,
         "country": "Russia",
         "iso2": "RU",
         "admin_name": "Vologodskaya Oblast’",
         "capital_x": "admin",
         "population_x": 313012,
         "population_proper": 313012,
         "shop_name": " Vologda SEC \"Marmelad\"",
         "shop_id": 5,
         "cleaned": "Vologda SEC Marmelad",
         "Cities": "Vologda",
         "latitude": "nan",
         "longitude": "nan",
         "population_y": "nan",
         "capital_y": 0,
         "_deepnote_index_column": 38
        },
        {
         "city": "Yakutsk",
         "lat": 62.0272,
         "lng": 129.7319,
         "country": "Russia",
         "iso2": "RU",
         "admin_name": "Sakha (Yakutiya)",
         "capital_x": "admin",
         "population_x": 307911,
         "population_proper": 307911,
         "shop_name": "! Yakutsk Ordzhonikidze, 56 francs",
         "shop_id": 0,
         "cleaned": "Yakutsk Ordzhonikidze, 56 francs",
         "Cities": "Yakutsk",
         "latitude": "nan",
         "longitude": "nan",
         "population_y": "nan",
         "capital_y": 0,
         "_deepnote_index_column": 39
        },
        {
         "city": "Yakutsk",
         "lat": 62.0272,
         "lng": 129.7319,
         "country": "Russia",
         "iso2": "RU",
         "admin_name": "Sakha (Yakutiya)",
         "capital_x": "admin",
         "population_x": 307911,
         "population_proper": 307911,
         "shop_name": "! Yakutsk TC \"Central\" fran",
         "shop_id": 1,
         "cleaned": "Yakutsk TC Central fran",
         "Cities": "Yakutsk",
         "latitude": "nan",
         "longitude": "nan",
         "population_y": "nan",
         "capital_y": 0,
         "_deepnote_index_column": 40
        },
        {
         "city": "Yakutsk",
         "lat": 62.0272,
         "lng": 129.7319,
         "country": "Russia",
         "iso2": "RU",
         "admin_name": "Sakha (Yakutiya)",
         "capital_x": "admin",
         "population_x": 307911,
         "population_proper": 307911,
         "shop_name": " Yakutsk Ordzhonikidze, 56",
         "shop_id": 57,
         "cleaned": "Yakutsk Ordzhonikidze, 56",
         "Cities": "Yakutsk",
         "latitude": "nan",
         "longitude": "nan",
         "population_y": "nan",
         "capital_y": 0,
         "_deepnote_index_column": 41
        },
        {
         "city": "Yakutsk",
         "lat": 62.0272,
         "lng": 129.7319,
         "country": "Russia",
         "iso2": "RU",
         "admin_name": "Sakha (Yakutiya)",
         "capital_x": "admin",
         "population_x": 307911,
         "population_proper": 307911,
         "shop_name": " Yakutsk TC\" Central \"",
         "shop_id": 58,
         "cleaned": "Yakutsk TC Central",
         "Cities": "Yakutsk",
         "latitude": "62.091462500000006",
         "longitude": "129.76969577334057",
         "population_y": "nan",
         "capital_y": 0,
         "_deepnote_index_column": 42
        },
        {
         "city": "Khimki",
         "lat": 55.8892,
         "lng": 37.445,
         "country": "Russia",
         "iso2": "RU",
         "admin_name": "Moskva",
         "capital_x": "nan",
         "population_x": 244668,
         "population_proper": 244668,
         "shop_name": " Khimki TC\" Mega \"",
         "shop_id": 54,
         "cleaned": "Khimki TC Mega",
         "Cities": "Khimki",
         "latitude": "55.9114337",
         "longitude": "37.395596590243215",
         "population_y": "nan",
         "capital_y": 0,
         "_deepnote_index_column": 43
        },
        {
         "city": "Mytishchi",
         "lat": 55.9167,
         "lng": 37.7333,
         "country": "Russia",
         "iso2": "RU",
         "admin_name": "Moskovskaya Oblast’",
         "capital_x": "nan",
         "population_x": 205397,
         "population_proper": 205397,
         "shop_name": " Mytishchi SEC\" XL-3 \"",
         "shop_id": 33,
         "cleaned": "Mytishchi SEC XL 3",
         "Cities": "Mytishchi",
         "latitude": "55.89164445",
         "longitude": "37.74500599901913",
         "population_y": "nan",
         "capital_y": 0,
         "_deepnote_index_column": 44
        },
        {
         "city": "Kolomna",
         "lat": 55.0833,
         "lng": 38.7833,
         "country": "Russia",
         "iso2": "RU",
         "admin_name": "Moskovskaya Oblast’",
         "capital_x": "nan",
         "population_x": 144125,
         "population_proper": 144125,
         "shop_name": " Kolomna TC \"Rio\"",
         "shop_id": 16,
         "cleaned": "Kolomna TC Rio",
         "Cities": "Kolomna",
         "latitude": "55.0841251",
         "longitude": "38.8001618",
         "population_y": "nan",
         "capital_y": 0,
         "_deepnote_index_column": 45
        },
        {
         "city": "Chekhov",
         "lat": 55.1481,
         "lng": 37.4769,
         "country": "Russia",
         "iso2": "RU",
         "admin_name": "Moskovskaya Oblast’",
         "capital_x": "nan",
         "population_x": 70548,
         "population_proper": 70548,
         "shop_name": " Chekhov TC\" Karnaval \"",
         "shop_id": 56,
         "cleaned": "Chekhov TC Karnaval",
         "Cities": "Chekhov",
         "latitude": "55.15334245",
         "longitude": "37.459416910922286",
         "population_y": "nan",
         "capital_y": 0,
         "_deepnote_index_column": 46
        }
       ],
       "rows_bottom": null
      },
      "text/plain": "                city      lat       lng country iso2  \\\n0             Moscow  55.7558   37.6178  Russia   RU   \n1             Moscow  55.7558   37.6178  Russia   RU   \n2             Moscow  55.7558   37.6178  Russia   RU   \n3             Moscow  55.7558   37.6178  Russia   RU   \n4             Moscow  55.7558   37.6178  Russia   RU   \n5             Moscow  55.7558   37.6178  Russia   RU   \n6             Moscow  55.7558   37.6178  Russia   RU   \n7             Moscow  55.7558   37.6178  Russia   RU   \n8             Moscow  55.7558   37.6178  Russia   RU   \n9             Moscow  55.7558   37.6178  Russia   RU   \n10            Moscow  55.7558   37.6178  Russia   RU   \n11            Moscow  55.7558   37.6178  Russia   RU   \n12            Moscow  55.7558   37.6178  Russia   RU   \n13  Saint Petersburg  59.9500   30.3167  Russia   RU   \n14  Saint Petersburg  59.9500   30.3167  Russia   RU   \n15       Novosibirsk  55.0333   82.9167  Russia   RU   \n16       Novosibirsk  55.0333   82.9167  Russia   RU   \n17             Kazan  55.7908   49.1144  Russia   RU   \n18             Kazan  55.7908   49.1144  Russia   RU   \n19              Omsk  54.9667   73.3833  Russia   RU   \n20            Samara  53.1833   50.1167  Russia   RU   \n21            Samara  53.1833   50.1167  Russia   RU   \n22               Ufa  54.7333   55.9667  Russia   RU   \n23               Ufa  54.7333   55.9667  Russia   RU   \n24       Krasnoyarsk  56.0167   92.8667  Russia   RU   \n25       Krasnoyarsk  56.0167   92.8667  Russia   RU   \n26          Voronezh  51.6717   39.2106  Russia   RU   \n27          Voronezh  51.6717   39.2106  Russia   RU   \n28          Voronezh  51.6717   39.2106  Russia   RU   \n29            Tyumen  57.1500   65.5333  Russia   RU   \n30            Tyumen  57.1500   65.5333  Russia   RU   \n31            Tyumen  57.1500   65.5333  Russia   RU   \n32         Yaroslavl  57.6167   39.8500  Russia   RU   \n33             Tomsk  56.4886   84.9522  Russia   RU   \n34        Balashikha  55.8000   37.9500  Russia   RU   \n35             Kursk  51.7372   36.1872  Russia   RU   \n36            Surgut  61.2500   73.4333  Russia   RU   \n37            Kaluga  54.5333   36.2667  Russia   RU   \n38           Vologda  59.2167   39.9000  Russia   RU   \n39           Yakutsk  62.0272  129.7319  Russia   RU   \n40           Yakutsk  62.0272  129.7319  Russia   RU   \n41           Yakutsk  62.0272  129.7319  Russia   RU   \n42           Yakutsk  62.0272  129.7319  Russia   RU   \n43            Khimki  55.8892   37.4450  Russia   RU   \n44         Mytishchi  55.9167   37.7333  Russia   RU   \n45           Kolomna  55.0833   38.7833  Russia   RU   \n46           Chekhov  55.1481   37.4769  Russia   RU   \n\n                                  admin_name capital_x  population_x  \\\n0                                     Moskva   primary    17125000.0   \n1                                     Moskva   primary    17125000.0   \n2                                     Moskva   primary    17125000.0   \n3                                     Moskva   primary    17125000.0   \n4                                     Moskva   primary    17125000.0   \n5                                     Moskva   primary    17125000.0   \n6                                     Moskva   primary    17125000.0   \n7                                     Moskva   primary    17125000.0   \n8                                     Moskva   primary    17125000.0   \n9                                     Moskva   primary    17125000.0   \n10                                    Moskva   primary    17125000.0   \n11                                    Moskva   primary    17125000.0   \n12                                    Moskva   primary    17125000.0   \n13                           Sankt-Peterburg     admin     5351935.0   \n14                           Sankt-Peterburg     admin     5351935.0   \n15                    Novosibirskaya Oblast’     admin     1602915.0   \n16                    Novosibirskaya Oblast’     admin     1602915.0   \n17                                 Tatarstan     admin     1243500.0   \n18                                 Tatarstan     admin     1243500.0   \n19                           Omskaya Oblast’     admin     1178391.0   \n20                        Samarskaya Oblast’     admin     1169719.0   \n21                        Samarskaya Oblast’     admin     1169719.0   \n22                             Bashkortostan     admin     1115560.0   \n23                             Bashkortostan     admin     1115560.0   \n24                        Krasnoyarskiy Kray     admin     1083865.0   \n25                        Krasnoyarskiy Kray     admin     1083865.0   \n26                     Voronezhskaya Oblast’     admin     1047549.0   \n27                     Voronezhskaya Oblast’     admin     1047549.0   \n28                     Voronezhskaya Oblast’     admin     1047549.0   \n29                       Tyumenskaya Oblast’     admin      744554.0   \n30                       Tyumenskaya Oblast’     admin      744554.0   \n31                       Tyumenskaya Oblast’     admin      744554.0   \n32                     Yaroslavskaya Oblast’     admin      608079.0   \n33                          Tomskaya Oblast’     admin      572740.0   \n34                       Moskovskaya Oblast’       NaN      450771.0   \n35                          Kurskaya Oblast’     admin      449063.0   \n36  Khanty-Mansiyskiy Avtonomnyy Okrug-Yugra       NaN      360590.0   \n37                       Kaluzhskaya Oblast’     admin      341892.0   \n38                      Vologodskaya Oblast’     admin      313012.0   \n39                          Sakha (Yakutiya)     admin      307911.0   \n40                          Sakha (Yakutiya)     admin      307911.0   \n41                          Sakha (Yakutiya)     admin      307911.0   \n42                          Sakha (Yakutiya)     admin      307911.0   \n43                                    Moskva       NaN      244668.0   \n44                       Moskovskaya Oblast’       NaN      205397.0   \n45                       Moskovskaya Oblast’       NaN      144125.0   \n46                       Moskovskaya Oblast’       NaN       70548.0   \n\n    population_proper                                      shop_name  shop_id  \\\n0          13200000.0                                 Moscow\" Sale \"       20   \n1          13200000.0                        Moscow MTRC\" Afi Mall \"       21   \n2          13200000.0                                Moscow Shop C21       22   \n3          13200000.0               Moscow TK\" Budenovskiy \"(pav.A2)       23   \n4          13200000.0               Moscow TK\" Budenovskiy \"(pav.K7)       24   \n5          13200000.0                           Moscow TEC\" Atrium \"       25   \n6          13200000.0                  Moscow TTS\" Areal \"(Belyaevo)       26   \n7          13200000.0              Moscow TC\" MEGA Belaya Dacha II \"       27   \n8          13200000.0                 Moscow TC\" MEGA Teply Stan \"II       28   \n9          13200000.0               Moscow TC\" New Age \"(Novokosino)       29   \n10         13200000.0                         Moscow TC\" Perlovsky \"       30   \n11         13200000.0                        Moscow TC\" Semenovsky \"       31   \n12         13200000.0                  Moscow TC\" Serebryany House \"       32   \n13          5351935.0   St. Petersburg Nevsky Center shopping center       42   \n14          5351935.0         St. Petersburg Sennaya shopping center       43   \n15          1602915.0         Novosibirsk SEC\" Gallery Novosibirsk \"       36   \n16          1602915.0                        Novosibirsk SEC\" Mega \"       37   \n17          1243500.0                             Kazan TC \"Behetle\"       13   \n18          1243500.0                        Kazan TC \"ParkHouse\" II       14   \n19          1178391.0                                Omsk TC\" Mega \"       38   \n20          1169719.0                  Samara Melody shopping center       44   \n21          1169719.0               Samara ParkHouse shopping center       45   \n22          1115560.0                              Ufa TC\" Central \"       52   \n23          1115560.0                              Ufa TC\" Family \"2       53   \n24          1083865.0                 Krasnoyarsk TC \"Vzletka Plaza\"       17   \n25          1083865.0                          Krasnoyarsk TC \"June\"       18   \n26          1047549.0                  Voronezh (Plekhanovskaya, 13)        6   \n27          1047549.0                        Voronezh SEC \"Maksimir\"        7   \n28          1047549.0                  Voronezh SEC City-Park \"Grad\"        8   \n29           744554.0                           Tyumen SEC \"Crystal\"       49   \n30           744554.0                           Tyumen SEC \"Goodwin\"       50   \n31           744554.0                       Tyumen TC \"Green Coast \"       51   \n32           608079.0                         Yaroslavl TC\" Altair \"       59   \n33           572740.0                       Tomsk SEC \"Emerald City\"       48   \n34           450771.0                Balashikha TC \"Oktyabr-Kinomir\"        3   \n35           449063.0                       Kursk TC \" Pushkinskiy \"       19   \n36           360590.0                         Surgut SEC \"City Mall\"       47   \n37           341892.0                        Kaluga TC \"XXI century\"       15   \n38           313012.0                         Vologda SEC \"Marmelad\"        5   \n39           307911.0             ! Yakutsk Ordzhonikidze, 56 francs        0   \n40           307911.0                    ! Yakutsk TC \"Central\" fran        1   \n41           307911.0                      Yakutsk Ordzhonikidze, 56       57   \n42           307911.0                          Yakutsk TC\" Central \"       58   \n43           244668.0                              Khimki TC\" Mega \"       54   \n44           205397.0                          Mytishchi SEC\" XL-3 \"       33   \n45           144125.0                               Kolomna TC \"Rio\"       16   \n46            70548.0                         Chekhov TC\" Karnaval \"       56   \n\n                                         cleaned            Cities   latitude  \\\n0                                    Moscow Sale            Moscow  55.758539   \n1                           Moscow MTRC Afi Mall            Moscow        NaN   \n2                                Moscow Shop C21            Moscow  55.618873   \n3                 Moscow TK Budenovskiy (pav.A2)            Moscow        NaN   \n4                 Moscow TK Budenovskiy (pav.K7)            Moscow        NaN   \n5                              Moscow TEC Atrium            Moscow  55.818742   \n6                    Moscow TTS Areal (Belyaevo)            Moscow        NaN   \n7                 Moscow TC MEGA Belaya Dacha II            Moscow        NaN   \n8                   Moscow TC MEGA Teply Stan II            Moscow        NaN   \n9                 Moscow TC New Age (Novokosino)            Moscow        NaN   \n10                           Moscow TC Perlovsky            Moscow        NaN   \n11                          Moscow TC Semenovsky            Moscow        NaN   \n12                    Moscow TC Serebryany House            Moscow  55.781425   \n13  St. Petersburg Nevsky Center shopping center  Saint Petersburg        NaN   \n14        St. Petersburg Sennaya shopping center  Saint Petersburg        NaN   \n15           Novosibirsk SEC Gallery Novosibirsk       Novosibirsk        NaN   \n16                          Novosibirsk SEC Mega       Novosibirsk        NaN   \n17                              Kazan TC Behetle             Kazan        NaN   \n18                         Kazan TC ParkHouse II             Kazan        NaN   \n19                                  Omsk TC Mega              Omsk        NaN   \n20                 Samara Melody shopping center            Samara        NaN   \n21              Samara ParkHouse shopping center            Samara        NaN   \n22                                Ufa TC Central               Ufa  46.370935   \n23                               Ufa TC Family 2               Ufa        NaN   \n24                  Krasnoyarsk TC Vzletka Plaza       Krasnoyarsk        NaN   \n25                           Krasnoyarsk TC June       Krasnoyarsk        NaN   \n26                 Voronezh (Plekhanovskaya, 13)          Voronezh        NaN   \n27                         Voronezh SEC Maksimir          Voronezh  51.697218   \n28                   Voronezh SEC City Park Grad          Voronezh        NaN   \n29                            Tyumen SEC Crystal            Tyumen        NaN   \n30                            Tyumen SEC Goodwin            Tyumen        NaN   \n31                         Tyumen TC Green Coast            Tyumen        NaN   \n32                           Yaroslavl TC Altair         Yaroslavl  57.697810   \n33                        Tomsk SEC Emerald City             Tomsk        NaN   \n34                 Balashikha TC Oktyabr Kinomir        Balashikha        NaN   \n35                         Kursk TC  Pushkinskiy             Kursk        NaN   \n36                          Surgut SEC City Mall            Surgut        NaN   \n37                         Kaluga TC XXI century            Kaluga        NaN   \n38                          Vologda SEC Marmelad           Vologda        NaN   \n39              Yakutsk Ordzhonikidze, 56 francs           Yakutsk        NaN   \n40                       Yakutsk TC Central fran           Yakutsk        NaN   \n41                     Yakutsk Ordzhonikidze, 56           Yakutsk        NaN   \n42                            Yakutsk TC Central           Yakutsk  62.091463   \n43                                Khimki TC Mega            Khimki  55.911434   \n44                            Mytishchi SEC XL 3         Mytishchi  55.891644   \n45                                Kolomna TC Rio           Kolomna  55.084125   \n46                           Chekhov TC Karnaval           Chekhov  55.153342   \n\n     longitude population_y  capital_y  \n0    37.741209          NaN          0  \n1          NaN          NaN          0  \n2    37.654319          NaN          0  \n3          NaN          NaN          0  \n4          NaN          NaN          0  \n5    37.521248          NaN          0  \n6          NaN          NaN          0  \n7          NaN          NaN          0  \n8          NaN          NaN          0  \n9          NaN          NaN          0  \n10         NaN          NaN          0  \n11         NaN          NaN          0  \n12   37.420632          NaN          0  \n13         NaN            0          0  \n14         NaN            0          0  \n15         NaN          NaN          0  \n16         NaN          NaN          0  \n17         NaN          NaN          0  \n18         NaN          NaN          0  \n19         NaN          NaN          0  \n20         NaN          NaN          0  \n21         NaN          NaN          0  \n22    6.231168          NaN          0  \n23         NaN          NaN          0  \n24         NaN          NaN          0  \n25         NaN          NaN          0  \n26         NaN          NaN          0  \n27   39.273621          NaN          0  \n28         NaN          NaN          0  \n29         NaN          NaN          0  \n30         NaN          NaN          0  \n31         NaN          NaN          0  \n32   39.758592          NaN          0  \n33         NaN          NaN          0  \n34         NaN          NaN          0  \n35         NaN          NaN          0  \n36         NaN          NaN          0  \n37         NaN          NaN          0  \n38         NaN          NaN          0  \n39         NaN          NaN          0  \n40         NaN          NaN          0  \n41         NaN          NaN          0  \n42  129.769696          NaN          0  \n43   37.395597          NaN          0  \n44   37.745006          NaN          0  \n45   38.800162          NaN          0  \n46   37.459417          NaN          0  ",
      "text/html": "<div>\n<style scoped>\n    .dataframe tbody tr th:only-of-type {\n        vertical-align: middle;\n    }\n\n    .dataframe tbody tr th {\n        vertical-align: top;\n    }\n\n    .dataframe thead th {\n        text-align: right;\n    }\n</style>\n<table border=\"1\" class=\"dataframe\">\n  <thead>\n    <tr style=\"text-align: right;\">\n      <th></th>\n      <th>city</th>\n      <th>lat</th>\n      <th>lng</th>\n      <th>country</th>\n      <th>iso2</th>\n      <th>admin_name</th>\n      <th>capital_x</th>\n      <th>population_x</th>\n      <th>population_proper</th>\n      <th>shop_name</th>\n      <th>shop_id</th>\n      <th>cleaned</th>\n      <th>Cities</th>\n      <th>latitude</th>\n      <th>longitude</th>\n      <th>population_y</th>\n      <th>capital_y</th>\n    </tr>\n  </thead>\n  <tbody>\n    <tr>\n      <th>0</th>\n      <td>Moscow</td>\n      <td>55.7558</td>\n      <td>37.6178</td>\n      <td>Russia</td>\n      <td>RU</td>\n      <td>Moskva</td>\n      <td>primary</td>\n      <td>17125000.0</td>\n      <td>13200000.0</td>\n      <td>Moscow\" Sale \"</td>\n      <td>20</td>\n      <td>Moscow Sale</td>\n      <td>Moscow</td>\n      <td>55.758539</td>\n      <td>37.741209</td>\n      <td>NaN</td>\n      <td>0</td>\n    </tr>\n    <tr>\n      <th>1</th>\n      <td>Moscow</td>\n      <td>55.7558</td>\n      <td>37.6178</td>\n      <td>Russia</td>\n      <td>RU</td>\n      <td>Moskva</td>\n      <td>primary</td>\n      <td>17125000.0</td>\n      <td>13200000.0</td>\n      <td>Moscow MTRC\" Afi Mall \"</td>\n      <td>21</td>\n      <td>Moscow MTRC Afi Mall</td>\n      <td>Moscow</td>\n      <td>NaN</td>\n      <td>NaN</td>\n      <td>NaN</td>\n      <td>0</td>\n    </tr>\n    <tr>\n      <th>2</th>\n      <td>Moscow</td>\n      <td>55.7558</td>\n      <td>37.6178</td>\n      <td>Russia</td>\n      <td>RU</td>\n      <td>Moskva</td>\n      <td>primary</td>\n      <td>17125000.0</td>\n      <td>13200000.0</td>\n      <td>Moscow Shop C21</td>\n      <td>22</td>\n      <td>Moscow Shop C21</td>\n      <td>Moscow</td>\n      <td>55.618873</td>\n      <td>37.654319</td>\n      <td>NaN</td>\n      <td>0</td>\n    </tr>\n    <tr>\n      <th>3</th>\n      <td>Moscow</td>\n      <td>55.7558</td>\n      <td>37.6178</td>\n      <td>Russia</td>\n      <td>RU</td>\n      <td>Moskva</td>\n      <td>primary</td>\n      <td>17125000.0</td>\n      <td>13200000.0</td>\n      <td>Moscow TK\" Budenovskiy \"(pav.A2)</td>\n      <td>23</td>\n      <td>Moscow TK Budenovskiy (pav.A2)</td>\n      <td>Moscow</td>\n      <td>NaN</td>\n      <td>NaN</td>\n      <td>NaN</td>\n      <td>0</td>\n    </tr>\n    <tr>\n      <th>4</th>\n      <td>Moscow</td>\n      <td>55.7558</td>\n      <td>37.6178</td>\n      <td>Russia</td>\n      <td>RU</td>\n      <td>Moskva</td>\n      <td>primary</td>\n      <td>17125000.0</td>\n      <td>13200000.0</td>\n      <td>Moscow TK\" Budenovskiy \"(pav.K7)</td>\n      <td>24</td>\n      <td>Moscow TK Budenovskiy (pav.K7)</td>\n      <td>Moscow</td>\n      <td>NaN</td>\n      <td>NaN</td>\n      <td>NaN</td>\n      <td>0</td>\n    </tr>\n    <tr>\n      <th>5</th>\n      <td>Moscow</td>\n      <td>55.7558</td>\n      <td>37.6178</td>\n      <td>Russia</td>\n      <td>RU</td>\n      <td>Moskva</td>\n      <td>primary</td>\n      <td>17125000.0</td>\n      <td>13200000.0</td>\n      <td>Moscow TEC\" Atrium \"</td>\n      <td>25</td>\n      <td>Moscow TEC Atrium</td>\n      <td>Moscow</td>\n      <td>55.818742</td>\n      <td>37.521248</td>\n      <td>NaN</td>\n      <td>0</td>\n    </tr>\n    <tr>\n      <th>6</th>\n      <td>Moscow</td>\n      <td>55.7558</td>\n      <td>37.6178</td>\n      <td>Russia</td>\n      <td>RU</td>\n      <td>Moskva</td>\n      <td>primary</td>\n      <td>17125000.0</td>\n      <td>13200000.0</td>\n      <td>Moscow TTS\" Areal \"(Belyaevo)</td>\n      <td>26</td>\n      <td>Moscow TTS Areal (Belyaevo)</td>\n      <td>Moscow</td>\n      <td>NaN</td>\n      <td>NaN</td>\n      <td>NaN</td>\n      <td>0</td>\n    </tr>\n    <tr>\n      <th>7</th>\n      <td>Moscow</td>\n      <td>55.7558</td>\n      <td>37.6178</td>\n      <td>Russia</td>\n      <td>RU</td>\n      <td>Moskva</td>\n      <td>primary</td>\n      <td>17125000.0</td>\n      <td>13200000.0</td>\n      <td>Moscow TC\" MEGA Belaya Dacha II \"</td>\n      <td>27</td>\n      <td>Moscow TC MEGA Belaya Dacha II</td>\n      <td>Moscow</td>\n      <td>NaN</td>\n      <td>NaN</td>\n      <td>NaN</td>\n      <td>0</td>\n    </tr>\n    <tr>\n      <th>8</th>\n      <td>Moscow</td>\n      <td>55.7558</td>\n      <td>37.6178</td>\n      <td>Russia</td>\n      <td>RU</td>\n      <td>Moskva</td>\n      <td>primary</td>\n      <td>17125000.0</td>\n      <td>13200000.0</td>\n      <td>Moscow TC\" MEGA Teply Stan \"II</td>\n      <td>28</td>\n      <td>Moscow TC MEGA Teply Stan II</td>\n      <td>Moscow</td>\n      <td>NaN</td>\n      <td>NaN</td>\n      <td>NaN</td>\n      <td>0</td>\n    </tr>\n    <tr>\n      <th>9</th>\n      <td>Moscow</td>\n      <td>55.7558</td>\n      <td>37.6178</td>\n      <td>Russia</td>\n      <td>RU</td>\n      <td>Moskva</td>\n      <td>primary</td>\n      <td>17125000.0</td>\n      <td>13200000.0</td>\n      <td>Moscow TC\" New Age \"(Novokosino)</td>\n      <td>29</td>\n      <td>Moscow TC New Age (Novokosino)</td>\n      <td>Moscow</td>\n      <td>NaN</td>\n      <td>NaN</td>\n      <td>NaN</td>\n      <td>0</td>\n    </tr>\n    <tr>\n      <th>10</th>\n      <td>Moscow</td>\n      <td>55.7558</td>\n      <td>37.6178</td>\n      <td>Russia</td>\n      <td>RU</td>\n      <td>Moskva</td>\n      <td>primary</td>\n      <td>17125000.0</td>\n      <td>13200000.0</td>\n      <td>Moscow TC\" Perlovsky \"</td>\n      <td>30</td>\n      <td>Moscow TC Perlovsky</td>\n      <td>Moscow</td>\n      <td>NaN</td>\n      <td>NaN</td>\n      <td>NaN</td>\n      <td>0</td>\n    </tr>\n    <tr>\n      <th>11</th>\n      <td>Moscow</td>\n      <td>55.7558</td>\n      <td>37.6178</td>\n      <td>Russia</td>\n      <td>RU</td>\n      <td>Moskva</td>\n      <td>primary</td>\n      <td>17125000.0</td>\n      <td>13200000.0</td>\n      <td>Moscow TC\" Semenovsky \"</td>\n      <td>31</td>\n      <td>Moscow TC Semenovsky</td>\n      <td>Moscow</td>\n      <td>NaN</td>\n      <td>NaN</td>\n      <td>NaN</td>\n      <td>0</td>\n    </tr>\n    <tr>\n      <th>12</th>\n      <td>Moscow</td>\n      <td>55.7558</td>\n      <td>37.6178</td>\n      <td>Russia</td>\n      <td>RU</td>\n      <td>Moskva</td>\n      <td>primary</td>\n      <td>17125000.0</td>\n      <td>13200000.0</td>\n      <td>Moscow TC\" Serebryany House \"</td>\n      <td>32</td>\n      <td>Moscow TC Serebryany House</td>\n      <td>Moscow</td>\n      <td>55.781425</td>\n      <td>37.420632</td>\n      <td>NaN</td>\n      <td>0</td>\n    </tr>\n    <tr>\n      <th>13</th>\n      <td>Saint Petersburg</td>\n      <td>59.9500</td>\n      <td>30.3167</td>\n      <td>Russia</td>\n      <td>RU</td>\n      <td>Sankt-Peterburg</td>\n      <td>admin</td>\n      <td>5351935.0</td>\n      <td>5351935.0</td>\n      <td>St. Petersburg Nevsky Center shopping center</td>\n      <td>42</td>\n      <td>St. Petersburg Nevsky Center shopping center</td>\n      <td>Saint Petersburg</td>\n      <td>NaN</td>\n      <td>NaN</td>\n      <td>0</td>\n      <td>0</td>\n    </tr>\n    <tr>\n      <th>14</th>\n      <td>Saint Petersburg</td>\n      <td>59.9500</td>\n      <td>30.3167</td>\n      <td>Russia</td>\n      <td>RU</td>\n      <td>Sankt-Peterburg</td>\n      <td>admin</td>\n      <td>5351935.0</td>\n      <td>5351935.0</td>\n      <td>St. Petersburg Sennaya shopping center</td>\n      <td>43</td>\n      <td>St. Petersburg Sennaya shopping center</td>\n      <td>Saint Petersburg</td>\n      <td>NaN</td>\n      <td>NaN</td>\n      <td>0</td>\n      <td>0</td>\n    </tr>\n    <tr>\n      <th>15</th>\n      <td>Novosibirsk</td>\n      <td>55.0333</td>\n      <td>82.9167</td>\n      <td>Russia</td>\n      <td>RU</td>\n      <td>Novosibirskaya Oblast’</td>\n      <td>admin</td>\n      <td>1602915.0</td>\n      <td>1602915.0</td>\n      <td>Novosibirsk SEC\" Gallery Novosibirsk \"</td>\n      <td>36</td>\n      <td>Novosibirsk SEC Gallery Novosibirsk</td>\n      <td>Novosibirsk</td>\n      <td>NaN</td>\n      <td>NaN</td>\n      <td>NaN</td>\n      <td>0</td>\n    </tr>\n    <tr>\n      <th>16</th>\n      <td>Novosibirsk</td>\n      <td>55.0333</td>\n      <td>82.9167</td>\n      <td>Russia</td>\n      <td>RU</td>\n      <td>Novosibirskaya Oblast’</td>\n      <td>admin</td>\n      <td>1602915.0</td>\n      <td>1602915.0</td>\n      <td>Novosibirsk SEC\" Mega \"</td>\n      <td>37</td>\n      <td>Novosibirsk SEC Mega</td>\n      <td>Novosibirsk</td>\n      <td>NaN</td>\n      <td>NaN</td>\n      <td>NaN</td>\n      <td>0</td>\n    </tr>\n    <tr>\n      <th>17</th>\n      <td>Kazan</td>\n      <td>55.7908</td>\n      <td>49.1144</td>\n      <td>Russia</td>\n      <td>RU</td>\n      <td>Tatarstan</td>\n      <td>admin</td>\n      <td>1243500.0</td>\n      <td>1243500.0</td>\n      <td>Kazan TC \"Behetle\"</td>\n      <td>13</td>\n      <td>Kazan TC Behetle</td>\n      <td>Kazan</td>\n      <td>NaN</td>\n      <td>NaN</td>\n      <td>NaN</td>\n      <td>0</td>\n    </tr>\n    <tr>\n      <th>18</th>\n      <td>Kazan</td>\n      <td>55.7908</td>\n      <td>49.1144</td>\n      <td>Russia</td>\n      <td>RU</td>\n      <td>Tatarstan</td>\n      <td>admin</td>\n      <td>1243500.0</td>\n      <td>1243500.0</td>\n      <td>Kazan TC \"ParkHouse\" II</td>\n      <td>14</td>\n      <td>Kazan TC ParkHouse II</td>\n      <td>Kazan</td>\n      <td>NaN</td>\n      <td>NaN</td>\n      <td>NaN</td>\n      <td>0</td>\n    </tr>\n    <tr>\n      <th>19</th>\n      <td>Omsk</td>\n      <td>54.9667</td>\n      <td>73.3833</td>\n      <td>Russia</td>\n      <td>RU</td>\n      <td>Omskaya Oblast’</td>\n      <td>admin</td>\n      <td>1178391.0</td>\n      <td>1178391.0</td>\n      <td>Omsk TC\" Mega \"</td>\n      <td>38</td>\n      <td>Omsk TC Mega</td>\n      <td>Omsk</td>\n      <td>NaN</td>\n      <td>NaN</td>\n      <td>NaN</td>\n      <td>0</td>\n    </tr>\n    <tr>\n      <th>20</th>\n      <td>Samara</td>\n      <td>53.1833</td>\n      <td>50.1167</td>\n      <td>Russia</td>\n      <td>RU</td>\n      <td>Samarskaya Oblast’</td>\n      <td>admin</td>\n      <td>1169719.0</td>\n      <td>1169719.0</td>\n      <td>Samara Melody shopping center</td>\n      <td>44</td>\n      <td>Samara Melody shopping center</td>\n      <td>Samara</td>\n      <td>NaN</td>\n      <td>NaN</td>\n      <td>NaN</td>\n      <td>0</td>\n    </tr>\n    <tr>\n      <th>21</th>\n      <td>Samara</td>\n      <td>53.1833</td>\n      <td>50.1167</td>\n      <td>Russia</td>\n      <td>RU</td>\n      <td>Samarskaya Oblast’</td>\n      <td>admin</td>\n      <td>1169719.0</td>\n      <td>1169719.0</td>\n      <td>Samara ParkHouse shopping center</td>\n      <td>45</td>\n      <td>Samara ParkHouse shopping center</td>\n      <td>Samara</td>\n      <td>NaN</td>\n      <td>NaN</td>\n      <td>NaN</td>\n      <td>0</td>\n    </tr>\n    <tr>\n      <th>22</th>\n      <td>Ufa</td>\n      <td>54.7333</td>\n      <td>55.9667</td>\n      <td>Russia</td>\n      <td>RU</td>\n      <td>Bashkortostan</td>\n      <td>admin</td>\n      <td>1115560.0</td>\n      <td>1115560.0</td>\n      <td>Ufa TC\" Central \"</td>\n      <td>52</td>\n      <td>Ufa TC Central</td>\n      <td>Ufa</td>\n      <td>46.370935</td>\n      <td>6.231168</td>\n      <td>NaN</td>\n      <td>0</td>\n    </tr>\n    <tr>\n      <th>23</th>\n      <td>Ufa</td>\n      <td>54.7333</td>\n      <td>55.9667</td>\n      <td>Russia</td>\n      <td>RU</td>\n      <td>Bashkortostan</td>\n      <td>admin</td>\n      <td>1115560.0</td>\n      <td>1115560.0</td>\n      <td>Ufa TC\" Family \"2</td>\n      <td>53</td>\n      <td>Ufa TC Family 2</td>\n      <td>Ufa</td>\n      <td>NaN</td>\n      <td>NaN</td>\n      <td>NaN</td>\n      <td>0</td>\n    </tr>\n    <tr>\n      <th>24</th>\n      <td>Krasnoyarsk</td>\n      <td>56.0167</td>\n      <td>92.8667</td>\n      <td>Russia</td>\n      <td>RU</td>\n      <td>Krasnoyarskiy Kray</td>\n      <td>admin</td>\n      <td>1083865.0</td>\n      <td>1083865.0</td>\n      <td>Krasnoyarsk TC \"Vzletka Plaza\"</td>\n      <td>17</td>\n      <td>Krasnoyarsk TC Vzletka Plaza</td>\n      <td>Krasnoyarsk</td>\n      <td>NaN</td>\n      <td>NaN</td>\n      <td>NaN</td>\n      <td>0</td>\n    </tr>\n    <tr>\n      <th>25</th>\n      <td>Krasnoyarsk</td>\n      <td>56.0167</td>\n      <td>92.8667</td>\n      <td>Russia</td>\n      <td>RU</td>\n      <td>Krasnoyarskiy Kray</td>\n      <td>admin</td>\n      <td>1083865.0</td>\n      <td>1083865.0</td>\n      <td>Krasnoyarsk TC \"June\"</td>\n      <td>18</td>\n      <td>Krasnoyarsk TC June</td>\n      <td>Krasnoyarsk</td>\n      <td>NaN</td>\n      <td>NaN</td>\n      <td>NaN</td>\n      <td>0</td>\n    </tr>\n    <tr>\n      <th>26</th>\n      <td>Voronezh</td>\n      <td>51.6717</td>\n      <td>39.2106</td>\n      <td>Russia</td>\n      <td>RU</td>\n      <td>Voronezhskaya Oblast’</td>\n      <td>admin</td>\n      <td>1047549.0</td>\n      <td>1047549.0</td>\n      <td>Voronezh (Plekhanovskaya, 13)</td>\n      <td>6</td>\n      <td>Voronezh (Plekhanovskaya, 13)</td>\n      <td>Voronezh</td>\n      <td>NaN</td>\n      <td>NaN</td>\n      <td>NaN</td>\n      <td>0</td>\n    </tr>\n    <tr>\n      <th>27</th>\n      <td>Voronezh</td>\n      <td>51.6717</td>\n      <td>39.2106</td>\n      <td>Russia</td>\n      <td>RU</td>\n      <td>Voronezhskaya Oblast’</td>\n      <td>admin</td>\n      <td>1047549.0</td>\n      <td>1047549.0</td>\n      <td>Voronezh SEC \"Maksimir\"</td>\n      <td>7</td>\n      <td>Voronezh SEC Maksimir</td>\n      <td>Voronezh</td>\n      <td>51.697218</td>\n      <td>39.273621</td>\n      <td>NaN</td>\n      <td>0</td>\n    </tr>\n    <tr>\n      <th>28</th>\n      <td>Voronezh</td>\n      <td>51.6717</td>\n      <td>39.2106</td>\n      <td>Russia</td>\n      <td>RU</td>\n      <td>Voronezhskaya Oblast’</td>\n      <td>admin</td>\n      <td>1047549.0</td>\n      <td>1047549.0</td>\n      <td>Voronezh SEC City-Park \"Grad\"</td>\n      <td>8</td>\n      <td>Voronezh SEC City Park Grad</td>\n      <td>Voronezh</td>\n      <td>NaN</td>\n      <td>NaN</td>\n      <td>NaN</td>\n      <td>0</td>\n    </tr>\n    <tr>\n      <th>29</th>\n      <td>Tyumen</td>\n      <td>57.1500</td>\n      <td>65.5333</td>\n      <td>Russia</td>\n      <td>RU</td>\n      <td>Tyumenskaya Oblast’</td>\n      <td>admin</td>\n      <td>744554.0</td>\n      <td>744554.0</td>\n      <td>Tyumen SEC \"Crystal\"</td>\n      <td>49</td>\n      <td>Tyumen SEC Crystal</td>\n      <td>Tyumen</td>\n      <td>NaN</td>\n      <td>NaN</td>\n      <td>NaN</td>\n      <td>0</td>\n    </tr>\n    <tr>\n      <th>30</th>\n      <td>Tyumen</td>\n      <td>57.1500</td>\n      <td>65.5333</td>\n      <td>Russia</td>\n      <td>RU</td>\n      <td>Tyumenskaya Oblast’</td>\n      <td>admin</td>\n      <td>744554.0</td>\n      <td>744554.0</td>\n      <td>Tyumen SEC \"Goodwin\"</td>\n      <td>50</td>\n      <td>Tyumen SEC Goodwin</td>\n      <td>Tyumen</td>\n      <td>NaN</td>\n      <td>NaN</td>\n      <td>NaN</td>\n      <td>0</td>\n    </tr>\n    <tr>\n      <th>31</th>\n      <td>Tyumen</td>\n      <td>57.1500</td>\n      <td>65.5333</td>\n      <td>Russia</td>\n      <td>RU</td>\n      <td>Tyumenskaya Oblast’</td>\n      <td>admin</td>\n      <td>744554.0</td>\n      <td>744554.0</td>\n      <td>Tyumen TC \"Green Coast \"</td>\n      <td>51</td>\n      <td>Tyumen TC Green Coast</td>\n      <td>Tyumen</td>\n      <td>NaN</td>\n      <td>NaN</td>\n      <td>NaN</td>\n      <td>0</td>\n    </tr>\n    <tr>\n      <th>32</th>\n      <td>Yaroslavl</td>\n      <td>57.6167</td>\n      <td>39.8500</td>\n      <td>Russia</td>\n      <td>RU</td>\n      <td>Yaroslavskaya Oblast’</td>\n      <td>admin</td>\n      <td>608079.0</td>\n      <td>608079.0</td>\n      <td>Yaroslavl TC\" Altair \"</td>\n      <td>59</td>\n      <td>Yaroslavl TC Altair</td>\n      <td>Yaroslavl</td>\n      <td>57.697810</td>\n      <td>39.758592</td>\n      <td>NaN</td>\n      <td>0</td>\n    </tr>\n    <tr>\n      <th>33</th>\n      <td>Tomsk</td>\n      <td>56.4886</td>\n      <td>84.9522</td>\n      <td>Russia</td>\n      <td>RU</td>\n      <td>Tomskaya Oblast’</td>\n      <td>admin</td>\n      <td>572740.0</td>\n      <td>572740.0</td>\n      <td>Tomsk SEC \"Emerald City\"</td>\n      <td>48</td>\n      <td>Tomsk SEC Emerald City</td>\n      <td>Tomsk</td>\n      <td>NaN</td>\n      <td>NaN</td>\n      <td>NaN</td>\n      <td>0</td>\n    </tr>\n    <tr>\n      <th>34</th>\n      <td>Balashikha</td>\n      <td>55.8000</td>\n      <td>37.9500</td>\n      <td>Russia</td>\n      <td>RU</td>\n      <td>Moskovskaya Oblast’</td>\n      <td>NaN</td>\n      <td>450771.0</td>\n      <td>450771.0</td>\n      <td>Balashikha TC \"Oktyabr-Kinomir\"</td>\n      <td>3</td>\n      <td>Balashikha TC Oktyabr Kinomir</td>\n      <td>Balashikha</td>\n      <td>NaN</td>\n      <td>NaN</td>\n      <td>NaN</td>\n      <td>0</td>\n    </tr>\n    <tr>\n      <th>35</th>\n      <td>Kursk</td>\n      <td>51.7372</td>\n      <td>36.1872</td>\n      <td>Russia</td>\n      <td>RU</td>\n      <td>Kurskaya Oblast’</td>\n      <td>admin</td>\n      <td>449063.0</td>\n      <td>449063.0</td>\n      <td>Kursk TC \" Pushkinskiy \"</td>\n      <td>19</td>\n      <td>Kursk TC  Pushkinskiy</td>\n      <td>Kursk</td>\n      <td>NaN</td>\n      <td>NaN</td>\n      <td>NaN</td>\n      <td>0</td>\n    </tr>\n    <tr>\n      <th>36</th>\n      <td>Surgut</td>\n      <td>61.2500</td>\n      <td>73.4333</td>\n      <td>Russia</td>\n      <td>RU</td>\n      <td>Khanty-Mansiyskiy Avtonomnyy Okrug-Yugra</td>\n      <td>NaN</td>\n      <td>360590.0</td>\n      <td>360590.0</td>\n      <td>Surgut SEC \"City Mall\"</td>\n      <td>47</td>\n      <td>Surgut SEC City Mall</td>\n      <td>Surgut</td>\n      <td>NaN</td>\n      <td>NaN</td>\n      <td>NaN</td>\n      <td>0</td>\n    </tr>\n    <tr>\n      <th>37</th>\n      <td>Kaluga</td>\n      <td>54.5333</td>\n      <td>36.2667</td>\n      <td>Russia</td>\n      <td>RU</td>\n      <td>Kaluzhskaya Oblast’</td>\n      <td>admin</td>\n      <td>341892.0</td>\n      <td>341892.0</td>\n      <td>Kaluga TC \"XXI century\"</td>\n      <td>15</td>\n      <td>Kaluga TC XXI century</td>\n      <td>Kaluga</td>\n      <td>NaN</td>\n      <td>NaN</td>\n      <td>NaN</td>\n      <td>0</td>\n    </tr>\n    <tr>\n      <th>38</th>\n      <td>Vologda</td>\n      <td>59.2167</td>\n      <td>39.9000</td>\n      <td>Russia</td>\n      <td>RU</td>\n      <td>Vologodskaya Oblast’</td>\n      <td>admin</td>\n      <td>313012.0</td>\n      <td>313012.0</td>\n      <td>Vologda SEC \"Marmelad\"</td>\n      <td>5</td>\n      <td>Vologda SEC Marmelad</td>\n      <td>Vologda</td>\n      <td>NaN</td>\n      <td>NaN</td>\n      <td>NaN</td>\n      <td>0</td>\n    </tr>\n    <tr>\n      <th>39</th>\n      <td>Yakutsk</td>\n      <td>62.0272</td>\n      <td>129.7319</td>\n      <td>Russia</td>\n      <td>RU</td>\n      <td>Sakha (Yakutiya)</td>\n      <td>admin</td>\n      <td>307911.0</td>\n      <td>307911.0</td>\n      <td>! Yakutsk Ordzhonikidze, 56 francs</td>\n      <td>0</td>\n      <td>Yakutsk Ordzhonikidze, 56 francs</td>\n      <td>Yakutsk</td>\n      <td>NaN</td>\n      <td>NaN</td>\n      <td>NaN</td>\n      <td>0</td>\n    </tr>\n    <tr>\n      <th>40</th>\n      <td>Yakutsk</td>\n      <td>62.0272</td>\n      <td>129.7319</td>\n      <td>Russia</td>\n      <td>RU</td>\n      <td>Sakha (Yakutiya)</td>\n      <td>admin</td>\n      <td>307911.0</td>\n      <td>307911.0</td>\n      <td>! Yakutsk TC \"Central\" fran</td>\n      <td>1</td>\n      <td>Yakutsk TC Central fran</td>\n      <td>Yakutsk</td>\n      <td>NaN</td>\n      <td>NaN</td>\n      <td>NaN</td>\n      <td>0</td>\n    </tr>\n    <tr>\n      <th>41</th>\n      <td>Yakutsk</td>\n      <td>62.0272</td>\n      <td>129.7319</td>\n      <td>Russia</td>\n      <td>RU</td>\n      <td>Sakha (Yakutiya)</td>\n      <td>admin</td>\n      <td>307911.0</td>\n      <td>307911.0</td>\n      <td>Yakutsk Ordzhonikidze, 56</td>\n      <td>57</td>\n      <td>Yakutsk Ordzhonikidze, 56</td>\n      <td>Yakutsk</td>\n      <td>NaN</td>\n      <td>NaN</td>\n      <td>NaN</td>\n      <td>0</td>\n    </tr>\n    <tr>\n      <th>42</th>\n      <td>Yakutsk</td>\n      <td>62.0272</td>\n      <td>129.7319</td>\n      <td>Russia</td>\n      <td>RU</td>\n      <td>Sakha (Yakutiya)</td>\n      <td>admin</td>\n      <td>307911.0</td>\n      <td>307911.0</td>\n      <td>Yakutsk TC\" Central \"</td>\n      <td>58</td>\n      <td>Yakutsk TC Central</td>\n      <td>Yakutsk</td>\n      <td>62.091463</td>\n      <td>129.769696</td>\n      <td>NaN</td>\n      <td>0</td>\n    </tr>\n    <tr>\n      <th>43</th>\n      <td>Khimki</td>\n      <td>55.8892</td>\n      <td>37.4450</td>\n      <td>Russia</td>\n      <td>RU</td>\n      <td>Moskva</td>\n      <td>NaN</td>\n      <td>244668.0</td>\n      <td>244668.0</td>\n      <td>Khimki TC\" Mega \"</td>\n      <td>54</td>\n      <td>Khimki TC Mega</td>\n      <td>Khimki</td>\n      <td>55.911434</td>\n      <td>37.395597</td>\n      <td>NaN</td>\n      <td>0</td>\n    </tr>\n    <tr>\n      <th>44</th>\n      <td>Mytishchi</td>\n      <td>55.9167</td>\n      <td>37.7333</td>\n      <td>Russia</td>\n      <td>RU</td>\n      <td>Moskovskaya Oblast’</td>\n      <td>NaN</td>\n      <td>205397.0</td>\n      <td>205397.0</td>\n      <td>Mytishchi SEC\" XL-3 \"</td>\n      <td>33</td>\n      <td>Mytishchi SEC XL 3</td>\n      <td>Mytishchi</td>\n      <td>55.891644</td>\n      <td>37.745006</td>\n      <td>NaN</td>\n      <td>0</td>\n    </tr>\n    <tr>\n      <th>45</th>\n      <td>Kolomna</td>\n      <td>55.0833</td>\n      <td>38.7833</td>\n      <td>Russia</td>\n      <td>RU</td>\n      <td>Moskovskaya Oblast’</td>\n      <td>NaN</td>\n      <td>144125.0</td>\n      <td>144125.0</td>\n      <td>Kolomna TC \"Rio\"</td>\n      <td>16</td>\n      <td>Kolomna TC Rio</td>\n      <td>Kolomna</td>\n      <td>55.084125</td>\n      <td>38.800162</td>\n      <td>NaN</td>\n      <td>0</td>\n    </tr>\n    <tr>\n      <th>46</th>\n      <td>Chekhov</td>\n      <td>55.1481</td>\n      <td>37.4769</td>\n      <td>Russia</td>\n      <td>RU</td>\n      <td>Moskovskaya Oblast’</td>\n      <td>NaN</td>\n      <td>70548.0</td>\n      <td>70548.0</td>\n      <td>Chekhov TC\" Karnaval \"</td>\n      <td>56</td>\n      <td>Chekhov TC Karnaval</td>\n      <td>Chekhov</td>\n      <td>55.153342</td>\n      <td>37.459417</td>\n      <td>NaN</td>\n      <td>0</td>\n    </tr>\n  </tbody>\n</table>\n</div>"
     },
     "metadata": {}
    }
   ],
   "execution_count": 77
  },
  {
   "cell_type": "code",
   "source": "",
   "metadata": {
    "tags": [],
    "cell_id": "00047-17f9b457-d61c-4351-b099-ab3f36ef0002",
    "deepnote_cell_type": "code"
   },
   "outputs": [],
   "execution_count": null
  },
  {
   "cell_type": "markdown",
   "source": "<a style='text-decoration:none;line-height:16px;display:flex;color:#5B5B62;padding:10px;justify-content:end;' href='https://deepnote.com?utm_source=created-in-deepnote-cell&projectId=796ba814-f632-4502-b0d7-7e2f8f9e546d' target=\"_blank\">\n<img alt='Created in deepnote.com' style='display:inline;max-height:16px;margin:0px;margin-right:7.5px;' src='data:image/svg+xml;base64,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' > </img>\nCreated in <span style='font-weight:600;margin-left:4px;'>Deepnote</span></a>",
   "metadata": {
    "tags": [],
    "created_in_deepnote_cell": true,
    "deepnote_cell_type": "markdown"
   }
  }
 ],
 "nbformat": 4,
 "nbformat_minor": 2,
 "metadata": {
  "orig_nbformat": 2,
  "deepnote": {
   "is_reactive": false
  },
  "deepnote_notebook_id": "935a91b4-466a-4925-a660-65668442d829",
  "deepnote_execution_queue": []
 }
}