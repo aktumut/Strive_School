{
  "cells": [
    {
      "cell_type": "markdown",
      "source": "# Imports\n\nThe first thing we'll need to do is load in the libraries we'll be using. ",
      "metadata": {
        "papermill": {
          "duration": 0.005587,
          "end_time": "2020-10-01T00:26:06.206883",
          "exception": false,
          "start_time": "2020-10-01T00:26:06.201296",
          "status": "completed"
        },
        "tags": [],
        "id": "ftpukTyOAL0L",
        "cell_id": "00000-2b4ce8f7-fcd5-4a6a-ae2b-6d39fea13de9",
        "deepnote_cell_type": "markdown"
      }
    },
    {
      "cell_type": "code",
      "metadata": {
        "execution": {
          "iopub.execute_input": "2020-10-01T00:26:06.225254Z",
          "iopub.status.busy": "2020-10-01T00:26:06.224597Z",
          "iopub.status.idle": "2020-10-01T00:26:07.257012Z",
          "shell.execute_reply": "2020-10-01T00:26:07.256272Z"
        },
        "papermill": {
          "duration": 1.044,
          "end_time": "2020-10-01T00:26:07.257136",
          "exception": false,
          "start_time": "2020-10-01T00:26:06.213136",
          "status": "completed"
        },
        "tags": [],
        "colab": {
          "base_uri": "https://localhost:8080/"
        },
        "id": "09_5i5V9AL0U",
        "outputId": "197c6117-561d-413b-a179-183669628b14",
        "cell_id": "00001-36924422-0aa4-4702-a4d1-4d57126d4e6e",
        "deepnote_to_be_reexecuted": false,
        "source_hash": "24d43021",
        "execution_start": 1620215495141,
        "execution_millis": 1663,
        "deepnote_cell_type": "code"
      },
      "source": "import numpy as np\nimport pandas as pd\nimport seaborn as sb\nimport matplotlib.pyplot as plt\n\nimport sklearn\nfrom sklearn.preprocessing import MinMaxScaler\nfrom sklearn.preprocessing import MaxAbsScaler\nfrom sklearn.preprocessing import StandardScaler\nfrom sklearn.preprocessing import RobustScaler\nfrom sklearn.preprocessing import Normalizer\nfrom sklearn.preprocessing import QuantileTransformer\nfrom sklearn.preprocessing import PowerTransformer\n\n#sb.set_theme(style=\"darkgrid\")\n#np.random.seed(0) # set seed for reproducibility\n\nprint(\"Numpy:\", np.__version__)\nprint(\"Pandas:\", pd.__version__)\nprint(\"Seaborn:\", sb.__version__)",
      "execution_count": 1,
      "outputs": [
        {
          "name": "stdout",
          "text": "Numpy: 1.19.5\nPandas: 1.2.4\nSeaborn: 0.11.1\n",
          "output_type": "stream"
        }
      ]
    },
    {
      "cell_type": "markdown",
      "source": "# Generate data",
      "metadata": {
        "id": "UWszDzeQAL0V",
        "cell_id": "00002-4b4b6df3-3e28-4303-8662-93a58cece9bb",
        "deepnote_cell_type": "markdown"
      }
    },
    {
      "cell_type": "code",
      "metadata": {
        "id": "GsB1J6MMAL0V",
        "cell_id": "00003-2c61d2a2-a0d2-4aa7-a4a0-5b51852adf06",
        "deepnote_to_be_reexecuted": false,
        "source_hash": "d7bc1f21",
        "execution_start": 1620215497127,
        "execution_millis": 12,
        "deepnote_cell_type": "code"
      },
      "source": "N_SAMPLES = 10000\nBINS      = 30\nnpr       = np.random.RandomState(304)",
      "execution_count": 2,
      "outputs": []
    },
    {
      "cell_type": "code",
      "metadata": {
        "deletable": false,
        "nbgrader": {
          "cell_type": "code",
          "checksum": "f7762def48ac13f9e9157580b2d78e26",
          "grade": false,
          "grade_id": "cell-73b2184af646ab0a",
          "locked": false,
          "schema_version": 3,
          "solution": true,
          "task": false
        },
        "colab": {
          "base_uri": "https://localhost:8080/",
          "height": 195
        },
        "id": "PpEHa-Y2AL0W",
        "outputId": "b66ab64d-4097-4f31-9e4f-20198191f560",
        "cell_id": "00004-55210316-0f72-45f4-b41a-c00e30ced238",
        "deepnote_to_be_reexecuted": false,
        "source_hash": "45459f94",
        "execution_start": 1620215777035,
        "execution_millis": 55,
        "deepnote_cell_type": "code"
      },
      "source": "#2 points \n# create a dataframe that contains a columns for all the next normalization and scaling methods\n# Exponential\n# Lognormal\n# Chi-sqaured\n# Weibull\n# Gaussian\n# Uniform\n# Bimodal\n\n\n# YOUR CODE HERE\ndf=pd.DataFrame()\ndf[\"Exponential\"]=np.random.exponential(scale=1,size=(10000,))\ndf[\"Lognormal\"]=np.random.lognormal(size=(10000,))\ndf[\"Chi-squared\"]= np.random.chisquare(1,size=(10000,))\ndf[\"Weibull\"]= np.random.weibull(2,size=(10000,))\ndf[\"Gaussian\"]= np.random.normal(50,scale=6.0,size=(10000,))\ndf[\"Uniform\"]= np.random.uniform(size=(10000,))\ndf[\"Bimodal\"]= np.random.binomial(10,.5,size=(10000,))\ndf.head()",
      "execution_count": 29,
      "outputs": [
        {
          "output_type": "execute_result",
          "execution_count": 29,
          "data": {
            "application/vnd.deepnote.dataframe.v2+json": {
              "row_count": 5,
              "column_count": 7,
              "columns": [
                {
                  "name": "Exponential",
                  "dtype": "float64",
                  "stats": {
                    "unique_count": 5,
                    "nan_count": 0,
                    "min": "0.16906328909798846",
                    "max": "1.9679929920475516",
                    "histogram": [
                      {
                        "bin_start": 0.16906328909798846,
                        "bin_end": 0.3489562593929448,
                        "count": 2
                      },
                      {
                        "bin_start": 0.3489562593929448,
                        "bin_end": 0.528849229687901,
                        "count": 0
                      },
                      {
                        "bin_start": 0.528849229687901,
                        "bin_end": 0.7087421999828574,
                        "count": 0
                      },
                      {
                        "bin_start": 0.7087421999828574,
                        "bin_end": 0.8886351702778137,
                        "count": 0
                      },
                      {
                        "bin_start": 0.8886351702778137,
                        "bin_end": 1.06852814057277,
                        "count": 0
                      },
                      {
                        "bin_start": 1.06852814057277,
                        "bin_end": 1.2484211108677263,
                        "count": 2
                      },
                      {
                        "bin_start": 1.2484211108677263,
                        "bin_end": 1.4283140811626827,
                        "count": 0
                      },
                      {
                        "bin_start": 1.4283140811626827,
                        "bin_end": 1.608207051457639,
                        "count": 0
                      },
                      {
                        "bin_start": 1.608207051457639,
                        "bin_end": 1.7881000217525953,
                        "count": 0
                      },
                      {
                        "bin_start": 1.7881000217525953,
                        "bin_end": 1.9679929920475516,
                        "count": 1
                      }
                    ]
                  }
                },
                {
                  "name": "Lognormal",
                  "dtype": "float64",
                  "stats": {
                    "unique_count": 5,
                    "nan_count": 0,
                    "min": "1.3483977720569817",
                    "max": "2.0813408705856453",
                    "histogram": [
                      {
                        "bin_start": 1.3483977720569817,
                        "bin_end": 1.4216920819098482,
                        "count": 1
                      },
                      {
                        "bin_start": 1.4216920819098482,
                        "bin_end": 1.4949863917627144,
                        "count": 0
                      },
                      {
                        "bin_start": 1.4949863917627144,
                        "bin_end": 1.5682807016155809,
                        "count": 0
                      },
                      {
                        "bin_start": 1.5682807016155809,
                        "bin_end": 1.641575011468447,
                        "count": 1
                      },
                      {
                        "bin_start": 1.641575011468447,
                        "bin_end": 1.7148693213213135,
                        "count": 0
                      },
                      {
                        "bin_start": 1.7148693213213135,
                        "bin_end": 1.78816363117418,
                        "count": 1
                      },
                      {
                        "bin_start": 1.78816363117418,
                        "bin_end": 1.8614579410270462,
                        "count": 0
                      },
                      {
                        "bin_start": 1.8614579410270462,
                        "bin_end": 1.9347522508799126,
                        "count": 0
                      },
                      {
                        "bin_start": 1.9347522508799126,
                        "bin_end": 2.008046560732779,
                        "count": 1
                      },
                      {
                        "bin_start": 2.008046560732779,
                        "bin_end": 2.0813408705856453,
                        "count": 1
                      }
                    ]
                  }
                },
                {
                  "name": "Chi-squared",
                  "dtype": "float64",
                  "stats": {
                    "unique_count": 5,
                    "nan_count": 0,
                    "min": "0.17967284268887007",
                    "max": "2.56096494910295",
                    "histogram": [
                      {
                        "bin_start": 0.17967284268887007,
                        "bin_end": 0.41780205333027803,
                        "count": 1
                      },
                      {
                        "bin_start": 0.41780205333027803,
                        "bin_end": 0.655931263971686,
                        "count": 1
                      },
                      {
                        "bin_start": 0.655931263971686,
                        "bin_end": 0.894060474613094,
                        "count": 0
                      },
                      {
                        "bin_start": 0.894060474613094,
                        "bin_end": 1.132189685254502,
                        "count": 1
                      },
                      {
                        "bin_start": 1.132189685254502,
                        "bin_end": 1.3703188958959098,
                        "count": 0
                      },
                      {
                        "bin_start": 1.3703188958959098,
                        "bin_end": 1.608448106537318,
                        "count": 0
                      },
                      {
                        "bin_start": 1.608448106537318,
                        "bin_end": 1.8465773171787259,
                        "count": 0
                      },
                      {
                        "bin_start": 1.8465773171787259,
                        "bin_end": 2.084706527820134,
                        "count": 1
                      },
                      {
                        "bin_start": 2.084706527820134,
                        "bin_end": 2.322835738461542,
                        "count": 0
                      },
                      {
                        "bin_start": 2.322835738461542,
                        "bin_end": 2.56096494910295,
                        "count": 1
                      }
                    ]
                  }
                },
                {
                  "name": "Weibull",
                  "dtype": "float64",
                  "stats": {
                    "unique_count": 5,
                    "nan_count": 0,
                    "min": "0.28122309558317155",
                    "max": "0.9533771300933196",
                    "histogram": [
                      {
                        "bin_start": 0.28122309558317155,
                        "bin_end": 0.34843849903418633,
                        "count": 1
                      },
                      {
                        "bin_start": 0.34843849903418633,
                        "bin_end": 0.4156539024852012,
                        "count": 0
                      },
                      {
                        "bin_start": 0.4156539024852012,
                        "bin_end": 0.48286930593621596,
                        "count": 0
                      },
                      {
                        "bin_start": 0.48286930593621596,
                        "bin_end": 0.5500847093872308,
                        "count": 0
                      },
                      {
                        "bin_start": 0.5500847093872308,
                        "bin_end": 0.6173001128382456,
                        "count": 0
                      },
                      {
                        "bin_start": 0.6173001128382456,
                        "bin_end": 0.6845155162892604,
                        "count": 0
                      },
                      {
                        "bin_start": 0.6845155162892604,
                        "bin_end": 0.7517309197402752,
                        "count": 1
                      },
                      {
                        "bin_start": 0.7517309197402752,
                        "bin_end": 0.8189463231912899,
                        "count": 0
                      },
                      {
                        "bin_start": 0.8189463231912899,
                        "bin_end": 0.8861617266423047,
                        "count": 1
                      },
                      {
                        "bin_start": 0.8861617266423047,
                        "bin_end": 0.9533771300933196,
                        "count": 2
                      }
                    ]
                  }
                },
                {
                  "name": "Gaussian",
                  "dtype": "float64",
                  "stats": {
                    "unique_count": 5,
                    "nan_count": 0,
                    "min": "37.58208826964517",
                    "max": "48.41202707278248",
                    "histogram": [
                      {
                        "bin_start": 37.58208826964517,
                        "bin_end": 38.6650821499589,
                        "count": 1
                      },
                      {
                        "bin_start": 38.6650821499589,
                        "bin_end": 39.74807603027263,
                        "count": 1
                      },
                      {
                        "bin_start": 39.74807603027263,
                        "bin_end": 40.831069910586365,
                        "count": 0
                      },
                      {
                        "bin_start": 40.831069910586365,
                        "bin_end": 41.914063790900094,
                        "count": 0
                      },
                      {
                        "bin_start": 41.914063790900094,
                        "bin_end": 42.997057671213824,
                        "count": 0
                      },
                      {
                        "bin_start": 42.997057671213824,
                        "bin_end": 44.08005155152755,
                        "count": 1
                      },
                      {
                        "bin_start": 44.08005155152755,
                        "bin_end": 45.16304543184128,
                        "count": 1
                      },
                      {
                        "bin_start": 45.16304543184128,
                        "bin_end": 46.24603931215502,
                        "count": 0
                      },
                      {
                        "bin_start": 46.24603931215502,
                        "bin_end": 47.32903319246875,
                        "count": 0
                      },
                      {
                        "bin_start": 47.32903319246875,
                        "bin_end": 48.41202707278248,
                        "count": 1
                      }
                    ]
                  }
                },
                {
                  "name": "Uniform",
                  "dtype": "float64",
                  "stats": {
                    "unique_count": 5,
                    "nan_count": 0,
                    "min": "0.01886393999465874",
                    "max": "0.8150136264497602",
                    "histogram": [
                      {
                        "bin_start": 0.01886393999465874,
                        "bin_end": 0.09847890864016888,
                        "count": 1
                      },
                      {
                        "bin_start": 0.09847890864016888,
                        "bin_end": 0.17809387728567902,
                        "count": 0
                      },
                      {
                        "bin_start": 0.17809387728567902,
                        "bin_end": 0.25770884593118915,
                        "count": 0
                      },
                      {
                        "bin_start": 0.25770884593118915,
                        "bin_end": 0.3373238145766993,
                        "count": 1
                      },
                      {
                        "bin_start": 0.3373238145766993,
                        "bin_end": 0.41693878322220945,
                        "count": 1
                      },
                      {
                        "bin_start": 0.41693878322220945,
                        "bin_end": 0.49655375186771955,
                        "count": 0
                      },
                      {
                        "bin_start": 0.49655375186771955,
                        "bin_end": 0.5761687205132298,
                        "count": 0
                      },
                      {
                        "bin_start": 0.5761687205132298,
                        "bin_end": 0.6557836891587399,
                        "count": 1
                      },
                      {
                        "bin_start": 0.6557836891587399,
                        "bin_end": 0.73539865780425,
                        "count": 0
                      },
                      {
                        "bin_start": 0.73539865780425,
                        "bin_end": 0.8150136264497602,
                        "count": 1
                      }
                    ]
                  }
                },
                {
                  "name": "Bimodal",
                  "dtype": "int64",
                  "stats": {
                    "unique_count": 5,
                    "nan_count": 0,
                    "min": "3",
                    "max": "8",
                    "histogram": [
                      {
                        "bin_start": 3,
                        "bin_end": 3.5,
                        "count": 1
                      },
                      {
                        "bin_start": 3.5,
                        "bin_end": 4,
                        "count": 0
                      },
                      {
                        "bin_start": 4,
                        "bin_end": 4.5,
                        "count": 0
                      },
                      {
                        "bin_start": 4.5,
                        "bin_end": 5,
                        "count": 0
                      },
                      {
                        "bin_start": 5,
                        "bin_end": 5.5,
                        "count": 1
                      },
                      {
                        "bin_start": 5.5,
                        "bin_end": 6,
                        "count": 0
                      },
                      {
                        "bin_start": 6,
                        "bin_end": 6.5,
                        "count": 1
                      },
                      {
                        "bin_start": 6.5,
                        "bin_end": 7,
                        "count": 0
                      },
                      {
                        "bin_start": 7,
                        "bin_end": 7.5,
                        "count": 1
                      },
                      {
                        "bin_start": 7.5,
                        "bin_end": 8,
                        "count": 1
                      }
                    ]
                  }
                },
                {
                  "name": "_deepnote_index_column",
                  "dtype": "int64"
                }
              ],
              "rows_top": [
                {
                  "Exponential": 0.23805028887141422,
                  "Lognormal": 1.7200774881248848,
                  "Chi-squared": 0.985402337304255,
                  "Weibull": 0.749675389157093,
                  "Gaussian": 43.52920071908902,
                  "Uniform": 0.01886393999465874,
                  "Bimodal": 3,
                  "_deepnote_index_column": 0
                },
                {
                  "Exponential": 1.150251689067722,
                  "Lognormal": 1.3483977720569817,
                  "Chi-squared": 1.9204592902774698,
                  "Weibull": 0.8310407596143248,
                  "Gaussian": 44.43984822979498,
                  "Uniform": 0.5909168926529488,
                  "Bimodal": 5,
                  "_deepnote_index_column": 1
                },
                {
                  "Exponential": 1.9679929920475516,
                  "Lognormal": 1.6052732662774734,
                  "Chi-squared": 0.17967284268887007,
                  "Weibull": 0.28122309558317155,
                  "Gaussian": 39.01351564786239,
                  "Uniform": 0.8150136264497602,
                  "Bimodal": 6,
                  "_deepnote_index_column": 2
                },
                {
                  "Exponential": 1.1064999368261295,
                  "Lognormal": 1.9720326482478807,
                  "Chi-squared": 2.56096494910295,
                  "Weibull": 0.9495150769987885,
                  "Gaussian": 48.41202707278248,
                  "Uniform": 0.39262984608016205,
                  "Bimodal": 7,
                  "_deepnote_index_column": 3
                },
                {
                  "Exponential": 0.16906328909798846,
                  "Lognormal": 2.0813408705856453,
                  "Chi-squared": 0.4391832960674699,
                  "Weibull": 0.9533771300933196,
                  "Gaussian": 37.58208826964517,
                  "Uniform": 0.29622684901260155,
                  "Bimodal": 8,
                  "_deepnote_index_column": 4
                }
              ],
              "rows_bottom": null
            },
            "text/plain": "   Exponential  Lognormal  Chi-squared   Weibull   Gaussian   Uniform  Bimodal\n0     0.238050   1.720077     0.985402  0.749675  43.529201  0.018864        3\n1     1.150252   1.348398     1.920459  0.831041  44.439848  0.590917        5\n2     1.967993   1.605273     0.179673  0.281223  39.013516  0.815014        6\n3     1.106500   1.972033     2.560965  0.949515  48.412027  0.392630        7\n4     0.169063   2.081341     0.439183  0.953377  37.582088  0.296227        8",
            "text/html": "<div>\n<style scoped>\n    .dataframe tbody tr th:only-of-type {\n        vertical-align: middle;\n    }\n\n    .dataframe tbody tr th {\n        vertical-align: top;\n    }\n\n    .dataframe thead th {\n        text-align: right;\n    }\n</style>\n<table border=\"1\" class=\"dataframe\">\n  <thead>\n    <tr style=\"text-align: right;\">\n      <th></th>\n      <th>Exponential</th>\n      <th>Lognormal</th>\n      <th>Chi-squared</th>\n      <th>Weibull</th>\n      <th>Gaussian</th>\n      <th>Uniform</th>\n      <th>Bimodal</th>\n    </tr>\n  </thead>\n  <tbody>\n    <tr>\n      <th>0</th>\n      <td>0.238050</td>\n      <td>1.720077</td>\n      <td>0.985402</td>\n      <td>0.749675</td>\n      <td>43.529201</td>\n      <td>0.018864</td>\n      <td>3</td>\n    </tr>\n    <tr>\n      <th>1</th>\n      <td>1.150252</td>\n      <td>1.348398</td>\n      <td>1.920459</td>\n      <td>0.831041</td>\n      <td>44.439848</td>\n      <td>0.590917</td>\n      <td>5</td>\n    </tr>\n    <tr>\n      <th>2</th>\n      <td>1.967993</td>\n      <td>1.605273</td>\n      <td>0.179673</td>\n      <td>0.281223</td>\n      <td>39.013516</td>\n      <td>0.815014</td>\n      <td>6</td>\n    </tr>\n    <tr>\n      <th>3</th>\n      <td>1.106500</td>\n      <td>1.972033</td>\n      <td>2.560965</td>\n      <td>0.949515</td>\n      <td>48.412027</td>\n      <td>0.392630</td>\n      <td>7</td>\n    </tr>\n    <tr>\n      <th>4</th>\n      <td>0.169063</td>\n      <td>2.081341</td>\n      <td>0.439183</td>\n      <td>0.953377</td>\n      <td>37.582088</td>\n      <td>0.296227</td>\n      <td>8</td>\n    </tr>\n  </tbody>\n</table>\n</div>"
          },
          "metadata": {}
        }
      ]
    },
    {
      "cell_type": "code",
      "metadata": {
        "deletable": false,
        "editable": false,
        "nbgrader": {
          "cell_type": "code",
          "checksum": "e7727a8685397b2012859a29d30fb40f",
          "grade": true,
          "grade_id": "cell-ae7968d6618817d8",
          "locked": true,
          "points": 2,
          "schema_version": 3,
          "solution": false,
          "task": false
        },
        "id": "xJ97DLANAL0W",
        "cell_id": "00005-9d1b849c-8534-440b-9075-3f86c1b5abdb",
        "deepnote_to_be_reexecuted": false,
        "source_hash": "27c01c7",
        "execution_start": 1620215838939,
        "execution_millis": 1,
        "deepnote_cell_type": "code"
      },
      "source": "assert df[\"Exponential\"].shape[0] == 10000\nassert df[\"Lognormal\"].shape[0] == 10000\nassert df[\"Chi-squared\"].shape[0] == 10000\nassert df[\"Weibull\"].shape[0] == 10000\nassert df[\"Gaussian\"].shape[0] == 10000\nassert df[\"Uniform\"].shape[0] == 10000\nassert df[\"Bimodal\"].shape[0] == 10000\nassert df.shape == (10000, 7)",
      "execution_count": 44,
      "outputs": []
    },
    {
      "cell_type": "code",
      "source": "print(df[\"Exponential\"].min(),\ndf[\"Lognormal\"].min(),\ndf[\"Chi-squared\"].min(),\ndf[\"Weibull\"].min(),\ndf[\"Gaussian\"].min(),\ndf[\"Uniform\"].min(),\ndf[\"Bimodal\"].min())",
      "metadata": {
        "tags": [],
        "cell_id": "00006-1465c23c-000a-48aa-8c1d-641e0616a72a",
        "deepnote_to_be_reexecuted": false,
        "source_hash": "4a0c1ef8",
        "execution_start": 1620215931450,
        "execution_millis": 16,
        "deepnote_cell_type": "code"
      },
      "outputs": [
        {
          "name": "stdout",
          "text": "0.00012151277090812241 0.029928791224193663 1.9238652928221637e-08 0.010198288904579383 28.838316605557374 0.00012243596496186449 0\n",
          "output_type": "stream"
        }
      ],
      "execution_count": 47
    },
    {
      "cell_type": "code",
      "metadata": {
        "colab": {
          "base_uri": "https://localhost:8080/",
          "height": 342
        },
        "id": "tHmXufpUAL0X",
        "outputId": "d45ae8a5-7738-41c7-8bca-d7bd86c37368",
        "cell_id": "00006-012ab4d0-2e13-4e55-aeec-e55776a47e30",
        "deepnote_to_be_reexecuted": false,
        "source_hash": "fb1d001d",
        "execution_start": 1620215778526,
        "execution_millis": 1826,
        "deepnote_cell_type": "code"
      },
      "source": "df.hist(bins=BINS, layout=(3, 4), figsize=(16,8));",
      "execution_count": 31,
      "outputs": [
        {
          "data": {
            "text/plain": "<Figure size 1152x576 with 12 Axes>",
            "image/png": "[encoded data removed]"
          },
          "metadata": {
            "needs_background": "light",
            "image/png": {
              "width": 939,
              "height": 325
            }
          },
          "output_type": "display_data"
        }
      ]
    },
    {
      "cell_type": "markdown",
      "source": "# Scaling vs. Normalization: What's the difference?\n\nOne of the reasons that it's easy to get confused between scaling and normalization is because the terms are sometimes used interchangeably and, to make it even more confusing, they are very similar! In both cases, you're transforming the values of numeric variables so that the transformed data points have specific helpful properties. The difference is that:\n- in **scaling**, you're changing the *range* of your data, while \n- in **normalization**, you're changing the *shape of the distribution* of your data. \n\nLet's talk a little more in-depth about each of these options. \n\n# Scaling\n\nThis means that you're transforming your data so that it fits within a specific scale, like 0-100 or 0-1.  You want to scale data when you're using methods based on measures of how far apart data points are, like [support vector machines (SVM)](https://en.wikipedia.org/wiki/Support_vector_machine) or [k-nearest neighbors (KNN)](https://en.wikipedia.org/wiki/K-nearest_neighbors_algorithm). With these algorithms, a change of \"1\" in any numeric feature is given the same importance. \n\nFor example, you might be looking at the prices of some products in both Yen and US Dollars. One US Dollar is worth about 100 Yen, but if you don't scale your prices, methods like SVM or KNN will consider a difference in price of 1 Yen as important as a difference of 1 US Dollar! This clearly doesn't fit with our intuitions of the world. With currency, you can convert between currencies. But what about if you're looking at something like height and weight? It's not entirely clear how many pounds should equal one inch (or how many kilograms should equal one meter).\n\nBy scaling your variables, you can help compare different variables on equal footing. To help solidify what scaling looks like, let's look at a made-up example.",
      "metadata": {
        "papermill": {
          "duration": 0.005705,
          "end_time": "2020-10-01T00:26:07.269087",
          "exception": false,
          "start_time": "2020-10-01T00:26:07.263382",
          "status": "completed"
        },
        "tags": [],
        "id": "mfVFuy9SAL0X",
        "cell_id": "00007-dbcfc867-c7f2-436c-b16d-7cfe1478ce26",
        "deepnote_cell_type": "markdown"
      }
    },
    {
      "cell_type": "code",
      "metadata": {
        "deletable": false,
        "nbgrader": {
          "cell_type": "code",
          "checksum": "b6d4ac967495f1994111d364cdc5392c",
          "grade": false,
          "grade_id": "cell-7b06b3bfbc458f9c",
          "locked": false,
          "schema_version": 3,
          "solution": true,
          "task": false
        },
        "colab": {
          "base_uri": "https://localhost:8080/",
          "height": 281
        },
        "id": "R5T5wyM-AL0Z",
        "outputId": "b3935689-7f80-4613-a6a1-158317afc34e",
        "cell_id": "00008-3c1c7601-2704-45ea-9006-7b315f0c73b7",
        "deepnote_to_be_reexecuted": false,
        "source_hash": "ac34861d",
        "execution_start": 1620215785177,
        "execution_millis": 1443,
        "deepnote_cell_type": "code"
      },
      "source": "# 1 point\n# use the min max scaler to scale your your data\noriginal_data = df[[\"Exponential\"]]\n\nscaled_data = None\n# YOUR CODE HERE\nscaler = MinMaxScaler()\n\nscaled_data=scaler.fit(df[[\"Exponential\"]]).transform(df[[\"Exponential\"]])\n\n\n# plot both together to compare\nfig, ax = plt.subplots(1,2, figsize=(12,4))\nsb.histplot(original_data, ax=ax[0]), ax[0].set_title(\"Original Data\")\nsb.histplot(scaled_data,   ax=ax[1]), ax[1].set_title(\"Scaled data\");\n",
      "execution_count": 32,
      "outputs": [
        {
          "data": {
            "text/plain": "<Figure size 864x288 with 2 Axes>",
            "image/png": "[encoded data removed]"
          },
          "metadata": {
            "needs_background": "light",
            "image/png": {
              "width": 730,
              "height": 264
            }
          },
          "output_type": "display_data"
        }
      ]
    },
    {
      "cell_type": "code",
      "metadata": {
        "deletable": false,
        "editable": false,
        "nbgrader": {
          "cell_type": "code",
          "checksum": "6bc61fe74b959131b1bb716cd6c5bbfd",
          "grade": true,
          "grade_id": "cell-cf85d2040d8c1d8e",
          "locked": true,
          "points": 1,
          "schema_version": 3,
          "solution": false,
          "task": false
        },
        "id": "SQlR0x2SAL0Z",
        "cell_id": "00009-3f4748af-b7d7-4ed7-adda-3e9280857167",
        "deepnote_to_be_reexecuted": false,
        "source_hash": "4394420d",
        "execution_start": 1620215787756,
        "execution_millis": 8,
        "deepnote_cell_type": "code"
      },
      "source": "assert scaled_data[scaled_data.argmax()] <= 1\nassert scaled_data[scaled_data.argmin()] >= 0",
      "execution_count": 33,
      "outputs": []
    },
    {
      "cell_type": "markdown",
      "source": "Notice that the *shape* of the data doesn't change, but that instead of ranging from 0 to 8ish, it now ranges from 0 to 1.\n\n# Normalization\n\nScaling just changes the range of your data. Normalization is a more radical transformation. The point of normalization is to change your observations so that they can be described as a normal distribution.\n\n> **[Normal distribution:](https://en.wikipedia.org/wiki/Normal_distribution)** Also known as the \"bell curve\", this is a specific statistical distribution where a roughly equal observations fall above and below the mean, the mean and the median are the same, and there are more observations closer to the mean. The normal distribution is also known as the Gaussian distribution.\n\nIn general, you'll normalize your data if you're going to be using a machine learning or statistics technique that assumes your data is normally distributed. Some examples of these include linear discriminant analysis (LDA) and Gaussian naive Bayes. (Pro tip: any method with \"Gaussian\" in the name probably assumes normality.)\n\nThe method we're using to normalize here is called the [Box-Cox Transformation](https://en.wikipedia.org/wiki/Power_transform#Box%E2%80%93Cox_transformation). Let's take a quick peek at what normalizing some data looks like:",
      "metadata": {
        "papermill": {
          "duration": 0.007431,
          "end_time": "2020-10-01T00:26:07.767278",
          "exception": false,
          "start_time": "2020-10-01T00:26:07.759847",
          "status": "completed"
        },
        "tags": [],
        "id": "hkYJ_T0_AL0a",
        "cell_id": "00010-7e355211-45e7-4bb3-8833-63f4e68317d9",
        "deepnote_cell_type": "markdown"
      }
    },
    {
      "cell_type": "code",
      "metadata": {
        "deletable": false,
        "execution": {
          "iopub.execute_input": "2020-10-01T00:26:07.785277Z",
          "iopub.status.busy": "2020-10-01T00:26:07.784655Z",
          "iopub.status.idle": "2020-10-01T00:26:08.165219Z",
          "shell.execute_reply": "2020-10-01T00:26:08.165758Z"
        },
        "nbgrader": {
          "cell_type": "code",
          "checksum": "ab694aec5c76af0545b0bc8c0e4972e1",
          "grade": false,
          "grade_id": "cell-94671ef831c6a242",
          "locked": false,
          "schema_version": 3,
          "solution": true,
          "task": false
        },
        "papermill": {
          "duration": 0.391053,
          "end_time": "2020-10-01T00:26:08.165898",
          "exception": false,
          "start_time": "2020-10-01T00:26:07.774845",
          "status": "completed"
        },
        "tags": [],
        "colab": {
          "base_uri": "https://localhost:8080/",
          "height": 281
        },
        "id": "JGvix5oxAL0b",
        "outputId": "6f865c66-13db-4473-fb47-422e3102b934",
        "cell_id": "00011-fa658708-d22a-4e9c-9992-0f5a643254b6",
        "deepnote_to_be_reexecuted": false,
        "source_hash": "d081054c",
        "execution_start": 1620215789834,
        "execution_millis": 1011,
        "deepnote_cell_type": "code"
      },
      "source": "# 1 point\n\n# normalize the exponential data with boxcox\n\nnormalized_data = None\n\n# YOUR CODE HERE\noriginal_data = df[[\"Exponential\"]]\npt = PowerTransformer(method=\"box-cox\")\nnormalized_data=pt.fit(df[[\"Exponential\"]]).transform(df[[\"Exponential\"]])\n\n\nfig, ax = plt.subplots(1,2, figsize=(12,4))\nsb.histplot(original_data,    ax=ax[0]), ax[0].set_title(\"Original Data\")\nsb.histplot(normalized_data,  ax=ax[1]), ax[1].set_title(\"Normalized data\");",
      "execution_count": 34,
      "outputs": [
        {
          "data": {
            "text/plain": "<Figure size 864x288 with 2 Axes>",
            "image/png": "[encoded data removed]"
          },
          "metadata": {
            "needs_background": "light",
            "image/png": {
              "width": 730,
              "height": 264
            }
          },
          "output_type": "display_data"
        }
      ]
    },
    {
      "cell_type": "code",
      "metadata": {
        "deletable": false,
        "editable": false,
        "nbgrader": {
          "cell_type": "code",
          "checksum": "1b642edd183775720da735c325c7af24",
          "grade": true,
          "grade_id": "cell-68159b6d3588d1c8",
          "locked": true,
          "points": 1,
          "schema_version": 3,
          "solution": false,
          "task": false
        },
        "id": "a36tPCNQAL0b",
        "cell_id": "00012-1256dd17-0103-4844-997a-d8360816f8af",
        "deepnote_to_be_reexecuted": false,
        "source_hash": "ed40d67e",
        "execution_start": 1620215791840,
        "execution_millis": 9,
        "deepnote_cell_type": "code"
      },
      "source": "assert normalized_data[normalized_data.argmax()] < 10\nassert normalized_data[normalized_data.argmin()] > -7",
      "execution_count": 35,
      "outputs": []
    },
    {
      "cell_type": "markdown",
      "source": "Notice that the *shape* of our data has changed. Before normalizing it was almost L-shaped. But after normalizing it looks more like the outline of a bell (hence \"bell curve\"). ",
      "metadata": {
        "id": "2nRQQXy7AL0b",
        "cell_id": "00013-2cda5bdb-abb6-4412-8f45-44f78b4a8dae",
        "deepnote_cell_type": "markdown"
      }
    },
    {
      "cell_type": "code",
      "metadata": {
        "deletable": false,
        "nbgrader": {
          "cell_type": "code",
          "checksum": "247d9f9f3349f0339e6f16baa6a99df7",
          "grade": false,
          "grade_id": "cell-fd73d602ff0531f7",
          "locked": false,
          "schema_version": 3,
          "solution": true,
          "task": false
        },
        "colab": {
          "base_uri": "https://localhost:8080/"
        },
        "id": "U9mV-K-UAL0c",
        "outputId": "4d19035b-07cf-45a8-e595-060070104146",
        "cell_id": "00014-70ceb85c-1c33-48ed-bcbc-25f63455e036",
        "deepnote_to_be_reexecuted": false,
        "source_hash": "ab2cb9d6",
        "execution_start": 1620215794229,
        "execution_millis": 18,
        "deepnote_cell_type": "code"
      },
      "source": "# 1 point\n# Get the skewness of all the samples of the original dataframe\nskew = None\n\n# YOUR CODE HERE\n\nskew=df.skew()\n\nskew",
      "execution_count": 36,
      "outputs": [
        {
          "output_type": "execute_result",
          "execution_count": 36,
          "data": {
            "text/plain": "Exponential    1.957667\nLognormal      5.397145\nChi-squared    3.045327\nWeibull        0.620573\nGaussian      -0.007358\nUniform        0.002472\nBimodal       -0.003451\ndtype: float64"
          },
          "metadata": {}
        }
      ]
    },
    {
      "cell_type": "code",
      "metadata": {
        "deletable": false,
        "editable": false,
        "nbgrader": {
          "cell_type": "code",
          "checksum": "81ccf4fb4dc94f4ccb7e6cb84d204320",
          "grade": true,
          "grade_id": "cell-3cbcbdf2330141f3",
          "locked": true,
          "points": 1,
          "schema_version": 3,
          "solution": false,
          "task": false
        },
        "id": "f0ycxfT6AL0c",
        "cell_id": "00015-91ce273c-6db1-4cd8-8bb7-77f63079419d",
        "deepnote_to_be_reexecuted": false,
        "source_hash": "afbaa8de",
        "execution_start": 1620215795393,
        "execution_millis": 1,
        "deepnote_cell_type": "code"
      },
      "source": "assert skew[0] > 1\nassert skew[1] > 3\nassert skew[2] > 1\nassert -1 < skew[3] < 1\nassert -1 < skew[4] < 1\nassert -1 < skew[5] < 1\nassert -1 < skew[6] < 1",
      "execution_count": 37,
      "outputs": []
    },
    {
      "cell_type": "markdown",
      "source": "![](https://www.allaboutcircuits.com/uploads/articles/understanding-the-normal-distribution-parametric-tests-skewness-and-kurtosis-rk-aac-image2.jpg)",
      "metadata": {
        "id": "duQYkGlLAL0c",
        "cell_id": "00016-76d06f39-66f2-41cb-b78c-d6e3477ab444",
        "deepnote_cell_type": "markdown"
      }
    },
    {
      "cell_type": "code",
      "metadata": {
        "deletable": false,
        "nbgrader": {
          "cell_type": "code",
          "checksum": "2b00cac518681f8070b610bf066c7ce4",
          "grade": false,
          "grade_id": "cell-f8b7d87f64909213",
          "locked": false,
          "schema_version": 3,
          "solution": true,
          "task": false
        },
        "id": "8_-Kv3E_AL0d",
        "cell_id": "00017-a56c8e5f-865f-43dd-9e49-2e31b720d2c1",
        "deepnote_to_be_reexecuted": false,
        "source_hash": "10592ebe",
        "execution_start": 1620215797241,
        "execution_millis": 11,
        "deepnote_cell_type": "code"
      },
      "source": "from scipy.special import erfinv\n# 5 points\n# implement the rank gaussian fucntion from the slides\ndef rank_gauss(x):\n    # YOUR CODE HERE\n    n = x.shape[0]\n    rank = x.argsort().argsort()\n    rank=rank/n\n    rank=rank*2\n    rank=rank-rank.mean()\n    efi=erfinv(rank)\n    return efi",
      "execution_count": 38,
      "outputs": []
    },
    {
      "cell_type": "code",
      "metadata": {
        "deletable": false,
        "editable": false,
        "nbgrader": {
          "cell_type": "code",
          "checksum": "471f3e4a81af9844bed1813f67327e57",
          "grade": true,
          "grade_id": "cell-362e7a1105baf21d",
          "locked": true,
          "points": 5,
          "schema_version": 3,
          "solution": false,
          "task": false
        },
        "id": "V0PGEfUAAL0d",
        "cell_id": "00018-400cc831-3c41-41f0-9c0c-55084118ea1a",
        "deepnote_to_be_reexecuted": false,
        "source_hash": "35bb9229",
        "execution_start": 1620215798078,
        "execution_millis": 14,
        "deepnote_cell_type": "code"
      },
      "source": "gauss = rank_gauss(df.Uniform)\nassert gauss.shape[0] == 10000\nassert gauss[gauss.argmax()] <= 4\nassert gauss[gauss.argmin()] >= -4",
      "execution_count": 39,
      "outputs": []
    },
    {
      "cell_type": "code",
      "metadata": {
        "colab": {
          "base_uri": "https://localhost:8080/",
          "height": 282
        },
        "id": "9qJLe75GAL0d",
        "outputId": "7064975d-c39d-4029-d1b3-7828a53d49c2",
        "cell_id": "00019-b2b18cf9-be93-4ce3-a4ed-54bf1531d58e",
        "deepnote_to_be_reexecuted": false,
        "source_hash": "f6ba9afc",
        "execution_start": 1620215799125,
        "execution_millis": 271,
        "deepnote_cell_type": "code"
      },
      "source": "gauss.plot.hist()",
      "execution_count": 40,
      "outputs": [
        {
          "output_type": "execute_result",
          "execution_count": 40,
          "data": {
            "text/plain": "<AxesSubplot:ylabel='Frequency'>"
          },
          "metadata": {}
        },
        {
          "data": {
            "text/plain": "<Figure size 432x288 with 1 Axes>",
            "image/png": "[encoded data removed]"
          },
          "metadata": {
            "needs_background": "light",
            "image/png": {
              "width": 397,
              "height": 248
            }
          },
          "output_type": "display_data"
        }
      ]
    },
    {
      "cell_type": "code",
      "metadata": {
        "deletable": false,
        "nbgrader": {
          "cell_type": "code",
          "checksum": "12283f073232403d8eb9483388c7aee8",
          "grade": false,
          "grade_id": "cell-15b6c59332351df4",
          "locked": false,
          "schema_version": 3,
          "solution": true,
          "task": false
        },
        "colab": {
          "base_uri": "https://localhost:8080/",
          "height": 128
        },
        "id": "pe6wsmgSAL0e",
        "outputId": "8f1cb949-3eec-4aeb-d7f8-38bfa3dbf194",
        "cell_id": "00020-bcf3e11a-fc23-48e4-888a-2dc334c8fa85",
        "deepnote_to_be_reexecuted": false,
        "source_hash": "c49bdc92",
        "execution_start": 1620215800841,
        "execution_millis": 5,
        "deepnote_cell_type": "code"
      },
      "source": "# 3 points\n# create a dictionary with the following enconders\n\nencoders = {\n  # Scalers\n  \"Min-max scaling\":MinMaxScaler(),  \n  \"Max-abs scaling\":MaxAbsScaler(),  \n  \"Standard scaling\":StandardScaler(),\n  \"Robust scaling\":RobustScaler(),\n    \n  # Normalizers\n  \"Box-Cox\":PowerTransformer(method=\"box-cox\"),                # Can only be used for positive values\n  \"Yeo-Johnson\":PowerTransformer(),         # Similar to Box-cox but can be used for negative values.\n  \"Quantile (normal)\":QuantileTransformer(output_distribution=\"normal\"),\n  \"Quantile (uniform)\":QuantileTransformer()\n}\n\n# YOUR CODE HERE\n",
      "execution_count": 41,
      "outputs": []
    },
    {
      "cell_type": "code",
      "metadata": {
        "deletable": false,
        "editable": false,
        "nbgrader": {
          "cell_type": "code",
          "checksum": "9019d89bc0508e91ff93188f1d1c21e0",
          "grade": true,
          "grade_id": "cell-bd44d6b1c55ae2c1",
          "locked": true,
          "points": 3,
          "schema_version": 3,
          "solution": false,
          "task": false
        },
        "id": "eCUGYGgkAL0e",
        "cell_id": "00021-5ff623fe-71b2-4407-91de-7e3499a3592a",
        "deepnote_to_be_reexecuted": false,
        "source_hash": "5f83eef",
        "execution_start": 1620215801696,
        "execution_millis": 13,
        "deepnote_cell_type": "code"
      },
      "source": "assert type(encoders[\"Min-max scaling\"]) is sklearn.preprocessing._data.MinMaxScaler\nassert type(encoders[\"Max-abs scaling\"]) is sklearn.preprocessing._data.MaxAbsScaler\nassert type(encoders[\"Standard scaling\"]) is sklearn.preprocessing._data.StandardScaler\nassert type(encoders[\"Robust scaling\"]) is sklearn.preprocessing._data.RobustScaler\n\nassert type(encoders[\"Box-Cox\"]) is sklearn.preprocessing._data.PowerTransformer\nassert type(encoders[\"Yeo-Johnson\"]) is sklearn.preprocessing._data.PowerTransformer\nassert type(encoders[\"Quantile (normal)\"]) is sklearn.preprocessing._data.QuantileTransformer\nassert type(encoders[\"Quantile (uniform)\"]) is sklearn.preprocessing._data.QuantileTransformer",
      "execution_count": 42,
      "outputs": []
    },
    {
      "cell_type": "code",
      "metadata": {
        "id": "M2g79ffLAL0e",
        "cell_id": "00022-8f265a21-02f9-4b24-bbd0-ed8aa30c69ed",
        "deepnote_to_be_reexecuted": false,
        "source_hash": "83058c04",
        "execution_start": 1620215803077,
        "execution_millis": 7830,
        "deepnote_cell_type": "code"
      },
      "source": "print(\"Original distributions\")\ndf.hist(bins=BINS, layout=(1,7), figsize=(16,2))\nplt.show()\nfor encoder_name, encoder in encoders.items():\n    print(encoder_name)\n    df_tmp = pd.DataFrame(encoder.fit_transform(df), columns=df.columns)\n    df_tmp.hist(bins=BINS, layout=(1,7), figsize=(16,2))\n    plt.show()",
      "execution_count": 43,
      "outputs": [
        {
          "name": "stdout",
          "text": "Original distributions\n",
          "output_type": "stream"
        },
        {
          "data": {
            "text/plain": "<Figure size 1152x144 with 7 Axes>",
            "image/png": "[encoded data removed]"
          },
          "metadata": {
            "needs_background": "light",
            "image/png": {
              "width": 941,
              "height": 156
            }
          },
          "output_type": "display_data"
        },
        {
          "name": "stdout",
          "text": "Min-max scaling\n",
          "output_type": "stream"
        },
        {
          "data": {
            "text/plain": "<Figure size 1152x144 with 7 Axes>",
            "image/png": "[encoded data removed]"
          },
          "metadata": {
            "needs_background": "light",
            "image/png": {
              "width": 942,
              "height": 156
            }
          },
          "output_type": "display_data"
        },
        {
          "name": "stdout",
          "text": "Max-abs scaling\n",
          "output_type": "stream"
        },
        {
          "data": {
            "text/plain": "<Figure size 1152x144 with 7 Axes>",
            "image/png": "[encoded data removed]"
          },
          "metadata": {
            "needs_background": "light",
            "image/png": {
              "width": 942,
              "height": 156
            }
          },
          "output_type": "display_data"
        },
        {
          "name": "stdout",
          "text": "Standard scaling\n",
          "output_type": "stream"
        },
        {
          "data": {
            "text/plain": "<Figure size 1152x144 with 7 Axes>",
            "image/png": "[encoded data removed]"
          },
          "metadata": {
            "needs_background": "light",
            "image/png": {
              "width": 939,
              "height": 156
            }
          },
          "output_type": "display_data"
        },
        {
          "name": "stdout",
          "text": "Robust scaling\n",
          "output_type": "stream"
        },
        {
          "data": {
            "text/plain": "<Figure size 1152x144 with 7 Axes>",
            "image/png": "[encoded data removed]"
          },
          "metadata": {
            "needs_background": "light",
            "image/png": {
              "width": 939,
              "height": 156
            }
          },
          "output_type": "display_data"
        },
        {
          "name": "stdout",
          "text": "Box-Cox\n",
          "output_type": "stream"
        },
        {
          "output_type": "error",
          "ename": "ValueError",
          "evalue": "The Box-Cox transformation can only be applied to strictly positive data",
          "traceback": [
            "\u001b[0;31m---------------------------------------------------------------------------\u001b[0m",
            "\u001b[0;31mValueError\u001b[0m                                Traceback (most recent call last)",
            "\u001b[0;32m<ipython-input-43-2ed61f9256d8>\u001b[0m in \u001b[0;36m<module>\u001b[0;34m\u001b[0m\n\u001b[1;32m      4\u001b[0m \u001b[0;32mfor\u001b[0m \u001b[0mencoder_name\u001b[0m\u001b[0;34m,\u001b[0m \u001b[0mencoder\u001b[0m \u001b[0;32min\u001b[0m \u001b[0mencoders\u001b[0m\u001b[0;34m.\u001b[0m\u001b[0mitems\u001b[0m\u001b[0;34m(\u001b[0m\u001b[0;34m)\u001b[0m\u001b[0;34m:\u001b[0m\u001b[0;34m\u001b[0m\u001b[0;34m\u001b[0m\u001b[0m\n\u001b[1;32m      5\u001b[0m     \u001b[0mprint\u001b[0m\u001b[0;34m(\u001b[0m\u001b[0mencoder_name\u001b[0m\u001b[0;34m)\u001b[0m\u001b[0;34m\u001b[0m\u001b[0;34m\u001b[0m\u001b[0m\n\u001b[0;32m----> 6\u001b[0;31m     \u001b[0mdf_tmp\u001b[0m \u001b[0;34m=\u001b[0m \u001b[0mpd\u001b[0m\u001b[0;34m.\u001b[0m\u001b[0mDataFrame\u001b[0m\u001b[0;34m(\u001b[0m\u001b[0mencoder\u001b[0m\u001b[0;34m.\u001b[0m\u001b[0mfit_transform\u001b[0m\u001b[0;34m(\u001b[0m\u001b[0mdf\u001b[0m\u001b[0;34m)\u001b[0m\u001b[0;34m,\u001b[0m \u001b[0mcolumns\u001b[0m\u001b[0;34m=\u001b[0m\u001b[0mdf\u001b[0m\u001b[0;34m.\u001b[0m\u001b[0mcolumns\u001b[0m\u001b[0;34m)\u001b[0m\u001b[0;34m\u001b[0m\u001b[0;34m\u001b[0m\u001b[0m\n\u001b[0m\u001b[1;32m      7\u001b[0m     \u001b[0mdf_tmp\u001b[0m\u001b[0;34m.\u001b[0m\u001b[0mhist\u001b[0m\u001b[0;34m(\u001b[0m\u001b[0mbins\u001b[0m\u001b[0;34m=\u001b[0m\u001b[0mBINS\u001b[0m\u001b[0;34m,\u001b[0m \u001b[0mlayout\u001b[0m\u001b[0;34m=\u001b[0m\u001b[0;34m(\u001b[0m\u001b[0;36m1\u001b[0m\u001b[0;34m,\u001b[0m\u001b[0;36m7\u001b[0m\u001b[0;34m)\u001b[0m\u001b[0;34m,\u001b[0m \u001b[0mfigsize\u001b[0m\u001b[0;34m=\u001b[0m\u001b[0;34m(\u001b[0m\u001b[0;36m16\u001b[0m\u001b[0;34m,\u001b[0m\u001b[0;36m2\u001b[0m\u001b[0;34m)\u001b[0m\u001b[0;34m)\u001b[0m\u001b[0;34m\u001b[0m\u001b[0;34m\u001b[0m\u001b[0m\n\u001b[1;32m      8\u001b[0m     \u001b[0mplt\u001b[0m\u001b[0;34m.\u001b[0m\u001b[0mshow\u001b[0m\u001b[0;34m(\u001b[0m\u001b[0;34m)\u001b[0m\u001b[0;34m\u001b[0m\u001b[0;34m\u001b[0m\u001b[0m\n",
            "\u001b[0;32m/shared-libs/python3.7/py/lib/python3.7/site-packages/sklearn/preprocessing/_data.py\u001b[0m in \u001b[0;36mfit_transform\u001b[0;34m(self, X, y)\u001b[0m\n\u001b[1;32m   3048\u001b[0m \u001b[0;34m\u001b[0m\u001b[0m\n\u001b[1;32m   3049\u001b[0m     \u001b[0;32mdef\u001b[0m \u001b[0mfit_transform\u001b[0m\u001b[0;34m(\u001b[0m\u001b[0mself\u001b[0m\u001b[0;34m,\u001b[0m \u001b[0mX\u001b[0m\u001b[0;34m,\u001b[0m \u001b[0my\u001b[0m\u001b[0;34m=\u001b[0m\u001b[0;32mNone\u001b[0m\u001b[0;34m)\u001b[0m\u001b[0;34m:\u001b[0m\u001b[0;34m\u001b[0m\u001b[0;34m\u001b[0m\u001b[0m\n\u001b[0;32m-> 3050\u001b[0;31m         \u001b[0;32mreturn\u001b[0m \u001b[0mself\u001b[0m\u001b[0;34m.\u001b[0m\u001b[0m_fit\u001b[0m\u001b[0;34m(\u001b[0m\u001b[0mX\u001b[0m\u001b[0;34m,\u001b[0m \u001b[0my\u001b[0m\u001b[0;34m,\u001b[0m \u001b[0mforce_transform\u001b[0m\u001b[0;34m=\u001b[0m\u001b[0;32mTrue\u001b[0m\u001b[0;34m)\u001b[0m\u001b[0;34m\u001b[0m\u001b[0;34m\u001b[0m\u001b[0m\n\u001b[0m\u001b[1;32m   3051\u001b[0m \u001b[0;34m\u001b[0m\u001b[0m\n\u001b[1;32m   3052\u001b[0m     \u001b[0;32mdef\u001b[0m \u001b[0m_fit\u001b[0m\u001b[0;34m(\u001b[0m\u001b[0mself\u001b[0m\u001b[0;34m,\u001b[0m \u001b[0mX\u001b[0m\u001b[0;34m,\u001b[0m \u001b[0my\u001b[0m\u001b[0;34m=\u001b[0m\u001b[0;32mNone\u001b[0m\u001b[0;34m,\u001b[0m \u001b[0mforce_transform\u001b[0m\u001b[0;34m=\u001b[0m\u001b[0;32mFalse\u001b[0m\u001b[0;34m)\u001b[0m\u001b[0;34m:\u001b[0m\u001b[0;34m\u001b[0m\u001b[0;34m\u001b[0m\u001b[0m\n",
            "\u001b[0;32m/shared-libs/python3.7/py/lib/python3.7/site-packages/sklearn/preprocessing/_data.py\u001b[0m in \u001b[0;36m_fit\u001b[0;34m(self, X, y, force_transform)\u001b[0m\n\u001b[1;32m   3052\u001b[0m     \u001b[0;32mdef\u001b[0m \u001b[0m_fit\u001b[0m\u001b[0;34m(\u001b[0m\u001b[0mself\u001b[0m\u001b[0;34m,\u001b[0m \u001b[0mX\u001b[0m\u001b[0;34m,\u001b[0m \u001b[0my\u001b[0m\u001b[0;34m=\u001b[0m\u001b[0;32mNone\u001b[0m\u001b[0;34m,\u001b[0m \u001b[0mforce_transform\u001b[0m\u001b[0;34m=\u001b[0m\u001b[0;32mFalse\u001b[0m\u001b[0;34m)\u001b[0m\u001b[0;34m:\u001b[0m\u001b[0;34m\u001b[0m\u001b[0;34m\u001b[0m\u001b[0m\n\u001b[1;32m   3053\u001b[0m         X = self._check_input(X, in_fit=True, check_positive=True,\n\u001b[0;32m-> 3054\u001b[0;31m                               check_method=True)\n\u001b[0m\u001b[1;32m   3055\u001b[0m \u001b[0;34m\u001b[0m\u001b[0m\n\u001b[1;32m   3056\u001b[0m         \u001b[0;32mif\u001b[0m \u001b[0;32mnot\u001b[0m \u001b[0mself\u001b[0m\u001b[0;34m.\u001b[0m\u001b[0mcopy\u001b[0m \u001b[0;32mand\u001b[0m \u001b[0;32mnot\u001b[0m \u001b[0mforce_transform\u001b[0m\u001b[0;34m:\u001b[0m  \u001b[0;31m# if call from fit()\u001b[0m\u001b[0;34m\u001b[0m\u001b[0;34m\u001b[0m\u001b[0m\n",
            "\u001b[0;32m/shared-libs/python3.7/py/lib/python3.7/site-packages/sklearn/preprocessing/_data.py\u001b[0m in \u001b[0;36m_check_input\u001b[0;34m(self, X, in_fit, check_positive, check_shape, check_method)\u001b[0m\n\u001b[1;32m   3277\u001b[0m             if (check_positive and self.method == 'box-cox' and\n\u001b[1;32m   3278\u001b[0m                     np.nanmin(X) <= 0):\n\u001b[0;32m-> 3279\u001b[0;31m                 raise ValueError(\"The Box-Cox transformation can only be \"\n\u001b[0m\u001b[1;32m   3280\u001b[0m                                  \"applied to strictly positive data\")\n\u001b[1;32m   3281\u001b[0m \u001b[0;34m\u001b[0m\u001b[0m\n",
            "\u001b[0;31mValueError\u001b[0m: The Box-Cox transformation can only be applied to strictly positive data"
          ]
        }
      ]
    },
    {
      "cell_type": "code",
      "metadata": {
        "id": "45NmgJStAL0f",
        "cell_id": "00023-5c2d02b6-849a-4048-9d9b-41180d58eebb",
        "deepnote_cell_type": "code"
      },
      "source": "",
      "execution_count": null,
      "outputs": []
    },
    {
      "cell_type": "markdown",
      "source": "\n\n# Your turn\n\nIt's time to [**apply what you just learned**](https://www.kaggle.com/kernels/fork/10824404) a dataset of Kickstarter projects.",
      "metadata": {
        "papermill": {
          "duration": 0.008392,
          "end_time": "2020-10-01T00:26:08.183120",
          "exception": false,
          "start_time": "2020-10-01T00:26:08.174728",
          "status": "completed"
        },
        "tags": [],
        "id": "pGSS4IeYAL0f",
        "cell_id": "00024-26538fc1-5051-4378-b5ae-088669291961",
        "deepnote_cell_type": "markdown"
      }
    },
    {
      "cell_type": "markdown",
      "source": "<a style='text-decoration:none;line-height:16px;display:flex;color:#5B5B62;padding:10px;justify-content:end;' href='https://deepnote.com?utm_source=created-in-deepnote-cell&projectId=796ba814-f632-4502-b0d7-7e2f8f9e546d' target=\"_blank\">\n<img alt='Created in deepnote.com' style='display:inline;max-height:16px;margin:0px;margin-right:7.5px;' src='data:image/svg+xml;base64,PD94bWwgdmVyc2lvbj0iMS4wIiBlbmNvZGluZz0iVVRGLTgiPz4KPHN2ZyB3aWR0aD0iODBweCIgaGVpZ2h0PSI4MHB4IiB2aWV3Qm94PSIwIDAgODAgODAiIHZlcnNpb249IjEuMSIgeG1sbnM9Imh0dHA6Ly93d3cudzMub3JnLzIwMDAvc3ZnIiB4bWxuczp4bGluaz0iaHR0cDovL3d3dy53My5vcmcvMTk5OS94bGluayI+CiAgICA8IS0tIEdlbmVyYXRvcjogU2tldGNoIDU0LjEgKDc2NDkwKSAtIGh0dHBzOi8vc2tldGNoYXBwLmNvbSAtLT4KICAgIDx0aXRsZT5Hcm91cCAzPC90aXRsZT4KICAgIDxkZXNjPkNyZWF0ZWQgd2l0aCBTa2V0Y2guPC9kZXNjPgogICAgPGcgaWQ9IkxhbmRpbmciIHN0cm9rZT0ibm9uZSIgc3Ryb2tlLXdpZHRoPSIxIiBmaWxsPSJub25lIiBmaWxsLXJ1bGU9ImV2ZW5vZGQiPgogICAgICAgIDxnIGlkPSJBcnRib2FyZCIgdHJhbnNmb3JtPSJ0cmFuc2xhdGUoLTEyMzUuMDAwMDAwLCAtNzkuMDAwMDAwKSI+CiAgICAgICAgICAgIDxnIGlkPSJHcm91cC0zIiB0cmFuc2Zvcm09InRyYW5zbGF0ZSgxMjM1LjAwMDAwMCwgNzkuMDAwMDAwKSI+CiAgICAgICAgICAgICAgICA8cG9seWdvbiBpZD0iUGF0aC0yMCIgZmlsbD0iIzAyNjVCNCIgcG9pbnRzPSIyLjM3NjIzNzYyIDgwIDM4LjA0NzY2NjcgODAgNTcuODIxNzgyMiA3My44MDU3NTkyIDU3LjgyMTc4MjIgMzIuNzU5MjczOSAzOS4xNDAyMjc4IDMxLjY4MzE2ODMiPjwvcG9seWdvbj4KICAgICAgICAgICAgICAgIDxwYXRoIGQ9Ik0zNS4wMDc3MTgsODAgQzQyLjkwNjIwMDcsNzYuNDU0OTM1OCA0Ny41NjQ5MTY3LDcxLjU0MjI2NzEgNDguOTgzODY2LDY1LjI2MTk5MzkgQzUxLjExMjI4OTksNTUuODQxNTg0MiA0MS42NzcxNzk1LDQ5LjIxMjIyODQgMjUuNjIzOTg0Niw0OS4yMTIyMjg0IEMyNS40ODQ5Mjg5LDQ5LjEyNjg0NDggMjkuODI2MTI5Niw0My4yODM4MjQ4IDM4LjY0NzU4NjksMzEuNjgzMTY4MyBMNzIuODcxMjg3MSwzMi41NTQ0MjUgTDY1LjI4MDk3Myw2Ny42NzYzNDIxIEw1MS4xMTIyODk5LDc3LjM3NjE0NCBMMzUuMDA3NzE4LDgwIFoiIGlkPSJQYXRoLTIyIiBmaWxsPSIjMDAyODY4Ij48L3BhdGg+CiAgICAgICAgICAgICAgICA8cGF0aCBkPSJNMCwzNy43MzA0NDA1IEwyNy4xMTQ1MzcsMC4yNTcxMTE0MzYgQzYyLjM3MTUxMjMsLTEuOTkwNzE3MDEgODAsMTAuNTAwMzkyNyA4MCwzNy43MzA0NDA1IEM4MCw2NC45NjA0ODgyIDY0Ljc3NjUwMzgsNzkuMDUwMzQxNCAzNC4zMjk1MTEzLDgwIEM0Ny4wNTUzNDg5LDc3LjU2NzA4MDggNTMuNDE4MjY3Nyw3MC4zMTM2MTAzIDUzLjQxODI2NzcsNTguMjM5NTg4NSBDNTMuNDE4MjY3Nyw0MC4xMjg1NTU3IDM2LjMwMzk1NDQsMzcuNzMwNDQwNSAyNS4yMjc0MTcsMzcuNzMwNDQwNSBDMTcuODQzMDU4NiwzNy43MzA0NDA1IDkuNDMzOTE5NjYsMzcuNzMwNDQwNSAwLDM3LjczMDQ0MDUgWiIgaWQ9IlBhdGgtMTkiIGZpbGw9IiMzNzkzRUYiPjwvcGF0aD4KICAgICAgICAgICAgPC9nPgogICAgICAgIDwvZz4KICAgIDwvZz4KPC9zdmc+' > </img>\nCreated in <span style='font-weight:600;margin-left:4px;'>Deepnote</span></a>",
      "metadata": {
        "tags": [],
        "created_in_deepnote_cell": true,
        "deepnote_cell_type": "markdown"
      }
    }
  ],
  "nbformat": 4,
  "nbformat_minor": 0,
  "metadata": {
    "kernelspec": {
      "display_name": "Python 3",
      "language": "python",
      "name": "python3"
    },
    "language_info": {
      "codemirror_mode": {
        "name": "ipython",
        "version": 3
      },
      "file_extension": ".py",
      "mimetype": "text/x-python",
      "name": "python",
      "nbconvert_exporter": "python",
      "pygments_lexer": "ipython3",
      "version": "3.7.10"
    },
    "papermill": {
      "duration": 6.671696,
      "end_time": "2020-10-01T00:26:08.316803",
      "environment_variables": {},
      "exception": null,
      "input_path": "__notebook__.ipynb",
      "output_path": "__notebook__.ipynb",
      "parameters": {},
      "start_time": "2020-10-01T00:26:01.645107",
      "version": "2.1.0"
    },
    "colab": {
      "name": "fe2.ipynb",
      "provenance": [],
      "collapsed_sections": []
    },
    "deepnote_notebook_id": "361fb1cc-c1c7-41b8-a114-3468aa513ed6",
    "deepnote": {},
    "deepnote_execution_queue": []
  }
}