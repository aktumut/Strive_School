{
  "cells": [
    {
      "cell_type": "code",
      "metadata": {
        "cell_id": "00000-156d4dec-fb3a-427d-8c3a-be73d1ebf6fb",
        "deepnote_cell_type": "code"
      },
      "source": "import pandas as pd\nimport matplotlib.pyplot as plt\n#import seaborn as sb\nimport sklearn as skl\nimport time\nfrom IPython.display import display, clear_output\n\nimport sklearn\nfrom sklearn import pipeline      # Pipeline\nfrom sklearn import preprocessing # OrdinalEncoder, LabelEncoder\nfrom sklearn import impute\nfrom sklearn import compose\nfrom sklearn import model_selection # train_test_split\nfrom sklearn import metrics         # accuracy_score, balanced_accuracy_score, plot_confusion_matrix\nfrom sklearn import set_config\n\nset_config(display='diagram') # Useful for display the pipeline\n\nprint(\"Pandas  \", pd.__version__)\nprint(\"Sklearn \", skl.__version__) # Try to use 0.24",
      "execution_count": null,
      "outputs": []
    },
    {
      "cell_type": "code",
      "metadata": {
        "deletable": false,
        "editable": false,
        "nbgrader": {
          "cell_type": "code",
          "checksum": "ba64a626f4514047c1f189598c684da9",
          "grade": false,
          "grade_id": "cell-c9956bc3084ab64e",
          "locked": true,
          "schema_version": 3,
          "solution": false,
          "task": false
        },
        "cell_id": "00001-4dc9d8ab-38d6-465c-8d39-f657f10e47de",
        "deepnote_cell_type": "code"
      },
      "source": "path = \"./tabular-playground-feb21/\"\n!ls $path",
      "execution_count": null,
      "outputs": []
    },
    {
      "cell_type": "markdown",
      "source": "### Load data",
      "metadata": {
        "cell_id": "00002-40b5dd8e-9683-4ca2-ac84-fede2702d6a4",
        "deepnote_cell_type": "markdown"
      }
    },
    {
      "cell_type": "code",
      "metadata": {
        "deletable": false,
        "nbgrader": {
          "cell_type": "code",
          "checksum": "4ea3a25f357a30f495f76db4dfa4e6a9",
          "grade": false,
          "grade_id": "cell-52a8794a601f4d0e",
          "locked": false,
          "schema_version": 3,
          "solution": true,
          "task": false
        },
        "cell_id": "00003-cc571299-ead1-402e-b45d-35f5d49a209c",
        "deepnote_cell_type": "code"
      },
      "source": "# 1 point \n #load the train, test and sample_submission data using the is as the index column\ndf = None\ndf_t = None\nsub = None\n\n# YOUR CODE HERE\nraise NotImplementedError()\n\nprint(\"Train dataframe:\", df.shape)\nprint(\"Test dataframe:\", df_t.shape)\ndf.head()",
      "execution_count": null,
      "outputs": []
    },
    {
      "cell_type": "code",
      "metadata": {
        "deletable": false,
        "editable": false,
        "nbgrader": {
          "cell_type": "code",
          "checksum": "283057813be21d0e38dbf98f96fa6b75",
          "grade": true,
          "grade_id": "cell-63c54563653a95db",
          "locked": true,
          "points": 1,
          "schema_version": 3,
          "solution": false,
          "task": false
        },
        "cell_id": "00004-8be211ec-9501-4777-b238-c11338e5efdf",
        "deepnote_cell_type": "code"
      },
      "source": "print(sub.shape)\nassert df.shape == (300000,25) \nassert df_t.shape == (200000,24) \nassert sub.shape == (200000,1) ",
      "execution_count": null,
      "outputs": []
    },
    {
      "cell_type": "markdown",
      "source": "### Subsample the data",
      "metadata": {
        "cell_id": "00005-d5f2ec27-8877-4471-ba86-ad42bba08669",
        "deepnote_cell_type": "markdown"
      }
    },
    {
      "cell_type": "code",
      "metadata": {
        "deletable": false,
        "nbgrader": {
          "cell_type": "code",
          "checksum": "48b8af006c0502ef277ad7f9f51bae73",
          "grade": false,
          "grade_id": "cell-af0fe9c9d53bb080",
          "locked": false,
          "schema_version": 3,
          "solution": true,
          "task": false
        },
        "cell_id": "00006-df2c704a-695a-42c9-afbf-f135323bb454",
        "deepnote_cell_type": "code"
      },
      "source": "#1 point\n# get a random sample of size 50k, tested with random state 0\ndfs = None\n# YOUR CODE HERE\nraise NotImplementedError()",
      "execution_count": null,
      "outputs": []
    },
    {
      "cell_type": "code",
      "metadata": {
        "deletable": false,
        "editable": false,
        "nbgrader": {
          "cell_type": "code",
          "checksum": "3a65c53efee5c6fb13a948c4a711c409",
          "grade": true,
          "grade_id": "cell-6d044ab7181322e1",
          "locked": true,
          "points": 1,
          "schema_version": 3,
          "solution": false,
          "task": false
        },
        "cell_id": "00007-176a8ab5-c167-4946-af6d-3f0df02eaccb",
        "deepnote_cell_type": "code"
      },
      "source": "assert dfs.shape == (50000,25)",
      "execution_count": null,
      "outputs": []
    },
    {
      "cell_type": "markdown",
      "source": "### There are no missings in this dataset",
      "metadata": {
        "cell_id": "00008-9be30b0a-51e1-4fc4-bc20-d2fefd459475",
        "deepnote_cell_type": "markdown"
      }
    },
    {
      "cell_type": "code",
      "metadata": {
        "cell_id": "00009-af71340b-b70e-4aa4-b820-cc807fd6985e",
        "deepnote_cell_type": "code"
      },
      "source": "df.isna().sum().sum(), df_t.isna().sum().sum()",
      "execution_count": null,
      "outputs": []
    },
    {
      "cell_type": "code",
      "metadata": {
        "cell_id": "00010-a27825a8-adae-4870-aeaa-3ed6b5de94b7",
        "deepnote_cell_type": "code"
      },
      "source": "df.columns",
      "execution_count": null,
      "outputs": []
    },
    {
      "cell_type": "markdown",
      "source": "### Define variables for x and y",
      "metadata": {
        "cell_id": "00011-ebd00fa9-946b-477a-b503-962ab33960ad",
        "deepnote_cell_type": "markdown"
      }
    },
    {
      "cell_type": "code",
      "metadata": {
        "deletable": false,
        "nbgrader": {
          "cell_type": "code",
          "checksum": "9da5eb270c24b61b947f95901ab01244",
          "grade": false,
          "grade_id": "cell-798649ceac290b47",
          "locked": false,
          "schema_version": 3,
          "solution": true,
          "task": false
        },
        "cell_id": "00012-a3b04284-b52e-4197-9f55-4cb5d3b15e9e",
        "deepnote_cell_type": "code"
      },
      "source": "cat_vars = ['cat0', 'cat1', 'cat2', 'cat3', 'cat4', 'cat5', 'cat6', 'cat7', 'cat8', 'cat9']\nnum_vars = ['cont0', 'cont1', 'cont2', 'cont3',  'cont4',  'cont5',  'cont6',\n            'cont7', 'cont8', 'cont9', 'cont10', 'cont11', 'cont12', 'cont13']\n\n# 1 point \n# store in X all the categorical and numerical columns\n# store in Y the target\n\nx = 0\ny = 0\n# YOUR CODE HERE\nraise NotImplementedError()",
      "execution_count": null,
      "outputs": []
    },
    {
      "cell_type": "code",
      "metadata": {
        "deletable": false,
        "editable": false,
        "nbgrader": {
          "cell_type": "code",
          "checksum": "d43a4e2c399b56436b32dbc7502477e0",
          "grade": true,
          "grade_id": "cell-a12e77048aa686c4",
          "locked": true,
          "points": 1,
          "schema_version": 3,
          "solution": false,
          "task": false
        },
        "cell_id": "00013-1303bdbb-af7d-4c2e-b6c5-b8e5f1f7ae55",
        "deepnote_cell_type": "code"
      },
      "source": "assert x.shape == (50000,24)\nassert y.shape == (50000,)",
      "execution_count": null,
      "outputs": []
    },
    {
      "cell_type": "markdown",
      "source": "### See the target variable ([The metric is RMSE](https://www.kaggle.com/c/tabular-playground-series-feb-2021/overview/evaluation))",
      "metadata": {
        "cell_id": "00014-eab76eb4-152d-4951-97cc-15960633e677",
        "deepnote_cell_type": "markdown"
      }
    },
    {
      "cell_type": "code",
      "metadata": {
        "cell_id": "00015-ec9ccccb-c35b-4804-8732-6b952676964a",
        "deepnote_cell_type": "code"
      },
      "source": "df.target.plot.hist(bins=500);",
      "execution_count": null,
      "outputs": []
    },
    {
      "cell_type": "markdown",
      "source": "### See the numerical variables",
      "metadata": {
        "cell_id": "00016-306381e8-91a6-42cb-8087-9bf52137d3b9",
        "deepnote_cell_type": "markdown"
      }
    },
    {
      "cell_type": "code",
      "metadata": {
        "cell_id": "00017-2357a0b1-7d41-4085-a389-f8301c0d0e87",
        "deepnote_cell_type": "code"
      },
      "source": "for var in num_vars:\n    df[var].plot.hist(bins=500)\n    plt.show();",
      "execution_count": null,
      "outputs": []
    },
    {
      "cell_type": "markdown",
      "source": "### See the categorical variables (ypu can use `bar()`, `barh()` or `.pie()`)",
      "metadata": {
        "cell_id": "00018-5dc2cda7-b899-4533-ae00-0701a9c815de",
        "deepnote_cell_type": "markdown"
      }
    },
    {
      "cell_type": "code",
      "metadata": {
        "cell_id": "00019-214760f4-b9d1-4f48-9889-5df8ec7dbd73",
        "deepnote_cell_type": "code"
      },
      "source": "for var in cat_vars:\n    #df[var].value_counts().plot.bar()\n    #df[var].value_counts().plot.barh()\n    df[var].value_counts().plot.pie()\n    plt.show();",
      "execution_count": null,
      "outputs": []
    },
    {
      "cell_type": "markdown",
      "source": "# Exercise 1 (2 pts)\n\nCreate the `ColumTransformer` for **models based on multiplications and distances**:\n- Pipeline for numerical variables (`num_vars`): `Standardscaler()` or `QuantileTransformer(n_quantiles=100, output_distribution='normal')`\n- Pipeline for categorical variables (`cat_vars`): `OneHotEncoder(handle_unknown='ignore')`",
      "metadata": {
        "cell_id": "00020-16d5b88c-de75-4c85-9921-8d437ab3efda",
        "deepnote_cell_type": "markdown"
      }
    },
    {
      "cell_type": "code",
      "metadata": {
        "deletable": false,
        "nbgrader": {
          "cell_type": "code",
          "checksum": "10d603101a3a872dc52bf1a241871cf9",
          "grade": false,
          "grade_id": "cell-1bcb9c03884767e0",
          "locked": false,
          "schema_version": 3,
          "solution": true,
          "task": false
        },
        "cell_id": "00021-b99e6a6b-aaa7-4a74-afb8-b932d5cb2463",
        "deepnote_cell_type": "code"
      },
      "source": "# YOUR CODE HERE\nraise NotImplementedError()\n\ntree_prepro",
      "execution_count": null,
      "outputs": []
    },
    {
      "cell_type": "code",
      "metadata": {
        "deletable": false,
        "editable": false,
        "nbgrader": {
          "cell_type": "code",
          "checksum": "84e1dc4290931eeee92c3c7fdc67732f",
          "grade": true,
          "grade_id": "cell-25faeb14cfb1e048",
          "locked": true,
          "points": 2,
          "schema_version": 3,
          "solution": false,
          "task": false
        },
        "cell_id": "00022-c76833cd-3420-4780-a50d-06b5adfdde4e",
        "deepnote_cell_type": "code"
      },
      "source": "assert type(tree_prepro) is sklearn.compose._column_transformer.ColumnTransformer",
      "execution_count": null,
      "outputs": []
    },
    {
      "cell_type": "markdown",
      "source": "# Exercise 2 (2 pts)\n\nCreate the `ColumTransformer` for **models based on trees**:\n- Pipeline for numerical variables (`num_vars`): **Do nothing**. Tip: You can use `remainder='passthrough'` when you create the `ColumTransformer`.\n- Pipeline for categorical variables (`cat_vars`): `OrdinalEncoder(handle_unknown='use_encoded_value', unknown_value=-1)[source]`",
      "metadata": {
        "cell_id": "00023-e15a807e-abd8-4e28-84c0-ec1bae7c22f7",
        "deepnote_cell_type": "markdown"
      }
    },
    {
      "cell_type": "code",
      "metadata": {
        "deletable": false,
        "nbgrader": {
          "cell_type": "code",
          "checksum": "1cd4cdd16f7ac771b2014244d76bc9b9",
          "grade": false,
          "grade_id": "cell-d5bc34b399dc8b7a",
          "locked": false,
          "schema_version": 3,
          "solution": true,
          "task": false
        },
        "cell_id": "00024-6754aeb1-6088-460d-ad48-9b75f1bde510",
        "deepnote_cell_type": "code"
      },
      "source": "# YOUR CODE HERE\nraise NotImplementedError()\n\nmult_prepro",
      "execution_count": null,
      "outputs": []
    },
    {
      "cell_type": "code",
      "metadata": {
        "deletable": false,
        "editable": false,
        "nbgrader": {
          "cell_type": "code",
          "checksum": "4b130d0f54fb35850e5bcea2bfd6794b",
          "grade": true,
          "grade_id": "cell-5938715b631f6081",
          "locked": true,
          "points": 2,
          "schema_version": 3,
          "solution": false,
          "task": false
        },
        "cell_id": "00025-1d1601c7-bbe5-488d-be8b-290e2f4b80ff",
        "deepnote_cell_type": "code"
      },
      "source": "assert type(mult_prepro) is sklearn.compose._column_transformer.ColumnTransformer",
      "execution_count": null,
      "outputs": []
    },
    {
      "cell_type": "markdown",
      "source": "## Exercise 3 (2pts)\nReasearch about som models and its hyperparamters",
      "metadata": {
        "cell_id": "00026-4be6c915-8e55-4863-b027-152a29f794bc",
        "deepnote_cell_type": "markdown"
      }
    },
    {
      "cell_type": "code",
      "metadata": {
        "deletable": false,
        "nbgrader": {
          "cell_type": "code",
          "checksum": "d7adbff0db3e9d7dd7008bbde13d756c",
          "grade": false,
          "grade_id": "cell-b3793d6c01aa98b1",
          "locked": false,
          "schema_version": 3,
          "solution": true,
          "task": false
        },
        "cell_id": "00027-22a66fdc-9a11-4794-8e1d-02c52ea2c48e",
        "deepnote_cell_type": "code"
      },
      "source": "# YOUR CODE HERE\nraise NotImplementedError()",
      "execution_count": null,
      "outputs": []
    },
    {
      "cell_type": "code",
      "metadata": {
        "deletable": false,
        "nbgrader": {
          "cell_type": "code",
          "checksum": "8e9749823b5f8d1003f7dce809b6939c",
          "grade": false,
          "grade_id": "cell-b2aa9f758935ebbf",
          "locked": false,
          "schema_version": 3,
          "solution": true,
          "task": false
        },
        "cell_id": "00028-f4b71610-2a00-4f02-a86a-21717179b084",
        "deepnote_cell_type": "code"
      },
      "source": "x_train, x_valid, y_train, y_valid = model_selection.train_test_split(x, y, test_size=0.4, random_state=0)\n\nresults = pd.DataFrame({'Model': [], 'MSE': [], 'RMSE': [], 'Time': []})\n\nfor name, pipe in all_pipelines.items():\n\n    start_time = time.time()\n    preds = 0\n    # YOUR CODE HERE\n    raise NotImplementedError()\n    \n    \"\"\"\n    results = results.append({\"Model\": name,\n                              \"MSE\":   # mean sqaure error,\n                              \"RMSE\":  #mean square error squared,\n                              \"Time\":  total_time},\n                              ignore_index=True)\n    \"\"\"\n    \n    results_ord = results.sort_values(by=['RMSE'], ascending=True, ignore_index=True)\n    results_ord.index += 1 \n    clear_output()\n    display(results_ord.style.bar(subset=['MSE', 'RMSE'], vmin=0, color='#5fba7d'))",
      "execution_count": null,
      "outputs": []
    },
    {
      "cell_type": "code",
      "metadata": {
        "deletable": false,
        "editable": false,
        "nbgrader": {
          "cell_type": "code",
          "checksum": "c8e143a5d4336a2f22d05d9c54d50b92",
          "grade": true,
          "grade_id": "cell-56489e8dd6257a2a",
          "locked": true,
          "points": 3,
          "schema_version": 3,
          "solution": false,
          "task": false
        },
        "cell_id": "00029-186619f3-ca8b-47f2-a5db-320d4323497d",
        "deepnote_cell_type": "code"
      },
      "source": "assert results_ord['MSE'].max() < 2\nassert results_ord['MSE'].min() < 0.8\nassert results_ord['RMSE'].max() < 1.5\nassert results_ord['RMSE'].min() < 0.9",
      "execution_count": null,
      "outputs": []
    },
    {
      "cell_type": "markdown",
      "source": "### Optional Exercise (optional because it takes a lot of time of computation)\nTrain with a more realable validation data the best models (maybe the best 5 models). You can:\n- Use all training data (without subsample)\n- Use Crosvalidation (`KFold`)(using 3, 5 or 7 folds) instead of `train_test_split`",
      "metadata": {
        "cell_id": "00030-1226fe3f-3180-4411-bd2c-6848d06ab5e6",
        "deepnote_cell_type": "markdown"
      }
    },
    {
      "cell_type": "code",
      "metadata": {
        "cell_id": "00031-572760ec-1bfb-4e34-92cb-5b4ce31984f2",
        "deepnote_cell_type": "code"
      },
      "source": "df   = pd.read_csv(path+\"train.csv\", index_col=\"id\")\n\nprint(\"Using all data with\", len(df), \"rows\")\nx = df[num_vars+cat_vars]\ny = df[\"target\"]",
      "execution_count": null,
      "outputs": []
    },
    {
      "cell_type": "code",
      "metadata": {
        "deletable": false,
        "nbgrader": {
          "cell_type": "code",
          "checksum": "7e555af7bbf548a2dc42d6d50df469e2",
          "grade": false,
          "grade_id": "cell-2f06f87cae93f9e9",
          "locked": false,
          "schema_version": 3,
          "solution": true,
          "task": false
        },
        "cell_id": "00032-ac8373e0-17ee-484c-ade6-6697596ab2b9",
        "deepnote_cell_type": "code"
      },
      "source": "# IMPLEMENT SOMETHING SIMILAR TO THE PROCESS BEFORE\n# BUT USE KFOLD\n\n# YOUR CODE HERE\nraise NotImplementedError()",
      "execution_count": null,
      "outputs": []
    },
    {
      "cell_type": "code",
      "metadata": {
        "cell_id": "00033-900a2ddb-98b2-41b7-bf7a-829fa5eea3ca",
        "deepnote_cell_type": "code"
      },
      "source": "",
      "execution_count": null,
      "outputs": []
    },
    {
      "cell_type": "markdown",
      "source": "<a style='text-decoration:none;line-height:16px;display:flex;color:#5B5B62;padding:10px;justify-content:end;' href='https://deepnote.com?utm_source=created-in-deepnote-cell&projectId=796ba814-f632-4502-b0d7-7e2f8f9e546d' target=\"_blank\">\n<img alt='Created in deepnote.com' style='display:inline;max-height:16px;margin:0px;margin-right:7.5px;' src='data:image/svg+xml;base64,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' > </img>\nCreated in <span style='font-weight:600;margin-left:4px;'>Deepnote</span></a>",
      "metadata": {
        "tags": [],
        "created_in_deepnote_cell": true,
        "deepnote_cell_type": "markdown"
      }
    }
  ],
  "nbformat": 4,
  "nbformat_minor": 4,
  "metadata": {
    "kernelspec": {
      "display_name": "Python 3",
      "language": "python",
      "name": "python3"
    },
    "language_info": {
      "codemirror_mode": {
        "name": "ipython",
        "version": 3
      },
      "file_extension": ".py",
      "mimetype": "text/x-python",
      "name": "python",
      "nbconvert_exporter": "python",
      "pygments_lexer": "ipython3",
      "version": "3.7.10"
    },
    "deepnote_notebook_id": "f307affe-db5f-4b30-879f-f5308576bc16",
    "deepnote": {},
    "deepnote_execution_queue": []
  }
}