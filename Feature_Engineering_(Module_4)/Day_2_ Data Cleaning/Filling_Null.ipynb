{
  "cells": [
    {
      "cell_type": "code",
      "metadata": {
        "tags": [],
        "cell_id": "00000-e17ba7e4-162a-4578-9b00-be880d1e7df3",
        "deepnote_to_be_reexecuted": false,
        "source_hash": "651b7cc5",
        "execution_start": 1620132401650,
        "execution_millis": 790,
        "deepnote_cell_type": "code"
      },
      "source": "import pandas as pd\nimport numpy as np\nimport missingno as m",
      "execution_count": 1,
      "outputs": []
    },
    {
      "cell_type": "code",
      "source": "df=pd.read_csv(\"/work/Strive_School/Feature_Engineering_(Module_4)/Day_2_ Data Cleaning/Building_Permits.csv\")",
      "metadata": {
        "tags": [],
        "cell_id": "00001-0f58e23a-5194-4095-bd24-bb865753dc4f",
        "deepnote_to_be_reexecuted": false,
        "source_hash": "425a27e8",
        "execution_start": 1620132402444,
        "execution_millis": 1286,
        "deepnote_cell_type": "code"
      },
      "outputs": [
        {
          "name": "stderr",
          "text": "/shared-libs/python3.7/py-core/lib/python3.7/site-packages/IPython/core/interactiveshell.py:3166: DtypeWarning: Columns (22,32) have mixed types.Specify dtype option on import or set low_memory=False.\n  interactivity=interactivity, compiler=compiler, result=result)\n",
          "output_type": "stream"
        }
      ],
      "execution_count": 2
    },
    {
      "cell_type": "code",
      "source": "df.head()",
      "metadata": {
        "tags": [],
        "cell_id": "00002-50ebf61b-943e-48e6-a8b3-2a5a1850b5ec",
        "deepnote_to_be_reexecuted": false,
        "source_hash": "c085b6ba",
        "execution_start": 1620132403734,
        "execution_millis": 104,
        "deepnote_cell_type": "code"
      },
      "outputs": [
        {
          "output_type": "execute_result",
          "execution_count": 3,
          "data": {
            "application/vnd.deepnote.dataframe.v2+json": {
              "row_count": 5,
              "column_count": 43,
              "columns": [
                {
                  "name": "Permit Number",
                  "dtype": "object",
                  "stats": {
                    "unique_count": 5,
                    "nan_count": 0,
                    "categories": [
                      {
                        "name": "201505065519",
                        "count": 1
                      },
                      {
                        "name": "201604195146",
                        "count": 1
                      },
                      {
                        "name": "3 others",
                        "count": 3
                      }
                    ]
                  }
                },
                {
                  "name": "Permit Type",
                  "dtype": "int64",
                  "stats": {
                    "unique_count": 4,
                    "nan_count": 0,
                    "min": "3",
                    "max": "8",
                    "histogram": [
                      {
                        "bin_start": 3,
                        "bin_end": 3.5,
                        "count": 1
                      },
                      {
                        "bin_start": 3.5,
                        "bin_end": 4,
                        "count": 0
                      },
                      {
                        "bin_start": 4,
                        "bin_end": 4.5,
                        "count": 2
                      },
                      {
                        "bin_start": 4.5,
                        "bin_end": 5,
                        "count": 0
                      },
                      {
                        "bin_start": 5,
                        "bin_end": 5.5,
                        "count": 0
                      },
                      {
                        "bin_start": 5.5,
                        "bin_end": 6,
                        "count": 0
                      },
                      {
                        "bin_start": 6,
                        "bin_end": 6.5,
                        "count": 1
                      },
                      {
                        "bin_start": 6.5,
                        "bin_end": 7,
                        "count": 0
                      },
                      {
                        "bin_start": 7,
                        "bin_end": 7.5,
                        "count": 0
                      },
                      {
                        "bin_start": 7.5,
                        "bin_end": 8,
                        "count": 1
                      }
                    ]
                  }
                },
                {
                  "name": "Permit Type Definition",
                  "dtype": "object",
                  "stats": {
                    "unique_count": 4,
                    "nan_count": 0,
                    "categories": [
                      {
                        "name": "sign - erect",
                        "count": 2
                      },
                      {
                        "name": "additions alterations or repairs",
                        "count": 1
                      },
                      {
                        "name": "2 others",
                        "count": 2
                      }
                    ]
                  }
                },
                {
                  "name": "Permit Creation Date",
                  "dtype": "object",
                  "stats": {
                    "unique_count": 5,
                    "nan_count": 0,
                    "categories": [
                      {
                        "name": "05/06/2015",
                        "count": 1
                      },
                      {
                        "name": "04/19/2016",
                        "count": 1
                      },
                      {
                        "name": "3 others",
                        "count": 3
                      }
                    ]
                  }
                },
                {
                  "name": "Block",
                  "dtype": "object",
                  "stats": {
                    "unique_count": 5,
                    "nan_count": 0,
                    "categories": [
                      {
                        "name": "0326",
                        "count": 1
                      },
                      {
                        "name": "0306",
                        "count": 1
                      },
                      {
                        "name": "3 others",
                        "count": 3
                      }
                    ]
                  }
                },
                {
                  "name": "Lot",
                  "dtype": "object",
                  "stats": {
                    "unique_count": 5,
                    "nan_count": 0,
                    "categories": [
                      {
                        "name": "023",
                        "count": 1
                      },
                      {
                        "name": "007",
                        "count": 1
                      },
                      {
                        "name": "3 others",
                        "count": 3
                      }
                    ]
                  }
                },
                {
                  "name": "Street Number",
                  "dtype": "int64",
                  "stats": {
                    "unique_count": 5,
                    "nan_count": 0,
                    "min": "140",
                    "max": "1647",
                    "histogram": [
                      {
                        "bin_start": 140,
                        "bin_end": 290.7,
                        "count": 1
                      },
                      {
                        "bin_start": 290.7,
                        "bin_end": 441.4,
                        "count": 1
                      },
                      {
                        "bin_start": 441.4,
                        "bin_end": 592.0999999999999,
                        "count": 0
                      },
                      {
                        "bin_start": 592.0999999999999,
                        "bin_end": 742.8,
                        "count": 0
                      },
                      {
                        "bin_start": 742.8,
                        "bin_end": 893.5,
                        "count": 0
                      },
                      {
                        "bin_start": 893.5,
                        "bin_end": 1044.1999999999998,
                        "count": 1
                      },
                      {
                        "bin_start": 1044.1999999999998,
                        "bin_end": 1194.8999999999999,
                        "count": 0
                      },
                      {
                        "bin_start": 1194.8999999999999,
                        "bin_end": 1345.6,
                        "count": 1
                      },
                      {
                        "bin_start": 1345.6,
                        "bin_end": 1496.3,
                        "count": 0
                      },
                      {
                        "bin_start": 1496.3,
                        "bin_end": 1647,
                        "count": 1
                      }
                    ]
                  }
                },
                {
                  "name": "Street Number Suffix",
                  "dtype": "object",
                  "stats": {
                    "unique_count": 0,
                    "nan_count": 5,
                    "categories": [
                      {
                        "name": "Missing",
                        "count": 5
                      }
                    ]
                  }
                },
                {
                  "name": "Street Name",
                  "dtype": "object",
                  "stats": {
                    "unique_count": 4,
                    "nan_count": 0,
                    "categories": [
                      {
                        "name": "Pacific",
                        "count": 2
                      },
                      {
                        "name": "Ellis",
                        "count": 1
                      },
                      {
                        "name": "2 others",
                        "count": 2
                      }
                    ]
                  }
                },
                {
                  "name": "Street Suffix",
                  "dtype": "object",
                  "stats": {
                    "unique_count": 2,
                    "nan_count": 0,
                    "categories": [
                      {
                        "name": "St",
                        "count": 3
                      },
                      {
                        "name": "Av",
                        "count": 2
                      }
                    ]
                  }
                },
                {
                  "name": "Unit",
                  "dtype": "float64",
                  "stats": {
                    "unique_count": 1,
                    "nan_count": 3,
                    "min": "0.0",
                    "max": "0.0",
                    "histogram": [
                      {
                        "bin_start": -0.5,
                        "bin_end": -0.4,
                        "count": 0
                      },
                      {
                        "bin_start": -0.4,
                        "bin_end": -0.3,
                        "count": 0
                      },
                      {
                        "bin_start": -0.3,
                        "bin_end": -0.19999999999999996,
                        "count": 0
                      },
                      {
                        "bin_start": -0.19999999999999996,
                        "bin_end": -0.09999999999999998,
                        "count": 0
                      },
                      {
                        "bin_start": -0.09999999999999998,
                        "bin_end": 0,
                        "count": 0
                      },
                      {
                        "bin_start": 0,
                        "bin_end": 0.10000000000000009,
                        "count": 2
                      },
                      {
                        "bin_start": 0.10000000000000009,
                        "bin_end": 0.20000000000000007,
                        "count": 0
                      },
                      {
                        "bin_start": 0.20000000000000007,
                        "bin_end": 0.30000000000000004,
                        "count": 0
                      },
                      {
                        "bin_start": 0.30000000000000004,
                        "bin_end": 0.4,
                        "count": 0
                      },
                      {
                        "bin_start": 0.4,
                        "bin_end": 0.5,
                        "count": 0
                      }
                    ]
                  }
                },
                {
                  "name": "Unit Suffix",
                  "dtype": "object",
                  "stats": {
                    "unique_count": 0,
                    "nan_count": 5,
                    "categories": [
                      {
                        "name": "Missing",
                        "count": 5
                      }
                    ]
                  }
                },
                {
                  "name": "Description",
                  "dtype": "object",
                  "stats": {
                    "unique_count": 5,
                    "nan_count": 0,
                    "categories": [
                      {
                        "name": "ground fl facade: to erect illuminated, electric, wall, single faced sign. n/a for maher ordinance 155-13.",
                        "count": 1
                      },
                      {
                        "name": "remove (e) awning and associated signs.",
                        "count": 1
                      },
                      {
                        "name": "3 others",
                        "count": 3
                      }
                    ]
                  }
                },
                {
                  "name": "Current Status",
                  "dtype": "object",
                  "stats": {
                    "unique_count": 4,
                    "nan_count": 0,
                    "categories": [
                      {
                        "name": "issued",
                        "count": 2
                      },
                      {
                        "name": "expired",
                        "count": 1
                      },
                      {
                        "name": "2 others",
                        "count": 2
                      }
                    ]
                  }
                },
                {
                  "name": "Current Status Date",
                  "dtype": "object",
                  "stats": {
                    "unique_count": 5,
                    "nan_count": 0,
                    "categories": [
                      {
                        "name": "12/21/2017",
                        "count": 1
                      },
                      {
                        "name": "08/03/2017",
                        "count": 1
                      },
                      {
                        "name": "3 others",
                        "count": 3
                      }
                    ]
                  }
                },
                {
                  "name": "Filed Date",
                  "dtype": "object",
                  "stats": {
                    "unique_count": 5,
                    "nan_count": 0,
                    "categories": [
                      {
                        "name": "05/06/2015",
                        "count": 1
                      },
                      {
                        "name": "04/19/2016",
                        "count": 1
                      },
                      {
                        "name": "3 others",
                        "count": 3
                      }
                    ]
                  }
                },
                {
                  "name": "Issued Date",
                  "dtype": "object",
                  "stats": {
                    "unique_count": 4,
                    "nan_count": 1,
                    "categories": [
                      {
                        "name": "11/09/2015",
                        "count": 1
                      },
                      {
                        "name": "3 others",
                        "count": 3
                      },
                      {
                        "name": "Missing",
                        "count": 1
                      }
                    ]
                  }
                },
                {
                  "name": "Completed Date",
                  "dtype": "object",
                  "stats": {
                    "unique_count": 1,
                    "nan_count": 4,
                    "categories": [
                      {
                        "name": "07/24/2017",
                        "count": 1
                      },
                      {
                        "name": "Missing",
                        "count": 4
                      }
                    ]
                  }
                },
                {
                  "name": "First Construction Document Date",
                  "dtype": "object",
                  "stats": {
                    "unique_count": 4,
                    "nan_count": 1,
                    "categories": [
                      {
                        "name": "11/09/2015",
                        "count": 1
                      },
                      {
                        "name": "3 others",
                        "count": 3
                      },
                      {
                        "name": "Missing",
                        "count": 1
                      }
                    ]
                  }
                },
                {
                  "name": "Structural Notification",
                  "dtype": "object",
                  "stats": {
                    "unique_count": 0,
                    "nan_count": 5,
                    "categories": [
                      {
                        "name": "Missing",
                        "count": 5
                      }
                    ]
                  }
                },
                {
                  "name": "Number of Existing Stories",
                  "dtype": "float64",
                  "stats": {
                    "unique_count": 4,
                    "nan_count": 0,
                    "min": "2.0",
                    "max": "7.0",
                    "histogram": [
                      {
                        "bin_start": 2,
                        "bin_end": 2.5,
                        "count": 1
                      },
                      {
                        "bin_start": 2.5,
                        "bin_end": 3,
                        "count": 0
                      },
                      {
                        "bin_start": 3,
                        "bin_end": 3.5,
                        "count": 1
                      },
                      {
                        "bin_start": 3.5,
                        "bin_end": 4,
                        "count": 0
                      },
                      {
                        "bin_start": 4,
                        "bin_end": 4.5,
                        "count": 0
                      },
                      {
                        "bin_start": 4.5,
                        "bin_end": 5,
                        "count": 0
                      },
                      {
                        "bin_start": 5,
                        "bin_end": 5.5,
                        "count": 0
                      },
                      {
                        "bin_start": 5.5,
                        "bin_end": 6,
                        "count": 0
                      },
                      {
                        "bin_start": 6,
                        "bin_end": 6.5,
                        "count": 2
                      },
                      {
                        "bin_start": 6.5,
                        "bin_end": 7,
                        "count": 1
                      }
                    ]
                  }
                },
                {
                  "name": "Number of Proposed Stories",
                  "dtype": "float64",
                  "stats": {
                    "unique_count": 2,
                    "nan_count": 3,
                    "min": "2.0",
                    "max": "6.0",
                    "histogram": [
                      {
                        "bin_start": 2,
                        "bin_end": 2.4,
                        "count": 1
                      },
                      {
                        "bin_start": 2.4,
                        "bin_end": 2.8,
                        "count": 0
                      },
                      {
                        "bin_start": 2.8,
                        "bin_end": 3.2,
                        "count": 0
                      },
                      {
                        "bin_start": 3.2,
                        "bin_end": 3.6,
                        "count": 0
                      },
                      {
                        "bin_start": 3.6,
                        "bin_end": 4,
                        "count": 0
                      },
                      {
                        "bin_start": 4,
                        "bin_end": 4.4,
                        "count": 0
                      },
                      {
                        "bin_start": 4.4,
                        "bin_end": 4.800000000000001,
                        "count": 0
                      },
                      {
                        "bin_start": 4.800000000000001,
                        "bin_end": 5.2,
                        "count": 0
                      },
                      {
                        "bin_start": 5.2,
                        "bin_end": 5.6,
                        "count": 0
                      },
                      {
                        "bin_start": 5.6,
                        "bin_end": 6,
                        "count": 1
                      }
                    ]
                  }
                },
                {
                  "name": "Voluntary Soft-Story Retrofit",
                  "dtype": "object",
                  "stats": {
                    "unique_count": 0,
                    "nan_count": 5,
                    "categories": [
                      {
                        "name": "Missing",
                        "count": 5
                      }
                    ]
                  }
                },
                {
                  "name": "Fire Only Permit",
                  "dtype": "object",
                  "stats": {
                    "unique_count": 0,
                    "nan_count": 5,
                    "categories": [
                      {
                        "name": "Missing",
                        "count": 5
                      }
                    ]
                  }
                },
                {
                  "name": "Permit Expiration Date",
                  "dtype": "object",
                  "stats": {
                    "unique_count": 4,
                    "nan_count": 1,
                    "categories": [
                      {
                        "name": "11/03/2016",
                        "count": 1
                      },
                      {
                        "name": "3 others",
                        "count": 3
                      },
                      {
                        "name": "Missing",
                        "count": 1
                      }
                    ]
                  }
                },
                {
                  "name": "Estimated Cost",
                  "dtype": "float64",
                  "stats": {
                    "unique_count": 5,
                    "nan_count": 0,
                    "min": "1.0",
                    "max": "100000.0",
                    "histogram": [
                      {
                        "bin_start": 1,
                        "bin_end": 10000.9,
                        "count": 3
                      },
                      {
                        "bin_start": 10000.9,
                        "bin_end": 20000.8,
                        "count": 1
                      },
                      {
                        "bin_start": 20000.8,
                        "bin_end": 30000.699999999997,
                        "count": 0
                      },
                      {
                        "bin_start": 30000.699999999997,
                        "bin_end": 40000.6,
                        "count": 0
                      },
                      {
                        "bin_start": 40000.6,
                        "bin_end": 50000.5,
                        "count": 0
                      },
                      {
                        "bin_start": 50000.5,
                        "bin_end": 60000.399999999994,
                        "count": 0
                      },
                      {
                        "bin_start": 60000.399999999994,
                        "bin_end": 70000.3,
                        "count": 0
                      },
                      {
                        "bin_start": 70000.3,
                        "bin_end": 80000.2,
                        "count": 0
                      },
                      {
                        "bin_start": 80000.2,
                        "bin_end": 90000.09999999999,
                        "count": 0
                      },
                      {
                        "bin_start": 90000.09999999999,
                        "bin_end": 100000,
                        "count": 1
                      }
                    ]
                  }
                },
                {
                  "name": "Revised Cost",
                  "dtype": "float64",
                  "stats": {
                    "unique_count": 4,
                    "nan_count": 1,
                    "min": "500.0",
                    "max": "100000.0",
                    "histogram": [
                      {
                        "bin_start": 500,
                        "bin_end": 10450,
                        "count": 3
                      },
                      {
                        "bin_start": 10450,
                        "bin_end": 20400,
                        "count": 0
                      },
                      {
                        "bin_start": 20400,
                        "bin_end": 30350,
                        "count": 0
                      },
                      {
                        "bin_start": 30350,
                        "bin_end": 40300,
                        "count": 0
                      },
                      {
                        "bin_start": 40300,
                        "bin_end": 50250,
                        "count": 0
                      },
                      {
                        "bin_start": 50250,
                        "bin_end": 60200,
                        "count": 0
                      },
                      {
                        "bin_start": 60200,
                        "bin_end": 70150,
                        "count": 0
                      },
                      {
                        "bin_start": 70150,
                        "bin_end": 80100,
                        "count": 0
                      },
                      {
                        "bin_start": 80100,
                        "bin_end": 90050,
                        "count": 0
                      },
                      {
                        "bin_start": 90050,
                        "bin_end": 100000,
                        "count": 1
                      }
                    ]
                  }
                },
                {
                  "name": "Existing Use",
                  "dtype": "object",
                  "stats": {
                    "unique_count": 3,
                    "nan_count": 0,
                    "categories": [
                      {
                        "name": "tourist hotel/motel",
                        "count": 2
                      },
                      {
                        "name": "retail sales",
                        "count": 2
                      },
                      {
                        "name": "1 family dwelling",
                        "count": 1
                      }
                    ]
                  }
                },
                {
                  "name": "Existing Units",
                  "dtype": "float64",
                  "stats": {
                    "unique_count": 3,
                    "nan_count": 2,
                    "min": "1.0",
                    "max": "143.0",
                    "histogram": [
                      {
                        "bin_start": 1,
                        "bin_end": 15.2,
                        "count": 1
                      },
                      {
                        "bin_start": 15.2,
                        "bin_end": 29.4,
                        "count": 0
                      },
                      {
                        "bin_start": 29.4,
                        "bin_end": 43.599999999999994,
                        "count": 1
                      },
                      {
                        "bin_start": 43.599999999999994,
                        "bin_end": 57.8,
                        "count": 0
                      },
                      {
                        "bin_start": 57.8,
                        "bin_end": 72,
                        "count": 0
                      },
                      {
                        "bin_start": 72,
                        "bin_end": 86.19999999999999,
                        "count": 0
                      },
                      {
                        "bin_start": 86.19999999999999,
                        "bin_end": 100.39999999999999,
                        "count": 0
                      },
                      {
                        "bin_start": 100.39999999999999,
                        "bin_end": 114.6,
                        "count": 0
                      },
                      {
                        "bin_start": 114.6,
                        "bin_end": 128.8,
                        "count": 0
                      },
                      {
                        "bin_start": 128.8,
                        "bin_end": 143,
                        "count": 1
                      }
                    ]
                  }
                },
                {
                  "name": "Proposed Use",
                  "dtype": "object",
                  "stats": {
                    "unique_count": 2,
                    "nan_count": 3,
                    "categories": [
                      {
                        "name": "retail sales",
                        "count": 1
                      },
                      {
                        "name": "1 family dwelling",
                        "count": 1
                      },
                      {
                        "name": "Missing",
                        "count": 3
                      }
                    ]
                  }
                },
                {
                  "name": "Proposed Units",
                  "dtype": "float64",
                  "stats": {
                    "unique_count": 2,
                    "nan_count": 3,
                    "min": "1.0",
                    "max": "39.0",
                    "histogram": [
                      {
                        "bin_start": 1,
                        "bin_end": 4.8,
                        "count": 1
                      },
                      {
                        "bin_start": 4.8,
                        "bin_end": 8.6,
                        "count": 0
                      },
                      {
                        "bin_start": 8.6,
                        "bin_end": 12.399999999999999,
                        "count": 0
                      },
                      {
                        "bin_start": 12.399999999999999,
                        "bin_end": 16.2,
                        "count": 0
                      },
                      {
                        "bin_start": 16.2,
                        "bin_end": 20,
                        "count": 0
                      },
                      {
                        "bin_start": 20,
                        "bin_end": 23.799999999999997,
                        "count": 0
                      },
                      {
                        "bin_start": 23.799999999999997,
                        "bin_end": 27.599999999999998,
                        "count": 0
                      },
                      {
                        "bin_start": 27.599999999999998,
                        "bin_end": 31.4,
                        "count": 0
                      },
                      {
                        "bin_start": 31.4,
                        "bin_end": 35.199999999999996,
                        "count": 0
                      },
                      {
                        "bin_start": 35.199999999999996,
                        "bin_end": 39,
                        "count": 1
                      }
                    ]
                  }
                },
                {
                  "name": "Plansets",
                  "dtype": "float64",
                  "stats": {
                    "unique_count": 1,
                    "nan_count": 0,
                    "min": "2.0",
                    "max": "2.0",
                    "histogram": [
                      {
                        "bin_start": 1.5,
                        "bin_end": 1.6,
                        "count": 0
                      },
                      {
                        "bin_start": 1.6,
                        "bin_end": 1.7,
                        "count": 0
                      },
                      {
                        "bin_start": 1.7,
                        "bin_end": 1.8,
                        "count": 0
                      },
                      {
                        "bin_start": 1.8,
                        "bin_end": 1.9,
                        "count": 0
                      },
                      {
                        "bin_start": 1.9,
                        "bin_end": 2,
                        "count": 0
                      },
                      {
                        "bin_start": 2,
                        "bin_end": 2.1,
                        "count": 5
                      },
                      {
                        "bin_start": 2.1,
                        "bin_end": 2.2,
                        "count": 0
                      },
                      {
                        "bin_start": 2.2,
                        "bin_end": 2.3,
                        "count": 0
                      },
                      {
                        "bin_start": 2.3,
                        "bin_end": 2.4,
                        "count": 0
                      },
                      {
                        "bin_start": 2.4,
                        "bin_end": 2.5,
                        "count": 0
                      }
                    ]
                  }
                },
                {
                  "name": "TIDF Compliance",
                  "dtype": "object",
                  "stats": {
                    "unique_count": 0,
                    "nan_count": 5,
                    "categories": [
                      {
                        "name": "Missing",
                        "count": 5
                      }
                    ]
                  }
                },
                {
                  "name": "Existing Construction Type",
                  "dtype": "float64",
                  "stats": {
                    "unique_count": 3,
                    "nan_count": 0,
                    "min": "1.0",
                    "max": "5.0",
                    "histogram": [
                      {
                        "bin_start": 1,
                        "bin_end": 1.4,
                        "count": 1
                      },
                      {
                        "bin_start": 1.4,
                        "bin_end": 1.8,
                        "count": 0
                      },
                      {
                        "bin_start": 1.8,
                        "bin_end": 2.2,
                        "count": 0
                      },
                      {
                        "bin_start": 2.2,
                        "bin_end": 2.6,
                        "count": 0
                      },
                      {
                        "bin_start": 2.6,
                        "bin_end": 3,
                        "count": 0
                      },
                      {
                        "bin_start": 3,
                        "bin_end": 3.4000000000000004,
                        "count": 3
                      },
                      {
                        "bin_start": 3.4000000000000004,
                        "bin_end": 3.8000000000000003,
                        "count": 0
                      },
                      {
                        "bin_start": 3.8000000000000003,
                        "bin_end": 4.2,
                        "count": 0
                      },
                      {
                        "bin_start": 4.2,
                        "bin_end": 4.6,
                        "count": 0
                      },
                      {
                        "bin_start": 4.6,
                        "bin_end": 5,
                        "count": 1
                      }
                    ]
                  }
                },
                {
                  "name": "Existing Construction Type Description",
                  "dtype": "object",
                  "stats": {
                    "unique_count": 3,
                    "nan_count": 0,
                    "categories": [
                      {
                        "name": "constr type 3",
                        "count": 3
                      },
                      {
                        "name": "constr type 1",
                        "count": 1
                      },
                      {
                        "name": "wood frame (5)",
                        "count": 1
                      }
                    ]
                  }
                },
                {
                  "name": "Proposed Construction Type",
                  "dtype": "float64",
                  "stats": {
                    "unique_count": 2,
                    "nan_count": 3,
                    "min": "1.0",
                    "max": "5.0",
                    "histogram": [
                      {
                        "bin_start": 1,
                        "bin_end": 1.4,
                        "count": 1
                      },
                      {
                        "bin_start": 1.4,
                        "bin_end": 1.8,
                        "count": 0
                      },
                      {
                        "bin_start": 1.8,
                        "bin_end": 2.2,
                        "count": 0
                      },
                      {
                        "bin_start": 2.2,
                        "bin_end": 2.6,
                        "count": 0
                      },
                      {
                        "bin_start": 2.6,
                        "bin_end": 3,
                        "count": 0
                      },
                      {
                        "bin_start": 3,
                        "bin_end": 3.4000000000000004,
                        "count": 0
                      },
                      {
                        "bin_start": 3.4000000000000004,
                        "bin_end": 3.8000000000000003,
                        "count": 0
                      },
                      {
                        "bin_start": 3.8000000000000003,
                        "bin_end": 4.2,
                        "count": 0
                      },
                      {
                        "bin_start": 4.2,
                        "bin_end": 4.6,
                        "count": 0
                      },
                      {
                        "bin_start": 4.6,
                        "bin_end": 5,
                        "count": 1
                      }
                    ]
                  }
                },
                {
                  "name": "Proposed Construction Type Description",
                  "dtype": "object",
                  "stats": {
                    "unique_count": 2,
                    "nan_count": 3,
                    "categories": [
                      {
                        "name": "constr type 1",
                        "count": 1
                      },
                      {
                        "name": "wood frame (5)",
                        "count": 1
                      },
                      {
                        "name": "Missing",
                        "count": 3
                      }
                    ]
                  }
                },
                {
                  "name": "Site Permit",
                  "dtype": "object",
                  "stats": {
                    "unique_count": 0,
                    "nan_count": 5,
                    "categories": [
                      {
                        "name": "Missing",
                        "count": 5
                      }
                    ]
                  }
                },
                {
                  "name": "Supervisor District",
                  "dtype": "float64",
                  "stats": {
                    "unique_count": 2,
                    "nan_count": 0,
                    "min": "3.0",
                    "max": "6.0",
                    "histogram": [
                      {
                        "bin_start": 3,
                        "bin_end": 3.3,
                        "count": 4
                      },
                      {
                        "bin_start": 3.3,
                        "bin_end": 3.6,
                        "count": 0
                      },
                      {
                        "bin_start": 3.6,
                        "bin_end": 3.9,
                        "count": 0
                      },
                      {
                        "bin_start": 3.9,
                        "bin_end": 4.2,
                        "count": 0
                      },
                      {
                        "bin_start": 4.2,
                        "bin_end": 4.5,
                        "count": 0
                      },
                      {
                        "bin_start": 4.5,
                        "bin_end": 4.8,
                        "count": 0
                      },
                      {
                        "bin_start": 4.8,
                        "bin_end": 5.1,
                        "count": 0
                      },
                      {
                        "bin_start": 5.1,
                        "bin_end": 5.4,
                        "count": 0
                      },
                      {
                        "bin_start": 5.4,
                        "bin_end": 5.699999999999999,
                        "count": 0
                      },
                      {
                        "bin_start": 5.699999999999999,
                        "bin_end": 6,
                        "count": 1
                      }
                    ]
                  }
                },
                {
                  "name": "Neighborhoods - Analysis Boundaries",
                  "dtype": "object",
                  "stats": {
                    "unique_count": 3,
                    "nan_count": 0,
                    "categories": [
                      {
                        "name": "Tenderloin",
                        "count": 3
                      },
                      {
                        "name": "Russian Hill",
                        "count": 1
                      },
                      {
                        "name": "Nob Hill",
                        "count": 1
                      }
                    ]
                  }
                },
                {
                  "name": "Zipcode",
                  "dtype": "float64",
                  "stats": {
                    "unique_count": 2,
                    "nan_count": 0,
                    "min": "94102.0",
                    "max": "94109.0",
                    "histogram": [
                      {
                        "bin_start": 94102,
                        "bin_end": 94102.7,
                        "count": 3
                      },
                      {
                        "bin_start": 94102.7,
                        "bin_end": 94103.4,
                        "count": 0
                      },
                      {
                        "bin_start": 94103.4,
                        "bin_end": 94104.1,
                        "count": 0
                      },
                      {
                        "bin_start": 94104.1,
                        "bin_end": 94104.8,
                        "count": 0
                      },
                      {
                        "bin_start": 94104.8,
                        "bin_end": 94105.5,
                        "count": 0
                      },
                      {
                        "bin_start": 94105.5,
                        "bin_end": 94106.2,
                        "count": 0
                      },
                      {
                        "bin_start": 94106.2,
                        "bin_end": 94106.9,
                        "count": 0
                      },
                      {
                        "bin_start": 94106.9,
                        "bin_end": 94107.6,
                        "count": 0
                      },
                      {
                        "bin_start": 94107.6,
                        "bin_end": 94108.3,
                        "count": 0
                      },
                      {
                        "bin_start": 94108.3,
                        "bin_end": 94109,
                        "count": 2
                      }
                    ]
                  }
                },
                {
                  "name": "Location",
                  "dtype": "object",
                  "stats": {
                    "unique_count": 5,
                    "nan_count": 0,
                    "categories": [
                      {
                        "name": "(37.785719256680785, -122.40852313194863)",
                        "count": 1
                      },
                      {
                        "name": "(37.78733980600732, -122.41063199757738)",
                        "count": 1
                      },
                      {
                        "name": "3 others",
                        "count": 3
                      }
                    ]
                  }
                },
                {
                  "name": "Record ID",
                  "dtype": "int64",
                  "stats": {
                    "unique_count": 5,
                    "nan_count": 0,
                    "min": "144548169992",
                    "max": "1443574295566",
                    "histogram": [
                      {
                        "bin_start": 144548169992,
                        "bin_end": 274450782549.4,
                        "count": 1
                      },
                      {
                        "bin_start": 274450782549.4,
                        "bin_end": 404353395106.8,
                        "count": 0
                      },
                      {
                        "bin_start": 404353395106.8,
                        "bin_end": 534256007664.19995,
                        "count": 0
                      },
                      {
                        "bin_start": 534256007664.19995,
                        "bin_end": 664158620221.6,
                        "count": 0
                      },
                      {
                        "bin_start": 664158620221.6,
                        "bin_end": 794061232779,
                        "count": 0
                      },
                      {
                        "bin_start": 794061232779,
                        "bin_end": 923963845336.3999,
                        "count": 0
                      },
                      {
                        "bin_start": 923963845336.3999,
                        "bin_end": 1053866457893.7999,
                        "count": 0
                      },
                      {
                        "bin_start": 1053866457893.7999,
                        "bin_end": 1183769070451.2,
                        "count": 0
                      },
                      {
                        "bin_start": 1183769070451.2,
                        "bin_end": 1313671683008.5999,
                        "count": 0
                      },
                      {
                        "bin_start": 1313671683008.5999,
                        "bin_end": 1443574295566,
                        "count": 4
                      }
                    ]
                  }
                },
                {
                  "name": "_deepnote_index_column",
                  "dtype": "int64"
                }
              ],
              "rows_top": [
                {
                  "Permit Number": "201505065519",
                  "Permit Type": 4,
                  "Permit Type Definition": "sign - erect",
                  "Permit Creation Date": "05/06/2015",
                  "Block": "0326",
                  "Lot": "023",
                  "Street Number": 140,
                  "Street Number Suffix": "nan",
                  "Street Name": "Ellis",
                  "Street Suffix": "St",
                  "Unit": "nan",
                  "Unit Suffix": "nan",
                  "Description": "ground fl facade: to erect illuminated, electric, wall, single faced sign. n/a for maher ordinance 155-13.",
                  "Current Status": "expired",
                  "Current Status Date": "12/21/2017",
                  "Filed Date": "05/06/2015",
                  "Issued Date": "11/09/2015",
                  "Completed Date": "nan",
                  "First Construction Document Date": "11/09/2015",
                  "Structural Notification": "nan",
                  "Number of Existing Stories": 6,
                  "Number of Proposed Stories": "nan",
                  "Voluntary Soft-Story Retrofit": "nan",
                  "Fire Only Permit": "nan",
                  "Permit Expiration Date": "11/03/2016",
                  "Estimated Cost": 4000,
                  "Revised Cost": "4000.0",
                  "Existing Use": "tourist hotel/motel",
                  "Existing Units": "143.0",
                  "Proposed Use": "nan",
                  "Proposed Units": "nan",
                  "Plansets": 2,
                  "TIDF Compliance": "nan",
                  "Existing Construction Type": 3,
                  "Existing Construction Type Description": "constr type 3",
                  "Proposed Construction Type": "nan",
                  "Proposed Construction Type Description": "nan",
                  "Site Permit": "nan",
                  "Supervisor District": 3,
                  "Neighborhoods - Analysis Boundaries": "Tenderloin",
                  "Zipcode": 94102,
                  "Location": "(37.785719256680785, -122.40852313194863)",
                  "Record ID": 1380611233945,
                  "_deepnote_index_column": 0
                },
                {
                  "Permit Number": "201604195146",
                  "Permit Type": 4,
                  "Permit Type Definition": "sign - erect",
                  "Permit Creation Date": "04/19/2016",
                  "Block": "0306",
                  "Lot": "007",
                  "Street Number": 440,
                  "Street Number Suffix": "nan",
                  "Street Name": "Geary",
                  "Street Suffix": "St",
                  "Unit": "0.0",
                  "Unit Suffix": "nan",
                  "Description": "remove (e) awning and associated signs.",
                  "Current Status": "issued",
                  "Current Status Date": "08/03/2017",
                  "Filed Date": "04/19/2016",
                  "Issued Date": "08/03/2017",
                  "Completed Date": "nan",
                  "First Construction Document Date": "08/03/2017",
                  "Structural Notification": "nan",
                  "Number of Existing Stories": 7,
                  "Number of Proposed Stories": "nan",
                  "Voluntary Soft-Story Retrofit": "nan",
                  "Fire Only Permit": "nan",
                  "Permit Expiration Date": "12/03/2017",
                  "Estimated Cost": 1,
                  "Revised Cost": "500.0",
                  "Existing Use": "tourist hotel/motel",
                  "Existing Units": "nan",
                  "Proposed Use": "nan",
                  "Proposed Units": "nan",
                  "Plansets": 2,
                  "TIDF Compliance": "nan",
                  "Existing Construction Type": 3,
                  "Existing Construction Type Description": "constr type 3",
                  "Proposed Construction Type": "nan",
                  "Proposed Construction Type Description": "nan",
                  "Site Permit": "nan",
                  "Supervisor District": 3,
                  "Neighborhoods - Analysis Boundaries": "Tenderloin",
                  "Zipcode": 94102,
                  "Location": "(37.78733980600732, -122.41063199757738)",
                  "Record ID": 1420164406718,
                  "_deepnote_index_column": 1
                },
                {
                  "Permit Number": "201605278609",
                  "Permit Type": 3,
                  "Permit Type Definition": "additions alterations or repairs",
                  "Permit Creation Date": "05/27/2016",
                  "Block": "0595",
                  "Lot": "203",
                  "Street Number": 1647,
                  "Street Number Suffix": "nan",
                  "Street Name": "Pacific",
                  "Street Suffix": "Av",
                  "Unit": "nan",
                  "Unit Suffix": "nan",
                  "Description": "installation of separating wall",
                  "Current Status": "withdrawn",
                  "Current Status Date": "09/26/2017",
                  "Filed Date": "05/27/2016",
                  "Issued Date": "nan",
                  "Completed Date": "nan",
                  "First Construction Document Date": "nan",
                  "Structural Notification": "nan",
                  "Number of Existing Stories": 6,
                  "Number of Proposed Stories": "6.0",
                  "Voluntary Soft-Story Retrofit": "nan",
                  "Fire Only Permit": "nan",
                  "Permit Expiration Date": "nan",
                  "Estimated Cost": 20000,
                  "Revised Cost": "nan",
                  "Existing Use": "retail sales",
                  "Existing Units": "39.0",
                  "Proposed Use": "retail sales",
                  "Proposed Units": "39.0",
                  "Plansets": 2,
                  "TIDF Compliance": "nan",
                  "Existing Construction Type": 1,
                  "Existing Construction Type Description": "constr type 1",
                  "Proposed Construction Type": "1.0",
                  "Proposed Construction Type Description": "constr type 1",
                  "Site Permit": "nan",
                  "Supervisor District": 3,
                  "Neighborhoods - Analysis Boundaries": "Russian Hill",
                  "Zipcode": 94109,
                  "Location": "(37.7946573324287, -122.42232562979227)",
                  "Record ID": 1424856504716,
                  "_deepnote_index_column": 2
                },
                {
                  "Permit Number": "201611072166",
                  "Permit Type": 8,
                  "Permit Type Definition": "otc alterations permit",
                  "Permit Creation Date": "11/07/2016",
                  "Block": "0156",
                  "Lot": "011",
                  "Street Number": 1230,
                  "Street Number Suffix": "nan",
                  "Street Name": "Pacific",
                  "Street Suffix": "Av",
                  "Unit": "0.0",
                  "Unit Suffix": "nan",
                  "Description": "repair dryrot & stucco at front of bldg.",
                  "Current Status": "complete",
                  "Current Status Date": "07/24/2017",
                  "Filed Date": "11/07/2016",
                  "Issued Date": "07/18/2017",
                  "Completed Date": "07/24/2017",
                  "First Construction Document Date": "07/18/2017",
                  "Structural Notification": "nan",
                  "Number of Existing Stories": 2,
                  "Number of Proposed Stories": "2.0",
                  "Voluntary Soft-Story Retrofit": "nan",
                  "Fire Only Permit": "nan",
                  "Permit Expiration Date": "07/13/2018",
                  "Estimated Cost": 2000,
                  "Revised Cost": "2000.0",
                  "Existing Use": "1 family dwelling",
                  "Existing Units": "1.0",
                  "Proposed Use": "1 family dwelling",
                  "Proposed Units": "1.0",
                  "Plansets": 2,
                  "TIDF Compliance": "nan",
                  "Existing Construction Type": 5,
                  "Existing Construction Type Description": "wood frame (5)",
                  "Proposed Construction Type": "5.0",
                  "Proposed Construction Type Description": "wood frame (5)",
                  "Site Permit": "nan",
                  "Supervisor District": 3,
                  "Neighborhoods - Analysis Boundaries": "Nob Hill",
                  "Zipcode": 94109,
                  "Location": "(37.79595867909168, -122.41557405519474)",
                  "Record ID": 1443574295566,
                  "_deepnote_index_column": 3
                },
                {
                  "Permit Number": "201611283529",
                  "Permit Type": 6,
                  "Permit Type Definition": "demolitions",
                  "Permit Creation Date": "11/28/2016",
                  "Block": "0342",
                  "Lot": "001",
                  "Street Number": 950,
                  "Street Number Suffix": "nan",
                  "Street Name": "Market",
                  "Street Suffix": "St",
                  "Unit": "nan",
                  "Unit Suffix": "nan",
                  "Description": "demolish retail/office/commercial 3-story building",
                  "Current Status": "issued",
                  "Current Status Date": "12/01/2017",
                  "Filed Date": "11/28/2016",
                  "Issued Date": "12/01/2017",
                  "Completed Date": "nan",
                  "First Construction Document Date": "11/20/2017",
                  "Structural Notification": "nan",
                  "Number of Existing Stories": 3,
                  "Number of Proposed Stories": "nan",
                  "Voluntary Soft-Story Retrofit": "nan",
                  "Fire Only Permit": "nan",
                  "Permit Expiration Date": "12/01/2018",
                  "Estimated Cost": 100000,
                  "Revised Cost": "100000.0",
                  "Existing Use": "retail sales",
                  "Existing Units": "nan",
                  "Proposed Use": "nan",
                  "Proposed Units": "nan",
                  "Plansets": 2,
                  "TIDF Compliance": "nan",
                  "Existing Construction Type": 3,
                  "Existing Construction Type Description": "constr type 3",
                  "Proposed Construction Type": "nan",
                  "Proposed Construction Type Description": "nan",
                  "Site Permit": "nan",
                  "Supervisor District": 6,
                  "Neighborhoods - Analysis Boundaries": "Tenderloin",
                  "Zipcode": 94102,
                  "Location": "(37.78315261897309, -122.40950883997789)",
                  "Record ID": 144548169992,
                  "_deepnote_index_column": 4
                }
              ],
              "rows_bottom": null
            },
            "text/plain": "  Permit Number  Permit Type            Permit Type Definition  \\\n0  201505065519            4                      sign - erect   \n1  201604195146            4                      sign - erect   \n2  201605278609            3  additions alterations or repairs   \n3  201611072166            8            otc alterations permit   \n4  201611283529            6                       demolitions   \n\n  Permit Creation Date Block  Lot  Street Number Street Number Suffix  \\\n0           05/06/2015  0326  023            140                  NaN   \n1           04/19/2016  0306  007            440                  NaN   \n2           05/27/2016  0595  203           1647                  NaN   \n3           11/07/2016  0156  011           1230                  NaN   \n4           11/28/2016  0342  001            950                  NaN   \n\n  Street Name Street Suffix  ...  Existing Construction Type  \\\n0       Ellis            St  ...                         3.0   \n1       Geary            St  ...                         3.0   \n2     Pacific            Av  ...                         1.0   \n3     Pacific            Av  ...                         5.0   \n4      Market            St  ...                         3.0   \n\n  Existing Construction Type Description Proposed Construction Type  \\\n0                          constr type 3                        NaN   \n1                          constr type 3                        NaN   \n2                          constr type 1                        1.0   \n3                         wood frame (5)                        5.0   \n4                          constr type 3                        NaN   \n\n  Proposed Construction Type Description Site Permit Supervisor District  \\\n0                                    NaN         NaN                 3.0   \n1                                    NaN         NaN                 3.0   \n2                          constr type 1         NaN                 3.0   \n3                         wood frame (5)         NaN                 3.0   \n4                                    NaN         NaN                 6.0   \n\n  Neighborhoods - Analysis Boundaries  Zipcode  \\\n0                          Tenderloin  94102.0   \n1                          Tenderloin  94102.0   \n2                        Russian Hill  94109.0   \n3                            Nob Hill  94109.0   \n4                          Tenderloin  94102.0   \n\n                                    Location      Record ID  \n0  (37.785719256680785, -122.40852313194863)  1380611233945  \n1   (37.78733980600732, -122.41063199757738)  1420164406718  \n2    (37.7946573324287, -122.42232562979227)  1424856504716  \n3   (37.79595867909168, -122.41557405519474)  1443574295566  \n4   (37.78315261897309, -122.40950883997789)   144548169992  \n\n[5 rows x 43 columns]",
            "text/html": "<div>\n<style scoped>\n    .dataframe tbody tr th:only-of-type {\n        vertical-align: middle;\n    }\n\n    .dataframe tbody tr th {\n        vertical-align: top;\n    }\n\n    .dataframe thead th {\n        text-align: right;\n    }\n</style>\n<table border=\"1\" class=\"dataframe\">\n  <thead>\n    <tr style=\"text-align: right;\">\n      <th></th>\n      <th>Permit Number</th>\n      <th>Permit Type</th>\n      <th>Permit Type Definition</th>\n      <th>Permit Creation Date</th>\n      <th>Block</th>\n      <th>Lot</th>\n      <th>Street Number</th>\n      <th>Street Number Suffix</th>\n      <th>Street Name</th>\n      <th>Street Suffix</th>\n      <th>...</th>\n      <th>Existing Construction Type</th>\n      <th>Existing Construction Type Description</th>\n      <th>Proposed Construction Type</th>\n      <th>Proposed Construction Type Description</th>\n      <th>Site Permit</th>\n      <th>Supervisor District</th>\n      <th>Neighborhoods - Analysis Boundaries</th>\n      <th>Zipcode</th>\n      <th>Location</th>\n      <th>Record ID</th>\n    </tr>\n  </thead>\n  <tbody>\n    <tr>\n      <th>0</th>\n      <td>201505065519</td>\n      <td>4</td>\n      <td>sign - erect</td>\n      <td>05/06/2015</td>\n      <td>0326</td>\n      <td>023</td>\n      <td>140</td>\n      <td>NaN</td>\n      <td>Ellis</td>\n      <td>St</td>\n      <td>...</td>\n      <td>3.0</td>\n      <td>constr type 3</td>\n      <td>NaN</td>\n      <td>NaN</td>\n      <td>NaN</td>\n      <td>3.0</td>\n      <td>Tenderloin</td>\n      <td>94102.0</td>\n      <td>(37.785719256680785, -122.40852313194863)</td>\n      <td>1380611233945</td>\n    </tr>\n    <tr>\n      <th>1</th>\n      <td>201604195146</td>\n      <td>4</td>\n      <td>sign - erect</td>\n      <td>04/19/2016</td>\n      <td>0306</td>\n      <td>007</td>\n      <td>440</td>\n      <td>NaN</td>\n      <td>Geary</td>\n      <td>St</td>\n      <td>...</td>\n      <td>3.0</td>\n      <td>constr type 3</td>\n      <td>NaN</td>\n      <td>NaN</td>\n      <td>NaN</td>\n      <td>3.0</td>\n      <td>Tenderloin</td>\n      <td>94102.0</td>\n      <td>(37.78733980600732, -122.41063199757738)</td>\n      <td>1420164406718</td>\n    </tr>\n    <tr>\n      <th>2</th>\n      <td>201605278609</td>\n      <td>3</td>\n      <td>additions alterations or repairs</td>\n      <td>05/27/2016</td>\n      <td>0595</td>\n      <td>203</td>\n      <td>1647</td>\n      <td>NaN</td>\n      <td>Pacific</td>\n      <td>Av</td>\n      <td>...</td>\n      <td>1.0</td>\n      <td>constr type 1</td>\n      <td>1.0</td>\n      <td>constr type 1</td>\n      <td>NaN</td>\n      <td>3.0</td>\n      <td>Russian Hill</td>\n      <td>94109.0</td>\n      <td>(37.7946573324287, -122.42232562979227)</td>\n      <td>1424856504716</td>\n    </tr>\n    <tr>\n      <th>3</th>\n      <td>201611072166</td>\n      <td>8</td>\n      <td>otc alterations permit</td>\n      <td>11/07/2016</td>\n      <td>0156</td>\n      <td>011</td>\n      <td>1230</td>\n      <td>NaN</td>\n      <td>Pacific</td>\n      <td>Av</td>\n      <td>...</td>\n      <td>5.0</td>\n      <td>wood frame (5)</td>\n      <td>5.0</td>\n      <td>wood frame (5)</td>\n      <td>NaN</td>\n      <td>3.0</td>\n      <td>Nob Hill</td>\n      <td>94109.0</td>\n      <td>(37.79595867909168, -122.41557405519474)</td>\n      <td>1443574295566</td>\n    </tr>\n    <tr>\n      <th>4</th>\n      <td>201611283529</td>\n      <td>6</td>\n      <td>demolitions</td>\n      <td>11/28/2016</td>\n      <td>0342</td>\n      <td>001</td>\n      <td>950</td>\n      <td>NaN</td>\n      <td>Market</td>\n      <td>St</td>\n      <td>...</td>\n      <td>3.0</td>\n      <td>constr type 3</td>\n      <td>NaN</td>\n      <td>NaN</td>\n      <td>NaN</td>\n      <td>6.0</td>\n      <td>Tenderloin</td>\n      <td>94102.0</td>\n      <td>(37.78315261897309, -122.40950883997789)</td>\n      <td>144548169992</td>\n    </tr>\n  </tbody>\n</table>\n<p>5 rows × 43 columns</p>\n</div>"
          },
          "metadata": {}
        }
      ],
      "execution_count": 3
    },
    {
      "cell_type": "code",
      "source": "m.matrix(df)",
      "metadata": {
        "tags": [],
        "cell_id": "00003-8c84f66a-cd04-4a69-aa6a-fb48ec9ad61c",
        "deepnote_to_be_reexecuted": false,
        "source_hash": "da2e90b2",
        "execution_start": 1620132403836,
        "execution_millis": 3054,
        "deepnote_cell_type": "code"
      },
      "outputs": [
        {
          "output_type": "execute_result",
          "execution_count": 4,
          "data": {
            "text/plain": "<AxesSubplot:>"
          },
          "metadata": {}
        },
        {
          "data": {
            "text/plain": "<Figure size 1800x720 with 2 Axes>",
            "image/png": "[encoded data removed]"
          },
          "metadata": {
            "needs_background": "light",
            "image/png": {
              "width": 1510,
              "height": 813
            }
          },
          "output_type": "display_data"
        }
      ],
      "execution_count": 4
    },
    {
      "cell_type": "markdown",
      "source": "#### Dropping columns which have high null values",
      "metadata": {
        "tags": [],
        "cell_id": "00004-45e191e0-b507-4e87-aff3-f809493067ff",
        "deepnote_cell_type": "markdown"
      }
    },
    {
      "cell_type": "code",
      "source": "df=df.drop([\"Street Number Suffix\",\"Unit\",\"Unit Suffix\",\"Structural Notification\",\"Voluntary Soft-Story Retrofit\",\"Fire Only Permit\",\"TIDF Compliance\",\"Site Permit\",],axis=1)\n",
      "metadata": {
        "tags": [],
        "cell_id": "00004-f28f8f5f-a821-49f5-bbd7-0193e2a1f9a6",
        "deepnote_to_be_reexecuted": false,
        "source_hash": "c349eb4d",
        "execution_start": 1620132406885,
        "execution_millis": 31,
        "deepnote_cell_type": "code"
      },
      "outputs": [],
      "execution_count": 5
    },
    {
      "cell_type": "code",
      "source": "m.matrix(df)",
      "metadata": {
        "tags": [],
        "cell_id": "00005-5171efab-2df2-4d1d-96f4-4278800b6d66",
        "deepnote_to_be_reexecuted": false,
        "source_hash": "da2e90b2",
        "execution_start": 1620132407110,
        "execution_millis": 2370,
        "deepnote_cell_type": "code"
      },
      "outputs": [
        {
          "output_type": "execute_result",
          "execution_count": 6,
          "data": {
            "text/plain": "<AxesSubplot:>"
          },
          "metadata": {}
        },
        {
          "data": {
            "text/plain": "<Figure size 1800x720 with 2 Axes>",
            "image/png": "[encoded data removed]"
          },
          "metadata": {
            "needs_background": "light",
            "image/png": {
              "width": 1510,
              "height": 813
            }
          },
          "output_type": "display_data"
        }
      ],
      "execution_count": 6
    },
    {
      "cell_type": "code",
      "source": "df.head()",
      "metadata": {
        "tags": [],
        "cell_id": "00007-64821cd9-2f83-4e36-8aaa-f1e2dbbd41aa",
        "deepnote_to_be_reexecuted": false,
        "source_hash": "c085b6ba",
        "execution_start": 1620132444285,
        "execution_millis": 130,
        "deepnote_cell_type": "code"
      },
      "outputs": [
        {
          "output_type": "execute_result",
          "execution_count": 8,
          "data": {
            "application/vnd.deepnote.dataframe.v2+json": {
              "row_count": 5,
              "column_count": 35,
              "columns": [
                {
                  "name": "Permit Number",
                  "dtype": "object",
                  "stats": {
                    "unique_count": 5,
                    "nan_count": 0,
                    "categories": [
                      {
                        "name": "201505065519",
                        "count": 1
                      },
                      {
                        "name": "201604195146",
                        "count": 1
                      },
                      {
                        "name": "3 others",
                        "count": 3
                      }
                    ]
                  }
                },
                {
                  "name": "Permit Type",
                  "dtype": "int64",
                  "stats": {
                    "unique_count": 4,
                    "nan_count": 0,
                    "min": "3",
                    "max": "8",
                    "histogram": [
                      {
                        "bin_start": 3,
                        "bin_end": 3.5,
                        "count": 1
                      },
                      {
                        "bin_start": 3.5,
                        "bin_end": 4,
                        "count": 0
                      },
                      {
                        "bin_start": 4,
                        "bin_end": 4.5,
                        "count": 2
                      },
                      {
                        "bin_start": 4.5,
                        "bin_end": 5,
                        "count": 0
                      },
                      {
                        "bin_start": 5,
                        "bin_end": 5.5,
                        "count": 0
                      },
                      {
                        "bin_start": 5.5,
                        "bin_end": 6,
                        "count": 0
                      },
                      {
                        "bin_start": 6,
                        "bin_end": 6.5,
                        "count": 1
                      },
                      {
                        "bin_start": 6.5,
                        "bin_end": 7,
                        "count": 0
                      },
                      {
                        "bin_start": 7,
                        "bin_end": 7.5,
                        "count": 0
                      },
                      {
                        "bin_start": 7.5,
                        "bin_end": 8,
                        "count": 1
                      }
                    ]
                  }
                },
                {
                  "name": "Permit Type Definition",
                  "dtype": "object",
                  "stats": {
                    "unique_count": 4,
                    "nan_count": 0,
                    "categories": [
                      {
                        "name": "sign - erect",
                        "count": 2
                      },
                      {
                        "name": "additions alterations or repairs",
                        "count": 1
                      },
                      {
                        "name": "2 others",
                        "count": 2
                      }
                    ]
                  }
                },
                {
                  "name": "Permit Creation Date",
                  "dtype": "object",
                  "stats": {
                    "unique_count": 5,
                    "nan_count": 0,
                    "categories": [
                      {
                        "name": "05/06/2015",
                        "count": 1
                      },
                      {
                        "name": "04/19/2016",
                        "count": 1
                      },
                      {
                        "name": "3 others",
                        "count": 3
                      }
                    ]
                  }
                },
                {
                  "name": "Block",
                  "dtype": "object",
                  "stats": {
                    "unique_count": 5,
                    "nan_count": 0,
                    "categories": [
                      {
                        "name": "0326",
                        "count": 1
                      },
                      {
                        "name": "0306",
                        "count": 1
                      },
                      {
                        "name": "3 others",
                        "count": 3
                      }
                    ]
                  }
                },
                {
                  "name": "Lot",
                  "dtype": "object",
                  "stats": {
                    "unique_count": 5,
                    "nan_count": 0,
                    "categories": [
                      {
                        "name": "023",
                        "count": 1
                      },
                      {
                        "name": "007",
                        "count": 1
                      },
                      {
                        "name": "3 others",
                        "count": 3
                      }
                    ]
                  }
                },
                {
                  "name": "Street Number",
                  "dtype": "int64",
                  "stats": {
                    "unique_count": 5,
                    "nan_count": 0,
                    "min": "140",
                    "max": "1647",
                    "histogram": [
                      {
                        "bin_start": 140,
                        "bin_end": 290.7,
                        "count": 1
                      },
                      {
                        "bin_start": 290.7,
                        "bin_end": 441.4,
                        "count": 1
                      },
                      {
                        "bin_start": 441.4,
                        "bin_end": 592.0999999999999,
                        "count": 0
                      },
                      {
                        "bin_start": 592.0999999999999,
                        "bin_end": 742.8,
                        "count": 0
                      },
                      {
                        "bin_start": 742.8,
                        "bin_end": 893.5,
                        "count": 0
                      },
                      {
                        "bin_start": 893.5,
                        "bin_end": 1044.1999999999998,
                        "count": 1
                      },
                      {
                        "bin_start": 1044.1999999999998,
                        "bin_end": 1194.8999999999999,
                        "count": 0
                      },
                      {
                        "bin_start": 1194.8999999999999,
                        "bin_end": 1345.6,
                        "count": 1
                      },
                      {
                        "bin_start": 1345.6,
                        "bin_end": 1496.3,
                        "count": 0
                      },
                      {
                        "bin_start": 1496.3,
                        "bin_end": 1647,
                        "count": 1
                      }
                    ]
                  }
                },
                {
                  "name": "Street Name",
                  "dtype": "object",
                  "stats": {
                    "unique_count": 4,
                    "nan_count": 0,
                    "categories": [
                      {
                        "name": "Pacific",
                        "count": 2
                      },
                      {
                        "name": "Ellis",
                        "count": 1
                      },
                      {
                        "name": "2 others",
                        "count": 2
                      }
                    ]
                  }
                },
                {
                  "name": "Street Suffix",
                  "dtype": "object",
                  "stats": {
                    "unique_count": 2,
                    "nan_count": 0,
                    "categories": [
                      {
                        "name": "St",
                        "count": 3
                      },
                      {
                        "name": "Av",
                        "count": 2
                      }
                    ]
                  }
                },
                {
                  "name": "Description",
                  "dtype": "object",
                  "stats": {
                    "unique_count": 5,
                    "nan_count": 0,
                    "categories": [
                      {
                        "name": "ground fl facade: to erect illuminated, electric, wall, single faced sign. n/a for maher ordinance 155-13.",
                        "count": 1
                      },
                      {
                        "name": "remove (e) awning and associated signs.",
                        "count": 1
                      },
                      {
                        "name": "3 others",
                        "count": 3
                      }
                    ]
                  }
                },
                {
                  "name": "Current Status",
                  "dtype": "object",
                  "stats": {
                    "unique_count": 4,
                    "nan_count": 0,
                    "categories": [
                      {
                        "name": "issued",
                        "count": 2
                      },
                      {
                        "name": "expired",
                        "count": 1
                      },
                      {
                        "name": "2 others",
                        "count": 2
                      }
                    ]
                  }
                },
                {
                  "name": "Current Status Date",
                  "dtype": "object",
                  "stats": {
                    "unique_count": 5,
                    "nan_count": 0,
                    "categories": [
                      {
                        "name": "12/21/2017",
                        "count": 1
                      },
                      {
                        "name": "08/03/2017",
                        "count": 1
                      },
                      {
                        "name": "3 others",
                        "count": 3
                      }
                    ]
                  }
                },
                {
                  "name": "Filed Date",
                  "dtype": "object",
                  "stats": {
                    "unique_count": 5,
                    "nan_count": 0,
                    "categories": [
                      {
                        "name": "05/06/2015",
                        "count": 1
                      },
                      {
                        "name": "04/19/2016",
                        "count": 1
                      },
                      {
                        "name": "3 others",
                        "count": 3
                      }
                    ]
                  }
                },
                {
                  "name": "Issued Date",
                  "dtype": "object",
                  "stats": {
                    "unique_count": 4,
                    "nan_count": 1,
                    "categories": [
                      {
                        "name": "11/09/2015",
                        "count": 1
                      },
                      {
                        "name": "3 others",
                        "count": 3
                      },
                      {
                        "name": "Missing",
                        "count": 1
                      }
                    ]
                  }
                },
                {
                  "name": "Completed Date",
                  "dtype": "object",
                  "stats": {
                    "unique_count": 1,
                    "nan_count": 4,
                    "categories": [
                      {
                        "name": "07/24/2017",
                        "count": 1
                      },
                      {
                        "name": "Missing",
                        "count": 4
                      }
                    ]
                  }
                },
                {
                  "name": "First Construction Document Date",
                  "dtype": "object",
                  "stats": {
                    "unique_count": 4,
                    "nan_count": 1,
                    "categories": [
                      {
                        "name": "11/09/2015",
                        "count": 1
                      },
                      {
                        "name": "3 others",
                        "count": 3
                      },
                      {
                        "name": "Missing",
                        "count": 1
                      }
                    ]
                  }
                },
                {
                  "name": "Number of Existing Stories",
                  "dtype": "float64",
                  "stats": {
                    "unique_count": 4,
                    "nan_count": 0,
                    "min": "2.0",
                    "max": "7.0",
                    "histogram": [
                      {
                        "bin_start": 2,
                        "bin_end": 2.5,
                        "count": 1
                      },
                      {
                        "bin_start": 2.5,
                        "bin_end": 3,
                        "count": 0
                      },
                      {
                        "bin_start": 3,
                        "bin_end": 3.5,
                        "count": 1
                      },
                      {
                        "bin_start": 3.5,
                        "bin_end": 4,
                        "count": 0
                      },
                      {
                        "bin_start": 4,
                        "bin_end": 4.5,
                        "count": 0
                      },
                      {
                        "bin_start": 4.5,
                        "bin_end": 5,
                        "count": 0
                      },
                      {
                        "bin_start": 5,
                        "bin_end": 5.5,
                        "count": 0
                      },
                      {
                        "bin_start": 5.5,
                        "bin_end": 6,
                        "count": 0
                      },
                      {
                        "bin_start": 6,
                        "bin_end": 6.5,
                        "count": 2
                      },
                      {
                        "bin_start": 6.5,
                        "bin_end": 7,
                        "count": 1
                      }
                    ]
                  }
                },
                {
                  "name": "Number of Proposed Stories",
                  "dtype": "float64",
                  "stats": {
                    "unique_count": 2,
                    "nan_count": 3,
                    "min": "2.0",
                    "max": "6.0",
                    "histogram": [
                      {
                        "bin_start": 2,
                        "bin_end": 2.4,
                        "count": 1
                      },
                      {
                        "bin_start": 2.4,
                        "bin_end": 2.8,
                        "count": 0
                      },
                      {
                        "bin_start": 2.8,
                        "bin_end": 3.2,
                        "count": 0
                      },
                      {
                        "bin_start": 3.2,
                        "bin_end": 3.6,
                        "count": 0
                      },
                      {
                        "bin_start": 3.6,
                        "bin_end": 4,
                        "count": 0
                      },
                      {
                        "bin_start": 4,
                        "bin_end": 4.4,
                        "count": 0
                      },
                      {
                        "bin_start": 4.4,
                        "bin_end": 4.800000000000001,
                        "count": 0
                      },
                      {
                        "bin_start": 4.800000000000001,
                        "bin_end": 5.2,
                        "count": 0
                      },
                      {
                        "bin_start": 5.2,
                        "bin_end": 5.6,
                        "count": 0
                      },
                      {
                        "bin_start": 5.6,
                        "bin_end": 6,
                        "count": 1
                      }
                    ]
                  }
                },
                {
                  "name": "Permit Expiration Date",
                  "dtype": "object",
                  "stats": {
                    "unique_count": 4,
                    "nan_count": 1,
                    "categories": [
                      {
                        "name": "11/03/2016",
                        "count": 1
                      },
                      {
                        "name": "3 others",
                        "count": 3
                      },
                      {
                        "name": "Missing",
                        "count": 1
                      }
                    ]
                  }
                },
                {
                  "name": "Estimated Cost",
                  "dtype": "float64",
                  "stats": {
                    "unique_count": 5,
                    "nan_count": 0,
                    "min": "1.0",
                    "max": "100000.0",
                    "histogram": [
                      {
                        "bin_start": 1,
                        "bin_end": 10000.9,
                        "count": 3
                      },
                      {
                        "bin_start": 10000.9,
                        "bin_end": 20000.8,
                        "count": 1
                      },
                      {
                        "bin_start": 20000.8,
                        "bin_end": 30000.699999999997,
                        "count": 0
                      },
                      {
                        "bin_start": 30000.699999999997,
                        "bin_end": 40000.6,
                        "count": 0
                      },
                      {
                        "bin_start": 40000.6,
                        "bin_end": 50000.5,
                        "count": 0
                      },
                      {
                        "bin_start": 50000.5,
                        "bin_end": 60000.399999999994,
                        "count": 0
                      },
                      {
                        "bin_start": 60000.399999999994,
                        "bin_end": 70000.3,
                        "count": 0
                      },
                      {
                        "bin_start": 70000.3,
                        "bin_end": 80000.2,
                        "count": 0
                      },
                      {
                        "bin_start": 80000.2,
                        "bin_end": 90000.09999999999,
                        "count": 0
                      },
                      {
                        "bin_start": 90000.09999999999,
                        "bin_end": 100000,
                        "count": 1
                      }
                    ]
                  }
                },
                {
                  "name": "Revised Cost",
                  "dtype": "float64",
                  "stats": {
                    "unique_count": 4,
                    "nan_count": 1,
                    "min": "500.0",
                    "max": "100000.0",
                    "histogram": [
                      {
                        "bin_start": 500,
                        "bin_end": 10450,
                        "count": 3
                      },
                      {
                        "bin_start": 10450,
                        "bin_end": 20400,
                        "count": 0
                      },
                      {
                        "bin_start": 20400,
                        "bin_end": 30350,
                        "count": 0
                      },
                      {
                        "bin_start": 30350,
                        "bin_end": 40300,
                        "count": 0
                      },
                      {
                        "bin_start": 40300,
                        "bin_end": 50250,
                        "count": 0
                      },
                      {
                        "bin_start": 50250,
                        "bin_end": 60200,
                        "count": 0
                      },
                      {
                        "bin_start": 60200,
                        "bin_end": 70150,
                        "count": 0
                      },
                      {
                        "bin_start": 70150,
                        "bin_end": 80100,
                        "count": 0
                      },
                      {
                        "bin_start": 80100,
                        "bin_end": 90050,
                        "count": 0
                      },
                      {
                        "bin_start": 90050,
                        "bin_end": 100000,
                        "count": 1
                      }
                    ]
                  }
                },
                {
                  "name": "Existing Use",
                  "dtype": "object",
                  "stats": {
                    "unique_count": 3,
                    "nan_count": 0,
                    "categories": [
                      {
                        "name": "tourist hotel/motel",
                        "count": 2
                      },
                      {
                        "name": "retail sales",
                        "count": 2
                      },
                      {
                        "name": "1 family dwelling",
                        "count": 1
                      }
                    ]
                  }
                },
                {
                  "name": "Existing Units",
                  "dtype": "float64",
                  "stats": {
                    "unique_count": 3,
                    "nan_count": 2,
                    "min": "1.0",
                    "max": "143.0",
                    "histogram": [
                      {
                        "bin_start": 1,
                        "bin_end": 15.2,
                        "count": 1
                      },
                      {
                        "bin_start": 15.2,
                        "bin_end": 29.4,
                        "count": 0
                      },
                      {
                        "bin_start": 29.4,
                        "bin_end": 43.599999999999994,
                        "count": 1
                      },
                      {
                        "bin_start": 43.599999999999994,
                        "bin_end": 57.8,
                        "count": 0
                      },
                      {
                        "bin_start": 57.8,
                        "bin_end": 72,
                        "count": 0
                      },
                      {
                        "bin_start": 72,
                        "bin_end": 86.19999999999999,
                        "count": 0
                      },
                      {
                        "bin_start": 86.19999999999999,
                        "bin_end": 100.39999999999999,
                        "count": 0
                      },
                      {
                        "bin_start": 100.39999999999999,
                        "bin_end": 114.6,
                        "count": 0
                      },
                      {
                        "bin_start": 114.6,
                        "bin_end": 128.8,
                        "count": 0
                      },
                      {
                        "bin_start": 128.8,
                        "bin_end": 143,
                        "count": 1
                      }
                    ]
                  }
                },
                {
                  "name": "Proposed Use",
                  "dtype": "object",
                  "stats": {
                    "unique_count": 2,
                    "nan_count": 3,
                    "categories": [
                      {
                        "name": "retail sales",
                        "count": 1
                      },
                      {
                        "name": "1 family dwelling",
                        "count": 1
                      },
                      {
                        "name": "Missing",
                        "count": 3
                      }
                    ]
                  }
                },
                {
                  "name": "Proposed Units",
                  "dtype": "float64",
                  "stats": {
                    "unique_count": 2,
                    "nan_count": 3,
                    "min": "1.0",
                    "max": "39.0",
                    "histogram": [
                      {
                        "bin_start": 1,
                        "bin_end": 4.8,
                        "count": 1
                      },
                      {
                        "bin_start": 4.8,
                        "bin_end": 8.6,
                        "count": 0
                      },
                      {
                        "bin_start": 8.6,
                        "bin_end": 12.399999999999999,
                        "count": 0
                      },
                      {
                        "bin_start": 12.399999999999999,
                        "bin_end": 16.2,
                        "count": 0
                      },
                      {
                        "bin_start": 16.2,
                        "bin_end": 20,
                        "count": 0
                      },
                      {
                        "bin_start": 20,
                        "bin_end": 23.799999999999997,
                        "count": 0
                      },
                      {
                        "bin_start": 23.799999999999997,
                        "bin_end": 27.599999999999998,
                        "count": 0
                      },
                      {
                        "bin_start": 27.599999999999998,
                        "bin_end": 31.4,
                        "count": 0
                      },
                      {
                        "bin_start": 31.4,
                        "bin_end": 35.199999999999996,
                        "count": 0
                      },
                      {
                        "bin_start": 35.199999999999996,
                        "bin_end": 39,
                        "count": 1
                      }
                    ]
                  }
                },
                {
                  "name": "Plansets",
                  "dtype": "float64",
                  "stats": {
                    "unique_count": 1,
                    "nan_count": 0,
                    "min": "2.0",
                    "max": "2.0",
                    "histogram": [
                      {
                        "bin_start": 1.5,
                        "bin_end": 1.6,
                        "count": 0
                      },
                      {
                        "bin_start": 1.6,
                        "bin_end": 1.7,
                        "count": 0
                      },
                      {
                        "bin_start": 1.7,
                        "bin_end": 1.8,
                        "count": 0
                      },
                      {
                        "bin_start": 1.8,
                        "bin_end": 1.9,
                        "count": 0
                      },
                      {
                        "bin_start": 1.9,
                        "bin_end": 2,
                        "count": 0
                      },
                      {
                        "bin_start": 2,
                        "bin_end": 2.1,
                        "count": 5
                      },
                      {
                        "bin_start": 2.1,
                        "bin_end": 2.2,
                        "count": 0
                      },
                      {
                        "bin_start": 2.2,
                        "bin_end": 2.3,
                        "count": 0
                      },
                      {
                        "bin_start": 2.3,
                        "bin_end": 2.4,
                        "count": 0
                      },
                      {
                        "bin_start": 2.4,
                        "bin_end": 2.5,
                        "count": 0
                      }
                    ]
                  }
                },
                {
                  "name": "Existing Construction Type",
                  "dtype": "float64",
                  "stats": {
                    "unique_count": 3,
                    "nan_count": 0,
                    "min": "1.0",
                    "max": "5.0",
                    "histogram": [
                      {
                        "bin_start": 1,
                        "bin_end": 1.4,
                        "count": 1
                      },
                      {
                        "bin_start": 1.4,
                        "bin_end": 1.8,
                        "count": 0
                      },
                      {
                        "bin_start": 1.8,
                        "bin_end": 2.2,
                        "count": 0
                      },
                      {
                        "bin_start": 2.2,
                        "bin_end": 2.6,
                        "count": 0
                      },
                      {
                        "bin_start": 2.6,
                        "bin_end": 3,
                        "count": 0
                      },
                      {
                        "bin_start": 3,
                        "bin_end": 3.4000000000000004,
                        "count": 3
                      },
                      {
                        "bin_start": 3.4000000000000004,
                        "bin_end": 3.8000000000000003,
                        "count": 0
                      },
                      {
                        "bin_start": 3.8000000000000003,
                        "bin_end": 4.2,
                        "count": 0
                      },
                      {
                        "bin_start": 4.2,
                        "bin_end": 4.6,
                        "count": 0
                      },
                      {
                        "bin_start": 4.6,
                        "bin_end": 5,
                        "count": 1
                      }
                    ]
                  }
                },
                {
                  "name": "Existing Construction Type Description",
                  "dtype": "object",
                  "stats": {
                    "unique_count": 3,
                    "nan_count": 0,
                    "categories": [
                      {
                        "name": "constr type 3",
                        "count": 3
                      },
                      {
                        "name": "constr type 1",
                        "count": 1
                      },
                      {
                        "name": "wood frame (5)",
                        "count": 1
                      }
                    ]
                  }
                },
                {
                  "name": "Proposed Construction Type",
                  "dtype": "float64",
                  "stats": {
                    "unique_count": 2,
                    "nan_count": 3,
                    "min": "1.0",
                    "max": "5.0",
                    "histogram": [
                      {
                        "bin_start": 1,
                        "bin_end": 1.4,
                        "count": 1
                      },
                      {
                        "bin_start": 1.4,
                        "bin_end": 1.8,
                        "count": 0
                      },
                      {
                        "bin_start": 1.8,
                        "bin_end": 2.2,
                        "count": 0
                      },
                      {
                        "bin_start": 2.2,
                        "bin_end": 2.6,
                        "count": 0
                      },
                      {
                        "bin_start": 2.6,
                        "bin_end": 3,
                        "count": 0
                      },
                      {
                        "bin_start": 3,
                        "bin_end": 3.4000000000000004,
                        "count": 0
                      },
                      {
                        "bin_start": 3.4000000000000004,
                        "bin_end": 3.8000000000000003,
                        "count": 0
                      },
                      {
                        "bin_start": 3.8000000000000003,
                        "bin_end": 4.2,
                        "count": 0
                      },
                      {
                        "bin_start": 4.2,
                        "bin_end": 4.6,
                        "count": 0
                      },
                      {
                        "bin_start": 4.6,
                        "bin_end": 5,
                        "count": 1
                      }
                    ]
                  }
                },
                {
                  "name": "Proposed Construction Type Description",
                  "dtype": "object",
                  "stats": {
                    "unique_count": 2,
                    "nan_count": 3,
                    "categories": [
                      {
                        "name": "constr type 1",
                        "count": 1
                      },
                      {
                        "name": "wood frame (5)",
                        "count": 1
                      },
                      {
                        "name": "Missing",
                        "count": 3
                      }
                    ]
                  }
                },
                {
                  "name": "Supervisor District",
                  "dtype": "float64",
                  "stats": {
                    "unique_count": 2,
                    "nan_count": 0,
                    "min": "3.0",
                    "max": "6.0",
                    "histogram": [
                      {
                        "bin_start": 3,
                        "bin_end": 3.3,
                        "count": 4
                      },
                      {
                        "bin_start": 3.3,
                        "bin_end": 3.6,
                        "count": 0
                      },
                      {
                        "bin_start": 3.6,
                        "bin_end": 3.9,
                        "count": 0
                      },
                      {
                        "bin_start": 3.9,
                        "bin_end": 4.2,
                        "count": 0
                      },
                      {
                        "bin_start": 4.2,
                        "bin_end": 4.5,
                        "count": 0
                      },
                      {
                        "bin_start": 4.5,
                        "bin_end": 4.8,
                        "count": 0
                      },
                      {
                        "bin_start": 4.8,
                        "bin_end": 5.1,
                        "count": 0
                      },
                      {
                        "bin_start": 5.1,
                        "bin_end": 5.4,
                        "count": 0
                      },
                      {
                        "bin_start": 5.4,
                        "bin_end": 5.699999999999999,
                        "count": 0
                      },
                      {
                        "bin_start": 5.699999999999999,
                        "bin_end": 6,
                        "count": 1
                      }
                    ]
                  }
                },
                {
                  "name": "Neighborhoods - Analysis Boundaries",
                  "dtype": "object",
                  "stats": {
                    "unique_count": 3,
                    "nan_count": 0,
                    "categories": [
                      {
                        "name": "Tenderloin",
                        "count": 3
                      },
                      {
                        "name": "Russian Hill",
                        "count": 1
                      },
                      {
                        "name": "Nob Hill",
                        "count": 1
                      }
                    ]
                  }
                },
                {
                  "name": "Zipcode",
                  "dtype": "float64",
                  "stats": {
                    "unique_count": 2,
                    "nan_count": 0,
                    "min": "94102.0",
                    "max": "94109.0",
                    "histogram": [
                      {
                        "bin_start": 94102,
                        "bin_end": 94102.7,
                        "count": 3
                      },
                      {
                        "bin_start": 94102.7,
                        "bin_end": 94103.4,
                        "count": 0
                      },
                      {
                        "bin_start": 94103.4,
                        "bin_end": 94104.1,
                        "count": 0
                      },
                      {
                        "bin_start": 94104.1,
                        "bin_end": 94104.8,
                        "count": 0
                      },
                      {
                        "bin_start": 94104.8,
                        "bin_end": 94105.5,
                        "count": 0
                      },
                      {
                        "bin_start": 94105.5,
                        "bin_end": 94106.2,
                        "count": 0
                      },
                      {
                        "bin_start": 94106.2,
                        "bin_end": 94106.9,
                        "count": 0
                      },
                      {
                        "bin_start": 94106.9,
                        "bin_end": 94107.6,
                        "count": 0
                      },
                      {
                        "bin_start": 94107.6,
                        "bin_end": 94108.3,
                        "count": 0
                      },
                      {
                        "bin_start": 94108.3,
                        "bin_end": 94109,
                        "count": 2
                      }
                    ]
                  }
                },
                {
                  "name": "Location",
                  "dtype": "object",
                  "stats": {
                    "unique_count": 5,
                    "nan_count": 0,
                    "categories": [
                      {
                        "name": "(37.785719256680785, -122.40852313194863)",
                        "count": 1
                      },
                      {
                        "name": "(37.78733980600732, -122.41063199757738)",
                        "count": 1
                      },
                      {
                        "name": "3 others",
                        "count": 3
                      }
                    ]
                  }
                },
                {
                  "name": "Record ID",
                  "dtype": "int64",
                  "stats": {
                    "unique_count": 5,
                    "nan_count": 0,
                    "min": "144548169992",
                    "max": "1443574295566",
                    "histogram": [
                      {
                        "bin_start": 144548169992,
                        "bin_end": 274450782549.4,
                        "count": 1
                      },
                      {
                        "bin_start": 274450782549.4,
                        "bin_end": 404353395106.8,
                        "count": 0
                      },
                      {
                        "bin_start": 404353395106.8,
                        "bin_end": 534256007664.19995,
                        "count": 0
                      },
                      {
                        "bin_start": 534256007664.19995,
                        "bin_end": 664158620221.6,
                        "count": 0
                      },
                      {
                        "bin_start": 664158620221.6,
                        "bin_end": 794061232779,
                        "count": 0
                      },
                      {
                        "bin_start": 794061232779,
                        "bin_end": 923963845336.3999,
                        "count": 0
                      },
                      {
                        "bin_start": 923963845336.3999,
                        "bin_end": 1053866457893.7999,
                        "count": 0
                      },
                      {
                        "bin_start": 1053866457893.7999,
                        "bin_end": 1183769070451.2,
                        "count": 0
                      },
                      {
                        "bin_start": 1183769070451.2,
                        "bin_end": 1313671683008.5999,
                        "count": 0
                      },
                      {
                        "bin_start": 1313671683008.5999,
                        "bin_end": 1443574295566,
                        "count": 4
                      }
                    ]
                  }
                },
                {
                  "name": "_deepnote_index_column",
                  "dtype": "int64"
                }
              ],
              "rows_top": [
                {
                  "Permit Number": "201505065519",
                  "Permit Type": 4,
                  "Permit Type Definition": "sign - erect",
                  "Permit Creation Date": "05/06/2015",
                  "Block": "0326",
                  "Lot": "023",
                  "Street Number": 140,
                  "Street Name": "Ellis",
                  "Street Suffix": "St",
                  "Description": "ground fl facade: to erect illuminated, electric, wall, single faced sign. n/a for maher ordinance 155-13.",
                  "Current Status": "expired",
                  "Current Status Date": "12/21/2017",
                  "Filed Date": "05/06/2015",
                  "Issued Date": "11/09/2015",
                  "Completed Date": "nan",
                  "First Construction Document Date": "11/09/2015",
                  "Number of Existing Stories": 6,
                  "Number of Proposed Stories": "nan",
                  "Permit Expiration Date": "11/03/2016",
                  "Estimated Cost": 4000,
                  "Revised Cost": "4000.0",
                  "Existing Use": "tourist hotel/motel",
                  "Existing Units": "143.0",
                  "Proposed Use": "nan",
                  "Proposed Units": "nan",
                  "Plansets": 2,
                  "Existing Construction Type": 3,
                  "Existing Construction Type Description": "constr type 3",
                  "Proposed Construction Type": "nan",
                  "Proposed Construction Type Description": "nan",
                  "Supervisor District": 3,
                  "Neighborhoods - Analysis Boundaries": "Tenderloin",
                  "Zipcode": 94102,
                  "Location": "(37.785719256680785, -122.40852313194863)",
                  "Record ID": 1380611233945,
                  "_deepnote_index_column": 0
                },
                {
                  "Permit Number": "201604195146",
                  "Permit Type": 4,
                  "Permit Type Definition": "sign - erect",
                  "Permit Creation Date": "04/19/2016",
                  "Block": "0306",
                  "Lot": "007",
                  "Street Number": 440,
                  "Street Name": "Geary",
                  "Street Suffix": "St",
                  "Description": "remove (e) awning and associated signs.",
                  "Current Status": "issued",
                  "Current Status Date": "08/03/2017",
                  "Filed Date": "04/19/2016",
                  "Issued Date": "08/03/2017",
                  "Completed Date": "nan",
                  "First Construction Document Date": "08/03/2017",
                  "Number of Existing Stories": 7,
                  "Number of Proposed Stories": "nan",
                  "Permit Expiration Date": "12/03/2017",
                  "Estimated Cost": 1,
                  "Revised Cost": "500.0",
                  "Existing Use": "tourist hotel/motel",
                  "Existing Units": "nan",
                  "Proposed Use": "nan",
                  "Proposed Units": "nan",
                  "Plansets": 2,
                  "Existing Construction Type": 3,
                  "Existing Construction Type Description": "constr type 3",
                  "Proposed Construction Type": "nan",
                  "Proposed Construction Type Description": "nan",
                  "Supervisor District": 3,
                  "Neighborhoods - Analysis Boundaries": "Tenderloin",
                  "Zipcode": 94102,
                  "Location": "(37.78733980600732, -122.41063199757738)",
                  "Record ID": 1420164406718,
                  "_deepnote_index_column": 1
                },
                {
                  "Permit Number": "201605278609",
                  "Permit Type": 3,
                  "Permit Type Definition": "additions alterations or repairs",
                  "Permit Creation Date": "05/27/2016",
                  "Block": "0595",
                  "Lot": "203",
                  "Street Number": 1647,
                  "Street Name": "Pacific",
                  "Street Suffix": "Av",
                  "Description": "installation of separating wall",
                  "Current Status": "withdrawn",
                  "Current Status Date": "09/26/2017",
                  "Filed Date": "05/27/2016",
                  "Issued Date": "nan",
                  "Completed Date": "nan",
                  "First Construction Document Date": "nan",
                  "Number of Existing Stories": 6,
                  "Number of Proposed Stories": "6.0",
                  "Permit Expiration Date": "nan",
                  "Estimated Cost": 20000,
                  "Revised Cost": "nan",
                  "Existing Use": "retail sales",
                  "Existing Units": "39.0",
                  "Proposed Use": "retail sales",
                  "Proposed Units": "39.0",
                  "Plansets": 2,
                  "Existing Construction Type": 1,
                  "Existing Construction Type Description": "constr type 1",
                  "Proposed Construction Type": "1.0",
                  "Proposed Construction Type Description": "constr type 1",
                  "Supervisor District": 3,
                  "Neighborhoods - Analysis Boundaries": "Russian Hill",
                  "Zipcode": 94109,
                  "Location": "(37.7946573324287, -122.42232562979227)",
                  "Record ID": 1424856504716,
                  "_deepnote_index_column": 2
                },
                {
                  "Permit Number": "201611072166",
                  "Permit Type": 8,
                  "Permit Type Definition": "otc alterations permit",
                  "Permit Creation Date": "11/07/2016",
                  "Block": "0156",
                  "Lot": "011",
                  "Street Number": 1230,
                  "Street Name": "Pacific",
                  "Street Suffix": "Av",
                  "Description": "repair dryrot & stucco at front of bldg.",
                  "Current Status": "complete",
                  "Current Status Date": "07/24/2017",
                  "Filed Date": "11/07/2016",
                  "Issued Date": "07/18/2017",
                  "Completed Date": "07/24/2017",
                  "First Construction Document Date": "07/18/2017",
                  "Number of Existing Stories": 2,
                  "Number of Proposed Stories": "2.0",
                  "Permit Expiration Date": "07/13/2018",
                  "Estimated Cost": 2000,
                  "Revised Cost": "2000.0",
                  "Existing Use": "1 family dwelling",
                  "Existing Units": "1.0",
                  "Proposed Use": "1 family dwelling",
                  "Proposed Units": "1.0",
                  "Plansets": 2,
                  "Existing Construction Type": 5,
                  "Existing Construction Type Description": "wood frame (5)",
                  "Proposed Construction Type": "5.0",
                  "Proposed Construction Type Description": "wood frame (5)",
                  "Supervisor District": 3,
                  "Neighborhoods - Analysis Boundaries": "Nob Hill",
                  "Zipcode": 94109,
                  "Location": "(37.79595867909168, -122.41557405519474)",
                  "Record ID": 1443574295566,
                  "_deepnote_index_column": 3
                },
                {
                  "Permit Number": "201611283529",
                  "Permit Type": 6,
                  "Permit Type Definition": "demolitions",
                  "Permit Creation Date": "11/28/2016",
                  "Block": "0342",
                  "Lot": "001",
                  "Street Number": 950,
                  "Street Name": "Market",
                  "Street Suffix": "St",
                  "Description": "demolish retail/office/commercial 3-story building",
                  "Current Status": "issued",
                  "Current Status Date": "12/01/2017",
                  "Filed Date": "11/28/2016",
                  "Issued Date": "12/01/2017",
                  "Completed Date": "nan",
                  "First Construction Document Date": "11/20/2017",
                  "Number of Existing Stories": 3,
                  "Number of Proposed Stories": "nan",
                  "Permit Expiration Date": "12/01/2018",
                  "Estimated Cost": 100000,
                  "Revised Cost": "100000.0",
                  "Existing Use": "retail sales",
                  "Existing Units": "nan",
                  "Proposed Use": "nan",
                  "Proposed Units": "nan",
                  "Plansets": 2,
                  "Existing Construction Type": 3,
                  "Existing Construction Type Description": "constr type 3",
                  "Proposed Construction Type": "nan",
                  "Proposed Construction Type Description": "nan",
                  "Supervisor District": 6,
                  "Neighborhoods - Analysis Boundaries": "Tenderloin",
                  "Zipcode": 94102,
                  "Location": "(37.78315261897309, -122.40950883997789)",
                  "Record ID": 144548169992,
                  "_deepnote_index_column": 4
                }
              ],
              "rows_bottom": null
            },
            "text/plain": "  Permit Number  Permit Type            Permit Type Definition  \\\n0  201505065519            4                      sign - erect   \n1  201604195146            4                      sign - erect   \n2  201605278609            3  additions alterations or repairs   \n3  201611072166            8            otc alterations permit   \n4  201611283529            6                       demolitions   \n\n  Permit Creation Date Block  Lot  Street Number Street Name Street Suffix  \\\n0           05/06/2015  0326  023            140       Ellis            St   \n1           04/19/2016  0306  007            440       Geary            St   \n2           05/27/2016  0595  203           1647     Pacific            Av   \n3           11/07/2016  0156  011           1230     Pacific            Av   \n4           11/28/2016  0342  001            950      Market            St   \n\n                                         Description  ... Plansets  \\\n0  ground fl facade: to erect illuminated, electr...  ...      2.0   \n1            remove (e) awning and associated signs.  ...      2.0   \n2                    installation of separating wall  ...      2.0   \n3           repair dryrot & stucco at front of bldg.  ...      2.0   \n4  demolish retail/office/commercial 3-story buil...  ...      2.0   \n\n  Existing Construction Type Existing Construction Type Description  \\\n0                        3.0                          constr type 3   \n1                        3.0                          constr type 3   \n2                        1.0                          constr type 1   \n3                        5.0                         wood frame (5)   \n4                        3.0                          constr type 3   \n\n  Proposed Construction Type Proposed Construction Type Description  \\\n0                        NaN                                    NaN   \n1                        NaN                                    NaN   \n2                        1.0                          constr type 1   \n3                        5.0                         wood frame (5)   \n4                        NaN                                    NaN   \n\n  Supervisor District  Neighborhoods - Analysis Boundaries  Zipcode  \\\n0                 3.0                           Tenderloin  94102.0   \n1                 3.0                           Tenderloin  94102.0   \n2                 3.0                         Russian Hill  94109.0   \n3                 3.0                             Nob Hill  94109.0   \n4                 6.0                           Tenderloin  94102.0   \n\n                                    Location      Record ID  \n0  (37.785719256680785, -122.40852313194863)  1380611233945  \n1   (37.78733980600732, -122.41063199757738)  1420164406718  \n2    (37.7946573324287, -122.42232562979227)  1424856504716  \n3   (37.79595867909168, -122.41557405519474)  1443574295566  \n4   (37.78315261897309, -122.40950883997789)   144548169992  \n\n[5 rows x 35 columns]",
            "text/html": "<div>\n<style scoped>\n    .dataframe tbody tr th:only-of-type {\n        vertical-align: middle;\n    }\n\n    .dataframe tbody tr th {\n        vertical-align: top;\n    }\n\n    .dataframe thead th {\n        text-align: right;\n    }\n</style>\n<table border=\"1\" class=\"dataframe\">\n  <thead>\n    <tr style=\"text-align: right;\">\n      <th></th>\n      <th>Permit Number</th>\n      <th>Permit Type</th>\n      <th>Permit Type Definition</th>\n      <th>Permit Creation Date</th>\n      <th>Block</th>\n      <th>Lot</th>\n      <th>Street Number</th>\n      <th>Street Name</th>\n      <th>Street Suffix</th>\n      <th>Description</th>\n      <th>...</th>\n      <th>Plansets</th>\n      <th>Existing Construction Type</th>\n      <th>Existing Construction Type Description</th>\n      <th>Proposed Construction Type</th>\n      <th>Proposed Construction Type Description</th>\n      <th>Supervisor District</th>\n      <th>Neighborhoods - Analysis Boundaries</th>\n      <th>Zipcode</th>\n      <th>Location</th>\n      <th>Record ID</th>\n    </tr>\n  </thead>\n  <tbody>\n    <tr>\n      <th>0</th>\n      <td>201505065519</td>\n      <td>4</td>\n      <td>sign - erect</td>\n      <td>05/06/2015</td>\n      <td>0326</td>\n      <td>023</td>\n      <td>140</td>\n      <td>Ellis</td>\n      <td>St</td>\n      <td>ground fl facade: to erect illuminated, electr...</td>\n      <td>...</td>\n      <td>2.0</td>\n      <td>3.0</td>\n      <td>constr type 3</td>\n      <td>NaN</td>\n      <td>NaN</td>\n      <td>3.0</td>\n      <td>Tenderloin</td>\n      <td>94102.0</td>\n      <td>(37.785719256680785, -122.40852313194863)</td>\n      <td>1380611233945</td>\n    </tr>\n    <tr>\n      <th>1</th>\n      <td>201604195146</td>\n      <td>4</td>\n      <td>sign - erect</td>\n      <td>04/19/2016</td>\n      <td>0306</td>\n      <td>007</td>\n      <td>440</td>\n      <td>Geary</td>\n      <td>St</td>\n      <td>remove (e) awning and associated signs.</td>\n      <td>...</td>\n      <td>2.0</td>\n      <td>3.0</td>\n      <td>constr type 3</td>\n      <td>NaN</td>\n      <td>NaN</td>\n      <td>3.0</td>\n      <td>Tenderloin</td>\n      <td>94102.0</td>\n      <td>(37.78733980600732, -122.41063199757738)</td>\n      <td>1420164406718</td>\n    </tr>\n    <tr>\n      <th>2</th>\n      <td>201605278609</td>\n      <td>3</td>\n      <td>additions alterations or repairs</td>\n      <td>05/27/2016</td>\n      <td>0595</td>\n      <td>203</td>\n      <td>1647</td>\n      <td>Pacific</td>\n      <td>Av</td>\n      <td>installation of separating wall</td>\n      <td>...</td>\n      <td>2.0</td>\n      <td>1.0</td>\n      <td>constr type 1</td>\n      <td>1.0</td>\n      <td>constr type 1</td>\n      <td>3.0</td>\n      <td>Russian Hill</td>\n      <td>94109.0</td>\n      <td>(37.7946573324287, -122.42232562979227)</td>\n      <td>1424856504716</td>\n    </tr>\n    <tr>\n      <th>3</th>\n      <td>201611072166</td>\n      <td>8</td>\n      <td>otc alterations permit</td>\n      <td>11/07/2016</td>\n      <td>0156</td>\n      <td>011</td>\n      <td>1230</td>\n      <td>Pacific</td>\n      <td>Av</td>\n      <td>repair dryrot &amp; stucco at front of bldg.</td>\n      <td>...</td>\n      <td>2.0</td>\n      <td>5.0</td>\n      <td>wood frame (5)</td>\n      <td>5.0</td>\n      <td>wood frame (5)</td>\n      <td>3.0</td>\n      <td>Nob Hill</td>\n      <td>94109.0</td>\n      <td>(37.79595867909168, -122.41557405519474)</td>\n      <td>1443574295566</td>\n    </tr>\n    <tr>\n      <th>4</th>\n      <td>201611283529</td>\n      <td>6</td>\n      <td>demolitions</td>\n      <td>11/28/2016</td>\n      <td>0342</td>\n      <td>001</td>\n      <td>950</td>\n      <td>Market</td>\n      <td>St</td>\n      <td>demolish retail/office/commercial 3-story buil...</td>\n      <td>...</td>\n      <td>2.0</td>\n      <td>3.0</td>\n      <td>constr type 3</td>\n      <td>NaN</td>\n      <td>NaN</td>\n      <td>6.0</td>\n      <td>Tenderloin</td>\n      <td>94102.0</td>\n      <td>(37.78315261897309, -122.40950883997789)</td>\n      <td>144548169992</td>\n    </tr>\n  </tbody>\n</table>\n<p>5 rows × 35 columns</p>\n</div>"
          },
          "metadata": {}
        }
      ],
      "execution_count": 8
    },
    {
      "cell_type": "code",
      "source": "",
      "metadata": {
        "tags": [],
        "cell_id": "00008-1f89dda6-26ad-47c6-9851-da2342c71da2",
        "deepnote_cell_type": "code"
      },
      "outputs": [],
      "execution_count": null
    },
    {
      "cell_type": "markdown",
      "source": "<a style='text-decoration:none;line-height:16px;display:flex;color:#5B5B62;padding:10px;justify-content:end;' href='https://deepnote.com?utm_source=created-in-deepnote-cell&projectId=796ba814-f632-4502-b0d7-7e2f8f9e546d' target=\"_blank\">\n<img alt='Created in deepnote.com' style='display:inline;max-height:16px;margin:0px;margin-right:7.5px;' src='data:image/svg+xml;base64,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' > </img>\nCreated in <span style='font-weight:600;margin-left:4px;'>Deepnote</span></a>",
      "metadata": {
        "tags": [],
        "created_in_deepnote_cell": true,
        "deepnote_cell_type": "markdown"
      }
    }
  ],
  "nbformat": 4,
  "nbformat_minor": 2,
  "metadata": {
    "orig_nbformat": 2,
    "deepnote": {
      "is_reactive": false
    },
    "deepnote_notebook_id": "986d5d79-b477-4916-8209-e05d0b48e191",
    "deepnote_execution_queue": []
  }
}