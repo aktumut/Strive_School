{
  "nbformat": 4,
  "nbformat_minor": 0,
  "metadata": {
    "anaconda-cloud": {},
    "colab": {
      "name": "28fe1",
      "provenance": [],
      "collapsed_sections": [],
      "toc_visible": true
    },
    "kernelspec": {
      "display_name": "Python 3",
      "language": "python",
      "name": "python3"
    },
    "language_info": {
      "codemirror_mode": {
        "name": "ipython",
        "version": 3
      },
      "file_extension": ".py",
      "mimetype": "text/x-python",
      "name": "python",
      "nbconvert_exporter": "python",
      "pygments_lexer": "ipython3",
      "version": "3.7.10"
    },
    "name": "seminar13_optional_practice_trees_titanic.ipynb"
  },
  "cells": [
    {
      "cell_type": "markdown",
      "metadata": {
        "id": "Fvhf5aj7GTI8"
      },
      "source": [
        "## Imports"
      ]
    },
    {
      "cell_type": "code",
      "metadata": {
        "id": "-beug_K1GTI_",
        "colab": {
          "base_uri": "https://localhost:8080/"
        },
        "outputId": "d1274f6a-6503-42ae-a7d8-b9f0c2b0b24c"
      },
      "source": [
        "pip install --upgrade scikit-learn"
      ],
      "execution_count": 20,
      "outputs": [
        {
          "output_type": "stream",
          "text": [
            "Requirement already up-to-date: scikit-learn in /usr/local/lib/python3.7/dist-packages (0.24.2)\n",
            "Requirement already satisfied, skipping upgrade: joblib>=0.11 in /usr/local/lib/python3.7/dist-packages (from scikit-learn) (1.0.1)\n",
            "Requirement already satisfied, skipping upgrade: threadpoolctl>=2.0.0 in /usr/local/lib/python3.7/dist-packages (from scikit-learn) (2.1.0)\n",
            "Requirement already satisfied, skipping upgrade: scipy>=0.19.1 in /usr/local/lib/python3.7/dist-packages (from scikit-learn) (1.4.1)\n",
            "Requirement already satisfied, skipping upgrade: numpy>=1.13.3 in /usr/local/lib/python3.7/dist-packages (from scikit-learn) (1.19.5)\n"
          ],
          "name": "stdout"
        }
      ]
    },
    {
      "cell_type": "code",
      "metadata": {
        "colab": {
          "base_uri": "https://localhost:8080/"
        },
        "id": "R8wvibqaPmT3",
        "outputId": "874a79c9-2b50-47e3-beb7-dd7c08b78f70"
      },
      "source": [
        "pip install catboost"
      ],
      "execution_count": 21,
      "outputs": [
        {
          "output_type": "stream",
          "text": [
            "Collecting catboost\n",
            "\u001b[?25l  Downloading https://files.pythonhosted.org/packages/47/80/8e9c57ec32dfed6ba2922bc5c96462cbf8596ce1a6f5de532ad1e43e53fe/catboost-0.25.1-cp37-none-manylinux1_x86_64.whl (67.3MB)\n",
            "\u001b[K     |████████████████████████████████| 67.3MB 58kB/s \n",
            "\u001b[?25hRequirement already satisfied: matplotlib in /usr/local/lib/python3.7/dist-packages (from catboost) (3.2.2)\n",
            "Requirement already satisfied: plotly in /usr/local/lib/python3.7/dist-packages (from catboost) (4.4.1)\n",
            "Requirement already satisfied: scipy in /usr/local/lib/python3.7/dist-packages (from catboost) (1.4.1)\n",
            "Requirement already satisfied: graphviz in /usr/local/lib/python3.7/dist-packages (from catboost) (0.10.1)\n",
            "Requirement already satisfied: six in /usr/local/lib/python3.7/dist-packages (from catboost) (1.15.0)\n",
            "Requirement already satisfied: numpy>=1.16.0 in /usr/local/lib/python3.7/dist-packages (from catboost) (1.19.5)\n",
            "Requirement already satisfied: pandas>=0.24.0 in /usr/local/lib/python3.7/dist-packages (from catboost) (1.1.5)\n",
            "Requirement already satisfied: python-dateutil>=2.1 in /usr/local/lib/python3.7/dist-packages (from matplotlib->catboost) (2.8.1)\n",
            "Requirement already satisfied: cycler>=0.10 in /usr/local/lib/python3.7/dist-packages (from matplotlib->catboost) (0.10.0)\n",
            "Requirement already satisfied: kiwisolver>=1.0.1 in /usr/local/lib/python3.7/dist-packages (from matplotlib->catboost) (1.3.1)\n",
            "Requirement already satisfied: pyparsing!=2.0.4,!=2.1.2,!=2.1.6,>=2.0.1 in /usr/local/lib/python3.7/dist-packages (from matplotlib->catboost) (2.4.7)\n",
            "Requirement already satisfied: retrying>=1.3.3 in /usr/local/lib/python3.7/dist-packages (from plotly->catboost) (1.3.3)\n",
            "Requirement already satisfied: pytz>=2017.2 in /usr/local/lib/python3.7/dist-packages (from pandas>=0.24.0->catboost) (2018.9)\n",
            "Installing collected packages: catboost\n",
            "Successfully installed catboost-0.25.1\n"
          ],
          "name": "stdout"
        }
      ]
    },
    {
      "cell_type": "code",
      "metadata": {
        "colab": {
          "base_uri": "https://localhost:8080/"
        },
        "id": "mjnuJ19dJV7v",
        "outputId": "44404ba3-30a6-4d5a-f0bf-383aaee4a72e"
      },
      "source": [
        "import time\n",
        "from IPython.display import clear_output\n",
        "import numpy    as np\n",
        "import pandas   as pd\n",
        "import seaborn  as sb\n",
        "import matplotlib.pyplot as plt\n",
        "import sklearn  as skl\n",
        "\n",
        "from sklearn import pipeline      # Pipeline\n",
        "from sklearn import preprocessing # OrdinalEncoder, LabelEncoder\n",
        "from sklearn import impute\n",
        "from sklearn import compose\n",
        "from sklearn import model_selection # train_test_split\n",
        "from sklearn import metrics         # accuracy_score, balanced_accuracy_score, plot_confusion_matrix\n",
        "from sklearn import set_config\n",
        "\n",
        "set_config(display='diagram') # Useful for display the pipeline\n",
        "\n",
        "print(\"Pandas  \", pd.__version__)\n",
        "print(\"Sklearn \", skl.__version__) # Try to use 0.24"
      ],
      "execution_count": 2,
      "outputs": [
        {
          "output_type": "stream",
          "text": [
            "Pandas   1.1.5\n",
            "Sklearn  0.24.2\n"
          ],
          "name": "stdout"
        }
      ]
    },
    {
      "cell_type": "markdown",
      "metadata": {
        "id": "7Pl1NEDkGTJC"
      },
      "source": [
        "## Get the dataset\n",
        "- **CLOUD = True**: Download dataset from Kaggle. Necesary for cloud enviroments like COLAB. **Specify your [kaggle credentials](https://www.kaggle.com/docs/api)**.\n",
        "- **CLOUD = False**: Get the dataset from your local machine. **Specify the data path**."
      ]
    },
    {
      "cell_type": "code",
      "metadata": {
        "id": "7JpmZyaMGTJD"
      },
      "source": [
        "CLOUD = False\n",
        "\n",
        "if CLOUD:\n",
        "    import os\n",
        "    os.environ['KAGGLE_USERNAME'] = \"your_kaggle_username\"\n",
        "    os.environ['KAGGLE_KEY']      = \"your_kaggle_api_key\"  # See https://www.kaggle.com/docs/api\n",
        "    !pip install --upgrade kaggle\n",
        "    !kaggle competitions download -c titanic\n",
        "    DATA_PATH = \"./\"\n",
        "\n",
        "else:\n",
        "    DATA_PATH = \"/content/Datasets/Tabular/titanic/\""
      ],
      "execution_count": 3,
      "outputs": []
    },
    {
      "cell_type": "markdown",
      "metadata": {
        "id": "AENWx5_SGTJE"
      },
      "source": [
        "## Load data"
      ]
    },
    {
      "cell_type": "code",
      "metadata": {
        "colab": {
          "base_uri": "https://localhost:8080/",
          "height": 438
        },
        "id": "wAy8TnVPJV8S",
        "outputId": "c97b2c58-d9f9-4aab-8b43-4546fa90d9ea"
      },
      "source": [
        "df      = pd.read_csv(DATA_PATH + \"train.csv\", index_col='PassengerId')\n",
        "df_test = pd.read_csv(DATA_PATH + \"test.csv\",  index_col='PassengerId')\n",
        "\n",
        "print(\"Train DataFrame:\", df.shape)\n",
        "print(\"Test DataFrame: \", df_test.shape)"
      ],
      "execution_count": 4,
      "outputs": [
        {
          "output_type": "error",
          "ename": "FileNotFoundError",
          "evalue": "ignored",
          "traceback": [
            "\u001b[0;31m---------------------------------------------------------------------------\u001b[0m",
            "\u001b[0;31mFileNotFoundError\u001b[0m                         Traceback (most recent call last)",
            "\u001b[0;32m<ipython-input-4-494b8b679e4c>\u001b[0m in \u001b[0;36m<module>\u001b[0;34m()\u001b[0m\n\u001b[0;32m----> 1\u001b[0;31m \u001b[0mdf\u001b[0m      \u001b[0;34m=\u001b[0m \u001b[0mpd\u001b[0m\u001b[0;34m.\u001b[0m\u001b[0mread_csv\u001b[0m\u001b[0;34m(\u001b[0m\u001b[0mDATA_PATH\u001b[0m \u001b[0;34m+\u001b[0m \u001b[0;34m\"train.csv\"\u001b[0m\u001b[0;34m,\u001b[0m \u001b[0mindex_col\u001b[0m\u001b[0;34m=\u001b[0m\u001b[0;34m'PassengerId'\u001b[0m\u001b[0;34m)\u001b[0m\u001b[0;34m\u001b[0m\u001b[0;34m\u001b[0m\u001b[0m\n\u001b[0m\u001b[1;32m      2\u001b[0m \u001b[0mdf_test\u001b[0m \u001b[0;34m=\u001b[0m \u001b[0mpd\u001b[0m\u001b[0;34m.\u001b[0m\u001b[0mread_csv\u001b[0m\u001b[0;34m(\u001b[0m\u001b[0mDATA_PATH\u001b[0m \u001b[0;34m+\u001b[0m \u001b[0;34m\"test.csv\"\u001b[0m\u001b[0;34m,\u001b[0m  \u001b[0mindex_col\u001b[0m\u001b[0;34m=\u001b[0m\u001b[0;34m'PassengerId'\u001b[0m\u001b[0;34m)\u001b[0m\u001b[0;34m\u001b[0m\u001b[0;34m\u001b[0m\u001b[0m\n\u001b[1;32m      3\u001b[0m \u001b[0;34m\u001b[0m\u001b[0m\n\u001b[1;32m      4\u001b[0m \u001b[0mprint\u001b[0m\u001b[0;34m(\u001b[0m\u001b[0;34m\"Train DataFrame:\"\u001b[0m\u001b[0;34m,\u001b[0m \u001b[0mdf\u001b[0m\u001b[0;34m.\u001b[0m\u001b[0mshape\u001b[0m\u001b[0;34m)\u001b[0m\u001b[0;34m\u001b[0m\u001b[0;34m\u001b[0m\u001b[0m\n\u001b[1;32m      5\u001b[0m \u001b[0mprint\u001b[0m\u001b[0;34m(\u001b[0m\u001b[0;34m\"Test DataFrame: \"\u001b[0m\u001b[0;34m,\u001b[0m \u001b[0mdf_test\u001b[0m\u001b[0;34m.\u001b[0m\u001b[0mshape\u001b[0m\u001b[0;34m)\u001b[0m\u001b[0;34m\u001b[0m\u001b[0;34m\u001b[0m\u001b[0m\n",
            "\u001b[0;32m/usr/local/lib/python3.7/dist-packages/pandas/io/parsers.py\u001b[0m in \u001b[0;36mread_csv\u001b[0;34m(filepath_or_buffer, sep, delimiter, header, names, index_col, usecols, squeeze, prefix, mangle_dupe_cols, dtype, engine, converters, true_values, false_values, skipinitialspace, skiprows, skipfooter, nrows, na_values, keep_default_na, na_filter, verbose, skip_blank_lines, parse_dates, infer_datetime_format, keep_date_col, date_parser, dayfirst, cache_dates, iterator, chunksize, compression, thousands, decimal, lineterminator, quotechar, quoting, doublequote, escapechar, comment, encoding, dialect, error_bad_lines, warn_bad_lines, delim_whitespace, low_memory, memory_map, float_precision)\u001b[0m\n\u001b[1;32m    686\u001b[0m     )\n\u001b[1;32m    687\u001b[0m \u001b[0;34m\u001b[0m\u001b[0m\n\u001b[0;32m--> 688\u001b[0;31m     \u001b[0;32mreturn\u001b[0m \u001b[0m_read\u001b[0m\u001b[0;34m(\u001b[0m\u001b[0mfilepath_or_buffer\u001b[0m\u001b[0;34m,\u001b[0m \u001b[0mkwds\u001b[0m\u001b[0;34m)\u001b[0m\u001b[0;34m\u001b[0m\u001b[0;34m\u001b[0m\u001b[0m\n\u001b[0m\u001b[1;32m    689\u001b[0m \u001b[0;34m\u001b[0m\u001b[0m\n\u001b[1;32m    690\u001b[0m \u001b[0;34m\u001b[0m\u001b[0m\n",
            "\u001b[0;32m/usr/local/lib/python3.7/dist-packages/pandas/io/parsers.py\u001b[0m in \u001b[0;36m_read\u001b[0;34m(filepath_or_buffer, kwds)\u001b[0m\n\u001b[1;32m    452\u001b[0m \u001b[0;34m\u001b[0m\u001b[0m\n\u001b[1;32m    453\u001b[0m     \u001b[0;31m# Create the parser.\u001b[0m\u001b[0;34m\u001b[0m\u001b[0;34m\u001b[0m\u001b[0;34m\u001b[0m\u001b[0m\n\u001b[0;32m--> 454\u001b[0;31m     \u001b[0mparser\u001b[0m \u001b[0;34m=\u001b[0m \u001b[0mTextFileReader\u001b[0m\u001b[0;34m(\u001b[0m\u001b[0mfp_or_buf\u001b[0m\u001b[0;34m,\u001b[0m \u001b[0;34m**\u001b[0m\u001b[0mkwds\u001b[0m\u001b[0;34m)\u001b[0m\u001b[0;34m\u001b[0m\u001b[0;34m\u001b[0m\u001b[0m\n\u001b[0m\u001b[1;32m    455\u001b[0m \u001b[0;34m\u001b[0m\u001b[0m\n\u001b[1;32m    456\u001b[0m     \u001b[0;32mif\u001b[0m \u001b[0mchunksize\u001b[0m \u001b[0;32mor\u001b[0m \u001b[0miterator\u001b[0m\u001b[0;34m:\u001b[0m\u001b[0;34m\u001b[0m\u001b[0;34m\u001b[0m\u001b[0m\n",
            "\u001b[0;32m/usr/local/lib/python3.7/dist-packages/pandas/io/parsers.py\u001b[0m in \u001b[0;36m__init__\u001b[0;34m(self, f, engine, **kwds)\u001b[0m\n\u001b[1;32m    946\u001b[0m             \u001b[0mself\u001b[0m\u001b[0;34m.\u001b[0m\u001b[0moptions\u001b[0m\u001b[0;34m[\u001b[0m\u001b[0;34m\"has_index_names\"\u001b[0m\u001b[0;34m]\u001b[0m \u001b[0;34m=\u001b[0m \u001b[0mkwds\u001b[0m\u001b[0;34m[\u001b[0m\u001b[0;34m\"has_index_names\"\u001b[0m\u001b[0;34m]\u001b[0m\u001b[0;34m\u001b[0m\u001b[0;34m\u001b[0m\u001b[0m\n\u001b[1;32m    947\u001b[0m \u001b[0;34m\u001b[0m\u001b[0m\n\u001b[0;32m--> 948\u001b[0;31m         \u001b[0mself\u001b[0m\u001b[0;34m.\u001b[0m\u001b[0m_make_engine\u001b[0m\u001b[0;34m(\u001b[0m\u001b[0mself\u001b[0m\u001b[0;34m.\u001b[0m\u001b[0mengine\u001b[0m\u001b[0;34m)\u001b[0m\u001b[0;34m\u001b[0m\u001b[0;34m\u001b[0m\u001b[0m\n\u001b[0m\u001b[1;32m    949\u001b[0m \u001b[0;34m\u001b[0m\u001b[0m\n\u001b[1;32m    950\u001b[0m     \u001b[0;32mdef\u001b[0m \u001b[0mclose\u001b[0m\u001b[0;34m(\u001b[0m\u001b[0mself\u001b[0m\u001b[0;34m)\u001b[0m\u001b[0;34m:\u001b[0m\u001b[0;34m\u001b[0m\u001b[0;34m\u001b[0m\u001b[0m\n",
            "\u001b[0;32m/usr/local/lib/python3.7/dist-packages/pandas/io/parsers.py\u001b[0m in \u001b[0;36m_make_engine\u001b[0;34m(self, engine)\u001b[0m\n\u001b[1;32m   1178\u001b[0m     \u001b[0;32mdef\u001b[0m \u001b[0m_make_engine\u001b[0m\u001b[0;34m(\u001b[0m\u001b[0mself\u001b[0m\u001b[0;34m,\u001b[0m \u001b[0mengine\u001b[0m\u001b[0;34m=\u001b[0m\u001b[0;34m\"c\"\u001b[0m\u001b[0;34m)\u001b[0m\u001b[0;34m:\u001b[0m\u001b[0;34m\u001b[0m\u001b[0;34m\u001b[0m\u001b[0m\n\u001b[1;32m   1179\u001b[0m         \u001b[0;32mif\u001b[0m \u001b[0mengine\u001b[0m \u001b[0;34m==\u001b[0m \u001b[0;34m\"c\"\u001b[0m\u001b[0;34m:\u001b[0m\u001b[0;34m\u001b[0m\u001b[0;34m\u001b[0m\u001b[0m\n\u001b[0;32m-> 1180\u001b[0;31m             \u001b[0mself\u001b[0m\u001b[0;34m.\u001b[0m\u001b[0m_engine\u001b[0m \u001b[0;34m=\u001b[0m \u001b[0mCParserWrapper\u001b[0m\u001b[0;34m(\u001b[0m\u001b[0mself\u001b[0m\u001b[0;34m.\u001b[0m\u001b[0mf\u001b[0m\u001b[0;34m,\u001b[0m \u001b[0;34m**\u001b[0m\u001b[0mself\u001b[0m\u001b[0;34m.\u001b[0m\u001b[0moptions\u001b[0m\u001b[0;34m)\u001b[0m\u001b[0;34m\u001b[0m\u001b[0;34m\u001b[0m\u001b[0m\n\u001b[0m\u001b[1;32m   1181\u001b[0m         \u001b[0;32melse\u001b[0m\u001b[0;34m:\u001b[0m\u001b[0;34m\u001b[0m\u001b[0;34m\u001b[0m\u001b[0m\n\u001b[1;32m   1182\u001b[0m             \u001b[0;32mif\u001b[0m \u001b[0mengine\u001b[0m \u001b[0;34m==\u001b[0m \u001b[0;34m\"python\"\u001b[0m\u001b[0;34m:\u001b[0m\u001b[0;34m\u001b[0m\u001b[0;34m\u001b[0m\u001b[0m\n",
            "\u001b[0;32m/usr/local/lib/python3.7/dist-packages/pandas/io/parsers.py\u001b[0m in \u001b[0;36m__init__\u001b[0;34m(self, src, **kwds)\u001b[0m\n\u001b[1;32m   2008\u001b[0m         \u001b[0mkwds\u001b[0m\u001b[0;34m[\u001b[0m\u001b[0;34m\"usecols\"\u001b[0m\u001b[0;34m]\u001b[0m \u001b[0;34m=\u001b[0m \u001b[0mself\u001b[0m\u001b[0;34m.\u001b[0m\u001b[0musecols\u001b[0m\u001b[0;34m\u001b[0m\u001b[0;34m\u001b[0m\u001b[0m\n\u001b[1;32m   2009\u001b[0m \u001b[0;34m\u001b[0m\u001b[0m\n\u001b[0;32m-> 2010\u001b[0;31m         \u001b[0mself\u001b[0m\u001b[0;34m.\u001b[0m\u001b[0m_reader\u001b[0m \u001b[0;34m=\u001b[0m \u001b[0mparsers\u001b[0m\u001b[0;34m.\u001b[0m\u001b[0mTextReader\u001b[0m\u001b[0;34m(\u001b[0m\u001b[0msrc\u001b[0m\u001b[0;34m,\u001b[0m \u001b[0;34m**\u001b[0m\u001b[0mkwds\u001b[0m\u001b[0;34m)\u001b[0m\u001b[0;34m\u001b[0m\u001b[0;34m\u001b[0m\u001b[0m\n\u001b[0m\u001b[1;32m   2011\u001b[0m         \u001b[0mself\u001b[0m\u001b[0;34m.\u001b[0m\u001b[0munnamed_cols\u001b[0m \u001b[0;34m=\u001b[0m \u001b[0mself\u001b[0m\u001b[0;34m.\u001b[0m\u001b[0m_reader\u001b[0m\u001b[0;34m.\u001b[0m\u001b[0munnamed_cols\u001b[0m\u001b[0;34m\u001b[0m\u001b[0;34m\u001b[0m\u001b[0m\n\u001b[1;32m   2012\u001b[0m \u001b[0;34m\u001b[0m\u001b[0m\n",
            "\u001b[0;32mpandas/_libs/parsers.pyx\u001b[0m in \u001b[0;36mpandas._libs.parsers.TextReader.__cinit__\u001b[0;34m()\u001b[0m\n",
            "\u001b[0;32mpandas/_libs/parsers.pyx\u001b[0m in \u001b[0;36mpandas._libs.parsers.TextReader._setup_parser_source\u001b[0;34m()\u001b[0m\n",
            "\u001b[0;31mFileNotFoundError\u001b[0m: [Errno 2] No such file or directory: '/content/Datasets/Tabular/titanic/train.csv'"
          ]
        }
      ]
    },
    {
      "cell_type": "markdown",
      "metadata": {
        "id": "L-J5FF4jGTJE"
      },
      "source": [
        "## Check missings"
      ]
    },
    {
      "cell_type": "code",
      "metadata": {
        "id": "Aa63GWy2GTJF"
      },
      "source": [
        "df.isnull().sum()"
      ],
      "execution_count": null,
      "outputs": []
    },
    {
      "cell_type": "code",
      "metadata": {
        "id": "RuU4CA-zGTJF"
      },
      "source": [
        "df_test.isnull().sum()"
      ],
      "execution_count": null,
      "outputs": []
    },
    {
      "cell_type": "markdown",
      "metadata": {
        "id": "wqMF4rvWGTJF"
      },
      "source": [
        "# Exercise 1 (2pts):\n",
        "Extract the title (Mr, Mrs, ... ) from the \"Name\" column.\n",
        "\n",
        "Tips:\n",
        "- split(',')[1] to get the 2nd part, and remove the surnamename\n",
        "- split('.')[0] to get the 1str part, and remove the name"
      ]
    },
    {
      "cell_type": "code",
      "metadata": {
        "deletable": false,
        "nbgrader": {
          "cell_type": "code",
          "checksum": "cac1de4ed2d966fcdf707a8bfd131fba",
          "grade": false,
          "grade_id": "cell-d56107842f0f54d2",
          "locked": false,
          "schema_version": 3,
          "solution": true,
          "task": false
        },
        "id": "etk_5JccGTJG"
      },
      "source": [
        "# CODE HERE get_Title_from_Name funtion\n",
        "# Create this function using lambda (not def)\n",
        "\n",
        "get_Title_from_Name = lambda x: x.split(\",\")[1].split(\".\")[0].strip()\n",
        "\n",
        "# YOUR CODE HERE\n",
        "\n",
        "\n",
        "df['Title']      = df['Name'].map(get_Title_from_Name )\n",
        "df_test['Title'] = df_test['Name'].map(get_Title_from_Name)"
      ],
      "execution_count": null,
      "outputs": []
    },
    {
      "cell_type": "code",
      "metadata": {
        "deletable": false,
        "editable": false,
        "nbgrader": {
          "cell_type": "code",
          "checksum": "f23c4d567e5fb4f4b69a001df14c6f7c",
          "grade": true,
          "grade_id": "cell-f3d989a17018344b",
          "locked": true,
          "points": 2,
          "schema_version": 3,
          "solution": false,
          "task": false
        },
        "id": "rjA2WiP2GTJG"
      },
      "source": [
        "assert df['Title'].values[0] == \"Mr\"\n",
        "assert df['Title'].values[1] == \"Mrs\"\n",
        "assert df['Title'].values[2] == \"Miss\"\n",
        "\n",
        "assert df_test['Title'].values[0] == \"Mr\"\n",
        "assert df_test['Title'].values[1] == \"Mrs\"\n",
        "assert df_test['Title'].values[414] == \"Dona\""
      ],
      "execution_count": null,
      "outputs": []
    },
    {
      "cell_type": "markdown",
      "metadata": {
        "id": "UgNzdajbGTJH"
      },
      "source": [
        "# Exercise 2 (1pts):\n",
        "Apply the title_dictionary to get a better information about the title. You have to overwrite the Title variable."
      ]
    },
    {
      "cell_type": "code",
      "metadata": {
        "id": "5ldddkOOGTJH"
      },
      "source": [
        "title_dictionary = {\n",
        "    \"Capt\": \"Officer\",\n",
        "    \"Col\": \"Officer\",\n",
        "    \"Major\": \"Officer\",\n",
        "    \"Jonkheer\": \"Royalty\",\n",
        "    \"Don\": \"Royalty\",\n",
        "    \"Sir\" : \"Royalty\",\n",
        "    \"Dr\": \"Officer\",\n",
        "    \"Rev\": \"Officer\",\n",
        "    \"the Countess\":\"Royalty\",\n",
        "    \"Mme\": \"Mrs\",\n",
        "    \"Mlle\": \"Miss\",\n",
        "    \"Ms\": \"Mrs\",\n",
        "    \"Mr\" : \"Mr\",\n",
        "    \"Mrs\" : \"Mrs\",\n",
        "    \"Miss\" : \"Miss\",\n",
        "    \"Master\" : \"Master\",\n",
        "    \"Lady\" : \"Royalty\"\n",
        "}"
      ],
      "execution_count": null,
      "outputs": []
    },
    {
      "cell_type": "code",
      "metadata": {
        "deletable": false,
        "nbgrader": {
          "cell_type": "code",
          "checksum": "da7233548e7218eded680b5edb7963de",
          "grade": false,
          "grade_id": "cell-5c6a842c812fafda",
          "locked": false,
          "schema_version": 3,
          "solution": true,
          "task": false
        },
        "id": "qcrIrZ4eGTJH"
      },
      "source": [
        "# Use map to apply the prevous dict\n",
        "\n",
        "# df[\"Title\"] =  \n",
        "# df_test[\"Title\"] =\n",
        "\n",
        "# YOUR CODE HERE\n",
        "df[\"Title\"] = df['Title'].map(title_dictionary)\n",
        "df_test[\"Title\"] = df_test['Title'].map(title_dictionary)"
      ],
      "execution_count": null,
      "outputs": []
    },
    {
      "cell_type": "code",
      "metadata": {
        "deletable": false,
        "editable": false,
        "nbgrader": {
          "cell_type": "code",
          "checksum": "96a09f1cde63b704ff2f391309c30690",
          "grade": true,
          "grade_id": "cell-669f5a637e57e835",
          "locked": true,
          "points": 1,
          "schema_version": 3,
          "solution": false,
          "task": false
        },
        "id": "Hk0Io4rWGTJI"
      },
      "source": [
        "assert df['Title'].values[886] == \"Officer\"\n",
        "assert df_test['Title'].values[417] == \"Master\""
      ],
      "execution_count": null,
      "outputs": []
    },
    {
      "cell_type": "markdown",
      "metadata": {
        "id": "CvWatIkvGTJI"
      },
      "source": [
        "# Exercise OPTINAL (0pts):\n",
        "Try to extract some information from the feature **Ticket**. Search on Internet if that colum has some kind of information."
      ]
    },
    {
      "cell_type": "code",
      "metadata": {
        "id": "s6UeTErrGTJI"
      },
      "source": [
        "df_test['Ticket']"
      ],
      "execution_count": null,
      "outputs": []
    },
    {
      "cell_type": "markdown",
      "metadata": {
        "id": "mIg7gLfIGTJJ"
      },
      "source": [
        "# Exercise OPTIONAL (0pts):\n",
        "Try to extract some information from the feature **Cabin**. Search on Internet if that colum has some kind of information."
      ]
    },
    {
      "cell_type": "code",
      "metadata": {
        "id": "wtnbMMjsGTJJ"
      },
      "source": [
        "df_test['Cabin']"
      ],
      "execution_count": null,
      "outputs": []
    },
    {
      "cell_type": "markdown",
      "metadata": {
        "id": "9tGsgzSwGTJJ"
      },
      "source": [
        "# Preprocessing\n",
        "For X data, notice that...\n",
        "- We drop Survived because is the target variable\n",
        "- We drop Name because we have extracted the Title: Mr, Mrs, ...\n",
        "- We drop Ticket because it has no information -> see df.Ticket.nunique()\n",
        "- We drop Cabin because it has a lot of missings (77% are missings)\n",
        "\n",
        "Then, we identify **numerical** variables and **categorical** variables,"
      ]
    },
    {
      "cell_type": "code",
      "metadata": {
        "id": "FDrpBk5_GTJJ"
      },
      "source": [
        "x = df.drop(columns=[\"Survived\", 'Name', 'Ticket', 'Cabin']) # X DATA (WILL BE TRAIN+VALID DATA)\n",
        "y = df[\"Survived\"] # 0 = No, 1 = Yes\n",
        "\n",
        "x_test = df_test.drop(columns=['Name', 'Ticket', 'Cabin']) # # X_TEST DATA (NEW DATA)"
      ],
      "execution_count": null,
      "outputs": []
    },
    {
      "cell_type": "code",
      "metadata": {
        "id": "IH7jsS2BGTJK",
        "colab": {
          "base_uri": "https://localhost:8080/"
        },
        "outputId": "12ce6f87-eadd-4a10-e74b-0731e1ee2e34"
      },
      "source": [
        "cat_vars  = ['Sex', 'Embarked', 'Title']         # x.select_dtypes(include=[object]).columns.values.tolist()\n",
        "num_vars  = ['Pclass', 'SibSp', 'Parch', 'Fare', 'Age'] # x.select_dtypes(exclude=[object]).columns.values.tolist()\n",
        "\n",
        "print(\"\\nNumerical features:\\n\", num_vars)\n",
        "print(\"\\nCategorical features:\\n\", cat_vars)"
      ],
      "execution_count": 5,
      "outputs": [
        {
          "output_type": "stream",
          "text": [
            "\n",
            "Numerical features:\n",
            " ['Pclass', 'SibSp', 'Parch', 'Fare', 'Age']\n",
            "\n",
            "Categorical features:\n",
            " ['Sex', 'Embarked', 'Title']\n"
          ],
          "name": "stdout"
        }
      ]
    },
    {
      "cell_type": "markdown",
      "metadata": {
        "id": "EThRmjL4GTJK"
      },
      "source": [
        "# Exercise 3 (2pts):\n",
        "Create a **ColumnTransformer for Tree Models**. You need to create 2 pipelines (one for numerical and other for categories). Remember:\n",
        "- Categorical pipeline: Some SimpleImputer -> Some Encoder\n",
        "- Numerical pipeline: Some SimpleImputer -> NO Encoder"
      ]
    },
    {
      "cell_type": "code",
      "metadata": {
        "deletable": false,
        "nbgrader": {
          "cell_type": "code",
          "checksum": "4a99fc5ecc693dc549b0e1560c568eea",
          "grade": false,
          "grade_id": "cell-c607e75fb38ea248",
          "locked": false,
          "schema_version": 3,
          "solution": true,
          "task": false
        },
        "id": "iujggawzGTJL",
        "colab": {
          "base_uri": "https://localhost:8080/",
          "height": 134
        },
        "outputId": "42f436cc-b022-48f0-f647-adb4d7a4d74b"
      },
      "source": [
        "\n",
        "num_4_treeModels = pipeline.Pipeline(steps=[('imputer', impute.SimpleImputer(strategy='mean', add_indicator=False)), \n",
        "                                            ])\n",
        "\n",
        "cat_4_treeModels = pipeline.Pipeline(steps=[\n",
        "    ('imputer', impute.SimpleImputer(strategy='constant', fill_value='missing')),\n",
        "    ('onehot', preprocessing.OneHotEncoder(handle_unknown='ignore'))\n",
        "])\n",
        "\n",
        "tree_prepro = compose.ColumnTransformer(transformers=[\n",
        "    ('num', num_preprocessing, num_vars),\n",
        "    ('cat', cat_preporcessing, cat_vars),\n",
        "], remainder='drop') # Drop other vars not specified in num_vars or cat_vars\n",
        "\n",
        "tree_prepro\n",
        "\n"
      ],
      "execution_count": 16,
      "outputs": [
        {
          "output_type": "execute_result",
          "data": {
            "text/html": [
              "<style>#sk-1aecc68c-5043-4e14-8b02-968f157d2a0e {color: black;background-color: white;}#sk-1aecc68c-5043-4e14-8b02-968f157d2a0e pre{padding: 0;}#sk-1aecc68c-5043-4e14-8b02-968f157d2a0e div.sk-toggleable {background-color: white;}#sk-1aecc68c-5043-4e14-8b02-968f157d2a0e label.sk-toggleable__label {cursor: pointer;display: block;width: 100%;margin-bottom: 0;padding: 0.2em 0.3em;box-sizing: border-box;text-align: center;}#sk-1aecc68c-5043-4e14-8b02-968f157d2a0e div.sk-toggleable__content {max-height: 0;max-width: 0;overflow: hidden;text-align: left;background-color: #f0f8ff;}#sk-1aecc68c-5043-4e14-8b02-968f157d2a0e div.sk-toggleable__content pre {margin: 0.2em;color: black;border-radius: 0.25em;background-color: #f0f8ff;}#sk-1aecc68c-5043-4e14-8b02-968f157d2a0e input.sk-toggleable__control:checked~div.sk-toggleable__content {max-height: 200px;max-width: 100%;overflow: auto;}#sk-1aecc68c-5043-4e14-8b02-968f157d2a0e div.sk-estimator input.sk-toggleable__control:checked~label.sk-toggleable__label {background-color: #d4ebff;}#sk-1aecc68c-5043-4e14-8b02-968f157d2a0e div.sk-label input.sk-toggleable__control:checked~label.sk-toggleable__label {background-color: #d4ebff;}#sk-1aecc68c-5043-4e14-8b02-968f157d2a0e input.sk-hidden--visually {border: 0;clip: rect(1px 1px 1px 1px);clip: rect(1px, 1px, 1px, 1px);height: 1px;margin: -1px;overflow: hidden;padding: 0;position: absolute;width: 1px;}#sk-1aecc68c-5043-4e14-8b02-968f157d2a0e div.sk-estimator {font-family: monospace;background-color: #f0f8ff;margin: 0.25em 0.25em;border: 1px dotted black;border-radius: 0.25em;box-sizing: border-box;}#sk-1aecc68c-5043-4e14-8b02-968f157d2a0e div.sk-estimator:hover {background-color: #d4ebff;}#sk-1aecc68c-5043-4e14-8b02-968f157d2a0e div.sk-parallel-item::after {content: \"\";width: 100%;border-bottom: 1px solid gray;flex-grow: 1;}#sk-1aecc68c-5043-4e14-8b02-968f157d2a0e div.sk-label:hover label.sk-toggleable__label {background-color: #d4ebff;}#sk-1aecc68c-5043-4e14-8b02-968f157d2a0e div.sk-serial::before {content: \"\";position: absolute;border-left: 1px solid gray;box-sizing: border-box;top: 2em;bottom: 0;left: 50%;}#sk-1aecc68c-5043-4e14-8b02-968f157d2a0e div.sk-serial {display: flex;flex-direction: column;align-items: center;background-color: white;}#sk-1aecc68c-5043-4e14-8b02-968f157d2a0e div.sk-item {z-index: 1;}#sk-1aecc68c-5043-4e14-8b02-968f157d2a0e div.sk-parallel {display: flex;align-items: stretch;justify-content: center;background-color: white;}#sk-1aecc68c-5043-4e14-8b02-968f157d2a0e div.sk-parallel-item {display: flex;flex-direction: column;position: relative;background-color: white;}#sk-1aecc68c-5043-4e14-8b02-968f157d2a0e div.sk-parallel-item:first-child::after {align-self: flex-end;width: 50%;}#sk-1aecc68c-5043-4e14-8b02-968f157d2a0e div.sk-parallel-item:last-child::after {align-self: flex-start;width: 50%;}#sk-1aecc68c-5043-4e14-8b02-968f157d2a0e div.sk-parallel-item:only-child::after {width: 0;}#sk-1aecc68c-5043-4e14-8b02-968f157d2a0e div.sk-dashed-wrapped {border: 1px dashed gray;margin: 0.2em;box-sizing: border-box;padding-bottom: 0.1em;background-color: white;position: relative;}#sk-1aecc68c-5043-4e14-8b02-968f157d2a0e div.sk-label label {font-family: monospace;font-weight: bold;background-color: white;display: inline-block;line-height: 1.2em;}#sk-1aecc68c-5043-4e14-8b02-968f157d2a0e div.sk-label-container {position: relative;z-index: 2;text-align: center;}#sk-1aecc68c-5043-4e14-8b02-968f157d2a0e div.sk-container {display: inline-block;position: relative;}</style><div id=\"sk-1aecc68c-5043-4e14-8b02-968f157d2a0e\" class\"sk-top-container\"><div class=\"sk-container\"><div class=\"sk-item sk-dashed-wrapped\"><div class=\"sk-label-container\"><div class=\"sk-label sk-toggleable\"><input class=\"sk-toggleable__control sk-hidden--visually\" id=\"d3115e27-686b-49a9-bab9-3118ac6cbc17\" type=\"checkbox\" ><label class=\"sk-toggleable__label\" for=\"d3115e27-686b-49a9-bab9-3118ac6cbc17\">ColumnTransformer</label><div class=\"sk-toggleable__content\"><pre>ColumnTransformer(transformers=[('num',\n",
              "                                 Pipeline(steps=[('imputer', SimpleImputer()),\n",
              "                                                 ('scaler', StandardScaler())]),\n",
              "                                 ['Pclass', 'SibSp', 'Parch', 'Fare', 'Age']),\n",
              "                                ('cat',\n",
              "                                 Pipeline(steps=[('imputer',\n",
              "                                                  SimpleImputer(fill_value='missing',\n",
              "                                                                strategy='constant')),\n",
              "                                                 ('onehot',\n",
              "                                                  OneHotEncoder(handle_unknown='ignore'))]),\n",
              "                                 ['Sex', 'Embarked', 'Title'])])</pre></div></div></div><div class=\"sk-parallel\"><div class=\"sk-parallel-item\"><div class=\"sk-item\"><div class=\"sk-label-container\"><div class=\"sk-label sk-toggleable\"><input class=\"sk-toggleable__control sk-hidden--visually\" id=\"fe608943-f609-4036-8032-ed7423023bc0\" type=\"checkbox\" ><label class=\"sk-toggleable__label\" for=\"fe608943-f609-4036-8032-ed7423023bc0\">num</label><div class=\"sk-toggleable__content\"><pre>['Pclass', 'SibSp', 'Parch', 'Fare', 'Age']</pre></div></div></div><div class=\"sk-serial\"><div class=\"sk-item\"><div class=\"sk-serial\"><div class=\"sk-item\"><div class=\"sk-estimator sk-toggleable\"><input class=\"sk-toggleable__control sk-hidden--visually\" id=\"d14b2fdc-d77d-45ac-bd8f-2e99d35f5d7d\" type=\"checkbox\" ><label class=\"sk-toggleable__label\" for=\"d14b2fdc-d77d-45ac-bd8f-2e99d35f5d7d\">SimpleImputer</label><div class=\"sk-toggleable__content\"><pre>SimpleImputer()</pre></div></div></div><div class=\"sk-item\"><div class=\"sk-estimator sk-toggleable\"><input class=\"sk-toggleable__control sk-hidden--visually\" id=\"fe8ba361-c33a-4e4c-973c-542acf202f03\" type=\"checkbox\" ><label class=\"sk-toggleable__label\" for=\"fe8ba361-c33a-4e4c-973c-542acf202f03\">StandardScaler</label><div class=\"sk-toggleable__content\"><pre>StandardScaler()</pre></div></div></div></div></div></div></div></div><div class=\"sk-parallel-item\"><div class=\"sk-item\"><div class=\"sk-label-container\"><div class=\"sk-label sk-toggleable\"><input class=\"sk-toggleable__control sk-hidden--visually\" id=\"446cc04a-e9d4-44f1-87b9-c33e906ffda4\" type=\"checkbox\" ><label class=\"sk-toggleable__label\" for=\"446cc04a-e9d4-44f1-87b9-c33e906ffda4\">cat</label><div class=\"sk-toggleable__content\"><pre>['Sex', 'Embarked', 'Title']</pre></div></div></div><div class=\"sk-serial\"><div class=\"sk-item\"><div class=\"sk-serial\"><div class=\"sk-item\"><div class=\"sk-estimator sk-toggleable\"><input class=\"sk-toggleable__control sk-hidden--visually\" id=\"64156175-c907-4613-98bd-4603e7f13f47\" type=\"checkbox\" ><label class=\"sk-toggleable__label\" for=\"64156175-c907-4613-98bd-4603e7f13f47\">SimpleImputer</label><div class=\"sk-toggleable__content\"><pre>SimpleImputer(fill_value='missing', strategy='constant')</pre></div></div></div><div class=\"sk-item\"><div class=\"sk-estimator sk-toggleable\"><input class=\"sk-toggleable__control sk-hidden--visually\" id=\"0b14057b-73d0-494b-a83b-7baaf085f9ad\" type=\"checkbox\" ><label class=\"sk-toggleable__label\" for=\"0b14057b-73d0-494b-a83b-7baaf085f9ad\">OneHotEncoder</label><div class=\"sk-toggleable__content\"><pre>OneHotEncoder(handle_unknown='ignore')</pre></div></div></div></div></div></div></div></div></div></div></div></div>"
            ],
            "text/plain": [
              "ColumnTransformer(transformers=[('num',\n",
              "                                 Pipeline(steps=[('imputer', SimpleImputer()),\n",
              "                                                 ('scaler', StandardScaler())]),\n",
              "                                 ['Pclass', 'SibSp', 'Parch', 'Fare', 'Age']),\n",
              "                                ('cat',\n",
              "                                 Pipeline(steps=[('imputer',\n",
              "                                                  SimpleImputer(fill_value='missing',\n",
              "                                                                strategy='constant')),\n",
              "                                                 ('onehot',\n",
              "                                                  OneHotEncoder(handle_unknown='ignore'))]),\n",
              "                                 ['Sex', 'Embarked', 'Title'])])"
            ]
          },
          "metadata": {
            "tags": []
          },
          "execution_count": 16
        }
      ]
    },
    {
      "cell_type": "code",
      "metadata": {
        "colab": {
          "base_uri": "https://localhost:8080/"
        },
        "id": "g5RxdOFfPQSW",
        "outputId": "b1cb6f0b-424e-40bc-8428-68d469b04d2d"
      },
      "source": [
        "len(num_4_treeModels)"
      ],
      "execution_count": 17,
      "outputs": [
        {
          "output_type": "execute_result",
          "data": {
            "text/plain": [
              "1"
            ]
          },
          "metadata": {
            "tags": []
          },
          "execution_count": 17
        }
      ]
    },
    {
      "cell_type": "code",
      "metadata": {
        "deletable": false,
        "editable": false,
        "nbgrader": {
          "cell_type": "code",
          "checksum": "00bde840843413a4f57c4480f8930ef0",
          "grade": true,
          "grade_id": "cell-e636558135fb5975",
          "locked": true,
          "points": 2,
          "schema_version": 3,
          "solution": false,
          "task": false
        },
        "id": "yz75zK42GTJL"
      },
      "source": [
        "assert type(tree_prepro)      is compose._column_transformer.ColumnTransformer\n",
        "assert type(num_4_treeModels) is pipeline.Pipeline\n",
        "assert type(cat_4_treeModels) is pipeline.Pipeline\n",
        "assert len(num_4_treeModels) == 1\n",
        "assert len(cat_4_treeModels) == 2"
      ],
      "execution_count": 18,
      "outputs": []
    },
    {
      "cell_type": "markdown",
      "metadata": {
        "id": "aL6HiZK0GTJL"
      },
      "source": [
        "# Exercise 4 (1pts):\n",
        "1. Complete the diccionary with some Tree Models.\n",
        "2. Then we put each model in a Pipeline where:\n",
        "   - first is the prepocessing with the column Transformer\n",
        "   - Then is the Tree model\n",
        "3. Display the fullpipeline of the LGBMClassifier"
      ]
    },
    {
      "cell_type": "code",
      "metadata": {
        "id": "FXdl1hKgGTJM"
      },
      "source": [
        "from sklearn.tree          import DecisionTreeClassifier\n",
        "from sklearn.ensemble      import RandomForestClassifier\n",
        "from sklearn.ensemble      import ExtraTreesClassifier\n",
        "from sklearn.ensemble      import AdaBoostClassifier\n",
        "from sklearn.ensemble      import GradientBoostingClassifier\n",
        "from sklearn.experimental  import enable_hist_gradient_boosting # Necesary for HistGradientBoostingClassifier\n",
        "from sklearn.ensemble      import HistGradientBoostingClassifier\n",
        "from xgboost               import XGBClassifier\n",
        "from lightgbm              import LGBMClassifier\n",
        "from catboost              import CatBoostClassifier"
      ],
      "execution_count": 22,
      "outputs": []
    },
    {
      "cell_type": "code",
      "metadata": {
        "deletable": false,
        "nbgrader": {
          "cell_type": "code",
          "checksum": "f23af11f3af791efa5687477c0a4c9d6",
          "grade": false,
          "grade_id": "cell-76a3be8223730c5a",
          "locked": false,
          "schema_version": 3,
          "solution": true,
          "task": false
        },
        "id": "92x9ELMfGTJM",
        "colab": {
          "base_uri": "https://localhost:8080/",
          "height": 128
        },
        "outputId": "f169ef98-9a05-4f54-ae1b-acf5b624e506"
      },
      "source": [
        "\n",
        "tree_classifiers = {\n",
        "  \"Decision Tree\": DecisionTreeClassifier(),\n",
        "  \"Extra Trees\": ExtraTreesClassifier(),\n",
        "  \"Random Forest\": RandomForestClassifier(),\n",
        "  \"AdaBoost\": AdaBoostClassifier(),\n",
        "  \"Skl GBM\": SklHistGBM(),\n",
        "  \"Skl HistGBM\": SklHistGBM(),\n",
        "  \"XGBoost\": XGBoost(),\n",
        "  \"LightGBM\": LGBMClassifier(),\n",
        "  \"CatBoost\": CatBoostClassifier()\n",
        "\n",
        "\n",
        "\n",
        "\n",
        "# YOUR CODE HERE\n",
        "\n",
        "\n",
        "tree_classifiers = {name: pipeline.make_pipeline(tree_prepro, model) for name, model in tree_classifiers.items()}\n",
        "\n",
        "tree_classifiers[\"LightGBM\"]"
      ],
      "execution_count": 27,
      "outputs": [
        {
          "output_type": "error",
          "ename": "SyntaxError",
          "evalue": "ignored",
          "traceback": [
            "\u001b[0;36m  File \u001b[0;32m\"<ipython-input-27-d9bc01e8fb70>\"\u001b[0;36m, line \u001b[0;32m19\u001b[0m\n\u001b[0;31m    tree_classifiers = {name: pipeline.make_pipeline(tree_prepro, model) for name, model in tree_classifiers.items()}\u001b[0m\n\u001b[0m                   ^\u001b[0m\n\u001b[0;31mSyntaxError\u001b[0m\u001b[0;31m:\u001b[0m invalid syntax\n"
          ]
        }
      ]
    },
    {
      "cell_type": "code",
      "metadata": {
        "deletable": false,
        "editable": false,
        "nbgrader": {
          "cell_type": "code",
          "checksum": "2355552b3ce823e44fdaea06394e054c",
          "grade": true,
          "grade_id": "cell-d4744022b37e2e9b",
          "locked": true,
          "points": 1,
          "schema_version": 3,
          "solution": false,
          "task": false
        },
        "id": "rcXkb9ZiGTJN"
      },
      "source": [
        "for pipe in tree_classifiers.values():\n",
        "    assert type(pipe) is pipeline.Pipeline"
      ],
      "execution_count": null,
      "outputs": []
    },
    {
      "cell_type": "markdown",
      "metadata": {
        "id": "FH7UKPVJGTJN"
      },
      "source": [
        "# Exercise 5 (3pts):\n",
        "Define a simple split validation strategy with:\n",
        "- 80% for train\n",
        "- 20% for validation\n",
        "- With stratification\n",
        "- random_state=0\n",
        "\n",
        "And train all the models in a for loop"
      ]
    },
    {
      "cell_type": "code",
      "metadata": {
        "deletable": false,
        "id": "kY1uWk6-OcLw",
        "nbgrader": {
          "cell_type": "code",
          "checksum": "e48597a78f468a95abf116052e9f68e6",
          "grade": false,
          "grade_id": "cell-64f17e0d448bca7e",
          "locked": false,
          "schema_version": 3,
          "solution": true,
          "task": false
        }
      },
      "source": [
        "\"\"\"\n",
        "x_train, x_val, y_train, y_val = model_selection.train_test_split(\n",
        "    # CODE HERE\n",
        ")\n",
        "\"\"\"\n",
        "# YOUR CODE HERE\n",
        "raise NotImplementedError()\n",
        "\n",
        "\n",
        "results = pd.DataFrame({'Model': [], 'Accuracy': [], 'Bal Acc.': [], 'Time': []})\n",
        "\n",
        "\"\"\"\n",
        "for model_name, model in tree_classifiers.items():\n",
        "    start_time = time.time()\n",
        "    \n",
        "    # FOR EVERY PIPELINE (PREPRO + MODEL) -> TRAIN WITH TRAIN DATA (x_train)\n",
        "    \n",
        "    # GET PREDICTIONS USING x_val\n",
        "    pred = # CODE HERE\n",
        "\n",
        "    total_time = time.time() - start_time\n",
        "\n",
        "    results = results.append({\"Model\":    model_name,\n",
        "                              \"Accuracy\": metrics.accuracy_score(y_val, pred)*100,\n",
        "                              \"Bal Acc.\": metrics.balanced_accuracy_score(y_val, pred)*100,\n",
        "                              \"Time\":     total_time},\n",
        "                              ignore_index=True)\n",
        "                              \n",
        "                              \n",
        "\"\"\"\n",
        "\n",
        "# YOUR CODE HERE\n",
        "raise NotImplementedError()\n",
        "\n",
        "\n",
        "results_ord = results.sort_values(by=['Accuracy'], ascending=False, ignore_index=True)\n",
        "results_ord.index += 1 \n",
        "results_ord.style.bar(subset=['Accuracy', 'Bal Acc.'], vmin=0, vmax=100, color='#5fba7d')"
      ],
      "execution_count": null,
      "outputs": []
    },
    {
      "cell_type": "code",
      "metadata": {
        "deletable": false,
        "editable": false,
        "nbgrader": {
          "cell_type": "code",
          "checksum": "dde6f91a6185745a813882e0c1f997bc",
          "grade": true,
          "grade_id": "cell-af27b33fe88ad384",
          "locked": true,
          "points": 3,
          "schema_version": 3,
          "solution": false,
          "task": false
        },
        "id": "b0GwwgiRGTJO"
      },
      "source": [
        "assert results_ord[\"Accuracy\"].min() > 75\n",
        "assert results_ord[\"Bal Acc.\"].min() > 75\n",
        "assert len(results_ord) == 9"
      ],
      "execution_count": null,
      "outputs": []
    },
    {
      "cell_type": "markdown",
      "metadata": {
        "id": "X-a6u4rxGTJO"
      },
      "source": [
        "# Exercise 6 (3pts):\n",
        "Define a 10 Fold cross validation strategy with:\n",
        "- With stratification\n",
        "- shuffle=True\n",
        "- random_state=0\n",
        "\n",
        "And train all the models in a for loop.\n",
        "\n",
        "Tip you can use **[cross_val_predict](https://scikit-learn.org/stable/modules/generated/sklearn.model_selection.cross_val_predict.html)** for both training and predict with "
      ]
    },
    {
      "cell_type": "code",
      "metadata": {
        "deletable": false,
        "nbgrader": {
          "cell_type": "code",
          "checksum": "b9238f7916249fc81179a78b5492e5d4",
          "grade": false,
          "grade_id": "cell-37bf16dc25b43732",
          "locked": false,
          "schema_version": 3,
          "solution": true,
          "task": false
        },
        "id": "7Dj52erlGTJO"
      },
      "source": [
        "\"\"\"\n",
        "skf = model_selection.StratifiedKFold(\n",
        "    # CODE HERE\n",
        ")\n",
        "\"\"\"\n",
        "# YOUR CODE HERE\n",
        "raise NotImplementedError()\n",
        "\n",
        "\n",
        "results = pd.DataFrame({'Model': [], 'Accuracy': [], 'Bal Acc.': [], 'Time': []})\n",
        "\n",
        "\"\"\"\n",
        "for model_name, model in tree_classifiers.items():\n",
        "    start_time = time.time()\n",
        "        \n",
        "    # TRAIN AND GET PREDICTIONS USING cross_val_predict() and x,y\n",
        "    pred = # CODE HERE\n",
        "\n",
        "    total_time = time.time() - start_time\n",
        "\n",
        "    results = results.append({\"Model\":    model_name,\n",
        "                              \"Accuracy\": metrics.accuracy_score(y_val, pred)*100,\n",
        "                              \"Bal Acc.\": metrics.balanced_accuracy_score(y_val, pred)*100,\n",
        "                              \"Time\":     total_time},\n",
        "                              ignore_index=True)\n",
        "                              \n",
        "                              \n",
        "\"\"\"\n",
        "\n",
        "# YOUR CODE HERE\n",
        "raise NotImplementedError()\n",
        "\n",
        "\n",
        "results_ord = results.sort_values(by=['Accuracy'], ascending=False, ignore_index=True)\n",
        "results_ord.index += 1 \n",
        "results_ord.style.bar(subset=['Accuracy', 'Bal Acc.'], vmin=0, vmax=100, color='#5fba7d')"
      ],
      "execution_count": null,
      "outputs": []
    },
    {
      "cell_type": "code",
      "metadata": {
        "deletable": false,
        "editable": false,
        "nbgrader": {
          "cell_type": "code",
          "checksum": "355f8e8321aae7be679a8d16b25172f2",
          "grade": true,
          "grade_id": "cell-57cc085faad513cf",
          "locked": true,
          "points": 3,
          "schema_version": 3,
          "solution": false,
          "task": false
        },
        "id": "nDMJjPCEGTJP"
      },
      "source": [
        "assert results_ord[\"Accuracy\"].min() > 75\n",
        "assert results_ord[\"Bal Acc.\"].min() > 75\n",
        "assert len(results_ord) == 9"
      ],
      "execution_count": null,
      "outputs": []
    },
    {
      "cell_type": "markdown",
      "metadata": {
        "id": "-7Si9ngzGTJP"
      },
      "source": [
        "# Exercise 7.1\n",
        "Train with all data the best model"
      ]
    },
    {
      "cell_type": "code",
      "metadata": {
        "deletable": false,
        "id": "monuuQhHL7B_",
        "nbgrader": {
          "cell_type": "code",
          "checksum": "088ae511ec2eb947de2bff002e75d460",
          "grade": false,
          "grade_id": "cell-031a656e1e811717",
          "locked": false,
          "schema_version": 3,
          "solution": true,
          "task": false
        }
      },
      "source": [
        "# best_model = tree_classifiers[\"SELECT MY BEST MODEL HERE\"]\n",
        "\n",
        "# Fit best model with all data\n",
        "\n",
        "# YOUR CODE HERE\n",
        "raise NotImplementedError()"
      ],
      "execution_count": null,
      "outputs": []
    },
    {
      "cell_type": "markdown",
      "metadata": {
        "id": "PV8ILwfKGTJP"
      },
      "source": [
        "# Exercise 7.2 (2pts)\n",
        "With your best model, generate the predicitions for test data (x_test)"
      ]
    },
    {
      "cell_type": "code",
      "metadata": {
        "deletable": false,
        "nbgrader": {
          "cell_type": "code",
          "checksum": "031ab122b02b5833236370a53d148daf",
          "grade": false,
          "grade_id": "cell-44b93a0dbd4eb6fc",
          "locked": false,
          "schema_version": 3,
          "solution": true,
          "task": false
        },
        "id": "ee4a_CpLGTJQ"
      },
      "source": [
        "# test_pred = # Get the predictions for x_test\n",
        "\n",
        "# YOUR CODE HERE\n",
        "raise NotImplementedError()"
      ],
      "execution_count": null,
      "outputs": []
    },
    {
      "cell_type": "code",
      "metadata": {
        "deletable": false,
        "editable": false,
        "nbgrader": {
          "cell_type": "code",
          "checksum": "180b37cf4a0276bdf509220b1706a8aa",
          "grade": true,
          "grade_id": "cell-a29fc8d24284520e",
          "locked": true,
          "points": 2,
          "schema_version": 3,
          "solution": false,
          "task": false
        },
        "id": "zJeLWLWcGTJQ"
      },
      "source": [
        "assert len(test_pred) == 418\n",
        "assert np.unique(test_pred).tolist() == [0,1]"
      ],
      "execution_count": null,
      "outputs": []
    },
    {
      "cell_type": "markdown",
      "metadata": {
        "id": "S9THNB0rGTJQ"
      },
      "source": [
        "# Exercise 7.3\n",
        "\n",
        "Submit to kaggle.\n",
        "\n",
        "- You can use the kaggle command line app. Check https://github.com/Kaggle/kaggle-api"
      ]
    },
    {
      "cell_type": "code",
      "metadata": {
        "id": "ipuMU0coGTJQ"
      },
      "source": [
        "sub = pd.DataFrame(test_pred, index=x_test.index, columns=[\"Survived\"])\n",
        "sub.head()"
      ],
      "execution_count": null,
      "outputs": []
    },
    {
      "cell_type": "code",
      "metadata": {
        "id": "GQkdojiZGTJR"
      },
      "source": [
        "sub.to_csv(\"sub.csv\")"
      ],
      "execution_count": null,
      "outputs": []
    },
    {
      "cell_type": "code",
      "metadata": {
        "id": "mcGTKHoOGTJR"
      },
      "source": [
        "!kaggle competitions submit -c titanic -f sub.csv -m \"My submission message\""
      ],
      "execution_count": null,
      "outputs": []
    }
  ]
}