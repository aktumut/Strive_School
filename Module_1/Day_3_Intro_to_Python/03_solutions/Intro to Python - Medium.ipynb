{
  "cells": [
    {
      "cell_type": "markdown",
      "source": "Here you have a collection of guided exercises for the first class on Python. <br>\nThe exercises are divided by topic, following the topics reviewed during the theory session, and for each topic you have some mandatory exercises, and other optional exercises, which you are invited to do if you still have time after the mandatory exercises. <br>\n\nRemember that you have 5 hours to solve these exercises, after which we will review the most interesting exercises together. If you don't finish all the exercises, you can work on them tonightor tomorrow. \n\nAt the end of the class, we will upload the code with the solutions of the exercises so that you can review them again if needed. If you still have not finished some exercises, try to do them first by yourself, before taking a look at the solutions: you are doing these exercises for yourself, so it is always the best to do them your way first, as it is the fastest way to learn!",
      "metadata": {
        "cell_id": "00000-9067db8a-b178-4e8b-b37b-00259ad6bef1",
        "deepnote_cell_type": "markdown"
      }
    },
    {
      "cell_type": "markdown",
      "source": "**Exercise 1.3 (🌶️):** You look at the clock and see that it is currently 14.00h. You set an alarm to go off 535 hours later. At what time will the alarm go off? Write a program that prints the answer. Hint: for the best solution, you will need the modulo operator. Second hint: The answer is 21.00h, but of course, this exercise is not about the answer, but about how you get it.",
      "metadata": {
        "cell_id": "00001-6587f101-17fd-4957-a9a9-b47214c9da0e",
        "deepnote_cell_type": "markdown"
      }
    },
    {
      "cell_type": "code",
      "metadata": {
        "cell_id": "00002-419ead24-63d2-482a-b976-4e8e7f6de174",
        "deepnote_cell_type": "code"
      },
      "source": "#Your Code Here\n\n# Clock\ncurrent_time = 14\nextra_time = 535%24\nprint(current_time + extra_time)",
      "outputs": [
        {
          "name": "stdout",
          "output_type": "stream",
          "text": "21\n"
        }
      ],
      "execution_count": null
    },
    {
      "cell_type": "markdown",
      "source": "**Exercise 5.4 (🌶️):** \"99 bottles of beer\" is a traditional song in the United States and Canada. It is popular to sing on long trips, as it has a very repetitive format which is easy to memorize, and can take a long time to sing. The song's simple lyrics are as follows: \"99 bottles of beer on the wall, 99 bottles of beer. Take one down, pass it around, 98 bottles of beer on the wall.\" The same verse is repeated, each time with one fewer bottle. The song is completed when the singer or singers reach zero. Write a function that generates and prints all the verses of the song (though you might start a bit lower, for instance with 10 bottles). Make sure that your loop is not endless, and that you use the proper inflection for the word \"bottle\".",
      "metadata": {
        "cell_id": "00003-0fb555c0-817e-40d1-99f0-16999d5ac194",
        "deepnote_cell_type": "markdown"
      }
    },
    {
      "cell_type": "code",
      "metadata": {
        "cell_id": "00004-f70e32e1-0bd3-4e8b-9e4a-281e3ce48899",
        "deepnote_cell_type": "code"
      },
      "source": "#Your Code Here\ndef bottle_song(bottles):\n    \"\"\"\n    5 bottles of beer on the wall, 5 bottles of beer. Take one down, pass it around, 4 bottles of beer in the wall\n    4 bottles of beer on the wall, 4 bottles of beer. Take one down, pass it around, 3 bottles of beer in the wall\n    3 bottles of beer on the wall, 3 bottles of beer. Take one down, pass it around, 2 bottles of beer in the wall\n    2 bottles of beer on the wall, 2 bottles of beer. Take one down, pass it around, 1 bottle of beer in the wall\n    1 bottle of beer on the wall, 1 bottle of beer. Take one down, pass it around, 0 bottles of beer in the wall\n    \"\"\"\n    for i in range (bottles, 0,-1):\n        if i > 2:\n            print(str(i),\"bottles of beer on the wall,\",str(i),\"bottles of beer. Take one down, pass it around,\", str(i-1), \"bottles of beer in the wall\")\n        elif i == 2:\n            print(str(i),\"bottles of beer on the wall,\",str(i),\"bottles of beer. Take one down, pass it around,\", str(i-1), \"bottle of beer in the wall\")\n        else:\n            print(str(i),\"bottle of beer on the wall,\",str(i),\"bottle of beer. Take one down, pass it around,\", str(i-1), \"bottles of beer in the wall\")\n\nbottle_song(5)\n",
      "outputs": [
        {
          "name": "stdout",
          "output_type": "stream",
          "text": "5 bottles of beer on the wall, 5 bottles of beer. Take one down, pass it around, 4 bottles of beer in the wall\n4 bottles of beer on the wall, 4 bottles of beer. Take one down, pass it around, 3 bottles of beer in the wall\n3 bottles of beer on the wall, 3 bottles of beer. Take one down, pass it around, 2 bottles of beer in the wall\n2 bottles of beer on the wall, 2 bottles of beer. Take one down, pass it around, 1 bottle of beer in the wall\n1 bottle of beer on the wall, 1 bottle of beer. Take one down, pass it around, 0 bottles of beer in the wall\n"
        }
      ],
      "execution_count": null
    },
    {
      "cell_type": "markdown",
      "source": "**Exercise 5.5 (🌶️):** The Fibonacci sequence is a sequence of numbers that starts with 1, followed by 1 again. Every next number is the sum of the two previous numbers. I.e., the sequence starts with 1, 1, 2, 3, 5, 8, 13, 21,... Write a function that calculates and prints the Fibonacci sequence until the numbers get higher than a `maximum`.",
      "metadata": {
        "cell_id": "00005-67b31a87-c4e8-4185-aacc-9a1c6116ae89",
        "deepnote_cell_type": "markdown"
      }
    },
    {
      "cell_type": "code",
      "metadata": {
        "cell_id": "00006-c90b46c9-47c3-4938-b767-c19eb50dc41a",
        "deepnote_cell_type": "code"
      },
      "source": "#Your Code Here\ndef fibonacci(maximum):\n    \"\"\"\n    Fibonacci sequence up to 22 :\n    0, 1 , 1 , 2 , 3 , 5 , 8 , 13 , 21\n    \"\"\"\n    \n    # first two terms\n    n1 = 0\n    n2 = 1\n    \n    print(\"Fibonacci sequence up to\",maximum,\":\")\n    while n1 < maximum:\n        print(n1, end=', ')\n        nth = n1 + n2\n        # update values\n        n1 = n2\n        n2 = nth\n        \nfibonacci(22)\n\n",
      "outputs": [
        {
          "name": "stdout",
          "output_type": "stream",
          "text": "Fibonacci sequence up to 22 :\n0, 1, 1, 2, 3, 5, 8, 13, 21, "
        }
      ],
      "execution_count": null
    },
    {
      "cell_type": "markdown",
      "source": "**Exercise 5.8 (🌶️):** A, B, C, and D are all different digits. The number DCBA is equal to 4 times the number ABCD. What are the digits? Note: to make ABCD and DCBA conventional numbers, neither A nor D can be zero. Use a quadruple-nested loop.",
      "metadata": {
        "cell_id": "00007-91d4c71f-8592-4701-afaf-c4b40dc21fce",
        "deepnote_cell_type": "markdown"
      }
    },
    {
      "cell_type": "code",
      "metadata": {
        "cell_id": "00008-0104d93a-4b8e-4411-8cf0-2d2122e10e8b",
        "deepnote_cell_type": "code"
      },
      "source": "#Your Code Here\n# Solve 4*ABCD == DCBA\ndigits = [0, 1, 2, 3, 4, 5, 6, 7, 8, 9]\n\ndef nested_nest(digits):\n    \n    \"\"\"\n    A = 2\n    B = 1\n    C = 7\n    D = 8\n    \"\"\"\n    for a in digits[1:]:\n        for b in digits:\n            for c in digits:\n                for d in digits[1:]:\n                    if 4*(a*1000+b*100+c*10+d*1) == (d*1000+c*100+b*10+a*1):\n                        print('A =', a)\n                        print('B =', b)\n                        print('C =', c)\n                        print('D =', d)\n\nnested_nest(digits)",
      "outputs": [
        {
          "name": "stdout",
          "output_type": "stream",
          "text": "A = 2\nB = 1\nC = 7\nD = 8\n"
        }
      ],
      "execution_count": null
    },
    {
      "cell_type": "code",
      "metadata": {
        "cell_id": "00009-34143bbe-e104-492c-bd2f-eaa3e2fe2767",
        "deepnote_cell_type": "code"
      },
      "source": "",
      "execution_count": null,
      "outputs": []
    },
    {
      "cell_type": "markdown",
      "source": "<a style='text-decoration:none;line-height:16px;display:flex;color:#5B5B62;padding:10px;justify-content:end;' href='https://deepnote.com?utm_source=created-in-deepnote-cell&projectId=de1ac35b-5d65-41bd-963f-f23b6439f960' target=\"_blank\">\n<img style='display:inline;max-height:16px;margin:0px;margin-right:7.5px;' src='data:image/svg+xml;base64,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' > </img>\nCreated in <span style='font-weight:600;margin-left:4px;'>Deepnote</span></a>",
      "metadata": {
        "tags": [],
        "created_in_deepnote_cell": true,
        "deepnote_cell_type": "markdown"
      }
    }
  ],
  "nbformat": 4,
  "nbformat_minor": 4,
  "metadata": {
    "kernelspec": {
      "display_name": "Python 3",
      "language": "python",
      "name": "python3"
    },
    "language_info": {
      "codemirror_mode": {
        "name": "ipython",
        "version": 3
      },
      "file_extension": ".py",
      "mimetype": "text/x-python",
      "name": "python",
      "nbconvert_exporter": "python",
      "pygments_lexer": "ipython3",
      "version": "3.8.5"
    },
    "deepnote_notebook_id": "a8a44d81-b027-4440-8be1-953b2a07b15d",
    "deepnote": {},
    "deepnote_execution_queue": []
  }
}