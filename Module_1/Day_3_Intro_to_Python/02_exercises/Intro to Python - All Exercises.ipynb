{
  "cells": [
    {
      "cell_type": "markdown",
      "source": "Here you have a collection of guided exercises for the first class on Python. <br>\nThe exercises are divided by topic, following the topics reviewed during the theory session, and for each topic you have some mandatory exercises, and other optional exercises, which you are invited to do if you still have time after the mandatory exercises. <br>\n\nRemember that you have 5 hours to solve these exercises, after which we will review the most interesting exercises together. If you don't finish all the exercises, you can work on them tonightor tomorrow. \n\nAt the end of the class, we will upload the code with the solutions of the exercises so that you can review them again if needed. If you still have not finished some exercises, try to do them first by yourself, before taking a look at the solutions: you are doing these exercises for yourself, so it is always the best to do them your way first, as it is the fastest way to learn!",
      "metadata": {
        "cell_id": "00000-98e006a9-1296-4b9b-8e5d-b36269bc42a5",
        "deepnote_cell_type": "markdown"
      }
    },
    {
      "cell_type": "markdown",
      "source": "## From Part 1",
      "metadata": {
        "cell_id": "00001-738a402b-f4f8-4dd6-9d2f-b4e4f195ab17",
        "deepnote_cell_type": "markdown"
      }
    },
    {
      "cell_type": "markdown",
      "source": "**Exercise 1.1:** The cover price of a book is 24.95 EUR, but bookstores get a 40 percent discount. Shipping costs 3 EUR for the first copy and 75 cents for each additional copy. Calculate the total wholesale costs for 60 copies. ",
      "metadata": {
        "cell_id": "00002-258746d7-437a-49c8-85b8-71f9135625df",
        "deepnote_cell_type": "markdown"
      }
    },
    {
      "cell_type": "code",
      "metadata": {
        "cell_id": "00003-3e03a843-6dd7-482f-bdb8-6e5c19446ce9",
        "deepnote_to_be_reexecuted": false,
        "source_hash": "d3a4e498",
        "execution_millis": 7,
        "execution_start": 1615982986899,
        "deepnote_cell_type": "code"
      },
      "source": "book_price=24.95\npiece=60\ndiscounted_book_price=24.95*0.6\n\ndef calculatingprice(book_price,piece):\n    \"\"\"\n        the function which calculates total cost of book with shipment and bookcost itself\n        \"\"\"\n    total_cost_of_books=book_price*piece\n    total_shipment_price=3+0.75*(piece-1)\n    total_cost=total_cost_of_books+total_shipment_price\n    return total_cost\n\n\ncalculatingprice(discounted_book_price,piece)\n",
      "execution_count": 5,
      "outputs": [
        {
          "output_type": "execute_result",
          "execution_count": 5,
          "data": {
            "text/plain": "945.4499999999999"
          },
          "metadata": {}
        }
      ]
    },
    {
      "cell_type": "markdown",
      "source": "**Exercise 1.2:** When something is wrong with your code, Python will raise errors. Often these will be \"syntax errors\" that signal that something is wrong with the form of your code (e.g., the code in the previous exercise raised a `SyntaxError`). There are also \"runtime errors\", which signal that your code was in itself formally correct, but that something went wrong during the code's execution. A good example is the `ZeroDivisionError`, which indicates that you tried to divide a number by zero (which, as you may know, is not allowed). Try to make Python raise such a `ZeroDivisionError`.",
      "metadata": {
        "cell_id": "00004-b02147b4-0ba7-4536-96ea-3ccaca7c22b0",
        "deepnote_cell_type": "markdown"
      }
    },
    {
      "cell_type": "code",
      "metadata": {
        "cell_id": "00005-64c180e5-4da0-4d57-83f2-b0212bdf6a01",
        "deepnote_to_be_reexecuted": false,
        "source_hash": "2c6e8759",
        "execution_millis": 41,
        "execution_start": 1615983123031,
        "deepnote_cell_type": "code"
      },
      "source": "25/0",
      "execution_count": 7,
      "outputs": [
        {
          "output_type": "error",
          "ename": "ZeroDivisionError",
          "evalue": "division by zero",
          "traceback": [
            "\u001b[0;31m---------------------------------------------------------------------------\u001b[0m",
            "\u001b[0;31mZeroDivisionError\u001b[0m                         Traceback (most recent call last)",
            "\u001b[0;32m<ipython-input-7-f1c725f43e99>\u001b[0m in \u001b[0;36m<module>\u001b[0;34m\u001b[0m\n\u001b[0;32m----> 1\u001b[0;31m \u001b[0;36m25\u001b[0m\u001b[0;34m/\u001b[0m\u001b[0;36m0\u001b[0m\u001b[0;34m\u001b[0m\u001b[0;34m\u001b[0m\u001b[0m\n\u001b[0m",
            "\u001b[0;31mZeroDivisionError\u001b[0m: division by zero"
          ]
        }
      ]
    },
    {
      "cell_type": "markdown",
      "source": "**Exercise 1.3 (🌶️):** You look at the clock and see that it is currently 14.00h. You set an alarm to go off 535 hours later. At what time will the alarm go off? Write a program that prints the answer. Hint: for the best solution, you will need the modulo operator. Second hint: The answer is 21.00h, but of course, this exercise is not about the answer, but about how you get it.",
      "metadata": {
        "cell_id": "00006-c97a6f4f-bbf9-4ec2-898e-0e3eb7c6893a",
        "deepnote_cell_type": "markdown"
      }
    },
    {
      "cell_type": "code",
      "metadata": {
        "cell_id": "00007-fee8d87b-2d3e-4636-adfb-a6def823ce0c",
        "deepnote_to_be_reexecuted": false,
        "source_hash": "8b34d8ea",
        "execution_millis": 27,
        "execution_start": 1615984003181,
        "deepnote_cell_type": "code"
      },
      "source": "def finding_hour(clock):\n    result_clock=(clock % 24 + 14) % 24\n    return result_clock\n\nfinding_hour(535)",
      "execution_count": 13,
      "outputs": [
        {
          "output_type": "execute_result",
          "execution_count": 13,
          "data": {
            "text/plain": "21"
          },
          "metadata": {}
        }
      ]
    },
    {
      "cell_type": "markdown",
      "source": "## From Part 4",
      "metadata": {
        "cell_id": "00008-ee85595c-aa16-483d-aa2e-f2e5881794aa",
        "deepnote_cell_type": "markdown"
      }
    },
    {
      "cell_type": "markdown",
      "source": "**Exercise 4.1 (🌶️🌶️):** Define a function that receives a string parameter, and returns an integer indicating the count for all the letters of the alphabet that there are in the string. The expected output format is in a **dictionary** with the relevant keys and values. The capital version of a lower case letter is considered to be the same letter.\n\nThis should sound quite familiar, try to do it without looking at your old code ;)\n\n**What is the challenge?**: Don't code 27 times the same line of code, learn how to do things that scale well.",
      "metadata": {
        "cell_id": "00009-9fc97212-430d-4d1d-8d12-ef2a73bf7e43",
        "deepnote_cell_type": "markdown"
      }
    },
    {
      "cell_type": "markdown",
      "source": "## From Part 5",
      "metadata": {
        "cell_id": "00010-3802df7b-b8f8-4b74-a141-107660644f91",
        "deepnote_cell_type": "markdown"
      }
    },
    {
      "cell_type": "code",
      "metadata": {
        "cell_id": "00011-cb1a96a5-20c8-4bcf-bb93-6ac93b9912eb",
        "deepnote_cell_type": "code"
      },
      "source": "\"\"\"\nCommented text like this is given as the expected answer.\nWhen running the cell, you will notice it renders it.\n\nCan you come up with a way to keep this in the cell but making sure the print ignores it?\n\"\"\"",
      "execution_count": 8,
      "outputs": [
        {
          "data": {
            "text/plain": "'\\nCommented text like this is given as the expected answer.\\nWhen running the cell, you will notice it renders it.\\n\\nCan you come up with a way to keep this in the cell but making sure the print ignores it?\\n'"
          },
          "execution_count": 8,
          "metadata": {},
          "output_type": "execute_result"
        }
      ]
    },
    {
      "cell_type": "markdown",
      "source": "**Exercise 5.1**: Create a countdown function that starts at a certain count, and counts down to zero. Instead of zero, print \"Blast off!\". Use a `for` loop. \n\n",
      "metadata": {
        "cell_id": "00012-6a77b652-079e-4123-88ea-4635631c142b",
        "deepnote_cell_type": "markdown"
      }
    },
    {
      "cell_type": "code",
      "metadata": {
        "cell_id": "00013-a3685907-0974-4bad-b5d3-20d7b09286f6",
        "deepnote_to_be_reexecuted": false,
        "source_hash": "f8da3716",
        "execution_start": 1615986202529,
        "execution_millis": 5,
        "deepnote_cell_type": "code"
      },
      "source": "\n# Countdown\ndef countdown(number):\n    while number!=0 :\n        print(number)\n        number=number-1\n    else:\n        print(\"Blast off!\")\n        \ncountdown(20)",
      "execution_count": 15,
      "outputs": [
        {
          "name": "stdout",
          "text": "20\n19\n18\n17\n16\n15\n14\n13\n12\n11\n10\n9\n8\n7\n6\n5\n4\n3\n2\n1\nBlast off!\n",
          "output_type": "stream"
        }
      ]
    },
    {
      "cell_type": "markdown",
      "source": "**Exercise 5.2:** Write and test three functions that return the largest, the smallest, and the number of dividables by 3 in a given collection of numbers. Use the algorithm described earlier in the Part 5 lecture :)\n\n",
      "metadata": {
        "cell_id": "00014-57c77404-f066-46f8-9b04-837c70abed67",
        "deepnote_cell_type": "markdown"
      }
    },
    {
      "cell_type": "code",
      "metadata": {
        "cell_id": "00015-ff443230-9e47-46b5-b3bb-2a2d5b4e44d6",
        "deepnote_to_be_reexecuted": false,
        "source_hash": "95151432",
        "execution_millis": 9,
        "execution_start": 1615986219561,
        "deepnote_cell_type": "code"
      },
      "source": "L = [2, 4, 6, 12, 15, 99, 100]\nmin(L)\ndef main(L):\n    print(max(L)) #largest number in list\n    print(min(L)) #smallest number in list\n    j=0 # we will use for counting numbers\n    for i in L:\n        if i%3==0:\n            j=j+1\n        else:\n            pass\n    print(\"Number of dividables:\",j)\n\nmain(L)",
      "execution_count": 16,
      "outputs": [
        {
          "name": "stdout",
          "text": "100\n2\nNumber of dividables: 4\n",
          "output_type": "stream"
        }
      ]
    },
    {
      "cell_type": "markdown",
      "source": "**Exercise 5.4 (🌶️):** \"99 bottles of beer\" is a traditional song in the United States and Canada. It is popular to sing on long trips, as it has a very repetitive format which is easy to memorize, and can take a long time to sing. The song's simple lyrics are as follows: \"99 bottles of beer on the wall, 99 bottles of beer. Take one down, pass it around, 98 bottles of beer on the wall.\" The same verse is repeated, each time with one fewer bottle. The song is completed when the singer or singers reach zero. Write a function that generates and prints all the verses of the song (though you might start a bit lower, for instance with 10 bottles). Make sure that your loop is not endless, and that you use the proper inflection for the word \"bottle\".",
      "metadata": {
        "cell_id": "00016-d96f95c7-d89e-43cb-a457-ff1c35b2b9f0",
        "deepnote_cell_type": "markdown"
      }
    },
    {
      "cell_type": "code",
      "metadata": {
        "cell_id": "00017-d9dfca03-1707-453b-8c2f-7e3e63e6cb4c",
        "deepnote_to_be_reexecuted": false,
        "source_hash": "4ee4365",
        "execution_start": 1615986927779,
        "execution_millis": 7,
        "deepnote_cell_type": "code"
      },
      "source": "def beersong(number):\n    for i in range(number,0,-1):\n        print(f\"{i} bottles of beer on the wall, {i} bottles of beer. Take one down, pass it around,{i-1} bottles of beer in the wall\")\n\n\nbeersong(10)",
      "execution_count": 17,
      "outputs": [
        {
          "name": "stdout",
          "text": "10 bottles of beer on the wall, 10 bottles of beer. Take one down, pass it around,9 bottles of beer in the wall\n9 bottles of beer on the wall, 9 bottles of beer. Take one down, pass it around,8 bottles of beer in the wall\n8 bottles of beer on the wall, 8 bottles of beer. Take one down, pass it around,7 bottles of beer in the wall\n7 bottles of beer on the wall, 7 bottles of beer. Take one down, pass it around,6 bottles of beer in the wall\n6 bottles of beer on the wall, 6 bottles of beer. Take one down, pass it around,5 bottles of beer in the wall\n5 bottles of beer on the wall, 5 bottles of beer. Take one down, pass it around,4 bottles of beer in the wall\n4 bottles of beer on the wall, 4 bottles of beer. Take one down, pass it around,3 bottles of beer in the wall\n3 bottles of beer on the wall, 3 bottles of beer. Take one down, pass it around,2 bottles of beer in the wall\n2 bottles of beer on the wall, 2 bottles of beer. Take one down, pass it around,1 bottles of beer in the wall\n1 bottles of beer on the wall, 1 bottles of beer. Take one down, pass it around,0 bottles of beer in the wall\n",
          "output_type": "stream"
        }
      ]
    },
    {
      "cell_type": "markdown",
      "source": "**Exercise 5.5 (🌶️):** The Fibonacci sequence is a sequence of numbers that starts with 1, followed by 1 again. Every next number is the sum of the two previous numbers. I.e., the sequence starts with 1, 1, 2, 3, 5, 8, 13, 21,... Write a function that calculates and prints the Fibonacci sequence until the numbers get higher than a `maximum`.",
      "metadata": {
        "cell_id": "00018-37e42d8b-d3d1-4496-91af-e2d1484be42c",
        "deepnote_cell_type": "markdown"
      }
    },
    {
      "cell_type": "code",
      "metadata": {
        "cell_id": "00019-135a76ff-37b3-4201-9154-a575c719d3cc",
        "deepnote_to_be_reexecuted": true,
        "source_hash": "b29cf315",
        "deepnote_cell_type": "code"
      },
      "source": "#Your Code Here\ndef fibonacci(number):\n    L=[0,1]\n    for i in range(2,number):\n        L.append(L[i-2]+L[i-1])\n    \n    \"\"\"\n    Fibonacci sequence up to 22 :\n    0 , 1 , 1 , 2 , 3 , 5 , 8 , 13 , 21\n    \"\"\"\n    print(L)\n\nfibonacci(21)",
      "execution_count": null,
      "outputs": []
    },
    {
      "cell_type": "markdown",
      "source": "**Exercise 5.6 (🌶️🌶️):** A prime number is a positive integer that is dividable by exactly two different numbers, namely 1 and itself. The lowest (and only even) prime number is 2. The first 10 prime numbers are 2, 3, 5, 7, 11, 13, 17, 19, 23, and 29. Write a function that returns a **list off all prime numbers** below a given number.\n\nHint: In a loop where you test the possible dividers of the number, you can conclude that the number is not prime as soon as you encounter a number other than 1 or the number itself that divides it. However, you can *only* conclude that it actually *is* prime after you have tested all possible dividers.\n\n**What is the challenge here? You have to try to optimize your code and try to make it work for the highest prime number you can encounter before you run out of memory. For low numbers you should know how to do it already**",
      "metadata": {
        "cell_id": "00020-e377c81d-2152-42e9-b67d-b2cb953df461",
        "deepnote_cell_type": "markdown"
      }
    },
    {
      "cell_type": "code",
      "metadata": {
        "cell_id": "00021-350e50f4-7e70-403b-b555-11bec961771d",
        "deepnote_cell_type": "code"
      },
      "source": "#Your Code Here",
      "execution_count": null,
      "outputs": []
    },
    {
      "cell_type": "markdown",
      "source": "**Exercise 5.7 (🌶️🌶️):** Write a function that prints all integers between the parameters `a` and `b` that can be written as the sum of two squares. Produce output in the form of `z = x**2 + y**2`, e.g., `58 = 3**2 + 7**2`. If a number occurs on the list with multiple *different* ways of writing it as the sum of two squares, that is acceptable. ",
      "metadata": {
        "cell_id": "00022-40ebecea-76ff-4cca-91c9-f19e86d9a469",
        "deepnote_cell_type": "markdown"
      }
    },
    {
      "cell_type": "code",
      "metadata": {
        "cell_id": "00023-57164506-132f-4396-8d38-0f07fac90e5a",
        "deepnote_cell_type": "code"
      },
      "source": "\"\"\"\n2 = 1**2 + 1**2\n4 = 0**2 + 2**2\n4 = 2**2 + 0**2\n5 = 1**2 + 2**2\n5 = 2**2 + 1**2\n8 = 2**2 + 2**2\n9 = 0**2 + 3**2\n9 = 3**2 + 0**2\n\"\"\"\n\n# Sum squares",
      "execution_count": null,
      "outputs": []
    },
    {
      "cell_type": "markdown",
      "source": "**Exercise 5.8 (🌶️):** A, B, C, and D are all different digits. The number DCBA is equal to 4 times the number ABCD. What are the digits? Note: to make ABCD and DCBA conventional numbers, neither A nor D can be zero. Use a quadruple-nested loop.",
      "metadata": {
        "cell_id": "00024-e3531cd1-7992-44b5-a62d-4d9a34dba9a6",
        "deepnote_cell_type": "markdown"
      }
    },
    {
      "cell_type": "code",
      "metadata": {
        "cell_id": "00025-b63acb74-3b8f-4673-b0b2-03f9b81dfec0",
        "deepnote_cell_type": "code"
      },
      "source": "\"\"\"\nA = 2\nB = 1\nC = 7\nD = 8\n\"\"\"\n# Solve 4*ABCD == DCBA",
      "execution_count": 4,
      "outputs": [
        {
          "data": {
            "text/plain": "'\\nA = 2\\nB = 1\\nC = 7\\nD = 8\\n'"
          },
          "execution_count": 4,
          "metadata": {},
          "output_type": "execute_result"
        }
      ]
    },
    {
      "cell_type": "markdown",
      "source": "",
      "metadata": {
        "cell_id": "00026-1320db57-5a72-403a-818e-f588187ec3fc",
        "deepnote_cell_type": "markdown"
      }
    },
    {
      "cell_type": "markdown",
      "source": "<a style='text-decoration:none;line-height:16px;display:flex;color:#5B5B62;padding:10px;justify-content:end;' href='https://deepnote.com?utm_source=created-in-deepnote-cell&projectId=de1ac35b-5d65-41bd-963f-f23b6439f960' target=\"_blank\">\n<img style='display:inline;max-height:16px;margin:0px;margin-right:7.5px;' src='data:image/svg+xml;base64,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' > </img>\nCreated in <span style='font-weight:600;margin-left:4px;'>Deepnote</span></a>",
      "metadata": {
        "tags": [],
        "created_in_deepnote_cell": true,
        "deepnote_cell_type": "markdown"
      }
    }
  ],
  "nbformat": 4,
  "nbformat_minor": 2,
  "metadata": {
    "kernelspec": {
      "display_name": "Python 3",
      "language": "python",
      "name": "python3"
    },
    "language_info": {
      "codemirror_mode": {
        "name": "ipython",
        "version": 3
      },
      "file_extension": ".py",
      "mimetype": "text/x-python",
      "name": "python",
      "nbconvert_exporter": "python",
      "pygments_lexer": "ipython3",
      "version": "3.8.5"
    },
    "deepnote_notebook_id": "0cd2e5f7-ca54-4452-9168-673c812ee119",
    "deepnote": {},
    "deepnote_execution_queue": [
      {
        "cellId": "00019-135a76ff-37b3-4201-9154-a575c719d3cc",
        "sessionId": "301e6e20-55b6-4271-8e83-22cf45d54202",
        "msgId": "9ee56e7d-5662-4dec-94e4-73f514b252ae"
      }
    ]
  }
}