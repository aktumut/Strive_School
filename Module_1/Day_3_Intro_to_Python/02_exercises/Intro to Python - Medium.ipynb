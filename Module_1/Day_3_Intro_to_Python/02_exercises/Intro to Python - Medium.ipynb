{
  "cells": [
    {
      "cell_type": "markdown",
      "source": "Here you have a collection of guided exercises for the first class on Python. <br>\nThe exercises are divided by topic, following the topics reviewed during the theory session, and for each topic you have some mandatory exercises, and other optional exercises, which you are invited to do if you still have time after the mandatory exercises. <br>\n\nRemember that you have 5 hours to solve these exercises, after which we will review the most interesting exercises together. If you don't finish all the exercises, you can work on them tonightor tomorrow. \n\nAt the end of the class, we will upload the code with the solutions of the exercises so that you can review them again if needed. If you still have not finished some exercises, try to do them first by yourself, before taking a look at the solutions: you are doing these exercises for yourself, so it is always the best to do them your way first, as it is the fastest way to learn!",
      "metadata": {
        "cell_id": "00000-d25fbd3d-31c7-491c-8211-6759ea7734fb",
        "deepnote_cell_type": "markdown"
      }
    },
    {
      "cell_type": "markdown",
      "source": "**Exercise 1.3 (🌶️):** You look at the clock and see that it is currently 14.00h. You set an alarm to go off 535 hours later. At what time will the alarm go off? Write a program that prints the answer. Hint: for the best solution, you will need the modulo operator. Second hint: The answer is 21.00h, but of course, this exercise is not about the answer, but about how you get it.",
      "metadata": {
        "cell_id": "00001-6a9602d1-9e93-4ce3-a036-dc6799e845f5",
        "deepnote_cell_type": "markdown"
      }
    },
    {
      "cell_type": "code",
      "metadata": {
        "cell_id": "00002-12814c50-466a-4eab-b722-9c5a5f185e93",
        "deepnote_to_be_reexecuted": false,
        "source_hash": "8b34d8ea",
        "execution_start": 1615986348165,
        "execution_millis": 20,
        "deepnote_cell_type": "code"
      },
      "source": "def finding_hour(clock):\n    result_clock=(clock % 24 + 14) % 24\n    return result_clock\n\nfinding_hour(535)",
      "outputs": [
        {
          "output_type": "execute_result",
          "execution_count": 1,
          "data": {
            "text/plain": "21"
          },
          "metadata": {}
        }
      ],
      "execution_count": null
    },
    {
      "cell_type": "markdown",
      "source": "**Exercise 5.4 (🌶️):** \"99 bottles of beer\" is a traditional song in the United States and Canada. It is popular to sing on long trips, as it has a very repetitive format which is easy to memorize, and can take a long time to sing. The song's simple lyrics are as follows: \"99 bottles of beer on the wall, 99 bottles of beer. Take one down, pass it around, 98 bottles of beer on the wall.\" The same verse is repeated, each time with one fewer bottle. The song is completed when the singer or singers reach zero. Write a function that generates and prints all the verses of the song (though you might start a bit lower, for instance with 10 bottles). Make sure that your loop is not endless, and that you use the proper inflection for the word \"bottle\".",
      "metadata": {
        "cell_id": "00003-3c38681a-1fad-495f-8cd5-363becd154e3",
        "deepnote_cell_type": "markdown"
      }
    },
    {
      "cell_type": "code",
      "metadata": {
        "cell_id": "00004-ffab35dc-e4e9-4845-9bab-ba8648e88616",
        "deepnote_to_be_reexecuted": false,
        "source_hash": "fad9a95f",
        "execution_millis": 12,
        "execution_start": 1615986892805,
        "deepnote_cell_type": "code"
      },
      "source": "\ndef beersong(number):\n    for i in range(number,0,-1):\n        print(f\"{i} bottles of beer on the wall, {i} bottles of beer. Take one down, pass it around,{i-1} bottles of beer in the wall\")\n\n\nbeersong(10)",
      "outputs": [
        {
          "name": "stdout",
          "text": "10 bottles of beer on the wall, 10 bottles of beer. Take one down, pass it around,9 bottles of beer in the wall\n9 bottles of beer on the wall, 9 bottles of beer. Take one down, pass it around,8 bottles of beer in the wall\n8 bottles of beer on the wall, 8 bottles of beer. Take one down, pass it around,7 bottles of beer in the wall\n7 bottles of beer on the wall, 7 bottles of beer. Take one down, pass it around,6 bottles of beer in the wall\n6 bottles of beer on the wall, 6 bottles of beer. Take one down, pass it around,5 bottles of beer in the wall\n5 bottles of beer on the wall, 5 bottles of beer. Take one down, pass it around,4 bottles of beer in the wall\n4 bottles of beer on the wall, 4 bottles of beer. Take one down, pass it around,3 bottles of beer in the wall\n3 bottles of beer on the wall, 3 bottles of beer. Take one down, pass it around,2 bottles of beer in the wall\n2 bottles of beer on the wall, 2 bottles of beer. Take one down, pass it around,1 bottles of beer in the wall\n1 bottles of beer on the wall, 1 bottles of beer. Take one down, pass it around,0 bottles of beer in the wall\n",
          "output_type": "stream"
        }
      ],
      "execution_count": null
    },
    {
      "cell_type": "markdown",
      "source": "**Exercise 5.5 (🌶️):** The Fibonacci sequence is a sequence of numbers that starts with 1, followed by 1 again. Every next number is the sum of the two previous numbers. I.e., the sequence starts with 1, 1, 2, 3, 5, 8, 13, 21,... Write a function that calculates and prints the Fibonacci sequence until the numbers get higher than a `maximum`.",
      "metadata": {
        "cell_id": "00005-aed91ab4-9a24-4d6a-8d5c-eb1c32fbf809",
        "deepnote_cell_type": "markdown"
      }
    },
    {
      "cell_type": "code",
      "metadata": {
        "cell_id": "00006-20959d2f-bec9-41dc-b71e-c48ff4cf0c8b",
        "deepnote_to_be_reexecuted": false,
        "source_hash": "76e0f262",
        "execution_millis": 4,
        "execution_start": 1615987957493,
        "deepnote_cell_type": "code"
      },
      "source": "#Your Code Here\ndef fibonacci(number):\n    L=[0,1]\n    for i in range(2,number):\n        L.append(L[i-2]+L[i-1])\n    \n    \"\"\"\n    Fibonacci sequence up to 22 :\n    0 , 1 , 1 , 2 , 3 , 5 , 8 , 13 , 21\n    \"\"\"\n    print(L)\n\nfibonacci(21)\n\n",
      "outputs": [
        {
          "name": "stdout",
          "text": "[0, 1, 1, 2, 3, 5, 8, 13, 21, 34, 55, 89, 144, 233, 377, 610, 987, 1597, 2584, 4181, 6765]\n",
          "output_type": "stream"
        }
      ],
      "execution_count": null
    },
    {
      "cell_type": "markdown",
      "source": "**Exercise 5.8 (🌶️):** A, B, C, and D are all different digits. The number DCBA is equal to 4 times the number ABCD. What are the digits? Note: to make ABCD and DCBA conventional numbers, neither A nor D can be zero. Use a quadruple-nested loop.",
      "metadata": {
        "cell_id": "00007-daf2e1e5-19f4-4f1f-8cf4-29b58b4dfcc0",
        "deepnote_cell_type": "markdown"
      }
    },
    {
      "cell_type": "code",
      "metadata": {
        "cell_id": "00008-74df1295-d63a-4f1a-8837-3e3a1d150ef1",
        "deepnote_to_be_reexecuted": false,
        "source_hash": "5c768140",
        "execution_millis": 10,
        "execution_start": 1616005826773,
        "deepnote_cell_type": "code"
      },
      "source": "# to be honest I didn't like this solution\n\nnumbers=[0,1,2,3,4,5,6,7,8,9]\ndef nested_nest(numbers):\n\n#    L=list(string) #turning to list\n\n    for A in numbers:\n        for B in numbers:\n            for C in numbers:\n                for D in numbers:\n                    if (D*1000+C*100+B*10+A*1)==4*(A*1000+B*100+C*10+D*1):\n                        print('A=',A,'B=',B,'C=',C,'D=',D)\n\n                    \n                    \n #                   for i in L:\n #                       Value=L[i]*10**(len(L)-i) #Calculating digit value of our string\n  #                      Value=Value+Value\n #           L[i]=j\n            \n\n        \n\n\nnested_nest(numbers)",
      "execution_count": 1,
      "outputs": [
        {
          "name": "stdout",
          "text": "A= 0 B= 0 C= 0 D= 0\nA= 2 B= 1 C= 7 D= 8\n",
          "output_type": "stream"
        }
      ]
    },
    {
      "cell_type": "code",
      "source": "",
      "metadata": {
        "tags": [],
        "cell_id": "00009-a429df06-a3be-4154-afb6-5860f707d92c",
        "deepnote_to_be_reexecuted": false,
        "source_hash": "b623e53d",
        "execution_millis": 1,
        "execution_start": 1615995277999,
        "deepnote_cell_type": "code"
      },
      "outputs": [],
      "execution_count": null
    },
    {
      "cell_type": "code",
      "source": "",
      "metadata": {
        "tags": [],
        "cell_id": "00010-866582a7-e693-4341-ba70-18d94c16864a",
        "deepnote_cell_type": "code"
      },
      "outputs": [],
      "execution_count": null
    },
    {
      "cell_type": "markdown",
      "source": "<a style='text-decoration:none;line-height:16px;display:flex;color:#5B5B62;padding:10px;justify-content:end;' href='https://deepnote.com?utm_source=created-in-deepnote-cell&projectId=de1ac35b-5d65-41bd-963f-f23b6439f960' target=\"_blank\">\n<img style='display:inline;max-height:16px;margin:0px;margin-right:7.5px;' src='data:image/svg+xml;base64,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' > </img>\nCreated in <span style='font-weight:600;margin-left:4px;'>Deepnote</span></a>",
      "metadata": {
        "tags": [],
        "created_in_deepnote_cell": true,
        "deepnote_cell_type": "markdown"
      }
    }
  ],
  "nbformat": 4,
  "nbformat_minor": 4,
  "metadata": {
    "kernelspec": {
      "display_name": "Python 3",
      "language": "python",
      "name": "python3"
    },
    "language_info": {
      "codemirror_mode": {
        "name": "ipython",
        "version": 3
      },
      "file_extension": ".py",
      "mimetype": "text/x-python",
      "name": "python",
      "nbconvert_exporter": "python",
      "pygments_lexer": "ipython3",
      "version": "3.8.5"
    },
    "deepnote_notebook_id": "a5ff5b48-15ec-4daf-b140-e64e503e338d",
    "deepnote": {},
    "deepnote_execution_queue": []
  }
}