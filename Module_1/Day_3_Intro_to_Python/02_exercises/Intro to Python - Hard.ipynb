{
  "cells": [
    {
      "cell_type": "markdown",
      "source": "Here you have a collection of guided exercises for the first class on Python. <br>\nThe exercises are divided by topic, following the topics reviewed during the theory session, and for each topic you have some mandatory exercises, and other optional exercises, which you are invited to do if you still have time after the mandatory exercises. <br>\n\nRemember that you have 5 hours to solve these exercises, after which we will review the most interesting exercises together. If you don't finish all the exercises, you can work on them tonightor tomorrow. \n\nAt the end of the class, we will upload the code with the solutions of the exercises so that you can review them again if needed. If you still have not finished some exercises, try to do them first by yourself, before taking a look at the solutions: you are doing these exercises for yourself, so it is always the best to do them your way first, as it is the fastest way to learn!",
      "metadata": {
        "cell_id": "00000-a385142a-4a0a-46dd-ae07-e9d550deda19",
        "deepnote_cell_type": "markdown"
      }
    },
    {
      "cell_type": "markdown",
      "source": "**Exercise 4.1 (🌶️🌶️):** Define a function that receives a string parameter, and returns an integer indicating the count for all the letters of the alphabet that there are in the string. The expected output format is in a **dictionary** with the relevant keys and values. The capital version of a lower case letter is considered to be the same letter.\n\nThis should sound quite familiar, try to do it without looking at your old code ;)\n\n**What is the challenge?**: Don't code 27 times the same line of code, learn how to do things that scale well.",
      "metadata": {
        "cell_id": "00001-8349fa1a-bd5b-4e7c-97aa-d1ed7b8c2ed8",
        "deepnote_cell_type": "markdown"
      }
    },
    {
      "cell_type": "code",
      "metadata": {
        "cell_id": "00002-8caaa394-01ff-4c1b-81b4-0885faf203ff",
        "deepnote_to_be_reexecuted": false,
        "source_hash": "d9c9fefb",
        "execution_millis": 7,
        "execution_start": 1616006651860,
        "deepnote_cell_type": "code"
      },
      "source": "import re\nstring= \"\"\"The most beautiful sea\nhasn’t been crossed yet.\nThe most  beautiful child\nhasn’t grown up yet\nOur most beautiful days\nwe haven’t seen yet.\nAnd the most beautiful words I wanted to tell you\n I haven’t said yet…\"\"\"\n\n\ndef count_letters(text):\n    List=re.split(r'[?;.,\\s]\\s*',text.lower().replace(\".\",\"\"))\n    Dict={}\n    for i in range(len(List)):\n        Dict[List[i]]=0\n        for j in range(len(List)):\n            if List[j]==List[i]:\n                Dict[List[i]]=Dict[List[i]]+1\n            j=+1\n        i=+1\n    for k in sorted(Dict.keys()): print(\"%s: %s\" % (k, Dict[k])) # \"%s: %s\" % -> i found on web!\ncount_letters(string)",
      "execution_count": 3,
      "outputs": [
        {
          "name": "stdout",
          "text": "and: 1\nbeautiful: 4\nbeen: 1\nchild: 1\ncrossed: 1\ndays: 1\ngrown: 1\nhasn’t: 2\nhaven’t: 2\ni: 2\nmost: 4\nour: 1\nsaid: 1\nsea: 1\nseen: 1\ntell: 1\nthe: 3\nto: 1\nup: 1\nwanted: 1\nwe: 1\nwords: 1\nyet: 3\nyet…: 1\nyou: 1\n",
          "output_type": "stream"
        }
      ]
    },
    {
      "cell_type": "markdown",
      "source": "**Exercise 5.6 (🌶️🌶️):** A prime number is a positive integer that is dividable by exactly two different numbers, namely 1 and itself. The lowest (and only even) prime number is 2. The first 10 prime numbers are 2, 3, 5, 7, 11, 13, 17, 19, 23, and 29. Write a function that returns a **list off all prime numbers** below a given number.\n\nHint: In a loop where you test the possible dividers of the number, you can conclude that the number is not prime as soon as you encounter a number other than 1 or the number itself that divides it. However, you can *only* conclude that it actually *is* prime after you have tested all possible dividers.\n\n**What is the challenge here? You have to try to optimize your code and try to make it work for the highest prime number you can encounter before you run out of memory. For low numbers you should know how to do it already**",
      "metadata": {
        "cell_id": "00003-3aa7c5b7-4df5-4800-8898-b1c7b73dcfa8",
        "deepnote_cell_type": "markdown"
      }
    },
    {
      "cell_type": "code",
      "metadata": {
        "cell_id": "00004-3b992274-0712-41c0-9222-3adf145027af",
        "deepnote_to_be_reexecuted": false,
        "source_hash": "2449fce5",
        "execution_millis": 22,
        "execution_start": 1615997258638,
        "deepnote_cell_type": "code"
      },
      "source": "def is_prime(number):\n    i=2\n    if number==1:\n        print(\"Prime numbers start from 2\")\n    else:\n        while number>i:\n            if (number/i).is_integer()==False:\n                i=i+1\n            else:\n                return False\n                break\n        else:\n            return True\n\n\n\ndef list_prime(number):\n    List_Prime=[]\n\n    for i in range(2,number):\n        if is_prime(i)==True:\n            List_Prime.append(i)\n    return List_Prime\n\n\nlist_prime(12)\n",
      "outputs": [
        {
          "output_type": "execute_result",
          "execution_count": 30,
          "data": {
            "text/plain": "[2, 3, 5, 7, 11]"
          },
          "metadata": {}
        }
      ],
      "execution_count": null
    },
    {
      "cell_type": "markdown",
      "source": "**Exercise 5.7 (🌶️🌶️):** Write a function that prints all integers between the parameters `a` and `b` that can be written as the sum of two squares. Produce output in the form of `z = x**2 + y**2`, e.g., `58 = 3**2 + 7**2`. If a number occurs on the list with multiple *different* ways of writing it as the sum of two squares, that is acceptable. ",
      "metadata": {
        "cell_id": "00005-7e1ec884-856c-4a40-90cd-23f872a95ce6",
        "deepnote_cell_type": "markdown"
      }
    },
    {
      "cell_type": "code",
      "metadata": {
        "cell_id": "00006-e2ada557-c671-42d9-97dc-02d8e958a33c",
        "deepnote_to_be_reexecuted": false,
        "source_hash": "2f40e0dd",
        "execution_millis": 47,
        "execution_start": 1616008513301,
        "deepnote_cell_type": "code"
      },
      "source": "#Your Code Here\ndef sum_squares(a,b):\n    for c in range(a,b):\n        for a in range(b):\n            for i in range(b):\n                if a**2+i**2==c:\n                    print(c,'=',' ',a,'** 2','+',i,'** 2')\n    \"\"\"\n    2 = 1**2 + 1**2\n    4 = 0**2 + 2**2\n    4 = 2**2 + 0**2\n    5 = 1**2 + 2**2\n    5 = 2**2 + 1**2\n    8 = 2**2 + 2**2\n    9 = 0**2 + 3**2\n    9 = 3**2 + 0**2\n    \"\"\"\n\nsum_squares(1,20)",
      "execution_count": 41,
      "outputs": [
        {
          "name": "stdout",
          "text": "1 =   0 ** 2 + 1 ** 2\n1 =   1 ** 2 + 0 ** 2\n2 =   1 ** 2 + 1 ** 2\n4 =   0 ** 2 + 2 ** 2\n4 =   2 ** 2 + 0 ** 2\n5 =   1 ** 2 + 2 ** 2\n5 =   2 ** 2 + 1 ** 2\n8 =   2 ** 2 + 2 ** 2\n9 =   0 ** 2 + 3 ** 2\n9 =   3 ** 2 + 0 ** 2\n10 =   1 ** 2 + 3 ** 2\n10 =   3 ** 2 + 1 ** 2\n13 =   2 ** 2 + 3 ** 2\n13 =   3 ** 2 + 2 ** 2\n16 =   0 ** 2 + 4 ** 2\n16 =   4 ** 2 + 0 ** 2\n17 =   1 ** 2 + 4 ** 2\n17 =   4 ** 2 + 1 ** 2\n18 =   3 ** 2 + 3 ** 2\n",
          "output_type": "stream"
        }
      ]
    },
    {
      "cell_type": "markdown",
      "source": "<a style='text-decoration:none;line-height:16px;display:flex;color:#5B5B62;padding:10px;justify-content:end;' href='https://deepnote.com?utm_source=created-in-deepnote-cell&projectId=de1ac35b-5d65-41bd-963f-f23b6439f960' target=\"_blank\">\n<img style='display:inline;max-height:16px;margin:0px;margin-right:7.5px;' src='data:image/svg+xml;base64,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' > </img>\nCreated in <span style='font-weight:600;margin-left:4px;'>Deepnote</span></a>",
      "metadata": {
        "tags": [],
        "created_in_deepnote_cell": true,
        "deepnote_cell_type": "markdown"
      }
    }
  ],
  "nbformat": 4,
  "nbformat_minor": 4,
  "metadata": {
    "kernelspec": {
      "display_name": "Python 3",
      "language": "python",
      "name": "python3"
    },
    "language_info": {
      "codemirror_mode": {
        "name": "ipython",
        "version": 3
      },
      "file_extension": ".py",
      "mimetype": "text/x-python",
      "name": "python",
      "nbconvert_exporter": "python",
      "pygments_lexer": "ipython3",
      "version": "3.8.3"
    },
    "deepnote_notebook_id": "d24df09d-8f88-4a1a-9360-d80db96aa8aa",
    "deepnote": {},
    "deepnote_execution_queue": []
  }
}