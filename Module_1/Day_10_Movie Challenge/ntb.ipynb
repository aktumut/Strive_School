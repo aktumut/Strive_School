{
  "cells": [
    {
      "cell_type": "code",
      "metadata": {
        "tags": [],
        "cell_id": "00000-5dcdef12-d9a9-473c-8a46-f7663f78d68a",
        "deepnote_to_be_reexecuted": false,
        "source_hash": "b8b7347d",
        "execution_millis": 638,
        "execution_start": 1616778435470,
        "deepnote_cell_type": "code"
      },
      "source": "import requests\nimport math\nimport pandas as pd\nfrom bs4 import BeautifulSoup\nimport matplotlib.pyplot as plt\nimport seaborn as sns",
      "execution_count": 161,
      "outputs": []
    },
    {
      "cell_type": "code",
      "metadata": {
        "tags": [],
        "cell_id": "00001-3cce8782-e1d3-41d1-a203-64a32652146a",
        "deepnote_to_be_reexecuted": false,
        "source_hash": "d81f973e",
        "execution_millis": 567,
        "execution_start": 1616773940584,
        "deepnote_cell_type": "code"
      },
      "source": "\n# request url\npage = requests.get(\"https://www.imdb.com/search/title/?title_type=feature&num_votes=25000,&genres=adventure&sort=user_rating,desc&start=1\")\n\n# create a BeautifulSoup object\nsoup = BeautifulSoup(page.content, 'html.parser')\n",
      "execution_count": 6,
      "outputs": []
    },
    {
      "cell_type": "code",
      "metadata": {
        "tags": [],
        "cell_id": "00001-57223537-8084-40c3-8f62-18509f01acdc",
        "deepnote_to_be_reexecuted": false,
        "source_hash": "1936635a",
        "execution_millis": 1,
        "execution_start": 1616778543837,
        "deepnote_cell_type": "code"
      },
      "source": "def scrape_nums(page_soup):\n    nums = page_soup.find_all(\"span\",{'class':'lister-item-index'})\n    nums = [int(i.text.replace('.','')) for i in nums]\n    return nums\n#scrape_nums(soup)",
      "execution_count": 173,
      "outputs": []
    },
    {
      "cell_type": "code",
      "metadata": {
        "tags": [],
        "cell_id": "00002-57dae6cd-74d8-4bb2-a38e-5282ebb8f33c",
        "deepnote_to_be_reexecuted": false,
        "source_hash": "a1ce0cdc",
        "execution_millis": 2,
        "execution_start": 1616778537702,
        "deepnote_cell_type": "code"
      },
      "source": "def scrape_titles(page_soup):\n    titles_container = page_soup.find_all(class_= \"lister-item-header\")\n    titles = [title.get_text() for title in titles_container ] #loop to getText in days_container\n    titles = [title.split('\\n') for title in titles] #split by \\n\n    titles_names = [title[2] for title in titles] #split by \\n\n    return titles_names\n\n#scrape_titles(soup)",
      "execution_count": 172,
      "outputs": []
    },
    {
      "cell_type": "code",
      "metadata": {
        "tags": [],
        "cell_id": "00004-50af81d9-afc8-49dd-8b02-e5212cdbf475",
        "deepnote_to_be_reexecuted": false,
        "source_hash": "1af47288",
        "execution_millis": 1,
        "execution_start": 1616778530686,
        "deepnote_cell_type": "code"
      },
      "source": "def scrape_years(page_soup):\n    titles_container = page_soup.find_all(class_= \"lister-item-header\")\n    title_splits = [title.get_text().split('\\n') for title in titles_container ] #loop to getText in days_container\n    years = [title[3] for title in title_splits]\n    return years\n\n#scrape_years(soup)",
      "execution_count": 171,
      "outputs": []
    },
    {
      "cell_type": "code",
      "metadata": {
        "tags": [],
        "cell_id": "00005-571b6ccc-cba4-4f48-a4e9-1913bb925607",
        "deepnote_to_be_reexecuted": false,
        "source_hash": "323507a4",
        "execution_millis": 4,
        "execution_start": 1616778524168,
        "deepnote_cell_type": "code"
      },
      "source": "## - Release Date Scraper\n\ndef scrape_years(page_soup):\n    titles_container = page_soup.find_all(class_= \"lister-item-header\")\n    title_splits = [title.get_text().split('\\n') for title in titles_container ] #loop to getText in days_container\n    years = [title[3] for title in title_splits]\n    return years\n\n#scrape_years(soup)",
      "execution_count": 170,
      "outputs": []
    },
    {
      "cell_type": "code",
      "metadata": {
        "tags": [],
        "cell_id": "00006-79d76b42-be68-42f5-9c8c-de2f5ce12088",
        "deepnote_to_be_reexecuted": false,
        "source_hash": "804e3e62",
        "execution_millis": 2,
        "execution_start": 1616778462985,
        "deepnote_cell_type": "code"
      },
      "source": "# - Director Scraper\n\ndef scrape_dirs(page_soup):\n    movies_director=page_soup.find_all(class_= \"lister-item-content\")\n    director_list=[]\n    for director in movies_director:\n        director_list.append(director.find(\"p\",{\"class\":\"\"}).a.text)\n    return director_list\n\n#scrape_dirs(soup)",
      "execution_count": 163,
      "outputs": []
    },
    {
      "cell_type": "code",
      "metadata": {
        "tags": [],
        "cell_id": "00007-3b7f90e2-657f-4c9a-a97e-ec8669123408",
        "deepnote_to_be_reexecuted": false,
        "source_hash": "295be8cb",
        "execution_millis": 2,
        "execution_start": 1616778457791,
        "deepnote_cell_type": "code"
      },
      "source": "# - Rating Scraper\n\ndef scrape_ratings(page_soup):\n    movies_rating=page_soup.find_all(class_=\"inline-block ratings-imdb-rating\")\n    rating_list=[]\n    for rating in movies_rating:\n        rating_list.append(int(rating.strong.text[2])*0.1+8)\n    return rating_list\n\n#scrape_ratings(soup)",
      "execution_count": 162,
      "outputs": []
    },
    {
      "cell_type": "code",
      "metadata": {
        "tags": [],
        "cell_id": "00008-eec79269-ab38-4159-982d-3078bbfd98a0",
        "deepnote_to_be_reexecuted": false,
        "source_hash": "27dcf6d7",
        "execution_millis": 1,
        "execution_start": 1616778469238,
        "deepnote_cell_type": "code"
      },
      "source": "# - Duration Scraper\n\ndef scrape_durs(page_soup):\n    duration = soup.find_all(class_='lister-item-content')\n    dur = [title.get_text() for title in duration]\n    dur = [title.split('\\n') for title in dur]\n    #display(dur)\n    duration = [title[9] for title in dur]\n    # display(duration)\n    \n    duration_list=[]\n    for i in (duration):\n        i.split()\n        duration_list.append(int(i[:-3]))\n\n\n\n    return duration_list\n#scrape_durs(soup)",
      "execution_count": 164,
      "outputs": []
    },
    {
      "cell_type": "code",
      "metadata": {
        "tags": [],
        "cell_id": "00009-fea2704f-9b23-4bf7-9177-2bfaea8bbaee",
        "deepnote_to_be_reexecuted": false,
        "source_hash": "a8b78b4b",
        "execution_millis": 0,
        "execution_start": 1616778474474,
        "deepnote_cell_type": "code"
      },
      "source": "# - Genres Scraper\n\ndef scrape_genres(page_soup):\n    genres = soup.find_all(\"span\",{'class':'genre'})\n    genres = [i.text.strip().split(',') for i in genres]\n    return genres\n#scrape_genres(soup)",
      "execution_count": 165,
      "outputs": []
    },
    {
      "cell_type": "code",
      "metadata": {
        "tags": [],
        "cell_id": "00010-aac333ef-89b9-4dec-a156-393ace753744",
        "deepnote_to_be_reexecuted": false,
        "source_hash": "162da9df",
        "execution_millis": 1,
        "execution_start": 1616778492788,
        "deepnote_cell_type": "code"
      },
      "source": "# - Stars Scraper\ndef scrape_stars(soup_page):\n    movies_stars=soup_page.find_all(class_= \"lister-item-content\")\n    stars_list=[]\n    for stars in movies_stars:\n        stars_list.append(str(stars.find(\"p\",{\"class\":\"\"}).text.split(\"\\n\")[5:-1]).strip())\n    return stars_list\n\n#scrape_stars(soup)",
      "execution_count": 167,
      "outputs": []
    },
    {
      "cell_type": "code",
      "source": "movies_descs=soup.find_all(class_= \"lister-item-content\")\n\nx=movies_descs[0].find_all(\"p\",{\"class\":\"text-muted\"})\nx[1].text.split(\"\\n\")[1].strip()\n\n",
      "metadata": {
        "tags": [],
        "cell_id": "00012-32d5caaf-d579-42da-9b42-509c728acc09",
        "deepnote_to_be_reexecuted": false,
        "source_hash": "bc3bc3b1",
        "execution_millis": 25,
        "execution_start": 1616776306914,
        "deepnote_cell_type": "code"
      },
      "outputs": [
        {
          "output_type": "execute_result",
          "execution_count": 107,
          "data": {
            "text/plain": "\"Gandalf and Aragorn lead the World of Men against Sauron's army to draw his gaze from Frodo and Sam as they approach Mount Doom with the One Ring.\""
          },
          "metadata": {}
        }
      ],
      "execution_count": 107
    },
    {
      "cell_type": "code",
      "source": "# get descriptions\ndef scrape_descs(soup_page):\n    movies_descs=soup_page.find_all(class_= \"lister-item-content\")\n    descs_list=[]\n    #movies_descs.findall(\"p\",{\"class\":\"text-muted\"})\n    for descs in movies_descs:\n        descs_list.append((descs.find_all(\"p\",{\"class\":\"text-muted\"}))[1].text.split(\"\\n\")[1].strip())\n    return descs_list\n\n#scrape_descs(soup)",
      "metadata": {
        "tags": [],
        "cell_id": "00012-f6e9c68c-4417-4386-928c-641db4fcf041",
        "deepnote_to_be_reexecuted": false,
        "source_hash": "12403d74",
        "execution_millis": 1,
        "execution_start": 1616778507879,
        "deepnote_cell_type": "code"
      },
      "outputs": [],
      "execution_count": 168
    },
    {
      "cell_type": "code",
      "metadata": {
        "tags": [],
        "cell_id": "00011-3bfb5d88-1d11-472c-8b6e-86104cebd473",
        "deepnote_to_be_reexecuted": false,
        "source_hash": "fede7c34",
        "execution_millis": 7598,
        "execution_start": 1616777357152,
        "deepnote_cell_type": "code"
      },
      "source": "#function that takes how many movies you want to scrape and returns ....\n# request url\npage = requests.get(\"https://www.imdb.com/search/title/?title_type=feature&num_votes=25000,&genres=adventure&sort=user_rating,desc&start=1\")\n\n# create a BeautifulSoup object\nsoup = BeautifulSoup(page.content, 'html.parser')\n\n\ndef IMDB_scraper2(num_mov):\n    num_pages = num_mov/2\n    print(\"Will scare {} movies over {} pages.\".format(num_mov,num_pages))\n\n    nums, titles, descs, years, dirs, ratings, durs, genres, stars, film_dates = [],[],[],[],[],[],[],[],[],[]\n\n    for i in range (0,int(num_pages)):\n        ind = i*50+1\n        page = requests.get(\"https://www.imdb.com/search/title/?title_type=feature&num_votes=25000,&genres=adventure&sort=user_rating,desc&start={}\".format(ind))\n\n        page_soup = BeautifulSoup(page.content, 'html.parser')\n\n        #Add scraping scripts here\n        #nums.append(scrape_nums(page_soup))\n        #titles.append(scrape_titles(page_soup))\n        #descs.append(scrape_descs(page_soup))\n        #years.append(scrape_years(page_soup))\n        #dirs.append(scrape_dirs(page_soup))\n        #ratings.append(scrape_ratings(page_soup))\n        #durs.append(scrape_durs(page_soup))\n        #genres.append(scrape_genres(page_soup))\n        #stars.append(scrape_stars(page_soup))\n        #film_dates.append(scrape_film_dates(page_soup))\n\n        #check len\n        #if any(len(lst) != length for lst in [titles, descs, years, dirs, ratings, durs, genres, stars, film_dates]):\n        #    print('different number of scraped elements on page {}!'.format(i+1))\n        #    break\n\n    \n    \n    #print(descs[0])\n    #print(years[0])\n    #print(ratings[0])\n    #print(durs[0])\n    #print(genres[0])\n    #print(stars[0])\n\n    scrape_df = pd.DataFrame({'Number': scrape_nums(page_soup),\n                    'Title': scrape_titles(page_soup), \n                    'Description': scrape_descs(page_soup),\n                    'Release date':scrape_years(page_soup),\n                    'Director':scrape_dirs(page_soup),\n                    'Rating':scrape_ratings(page_soup),\n                    'Duration':scrape_durs(page_soup),\n                    'Genre':scrape_genres(page_soup),\n                    'Stars':scrape_stars(page_soup),\n                    #'Filming Date':film_dates\n                    })\n\n    return scrape_df\n\n\nIMDB_scraper2(20)\n\n\n",
      "execution_count": 128,
      "outputs": [
        {
          "name": "stdout",
          "text": "Will scare 20 movies over 10.0 pages.\n",
          "output_type": "stream"
        },
        {
          "output_type": "execute_result",
          "execution_count": 128,
          "data": {
            "application/vnd.deepnote.dataframe.v2+json": {
              "row_count": 50,
              "column_count": 9,
              "columns": [
                {
                  "name": "Number",
                  "dtype": "int64",
                  "stats": {
                    "unique_count": 50,
                    "nan_count": 0,
                    "min": 451,
                    "max": 500,
                    "histogram": [
                      {
                        "bin_start": 451,
                        "bin_end": 455.9,
                        "count": 5
                      },
                      {
                        "bin_start": 455.9,
                        "bin_end": 460.8,
                        "count": 5
                      },
                      {
                        "bin_start": 460.8,
                        "bin_end": 465.7,
                        "count": 5
                      },
                      {
                        "bin_start": 465.7,
                        "bin_end": 470.6,
                        "count": 5
                      },
                      {
                        "bin_start": 470.6,
                        "bin_end": 475.5,
                        "count": 5
                      },
                      {
                        "bin_start": 475.5,
                        "bin_end": 480.4,
                        "count": 5
                      },
                      {
                        "bin_start": 480.4,
                        "bin_end": 485.3,
                        "count": 5
                      },
                      {
                        "bin_start": 485.3,
                        "bin_end": 490.2,
                        "count": 5
                      },
                      {
                        "bin_start": 490.2,
                        "bin_end": 495.1,
                        "count": 5
                      },
                      {
                        "bin_start": 495.1,
                        "bin_end": 500,
                        "count": 5
                      }
                    ]
                  }
                },
                {
                  "name": "Title",
                  "dtype": "object",
                  "stats": {
                    "unique_count": 50,
                    "nan_count": 0,
                    "categories": [
                      {
                        "name": "The Amazing Spider-Man",
                        "count": 1
                      },
                      {
                        "name": "Cloudy with a Chance of Meatballs",
                        "count": 1
                      },
                      {
                        "name": "48 others",
                        "count": 48
                      }
                    ]
                  }
                },
                {
                  "name": "Description",
                  "dtype": "object",
                  "stats": {
                    "unique_count": 50,
                    "nan_count": 0,
                    "categories": [
                      {
                        "name": "After Peter Parker is bitten by a genetically altered spider, he gains newfound, spider-like powers and ventures out to save the city from the machinations of a mysterious reptilian foe.",
                        "count": 1
                      },
                      {
                        "name": "A local scientist is often regarded as a failure until he invents a machine that can make food fall from the sky. But little does he know, that things are about to take a turn for the worst.",
                        "count": 1
                      },
                      {
                        "name": "48 others",
                        "count": 48
                      }
                    ]
                  }
                },
                {
                  "name": "Release date",
                  "dtype": "object",
                  "stats": {
                    "unique_count": 33,
                    "nan_count": 0,
                    "categories": [
                      {
                        "name": "(2011)",
                        "count": 4
                      },
                      {
                        "name": "(2012)",
                        "count": 3
                      },
                      {
                        "name": "31 others",
                        "count": 43
                      }
                    ]
                  }
                },
                {
                  "name": "Director",
                  "dtype": "object",
                  "stats": {
                    "unique_count": 49,
                    "nan_count": 0,
                    "categories": [
                      {
                        "name": "Eric Darnell",
                        "count": 2
                      },
                      {
                        "name": "Marc Webb",
                        "count": 1
                      },
                      {
                        "name": "47 others",
                        "count": 47
                      }
                    ]
                  }
                },
                {
                  "name": "Rating",
                  "dtype": "object",
                  "stats": {
                    "unique_count": 2,
                    "nan_count": 0,
                    "categories": [
                      {
                        "name": "6.9",
                        "count": 31
                      },
                      {
                        "name": "6.8",
                        "count": 19
                      }
                    ]
                  }
                },
                {
                  "name": "Duration",
                  "dtype": "int64",
                  "stats": {
                    "unique_count": 44,
                    "nan_count": 0,
                    "min": 81,
                    "max": 242,
                    "histogram": [
                      {
                        "bin_start": 81,
                        "bin_end": 97.1,
                        "count": 8
                      },
                      {
                        "bin_start": 97.1,
                        "bin_end": 113.2,
                        "count": 6
                      },
                      {
                        "bin_start": 113.2,
                        "bin_end": 129.3,
                        "count": 10
                      },
                      {
                        "bin_start": 129.3,
                        "bin_end": 145.4,
                        "count": 6
                      },
                      {
                        "bin_start": 145.4,
                        "bin_end": 161.5,
                        "count": 8
                      },
                      {
                        "bin_start": 161.5,
                        "bin_end": 177.60000000000002,
                        "count": 5
                      },
                      {
                        "bin_start": 177.60000000000002,
                        "bin_end": 193.70000000000002,
                        "count": 3
                      },
                      {
                        "bin_start": 193.70000000000002,
                        "bin_end": 209.8,
                        "count": 2
                      },
                      {
                        "bin_start": 209.8,
                        "bin_end": 225.9,
                        "count": 0
                      },
                      {
                        "bin_start": 225.9,
                        "bin_end": 242,
                        "count": 2
                      }
                    ]
                  }
                },
                {
                  "name": "Genre",
                  "dtype": "object",
                  "stats": {
                    "unique_count": 50,
                    "nan_count": 0,
                    "categories": [
                      {
                        "name": "['Action', ' Adventure', ' Drama']",
                        "count": 7
                      },
                      {
                        "name": "['Animation', ' Adventure', ' Comedy']",
                        "count": 6
                      },
                      {
                        "name": "20 others",
                        "count": 37
                      }
                    ]
                  }
                },
                {
                  "name": "Stars",
                  "dtype": "object",
                  "stats": {
                    "unique_count": 50,
                    "nan_count": 0,
                    "categories": [
                      {
                        "name": "['Andrew Garfield, ', 'Emma Stone, ', 'Rhys Ifans, ', 'Irrfan Khan']",
                        "count": 1
                      },
                      {
                        "name": "['    Stars:', 'Anna Faris, ', 'Bill Hader, ', 'Bruce Campbell, ', 'James Caan']",
                        "count": 1
                      },
                      {
                        "name": "48 others",
                        "count": 48
                      }
                    ]
                  }
                },
                {
                  "name": "_deepnote_index_column",
                  "dtype": "int64"
                }
              ],
              "rows_top": [
                {
                  "Number": 451,
                  "Title": "The Amazing Spider-Man",
                  "Description": "After Peter Parker is bitten by a genetically altered spider, he gains newfound, spider-like powers and ventures out to save the city from the machinations of a mysterious reptilian foe.",
                  "Release date": "(2012)",
                  "Director": "Marc Webb",
                  "Rating": "6.9",
                  "Duration": 201,
                  "Genre": "['Action', ' Adventure', ' Drama']",
                  "Stars": "['Andrew Garfield, ', 'Emma Stone, ', 'Rhys Ifans, ', 'Irrfan Khan']",
                  "_deepnote_index_column": 0
                },
                {
                  "Number": 452,
                  "Title": "Cloudy with a Chance of Meatballs",
                  "Description": "A local scientist is often regarded as a failure until he invents a machine that can make food fall from the sky. But little does he know, that things are about to take a turn for the worst.",
                  "Release date": "(2009)",
                  "Director": "Phil Lord",
                  "Rating": "6.9",
                  "Duration": 148,
                  "Genre": "['Action', ' Adventure', ' Sci-Fi']",
                  "Stars": "['    Stars:', 'Anna Faris, ', 'Bill Hader, ', 'Bruce Campbell, ', 'James Caan']",
                  "_deepnote_index_column": 1
                },
                {
                  "Number": 453,
                  "Title": "Extremely Loud & Incredibly Close",
                  "Description": "A nine-year-old amateur inventor, Francophile, and pacifist searches New York City for the lock that matches a mysterious key left behind by his father, who died in the World Trade Center on September 11, 2001.",
                  "Release date": "(2011)",
                  "Director": "Stephen Daldry",
                  "Rating": "6.9",
                  "Duration": 178,
                  "Genre": "['Action', ' Adventure', ' Drama']",
                  "Stars": "['Thomas Horn, ', 'Tom Hanks, ', 'Sandra Bullock, ', 'Max von Sydow']",
                  "_deepnote_index_column": 2
                },
                {
                  "Number": 454,
                  "Title": "Captain America: The First Avenger",
                  "Description": "Steve Rogers, a rejected military soldier, transforms into Captain America after taking a dose of a \"Super-Soldier serum\". But being Captain America comes at a price as he attempts to take down a war monger and a terrorist organization.",
                  "Release date": "(2011)",
                  "Director": "Joe Johnston",
                  "Rating": "6.9",
                  "Duration": 179,
                  "Genre": "['Action', ' Adventure', ' Drama']",
                  "Stars": "['Chris Evans, ', 'Hugo Weaving, ', 'Samuel L. Jackson, ', 'Hayley Atwell']",
                  "_deepnote_index_column": 3
                },
                {
                  "Number": 455,
                  "Title": "The Guardian",
                  "Description": "A high school swim champion with a troubled past enrolls in the U.S. Coast Guard's \"A\" School, where legendary rescue swimmer Ben Randall teaches him some hard lessons about loss, love, and self-sacrifice.",
                  "Release date": "(I) (2006)",
                  "Director": "Andrew Davis",
                  "Rating": "6.9",
                  "Duration": 124,
                  "Genre": "['Action', ' Adventure', ' Fantasy']",
                  "Stars": "['Kevin Costner, ', 'Ashton Kutcher, ', 'Sela Ward, ', 'Melissa Sagemiller']",
                  "_deepnote_index_column": 4
                },
                {
                  "Number": 456,
                  "Title": "National Treasure",
                  "Description": "A historian races to find the legendary Templar Treasure before a team of mercenaries.",
                  "Release date": "(2004)",
                  "Director": "Jon Turteltaub",
                  "Rating": "6.9",
                  "Duration": 169,
                  "Genre": "['Adventure', ' Drama', ' Sci-Fi']",
                  "Stars": "['Nicolas Cage, ', 'Diane Kruger, ', 'Justin Bartha, ', 'Sean Bean']",
                  "_deepnote_index_column": 5
                },
                {
                  "Number": 457,
                  "Title": "The Chronicles of Narnia: The Lion, the Witch and the Wardrobe",
                  "Description": "Four kids travel through a wardrobe to the land of Narnia and learn of their destiny to free it with the guidance of a mystical lion.",
                  "Release date": "(2005)",
                  "Director": "Andrew Adamson",
                  "Rating": "6.9",
                  "Duration": 125,
                  "Genre": "['Animation', ' Adventure', ' Family']",
                  "Stars": "['Tilda Swinton, ', 'Georgie Henley, ', 'William Moseley, ', 'Skandar Keynes']",
                  "_deepnote_index_column": 6
                },
                {
                  "Number": 458,
                  "Title": "Madagascar",
                  "Description": "A group of animals who have spent all their life in a New York zoo end up in the jungles of Madagascar, and must adjust to living in the wild.",
                  "Release date": "(2005)",
                  "Director": "Eric Darnell",
                  "Rating": "6.9",
                  "Duration": 121,
                  "Genre": "['Action', ' Adventure', ' Fantasy']",
                  "Stars": "['    Stars:', 'Chris Rock, ', 'Ben Stiller, ', 'David Schwimmer, ', 'Jada Pinkett Smith']",
                  "_deepnote_index_column": 7
                },
                {
                  "Number": 459,
                  "Title": "Mission: Impossible III",
                  "Description": "IMF agent Ethan Hunt comes into conflict with a dangerous and sadistic arms dealer who threatens his life and his fiancée in response.",
                  "Release date": "(2006)",
                  "Director": "J.J. Abrams",
                  "Rating": "6.9",
                  "Duration": 207,
                  "Genre": "['Action', ' Adventure', ' Drama']",
                  "Stars": "['Tom Cruise, ', 'Michelle Monaghan, ', 'Ving Rhames, ', 'Philip Seymour Hoffman']",
                  "_deepnote_index_column": 8
                },
                {
                  "Number": 460,
                  "Title": "Atlantis: The Lost Empire",
                  "Description": "A young linguist named Milo Thatch joins an intrepid group of explorers to find the mysterious lost continent of Atlantis.",
                  "Release date": "(2001)",
                  "Director": "Gary Trousdale",
                  "Rating": "6.9",
                  "Duration": 155,
                  "Genre": "['Action', ' Adventure', ' Drama']",
                  "Stars": "['    Stars:', 'Michael J. Fox, ', 'Jim Varney, ', 'Corey Burton, ', 'Claudia Christian']",
                  "_deepnote_index_column": 9
                },
                {
                  "Number": 461,
                  "Title": "A Knight's Tale",
                  "Description": "After his master dies, a peasant squire, fueled by his desire for food and glory, creates a new identity for himself as a knight.",
                  "Release date": "(2001)",
                  "Director": "Brian Helgeland",
                  "Rating": "6.9",
                  "Duration": 88,
                  "Genre": "['Animation', ' Adventure', ' Drama']",
                  "Stars": "['Heath Ledger, ', 'Mark Addy, ', 'Rufus Sewell, ', 'Shannyn Sossamon']",
                  "_deepnote_index_column": 10
                },
                {
                  "Number": 462,
                  "Title": "The Road to El Dorado",
                  "Description": "Two swindlers get their hands on a map to the fabled city of gold, El Dorado.",
                  "Release date": "(2000)",
                  "Director": "Bibo Bergeron",
                  "Rating": "6.9",
                  "Duration": 116,
                  "Genre": "['Adventure', ' Comedy', ' Sci-Fi']",
                  "Stars": "['| ', '    Stars:', 'Kevin Kline, ', 'Kenneth Branagh, ', 'Rosie Perez, ', 'Armand Assante']",
                  "_deepnote_index_column": 11
                },
                {
                  "Number": 463,
                  "Title": "Ngo si seoi",
                  "Description": "A Secret Agent loses his memory after falling from a crashing helicopter. He is then chased by several other agency operatives, but he has no idea why.",
                  "Release date": "(1998)",
                  "Director": "Benny Chan",
                  "Rating": "6.9",
                  "Duration": 117,
                  "Genre": "['Animation', ' Action', ' Adventure']",
                  "Stars": "['    Stars:', 'Jackie Chan, ', 'Michelle Ferre, ', 'Mirai Yamamoto, ', 'Ron Smerczak']",
                  "_deepnote_index_column": 12
                },
                {
                  "Number": 464,
                  "Title": "The Edge",
                  "Description": "An intellectual billionaire and two other men struggle to band together and survive after getting stranded in the Alaskan wilderness with a blood-thirsty Kodiak Bear hunting them down.",
                  "Release date": "(1997)",
                  "Director": "Lee Tamahori",
                  "Rating": "6.9",
                  "Duration": 181,
                  "Genre": "['Action', ' Adventure', ' Drama']",
                  "Stars": "['Anthony Hopkins, ', 'Alec Baldwin, ', 'Elle Macpherson, ', 'Harold Perrineau']",
                  "_deepnote_index_column": 13
                },
                {
                  "Number": 465,
                  "Title": "The Ghost and the Darkness",
                  "Description": "A bridge engineer and an experienced old hunter begin a hunt for two lions after they start attacking local construction workers.",
                  "Release date": "(1996)",
                  "Director": "Stephen Hopkins",
                  "Rating": "6.9",
                  "Duration": 149,
                  "Genre": "['Action', ' Adventure', ' Sci-Fi']",
                  "Stars": "['Michael Douglas, ', 'Val Kilmer, ', 'Tom Wilkinson, ', 'John Kani']",
                  "_deepnote_index_column": 14
                },
                {
                  "Number": 466,
                  "Title": "Rob Roy",
                  "Description": "In 1713 Scotland, Rob Roy MacGregor is wronged by a nobleman and his nephew, becomes an outlaw in search of revenge while fleeing the Redcoats, and faces charges of being a Jacobite.",
                  "Release date": "(1995)",
                  "Director": "Michael Caton-Jones",
                  "Rating": "6.9",
                  "Duration": 105,
                  "Genre": "['Animation', ' Adventure', ' Family']",
                  "Stars": "['Liam Neeson, ', 'Jessica Lange, ', 'John Hurt, ', 'Tim Roth']",
                  "_deepnote_index_column": 15
                },
                {
                  "Number": 467,
                  "Title": "A Goofy Movie",
                  "Description": "When Max makes a preposterous promise to a girl he has a crush on, his chances to fulfilling it seem hopeless when he is dragged onto a cross-country trip with his embarrassing father, Goofy.",
                  "Release date": "(1995)",
                  "Director": "Kevin Lima",
                  "Rating": "6.9",
                  "Duration": 164,
                  "Genre": "['Action', ' Adventure']",
                  "Stars": "['Bill Farmer, ', 'Jason Marsden, ', 'Jim Cummings, ', 'Kellie Martin']",
                  "_deepnote_index_column": 16
                },
                {
                  "Number": 468,
                  "Title": "Robin Hood: Prince of Thieves",
                  "Description": "When Robin and his Moorish companion come to England and the tyranny of the Sheriff of Nottingham, he decides to fight back as an outlaw.",
                  "Release date": "(1991)",
                  "Director": "Kevin Reynolds",
                  "Rating": "6.9",
                  "Duration": 98,
                  "Genre": "['Animation', ' Adventure', ' Family']",
                  "Stars": "['Kevin Costner, ', 'Morgan Freeman, ', 'Mary Elizabeth Mastrantonio, ', 'Christian Slater']",
                  "_deepnote_index_column": 17
                },
                {
                  "Number": 469,
                  "Title": "The Witches",
                  "Description": "A young boy stumbles onto a witch convention and must stop them, even after he has been turned into a mouse.",
                  "Release date": "(1990)",
                  "Director": "Nicolas Roeg",
                  "Rating": "6.9",
                  "Duration": 134,
                  "Genre": "['Animation', ' Action', ' Adventure']",
                  "Stars": "['Anjelica Huston, ', 'Mai Zetterling, ', 'Jasen Fisher, ', 'Rowan Atkinson']",
                  "_deepnote_index_column": 18
                },
                {
                  "Number": 470,
                  "Title": "The Rescuers Down Under",
                  "Description": "The R.A.S. agents, Miss Bianca and Bernard, race to Australia to save a little boy and a rare golden eagle from a murderous poacher.",
                  "Release date": "(1990)",
                  "Director": "Hendel Butoy",
                  "Rating": "6.9",
                  "Duration": 115,
                  "Genre": "['Action', ' Adventure']",
                  "Stars": "['    Stars:', 'Bob Newhart, ', 'Eva Gabor, ', 'John Candy, ', 'Tristan Rogers']",
                  "_deepnote_index_column": 19
                },
                {
                  "Number": 471,
                  "Title": "DuckTales the Movie: Treasure of the Lost Lamp",
                  "Description": "Scrooge McDuck takes Huey, Dewey, and Louie to Egypt to find a pyramid and magic lamp.",
                  "Release date": "(1990)",
                  "Director": "Bob Hathcock",
                  "Rating": "6.9",
                  "Duration": 242,
                  "Genre": "['Action', ' Adventure', ' Fantasy']",
                  "Stars": "['Alan Young, ', 'Christopher Lloyd, ', 'Terence McGovern, ', 'Russi Taylor']",
                  "_deepnote_index_column": 20
                },
                {
                  "Number": 472,
                  "Title": "Flight of the Navigator",
                  "Description": "In 1978, a boy travels 8 years into the future and has an adventure with an intelligent, wisecracking alien ship.",
                  "Release date": "(1986)",
                  "Director": "Randal Kleiser",
                  "Rating": "6.9",
                  "Duration": 153,
                  "Genre": "['Adventure', ' Drama', ' War']",
                  "Stars": "['Joey Cramer, ', 'Paul Reubens, ', 'Cliff De Young, ', 'Veronica Cartwright']",
                  "_deepnote_index_column": 21
                },
                {
                  "Number": 473,
                  "Title": "An American Tail",
                  "Description": "While emigrating to the United States, a young Russian mouse gets separated from his family and must relocate them while trying to survive in a new country.",
                  "Release date": "(1986)",
                  "Director": "Don Bluth",
                  "Rating": "6.9",
                  "Duration": 81,
                  "Genre": "['Animation', ' Adventure', ' Comedy']",
                  "Stars": "['Dom DeLuise, ', 'Christopher Plummer, ', 'Erica Yohn, ', 'Nehemiah Persoff']",
                  "_deepnote_index_column": 22
                },
                {
                  "Number": 474,
                  "Title": "Enemy Mine",
                  "Description": "During a long space war, the lives of two wounded enemies become dependent on their ability to forgive and to trust.",
                  "Release date": "(1985)",
                  "Director": "Wolfgang Petersen",
                  "Rating": "6.9",
                  "Duration": 137,
                  "Genre": "['Action', ' Adventure', ' Sci-Fi']",
                  "Stars": "['Dennis Quaid, ', 'Louis Gossett Jr., ', 'Brion James, ', 'Richard Marcus']",
                  "_deepnote_index_column": 23
                },
                {
                  "Number": 475,
                  "Title": "Romancing the Stone",
                  "Description": "A mousy romance novelist sets off for Colombia to ransom her kidnapped sister, and soon finds herself in the middle of a dangerous adventure hunting for treasure with a mercenary rogue.",
                  "Release date": "(1984)",
                  "Director": "Robert Zemeckis",
                  "Rating": "6.9",
                  "Duration": 131,
                  "Genre": "['Action', ' Adventure', ' Fantasy']",
                  "Stars": "['Michael Douglas, ', 'Kathleen Turner, ', 'Danny DeVito, ', 'Zack Norman']",
                  "_deepnote_index_column": 24
                },
                {
                  "Number": 476,
                  "Title": "Conan the Barbarian",
                  "Description": "A young boy, Conan, becomes a slave after his parents are killed and tribe destroyed by a savage warlord and sorcerer, Thulsa Doom. When he grows up he becomes a fearless, invincible fighter. Set free, he plots revenge against Thulsa Doom.",
                  "Release date": "(1982)",
                  "Director": "John Milius",
                  "Rating": "6.9",
                  "Duration": 149,
                  "Genre": "['Adventure', ' Drama', ' Thriller']",
                  "Stars": "['Arnold Schwarzenegger, ', 'James Earl Jones, ', 'Max von Sydow, ', 'Sandahl Bergman']",
                  "_deepnote_index_column": 25
                },
                {
                  "Number": 477,
                  "Title": "Clash of the Titans",
                  "Description": "Perseus must battle Medusa and the Kraken to save the Princess Andromeda.",
                  "Release date": "(1981)",
                  "Director": "Desmond Davis",
                  "Rating": "6.9",
                  "Duration": 149,
                  "Genre": "['Adventure', ' Sci-Fi']",
                  "Stars": "['Laurence Olivier, ', 'Harry Hamlin, ', 'Claire Bloom, ', 'Maggie Smith']",
                  "_deepnote_index_column": 26
                },
                {
                  "Number": 478,
                  "Title": "Mad Max",
                  "Description": "In a self-destructing world, a vengeful Australian policeman sets out to stop a violent motorcycle gang.",
                  "Release date": "(1979)",
                  "Director": "George Miller",
                  "Rating": "6.9",
                  "Duration": 228,
                  "Genre": "['Adventure', ' Biography', ' Drama']",
                  "Stars": "['Mel Gibson, ', 'Joanne Samuel, ', 'Hugh Keays-Byrne, ', 'Steve Bisley']",
                  "_deepnote_index_column": 27
                },
                {
                  "Number": 479,
                  "Title": "The Rescuers",
                  "Description": "Two mice of the Rescue Aid Society search for a little girl kidnapped by unscrupulous treasure hunters.",
                  "Release date": "(1977)",
                  "Director": "John Lounsbery",
                  "Rating": "6.9",
                  "Duration": 136,
                  "Genre": "['Adventure', ' Mystery', ' Thriller']",
                  "Stars": "['| ', '    Stars:', 'Bob Newhart, ', 'Eva Gabor, ', 'Geraldine Page, ', 'Joe Flynn']",
                  "_deepnote_index_column": 28
                },
                {
                  "Number": 480,
                  "Title": "Chitty Chitty Bang Bang",
                  "Description": "A down-on-his-luck inventor turns a broken-down Grand Prix car into a fancy vehicle for his children, and then they go off on a magical fantasy adventure to save their grandfather in a far-off land.",
                  "Release date": "(1968)",
                  "Director": "Ken Hughes",
                  "Rating": "6.9",
                  "Duration": 167,
                  "Genre": "['Action', ' Adventure', ' Drama']",
                  "Stars": "['Dick Van Dyke, ', 'Sally Ann Howes, ', 'Lionel Jeffries, ', 'Benny Hill']",
                  "_deepnote_index_column": 29
                },
                {
                  "Number": 481,
                  "Title": "You Only Live Twice",
                  "Description": "Secret Agent James Bond and the Japanese Secret Service must find and stop the true culprit of a series of space hijackings, before war is provoked between Russia and the United States.",
                  "Release date": "(1967)",
                  "Director": "Lewis Gilbert",
                  "Rating": "6.9",
                  "Duration": 96,
                  "Genre": "['Animation', ' Adventure', ' Comedy']",
                  "Stars": "['Sean Connery, ', 'Akiko Wakabayashi, ', 'Mie Hama, ', 'Tetsurô Tanba']",
                  "_deepnote_index_column": 30
                },
                {
                  "Number": 482,
                  "Title": "The Call of the Wild",
                  "Description": "A sled dog struggles for survival in the wilds of the Yukon.",
                  "Release date": "(2020)",
                  "Director": "Chris Sanders",
                  "Rating": "6.8",
                  "Duration": 146,
                  "Genre": "['Adventure', ' Comedy', ' Drama']",
                  "Stars": "['Harrison Ford, ', 'Omar Sy, ', 'Cara Gee, ', 'Dan Stevens']",
                  "_deepnote_index_column": 31
                },
                {
                  "Number": 483,
                  "Title": "News of the World",
                  "Description": "A Civil War veteran agrees to deliver a girl, taken by the Kiowa people years ago, to her aunt and uncle, against her will. They travel hundreds of miles and face grave dangers as they search for a place that either can call home.",
                  "Release date": "(2020)",
                  "Director": "Paul Greengrass",
                  "Rating": "6.8",
                  "Duration": 96,
                  "Genre": "['Animation', ' Adventure', ' Comedy']",
                  "Stars": "['Tom Hanks, ', 'Helena Zengel, ', 'Tom Astor, ', 'Travis Johnson']",
                  "_deepnote_index_column": 32
                },
                {
                  "Number": 484,
                  "Title": "Arctic",
                  "Description": "A man stranded in the Arctic after a plane crash must decide whether to remain in the relative safety of his makeshift camp or to embark on a deadly trek through the unknown.",
                  "Release date": "(2018)",
                  "Director": "Joe Penna",
                  "Rating": "6.8",
                  "Duration": 103,
                  "Genre": "['Animation', ' Adventure', ' Comedy']",
                  "Stars": "['Mads Mikkelsen, ', 'Maria Thelma Smáradóttir, ', 'Tintrinai Thikhasuk']",
                  "_deepnote_index_column": 33
                },
                {
                  "Number": 485,
                  "Title": "Spies in Disguise",
                  "Description": "When the world's best spy is turned into a pigeon, he must rely on his nerdy tech officer to save the world.",
                  "Release date": "(2019)",
                  "Director": "Nick Bruno",
                  "Rating": "6.8",
                  "Duration": 140,
                  "Genre": "['Action', ' Adventure']",
                  "Stars": "['    Stars:', 'Rachel Brosnahan, ', 'Jarrett Bruno, ', 'Claire Crosby, ', 'Toru Uchikado']",
                  "_deepnote_index_column": 34
                },
                {
                  "Number": 486,
                  "Title": "Bumblebee",
                  "Description": "On the run in the year 1987, Bumblebee finds refuge in a junkyard in a small California beach town. On the cusp of turning 18 and trying to find her place in the world, Charlie Watson discovers Bumblebee, battle-scarred and broken.",
                  "Release date": "(I) (2018)",
                  "Director": "Travis Knight",
                  "Rating": "6.8",
                  "Duration": 119,
                  "Genre": "['Animation', ' Adventure', ' Family']",
                  "Stars": "['Hailee Steinfeld, ', 'Jorge Lendeborg Jr., ', 'John Cena, ', 'Jason Drucker']",
                  "_deepnote_index_column": 35
                },
                {
                  "Number": 487,
                  "Title": "Storks",
                  "Description": "Storks have moved on from delivering babies to packages. But when an order for a baby appears, the best delivery stork must scramble to fix the error by delivering the baby.",
                  "Release date": "(2016)",
                  "Director": "Nicholas Stoller",
                  "Rating": "6.8",
                  "Duration": 127,
                  "Genre": "['Action', ' Adventure']",
                  "Stars": "['    Stars:', 'Andy Samberg, ', 'Katie Crown, ', 'Kelsey Grammer, ', 'Jennifer Aniston']",
                  "_deepnote_index_column": 36
                },
                {
                  "Number": 488,
                  "Title": "Annihilation",
                  "Description": "A biologist signs up for a dangerous, secret expedition into a mysterious zone where the laws of nature don't apply.",
                  "Release date": "(2018)",
                  "Director": "Alex Garland",
                  "Rating": "6.8",
                  "Duration": 162,
                  "Genre": "['Action', ' Adventure', ' Comedy']",
                  "Stars": "['Natalie Portman, ', 'Jennifer Jason Leigh, ', 'Tessa Thompson, ', 'Benedict Wong']",
                  "_deepnote_index_column": 37
                },
                {
                  "Number": 489,
                  "Title": "Spectre",
                  "Description": "A cryptic message from James Bond's past sends him on a trail to uncover the existence of a sinister organisation named SPECTRE. With a new threat dawning, Bond learns the terrible truth about the author of all his pain in his most recent missions.",
                  "Release date": "(I) (2015)",
                  "Director": "Sam Mendes",
                  "Rating": "6.8",
                  "Duration": 91,
                  "Genre": "['Adventure', ' Comedy', ' Fantasy']",
                  "Stars": "['Daniel Craig, ', 'Christoph Waltz, ', 'Léa Seydoux, ', 'Ralph Fiennes']",
                  "_deepnote_index_column": 38
                },
                {
                  "Number": 490,
                  "Title": "The Grey",
                  "Description": "After their plane crashes in Alaska, six oil workers are led by a skilled huntsman to survival, but a pack of merciless wolves haunts their every step.",
                  "Release date": "(2011)",
                  "Director": "Joe Carnahan",
                  "Rating": "6.8",
                  "Duration": 172,
                  "Genre": "['Adventure', ' Drama', ' History']",
                  "Stars": "['Liam Neeson, ', 'Dermot Mulroney, ', 'Frank Grillo, ', 'Dallas Roberts']",
                  "_deepnote_index_column": 39
                },
                {
                  "Number": 491,
                  "Title": "Men in Black 3",
                  "Description": "Agent J travels in time to M.I.B.'s early days in 1969 to stop an alien from assassinating his friend Agent K and changing history.",
                  "Release date": "(2012)",
                  "Director": "Barry Sonnenfeld",
                  "Rating": "6.8",
                  "Duration": 126,
                  "Genre": "['Adventure', ' Drama', ' Western']",
                  "Stars": "['Will Smith, ', 'Tommy Lee Jones, ', 'Josh Brolin, ', 'Jemaine Clement']",
                  "_deepnote_index_column": 40
                },
                {
                  "Number": 492,
                  "Title": "Madagascar 3: Europe's Most Wanted",
                  "Description": "The Madagascar animals join a struggling European circus to get back to New York, but find themselves being pursued by a psychotic animal control officer.",
                  "Release date": "(2012)",
                  "Director": "Eric Darnell",
                  "Rating": "6.8",
                  "Duration": 95,
                  "Genre": "['Adventure', ' Comedy', ' Drama']",
                  "Stars": "['| ', '    Stars:', 'Ben Stiller, ', 'Jada Pinkett Smith, ', 'Chris Rock, ', 'David Schwimmer']",
                  "_deepnote_index_column": 41
                },
                {
                  "Number": 493,
                  "Title": "TRON: Legacy",
                  "Description": "The son of a virtual world designer goes looking for his father and ends up inside the digital world that his father designed. He meets his father's corrupted creation and a unique ally who was born inside the digital world.",
                  "Release date": "(2010)",
                  "Director": "Joseph Kosinski",
                  "Rating": "6.8",
                  "Duration": 100,
                  "Genre": "['Animation', ' Adventure', ' Comedy']",
                  "Stars": "['Jeff Bridges, ', 'Garrett Hedlund, ', 'Olivia Wilde, ', 'Bruce Boxleitner']",
                  "_deepnote_index_column": 42
                },
                {
                  "Number": 494,
                  "Title": "The Imaginarium of Doctor Parnassus",
                  "Description": "A traveling theater company gives its audience much more than they were expecting.",
                  "Release date": "(2009)",
                  "Director": "Terry Gilliam",
                  "Rating": "6.8",
                  "Duration": 99,
                  "Genre": "['Adventure', ' Comedy', ' Crime']",
                  "Stars": "['Christopher Plummer, ', 'Lily Cole, ', 'Heath Ledger, ', 'Andrew Garfield']",
                  "_deepnote_index_column": 43
                },
                {
                  "Number": 495,
                  "Title": "Hanna",
                  "Description": "A sixteen-year-old girl who was raised by her father to be the perfect assassin is dispatched on a mission across Europe, tracked by a ruthless intelligence agent and her operatives.",
                  "Release date": "(2011)",
                  "Director": "Joe Wright",
                  "Rating": "6.8",
                  "Duration": 95,
                  "Genre": "['Animation', ' Adventure', ' Comedy']",
                  "Stars": "['Saoirse Ronan, ', 'Cate Blanchett, ', 'Eric Bana, ', 'Vicky Krieps']",
                  "_deepnote_index_column": 44
                },
                {
                  "Number": 496,
                  "Title": "Mr. Peabody & Sherman",
                  "Description": "The time-travelling adventures of an advanced canine and his adopted son, as they endeavor to fix a time rift they created.",
                  "Release date": "(2014)",
                  "Director": "Rob Minkoff",
                  "Rating": "6.8",
                  "Duration": 93,
                  "Genre": "['Animation', ' Adventure', ' Drama']",
                  "Stars": "['Ty Burrell, ', 'Max Charles, ', 'Stephen Colbert, ', 'Leslie Mann']",
                  "_deepnote_index_column": 45
                },
                {
                  "Number": 497,
                  "Title": "The Brothers Bloom",
                  "Description": "The Brothers Bloom are the best con men in the world, swindling millionaires with complex scenarios of lust and intrigue. Now they've decided to take on one last job - showing a beautiful and eccentric heiress the time of her life with a romantic adventure that takes them around the world.",
                  "Release date": "(2008)",
                  "Director": "Rian Johnson",
                  "Rating": "6.8",
                  "Duration": 120,
                  "Genre": "['Action', ' Adventure', ' Sci-Fi']",
                  "Stars": "['Rachel Weisz, ', 'Adrien Brody, ', 'Mark Ruffalo, ', 'Rinko Kikuchi']",
                  "_deepnote_index_column": 46
                },
                {
                  "Number": 498,
                  "Title": "Warcraft",
                  "Description": "As an Orc horde invades the planet Azeroth using a magic portal, a few human heroes and dissenting Orcs must attempt to stop the true evil behind this war.",
                  "Release date": "(2016)",
                  "Director": "Duncan Jones",
                  "Rating": "6.8",
                  "Duration": 130,
                  "Genre": "['Adventure', ' Drama', ' Fantasy']",
                  "Stars": "['Travis Fimmel, ', 'Paula Patton, ', 'Ben Foster, ', 'Dominic Cooper']",
                  "_deepnote_index_column": 47
                },
                {
                  "Number": 499,
                  "Title": "The Boxtrolls",
                  "Description": "A young orphaned boy raised by underground cave-dwelling trash collectors tries to save his friends from an evil exterminator.",
                  "Release date": "(2014)",
                  "Director": "Graham Annable",
                  "Rating": "6.8",
                  "Duration": 98,
                  "Genre": "['Animation', ' Action', ' Adventure']",
                  "Stars": "['    Stars:', 'Ben Kingsley, ', 'Jared Harris, ', 'Nick Frost, ', 'Richard Ayoade']",
                  "_deepnote_index_column": 48
                },
                {
                  "Number": 500,
                  "Title": "Horton Hears a Who!",
                  "Description": "Horton the Elephant struggles to protect a microscopic community from his neighbors who refuse to believe it exists.",
                  "Release date": "(2008)",
                  "Director": "Jimmy Hayward",
                  "Rating": "6.8",
                  "Duration": 148,
                  "Genre": "['Adventure', ' Biography', ' Drama']",
                  "Stars": "['    Stars:', 'Jim Carrey, ', 'Steve Carell, ', 'Carol Burnett, ', 'Will Arnett']",
                  "_deepnote_index_column": 49
                }
              ],
              "rows_bottom": null
            },
            "text/plain": "    Number                                              Title  \\\n0      451                             The Amazing Spider-Man   \n1      452                  Cloudy with a Chance of Meatballs   \n2      453                  Extremely Loud & Incredibly Close   \n3      454                 Captain America: The First Avenger   \n4      455                                       The Guardian   \n5      456                                  National Treasure   \n6      457  The Chronicles of Narnia: The Lion, the Witch ...   \n7      458                                         Madagascar   \n8      459                            Mission: Impossible III   \n9      460                          Atlantis: The Lost Empire   \n10     461                                    A Knight's Tale   \n11     462                              The Road to El Dorado   \n12     463                                        Ngo si seoi   \n13     464                                           The Edge   \n14     465                         The Ghost and the Darkness   \n15     466                                            Rob Roy   \n16     467                                      A Goofy Movie   \n17     468                      Robin Hood: Prince of Thieves   \n18     469                                        The Witches   \n19     470                            The Rescuers Down Under   \n20     471     DuckTales the Movie: Treasure of the Lost Lamp   \n21     472                            Flight of the Navigator   \n22     473                                   An American Tail   \n23     474                                         Enemy Mine   \n24     475                                Romancing the Stone   \n25     476                                Conan the Barbarian   \n26     477                                Clash of the Titans   \n27     478                                            Mad Max   \n28     479                                       The Rescuers   \n29     480                            Chitty Chitty Bang Bang   \n30     481                                You Only Live Twice   \n31     482                               The Call of the Wild   \n32     483                                  News of the World   \n33     484                                             Arctic   \n34     485                                  Spies in Disguise   \n35     486                                          Bumblebee   \n36     487                                             Storks   \n37     488                                       Annihilation   \n38     489                                            Spectre   \n39     490                                           The Grey   \n40     491                                     Men in Black 3   \n41     492                 Madagascar 3: Europe's Most Wanted   \n42     493                                       TRON: Legacy   \n43     494                The Imaginarium of Doctor Parnassus   \n44     495                                              Hanna   \n45     496                              Mr. Peabody & Sherman   \n46     497                                 The Brothers Bloom   \n47     498                                           Warcraft   \n48     499                                      The Boxtrolls   \n49     500                                Horton Hears a Who!   \n\n                                          Description Release date  \\\n0   After Peter Parker is bitten by a genetically ...       (2012)   \n1   A local scientist is often regarded as a failu...       (2009)   \n2   A nine-year-old amateur inventor, Francophile,...       (2011)   \n3   Steve Rogers, a rejected military soldier, tra...       (2011)   \n4   A high school swim champion with a troubled pa...   (I) (2006)   \n5   A historian races to find the legendary Templa...       (2004)   \n6   Four kids travel through a wardrobe to the lan...       (2005)   \n7   A group of animals who have spent all their li...       (2005)   \n8   IMF agent Ethan Hunt comes into conflict with ...       (2006)   \n9   A young linguist named Milo Thatch joins an in...       (2001)   \n10  After his master dies, a peasant squire, fuele...       (2001)   \n11  Two swindlers get their hands on a map to the ...       (2000)   \n12  A Secret Agent loses his memory after falling ...       (1998)   \n13  An intellectual billionaire and two other men ...       (1997)   \n14  A bridge engineer and an experienced old hunte...       (1996)   \n15  In 1713 Scotland, Rob Roy MacGregor is wronged...       (1995)   \n16  When Max makes a preposterous promise to a gir...       (1995)   \n17  When Robin and his Moorish companion come to E...       (1991)   \n18  A young boy stumbles onto a witch convention a...       (1990)   \n19  The R.A.S. agents, Miss Bianca and Bernard, ra...       (1990)   \n20  Scrooge McDuck takes Huey, Dewey, and Louie to...       (1990)   \n21  In 1978, a boy travels 8 years into the future...       (1986)   \n22  While emigrating to the United States, a young...       (1986)   \n23  During a long space war, the lives of two woun...       (1985)   \n24  A mousy romance novelist sets off for Colombia...       (1984)   \n25  A young boy, Conan, becomes a slave after his ...       (1982)   \n26  Perseus must battle Medusa and the Kraken to s...       (1981)   \n27  In a self-destructing world, a vengeful Austra...       (1979)   \n28  Two mice of the Rescue Aid Society search for ...       (1977)   \n29  A down-on-his-luck inventor turns a broken-dow...       (1968)   \n30  Secret Agent James Bond and the Japanese Secre...       (1967)   \n31  A sled dog struggles for survival in the wilds...       (2020)   \n32  A Civil War veteran agrees to deliver a girl, ...       (2020)   \n33  A man stranded in the Arctic after a plane cra...       (2018)   \n34  When the world's best spy is turned into a pig...       (2019)   \n35  On the run in the year 1987, Bumblebee finds r...   (I) (2018)   \n36  Storks have moved on from delivering babies to...       (2016)   \n37  A biologist signs up for a dangerous, secret e...       (2018)   \n38  A cryptic message from James Bond's past sends...   (I) (2015)   \n39  After their plane crashes in Alaska, six oil w...       (2011)   \n40  Agent J travels in time to M.I.B.'s early days...       (2012)   \n41  The Madagascar animals join a struggling Europ...       (2012)   \n42  The son of a virtual world designer goes looki...       (2010)   \n43  A traveling theater company gives its audience...       (2009)   \n44  A sixteen-year-old girl who was raised by her ...       (2011)   \n45  The time-travelling adventures of an advanced ...       (2014)   \n46  The Brothers Bloom are the best con men in the...       (2008)   \n47  As an Orc horde invades the planet Azeroth usi...       (2016)   \n48  A young orphaned boy raised by underground cav...       (2014)   \n49  Horton the Elephant struggles to protect a mic...       (2008)   \n\n               Director Rating  Duration                             Genre  \\\n0             Marc Webb    6.9       201      [Action,  Adventure,  Drama]   \n1             Phil Lord    6.9       148     [Action,  Adventure,  Sci-Fi]   \n2        Stephen Daldry    6.9       178      [Action,  Adventure,  Drama]   \n3          Joe Johnston    6.9       179      [Action,  Adventure,  Drama]   \n4          Andrew Davis    6.9       124    [Action,  Adventure,  Fantasy]   \n5        Jon Turteltaub    6.9       169      [Adventure,  Drama,  Sci-Fi]   \n6        Andrew Adamson    6.9       125  [Animation,  Adventure,  Family]   \n7          Eric Darnell    6.9       121    [Action,  Adventure,  Fantasy]   \n8           J.J. Abrams    6.9       207      [Action,  Adventure,  Drama]   \n9        Gary Trousdale    6.9       155      [Action,  Adventure,  Drama]   \n10      Brian Helgeland    6.9        88   [Animation,  Adventure,  Drama]   \n11        Bibo Bergeron    6.9       116     [Adventure,  Comedy,  Sci-Fi]   \n12           Benny Chan    6.9       117  [Animation,  Action,  Adventure]   \n13         Lee Tamahori    6.9       181      [Action,  Adventure,  Drama]   \n14      Stephen Hopkins    6.9       149     [Action,  Adventure,  Sci-Fi]   \n15  Michael Caton-Jones    6.9       105  [Animation,  Adventure,  Family]   \n16           Kevin Lima    6.9       164              [Action,  Adventure]   \n17       Kevin Reynolds    6.9        98  [Animation,  Adventure,  Family]   \n18         Nicolas Roeg    6.9       134  [Animation,  Action,  Adventure]   \n19         Hendel Butoy    6.9       115              [Action,  Adventure]   \n20         Bob Hathcock    6.9       242    [Action,  Adventure,  Fantasy]   \n21       Randal Kleiser    6.9       153         [Adventure,  Drama,  War]   \n22            Don Bluth    6.9        81  [Animation,  Adventure,  Comedy]   \n23    Wolfgang Petersen    6.9       137     [Action,  Adventure,  Sci-Fi]   \n24      Robert Zemeckis    6.9       131    [Action,  Adventure,  Fantasy]   \n25          John Milius    6.9       149    [Adventure,  Drama,  Thriller]   \n26        Desmond Davis    6.9       149              [Adventure,  Sci-Fi]   \n27        George Miller    6.9       228   [Adventure,  Biography,  Drama]   \n28       John Lounsbery    6.9       136  [Adventure,  Mystery,  Thriller]   \n29           Ken Hughes    6.9       167      [Action,  Adventure,  Drama]   \n30        Lewis Gilbert    6.9        96  [Animation,  Adventure,  Comedy]   \n31        Chris Sanders    6.8       146      [Adventure,  Comedy,  Drama]   \n32      Paul Greengrass    6.8        96  [Animation,  Adventure,  Comedy]   \n33            Joe Penna    6.8       103  [Animation,  Adventure,  Comedy]   \n34           Nick Bruno    6.8       140              [Action,  Adventure]   \n35        Travis Knight    6.8       119  [Animation,  Adventure,  Family]   \n36     Nicholas Stoller    6.8       127              [Action,  Adventure]   \n37         Alex Garland    6.8       162     [Action,  Adventure,  Comedy]   \n38           Sam Mendes    6.8        91    [Adventure,  Comedy,  Fantasy]   \n39         Joe Carnahan    6.8       172     [Adventure,  Drama,  History]   \n40     Barry Sonnenfeld    6.8       126     [Adventure,  Drama,  Western]   \n41         Eric Darnell    6.8        95      [Adventure,  Comedy,  Drama]   \n42      Joseph Kosinski    6.8       100  [Animation,  Adventure,  Comedy]   \n43        Terry Gilliam    6.8        99      [Adventure,  Comedy,  Crime]   \n44           Joe Wright    6.8        95  [Animation,  Adventure,  Comedy]   \n45          Rob Minkoff    6.8        93   [Animation,  Adventure,  Drama]   \n46         Rian Johnson    6.8       120     [Action,  Adventure,  Sci-Fi]   \n47         Duncan Jones    6.8       130     [Adventure,  Drama,  Fantasy]   \n48       Graham Annable    6.8        98  [Animation,  Action,  Adventure]   \n49        Jimmy Hayward    6.8       148   [Adventure,  Biography,  Drama]   \n\n                                                Stars  \n0   ['Andrew Garfield, ', 'Emma Stone, ', 'Rhys If...  \n1   ['    Stars:', 'Anna Faris, ', 'Bill Hader, ',...  \n2   ['Thomas Horn, ', 'Tom Hanks, ', 'Sandra Bullo...  \n3   ['Chris Evans, ', 'Hugo Weaving, ', 'Samuel L....  \n4   ['Kevin Costner, ', 'Ashton Kutcher, ', 'Sela ...  \n5   ['Nicolas Cage, ', 'Diane Kruger, ', 'Justin B...  \n6   ['Tilda Swinton, ', 'Georgie Henley, ', 'Willi...  \n7   ['    Stars:', 'Chris Rock, ', 'Ben Stiller, '...  \n8   ['Tom Cruise, ', 'Michelle Monaghan, ', 'Ving ...  \n9   ['    Stars:', 'Michael J. Fox, ', 'Jim Varney...  \n10  ['Heath Ledger, ', 'Mark Addy, ', 'Rufus Sewel...  \n11  ['| ', '    Stars:', 'Kevin Kline, ', 'Kenneth...  \n12  ['    Stars:', 'Jackie Chan, ', 'Michelle Ferr...  \n13  ['Anthony Hopkins, ', 'Alec Baldwin, ', 'Elle ...  \n14  ['Michael Douglas, ', 'Val Kilmer, ', 'Tom Wil...  \n15  ['Liam Neeson, ', 'Jessica Lange, ', 'John Hur...  \n16  ['Bill Farmer, ', 'Jason Marsden, ', 'Jim Cumm...  \n17  ['Kevin Costner, ', 'Morgan Freeman, ', 'Mary ...  \n18  ['Anjelica Huston, ', 'Mai Zetterling, ', 'Jas...  \n19  ['    Stars:', 'Bob Newhart, ', 'Eva Gabor, ',...  \n20  ['Alan Young, ', 'Christopher Lloyd, ', 'Teren...  \n21  ['Joey Cramer, ', 'Paul Reubens, ', 'Cliff De ...  \n22  ['Dom DeLuise, ', 'Christopher Plummer, ', 'Er...  \n23  ['Dennis Quaid, ', 'Louis Gossett Jr., ', 'Bri...  \n24  ['Michael Douglas, ', 'Kathleen Turner, ', 'Da...  \n25  ['Arnold Schwarzenegger, ', 'James Earl Jones,...  \n26  ['Laurence Olivier, ', 'Harry Hamlin, ', 'Clai...  \n27  ['Mel Gibson, ', 'Joanne Samuel, ', 'Hugh Keay...  \n28  ['| ', '    Stars:', 'Bob Newhart, ', 'Eva Gab...  \n29  ['Dick Van Dyke, ', 'Sally Ann Howes, ', 'Lion...  \n30  ['Sean Connery, ', 'Akiko Wakabayashi, ', 'Mie...  \n31  ['Harrison Ford, ', 'Omar Sy, ', 'Cara Gee, ',...  \n32  ['Tom Hanks, ', 'Helena Zengel, ', 'Tom Astor,...  \n33  ['Mads Mikkelsen, ', 'Maria Thelma Smáradóttir...  \n34  ['    Stars:', 'Rachel Brosnahan, ', 'Jarrett ...  \n35  ['Hailee Steinfeld, ', 'Jorge Lendeborg Jr., '...  \n36  ['    Stars:', 'Andy Samberg, ', 'Katie Crown,...  \n37  ['Natalie Portman, ', 'Jennifer Jason Leigh, '...  \n38  ['Daniel Craig, ', 'Christoph Waltz, ', 'Léa S...  \n39  ['Liam Neeson, ', 'Dermot Mulroney, ', 'Frank ...  \n40  ['Will Smith, ', 'Tommy Lee Jones, ', 'Josh Br...  \n41  ['| ', '    Stars:', 'Ben Stiller, ', 'Jada Pi...  \n42  ['Jeff Bridges, ', 'Garrett Hedlund, ', 'Olivi...  \n43  ['Christopher Plummer, ', 'Lily Cole, ', 'Heat...  \n44  ['Saoirse Ronan, ', 'Cate Blanchett, ', 'Eric ...  \n45  ['Ty Burrell, ', 'Max Charles, ', 'Stephen Col...  \n46  ['Rachel Weisz, ', 'Adrien Brody, ', 'Mark Ruf...  \n47  ['Travis Fimmel, ', 'Paula Patton, ', 'Ben Fos...  \n48  ['    Stars:', 'Ben Kingsley, ', 'Jared Harris...  \n49  ['    Stars:', 'Jim Carrey, ', 'Steve Carell, ...  ",
            "text/html": "<div>\n<style scoped>\n    .dataframe tbody tr th:only-of-type {\n        vertical-align: middle;\n    }\n\n    .dataframe tbody tr th {\n        vertical-align: top;\n    }\n\n    .dataframe thead th {\n        text-align: right;\n    }\n</style>\n<table border=\"1\" class=\"dataframe\">\n  <thead>\n    <tr style=\"text-align: right;\">\n      <th></th>\n      <th>Number</th>\n      <th>Title</th>\n      <th>Description</th>\n      <th>Release date</th>\n      <th>Director</th>\n      <th>Rating</th>\n      <th>Duration</th>\n      <th>Genre</th>\n      <th>Stars</th>\n    </tr>\n  </thead>\n  <tbody>\n    <tr>\n      <th>0</th>\n      <td>451</td>\n      <td>The Amazing Spider-Man</td>\n      <td>After Peter Parker is bitten by a genetically ...</td>\n      <td>(2012)</td>\n      <td>Marc Webb</td>\n      <td>6.9</td>\n      <td>201</td>\n      <td>[Action,  Adventure,  Drama]</td>\n      <td>['Andrew Garfield, ', 'Emma Stone, ', 'Rhys If...</td>\n    </tr>\n    <tr>\n      <th>1</th>\n      <td>452</td>\n      <td>Cloudy with a Chance of Meatballs</td>\n      <td>A local scientist is often regarded as a failu...</td>\n      <td>(2009)</td>\n      <td>Phil Lord</td>\n      <td>6.9</td>\n      <td>148</td>\n      <td>[Action,  Adventure,  Sci-Fi]</td>\n      <td>['    Stars:', 'Anna Faris, ', 'Bill Hader, ',...</td>\n    </tr>\n    <tr>\n      <th>2</th>\n      <td>453</td>\n      <td>Extremely Loud &amp; Incredibly Close</td>\n      <td>A nine-year-old amateur inventor, Francophile,...</td>\n      <td>(2011)</td>\n      <td>Stephen Daldry</td>\n      <td>6.9</td>\n      <td>178</td>\n      <td>[Action,  Adventure,  Drama]</td>\n      <td>['Thomas Horn, ', 'Tom Hanks, ', 'Sandra Bullo...</td>\n    </tr>\n    <tr>\n      <th>3</th>\n      <td>454</td>\n      <td>Captain America: The First Avenger</td>\n      <td>Steve Rogers, a rejected military soldier, tra...</td>\n      <td>(2011)</td>\n      <td>Joe Johnston</td>\n      <td>6.9</td>\n      <td>179</td>\n      <td>[Action,  Adventure,  Drama]</td>\n      <td>['Chris Evans, ', 'Hugo Weaving, ', 'Samuel L....</td>\n    </tr>\n    <tr>\n      <th>4</th>\n      <td>455</td>\n      <td>The Guardian</td>\n      <td>A high school swim champion with a troubled pa...</td>\n      <td>(I) (2006)</td>\n      <td>Andrew Davis</td>\n      <td>6.9</td>\n      <td>124</td>\n      <td>[Action,  Adventure,  Fantasy]</td>\n      <td>['Kevin Costner, ', 'Ashton Kutcher, ', 'Sela ...</td>\n    </tr>\n    <tr>\n      <th>5</th>\n      <td>456</td>\n      <td>National Treasure</td>\n      <td>A historian races to find the legendary Templa...</td>\n      <td>(2004)</td>\n      <td>Jon Turteltaub</td>\n      <td>6.9</td>\n      <td>169</td>\n      <td>[Adventure,  Drama,  Sci-Fi]</td>\n      <td>['Nicolas Cage, ', 'Diane Kruger, ', 'Justin B...</td>\n    </tr>\n    <tr>\n      <th>6</th>\n      <td>457</td>\n      <td>The Chronicles of Narnia: The Lion, the Witch ...</td>\n      <td>Four kids travel through a wardrobe to the lan...</td>\n      <td>(2005)</td>\n      <td>Andrew Adamson</td>\n      <td>6.9</td>\n      <td>125</td>\n      <td>[Animation,  Adventure,  Family]</td>\n      <td>['Tilda Swinton, ', 'Georgie Henley, ', 'Willi...</td>\n    </tr>\n    <tr>\n      <th>7</th>\n      <td>458</td>\n      <td>Madagascar</td>\n      <td>A group of animals who have spent all their li...</td>\n      <td>(2005)</td>\n      <td>Eric Darnell</td>\n      <td>6.9</td>\n      <td>121</td>\n      <td>[Action,  Adventure,  Fantasy]</td>\n      <td>['    Stars:', 'Chris Rock, ', 'Ben Stiller, '...</td>\n    </tr>\n    <tr>\n      <th>8</th>\n      <td>459</td>\n      <td>Mission: Impossible III</td>\n      <td>IMF agent Ethan Hunt comes into conflict with ...</td>\n      <td>(2006)</td>\n      <td>J.J. Abrams</td>\n      <td>6.9</td>\n      <td>207</td>\n      <td>[Action,  Adventure,  Drama]</td>\n      <td>['Tom Cruise, ', 'Michelle Monaghan, ', 'Ving ...</td>\n    </tr>\n    <tr>\n      <th>9</th>\n      <td>460</td>\n      <td>Atlantis: The Lost Empire</td>\n      <td>A young linguist named Milo Thatch joins an in...</td>\n      <td>(2001)</td>\n      <td>Gary Trousdale</td>\n      <td>6.9</td>\n      <td>155</td>\n      <td>[Action,  Adventure,  Drama]</td>\n      <td>['    Stars:', 'Michael J. Fox, ', 'Jim Varney...</td>\n    </tr>\n    <tr>\n      <th>10</th>\n      <td>461</td>\n      <td>A Knight's Tale</td>\n      <td>After his master dies, a peasant squire, fuele...</td>\n      <td>(2001)</td>\n      <td>Brian Helgeland</td>\n      <td>6.9</td>\n      <td>88</td>\n      <td>[Animation,  Adventure,  Drama]</td>\n      <td>['Heath Ledger, ', 'Mark Addy, ', 'Rufus Sewel...</td>\n    </tr>\n    <tr>\n      <th>11</th>\n      <td>462</td>\n      <td>The Road to El Dorado</td>\n      <td>Two swindlers get their hands on a map to the ...</td>\n      <td>(2000)</td>\n      <td>Bibo Bergeron</td>\n      <td>6.9</td>\n      <td>116</td>\n      <td>[Adventure,  Comedy,  Sci-Fi]</td>\n      <td>['| ', '    Stars:', 'Kevin Kline, ', 'Kenneth...</td>\n    </tr>\n    <tr>\n      <th>12</th>\n      <td>463</td>\n      <td>Ngo si seoi</td>\n      <td>A Secret Agent loses his memory after falling ...</td>\n      <td>(1998)</td>\n      <td>Benny Chan</td>\n      <td>6.9</td>\n      <td>117</td>\n      <td>[Animation,  Action,  Adventure]</td>\n      <td>['    Stars:', 'Jackie Chan, ', 'Michelle Ferr...</td>\n    </tr>\n    <tr>\n      <th>13</th>\n      <td>464</td>\n      <td>The Edge</td>\n      <td>An intellectual billionaire and two other men ...</td>\n      <td>(1997)</td>\n      <td>Lee Tamahori</td>\n      <td>6.9</td>\n      <td>181</td>\n      <td>[Action,  Adventure,  Drama]</td>\n      <td>['Anthony Hopkins, ', 'Alec Baldwin, ', 'Elle ...</td>\n    </tr>\n    <tr>\n      <th>14</th>\n      <td>465</td>\n      <td>The Ghost and the Darkness</td>\n      <td>A bridge engineer and an experienced old hunte...</td>\n      <td>(1996)</td>\n      <td>Stephen Hopkins</td>\n      <td>6.9</td>\n      <td>149</td>\n      <td>[Action,  Adventure,  Sci-Fi]</td>\n      <td>['Michael Douglas, ', 'Val Kilmer, ', 'Tom Wil...</td>\n    </tr>\n    <tr>\n      <th>15</th>\n      <td>466</td>\n      <td>Rob Roy</td>\n      <td>In 1713 Scotland, Rob Roy MacGregor is wronged...</td>\n      <td>(1995)</td>\n      <td>Michael Caton-Jones</td>\n      <td>6.9</td>\n      <td>105</td>\n      <td>[Animation,  Adventure,  Family]</td>\n      <td>['Liam Neeson, ', 'Jessica Lange, ', 'John Hur...</td>\n    </tr>\n    <tr>\n      <th>16</th>\n      <td>467</td>\n      <td>A Goofy Movie</td>\n      <td>When Max makes a preposterous promise to a gir...</td>\n      <td>(1995)</td>\n      <td>Kevin Lima</td>\n      <td>6.9</td>\n      <td>164</td>\n      <td>[Action,  Adventure]</td>\n      <td>['Bill Farmer, ', 'Jason Marsden, ', 'Jim Cumm...</td>\n    </tr>\n    <tr>\n      <th>17</th>\n      <td>468</td>\n      <td>Robin Hood: Prince of Thieves</td>\n      <td>When Robin and his Moorish companion come to E...</td>\n      <td>(1991)</td>\n      <td>Kevin Reynolds</td>\n      <td>6.9</td>\n      <td>98</td>\n      <td>[Animation,  Adventure,  Family]</td>\n      <td>['Kevin Costner, ', 'Morgan Freeman, ', 'Mary ...</td>\n    </tr>\n    <tr>\n      <th>18</th>\n      <td>469</td>\n      <td>The Witches</td>\n      <td>A young boy stumbles onto a witch convention a...</td>\n      <td>(1990)</td>\n      <td>Nicolas Roeg</td>\n      <td>6.9</td>\n      <td>134</td>\n      <td>[Animation,  Action,  Adventure]</td>\n      <td>['Anjelica Huston, ', 'Mai Zetterling, ', 'Jas...</td>\n    </tr>\n    <tr>\n      <th>19</th>\n      <td>470</td>\n      <td>The Rescuers Down Under</td>\n      <td>The R.A.S. agents, Miss Bianca and Bernard, ra...</td>\n      <td>(1990)</td>\n      <td>Hendel Butoy</td>\n      <td>6.9</td>\n      <td>115</td>\n      <td>[Action,  Adventure]</td>\n      <td>['    Stars:', 'Bob Newhart, ', 'Eva Gabor, ',...</td>\n    </tr>\n    <tr>\n      <th>20</th>\n      <td>471</td>\n      <td>DuckTales the Movie: Treasure of the Lost Lamp</td>\n      <td>Scrooge McDuck takes Huey, Dewey, and Louie to...</td>\n      <td>(1990)</td>\n      <td>Bob Hathcock</td>\n      <td>6.9</td>\n      <td>242</td>\n      <td>[Action,  Adventure,  Fantasy]</td>\n      <td>['Alan Young, ', 'Christopher Lloyd, ', 'Teren...</td>\n    </tr>\n    <tr>\n      <th>21</th>\n      <td>472</td>\n      <td>Flight of the Navigator</td>\n      <td>In 1978, a boy travels 8 years into the future...</td>\n      <td>(1986)</td>\n      <td>Randal Kleiser</td>\n      <td>6.9</td>\n      <td>153</td>\n      <td>[Adventure,  Drama,  War]</td>\n      <td>['Joey Cramer, ', 'Paul Reubens, ', 'Cliff De ...</td>\n    </tr>\n    <tr>\n      <th>22</th>\n      <td>473</td>\n      <td>An American Tail</td>\n      <td>While emigrating to the United States, a young...</td>\n      <td>(1986)</td>\n      <td>Don Bluth</td>\n      <td>6.9</td>\n      <td>81</td>\n      <td>[Animation,  Adventure,  Comedy]</td>\n      <td>['Dom DeLuise, ', 'Christopher Plummer, ', 'Er...</td>\n    </tr>\n    <tr>\n      <th>23</th>\n      <td>474</td>\n      <td>Enemy Mine</td>\n      <td>During a long space war, the lives of two woun...</td>\n      <td>(1985)</td>\n      <td>Wolfgang Petersen</td>\n      <td>6.9</td>\n      <td>137</td>\n      <td>[Action,  Adventure,  Sci-Fi]</td>\n      <td>['Dennis Quaid, ', 'Louis Gossett Jr., ', 'Bri...</td>\n    </tr>\n    <tr>\n      <th>24</th>\n      <td>475</td>\n      <td>Romancing the Stone</td>\n      <td>A mousy romance novelist sets off for Colombia...</td>\n      <td>(1984)</td>\n      <td>Robert Zemeckis</td>\n      <td>6.9</td>\n      <td>131</td>\n      <td>[Action,  Adventure,  Fantasy]</td>\n      <td>['Michael Douglas, ', 'Kathleen Turner, ', 'Da...</td>\n    </tr>\n    <tr>\n      <th>25</th>\n      <td>476</td>\n      <td>Conan the Barbarian</td>\n      <td>A young boy, Conan, becomes a slave after his ...</td>\n      <td>(1982)</td>\n      <td>John Milius</td>\n      <td>6.9</td>\n      <td>149</td>\n      <td>[Adventure,  Drama,  Thriller]</td>\n      <td>['Arnold Schwarzenegger, ', 'James Earl Jones,...</td>\n    </tr>\n    <tr>\n      <th>26</th>\n      <td>477</td>\n      <td>Clash of the Titans</td>\n      <td>Perseus must battle Medusa and the Kraken to s...</td>\n      <td>(1981)</td>\n      <td>Desmond Davis</td>\n      <td>6.9</td>\n      <td>149</td>\n      <td>[Adventure,  Sci-Fi]</td>\n      <td>['Laurence Olivier, ', 'Harry Hamlin, ', 'Clai...</td>\n    </tr>\n    <tr>\n      <th>27</th>\n      <td>478</td>\n      <td>Mad Max</td>\n      <td>In a self-destructing world, a vengeful Austra...</td>\n      <td>(1979)</td>\n      <td>George Miller</td>\n      <td>6.9</td>\n      <td>228</td>\n      <td>[Adventure,  Biography,  Drama]</td>\n      <td>['Mel Gibson, ', 'Joanne Samuel, ', 'Hugh Keay...</td>\n    </tr>\n    <tr>\n      <th>28</th>\n      <td>479</td>\n      <td>The Rescuers</td>\n      <td>Two mice of the Rescue Aid Society search for ...</td>\n      <td>(1977)</td>\n      <td>John Lounsbery</td>\n      <td>6.9</td>\n      <td>136</td>\n      <td>[Adventure,  Mystery,  Thriller]</td>\n      <td>['| ', '    Stars:', 'Bob Newhart, ', 'Eva Gab...</td>\n    </tr>\n    <tr>\n      <th>29</th>\n      <td>480</td>\n      <td>Chitty Chitty Bang Bang</td>\n      <td>A down-on-his-luck inventor turns a broken-dow...</td>\n      <td>(1968)</td>\n      <td>Ken Hughes</td>\n      <td>6.9</td>\n      <td>167</td>\n      <td>[Action,  Adventure,  Drama]</td>\n      <td>['Dick Van Dyke, ', 'Sally Ann Howes, ', 'Lion...</td>\n    </tr>\n    <tr>\n      <th>30</th>\n      <td>481</td>\n      <td>You Only Live Twice</td>\n      <td>Secret Agent James Bond and the Japanese Secre...</td>\n      <td>(1967)</td>\n      <td>Lewis Gilbert</td>\n      <td>6.9</td>\n      <td>96</td>\n      <td>[Animation,  Adventure,  Comedy]</td>\n      <td>['Sean Connery, ', 'Akiko Wakabayashi, ', 'Mie...</td>\n    </tr>\n    <tr>\n      <th>31</th>\n      <td>482</td>\n      <td>The Call of the Wild</td>\n      <td>A sled dog struggles for survival in the wilds...</td>\n      <td>(2020)</td>\n      <td>Chris Sanders</td>\n      <td>6.8</td>\n      <td>146</td>\n      <td>[Adventure,  Comedy,  Drama]</td>\n      <td>['Harrison Ford, ', 'Omar Sy, ', 'Cara Gee, ',...</td>\n    </tr>\n    <tr>\n      <th>32</th>\n      <td>483</td>\n      <td>News of the World</td>\n      <td>A Civil War veteran agrees to deliver a girl, ...</td>\n      <td>(2020)</td>\n      <td>Paul Greengrass</td>\n      <td>6.8</td>\n      <td>96</td>\n      <td>[Animation,  Adventure,  Comedy]</td>\n      <td>['Tom Hanks, ', 'Helena Zengel, ', 'Tom Astor,...</td>\n    </tr>\n    <tr>\n      <th>33</th>\n      <td>484</td>\n      <td>Arctic</td>\n      <td>A man stranded in the Arctic after a plane cra...</td>\n      <td>(2018)</td>\n      <td>Joe Penna</td>\n      <td>6.8</td>\n      <td>103</td>\n      <td>[Animation,  Adventure,  Comedy]</td>\n      <td>['Mads Mikkelsen, ', 'Maria Thelma Smáradóttir...</td>\n    </tr>\n    <tr>\n      <th>34</th>\n      <td>485</td>\n      <td>Spies in Disguise</td>\n      <td>When the world's best spy is turned into a pig...</td>\n      <td>(2019)</td>\n      <td>Nick Bruno</td>\n      <td>6.8</td>\n      <td>140</td>\n      <td>[Action,  Adventure]</td>\n      <td>['    Stars:', 'Rachel Brosnahan, ', 'Jarrett ...</td>\n    </tr>\n    <tr>\n      <th>35</th>\n      <td>486</td>\n      <td>Bumblebee</td>\n      <td>On the run in the year 1987, Bumblebee finds r...</td>\n      <td>(I) (2018)</td>\n      <td>Travis Knight</td>\n      <td>6.8</td>\n      <td>119</td>\n      <td>[Animation,  Adventure,  Family]</td>\n      <td>['Hailee Steinfeld, ', 'Jorge Lendeborg Jr., '...</td>\n    </tr>\n    <tr>\n      <th>36</th>\n      <td>487</td>\n      <td>Storks</td>\n      <td>Storks have moved on from delivering babies to...</td>\n      <td>(2016)</td>\n      <td>Nicholas Stoller</td>\n      <td>6.8</td>\n      <td>127</td>\n      <td>[Action,  Adventure]</td>\n      <td>['    Stars:', 'Andy Samberg, ', 'Katie Crown,...</td>\n    </tr>\n    <tr>\n      <th>37</th>\n      <td>488</td>\n      <td>Annihilation</td>\n      <td>A biologist signs up for a dangerous, secret e...</td>\n      <td>(2018)</td>\n      <td>Alex Garland</td>\n      <td>6.8</td>\n      <td>162</td>\n      <td>[Action,  Adventure,  Comedy]</td>\n      <td>['Natalie Portman, ', 'Jennifer Jason Leigh, '...</td>\n    </tr>\n    <tr>\n      <th>38</th>\n      <td>489</td>\n      <td>Spectre</td>\n      <td>A cryptic message from James Bond's past sends...</td>\n      <td>(I) (2015)</td>\n      <td>Sam Mendes</td>\n      <td>6.8</td>\n      <td>91</td>\n      <td>[Adventure,  Comedy,  Fantasy]</td>\n      <td>['Daniel Craig, ', 'Christoph Waltz, ', 'Léa S...</td>\n    </tr>\n    <tr>\n      <th>39</th>\n      <td>490</td>\n      <td>The Grey</td>\n      <td>After their plane crashes in Alaska, six oil w...</td>\n      <td>(2011)</td>\n      <td>Joe Carnahan</td>\n      <td>6.8</td>\n      <td>172</td>\n      <td>[Adventure,  Drama,  History]</td>\n      <td>['Liam Neeson, ', 'Dermot Mulroney, ', 'Frank ...</td>\n    </tr>\n    <tr>\n      <th>40</th>\n      <td>491</td>\n      <td>Men in Black 3</td>\n      <td>Agent J travels in time to M.I.B.'s early days...</td>\n      <td>(2012)</td>\n      <td>Barry Sonnenfeld</td>\n      <td>6.8</td>\n      <td>126</td>\n      <td>[Adventure,  Drama,  Western]</td>\n      <td>['Will Smith, ', 'Tommy Lee Jones, ', 'Josh Br...</td>\n    </tr>\n    <tr>\n      <th>41</th>\n      <td>492</td>\n      <td>Madagascar 3: Europe's Most Wanted</td>\n      <td>The Madagascar animals join a struggling Europ...</td>\n      <td>(2012)</td>\n      <td>Eric Darnell</td>\n      <td>6.8</td>\n      <td>95</td>\n      <td>[Adventure,  Comedy,  Drama]</td>\n      <td>['| ', '    Stars:', 'Ben Stiller, ', 'Jada Pi...</td>\n    </tr>\n    <tr>\n      <th>42</th>\n      <td>493</td>\n      <td>TRON: Legacy</td>\n      <td>The son of a virtual world designer goes looki...</td>\n      <td>(2010)</td>\n      <td>Joseph Kosinski</td>\n      <td>6.8</td>\n      <td>100</td>\n      <td>[Animation,  Adventure,  Comedy]</td>\n      <td>['Jeff Bridges, ', 'Garrett Hedlund, ', 'Olivi...</td>\n    </tr>\n    <tr>\n      <th>43</th>\n      <td>494</td>\n      <td>The Imaginarium of Doctor Parnassus</td>\n      <td>A traveling theater company gives its audience...</td>\n      <td>(2009)</td>\n      <td>Terry Gilliam</td>\n      <td>6.8</td>\n      <td>99</td>\n      <td>[Adventure,  Comedy,  Crime]</td>\n      <td>['Christopher Plummer, ', 'Lily Cole, ', 'Heat...</td>\n    </tr>\n    <tr>\n      <th>44</th>\n      <td>495</td>\n      <td>Hanna</td>\n      <td>A sixteen-year-old girl who was raised by her ...</td>\n      <td>(2011)</td>\n      <td>Joe Wright</td>\n      <td>6.8</td>\n      <td>95</td>\n      <td>[Animation,  Adventure,  Comedy]</td>\n      <td>['Saoirse Ronan, ', 'Cate Blanchett, ', 'Eric ...</td>\n    </tr>\n    <tr>\n      <th>45</th>\n      <td>496</td>\n      <td>Mr. Peabody &amp; Sherman</td>\n      <td>The time-travelling adventures of an advanced ...</td>\n      <td>(2014)</td>\n      <td>Rob Minkoff</td>\n      <td>6.8</td>\n      <td>93</td>\n      <td>[Animation,  Adventure,  Drama]</td>\n      <td>['Ty Burrell, ', 'Max Charles, ', 'Stephen Col...</td>\n    </tr>\n    <tr>\n      <th>46</th>\n      <td>497</td>\n      <td>The Brothers Bloom</td>\n      <td>The Brothers Bloom are the best con men in the...</td>\n      <td>(2008)</td>\n      <td>Rian Johnson</td>\n      <td>6.8</td>\n      <td>120</td>\n      <td>[Action,  Adventure,  Sci-Fi]</td>\n      <td>['Rachel Weisz, ', 'Adrien Brody, ', 'Mark Ruf...</td>\n    </tr>\n    <tr>\n      <th>47</th>\n      <td>498</td>\n      <td>Warcraft</td>\n      <td>As an Orc horde invades the planet Azeroth usi...</td>\n      <td>(2016)</td>\n      <td>Duncan Jones</td>\n      <td>6.8</td>\n      <td>130</td>\n      <td>[Adventure,  Drama,  Fantasy]</td>\n      <td>['Travis Fimmel, ', 'Paula Patton, ', 'Ben Fos...</td>\n    </tr>\n    <tr>\n      <th>48</th>\n      <td>499</td>\n      <td>The Boxtrolls</td>\n      <td>A young orphaned boy raised by underground cav...</td>\n      <td>(2014)</td>\n      <td>Graham Annable</td>\n      <td>6.8</td>\n      <td>98</td>\n      <td>[Animation,  Action,  Adventure]</td>\n      <td>['    Stars:', 'Ben Kingsley, ', 'Jared Harris...</td>\n    </tr>\n    <tr>\n      <th>49</th>\n      <td>500</td>\n      <td>Horton Hears a Who!</td>\n      <td>Horton the Elephant struggles to protect a mic...</td>\n      <td>(2008)</td>\n      <td>Jimmy Hayward</td>\n      <td>6.8</td>\n      <td>148</td>\n      <td>[Adventure,  Biography,  Drama]</td>\n      <td>['    Stars:', 'Jim Carrey, ', 'Steve Carell, ...</td>\n    </tr>\n  </tbody>\n</table>\n</div>"
          },
          "metadata": {}
        }
      ]
    },
    {
      "cell_type": "code",
      "metadata": {
        "tags": [],
        "cell_id": "00013-bc42f304-6b67-4cb7-bef4-b1c4168f65ef",
        "deepnote_to_be_reexecuted": false,
        "source_hash": "f25226e4",
        "execution_millis": 7205,
        "execution_start": 1616778156393,
        "deepnote_cell_type": "code"
      },
      "source": "df=IMDB_scraper2(20)",
      "execution_count": 157,
      "outputs": [
        {
          "name": "stdout",
          "text": "Will scare 20 movies over 10.0 pages.\n",
          "output_type": "stream"
        }
      ]
    },
    {
      "cell_type": "code",
      "metadata": {
        "tags": [],
        "cell_id": "00015-3d80dac3-f64a-415e-8add-3216acc84f88",
        "deepnote_to_be_reexecuted": false,
        "source_hash": "940a222e",
        "execution_millis": 2,
        "execution_start": 1616778165839,
        "deepnote_cell_type": "code"
      },
      "source": "#normalizing duration max/min\ndf[\"Duration\"] = (df[\"Duration\"] - df[\"Duration\"].min()) / (df[\"Duration\"].max() - df[\"Duration\"].min())\n#df[\"Duration\"]",
      "execution_count": 158,
      "outputs": []
    },
    {
      "cell_type": "code",
      "source": "#normalizing rating max/min\ndf[\"Rating\"] = (df[\"Rating\"]  - df[\"Rating\"] .min()) / (df[\"Rating\"] .max() - df[\"Rating\"] .min())\ndf",
      "metadata": {
        "tags": [],
        "cell_id": "00017-f028682d-fd6b-441a-b000-de28fc05c09a",
        "deepnote_to_be_reexecuted": false,
        "source_hash": "39916598",
        "execution_millis": 55,
        "execution_start": 1616778168026,
        "deepnote_cell_type": "code"
      },
      "outputs": [
        {
          "output_type": "execute_result",
          "execution_count": 159,
          "data": {
            "application/vnd.deepnote.dataframe.v2+json": {
              "row_count": 50,
              "column_count": 9,
              "columns": [
                {
                  "name": "Number",
                  "dtype": "int64",
                  "stats": {
                    "unique_count": 50,
                    "nan_count": 0,
                    "min": 451,
                    "max": 500,
                    "histogram": [
                      {
                        "bin_start": 451,
                        "bin_end": 455.9,
                        "count": 5
                      },
                      {
                        "bin_start": 455.9,
                        "bin_end": 460.8,
                        "count": 5
                      },
                      {
                        "bin_start": 460.8,
                        "bin_end": 465.7,
                        "count": 5
                      },
                      {
                        "bin_start": 465.7,
                        "bin_end": 470.6,
                        "count": 5
                      },
                      {
                        "bin_start": 470.6,
                        "bin_end": 475.5,
                        "count": 5
                      },
                      {
                        "bin_start": 475.5,
                        "bin_end": 480.4,
                        "count": 5
                      },
                      {
                        "bin_start": 480.4,
                        "bin_end": 485.3,
                        "count": 5
                      },
                      {
                        "bin_start": 485.3,
                        "bin_end": 490.2,
                        "count": 5
                      },
                      {
                        "bin_start": 490.2,
                        "bin_end": 495.1,
                        "count": 5
                      },
                      {
                        "bin_start": 495.1,
                        "bin_end": 500,
                        "count": 5
                      }
                    ]
                  }
                },
                {
                  "name": "Title",
                  "dtype": "object",
                  "stats": {
                    "unique_count": 50,
                    "nan_count": 0,
                    "categories": [
                      {
                        "name": "The Amazing Spider-Man",
                        "count": 1
                      },
                      {
                        "name": "Cloudy with a Chance of Meatballs",
                        "count": 1
                      },
                      {
                        "name": "48 others",
                        "count": 48
                      }
                    ]
                  }
                },
                {
                  "name": "Description",
                  "dtype": "object",
                  "stats": {
                    "unique_count": 50,
                    "nan_count": 0,
                    "categories": [
                      {
                        "name": "After Peter Parker is bitten by a genetically altered spider, he gains newfound, spider-like powers and ventures out to save the city from the machinations of a mysterious reptilian foe.",
                        "count": 1
                      },
                      {
                        "name": "A local scientist is often regarded as a failure until he invents a machine that can make food fall from the sky. But little does he know, that things are about to take a turn for the worst.",
                        "count": 1
                      },
                      {
                        "name": "48 others",
                        "count": 48
                      }
                    ]
                  }
                },
                {
                  "name": "Release date",
                  "dtype": "object",
                  "stats": {
                    "unique_count": 33,
                    "nan_count": 0,
                    "categories": [
                      {
                        "name": "(2011)",
                        "count": 4
                      },
                      {
                        "name": "(2012)",
                        "count": 3
                      },
                      {
                        "name": "31 others",
                        "count": 43
                      }
                    ]
                  }
                },
                {
                  "name": "Director",
                  "dtype": "object",
                  "stats": {
                    "unique_count": 49,
                    "nan_count": 0,
                    "categories": [
                      {
                        "name": "Eric Darnell",
                        "count": 2
                      },
                      {
                        "name": "Marc Webb",
                        "count": 1
                      },
                      {
                        "name": "47 others",
                        "count": 47
                      }
                    ]
                  }
                },
                {
                  "name": "Rating",
                  "dtype": "float64",
                  "stats": {
                    "unique_count": 2,
                    "nan_count": 0,
                    "min": 0,
                    "max": 1,
                    "histogram": [
                      {
                        "bin_start": 0,
                        "bin_end": 0.1,
                        "count": 19
                      },
                      {
                        "bin_start": 0.1,
                        "bin_end": 0.2,
                        "count": 0
                      },
                      {
                        "bin_start": 0.2,
                        "bin_end": 0.30000000000000004,
                        "count": 0
                      },
                      {
                        "bin_start": 0.30000000000000004,
                        "bin_end": 0.4,
                        "count": 0
                      },
                      {
                        "bin_start": 0.4,
                        "bin_end": 0.5,
                        "count": 0
                      },
                      {
                        "bin_start": 0.5,
                        "bin_end": 0.6000000000000001,
                        "count": 0
                      },
                      {
                        "bin_start": 0.6000000000000001,
                        "bin_end": 0.7000000000000001,
                        "count": 0
                      },
                      {
                        "bin_start": 0.7000000000000001,
                        "bin_end": 0.8,
                        "count": 0
                      },
                      {
                        "bin_start": 0.8,
                        "bin_end": 0.9,
                        "count": 0
                      },
                      {
                        "bin_start": 0.9,
                        "bin_end": 1,
                        "count": 31
                      }
                    ]
                  }
                },
                {
                  "name": "Duration",
                  "dtype": "float64",
                  "stats": {
                    "unique_count": 44,
                    "nan_count": 0,
                    "min": 0,
                    "max": 1,
                    "histogram": [
                      {
                        "bin_start": 0,
                        "bin_end": 0.1,
                        "count": 8
                      },
                      {
                        "bin_start": 0.1,
                        "bin_end": 0.2,
                        "count": 6
                      },
                      {
                        "bin_start": 0.2,
                        "bin_end": 0.30000000000000004,
                        "count": 10
                      },
                      {
                        "bin_start": 0.30000000000000004,
                        "bin_end": 0.4,
                        "count": 6
                      },
                      {
                        "bin_start": 0.4,
                        "bin_end": 0.5,
                        "count": 8
                      },
                      {
                        "bin_start": 0.5,
                        "bin_end": 0.6000000000000001,
                        "count": 5
                      },
                      {
                        "bin_start": 0.6000000000000001,
                        "bin_end": 0.7000000000000001,
                        "count": 3
                      },
                      {
                        "bin_start": 0.7000000000000001,
                        "bin_end": 0.8,
                        "count": 2
                      },
                      {
                        "bin_start": 0.8,
                        "bin_end": 0.9,
                        "count": 0
                      },
                      {
                        "bin_start": 0.9,
                        "bin_end": 1,
                        "count": 2
                      }
                    ]
                  }
                },
                {
                  "name": "Genre",
                  "dtype": "object",
                  "stats": {
                    "unique_count": 50,
                    "nan_count": 0,
                    "categories": [
                      {
                        "name": "['Action', ' Adventure', ' Drama']",
                        "count": 7
                      },
                      {
                        "name": "['Animation', ' Adventure', ' Comedy']",
                        "count": 6
                      },
                      {
                        "name": "20 others",
                        "count": 37
                      }
                    ]
                  }
                },
                {
                  "name": "Stars",
                  "dtype": "object",
                  "stats": {
                    "unique_count": 50,
                    "nan_count": 0,
                    "categories": [
                      {
                        "name": "['Andrew Garfield, ', 'Emma Stone, ', 'Rhys Ifans, ', 'Irrfan Khan']",
                        "count": 1
                      },
                      {
                        "name": "['    Stars:', 'Anna Faris, ', 'Bill Hader, ', 'Bruce Campbell, ', 'James Caan']",
                        "count": 1
                      },
                      {
                        "name": "48 others",
                        "count": 48
                      }
                    ]
                  }
                },
                {
                  "name": "_deepnote_index_column",
                  "dtype": "int64"
                }
              ],
              "rows_top": [
                {
                  "Number": 451,
                  "Title": "The Amazing Spider-Man",
                  "Description": "After Peter Parker is bitten by a genetically altered spider, he gains newfound, spider-like powers and ventures out to save the city from the machinations of a mysterious reptilian foe.",
                  "Release date": "(2012)",
                  "Director": "Marc Webb",
                  "Rating": 1,
                  "Duration": 0.7453416149068323,
                  "Genre": "['Action', ' Adventure', ' Drama']",
                  "Stars": "['Andrew Garfield, ', 'Emma Stone, ', 'Rhys Ifans, ', 'Irrfan Khan']",
                  "_deepnote_index_column": 0
                },
                {
                  "Number": 452,
                  "Title": "Cloudy with a Chance of Meatballs",
                  "Description": "A local scientist is often regarded as a failure until he invents a machine that can make food fall from the sky. But little does he know, that things are about to take a turn for the worst.",
                  "Release date": "(2009)",
                  "Director": "Phil Lord",
                  "Rating": 1,
                  "Duration": 0.4161490683229814,
                  "Genre": "['Action', ' Adventure', ' Sci-Fi']",
                  "Stars": "['    Stars:', 'Anna Faris, ', 'Bill Hader, ', 'Bruce Campbell, ', 'James Caan']",
                  "_deepnote_index_column": 1
                },
                {
                  "Number": 453,
                  "Title": "Extremely Loud & Incredibly Close",
                  "Description": "A nine-year-old amateur inventor, Francophile, and pacifist searches New York City for the lock that matches a mysterious key left behind by his father, who died in the World Trade Center on September 11, 2001.",
                  "Release date": "(2011)",
                  "Director": "Stephen Daldry",
                  "Rating": 1,
                  "Duration": 0.6024844720496895,
                  "Genre": "['Action', ' Adventure', ' Drama']",
                  "Stars": "['Thomas Horn, ', 'Tom Hanks, ', 'Sandra Bullock, ', 'Max von Sydow']",
                  "_deepnote_index_column": 2
                },
                {
                  "Number": 454,
                  "Title": "Captain America: The First Avenger",
                  "Description": "Steve Rogers, a rejected military soldier, transforms into Captain America after taking a dose of a \"Super-Soldier serum\". But being Captain America comes at a price as he attempts to take down a war monger and a terrorist organization.",
                  "Release date": "(2011)",
                  "Director": "Joe Johnston",
                  "Rating": 1,
                  "Duration": 0.6086956521739131,
                  "Genre": "['Action', ' Adventure', ' Drama']",
                  "Stars": "['Chris Evans, ', 'Hugo Weaving, ', 'Samuel L. Jackson, ', 'Hayley Atwell']",
                  "_deepnote_index_column": 3
                },
                {
                  "Number": 455,
                  "Title": "The Guardian",
                  "Description": "A high school swim champion with a troubled past enrolls in the U.S. Coast Guard's \"A\" School, where legendary rescue swimmer Ben Randall teaches him some hard lessons about loss, love, and self-sacrifice.",
                  "Release date": "(I) (2006)",
                  "Director": "Andrew Davis",
                  "Rating": 1,
                  "Duration": 0.2670807453416149,
                  "Genre": "['Action', ' Adventure', ' Fantasy']",
                  "Stars": "['Kevin Costner, ', 'Ashton Kutcher, ', 'Sela Ward, ', 'Melissa Sagemiller']",
                  "_deepnote_index_column": 4
                },
                {
                  "Number": 456,
                  "Title": "National Treasure",
                  "Description": "A historian races to find the legendary Templar Treasure before a team of mercenaries.",
                  "Release date": "(2004)",
                  "Director": "Jon Turteltaub",
                  "Rating": 1,
                  "Duration": 0.546583850931677,
                  "Genre": "['Adventure', ' Drama', ' Sci-Fi']",
                  "Stars": "['Nicolas Cage, ', 'Diane Kruger, ', 'Justin Bartha, ', 'Sean Bean']",
                  "_deepnote_index_column": 5
                },
                {
                  "Number": 457,
                  "Title": "The Chronicles of Narnia: The Lion, the Witch and the Wardrobe",
                  "Description": "Four kids travel through a wardrobe to the land of Narnia and learn of their destiny to free it with the guidance of a mystical lion.",
                  "Release date": "(2005)",
                  "Director": "Andrew Adamson",
                  "Rating": 1,
                  "Duration": 0.2732919254658385,
                  "Genre": "['Animation', ' Adventure', ' Family']",
                  "Stars": "['Tilda Swinton, ', 'Georgie Henley, ', 'William Moseley, ', 'Skandar Keynes']",
                  "_deepnote_index_column": 6
                },
                {
                  "Number": 458,
                  "Title": "Madagascar",
                  "Description": "A group of animals who have spent all their life in a New York zoo end up in the jungles of Madagascar, and must adjust to living in the wild.",
                  "Release date": "(2005)",
                  "Director": "Eric Darnell",
                  "Rating": 1,
                  "Duration": 0.2484472049689441,
                  "Genre": "['Action', ' Adventure', ' Fantasy']",
                  "Stars": "['    Stars:', 'Chris Rock, ', 'Ben Stiller, ', 'David Schwimmer, ', 'Jada Pinkett Smith']",
                  "_deepnote_index_column": 7
                },
                {
                  "Number": 459,
                  "Title": "Mission: Impossible III",
                  "Description": "IMF agent Ethan Hunt comes into conflict with a dangerous and sadistic arms dealer who threatens his life and his fiancée in response.",
                  "Release date": "(2006)",
                  "Director": "J.J. Abrams",
                  "Rating": 1,
                  "Duration": 0.782608695652174,
                  "Genre": "['Action', ' Adventure', ' Drama']",
                  "Stars": "['Tom Cruise, ', 'Michelle Monaghan, ', 'Ving Rhames, ', 'Philip Seymour Hoffman']",
                  "_deepnote_index_column": 8
                },
                {
                  "Number": 460,
                  "Title": "Atlantis: The Lost Empire",
                  "Description": "A young linguist named Milo Thatch joins an intrepid group of explorers to find the mysterious lost continent of Atlantis.",
                  "Release date": "(2001)",
                  "Director": "Gary Trousdale",
                  "Rating": 1,
                  "Duration": 0.45962732919254656,
                  "Genre": "['Action', ' Adventure', ' Drama']",
                  "Stars": "['    Stars:', 'Michael J. Fox, ', 'Jim Varney, ', 'Corey Burton, ', 'Claudia Christian']",
                  "_deepnote_index_column": 9
                },
                {
                  "Number": 461,
                  "Title": "A Knight's Tale",
                  "Description": "After his master dies, a peasant squire, fueled by his desire for food and glory, creates a new identity for himself as a knight.",
                  "Release date": "(2001)",
                  "Director": "Brian Helgeland",
                  "Rating": 1,
                  "Duration": 0.043478260869565216,
                  "Genre": "['Animation', ' Adventure', ' Drama']",
                  "Stars": "['Heath Ledger, ', 'Mark Addy, ', 'Rufus Sewell, ', 'Shannyn Sossamon']",
                  "_deepnote_index_column": 10
                },
                {
                  "Number": 462,
                  "Title": "The Road to El Dorado",
                  "Description": "Two swindlers get their hands on a map to the fabled city of gold, El Dorado.",
                  "Release date": "(2000)",
                  "Director": "Bibo Bergeron",
                  "Rating": 1,
                  "Duration": 0.21739130434782608,
                  "Genre": "['Adventure', ' Comedy', ' Sci-Fi']",
                  "Stars": "['| ', '    Stars:', 'Kevin Kline, ', 'Kenneth Branagh, ', 'Rosie Perez, ', 'Armand Assante']",
                  "_deepnote_index_column": 11
                },
                {
                  "Number": 463,
                  "Title": "Ngo si seoi",
                  "Description": "A Secret Agent loses his memory after falling from a crashing helicopter. He is then chased by several other agency operatives, but he has no idea why.",
                  "Release date": "(1998)",
                  "Director": "Benny Chan",
                  "Rating": 1,
                  "Duration": 0.2236024844720497,
                  "Genre": "['Animation', ' Action', ' Adventure']",
                  "Stars": "['    Stars:', 'Jackie Chan, ', 'Michelle Ferre, ', 'Mirai Yamamoto, ', 'Ron Smerczak']",
                  "_deepnote_index_column": 12
                },
                {
                  "Number": 464,
                  "Title": "The Edge",
                  "Description": "An intellectual billionaire and two other men struggle to band together and survive after getting stranded in the Alaskan wilderness with a blood-thirsty Kodiak Bear hunting them down.",
                  "Release date": "(1997)",
                  "Director": "Lee Tamahori",
                  "Rating": 1,
                  "Duration": 0.6211180124223602,
                  "Genre": "['Action', ' Adventure', ' Drama']",
                  "Stars": "['Anthony Hopkins, ', 'Alec Baldwin, ', 'Elle Macpherson, ', 'Harold Perrineau']",
                  "_deepnote_index_column": 13
                },
                {
                  "Number": 465,
                  "Title": "The Ghost and the Darkness",
                  "Description": "A bridge engineer and an experienced old hunter begin a hunt for two lions after they start attacking local construction workers.",
                  "Release date": "(1996)",
                  "Director": "Stephen Hopkins",
                  "Rating": 1,
                  "Duration": 0.422360248447205,
                  "Genre": "['Action', ' Adventure', ' Sci-Fi']",
                  "Stars": "['Michael Douglas, ', 'Val Kilmer, ', 'Tom Wilkinson, ', 'John Kani']",
                  "_deepnote_index_column": 14
                },
                {
                  "Number": 466,
                  "Title": "Rob Roy",
                  "Description": "In 1713 Scotland, Rob Roy MacGregor is wronged by a nobleman and his nephew, becomes an outlaw in search of revenge while fleeing the Redcoats, and faces charges of being a Jacobite.",
                  "Release date": "(1995)",
                  "Director": "Michael Caton-Jones",
                  "Rating": 1,
                  "Duration": 0.14906832298136646,
                  "Genre": "['Animation', ' Adventure', ' Family']",
                  "Stars": "['Liam Neeson, ', 'Jessica Lange, ', 'John Hurt, ', 'Tim Roth']",
                  "_deepnote_index_column": 15
                },
                {
                  "Number": 467,
                  "Title": "A Goofy Movie",
                  "Description": "When Max makes a preposterous promise to a girl he has a crush on, his chances to fulfilling it seem hopeless when he is dragged onto a cross-country trip with his embarrassing father, Goofy.",
                  "Release date": "(1995)",
                  "Director": "Kevin Lima",
                  "Rating": 1,
                  "Duration": 0.515527950310559,
                  "Genre": "['Action', ' Adventure']",
                  "Stars": "['Bill Farmer, ', 'Jason Marsden, ', 'Jim Cummings, ', 'Kellie Martin']",
                  "_deepnote_index_column": 16
                },
                {
                  "Number": 468,
                  "Title": "Robin Hood: Prince of Thieves",
                  "Description": "When Robin and his Moorish companion come to England and the tyranny of the Sheriff of Nottingham, he decides to fight back as an outlaw.",
                  "Release date": "(1991)",
                  "Director": "Kevin Reynolds",
                  "Rating": 1,
                  "Duration": 0.10559006211180125,
                  "Genre": "['Animation', ' Adventure', ' Family']",
                  "Stars": "['Kevin Costner, ', 'Morgan Freeman, ', 'Mary Elizabeth Mastrantonio, ', 'Christian Slater']",
                  "_deepnote_index_column": 17
                },
                {
                  "Number": 469,
                  "Title": "The Witches",
                  "Description": "A young boy stumbles onto a witch convention and must stop them, even after he has been turned into a mouse.",
                  "Release date": "(1990)",
                  "Director": "Nicolas Roeg",
                  "Rating": 1,
                  "Duration": 0.32919254658385094,
                  "Genre": "['Animation', ' Action', ' Adventure']",
                  "Stars": "['Anjelica Huston, ', 'Mai Zetterling, ', 'Jasen Fisher, ', 'Rowan Atkinson']",
                  "_deepnote_index_column": 18
                },
                {
                  "Number": 470,
                  "Title": "The Rescuers Down Under",
                  "Description": "The R.A.S. agents, Miss Bianca and Bernard, race to Australia to save a little boy and a rare golden eagle from a murderous poacher.",
                  "Release date": "(1990)",
                  "Director": "Hendel Butoy",
                  "Rating": 1,
                  "Duration": 0.2111801242236025,
                  "Genre": "['Action', ' Adventure']",
                  "Stars": "['    Stars:', 'Bob Newhart, ', 'Eva Gabor, ', 'John Candy, ', 'Tristan Rogers']",
                  "_deepnote_index_column": 19
                },
                {
                  "Number": 471,
                  "Title": "DuckTales the Movie: Treasure of the Lost Lamp",
                  "Description": "Scrooge McDuck takes Huey, Dewey, and Louie to Egypt to find a pyramid and magic lamp.",
                  "Release date": "(1990)",
                  "Director": "Bob Hathcock",
                  "Rating": 1,
                  "Duration": 1,
                  "Genre": "['Action', ' Adventure', ' Fantasy']",
                  "Stars": "['Alan Young, ', 'Christopher Lloyd, ', 'Terence McGovern, ', 'Russi Taylor']",
                  "_deepnote_index_column": 20
                },
                {
                  "Number": 472,
                  "Title": "Flight of the Navigator",
                  "Description": "In 1978, a boy travels 8 years into the future and has an adventure with an intelligent, wisecracking alien ship.",
                  "Release date": "(1986)",
                  "Director": "Randal Kleiser",
                  "Rating": 1,
                  "Duration": 0.4472049689440994,
                  "Genre": "['Adventure', ' Drama', ' War']",
                  "Stars": "['Joey Cramer, ', 'Paul Reubens, ', 'Cliff De Young, ', 'Veronica Cartwright']",
                  "_deepnote_index_column": 21
                },
                {
                  "Number": 473,
                  "Title": "An American Tail",
                  "Description": "While emigrating to the United States, a young Russian mouse gets separated from his family and must relocate them while trying to survive in a new country.",
                  "Release date": "(1986)",
                  "Director": "Don Bluth",
                  "Rating": 1,
                  "Duration": 0,
                  "Genre": "['Animation', ' Adventure', ' Comedy']",
                  "Stars": "['Dom DeLuise, ', 'Christopher Plummer, ', 'Erica Yohn, ', 'Nehemiah Persoff']",
                  "_deepnote_index_column": 22
                },
                {
                  "Number": 474,
                  "Title": "Enemy Mine",
                  "Description": "During a long space war, the lives of two wounded enemies become dependent on their ability to forgive and to trust.",
                  "Release date": "(1985)",
                  "Director": "Wolfgang Petersen",
                  "Rating": 1,
                  "Duration": 0.34782608695652173,
                  "Genre": "['Action', ' Adventure', ' Sci-Fi']",
                  "Stars": "['Dennis Quaid, ', 'Louis Gossett Jr., ', 'Brion James, ', 'Richard Marcus']",
                  "_deepnote_index_column": 23
                },
                {
                  "Number": 475,
                  "Title": "Romancing the Stone",
                  "Description": "A mousy romance novelist sets off for Colombia to ransom her kidnapped sister, and soon finds herself in the middle of a dangerous adventure hunting for treasure with a mercenary rogue.",
                  "Release date": "(1984)",
                  "Director": "Robert Zemeckis",
                  "Rating": 1,
                  "Duration": 0.3105590062111801,
                  "Genre": "['Action', ' Adventure', ' Fantasy']",
                  "Stars": "['Michael Douglas, ', 'Kathleen Turner, ', 'Danny DeVito, ', 'Zack Norman']",
                  "_deepnote_index_column": 24
                },
                {
                  "Number": 476,
                  "Title": "Conan the Barbarian",
                  "Description": "A young boy, Conan, becomes a slave after his parents are killed and tribe destroyed by a savage warlord and sorcerer, Thulsa Doom. When he grows up he becomes a fearless, invincible fighter. Set free, he plots revenge against Thulsa Doom.",
                  "Release date": "(1982)",
                  "Director": "John Milius",
                  "Rating": 1,
                  "Duration": 0.422360248447205,
                  "Genre": "['Adventure', ' Drama', ' Thriller']",
                  "Stars": "['Arnold Schwarzenegger, ', 'James Earl Jones, ', 'Max von Sydow, ', 'Sandahl Bergman']",
                  "_deepnote_index_column": 25
                },
                {
                  "Number": 477,
                  "Title": "Clash of the Titans",
                  "Description": "Perseus must battle Medusa and the Kraken to save the Princess Andromeda.",
                  "Release date": "(1981)",
                  "Director": "Desmond Davis",
                  "Rating": 1,
                  "Duration": 0.422360248447205,
                  "Genre": "['Adventure', ' Sci-Fi']",
                  "Stars": "['Laurence Olivier, ', 'Harry Hamlin, ', 'Claire Bloom, ', 'Maggie Smith']",
                  "_deepnote_index_column": 26
                },
                {
                  "Number": 478,
                  "Title": "Mad Max",
                  "Description": "In a self-destructing world, a vengeful Australian policeman sets out to stop a violent motorcycle gang.",
                  "Release date": "(1979)",
                  "Director": "George Miller",
                  "Rating": 1,
                  "Duration": 0.9130434782608695,
                  "Genre": "['Adventure', ' Biography', ' Drama']",
                  "Stars": "['Mel Gibson, ', 'Joanne Samuel, ', 'Hugh Keays-Byrne, ', 'Steve Bisley']",
                  "_deepnote_index_column": 27
                },
                {
                  "Number": 479,
                  "Title": "The Rescuers",
                  "Description": "Two mice of the Rescue Aid Society search for a little girl kidnapped by unscrupulous treasure hunters.",
                  "Release date": "(1977)",
                  "Director": "John Lounsbery",
                  "Rating": 1,
                  "Duration": 0.3416149068322981,
                  "Genre": "['Adventure', ' Mystery', ' Thriller']",
                  "Stars": "['| ', '    Stars:', 'Bob Newhart, ', 'Eva Gabor, ', 'Geraldine Page, ', 'Joe Flynn']",
                  "_deepnote_index_column": 28
                },
                {
                  "Number": 480,
                  "Title": "Chitty Chitty Bang Bang",
                  "Description": "A down-on-his-luck inventor turns a broken-down Grand Prix car into a fancy vehicle for his children, and then they go off on a magical fantasy adventure to save their grandfather in a far-off land.",
                  "Release date": "(1968)",
                  "Director": "Ken Hughes",
                  "Rating": 1,
                  "Duration": 0.5341614906832298,
                  "Genre": "['Action', ' Adventure', ' Drama']",
                  "Stars": "['Dick Van Dyke, ', 'Sally Ann Howes, ', 'Lionel Jeffries, ', 'Benny Hill']",
                  "_deepnote_index_column": 29
                },
                {
                  "Number": 481,
                  "Title": "You Only Live Twice",
                  "Description": "Secret Agent James Bond and the Japanese Secret Service must find and stop the true culprit of a series of space hijackings, before war is provoked between Russia and the United States.",
                  "Release date": "(1967)",
                  "Director": "Lewis Gilbert",
                  "Rating": 1,
                  "Duration": 0.09316770186335403,
                  "Genre": "['Animation', ' Adventure', ' Comedy']",
                  "Stars": "['Sean Connery, ', 'Akiko Wakabayashi, ', 'Mie Hama, ', 'Tetsurô Tanba']",
                  "_deepnote_index_column": 30
                },
                {
                  "Number": 482,
                  "Title": "The Call of the Wild",
                  "Description": "A sled dog struggles for survival in the wilds of the Yukon.",
                  "Release date": "(2020)",
                  "Director": "Chris Sanders",
                  "Rating": 0,
                  "Duration": 0.40372670807453415,
                  "Genre": "['Adventure', ' Comedy', ' Drama']",
                  "Stars": "['Harrison Ford, ', 'Omar Sy, ', 'Cara Gee, ', 'Dan Stevens']",
                  "_deepnote_index_column": 31
                },
                {
                  "Number": 483,
                  "Title": "News of the World",
                  "Description": "A Civil War veteran agrees to deliver a girl, taken by the Kiowa people years ago, to her aunt and uncle, against her will. They travel hundreds of miles and face grave dangers as they search for a place that either can call home.",
                  "Release date": "(2020)",
                  "Director": "Paul Greengrass",
                  "Rating": 0,
                  "Duration": 0.09316770186335403,
                  "Genre": "['Animation', ' Adventure', ' Comedy']",
                  "Stars": "['Tom Hanks, ', 'Helena Zengel, ', 'Tom Astor, ', 'Travis Johnson']",
                  "_deepnote_index_column": 32
                },
                {
                  "Number": 484,
                  "Title": "Arctic",
                  "Description": "A man stranded in the Arctic after a plane crash must decide whether to remain in the relative safety of his makeshift camp or to embark on a deadly trek through the unknown.",
                  "Release date": "(2018)",
                  "Director": "Joe Penna",
                  "Rating": 0,
                  "Duration": 0.13664596273291926,
                  "Genre": "['Animation', ' Adventure', ' Comedy']",
                  "Stars": "['Mads Mikkelsen, ', 'Maria Thelma Smáradóttir, ', 'Tintrinai Thikhasuk']",
                  "_deepnote_index_column": 33
                },
                {
                  "Number": 485,
                  "Title": "Spies in Disguise",
                  "Description": "When the world's best spy is turned into a pigeon, he must rely on his nerdy tech officer to save the world.",
                  "Release date": "(2019)",
                  "Director": "Nick Bruno",
                  "Rating": 0,
                  "Duration": 0.36645962732919257,
                  "Genre": "['Action', ' Adventure']",
                  "Stars": "['    Stars:', 'Rachel Brosnahan, ', 'Jarrett Bruno, ', 'Claire Crosby, ', 'Toru Uchikado']",
                  "_deepnote_index_column": 34
                },
                {
                  "Number": 486,
                  "Title": "Bumblebee",
                  "Description": "On the run in the year 1987, Bumblebee finds refuge in a junkyard in a small California beach town. On the cusp of turning 18 and trying to find her place in the world, Charlie Watson discovers Bumblebee, battle-scarred and broken.",
                  "Release date": "(I) (2018)",
                  "Director": "Travis Knight",
                  "Rating": 0,
                  "Duration": 0.2360248447204969,
                  "Genre": "['Animation', ' Adventure', ' Family']",
                  "Stars": "['Hailee Steinfeld, ', 'Jorge Lendeborg Jr., ', 'John Cena, ', 'Jason Drucker']",
                  "_deepnote_index_column": 35
                },
                {
                  "Number": 487,
                  "Title": "Storks",
                  "Description": "Storks have moved on from delivering babies to packages. But when an order for a baby appears, the best delivery stork must scramble to fix the error by delivering the baby.",
                  "Release date": "(2016)",
                  "Director": "Nicholas Stoller",
                  "Rating": 0,
                  "Duration": 0.2857142857142857,
                  "Genre": "['Action', ' Adventure']",
                  "Stars": "['    Stars:', 'Andy Samberg, ', 'Katie Crown, ', 'Kelsey Grammer, ', 'Jennifer Aniston']",
                  "_deepnote_index_column": 36
                },
                {
                  "Number": 488,
                  "Title": "Annihilation",
                  "Description": "A biologist signs up for a dangerous, secret expedition into a mysterious zone where the laws of nature don't apply.",
                  "Release date": "(2018)",
                  "Director": "Alex Garland",
                  "Rating": 0,
                  "Duration": 0.5031055900621118,
                  "Genre": "['Action', ' Adventure', ' Comedy']",
                  "Stars": "['Natalie Portman, ', 'Jennifer Jason Leigh, ', 'Tessa Thompson, ', 'Benedict Wong']",
                  "_deepnote_index_column": 37
                },
                {
                  "Number": 489,
                  "Title": "Spectre",
                  "Description": "A cryptic message from James Bond's past sends him on a trail to uncover the existence of a sinister organisation named SPECTRE. With a new threat dawning, Bond learns the terrible truth about the author of all his pain in his most recent missions.",
                  "Release date": "(I) (2015)",
                  "Director": "Sam Mendes",
                  "Rating": 0,
                  "Duration": 0.062111801242236024,
                  "Genre": "['Adventure', ' Comedy', ' Fantasy']",
                  "Stars": "['Daniel Craig, ', 'Christoph Waltz, ', 'Léa Seydoux, ', 'Ralph Fiennes']",
                  "_deepnote_index_column": 38
                },
                {
                  "Number": 490,
                  "Title": "The Grey",
                  "Description": "After their plane crashes in Alaska, six oil workers are led by a skilled huntsman to survival, but a pack of merciless wolves haunts their every step.",
                  "Release date": "(2011)",
                  "Director": "Joe Carnahan",
                  "Rating": 0,
                  "Duration": 0.5652173913043478,
                  "Genre": "['Adventure', ' Drama', ' History']",
                  "Stars": "['Liam Neeson, ', 'Dermot Mulroney, ', 'Frank Grillo, ', 'Dallas Roberts']",
                  "_deepnote_index_column": 39
                },
                {
                  "Number": 491,
                  "Title": "Men in Black 3",
                  "Description": "Agent J travels in time to M.I.B.'s early days in 1969 to stop an alien from assassinating his friend Agent K and changing history.",
                  "Release date": "(2012)",
                  "Director": "Barry Sonnenfeld",
                  "Rating": 0,
                  "Duration": 0.2795031055900621,
                  "Genre": "['Adventure', ' Drama', ' Western']",
                  "Stars": "['Will Smith, ', 'Tommy Lee Jones, ', 'Josh Brolin, ', 'Jemaine Clement']",
                  "_deepnote_index_column": 40
                },
                {
                  "Number": 492,
                  "Title": "Madagascar 3: Europe's Most Wanted",
                  "Description": "The Madagascar animals join a struggling European circus to get back to New York, but find themselves being pursued by a psychotic animal control officer.",
                  "Release date": "(2012)",
                  "Director": "Eric Darnell",
                  "Rating": 0,
                  "Duration": 0.08695652173913043,
                  "Genre": "['Adventure', ' Comedy', ' Drama']",
                  "Stars": "['| ', '    Stars:', 'Ben Stiller, ', 'Jada Pinkett Smith, ', 'Chris Rock, ', 'David Schwimmer']",
                  "_deepnote_index_column": 41
                },
                {
                  "Number": 493,
                  "Title": "TRON: Legacy",
                  "Description": "The son of a virtual world designer goes looking for his father and ends up inside the digital world that his father designed. He meets his father's corrupted creation and a unique ally who was born inside the digital world.",
                  "Release date": "(2010)",
                  "Director": "Joseph Kosinski",
                  "Rating": 0,
                  "Duration": 0.11801242236024845,
                  "Genre": "['Animation', ' Adventure', ' Comedy']",
                  "Stars": "['Jeff Bridges, ', 'Garrett Hedlund, ', 'Olivia Wilde, ', 'Bruce Boxleitner']",
                  "_deepnote_index_column": 42
                },
                {
                  "Number": 494,
                  "Title": "The Imaginarium of Doctor Parnassus",
                  "Description": "A traveling theater company gives its audience much more than they were expecting.",
                  "Release date": "(2009)",
                  "Director": "Terry Gilliam",
                  "Rating": 0,
                  "Duration": 0.11180124223602485,
                  "Genre": "['Adventure', ' Comedy', ' Crime']",
                  "Stars": "['Christopher Plummer, ', 'Lily Cole, ', 'Heath Ledger, ', 'Andrew Garfield']",
                  "_deepnote_index_column": 43
                },
                {
                  "Number": 495,
                  "Title": "Hanna",
                  "Description": "A sixteen-year-old girl who was raised by her father to be the perfect assassin is dispatched on a mission across Europe, tracked by a ruthless intelligence agent and her operatives.",
                  "Release date": "(2011)",
                  "Director": "Joe Wright",
                  "Rating": 0,
                  "Duration": 0.08695652173913043,
                  "Genre": "['Animation', ' Adventure', ' Comedy']",
                  "Stars": "['Saoirse Ronan, ', 'Cate Blanchett, ', 'Eric Bana, ', 'Vicky Krieps']",
                  "_deepnote_index_column": 44
                },
                {
                  "Number": 496,
                  "Title": "Mr. Peabody & Sherman",
                  "Description": "The time-travelling adventures of an advanced canine and his adopted son, as they endeavor to fix a time rift they created.",
                  "Release date": "(2014)",
                  "Director": "Rob Minkoff",
                  "Rating": 0,
                  "Duration": 0.07453416149068323,
                  "Genre": "['Animation', ' Adventure', ' Drama']",
                  "Stars": "['Ty Burrell, ', 'Max Charles, ', 'Stephen Colbert, ', 'Leslie Mann']",
                  "_deepnote_index_column": 45
                },
                {
                  "Number": 497,
                  "Title": "The Brothers Bloom",
                  "Description": "The Brothers Bloom are the best con men in the world, swindling millionaires with complex scenarios of lust and intrigue. Now they've decided to take on one last job - showing a beautiful and eccentric heiress the time of her life with a romantic adventure that takes them around the world.",
                  "Release date": "(2008)",
                  "Director": "Rian Johnson",
                  "Rating": 0,
                  "Duration": 0.2422360248447205,
                  "Genre": "['Action', ' Adventure', ' Sci-Fi']",
                  "Stars": "['Rachel Weisz, ', 'Adrien Brody, ', 'Mark Ruffalo, ', 'Rinko Kikuchi']",
                  "_deepnote_index_column": 46
                },
                {
                  "Number": 498,
                  "Title": "Warcraft",
                  "Description": "As an Orc horde invades the planet Azeroth using a magic portal, a few human heroes and dissenting Orcs must attempt to stop the true evil behind this war.",
                  "Release date": "(2016)",
                  "Director": "Duncan Jones",
                  "Rating": 0,
                  "Duration": 0.30434782608695654,
                  "Genre": "['Adventure', ' Drama', ' Fantasy']",
                  "Stars": "['Travis Fimmel, ', 'Paula Patton, ', 'Ben Foster, ', 'Dominic Cooper']",
                  "_deepnote_index_column": 47
                },
                {
                  "Number": 499,
                  "Title": "The Boxtrolls",
                  "Description": "A young orphaned boy raised by underground cave-dwelling trash collectors tries to save his friends from an evil exterminator.",
                  "Release date": "(2014)",
                  "Director": "Graham Annable",
                  "Rating": 0,
                  "Duration": 0.10559006211180125,
                  "Genre": "['Animation', ' Action', ' Adventure']",
                  "Stars": "['    Stars:', 'Ben Kingsley, ', 'Jared Harris, ', 'Nick Frost, ', 'Richard Ayoade']",
                  "_deepnote_index_column": 48
                },
                {
                  "Number": 500,
                  "Title": "Horton Hears a Who!",
                  "Description": "Horton the Elephant struggles to protect a microscopic community from his neighbors who refuse to believe it exists.",
                  "Release date": "(2008)",
                  "Director": "Jimmy Hayward",
                  "Rating": 0,
                  "Duration": 0.4161490683229814,
                  "Genre": "['Adventure', ' Biography', ' Drama']",
                  "Stars": "['    Stars:', 'Jim Carrey, ', 'Steve Carell, ', 'Carol Burnett, ', 'Will Arnett']",
                  "_deepnote_index_column": 49
                }
              ],
              "rows_bottom": null
            },
            "text/plain": "    Number                                              Title  \\\n0      451                             The Amazing Spider-Man   \n1      452                  Cloudy with a Chance of Meatballs   \n2      453                  Extremely Loud & Incredibly Close   \n3      454                 Captain America: The First Avenger   \n4      455                                       The Guardian   \n5      456                                  National Treasure   \n6      457  The Chronicles of Narnia: The Lion, the Witch ...   \n7      458                                         Madagascar   \n8      459                            Mission: Impossible III   \n9      460                          Atlantis: The Lost Empire   \n10     461                                    A Knight's Tale   \n11     462                              The Road to El Dorado   \n12     463                                        Ngo si seoi   \n13     464                                           The Edge   \n14     465                         The Ghost and the Darkness   \n15     466                                            Rob Roy   \n16     467                                      A Goofy Movie   \n17     468                      Robin Hood: Prince of Thieves   \n18     469                                        The Witches   \n19     470                            The Rescuers Down Under   \n20     471     DuckTales the Movie: Treasure of the Lost Lamp   \n21     472                            Flight of the Navigator   \n22     473                                   An American Tail   \n23     474                                         Enemy Mine   \n24     475                                Romancing the Stone   \n25     476                                Conan the Barbarian   \n26     477                                Clash of the Titans   \n27     478                                            Mad Max   \n28     479                                       The Rescuers   \n29     480                            Chitty Chitty Bang Bang   \n30     481                                You Only Live Twice   \n31     482                               The Call of the Wild   \n32     483                                  News of the World   \n33     484                                             Arctic   \n34     485                                  Spies in Disguise   \n35     486                                          Bumblebee   \n36     487                                             Storks   \n37     488                                       Annihilation   \n38     489                                            Spectre   \n39     490                                           The Grey   \n40     491                                     Men in Black 3   \n41     492                 Madagascar 3: Europe's Most Wanted   \n42     493                                       TRON: Legacy   \n43     494                The Imaginarium of Doctor Parnassus   \n44     495                                              Hanna   \n45     496                              Mr. Peabody & Sherman   \n46     497                                 The Brothers Bloom   \n47     498                                           Warcraft   \n48     499                                      The Boxtrolls   \n49     500                                Horton Hears a Who!   \n\n                                          Description Release date  \\\n0   After Peter Parker is bitten by a genetically ...       (2012)   \n1   A local scientist is often regarded as a failu...       (2009)   \n2   A nine-year-old amateur inventor, Francophile,...       (2011)   \n3   Steve Rogers, a rejected military soldier, tra...       (2011)   \n4   A high school swim champion with a troubled pa...   (I) (2006)   \n5   A historian races to find the legendary Templa...       (2004)   \n6   Four kids travel through a wardrobe to the lan...       (2005)   \n7   A group of animals who have spent all their li...       (2005)   \n8   IMF agent Ethan Hunt comes into conflict with ...       (2006)   \n9   A young linguist named Milo Thatch joins an in...       (2001)   \n10  After his master dies, a peasant squire, fuele...       (2001)   \n11  Two swindlers get their hands on a map to the ...       (2000)   \n12  A Secret Agent loses his memory after falling ...       (1998)   \n13  An intellectual billionaire and two other men ...       (1997)   \n14  A bridge engineer and an experienced old hunte...       (1996)   \n15  In 1713 Scotland, Rob Roy MacGregor is wronged...       (1995)   \n16  When Max makes a preposterous promise to a gir...       (1995)   \n17  When Robin and his Moorish companion come to E...       (1991)   \n18  A young boy stumbles onto a witch convention a...       (1990)   \n19  The R.A.S. agents, Miss Bianca and Bernard, ra...       (1990)   \n20  Scrooge McDuck takes Huey, Dewey, and Louie to...       (1990)   \n21  In 1978, a boy travels 8 years into the future...       (1986)   \n22  While emigrating to the United States, a young...       (1986)   \n23  During a long space war, the lives of two woun...       (1985)   \n24  A mousy romance novelist sets off for Colombia...       (1984)   \n25  A young boy, Conan, becomes a slave after his ...       (1982)   \n26  Perseus must battle Medusa and the Kraken to s...       (1981)   \n27  In a self-destructing world, a vengeful Austra...       (1979)   \n28  Two mice of the Rescue Aid Society search for ...       (1977)   \n29  A down-on-his-luck inventor turns a broken-dow...       (1968)   \n30  Secret Agent James Bond and the Japanese Secre...       (1967)   \n31  A sled dog struggles for survival in the wilds...       (2020)   \n32  A Civil War veteran agrees to deliver a girl, ...       (2020)   \n33  A man stranded in the Arctic after a plane cra...       (2018)   \n34  When the world's best spy is turned into a pig...       (2019)   \n35  On the run in the year 1987, Bumblebee finds r...   (I) (2018)   \n36  Storks have moved on from delivering babies to...       (2016)   \n37  A biologist signs up for a dangerous, secret e...       (2018)   \n38  A cryptic message from James Bond's past sends...   (I) (2015)   \n39  After their plane crashes in Alaska, six oil w...       (2011)   \n40  Agent J travels in time to M.I.B.'s early days...       (2012)   \n41  The Madagascar animals join a struggling Europ...       (2012)   \n42  The son of a virtual world designer goes looki...       (2010)   \n43  A traveling theater company gives its audience...       (2009)   \n44  A sixteen-year-old girl who was raised by her ...       (2011)   \n45  The time-travelling adventures of an advanced ...       (2014)   \n46  The Brothers Bloom are the best con men in the...       (2008)   \n47  As an Orc horde invades the planet Azeroth usi...       (2016)   \n48  A young orphaned boy raised by underground cav...       (2014)   \n49  Horton the Elephant struggles to protect a mic...       (2008)   \n\n               Director  Rating  Duration                             Genre  \\\n0             Marc Webb     1.0  0.745342      [Action,  Adventure,  Drama]   \n1             Phil Lord     1.0  0.416149     [Action,  Adventure,  Sci-Fi]   \n2        Stephen Daldry     1.0  0.602484      [Action,  Adventure,  Drama]   \n3          Joe Johnston     1.0  0.608696      [Action,  Adventure,  Drama]   \n4          Andrew Davis     1.0  0.267081    [Action,  Adventure,  Fantasy]   \n5        Jon Turteltaub     1.0  0.546584      [Adventure,  Drama,  Sci-Fi]   \n6        Andrew Adamson     1.0  0.273292  [Animation,  Adventure,  Family]   \n7          Eric Darnell     1.0  0.248447    [Action,  Adventure,  Fantasy]   \n8           J.J. Abrams     1.0  0.782609      [Action,  Adventure,  Drama]   \n9        Gary Trousdale     1.0  0.459627      [Action,  Adventure,  Drama]   \n10      Brian Helgeland     1.0  0.043478   [Animation,  Adventure,  Drama]   \n11        Bibo Bergeron     1.0  0.217391     [Adventure,  Comedy,  Sci-Fi]   \n12           Benny Chan     1.0  0.223602  [Animation,  Action,  Adventure]   \n13         Lee Tamahori     1.0  0.621118      [Action,  Adventure,  Drama]   \n14      Stephen Hopkins     1.0  0.422360     [Action,  Adventure,  Sci-Fi]   \n15  Michael Caton-Jones     1.0  0.149068  [Animation,  Adventure,  Family]   \n16           Kevin Lima     1.0  0.515528              [Action,  Adventure]   \n17       Kevin Reynolds     1.0  0.105590  [Animation,  Adventure,  Family]   \n18         Nicolas Roeg     1.0  0.329193  [Animation,  Action,  Adventure]   \n19         Hendel Butoy     1.0  0.211180              [Action,  Adventure]   \n20         Bob Hathcock     1.0  1.000000    [Action,  Adventure,  Fantasy]   \n21       Randal Kleiser     1.0  0.447205         [Adventure,  Drama,  War]   \n22            Don Bluth     1.0  0.000000  [Animation,  Adventure,  Comedy]   \n23    Wolfgang Petersen     1.0  0.347826     [Action,  Adventure,  Sci-Fi]   \n24      Robert Zemeckis     1.0  0.310559    [Action,  Adventure,  Fantasy]   \n25          John Milius     1.0  0.422360    [Adventure,  Drama,  Thriller]   \n26        Desmond Davis     1.0  0.422360              [Adventure,  Sci-Fi]   \n27        George Miller     1.0  0.913043   [Adventure,  Biography,  Drama]   \n28       John Lounsbery     1.0  0.341615  [Adventure,  Mystery,  Thriller]   \n29           Ken Hughes     1.0  0.534161      [Action,  Adventure,  Drama]   \n30        Lewis Gilbert     1.0  0.093168  [Animation,  Adventure,  Comedy]   \n31        Chris Sanders     0.0  0.403727      [Adventure,  Comedy,  Drama]   \n32      Paul Greengrass     0.0  0.093168  [Animation,  Adventure,  Comedy]   \n33            Joe Penna     0.0  0.136646  [Animation,  Adventure,  Comedy]   \n34           Nick Bruno     0.0  0.366460              [Action,  Adventure]   \n35        Travis Knight     0.0  0.236025  [Animation,  Adventure,  Family]   \n36     Nicholas Stoller     0.0  0.285714              [Action,  Adventure]   \n37         Alex Garland     0.0  0.503106     [Action,  Adventure,  Comedy]   \n38           Sam Mendes     0.0  0.062112    [Adventure,  Comedy,  Fantasy]   \n39         Joe Carnahan     0.0  0.565217     [Adventure,  Drama,  History]   \n40     Barry Sonnenfeld     0.0  0.279503     [Adventure,  Drama,  Western]   \n41         Eric Darnell     0.0  0.086957      [Adventure,  Comedy,  Drama]   \n42      Joseph Kosinski     0.0  0.118012  [Animation,  Adventure,  Comedy]   \n43        Terry Gilliam     0.0  0.111801      [Adventure,  Comedy,  Crime]   \n44           Joe Wright     0.0  0.086957  [Animation,  Adventure,  Comedy]   \n45          Rob Minkoff     0.0  0.074534   [Animation,  Adventure,  Drama]   \n46         Rian Johnson     0.0  0.242236     [Action,  Adventure,  Sci-Fi]   \n47         Duncan Jones     0.0  0.304348     [Adventure,  Drama,  Fantasy]   \n48       Graham Annable     0.0  0.105590  [Animation,  Action,  Adventure]   \n49        Jimmy Hayward     0.0  0.416149   [Adventure,  Biography,  Drama]   \n\n                                                Stars  \n0   ['Andrew Garfield, ', 'Emma Stone, ', 'Rhys If...  \n1   ['    Stars:', 'Anna Faris, ', 'Bill Hader, ',...  \n2   ['Thomas Horn, ', 'Tom Hanks, ', 'Sandra Bullo...  \n3   ['Chris Evans, ', 'Hugo Weaving, ', 'Samuel L....  \n4   ['Kevin Costner, ', 'Ashton Kutcher, ', 'Sela ...  \n5   ['Nicolas Cage, ', 'Diane Kruger, ', 'Justin B...  \n6   ['Tilda Swinton, ', 'Georgie Henley, ', 'Willi...  \n7   ['    Stars:', 'Chris Rock, ', 'Ben Stiller, '...  \n8   ['Tom Cruise, ', 'Michelle Monaghan, ', 'Ving ...  \n9   ['    Stars:', 'Michael J. Fox, ', 'Jim Varney...  \n10  ['Heath Ledger, ', 'Mark Addy, ', 'Rufus Sewel...  \n11  ['| ', '    Stars:', 'Kevin Kline, ', 'Kenneth...  \n12  ['    Stars:', 'Jackie Chan, ', 'Michelle Ferr...  \n13  ['Anthony Hopkins, ', 'Alec Baldwin, ', 'Elle ...  \n14  ['Michael Douglas, ', 'Val Kilmer, ', 'Tom Wil...  \n15  ['Liam Neeson, ', 'Jessica Lange, ', 'John Hur...  \n16  ['Bill Farmer, ', 'Jason Marsden, ', 'Jim Cumm...  \n17  ['Kevin Costner, ', 'Morgan Freeman, ', 'Mary ...  \n18  ['Anjelica Huston, ', 'Mai Zetterling, ', 'Jas...  \n19  ['    Stars:', 'Bob Newhart, ', 'Eva Gabor, ',...  \n20  ['Alan Young, ', 'Christopher Lloyd, ', 'Teren...  \n21  ['Joey Cramer, ', 'Paul Reubens, ', 'Cliff De ...  \n22  ['Dom DeLuise, ', 'Christopher Plummer, ', 'Er...  \n23  ['Dennis Quaid, ', 'Louis Gossett Jr., ', 'Bri...  \n24  ['Michael Douglas, ', 'Kathleen Turner, ', 'Da...  \n25  ['Arnold Schwarzenegger, ', 'James Earl Jones,...  \n26  ['Laurence Olivier, ', 'Harry Hamlin, ', 'Clai...  \n27  ['Mel Gibson, ', 'Joanne Samuel, ', 'Hugh Keay...  \n28  ['| ', '    Stars:', 'Bob Newhart, ', 'Eva Gab...  \n29  ['Dick Van Dyke, ', 'Sally Ann Howes, ', 'Lion...  \n30  ['Sean Connery, ', 'Akiko Wakabayashi, ', 'Mie...  \n31  ['Harrison Ford, ', 'Omar Sy, ', 'Cara Gee, ',...  \n32  ['Tom Hanks, ', 'Helena Zengel, ', 'Tom Astor,...  \n33  ['Mads Mikkelsen, ', 'Maria Thelma Smáradóttir...  \n34  ['    Stars:', 'Rachel Brosnahan, ', 'Jarrett ...  \n35  ['Hailee Steinfeld, ', 'Jorge Lendeborg Jr., '...  \n36  ['    Stars:', 'Andy Samberg, ', 'Katie Crown,...  \n37  ['Natalie Portman, ', 'Jennifer Jason Leigh, '...  \n38  ['Daniel Craig, ', 'Christoph Waltz, ', 'Léa S...  \n39  ['Liam Neeson, ', 'Dermot Mulroney, ', 'Frank ...  \n40  ['Will Smith, ', 'Tommy Lee Jones, ', 'Josh Br...  \n41  ['| ', '    Stars:', 'Ben Stiller, ', 'Jada Pi...  \n42  ['Jeff Bridges, ', 'Garrett Hedlund, ', 'Olivi...  \n43  ['Christopher Plummer, ', 'Lily Cole, ', 'Heat...  \n44  ['Saoirse Ronan, ', 'Cate Blanchett, ', 'Eric ...  \n45  ['Ty Burrell, ', 'Max Charles, ', 'Stephen Col...  \n46  ['Rachel Weisz, ', 'Adrien Brody, ', 'Mark Ruf...  \n47  ['Travis Fimmel, ', 'Paula Patton, ', 'Ben Fos...  \n48  ['    Stars:', 'Ben Kingsley, ', 'Jared Harris...  \n49  ['    Stars:', 'Jim Carrey, ', 'Steve Carell, ...  ",
            "text/html": "<div>\n<style scoped>\n    .dataframe tbody tr th:only-of-type {\n        vertical-align: middle;\n    }\n\n    .dataframe tbody tr th {\n        vertical-align: top;\n    }\n\n    .dataframe thead th {\n        text-align: right;\n    }\n</style>\n<table border=\"1\" class=\"dataframe\">\n  <thead>\n    <tr style=\"text-align: right;\">\n      <th></th>\n      <th>Number</th>\n      <th>Title</th>\n      <th>Description</th>\n      <th>Release date</th>\n      <th>Director</th>\n      <th>Rating</th>\n      <th>Duration</th>\n      <th>Genre</th>\n      <th>Stars</th>\n    </tr>\n  </thead>\n  <tbody>\n    <tr>\n      <th>0</th>\n      <td>451</td>\n      <td>The Amazing Spider-Man</td>\n      <td>After Peter Parker is bitten by a genetically ...</td>\n      <td>(2012)</td>\n      <td>Marc Webb</td>\n      <td>1.0</td>\n      <td>0.745342</td>\n      <td>[Action,  Adventure,  Drama]</td>\n      <td>['Andrew Garfield, ', 'Emma Stone, ', 'Rhys If...</td>\n    </tr>\n    <tr>\n      <th>1</th>\n      <td>452</td>\n      <td>Cloudy with a Chance of Meatballs</td>\n      <td>A local scientist is often regarded as a failu...</td>\n      <td>(2009)</td>\n      <td>Phil Lord</td>\n      <td>1.0</td>\n      <td>0.416149</td>\n      <td>[Action,  Adventure,  Sci-Fi]</td>\n      <td>['    Stars:', 'Anna Faris, ', 'Bill Hader, ',...</td>\n    </tr>\n    <tr>\n      <th>2</th>\n      <td>453</td>\n      <td>Extremely Loud &amp; Incredibly Close</td>\n      <td>A nine-year-old amateur inventor, Francophile,...</td>\n      <td>(2011)</td>\n      <td>Stephen Daldry</td>\n      <td>1.0</td>\n      <td>0.602484</td>\n      <td>[Action,  Adventure,  Drama]</td>\n      <td>['Thomas Horn, ', 'Tom Hanks, ', 'Sandra Bullo...</td>\n    </tr>\n    <tr>\n      <th>3</th>\n      <td>454</td>\n      <td>Captain America: The First Avenger</td>\n      <td>Steve Rogers, a rejected military soldier, tra...</td>\n      <td>(2011)</td>\n      <td>Joe Johnston</td>\n      <td>1.0</td>\n      <td>0.608696</td>\n      <td>[Action,  Adventure,  Drama]</td>\n      <td>['Chris Evans, ', 'Hugo Weaving, ', 'Samuel L....</td>\n    </tr>\n    <tr>\n      <th>4</th>\n      <td>455</td>\n      <td>The Guardian</td>\n      <td>A high school swim champion with a troubled pa...</td>\n      <td>(I) (2006)</td>\n      <td>Andrew Davis</td>\n      <td>1.0</td>\n      <td>0.267081</td>\n      <td>[Action,  Adventure,  Fantasy]</td>\n      <td>['Kevin Costner, ', 'Ashton Kutcher, ', 'Sela ...</td>\n    </tr>\n    <tr>\n      <th>5</th>\n      <td>456</td>\n      <td>National Treasure</td>\n      <td>A historian races to find the legendary Templa...</td>\n      <td>(2004)</td>\n      <td>Jon Turteltaub</td>\n      <td>1.0</td>\n      <td>0.546584</td>\n      <td>[Adventure,  Drama,  Sci-Fi]</td>\n      <td>['Nicolas Cage, ', 'Diane Kruger, ', 'Justin B...</td>\n    </tr>\n    <tr>\n      <th>6</th>\n      <td>457</td>\n      <td>The Chronicles of Narnia: The Lion, the Witch ...</td>\n      <td>Four kids travel through a wardrobe to the lan...</td>\n      <td>(2005)</td>\n      <td>Andrew Adamson</td>\n      <td>1.0</td>\n      <td>0.273292</td>\n      <td>[Animation,  Adventure,  Family]</td>\n      <td>['Tilda Swinton, ', 'Georgie Henley, ', 'Willi...</td>\n    </tr>\n    <tr>\n      <th>7</th>\n      <td>458</td>\n      <td>Madagascar</td>\n      <td>A group of animals who have spent all their li...</td>\n      <td>(2005)</td>\n      <td>Eric Darnell</td>\n      <td>1.0</td>\n      <td>0.248447</td>\n      <td>[Action,  Adventure,  Fantasy]</td>\n      <td>['    Stars:', 'Chris Rock, ', 'Ben Stiller, '...</td>\n    </tr>\n    <tr>\n      <th>8</th>\n      <td>459</td>\n      <td>Mission: Impossible III</td>\n      <td>IMF agent Ethan Hunt comes into conflict with ...</td>\n      <td>(2006)</td>\n      <td>J.J. Abrams</td>\n      <td>1.0</td>\n      <td>0.782609</td>\n      <td>[Action,  Adventure,  Drama]</td>\n      <td>['Tom Cruise, ', 'Michelle Monaghan, ', 'Ving ...</td>\n    </tr>\n    <tr>\n      <th>9</th>\n      <td>460</td>\n      <td>Atlantis: The Lost Empire</td>\n      <td>A young linguist named Milo Thatch joins an in...</td>\n      <td>(2001)</td>\n      <td>Gary Trousdale</td>\n      <td>1.0</td>\n      <td>0.459627</td>\n      <td>[Action,  Adventure,  Drama]</td>\n      <td>['    Stars:', 'Michael J. Fox, ', 'Jim Varney...</td>\n    </tr>\n    <tr>\n      <th>10</th>\n      <td>461</td>\n      <td>A Knight's Tale</td>\n      <td>After his master dies, a peasant squire, fuele...</td>\n      <td>(2001)</td>\n      <td>Brian Helgeland</td>\n      <td>1.0</td>\n      <td>0.043478</td>\n      <td>[Animation,  Adventure,  Drama]</td>\n      <td>['Heath Ledger, ', 'Mark Addy, ', 'Rufus Sewel...</td>\n    </tr>\n    <tr>\n      <th>11</th>\n      <td>462</td>\n      <td>The Road to El Dorado</td>\n      <td>Two swindlers get their hands on a map to the ...</td>\n      <td>(2000)</td>\n      <td>Bibo Bergeron</td>\n      <td>1.0</td>\n      <td>0.217391</td>\n      <td>[Adventure,  Comedy,  Sci-Fi]</td>\n      <td>['| ', '    Stars:', 'Kevin Kline, ', 'Kenneth...</td>\n    </tr>\n    <tr>\n      <th>12</th>\n      <td>463</td>\n      <td>Ngo si seoi</td>\n      <td>A Secret Agent loses his memory after falling ...</td>\n      <td>(1998)</td>\n      <td>Benny Chan</td>\n      <td>1.0</td>\n      <td>0.223602</td>\n      <td>[Animation,  Action,  Adventure]</td>\n      <td>['    Stars:', 'Jackie Chan, ', 'Michelle Ferr...</td>\n    </tr>\n    <tr>\n      <th>13</th>\n      <td>464</td>\n      <td>The Edge</td>\n      <td>An intellectual billionaire and two other men ...</td>\n      <td>(1997)</td>\n      <td>Lee Tamahori</td>\n      <td>1.0</td>\n      <td>0.621118</td>\n      <td>[Action,  Adventure,  Drama]</td>\n      <td>['Anthony Hopkins, ', 'Alec Baldwin, ', 'Elle ...</td>\n    </tr>\n    <tr>\n      <th>14</th>\n      <td>465</td>\n      <td>The Ghost and the Darkness</td>\n      <td>A bridge engineer and an experienced old hunte...</td>\n      <td>(1996)</td>\n      <td>Stephen Hopkins</td>\n      <td>1.0</td>\n      <td>0.422360</td>\n      <td>[Action,  Adventure,  Sci-Fi]</td>\n      <td>['Michael Douglas, ', 'Val Kilmer, ', 'Tom Wil...</td>\n    </tr>\n    <tr>\n      <th>15</th>\n      <td>466</td>\n      <td>Rob Roy</td>\n      <td>In 1713 Scotland, Rob Roy MacGregor is wronged...</td>\n      <td>(1995)</td>\n      <td>Michael Caton-Jones</td>\n      <td>1.0</td>\n      <td>0.149068</td>\n      <td>[Animation,  Adventure,  Family]</td>\n      <td>['Liam Neeson, ', 'Jessica Lange, ', 'John Hur...</td>\n    </tr>\n    <tr>\n      <th>16</th>\n      <td>467</td>\n      <td>A Goofy Movie</td>\n      <td>When Max makes a preposterous promise to a gir...</td>\n      <td>(1995)</td>\n      <td>Kevin Lima</td>\n      <td>1.0</td>\n      <td>0.515528</td>\n      <td>[Action,  Adventure]</td>\n      <td>['Bill Farmer, ', 'Jason Marsden, ', 'Jim Cumm...</td>\n    </tr>\n    <tr>\n      <th>17</th>\n      <td>468</td>\n      <td>Robin Hood: Prince of Thieves</td>\n      <td>When Robin and his Moorish companion come to E...</td>\n      <td>(1991)</td>\n      <td>Kevin Reynolds</td>\n      <td>1.0</td>\n      <td>0.105590</td>\n      <td>[Animation,  Adventure,  Family]</td>\n      <td>['Kevin Costner, ', 'Morgan Freeman, ', 'Mary ...</td>\n    </tr>\n    <tr>\n      <th>18</th>\n      <td>469</td>\n      <td>The Witches</td>\n      <td>A young boy stumbles onto a witch convention a...</td>\n      <td>(1990)</td>\n      <td>Nicolas Roeg</td>\n      <td>1.0</td>\n      <td>0.329193</td>\n      <td>[Animation,  Action,  Adventure]</td>\n      <td>['Anjelica Huston, ', 'Mai Zetterling, ', 'Jas...</td>\n    </tr>\n    <tr>\n      <th>19</th>\n      <td>470</td>\n      <td>The Rescuers Down Under</td>\n      <td>The R.A.S. agents, Miss Bianca and Bernard, ra...</td>\n      <td>(1990)</td>\n      <td>Hendel Butoy</td>\n      <td>1.0</td>\n      <td>0.211180</td>\n      <td>[Action,  Adventure]</td>\n      <td>['    Stars:', 'Bob Newhart, ', 'Eva Gabor, ',...</td>\n    </tr>\n    <tr>\n      <th>20</th>\n      <td>471</td>\n      <td>DuckTales the Movie: Treasure of the Lost Lamp</td>\n      <td>Scrooge McDuck takes Huey, Dewey, and Louie to...</td>\n      <td>(1990)</td>\n      <td>Bob Hathcock</td>\n      <td>1.0</td>\n      <td>1.000000</td>\n      <td>[Action,  Adventure,  Fantasy]</td>\n      <td>['Alan Young, ', 'Christopher Lloyd, ', 'Teren...</td>\n    </tr>\n    <tr>\n      <th>21</th>\n      <td>472</td>\n      <td>Flight of the Navigator</td>\n      <td>In 1978, a boy travels 8 years into the future...</td>\n      <td>(1986)</td>\n      <td>Randal Kleiser</td>\n      <td>1.0</td>\n      <td>0.447205</td>\n      <td>[Adventure,  Drama,  War]</td>\n      <td>['Joey Cramer, ', 'Paul Reubens, ', 'Cliff De ...</td>\n    </tr>\n    <tr>\n      <th>22</th>\n      <td>473</td>\n      <td>An American Tail</td>\n      <td>While emigrating to the United States, a young...</td>\n      <td>(1986)</td>\n      <td>Don Bluth</td>\n      <td>1.0</td>\n      <td>0.000000</td>\n      <td>[Animation,  Adventure,  Comedy]</td>\n      <td>['Dom DeLuise, ', 'Christopher Plummer, ', 'Er...</td>\n    </tr>\n    <tr>\n      <th>23</th>\n      <td>474</td>\n      <td>Enemy Mine</td>\n      <td>During a long space war, the lives of two woun...</td>\n      <td>(1985)</td>\n      <td>Wolfgang Petersen</td>\n      <td>1.0</td>\n      <td>0.347826</td>\n      <td>[Action,  Adventure,  Sci-Fi]</td>\n      <td>['Dennis Quaid, ', 'Louis Gossett Jr., ', 'Bri...</td>\n    </tr>\n    <tr>\n      <th>24</th>\n      <td>475</td>\n      <td>Romancing the Stone</td>\n      <td>A mousy romance novelist sets off for Colombia...</td>\n      <td>(1984)</td>\n      <td>Robert Zemeckis</td>\n      <td>1.0</td>\n      <td>0.310559</td>\n      <td>[Action,  Adventure,  Fantasy]</td>\n      <td>['Michael Douglas, ', 'Kathleen Turner, ', 'Da...</td>\n    </tr>\n    <tr>\n      <th>25</th>\n      <td>476</td>\n      <td>Conan the Barbarian</td>\n      <td>A young boy, Conan, becomes a slave after his ...</td>\n      <td>(1982)</td>\n      <td>John Milius</td>\n      <td>1.0</td>\n      <td>0.422360</td>\n      <td>[Adventure,  Drama,  Thriller]</td>\n      <td>['Arnold Schwarzenegger, ', 'James Earl Jones,...</td>\n    </tr>\n    <tr>\n      <th>26</th>\n      <td>477</td>\n      <td>Clash of the Titans</td>\n      <td>Perseus must battle Medusa and the Kraken to s...</td>\n      <td>(1981)</td>\n      <td>Desmond Davis</td>\n      <td>1.0</td>\n      <td>0.422360</td>\n      <td>[Adventure,  Sci-Fi]</td>\n      <td>['Laurence Olivier, ', 'Harry Hamlin, ', 'Clai...</td>\n    </tr>\n    <tr>\n      <th>27</th>\n      <td>478</td>\n      <td>Mad Max</td>\n      <td>In a self-destructing world, a vengeful Austra...</td>\n      <td>(1979)</td>\n      <td>George Miller</td>\n      <td>1.0</td>\n      <td>0.913043</td>\n      <td>[Adventure,  Biography,  Drama]</td>\n      <td>['Mel Gibson, ', 'Joanne Samuel, ', 'Hugh Keay...</td>\n    </tr>\n    <tr>\n      <th>28</th>\n      <td>479</td>\n      <td>The Rescuers</td>\n      <td>Two mice of the Rescue Aid Society search for ...</td>\n      <td>(1977)</td>\n      <td>John Lounsbery</td>\n      <td>1.0</td>\n      <td>0.341615</td>\n      <td>[Adventure,  Mystery,  Thriller]</td>\n      <td>['| ', '    Stars:', 'Bob Newhart, ', 'Eva Gab...</td>\n    </tr>\n    <tr>\n      <th>29</th>\n      <td>480</td>\n      <td>Chitty Chitty Bang Bang</td>\n      <td>A down-on-his-luck inventor turns a broken-dow...</td>\n      <td>(1968)</td>\n      <td>Ken Hughes</td>\n      <td>1.0</td>\n      <td>0.534161</td>\n      <td>[Action,  Adventure,  Drama]</td>\n      <td>['Dick Van Dyke, ', 'Sally Ann Howes, ', 'Lion...</td>\n    </tr>\n    <tr>\n      <th>30</th>\n      <td>481</td>\n      <td>You Only Live Twice</td>\n      <td>Secret Agent James Bond and the Japanese Secre...</td>\n      <td>(1967)</td>\n      <td>Lewis Gilbert</td>\n      <td>1.0</td>\n      <td>0.093168</td>\n      <td>[Animation,  Adventure,  Comedy]</td>\n      <td>['Sean Connery, ', 'Akiko Wakabayashi, ', 'Mie...</td>\n    </tr>\n    <tr>\n      <th>31</th>\n      <td>482</td>\n      <td>The Call of the Wild</td>\n      <td>A sled dog struggles for survival in the wilds...</td>\n      <td>(2020)</td>\n      <td>Chris Sanders</td>\n      <td>0.0</td>\n      <td>0.403727</td>\n      <td>[Adventure,  Comedy,  Drama]</td>\n      <td>['Harrison Ford, ', 'Omar Sy, ', 'Cara Gee, ',...</td>\n    </tr>\n    <tr>\n      <th>32</th>\n      <td>483</td>\n      <td>News of the World</td>\n      <td>A Civil War veteran agrees to deliver a girl, ...</td>\n      <td>(2020)</td>\n      <td>Paul Greengrass</td>\n      <td>0.0</td>\n      <td>0.093168</td>\n      <td>[Animation,  Adventure,  Comedy]</td>\n      <td>['Tom Hanks, ', 'Helena Zengel, ', 'Tom Astor,...</td>\n    </tr>\n    <tr>\n      <th>33</th>\n      <td>484</td>\n      <td>Arctic</td>\n      <td>A man stranded in the Arctic after a plane cra...</td>\n      <td>(2018)</td>\n      <td>Joe Penna</td>\n      <td>0.0</td>\n      <td>0.136646</td>\n      <td>[Animation,  Adventure,  Comedy]</td>\n      <td>['Mads Mikkelsen, ', 'Maria Thelma Smáradóttir...</td>\n    </tr>\n    <tr>\n      <th>34</th>\n      <td>485</td>\n      <td>Spies in Disguise</td>\n      <td>When the world's best spy is turned into a pig...</td>\n      <td>(2019)</td>\n      <td>Nick Bruno</td>\n      <td>0.0</td>\n      <td>0.366460</td>\n      <td>[Action,  Adventure]</td>\n      <td>['    Stars:', 'Rachel Brosnahan, ', 'Jarrett ...</td>\n    </tr>\n    <tr>\n      <th>35</th>\n      <td>486</td>\n      <td>Bumblebee</td>\n      <td>On the run in the year 1987, Bumblebee finds r...</td>\n      <td>(I) (2018)</td>\n      <td>Travis Knight</td>\n      <td>0.0</td>\n      <td>0.236025</td>\n      <td>[Animation,  Adventure,  Family]</td>\n      <td>['Hailee Steinfeld, ', 'Jorge Lendeborg Jr., '...</td>\n    </tr>\n    <tr>\n      <th>36</th>\n      <td>487</td>\n      <td>Storks</td>\n      <td>Storks have moved on from delivering babies to...</td>\n      <td>(2016)</td>\n      <td>Nicholas Stoller</td>\n      <td>0.0</td>\n      <td>0.285714</td>\n      <td>[Action,  Adventure]</td>\n      <td>['    Stars:', 'Andy Samberg, ', 'Katie Crown,...</td>\n    </tr>\n    <tr>\n      <th>37</th>\n      <td>488</td>\n      <td>Annihilation</td>\n      <td>A biologist signs up for a dangerous, secret e...</td>\n      <td>(2018)</td>\n      <td>Alex Garland</td>\n      <td>0.0</td>\n      <td>0.503106</td>\n      <td>[Action,  Adventure,  Comedy]</td>\n      <td>['Natalie Portman, ', 'Jennifer Jason Leigh, '...</td>\n    </tr>\n    <tr>\n      <th>38</th>\n      <td>489</td>\n      <td>Spectre</td>\n      <td>A cryptic message from James Bond's past sends...</td>\n      <td>(I) (2015)</td>\n      <td>Sam Mendes</td>\n      <td>0.0</td>\n      <td>0.062112</td>\n      <td>[Adventure,  Comedy,  Fantasy]</td>\n      <td>['Daniel Craig, ', 'Christoph Waltz, ', 'Léa S...</td>\n    </tr>\n    <tr>\n      <th>39</th>\n      <td>490</td>\n      <td>The Grey</td>\n      <td>After their plane crashes in Alaska, six oil w...</td>\n      <td>(2011)</td>\n      <td>Joe Carnahan</td>\n      <td>0.0</td>\n      <td>0.565217</td>\n      <td>[Adventure,  Drama,  History]</td>\n      <td>['Liam Neeson, ', 'Dermot Mulroney, ', 'Frank ...</td>\n    </tr>\n    <tr>\n      <th>40</th>\n      <td>491</td>\n      <td>Men in Black 3</td>\n      <td>Agent J travels in time to M.I.B.'s early days...</td>\n      <td>(2012)</td>\n      <td>Barry Sonnenfeld</td>\n      <td>0.0</td>\n      <td>0.279503</td>\n      <td>[Adventure,  Drama,  Western]</td>\n      <td>['Will Smith, ', 'Tommy Lee Jones, ', 'Josh Br...</td>\n    </tr>\n    <tr>\n      <th>41</th>\n      <td>492</td>\n      <td>Madagascar 3: Europe's Most Wanted</td>\n      <td>The Madagascar animals join a struggling Europ...</td>\n      <td>(2012)</td>\n      <td>Eric Darnell</td>\n      <td>0.0</td>\n      <td>0.086957</td>\n      <td>[Adventure,  Comedy,  Drama]</td>\n      <td>['| ', '    Stars:', 'Ben Stiller, ', 'Jada Pi...</td>\n    </tr>\n    <tr>\n      <th>42</th>\n      <td>493</td>\n      <td>TRON: Legacy</td>\n      <td>The son of a virtual world designer goes looki...</td>\n      <td>(2010)</td>\n      <td>Joseph Kosinski</td>\n      <td>0.0</td>\n      <td>0.118012</td>\n      <td>[Animation,  Adventure,  Comedy]</td>\n      <td>['Jeff Bridges, ', 'Garrett Hedlund, ', 'Olivi...</td>\n    </tr>\n    <tr>\n      <th>43</th>\n      <td>494</td>\n      <td>The Imaginarium of Doctor Parnassus</td>\n      <td>A traveling theater company gives its audience...</td>\n      <td>(2009)</td>\n      <td>Terry Gilliam</td>\n      <td>0.0</td>\n      <td>0.111801</td>\n      <td>[Adventure,  Comedy,  Crime]</td>\n      <td>['Christopher Plummer, ', 'Lily Cole, ', 'Heat...</td>\n    </tr>\n    <tr>\n      <th>44</th>\n      <td>495</td>\n      <td>Hanna</td>\n      <td>A sixteen-year-old girl who was raised by her ...</td>\n      <td>(2011)</td>\n      <td>Joe Wright</td>\n      <td>0.0</td>\n      <td>0.086957</td>\n      <td>[Animation,  Adventure,  Comedy]</td>\n      <td>['Saoirse Ronan, ', 'Cate Blanchett, ', 'Eric ...</td>\n    </tr>\n    <tr>\n      <th>45</th>\n      <td>496</td>\n      <td>Mr. Peabody &amp; Sherman</td>\n      <td>The time-travelling adventures of an advanced ...</td>\n      <td>(2014)</td>\n      <td>Rob Minkoff</td>\n      <td>0.0</td>\n      <td>0.074534</td>\n      <td>[Animation,  Adventure,  Drama]</td>\n      <td>['Ty Burrell, ', 'Max Charles, ', 'Stephen Col...</td>\n    </tr>\n    <tr>\n      <th>46</th>\n      <td>497</td>\n      <td>The Brothers Bloom</td>\n      <td>The Brothers Bloom are the best con men in the...</td>\n      <td>(2008)</td>\n      <td>Rian Johnson</td>\n      <td>0.0</td>\n      <td>0.242236</td>\n      <td>[Action,  Adventure,  Sci-Fi]</td>\n      <td>['Rachel Weisz, ', 'Adrien Brody, ', 'Mark Ruf...</td>\n    </tr>\n    <tr>\n      <th>47</th>\n      <td>498</td>\n      <td>Warcraft</td>\n      <td>As an Orc horde invades the planet Azeroth usi...</td>\n      <td>(2016)</td>\n      <td>Duncan Jones</td>\n      <td>0.0</td>\n      <td>0.304348</td>\n      <td>[Adventure,  Drama,  Fantasy]</td>\n      <td>['Travis Fimmel, ', 'Paula Patton, ', 'Ben Fos...</td>\n    </tr>\n    <tr>\n      <th>48</th>\n      <td>499</td>\n      <td>The Boxtrolls</td>\n      <td>A young orphaned boy raised by underground cav...</td>\n      <td>(2014)</td>\n      <td>Graham Annable</td>\n      <td>0.0</td>\n      <td>0.105590</td>\n      <td>[Animation,  Action,  Adventure]</td>\n      <td>['    Stars:', 'Ben Kingsley, ', 'Jared Harris...</td>\n    </tr>\n    <tr>\n      <th>49</th>\n      <td>500</td>\n      <td>Horton Hears a Who!</td>\n      <td>Horton the Elephant struggles to protect a mic...</td>\n      <td>(2008)</td>\n      <td>Jimmy Hayward</td>\n      <td>0.0</td>\n      <td>0.416149</td>\n      <td>[Adventure,  Biography,  Drama]</td>\n      <td>['    Stars:', 'Jim Carrey, ', 'Steve Carell, ...</td>\n    </tr>\n  </tbody>\n</table>\n</div>"
          },
          "metadata": {}
        }
      ],
      "execution_count": 159
    },
    {
      "cell_type": "code",
      "source": "#normalizing rating (mean)\ndf[\"Rating\"] = (df[\"Rating\"] - df[\"Rating\"].mean()) / (df[\"Rating\"].max() - df[\"Rating\"].min())\n",
      "metadata": {
        "tags": [],
        "cell_id": "00019-82ceb308-c341-4b33-939b-bf90be8877d9",
        "deepnote_to_be_reexecuted": false,
        "source_hash": "f416c643",
        "execution_start": 1616778293046,
        "execution_millis": 0,
        "deepnote_cell_type": "code"
      },
      "outputs": [],
      "execution_count": 160
    },
    {
      "cell_type": "code",
      "source": "fig = plt.subplots(figsize=(12.5,4))\n#plt.xlim(-0.2,1.2)\n#plt.ylim(-0.2,1.2)\nplt.scatter(df['Title'],df['Director'],s=70,color=\"r\")",
      "metadata": {
        "tags": [],
        "cell_id": "00019-05699367-41e1-416e-891e-33104f4f1937",
        "deepnote_to_be_reexecuted": false,
        "source_hash": "e4020c6a",
        "execution_start": 1616778643698,
        "execution_millis": 1676,
        "deepnote_cell_type": "code"
      },
      "outputs": [
        {
          "output_type": "execute_result",
          "execution_count": 174,
          "data": {
            "text/plain": "<matplotlib.collections.PathCollection at 0x7fd2a84c94d0>"
          },
          "metadata": {}
        },
        {
          "data": {
            "text/plain": "<Figure size 900x288 with 1 Axes>",
            "image/png": "[encoded data removed]"
          },
          "metadata": {
            "needs_background": "light"
          },
          "output_type": "display_data"
        }
      ],
      "execution_count": 174
    },
    {
      "cell_type": "code",
      "source": "",
      "metadata": {
        "tags": [],
        "cell_id": "00019-af17cf62-319d-47a5-a99f-11a91acf84e4",
        "deepnote_cell_type": "code"
      },
      "outputs": [],
      "execution_count": null
    },
    {
      "cell_type": "markdown",
      "source": "<a style='text-decoration:none;line-height:16px;display:flex;color:#5B5B62;padding:10px;justify-content:end;' href='https://deepnote.com?utm_source=created-in-deepnote-cell&projectId=796ba814-f632-4502-b0d7-7e2f8f9e546d' target=\"_blank\">\n<img style='display:inline;max-height:16px;margin:0px;margin-right:7.5px;' src='data:image/svg+xml;base64,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' > </img>\nCreated in <span style='font-weight:600;margin-left:4px;'>Deepnote</span></a>",
      "metadata": {
        "tags": [],
        "created_in_deepnote_cell": true,
        "deepnote_cell_type": "markdown"
      }
    }
  ],
  "nbformat": 4,
  "nbformat_minor": 2,
  "metadata": {
    "orig_nbformat": 2,
    "deepnote_notebook_id": "34c91619-504f-4255-b314-ed5bb495828b",
    "deepnote": {},
    "deepnote_execution_queue": []
  }
}