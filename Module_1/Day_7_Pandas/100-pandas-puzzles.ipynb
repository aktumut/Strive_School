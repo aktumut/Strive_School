{
  "cells": [
    {
      "cell_type": "markdown",
      "source": "# 100 pandas puzzles\n\nHere are 100* short puzzles for testing your knowledge of [pandas'](http://pandas.pydata.org/) power.\n\nSince pandas is a large library with many different specialist features and functions, these excercises focus mainly on the fundamentals of manipulating data (indexing, grouping, aggregating, cleaning), making use of the core DataFrame and Series objects. \n\nMany of the excerises here are stright-forward in that the solutions require no more than a few lines of code (in pandas or NumPy... don't go using pure Python!). Choosing the right methods and following best practices is the underlying goal.\n\nThe exercises are loosely divided in sections. Each section has a difficulty rating; these ratings are subjective, of course, but should be a seen as a rough guide as to how inventive the required solution is.\n\nIf you are looking for some other resources with pandas, the official documentation  is very extensive. In particular, some good places get a broader overview of pandas are...\n\n- [10 minutes to pandas](http://pandas.pydata.org/pandas-docs/stable/10min.html)\n- [pandas basics](http://pandas.pydata.org/pandas-docs/stable/basics.html)\n- [tutorials](http://pandas.pydata.org/pandas-docs/stable/tutorials.html)\n- [cookbook and idioms](http://pandas.pydata.org/pandas-docs/stable/cookbook.html#cookbook)\n\nEnjoy the puzzles!",
      "metadata": {
        "cell_id": "00000-5ac12fca-89ba-46b4-9c80-d50aafccea7c",
        "deepnote_cell_type": "markdown"
      }
    },
    {
      "cell_type": "markdown",
      "source": "## Importing pandas\n\n### Getting started and checking your pandas setup\n\nDifficulty: *easy* \n\n**1.** Import pandas under the name `pd`.",
      "metadata": {
        "cell_id": "00001-fc074dfc-8e81-48b2-90cf-13ea03f1c086",
        "deepnote_cell_type": "markdown"
      }
    },
    {
      "cell_type": "code",
      "metadata": {
        "collapsed": true,
        "cell_id": "00002-b04fa18a-1aa7-4210-b65a-6a58ffc861fc",
        "deepnote_to_be_reexecuted": false,
        "source_hash": "9b82ee11",
        "execution_millis": 4,
        "execution_start": 1616503740702,
        "deepnote_cell_type": "code"
      },
      "source": "import pandas as pd",
      "outputs": [],
      "execution_count": null
    },
    {
      "cell_type": "markdown",
      "source": "**2.** Print the version of pandas that has been imported.",
      "metadata": {
        "cell_id": "00003-7c1746c3-634e-4f9c-af86-aadb370e7dd6",
        "deepnote_cell_type": "markdown"
      }
    },
    {
      "cell_type": "code",
      "metadata": {
        "collapsed": true,
        "cell_id": "00004-ca6bf139-fc40-4d93-8dc2-3cbca48df751",
        "deepnote_to_be_reexecuted": false,
        "source_hash": "16f9467b",
        "execution_millis": 17,
        "execution_start": 1616503746306,
        "deepnote_cell_type": "code"
      },
      "source": "pd.__version__",
      "outputs": [
        {
          "output_type": "execute_result",
          "execution_count": 4,
          "data": {
            "text/plain": "'1.2.3'"
          },
          "metadata": {}
        }
      ],
      "execution_count": null
    },
    {
      "cell_type": "markdown",
      "source": "**3.** Print out all the version information of the libraries that are required by the pandas library.",
      "metadata": {
        "cell_id": "00005-f1927021-1afd-4882-8c7b-c0f9ee4eb0eb",
        "deepnote_cell_type": "markdown"
      }
    },
    {
      "cell_type": "code",
      "metadata": {
        "collapsed": true,
        "cell_id": "00006-95b064ca-825e-4786-9cae-8b8acbbcc301",
        "deepnote_to_be_reexecuted": false,
        "source_hash": "6643de18",
        "execution_millis": 860,
        "execution_start": 1616508320214,
        "deepnote_cell_type": "code"
      },
      "source": "pd.show_versions()",
      "outputs": [
        {
          "name": "stdout",
          "text": "\nINSTALLED VERSIONS\n------------------\ncommit           : f2c8480af2f25efdbd803218b9d87980f416563e\npython           : 3.7.10.final.0\npython-bits      : 64\nOS               : Linux\nOS-release       : 4.14.209-160.339.amzn2.x86_64\nVersion          : #1 SMP Wed Dec 16 22:44:04 UTC 2020\nmachine          : x86_64\nprocessor        : \nbyteorder        : little\nLC_ALL           : en_US.UTF-8\nLANG             : en_US.UTF-8\nLOCALE           : en_US.UTF-8\n\npandas           : 1.2.3\nnumpy            : 1.19.5\npytz             : 2021.1\ndateutil         : 2.8.1\npip              : 20.1.1\nsetuptools       : 47.1.0\nCython           : None\npytest           : 6.2.2\nhypothesis       : None\nsphinx           : 3.5.2\nblosc            : None\nfeather          : None\nxlsxwriter       : None\nlxml.etree       : 4.6.2\nhtml5lib         : None\npymysql          : None\npsycopg2         : 2.8.6 (dt dec pq3 ext lo64)\njinja2           : 2.11.3\nIPython          : 7.21.0\npandas_datareader: None\nbs4              : None\nbottleneck       : None\nfsspec           : None\nfastparquet      : None\ngcsfs            : None\nmatplotlib       : 3.3.4\nnumexpr          : None\nodfpy            : None\nopenpyxl         : None\npandas_gbq       : None\npyarrow          : 3.0.0\npyxlsb           : None\ns3fs             : None\nscipy            : 1.6.1\nsqlalchemy       : 1.4.0\ntables           : None\ntabulate         : 0.8.9\nxarray           : None\nxlrd             : None\nxlwt             : None\nnumba            : None\n",
          "output_type": "stream"
        }
      ],
      "execution_count": null
    },
    {
      "cell_type": "markdown",
      "source": "## DataFrame basics\n\n### A few of the fundamental routines for selecting, sorting, adding and aggregating data in DataFrames\n\nDifficulty: *easy*\n\nNote: remember to import numpy using:\n```python\nimport numpy as np\n```\n\nConsider the following Python dictionary `data` and Python list `labels`:\n\n``` python\ndata = {'animal': ['cat', 'cat', 'snake', 'dog', 'dog', 'cat', 'snake', 'cat', 'dog', 'dog'],\n        'age': [2.5, 3, 0.5, np.nan, 5, 2, 4.5, np.nan, 7, 3],\n        'visits': [1, 3, 2, 3, 2, 3, 1, 1, 2, 1],\n        'priority': ['yes', 'yes', 'no', 'yes', 'no', 'no', 'no', 'yes', 'no', 'no']}\n\nlabels = ['a', 'b', 'c', 'd', 'e', 'f', 'g', 'h', 'i', 'j']\n```\n(This is just some meaningless data I made up with the theme of animals and trips to a vet.)\n\n**4.** Create a DataFrame `df` from this dictionary `data` which has the index `labels`.",
      "metadata": {
        "cell_id": "00007-5b3da58b-8452-4220-b4fb-a5b046660ff5",
        "deepnote_cell_type": "markdown"
      }
    },
    {
      "cell_type": "code",
      "metadata": {
        "collapsed": true,
        "cell_id": "00008-090e963a-58e6-4176-a1ad-10da81c65836",
        "deepnote_to_be_reexecuted": false,
        "source_hash": "d4b4a53b",
        "execution_millis": 15,
        "execution_start": 1616518630567,
        "deepnote_cell_type": "code"
      },
      "source": "import numpy as np\ndata = {'animal': ['cat', 'cat', 'snake', 'dog', 'dog', 'cat', 'snake', 'cat', 'dog', 'dog'],\n        'age': [2.5, 3, 0.5, np.nan, 5, 2, 4.5, np.nan, 7, 3],\n        'visits': [1, 3, 2, 3, 2, 3, 1, 1, 2, 1],\n        'priority': ['yes', 'yes', 'no', 'yes', 'no', 'no', 'no', 'yes', 'no', 'no']}\nlabels = ['a', 'b', 'c', 'd', 'e', 'f', 'g', 'h', 'i', 'j']\ndf=pd.DataFrame(data=data,index=labels)\n#df.index=labels\ndf",
      "outputs": [
        {
          "output_type": "execute_result",
          "execution_count": 197,
          "data": {
            "application/vnd.deepnote.dataframe.v2+json": {
              "row_count": 10,
              "column_count": 4,
              "columns": [
                {
                  "name": "animal",
                  "dtype": "object",
                  "stats": {
                    "unique_count": 3,
                    "nan_count": 0,
                    "categories": [
                      {
                        "name": "cat",
                        "count": 4
                      },
                      {
                        "name": "dog",
                        "count": 4
                      },
                      {
                        "name": "snake",
                        "count": 2
                      }
                    ]
                  }
                },
                {
                  "name": "age",
                  "dtype": "float64",
                  "stats": {
                    "unique_count": 7,
                    "nan_count": 2,
                    "min": 0.5,
                    "max": 7,
                    "histogram": [
                      {
                        "bin_start": 0.5,
                        "bin_end": 1.15,
                        "count": 1
                      },
                      {
                        "bin_start": 1.15,
                        "bin_end": 1.8,
                        "count": 0
                      },
                      {
                        "bin_start": 1.8,
                        "bin_end": 2.45,
                        "count": 1
                      },
                      {
                        "bin_start": 2.45,
                        "bin_end": 3.1,
                        "count": 3
                      },
                      {
                        "bin_start": 3.1,
                        "bin_end": 3.75,
                        "count": 0
                      },
                      {
                        "bin_start": 3.75,
                        "bin_end": 4.4,
                        "count": 0
                      },
                      {
                        "bin_start": 4.4,
                        "bin_end": 5.05,
                        "count": 2
                      },
                      {
                        "bin_start": 5.05,
                        "bin_end": 5.7,
                        "count": 0
                      },
                      {
                        "bin_start": 5.7,
                        "bin_end": 6.3500000000000005,
                        "count": 0
                      },
                      {
                        "bin_start": 6.3500000000000005,
                        "bin_end": 7,
                        "count": 1
                      }
                    ]
                  }
                },
                {
                  "name": "visits",
                  "dtype": "int64",
                  "stats": {
                    "unique_count": 3,
                    "nan_count": 0,
                    "min": 1,
                    "max": 3,
                    "histogram": [
                      {
                        "bin_start": 1,
                        "bin_end": 1.2,
                        "count": 4
                      },
                      {
                        "bin_start": 1.2,
                        "bin_end": 1.4,
                        "count": 0
                      },
                      {
                        "bin_start": 1.4,
                        "bin_end": 1.6,
                        "count": 0
                      },
                      {
                        "bin_start": 1.6,
                        "bin_end": 1.8,
                        "count": 0
                      },
                      {
                        "bin_start": 1.8,
                        "bin_end": 2,
                        "count": 0
                      },
                      {
                        "bin_start": 2,
                        "bin_end": 2.2,
                        "count": 3
                      },
                      {
                        "bin_start": 2.2,
                        "bin_end": 2.4000000000000004,
                        "count": 0
                      },
                      {
                        "bin_start": 2.4000000000000004,
                        "bin_end": 2.6,
                        "count": 0
                      },
                      {
                        "bin_start": 2.6,
                        "bin_end": 2.8,
                        "count": 0
                      },
                      {
                        "bin_start": 2.8,
                        "bin_end": 3,
                        "count": 3
                      }
                    ]
                  }
                },
                {
                  "name": "priority",
                  "dtype": "object",
                  "stats": {
                    "unique_count": 2,
                    "nan_count": 0,
                    "categories": [
                      {
                        "name": "no",
                        "count": 6
                      },
                      {
                        "name": "yes",
                        "count": 4
                      }
                    ]
                  }
                },
                {
                  "name": "_deepnote_index_column",
                  "dtype": "object"
                }
              ],
              "rows_top": [
                {
                  "animal": "cat",
                  "age": "2.5",
                  "visits": 1,
                  "priority": "yes",
                  "_deepnote_index_column": "a"
                },
                {
                  "animal": "cat",
                  "age": "3.0",
                  "visits": 3,
                  "priority": "yes",
                  "_deepnote_index_column": "b"
                },
                {
                  "animal": "snake",
                  "age": "0.5",
                  "visits": 2,
                  "priority": "no",
                  "_deepnote_index_column": "c"
                },
                {
                  "animal": "dog",
                  "age": "nan",
                  "visits": 3,
                  "priority": "yes",
                  "_deepnote_index_column": "d"
                },
                {
                  "animal": "dog",
                  "age": "5.0",
                  "visits": 2,
                  "priority": "no",
                  "_deepnote_index_column": "e"
                },
                {
                  "animal": "cat",
                  "age": "2.0",
                  "visits": 3,
                  "priority": "no",
                  "_deepnote_index_column": "f"
                },
                {
                  "animal": "snake",
                  "age": "4.5",
                  "visits": 1,
                  "priority": "no",
                  "_deepnote_index_column": "g"
                },
                {
                  "animal": "cat",
                  "age": "nan",
                  "visits": 1,
                  "priority": "yes",
                  "_deepnote_index_column": "h"
                },
                {
                  "animal": "dog",
                  "age": "7.0",
                  "visits": 2,
                  "priority": "no",
                  "_deepnote_index_column": "i"
                },
                {
                  "animal": "dog",
                  "age": "3.0",
                  "visits": 1,
                  "priority": "no",
                  "_deepnote_index_column": "j"
                }
              ],
              "rows_bottom": null
            },
            "text/plain": "  animal  age  visits priority\na    cat  2.5       1      yes\nb    cat  3.0       3      yes\nc  snake  0.5       2       no\nd    dog  NaN       3      yes\ne    dog  5.0       2       no\nf    cat  2.0       3       no\ng  snake  4.5       1       no\nh    cat  NaN       1      yes\ni    dog  7.0       2       no\nj    dog  3.0       1       no",
            "text/html": "<div>\n<style scoped>\n    .dataframe tbody tr th:only-of-type {\n        vertical-align: middle;\n    }\n\n    .dataframe tbody tr th {\n        vertical-align: top;\n    }\n\n    .dataframe thead th {\n        text-align: right;\n    }\n</style>\n<table border=\"1\" class=\"dataframe\">\n  <thead>\n    <tr style=\"text-align: right;\">\n      <th></th>\n      <th>animal</th>\n      <th>age</th>\n      <th>visits</th>\n      <th>priority</th>\n    </tr>\n  </thead>\n  <tbody>\n    <tr>\n      <th>a</th>\n      <td>cat</td>\n      <td>2.5</td>\n      <td>1</td>\n      <td>yes</td>\n    </tr>\n    <tr>\n      <th>b</th>\n      <td>cat</td>\n      <td>3.0</td>\n      <td>3</td>\n      <td>yes</td>\n    </tr>\n    <tr>\n      <th>c</th>\n      <td>snake</td>\n      <td>0.5</td>\n      <td>2</td>\n      <td>no</td>\n    </tr>\n    <tr>\n      <th>d</th>\n      <td>dog</td>\n      <td>NaN</td>\n      <td>3</td>\n      <td>yes</td>\n    </tr>\n    <tr>\n      <th>e</th>\n      <td>dog</td>\n      <td>5.0</td>\n      <td>2</td>\n      <td>no</td>\n    </tr>\n    <tr>\n      <th>f</th>\n      <td>cat</td>\n      <td>2.0</td>\n      <td>3</td>\n      <td>no</td>\n    </tr>\n    <tr>\n      <th>g</th>\n      <td>snake</td>\n      <td>4.5</td>\n      <td>1</td>\n      <td>no</td>\n    </tr>\n    <tr>\n      <th>h</th>\n      <td>cat</td>\n      <td>NaN</td>\n      <td>1</td>\n      <td>yes</td>\n    </tr>\n    <tr>\n      <th>i</th>\n      <td>dog</td>\n      <td>7.0</td>\n      <td>2</td>\n      <td>no</td>\n    </tr>\n    <tr>\n      <th>j</th>\n      <td>dog</td>\n      <td>3.0</td>\n      <td>1</td>\n      <td>no</td>\n    </tr>\n  </tbody>\n</table>\n</div>"
          },
          "metadata": {}
        }
      ],
      "execution_count": null
    },
    {
      "cell_type": "markdown",
      "source": "**5.** Display a summary of the basic information about this DataFrame and its data.",
      "metadata": {
        "cell_id": "00009-b83253fe-d4eb-4ef9-9684-d2df64299c03",
        "deepnote_cell_type": "markdown"
      }
    },
    {
      "cell_type": "code",
      "metadata": {
        "collapsed": true,
        "cell_id": "00010-8b9cdfe3-a158-4e4c-9df4-f51943c92484",
        "deepnote_to_be_reexecuted": false,
        "source_hash": "68492a66",
        "execution_millis": 19,
        "execution_start": 1616503774015,
        "deepnote_cell_type": "code"
      },
      "source": "print(df.describe())\nprint(df.info())",
      "outputs": [
        {
          "name": "stdout",
          "text": "            age     visits\ncount  8.000000  10.000000\nmean   3.437500   1.900000\nstd    2.007797   0.875595\nmin    0.500000   1.000000\n25%    2.375000   1.000000\n50%    3.000000   2.000000\n75%    4.625000   2.750000\nmax    7.000000   3.000000\n<class 'pandas.core.frame.DataFrame'>\nIndex: 10 entries, a to j\nData columns (total 4 columns):\n #   Column    Non-Null Count  Dtype  \n---  ------    --------------  -----  \n 0   animal    10 non-null     object \n 1   age       8 non-null      float64\n 2   visits    10 non-null     int64  \n 3   priority  10 non-null     object \ndtypes: float64(1), int64(1), object(2)\nmemory usage: 400.0+ bytes\nNone\n",
          "output_type": "stream"
        }
      ],
      "execution_count": null
    },
    {
      "cell_type": "markdown",
      "source": "**6.** Return the first 3 rows of the DataFrame `df`.",
      "metadata": {
        "cell_id": "00011-5cf0f6a7-2372-4537-97c8-b78fce38ad6e",
        "deepnote_cell_type": "markdown"
      }
    },
    {
      "cell_type": "code",
      "metadata": {
        "collapsed": true,
        "cell_id": "00012-57b19e35-2fd3-4808-8c80-85570ea2e56b",
        "deepnote_to_be_reexecuted": false,
        "source_hash": "c585258e",
        "execution_millis": 21,
        "execution_start": 1616503777135,
        "deepnote_cell_type": "code"
      },
      "source": "df.iloc[0:3]",
      "outputs": [
        {
          "output_type": "execute_result",
          "execution_count": 8,
          "data": {
            "application/vnd.deepnote.dataframe.v2+json": {
              "row_count": 3,
              "column_count": 4,
              "columns": [
                {
                  "name": "animal",
                  "dtype": "object",
                  "stats": {
                    "unique_count": 2,
                    "nan_count": 0,
                    "categories": [
                      {
                        "name": "cat",
                        "count": 2
                      },
                      {
                        "name": "snake",
                        "count": 1
                      }
                    ]
                  }
                },
                {
                  "name": "age",
                  "dtype": "float64",
                  "stats": {
                    "unique_count": 3,
                    "nan_count": 0,
                    "min": 0.5,
                    "max": 3,
                    "histogram": [
                      {
                        "bin_start": 0.5,
                        "bin_end": 0.75,
                        "count": 1
                      },
                      {
                        "bin_start": 0.75,
                        "bin_end": 1,
                        "count": 0
                      },
                      {
                        "bin_start": 1,
                        "bin_end": 1.25,
                        "count": 0
                      },
                      {
                        "bin_start": 1.25,
                        "bin_end": 1.5,
                        "count": 0
                      },
                      {
                        "bin_start": 1.5,
                        "bin_end": 1.75,
                        "count": 0
                      },
                      {
                        "bin_start": 1.75,
                        "bin_end": 2,
                        "count": 0
                      },
                      {
                        "bin_start": 2,
                        "bin_end": 2.25,
                        "count": 0
                      },
                      {
                        "bin_start": 2.25,
                        "bin_end": 2.5,
                        "count": 0
                      },
                      {
                        "bin_start": 2.5,
                        "bin_end": 2.75,
                        "count": 1
                      },
                      {
                        "bin_start": 2.75,
                        "bin_end": 3,
                        "count": 1
                      }
                    ]
                  }
                },
                {
                  "name": "visits",
                  "dtype": "int64",
                  "stats": {
                    "unique_count": 3,
                    "nan_count": 0,
                    "min": 1,
                    "max": 3,
                    "histogram": [
                      {
                        "bin_start": 1,
                        "bin_end": 1.2,
                        "count": 1
                      },
                      {
                        "bin_start": 1.2,
                        "bin_end": 1.4,
                        "count": 0
                      },
                      {
                        "bin_start": 1.4,
                        "bin_end": 1.6,
                        "count": 0
                      },
                      {
                        "bin_start": 1.6,
                        "bin_end": 1.8,
                        "count": 0
                      },
                      {
                        "bin_start": 1.8,
                        "bin_end": 2,
                        "count": 0
                      },
                      {
                        "bin_start": 2,
                        "bin_end": 2.2,
                        "count": 1
                      },
                      {
                        "bin_start": 2.2,
                        "bin_end": 2.4000000000000004,
                        "count": 0
                      },
                      {
                        "bin_start": 2.4000000000000004,
                        "bin_end": 2.6,
                        "count": 0
                      },
                      {
                        "bin_start": 2.6,
                        "bin_end": 2.8,
                        "count": 0
                      },
                      {
                        "bin_start": 2.8,
                        "bin_end": 3,
                        "count": 1
                      }
                    ]
                  }
                },
                {
                  "name": "priority",
                  "dtype": "object",
                  "stats": {
                    "unique_count": 2,
                    "nan_count": 0,
                    "categories": [
                      {
                        "name": "yes",
                        "count": 2
                      },
                      {
                        "name": "no",
                        "count": 1
                      }
                    ]
                  }
                },
                {
                  "name": "_deepnote_index_column",
                  "dtype": "object"
                }
              ],
              "rows_top": [
                {
                  "animal": "cat",
                  "age": 2.5,
                  "visits": 1,
                  "priority": "yes",
                  "_deepnote_index_column": "a"
                },
                {
                  "animal": "cat",
                  "age": 3,
                  "visits": 3,
                  "priority": "yes",
                  "_deepnote_index_column": "b"
                },
                {
                  "animal": "snake",
                  "age": 0.5,
                  "visits": 2,
                  "priority": "no",
                  "_deepnote_index_column": "c"
                }
              ],
              "rows_bottom": null
            },
            "text/plain": "  animal  age  visits priority\na    cat  2.5       1      yes\nb    cat  3.0       3      yes\nc  snake  0.5       2       no",
            "text/html": "<div>\n<style scoped>\n    .dataframe tbody tr th:only-of-type {\n        vertical-align: middle;\n    }\n\n    .dataframe tbody tr th {\n        vertical-align: top;\n    }\n\n    .dataframe thead th {\n        text-align: right;\n    }\n</style>\n<table border=\"1\" class=\"dataframe\">\n  <thead>\n    <tr style=\"text-align: right;\">\n      <th></th>\n      <th>animal</th>\n      <th>age</th>\n      <th>visits</th>\n      <th>priority</th>\n    </tr>\n  </thead>\n  <tbody>\n    <tr>\n      <th>a</th>\n      <td>cat</td>\n      <td>2.5</td>\n      <td>1</td>\n      <td>yes</td>\n    </tr>\n    <tr>\n      <th>b</th>\n      <td>cat</td>\n      <td>3.0</td>\n      <td>3</td>\n      <td>yes</td>\n    </tr>\n    <tr>\n      <th>c</th>\n      <td>snake</td>\n      <td>0.5</td>\n      <td>2</td>\n      <td>no</td>\n    </tr>\n  </tbody>\n</table>\n</div>"
          },
          "metadata": {}
        }
      ],
      "execution_count": null
    },
    {
      "cell_type": "markdown",
      "source": "**7.** Select just the 'animal' and 'age' columns from the DataFrame `df`.",
      "metadata": {
        "cell_id": "00013-475bd46d-cfb4-4c3a-86c2-2ec88452e54f",
        "deepnote_cell_type": "markdown"
      }
    },
    {
      "cell_type": "code",
      "metadata": {
        "collapsed": true,
        "cell_id": "00014-5f276e33-93b4-4d6a-886b-98e7998ee7e4",
        "deepnote_to_be_reexecuted": false,
        "source_hash": "58524731",
        "execution_millis": 9,
        "execution_start": 1616503783110,
        "deepnote_cell_type": "code"
      },
      "source": "df.loc[:,['animal','age']]",
      "outputs": [
        {
          "output_type": "execute_result",
          "execution_count": 9,
          "data": {
            "application/vnd.deepnote.dataframe.v2+json": {
              "row_count": 10,
              "column_count": 2,
              "columns": [
                {
                  "name": "animal",
                  "dtype": "object",
                  "stats": {
                    "unique_count": 3,
                    "nan_count": 0,
                    "categories": [
                      {
                        "name": "cat",
                        "count": 4
                      },
                      {
                        "name": "dog",
                        "count": 4
                      },
                      {
                        "name": "snake",
                        "count": 2
                      }
                    ]
                  }
                },
                {
                  "name": "age",
                  "dtype": "float64",
                  "stats": {
                    "unique_count": 7,
                    "nan_count": 2,
                    "min": 0.5,
                    "max": 7,
                    "histogram": [
                      {
                        "bin_start": 0.5,
                        "bin_end": 1.15,
                        "count": 1
                      },
                      {
                        "bin_start": 1.15,
                        "bin_end": 1.8,
                        "count": 0
                      },
                      {
                        "bin_start": 1.8,
                        "bin_end": 2.45,
                        "count": 1
                      },
                      {
                        "bin_start": 2.45,
                        "bin_end": 3.1,
                        "count": 3
                      },
                      {
                        "bin_start": 3.1,
                        "bin_end": 3.75,
                        "count": 0
                      },
                      {
                        "bin_start": 3.75,
                        "bin_end": 4.4,
                        "count": 0
                      },
                      {
                        "bin_start": 4.4,
                        "bin_end": 5.05,
                        "count": 2
                      },
                      {
                        "bin_start": 5.05,
                        "bin_end": 5.7,
                        "count": 0
                      },
                      {
                        "bin_start": 5.7,
                        "bin_end": 6.3500000000000005,
                        "count": 0
                      },
                      {
                        "bin_start": 6.3500000000000005,
                        "bin_end": 7,
                        "count": 1
                      }
                    ]
                  }
                },
                {
                  "name": "_deepnote_index_column",
                  "dtype": "object"
                }
              ],
              "rows_top": [
                {
                  "animal": "cat",
                  "age": "2.5",
                  "_deepnote_index_column": "a"
                },
                {
                  "animal": "cat",
                  "age": "3.0",
                  "_deepnote_index_column": "b"
                },
                {
                  "animal": "snake",
                  "age": "0.5",
                  "_deepnote_index_column": "c"
                },
                {
                  "animal": "dog",
                  "age": "nan",
                  "_deepnote_index_column": "d"
                },
                {
                  "animal": "dog",
                  "age": "5.0",
                  "_deepnote_index_column": "e"
                },
                {
                  "animal": "cat",
                  "age": "2.0",
                  "_deepnote_index_column": "f"
                },
                {
                  "animal": "snake",
                  "age": "4.5",
                  "_deepnote_index_column": "g"
                },
                {
                  "animal": "cat",
                  "age": "nan",
                  "_deepnote_index_column": "h"
                },
                {
                  "animal": "dog",
                  "age": "7.0",
                  "_deepnote_index_column": "i"
                },
                {
                  "animal": "dog",
                  "age": "3.0",
                  "_deepnote_index_column": "j"
                }
              ],
              "rows_bottom": null
            },
            "text/plain": "  animal  age\na    cat  2.5\nb    cat  3.0\nc  snake  0.5\nd    dog  NaN\ne    dog  5.0\nf    cat  2.0\ng  snake  4.5\nh    cat  NaN\ni    dog  7.0\nj    dog  3.0",
            "text/html": "<div>\n<style scoped>\n    .dataframe tbody tr th:only-of-type {\n        vertical-align: middle;\n    }\n\n    .dataframe tbody tr th {\n        vertical-align: top;\n    }\n\n    .dataframe thead th {\n        text-align: right;\n    }\n</style>\n<table border=\"1\" class=\"dataframe\">\n  <thead>\n    <tr style=\"text-align: right;\">\n      <th></th>\n      <th>animal</th>\n      <th>age</th>\n    </tr>\n  </thead>\n  <tbody>\n    <tr>\n      <th>a</th>\n      <td>cat</td>\n      <td>2.5</td>\n    </tr>\n    <tr>\n      <th>b</th>\n      <td>cat</td>\n      <td>3.0</td>\n    </tr>\n    <tr>\n      <th>c</th>\n      <td>snake</td>\n      <td>0.5</td>\n    </tr>\n    <tr>\n      <th>d</th>\n      <td>dog</td>\n      <td>NaN</td>\n    </tr>\n    <tr>\n      <th>e</th>\n      <td>dog</td>\n      <td>5.0</td>\n    </tr>\n    <tr>\n      <th>f</th>\n      <td>cat</td>\n      <td>2.0</td>\n    </tr>\n    <tr>\n      <th>g</th>\n      <td>snake</td>\n      <td>4.5</td>\n    </tr>\n    <tr>\n      <th>h</th>\n      <td>cat</td>\n      <td>NaN</td>\n    </tr>\n    <tr>\n      <th>i</th>\n      <td>dog</td>\n      <td>7.0</td>\n    </tr>\n    <tr>\n      <th>j</th>\n      <td>dog</td>\n      <td>3.0</td>\n    </tr>\n  </tbody>\n</table>\n</div>"
          },
          "metadata": {}
        }
      ],
      "execution_count": null
    },
    {
      "cell_type": "markdown",
      "source": "**8.** Select the data in rows `[3, 4, 8]` *and* in columns `['animal', 'age']`.",
      "metadata": {
        "cell_id": "00015-d1be3a3c-b136-4740-9437-fc4cbb98f554",
        "deepnote_cell_type": "markdown"
      }
    },
    {
      "cell_type": "code",
      "metadata": {
        "collapsed": true,
        "cell_id": "00016-79881d13-f29b-4914-aab6-8ab184ec8cbb",
        "deepnote_to_be_reexecuted": false,
        "source_hash": "d7fd9f7f",
        "execution_millis": 29,
        "execution_start": 1616503785240,
        "deepnote_cell_type": "code"
      },
      "source": "df.iloc[2:4,0:2]+df.iloc[8:9,0:2]",
      "outputs": [
        {
          "output_type": "execute_result",
          "execution_count": 10,
          "data": {
            "application/vnd.deepnote.dataframe.v2+json": {
              "row_count": 3,
              "column_count": 2,
              "columns": [
                {
                  "name": "animal",
                  "dtype": "object",
                  "stats": {
                    "unique_count": 0,
                    "nan_count": 3,
                    "categories": [
                      {
                        "name": "Missing",
                        "count": 3
                      }
                    ]
                  }
                },
                {
                  "name": "age",
                  "dtype": "float64",
                  "stats": {
                    "unique_count": 0,
                    "nan_count": 3,
                    "min": null,
                    "max": null,
                    "histogram": [
                      {
                        "bin_start": 0,
                        "bin_end": 0.1,
                        "count": 0
                      },
                      {
                        "bin_start": 0.1,
                        "bin_end": 0.2,
                        "count": 0
                      },
                      {
                        "bin_start": 0.2,
                        "bin_end": 0.30000000000000004,
                        "count": 0
                      },
                      {
                        "bin_start": 0.30000000000000004,
                        "bin_end": 0.4,
                        "count": 0
                      },
                      {
                        "bin_start": 0.4,
                        "bin_end": 0.5,
                        "count": 0
                      },
                      {
                        "bin_start": 0.5,
                        "bin_end": 0.6000000000000001,
                        "count": 0
                      },
                      {
                        "bin_start": 0.6000000000000001,
                        "bin_end": 0.7000000000000001,
                        "count": 0
                      },
                      {
                        "bin_start": 0.7000000000000001,
                        "bin_end": 0.8,
                        "count": 0
                      },
                      {
                        "bin_start": 0.8,
                        "bin_end": 0.9,
                        "count": 0
                      },
                      {
                        "bin_start": 0.9,
                        "bin_end": 1,
                        "count": 0
                      }
                    ]
                  }
                },
                {
                  "name": "_deepnote_index_column",
                  "dtype": "object"
                }
              ],
              "rows_top": [
                {
                  "animal": "nan",
                  "age": "nan",
                  "_deepnote_index_column": "c"
                },
                {
                  "animal": "nan",
                  "age": "nan",
                  "_deepnote_index_column": "d"
                },
                {
                  "animal": "nan",
                  "age": "nan",
                  "_deepnote_index_column": "i"
                }
              ],
              "rows_bottom": null
            },
            "text/plain": "  animal  age\nc    NaN  NaN\nd    NaN  NaN\ni    NaN  NaN",
            "text/html": "<div>\n<style scoped>\n    .dataframe tbody tr th:only-of-type {\n        vertical-align: middle;\n    }\n\n    .dataframe tbody tr th {\n        vertical-align: top;\n    }\n\n    .dataframe thead th {\n        text-align: right;\n    }\n</style>\n<table border=\"1\" class=\"dataframe\">\n  <thead>\n    <tr style=\"text-align: right;\">\n      <th></th>\n      <th>animal</th>\n      <th>age</th>\n    </tr>\n  </thead>\n  <tbody>\n    <tr>\n      <th>c</th>\n      <td>NaN</td>\n      <td>NaN</td>\n    </tr>\n    <tr>\n      <th>d</th>\n      <td>NaN</td>\n      <td>NaN</td>\n    </tr>\n    <tr>\n      <th>i</th>\n      <td>NaN</td>\n      <td>NaN</td>\n    </tr>\n  </tbody>\n</table>\n</div>"
          },
          "metadata": {}
        }
      ],
      "execution_count": null
    },
    {
      "cell_type": "markdown",
      "source": "**9.** Select only the rows where the number of visits is greater than 2.",
      "metadata": {
        "cell_id": "00017-b3e5c36d-c3be-4b6a-9823-3ca2091da19c",
        "deepnote_cell_type": "markdown"
      }
    },
    {
      "cell_type": "code",
      "metadata": {
        "collapsed": true,
        "cell_id": "00018-bfa7b87d-0cb1-4b5e-bd05-d09c3a5e7e9a",
        "deepnote_to_be_reexecuted": false,
        "source_hash": "49a7b37",
        "execution_millis": 31,
        "execution_start": 1616503790417,
        "deepnote_cell_type": "code"
      },
      "source": "df.loc[df['visits']>2]",
      "outputs": [
        {
          "output_type": "execute_result",
          "execution_count": 11,
          "data": {
            "application/vnd.deepnote.dataframe.v2+json": {
              "row_count": 3,
              "column_count": 4,
              "columns": [
                {
                  "name": "animal",
                  "dtype": "object",
                  "stats": {
                    "unique_count": 2,
                    "nan_count": 0,
                    "categories": [
                      {
                        "name": "cat",
                        "count": 2
                      },
                      {
                        "name": "dog",
                        "count": 1
                      }
                    ]
                  }
                },
                {
                  "name": "age",
                  "dtype": "float64",
                  "stats": {
                    "unique_count": 2,
                    "nan_count": 1,
                    "min": 2,
                    "max": 3,
                    "histogram": [
                      {
                        "bin_start": 2,
                        "bin_end": 2.1,
                        "count": 1
                      },
                      {
                        "bin_start": 2.1,
                        "bin_end": 2.2,
                        "count": 0
                      },
                      {
                        "bin_start": 2.2,
                        "bin_end": 2.3,
                        "count": 0
                      },
                      {
                        "bin_start": 2.3,
                        "bin_end": 2.4,
                        "count": 0
                      },
                      {
                        "bin_start": 2.4,
                        "bin_end": 2.5,
                        "count": 0
                      },
                      {
                        "bin_start": 2.5,
                        "bin_end": 2.6,
                        "count": 0
                      },
                      {
                        "bin_start": 2.6,
                        "bin_end": 2.7,
                        "count": 0
                      },
                      {
                        "bin_start": 2.7,
                        "bin_end": 2.8,
                        "count": 0
                      },
                      {
                        "bin_start": 2.8,
                        "bin_end": 2.9,
                        "count": 0
                      },
                      {
                        "bin_start": 2.9,
                        "bin_end": 3,
                        "count": 1
                      }
                    ]
                  }
                },
                {
                  "name": "visits",
                  "dtype": "int64",
                  "stats": {
                    "unique_count": 1,
                    "nan_count": 0,
                    "min": 3,
                    "max": 3,
                    "histogram": [
                      {
                        "bin_start": 2.5,
                        "bin_end": 2.6,
                        "count": 0
                      },
                      {
                        "bin_start": 2.6,
                        "bin_end": 2.7,
                        "count": 0
                      },
                      {
                        "bin_start": 2.7,
                        "bin_end": 2.8,
                        "count": 0
                      },
                      {
                        "bin_start": 2.8,
                        "bin_end": 2.9,
                        "count": 0
                      },
                      {
                        "bin_start": 2.9,
                        "bin_end": 3,
                        "count": 0
                      },
                      {
                        "bin_start": 3,
                        "bin_end": 3.1,
                        "count": 3
                      },
                      {
                        "bin_start": 3.1,
                        "bin_end": 3.2,
                        "count": 0
                      },
                      {
                        "bin_start": 3.2,
                        "bin_end": 3.3,
                        "count": 0
                      },
                      {
                        "bin_start": 3.3,
                        "bin_end": 3.4,
                        "count": 0
                      },
                      {
                        "bin_start": 3.4,
                        "bin_end": 3.5,
                        "count": 0
                      }
                    ]
                  }
                },
                {
                  "name": "priority",
                  "dtype": "object",
                  "stats": {
                    "unique_count": 2,
                    "nan_count": 0,
                    "categories": [
                      {
                        "name": "yes",
                        "count": 2
                      },
                      {
                        "name": "no",
                        "count": 1
                      }
                    ]
                  }
                },
                {
                  "name": "_deepnote_index_column",
                  "dtype": "object"
                }
              ],
              "rows_top": [
                {
                  "animal": "cat",
                  "age": "3.0",
                  "visits": 3,
                  "priority": "yes",
                  "_deepnote_index_column": "b"
                },
                {
                  "animal": "dog",
                  "age": "nan",
                  "visits": 3,
                  "priority": "yes",
                  "_deepnote_index_column": "d"
                },
                {
                  "animal": "cat",
                  "age": "2.0",
                  "visits": 3,
                  "priority": "no",
                  "_deepnote_index_column": "f"
                }
              ],
              "rows_bottom": null
            },
            "text/plain": "  animal  age  visits priority\nb    cat  3.0       3      yes\nd    dog  NaN       3      yes\nf    cat  2.0       3       no",
            "text/html": "<div>\n<style scoped>\n    .dataframe tbody tr th:only-of-type {\n        vertical-align: middle;\n    }\n\n    .dataframe tbody tr th {\n        vertical-align: top;\n    }\n\n    .dataframe thead th {\n        text-align: right;\n    }\n</style>\n<table border=\"1\" class=\"dataframe\">\n  <thead>\n    <tr style=\"text-align: right;\">\n      <th></th>\n      <th>animal</th>\n      <th>age</th>\n      <th>visits</th>\n      <th>priority</th>\n    </tr>\n  </thead>\n  <tbody>\n    <tr>\n      <th>b</th>\n      <td>cat</td>\n      <td>3.0</td>\n      <td>3</td>\n      <td>yes</td>\n    </tr>\n    <tr>\n      <th>d</th>\n      <td>dog</td>\n      <td>NaN</td>\n      <td>3</td>\n      <td>yes</td>\n    </tr>\n    <tr>\n      <th>f</th>\n      <td>cat</td>\n      <td>2.0</td>\n      <td>3</td>\n      <td>no</td>\n    </tr>\n  </tbody>\n</table>\n</div>"
          },
          "metadata": {}
        }
      ],
      "execution_count": null
    },
    {
      "cell_type": "markdown",
      "source": "**10.** Select the rows where the age is missing, i.e. is `NaN`.",
      "metadata": {
        "cell_id": "00019-46811f55-b174-4212-86a6-636f1c808b44",
        "deepnote_cell_type": "markdown"
      }
    },
    {
      "cell_type": "code",
      "metadata": {
        "collapsed": true,
        "cell_id": "00020-0635b6df-b33e-4f33-bfa6-5b946ef764b8",
        "deepnote_to_be_reexecuted": false,
        "source_hash": "6ba8d0a0",
        "execution_millis": 18,
        "execution_start": 1616503792572,
        "deepnote_cell_type": "code"
      },
      "source": "df.loc[df['age'].isnull()]",
      "outputs": [
        {
          "output_type": "execute_result",
          "execution_count": 12,
          "data": {
            "application/vnd.deepnote.dataframe.v2+json": {
              "row_count": 2,
              "column_count": 4,
              "columns": [
                {
                  "name": "animal",
                  "dtype": "object",
                  "stats": {
                    "unique_count": 2,
                    "nan_count": 0,
                    "categories": [
                      {
                        "name": "dog",
                        "count": 1
                      },
                      {
                        "name": "cat",
                        "count": 1
                      }
                    ]
                  }
                },
                {
                  "name": "age",
                  "dtype": "float64",
                  "stats": {
                    "unique_count": 0,
                    "nan_count": 2,
                    "min": null,
                    "max": null,
                    "histogram": [
                      {
                        "bin_start": 0,
                        "bin_end": 0.1,
                        "count": 0
                      },
                      {
                        "bin_start": 0.1,
                        "bin_end": 0.2,
                        "count": 0
                      },
                      {
                        "bin_start": 0.2,
                        "bin_end": 0.30000000000000004,
                        "count": 0
                      },
                      {
                        "bin_start": 0.30000000000000004,
                        "bin_end": 0.4,
                        "count": 0
                      },
                      {
                        "bin_start": 0.4,
                        "bin_end": 0.5,
                        "count": 0
                      },
                      {
                        "bin_start": 0.5,
                        "bin_end": 0.6000000000000001,
                        "count": 0
                      },
                      {
                        "bin_start": 0.6000000000000001,
                        "bin_end": 0.7000000000000001,
                        "count": 0
                      },
                      {
                        "bin_start": 0.7000000000000001,
                        "bin_end": 0.8,
                        "count": 0
                      },
                      {
                        "bin_start": 0.8,
                        "bin_end": 0.9,
                        "count": 0
                      },
                      {
                        "bin_start": 0.9,
                        "bin_end": 1,
                        "count": 0
                      }
                    ]
                  }
                },
                {
                  "name": "visits",
                  "dtype": "int64",
                  "stats": {
                    "unique_count": 2,
                    "nan_count": 0,
                    "min": 1,
                    "max": 3,
                    "histogram": [
                      {
                        "bin_start": 1,
                        "bin_end": 1.2,
                        "count": 1
                      },
                      {
                        "bin_start": 1.2,
                        "bin_end": 1.4,
                        "count": 0
                      },
                      {
                        "bin_start": 1.4,
                        "bin_end": 1.6,
                        "count": 0
                      },
                      {
                        "bin_start": 1.6,
                        "bin_end": 1.8,
                        "count": 0
                      },
                      {
                        "bin_start": 1.8,
                        "bin_end": 2,
                        "count": 0
                      },
                      {
                        "bin_start": 2,
                        "bin_end": 2.2,
                        "count": 0
                      },
                      {
                        "bin_start": 2.2,
                        "bin_end": 2.4000000000000004,
                        "count": 0
                      },
                      {
                        "bin_start": 2.4000000000000004,
                        "bin_end": 2.6,
                        "count": 0
                      },
                      {
                        "bin_start": 2.6,
                        "bin_end": 2.8,
                        "count": 0
                      },
                      {
                        "bin_start": 2.8,
                        "bin_end": 3,
                        "count": 1
                      }
                    ]
                  }
                },
                {
                  "name": "priority",
                  "dtype": "object",
                  "stats": {
                    "unique_count": 1,
                    "nan_count": 0,
                    "categories": [
                      {
                        "name": "yes",
                        "count": 2
                      }
                    ]
                  }
                },
                {
                  "name": "_deepnote_index_column",
                  "dtype": "object"
                }
              ],
              "rows_top": [
                {
                  "animal": "dog",
                  "age": "nan",
                  "visits": 3,
                  "priority": "yes",
                  "_deepnote_index_column": "d"
                },
                {
                  "animal": "cat",
                  "age": "nan",
                  "visits": 1,
                  "priority": "yes",
                  "_deepnote_index_column": "h"
                }
              ],
              "rows_bottom": null
            },
            "text/plain": "  animal  age  visits priority\nd    dog  NaN       3      yes\nh    cat  NaN       1      yes",
            "text/html": "<div>\n<style scoped>\n    .dataframe tbody tr th:only-of-type {\n        vertical-align: middle;\n    }\n\n    .dataframe tbody tr th {\n        vertical-align: top;\n    }\n\n    .dataframe thead th {\n        text-align: right;\n    }\n</style>\n<table border=\"1\" class=\"dataframe\">\n  <thead>\n    <tr style=\"text-align: right;\">\n      <th></th>\n      <th>animal</th>\n      <th>age</th>\n      <th>visits</th>\n      <th>priority</th>\n    </tr>\n  </thead>\n  <tbody>\n    <tr>\n      <th>d</th>\n      <td>dog</td>\n      <td>NaN</td>\n      <td>3</td>\n      <td>yes</td>\n    </tr>\n    <tr>\n      <th>h</th>\n      <td>cat</td>\n      <td>NaN</td>\n      <td>1</td>\n      <td>yes</td>\n    </tr>\n  </tbody>\n</table>\n</div>"
          },
          "metadata": {}
        }
      ],
      "execution_count": null
    },
    {
      "cell_type": "markdown",
      "source": "**11.** Select the rows where the animal is a cat *and* the age is less than 3.",
      "metadata": {
        "cell_id": "00021-461ae60f-7876-435e-8fbb-b50b1f662470",
        "deepnote_cell_type": "markdown"
      }
    },
    {
      "cell_type": "code",
      "metadata": {
        "collapsed": true,
        "cell_id": "00022-94533121-6fae-4633-ba24-5c824282c0a0",
        "deepnote_to_be_reexecuted": false,
        "source_hash": "c05bbd4c",
        "execution_millis": 41,
        "execution_start": 1616503795067,
        "deepnote_cell_type": "code"
      },
      "source": "df.loc[(df['animal']=='cat') & (df['age']<3)]",
      "outputs": [
        {
          "output_type": "execute_result",
          "execution_count": 13,
          "data": {
            "application/vnd.deepnote.dataframe.v2+json": {
              "row_count": 2,
              "column_count": 4,
              "columns": [
                {
                  "name": "animal",
                  "dtype": "object",
                  "stats": {
                    "unique_count": 1,
                    "nan_count": 0,
                    "categories": [
                      {
                        "name": "cat",
                        "count": 2
                      }
                    ]
                  }
                },
                {
                  "name": "age",
                  "dtype": "float64",
                  "stats": {
                    "unique_count": 2,
                    "nan_count": 0,
                    "min": 2,
                    "max": 2.5,
                    "histogram": [
                      {
                        "bin_start": 2,
                        "bin_end": 2.05,
                        "count": 1
                      },
                      {
                        "bin_start": 2.05,
                        "bin_end": 2.1,
                        "count": 0
                      },
                      {
                        "bin_start": 2.1,
                        "bin_end": 2.15,
                        "count": 0
                      },
                      {
                        "bin_start": 2.15,
                        "bin_end": 2.2,
                        "count": 0
                      },
                      {
                        "bin_start": 2.2,
                        "bin_end": 2.25,
                        "count": 0
                      },
                      {
                        "bin_start": 2.25,
                        "bin_end": 2.3,
                        "count": 0
                      },
                      {
                        "bin_start": 2.3,
                        "bin_end": 2.35,
                        "count": 0
                      },
                      {
                        "bin_start": 2.35,
                        "bin_end": 2.4,
                        "count": 0
                      },
                      {
                        "bin_start": 2.4,
                        "bin_end": 2.45,
                        "count": 0
                      },
                      {
                        "bin_start": 2.45,
                        "bin_end": 2.5,
                        "count": 1
                      }
                    ]
                  }
                },
                {
                  "name": "visits",
                  "dtype": "int64",
                  "stats": {
                    "unique_count": 2,
                    "nan_count": 0,
                    "min": 1,
                    "max": 3,
                    "histogram": [
                      {
                        "bin_start": 1,
                        "bin_end": 1.2,
                        "count": 1
                      },
                      {
                        "bin_start": 1.2,
                        "bin_end": 1.4,
                        "count": 0
                      },
                      {
                        "bin_start": 1.4,
                        "bin_end": 1.6,
                        "count": 0
                      },
                      {
                        "bin_start": 1.6,
                        "bin_end": 1.8,
                        "count": 0
                      },
                      {
                        "bin_start": 1.8,
                        "bin_end": 2,
                        "count": 0
                      },
                      {
                        "bin_start": 2,
                        "bin_end": 2.2,
                        "count": 0
                      },
                      {
                        "bin_start": 2.2,
                        "bin_end": 2.4000000000000004,
                        "count": 0
                      },
                      {
                        "bin_start": 2.4000000000000004,
                        "bin_end": 2.6,
                        "count": 0
                      },
                      {
                        "bin_start": 2.6,
                        "bin_end": 2.8,
                        "count": 0
                      },
                      {
                        "bin_start": 2.8,
                        "bin_end": 3,
                        "count": 1
                      }
                    ]
                  }
                },
                {
                  "name": "priority",
                  "dtype": "object",
                  "stats": {
                    "unique_count": 2,
                    "nan_count": 0,
                    "categories": [
                      {
                        "name": "yes",
                        "count": 1
                      },
                      {
                        "name": "no",
                        "count": 1
                      }
                    ]
                  }
                },
                {
                  "name": "_deepnote_index_column",
                  "dtype": "object"
                }
              ],
              "rows_top": [
                {
                  "animal": "cat",
                  "age": 2.5,
                  "visits": 1,
                  "priority": "yes",
                  "_deepnote_index_column": "a"
                },
                {
                  "animal": "cat",
                  "age": 2,
                  "visits": 3,
                  "priority": "no",
                  "_deepnote_index_column": "f"
                }
              ],
              "rows_bottom": null
            },
            "text/plain": "  animal  age  visits priority\na    cat  2.5       1      yes\nf    cat  2.0       3       no",
            "text/html": "<div>\n<style scoped>\n    .dataframe tbody tr th:only-of-type {\n        vertical-align: middle;\n    }\n\n    .dataframe tbody tr th {\n        vertical-align: top;\n    }\n\n    .dataframe thead th {\n        text-align: right;\n    }\n</style>\n<table border=\"1\" class=\"dataframe\">\n  <thead>\n    <tr style=\"text-align: right;\">\n      <th></th>\n      <th>animal</th>\n      <th>age</th>\n      <th>visits</th>\n      <th>priority</th>\n    </tr>\n  </thead>\n  <tbody>\n    <tr>\n      <th>a</th>\n      <td>cat</td>\n      <td>2.5</td>\n      <td>1</td>\n      <td>yes</td>\n    </tr>\n    <tr>\n      <th>f</th>\n      <td>cat</td>\n      <td>2.0</td>\n      <td>3</td>\n      <td>no</td>\n    </tr>\n  </tbody>\n</table>\n</div>"
          },
          "metadata": {}
        }
      ],
      "execution_count": null
    },
    {
      "cell_type": "markdown",
      "source": "**12.** Select the rows the age is between 2 and 4 (inclusive).",
      "metadata": {
        "cell_id": "00023-3e26cdb2-67c2-4150-a52c-ee47182cab0e",
        "deepnote_cell_type": "markdown"
      }
    },
    {
      "cell_type": "code",
      "metadata": {
        "collapsed": true,
        "cell_id": "00024-f4924e82-0a5c-4431-9132-ba867e6aaf0c",
        "deepnote_to_be_reexecuted": false,
        "source_hash": "8cf4a289",
        "execution_millis": 8,
        "execution_start": 1616503800598,
        "deepnote_cell_type": "code"
      },
      "source": "df.loc[(df['age']<=4) & (2<=df['age'])]",
      "outputs": [
        {
          "output_type": "execute_result",
          "execution_count": 14,
          "data": {
            "application/vnd.deepnote.dataframe.v2+json": {
              "row_count": 4,
              "column_count": 4,
              "columns": [
                {
                  "name": "animal",
                  "dtype": "object",
                  "stats": {
                    "unique_count": 2,
                    "nan_count": 0,
                    "categories": [
                      {
                        "name": "cat",
                        "count": 3
                      },
                      {
                        "name": "dog",
                        "count": 1
                      }
                    ]
                  }
                },
                {
                  "name": "age",
                  "dtype": "float64",
                  "stats": {
                    "unique_count": 3,
                    "nan_count": 0,
                    "min": 2,
                    "max": 3,
                    "histogram": [
                      {
                        "bin_start": 2,
                        "bin_end": 2.1,
                        "count": 1
                      },
                      {
                        "bin_start": 2.1,
                        "bin_end": 2.2,
                        "count": 0
                      },
                      {
                        "bin_start": 2.2,
                        "bin_end": 2.3,
                        "count": 0
                      },
                      {
                        "bin_start": 2.3,
                        "bin_end": 2.4,
                        "count": 0
                      },
                      {
                        "bin_start": 2.4,
                        "bin_end": 2.5,
                        "count": 0
                      },
                      {
                        "bin_start": 2.5,
                        "bin_end": 2.6,
                        "count": 1
                      },
                      {
                        "bin_start": 2.6,
                        "bin_end": 2.7,
                        "count": 0
                      },
                      {
                        "bin_start": 2.7,
                        "bin_end": 2.8,
                        "count": 0
                      },
                      {
                        "bin_start": 2.8,
                        "bin_end": 2.9,
                        "count": 0
                      },
                      {
                        "bin_start": 2.9,
                        "bin_end": 3,
                        "count": 2
                      }
                    ]
                  }
                },
                {
                  "name": "visits",
                  "dtype": "int64",
                  "stats": {
                    "unique_count": 2,
                    "nan_count": 0,
                    "min": 1,
                    "max": 3,
                    "histogram": [
                      {
                        "bin_start": 1,
                        "bin_end": 1.2,
                        "count": 2
                      },
                      {
                        "bin_start": 1.2,
                        "bin_end": 1.4,
                        "count": 0
                      },
                      {
                        "bin_start": 1.4,
                        "bin_end": 1.6,
                        "count": 0
                      },
                      {
                        "bin_start": 1.6,
                        "bin_end": 1.8,
                        "count": 0
                      },
                      {
                        "bin_start": 1.8,
                        "bin_end": 2,
                        "count": 0
                      },
                      {
                        "bin_start": 2,
                        "bin_end": 2.2,
                        "count": 0
                      },
                      {
                        "bin_start": 2.2,
                        "bin_end": 2.4000000000000004,
                        "count": 0
                      },
                      {
                        "bin_start": 2.4000000000000004,
                        "bin_end": 2.6,
                        "count": 0
                      },
                      {
                        "bin_start": 2.6,
                        "bin_end": 2.8,
                        "count": 0
                      },
                      {
                        "bin_start": 2.8,
                        "bin_end": 3,
                        "count": 2
                      }
                    ]
                  }
                },
                {
                  "name": "priority",
                  "dtype": "object",
                  "stats": {
                    "unique_count": 2,
                    "nan_count": 0,
                    "categories": [
                      {
                        "name": "yes",
                        "count": 2
                      },
                      {
                        "name": "no",
                        "count": 2
                      }
                    ]
                  }
                },
                {
                  "name": "_deepnote_index_column",
                  "dtype": "object"
                }
              ],
              "rows_top": [
                {
                  "animal": "cat",
                  "age": 2.5,
                  "visits": 1,
                  "priority": "yes",
                  "_deepnote_index_column": "a"
                },
                {
                  "animal": "cat",
                  "age": 3,
                  "visits": 3,
                  "priority": "yes",
                  "_deepnote_index_column": "b"
                },
                {
                  "animal": "cat",
                  "age": 2,
                  "visits": 3,
                  "priority": "no",
                  "_deepnote_index_column": "f"
                },
                {
                  "animal": "dog",
                  "age": 3,
                  "visits": 1,
                  "priority": "no",
                  "_deepnote_index_column": "j"
                }
              ],
              "rows_bottom": null
            },
            "text/plain": "  animal  age  visits priority\na    cat  2.5       1      yes\nb    cat  3.0       3      yes\nf    cat  2.0       3       no\nj    dog  3.0       1       no",
            "text/html": "<div>\n<style scoped>\n    .dataframe tbody tr th:only-of-type {\n        vertical-align: middle;\n    }\n\n    .dataframe tbody tr th {\n        vertical-align: top;\n    }\n\n    .dataframe thead th {\n        text-align: right;\n    }\n</style>\n<table border=\"1\" class=\"dataframe\">\n  <thead>\n    <tr style=\"text-align: right;\">\n      <th></th>\n      <th>animal</th>\n      <th>age</th>\n      <th>visits</th>\n      <th>priority</th>\n    </tr>\n  </thead>\n  <tbody>\n    <tr>\n      <th>a</th>\n      <td>cat</td>\n      <td>2.5</td>\n      <td>1</td>\n      <td>yes</td>\n    </tr>\n    <tr>\n      <th>b</th>\n      <td>cat</td>\n      <td>3.0</td>\n      <td>3</td>\n      <td>yes</td>\n    </tr>\n    <tr>\n      <th>f</th>\n      <td>cat</td>\n      <td>2.0</td>\n      <td>3</td>\n      <td>no</td>\n    </tr>\n    <tr>\n      <th>j</th>\n      <td>dog</td>\n      <td>3.0</td>\n      <td>1</td>\n      <td>no</td>\n    </tr>\n  </tbody>\n</table>\n</div>"
          },
          "metadata": {}
        }
      ],
      "execution_count": null
    },
    {
      "cell_type": "markdown",
      "source": "**13.** Change the age in row 'f' to 1.5.",
      "metadata": {
        "cell_id": "00025-1a1bf9c2-83f8-4775-a215-d0b42dd9f1a2",
        "deepnote_cell_type": "markdown"
      }
    },
    {
      "cell_type": "code",
      "metadata": {
        "collapsed": true,
        "cell_id": "00026-56b28f2c-6e54-4a74-a07c-b8d32a478c1e",
        "deepnote_to_be_reexecuted": false,
        "source_hash": "64bef709",
        "execution_millis": 36,
        "execution_start": 1616518642676,
        "deepnote_cell_type": "code"
      },
      "source": "df.at['f', 'age'] = 1.5\ndf",
      "outputs": [
        {
          "output_type": "execute_result",
          "execution_count": 198,
          "data": {
            "application/vnd.deepnote.dataframe.v2+json": {
              "row_count": 10,
              "column_count": 4,
              "columns": [
                {
                  "name": "animal",
                  "dtype": "object",
                  "stats": {
                    "unique_count": 3,
                    "nan_count": 0,
                    "categories": [
                      {
                        "name": "cat",
                        "count": 4
                      },
                      {
                        "name": "dog",
                        "count": 4
                      },
                      {
                        "name": "snake",
                        "count": 2
                      }
                    ]
                  }
                },
                {
                  "name": "age",
                  "dtype": "float64",
                  "stats": {
                    "unique_count": 7,
                    "nan_count": 2,
                    "min": 0.5,
                    "max": 7,
                    "histogram": [
                      {
                        "bin_start": 0.5,
                        "bin_end": 1.15,
                        "count": 1
                      },
                      {
                        "bin_start": 1.15,
                        "bin_end": 1.8,
                        "count": 1
                      },
                      {
                        "bin_start": 1.8,
                        "bin_end": 2.45,
                        "count": 0
                      },
                      {
                        "bin_start": 2.45,
                        "bin_end": 3.1,
                        "count": 3
                      },
                      {
                        "bin_start": 3.1,
                        "bin_end": 3.75,
                        "count": 0
                      },
                      {
                        "bin_start": 3.75,
                        "bin_end": 4.4,
                        "count": 0
                      },
                      {
                        "bin_start": 4.4,
                        "bin_end": 5.05,
                        "count": 2
                      },
                      {
                        "bin_start": 5.05,
                        "bin_end": 5.7,
                        "count": 0
                      },
                      {
                        "bin_start": 5.7,
                        "bin_end": 6.3500000000000005,
                        "count": 0
                      },
                      {
                        "bin_start": 6.3500000000000005,
                        "bin_end": 7,
                        "count": 1
                      }
                    ]
                  }
                },
                {
                  "name": "visits",
                  "dtype": "int64",
                  "stats": {
                    "unique_count": 3,
                    "nan_count": 0,
                    "min": 1,
                    "max": 3,
                    "histogram": [
                      {
                        "bin_start": 1,
                        "bin_end": 1.2,
                        "count": 4
                      },
                      {
                        "bin_start": 1.2,
                        "bin_end": 1.4,
                        "count": 0
                      },
                      {
                        "bin_start": 1.4,
                        "bin_end": 1.6,
                        "count": 0
                      },
                      {
                        "bin_start": 1.6,
                        "bin_end": 1.8,
                        "count": 0
                      },
                      {
                        "bin_start": 1.8,
                        "bin_end": 2,
                        "count": 0
                      },
                      {
                        "bin_start": 2,
                        "bin_end": 2.2,
                        "count": 3
                      },
                      {
                        "bin_start": 2.2,
                        "bin_end": 2.4000000000000004,
                        "count": 0
                      },
                      {
                        "bin_start": 2.4000000000000004,
                        "bin_end": 2.6,
                        "count": 0
                      },
                      {
                        "bin_start": 2.6,
                        "bin_end": 2.8,
                        "count": 0
                      },
                      {
                        "bin_start": 2.8,
                        "bin_end": 3,
                        "count": 3
                      }
                    ]
                  }
                },
                {
                  "name": "priority",
                  "dtype": "object",
                  "stats": {
                    "unique_count": 2,
                    "nan_count": 0,
                    "categories": [
                      {
                        "name": "no",
                        "count": 6
                      },
                      {
                        "name": "yes",
                        "count": 4
                      }
                    ]
                  }
                },
                {
                  "name": "_deepnote_index_column",
                  "dtype": "object"
                }
              ],
              "rows_top": [
                {
                  "animal": "cat",
                  "age": "2.5",
                  "visits": 1,
                  "priority": "yes",
                  "_deepnote_index_column": "a"
                },
                {
                  "animal": "cat",
                  "age": "3.0",
                  "visits": 3,
                  "priority": "yes",
                  "_deepnote_index_column": "b"
                },
                {
                  "animal": "snake",
                  "age": "0.5",
                  "visits": 2,
                  "priority": "no",
                  "_deepnote_index_column": "c"
                },
                {
                  "animal": "dog",
                  "age": "nan",
                  "visits": 3,
                  "priority": "yes",
                  "_deepnote_index_column": "d"
                },
                {
                  "animal": "dog",
                  "age": "5.0",
                  "visits": 2,
                  "priority": "no",
                  "_deepnote_index_column": "e"
                },
                {
                  "animal": "cat",
                  "age": "1.5",
                  "visits": 3,
                  "priority": "no",
                  "_deepnote_index_column": "f"
                },
                {
                  "animal": "snake",
                  "age": "4.5",
                  "visits": 1,
                  "priority": "no",
                  "_deepnote_index_column": "g"
                },
                {
                  "animal": "cat",
                  "age": "nan",
                  "visits": 1,
                  "priority": "yes",
                  "_deepnote_index_column": "h"
                },
                {
                  "animal": "dog",
                  "age": "7.0",
                  "visits": 2,
                  "priority": "no",
                  "_deepnote_index_column": "i"
                },
                {
                  "animal": "dog",
                  "age": "3.0",
                  "visits": 1,
                  "priority": "no",
                  "_deepnote_index_column": "j"
                }
              ],
              "rows_bottom": null
            },
            "text/plain": "  animal  age  visits priority\na    cat  2.5       1      yes\nb    cat  3.0       3      yes\nc  snake  0.5       2       no\nd    dog  NaN       3      yes\ne    dog  5.0       2       no\nf    cat  1.5       3       no\ng  snake  4.5       1       no\nh    cat  NaN       1      yes\ni    dog  7.0       2       no\nj    dog  3.0       1       no",
            "text/html": "<div>\n<style scoped>\n    .dataframe tbody tr th:only-of-type {\n        vertical-align: middle;\n    }\n\n    .dataframe tbody tr th {\n        vertical-align: top;\n    }\n\n    .dataframe thead th {\n        text-align: right;\n    }\n</style>\n<table border=\"1\" class=\"dataframe\">\n  <thead>\n    <tr style=\"text-align: right;\">\n      <th></th>\n      <th>animal</th>\n      <th>age</th>\n      <th>visits</th>\n      <th>priority</th>\n    </tr>\n  </thead>\n  <tbody>\n    <tr>\n      <th>a</th>\n      <td>cat</td>\n      <td>2.5</td>\n      <td>1</td>\n      <td>yes</td>\n    </tr>\n    <tr>\n      <th>b</th>\n      <td>cat</td>\n      <td>3.0</td>\n      <td>3</td>\n      <td>yes</td>\n    </tr>\n    <tr>\n      <th>c</th>\n      <td>snake</td>\n      <td>0.5</td>\n      <td>2</td>\n      <td>no</td>\n    </tr>\n    <tr>\n      <th>d</th>\n      <td>dog</td>\n      <td>NaN</td>\n      <td>3</td>\n      <td>yes</td>\n    </tr>\n    <tr>\n      <th>e</th>\n      <td>dog</td>\n      <td>5.0</td>\n      <td>2</td>\n      <td>no</td>\n    </tr>\n    <tr>\n      <th>f</th>\n      <td>cat</td>\n      <td>1.5</td>\n      <td>3</td>\n      <td>no</td>\n    </tr>\n    <tr>\n      <th>g</th>\n      <td>snake</td>\n      <td>4.5</td>\n      <td>1</td>\n      <td>no</td>\n    </tr>\n    <tr>\n      <th>h</th>\n      <td>cat</td>\n      <td>NaN</td>\n      <td>1</td>\n      <td>yes</td>\n    </tr>\n    <tr>\n      <th>i</th>\n      <td>dog</td>\n      <td>7.0</td>\n      <td>2</td>\n      <td>no</td>\n    </tr>\n    <tr>\n      <th>j</th>\n      <td>dog</td>\n      <td>3.0</td>\n      <td>1</td>\n      <td>no</td>\n    </tr>\n  </tbody>\n</table>\n</div>"
          },
          "metadata": {}
        }
      ],
      "execution_count": null
    },
    {
      "cell_type": "markdown",
      "source": "**14.** Calculate the sum of all visits (the total number of visits).",
      "metadata": {
        "cell_id": "00027-ac11eea6-0274-4923-b15c-cb802aa1fc51",
        "deepnote_cell_type": "markdown"
      }
    },
    {
      "cell_type": "code",
      "metadata": {
        "collapsed": true,
        "cell_id": "00028-75f0cbeb-8053-4db1-99bb-e953f16b962a",
        "deepnote_to_be_reexecuted": false,
        "source_hash": "7b2f2713",
        "execution_millis": 0,
        "execution_start": 1616503807521,
        "deepnote_cell_type": "code"
      },
      "source": "df['visits'].sum()",
      "outputs": [
        {
          "output_type": "execute_result",
          "execution_count": 16,
          "data": {
            "text/plain": "19"
          },
          "metadata": {}
        }
      ],
      "execution_count": null
    },
    {
      "cell_type": "markdown",
      "source": "**15.** Calculate the mean age for each different animal in `df`.",
      "metadata": {
        "cell_id": "00029-d28e9bc7-a316-4453-b339-cefce984cef3",
        "deepnote_cell_type": "markdown"
      }
    },
    {
      "cell_type": "code",
      "metadata": {
        "collapsed": true,
        "cell_id": "00030-89faf1a4-6b9e-43c0-97cd-0b9c44acd97a",
        "deepnote_to_be_reexecuted": false,
        "source_hash": "1eda01f4",
        "execution_millis": 6,
        "execution_start": 1616503849762,
        "deepnote_cell_type": "code"
      },
      "source": "animal = df.groupby(['animal']) \nanimal['age'].mean()",
      "outputs": [
        {
          "output_type": "execute_result",
          "execution_count": 22,
          "data": {
            "text/plain": "animal\ncat      2.333333\ndog      5.000000\nsnake    2.500000\nName: age, dtype: float64"
          },
          "metadata": {}
        }
      ],
      "execution_count": null
    },
    {
      "cell_type": "markdown",
      "source": "**16.** Append a new row 'k' to `df` with your choice of values for each column. Then delete that row to return the original DataFrame.",
      "metadata": {
        "cell_id": "00031-3d8737cc-d421-46b1-938e-1017cd84b29d",
        "deepnote_cell_type": "markdown"
      }
    },
    {
      "cell_type": "code",
      "metadata": {
        "collapsed": true,
        "cell_id": "00032-fde0103b-fbd0-4b6c-a0ab-fe14b0f1a78e",
        "deepnote_to_be_reexecuted": false,
        "source_hash": "10b29506",
        "execution_millis": 11,
        "execution_start": 1616503816665,
        "deepnote_cell_type": "code"
      },
      "source": " df.loc['k'] =['cat',2,3,'yes']\n df=df.drop('k',axis=0)\n df",
      "outputs": [
        {
          "output_type": "execute_result",
          "execution_count": 18,
          "data": {
            "application/vnd.deepnote.dataframe.v2+json": {
              "row_count": 10,
              "column_count": 4,
              "columns": [
                {
                  "name": "animal",
                  "dtype": "object",
                  "stats": {
                    "unique_count": 3,
                    "nan_count": 0,
                    "categories": [
                      {
                        "name": "cat",
                        "count": 4
                      },
                      {
                        "name": "dog",
                        "count": 4
                      },
                      {
                        "name": "snake",
                        "count": 2
                      }
                    ]
                  }
                },
                {
                  "name": "age",
                  "dtype": "float64",
                  "stats": {
                    "unique_count": 7,
                    "nan_count": 2,
                    "min": 0.5,
                    "max": 7,
                    "histogram": [
                      {
                        "bin_start": 0.5,
                        "bin_end": 1.15,
                        "count": 1
                      },
                      {
                        "bin_start": 1.15,
                        "bin_end": 1.8,
                        "count": 1
                      },
                      {
                        "bin_start": 1.8,
                        "bin_end": 2.45,
                        "count": 0
                      },
                      {
                        "bin_start": 2.45,
                        "bin_end": 3.1,
                        "count": 3
                      },
                      {
                        "bin_start": 3.1,
                        "bin_end": 3.75,
                        "count": 0
                      },
                      {
                        "bin_start": 3.75,
                        "bin_end": 4.4,
                        "count": 0
                      },
                      {
                        "bin_start": 4.4,
                        "bin_end": 5.05,
                        "count": 2
                      },
                      {
                        "bin_start": 5.05,
                        "bin_end": 5.7,
                        "count": 0
                      },
                      {
                        "bin_start": 5.7,
                        "bin_end": 6.3500000000000005,
                        "count": 0
                      },
                      {
                        "bin_start": 6.3500000000000005,
                        "bin_end": 7,
                        "count": 1
                      }
                    ]
                  }
                },
                {
                  "name": "visits",
                  "dtype": "int64",
                  "stats": {
                    "unique_count": 3,
                    "nan_count": 0,
                    "min": 1,
                    "max": 3,
                    "histogram": [
                      {
                        "bin_start": 1,
                        "bin_end": 1.2,
                        "count": 4
                      },
                      {
                        "bin_start": 1.2,
                        "bin_end": 1.4,
                        "count": 0
                      },
                      {
                        "bin_start": 1.4,
                        "bin_end": 1.6,
                        "count": 0
                      },
                      {
                        "bin_start": 1.6,
                        "bin_end": 1.8,
                        "count": 0
                      },
                      {
                        "bin_start": 1.8,
                        "bin_end": 2,
                        "count": 0
                      },
                      {
                        "bin_start": 2,
                        "bin_end": 2.2,
                        "count": 3
                      },
                      {
                        "bin_start": 2.2,
                        "bin_end": 2.4000000000000004,
                        "count": 0
                      },
                      {
                        "bin_start": 2.4000000000000004,
                        "bin_end": 2.6,
                        "count": 0
                      },
                      {
                        "bin_start": 2.6,
                        "bin_end": 2.8,
                        "count": 0
                      },
                      {
                        "bin_start": 2.8,
                        "bin_end": 3,
                        "count": 3
                      }
                    ]
                  }
                },
                {
                  "name": "priority",
                  "dtype": "object",
                  "stats": {
                    "unique_count": 2,
                    "nan_count": 0,
                    "categories": [
                      {
                        "name": "no",
                        "count": 6
                      },
                      {
                        "name": "yes",
                        "count": 4
                      }
                    ]
                  }
                },
                {
                  "name": "_deepnote_index_column",
                  "dtype": "object"
                }
              ],
              "rows_top": [
                {
                  "animal": "cat",
                  "age": "2.5",
                  "visits": 1,
                  "priority": "yes",
                  "_deepnote_index_column": "a"
                },
                {
                  "animal": "cat",
                  "age": "3.0",
                  "visits": 3,
                  "priority": "yes",
                  "_deepnote_index_column": "b"
                },
                {
                  "animal": "snake",
                  "age": "0.5",
                  "visits": 2,
                  "priority": "no",
                  "_deepnote_index_column": "c"
                },
                {
                  "animal": "dog",
                  "age": "nan",
                  "visits": 3,
                  "priority": "yes",
                  "_deepnote_index_column": "d"
                },
                {
                  "animal": "dog",
                  "age": "5.0",
                  "visits": 2,
                  "priority": "no",
                  "_deepnote_index_column": "e"
                },
                {
                  "animal": "cat",
                  "age": "1.5",
                  "visits": 3,
                  "priority": "no",
                  "_deepnote_index_column": "f"
                },
                {
                  "animal": "snake",
                  "age": "4.5",
                  "visits": 1,
                  "priority": "no",
                  "_deepnote_index_column": "g"
                },
                {
                  "animal": "cat",
                  "age": "nan",
                  "visits": 1,
                  "priority": "yes",
                  "_deepnote_index_column": "h"
                },
                {
                  "animal": "dog",
                  "age": "7.0",
                  "visits": 2,
                  "priority": "no",
                  "_deepnote_index_column": "i"
                },
                {
                  "animal": "dog",
                  "age": "3.0",
                  "visits": 1,
                  "priority": "no",
                  "_deepnote_index_column": "j"
                }
              ],
              "rows_bottom": null
            },
            "text/plain": "  animal  age  visits priority\na    cat  2.5       1      yes\nb    cat  3.0       3      yes\nc  snake  0.5       2       no\nd    dog  NaN       3      yes\ne    dog  5.0       2       no\nf    cat  1.5       3       no\ng  snake  4.5       1       no\nh    cat  NaN       1      yes\ni    dog  7.0       2       no\nj    dog  3.0       1       no",
            "text/html": "<div>\n<style scoped>\n    .dataframe tbody tr th:only-of-type {\n        vertical-align: middle;\n    }\n\n    .dataframe tbody tr th {\n        vertical-align: top;\n    }\n\n    .dataframe thead th {\n        text-align: right;\n    }\n</style>\n<table border=\"1\" class=\"dataframe\">\n  <thead>\n    <tr style=\"text-align: right;\">\n      <th></th>\n      <th>animal</th>\n      <th>age</th>\n      <th>visits</th>\n      <th>priority</th>\n    </tr>\n  </thead>\n  <tbody>\n    <tr>\n      <th>a</th>\n      <td>cat</td>\n      <td>2.5</td>\n      <td>1</td>\n      <td>yes</td>\n    </tr>\n    <tr>\n      <th>b</th>\n      <td>cat</td>\n      <td>3.0</td>\n      <td>3</td>\n      <td>yes</td>\n    </tr>\n    <tr>\n      <th>c</th>\n      <td>snake</td>\n      <td>0.5</td>\n      <td>2</td>\n      <td>no</td>\n    </tr>\n    <tr>\n      <th>d</th>\n      <td>dog</td>\n      <td>NaN</td>\n      <td>3</td>\n      <td>yes</td>\n    </tr>\n    <tr>\n      <th>e</th>\n      <td>dog</td>\n      <td>5.0</td>\n      <td>2</td>\n      <td>no</td>\n    </tr>\n    <tr>\n      <th>f</th>\n      <td>cat</td>\n      <td>1.5</td>\n      <td>3</td>\n      <td>no</td>\n    </tr>\n    <tr>\n      <th>g</th>\n      <td>snake</td>\n      <td>4.5</td>\n      <td>1</td>\n      <td>no</td>\n    </tr>\n    <tr>\n      <th>h</th>\n      <td>cat</td>\n      <td>NaN</td>\n      <td>1</td>\n      <td>yes</td>\n    </tr>\n    <tr>\n      <th>i</th>\n      <td>dog</td>\n      <td>7.0</td>\n      <td>2</td>\n      <td>no</td>\n    </tr>\n    <tr>\n      <th>j</th>\n      <td>dog</td>\n      <td>3.0</td>\n      <td>1</td>\n      <td>no</td>\n    </tr>\n  </tbody>\n</table>\n</div>"
          },
          "metadata": {}
        }
      ],
      "execution_count": null
    },
    {
      "cell_type": "markdown",
      "source": "**17.** Count the number of each type of animal in `df`.",
      "metadata": {
        "cell_id": "00033-0beabb38-2295-4946-85f4-5e6848fe4a3a",
        "deepnote_cell_type": "markdown"
      }
    },
    {
      "cell_type": "code",
      "metadata": {
        "collapsed": true,
        "cell_id": "00034-338bb4f3-ea9a-4fa0-a581-6b75b4a780ce",
        "deepnote_to_be_reexecuted": false,
        "source_hash": "1fda37c3",
        "execution_millis": 8,
        "execution_start": 1616503856765,
        "deepnote_cell_type": "code"
      },
      "source": "animal['animal'].count()",
      "outputs": [
        {
          "output_type": "execute_result",
          "execution_count": 23,
          "data": {
            "text/plain": "animal\ncat      4\ndog      4\nsnake    2\nName: animal, dtype: int64"
          },
          "metadata": {}
        }
      ],
      "execution_count": null
    },
    {
      "cell_type": "markdown",
      "source": "**18.** Sort `df` first by the values in the 'age' in *decending* order, then by the value in the 'visit' column in *ascending* order.",
      "metadata": {
        "cell_id": "00035-c2ee9cc6-2941-4da6-8751-ad1006cfa97b",
        "deepnote_cell_type": "markdown"
      }
    },
    {
      "cell_type": "code",
      "metadata": {
        "collapsed": true,
        "cell_id": "00036-63a61872-b71f-4fd1-b4fe-e24d3a52e31d",
        "deepnote_to_be_reexecuted": false,
        "source_hash": "94c5cadf",
        "execution_millis": 66,
        "execution_start": 1616503859932,
        "deepnote_cell_type": "code"
      },
      "source": "df.sort_values(by='age', ascending=False)",
      "outputs": [
        {
          "output_type": "execute_result",
          "execution_count": 24,
          "data": {
            "application/vnd.deepnote.dataframe.v2+json": {
              "row_count": 10,
              "column_count": 4,
              "columns": [
                {
                  "name": "animal",
                  "dtype": "object",
                  "stats": {
                    "unique_count": 3,
                    "nan_count": 0,
                    "categories": [
                      {
                        "name": "dog",
                        "count": 4
                      },
                      {
                        "name": "cat",
                        "count": 4
                      },
                      {
                        "name": "snake",
                        "count": 2
                      }
                    ]
                  }
                },
                {
                  "name": "age",
                  "dtype": "float64",
                  "stats": {
                    "unique_count": 7,
                    "nan_count": 2,
                    "min": 0.5,
                    "max": 7,
                    "histogram": [
                      {
                        "bin_start": 0.5,
                        "bin_end": 1.15,
                        "count": 1
                      },
                      {
                        "bin_start": 1.15,
                        "bin_end": 1.8,
                        "count": 1
                      },
                      {
                        "bin_start": 1.8,
                        "bin_end": 2.45,
                        "count": 0
                      },
                      {
                        "bin_start": 2.45,
                        "bin_end": 3.1,
                        "count": 3
                      },
                      {
                        "bin_start": 3.1,
                        "bin_end": 3.75,
                        "count": 0
                      },
                      {
                        "bin_start": 3.75,
                        "bin_end": 4.4,
                        "count": 0
                      },
                      {
                        "bin_start": 4.4,
                        "bin_end": 5.05,
                        "count": 2
                      },
                      {
                        "bin_start": 5.05,
                        "bin_end": 5.7,
                        "count": 0
                      },
                      {
                        "bin_start": 5.7,
                        "bin_end": 6.3500000000000005,
                        "count": 0
                      },
                      {
                        "bin_start": 6.3500000000000005,
                        "bin_end": 7,
                        "count": 1
                      }
                    ]
                  }
                },
                {
                  "name": "visits",
                  "dtype": "int64",
                  "stats": {
                    "unique_count": 3,
                    "nan_count": 0,
                    "min": 1,
                    "max": 3,
                    "histogram": [
                      {
                        "bin_start": 1,
                        "bin_end": 1.2,
                        "count": 4
                      },
                      {
                        "bin_start": 1.2,
                        "bin_end": 1.4,
                        "count": 0
                      },
                      {
                        "bin_start": 1.4,
                        "bin_end": 1.6,
                        "count": 0
                      },
                      {
                        "bin_start": 1.6,
                        "bin_end": 1.8,
                        "count": 0
                      },
                      {
                        "bin_start": 1.8,
                        "bin_end": 2,
                        "count": 0
                      },
                      {
                        "bin_start": 2,
                        "bin_end": 2.2,
                        "count": 3
                      },
                      {
                        "bin_start": 2.2,
                        "bin_end": 2.4000000000000004,
                        "count": 0
                      },
                      {
                        "bin_start": 2.4000000000000004,
                        "bin_end": 2.6,
                        "count": 0
                      },
                      {
                        "bin_start": 2.6,
                        "bin_end": 2.8,
                        "count": 0
                      },
                      {
                        "bin_start": 2.8,
                        "bin_end": 3,
                        "count": 3
                      }
                    ]
                  }
                },
                {
                  "name": "priority",
                  "dtype": "object",
                  "stats": {
                    "unique_count": 2,
                    "nan_count": 0,
                    "categories": [
                      {
                        "name": "no",
                        "count": 6
                      },
                      {
                        "name": "yes",
                        "count": 4
                      }
                    ]
                  }
                },
                {
                  "name": "_deepnote_index_column",
                  "dtype": "object"
                }
              ],
              "rows_top": [
                {
                  "animal": "dog",
                  "age": "7.0",
                  "visits": 2,
                  "priority": "no",
                  "_deepnote_index_column": "i"
                },
                {
                  "animal": "dog",
                  "age": "5.0",
                  "visits": 2,
                  "priority": "no",
                  "_deepnote_index_column": "e"
                },
                {
                  "animal": "snake",
                  "age": "4.5",
                  "visits": 1,
                  "priority": "no",
                  "_deepnote_index_column": "g"
                },
                {
                  "animal": "cat",
                  "age": "3.0",
                  "visits": 3,
                  "priority": "yes",
                  "_deepnote_index_column": "b"
                },
                {
                  "animal": "dog",
                  "age": "3.0",
                  "visits": 1,
                  "priority": "no",
                  "_deepnote_index_column": "j"
                },
                {
                  "animal": "cat",
                  "age": "2.5",
                  "visits": 1,
                  "priority": "yes",
                  "_deepnote_index_column": "a"
                },
                {
                  "animal": "cat",
                  "age": "1.5",
                  "visits": 3,
                  "priority": "no",
                  "_deepnote_index_column": "f"
                },
                {
                  "animal": "snake",
                  "age": "0.5",
                  "visits": 2,
                  "priority": "no",
                  "_deepnote_index_column": "c"
                },
                {
                  "animal": "dog",
                  "age": "nan",
                  "visits": 3,
                  "priority": "yes",
                  "_deepnote_index_column": "d"
                },
                {
                  "animal": "cat",
                  "age": "nan",
                  "visits": 1,
                  "priority": "yes",
                  "_deepnote_index_column": "h"
                }
              ],
              "rows_bottom": null
            },
            "text/plain": "  animal  age  visits priority\ni    dog  7.0       2       no\ne    dog  5.0       2       no\ng  snake  4.5       1       no\nb    cat  3.0       3      yes\nj    dog  3.0       1       no\na    cat  2.5       1      yes\nf    cat  1.5       3       no\nc  snake  0.5       2       no\nd    dog  NaN       3      yes\nh    cat  NaN       1      yes",
            "text/html": "<div>\n<style scoped>\n    .dataframe tbody tr th:only-of-type {\n        vertical-align: middle;\n    }\n\n    .dataframe tbody tr th {\n        vertical-align: top;\n    }\n\n    .dataframe thead th {\n        text-align: right;\n    }\n</style>\n<table border=\"1\" class=\"dataframe\">\n  <thead>\n    <tr style=\"text-align: right;\">\n      <th></th>\n      <th>animal</th>\n      <th>age</th>\n      <th>visits</th>\n      <th>priority</th>\n    </tr>\n  </thead>\n  <tbody>\n    <tr>\n      <th>i</th>\n      <td>dog</td>\n      <td>7.0</td>\n      <td>2</td>\n      <td>no</td>\n    </tr>\n    <tr>\n      <th>e</th>\n      <td>dog</td>\n      <td>5.0</td>\n      <td>2</td>\n      <td>no</td>\n    </tr>\n    <tr>\n      <th>g</th>\n      <td>snake</td>\n      <td>4.5</td>\n      <td>1</td>\n      <td>no</td>\n    </tr>\n    <tr>\n      <th>b</th>\n      <td>cat</td>\n      <td>3.0</td>\n      <td>3</td>\n      <td>yes</td>\n    </tr>\n    <tr>\n      <th>j</th>\n      <td>dog</td>\n      <td>3.0</td>\n      <td>1</td>\n      <td>no</td>\n    </tr>\n    <tr>\n      <th>a</th>\n      <td>cat</td>\n      <td>2.5</td>\n      <td>1</td>\n      <td>yes</td>\n    </tr>\n    <tr>\n      <th>f</th>\n      <td>cat</td>\n      <td>1.5</td>\n      <td>3</td>\n      <td>no</td>\n    </tr>\n    <tr>\n      <th>c</th>\n      <td>snake</td>\n      <td>0.5</td>\n      <td>2</td>\n      <td>no</td>\n    </tr>\n    <tr>\n      <th>d</th>\n      <td>dog</td>\n      <td>NaN</td>\n      <td>3</td>\n      <td>yes</td>\n    </tr>\n    <tr>\n      <th>h</th>\n      <td>cat</td>\n      <td>NaN</td>\n      <td>1</td>\n      <td>yes</td>\n    </tr>\n  </tbody>\n</table>\n</div>"
          },
          "metadata": {}
        }
      ],
      "execution_count": null
    },
    {
      "cell_type": "code",
      "source": "df.sort_values(by='visits')",
      "metadata": {
        "tags": [],
        "cell_id": "00037-7c6f61d8-f04e-4b2c-a117-b6b308e3e7fa",
        "deepnote_to_be_reexecuted": false,
        "source_hash": "56964040",
        "execution_millis": 7,
        "execution_start": 1616503882699,
        "deepnote_cell_type": "code"
      },
      "outputs": [
        {
          "output_type": "execute_result",
          "execution_count": 25,
          "data": {
            "application/vnd.deepnote.dataframe.v2+json": {
              "row_count": 10,
              "column_count": 4,
              "columns": [
                {
                  "name": "animal",
                  "dtype": "object",
                  "stats": {
                    "unique_count": 3,
                    "nan_count": 0,
                    "categories": [
                      {
                        "name": "cat",
                        "count": 4
                      },
                      {
                        "name": "dog",
                        "count": 4
                      },
                      {
                        "name": "snake",
                        "count": 2
                      }
                    ]
                  }
                },
                {
                  "name": "age",
                  "dtype": "float64",
                  "stats": {
                    "unique_count": 7,
                    "nan_count": 2,
                    "min": 0.5,
                    "max": 7,
                    "histogram": [
                      {
                        "bin_start": 0.5,
                        "bin_end": 1.15,
                        "count": 1
                      },
                      {
                        "bin_start": 1.15,
                        "bin_end": 1.8,
                        "count": 1
                      },
                      {
                        "bin_start": 1.8,
                        "bin_end": 2.45,
                        "count": 0
                      },
                      {
                        "bin_start": 2.45,
                        "bin_end": 3.1,
                        "count": 3
                      },
                      {
                        "bin_start": 3.1,
                        "bin_end": 3.75,
                        "count": 0
                      },
                      {
                        "bin_start": 3.75,
                        "bin_end": 4.4,
                        "count": 0
                      },
                      {
                        "bin_start": 4.4,
                        "bin_end": 5.05,
                        "count": 2
                      },
                      {
                        "bin_start": 5.05,
                        "bin_end": 5.7,
                        "count": 0
                      },
                      {
                        "bin_start": 5.7,
                        "bin_end": 6.3500000000000005,
                        "count": 0
                      },
                      {
                        "bin_start": 6.3500000000000005,
                        "bin_end": 7,
                        "count": 1
                      }
                    ]
                  }
                },
                {
                  "name": "visits",
                  "dtype": "int64",
                  "stats": {
                    "unique_count": 3,
                    "nan_count": 0,
                    "min": 1,
                    "max": 3,
                    "histogram": [
                      {
                        "bin_start": 1,
                        "bin_end": 1.2,
                        "count": 4
                      },
                      {
                        "bin_start": 1.2,
                        "bin_end": 1.4,
                        "count": 0
                      },
                      {
                        "bin_start": 1.4,
                        "bin_end": 1.6,
                        "count": 0
                      },
                      {
                        "bin_start": 1.6,
                        "bin_end": 1.8,
                        "count": 0
                      },
                      {
                        "bin_start": 1.8,
                        "bin_end": 2,
                        "count": 0
                      },
                      {
                        "bin_start": 2,
                        "bin_end": 2.2,
                        "count": 3
                      },
                      {
                        "bin_start": 2.2,
                        "bin_end": 2.4000000000000004,
                        "count": 0
                      },
                      {
                        "bin_start": 2.4000000000000004,
                        "bin_end": 2.6,
                        "count": 0
                      },
                      {
                        "bin_start": 2.6,
                        "bin_end": 2.8,
                        "count": 0
                      },
                      {
                        "bin_start": 2.8,
                        "bin_end": 3,
                        "count": 3
                      }
                    ]
                  }
                },
                {
                  "name": "priority",
                  "dtype": "object",
                  "stats": {
                    "unique_count": 2,
                    "nan_count": 0,
                    "categories": [
                      {
                        "name": "no",
                        "count": 6
                      },
                      {
                        "name": "yes",
                        "count": 4
                      }
                    ]
                  }
                },
                {
                  "name": "_deepnote_index_column",
                  "dtype": "object"
                }
              ],
              "rows_top": [
                {
                  "animal": "cat",
                  "age": "2.5",
                  "visits": 1,
                  "priority": "yes",
                  "_deepnote_index_column": "a"
                },
                {
                  "animal": "snake",
                  "age": "4.5",
                  "visits": 1,
                  "priority": "no",
                  "_deepnote_index_column": "g"
                },
                {
                  "animal": "cat",
                  "age": "nan",
                  "visits": 1,
                  "priority": "yes",
                  "_deepnote_index_column": "h"
                },
                {
                  "animal": "dog",
                  "age": "3.0",
                  "visits": 1,
                  "priority": "no",
                  "_deepnote_index_column": "j"
                },
                {
                  "animal": "snake",
                  "age": "0.5",
                  "visits": 2,
                  "priority": "no",
                  "_deepnote_index_column": "c"
                },
                {
                  "animal": "dog",
                  "age": "5.0",
                  "visits": 2,
                  "priority": "no",
                  "_deepnote_index_column": "e"
                },
                {
                  "animal": "dog",
                  "age": "7.0",
                  "visits": 2,
                  "priority": "no",
                  "_deepnote_index_column": "i"
                },
                {
                  "animal": "cat",
                  "age": "3.0",
                  "visits": 3,
                  "priority": "yes",
                  "_deepnote_index_column": "b"
                },
                {
                  "animal": "dog",
                  "age": "nan",
                  "visits": 3,
                  "priority": "yes",
                  "_deepnote_index_column": "d"
                },
                {
                  "animal": "cat",
                  "age": "1.5",
                  "visits": 3,
                  "priority": "no",
                  "_deepnote_index_column": "f"
                }
              ],
              "rows_bottom": null
            },
            "text/plain": "  animal  age  visits priority\na    cat  2.5       1      yes\ng  snake  4.5       1       no\nh    cat  NaN       1      yes\nj    dog  3.0       1       no\nc  snake  0.5       2       no\ne    dog  5.0       2       no\ni    dog  7.0       2       no\nb    cat  3.0       3      yes\nd    dog  NaN       3      yes\nf    cat  1.5       3       no",
            "text/html": "<div>\n<style scoped>\n    .dataframe tbody tr th:only-of-type {\n        vertical-align: middle;\n    }\n\n    .dataframe tbody tr th {\n        vertical-align: top;\n    }\n\n    .dataframe thead th {\n        text-align: right;\n    }\n</style>\n<table border=\"1\" class=\"dataframe\">\n  <thead>\n    <tr style=\"text-align: right;\">\n      <th></th>\n      <th>animal</th>\n      <th>age</th>\n      <th>visits</th>\n      <th>priority</th>\n    </tr>\n  </thead>\n  <tbody>\n    <tr>\n      <th>a</th>\n      <td>cat</td>\n      <td>2.5</td>\n      <td>1</td>\n      <td>yes</td>\n    </tr>\n    <tr>\n      <th>g</th>\n      <td>snake</td>\n      <td>4.5</td>\n      <td>1</td>\n      <td>no</td>\n    </tr>\n    <tr>\n      <th>h</th>\n      <td>cat</td>\n      <td>NaN</td>\n      <td>1</td>\n      <td>yes</td>\n    </tr>\n    <tr>\n      <th>j</th>\n      <td>dog</td>\n      <td>3.0</td>\n      <td>1</td>\n      <td>no</td>\n    </tr>\n    <tr>\n      <th>c</th>\n      <td>snake</td>\n      <td>0.5</td>\n      <td>2</td>\n      <td>no</td>\n    </tr>\n    <tr>\n      <th>e</th>\n      <td>dog</td>\n      <td>5.0</td>\n      <td>2</td>\n      <td>no</td>\n    </tr>\n    <tr>\n      <th>i</th>\n      <td>dog</td>\n      <td>7.0</td>\n      <td>2</td>\n      <td>no</td>\n    </tr>\n    <tr>\n      <th>b</th>\n      <td>cat</td>\n      <td>3.0</td>\n      <td>3</td>\n      <td>yes</td>\n    </tr>\n    <tr>\n      <th>d</th>\n      <td>dog</td>\n      <td>NaN</td>\n      <td>3</td>\n      <td>yes</td>\n    </tr>\n    <tr>\n      <th>f</th>\n      <td>cat</td>\n      <td>1.5</td>\n      <td>3</td>\n      <td>no</td>\n    </tr>\n  </tbody>\n</table>\n</div>"
          },
          "metadata": {}
        }
      ],
      "execution_count": null
    },
    {
      "cell_type": "markdown",
      "source": "**19.** The 'priority' column contains the values 'yes' and 'no'. Replace this column with a column of boolean values: 'yes' should be `True` and 'no' should be `False`.",
      "metadata": {
        "cell_id": "00037-a105a345-0b8b-40f8-bb83-b531b44ec5e5",
        "deepnote_cell_type": "markdown"
      }
    },
    {
      "cell_type": "code",
      "metadata": {
        "collapsed": true,
        "cell_id": "00038-4776d450-1951-4f15-9108-01f38f2c414e",
        "deepnote_to_be_reexecuted": false,
        "source_hash": "a482a072",
        "execution_millis": 19,
        "execution_start": 1616503926294,
        "deepnote_cell_type": "code"
      },
      "source": "df.loc[df['priority']=='yes','priority']=True\ndf.loc[df['priority']=='no','priority']=False\ndf",
      "outputs": [
        {
          "output_type": "execute_result",
          "execution_count": 27,
          "data": {
            "application/vnd.deepnote.dataframe.v2+json": {
              "row_count": 10,
              "column_count": 4,
              "columns": [
                {
                  "name": "animal",
                  "dtype": "object",
                  "stats": {
                    "unique_count": 3,
                    "nan_count": 0,
                    "categories": [
                      {
                        "name": "cat",
                        "count": 4
                      },
                      {
                        "name": "dog",
                        "count": 4
                      },
                      {
                        "name": "snake",
                        "count": 2
                      }
                    ]
                  }
                },
                {
                  "name": "age",
                  "dtype": "float64",
                  "stats": {
                    "unique_count": 7,
                    "nan_count": 2,
                    "min": 0.5,
                    "max": 7,
                    "histogram": [
                      {
                        "bin_start": 0.5,
                        "bin_end": 1.15,
                        "count": 1
                      },
                      {
                        "bin_start": 1.15,
                        "bin_end": 1.8,
                        "count": 1
                      },
                      {
                        "bin_start": 1.8,
                        "bin_end": 2.45,
                        "count": 0
                      },
                      {
                        "bin_start": 2.45,
                        "bin_end": 3.1,
                        "count": 3
                      },
                      {
                        "bin_start": 3.1,
                        "bin_end": 3.75,
                        "count": 0
                      },
                      {
                        "bin_start": 3.75,
                        "bin_end": 4.4,
                        "count": 0
                      },
                      {
                        "bin_start": 4.4,
                        "bin_end": 5.05,
                        "count": 2
                      },
                      {
                        "bin_start": 5.05,
                        "bin_end": 5.7,
                        "count": 0
                      },
                      {
                        "bin_start": 5.7,
                        "bin_end": 6.3500000000000005,
                        "count": 0
                      },
                      {
                        "bin_start": 6.3500000000000005,
                        "bin_end": 7,
                        "count": 1
                      }
                    ]
                  }
                },
                {
                  "name": "visits",
                  "dtype": "int64",
                  "stats": {
                    "unique_count": 3,
                    "nan_count": 0,
                    "min": 1,
                    "max": 3,
                    "histogram": [
                      {
                        "bin_start": 1,
                        "bin_end": 1.2,
                        "count": 4
                      },
                      {
                        "bin_start": 1.2,
                        "bin_end": 1.4,
                        "count": 0
                      },
                      {
                        "bin_start": 1.4,
                        "bin_end": 1.6,
                        "count": 0
                      },
                      {
                        "bin_start": 1.6,
                        "bin_end": 1.8,
                        "count": 0
                      },
                      {
                        "bin_start": 1.8,
                        "bin_end": 2,
                        "count": 0
                      },
                      {
                        "bin_start": 2,
                        "bin_end": 2.2,
                        "count": 3
                      },
                      {
                        "bin_start": 2.2,
                        "bin_end": 2.4000000000000004,
                        "count": 0
                      },
                      {
                        "bin_start": 2.4000000000000004,
                        "bin_end": 2.6,
                        "count": 0
                      },
                      {
                        "bin_start": 2.6,
                        "bin_end": 2.8,
                        "count": 0
                      },
                      {
                        "bin_start": 2.8,
                        "bin_end": 3,
                        "count": 3
                      }
                    ]
                  }
                },
                {
                  "name": "priority",
                  "dtype": "object",
                  "stats": {
                    "unique_count": 2,
                    "nan_count": 0,
                    "categories": [
                      {
                        "name": "False",
                        "count": 6
                      },
                      {
                        "name": "True",
                        "count": 4
                      }
                    ]
                  }
                },
                {
                  "name": "_deepnote_index_column",
                  "dtype": "object"
                }
              ],
              "rows_top": [
                {
                  "animal": "cat",
                  "age": "2.5",
                  "visits": 1,
                  "priority": true,
                  "_deepnote_index_column": "a"
                },
                {
                  "animal": "cat",
                  "age": "3.0",
                  "visits": 3,
                  "priority": true,
                  "_deepnote_index_column": "b"
                },
                {
                  "animal": "snake",
                  "age": "0.5",
                  "visits": 2,
                  "priority": false,
                  "_deepnote_index_column": "c"
                },
                {
                  "animal": "dog",
                  "age": "nan",
                  "visits": 3,
                  "priority": true,
                  "_deepnote_index_column": "d"
                },
                {
                  "animal": "dog",
                  "age": "5.0",
                  "visits": 2,
                  "priority": false,
                  "_deepnote_index_column": "e"
                },
                {
                  "animal": "cat",
                  "age": "1.5",
                  "visits": 3,
                  "priority": false,
                  "_deepnote_index_column": "f"
                },
                {
                  "animal": "snake",
                  "age": "4.5",
                  "visits": 1,
                  "priority": false,
                  "_deepnote_index_column": "g"
                },
                {
                  "animal": "cat",
                  "age": "nan",
                  "visits": 1,
                  "priority": true,
                  "_deepnote_index_column": "h"
                },
                {
                  "animal": "dog",
                  "age": "7.0",
                  "visits": 2,
                  "priority": false,
                  "_deepnote_index_column": "i"
                },
                {
                  "animal": "dog",
                  "age": "3.0",
                  "visits": 1,
                  "priority": false,
                  "_deepnote_index_column": "j"
                }
              ],
              "rows_bottom": null
            },
            "text/plain": "  animal  age  visits priority\na    cat  2.5       1     True\nb    cat  3.0       3     True\nc  snake  0.5       2    False\nd    dog  NaN       3     True\ne    dog  5.0       2    False\nf    cat  1.5       3    False\ng  snake  4.5       1    False\nh    cat  NaN       1     True\ni    dog  7.0       2    False\nj    dog  3.0       1    False",
            "text/html": "<div>\n<style scoped>\n    .dataframe tbody tr th:only-of-type {\n        vertical-align: middle;\n    }\n\n    .dataframe tbody tr th {\n        vertical-align: top;\n    }\n\n    .dataframe thead th {\n        text-align: right;\n    }\n</style>\n<table border=\"1\" class=\"dataframe\">\n  <thead>\n    <tr style=\"text-align: right;\">\n      <th></th>\n      <th>animal</th>\n      <th>age</th>\n      <th>visits</th>\n      <th>priority</th>\n    </tr>\n  </thead>\n  <tbody>\n    <tr>\n      <th>a</th>\n      <td>cat</td>\n      <td>2.5</td>\n      <td>1</td>\n      <td>True</td>\n    </tr>\n    <tr>\n      <th>b</th>\n      <td>cat</td>\n      <td>3.0</td>\n      <td>3</td>\n      <td>True</td>\n    </tr>\n    <tr>\n      <th>c</th>\n      <td>snake</td>\n      <td>0.5</td>\n      <td>2</td>\n      <td>False</td>\n    </tr>\n    <tr>\n      <th>d</th>\n      <td>dog</td>\n      <td>NaN</td>\n      <td>3</td>\n      <td>True</td>\n    </tr>\n    <tr>\n      <th>e</th>\n      <td>dog</td>\n      <td>5.0</td>\n      <td>2</td>\n      <td>False</td>\n    </tr>\n    <tr>\n      <th>f</th>\n      <td>cat</td>\n      <td>1.5</td>\n      <td>3</td>\n      <td>False</td>\n    </tr>\n    <tr>\n      <th>g</th>\n      <td>snake</td>\n      <td>4.5</td>\n      <td>1</td>\n      <td>False</td>\n    </tr>\n    <tr>\n      <th>h</th>\n      <td>cat</td>\n      <td>NaN</td>\n      <td>1</td>\n      <td>True</td>\n    </tr>\n    <tr>\n      <th>i</th>\n      <td>dog</td>\n      <td>7.0</td>\n      <td>2</td>\n      <td>False</td>\n    </tr>\n    <tr>\n      <th>j</th>\n      <td>dog</td>\n      <td>3.0</td>\n      <td>1</td>\n      <td>False</td>\n    </tr>\n  </tbody>\n</table>\n</div>"
          },
          "metadata": {}
        }
      ],
      "execution_count": null
    },
    {
      "cell_type": "markdown",
      "source": "**20.** In the 'animal' column, change the 'snake' entries to 'python'.",
      "metadata": {
        "cell_id": "00039-83911df9-6f94-4cb3-bf9f-00469d511d01",
        "deepnote_cell_type": "markdown"
      }
    },
    {
      "cell_type": "code",
      "metadata": {
        "collapsed": true,
        "cell_id": "00040-20a6d356-cb6d-4d63-8af0-a30ae6ceb7fe",
        "deepnote_to_be_reexecuted": false,
        "source_hash": "8fccfb22",
        "execution_millis": 24,
        "execution_start": 1616503993867,
        "deepnote_cell_type": "code"
      },
      "source": "df.loc[df['animal']=='snake','animal']='python'\ndf",
      "outputs": [
        {
          "output_type": "execute_result",
          "execution_count": 29,
          "data": {
            "application/vnd.deepnote.dataframe.v2+json": {
              "row_count": 10,
              "column_count": 4,
              "columns": [
                {
                  "name": "animal",
                  "dtype": "object",
                  "stats": {
                    "unique_count": 3,
                    "nan_count": 0,
                    "categories": [
                      {
                        "name": "cat",
                        "count": 4
                      },
                      {
                        "name": "dog",
                        "count": 4
                      },
                      {
                        "name": "python",
                        "count": 2
                      }
                    ]
                  }
                },
                {
                  "name": "age",
                  "dtype": "float64",
                  "stats": {
                    "unique_count": 7,
                    "nan_count": 2,
                    "min": 0.5,
                    "max": 7,
                    "histogram": [
                      {
                        "bin_start": 0.5,
                        "bin_end": 1.15,
                        "count": 1
                      },
                      {
                        "bin_start": 1.15,
                        "bin_end": 1.8,
                        "count": 1
                      },
                      {
                        "bin_start": 1.8,
                        "bin_end": 2.45,
                        "count": 0
                      },
                      {
                        "bin_start": 2.45,
                        "bin_end": 3.1,
                        "count": 3
                      },
                      {
                        "bin_start": 3.1,
                        "bin_end": 3.75,
                        "count": 0
                      },
                      {
                        "bin_start": 3.75,
                        "bin_end": 4.4,
                        "count": 0
                      },
                      {
                        "bin_start": 4.4,
                        "bin_end": 5.05,
                        "count": 2
                      },
                      {
                        "bin_start": 5.05,
                        "bin_end": 5.7,
                        "count": 0
                      },
                      {
                        "bin_start": 5.7,
                        "bin_end": 6.3500000000000005,
                        "count": 0
                      },
                      {
                        "bin_start": 6.3500000000000005,
                        "bin_end": 7,
                        "count": 1
                      }
                    ]
                  }
                },
                {
                  "name": "visits",
                  "dtype": "int64",
                  "stats": {
                    "unique_count": 3,
                    "nan_count": 0,
                    "min": 1,
                    "max": 3,
                    "histogram": [
                      {
                        "bin_start": 1,
                        "bin_end": 1.2,
                        "count": 4
                      },
                      {
                        "bin_start": 1.2,
                        "bin_end": 1.4,
                        "count": 0
                      },
                      {
                        "bin_start": 1.4,
                        "bin_end": 1.6,
                        "count": 0
                      },
                      {
                        "bin_start": 1.6,
                        "bin_end": 1.8,
                        "count": 0
                      },
                      {
                        "bin_start": 1.8,
                        "bin_end": 2,
                        "count": 0
                      },
                      {
                        "bin_start": 2,
                        "bin_end": 2.2,
                        "count": 3
                      },
                      {
                        "bin_start": 2.2,
                        "bin_end": 2.4000000000000004,
                        "count": 0
                      },
                      {
                        "bin_start": 2.4000000000000004,
                        "bin_end": 2.6,
                        "count": 0
                      },
                      {
                        "bin_start": 2.6,
                        "bin_end": 2.8,
                        "count": 0
                      },
                      {
                        "bin_start": 2.8,
                        "bin_end": 3,
                        "count": 3
                      }
                    ]
                  }
                },
                {
                  "name": "priority",
                  "dtype": "object",
                  "stats": {
                    "unique_count": 2,
                    "nan_count": 0,
                    "categories": [
                      {
                        "name": "False",
                        "count": 6
                      },
                      {
                        "name": "True",
                        "count": 4
                      }
                    ]
                  }
                },
                {
                  "name": "_deepnote_index_column",
                  "dtype": "object"
                }
              ],
              "rows_top": [
                {
                  "animal": "cat",
                  "age": "2.5",
                  "visits": 1,
                  "priority": true,
                  "_deepnote_index_column": "a"
                },
                {
                  "animal": "cat",
                  "age": "3.0",
                  "visits": 3,
                  "priority": true,
                  "_deepnote_index_column": "b"
                },
                {
                  "animal": "python",
                  "age": "0.5",
                  "visits": 2,
                  "priority": false,
                  "_deepnote_index_column": "c"
                },
                {
                  "animal": "dog",
                  "age": "nan",
                  "visits": 3,
                  "priority": true,
                  "_deepnote_index_column": "d"
                },
                {
                  "animal": "dog",
                  "age": "5.0",
                  "visits": 2,
                  "priority": false,
                  "_deepnote_index_column": "e"
                },
                {
                  "animal": "cat",
                  "age": "1.5",
                  "visits": 3,
                  "priority": false,
                  "_deepnote_index_column": "f"
                },
                {
                  "animal": "python",
                  "age": "4.5",
                  "visits": 1,
                  "priority": false,
                  "_deepnote_index_column": "g"
                },
                {
                  "animal": "cat",
                  "age": "nan",
                  "visits": 1,
                  "priority": true,
                  "_deepnote_index_column": "h"
                },
                {
                  "animal": "dog",
                  "age": "7.0",
                  "visits": 2,
                  "priority": false,
                  "_deepnote_index_column": "i"
                },
                {
                  "animal": "dog",
                  "age": "3.0",
                  "visits": 1,
                  "priority": false,
                  "_deepnote_index_column": "j"
                }
              ],
              "rows_bottom": null
            },
            "text/plain": "   animal  age  visits priority\na     cat  2.5       1     True\nb     cat  3.0       3     True\nc  python  0.5       2    False\nd     dog  NaN       3     True\ne     dog  5.0       2    False\nf     cat  1.5       3    False\ng  python  4.5       1    False\nh     cat  NaN       1     True\ni     dog  7.0       2    False\nj     dog  3.0       1    False",
            "text/html": "<div>\n<style scoped>\n    .dataframe tbody tr th:only-of-type {\n        vertical-align: middle;\n    }\n\n    .dataframe tbody tr th {\n        vertical-align: top;\n    }\n\n    .dataframe thead th {\n        text-align: right;\n    }\n</style>\n<table border=\"1\" class=\"dataframe\">\n  <thead>\n    <tr style=\"text-align: right;\">\n      <th></th>\n      <th>animal</th>\n      <th>age</th>\n      <th>visits</th>\n      <th>priority</th>\n    </tr>\n  </thead>\n  <tbody>\n    <tr>\n      <th>a</th>\n      <td>cat</td>\n      <td>2.5</td>\n      <td>1</td>\n      <td>True</td>\n    </tr>\n    <tr>\n      <th>b</th>\n      <td>cat</td>\n      <td>3.0</td>\n      <td>3</td>\n      <td>True</td>\n    </tr>\n    <tr>\n      <th>c</th>\n      <td>python</td>\n      <td>0.5</td>\n      <td>2</td>\n      <td>False</td>\n    </tr>\n    <tr>\n      <th>d</th>\n      <td>dog</td>\n      <td>NaN</td>\n      <td>3</td>\n      <td>True</td>\n    </tr>\n    <tr>\n      <th>e</th>\n      <td>dog</td>\n      <td>5.0</td>\n      <td>2</td>\n      <td>False</td>\n    </tr>\n    <tr>\n      <th>f</th>\n      <td>cat</td>\n      <td>1.5</td>\n      <td>3</td>\n      <td>False</td>\n    </tr>\n    <tr>\n      <th>g</th>\n      <td>python</td>\n      <td>4.5</td>\n      <td>1</td>\n      <td>False</td>\n    </tr>\n    <tr>\n      <th>h</th>\n      <td>cat</td>\n      <td>NaN</td>\n      <td>1</td>\n      <td>True</td>\n    </tr>\n    <tr>\n      <th>i</th>\n      <td>dog</td>\n      <td>7.0</td>\n      <td>2</td>\n      <td>False</td>\n    </tr>\n    <tr>\n      <th>j</th>\n      <td>dog</td>\n      <td>3.0</td>\n      <td>1</td>\n      <td>False</td>\n    </tr>\n  </tbody>\n</table>\n</div>"
          },
          "metadata": {}
        }
      ],
      "execution_count": null
    },
    {
      "cell_type": "markdown",
      "source": "**21.** For each animal type and each number of visits, find the mean age. In other words, each row is an animal, each column is a number of visits and the values are the mean ages (hint: use a pivot table).",
      "metadata": {
        "cell_id": "00041-a32957d9-9fdb-433b-9b72-7be6baeb3678",
        "deepnote_cell_type": "markdown"
      }
    },
    {
      "cell_type": "code",
      "metadata": {
        "collapsed": true,
        "cell_id": "00042-a62d66d0-e4af-45ac-b7dd-ba974eed3d95",
        "deepnote_to_be_reexecuted": false,
        "source_hash": "5da9d18c",
        "execution_millis": 25,
        "execution_start": 1616518855473,
        "deepnote_cell_type": "code"
      },
      "source": "df.pivot_table(index='animal',columns='visits',values='age',aggfunc='mean')",
      "outputs": [
        {
          "output_type": "error",
          "ename": "TypeError",
          "evalue": "pivot_table() got an unexpected keyword argument 'value'",
          "traceback": [
            "\u001b[0;31m---------------------------------------------------------------------------\u001b[0m",
            "\u001b[0;31mTypeError\u001b[0m                                 Traceback (most recent call last)",
            "\u001b[0;32m<ipython-input-199-2eb4ee9608ff>\u001b[0m in \u001b[0;36m<module>\u001b[0;34m\u001b[0m\n\u001b[0;32m----> 1\u001b[0;31m \u001b[0mdf\u001b[0m\u001b[0;34m.\u001b[0m\u001b[0mpivot_table\u001b[0m\u001b[0;34m(\u001b[0m\u001b[0mindex\u001b[0m\u001b[0;34m=\u001b[0m\u001b[0;34m'animal'\u001b[0m\u001b[0;34m,\u001b[0m\u001b[0mcolumns\u001b[0m\u001b[0;34m=\u001b[0m\u001b[0;34m'visits'\u001b[0m\u001b[0;34m,\u001b[0m\u001b[0mvalue\u001b[0m\u001b[0;34m=\u001b[0m\u001b[0;34m'age'\u001b[0m\u001b[0;34m,\u001b[0m\u001b[0maggfunc\u001b[0m\u001b[0;34m=\u001b[0m\u001b[0;34m'mean'\u001b[0m\u001b[0;34m)\u001b[0m\u001b[0;34m\u001b[0m\u001b[0;34m\u001b[0m\u001b[0m\n\u001b[0m",
            "\u001b[0;31mTypeError\u001b[0m: pivot_table() got an unexpected keyword argument 'value'"
          ]
        }
      ],
      "execution_count": null
    },
    {
      "cell_type": "markdown",
      "source": "## DataFrames: beyond the basics\n\n### Slightly trickier: you may need to combine two or more methods to get the right answer\n\nDifficulty: *medium*\n\nThe previous section was tour through some basic but essential DataFrame operations. Below are some ways that you might need to cut your data, but for which there is no single \"out of the box\" method.",
      "metadata": {
        "cell_id": "00043-ac78c02b-c4c1-41a4-8624-6b317b5fe7e2",
        "deepnote_cell_type": "markdown"
      }
    },
    {
      "cell_type": "markdown",
      "source": "**22.** You have a DataFrame `df` with a column 'A' of integers. For example:\n```python\ndf = pd.DataFrame({'A': [1, 2, 2, 3, 4, 5, 5, 5, 6, 7, 7]})\n```\n\nHow do you filter out rows which contain the same integer as the row immediately above?",
      "metadata": {
        "cell_id": "00044-0b0d59d3-e398-4636-abb8-f1db0ac5844a",
        "deepnote_cell_type": "markdown"
      }
    },
    {
      "cell_type": "code",
      "metadata": {
        "collapsed": true,
        "cell_id": "00045-5df0c6f4-ea55-4792-8c90-676b460a7a61",
        "deepnote_to_be_reexecuted": false,
        "source_hash": "faadc3aa",
        "execution_millis": 19,
        "execution_start": 1616508239423,
        "deepnote_cell_type": "code"
      },
      "source": "df1 = pd.DataFrame({'A': [1, 2, 2, 3, 4, 5, 5, 5, 6, 7, 7]})\ndf1.loc[df1['A'].shift(1, axis = 0) != df1['A']]",
      "outputs": [
        {
          "output_type": "execute_result",
          "execution_count": 110,
          "data": {
            "application/vnd.deepnote.dataframe.v2+json": {
              "row_count": 7,
              "column_count": 1,
              "columns": [
                {
                  "name": "A",
                  "dtype": "int64",
                  "stats": {
                    "unique_count": 7,
                    "nan_count": 0,
                    "min": 1,
                    "max": 7,
                    "histogram": [
                      {
                        "bin_start": 1,
                        "bin_end": 1.6,
                        "count": 1
                      },
                      {
                        "bin_start": 1.6,
                        "bin_end": 2.2,
                        "count": 1
                      },
                      {
                        "bin_start": 2.2,
                        "bin_end": 2.8,
                        "count": 0
                      },
                      {
                        "bin_start": 2.8,
                        "bin_end": 3.4,
                        "count": 1
                      },
                      {
                        "bin_start": 3.4,
                        "bin_end": 4,
                        "count": 0
                      },
                      {
                        "bin_start": 4,
                        "bin_end": 4.6,
                        "count": 1
                      },
                      {
                        "bin_start": 4.6,
                        "bin_end": 5.2,
                        "count": 1
                      },
                      {
                        "bin_start": 5.2,
                        "bin_end": 5.8,
                        "count": 0
                      },
                      {
                        "bin_start": 5.8,
                        "bin_end": 6.3999999999999995,
                        "count": 1
                      },
                      {
                        "bin_start": 6.3999999999999995,
                        "bin_end": 7,
                        "count": 1
                      }
                    ]
                  }
                },
                {
                  "name": "_deepnote_index_column",
                  "dtype": "int64"
                }
              ],
              "rows_top": [
                {
                  "A": 1,
                  "_deepnote_index_column": 0
                },
                {
                  "A": 2,
                  "_deepnote_index_column": 1
                },
                {
                  "A": 3,
                  "_deepnote_index_column": 3
                },
                {
                  "A": 4,
                  "_deepnote_index_column": 4
                },
                {
                  "A": 5,
                  "_deepnote_index_column": 5
                },
                {
                  "A": 6,
                  "_deepnote_index_column": 8
                },
                {
                  "A": 7,
                  "_deepnote_index_column": 9
                }
              ],
              "rows_bottom": null
            },
            "text/plain": "   A\n0  1\n1  2\n3  3\n4  4\n5  5\n8  6\n9  7",
            "text/html": "<div>\n<style scoped>\n    .dataframe tbody tr th:only-of-type {\n        vertical-align: middle;\n    }\n\n    .dataframe tbody tr th {\n        vertical-align: top;\n    }\n\n    .dataframe thead th {\n        text-align: right;\n    }\n</style>\n<table border=\"1\" class=\"dataframe\">\n  <thead>\n    <tr style=\"text-align: right;\">\n      <th></th>\n      <th>A</th>\n    </tr>\n  </thead>\n  <tbody>\n    <tr>\n      <th>0</th>\n      <td>1</td>\n    </tr>\n    <tr>\n      <th>1</th>\n      <td>2</td>\n    </tr>\n    <tr>\n      <th>3</th>\n      <td>3</td>\n    </tr>\n    <tr>\n      <th>4</th>\n      <td>4</td>\n    </tr>\n    <tr>\n      <th>5</th>\n      <td>5</td>\n    </tr>\n    <tr>\n      <th>8</th>\n      <td>6</td>\n    </tr>\n    <tr>\n      <th>9</th>\n      <td>7</td>\n    </tr>\n  </tbody>\n</table>\n</div>"
          },
          "metadata": {}
        }
      ],
      "execution_count": null
    },
    {
      "cell_type": "markdown",
      "source": "**23.** Given a DataFrame of numeric values, say\n```python\ndf = pd.DataFrame(np.random.random(size=(5, 3))) # a 5x3 frame of float values\n```\n\nhow do you subtract the row mean from each element in the row?",
      "metadata": {
        "cell_id": "00046-b84b00c1-8a83-40c9-9b6f-3ee6908213e8",
        "deepnote_cell_type": "markdown"
      }
    },
    {
      "cell_type": "code",
      "metadata": {
        "collapsed": true,
        "cell_id": "00047-3c7fed0d-e6c0-47f5-a910-0cc6241be0a9",
        "deepnote_to_be_reexecuted": false,
        "source_hash": "56c3eb8",
        "execution_millis": 37,
        "execution_start": 1616506146459,
        "deepnote_cell_type": "code"
      },
      "source": "f = pd.DataFrame(np.random.random(size=(5, 3)))\nf.sub(f.mean(axis=1), axis=0)",
      "outputs": [
        {
          "output_type": "execute_result",
          "execution_count": 53,
          "data": {
            "application/vnd.deepnote.dataframe.v2+json": {
              "row_count": 5,
              "column_count": 3,
              "columns": [
                {
                  "name": 0,
                  "dtype": "float64",
                  "stats": {
                    "unique_count": 5,
                    "nan_count": 0,
                    "min": -0.31031445356191206,
                    "max": 0.2918928423183366,
                    "histogram": [
                      {
                        "bin_start": -0.31031445356191206,
                        "bin_end": -0.2500937239738872,
                        "count": 2
                      },
                      {
                        "bin_start": -0.2500937239738872,
                        "bin_end": -0.18987299438586233,
                        "count": 0
                      },
                      {
                        "bin_start": -0.18987299438586233,
                        "bin_end": -0.12965226479783748,
                        "count": 0
                      },
                      {
                        "bin_start": -0.12965226479783748,
                        "bin_end": -0.0694315352098126,
                        "count": 1
                      },
                      {
                        "bin_start": -0.0694315352098126,
                        "bin_end": -0.009210805621787721,
                        "count": 0
                      },
                      {
                        "bin_start": -0.009210805621787721,
                        "bin_end": 0.0510099239662371,
                        "count": 0
                      },
                      {
                        "bin_start": 0.0510099239662371,
                        "bin_end": 0.11123065355426198,
                        "count": 0
                      },
                      {
                        "bin_start": 0.11123065355426198,
                        "bin_end": 0.17145138314228686,
                        "count": 1
                      },
                      {
                        "bin_start": 0.17145138314228686,
                        "bin_end": 0.23167211273031169,
                        "count": 0
                      },
                      {
                        "bin_start": 0.23167211273031169,
                        "bin_end": 0.2918928423183366,
                        "count": 1
                      }
                    ]
                  }
                },
                {
                  "name": 1,
                  "dtype": "float64",
                  "stats": {
                    "unique_count": 5,
                    "nan_count": 0,
                    "min": -0.2558662688223466,
                    "max": 0.43287026019168884,
                    "histogram": [
                      {
                        "bin_start": -0.2558662688223466,
                        "bin_end": -0.18699261592094304,
                        "count": 1
                      },
                      {
                        "bin_start": -0.18699261592094304,
                        "bin_end": -0.1181189630195395,
                        "count": 1
                      },
                      {
                        "bin_start": -0.1181189630195395,
                        "bin_end": -0.04924531011813596,
                        "count": 0
                      },
                      {
                        "bin_start": -0.04924531011813596,
                        "bin_end": 0.019628342783267583,
                        "count": 0
                      },
                      {
                        "bin_start": 0.019628342783267583,
                        "bin_end": 0.08850199568467115,
                        "count": 2
                      },
                      {
                        "bin_start": 0.08850199568467115,
                        "bin_end": 0.15737564858607467,
                        "count": 0
                      },
                      {
                        "bin_start": 0.15737564858607467,
                        "bin_end": 0.22624930148747818,
                        "count": 0
                      },
                      {
                        "bin_start": 0.22624930148747818,
                        "bin_end": 0.29512295438888175,
                        "count": 0
                      },
                      {
                        "bin_start": 0.29512295438888175,
                        "bin_end": 0.3639966072902853,
                        "count": 0
                      },
                      {
                        "bin_start": 0.3639966072902853,
                        "bin_end": 0.43287026019168884,
                        "count": 1
                      }
                    ]
                  }
                },
                {
                  "name": 2,
                  "dtype": "float64",
                  "stats": {
                    "unique_count": 5,
                    "nan_count": 0,
                    "min": -0.16862103994974442,
                    "max": 0.28861143611017565,
                    "histogram": [
                      {
                        "bin_start": -0.16862103994974442,
                        "bin_end": -0.12289779234375242,
                        "count": 1
                      },
                      {
                        "bin_start": -0.12289779234375242,
                        "bin_end": -0.0771745447377604,
                        "count": 1
                      },
                      {
                        "bin_start": -0.0771745447377604,
                        "bin_end": -0.03145129713176839,
                        "count": 0
                      },
                      {
                        "bin_start": -0.03145129713176839,
                        "bin_end": 0.01427195047422361,
                        "count": 0
                      },
                      {
                        "bin_start": 0.01427195047422361,
                        "bin_end": 0.05999519808021561,
                        "count": 1
                      },
                      {
                        "bin_start": 0.05999519808021561,
                        "bin_end": 0.10571844568620764,
                        "count": 1
                      },
                      {
                        "bin_start": 0.10571844568620764,
                        "bin_end": 0.15144169329219964,
                        "count": 0
                      },
                      {
                        "bin_start": 0.15144169329219964,
                        "bin_end": 0.19716494089819164,
                        "count": 0
                      },
                      {
                        "bin_start": 0.19716494089819164,
                        "bin_end": 0.24288818850418364,
                        "count": 0
                      },
                      {
                        "bin_start": 0.24288818850418364,
                        "bin_end": 0.28861143611017565,
                        "count": 1
                      }
                    ]
                  }
                },
                {
                  "name": "_deepnote_index_column",
                  "dtype": "int64"
                }
              ],
              "rows_top": [
                {
                  "0": -0.09169941759424333,
                  "1": 0.06865802532344661,
                  "2": 0.023041392270796657,
                  "_deepnote_index_column": 0
                },
                {
                  "0": 0.2918928423183366,
                  "1": -0.17224818866929542,
                  "2": -0.11964465364904114,
                  "_deepnote_index_column": 1
                },
                {
                  "0": -0.31031445356191206,
                  "1": 0.02170301745173625,
                  "2": 0.28861143611017565,
                  "_deepnote_index_column": 2
                },
                {
                  "0": 0.16025973775088181,
                  "1": -0.2558662688223466,
                  "2": 0.09560653107146494,
                  "_deepnote_index_column": 3
                },
                {
                  "0": -0.2642492202419445,
                  "1": 0.43287026019168884,
                  "2": -0.16862103994974442,
                  "_deepnote_index_column": 4
                }
              ],
              "rows_bottom": null
            },
            "text/plain": "          0         1         2\n0 -0.091699  0.068658  0.023041\n1  0.291893 -0.172248 -0.119645\n2 -0.310314  0.021703  0.288611\n3  0.160260 -0.255866  0.095607\n4 -0.264249  0.432870 -0.168621",
            "text/html": "<div>\n<style scoped>\n    .dataframe tbody tr th:only-of-type {\n        vertical-align: middle;\n    }\n\n    .dataframe tbody tr th {\n        vertical-align: top;\n    }\n\n    .dataframe thead th {\n        text-align: right;\n    }\n</style>\n<table border=\"1\" class=\"dataframe\">\n  <thead>\n    <tr style=\"text-align: right;\">\n      <th></th>\n      <th>0</th>\n      <th>1</th>\n      <th>2</th>\n    </tr>\n  </thead>\n  <tbody>\n    <tr>\n      <th>0</th>\n      <td>-0.091699</td>\n      <td>0.068658</td>\n      <td>0.023041</td>\n    </tr>\n    <tr>\n      <th>1</th>\n      <td>0.291893</td>\n      <td>-0.172248</td>\n      <td>-0.119645</td>\n    </tr>\n    <tr>\n      <th>2</th>\n      <td>-0.310314</td>\n      <td>0.021703</td>\n      <td>0.288611</td>\n    </tr>\n    <tr>\n      <th>3</th>\n      <td>0.160260</td>\n      <td>-0.255866</td>\n      <td>0.095607</td>\n    </tr>\n    <tr>\n      <th>4</th>\n      <td>-0.264249</td>\n      <td>0.432870</td>\n      <td>-0.168621</td>\n    </tr>\n  </tbody>\n</table>\n</div>"
          },
          "metadata": {}
        }
      ],
      "execution_count": null
    },
    {
      "cell_type": "markdown",
      "source": "**24.** Suppose you have DataFrame with 10 columns of real numbers, for example:\n\n```python\ndf = pd.DataFrame(np.random.random(size=(5, 10)), columns=list('abcdefghij'))\n```\nWhich column of numbers has the smallest sum? (Find that column's label.)",
      "metadata": {
        "cell_id": "00048-5ae8828f-be66-4787-a568-f1d93adab8ec",
        "deepnote_cell_type": "markdown"
      }
    },
    {
      "cell_type": "code",
      "metadata": {
        "collapsed": true,
        "cell_id": "00049-89fcfaaa-0ca5-41c0-b14f-62e4569f1203",
        "deepnote_to_be_reexecuted": false,
        "source_hash": "568506e",
        "execution_millis": 8,
        "execution_start": 1616507470474,
        "deepnote_cell_type": "code"
      },
      "source": "d = pd.DataFrame(np.random.random(size=(5, 10)), columns=list('abcdefghij')) #creating data frame\ncreated_dict=dict(d.sum(axis = 0)) #creating dict\nsorted_list = sorted(created_dict.items(), key=lambda kv: kv[1]) #making list as tuples as sorted\nsorted_list[0] #it gives first element of the list",
      "outputs": [
        {
          "output_type": "execute_result",
          "execution_count": 103,
          "data": {
            "text/plain": "('a', 1.621966459168425)"
          },
          "metadata": {}
        }
      ],
      "execution_count": null
    },
    {
      "cell_type": "markdown",
      "source": "**25.** How do you count how many unique rows a DataFrame has (i.e. ignore all rows that are duplicates)?",
      "metadata": {
        "cell_id": "00050-c3eaadea-de21-4558-9084-07381742b663",
        "deepnote_cell_type": "markdown"
      }
    },
    {
      "cell_type": "code",
      "metadata": {
        "collapsed": true,
        "cell_id": "00051-d2d50f97-7a9f-44fe-8432-f931b79a30ec",
        "deepnote_to_be_reexecuted": false,
        "source_hash": "8a4c41e2",
        "execution_millis": 76,
        "execution_start": 1616509258790,
        "deepnote_cell_type": "code"
      },
      "source": "len(df.drop_duplicates())",
      "outputs": [
        {
          "output_type": "execute_result",
          "execution_count": 122,
          "data": {
            "text/plain": "10"
          },
          "metadata": {}
        }
      ],
      "execution_count": null
    },
    {
      "cell_type": "markdown",
      "source": "The next three puzzles are slightly harder...\n\n**26.** You have a DataFrame that consists of 10 columns of floating--point numbers. Suppose that exactly 5 entries in each row are NaN values. For each row of the DataFrame, find the *column* which contains the *third* NaN value.\n\n(You should return a Series of column labels. Try not to use `.iterrows()`)",
      "metadata": {
        "cell_id": "00052-1310b0c3-396a-4b5b-bf24-b6e44026d997",
        "deepnote_cell_type": "markdown"
      }
    },
    {
      "cell_type": "code",
      "metadata": {
        "collapsed": true,
        "cell_id": "00053-e9ac7fa4-d008-4dd1-b13a-52eb7f98a712",
        "deepnote_to_be_reexecuted": false,
        "source_hash": "294da6ed",
        "execution_millis": 12,
        "execution_start": 1616511930890,
        "deepnote_cell_type": "code"
      },
      "source": "data = {\n1:[np.nan,2,np.nan,4,5],\n2:[np.nan,2,3,np.nan,5],\n3:[np.nan,2,np.nan,4,5],\n4:[1,np.nan,3,np.nan,np.nan],\n5:[1,2,np.nan,4,5],\n6:[1,np.nan,3,np.nan,np.nan],\n7:[1,2,3,4,5],\n8:[1,np.nan,3,np.nan,np.nan],\n9:[1,2,3,4,np.nan],\n10:[1,np.nan,3,4,5]}\n\n#creating data frame\ndata_frame=pd.DataFrame(data=data)\n\n\n#finding the null data with isnull then summing them with cumsum then \n#checking nul-count equal to 3 or not then geting column name with idxmax\nseries_colum_names=(data_frame.isnull().cumsum(axis=1) == 3).idxmax(axis=1)\nprint(series_colum_names)",
      "outputs": [
        {
          "name": "stdout",
          "text": "0    3\n1    8\n2    5\n3    6\n4    8\ndtype: int64\n",
          "output_type": "stream"
        }
      ],
      "execution_count": null
    },
    {
      "cell_type": "markdown",
      "source": "**27.** A DataFrame has a column of groups 'grps' and and column of numbers 'vals'. For example: \n\n```python\ndf = pd.DataFrame({'grps': list('aaabbcaabcccbbc'), \n                   'vals': [12,345,3,1,45,14,4,52,54,23,235,21,57,3,87]})\n```\nFor each *group*, find the sum of the three greatest values.",
      "metadata": {
        "cell_id": "00054-75bc8863-a9b8-4b01-b023-7f36d2fe8013",
        "deepnote_cell_type": "markdown"
      }
    },
    {
      "cell_type": "code",
      "metadata": {
        "collapsed": true,
        "cell_id": "00055-5f0b5354-422e-45ae-9d23-1d25812e593f",
        "deepnote_to_be_reexecuted": false,
        "source_hash": "c6145a06",
        "execution_millis": 14,
        "execution_start": 1616512785358,
        "deepnote_cell_type": "code"
      },
      "source": "d_f = pd.DataFrame({'grps': list('aaabbcaabcccbbc'), \n                   'vals': [12,345,3,1,45,14,4,52,54,23,235,21,57,3,87]})\nd_f.groupby('grps')['vals'].apply(lambda x: x.nlargest(3).sum()) ",
      "outputs": [
        {
          "output_type": "execute_result",
          "execution_count": 192,
          "data": {
            "text/plain": "grps\na    409\nb    156\nc    345\nName: vals, dtype: int64"
          },
          "metadata": {}
        }
      ],
      "execution_count": null
    },
    {
      "cell_type": "markdown",
      "source": "**28.** A DataFrame has two integer columns 'A' and 'B'. The values in 'A' are between 1 and 100 (inclusive). For each group of 10 consecutive integers in 'A' (i.e. `(0, 10]`, `(10, 20]`, ...), calculate the sum of the corresponding values in column 'B'.",
      "metadata": {
        "cell_id": "00056-fd5e2fbd-bf57-420f-9e96-b3278a56d18b",
        "deepnote_cell_type": "markdown"
      }
    },
    {
      "cell_type": "code",
      "metadata": {
        "collapsed": true,
        "cell_id": "00057-9cc7f73d-b19d-4bdb-864d-fb5150f023c7",
        "deepnote_to_be_reexecuted": false,
        "source_hash": "1e02ea27",
        "execution_millis": 13,
        "execution_start": 1616513600427,
        "deepnote_cell_type": "code"
      },
      "source": "data = {\"A\":np.arange(0,30), \"B\":np.random.random(30)}\n\ndf = pd.DataFrame(data)\n\ndf.groupby(pd.cut(df['A'], np.arange(0, 101, 10)))['B'].sum()",
      "outputs": [
        {
          "output_type": "execute_result",
          "execution_count": 195,
          "data": {
            "text/plain": "A\n(0, 10]      4.624161\n(10, 20]     6.099395\n(20, 30]     4.187370\n(30, 40]     0.000000\n(40, 50]     0.000000\n(50, 60]     0.000000\n(60, 70]     0.000000\n(70, 80]     0.000000\n(80, 90]     0.000000\n(90, 100]    0.000000\nName: B, dtype: float64"
          },
          "metadata": {}
        }
      ],
      "execution_count": null
    },
    {
      "cell_type": "markdown",
      "source": "## DataFrames: harder problems \n\n### These might require a bit of thinking outside the box...\n\n...but all are solvable using just the usual pandas/NumPy methods (and so avoid using explicit `for` loops).\n\nDifficulty: *hard*",
      "metadata": {
        "cell_id": "00058-80b1c0f4-f8db-406b-b83a-85e902d9f8e0",
        "deepnote_cell_type": "markdown"
      }
    },
    {
      "cell_type": "markdown",
      "source": "**29.** Consider a DataFrame `df` where there is an integer column 'X':\n```python\ndf = pd.DataFrame({'X': [7, 2, 0, 3, 4, 2, 5, 0, 3, 4]})\n```\nFor each value, count the difference back to the previous zero (or the start of the Series, whichever is closer). These values should therefore be `[1, 2, 0, 1, 2, 3, 4, 0, 1, 2]`. Make this a new column 'Y'.",
      "metadata": {
        "cell_id": "00059-f83be6c8-2fa2-4890-a5e4-9d7af97c18c8",
        "deepnote_cell_type": "markdown"
      }
    },
    {
      "cell_type": "code",
      "metadata": {
        "collapsed": true,
        "cell_id": "00060-c48957a7-0aac-49fe-bf6a-6c8ccf2e4671",
        "deepnote_to_be_reexecuted": true,
        "source_hash": "b623e53d",
        "deepnote_cell_type": "code"
      },
      "source": "df = pd.DataFrame({'X': [7, 2, 0, 3, 4, 2, 5, 0, 3, 4]})\n\n",
      "execution_count": null,
      "outputs": []
    },
    {
      "cell_type": "markdown",
      "source": "Here's an alternative approach based on a [cookbook recipe](http://pandas.pydata.org/pandas-docs/stable/cookbook.html#grouping):",
      "metadata": {
        "cell_id": "00061-89dbd527-548f-4a21-a23c-dd21dba4bb2a",
        "deepnote_cell_type": "markdown"
      }
    },
    {
      "cell_type": "code",
      "metadata": {
        "collapsed": true,
        "cell_id": "00062-791c4c2e-fceb-4482-b5e3-97c4df3f3bcb",
        "deepnote_to_be_reexecuted": true,
        "source_hash": "b623e53d",
        "deepnote_cell_type": "code"
      },
      "source": "",
      "execution_count": null,
      "outputs": []
    },
    {
      "cell_type": "markdown",
      "source": "**30.** Consider a DataFrame containing rows and columns of purely numerical data. Create a list of the row-column index locations of the 3 largest values.",
      "metadata": {
        "cell_id": "00063-87f6155f-f460-421a-98b2-23f38fe9787a",
        "deepnote_cell_type": "markdown"
      }
    },
    {
      "cell_type": "code",
      "metadata": {
        "collapsed": true,
        "cell_id": "00064-452c33b0-825d-45b8-a694-db159b42743f",
        "deepnote_to_be_reexecuted": true,
        "source_hash": "b623e53d",
        "deepnote_cell_type": "code"
      },
      "source": "",
      "execution_count": null,
      "outputs": []
    },
    {
      "cell_type": "markdown",
      "source": "**31.** Given a DataFrame with a column of group IDs, 'grps', and a column of corresponding integer values, 'vals', replace any negative values in 'vals' with the group mean.",
      "metadata": {
        "cell_id": "00065-a5fcdaed-3502-4fed-a06d-2db052f13928",
        "deepnote_cell_type": "markdown"
      }
    },
    {
      "cell_type": "code",
      "metadata": {
        "collapsed": true,
        "cell_id": "00066-6f1b0070-a726-4d36-bd44-2b38a80ad7f5",
        "deepnote_to_be_reexecuted": true,
        "source_hash": "b623e53d",
        "deepnote_cell_type": "code"
      },
      "source": "",
      "execution_count": null,
      "outputs": []
    },
    {
      "cell_type": "markdown",
      "source": "**32.** Implement a rolling mean over groups with window size 3, which ignores NaN value. For example consider the following DataFrame:\n\n```python\n>>> df = pd.DataFrame({'group': list('aabbabbbabab'),\n                       'value': [1, 2, 3, np.nan, 2, 3, \n                                 np.nan, 1, 7, 3, np.nan, 8]})\n>>> df\n   group  value\n0      a    1.0\n1      a    2.0\n2      b    3.0\n3      b    NaN\n4      a    2.0\n5      b    3.0\n6      b    NaN\n7      b    1.0\n8      a    7.0\n9      b    3.0\n10     a    NaN\n11     b    8.0\n```\nThe goal is to compute the Series:\n\n```\n0     1.000000\n1     1.500000\n2     3.000000\n3     3.000000\n4     1.666667\n5     3.000000\n6     3.000000\n7     2.000000\n8     3.666667\n9     2.000000\n10    4.500000\n11    4.000000\n```\nE.g. the first window of size three for group 'b' has values 3.0, NaN and 3.0 and occurs at row index 5. Instead of being NaN the value in the new column at this row index should be 3.0 (just the two non-NaN values are used to compute the mean (3+3)/2)",
      "metadata": {
        "cell_id": "00067-c448902f-3a80-4423-96e8-724059ba3366",
        "deepnote_cell_type": "markdown"
      }
    },
    {
      "cell_type": "code",
      "metadata": {
        "collapsed": true,
        "cell_id": "00068-a2ce1e88-ce3e-4c91-9c23-d439cd6486a5",
        "deepnote_to_be_reexecuted": true,
        "source_hash": "b623e53d",
        "deepnote_cell_type": "code"
      },
      "source": "",
      "execution_count": null,
      "outputs": []
    },
    {
      "cell_type": "markdown",
      "source": "## Series and DatetimeIndex\n\n### Exercises for creating and manipulating Series with datetime data\n\nDifficulty: *easy/medium*\n\npandas is fantastic for working with dates and times. These puzzles explore some of this functionality.\n",
      "metadata": {
        "cell_id": "00069-2171abc7-4c55-4347-9a9b-3fe0be680720",
        "deepnote_cell_type": "markdown"
      }
    },
    {
      "cell_type": "markdown",
      "source": "**33.** Create a DatetimeIndex that contains each business day of 2015 and use it to index a Series of random numbers. Let's call this Series `s`.",
      "metadata": {
        "cell_id": "00070-77c6a0c1-0e27-43fa-a3fc-722a3cbe6920",
        "deepnote_cell_type": "markdown"
      }
    },
    {
      "cell_type": "code",
      "metadata": {
        "collapsed": true,
        "cell_id": "00071-01b4b2ff-0177-4a9a-b404-6ca19c8fd890",
        "deepnote_to_be_reexecuted": true,
        "source_hash": "b623e53d",
        "deepnote_cell_type": "code"
      },
      "source": "",
      "execution_count": null,
      "outputs": []
    },
    {
      "cell_type": "markdown",
      "source": "**34.** Find the sum of the values in `s` for every Wednesday.",
      "metadata": {
        "cell_id": "00072-13dc407d-cae9-4c00-a8a6-158d0b8e9b11",
        "deepnote_cell_type": "markdown"
      }
    },
    {
      "cell_type": "code",
      "metadata": {
        "collapsed": true,
        "cell_id": "00073-11b60091-4c0f-4021-9b76-15b6e5ee8435",
        "deepnote_to_be_reexecuted": true,
        "source_hash": "b623e53d",
        "deepnote_cell_type": "code"
      },
      "source": "",
      "execution_count": null,
      "outputs": []
    },
    {
      "cell_type": "markdown",
      "source": "**35.** For each calendar month in `s`, find the mean of values.",
      "metadata": {
        "cell_id": "00074-7ec41e7b-0a89-41b7-b274-bf52a7748f8f",
        "deepnote_cell_type": "markdown"
      }
    },
    {
      "cell_type": "code",
      "metadata": {
        "collapsed": true,
        "cell_id": "00075-11206016-b1f7-44a1-9596-3f0c25011533",
        "deepnote_to_be_reexecuted": true,
        "source_hash": "b623e53d",
        "deepnote_cell_type": "code"
      },
      "source": "",
      "execution_count": null,
      "outputs": []
    },
    {
      "cell_type": "markdown",
      "source": "**36.** For each group of four consecutive calendar months in `s`, find the date on which the highest value occurred.",
      "metadata": {
        "cell_id": "00076-861b67b8-7ea5-4475-8e24-14667231a1f0",
        "deepnote_cell_type": "markdown"
      }
    },
    {
      "cell_type": "code",
      "metadata": {
        "collapsed": true,
        "cell_id": "00077-43fbc091-b372-4fcf-94ee-d838d0d78fcb",
        "deepnote_to_be_reexecuted": true,
        "source_hash": "b623e53d",
        "deepnote_cell_type": "code"
      },
      "source": "",
      "execution_count": null,
      "outputs": []
    },
    {
      "cell_type": "markdown",
      "source": "**37.** Create a DateTimeIndex consisting of the third Thursday in each month for the years 2015 and 2016.",
      "metadata": {
        "cell_id": "00078-18ea3bfa-49be-4c69-bf29-1bbcf0b47392",
        "deepnote_cell_type": "markdown"
      }
    },
    {
      "cell_type": "code",
      "metadata": {
        "collapsed": true,
        "cell_id": "00079-bf30b0c0-a78d-486f-be05-775e7278bc67",
        "deepnote_to_be_reexecuted": true,
        "source_hash": "b623e53d",
        "deepnote_cell_type": "code"
      },
      "source": "",
      "execution_count": null,
      "outputs": []
    },
    {
      "cell_type": "markdown",
      "source": "## Cleaning Data\n\n### Making a DataFrame easier to work with\n\nDifficulty: *easy/medium*\n\nIt happens all the time: someone gives you data containing malformed strings, Python, lists and missing data. How do you tidy it up so you can get on with the analysis?\n\nTake this monstrosity as the DataFrame to use in the following puzzles:\n\n```python\ndf = pd.DataFrame({'From_To': ['LoNDon_paris', 'MAdrid_miLAN', 'londON_StockhOlm', \n                               'Budapest_PaRis', 'Brussels_londOn'],\n              'FlightNumber': [10045, np.nan, 10065, np.nan, 10085],\n              'RecentDelays': [[23, 47], [], [24, 43, 87], [13], [67, 32]],\n                   'Airline': ['KLM(!)', '<Air France> (12)', '(British Airways. )', \n                               '12. Air France', '\"Swiss Air\"']})\n```\n(It's some flight data I made up; it's not meant to be accurate in any way.)\n",
      "metadata": {
        "cell_id": "00080-4d3e542c-b8da-4060-8add-e9669be1dd4f",
        "deepnote_cell_type": "markdown"
      }
    },
    {
      "cell_type": "markdown",
      "source": "**38.** Some values in the the FlightNumber column are missing. These numbers are meant to increase by 10 with each row so 10055 and 10075 need to be put in place. Fill in these missing numbers and make the column an integer column (instead of a float column).",
      "metadata": {
        "cell_id": "00081-9f3fa6bb-383a-4152-86dc-0d645239b19c",
        "deepnote_cell_type": "markdown"
      }
    },
    {
      "cell_type": "code",
      "metadata": {
        "collapsed": true,
        "cell_id": "00082-a9896748-a032-4d44-9cc8-8759e33838cd",
        "deepnote_to_be_reexecuted": true,
        "source_hash": "b623e53d",
        "deepnote_cell_type": "code"
      },
      "source": "",
      "execution_count": null,
      "outputs": []
    },
    {
      "cell_type": "markdown",
      "source": "**39.** The From\\_To column would be better as two separate columns! Split each string on the underscore delimiter `_` to give a new temporary DataFrame with the correct values. Assign the correct column names to this temporary DataFrame. ",
      "metadata": {
        "cell_id": "00083-7dfe3ff1-a76f-40b3-bbd5-bb6fe70f731d",
        "deepnote_cell_type": "markdown"
      }
    },
    {
      "cell_type": "code",
      "metadata": {
        "collapsed": true,
        "cell_id": "00084-9f3109bf-4851-4333-8153-21622162e64c",
        "deepnote_to_be_reexecuted": true,
        "source_hash": "b623e53d",
        "deepnote_cell_type": "code"
      },
      "source": "",
      "execution_count": null,
      "outputs": []
    },
    {
      "cell_type": "markdown",
      "source": "**40.** Notice how the capitalisation of the city names is all mixed up in this temporary DataFrame. Standardise the strings so that only the first letter is uppercase (e.g. \"londON\" should become \"London\".)",
      "metadata": {
        "cell_id": "00085-ccb76bd5-4fb5-42df-97bd-e53a96a78137",
        "deepnote_cell_type": "markdown"
      }
    },
    {
      "cell_type": "code",
      "metadata": {
        "collapsed": true,
        "cell_id": "00086-76e54236-04b6-4357-94b5-d3f733a24ff9",
        "deepnote_to_be_reexecuted": true,
        "source_hash": "b623e53d",
        "deepnote_cell_type": "code"
      },
      "source": "",
      "execution_count": null,
      "outputs": []
    },
    {
      "cell_type": "markdown",
      "source": "**41.** Delete the From_To column from `df` and attach the temporary DataFrame from the previous questions.",
      "metadata": {
        "cell_id": "00087-976dc321-3a37-4516-8dbb-5fa51ff69e01",
        "deepnote_cell_type": "markdown"
      }
    },
    {
      "cell_type": "code",
      "metadata": {
        "collapsed": true,
        "cell_id": "00088-5f7b5680-113e-4187-99ef-cffbbf2af574",
        "deepnote_to_be_reexecuted": true,
        "source_hash": "b623e53d",
        "deepnote_cell_type": "code"
      },
      "source": "",
      "execution_count": null,
      "outputs": []
    },
    {
      "cell_type": "markdown",
      "source": "**42**. In the Airline column, you can see some extra puctuation and symbols have appeared around the airline names. Pull out just the airline name. E.g. `'(British Airways. )'` should become `'British Airways'`.",
      "metadata": {
        "cell_id": "00089-0c1f12e2-8d66-4d6e-9114-497dc8756a7e",
        "deepnote_cell_type": "markdown"
      }
    },
    {
      "cell_type": "code",
      "metadata": {
        "collapsed": true,
        "cell_id": "00090-743ece96-0b65-475a-8551-b490a5d572fe",
        "deepnote_to_be_reexecuted": true,
        "source_hash": "b623e53d",
        "deepnote_cell_type": "code"
      },
      "source": "",
      "execution_count": null,
      "outputs": []
    },
    {
      "cell_type": "markdown",
      "source": "**43**. In the RecentDelays column, the values have been entered into the DataFrame as a list. We would like each first value in its own column, each second value in its own column, and so on. If there isn't an Nth value, the value should be NaN.\n\nExpand the Series of lists into a DataFrame named `delays`, rename the columns `delay_1`, `delay_2`, etc. and replace the unwanted RecentDelays column in `df` with `delays`.",
      "metadata": {
        "cell_id": "00091-7dbd61ad-0ff7-4c80-af75-52b1a3fbf80d",
        "deepnote_cell_type": "markdown"
      }
    },
    {
      "cell_type": "code",
      "metadata": {
        "collapsed": true,
        "cell_id": "00092-dc367515-cd3a-4a77-9e9c-560f12440c6a",
        "deepnote_to_be_reexecuted": true,
        "source_hash": "b623e53d",
        "deepnote_cell_type": "code"
      },
      "source": "",
      "execution_count": null,
      "outputs": []
    },
    {
      "cell_type": "markdown",
      "source": "The DataFrame should look much better now.",
      "metadata": {
        "cell_id": "00093-a14c496b-b39d-4a37-8ea9-9ea31542901a",
        "deepnote_cell_type": "markdown"
      }
    },
    {
      "cell_type": "markdown",
      "source": "## Using MultiIndexes\n\n### Go beyond flat DataFrames with additional index levels\n\nDifficulty: *medium*\n\nPrevious exercises have seen us analysing data from DataFrames equipped with a single index level. However, pandas also gives you the possibilty of indexing your data using *multiple* levels. This is very much like adding new dimensions to a Series or a DataFrame. For example, a Series is 1D, but by using a MultiIndex with 2 levels we gain of much the same functionality as a 2D DataFrame.\n\nThe set of puzzles below explores how you might use multiple index levels to enhance data analysis.\n\nTo warm up, we'll look make a Series with two index levels. ",
      "metadata": {
        "collapsed": true,
        "cell_id": "00094-be9c0709-8b87-45d6-b959-5f7d2df0f6b7",
        "deepnote_cell_type": "markdown"
      }
    },
    {
      "cell_type": "markdown",
      "source": "**44**. Given the lists `letters = ['A', 'B', 'C']` and `numbers = list(range(10))`, construct a MultiIndex object from the product of the two lists. Use it to index a Series of random numbers. Call this Series `s`.",
      "metadata": {
        "cell_id": "00095-2a162a64-0467-4f71-b649-7175eb8081f5",
        "deepnote_cell_type": "markdown"
      }
    },
    {
      "cell_type": "code",
      "metadata": {
        "collapsed": true,
        "cell_id": "00096-19708de7-81e6-471e-9df9-241239106cb1",
        "deepnote_to_be_reexecuted": true,
        "source_hash": "b623e53d",
        "deepnote_cell_type": "code"
      },
      "source": "",
      "outputs": [],
      "execution_count": null
    },
    {
      "cell_type": "markdown",
      "source": "**45.** Check the index of `s` is lexicographically sorted (this is a necessary proprty for indexing to work correctly with a MultiIndex).",
      "metadata": {
        "cell_id": "00097-20a38ce2-50ce-4849-9e2c-e29394d5cf8b",
        "deepnote_cell_type": "markdown"
      }
    },
    {
      "cell_type": "code",
      "metadata": {
        "collapsed": true,
        "cell_id": "00098-d461f367-3bbc-495c-a90b-65b7bb2780d0",
        "deepnote_to_be_reexecuted": true,
        "source_hash": "b623e53d",
        "deepnote_cell_type": "code"
      },
      "source": "",
      "execution_count": null,
      "outputs": []
    },
    {
      "cell_type": "markdown",
      "source": "**46**. Select the labels `1`, `3` and `6` from the second level of the MultiIndexed Series.",
      "metadata": {
        "cell_id": "00099-af55ee13-7460-41b1-afa6-a8656c617104",
        "deepnote_cell_type": "markdown"
      }
    },
    {
      "cell_type": "code",
      "metadata": {
        "collapsed": true,
        "cell_id": "00100-678ebd74-5804-4204-9b3c-aea85fd5c70e",
        "deepnote_to_be_reexecuted": true,
        "source_hash": "b623e53d",
        "deepnote_cell_type": "code"
      },
      "source": "",
      "execution_count": null,
      "outputs": []
    },
    {
      "cell_type": "markdown",
      "source": "**47**. Slice the Series `s`; slice up to label 'B' for the first level and from label 5 onwards for the second level.",
      "metadata": {
        "cell_id": "00101-fd7fa37a-c9b9-4fd6-99d1-1f459570f4d1",
        "deepnote_cell_type": "markdown"
      }
    },
    {
      "cell_type": "code",
      "metadata": {
        "collapsed": true,
        "cell_id": "00102-ee42f797-0730-4468-9c4b-bfbd503ff55e",
        "deepnote_to_be_reexecuted": true,
        "source_hash": "b623e53d",
        "deepnote_cell_type": "code"
      },
      "source": "",
      "execution_count": null,
      "outputs": []
    },
    {
      "cell_type": "markdown",
      "source": "**48**. Sum the values in `s` for each label in the first level (you should have Series giving you a total for labels A, B and C).",
      "metadata": {
        "cell_id": "00103-48e02edf-1ea1-4ef5-9131-72cf2387a57c",
        "deepnote_cell_type": "markdown"
      }
    },
    {
      "cell_type": "code",
      "metadata": {
        "collapsed": true,
        "cell_id": "00104-6d933ff2-babb-4143-a93b-94dae15f646c",
        "deepnote_to_be_reexecuted": true,
        "source_hash": "b623e53d",
        "deepnote_cell_type": "code"
      },
      "source": "",
      "execution_count": null,
      "outputs": []
    },
    {
      "cell_type": "markdown",
      "source": "**49**. Suppose that `sum()` (and other methods) did not accept a `level` keyword argument. How else could you perform the equivalent of `s.sum(level=1)`?",
      "metadata": {
        "cell_id": "00105-e5e09c6e-fb6b-44a9-b40c-c853a9786ef3",
        "deepnote_cell_type": "markdown"
      }
    },
    {
      "cell_type": "code",
      "metadata": {
        "collapsed": true,
        "cell_id": "00106-6f2378b6-13b9-4e21-825c-9ffdd006fa1f",
        "deepnote_to_be_reexecuted": true,
        "source_hash": "b623e53d",
        "deepnote_cell_type": "code"
      },
      "source": "",
      "execution_count": null,
      "outputs": []
    },
    {
      "cell_type": "markdown",
      "source": "**50**. Exchange the levels of the MultiIndex so we have an index of the form (letters, numbers). Is this new Series properly lexsorted? If not, sort it.",
      "metadata": {
        "cell_id": "00107-554884a5-2f43-4063-ad0f-361e7b1057fb",
        "deepnote_cell_type": "markdown"
      }
    },
    {
      "cell_type": "markdown",
      "source": "## Minesweeper\n\n### Generate the numbers for safe squares in a Minesweeper grid\n\nDifficulty: *medium* to *hard*\n\nIf you've ever used an older version of Windows, there's a good chance you've played with [Minesweeper](https://en.wikipedia.org/wiki/Minesweeper_(video_game). If you're not familiar with the game, imagine a grid of squares: some of these squares conceal a mine. If you click on a mine, you lose instantly. If you click on a safe square, you reveal a number telling you how many mines are found in the squares that are immediately adjacent. The aim of the game is to uncover all squares in the grid that do not contain a mine.\n\nIn this section, we'll make a DataFrame that contains the necessary data for a game of Minesweeper: coordinates of the squares, whether the square contains a mine and the number of mines found on adjacent squares.",
      "metadata": {
        "cell_id": "00108-17d38311-c9b6-479b-a96d-4440cf014236",
        "deepnote_cell_type": "markdown"
      }
    },
    {
      "cell_type": "markdown",
      "source": "**51**. Let's suppose we're playing Minesweeper on a 5 by 4 grid, i.e.\n```\nX = 5\nY = 4\n```\nTo begin, generate a DataFrame `df` with two columns, `'x'` and `'y'` containing every coordinate for this grid. That is, the DataFrame should start:\n```\n   x  y\n0  0  0\n1  0  1\n2  0  2\n```",
      "metadata": {
        "cell_id": "00109-b8f5c934-0686-4562-bcac-dfd196926742",
        "deepnote_cell_type": "markdown"
      }
    },
    {
      "cell_type": "code",
      "metadata": {
        "collapsed": true,
        "cell_id": "00110-5c252858-124f-4980-a7d5-4b9002df11e5",
        "deepnote_to_be_reexecuted": true,
        "source_hash": "b623e53d",
        "deepnote_cell_type": "code"
      },
      "source": "",
      "execution_count": null,
      "outputs": []
    },
    {
      "cell_type": "markdown",
      "source": "**52**. For this DataFrame `df`, create a new column of zeros (safe) and ones (mine). The probability of a mine occuring at each location should be 0.4.",
      "metadata": {
        "cell_id": "00111-c044ff9b-d709-40b3-a1d9-6700e67ace6d",
        "deepnote_cell_type": "markdown"
      }
    },
    {
      "cell_type": "code",
      "metadata": {
        "collapsed": true,
        "cell_id": "00112-8abc29c3-2587-4f85-811a-20679149245e",
        "deepnote_to_be_reexecuted": true,
        "source_hash": "b623e53d",
        "deepnote_cell_type": "code"
      },
      "source": "",
      "execution_count": null,
      "outputs": []
    },
    {
      "cell_type": "markdown",
      "source": "**53**. Now create a new column for this DataFrame called `'adjacent'`. This column should contain the number of mines found on adjacent squares in the grid. \n\n(E.g. for the first row, which is the entry for the coordinate `(0, 0)`, count how many mines are found on the coordinates `(0, 1)`, `(1, 0)` and `(1, 1)`.)",
      "metadata": {
        "cell_id": "00113-07a0c1b6-bc3d-4d85-99fe-6244ae94158e",
        "deepnote_cell_type": "markdown"
      }
    },
    {
      "cell_type": "code",
      "metadata": {
        "collapsed": true,
        "cell_id": "00114-a1177729-f648-4a66-b7b7-e2e41441909d",
        "deepnote_to_be_reexecuted": true,
        "source_hash": "b623e53d",
        "deepnote_cell_type": "code"
      },
      "source": "",
      "execution_count": null,
      "outputs": []
    },
    {
      "cell_type": "markdown",
      "source": "**54**. For rows of the DataFrame that contain a mine, set the value in the `'adjacent'` column to NaN.",
      "metadata": {
        "cell_id": "00115-d1d32a16-dcc3-4840-8b9c-0ebca054f233",
        "deepnote_cell_type": "markdown"
      }
    },
    {
      "cell_type": "code",
      "metadata": {
        "collapsed": true,
        "cell_id": "00116-7cb76ccc-120e-4d02-9b25-4b25f9384463",
        "deepnote_to_be_reexecuted": true,
        "source_hash": "b623e53d",
        "deepnote_cell_type": "code"
      },
      "source": "",
      "execution_count": null,
      "outputs": []
    },
    {
      "cell_type": "markdown",
      "source": "**55**. Finally, convert the DataFrame to grid of the adjacent mine counts: columns are the `x` coordinate, rows are the `y` coordinate.",
      "metadata": {
        "cell_id": "00117-20584597-9330-4308-856f-5b7f091b99a1",
        "deepnote_cell_type": "markdown"
      }
    },
    {
      "cell_type": "code",
      "metadata": {
        "collapsed": true,
        "cell_id": "00118-7975219a-b96f-4990-afb2-78463918c056",
        "deepnote_to_be_reexecuted": true,
        "source_hash": "b623e53d",
        "deepnote_cell_type": "code"
      },
      "source": "",
      "execution_count": null,
      "outputs": []
    },
    {
      "cell_type": "markdown",
      "source": "## Plotting\n\n### Visualize trends and patterns in data\n\nDifficulty: *medium*\n\nTo really get a good understanding of the data contained in your DataFrame, it is often essential to create plots: if you're lucky, trends and anomalies will jump right out at you. This functionality is baked into pandas and the puzzles below explore some of what's possible with the library.\n\n**56.** Pandas is highly integrated with the plotting library matplotlib, and makes plotting DataFrames very user-friendly! Plotting in a notebook environment usually makes use of the following boilerplate:\n\n```python\nimport matplotlib.pyplot as plt\n%matplotlib inline\nplt.style.use('ggplot')\n```\n\nmatplotlib is the plotting library which pandas' plotting functionality is built upon, and it is usually aliased to ```plt```.\n\n```%matplotlib inline``` tells the notebook to show plots inline, instead of creating them in a separate window.  \n\n```plt.style.use('ggplot')``` is a style theme that most people find agreeable, based upon the styling of R's ggplot package.\n\nFor starters, make a scatter plot of this random data, but use black X's instead of the default markers. \n\n```df = pd.DataFrame({\"xs\":[1,5,2,8,1], \"ys\":[4,2,1,9,6]})```\n\nConsult the [documentation](https://pandas.pydata.org/pandas-docs/stable/generated/pandas.DataFrame.plot.html) if you get stuck!",
      "metadata": {
        "cell_id": "00119-b0c438ac-6de3-43ca-8468-1422ccfec7bc",
        "deepnote_cell_type": "markdown"
      }
    },
    {
      "cell_type": "code",
      "metadata": {
        "collapsed": true,
        "cell_id": "00120-06dd877d-2b42-45ce-94f3-a7f4c79d1f2d",
        "deepnote_to_be_reexecuted": true,
        "source_hash": "b623e53d",
        "deepnote_cell_type": "code"
      },
      "source": "",
      "execution_count": null,
      "outputs": []
    },
    {
      "cell_type": "markdown",
      "source": "**57.** Columns in your DataFrame can also be used to modify colors and sizes.  Bill has been keeping track of his performance at work over time, as well as how good he was feeling that day, and whether he had a cup of coffee in the morning.  Make a plot which incorporates all four features of this DataFrame.\n\n(Hint:  If you're having trouble seeing the plot, try multiplying the Series which you choose to represent size by 10 or more)\n\n*The chart doesn't have to be pretty: this isn't a course in data viz!*\n\n```\ndf = pd.DataFrame({\"productivity\":[5,2,3,1,4,5,6,7,8,3,4,8,9],\n                   \"hours_in\"    :[1,9,6,5,3,9,2,9,1,7,4,2,2],\n                   \"happiness\"   :[2,1,3,2,3,1,2,3,1,2,2,1,3],\n                   \"caffienated\" :[0,0,1,1,0,0,0,0,1,1,0,1,0]})\n```",
      "metadata": {
        "cell_id": "00121-bf460c8d-9406-4754-9502-35428d8c4a28",
        "deepnote_cell_type": "markdown"
      }
    },
    {
      "cell_type": "code",
      "metadata": {
        "collapsed": true,
        "cell_id": "00122-0ccd27c4-0d98-4c21-a28d-5a0fd5a36255",
        "deepnote_to_be_reexecuted": true,
        "source_hash": "b623e53d",
        "deepnote_cell_type": "code"
      },
      "source": "",
      "execution_count": null,
      "outputs": []
    },
    {
      "cell_type": "markdown",
      "source": "**58.**  What if we want to plot multiple things?  Pandas allows you to pass in a matplotlib *Axis* object for plots, and plots will also return an Axis object.\n\nMake a bar plot of monthly revenue with a line plot of monthly advertising spending (numbers in millions)\n\n```\ndf = pd.DataFrame({\"revenue\":[57,68,63,71,72,90,80,62,59,51,47,52],\n                   \"advertising\":[2.1,1.9,2.7,3.0,3.6,3.2,2.7,2.4,1.8,1.6,1.3,1.9],\n                   \"month\":range(12)\n                  })\n```",
      "metadata": {
        "cell_id": "00123-29100198-a6ee-4737-99b1-fc6d2ee4d193",
        "deepnote_cell_type": "markdown"
      }
    },
    {
      "cell_type": "code",
      "metadata": {
        "collapsed": true,
        "cell_id": "00124-afc2cd09-da69-495b-b65c-102a1f32c341",
        "deepnote_to_be_reexecuted": true,
        "source_hash": "b623e53d",
        "deepnote_cell_type": "code"
      },
      "source": "",
      "execution_count": null,
      "outputs": []
    },
    {
      "cell_type": "markdown",
      "source": "Now we're finally ready to create a candlestick chart, which is a very common tool used to analyze stock price data.  A candlestick chart shows the opening, closing, highest, and lowest price for a stock during a time window.  The color of the \"candle\" (the thick part of the bar) is green if the stock closed above its opening price, or red if below.\n\n![Candlestick Example](img/candle.jpg)\n\nThis was initially designed to be a pandas plotting challenge, but it just so happens that this type of plot is just not feasible using pandas' methods.  If you are unfamiliar with matplotlib, we have provided a function that will plot the chart for you so long as you can use pandas to get the data into the correct format.\n\nYour first step should be to get the data in the correct format using pandas' time-series grouping function.  We would like each candle to represent an hour's worth of data.  You can write your own aggregation function which returns the open/high/low/close, but pandas has a built-in which also does this.",
      "metadata": {
        "cell_id": "00125-b4b6e829-4d45-44e6-8b4d-5dcbc65f5973",
        "deepnote_cell_type": "markdown"
      }
    },
    {
      "cell_type": "markdown",
      "source": "The below cell contains helper functions.  Call ```day_stock_data()``` to generate a DataFrame containing the prices a hypothetical stock sold for, and the time the sale occurred.  Call ```plot_candlestick(df)``` on your properly aggregated and formatted stock data to print the candlestick chart.",
      "metadata": {
        "cell_id": "00126-87d51cd8-8739-42f9-9cc2-d88a15365240",
        "deepnote_cell_type": "markdown"
      }
    },
    {
      "cell_type": "code",
      "metadata": {
        "collapsed": true,
        "cell_id": "00127-f63ba706-cec3-41db-b776-991947bfcbdc",
        "deepnote_to_be_reexecuted": true,
        "source_hash": "13e5618d",
        "deepnote_cell_type": "code"
      },
      "source": "import numpy as np\ndef float_to_time(x):\n    return str(int(x)) + \":\" + str(int(x%1 * 60)).zfill(2) + \":\" + str(int(x*60 % 1 * 60)).zfill(2)\n\ndef day_stock_data():\n    #NYSE is open from 9:30 to 4:00\n    time = 9.5\n    price = 100\n    results = [(float_to_time(time), price)]\n    while time < 16:\n        elapsed = np.random.exponential(.001)\n        time += elapsed\n        if time > 16:\n            break\n        price_diff = np.random.uniform(.999, 1.001)\n        price *= price_diff\n        results.append((float_to_time(time), price))\n    \n    \n    df = pd.DataFrame(results, columns = ['time','price'])\n    df.time = pd.to_datetime(df.time)\n    return df\n\n#Don't read me unless you get stuck!\ndef plot_candlestick(agg):\n    \"\"\"\n    agg is a DataFrame which has a DatetimeIndex and five columns: [\"open\",\"high\",\"low\",\"close\",\"color\"]\n    \"\"\"\n    fig, ax = plt.subplots()\n    for time in agg.index:\n        ax.plot([time.hour] * 2, agg.loc[time, [\"high\",\"low\"]].values, color = \"black\")\n        ax.plot([time.hour] * 2, agg.loc[time, [\"open\",\"close\"]].values, color = agg.loc[time, \"color\"], linewidth = 10)\n\n    ax.set_xlim((8,16))\n    ax.set_ylabel(\"Price\")\n    ax.set_xlabel(\"Hour\")\n    ax.set_title(\"OHLC of Stock Value During Trading Day\")\n    plt.show()",
      "outputs": [],
      "execution_count": null
    },
    {
      "cell_type": "markdown",
      "source": "**59.** Generate a day's worth of random stock data, and aggregate / reformat it so that it has hourly summaries of the opening, highest, lowest, and closing prices",
      "metadata": {
        "cell_id": "00128-1fe1a843-0a4f-48c4-8398-4d76fcfe1156",
        "deepnote_cell_type": "markdown"
      }
    },
    {
      "cell_type": "code",
      "metadata": {
        "collapsed": true,
        "cell_id": "00129-0b0ccb3a-7a18-4747-b9d5-9d1cd69dc248",
        "deepnote_to_be_reexecuted": true,
        "source_hash": "b623e53d",
        "deepnote_cell_type": "code"
      },
      "source": "",
      "execution_count": null,
      "outputs": []
    },
    {
      "cell_type": "markdown",
      "source": "**60.** Now that you have your properly-formatted data, try to plot it yourself as a candlestick chart.  Use the ```plot_candlestick(df)``` function above, or matplotlib's [```plot``` documentation](https://matplotlib.org/api/_as_gen/matplotlib.axes.Axes.plot.html) if you get stuck.",
      "metadata": {
        "cell_id": "00130-d4cd4166-a50a-4989-a35b-269d647dc1c6",
        "deepnote_cell_type": "markdown"
      }
    },
    {
      "cell_type": "code",
      "metadata": {
        "collapsed": true,
        "cell_id": "00131-feb9222f-a230-49f1-b864-f8f38af34dc7",
        "deepnote_to_be_reexecuted": true,
        "source_hash": "b623e53d",
        "deepnote_cell_type": "code"
      },
      "source": "",
      "execution_count": null,
      "outputs": []
    },
    {
      "cell_type": "markdown",
      "source": "*More exercises to follow soon...*",
      "metadata": {
        "cell_id": "00132-0462fd1d-b0ce-4b6b-b8a0-8d8780f8431f",
        "deepnote_cell_type": "markdown"
      }
    },
    {
      "cell_type": "markdown",
      "source": "<a style='text-decoration:none;line-height:16px;display:flex;color:#5B5B62;padding:10px;justify-content:end;' href='https://deepnote.com?utm_source=created-in-deepnote-cell&projectId=79673256-d468-4dc3-bcd4-af2c4cf3525d' target=\"_blank\">\n<img style='display:inline;max-height:16px;margin:0px;margin-right:7.5px;' src='data:image/svg+xml;base64,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' > </img>\nCreated in <span style='font-weight:600;margin-left:4px;'>Deepnote</span></a>",
      "metadata": {
        "tags": [],
        "created_in_deepnote_cell": true,
        "deepnote_cell_type": "markdown"
      }
    }
  ],
  "nbformat": 4,
  "nbformat_minor": 1,
  "metadata": {
    "kernelspec": {
      "display_name": "Python 3",
      "language": "python",
      "name": "python3"
    },
    "language_info": {
      "codemirror_mode": {
        "name": "ipython",
        "version": 3
      },
      "file_extension": ".py",
      "mimetype": "text/x-python",
      "name": "python",
      "nbconvert_exporter": "python",
      "pygments_lexer": "ipython3",
      "version": "3.9.1"
    },
    "deepnote_notebook_id": "7660804f-2649-4e62-b801-f03fb2505845",
    "deepnote": {},
    "deepnote_execution_queue": []
  }
}