{
  "cells": [
    {
      "cell_type": "code",
      "metadata": {
        "cell_id": "00000-e5afe2d5-2ecf-49ac-8a17-5cfad810cc13",
        "deepnote_to_be_reexecuted": false,
        "source_hash": "c76c7c51",
        "execution_start": 1616506228466,
        "execution_millis": 1,
        "deepnote_cell_type": "code"
      },
      "source": "import pandas as pd\nimport numpy as np",
      "execution_count": 1,
      "outputs": []
    },
    {
      "cell_type": "markdown",
      "source": "**23.** Given a DataFrame of numeric values, say\n```python\ndf = pd.DataFrame(np.random.random(size=(5, 3))) # a 5x3 frame of float values\n```\n\nhow do you subtract the row mean from each element in the row?",
      "metadata": {
        "cell_id": "00001-4dced258-c13c-4b83-adf8-bc4adc19cf6f",
        "deepnote_cell_type": "markdown"
      }
    },
    {
      "cell_type": "code",
      "metadata": {
        "cell_id": "00002-5d5f16d2-ab74-40b9-bee6-51922a8ea795",
        "deepnote_to_be_reexecuted": false,
        "source_hash": "56c3eb8",
        "execution_start": 1616506231610,
        "execution_millis": 36,
        "deepnote_cell_type": "code"
      },
      "source": "f = pd.DataFrame(np.random.random(size=(5, 3)))\nf.sub(f.mean(axis=1), axis=0)",
      "execution_count": 2,
      "outputs": [
        {
          "output_type": "execute_result",
          "execution_count": 2,
          "data": {
            "application/vnd.deepnote.dataframe.v2+json": {
              "row_count": 5,
              "column_count": 3,
              "columns": [
                {
                  "name": 0,
                  "dtype": "float64",
                  "stats": {
                    "unique_count": 5,
                    "nan_count": 0,
                    "min": -0.4386773843964524,
                    "max": 0.11575264607260827,
                    "histogram": [
                      {
                        "bin_start": -0.4386773843964524,
                        "bin_end": -0.3832343813495463,
                        "count": 1
                      },
                      {
                        "bin_start": -0.3832343813495463,
                        "bin_end": -0.32779137830264027,
                        "count": 0
                      },
                      {
                        "bin_start": -0.32779137830264027,
                        "bin_end": -0.2723483752557342,
                        "count": 0
                      },
                      {
                        "bin_start": -0.2723483752557342,
                        "bin_end": -0.21690537220882813,
                        "count": 1
                      },
                      {
                        "bin_start": -0.21690537220882813,
                        "bin_end": -0.16146236916192208,
                        "count": 0
                      },
                      {
                        "bin_start": -0.16146236916192208,
                        "bin_end": -0.106019366115016,
                        "count": 0
                      },
                      {
                        "bin_start": -0.106019366115016,
                        "bin_end": -0.050576363068109975,
                        "count": 0
                      },
                      {
                        "bin_start": -0.050576363068109975,
                        "bin_end": 0.004866639978796106,
                        "count": 0
                      },
                      {
                        "bin_start": 0.004866639978796106,
                        "bin_end": 0.060309643025702186,
                        "count": 1
                      },
                      {
                        "bin_start": 0.060309643025702186,
                        "bin_end": 0.11575264607260827,
                        "count": 2
                      }
                    ]
                  }
                },
                {
                  "name": 1,
                  "dtype": "float64",
                  "stats": {
                    "unique_count": 5,
                    "nan_count": 0,
                    "min": -0.3262508527265878,
                    "max": 0.27607674153790646,
                    "histogram": [
                      {
                        "bin_start": -0.3262508527265878,
                        "bin_end": -0.26601809330013837,
                        "count": 2
                      },
                      {
                        "bin_start": -0.26601809330013837,
                        "bin_end": -0.20578533387368897,
                        "count": 0
                      },
                      {
                        "bin_start": -0.20578533387368897,
                        "bin_end": -0.1455525744472395,
                        "count": 0
                      },
                      {
                        "bin_start": -0.1455525744472395,
                        "bin_end": -0.08531981502079009,
                        "count": 1
                      },
                      {
                        "bin_start": -0.08531981502079009,
                        "bin_end": -0.025087055594340657,
                        "count": 0
                      },
                      {
                        "bin_start": -0.025087055594340657,
                        "bin_end": 0.0351457038321088,
                        "count": 0
                      },
                      {
                        "bin_start": 0.0351457038321088,
                        "bin_end": 0.0953784632585582,
                        "count": 0
                      },
                      {
                        "bin_start": 0.0953784632585582,
                        "bin_end": 0.15561122268500766,
                        "count": 0
                      },
                      {
                        "bin_start": 0.15561122268500766,
                        "bin_end": 0.21584398211145706,
                        "count": 0
                      },
                      {
                        "bin_start": 0.21584398211145706,
                        "bin_end": 0.27607674153790646,
                        "count": 2
                      }
                    ]
                  }
                },
                {
                  "name": 2,
                  "dtype": "float64",
                  "stats": {
                    "unique_count": 5,
                    "nan_count": 0,
                    "min": -0.04736552223130713,
                    "max": 0.28179498886672116,
                    "histogram": [
                      {
                        "bin_start": -0.04736552223130713,
                        "bin_end": -0.014449471121504305,
                        "count": 2
                      },
                      {
                        "bin_start": -0.014449471121504305,
                        "bin_end": 0.018466579988298523,
                        "count": 0
                      },
                      {
                        "bin_start": 0.018466579988298523,
                        "bin_end": 0.051382631098101345,
                        "count": 0
                      },
                      {
                        "bin_start": 0.051382631098101345,
                        "bin_end": 0.08429868220790418,
                        "count": 0
                      },
                      {
                        "bin_start": 0.08429868220790418,
                        "bin_end": 0.11721473331770701,
                        "count": 0
                      },
                      {
                        "bin_start": 0.11721473331770701,
                        "bin_end": 0.15013078442750982,
                        "count": 0
                      },
                      {
                        "bin_start": 0.15013078442750982,
                        "bin_end": 0.18304683553731266,
                        "count": 0
                      },
                      {
                        "bin_start": 0.18304683553731266,
                        "bin_end": 0.2159628866471155,
                        "count": 2
                      },
                      {
                        "bin_start": 0.2159628866471155,
                        "bin_end": 0.24887893775691833,
                        "count": 0
                      },
                      {
                        "bin_start": 0.24887893775691833,
                        "bin_end": 0.28179498886672116,
                        "count": 1
                      }
                    ]
                  }
                },
                {
                  "name": "_deepnote_index_column",
                  "dtype": "int64"
                }
              ],
              "rows_top": [
                {
                  "0": 0.11575264607260827,
                  "1": -0.08833640882357363,
                  "2": -0.027416237249034636,
                  "_deepnote_index_column": 0
                },
                {
                  "0": 0.06319944361348329,
                  "1": -0.26785521696419357,
                  "2": 0.20465577335071017,
                  "_deepnote_index_column": 1
                },
                {
                  "0": -0.4386773843964524,
                  "1": 0.22768566618043434,
                  "2": 0.21099171821601787,
                  "_deepnote_index_column": 2
                },
                {
                  "0": -0.22871121930659938,
                  "1": 0.27607674153790646,
                  "2": -0.04736552223130713,
                  "_deepnote_index_column": 3
                },
                {
                  "0": 0.04445586385986666,
                  "1": -0.3262508527265878,
                  "2": 0.28179498886672116,
                  "_deepnote_index_column": 4
                }
              ],
              "rows_bottom": null
            },
            "text/plain": "          0         1         2\n0  0.115753 -0.088336 -0.027416\n1  0.063199 -0.267855  0.204656\n2 -0.438677  0.227686  0.210992\n3 -0.228711  0.276077 -0.047366\n4  0.044456 -0.326251  0.281795",
            "text/html": "<div>\n<style scoped>\n    .dataframe tbody tr th:only-of-type {\n        vertical-align: middle;\n    }\n\n    .dataframe tbody tr th {\n        vertical-align: top;\n    }\n\n    .dataframe thead th {\n        text-align: right;\n    }\n</style>\n<table border=\"1\" class=\"dataframe\">\n  <thead>\n    <tr style=\"text-align: right;\">\n      <th></th>\n      <th>0</th>\n      <th>1</th>\n      <th>2</th>\n    </tr>\n  </thead>\n  <tbody>\n    <tr>\n      <th>0</th>\n      <td>0.115753</td>\n      <td>-0.088336</td>\n      <td>-0.027416</td>\n    </tr>\n    <tr>\n      <th>1</th>\n      <td>0.063199</td>\n      <td>-0.267855</td>\n      <td>0.204656</td>\n    </tr>\n    <tr>\n      <th>2</th>\n      <td>-0.438677</td>\n      <td>0.227686</td>\n      <td>0.210992</td>\n    </tr>\n    <tr>\n      <th>3</th>\n      <td>-0.228711</td>\n      <td>0.276077</td>\n      <td>-0.047366</td>\n    </tr>\n    <tr>\n      <th>4</th>\n      <td>0.044456</td>\n      <td>-0.326251</td>\n      <td>0.281795</td>\n    </tr>\n  </tbody>\n</table>\n</div>"
          },
          "metadata": {}
        }
      ]
    },
    {
      "cell_type": "markdown",
      "source": "**24.** Suppose you have DataFrame with 10 columns of real numbers, for example:\n\n```python\ndf = pd.DataFrame(np.random.random(size=(5, 10)), columns=list('abcdefghij'))\n```\nWhich column of numbers has the smallest sum? (Find that column's label.)",
      "metadata": {
        "cell_id": "00003-bb435201-9c4d-4d6c-842c-c59ec7eada7f",
        "deepnote_cell_type": "markdown"
      }
    },
    {
      "cell_type": "code",
      "metadata": {
        "cell_id": "00004-5571991b-a527-44e2-a6fc-534793112dc3",
        "deepnote_to_be_reexecuted": false,
        "source_hash": "a7fe3da7",
        "execution_start": 1616507497786,
        "execution_millis": 12,
        "deepnote_cell_type": "code"
      },
      "source": "d = pd.DataFrame(np.random.random(size=(5, 10)), columns=list('abcdefghij')) #creating data frame\ncreated_dict=dict(d.sum(axis = 0)) #creating dict\nsorted_list = sorted(created_dict.items(), key=lambda kv: kv[1]) #making list as tuples as sorted\nsorted_list[0] #it gives first element of the list\n\n#we can also find with this\n#d.sum().idxmin()",
      "execution_count": 3,
      "outputs": [
        {
          "output_type": "execute_result",
          "execution_count": 3,
          "data": {
            "text/plain": "('d', 1.208022894976557)"
          },
          "metadata": {}
        }
      ]
    },
    {
      "cell_type": "markdown",
      "source": "<a style='text-decoration:none;line-height:16px;display:flex;color:#5B5B62;padding:10px;justify-content:end;' href='https://deepnote.com?utm_source=created-in-deepnote-cell&projectId=79673256-d468-4dc3-bcd4-af2c4cf3525d' target=\"_blank\">\n<img style='display:inline;max-height:16px;margin:0px;margin-right:7.5px;' src='data:image/svg+xml;base64,PD94bWwgdmVyc2lvbj0iMS4wIiBlbmNvZGluZz0iVVRGLTgiPz4KPHN2ZyB3aWR0aD0iODBweCIgaGVpZ2h0PSI4MHB4IiB2aWV3Qm94PSIwIDAgODAgODAiIHZlcnNpb249IjEuMSIgeG1sbnM9Imh0dHA6Ly93d3cudzMub3JnLzIwMDAvc3ZnIiB4bWxuczp4bGluaz0iaHR0cDovL3d3dy53My5vcmcvMTk5OS94bGluayI+CiAgICA8IS0tIEdlbmVyYXRvcjogU2tldGNoIDU0LjEgKDc2NDkwKSAtIGh0dHBzOi8vc2tldGNoYXBwLmNvbSAtLT4KICAgIDx0aXRsZT5Hcm91cCAzPC90aXRsZT4KICAgIDxkZXNjPkNyZWF0ZWQgd2l0aCBTa2V0Y2guPC9kZXNjPgogICAgPGcgaWQ9IkxhbmRpbmciIHN0cm9rZT0ibm9uZSIgc3Ryb2tlLXdpZHRoPSIxIiBmaWxsPSJub25lIiBmaWxsLXJ1bGU9ImV2ZW5vZGQiPgogICAgICAgIDxnIGlkPSJBcnRib2FyZCIgdHJhbnNmb3JtPSJ0cmFuc2xhdGUoLTEyMzUuMDAwMDAwLCAtNzkuMDAwMDAwKSI+CiAgICAgICAgICAgIDxnIGlkPSJHcm91cC0zIiB0cmFuc2Zvcm09InRyYW5zbGF0ZSgxMjM1LjAwMDAwMCwgNzkuMDAwMDAwKSI+CiAgICAgICAgICAgICAgICA8cG9seWdvbiBpZD0iUGF0aC0yMCIgZmlsbD0iIzAyNjVCNCIgcG9pbnRzPSIyLjM3NjIzNzYyIDgwIDM4LjA0NzY2NjcgODAgNTcuODIxNzgyMiA3My44MDU3NTkyIDU3LjgyMTc4MjIgMzIuNzU5MjczOSAzOS4xNDAyMjc4IDMxLjY4MzE2ODMiPjwvcG9seWdvbj4KICAgICAgICAgICAgICAgIDxwYXRoIGQ9Ik0zNS4wMDc3MTgsODAgQzQyLjkwNjIwMDcsNzYuNDU0OTM1OCA0Ny41NjQ5MTY3LDcxLjU0MjI2NzEgNDguOTgzODY2LDY1LjI2MTk5MzkgQzUxLjExMjI4OTksNTUuODQxNTg0MiA0MS42NzcxNzk1LDQ5LjIxMjIyODQgMjUuNjIzOTg0Niw0OS4yMTIyMjg0IEMyNS40ODQ5Mjg5LDQ5LjEyNjg0NDggMjkuODI2MTI5Niw0My4yODM4MjQ4IDM4LjY0NzU4NjksMzEuNjgzMTY4MyBMNzIuODcxMjg3MSwzMi41NTQ0MjUgTDY1LjI4MDk3Myw2Ny42NzYzNDIxIEw1MS4xMTIyODk5LDc3LjM3NjE0NCBMMzUuMDA3NzE4LDgwIFoiIGlkPSJQYXRoLTIyIiBmaWxsPSIjMDAyODY4Ij48L3BhdGg+CiAgICAgICAgICAgICAgICA8cGF0aCBkPSJNMCwzNy43MzA0NDA1IEwyNy4xMTQ1MzcsMC4yNTcxMTE0MzYgQzYyLjM3MTUxMjMsLTEuOTkwNzE3MDEgODAsMTAuNTAwMzkyNyA4MCwzNy43MzA0NDA1IEM4MCw2NC45NjA0ODgyIDY0Ljc3NjUwMzgsNzkuMDUwMzQxNCAzNC4zMjk1MTEzLDgwIEM0Ny4wNTUzNDg5LDc3LjU2NzA4MDggNTMuNDE4MjY3Nyw3MC4zMTM2MTAzIDUzLjQxODI2NzcsNTguMjM5NTg4NSBDNTMuNDE4MjY3Nyw0MC4xMjg1NTU3IDM2LjMwMzk1NDQsMzcuNzMwNDQwNSAyNS4yMjc0MTcsMzcuNzMwNDQwNSBDMTcuODQzMDU4NiwzNy43MzA0NDA1IDkuNDMzOTE5NjYsMzcuNzMwNDQwNSAwLDM3LjczMDQ0MDUgWiIgaWQ9IlBhdGgtMTkiIGZpbGw9IiMzNzkzRUYiPjwvcGF0aD4KICAgICAgICAgICAgPC9nPgogICAgICAgIDwvZz4KICAgIDwvZz4KPC9zdmc+' > </img>\nCreated in <span style='font-weight:600;margin-left:4px;'>Deepnote</span></a>",
      "metadata": {
        "tags": [],
        "created_in_deepnote_cell": true,
        "deepnote_cell_type": "markdown"
      }
    }
  ],
  "nbformat": 4,
  "nbformat_minor": 5,
  "metadata": {
    "kernelspec": {
      "display_name": "Python 3",
      "language": "python",
      "name": "python3"
    },
    "language_info": {
      "codemirror_mode": {
        "name": "ipython",
        "version": 3
      },
      "file_extension": ".py",
      "mimetype": "text/x-python",
      "name": "python",
      "nbconvert_exporter": "python",
      "pygments_lexer": "ipython3",
      "version": "3.9.1"
    },
    "deepnote_notebook_id": "19cc9225-cee4-472f-a676-274631cb24c6",
    "deepnote": {},
    "deepnote_execution_queue": []
  }
}