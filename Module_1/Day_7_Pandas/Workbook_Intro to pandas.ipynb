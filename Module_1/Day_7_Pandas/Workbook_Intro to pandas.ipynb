{
  "cells": [
    {
      "cell_type": "code",
      "metadata": {
        "cell_id": "00000-2477f16d-266c-488d-b14f-90fa9c8b4ecc",
        "deepnote_cell_type": "code"
      },
      "source": "import pandas as pd",
      "outputs": [],
      "execution_count": null
    },
    {
      "cell_type": "markdown",
      "source": "## Series",
      "metadata": {
        "cell_id": "00001-4a7cd268-8b78-418f-a058-13e13931eaf1",
        "deepnote_cell_type": "markdown"
      }
    },
    {
      "cell_type": "code",
      "metadata": {
        "cell_id": "00002-cf29c6a8-f0ff-461f-93f6-e4cd778a69ea",
        "deepnote_cell_type": "code"
      },
      "source": "pd.Series([4, 6, -5, 3])",
      "outputs": [
        {
          "data": {
            "text/plain": "0    4\n1    6\n2   -5\n3    3\ndtype: int64"
          },
          "execution_count": 4,
          "metadata": {},
          "output_type": "execute_result"
        }
      ],
      "execution_count": null
    },
    {
      "cell_type": "code",
      "metadata": {
        "cell_id": "00003-1585be45-d37f-449a-84c0-207d2e8ae6fc",
        "deepnote_cell_type": "code"
      },
      "source": "pd.Series([4, 6, -5, 3], index=['x1', 'x2', 'y1', 'y2'])",
      "outputs": [
        {
          "data": {
            "text/plain": "x1    4\nx2    6\ny1   -5\ny2    3\ndtype: int64"
          },
          "execution_count": 5,
          "metadata": {},
          "output_type": "execute_result"
        }
      ],
      "execution_count": null
    },
    {
      "cell_type": "code",
      "metadata": {
        "cell_id": "00004-72755069-75ba-46cf-82fa-5d27fcc58268",
        "deepnote_cell_type": "code"
      },
      "source": "bounding_box = pd.Series([4, 6, -5, 3], index=['x1', 'x2', 'y1', 'y2'])\nprint(bounding_box['x1'])\nbounding_box[['x1', 'y1']]",
      "outputs": [
        {
          "name": "stdout",
          "output_type": "stream",
          "text": "4\n"
        },
        {
          "data": {
            "text/plain": "x1    4\ny1   -5\ndtype: int64"
          },
          "execution_count": 8,
          "metadata": {},
          "output_type": "execute_result"
        }
      ],
      "execution_count": null
    },
    {
      "cell_type": "code",
      "metadata": {
        "cell_id": "00005-3030d314-7a4b-412f-89f3-4d24f837800f",
        "deepnote_cell_type": "code"
      },
      "source": "bounding_box / bounding_box.sum()",
      "outputs": [
        {
          "data": {
            "text/plain": "x1    0.500\nx2    0.750\ny1   -0.625\ny2    0.375\ndtype: float64"
          },
          "execution_count": 9,
          "metadata": {},
          "output_type": "execute_result"
        }
      ],
      "execution_count": null
    },
    {
      "cell_type": "code",
      "metadata": {
        "cell_id": "00006-254a8b5f-296b-476e-aa48-3685b2c8b029",
        "deepnote_cell_type": "code"
      },
      "source": "missing_data = pd.Series([4, 6, -5, None], index=['x1', 'x2', 'y1', 'y2'])\n\npd.isnull(missing_data)",
      "outputs": [
        {
          "data": {
            "text/plain": "x1    False\nx2    False\ny1    False\ny2     True\ndtype: bool"
          },
          "execution_count": 10,
          "metadata": {},
          "output_type": "execute_result"
        }
      ],
      "execution_count": null
    },
    {
      "cell_type": "markdown",
      "source": "## DataFrame",
      "metadata": {
        "cell_id": "00007-b3f76744-f29b-492e-86d5-6974383d8ba1",
        "deepnote_cell_type": "markdown"
      }
    },
    {
      "cell_type": "code",
      "metadata": {
        "cell_id": "00008-ce799a95-dba9-4247-9e81-2d56e2cf8775",
        "deepnote_cell_type": "code"
      },
      "source": "data = {\n    'name': ['Maria', 'Carla', 'Juan', 'Ana', 'Sergio'],\n    'age': [15, 33, 12, 21, 45],\n    'gender': [True, True, False, True, False]\n}\n\npd.DataFrame(data)",
      "outputs": [
        {
          "data": {
            "text/html": "<div>\n<style scoped>\n    .dataframe tbody tr th:only-of-type {\n        vertical-align: middle;\n    }\n\n    .dataframe tbody tr th {\n        vertical-align: top;\n    }\n\n    .dataframe thead th {\n        text-align: right;\n    }\n</style>\n<table border=\"1\" class=\"dataframe\">\n  <thead>\n    <tr style=\"text-align: right;\">\n      <th></th>\n      <th>name</th>\n      <th>age</th>\n      <th>gender</th>\n    </tr>\n  </thead>\n  <tbody>\n    <tr>\n      <th>0</th>\n      <td>Maria</td>\n      <td>15</td>\n      <td>True</td>\n    </tr>\n    <tr>\n      <th>1</th>\n      <td>Carla</td>\n      <td>33</td>\n      <td>True</td>\n    </tr>\n    <tr>\n      <th>2</th>\n      <td>Juan</td>\n      <td>12</td>\n      <td>False</td>\n    </tr>\n    <tr>\n      <th>3</th>\n      <td>Ana</td>\n      <td>21</td>\n      <td>True</td>\n    </tr>\n    <tr>\n      <th>4</th>\n      <td>Sergio</td>\n      <td>45</td>\n      <td>False</td>\n    </tr>\n  </tbody>\n</table>\n</div>",
            "text/plain": "     name  age  gender\n0   Maria   15    True\n1   Carla   33    True\n2    Juan   12   False\n3     Ana   21    True\n4  Sergio   45   False"
          },
          "execution_count": 11,
          "metadata": {},
          "output_type": "execute_result"
        }
      ],
      "execution_count": null
    },
    {
      "cell_type": "markdown",
      "source": "## Read from csv",
      "metadata": {
        "cell_id": "00009-f97bae3b-b5db-4286-b308-85470fd044bb",
        "deepnote_cell_type": "markdown"
      }
    },
    {
      "cell_type": "code",
      "metadata": {
        "cell_id": "00010-4046cad4-7353-4578-8f8e-751df2314095",
        "deepnote_cell_type": "code"
      },
      "source": "pd.read_csv('data/iris.data', header=None).head()",
      "outputs": [
        {
          "data": {
            "text/html": "<div>\n<style scoped>\n    .dataframe tbody tr th:only-of-type {\n        vertical-align: middle;\n    }\n\n    .dataframe tbody tr th {\n        vertical-align: top;\n    }\n\n    .dataframe thead th {\n        text-align: right;\n    }\n</style>\n<table border=\"1\" class=\"dataframe\">\n  <thead>\n    <tr style=\"text-align: right;\">\n      <th></th>\n      <th>0</th>\n      <th>1</th>\n      <th>2</th>\n      <th>3</th>\n      <th>4</th>\n    </tr>\n  </thead>\n  <tbody>\n    <tr>\n      <th>0</th>\n      <td>5.1</td>\n      <td>3.5</td>\n      <td>1.4</td>\n      <td>0.2</td>\n      <td>Iris-setosa</td>\n    </tr>\n    <tr>\n      <th>1</th>\n      <td>4.9</td>\n      <td>3.0</td>\n      <td>1.4</td>\n      <td>0.2</td>\n      <td>Iris-setosa</td>\n    </tr>\n    <tr>\n      <th>2</th>\n      <td>4.7</td>\n      <td>3.2</td>\n      <td>1.3</td>\n      <td>0.2</td>\n      <td>Iris-setosa</td>\n    </tr>\n    <tr>\n      <th>3</th>\n      <td>4.6</td>\n      <td>3.1</td>\n      <td>1.5</td>\n      <td>0.2</td>\n      <td>Iris-setosa</td>\n    </tr>\n    <tr>\n      <th>4</th>\n      <td>5.0</td>\n      <td>3.6</td>\n      <td>1.4</td>\n      <td>0.2</td>\n      <td>Iris-setosa</td>\n    </tr>\n  </tbody>\n</table>\n</div>",
            "text/plain": "     0    1    2    3            4\n0  5.1  3.5  1.4  0.2  Iris-setosa\n1  4.9  3.0  1.4  0.2  Iris-setosa\n2  4.7  3.2  1.3  0.2  Iris-setosa\n3  4.6  3.1  1.5  0.2  Iris-setosa\n4  5.0  3.6  1.4  0.2  Iris-setosa"
          },
          "execution_count": 15,
          "metadata": {},
          "output_type": "execute_result"
        }
      ],
      "execution_count": null
    },
    {
      "cell_type": "markdown",
      "source": "## Index",
      "metadata": {
        "cell_id": "00011-29923445-14ff-4c32-a0e7-ab210864662b",
        "deepnote_cell_type": "markdown"
      }
    },
    {
      "cell_type": "code",
      "metadata": {
        "cell_id": "00012-5dd13018-4b36-486c-9d45-68dd53a3ea22",
        "deepnote_cell_type": "code"
      },
      "source": "df = pd.DataFrame(data)\ndf.index",
      "outputs": [
        {
          "data": {
            "text/plain": "RangeIndex(start=0, stop=5, step=1)"
          },
          "execution_count": 16,
          "metadata": {},
          "output_type": "execute_result"
        }
      ],
      "execution_count": null
    },
    {
      "cell_type": "code",
      "metadata": {
        "cell_id": "00013-dd6daf04-0d6f-4d23-96d6-10f4dd9a7f7c",
        "deepnote_cell_type": "code"
      },
      "source": "df = pd.DataFrame(data)\ndf.index = ['m','c','j','a','s']\ndf",
      "outputs": [
        {
          "data": {
            "text/html": "<div>\n<style scoped>\n    .dataframe tbody tr th:only-of-type {\n        vertical-align: middle;\n    }\n\n    .dataframe tbody tr th {\n        vertical-align: top;\n    }\n\n    .dataframe thead th {\n        text-align: right;\n    }\n</style>\n<table border=\"1\" class=\"dataframe\">\n  <thead>\n    <tr style=\"text-align: right;\">\n      <th></th>\n      <th>name</th>\n      <th>age</th>\n      <th>gender</th>\n    </tr>\n  </thead>\n  <tbody>\n    <tr>\n      <th>m</th>\n      <td>Maria</td>\n      <td>15</td>\n      <td>True</td>\n    </tr>\n    <tr>\n      <th>c</th>\n      <td>Carla</td>\n      <td>33</td>\n      <td>True</td>\n    </tr>\n    <tr>\n      <th>j</th>\n      <td>Juan</td>\n      <td>12</td>\n      <td>False</td>\n    </tr>\n    <tr>\n      <th>a</th>\n      <td>Ana</td>\n      <td>21</td>\n      <td>True</td>\n    </tr>\n    <tr>\n      <th>s</th>\n      <td>Sergio</td>\n      <td>45</td>\n      <td>False</td>\n    </tr>\n  </tbody>\n</table>\n</div>",
            "text/plain": "     name  age  gender\nm   Maria   15    True\nc   Carla   33    True\nj    Juan   12   False\na     Ana   21    True\ns  Sergio   45   False"
          },
          "execution_count": 21,
          "metadata": {},
          "output_type": "execute_result"
        }
      ],
      "execution_count": null
    },
    {
      "cell_type": "markdown",
      "source": "## Indexing",
      "metadata": {
        "cell_id": "00014-fa53f43b-f868-4f2c-914e-40e1a6a54211",
        "deepnote_cell_type": "markdown"
      }
    },
    {
      "cell_type": "code",
      "metadata": {
        "cell_id": "00015-99a4e6b2-932d-4862-ada1-fbda25630567",
        "deepnote_cell_type": "code"
      },
      "source": "a = pd.DataFrame(data, index=['m','c','j','a','s'])\n\na.loc['m'] == a.iloc[0]",
      "outputs": [
        {
          "data": {
            "text/plain": "name      True\nage       True\ngender    True\nName: m, dtype: bool"
          },
          "execution_count": 22,
          "metadata": {},
          "output_type": "execute_result"
        }
      ],
      "execution_count": null
    },
    {
      "cell_type": "code",
      "metadata": {
        "cell_id": "00016-bc0bf22c-b65e-42a6-860e-cde47e87a0f4",
        "deepnote_cell_type": "code"
      },
      "source": "a.loc['m':'c']",
      "outputs": [
        {
          "data": {
            "text/html": "<div>\n<style scoped>\n    .dataframe tbody tr th:only-of-type {\n        vertical-align: middle;\n    }\n\n    .dataframe tbody tr th {\n        vertical-align: top;\n    }\n\n    .dataframe thead th {\n        text-align: right;\n    }\n</style>\n<table border=\"1\" class=\"dataframe\">\n  <thead>\n    <tr style=\"text-align: right;\">\n      <th></th>\n      <th>name</th>\n      <th>age</th>\n      <th>gender</th>\n    </tr>\n  </thead>\n  <tbody>\n    <tr>\n      <th>m</th>\n      <td>Maria</td>\n      <td>15</td>\n      <td>True</td>\n    </tr>\n    <tr>\n      <th>c</th>\n      <td>Carla</td>\n      <td>33</td>\n      <td>True</td>\n    </tr>\n  </tbody>\n</table>\n</div>",
            "text/plain": "    name  age  gender\nm  Maria   15    True\nc  Carla   33    True"
          },
          "execution_count": 23,
          "metadata": {},
          "output_type": "execute_result"
        }
      ],
      "execution_count": null
    },
    {
      "cell_type": "markdown",
      "source": "## Dropping",
      "metadata": {
        "cell_id": "00017-d50c6def-121f-4310-8afd-c8d3f947024b",
        "deepnote_cell_type": "markdown"
      }
    },
    {
      "cell_type": "code",
      "metadata": {
        "cell_id": "00018-cb2de9e0-7ec5-4119-a9d0-15de27202831",
        "deepnote_cell_type": "code"
      },
      "source": "df.drop('name', axis=1)",
      "outputs": [
        {
          "data": {
            "text/html": "<div>\n<style scoped>\n    .dataframe tbody tr th:only-of-type {\n        vertical-align: middle;\n    }\n\n    .dataframe tbody tr th {\n        vertical-align: top;\n    }\n\n    .dataframe thead th {\n        text-align: right;\n    }\n</style>\n<table border=\"1\" class=\"dataframe\">\n  <thead>\n    <tr style=\"text-align: right;\">\n      <th></th>\n      <th>age</th>\n      <th>gender</th>\n    </tr>\n  </thead>\n  <tbody>\n    <tr>\n      <th>m</th>\n      <td>15</td>\n      <td>True</td>\n    </tr>\n    <tr>\n      <th>c</th>\n      <td>33</td>\n      <td>True</td>\n    </tr>\n    <tr>\n      <th>j</th>\n      <td>12</td>\n      <td>False</td>\n    </tr>\n    <tr>\n      <th>a</th>\n      <td>21</td>\n      <td>True</td>\n    </tr>\n    <tr>\n      <th>s</th>\n      <td>45</td>\n      <td>False</td>\n    </tr>\n  </tbody>\n</table>\n</div>",
            "text/plain": "   age  gender\nm   15    True\nc   33    True\nj   12   False\na   21    True\ns   45   False"
          },
          "execution_count": 24,
          "metadata": {},
          "output_type": "execute_result"
        }
      ],
      "execution_count": null
    },
    {
      "cell_type": "code",
      "metadata": {
        "cell_id": "00019-4e516f36-5ec6-4b39-a3ef-86fb9d413014",
        "deepnote_cell_type": "code"
      },
      "source": "a.drop(['m', 'c'])",
      "outputs": [
        {
          "data": {
            "text/html": "<div>\n<style scoped>\n    .dataframe tbody tr th:only-of-type {\n        vertical-align: middle;\n    }\n\n    .dataframe tbody tr th {\n        vertical-align: top;\n    }\n\n    .dataframe thead th {\n        text-align: right;\n    }\n</style>\n<table border=\"1\" class=\"dataframe\">\n  <thead>\n    <tr style=\"text-align: right;\">\n      <th></th>\n      <th>name</th>\n      <th>age</th>\n      <th>gender</th>\n    </tr>\n  </thead>\n  <tbody>\n    <tr>\n      <th>j</th>\n      <td>Juan</td>\n      <td>12</td>\n      <td>False</td>\n    </tr>\n    <tr>\n      <th>a</th>\n      <td>Ana</td>\n      <td>21</td>\n      <td>True</td>\n    </tr>\n    <tr>\n      <th>s</th>\n      <td>Sergio</td>\n      <td>45</td>\n      <td>False</td>\n    </tr>\n  </tbody>\n</table>\n</div>",
            "text/plain": "     name  age  gender\nj    Juan   12   False\na     Ana   21    True\ns  Sergio   45   False"
          },
          "execution_count": 25,
          "metadata": {},
          "output_type": "execute_result"
        }
      ],
      "execution_count": null
    },
    {
      "cell_type": "markdown",
      "source": "## Duplicates",
      "metadata": {
        "cell_id": "00020-582669a3-5f2c-403d-b2bb-9ebaed4d8d6f",
        "deepnote_cell_type": "markdown"
      }
    },
    {
      "cell_type": "code",
      "metadata": {
        "cell_id": "00021-2dcfcb36-9ecd-4070-9df7-14b82fa7ea6e",
        "deepnote_cell_type": "code"
      },
      "source": "df = pd.DataFrame({'f1': [1, 2, 2, 1], 'f2': [0, 1, 1, 1]})\nprint(df)\ndf.drop_duplicates()",
      "outputs": [
        {
          "name": "stdout",
          "output_type": "stream",
          "text": "   f1  f2\n0   1   0\n1   2   1\n2   2   1\n3   1   1\n"
        },
        {
          "data": {
            "text/html": "<div>\n<style scoped>\n    .dataframe tbody tr th:only-of-type {\n        vertical-align: middle;\n    }\n\n    .dataframe tbody tr th {\n        vertical-align: top;\n    }\n\n    .dataframe thead th {\n        text-align: right;\n    }\n</style>\n<table border=\"1\" class=\"dataframe\">\n  <thead>\n    <tr style=\"text-align: right;\">\n      <th></th>\n      <th>f1</th>\n      <th>f2</th>\n    </tr>\n  </thead>\n  <tbody>\n    <tr>\n      <th>0</th>\n      <td>1</td>\n      <td>0</td>\n    </tr>\n    <tr>\n      <th>1</th>\n      <td>2</td>\n      <td>1</td>\n    </tr>\n    <tr>\n      <th>3</th>\n      <td>1</td>\n      <td>1</td>\n    </tr>\n  </tbody>\n</table>\n</div>",
            "text/plain": "   f1  f2\n0   1   0\n1   2   1\n3   1   1"
          },
          "execution_count": 27,
          "metadata": {},
          "output_type": "execute_result"
        }
      ],
      "execution_count": null
    },
    {
      "cell_type": "markdown",
      "source": "## Filtering",
      "metadata": {
        "cell_id": "00022-bb3b90e6-c07a-44a6-888c-24fefcbb87ea",
        "deepnote_cell_type": "markdown"
      }
    },
    {
      "cell_type": "code",
      "metadata": {
        "cell_id": "00023-a086f841-1c6d-451c-84c5-f02ea2f8803f",
        "deepnote_cell_type": "code"
      },
      "source": "df = pd.DataFrame(data, index=['m','c','j','a','s'])\ndf[df.gender == False]",
      "outputs": [
        {
          "data": {
            "text/html": "<div>\n<style scoped>\n    .dataframe tbody tr th:only-of-type {\n        vertical-align: middle;\n    }\n\n    .dataframe tbody tr th {\n        vertical-align: top;\n    }\n\n    .dataframe thead th {\n        text-align: right;\n    }\n</style>\n<table border=\"1\" class=\"dataframe\">\n  <thead>\n    <tr style=\"text-align: right;\">\n      <th></th>\n      <th>name</th>\n      <th>age</th>\n      <th>gender</th>\n    </tr>\n  </thead>\n  <tbody>\n    <tr>\n      <th>j</th>\n      <td>Juan</td>\n      <td>12</td>\n      <td>False</td>\n    </tr>\n    <tr>\n      <th>s</th>\n      <td>Sergio</td>\n      <td>45</td>\n      <td>False</td>\n    </tr>\n  </tbody>\n</table>\n</div>",
            "text/plain": "     name  age  gender\nj    Juan   12   False\ns  Sergio   45   False"
          },
          "execution_count": 28,
          "metadata": {},
          "output_type": "execute_result"
        }
      ],
      "execution_count": null
    },
    {
      "cell_type": "markdown",
      "source": "## Custom element-wise operations",
      "metadata": {
        "cell_id": "00024-1291af80-84d9-4398-b1a7-0611b198364c",
        "deepnote_cell_type": "markdown"
      }
    },
    {
      "cell_type": "code",
      "metadata": {
        "cell_id": "00025-f6f225fd-f4df-4df8-add9-f81416198dfc",
        "deepnote_cell_type": "code"
      },
      "source": "df['gender'] = df['gender'].apply(lambda x: not x)\ndf",
      "outputs": [
        {
          "data": {
            "text/html": "<div>\n<style scoped>\n    .dataframe tbody tr th:only-of-type {\n        vertical-align: middle;\n    }\n\n    .dataframe tbody tr th {\n        vertical-align: top;\n    }\n\n    .dataframe thead th {\n        text-align: right;\n    }\n</style>\n<table border=\"1\" class=\"dataframe\">\n  <thead>\n    <tr style=\"text-align: right;\">\n      <th></th>\n      <th>name</th>\n      <th>age</th>\n      <th>gender</th>\n    </tr>\n  </thead>\n  <tbody>\n    <tr>\n      <th>m</th>\n      <td>Maria</td>\n      <td>15</td>\n      <td>True</td>\n    </tr>\n    <tr>\n      <th>c</th>\n      <td>Carla</td>\n      <td>33</td>\n      <td>True</td>\n    </tr>\n    <tr>\n      <th>j</th>\n      <td>Juan</td>\n      <td>12</td>\n      <td>False</td>\n    </tr>\n    <tr>\n      <th>a</th>\n      <td>Ana</td>\n      <td>21</td>\n      <td>True</td>\n    </tr>\n    <tr>\n      <th>s</th>\n      <td>Sergio</td>\n      <td>45</td>\n      <td>False</td>\n    </tr>\n  </tbody>\n</table>\n</div>",
            "text/plain": "     name  age  gender\nm   Maria   15    True\nc   Carla   33    True\nj    Juan   12   False\na     Ana   21    True\ns  Sergio   45   False"
          },
          "execution_count": 31,
          "metadata": {},
          "output_type": "execute_result"
        }
      ],
      "execution_count": null
    },
    {
      "cell_type": "markdown",
      "source": "## Sorting",
      "metadata": {
        "cell_id": "00026-747d2f4d-bca8-4760-beca-a83acfb67cf5",
        "deepnote_cell_type": "markdown"
      }
    },
    {
      "cell_type": "code",
      "metadata": {
        "cell_id": "00027-2ab14a97-0d39-4df3-98d5-2255359f545c",
        "deepnote_cell_type": "code"
      },
      "source": "df.sort_index(by='age')",
      "outputs": [
        {
          "name": "stderr",
          "output_type": "stream",
          "text": "/home/nicolas/.local/share/virtualenvs/academy-ai-python-intro-3RQMJkFU/lib/python3.7/site-packages/ipykernel_launcher.py:1: FutureWarning: by argument to sort_index is deprecated, please use .sort_values(by=...)\n  \"\"\"Entry point for launching an IPython kernel.\n"
        },
        {
          "data": {
            "text/html": "<div>\n<style scoped>\n    .dataframe tbody tr th:only-of-type {\n        vertical-align: middle;\n    }\n\n    .dataframe tbody tr th {\n        vertical-align: top;\n    }\n\n    .dataframe thead th {\n        text-align: right;\n    }\n</style>\n<table border=\"1\" class=\"dataframe\">\n  <thead>\n    <tr style=\"text-align: right;\">\n      <th></th>\n      <th>name</th>\n      <th>age</th>\n      <th>gender</th>\n    </tr>\n  </thead>\n  <tbody>\n    <tr>\n      <th>j</th>\n      <td>Juan</td>\n      <td>12</td>\n      <td>False</td>\n    </tr>\n    <tr>\n      <th>m</th>\n      <td>Maria</td>\n      <td>15</td>\n      <td>True</td>\n    </tr>\n    <tr>\n      <th>a</th>\n      <td>Ana</td>\n      <td>21</td>\n      <td>True</td>\n    </tr>\n    <tr>\n      <th>c</th>\n      <td>Carla</td>\n      <td>33</td>\n      <td>True</td>\n    </tr>\n    <tr>\n      <th>s</th>\n      <td>Sergio</td>\n      <td>45</td>\n      <td>False</td>\n    </tr>\n  </tbody>\n</table>\n</div>",
            "text/plain": "     name  age  gender\nj    Juan   12   False\nm   Maria   15    True\na     Ana   21    True\nc   Carla   33    True\ns  Sergio   45   False"
          },
          "execution_count": 32,
          "metadata": {},
          "output_type": "execute_result"
        }
      ],
      "execution_count": null
    },
    {
      "cell_type": "markdown",
      "source": "## Statistics",
      "metadata": {
        "cell_id": "00028-a053b5a3-e6e6-46f1-a002-c9ff019e3099",
        "deepnote_cell_type": "markdown"
      }
    },
    {
      "cell_type": "code",
      "metadata": {
        "cell_id": "00029-1c32a648-dae1-4817-9871-a647c373ef63",
        "deepnote_cell_type": "code"
      },
      "source": "df.describe()",
      "outputs": [
        {
          "data": {
            "text/html": "<div>\n<style scoped>\n    .dataframe tbody tr th:only-of-type {\n        vertical-align: middle;\n    }\n\n    .dataframe tbody tr th {\n        vertical-align: top;\n    }\n\n    .dataframe thead th {\n        text-align: right;\n    }\n</style>\n<table border=\"1\" class=\"dataframe\">\n  <thead>\n    <tr style=\"text-align: right;\">\n      <th></th>\n      <th>age</th>\n    </tr>\n  </thead>\n  <tbody>\n    <tr>\n      <th>count</th>\n      <td>5.000000</td>\n    </tr>\n    <tr>\n      <th>mean</th>\n      <td>25.200000</td>\n    </tr>\n    <tr>\n      <th>std</th>\n      <td>13.682105</td>\n    </tr>\n    <tr>\n      <th>min</th>\n      <td>12.000000</td>\n    </tr>\n    <tr>\n      <th>25%</th>\n      <td>15.000000</td>\n    </tr>\n    <tr>\n      <th>50%</th>\n      <td>21.000000</td>\n    </tr>\n    <tr>\n      <th>75%</th>\n      <td>33.000000</td>\n    </tr>\n    <tr>\n      <th>max</th>\n      <td>45.000000</td>\n    </tr>\n  </tbody>\n</table>\n</div>",
            "text/plain": "             age\ncount   5.000000\nmean   25.200000\nstd    13.682105\nmin    12.000000\n25%    15.000000\n50%    21.000000\n75%    33.000000\nmax    45.000000"
          },
          "execution_count": 34,
          "metadata": {},
          "output_type": "execute_result"
        }
      ],
      "execution_count": null
    },
    {
      "cell_type": "markdown",
      "source": "## Counts",
      "metadata": {
        "cell_id": "00030-6c98fced-ea98-4b81-b47b-48e5de8eabe1",
        "deepnote_cell_type": "markdown"
      }
    },
    {
      "cell_type": "code",
      "metadata": {
        "cell_id": "00031-680ce97b-5234-4741-8f52-3929e2cd0c3a",
        "deepnote_cell_type": "code"
      },
      "source": "df['gender'].value_counts()",
      "outputs": [
        {
          "data": {
            "text/plain": "True     3\nFalse    2\nName: gender, dtype: int64"
          },
          "execution_count": 35,
          "metadata": {},
          "output_type": "execute_result"
        }
      ],
      "execution_count": null
    },
    {
      "cell_type": "code",
      "metadata": {
        "cell_id": "00032-a11890cc-4579-4466-9e70-6e9baa5bd3eb",
        "deepnote_cell_type": "code"
      },
      "source": "",
      "execution_count": null,
      "outputs": []
    },
    {
      "cell_type": "markdown",
      "source": "<a style='text-decoration:none;line-height:16px;display:flex;color:#5B5B62;padding:10px;justify-content:end;' href='https://deepnote.com?utm_source=created-in-deepnote-cell&projectId=79673256-d468-4dc3-bcd4-af2c4cf3525d' target=\"_blank\">\n<img style='display:inline;max-height:16px;margin:0px;margin-right:7.5px;' src='data:image/svg+xml;base64,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' > </img>\nCreated in <span style='font-weight:600;margin-left:4px;'>Deepnote</span></a>",
      "metadata": {
        "tags": [],
        "created_in_deepnote_cell": true,
        "deepnote_cell_type": "markdown"
      }
    }
  ],
  "nbformat": 4,
  "nbformat_minor": 2,
  "metadata": {
    "kernelspec": {
      "display_name": "Python 3",
      "language": "python",
      "name": "python3"
    },
    "language_info": {
      "codemirror_mode": {
        "name": "ipython",
        "version": 3
      },
      "file_extension": ".py",
      "mimetype": "text/x-python",
      "name": "python",
      "nbconvert_exporter": "python",
      "pygments_lexer": "ipython3",
      "version": "3.6.12"
    },
    "deepnote_notebook_id": "e2e02042-eb8b-4b3c-9b95-b5bf2e82b882",
    "deepnote": {},
    "deepnote_execution_queue": []
  }
}