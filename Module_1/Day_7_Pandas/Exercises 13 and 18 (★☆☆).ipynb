{
  "cells": [
    {
      "cell_type": "code",
      "metadata": {
        "cell_id": "00000-c22eaaa2-3f89-4716-9b5e-346ba417e805",
        "deepnote_to_be_reexecuted": false,
        "source_hash": "88ddcad2",
        "execution_millis": 9,
        "execution_start": 1616496457984,
        "deepnote_cell_type": "code"
      },
      "source": "import pandas as pd\nimport numpy as np\ndata = {'animal': ['cat', 'cat', 'snake', 'dog', 'dog', 'cat', 'snake', 'cat', 'dog', 'dog'],\n        'age': [2.5, 3, 0.5, np.nan, 5, 2, 4.5, np.nan, 7, 3],\n        'visits': [1, 3, 2, 3, 2, 3, 1, 1, 2, 1],\n        'priority': ['yes', 'yes', 'no', 'yes', 'no', 'no', 'no', 'yes', 'no', 'no']}\nlabels = ['a', 'b', 'c', 'd', 'e', 'f', 'g', 'h', 'i', 'j']\ndf=pd.DataFrame(data=data)\ndf.index=labels\ndf",
      "outputs": [
        {
          "output_type": "execute_result",
          "execution_count": 8,
          "data": {
            "application/vnd.deepnote.dataframe.v2+json": {
              "row_count": 10,
              "column_count": 4,
              "columns": [
                {
                  "name": "animal",
                  "dtype": "object",
                  "stats": {
                    "unique_count": 3,
                    "nan_count": 0,
                    "categories": [
                      {
                        "name": "cat",
                        "count": 4
                      },
                      {
                        "name": "dog",
                        "count": 4
                      },
                      {
                        "name": "snake",
                        "count": 2
                      }
                    ]
                  }
                },
                {
                  "name": "age",
                  "dtype": "float64",
                  "stats": {
                    "unique_count": 7,
                    "nan_count": 2,
                    "min": 0.5,
                    "max": 7,
                    "histogram": [
                      {
                        "bin_start": 0.5,
                        "bin_end": 1.15,
                        "count": 1
                      },
                      {
                        "bin_start": 1.15,
                        "bin_end": 1.8,
                        "count": 0
                      },
                      {
                        "bin_start": 1.8,
                        "bin_end": 2.45,
                        "count": 1
                      },
                      {
                        "bin_start": 2.45,
                        "bin_end": 3.1,
                        "count": 3
                      },
                      {
                        "bin_start": 3.1,
                        "bin_end": 3.75,
                        "count": 0
                      },
                      {
                        "bin_start": 3.75,
                        "bin_end": 4.4,
                        "count": 0
                      },
                      {
                        "bin_start": 4.4,
                        "bin_end": 5.05,
                        "count": 2
                      },
                      {
                        "bin_start": 5.05,
                        "bin_end": 5.7,
                        "count": 0
                      },
                      {
                        "bin_start": 5.7,
                        "bin_end": 6.3500000000000005,
                        "count": 0
                      },
                      {
                        "bin_start": 6.3500000000000005,
                        "bin_end": 7,
                        "count": 1
                      }
                    ]
                  }
                },
                {
                  "name": "visits",
                  "dtype": "int64",
                  "stats": {
                    "unique_count": 3,
                    "nan_count": 0,
                    "min": 1,
                    "max": 3,
                    "histogram": [
                      {
                        "bin_start": 1,
                        "bin_end": 1.2,
                        "count": 4
                      },
                      {
                        "bin_start": 1.2,
                        "bin_end": 1.4,
                        "count": 0
                      },
                      {
                        "bin_start": 1.4,
                        "bin_end": 1.6,
                        "count": 0
                      },
                      {
                        "bin_start": 1.6,
                        "bin_end": 1.8,
                        "count": 0
                      },
                      {
                        "bin_start": 1.8,
                        "bin_end": 2,
                        "count": 0
                      },
                      {
                        "bin_start": 2,
                        "bin_end": 2.2,
                        "count": 3
                      },
                      {
                        "bin_start": 2.2,
                        "bin_end": 2.4000000000000004,
                        "count": 0
                      },
                      {
                        "bin_start": 2.4000000000000004,
                        "bin_end": 2.6,
                        "count": 0
                      },
                      {
                        "bin_start": 2.6,
                        "bin_end": 2.8,
                        "count": 0
                      },
                      {
                        "bin_start": 2.8,
                        "bin_end": 3,
                        "count": 3
                      }
                    ]
                  }
                },
                {
                  "name": "priority",
                  "dtype": "object",
                  "stats": {
                    "unique_count": 2,
                    "nan_count": 0,
                    "categories": [
                      {
                        "name": "no",
                        "count": 6
                      },
                      {
                        "name": "yes",
                        "count": 4
                      }
                    ]
                  }
                },
                {
                  "name": "_deepnote_index_column",
                  "dtype": "object"
                }
              ],
              "rows_top": [
                {
                  "animal": "cat",
                  "age": "2.5",
                  "visits": 1,
                  "priority": "yes",
                  "_deepnote_index_column": "a"
                },
                {
                  "animal": "cat",
                  "age": "3.0",
                  "visits": 3,
                  "priority": "yes",
                  "_deepnote_index_column": "b"
                },
                {
                  "animal": "snake",
                  "age": "0.5",
                  "visits": 2,
                  "priority": "no",
                  "_deepnote_index_column": "c"
                },
                {
                  "animal": "dog",
                  "age": "nan",
                  "visits": 3,
                  "priority": "yes",
                  "_deepnote_index_column": "d"
                },
                {
                  "animal": "dog",
                  "age": "5.0",
                  "visits": 2,
                  "priority": "no",
                  "_deepnote_index_column": "e"
                },
                {
                  "animal": "cat",
                  "age": "2.0",
                  "visits": 3,
                  "priority": "no",
                  "_deepnote_index_column": "f"
                },
                {
                  "animal": "snake",
                  "age": "4.5",
                  "visits": 1,
                  "priority": "no",
                  "_deepnote_index_column": "g"
                },
                {
                  "animal": "cat",
                  "age": "nan",
                  "visits": 1,
                  "priority": "yes",
                  "_deepnote_index_column": "h"
                },
                {
                  "animal": "dog",
                  "age": "7.0",
                  "visits": 2,
                  "priority": "no",
                  "_deepnote_index_column": "i"
                },
                {
                  "animal": "dog",
                  "age": "3.0",
                  "visits": 1,
                  "priority": "no",
                  "_deepnote_index_column": "j"
                }
              ],
              "rows_bottom": null
            },
            "text/plain": "  animal  age  visits priority\na    cat  2.5       1      yes\nb    cat  3.0       3      yes\nc  snake  0.5       2       no\nd    dog  NaN       3      yes\ne    dog  5.0       2       no\nf    cat  2.0       3       no\ng  snake  4.5       1       no\nh    cat  NaN       1      yes\ni    dog  7.0       2       no\nj    dog  3.0       1       no",
            "text/html": "<div>\n<style scoped>\n    .dataframe tbody tr th:only-of-type {\n        vertical-align: middle;\n    }\n\n    .dataframe tbody tr th {\n        vertical-align: top;\n    }\n\n    .dataframe thead th {\n        text-align: right;\n    }\n</style>\n<table border=\"1\" class=\"dataframe\">\n  <thead>\n    <tr style=\"text-align: right;\">\n      <th></th>\n      <th>animal</th>\n      <th>age</th>\n      <th>visits</th>\n      <th>priority</th>\n    </tr>\n  </thead>\n  <tbody>\n    <tr>\n      <th>a</th>\n      <td>cat</td>\n      <td>2.5</td>\n      <td>1</td>\n      <td>yes</td>\n    </tr>\n    <tr>\n      <th>b</th>\n      <td>cat</td>\n      <td>3.0</td>\n      <td>3</td>\n      <td>yes</td>\n    </tr>\n    <tr>\n      <th>c</th>\n      <td>snake</td>\n      <td>0.5</td>\n      <td>2</td>\n      <td>no</td>\n    </tr>\n    <tr>\n      <th>d</th>\n      <td>dog</td>\n      <td>NaN</td>\n      <td>3</td>\n      <td>yes</td>\n    </tr>\n    <tr>\n      <th>e</th>\n      <td>dog</td>\n      <td>5.0</td>\n      <td>2</td>\n      <td>no</td>\n    </tr>\n    <tr>\n      <th>f</th>\n      <td>cat</td>\n      <td>2.0</td>\n      <td>3</td>\n      <td>no</td>\n    </tr>\n    <tr>\n      <th>g</th>\n      <td>snake</td>\n      <td>4.5</td>\n      <td>1</td>\n      <td>no</td>\n    </tr>\n    <tr>\n      <th>h</th>\n      <td>cat</td>\n      <td>NaN</td>\n      <td>1</td>\n      <td>yes</td>\n    </tr>\n    <tr>\n      <th>i</th>\n      <td>dog</td>\n      <td>7.0</td>\n      <td>2</td>\n      <td>no</td>\n    </tr>\n    <tr>\n      <th>j</th>\n      <td>dog</td>\n      <td>3.0</td>\n      <td>1</td>\n      <td>no</td>\n    </tr>\n  </tbody>\n</table>\n</div>"
          },
          "metadata": {}
        }
      ],
      "execution_count": null
    },
    {
      "cell_type": "markdown",
      "source": "**13. Change the age in row 'f' to 1.5.**",
      "metadata": {
        "cell_id": "00001-d56c45d4-789c-405b-b192-72ad6b5e72f7",
        "deepnote_cell_type": "markdown"
      }
    },
    {
      "cell_type": "code",
      "metadata": {
        "cell_id": "00002-3eba9ae1-e159-4d47-8955-3c068981b173",
        "deepnote_to_be_reexecuted": false,
        "source_hash": "64bef709",
        "execution_millis": 9,
        "execution_start": 1616496484525,
        "deepnote_cell_type": "code"
      },
      "source": "df.at['f', 'age'] = 1.5\ndf",
      "outputs": [
        {
          "output_type": "execute_result",
          "execution_count": 9,
          "data": {
            "application/vnd.deepnote.dataframe.v2+json": {
              "row_count": 10,
              "column_count": 4,
              "columns": [
                {
                  "name": "animal",
                  "dtype": "object",
                  "stats": {
                    "unique_count": 3,
                    "nan_count": 0,
                    "categories": [
                      {
                        "name": "cat",
                        "count": 4
                      },
                      {
                        "name": "dog",
                        "count": 4
                      },
                      {
                        "name": "snake",
                        "count": 2
                      }
                    ]
                  }
                },
                {
                  "name": "age",
                  "dtype": "float64",
                  "stats": {
                    "unique_count": 7,
                    "nan_count": 2,
                    "min": 0.5,
                    "max": 7,
                    "histogram": [
                      {
                        "bin_start": 0.5,
                        "bin_end": 1.15,
                        "count": 1
                      },
                      {
                        "bin_start": 1.15,
                        "bin_end": 1.8,
                        "count": 1
                      },
                      {
                        "bin_start": 1.8,
                        "bin_end": 2.45,
                        "count": 0
                      },
                      {
                        "bin_start": 2.45,
                        "bin_end": 3.1,
                        "count": 3
                      },
                      {
                        "bin_start": 3.1,
                        "bin_end": 3.75,
                        "count": 0
                      },
                      {
                        "bin_start": 3.75,
                        "bin_end": 4.4,
                        "count": 0
                      },
                      {
                        "bin_start": 4.4,
                        "bin_end": 5.05,
                        "count": 2
                      },
                      {
                        "bin_start": 5.05,
                        "bin_end": 5.7,
                        "count": 0
                      },
                      {
                        "bin_start": 5.7,
                        "bin_end": 6.3500000000000005,
                        "count": 0
                      },
                      {
                        "bin_start": 6.3500000000000005,
                        "bin_end": 7,
                        "count": 1
                      }
                    ]
                  }
                },
                {
                  "name": "visits",
                  "dtype": "int64",
                  "stats": {
                    "unique_count": 3,
                    "nan_count": 0,
                    "min": 1,
                    "max": 3,
                    "histogram": [
                      {
                        "bin_start": 1,
                        "bin_end": 1.2,
                        "count": 4
                      },
                      {
                        "bin_start": 1.2,
                        "bin_end": 1.4,
                        "count": 0
                      },
                      {
                        "bin_start": 1.4,
                        "bin_end": 1.6,
                        "count": 0
                      },
                      {
                        "bin_start": 1.6,
                        "bin_end": 1.8,
                        "count": 0
                      },
                      {
                        "bin_start": 1.8,
                        "bin_end": 2,
                        "count": 0
                      },
                      {
                        "bin_start": 2,
                        "bin_end": 2.2,
                        "count": 3
                      },
                      {
                        "bin_start": 2.2,
                        "bin_end": 2.4000000000000004,
                        "count": 0
                      },
                      {
                        "bin_start": 2.4000000000000004,
                        "bin_end": 2.6,
                        "count": 0
                      },
                      {
                        "bin_start": 2.6,
                        "bin_end": 2.8,
                        "count": 0
                      },
                      {
                        "bin_start": 2.8,
                        "bin_end": 3,
                        "count": 3
                      }
                    ]
                  }
                },
                {
                  "name": "priority",
                  "dtype": "object",
                  "stats": {
                    "unique_count": 2,
                    "nan_count": 0,
                    "categories": [
                      {
                        "name": "no",
                        "count": 6
                      },
                      {
                        "name": "yes",
                        "count": 4
                      }
                    ]
                  }
                },
                {
                  "name": "_deepnote_index_column",
                  "dtype": "object"
                }
              ],
              "rows_top": [
                {
                  "animal": "cat",
                  "age": "2.5",
                  "visits": 1,
                  "priority": "yes",
                  "_deepnote_index_column": "a"
                },
                {
                  "animal": "cat",
                  "age": "3.0",
                  "visits": 3,
                  "priority": "yes",
                  "_deepnote_index_column": "b"
                },
                {
                  "animal": "snake",
                  "age": "0.5",
                  "visits": 2,
                  "priority": "no",
                  "_deepnote_index_column": "c"
                },
                {
                  "animal": "dog",
                  "age": "nan",
                  "visits": 3,
                  "priority": "yes",
                  "_deepnote_index_column": "d"
                },
                {
                  "animal": "dog",
                  "age": "5.0",
                  "visits": 2,
                  "priority": "no",
                  "_deepnote_index_column": "e"
                },
                {
                  "animal": "cat",
                  "age": "1.5",
                  "visits": 3,
                  "priority": "no",
                  "_deepnote_index_column": "f"
                },
                {
                  "animal": "snake",
                  "age": "4.5",
                  "visits": 1,
                  "priority": "no",
                  "_deepnote_index_column": "g"
                },
                {
                  "animal": "cat",
                  "age": "nan",
                  "visits": 1,
                  "priority": "yes",
                  "_deepnote_index_column": "h"
                },
                {
                  "animal": "dog",
                  "age": "7.0",
                  "visits": 2,
                  "priority": "no",
                  "_deepnote_index_column": "i"
                },
                {
                  "animal": "dog",
                  "age": "3.0",
                  "visits": 1,
                  "priority": "no",
                  "_deepnote_index_column": "j"
                }
              ],
              "rows_bottom": null
            },
            "text/plain": "  animal  age  visits priority\na    cat  2.5       1      yes\nb    cat  3.0       3      yes\nc  snake  0.5       2       no\nd    dog  NaN       3      yes\ne    dog  5.0       2       no\nf    cat  1.5       3       no\ng  snake  4.5       1       no\nh    cat  NaN       1      yes\ni    dog  7.0       2       no\nj    dog  3.0       1       no",
            "text/html": "<div>\n<style scoped>\n    .dataframe tbody tr th:only-of-type {\n        vertical-align: middle;\n    }\n\n    .dataframe tbody tr th {\n        vertical-align: top;\n    }\n\n    .dataframe thead th {\n        text-align: right;\n    }\n</style>\n<table border=\"1\" class=\"dataframe\">\n  <thead>\n    <tr style=\"text-align: right;\">\n      <th></th>\n      <th>animal</th>\n      <th>age</th>\n      <th>visits</th>\n      <th>priority</th>\n    </tr>\n  </thead>\n  <tbody>\n    <tr>\n      <th>a</th>\n      <td>cat</td>\n      <td>2.5</td>\n      <td>1</td>\n      <td>yes</td>\n    </tr>\n    <tr>\n      <th>b</th>\n      <td>cat</td>\n      <td>3.0</td>\n      <td>3</td>\n      <td>yes</td>\n    </tr>\n    <tr>\n      <th>c</th>\n      <td>snake</td>\n      <td>0.5</td>\n      <td>2</td>\n      <td>no</td>\n    </tr>\n    <tr>\n      <th>d</th>\n      <td>dog</td>\n      <td>NaN</td>\n      <td>3</td>\n      <td>yes</td>\n    </tr>\n    <tr>\n      <th>e</th>\n      <td>dog</td>\n      <td>5.0</td>\n      <td>2</td>\n      <td>no</td>\n    </tr>\n    <tr>\n      <th>f</th>\n      <td>cat</td>\n      <td>1.5</td>\n      <td>3</td>\n      <td>no</td>\n    </tr>\n    <tr>\n      <th>g</th>\n      <td>snake</td>\n      <td>4.5</td>\n      <td>1</td>\n      <td>no</td>\n    </tr>\n    <tr>\n      <th>h</th>\n      <td>cat</td>\n      <td>NaN</td>\n      <td>1</td>\n      <td>yes</td>\n    </tr>\n    <tr>\n      <th>i</th>\n      <td>dog</td>\n      <td>7.0</td>\n      <td>2</td>\n      <td>no</td>\n    </tr>\n    <tr>\n      <th>j</th>\n      <td>dog</td>\n      <td>3.0</td>\n      <td>1</td>\n      <td>no</td>\n    </tr>\n  </tbody>\n</table>\n</div>"
          },
          "metadata": {}
        }
      ],
      "execution_count": null
    },
    {
      "cell_type": "markdown",
      "source": "**18. Sort df first by the values in the 'age' in decending order, then by the value in the 'visit' column in ascending order.**",
      "metadata": {
        "cell_id": "00003-3c42af8f-95cb-450b-b09b-a3cc92eadfd5",
        "deepnote_cell_type": "markdown"
      }
    },
    {
      "cell_type": "code",
      "metadata": {
        "cell_id": "00004-2d6629a9-d8b9-4d03-8680-e2c66d43ec65",
        "deepnote_cell_type": "code"
      },
      "source": "",
      "execution_count": null,
      "outputs": []
    },
    {
      "cell_type": "markdown",
      "source": "<a style='text-decoration:none;line-height:16px;display:flex;color:#5B5B62;padding:10px;justify-content:end;' href='https://deepnote.com?utm_source=created-in-deepnote-cell&projectId=79673256-d468-4dc3-bcd4-af2c4cf3525d' target=\"_blank\">\n<img style='display:inline;max-height:16px;margin:0px;margin-right:7.5px;' src='data:image/svg+xml;base64,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' > </img>\nCreated in <span style='font-weight:600;margin-left:4px;'>Deepnote</span></a>",
      "metadata": {
        "tags": [],
        "created_in_deepnote_cell": true,
        "deepnote_cell_type": "markdown"
      }
    }
  ],
  "nbformat": 4,
  "nbformat_minor": 5,
  "metadata": {
    "kernelspec": {
      "display_name": "Python 3",
      "language": "python",
      "name": "python3"
    },
    "language_info": {
      "codemirror_mode": {
        "name": "ipython",
        "version": 3
      },
      "file_extension": ".py",
      "mimetype": "text/x-python",
      "name": "python",
      "nbconvert_exporter": "python",
      "pygments_lexer": "ipython3",
      "version": "3.9.1"
    },
    "deepnote_notebook_id": "55f8ca6e-eb42-410b-b63e-de113429406c",
    "deepnote": {},
    "deepnote_execution_queue": []
  }
}