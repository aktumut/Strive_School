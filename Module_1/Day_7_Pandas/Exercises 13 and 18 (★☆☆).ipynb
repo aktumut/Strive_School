{
  "cells": [
    {
      "cell_type": "code",
      "metadata": {
        "cell_id": "00000-c22eaaa2-3f89-4716-9b5e-346ba417e805",
        "deepnote_to_be_reexecuted": false,
        "source_hash": "9c4fe467",
        "execution_millis": 65,
        "execution_start": 1616493110852,
        "deepnote_cell_type": "code"
      },
      "source": "import pandas as pd\nimport numpy as np\ndf=pd.read_csv('train.csv')\ndf",
      "execution_count": 5,
      "outputs": [
        {
          "output_type": "execute_result",
          "execution_count": 5,
          "data": {
            "application/vnd.deepnote.dataframe.v2+json": {
              "row_count": 891,
              "column_count": 12,
              "columns": [
                {
                  "name": "PassengerId",
                  "dtype": "int64",
                  "stats": {
                    "unique_count": 891,
                    "nan_count": 0,
                    "min": 1,
                    "max": 891,
                    "histogram": [
                      {
                        "bin_start": 1,
                        "bin_end": 90,
                        "count": 89
                      },
                      {
                        "bin_start": 90,
                        "bin_end": 179,
                        "count": 89
                      },
                      {
                        "bin_start": 179,
                        "bin_end": 268,
                        "count": 89
                      },
                      {
                        "bin_start": 268,
                        "bin_end": 357,
                        "count": 89
                      },
                      {
                        "bin_start": 357,
                        "bin_end": 446,
                        "count": 89
                      },
                      {
                        "bin_start": 446,
                        "bin_end": 535,
                        "count": 89
                      },
                      {
                        "bin_start": 535,
                        "bin_end": 624,
                        "count": 89
                      },
                      {
                        "bin_start": 624,
                        "bin_end": 713,
                        "count": 89
                      },
                      {
                        "bin_start": 713,
                        "bin_end": 802,
                        "count": 89
                      },
                      {
                        "bin_start": 802,
                        "bin_end": 891,
                        "count": 90
                      }
                    ]
                  }
                },
                {
                  "name": "Survived",
                  "dtype": "int64",
                  "stats": {
                    "unique_count": 2,
                    "nan_count": 0,
                    "min": 0,
                    "max": 1,
                    "histogram": [
                      {
                        "bin_start": 0,
                        "bin_end": 0.1,
                        "count": 549
                      },
                      {
                        "bin_start": 0.1,
                        "bin_end": 0.2,
                        "count": 0
                      },
                      {
                        "bin_start": 0.2,
                        "bin_end": 0.30000000000000004,
                        "count": 0
                      },
                      {
                        "bin_start": 0.30000000000000004,
                        "bin_end": 0.4,
                        "count": 0
                      },
                      {
                        "bin_start": 0.4,
                        "bin_end": 0.5,
                        "count": 0
                      },
                      {
                        "bin_start": 0.5,
                        "bin_end": 0.6000000000000001,
                        "count": 0
                      },
                      {
                        "bin_start": 0.6000000000000001,
                        "bin_end": 0.7000000000000001,
                        "count": 0
                      },
                      {
                        "bin_start": 0.7000000000000001,
                        "bin_end": 0.8,
                        "count": 0
                      },
                      {
                        "bin_start": 0.8,
                        "bin_end": 0.9,
                        "count": 0
                      },
                      {
                        "bin_start": 0.9,
                        "bin_end": 1,
                        "count": 342
                      }
                    ]
                  }
                },
                {
                  "name": "Pclass",
                  "dtype": "int64",
                  "stats": {
                    "unique_count": 3,
                    "nan_count": 0,
                    "min": 1,
                    "max": 3,
                    "histogram": [
                      {
                        "bin_start": 1,
                        "bin_end": 1.2,
                        "count": 216
                      },
                      {
                        "bin_start": 1.2,
                        "bin_end": 1.4,
                        "count": 0
                      },
                      {
                        "bin_start": 1.4,
                        "bin_end": 1.6,
                        "count": 0
                      },
                      {
                        "bin_start": 1.6,
                        "bin_end": 1.8,
                        "count": 0
                      },
                      {
                        "bin_start": 1.8,
                        "bin_end": 2,
                        "count": 0
                      },
                      {
                        "bin_start": 2,
                        "bin_end": 2.2,
                        "count": 184
                      },
                      {
                        "bin_start": 2.2,
                        "bin_end": 2.4000000000000004,
                        "count": 0
                      },
                      {
                        "bin_start": 2.4000000000000004,
                        "bin_end": 2.6,
                        "count": 0
                      },
                      {
                        "bin_start": 2.6,
                        "bin_end": 2.8,
                        "count": 0
                      },
                      {
                        "bin_start": 2.8,
                        "bin_end": 3,
                        "count": 491
                      }
                    ]
                  }
                },
                {
                  "name": "Name",
                  "dtype": "object",
                  "stats": {
                    "unique_count": 891,
                    "nan_count": 0,
                    "categories": [
                      {
                        "name": "Braund, Mr. Owen Harris",
                        "count": 1
                      },
                      {
                        "name": "Cumings, Mrs. John Bradley (Florence Briggs Thayer)",
                        "count": 1
                      },
                      {
                        "name": "889 others",
                        "count": 889
                      }
                    ]
                  }
                },
                {
                  "name": "Sex",
                  "dtype": "object",
                  "stats": {
                    "unique_count": 2,
                    "nan_count": 0,
                    "categories": [
                      {
                        "name": "male",
                        "count": 577
                      },
                      {
                        "name": "female",
                        "count": 314
                      }
                    ]
                  }
                },
                {
                  "name": "Age",
                  "dtype": "float64",
                  "stats": {
                    "unique_count": 88,
                    "nan_count": 177,
                    "min": 0.42,
                    "max": 80,
                    "histogram": [
                      {
                        "bin_start": 0.42,
                        "bin_end": 8.378,
                        "count": 54
                      },
                      {
                        "bin_start": 8.378,
                        "bin_end": 16.336000000000002,
                        "count": 46
                      },
                      {
                        "bin_start": 16.336000000000002,
                        "bin_end": 24.294000000000004,
                        "count": 177
                      },
                      {
                        "bin_start": 24.294000000000004,
                        "bin_end": 32.252,
                        "count": 169
                      },
                      {
                        "bin_start": 32.252,
                        "bin_end": 40.21,
                        "count": 118
                      },
                      {
                        "bin_start": 40.21,
                        "bin_end": 48.168000000000006,
                        "count": 70
                      },
                      {
                        "bin_start": 48.168000000000006,
                        "bin_end": 56.126000000000005,
                        "count": 45
                      },
                      {
                        "bin_start": 56.126000000000005,
                        "bin_end": 64.084,
                        "count": 24
                      },
                      {
                        "bin_start": 64.084,
                        "bin_end": 72.042,
                        "count": 9
                      },
                      {
                        "bin_start": 72.042,
                        "bin_end": 80,
                        "count": 2
                      }
                    ]
                  }
                },
                {
                  "name": "SibSp",
                  "dtype": "int64",
                  "stats": {
                    "unique_count": 7,
                    "nan_count": 0,
                    "min": 0,
                    "max": 8,
                    "histogram": [
                      {
                        "bin_start": 0,
                        "bin_end": 0.8,
                        "count": 608
                      },
                      {
                        "bin_start": 0.8,
                        "bin_end": 1.6,
                        "count": 209
                      },
                      {
                        "bin_start": 1.6,
                        "bin_end": 2.4000000000000004,
                        "count": 28
                      },
                      {
                        "bin_start": 2.4000000000000004,
                        "bin_end": 3.2,
                        "count": 16
                      },
                      {
                        "bin_start": 3.2,
                        "bin_end": 4,
                        "count": 0
                      },
                      {
                        "bin_start": 4,
                        "bin_end": 4.800000000000001,
                        "count": 18
                      },
                      {
                        "bin_start": 4.800000000000001,
                        "bin_end": 5.6000000000000005,
                        "count": 5
                      },
                      {
                        "bin_start": 5.6000000000000005,
                        "bin_end": 6.4,
                        "count": 0
                      },
                      {
                        "bin_start": 6.4,
                        "bin_end": 7.2,
                        "count": 0
                      },
                      {
                        "bin_start": 7.2,
                        "bin_end": 8,
                        "count": 7
                      }
                    ]
                  }
                },
                {
                  "name": "Parch",
                  "dtype": "int64",
                  "stats": {
                    "unique_count": 7,
                    "nan_count": 0,
                    "min": 0,
                    "max": 6,
                    "histogram": [
                      {
                        "bin_start": 0,
                        "bin_end": 0.6,
                        "count": 678
                      },
                      {
                        "bin_start": 0.6,
                        "bin_end": 1.2,
                        "count": 118
                      },
                      {
                        "bin_start": 1.2,
                        "bin_end": 1.7999999999999998,
                        "count": 0
                      },
                      {
                        "bin_start": 1.7999999999999998,
                        "bin_end": 2.4,
                        "count": 80
                      },
                      {
                        "bin_start": 2.4,
                        "bin_end": 3,
                        "count": 0
                      },
                      {
                        "bin_start": 3,
                        "bin_end": 3.5999999999999996,
                        "count": 5
                      },
                      {
                        "bin_start": 3.5999999999999996,
                        "bin_end": 4.2,
                        "count": 4
                      },
                      {
                        "bin_start": 4.2,
                        "bin_end": 4.8,
                        "count": 0
                      },
                      {
                        "bin_start": 4.8,
                        "bin_end": 5.3999999999999995,
                        "count": 5
                      },
                      {
                        "bin_start": 5.3999999999999995,
                        "bin_end": 6,
                        "count": 1
                      }
                    ]
                  }
                },
                {
                  "name": "Ticket",
                  "dtype": "object",
                  "stats": {
                    "unique_count": 681,
                    "nan_count": 0,
                    "categories": [
                      {
                        "name": "347082",
                        "count": 7
                      },
                      {
                        "name": "1601",
                        "count": 7
                      },
                      {
                        "name": "679 others",
                        "count": 877
                      }
                    ]
                  }
                },
                {
                  "name": "Fare",
                  "dtype": "float64",
                  "stats": {
                    "unique_count": 248,
                    "nan_count": 0,
                    "min": 0,
                    "max": 512.3292,
                    "histogram": [
                      {
                        "bin_start": 0,
                        "bin_end": 51.23292,
                        "count": 732
                      },
                      {
                        "bin_start": 51.23292,
                        "bin_end": 102.46584,
                        "count": 106
                      },
                      {
                        "bin_start": 102.46584,
                        "bin_end": 153.69876,
                        "count": 31
                      },
                      {
                        "bin_start": 153.69876,
                        "bin_end": 204.93168,
                        "count": 2
                      },
                      {
                        "bin_start": 204.93168,
                        "bin_end": 256.1646,
                        "count": 11
                      },
                      {
                        "bin_start": 256.1646,
                        "bin_end": 307.39752,
                        "count": 6
                      },
                      {
                        "bin_start": 307.39752,
                        "bin_end": 358.63044,
                        "count": 0
                      },
                      {
                        "bin_start": 358.63044,
                        "bin_end": 409.86336,
                        "count": 0
                      },
                      {
                        "bin_start": 409.86336,
                        "bin_end": 461.09628,
                        "count": 0
                      },
                      {
                        "bin_start": 461.09628,
                        "bin_end": 512.3292,
                        "count": 3
                      }
                    ]
                  }
                },
                {
                  "name": "Cabin",
                  "dtype": "object",
                  "stats": {
                    "unique_count": 147,
                    "nan_count": 687,
                    "categories": [
                      {
                        "name": "G6",
                        "count": 4
                      },
                      {
                        "name": "146 others",
                        "count": 200
                      },
                      {
                        "name": "Missing",
                        "count": 687
                      }
                    ]
                  }
                },
                {
                  "name": "Embarked",
                  "dtype": "object",
                  "stats": {
                    "unique_count": 3,
                    "nan_count": 2,
                    "categories": [
                      {
                        "name": "S",
                        "count": 644
                      },
                      {
                        "name": "2 others",
                        "count": 245
                      },
                      {
                        "name": "Missing",
                        "count": 2
                      }
                    ]
                  }
                },
                {
                  "name": "_deepnote_index_column",
                  "dtype": "int64"
                }
              ],
              "rows_top": [
                {
                  "PassengerId": 1,
                  "Survived": 0,
                  "Pclass": 3,
                  "Name": "Braund, Mr. Owen Harris",
                  "Sex": "male",
                  "Age": "22.0",
                  "SibSp": 1,
                  "Parch": 0,
                  "Ticket": "A/5 21171",
                  "Fare": 7.25,
                  "Cabin": "nan",
                  "Embarked": "S",
                  "_deepnote_index_column": 0
                },
                {
                  "PassengerId": 2,
                  "Survived": 1,
                  "Pclass": 1,
                  "Name": "Cumings, Mrs. John Bradley (Florence Briggs Thayer)",
                  "Sex": "female",
                  "Age": "38.0",
                  "SibSp": 1,
                  "Parch": 0,
                  "Ticket": "PC 17599",
                  "Fare": 71.2833,
                  "Cabin": "C85",
                  "Embarked": "C",
                  "_deepnote_index_column": 1
                },
                {
                  "PassengerId": 3,
                  "Survived": 1,
                  "Pclass": 3,
                  "Name": "Heikkinen, Miss. Laina",
                  "Sex": "female",
                  "Age": "26.0",
                  "SibSp": 0,
                  "Parch": 0,
                  "Ticket": "STON/O2. 3101282",
                  "Fare": 7.925,
                  "Cabin": "nan",
                  "Embarked": "S",
                  "_deepnote_index_column": 2
                },
                {
                  "PassengerId": 4,
                  "Survived": 1,
                  "Pclass": 1,
                  "Name": "Futrelle, Mrs. Jacques Heath (Lily May Peel)",
                  "Sex": "female",
                  "Age": "35.0",
                  "SibSp": 1,
                  "Parch": 0,
                  "Ticket": "113803",
                  "Fare": 53.1,
                  "Cabin": "C123",
                  "Embarked": "S",
                  "_deepnote_index_column": 3
                },
                {
                  "PassengerId": 5,
                  "Survived": 0,
                  "Pclass": 3,
                  "Name": "Allen, Mr. William Henry",
                  "Sex": "male",
                  "Age": "35.0",
                  "SibSp": 0,
                  "Parch": 0,
                  "Ticket": "373450",
                  "Fare": 8.05,
                  "Cabin": "nan",
                  "Embarked": "S",
                  "_deepnote_index_column": 4
                },
                {
                  "PassengerId": 6,
                  "Survived": 0,
                  "Pclass": 3,
                  "Name": "Moran, Mr. James",
                  "Sex": "male",
                  "Age": "nan",
                  "SibSp": 0,
                  "Parch": 0,
                  "Ticket": "330877",
                  "Fare": 8.4583,
                  "Cabin": "nan",
                  "Embarked": "Q",
                  "_deepnote_index_column": 5
                },
                {
                  "PassengerId": 7,
                  "Survived": 0,
                  "Pclass": 1,
                  "Name": "McCarthy, Mr. Timothy J",
                  "Sex": "male",
                  "Age": "54.0",
                  "SibSp": 0,
                  "Parch": 0,
                  "Ticket": "17463",
                  "Fare": 51.8625,
                  "Cabin": "E46",
                  "Embarked": "S",
                  "_deepnote_index_column": 6
                },
                {
                  "PassengerId": 8,
                  "Survived": 0,
                  "Pclass": 3,
                  "Name": "Palsson, Master. Gosta Leonard",
                  "Sex": "male",
                  "Age": "2.0",
                  "SibSp": 3,
                  "Parch": 1,
                  "Ticket": "349909",
                  "Fare": 21.075,
                  "Cabin": "nan",
                  "Embarked": "S",
                  "_deepnote_index_column": 7
                },
                {
                  "PassengerId": 9,
                  "Survived": 1,
                  "Pclass": 3,
                  "Name": "Johnson, Mrs. Oscar W (Elisabeth Vilhelmina Berg)",
                  "Sex": "female",
                  "Age": "27.0",
                  "SibSp": 0,
                  "Parch": 2,
                  "Ticket": "347742",
                  "Fare": 11.1333,
                  "Cabin": "nan",
                  "Embarked": "S",
                  "_deepnote_index_column": 8
                },
                {
                  "PassengerId": 10,
                  "Survived": 1,
                  "Pclass": 2,
                  "Name": "Nasser, Mrs. Nicholas (Adele Achem)",
                  "Sex": "female",
                  "Age": "14.0",
                  "SibSp": 1,
                  "Parch": 0,
                  "Ticket": "237736",
                  "Fare": 30.0708,
                  "Cabin": "nan",
                  "Embarked": "C",
                  "_deepnote_index_column": 9
                },
                {
                  "PassengerId": 11,
                  "Survived": 1,
                  "Pclass": 3,
                  "Name": "Sandstrom, Miss. Marguerite Rut",
                  "Sex": "female",
                  "Age": "4.0",
                  "SibSp": 1,
                  "Parch": 1,
                  "Ticket": "PP 9549",
                  "Fare": 16.7,
                  "Cabin": "G6",
                  "Embarked": "S",
                  "_deepnote_index_column": 10
                },
                {
                  "PassengerId": 12,
                  "Survived": 1,
                  "Pclass": 1,
                  "Name": "Bonnell, Miss. Elizabeth",
                  "Sex": "female",
                  "Age": "58.0",
                  "SibSp": 0,
                  "Parch": 0,
                  "Ticket": "113783",
                  "Fare": 26.55,
                  "Cabin": "C103",
                  "Embarked": "S",
                  "_deepnote_index_column": 11
                },
                {
                  "PassengerId": 13,
                  "Survived": 0,
                  "Pclass": 3,
                  "Name": "Saundercock, Mr. William Henry",
                  "Sex": "male",
                  "Age": "20.0",
                  "SibSp": 0,
                  "Parch": 0,
                  "Ticket": "A/5. 2151",
                  "Fare": 8.05,
                  "Cabin": "nan",
                  "Embarked": "S",
                  "_deepnote_index_column": 12
                },
                {
                  "PassengerId": 14,
                  "Survived": 0,
                  "Pclass": 3,
                  "Name": "Andersson, Mr. Anders Johan",
                  "Sex": "male",
                  "Age": "39.0",
                  "SibSp": 1,
                  "Parch": 5,
                  "Ticket": "347082",
                  "Fare": 31.275,
                  "Cabin": "nan",
                  "Embarked": "S",
                  "_deepnote_index_column": 13
                },
                {
                  "PassengerId": 15,
                  "Survived": 0,
                  "Pclass": 3,
                  "Name": "Vestrom, Miss. Hulda Amanda Adolfina",
                  "Sex": "female",
                  "Age": "14.0",
                  "SibSp": 0,
                  "Parch": 0,
                  "Ticket": "350406",
                  "Fare": 7.8542,
                  "Cabin": "nan",
                  "Embarked": "S",
                  "_deepnote_index_column": 14
                },
                {
                  "PassengerId": 16,
                  "Survived": 1,
                  "Pclass": 2,
                  "Name": "Hewlett, Mrs. (Mary D Kingcome) ",
                  "Sex": "female",
                  "Age": "55.0",
                  "SibSp": 0,
                  "Parch": 0,
                  "Ticket": "248706",
                  "Fare": 16,
                  "Cabin": "nan",
                  "Embarked": "S",
                  "_deepnote_index_column": 15
                },
                {
                  "PassengerId": 17,
                  "Survived": 0,
                  "Pclass": 3,
                  "Name": "Rice, Master. Eugene",
                  "Sex": "male",
                  "Age": "2.0",
                  "SibSp": 4,
                  "Parch": 1,
                  "Ticket": "382652",
                  "Fare": 29.125,
                  "Cabin": "nan",
                  "Embarked": "Q",
                  "_deepnote_index_column": 16
                },
                {
                  "PassengerId": 18,
                  "Survived": 1,
                  "Pclass": 2,
                  "Name": "Williams, Mr. Charles Eugene",
                  "Sex": "male",
                  "Age": "nan",
                  "SibSp": 0,
                  "Parch": 0,
                  "Ticket": "244373",
                  "Fare": 13,
                  "Cabin": "nan",
                  "Embarked": "S",
                  "_deepnote_index_column": 17
                },
                {
                  "PassengerId": 19,
                  "Survived": 0,
                  "Pclass": 3,
                  "Name": "Vander Planke, Mrs. Julius (Emelia Maria Vandemoortele)",
                  "Sex": "female",
                  "Age": "31.0",
                  "SibSp": 1,
                  "Parch": 0,
                  "Ticket": "345763",
                  "Fare": 18,
                  "Cabin": "nan",
                  "Embarked": "S",
                  "_deepnote_index_column": 18
                },
                {
                  "PassengerId": 20,
                  "Survived": 1,
                  "Pclass": 3,
                  "Name": "Masselmani, Mrs. Fatima",
                  "Sex": "female",
                  "Age": "nan",
                  "SibSp": 0,
                  "Parch": 0,
                  "Ticket": "2649",
                  "Fare": 7.225,
                  "Cabin": "nan",
                  "Embarked": "C",
                  "_deepnote_index_column": 19
                },
                {
                  "PassengerId": 21,
                  "Survived": 0,
                  "Pclass": 2,
                  "Name": "Fynney, Mr. Joseph J",
                  "Sex": "male",
                  "Age": "35.0",
                  "SibSp": 0,
                  "Parch": 0,
                  "Ticket": "239865",
                  "Fare": 26,
                  "Cabin": "nan",
                  "Embarked": "S",
                  "_deepnote_index_column": 20
                },
                {
                  "PassengerId": 22,
                  "Survived": 1,
                  "Pclass": 2,
                  "Name": "Beesley, Mr. Lawrence",
                  "Sex": "male",
                  "Age": "34.0",
                  "SibSp": 0,
                  "Parch": 0,
                  "Ticket": "248698",
                  "Fare": 13,
                  "Cabin": "D56",
                  "Embarked": "S",
                  "_deepnote_index_column": 21
                },
                {
                  "PassengerId": 23,
                  "Survived": 1,
                  "Pclass": 3,
                  "Name": "McGowan, Miss. Anna \"Annie\"",
                  "Sex": "female",
                  "Age": "15.0",
                  "SibSp": 0,
                  "Parch": 0,
                  "Ticket": "330923",
                  "Fare": 8.0292,
                  "Cabin": "nan",
                  "Embarked": "Q",
                  "_deepnote_index_column": 22
                },
                {
                  "PassengerId": 24,
                  "Survived": 1,
                  "Pclass": 1,
                  "Name": "Sloper, Mr. William Thompson",
                  "Sex": "male",
                  "Age": "28.0",
                  "SibSp": 0,
                  "Parch": 0,
                  "Ticket": "113788",
                  "Fare": 35.5,
                  "Cabin": "A6",
                  "Embarked": "S",
                  "_deepnote_index_column": 23
                },
                {
                  "PassengerId": 25,
                  "Survived": 0,
                  "Pclass": 3,
                  "Name": "Palsson, Miss. Torborg Danira",
                  "Sex": "female",
                  "Age": "8.0",
                  "SibSp": 3,
                  "Parch": 1,
                  "Ticket": "349909",
                  "Fare": 21.075,
                  "Cabin": "nan",
                  "Embarked": "S",
                  "_deepnote_index_column": 24
                },
                {
                  "PassengerId": 26,
                  "Survived": 1,
                  "Pclass": 3,
                  "Name": "Asplund, Mrs. Carl Oscar (Selma Augusta Emilia Johansson)",
                  "Sex": "female",
                  "Age": "38.0",
                  "SibSp": 1,
                  "Parch": 5,
                  "Ticket": "347077",
                  "Fare": 31.3875,
                  "Cabin": "nan",
                  "Embarked": "S",
                  "_deepnote_index_column": 25
                },
                {
                  "PassengerId": 27,
                  "Survived": 0,
                  "Pclass": 3,
                  "Name": "Emir, Mr. Farred Chehab",
                  "Sex": "male",
                  "Age": "nan",
                  "SibSp": 0,
                  "Parch": 0,
                  "Ticket": "2631",
                  "Fare": 7.225,
                  "Cabin": "nan",
                  "Embarked": "C",
                  "_deepnote_index_column": 26
                },
                {
                  "PassengerId": 28,
                  "Survived": 0,
                  "Pclass": 1,
                  "Name": "Fortune, Mr. Charles Alexander",
                  "Sex": "male",
                  "Age": "19.0",
                  "SibSp": 3,
                  "Parch": 2,
                  "Ticket": "19950",
                  "Fare": 263,
                  "Cabin": "C23 C25 C27",
                  "Embarked": "S",
                  "_deepnote_index_column": 27
                },
                {
                  "PassengerId": 29,
                  "Survived": 1,
                  "Pclass": 3,
                  "Name": "O'Dwyer, Miss. Ellen \"Nellie\"",
                  "Sex": "female",
                  "Age": "nan",
                  "SibSp": 0,
                  "Parch": 0,
                  "Ticket": "330959",
                  "Fare": 7.8792,
                  "Cabin": "nan",
                  "Embarked": "Q",
                  "_deepnote_index_column": 28
                },
                {
                  "PassengerId": 30,
                  "Survived": 0,
                  "Pclass": 3,
                  "Name": "Todoroff, Mr. Lalio",
                  "Sex": "male",
                  "Age": "nan",
                  "SibSp": 0,
                  "Parch": 0,
                  "Ticket": "349216",
                  "Fare": 7.8958,
                  "Cabin": "nan",
                  "Embarked": "S",
                  "_deepnote_index_column": 29
                },
                {
                  "PassengerId": 31,
                  "Survived": 0,
                  "Pclass": 1,
                  "Name": "Uruchurtu, Don. Manuel E",
                  "Sex": "male",
                  "Age": "40.0",
                  "SibSp": 0,
                  "Parch": 0,
                  "Ticket": "PC 17601",
                  "Fare": 27.7208,
                  "Cabin": "nan",
                  "Embarked": "C",
                  "_deepnote_index_column": 30
                },
                {
                  "PassengerId": 32,
                  "Survived": 1,
                  "Pclass": 1,
                  "Name": "Spencer, Mrs. William Augustus (Marie Eugenie)",
                  "Sex": "female",
                  "Age": "nan",
                  "SibSp": 1,
                  "Parch": 0,
                  "Ticket": "PC 17569",
                  "Fare": 146.5208,
                  "Cabin": "B78",
                  "Embarked": "C",
                  "_deepnote_index_column": 31
                },
                {
                  "PassengerId": 33,
                  "Survived": 1,
                  "Pclass": 3,
                  "Name": "Glynn, Miss. Mary Agatha",
                  "Sex": "female",
                  "Age": "nan",
                  "SibSp": 0,
                  "Parch": 0,
                  "Ticket": "335677",
                  "Fare": 7.75,
                  "Cabin": "nan",
                  "Embarked": "Q",
                  "_deepnote_index_column": 32
                },
                {
                  "PassengerId": 34,
                  "Survived": 0,
                  "Pclass": 2,
                  "Name": "Wheadon, Mr. Edward H",
                  "Sex": "male",
                  "Age": "66.0",
                  "SibSp": 0,
                  "Parch": 0,
                  "Ticket": "C.A. 24579",
                  "Fare": 10.5,
                  "Cabin": "nan",
                  "Embarked": "S",
                  "_deepnote_index_column": 33
                },
                {
                  "PassengerId": 35,
                  "Survived": 0,
                  "Pclass": 1,
                  "Name": "Meyer, Mr. Edgar Joseph",
                  "Sex": "male",
                  "Age": "28.0",
                  "SibSp": 1,
                  "Parch": 0,
                  "Ticket": "PC 17604",
                  "Fare": 82.1708,
                  "Cabin": "nan",
                  "Embarked": "C",
                  "_deepnote_index_column": 34
                },
                {
                  "PassengerId": 36,
                  "Survived": 0,
                  "Pclass": 1,
                  "Name": "Holverson, Mr. Alexander Oskar",
                  "Sex": "male",
                  "Age": "42.0",
                  "SibSp": 1,
                  "Parch": 0,
                  "Ticket": "113789",
                  "Fare": 52,
                  "Cabin": "nan",
                  "Embarked": "S",
                  "_deepnote_index_column": 35
                },
                {
                  "PassengerId": 37,
                  "Survived": 1,
                  "Pclass": 3,
                  "Name": "Mamee, Mr. Hanna",
                  "Sex": "male",
                  "Age": "nan",
                  "SibSp": 0,
                  "Parch": 0,
                  "Ticket": "2677",
                  "Fare": 7.2292,
                  "Cabin": "nan",
                  "Embarked": "C",
                  "_deepnote_index_column": 36
                },
                {
                  "PassengerId": 38,
                  "Survived": 0,
                  "Pclass": 3,
                  "Name": "Cann, Mr. Ernest Charles",
                  "Sex": "male",
                  "Age": "21.0",
                  "SibSp": 0,
                  "Parch": 0,
                  "Ticket": "A./5. 2152",
                  "Fare": 8.05,
                  "Cabin": "nan",
                  "Embarked": "S",
                  "_deepnote_index_column": 37
                },
                {
                  "PassengerId": 39,
                  "Survived": 0,
                  "Pclass": 3,
                  "Name": "Vander Planke, Miss. Augusta Maria",
                  "Sex": "female",
                  "Age": "18.0",
                  "SibSp": 2,
                  "Parch": 0,
                  "Ticket": "345764",
                  "Fare": 18,
                  "Cabin": "nan",
                  "Embarked": "S",
                  "_deepnote_index_column": 38
                },
                {
                  "PassengerId": 40,
                  "Survived": 1,
                  "Pclass": 3,
                  "Name": "Nicola-Yarred, Miss. Jamila",
                  "Sex": "female",
                  "Age": "14.0",
                  "SibSp": 1,
                  "Parch": 0,
                  "Ticket": "2651",
                  "Fare": 11.2417,
                  "Cabin": "nan",
                  "Embarked": "C",
                  "_deepnote_index_column": 39
                },
                {
                  "PassengerId": 41,
                  "Survived": 0,
                  "Pclass": 3,
                  "Name": "Ahlin, Mrs. Johan (Johanna Persdotter Larsson)",
                  "Sex": "female",
                  "Age": "40.0",
                  "SibSp": 1,
                  "Parch": 0,
                  "Ticket": "7546",
                  "Fare": 9.475,
                  "Cabin": "nan",
                  "Embarked": "S",
                  "_deepnote_index_column": 40
                }
              ],
              "rows_bottom": [
                {
                  "PassengerId": 850,
                  "Survived": 1,
                  "Pclass": 1,
                  "Name": "Goldenberg, Mrs. Samuel L (Edwiga Grabowska)",
                  "Sex": "female",
                  "Age": "nan",
                  "SibSp": 1,
                  "Parch": 0,
                  "Ticket": "17453",
                  "Fare": 89.1042,
                  "Cabin": "C92",
                  "Embarked": "C",
                  "_deepnote_index_column": 849
                },
                {
                  "PassengerId": 851,
                  "Survived": 0,
                  "Pclass": 3,
                  "Name": "Andersson, Master. Sigvard Harald Elias",
                  "Sex": "male",
                  "Age": "4.0",
                  "SibSp": 4,
                  "Parch": 2,
                  "Ticket": "347082",
                  "Fare": 31.275,
                  "Cabin": "nan",
                  "Embarked": "S",
                  "_deepnote_index_column": 850
                },
                {
                  "PassengerId": 852,
                  "Survived": 0,
                  "Pclass": 3,
                  "Name": "Svensson, Mr. Johan",
                  "Sex": "male",
                  "Age": "74.0",
                  "SibSp": 0,
                  "Parch": 0,
                  "Ticket": "347060",
                  "Fare": 7.775,
                  "Cabin": "nan",
                  "Embarked": "S",
                  "_deepnote_index_column": 851
                },
                {
                  "PassengerId": 853,
                  "Survived": 0,
                  "Pclass": 3,
                  "Name": "Boulos, Miss. Nourelain",
                  "Sex": "female",
                  "Age": "9.0",
                  "SibSp": 1,
                  "Parch": 1,
                  "Ticket": "2678",
                  "Fare": 15.2458,
                  "Cabin": "nan",
                  "Embarked": "C",
                  "_deepnote_index_column": 852
                },
                {
                  "PassengerId": 854,
                  "Survived": 1,
                  "Pclass": 1,
                  "Name": "Lines, Miss. Mary Conover",
                  "Sex": "female",
                  "Age": "16.0",
                  "SibSp": 0,
                  "Parch": 1,
                  "Ticket": "PC 17592",
                  "Fare": 39.4,
                  "Cabin": "D28",
                  "Embarked": "S",
                  "_deepnote_index_column": 853
                },
                {
                  "PassengerId": 855,
                  "Survived": 0,
                  "Pclass": 2,
                  "Name": "Carter, Mrs. Ernest Courtenay (Lilian Hughes)",
                  "Sex": "female",
                  "Age": "44.0",
                  "SibSp": 1,
                  "Parch": 0,
                  "Ticket": "244252",
                  "Fare": 26,
                  "Cabin": "nan",
                  "Embarked": "S",
                  "_deepnote_index_column": 854
                },
                {
                  "PassengerId": 856,
                  "Survived": 1,
                  "Pclass": 3,
                  "Name": "Aks, Mrs. Sam (Leah Rosen)",
                  "Sex": "female",
                  "Age": "18.0",
                  "SibSp": 0,
                  "Parch": 1,
                  "Ticket": "392091",
                  "Fare": 9.35,
                  "Cabin": "nan",
                  "Embarked": "S",
                  "_deepnote_index_column": 855
                },
                {
                  "PassengerId": 857,
                  "Survived": 1,
                  "Pclass": 1,
                  "Name": "Wick, Mrs. George Dennick (Mary Hitchcock)",
                  "Sex": "female",
                  "Age": "45.0",
                  "SibSp": 1,
                  "Parch": 1,
                  "Ticket": "36928",
                  "Fare": 164.8667,
                  "Cabin": "nan",
                  "Embarked": "S",
                  "_deepnote_index_column": 856
                },
                {
                  "PassengerId": 858,
                  "Survived": 1,
                  "Pclass": 1,
                  "Name": "Daly, Mr. Peter Denis ",
                  "Sex": "male",
                  "Age": "51.0",
                  "SibSp": 0,
                  "Parch": 0,
                  "Ticket": "113055",
                  "Fare": 26.55,
                  "Cabin": "E17",
                  "Embarked": "S",
                  "_deepnote_index_column": 857
                },
                {
                  "PassengerId": 859,
                  "Survived": 1,
                  "Pclass": 3,
                  "Name": "Baclini, Mrs. Solomon (Latifa Qurban)",
                  "Sex": "female",
                  "Age": "24.0",
                  "SibSp": 0,
                  "Parch": 3,
                  "Ticket": "2666",
                  "Fare": 19.2583,
                  "Cabin": "nan",
                  "Embarked": "C",
                  "_deepnote_index_column": 858
                },
                {
                  "PassengerId": 860,
                  "Survived": 0,
                  "Pclass": 3,
                  "Name": "Razi, Mr. Raihed",
                  "Sex": "male",
                  "Age": "nan",
                  "SibSp": 0,
                  "Parch": 0,
                  "Ticket": "2629",
                  "Fare": 7.2292,
                  "Cabin": "nan",
                  "Embarked": "C",
                  "_deepnote_index_column": 859
                },
                {
                  "PassengerId": 861,
                  "Survived": 0,
                  "Pclass": 3,
                  "Name": "Hansen, Mr. Claus Peter",
                  "Sex": "male",
                  "Age": "41.0",
                  "SibSp": 2,
                  "Parch": 0,
                  "Ticket": "350026",
                  "Fare": 14.1083,
                  "Cabin": "nan",
                  "Embarked": "S",
                  "_deepnote_index_column": 860
                },
                {
                  "PassengerId": 862,
                  "Survived": 0,
                  "Pclass": 2,
                  "Name": "Giles, Mr. Frederick Edward",
                  "Sex": "male",
                  "Age": "21.0",
                  "SibSp": 1,
                  "Parch": 0,
                  "Ticket": "28134",
                  "Fare": 11.5,
                  "Cabin": "nan",
                  "Embarked": "S",
                  "_deepnote_index_column": 861
                },
                {
                  "PassengerId": 863,
                  "Survived": 1,
                  "Pclass": 1,
                  "Name": "Swift, Mrs. Frederick Joel (Margaret Welles Barron)",
                  "Sex": "female",
                  "Age": "48.0",
                  "SibSp": 0,
                  "Parch": 0,
                  "Ticket": "17466",
                  "Fare": 25.9292,
                  "Cabin": "D17",
                  "Embarked": "S",
                  "_deepnote_index_column": 862
                },
                {
                  "PassengerId": 864,
                  "Survived": 0,
                  "Pclass": 3,
                  "Name": "Sage, Miss. Dorothy Edith \"Dolly\"",
                  "Sex": "female",
                  "Age": "nan",
                  "SibSp": 8,
                  "Parch": 2,
                  "Ticket": "CA. 2343",
                  "Fare": 69.55,
                  "Cabin": "nan",
                  "Embarked": "S",
                  "_deepnote_index_column": 863
                },
                {
                  "PassengerId": 865,
                  "Survived": 0,
                  "Pclass": 2,
                  "Name": "Gill, Mr. John William",
                  "Sex": "male",
                  "Age": "24.0",
                  "SibSp": 0,
                  "Parch": 0,
                  "Ticket": "233866",
                  "Fare": 13,
                  "Cabin": "nan",
                  "Embarked": "S",
                  "_deepnote_index_column": 864
                },
                {
                  "PassengerId": 866,
                  "Survived": 1,
                  "Pclass": 2,
                  "Name": "Bystrom, Mrs. (Karolina)",
                  "Sex": "female",
                  "Age": "42.0",
                  "SibSp": 0,
                  "Parch": 0,
                  "Ticket": "236852",
                  "Fare": 13,
                  "Cabin": "nan",
                  "Embarked": "S",
                  "_deepnote_index_column": 865
                },
                {
                  "PassengerId": 867,
                  "Survived": 1,
                  "Pclass": 2,
                  "Name": "Duran y More, Miss. Asuncion",
                  "Sex": "female",
                  "Age": "27.0",
                  "SibSp": 1,
                  "Parch": 0,
                  "Ticket": "SC/PARIS 2149",
                  "Fare": 13.8583,
                  "Cabin": "nan",
                  "Embarked": "C",
                  "_deepnote_index_column": 866
                },
                {
                  "PassengerId": 868,
                  "Survived": 0,
                  "Pclass": 1,
                  "Name": "Roebling, Mr. Washington Augustus II",
                  "Sex": "male",
                  "Age": "31.0",
                  "SibSp": 0,
                  "Parch": 0,
                  "Ticket": "PC 17590",
                  "Fare": 50.4958,
                  "Cabin": "A24",
                  "Embarked": "S",
                  "_deepnote_index_column": 867
                },
                {
                  "PassengerId": 869,
                  "Survived": 0,
                  "Pclass": 3,
                  "Name": "van Melkebeke, Mr. Philemon",
                  "Sex": "male",
                  "Age": "nan",
                  "SibSp": 0,
                  "Parch": 0,
                  "Ticket": "345777",
                  "Fare": 9.5,
                  "Cabin": "nan",
                  "Embarked": "S",
                  "_deepnote_index_column": 868
                },
                {
                  "PassengerId": 870,
                  "Survived": 1,
                  "Pclass": 3,
                  "Name": "Johnson, Master. Harold Theodor",
                  "Sex": "male",
                  "Age": "4.0",
                  "SibSp": 1,
                  "Parch": 1,
                  "Ticket": "347742",
                  "Fare": 11.1333,
                  "Cabin": "nan",
                  "Embarked": "S",
                  "_deepnote_index_column": 869
                },
                {
                  "PassengerId": 871,
                  "Survived": 0,
                  "Pclass": 3,
                  "Name": "Balkic, Mr. Cerin",
                  "Sex": "male",
                  "Age": "26.0",
                  "SibSp": 0,
                  "Parch": 0,
                  "Ticket": "349248",
                  "Fare": 7.8958,
                  "Cabin": "nan",
                  "Embarked": "S",
                  "_deepnote_index_column": 870
                },
                {
                  "PassengerId": 872,
                  "Survived": 1,
                  "Pclass": 1,
                  "Name": "Beckwith, Mrs. Richard Leonard (Sallie Monypeny)",
                  "Sex": "female",
                  "Age": "47.0",
                  "SibSp": 1,
                  "Parch": 1,
                  "Ticket": "11751",
                  "Fare": 52.5542,
                  "Cabin": "D35",
                  "Embarked": "S",
                  "_deepnote_index_column": 871
                },
                {
                  "PassengerId": 873,
                  "Survived": 0,
                  "Pclass": 1,
                  "Name": "Carlsson, Mr. Frans Olof",
                  "Sex": "male",
                  "Age": "33.0",
                  "SibSp": 0,
                  "Parch": 0,
                  "Ticket": "695",
                  "Fare": 5,
                  "Cabin": "B51 B53 B55",
                  "Embarked": "S",
                  "_deepnote_index_column": 872
                },
                {
                  "PassengerId": 874,
                  "Survived": 0,
                  "Pclass": 3,
                  "Name": "Vander Cruyssen, Mr. Victor",
                  "Sex": "male",
                  "Age": "47.0",
                  "SibSp": 0,
                  "Parch": 0,
                  "Ticket": "345765",
                  "Fare": 9,
                  "Cabin": "nan",
                  "Embarked": "S",
                  "_deepnote_index_column": 873
                },
                {
                  "PassengerId": 875,
                  "Survived": 1,
                  "Pclass": 2,
                  "Name": "Abelson, Mrs. Samuel (Hannah Wizosky)",
                  "Sex": "female",
                  "Age": "28.0",
                  "SibSp": 1,
                  "Parch": 0,
                  "Ticket": "P/PP 3381",
                  "Fare": 24,
                  "Cabin": "nan",
                  "Embarked": "C",
                  "_deepnote_index_column": 874
                },
                {
                  "PassengerId": 876,
                  "Survived": 1,
                  "Pclass": 3,
                  "Name": "Najib, Miss. Adele Kiamie \"Jane\"",
                  "Sex": "female",
                  "Age": "15.0",
                  "SibSp": 0,
                  "Parch": 0,
                  "Ticket": "2667",
                  "Fare": 7.225,
                  "Cabin": "nan",
                  "Embarked": "C",
                  "_deepnote_index_column": 875
                },
                {
                  "PassengerId": 877,
                  "Survived": 0,
                  "Pclass": 3,
                  "Name": "Gustafsson, Mr. Alfred Ossian",
                  "Sex": "male",
                  "Age": "20.0",
                  "SibSp": 0,
                  "Parch": 0,
                  "Ticket": "7534",
                  "Fare": 9.8458,
                  "Cabin": "nan",
                  "Embarked": "S",
                  "_deepnote_index_column": 876
                },
                {
                  "PassengerId": 878,
                  "Survived": 0,
                  "Pclass": 3,
                  "Name": "Petroff, Mr. Nedelio",
                  "Sex": "male",
                  "Age": "19.0",
                  "SibSp": 0,
                  "Parch": 0,
                  "Ticket": "349212",
                  "Fare": 7.8958,
                  "Cabin": "nan",
                  "Embarked": "S",
                  "_deepnote_index_column": 877
                },
                {
                  "PassengerId": 879,
                  "Survived": 0,
                  "Pclass": 3,
                  "Name": "Laleff, Mr. Kristo",
                  "Sex": "male",
                  "Age": "nan",
                  "SibSp": 0,
                  "Parch": 0,
                  "Ticket": "349217",
                  "Fare": 7.8958,
                  "Cabin": "nan",
                  "Embarked": "S",
                  "_deepnote_index_column": 878
                },
                {
                  "PassengerId": 880,
                  "Survived": 1,
                  "Pclass": 1,
                  "Name": "Potter, Mrs. Thomas Jr (Lily Alexenia Wilson)",
                  "Sex": "female",
                  "Age": "56.0",
                  "SibSp": 0,
                  "Parch": 1,
                  "Ticket": "11767",
                  "Fare": 83.1583,
                  "Cabin": "C50",
                  "Embarked": "C",
                  "_deepnote_index_column": 879
                },
                {
                  "PassengerId": 881,
                  "Survived": 1,
                  "Pclass": 2,
                  "Name": "Shelley, Mrs. William (Imanita Parrish Hall)",
                  "Sex": "female",
                  "Age": "25.0",
                  "SibSp": 0,
                  "Parch": 1,
                  "Ticket": "230433",
                  "Fare": 26,
                  "Cabin": "nan",
                  "Embarked": "S",
                  "_deepnote_index_column": 880
                },
                {
                  "PassengerId": 882,
                  "Survived": 0,
                  "Pclass": 3,
                  "Name": "Markun, Mr. Johann",
                  "Sex": "male",
                  "Age": "33.0",
                  "SibSp": 0,
                  "Parch": 0,
                  "Ticket": "349257",
                  "Fare": 7.8958,
                  "Cabin": "nan",
                  "Embarked": "S",
                  "_deepnote_index_column": 881
                },
                {
                  "PassengerId": 883,
                  "Survived": 0,
                  "Pclass": 3,
                  "Name": "Dahlberg, Miss. Gerda Ulrika",
                  "Sex": "female",
                  "Age": "22.0",
                  "SibSp": 0,
                  "Parch": 0,
                  "Ticket": "7552",
                  "Fare": 10.5167,
                  "Cabin": "nan",
                  "Embarked": "S",
                  "_deepnote_index_column": 882
                },
                {
                  "PassengerId": 884,
                  "Survived": 0,
                  "Pclass": 2,
                  "Name": "Banfield, Mr. Frederick James",
                  "Sex": "male",
                  "Age": "28.0",
                  "SibSp": 0,
                  "Parch": 0,
                  "Ticket": "C.A./SOTON 34068",
                  "Fare": 10.5,
                  "Cabin": "nan",
                  "Embarked": "S",
                  "_deepnote_index_column": 883
                },
                {
                  "PassengerId": 885,
                  "Survived": 0,
                  "Pclass": 3,
                  "Name": "Sutehall, Mr. Henry Jr",
                  "Sex": "male",
                  "Age": "25.0",
                  "SibSp": 0,
                  "Parch": 0,
                  "Ticket": "SOTON/OQ 392076",
                  "Fare": 7.05,
                  "Cabin": "nan",
                  "Embarked": "S",
                  "_deepnote_index_column": 884
                },
                {
                  "PassengerId": 886,
                  "Survived": 0,
                  "Pclass": 3,
                  "Name": "Rice, Mrs. William (Margaret Norton)",
                  "Sex": "female",
                  "Age": "39.0",
                  "SibSp": 0,
                  "Parch": 5,
                  "Ticket": "382652",
                  "Fare": 29.125,
                  "Cabin": "nan",
                  "Embarked": "Q",
                  "_deepnote_index_column": 885
                },
                {
                  "PassengerId": 887,
                  "Survived": 0,
                  "Pclass": 2,
                  "Name": "Montvila, Rev. Juozas",
                  "Sex": "male",
                  "Age": "27.0",
                  "SibSp": 0,
                  "Parch": 0,
                  "Ticket": "211536",
                  "Fare": 13,
                  "Cabin": "nan",
                  "Embarked": "S",
                  "_deepnote_index_column": 886
                },
                {
                  "PassengerId": 888,
                  "Survived": 1,
                  "Pclass": 1,
                  "Name": "Graham, Miss. Margaret Edith",
                  "Sex": "female",
                  "Age": "19.0",
                  "SibSp": 0,
                  "Parch": 0,
                  "Ticket": "112053",
                  "Fare": 30,
                  "Cabin": "B42",
                  "Embarked": "S",
                  "_deepnote_index_column": 887
                },
                {
                  "PassengerId": 889,
                  "Survived": 0,
                  "Pclass": 3,
                  "Name": "Johnston, Miss. Catherine Helen \"Carrie\"",
                  "Sex": "female",
                  "Age": "nan",
                  "SibSp": 1,
                  "Parch": 2,
                  "Ticket": "W./C. 6607",
                  "Fare": 23.45,
                  "Cabin": "nan",
                  "Embarked": "S",
                  "_deepnote_index_column": 888
                },
                {
                  "PassengerId": 890,
                  "Survived": 1,
                  "Pclass": 1,
                  "Name": "Behr, Mr. Karl Howell",
                  "Sex": "male",
                  "Age": "26.0",
                  "SibSp": 0,
                  "Parch": 0,
                  "Ticket": "111369",
                  "Fare": 30,
                  "Cabin": "C148",
                  "Embarked": "C",
                  "_deepnote_index_column": 889
                },
                {
                  "PassengerId": 891,
                  "Survived": 0,
                  "Pclass": 3,
                  "Name": "Dooley, Mr. Patrick",
                  "Sex": "male",
                  "Age": "32.0",
                  "SibSp": 0,
                  "Parch": 0,
                  "Ticket": "370376",
                  "Fare": 7.75,
                  "Cabin": "nan",
                  "Embarked": "Q",
                  "_deepnote_index_column": 890
                }
              ]
            },
            "text/plain": "     PassengerId  Survived  Pclass  \\\n0              1         0       3   \n1              2         1       1   \n2              3         1       3   \n3              4         1       1   \n4              5         0       3   \n..           ...       ...     ...   \n886          887         0       2   \n887          888         1       1   \n888          889         0       3   \n889          890         1       1   \n890          891         0       3   \n\n                                                  Name     Sex   Age  SibSp  \\\n0                              Braund, Mr. Owen Harris    male  22.0      1   \n1    Cumings, Mrs. John Bradley (Florence Briggs Th...  female  38.0      1   \n2                               Heikkinen, Miss. Laina  female  26.0      0   \n3         Futrelle, Mrs. Jacques Heath (Lily May Peel)  female  35.0      1   \n4                             Allen, Mr. William Henry    male  35.0      0   \n..                                                 ...     ...   ...    ...   \n886                              Montvila, Rev. Juozas    male  27.0      0   \n887                       Graham, Miss. Margaret Edith  female  19.0      0   \n888           Johnston, Miss. Catherine Helen \"Carrie\"  female   NaN      1   \n889                              Behr, Mr. Karl Howell    male  26.0      0   \n890                                Dooley, Mr. Patrick    male  32.0      0   \n\n     Parch            Ticket     Fare Cabin Embarked  \n0        0         A/5 21171   7.2500   NaN        S  \n1        0          PC 17599  71.2833   C85        C  \n2        0  STON/O2. 3101282   7.9250   NaN        S  \n3        0            113803  53.1000  C123        S  \n4        0            373450   8.0500   NaN        S  \n..     ...               ...      ...   ...      ...  \n886      0            211536  13.0000   NaN        S  \n887      0            112053  30.0000   B42        S  \n888      2        W./C. 6607  23.4500   NaN        S  \n889      0            111369  30.0000  C148        C  \n890      0            370376   7.7500   NaN        Q  \n\n[891 rows x 12 columns]",
            "text/html": "<div>\n<style scoped>\n    .dataframe tbody tr th:only-of-type {\n        vertical-align: middle;\n    }\n\n    .dataframe tbody tr th {\n        vertical-align: top;\n    }\n\n    .dataframe thead th {\n        text-align: right;\n    }\n</style>\n<table border=\"1\" class=\"dataframe\">\n  <thead>\n    <tr style=\"text-align: right;\">\n      <th></th>\n      <th>PassengerId</th>\n      <th>Survived</th>\n      <th>Pclass</th>\n      <th>Name</th>\n      <th>Sex</th>\n      <th>Age</th>\n      <th>SibSp</th>\n      <th>Parch</th>\n      <th>Ticket</th>\n      <th>Fare</th>\n      <th>Cabin</th>\n      <th>Embarked</th>\n    </tr>\n  </thead>\n  <tbody>\n    <tr>\n      <th>0</th>\n      <td>1</td>\n      <td>0</td>\n      <td>3</td>\n      <td>Braund, Mr. Owen Harris</td>\n      <td>male</td>\n      <td>22.0</td>\n      <td>1</td>\n      <td>0</td>\n      <td>A/5 21171</td>\n      <td>7.2500</td>\n      <td>NaN</td>\n      <td>S</td>\n    </tr>\n    <tr>\n      <th>1</th>\n      <td>2</td>\n      <td>1</td>\n      <td>1</td>\n      <td>Cumings, Mrs. John Bradley (Florence Briggs Th...</td>\n      <td>female</td>\n      <td>38.0</td>\n      <td>1</td>\n      <td>0</td>\n      <td>PC 17599</td>\n      <td>71.2833</td>\n      <td>C85</td>\n      <td>C</td>\n    </tr>\n    <tr>\n      <th>2</th>\n      <td>3</td>\n      <td>1</td>\n      <td>3</td>\n      <td>Heikkinen, Miss. Laina</td>\n      <td>female</td>\n      <td>26.0</td>\n      <td>0</td>\n      <td>0</td>\n      <td>STON/O2. 3101282</td>\n      <td>7.9250</td>\n      <td>NaN</td>\n      <td>S</td>\n    </tr>\n    <tr>\n      <th>3</th>\n      <td>4</td>\n      <td>1</td>\n      <td>1</td>\n      <td>Futrelle, Mrs. Jacques Heath (Lily May Peel)</td>\n      <td>female</td>\n      <td>35.0</td>\n      <td>1</td>\n      <td>0</td>\n      <td>113803</td>\n      <td>53.1000</td>\n      <td>C123</td>\n      <td>S</td>\n    </tr>\n    <tr>\n      <th>4</th>\n      <td>5</td>\n      <td>0</td>\n      <td>3</td>\n      <td>Allen, Mr. William Henry</td>\n      <td>male</td>\n      <td>35.0</td>\n      <td>0</td>\n      <td>0</td>\n      <td>373450</td>\n      <td>8.0500</td>\n      <td>NaN</td>\n      <td>S</td>\n    </tr>\n    <tr>\n      <th>...</th>\n      <td>...</td>\n      <td>...</td>\n      <td>...</td>\n      <td>...</td>\n      <td>...</td>\n      <td>...</td>\n      <td>...</td>\n      <td>...</td>\n      <td>...</td>\n      <td>...</td>\n      <td>...</td>\n      <td>...</td>\n    </tr>\n    <tr>\n      <th>886</th>\n      <td>887</td>\n      <td>0</td>\n      <td>2</td>\n      <td>Montvila, Rev. Juozas</td>\n      <td>male</td>\n      <td>27.0</td>\n      <td>0</td>\n      <td>0</td>\n      <td>211536</td>\n      <td>13.0000</td>\n      <td>NaN</td>\n      <td>S</td>\n    </tr>\n    <tr>\n      <th>887</th>\n      <td>888</td>\n      <td>1</td>\n      <td>1</td>\n      <td>Graham, Miss. Margaret Edith</td>\n      <td>female</td>\n      <td>19.0</td>\n      <td>0</td>\n      <td>0</td>\n      <td>112053</td>\n      <td>30.0000</td>\n      <td>B42</td>\n      <td>S</td>\n    </tr>\n    <tr>\n      <th>888</th>\n      <td>889</td>\n      <td>0</td>\n      <td>3</td>\n      <td>Johnston, Miss. Catherine Helen \"Carrie\"</td>\n      <td>female</td>\n      <td>NaN</td>\n      <td>1</td>\n      <td>2</td>\n      <td>W./C. 6607</td>\n      <td>23.4500</td>\n      <td>NaN</td>\n      <td>S</td>\n    </tr>\n    <tr>\n      <th>889</th>\n      <td>890</td>\n      <td>1</td>\n      <td>1</td>\n      <td>Behr, Mr. Karl Howell</td>\n      <td>male</td>\n      <td>26.0</td>\n      <td>0</td>\n      <td>0</td>\n      <td>111369</td>\n      <td>30.0000</td>\n      <td>C148</td>\n      <td>C</td>\n    </tr>\n    <tr>\n      <th>890</th>\n      <td>891</td>\n      <td>0</td>\n      <td>3</td>\n      <td>Dooley, Mr. Patrick</td>\n      <td>male</td>\n      <td>32.0</td>\n      <td>0</td>\n      <td>0</td>\n      <td>370376</td>\n      <td>7.7500</td>\n      <td>NaN</td>\n      <td>Q</td>\n    </tr>\n  </tbody>\n</table>\n<p>891 rows × 12 columns</p>\n</div>"
          },
          "metadata": {}
        }
      ]
    },
    {
      "cell_type": "markdown",
      "source": "**13. Change the age in row 'f' to 1.5.**",
      "metadata": {
        "cell_id": "00001-d56c45d4-789c-405b-b192-72ad6b5e72f7",
        "deepnote_cell_type": "markdown"
      }
    },
    {
      "cell_type": "code",
      "metadata": {
        "cell_id": "00002-3eba9ae1-e159-4d47-8955-3c068981b173",
        "deepnote_to_be_reexecuted": false,
        "source_hash": "b623e53d",
        "execution_millis": 1,
        "execution_start": 1616493103545,
        "deepnote_cell_type": "code"
      },
      "source": "",
      "execution_count": 4,
      "outputs": []
    },
    {
      "cell_type": "markdown",
      "source": "**18. Sort df first by the values in the 'age' in decending order, then by the value in the 'visit' column in ascending order.**",
      "metadata": {
        "cell_id": "00003-3c42af8f-95cb-450b-b09b-a3cc92eadfd5",
        "deepnote_cell_type": "markdown"
      }
    },
    {
      "cell_type": "code",
      "metadata": {
        "cell_id": "00004-2d6629a9-d8b9-4d03-8680-e2c66d43ec65",
        "deepnote_cell_type": "code"
      },
      "source": "",
      "execution_count": null,
      "outputs": []
    },
    {
      "cell_type": "markdown",
      "source": "<a style='text-decoration:none;line-height:16px;display:flex;color:#5B5B62;padding:10px;justify-content:end;' href='https://deepnote.com?utm_source=created-in-deepnote-cell&projectId=79673256-d468-4dc3-bcd4-af2c4cf3525d' target=\"_blank\">\n<img style='display:inline;max-height:16px;margin:0px;margin-right:7.5px;' src='data:image/svg+xml;base64,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' > </img>\nCreated in <span style='font-weight:600;margin-left:4px;'>Deepnote</span></a>",
      "metadata": {
        "tags": [],
        "created_in_deepnote_cell": true,
        "deepnote_cell_type": "markdown"
      }
    }
  ],
  "nbformat": 4,
  "nbformat_minor": 5,
  "metadata": {
    "kernelspec": {
      "display_name": "Python 3",
      "language": "python",
      "name": "python3"
    },
    "language_info": {
      "codemirror_mode": {
        "name": "ipython",
        "version": 3
      },
      "file_extension": ".py",
      "mimetype": "text/x-python",
      "name": "python",
      "nbconvert_exporter": "python",
      "pygments_lexer": "ipython3",
      "version": "3.9.1"
    },
    "deepnote_notebook_id": "55f8ca6e-eb42-410b-b63e-de113429406c",
    "deepnote": {},
    "deepnote_execution_queue": []
  }
}