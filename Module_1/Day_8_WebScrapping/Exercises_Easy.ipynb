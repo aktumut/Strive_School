{
  "cells": [
    {
      "cell_type": "code",
      "metadata": {
        "tags": [],
        "cell_id": "00000-676e6105-89c7-4e3c-b1bc-b2dd0875f5aa",
        "deepnote_to_be_reexecuted": false,
        "source_hash": "35af1e82",
        "execution_millis": 4,
        "execution_start": 1616600037338,
        "deepnote_cell_type": "code"
      },
      "source": "import requests\nimport string\nimport pandas as pd\nfrom bs4 import BeautifulSoup\nimport datetime \nfrom dateutil.parser import parse\nfrom datetime import timedelta",
      "execution_count": null,
      "outputs": []
    },
    {
      "cell_type": "markdown",
      "source": "url: https://forecast.weather.gov/MapClick.php?lat=37.777120000000025&lon=-122.41963999999996#.YFsugpzPyiM\n\n\ninspect with the console\nwrite code to target the right elements of the text\n\nFor each day, you need to store:\n\n-The day of the week (Saturday)\n\n-The date (12/09)\n\n-A short description of the conditions (Clear early then increasing cloudiness after midnight. Low 41F. Winds light and variable)\n\n-The temperature low and high, converted into Celsius\n\n-For each element you scrape, The name of the item you targetted \n(ex: DailyContent--daypartDate--3MM0J)\n\n-Save all of this into a Pandas dataframe\n",
      "metadata": {
        "tags": [],
        "cell_id": "00000-89fdb827-a2e2-4ce4-93bc-2e0fdfd070c1",
        "deepnote_cell_type": "markdown"
      }
    },
    {
      "cell_type": "code",
      "metadata": {
        "tags": [],
        "cell_id": "00001-a543ea84-9acd-4098-a842-8e6bc21525b0",
        "deepnote_to_be_reexecuted": false,
        "source_hash": "18f9ca2",
        "execution_millis": 154,
        "execution_start": 1616600166949,
        "deepnote_cell_type": "code"
      },
      "source": "# Weather.gov\n\npage = requests.get(\"https://forecast.weather.gov/MapClick.php?lat=37.777120000000025&lon=-122.41963999999996#.YFsugpzPyiM\")\nsoup = BeautifulSoup(page.content, 'html.parser')\n\nmydivs = soup.find_all(\"div\", {\"id\": \"seven-day-forecast-container\"})[0]\n#print(mydivs)\n\n#target parents\n#go deeper into childen\n#target\n##<div id=\"seven-day-forecast-container\"><ul class=\"list-unstyled\" id=\"seven-day-forecast-list\"><li class=\"forecast-tombstone\">\n\n#find p element or relevant class\n\n    #target day\n    #target temperature\n    #target summary \nmy_p = mydivs.find_all(\"p\")\n#my_p = mydivs.find_all(\"p\", {\"class\":\"period-name\"})\n\n#save into a list\nmy_p_list=[]\nfor el in my_p:\n    my_p_list.append(el.get_text())\n    #print(el,el.get_text())\n#Excluding Today\nmy_p_list = my_p_list[8:]\n#my_p_list = my_p_list.split()\nmy_p_list = [my_p_list[i:i+8] for i in range(0,len(my_p_list),8)]\n#print(my_p_list)\n\n#save into a dictionary?\n#{\"day1\":[\"sunday\", \"54\", 'today was a great sunny day '], \"day2\":[\"monday\", \"54\", 'today was a great sunny day ']}\nmydict = {}\ni=1\n#Find date\ntoday = soup.find_all(\"div\", {\"id\":\"current_conditions_detail\"})[0].find_all(\"td\")[-1].get_text().strip()\n\nfor ele in my_p_list:\n\n    date = parse(today).date()+timedelta(days=i)\n    \n    mydict[f\"Day{i}\"] = [date, ele[0],f\"{ele[2]} and later {ele[-2]}\",\n    str(round((float(ele[-1][-5:-3])-32)*5/9,2))+\"C\",\n    str(round((float(ele[3][-5:-3])-32)*5/9,2))+\"C\"]\n    \n    i += 1\n#print(mydict)\n\n\n#load dict into pandas\nmydf = pd.DataFrame(mydict, index=[\"Date\", \"Day\", \"Description\",\"Low in °C\",\"High in °C\"])\nmydf\n\n# create column names if needed\n\n\n\n\n",
      "execution_count": null,
      "outputs": [
        {
          "name": "stderr",
          "text": "/shared-libs/python3.7/py-core/lib/python3.7/site-packages/dateutil/parser/_parser.py:1218: UnknownTimezoneWarning: tzname PDT identified but not understood.  Pass `tzinfos` argument in order to correctly return a timezone-aware datetime.  In a future version, this will raise an exception.\n  category=UnknownTimezoneWarning)\n",
          "output_type": "stream"
        },
        {
          "output_type": "execute_result",
          "execution_count": 277,
          "data": {
            "application/vnd.deepnote.dataframe.v2+json": {
              "row_count": 5,
              "column_count": 4,
              "columns": [
                {
                  "name": "Day1",
                  "dtype": "object",
                  "stats": {
                    "unique_count": 5,
                    "nan_count": 0,
                    "categories": [
                      {
                        "name": "2021-03-25",
                        "count": 1
                      },
                      {
                        "name": "Thursday",
                        "count": 1
                      },
                      {
                        "name": "3 others",
                        "count": 3
                      }
                    ]
                  }
                },
                {
                  "name": "Day2",
                  "dtype": "object",
                  "stats": {
                    "unique_count": 5,
                    "nan_count": 0,
                    "categories": [
                      {
                        "name": "2021-03-26",
                        "count": 1
                      },
                      {
                        "name": "Friday",
                        "count": 1
                      },
                      {
                        "name": "3 others",
                        "count": 3
                      }
                    ]
                  }
                },
                {
                  "name": "Day3",
                  "dtype": "object",
                  "stats": {
                    "unique_count": 5,
                    "nan_count": 0,
                    "categories": [
                      {
                        "name": "2021-03-27",
                        "count": 1
                      },
                      {
                        "name": "Saturday",
                        "count": 1
                      },
                      {
                        "name": "3 others",
                        "count": 3
                      }
                    ]
                  }
                },
                {
                  "name": "Day4",
                  "dtype": "object",
                  "stats": {
                    "unique_count": 4,
                    "nan_count": 0,
                    "categories": [
                      {
                        "name": "20.56C",
                        "count": 2
                      },
                      {
                        "name": "2021-03-28",
                        "count": 1
                      },
                      {
                        "name": "2 others",
                        "count": 2
                      }
                    ]
                  }
                },
                {
                  "name": "_deepnote_index_column",
                  "dtype": "object"
                }
              ],
              "rows_top": [
                {
                  "Day1": "2021-03-25",
                  "Day2": "2021-03-26",
                  "Day3": "2021-03-27",
                  "Day4": "2021-03-28",
                  "_deepnote_index_column": "Date"
                },
                {
                  "Day1": "Thursday",
                  "Day2": "Friday",
                  "Day3": "Saturday",
                  "Day4": "Sunday",
                  "_deepnote_index_column": "Day"
                },
                {
                  "Day1": "Sunny and later Clear",
                  "Day2": "Sunny and later Clear",
                  "Day3": "Sunny and later Clear",
                  "Day4": "Sunny and later Sunny",
                  "_deepnote_index_column": "Description"
                },
                {
                  "Day1": "7.78C",
                  "Day2": "8.33C",
                  "Day3": "9.44C",
                  "Day4": "20.56C",
                  "_deepnote_index_column": "Low in °C"
                },
                {
                  "Day1": "16.11C",
                  "Day2": "20.56C",
                  "Day3": "23.33C",
                  "Day4": "20.56C",
                  "_deepnote_index_column": "High in °C"
                }
              ],
              "rows_bottom": null
            },
            "text/plain": "                              Day1                   Day2  \\\nDate                    2021-03-25             2021-03-26   \nDay                       Thursday                 Friday   \nDescription  Sunny and later Clear  Sunny and later Clear   \nLow in °C                    7.78C                  8.33C   \nHigh in °C                  16.11C                 20.56C   \n\n                              Day3                   Day4  \nDate                    2021-03-27             2021-03-28  \nDay                       Saturday                 Sunday  \nDescription  Sunny and later Clear  Sunny and later Sunny  \nLow in °C                    9.44C                 20.56C  \nHigh in °C                  23.33C                 20.56C  ",
            "text/html": "<div>\n<style scoped>\n    .dataframe tbody tr th:only-of-type {\n        vertical-align: middle;\n    }\n\n    .dataframe tbody tr th {\n        vertical-align: top;\n    }\n\n    .dataframe thead th {\n        text-align: right;\n    }\n</style>\n<table border=\"1\" class=\"dataframe\">\n  <thead>\n    <tr style=\"text-align: right;\">\n      <th></th>\n      <th>Day1</th>\n      <th>Day2</th>\n      <th>Day3</th>\n      <th>Day4</th>\n    </tr>\n  </thead>\n  <tbody>\n    <tr>\n      <th>Date</th>\n      <td>2021-03-25</td>\n      <td>2021-03-26</td>\n      <td>2021-03-27</td>\n      <td>2021-03-28</td>\n    </tr>\n    <tr>\n      <th>Day</th>\n      <td>Thursday</td>\n      <td>Friday</td>\n      <td>Saturday</td>\n      <td>Sunday</td>\n    </tr>\n    <tr>\n      <th>Description</th>\n      <td>Sunny and later Clear</td>\n      <td>Sunny and later Clear</td>\n      <td>Sunny and later Clear</td>\n      <td>Sunny and later Sunny</td>\n    </tr>\n    <tr>\n      <th>Low in °C</th>\n      <td>7.78C</td>\n      <td>8.33C</td>\n      <td>9.44C</td>\n      <td>20.56C</td>\n    </tr>\n    <tr>\n      <th>High in °C</th>\n      <td>16.11C</td>\n      <td>20.56C</td>\n      <td>23.33C</td>\n      <td>20.56C</td>\n    </tr>\n  </tbody>\n</table>\n</div>"
          },
          "metadata": {}
        }
      ]
    },
    {
      "cell_type": "code",
      "metadata": {
        "tags": [],
        "cell_id": "00003-fc5044aa-7c2e-45ab-9253-6533ac0539b5",
        "deepnote_to_be_reexecuted": false,
        "source_hash": "b623e53d",
        "execution_millis": 1,
        "execution_start": 1616596847930,
        "deepnote_cell_type": "code"
      },
      "source": "",
      "execution_count": null,
      "outputs": []
    },
    {
      "cell_type": "markdown",
      "source": "<a style='text-decoration:none;line-height:16px;display:flex;color:#5B5B62;padding:10px;justify-content:end;' href='https://deepnote.com?utm_source=created-in-deepnote-cell&projectId=796ba814-f632-4502-b0d7-7e2f8f9e546d' target=\"_blank\">\n<img style='display:inline;max-height:16px;margin:0px;margin-right:7.5px;' src='data:image/svg+xml;base64,PD94bWwgdmVyc2lvbj0iMS4wIiBlbmNvZGluZz0iVVRGLTgiPz4KPHN2ZyB3aWR0aD0iODBweCIgaGVpZ2h0PSI4MHB4IiB2aWV3Qm94PSIwIDAgODAgODAiIHZlcnNpb249IjEuMSIgeG1sbnM9Imh0dHA6Ly93d3cudzMub3JnLzIwMDAvc3ZnIiB4bWxuczp4bGluaz0iaHR0cDovL3d3dy53My5vcmcvMTk5OS94bGluayI+CiAgICA8IS0tIEdlbmVyYXRvcjogU2tldGNoIDU0LjEgKDc2NDkwKSAtIGh0dHBzOi8vc2tldGNoYXBwLmNvbSAtLT4KICAgIDx0aXRsZT5Hcm91cCAzPC90aXRsZT4KICAgIDxkZXNjPkNyZWF0ZWQgd2l0aCBTa2V0Y2guPC9kZXNjPgogICAgPGcgaWQ9IkxhbmRpbmciIHN0cm9rZT0ibm9uZSIgc3Ryb2tlLXdpZHRoPSIxIiBmaWxsPSJub25lIiBmaWxsLXJ1bGU9ImV2ZW5vZGQiPgogICAgICAgIDxnIGlkPSJBcnRib2FyZCIgdHJhbnNmb3JtPSJ0cmFuc2xhdGUoLTEyMzUuMDAwMDAwLCAtNzkuMDAwMDAwKSI+CiAgICAgICAgICAgIDxnIGlkPSJHcm91cC0zIiB0cmFuc2Zvcm09InRyYW5zbGF0ZSgxMjM1LjAwMDAwMCwgNzkuMDAwMDAwKSI+CiAgICAgICAgICAgICAgICA8cG9seWdvbiBpZD0iUGF0aC0yMCIgZmlsbD0iIzAyNjVCNCIgcG9pbnRzPSIyLjM3NjIzNzYyIDgwIDM4LjA0NzY2NjcgODAgNTcuODIxNzgyMiA3My44MDU3NTkyIDU3LjgyMTc4MjIgMzIuNzU5MjczOSAzOS4xNDAyMjc4IDMxLjY4MzE2ODMiPjwvcG9seWdvbj4KICAgICAgICAgICAgICAgIDxwYXRoIGQ9Ik0zNS4wMDc3MTgsODAgQzQyLjkwNjIwMDcsNzYuNDU0OTM1OCA0Ny41NjQ5MTY3LDcxLjU0MjI2NzEgNDguOTgzODY2LDY1LjI2MTk5MzkgQzUxLjExMjI4OTksNTUuODQxNTg0MiA0MS42NzcxNzk1LDQ5LjIxMjIyODQgMjUuNjIzOTg0Niw0OS4yMTIyMjg0IEMyNS40ODQ5Mjg5LDQ5LjEyNjg0NDggMjkuODI2MTI5Niw0My4yODM4MjQ4IDM4LjY0NzU4NjksMzEuNjgzMTY4MyBMNzIuODcxMjg3MSwzMi41NTQ0MjUgTDY1LjI4MDk3Myw2Ny42NzYzNDIxIEw1MS4xMTIyODk5LDc3LjM3NjE0NCBMMzUuMDA3NzE4LDgwIFoiIGlkPSJQYXRoLTIyIiBmaWxsPSIjMDAyODY4Ij48L3BhdGg+CiAgICAgICAgICAgICAgICA8cGF0aCBkPSJNMCwzNy43MzA0NDA1IEwyNy4xMTQ1MzcsMC4yNTcxMTE0MzYgQzYyLjM3MTUxMjMsLTEuOTkwNzE3MDEgODAsMTAuNTAwMzkyNyA4MCwzNy43MzA0NDA1IEM4MCw2NC45NjA0ODgyIDY0Ljc3NjUwMzgsNzkuMDUwMzQxNCAzNC4zMjk1MTEzLDgwIEM0Ny4wNTUzNDg5LDc3LjU2NzA4MDggNTMuNDE4MjY3Nyw3MC4zMTM2MTAzIDUzLjQxODI2NzcsNTguMjM5NTg4NSBDNTMuNDE4MjY3Nyw0MC4xMjg1NTU3IDM2LjMwMzk1NDQsMzcuNzMwNDQwNSAyNS4yMjc0MTcsMzcuNzMwNDQwNSBDMTcuODQzMDU4NiwzNy43MzA0NDA1IDkuNDMzOTE5NjYsMzcuNzMwNDQwNSAwLDM3LjczMDQ0MDUgWiIgaWQ9IlBhdGgtMTkiIGZpbGw9IiMzNzkzRUYiPjwvcGF0aD4KICAgICAgICAgICAgPC9nPgogICAgICAgIDwvZz4KICAgIDwvZz4KPC9zdmc+' > </img>\nCreated in <span style='font-weight:600;margin-left:4px;'>Deepnote</span></a>",
      "metadata": {
        "tags": [],
        "created_in_deepnote_cell": true,
        "deepnote_cell_type": "markdown"
      }
    }
  ],
  "nbformat": 4,
  "nbformat_minor": 2,
  "metadata": {
    "orig_nbformat": 2,
    "deepnote_notebook_id": "b849c6ab-dbb8-4680-84ad-6e9d02ceb130",
    "deepnote": {},
    "deepnote_execution_queue": []
  }
}