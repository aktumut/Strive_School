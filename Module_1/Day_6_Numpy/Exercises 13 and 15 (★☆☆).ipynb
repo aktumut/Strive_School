{
  "cells": [
    {
      "cell_type": "code",
      "metadata": {
        "cell_id": "00000-9de54bfd-7075-42d9-a613-91fe954262f5",
        "deepnote_to_be_reexecuted": false,
        "source_hash": "fbac2bf6",
        "execution_start": 1616407619957,
        "execution_millis": 1,
        "deepnote_cell_type": "code"
      },
      "source": "# Import the needed libraries\nimport numpy as np",
      "execution_count": 3,
      "outputs": []
    },
    {
      "cell_type": "markdown",
      "source": "**13. Create a 10x10 array with random values and find the minimum and maximum values**",
      "metadata": {
        "cell_id": "00001-889bfa08-68ee-4e95-ab50-d806af802d92",
        "deepnote_cell_type": "markdown"
      }
    },
    {
      "cell_type": "code",
      "metadata": {
        "cell_id": "00002-6ff465c6-fa1c-48a4-8d59-3131dcc48bbd",
        "deepnote_to_be_reexecuted": false,
        "source_hash": "cd09766a",
        "execution_millis": 5,
        "execution_start": 1616408038969,
        "deepnote_cell_type": "code"
      },
      "source": "x=np.random.normal(size=(10, 10))\nx",
      "execution_count": 11,
      "outputs": [
        {
          "output_type": "execute_result",
          "execution_count": 11,
          "data": {
            "text/plain": "array([[-1.12033318,  0.49991763,  0.55630529,  0.1804029 ,  0.4592788 ,\n         1.33309081,  0.77890179,  2.18055494,  0.70490985, -0.88904015],\n       [ 1.17767257,  0.61862337,  2.40513675, -0.32270115, -1.17112096,\n        -0.52441599, -0.70134118, -0.52811282,  1.28947424,  0.42396652],\n       [-0.00541133, -1.23559325,  0.73170074, -1.42491204, -0.38310519,\n        -0.50930458,  0.43866491,  0.03426328, -0.52088487, -0.55960833],\n       [ 1.30794343,  1.53571012, -0.25931538, -0.23043611, -0.92726417,\n        -0.18706767,  1.91347289,  0.37967666, -1.57151377,  0.78658518],\n       [ 0.15029224, -1.24435478,  0.07236623,  1.25983123,  0.7725737 ,\n         0.79558863,  0.38553827, -1.65883403,  0.07331309, -0.55824327],\n       [-0.25596002,  0.05839377, -0.00447677,  0.13360126,  0.42283274,\n        -0.71092529, -0.88073183, -0.93499428,  0.39394384, -0.28116713],\n       [ 0.36043362,  1.99846265,  1.86590668,  0.51410732,  1.29372407,\n         0.31242598, -0.20407436,  0.03866097, -0.76922833,  1.46879672],\n       [ 0.14618236,  0.08079651,  0.63605285, -2.19941503,  0.20057849,\n        -0.44043728,  0.02820321,  0.66002073, -1.23244923, -0.36284294],\n       [-0.61257539,  1.34656529, -0.42837133, -0.33807352,  1.30866002,\n        -1.14207236,  1.94257749, -0.68458034,  0.79716079,  0.54684736],\n       [ 0.14525447, -1.33287098, -0.37311579,  0.72724467, -1.33091824,\n        -1.63488701,  1.79036036, -0.11184131, -0.07528239, -1.25200803]])"
          },
          "metadata": {}
        }
      ]
    },
    {
      "cell_type": "code",
      "source": "print(x.max())\nprint(x.min())",
      "metadata": {
        "tags": [],
        "cell_id": "00003-dd421dde-73b7-46d9-82f3-2d7558c48daa",
        "deepnote_to_be_reexecuted": false,
        "source_hash": "b33ac1c",
        "execution_millis": 210,
        "execution_start": 1616408047002,
        "deepnote_cell_type": "code"
      },
      "outputs": [
        {
          "name": "stdout",
          "text": "2.4051367539196904\n-2.1994150349913726\n",
          "output_type": "stream"
        }
      ],
      "execution_count": 12
    },
    {
      "cell_type": "markdown",
      "source": "**15. Create a 2d array with 1 on the border and 0 inside**",
      "metadata": {
        "cell_id": "00003-9edfb16e-05fa-46b0-b7ae-4ff8016cf3f5",
        "deepnote_cell_type": "markdown"
      }
    },
    {
      "cell_type": "code",
      "metadata": {
        "cell_id": "00004-8054f2e3-c6cc-4e91-a656-76d34f8630e6",
        "deepnote_to_be_reexecuted": false,
        "source_hash": "89f09dc",
        "execution_millis": 27,
        "execution_start": 1616408231510,
        "deepnote_cell_type": "code"
      },
      "source": "y=np.array(([1,0,1],[1,0,1]))\ny",
      "execution_count": 14,
      "outputs": [
        {
          "output_type": "execute_result",
          "execution_count": 14,
          "data": {
            "text/plain": "array([[1, 0, 1],\n       [1, 0, 1]])"
          },
          "metadata": {}
        }
      ]
    },
    {
      "cell_type": "markdown",
      "source": "<a style='text-decoration:none;line-height:16px;display:flex;color:#5B5B62;padding:10px;justify-content:end;' href='https://deepnote.com?utm_source=created-in-deepnote-cell&projectId=79673256-d468-4dc3-bcd4-af2c4cf3525d' target=\"_blank\">\n<img style='display:inline;max-height:16px;margin:0px;margin-right:7.5px;' src='data:image/svg+xml;base64,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' > </img>\nCreated in <span style='font-weight:600;margin-left:4px;'>Deepnote</span></a>",
      "metadata": {
        "tags": [],
        "created_in_deepnote_cell": true,
        "deepnote_cell_type": "markdown"
      }
    }
  ],
  "nbformat": 4,
  "nbformat_minor": 5,
  "metadata": {
    "kernelspec": {
      "display_name": "Python 3",
      "language": "python",
      "name": "python3"
    },
    "language_info": {
      "codemirror_mode": {
        "name": "ipython",
        "version": 3
      },
      "file_extension": ".py",
      "mimetype": "text/x-python",
      "name": "python",
      "nbconvert_exporter": "python",
      "pygments_lexer": "ipython3",
      "version": "3.9.1"
    },
    "deepnote_notebook_id": "f85b95af-f42d-44c9-8d86-c047072759e2",
    "deepnote": {},
    "deepnote_execution_queue": []
  }
}