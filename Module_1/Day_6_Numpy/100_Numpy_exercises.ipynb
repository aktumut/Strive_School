{
  "cells": [
    {
      "cell_type": "markdown",
      "source": "# 100 numpy exercises\n\nThis is a collection of exercises that have been collected in the numpy mailing list, on stack overflow and in the numpy documentation. The goal of this collection is to offer a quick reference for both old and new users but also to provide a set of exercises for those who teach.\n\n\nIf you find an error or think you've a better way to solve some of them, feel free to open an issue at <https://github.com/rougier/numpy-100>",
      "metadata": {
        "cell_id": "00000-2d3fcb7a-8c41-4f39-8c59-a22b77cb69ee",
        "deepnote_cell_type": "markdown"
      }
    },
    {
      "cell_type": "markdown",
      "source": "#### 1. Import the numpy package under the name `np` (★☆☆)",
      "metadata": {
        "cell_id": "00001-5e5698f6-14d6-4031-8a15-9dc15ed66825",
        "deepnote_cell_type": "markdown"
      }
    },
    {
      "cell_type": "code",
      "metadata": {
        "collapsed": true,
        "cell_id": "00002-4ea3fbf8-a16c-42be-bd5f-c68fcbce3137",
        "deepnote_to_be_reexecuted": false,
        "source_hash": "c2602aa8",
        "execution_millis": 0,
        "execution_start": 1616418599087,
        "deepnote_cell_type": "code"
      },
      "source": "import numpy as np",
      "execution_count": 2,
      "outputs": []
    },
    {
      "cell_type": "markdown",
      "source": "#### 2. Print the numpy version and the configuration (★☆☆)",
      "metadata": {
        "cell_id": "00003-d477aad2-fc4a-4073-99e2-d2d8575df61a",
        "deepnote_cell_type": "markdown"
      }
    },
    {
      "cell_type": "code",
      "metadata": {
        "cell_id": "00004-be1b3efe-d27a-46bc-85cf-8d42ff4e0855",
        "deepnote_to_be_reexecuted": false,
        "source_hash": "e0324731",
        "execution_millis": 13,
        "execution_start": 1616403780117,
        "deepnote_cell_type": "code"
      },
      "source": "np.version.version",
      "execution_count": null,
      "outputs": [
        {
          "output_type": "execute_result",
          "execution_count": 3,
          "data": {
            "text/plain": "'1.19.5'"
          },
          "metadata": {}
        }
      ]
    },
    {
      "cell_type": "markdown",
      "source": "#### 3. Create a null vector of size 10 (★☆☆)",
      "metadata": {
        "cell_id": "00005-cdd82e98-539e-4c7a-a28f-f31f9fdfefee",
        "deepnote_cell_type": "markdown"
      }
    },
    {
      "cell_type": "code",
      "metadata": {
        "cell_id": "00006-6c6a0dfa-53cd-46f9-abfb-e34c1ce89808",
        "deepnote_to_be_reexecuted": false,
        "source_hash": "3bf56680",
        "execution_start": 1616403800781,
        "execution_millis": 27,
        "deepnote_cell_type": "code"
      },
      "source": "np.zeros(10)",
      "execution_count": null,
      "outputs": [
        {
          "output_type": "execute_result",
          "execution_count": 4,
          "data": {
            "text/plain": "array([0., 0., 0., 0., 0., 0., 0., 0., 0., 0.])"
          },
          "metadata": {}
        }
      ]
    },
    {
      "cell_type": "markdown",
      "source": "#### 4.  How to find the memory size of any array (★☆☆)",
      "metadata": {
        "cell_id": "00007-cc2fd984-798f-4f40-8f1c-b889b60c3ddb",
        "deepnote_cell_type": "markdown"
      }
    },
    {
      "cell_type": "code",
      "metadata": {
        "cell_id": "00008-488a561c-b596-411c-a85d-c9b32c58a100",
        "deepnote_to_be_reexecuted": false,
        "source_hash": "86187362",
        "execution_millis": 20,
        "execution_start": 1616403894525,
        "deepnote_cell_type": "code"
      },
      "source": "np.ones(10).nbytes",
      "execution_count": null,
      "outputs": [
        {
          "output_type": "execute_result",
          "execution_count": 6,
          "data": {
            "text/plain": "80"
          },
          "metadata": {}
        }
      ]
    },
    {
      "cell_type": "markdown",
      "source": "#### 5.  How to get the documentation of the numpy add function from the command line? (★☆☆)",
      "metadata": {
        "cell_id": "00009-819112c2-0bce-451a-a9ab-30b0adf3a383",
        "deepnote_cell_type": "markdown"
      }
    },
    {
      "cell_type": "code",
      "metadata": {
        "collapsed": true,
        "cell_id": "00010-23bf6e8c-03b1-4fe5-ba98-a8971f49cdc2",
        "deepnote_to_be_reexecuted": false,
        "source_hash": "1c5af9d7",
        "execution_millis": 2,
        "execution_start": 1616418930829,
        "deepnote_cell_type": "code"
      },
      "source": "np.info(np.add)",
      "execution_count": 14,
      "outputs": [
        {
          "name": "stdout",
          "text": "add(x1, x2, /, out=None, *, where=True, casting='same_kind', order='K', dtype=None, subok=True[, signature, extobj])\n\nAdd arguments element-wise.\n\nParameters\n----------\nx1, x2 : array_like\n    The arrays to be added.\n    If ``x1.shape != x2.shape``, they must be broadcastable to a common\n    shape (which becomes the shape of the output).\nout : ndarray, None, or tuple of ndarray and None, optional\n    A location into which the result is stored. If provided, it must have\n    a shape that the inputs broadcast to. If not provided or None,\n    a freshly-allocated array is returned. A tuple (possible only as a\n    keyword argument) must have length equal to the number of outputs.\nwhere : array_like, optional\n    This condition is broadcast over the input. At locations where the\n    condition is True, the `out` array will be set to the ufunc result.\n    Elsewhere, the `out` array will retain its original value.\n    Note that if an uninitialized `out` array is created via the default\n    ``out=None``, locations within it where the condition is False will\n    remain uninitialized.\n**kwargs\n    For other keyword-only arguments, see the\n    :ref:`ufunc docs <ufuncs.kwargs>`.\n\nReturns\n-------\nadd : ndarray or scalar\n    The sum of `x1` and `x2`, element-wise.\n    This is a scalar if both `x1` and `x2` are scalars.\n\nNotes\n-----\nEquivalent to `x1` + `x2` in terms of array broadcasting.\n\nExamples\n--------\n>>> np.add(1.0, 4.0)\n5.0\n>>> x1 = np.arange(9.0).reshape((3, 3))\n>>> x2 = np.arange(3.0)\n>>> np.add(x1, x2)\narray([[  0.,   2.,   4.],\n       [  3.,   5.,   7.],\n       [  6.,   8.,  10.]])\n",
          "output_type": "stream"
        }
      ]
    },
    {
      "cell_type": "markdown",
      "source": "#### 6.  Create a null vector of size 10 but the fifth value which is 1 (★☆☆)",
      "metadata": {
        "cell_id": "00011-d12d7eea-cde1-4266-a8ef-b90853bbe6be",
        "deepnote_cell_type": "markdown"
      }
    },
    {
      "cell_type": "code",
      "metadata": {
        "cell_id": "00012-8e48ab5e-d945-4409-9d58-ced4ce13cd69",
        "deepnote_to_be_reexecuted": false,
        "source_hash": "2d7148ad",
        "execution_millis": 11,
        "execution_start": 1616419411531,
        "deepnote_cell_type": "code"
      },
      "source": "null_vector=np.zeros(10)\nnull_vector[5]=1\nnull_vector",
      "execution_count": 21,
      "outputs": [
        {
          "output_type": "execute_result",
          "execution_count": 21,
          "data": {
            "text/plain": "array([0., 0., 0., 0., 0., 1., 0., 0., 0., 0.])"
          },
          "metadata": {}
        }
      ]
    },
    {
      "cell_type": "markdown",
      "source": "#### 7.  Create a vector with values ranging from 10 to 49 (★☆☆)",
      "metadata": {
        "cell_id": "00013-704a03b4-5777-4143-ba4a-6bf6f189ba01",
        "deepnote_cell_type": "markdown"
      }
    },
    {
      "cell_type": "code",
      "metadata": {
        "cell_id": "00014-65b1cb0d-b01c-40dc-ba0b-0ecf04efca72",
        "deepnote_to_be_reexecuted": false,
        "source_hash": "f42ca5ce",
        "execution_millis": 10,
        "execution_start": 1616419701730,
        "deepnote_cell_type": "code"
      },
      "source": "_10_to_49=np.arange(start=10, stop=49)\n_10_to_49",
      "execution_count": 31,
      "outputs": [
        {
          "output_type": "execute_result",
          "execution_count": 31,
          "data": {
            "text/plain": "array([10, 11, 12, 13, 14, 15, 16, 17, 18, 19, 20, 21, 22, 23, 24, 25, 26,\n       27, 28, 29, 30, 31, 32, 33, 34, 35, 36, 37, 38, 39, 40, 41, 42, 43,\n       44, 45, 46, 47, 48])"
          },
          "metadata": {}
        }
      ]
    },
    {
      "cell_type": "markdown",
      "source": "#### 8.  Reverse a vector (first element becomes last) (★☆☆)",
      "metadata": {
        "cell_id": "00015-bb5b9e41-4678-48d4-bb72-7f4669828e52",
        "deepnote_cell_type": "markdown"
      }
    },
    {
      "cell_type": "code",
      "metadata": {
        "cell_id": "00016-9c90171e-3e73-4552-bf95-10bd08bf6fda",
        "deepnote_to_be_reexecuted": false,
        "source_hash": "c5a40f4a",
        "execution_millis": 11,
        "execution_start": 1616420294068,
        "deepnote_cell_type": "code"
      },
      "source": "#I used same array with previous question\nnp.flip(_10_to_49)",
      "execution_count": 33,
      "outputs": [
        {
          "output_type": "execute_result",
          "execution_count": 33,
          "data": {
            "text/plain": "array([48, 47, 46, 45, 44, 43, 42, 41, 40, 39, 38, 37, 36, 35, 34, 33, 32,\n       31, 30, 29, 28, 27, 26, 25, 24, 23, 22, 21, 20, 19, 18, 17, 16, 15,\n       14, 13, 12, 11, 10])"
          },
          "metadata": {}
        }
      ]
    },
    {
      "cell_type": "markdown",
      "source": "#### 9.  Create a 3x3 matrix with values ranging from 0 to 8 (★☆☆)",
      "metadata": {
        "cell_id": "00017-48d84bf2-64d6-4ff3-92d5-d2e7c77c1268",
        "deepnote_cell_type": "markdown"
      }
    },
    {
      "cell_type": "code",
      "metadata": {
        "cell_id": "00018-ef8dade3-d52b-4342-b6f7-c6f359188f3e",
        "deepnote_to_be_reexecuted": false,
        "source_hash": "c261124e",
        "execution_millis": 13,
        "execution_start": 1616420437549,
        "deepnote_cell_type": "code"
      },
      "source": "_3x3_matrix=np.arange(0, 9).reshape(3,3)\n_3x3_matrix",
      "execution_count": 39,
      "outputs": [
        {
          "output_type": "execute_result",
          "execution_count": 39,
          "data": {
            "text/plain": "array([[0, 1, 2],\n       [3, 4, 5],\n       [6, 7, 8]])"
          },
          "metadata": {}
        }
      ]
    },
    {
      "cell_type": "markdown",
      "source": "#### 10. Find indices of non-zero elements from \\[1,2,0,0,4,0\\] (★☆☆)",
      "metadata": {
        "cell_id": "00019-43b2a5b5-1aa3-4b2c-b748-6a29ef3b393e",
        "deepnote_cell_type": "markdown"
      }
    },
    {
      "cell_type": "code",
      "metadata": {
        "cell_id": "00020-f7ae7727-bdd3-46fe-83a4-76054ffd82f6",
        "deepnote_to_be_reexecuted": false,
        "source_hash": "41e59b06",
        "execution_millis": 11,
        "execution_start": 1616420621604,
        "deepnote_cell_type": "code"
      },
      "source": "non_zero=np.array([1,2,0,0,4,0])\nnon_zero[non_zero!=0]\n    ",
      "execution_count": 42,
      "outputs": [
        {
          "output_type": "execute_result",
          "execution_count": 42,
          "data": {
            "text/plain": "array([1, 2, 4])"
          },
          "metadata": {}
        }
      ]
    },
    {
      "cell_type": "markdown",
      "source": "#### 11. Create a 3x3 identity matrix (★☆☆)",
      "metadata": {
        "cell_id": "00021-b462b41e-3abd-459f-94e7-e89612821834",
        "deepnote_cell_type": "markdown"
      }
    },
    {
      "cell_type": "code",
      "metadata": {
        "cell_id": "00022-039d2d99-f639-491e-b315-f46e65ec4c8c",
        "deepnote_to_be_reexecuted": false,
        "source_hash": "a422f21c",
        "execution_start": 1616420734369,
        "execution_millis": 60,
        "deepnote_cell_type": "code"
      },
      "source": "np.identity(3)",
      "execution_count": 43,
      "outputs": [
        {
          "output_type": "execute_result",
          "execution_count": 43,
          "data": {
            "text/plain": "array([[1., 0., 0.],\n       [0., 1., 0.],\n       [0., 0., 1.]])"
          },
          "metadata": {}
        }
      ]
    },
    {
      "cell_type": "markdown",
      "source": "#### 12. Create a 3x3x3 array with random values (★☆☆)",
      "metadata": {
        "cell_id": "00023-3af13794-e7aa-4f5f-a6ba-153e1daa7c1e",
        "deepnote_cell_type": "markdown"
      }
    },
    {
      "cell_type": "code",
      "metadata": {
        "collapsed": true,
        "cell_id": "00024-500b598c-7b02-422e-8ffb-0afeb537a85e",
        "deepnote_to_be_reexecuted": false,
        "source_hash": "87cd2bfe",
        "execution_millis": 14,
        "execution_start": 1616421182357,
        "deepnote_cell_type": "code"
      },
      "source": "random_3x3x3=np.random.randint(0,10,(3,3,3))\nrandom_3x3x3",
      "execution_count": 56,
      "outputs": [
        {
          "output_type": "execute_result",
          "execution_count": 56,
          "data": {
            "text/plain": "array([[[3, 1, 3],\n        [5, 7, 1],\n        [0, 5, 5]],\n\n       [[4, 1, 1],\n        [4, 1, 1],\n        [3, 5, 2]],\n\n       [[4, 4, 1],\n        [3, 5, 0],\n        [4, 9, 3]]])"
          },
          "metadata": {}
        }
      ]
    },
    {
      "cell_type": "markdown",
      "source": "#### 13. Create a 10x10 array with random values and find the minimum and maximum values (★☆☆)",
      "metadata": {
        "cell_id": "00025-9067adea-cc7d-48ca-a3eb-edfbd5ea742b",
        "deepnote_cell_type": "markdown"
      }
    },
    {
      "cell_type": "code",
      "metadata": {
        "cell_id": "00026-38415c7d-0c4f-4012-9054-dceba7ff4b7e",
        "deepnote_to_be_reexecuted": false,
        "source_hash": "d3d07c6e",
        "execution_start": 1616408651461,
        "execution_millis": 9,
        "deepnote_cell_type": "code"
      },
      "source": "x=np.random.normal(size=(10, 10)) #I choosed use normalized values\nprint(x.max())\nprint(x.min())",
      "execution_count": null,
      "outputs": [
        {
          "name": "stdout",
          "text": "2.4933805759469685\n-2.4196157899063544\n",
          "output_type": "stream"
        }
      ]
    },
    {
      "cell_type": "markdown",
      "source": "#### 14. Create a random vector of size 30 and find the mean value (★☆☆)",
      "metadata": {
        "cell_id": "00027-93338d16-5672-4fa6-8359-c90d0e6e984d",
        "deepnote_cell_type": "markdown"
      }
    },
    {
      "cell_type": "code",
      "metadata": {
        "cell_id": "00028-a9ad4aed-4b71-4ca7-b397-a3310de81bda",
        "deepnote_to_be_reexecuted": false,
        "source_hash": "146b17b9",
        "execution_millis": 13,
        "execution_start": 1616421339392,
        "deepnote_cell_type": "code"
      },
      "source": "_30_vector=np.random.randint(0,10,(1,30))\nnp.average(_30_vector)",
      "execution_count": 64,
      "outputs": [
        {
          "output_type": "execute_result",
          "execution_count": 64,
          "data": {
            "text/plain": "4.466666666666667"
          },
          "metadata": {}
        }
      ]
    },
    {
      "cell_type": "markdown",
      "source": "#### 15. Create a 2d array with 1 on the border and 0 inside (★☆☆)",
      "metadata": {
        "cell_id": "00029-452fd8ec-b783-4cf7-ad19-32622beaf241",
        "deepnote_cell_type": "markdown"
      }
    },
    {
      "cell_type": "code",
      "metadata": {
        "cell_id": "00030-e9eb80af-d2d8-4887-8f6a-7811f4076ea7",
        "deepnote_to_be_reexecuted": false,
        "source_hash": "89f09dc",
        "execution_millis": 12,
        "execution_start": 1616421349982,
        "deepnote_cell_type": "code"
      },
      "source": "y=np.array(([1,0,1],[1,0,1]))\ny",
      "execution_count": 65,
      "outputs": [
        {
          "output_type": "execute_result",
          "execution_count": 65,
          "data": {
            "text/plain": "array([[1, 0, 1],\n       [1, 0, 1]])"
          },
          "metadata": {}
        }
      ]
    },
    {
      "cell_type": "markdown",
      "source": "#### 16. How to add a border (filled with 0's) around an existing array? (★☆☆)",
      "metadata": {
        "cell_id": "00031-9930648e-197d-4889-ade1-079d75a3ee2b",
        "deepnote_cell_type": "markdown"
      }
    },
    {
      "cell_type": "code",
      "metadata": {
        "cell_id": "00032-9e8b99c9-efc5-4a46-b2c3-6bd6f37948a7",
        "deepnote_cell_type": "code"
      },
      "source": "",
      "execution_count": null,
      "outputs": []
    },
    {
      "cell_type": "markdown",
      "source": "#### 17. What is the result of the following expression? (★☆☆)",
      "metadata": {
        "cell_id": "00033-73f16828-fb52-4aa1-ae5b-d7408eb283e3",
        "deepnote_cell_type": "markdown"
      }
    },
    {
      "cell_type": "markdown",
      "source": "```python\n0 * np.nan\nnp.nan == np.nan\nnp.inf > np.nan\nnp.nan - np.nan\nnp.nan in set([np.nan])\n0.3 == 3 * 0.1\n```",
      "metadata": {
        "cell_id": "00034-6853c1e8-2bf2-42b3-b8f6-ac569a72c0ea",
        "deepnote_cell_type": "markdown"
      }
    },
    {
      "cell_type": "code",
      "metadata": {
        "cell_id": "00035-2c8d9de9-1fe8-4923-bcd3-7c7d950d1601",
        "deepnote_cell_type": "code"
      },
      "source": "",
      "execution_count": null,
      "outputs": []
    },
    {
      "cell_type": "markdown",
      "source": "#### 18. Create a 5x5 matrix with values 1,2,3,4 just below the diagonal (★☆☆)",
      "metadata": {
        "cell_id": "00036-a52e475a-d6eb-4710-920b-71c00b27c3a6",
        "deepnote_cell_type": "markdown"
      }
    },
    {
      "cell_type": "code",
      "metadata": {
        "cell_id": "00037-5370fe41-40e1-48ce-96c5-90eaa09bf40a",
        "deepnote_cell_type": "code"
      },
      "source": "",
      "execution_count": null,
      "outputs": []
    },
    {
      "cell_type": "markdown",
      "source": "#### 19. Create a 8x8 matrix and fill it with a checkerboard pattern (★☆☆)",
      "metadata": {
        "cell_id": "00038-7cb92df0-71cf-47a0-a42c-6b767f8ae028",
        "deepnote_cell_type": "markdown"
      }
    },
    {
      "cell_type": "code",
      "metadata": {
        "cell_id": "00039-edd0c5a6-9a52-4ab5-8a84-774ead99bf98",
        "deepnote_cell_type": "code"
      },
      "source": "",
      "execution_count": null,
      "outputs": []
    },
    {
      "cell_type": "markdown",
      "source": "#### 20. Consider a (6,7,8) shape array, what is the index (x,y,z) of the 100th element?",
      "metadata": {
        "cell_id": "00040-75032a37-a1bc-464a-a8d9-36b1097ce8a3",
        "deepnote_cell_type": "markdown"
      }
    },
    {
      "cell_type": "code",
      "metadata": {
        "cell_id": "00041-873ccccc-c989-4ace-b5c0-cccb7a8ecac3",
        "deepnote_cell_type": "code"
      },
      "source": "",
      "execution_count": null,
      "outputs": []
    },
    {
      "cell_type": "markdown",
      "source": "#### 21. Create a checkerboard 8x8 matrix using the tile function (★☆☆)",
      "metadata": {
        "cell_id": "00042-ae0ad6d8-8c70-40cd-b092-9fe77c201763",
        "deepnote_cell_type": "markdown"
      }
    },
    {
      "cell_type": "code",
      "metadata": {
        "cell_id": "00043-bc9726cc-a311-4652-8c6d-217356979986",
        "deepnote_cell_type": "code"
      },
      "source": "",
      "execution_count": null,
      "outputs": []
    },
    {
      "cell_type": "markdown",
      "source": "#### 22. Normalize a 5x5 random matrix (★☆☆)",
      "metadata": {
        "cell_id": "00044-6c354030-32be-4ca7-96d8-26dc799d3376",
        "deepnote_cell_type": "markdown"
      }
    },
    {
      "cell_type": "code",
      "metadata": {
        "cell_id": "00045-96bc7a07-f0f4-4072-ae3b-6d3f3af7a123",
        "deepnote_cell_type": "code"
      },
      "source": "",
      "execution_count": null,
      "outputs": []
    },
    {
      "cell_type": "markdown",
      "source": "#### 23. Create a custom dtype that describes a color as four unsigned bytes (RGBA) (★☆☆)",
      "metadata": {
        "cell_id": "00046-1034011f-ff68-41ae-bea7-d62d6558c0ad",
        "deepnote_cell_type": "markdown"
      }
    },
    {
      "cell_type": "code",
      "metadata": {
        "collapsed": true,
        "cell_id": "00047-099b5782-ce6c-4a04-8def-61469f6862b4",
        "deepnote_cell_type": "code"
      },
      "source": "",
      "execution_count": null,
      "outputs": []
    },
    {
      "cell_type": "markdown",
      "source": "#### 24. Multiply a 5x3 matrix by a 3x2 matrix (real matrix product) (★☆☆)",
      "metadata": {
        "cell_id": "00048-9267dcc0-d008-4a80-87c7-04ecf237d0ff",
        "deepnote_cell_type": "markdown"
      }
    },
    {
      "cell_type": "code",
      "metadata": {
        "cell_id": "00049-fdc807c5-efb9-4efd-8e0a-ce85f598d2cd",
        "deepnote_cell_type": "code"
      },
      "source": "",
      "execution_count": null,
      "outputs": []
    },
    {
      "cell_type": "markdown",
      "source": "#### 25. Given a 1D array, negate all elements which are between 3 and 8, in place. (★☆☆)",
      "metadata": {
        "cell_id": "00050-96f6a2e0-562a-49ed-b7a6-7e3033ecdbf9",
        "deepnote_cell_type": "markdown"
      }
    },
    {
      "cell_type": "code",
      "metadata": {
        "cell_id": "00051-eb9447ee-91f1-4ca6-8568-f52a67eb436e",
        "deepnote_cell_type": "code"
      },
      "source": "",
      "execution_count": null,
      "outputs": []
    },
    {
      "cell_type": "markdown",
      "source": "#### 26. What is the output of the following script? (★☆☆)",
      "metadata": {
        "cell_id": "00052-1aca0179-cc25-4eef-a9af-86cb86f03f7a",
        "deepnote_cell_type": "markdown"
      }
    },
    {
      "cell_type": "markdown",
      "source": "```python\n# Author: Jake VanderPlas\n\nprint(sum(range(5),-1))\nfrom numpy import *\nprint(sum(range(5),-1))\n```",
      "metadata": {
        "cell_id": "00053-b474856b-fc58-4b82-8248-1c0546a4161a",
        "deepnote_cell_type": "markdown"
      }
    },
    {
      "cell_type": "code",
      "metadata": {
        "cell_id": "00054-5ac11c77-4d99-48df-99ca-f3b729c93c05",
        "deepnote_cell_type": "code"
      },
      "source": "",
      "execution_count": null,
      "outputs": []
    },
    {
      "cell_type": "markdown",
      "source": "#### 27. Consider an integer vector Z, which of these expressions are legal? (★☆☆)",
      "metadata": {
        "cell_id": "00055-916e00c8-1ccc-4a1f-b351-627dadfa488c",
        "deepnote_cell_type": "markdown"
      }
    },
    {
      "cell_type": "markdown",
      "source": "```python\nZ**Z\n2 << Z >> 2\nZ <- Z\n1j*Z\nZ/1/1\nZ<Z>Z\n```",
      "metadata": {
        "cell_id": "00056-403c85ad-2f55-4c36-8aa9-d905b7962c85",
        "deepnote_cell_type": "markdown"
      }
    },
    {
      "cell_type": "code",
      "metadata": {
        "cell_id": "00057-5291608c-71da-4838-9a63-7026bcd714ec",
        "deepnote_cell_type": "code"
      },
      "source": "",
      "execution_count": null,
      "outputs": []
    },
    {
      "cell_type": "markdown",
      "source": "#### 28. What are the result of the following expressions?",
      "metadata": {
        "cell_id": "00058-48f528f9-d230-4f44-909c-eb0b49cf6e06",
        "deepnote_cell_type": "markdown"
      }
    },
    {
      "cell_type": "markdown",
      "source": "```python\nnp.array(0) / np.array(0)\nnp.array(0) // np.array(0)\nnp.array([np.nan]).astype(int).astype(float)\n```",
      "metadata": {
        "cell_id": "00059-00937eb6-4256-4030-8f98-5ccbfe86ae84",
        "deepnote_cell_type": "markdown"
      }
    },
    {
      "cell_type": "code",
      "metadata": {
        "cell_id": "00060-c1dde11e-2a82-4b17-9f42-4e4d4c2a52a8",
        "deepnote_cell_type": "code"
      },
      "source": "",
      "execution_count": null,
      "outputs": []
    },
    {
      "cell_type": "markdown",
      "source": "#### 29. How to round away from zero a float array ? (★☆☆)",
      "metadata": {
        "cell_id": "00061-833cc832-c845-4fb8-af4b-8f1b7458e745",
        "deepnote_cell_type": "markdown"
      }
    },
    {
      "cell_type": "code",
      "metadata": {
        "cell_id": "00062-01a65683-7096-410c-b33d-1258df751e90",
        "deepnote_cell_type": "code"
      },
      "source": "",
      "execution_count": null,
      "outputs": []
    },
    {
      "cell_type": "markdown",
      "source": "#### 30. How to find common values between two arrays? (★☆☆)",
      "metadata": {
        "cell_id": "00063-8911d345-e754-464d-b07d-157b371929f9",
        "deepnote_cell_type": "markdown"
      }
    },
    {
      "cell_type": "code",
      "metadata": {
        "cell_id": "00064-9e501b39-2a16-442d-9ef4-06fac5fe8350",
        "deepnote_cell_type": "code"
      },
      "source": "",
      "execution_count": null,
      "outputs": []
    },
    {
      "cell_type": "markdown",
      "source": "#### 31. How to ignore all numpy warnings (not recommended)? (★☆☆)",
      "metadata": {
        "cell_id": "00065-2c61fdf8-8592-47a2-aea4-ae5a9b315fd2",
        "deepnote_cell_type": "markdown"
      }
    },
    {
      "cell_type": "code",
      "metadata": {
        "cell_id": "00066-7f779fcc-df1b-4c1f-9273-891d15008d83",
        "deepnote_cell_type": "code"
      },
      "source": "",
      "execution_count": null,
      "outputs": []
    },
    {
      "cell_type": "markdown",
      "source": "#### 32. Is the following expressions true? (★☆☆)",
      "metadata": {
        "cell_id": "00067-d72b83bb-3482-45bb-b589-8378130aa288",
        "deepnote_cell_type": "markdown"
      }
    },
    {
      "cell_type": "markdown",
      "source": "```python\nnp.sqrt(-1) == np.emath.sqrt(-1)\n```",
      "metadata": {
        "cell_id": "00068-2f590b84-a19c-458f-814f-7624137ff9b9",
        "deepnote_cell_type": "markdown"
      }
    },
    {
      "cell_type": "code",
      "metadata": {
        "cell_id": "00069-af9a3ba5-6a19-45b6-a9d4-a1c50b6d7030",
        "deepnote_cell_type": "code"
      },
      "source": "",
      "execution_count": null,
      "outputs": []
    },
    {
      "cell_type": "markdown",
      "source": "#### 33. How to get the dates of yesterday, today and tomorrow? (★☆☆)",
      "metadata": {
        "cell_id": "00070-97b76075-e22d-4f24-b155-318291363d0f",
        "deepnote_cell_type": "markdown"
      }
    },
    {
      "cell_type": "code",
      "metadata": {
        "collapsed": true,
        "cell_id": "00071-eba0a09d-fb8c-46da-8b9f-8f80e8efa301",
        "deepnote_cell_type": "code"
      },
      "source": "",
      "execution_count": null,
      "outputs": []
    },
    {
      "cell_type": "markdown",
      "source": "#### 34. How to get all the dates corresponding to the month of July 2016? (★★☆)",
      "metadata": {
        "cell_id": "00072-66666cd5-dc74-4faa-9c30-7112bee4c155",
        "deepnote_cell_type": "markdown"
      }
    },
    {
      "cell_type": "code",
      "metadata": {
        "cell_id": "00073-f4cf3419-936a-47b7-80fe-6006d923fc29",
        "deepnote_to_be_reexecuted": false,
        "source_hash": "5ead4d0a",
        "execution_start": 1616409918929,
        "execution_millis": 7,
        "deepnote_cell_type": "code"
      },
      "source": "date=np.arange('2016-06-01', '2016-06-30', dtype='datetime64[D]')\ndate",
      "execution_count": null,
      "outputs": [
        {
          "output_type": "execute_result",
          "execution_count": 11,
          "data": {
            "text/plain": "array(['2016-06-01', '2016-06-02', '2016-06-03', '2016-06-04',\n       '2016-06-05', '2016-06-06', '2016-06-07', '2016-06-08',\n       '2016-06-09', '2016-06-10', '2016-06-11', '2016-06-12',\n       '2016-06-13', '2016-06-14', '2016-06-15', '2016-06-16',\n       '2016-06-17', '2016-06-18', '2016-06-19', '2016-06-20',\n       '2016-06-21', '2016-06-22', '2016-06-23', '2016-06-24',\n       '2016-06-25', '2016-06-26', '2016-06-27', '2016-06-28',\n       '2016-06-29'], dtype='datetime64[D]')"
          },
          "metadata": {}
        }
      ]
    },
    {
      "cell_type": "markdown",
      "source": "#### 35. How to compute ((A+B)\\*(-A/2)) in place (without copy)? (★★☆)",
      "metadata": {
        "cell_id": "00074-21d3ddfa-98d7-4ae4-a86f-bf115c691552",
        "deepnote_cell_type": "markdown"
      }
    },
    {
      "cell_type": "code",
      "metadata": {
        "cell_id": "00075-0de2b524-ab6b-499a-b111-2555ef6dbd6b",
        "deepnote_cell_type": "code"
      },
      "source": "",
      "execution_count": null,
      "outputs": []
    },
    {
      "cell_type": "markdown",
      "source": "#### 36. Extract the integer part of a random array using 5 different methods (★★☆)",
      "metadata": {
        "cell_id": "00076-82ece7ce-8fe5-4914-b4d7-6b8575db4af9",
        "deepnote_cell_type": "markdown"
      }
    },
    {
      "cell_type": "code",
      "metadata": {
        "cell_id": "00077-c8443904-c61a-41d5-9a48-53570dc4708e",
        "deepnote_cell_type": "code"
      },
      "source": "",
      "execution_count": null,
      "outputs": []
    },
    {
      "cell_type": "markdown",
      "source": "#### 37. Create a 5x5 matrix with row values ranging from 0 to 4 (★★☆)",
      "metadata": {
        "cell_id": "00078-f35bb5ce-dcb6-4c90-ba3b-100426394269",
        "deepnote_cell_type": "markdown"
      }
    },
    {
      "cell_type": "code",
      "metadata": {
        "cell_id": "00079-dcda8d7e-6b04-44d7-a08e-9dacbc938f5a",
        "deepnote_cell_type": "code"
      },
      "source": "",
      "execution_count": null,
      "outputs": []
    },
    {
      "cell_type": "markdown",
      "source": "#### 38. Consider a generator function that generates 10 integers and use it to build an array (★☆☆)",
      "metadata": {
        "cell_id": "00080-81507dae-d6e3-475d-967a-a8c8e27d7360",
        "deepnote_cell_type": "markdown"
      }
    },
    {
      "cell_type": "code",
      "metadata": {
        "cell_id": "00081-d8977cf4-7180-497f-af70-a9d734c4f8ab",
        "deepnote_cell_type": "code"
      },
      "source": "",
      "execution_count": null,
      "outputs": []
    },
    {
      "cell_type": "markdown",
      "source": "#### 39. Create a vector of size 10 with values ranging from 0 to 1, both excluded (★★☆)",
      "metadata": {
        "cell_id": "00082-f758a699-ec20-4c42-beac-a25dd9c4b6cc",
        "deepnote_cell_type": "markdown"
      }
    },
    {
      "cell_type": "code",
      "metadata": {
        "cell_id": "00083-f0f4656f-da7b-447d-8b3d-21696d5278c6",
        "deepnote_cell_type": "code"
      },
      "source": "",
      "execution_count": null,
      "outputs": []
    },
    {
      "cell_type": "markdown",
      "source": "#### 40. Create a random vector of size 10 and sort it (★★☆)",
      "metadata": {
        "cell_id": "00084-eff3ba20-d4cb-4394-ac25-f6259e0a7fcf",
        "deepnote_cell_type": "markdown"
      }
    },
    {
      "cell_type": "code",
      "metadata": {
        "cell_id": "00085-0e8e7a65-1134-4552-ac63-65598f3e08ac",
        "deepnote_cell_type": "code"
      },
      "source": "",
      "execution_count": null,
      "outputs": []
    },
    {
      "cell_type": "markdown",
      "source": "#### 41. How to sum a small array faster than np.sum? (★★☆)",
      "metadata": {
        "cell_id": "00086-80f07dd9-c79c-450c-ae37-d508a73e49ed",
        "deepnote_cell_type": "markdown"
      }
    },
    {
      "cell_type": "code",
      "metadata": {
        "cell_id": "00087-4f607f36-1620-46a0-8931-66807bce242e",
        "deepnote_cell_type": "code"
      },
      "source": "",
      "execution_count": null,
      "outputs": []
    },
    {
      "cell_type": "markdown",
      "source": "#### 42. Consider two random array A and B, check if they are equal (★★☆)",
      "metadata": {
        "cell_id": "00088-cbed5d92-7f8b-459e-829d-20a989a5c2cc",
        "deepnote_cell_type": "markdown"
      }
    },
    {
      "cell_type": "code",
      "metadata": {
        "cell_id": "00089-3eb94562-d56a-4d9b-ac64-3d8299bc37f2",
        "deepnote_to_be_reexecuted": false,
        "source_hash": "378440a7",
        "execution_millis": 8,
        "execution_start": 1616409953145,
        "deepnote_cell_type": "code"
      },
      "source": "A=np.random.normal([np.random.uniform(size=5)])\nB=np.random.normal([np.random.uniform(size=5)])\nnp.array_equal(A,B)",
      "execution_count": null,
      "outputs": [
        {
          "output_type": "execute_result",
          "execution_count": 13,
          "data": {
            "text/plain": "False"
          },
          "metadata": {}
        }
      ]
    },
    {
      "cell_type": "markdown",
      "source": "#### 43. Make an array immutable (read-only) (★★☆)",
      "metadata": {
        "cell_id": "00090-576bb928-7843-44a0-b1a7-dcd34d2729b6",
        "deepnote_cell_type": "markdown"
      }
    },
    {
      "cell_type": "code",
      "metadata": {
        "cell_id": "00091-cb881364-4304-4828-a215-06b6819adb13",
        "deepnote_cell_type": "code"
      },
      "source": "",
      "execution_count": null,
      "outputs": []
    },
    {
      "cell_type": "markdown",
      "source": "#### 44. Consider a random 10x2 matrix representing cartesian coordinates, convert them to polar coordinates (★★☆)",
      "metadata": {
        "cell_id": "00092-7df9f529-c772-4c4c-8c9c-0c2d89e519e9",
        "deepnote_cell_type": "markdown"
      }
    },
    {
      "cell_type": "code",
      "metadata": {
        "cell_id": "00093-7d3ecd01-6fd6-4fc0-a7c7-26bcb95de00a",
        "deepnote_cell_type": "code"
      },
      "source": "",
      "execution_count": null,
      "outputs": []
    },
    {
      "cell_type": "markdown",
      "source": "#### 45. Create random vector of size 10 and replace the maximum value by 0 (★★☆)",
      "metadata": {
        "cell_id": "00094-db7b4893-1b1a-408c-b05c-814b3928e275",
        "deepnote_cell_type": "markdown"
      }
    },
    {
      "cell_type": "code",
      "metadata": {
        "cell_id": "00095-59c2c14d-576e-4a36-bb08-dbe8d9285aea",
        "deepnote_cell_type": "code"
      },
      "source": "",
      "execution_count": null,
      "outputs": []
    },
    {
      "cell_type": "markdown",
      "source": "#### 46. Create a structured array with `x` and `y` coordinates covering the \\[0,1\\]x\\[0,1\\] area (★★☆)",
      "metadata": {
        "cell_id": "00096-32e29972-42d8-4b14-a10e-ef5e509828bb",
        "deepnote_cell_type": "markdown"
      }
    },
    {
      "cell_type": "code",
      "metadata": {
        "cell_id": "00097-02a834f3-805d-460b-9c41-57a7508935e0",
        "deepnote_cell_type": "code"
      },
      "source": "",
      "execution_count": null,
      "outputs": []
    },
    {
      "cell_type": "markdown",
      "source": "####  47. Given two arrays, X and Y, construct the Cauchy matrix C (Cij =1/(xi - yj))",
      "metadata": {
        "cell_id": "00098-964827e5-28fb-4114-beab-dd64d2c923c2",
        "deepnote_cell_type": "markdown"
      }
    },
    {
      "cell_type": "code",
      "metadata": {
        "cell_id": "00099-63f37e23-b790-4392-8f06-020bc2370975",
        "deepnote_cell_type": "code"
      },
      "source": "",
      "execution_count": null,
      "outputs": []
    },
    {
      "cell_type": "markdown",
      "source": "#### 48. Print the minimum and maximum representable value for each numpy scalar type (★★☆)",
      "metadata": {
        "cell_id": "00100-85a2c2a8-f1d0-43db-8b02-7d501cd328ba",
        "deepnote_cell_type": "markdown"
      }
    },
    {
      "cell_type": "code",
      "metadata": {
        "cell_id": "00101-44834e8d-138b-4a42-ae8d-01c4a3e36400",
        "deepnote_cell_type": "code"
      },
      "source": "",
      "execution_count": null,
      "outputs": []
    },
    {
      "cell_type": "markdown",
      "source": "#### 49. How to print all the values of an array? (★★☆)",
      "metadata": {
        "cell_id": "00102-446434db-b01d-4664-b95e-75504f7b6843",
        "deepnote_cell_type": "markdown"
      }
    },
    {
      "cell_type": "code",
      "metadata": {
        "cell_id": "00103-01439c5b-26ee-4368-a63b-c3bc999e5055",
        "deepnote_cell_type": "code"
      },
      "source": "",
      "execution_count": null,
      "outputs": []
    },
    {
      "cell_type": "markdown",
      "source": "#### 50. How to find the closest value (to a given scalar) in a vector? (★★☆)",
      "metadata": {
        "cell_id": "00104-ca321a2c-3d36-4e15-9a36-7d02d3ea9779",
        "deepnote_cell_type": "markdown"
      }
    },
    {
      "cell_type": "code",
      "metadata": {
        "cell_id": "00105-4bbabd77-0607-4f26-8199-a3a48a8d1a51",
        "deepnote_cell_type": "code"
      },
      "source": "",
      "execution_count": null,
      "outputs": []
    },
    {
      "cell_type": "markdown",
      "source": "#### 51. Create a structured array representing a position (x,y) and a color (r,g,b) (★★☆)",
      "metadata": {
        "cell_id": "00106-0cb52507-3110-430d-a10c-c5c1b670b87e",
        "deepnote_cell_type": "markdown"
      }
    },
    {
      "cell_type": "code",
      "metadata": {
        "cell_id": "00107-22c6d319-5d6f-423d-a9c8-77ec5b2d02a4",
        "deepnote_cell_type": "code"
      },
      "source": "",
      "execution_count": null,
      "outputs": []
    },
    {
      "cell_type": "markdown",
      "source": "#### 52. Consider a random vector with shape (100,2) representing coordinates, find point by point distances (★★☆)",
      "metadata": {
        "cell_id": "00108-dd9875f7-be12-4c8e-9b6a-8afa044a01ee",
        "deepnote_cell_type": "markdown"
      }
    },
    {
      "cell_type": "code",
      "metadata": {
        "cell_id": "00109-6ee9f378-ebed-4181-98c0-6a8f2d712003",
        "deepnote_cell_type": "code"
      },
      "source": "",
      "execution_count": null,
      "outputs": []
    },
    {
      "cell_type": "markdown",
      "source": "#### 53. How to convert a float (32 bits) array into an integer (32 bits) in place?",
      "metadata": {
        "cell_id": "00110-894b92e5-b83c-4ecd-8218-5a64469e6f58",
        "deepnote_cell_type": "markdown"
      }
    },
    {
      "cell_type": "code",
      "metadata": {
        "cell_id": "00111-0e521bca-7f05-41a7-990a-dc6a09edce7a",
        "deepnote_cell_type": "code"
      },
      "source": "",
      "execution_count": null,
      "outputs": []
    },
    {
      "cell_type": "markdown",
      "source": "#### 54. How to read the following file? (★★☆)",
      "metadata": {
        "cell_id": "00112-69039797-8504-46c7-9542-8f415dbf05a3",
        "deepnote_cell_type": "markdown"
      }
    },
    {
      "cell_type": "markdown",
      "source": "```\n1, 2, 3, 4, 5\n6,  ,  , 7, 8\n ,  , 9,10,11\n```",
      "metadata": {
        "cell_id": "00113-e694b3b1-2cd4-4fee-80ee-488c0d895b5a",
        "deepnote_cell_type": "markdown"
      }
    },
    {
      "cell_type": "code",
      "metadata": {
        "cell_id": "00114-66901b23-359f-4b88-9a8f-cc9d406ade30",
        "deepnote_cell_type": "code"
      },
      "source": "",
      "execution_count": null,
      "outputs": []
    },
    {
      "cell_type": "markdown",
      "source": "#### 55. What is the equivalent of enumerate for numpy arrays? (★★☆)",
      "metadata": {
        "cell_id": "00115-bd510d0a-8972-4d67-b7f9-5f1acf7c9253",
        "deepnote_cell_type": "markdown"
      }
    },
    {
      "cell_type": "code",
      "metadata": {
        "cell_id": "00116-ebd3e212-2618-4169-b85c-09c2501b3b70",
        "deepnote_cell_type": "code"
      },
      "source": "",
      "execution_count": null,
      "outputs": []
    },
    {
      "cell_type": "markdown",
      "source": "#### 56. Generate a generic 2D Gaussian-like array (★★☆)",
      "metadata": {
        "cell_id": "00117-095696bf-81f8-4ff1-b851-17750707a97c",
        "deepnote_cell_type": "markdown"
      }
    },
    {
      "cell_type": "code",
      "metadata": {
        "cell_id": "00118-6c687c42-b809-46bc-90fa-27630a37d593",
        "deepnote_cell_type": "code"
      },
      "source": "",
      "execution_count": null,
      "outputs": []
    },
    {
      "cell_type": "markdown",
      "source": "#### 57. How to randomly place p elements in a 2D array? (★★☆)",
      "metadata": {
        "cell_id": "00119-fc65e28a-7212-4620-883d-dfc3228b234b",
        "deepnote_cell_type": "markdown"
      }
    },
    {
      "cell_type": "code",
      "metadata": {
        "cell_id": "00120-5540f9f1-125f-4c61-8d3d-5c5ced238ac9",
        "deepnote_cell_type": "code"
      },
      "source": "",
      "execution_count": null,
      "outputs": []
    },
    {
      "cell_type": "markdown",
      "source": "#### 58. Subtract the mean of each row of a matrix (★★☆)",
      "metadata": {
        "cell_id": "00121-bb147527-5b8b-4699-a6ec-f7ba59682bfe",
        "deepnote_cell_type": "markdown"
      }
    },
    {
      "cell_type": "code",
      "metadata": {
        "cell_id": "00122-e1d17945-9704-44fd-bbc8-c458b3942f30",
        "deepnote_cell_type": "code"
      },
      "source": "",
      "execution_count": null,
      "outputs": []
    },
    {
      "cell_type": "markdown",
      "source": "#### 59. How to sort an array by the nth column? (★★☆)",
      "metadata": {
        "cell_id": "00123-9c5e39b6-bf33-4968-a3aa-08e44a8fae65",
        "deepnote_cell_type": "markdown"
      }
    },
    {
      "cell_type": "code",
      "metadata": {
        "cell_id": "00124-75a9abfc-4f67-485a-ba80-b746d2831236",
        "deepnote_cell_type": "code"
      },
      "source": "",
      "execution_count": null,
      "outputs": []
    },
    {
      "cell_type": "markdown",
      "source": "#### 60. How to tell if a given 2D array has null columns? (★★☆)",
      "metadata": {
        "cell_id": "00125-a2a98bbf-f7c2-4f62-99f3-73ef7dd4176f",
        "deepnote_cell_type": "markdown"
      }
    },
    {
      "cell_type": "code",
      "metadata": {
        "cell_id": "00126-a0ef6810-04bc-483d-806d-16c9a814142a",
        "deepnote_cell_type": "code"
      },
      "source": "",
      "execution_count": null,
      "outputs": []
    },
    {
      "cell_type": "markdown",
      "source": "#### 61. Find the nearest value from a given value in an array (★★☆)",
      "metadata": {
        "cell_id": "00127-93cb5326-b80e-47ec-9290-9889b854a41e",
        "deepnote_cell_type": "markdown"
      }
    },
    {
      "cell_type": "code",
      "metadata": {
        "cell_id": "00128-13e2280e-0d4b-4101-a1cc-d8093d234eee",
        "deepnote_cell_type": "code"
      },
      "source": "",
      "execution_count": null,
      "outputs": []
    },
    {
      "cell_type": "markdown",
      "source": "#### 62. Considering two arrays with shape (1,3) and (3,1), how to compute their sum using an iterator? (★★☆)",
      "metadata": {
        "cell_id": "00129-ed6fb4a2-40e5-40a7-b392-d81d1959ef7c",
        "deepnote_cell_type": "markdown"
      }
    },
    {
      "cell_type": "code",
      "metadata": {
        "cell_id": "00130-aca8529e-198a-4c44-bafe-55914e5c6764",
        "deepnote_cell_type": "code"
      },
      "source": "",
      "execution_count": null,
      "outputs": []
    },
    {
      "cell_type": "markdown",
      "source": "#### 63. Create an array class that has a name attribute (★★☆)",
      "metadata": {
        "cell_id": "00131-1d612641-ef25-46b9-8872-f57303a8c621",
        "deepnote_cell_type": "markdown"
      }
    },
    {
      "cell_type": "code",
      "metadata": {
        "cell_id": "00132-9fe27b0f-bdf9-4349-a8ce-c4f18826fa80",
        "deepnote_cell_type": "code"
      },
      "source": "",
      "execution_count": null,
      "outputs": []
    },
    {
      "cell_type": "markdown",
      "source": "#### 64. Consider a given vector, how to add 1 to each element indexed by a second vector (be careful with repeated indices)? (★★★)",
      "metadata": {
        "cell_id": "00133-97ed8805-a5ea-4c18-8a83-196234251dad",
        "deepnote_cell_type": "markdown"
      }
    },
    {
      "cell_type": "code",
      "metadata": {
        "cell_id": "00134-7fa3b4ba-9b8a-4ef9-9607-7019920dcbd8",
        "deepnote_cell_type": "code"
      },
      "source": "",
      "execution_count": null,
      "outputs": []
    },
    {
      "cell_type": "markdown",
      "source": "#### 65. How to accumulate elements of a vector (X) to an array (F) based on an index list (I)? (★★★)",
      "metadata": {
        "cell_id": "00135-64eec2a3-bcf8-453c-87c1-377659dcede0",
        "deepnote_cell_type": "markdown"
      }
    },
    {
      "cell_type": "code",
      "metadata": {
        "cell_id": "00136-ab597810-6b49-45e4-a5d8-c9073219f281",
        "deepnote_cell_type": "code"
      },
      "source": "",
      "execution_count": null,
      "outputs": []
    },
    {
      "cell_type": "markdown",
      "source": "#### 66. Considering a (w,h,3) image of (dtype=ubyte), compute the number of unique colors (★★★)",
      "metadata": {
        "cell_id": "00137-d7a07a78-0a50-4c10-a700-ef58c9d87061",
        "deepnote_cell_type": "markdown"
      }
    },
    {
      "cell_type": "code",
      "metadata": {
        "cell_id": "00138-601d3243-fcf5-453d-a8e4-8a33cf87e1b4",
        "deepnote_cell_type": "code"
      },
      "source": "",
      "execution_count": null,
      "outputs": []
    },
    {
      "cell_type": "markdown",
      "source": "#### 67. Considering a four dimensions array, how to get sum over the last two axis at once? (★★★)",
      "metadata": {
        "cell_id": "00139-88f9f712-5b0a-4540-8803-615cfbe4fb9d",
        "deepnote_cell_type": "markdown"
      }
    },
    {
      "cell_type": "code",
      "metadata": {
        "cell_id": "00140-7a47fc14-cee9-4f06-ab92-03ef115d7864",
        "deepnote_cell_type": "code"
      },
      "source": "",
      "execution_count": null,
      "outputs": []
    },
    {
      "cell_type": "markdown",
      "source": "#### 68. Considering a one-dimensional vector D, how to compute means of subsets of D using a vector S of same size describing subset  indices? (★★★)",
      "metadata": {
        "cell_id": "00141-f1926e51-c896-4f92-a84d-18edb4f7f3b5",
        "deepnote_cell_type": "markdown"
      }
    },
    {
      "cell_type": "code",
      "metadata": {
        "cell_id": "00142-560a0c60-b589-4c93-8861-4a53d71045f9",
        "deepnote_cell_type": "code"
      },
      "source": "",
      "execution_count": null,
      "outputs": []
    },
    {
      "cell_type": "markdown",
      "source": "#### 69. How to get the diagonal of a dot product? (★★★)",
      "metadata": {
        "cell_id": "00143-8daab1a1-da00-4d74-8609-3d8182fae6db",
        "deepnote_cell_type": "markdown"
      }
    },
    {
      "cell_type": "code",
      "metadata": {
        "cell_id": "00144-c646d653-65f6-4dfe-b904-225357b31547",
        "deepnote_cell_type": "code"
      },
      "source": "",
      "execution_count": null,
      "outputs": []
    },
    {
      "cell_type": "markdown",
      "source": "#### 70. Consider the vector \\[1, 2, 3, 4, 5\\], how to build a new vector with 3 consecutive zeros interleaved between each value? (★★★)",
      "metadata": {
        "cell_id": "00145-315a725e-77f7-4bf3-86e4-b74d0e364458",
        "deepnote_cell_type": "markdown"
      }
    },
    {
      "cell_type": "code",
      "metadata": {
        "cell_id": "00146-ade480dd-6fe4-4e04-addf-50d1f9bed64d",
        "deepnote_cell_type": "code"
      },
      "source": "",
      "execution_count": null,
      "outputs": []
    },
    {
      "cell_type": "markdown",
      "source": "#### 71. Consider an array of dimension (5,5,3), how to mulitply it by an array with dimensions (5,5)? (★★★)",
      "metadata": {
        "cell_id": "00147-6061114e-7264-4705-8aea-4bf9d040c044",
        "deepnote_cell_type": "markdown"
      }
    },
    {
      "cell_type": "code",
      "metadata": {
        "collapsed": true,
        "cell_id": "00148-3d2877fa-4a34-4f3a-803c-4f3a60ac074f",
        "deepnote_cell_type": "code"
      },
      "source": "",
      "execution_count": null,
      "outputs": []
    },
    {
      "cell_type": "markdown",
      "source": "#### 72. How to swap two rows of an array? (★★★)",
      "metadata": {
        "cell_id": "00149-85f6ed54-1125-48c2-b3a5-1ed48db20e83",
        "deepnote_cell_type": "markdown"
      }
    },
    {
      "cell_type": "code",
      "metadata": {
        "cell_id": "00150-6436f52c-d8f1-4799-9f58-4dff7ec928a2",
        "deepnote_to_be_reexecuted": false,
        "source_hash": "2b6fde66",
        "execution_millis": 13,
        "execution_start": 1616418603943,
        "deepnote_cell_type": "code"
      },
      "source": "X=np.array(([1,2,3],[4,5,6]))\nX[[0,1]]=X[[1,0]]\nX",
      "execution_count": 3,
      "outputs": [
        {
          "output_type": "execute_result",
          "execution_count": 3,
          "data": {
            "text/plain": "array([[4, 5, 6],\n       [1, 2, 3]])"
          },
          "metadata": {}
        }
      ]
    },
    {
      "cell_type": "markdown",
      "source": "#### 73. Consider a set of 10 triplets describing 10 triangles (with shared vertices), find the set of unique line segments composing all the  triangles (★★★)",
      "metadata": {
        "cell_id": "00151-5f14fbd6-3b89-41e3-a3cb-b314173b41e5",
        "deepnote_cell_type": "markdown"
      }
    },
    {
      "cell_type": "code",
      "metadata": {
        "cell_id": "00152-dc7f90ec-7ad1-4849-8dcd-42d2c697ed25",
        "deepnote_cell_type": "code"
      },
      "source": "",
      "execution_count": null,
      "outputs": []
    },
    {
      "cell_type": "markdown",
      "source": "#### 74. Given an array C that is a bincount, how to produce an array A such that np.bincount(A) == C? (★★★)",
      "metadata": {
        "cell_id": "00153-839defac-5e3c-4cd7-9728-b1a6dbd4c424",
        "deepnote_cell_type": "markdown"
      }
    },
    {
      "cell_type": "code",
      "metadata": {
        "cell_id": "00154-3886f0d6-48c8-4612-a4eb-f8f6416e62f2",
        "deepnote_cell_type": "code"
      },
      "source": "",
      "execution_count": null,
      "outputs": []
    },
    {
      "cell_type": "markdown",
      "source": "#### 75. How to compute averages using a sliding window over an array? (★★★)",
      "metadata": {
        "cell_id": "00155-10f00a87-55bd-4d77-ae54-9a407f997daa",
        "deepnote_cell_type": "markdown"
      }
    },
    {
      "cell_type": "code",
      "metadata": {
        "cell_id": "00156-1b47976c-980a-4b23-a745-899c3623a115",
        "deepnote_to_be_reexecuted": false,
        "source_hash": "5088a7ed",
        "execution_start": 1616418635477,
        "execution_millis": 6,
        "deepnote_cell_type": "code"
      },
      "source": "def computing_average(array):\n    average_array=[]\n    for i in range(len(array)):\n        average_array.append(np.average(array[[i]]))\n    return np.array(average_array)\narray=np.array([[1,2,3],[2,4,6],[3,6,9]])\n\ncomputing_average(array)",
      "execution_count": 4,
      "outputs": [
        {
          "output_type": "execute_result",
          "execution_count": 4,
          "data": {
            "text/plain": "array([2., 4., 6.])"
          },
          "metadata": {}
        }
      ]
    },
    {
      "cell_type": "markdown",
      "source": "#### 76. Consider a one-dimensional array Z, build a two-dimensional array whose first row is (Z\\[0\\],Z\\[1\\],Z\\[2\\]) and each subsequent row is  shifted by 1 (last row should be (Z\\[-3\\],Z\\[-2\\],Z\\[-1\\]) (★★★)",
      "metadata": {
        "cell_id": "00157-f28d4b29-2a09-4ef0-84e9-b751225d2d06",
        "deepnote_cell_type": "markdown"
      }
    },
    {
      "cell_type": "code",
      "metadata": {
        "cell_id": "00158-3e9ed973-425b-44f9-8f63-08259c3f066e",
        "deepnote_cell_type": "code"
      },
      "source": "",
      "execution_count": null,
      "outputs": []
    },
    {
      "cell_type": "markdown",
      "source": "#### 77. How to negate a boolean, or to change the sign of a float inplace? (★★★)",
      "metadata": {
        "cell_id": "00159-f26ff940-6edc-41dd-aaa3-a24b8902faae",
        "deepnote_cell_type": "markdown"
      }
    },
    {
      "cell_type": "code",
      "metadata": {
        "cell_id": "00160-54ec3472-bf28-48ea-828d-633ddeedcc60",
        "deepnote_cell_type": "code"
      },
      "source": "",
      "execution_count": null,
      "outputs": []
    },
    {
      "cell_type": "markdown",
      "source": "#### 78. Consider 2 sets of points P0,P1 describing lines (2d) and a point p, how to compute distance from p to each line i  (P0\\[i\\],P1\\[i\\])? (★★★)",
      "metadata": {
        "cell_id": "00161-bd02592f-9df9-4b64-a8e2-da5aff4f9d32",
        "deepnote_cell_type": "markdown"
      }
    },
    {
      "cell_type": "code",
      "metadata": {
        "cell_id": "00162-ba1da1e1-b9af-4566-a046-225bf72b8a84",
        "deepnote_cell_type": "code"
      },
      "source": "",
      "execution_count": null,
      "outputs": []
    },
    {
      "cell_type": "markdown",
      "source": "#### 79. Consider 2 sets of points P0,P1 describing lines (2d) and a set of points P, how to compute distance from each point j (P\\[j\\]) to each line i (P0\\[i\\],P1\\[i\\])? (★★★)",
      "metadata": {
        "cell_id": "00163-0acbaa69-bc47-4019-9622-b56fee6485a6",
        "deepnote_cell_type": "markdown"
      }
    },
    {
      "cell_type": "code",
      "metadata": {
        "cell_id": "00164-6b6e676e-e09b-44b3-bf3f-ab9d7d570195",
        "deepnote_cell_type": "code"
      },
      "source": "",
      "execution_count": null,
      "outputs": []
    },
    {
      "cell_type": "markdown",
      "source": "#### 80. Consider an arbitrary array, write a function that extract a subpart with a fixed shape and centered on a given element (pad with a `fill` value when necessary) (★★★)",
      "metadata": {
        "cell_id": "00165-d9da2293-a3ea-455b-b46a-c3672b778e46",
        "deepnote_cell_type": "markdown"
      }
    },
    {
      "cell_type": "code",
      "metadata": {
        "cell_id": "00166-97063e64-7a98-45cb-b16b-d2f05110fc27",
        "deepnote_cell_type": "code"
      },
      "source": "",
      "execution_count": null,
      "outputs": []
    },
    {
      "cell_type": "markdown",
      "source": "#### 81. Consider an array Z = \\[1,2,3,4,5,6,7,8,9,10,11,12,13,14\\], how to generate an array R = \\[\\[1,2,3,4\\], \\[2,3,4,5\\], \\[3,4,5,6\\], ..., \\[11,12,13,14\\]\\]? (★★★)",
      "metadata": {
        "cell_id": "00167-fb5b8e77-e1d4-457b-b131-72edde6234a3",
        "deepnote_cell_type": "markdown"
      }
    },
    {
      "cell_type": "code",
      "metadata": {
        "cell_id": "00168-fe0a88ad-e35a-41dd-b543-10a2efff221c",
        "deepnote_cell_type": "code"
      },
      "source": "",
      "execution_count": null,
      "outputs": []
    },
    {
      "cell_type": "markdown",
      "source": "#### 82. Compute a matrix rank (★★★)",
      "metadata": {
        "cell_id": "00169-1eff1f67-203b-4d1c-b188-d286fe408826",
        "deepnote_cell_type": "markdown"
      }
    },
    {
      "cell_type": "code",
      "metadata": {
        "cell_id": "00170-a5a8c462-8d00-40e8-b427-9837762de53d",
        "deepnote_cell_type": "code"
      },
      "source": "",
      "execution_count": null,
      "outputs": []
    },
    {
      "cell_type": "markdown",
      "source": "#### 83. How to find the most frequent value in an array?",
      "metadata": {
        "cell_id": "00171-53b53487-a842-4555-80a7-f1455e276722",
        "deepnote_cell_type": "markdown"
      }
    },
    {
      "cell_type": "code",
      "metadata": {
        "cell_id": "00172-62a1561d-4f5e-48e4-9d37-4153d519ab72",
        "deepnote_cell_type": "code"
      },
      "source": "",
      "execution_count": null,
      "outputs": []
    },
    {
      "cell_type": "markdown",
      "source": "#### 84. Extract all the contiguous 3x3 blocks from a random 10x10 matrix (★★★)",
      "metadata": {
        "cell_id": "00173-0933db4d-377d-45b6-ae78-c456c8713803",
        "deepnote_cell_type": "markdown"
      }
    },
    {
      "cell_type": "code",
      "metadata": {
        "cell_id": "00174-70e45b49-176c-4b21-a481-ad96ede7e266",
        "deepnote_cell_type": "code"
      },
      "source": "",
      "execution_count": null,
      "outputs": []
    },
    {
      "cell_type": "markdown",
      "source": "#### 85. Create a 2D array subclass such that Z\\[i,j\\] == Z\\[j,i\\] (★★★)",
      "metadata": {
        "cell_id": "00175-5d78efab-835b-43b1-99af-2bac925a873a",
        "deepnote_cell_type": "markdown"
      }
    },
    {
      "cell_type": "code",
      "metadata": {
        "cell_id": "00176-a378934c-40c8-4217-aeff-41aa354d21b3",
        "deepnote_cell_type": "code"
      },
      "source": "",
      "execution_count": null,
      "outputs": []
    },
    {
      "cell_type": "markdown",
      "source": "#### 86. Consider a set of p matrices wich shape (n,n) and a set of p vectors with shape (n,1). How to compute the sum of of the p matrix products at once? (result has shape (n,1)) (★★★)",
      "metadata": {
        "cell_id": "00177-c52b192a-b893-4c38-b0ac-a154f8a23921",
        "deepnote_cell_type": "markdown"
      }
    },
    {
      "cell_type": "code",
      "metadata": {
        "cell_id": "00178-d9452cc3-704c-4c69-9ba0-174d48e4d17d",
        "deepnote_cell_type": "code"
      },
      "source": "",
      "execution_count": null,
      "outputs": []
    },
    {
      "cell_type": "markdown",
      "source": "#### 87. Consider a 16x16 array, how to get the block-sum (block size is 4x4)? (★★★)",
      "metadata": {
        "cell_id": "00179-6dcd282a-7340-42e9-9683-ffcad537be0d",
        "deepnote_cell_type": "markdown"
      }
    },
    {
      "cell_type": "code",
      "metadata": {
        "cell_id": "00180-2d16f15a-8439-4b22-a5fb-31df4a63b010",
        "deepnote_cell_type": "code"
      },
      "source": "",
      "execution_count": null,
      "outputs": []
    },
    {
      "cell_type": "markdown",
      "source": "#### 88. How to implement the Game of Life using numpy arrays? (★★★)",
      "metadata": {
        "cell_id": "00181-337af246-ccb3-4dba-9436-0b3a29a1eaed",
        "deepnote_cell_type": "markdown"
      }
    },
    {
      "cell_type": "code",
      "metadata": {
        "cell_id": "00182-07c60b97-f89f-4335-a3cf-03ced597b345",
        "deepnote_cell_type": "code"
      },
      "source": "",
      "execution_count": null,
      "outputs": []
    },
    {
      "cell_type": "markdown",
      "source": "#### 89. How to get the n largest values of an array (★★★)",
      "metadata": {
        "cell_id": "00183-e00c6b08-c330-4f75-b11a-2042975d3278",
        "deepnote_cell_type": "markdown"
      }
    },
    {
      "cell_type": "code",
      "metadata": {
        "cell_id": "00184-78159e33-af3c-4253-990e-e17d14ec2029",
        "deepnote_cell_type": "code"
      },
      "source": "",
      "execution_count": null,
      "outputs": []
    },
    {
      "cell_type": "markdown",
      "source": "#### 90. Given an arbitrary number of vectors, build the cartesian product (every combinations of every item) (★★★)",
      "metadata": {
        "cell_id": "00185-bf41b953-c447-4011-b96b-f16c75eee4aa",
        "deepnote_cell_type": "markdown"
      }
    },
    {
      "cell_type": "code",
      "metadata": {
        "scrolled": true,
        "cell_id": "00186-9c9077fe-121f-4489-a3aa-0915ab497def",
        "deepnote_cell_type": "code"
      },
      "source": "",
      "execution_count": null,
      "outputs": []
    },
    {
      "cell_type": "markdown",
      "source": "#### 91. How to create a record array from a regular array? (★★★)",
      "metadata": {
        "cell_id": "00187-19c8084a-1fd6-413d-a45c-bb368a300574",
        "deepnote_cell_type": "markdown"
      }
    },
    {
      "cell_type": "code",
      "metadata": {
        "cell_id": "00188-6b78d2e5-bd95-42d3-afe1-99677880d1cd",
        "deepnote_cell_type": "code"
      },
      "source": "",
      "execution_count": null,
      "outputs": []
    },
    {
      "cell_type": "markdown",
      "source": "#### 92. Consider a large vector Z, compute Z to the power of 3 using 3 different methods (★★★)",
      "metadata": {
        "cell_id": "00189-7101da45-290a-4ba5-b178-1ead9e893aab",
        "deepnote_cell_type": "markdown"
      }
    },
    {
      "cell_type": "code",
      "metadata": {
        "cell_id": "00190-9a701521-7a46-41e7-9922-59284066bdcf",
        "deepnote_cell_type": "code"
      },
      "source": "",
      "execution_count": null,
      "outputs": []
    },
    {
      "cell_type": "markdown",
      "source": "#### 93. Consider two arrays A and B of shape (8,3) and (2,2). How to find rows of A that contain elements of each row of B regardless of the order of the elements in B? (★★★)",
      "metadata": {
        "cell_id": "00191-aa580248-6cff-479d-98c5-b599635403e4",
        "deepnote_cell_type": "markdown"
      }
    },
    {
      "cell_type": "code",
      "metadata": {
        "cell_id": "00192-160702c6-020e-4892-8233-dcb6b95d73c9",
        "deepnote_cell_type": "code"
      },
      "source": "",
      "execution_count": null,
      "outputs": []
    },
    {
      "cell_type": "markdown",
      "source": "#### 94. Considering a 10x3 matrix, extract rows with unequal values (e.g. \\[2,2,3\\]) (★★★)",
      "metadata": {
        "cell_id": "00193-61801286-a7c3-4d41-95b0-3081a47ac375",
        "deepnote_cell_type": "markdown"
      }
    },
    {
      "cell_type": "code",
      "metadata": {
        "cell_id": "00194-bdf17440-099b-45ff-bbb4-a88793acc33b",
        "deepnote_cell_type": "code"
      },
      "source": "",
      "execution_count": null,
      "outputs": []
    },
    {
      "cell_type": "markdown",
      "source": "#### 95. Convert a vector of ints into a matrix binary representation (★★★)",
      "metadata": {
        "cell_id": "00195-68ab6afd-c9f9-4447-a053-6488fc51e4ec",
        "deepnote_cell_type": "markdown"
      }
    },
    {
      "cell_type": "code",
      "metadata": {
        "cell_id": "00196-899e5832-7747-4180-8c6d-4fd15394b079",
        "deepnote_cell_type": "code"
      },
      "source": "",
      "execution_count": null,
      "outputs": []
    },
    {
      "cell_type": "markdown",
      "source": "#### 96. Given a two dimensional array, how to extract unique rows? (★★★)",
      "metadata": {
        "cell_id": "00197-d650c070-9aeb-4b92-9463-8e4f099e153b",
        "deepnote_cell_type": "markdown"
      }
    },
    {
      "cell_type": "code",
      "metadata": {
        "cell_id": "00198-438034e3-50f5-4a95-8ed2-52a7b58a02bb",
        "deepnote_cell_type": "code"
      },
      "source": "",
      "execution_count": null,
      "outputs": []
    },
    {
      "cell_type": "markdown",
      "source": "#### 97. Considering 2 vectors A & B, write the einsum equivalent of inner, outer, sum, and mul function (★★★)",
      "metadata": {
        "cell_id": "00199-7471eda7-d425-487e-9a3b-6b024a260225",
        "deepnote_cell_type": "markdown"
      }
    },
    {
      "cell_type": "code",
      "metadata": {
        "cell_id": "00200-5ea15d2b-c899-4398-ae8c-8ffc23bf1562",
        "deepnote_cell_type": "code"
      },
      "source": "",
      "execution_count": null,
      "outputs": []
    },
    {
      "cell_type": "markdown",
      "source": "#### 98. Considering a path described by two vectors (X,Y), how to sample it using equidistant samples (★★★)?",
      "metadata": {
        "cell_id": "00201-26918180-5f63-4f35-ae83-551fc7dcc995",
        "deepnote_cell_type": "markdown"
      }
    },
    {
      "cell_type": "code",
      "metadata": {
        "collapsed": true,
        "cell_id": "00202-0bdc23a7-d25c-4865-9a9f-f9d26cddfd83",
        "deepnote_cell_type": "code"
      },
      "source": "",
      "execution_count": null,
      "outputs": []
    },
    {
      "cell_type": "markdown",
      "source": "#### 99. Given an integer n and a 2D array X, select from X the rows which can be interpreted as draws from a multinomial distribution with n degrees, i.e., the rows which only contain integers and which sum to n. (★★★)",
      "metadata": {
        "cell_id": "00203-afd31b5d-965d-43ee-873f-0e24345ff7e9",
        "deepnote_cell_type": "markdown"
      }
    },
    {
      "cell_type": "code",
      "metadata": {
        "cell_id": "00204-29d6e734-6210-486e-88b4-355a85317688",
        "deepnote_cell_type": "code"
      },
      "source": "",
      "execution_count": null,
      "outputs": []
    },
    {
      "cell_type": "markdown",
      "source": "#### 100. Compute bootstrapped 95% confidence intervals for the mean of a 1D array X (i.e., resample the elements of an array with replacement N times, compute the mean of each sample, and then compute percentiles over the means). (★★★)",
      "metadata": {
        "cell_id": "00205-a4b8705f-7fd5-46fb-b191-893549c3c608",
        "deepnote_cell_type": "markdown"
      }
    },
    {
      "cell_type": "code",
      "metadata": {
        "cell_id": "00206-57d467bd-8fda-44a5-a679-731d2227c0ca",
        "deepnote_cell_type": "code"
      },
      "source": "",
      "execution_count": null,
      "outputs": []
    },
    {
      "cell_type": "markdown",
      "source": "<a style='text-decoration:none;line-height:16px;display:flex;color:#5B5B62;padding:10px;justify-content:end;' href='https://deepnote.com?utm_source=created-in-deepnote-cell&projectId=79673256-d468-4dc3-bcd4-af2c4cf3525d' target=\"_blank\">\n<img style='display:inline;max-height:16px;margin:0px;margin-right:7.5px;' src='data:image/svg+xml;base64,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' > </img>\nCreated in <span style='font-weight:600;margin-left:4px;'>Deepnote</span></a>",
      "metadata": {
        "tags": [],
        "created_in_deepnote_cell": true,
        "deepnote_cell_type": "markdown"
      }
    }
  ],
  "nbformat": 4,
  "nbformat_minor": 1,
  "metadata": {
    "kernelspec": {
      "display_name": "Python 3",
      "language": "python",
      "name": "python3"
    },
    "language_info": {
      "codemirror_mode": {
        "name": "ipython",
        "version": 3
      },
      "file_extension": ".py",
      "mimetype": "text/x-python",
      "name": "python",
      "nbconvert_exporter": "python",
      "pygments_lexer": "ipython3",
      "version": "3.9.1"
    },
    "deepnote_notebook_id": "b9dceec6-8640-4ced-a64d-82f09fcf64e2",
    "deepnote": {},
    "deepnote_execution_queue": []
  }
}