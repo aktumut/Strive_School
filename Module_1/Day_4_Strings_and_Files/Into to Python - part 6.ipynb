{
  "cells": [
    {
      "cell_type": "markdown",
      "source": "# Intro to Python - Exercises - Part 6",
      "metadata": {
        "cell_id": "00000-f9376b07-bd2c-476e-856b-1f4a880705b2",
        "deepnote_cell_type": "markdown"
      }
    },
    {
      "cell_type": "markdown",
      "source": "## 6. Strings",
      "metadata": {
        "cell_id": "00001-474b9644-2406-49ab-8127-c0412a3af561",
        "deepnote_cell_type": "markdown"
      }
    },
    {
      "cell_type": "markdown",
      "source": "Until now, most examples and exercises have been using numbers. In daily life, it is far more commonplace to deal with textual information. So are you ever going to learn how to deal with texts?\n\nThe reason that dealing with texts was postponed until this point, is that dealing with numbers is simply easier than dealing with texts. But in the present section, the first steps are taken to learn to manipulate textual information.\n\nTexts, in programming languages, are dealt with in the form of strings. This section is on the details of strings, and on readily-available functions to juggle them.",
      "metadata": {
        "cell_id": "00002-1444f320-9a7a-49b0-bc94-5d48433f2e36",
        "deepnote_cell_type": "markdown"
      }
    },
    {
      "cell_type": "markdown",
      "source": "### Multi-line strings",
      "metadata": {
        "cell_id": "00003-259cdb38-a158-4f6e-8ad1-b9fa9eabd383",
        "deepnote_cell_type": "markdown"
      }
    },
    {
      "cell_type": "markdown",
      "source": "Strings in Python may span across multiple lines. This can be useful when you have a very long string, or when you want to format the output of the string in a certain way. Multi-line strings can be achieved in two ways:\n\n1. With single or double quotes, and an indication that the remainder of the string continues on the next line with a backslash.\n2. With triple single or double quotes.\n\nI first demonstrate how this works when you use the regular string enclosure with one double or single quote at each end of the string:",
      "metadata": {
        "cell_id": "00004-770cd52d-128e-417f-b4a2-6dfacf91f187",
        "deepnote_cell_type": "markdown"
      }
    },
    {
      "cell_type": "code",
      "metadata": {
        "cell_id": "00005-5da86198-a64f-43fc-8b0d-46b629622d5b",
        "deepnote_to_be_reexecuted": false,
        "source_hash": "96dd4f07",
        "execution_start": 1616065628315,
        "execution_millis": 0,
        "deepnote_cell_type": "code"
      },
      "source": "longString = \"I'm fed up with being treated like sheep. \\\nWhat's the point of going abroad if you're just another \\\ntourist carted around in buses surrounded by sweaty \\\nmindless oafs from Kettering and Coventry in their \\\ncloth caps and their cardigans and their transistor \\\nradios and their Sunday Mirrors, complaining about \\\nthe tea - 'Oh they don't make it properly here, do they, \\\nnot like at home' - and stopping at Majorcan bodegas \\\nselling fish and chips and Watney's Red Barrel and \\\ncalamaris and two veg and sitting in their cotton frocks \\\nsquirting Timothy White's suncream all over their puffy \\\nraw swollen purulent flesh 'cos they 'overdid it on the first day.\"\nprint(longString)",
      "execution_count": 1,
      "outputs": [
        {
          "name": "stdout",
          "text": "I'm fed up with being treated like sheep. What's the point of going abroad if you're just another tourist carted around in buses surrounded by sweaty mindless oafs from Kettering and Coventry in their cloth caps and their cardigans and their transistor radios and their Sunday Mirrors, complaining about the tea - 'Oh they don't make it properly here, do they, not like at home' - and stopping at Majorcan bodegas selling fish and chips and Watney's Red Barrel and calamaris and two veg and sitting in their cotton frocks squirting Timothy White's suncream all over their puffy raw swollen purulent flesh 'cos they 'overdid it on the first day.\n",
          "output_type": "stream"
        }
      ]
    },
    {
      "cell_type": "markdown",
      "source": "As you can see, Python now interprets this example as a single line of text. The backslash (`\\`) can actually be included after any Python statement to indicate that it continues on the next line, and it can be quite useful for that, for instance when you write long calculations.\n\nThe recommended way to write multi-line strings in Python is, however, to use triple double or single quotes. I indicated earlier that you can use those to write multi-line comments. Such comments are basically large strings in the middle of your Python program, which do nothing as they are not assigned to a variable.\n\nHere is an example of a long string with triple double quotes:",
      "metadata": {
        "cell_id": "00006-74284b39-c27a-4c20-ba05-7e2c3fc274dc",
        "deepnote_cell_type": "markdown"
      }
    },
    {
      "cell_type": "code",
      "metadata": {
        "cell_id": "00007-b7d1f93c-e9b2-43fe-b72a-af3a06fd9fb6",
        "deepnote_to_be_reexecuted": false,
        "source_hash": "8c212e07",
        "execution_start": 1616065682975,
        "execution_millis": 5,
        "deepnote_cell_type": "code"
      },
      "source": "longString = \"\"\"And being herded into endless Hotel Miramars and Bellevueses \nand Continentales with their modern international luxury \nroomettes and draught Red Barrel and swimming pools full \nof fat German businessmen pretending they're acrobats forming \npyramids and frightening the children and barging into queues \nand if you're not at your table spot on seven you miss the \nbowl of Campbell's Cream of Mushroom soup, the first item on \nthe menu of International Cuisine, and every Thursday night \nthe hotel has a bloody cabaret in the bar, featuring a tiny \nemaciated dago with nine-inch hips and some bloated fat tart \nwith her hair brylcreemed down and a big arse presenting \nFlamenco for Foreigners.\"\"\"\nprint(longString)",
      "execution_count": 2,
      "outputs": [
        {
          "name": "stdout",
          "text": "And being herded into endless Hotel Miramars and Bellevueses \nand Continentales with their modern international luxury \nroomettes and draught Red Barrel and swimming pools full \nof fat German businessmen pretending they're acrobats forming \npyramids and frightening the children and barging into queues \nand if you're not at your table spot on seven you miss the \nbowl of Campbell's Cream of Mushroom soup, the first item on \nthe menu of International Cuisine, and every Thursday night \nthe hotel has a bloody cabaret in the bar, featuring a tiny \nemaciated dago with nine-inch hips and some bloated fat tart \nwith her hair brylcreemed down and a big arse presenting \nFlamenco for Foreigners.\n",
          "output_type": "stream"
        }
      ]
    },
    {
      "cell_type": "markdown",
      "source": "The interesting difference between these two examples is that in the first example, the string was interpreted as one long, continuous series of characters, while in the second example the different lines are all printed on different lines on the output. The reason that this happens is that there is an invisible character included at the end of each line in the second example that indicates that Python should move to the next line before continuing. This is the so-called \"newline\" character, and you can actually insert it explicitly into a string, using the code \"`\\n`\". So this code should not be read as two characters, the backslash and the \"n\", but as a single newline character. By using it, you can ensure that you print the output on multiple lines, even if you use the backslash to indicate the continuation of the string, as was done in the first example. For example:",
      "metadata": {
        "cell_id": "00008-7a27a76c-1e06-469c-9404-5eab88362a48",
        "deepnote_cell_type": "markdown"
      }
    },
    {
      "cell_type": "code",
      "metadata": {
        "cell_id": "00009-4e3c608b-e14a-4a34-8666-08107e7ab33c",
        "deepnote_to_be_reexecuted": false,
        "source_hash": "e3c5313f",
        "execution_start": 1616065729555,
        "execution_millis": 0,
        "deepnote_cell_type": "code"
      },
      "source": "longstring = \"And then some adenoidal typists from Birmingham with flabby\\n\\\nwhite legs and diarrhoea trying to pick up hairy bandy-legged\\n\\\nwop waiters called Manuel and once a week there's an excursion\\n\\\nto the local Roman Ruins to buy cherryade and melted ice cream\\n\\\nand bleeding Watney's Red Barrel and one evening you visit the\\n\\\nso called typical restaurant with local colour and atmosphere\\n\\\nand you sit next to a party from Rhyl who keep singing\\n\\\n'Torremolinos, torremolinos' and complaining about the food -\\n\\\n'It's so greasy here, isn't it?' - and you get cornered by some\\n\\\ndrunken greengrocer from Luton with an Instamatic camera and\\n\\\nDr. Scholl sandals and last Tuesday's Daily Express and he\\n\\\ndrones on and on and on about how Mr. Smith should be running\\n\\\nthis country and how many languages Enoch Powell can speak and\\n\\\nthen he throws up over the Cuba Libres.\"\nprint(longstring)",
      "execution_count": 3,
      "outputs": [
        {
          "name": "stdout",
          "text": "And then some adenoidal typists from Birmingham with flabby\nwhite legs and diarrhoea trying to pick up hairy bandy-legged\nwop waiters called Manuel and once a week there's an excursion\nto the local Roman Ruins to buy cherryade and melted ice cream\nand bleeding Watney's Red Barrel and one evening you visit the\nso called typical restaurant with local colour and atmosphere\nand you sit next to a party from Rhyl who keep singing\n'Torremolinos, torremolinos' and complaining about the food -\n'It's so greasy here, isn't it?' - and you get cornered by some\ndrunken greengrocer from Luton with an Instamatic camera and\nDr. Scholl sandals and last Tuesday's Daily Express and he\ndrones on and on and on about how Mr. Smith should be running\nthis country and how many languages Enoch Powell can speak and\nthen he throws up over the Cuba Libres.\n",
          "output_type": "stream"
        }
      ]
    },
    {
      "cell_type": "markdown",
      "source": "This means that if you do not want automatic newline characters inserted into a multi-line string, you have to use the first approach, with the backslash at the end of the line. If you are okay with newline characters in your multi-line string, the second approach is probably the easiest to read.",
      "metadata": {
        "cell_id": "00010-67829122-ded1-4c8c-8dd8-28d1b87781a7",
        "deepnote_cell_type": "markdown"
      }
    },
    {
      "cell_type": "markdown",
      "source": "### Escape sequences",
      "metadata": {
        "cell_id": "00011-732bf7db-608d-4b98-8a52-a73042ceccd1",
        "deepnote_cell_type": "markdown"
      }
    },
    {
      "cell_type": "markdown",
      "source": "\"`\\n`\" is a so-called \"escape sequence\". An escape sequence is a string character written as a backslash followed by a code, which can be one or multiple characters. Python interprets escape sequences in a string as a special character; a control character.",
      "metadata": {
        "cell_id": "00012-d7b5f0cc-50a7-4c88-abe3-990b9a4d0e5e",
        "deepnote_cell_type": "markdown"
      }
    },
    {
      "cell_type": "code",
      "metadata": {
        "cell_id": "00013-a50f0d9a-40f7-4935-bd4f-53ed0d76158f",
        "deepnote_to_be_reexecuted": false,
        "source_hash": "e5bebff4",
        "execution_start": 1616065751878,
        "execution_millis": 23,
        "deepnote_cell_type": "code"
      },
      "source": "word1 = \"orange\"\nword2 = \"banana\"\n\ndef add_newline_between_words(word1,word2):\n    new_line = word1 + \"\\n\" + word2\n    return(new_line)\n    \nprint(add_newline_between_words(word1,word2))",
      "execution_count": 4,
      "outputs": [
        {
          "name": "stdout",
          "text": "orange\nbanana\n",
          "output_type": "stream"
        }
      ]
    },
    {
      "cell_type": "markdown",
      "source": "Besides the newline character there are more special characters \"`\\'`\" and \"`\\\"`\", which can be used to place a single respectively double quote in a string, regardless of what characters surround the string. I also mentioned that you can use \"`\\\\`\" to insert a \"real\" backslash in a string. \n\nThere are a few more \"backslash sequences\" which lead to a special character. Most of these are archaic and you do not need to worry about them. The one I want to mention are \"`\\t`\" which represents a single tabulation (also known as the 'tab').",
      "metadata": {
        "cell_id": "00014-837b2e20-94d6-4d0e-a398-928a1e9dc040",
        "deepnote_cell_type": "markdown"
      }
    },
    {
      "cell_type": "code",
      "metadata": {
        "cell_id": "00015-c4e01598-be93-4869-ba85-de27ff0c3530",
        "deepnote_to_be_reexecuted": false,
        "source_hash": "2968eb9e",
        "execution_start": 1616065807267,
        "deepnote_cell_type": "code"
      },
      "source": "d = \"test\"\nm = \"me\" \n\ndef place_word_between_single_quotes(w1):\n    new_line = '\\'' + word1 + \"\\'\"\n    return(new_line)\nprint(place_word_between_single_quotes(m))\n\n\ndef place_word_between_double_quotes(w1):\n    new_line = '\\t' + word1 + '\"'\n    return(new_line)\nprint(place_word_between_double_quotes(d))",
      "execution_count": 5,
      "outputs": [
        {
          "name": "stdout",
          "text": "'orange'\n\torange\"\n",
          "output_type": "stream"
        }
      ]
    },
    {
      "cell_type": "markdown",
      "source": "Extra information for students who want to know more, but not necessary for this course:\n\nThere is another character \"`\\xnn`\" whereby `nn` stands for two hexadecimal digits, which represents the character with hexadecimal number `nn`. For example, \"`\\x20`\" is the character expressed by the hexadecimal number `20`, which is the same as the decimal number `32`, which is the space (this will be explained later in this chapter).\n\nIn case you never learned about hexadecimal counting: hexadecimals use a numbering scheme that uses 16 different digits. We use ten (`0` to `9`), binary uses two (`0` to `1`), and hexidecimal then uses `0` to `9` and then continues from `A` to `F`. A direct translation from hexadecimals to decimals turns `A` into `10`, `B` into `11`, etcetera. In decimal counting, the value of a multi-digit number is found by multiplying the digits by increasing powers of `10`, from right to left, e.g., the number `1426` is `6 + 2*10 + 4*100 + 1*1000`. For hexadecimal numbers you do the same thing, but multiply by powers of `16`, e.g., the hexadecimal number `4AF2` is `2 + 15*16 + 10*256 + 4*4096`. Programmers tend to like hexadecimal numbers, as computers work with bytes as the smallest unit of memory storage, and a byte can store 256 different values, i.e., any byte value can be expressed by a hexadecimal number of two digits. ",
      "metadata": {
        "cell_id": "00016-092bd7ae-ee77-4219-ab9f-c77f2e4e2dc9",
        "deepnote_cell_type": "markdown"
      }
    },
    {
      "cell_type": "markdown",
      "source": "### Accessing characters of a string",
      "metadata": {
        "cell_id": "00017-fd5241bd-0742-424f-9d50-4888ece86dc7",
        "deepnote_cell_type": "markdown"
      }
    },
    {
      "cell_type": "markdown",
      "source": "As I showed several times before, a string is a collection of characters in a specific order. You can access the individual characters of a string using indices.",
      "metadata": {
        "cell_id": "00018-91ca8178-f50d-480b-98a0-5576929960e2",
        "deepnote_cell_type": "markdown"
      }
    },
    {
      "cell_type": "markdown",
      "source": "### String indices",
      "metadata": {
        "cell_id": "00019-5d58f1fa-1ddf-4a1c-8f8c-3d5ce93b3f1d",
        "deepnote_cell_type": "markdown"
      }
    },
    {
      "cell_type": "markdown",
      "source": "Each symbol in a string has a position, this position can be referred to by the index number of the position. The index numbers start at 0 and then increase to the length of the string. The following table shows the word \"orange\" in the first row and the indices for each letter in the second and third rows:\n\n&nbsp;&nbsp;__`  o  r  a  n  g  e`__<br>\n&nbsp;&nbsp;`  0  1  2  3  4  5`<br>\n` -6 -5 -4 -3 -2 -1`\n\nAs you can see, you can use positive indices, which start at the first letter of the string and increase until the end of the string is reached, or negative indices, which start with -1 for the last letter of the string and decrease until the first letter of the string is reached.\n\nAs the length of a string `s` is `len(s)`, the last letter of the string has index `len(s)-1`. With negative indices, the first letter of the string has index `-len(s)`.\n\nIf a string is stored in a variable, the individual letters of the string can be accessed by the variable name and the index of the requested letter between square brackets (`[]`) next to it.",
      "metadata": {
        "cell_id": "00020-bc1b489a-4829-4f7e-beaf-8ad174b901f2",
        "deepnote_cell_type": "markdown"
      }
    },
    {
      "cell_type": "code",
      "metadata": {
        "cell_id": "00021-39a20428-35ed-4d6c-96a3-9e8d47a93fe9",
        "deepnote_to_be_reexecuted": false,
        "source_hash": "2d4224e4",
        "execution_start": 1616065860914,
        "execution_millis": 123,
        "deepnote_cell_type": "code"
      },
      "source": "fruit = \"orange\"\n\ndef print_indices(fruit,n):\n    print(fruit[n])\n    \nprint_indices(fruit,1) \nprint_indices(fruit,2) \nprint_indices(fruit,4)\nprint_indices(fruit,-1)\nprint_indices(fruit,-6)\nprint_indices(fruit,-3)",
      "execution_count": 6,
      "outputs": [
        {
          "name": "stdout",
          "text": "r\na\ng\ne\no\nn\n",
          "output_type": "stream"
        }
      ]
    },
    {
      "cell_type": "markdown",
      "source": "Besides using single indices you can also access a substring (also called a \"slice\") from a string by using two numbers between the square brackets with a colon (`:`) in between. The first of these numbers is the index where the substring starts, the second where it ends. The substring does *not* include the letter at the second index. By leaving out the left number you indicate that the substring starts at the beginning of the string (i.e., at index 0). By leaving out the right number you indicate that the substring ranges up to and includes the last character of the string.\n\nIf you try to access a character using an index that is beyond the reaches of a string, you get a runtime error (\"index out of bounds\"). For a range of indices to access substrings such limitations do not exist; you can use numbers that are outside the bounds of the string.",
      "metadata": {
        "cell_id": "00022-4c6dbb53-0686-4f6b-89b9-985034b2ac03",
        "deepnote_cell_type": "markdown"
      }
    },
    {
      "cell_type": "code",
      "metadata": {
        "cell_id": "00023-44912ae3-52e8-4443-a1af-a7b84f09823f",
        "deepnote_to_be_reexecuted": false,
        "source_hash": "a347e5f8",
        "execution_start": 1616065984075,
        "execution_millis": 9,
        "deepnote_cell_type": "code"
      },
      "source": "fruit = \"orange\"\nprint(fruit[:])\nprint(fruit[0:])\nprint(fruit[:5])\nprint(fruit[:100])\nprint(fruit[:len(fruit)])\nprint(fruit[1:-1])\nprint(fruit[2], fruit[1:5])",
      "execution_count": 7,
      "outputs": [
        {
          "name": "stdout",
          "text": "orange\norange\norang\norange\norange\nrang\na rang\n",
          "output_type": "stream"
        }
      ]
    },
    {
      "cell_type": "markdown",
      "source": "### Traversing strings",
      "metadata": {
        "cell_id": "00024-3ccf5157-dc04-4766-97e9-5d86b559d032",
        "deepnote_cell_type": "markdown"
      }
    },
    {
      "cell_type": "markdown",
      "source": "We already saw how you can traverse the characters of a string using a `for` loop:",
      "metadata": {
        "cell_id": "00025-ae48b388-7ea1-4b9b-b441-360084de3db4",
        "deepnote_cell_type": "markdown"
      }
    },
    {
      "cell_type": "code",
      "metadata": {
        "cell_id": "00026-966ee733-6a24-4546-b20e-1b86d19b4762",
        "deepnote_to_be_reexecuted": false,
        "source_hash": "bb76a4c7",
        "execution_start": 1616066037887,
        "execution_millis": 6,
        "deepnote_cell_type": "code"
      },
      "source": "fruit = 'apple'\n\ndef traverse_characters(word):\n    new_word = \"\"\n    for char in word:\n        new_word+=(char + ' - ')\n    return new_word\nprint(traverse_characters(fruit))",
      "execution_count": 8,
      "outputs": [
        {
          "name": "stdout",
          "text": "a - p - p - l - e - \n",
          "output_type": "stream"
        }
      ]
    },
    {
      "cell_type": "markdown",
      "source": "Now you know about indices, you probably realize you can also use those to traverse the characters of a string:",
      "metadata": {
        "cell_id": "00027-22d63e15-c3cc-4a82-94d6-ea3554d50679",
        "deepnote_cell_type": "markdown"
      }
    },
    {
      "cell_type": "code",
      "metadata": {
        "cell_id": "00028-af01f0e3-f63a-4ccc-9f90-67a2ed7ecfdd",
        "deepnote_to_be_reexecuted": false,
        "source_hash": "8f208bda",
        "execution_start": 1616066064727,
        "execution_millis": 0,
        "deepnote_cell_type": "code"
      },
      "source": "fruit = 'apple'\n\ndef traverse_characters2(word):\n    new_word = \"\"\n    for i in range(0, len(word)):\n        new_word += word[i] + \" - \"\n    return new_word       \n    \ndef traverse_characters3(word):                            \n    new_word = \"\"\n    i = 0\n    while i < len(word):\n        new_word += word[i] + \" - \"\n        i += 1\n    return new_word\n\nprint(traverse_characters2(fruit)+\"\\n\"+traverse_characters3(fruit))",
      "execution_count": 9,
      "outputs": [
        {
          "name": "stdout",
          "text": "a - p - p - l - e - \na - p - p - l - e - \n",
          "output_type": "stream"
        }
      ]
    },
    {
      "cell_type": "markdown",
      "source": "If you just want to traverse the individual characters of a string, the first method, using `for <character> in <string>:`, is by far the most elegant and readable. However, occasionally you have to solve problems in which you might prefer one of the other methods.\n\n**Exercise (optional)**: Write code that for a string prints the indices of all of its vowels (`a`, `e`, `i`, `o`, and `u`). This can be done with a `for` loop or a `while` loop.",
      "metadata": {
        "cell_id": "00029-627c7fd8-33a1-4e75-bd46-d8ab986d421d",
        "deepnote_cell_type": "markdown"
      }
    },
    {
      "cell_type": "code",
      "metadata": {
        "cell_id": "00030-59b6e4de-53ea-486e-a90c-4b0ab60f3e88",
        "deepnote_to_be_reexecuted": false,
        "source_hash": "149b695d",
        "execution_millis": 22,
        "execution_start": 1616066795599,
        "deepnote_cell_type": "code"
      },
      "source": "# Indices of vowels\n\ndef index_vowels (text):\n    vovels=[\"a\",\"e\",\"i\",\"o\",\"u\"] # we need to create list for only vovels\n    \n    #we need to create 2 nested loops \n    for i in range(len(text)):\n        for j in range(len(vovels)):\n            if vovels[j]==text[i]:\n\n                print(f\"{vovels[j]}:{i}\")\n    \nindex_vowels(\"apple\")",
      "execution_count": 28,
      "outputs": [
        {
          "name": "stdout",
          "text": "a:0\ne:4\n",
          "output_type": "stream"
        }
      ]
    },
    {
      "cell_type": "markdown",
      "source": "**Exercise (optional)**: Write code that uses two strings. For each character in the first string that has exactly the same character at the same index in the second string, you print the character and the index. Watch out that you do not get an \"index out of bounds\" runtime error.",
      "metadata": {
        "cell_id": "00031-a510ff93-a52e-4f88-a7fb-9c42f18e184e",
        "deepnote_cell_type": "markdown"
      }
    },
    {
      "cell_type": "code",
      "metadata": {
        "cell_id": "00032-57f211ee-72f3-4724-a189-ad83421622a7",
        "deepnote_to_be_reexecuted": false,
        "source_hash": "d6cf07de",
        "execution_millis": 41,
        "execution_start": 1616066731424,
        "deepnote_cell_type": "code"
      },
      "source": "# Your function\ns1 = \"The Holy Grail\"\ns2 = \"Life of Brian\"\n\ndef similar_char(text1, text2):\n    # this if function created for finding the range of loop\n    if len(text1)>len(text2): text_range=len(text2) \n    else: text_range=len(text1)\n    #we just need to use simple for loop \n    for i in range(text_range):\n        if text1[i]==text2[i]:\n            print(f\"{text1[i]} in position {i}\")\n\n\n        \nprint(similar_char(s1, s2))",
      "execution_count": 26,
      "outputs": [
        {
          "name": "stdout",
          "text": "o in position 5\na in position 11\nNone\n",
          "output_type": "stream"
        }
      ]
    },
    {
      "cell_type": "markdown",
      "source": "**Exercise (optional)**: Write a function that takes a string as argument, and creates a new string that is a copy of the argument, except that every non-letter is replaced by a space (e.g., \"`ph@t l00t`\" is changed to \"`ph t l  t`\"). To write such a function, you will start with an empty string, and traverse the characters of the argument one by one. When you encounter a character that is acceptable, you add it to the new string. When it is not acceptable, you add a space to the new string. Note that you can check whether a character is acceptable by simple comparisons, e.g., any lower case letter can be found using the test `if ch >= 'a' and ch <= 'z':`. ",
      "metadata": {
        "cell_id": "00033-773c47e4-0b0b-49e2-94b7-f874dfdeed93",
        "deepnote_cell_type": "markdown"
      }
    },
    {
      "cell_type": "code",
      "metadata": {
        "cell_id": "00034-0dd7544b-1b26-4ed4-b458-efa421a7e419",
        "deepnote_to_be_reexecuted": false,
        "source_hash": "98b122e2",
        "execution_millis": 18,
        "execution_start": 1616068751216,
        "deepnote_cell_type": "code"
      },
      "source": "# String cleaning function\nimport string\ndef clean_string(string):\n    result=\"\" #creating new empty string\n    ascii_lowercase = 'abcdefghijklmnopqrstuvwxyz'\n    ascii_uppercase='ABCDEFGHIJKLMNOPQRSTUVWXYZ'  \n    alphabet=list(ascii_lowercase)+list(ascii_uppercase) #creating a list for alphabet \n    for i in range(len(string)):\n        #for j in range(len(alphabet)):\n        if string[i]<= 'z' and string[i] >= 'a' or ( string[i]<='Z' and string[i]>='A'):\n            result=result+string[i]\n        else:\n            result=result+\" \"\n    print(result)\n    \n\nclean_string(\"Aph@t 100t\")\n\n  ",
      "execution_count": 87,
      "outputs": [
        {
          "name": "stdout",
          "text": "Aph t    t\n",
          "output_type": "stream"
        }
      ]
    },
    {
      "cell_type": "markdown",
      "source": "### Extended slices",
      "metadata": {
        "cell_id": "00035-f4213a9d-6b3a-45b3-858a-89f95a9293f5",
        "deepnote_cell_type": "markdown"
      }
    },
    {
      "cell_type": "markdown",
      "source": "Slices (substrings) in python can take a third argument, which is the step size (or \"stride\") that is taken between indices. It is similar to the third argument for the `range()` function. The format for slices then becomes `<string>[<begin>:<end>:<step>]`. By default the step size is 1.\n\nThe most common use for the step size is to use a negative step size in order to create a reversed version of a string.",
      "metadata": {
        "cell_id": "00036-b9262668-c609-4948-b967-9a473a49cb51",
        "deepnote_cell_type": "markdown"
      }
    },
    {
      "cell_type": "code",
      "metadata": {
        "cell_id": "00037-4b274d19-364f-4411-b121-5cca1c958ec3",
        "deepnote_to_be_reexecuted": false,
        "source_hash": "d589c12d",
        "execution_start": 1616068933134,
        "execution_millis": 142,
        "deepnote_cell_type": "code"
      },
      "source": "fruit = \"banana\"\nprint(fruit[::2])\nprint(fruit[1::2])\nprint(fruit[::-1]) \nprint(fruit[::-2]) ",
      "execution_count": 88,
      "outputs": [
        {
          "name": "stdout",
          "text": "bnn\naaa\nananab\naaa\n",
          "output_type": "stream"
        }
      ]
    },
    {
      "cell_type": "markdown",
      "source": "Reversing a string using `[::-1]` is conceptually similar to traversing the string from the last character to the beginning of the string using backward steps of size 1.",
      "metadata": {
        "cell_id": "00038-77df365a-bdf4-446c-aea8-fdf048950f93",
        "deepnote_cell_type": "markdown"
      }
    },
    {
      "cell_type": "code",
      "metadata": {
        "cell_id": "00039-9fecd285-f993-4085-9a7b-1a3918204eb4",
        "deepnote_to_be_reexecuted": false,
        "source_hash": "fff4dbdf",
        "execution_millis": 9,
        "execution_start": 1616069035423,
        "deepnote_cell_type": "code"
      },
      "source": "fruit = \"banana\"                \nfor i in range(-1,len(fruit)):\n    print(fruit[i])",
      "execution_count": 96,
      "outputs": [
        {
          "name": "stdout",
          "text": "a\nb\na\nn\na\nn\na\n",
          "output_type": "stream"
        }
      ]
    },
    {
      "cell_type": "markdown",
      "source": "### Strings are immutable",
      "metadata": {
        "cell_id": "00040-db72110d-d2ca-4a63-8b7d-2e88e38fc930",
        "deepnote_cell_type": "markdown"
      }
    },
    {
      "cell_type": "markdown",
      "source": "A core property of strings is that they are *immutable*. This means that they cannot be changed. For instance, you cannot change a character of a string by assigning a new value to it. As a demonstration, the following code leads to a runtime error if you try to run it:",
      "metadata": {
        "cell_id": "00041-0bb25dd8-af41-427e-94c9-b7e8ad9194e0",
        "deepnote_cell_type": "markdown"
      }
    },
    {
      "cell_type": "code",
      "metadata": {
        "cell_id": "00042-2cb03cae-e311-44d9-8f4b-319e8941c17d",
        "deepnote_to_be_reexecuted": false,
        "source_hash": "cc64a877",
        "execution_start": 1616069063394,
        "execution_millis": 50,
        "deepnote_cell_type": "code"
      },
      "source": "fruit = \"oringe\"\nfruit[2] = \"a\"\n#print(fruit)",
      "execution_count": 97,
      "outputs": [
        {
          "output_type": "error",
          "ename": "TypeError",
          "evalue": "'str' object does not support item assignment",
          "traceback": [
            "\u001b[0;31m---------------------------------------------------------------------------\u001b[0m",
            "\u001b[0;31mTypeError\u001b[0m                                 Traceback (most recent call last)",
            "\u001b[0;32m<ipython-input-97-8e28ebd4c61e>\u001b[0m in \u001b[0;36m<module>\u001b[0;34m\u001b[0m\n\u001b[1;32m      1\u001b[0m \u001b[0mfruit\u001b[0m \u001b[0;34m=\u001b[0m \u001b[0;34m\"oringe\"\u001b[0m\u001b[0;34m\u001b[0m\u001b[0;34m\u001b[0m\u001b[0m\n\u001b[0;32m----> 2\u001b[0;31m \u001b[0mfruit\u001b[0m\u001b[0;34m[\u001b[0m\u001b[0;36m2\u001b[0m\u001b[0;34m]\u001b[0m \u001b[0;34m=\u001b[0m \u001b[0;34m\"a\"\u001b[0m\u001b[0;34m\u001b[0m\u001b[0;34m\u001b[0m\u001b[0m\n\u001b[0m\u001b[1;32m      3\u001b[0m \u001b[0;31m#print(fruit)\u001b[0m\u001b[0;34m\u001b[0m\u001b[0;34m\u001b[0m\u001b[0;34m\u001b[0m\u001b[0m\n",
            "\u001b[0;31mTypeError\u001b[0m: 'str' object does not support item assignment"
          ]
        }
      ]
    },
    {
      "cell_type": "markdown",
      "source": "If you want to make a change to a string, you have to create a new string that contains the change; you can then assign the new string to the existing variable if you want. For instance:",
      "metadata": {
        "cell_id": "00043-9e9598e5-5782-43cb-96e6-562dbe162c63",
        "deepnote_cell_type": "markdown"
      }
    },
    {
      "cell_type": "code",
      "metadata": {
        "cell_id": "00044-6b7c3ebd-5a14-47a0-b35d-fe9e5df3076f",
        "deepnote_to_be_reexecuted": false,
        "source_hash": "f99ca336",
        "execution_start": 1616069081227,
        "execution_millis": 8,
        "deepnote_cell_type": "code"
      },
      "source": "fruit = \"oringe\"\nfruit = fruit[:2] + \"a\" + fruit[3:]\nprint(fruit)",
      "execution_count": 98,
      "outputs": [
        {
          "name": "stdout",
          "text": "orange\n",
          "output_type": "stream"
        }
      ]
    },
    {
      "cell_type": "markdown",
      "source": "The reasons for why strings are immutable are beyond the scope of this course. Just remember that if you want to modify a string you need to overwrite the entire string, and you cannot modify individual indices.",
      "metadata": {
        "cell_id": "00045-3f0c12ad-29d9-4c63-a681-b2d3f261b7ce",
        "deepnote_cell_type": "markdown"
      }
    },
    {
      "cell_type": "markdown",
      "source": "### `string` methods",
      "metadata": {
        "cell_id": "00046-91718b83-df48-4ebd-8be1-c1d5e9ed02fd",
        "deepnote_cell_type": "markdown"
      }
    },
    {
      "cell_type": "markdown",
      "source": "There is a collection of methods that are designed to operate on strings. All of these methods are applied to a string to perform some operation. Since strings are immutable, they *never change* the string they work on, but they always `return` a changed version of the string.\n\nAll these methods are called as `<string>.<method>()`, i.e., you have to write the string that they work on before the method call, with a period in between. You will encounter this more often, and why this is implemented in this way will be explained later in the course, in the chapters about object orientation.\n\nMost of these methods are not part of a specific module, but can be called without importing them. There is a `string` module that contains specific constants and methods that can be used in your programs, but the methods I discuss here can all be used without importing the `string` module.",
      "metadata": {
        "cell_id": "00047-66480732-c4ac-4d30-9d57-5689ac43aa5f",
        "deepnote_cell_type": "markdown"
      }
    },
    {
      "cell_type": "markdown",
      "source": "### `strip()`",
      "metadata": {
        "cell_id": "00048-1d43a46b-c71d-4caf-8592-e37123ee16fb",
        "deepnote_cell_type": "markdown"
      }
    },
    {
      "cell_type": "markdown",
      "source": "`strip()` removes from a string leading and trailing spaces, including leading and trailing newlines and other characters that may be viewed as spaces. There are no parameters. See the following example (the string is bordered by [ and ] to show the effect):",
      "metadata": {
        "cell_id": "00049-73251f2e-7f6a-4c9b-b94f-c88067ee5be1",
        "deepnote_cell_type": "markdown"
      }
    },
    {
      "cell_type": "code",
      "metadata": {
        "cell_id": "00050-2a514a31-bc52-4e7a-b8f9-ca82faffb429",
        "deepnote_to_be_reexecuted": false,
        "source_hash": "cf87a68e",
        "execution_start": 1616069210399,
        "execution_millis": 8,
        "deepnote_cell_type": "code"
      },
      "source": "s = \"    And now for something completely different\\n     \"\nprint(\"[\"+s+\"]\")\ns = s.strip()\nprint(\"[\"+s+\"]\")",
      "execution_count": 99,
      "outputs": [
        {
          "name": "stdout",
          "text": "[    And now for something completely different\n     ]\n[And now for something completely different]\n",
          "output_type": "stream"
        }
      ]
    },
    {
      "cell_type": "markdown",
      "source": "### `upper()` and `lower()`",
      "metadata": {
        "cell_id": "00051-455185f6-6556-469b-91f0-fff0bfff5fd6",
        "deepnote_cell_type": "markdown"
      }
    },
    {
      "cell_type": "markdown",
      "source": "`upper()` creates a version of a string of which all letters are capitals. `lower()` is equivalent, but uses only lower case letters. Neither method uses parameters.",
      "metadata": {
        "cell_id": "00052-9fc90fcc-2f7f-460d-b63c-4a022497fecf",
        "deepnote_cell_type": "markdown"
      }
    },
    {
      "cell_type": "code",
      "metadata": {
        "cell_id": "00053-8f32f740-a490-4de6-8693-f929ff9fc512",
        "deepnote_cell_type": "code"
      },
      "source": "s = \"The Meaning of Life\"\nprint(s)\nprint(s.upper())\nprint(s.lower())",
      "execution_count": 18,
      "outputs": [
        {
          "name": "stdout",
          "output_type": "stream",
          "text": "The Meaning of Life\nTHE MEANING OF LIFE\nthe meaning of life\n"
        }
      ]
    },
    {
      "cell_type": "markdown",
      "source": "### `find()`",
      "metadata": {
        "cell_id": "00054-98912b61-e470-4bad-8e6c-81a5666cecc8",
        "deepnote_cell_type": "markdown"
      }
    },
    {
      "cell_type": "markdown",
      "source": "`find()` can be used to search in a string for the starting index of a particular substring. As parameters it gets the substring, and optionally a starting index to search from, and an ending index. It returns the lowest index where the substring starts, or `-1` if the substring is not found.",
      "metadata": {
        "cell_id": "00055-b7d571f0-59c0-402b-89e5-807c36b1b5b8",
        "deepnote_cell_type": "markdown"
      }
    },
    {
      "cell_type": "code",
      "metadata": {
        "cell_id": "00056-4d6aa668-589d-4975-84c6-bd2829748902",
        "deepnote_cell_type": "code"
      },
      "source": "s = \"Humpty Dumpty sat on the wall\"\nprint(s.find(\"sat\"))\nprint(s.find(\"t\"))\nprint(s.find(\"t\", 12))\nprint(s.find(\"q\")) # this one is important\n\ns.find(\" \")",
      "execution_count": 19,
      "outputs": [
        {
          "name": "stdout",
          "output_type": "stream",
          "text": "14\n4\n16\n-1\n"
        },
        {
          "data": {
            "text/plain": "6"
          },
          "execution_count": 19,
          "metadata": {},
          "output_type": "execute_result"
        }
      ]
    },
    {
      "cell_type": "markdown",
      "source": "### `replace()`",
      "metadata": {
        "cell_id": "00057-b2de189f-7ea8-43be-86df-6b8cec82465d",
        "deepnote_cell_type": "markdown"
      }
    },
    {
      "cell_type": "markdown",
      "source": "`replace()` replaces all occurrences of a substring with another substring. As parameters it gets the substring to look for, and the substring to replace it with. Optionally, it gets a parameter that indicates the maximum number of replacements to be made. \n\nI must stress again that strings are immutable, so the `replace()` function is not actually changing the string. It returns a new string that is a copy of the string with the replacements made.",
      "metadata": {
        "cell_id": "00058-fe21fa78-a659-4bcf-bca6-722e4e303a64",
        "deepnote_cell_type": "markdown"
      }
    },
    {
      "cell_type": "code",
      "metadata": {
        "cell_id": "00059-070c1743-727e-4d42-aa40-a62587692682",
        "deepnote_cell_type": "code"
      },
      "source": "s = ' Humpty Dumpty sat on the wall '\nnew_s = s.replace('sat on', 'fell off') \n\nprint(new_s)\nprint(s)",
      "execution_count": 20,
      "outputs": [
        {
          "name": "stdout",
          "output_type": "stream",
          "text": " Humpty Dumpty fell off the wall \n Humpty Dumpty sat on the wall \n"
        }
      ]
    },
    {
      "cell_type": "markdown",
      "source": "### `split()`",
      "metadata": {
        "cell_id": "00060-21f2adbf-4ec6-48fd-b124-71d6c12d40c8",
        "deepnote_cell_type": "markdown"
      }
    },
    {
      "cell_type": "markdown",
      "source": "`split()` splits a string up in words, based on a given character or substring which is used as separator. The separator is given as the parameter, and if no separator is given, the white space is used, i.e., you split a string in the actual words (though punctuation attached to words is considered part of the words). If there are multiple occurrences of the separator next to each other, the extra ones are ignored (i.e., with the white space as separator, it does not matter if there is a single white space between two words, or multiple).\n\nThe result of this split is a so-called \"list\" of strings. Lists are discussed in a coming chapter. However, note that if you want to access the separate words, you can use the `for <word> in <list>:` construction.",
      "metadata": {
        "cell_id": "00061-75d392a4-3420-41b1-a80f-b0180508523f",
        "deepnote_cell_type": "markdown"
      }
    },
    {
      "cell_type": "code",
      "metadata": {
        "cell_id": "00062-ccae0312-3e92-4773-a981-2482bf1971e6",
        "deepnote_to_be_reexecuted": false,
        "source_hash": "51a03714",
        "execution_start": 1616069528065,
        "execution_millis": 15,
        "deepnote_cell_type": "code"
      },
      "source": "s = 'Humpty Dumpty sat on the wall'\nwordlist = s.split()\nfor i in wordlist:\n    print(i)\nprint(wordlist)",
      "execution_count": 100,
      "outputs": [
        {
          "name": "stdout",
          "text": "Humpty\nDumpty\nsat\non\nthe\nwall\n['Humpty', 'Dumpty', 'sat', 'on', 'the', 'wall']\n",
          "output_type": "stream"
        }
      ]
    },
    {
      "cell_type": "markdown",
      "source": "A very useful property of splitting is that we can decode some basic file formats. For example, a comma separated value (CSV) file is a very simple format, of which the basic setup is that each line consists of values that are separated by a comma. These values can be split from each other using the `split()` method. (Note: In actuality it will be a bit more convoluted as there might be commas in the fields that are stored in the CSV file, so it depends a bit on the contents of the file whether this simple approach will work. More on CSV files will be said in a later chapter in the course, where file formats are discussed.)",
      "metadata": {
        "cell_id": "00063-d042ac8c-dce7-4493-9864-a33fb3df0df0",
        "deepnote_cell_type": "markdown"
      }
    },
    {
      "cell_type": "code",
      "metadata": {
        "cell_id": "00064-1a38e903-739d-4ad0-b40a-28e4ce6cdeec",
        "deepnote_to_be_reexecuted": false,
        "source_hash": "5bd66aee",
        "execution_start": 1616069569931,
        "execution_millis": 7,
        "deepnote_cell_type": "code"
      },
      "source": "csv = \"2016,September,28,Data Processing,Tilburg University,Tilburg\"\nvalues = csv.split(',')\nfor value in values:\n    print(value)\n\nprint(\"\")\nprint(values)\nprint (values[1][0])",
      "execution_count": 101,
      "outputs": [
        {
          "name": "stdout",
          "text": "2016\nSeptember\n28\nData Processing\nTilburg University\nTilburg\n\n['2016', 'September', '28', 'Data Processing', 'Tilburg University', 'Tilburg']\nS\n",
          "output_type": "stream"
        }
      ]
    },
    {
      "cell_type": "markdown",
      "source": "### `join()`",
      "metadata": {
        "cell_id": "00065-76ef69b1-9c0d-4ae9-bcca-8eda2da9eaa2",
        "deepnote_cell_type": "markdown"
      }
    },
    {
      "cell_type": "markdown",
      "source": "`join()` is the opposite of `split()`. `join()` joins a list of words together, separated by a specific separator. This sounds like it would be a method of lists, but for historic reasons it is defined as a string method. Since all string methods are called with the format `<string>.<method>()`, there must be a string in front of the call to `join()`. That string is the separator that you want to use, while the parameter of the method is the list that you want to join together. The return value, as always, is the resulting string. In the following example, note the notation of each of these steps:",
      "metadata": {
        "cell_id": "00066-5c4a8bbf-088e-49fa-b197-669e45a013ec",
        "deepnote_cell_type": "markdown"
      }
    },
    {
      "cell_type": "code",
      "metadata": {
        "cell_id": "00067-d9366ab9-a587-43a7-9f4b-97f14ddd8837",
        "deepnote_to_be_reexecuted": false,
        "source_hash": "cc863de8",
        "execution_start": 1616069620639,
        "execution_millis": 41,
        "deepnote_cell_type": "code"
      },
      "source": "s = \"Humpty;Dumpty;sat;on;the;wall\"\nprint (s)\nwordlist = s.split(';')\nprint (wordlist)\ns = \" \".join(wordlist)\nprint(s)",
      "execution_count": 102,
      "outputs": [
        {
          "name": "stdout",
          "text": "Humpty;Dumpty;sat;on;the;wall\n['Humpty', 'Dumpty', 'sat', 'on', 'the', 'wall']\nHumpty Dumpty sat on the wall\n",
          "output_type": "stream"
        }
      ]
    },
    {
      "cell_type": "markdown",
      "source": "### What you learned",
      "metadata": {
        "cell_id": "00068-78947f2d-7ec7-42ff-a0f2-70e8f60136fc",
        "deepnote_cell_type": "markdown"
      }
    },
    {
      "cell_type": "markdown",
      "source": "In this chapter, you learned about:\n\n- Strings\n- Multi-line strings\n- Accessing string characters with positive and negative indices\n- Slices\n- Immutability of strings\n- String methods `strip()`, `upper()`, `lower()`, `find()`, `replace()`, `split()`, and `join()`\n- Escape sequences",
      "metadata": {
        "cell_id": "00069-e5a05723-8ec5-43a9-b3e2-423fe5bc7e1e",
        "deepnote_cell_type": "markdown"
      }
    },
    {
      "cell_type": "markdown",
      "source": "# Exercises",
      "metadata": {
        "cell_id": "00070-71f21f54-1537-4cc1-91d1-5a9fdf5546ee",
        "deepnote_cell_type": "markdown"
      }
    },
    {
      "cell_type": "markdown",
      "source": "**Exercise 6.1:** The text string in the next cell contains several words which are enclosed by square brackets (`[` and `]`). Scan the string and print out all words which are between square brackets. For example, if the text string would be \"`[a]n example[ string]`\", you are expected to print out \"`a string`\".",
      "metadata": {
        "cell_id": "00071-245dc956-7cd0-4647-819f-25d288053571",
        "deepnote_cell_type": "markdown"
      }
    },
    {
      "cell_type": "code",
      "metadata": {
        "cell_id": "00072-08412d6b-c164-435b-9363-d779ad41c0e0",
        "deepnote_to_be_reexecuted": false,
        "source_hash": "217143c0",
        "execution_millis": 1,
        "execution_start": 1616072496665,
        "deepnote_cell_type": "code"
      },
      "source": "# Distilling text.\ntext=\"\"\"[Never] [gonna] [give] [you] [up]\n [never] [gonna] [let] [you] [down] \n [Never] [gonna] [run] [around] [and] [desert] [you]\"\"\"\ndef Distilling(text):\n    \n    list_text=text.replace(\"[\",\"\").replace(\"]\",\"\")\n    s = \"\".join(list_text)\n\n    print(s)\nDistilling(text)",
      "execution_count": 136,
      "outputs": [
        {
          "name": "stdout",
          "text": "Never gonna give you up\n never gonna let you down \n Never gonna run around and desert you\n",
          "output_type": "stream"
        }
      ]
    },
    {
      "cell_type": "markdown",
      "source": "**Exercise 6.2:** Print a line of all the capital letters \"A\" to \"Z\". Below it, print a line of the letters that are 13 positions in the alphabet away from the letters that are above them. E.g., below the \"A\" you print an \"N\", below the \"B\" you print an \"O\", etcetera. You have to consider the alphabet to be circular, i.e., after the \"Z\", it loops back to the \"A\" again.",
      "metadata": {
        "cell_id": "00073-6e5d178f-4e64-40c9-bfc8-5dd7b4286d56",
        "deepnote_cell_type": "markdown"
      }
    },
    {
      "cell_type": "code",
      "metadata": {
        "cell_id": "00074-f3037bdc-c446-4449-ab62-e86f854495e3",
        "deepnote_to_be_reexecuted": false,
        "source_hash": "5573a0ea",
        "execution_millis": 6,
        "execution_start": 1616074242507,
        "deepnote_cell_type": "code"
      },
      "source": "# ROTR-13\ndef rotr_13():\n    alph='ABCDEFGHIJKLMNOPQRSTUVWXYZ'\n    print(f\"{alph}\\n{alph[13:26]}{alph[0:13]}\")\n\nrotr_13()",
      "execution_count": 167,
      "outputs": [
        {
          "name": "stdout",
          "text": "ABCDEFGHIJKLMNOPQRSTUVWXYZ\nNOPQRSTUVWXYZABCDEFGHIJKLM\n",
          "output_type": "stream"
        }
      ]
    },
    {
      "cell_type": "markdown",
      "source": "**Exercise 6.3:** In the text below, count how often the word \"wood\" occurs (using program code, of course). Capitals and lower case letters may both be used, and you have to consider that the word \"wood\" should be a separate word, and not part of another word. Hint: If you did the exercises from this chapter, you already developed a function that \"cleans\" a text. Combining that function with the `split()` function more or less solves the problem for you.",
      "metadata": {
        "cell_id": "00075-9d467515-57c2-4744-b9ee-46de6e2242b2",
        "deepnote_cell_type": "markdown"
      }
    },
    {
      "cell_type": "code",
      "metadata": {
        "cell_id": "00076-99871f83-67fd-44a6-8e4f-a659b3053b3c",
        "deepnote_to_be_reexecuted": false,
        "source_hash": "1af6807e",
        "execution_millis": 14,
        "execution_start": 1616074362176,
        "deepnote_cell_type": "code"
      },
      "source": "text = \"\"\"How much wood would a woodchuck chuck\nIf a woodchuck could chuck wood?\nHe would chuck, he would, as much as he could,\nAnd chuck as much as a woodchuck would\nIf a Mr. Smith could chuck wood\\n\\r\\t.\"\"\"\n\n# read whole text\n# create a counter\n# get rid \\n\n# get rid of ?. special grammar\n# lowercase my sentence\n\"if a woodchuck could chuck wood\"\n# split the string by some character\n[\"if\", \"a\", \"woodchuck\"]\n#check if wood is in the list\n    # if yes\n       # counter = counter +1 <--> counter += 1 \n    # else\n        #pass\n#return\n        ",
      "execution_count": 169,
      "outputs": [
        {
          "output_type": "execute_result",
          "execution_count": 169,
          "data": {
            "text/plain": "['if', 'a', 'woodchuck']"
          },
          "metadata": {}
        }
      ]
    },
    {
      "cell_type": "code",
      "metadata": {
        "cell_id": "00077-db049e4b-4fcd-4505-86b2-d212c204a004",
        "deepnote_to_be_reexecuted": false,
        "source_hash": "47fd8fa4",
        "execution_millis": 20,
        "execution_start": 1616074733894,
        "deepnote_cell_type": "code"
      },
      "source": "# Counting wood.\ndef wood_counter(text):\n    text = text.replace(\"?\", \"\").replace(\".\",\"\").replace(\"\\n\",\" \").replace(\"\\r\",\"\").replace(\"\\t\",\"\")\n    l = text.lower().strip().split()\n    counter = 0\n    for word in l:\n        if word == \"wood\":\n            counter +=1\n    print(f\"The final count is {counter}\")\nwood_counter(text)",
      "execution_count": 175,
      "outputs": [
        {
          "name": "stdout",
          "text": "The final count is 3\n",
          "output_type": "stream"
        }
      ]
    },
    {
      "cell_type": "code",
      "metadata": {
        "cell_id": "00078-a8025872-259f-4972-b739-8cf321aed394",
        "deepnote_cell_type": "code"
      },
      "source": "help(str)",
      "execution_count": 14,
      "outputs": [
        {
          "name": "stdout",
          "output_type": "stream",
          "text": "Help on class str in module builtins:\n\nclass str(object)\n |  str(object='') -> str\n |  str(bytes_or_buffer[, encoding[, errors]]) -> str\n |  \n |  Create a new string object from the given object. If encoding or\n |  errors is specified, then the object must expose a data buffer\n |  that will be decoded using the given encoding and error handler.\n |  Otherwise, returns the result of object.__str__() (if defined)\n |  or repr(object).\n |  encoding defaults to sys.getdefaultencoding().\n |  errors defaults to 'strict'.\n |  \n |  Methods defined here:\n |  \n |  __add__(self, value, /)\n |      Return self+value.\n |  \n |  __contains__(self, key, /)\n |      Return key in self.\n |  \n |  __eq__(self, value, /)\n |      Return self==value.\n |  \n |  __format__(self, format_spec, /)\n |      Return a formatted version of the string as described by format_spec.\n |  \n |  __ge__(self, value, /)\n |      Return self>=value.\n |  \n |  __getattribute__(self, name, /)\n |      Return getattr(self, name).\n |  \n |  __getitem__(self, key, /)\n |      Return self[key].\n |  \n |  __getnewargs__(...)\n |  \n |  __gt__(self, value, /)\n |      Return self>value.\n |  \n |  __hash__(self, /)\n |      Return hash(self).\n |  \n |  __iter__(self, /)\n |      Implement iter(self).\n |  \n |  __le__(self, value, /)\n |      Return self<=value.\n |  \n |  __len__(self, /)\n |      Return len(self).\n |  \n |  __lt__(self, value, /)\n |      Return self<value.\n |  \n |  __mod__(self, value, /)\n |      Return self%value.\n |  \n |  __mul__(self, value, /)\n |      Return self*value.\n |  \n |  __ne__(self, value, /)\n |      Return self!=value.\n |  \n |  __repr__(self, /)\n |      Return repr(self).\n |  \n |  __rmod__(self, value, /)\n |      Return value%self.\n |  \n |  __rmul__(self, value, /)\n |      Return value*self.\n |  \n |  __sizeof__(self, /)\n |      Return the size of the string in memory, in bytes.\n |  \n |  __str__(self, /)\n |      Return str(self).\n |  \n |  capitalize(self, /)\n |      Return a capitalized version of the string.\n |      \n |      More specifically, make the first character have upper case and the rest lower\n |      case.\n |  \n |  casefold(self, /)\n |      Return a version of the string suitable for caseless comparisons.\n |  \n |  center(self, width, fillchar=' ', /)\n |      Return a centered string of length width.\n |      \n |      Padding is done using the specified fill character (default is a space).\n |  \n |  count(...)\n |      S.count(sub[, start[, end]]) -> int\n |      \n |      Return the number of non-overlapping occurrences of substring sub in\n |      string S[start:end].  Optional arguments start and end are\n |      interpreted as in slice notation.\n |  \n |  encode(self, /, encoding='utf-8', errors='strict')\n |      Encode the string using the codec registered for encoding.\n |      \n |      encoding\n |        The encoding in which to encode the string.\n |      errors\n |        The error handling scheme to use for encoding errors.\n |        The default is 'strict' meaning that encoding errors raise a\n |        UnicodeEncodeError.  Other possible values are 'ignore', 'replace' and\n |        'xmlcharrefreplace' as well as any other name registered with\n |        codecs.register_error that can handle UnicodeEncodeErrors.\n |  \n |  endswith(...)\n |      S.endswith(suffix[, start[, end]]) -> bool\n |      \n |      Return True if S ends with the specified suffix, False otherwise.\n |      With optional start, test S beginning at that position.\n |      With optional end, stop comparing S at that position.\n |      suffix can also be a tuple of strings to try.\n |  \n |  expandtabs(self, /, tabsize=8)\n |      Return a copy where all tab characters are expanded using spaces.\n |      \n |      If tabsize is not given, a tab size of 8 characters is assumed.\n |  \n |  find(...)\n |      S.find(sub[, start[, end]]) -> int\n |      \n |      Return the lowest index in S where substring sub is found,\n |      such that sub is contained within S[start:end].  Optional\n |      arguments start and end are interpreted as in slice notation.\n |      \n |      Return -1 on failure.\n |  \n |  format(...)\n |      S.format(*args, **kwargs) -> str\n |      \n |      Return a formatted version of S, using substitutions from args and kwargs.\n |      The substitutions are identified by braces ('{' and '}').\n |  \n |  format_map(...)\n |      S.format_map(mapping) -> str\n |      \n |      Return a formatted version of S, using substitutions from mapping.\n |      The substitutions are identified by braces ('{' and '}').\n |  \n |  index(...)\n |      S.index(sub[, start[, end]]) -> int\n |      \n |      Return the lowest index in S where substring sub is found,\n |      such that sub is contained within S[start:end].  Optional\n |      arguments start and end are interpreted as in slice notation.\n |      \n |      Raises ValueError when the substring is not found.\n |  \n |  isalnum(self, /)\n |      Return True if the string is an alpha-numeric string, False otherwise.\n |      \n |      A string is alpha-numeric if all characters in the string are alpha-numeric and\n |      there is at least one character in the string.\n |  \n |  isalpha(self, /)\n |      Return True if the string is an alphabetic string, False otherwise.\n |      \n |      A string is alphabetic if all characters in the string are alphabetic and there\n |      is at least one character in the string.\n |  \n |  isascii(self, /)\n |      Return True if all characters in the string are ASCII, False otherwise.\n |      \n |      ASCII characters have code points in the range U+0000-U+007F.\n |      Empty string is ASCII too.\n |  \n |  isdecimal(self, /)\n |      Return True if the string is a decimal string, False otherwise.\n |      \n |      A string is a decimal string if all characters in the string are decimal and\n |      there is at least one character in the string.\n |  \n |  isdigit(self, /)\n |      Return True if the string is a digit string, False otherwise.\n |      \n |      A string is a digit string if all characters in the string are digits and there\n |      is at least one character in the string.\n |  \n |  isidentifier(self, /)\n |      Return True if the string is a valid Python identifier, False otherwise.\n |      \n |      Call keyword.iskeyword(s) to test whether string s is a reserved identifier,\n |      such as \"def\" or \"class\".\n |  \n |  islower(self, /)\n |      Return True if the string is a lowercase string, False otherwise.\n |      \n |      A string is lowercase if all cased characters in the string are lowercase and\n |      there is at least one cased character in the string.\n |  \n |  isnumeric(self, /)\n |      Return True if the string is a numeric string, False otherwise.\n |      \n |      A string is numeric if all characters in the string are numeric and there is at\n |      least one character in the string.\n |  \n |  isprintable(self, /)\n |      Return True if the string is printable, False otherwise.\n |      \n |      A string is printable if all of its characters are considered printable in\n |      repr() or if it is empty.\n |  \n |  isspace(self, /)\n |      Return True if the string is a whitespace string, False otherwise.\n |      \n |      A string is whitespace if all characters in the string are whitespace and there\n |      is at least one character in the string.\n |  \n |  istitle(self, /)\n |      Return True if the string is a title-cased string, False otherwise.\n |      \n |      In a title-cased string, upper- and title-case characters may only\n |      follow uncased characters and lowercase characters only cased ones.\n |  \n |  isupper(self, /)\n |      Return True if the string is an uppercase string, False otherwise.\n |      \n |      A string is uppercase if all cased characters in the string are uppercase and\n |      there is at least one cased character in the string.\n |  \n |  join(self, iterable, /)\n |      Concatenate any number of strings.\n |      \n |      The string whose method is called is inserted in between each given string.\n |      The result is returned as a new string.\n |      \n |      Example: '.'.join(['ab', 'pq', 'rs']) -> 'ab.pq.rs'\n |  \n |  ljust(self, width, fillchar=' ', /)\n |      Return a left-justified string of length width.\n |      \n |      Padding is done using the specified fill character (default is a space).\n |  \n |  lower(self, /)\n |      Return a copy of the string converted to lowercase.\n |  \n |  lstrip(self, chars=None, /)\n |      Return a copy of the string with leading whitespace removed.\n |      \n |      If chars is given and not None, remove characters in chars instead.\n |  \n |  partition(self, sep, /)\n |      Partition the string into three parts using the given separator.\n |      \n |      This will search for the separator in the string.  If the separator is found,\n |      returns a 3-tuple containing the part before the separator, the separator\n |      itself, and the part after it.\n |      \n |      If the separator is not found, returns a 3-tuple containing the original string\n |      and two empty strings.\n |  \n |  replace(self, old, new, count=-1, /)\n |      Return a copy with all occurrences of substring old replaced by new.\n |      \n |        count\n |          Maximum number of occurrences to replace.\n |          -1 (the default value) means replace all occurrences.\n |      \n |      If the optional argument count is given, only the first count occurrences are\n |      replaced.\n |  \n |  rfind(...)\n |      S.rfind(sub[, start[, end]]) -> int\n |      \n |      Return the highest index in S where substring sub is found,\n |      such that sub is contained within S[start:end].  Optional\n |      arguments start and end are interpreted as in slice notation.\n |      \n |      Return -1 on failure.\n |  \n |  rindex(...)\n |      S.rindex(sub[, start[, end]]) -> int\n |      \n |      Return the highest index in S where substring sub is found,\n |      such that sub is contained within S[start:end].  Optional\n |      arguments start and end are interpreted as in slice notation.\n |      \n |      Raises ValueError when the substring is not found.\n |  \n |  rjust(self, width, fillchar=' ', /)\n |      Return a right-justified string of length width.\n |      \n |      Padding is done using the specified fill character (default is a space).\n |  \n |  rpartition(self, sep, /)\n |      Partition the string into three parts using the given separator.\n |      \n |      This will search for the separator in the string, starting at the end. If\n |      the separator is found, returns a 3-tuple containing the part before the\n |      separator, the separator itself, and the part after it.\n |      \n |      If the separator is not found, returns a 3-tuple containing two empty strings\n |      and the original string.\n |  \n |  rsplit(self, /, sep=None, maxsplit=-1)\n |      Return a list of the words in the string, using sep as the delimiter string.\n |      \n |        sep\n |          The delimiter according which to split the string.\n |          None (the default value) means split according to any whitespace,\n |          and discard empty strings from the result.\n |        maxsplit\n |          Maximum number of splits to do.\n |          -1 (the default value) means no limit.\n |      \n |      Splits are done starting at the end of the string and working to the front.\n |  \n |  rstrip(self, chars=None, /)\n |      Return a copy of the string with trailing whitespace removed.\n |      \n |      If chars is given and not None, remove characters in chars instead.\n |  \n |  split(self, /, sep=None, maxsplit=-1)\n |      Return a list of the words in the string, using sep as the delimiter string.\n |      \n |      sep\n |        The delimiter according which to split the string.\n |        None (the default value) means split according to any whitespace,\n |        and discard empty strings from the result.\n |      maxsplit\n |        Maximum number of splits to do.\n |        -1 (the default value) means no limit.\n |  \n |  splitlines(self, /, keepends=False)\n |      Return a list of the lines in the string, breaking at line boundaries.\n |      \n |      Line breaks are not included in the resulting list unless keepends is given and\n |      true.\n |  \n |  startswith(...)\n |      S.startswith(prefix[, start[, end]]) -> bool\n |      \n |      Return True if S starts with the specified prefix, False otherwise.\n |      With optional start, test S beginning at that position.\n |      With optional end, stop comparing S at that position.\n |      prefix can also be a tuple of strings to try.\n |  \n |  strip(self, chars=None, /)\n |      Return a copy of the string with leading and trailing whitespace removed.\n |      \n |      If chars is given and not None, remove characters in chars instead.\n |  \n |  swapcase(self, /)\n |      Convert uppercase characters to lowercase and lowercase characters to uppercase.\n |  \n |  title(self, /)\n |      Return a version of the string where each word is titlecased.\n |      \n |      More specifically, words start with uppercased characters and all remaining\n |      cased characters have lower case.\n |  \n |  translate(self, table, /)\n |      Replace each character in the string using the given translation table.\n |      \n |        table\n |          Translation table, which must be a mapping of Unicode ordinals to\n |          Unicode ordinals, strings, or None.\n |      \n |      The table must implement lookup/indexing via __getitem__, for instance a\n |      dictionary or list.  If this operation raises LookupError, the character is\n |      left untouched.  Characters mapped to None are deleted.\n |  \n |  upper(self, /)\n |      Return a copy of the string converted to uppercase.\n |  \n |  zfill(self, width, /)\n |      Pad a numeric string with zeros on the left, to fill a field of the given width.\n |      \n |      The string is never truncated.\n |  \n |  ----------------------------------------------------------------------\n |  Static methods defined here:\n |  \n |  __new__(*args, **kwargs) from builtins.type\n |      Create and return a new object.  See help(type) for accurate signature.\n |  \n |  maketrans(...)\n |      Return a translation table usable for str.translate().\n |      \n |      If there is only one argument, it must be a dictionary mapping Unicode\n |      ordinals (integers) or characters to Unicode ordinals, strings or None.\n |      Character keys will be then converted to ordinals.\n |      If there are two arguments, they must be strings of equal length, and\n |      in the resulting dictionary, each character in x will be mapped to the\n |      character at the same position in y. If there is a third argument, it\n |      must be a string, whose characters will be mapped to None in the result.\n\n"
        }
      ]
    },
    {
      "cell_type": "code",
      "metadata": {
        "cell_id": "00079-e2b22192-6907-4826-883f-39acb876b1e0",
        "deepnote_cell_type": "code"
      },
      "source": "",
      "execution_count": null,
      "outputs": []
    },
    {
      "cell_type": "markdown",
      "source": "<a style='text-decoration:none;line-height:16px;display:flex;color:#5B5B62;padding:10px;justify-content:end;' href='https://deepnote.com?utm_source=created-in-deepnote-cell&projectId=79673256-d468-4dc3-bcd4-af2c4cf3525d' target=\"_blank\">\n<img style='display:inline;max-height:16px;margin:0px;margin-right:7.5px;' src='data:image/svg+xml;base64,PD94bWwgdmVyc2lvbj0iMS4wIiBlbmNvZGluZz0iVVRGLTgiPz4KPHN2ZyB3aWR0aD0iODBweCIgaGVpZ2h0PSI4MHB4IiB2aWV3Qm94PSIwIDAgODAgODAiIHZlcnNpb249IjEuMSIgeG1sbnM9Imh0dHA6Ly93d3cudzMub3JnLzIwMDAvc3ZnIiB4bWxuczp4bGluaz0iaHR0cDovL3d3dy53My5vcmcvMTk5OS94bGluayI+CiAgICA8IS0tIEdlbmVyYXRvcjogU2tldGNoIDU0LjEgKDc2NDkwKSAtIGh0dHBzOi8vc2tldGNoYXBwLmNvbSAtLT4KICAgIDx0aXRsZT5Hcm91cCAzPC90aXRsZT4KICAgIDxkZXNjPkNyZWF0ZWQgd2l0aCBTa2V0Y2guPC9kZXNjPgogICAgPGcgaWQ9IkxhbmRpbmciIHN0cm9rZT0ibm9uZSIgc3Ryb2tlLXdpZHRoPSIxIiBmaWxsPSJub25lIiBmaWxsLXJ1bGU9ImV2ZW5vZGQiPgogICAgICAgIDxnIGlkPSJBcnRib2FyZCIgdHJhbnNmb3JtPSJ0cmFuc2xhdGUoLTEyMzUuMDAwMDAwLCAtNzkuMDAwMDAwKSI+CiAgICAgICAgICAgIDxnIGlkPSJHcm91cC0zIiB0cmFuc2Zvcm09InRyYW5zbGF0ZSgxMjM1LjAwMDAwMCwgNzkuMDAwMDAwKSI+CiAgICAgICAgICAgICAgICA8cG9seWdvbiBpZD0iUGF0aC0yMCIgZmlsbD0iIzAyNjVCNCIgcG9pbnRzPSIyLjM3NjIzNzYyIDgwIDM4LjA0NzY2NjcgODAgNTcuODIxNzgyMiA3My44MDU3NTkyIDU3LjgyMTc4MjIgMzIuNzU5MjczOSAzOS4xNDAyMjc4IDMxLjY4MzE2ODMiPjwvcG9seWdvbj4KICAgICAgICAgICAgICAgIDxwYXRoIGQ9Ik0zNS4wMDc3MTgsODAgQzQyLjkwNjIwMDcsNzYuNDU0OTM1OCA0Ny41NjQ5MTY3LDcxLjU0MjI2NzEgNDguOTgzODY2LDY1LjI2MTk5MzkgQzUxLjExMjI4OTksNTUuODQxNTg0MiA0MS42NzcxNzk1LDQ5LjIxMjIyODQgMjUuNjIzOTg0Niw0OS4yMTIyMjg0IEMyNS40ODQ5Mjg5LDQ5LjEyNjg0NDggMjkuODI2MTI5Niw0My4yODM4MjQ4IDM4LjY0NzU4NjksMzEuNjgzMTY4MyBMNzIuODcxMjg3MSwzMi41NTQ0MjUgTDY1LjI4MDk3Myw2Ny42NzYzNDIxIEw1MS4xMTIyODk5LDc3LjM3NjE0NCBMMzUuMDA3NzE4LDgwIFoiIGlkPSJQYXRoLTIyIiBmaWxsPSIjMDAyODY4Ij48L3BhdGg+CiAgICAgICAgICAgICAgICA8cGF0aCBkPSJNMCwzNy43MzA0NDA1IEwyNy4xMTQ1MzcsMC4yNTcxMTE0MzYgQzYyLjM3MTUxMjMsLTEuOTkwNzE3MDEgODAsMTAuNTAwMzkyNyA4MCwzNy43MzA0NDA1IEM4MCw2NC45NjA0ODgyIDY0Ljc3NjUwMzgsNzkuMDUwMzQxNCAzNC4zMjk1MTEzLDgwIEM0Ny4wNTUzNDg5LDc3LjU2NzA4MDggNTMuNDE4MjY3Nyw3MC4zMTM2MTAzIDUzLjQxODI2NzcsNTguMjM5NTg4NSBDNTMuNDE4MjY3Nyw0MC4xMjg1NTU3IDM2LjMwMzk1NDQsMzcuNzMwNDQwNSAyNS4yMjc0MTcsMzcuNzMwNDQwNSBDMTcuODQzMDU4NiwzNy43MzA0NDA1IDkuNDMzOTE5NjYsMzcuNzMwNDQwNSAwLDM3LjczMDQ0MDUgWiIgaWQ9IlBhdGgtMTkiIGZpbGw9IiMzNzkzRUYiPjwvcGF0aD4KICAgICAgICAgICAgPC9nPgogICAgICAgIDwvZz4KICAgIDwvZz4KPC9zdmc+' > </img>\nCreated in <span style='font-weight:600;margin-left:4px;'>Deepnote</span></a>",
      "metadata": {
        "tags": [],
        "created_in_deepnote_cell": true,
        "deepnote_cell_type": "markdown"
      }
    }
  ],
  "nbformat": 4,
  "nbformat_minor": 2,
  "metadata": {
    "kernelspec": {
      "display_name": "Python 3",
      "language": "python",
      "name": "python3"
    },
    "language_info": {
      "codemirror_mode": {
        "name": "ipython",
        "version": 3
      },
      "file_extension": ".py",
      "mimetype": "text/x-python",
      "name": "python",
      "nbconvert_exporter": "python",
      "pygments_lexer": "ipython3",
      "version": "3.8.3"
    },
    "deepnote_notebook_id": "e68c5c81-4332-417d-9218-2a7a74005a37",
    "deepnote": {},
    "deepnote_execution_queue": []
  }
}