{
  "cells": [
    {
      "cell_type": "markdown",
      "source": "# Chapter 11 - Text Files",
      "metadata": {
        "cell_id": "00000-b2d6de97-9986-4e8c-aabe-f4ef26512b53",
        "deepnote_cell_type": "markdown"
      }
    },
    {
      "cell_type": "markdown",
      "source": "---",
      "metadata": {
        "cell_id": "00001-c24e99ce-6ceb-484e-b37d-181822f8c471",
        "deepnote_cell_type": "markdown"
      }
    },
    {
      "cell_type": "markdown",
      "source": "One of the most important uses of Python for data processing is the reading, changing, and writing of text files. Data is often stored in text files, because text files can be easily transferred between different programs. There are multiple standardized formats for text files, such as \"comma-separated values\" (CSV) files. Python supports particular text file formats through modules, some of which will be discussed later. This chapter focusses on opening, reading, writing, and closing of any text file, regardless of format. ",
      "metadata": {
        "cell_id": "00002-18069ff6-5c8c-48db-86b5-cafb8d16ec85",
        "deepnote_cell_type": "markdown"
      }
    },
    {
      "cell_type": "markdown",
      "source": "---",
      "metadata": {
        "cell_id": "00003-71f7c420-ca4a-4ef3-aeb7-8746809e0b96",
        "deepnote_cell_type": "markdown"
      }
    },
    {
      "cell_type": "markdown",
      "source": "## Flat text files",
      "metadata": {
        "cell_id": "00004-bfffa0d2-b2d9-4a81-ad84-7b4189927985",
        "deepnote_cell_type": "markdown"
      }
    },
    {
      "cell_type": "markdown",
      "source": "When programmers refer to \"text files\" or \"flat text files\", they mean files in which all characters are meant to be read as regular characters, like you would type on a keyboard. For instance, Python program files are flat text files, as are HTML files. Word processor documents, however, are not flat text files, and neither are images. If you want to know whether a file is a text file or not, you can try to open it in a text editor (such as the editor for the IDLE environment, which comes with Python). If you see only readable text, the file is likely to be a text file. Otherwise, it is a so-called \"binary file\".\n\nText files consist of lines of text. At the end of a line, there is a \"newline\" symbol, which in Python is the character \"`\\n`\". Different operating systems use slightly different ways of storing this character in a text file: some Windows programs store it as \"carriage return\", as well as \"line feed\" (\"`\\r\\n`\", sometimes thought as a leftover from old typewriters), while on Linux it is always stored as a single \"`\\n`\". As long as you access a file from Python as a regular text file, Python will convert the characters that it reads to the standard \"`\\n`\", and vice versa when it writes. So you do not usually need to worry about such differences (except when you need to transfer text files between operating systems).\n\nHowever; if you open a file in other editors, such as notepad, sometimes it does not properly understand the end-of-line characters, and shows everything on one line.",
      "metadata": {
        "cell_id": "00005-269826f6-a085-49bc-bd5f-cca414ebfd7e",
        "deepnote_cell_type": "markdown"
      }
    },
    {
      "cell_type": "markdown",
      "source": "### File handles and pointers",
      "metadata": {
        "cell_id": "00006-9b3093f2-6949-46ba-b7ae-6049cc28122c",
        "deepnote_cell_type": "markdown"
      }
    },
    {
      "cell_type": "markdown",
      "source": "When you work with a file in a program, you have to open the file. Opening a file provides a so-called \"file handle\". A file handle can be seen as an access point to the file. It contains a \"pointer\" that indicates a particular place in the file. That pointer is used when you read from or write to the file. For instance, when you read from the file, it starts reading at the pointer, and moves the pointer forward in the file.\n\nWhen you open a file, the pointer is placed at a particular spot in the file, depending on how you opened the file. If you opened the file for reading only, the pointer is placed at the start of the file. The same is true when you open the file for both reading and writing. If you open the file for \"appending\" (i.e., to place new data at the file's end), the file pointer is positioned at the end of the file. Lastly, if you open a file for writing only, actually the file is completely emptied and the file pointer is placed at the start of the, now empty, file. To create a new file (i.e., a file with a name that does not exist yet), you open it for \"writing only\".\n\nAfter opening the file, the file handle is the only access point for the file. All actions you perform on the file, you perform as methods for the file handle.\n\nNote that any operating system only allows a limited number of files to be open simultaneously. Therefore you should close files that you no longer need to work with.",
      "metadata": {
        "cell_id": "00007-fb2486e0-2fed-410d-8d7b-d328324ccd6e",
        "deepnote_cell_type": "markdown"
      }
    },
    {
      "cell_type": "markdown",
      "source": "### Moving the file pointer",
      "metadata": {
        "cell_id": "00008-b7a54898-ad6c-42e9-8c4d-42c1cd79890e",
        "deepnote_cell_type": "markdown"
      }
    },
    {
      "cell_type": "markdown",
      "source": "The file pointer, that indicates where in a file you are working, is moved automatically. For instance, when you read 10 characters from a file, the file pointer indicates which is the first of those 10 characters, and, while reading, moves up 10 characters, so that its new position is 10 characters further in the file than before. When you deal with text files, the automatic movements of the file pointer are exactly what you want. You *can* position the file pointer manually using specific methods, but such methods are, in general, only used when dealing with binary files. ",
      "metadata": {
        "cell_id": "00009-9190b562-5892-4e4b-acfb-1f3f1b35e2d9",
        "deepnote_cell_type": "markdown"
      }
    },
    {
      "cell_type": "markdown",
      "source": "### Buffering",
      "metadata": {
        "cell_id": "00010-8db54c00-922e-48fd-a8f4-8ebe76460aa9",
        "deepnote_cell_type": "markdown"
      }
    },
    {
      "cell_type": "markdown",
      "source": "When you make changes to files, these often are not stored in the files immediately. Instead, the operating system \"buffers\" the changes in memory, and \"flushes\" the buffers to the actual files when it sees a need for that. You can force the flushing of the buffers by closing a file. Buffers are also flushed when your program ends normally.\n\nHowever, when your program crashes (for instance because of a runtime error), buffers might not be flushed, and your files will not be updated to the point where the crash took place. So you cannot take the file contents into account when trying to debug a program.",
      "metadata": {
        "cell_id": "00011-226d43cd-be80-4a82-a4a4-5c8def6eb7c7",
        "deepnote_cell_type": "markdown"
      }
    },
    {
      "cell_type": "markdown",
      "source": "### File processing programs",
      "metadata": {
        "cell_id": "00012-9a859429-ac62-4a10-bac3-f9555235d8f2",
        "deepnote_cell_type": "markdown"
      }
    },
    {
      "cell_type": "markdown",
      "source": "Most programs that deal with text files follow a process that, in a loop, reads contents of a file, processes those contents in some way, then writes the contents to another file. For instance, a program might read lines from a text file, and for each line sort the words, then write the sorted words to another text file. This is hardly any different from a program that asks the user the provide, in a loop, a line of text, then sorts the words in the line, and displays them using the `print()` function. \n\nHowever, it tends to be experienced as more complicated.\n\nWhen you provide input to a program manually, and see it displaying outputs, you always know more or less what lines of your code Python is processing, and you can make up tests on the fly. If you work with files, you have to prepare your files beforehand, then run the program and wait until it finishes before you can examine the contents of the output files. \n\nWhile working with files might give a sense of lack of control, during development of the program you can always include `print()` statements to get an insight in what the program is doing. For instance, when it reads a line, you can print that line, and when it writes a line, you can also print that line. That way, your insight in the inner workings of the program is no different regardless whether you use manual inputs and screen outputs, or file inputs and outputs.",
      "metadata": {
        "cell_id": "00013-31aeda9a-d255-4a91-8583-01fe0e360753",
        "deepnote_cell_type": "markdown"
      }
    },
    {
      "cell_type": "markdown",
      "source": "---",
      "metadata": {
        "cell_id": "00014-e1dfa356-4aae-4ba9-8578-44695fc1927b",
        "deepnote_cell_type": "markdown"
      }
    },
    {
      "cell_type": "markdown",
      "source": "## Reading text files",
      "metadata": {
        "cell_id": "00015-00d5c3fd-d6cc-47b2-ac65-8ccf6350b46d",
        "deepnote_cell_type": "markdown"
      }
    },
    {
      "cell_type": "markdown",
      "source": "To read the contents of a file, you must first open it, then read the contents, then close it.",
      "metadata": {
        "cell_id": "00016-b933c192-e5f1-4097-8349-2eae3f3d61df",
        "deepnote_cell_type": "markdown"
      }
    },
    {
      "cell_type": "markdown",
      "source": "### Opening a file using `open()`",
      "metadata": {
        "cell_id": "00017-959be86a-da1f-4561-b7e4-ff0f4b1e1cb4",
        "deepnote_cell_type": "markdown"
      }
    },
    {
      "cell_type": "markdown",
      "source": "To open a file, you use the `open()` function. \n\nThe `open()` function gets two arguments, of which the second one is optional. The first argument is the name of the file. If the file is not in the current directory, you have to include the complete path to the file so that Python can find it. The second argument is the \"mode\". The mode indicates how you want to treat the file. The default mode (which is picked when you do not supply the second argument) is opening the file as a text file for reading only. How you set other modes is discussed later.\n\nThe `open()` function returns a file handle, which you use for all the remaining functionalities.\n\nRather than writing \"`<handle> = open( <filename> )`\", you will often see Python programs that write this as \"`open( <filename> ) as <handle>`\". These two ways of writing code are equivalent. I myself prefer the first, as that is the way it is done in most programming languages. However, the second method has an advantage that I discuss below, when talking about closing a file.",
      "metadata": {
        "cell_id": "00018-79d3d40a-4ee8-4911-aa68-0539a85e572e",
        "deepnote_cell_type": "markdown"
      }
    },
    {
      "cell_type": "markdown",
      "source": "### Reading a file using `read()`",
      "metadata": {
        "cell_id": "00019-f2248815-7d9b-4b14-8c65-3555f76e2979",
        "deepnote_cell_type": "markdown"
      }
    },
    {
      "cell_type": "markdown",
      "source": "The simplest way to read the contents of a file is using the `read()` method, without arguments, on the file handle. This returns a string that contains the complete contents of the file. `read()` can get an argument, but that's only used for binary files.\n\nReading from a file moves the file pointer to right after the part of the file that was read. This means that if you use the `read()` method without arguments, the file pointer is moved to the end of the file. This entails that if you would try to `read()` from it a second time, nothing would be read, as there is nothing to be read after the spot where the file pointer is.",
      "metadata": {
        "cell_id": "00020-a3955e92-94e3-405e-a7da-f9a7462ee2fa",
        "deepnote_cell_type": "markdown"
      }
    },
    {
      "cell_type": "markdown",
      "source": "### Closing a file using `close()`",
      "metadata": {
        "cell_id": "00021-774dabf0-931d-4cfb-91a4-7bd2ed5bda94",
        "deepnote_cell_type": "markdown"
      }
    },
    {
      "cell_type": "markdown",
      "source": "To close a file, you use the `close()` method on the file handle. Every file that you open, you should close at some point in your program. This is especially true in these notebooks, as each notebook page is considered to be one complete program; this means that if you do not close a file, it remains open even after the bit of code that you executed ends.\n\nIf everything that you need to do with a file is done in a single block, you can write this block as follows:\n\n    with open( <filename> ) as <handle>:\n        <statements>\n        \nThis syntactic construction has the advantage that the file will be closed automatically after the block `<statements>` ends, so you do not need to include an explicit `close()` call. This construction is typically Python; you do not see it in many other programming languages.",
      "metadata": {
        "cell_id": "00022-84df991c-da21-4d9c-91d8-256f676f67bb",
        "deepnote_cell_type": "markdown"
      }
    },
    {
      "cell_type": "markdown",
      "source": "### Displaying the contents of a file",
      "metadata": {
        "cell_id": "00023-713faf0d-7244-4079-b93a-6bb5f26200db",
        "deepnote_cell_type": "markdown"
      }
    },
    {
      "cell_type": "markdown",
      "source": "Now the first few functions and methods for dealing with text files have been introduced, I can show some code that reads the contents of a file.",
      "metadata": {
        "cell_id": "00024-09cb65d7-1a79-4d79-87e7-5443d463b39f",
        "deepnote_cell_type": "markdown"
      }
    },
    {
      "cell_type": "code",
      "metadata": {
        "cell_id": "00025-49b8b0e6-ee2b-4e96-8e60-398335c8a84b",
        "deepnote_to_be_reexecuted": false,
        "source_hash": "185ad56f",
        "execution_millis": 51,
        "execution_start": 1616080149231,
        "deepnote_cell_type": "code"
      },
      "source": "\ndef display_contents_file(file_name):\n    #fp = open(file_name, \"r\")\n    with open( file_name ) as fp:\n        buffer = fp.read()\n    print( buffer )\n    \ndisplay_contents_file(\"text-files/Shakespeare.txt\")",
      "execution_count": null,
      "outputs": [
        {
          "name": "stdout",
          "text": "1609\n\nTHE SONNETS\n\nby William Shakespeare\n\n\n\n                     1\n  From fairest creatures we desire increase,\n  That thereby beauty's rose might never die,\n  But as the riper should by time decease,\n  His tender heir might bear his memory:\n  But thou contracted to thine own bright eyes,\n  Feed'st thy light's flame with self-substantial fuel,\n  Making a famine where abundance lies,\n  Thy self thy foe, to thy sweet self too cruel:\n  Thou that art now the world's fresh ornament,\n  And only herald to the gaudy spring,\n  Within thine own bud buriest thy content,\n  And tender churl mak'st waste in niggarding:\n    Pity the world, or else this glutton be,\n    To eat the world's due, by the grave and thee.\n\n\n                     2\n  When forty winters shall besiege thy brow,\n  And dig deep trenches in thy beauty's field,\n  Thy youth's proud livery so gazed on now,\n  Will be a tattered weed of small worth held:\n  Then being asked, where all thy beauty lies,\n  Where all the treasure of thy lusty days;\n  To say within thine own deep sunken eyes,\n  Were an all-eating shame, and thriftless praise.\n  How much more praise deserved thy beauty's use,\n  If thou couldst answer 'This fair child of mine\n  Shall sum my count, and make my old excuse'\n  Proving his beauty by succession thine.\n    This were to be new made when thou art old,\n    And see thy blood warm when thou feel'st it cold.\n\n\n                     3\n  Look in thy glass and tell the face thou viewest,\n  Now is the time that face should form another,\n  Whose fresh repair if now thou not renewest,\n  Thou dost beguile the world, unbless some mother.\n  For where is she so fair whose uneared womb\n  Disdains the tillage of thy husbandry?\n  Or who is he so fond will be the tomb,\n  Of his self-love to stop posterity?\n  Thou art thy mother's glass and she in thee\n  Calls back the lovely April of her prime,\n  So thou through windows of thine age shalt see,\n  Despite of wrinkles this thy golden time.\n    But if thou live remembered not to be,\n    Die single and thine image dies with thee.\n\n\n                     4\n  Unthrifty loveliness why dost thou spend,\n  Upon thy self thy beauty's legacy?\n  Nature's bequest gives nothing but doth lend,\n  And being frank she lends to those are free:\n  Then beauteous niggard why dost thou abuse,\n  The bounteous largess given thee to give?\n  Profitless usurer why dost thou use\n  So great a sum of sums yet canst not live?\n  For having traffic with thy self alone,\n  Thou of thy self thy sweet self dost deceive,\n  Then how when nature calls thee to be gone,\n  What acceptable audit canst thou leave?\n    Thy unused beauty must be tombed with thee,\n    Which used lives th' executor to be.\n\n\n                     5\n  Those hours that with gentle work did frame\n  The lovely gaze where every eye doth dwell\n  Will play the tyrants to the very same,\n  And that unfair which fairly doth excel:\n  For never-resting time leads summer on\n  To hideous winter and confounds him there,\n  Sap checked with frost and lusty leaves quite gone,\n  Beauty o'er-snowed and bareness every where:\n  Then were not summer's distillation left\n  A liquid prisoner pent in walls of glass,\n  Beauty's effect with beauty were bereft,\n  Nor it nor no remembrance what it was.\n    But flowers distilled though they with winter meet,\n    Leese but their show, their substance still lives sweet.\n\n\n                     6\n  Then let not winter's ragged hand deface,\n  In thee thy summer ere thou be distilled:\n  Make sweet some vial; treasure thou some place,\n  With beauty's treasure ere it be self-killed:\n  That use is not forbidden usury,\n  Which happies those that pay the willing loan;\n  That's for thy self to breed another thee,\n  Or ten times happier be it ten for one,\n  Ten times thy self were happier than thou art,\n  If ten of thine ten times refigured thee:\n  Then what could death do if thou shouldst depart,\n  Leaving thee living in posterity?\n    Be not self-willed for thou art much too fair,\n    To be death's conquest and make worms thine heir.\n\n\n                     7\n  Lo in the orient when the gracious light\n  Lifts up his burning head, each under eye\n  Doth homage to his new-appearing sight,\n  Serving with looks his sacred majesty,\n  And having climbed the steep-up heavenly hill,\n  Resembling strong youth in his middle age,\n  Yet mortal looks adore his beauty still,\n  Attending on his golden pilgrimage:\n  But when from highmost pitch with weary car,\n  Like feeble age he reeleth from the day,\n  The eyes (fore duteous) now converted are\n  From his low tract and look another way:\n    So thou, thy self out-going in thy noon:\n    Unlooked on diest unless thou get a son.\n\n\n                     8\n  Music to hear, why hear'st thou music sadly?\n  Sweets with sweets war not, joy delights in joy:\n  Why lov'st thou that which thou receiv'st not gladly,\n  Or else receiv'st with pleasure thine annoy?\n  If the true concord of well-tuned sounds,\n  By unions married do offend thine ear,\n  They do but sweetly chide thee, who confounds\n  In singleness the parts that thou shouldst bear:\n  Mark how one string sweet husband to another,\n  Strikes each in each by mutual ordering;\n  Resembling sire, and child, and happy mother,\n  Who all in one, one pleasing note do sing:\n    Whose speechless song being many, seeming one,\n    Sings this to thee, 'Thou single wilt prove none'.\n\n\n                     9\n  Is it for fear to wet a widow's eye,\n  That thou consum'st thy self in single life?\n  Ah, if thou issueless shalt hap to die,\n  The world will wail thee like a makeless wife,\n  The world will be thy widow and still weep,\n  That thou no form of thee hast left behind,\n  When every private widow well may keep,\n  By children's eyes, her husband's shape in mind:\n  Look what an unthrift in the world doth spend\n  Shifts but his place, for still the world enjoys it;\n  But beauty's waste hath in the world an end,\n  And kept unused the user so destroys it:\n    No love toward others in that bosom sits\n    That on himself such murd'rous shame commits.\n\n\n                     10\n  For shame deny that thou bear'st love to any\n  Who for thy self art so unprovident.\n  Grant if thou wilt, thou art beloved of many,\n  But that thou none lov'st is most evident:\n  For thou art so possessed with murd'rous hate,\n  That 'gainst thy self thou stick'st not to conspire,\n  Seeking that beauteous roof to ruinate\n  Which to repair should be thy chief desire:\n  O change thy thought, that I may change my mind,\n  Shall hate be fairer lodged than gentle love?\n  Be as thy presence is gracious and kind,\n  Or to thy self at least kind-hearted prove,\n    Make thee another self for love of me,\n    That beauty still may live in thine or thee.\n",
          "output_type": "stream"
        }
      ]
    },
    {
      "cell_type": "code",
      "metadata": {
        "cell_id": "00026-7ac877d1-c186-4261-8913-188532b9c58f",
        "deepnote_to_be_reexecuted": false,
        "source_hash": "2ed585a6",
        "execution_millis": 11,
        "execution_start": 1616079465080,
        "deepnote_cell_type": "code"
      },
      "source": "\ndef display_contents_file(file_name):\n    fp = open(file_name, \"r\")\n    #with open( file_name ) as fp:\n    buffer = fp.read()\n    print( buffer )\n    fp.close()\ndisplay_contents_file(\"text-files/Shakespeare.txt\")",
      "execution_count": null,
      "outputs": [
        {
          "name": "stdout",
          "text": "\n",
          "output_type": "stream"
        }
      ]
    },
    {
      "cell_type": "code",
      "metadata": {
        "cell_id": "00027-e624a33f-530e-4e14-bab6-1dd9dc53ed4e",
        "deepnote_to_be_reexecuted": false,
        "source_hash": "38957c4c",
        "execution_millis": 18,
        "execution_start": 1616079465082,
        "deepnote_cell_type": "code"
      },
      "source": "def display_contents_file(file_name):\n    #with open( file_name ) as fp:\n    fp = open(file_name, \"r\")\n    buffer = fp.readlines()\n    for line in buffer:\n        print(line)\n    print(buffer)\n    fp.close()\n    \ndisplay_contents_file(\"text-files/Shakespeare.txt\")",
      "execution_count": null,
      "outputs": [
        {
          "name": "stdout",
          "text": "[]\n",
          "output_type": "stream"
        }
      ]
    },
    {
      "cell_type": "markdown",
      "source": "### Reading lines using `readline()`",
      "metadata": {
        "cell_id": "00028-c4546e91-98e1-4682-ba05-d7b0ad968e49",
        "deepnote_cell_type": "markdown"
      }
    },
    {
      "cell_type": "markdown",
      "source": "To read a text file line by line, you can use the `readline()` method. The `readline()` method reads characters starting at the file pointer up to and including the next newline character, and returns them as a string. You can recognize that you have reached the end of the file by the fact that no characters are read anymore, i.e., the string that is returned is empty.",
      "metadata": {
        "cell_id": "00029-cd85aa14-4d1b-49d9-a496-b38b20225da1",
        "deepnote_cell_type": "markdown"
      }
    },
    {
      "cell_type": "code",
      "metadata": {
        "cell_id": "00030-d17b8df3-cc87-4ec2-803c-1a7faa3035b4",
        "deepnote_to_be_reexecuted": false,
        "source_hash": "6c01b4af",
        "execution_millis": 49,
        "execution_start": 1616079937453,
        "deepnote_cell_type": "code"
      },
      "source": "def display_contents_file2(file_name):\n    fp = open( file_name , \"r\")\n    buffer = fp.readlines()\n    print(buffer)\n   # for line in buffer:\n    #    print (line)\n    #fp.close()\n    \ndisplay_contents_file2(\"text-files/Shakespeare.txt\")",
      "execution_count": null,
      "outputs": [
        {
          "name": "stdout",
          "text": "['1609\\n', '\\n', 'THE SONNETS\\n', '\\n', 'by William Shakespeare\\n', '\\n', '\\n', '\\n', '                     1\\n', '  From fairest creatures we desire increase,\\n', \"  That thereby beauty's rose might never die,\\n\", '  But as the riper should by time decease,\\n', '  His tender heir might bear his memory:\\n', '  But thou contracted to thine own bright eyes,\\n', \"  Feed'st thy light's flame with self-substantial fuel,\\n\", '  Making a famine where abundance lies,\\n', '  Thy self thy foe, to thy sweet self too cruel:\\n', \"  Thou that art now the world's fresh ornament,\\n\", '  And only herald to the gaudy spring,\\n', '  Within thine own bud buriest thy content,\\n', \"  And tender churl mak'st waste in niggarding:\\n\", '    Pity the world, or else this glutton be,\\n', \"    To eat the world's due, by the grave and thee.\\n\", '\\n', '\\n', '                     2\\n', '  When forty winters shall besiege thy brow,\\n', \"  And dig deep trenches in thy beauty's field,\\n\", \"  Thy youth's proud livery so gazed on now,\\n\", '  Will be a tattered weed of small worth held:\\n', '  Then being asked, where all thy beauty lies,\\n', '  Where all the treasure of thy lusty days;\\n', '  To say within thine own deep sunken eyes,\\n', '  Were an all-eating shame, and thriftless praise.\\n', \"  How much more praise deserved thy beauty's use,\\n\", \"  If thou couldst answer 'This fair child of mine\\n\", \"  Shall sum my count, and make my old excuse'\\n\", '  Proving his beauty by succession thine.\\n', '    This were to be new made when thou art old,\\n', \"    And see thy blood warm when thou feel'st it cold.\\n\", '\\n', '\\n', '                     3\\n', '  Look in thy glass and tell the face thou viewest,\\n', '  Now is the time that face should form another,\\n', '  Whose fresh repair if now thou not renewest,\\n', '  Thou dost beguile the world, unbless some mother.\\n', '  For where is she so fair whose uneared womb\\n', '  Disdains the tillage of thy husbandry?\\n', '  Or who is he so fond will be the tomb,\\n', '  Of his self-love to stop posterity?\\n', \"  Thou art thy mother's glass and she in thee\\n\", '  Calls back the lovely April of her prime,\\n', '  So thou through windows of thine age shalt see,\\n', '  Despite of wrinkles this thy golden time.\\n', '    But if thou live remembered not to be,\\n', '    Die single and thine image dies with thee.\\n', '\\n', '\\n', '                     4\\n', '  Unthrifty loveliness why dost thou spend,\\n', \"  Upon thy self thy beauty's legacy?\\n\", \"  Nature's bequest gives nothing but doth lend,\\n\", '  And being frank she lends to those are free:\\n', '  Then beauteous niggard why dost thou abuse,\\n', '  The bounteous largess given thee to give?\\n', '  Profitless usurer why dost thou use\\n', '  So great a sum of sums yet canst not live?\\n', '  For having traffic with thy self alone,\\n', '  Thou of thy self thy sweet self dost deceive,\\n', '  Then how when nature calls thee to be gone,\\n', '  What acceptable audit canst thou leave?\\n', '    Thy unused beauty must be tombed with thee,\\n', \"    Which used lives th' executor to be.\\n\", '\\n', '\\n', '                     5\\n', '  Those hours that with gentle work did frame\\n', '  The lovely gaze where every eye doth dwell\\n', '  Will play the tyrants to the very same,\\n', '  And that unfair which fairly doth excel:\\n', '  For never-resting time leads summer on\\n', '  To hideous winter and confounds him there,\\n', '  Sap checked with frost and lusty leaves quite gone,\\n', \"  Beauty o'er-snowed and bareness every where:\\n\", \"  Then were not summer's distillation left\\n\", '  A liquid prisoner pent in walls of glass,\\n', \"  Beauty's effect with beauty were bereft,\\n\", '  Nor it nor no remembrance what it was.\\n', '    But flowers distilled though they with winter meet,\\n', '    Leese but their show, their substance still lives sweet.\\n', '\\n', '\\n', '                     6\\n', \"  Then let not winter's ragged hand deface,\\n\", '  In thee thy summer ere thou be distilled:\\n', '  Make sweet some vial; treasure thou some place,\\n', \"  With beauty's treasure ere it be self-killed:\\n\", '  That use is not forbidden usury,\\n', '  Which happies those that pay the willing loan;\\n', \"  That's for thy self to breed another thee,\\n\", '  Or ten times happier be it ten for one,\\n', '  Ten times thy self were happier than thou art,\\n', '  If ten of thine ten times refigured thee:\\n', '  Then what could death do if thou shouldst depart,\\n', '  Leaving thee living in posterity?\\n', '    Be not self-willed for thou art much too fair,\\n', \"    To be death's conquest and make worms thine heir.\\n\", '\\n', '\\n', '                     7\\n', '  Lo in the orient when the gracious light\\n', '  Lifts up his burning head, each under eye\\n', '  Doth homage to his new-appearing sight,\\n', '  Serving with looks his sacred majesty,\\n', '  And having climbed the steep-up heavenly hill,\\n', '  Resembling strong youth in his middle age,\\n', '  Yet mortal looks adore his beauty still,\\n', '  Attending on his golden pilgrimage:\\n', '  But when from highmost pitch with weary car,\\n', '  Like feeble age he reeleth from the day,\\n', '  The eyes (fore duteous) now converted are\\n', '  From his low tract and look another way:\\n', '    So thou, thy self out-going in thy noon:\\n', '    Unlooked on diest unless thou get a son.\\n', '\\n', '\\n', '                     8\\n', \"  Music to hear, why hear'st thou music sadly?\\n\", '  Sweets with sweets war not, joy delights in joy:\\n', \"  Why lov'st thou that which thou receiv'st not gladly,\\n\", \"  Or else receiv'st with pleasure thine annoy?\\n\", '  If the true concord of well-tuned sounds,\\n', '  By unions married do offend thine ear,\\n', '  They do but sweetly chide thee, who confounds\\n', '  In singleness the parts that thou shouldst bear:\\n', '  Mark how one string sweet husband to another,\\n', '  Strikes each in each by mutual ordering;\\n', '  Resembling sire, and child, and happy mother,\\n', '  Who all in one, one pleasing note do sing:\\n', '    Whose speechless song being many, seeming one,\\n', \"    Sings this to thee, 'Thou single wilt prove none'.\\n\", '\\n', '\\n', '                     9\\n', \"  Is it for fear to wet a widow's eye,\\n\", \"  That thou consum'st thy self in single life?\\n\", '  Ah, if thou issueless shalt hap to die,\\n', '  The world will wail thee like a makeless wife,\\n', '  The world will be thy widow and still weep,\\n', '  That thou no form of thee hast left behind,\\n', '  When every private widow well may keep,\\n', \"  By children's eyes, her husband's shape in mind:\\n\", '  Look what an unthrift in the world doth spend\\n', '  Shifts but his place, for still the world enjoys it;\\n', \"  But beauty's waste hath in the world an end,\\n\", '  And kept unused the user so destroys it:\\n', '    No love toward others in that bosom sits\\n', \"    That on himself such murd'rous shame commits.\\n\", '\\n', '\\n', '                     10\\n', \"  For shame deny that thou bear'st love to any\\n\", '  Who for thy self art so unprovident.\\n', '  Grant if thou wilt, thou art beloved of many,\\n', \"  But that thou none lov'st is most evident:\\n\", \"  For thou art so possessed with murd'rous hate,\\n\", \"  That 'gainst thy self thou stick'st not to conspire,\\n\", '  Seeking that beauteous roof to ruinate\\n', '  Which to repair should be thy chief desire:\\n', '  O change thy thought, that I may change my mind,\\n', '  Shall hate be fairer lodged than gentle love?\\n', '  Be as thy presence is gracious and kind,\\n', '  Or to thy self at least kind-hearted prove,\\n', '    Make thee another self for love of me,\\n', '    That beauty still may live in thine or thee.']\n",
          "output_type": "stream"
        }
      ]
    },
    {
      "cell_type": "code",
      "metadata": {
        "cell_id": "00031-9df0d2fd-1a59-4df8-8e22-d60e37c6650b",
        "deepnote_to_be_reexecuted": false,
        "source_hash": "b3899efc",
        "execution_millis": 51,
        "execution_start": 1616080054367,
        "deepnote_cell_type": "code"
      },
      "source": "def display_contents_file2(file_name):\n    fp = open( file_name )\n    while True:\n        buffer = fp.readline()             \n        if buffer == \"\":\n            break     \n        print( buffer )\n    fp.close()\ndisplay_contents_file2(\"text-files/Shakespeare.txt\")",
      "execution_count": null,
      "outputs": [
        {
          "name": "stdout",
          "text": "1609\n\n\n\nTHE SONNETS\n\n\n\nby William Shakespeare\n\n\n\n\n\n\n\n                     1\n\n  From fairest creatures we desire increase,\n\n  That thereby beauty's rose might never die,\n\n  But as the riper should by time decease,\n\n  His tender heir might bear his memory:\n\n  But thou contracted to thine own bright eyes,\n\n  Feed'st thy light's flame with self-substantial fuel,\n\n  Making a famine where abundance lies,\n\n  Thy self thy foe, to thy sweet self too cruel:\n\n  Thou that art now the world's fresh ornament,\n\n  And only herald to the gaudy spring,\n\n  Within thine own bud buriest thy content,\n\n  And tender churl mak'st waste in niggarding:\n\n    Pity the world, or else this glutton be,\n\n    To eat the world's due, by the grave and thee.\n\n\n\n\n\n                     2\n\n  When forty winters shall besiege thy brow,\n\n  And dig deep trenches in thy beauty's field,\n\n  Thy youth's proud livery so gazed on now,\n\n  Will be a tattered weed of small worth held:\n\n  Then being asked, where all thy beauty lies,\n\n  Where all the treasure of thy lusty days;\n\n  To say within thine own deep sunken eyes,\n\n  Were an all-eating shame, and thriftless praise.\n\n  How much more praise deserved thy beauty's use,\n\n  If thou couldst answer 'This fair child of mine\n\n  Shall sum my count, and make my old excuse'\n\n  Proving his beauty by succession thine.\n\n    This were to be new made when thou art old,\n\n    And see thy blood warm when thou feel'st it cold.\n\n\n\n\n\n                     3\n\n  Look in thy glass and tell the face thou viewest,\n\n  Now is the time that face should form another,\n\n  Whose fresh repair if now thou not renewest,\n\n  Thou dost beguile the world, unbless some mother.\n\n  For where is she so fair whose uneared womb\n\n  Disdains the tillage of thy husbandry?\n\n  Or who is he so fond will be the tomb,\n\n  Of his self-love to stop posterity?\n\n  Thou art thy mother's glass and she in thee\n\n  Calls back the lovely April of her prime,\n\n  So thou through windows of thine age shalt see,\n\n  Despite of wrinkles this thy golden time.\n\n    But if thou live remembered not to be,\n\n    Die single and thine image dies with thee.\n\n\n\n\n\n                     4\n\n  Unthrifty loveliness why dost thou spend,\n\n  Upon thy self thy beauty's legacy?\n\n  Nature's bequest gives nothing but doth lend,\n\n  And being frank she lends to those are free:\n\n  Then beauteous niggard why dost thou abuse,\n\n  The bounteous largess given thee to give?\n\n  Profitless usurer why dost thou use\n\n  So great a sum of sums yet canst not live?\n\n  For having traffic with thy self alone,\n\n  Thou of thy self thy sweet self dost deceive,\n\n  Then how when nature calls thee to be gone,\n\n  What acceptable audit canst thou leave?\n\n    Thy unused beauty must be tombed with thee,\n\n    Which used lives th' executor to be.\n\n\n\n\n\n                     5\n\n  Those hours that with gentle work did frame\n\n  The lovely gaze where every eye doth dwell\n\n  Will play the tyrants to the very same,\n\n  And that unfair which fairly doth excel:\n\n  For never-resting time leads summer on\n\n  To hideous winter and confounds him there,\n\n  Sap checked with frost and lusty leaves quite gone,\n\n  Beauty o'er-snowed and bareness every where:\n\n  Then were not summer's distillation left\n\n  A liquid prisoner pent in walls of glass,\n\n  Beauty's effect with beauty were bereft,\n\n  Nor it nor no remembrance what it was.\n\n    But flowers distilled though they with winter meet,\n\n    Leese but their show, their substance still lives sweet.\n\n\n\n\n\n                     6\n\n  Then let not winter's ragged hand deface,\n\n  In thee thy summer ere thou be distilled:\n\n  Make sweet some vial; treasure thou some place,\n\n  With beauty's treasure ere it be self-killed:\n\n  That use is not forbidden usury,\n\n  Which happies those that pay the willing loan;\n\n  That's for thy self to breed another thee,\n\n  Or ten times happier be it ten for one,\n\n  Ten times thy self were happier than thou art,\n\n  If ten of thine ten times refigured thee:\n\n  Then what could death do if thou shouldst depart,\n\n  Leaving thee living in posterity?\n\n    Be not self-willed for thou art much too fair,\n\n    To be death's conquest and make worms thine heir.\n\n\n\n\n\n                     7\n\n  Lo in the orient when the gracious light\n\n  Lifts up his burning head, each under eye\n\n  Doth homage to his new-appearing sight,\n\n  Serving with looks his sacred majesty,\n\n  And having climbed the steep-up heavenly hill,\n\n  Resembling strong youth in his middle age,\n\n  Yet mortal looks adore his beauty still,\n\n  Attending on his golden pilgrimage:\n\n  But when from highmost pitch with weary car,\n\n  Like feeble age he reeleth from the day,\n\n  The eyes (fore duteous) now converted are\n\n  From his low tract and look another way:\n\n    So thou, thy self out-going in thy noon:\n\n    Unlooked on diest unless thou get a son.\n\n\n\n\n\n                     8\n\n  Music to hear, why hear'st thou music sadly?\n\n  Sweets with sweets war not, joy delights in joy:\n\n  Why lov'st thou that which thou receiv'st not gladly,\n\n  Or else receiv'st with pleasure thine annoy?\n\n  If the true concord of well-tuned sounds,\n\n  By unions married do offend thine ear,\n\n  They do but sweetly chide thee, who confounds\n\n  In singleness the parts that thou shouldst bear:\n\n  Mark how one string sweet husband to another,\n\n  Strikes each in each by mutual ordering;\n\n  Resembling sire, and child, and happy mother,\n\n  Who all in one, one pleasing note do sing:\n\n    Whose speechless song being many, seeming one,\n\n    Sings this to thee, 'Thou single wilt prove none'.\n\n\n\n\n\n                     9\n\n  Is it for fear to wet a widow's eye,\n\n  That thou consum'st thy self in single life?\n\n  Ah, if thou issueless shalt hap to die,\n\n  The world will wail thee like a makeless wife,\n\n  The world will be thy widow and still weep,\n\n  That thou no form of thee hast left behind,\n\n  When every private widow well may keep,\n\n  By children's eyes, her husband's shape in mind:\n\n  Look what an unthrift in the world doth spend\n\n  Shifts but his place, for still the world enjoys it;\n\n  But beauty's waste hath in the world an end,\n\n  And kept unused the user so destroys it:\n\n    No love toward others in that bosom sits\n\n    That on himself such murd'rous shame commits.\n\n\n\n\n\n                     10\n\n  For shame deny that thou bear'st love to any\n\n  Who for thy self art so unprovident.\n\n  Grant if thou wilt, thou art beloved of many,\n\n  But that thou none lov'st is most evident:\n\n  For thou art so possessed with murd'rous hate,\n\n  That 'gainst thy self thou stick'st not to conspire,\n\n  Seeking that beauteous roof to ruinate\n\n  Which to repair should be thy chief desire:\n\n  O change thy thought, that I may change my mind,\n\n  Shall hate be fairer lodged than gentle love?\n\n  Be as thy presence is gracious and kind,\n\n  Or to thy self at least kind-hearted prove,\n\n    Make thee another self for love of me,\n\n    That beauty still may live in thine or thee.\n",
          "output_type": "stream"
        }
      ]
    },
    {
      "cell_type": "code",
      "metadata": {
        "cell_id": "00032-4cfd1b26-b8da-462a-bbc9-ec379cb1e3df",
        "deepnote_to_be_reexecuted": false,
        "source_hash": "63c4a332",
        "execution_millis": 124,
        "execution_start": 1616080082609,
        "deepnote_cell_type": "code"
      },
      "source": "fp = open(\"text-files/Shakespeare.txt\", \"r\")                                       \nlist_ = fp.readline()\nprint (list_)\n#for line in line:\n #   print(line)\n\n#print(fp.readline())\nfp.close ()",
      "execution_count": null,
      "outputs": [
        {
          "name": "stdout",
          "text": "1609\n\n",
          "output_type": "stream"
        }
      ]
    },
    {
      "cell_type": "markdown",
      "source": "Notice that the output of the code above has an empty line between each of the lines displayed. Where is that extra line coming from? Think about it.\n\nThe extra line is there because the `readline()` method returns a string of the characters read, up to and *including* the newline character. So when the `buffer` is printed, it prints a newline character too. And since the `print()` function *also* moves to a new line after it is executed, there is an empty line printed after each line of text.",
      "metadata": {
        "cell_id": "00033-7302c7b5-4b82-43c2-8310-14162e99c49a",
        "deepnote_cell_type": "markdown"
      }
    },
    {
      "cell_type": "markdown",
      "source": "A collary to the `readline()` method is the `readlines()` method. `readlines()` reads all the lines in the file, and returns them as a list of strings. The strings include the newline characters.",
      "metadata": {
        "cell_id": "00034-5e20ab75-26d2-4103-b613-dda98fa9785e",
        "deepnote_cell_type": "markdown"
      }
    },
    {
      "cell_type": "markdown",
      "source": "### When to use which file-reading method",
      "metadata": {
        "cell_id": "00035-92e09ac5-aa12-4d49-80f3-810121b92adc",
        "deepnote_cell_type": "markdown"
      }
    },
    {
      "cell_type": "markdown",
      "source": "Both the `read()` and `readlines()` method read a whole file at once. Obviously, for small files this is acceptable, but for long files you might not have enough memory to store the file contents efficiently. In such circumstances (or when you do not know the file size), you should read a file line by line with the `readline()` method.\n\nIt is often a good idea, during code development, to process only the first few lines of a file. That way you limit the amount of time that the program needs to process a file, and limit its output, which makes debugging easier. For instance, the code below process the first 10 lines of one of the longer files.",
      "metadata": {
        "cell_id": "00036-dc7209ec-d819-4b2e-9d65-7e2c91bc1367",
        "deepnote_cell_type": "markdown"
      }
    },
    {
      "cell_type": "code",
      "metadata": {
        "cell_id": "00037-4805cb9c-babd-4e22-8123-b9842f282e46",
        "deepnote_to_be_reexecuted": false,
        "source_hash": "c86ffacc",
        "execution_millis": 10,
        "execution_start": 1616080087676,
        "deepnote_cell_type": "code"
      },
      "source": "def display_contents_file4(file_name):\n    fp = open(file_name)\n    count = 0\n    while count < 10:\n        buffer = fp.readline()\n        if buffer == \"\":\n            break\n        print( buffer, end=\"\" )\n        count += 1\n    fp.close()\n    \ndisplay_contents_file4( \"text-files/Shakespeare.txt\")",
      "execution_count": null,
      "outputs": [
        {
          "name": "stdout",
          "text": "1609\n\nTHE SONNETS\n\nby William Shakespeare\n\n\n\n                     1\n  From fairest creatures we desire increase,\n",
          "output_type": "stream"
        }
      ]
    },
    {
      "cell_type": "markdown",
      "source": "Once the program is finished and debugged, I can remove the references to `count` and change the loop to `while True`, to process the whole file.\n\n**Exercise**: Start by copying the code above in the code block below. Then adapt it to count how often the word \"from\" (with any capitalization) occurs in the text as a whole. Print only the number of occurrences of that word. If you do it correctly, you find the answer is 14 (it occurs 3 times in the first 20 lines).",
      "metadata": {
        "cell_id": "00038-c19a27e5-182f-4ba9-a711-048b0ac88f80",
        "deepnote_cell_type": "markdown"
      }
    },
    {
      "cell_type": "code",
      "metadata": {
        "cell_id": "00039-b51f9bdf-7f89-4485-b085-b94ce29eee57",
        "deepnote_to_be_reexecuted": false,
        "source_hash": "66d912f7",
        "execution_millis": 13,
        "execution_start": 1616085853945,
        "deepnote_cell_type": "code"
      },
      "source": "#problem is here it doesn't scan all txt file\ndef display_contents_file4(file_name):\n    fp = open(file_name)\n    count = 0\n    buffer=fp.readlines()\n    buffer=\" \".join(buffer)\n    buffer=buffer.lower().strip()\n    buffer=buffer.replace(\"?\",\"\").replace(\".\",\"\").replace(\"\\n\",\"\").replace(\",\",\"\")\n    list_buffer=buffer.split()\n\n    for i in range(len(list_buffer)):\n        if list_buffer[i]==\"from\":\n            count=+1\n    print(count)\n    print(buffer)\ndisplay_contents_file4(\"text-files/Shakespeare.txt\")",
      "execution_count": null,
      "outputs": [
        {
          "name": "stdout",
          "text": "1\n['1609', 'the', 'sonnets', 'by', 'william', 'shakespeare', '1', 'from', 'fairest', 'creatures', 'we', 'desire', 'increase', 'that', 'thereby', \"beauty's\", 'rose', 'might', 'never', 'die', 'but', 'as', 'the', 'riper', 'should', 'by', 'time', 'decease', 'his', 'tender', 'heir', 'might', 'bear', 'his', 'memory:', 'but', 'thou', 'contracted', 'to', 'thine', 'own', 'bright', 'eyes', \"feed'st\", 'thy', \"light's\", 'flame', 'with', 'self-substantial', 'fuel', 'making', 'a', 'famine', 'where', 'abundance', 'lies', 'thy', 'self', 'thy', 'foe', 'to', 'thy', 'sweet', 'self', 'too', 'cruel:', 'thou', 'that', 'art', 'now', 'the', \"world's\", 'fresh', 'ornament', 'and', 'only', 'herald', 'to', 'the', 'gaudy', 'spring', 'within', 'thine', 'own', 'bud', 'buriest', 'thy', 'content', 'and', 'tender', 'churl', \"mak'st\", 'waste', 'in', 'niggarding:', 'pity', 'the', 'world', 'or', 'else', 'this', 'glutton', 'be', 'to', 'eat', 'the', \"world's\", 'due', 'by', 'the', 'grave', 'and', 'thee', '2', 'when', 'forty', 'winters', 'shall', 'besiege', 'thy', 'brow', 'and', 'dig', 'deep', 'trenches', 'in', 'thy', \"beauty's\", 'field', 'thy', \"youth's\", 'proud', 'livery', 'so', 'gazed', 'on', 'now', 'will', 'be', 'a', 'tattered', 'weed', 'of', 'small', 'worth', 'held:', 'then', 'being', 'asked', 'where', 'all', 'thy', 'beauty', 'lies', 'where', 'all', 'the', 'treasure', 'of', 'thy', 'lusty', 'days;', 'to', 'say', 'within', 'thine', 'own', 'deep', 'sunken', 'eyes', 'were', 'an', 'all-eating', 'shame', 'and', 'thriftless', 'praise', 'how', 'much', 'more', 'praise', 'deserved', 'thy', \"beauty's\", 'use', 'if', 'thou', 'couldst', 'answer', \"'this\", 'fair', 'child', 'of', 'mine', 'shall', 'sum', 'my', 'count', 'and', 'make', 'my', 'old', \"excuse'\", 'proving', 'his', 'beauty', 'by', 'succession', 'thine', 'this', 'were', 'to', 'be', 'new', 'made', 'when', 'thou', 'art', 'old', 'and', 'see', 'thy', 'blood', 'warm', 'when', 'thou', \"feel'st\", 'it', 'cold', '3', 'look', 'in', 'thy', 'glass', 'and', 'tell', 'the', 'face', 'thou', 'viewest', 'now', 'is', 'the', 'time', 'that', 'face', 'should', 'form', 'another', 'whose', 'fresh', 'repair', 'if', 'now', 'thou', 'not', 'renewest', 'thou', 'dost', 'beguile', 'the', 'world', 'unbless', 'some', 'mother', 'for', 'where', 'is', 'she', 'so', 'fair', 'whose', 'uneared', 'womb', 'disdains', 'the', 'tillage', 'of', 'thy', 'husbandry', 'or', 'who', 'is', 'he', 'so', 'fond', 'will', 'be', 'the', 'tomb', 'of', 'his', 'self-love', 'to', 'stop', 'posterity', 'thou', 'art', 'thy', \"mother's\", 'glass', 'and', 'she', 'in', 'thee', 'calls', 'back', 'the', 'lovely', 'april', 'of', 'her', 'prime', 'so', 'thou', 'through', 'windows', 'of', 'thine', 'age', 'shalt', 'see', 'despite', 'of', 'wrinkles', 'this', 'thy', 'golden', 'time', 'but', 'if', 'thou', 'live', 'remembered', 'not', 'to', 'be', 'die', 'single', 'and', 'thine', 'image', 'dies', 'with', 'thee', '4', 'unthrifty', 'loveliness', 'why', 'dost', 'thou', 'spend', 'upon', 'thy', 'self', 'thy', \"beauty's\", 'legacy', \"nature's\", 'bequest', 'gives', 'nothing', 'but', 'doth', 'lend', 'and', 'being', 'frank', 'she', 'lends', 'to', 'those', 'are', 'free:', 'then', 'beauteous', 'niggard', 'why', 'dost', 'thou', 'abuse', 'the', 'bounteous', 'largess', 'given', 'thee', 'to', 'give', 'profitless', 'usurer', 'why', 'dost', 'thou', 'use', 'so', 'great', 'a', 'sum', 'of', 'sums', 'yet', 'canst', 'not', 'live', 'for', 'having', 'traffic', 'with', 'thy', 'self', 'alone', 'thou', 'of', 'thy', 'self', 'thy', 'sweet', 'self', 'dost', 'deceive', 'then', 'how', 'when', 'nature', 'calls', 'thee', 'to', 'be', 'gone', 'what', 'acceptable', 'audit', 'canst', 'thou', 'leave', 'thy', 'unused', 'beauty', 'must', 'be', 'tombed', 'with', 'thee', 'which', 'used', 'lives', \"th'\", 'executor', 'to', 'be', '5', 'those', 'hours', 'that', 'with', 'gentle', 'work', 'did', 'frame', 'the', 'lovely', 'gaze', 'where', 'every', 'eye', 'doth', 'dwell', 'will', 'play', 'the', 'tyrants', 'to', 'the', 'very', 'same', 'and', 'that', 'unfair', 'which', 'fairly', 'doth', 'excel:', 'for', 'never-resting', 'time', 'leads', 'summer', 'on', 'to', 'hideous', 'winter', 'and', 'confounds', 'him', 'there', 'sap', 'checked', 'with', 'frost', 'and', 'lusty', 'leaves', 'quite', 'gone', 'beauty', \"o'er-snowed\", 'and', 'bareness', 'every', 'where:', 'then', 'were', 'not', \"summer's\", 'distillation', 'left', 'a', 'liquid', 'prisoner', 'pent', 'in', 'walls', 'of', 'glass', \"beauty's\", 'effect', 'with', 'beauty', 'were', 'bereft', 'nor', 'it', 'nor', 'no', 'remembrance', 'what', 'it', 'was', 'but', 'flowers', 'distilled', 'though', 'they', 'with', 'winter', 'meet', 'leese', 'but', 'their', 'show', 'their', 'substance', 'still', 'lives', 'sweet', '6', 'then', 'let', 'not', \"winter's\", 'ragged', 'hand', 'deface', 'in', 'thee', 'thy', 'summer', 'ere', 'thou', 'be', 'distilled:', 'make', 'sweet', 'some', 'vial;', 'treasure', 'thou', 'some', 'place', 'with', \"beauty's\", 'treasure', 'ere', 'it', 'be', 'self-killed:', 'that', 'use', 'is', 'not', 'forbidden', 'usury', 'which', 'happies', 'those', 'that', 'pay', 'the', 'willing', 'loan;', \"that's\", 'for', 'thy', 'self', 'to', 'breed', 'another', 'thee', 'or', 'ten', 'times', 'happier', 'be', 'it', 'ten', 'for', 'one', 'ten', 'times', 'thy', 'self', 'were', 'happier', 'than', 'thou', 'art', 'if', 'ten', 'of', 'thine', 'ten', 'times', 'refigured', 'thee:', 'then', 'what', 'could', 'death', 'do', 'if', 'thou', 'shouldst', 'depart', 'leaving', 'thee', 'living', 'in', 'posterity', 'be', 'not', 'self-willed', 'for', 'thou', 'art', 'much', 'too', 'fair', 'to', 'be', \"death's\", 'conquest', 'and', 'make', 'worms', 'thine', 'heir', '7', 'lo', 'in', 'the', 'orient', 'when', 'the', 'gracious', 'light', 'lifts', 'up', 'his', 'burning', 'head', 'each', 'under', 'eye', 'doth', 'homage', 'to', 'his', 'new-appearing', 'sight', 'serving', 'with', 'looks', 'his', 'sacred', 'majesty', 'and', 'having', 'climbed', 'the', 'steep-up', 'heavenly', 'hill', 'resembling', 'strong', 'youth', 'in', 'his', 'middle', 'age', 'yet', 'mortal', 'looks', 'adore', 'his', 'beauty', 'still', 'attending', 'on', 'his', 'golden', 'pilgrimage:', 'but', 'when', 'from', 'highmost', 'pitch', 'with', 'weary', 'car', 'like', 'feeble', 'age', 'he', 'reeleth', 'from', 'the', 'day', 'the', 'eyes', '(fore', 'duteous)', 'now', 'converted', 'are', 'from', 'his', 'low', 'tract', 'and', 'look', 'another', 'way:', 'so', 'thou', 'thy', 'self', 'out-going', 'in', 'thy', 'noon:', 'unlooked', 'on', 'diest', 'unless', 'thou', 'get', 'a', 'son', '8', 'music', 'to', 'hear', 'why', \"hear'st\", 'thou', 'music', 'sadly', 'sweets', 'with', 'sweets', 'war', 'not', 'joy', 'delights', 'in', 'joy:', 'why', \"lov'st\", 'thou', 'that', 'which', 'thou', \"receiv'st\", 'not', 'gladly', 'or', 'else', \"receiv'st\", 'with', 'pleasure', 'thine', 'annoy', 'if', 'the', 'true', 'concord', 'of', 'well-tuned', 'sounds', 'by', 'unions', 'married', 'do', 'offend', 'thine', 'ear', 'they', 'do', 'but', 'sweetly', 'chide', 'thee', 'who', 'confounds', 'in', 'singleness', 'the', 'parts', 'that', 'thou', 'shouldst', 'bear:', 'mark', 'how', 'one', 'string', 'sweet', 'husband', 'to', 'another', 'strikes', 'each', 'in', 'each', 'by', 'mutual', 'ordering;', 'resembling', 'sire', 'and', 'child', 'and', 'happy', 'mother', 'who', 'all', 'in', 'one', 'one', 'pleasing', 'note', 'do', 'sing:', 'whose', 'speechless', 'song', 'being', 'many', 'seeming', 'one', 'sings', 'this', 'to', 'thee', \"'thou\", 'single', 'wilt', 'prove', \"none'\", '9', 'is', 'it', 'for', 'fear', 'to', 'wet', 'a', \"widow's\", 'eye', 'that', 'thou', \"consum'st\", 'thy', 'self', 'in', 'single', 'life', 'ah', 'if', 'thou', 'issueless', 'shalt', 'hap', 'to', 'die', 'the', 'world', 'will', 'wail', 'thee', 'like', 'a', 'makeless', 'wife', 'the', 'world', 'will', 'be', 'thy', 'widow', 'and', 'still', 'weep', 'that', 'thou', 'no', 'form', 'of', 'thee', 'hast', 'left', 'behind', 'when', 'every', 'private', 'widow', 'well', 'may', 'keep', 'by', \"children's\", 'eyes', 'her', \"husband's\", 'shape', 'in', 'mind:', 'look', 'what', 'an', 'unthrift', 'in', 'the', 'world', 'doth', 'spend', 'shifts', 'but', 'his', 'place', 'for', 'still', 'the', 'world', 'enjoys', 'it;', 'but', \"beauty's\", 'waste', 'hath', 'in', 'the', 'world', 'an', 'end', 'and', 'kept', 'unused', 'the', 'user', 'so', 'destroys', 'it:', 'no', 'love', 'toward', 'others', 'in', 'that', 'bosom', 'sits', 'that', 'on', 'himself', 'such', \"murd'rous\", 'shame', 'commits', '10', 'for', 'shame', 'deny', 'that', 'thou', \"bear'st\", 'love', 'to', 'any', 'who', 'for', 'thy', 'self', 'art', 'so', 'unprovident', 'grant', 'if', 'thou', 'wilt', 'thou', 'art', 'beloved', 'of', 'many', 'but', 'that', 'thou', 'none', \"lov'st\", 'is', 'most', 'evident:', 'for', 'thou', 'art', 'so', 'possessed', 'with', \"murd'rous\", 'hate', 'that', \"'gainst\", 'thy', 'self', 'thou', \"stick'st\", 'not', 'to', 'conspire', 'seeking', 'that', 'beauteous', 'roof', 'to', 'ruinate', 'which', 'to', 'repair', 'should', 'be', 'thy', 'chief', 'desire:', 'o', 'change', 'thy', 'thought', 'that', 'i', 'may', 'change', 'my', 'mind', 'shall', 'hate', 'be', 'fairer', 'lodged', 'than', 'gentle', 'love', 'be', 'as', 'thy', 'presence', 'is', 'gracious', 'and', 'kind', 'or', 'to', 'thy', 'self', 'at', 'least', 'kind-hearted', 'prove', 'make', 'thee', 'another', 'self', 'for', 'love', 'of', 'me', 'that', 'beauty', 'still', 'may', 'live', 'in', 'thine', 'or', 'thee']\n",
          "output_type": "stream"
        }
      ]
    },
    {
      "cell_type": "code",
      "metadata": {
        "tags": [],
        "cell_id": "00040-d5596af0-d0d8-4101-990f-0b2c6b123189",
        "deepnote_to_be_reexecuted": false,
        "source_hash": "b623e53d",
        "execution_millis": 0,
        "execution_start": 1616082885589,
        "deepnote_cell_type": "code"
      },
      "source": "",
      "execution_count": null,
      "outputs": []
    },
    {
      "cell_type": "markdown",
      "source": "",
      "metadata": {
        "cell_id": "00040-21691bfe-0b2a-49c6-9d0b-c2c2f934f303",
        "deepnote_cell_type": "markdown"
      }
    },
    {
      "cell_type": "markdown",
      "source": "## `os.path` methods",
      "metadata": {
        "cell_id": "00041-a3f3547b-d461-4c33-9a4c-f526df255d3e",
        "deepnote_cell_type": "markdown"
      }
    },
    {
      "cell_type": "markdown",
      "source": "At this point you know everything you need to handle text files in Python. However, there are several handy functions that make your life easier when dealing with files. These are collected in the `os.path` module. As per usual, I am not going to list all of them, but I will list the ones that you will use the most.\n\nIn these functions, the term \"path\" refers to a filename or a directory name, complete with parent directories (and drive letter). The parent directories (and drive letter) do not *need* to be there explicitly, but even if they are not, implicitly they still are as each file and each directory is located in a particular place in the file system.",
      "metadata": {
        "cell_id": "00042-c0561b77-5209-4429-8701-3bb41fde0035",
        "deepnote_cell_type": "markdown"
      }
    },
    {
      "cell_type": "markdown",
      "source": "### `exists()`",
      "metadata": {
        "cell_id": "00043-35d272fc-6856-4654-9a26-926abec5e3d0",
        "deepnote_cell_type": "markdown"
      }
    },
    {
      "cell_type": "markdown",
      "source": "The function `exists()` gets a path as argument, and returns `True` if that path exists, and `False` if it does not.",
      "metadata": {
        "cell_id": "00044-23bcc3ff-d30f-4a33-ade1-57bfbc61dffe",
        "deepnote_cell_type": "markdown"
      }
    },
    {
      "cell_type": "code",
      "metadata": {
        "cell_id": "00045-4ff33d5b-6649-4846-94b8-1370cdeac1e1",
        "deepnote_to_be_reexecuted": false,
        "source_hash": "fe3a93ad",
        "execution_millis": 10,
        "execution_start": 1616083015108,
        "deepnote_cell_type": "code"
      },
      "source": "from os.path import exists\n\ndef check_if_path_exists(file_name):\n    if exists(file_name ):\n        return( file_name + \" exists\" )\n    else:\n        return( file_name + \" does not exist\" )\n\nprint(check_if_path_exists(\"text-files/Shakespeare.txt\"))\nprint(check_if_path_exists(\"text-files/TorresMapfre.txt\"))\n\nexists(\"Shakespeare.txt\")",
      "execution_count": null,
      "outputs": [
        {
          "name": "stdout",
          "text": "text-files/Shakespeare.txt exists\ntext-files/TorresMapfre.txt does not exist\n",
          "output_type": "stream"
        },
        {
          "output_type": "execute_result",
          "execution_count": 91,
          "data": {
            "text/plain": "False"
          },
          "metadata": {}
        }
      ]
    },
    {
      "cell_type": "markdown",
      "source": "### `isfile()`",
      "metadata": {
        "cell_id": "00046-c0015585-1a61-49b4-9445-8b87cbbe38f8",
        "deepnote_cell_type": "markdown"
      }
    },
    {
      "cell_type": "markdown",
      "source": "`isfile()` tests if the path that is supplied as argument is a file. If it is, it returns `True`. If it is not, it returns `False`. If the path does not exist, the function also returns `False`.",
      "metadata": {
        "cell_id": "00047-25b59674-a454-43b7-86bc-fe092d24e6f0",
        "deepnote_cell_type": "markdown"
      }
    },
    {
      "cell_type": "code",
      "metadata": {
        "cell_id": "00048-dbfe3067-f58c-49ef-99ea-dbbabf040ded",
        "deepnote_to_be_reexecuted": false,
        "source_hash": "6fbdbc25",
        "execution_millis": 8,
        "execution_start": 1616083064240,
        "deepnote_cell_type": "code"
      },
      "source": "from os.path import isfile\n\ndef check_if_file_exists(file_name):\n    if isfile( file_name ):\n        return( file_name + \" is a file\" )\n    else:\n        return( file_name + \" is not a file\" )\n    \nprint(check_if_file_exists(\"Shakespeare.txt\"))",
      "execution_count": null,
      "outputs": [
        {
          "name": "stdout",
          "text": "Shakespeare.txt is not a file\n",
          "output_type": "stream"
        }
      ]
    },
    {
      "cell_type": "markdown",
      "source": "### `isdir()`",
      "metadata": {
        "cell_id": "00049-ac4559fd-23e7-4634-8782-0039f6e487cc",
        "deepnote_cell_type": "markdown"
      }
    },
    {
      "cell_type": "markdown",
      "source": "`isdir()` tests if the path that is supplied as argument is a directory. If it is, it returns `True`. If it is not, it returns `False`. If the path does not exist, the function also returns `False`.",
      "metadata": {
        "cell_id": "00050-5204a40a-ea32-40e2-b440-ea7398bfaad0",
        "deepnote_cell_type": "markdown"
      }
    },
    {
      "cell_type": "code",
      "metadata": {
        "cell_id": "00051-bc5bda10-e8d2-450b-b50c-63d7c66b842e",
        "deepnote_to_be_reexecuted": false,
        "source_hash": "ca9405ef",
        "execution_start": 1616079465184,
        "execution_millis": 33,
        "deepnote_cell_type": "code"
      },
      "source": "from os.path import isdir\n\ndef check_if_path_is_dir(file_name):\n    if isdir( file_name):\n        print( file_name + \" Sheakspeare is a directory\" )\n    else:\n        print(file_name + \" is not a directory\" )\ncheck_if_path_is_dir(\"Shakespeare.txt\")",
      "execution_count": null,
      "outputs": [
        {
          "name": "stdout",
          "text": "Shakespeare.txt is not a directory\n",
          "output_type": "stream"
        }
      ]
    },
    {
      "cell_type": "markdown",
      "source": "### `basename()`",
      "metadata": {
        "cell_id": "00052-965329f7-ddc8-4379-ad18-ef70f576db63",
        "deepnote_cell_type": "markdown"
      }
    },
    {
      "cell_type": "markdown",
      "source": "`basename()` extracts the filename from a path, and returns it. ",
      "metadata": {
        "cell_id": "00053-dac2ea36-b554-4554-b72d-f7d13e665342",
        "deepnote_cell_type": "markdown"
      }
    },
    {
      "cell_type": "code",
      "metadata": {
        "cell_id": "00054-ef218c89-640e-4292-9e75-d119c4d710b0",
        "deepnote_to_be_reexecuted": false,
        "source_hash": "51e2a61",
        "execution_start": 1616079465185,
        "execution_millis": 32,
        "deepnote_cell_type": "code"
      },
      "source": "from os.path import basename\n\nprint( basename( \"/System/Home/readme.txt\" ) )",
      "execution_count": null,
      "outputs": [
        {
          "name": "stdout",
          "text": "readme.txt\n",
          "output_type": "stream"
        }
      ]
    },
    {
      "cell_type": "markdown",
      "source": "### `dirname()`",
      "metadata": {
        "cell_id": "00055-cd4aec53-aeeb-4edd-91c9-f68753b0dd93",
        "deepnote_cell_type": "markdown"
      }
    },
    {
      "cell_type": "markdown",
      "source": "`dirname()` extracts the directory name from a path, and returns it.",
      "metadata": {
        "cell_id": "00056-5daaf4e1-0aa6-4d52-86ee-4c8ccc8e1a9c",
        "deepnote_cell_type": "markdown"
      }
    },
    {
      "cell_type": "code",
      "metadata": {
        "cell_id": "00057-46e718d1-331d-4e87-9627-b3026cdbfd6b",
        "deepnote_to_be_reexecuted": false,
        "source_hash": "c9aa799c",
        "execution_millis": 7,
        "execution_start": 1616083176545,
        "deepnote_cell_type": "code"
      },
      "source": "from os.path import dirname\n\nprint( dirname( \"/System/Home/readme.txt\" ) )",
      "execution_count": null,
      "outputs": [
        {
          "name": "stdout",
          "text": "/System/Home\n",
          "output_type": "stream"
        }
      ]
    },
    {
      "cell_type": "markdown",
      "source": "### `getsize()`",
      "metadata": {
        "cell_id": "00058-ecbf13e4-be59-4d4d-a2a5-cc29ce0f59c9",
        "deepnote_cell_type": "markdown"
      }
    },
    {
      "cell_type": "markdown",
      "source": "`getsize()` gets the size of the file that is supplied as argument, and returns it as an integer. The file must exist, otherwise you get a runtime error.",
      "metadata": {
        "cell_id": "00059-4349c9d9-5cf1-404c-a8f7-cb59512111df",
        "deepnote_cell_type": "markdown"
      }
    },
    {
      "cell_type": "code",
      "metadata": {
        "cell_id": "00060-12301125-cf12-4980-b0e0-942596ba0dfa",
        "deepnote_to_be_reexecuted": false,
        "source_hash": "ca7b99b5",
        "execution_millis": 835,
        "execution_start": 1616083204660,
        "deepnote_cell_type": "code"
      },
      "source": "from os.path import getsize\n\nnumbytes = getsize(\"text-files/Shakespeare.txt\")\nprint( numbytes )",
      "execution_count": null,
      "outputs": [
        {
          "name": "stdout",
          "text": "6731\n",
          "output_type": "stream"
        }
      ]
    },
    {
      "cell_type": "markdown",
      "source": "---",
      "metadata": {
        "cell_id": "00061-83846e1e-5c65-4ab1-992f-670af554a7f3",
        "deepnote_cell_type": "markdown"
      }
    },
    {
      "cell_type": "markdown",
      "source": "## File encoding",
      "metadata": {
        "cell_id": "00062-74a9d907-1a59-4f56-bdea-86a028d21ca0",
        "deepnote_cell_type": "markdown"
      }
    },
    {
      "cell_type": "markdown",
      "source": "Text files use an \"encoding\", i.e., a system that prescribes how characters in the files are supposed to be interpreted. This encoding may differ between operating systems. You can see the preferred encoding that your system uses with a call to `sys.getfilesystemencoding()`.",
      "metadata": {
        "cell_id": "00063-d50c542a-178f-454f-b2e9-013db19483dc",
        "deepnote_cell_type": "markdown"
      }
    },
    {
      "cell_type": "code",
      "metadata": {
        "cell_id": "00064-f823fcba-0c10-4571-80e4-2b5cb3fd9aa8",
        "deepnote_to_be_reexecuted": true,
        "source_hash": "9ddacf73",
        "deepnote_cell_type": "code"
      },
      "source": "from sys import getfilesystemencoding\n\nprint( getfilesystemencoding() )",
      "execution_count": null,
      "outputs": [
        {
          "name": "stdout",
          "output_type": "stream",
          "text": "ascii\n"
        }
      ]
    },
    {
      "cell_type": "markdown",
      "source": "If you read a text file which uses a different encoding than your file system prefers, you may get a `UnicodeDecodeError`. Whether or not you get this error for a particular file, is related to your operating system. An annoying consequence of that is that when you port Python code that reads a file to another system, a file that could be read by your code previously may cause your code to crash after the port.\n\nAn easy way to get around this problem is by adding an extra parameter when opening a file, which indicates the encoding mechanism that you want to use when reading the file. You do this by adding a parameter \"`encoding=<encodingname>`\", where `<encodingname>` is a string that can have a variety of values, for which some typical ones are:\n\n    ascii       7-bits encoding, supports characters with values in the range 00-7F\n    latin-1     8-bits encoding, supports characters with values in the range 00-FF\n    mbcs        2-byte encoding, that is currently getting replaced by UTF-8\n    utf-8       variable bytes encoding\n\nTypically, text files are created with `ascii` or `latin-1` encoding. Since `ascii` is incorporated in `latin-1`, you can safely open any text file by specifying `latin-1` as encoding. It is possible that for the characters beyond the `ascii` range, you get different characters than the person who created the file wanted you to see -- that depends on the encoding mechanism that your file system uses. But at least the `UnicodeDecodeError` is avoided.\n\nNote that while `utf-8` supports a much wider range of characters than `latin-1`, you may still get the `UnicodeDecodeError` when you read a text file that uses `latin-1` encoding on a system that uses `utf-8` encoding, as `utf-8` has no corresponding characters with values in the range 80-FF.\n",
      "metadata": {
        "cell_id": "00065-dc784800-2166-4d2e-a841-e0c764f4506b",
        "deepnote_cell_type": "markdown"
      }
    },
    {
      "cell_type": "markdown",
      "source": "**Exercise**: If you change the encoding mechanism for this file to `utf-8`, it will enforce the `UnicodeDecodeError` as it contains characters with numbers in the range 80-FF. Try this.\n\nIf you want to see which special characters are supported with values in the range 80-FF on your system, run the code below. The numerical value of a character in the table can be derived by calculating `16*row+col`, whereby `row` and `col` are the hexadecimal row and column number, respectively. I do not display the characters in the range 80-9F, as these are normally not filled in.",
      "metadata": {
        "cell_id": "00066-f58e0842-3582-432b-8276-caa85b468269",
        "deepnote_cell_type": "markdown"
      }
    },
    {
      "cell_type": "code",
      "metadata": {
        "cell_id": "00067-62fcf146-2abc-46f2-ae65-029cfff34dad",
        "deepnote_to_be_reexecuted": true,
        "source_hash": "513036c2",
        "deepnote_cell_type": "code"
      },
      "source": "#Your Code Here",
      "execution_count": null,
      "outputs": [
        {
          "name": "stdout",
          "output_type": "stream",
          "text": " 0 1 2 3 4 5 6 7 8 9 A B C D E F\nA   ¡ ¢ £ ¤ ¥ ¦ § ¨ © ª « ¬ ­ ® ¯\nB ° ± ² ³ ´ µ ¶ · ¸ ¹ º » ¼ ½ ¾ ¿\nC À Á Â Ã Ä Å Æ Ç È É Ê Ë Ì Í Î Ï\nD Ð Ñ Ò Ó Ô Õ Ö × Ø Ù Ú Û Ü Ý Þ ß\nE à á â ã ä å æ ç è é ê ë ì í î ï\nF ð ñ ò ó ô õ ö ÷ ø ù ú û ü ý þ ÿ\n"
        }
      ]
    },
    {
      "cell_type": "markdown",
      "source": "---",
      "metadata": {
        "cell_id": "00068-55ba8d21-4873-489c-8425-3a41e23a5c3f",
        "deepnote_cell_type": "markdown"
      }
    },
    {
      "cell_type": "markdown",
      "source": "## What you learned",
      "metadata": {
        "cell_id": "00069-17bf906c-182f-4c04-9e8c-c6a5206a1bea",
        "deepnote_cell_type": "markdown"
      }
    },
    {
      "cell_type": "markdown",
      "source": "In this chapter, you learned about:\n\n- Text files\n- File pointers\n- Opening and closing files with `open()` and `close()`\n- Reading files with `read()`, `readline()`, and `readlines()`\n- Writing files with `write()` and `writelines()`\n- Appending to files\n- `os.path` methods `exists()`, `isfile()`, `isdir()`, `join()`, `basename()`, `dirname()`, and `getsize()`\n- Dealing with text files with different encoding mechanisms",
      "metadata": {
        "cell_id": "00070-e20c2d5f-d11f-4a17-923e-4b231f750712",
        "deepnote_cell_type": "markdown"
      }
    },
    {
      "cell_type": "markdown",
      "source": "---",
      "metadata": {
        "cell_id": "00071-b21dbd60-d620-4636-aea3-c1703ecb9d6f",
        "deepnote_cell_type": "markdown"
      }
    },
    {
      "cell_type": "markdown",
      "source": "## Exercises",
      "metadata": {
        "cell_id": "00072-d43fd6f7-3d6a-48f7-b659-0f6e375bc8e7",
        "deepnote_cell_type": "markdown"
      }
    },
    {
      "cell_type": "markdown",
      "source": "### Exercise 11.1",
      "metadata": {
        "cell_id": "00073-a03dafb2-7659-4729-a83a-efcccbaabe1a",
        "deepnote_cell_type": "markdown"
      }
    },
    {
      "cell_type": "markdown",
      "source": "Write a program that reads the contents of the file \"`blakepoems.txt`\", splits it into words (where everything that is not a letter is considered a word boundary), and case-insensitively builds a dictionary that stores for every word how often it occurs in the text. Then print all the words with their quantities in alphabetical order.",
      "metadata": {
        "cell_id": "00074-b9a8148b-dcc8-4687-bf90-c7ff6c4477f4",
        "deepnote_cell_type": "markdown"
      }
    },
    {
      "cell_type": "code",
      "metadata": {
        "cell_id": "00075-eeb6edb5-4321-4452-bbf8-36065a3f8589",
        "deepnote_to_be_reexecuted": false,
        "source_hash": "1154d283",
        "execution_millis": 3766,
        "execution_start": 1616089410412,
        "deepnote_cell_type": "code"
      },
      "source": "# Counting words in blakepoems.txt.\ndef counting(text):\n    fp = open(text)\n    buffer=fp.read()\n    buffer=buffer.lower()\n    buffer=buffer.replace(\"\\n\",\"\").replace(\",\",\"\").replace(\".\",\"\").replace(\"?\",\"\")\n    buffer_list=buffer.split()\n\n    buffer_dict={}\n    for i in range(len(buffer_list)):\n        buffer_dict[buffer_list[i]]=0\n        for j in range(len(buffer_list)):\n            if buffer_list[j]==buffer_list[i]:\n                buffer_dict[buffer_list[i]]=buffer_dict[buffer_list[i]]+1\n            j=+1\n        i=+1\n    \n    for k in sorted(buffer_dict.keys()): print(\"%s: %s\" % (k, buffer_dict[k]))\n\ncounting(\"text-files/blakepoems.txt\")",
      "execution_count": null,
      "outputs": [
        {
          "name": "stdout",
          "text": "\"a: 1\n\"and: 4\n\"because: 1\n\"break: 1\n\"does: 1\n\"drop: 1\n\"father: 1\n\"follow: 1\n\"for: 1\n\"frowning: 1\n\"ha: 2\n\"hush: 1\n\"i: 3\n\"i've: 1\n\"if: 1\n\"lo: 1\n\"look: 1\n\"lost: 1\n\"love: 2\n\"no: 1\n\"nought: 1\n\"o: 1\n\"oh: 1\n\"ona: 1\n\"one: 1\n\"pipe: 1\n\"piper: 2\n\"prisoned: 1\n\"selfish: 1\n\"such: 1\n\"sweet: 1\n\"then: 1\n\"they: 1\n\"thou: 1\n\"turn: 1\n\"weep: 1\n\"weep!: 2\n\"well: 1\n\"what: 1\n\"where: 1\n\"wrath: 1\n&: 17\n'come: 1\n'twas: 1\n(grave: 1\n--: 9\n1780thelithe: 1\n1789]you: 1\n[poems: 1\na: 125\na-sleeping: 1\nabout: 1\nabroad: 1\nabstract: 1\nache: 1\nadmired: 1\nadona: 1\nafar: 1\naffrightwhy: 1\nafter: 2\nagain: 1\nagain;: 1\nagain;\": 1\nagainst: 1\nage: 2\naged: 1\nagree: 1\nah: 4\nair: 3\nair:ah!: 1\nairdescend: 1\nairto: 1\nairy: 1\nalas!: 1\nalbion's: 1\nale: 1\nalehouse: 1\nall: 36\nall:: 1\nallay: 1\nallwalks: 1\nalone: 1\naltar: 1\nalways: 1\nam: 15\nam;: 1\nambush: 1\namong: 7\namong:: 1\nan: 21\nancient: 3\nand: 323\nangel: 8\nangel-guarded: 1\nangels: 2\nangry: 2\nannoy: 1\nanother: 4\nanother's: 4\nanswer: 2\nanswerd: 2\nanswered: 1\nanswered:: 1\nanvil: 1\nanxious: 1\nany: 3\nappall: 1\nappals: 1\napparel: 1\nappear: 2\nappeared: 1\nappears: 1\napple: 1\nare: 25\narise: 7\narise;: 2\narm: 2\narmed: 4\narms: 1\narose: 1\naround: 4\naround!: 1\narrow: 1\narrows: 1\nart: 5\nartful: 1\nas: 16\nask: 2\nasleep: 1\nasleep\": 1\naspire: 2\nastonish'd: 1\nat: 7\nauthor: 1\naway: 16\naway!: 1\naway:then: 1\naway;: 2\nawayand: 2\nawaybut: 1\nawayit: 1\nawoke: 1\nbabe: 2\nbabes: 2\nback: 3\nbags: 2\nbaits: 1\nbalmy: 1\nban: 1\nband: 1\nbands: 1\nbandy: 1\nbane: 1\nbank: 1\nbar:thel: 1\nbard: 2\nbare: 2\nbarrel: 1\nbe: 20\nbe!: 4\nbe;: 1\nbeadles: 1\nbeams: 2\nbeams!: 1\nbear: 5\nbearing: 1\nbears: 1\nbeast: 1\nbeasts: 2\nbeat: 1\nbeauty: 5\nbecame: 2\nbecause: 4\nbecome: 1\nbecomes: 2\nbed: 6\nbed\": 1\nbedart: 1\nbeen: 2\nbeetle: 1\nbeetle's: 1\nbefall: 2\nbefore: 6\nbefore;: 1\nbegan: 3\nbeguile: 2\nbeguiled: 1\nbeguiled!: 1\nbeguiles: 1\nbeheld: 1\nbehind: 1\nbehold: 1\nbells: 1\nbells': 1\nbeneath: 2\nbenighted: 1\nbereaved: 1\nbeside: 4\nbesides: 2\nbest: 1\nbetray: 1\nbid: 1\nbind: 2\nbinding: 1\nbinds: 1\nbirch: 1\nbird: 2\nbird's: 2\nbirds: 9\nbirds': 1\nbirdsbut: 1\nbirth: 1\nblack: 8\nblackening: 1\nbladder: 1\nblade: 1\nblake: 3\nblake'sthe: 1\nblasts: 2\nbleak: 1\nbleating: 1\nbless: 3\nblessing: 2\nblights: 1\nblind: 1\nblood: 1\nblossom: 4\nblossoms: 3\nblown: 3\nblue: 1\nblushed: 1\nbodies: 1\nbondage: 1\nbones: 2\nbook: 6\nbore: 6\nbore;: 1\nborn: 3\nbosom: 4\nboth: 6\nbound: 2\nbound\": 1\nbow: 1\nbowd: 2\nbowed: 1\nbower: 2\nbowlthe: 1\nboy: 10\nboys: 2\nboywhy: 1\nbrain: 2\nbreak: 1\nbreast: 4\nbreastand: 1\nbreath: 2\nbreathed: 1\nbreathing: 1\nbriars: 1\nbright: 12\nbright;: 3\nbrings: 1\nbrook: 1\nbrooks:for: 1\nbrothers: 2\nbrought: 1\nbrows: 1\nbruis'd: 1\nbrush: 1\nbrushed: 1\nbrushes: 1\nbud: 1\nbuds: 2\nbuilds: 2\nbuilt: 1\nburned: 2\nburning: 3\nburnt: 1\nbush: 1\nbut: 31\nbutterfly: 1\nby: 22\nby:: 1\nby;: 1\ncage: 1\ncall: 3\ncall'd: 1\ncalled: 2\ncalling: 1\ncalls: 2\ncallthe: 1\ncame: 8\ncame;: 1\ncan: 26\ncan'st: 2\ncannot: 6\ncanst: 2\ncare: 10\ncare's: 1\ncare;: 1\ncaterpillar: 1\ncattle's: 1\ncaverns: 1\ncaves: 2\nceasd: 1\nceasing: 1\nchain: 3\nchained: 1\nchanged: 1\nchapel: 2\ncharge: 2\nchartered: 2\nchase: 1\nchaste: 1\ncheer: 1\ncheer:!\": 1\ncheerful: 1\ncherish: 2\ncherish'd: 1\ncherries: 1\nchild: 15\nchild!: 2\nchild;: 1\nchildren: 11\nchildren!: 1\nchimney: 1\nchimney-sweeper: 1\nchimney-sweeper's: 1\nchimneys: 1\nchorus: 1\nchurch: 6\nclasp: 1\nclay: 4\nclean: 1\nclear: 1\nclime: 3\nclod: 3\nclose: 2\nclosed: 1\nclothed: 2\nclothes: 1\nclothing: 2\ncloud: 13\ncloudand: 1\ncloudlike: 1\nclouds: 3\ncoat: 1\ncock: 1\ncoffins: 2\ncoined: 1\ncold: 6\ncold;: 1\ncome: 9\ncomfort: 1\ncompanies: 1\ncompany!: 1\ncompelled: 1\ncomplain: 1\ncomplaind: 1\ncomplainest: 1\ncomplainwhy: 1\nconsumed: 1\ncontagious: 1\ncontrol: 1\nconveyed: 1\ncouches: 1\ncouching: 1\ncould: 6\ncountest: 1\ncourt: 1\ncovered: 3\ncow: 1\ncradle: 2\ncrave: 1\ncreation: 1\ncreations: 1\ncried: 1\ncries: 1\ncrime: 1\ncrimson: 1\ncrops: 1\ncrow: 1\ncrown: 3\ncruel: 2\ncruelty: 3\ncrumbs: 1\ncry: 7\ncrying: 1\ncurb: 1\ncurled: 1\ncurse: 1\ncurtain: 1\ncurtains: 1\ndacre: 1\ndale: 3\ndame: 1\ndance: 2\ndangerous: 1\ndank: 1\ndare: 4\ndark: 6\ndarkbut: 1\ndarkening: 1\ndarkness: 2\ndaughter: 1\ndaughters: 1\nday: 17\nday\": 1\nday:down: 1\ndays: 4\ndead: 1\ndead;: 1\ndeadly: 1\ndear: 2\ndear;: 1\ndeath: 5\ndeath;: 1\ndeceit: 1\ndeceitful: 1\ndeep: 8\ndeep): 1\ndeeps: 1\ndelight: 12\ndelight!: 2\ndelights: 1\ndell: 1\nden: 1\ndescend: 1\ndescended: 1\ndescending: 2\ndesert: 5\ndeserts: 1\ndesire: 1\ndesires: 1\ndesirethe: 1\ndespair: 1\ndespair\": 1\ndespite\": 1\ndestroy: 2\ndestroy:: 1\ndestructionor: 1\ndevil: 1\ndew: 1\ndew;: 2\ndewo: 1\ndews: 2\ndewy: 3\ndick: 1\ndid: 12\ndidst: 3\ndie: 1\ndied: 1\ndied;: 1\ndimpling: 1\ndisguise: 1\ndismal: 2\ndismay: 2\ndisputes: 1\ndistant: 2\ndistress: 2\ndivine: 4\ndivine:: 1\ndivine;: 1\ndo: 9\ndoes: 16\ndome: 1\ndone: 2\ndone;: 1\ndoor: 1\ndoor\": 1\ndoor;: 1\ndost: 4\ndoth: 7\ndoubt: 1\ndovelike: 2\ndoves: 1\ndown: 17\ndown:wilt: 1\ndownand: 1\ndraw: 1\ndrawnwhere: 1\ndread: 5\ndreadful: 1\ndream: 3\ndream!: 1\ndreams: 3\ndreamt: 1\ndrear: 1\ndreary: 1\ndress: 4\ndried: 1\ndrink: 4\ndrive: 2\ndriven: 2\ndrives: 1\ndroop: 1\ndrooping: 1\ndropped: 1\nduty: 1\ndwell: 3\ndwelling: 1\neach: 5\neagle: 1\near: 2\nears: 2\nearth: 9\nearth's: 1\nease: 2\neast: 1\neat: 1\nechoed: 1\nechoing: 3\nelse: 2\nemerg'dhovering: 1\nemily: 1\nemmet: 1\nend: 2\nendless: 1\nenglish: 2\nengraved: 1\nenter: 2\nenter'd: 1\nenterand: 1\neternal: 4\nevening: 5\never: 4\nevery: 17\neverything: 1\nevil: 1\newes': 1\nexhaldin: 1\nexperience: 1\nexperienceand: 1\nexperiencewilliam: 1\neye: 5\neyed: 1\neyelids: 1\neyes: 6\neyes!: 1\neyes\": 1\neyeso: 1\nface: 7\nface;: 3\nfacelike: 1\nfaces: 1\nfacewiping: 1\nfade: 5\nfades: 3\nfaint: 1\nfair: 1\nfall: 1\nfallah!: 1\nfallen: 3\nfalling: 1\nfalls: 1\nfalse: 1\nfamished: 1\nfancied: 1\nfarewell: 1\nfast!: 1\nfasting: 1\nfather: 19\nfather's: 2\nfear: 9\nfear!: 2\nfearest: 1\nfearful: 2\nfears: 5\nfed: 2\nfeed: 4\nfeel: 3\nfeet: 4\nfeetivthe: 1\nfen: 1\nfibrous: 1\nfields: 2\nfiend: 2\nfierce: 1\nfiery: 1\nfighting: 1\nfilled: 6\nfind: 3\nfind:: 1\nfire: 3\nfire-breathing: 1\nfix'd: 1\nflame: 1\nfled: 4\nfled;: 1\nflesh: 1\nflew: 2\nflies: 1\nflocks: 1\nflocksall: 1\nfloor: 1\nflourish: 1\nflow: 3\nflowed: 1\nflower: 4\nflowers: 5\nflowers:: 1\nflowers:and: 1\nflowers:but: 1\nflowersdost: 1\nflowerthou: 1\nflute!: 1\nfly: 7\nfoe: 2\nfoe:: 1\nfold\": 1\nfold:: 1\nfolk: 1\nfollow: 2\nfollowed: 1\nfolly: 1\nfondness: 1\nfood: 3\nfood:but: 1\nfoot: 1\nfootthat: 1\nfor: 29\nforest: 1\nforests: 1\nforge: 1\nforged: 1\nforget: 1\nforgot: 1\nforlorn: 1\nform: 7\nform:: 1\nformer: 1\nforth: 2\nfound: 3\nfountains: 1\nframe: 2\nfree: 3\nfree:: 2\nfree;: 1\nfreeze: 1\nfresh: 1\nfriend:: 1\nfrom: 32\nfrowning: 1\nfruit: 1\nfruitful: 1\nfruits: 2\nfull: 1\nfurnace: 2\nfurther: 1\nfuture: 2\nfuturity: 1\ngambolled: 1\ngarden: 7\ngarmentshe: 1\ngates: 2\ngather: 1\ngave: 3\ngeneration: 1\ngentle: 5\ngently: 1\ngifts: 1\ngilded: 1\ngirl: 4\ngirls: 2\ngive: 3\ngiven: 3\ngives: 4\nglad: 1\nglass:: 1\nglee: 1\nglistening: 1\nglittering: 1\nglitters: 1\nglow-worm: 1\ngo: 7\ngo!: 1\ngod: 11\ngods: 1\ngoes: 1\ngoing: 1\ngold: 4\ngold!why: 1\ngold:: 1\ngolden: 8\ngone: 6\ngood: 1\ngorge: 1\ngot: 1\ngowns: 1\ngraces: 1\ngrasp: 1\ngrass: 4\ngrass!: 1\ngrassanswerd: 1\ngrasshopper: 1\ngrassiio: 1\ngrave: 1\ngraves: 2\ngraveshe: 1\ngraze: 1\ngreat: 2\ngreater: 1\ngreen: 14\ngreen\": 1\ngreen:: 1\ngrew: 1\ngrey: 2\ngrey-headed: 1\ngrief: 4\ngriefs: 1\ngroan: 1\ngroaned: 1\nground: 4\ngroundtill: 1\ngrove: 3\ngrow: 2\ngrowl: 1\ngrows: 1\nguard: 1\nguarded: 1\nguardians: 1\nha: 2\nhad: 7\nhair: 4\nhair!\": 1\nhair\": 1\nhairs: 1\nhallowed: 1\nhammer: 1\nhand: 8\nhands: 3\nhandsaying: 1\nhapless: 1\nhappy: 19\nhar: 4\nharlot's: 1\nharm: 1\nharm:: 1\nharmonious: 1\nhas: 5\nhath: 1\nhave: 17\nhe: 50\nhe!\": 2\nhe'd: 2\nhe:: 1\nhead: 7\nhead!: 1\nhead's: 1\nhead:and: 1\nhead:she: 1\nheadand: 2\nheadyet: 1\nhealth: 1\nhealthy: 1\nhear: 15\nhear:: 1\nheard: 11\nheard;and: 1\nhearing: 1\nhears: 4\nheart: 9\nheart's: 1\nheart-broke: 1\nheat: 5\nheath: 2\nheathen: 1\nheaven: 7\nheaven's: 3\nheavenly: 1\nheavy: 2\nheedful: 1\nhell: 1\nhell's: 1\nhelpless: 4\nher: 34\nhere: 1\nhere!: 1\nhid: 2\nhide: 1\nhie: 1\nhigh: 3\nhill: 2\nhills: 2\nhim: 11\nhimself: 1\nhis: 57\nhither: 1\nhoar;: 1\nhoarse: 1\nhoary: 1\nhollow: 3\nholy: 12\nholy:unseen: 1\nhome: 3\nhome!\": 1\nhoney: 1\nhoney;: 1\nhorn: 1\nhorn:: 1\nhorses:: 1\nhour: 1\nhour;: 1\nhouse: 1\nhover: 3\nhow: 13\nhowl: 2\nhowling: 1\nhum: 1\nhum;: 1\nhuman: 16\nhumble: 4\nhumid: 1\nhumility: 1\nhunger: 1\nhungry: 1\nhuntsman: 1\ni: 117\ni'll: 4\nif: 16\nimage: 7\nimage\": 1\nimmortal: 3\nimpress'd: 1\nin: 139\nincrease: 1\nindeed:my: 1\nindignant: 1\ninfant: 12\ninfant's: 4\ninfants: 3\ninfixes: 1\ninhaling: 1\ninherit: 1\ninjury: 1\ninnocence: 3\ninnocent: 4\ninto: 5\nintroduction: 2\ninvisible: 1\ninwhy: 1\niron: 2\nis: 51\nit: 25\nit's: 1\nit;: 1\nits: 14\nitself: 6\nitself:: 1\nitwith: 1\njack: 1\njealous: 1\njealousy: 3\njesus: 1\njew: 1\njoe: 1\njohn: 1\njoin: 1\njourney: 1\njoy: 23\njoy!: 1\njoy;: 1\njoys: 3\njudge: 1\njust: 1\nkeep: 3\nkey: 1\nkind: 1\nkindled: 1\nking: 1\nkingly: 1\nkiss: 2\nkissed: 3\nkisses: 2\nknee;: 1\nkneels: 1\nknew: 4\nknits: 1\nknow: 9\nknow'st: 1\nknowi: 1\nlaid: 1\nlamb: 13\nlamb!\": 1\nlamb's: 1\nlambs: 4\nlambs': 1\nlamentation: 1\nlamentations:: 1\nland: 5\nlap: 1\nlaps: 1\nlapsed: 1\nlark: 1\nlaugh: 6\nlaughed: 1\nlaughing: 5\nlaughs: 2\nlay: 9\nlay;: 1\nlead: 1\nleaf;ah: 1\nleafand: 1\nlean: 1\nleaped: 1\nleaping: 1\nleapt: 1\nlearn: 1\nlearn'd: 1\nlearning's: 1\nleave: 2\nleaves: 2\nled: 5\nledappendix: 1\nleft: 1\nleopards: 1\nlest: 1\nlet: 7\nlick: 2\nlicks: 1\nlie: 1\nlie!or: 1\nlies: 1\nlife: 7\nlife's: 1\nlifted: 1\nlight: 11\nlike: 32\nlilly: 1\nlillys: 2\nlily: 5\nlimbs: 1\nlink'd: 1\nlion: 3\nlion's: 2\nlioness: 1\nlistning: 1\nlistningdolors: 1\nlittle: 45\nliv'dor: 1\nlive: 6\nlivelong: 2\nlively: 1\nliveslives: 1\nlocked: 1\nlocks: 1\nlondon: 2\nlonely: 3\nlong: 1\nlook: 4\nlookst: 1\nloosed: 1\nloss: 1\nlost: 6\nlost\": 1\nlot!: 1\nlotqueen: 1\nlotus: 1\nloud: 1\nlouder: 1\nlove: 26\nloved: 1\nlovely: 4\nloves: 3\nlovethe: 1\nloving: 1\nlowly: 3\nlurch: 1\nluvah: 1\nlyca: 8\nlyca's: 1\nmade: 6\nmaid: 6\nmaid;: 1\nmaiden: 4\nmake: 5\nmaker: 4\nmaking: 2\nman: 6\nmanacles: 1\nmane: 3\nmanna:till: 1\nmany: 7\nmark: 1\nmarks: 2\nmarriage-hearse: 1\nmary: 1\nmass: 1\nmatron: 1\nmay: 6\nmaze;: 1\nme: 27\nme\": 2\nme:: 3\nme;: 1\nmead;: 1\nmeadows: 1\nmean: 1\nmeanest: 1\nmeek: 1\nmeek;: 1\nmeekin: 1\nmeekness: 1\nmeet: 2\nmeet:: 1\nmellowing: 1\nmelts: 1\nmen: 3\nmen!: 1\nmercy: 8\nmerrily: 7\nmerry: 8\nmerry:: 1\nmet: 1\nmethought: 1\nmetres: 1\nmewhy: 1\nmidnight: 1\nmidst: 1\nmight: 2\nmighty: 1\nmild: 6\nmild:: 1\nmilk: 1\nmilked: 1\nmilky: 2\nmind: 4\nmind-forged: 1\nmine: 2\nmire: 1\nmisery: 1\nmisery\": 1\nmistress: 1\nmne: 1\nmoan: 3\nmoans: 3\nmodest: 4\nmole:can: 1\nmoon: 2\nmoony: 1\nmore: 7\nmore;: 1\nmorenothing: 1\nmorn: 8\nmorning: 10\nmortal: 4\nmost: 3\nmother: 17\nmother's: 2\nmothers: 2\nmottodoes: 1\nmould: 1\nmouth: 1\nmouths: 1\nmove: 1\nmultitude: 1\nmultitudes: 2\nmusic: 1\nmust: 3\nmute!: 1\nmutual: 1\nmy: 82\nmystery: 2\nmystery\": 1\nnaked: 4\nnaked:: 1\nname: 3\nname\": 1\nname;: 1\nnarrow: 1\nnature: 1\nne'er: 1\nnear: 6\nneck: 1\nneck;: 1\nned: 1\nneed: 1\nnest: 4\nnever: 16\nneverincluded: 1\nnew: 1\nnew-born: 3\nnext: 1\nnibbled: 1\nnigh: 2\nnight: 27\nnight;: 1\nnightingale: 1\nnights: 1\nnipped: 1\nno: 15\nno!: 2\nnoise: 1\nnoise;: 1\nnone: 3\nnoonday: 1\nnor: 15\nnorthern: 1\nnostril: 1\nnostrils: 1\nnot: 36\nnot\": 1\nnote:: 1\nnotes: 2\nnothing: 1\nnourish: 1\nnow: 7\nnumerous: 1\nnuptial: 1\nnurse's: 2\nnuts: 1\no: 8\no'er: 12\no're: 1\noak: 1\nof: 144\noff: 1\noffered: 1\noft: 1\noh: 10\noil: 2\nold: 5\nold\": 1\non: 44\nonce: 4\none: 3\nones: 3\nonly: 3\nopened: 1\nopening: 1\nor: 16\nothers: 1\nour: 22\nourselvesthou: 1\nout: 5\noutstretched: 1\noutworn: 1\nover: 8\nown: 4\npage: 1\npainted: 1\npair: 1\npalace: 1\npalace-walls: 1\npale: 5\npaleness: 1\nparents: 4\nparson: 1\nparsons: 1\npart: 1\npart:but: 1\nparting: 1\npartner: 1\npass: 2\npassed: 1\npast: 1\npathless: 1\npaul's: 1\npeace: 9\npeaceful: 1\npearly: 1\npebble: 2\npen: 1\npensive: 1\nperches: 1\nperfumewhich: 1\nperplex: 1\npicks: 1\npined: 1\npipe: 2\npipe;: 1\npiped: 1\npiped:: 1\npiping: 3\npiteous: 1\npitor: 1\npitwhy: 1\npity: 9\npitying: 5\nplace: 1\nplacequeen: 1\nplagues: 1\nplain: 1\nplants: 1\nplay: 8\nplay;: 1\npleasant: 5\nplease: 2\nplot: 1\nplough: 1\nplowman: 1\npluck'd: 1\npointed: 1\npoison: 2\npole: 1\npole;: 1\nponder: 1\nponder;: 1\npoor: 4\nporter: 1\npossible: 1\npour: 2\npouring: 1\npours: 1\npoverty: 1\npoverty!: 1\npraise: 2\npray: 3\nprays: 2\npreach: 1\npresent: 1\npresse: 1\npretty: 8\nprey: 2\nprey;: 1\npride: 1\npriest: 2\npriestly: 1\npriests: 1\nprime: 1\nprinter: 1\nprophetic: 1\npull: 1\npunish: 1\npurify: 1\nput: 2\nputs: 1\nquarrel: 1\nqueen: 2\nqueenthe: 1\nquiet: 1\nradiance: 1\nrain: 1\nrais'd: 1\nraise: 1\nraised: 1\nraising: 1\nraptures: 1\nraven: 1\nread: 1\nread\": 1\nreading: 1\nready: 2\nreason: 2\nreceive: 2\nreclind: 1\nred: 1\nreduced: 1\nreed: 1\nreflection: 1\nregale: 1\nrejoice: 2\nrejoice'\": 1\nrejoicing: 1\nrelief: 1\nremains;: 1\nremoved: 1\nrenew: 1\nrenew!: 1\nreplied: 1\nreply;: 1\nrest: 3\nrestless: 1\nreturn: 2\nreturn!: 1\nreturn:: 1\nrich: 1\nring: 1\nrise: 4\nrisen: 1\nrises: 1\nrising: 4\nriver: 3\nrobin: 1\nrobin!: 1\nrodor: 1\nroof: 1\nroot: 1\nroots: 1\nrootsof: 1\nrose: 9\nrosy: 1\nround: 8\nround:: 1\nrounds: 1\nruby: 1\nruddy: 2\nrun: 1\nruns: 2\nrural: 1\nrush: 1\nrushes: 1\nsaid: 6\nsaid:: 1\nsaid;: 1\nsaild: 1\nsame: 1\nsang: 2\nsat: 4\nsaw: 7\nsay: 4\nsay!\"--: 1\nsay:: 2\nsaying: 1\nsaying:: 1\nsays;: 1\nscarce: 1\nscarcely: 1\nscatter: 1\nscatters: 1\nscene: 1\nschool: 1\nschoolboy: 1\nsea: 1\nsealed: 1\nsearch: 1\nseat: 1\nseated: 1\nseats: 1\nsecresy: 1\nsecret: 2\nsecrets: 1\nsee: 16\nseek: 6\nseeketh: 2\nseeking: 2\nseemed: 1\nseen: 4\nseen;: 1\nseenshe: 1\nsees: 1\nsees;: 1\nseest: 1\nseize: 1\nseized: 1\nself: 1\nself-deceiving: 1\nselfish: 3\nsenseless: 1\nsentence: 1\nseraphim: 1\nset: 2\nsets: 1\nseven: 3\nsexes: 2\nshade: 6\nshadows: 2\nshady: 1\nshakes: 1\nshall: 19\nshalt: 2\nshame: 1\nshare: 1\nshaved;: 1\nshe: 10\nsheep: 3\nsheep\": 1\nshepherd: 2\nshepherd's: 1\nshewd: 1\nshields: 1\nshine: 5\nshine;: 1\nshining: 3\nshirt: 1\nshook: 1\nshore: 3\nshould: 6\nshoulder: 1\nshoulders: 1\nshouted: 1\nshower: 1\nshowring: 1\nshriek: 1\nshriekfled: 1\nshrinethel: 1\nshrouded: 1\nshut: 1\nsick: 1\nsick!: 1\nsickness: 1\nsigh: 4\nsighing: 1\nsighs: 1\nsighsand: 1\nsighshe: 1\nsight!: 1\nsight;: 1\nsilence: 1\nsilent: 8\nsilver: 3\nsinews: 1\nsing: 11\nsinging: 1\nsings: 1\nsisters: 1\nsit: 12\nsits: 2\nsittest: 1\nsitting: 2\nskies: 1\nskies\": 1\nskies;: 1\nskieshow: 1\nsky: 1\nsky--: 1\nskyand: 1\nskylark: 2\nsleep: 19\nsleep;: 2\nsleeping: 5\nsleeping;: 1\nslender: 1\nslept: 1\nslumber: 1\nslumbrous: 1\nsmall: 5\nsmall;: 2\nsmell: 1\nsmelling: 1\nsmells: 1\nsmild: 1\nsmile: 7\nsmile!why: 1\nsmiled: 2\nsmiles: 9\nsmiles;: 1\nsmilesthe: 1\nsmiling: 1\nsnare: 1\nsnow: 4\nso: 20\nsobbing: 2\nsoft: 5\nsoftest: 2\nsold: 1\nsoldier's: 1\nsome: 2\nsomebody: 1\nson: 1\nsong: 10\nsongs: 6\nsoon: 5\nsoot: 2\nsore;: 1\nsorrow: 9\nsorrow's: 1\nsorrows: 2\nsought: 3\nsoul: 2\nsouls: 2\nsound: 1\nsound;: 1\nsouthern: 2\nsow: 1\nsower: 1\nspace: 1\nsparrow!: 1\nspeak: 3\nspeak!: 1\nspears: 2\nspend: 2\nspirit: 2\nspoil: 1\nsport: 2\nsports: 2\nsprang: 1\nspray: 1\nspread:: 1\nspreads: 3\nspring: 5\nspring!: 1\nspring;: 2\nspringing: 1\nspringsrevives: 1\nspringsto: 1\nspringswhere: 1\nstain: 1\nstain'd: 1\nstalked: 1\nstand: 2\nstanding: 1\nstands: 1\nstar: 1\nstarry: 3\nstars: 1\nstarted: 1\nstarved: 1\nstays;: 1\nsteedbut: 1\nsteeds: 1\nsteps: 1\nstill: 1\nstole: 1\nstony: 1\nstood: 2\nstord: 1\nstorm: 1\nstrangers: 1\nstray: 1\nstrays: 1\nstream: 2\nstreams: 1\nstreet: 1\nstreets: 1\nstrength: 1\nstripped: 2\nstriving: 1\nstroke: 1\nstruggling: 1\nstumble: 1\nsuch: 5\nsulk: 1\nsummer: 4\nsummer's: 2\nsummers: 2\nsun: 7\nsun:: 1\nsun:i: 1\nsun;: 1\nsunburnt: 1\nsunflower: 3\nsunned: 1\nsunny: 2\nsuntill: 1\nsurprise;: 1\nsusan: 1\nswaddling-bands: 1\nsweep: 1\nsweeper: 1\nsweepers: 1\nsweet: 27\nsweeter: 1\nsweetest: 1\nswell: 1\nswift: 1\nsymmetry: 2\nta'en: 1\ntable: 1\ntaintsthy: 1\ntake: 3\ntakes: 1\ntames: 1\ntangle: 1\ntangled: 1\ntaught: 2\ntear: 5\ntear:: 1\ntears: 11\ntears;: 1\nteazing: 1\ntell: 6\nten-thousand: 1\ntend: 1\ntender: 9\ntenfold: 1\ntent: 2\ntentthe: 1\nterrific: 1\nterror: 3\nterrors: 1\nterzah: 1\nthames: 2\nthan: 1\nthankfulness: 1\nthat: 37\nthe: 423\nthee: 31\nthee!: 5\nthee:: 2\nthee:for: 1\nthee;: 1\ntheeand: 1\ntheei: 1\ntheir: 34\nthel: 8\nthelo: 1\nthelthe: 2\nthelthel's: 1\nthem: 8\nthen: 26\nthere: 10\nthere!: 1\nthere's: 1\ntherefore: 2\nthese: 6\nthey: 43\nthickest: 1\nthine: 2\nthing: 5\nthink: 4\nthirst: 1\nthis: 15\nthissongs: 1\nthistles: 1\nthorn: 2\nthorns: 2\nthorns:: 1\nthose: 1\nthou: 32\nthough: 2\nthought: 5\nthoughtless: 2\nthousand: 1\nthousands: 2\nthreat: 1\nthreat'ning: 1\nthrew: 1\nthro: 1\nthro': 1\nthrone: 2\nthrough: 7\nthrush: 1\nthunderings: 1\nthursday: 3\nthus: 3\nthusthen: 1\nthy: 30\ntiger: 5\ntigers: 3\ntill: 12\ntime: 3\ntimes: 1\ntimethe: 1\ntired: 3\ntiredthe: 1\ntis: 1\nto: 109\ntold: 5\ntom: 5\ntom!: 1\ntombstones: 1\ntongue: 4\ntoo: 3\ntook: 2\ntown!: 1\ntrace;: 1\ntraced: 1\ntransient: 1\ntravel-worn: 1\ntraveller's: 1\ntree: 6\ntree\": 1\ntree;: 3\ntrees: 1\ntrembling: 6\ntrodden: 1\ntroubled: 1\ntruth: 1\nturk: 1\nturn: 1\nturned: 2\nturning: 1\nturns: 1\ntwist: 1\ntwists:a: 1\ntwo: 4\nunder: 4\nunderneath: 3\nunhinderd: 1\nunited: 1\nunknown;she: 1\nunrest: 1\nunseen: 1\nup: 6\nupon: 14\nus: 5\nuse: 2\nused: 2\nusurous: 1\nutter: 1\nvagabond: 1\nvain: 2\nvain:: 3\nvain;: 1\nvaleiiithen: 1\nvales: 7\nvales:: 1\nvales:so: 1\nvalley: 3\nvalleygiving: 1\nvalleys: 4\nvanish: 3\nvanish'd: 1\nvapour: 1\nveiland: 1\nveiled: 1\nvenerates: 1\nverdant: 1\nvery: 3\nview'd: 1\nviewed: 1\nviewed:: 1\nvirgin: 9\nvirgins: 1\nvirtues: 1\nvision: 1\nvisit: 1\nvisited: 1\nvoice: 13\nvoicecome: 1\nvoiceless: 1\nvoiceof: 1\nvoices: 3\nvoicethe: 1\nwailing: 1\nwaiting: 1\nwake;: 1\nwalk: 3\nwalked: 2\nwalketh: 1\nwalking: 3\nwandered: 3\nwanderer: 1\nwanderers: 1\nwandering: 1\nwands: 1\nwant: 2\nwarbled: 1\nwarbling: 2\nwarm: 1\nwarm:: 1\nwarm;: 1\nwas: 30\nwash: 1\nwashed: 1\nwaste;: 1\nwasted: 1\nwatching: 1\nwatchman: 1\nwater: 1\nwatered: 2\nwaterlike: 1\nwaters: 2\nwaterwhy: 1\nwatery: 2\nwatry: 2\nwaves: 1\nway: 2\nways: 3\nways;: 1\nwe: 14\nwe'd: 3\nweak: 4\nweakness: 2\nweary: 5\nweave: 2\nweedand: 1\nweep: 13\nweep!: 2\nweep!\": 2\nweep:is: 1\nweep:that: 1\nweep;: 1\nweepand: 1\nweeping: 13\nweepingand: 1\nweigh: 1\nwelcome: 4\nwell: 1\nwell;: 1\nwent: 4\nwept: 8\nwept:: 1\nwere: 10\nwest: 1\nwet: 1\nwhat: 25\nwhate'er: 1\nwhen: 28\nwhere: 22\nwhere'er: 2\nwhile: 13\nwhile;: 1\nwhirlpool: 1\nwhisperings: 1\nwhite: 11\nwhite!: 1\nwho: 18\nwhose: 1\nwhy: 5\nwide: 1\nwight: 1\nwild: 9\nwildered: 1\nwiles: 1\nwilful: 1\nwill: 3\nwilliam: 1\nwillm: 1\nwilt: 2\nwind: 1\nwind;: 1\nwinds: 1\nwindwhy: 1\nwine: 1\nwing: 2\nwings: 3\nwinter: 3\nwinter's: 2\nwip'd: 1\nwiped: 1\nwiping: 1\nwisdom: 1\nwise: 1\nwish: 2\nwishes: 1\nwit: 1\nwith: 65\nwithin: 1\nwithout: 2\nwitless: 1\nwoe: 6\nwoe!: 1\nwoe-begone: 1\nwoe;: 1\nwoes: 1\nwolly: 1\nwolves: 1\nwolvish: 1\nwoman: 1\nwomen: 1\nwondering: 1\nwoods: 1\nwool;: 1\nword: 1\nwork: 3\nworld: 1\nworlds: 1\nworm: 8\nwormi: 1\nworms: 2\nwormsthe: 1\nworn: 2\nwould: 5\nwrapped: 1\nwrath: 3\nwren: 1\nwrit: 1\nwrite: 1\nwritten: 1\nwrote: 1\nyear: 5\nyet: 4\nyou: 8\nyou;: 1\nyoung: 1\nyoungest:: 1\nyour: 11\nyouth: 6\nyouth-time: 1\nyouthand: 1\nyouthful: 4\nzeal: 1\n",
          "output_type": "stream"
        }
      ]
    },
    {
      "cell_type": "markdown",
      "source": "### Exercise 11.2",
      "metadata": {
        "cell_id": "00076-dbe66aea-e0f3-4618-b3c8-32361c3fabe4",
        "deepnote_cell_type": "markdown"
      }
    },
    {
      "cell_type": "markdown",
      "source": "Do the same thing as you did for the previous exercise, but now process the text line by line. This is something that you would have to do if you had to process a very long text (as it is the case).",
      "metadata": {
        "cell_id": "00077-9cab2bf1-6ac0-426c-b5f6-e9b257594e7d",
        "deepnote_cell_type": "markdown"
      }
    },
    {
      "cell_type": "code",
      "metadata": {
        "cell_id": "00078-92e1338b-57c9-4095-9aba-15c9011b4d49",
        "deepnote_to_be_reexecuted": false,
        "source_hash": "198e0936",
        "execution_millis": 3849,
        "execution_start": 1616097024320,
        "deepnote_cell_type": "code"
      },
      "source": "# Counting words line by line.\ndef counting(text):\n    fp = open(text)\n    buffer=fp.readlines()\n    buffer=\"\".join(buffer).lower()\n    buffer=buffer.replace(\"\\n\",\"\").replace(\",\",\"\").replace(\".\",\"\").replace(\"?\",\"\")\n    buffer_list=buffer.split()\n    \n    buffer_dict={}\n    for i in range(len(buffer_list)):\n        buffer_dict[buffer_list[i]]=0\n        for j in range(len(buffer_list)):\n            if buffer_list[j]==buffer_list[i]:\n                buffer_dict[buffer_list[i]]=buffer_dict[buffer_list[i]]+1\n            j=+1\n        i=+1\n    \n    for k in sorted(buffer_dict.keys()): print(\"%s: %s\" % (k, buffer_dict[k]))\n\ncounting(\"text-files/blakepoems.txt\")",
      "execution_count": null,
      "outputs": [
        {
          "name": "stdout",
          "text": "\"a: 1\n\"and: 4\n\"because: 1\n\"break: 1\n\"does: 1\n\"drop: 1\n\"father: 1\n\"follow: 1\n\"for: 1\n\"frowning: 1\n\"ha: 2\n\"hush: 1\n\"i: 3\n\"i've: 1\n\"if: 1\n\"lo: 1\n\"look: 1\n\"lost: 1\n\"love: 2\n\"no: 1\n\"nought: 1\n\"o: 1\n\"oh: 1\n\"ona: 1\n\"one: 1\n\"pipe: 1\n\"piper: 2\n\"prisoned: 1\n\"selfish: 1\n\"such: 1\n\"sweet: 1\n\"then: 1\n\"they: 1\n\"thou: 1\n\"turn: 1\n\"weep: 1\n\"weep!: 2\n\"well: 1\n\"what: 1\n\"where: 1\n\"wrath: 1\n&: 17\n'come: 1\n'twas: 1\n(grave: 1\n--: 9\n1780thelithe: 1\n1789]you: 1\n[poems: 1\na: 125\na-sleeping: 1\nabout: 1\nabroad: 1\nabstract: 1\nache: 1\nadmired: 1\nadona: 1\nafar: 1\naffrightwhy: 1\nafter: 2\nagain: 1\nagain;: 1\nagain;\": 1\nagainst: 1\nage: 2\naged: 1\nagree: 1\nah: 4\nair: 3\nair:ah!: 1\nairdescend: 1\nairto: 1\nairy: 1\nalas!: 1\nalbion's: 1\nale: 1\nalehouse: 1\nall: 36\nall:: 1\nallay: 1\nallwalks: 1\nalone: 1\naltar: 1\nalways: 1\nam: 15\nam;: 1\nambush: 1\namong: 7\namong:: 1\nan: 21\nancient: 3\nand: 323\nangel: 8\nangel-guarded: 1\nangels: 2\nangry: 2\nannoy: 1\nanother: 4\nanother's: 4\nanswer: 2\nanswerd: 2\nanswered: 1\nanswered:: 1\nanvil: 1\nanxious: 1\nany: 3\nappall: 1\nappals: 1\napparel: 1\nappear: 2\nappeared: 1\nappears: 1\napple: 1\nare: 25\narise: 7\narise;: 2\narm: 2\narmed: 4\narms: 1\narose: 1\naround: 4\naround!: 1\narrow: 1\narrows: 1\nart: 5\nartful: 1\nas: 16\nask: 2\nasleep: 1\nasleep\": 1\naspire: 2\nastonish'd: 1\nat: 7\nauthor: 1\naway: 16\naway!: 1\naway:then: 1\naway;: 2\nawayand: 2\nawaybut: 1\nawayit: 1\nawoke: 1\nbabe: 2\nbabes: 2\nback: 3\nbags: 2\nbaits: 1\nbalmy: 1\nban: 1\nband: 1\nbands: 1\nbandy: 1\nbane: 1\nbank: 1\nbar:thel: 1\nbard: 2\nbare: 2\nbarrel: 1\nbe: 20\nbe!: 4\nbe;: 1\nbeadles: 1\nbeams: 2\nbeams!: 1\nbear: 5\nbearing: 1\nbears: 1\nbeast: 1\nbeasts: 2\nbeat: 1\nbeauty: 5\nbecame: 2\nbecause: 4\nbecome: 1\nbecomes: 2\nbed: 6\nbed\": 1\nbedart: 1\nbeen: 2\nbeetle: 1\nbeetle's: 1\nbefall: 2\nbefore: 6\nbefore;: 1\nbegan: 3\nbeguile: 2\nbeguiled: 1\nbeguiled!: 1\nbeguiles: 1\nbeheld: 1\nbehind: 1\nbehold: 1\nbells: 1\nbells': 1\nbeneath: 2\nbenighted: 1\nbereaved: 1\nbeside: 4\nbesides: 2\nbest: 1\nbetray: 1\nbid: 1\nbind: 2\nbinding: 1\nbinds: 1\nbirch: 1\nbird: 2\nbird's: 2\nbirds: 9\nbirds': 1\nbirdsbut: 1\nbirth: 1\nblack: 8\nblackening: 1\nbladder: 1\nblade: 1\nblake: 3\nblake'sthe: 1\nblasts: 2\nbleak: 1\nbleating: 1\nbless: 3\nblessing: 2\nblights: 1\nblind: 1\nblood: 1\nblossom: 4\nblossoms: 3\nblown: 3\nblue: 1\nblushed: 1\nbodies: 1\nbondage: 1\nbones: 2\nbook: 6\nbore: 6\nbore;: 1\nborn: 3\nbosom: 4\nboth: 6\nbound: 2\nbound\": 1\nbow: 1\nbowd: 2\nbowed: 1\nbower: 2\nbowlthe: 1\nboy: 10\nboys: 2\nboywhy: 1\nbrain: 2\nbreak: 1\nbreast: 4\nbreastand: 1\nbreath: 2\nbreathed: 1\nbreathing: 1\nbriars: 1\nbright: 12\nbright;: 3\nbrings: 1\nbrook: 1\nbrooks:for: 1\nbrothers: 2\nbrought: 1\nbrows: 1\nbruis'd: 1\nbrush: 1\nbrushed: 1\nbrushes: 1\nbud: 1\nbuds: 2\nbuilds: 2\nbuilt: 1\nburned: 2\nburning: 3\nburnt: 1\nbush: 1\nbut: 31\nbutterfly: 1\nby: 22\nby:: 1\nby;: 1\ncage: 1\ncall: 3\ncall'd: 1\ncalled: 2\ncalling: 1\ncalls: 2\ncallthe: 1\ncame: 8\ncame;: 1\ncan: 26\ncan'st: 2\ncannot: 6\ncanst: 2\ncare: 10\ncare's: 1\ncare;: 1\ncaterpillar: 1\ncattle's: 1\ncaverns: 1\ncaves: 2\nceasd: 1\nceasing: 1\nchain: 3\nchained: 1\nchanged: 1\nchapel: 2\ncharge: 2\nchartered: 2\nchase: 1\nchaste: 1\ncheer: 1\ncheer:!\": 1\ncheerful: 1\ncherish: 2\ncherish'd: 1\ncherries: 1\nchild: 15\nchild!: 2\nchild;: 1\nchildren: 11\nchildren!: 1\nchimney: 1\nchimney-sweeper: 1\nchimney-sweeper's: 1\nchimneys: 1\nchorus: 1\nchurch: 6\nclasp: 1\nclay: 4\nclean: 1\nclear: 1\nclime: 3\nclod: 3\nclose: 2\nclosed: 1\nclothed: 2\nclothes: 1\nclothing: 2\ncloud: 13\ncloudand: 1\ncloudlike: 1\nclouds: 3\ncoat: 1\ncock: 1\ncoffins: 2\ncoined: 1\ncold: 6\ncold;: 1\ncome: 9\ncomfort: 1\ncompanies: 1\ncompany!: 1\ncompelled: 1\ncomplain: 1\ncomplaind: 1\ncomplainest: 1\ncomplainwhy: 1\nconsumed: 1\ncontagious: 1\ncontrol: 1\nconveyed: 1\ncouches: 1\ncouching: 1\ncould: 6\ncountest: 1\ncourt: 1\ncovered: 3\ncow: 1\ncradle: 2\ncrave: 1\ncreation: 1\ncreations: 1\ncried: 1\ncries: 1\ncrime: 1\ncrimson: 1\ncrops: 1\ncrow: 1\ncrown: 3\ncruel: 2\ncruelty: 3\ncrumbs: 1\ncry: 7\ncrying: 1\ncurb: 1\ncurled: 1\ncurse: 1\ncurtain: 1\ncurtains: 1\ndacre: 1\ndale: 3\ndame: 1\ndance: 2\ndangerous: 1\ndank: 1\ndare: 4\ndark: 6\ndarkbut: 1\ndarkening: 1\ndarkness: 2\ndaughter: 1\ndaughters: 1\nday: 17\nday\": 1\nday:down: 1\ndays: 4\ndead: 1\ndead;: 1\ndeadly: 1\ndear: 2\ndear;: 1\ndeath: 5\ndeath;: 1\ndeceit: 1\ndeceitful: 1\ndeep: 8\ndeep): 1\ndeeps: 1\ndelight: 12\ndelight!: 2\ndelights: 1\ndell: 1\nden: 1\ndescend: 1\ndescended: 1\ndescending: 2\ndesert: 5\ndeserts: 1\ndesire: 1\ndesires: 1\ndesirethe: 1\ndespair: 1\ndespair\": 1\ndespite\": 1\ndestroy: 2\ndestroy:: 1\ndestructionor: 1\ndevil: 1\ndew: 1\ndew;: 2\ndewo: 1\ndews: 2\ndewy: 3\ndick: 1\ndid: 12\ndidst: 3\ndie: 1\ndied: 1\ndied;: 1\ndimpling: 1\ndisguise: 1\ndismal: 2\ndismay: 2\ndisputes: 1\ndistant: 2\ndistress: 2\ndivine: 4\ndivine:: 1\ndivine;: 1\ndo: 9\ndoes: 16\ndome: 1\ndone: 2\ndone;: 1\ndoor: 1\ndoor\": 1\ndoor;: 1\ndost: 4\ndoth: 7\ndoubt: 1\ndovelike: 2\ndoves: 1\ndown: 17\ndown:wilt: 1\ndownand: 1\ndraw: 1\ndrawnwhere: 1\ndread: 5\ndreadful: 1\ndream: 3\ndream!: 1\ndreams: 3\ndreamt: 1\ndrear: 1\ndreary: 1\ndress: 4\ndried: 1\ndrink: 4\ndrive: 2\ndriven: 2\ndrives: 1\ndroop: 1\ndrooping: 1\ndropped: 1\nduty: 1\ndwell: 3\ndwelling: 1\neach: 5\neagle: 1\near: 2\nears: 2\nearth: 9\nearth's: 1\nease: 2\neast: 1\neat: 1\nechoed: 1\nechoing: 3\nelse: 2\nemerg'dhovering: 1\nemily: 1\nemmet: 1\nend: 2\nendless: 1\nenglish: 2\nengraved: 1\nenter: 2\nenter'd: 1\nenterand: 1\neternal: 4\nevening: 5\never: 4\nevery: 17\neverything: 1\nevil: 1\newes': 1\nexhaldin: 1\nexperience: 1\nexperienceand: 1\nexperiencewilliam: 1\neye: 5\neyed: 1\neyelids: 1\neyes: 6\neyes!: 1\neyes\": 1\neyeso: 1\nface: 7\nface;: 3\nfacelike: 1\nfaces: 1\nfacewiping: 1\nfade: 5\nfades: 3\nfaint: 1\nfair: 1\nfall: 1\nfallah!: 1\nfallen: 3\nfalling: 1\nfalls: 1\nfalse: 1\nfamished: 1\nfancied: 1\nfarewell: 1\nfast!: 1\nfasting: 1\nfather: 19\nfather's: 2\nfear: 9\nfear!: 2\nfearest: 1\nfearful: 2\nfears: 5\nfed: 2\nfeed: 4\nfeel: 3\nfeet: 4\nfeetivthe: 1\nfen: 1\nfibrous: 1\nfields: 2\nfiend: 2\nfierce: 1\nfiery: 1\nfighting: 1\nfilled: 6\nfind: 3\nfind:: 1\nfire: 3\nfire-breathing: 1\nfix'd: 1\nflame: 1\nfled: 4\nfled;: 1\nflesh: 1\nflew: 2\nflies: 1\nflocks: 1\nflocksall: 1\nfloor: 1\nflourish: 1\nflow: 3\nflowed: 1\nflower: 4\nflowers: 5\nflowers:: 1\nflowers:and: 1\nflowers:but: 1\nflowersdost: 1\nflowerthou: 1\nflute!: 1\nfly: 7\nfoe: 2\nfoe:: 1\nfold\": 1\nfold:: 1\nfolk: 1\nfollow: 2\nfollowed: 1\nfolly: 1\nfondness: 1\nfood: 3\nfood:but: 1\nfoot: 1\nfootthat: 1\nfor: 29\nforest: 1\nforests: 1\nforge: 1\nforged: 1\nforget: 1\nforgot: 1\nforlorn: 1\nform: 7\nform:: 1\nformer: 1\nforth: 2\nfound: 3\nfountains: 1\nframe: 2\nfree: 3\nfree:: 2\nfree;: 1\nfreeze: 1\nfresh: 1\nfriend:: 1\nfrom: 32\nfrowning: 1\nfruit: 1\nfruitful: 1\nfruits: 2\nfull: 1\nfurnace: 2\nfurther: 1\nfuture: 2\nfuturity: 1\ngambolled: 1\ngarden: 7\ngarmentshe: 1\ngates: 2\ngather: 1\ngave: 3\ngeneration: 1\ngentle: 5\ngently: 1\ngifts: 1\ngilded: 1\ngirl: 4\ngirls: 2\ngive: 3\ngiven: 3\ngives: 4\nglad: 1\nglass:: 1\nglee: 1\nglistening: 1\nglittering: 1\nglitters: 1\nglow-worm: 1\ngo: 7\ngo!: 1\ngod: 11\ngods: 1\ngoes: 1\ngoing: 1\ngold: 4\ngold!why: 1\ngold:: 1\ngolden: 8\ngone: 6\ngood: 1\ngorge: 1\ngot: 1\ngowns: 1\ngraces: 1\ngrasp: 1\ngrass: 4\ngrass!: 1\ngrassanswerd: 1\ngrasshopper: 1\ngrassiio: 1\ngrave: 1\ngraves: 2\ngraveshe: 1\ngraze: 1\ngreat: 2\ngreater: 1\ngreen: 14\ngreen\": 1\ngreen:: 1\ngrew: 1\ngrey: 2\ngrey-headed: 1\ngrief: 4\ngriefs: 1\ngroan: 1\ngroaned: 1\nground: 4\ngroundtill: 1\ngrove: 3\ngrow: 2\ngrowl: 1\ngrows: 1\nguard: 1\nguarded: 1\nguardians: 1\nha: 2\nhad: 7\nhair: 4\nhair!\": 1\nhair\": 1\nhairs: 1\nhallowed: 1\nhammer: 1\nhand: 8\nhands: 3\nhandsaying: 1\nhapless: 1\nhappy: 19\nhar: 4\nharlot's: 1\nharm: 1\nharm:: 1\nharmonious: 1\nhas: 5\nhath: 1\nhave: 17\nhe: 50\nhe!\": 2\nhe'd: 2\nhe:: 1\nhead: 7\nhead!: 1\nhead's: 1\nhead:and: 1\nhead:she: 1\nheadand: 2\nheadyet: 1\nhealth: 1\nhealthy: 1\nhear: 15\nhear:: 1\nheard: 11\nheard;and: 1\nhearing: 1\nhears: 4\nheart: 9\nheart's: 1\nheart-broke: 1\nheat: 5\nheath: 2\nheathen: 1\nheaven: 7\nheaven's: 3\nheavenly: 1\nheavy: 2\nheedful: 1\nhell: 1\nhell's: 1\nhelpless: 4\nher: 34\nhere: 1\nhere!: 1\nhid: 2\nhide: 1\nhie: 1\nhigh: 3\nhill: 2\nhills: 2\nhim: 11\nhimself: 1\nhis: 57\nhither: 1\nhoar;: 1\nhoarse: 1\nhoary: 1\nhollow: 3\nholy: 12\nholy:unseen: 1\nhome: 3\nhome!\": 1\nhoney: 1\nhoney;: 1\nhorn: 1\nhorn:: 1\nhorses:: 1\nhour: 1\nhour;: 1\nhouse: 1\nhover: 3\nhow: 13\nhowl: 2\nhowling: 1\nhum: 1\nhum;: 1\nhuman: 16\nhumble: 4\nhumid: 1\nhumility: 1\nhunger: 1\nhungry: 1\nhuntsman: 1\ni: 117\ni'll: 4\nif: 16\nimage: 7\nimage\": 1\nimmortal: 3\nimpress'd: 1\nin: 139\nincrease: 1\nindeed:my: 1\nindignant: 1\ninfant: 12\ninfant's: 4\ninfants: 3\ninfixes: 1\ninhaling: 1\ninherit: 1\ninjury: 1\ninnocence: 3\ninnocent: 4\ninto: 5\nintroduction: 2\ninvisible: 1\ninwhy: 1\niron: 2\nis: 51\nit: 25\nit's: 1\nit;: 1\nits: 14\nitself: 6\nitself:: 1\nitwith: 1\njack: 1\njealous: 1\njealousy: 3\njesus: 1\njew: 1\njoe: 1\njohn: 1\njoin: 1\njourney: 1\njoy: 23\njoy!: 1\njoy;: 1\njoys: 3\njudge: 1\njust: 1\nkeep: 3\nkey: 1\nkind: 1\nkindled: 1\nking: 1\nkingly: 1\nkiss: 2\nkissed: 3\nkisses: 2\nknee;: 1\nkneels: 1\nknew: 4\nknits: 1\nknow: 9\nknow'st: 1\nknowi: 1\nlaid: 1\nlamb: 13\nlamb!\": 1\nlamb's: 1\nlambs: 4\nlambs': 1\nlamentation: 1\nlamentations:: 1\nland: 5\nlap: 1\nlaps: 1\nlapsed: 1\nlark: 1\nlaugh: 6\nlaughed: 1\nlaughing: 5\nlaughs: 2\nlay: 9\nlay;: 1\nlead: 1\nleaf;ah: 1\nleafand: 1\nlean: 1\nleaped: 1\nleaping: 1\nleapt: 1\nlearn: 1\nlearn'd: 1\nlearning's: 1\nleave: 2\nleaves: 2\nled: 5\nledappendix: 1\nleft: 1\nleopards: 1\nlest: 1\nlet: 7\nlick: 2\nlicks: 1\nlie: 1\nlie!or: 1\nlies: 1\nlife: 7\nlife's: 1\nlifted: 1\nlight: 11\nlike: 32\nlilly: 1\nlillys: 2\nlily: 5\nlimbs: 1\nlink'd: 1\nlion: 3\nlion's: 2\nlioness: 1\nlistning: 1\nlistningdolors: 1\nlittle: 45\nliv'dor: 1\nlive: 6\nlivelong: 2\nlively: 1\nliveslives: 1\nlocked: 1\nlocks: 1\nlondon: 2\nlonely: 3\nlong: 1\nlook: 4\nlookst: 1\nloosed: 1\nloss: 1\nlost: 6\nlost\": 1\nlot!: 1\nlotqueen: 1\nlotus: 1\nloud: 1\nlouder: 1\nlove: 26\nloved: 1\nlovely: 4\nloves: 3\nlovethe: 1\nloving: 1\nlowly: 3\nlurch: 1\nluvah: 1\nlyca: 8\nlyca's: 1\nmade: 6\nmaid: 6\nmaid;: 1\nmaiden: 4\nmake: 5\nmaker: 4\nmaking: 2\nman: 6\nmanacles: 1\nmane: 3\nmanna:till: 1\nmany: 7\nmark: 1\nmarks: 2\nmarriage-hearse: 1\nmary: 1\nmass: 1\nmatron: 1\nmay: 6\nmaze;: 1\nme: 27\nme\": 2\nme:: 3\nme;: 1\nmead;: 1\nmeadows: 1\nmean: 1\nmeanest: 1\nmeek: 1\nmeek;: 1\nmeekin: 1\nmeekness: 1\nmeet: 2\nmeet:: 1\nmellowing: 1\nmelts: 1\nmen: 3\nmen!: 1\nmercy: 8\nmerrily: 7\nmerry: 8\nmerry:: 1\nmet: 1\nmethought: 1\nmetres: 1\nmewhy: 1\nmidnight: 1\nmidst: 1\nmight: 2\nmighty: 1\nmild: 6\nmild:: 1\nmilk: 1\nmilked: 1\nmilky: 2\nmind: 4\nmind-forged: 1\nmine: 2\nmire: 1\nmisery: 1\nmisery\": 1\nmistress: 1\nmne: 1\nmoan: 3\nmoans: 3\nmodest: 4\nmole:can: 1\nmoon: 2\nmoony: 1\nmore: 7\nmore;: 1\nmorenothing: 1\nmorn: 8\nmorning: 10\nmortal: 4\nmost: 3\nmother: 17\nmother's: 2\nmothers: 2\nmottodoes: 1\nmould: 1\nmouth: 1\nmouths: 1\nmove: 1\nmultitude: 1\nmultitudes: 2\nmusic: 1\nmust: 3\nmute!: 1\nmutual: 1\nmy: 82\nmystery: 2\nmystery\": 1\nnaked: 4\nnaked:: 1\nname: 3\nname\": 1\nname;: 1\nnarrow: 1\nnature: 1\nne'er: 1\nnear: 6\nneck: 1\nneck;: 1\nned: 1\nneed: 1\nnest: 4\nnever: 16\nneverincluded: 1\nnew: 1\nnew-born: 3\nnext: 1\nnibbled: 1\nnigh: 2\nnight: 27\nnight;: 1\nnightingale: 1\nnights: 1\nnipped: 1\nno: 15\nno!: 2\nnoise: 1\nnoise;: 1\nnone: 3\nnoonday: 1\nnor: 15\nnorthern: 1\nnostril: 1\nnostrils: 1\nnot: 36\nnot\": 1\nnote:: 1\nnotes: 2\nnothing: 1\nnourish: 1\nnow: 7\nnumerous: 1\nnuptial: 1\nnurse's: 2\nnuts: 1\no: 8\no'er: 12\no're: 1\noak: 1\nof: 144\noff: 1\noffered: 1\noft: 1\noh: 10\noil: 2\nold: 5\nold\": 1\non: 44\nonce: 4\none: 3\nones: 3\nonly: 3\nopened: 1\nopening: 1\nor: 16\nothers: 1\nour: 22\nourselvesthou: 1\nout: 5\noutstretched: 1\noutworn: 1\nover: 8\nown: 4\npage: 1\npainted: 1\npair: 1\npalace: 1\npalace-walls: 1\npale: 5\npaleness: 1\nparents: 4\nparson: 1\nparsons: 1\npart: 1\npart:but: 1\nparting: 1\npartner: 1\npass: 2\npassed: 1\npast: 1\npathless: 1\npaul's: 1\npeace: 9\npeaceful: 1\npearly: 1\npebble: 2\npen: 1\npensive: 1\nperches: 1\nperfumewhich: 1\nperplex: 1\npicks: 1\npined: 1\npipe: 2\npipe;: 1\npiped: 1\npiped:: 1\npiping: 3\npiteous: 1\npitor: 1\npitwhy: 1\npity: 9\npitying: 5\nplace: 1\nplacequeen: 1\nplagues: 1\nplain: 1\nplants: 1\nplay: 8\nplay;: 1\npleasant: 5\nplease: 2\nplot: 1\nplough: 1\nplowman: 1\npluck'd: 1\npointed: 1\npoison: 2\npole: 1\npole;: 1\nponder: 1\nponder;: 1\npoor: 4\nporter: 1\npossible: 1\npour: 2\npouring: 1\npours: 1\npoverty: 1\npoverty!: 1\npraise: 2\npray: 3\nprays: 2\npreach: 1\npresent: 1\npresse: 1\npretty: 8\nprey: 2\nprey;: 1\npride: 1\npriest: 2\npriestly: 1\npriests: 1\nprime: 1\nprinter: 1\nprophetic: 1\npull: 1\npunish: 1\npurify: 1\nput: 2\nputs: 1\nquarrel: 1\nqueen: 2\nqueenthe: 1\nquiet: 1\nradiance: 1\nrain: 1\nrais'd: 1\nraise: 1\nraised: 1\nraising: 1\nraptures: 1\nraven: 1\nread: 1\nread\": 1\nreading: 1\nready: 2\nreason: 2\nreceive: 2\nreclind: 1\nred: 1\nreduced: 1\nreed: 1\nreflection: 1\nregale: 1\nrejoice: 2\nrejoice'\": 1\nrejoicing: 1\nrelief: 1\nremains;: 1\nremoved: 1\nrenew: 1\nrenew!: 1\nreplied: 1\nreply;: 1\nrest: 3\nrestless: 1\nreturn: 2\nreturn!: 1\nreturn:: 1\nrich: 1\nring: 1\nrise: 4\nrisen: 1\nrises: 1\nrising: 4\nriver: 3\nrobin: 1\nrobin!: 1\nrodor: 1\nroof: 1\nroot: 1\nroots: 1\nrootsof: 1\nrose: 9\nrosy: 1\nround: 8\nround:: 1\nrounds: 1\nruby: 1\nruddy: 2\nrun: 1\nruns: 2\nrural: 1\nrush: 1\nrushes: 1\nsaid: 6\nsaid:: 1\nsaid;: 1\nsaild: 1\nsame: 1\nsang: 2\nsat: 4\nsaw: 7\nsay: 4\nsay!\"--: 1\nsay:: 2\nsaying: 1\nsaying:: 1\nsays;: 1\nscarce: 1\nscarcely: 1\nscatter: 1\nscatters: 1\nscene: 1\nschool: 1\nschoolboy: 1\nsea: 1\nsealed: 1\nsearch: 1\nseat: 1\nseated: 1\nseats: 1\nsecresy: 1\nsecret: 2\nsecrets: 1\nsee: 16\nseek: 6\nseeketh: 2\nseeking: 2\nseemed: 1\nseen: 4\nseen;: 1\nseenshe: 1\nsees: 1\nsees;: 1\nseest: 1\nseize: 1\nseized: 1\nself: 1\nself-deceiving: 1\nselfish: 3\nsenseless: 1\nsentence: 1\nseraphim: 1\nset: 2\nsets: 1\nseven: 3\nsexes: 2\nshade: 6\nshadows: 2\nshady: 1\nshakes: 1\nshall: 19\nshalt: 2\nshame: 1\nshare: 1\nshaved;: 1\nshe: 10\nsheep: 3\nsheep\": 1\nshepherd: 2\nshepherd's: 1\nshewd: 1\nshields: 1\nshine: 5\nshine;: 1\nshining: 3\nshirt: 1\nshook: 1\nshore: 3\nshould: 6\nshoulder: 1\nshoulders: 1\nshouted: 1\nshower: 1\nshowring: 1\nshriek: 1\nshriekfled: 1\nshrinethel: 1\nshrouded: 1\nshut: 1\nsick: 1\nsick!: 1\nsickness: 1\nsigh: 4\nsighing: 1\nsighs: 1\nsighsand: 1\nsighshe: 1\nsight!: 1\nsight;: 1\nsilence: 1\nsilent: 8\nsilver: 3\nsinews: 1\nsing: 11\nsinging: 1\nsings: 1\nsisters: 1\nsit: 12\nsits: 2\nsittest: 1\nsitting: 2\nskies: 1\nskies\": 1\nskies;: 1\nskieshow: 1\nsky: 1\nsky--: 1\nskyand: 1\nskylark: 2\nsleep: 19\nsleep;: 2\nsleeping: 5\nsleeping;: 1\nslender: 1\nslept: 1\nslumber: 1\nslumbrous: 1\nsmall: 5\nsmall;: 2\nsmell: 1\nsmelling: 1\nsmells: 1\nsmild: 1\nsmile: 7\nsmile!why: 1\nsmiled: 2\nsmiles: 9\nsmiles;: 1\nsmilesthe: 1\nsmiling: 1\nsnare: 1\nsnow: 4\nso: 20\nsobbing: 2\nsoft: 5\nsoftest: 2\nsold: 1\nsoldier's: 1\nsome: 2\nsomebody: 1\nson: 1\nsong: 10\nsongs: 6\nsoon: 5\nsoot: 2\nsore;: 1\nsorrow: 9\nsorrow's: 1\nsorrows: 2\nsought: 3\nsoul: 2\nsouls: 2\nsound: 1\nsound;: 1\nsouthern: 2\nsow: 1\nsower: 1\nspace: 1\nsparrow!: 1\nspeak: 3\nspeak!: 1\nspears: 2\nspend: 2\nspirit: 2\nspoil: 1\nsport: 2\nsports: 2\nsprang: 1\nspray: 1\nspread:: 1\nspreads: 3\nspring: 5\nspring!: 1\nspring;: 2\nspringing: 1\nspringsrevives: 1\nspringsto: 1\nspringswhere: 1\nstain: 1\nstain'd: 1\nstalked: 1\nstand: 2\nstanding: 1\nstands: 1\nstar: 1\nstarry: 3\nstars: 1\nstarted: 1\nstarved: 1\nstays;: 1\nsteedbut: 1\nsteeds: 1\nsteps: 1\nstill: 1\nstole: 1\nstony: 1\nstood: 2\nstord: 1\nstorm: 1\nstrangers: 1\nstray: 1\nstrays: 1\nstream: 2\nstreams: 1\nstreet: 1\nstreets: 1\nstrength: 1\nstripped: 2\nstriving: 1\nstroke: 1\nstruggling: 1\nstumble: 1\nsuch: 5\nsulk: 1\nsummer: 4\nsummer's: 2\nsummers: 2\nsun: 7\nsun:: 1\nsun:i: 1\nsun;: 1\nsunburnt: 1\nsunflower: 3\nsunned: 1\nsunny: 2\nsuntill: 1\nsurprise;: 1\nsusan: 1\nswaddling-bands: 1\nsweep: 1\nsweeper: 1\nsweepers: 1\nsweet: 27\nsweeter: 1\nsweetest: 1\nswell: 1\nswift: 1\nsymmetry: 2\nta'en: 1\ntable: 1\ntaintsthy: 1\ntake: 3\ntakes: 1\ntames: 1\ntangle: 1\ntangled: 1\ntaught: 2\ntear: 5\ntear:: 1\ntears: 11\ntears;: 1\nteazing: 1\ntell: 6\nten-thousand: 1\ntend: 1\ntender: 9\ntenfold: 1\ntent: 2\ntentthe: 1\nterrific: 1\nterror: 3\nterrors: 1\nterzah: 1\nthames: 2\nthan: 1\nthankfulness: 1\nthat: 37\nthe: 423\nthee: 31\nthee!: 5\nthee:: 2\nthee:for: 1\nthee;: 1\ntheeand: 1\ntheei: 1\ntheir: 34\nthel: 8\nthelo: 1\nthelthe: 2\nthelthel's: 1\nthem: 8\nthen: 26\nthere: 10\nthere!: 1\nthere's: 1\ntherefore: 2\nthese: 6\nthey: 43\nthickest: 1\nthine: 2\nthing: 5\nthink: 4\nthirst: 1\nthis: 15\nthissongs: 1\nthistles: 1\nthorn: 2\nthorns: 2\nthorns:: 1\nthose: 1\nthou: 32\nthough: 2\nthought: 5\nthoughtless: 2\nthousand: 1\nthousands: 2\nthreat: 1\nthreat'ning: 1\nthrew: 1\nthro: 1\nthro': 1\nthrone: 2\nthrough: 7\nthrush: 1\nthunderings: 1\nthursday: 3\nthus: 3\nthusthen: 1\nthy: 30\ntiger: 5\ntigers: 3\ntill: 12\ntime: 3\ntimes: 1\ntimethe: 1\ntired: 3\ntiredthe: 1\ntis: 1\nto: 109\ntold: 5\ntom: 5\ntom!: 1\ntombstones: 1\ntongue: 4\ntoo: 3\ntook: 2\ntown!: 1\ntrace;: 1\ntraced: 1\ntransient: 1\ntravel-worn: 1\ntraveller's: 1\ntree: 6\ntree\": 1\ntree;: 3\ntrees: 1\ntrembling: 6\ntrodden: 1\ntroubled: 1\ntruth: 1\nturk: 1\nturn: 1\nturned: 2\nturning: 1\nturns: 1\ntwist: 1\ntwists:a: 1\ntwo: 4\nunder: 4\nunderneath: 3\nunhinderd: 1\nunited: 1\nunknown;she: 1\nunrest: 1\nunseen: 1\nup: 6\nupon: 14\nus: 5\nuse: 2\nused: 2\nusurous: 1\nutter: 1\nvagabond: 1\nvain: 2\nvain:: 3\nvain;: 1\nvaleiiithen: 1\nvales: 7\nvales:: 1\nvales:so: 1\nvalley: 3\nvalleygiving: 1\nvalleys: 4\nvanish: 3\nvanish'd: 1\nvapour: 1\nveiland: 1\nveiled: 1\nvenerates: 1\nverdant: 1\nvery: 3\nview'd: 1\nviewed: 1\nviewed:: 1\nvirgin: 9\nvirgins: 1\nvirtues: 1\nvision: 1\nvisit: 1\nvisited: 1\nvoice: 13\nvoicecome: 1\nvoiceless: 1\nvoiceof: 1\nvoices: 3\nvoicethe: 1\nwailing: 1\nwaiting: 1\nwake;: 1\nwalk: 3\nwalked: 2\nwalketh: 1\nwalking: 3\nwandered: 3\nwanderer: 1\nwanderers: 1\nwandering: 1\nwands: 1\nwant: 2\nwarbled: 1\nwarbling: 2\nwarm: 1\nwarm:: 1\nwarm;: 1\nwas: 30\nwash: 1\nwashed: 1\nwaste;: 1\nwasted: 1\nwatching: 1\nwatchman: 1\nwater: 1\nwatered: 2\nwaterlike: 1\nwaters: 2\nwaterwhy: 1\nwatery: 2\nwatry: 2\nwaves: 1\nway: 2\nways: 3\nways;: 1\nwe: 14\nwe'd: 3\nweak: 4\nweakness: 2\nweary: 5\nweave: 2\nweedand: 1\nweep: 13\nweep!: 2\nweep!\": 2\nweep:is: 1\nweep:that: 1\nweep;: 1\nweepand: 1\nweeping: 13\nweepingand: 1\nweigh: 1\nwelcome: 4\nwell: 1\nwell;: 1\nwent: 4\nwept: 8\nwept:: 1\nwere: 10\nwest: 1\nwet: 1\nwhat: 25\nwhate'er: 1\nwhen: 28\nwhere: 22\nwhere'er: 2\nwhile: 13\nwhile;: 1\nwhirlpool: 1\nwhisperings: 1\nwhite: 11\nwhite!: 1\nwho: 18\nwhose: 1\nwhy: 5\nwide: 1\nwight: 1\nwild: 9\nwildered: 1\nwiles: 1\nwilful: 1\nwill: 3\nwilliam: 1\nwillm: 1\nwilt: 2\nwind: 1\nwind;: 1\nwinds: 1\nwindwhy: 1\nwine: 1\nwing: 2\nwings: 3\nwinter: 3\nwinter's: 2\nwip'd: 1\nwiped: 1\nwiping: 1\nwisdom: 1\nwise: 1\nwish: 2\nwishes: 1\nwit: 1\nwith: 65\nwithin: 1\nwithout: 2\nwitless: 1\nwoe: 6\nwoe!: 1\nwoe-begone: 1\nwoe;: 1\nwoes: 1\nwolly: 1\nwolves: 1\nwolvish: 1\nwoman: 1\nwomen: 1\nwondering: 1\nwoods: 1\nwool;: 1\nword: 1\nwork: 3\nworld: 1\nworlds: 1\nworm: 8\nwormi: 1\nworms: 2\nwormsthe: 1\nworn: 2\nwould: 5\nwrapped: 1\nwrath: 3\nwren: 1\nwrit: 1\nwrite: 1\nwritten: 1\nwrote: 1\nyear: 5\nyet: 4\nyou: 8\nyou;: 1\nyoung: 1\nyoungest:: 1\nyour: 11\nyouth: 6\nyouth-time: 1\nyouthand: 1\nyouthful: 4\nzeal: 1\n",
          "output_type": "stream"
        }
      ]
    },
    {
      "cell_type": "markdown",
      "source": "---",
      "metadata": {
        "cell_id": "00079-5248fc81-9204-4552-a1e2-cd68f9a3fd58",
        "deepnote_cell_type": "markdown"
      }
    },
    {
      "cell_type": "code",
      "metadata": {
        "tags": [],
        "cell_id": "00081-7c62909d-d399-444d-9d2d-c769c9903a80",
        "deepnote_to_be_reexecuted": false,
        "source_hash": "a8c12e42",
        "execution_start": 1616093905247,
        "execution_millis": 3667,
        "deepnote_cell_type": "code"
      },
      "source": "#Here is the code with 3 different functions\ndef cleaning(text):\n    fp = open(text)\n    buffer=fp.readlines()\n    buffer=\"\".join(buffer).lower()\n    buffer=buffer.replace(\"\\n\",\"\").replace(\",\",\"\").replace(\".\",\"\").replace(\"?\",\"\")\n    buffer_list=buffer.split()\n    return buffer_list\n\ndef create_dict(buffer_list):\n    buffer_dict={}\n    for i in range(len(buffer_list)):\n        buffer_dict[buffer_list[i]]=0\n        for j in range(len(buffer_list)):\n            if buffer_list[j]==buffer_list[i]:\n                buffer_dict[buffer_list[i]]=buffer_dict[buffer_list[i]]+1\n            j=+1\n        i=+1\n        \n        for k in sorted(buffer_dict.keys()): print(\"%s: %s\" % (k, buffer_dict[k]))\n        \n\ndef main_sorting(text):\n    buffer_list=cleaning(text)\n    create_dict(buffer_list)\n\n\nmain_sorting(\"text-files/blakepoems.txt\")",
      "execution_count": null,
      "outputs": [
        {
          "name": "stdout",
          "text": "\"a: 1\n\"and: 4\n\"because: 1\n\"break: 1\n\"does: 1\n\"drop: 1\n\"father: 1\n\"follow: 1\n\"for: 1\n\"frowning: 1\n\"ha: 2\n\"hush: 1\n\"i: 3\n\"i've: 1\n\"if: 1\n\"lo: 1\n\"look: 1\n\"lost: 1\n\"love: 2\n\"no: 1\n\"nought: 1\n\"o: 1\n\"oh: 1\n\"ona: 1\n\"one: 1\n\"pipe: 1\n\"piper: 2\n\"prisoned: 1\n\"selfish: 1\n\"such: 1\n\"sweet: 1\n\"then: 1\n\"they: 1\n\"thou: 1\n\"turn: 1\n\"weep: 1\n\"weep!: 2\n\"well: 1\n\"what: 1\n\"where: 1\n\"wrath: 1\n&: 17\n'come: 1\n'twas: 1\n(grave: 1\n--: 9\n1780thelithe: 1\n1789]you: 1\n[poems: 1\na: 125\na-sleeping: 1\nabout: 1\nabroad: 1\nabstract: 1\nache: 1\nadmired: 1\nadona: 1\nafar: 1\naffrightwhy: 1\nafter: 2\nagain: 1\nagain;: 1\nagain;\": 1\nagainst: 1\nage: 2\naged: 1\nagree: 1\nah: 4\nair: 3\nair:ah!: 1\nairdescend: 1\nairto: 1\nairy: 1\nalas!: 1\nalbion's: 1\nale: 1\nalehouse: 1\nall: 36\nall:: 1\nallay: 1\nallwalks: 1\nalone: 1\naltar: 1\nalways: 1\nam: 15\nam;: 1\nambush: 1\namong: 7\namong:: 1\nan: 21\nancient: 3\nand: 323\nangel: 8\nangel-guarded: 1\nangels: 2\nangry: 2\nannoy: 1\nanother: 4\nanother's: 4\nanswer: 2\nanswerd: 2\nanswered: 1\nanswered:: 1\nanvil: 1\nanxious: 1\nany: 3\nappall: 1\nappals: 1\napparel: 1\nappear: 2\nappeared: 1\nappears: 1\napple: 1\nare: 25\narise: 7\narise;: 2\narm: 2\narmed: 4\narms: 1\narose: 1\naround: 4\naround!: 1\narrow: 1\narrows: 1\nart: 5\nartful: 1\nas: 16\nask: 2\nasleep: 1\nasleep\": 1\naspire: 2\nastonish'd: 1\nat: 7\nauthor: 1\naway: 16\naway!: 1\naway:then: 1\naway;: 2\nawayand: 2\nawaybut: 1\nawayit: 1\nawoke: 1\nbabe: 2\nbabes: 2\nback: 3\nbags: 2\nbaits: 1\nbalmy: 1\nban: 1\nband: 1\nbands: 1\nbandy: 1\nbane: 1\nbank: 1\nbar:thel: 1\nbard: 2\nbare: 2\nbarrel: 1\nbe: 20\nbe!: 4\nbe;: 1\nbeadles: 1\nbeams: 2\nbeams!: 1\nbear: 5\nbearing: 1\nbears: 1\nbeast: 1\nbeasts: 2\nbeat: 1\nbeauty: 5\nbecame: 2\nbecause: 4\nbecome: 1\nbecomes: 2\nbed: 6\nbed\": 1\nbedart: 1\nbeen: 2\nbeetle: 1\nbeetle's: 1\nbefall: 2\nbefore: 6\nbefore;: 1\nbegan: 3\nbeguile: 2\nbeguiled: 1\nbeguiled!: 1\nbeguiles: 1\nbeheld: 1\nbehind: 1\nbehold: 1\nbells: 1\nbells': 1\nbeneath: 2\nbenighted: 1\nbereaved: 1\nbeside: 4\nbesides: 2\nbest: 1\nbetray: 1\nbid: 1\nbind: 2\nbinding: 1\nbinds: 1\nbirch: 1\nbird: 2\nbird's: 2\nbirds: 9\nbirds': 1\nbirdsbut: 1\nbirth: 1\nblack: 8\nblackening: 1\nbladder: 1\nblade: 1\nblake: 3\nblake'sthe: 1\nblasts: 2\nbleak: 1\nbleating: 1\nbless: 3\nblessing: 2\nblights: 1\nblind: 1\nblood: 1\nblossom: 4\nblossoms: 3\nblown: 3\nblue: 1\nblushed: 1\nbodies: 1\nbondage: 1\nbones: 2\nbook: 6\nbore: 6\nbore;: 1\nborn: 3\nbosom: 4\nboth: 6\nbound: 2\nbound\": 1\nbow: 1\nbowd: 2\nbowed: 1\nbower: 2\nbowlthe: 1\nboy: 10\nboys: 2\nboywhy: 1\nbrain: 2\nbreak: 1\nbreast: 4\nbreastand: 1\nbreath: 2\nbreathed: 1\nbreathing: 1\nbriars: 1\nbright: 12\nbright;: 3\nbrings: 1\nbrook: 1\nbrooks:for: 1\nbrothers: 2\nbrought: 1\nbrows: 1\nbruis'd: 1\nbrush: 1\nbrushed: 1\nbrushes: 1\nbud: 1\nbuds: 2\nbuilds: 2\nbuilt: 1\nburned: 2\nburning: 3\nburnt: 1\nbush: 1\nbut: 31\nbutterfly: 1\nby: 22\nby:: 1\nby;: 1\ncage: 1\ncall: 3\ncall'd: 1\ncalled: 2\ncalling: 1\ncalls: 2\ncallthe: 1\ncame: 8\ncame;: 1\ncan: 26\ncan'st: 2\ncannot: 6\ncanst: 2\ncare: 10\ncare's: 1\ncare;: 1\ncaterpillar: 1\ncattle's: 1\ncaverns: 1\ncaves: 2\nceasd: 1\nceasing: 1\nchain: 3\nchained: 1\nchanged: 1\nchapel: 2\ncharge: 2\nchartered: 2\nchase: 1\nchaste: 1\ncheer: 1\ncheer:!\": 1\ncheerful: 1\ncherish: 2\ncherish'd: 1\ncherries: 1\nchild: 15\nchild!: 2\nchild;: 1\nchildren: 11\nchildren!: 1\nchimney: 1\nchimney-sweeper: 1\nchimney-sweeper's: 1\nchimneys: 1\nchorus: 1\nchurch: 6\nclasp: 1\nclay: 4\nclean: 1\nclear: 1\nclime: 3\nclod: 3\nclose: 2\nclosed: 1\nclothed: 2\nclothes: 1\nclothing: 2\ncloud: 13\ncloudand: 1\ncloudlike: 1\nclouds: 3\ncoat: 1\ncock: 1\ncoffins: 2\ncoined: 1\ncold: 6\ncold;: 1\ncome: 9\ncomfort: 1\ncompanies: 1\ncompany!: 1\ncompelled: 1\ncomplain: 1\ncomplaind: 1\ncomplainest: 1\ncomplainwhy: 1\nconsumed: 1\ncontagious: 1\ncontrol: 1\nconveyed: 1\ncouches: 1\ncouching: 1\ncould: 6\ncountest: 1\ncourt: 1\ncovered: 3\ncow: 1\ncradle: 2\ncrave: 1\ncreation: 1\ncreations: 1\ncried: 1\ncries: 1\ncrime: 1\ncrimson: 1\ncrops: 1\ncrow: 1\ncrown: 3\ncruel: 2\ncruelty: 3\ncrumbs: 1\ncry: 7\ncrying: 1\ncurb: 1\ncurled: 1\ncurse: 1\ncurtain: 1\ncurtains: 1\ndacre: 1\ndale: 3\ndame: 1\ndance: 2\ndangerous: 1\ndank: 1\ndare: 4\ndark: 6\ndarkbut: 1\ndarkening: 1\ndarkness: 2\ndaughter: 1\ndaughters: 1\nday: 17\nday\": 1\nday:down: 1\ndays: 4\ndead: 1\ndead;: 1\ndeadly: 1\ndear: 2\ndear;: 1\ndeath: 5\ndeath;: 1\ndeceit: 1\ndeceitful: 1\ndeep: 8\ndeep): 1\ndeeps: 1\ndelight: 12\ndelight!: 2\ndelights: 1\ndell: 1\nden: 1\ndescend: 1\ndescended: 1\ndescending: 2\ndesert: 5\ndeserts: 1\ndesire: 1\ndesires: 1\ndesirethe: 1\ndespair: 1\ndespair\": 1\ndespite\": 1\ndestroy: 2\ndestroy:: 1\ndestructionor: 1\ndevil: 1\ndew: 1\ndew;: 2\ndewo: 1\ndews: 2\ndewy: 3\ndick: 1\ndid: 12\ndidst: 3\ndie: 1\ndied: 1\ndied;: 1\ndimpling: 1\ndisguise: 1\ndismal: 2\ndismay: 2\ndisputes: 1\ndistant: 2\ndistress: 2\ndivine: 4\ndivine:: 1\ndivine;: 1\ndo: 9\ndoes: 16\ndome: 1\ndone: 2\ndone;: 1\ndoor: 1\ndoor\": 1\ndoor;: 1\ndost: 4\ndoth: 7\ndoubt: 1\ndovelike: 2\ndoves: 1\ndown: 17\ndown:wilt: 1\ndownand: 1\ndraw: 1\ndrawnwhere: 1\ndread: 5\ndreadful: 1\ndream: 3\ndream!: 1\ndreams: 3\ndreamt: 1\ndrear: 1\ndreary: 1\ndress: 4\ndried: 1\ndrink: 4\ndrive: 2\ndriven: 2\ndrives: 1\ndroop: 1\ndrooping: 1\ndropped: 1\nduty: 1\ndwell: 3\ndwelling: 1\neach: 5\neagle: 1\near: 2\nears: 2\nearth: 9\nearth's: 1\nease: 2\neast: 1\neat: 1\nechoed: 1\nechoing: 3\nelse: 2\nemerg'dhovering: 1\nemily: 1\nemmet: 1\nend: 2\nendless: 1\nenglish: 2\nengraved: 1\nenter: 2\nenter'd: 1\nenterand: 1\neternal: 4\nevening: 5\never: 4\nevery: 17\neverything: 1\nevil: 1\newes': 1\nexhaldin: 1\nexperience: 1\nexperienceand: 1\nexperiencewilliam: 1\neye: 5\neyed: 1\neyelids: 1\neyes: 6\neyes!: 1\neyes\": 1\neyeso: 1\nface: 7\nface;: 3\nfacelike: 1\nfaces: 1\nfacewiping: 1\nfade: 5\nfades: 3\nfaint: 1\nfair: 1\nfall: 1\nfallah!: 1\nfallen: 3\nfalling: 1\nfalls: 1\nfalse: 1\nfamished: 1\nfancied: 1\nfarewell: 1\nfast!: 1\nfasting: 1\nfather: 19\nfather's: 2\nfear: 9\nfear!: 2\nfearest: 1\nfearful: 2\nfears: 5\nfed: 2\nfeed: 4\nfeel: 3\nfeet: 4\nfeetivthe: 1\nfen: 1\nfibrous: 1\nfields: 2\nfiend: 2\nfierce: 1\nfiery: 1\nfighting: 1\nfilled: 6\nfind: 3\nfind:: 1\nfire: 3\nfire-breathing: 1\nfix'd: 1\nflame: 1\nfled: 4\nfled;: 1\nflesh: 1\nflew: 2\nflies: 1\nflocks: 1\nflocksall: 1\nfloor: 1\nflourish: 1\nflow: 3\nflowed: 1\nflower: 4\nflowers: 5\nflowers:: 1\nflowers:and: 1\nflowers:but: 1\nflowersdost: 1\nflowerthou: 1\nflute!: 1\nfly: 7\nfoe: 2\nfoe:: 1\nfold\": 1\nfold:: 1\nfolk: 1\nfollow: 2\nfollowed: 1\nfolly: 1\nfondness: 1\nfood: 3\nfood:but: 1\nfoot: 1\nfootthat: 1\nfor: 29\nforest: 1\nforests: 1\nforge: 1\nforged: 1\nforget: 1\nforgot: 1\nforlorn: 1\nform: 7\nform:: 1\nformer: 1\nforth: 2\nfound: 3\nfountains: 1\nframe: 2\nfree: 3\nfree:: 2\nfree;: 1\nfreeze: 1\nfresh: 1\nfriend:: 1\nfrom: 32\nfrowning: 1\nfruit: 1\nfruitful: 1\nfruits: 2\nfull: 1\nfurnace: 2\nfurther: 1\nfuture: 2\nfuturity: 1\ngambolled: 1\ngarden: 7\ngarmentshe: 1\ngates: 2\ngather: 1\ngave: 3\ngeneration: 1\ngentle: 5\ngently: 1\ngifts: 1\ngilded: 1\ngirl: 4\ngirls: 2\ngive: 3\ngiven: 3\ngives: 4\nglad: 1\nglass:: 1\nglee: 1\nglistening: 1\nglittering: 1\nglitters: 1\nglow-worm: 1\ngo: 7\ngo!: 1\ngod: 11\ngods: 1\ngoes: 1\ngoing: 1\ngold: 4\ngold!why: 1\ngold:: 1\ngolden: 8\ngone: 6\ngood: 1\ngorge: 1\ngot: 1\ngowns: 1\ngraces: 1\ngrasp: 1\ngrass: 4\ngrass!: 1\ngrassanswerd: 1\ngrasshopper: 1\ngrassiio: 1\ngrave: 1\ngraves: 2\ngraveshe: 1\ngraze: 1\ngreat: 2\ngreater: 1\ngreen: 14\ngreen\": 1\ngreen:: 1\ngrew: 1\ngrey: 2\ngrey-headed: 1\ngrief: 4\ngriefs: 1\ngroan: 1\ngroaned: 1\nground: 4\ngroundtill: 1\ngrove: 3\ngrow: 2\ngrowl: 1\ngrows: 1\nguard: 1\nguarded: 1\nguardians: 1\nha: 2\nhad: 7\nhair: 4\nhair!\": 1\nhair\": 1\nhairs: 1\nhallowed: 1\nhammer: 1\nhand: 8\nhands: 3\nhandsaying: 1\nhapless: 1\nhappy: 19\nhar: 4\nharlot's: 1\nharm: 1\nharm:: 1\nharmonious: 1\nhas: 5\nhath: 1\nhave: 17\nhe: 50\nhe!\": 2\nhe'd: 2\nhe:: 1\nhead: 7\nhead!: 1\nhead's: 1\nhead:and: 1\nhead:she: 1\nheadand: 2\nheadyet: 1\nhealth: 1\nhealthy: 1\nhear: 15\nhear:: 1\nheard: 11\nheard;and: 1\nhearing: 1\nhears: 4\nheart: 9\nheart's: 1\nheart-broke: 1\nheat: 5\nheath: 2\nheathen: 1\nheaven: 7\nheaven's: 3\nheavenly: 1\nheavy: 2\nheedful: 1\nhell: 1\nhell's: 1\nhelpless: 4\nher: 34\nhere: 1\nhere!: 1\nhid: 2\nhide: 1\nhie: 1\nhigh: 3\nhill: 2\nhills: 2\nhim: 11\nhimself: 1\nhis: 57\nhither: 1\nhoar;: 1\nhoarse: 1\nhoary: 1\nhollow: 3\nholy: 12\nholy:unseen: 1\nhome: 3\nhome!\": 1\nhoney: 1\nhoney;: 1\nhorn: 1\nhorn:: 1\nhorses:: 1\nhour: 1\nhour;: 1\nhouse: 1\nhover: 3\nhow: 13\nhowl: 2\nhowling: 1\nhum: 1\nhum;: 1\nhuman: 16\nhumble: 4\nhumid: 1\nhumility: 1\nhunger: 1\nhungry: 1\nhuntsman: 1\ni: 117\ni'll: 4\nif: 16\nimage: 7\nimage\": 1\nimmortal: 3\nimpress'd: 1\nin: 139\nincrease: 1\nindeed:my: 1\nindignant: 1\ninfant: 12\ninfant's: 4\ninfants: 3\ninfixes: 1\ninhaling: 1\ninherit: 1\ninjury: 1\ninnocence: 3\ninnocent: 4\ninto: 5\nintroduction: 2\ninvisible: 1\ninwhy: 1\niron: 2\nis: 51\nit: 25\nit's: 1\nit;: 1\nits: 14\nitself: 6\nitself:: 1\nitwith: 1\njack: 1\njealous: 1\njealousy: 3\njesus: 1\njew: 1\njoe: 1\njohn: 1\njoin: 1\njourney: 1\njoy: 23\njoy!: 1\njoy;: 1\njoys: 3\njudge: 1\njust: 1\nkeep: 3\nkey: 1\nkind: 1\nkindled: 1\nking: 1\nkingly: 1\nkiss: 2\nkissed: 3\nkisses: 2\nknee;: 1\nkneels: 1\nknew: 4\nknits: 1\nknow: 9\nknow'st: 1\nknowi: 1\nlaid: 1\nlamb: 13\nlamb!\": 1\nlamb's: 1\nlambs: 4\nlambs': 1\nlamentation: 1\nlamentations:: 1\nland: 5\nlap: 1\nlaps: 1\nlapsed: 1\nlark: 1\nlaugh: 6\nlaughed: 1\nlaughing: 5\nlaughs: 2\nlay: 9\nlay;: 1\nlead: 1\nleaf;ah: 1\nleafand: 1\nlean: 1\nleaped: 1\nleaping: 1\nleapt: 1\nlearn: 1\nlearn'd: 1\nlearning's: 1\nleave: 2\nleaves: 2\nled: 5\nledappendix: 1\nleft: 1\nleopards: 1\nlest: 1\nlet: 7\nlick: 2\nlicks: 1\nlie: 1\nlie!or: 1\nlies: 1\nlife: 7\nlife's: 1\nlifted: 1\nlight: 11\nlike: 32\nlilly: 1\nlillys: 2\nlily: 5\nlimbs: 1\nlink'd: 1\nlion: 3\nlion's: 2\nlioness: 1\nlistning: 1\nlistningdolors: 1\nlittle: 45\nliv'dor: 1\nlive: 6\nlivelong: 2\nlively: 1\nliveslives: 1\nlocked: 1\nlocks: 1\nlondon: 2\nlonely: 3\nlong: 1\nlook: 4\nlookst: 1\nloosed: 1\nloss: 1\nlost: 6\nlost\": 1\nlot!: 1\nlotqueen: 1\nlotus: 1\nloud: 1\nlouder: 1\nlove: 26\nloved: 1\nlovely: 4\nloves: 3\nlovethe: 1\nloving: 1\nlowly: 3\nlurch: 1\nluvah: 1\nlyca: 8\nlyca's: 1\nmade: 6\nmaid: 6\nmaid;: 1\nmaiden: 4\nmake: 5\nmaker: 4\nmaking: 2\nman: 6\nmanacles: 1\nmane: 3\nmanna:till: 1\nmany: 7\nmark: 1\nmarks: 2\nmarriage-hearse: 1\nmary: 1\nmass: 1\nmatron: 1\nmay: 6\nmaze;: 1\nme: 27\nme\": 2\nme:: 3\nme;: 1\nmead;: 1\nmeadows: 1\nmean: 1\nmeanest: 1\nmeek: 1\nmeek;: 1\nmeekin: 1\nmeekness: 1\nmeet: 2\nmeet:: 1\nmellowing: 1\nmelts: 1\nmen: 3\nmen!: 1\nmercy: 8\nmerrily: 7\nmerry: 8\nmerry:: 1\nmet: 1\nmethought: 1\nmetres: 1\nmewhy: 1\nmidnight: 1\nmidst: 1\nmight: 2\nmighty: 1\nmild: 6\nmild:: 1\nmilk: 1\nmilked: 1\nmilky: 2\nmind: 4\nmind-forged: 1\nmine: 2\nmire: 1\nmisery: 1\nmisery\": 1\nmistress: 1\nmne: 1\nmoan: 3\nmoans: 3\nmodest: 4\nmole:can: 1\nmoon: 2\nmoony: 1\nmore: 7\nmore;: 1\nmorenothing: 1\nmorn: 8\nmorning: 10\nmortal: 4\nmost: 3\nmother: 17\nmother's: 2\nmothers: 2\nmottodoes: 1\nmould: 1\nmouth: 1\nmouths: 1\nmove: 1\nmultitude: 1\nmultitudes: 2\nmusic: 1\nmust: 3\nmute!: 1\nmutual: 1\nmy: 82\nmystery: 2\nmystery\": 1\nnaked: 4\nnaked:: 1\nname: 3\nname\": 1\nname;: 1\nnarrow: 1\nnature: 1\nne'er: 1\nnear: 6\nneck: 1\nneck;: 1\nned: 1\nneed: 1\nnest: 4\nnever: 16\nneverincluded: 1\nnew: 1\nnew-born: 3\nnext: 1\nnibbled: 1\nnigh: 2\nnight: 27\nnight;: 1\nnightingale: 1\nnights: 1\nnipped: 1\nno: 15\nno!: 2\nnoise: 1\nnoise;: 1\nnone: 3\nnoonday: 1\nnor: 15\nnorthern: 1\nnostril: 1\nnostrils: 1\nnot: 36\nnot\": 1\nnote:: 1\nnotes: 2\nnothing: 1\nnourish: 1\nnow: 7\nnumerous: 1\nnuptial: 1\nnurse's: 2\nnuts: 1\no: 8\no'er: 12\no're: 1\noak: 1\nof: 144\noff: 1\noffered: 1\noft: 1\noh: 10\noil: 2\nold: 5\nold\": 1\non: 44\nonce: 4\none: 3\nones: 3\nonly: 3\nopened: 1\nopening: 1\nor: 16\nothers: 1\nour: 22\nourselvesthou: 1\nout: 5\noutstretched: 1\noutworn: 1\nover: 8\nown: 4\npage: 1\npainted: 1\npair: 1\npalace: 1\npalace-walls: 1\npale: 5\npaleness: 1\nparents: 4\nparson: 1\nparsons: 1\npart: 1\npart:but: 1\nparting: 1\npartner: 1\npass: 2\npassed: 1\npast: 1\npathless: 1\npaul's: 1\npeace: 9\npeaceful: 1\npearly: 1\npebble: 2\npen: 1\npensive: 1\nperches: 1\nperfumewhich: 1\nperplex: 1\npicks: 1\npined: 1\npipe: 2\npipe;: 1\npiped: 1\npiped:: 1\npiping: 3\npiteous: 1\npitor: 1\npitwhy: 1\npity: 9\npitying: 5\nplace: 1\nplacequeen: 1\nplagues: 1\nplain: 1\nplants: 1\nplay: 8\nplay;: 1\npleasant: 5\nplease: 2\nplot: 1\nplough: 1\nplowman: 1\npluck'd: 1\npointed: 1\npoison: 2\npole: 1\npole;: 1\nponder: 1\nponder;: 1\npoor: 4\nporter: 1\npossible: 1\npour: 2\npouring: 1\npours: 1\npoverty: 1\npoverty!: 1\npraise: 2\npray: 3\nprays: 2\npreach: 1\npresent: 1\npresse: 1\npretty: 8\nprey: 2\nprey;: 1\npride: 1\npriest: 2\npriestly: 1\npriests: 1\nprime: 1\nprinter: 1\nprophetic: 1\npull: 1\npunish: 1\npurify: 1\nput: 2\nputs: 1\nquarrel: 1\nqueen: 2\nqueenthe: 1\nquiet: 1\nradiance: 1\nrain: 1\nrais'd: 1\nraise: 1\nraised: 1\nraising: 1\nraptures: 1\nraven: 1\nread: 1\nread\": 1\nreading: 1\nready: 2\nreason: 2\nreceive: 2\nreclind: 1\nred: 1\nreduced: 1\nreed: 1\nreflection: 1\nregale: 1\nrejoice: 2\nrejoice'\": 1\nrejoicing: 1\nrelief: 1\nremains;: 1\nremoved: 1\nrenew: 1\nrenew!: 1\nreplied: 1\nreply;: 1\nrest: 3\nrestless: 1\nreturn: 2\nreturn!: 1\nreturn:: 1\nrich: 1\nring: 1\nrise: 4\nrisen: 1\nrises: 1\nrising: 4\nriver: 3\nrobin: 1\nrobin!: 1\nrodor: 1\nroof: 1\nroot: 1\nroots: 1\nrootsof: 1\nrose: 9\nrosy: 1\nround: 8\nround:: 1\nrounds: 1\nruby: 1\nruddy: 2\nrun: 1\nruns: 2\nrural: 1\nrush: 1\nrushes: 1\nsaid: 6\nsaid:: 1\nsaid;: 1\nsaild: 1\nsame: 1\nsang: 2\nsat: 4\nsaw: 7\nsay: 4\nsay!\"--: 1\nsay:: 2\nsaying: 1\nsaying:: 1\nsays;: 1\nscarce: 1\nscarcely: 1\nscatter: 1\nscatters: 1\nscene: 1\nschool: 1\nschoolboy: 1\nsea: 1\nsealed: 1\nsearch: 1\nseat: 1\nseated: 1\nseats: 1\nsecresy: 1\nsecret: 2\nsecrets: 1\nsee: 16\nseek: 6\nseeketh: 2\nseeking: 2\nseemed: 1\nseen: 4\nseen;: 1\nseenshe: 1\nsees: 1\nsees;: 1\nseest: 1\nseize: 1\nseized: 1\nself: 1\nself-deceiving: 1\nselfish: 3\nsenseless: 1\nsentence: 1\nseraphim: 1\nset: 2\nsets: 1\nseven: 3\nsexes: 2\nshade: 6\nshadows: 2\nshady: 1\nshakes: 1\nshall: 19\nshalt: 2\nshame: 1\nshare: 1\nshaved;: 1\nshe: 10\nsheep: 3\nsheep\": 1\nshepherd: 2\nshepherd's: 1\nshewd: 1\nshields: 1\nshine: 5\nshine;: 1\nshining: 3\nshirt: 1\nshook: 1\nshore: 3\nshould: 6\nshoulder: 1\nshoulders: 1\nshouted: 1\nshower: 1\nshowring: 1\nshriek: 1\nshriekfled: 1\nshrinethel: 1\nshrouded: 1\nshut: 1\nsick: 1\nsick!: 1\nsickness: 1\nsigh: 4\nsighing: 1\nsighs: 1\nsighsand: 1\nsighshe: 1\nsight!: 1\nsight;: 1\nsilence: 1\nsilent: 8\nsilver: 3\nsinews: 1\nsing: 11\nsinging: 1\nsings: 1\nsisters: 1\nsit: 12\nsits: 2\nsittest: 1\nsitting: 2\nskies: 1\nskies\": 1\nskies;: 1\nskieshow: 1\nsky: 1\nsky--: 1\nskyand: 1\nskylark: 2\nsleep: 19\nsleep;: 2\nsleeping: 5\nsleeping;: 1\nslender: 1\nslept: 1\nslumber: 1\nslumbrous: 1\nsmall: 5\nsmall;: 2\nsmell: 1\nsmelling: 1\nsmells: 1\nsmild: 1\nsmile: 7\nsmile!why: 1\nsmiled: 2\nsmiles: 9\nsmiles;: 1\nsmilesthe: 1\nsmiling: 1\nsnare: 1\nsnow: 4\nso: 20\nsobbing: 2\nsoft: 5\nsoftest: 2\nsold: 1\nsoldier's: 1\nsome: 2\nsomebody: 1\nson: 1\nsong: 10\nsongs: 6\nsoon: 5\nsoot: 2\nsore;: 1\nsorrow: 9\nsorrow's: 1\nsorrows: 2\nsought: 3\nsoul: 2\nsouls: 2\nsound: 1\nsound;: 1\nsouthern: 2\nsow: 1\nsower: 1\nspace: 1\nsparrow!: 1\nspeak: 3\nspeak!: 1\nspears: 2\nspend: 2\nspirit: 2\nspoil: 1\nsport: 2\nsports: 2\nsprang: 1\nspray: 1\nspread:: 1\nspreads: 3\nspring: 5\nspring!: 1\nspring;: 2\nspringing: 1\nspringsrevives: 1\nspringsto: 1\nspringswhere: 1\nstain: 1\nstain'd: 1\nstalked: 1\nstand: 2\nstanding: 1\nstands: 1\nstar: 1\nstarry: 3\nstars: 1\nstarted: 1\nstarved: 1\nstays;: 1\nsteedbut: 1\nsteeds: 1\nsteps: 1\nstill: 1\nstole: 1\nstony: 1\nstood: 2\nstord: 1\nstorm: 1\nstrangers: 1\nstray: 1\nstrays: 1\nstream: 2\nstreams: 1\nstreet: 1\nstreets: 1\nstrength: 1\nstripped: 2\nstriving: 1\nstroke: 1\nstruggling: 1\nstumble: 1\nsuch: 5\nsulk: 1\nsummer: 4\nsummer's: 2\nsummers: 2\nsun: 7\nsun:: 1\nsun:i: 1\nsun;: 1\nsunburnt: 1\nsunflower: 3\nsunned: 1\nsunny: 2\nsuntill: 1\nsurprise;: 1\nsusan: 1\nswaddling-bands: 1\nsweep: 1\nsweeper: 1\nsweepers: 1\nsweet: 27\nsweeter: 1\nsweetest: 1\nswell: 1\nswift: 1\nsymmetry: 2\nta'en: 1\ntable: 1\ntaintsthy: 1\ntake: 3\ntakes: 1\ntames: 1\ntangle: 1\ntangled: 1\ntaught: 2\ntear: 5\ntear:: 1\ntears: 11\ntears;: 1\nteazing: 1\ntell: 6\nten-thousand: 1\ntend: 1\ntender: 9\ntenfold: 1\ntent: 2\ntentthe: 1\nterrific: 1\nterror: 3\nterrors: 1\nterzah: 1\nthames: 2\nthan: 1\nthankfulness: 1\nthat: 37\nthe: 423\nthee: 31\nthee!: 5\nthee:: 2\nthee:for: 1\nthee;: 1\ntheeand: 1\ntheei: 1\ntheir: 34\nthel: 8\nthelo: 1\nthelthe: 2\nthelthel's: 1\nthem: 8\nthen: 26\nthere: 10\nthere!: 1\nthere's: 1\ntherefore: 2\nthese: 6\nthey: 43\nthickest: 1\nthine: 2\nthing: 5\nthink: 4\nthirst: 1\nthis: 15\nthissongs: 1\nthistles: 1\nthorn: 2\nthorns: 2\nthorns:: 1\nthose: 1\nthou: 32\nthough: 2\nthought: 5\nthoughtless: 2\nthousand: 1\nthousands: 2\nthreat: 1\nthreat'ning: 1\nthrew: 1\nthro: 1\nthro': 1\nthrone: 2\nthrough: 7\nthrush: 1\nthunderings: 1\nthursday: 3\nthus: 3\nthusthen: 1\nthy: 30\ntiger: 5\ntigers: 3\ntill: 12\ntime: 3\ntimes: 1\ntimethe: 1\ntired: 3\ntiredthe: 1\ntis: 1\nto: 109\ntold: 5\ntom: 5\ntom!: 1\ntombstones: 1\ntongue: 4\ntoo: 3\ntook: 2\ntown!: 1\ntrace;: 1\ntraced: 1\ntransient: 1\ntravel-worn: 1\ntraveller's: 1\ntree: 6\ntree\": 1\ntree;: 3\ntrees: 1\ntrembling: 6\ntrodden: 1\ntroubled: 1\ntruth: 1\nturk: 1\nturn: 1\nturned: 2\nturning: 1\nturns: 1\ntwist: 1\ntwists:a: 1\ntwo: 4\nunder: 4\nunderneath: 3\nunhinderd: 1\nunited: 1\nunknown;she: 1\nunrest: 1\nunseen: 1\nup: 6\nupon: 14\nus: 5\nuse: 2\nused: 2\nusurous: 1\nutter: 1\nvagabond: 1\nvain: 2\nvain:: 3\nvain;: 1\nvaleiiithen: 1\nvales: 7\nvales:: 1\nvales:so: 1\nvalley: 3\nvalleygiving: 1\nvalleys: 4\nvanish: 3\nvanish'd: 1\nvapour: 1\nveiland: 1\nveiled: 1\nvenerates: 1\nverdant: 1\nvery: 3\nview'd: 1\nviewed: 1\nviewed:: 1\nvirgin: 9\nvirgins: 1\nvirtues: 1\nvision: 1\nvisit: 1\nvisited: 1\nvoice: 13\nvoicecome: 1\nvoiceless: 1\nvoiceof: 1\nvoices: 3\nvoicethe: 1\nwailing: 1\nwaiting: 1\nwake;: 1\nwalk: 3\nwalked: 2\nwalketh: 1\nwalking: 3\nwandered: 3\nwanderer: 1\nwanderers: 1\nwandering: 1\nwands: 1\nwant: 2\nwarbled: 1\nwarbling: 2\nwarm: 1\nwarm:: 1\nwarm;: 1\nwas: 30\nwash: 1\nwashed: 1\nwaste;: 1\nwasted: 1\nwatching: 1\nwatchman: 1\nwater: 1\nwatered: 2\nwaterlike: 1\nwaters: 2\nwaterwhy: 1\nwatery: 2\nwatry: 2\nwaves: 1\nway: 2\nways: 3\nways;: 1\nwe: 14\nwe'd: 3\nweak: 4\nweakness: 2\nweary: 5\nweave: 2\nweedand: 1\nweep: 13\nweep!: 2\nweep!\": 2\nweep:is: 1\nweep:that: 1\nweep;: 1\nweepand: 1\nweeping: 13\nweepingand: 1\nweigh: 1\nwelcome: 4\nwell: 1\nwell;: 1\nwent: 4\nwept: 8\nwept:: 1\nwere: 10\nwest: 1\nwet: 1\nwhat: 25\nwhate'er: 1\nwhen: 28\nwhere: 22\nwhere'er: 2\nwhile: 13\nwhile;: 1\nwhirlpool: 1\nwhisperings: 1\nwhite: 11\nwhite!: 1\nwho: 18\nwhose: 1\nwhy: 5\nwide: 1\nwight: 1\nwild: 9\nwildered: 1\nwiles: 1\nwilful: 1\nwill: 3\nwilliam: 1\nwillm: 1\nwilt: 2\nwind: 1\nwind;: 1\nwinds: 1\nwindwhy: 1\nwine: 1\nwing: 2\nwings: 3\nwinter: 3\nwinter's: 2\nwip'd: 1\nwiped: 1\nwiping: 1\nwisdom: 1\nwise: 1\nwish: 2\nwishes: 1\nwit: 1\nwith: 65\nwithin: 1\nwithout: 2\nwitless: 1\nwoe: 6\nwoe!: 1\nwoe-begone: 1\nwoe;: 1\nwoes: 1\nwolly: 1\nwolves: 1\nwolvish: 1\nwoman: 1\nwomen: 1\nwondering: 1\nwoods: 1\nwool;: 1\nword: 1\nwork: 3\nworld: 1\nworlds: 1\nworm: 8\nwormi: 1\nworms: 2\nwormsthe: 1\nworn: 2\nwould: 5\nwrapped: 1\nwrath: 3\nwren: 1\nwrit: 1\nwrite: 1\nwritten: 1\nwrote: 1\nyear: 5\nyet: 4\nyou: 8\nyou;: 1\nyoung: 1\nyoungest:: 1\nyour: 11\nyouth: 6\nyouth-time: 1\nyouthand: 1\nyouthful: 4\nzeal: 1\n",
          "output_type": "stream"
        }
      ]
    },
    {
      "cell_type": "markdown",
      "source": "<a style='text-decoration:none;line-height:16px;display:flex;color:#5B5B62;padding:10px;justify-content:end;' href='https://deepnote.com?utm_source=created-in-deepnote-cell&projectId=79673256-d468-4dc3-bcd4-af2c4cf3525d' target=\"_blank\">\n<img style='display:inline;max-height:16px;margin:0px;margin-right:7.5px;' src='data:image/svg+xml;base64,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' > </img>\nCreated in <span style='font-weight:600;margin-left:4px;'>Deepnote</span></a>",
      "metadata": {
        "tags": [],
        "created_in_deepnote_cell": true,
        "deepnote_cell_type": "markdown"
      }
    }
  ],
  "nbformat": 4,
  "nbformat_minor": 1,
  "metadata": {
    "kernelspec": {
      "display_name": "Python 3",
      "language": "python",
      "name": "python3"
    },
    "language_info": {
      "codemirror_mode": {
        "name": "ipython",
        "version": 3
      },
      "file_extension": ".py",
      "mimetype": "text/x-python",
      "name": "python",
      "nbconvert_exporter": "python",
      "pygments_lexer": "ipython3",
      "version": "3.7.4"
    },
    "deepnote_notebook_id": "529b38cd-aa5d-48c6-bb34-3351e1bae0e3",
    "deepnote": {},
    "deepnote_execution_queue": []
  }
}