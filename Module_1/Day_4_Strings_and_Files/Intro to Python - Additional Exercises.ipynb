{
  "cells": [
    {
      "cell_type": "markdown",
      "source": "**Exercise 2.2 (optional):** Write code that classifies a given amount of money (which you store in a variable `amount`), specified in cents, as greater monetary units. Your code lists the monetary equivalent in dollars (100 ct), quarters (25 ct), dimes (10 ct), nickels (5 ct), and pennies (1 ct). Your program should report the maximum number of dollars that fit in the amount, then the maximum number of quarters that fit in the remainder after you subtract the dollars, then the maximum number of dimes that fit in the remainder after you subtract the dollars and quarters, and so on for nickels and pennies. The result is that you express the amount as the minimum number of coins needed.  \n\n**Can you do it again? Would you change anything from the last time you had to do this?**",
      "metadata": {
        "cell_id": "00000-390dd3a6-0429-46fd-8b19-fa160a5c6bf0",
        "deepnote_cell_type": "markdown"
      }
    },
    {
      "cell_type": "code",
      "metadata": {
        "cell_id": "00001-8f15868a-3145-4c6f-9c09-ec30ef95a36d",
        "deepnote_to_be_reexecuted": false,
        "source_hash": "b4dc5601",
        "execution_millis": 7,
        "execution_start": 1616079767188,
        "deepnote_cell_type": "code"
      },
      "source": "from math import *\ndef cashier(n):\n    dict_coin={'dollars': 0 ,'quarters': 0,'dimes': 0,'nickels': 0,'pennies': 0}\n    #Dictionary for loop\n    dict_strings=['dollars','quarters','dimes','nickels','pennies']\n\n    Coins=[100,25,10,5,1]\n    i=0\n    j=0\n    for i in range(len(Coins)):\n        dict_coin[dict_strings[i]]=floor((n-j)/Coins[i])\n\n        j+=dict_coin[dict_strings[i]]*Coins[i]\n        i+=1\n    return print(dict_coin)\n         \ncashier(592)",
      "execution_count": null,
      "outputs": [
        {
          "name": "stdout",
          "text": "{'dollars': 5, 'quarters': 3, 'dimes': 1, 'nickels': 1, 'pennies': 2}\n",
          "output_type": "stream"
        }
      ]
    },
    {
      "cell_type": "markdown",
      "source": "**Exercise (optional)**: The factorial of a positive integer is that integer, multiplied by all positive integers that are lower (excluding zero). You write the factorial as the number with an exclamation mark after it. E.g., the factorial of 5 is `5! = 5 * 4 * 3 * 2 * 1 = 120`. Write a function that calculates the factorial of its (integer) parameter. Test your function for different parameter values, but do not use very large numbers as factorials grow exponentially. Hint: to do this with a `while` loop, you need at least one more variable.",
      "metadata": {
        "cell_id": "00002-7ab01e8a-e7d7-40ef-8432-a94f87e0d888",
        "deepnote_cell_type": "markdown"
      }
    },
    {
      "cell_type": "code",
      "metadata": {
        "cell_id": "00003-9b07ba83-a028-4653-9d8a-e886a856e922",
        "deepnote_to_be_reexecuted": false,
        "source_hash": "cdb8f141",
        "execution_millis": 7,
        "execution_start": 1616088728357,
        "deepnote_cell_type": "code"
      },
      "source": "# Factorial\ndef factorial(number): \n    x=1                               \n    for i in range(1,number+1):\n        x = x*i \n    print(x)\nfactorial(5)",
      "execution_count": null,
      "outputs": [
        {
          "name": "stdout",
          "text": "120\n",
          "output_type": "stream"
        }
      ]
    },
    {
      "cell_type": "markdown",
      "source": "**Exercise 5.1 (optional):** Write a function that prints a multiplication table for digits 1 to 10. A multiplication table for the numbers 1 to `num = 3` looks as follows:\n\n`. |  1  2  3`<br>\n`------------`<br>\n`1 |  1  2  3`<br>\n`2 |  2  4  6`<br>\n`3 |  3  6  9`\n\nSo the labels on the rows are multiplied by the labels on the columns, and the result is shown in the cell that is on that row/column combination. ",
      "metadata": {
        "cell_id": "00004-2f0aeff2-fa84-4b96-bed3-fa2183335ea9",
        "deepnote_cell_type": "markdown"
      }
    },
    {
      "cell_type": "code",
      "metadata": {
        "cell_id": "00005-705862c8-c6b8-4c95-8708-62c9874eb3dc",
        "deepnote_to_be_reexecuted": false,
        "source_hash": "b6221c70",
        "execution_millis": 10,
        "execution_start": 1616169416142,
        "deepnote_cell_type": "code"
      },
      "source": "# Print multiplication table\ndef print_multiplication_table(n):\n    for x in range(1,n+1):\n        for y in range(1,n+1):\n            print(x*y, end=\"\\t\")\n        print() #i found this line on internet\n    \n    \nprint_multiplication_table(4)",
      "execution_count": 48,
      "outputs": [
        {
          "name": "stdout",
          "text": "1\t2\t3\t4\t\n2\t4\t6\t8\t\n3\t6\t9\t12\t\n4\t8\t12\t16\t\n",
          "output_type": "stream"
        }
      ]
    },
    {
      "cell_type": "markdown",
      "source": "**Exercise 5.2 (optional):** If you did the previous exercise with a `while` loop, then do it again with a `for` loop. If you did it with a `for` loop, then do it again with a `while` loop. If you did not use a loop at all, you should be ashamed of yourself.",
      "metadata": {
        "cell_id": "00006-2244f426-a8c8-49e4-9d0a-9ed5cc4b9cfb",
        "deepnote_cell_type": "markdown"
      }
    },
    {
      "cell_type": "code",
      "metadata": {
        "cell_id": "00007-fe76a3db-4c3c-49d0-9f52-ca4b2da4f127",
        "deepnote_to_be_reexecuted": false,
        "source_hash": "691684c3",
        "execution_millis": 11,
        "execution_start": 1616169788330,
        "deepnote_cell_type": "code"
      },
      "source": "def print_multiplication_table(n):\n    x=0\n    y=0\n    while x<=n-1:\n        x=x+1\n        print(y*x, end=\"\\t\") \n        while y<=n-1:\n            y=y+1     \n            print(y*x)   \n            #print(x*y, end=\"\\t\")\n        #print()\n\nprint_multiplication_table(3)\n",
      "execution_count": 74,
      "outputs": [
        {
          "name": "stdout",
          "text": "0\t1\n2\n3\n6\t9\t",
          "output_type": "stream"
        }
      ]
    },
    {
      "cell_type": "markdown",
      "source": "**Exercise 6.5 (optional):** Typical autocorrect functions are the following: \n1. if a word starts with two capitals, followed by a lower-case letter, the second capital is made lower case; \n2. if a sentence contains a word that is immediately followed by the same word, the second occurrence is removed; \n3. if a sentence starts with a lower-case letter, that letter is turned into a capital; \n4. if a word consists entirely of capitals, except for the first letter which is lower case, then the case of the letters in the word is reversed; and \n5. if the sentence contains the name of a day (in English) which does not start with a capital, the first letter is turned into a capital. \n\nWrite a program that takes a sentence and makes these auto-corrections.",
      "metadata": {
        "cell_id": "00008-49b7fe3c-942a-4c7a-b60a-be8c77f7fcd4",
        "deepnote_cell_type": "markdown"
      }
    },
    {
      "cell_type": "code",
      "metadata": {
        "cell_id": "00009-e91d8adf-5fcf-4539-a248-7b3e0874572c",
        "deepnote_to_be_reexecuted": false,
        "source_hash": "507d6221",
        "execution_millis": 13,
        "execution_start": 1616142466581,
        "deepnote_cell_type": "code"
      },
      "source": "# Autocorrect.\nsentence = \"as it turned out our chance meeting with REverend aRTHUR BElling was \\\nwas to change our whole way of life, and every sunday we'd hurry along to St lOONY up the Cream BUn and Jam.\"\ndef cleaning(txt):\n    txt=txt.replace(\",\",\"\").replace(\".\",\"\").replace(\"\\n\",\"\")\n    txt_list=txt.split()\n    return txt_list\ncleaning(sentence)\n\ndef two_capitals(txt):\n    for i in range(len(cleaning(txt))):\n        for j in range(len(cleaning(txt)[i])):\n            if (j=0 or j=1) and (cleaning(txt)[i][j].isupper()==True):\n                for k in range(2:len(cleaning(txt)[i]):\n                    if cleaning(txt)[i][k].isupper()==False:\n                        \n\n            \n\n\n",
      "execution_count": 2,
      "outputs": [
        {
          "output_type": "error",
          "ename": "SyntaxError",
          "evalue": "invalid syntax (<ipython-input-2-bb4f51f63eb2>, line 13)",
          "traceback": [
            "\u001b[0;36m  File \u001b[0;32m\"<ipython-input-2-bb4f51f63eb2>\"\u001b[0;36m, line \u001b[0;32m13\u001b[0m\n\u001b[0;31m    if (j=0 or j=1) and (cleaning(txt)[i][j].isupper()==True):\u001b[0m\n\u001b[0m         ^\u001b[0m\n\u001b[0;31mSyntaxError\u001b[0m\u001b[0;31m:\u001b[0m invalid syntax\n"
          ]
        }
      ]
    },
    {
      "cell_type": "code",
      "source": "import re\n\nword = 'AbcDefgHijkL'\nr = re.findall('([A-Z])', word)\nr",
      "metadata": {
        "tags": [],
        "cell_id": "00010-8cbb3e6b-8fc5-498c-b6a5-9346a9e7cf04",
        "deepnote_to_be_reexecuted": false,
        "source_hash": "f8df603a",
        "execution_millis": 8,
        "execution_start": 1616142579044,
        "deepnote_cell_type": "code"
      },
      "outputs": [
        {
          "output_type": "execute_result",
          "execution_count": 5,
          "data": {
            "text/plain": "['A', 'D', 'H', 'L']"
          },
          "metadata": {}
        }
      ],
      "execution_count": 5
    },
    {
      "cell_type": "markdown",
      "source": "### Exercise 11.3 (Optional)\nIn this directory you find a file `blakepoems.txt`. Write a program that processes the contents of this file, line by line. It creates an output file in the current working directory called `blkpms.txt`, which has the same contents as `blakepoems.txt`, except that all the vowels are removed (case-insensitively). At the end, display how many characters you read, and how many characters you wrote. If you want to check the contents of `blkpms.txt`, you can either open it in a text editor, or display the first 10 lines or so at the end of your program.",
      "metadata": {
        "cell_id": "00010-fa6b556b-c124-45b7-8973-d9c8f3bad3a5",
        "deepnote_cell_type": "markdown"
      }
    },
    {
      "cell_type": "code",
      "metadata": {
        "cell_id": "00011-11771b66-04a3-4245-ba9f-65023f9f5254",
        "deepnote_to_be_reexecuted": false,
        "source_hash": "4beb3f0c",
        "execution_millis": 53,
        "execution_start": 1616094405544,
        "deepnote_cell_type": "code"
      },
      "source": "## Your Code Here\n",
      "execution_count": null,
      "outputs": [
        {
          "output_type": "execute_result",
          "execution_count": 61,
          "data": {
            "text/plain": "'s'"
          },
          "metadata": {}
        }
      ]
    },
    {
      "cell_type": "code",
      "metadata": {
        "tags": [],
        "cell_id": "00012-214c6829-2e09-487f-94f8-84f2a21f1855",
        "deepnote_cell_type": "code"
      },
      "source": "",
      "execution_count": null,
      "outputs": []
    },
    {
      "cell_type": "markdown",
      "source": "<a style='text-decoration:none;line-height:16px;display:flex;color:#5B5B62;padding:10px;justify-content:end;' href='https://deepnote.com?utm_source=created-in-deepnote-cell&projectId=79673256-d468-4dc3-bcd4-af2c4cf3525d' target=\"_blank\">\n<img style='display:inline;max-height:16px;margin:0px;margin-right:7.5px;' src='data:image/svg+xml;base64,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' > </img>\nCreated in <span style='font-weight:600;margin-left:4px;'>Deepnote</span></a>",
      "metadata": {
        "tags": [],
        "created_in_deepnote_cell": true,
        "deepnote_cell_type": "markdown"
      }
    }
  ],
  "nbformat": 4,
  "nbformat_minor": 2,
  "metadata": {
    "kernelspec": {
      "display_name": "Python 3",
      "language": "python",
      "name": "python3"
    },
    "language_info": {
      "codemirror_mode": {
        "name": "ipython",
        "version": 3
      },
      "file_extension": ".py",
      "mimetype": "text/x-python",
      "name": "python",
      "nbconvert_exporter": "python",
      "pygments_lexer": "ipython3",
      "version": "3.7.4"
    },
    "deepnote_notebook_id": "6eaf4019-9a4e-45a1-b948-3e6adbde4b25",
    "deepnote": {},
    "deepnote_execution_queue": []
  }
}