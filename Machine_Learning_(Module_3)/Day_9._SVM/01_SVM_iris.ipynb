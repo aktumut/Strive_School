{
  "cells": [
    {
      "cell_type": "markdown",
      "source": "## SVM Exercise",
      "metadata": {
        "cell_id": "00000-67eef971-5fa6-4747-8517-2bc41d067898",
        "deepnote_cell_type": "markdown"
      }
    },
    {
      "cell_type": "code",
      "metadata": {
        "ExecuteTime": {
          "end_time": "2020-04-27T09:27:19.691870Z",
          "start_time": "2020-04-27T09:27:19.241518Z"
        },
        "cell_id": "00001-838d236d-d9a3-4819-b951-23f3ecd394c4",
        "deepnote_to_be_reexecuted": false,
        "source_hash": "5e71a1f2",
        "execution_start": 1619704776577,
        "execution_millis": 2545,
        "deepnote_cell_type": "code"
      },
      "source": "import pandas as pd\nimport numpy as np\nimport matplotlib.pyplot as plt\nimport seaborn as sns\n%matplotlib inline\nfrom sklearn.datasets import load_breast_cancer\nfrom sklearn.model_selection import train_test_split\nfrom sklearn import svm\nfrom sklearn.metrics import f1_score\nfrom sklearn.metrics import jaccard_score\nfrom sklearn.model_selection import GridSearchCV\nfrom sklearn.metrics import confusion_matrix",
      "execution_count": 6,
      "outputs": []
    },
    {
      "cell_type": "code",
      "metadata": {
        "ExecuteTime": {
          "end_time": "2020-04-27T09:27:21.126537Z",
          "start_time": "2020-04-27T09:27:19.714713Z"
        },
        "cell_id": "00002-68c6c957-4af4-4539-8cd4-9ad23f1467ff",
        "deepnote_to_be_reexecuted": false,
        "source_hash": "38f9ae22",
        "execution_start": 1619704402827,
        "execution_millis": 299,
        "deepnote_cell_type": "code"
      },
      "source": "url = \"https://archive.ics.uci.edu/ml/machine-learning-databases/iris/iris.data\"\n\n# Assign colum names to the dataset\ncolnames = ['sepal-length', 'sepal-width', 'petal-length', 'petal-width', 'Class']\n\n# Read dataset to pandas dataframe\nirisdata = pd.read_csv(url, names=colnames)",
      "execution_count": 2,
      "outputs": []
    },
    {
      "cell_type": "markdown",
      "source": "* create X, y",
      "metadata": {
        "cell_id": "00003-2add7eaa-b907-4921-a79d-9e26b95de039",
        "deepnote_cell_type": "markdown"
      }
    },
    {
      "cell_type": "code",
      "metadata": {
        "ExecuteTime": {
          "end_time": "2020-04-27T09:28:02.750871Z",
          "start_time": "2020-04-27T09:28:02.745616Z"
        },
        "cell_id": "00004-d903e8a6-281f-48ba-b0c3-3ad0eb4ed8d2",
        "deepnote_to_be_reexecuted": false,
        "source_hash": "ac674ba5",
        "execution_start": 1619704756735,
        "execution_millis": 25,
        "deepnote_cell_type": "code"
      },
      "source": "X=irisdata[[\"sepal-length\",\"sepal-width\",\"petal-length\",\"petal-width\"]]\ny=irisdata[\"Class\"]",
      "execution_count": 5,
      "outputs": []
    },
    {
      "cell_type": "markdown",
      "source": "* import train_test_split and split data",
      "metadata": {
        "cell_id": "00005-8b6ee273-13ca-4a39-861d-ed8f1076bcf1",
        "deepnote_cell_type": "markdown"
      }
    },
    {
      "cell_type": "code",
      "metadata": {
        "ExecuteTime": {
          "end_time": "2020-04-27T09:28:26.157114Z",
          "start_time": "2020-04-27T09:28:25.427105Z"
        },
        "cell_id": "00006-6deeadb8-6dfa-4448-b5f3-b164ffdedb46",
        "deepnote_to_be_reexecuted": false,
        "source_hash": "497267a",
        "execution_start": 1619704816774,
        "execution_millis": 5,
        "deepnote_cell_type": "code"
      },
      "source": "x_train,x_test, y_train, y_test=train_test_split(X,y,random_state=0,test_size=0.2)",
      "execution_count": 8,
      "outputs": []
    },
    {
      "cell_type": "markdown",
      "source": "* import SVC from sklearn and use Polynomial kernel",
      "metadata": {
        "cell_id": "00007-5b966244-7193-4d02-9309-c60402a79016",
        "deepnote_cell_type": "markdown"
      }
    },
    {
      "cell_type": "code",
      "metadata": {
        "ExecuteTime": {
          "end_time": "2020-04-27T09:28:58.913444Z",
          "start_time": "2020-04-27T09:28:58.869304Z"
        },
        "cell_id": "00008-31065b71-b9ca-4ea2-9e0f-1b97e5cd8fe8",
        "deepnote_to_be_reexecuted": false,
        "source_hash": "c4e97ec6",
        "execution_start": 1619704963198,
        "execution_millis": 6,
        "deepnote_cell_type": "code"
      },
      "source": "clf = svm.SVC(kernel='poly') \n",
      "execution_count": 10,
      "outputs": [
        {
          "output_type": "execute_result",
          "execution_count": 10,
          "data": {
            "text/plain": "SVC(kernel='poly')"
          },
          "metadata": {}
        }
      ]
    },
    {
      "cell_type": "markdown",
      "source": "* fit training data",
      "metadata": {
        "cell_id": "00009-5fa0b3fa-df30-4f01-bb82-9039dc1dbb53",
        "deepnote_cell_type": "markdown"
      }
    },
    {
      "cell_type": "code",
      "metadata": {
        "ExecuteTime": {
          "end_time": "2020-04-27T09:29:58.750887Z",
          "start_time": "2020-04-27T09:29:58.741017Z"
        },
        "cell_id": "00010-3ada982e-8a51-473d-a592-571b54220e4a",
        "deepnote_to_be_reexecuted": false,
        "source_hash": "8293c6bf",
        "execution_start": 1619704969746,
        "execution_millis": 7,
        "deepnote_cell_type": "code"
      },
      "source": "clf.fit(x_train, y_train)",
      "execution_count": 11,
      "outputs": [
        {
          "output_type": "execute_result",
          "execution_count": 11,
          "data": {
            "text/plain": "SVC(kernel='poly')"
          },
          "metadata": {}
        }
      ]
    },
    {
      "cell_type": "markdown",
      "source": "* predict X_test",
      "metadata": {
        "cell_id": "00011-c19ce1fd-c1f8-4277-b1d8-43e8b4f361dc",
        "deepnote_cell_type": "markdown"
      }
    },
    {
      "cell_type": "code",
      "metadata": {
        "ExecuteTime": {
          "end_time": "2020-04-27T09:30:33.661258Z",
          "start_time": "2020-04-27T09:30:33.651322Z"
        },
        "cell_id": "00012-c8381f82-df10-4fa8-892f-bdc96528c452",
        "deepnote_to_be_reexecuted": false,
        "source_hash": "56096739",
        "execution_start": 1619705018153,
        "execution_millis": 1,
        "deepnote_cell_type": "code"
      },
      "source": "yhat=clf.predict(x_test)",
      "execution_count": 14,
      "outputs": []
    },
    {
      "cell_type": "markdown",
      "source": "* import confusion matrix from sklearn and print values",
      "metadata": {
        "cell_id": "00013-2690acbd-5ef6-4ddc-a745-38a3fb9a39f5",
        "deepnote_cell_type": "markdown"
      }
    },
    {
      "cell_type": "code",
      "metadata": {
        "ExecuteTime": {
          "end_time": "2020-04-27T09:32:07.979859Z",
          "start_time": "2020-04-27T09:32:07.969243Z"
        },
        "cell_id": "00014-16bb938c-c345-4b0b-ab3c-e07db36b087b",
        "deepnote_to_be_reexecuted": false,
        "source_hash": "ead52139",
        "execution_start": 1619705029446,
        "execution_millis": 7,
        "deepnote_cell_type": "code"
      },
      "source": "cnf_matrix = confusion_matrix(y_test, yhat)\ncnf_matrix",
      "execution_count": 17,
      "outputs": [
        {
          "output_type": "execute_result",
          "execution_count": 17,
          "data": {
            "text/plain": "array([[11,  0,  0],\n       [ 0, 13,  0],\n       [ 0,  0,  6]])"
          },
          "metadata": {}
        }
      ]
    },
    {
      "cell_type": "markdown",
      "source": "* create SVC with rbf kernel",
      "metadata": {
        "cell_id": "00015-336c42e5-b5f5-467f-a9ec-31310e03140f",
        "deepnote_cell_type": "markdown"
      }
    },
    {
      "cell_type": "code",
      "metadata": {
        "ExecuteTime": {
          "end_time": "2020-04-27T09:32:08.480695Z",
          "start_time": "2020-04-27T09:32:08.474690Z"
        },
        "cell_id": "00016-34a64220-4b0e-4019-a794-d4fcae11d78e",
        "deepnote_to_be_reexecuted": false,
        "source_hash": "ad3dfdc3",
        "execution_start": 1619705055675,
        "execution_millis": 1,
        "deepnote_cell_type": "code"
      },
      "source": "clf_2 = svm.SVC(kernel='rbf') \n",
      "execution_count": 18,
      "outputs": []
    },
    {
      "cell_type": "markdown",
      "source": "* fit training data",
      "metadata": {
        "cell_id": "00017-6ce4a9ee-1142-494e-b3e8-1b503b3dbc1c",
        "deepnote_cell_type": "markdown"
      }
    },
    {
      "cell_type": "code",
      "metadata": {
        "ExecuteTime": {
          "end_time": "2020-04-27T09:32:08.873120Z",
          "start_time": "2020-04-27T09:32:08.857780Z"
        },
        "cell_id": "00018-4687944c-934c-4c0f-86b2-092227f48cec",
        "deepnote_to_be_reexecuted": false,
        "source_hash": "34f350a2",
        "execution_start": 1619705076002,
        "execution_millis": 13,
        "deepnote_cell_type": "code"
      },
      "source": "clf_2.fit(x_train,y_train)",
      "execution_count": 19,
      "outputs": [
        {
          "output_type": "execute_result",
          "execution_count": 19,
          "data": {
            "text/plain": "SVC()"
          },
          "metadata": {}
        }
      ]
    },
    {
      "cell_type": "markdown",
      "source": "* predict X_test",
      "metadata": {
        "cell_id": "00019-a7404ce8-0238-48f9-80b8-4eed38424f46",
        "deepnote_cell_type": "markdown"
      }
    },
    {
      "cell_type": "code",
      "metadata": {
        "ExecuteTime": {
          "end_time": "2020-04-27T09:32:09.574932Z",
          "start_time": "2020-04-27T09:32:09.545521Z"
        },
        "cell_id": "00020-8fac2f4b-02bb-4321-a9b9-c0de9c1b7665",
        "deepnote_to_be_reexecuted": false,
        "source_hash": "b1b6f61e",
        "execution_start": 1619705129392,
        "execution_millis": 2,
        "deepnote_cell_type": "code"
      },
      "source": "yhat_2=clf_2.predict(x_test)",
      "execution_count": 23,
      "outputs": []
    },
    {
      "cell_type": "markdown",
      "source": "* print confusion matrix",
      "metadata": {
        "cell_id": "00021-46daf190-e991-4066-a2a3-3a357f209383",
        "deepnote_cell_type": "markdown"
      }
    },
    {
      "cell_type": "code",
      "metadata": {
        "ExecuteTime": {
          "end_time": "2020-04-27T09:32:10.698459Z",
          "start_time": "2020-04-27T09:32:10.689702Z"
        },
        "cell_id": "00022-bb395b40-b46d-4efe-b5d4-12a578c35b18",
        "deepnote_to_be_reexecuted": false,
        "source_hash": "ea65f3dd",
        "execution_start": 1619705131673,
        "execution_millis": 12,
        "deepnote_cell_type": "code"
      },
      "source": "confusion_matrix(y_test,yhat_2)",
      "execution_count": 24,
      "outputs": [
        {
          "output_type": "execute_result",
          "execution_count": 24,
          "data": {
            "text/plain": "array([[11,  0,  0],\n       [ 0, 13,  0],\n       [ 0,  0,  6]])"
          },
          "metadata": {}
        }
      ]
    },
    {
      "cell_type": "markdown",
      "source": "* create SVC with sigmoid kernel",
      "metadata": {
        "cell_id": "00023-428b0c74-3650-4162-83d0-86e8c780347f",
        "deepnote_cell_type": "markdown"
      }
    },
    {
      "cell_type": "code",
      "metadata": {
        "ExecuteTime": {
          "end_time": "2020-04-27T09:32:25.827586Z",
          "start_time": "2020-04-27T09:32:25.823745Z"
        },
        "cell_id": "00024-5f83e8b1-8404-4ac1-867d-adff16d171a1",
        "deepnote_to_be_reexecuted": false,
        "source_hash": "bcf9c3d5",
        "execution_start": 1619705169683,
        "execution_millis": 1,
        "deepnote_cell_type": "code"
      },
      "source": "clf_3=svm.SVC(kernel='sigmoid') ",
      "execution_count": 27,
      "outputs": []
    },
    {
      "cell_type": "markdown",
      "source": "* fit training data",
      "metadata": {
        "cell_id": "00025-ad2b7a80-2f74-4268-b87f-c5652ed56d9d",
        "deepnote_cell_type": "markdown"
      }
    },
    {
      "cell_type": "code",
      "metadata": {
        "ExecuteTime": {
          "end_time": "2020-04-27T09:32:40.192785Z",
          "start_time": "2020-04-27T09:32:40.181753Z"
        },
        "cell_id": "00026-9ce34ee5-fd22-4554-94a2-f3c41285e22e",
        "deepnote_to_be_reexecuted": false,
        "source_hash": "8d46083e",
        "execution_start": 1619705172951,
        "execution_millis": 12,
        "deepnote_cell_type": "code"
      },
      "source": "clf_3.fit(x_train,y_train)",
      "execution_count": 28,
      "outputs": [
        {
          "output_type": "execute_result",
          "execution_count": 28,
          "data": {
            "text/plain": "SVC(kernel='sigmoid')"
          },
          "metadata": {}
        }
      ]
    },
    {
      "cell_type": "markdown",
      "source": "* predict X_test",
      "metadata": {
        "cell_id": "00027-56eee6e6-d839-45fb-9d6b-5e0b32ee14c0",
        "deepnote_cell_type": "markdown"
      }
    },
    {
      "cell_type": "code",
      "metadata": {
        "ExecuteTime": {
          "end_time": "2020-04-27T09:32:54.838932Z",
          "start_time": "2020-04-27T09:32:54.834142Z"
        },
        "cell_id": "00028-9967d731-0582-49e7-9fd7-824933a932f4",
        "deepnote_to_be_reexecuted": false,
        "source_hash": "d7ab8bd2",
        "execution_start": 1619705196744,
        "execution_millis": 2,
        "deepnote_cell_type": "code"
      },
      "source": "yhat_3=clf_3.predict(x_test)",
      "execution_count": 31,
      "outputs": []
    },
    {
      "cell_type": "markdown",
      "source": "#### Q: Which kernel was the most accurate on the testing set?",
      "metadata": {
        "cell_id": "00029-07a2540c-246c-4831-b466-19327ef1a2d2",
        "deepnote_cell_type": "markdown"
      }
    },
    {
      "cell_type": "code",
      "metadata": {
        "ExecuteTime": {
          "end_time": "2020-04-27T09:33:08.961919Z",
          "start_time": "2020-04-27T09:33:08.954758Z"
        },
        "cell_id": "00030-68b6f7f9-568e-4012-b323-cec27f83d970",
        "deepnote_cell_type": "code"
      },
      "source": "",
      "execution_count": null,
      "outputs": []
    },
    {
      "cell_type": "markdown",
      "source": "<a style='text-decoration:none;line-height:16px;display:flex;color:#5B5B62;padding:10px;justify-content:end;' href='https://deepnote.com?utm_source=created-in-deepnote-cell&projectId=796ba814-f632-4502-b0d7-7e2f8f9e546d' target=\"_blank\">\n<img alt='Created in deepnote.com' style='display:inline;max-height:16px;margin:0px;margin-right:7.5px;' src='data:image/svg+xml;base64,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' > </img>\nCreated in <span style='font-weight:600;margin-left:4px;'>Deepnote</span></a>",
      "metadata": {
        "tags": [],
        "created_in_deepnote_cell": true,
        "deepnote_cell_type": "markdown"
      }
    }
  ],
  "nbformat": 4,
  "nbformat_minor": 4,
  "metadata": {
    "kernelspec": {
      "display_name": "Python 3",
      "language": "python",
      "name": "python3"
    },
    "language_info": {
      "codemirror_mode": {
        "name": "ipython",
        "version": 3
      },
      "file_extension": ".py",
      "mimetype": "text/x-python",
      "name": "python",
      "nbconvert_exporter": "python",
      "pygments_lexer": "ipython3",
      "version": "3.8.5"
    },
    "toc": {
      "base_numbering": 1,
      "nav_menu": {},
      "number_sections": true,
      "sideBar": true,
      "skip_h1_title": false,
      "title_cell": "Table of Contents",
      "title_sidebar": "Contents",
      "toc_cell": false,
      "toc_position": {},
      "toc_section_display": true,
      "toc_window_display": false
    },
    "varInspector": {
      "cols": {
        "lenName": 16,
        "lenType": 16,
        "lenVar": 40
      },
      "kernels_config": {
        "python": {
          "delete_cmd_postfix": "",
          "delete_cmd_prefix": "del ",
          "library": "var_list.py",
          "varRefreshCmd": "print(var_dic_list())"
        },
        "r": {
          "delete_cmd_postfix": ") ",
          "delete_cmd_prefix": "rm(",
          "library": "var_list.r",
          "varRefreshCmd": "cat(var_dic_list()) "
        }
      },
      "types_to_exclude": [
        "module",
        "function",
        "builtin_function_or_method",
        "instance",
        "_Feature"
      ],
      "window_display": false
    },
    "deepnote_notebook_id": "aca2d84d-a98b-4524-b9b0-b31bc70bc038",
    "deepnote": {},
    "deepnote_execution_queue": []
  }
}