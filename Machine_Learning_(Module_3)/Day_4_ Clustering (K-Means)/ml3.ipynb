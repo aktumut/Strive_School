{
  "cells": [
    {
      "cell_type": "markdown",
      "source": "# Exercise 10: Hierarchical clustering of the grain data\n\nIn the video, you learnt that the SciPy `linkage()` function performs hierarchical clustering on an array of samples.  Use the `linkage()` function to obtain a hierarchical clustering of the grain samples, and use `dendrogram()` to visualize the result.  A sample of the grain measurements is provided in the array `samples`, while the variety of each grain sample is given by the list `varieties`.\n",
      "metadata": {
        "deletable": false,
        "editable": false,
        "nbgrader": {
          "cell_type": "markdown",
          "checksum": "89eed0907f0119c6c6f6ef390cc54c08",
          "grade": false,
          "grade_id": "cell-33d26828be6e1038",
          "locked": true,
          "schema_version": 3,
          "solution": false,
          "task": false
        },
        "cell_id": "00000-bb617742-4abc-4189-b4d3-f6d94278c83b",
        "deepnote_cell_type": "markdown"
      }
    },
    {
      "cell_type": "markdown",
      "source": "**Step 1:** Import:\n\n + `linkage` and `dendrogram` from `scipy.cluster.hierarchy`.\n + `matplotlib.pyplot` as `plt`.\n + `pandas`\n + `load_iris` and `train_test_split`",
      "metadata": {
        "deletable": false,
        "editable": false,
        "nbgrader": {
          "cell_type": "markdown",
          "checksum": "a6edca00fa71dea4330eb2c2ea98df0c",
          "grade": false,
          "grade_id": "cell-f184e018b98e7d52",
          "locked": true,
          "schema_version": 3,
          "solution": false,
          "task": false
        },
        "cell_id": "00001-8c7980ab-1616-4e80-91dd-2344fa0cb205",
        "deepnote_cell_type": "markdown"
      }
    },
    {
      "cell_type": "code",
      "metadata": {
        "cell_id": "00002-87d730ee-1e20-4ef9-99ba-149eef4208d3",
        "deepnote_to_be_reexecuted": false,
        "source_hash": "9fd9c847",
        "execution_millis": 0,
        "execution_start": 1619094350922,
        "deepnote_cell_type": "code"
      },
      "source": "import pandas as pd\nimport numpy as np\n\nfrom sklearn.datasets import load_iris\nfrom sklearn.model_selection import train_test_split\nfrom scipy.cluster.hierarchy import dendrogram, linkage\nfrom sklearn.cluster import KMeans\nfrom sklearn.preprocessing import StandardScaler\n\n\nimport matplotlib.pyplot as plt\n",
      "execution_count": 52,
      "outputs": []
    },
    {
      "cell_type": "markdown",
      "source": "**Step 2:** Load the dataset _(done for you)_.",
      "metadata": {
        "deletable": false,
        "editable": false,
        "nbgrader": {
          "cell_type": "markdown",
          "checksum": "a13bdd9c406d550c5d3a2c33173a71d4",
          "grade": false,
          "grade_id": "cell-5d407d7746dba37b",
          "locked": true,
          "schema_version": 3,
          "solution": false,
          "task": false
        },
        "cell_id": "00003-27477a5d-1e31-49c4-b4cf-a754f456db8e",
        "deepnote_cell_type": "markdown"
      }
    },
    {
      "cell_type": "code",
      "metadata": {
        "exercise": false,
        "cell_id": "00004-6eba8e00-45b9-4511-8af3-c49fbc6fec3f",
        "deepnote_to_be_reexecuted": false,
        "source_hash": "3ffd492a",
        "execution_start": 1619091666505,
        "execution_millis": 5,
        "deepnote_cell_type": "code"
      },
      "source": "\niris_data = load_iris()\n",
      "execution_count": 3,
      "outputs": []
    },
    {
      "cell_type": "code",
      "metadata": {
        "deletable": false,
        "nbgrader": {
          "cell_type": "code",
          "checksum": "f54a03afd97d0d9a682f62d00c5f8dc2",
          "grade": false,
          "grade_id": "cell-5b5863d4b8ed6db7",
          "locked": false,
          "schema_version": 3,
          "solution": true,
          "task": false
        },
        "cell_id": "00005-2307f967-9819-48b6-a9ad-ff0cdb526bb6",
        "deepnote_to_be_reexecuted": false,
        "source_hash": "68fecd6c",
        "execution_millis": 53,
        "execution_start": 1619091893403,
        "deepnote_cell_type": "code"
      },
      "source": "#Create pd DF the same way you did the first day\n#Create the class and target columns and remove de cm from the columns names\n\ndef create_df():\n    \n    # YOUR CODE HERE\n    df_iris = pd.DataFrame(iris_data.data, columns=iris_data.feature_names)\n    df_iris['target'] = iris_data.target\n    df_iris['class'] = iris_data.target_names[iris_data.target]\n    df_iris.columns = [col.replace(\"(cm)\", \"\").strip() for col in df_iris.columns]\n\n    return df_iris\ndf_iris = create_df()\ndf_iris.sample(n=10)",
      "execution_count": 6,
      "outputs": [
        {
          "output_type": "execute_result",
          "execution_count": 6,
          "data": {
            "application/vnd.deepnote.dataframe.v2+json": {
              "row_count": 10,
              "column_count": 6,
              "columns": [
                {
                  "name": "sepal length",
                  "dtype": "float64",
                  "stats": {
                    "unique_count": 8,
                    "nan_count": 0,
                    "min": "4.9",
                    "max": "7.2",
                    "histogram": [
                      {
                        "bin_start": 4.9,
                        "bin_end": 5.130000000000001,
                        "count": 1
                      },
                      {
                        "bin_start": 5.130000000000001,
                        "bin_end": 5.36,
                        "count": 0
                      },
                      {
                        "bin_start": 5.36,
                        "bin_end": 5.59,
                        "count": 2
                      },
                      {
                        "bin_start": 5.59,
                        "bin_end": 5.82,
                        "count": 1
                      },
                      {
                        "bin_start": 5.82,
                        "bin_end": 6.050000000000001,
                        "count": 0
                      },
                      {
                        "bin_start": 6.050000000000001,
                        "bin_end": 6.28,
                        "count": 0
                      },
                      {
                        "bin_start": 6.28,
                        "bin_end": 6.51,
                        "count": 3
                      },
                      {
                        "bin_start": 6.51,
                        "bin_end": 6.74,
                        "count": 1
                      },
                      {
                        "bin_start": 6.74,
                        "bin_end": 6.970000000000001,
                        "count": 1
                      },
                      {
                        "bin_start": 6.970000000000001,
                        "bin_end": 7.2,
                        "count": 1
                      }
                    ]
                  }
                },
                {
                  "name": "sepal width",
                  "dtype": "float64",
                  "stats": {
                    "unique_count": 9,
                    "nan_count": 0,
                    "min": "2.5",
                    "max": "3.8",
                    "histogram": [
                      {
                        "bin_start": 2.5,
                        "bin_end": 2.63,
                        "count": 1
                      },
                      {
                        "bin_start": 2.63,
                        "bin_end": 2.76,
                        "count": 0
                      },
                      {
                        "bin_start": 2.76,
                        "bin_end": 2.8899999999999997,
                        "count": 1
                      },
                      {
                        "bin_start": 2.8899999999999997,
                        "bin_end": 3.02,
                        "count": 1
                      },
                      {
                        "bin_start": 3.02,
                        "bin_end": 3.15,
                        "count": 2
                      },
                      {
                        "bin_start": 3.15,
                        "bin_end": 3.28,
                        "count": 1
                      },
                      {
                        "bin_start": 3.28,
                        "bin_end": 3.4099999999999997,
                        "count": 1
                      },
                      {
                        "bin_start": 3.4099999999999997,
                        "bin_end": 3.54,
                        "count": 0
                      },
                      {
                        "bin_start": 3.54,
                        "bin_end": 3.67,
                        "count": 1
                      },
                      {
                        "bin_start": 3.67,
                        "bin_end": 3.8,
                        "count": 2
                      }
                    ]
                  }
                },
                {
                  "name": "petal length",
                  "dtype": "float64",
                  "stats": {
                    "unique_count": 9,
                    "nan_count": 0,
                    "min": "1.5",
                    "max": "6.1",
                    "histogram": [
                      {
                        "bin_start": 1.5,
                        "bin_end": 1.96,
                        "count": 3
                      },
                      {
                        "bin_start": 1.96,
                        "bin_end": 2.42,
                        "count": 0
                      },
                      {
                        "bin_start": 2.42,
                        "bin_end": 2.88,
                        "count": 0
                      },
                      {
                        "bin_start": 2.88,
                        "bin_end": 3.34,
                        "count": 0
                      },
                      {
                        "bin_start": 3.34,
                        "bin_end": 3.8,
                        "count": 0
                      },
                      {
                        "bin_start": 3.8,
                        "bin_end": 4.26,
                        "count": 0
                      },
                      {
                        "bin_start": 4.26,
                        "bin_end": 4.72,
                        "count": 3
                      },
                      {
                        "bin_start": 4.72,
                        "bin_end": 5.18,
                        "count": 1
                      },
                      {
                        "bin_start": 5.18,
                        "bin_end": 5.64,
                        "count": 2
                      },
                      {
                        "bin_start": 5.64,
                        "bin_end": 6.1,
                        "count": 1
                      }
                    ]
                  }
                },
                {
                  "name": "petal width",
                  "dtype": "float64",
                  "stats": {
                    "unique_count": 9,
                    "nan_count": 0,
                    "min": "0.2",
                    "max": "2.5",
                    "histogram": [
                      {
                        "bin_start": 0.2,
                        "bin_end": 0.43,
                        "count": 3
                      },
                      {
                        "bin_start": 0.43,
                        "bin_end": 0.6599999999999999,
                        "count": 0
                      },
                      {
                        "bin_start": 0.6599999999999999,
                        "bin_end": 0.8899999999999999,
                        "count": 0
                      },
                      {
                        "bin_start": 0.8899999999999999,
                        "bin_end": 1.1199999999999999,
                        "count": 0
                      },
                      {
                        "bin_start": 1.1199999999999999,
                        "bin_end": 1.3499999999999999,
                        "count": 1
                      },
                      {
                        "bin_start": 1.3499999999999999,
                        "bin_end": 1.5799999999999998,
                        "count": 1
                      },
                      {
                        "bin_start": 1.5799999999999998,
                        "bin_end": 1.8099999999999998,
                        "count": 1
                      },
                      {
                        "bin_start": 1.8099999999999998,
                        "bin_end": 2.04,
                        "count": 1
                      },
                      {
                        "bin_start": 2.04,
                        "bin_end": 2.27,
                        "count": 2
                      },
                      {
                        "bin_start": 2.27,
                        "bin_end": 2.5,
                        "count": 1
                      }
                    ]
                  }
                },
                {
                  "name": "target",
                  "dtype": "int64",
                  "stats": {
                    "unique_count": 3,
                    "nan_count": 0,
                    "min": "0",
                    "max": "2",
                    "histogram": [
                      {
                        "bin_start": 0,
                        "bin_end": 0.2,
                        "count": 3
                      },
                      {
                        "bin_start": 0.2,
                        "bin_end": 0.4,
                        "count": 0
                      },
                      {
                        "bin_start": 0.4,
                        "bin_end": 0.6000000000000001,
                        "count": 0
                      },
                      {
                        "bin_start": 0.6000000000000001,
                        "bin_end": 0.8,
                        "count": 0
                      },
                      {
                        "bin_start": 0.8,
                        "bin_end": 1,
                        "count": 0
                      },
                      {
                        "bin_start": 1,
                        "bin_end": 1.2000000000000002,
                        "count": 2
                      },
                      {
                        "bin_start": 1.2000000000000002,
                        "bin_end": 1.4000000000000001,
                        "count": 0
                      },
                      {
                        "bin_start": 1.4000000000000001,
                        "bin_end": 1.6,
                        "count": 0
                      },
                      {
                        "bin_start": 1.6,
                        "bin_end": 1.8,
                        "count": 0
                      },
                      {
                        "bin_start": 1.8,
                        "bin_end": 2,
                        "count": 5
                      }
                    ]
                  }
                },
                {
                  "name": "class",
                  "dtype": "object",
                  "stats": {
                    "unique_count": 3,
                    "nan_count": 0,
                    "categories": [
                      {
                        "name": "virginica",
                        "count": 5
                      },
                      {
                        "name": "setosa",
                        "count": 3
                      },
                      {
                        "name": "versicolor",
                        "count": 2
                      }
                    ]
                  }
                },
                {
                  "name": "_deepnote_index_column",
                  "dtype": "int64"
                }
              ],
              "rows_top": [
                {
                  "sepal length": 6.9,
                  "sepal width": 3.1,
                  "petal length": 5.4,
                  "petal width": 2.1,
                  "target": 2,
                  "class": "virginica",
                  "_deepnote_index_column": 139
                },
                {
                  "sepal length": 5.7,
                  "sepal width": 3.8,
                  "petal length": 1.7,
                  "petal width": 0.3,
                  "target": 0,
                  "class": "setosa",
                  "_deepnote_index_column": 18
                },
                {
                  "sepal length": 7.2,
                  "sepal width": 3.6,
                  "petal length": 6.1,
                  "petal width": 2.5,
                  "target": 2,
                  "class": "virginica",
                  "_deepnote_index_column": 109
                },
                {
                  "sepal length": 6.4,
                  "sepal width": 2.8,
                  "petal length": 5.6,
                  "petal width": 2.2,
                  "target": 2,
                  "class": "virginica",
                  "_deepnote_index_column": 132
                },
                {
                  "sepal length": 6.7,
                  "sepal width": 3.1,
                  "petal length": 4.4,
                  "petal width": 1.4,
                  "target": 1,
                  "class": "versicolor",
                  "_deepnote_index_column": 65
                },
                {
                  "sepal length": 6.4,
                  "sepal width": 2.9,
                  "petal length": 4.3,
                  "petal width": 1.3,
                  "target": 1,
                  "class": "versicolor",
                  "_deepnote_index_column": 74
                },
                {
                  "sepal length": 4.9,
                  "sepal width": 2.5,
                  "petal length": 4.5,
                  "petal width": 1.7,
                  "target": 2,
                  "class": "virginica",
                  "_deepnote_index_column": 106
                },
                {
                  "sepal length": 6.5,
                  "sepal width": 3.2,
                  "petal length": 5.1,
                  "petal width": 2,
                  "target": 2,
                  "class": "virginica",
                  "_deepnote_index_column": 110
                },
                {
                  "sepal length": 5.4,
                  "sepal width": 3.7,
                  "petal length": 1.5,
                  "petal width": 0.2,
                  "target": 0,
                  "class": "setosa",
                  "_deepnote_index_column": 10
                },
                {
                  "sepal length": 5.4,
                  "sepal width": 3.4,
                  "petal length": 1.7,
                  "petal width": 0.2,
                  "target": 0,
                  "class": "setosa",
                  "_deepnote_index_column": 20
                }
              ],
              "rows_bottom": null
            },
            "text/plain": "     sepal length  sepal width  petal length  petal width  target       class\n139           6.9          3.1           5.4          2.1       2   virginica\n18            5.7          3.8           1.7          0.3       0      setosa\n109           7.2          3.6           6.1          2.5       2   virginica\n132           6.4          2.8           5.6          2.2       2   virginica\n65            6.7          3.1           4.4          1.4       1  versicolor\n74            6.4          2.9           4.3          1.3       1  versicolor\n106           4.9          2.5           4.5          1.7       2   virginica\n110           6.5          3.2           5.1          2.0       2   virginica\n10            5.4          3.7           1.5          0.2       0      setosa\n20            5.4          3.4           1.7          0.2       0      setosa",
            "text/html": "<div>\n<style scoped>\n    .dataframe tbody tr th:only-of-type {\n        vertical-align: middle;\n    }\n\n    .dataframe tbody tr th {\n        vertical-align: top;\n    }\n\n    .dataframe thead th {\n        text-align: right;\n    }\n</style>\n<table border=\"1\" class=\"dataframe\">\n  <thead>\n    <tr style=\"text-align: right;\">\n      <th></th>\n      <th>sepal length</th>\n      <th>sepal width</th>\n      <th>petal length</th>\n      <th>petal width</th>\n      <th>target</th>\n      <th>class</th>\n    </tr>\n  </thead>\n  <tbody>\n    <tr>\n      <th>139</th>\n      <td>6.9</td>\n      <td>3.1</td>\n      <td>5.4</td>\n      <td>2.1</td>\n      <td>2</td>\n      <td>virginica</td>\n    </tr>\n    <tr>\n      <th>18</th>\n      <td>5.7</td>\n      <td>3.8</td>\n      <td>1.7</td>\n      <td>0.3</td>\n      <td>0</td>\n      <td>setosa</td>\n    </tr>\n    <tr>\n      <th>109</th>\n      <td>7.2</td>\n      <td>3.6</td>\n      <td>6.1</td>\n      <td>2.5</td>\n      <td>2</td>\n      <td>virginica</td>\n    </tr>\n    <tr>\n      <th>132</th>\n      <td>6.4</td>\n      <td>2.8</td>\n      <td>5.6</td>\n      <td>2.2</td>\n      <td>2</td>\n      <td>virginica</td>\n    </tr>\n    <tr>\n      <th>65</th>\n      <td>6.7</td>\n      <td>3.1</td>\n      <td>4.4</td>\n      <td>1.4</td>\n      <td>1</td>\n      <td>versicolor</td>\n    </tr>\n    <tr>\n      <th>74</th>\n      <td>6.4</td>\n      <td>2.9</td>\n      <td>4.3</td>\n      <td>1.3</td>\n      <td>1</td>\n      <td>versicolor</td>\n    </tr>\n    <tr>\n      <th>106</th>\n      <td>4.9</td>\n      <td>2.5</td>\n      <td>4.5</td>\n      <td>1.7</td>\n      <td>2</td>\n      <td>virginica</td>\n    </tr>\n    <tr>\n      <th>110</th>\n      <td>6.5</td>\n      <td>3.2</td>\n      <td>5.1</td>\n      <td>2.0</td>\n      <td>2</td>\n      <td>virginica</td>\n    </tr>\n    <tr>\n      <th>10</th>\n      <td>5.4</td>\n      <td>3.7</td>\n      <td>1.5</td>\n      <td>0.2</td>\n      <td>0</td>\n      <td>setosa</td>\n    </tr>\n    <tr>\n      <th>20</th>\n      <td>5.4</td>\n      <td>3.4</td>\n      <td>1.7</td>\n      <td>0.2</td>\n      <td>0</td>\n      <td>setosa</td>\n    </tr>\n  </tbody>\n</table>\n</div>"
          },
          "metadata": {}
        }
      ]
    },
    {
      "cell_type": "code",
      "metadata": {
        "deletable": false,
        "editable": false,
        "nbgrader": {
          "cell_type": "code",
          "checksum": "ae98c53b326da8480b8a565c8014a77c",
          "grade": true,
          "grade_id": "cell-632fd0e11b776633",
          "locked": true,
          "points": 2,
          "schema_version": 3,
          "solution": false,
          "task": false
        },
        "cell_id": "00006-49cd87ec-59e5-4980-a551-d9e05e3cc2ff",
        "deepnote_to_be_reexecuted": false,
        "source_hash": "19a74e00",
        "execution_start": 1619091897504,
        "execution_millis": 2,
        "deepnote_cell_type": "code"
      },
      "source": "assert df_iris['sepal length'].shape == (150,)\nassert df_iris['sepal width'].shape == (150,)\nassert df_iris['petal length'].shape == (150,)\nassert df_iris['petal width'].shape == (150,)\nassert df_iris['target'].shape == (150,)\nassert df_iris['class'].shape == (150,)",
      "execution_count": 7,
      "outputs": []
    },
    {
      "cell_type": "code",
      "metadata": {
        "deletable": false,
        "nbgrader": {
          "cell_type": "code",
          "checksum": "18ed50b4c210650755fa99122f5721f4",
          "grade": false,
          "grade_id": "cell-1b1da2fc006dd2f6",
          "locked": false,
          "schema_version": 3,
          "solution": true,
          "task": false
        },
        "cell_id": "00007-2f22078d-4e35-4787-928f-0b085e48338d",
        "deepnote_to_be_reexecuted": false,
        "source_hash": "102e2281",
        "execution_millis": 9,
        "execution_start": 1619092138418,
        "deepnote_cell_type": "code"
      },
      "source": "#From our data we will only get variable columns as np.array\nx = 0\n# YOUR CODE HERE\nx=df_iris[[\"sepal length\",\"sepal width\",\"petal length\",\"petal width\"]].to_numpy()\ntype(x)",
      "execution_count": 21,
      "outputs": [
        {
          "output_type": "execute_result",
          "execution_count": 21,
          "data": {
            "text/plain": "numpy.ndarray"
          },
          "metadata": {}
        }
      ]
    },
    {
      "cell_type": "code",
      "metadata": {
        "deletable": false,
        "editable": false,
        "nbgrader": {
          "cell_type": "code",
          "checksum": "abfb4df775beb206b668987baad09223",
          "grade": true,
          "grade_id": "cell-81d6796d99e92aa3",
          "locked": true,
          "points": 0,
          "schema_version": 3,
          "solution": false,
          "task": false
        },
        "cell_id": "00008-a8516a41-6d2a-486b-bc03-8d53d1d35697",
        "deepnote_to_be_reexecuted": false,
        "source_hash": "31441827",
        "execution_millis": 1,
        "execution_start": 1619092142694,
        "deepnote_cell_type": "code"
      },
      "source": "assert x.shape == (150,4)",
      "execution_count": 22,
      "outputs": []
    },
    {
      "cell_type": "markdown",
      "source": "**Step 3:** Perform hierarchical clustering on `samples` using the `linkage()` function with the `method='complete'` keyword argument. Assign the result to `mergings`.",
      "metadata": {
        "cell_id": "00009-2642c0b0-a537-4932-a8f4-b6f085c14edd",
        "deepnote_cell_type": "markdown"
      }
    },
    {
      "cell_type": "code",
      "metadata": {
        "deletable": false,
        "nbgrader": {
          "cell_type": "code",
          "checksum": "a3c72f8ff20d9c274f3c8d0dfd349181",
          "grade": false,
          "grade_id": "cell-2a4681a4e740a6fe",
          "locked": false,
          "schema_version": 3,
          "solution": true,
          "task": false
        },
        "cell_id": "00010-9f0d4fab-c671-4258-895a-a8d611ca9c95",
        "deepnote_to_be_reexecuted": false,
        "source_hash": "2bf0349a",
        "execution_millis": 15,
        "execution_start": 1619093526932,
        "deepnote_cell_type": "code"
      },
      "source": "mergings = 0 \nfrom scipy.cluster import hierarchy \nfrom scipy.spatial import distance_matrix\ndist_matrix = distance_matrix(x,x)\nmergings = hierarchy.linkage(dist_matrix, 'complete')\n",
      "execution_count": 36,
      "outputs": [
        {
          "name": "stderr",
          "text": "/shared-libs/python3.7/py-core/lib/python3.7/site-packages/ipykernel_launcher.py:5: ClusterWarning: scipy.cluster: The symmetric non-negative hollow observation matrix looks suspiciously like an uncondensed distance matrix\n  \"\"\"\n",
          "output_type": "stream"
        }
      ]
    },
    {
      "cell_type": "code",
      "metadata": {
        "deletable": false,
        "editable": false,
        "nbgrader": {
          "cell_type": "code",
          "checksum": "311d7567084e2d3fbc957d155aac6957",
          "grade": true,
          "grade_id": "cell-bd07f2be641ae1c5",
          "locked": true,
          "points": 3,
          "schema_version": 3,
          "solution": false,
          "task": false
        },
        "cell_id": "00011-f6b9deb5-388b-49e5-94c0-bf9d9e364807",
        "deepnote_to_be_reexecuted": false,
        "source_hash": "748aafc7",
        "execution_start": 1619092478363,
        "execution_millis": 4,
        "deepnote_cell_type": "code"
      },
      "source": "assert mergings.shape == (149,4)",
      "execution_count": 26,
      "outputs": []
    },
    {
      "cell_type": "markdown",
      "source": "**Step 4:** Plot a dendrogram using the `dendrogram()` function on `mergings`, specifying the keyword arguments `labels=varieties`, `leaf_rotation=90`, and `leaf_font_size=6`.  Remember to call `plt.show()` afterwards, to display your plot.",
      "metadata": {
        "deletable": false,
        "editable": false,
        "nbgrader": {
          "cell_type": "markdown",
          "checksum": "0655649d31c47a33c2de51b7316e64df",
          "grade": false,
          "grade_id": "cell-e0502f3d32a027c4",
          "locked": true,
          "schema_version": 3,
          "solution": false,
          "task": false
        },
        "cell_id": "00012-22db5001-8372-40d3-aa04-ca90eea89964",
        "deepnote_cell_type": "markdown"
      }
    },
    {
      "cell_type": "code",
      "metadata": {
        "deletable": false,
        "nbgrader": {
          "cell_type": "code",
          "checksum": "8c1a8101de48297cde138f126c6c2c63",
          "grade": false,
          "grade_id": "cell-8ba6a5e72836aa92",
          "locked": false,
          "schema_version": 3,
          "solution": true,
          "task": false
        },
        "cell_id": "00013-e20b8171-03ae-4619-bebd-4ae47f7ae49c",
        "deepnote_to_be_reexecuted": false,
        "source_hash": "493506d2",
        "execution_millis": 4417,
        "execution_start": 1619093804376,
        "deepnote_cell_type": "code"
      },
      "source": "dn = 0\n# YOUR CODE HERE\n\n\nZ = linkage(x, 'ward')\nfig = plt.figure(figsize=(25, 10))\n\ndn = dendrogram(Z, leaf_rotation=90,leaf_font_size=6, above_threshold_color='y',\n                           orientation='top')\n\n\n#Z = linkage(x, 'single')\n#fig = plt.figure(figsize=(25, 10))\n#dn = dendrogram(Z, leaf_rotation=90,leaf_font_size=6, above_threshold_color='y',\n#                           orientation='top')\n#labels=varieties, leaf_rotation=90, and leaf_font_size=6\nplt.show()",
      "execution_count": 43,
      "outputs": [
        {
          "data": {
            "text/plain": "<Figure size 1800x720 with 1 Axes>",
            "image/png": "[encoded data removed]"
          },
          "metadata": {
            "needs_background": "light"
          },
          "output_type": "display_data"
        }
      ]
    },
    {
      "cell_type": "code",
      "metadata": {
        "deletable": false,
        "editable": false,
        "nbgrader": {
          "cell_type": "code",
          "checksum": "c7cafedfeaabce98514c30d6a2d53331",
          "grade": true,
          "grade_id": "cell-bc0248a8151d10ab",
          "locked": true,
          "points": 3,
          "schema_version": 3,
          "solution": false,
          "task": false
        },
        "cell_id": "00014-190918a5-995c-4a86-820e-d36fc9a08c40",
        "deepnote_to_be_reexecuted": false,
        "source_hash": "28f0e714",
        "execution_millis": 55,
        "execution_start": 1619093590847,
        "deepnote_cell_type": "code"
      },
      "source": "assert type(dn) == type(dendrogram(np.random.rand(15, 4)))",
      "execution_count": 38,
      "outputs": [
        {
          "data": {
            "text/plain": "<Figure size 432x288 with 1 Axes>",
            "image/png": "[encoded data removed]"
          },
          "metadata": {
            "needs_background": "light"
          },
          "output_type": "display_data"
        }
      ]
    },
    {
      "cell_type": "markdown",
      "source": "## K-MEANS\n\nfor this next part we will use the K-Means algorithm in order to cluster your data",
      "metadata": {
        "deletable": false,
        "editable": false,
        "nbgrader": {
          "cell_type": "markdown",
          "checksum": "0359d6cc58f0adeea5ab36ea1be31ff4",
          "grade": false,
          "grade_id": "cell-6c3fb83905359f79",
          "locked": true,
          "schema_version": 3,
          "solution": false,
          "task": false
        },
        "cell_id": "00015-ca1a2ed9-61c9-49d2-bbf7-16e06e91249e",
        "deepnote_cell_type": "markdown"
      }
    },
    {
      "cell_type": "markdown",
      "source": "**Step 1:** \n+ import `KMeans` from `sklearn.cluster`\n+ loading our new datasets",
      "metadata": {
        "deletable": false,
        "editable": false,
        "nbgrader": {
          "cell_type": "markdown",
          "checksum": "64681468d287f185510e010c9c8f62e2",
          "grade": false,
          "grade_id": "cell-e554a1446ad626ec",
          "locked": true,
          "schema_version": 3,
          "solution": false,
          "task": false
        },
        "cell_id": "00016-9d7d9b1a-52b8-4514-8832-ab6f4f342c63",
        "deepnote_cell_type": "markdown"
      }
    },
    {
      "cell_type": "code",
      "metadata": {
        "cell_id": "00017-bc907b89-d2a7-4352-8b8d-8c2592fb5eca",
        "deepnote_to_be_reexecuted": false,
        "source_hash": "8177534d",
        "execution_millis": 12,
        "execution_start": 1619095492125,
        "deepnote_cell_type": "code"
      },
      "source": "from sklearn.cluster import KMeans\n\ndf = pd.read_csv('./datasets/ch1ex1.csv')\npoints = df.values\n\nnew_df = pd.read_csv('./datasets/ch1ex2.csv')\nnew_points = new_df.values\n",
      "execution_count": 85,
      "outputs": []
    },
    {
      "cell_type": "markdown",
      "source": "**Step 2:** Using `KMeans()`, create a `KMeans` instance called `model` to find `3` clusters. To specify the number of clusters, use the `n_clusters` keyword argument\n",
      "metadata": {
        "deletable": false,
        "editable": false,
        "nbgrader": {
          "cell_type": "markdown",
          "checksum": "15993ab96197f3ecead1d8ff5a8830de",
          "grade": false,
          "grade_id": "cell-09b5216391582184",
          "locked": true,
          "schema_version": 3,
          "solution": false,
          "task": false
        },
        "cell_id": "00018-fd70d11e-7a64-4048-a2d0-6366714609de",
        "deepnote_cell_type": "markdown"
      }
    },
    {
      "cell_type": "code",
      "metadata": {
        "deletable": false,
        "nbgrader": {
          "cell_type": "code",
          "checksum": "788e3cefa230e6aa2df6843ca341a12a",
          "grade": false,
          "grade_id": "cell-d4136dfc2ba753ba",
          "locked": false,
          "schema_version": 3,
          "solution": true,
          "task": false
        },
        "cell_id": "00019-b0ebbca6-4105-4709-a5e2-fa551d9e47ac",
        "deepnote_to_be_reexecuted": false,
        "source_hash": "e9085fb5",
        "execution_millis": 4,
        "execution_start": 1619094703675,
        "deepnote_cell_type": "code"
      },
      "source": "model = 0\n# YOUR CODE HERE\nmodel = KMeans(init = \"k-means++\", n_clusters = 3, n_init = 12)\n",
      "execution_count": 67,
      "outputs": []
    },
    {
      "cell_type": "code",
      "metadata": {
        "deletable": false,
        "editable": false,
        "nbgrader": {
          "cell_type": "code",
          "checksum": "299853ae31c16eaa5ad10a3f466137bc",
          "grade": true,
          "grade_id": "cell-a6a59ad2afd63249",
          "locked": true,
          "points": 1,
          "schema_version": 3,
          "solution": false,
          "task": false
        },
        "cell_id": "00020-4e4fd8a4-af48-4ff3-9a4b-8b7cf72e65ac",
        "deepnote_to_be_reexecuted": false,
        "source_hash": "d685245a",
        "execution_millis": 1,
        "execution_start": 1619094704389,
        "deepnote_cell_type": "code"
      },
      "source": "assert type(model)== type(KMeans())",
      "execution_count": 68,
      "outputs": []
    },
    {
      "cell_type": "markdown",
      "source": "**Step 4:** Use the `.fit()` method of `model` to fit the model to the array of points `points`.",
      "metadata": {
        "deletable": false,
        "editable": false,
        "nbgrader": {
          "cell_type": "markdown",
          "checksum": "8cbab2680ed21b9c6d8e2eb953f283a4",
          "grade": false,
          "grade_id": "cell-3b83408ca14ce116",
          "locked": true,
          "schema_version": 3,
          "solution": false,
          "task": false
        },
        "cell_id": "00021-0c9f2bd9-ac97-426c-8c38-eb063947911d",
        "deepnote_cell_type": "markdown"
      }
    },
    {
      "cell_type": "code",
      "metadata": {
        "deletable": false,
        "nbgrader": {
          "cell_type": "code",
          "checksum": "c534d56e7496f8a3b795591aa651b78f",
          "grade": false,
          "grade_id": "cell-9a699df5bd74992a",
          "locked": false,
          "schema_version": 3,
          "solution": true,
          "task": false
        },
        "cell_id": "00022-ae86d06d-a968-4393-a899-879693ab8fe1",
        "deepnote_to_be_reexecuted": false,
        "source_hash": "c43e214",
        "execution_millis": 388,
        "execution_start": 1619095502066,
        "deepnote_cell_type": "code"
      },
      "source": "# YOUR CODE HERE\nx = StandardScaler().fit_transform(points)\nmodel.fit(points)",
      "execution_count": 86,
      "outputs": [
        {
          "output_type": "execute_result",
          "execution_count": 86,
          "data": {
            "text/plain": "KMeans(n_clusters=3, n_init=12)"
          },
          "metadata": {}
        }
      ]
    },
    {
      "cell_type": "markdown",
      "source": "**Step 5:** Use the `.predict()` method of `model` to predict the cluster labels of `points`, assigning the result to `labels`.",
      "metadata": {
        "deletable": false,
        "editable": false,
        "nbgrader": {
          "cell_type": "markdown",
          "checksum": "30b03b4a58715fbfbcc458ffff4a9452",
          "grade": false,
          "grade_id": "cell-5f7dc6671c80bcf3",
          "locked": true,
          "schema_version": 3,
          "solution": false,
          "task": false
        },
        "cell_id": "00023-d585f0b9-e263-4b56-8596-8d72d2dbcccb",
        "deepnote_cell_type": "markdown"
      }
    },
    {
      "cell_type": "code",
      "metadata": {
        "deletable": false,
        "nbgrader": {
          "cell_type": "code",
          "checksum": "a5651a88814e14bcce46dec2a676e9c4",
          "grade": false,
          "grade_id": "cell-fe0636d9d3113913",
          "locked": false,
          "schema_version": 3,
          "solution": true,
          "task": false
        },
        "cell_id": "00024-f8ecb0ae-6680-4660-ad93-c3898131c544",
        "deepnote_to_be_reexecuted": false,
        "source_hash": "2e6047ad",
        "execution_millis": 32,
        "execution_start": 1619095523362,
        "deepnote_cell_type": "code"
      },
      "source": "# YOUR CODE HERE\n#labels = model.labels_\nlabels=model.predict(points)\nk_means_cluster_centers = model.cluster_centers_\nk_means_cluster_centers\n\nlabels",
      "execution_count": 89,
      "outputs": [
        {
          "output_type": "execute_result",
          "execution_count": 89,
          "data": {
            "text/plain": "array([2, 0, 1, 1, 0, 0, 1, 2, 0, 0, 1, 2, 0, 1, 0, 2, 1, 1, 2, 1, 0, 2,\n       0, 2, 2, 0, 2, 2, 2, 0, 1, 1, 1, 0, 2, 0, 2, 2, 0, 2, 2, 1, 0, 0,\n       0, 2, 2, 1, 2, 1, 1, 1, 2, 2, 2, 0, 2, 2, 0, 1, 0, 2, 2, 1, 1, 0,\n       1, 0, 0, 2, 1, 0, 1, 2, 1, 0, 2, 2, 2, 1, 2, 0, 1, 0, 0, 0, 0, 2,\n       2, 1, 0, 1, 0, 2, 2, 2, 1, 0, 0, 1, 0, 2, 0, 1, 2, 1, 1, 1, 0, 0,\n       2, 0, 1, 0, 0, 0, 2, 0, 1, 1, 2, 2, 2, 2, 2, 0, 1, 2, 0, 0, 1, 1,\n       0, 2, 0, 2, 1, 0, 1, 2, 1, 1, 2, 1, 1, 2, 1, 0, 2, 2, 2, 1, 1, 0,\n       1, 0, 2, 2, 1, 0, 1, 1, 1, 0, 2, 2, 0, 1, 1, 2, 2, 1, 2, 2, 0, 2,\n       1, 1, 1, 2, 2, 1, 2, 1, 1, 2, 0, 1, 2, 2, 2, 2, 0, 1, 2, 0, 0, 0,\n       2, 0, 2, 2, 0, 1, 1, 2, 1, 2, 2, 0, 0, 2, 1, 0, 1, 2, 1, 0, 2, 0,\n       0, 0, 0, 1, 1, 1, 2, 2, 0, 2, 1, 0, 2, 2, 0, 2, 1, 1, 1, 1, 1, 0,\n       2, 2, 1, 1, 2, 0, 1, 0, 0, 2, 2, 0, 0, 0, 2, 1, 2, 0, 2, 1, 1, 1,\n       1, 1, 2, 2, 0, 2, 2, 0, 1, 1, 0, 2, 1, 1, 0, 0, 2, 2, 2, 0, 0, 2,\n       1, 0, 0, 1, 2, 2, 2, 0, 2, 2, 2, 0, 0, 0], dtype=int32)"
          },
          "metadata": {}
        }
      ]
    },
    {
      "cell_type": "code",
      "metadata": {
        "deletable": false,
        "editable": false,
        "nbgrader": {
          "cell_type": "code",
          "checksum": "893f043c599b2d2589ffaee908b945e2",
          "grade": true,
          "grade_id": "cell-3e790b82f9bf37fc",
          "locked": true,
          "points": 2,
          "schema_version": 3,
          "solution": false,
          "task": false
        },
        "cell_id": "00025-d54fdfba-15c1-4026-bc1c-5b42b82f9acb",
        "deepnote_to_be_reexecuted": false,
        "source_hash": "fcf9228c",
        "execution_millis": 11,
        "execution_start": 1619095526623,
        "deepnote_cell_type": "code"
      },
      "source": "assert labels[labels.argmax()] == 2\nassert labels.shape == (300,)",
      "execution_count": 90,
      "outputs": []
    },
    {
      "cell_type": "code",
      "metadata": {
        "deletable": false,
        "nbgrader": {
          "cell_type": "code",
          "checksum": "f52e0cd3e0456fb6e8309a557b0b5e2a",
          "grade": false,
          "grade_id": "cell-917ce87ba793a518",
          "locked": false,
          "schema_version": 3,
          "solution": true,
          "task": false
        },
        "cell_id": "00026-3624dbf5-e35a-4b36-bd88-5f3d971c67bf",
        "deepnote_to_be_reexecuted": false,
        "source_hash": "dd64ba63",
        "execution_millis": 20,
        "execution_start": 1619095846272,
        "deepnote_cell_type": "code"
      },
      "source": "# Make a function that returns 3 numpy arrays each one with the points associated for each class\n#If the label is 0 they go into data_0\n#If the label is 1 they go into data_1\n#If the label is 2 they go into data_2\ndef separate_labels(labels, points):\n    data_0 = []\n    data_1 = []\n    data_2 = []\n    for i in labels:\n        if i==0:\n            data_0.append(0)\n        elif i==1:\n            data_1.append(1)\n        else:\n            data_2.append(2)\n    data_0=np.array(data_0)\n    data_1=np.array(data_1)\n    data_2=np.array(data_2)\n\n    return data_0,data_1,data_2\n\n\ndata_0,data_1,data_2 =separate_labels(labels, points)\n\nprint(data_0.shape)\nprint(data_1.shape)\nprint(data_2.shape)",
      "execution_count": 92,
      "outputs": [
        {
          "name": "stdout",
          "text": "(95,)\n(94,)\n(111,)\n",
          "output_type": "stream"
        }
      ]
    },
    {
      "cell_type": "code",
      "metadata": {
        "deletable": false,
        "editable": false,
        "nbgrader": {
          "cell_type": "code",
          "checksum": "3066f6d418963a9e453d348f0b2cf930",
          "grade": true,
          "grade_id": "cell-9d19700f8e07d490",
          "locked": true,
          "points": 2,
          "schema_version": 3,
          "solution": false,
          "task": false
        },
        "cell_id": "00027-6acbbedc-8d7c-4413-964d-0a8703fd721c",
        "deepnote_to_be_reexecuted": false,
        "source_hash": "88fe6cd9",
        "execution_start": 1619095857977,
        "execution_millis": 4,
        "deepnote_cell_type": "code"
      },
      "source": "assert abs(data_0.shape[0] - 94) <= 20\nassert abs(data_1.shape[0] - 95) <= 20\nassert abs(data_2.shape[0] - 111) <= 20",
      "execution_count": 93,
      "outputs": []
    },
    {
      "cell_type": "code",
      "metadata": {
        "deletable": false,
        "nbgrader": {
          "cell_type": "code",
          "checksum": "c5f4d0de3ac0acc26863e198506fa8b7",
          "grade": false,
          "grade_id": "cell-6ae9d7e6dfb48eda",
          "locked": false,
          "schema_version": 3,
          "solution": true,
          "task": false
        },
        "cell_id": "00028-ca6fe91f-2562-44c2-a6cc-ae0e6584f392",
        "deepnote_cell_type": "code"
      },
      "source": "# plotting the data \n\n# YOUR CODE HERE\nraise NotImplementedError()",
      "execution_count": null,
      "outputs": []
    },
    {
      "cell_type": "markdown",
      "source": "**Step 7:** Use the `.predict()` method of `model` to predict the cluster labels of `new_points`, assigning the result to `new_labels`.  Notice that KMeans can assign previously unseen points to the clusters it has already found!",
      "metadata": {
        "cell_id": "00029-3a567ed1-d718-4489-a522-e18821f5ee58",
        "deepnote_cell_type": "markdown"
      }
    },
    {
      "cell_type": "code",
      "metadata": {
        "deletable": false,
        "nbgrader": {
          "cell_type": "code",
          "checksum": "c95b4da428ab89a5469c7573568e23b7",
          "grade": false,
          "grade_id": "cell-e1c6be8c2b6c48ab",
          "locked": false,
          "schema_version": 3,
          "solution": true,
          "task": false
        },
        "cell_id": "00030-6f135d75-66d0-4561-ba92-0a9c97c42f5a",
        "deepnote_cell_type": "code"
      },
      "source": "\n# YOUR CODE HERE\nraise NotImplementedError()\n",
      "execution_count": null,
      "outputs": []
    },
    {
      "cell_type": "code",
      "metadata": {
        "deletable": false,
        "editable": false,
        "nbgrader": {
          "cell_type": "code",
          "checksum": "aa10520a3430ab954c74429812f48ee3",
          "grade": true,
          "grade_id": "cell-33a135652cf843e7",
          "locked": true,
          "points": 2,
          "schema_version": 3,
          "solution": false,
          "task": false
        },
        "cell_id": "00031-85a2a095-8d76-47fb-89d2-8bbe448bcfcc",
        "deepnote_cell_type": "code"
      },
      "source": "assert new_labels[new_labels.argmax()] == 2\nassert new_labels.shape == (100,)",
      "execution_count": null,
      "outputs": []
    },
    {
      "cell_type": "code",
      "metadata": {
        "deletable": false,
        "nbgrader": {
          "cell_type": "code",
          "checksum": "1e8f9bc5a331d2950dc2f9af66927ec1",
          "grade": false,
          "grade_id": "cell-91d525783ae0a408",
          "locked": false,
          "schema_version": 3,
          "solution": true,
          "task": false
        },
        "cell_id": "00032-18522b6d-1e7b-4568-a26b-d1ef16ceca87",
        "deepnote_cell_type": "code"
      },
      "source": "#separate the data by labels like we did before\n\nnew_0 = []\nnew_1 = []\nnew_2 = []\n\n# YOUR CODE HERE\nraise NotImplementedError()\n",
      "execution_count": null,
      "outputs": []
    },
    {
      "cell_type": "code",
      "metadata": {
        "deletable": false,
        "editable": false,
        "nbgrader": {
          "cell_type": "code",
          "checksum": "208a9cb902182bc69798e0bd2a69641c",
          "grade": true,
          "grade_id": "cell-bbb9a9b41cb01987",
          "locked": true,
          "points": 2,
          "schema_version": 3,
          "solution": false,
          "task": false
        },
        "cell_id": "00033-1930457d-b3db-44cc-b17d-44a6525bfae2",
        "deepnote_cell_type": "code"
      },
      "source": "assert abs(new_0.shape[0] - 34) <= 5\nassert abs(new_1.shape[0] - 34) <= 5\nassert abs(new_2.shape[0] - 34) <= 5",
      "execution_count": null,
      "outputs": []
    },
    {
      "cell_type": "code",
      "metadata": {
        "deletable": false,
        "nbgrader": {
          "cell_type": "code",
          "checksum": "6a0410e87bf245f30676043a001b9293",
          "grade": false,
          "grade_id": "cell-f0f51c7f91e8b4df",
          "locked": false,
          "schema_version": 3,
          "solution": true,
          "task": false
        },
        "cell_id": "00034-db222c4e-c3a3-4cbd-9c98-461539dbfc19",
        "deepnote_cell_type": "code"
      },
      "source": "#plot the new labels\n\n\n# YOUR CODE HERE\nraise NotImplementedError()",
      "execution_count": null,
      "outputs": []
    },
    {
      "cell_type": "code",
      "metadata": {
        "deletable": false,
        "nbgrader": {
          "cell_type": "code",
          "checksum": "30dd9068ed42010daa03e359cef86058",
          "grade": false,
          "grade_id": "cell-fb66bc887cd85537",
          "locked": false,
          "schema_version": 3,
          "solution": true,
          "task": false
        },
        "cell_id": "00035-dcc73980-39fc-42f4-9ea9-3b2e67919e51",
        "deepnote_cell_type": "code"
      },
      "source": "#plot all the points together\n\n# YOUR CODE HERE\nraise NotImplementedError()",
      "execution_count": null,
      "outputs": []
    },
    {
      "cell_type": "markdown",
      "source": "<a style='text-decoration:none;line-height:16px;display:flex;color:#5B5B62;padding:10px;justify-content:end;' href='https://deepnote.com?utm_source=created-in-deepnote-cell&projectId=796ba814-f632-4502-b0d7-7e2f8f9e546d' target=\"_blank\">\n<img alt='Created in deepnote.com' style='display:inline;max-height:16px;margin:0px;margin-right:7.5px;' src='data:image/svg+xml;base64,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' > </img>\nCreated in <span style='font-weight:600;margin-left:4px;'>Deepnote</span></a>",
      "metadata": {
        "tags": [],
        "created_in_deepnote_cell": true,
        "deepnote_cell_type": "markdown"
      }
    }
  ],
  "nbformat": 4,
  "nbformat_minor": 2,
  "metadata": {
    "kernelspec": {
      "display_name": "Python 3",
      "language": "python",
      "name": "python3"
    },
    "language_info": {
      "codemirror_mode": {
        "name": "ipython",
        "version": 3
      },
      "file_extension": ".py",
      "mimetype": "text/x-python",
      "name": "python",
      "nbconvert_exporter": "python",
      "pygments_lexer": "ipython3",
      "version": "3.8.8"
    },
    "deepnote_notebook_id": "af4ec4ef-b913-435d-80f9-6cae6a4a58b7",
    "deepnote": {},
    "deepnote_execution_queue": []
  }
}