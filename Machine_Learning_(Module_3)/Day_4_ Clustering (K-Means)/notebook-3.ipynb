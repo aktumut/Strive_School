{
  "cells": [
    {
      "cell_type": "code",
      "metadata": {
        "tags": [],
        "deepnote_to_be_reexecuted": false,
        "source_hash": "e820e5f9",
        "execution_millis": 2031,
        "cell_id": "00000-f0e3642f-b2ab-4b44-81db-a96be3c702d1",
        "execution_start": 1619167704891,
        "deepnote_cell_type": "code"
      },
      "source": "import pandas as pd\nimport numpy as np\nfrom sklearn.cluster import KMeans\nfrom sklearn.preprocessing import StandardScaler\nimport matplotlib.pyplot as plt\n",
      "execution_count": 2,
      "outputs": []
    },
    {
      "cell_type": "code",
      "metadata": {
        "tags": [],
        "deepnote_to_be_reexecuted": false,
        "source_hash": "d5a701ac",
        "execution_millis": 59,
        "cell_id": "00001-43702c8f-510d-40d2-9e87-2c8109858c7a",
        "execution_start": 1619167706926,
        "deepnote_cell_type": "code"
      },
      "source": "df=pd.read_csv(\"/work/galaxies.csv\")\ndf",
      "execution_count": 3,
      "outputs": [
        {
          "output_type": "execute_result",
          "execution_count": 3,
          "data": {
            "application/vnd.deepnote.dataframe.v2+json": {
              "row_count": 1000,
              "column_count": 2,
              "columns": [
                {
                  "name": "X",
                  "dtype": "float64",
                  "stats": {
                    "unique_count": 1000,
                    "nan_count": 0,
                    "min": "1.9135929701884589",
                    "max": "9.16085726217318",
                    "histogram": [
                      {
                        "bin_start": 1.9135929701884589,
                        "bin_end": 2.6383193993869307,
                        "count": 3
                      },
                      {
                        "bin_start": 2.6383193993869307,
                        "bin_end": 3.363045828585403,
                        "count": 9
                      },
                      {
                        "bin_start": 3.363045828585403,
                        "bin_end": 4.087772257783875,
                        "count": 62
                      },
                      {
                        "bin_start": 4.087772257783875,
                        "bin_end": 4.812498686982347,
                        "count": 151
                      },
                      {
                        "bin_start": 4.812498686982347,
                        "bin_end": 5.537225116180819,
                        "count": 253
                      },
                      {
                        "bin_start": 5.537225116180819,
                        "bin_end": 6.261951545379292,
                        "count": 245
                      },
                      {
                        "bin_start": 6.261951545379292,
                        "bin_end": 6.986677974577764,
                        "count": 166
                      },
                      {
                        "bin_start": 6.986677974577764,
                        "bin_end": 7.7114044037762355,
                        "count": 74
                      },
                      {
                        "bin_start": 7.7114044037762355,
                        "bin_end": 8.436130832974708,
                        "count": 32
                      },
                      {
                        "bin_start": 8.436130832974708,
                        "bin_end": 9.16085726217318,
                        "count": 5
                      }
                    ]
                  }
                },
                {
                  "name": "Y",
                  "dtype": "float64",
                  "stats": {
                    "unique_count": 1000,
                    "nan_count": 0,
                    "min": "-11.305421631058293",
                    "max": "13.612303608308151",
                    "histogram": [
                      {
                        "bin_start": -11.305421631058293,
                        "bin_end": -8.813649107121648,
                        "count": 86
                      },
                      {
                        "bin_start": -8.813649107121648,
                        "bin_end": -6.321876583185004,
                        "count": 236
                      },
                      {
                        "bin_start": -6.321876583185004,
                        "bin_end": -3.8301040592483595,
                        "count": 11
                      },
                      {
                        "bin_start": -3.8301040592483595,
                        "bin_end": -1.3383315353117151,
                        "count": 0
                      },
                      {
                        "bin_start": -1.3383315353117151,
                        "bin_end": 1.1534409886249293,
                        "count": 4
                      },
                      {
                        "bin_start": 1.1534409886249293,
                        "bin_end": 3.6452135125615737,
                        "count": 181
                      },
                      {
                        "bin_start": 3.6452135125615737,
                        "bin_end": 6.136986036498216,
                        "count": 146
                      },
                      {
                        "bin_start": 6.136986036498216,
                        "bin_end": 8.628758560434862,
                        "count": 65
                      },
                      {
                        "bin_start": 8.628758560434862,
                        "bin_end": 11.120531084371509,
                        "count": 244
                      },
                      {
                        "bin_start": 11.120531084371509,
                        "bin_end": 13.612303608308151,
                        "count": 27
                      }
                    ]
                  }
                },
                {
                  "name": "_deepnote_index_column",
                  "dtype": "int64"
                }
              ],
              "rows_top": [
                {
                  "X": 6.649504200096853,
                  "Y": 2.223293028251595,
                  "_deepnote_index_column": 0
                },
                {
                  "X": 5.260231731441283,
                  "Y": -7.556044532921168,
                  "_deepnote_index_column": 1
                },
                {
                  "X": 6.164551027767426,
                  "Y": 9.24561800014239,
                  "_deepnote_index_column": 2
                },
                {
                  "X": 5.033344908832953,
                  "Y": 9.002008610768787,
                  "_deepnote_index_column": 3
                },
                {
                  "X": 3.6743500228392234,
                  "Y": -7.836117669984453,
                  "_deepnote_index_column": 4
                },
                {
                  "X": 4.697979598539535,
                  "Y": 3.3461961843986594,
                  "_deepnote_index_column": 5
                },
                {
                  "X": 7.119966370982796,
                  "Y": 3.9467886533222982,
                  "_deepnote_index_column": 6
                },
                {
                  "X": 5.121132028074139,
                  "Y": -7.757304331164904,
                  "_deepnote_index_column": 7
                },
                {
                  "X": 3.2940019178049087,
                  "Y": 10.738827735729682,
                  "_deepnote_index_column": 8
                },
                {
                  "X": 4.220692383406102,
                  "Y": 11.641911669863545,
                  "_deepnote_index_column": 9
                },
                {
                  "X": 5.31038925877621,
                  "Y": 3.671731347867615,
                  "_deepnote_index_column": 10
                },
                {
                  "X": 4.394850432960989,
                  "Y": -9.002457113905525,
                  "_deepnote_index_column": 11
                },
                {
                  "X": 8.051080931226737,
                  "Y": -8.067176520339144,
                  "_deepnote_index_column": 12
                },
                {
                  "X": 5.218824340491361,
                  "Y": -8.493466422296919,
                  "_deepnote_index_column": 13
                },
                {
                  "X": 6.060112533571965,
                  "Y": 3.033652415685124,
                  "_deepnote_index_column": 14
                },
                {
                  "X": 3.968500891023417,
                  "Y": 10.796762745653702,
                  "_deepnote_index_column": 15
                },
                {
                  "X": 5.701424462860512,
                  "Y": 2.651120208433781,
                  "_deepnote_index_column": 16
                },
                {
                  "X": 4.681658952494677,
                  "Y": -8.23544297084461,
                  "_deepnote_index_column": 17
                },
                {
                  "X": 4.922484754914062,
                  "Y": -8.124855192017236,
                  "_deepnote_index_column": 18
                },
                {
                  "X": 6.637092442301642,
                  "Y": 5.607998361813911,
                  "_deepnote_index_column": 19
                },
                {
                  "X": 6.312481998783911,
                  "Y": 3.025256105546085,
                  "_deepnote_index_column": 20
                },
                {
                  "X": 5.333503374745869,
                  "Y": -9.622134376932427,
                  "_deepnote_index_column": 21
                },
                {
                  "X": 6.569223502516504,
                  "Y": 4.479940928059448,
                  "_deepnote_index_column": 22
                },
                {
                  "X": 6.32118119948469,
                  "Y": 4.122000011893686,
                  "_deepnote_index_column": 23
                },
                {
                  "X": 5.052487092993996,
                  "Y": 9.536973446605671,
                  "_deepnote_index_column": 24
                },
                {
                  "X": 5.030443534611415,
                  "Y": -8.983419092086924,
                  "_deepnote_index_column": 25
                },
                {
                  "X": 6.662717551920393,
                  "Y": -9.410801317174617,
                  "_deepnote_index_column": 26
                },
                {
                  "X": 6.691528979569692,
                  "Y": -6.887104060083061,
                  "_deepnote_index_column": 27
                },
                {
                  "X": 3.7083728246952137,
                  "Y": 10.12931779234532,
                  "_deepnote_index_column": 28
                },
                {
                  "X": 5.263977918375367,
                  "Y": 0.8016336406557634,
                  "_deepnote_index_column": 29
                },
                {
                  "X": 6.561751147007882,
                  "Y": 3.3190894929677657,
                  "_deepnote_index_column": 30
                },
                {
                  "X": 5.744520113962376,
                  "Y": 9.80893966964761,
                  "_deepnote_index_column": 31
                },
                {
                  "X": 7.3420855297603165,
                  "Y": 2.842348309496596,
                  "_deepnote_index_column": 32
                },
                {
                  "X": 6.235209798888491,
                  "Y": 9.764122396665718,
                  "_deepnote_index_column": 33
                },
                {
                  "X": 8.995615796367574,
                  "Y": 2.4359242924778357,
                  "_deepnote_index_column": 34
                },
                {
                  "X": 7.756347025850246,
                  "Y": 3.827013754422005,
                  "_deepnote_index_column": 35
                },
                {
                  "X": 5.92627372275054,
                  "Y": -7.179040922032251,
                  "_deepnote_index_column": 36
                },
                {
                  "X": 3.9990051221089926,
                  "Y": 10.385315498290424,
                  "_deepnote_index_column": 37
                },
                {
                  "X": 6.181502021856382,
                  "Y": 2.6743439684041923,
                  "_deepnote_index_column": 38
                },
                {
                  "X": 6.211241400472022,
                  "Y": 4.288174311063491,
                  "_deepnote_index_column": 39
                },
                {
                  "X": 5.73144125560838,
                  "Y": 4.837134089018065,
                  "_deepnote_index_column": 40
                },
                {
                  "X": 4.4852080198882565,
                  "Y": 9.788684623386722,
                  "_deepnote_index_column": 41
                },
                {
                  "X": 5.202754523944431,
                  "Y": 8.777232331274732,
                  "_deepnote_index_column": 42
                },
                {
                  "X": 5.987226764484853,
                  "Y": 3.9397130363330657,
                  "_deepnote_index_column": 43
                },
                {
                  "X": 4.910851193959577,
                  "Y": 9.4459616225064,
                  "_deepnote_index_column": 44
                },
                {
                  "X": 4.986822683408039,
                  "Y": 10.71146517348214,
                  "_deepnote_index_column": 45
                },
                {
                  "X": 3.646052507545826,
                  "Y": 10.648336694716804,
                  "_deepnote_index_column": 46
                },
                {
                  "X": 6.3936652784845815,
                  "Y": 2.914703048810135,
                  "_deepnote_index_column": 47
                },
                {
                  "X": 6.452624775278093,
                  "Y": 2.4663275979066066,
                  "_deepnote_index_column": 48
                },
                {
                  "X": 5.421752165627586,
                  "Y": 4.969783245027875,
                  "_deepnote_index_column": 49
                },
                {
                  "X": 6.7692933530412045,
                  "Y": 4.359350587574789,
                  "_deepnote_index_column": 50
                },
                {
                  "X": 4.242323774475097,
                  "Y": -9.050132671732072,
                  "_deepnote_index_column": 51
                },
                {
                  "X": 7.041428707983979,
                  "Y": 5.739087728763822,
                  "_deepnote_index_column": 52
                },
                {
                  "X": 5.062782078002797,
                  "Y": 10.44470564710126,
                  "_deepnote_index_column": 53
                },
                {
                  "X": 5.302194697095936,
                  "Y": 8.694567910082746,
                  "_deepnote_index_column": 54
                },
                {
                  "X": 5.774926955947393,
                  "Y": 11.490906545607334,
                  "_deepnote_index_column": 55
                },
                {
                  "X": 5.321112966833042,
                  "Y": 8.259457624110777,
                  "_deepnote_index_column": 56
                },
                {
                  "X": 5.712304631334582,
                  "Y": -7.498959931136455,
                  "_deepnote_index_column": 57
                },
                {
                  "X": 4.708380699582555,
                  "Y": 2.6428796714205065,
                  "_deepnote_index_column": 58
                },
                {
                  "X": 4.9553909022427565,
                  "Y": -7.735045581937075,
                  "_deepnote_index_column": 59
                },
                {
                  "X": 4.6565293405898265,
                  "Y": -8.137040034674081,
                  "_deepnote_index_column": 60
                },
                {
                  "X": 6.354055488596649,
                  "Y": 3.01978457995435,
                  "_deepnote_index_column": 61
                },
                {
                  "X": 7.378790945952895,
                  "Y": 9.789595981878064,
                  "_deepnote_index_column": 62
                },
                {
                  "X": 7.106831105105718,
                  "Y": 3.6749924015970072,
                  "_deepnote_index_column": 63
                },
                {
                  "X": 5.500882697984759,
                  "Y": -8.605972433486407,
                  "_deepnote_index_column": 64
                },
                {
                  "X": 3.9528658460445527,
                  "Y": -8.025856935054936,
                  "_deepnote_index_column": 65
                },
                {
                  "X": 5.635433078170448,
                  "Y": 10.154857449561945,
                  "_deepnote_index_column": 66
                },
                {
                  "X": 8.034070704433207,
                  "Y": 3.345967147111541,
                  "_deepnote_index_column": 67
                },
                {
                  "X": 5.387037702218866,
                  "Y": 4.1778445010570415,
                  "_deepnote_index_column": 68
                },
                {
                  "X": 6.160313485254051,
                  "Y": 4.259499495985461,
                  "_deepnote_index_column": 69
                },
                {
                  "X": 5.889245195390677,
                  "Y": 10.306002138117991,
                  "_deepnote_index_column": 70
                },
                {
                  "X": 4.255954243779208,
                  "Y": -7.232560704551679,
                  "_deepnote_index_column": 71
                },
                {
                  "X": 3.8199109493770793,
                  "Y": -8.811084283678936,
                  "_deepnote_index_column": 72
                },
                {
                  "X": 5.931380658175799,
                  "Y": 4.417907290022337,
                  "_deepnote_index_column": 73
                },
                {
                  "X": 6.22533534122538,
                  "Y": -9.084387490895272,
                  "_deepnote_index_column": 74
                },
                {
                  "X": 7.4761691894370434,
                  "Y": 2.212771752252941,
                  "_deepnote_index_column": 75
                },
                {
                  "X": 6.086035094338464,
                  "Y": -9.048655094846248,
                  "_deepnote_index_column": 76
                },
                {
                  "X": 5.140793523802756,
                  "Y": 9.254372074453014,
                  "_deepnote_index_column": 77
                },
                {
                  "X": 8.289957425168556,
                  "Y": 4.273199379961474,
                  "_deepnote_index_column": 78
                },
                {
                  "X": 5.56758005416152,
                  "Y": -8.105339939820732,
                  "_deepnote_index_column": 79
                },
                {
                  "X": 7.301970988082402,
                  "Y": 2.6318924985523706,
                  "_deepnote_index_column": 80
                },
                {
                  "X": 6.338588021941825,
                  "Y": 2.7815897145345096,
                  "_deepnote_index_column": 81
                },
                {
                  "X": 7.698460073125563,
                  "Y": 3.3286479739164987,
                  "_deepnote_index_column": 82
                },
                {
                  "X": 5.281228346673291,
                  "Y": 3.0635629210962616,
                  "_deepnote_index_column": 83
                },
                {
                  "X": 8.124126904709986,
                  "Y": 2.2736244876152334,
                  "_deepnote_index_column": 84
                },
                {
                  "X": 7.468654130081981,
                  "Y": 3.7475180673142434,
                  "_deepnote_index_column": 85
                },
                {
                  "X": 4.643532016519144,
                  "Y": 4.032547641223382,
                  "_deepnote_index_column": 86
                },
                {
                  "X": 3.915185300048857,
                  "Y": -9.613525052323885,
                  "_deepnote_index_column": 87
                },
                {
                  "X": 5.988629085105741,
                  "Y": -8.7962439546083,
                  "_deepnote_index_column": 88
                },
                {
                  "X": 5.111637450899319,
                  "Y": 8.368790901732396,
                  "_deepnote_index_column": 89
                },
                {
                  "X": 6.428655802577049,
                  "Y": -9.06323893541807,
                  "_deepnote_index_column": 90
                },
                {
                  "X": 4.736793973383439,
                  "Y": 10.417416425388916,
                  "_deepnote_index_column": 91
                },
                {
                  "X": 5.818017500049452,
                  "Y": 3.220276549957728,
                  "_deepnote_index_column": 92
                },
                {
                  "X": 6.125388784200801,
                  "Y": 10.074077892523302,
                  "_deepnote_index_column": 93
                },
                {
                  "X": 6.498527091648768,
                  "Y": 10.689718214337647,
                  "_deepnote_index_column": 94
                },
                {
                  "X": 6.262593057825091,
                  "Y": 10.497265880797215,
                  "_deepnote_index_column": 95
                },
                {
                  "X": 7.857528780670886,
                  "Y": 3.9496935222101057,
                  "_deepnote_index_column": 96
                },
                {
                  "X": 6.523869214609618,
                  "Y": 9.648963557276623,
                  "_deepnote_index_column": 97
                },
                {
                  "X": 5.586382955052604,
                  "Y": -9.87576481018442,
                  "_deepnote_index_column": 98
                },
                {
                  "X": 3.7820669480764617,
                  "Y": 1.478990115609656,
                  "_deepnote_index_column": 99
                },
                {
                  "X": 5.284879514856148,
                  "Y": -8.255564614564872,
                  "_deepnote_index_column": 100
                },
                {
                  "X": 6.080988793237623,
                  "Y": 8.815007566973698,
                  "_deepnote_index_column": 101
                },
                {
                  "X": 6.791580340083796,
                  "Y": -8.683948041501674,
                  "_deepnote_index_column": 102
                },
                {
                  "X": 4.782966714541073,
                  "Y": 10.121188944724109,
                  "_deepnote_index_column": 103
                },
                {
                  "X": 7.291440940684774,
                  "Y": 4.240339724394908,
                  "_deepnote_index_column": 104
                },
                {
                  "X": 6.9061010207676405,
                  "Y": 3.3731119465710178,
                  "_deepnote_index_column": 105
                },
                {
                  "X": 6.052586692240527,
                  "Y": 7.702137206064831,
                  "_deepnote_index_column": 106
                },
                {
                  "X": 4.994226374594552,
                  "Y": -6.409813529636155,
                  "_deepnote_index_column": 107
                },
                {
                  "X": 5.752162547930652,
                  "Y": 8.53805831319462,
                  "_deepnote_index_column": 108
                },
                {
                  "X": 4.576762739114828,
                  "Y": -9.621485182612943,
                  "_deepnote_index_column": 109
                },
                {
                  "X": 5.580090551567306,
                  "Y": 10.3718645428228,
                  "_deepnote_index_column": 110
                },
                {
                  "X": 4.914737771793638,
                  "Y": 10.090766087760295,
                  "_deepnote_index_column": 111
                },
                {
                  "X": 5.548393039248966,
                  "Y": 10.396419837160837,
                  "_deepnote_index_column": 112
                },
                {
                  "X": 5.960813345878402,
                  "Y": 4.489040491682625,
                  "_deepnote_index_column": 113
                },
                {
                  "X": 6.423014376963431,
                  "Y": 5.700836061137258,
                  "_deepnote_index_column": 114
                },
                {
                  "X": 3.290491038347423,
                  "Y": 9.599816151026417,
                  "_deepnote_index_column": 115
                },
                {
                  "X": 9.018413932408688,
                  "Y": 3.492067453748076,
                  "_deepnote_index_column": 116
                },
                {
                  "X": 4.54781764998559,
                  "Y": -8.651548866366362,
                  "_deepnote_index_column": 117
                },
                {
                  "X": 5.0970344435473125,
                  "Y": 3.844340730568311,
                  "_deepnote_index_column": 118
                },
                {
                  "X": 4.214328249284661,
                  "Y": 8.407556317137843,
                  "_deepnote_index_column": 119
                },
                {
                  "X": 5.881530331213922,
                  "Y": 10.082436397855904,
                  "_deepnote_index_column": 120
                },
                {
                  "X": 4.720545502314451,
                  "Y": 3.315290255067682,
                  "_deepnote_index_column": 121
                },
                {
                  "X": 6.624647959320658,
                  "Y": 3.7831616422611134,
                  "_deepnote_index_column": 122
                },
                {
                  "X": 5.854703212220616,
                  "Y": 3.235732726155478,
                  "_deepnote_index_column": 123
                },
                {
                  "X": 5.816978557405203,
                  "Y": 2.6230871483517824,
                  "_deepnote_index_column": 124
                },
                {
                  "X": 4.299738688729963,
                  "Y": 5.222108673166998,
                  "_deepnote_index_column": 125
                },
                {
                  "X": 3.707217160515,
                  "Y": -8.33203776638516,
                  "_deepnote_index_column": 126
                },
                {
                  "X": 8.660927883223035,
                  "Y": 2.741041299934458,
                  "_deepnote_index_column": 127
                },
                {
                  "X": 7.290390780098161,
                  "Y": 1.9116880649154688,
                  "_deepnote_index_column": 128
                },
                {
                  "X": 6.373258670354024,
                  "Y": 10.785781062327002,
                  "_deepnote_index_column": 129
                },
                {
                  "X": 5.530322715900412,
                  "Y": -9.048222718781425,
                  "_deepnote_index_column": 130
                },
                {
                  "X": 6.174527964799349,
                  "Y": 5.071778304807088,
                  "_deepnote_index_column": 131
                },
                {
                  "X": 5.035444051965795,
                  "Y": 9.2659781914849,
                  "_deepnote_index_column": 132
                },
                {
                  "X": 4.558680587571363,
                  "Y": 10.45674502794323,
                  "_deepnote_index_column": 133
                },
                {
                  "X": 6.204874438124858,
                  "Y": -7.591535340304617,
                  "_deepnote_index_column": 134
                },
                {
                  "X": 5.639602893216662,
                  "Y": 9.890702181405883,
                  "_deepnote_index_column": 135
                },
                {
                  "X": 5.708805907336817,
                  "Y": -7.236823598771193,
                  "_deepnote_index_column": 136
                },
                {
                  "X": 6.113284852306038,
                  "Y": 3.103210199590008,
                  "_deepnote_index_column": 137
                },
                {
                  "X": 6.23351673050837,
                  "Y": -7.653384693178989,
                  "_deepnote_index_column": 138
                },
                {
                  "X": 4.216884792497558,
                  "Y": 2.4881504152679974,
                  "_deepnote_index_column": 139
                },
                {
                  "X": 4.060327783565736,
                  "Y": -7.689182206118145,
                  "_deepnote_index_column": 140
                },
                {
                  "X": 7.218846708608075,
                  "Y": 3.085921966168711,
                  "_deepnote_index_column": 141
                },
                {
                  "X": 5.962638447425519,
                  "Y": -6.41555572163483,
                  "_deepnote_index_column": 142
                },
                {
                  "X": 5.483888228946595,
                  "Y": 4.749651146553386,
                  "_deepnote_index_column": 143
                },
                {
                  "X": 5.184300438964439,
                  "Y": -7.48517466157724,
                  "_deepnote_index_column": 144
                },
                {
                  "X": 6.759664533785641,
                  "Y": 3.098418084213054,
                  "_deepnote_index_column": 145
                },
                {
                  "X": 7.81771604822223,
                  "Y": 2.3252177525962514,
                  "_deepnote_index_column": 146
                },
                {
                  "X": 6.014223217364408,
                  "Y": -7.910280508319522,
                  "_deepnote_index_column": 147
                },
                {
                  "X": 5.721806134701562,
                  "Y": 9.490658206624447,
                  "_deepnote_index_column": 148
                },
                {
                  "X": 6.659972319873033,
                  "Y": 3.6995844818812222,
                  "_deepnote_index_column": 149
                },
                {
                  "X": 6.996895912986284,
                  "Y": 4.9854647704176,
                  "_deepnote_index_column": 150
                },
                {
                  "X": 5.284849737684815,
                  "Y": -8.180375561491804,
                  "_deepnote_index_column": 151
                },
                {
                  "X": 4.907111580671904,
                  "Y": 10.016550263610917,
                  "_deepnote_index_column": 152
                },
                {
                  "X": 5.364460882619262,
                  "Y": 9.639606306293835,
                  "_deepnote_index_column": 153
                },
                {
                  "X": 6.441172367908867,
                  "Y": 8.290733437254367,
                  "_deepnote_index_column": 154
                },
                {
                  "X": 5.934647292218787,
                  "Y": 8.020976857776901,
                  "_deepnote_index_column": 155
                },
                {
                  "X": 7.15363313286681,
                  "Y": 11.892215533613884,
                  "_deepnote_index_column": 156
                },
                {
                  "X": 4.324341710021361,
                  "Y": -7.1217043889750045,
                  "_deepnote_index_column": 157
                },
                {
                  "X": 5.073657257323611,
                  "Y": 4.183644966969451,
                  "_deepnote_index_column": 158
                },
                {
                  "X": 4.839615844121191,
                  "Y": -8.145262844084938,
                  "_deepnote_index_column": 159
                },
                {
                  "X": 5.148451130631211,
                  "Y": -9.970923777737628,
                  "_deepnote_index_column": 160
                },
                {
                  "X": 5.670312449121908,
                  "Y": 10.753295190107924,
                  "_deepnote_index_column": 161
                },
                {
                  "X": 7.001599155203056,
                  "Y": 2.4725884212282154,
                  "_deepnote_index_column": 162
                },
                {
                  "X": 4.256875343182126,
                  "Y": 8.746267046107953,
                  "_deepnote_index_column": 163
                },
                {
                  "X": 6.510127670441572,
                  "Y": 4.638224337898393,
                  "_deepnote_index_column": 164
                },
                {
                  "X": 4.749881428107516,
                  "Y": -8.315144133825338,
                  "_deepnote_index_column": 165
                },
                {
                  "X": 4.43366716103758,
                  "Y": -7.184489609728683,
                  "_deepnote_index_column": 166
                },
                {
                  "X": 5.462446892800749,
                  "Y": 8.036485718420634,
                  "_deepnote_index_column": 167
                },
                {
                  "X": 8.147796969953378,
                  "Y": 4.530642130131375,
                  "_deepnote_index_column": 168
                },
                {
                  "X": 5.030082528840302,
                  "Y": 9.36180668377616,
                  "_deepnote_index_column": 169
                },
                {
                  "X": 7.388198931009732,
                  "Y": 4.566557518177955,
                  "_deepnote_index_column": 170
                },
                {
                  "X": 6.153396916687753,
                  "Y": -6.983442826485657,
                  "_deepnote_index_column": 171
                },
                {
                  "X": 7.72989492565139,
                  "Y": 9.96505732932992,
                  "_deepnote_index_column": 172
                },
                {
                  "X": 7.294037330265687,
                  "Y": 4.102545893017421,
                  "_deepnote_index_column": 173
                },
                {
                  "X": 5.827827070422861,
                  "Y": 3.679961957748188,
                  "_deepnote_index_column": 174
                },
                {
                  "X": 2.6413752610501517,
                  "Y": -8.414350238801974,
                  "_deepnote_index_column": 175
                },
                {
                  "X": 5.035420087703936,
                  "Y": 10.522527501616102,
                  "_deepnote_index_column": 176
                },
                {
                  "X": 7.674430932501157,
                  "Y": 3.9484963283956063,
                  "_deepnote_index_column": 177
                },
                {
                  "X": 7.833607473532522,
                  "Y": 2.920069411642912,
                  "_deepnote_index_column": 178
                },
                {
                  "X": 5.889193216934244,
                  "Y": 11.159881365920445,
                  "_deepnote_index_column": 179
                },
                {
                  "X": 5.088969243877431,
                  "Y": 4.314735499238329,
                  "_deepnote_index_column": 180
                },
                {
                  "X": 6.56357268133851,
                  "Y": 3.455947261341941,
                  "_deepnote_index_column": 181
                },
                {
                  "X": 5.290920209347691,
                  "Y": 3.449660409795912,
                  "_deepnote_index_column": 182
                },
                {
                  "X": 4.855299463676286,
                  "Y": 10.301589001705937,
                  "_deepnote_index_column": 183
                },
                {
                  "X": 5.671783371761831,
                  "Y": 10.607209298239493,
                  "_deepnote_index_column": 184
                },
                {
                  "X": 4.225824601538692,
                  "Y": -8.093035713765016,
                  "_deepnote_index_column": 185
                },
                {
                  "X": 5.868566315912404,
                  "Y": 2.537731984765629,
                  "_deepnote_index_column": 186
                },
                {
                  "X": 5.823004585743314,
                  "Y": 2.470784765859184,
                  "_deepnote_index_column": 187
                },
                {
                  "X": 6.368540603169638,
                  "Y": 8.34607841050552,
                  "_deepnote_index_column": 188
                },
                {
                  "X": 4.8936125602473926,
                  "Y": 10.483740565482632,
                  "_deepnote_index_column": 189
                },
                {
                  "X": 7.073580500132847,
                  "Y": 8.362129578450393,
                  "_deepnote_index_column": 190
                },
                {
                  "X": 6.255435899900564,
                  "Y": 6.181516445830924,
                  "_deepnote_index_column": 191
                },
                {
                  "X": 5.456836230595696,
                  "Y": 8.700103839731419,
                  "_deepnote_index_column": 192
                },
                {
                  "X": 4.287781624333141,
                  "Y": -8.389349468995716,
                  "_deepnote_index_column": 193
                },
                {
                  "X": 4.934826855754058,
                  "Y": -10.68222221025418,
                  "_deepnote_index_column": 194
                },
                {
                  "X": 7.493854370238244,
                  "Y": 2.8679780456374107,
                  "_deepnote_index_column": 195
                },
                {
                  "X": 5.334408139643804,
                  "Y": -8.177585497717105,
                  "_deepnote_index_column": 196
                },
                {
                  "X": 6.578729764350067,
                  "Y": 3.97241825986805,
                  "_deepnote_index_column": 197
                },
                {
                  "X": 5.920725526637598,
                  "Y": -9.043431009612233,
                  "_deepnote_index_column": 198
                },
                {
                  "X": 9.16085726217318,
                  "Y": 8.807258629151487,
                  "_deepnote_index_column": 199
                },
                {
                  "X": 8.408203578998524,
                  "Y": 5.667342139187207,
                  "_deepnote_index_column": 200
                },
                {
                  "X": 6.866151383431943,
                  "Y": 0.7587900006310639,
                  "_deepnote_index_column": 201
                },
                {
                  "X": 7.712264799687758,
                  "Y": -7.981261634641591,
                  "_deepnote_index_column": 202
                },
                {
                  "X": 7.079505219393104,
                  "Y": 6.04265038919402,
                  "_deepnote_index_column": 203
                },
                {
                  "X": 5.475766859293388,
                  "Y": 3.731113050194608,
                  "_deepnote_index_column": 204
                },
                {
                  "X": 4.681667778014931,
                  "Y": -9.3707979087059,
                  "_deepnote_index_column": 205
                },
                {
                  "X": 4.639685963659194,
                  "Y": 9.887662021215847,
                  "_deepnote_index_column": 206
                },
                {
                  "X": 5.328468245935094,
                  "Y": 2.075363820571537,
                  "_deepnote_index_column": 207
                },
                {
                  "X": 4.136259945010618,
                  "Y": -7.748994337521952,
                  "_deepnote_index_column": 208
                },
                {
                  "X": 6.43255691706372,
                  "Y": 3.6309307572398777,
                  "_deepnote_index_column": 209
                },
                {
                  "X": 4.341929311984615,
                  "Y": -8.474319876345193,
                  "_deepnote_index_column": 210
                },
                {
                  "X": 1.9135929701884589,
                  "Y": -7.725598132348796,
                  "_deepnote_index_column": 211
                },
                {
                  "X": 5.8765033725917,
                  "Y": 3.924169378778657,
                  "_deepnote_index_column": 212
                },
                {
                  "X": 4.152414383375662,
                  "Y": 8.073719348585584,
                  "_deepnote_index_column": 213
                },
                {
                  "X": 6.937088975730159,
                  "Y": 8.129568583985181,
                  "_deepnote_index_column": 214
                },
                {
                  "X": 6.28202789613289,
                  "Y": 2.1828928193749384,
                  "_deepnote_index_column": 215
                },
                {
                  "X": 6.671396637727309,
                  "Y": 2.684323188165441,
                  "_deepnote_index_column": 216
                },
                {
                  "X": 4.352858125909579,
                  "Y": 10.23643780935418,
                  "_deepnote_index_column": 217
                },
                {
                  "X": 6.1029495642937786,
                  "Y": 3.1007926005041706,
                  "_deepnote_index_column": 218
                },
                {
                  "X": 6.646330516896065,
                  "Y": 2.299040212829582,
                  "_deepnote_index_column": 219
                },
                {
                  "X": 5.823383268558174,
                  "Y": -8.564972046517015,
                  "_deepnote_index_column": 220
                },
                {
                  "X": 4.865068762154733,
                  "Y": 11.511954399467816,
                  "_deepnote_index_column": 221
                },
                {
                  "X": 5.448432958974953,
                  "Y": -6.671772515275398,
                  "_deepnote_index_column": 222
                },
                {
                  "X": 6.786750858975946,
                  "Y": 10.089269885792458,
                  "_deepnote_index_column": 223
                },
                {
                  "X": 6.975023510139056,
                  "Y": 4.344131472507088,
                  "_deepnote_index_column": 224
                },
                {
                  "X": 5.792844371064192,
                  "Y": -8.341711698294617,
                  "_deepnote_index_column": 225
                },
                {
                  "X": 4.827240786591315,
                  "Y": 9.193474789760137,
                  "_deepnote_index_column": 226
                },
                {
                  "X": 7.1735770074886265,
                  "Y": 2.5627907641168197,
                  "_deepnote_index_column": 227
                },
                {
                  "X": 5.635719317365906,
                  "Y": 3.900092829864583,
                  "_deepnote_index_column": 228
                },
                {
                  "X": 6.76614059279272,
                  "Y": -6.794950348215522,
                  "_deepnote_index_column": 229
                },
                {
                  "X": 4.8270788800006725,
                  "Y": -8.078336000535838,
                  "_deepnote_index_column": 230
                },
                {
                  "X": 6.714575729677003,
                  "Y": 8.390338160217054,
                  "_deepnote_index_column": 231
                },
                {
                  "X": 5.781319005219516,
                  "Y": 10.084314836594055,
                  "_deepnote_index_column": 232
                },
                {
                  "X": 5.545223348282735,
                  "Y": 10.497944899751566,
                  "_deepnote_index_column": 233
                },
                {
                  "X": 5.695861655252831,
                  "Y": -9.328245275728497,
                  "_deepnote_index_column": 234
                },
                {
                  "X": 5.447285093311908,
                  "Y": 11.11633272591537,
                  "_deepnote_index_column": 235
                },
                {
                  "X": 6.864446794261674,
                  "Y": 2.7389111609488284,
                  "_deepnote_index_column": 236
                },
                {
                  "X": 4.920020214755413,
                  "Y": -8.258874244135905,
                  "_deepnote_index_column": 237
                },
                {
                  "X": 7.458233259016504,
                  "Y": 1.7908656185613112,
                  "_deepnote_index_column": 238
                },
                {
                  "X": 6.589285063354186,
                  "Y": 9.243390377813034,
                  "_deepnote_index_column": 239
                },
                {
                  "X": 4.579232835432453,
                  "Y": 5.026488367663204,
                  "_deepnote_index_column": 240
                },
                {
                  "X": 5.605101808796795,
                  "Y": 9.644835797141118,
                  "_deepnote_index_column": 241
                },
                {
                  "X": 5.143670107323184,
                  "Y": 4.940392708349432,
                  "_deepnote_index_column": 242
                },
                {
                  "X": 6.642049075276029,
                  "Y": 4.5326013212594045,
                  "_deepnote_index_column": 243
                },
                {
                  "X": 4.588527276055764,
                  "Y": -8.991310295321922,
                  "_deepnote_index_column": 244
                },
                {
                  "X": 6.680990115815594,
                  "Y": 9.321677989590675,
                  "_deepnote_index_column": 245
                },
                {
                  "X": 7.110280036848712,
                  "Y": 10.290626521188877,
                  "_deepnote_index_column": 246
                },
                {
                  "X": 6.129872544798356,
                  "Y": 4.142252127079338,
                  "_deepnote_index_column": 247
                },
                {
                  "X": 5.078132678665662,
                  "Y": 9.098131288813466,
                  "_deepnote_index_column": 248
                },
                {
                  "X": 4.641615099878443,
                  "Y": 9.062725935871322,
                  "_deepnote_index_column": 249
                }
              ],
              "rows_bottom": [
                {
                  "X": 5.482472385762076,
                  "Y": 3.60901567000488,
                  "_deepnote_index_column": 750
                },
                {
                  "X": 6.187124072878048,
                  "Y": -8.313140863810428,
                  "_deepnote_index_column": 751
                },
                {
                  "X": 5.451531785453334,
                  "Y": -7.328247397282942,
                  "_deepnote_index_column": 752
                },
                {
                  "X": 5.667490300572674,
                  "Y": 7.903572768481277,
                  "_deepnote_index_column": 753
                },
                {
                  "X": 5.464277271764418,
                  "Y": -8.028450409572645,
                  "_deepnote_index_column": 754
                },
                {
                  "X": 7.411794860628065,
                  "Y": -6.22772388735709,
                  "_deepnote_index_column": 755
                },
                {
                  "X": 4.387892399158499,
                  "Y": -7.975895068218521,
                  "_deepnote_index_column": 756
                },
                {
                  "X": 5.662936932942559,
                  "Y": 8.542472128863956,
                  "_deepnote_index_column": 757
                },
                {
                  "X": 5.1429676335475625,
                  "Y": -7.979348264648396,
                  "_deepnote_index_column": 758
                },
                {
                  "X": 6.8245490834526,
                  "Y": 9.623887507548025,
                  "_deepnote_index_column": 759
                },
                {
                  "X": 6.425822944191878,
                  "Y": 5.5295377818917775,
                  "_deepnote_index_column": 760
                },
                {
                  "X": 7.1048762731442165,
                  "Y": 2.595127839179176,
                  "_deepnote_index_column": 761
                },
                {
                  "X": 5.601148329498336,
                  "Y": 2.8012327614734023,
                  "_deepnote_index_column": 762
                },
                {
                  "X": 5.144339907201379,
                  "Y": 10.081106175746507,
                  "_deepnote_index_column": 763
                },
                {
                  "X": 7.195461138979064,
                  "Y": 2.728558244305266,
                  "_deepnote_index_column": 764
                },
                {
                  "X": 4.009991520604199,
                  "Y": -7.556194687062379,
                  "_deepnote_index_column": 765
                },
                {
                  "X": 6.20812559933297,
                  "Y": -9.047175224201156,
                  "_deepnote_index_column": 766
                },
                {
                  "X": 5.9764335916667495,
                  "Y": 10.248095470636809,
                  "_deepnote_index_column": 767
                },
                {
                  "X": 6.064851115071799,
                  "Y": 10.958225249742362,
                  "_deepnote_index_column": 768
                },
                {
                  "X": 5.362982274270588,
                  "Y": -9.289137796486738,
                  "_deepnote_index_column": 769
                },
                {
                  "X": 4.46997829698838,
                  "Y": -9.47739956095684,
                  "_deepnote_index_column": 770
                },
                {
                  "X": 4.639521934267826,
                  "Y": 9.561084513065085,
                  "_deepnote_index_column": 771
                },
                {
                  "X": 4.753445012966843,
                  "Y": 2.928940718443195,
                  "_deepnote_index_column": 772
                },
                {
                  "X": 6.098941693634679,
                  "Y": 8.582302387334376,
                  "_deepnote_index_column": 773
                },
                {
                  "X": 6.668813292579194,
                  "Y": 1.4195284053259196,
                  "_deepnote_index_column": 774
                },
                {
                  "X": 5.914276194604757,
                  "Y": 1.811279375313036,
                  "_deepnote_index_column": 775
                },
                {
                  "X": 3.5501586813732064,
                  "Y": 9.583689393372987,
                  "_deepnote_index_column": 776
                },
                {
                  "X": 7.659588752009127,
                  "Y": 2.4403965579658458,
                  "_deepnote_index_column": 777
                },
                {
                  "X": 4.436786418434172,
                  "Y": -8.389828111772252,
                  "_deepnote_index_column": 778
                },
                {
                  "X": 4.103283151171768,
                  "Y": 8.830642975605176,
                  "_deepnote_index_column": 779
                },
                {
                  "X": 6.586693690518166,
                  "Y": 10.106672592038285,
                  "_deepnote_index_column": 780
                },
                {
                  "X": 6.263413425855045,
                  "Y": 8.779134241129341,
                  "_deepnote_index_column": 781
                },
                {
                  "X": 5.526864659665019,
                  "Y": -8.23385850715552,
                  "_deepnote_index_column": 782
                },
                {
                  "X": 3.71527778682507,
                  "Y": -8.108278841163825,
                  "_deepnote_index_column": 783
                },
                {
                  "X": 5.352564352495268,
                  "Y": -7.62847730058491,
                  "_deepnote_index_column": 784
                },
                {
                  "X": 4.92986267898836,
                  "Y": -6.978226917809655,
                  "_deepnote_index_column": 785
                },
                {
                  "X": 5.810571369682292,
                  "Y": -8.510948849793916,
                  "_deepnote_index_column": 786
                },
                {
                  "X": 5.73457969782777,
                  "Y": -11.305421631058293,
                  "_deepnote_index_column": 787
                },
                {
                  "X": 5.028706114015134,
                  "Y": 9.729219288644472,
                  "_deepnote_index_column": 788
                },
                {
                  "X": 5.816283987189748,
                  "Y": 3.79410869304604,
                  "_deepnote_index_column": 789
                },
                {
                  "X": 6.249066905325516,
                  "Y": 3.945934045022744,
                  "_deepnote_index_column": 790
                },
                {
                  "X": 7.513682649201749,
                  "Y": 3.151070195657687,
                  "_deepnote_index_column": 791
                },
                {
                  "X": 5.2144089391812045,
                  "Y": -8.76755995817569,
                  "_deepnote_index_column": 792
                },
                {
                  "X": 4.285879045170184,
                  "Y": -8.63762588906299,
                  "_deepnote_index_column": 793
                },
                {
                  "X": 7.201656554194026,
                  "Y": 2.1558702156493066,
                  "_deepnote_index_column": 794
                },
                {
                  "X": 6.109245903771828,
                  "Y": 3.1670757213580405,
                  "_deepnote_index_column": 795
                },
                {
                  "X": 6.007156154048689,
                  "Y": -8.267207526152518,
                  "_deepnote_index_column": 796
                },
                {
                  "X": 5.030360814058088,
                  "Y": -8.873615450419518,
                  "_deepnote_index_column": 797
                },
                {
                  "X": 4.28132171670323,
                  "Y": -8.202695239783667,
                  "_deepnote_index_column": 798
                },
                {
                  "X": 5.7501293466915415,
                  "Y": -6.374809082859658,
                  "_deepnote_index_column": 799
                },
                {
                  "X": 4.499920222959035,
                  "Y": -6.7197811906153255,
                  "_deepnote_index_column": 800
                },
                {
                  "X": 5.364265665912559,
                  "Y": 4.092046129442041,
                  "_deepnote_index_column": 801
                },
                {
                  "X": 6.094601068855578,
                  "Y": 2.487190798304148,
                  "_deepnote_index_column": 802
                },
                {
                  "X": 5.052179209642457,
                  "Y": 10.466928588481895,
                  "_deepnote_index_column": 803
                },
                {
                  "X": 5.643311235252727,
                  "Y": 9.590100680388831,
                  "_deepnote_index_column": 804
                },
                {
                  "X": 7.46116339448217,
                  "Y": 4.033850997857678,
                  "_deepnote_index_column": 805
                },
                {
                  "X": 5.854927988893063,
                  "Y": 8.276211233339827,
                  "_deepnote_index_column": 806
                },
                {
                  "X": 7.04000573789536,
                  "Y": 0.6236216619806627,
                  "_deepnote_index_column": 807
                },
                {
                  "X": 4.4369920188023215,
                  "Y": 3.1924207797190176,
                  "_deepnote_index_column": 808
                },
                {
                  "X": 6.692374157717901,
                  "Y": 4.112369367204911,
                  "_deepnote_index_column": 809
                },
                {
                  "X": 6.111331835802096,
                  "Y": 9.562551417013973,
                  "_deepnote_index_column": 810
                },
                {
                  "X": 4.365248326303368,
                  "Y": 3.849839279921977,
                  "_deepnote_index_column": 811
                },
                {
                  "X": 5.912524316006772,
                  "Y": 4.296791822057581,
                  "_deepnote_index_column": 812
                },
                {
                  "X": 3.906829382280408,
                  "Y": 9.591131352826034,
                  "_deepnote_index_column": 813
                },
                {
                  "X": 3.4827503462486487,
                  "Y": 8.093526259059706,
                  "_deepnote_index_column": 814
                },
                {
                  "X": 4.762204074901764,
                  "Y": -9.917500782695129,
                  "_deepnote_index_column": 815
                },
                {
                  "X": 5.149198788449771,
                  "Y": 10.397802192338354,
                  "_deepnote_index_column": 816
                },
                {
                  "X": 4.098632260579693,
                  "Y": 11.627056303474893,
                  "_deepnote_index_column": 817
                },
                {
                  "X": 5.482874787630002,
                  "Y": 9.230692711899392,
                  "_deepnote_index_column": 818
                },
                {
                  "X": 4.667387226315651,
                  "Y": 9.345952943137757,
                  "_deepnote_index_column": 819
                },
                {
                  "X": 4.71018807644239,
                  "Y": -8.568242680048181,
                  "_deepnote_index_column": 820
                },
                {
                  "X": 3.230629327256381,
                  "Y": -9.830390276216644,
                  "_deepnote_index_column": 821
                },
                {
                  "X": 5.139925573430144,
                  "Y": 8.738691351467782,
                  "_deepnote_index_column": 822
                },
                {
                  "X": 4.899263225320174,
                  "Y": -8.21526159046944,
                  "_deepnote_index_column": 823
                },
                {
                  "X": 4.583293712768257,
                  "Y": -7.210563901948505,
                  "_deepnote_index_column": 824
                },
                {
                  "X": 6.301529475612625,
                  "Y": 9.470032525351284,
                  "_deepnote_index_column": 825
                },
                {
                  "X": 4.780700335000554,
                  "Y": -8.312320664225867,
                  "_deepnote_index_column": 826
                },
                {
                  "X": 4.834741796199384,
                  "Y": 8.244796473255402,
                  "_deepnote_index_column": 827
                },
                {
                  "X": 5.364996220844921,
                  "Y": 10.863723949498322,
                  "_deepnote_index_column": 828
                },
                {
                  "X": 6.213523804941436,
                  "Y": -5.756687353230964,
                  "_deepnote_index_column": 829
                },
                {
                  "X": 6.381689864821082,
                  "Y": 3.5849868766888378,
                  "_deepnote_index_column": 830
                },
                {
                  "X": 7.450232503752681,
                  "Y": 6.943042767766419,
                  "_deepnote_index_column": 831
                },
                {
                  "X": 6.046858512450847,
                  "Y": 11.395122491436355,
                  "_deepnote_index_column": 832
                },
                {
                  "X": 4.405456571578773,
                  "Y": 11.163383508791313,
                  "_deepnote_index_column": 833
                },
                {
                  "X": 4.899153350386031,
                  "Y": -5.404487418714917,
                  "_deepnote_index_column": 834
                },
                {
                  "X": 5.546236039590007,
                  "Y": -7.385007240180545,
                  "_deepnote_index_column": 835
                },
                {
                  "X": 8.405828995590412,
                  "Y": 11.519746585416971,
                  "_deepnote_index_column": 836
                },
                {
                  "X": 6.004474869351318,
                  "Y": 2.672768403039491,
                  "_deepnote_index_column": 837
                },
                {
                  "X": 4.20895790216366,
                  "Y": -7.807433814725771,
                  "_deepnote_index_column": 838
                },
                {
                  "X": 6.199984587882611,
                  "Y": -6.699955263896207,
                  "_deepnote_index_column": 839
                },
                {
                  "X": 4.706776548062587,
                  "Y": 9.38006892964472,
                  "_deepnote_index_column": 840
                },
                {
                  "X": 6.6137012515617295,
                  "Y": 2.03272276042844,
                  "_deepnote_index_column": 841
                },
                {
                  "X": 5.71832945680129,
                  "Y": 4.279164865631056,
                  "_deepnote_index_column": 842
                },
                {
                  "X": 4.023973649347971,
                  "Y": -8.957388420893649,
                  "_deepnote_index_column": 843
                },
                {
                  "X": 4.92221623086426,
                  "Y": 9.832140503259309,
                  "_deepnote_index_column": 844
                },
                {
                  "X": 5.276393271524507,
                  "Y": -9.103541150392424,
                  "_deepnote_index_column": 845
                },
                {
                  "X": 5.392088043437235,
                  "Y": 9.192871226466664,
                  "_deepnote_index_column": 846
                },
                {
                  "X": 5.293709203236842,
                  "Y": 3.573708249122185,
                  "_deepnote_index_column": 847
                },
                {
                  "X": 4.171948539469606,
                  "Y": 4.977488837911259,
                  "_deepnote_index_column": 848
                },
                {
                  "X": 5.989263503457408,
                  "Y": 4.787833608065796,
                  "_deepnote_index_column": 849
                },
                {
                  "X": 5.953911418165594,
                  "Y": -8.679706997871147,
                  "_deepnote_index_column": 850
                },
                {
                  "X": 5.186567298697407,
                  "Y": 7.953139950003759,
                  "_deepnote_index_column": 851
                },
                {
                  "X": 6.844499522440477,
                  "Y": 4.702554184487005,
                  "_deepnote_index_column": 852
                },
                {
                  "X": 6.744104647414678,
                  "Y": 3.8727106145535855,
                  "_deepnote_index_column": 853
                },
                {
                  "X": 5.143772970329051,
                  "Y": 8.751987564668415,
                  "_deepnote_index_column": 854
                },
                {
                  "X": 4.921087541302885,
                  "Y": 10.289641838708002,
                  "_deepnote_index_column": 855
                },
                {
                  "X": 6.340983463603057,
                  "Y": 4.095706193776067,
                  "_deepnote_index_column": 856
                },
                {
                  "X": 5.550449845720096,
                  "Y": -9.381257819548637,
                  "_deepnote_index_column": 857
                },
                {
                  "X": 6.949409916806302,
                  "Y": 4.99227238503496,
                  "_deepnote_index_column": 858
                },
                {
                  "X": 7.861585608065442,
                  "Y": -7.912290304583798,
                  "_deepnote_index_column": 859
                },
                {
                  "X": 7.163702709939882,
                  "Y": -7.446218708269301,
                  "_deepnote_index_column": 860
                },
                {
                  "X": 6.600921921079888,
                  "Y": 3.9604270392397,
                  "_deepnote_index_column": 861
                },
                {
                  "X": 2.844547232892247,
                  "Y": 9.088502656301769,
                  "_deepnote_index_column": 862
                },
                {
                  "X": 3.602330276746238,
                  "Y": 3.3613695625494797,
                  "_deepnote_index_column": 863
                },
                {
                  "X": 4.598134828225058,
                  "Y": 3.3192548506553483,
                  "_deepnote_index_column": 864
                },
                {
                  "X": 5.477575699430993,
                  "Y": 2.7187652250696344,
                  "_deepnote_index_column": 865
                },
                {
                  "X": 5.6805015184530685,
                  "Y": 9.779896654396936,
                  "_deepnote_index_column": 866
                },
                {
                  "X": 5.995976728019343,
                  "Y": 10.12522112455763,
                  "_deepnote_index_column": 867
                },
                {
                  "X": 5.15371171680098,
                  "Y": 11.58585289829765,
                  "_deepnote_index_column": 868
                },
                {
                  "X": 5.111199088006638,
                  "Y": -7.793378375761273,
                  "_deepnote_index_column": 869
                },
                {
                  "X": 4.39060046498124,
                  "Y": -8.399143673959015,
                  "_deepnote_index_column": 870
                },
                {
                  "X": 4.898070199850251,
                  "Y": 4.340025552610011,
                  "_deepnote_index_column": 871
                },
                {
                  "X": 5.198977298954871,
                  "Y": -8.684485455659209,
                  "_deepnote_index_column": 872
                },
                {
                  "X": 6.076384858023903,
                  "Y": 7.863245490228495,
                  "_deepnote_index_column": 873
                },
                {
                  "X": 4.713078302145592,
                  "Y": 9.440226966860722,
                  "_deepnote_index_column": 874
                },
                {
                  "X": 6.904640058852782,
                  "Y": 4.545108483635231,
                  "_deepnote_index_column": 875
                },
                {
                  "X": 6.47455749024998,
                  "Y": -8.175833363488831,
                  "_deepnote_index_column": 876
                },
                {
                  "X": 3.974743773971854,
                  "Y": 5.045162664028471,
                  "_deepnote_index_column": 877
                },
                {
                  "X": 6.411659738408732,
                  "Y": -7.250747037985873,
                  "_deepnote_index_column": 878
                },
                {
                  "X": 5.472262389094289,
                  "Y": 8.852205497461387,
                  "_deepnote_index_column": 879
                },
                {
                  "X": 3.8595373269858544,
                  "Y": -7.118606937350412,
                  "_deepnote_index_column": 880
                },
                {
                  "X": 5.446868798899877,
                  "Y": 7.407344466324845,
                  "_deepnote_index_column": 881
                },
                {
                  "X": 5.533341243753519,
                  "Y": 4.19232188604955,
                  "_deepnote_index_column": 882
                },
                {
                  "X": 5.217478974703003,
                  "Y": -7.090963776032092,
                  "_deepnote_index_column": 883
                },
                {
                  "X": 4.74037483808876,
                  "Y": -7.406264215860177,
                  "_deepnote_index_column": 884
                },
                {
                  "X": 4.453113598051543,
                  "Y": 9.111424160848664,
                  "_deepnote_index_column": 885
                },
                {
                  "X": 5.439045830402476,
                  "Y": -7.014519861008763,
                  "_deepnote_index_column": 886
                },
                {
                  "X": 5.114588610965297,
                  "Y": 3.6892463991163256,
                  "_deepnote_index_column": 887
                },
                {
                  "X": 5.457478608288045,
                  "Y": -7.916660552412825,
                  "_deepnote_index_column": 888
                },
                {
                  "X": 5.722452582413705,
                  "Y": 10.65067894113421,
                  "_deepnote_index_column": 889
                },
                {
                  "X": 5.394164881121748,
                  "Y": 2.7955929534094865,
                  "_deepnote_index_column": 890
                },
                {
                  "X": 5.106166115088165,
                  "Y": -7.659956853788514,
                  "_deepnote_index_column": 891
                },
                {
                  "X": 5.9878613806215135,
                  "Y": 9.603566946606142,
                  "_deepnote_index_column": 892
                },
                {
                  "X": 5.381966464072049,
                  "Y": -8.839234183017147,
                  "_deepnote_index_column": 893
                },
                {
                  "X": 4.564150388807031,
                  "Y": 10.4953946276782,
                  "_deepnote_index_column": 894
                },
                {
                  "X": 6.083235303121619,
                  "Y": -9.071160764671466,
                  "_deepnote_index_column": 895
                },
                {
                  "X": 5.038130699398811,
                  "Y": -7.6803271321271955,
                  "_deepnote_index_column": 896
                },
                {
                  "X": 5.308120600762841,
                  "Y": -7.1637393490826575,
                  "_deepnote_index_column": 897
                },
                {
                  "X": 6.005253523855318,
                  "Y": 2.4562506580842696,
                  "_deepnote_index_column": 898
                },
                {
                  "X": 5.302311824493201,
                  "Y": -8.079432158891578,
                  "_deepnote_index_column": 899
                },
                {
                  "X": 6.350633768980986,
                  "Y": 8.486253912748488,
                  "_deepnote_index_column": 900
                },
                {
                  "X": 4.028701297795674,
                  "Y": -10.225315765805286,
                  "_deepnote_index_column": 901
                },
                {
                  "X": 5.095763324056564,
                  "Y": 8.575308457176233,
                  "_deepnote_index_column": 902
                },
                {
                  "X": 6.331167121476112,
                  "Y": 9.839884968954228,
                  "_deepnote_index_column": 903
                },
                {
                  "X": 5.466060988669327,
                  "Y": -7.784442800851875,
                  "_deepnote_index_column": 904
                },
                {
                  "X": 6.74314179653269,
                  "Y": 9.988253925712227,
                  "_deepnote_index_column": 905
                },
                {
                  "X": 5.240435757838605,
                  "Y": -9.413922415335628,
                  "_deepnote_index_column": 906
                },
                {
                  "X": 7.966018248239549,
                  "Y": 2.9840313948947808,
                  "_deepnote_index_column": 907
                },
                {
                  "X": 5.0940248925533576,
                  "Y": -8.53496535318852,
                  "_deepnote_index_column": 908
                },
                {
                  "X": 5.418632078809311,
                  "Y": -8.002158549614508,
                  "_deepnote_index_column": 909
                },
                {
                  "X": 5.005973288824329,
                  "Y": 10.176015784315403,
                  "_deepnote_index_column": 910
                },
                {
                  "X": 5.316824739105567,
                  "Y": 10.222742745404776,
                  "_deepnote_index_column": 911
                },
                {
                  "X": 3.9857139428226023,
                  "Y": -7.59405193569293,
                  "_deepnote_index_column": 912
                },
                {
                  "X": 5.837270706244352,
                  "Y": -5.707691603513561,
                  "_deepnote_index_column": 913
                },
                {
                  "X": 5.035237128712451,
                  "Y": -9.831480876779018,
                  "_deepnote_index_column": 914
                },
                {
                  "X": 4.0187075127657845,
                  "Y": -8.470180024876745,
                  "_deepnote_index_column": 915
                },
                {
                  "X": 7.359803539342344,
                  "Y": 2.949708925177417,
                  "_deepnote_index_column": 916
                },
                {
                  "X": 6.908912303846222,
                  "Y": -10.210772964836847,
                  "_deepnote_index_column": 917
                },
                {
                  "X": 4.762388036032302,
                  "Y": -8.382412174698494,
                  "_deepnote_index_column": 918
                },
                {
                  "X": 5.601630565018966,
                  "Y": -8.062326060514492,
                  "_deepnote_index_column": 919
                },
                {
                  "X": 4.343545666056114,
                  "Y": 2.225643555654212,
                  "_deepnote_index_column": 920
                },
                {
                  "X": 6.476297290682494,
                  "Y": 4.426914259847207,
                  "_deepnote_index_column": 921
                },
                {
                  "X": 5.174158667654325,
                  "Y": -8.757715876176398,
                  "_deepnote_index_column": 922
                },
                {
                  "X": 6.616552731665129,
                  "Y": 2.8609587493411204,
                  "_deepnote_index_column": 923
                },
                {
                  "X": 6.012435592973733,
                  "Y": 9.871015811552232,
                  "_deepnote_index_column": 924
                },
                {
                  "X": 6.924792263027342,
                  "Y": 5.401604515135311,
                  "_deepnote_index_column": 925
                },
                {
                  "X": 3.831301978353882,
                  "Y": -7.072001533709944,
                  "_deepnote_index_column": 926
                },
                {
                  "X": 5.875495678420989,
                  "Y": 11.034175110061682,
                  "_deepnote_index_column": 927
                },
                {
                  "X": 4.323179443893874,
                  "Y": -9.716745935857476,
                  "_deepnote_index_column": 928
                },
                {
                  "X": 6.936095600165429,
                  "Y": 8.801391820970332,
                  "_deepnote_index_column": 929
                },
                {
                  "X": 7.511805567065354,
                  "Y": 4.153587313900424,
                  "_deepnote_index_column": 930
                },
                {
                  "X": 5.002938866787167,
                  "Y": 12.135720436880188,
                  "_deepnote_index_column": 931
                },
                {
                  "X": 4.897521113764564,
                  "Y": 8.613622687801048,
                  "_deepnote_index_column": 932
                },
                {
                  "X": 6.224701840896384,
                  "Y": 9.019677945359478,
                  "_deepnote_index_column": 933
                },
                {
                  "X": 6.4962264670364975,
                  "Y": 9.583738121735728,
                  "_deepnote_index_column": 934
                },
                {
                  "X": 4.796527219463028,
                  "Y": 2.299249762989408,
                  "_deepnote_index_column": 935
                },
                {
                  "X": 4.632405151968707,
                  "Y": 3.2790974893442044,
                  "_deepnote_index_column": 936
                },
                {
                  "X": 5.395709595590539,
                  "Y": -7.706014383798087,
                  "_deepnote_index_column": 937
                },
                {
                  "X": 4.163767162767499,
                  "Y": 9.935965920646144,
                  "_deepnote_index_column": 938
                },
                {
                  "X": 6.381288017976299,
                  "Y": 4.081432641933604,
                  "_deepnote_index_column": 939
                },
                {
                  "X": 4.146117559688765,
                  "Y": -6.917161562392927,
                  "_deepnote_index_column": 940
                },
                {
                  "X": 6.769684090016705,
                  "Y": 3.347755466444565,
                  "_deepnote_index_column": 941
                },
                {
                  "X": 5.157783602551766,
                  "Y": -6.637530114341766,
                  "_deepnote_index_column": 942
                },
                {
                  "X": 4.8471284503943,
                  "Y": -7.870240701694022,
                  "_deepnote_index_column": 943
                },
                {
                  "X": 5.785638483574378,
                  "Y": 1.1365207600838474,
                  "_deepnote_index_column": 944
                },
                {
                  "X": 7.014260998425073,
                  "Y": 3.401516351819098,
                  "_deepnote_index_column": 945
                },
                {
                  "X": 6.566976410903923,
                  "Y": -7.057449467510224,
                  "_deepnote_index_column": 946
                },
                {
                  "X": 5.358953726327688,
                  "Y": -6.969356031393764,
                  "_deepnote_index_column": 947
                },
                {
                  "X": 4.986632396316554,
                  "Y": 4.781790767857837,
                  "_deepnote_index_column": 948
                },
                {
                  "X": 5.34772382223626,
                  "Y": 10.397523954289902,
                  "_deepnote_index_column": 949
                },
                {
                  "X": 5.678376272458931,
                  "Y": 8.256136612773133,
                  "_deepnote_index_column": 950
                },
                {
                  "X": 4.107656696525408,
                  "Y": -7.697720929893285,
                  "_deepnote_index_column": 951
                },
                {
                  "X": 5.835758367955032,
                  "Y": -8.735385164905892,
                  "_deepnote_index_column": 952
                },
                {
                  "X": 6.117229556362546,
                  "Y": 8.00813779898212,
                  "_deepnote_index_column": 953
                },
                {
                  "X": 6.235066797990019,
                  "Y": 3.856808372170189,
                  "_deepnote_index_column": 954
                },
                {
                  "X": 6.481208823162597,
                  "Y": 2.0583941626187467,
                  "_deepnote_index_column": 955
                },
                {
                  "X": 5.871172196077974,
                  "Y": -8.313401214837318,
                  "_deepnote_index_column": 956
                },
                {
                  "X": 2.077956864771416,
                  "Y": -8.440826426884778,
                  "_deepnote_index_column": 957
                },
                {
                  "X": 5.353257481579834,
                  "Y": 3.5841579099034955,
                  "_deepnote_index_column": 958
                },
                {
                  "X": 6.313642584500661,
                  "Y": 4.201447898101234,
                  "_deepnote_index_column": 959
                },
                {
                  "X": 5.148249262965898,
                  "Y": -7.840783961904181,
                  "_deepnote_index_column": 960
                },
                {
                  "X": 4.388044976728806,
                  "Y": -7.471741130780076,
                  "_deepnote_index_column": 961
                },
                {
                  "X": 5.64903539924615,
                  "Y": 10.592985124709475,
                  "_deepnote_index_column": 962
                },
                {
                  "X": 3.636736294981394,
                  "Y": -6.454834407047926,
                  "_deepnote_index_column": 963
                },
                {
                  "X": 6.487646568465599,
                  "Y": 8.447239720347172,
                  "_deepnote_index_column": 964
                },
                {
                  "X": 3.47648520363304,
                  "Y": 11.1489817399579,
                  "_deepnote_index_column": 965
                },
                {
                  "X": 7.485724154096386,
                  "Y": 9.65309420354222,
                  "_deepnote_index_column": 966
                },
                {
                  "X": 6.052050577761298,
                  "Y": 8.229284905836606,
                  "_deepnote_index_column": 967
                },
                {
                  "X": 6.325923928155192,
                  "Y": 1.8038192168848888,
                  "_deepnote_index_column": 968
                },
                {
                  "X": 7.4629588543260015,
                  "Y": 2.25715178259121,
                  "_deepnote_index_column": 969
                },
                {
                  "X": 5.312008396697377,
                  "Y": -9.062168302958751,
                  "_deepnote_index_column": 970
                },
                {
                  "X": 5.376184190592898,
                  "Y": 9.05072820344513,
                  "_deepnote_index_column": 971
                },
                {
                  "X": 4.3278160622688535,
                  "Y": 7.776986990526396,
                  "_deepnote_index_column": 972
                },
                {
                  "X": 4.028713161753314,
                  "Y": 10.260725159998277,
                  "_deepnote_index_column": 973
                },
                {
                  "X": 6.743129097382695,
                  "Y": 4.205032669534508,
                  "_deepnote_index_column": 974
                },
                {
                  "X": 6.459038017039116,
                  "Y": -9.018408904145758,
                  "_deepnote_index_column": 975
                },
                {
                  "X": 4.551269280260254,
                  "Y": 8.934165134639272,
                  "_deepnote_index_column": 976
                },
                {
                  "X": 5.404210226975833,
                  "Y": -7.741625732006789,
                  "_deepnote_index_column": 977
                },
                {
                  "X": 6.529758334529426,
                  "Y": 3.593876635194696,
                  "_deepnote_index_column": 978
                },
                {
                  "X": 2.907015093178653,
                  "Y": -7.735417587497264,
                  "_deepnote_index_column": 979
                },
                {
                  "X": 6.090318885109883,
                  "Y": 11.45174457941561,
                  "_deepnote_index_column": 980
                },
                {
                  "X": 5.5795568626532726,
                  "Y": 3.035539105140792,
                  "_deepnote_index_column": 981
                },
                {
                  "X": 5.2856488753632656,
                  "Y": 10.530811334354366,
                  "_deepnote_index_column": 982
                },
                {
                  "X": 6.151353301127753,
                  "Y": 7.9295743753677455,
                  "_deepnote_index_column": 983
                },
                {
                  "X": 4.92411476885711,
                  "Y": 1.9209866493531464,
                  "_deepnote_index_column": 984
                },
                {
                  "X": 6.153596547073493,
                  "Y": 8.516763611909065,
                  "_deepnote_index_column": 985
                },
                {
                  "X": 3.693719665995767,
                  "Y": -8.787234135890662,
                  "_deepnote_index_column": 986
                },
                {
                  "X": 5.039403850470428,
                  "Y": -7.657877309469477,
                  "_deepnote_index_column": 987
                },
                {
                  "X": 4.844736575235359,
                  "Y": 10.745419454060572,
                  "_deepnote_index_column": 988
                },
                {
                  "X": 3.972645421891249,
                  "Y": -7.332760684907407,
                  "_deepnote_index_column": 989
                },
                {
                  "X": 6.0957273103681295,
                  "Y": 11.693951169688404,
                  "_deepnote_index_column": 990
                },
                {
                  "X": 5.184663503292265,
                  "Y": -8.34182326399732,
                  "_deepnote_index_column": 991
                },
                {
                  "X": 4.522057996272538,
                  "Y": 8.445517843815527,
                  "_deepnote_index_column": 992
                },
                {
                  "X": 5.446405229438576,
                  "Y": 11.044408102031309,
                  "_deepnote_index_column": 993
                },
                {
                  "X": 4.62838280731747,
                  "Y": 9.402309659225306,
                  "_deepnote_index_column": 994
                },
                {
                  "X": 4.963106084793117,
                  "Y": -7.547203850920549,
                  "_deepnote_index_column": 995
                },
                {
                  "X": 6.147832844035795,
                  "Y": -8.74269604153518,
                  "_deepnote_index_column": 996
                },
                {
                  "X": 4.722671716302783,
                  "Y": 9.892130552981444,
                  "_deepnote_index_column": 997
                },
                {
                  "X": 6.333305400362552,
                  "Y": 2.750708140489294,
                  "_deepnote_index_column": 998
                },
                {
                  "X": 7.275561083439352,
                  "Y": 4.521316777903173,
                  "_deepnote_index_column": 999
                }
              ]
            },
            "text/plain": "            X         Y\n0    6.649504  2.223293\n1    5.260232 -7.556045\n2    6.164551  9.245618\n3    5.033345  9.002009\n4    3.674350 -7.836118\n..        ...       ...\n995  4.963106 -7.547204\n996  6.147833 -8.742696\n997  4.722672  9.892131\n998  6.333305  2.750708\n999  7.275561  4.521317\n\n[1000 rows x 2 columns]",
            "text/html": "<div>\n<style scoped>\n    .dataframe tbody tr th:only-of-type {\n        vertical-align: middle;\n    }\n\n    .dataframe tbody tr th {\n        vertical-align: top;\n    }\n\n    .dataframe thead th {\n        text-align: right;\n    }\n</style>\n<table border=\"1\" class=\"dataframe\">\n  <thead>\n    <tr style=\"text-align: right;\">\n      <th></th>\n      <th>X</th>\n      <th>Y</th>\n    </tr>\n  </thead>\n  <tbody>\n    <tr>\n      <th>0</th>\n      <td>6.649504</td>\n      <td>2.223293</td>\n    </tr>\n    <tr>\n      <th>1</th>\n      <td>5.260232</td>\n      <td>-7.556045</td>\n    </tr>\n    <tr>\n      <th>2</th>\n      <td>6.164551</td>\n      <td>9.245618</td>\n    </tr>\n    <tr>\n      <th>3</th>\n      <td>5.033345</td>\n      <td>9.002009</td>\n    </tr>\n    <tr>\n      <th>4</th>\n      <td>3.674350</td>\n      <td>-7.836118</td>\n    </tr>\n    <tr>\n      <th>...</th>\n      <td>...</td>\n      <td>...</td>\n    </tr>\n    <tr>\n      <th>995</th>\n      <td>4.963106</td>\n      <td>-7.547204</td>\n    </tr>\n    <tr>\n      <th>996</th>\n      <td>6.147833</td>\n      <td>-8.742696</td>\n    </tr>\n    <tr>\n      <th>997</th>\n      <td>4.722672</td>\n      <td>9.892131</td>\n    </tr>\n    <tr>\n      <th>998</th>\n      <td>6.333305</td>\n      <td>2.750708</td>\n    </tr>\n    <tr>\n      <th>999</th>\n      <td>7.275561</td>\n      <td>4.521317</td>\n    </tr>\n  </tbody>\n</table>\n<p>1000 rows × 2 columns</p>\n</div>"
          },
          "metadata": {}
        }
      ]
    },
    {
      "cell_type": "code",
      "metadata": {
        "tags": [],
        "deepnote_to_be_reexecuted": false,
        "source_hash": "2a1dffab",
        "execution_millis": 292,
        "cell_id": "00002-bc9a70e9-5191-45e1-b2ee-9db4af2f0d3e",
        "execution_start": 1619167706983,
        "deepnote_cell_type": "code"
      },
      "source": "plt.scatter(df[\"X\"],df[\"Y\"])",
      "execution_count": 4,
      "outputs": [
        {
          "output_type": "execute_result",
          "execution_count": 4,
          "data": {
            "text/plain": "<matplotlib.collections.PathCollection at 0x7f5a356ed750>"
          },
          "metadata": {}
        },
        {
          "data": {
            "text/plain": "<Figure size 432x288 with 1 Axes>",
            "image/png": "[encoded data removed]"
          },
          "metadata": {
            "needs_background": "light"
          },
          "output_type": "display_data"
        }
      ]
    },
    {
      "cell_type": "code",
      "metadata": {
        "tags": [],
        "deepnote_to_be_reexecuted": false,
        "source_hash": "ed6fb297",
        "execution_millis": 576,
        "cell_id": "00003-4cbdd6f3-184a-4b4e-94cb-6d9ac22939f4",
        "execution_start": 1619167707273,
        "deepnote_cell_type": "code"
      },
      "source": "X=df[[\"X\",\"Y\"]]\nk_means = KMeans(init = \"k-means++\", n_clusters = 3, n_init = 8)\nk_means.fit(X)",
      "execution_count": 5,
      "outputs": [
        {
          "output_type": "execute_result",
          "execution_count": 5,
          "data": {
            "text/plain": "KMeans(n_clusters=3, n_init=8)"
          },
          "metadata": {}
        }
      ]
    },
    {
      "cell_type": "code",
      "metadata": {
        "tags": [],
        "deepnote_to_be_reexecuted": false,
        "source_hash": "df6c0c8f",
        "execution_millis": 6,
        "cell_id": "00004-60609b61-6a7d-4eef-8e70-838f0f4c3df8",
        "execution_start": 1619167707849,
        "deepnote_cell_type": "code"
      },
      "source": "labels = k_means.labels_",
      "execution_count": 6,
      "outputs": []
    },
    {
      "cell_type": "code",
      "metadata": {
        "tags": [],
        "deepnote_to_be_reexecuted": false,
        "source_hash": "e581a32f",
        "execution_millis": 6,
        "cell_id": "00005-37c6f0f8-9cac-44b5-b127-59a6ac24fe2b",
        "execution_start": 1619167707860,
        "deepnote_cell_type": "code"
      },
      "source": "k_means_cluster_centers = k_means.cluster_centers_\n",
      "execution_count": 7,
      "outputs": []
    },
    {
      "cell_type": "code",
      "metadata": {
        "tags": [],
        "deepnote_to_be_reexecuted": false,
        "source_hash": "1b94602f",
        "execution_millis": 612,
        "cell_id": "00006-ae34db26-b201-459d-aff0-12bd41365e3c",
        "execution_start": 1619167707873,
        "deepnote_cell_type": "code"
      },
      "source": "f, (ax1, ax2) = plt.subplots(1, 2,figsize=(15,8))\nax1.set_title('K Means')\nax1.scatter(df[\"X\"],df[\"Y\"],c=labels,cmap='autumn')\nax2.set_title(\"Original\")\nax2.scatter(df[\"X\"],df[\"Y\"])\nax1.grid()\nax2.grid()",
      "execution_count": 8,
      "outputs": [
        {
          "data": {
            "text/plain": "<Figure size 1080x576 with 2 Axes>",
            "image/png": "[encoded data removed]"
          },
          "metadata": {
            "needs_background": "light"
          },
          "output_type": "display_data"
        }
      ]
    },
    {
      "cell_type": "code",
      "metadata": {
        "tags": [],
        "deepnote_to_be_reexecuted": false,
        "source_hash": "7d973261",
        "execution_millis": 4,
        "cell_id": "00007-df42af3b-38a4-4127-9b1d-f9d606f8747a",
        "execution_start": 1619167708750,
        "deepnote_cell_type": "code"
      },
      "source": "df[\"Labels\"]=labels",
      "execution_count": 9,
      "outputs": []
    },
    {
      "cell_type": "code",
      "metadata": {
        "tags": [],
        "deepnote_to_be_reexecuted": false,
        "source_hash": "a5742d33",
        "execution_millis": 259,
        "cell_id": "00008-39149f21-de0b-48e3-9a00-395af63f5e2b",
        "execution_start": 1619167709123,
        "deepnote_cell_type": "code"
      },
      "source": "plt.scatter(df.loc[df[\"Labels\"]==1][\"X\"],df.loc[df[\"Labels\"]==1][\"Y\"])",
      "execution_count": 10,
      "outputs": [
        {
          "output_type": "execute_result",
          "execution_count": 10,
          "data": {
            "text/plain": "<matplotlib.collections.PathCollection at 0x7f5a2ca5a310>"
          },
          "metadata": {}
        },
        {
          "data": {
            "text/plain": "<Figure size 432x288 with 1 Axes>",
            "image/png": "[encoded data removed]"
          },
          "metadata": {
            "needs_background": "light"
          },
          "output_type": "display_data"
        }
      ]
    },
    {
      "cell_type": "code",
      "metadata": {
        "tags": [],
        "deepnote_to_be_reexecuted": false,
        "source_hash": "90c8abd1",
        "execution_millis": 5,
        "cell_id": "00009-ff3c238b-beaa-4a58-a855-695f54b60ddb",
        "execution_start": 1619167710176,
        "deepnote_cell_type": "code"
      },
      "source": "x_baby=df.loc[df[\"Labels\"]==1][\"X\"].max()",
      "execution_count": 11,
      "outputs": []
    },
    {
      "cell_type": "code",
      "metadata": {
        "tags": [],
        "deepnote_to_be_reexecuted": false,
        "source_hash": "aa6ffe1f",
        "execution_millis": 8,
        "cell_id": "00010-c6758b98-140e-46d0-9e9a-82782146c8ef",
        "execution_start": 1619167710449,
        "deepnote_cell_type": "code"
      },
      "source": "y_baby=df.loc[df[\"X\"]==x_baby,\"Y\"]",
      "execution_count": 12,
      "outputs": []
    },
    {
      "cell_type": "code",
      "metadata": {
        "tags": [],
        "deepnote_to_be_reexecuted": false,
        "source_hash": "c7705e37",
        "execution_millis": 298,
        "cell_id": "00011-b9ed19f7-4095-4f5a-af78-cab692e6b693",
        "execution_start": 1619167710959,
        "deepnote_cell_type": "code"
      },
      "source": "plt.scatter(df.loc[df[\"Labels\"]==1][\"X\"],df.loc[df[\"Labels\"]==1][\"Y\"])\nplt.scatter(x_baby,y_baby,s=90, c='red', marker='X')",
      "execution_count": 13,
      "outputs": [
        {
          "output_type": "execute_result",
          "execution_count": 13,
          "data": {
            "text/plain": "<matplotlib.collections.PathCollection at 0x7f5a2c9a72d0>"
          },
          "metadata": {}
        },
        {
          "data": {
            "text/plain": "<Figure size 432x288 with 1 Axes>",
            "image/png": "[encoded data removed]"
          },
          "metadata": {
            "needs_background": "light"
          },
          "output_type": "display_data"
        }
      ]
    },
    {
      "cell_type": "code",
      "metadata": {
        "tags": [],
        "deepnote_to_be_reexecuted": false,
        "source_hash": "15969a60",
        "execution_millis": 9,
        "cell_id": "00012-08c19789-c9b3-4e7d-b2c5-72d5abbfd082",
        "execution_start": 1619167713687,
        "deepnote_cell_type": "code"
      },
      "source": "print(x_baby)\nprint(y_baby)",
      "execution_count": 14,
      "outputs": [
        {
          "name": "stdout",
          "text": "8.087337403292173\n270   -9.499944\nName: Y, dtype: float64\n",
          "output_type": "stream"
        }
      ]
    },
    {
      "cell_type": "code",
      "metadata": {
        "tags": [],
        "deepnote_to_be_reexecuted": false,
        "source_hash": "56641a97",
        "execution_millis": 43,
        "cell_id": "00013-cbade158-5ee5-4376-b64a-00fcaf089ac6",
        "execution_start": 1619167715210,
        "deepnote_cell_type": "code"
      },
      "source": "df_new=pd.read_csv(\"/work/planet.csv\")\ndf_new.head()",
      "execution_count": 15,
      "outputs": [
        {
          "output_type": "execute_result",
          "execution_count": 15,
          "data": {
            "application/vnd.deepnote.dataframe.v2+json": {
              "row_count": 5,
              "column_count": 5,
              "columns": [
                {
                  "name": "X",
                  "dtype": "float64",
                  "stats": {
                    "unique_count": 5,
                    "nan_count": 0,
                    "min": "-10.577705871350958",
                    "max": "4.680549005991116",
                    "histogram": [
                      {
                        "bin_start": -10.577705871350958,
                        "bin_end": -9.05188038361675,
                        "count": 1
                      },
                      {
                        "bin_start": -9.05188038361675,
                        "bin_end": -7.526054895882543,
                        "count": 2
                      },
                      {
                        "bin_start": -7.526054895882543,
                        "bin_end": -6.000229408148336,
                        "count": 1
                      },
                      {
                        "bin_start": -6.000229408148336,
                        "bin_end": -4.474403920414128,
                        "count": 0
                      },
                      {
                        "bin_start": -4.474403920414128,
                        "bin_end": -2.94857843267992,
                        "count": 0
                      },
                      {
                        "bin_start": -2.94857843267992,
                        "bin_end": -1.4227529449457137,
                        "count": 0
                      },
                      {
                        "bin_start": -1.4227529449457137,
                        "bin_end": 0.1030725427884942,
                        "count": 0
                      },
                      {
                        "bin_start": 0.1030725427884942,
                        "bin_end": 1.628898030522702,
                        "count": 0
                      },
                      {
                        "bin_start": 1.628898030522702,
                        "bin_end": 3.15472351825691,
                        "count": 0
                      },
                      {
                        "bin_start": 3.15472351825691,
                        "bin_end": 4.680549005991116,
                        "count": 1
                      }
                    ]
                  }
                },
                {
                  "name": "Y",
                  "dtype": "float64",
                  "stats": {
                    "unique_count": 5,
                    "nan_count": 0,
                    "min": "-8.821567115864449",
                    "max": "7.121961798829664",
                    "histogram": [
                      {
                        "bin_start": -8.821567115864449,
                        "bin_end": -7.227214224395038,
                        "count": 1
                      },
                      {
                        "bin_start": -7.227214224395038,
                        "bin_end": -5.632861332925626,
                        "count": 0
                      },
                      {
                        "bin_start": -5.632861332925626,
                        "bin_end": -4.038508441456214,
                        "count": 0
                      },
                      {
                        "bin_start": -4.038508441456214,
                        "bin_end": -2.444155549986803,
                        "count": 0
                      },
                      {
                        "bin_start": -2.444155549986803,
                        "bin_end": -0.8498026585173921,
                        "count": 0
                      },
                      {
                        "bin_start": -0.8498026585173921,
                        "bin_end": 0.7445502329520206,
                        "count": 1
                      },
                      {
                        "bin_start": 0.7445502329520206,
                        "bin_end": 2.3389031244214316,
                        "count": 1
                      },
                      {
                        "bin_start": 2.3389031244214316,
                        "bin_end": 3.9332560158908425,
                        "count": 0
                      },
                      {
                        "bin_start": 3.9332560158908425,
                        "bin_end": 5.5276089073602535,
                        "count": 1
                      },
                      {
                        "bin_start": 5.5276089073602535,
                        "bin_end": 7.121961798829664,
                        "count": 1
                      }
                    ]
                  }
                },
                {
                  "name": "Z",
                  "dtype": "float64",
                  "stats": {
                    "unique_count": 5,
                    "nan_count": 0,
                    "min": "-5.58860803212353",
                    "max": "8.955228964509592",
                    "histogram": [
                      {
                        "bin_start": -5.58860803212353,
                        "bin_end": -4.134224332460218,
                        "count": 1
                      },
                      {
                        "bin_start": -4.134224332460218,
                        "bin_end": -2.679840632796906,
                        "count": 0
                      },
                      {
                        "bin_start": -2.679840632796906,
                        "bin_end": -1.2254569331335938,
                        "count": 0
                      },
                      {
                        "bin_start": -1.2254569331335938,
                        "bin_end": 0.22892676652971833,
                        "count": 1
                      },
                      {
                        "bin_start": 0.22892676652971833,
                        "bin_end": 1.6833104661930305,
                        "count": 1
                      },
                      {
                        "bin_start": 1.6833104661930305,
                        "bin_end": 3.1376941658563426,
                        "count": 0
                      },
                      {
                        "bin_start": 3.1376941658563426,
                        "bin_end": 4.592077865519655,
                        "count": 0
                      },
                      {
                        "bin_start": 4.592077865519655,
                        "bin_end": 6.046461565182967,
                        "count": 1
                      },
                      {
                        "bin_start": 6.046461565182967,
                        "bin_end": 7.500845264846279,
                        "count": 0
                      },
                      {
                        "bin_start": 7.500845264846279,
                        "bin_end": 8.955228964509592,
                        "count": 1
                      }
                    ]
                  }
                },
                {
                  "name": "Temp",
                  "dtype": "float64",
                  "stats": {
                    "unique_count": 5,
                    "nan_count": 0,
                    "min": "-8.438928909338676",
                    "max": "8.154624394805673",
                    "histogram": [
                      {
                        "bin_start": -8.438928909338676,
                        "bin_end": -6.779573578924241,
                        "count": 3
                      },
                      {
                        "bin_start": -6.779573578924241,
                        "bin_end": -5.120218248509806,
                        "count": 1
                      },
                      {
                        "bin_start": -5.120218248509806,
                        "bin_end": -3.460862918095371,
                        "count": 0
                      },
                      {
                        "bin_start": -3.460862918095371,
                        "bin_end": -1.8015075876809359,
                        "count": 0
                      },
                      {
                        "bin_start": -1.8015075876809359,
                        "bin_end": -0.14215225726650083,
                        "count": 0
                      },
                      {
                        "bin_start": -0.14215225726650083,
                        "bin_end": 1.5172030731479342,
                        "count": 0
                      },
                      {
                        "bin_start": 1.5172030731479342,
                        "bin_end": 3.1765584035623693,
                        "count": 0
                      },
                      {
                        "bin_start": 3.1765584035623693,
                        "bin_end": 4.835913733976804,
                        "count": 0
                      },
                      {
                        "bin_start": 4.835913733976804,
                        "bin_end": 6.495269064391239,
                        "count": 0
                      },
                      {
                        "bin_start": 6.495269064391239,
                        "bin_end": 8.154624394805673,
                        "count": 1
                      }
                    ]
                  }
                },
                {
                  "name": "climate",
                  "dtype": "float64",
                  "stats": {
                    "unique_count": 5,
                    "nan_count": 0,
                    "min": "-9.494052696968932",
                    "max": "9.046185289270852",
                    "histogram": [
                      {
                        "bin_start": -9.494052696968932,
                        "bin_end": -7.640028898344954,
                        "count": 2
                      },
                      {
                        "bin_start": -7.640028898344954,
                        "bin_end": -5.786005099720976,
                        "count": 0
                      },
                      {
                        "bin_start": -5.786005099720976,
                        "bin_end": -3.9319813010969966,
                        "count": 0
                      },
                      {
                        "bin_start": -3.9319813010969966,
                        "bin_end": -2.0779575024730184,
                        "count": 1
                      },
                      {
                        "bin_start": -2.0779575024730184,
                        "bin_end": -0.2239337038490401,
                        "count": 0
                      },
                      {
                        "bin_start": -0.2239337038490401,
                        "bin_end": 1.630090094774939,
                        "count": 0
                      },
                      {
                        "bin_start": 1.630090094774939,
                        "bin_end": 3.4841138933989164,
                        "count": 0
                      },
                      {
                        "bin_start": 3.4841138933989164,
                        "bin_end": 5.338137692022896,
                        "count": 0
                      },
                      {
                        "bin_start": 5.338137692022896,
                        "bin_end": 7.192161490646875,
                        "count": 0
                      },
                      {
                        "bin_start": 7.192161490646875,
                        "bin_end": 9.046185289270852,
                        "count": 2
                      }
                    ]
                  }
                },
                {
                  "name": "_deepnote_index_column",
                  "dtype": "int64"
                }
              ],
              "rows_top": [
                {
                  "X": -10.577705871350958,
                  "Y": 2.279241597144936,
                  "Z": -0.8654523500053504,
                  "Temp": -8.438928909338676,
                  "climate": -9.494052696968932,
                  "_deepnote_index_column": 0
                },
                {
                  "X": -7.427127452604408,
                  "Y": 0.1764099706254495,
                  "Z": -5.58860803212353,
                  "Temp": -5.443328686210434,
                  "climate": -3.629749115998497,
                  "_deepnote_index_column": 1
                },
                {
                  "X": -7.590299755682365,
                  "Y": 7.121961798829664,
                  "Z": 8.955228964509592,
                  "Temp": -7.675402057892525,
                  "climate": 8.909423224617354,
                  "_deepnote_index_column": 2
                },
                {
                  "X": -8.8506996220433,
                  "Y": 4.544746579473163,
                  "Z": 0.6165608983563643,
                  "Temp": -7.1596178397326335,
                  "climate": -8.560697876271805,
                  "_deepnote_index_column": 3
                },
                {
                  "X": 4.680549005991116,
                  "Y": -8.821567115864449,
                  "Z": 5.156382195430829,
                  "Temp": 8.154624394805673,
                  "climate": 9.046185289270852,
                  "_deepnote_index_column": 4
                }
              ],
              "rows_bottom": null
            },
            "text/plain": "           X         Y         Z      Temp   climate\n0 -10.577706  2.279242 -0.865452 -8.438929 -9.494053\n1  -7.427127  0.176410 -5.588608 -5.443329 -3.629749\n2  -7.590300  7.121962  8.955229 -7.675402  8.909423\n3  -8.850700  4.544747  0.616561 -7.159618 -8.560698\n4   4.680549 -8.821567  5.156382  8.154624  9.046185",
            "text/html": "<div>\n<style scoped>\n    .dataframe tbody tr th:only-of-type {\n        vertical-align: middle;\n    }\n\n    .dataframe tbody tr th {\n        vertical-align: top;\n    }\n\n    .dataframe thead th {\n        text-align: right;\n    }\n</style>\n<table border=\"1\" class=\"dataframe\">\n  <thead>\n    <tr style=\"text-align: right;\">\n      <th></th>\n      <th>X</th>\n      <th>Y</th>\n      <th>Z</th>\n      <th>Temp</th>\n      <th>climate</th>\n    </tr>\n  </thead>\n  <tbody>\n    <tr>\n      <th>0</th>\n      <td>-10.577706</td>\n      <td>2.279242</td>\n      <td>-0.865452</td>\n      <td>-8.438929</td>\n      <td>-9.494053</td>\n    </tr>\n    <tr>\n      <th>1</th>\n      <td>-7.427127</td>\n      <td>0.176410</td>\n      <td>-5.588608</td>\n      <td>-5.443329</td>\n      <td>-3.629749</td>\n    </tr>\n    <tr>\n      <th>2</th>\n      <td>-7.590300</td>\n      <td>7.121962</td>\n      <td>8.955229</td>\n      <td>-7.675402</td>\n      <td>8.909423</td>\n    </tr>\n    <tr>\n      <th>3</th>\n      <td>-8.850700</td>\n      <td>4.544747</td>\n      <td>0.616561</td>\n      <td>-7.159618</td>\n      <td>-8.560698</td>\n    </tr>\n    <tr>\n      <th>4</th>\n      <td>4.680549</td>\n      <td>-8.821567</td>\n      <td>5.156382</td>\n      <td>8.154624</td>\n      <td>9.046185</td>\n    </tr>\n  </tbody>\n</table>\n</div>"
          },
          "metadata": {}
        }
      ]
    },
    {
      "cell_type": "code",
      "metadata": {
        "tags": [],
        "deepnote_to_be_reexecuted": false,
        "source_hash": "6d55ad4",
        "execution_millis": 6,
        "cell_id": "00014-13af6967-ccb1-4f0d-ad7c-0cb28d2bb751",
        "execution_start": 1619167716153,
        "deepnote_cell_type": "code"
      },
      "source": "# from sklearn.pipeline import make_pipeline\n# from sklearn.preprocessing import StandardScaler\n# from sklearn.decomposition import PCA\n# pca = PCA(n_components=2)\n# scaler = StandardScaler()\n# pipeline = make_pipeline(scaler, pca)\n\n# X_new=df_new[[\"0\",\"1\",\"2\",\"3\",\"4\"]]\n\n\n# pipeline.fit_transform(X_sample)\n\n# j=pca.fit_transform(df_new)\n# y_variance = pca.explained_variance_ratio_\n# j=pd.DataFrame(j)",
      "execution_count": 16,
      "outputs": []
    },
    {
      "cell_type": "code",
      "metadata": {
        "tags": [],
        "deepnote_to_be_reexecuted": false,
        "source_hash": "5da07c84",
        "execution_millis": 1,
        "cell_id": "00016-576eca36-c970-4a4b-a6be-e01ab40693a0",
        "execution_start": 1619167726265,
        "deepnote_cell_type": "code"
      },
      "source": "k_means_new = KMeans(init = \"k-means++\", n_clusters = 5, n_init = 12)",
      "execution_count": 18,
      "outputs": []
    },
    {
      "cell_type": "code",
      "metadata": {
        "tags": [],
        "deepnote_to_be_reexecuted": false,
        "source_hash": "8e47ed3f",
        "cell_id": "00017-2c7c4a08-a336-49d7-8061-8484a491bf9e",
        "execution_start": 1619167728016,
        "execution_millis": 53,
        "deepnote_cell_type": "code"
      },
      "source": "X_new=df_new[[\"0\",\"1\",\"2\",\"3\",\"4\"]]\nk_means_new(X_new)",
      "execution_count": 19,
      "outputs": [
        {
          "output_type": "error",
          "ename": "KeyError",
          "evalue": "\"None of [Index(['0', '1', '2', '3', '4'], dtype='object')] are in the [columns]\"",
          "traceback": [
            "\u001b[0;31m---------------------------------------------------------------------------\u001b[0m",
            "\u001b[0;31mKeyError\u001b[0m                                  Traceback (most recent call last)",
            "\u001b[0;32m<ipython-input-19-dd4fa0f97f50>\u001b[0m in \u001b[0;36m<module>\u001b[0;34m\u001b[0m\n\u001b[0;32m----> 1\u001b[0;31m \u001b[0mX_new\u001b[0m\u001b[0;34m=\u001b[0m\u001b[0mdf_new\u001b[0m\u001b[0;34m[\u001b[0m\u001b[0;34m[\u001b[0m\u001b[0;34m\"0\"\u001b[0m\u001b[0;34m,\u001b[0m\u001b[0;34m\"1\"\u001b[0m\u001b[0;34m,\u001b[0m\u001b[0;34m\"2\"\u001b[0m\u001b[0;34m,\u001b[0m\u001b[0;34m\"3\"\u001b[0m\u001b[0;34m,\u001b[0m\u001b[0;34m\"4\"\u001b[0m\u001b[0;34m]\u001b[0m\u001b[0;34m]\u001b[0m\u001b[0;34m\u001b[0m\u001b[0;34m\u001b[0m\u001b[0m\n\u001b[0m\u001b[1;32m      2\u001b[0m \u001b[0mk_means_new\u001b[0m\u001b[0;34m(\u001b[0m\u001b[0mX_new\u001b[0m\u001b[0;34m)\u001b[0m\u001b[0;34m\u001b[0m\u001b[0;34m\u001b[0m\u001b[0m\n",
            "\u001b[0;32m/shared-libs/python3.7/py/lib/python3.7/site-packages/pandas/core/frame.py\u001b[0m in \u001b[0;36m__getitem__\u001b[0;34m(self, key)\u001b[0m\n\u001b[1;32m   3028\u001b[0m             \u001b[0;32mif\u001b[0m \u001b[0mis_iterator\u001b[0m\u001b[0;34m(\u001b[0m\u001b[0mkey\u001b[0m\u001b[0;34m)\u001b[0m\u001b[0;34m:\u001b[0m\u001b[0;34m\u001b[0m\u001b[0;34m\u001b[0m\u001b[0m\n\u001b[1;32m   3029\u001b[0m                 \u001b[0mkey\u001b[0m \u001b[0;34m=\u001b[0m \u001b[0mlist\u001b[0m\u001b[0;34m(\u001b[0m\u001b[0mkey\u001b[0m\u001b[0;34m)\u001b[0m\u001b[0;34m\u001b[0m\u001b[0;34m\u001b[0m\u001b[0m\n\u001b[0;32m-> 3030\u001b[0;31m             \u001b[0mindexer\u001b[0m \u001b[0;34m=\u001b[0m \u001b[0mself\u001b[0m\u001b[0;34m.\u001b[0m\u001b[0mloc\u001b[0m\u001b[0;34m.\u001b[0m\u001b[0m_get_listlike_indexer\u001b[0m\u001b[0;34m(\u001b[0m\u001b[0mkey\u001b[0m\u001b[0;34m,\u001b[0m \u001b[0maxis\u001b[0m\u001b[0;34m=\u001b[0m\u001b[0;36m1\u001b[0m\u001b[0;34m,\u001b[0m \u001b[0mraise_missing\u001b[0m\u001b[0;34m=\u001b[0m\u001b[0;32mTrue\u001b[0m\u001b[0;34m)\u001b[0m\u001b[0;34m[\u001b[0m\u001b[0;36m1\u001b[0m\u001b[0;34m]\u001b[0m\u001b[0;34m\u001b[0m\u001b[0;34m\u001b[0m\u001b[0m\n\u001b[0m\u001b[1;32m   3031\u001b[0m \u001b[0;34m\u001b[0m\u001b[0m\n\u001b[1;32m   3032\u001b[0m         \u001b[0;31m# take() does not accept boolean indexers\u001b[0m\u001b[0;34m\u001b[0m\u001b[0;34m\u001b[0m\u001b[0;34m\u001b[0m\u001b[0m\n",
            "\u001b[0;32m/shared-libs/python3.7/py/lib/python3.7/site-packages/pandas/core/indexing.py\u001b[0m in \u001b[0;36m_get_listlike_indexer\u001b[0;34m(self, key, axis, raise_missing)\u001b[0m\n\u001b[1;32m   1264\u001b[0m             \u001b[0mkeyarr\u001b[0m\u001b[0;34m,\u001b[0m \u001b[0mindexer\u001b[0m\u001b[0;34m,\u001b[0m \u001b[0mnew_indexer\u001b[0m \u001b[0;34m=\u001b[0m \u001b[0max\u001b[0m\u001b[0;34m.\u001b[0m\u001b[0m_reindex_non_unique\u001b[0m\u001b[0;34m(\u001b[0m\u001b[0mkeyarr\u001b[0m\u001b[0;34m)\u001b[0m\u001b[0;34m\u001b[0m\u001b[0;34m\u001b[0m\u001b[0m\n\u001b[1;32m   1265\u001b[0m \u001b[0;34m\u001b[0m\u001b[0m\n\u001b[0;32m-> 1266\u001b[0;31m         \u001b[0mself\u001b[0m\u001b[0;34m.\u001b[0m\u001b[0m_validate_read_indexer\u001b[0m\u001b[0;34m(\u001b[0m\u001b[0mkeyarr\u001b[0m\u001b[0;34m,\u001b[0m \u001b[0mindexer\u001b[0m\u001b[0;34m,\u001b[0m \u001b[0maxis\u001b[0m\u001b[0;34m,\u001b[0m \u001b[0mraise_missing\u001b[0m\u001b[0;34m=\u001b[0m\u001b[0mraise_missing\u001b[0m\u001b[0;34m)\u001b[0m\u001b[0;34m\u001b[0m\u001b[0;34m\u001b[0m\u001b[0m\n\u001b[0m\u001b[1;32m   1267\u001b[0m         \u001b[0;32mreturn\u001b[0m \u001b[0mkeyarr\u001b[0m\u001b[0;34m,\u001b[0m \u001b[0mindexer\u001b[0m\u001b[0;34m\u001b[0m\u001b[0;34m\u001b[0m\u001b[0m\n\u001b[1;32m   1268\u001b[0m \u001b[0;34m\u001b[0m\u001b[0m\n",
            "\u001b[0;32m/shared-libs/python3.7/py/lib/python3.7/site-packages/pandas/core/indexing.py\u001b[0m in \u001b[0;36m_validate_read_indexer\u001b[0;34m(self, key, indexer, axis, raise_missing)\u001b[0m\n\u001b[1;32m   1306\u001b[0m             \u001b[0;32mif\u001b[0m \u001b[0mmissing\u001b[0m \u001b[0;34m==\u001b[0m \u001b[0mlen\u001b[0m\u001b[0;34m(\u001b[0m\u001b[0mindexer\u001b[0m\u001b[0;34m)\u001b[0m\u001b[0;34m:\u001b[0m\u001b[0;34m\u001b[0m\u001b[0;34m\u001b[0m\u001b[0m\n\u001b[1;32m   1307\u001b[0m                 \u001b[0maxis_name\u001b[0m \u001b[0;34m=\u001b[0m \u001b[0mself\u001b[0m\u001b[0;34m.\u001b[0m\u001b[0mobj\u001b[0m\u001b[0;34m.\u001b[0m\u001b[0m_get_axis_name\u001b[0m\u001b[0;34m(\u001b[0m\u001b[0maxis\u001b[0m\u001b[0;34m)\u001b[0m\u001b[0;34m\u001b[0m\u001b[0;34m\u001b[0m\u001b[0m\n\u001b[0;32m-> 1308\u001b[0;31m                 \u001b[0;32mraise\u001b[0m \u001b[0mKeyError\u001b[0m\u001b[0;34m(\u001b[0m\u001b[0;34mf\"None of [{key}] are in the [{axis_name}]\"\u001b[0m\u001b[0;34m)\u001b[0m\u001b[0;34m\u001b[0m\u001b[0;34m\u001b[0m\u001b[0m\n\u001b[0m\u001b[1;32m   1309\u001b[0m \u001b[0;34m\u001b[0m\u001b[0m\n\u001b[1;32m   1310\u001b[0m             \u001b[0max\u001b[0m \u001b[0;34m=\u001b[0m \u001b[0mself\u001b[0m\u001b[0;34m.\u001b[0m\u001b[0mobj\u001b[0m\u001b[0;34m.\u001b[0m\u001b[0m_get_axis\u001b[0m\u001b[0;34m(\u001b[0m\u001b[0maxis\u001b[0m\u001b[0;34m)\u001b[0m\u001b[0;34m\u001b[0m\u001b[0;34m\u001b[0m\u001b[0m\n",
            "\u001b[0;31mKeyError\u001b[0m: \"None of [Index(['0', '1', '2', '3', '4'], dtype='object')] are in the [columns]\""
          ]
        }
      ]
    },
    {
      "cell_type": "code",
      "metadata": {
        "tags": [],
        "deepnote_to_be_reexecuted": false,
        "source_hash": "b623e53d",
        "cell_id": "00018-5f6372a4-4513-44ad-a280-505e43479767",
        "execution_start": 1619167728990,
        "execution_millis": 4,
        "deepnote_cell_type": "code"
      },
      "source": "",
      "execution_count": 19,
      "outputs": []
    },
    {
      "cell_type": "code",
      "metadata": {
        "tags": [],
        "deepnote_to_be_reexecuted": false,
        "source_hash": "48d724e",
        "execution_millis": 17,
        "cell_id": "00019-5272620d-4669-4f29-8499-8e0b5dfcbd2d",
        "execution_start": 1619167729442,
        "deepnote_cell_type": "code"
      },
      "source": "from sklearn.pipeline import make_pipeline\nfrom sklearn.preprocessing import StandardScaler\nfrom sklearn.decomposition import PCA\npca = PCA(n_components=2)\nscaler = StandardScaler()\npipeline = make_pipeline(scaler, pca)\n\nX_new=df_new[[\"X\",\"Y\",\"Z\",\"Temp\",\"climate\"]].values\n\n\ncomponents = pipeline.fit_transform(X_new)",
      "execution_count": 20,
      "outputs": []
    },
    {
      "cell_type": "code",
      "metadata": {
        "tags": [],
        "deepnote_to_be_reexecuted": false,
        "source_hash": "3ebed71",
        "execution_millis": 10,
        "cell_id": "00020-c8853d7f-7185-4318-9d7f-af7955431818",
        "execution_start": 1619167730984,
        "deepnote_cell_type": "code"
      },
      "source": "components",
      "execution_count": 21,
      "outputs": [
        {
          "output_type": "execute_result",
          "execution_count": 21,
          "data": {
            "text/plain": "array([[ 2.04283974, -0.97900928],\n       [ 0.89464231, -1.039457  ],\n       [ 1.43142213,  1.92441003],\n       ...,\n       [ 1.96045697, -0.69027658],\n       [ 0.57279243,  0.16156641],\n       [ 1.60324662,  1.98912451]])"
          },
          "metadata": {}
        }
      ]
    },
    {
      "cell_type": "code",
      "metadata": {
        "tags": [],
        "cell_id": "00021-300439ca-317e-4630-9d72-f05872a1fee0",
        "deepnote_to_be_reexecuted": false,
        "source_hash": "b623e53d",
        "execution_start": 1619167731442,
        "execution_millis": 3,
        "deepnote_cell_type": "code"
      },
      "source": "",
      "execution_count": 21,
      "outputs": []
    },
    {
      "cell_type": "code",
      "metadata": {
        "tags": [],
        "deepnote_to_be_reexecuted": false,
        "source_hash": "9abb00bc",
        "execution_millis": 625,
        "cell_id": "00022-6bee867b-719f-423a-bd86-6981db8301e0",
        "execution_start": 1619167732414,
        "deepnote_cell_type": "code"
      },
      "source": "f, (ax1, ax2) = plt.subplots(1, 2,figsize=(15,8))\nax1.set_title('K Means')\nax1.scatter(components[:,0],components[:,1],)#c=labels,cmap='autumn')\nax2.set_title(\"Original\")\nax2.scatter(components[:,0],components[:,1])\nax1.grid()\nax2.grid()",
      "execution_count": 22,
      "outputs": [
        {
          "data": {
            "text/plain": "<Figure size 1080x576 with 2 Axes>",
            "image/png": "[encoded data removed]"
          },
          "metadata": {
            "needs_background": "light"
          },
          "output_type": "display_data"
        }
      ]
    },
    {
      "cell_type": "code",
      "metadata": {
        "tags": [],
        "deepnote_to_be_reexecuted": false,
        "source_hash": "b623e53d",
        "execution_millis": 4,
        "cell_id": "00023-af76f40d-1ef5-47c6-85c4-1ce13ee32f13",
        "execution_start": 1619167817173,
        "deepnote_cell_type": "code"
      },
      "source": "",
      "execution_count": 27,
      "outputs": []
    },
    {
      "cell_type": "code",
      "metadata": {
        "tags": [],
        "cell_id": "00024-de93106b-55e9-4aba-9da9-c15cf5187278",
        "deepnote_to_be_reexecuted": false,
        "source_hash": "5dd21082",
        "execution_millis": 4,
        "execution_start": 1619167787314,
        "deepnote_cell_type": "code"
      },
      "source": "from sklearn.cluster import KMeans\nk_means_new = KMeans(init = \"k-means++\", n_clusters = 6, n_init = 12)\n",
      "execution_count": 26,
      "outputs": []
    },
    {
      "cell_type": "code",
      "source": "k_means_new.fit(components)",
      "metadata": {
        "tags": [],
        "cell_id": "00024-5d5ceae8-47ea-4296-8473-1f2e300e1e89",
        "deepnote_to_be_reexecuted": false,
        "source_hash": "d1bea75d",
        "execution_start": 1619167811455,
        "execution_millis": 343,
        "deepnote_cell_type": "code"
      },
      "outputs": [
        {
          "output_type": "execute_result",
          "execution_count": 27,
          "data": {
            "text/plain": "KMeans(n_clusters=6, n_init=12)"
          },
          "metadata": {}
        }
      ],
      "execution_count": 27
    },
    {
      "cell_type": "code",
      "source": "labels = k_means.labels_",
      "metadata": {
        "tags": [],
        "cell_id": "00025-d5c69d92-705a-4d44-a588-8a4d41711d18",
        "deepnote_cell_type": "code"
      },
      "outputs": [],
      "execution_count": null
    },
    {
      "cell_type": "markdown",
      "source": "<a style='text-decoration:none;line-height:16px;display:flex;color:#5B5B62;padding:10px;justify-content:end;' href='https://deepnote.com?utm_source=created-in-deepnote-cell&projectId=a70149da-7ba5-4906-a687-caea6d00d31b' target=\"_blank\">\n<img alt='Created in deepnote.com' style='display:inline;max-height:16px;margin:0px;margin-right:7.5px;' src='data:image/svg+xml;base64,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' > </img>\nCreated in <span style='font-weight:600;margin-left:4px;'>Deepnote</span></a>",
      "metadata": {
        "tags": [],
        "created_in_deepnote_cell": true,
        "deepnote_cell_type": "markdown"
      }
    }
  ],
  "nbformat": 4,
  "nbformat_minor": 2,
  "metadata": {
    "orig_nbformat": 2,
    "deepnote": {
      "is_reactive": false
    },
    "deepnote_notebook_id": "4ae4770d-1bfe-4297-82ab-3bb2abbc1f01",
    "deepnote_execution_queue": []
  }
}