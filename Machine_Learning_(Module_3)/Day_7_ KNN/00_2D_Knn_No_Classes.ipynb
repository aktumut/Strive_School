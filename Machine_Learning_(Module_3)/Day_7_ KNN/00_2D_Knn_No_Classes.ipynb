{
  "cells": [
    {
      "cell_type": "markdown",
      "source": "# KNN From Sratch\n\nIn this workbook we will guide you through the steps to implement KNN from scratch. Once this is done you'll implement you solution in a class that is tested with the knn_class_tester notebook.\n\n1. Use the ```make_blobs``` function from SKLearn to make a dataset to test your KNN functions.\n2. Create helper functions. These will be useful when you go to implement your class.\n    - Squaring the difference of two vectors.\n    - Summing the square differences and returning the square root.\n    - Calculating the euclidian distances\n    - An evaluation function to evalaute predictions\n3. Create the KNN predcit function",
      "metadata": {
        "cell_id": "00000-c67d3149-7c19-4ae7-8a5b-a201668d09a1",
        "deepnote_cell_type": "markdown"
      }
    },
    {
      "cell_type": "code",
      "metadata": {
        "cell_id": "00001-20db0b53-cc92-458f-9e4f-2eae969aa52a",
        "deepnote_to_be_reexecuted": false,
        "source_hash": "4ab8176f",
        "execution_start": 1619521967588,
        "execution_millis": 4,
        "deepnote_cell_type": "code"
      },
      "source": "#import libraries\nimport numpy as np\nfrom collections import Counter\nimport matplotlib.pyplot as plt\nfrom sklearn.datasets import make_blobs\nfrom sklearn.model_selection import train_test_split",
      "execution_count": 15,
      "outputs": []
    },
    {
      "cell_type": "markdown",
      "source": "### Step 1: Create a sample dataset\n1. Use ```make_blobs``` to create a sample set\n2. Start with 300 samples, 4 centres, 0.6 standard deviation, and random state 0\n3. Plot the samples",
      "metadata": {
        "cell_id": "00002-39980b8a-491a-4e35-a7b5-59be5413d547",
        "deepnote_cell_type": "markdown"
      }
    },
    {
      "cell_type": "code",
      "metadata": {
        "cell_id": "00003-bfa01665-0ac8-451a-a7c5-12c5facae32f",
        "deepnote_to_be_reexecuted": false,
        "source_hash": "2ef046a5",
        "execution_start": 1619521969149,
        "execution_millis": 3,
        "deepnote_cell_type": "code"
      },
      "source": "#make the dataset with make_blobs\nX,y = make_blobs(n_samples=300,centers=4,cluster_std=0.6,random_state=0)\n",
      "execution_count": 16,
      "outputs": []
    },
    {
      "cell_type": "markdown",
      "source": "# Step 2: Creating the KNN function\nPseudocode below to help out! Note: **IT IS NOT ACTUAL CODE**",
      "metadata": {
        "cell_id": "00004-1cabeb7b-ff33-462c-a218-827ed7aa3d26",
        "deepnote_cell_type": "markdown"
      }
    },
    {
      "cell_type": "code",
      "metadata": {
        "cell_id": "00005-43c50d99-d55c-4899-a287-9c79d5407c53",
        "deepnote_to_be_reexecuted": false,
        "source_hash": "c963897e",
        "execution_start": 1619524308920,
        "execution_millis": 7,
        "deepnote_cell_type": "code"
      },
      "source": "# define train test split\n#X_train\n#X_test\n#y_train\n#y_test\nX_train, X_test, y_train, y_test = train_test_split(X, y, test_size=0.33)\nX_train\n",
      "execution_count": 27,
      "outputs": [
        {
          "output_type": "execute_result",
          "execution_count": 27,
          "data": {
            "text/plain": "array([[ 1.49493180e+00,  3.85848832e+00],\n       [ 1.69747910e+00,  8.66123282e-01],\n       [-1.50372568e+00,  1.92385320e+00],\n       [ 2.22707373e+00,  1.26296996e+00],\n       [ 2.74666646e+00,  1.54543482e+00],\n       [ 3.35320909e+00,  1.69958043e+00],\n       [ 1.13078931e+00,  9.35620856e-01],\n       [-1.31454942e+00,  6.83904013e+00],\n       [ 7.93137001e-03,  4.17614316e+00],\n       [-1.18652985e+00,  2.78427720e+00],\n       [ 1.48859977e+00,  6.51633844e-01],\n       [ 7.89338559e-01,  4.33748653e+00],\n       [ 1.39263752e+00,  9.28962707e-01],\n       [-7.85412206e-01,  8.45312331e+00],\n       [-5.39428614e-01,  7.45631776e+00],\n       [ 5.59529363e-01,  4.21400660e+00],\n       [ 2.35151259e+00,  8.28001297e-01],\n       [ 7.15177948e-01,  5.41334556e+00],\n       [ 1.20212540e+00,  3.64414685e+00],\n       [ 1.97553917e+00,  7.18989132e-01],\n       [-1.79351372e+00,  7.58086944e+00],\n       [ 2.72396035e-01,  5.46996004e+00],\n       [ 1.07627418e+00,  4.68480619e+00],\n       [ 1.84287117e+00,  7.26928839e-02],\n       [-6.14907097e-01,  3.94963585e+00],\n       [ 2.71506328e+00,  1.29082190e+00],\n       [ 1.36678633e+00,  6.34971633e-01],\n       [-9.49041610e-01,  8.46424331e+00],\n       [ 2.09680545e+00,  4.84741412e+00],\n       [ 1.66382237e+00,  6.63091635e-01],\n       [ 1.72955064e+00,  1.14729369e+00],\n       [-1.82455840e+00,  7.35958960e+00],\n       [-9.67794989e-01,  3.12186125e+00],\n       [ 1.05241733e+00,  4.54498095e+00],\n       [ 1.67841499e+00,  6.09047389e-01],\n       [ 1.66909648e+00, -4.36378231e-01],\n       [-2.11821046e+00,  2.03478126e+00],\n       [-1.81487687e+00,  7.97832190e+00],\n       [ 1.21767506e+00,  3.89290127e+00],\n       [ 1.10550448e+00,  1.26389129e+00],\n       [-5.38023054e-01,  3.01641891e+00],\n       [ 1.34471770e+00,  4.85711133e+00],\n       [-1.35863899e+00,  2.32200809e+00],\n       [-2.62142780e+00,  7.98635066e+00],\n       [ 1.37964693e+00,  4.54826443e+00],\n       [ 2.77180174e-01,  4.84428322e+00],\n       [-6.82774903e-01,  7.67490317e+00],\n       [-1.24902582e+00,  3.08533972e+00],\n       [ 3.43761754e+00,  2.61654166e-01],\n       [-1.00552592e+00,  3.08400540e+00],\n       [-7.08184904e-01,  2.50421275e+00],\n       [ 1.25566754e+00,  3.38204112e+00],\n       [-1.06690610e+00,  3.13165795e+00],\n       [-1.93731055e+00,  3.91361274e+00],\n       [ 2.13003529e+00,  5.19209620e+00],\n       [-2.78366586e+00,  2.99211541e+00],\n       [ 7.34363910e-01,  5.03725437e+00],\n       [ 5.14320434e-01,  4.62733684e+00],\n       [-1.95866665e+00,  2.43008647e+00],\n       [ 2.62492001e+00,  9.50194405e-01],\n       [-1.63793622e+00,  2.43329317e+00],\n       [-2.01606928e+00,  7.48420129e+00],\n       [-1.22605234e+00,  8.29620146e+00],\n       [-2.25698670e+00,  7.30207720e+00],\n       [ 3.41085289e+00,  8.72309369e-01],\n       [ 2.13979079e-01,  4.88542535e+00],\n       [ 4.59534668e-01,  5.44982630e+00],\n       [ 1.67280531e+00,  6.59300571e-01],\n       [-1.75783190e+00,  2.97449321e+00],\n       [ 1.61152972e+00,  1.82347242e+00],\n       [-1.65507124e+00,  8.61416749e+00],\n       [-1.01861632e+00,  7.81491465e+00],\n       [-1.74572014e+00,  3.01190457e+00],\n       [ 4.38990142e-01,  4.53592883e+00],\n       [-1.11064012e+00,  2.82213820e+00],\n       [ 1.89593761e+00,  5.18540259e+00],\n       [ 1.81559810e+00,  1.11969719e+00],\n       [ 2.22322228e+00,  8.38773426e-01],\n       [ 1.06923853e+00,  4.53068484e+00],\n       [ 2.29469533e+00, -7.65891994e-01],\n       [-2.05701103e+00,  7.37851598e+00],\n       [-1.86849125e+00,  3.07982487e+00],\n       [-9.22268640e-01,  8.09888579e+00],\n       [-1.12016775e+00,  7.11031582e+00],\n       [ 5.95676822e-01,  4.08614263e+00],\n       [-1.03540116e+00,  8.20559195e+00],\n       [ 6.70478769e-01,  4.04094275e+00],\n       [ 8.36856841e-01,  2.13635938e+00],\n       [ 5.72793810e-01,  4.08805543e+00],\n       [-4.87271301e-01,  3.32858293e+00],\n       [ 9.14338767e-01,  4.55014643e+00],\n       [-5.13333436e-01,  7.87437368e+00],\n       [-1.36219420e+00,  2.38333321e+00],\n       [-2.17851338e+00,  8.08585131e+00],\n       [-1.38181918e+00,  7.28761248e+00],\n       [ 2.36790645e+00,  5.52190878e-01],\n       [-4.74920358e-02,  5.47425256e+00],\n       [ 2.95195825e+00, -3.44327355e-01],\n       [ 3.69478657e-01,  7.79110522e+00],\n       [-1.45672617e+00,  7.48669893e+00],\n       [-1.37998039e+00,  7.18503804e+00],\n       [-1.68568257e+00,  7.95339446e+00],\n       [-1.13121396e+00,  6.76652230e+00],\n       [-9.69200946e-01,  3.26721702e+00],\n       [ 1.98894313e+00,  1.50976729e+00],\n       [ 2.43040639e+00, -6.35709334e-02],\n       [-1.73896306e+00,  1.94799775e+00],\n       [-2.15968109e+00,  3.41003096e+00],\n       [-8.85798374e-01,  2.64585078e+00],\n       [ 1.27135141e+00,  1.89254207e+00],\n       [-1.73163168e+00,  7.16447286e+00],\n       [ 1.00372519e+00,  4.19147702e+00],\n       [-1.53631328e+00,  3.01443916e+00],\n       [-2.54576750e+00,  3.15025055e+00],\n       [-1.99648151e+00,  2.85164868e+00],\n       [-1.80701134e+00,  2.06773859e+00],\n       [ 1.83375842e+00,  7.54036153e-01],\n       [-1.93960658e+00,  2.18943582e+00],\n       [-1.07768797e+00,  8.88106128e+00],\n       [-7.11099611e-01,  8.66043846e+00],\n       [ 1.06269622e+00,  5.17635143e+00],\n       [-6.46956784e-01,  3.42941343e+00],\n       [ 2.40615694e+00,  4.87047502e+00],\n       [ 7.28098690e-01,  3.85531444e+00],\n       [ 2.60778282e+00,  1.08890025e+00],\n       [ 4.28576743e-01,  4.97399710e+00],\n       [ 5.71670482e-01,  4.32288566e+00],\n       [-1.12867566e+00,  7.80509789e+00],\n       [-1.86621694e+00,  7.62549400e+00],\n       [ 1.78194802e+00,  9.08151155e-01],\n       [ 1.08272576e+00,  4.06271877e+00],\n       [-1.76404140e+00,  2.22222995e+00],\n       [ 4.53791789e-01,  3.95647753e+00],\n       [-2.04932168e-01,  8.43209665e+00],\n       [-1.81469750e+00,  3.29009724e+00],\n       [-2.04758277e+00,  6.65428520e+00],\n       [-1.80634968e+00,  7.72830656e+00],\n       [-2.63274574e+00,  2.63109786e+00],\n       [ 1.87271752e+00,  4.18069237e+00],\n       [-1.27567815e+00,  7.96776461e+00],\n       [-1.14091533e+00,  1.97550822e+00],\n       [-2.39482483e+00,  3.39806103e+00],\n       [-5.71099336e-01,  8.13306058e+00],\n       [ 9.59360742e-01,  4.56078645e+00],\n       [-1.02192525e+00,  2.76820711e+00],\n       [ 1.25471244e+00,  8.96331565e-02],\n       [ 1.41372442e+00,  4.38117707e+00],\n       [-2.22783649e+00,  6.89479938e+00],\n       [ 2.33812285e+00,  3.43116792e+00],\n       [ 2.04067185e+00,  4.54845114e-01],\n       [-1.48368917e+00,  6.00777418e+00],\n       [ 1.48170052e+00,  6.90074595e-01],\n       [-1.85908090e+00,  7.78874716e+00],\n       [-1.47904303e+00,  7.56915836e+00],\n       [-2.67000792e+00,  8.35389140e+00],\n       [ 1.97369770e+00,  1.57979848e+00],\n       [-1.65104622e+00,  3.44598961e+00],\n       [-8.94327882e-01,  7.61714473e+00],\n       [ 1.57322172e+00,  4.83933793e-01],\n       [ 2.76808540e+00,  1.08782923e+00],\n       [-1.10298500e+00,  7.30222786e+00],\n       [ 5.29417185e-01,  3.80792420e+00],\n       [-9.75986627e-01,  6.73761577e+00],\n       [ 1.86725632e-01,  4.02683656e+00],\n       [ 1.75644805e+00,  2.05538289e+00],\n       [ 4.31891060e-01,  4.33495456e+00],\n       [ 1.01618041e+00,  4.48527047e+00],\n       [-1.62150422e+00,  4.27191636e+00],\n       [-1.03819212e+00,  2.95323761e+00],\n       [ 8.15155229e-02,  4.56742235e+00],\n       [ 7.43873988e-01,  4.12240568e+00],\n       [ 1.16411070e+00,  3.79132988e+00],\n       [-2.22131717e+00,  2.73050691e+00],\n       [-5.90447667e-01,  7.69493053e+00],\n       [ 4.43598630e-01,  3.11530945e+00],\n       [-2.09183352e+00,  7.48142543e+00],\n       [-1.00140436e+00,  2.84881778e+00],\n       [ 9.35325115e-01,  5.33179296e+00],\n       [ 4.88382309e-01,  3.26801777e+00],\n       [ 1.20083098e+00,  6.01671730e-01],\n       [-1.54994580e+00,  9.28293222e+00],\n       [ 1.86985974e+00, -1.07938624e-01],\n       [-2.66676007e+00,  7.84766052e+00],\n       [ 2.36923352e+00,  7.94735861e-01],\n       [ 5.94762432e-01,  4.70964730e+00],\n       [ 1.21387411e+00,  3.64795042e+00],\n       [ 1.19008992e+00,  4.72773123e+00],\n       [-1.53027550e+00,  7.70542113e+00],\n       [-1.88609638e+00,  2.24834407e+00],\n       [ 8.93499638e-01,  1.01093082e+00],\n       [-1.60712495e+00,  3.56452854e+00],\n       [ 2.31102276e+00,  1.30380848e+00],\n       [-5.55523811e-01,  4.69595848e+00],\n       [ 8.15468056e-01,  4.78526116e+00],\n       [ 2.60137487e+00,  1.08799459e+00],\n       [ 1.86922139e+00,  5.44132083e+00],\n       [-1.64338755e+00,  7.52691964e+00],\n       [-1.36999388e+00,  7.76953035e+00],\n       [-1.10782972e+00,  2.92014479e+00],\n       [ 2.04505527e+00,  1.12515470e+00],\n       [-1.41365810e+00,  7.40962324e+00]])"
          },
          "metadata": {}
        }
      ]
    },
    {
      "cell_type": "code",
      "metadata": {
        "cell_id": "00006-4d6bd257-cd88-4ce1-8583-53cc686f1ce2",
        "deepnote_to_be_reexecuted": false,
        "source_hash": "947c21c1",
        "execution_start": 1619527410235,
        "execution_millis": 0,
        "deepnote_cell_type": "code"
      },
      "source": "def get_eucledian_distance(v1,v2):\n    distance=0\n    for x in range(len(v1)-1):\n        distance=distance+(v1[x]-v2[x])**2\n    #distance=(v1-v2)**2\n    distance=np.sqrt(distance)\n\n \n\n    return distance",
      "execution_count": 97,
      "outputs": []
    },
    {
      "cell_type": "code",
      "metadata": {
        "cell_id": "00007-e1efe3ca-db13-406f-813c-22c1f8fa4e5c",
        "deepnote_to_be_reexecuted": false,
        "source_hash": "e6c285d8",
        "execution_start": 1619527411917,
        "execution_millis": 2,
        "deepnote_cell_type": "code"
      },
      "source": "def get_all_distances(X_train,y_train):\n    all_distances=[]\n    \n    \n    for x in range(len(X_train)):\n        distance=get_eucledian_distance(X_train[x][:-1],y_train)\n        all_distances.append((X_train[x],distance))\n        #all_distances.append(distance)\n    all_distances.sort(key=lambda a: a[1])\n    return all_distances\n    #all_distances.sort()\n    #return all_distances\n\n    ",
      "execution_count": 98,
      "outputs": []
    },
    {
      "cell_type": "code",
      "source": "get_all_distances(X_train,y_train)",
      "metadata": {
        "tags": [],
        "cell_id": "00009-35dbdf3f-7125-478e-8398-4247daaef367",
        "deepnote_to_be_reexecuted": false,
        "source_hash": "eb0c3416",
        "execution_start": 1619527413106,
        "execution_millis": 12,
        "deepnote_cell_type": "code"
      },
      "outputs": [
        {
          "output_type": "execute_result",
          "execution_count": 99,
          "data": {
            "text/plain": "[(array([1.4949318 , 3.85848832]), 0.0),\n (array([1.6974791 , 0.86612328]), 0.0),\n (array([-1.50372568,  1.9238532 ]), 0.0),\n (array([2.22707373, 1.26296996]), 0.0),\n (array([2.74666646, 1.54543482]), 0.0),\n (array([3.35320909, 1.69958043]), 0.0),\n (array([1.13078931, 0.93562086]), 0.0),\n (array([-1.31454942,  6.83904013]), 0.0),\n (array([0.00793137, 4.17614316]), 0.0),\n (array([-1.18652985,  2.7842772 ]), 0.0),\n (array([1.48859977, 0.65163384]), 0.0),\n (array([0.78933856, 4.33748653]), 0.0),\n (array([1.39263752, 0.92896271]), 0.0),\n (array([-0.78541221,  8.45312331]), 0.0),\n (array([-0.53942861,  7.45631776]), 0.0),\n (array([0.55952936, 4.2140066 ]), 0.0),\n (array([2.35151259, 0.8280013 ]), 0.0),\n (array([0.71517795, 5.41334556]), 0.0),\n (array([1.2021254 , 3.64414685]), 0.0),\n (array([1.97553917, 0.71898913]), 0.0),\n (array([-1.79351372,  7.58086944]), 0.0),\n (array([0.27239604, 5.46996004]), 0.0),\n (array([1.07627418, 4.68480619]), 0.0),\n (array([1.84287117, 0.07269288]), 0.0),\n (array([-0.6149071 ,  3.94963585]), 0.0),\n (array([2.71506328, 1.2908219 ]), 0.0),\n (array([1.36678633, 0.63497163]), 0.0),\n (array([-0.94904161,  8.46424331]), 0.0),\n (array([2.09680545, 4.84741412]), 0.0),\n (array([1.66382237, 0.66309163]), 0.0),\n (array([1.72955064, 1.14729369]), 0.0),\n (array([-1.8245584,  7.3595896]), 0.0),\n (array([-0.96779499,  3.12186125]), 0.0),\n (array([1.05241733, 4.54498095]), 0.0),\n (array([1.67841499, 0.60904739]), 0.0),\n (array([ 1.66909648, -0.43637823]), 0.0),\n (array([-2.11821046,  2.03478126]), 0.0),\n (array([-1.81487687,  7.9783219 ]), 0.0),\n (array([1.21767506, 3.89290127]), 0.0),\n (array([1.10550448, 1.26389129]), 0.0),\n (array([-0.53802305,  3.01641891]), 0.0),\n (array([1.3447177 , 4.85711133]), 0.0),\n (array([-1.35863899,  2.32200809]), 0.0),\n (array([-2.6214278 ,  7.98635066]), 0.0),\n (array([1.37964693, 4.54826443]), 0.0),\n (array([0.27718017, 4.84428322]), 0.0),\n (array([-0.6827749 ,  7.67490317]), 0.0),\n (array([-1.24902582,  3.08533972]), 0.0),\n (array([3.43761754, 0.26165417]), 0.0),\n (array([-1.00552592,  3.0840054 ]), 0.0),\n (array([-0.7081849 ,  2.50421275]), 0.0),\n (array([1.25566754, 3.38204112]), 0.0),\n (array([-1.0669061 ,  3.13165795]), 0.0),\n (array([-1.93731055,  3.91361274]), 0.0),\n (array([2.13003529, 5.1920962 ]), 0.0),\n (array([-2.78366586,  2.99211541]), 0.0),\n (array([0.73436391, 5.03725437]), 0.0),\n (array([0.51432043, 4.62733684]), 0.0),\n (array([-1.95866665,  2.43008647]), 0.0),\n (array([2.62492001, 0.9501944 ]), 0.0),\n (array([-1.63793622,  2.43329317]), 0.0),\n (array([-2.01606928,  7.48420129]), 0.0),\n (array([-1.22605234,  8.29620146]), 0.0),\n (array([-2.2569867,  7.3020772]), 0.0),\n (array([3.41085289, 0.87230937]), 0.0),\n (array([0.21397908, 4.88542535]), 0.0),\n (array([0.45953467, 5.4498263 ]), 0.0),\n (array([1.67280531, 0.65930057]), 0.0),\n (array([-1.7578319 ,  2.97449321]), 0.0),\n (array([1.61152972, 1.82347242]), 0.0),\n (array([-1.65507124,  8.61416749]), 0.0),\n (array([-1.01861632,  7.81491465]), 0.0),\n (array([-1.74572014,  3.01190457]), 0.0),\n (array([0.43899014, 4.53592883]), 0.0),\n (array([-1.11064012,  2.8221382 ]), 0.0),\n (array([1.89593761, 5.18540259]), 0.0),\n (array([1.8155981 , 1.11969719]), 0.0),\n (array([2.22322228, 0.83877343]), 0.0),\n (array([1.06923853, 4.53068484]), 0.0),\n (array([ 2.29469533, -0.76589199]), 0.0),\n (array([-2.05701103,  7.37851598]), 0.0),\n (array([-1.86849125,  3.07982487]), 0.0),\n (array([-0.92226864,  8.09888579]), 0.0),\n (array([-1.12016775,  7.11031582]), 0.0),\n (array([0.59567682, 4.08614263]), 0.0),\n (array([-1.03540116,  8.20559195]), 0.0),\n (array([0.67047877, 4.04094275]), 0.0),\n (array([0.83685684, 2.13635938]), 0.0),\n (array([0.57279381, 4.08805543]), 0.0),\n (array([-0.4872713 ,  3.32858293]), 0.0),\n (array([0.91433877, 4.55014643]), 0.0),\n (array([-0.51333344,  7.87437368]), 0.0),\n (array([-1.3621942 ,  2.38333321]), 0.0),\n (array([-2.17851338,  8.08585131]), 0.0),\n (array([-1.38181918,  7.28761248]), 0.0),\n (array([2.36790645, 0.55219088]), 0.0),\n (array([-0.04749204,  5.47425256]), 0.0),\n (array([ 2.95195825, -0.34432736]), 0.0),\n (array([0.36947866, 7.79110522]), 0.0),\n (array([-1.45672617,  7.48669893]), 0.0),\n (array([-1.37998039,  7.18503804]), 0.0),\n (array([-1.68568257,  7.95339446]), 0.0),\n (array([-1.13121396,  6.7665223 ]), 0.0),\n (array([-0.96920095,  3.26721702]), 0.0),\n (array([1.98894313, 1.50976729]), 0.0),\n (array([ 2.43040639, -0.06357093]), 0.0),\n (array([-1.73896306,  1.94799775]), 0.0),\n (array([-2.15968109,  3.41003096]), 0.0),\n (array([-0.88579837,  2.64585078]), 0.0),\n (array([1.27135141, 1.89254207]), 0.0),\n (array([-1.73163168,  7.16447286]), 0.0),\n (array([1.00372519, 4.19147702]), 0.0),\n (array([-1.53631328,  3.01443916]), 0.0),\n (array([-2.5457675 ,  3.15025055]), 0.0),\n (array([-1.99648151,  2.85164868]), 0.0),\n (array([-1.80701134,  2.06773859]), 0.0),\n (array([1.83375842, 0.75403615]), 0.0),\n (array([-1.93960658,  2.18943582]), 0.0),\n (array([-1.07768797,  8.88106128]), 0.0),\n (array([-0.71109961,  8.66043846]), 0.0),\n (array([1.06269622, 5.17635143]), 0.0),\n (array([-0.64695678,  3.42941343]), 0.0),\n (array([2.40615694, 4.87047502]), 0.0),\n (array([0.72809869, 3.85531444]), 0.0),\n (array([2.60778282, 1.08890025]), 0.0),\n (array([0.42857674, 4.9739971 ]), 0.0),\n (array([0.57167048, 4.32288566]), 0.0),\n (array([-1.12867566,  7.80509789]), 0.0),\n (array([-1.86621694,  7.625494  ]), 0.0),\n (array([1.78194802, 0.90815116]), 0.0),\n (array([1.08272576, 4.06271877]), 0.0),\n (array([-1.7640414 ,  2.22222995]), 0.0),\n (array([0.45379179, 3.95647753]), 0.0),\n (array([-0.20493217,  8.43209665]), 0.0),\n (array([-1.8146975 ,  3.29009724]), 0.0),\n (array([-2.04758277,  6.6542852 ]), 0.0),\n (array([-1.80634968,  7.72830656]), 0.0),\n (array([-2.63274574,  2.63109786]), 0.0),\n (array([1.87271752, 4.18069237]), 0.0),\n (array([-1.27567815,  7.96776461]), 0.0),\n (array([-1.14091533,  1.97550822]), 0.0),\n (array([-2.39482483,  3.39806103]), 0.0),\n (array([-0.57109934,  8.13306058]), 0.0),\n (array([0.95936074, 4.56078645]), 0.0),\n (array([-1.02192525,  2.76820711]), 0.0),\n (array([1.25471244, 0.08963316]), 0.0),\n (array([1.41372442, 4.38117707]), 0.0),\n (array([-2.22783649,  6.89479938]), 0.0),\n (array([2.33812285, 3.43116792]), 0.0),\n (array([2.04067185, 0.45484511]), 0.0),\n (array([-1.48368917,  6.00777418]), 0.0),\n (array([1.48170052, 0.69007459]), 0.0),\n (array([-1.8590809 ,  7.78874716]), 0.0),\n (array([-1.47904303,  7.56915836]), 0.0),\n (array([-2.67000792,  8.3538914 ]), 0.0),\n (array([1.9736977 , 1.57979848]), 0.0),\n (array([-1.65104622,  3.44598961]), 0.0),\n (array([-0.89432788,  7.61714473]), 0.0),\n (array([1.57322172, 0.48393379]), 0.0),\n (array([2.7680854 , 1.08782923]), 0.0),\n (array([-1.102985  ,  7.30222786]), 0.0),\n (array([0.52941719, 3.8079242 ]), 0.0),\n (array([-0.97598663,  6.73761577]), 0.0),\n (array([0.18672563, 4.02683656]), 0.0),\n (array([1.75644805, 2.05538289]), 0.0),\n (array([0.43189106, 4.33495456]), 0.0),\n (array([1.01618041, 4.48527047]), 0.0),\n (array([-1.62150422,  4.27191636]), 0.0),\n (array([-1.03819212,  2.95323761]), 0.0),\n (array([0.08151552, 4.56742235]), 0.0),\n (array([0.74387399, 4.12240568]), 0.0),\n (array([1.1641107 , 3.79132988]), 0.0),\n (array([-2.22131717,  2.73050691]), 0.0),\n (array([-0.59044767,  7.69493053]), 0.0),\n (array([0.44359863, 3.11530945]), 0.0),\n (array([-2.09183352,  7.48142543]), 0.0),\n (array([-1.00140436,  2.84881778]), 0.0),\n (array([0.93532512, 5.33179296]), 0.0),\n (array([0.48838231, 3.26801777]), 0.0),\n (array([1.20083098, 0.60167173]), 0.0),\n (array([-1.5499458 ,  9.28293222]), 0.0),\n (array([ 1.86985974, -0.10793862]), 0.0),\n (array([-2.66676007,  7.84766052]), 0.0),\n (array([2.36923352, 0.79473586]), 0.0),\n (array([0.59476243, 4.7096473 ]), 0.0),\n (array([1.21387411, 3.64795042]), 0.0),\n (array([1.19008992, 4.72773123]), 0.0),\n (array([-1.5302755 ,  7.70542113]), 0.0),\n (array([-1.88609638,  2.24834407]), 0.0),\n (array([0.89349964, 1.01093082]), 0.0),\n (array([-1.60712495,  3.56452854]), 0.0),\n (array([2.31102276, 1.30380848]), 0.0),\n (array([-0.55552381,  4.69595848]), 0.0),\n (array([0.81546806, 4.78526116]), 0.0),\n (array([2.60137487, 1.08799459]), 0.0),\n (array([1.86922139, 5.44132083]), 0.0),\n (array([-1.64338755,  7.52691964]), 0.0),\n (array([-1.36999388,  7.76953035]), 0.0),\n (array([-1.10782972,  2.92014479]), 0.0),\n (array([2.04505527, 1.1251547 ]), 0.0),\n (array([-1.4136581 ,  7.40962324]), 0.0)]"
          },
          "metadata": {}
        }
      ],
      "execution_count": 99
    },
    {
      "cell_type": "code",
      "metadata": {
        "cell_id": "00008-8cd8cc4f-e172-4cf6-9351-812d8e1d2085",
        "deepnote_to_be_reexecuted": false,
        "source_hash": "5456dd36",
        "execution_start": 1619528135465,
        "execution_millis": 0,
        "deepnote_cell_type": "code"
      },
      "source": "def select_neighbours(X_train,y_train, k):\n    neigh=[]\n    for i in range(k):\n        neigh.append(get_all_distances(X_train,y_train)[i][0])\n    \n\n\n\n    #sl = sort(dist_list, by: distance)\n\n\n    #return 0 to k elements from list (slice)\n    return neigh\n    ",
      "execution_count": 105,
      "outputs": []
    },
    {
      "cell_type": "code",
      "source": "\nselect_neighbours(X_train,y_train,3)",
      "metadata": {
        "tags": [],
        "cell_id": "00010-cc73f798-98c0-41ff-80ba-ecda56d4f454",
        "deepnote_to_be_reexecuted": false,
        "source_hash": "7c7131e6",
        "execution_start": 1619528149116,
        "execution_millis": 5,
        "deepnote_cell_type": "code"
      },
      "outputs": [
        {
          "output_type": "execute_result",
          "execution_count": 107,
          "data": {
            "text/plain": "[array([1.4949318 , 3.85848832]),\n array([1.6974791 , 0.86612328]),\n array([-1.50372568,  1.9238532 ])]"
          },
          "metadata": {}
        }
      ],
      "execution_count": 107
    },
    {
      "cell_type": "code",
      "source": "# Make a classification prediction with neighbors\ndef predict_classification(train, test_row, num_neighbors):\n\tneighbors = select_neighbours(train, test_row, num_neighbors)\n\toutput_values = [row[-1] for row in neighbors]\n\tprediction = max(set(output_values), key=output_values.count)\n\treturn prediction\n ",
      "metadata": {
        "tags": [],
        "cell_id": "00011-0626394e-fbc9-4746-88ae-f60a56132cae",
        "deepnote_to_be_reexecuted": false,
        "source_hash": "3efda3dc",
        "execution_start": 1619528156176,
        "execution_millis": 6,
        "deepnote_cell_type": "code"
      },
      "outputs": [
        {
          "name": "stdout",
          "text": "Expected 0, Got 0.\n",
          "output_type": "stream"
        }
      ],
      "execution_count": 108
    },
    {
      "cell_type": "code",
      "metadata": {
        "cell_id": "00009-b183b300-1efb-45cc-b5a9-0f5c8d5f3e7c",
        "deepnote_to_be_reexecuted": false,
        "source_hash": "f4d497e9",
        "execution_start": 1619528233713,
        "execution_millis": 3,
        "deepnote_cell_type": "code"
      },
      "source": "def predict(x_train,y_train,k):\n    neighbors = select_neighbours(x_train,y_train,k)\n    output_values = [row[-1] for row in neighbors]\n    prediction = max(set(output_values), key=output_values.count)\n    return prediction",
      "execution_count": 109,
      "outputs": []
    },
    {
      "cell_type": "code",
      "source": "class KNN():\n    def __init__(self,k):\n        self.k=k\n        #self.X_train=X_train\n        #self.y_train=y_train\n        #self.X_test=X_test\n        #self.y_test=y_test\n    def get_eucledian_distance(v1,v2):\n        distance=0\n        for x in range(len(v1)-1):\n            distance=distance+(v1[x]-v2[x])**2\n        distance=np.sqrt(distance)\n        return distance\n    \n    def predict(self,X_train,y_train):\n        all_distances=[]\n        for x in range(len(X_train)):\n            distance=get_eucledian_distance(X_train[x][:-1],y_train)\n            all_distances.append((X_train[x],distance))\n        all_distances.sort(key=lambda a: a[1])\n\n        neighbors=[]\n        for i in range(self.k):\n            neighbors.append(all_distances[i][0])\n        \n        knn_class={}\n        for i in range(len(neighbors)):\n            result=neighbors[i][-1]\n            if result in knn_class:\n                knn_class[result]+=1\n            else:\n                knn_class[result]=1\n        \n        sorted_knn=sorted(knn_class.items(),key=lambda x:x[1],reverse=True)\n        return sorted_knn\n        #output_values = [row[-1] for row in neighbors]\n        #prediction = max(set(output_values), key=output_values.count)\n        #return prediction\n \n\n\n\n\n",
      "metadata": {
        "tags": [],
        "cell_id": "00013-9e4e80fa-35f2-45d0-8776-ba9586ab6441",
        "deepnote_to_be_reexecuted": false,
        "source_hash": "39378a24",
        "execution_start": 1619530249725,
        "execution_millis": 3,
        "deepnote_cell_type": "code"
      },
      "outputs": [],
      "execution_count": 130
    },
    {
      "cell_type": "code",
      "source": "knn=KNN(5)\nknn.predict(X_train,y_train)",
      "metadata": {
        "tags": [],
        "cell_id": "00014-5eb316f0-7d8a-42b4-8ccd-db00e06b0211",
        "deepnote_to_be_reexecuted": false,
        "source_hash": "45c86cde",
        "execution_start": 1619530250441,
        "execution_millis": 12,
        "deepnote_cell_type": "code"
      },
      "outputs": [
        {
          "output_type": "execute_result",
          "execution_count": 131,
          "data": {
            "text/plain": "[(3.858488315204525, 1),\n (0.866123282176209, 1),\n (1.9238531999399506, 1),\n (1.2629699606232072, 1),\n (1.5454348151600295, 1)]"
          },
          "metadata": {}
        }
      ],
      "execution_count": 131
    },
    {
      "cell_type": "code",
      "metadata": {
        "cell_id": "00010-1d9bd268-fdb8-4f5e-aa18-f837fab2717c",
        "deepnote_cell_type": "code"
      },
      "source": "def KNN function (X_train, X_test, y_train, y_test, k)\n    # given a vector, [2.5, 4.56, 2]\n    # sample X_train : [2.5,4.56] = x1,x2\n    # search with same index: y_train = 2\n    \n    # rember to do it for all X_test vectors\n    # CASE: ONE SINGLE X_train vector:\n    dist_list = []\n    for vector in X_train:\n        # result = my get_distance function\n        dist_list.append(result, index)\n    final_n = select_neighbours(dist_list, k)\n    ypred = predict(final_n, y_train)\n    score... --> using sklearn.metrics\n    or comparing 1 by 1 (ypred - ytest)\n    plot... do it inside in a separate function or outside. \n    \n        ",
      "execution_count": 7,
      "outputs": []
    },
    {
      "cell_type": "code",
      "metadata": {
        "cell_id": "00011-667d1438-6f40-45ba-b572-38d283a0c3d7",
        "deepnote_cell_type": "code"
      },
      "source": "",
      "execution_count": null,
      "outputs": []
    },
    {
      "cell_type": "markdown",
      "source": "<a style='text-decoration:none;line-height:16px;display:flex;color:#5B5B62;padding:10px;justify-content:end;' href='https://deepnote.com?utm_source=created-in-deepnote-cell&projectId=796ba814-f632-4502-b0d7-7e2f8f9e546d' target=\"_blank\">\n<img alt='Created in deepnote.com' style='display:inline;max-height:16px;margin:0px;margin-right:7.5px;' src='data:image/svg+xml;base64,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' > </img>\nCreated in <span style='font-weight:600;margin-left:4px;'>Deepnote</span></a>",
      "metadata": {
        "tags": [],
        "created_in_deepnote_cell": true,
        "deepnote_cell_type": "markdown"
      }
    }
  ],
  "nbformat": 4,
  "nbformat_minor": 4,
  "metadata": {
    "kernelspec": {
      "display_name": "Python 3",
      "language": "python",
      "name": "python3"
    },
    "language_info": {
      "codemirror_mode": {
        "name": "ipython",
        "version": 3
      },
      "file_extension": ".py",
      "mimetype": "text/x-python",
      "name": "python",
      "nbconvert_exporter": "python",
      "pygments_lexer": "ipython3",
      "version": "3.8.5"
    },
    "deepnote_notebook_id": "02f1b94a-45db-4cad-81a9-0dabc0c31368",
    "deepnote": {},
    "deepnote_execution_queue": []
  }
}