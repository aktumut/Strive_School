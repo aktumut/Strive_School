{
  "cells": [
    {
      "cell_type": "markdown",
      "source": "# KNN From Sratch\n\nIn this workbook we will guide you through the steps to implement KNN from scratch. Once this is done you'll implement you solution in a class that is tested with the knn_class_tester notebook.\n\n1. Use the ```make_blobs``` function from SKLearn to make a dataset to test your KNN functions.\n2. Create helper functions. These will be useful when you go to implement your class.\n    - Squaring the difference of two vectors.\n    - Summing the square differences and returning the square root.\n    - Calculating the euclidian distances\n    - An evaluation function to evalaute predictions\n3. Create the KNN predcit function",
      "metadata": {
        "cell_id": "00000-c67d3149-7c19-4ae7-8a5b-a201668d09a1",
        "deepnote_cell_type": "markdown"
      }
    },
    {
      "cell_type": "code",
      "metadata": {
        "cell_id": "00001-20db0b53-cc92-458f-9e4f-2eae969aa52a",
        "deepnote_to_be_reexecuted": false,
        "source_hash": "120807c3",
        "execution_start": 1619593311271,
        "execution_millis": 2,
        "deepnote_cell_type": "code"
      },
      "source": "#import libraries\nimport numpy as np\nfrom collections import Counter\nimport matplotlib.pyplot as plt\nfrom sklearn.datasets import make_blobs\nfrom sklearn.model_selection import train_test_split\nimport pandas as pd",
      "execution_count": 17,
      "outputs": []
    },
    {
      "cell_type": "markdown",
      "source": "### Step 1: Create a sample dataset\n1. Use ```make_blobs``` to create a sample set\n2. Start with 300 samples, 4 centres, 0.6 standard deviation, and random state 0\n3. Plot the samples",
      "metadata": {
        "cell_id": "00002-39980b8a-491a-4e35-a7b5-59be5413d547",
        "deepnote_cell_type": "markdown"
      }
    },
    {
      "cell_type": "code",
      "metadata": {
        "cell_id": "00003-bfa01665-0ac8-451a-a7c5-12c5facae32f",
        "deepnote_to_be_reexecuted": false,
        "source_hash": "2ef046a5",
        "execution_start": 1619591585641,
        "execution_millis": 1,
        "deepnote_cell_type": "code"
      },
      "source": "#make the dataset with make_blobs\nX,y = make_blobs(n_samples=300,centers=4,cluster_std=0.6,random_state=0)\n",
      "execution_count": 3,
      "outputs": []
    },
    {
      "cell_type": "markdown",
      "source": "# Step 2: Creating the KNN function\nPseudocode below to help out! Note: **IT IS NOT ACTUAL CODE**",
      "metadata": {
        "cell_id": "00004-1cabeb7b-ff33-462c-a218-827ed7aa3d26",
        "deepnote_cell_type": "markdown"
      }
    },
    {
      "cell_type": "code",
      "metadata": {
        "cell_id": "00005-43c50d99-d55c-4899-a287-9c79d5407c53",
        "deepnote_to_be_reexecuted": false,
        "source_hash": "5238a357",
        "execution_start": 1619592536816,
        "execution_millis": 1,
        "deepnote_cell_type": "code"
      },
      "source": "# define train test split\n#X_train\n#X_test\n#y_train\n#y_test\nX_train, X_test, y_train, y_test = train_test_split(X, y, test_size=0.33)\n\n",
      "execution_count": 7,
      "outputs": []
    },
    {
      "cell_type": "code",
      "metadata": {
        "cell_id": "00006-4d6bd257-cd88-4ce1-8583-53cc686f1ce2",
        "deepnote_to_be_reexecuted": false,
        "source_hash": "c7049fab",
        "execution_start": 1619591834797,
        "execution_millis": 8,
        "deepnote_cell_type": "code"
      },
      "source": "def get_eucledian_distance(v1,v2):\n    distance=0\n    for x in range(len(v1)-1):\n        distance=distance+(v1[x]-v2[x])**2\n    #distance=(v1-v2)**2\n    distance=np.sqrt(distance)\n\n \n\n    return distance\n",
      "execution_count": 6,
      "outputs": [
        {
          "output_type": "execute_result",
          "execution_count": 6,
          "data": {
            "text/plain": "0.8764075801663497"
          },
          "metadata": {}
        }
      ]
    },
    {
      "cell_type": "code",
      "source": "class KNN():\n    def __init__(self,k):\n        self.k=k\n    \n    def get_eucledian_distance(self,v1,v2):\n        distance=0\n        for x in range(len(v1)-1):\n            distance=distance+(v1[x]-v2[x])**2\n\n        distance=np.sqrt(distance)\n\n        return distance\n\n    def predict(self,X_train,X_test,y_train):\n        for i in range(X_test.shape[0]):\n            dist_list=[]\n            for j in range(X_train.shape[0]):\n                eauc_dis=self.get_eucledian_distance(X_test[i],X_train[j])\n                dist_list.append((eauc_dis,y_train[j]))\n    #turning to data frame for sorting\n        y_p=[]\n        dist_df=pd.DataFrame(dist_list,columns=[\"y_hat\",\"y_true\"])\n        dist_df=dist_df.sort_values(\"y_hat\")\n        y_p.append(dist_df[\"y_true\"][:self.k].mode()[0])\n        #return np.array(y_p)\n        return dist_df\n    #def evalute(self,y_test,y_hat):\n    #    y_test-y_hat==np.zeros_like()\n\n",
      "metadata": {
        "tags": [],
        "cell_id": "00008-c22b24e0-edab-4ce2-a739-946dcc8a8019",
        "deepnote_to_be_reexecuted": false,
        "source_hash": "5ff8ed14",
        "execution_start": 1619593628770,
        "execution_millis": 1,
        "deepnote_cell_type": "code"
      },
      "outputs": [],
      "execution_count": 38
    },
    {
      "cell_type": "code",
      "source": "knn=KNN(3)\nknn.predict(X_train,X_test,y_train)\nlen(y_train)",
      "metadata": {
        "tags": [],
        "cell_id": "00008-93559ce8-cab4-4079-92a1-b27af5e1218e",
        "deepnote_to_be_reexecuted": false,
        "source_hash": "93f4d49a",
        "execution_start": 1619593656864,
        "execution_millis": 69,
        "deepnote_cell_type": "code"
      },
      "outputs": [
        {
          "output_type": "execute_result",
          "execution_count": 40,
          "data": {
            "text/plain": "201"
          },
          "metadata": {}
        }
      ],
      "execution_count": 40
    },
    {
      "cell_type": "code",
      "metadata": {
        "cell_id": "00007-e1efe3ca-db13-406f-813c-22c1f8fa4e5c",
        "deepnote_to_be_reexecuted": false,
        "source_hash": "e6c285d8",
        "execution_start": 1619527411917,
        "execution_millis": 2,
        "deepnote_cell_type": "code"
      },
      "source": "def get_all_distances(X_train,y_train):\n    all_distances=[]\n    \n    \n    for x in range(len(X_train)):\n        distance=get_eucledian_distance(X_train[x][:-1],y_train)\n        all_distances.append((X_train[x],distance))\n        #all_distances.append(distance)\n    all_distances.sort(key=lambda a: a[1])\n    return all_distances\n    #all_distances.sort()\n    #return all_distances\n\n    ",
      "execution_count": null,
      "outputs": []
    },
    {
      "cell_type": "code",
      "metadata": {
        "cell_id": "00008-8cd8cc4f-e172-4cf6-9351-812d8e1d2085",
        "deepnote_to_be_reexecuted": false,
        "source_hash": "5456dd36",
        "execution_start": 1619528135465,
        "execution_millis": 0,
        "deepnote_cell_type": "code"
      },
      "source": "def select_neighbours(X_train,y_train, k):\n    neigh=[]\n    for i in range(k):\n        neigh.append(get_all_distances(X_train,y_train)[i][0])\n    \n\n\n\n    #sl = sort(dist_list, by: distance)\n\n\n    #return 0 to k elements from list (slice)\n    return neigh\n    ",
      "execution_count": null,
      "outputs": []
    },
    {
      "cell_type": "code",
      "metadata": {
        "tags": [],
        "cell_id": "00010-cc73f798-98c0-41ff-80ba-ecda56d4f454",
        "deepnote_to_be_reexecuted": false,
        "source_hash": "7c7131e6",
        "execution_start": 1619528149116,
        "execution_millis": 5,
        "deepnote_cell_type": "code"
      },
      "source": "\nselect_neighbours(X_train,y_train,3)",
      "execution_count": null,
      "outputs": [
        {
          "output_type": "execute_result",
          "execution_count": 107,
          "data": {
            "text/plain": "[array([1.4949318 , 3.85848832]),\n array([1.6974791 , 0.86612328]),\n array([-1.50372568,  1.9238532 ])]"
          },
          "metadata": {}
        }
      ]
    },
    {
      "cell_type": "code",
      "metadata": {
        "tags": [],
        "cell_id": "00011-0626394e-fbc9-4746-88ae-f60a56132cae",
        "deepnote_to_be_reexecuted": false,
        "source_hash": "3efda3dc",
        "execution_start": 1619528156176,
        "execution_millis": 6,
        "deepnote_cell_type": "code"
      },
      "source": "# Make a classification prediction with neighbors\ndef predict_classification(train, test_row, num_neighbors):\n\tneighbors = select_neighbours(train, test_row, num_neighbors)\n\toutput_values = [row[-1] for row in neighbors]\n\tprediction = max(set(output_values), key=output_values.count)\n\treturn prediction\n ",
      "execution_count": null,
      "outputs": [
        {
          "name": "stdout",
          "text": "Expected 0, Got 0.\n",
          "output_type": "stream"
        }
      ]
    },
    {
      "cell_type": "code",
      "metadata": {
        "cell_id": "00009-b183b300-1efb-45cc-b5a9-0f5c8d5f3e7c",
        "deepnote_to_be_reexecuted": false,
        "source_hash": "f4d497e9",
        "execution_start": 1619528233713,
        "execution_millis": 3,
        "deepnote_cell_type": "code"
      },
      "source": "def predict(x_train,y_train,k):\n    neighbors = select_neighbours(x_train,y_train,k)\n    output_values = [row[-1] for row in neighbors]\n    prediction = max(set(output_values), key=output_values.count)\n    return prediction",
      "execution_count": null,
      "outputs": []
    },
    {
      "cell_type": "code",
      "metadata": {
        "tags": [],
        "cell_id": "00013-9e4e80fa-35f2-45d0-8776-ba9586ab6441",
        "deepnote_to_be_reexecuted": false,
        "source_hash": "39378a24",
        "execution_start": 1619530249725,
        "execution_millis": 3,
        "deepnote_cell_type": "code"
      },
      "source": "class KNN():\n    def __init__(self,k):\n        self.k=k\n        #self.X_train=X_train\n        #self.y_train=y_train\n        #self.X_test=X_test\n        #self.y_test=y_test\n    def get_eucledian_distance(v1,v2):\n        distance=0\n        for x in range(len(v1)-1):\n            distance=distance+(v1[x]-v2[x])**2\n        distance=np.sqrt(distance)\n        return distance\n    \n    def predict(self,X_train,y_train):\n        all_distances=[]\n        for x in range(len(X_train)):\n            distance=get_eucledian_distance(X_train[x][:-1],y_train)\n            all_distances.append((X_train[x],distance))\n        all_distances.sort(key=lambda a: a[1])\n\n        neighbors=[]\n        for i in range(self.k):\n            neighbors.append(all_distances[i][0])\n        \n        knn_class={}\n        for i in range(len(neighbors)):\n            result=neighbors[i][-1]\n            if result in knn_class:\n                knn_class[result]+=1\n            else:\n                knn_class[result]=1\n        \n        sorted_knn=sorted(knn_class.items(),key=lambda x:x[1],reverse=True)\n        return sorted_knn\n        #output_values = [row[-1] for row in neighbors]\n        #prediction = max(set(output_values), key=output_values.count)\n        #return prediction\n \n\n\n\n\n",
      "execution_count": null,
      "outputs": []
    },
    {
      "cell_type": "code",
      "metadata": {
        "tags": [],
        "cell_id": "00014-5eb316f0-7d8a-42b4-8ccd-db00e06b0211",
        "deepnote_to_be_reexecuted": false,
        "source_hash": "45c86cde",
        "execution_start": 1619530250441,
        "execution_millis": 12,
        "deepnote_cell_type": "code"
      },
      "source": "knn=KNN(5)\nknn.predict(X_train,y_train)",
      "execution_count": null,
      "outputs": [
        {
          "output_type": "execute_result",
          "execution_count": 131,
          "data": {
            "text/plain": "[(3.858488315204525, 1),\n (0.866123282176209, 1),\n (1.9238531999399506, 1),\n (1.2629699606232072, 1),\n (1.5454348151600295, 1)]"
          },
          "metadata": {}
        }
      ]
    },
    {
      "cell_type": "code",
      "metadata": {
        "cell_id": "00010-1d9bd268-fdb8-4f5e-aa18-f837fab2717c",
        "deepnote_cell_type": "code"
      },
      "source": "def KNN function (X_train, X_test, y_train, y_test, k)\n    # given a vector, [2.5, 4.56, 2]\n    # sample X_train : [2.5,4.56] = x1,x2\n    # search with same index: y_train = 2\n    \n    # rember to do it for all X_test vectors\n    # CASE: ONE SINGLE X_train vector:\n    dist_list = []\n    for vector in X_train:\n        # result = my get_distance function\n        dist_list.append(result, index)\n    final_n = select_neighbours(dist_list, k)\n    ypred = predict(final_n, y_train)\n    score... --> using sklearn.metrics\n    or comparing 1 by 1 (ypred - ytest)\n    plot... do it inside in a separate function or outside. \n    \n        ",
      "execution_count": null,
      "outputs": []
    },
    {
      "cell_type": "code",
      "metadata": {
        "cell_id": "00011-667d1438-6f40-45ba-b572-38d283a0c3d7",
        "deepnote_cell_type": "code"
      },
      "source": "",
      "execution_count": null,
      "outputs": []
    },
    {
      "cell_type": "markdown",
      "source": "<a style='text-decoration:none;line-height:16px;display:flex;color:#5B5B62;padding:10px;justify-content:end;' href='https://deepnote.com?utm_source=created-in-deepnote-cell&projectId=796ba814-f632-4502-b0d7-7e2f8f9e546d' target=\"_blank\">\n<img alt='Created in deepnote.com' style='display:inline;max-height:16px;margin:0px;margin-right:7.5px;' src='data:image/svg+xml;base64,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' > </img>\nCreated in <span style='font-weight:600;margin-left:4px;'>Deepnote</span></a>",
      "metadata": {
        "tags": [],
        "created_in_deepnote_cell": true,
        "deepnote_cell_type": "markdown"
      }
    }
  ],
  "nbformat": 4,
  "nbformat_minor": 4,
  "metadata": {
    "kernelspec": {
      "display_name": "Python 3",
      "language": "python",
      "name": "python3"
    },
    "language_info": {
      "codemirror_mode": {
        "name": "ipython",
        "version": 3
      },
      "file_extension": ".py",
      "mimetype": "text/x-python",
      "name": "python",
      "nbconvert_exporter": "python",
      "pygments_lexer": "ipython3",
      "version": "3.8.5"
    },
    "deepnote_notebook_id": "02f1b94a-45db-4cad-81a9-0dabc0c31368",
    "deepnote": {},
    "deepnote_execution_queue": []
  }
}