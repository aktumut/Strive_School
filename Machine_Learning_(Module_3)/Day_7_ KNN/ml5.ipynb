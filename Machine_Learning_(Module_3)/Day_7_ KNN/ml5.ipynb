{
  "cells": [
    {
      "cell_type": "markdown",
      "source": "# KNN From Sratch\n\nIn this workbook we will guide you through the steps to implement KNN from scratch. Once this is done you'll implement you solution in a class that is tested with the knn_class_tester notebook.\n\n1. Use the ```make_blobs``` function from SKLearn to make a dataset to test your KNN functions.\n2. Create helper functions. These will be useful when you go to implement your class.\n    - Squaring the difference of two vectors.\n    - Summing the square differences and returning the square root.\n    - Calculating the euclidian distances\n    - An evaluation function to evalaute predictions\n3. Create the KNN predcit function",
      "metadata": {
        "deletable": false,
        "editable": false,
        "nbgrader": {
          "cell_type": "markdown",
          "checksum": "63d6f1804f81de692ce7ad039671b3ea",
          "grade": false,
          "grade_id": "cell-ac6032ac1aac5b30",
          "locked": true,
          "schema_version": 3,
          "solution": false,
          "task": false
        },
        "cell_id": "00000-ece257bb-f8ce-4564-ad00-325a1e604fdf",
        "deepnote_cell_type": "markdown"
      }
    },
    {
      "cell_type": "code",
      "metadata": {
        "cell_id": "00001-d9cb24a1-1483-45c3-8f4d-803ca3cd68d3",
        "deepnote_to_be_reexecuted": false,
        "source_hash": "42e8edc6",
        "execution_start": 1619530507738,
        "execution_millis": 1142,
        "deepnote_cell_type": "code"
      },
      "source": "#import libraries\nimport numpy as np\nimport pandas as pd\nfrom collections import Counter\nimport matplotlib.pyplot as plt\nfrom sklearn.datasets import make_blobs",
      "outputs": [],
      "execution_count": null
    },
    {
      "cell_type": "markdown",
      "source": "### Step 1: Create a sample dataset\n1. Use ```make_blobs``` to create a sample set\n2. Start with 300 samples, 4 centres, 0.6 standard deviation, and random state 0\n3. Plot the samples",
      "metadata": {
        "deletable": false,
        "editable": false,
        "nbgrader": {
          "cell_type": "markdown",
          "checksum": "d878eb4763d446c22a765184b5eac96f",
          "grade": false,
          "grade_id": "cell-b45a16c602b95cf4",
          "locked": true,
          "schema_version": 3,
          "solution": false,
          "task": false
        },
        "cell_id": "00002-475fa096-9c68-4eeb-b617-9d425b679197",
        "deepnote_cell_type": "markdown"
      }
    },
    {
      "cell_type": "code",
      "metadata": {
        "deletable": false,
        "nbgrader": {
          "cell_type": "code",
          "checksum": "b02a8eb9d62a2c70cb5d650e31541966",
          "grade": false,
          "grade_id": "cell-ebf1859d2b03e66e",
          "locked": false,
          "schema_version": 3,
          "solution": true,
          "task": false
        },
        "cell_id": "00003-f42989af-cd6e-40b6-8372-e0fa5f21900d",
        "deepnote_to_be_reexecuted": false,
        "source_hash": "567d54fe",
        "execution_start": 1619530542455,
        "execution_millis": 3,
        "deepnote_cell_type": "code"
      },
      "source": "# 3 points\n\n#make the dataset with make_blobs use random state 0 use 300 samples\n#And plot it\nX = 0\nY = 0\n# YOUR CODE HERE\nX,Y = make_blobs(n_samples=300,centers=4,cluster_std=0.6,random_state=0)",
      "outputs": [],
      "execution_count": null
    },
    {
      "cell_type": "code",
      "metadata": {
        "deletable": false,
        "editable": false,
        "nbgrader": {
          "cell_type": "code",
          "checksum": "3865a0d991000b519e3f641de5691091",
          "grade": true,
          "grade_id": "cell-a87f746c4fdd507e",
          "locked": true,
          "points": 3,
          "schema_version": 3,
          "solution": false,
          "task": false
        },
        "cell_id": "00004-0c7716f8-26ad-4417-aaa5-f9a4be8b7fbf",
        "deepnote_to_be_reexecuted": false,
        "source_hash": "ebbe7731",
        "execution_start": 1619530543702,
        "execution_millis": 3,
        "deepnote_cell_type": "code"
      },
      "source": "assert X.shape== (300,2)\nassert Y.shape== (300,)",
      "outputs": [],
      "execution_count": null
    },
    {
      "cell_type": "markdown",
      "source": "### Step 2: Create the helper functions\n1. Implement ```square_diff``` that takes in two vectors ```x1``` and ```x2``` and returns their squared difference. Hint: Use ```assert``` to check their lenghts match.\n2. Implement ```root_sum_squared``` that takes in a vector of squaerd differences and returns the square root of the summed elements.\n3. Implement ```euclidean_distances``` that takes in feature and prediction vectors and computes the distances. *Hint:* ```np.linalg.norm```, it should give the same result as the previous 2 combined.\n4. Implement ```evaluate``` that takes in ```y_hat``` and ```y_true``` (classifications of the blobs)and returns the accruacy of the KNN predict function.",
      "metadata": {
        "cell_id": "00005-d3495d50-37bc-40a9-a043-33c5e28ccc21",
        "deepnote_cell_type": "markdown"
      }
    },
    {
      "cell_type": "code",
      "metadata": {
        "deletable": false,
        "nbgrader": {
          "cell_type": "code",
          "checksum": "e6eba58814ca969acded4c8e864a1a31",
          "grade": false,
          "grade_id": "cell-27e834b5fd98d317",
          "locked": false,
          "schema_version": 3,
          "solution": true,
          "task": false
        },
        "cell_id": "00006-c7610369-43b4-4dff-9178-c1de0ea53326",
        "deepnote_to_be_reexecuted": false,
        "source_hash": "d48abc40",
        "execution_start": 1619532030529,
        "execution_millis": 10,
        "deepnote_cell_type": "code"
      },
      "source": "# 3 points\n\n#implement square diff\n# your code here\n\ndef square_diff(v1, v2):\n    distance=0\n    for x in range(len(v1)-1):\n        distance=distance+(v1[x]-v2[x])**2\n    #distance=(v1-v2)**2\n    distance=np.sqrt(distance)\n    return distance\n\ndef square_diff(v1,v2):\n    diff=(v1-v2)**2\n    return diff\nsquare_diff(X[0],X[1])",
      "outputs": [
        {
          "output_type": "execute_result",
          "execution_count": 17,
          "data": {
            "text/plain": "array([ 5.06481748, 27.80731173])"
          },
          "metadata": {}
        }
      ],
      "execution_count": null
    },
    {
      "cell_type": "code",
      "metadata": {
        "deletable": false,
        "editable": false,
        "nbgrader": {
          "cell_type": "code",
          "checksum": "c03c598b4ea1e01a4fcd6f65b64d443b",
          "grade": true,
          "grade_id": "cell-92c19fb2ba085e9b",
          "locked": true,
          "points": 2,
          "schema_version": 3,
          "solution": false,
          "task": false
        },
        "cell_id": "00007-69dd54c2-a336-4020-8a5f-787ead1aefd3",
        "deepnote_to_be_reexecuted": false,
        "source_hash": "2aca9021",
        "execution_start": 1619532031253,
        "execution_millis": 26,
        "deepnote_cell_type": "code"
      },
      "source": "\nassert square_diff(X[0],X[1]).shape==(2,) \n\n\nassert square_diff(X[0],X[0])[0]== 0\nassert square_diff(X[0],X[0])[1]== 0 \n\nassert abs(square_diff(X[0],X[1])[0] - 5.06) < 0.05\nassert abs(square_diff(X[0],X[1])[1]-  27.80) < 0.05\n\n\nassert abs(square_diff(X[0],X[100])[0] - 2.03) < 0.05\nassert abs(square_diff(X[0],X[100])[1]-  41.96) < 0.05\n\n\n\nassert abs(square_diff(X[200],X[256])[0]- 3.30 ) < 0.05\nassert abs(square_diff(X[200],X[256])[1]- 0.09 ) < 0.05",
      "outputs": [],
      "execution_count": null
    },
    {
      "cell_type": "code",
      "metadata": {
        "deletable": false,
        "nbgrader": {
          "cell_type": "code",
          "checksum": "1ad69ff850a7e52cc598244c95c8058b",
          "grade": false,
          "grade_id": "cell-cbf4f1427fcd1d26",
          "locked": false,
          "schema_version": 3,
          "solution": true,
          "task": false
        },
        "cell_id": "00008-5299d08a-0bd9-4cfb-b296-ea9b02f860fd",
        "deepnote_to_be_reexecuted": false,
        "source_hash": "97d9d4f",
        "execution_start": 1619534382164,
        "execution_millis": 1,
        "deepnote_cell_type": "code"
      },
      "source": "# 2 points\n#implement root sum squares\n#your code here\ndef root_sum_squared(v1):\n    # YOUR CODE HERE\n\n    return np.sqrt(np.sum(v1))\n\nroot_sum_squared(square_diff(X[0],X[0]))",
      "outputs": [
        {
          "output_type": "execute_result",
          "execution_count": 36,
          "data": {
            "text/plain": "0.0"
          },
          "metadata": {}
        }
      ],
      "execution_count": null
    },
    {
      "cell_type": "code",
      "metadata": {
        "deletable": false,
        "editable": false,
        "nbgrader": {
          "cell_type": "code",
          "checksum": "c2d640f95ee4aac77d38404414a2d30d",
          "grade": true,
          "grade_id": "cell-01a7f48a8b161c27",
          "locked": true,
          "points": 2,
          "schema_version": 3,
          "solution": false,
          "task": false
        },
        "cell_id": "00009-535ddcc3-43b6-4401-b2fc-3d19a7ec44e4",
        "deepnote_to_be_reexecuted": false,
        "source_hash": "369aaaec",
        "execution_start": 1619534383142,
        "execution_millis": 4,
        "deepnote_cell_type": "code"
      },
      "source": "v1 = root_sum_squared(square_diff(X[0],X[0]))\nv2 = root_sum_squared(square_diff(X[0],X[1]))\nv3 = root_sum_squared(square_diff(X[0],X[100]))\nv4 = root_sum_squared(square_diff(X[200],X[256]))\n\n\nassert v1 == 0\nassert abs( v2 - 5.73) < 0.05\nassert abs( v3 - 6.63) < 0.05\nassert abs( v4 - 1.84) < 0.05",
      "outputs": [],
      "execution_count": null
    },
    {
      "cell_type": "code",
      "metadata": {
        "deletable": false,
        "nbgrader": {
          "cell_type": "code",
          "checksum": "6e215912d25af7afeaddb9acc3ba55ff",
          "grade": false,
          "grade_id": "cell-2131fe84f821d418",
          "locked": false,
          "schema_version": 3,
          "solution": true,
          "task": false
        },
        "cell_id": "00010-516d069a-a9bd-4396-b782-3085dcbd12c1",
        "deepnote_to_be_reexecuted": false,
        "source_hash": "c34764d9",
        "execution_start": 1619534362049,
        "execution_millis": 17,
        "deepnote_cell_type": "code"
      },
      "source": "# YOUR CODE HERE\ndef euclidean_distances(v1,v2):\n    return np.sqrt(np.sum((v1-v2)**2))\neuclidean_distances(X[0],X[1])",
      "outputs": [
        {
          "output_type": "execute_result",
          "execution_count": 34,
          "data": {
            "text/plain": "5.733422120244678"
          },
          "metadata": {}
        }
      ],
      "execution_count": null
    },
    {
      "cell_type": "code",
      "metadata": {
        "deletable": false,
        "editable": false,
        "nbgrader": {
          "cell_type": "code",
          "checksum": "ebf63729157400ae7a26c7ded48a3969",
          "grade": true,
          "grade_id": "cell-f7fd592ea2ab1636",
          "locked": true,
          "points": 1,
          "schema_version": 3,
          "solution": false,
          "task": false
        },
        "cell_id": "00011-75562208-2fab-4149-adf8-4db7dfc48bb1",
        "deepnote_to_be_reexecuted": false,
        "source_hash": "fb8941d",
        "execution_start": 1619534364486,
        "execution_millis": 2,
        "deepnote_cell_type": "code"
      },
      "source": "v1 = euclidean_distances(X[0],X[0])\nv2 = euclidean_distances(X[0],X[1])\nv3 = euclidean_distances(X[0],X[100])\nv4 = euclidean_distances(X[200],X[256])\n\n\nassert v1 == 0\nassert abs( v2 - 5.73) < 0.05\nassert abs( v3 - 6.63) < 0.05\nassert abs( v4 - 1.84) < 0.05",
      "outputs": [],
      "execution_count": null
    },
    {
      "cell_type": "code",
      "metadata": {
        "deletable": false,
        "nbgrader": {
          "cell_type": "code",
          "checksum": "45a9daafc6149b7bbfbee2d14d5197b8",
          "grade": false,
          "grade_id": "cell-bc494e2f78037311",
          "locked": false,
          "schema_version": 3,
          "solution": true,
          "task": false
        },
        "cell_id": "00012-710fbf37-2e82-4000-b7f1-0bb2543265fb",
        "deepnote_cell_type": "code"
      },
      "source": "# 3 points\n\n#implement the evaluate function RETURN THE A VALUE BETWEEN 0 AND 1\n#your code here\n#This cell will be evaluated later on\ndef evaluate(y, y_p):\n    # YOUR CODE HERE\n    \n    raise NotImplementedError()",
      "execution_count": null,
      "outputs": []
    },
    {
      "cell_type": "code",
      "metadata": {
        "deletable": false,
        "editable": false,
        "nbgrader": {
          "cell_type": "code",
          "checksum": "54139e567c40bfba6f52f91a27f1017e",
          "grade": true,
          "grade_id": "cell-3a26a89ec63b9f03",
          "locked": true,
          "points": 3,
          "schema_version": 3,
          "solution": false,
          "task": false
        },
        "cell_id": "00013-8801a2ea-6ac7-4da9-9f2c-25744f68dadc",
        "deepnote_cell_type": "code"
      },
      "source": "a = np.array([1,2,3])\nb = np.array([1,2,3])\nc = np.array([1,2,2])\nd = np.array([2,2,2])\n\nassert evaluate(a,b) == 1\nassert 0.66 <= evaluate(a,c) <= 0.667\nassert 0.33 <= evaluate(a,d) <= 0.34",
      "execution_count": null,
      "outputs": []
    },
    {
      "cell_type": "markdown",
      "source": "### Step 3: Create the KNN prediction function\nThe KNN prediction function as the following steps\n1. For each row in ```X``` calcuate the euclidian distance of each row to the target vector.\n2. Combine the distances array with the target classifers array y.\n3. Sort the array and select the k lowest pairs and get the categorical values of the k nearest and put in a list\n4. Count the highest votes and update the highest voted class to y_hat",
      "metadata": {
        "deletable": false,
        "editable": false,
        "nbgrader": {
          "cell_type": "markdown",
          "checksum": "0c7b921f900acb9e13981541b544616f",
          "grade": false,
          "grade_id": "cell-fb8ff2ee616969be",
          "locked": true,
          "schema_version": 3,
          "solution": false,
          "task": false
        },
        "cell_id": "00014-58ea66f6-d6d1-44d0-bd55-4d25e02de3c8",
        "deepnote_cell_type": "markdown"
      }
    },
    {
      "cell_type": "code",
      "metadata": {
        "deletable": false,
        "nbgrader": {
          "cell_type": "code",
          "checksum": "383730d5a3683d9597e56b7502aca3b7",
          "grade": false,
          "grade_id": "cell-7ba0bb14b977e199",
          "locked": false,
          "schema_version": 3,
          "solution": true,
          "task": false
        },
        "cell_id": "00015-a582c3d8-10e1-4d39-8eb6-7aa3591ccac6",
        "deepnote_cell_type": "code"
      },
      "source": "# 10 points\n#Implement the KNN function that predicts the class for the test values using the train values\n#your code here\n#OUTPUT MUST BE A NP ARRAY\n\n\ndef predict(x_test, x_true, y_true, k= 5):\n    # YOUR CODE HERE\n    raise NotImplementedError()\n",
      "execution_count": null,
      "outputs": []
    },
    {
      "cell_type": "code",
      "metadata": {
        "deletable": false,
        "nbgrader": {
          "cell_type": "code",
          "checksum": "e0bc1e588197bcba74522596620eb3d8",
          "grade": false,
          "grade_id": "cell-a1e79c56a53904bb",
          "locked": false,
          "schema_version": 3,
          "solution": true,
          "task": false
        },
        "cell_id": "00016-83807a1d-1fca-43dc-a647-1d04f0ef6d40",
        "deepnote_cell_type": "code"
      },
      "source": "#1 point\nfrom sklearn.model_selection import train_test_split\n#tested with random state 0\n#create the train test split test_size 0.2\nx_train, x_test, y_train, y_test = 0,0,0,0\n# YOUR CODE HERE\nraise NotImplementedError()",
      "execution_count": null,
      "outputs": []
    },
    {
      "cell_type": "code",
      "metadata": {
        "deletable": false,
        "editable": false,
        "nbgrader": {
          "cell_type": "code",
          "checksum": "2366e72e477e0b2192eb055b8d29183c",
          "grade": true,
          "grade_id": "cell-5dfe5f051e3312b3",
          "locked": true,
          "points": 1,
          "schema_version": 3,
          "solution": false,
          "task": false
        },
        "cell_id": "00017-af585963-41f3-4677-8bc8-2ac16378ca4c",
        "deepnote_cell_type": "code"
      },
      "source": "assert x_train.shape == (240,2)\nassert x_test.shape == (60,2)\nassert y_train.shape == (240,)\nassert y_test.shape == (60,)",
      "execution_count": null,
      "outputs": []
    },
    {
      "cell_type": "code",
      "metadata": {
        "deletable": false,
        "editable": false,
        "nbgrader": {
          "cell_type": "code",
          "checksum": "d709e28a5459a0a1f24d3772e2b4a44f",
          "grade": true,
          "grade_id": "cell-5b526707d4daab2c",
          "locked": true,
          "points": 10,
          "schema_version": 3,
          "solution": false,
          "task": false
        },
        "tags": [],
        "cell_id": "00018-f86b6300-ab58-43ac-afb2-a6391c6c5e6f",
        "deepnote_cell_type": "code"
      },
      "source": "predictions = predict(x_test,x_train, y_train, k=3)\nassert predictions.shape == (60,)\nassert evaluate(predictions, y_test) >= 0.95\n",
      "execution_count": null,
      "outputs": []
    },
    {
      "cell_type": "code",
      "metadata": {
        "deletable": false,
        "editable": false,
        "nbgrader": {
          "cell_type": "code",
          "checksum": "39a7ef4238c63c31b6d185bcc0b678bb",
          "grade": true,
          "grade_id": "cell-3339f6c2bcee7370",
          "locked": true,
          "points": 1,
          "schema_version": 3,
          "solution": false,
          "task": false
        },
        "cell_id": "00019-f9336bc5-12aa-4bd8-9c6a-d29e5e76c1c6",
        "deepnote_cell_type": "code"
      },
      "source": "# Extra point\npredictions = predict(x_test,x_train, y_train, k=2)\nassert predictions.shape == (60,)\nassert evaluate(predictions, y_test) >= 0.95\n",
      "execution_count": null,
      "outputs": []
    },
    {
      "cell_type": "code",
      "metadata": {
        "cell_id": "00020-7d92b94b-0159-4c0a-baa6-3ccc98f9a5e0",
        "deepnote_cell_type": "code"
      },
      "source": "print('Accuracy {:0.2f}%'.format( evaluate(predictions, y_test)*100 ))",
      "execution_count": null,
      "outputs": []
    },
    {
      "cell_type": "code",
      "metadata": {
        "cell_id": "00021-1bcd0371-abef-425a-8368-55d8ef1fbaa5",
        "deepnote_cell_type": "code"
      },
      "source": "",
      "execution_count": null,
      "outputs": []
    },
    {
      "cell_type": "markdown",
      "source": "<a style='text-decoration:none;line-height:16px;display:flex;color:#5B5B62;padding:10px;justify-content:end;' href='https://deepnote.com?utm_source=created-in-deepnote-cell&projectId=796ba814-f632-4502-b0d7-7e2f8f9e546d' target=\"_blank\">\n<img alt='Created in deepnote.com' style='display:inline;max-height:16px;margin:0px;margin-right:7.5px;' src='data:image/svg+xml;base64,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' > </img>\nCreated in <span style='font-weight:600;margin-left:4px;'>Deepnote</span></a>",
      "metadata": {
        "tags": [],
        "created_in_deepnote_cell": true,
        "deepnote_cell_type": "markdown"
      }
    }
  ],
  "nbformat": 4,
  "nbformat_minor": 2,
  "metadata": {
    "kernelspec": {
      "display_name": "Python 3",
      "language": "python",
      "name": "python3"
    },
    "language_info": {
      "codemirror_mode": {
        "name": "ipython",
        "version": 3
      },
      "file_extension": ".py",
      "mimetype": "text/x-python",
      "name": "python",
      "nbconvert_exporter": "python",
      "pygments_lexer": "ipython3",
      "version": "3.7.10"
    },
    "deepnote_notebook_id": "30c95043-0195-449b-8c37-bfa39385a98c",
    "deepnote": {},
    "deepnote_execution_queue": []
  }
}