{
 "cells": [
  {
   "cell_type": "markdown",
   "source": "<div style=\"background:#222222; color:#ffffff; padding:20px\">\n    <h2 align=\"center\">Deep Learning Fundamentals</h2>\n    <h2 align=\"center\" style=\"color:#01ff84\">Multiclass Classification: MNIST</h2>\n<div>",
   "metadata": {
    "id": "XCA_RJ0rSgfV",
    "cell_id": "00000-9f4b711a-8bf8-4b9a-98ff-ec96523e2ece",
    "deepnote_cell_type": "markdown"
   }
  },
  {
   "cell_type": "markdown",
   "source": "## Imports",
   "metadata": {
    "id": "HNE7PI_XSgfW",
    "cell_id": "00001-15a30a5d-aea6-4dc7-97da-9965129e5977",
    "deepnote_cell_type": "markdown"
   }
  },
  {
   "cell_type": "code",
   "metadata": {
    "ExecuteTime": {
     "end_time": "2021-05-26T22:26:36.081105Z",
     "start_time": "2021-05-26T22:26:35.040138Z"
    },
    "id": "O98o-IqTSgfX",
    "cell_id": "00002-07778d1e-a330-42b1-986c-f7342746e069",
    "deepnote_to_be_reexecuted": false,
    "source_hash": "5447e80a",
    "execution_start": 1622200602774,
    "execution_millis": 15,
    "deepnote_cell_type": "code"
   },
   "source": "%matplotlib inline\n%config InlineBackend.figure_format = 'retina'\n\nfrom collections import OrderedDict\n\nimport numpy as np\nimport matplotlib.pyplot as plt\nimport time\n\nimport torch\nfrom torch import nn\nfrom torch import optim\nimport torch.nn.functional as F\n\nfrom torchvision import datasets, transforms",
   "execution_count": 2,
   "outputs": []
  },
  {
   "cell_type": "markdown",
   "source": "## Auxliary plotting function",
   "metadata": {
    "id": "70r7hhagSgfZ",
    "cell_id": "00003-0872cabf-c24f-48ec-a80b-2cee887f029a",
    "deepnote_cell_type": "markdown"
   }
  },
  {
   "cell_type": "code",
   "metadata": {
    "ExecuteTime": {
     "end_time": "2021-05-26T22:26:37.473177Z",
     "start_time": "2021-05-26T22:26:37.465910Z"
    },
    "id": "a_f23xe-SgfZ",
    "cell_id": "00004-a3f3fdaf-1a32-411a-8bcb-80a1dfd7cdde",
    "deepnote_cell_type": "code"
   },
   "source": "# https://discuss.pytorch.org/t/view-classify-in-module-helper/30279/6\n\ndef view_classify(img, ps):\n\n    ps = ps.data.numpy().squeeze()\n\n    fig, (ax1, ax2) = plt.subplots(figsize=(6,9), ncols=2)\n    ax1.imshow(img.resize_(1, 28, 28).numpy().squeeze())\n    ax1.axis('off')\n    ax2.barh(np.arange(10), ps)\n    ax2.set_aspect(0.1)\n    ax2.set_yticks(np.arange(10))\n    ax2.set_yticklabels(np.arange(10))\n    ax2.set_title('Class Probability')\n    ax2.set_xlim(0, 1.1)",
   "execution_count": null,
   "outputs": []
  },
  {
   "cell_type": "markdown",
   "source": "# Load MNIST Dataset\nFirst up, we need to get our dataset. This is provided through the `torchvision` package. The code below will download the MNIST dataset, then create training and test datasets for us. Don't worry too much about the details here, you'll learn more about this later.",
   "metadata": {
    "id": "_CYi-wPDSgfa",
    "cell_id": "00005-0bc50bb3-0070-4190-9122-ec5f465a0a1a",
    "deepnote_cell_type": "markdown"
   }
  },
  {
   "cell_type": "code",
   "metadata": {
    "ExecuteTime": {
     "end_time": "2021-05-26T22:26:38.402766Z",
     "start_time": "2021-05-26T22:26:38.298968Z"
    },
    "colab": {
     "base_uri": "https://localhost:8080/",
     "height": 568,
     "referenced_widgets": [
      "77690c69c99e457dbf266d65648e306c",
      "3f3521b959214aad97caa966ee423942",
      "36321b8840d040bdacb3d805f1acd1a5",
      "90300744eae144afa50725fdaad0fd7a",
      "c0643b93eadc4d26922b86b3aff5369b",
      "738a62072b2d49ba9a84d3aac38a1c6d",
      "87587163ca024cc2bb37a1871c2bffab",
      "49c283f48f8d460bb9c918b8024ce0a2",
      "dc07ac6a0cd1417eb61e091cc86fc6ce",
      "73edf9765dd7464eba3accc50169ff9b",
      "e340400112de47bb856f04233cf53f9e",
      "c8d25f97118c42cfac0a07acacd6ad37",
      "b1b59f1dc4d74aff99345ba9af0df9da",
      "45161762c6f64ec289dffae23689d177",
      "2da8efb8f1d0499797702f2e97a94feb",
      "f09f20022d3d43e89fdcfb32f299074b",
      "12567e7e2cbc4fbdb8d5327791d94e8f",
      "c40224316a714da39b1d603890862735",
      "7ecb7f0754424d56aecf69c4cfbf3844",
      "8ec599e91f054becbe7508d4c423d479",
      "99addfac4ea94472989ce1cfa1fc08e4",
      "c0e2d7fa2b764ac59ad161cbc36e5f85",
      "d3b940d1baa44a5bbf94565f3e610daa",
      "a9b69991557d4b82a92bdc6faf030107",
      "27548967b37444ffa44614f4a26821c8",
      "1e2239df64a94f12a83c9b0d6834d1c4",
      "5574a5d47b0c43e7864d19d0262df905",
      "371c02e6e029437d8e0ef266392b3a88",
      "64811ff9eb64411cb2f48bf3ebf08f19",
      "96fc9b92af964d53910448f1369c1ecf",
      "583cf549a55e485a8741743796a39b24",
      "1ec730d187aa4887abe17397dc96461e"
     ]
    },
    "id": "UbX-eHeRSgfa",
    "outputId": "15d9b92c-13ee-4b05-d244-e964e9745cfc",
    "cell_id": "00006-e120ef2a-fba0-4bde-a944-e42c4203d8c2",
    "deepnote_cell_type": "code"
   },
   "source": "# Define a transform to normalize the data (Preprocessing)\ntransform = transforms.Compose([transforms.ToTensor(), transforms.Normalize((0.5), (0.5)) ])\n\n# Download and load the training data\ntrainset    = datasets.MNIST('MNIST_data/', download=True, train=True, transform=transform)\ntrainloader = torch.utils.data.DataLoader(trainset, batch_size=16, shuffle=True)\n\n# Download and load the test data\ntestset    = datasets.MNIST('MNIST_data/', download=True, train=False, transform=transform)\ntestloader = torch.utils.data.DataLoader(testset, batch_size=16, shuffle=True)",
   "execution_count": null,
   "outputs": [
    {
     "output_type": "stream",
     "text": "Downloading http://yann.lecun.com/exdb/mnist/train-images-idx3-ubyte.gz\nDownloading http://yann.lecun.com/exdb/mnist/train-images-idx3-ubyte.gz to MNIST_data/MNIST/raw/train-images-idx3-ubyte.gz\n",
     "name": "stdout"
    },
    {
     "output_type": "display_data",
     "data": {
      "application/vnd.jupyter.widget-view+json": {
       "model_id": "77690c69c99e457dbf266d65648e306c",
       "version_major": 2,
       "version_minor": 0
      },
      "text/plain": "HBox(children=(FloatProgress(value=0.0, max=9912422.0), HTML(value='')))"
     },
     "metadata": {
      "tags": []
     }
    },
    {
     "output_type": "stream",
     "text": "\nExtracting MNIST_data/MNIST/raw/train-images-idx3-ubyte.gz to MNIST_data/MNIST/raw\n\nDownloading http://yann.lecun.com/exdb/mnist/train-labels-idx1-ubyte.gz\nDownloading http://yann.lecun.com/exdb/mnist/train-labels-idx1-ubyte.gz to MNIST_data/MNIST/raw/train-labels-idx1-ubyte.gz\n",
     "name": "stdout"
    },
    {
     "output_type": "display_data",
     "data": {
      "application/vnd.jupyter.widget-view+json": {
       "model_id": "dc07ac6a0cd1417eb61e091cc86fc6ce",
       "version_minor": 0,
       "version_major": 2
      },
      "text/plain": "HBox(children=(FloatProgress(value=0.0, max=28881.0), HTML(value='')))"
     },
     "metadata": {
      "tags": []
     }
    },
    {
     "output_type": "stream",
     "text": "\nExtracting MNIST_data/MNIST/raw/train-labels-idx1-ubyte.gz to MNIST_data/MNIST/raw\n\nDownloading http://yann.lecun.com/exdb/mnist/t10k-images-idx3-ubyte.gz\nDownloading http://yann.lecun.com/exdb/mnist/t10k-images-idx3-ubyte.gz to MNIST_data/MNIST/raw/t10k-images-idx3-ubyte.gz\n",
     "name": "stdout"
    },
    {
     "output_type": "display_data",
     "data": {
      "application/vnd.jupyter.widget-view+json": {
       "model_id": "12567e7e2cbc4fbdb8d5327791d94e8f",
       "version_minor": 0,
       "version_major": 2
      },
      "text/plain": "HBox(children=(FloatProgress(value=0.0, max=1648877.0), HTML(value='')))"
     },
     "metadata": {
      "tags": []
     }
    },
    {
     "output_type": "stream",
     "text": "\nExtracting MNIST_data/MNIST/raw/t10k-images-idx3-ubyte.gz to MNIST_data/MNIST/raw\n\nDownloading http://yann.lecun.com/exdb/mnist/t10k-labels-idx1-ubyte.gz\nDownloading http://yann.lecun.com/exdb/mnist/t10k-labels-idx1-ubyte.gz to MNIST_data/MNIST/raw/t10k-labels-idx1-ubyte.gz\n",
     "name": "stdout"
    },
    {
     "output_type": "display_data",
     "data": {
      "application/vnd.jupyter.widget-view+json": {
       "model_id": "27548967b37444ffa44614f4a26821c8",
       "version_minor": 0,
       "version_major": 2
      },
      "text/plain": "HBox(children=(FloatProgress(value=0.0, max=4542.0), HTML(value='')))"
     },
     "metadata": {
      "tags": []
     }
    },
    {
     "output_type": "stream",
     "text": "\nExtracting MNIST_data/MNIST/raw/t10k-labels-idx1-ubyte.gz to MNIST_data/MNIST/raw\n\nProcessing...\n",
     "name": "stdout"
    },
    {
     "output_type": "stream",
     "text": "/usr/local/lib/python3.7/dist-packages/torchvision/datasets/mnist.py:502: UserWarning: The given NumPy array is not writeable, and PyTorch does not support non-writeable tensors. This means you can write to the underlying (supposedly non-writeable) NumPy array using the tensor. You may want to copy the array to protect its data or make it writeable before converting it to a tensor. This type of warning will be suppressed for the rest of this program. (Triggered internally at  /pytorch/torch/csrc/utils/tensor_numpy.cpp:143.)\n  return torch.from_numpy(parsed.astype(m[2], copy=False)).view(*s)\n",
     "name": "stderr"
    },
    {
     "output_type": "stream",
     "text": "Done!\n",
     "name": "stdout"
    }
   ]
  },
  {
   "cell_type": "code",
   "metadata": {
    "ExecuteTime": {
     "end_time": "2021-05-26T22:26:38.632988Z",
     "start_time": "2021-05-26T22:26:38.477558Z"
    },
    "id": "WOQM5i7dSgfb",
    "cell_id": "00007-09c9266e-26ca-4356-b45d-8ffb9a84b347",
    "deepnote_cell_type": "code"
   },
   "source": "dataiter = iter(trainloader)\nimages, labels = dataiter.next()",
   "execution_count": null,
   "outputs": []
  },
  {
   "cell_type": "markdown",
   "source": "We have the training data loaded into `trainloader` and we make that an iterator with `iter(trainloader)`. We'd use this to loop through the dataset for training, but here I'm just grabbing the first batch so we can check out the data. We can see below that `images` is just a tensor with size (64, 1, 28, 28). So, 64 images per batch, 1 color channel, and 28x28 images.",
   "metadata": {
    "id": "IntnbIoVSgfb",
    "cell_id": "00008-0bdbca0a-f0e8-4dcb-bb8f-353bb21329eb",
    "deepnote_cell_type": "markdown"
   }
  },
  {
   "cell_type": "code",
   "metadata": {
    "ExecuteTime": {
     "end_time": "2021-05-26T22:26:39.407000Z",
     "start_time": "2021-05-26T22:26:39.265256Z"
    },
    "colab": {
     "base_uri": "https://localhost:8080/",
     "height": 265
    },
    "id": "o9SHntQASgfb",
    "outputId": "bf42c76a-fe9d-4ccc-887a-597ff0846878",
    "cell_id": "00009-e0031a09-0c3b-4eaf-970d-0b35d46d159a",
    "deepnote_cell_type": "code"
   },
   "source": "plt.imshow(images[1].numpy().squeeze(), cmap='Greys_r');",
   "execution_count": null,
   "outputs": [
    {
     "output_type": "display_data",
     "data": {
      "image/png": "[encoded data removed]",
      "text/plain": "<Figure size 432x288 with 1 Axes>"
     },
     "metadata": {
      "tags": [],
      "image/png": {
       "width": 503,
       "height": 496
      },
      "needs_background": "light"
     }
    }
   ]
  },
  {
   "cell_type": "markdown",
   "source": "## Building networks with PyTorch\n\nHere I'll use PyTorch to build a simple feedfoward network to classify the MNIST images. That is, the network will receive a digit image as input and predict the digit in the image.\n\n<img src=\"assets/mlp_mnist.png\" width=600px>\n\nTo build a neural network with PyTorch, you use the `torch.nn` module. The network itself is a class inheriting from `torch.nn.Module`. You define each of the operations separately, like `nn.Linear(784, 128)` for a fully connected linear layer with 784 inputs and 128 units.\n\nThe class needs to include a `forward` method that implements the forward pass through the network. In this method, you pass some input tensor `x` through each of the operations you defined earlier. The `torch.nn` module also has functional equivalents for things like ReLUs in `torch.nn.functional`. This module is usually imported as `F`. Then to use a ReLU activation on some layer (which is just a tensor), you'd do `F.relu(x)`. Below are a few different commonly used activation functions.\n\n<img src=\"assets/activation.png\" width=700px>\n\nSo, for this network, I'll build it with three fully connected layers, then a softmax output for predicting classes. The softmax function is similar to the sigmoid in that it squashes inputs between 0 and 1, but it's also normalized so that all the values sum to one like a proper probability distribution.",
   "metadata": {
    "id": "Dd-V4yjTSgfc",
    "cell_id": "00010-64ad1186-8163-421d-9077-2c5d41c093b0",
    "deepnote_cell_type": "markdown"
   }
  },
  {
   "cell_type": "code",
   "metadata": {
    "ExecuteTime": {
     "end_time": "2021-05-26T22:26:39.961531Z",
     "start_time": "2021-05-26T22:26:39.946776Z"
    },
    "colab": {
     "base_uri": "https://localhost:8080/"
    },
    "id": "IoNwUDx1Sgfc",
    "outputId": "afade4ed-30d5-43fb-ea32-045c41600725",
    "cell_id": "00011-5c6a885a-4bef-4a73-ab32-0987a5f9f9ff",
    "deepnote_cell_type": "code"
   },
   "source": "class Network(nn.Module):\n    \n    # Defining the layers, 128, 64, 10 units each\n    def __init__(self):\n        super().__init__()\n        self.fc1 = nn.Linear(784, 32)\n        self.fc2 = nn.Linear(32, 16)\n        self.fc3 = nn.Linear(16, 10)\n        \n    # Forward pass through the network, returns the output logits\n    def forward(self, x):\n        x = self.fc1(x)\n        x = F.relu(x)\n        x = self.fc2(x)\n        x = F.relu(x)\n        x = self.fc3(x)\n        x = F.softmax(x, dim=1)\n        return x\n\nmodel = Network()\nmodel",
   "execution_count": null,
   "outputs": [
    {
     "output_type": "execute_result",
     "data": {
      "text/plain": "Network(\n  (fc1): Linear(in_features=784, out_features=32, bias=True)\n  (fc2): Linear(in_features=32, out_features=16, bias=True)\n  (fc3): Linear(in_features=16, out_features=10, bias=True)\n)"
     },
     "metadata": {
      "tags": []
     },
     "execution_count": 7
    }
   ]
  },
  {
   "cell_type": "markdown",
   "source": "Why the input features are 784? Because the input images have size 28 pixels x 28 pixels for a total of 784 features. Since a Multilayer perceptron accepts only flatten inputs, we need to flatten a 28x28 grid into a 784 array.",
   "metadata": {
    "id": "KFI-oOy9Sgfd",
    "cell_id": "00012-b81d05fe-3f4f-4dfc-97e2-498e50b428d7",
    "deepnote_cell_type": "markdown"
   }
  },
  {
   "cell_type": "markdown",
   "source": "### Sequential API\nPyTorch provides a convenient way to build networks like this where a tensor is passed sequentially through operations, `nn.Sequential` ([documentation](https://pytorch.org/docs/master/nn.html#torch.nn.Sequential)). Using this to build the equivalent network:",
   "metadata": {
    "id": "blxBXXRgSgfd",
    "cell_id": "00013-09b6d453-a3d0-41b0-925d-69b2725f804c",
    "deepnote_cell_type": "markdown"
   }
  },
  {
   "cell_type": "code",
   "metadata": {
    "ExecuteTime": {
     "end_time": "2021-05-26T22:26:41.213448Z",
     "start_time": "2021-05-26T22:26:41.205216Z"
    },
    "colab": {
     "base_uri": "https://localhost:8080/"
    },
    "id": "05VsSqI3Sgfe",
    "outputId": "beddfb6c-2595-477a-a5e4-51547650ad60",
    "cell_id": "00014-faf0acb6-cb5a-44f6-ac25-5f11b15a42df",
    "deepnote_cell_type": "code"
   },
   "source": "# Hyperparameters for our network\ninput_size   = 784\nhidden_sizes = [4, 4]\noutput_size   = 10\n\n# Build a feed-forward network\nmodel = nn.Sequential(nn.Linear(input_size, hidden_sizes[0]),\n                      nn.ReLU(),\n                      nn.Linear(hidden_sizes[0], hidden_sizes[1]),\n                      nn.ReLU(),\n                      nn.Linear(hidden_sizes[1], output_size),\n                      nn.Softmax(dim=1))\nprint(model)",
   "execution_count": null,
   "outputs": [
    {
     "output_type": "stream",
     "text": "Sequential(\n  (0): Linear(in_features=784, out_features=4, bias=True)\n  (1): ReLU()\n  (2): Linear(in_features=4, out_features=4, bias=True)\n  (3): ReLU()\n  (4): Linear(in_features=4, out_features=10, bias=True)\n  (5): Softmax(dim=1)\n)\n",
     "name": "stdout"
    }
   ]
  },
  {
   "cell_type": "markdown",
   "source": "You can also pass in an `OrderedDict` to name the individual layers and operations. Note that a dictionary keys must be unique, so _each operation must have a different name_.",
   "metadata": {
    "id": "jU-Q2xrkSgfe",
    "cell_id": "00015-4abc03fa-ad4f-45db-bea8-4c240478da75",
    "deepnote_cell_type": "markdown"
   }
  },
  {
   "cell_type": "code",
   "metadata": {
    "ExecuteTime": {
     "end_time": "2021-05-26T22:26:42.300216Z",
     "start_time": "2021-05-26T22:26:42.289009Z"
    },
    "colab": {
     "base_uri": "https://localhost:8080/"
    },
    "id": "j0qQLpUvSgfe",
    "outputId": "f1cfbe59-e92a-4e18-902a-ee1d0b986046",
    "cell_id": "00016-aa5d7133-ba74-49a9-b36f-34f4c79992b2",
    "deepnote_cell_type": "code"
   },
   "source": "model = nn.Sequential(OrderedDict([\n          ('fc1',   nn.Linear(input_size, hidden_sizes[0])),\n          ('relu1', nn.ReLU()),\n          ('fc2',   nn.Linear(hidden_sizes[0], hidden_sizes[1])),\n          ('relu2', nn.ReLU()),\n          ('output', nn.Linear(hidden_sizes[1], output_size)),\n          ('softmax', nn.Softmax(dim=1))]))\nmodel",
   "execution_count": null,
   "outputs": [
    {
     "output_type": "execute_result",
     "data": {
      "text/plain": "Sequential(\n  (fc1): Linear(in_features=784, out_features=4, bias=True)\n  (relu1): ReLU()\n  (fc2): Linear(in_features=4, out_features=4, bias=True)\n  (relu2): ReLU()\n  (output): Linear(in_features=4, out_features=10, bias=True)\n  (softmax): Softmax(dim=1)\n)"
     },
     "metadata": {
      "tags": []
     },
     "execution_count": 9
    }
   ]
  },
  {
   "cell_type": "markdown",
   "source": "### Initializing weights and biases\n\nThe weights and such are automatically initialized for you, but it's possible to customize how they are initialized. The weights and biases are tensors attached to the layer you defined, you can get them with `model.fc1.weight` for instance.",
   "metadata": {
    "id": "Sa9AAFOWSgff",
    "cell_id": "00017-95c0ad4d-a955-40a1-82e9-94eb981a99fb",
    "deepnote_cell_type": "markdown"
   }
  },
  {
   "cell_type": "code",
   "metadata": {
    "ExecuteTime": {
     "end_time": "2021-05-26T22:26:42.972699Z",
     "start_time": "2021-05-26T22:26:42.963913Z"
    },
    "colab": {
     "base_uri": "https://localhost:8080/"
    },
    "id": "FOieZL_USgff",
    "outputId": "4d3d8e59-6c22-479e-9d0f-f976673d2f1d",
    "cell_id": "00018-defbb770-c86e-445d-b88d-4d61904885e8",
    "deepnote_cell_type": "code"
   },
   "source": "print(model.fc1.weight)\nprint(model.fc1.bias)",
   "execution_count": null,
   "outputs": [
    {
     "output_type": "stream",
     "text": "Parameter containing:\ntensor([[ 0.0067,  0.0004, -0.0074,  ..., -0.0022, -0.0092,  0.0088],\n        [-0.0006,  0.0019,  0.0056,  ...,  0.0080,  0.0007,  0.0024],\n        [ 0.0094,  0.0153, -0.0037,  ...,  0.0045,  0.0131, -0.0004],\n        [-0.0103,  0.0049, -0.0255,  ...,  0.0002,  0.0034, -0.0113]],\n       requires_grad=True)\nParameter containing:\ntensor([0., 0., 0., 0.], requires_grad=True)\n",
     "name": "stdout"
    }
   ]
  },
  {
   "cell_type": "markdown",
   "source": "For custom initialization, we want to modify these tensors in place. These are actually autograd *Variables*, so we need to get back the actual tensors with `model.fc1.weight.data`. Once we have the tensors, we can fill them with zeros (for biases) or random normal values.",
   "metadata": {
    "id": "MzEZsfqeSgff",
    "cell_id": "00019-b2837206-ed59-4054-8f6f-d2328b9c7b98",
    "deepnote_cell_type": "markdown"
   }
  },
  {
   "cell_type": "code",
   "metadata": {
    "ExecuteTime": {
     "end_time": "2021-05-26T22:26:43.889729Z",
     "start_time": "2021-05-26T22:26:43.883940Z"
    },
    "colab": {
     "base_uri": "https://localhost:8080/"
    },
    "id": "cHz-w9V6Sgfg",
    "outputId": "3e0fc38c-80e8-45a2-9375-6d002efe4dec",
    "cell_id": "00020-64faf100-960d-41f8-b7f9-a7a8a3e492f1",
    "deepnote_cell_type": "code"
   },
   "source": "# Set biases to all zeros\nmodel.fc1.bias.data.fill_(0)",
   "execution_count": null,
   "outputs": [
    {
     "output_type": "execute_result",
     "data": {
      "text/plain": "tensor([0., 0., 0., 0.])"
     },
     "metadata": {
      "tags": []
     },
     "execution_count": 14
    }
   ]
  },
  {
   "cell_type": "code",
   "metadata": {
    "ExecuteTime": {
     "end_time": "2021-05-26T22:26:44.084097Z",
     "start_time": "2021-05-26T22:26:44.076738Z"
    },
    "colab": {
     "base_uri": "https://localhost:8080/"
    },
    "id": "dd1lc7fnSgfg",
    "outputId": "8c3be9b1-7fa7-45b0-c9eb-a4982d2b432d",
    "cell_id": "00021-5872fc71-231e-4c30-8201-391234a1531b",
    "deepnote_cell_type": "code"
   },
   "source": "# sample from random normal with standard dev = 0.01\nmodel.fc1.weight.data.normal_(std=0.01)",
   "execution_count": null,
   "outputs": [
    {
     "output_type": "execute_result",
     "data": {
      "text/plain": "tensor([[ 0.0145, -0.0017,  0.0118,  ..., -0.0087,  0.0095,  0.0143],\n        [-0.0048,  0.0078, -0.0073,  ..., -0.0050,  0.0119, -0.0055],\n        [ 0.0117,  0.0081, -0.0207,  ..., -0.0021, -0.0025,  0.0015],\n        [ 0.0097,  0.0045, -0.0130,  ...,  0.0028, -0.0054,  0.0028]])"
     },
     "metadata": {
      "tags": []
     },
     "execution_count": 15
    }
   ]
  },
  {
   "cell_type": "markdown",
   "source": "### STEP 1: Forward pass\n\nNow that we have a network, let's see what happens when we pass in an image. This is called the forward pass. We're going to convert the image data into a tensor, then pass it through the operations defined by the network architecture.",
   "metadata": {
    "id": "UmbwcXs0Sgfg",
    "cell_id": "00022-2a145257-713c-49d2-943e-412baac74fc8",
    "deepnote_cell_type": "markdown"
   }
  },
  {
   "cell_type": "code",
   "metadata": {
    "ExecuteTime": {
     "end_time": "2021-05-26T22:26:44.506324Z",
     "start_time": "2021-05-26T22:26:44.491847Z"
    },
    "id": "qVtRKgNsSgfg",
    "cell_id": "00023-1c59eba4-1b5e-4c2a-ad5b-08678692c24b",
    "deepnote_cell_type": "code"
   },
   "source": "# Grab some data \ndataiter = iter(trainloader)\nimages, labels = dataiter.next()",
   "execution_count": null,
   "outputs": []
  },
  {
   "cell_type": "code",
   "metadata": {
    "ExecuteTime": {
     "end_time": "2021-05-26T22:26:44.596541Z",
     "start_time": "2021-05-26T22:26:44.594169Z"
    },
    "colab": {
     "base_uri": "https://localhost:8080/"
    },
    "id": "lHHL3H1YSgfh",
    "outputId": "0ccafee0-6304-4e57-da43-f6b9e727391b",
    "cell_id": "00024-b9bb3132-47c0-4259-ac94-0a6966199d16",
    "deepnote_cell_type": "code"
   },
   "source": "images.shape",
   "execution_count": null,
   "outputs": [
    {
     "output_type": "execute_result",
     "data": {
      "text/plain": "torch.Size([16, 1, 28, 28])"
     },
     "metadata": {
      "tags": []
     },
     "execution_count": 18
    }
   ]
  },
  {
   "cell_type": "code",
   "metadata": {
    "ExecuteTime": {
     "end_time": "2021-05-26T22:26:44.851894Z",
     "start_time": "2021-05-26T22:26:44.845888Z"
    },
    "colab": {
     "base_uri": "https://localhost:8080/"
    },
    "id": "FH-fmGjXSgfh",
    "outputId": "f6751f47-26e5-4f92-ea28-8e0d9b7f1030",
    "cell_id": "00025-dd7e9572-97cd-4e3d-a8b6-220c545ce6ca",
    "deepnote_cell_type": "code"
   },
   "source": "model",
   "execution_count": null,
   "outputs": [
    {
     "output_type": "execute_result",
     "data": {
      "text/plain": "Sequential(\n  (fc1): Linear(in_features=784, out_features=4, bias=True)\n  (relu1): ReLU()\n  (fc2): Linear(in_features=4, out_features=4, bias=True)\n  (relu2): ReLU()\n  (output): Linear(in_features=4, out_features=10, bias=True)\n  (softmax): Softmax(dim=1)\n)"
     },
     "metadata": {
      "tags": []
     },
     "execution_count": 19
    }
   ]
  },
  {
   "cell_type": "code",
   "metadata": {
    "ExecuteTime": {
     "end_time": "2021-05-26T22:26:46.121246Z",
     "start_time": "2021-05-26T22:26:46.112022Z"
    },
    "colab": {
     "base_uri": "https://localhost:8080/"
    },
    "id": "xD-2P4KqSgfh",
    "outputId": "e6e72bc4-2074-4753-961b-86f31710cc45",
    "cell_id": "00026-77adfea3-76bc-4dee-9bc1-85985f47ea52",
    "deepnote_cell_type": "code"
   },
   "source": "# Resize images into a 1D vector, new shape is (batch size, color channels, image pixels) \nimages.resize_(images.shape[0], 1, 784)\nimages.shape\n# or images.resize_(images.shape[0], 1, 784) to not automatically get batch size",
   "execution_count": null,
   "outputs": [
    {
     "output_type": "execute_result",
     "data": {
      "text/plain": "torch.Size([16, 1, 784])"
     },
     "metadata": {
      "tags": []
     },
     "execution_count": 20
    }
   ]
  },
  {
   "cell_type": "code",
   "metadata": {
    "ExecuteTime": {
     "end_time": "2021-05-26T22:26:46.519895Z",
     "start_time": "2021-05-26T22:26:46.514137Z"
    },
    "colab": {
     "base_uri": "https://localhost:8080/"
    },
    "id": "iKfMshfhSgfi",
    "outputId": "bba80e0d-77e8-441e-ad3d-26044343d453",
    "cell_id": "00027-893a0ca5-7945-4371-98a7-7061ee1394da",
    "deepnote_cell_type": "code"
   },
   "source": "img_idx = 0\nimages[img_idx,:].shape",
   "execution_count": null,
   "outputs": [
    {
     "output_type": "execute_result",
     "data": {
      "text/plain": "torch.Size([1, 784])"
     },
     "metadata": {
      "tags": []
     },
     "execution_count": 21
    }
   ]
  },
  {
   "cell_type": "code",
   "metadata": {
    "ExecuteTime": {
     "end_time": "2021-05-26T22:26:47.945952Z",
     "start_time": "2021-05-26T22:26:47.888846Z"
    },
    "colab": {
     "base_uri": "https://localhost:8080/"
    },
    "id": "SzaEvZcvSgfi",
    "outputId": "679fdd13-bf41-4093-e77b-4fb6c188a363",
    "cell_id": "00028-d1d7b5ce-3125-4fd2-9876-6180e28a3873",
    "deepnote_cell_type": "code"
   },
   "source": "# Forward pass through the network\nimg_idx = 0\nps = model(images[img_idx,:])\nps",
   "execution_count": null,
   "outputs": [
    {
     "output_type": "execute_result",
     "data": {
      "text/plain": "tensor([[0.1402, 0.1714, 0.0630, 0.1078, 0.0834, 0.0866, 0.1143, 0.0830, 0.0764,\n         0.0738]], grad_fn=<SoftmaxBackward>)"
     },
     "metadata": {
      "tags": []
     },
     "execution_count": 23
    }
   ]
  },
  {
   "cell_type": "code",
   "metadata": {
    "ExecuteTime": {
     "end_time": "2021-05-26T22:26:50.561845Z",
     "start_time": "2021-05-26T22:26:50.411449Z"
    },
    "colab": {
     "base_uri": "https://localhost:8080/",
     "height": 212
    },
    "id": "GchL75imSgfi",
    "outputId": "75255ddd-e39c-423e-993b-0320869a6e6c",
    "cell_id": "00029-3ea6e017-da49-4923-baf5-9e9bb1417f59",
    "deepnote_cell_type": "code"
   },
   "source": "img = images[img_idx]\nview_classify(img.view(1, 28, 28), ps)",
   "execution_count": null,
   "outputs": [
    {
     "output_type": "display_data",
     "data": {
      "image/png": "[encoded data removed]",
      "text/plain": "<Figure size 432x648 with 2 Axes>"
     },
     "metadata": {
      "tags": [],
      "image/png": {
       "width": 698,
       "height": 391
      },
      "needs_background": "light"
     }
    }
   ]
  },
  {
   "cell_type": "markdown",
   "source": "As you can see above, our network has basically no idea what this digit is. It's because we haven't trained it yet, all the weights are random!",
   "metadata": {
    "id": "IIqSRhNNSgfi",
    "cell_id": "00030-d23b6480-7ae6-4dfb-a8aa-529aff0c8e62",
    "deepnote_cell_type": "markdown"
   }
  },
  {
   "cell_type": "markdown",
   "source": "# Training Neural Networks\n\nThe network we built isn't so smart, it doesn't know anything about our handwritten digits. Neural networks with non-linear activations work like universal function approximators. There is some function that maps your input to the output. For example, images of handwritten digits to class probabilities. The power of neural networks is that we can train them to approximate this function, and basically any function given enough data and compute time.\n\n<img src=\"assets/function_approx.png\" width=500px>\n\nAt first the network is naive, it doesn't know the function mapping the inputs to the outputs. We train the network by showing it examples of real data, then adjusting the network parameters such that it approximates this function.\n\nTo find these parameters, we need to know how poorly the network is predicting the real outputs. For this we calculate a **loss function** (also called the cost), a measure of our prediction error. For example, the mean squared loss is often used in regression and binary classification problems\n\n$$\n\\ell = \\frac{1}{2n}\\sum_i^n{\\left(y_i - \\hat{y}_i\\right)^2}\n$$\n\nwhere $n$ is the number of training examples, $y_i$ are the true labels, and $\\hat{y}_i$ are the predicted labels.\n\nBy minimizing this loss with respect to the network parameters, we can find configurations where the loss is at a minimum and the network is able to predict the correct labels with high accuracy. We find this minimum using a process called **gradient descent**. The gradient is the slope of the loss function and points in the direction of fastest change. To get to the minimum in the least amount of time, we then want to follow the gradient (downwards). You can think of this like descending a mountain by following the steepest slope to the base.\n\n<img src='assets/gradient_descent.png' width=350px>",
   "metadata": {
    "id": "GPgGrOubSgfi",
    "cell_id": "00031-536dcf10-5739-4d1c-b4c7-fea71ef5ea63",
    "deepnote_cell_type": "markdown"
   }
  },
  {
   "cell_type": "markdown",
   "source": "## Backpropagation\n\nFor single layer networks, gradient descent is simple to implement. However, it's more complicated for deeper, multilayer neural networks like the one we've built. Complicated enough that it took about 30 years before researchers figured out how to train multilayer networks, although it's straightforward once you learn about it. \n\nThis is done through **backpropagation** which is really just an application of the chain rule from calculus. It's easiest to understand if we convert a two layer network into a graph representation.\n\n<img src='assets/w1_backprop_graph.png' width=400px>\n\nIn the forward pass through the network, our data and operations go from right to left here. To train the weights with gradient descent, we propagate the gradient of the cost backwards through the network. Mathematically, this is really just calculating the gradient of the loss with respect to the weights using the chain rule.\n\n$$\n\\frac{\\partial \\ell}{\\partial w_1} = \\frac{\\partial l_1}{\\partial w_1} \\frac{\\partial s}{\\partial l_1} \\frac{\\partial l_2}{\\partial s} \\frac{\\partial \\ell}{\\partial l_2}\n$$\n\nWe update our weights using this gradient with some learning rate $\\alpha$. \n\n$$\nw^\\prime = w - \\alpha \\frac{\\partial \\ell}{\\partial w}\n$$\n\nThe learning rate is set such that the weight update steps are small enough that the iterative method settles in a minimum.\n\nThe first thing we need to do for training is define our loss function. In PyTorch, you'll usually see this as `criterion`. Here we're using softmax output, so we want to use `criterion = nn.CrossEntropyLoss()` as our loss. Later when training, you use `loss = criterion(output, targets)` to calculate the actual loss.\n\nWe also need to define the optimizer we're using, SGD or Adam, or something along those lines. Here I'll just use SGD with `torch.optim.SGD`, passing in the network parameters and the learning rate.",
   "metadata": {
    "id": "xNyH_18hSgfj",
    "cell_id": "00032-edcaadc5-84ff-4319-bcf5-1c9b66de9649",
    "deepnote_cell_type": "markdown"
   }
  },
  {
   "cell_type": "markdown",
   "source": "## Autograd\n\nTorch provides a module, `autograd`, for automatically calculating the gradient of tensors. It does this by keeping track of operations performed on tensors. To make sure PyTorch keeps track of operations on a tensor and calculates the gradients, you need to set `requires_grad` on a tensor. You can do this at creation with the `requires_grad` keyword, or at any time with `x.requires_grad_(True)`.\n\nYou can turn off gradients for a block of code with the `torch.no_grad()` content:\n```python\nx = torch.zeros(1, requires_grad=True)\n>>> with torch.no_grad():\n...     y = x * 2\n>>> y.requires_grad\nFalse\n```\n\nAlso, you can turn on or off gradients altogether with `torch.set_grad_enabled(True|False)`.\n\nThe gradients are computed with respect to some variable `z` with `z.backward()`. This does a backward pass through the operations that created `z`.",
   "metadata": {
    "id": "dp_JZMJcSgfj",
    "cell_id": "00033-80347461-172e-47f5-a86f-4bf497518c6f",
    "deepnote_cell_type": "markdown"
   }
  },
  {
   "cell_type": "code",
   "metadata": {
    "ExecuteTime": {
     "end_time": "2021-05-26T22:26:52.867509Z",
     "start_time": "2021-05-26T22:26:52.860629Z"
    },
    "colab": {
     "base_uri": "https://localhost:8080/"
    },
    "id": "MrOicg-aSgfk",
    "outputId": "278f0b09-7ed7-4e42-986e-216457743579",
    "cell_id": "00034-7b9fbb6b-d5bb-4557-be74-c603a0082017",
    "deepnote_cell_type": "code"
   },
   "source": "x = torch.randn(2,2, requires_grad=True)\nprint(x)",
   "execution_count": null,
   "outputs": [
    {
     "output_type": "stream",
     "text": "tensor([[-0.5167,  0.5821],\n        [ 0.9302, -0.4600]], requires_grad=True)\n",
     "name": "stdout"
    }
   ]
  },
  {
   "cell_type": "code",
   "metadata": {
    "ExecuteTime": {
     "end_time": "2021-05-26T22:26:53.383436Z",
     "start_time": "2021-05-26T22:26:53.375536Z"
    },
    "colab": {
     "base_uri": "https://localhost:8080/"
    },
    "id": "rLY0xws3Sgfk",
    "outputId": "fe30cb1a-03cf-43f3-e717-95bce9fe0178",
    "cell_id": "00035-55ece267-d2b7-432e-921a-9faf8f4a2f33",
    "deepnote_cell_type": "code"
   },
   "source": "y = x**2\nprint(y)",
   "execution_count": null,
   "outputs": [
    {
     "output_type": "stream",
     "text": "tensor([[0.2670, 0.3389],\n        [0.8653, 0.2116]], grad_fn=<PowBackward0>)\n",
     "name": "stdout"
    }
   ]
  },
  {
   "cell_type": "markdown",
   "source": "Below we can see the operation that created `y`, a power operation `PowBackward0`.",
   "metadata": {
    "id": "ZRad-xi7Sgfk",
    "cell_id": "00036-ab60df45-bfeb-46c1-b2da-801d31764bac",
    "deepnote_cell_type": "markdown"
   }
  },
  {
   "cell_type": "code",
   "metadata": {
    "ExecuteTime": {
     "end_time": "2021-05-26T22:26:53.870654Z",
     "start_time": "2021-05-26T22:26:53.867424Z"
    },
    "colab": {
     "base_uri": "https://localhost:8080/"
    },
    "id": "9Kiwt5aoSgfk",
    "outputId": "beb9c526-a609-471b-9d50-6e8d90851cb2",
    "cell_id": "00037-56c5ef35-77c4-479c-b067-ad32258291c5",
    "deepnote_cell_type": "code"
   },
   "source": "## grad_fn shows the function that generated this variable\nprint(y.grad_fn)",
   "execution_count": null,
   "outputs": [
    {
     "output_type": "stream",
     "text": "<PowBackward0 object at 0x7f1b0bee45d0>\n",
     "name": "stdout"
    }
   ]
  },
  {
   "cell_type": "markdown",
   "source": "The autgrad module keeps track of these operations and knows how to calculate the gradient for each one. In this way, it's able to calculate the gradients for a chain of operations, with respect to any one tensor. Let's reduce the tensor `y` to a scalar value, the mean.",
   "metadata": {
    "id": "WykjqwtSSgfl",
    "cell_id": "00038-1663cfa9-15fe-494a-b002-d4bd4ff6f547",
    "deepnote_cell_type": "markdown"
   }
  },
  {
   "cell_type": "code",
   "metadata": {
    "ExecuteTime": {
     "end_time": "2021-05-26T22:26:54.831912Z",
     "start_time": "2021-05-26T22:26:54.824631Z"
    },
    "colab": {
     "base_uri": "https://localhost:8080/"
    },
    "id": "BwsTpET_Sgfl",
    "outputId": "73c3777b-d9c2-4e5d-ebf3-bf2945bfaed5",
    "cell_id": "00039-4f1cc594-a9ac-4da3-aa71-8065f406b690",
    "deepnote_cell_type": "code"
   },
   "source": "z = y.mean()\nprint(z)",
   "execution_count": null,
   "outputs": [
    {
     "output_type": "stream",
     "text": "tensor(0.4207, grad_fn=<MeanBackward0>)\n",
     "name": "stdout"
    }
   ]
  },
  {
   "cell_type": "markdown",
   "source": "You can check the gradients for `x` and `y` but they are empty currently.",
   "metadata": {
    "id": "mxv3oY4aSgfl",
    "cell_id": "00040-ea19aa3c-c61e-45e8-b8cc-fd6c169ac2a4",
    "deepnote_cell_type": "markdown"
   }
  },
  {
   "cell_type": "code",
   "metadata": {
    "ExecuteTime": {
     "end_time": "2021-05-26T22:26:55.546143Z",
     "start_time": "2021-05-26T22:26:55.541213Z"
    },
    "colab": {
     "base_uri": "https://localhost:8080/"
    },
    "id": "77x4J206Sgfl",
    "outputId": "31f385ae-9a21-491e-99e9-e29bedf20b86",
    "cell_id": "00041-94579fb8-7051-4f49-a729-2ed1acfdaed4",
    "deepnote_cell_type": "code"
   },
   "source": "print(x.grad)",
   "execution_count": null,
   "outputs": [
    {
     "output_type": "stream",
     "text": "None\n",
     "name": "stdout"
    }
   ]
  },
  {
   "cell_type": "markdown",
   "source": "To calculate the gradients, you need to run the `.backward` method on a Variable, `z` for example. This will calculate the gradient for `z` with respect to `x`\n\n$$\n\\frac{\\partial z}{\\partial x} = \\frac{\\partial}{\\partial x}\\left[\\frac{1}{n}\\sum_i^n x_i^2\\right] = \\frac{x}{2}\n$$",
   "metadata": {
    "id": "rwFGxwTUSgfm",
    "cell_id": "00042-643b832a-f3ca-4192-8e77-3a0ac53e87f2",
    "deepnote_cell_type": "markdown"
   }
  },
  {
   "cell_type": "code",
   "metadata": {
    "ExecuteTime": {
     "end_time": "2021-05-26T22:26:56.607560Z",
     "start_time": "2021-05-26T22:26:56.594993Z"
    },
    "colab": {
     "base_uri": "https://localhost:8080/"
    },
    "id": "W20tlOjeSgfm",
    "outputId": "58575014-bc4d-4001-d015-7b3142ead9a2",
    "cell_id": "00043-4671f5ea-c37b-45fb-ada6-fdbad8abba55",
    "deepnote_cell_type": "code"
   },
   "source": "z.backward()\nprint(x.grad)\nprint(x/2)",
   "execution_count": null,
   "outputs": [
    {
     "output_type": "stream",
     "text": "tensor([[-0.2584,  0.2911],\n        [ 0.4651, -0.2300]])\ntensor([[-0.2584,  0.2911],\n        [ 0.4651, -0.2300]], grad_fn=<DivBackward0>)\n",
     "name": "stdout"
    }
   ]
  },
  {
   "cell_type": "markdown",
   "source": "These gradients calculations are particularly useful for neural networks. For training we need the gradients of the weights with respect to the cost. With PyTorch, we run data forward through the network to calculate the cost, then, go backwards to calculate the gradients with respect to the cost. Once we have the gradients we can make a gradient descent step. ",
   "metadata": {
    "id": "z7fdJmeUSgfm",
    "cell_id": "00044-ae6ff84c-4683-4f76-87a3-545939a8407c",
    "deepnote_cell_type": "markdown"
   }
  },
  {
   "cell_type": "markdown",
   "source": "I'll build a network with `nn.Sequential` here. Only difference from the last part is I'm not actually using softmax on the output, but instead just using the raw output from the last layer. This is because the output from softmax is a probability distribution. Often, the output will have values really close to zero or really close to one. Due to [inaccuracies with representing numbers as floating points](https://docs.python.org/3/tutorial/floatingpoint.html), computations with a softmax output can lose accuracy and become unstable. To get around this, we'll use the raw output, called the **logits**, to calculate the loss.",
   "metadata": {
    "id": "UaF4CwkRSgfm",
    "cell_id": "00045-48e7120f-436c-4893-ac34-3cf3c94b8c58",
    "deepnote_cell_type": "markdown"
   }
  },
  {
   "cell_type": "code",
   "metadata": {
    "ExecuteTime": {
     "end_time": "2021-05-26T22:26:56.944759Z",
     "start_time": "2021-05-26T22:26:56.936939Z"
    },
    "id": "NIaniVqKSgfm",
    "cell_id": "00046-592cb01f-3487-408e-a14b-9f87b9099d0a",
    "deepnote_cell_type": "code"
   },
   "source": "# Hyperparameters for our network\ninput_size   = 784\nhidden_sizes = [128, 64]\noutput_size  = 10\n\n# Build a feed-forward network\nmodel = nn.Sequential(OrderedDict([\n          ('fc1', nn.Linear(input_size, hidden_sizes[0])),\n          ('relu1', nn.ReLU()),\n          ('fc2', nn.Linear(hidden_sizes[0], hidden_sizes[1])),\n          ('relu2', nn.ReLU()),\n          ('logits', nn.Linear(hidden_sizes[1], output_size))]))",
   "execution_count": null,
   "outputs": []
  },
  {
   "cell_type": "markdown",
   "source": "## Training the network!\n\nThe first thing we need to do for training is define our loss function. In PyTorch, you'll usually see this as `criterion`. Here we're using softmax output, so we want to use `criterion = nn.CrossEntropyLoss()` as our loss. Later when training, you use `loss = criterion(output, targets)` to calculate the actual loss.\n\nWe also need to define the optimizer we're using, SGD or Adam, or something along those lines. Here I'll just use SGD with `torch.optim.SGD`, passing in the network parameters and the learning rate.",
   "metadata": {
    "id": "myH-dvgiSgfn",
    "cell_id": "00047-b8a2c9a2-48de-48d9-8362-5cf9ae4720c6",
    "deepnote_cell_type": "markdown"
   }
  },
  {
   "cell_type": "code",
   "metadata": {
    "ExecuteTime": {
     "end_time": "2021-05-26T22:26:57.317614Z",
     "start_time": "2021-05-26T22:26:57.313022Z"
    },
    "id": "emCnibOfSgfn",
    "cell_id": "00048-35703b7f-0441-4b1f-be94-0ee1535303c8",
    "deepnote_cell_type": "code"
   },
   "source": "criterion = nn.CrossEntropyLoss()\noptimizer = optim.SGD(model.parameters(), lr=0.01)",
   "execution_count": null,
   "outputs": []
  },
  {
   "cell_type": "markdown",
   "source": "First, let's consider just one learning step before looping through all the data. The general process with PyTorch:\n\n* Make a forward pass through the network to get the logits \n* Use the logits to calculate the loss\n* Perform a backward pass through the network with `loss.backward()` to calculate the gradients\n* Take a step with the optimizer to update the weights\n\nBelow I'll go through one training step and print out the weights and gradients so you can see how it changes.",
   "metadata": {
    "id": "aLF4Ly1WSgfn",
    "cell_id": "00049-6bd16af5-c46e-45d1-b534-8784459c2dfa",
    "deepnote_cell_type": "markdown"
   }
  },
  {
   "cell_type": "code",
   "metadata": {
    "ExecuteTime": {
     "end_time": "2021-05-26T22:27:07.408433Z",
     "start_time": "2021-05-26T22:27:07.373358Z"
    },
    "id": "l-mU7nuPSgfn",
    "outputId": "ac19ced7-3c72-4179-efc6-4d142ee4b8fb",
    "cell_id": "00050-a015d728-be79-4066-89d1-fc5e2707f5d9",
    "deepnote_cell_type": "code"
   },
   "source": "print('Initial weights - ', model.fc1.weight)\n\nimages, labels = next(iter(trainloader))\nimages.resize_(16, 784)\n\n# Clear the gradients, do this because gradients are accumulated\noptimizer.zero_grad()\n\n# Forward pass, then backward pass, then update weights\noutput = model.forward(images)\nloss = criterion(output, labels)\nloss.backward()\nprint('Gradient -', model.fc1.weight.grad)\noptimizer.step()",
   "execution_count": null,
   "outputs": [
    {
     "output_type": "stream",
     "text": "Initial weights -  Parameter containing:\ntensor([[-0.0247,  0.0240, -0.0310,  ...,  0.0335,  0.0041, -0.0197],\n        [ 0.0354,  0.0262,  0.0250,  ...,  0.0226, -0.0073, -0.0172],\n        [-0.0335, -0.0177,  0.0044,  ..., -0.0115, -0.0143,  0.0139],\n        ...,\n        [-0.0105, -0.0050, -0.0110,  ...,  0.0038,  0.0243, -0.0273],\n        [-0.0278, -0.0118, -0.0340,  ..., -0.0009,  0.0334,  0.0236],\n        [ 0.0281,  0.0066,  0.0095,  ...,  0.0309, -0.0313, -0.0054]],\n       requires_grad=True)\nGradient - tensor([[ 0.0000,  0.0000,  0.0000,  ...,  0.0000,  0.0000,  0.0000],\n        [ 0.0037,  0.0037,  0.0037,  ...,  0.0037,  0.0037,  0.0037],\n        [ 0.0014,  0.0014,  0.0014,  ...,  0.0014,  0.0014,  0.0014],\n        ...,\n        [ 0.0074,  0.0074,  0.0074,  ...,  0.0074,  0.0074,  0.0074],\n        [-0.0031, -0.0031, -0.0031,  ..., -0.0031, -0.0031, -0.0031],\n        [-0.0045, -0.0045, -0.0045,  ..., -0.0045, -0.0045, -0.0045]])\n",
     "name": "stdout"
    }
   ]
  },
  {
   "cell_type": "code",
   "metadata": {
    "ExecuteTime": {
     "end_time": "2021-05-26T22:27:07.915247Z",
     "start_time": "2021-05-26T22:27:07.908155Z"
    },
    "id": "Aq6sm60xSgfn",
    "outputId": "77024f82-35eb-490b-c199-feb51c14d895",
    "cell_id": "00051-26b4673a-5b1a-4362-8d8a-c2bbb143d573",
    "deepnote_cell_type": "code"
   },
   "source": "print('Updated weights - ', model.fc1.weight)",
   "execution_count": null,
   "outputs": [
    {
     "output_type": "stream",
     "text": "Updated weights -  Parameter containing:\ntensor([[-0.0247,  0.0240, -0.0310,  ...,  0.0335,  0.0041, -0.0197],\n        [ 0.0354,  0.0261,  0.0250,  ...,  0.0226, -0.0074, -0.0172],\n        [-0.0335, -0.0177,  0.0044,  ..., -0.0115, -0.0143,  0.0139],\n        ...,\n        [-0.0105, -0.0051, -0.0110,  ...,  0.0037,  0.0242, -0.0274],\n        [-0.0278, -0.0118, -0.0339,  ..., -0.0009,  0.0334,  0.0236],\n        [ 0.0281,  0.0067,  0.0096,  ...,  0.0309, -0.0313, -0.0053]],\n       requires_grad=True)\n",
     "name": "stdout"
    }
   ]
  },
  {
   "cell_type": "markdown",
   "source": "### Training for real\n\nNow we'll put this algorithm into a loop so we can go through all the images. This is fairly straightforward. We'll loop through the mini-batches in our dataset, pass the data through the network to calculate the losses, get the gradients, then run the optimizer.",
   "metadata": {
    "id": "RtUOOB8DSgfo",
    "cell_id": "00052-e71abeaa-c314-4ba3-aa11-756ac13e37e5",
    "deepnote_cell_type": "markdown"
   }
  },
  {
   "cell_type": "code",
   "metadata": {
    "ExecuteTime": {
     "end_time": "2021-05-26T22:27:08.816179Z",
     "start_time": "2021-05-26T22:27:08.812807Z"
    },
    "id": "_bj7rN7oSgfo",
    "cell_id": "00053-7c2c22d2-115e-41db-84f1-8f3e6d75109d",
    "deepnote_cell_type": "code"
   },
   "source": "optimizer = optim.SGD(model.parameters(), lr=0.003)",
   "execution_count": null,
   "outputs": []
  },
  {
   "cell_type": "code",
   "metadata": {
    "ExecuteTime": {
     "end_time": "2021-05-26T22:27:36.083537Z",
     "start_time": "2021-05-26T22:27:09.280769Z"
    },
    "id": "umsBT99ASgfo",
    "outputId": "5a163628-6750-4e43-ec67-ffe01e585758",
    "cell_id": "00054-c0c868fd-f938-41ec-a641-ad994f2dea57",
    "deepnote_cell_type": "code"
   },
   "source": "epochs = 3\nprint_every = 40\n\nfor e in range(epochs):\n    running_loss = 0\n    print(f\"Epoch: {e+1}/{epochs}\")\n\n    for i, (images, labels) in enumerate(iter(trainloader)):\n\n        # Flatten MNIST images into a 784 long vector\n        images.resize_(images.size()[0], 784)\n        \n        optimizer.zero_grad()\n        \n        output = model.forward(images)   # 1) Forward pass\n        loss = criterion(output, labels) # 2) Compute loss\n        loss.backward()                  # 3) Backward pass\n        optimizer.step()                 # 4) Update model\n        \n        running_loss += loss.item()\n        \n        if i % print_every == 0:\n            print(f\"\\tIteration: {i}\\t Loss: {running_loss/print_every:.4f}\")\n            running_loss = 0",
   "execution_count": null,
   "outputs": [
    {
     "output_type": "stream",
     "text": "Epoch: 1/3\n\tIteration: 0\t Loss: 0.0577\n\tIteration: 40\t Loss: 2.2975\n\tIteration: 80\t Loss: 2.2792\n\tIteration: 120\t Loss: 2.2556\n\tIteration: 160\t Loss: 2.2323\n\tIteration: 200\t Loss: 2.2072\n\tIteration: 240\t Loss: 2.1660\n\tIteration: 280\t Loss: 2.1453\n\tIteration: 320\t Loss: 2.1233\n\tIteration: 360\t Loss: 2.0924\n\tIteration: 400\t Loss: 2.0521\n\tIteration: 440\t Loss: 1.9813\n\tIteration: 480\t Loss: 1.9552\n\tIteration: 520\t Loss: 1.8864\n\tIteration: 560\t Loss: 1.8257\n\tIteration: 600\t Loss: 1.7694\n\tIteration: 640\t Loss: 1.7441\n\tIteration: 680\t Loss: 1.6225\n\tIteration: 720\t Loss: 1.5887\n\tIteration: 760\t Loss: 1.4847\n\tIteration: 800\t Loss: 1.4167\n\tIteration: 840\t Loss: 1.3707\n\tIteration: 880\t Loss: 1.2962\n\tIteration: 920\t Loss: 1.2247\n\tIteration: 960\t Loss: 1.1875\n\tIteration: 1000\t Loss: 1.1800\n\tIteration: 1040\t Loss: 1.1078\n\tIteration: 1080\t Loss: 1.0413\n\tIteration: 1120\t Loss: 1.0186\n\tIteration: 1160\t Loss: 0.9772\n\tIteration: 1200\t Loss: 0.9010\n\tIteration: 1240\t Loss: 0.8790\n\tIteration: 1280\t Loss: 0.8666\n\tIteration: 1320\t Loss: 0.8133\n\tIteration: 1360\t Loss: 0.8197\n\tIteration: 1400\t Loss: 0.8298\n\tIteration: 1440\t Loss: 0.7718\n\tIteration: 1480\t Loss: 0.7429\n\tIteration: 1520\t Loss: 0.6878\n\tIteration: 1560\t Loss: 0.6517\n\tIteration: 1600\t Loss: 0.6795\n\tIteration: 1640\t Loss: 0.7119\n\tIteration: 1680\t Loss: 0.6968\n\tIteration: 1720\t Loss: 0.6645\n\tIteration: 1760\t Loss: 0.6214\n\tIteration: 1800\t Loss: 0.6134\n\tIteration: 1840\t Loss: 0.5614\n\tIteration: 1880\t Loss: 0.5841\n\tIteration: 1920\t Loss: 0.6165\n\tIteration: 1960\t Loss: 0.6065\n\tIteration: 2000\t Loss: 0.6265\n\tIteration: 2040\t Loss: 0.5953\n\tIteration: 2080\t Loss: 0.5785\n\tIteration: 2120\t Loss: 0.4998\n\tIteration: 2160\t Loss: 0.5424\n\tIteration: 2200\t Loss: 0.5206\n\tIteration: 2240\t Loss: 0.5621\n\tIteration: 2280\t Loss: 0.5608\n\tIteration: 2320\t Loss: 0.5104\n\tIteration: 2360\t Loss: 0.5240\n\tIteration: 2400\t Loss: 0.5953\n\tIteration: 2440\t Loss: 0.4835\n\tIteration: 2480\t Loss: 0.4797\n\tIteration: 2520\t Loss: 0.4417\n\tIteration: 2560\t Loss: 0.5208\n\tIteration: 2600\t Loss: 0.4585\n\tIteration: 2640\t Loss: 0.5000\n\tIteration: 2680\t Loss: 0.5108\n\tIteration: 2720\t Loss: 0.4579\n\tIteration: 2760\t Loss: 0.4808\n\tIteration: 2800\t Loss: 0.5232\n\tIteration: 2840\t Loss: 0.4443\n\tIteration: 2880\t Loss: 0.4115\n\tIteration: 2920\t Loss: 0.4389\n\tIteration: 2960\t Loss: 0.4822\n\tIteration: 3000\t Loss: 0.4296\n\tIteration: 3040\t Loss: 0.4200\n\tIteration: 3080\t Loss: 0.5014\n\tIteration: 3120\t Loss: 0.4772\n\tIteration: 3160\t Loss: 0.4407\n\tIteration: 3200\t Loss: 0.4339\n\tIteration: 3240\t Loss: 0.4318\n\tIteration: 3280\t Loss: 0.4680\n\tIteration: 3320\t Loss: 0.3823\n\tIteration: 3360\t Loss: 0.4071\n\tIteration: 3400\t Loss: 0.4091\n\tIteration: 3440\t Loss: 0.4071\n\tIteration: 3480\t Loss: 0.4229\n\tIteration: 3520\t Loss: 0.4570\n\tIteration: 3560\t Loss: 0.4221\n\tIteration: 3600\t Loss: 0.4241\n\tIteration: 3640\t Loss: 0.4015\n\tIteration: 3680\t Loss: 0.3777\n\tIteration: 3720\t Loss: 0.3445\nEpoch: 2/3\n\tIteration: 0\t Loss: 0.0075\n\tIteration: 40\t Loss: 0.3839\n\tIteration: 80\t Loss: 0.3693\n\tIteration: 120\t Loss: 0.3422\n\tIteration: 160\t Loss: 0.3933\n\tIteration: 200\t Loss: 0.3718\n\tIteration: 240\t Loss: 0.4313\n\tIteration: 280\t Loss: 0.3985\n\tIteration: 320\t Loss: 0.4014\n\tIteration: 360\t Loss: 0.3387\n\tIteration: 400\t Loss: 0.3779\n\tIteration: 440\t Loss: 0.4367\n\tIteration: 480\t Loss: 0.4414\n\tIteration: 520\t Loss: 0.3799\n\tIteration: 560\t Loss: 0.3830\n\tIteration: 600\t Loss: 0.4134\n\tIteration: 640\t Loss: 0.4262\n\tIteration: 680\t Loss: 0.3933\n\tIteration: 720\t Loss: 0.3837\n\tIteration: 760\t Loss: 0.3486\n\tIteration: 800\t Loss: 0.4192\n\tIteration: 840\t Loss: 0.3179\n\tIteration: 880\t Loss: 0.3322\n\tIteration: 920\t Loss: 0.3732\n\tIteration: 960\t Loss: 0.3253\n\tIteration: 1000\t Loss: 0.3745\n\tIteration: 1040\t Loss: 0.3330\n\tIteration: 1080\t Loss: 0.4126\n\tIteration: 1120\t Loss: 0.3392\n\tIteration: 1160\t Loss: 0.3894\n\tIteration: 1200\t Loss: 0.3863\n\tIteration: 1240\t Loss: 0.3622\n\tIteration: 1280\t Loss: 0.3932\n\tIteration: 1320\t Loss: 0.3606\n\tIteration: 1360\t Loss: 0.3781\n\tIteration: 1400\t Loss: 0.3520\n\tIteration: 1440\t Loss: 0.3491\n\tIteration: 1480\t Loss: 0.3465\n\tIteration: 1520\t Loss: 0.3240\n\tIteration: 1560\t Loss: 0.3341\n\tIteration: 1600\t Loss: 0.3514\n\tIteration: 1640\t Loss: 0.3576\n\tIteration: 1680\t Loss: 0.3625\n\tIteration: 1720\t Loss: 0.3304\n\tIteration: 1760\t Loss: 0.3244\n\tIteration: 1800\t Loss: 0.3605\n\tIteration: 1840\t Loss: 0.3575\n\tIteration: 1880\t Loss: 0.3195\n\tIteration: 1920\t Loss: 0.3330\n\tIteration: 1960\t Loss: 0.3246\n\tIteration: 2000\t Loss: 0.3316\n\tIteration: 2040\t Loss: 0.3196\n\tIteration: 2080\t Loss: 0.3657\n\tIteration: 2120\t Loss: 0.3443\n\tIteration: 2160\t Loss: 0.3374\n\tIteration: 2200\t Loss: 0.3344\n\tIteration: 2240\t Loss: 0.3183\n\tIteration: 2280\t Loss: 0.3599\n\tIteration: 2320\t Loss: 0.3191\n\tIteration: 2360\t Loss: 0.3359\n\tIteration: 2400\t Loss: 0.3479\n\tIteration: 2440\t Loss: 0.3282\n\tIteration: 2480\t Loss: 0.3243\n\tIteration: 2520\t Loss: 0.3843\n\tIteration: 2560\t Loss: 0.3718\n\tIteration: 2600\t Loss: 0.3132\n\tIteration: 2640\t Loss: 0.3206\n\tIteration: 2680\t Loss: 0.4018\n\tIteration: 2720\t Loss: 0.2950\n\tIteration: 2760\t Loss: 0.3585\n\tIteration: 2800\t Loss: 0.3661\n\tIteration: 2840\t Loss: 0.3607\n\tIteration: 2880\t Loss: 0.3527\n\tIteration: 2920\t Loss: 0.2806\n\tIteration: 2960\t Loss: 0.3620\n\tIteration: 3000\t Loss: 0.3399\n\tIteration: 3040\t Loss: 0.2909\n\tIteration: 3080\t Loss: 0.3430\n\tIteration: 3120\t Loss: 0.3187\n\tIteration: 3160\t Loss: 0.3480\n\tIteration: 3200\t Loss: 0.3272\n\tIteration: 3240\t Loss: 0.3179\n\tIteration: 3280\t Loss: 0.3265\n\tIteration: 3320\t Loss: 0.3287\n\tIteration: 3360\t Loss: 0.3302\n\tIteration: 3400\t Loss: 0.3689\n\tIteration: 3440\t Loss: 0.3364\n\tIteration: 3480\t Loss: 0.2695\n\tIteration: 3520\t Loss: 0.3112\n\tIteration: 3560\t Loss: 0.2812\n\tIteration: 3600\t Loss: 0.3814\n\tIteration: 3640\t Loss: 0.3147\n\tIteration: 3680\t Loss: 0.2717\n\tIteration: 3720\t Loss: 0.3368\nEpoch: 3/3\n\tIteration: 0\t Loss: 0.0062\n\tIteration: 40\t Loss: 0.2454\n\tIteration: 80\t Loss: 0.3007\n\tIteration: 120\t Loss: 0.2953\n\tIteration: 160\t Loss: 0.3079\n\tIteration: 200\t Loss: 0.2665\n\tIteration: 240\t Loss: 0.3175\n\tIteration: 280\t Loss: 0.3170\n\tIteration: 320\t Loss: 0.3900\n\tIteration: 360\t Loss: 0.3030\n\tIteration: 400\t Loss: 0.3410\n\tIteration: 440\t Loss: 0.3019\n\tIteration: 480\t Loss: 0.3009\n\tIteration: 520\t Loss: 0.3459\n\tIteration: 560\t Loss: 0.2698\n\tIteration: 600\t Loss: 0.2085\n\tIteration: 640\t Loss: 0.2899\n\tIteration: 680\t Loss: 0.2655\n\tIteration: 720\t Loss: 0.3405\n\tIteration: 760\t Loss: 0.2818\n\tIteration: 800\t Loss: 0.3963\n\tIteration: 840\t Loss: 0.3229\n\tIteration: 880\t Loss: 0.2688\n\tIteration: 920\t Loss: 0.2875\n\tIteration: 960\t Loss: 0.3100\n\tIteration: 1000\t Loss: 0.2834\n\tIteration: 1040\t Loss: 0.3038\n\tIteration: 1080\t Loss: 0.3586\n\tIteration: 1120\t Loss: 0.3143\n\tIteration: 1160\t Loss: 0.2858\n\tIteration: 1200\t Loss: 0.3217\n\tIteration: 1240\t Loss: 0.3292\n\tIteration: 1280\t Loss: 0.3321\n\tIteration: 1320\t Loss: 0.2505\n\tIteration: 1360\t Loss: 0.3077\n\tIteration: 1400\t Loss: 0.2681\n\tIteration: 1440\t Loss: 0.2861\n\tIteration: 1480\t Loss: 0.3948\n\tIteration: 1520\t Loss: 0.2737\n\tIteration: 1560\t Loss: 0.2688\n\tIteration: 1600\t Loss: 0.2613\n\tIteration: 1640\t Loss: 0.3087\n\tIteration: 1680\t Loss: 0.3012\n\tIteration: 1720\t Loss: 0.3224\n\tIteration: 1760\t Loss: 0.3030\n\tIteration: 1800\t Loss: 0.3223\n\tIteration: 1840\t Loss: 0.3129\n\tIteration: 1880\t Loss: 0.3315\n\tIteration: 1920\t Loss: 0.3191\n\tIteration: 1960\t Loss: 0.3059\n\tIteration: 2000\t Loss: 0.3273\n\tIteration: 2040\t Loss: 0.2896\n\tIteration: 2080\t Loss: 0.2689\n\tIteration: 2120\t Loss: 0.2290\n\tIteration: 2160\t Loss: 0.2808\n\tIteration: 2200\t Loss: 0.2987\n\tIteration: 2240\t Loss: 0.2691\n\tIteration: 2280\t Loss: 0.3018\n\tIteration: 2320\t Loss: 0.2760\n\tIteration: 2360\t Loss: 0.2968\n\tIteration: 2400\t Loss: 0.3203\n\tIteration: 2440\t Loss: 0.3030\n\tIteration: 2480\t Loss: 0.2879\n\tIteration: 2520\t Loss: 0.2541\n\tIteration: 2560\t Loss: 0.2728\n\tIteration: 2600\t Loss: 0.3307\n\tIteration: 2640\t Loss: 0.3637\n\tIteration: 2680\t Loss: 0.2403\n\tIteration: 2720\t Loss: 0.2826\n\tIteration: 2760\t Loss: 0.2860\n\tIteration: 2800\t Loss: 0.2693\n\tIteration: 2840\t Loss: 0.3395\n\tIteration: 2880\t Loss: 0.3057\n\tIteration: 2920\t Loss: 0.3225\n\tIteration: 2960\t Loss: 0.2874\n\tIteration: 3000\t Loss: 0.2389\n\tIteration: 3040\t Loss: 0.2786\n\tIteration: 3080\t Loss: 0.2697\n\tIteration: 3120\t Loss: 0.2875\n\tIteration: 3160\t Loss: 0.3146\n\tIteration: 3200\t Loss: 0.2813\n\tIteration: 3240\t Loss: 0.2681\n\tIteration: 3280\t Loss: 0.2929\n\tIteration: 3320\t Loss: 0.2956\n\tIteration: 3360\t Loss: 0.3227\n\tIteration: 3400\t Loss: 0.2747\n\tIteration: 3440\t Loss: 0.2837\n\tIteration: 3480\t Loss: 0.3219\n\tIteration: 3520\t Loss: 0.2908\n\tIteration: 3560\t Loss: 0.3121\n\tIteration: 3600\t Loss: 0.2743\n\tIteration: 3640\t Loss: 0.2899\n\tIteration: 3680\t Loss: 0.2687\n\tIteration: 3720\t Loss: 0.2779\n",
     "name": "stdout"
    }
   ]
  },
  {
   "cell_type": "markdown",
   "source": "With the network trained, we can check out it's predictions.",
   "metadata": {
    "id": "1FTMFIlXSgfo",
    "cell_id": "00055-770987d2-e3a6-4fd3-a54e-b0464227088a",
    "deepnote_cell_type": "markdown"
   }
  },
  {
   "cell_type": "code",
   "metadata": {
    "ExecuteTime": {
     "end_time": "2021-05-26T22:30:00.206666Z",
     "start_time": "2021-05-26T22:29:59.954325Z"
    },
    "id": "BmLgl811Sgfo",
    "outputId": "616ec713-52e9-4f55-b296-83068f8a2e07",
    "cell_id": "00056-ebd80d6d-9203-4f8c-8cfd-2190a3ab30c8",
    "deepnote_cell_type": "code"
   },
   "source": "images, labels = next(iter(trainloader))\n\nimg = images[0].view(1, 784)\n# Turn off gradients to speed up this part\nwith torch.no_grad():\n    logits = model.forward(img)\n\n# Output of the network are logits, need to take softmax for probabilities\nps = F.softmax(logits, dim=1)\nview_classify(img.view(1, 28, 28), ps)",
   "execution_count": null,
   "outputs": [
    {
     "output_type": "display_data",
     "data": {
      "image/png": "[encoded data removed]",
      "text/plain": "<Figure size 432x648 with 2 Axes>"
     },
     "metadata": {
      "tags": [],
      "image/png": {
       "width": 698,
       "height": 391
      },
      "needs_background": "light"
     }
    }
   ]
  },
  {
   "cell_type": "markdown",
   "source": "Now our network is brilliant. It can accurately predict the digits in our images.",
   "metadata": {
    "id": "Rll8Nu3fSgfp",
    "cell_id": "00057-01e17e03-d1a9-4c43-9150-49181562d872",
    "deepnote_cell_type": "markdown"
   }
  },
  {
   "cell_type": "markdown",
   "source": "<div style=\"background:#222222; color:#ffffff; padding:20px\">\n    <h2 align=\"center\" style=\"color:#01ff84\">EMNIST Classification: Exercise</h2>\n<div>",
   "metadata": {
    "id": "OBdzuevoSgfp",
    "cell_id": "00058-eb7fdd41-8719-4ac0-817e-8b3a25c24f21",
    "deepnote_cell_type": "markdown"
   }
  },
  {
   "cell_type": "markdown",
   "source": "<div style=\"background:#222222; color:#ffffff; padding:20px\">\n  <h3 style=\"color:#01ff84; margin-top:4px\">Exercise 1:</h3>\n  <p>Now it's your turn to build a simple network, use any method I've covered so far. In the next notebook, you'll learn how to train a network so it can make good predictions.</p>\n  <p>Build a network to classify the MNIST images with 3 hidden layers. Use 16 units in the first hidden layer, 32 units in the second layer, and 8 units in the third layer. Each hidden layer should have a ReLU activation function, and use softmax on the output layer.</p>\n<div>",
   "metadata": {
    "id": "-sYbxkywSgfp",
    "cell_id": "00059-39e5abbe-3681-40e5-b08a-e278358aac44",
    "deepnote_cell_type": "markdown"
   }
  },
  {
   "cell_type": "code",
   "metadata": {
    "colab": {
     "base_uri": "https://localhost:8080/"
    },
    "id": "d18H6nMJSgfp",
    "outputId": "6982c2f2-d4b9-4e3a-c19c-65ecfff05fe5",
    "cell_id": "00060-1afaccdc-c7c3-4c9f-a7c4-22d5ab06809e",
    "deepnote_cell_type": "code"
   },
   "source": "## TODO: Your network here\nhidden_sizes=[128,64,32]\noutput_size  = 10\nmodel = nn.Sequential(OrderedDict([\n          ('fc1', nn.Linear(input_size, hidden_sizes[0])),\n          ('relu1', nn.ReLU()),\n\n          ('fc2', nn.Linear(hidden_sizes[0], hidden_sizes[1])),\n          ('relu2', nn.ReLU()),\n\n          ('fc3', nn.Linear(hidden_sizes[1], hidden_sizes[2])),\n          ('relu3', nn.ReLU()),\n\n          ('logits', nn.Linear(hidden_sizes[2], output_size)),\n          ('softmax', nn.Softmax(dim=1))]))\nmodel",
   "execution_count": null,
   "outputs": [
    {
     "output_type": "execute_result",
     "data": {
      "text/plain": "Sequential(\n  (fc1): Linear(in_features=784, out_features=128, bias=True)\n  (relu1): ReLU()\n  (fc2): Linear(in_features=128, out_features=64, bias=True)\n  (relu2): ReLU()\n  (fc3): Linear(in_features=64, out_features=32, bias=True)\n  (relu3): ReLU()\n  (logits): Linear(in_features=32, out_features=10, bias=True)\n  (softmax): Softmax(dim=1)\n)"
     },
     "metadata": {
      "tags": []
     },
     "execution_count": 70
    }
   ]
  },
  {
   "cell_type": "code",
   "metadata": {
    "colab": {
     "base_uri": "https://localhost:8080/",
     "height": 212
    },
    "id": "251r0IT4Sgfp",
    "outputId": "65f32375-42cd-41cb-855f-ef5d594190c7",
    "cell_id": "00061-241b360d-1af5-4211-9685-924f3ccc5cb0",
    "deepnote_cell_type": "code"
   },
   "source": "# Run this cell with your model to make sure it works\n# Forward pass through the network and display output\nimages, labels = next(iter(trainloader))\nimages.resize_(images.shape[0], 1, 784)\nps = model.forward(images[0,:])\n\nview_classify(images[0].view(1, 28, 28), ps)",
   "execution_count": null,
   "outputs": [
    {
     "output_type": "display_data",
     "data": {
      "image/png": "[encoded data removed]",
      "text/plain": "<Figure size 432x648 with 2 Axes>"
     },
     "metadata": {
      "tags": [],
      "image/png": {
       "width": 698,
       "height": 391
      },
      "needs_background": "light"
     }
    }
   ]
  },
  {
   "cell_type": "markdown",
   "source": "<div style=\"background:#222222; color:#ffffff; padding:20px\">\n  <h3 style=\"color:#01ff84; margin-top:4px\">Exercise 2:</h3>\n  <p>Train your network implementing the Pytorch training loop and <strong style=\"color:#01ff84\">after each epoch, use the model for predicting the test (validation) MNIST data.</strong></p>\n  <p>Note: If your model does not fit with the final softmax layer, you can remove this layer.</p>\n  <p>Hint: <a href=\"https://discuss.pytorch.org/t/training-loop-checking-validation-accuracy/78399\">Training loop checking validation accuracy\n</a></p>\n  <p>Research about <code>model.train()</code>, <code>model.eval()</code> and <code>with torch.no_grad()</code> in Pytorch.\n<div>",
   "metadata": {
    "id": "oF3xpKXISgfq",
    "cell_id": "00062-13e256c2-c572-43c1-bbb3-f82c9eff2146",
    "deepnote_cell_type": "markdown"
   }
  },
  {
   "cell_type": "code",
   "metadata": {
    "colab": {
     "base_uri": "https://localhost:8080/",
     "height": 212
    },
    "id": "aRi8xRijo96R",
    "outputId": "7d83d2fb-fcdd-4879-e315-079f81f838f7",
    "cell_id": "00063-7a67188c-95bf-4bdf-bad0-890b5f6ba819",
    "deepnote_cell_type": "code"
   },
   "source": "images, labels = next(iter(trainloader))\n\nimg = images[0].view(1, 784)\n# Turn off gradients to speed up this part\nwith torch.no_grad():\n    logits = model.forward(img)\n\n# Output of the network are logits, need to take softmax for probabilities\nps = torch.exp(logits)\n\nview_classify(img.view(1, 28, 28), ps)\n\n",
   "execution_count": null,
   "outputs": [
    {
     "output_type": "display_data",
     "data": {
      "image/png": "[encoded data removed]",
      "text/plain": "<Figure size 432x648 with 2 Axes>"
     },
     "metadata": {
      "tags": [],
      "image/png": {
       "width": 698,
       "height": 391
      },
      "needs_background": "light"
     }
    }
   ]
  },
  {
   "cell_type": "code",
   "metadata": {
    "colab": {
     "base_uri": "https://localhost:8080/"
    },
    "id": "0gRulx-0Sgfq",
    "outputId": "3f42002c-ca85-4528-efd0-279e49668a9c",
    "cell_id": "00064-eb005128-bc16-41a9-8bb2-57b4bf265daa",
    "deepnote_cell_type": "code"
   },
   "source": "optimizer = optim.SGD(model.parameters(), lr=0.003)\nimages, labels = next(iter(trainloader))\nimages.resize_(16, 784)\n\nepochs = 5\nprint_every = 40\n\nfor e in range(epochs):\n    running_loss = 0\n    print(f\"Epoch: {e+1}/{epochs}\")\n\n    for i, (images, labels) in enumerate(iter(trainloader)):\n\n        # Flatten MNIST images into a 784 long vector\n        images.resize_(images.size()[0], 784)\n        \n        optimizer.zero_grad()\n        \n        output = model.forward(images)   # 1) Forward pass\n        loss = criterion(output, labels) # 2) Compute loss\n        loss.backward()                  # 3) Backward pass\n        optimizer.step()                 # 4) Update model\n        \n        running_loss += loss.item()\n        \n        if i % print_every == 0:\n            print(f\"\\tIteration: {i}\\t Loss: {running_loss/print_every:.4f}\")\n            running_loss = 0",
   "execution_count": null,
   "outputs": [
    {
     "output_type": "stream",
     "text": "Epoch: 1/5\n\tIteration: 0\t Loss: 0.0575\n\tIteration: 40\t Loss: 2.3026\n\tIteration: 80\t Loss: 2.3026\n\tIteration: 120\t Loss: 2.3028\n\tIteration: 160\t Loss: 2.3025\n\tIteration: 200\t Loss: 2.3016\n\tIteration: 240\t Loss: 2.3016\n\tIteration: 280\t Loss: 2.3012\n\tIteration: 320\t Loss: 2.3021\n\tIteration: 360\t Loss: 2.3022\n\tIteration: 400\t Loss: 2.3016\n\tIteration: 440\t Loss: 2.3024\n\tIteration: 480\t Loss: 2.3016\n\tIteration: 520\t Loss: 2.3019\n\tIteration: 560\t Loss: 2.3023\n\tIteration: 600\t Loss: 2.3022\n\tIteration: 640\t Loss: 2.3016\n\tIteration: 680\t Loss: 2.3014\n\tIteration: 720\t Loss: 2.3011\n\tIteration: 760\t Loss: 2.3016\n\tIteration: 800\t Loss: 2.3027\n\tIteration: 840\t Loss: 2.3012\n\tIteration: 880\t Loss: 2.3020\n\tIteration: 920\t Loss: 2.3030\n\tIteration: 960\t Loss: 2.3018\n\tIteration: 1000\t Loss: 2.3020\n\tIteration: 1040\t Loss: 2.3018\n\tIteration: 1080\t Loss: 2.3028\n\tIteration: 1120\t Loss: 2.3010\n\tIteration: 1160\t Loss: 2.3017\n\tIteration: 1200\t Loss: 2.3019\n\tIteration: 1240\t Loss: 2.3019\n\tIteration: 1280\t Loss: 2.3007\n\tIteration: 1320\t Loss: 2.3011\n\tIteration: 1360\t Loss: 2.3019\n\tIteration: 1400\t Loss: 2.3011\n\tIteration: 1440\t Loss: 2.3003\n\tIteration: 1480\t Loss: 2.3009\n\tIteration: 1520\t Loss: 2.3005\n\tIteration: 1560\t Loss: 2.3015\n\tIteration: 1600\t Loss: 2.3013\n\tIteration: 1640\t Loss: 2.3016\n\tIteration: 1680\t Loss: 2.3011\n\tIteration: 1720\t Loss: 2.3001\n\tIteration: 1760\t Loss: 2.3008\n\tIteration: 1800\t Loss: 2.3005\n\tIteration: 1840\t Loss: 2.3003\n\tIteration: 1880\t Loss: 2.3012\n\tIteration: 1920\t Loss: 2.3003\n\tIteration: 1960\t Loss: 2.2999\n\tIteration: 2000\t Loss: 2.3006\n\tIteration: 2040\t Loss: 2.3013\n\tIteration: 2080\t Loss: 2.3001\n\tIteration: 2120\t Loss: 2.3010\n\tIteration: 2160\t Loss: 2.3008\n\tIteration: 2200\t Loss: 2.3010\n\tIteration: 2240\t Loss: 2.2998\n\tIteration: 2280\t Loss: 2.3008\n\tIteration: 2320\t Loss: 2.3001\n\tIteration: 2360\t Loss: 2.2999\n\tIteration: 2400\t Loss: 2.2997\n\tIteration: 2440\t Loss: 2.3008\n\tIteration: 2480\t Loss: 2.2996\n\tIteration: 2520\t Loss: 2.2995\n\tIteration: 2560\t Loss: 2.3002\n\tIteration: 2600\t Loss: 2.3002\n\tIteration: 2640\t Loss: 2.2998\n\tIteration: 2680\t Loss: 2.3008\n\tIteration: 2720\t Loss: 2.3001\n\tIteration: 2760\t Loss: 2.2989\n\tIteration: 2800\t Loss: 2.2999\n\tIteration: 2840\t Loss: 2.2994\n\tIteration: 2880\t Loss: 2.2991\n\tIteration: 2920\t Loss: 2.3002\n\tIteration: 2960\t Loss: 2.3002\n\tIteration: 3000\t Loss: 2.2994\n\tIteration: 3040\t Loss: 2.2996\n\tIteration: 3080\t Loss: 2.2989\n\tIteration: 3120\t Loss: 2.2992\n\tIteration: 3160\t Loss: 2.2989\n\tIteration: 3200\t Loss: 2.2996\n\tIteration: 3240\t Loss: 2.2991\n\tIteration: 3280\t Loss: 2.2993\n\tIteration: 3320\t Loss: 2.2998\n\tIteration: 3360\t Loss: 2.2995\n\tIteration: 3400\t Loss: 2.2989\n\tIteration: 3440\t Loss: 2.3001\n\tIteration: 3480\t Loss: 2.2997\n\tIteration: 3520\t Loss: 2.2999\n\tIteration: 3560\t Loss: 2.2998\n\tIteration: 3600\t Loss: 2.2992\n\tIteration: 3640\t Loss: 2.2974\n\tIteration: 3680\t Loss: 2.2974\n\tIteration: 3720\t Loss: 2.2979\nEpoch: 2/5\n\tIteration: 0\t Loss: 0.0574\n\tIteration: 40\t Loss: 2.2974\n\tIteration: 80\t Loss: 2.2991\n\tIteration: 120\t Loss: 2.2991\n\tIteration: 160\t Loss: 2.2997\n\tIteration: 200\t Loss: 2.2999\n\tIteration: 240\t Loss: 2.2964\n\tIteration: 280\t Loss: 2.2982\n\tIteration: 320\t Loss: 2.2982\n\tIteration: 360\t Loss: 2.2970\n\tIteration: 400\t Loss: 2.2968\n\tIteration: 440\t Loss: 2.2985\n\tIteration: 480\t Loss: 2.2986\n\tIteration: 520\t Loss: 2.2976\n\tIteration: 560\t Loss: 2.2978\n\tIteration: 600\t Loss: 2.2988\n\tIteration: 640\t Loss: 2.2979\n\tIteration: 680\t Loss: 2.2979\n\tIteration: 720\t Loss: 2.2982\n\tIteration: 760\t Loss: 2.2984\n\tIteration: 800\t Loss: 2.2995\n\tIteration: 840\t Loss: 2.2984\n\tIteration: 880\t Loss: 2.2954\n\tIteration: 920\t Loss: 2.2963\n\tIteration: 960\t Loss: 2.2974\n\tIteration: 1000\t Loss: 2.2957\n\tIteration: 1040\t Loss: 2.2970\n\tIteration: 1080\t Loss: 2.2968\n\tIteration: 1120\t Loss: 2.2957\n\tIteration: 1160\t Loss: 2.2966\n\tIteration: 1200\t Loss: 2.2965\n\tIteration: 1240\t Loss: 2.2980\n\tIteration: 1280\t Loss: 2.2966\n\tIteration: 1320\t Loss: 2.2959\n\tIteration: 1360\t Loss: 2.2958\n\tIteration: 1400\t Loss: 2.2972\n\tIteration: 1440\t Loss: 2.2956\n\tIteration: 1480\t Loss: 2.2954\n\tIteration: 1520\t Loss: 2.2949\n\tIteration: 1560\t Loss: 2.2964\n\tIteration: 1600\t Loss: 2.2952\n\tIteration: 1640\t Loss: 2.2956\n\tIteration: 1680\t Loss: 2.2954\n\tIteration: 1720\t Loss: 2.2935\n\tIteration: 1760\t Loss: 2.2936\n\tIteration: 1800\t Loss: 2.2921\n\tIteration: 1840\t Loss: 2.2941\n\tIteration: 1880\t Loss: 2.2962\n\tIteration: 1920\t Loss: 2.2935\n\tIteration: 1960\t Loss: 2.2938\n\tIteration: 2000\t Loss: 2.2964\n\tIteration: 2040\t Loss: 2.2933\n\tIteration: 2080\t Loss: 2.2932\n\tIteration: 2120\t Loss: 2.2910\n\tIteration: 2160\t Loss: 2.2942\n\tIteration: 2200\t Loss: 2.2936\n\tIteration: 2240\t Loss: 2.2924\n\tIteration: 2280\t Loss: 2.2931\n\tIteration: 2320\t Loss: 2.2931\n\tIteration: 2360\t Loss: 2.2942\n\tIteration: 2400\t Loss: 2.2945\n\tIteration: 2440\t Loss: 2.2933\n\tIteration: 2480\t Loss: 2.2922\n\tIteration: 2520\t Loss: 2.2918\n\tIteration: 2560\t Loss: 2.2889\n\tIteration: 2600\t Loss: 2.2876\n\tIteration: 2640\t Loss: 2.2893\n\tIteration: 2680\t Loss: 2.2913\n\tIteration: 2720\t Loss: 2.2918\n\tIteration: 2760\t Loss: 2.2899\n\tIteration: 2800\t Loss: 2.2874\n\tIteration: 2840\t Loss: 2.2901\n\tIteration: 2880\t Loss: 2.2896\n\tIteration: 2920\t Loss: 2.2881\n\tIteration: 2960\t Loss: 2.2888\n\tIteration: 3000\t Loss: 2.2865\n\tIteration: 3040\t Loss: 2.2863\n\tIteration: 3080\t Loss: 2.2855\n\tIteration: 3120\t Loss: 2.2881\n\tIteration: 3160\t Loss: 2.2883\n\tIteration: 3200\t Loss: 2.2851\n\tIteration: 3240\t Loss: 2.2867\n\tIteration: 3280\t Loss: 2.2863\n\tIteration: 3320\t Loss: 2.2834\n\tIteration: 3360\t Loss: 2.2846\n\tIteration: 3400\t Loss: 2.2834\n\tIteration: 3440\t Loss: 2.2864\n\tIteration: 3480\t Loss: 2.2863\n\tIteration: 3520\t Loss: 2.2870\n\tIteration: 3560\t Loss: 2.2809\n\tIteration: 3600\t Loss: 2.2742\n\tIteration: 3640\t Loss: 2.2743\n\tIteration: 3680\t Loss: 2.2755\n\tIteration: 3720\t Loss: 2.2774\nEpoch: 3/5\n\tIteration: 0\t Loss: 0.0571\n\tIteration: 40\t Loss: 2.2794\n\tIteration: 80\t Loss: 2.2788\n\tIteration: 120\t Loss: 2.2740\n\tIteration: 160\t Loss: 2.2806\n\tIteration: 200\t Loss: 2.2783\n\tIteration: 240\t Loss: 2.2785\n\tIteration: 280\t Loss: 2.2719\n\tIteration: 320\t Loss: 2.2655\n\tIteration: 360\t Loss: 2.2635\n\tIteration: 400\t Loss: 2.2657\n\tIteration: 440\t Loss: 2.2657\n\tIteration: 480\t Loss: 2.2625\n\tIteration: 520\t Loss: 2.2683\n\tIteration: 560\t Loss: 2.2659\n\tIteration: 600\t Loss: 2.2607\n\tIteration: 640\t Loss: 2.2601\n\tIteration: 680\t Loss: 2.2692\n\tIteration: 720\t Loss: 2.2599\n\tIteration: 760\t Loss: 2.2591\n\tIteration: 800\t Loss: 2.2652\n\tIteration: 840\t Loss: 2.2574\n\tIteration: 880\t Loss: 2.2552\n\tIteration: 920\t Loss: 2.2498\n\tIteration: 960\t Loss: 2.2537\n\tIteration: 1000\t Loss: 2.2507\n\tIteration: 1040\t Loss: 2.2616\n\tIteration: 1080\t Loss: 2.2445\n\tIteration: 1120\t Loss: 2.2474\n\tIteration: 1160\t Loss: 2.2560\n\tIteration: 1200\t Loss: 2.2541\n\tIteration: 1240\t Loss: 2.2339\n\tIteration: 1280\t Loss: 2.2274\n\tIteration: 1320\t Loss: 2.2371\n\tIteration: 1360\t Loss: 2.2272\n\tIteration: 1400\t Loss: 2.2509\n\tIteration: 1440\t Loss: 2.2324\n\tIteration: 1480\t Loss: 2.2326\n\tIteration: 1520\t Loss: 2.2361\n\tIteration: 1560\t Loss: 2.2501\n\tIteration: 1600\t Loss: 2.2353\n\tIteration: 1640\t Loss: 2.2341\n\tIteration: 1680\t Loss: 2.2311\n\tIteration: 1720\t Loss: 2.2307\n\tIteration: 1760\t Loss: 2.2123\n\tIteration: 1800\t Loss: 2.2331\n\tIteration: 1840\t Loss: 2.2391\n\tIteration: 1880\t Loss: 2.2282\n\tIteration: 1920\t Loss: 2.2227\n\tIteration: 1960\t Loss: 2.2243\n\tIteration: 2000\t Loss: 2.2196\n\tIteration: 2040\t Loss: 2.2272\n\tIteration: 2080\t Loss: 2.2306\n\tIteration: 2120\t Loss: 2.2183\n\tIteration: 2160\t Loss: 2.2105\n\tIteration: 2200\t Loss: 2.2087\n\tIteration: 2240\t Loss: 2.2186\n\tIteration: 2280\t Loss: 2.1969\n\tIteration: 2320\t Loss: 2.2170\n\tIteration: 2360\t Loss: 2.2146\n\tIteration: 2400\t Loss: 2.2246\n\tIteration: 2440\t Loss: 2.2037\n\tIteration: 2480\t Loss: 2.1959\n\tIteration: 2520\t Loss: 2.2117\n\tIteration: 2560\t Loss: 2.2117\n\tIteration: 2600\t Loss: 2.2014\n\tIteration: 2640\t Loss: 2.2102\n\tIteration: 2680\t Loss: 2.2010\n\tIteration: 2720\t Loss: 2.2101\n\tIteration: 2760\t Loss: 2.1908\n\tIteration: 2800\t Loss: 2.1957\n\tIteration: 2840\t Loss: 2.1874\n\tIteration: 2880\t Loss: 2.1943\n\tIteration: 2920\t Loss: 2.2105\n\tIteration: 2960\t Loss: 2.2078\n\tIteration: 3000\t Loss: 2.1897\n\tIteration: 3040\t Loss: 2.2125\n\tIteration: 3080\t Loss: 2.1845\n\tIteration: 3120\t Loss: 2.1805\n\tIteration: 3160\t Loss: 2.1862\n\tIteration: 3200\t Loss: 2.1889\n\tIteration: 3240\t Loss: 2.1984\n\tIteration: 3280\t Loss: 2.1597\n\tIteration: 3320\t Loss: 2.1927\n\tIteration: 3360\t Loss: 2.1799\n\tIteration: 3400\t Loss: 2.1827\n\tIteration: 3440\t Loss: 2.1843\n\tIteration: 3480\t Loss: 2.1639\n\tIteration: 3520\t Loss: 2.1596\n\tIteration: 3560\t Loss: 2.1896\n\tIteration: 3600\t Loss: 2.1711\n\tIteration: 3640\t Loss: 2.1789\n\tIteration: 3680\t Loss: 2.1800\n\tIteration: 3720\t Loss: 2.1675\nEpoch: 4/5\n\tIteration: 0\t Loss: 0.0523\n\tIteration: 40\t Loss: 2.1576\n\tIteration: 80\t Loss: 2.1411\n\tIteration: 120\t Loss: 2.1537\n\tIteration: 160\t Loss: 2.1426\n\tIteration: 200\t Loss: 2.1639\n\tIteration: 240\t Loss: 2.1519\n\tIteration: 280\t Loss: 2.1729\n\tIteration: 320\t Loss: 2.1615\n\tIteration: 360\t Loss: 2.1574\n\tIteration: 400\t Loss: 2.1398\n\tIteration: 440\t Loss: 2.1352\n\tIteration: 480\t Loss: 2.1141\n\tIteration: 520\t Loss: 2.1366\n\tIteration: 560\t Loss: 2.1169\n\tIteration: 600\t Loss: 2.1312\n\tIteration: 640\t Loss: 2.1545\n\tIteration: 680\t Loss: 2.1398\n\tIteration: 720\t Loss: 2.1100\n\tIteration: 760\t Loss: 2.1378\n\tIteration: 800\t Loss: 2.1371\n\tIteration: 840\t Loss: 2.1409\n\tIteration: 880\t Loss: 2.1313\n\tIteration: 920\t Loss: 2.1394\n\tIteration: 960\t Loss: 2.1076\n\tIteration: 1000\t Loss: 2.1135\n\tIteration: 1040\t Loss: 2.1254\n\tIteration: 1080\t Loss: 2.1111\n\tIteration: 1120\t Loss: 2.1025\n\tIteration: 1160\t Loss: 2.1088\n\tIteration: 1200\t Loss: 2.1026\n\tIteration: 1240\t Loss: 2.1002\n\tIteration: 1280\t Loss: 2.0837\n\tIteration: 1320\t Loss: 2.1039\n\tIteration: 1360\t Loss: 2.0780\n\tIteration: 1400\t Loss: 2.0685\n\tIteration: 1440\t Loss: 2.0909\n\tIteration: 1480\t Loss: 2.0865\n\tIteration: 1520\t Loss: 2.0800\n\tIteration: 1560\t Loss: 2.0703\n\tIteration: 1600\t Loss: 2.0804\n\tIteration: 1640\t Loss: 2.0967\n\tIteration: 1680\t Loss: 2.0945\n\tIteration: 1720\t Loss: 2.0994\n\tIteration: 1760\t Loss: 2.0750\n\tIteration: 1800\t Loss: 2.0968\n\tIteration: 1840\t Loss: 2.0447\n\tIteration: 1880\t Loss: 2.0774\n\tIteration: 1920\t Loss: 2.0609\n\tIteration: 1960\t Loss: 2.0874\n\tIteration: 2000\t Loss: 2.0565\n\tIteration: 2040\t Loss: 2.0886\n\tIteration: 2080\t Loss: 2.0667\n\tIteration: 2120\t Loss: 2.0550\n\tIteration: 2160\t Loss: 2.0763\n\tIteration: 2200\t Loss: 2.0328\n\tIteration: 2240\t Loss: 2.0628\n\tIteration: 2280\t Loss: 2.0425\n\tIteration: 2320\t Loss: 2.0654\n\tIteration: 2360\t Loss: 2.0449\n\tIteration: 2400\t Loss: 2.0808\n\tIteration: 2440\t Loss: 2.0471\n\tIteration: 2480\t Loss: 2.0444\n\tIteration: 2520\t Loss: 2.0576\n\tIteration: 2560\t Loss: 2.0569\n\tIteration: 2600\t Loss: 2.0562\n\tIteration: 2640\t Loss: 2.0582\n\tIteration: 2680\t Loss: 2.0461\n\tIteration: 2720\t Loss: 2.0584\n\tIteration: 2760\t Loss: 2.0545\n\tIteration: 2800\t Loss: 2.0520\n\tIteration: 2840\t Loss: 2.0500\n\tIteration: 2880\t Loss: 2.0384\n\tIteration: 2920\t Loss: 2.0330\n\tIteration: 2960\t Loss: 2.0451\n\tIteration: 3000\t Loss: 2.0393\n\tIteration: 3040\t Loss: 2.0406\n\tIteration: 3080\t Loss: 2.0304\n\tIteration: 3120\t Loss: 2.0336\n\tIteration: 3160\t Loss: 2.0337\n\tIteration: 3200\t Loss: 2.0239\n\tIteration: 3240\t Loss: 2.0258\n\tIteration: 3280\t Loss: 2.0528\n\tIteration: 3320\t Loss: 2.0297\n\tIteration: 3360\t Loss: 2.0325\n\tIteration: 3400\t Loss: 2.0346\n\tIteration: 3440\t Loss: 2.0395\n\tIteration: 3480\t Loss: 2.0406\n\tIteration: 3520\t Loss: 2.0438\n\tIteration: 3560\t Loss: 2.0094\n\tIteration: 3600\t Loss: 2.0221\n\tIteration: 3640\t Loss: 2.0264\n\tIteration: 3680\t Loss: 2.0368\n\tIteration: 3720\t Loss: 2.0301\nEpoch: 5/5\n\tIteration: 0\t Loss: 0.0496\n\tIteration: 40\t Loss: 1.9924\n\tIteration: 80\t Loss: 2.0240\n\tIteration: 120\t Loss: 2.0226\n\tIteration: 160\t Loss: 2.0333\n\tIteration: 200\t Loss: 2.0129\n\tIteration: 240\t Loss: 2.0157\n\tIteration: 280\t Loss: 2.0233\n\tIteration: 320\t Loss: 2.0149\n\tIteration: 360\t Loss: 2.0110\n\tIteration: 400\t Loss: 1.9834\n\tIteration: 440\t Loss: 2.0014\n\tIteration: 480\t Loss: 1.9902\n\tIteration: 520\t Loss: 2.0055\n\tIteration: 560\t Loss: 1.9893\n\tIteration: 600\t Loss: 1.9899\n\tIteration: 640\t Loss: 1.9736\n\tIteration: 680\t Loss: 2.0037\n\tIteration: 720\t Loss: 1.9883\n\tIteration: 760\t Loss: 1.9767\n\tIteration: 800\t Loss: 1.9664\n\tIteration: 840\t Loss: 2.0086\n\tIteration: 880\t Loss: 1.9852\n\tIteration: 920\t Loss: 1.9738\n\tIteration: 960\t Loss: 1.9613\n\tIteration: 1000\t Loss: 1.9825\n\tIteration: 1040\t Loss: 1.9687\n\tIteration: 1080\t Loss: 1.9792\n\tIteration: 1120\t Loss: 1.9850\n\tIteration: 1160\t Loss: 1.9507\n\tIteration: 1200\t Loss: 1.9703\n\tIteration: 1240\t Loss: 2.0044\n\tIteration: 1280\t Loss: 1.9432\n\tIteration: 1320\t Loss: 1.9437\n\tIteration: 1360\t Loss: 1.9296\n\tIteration: 1400\t Loss: 1.9371\n\tIteration: 1440\t Loss: 1.9282\n\tIteration: 1480\t Loss: 1.9525\n\tIteration: 1520\t Loss: 1.9439\n\tIteration: 1560\t Loss: 1.9490\n\tIteration: 1600\t Loss: 1.9393\n\tIteration: 1640\t Loss: 1.9257\n\tIteration: 1680\t Loss: 1.9280\n\tIteration: 1720\t Loss: 1.9313\n\tIteration: 1760\t Loss: 1.9385\n\tIteration: 1800\t Loss: 1.9148\n\tIteration: 1840\t Loss: 1.9195\n\tIteration: 1880\t Loss: 1.9132\n\tIteration: 1920\t Loss: 1.9079\n\tIteration: 1960\t Loss: 1.8910\n\tIteration: 2000\t Loss: 1.9068\n\tIteration: 2040\t Loss: 1.9076\n\tIteration: 2080\t Loss: 1.8928\n\tIteration: 2120\t Loss: 1.8973\n\tIteration: 2160\t Loss: 1.8959\n\tIteration: 2200\t Loss: 1.8677\n\tIteration: 2240\t Loss: 1.9076\n\tIteration: 2280\t Loss: 1.8819\n\tIteration: 2320\t Loss: 1.8826\n\tIteration: 2360\t Loss: 1.8562\n\tIteration: 2400\t Loss: 1.8715\n\tIteration: 2440\t Loss: 1.8680\n\tIteration: 2480\t Loss: 1.8585\n\tIteration: 2520\t Loss: 1.8708\n\tIteration: 2560\t Loss: 1.8504\n\tIteration: 2600\t Loss: 1.8560\n\tIteration: 2640\t Loss: 1.8509\n\tIteration: 2680\t Loss: 1.8671\n\tIteration: 2720\t Loss: 1.8573\n\tIteration: 2760\t Loss: 1.8503\n\tIteration: 2800\t Loss: 1.8380\n\tIteration: 2840\t Loss: 1.8430\n\tIteration: 2880\t Loss: 1.8428\n\tIteration: 2920\t Loss: 1.8614\n\tIteration: 2960\t Loss: 1.8405\n\tIteration: 3000\t Loss: 1.8244\n\tIteration: 3040\t Loss: 1.8512\n\tIteration: 3080\t Loss: 1.8289\n\tIteration: 3120\t Loss: 1.8348\n\tIteration: 3160\t Loss: 1.8207\n\tIteration: 3200\t Loss: 1.8134\n\tIteration: 3240\t Loss: 1.8433\n\tIteration: 3280\t Loss: 1.8209\n\tIteration: 3320\t Loss: 1.8263\n\tIteration: 3360\t Loss: 1.8309\n\tIteration: 3400\t Loss: 1.8141\n\tIteration: 3440\t Loss: 1.7908\n\tIteration: 3480\t Loss: 1.8068\n\tIteration: 3520\t Loss: 1.8061\n\tIteration: 3560\t Loss: 1.7859\n\tIteration: 3600\t Loss: 1.8174\n\tIteration: 3640\t Loss: 1.7887\n\tIteration: 3680\t Loss: 1.8105\n\tIteration: 3720\t Loss: 1.7662\n",
     "name": "stdout"
    }
   ]
  },
  {
   "cell_type": "code",
   "metadata": {
    "colab": {
     "base_uri": "https://localhost:8080/",
     "height": 407
    },
    "id": "LfR67N3hSgfq",
    "outputId": "c82d13a2-812c-4b61-8f0c-094fafdbb012",
    "cell_id": "00065-52ad3581-4dfe-4a1b-b3ff-2b01ba7f2577",
    "deepnote_cell_type": "code"
   },
   "source": "# Run this cell with your model to make sure it works and predicts well for the validation data\nimages, labels = next(iter(testloader))\nimages.resize_(images.shape[0], 1, 784)\nps = model.forward(images[0,:])\nview_classify(images[0].view(1, 28, 28), ps)\n\nimages, labels = next(iter(trainloader))\nimages.resize_(images.shape[0], 1, 784)\nps = model.forward(images[0,:])\n\nview_classify(images[0].view(1, 28, 28), ps)",
   "execution_count": null,
   "outputs": [
    {
     "output_type": "display_data",
     "data": {
      "image/png": "[encoded data removed]",
      "text/plain": "<Figure size 432x648 with 2 Axes>"
     },
     "metadata": {
      "tags": [],
      "image/png": {
       "width": 698,
       "height": 391
      },
      "needs_background": "light"
     }
    },
    {
     "output_type": "display_data",
     "data": {
      "image/png": "[encoded data removed]",
      "text/plain": "<Figure size 432x648 with 2 Axes>"
     },
     "metadata": {
      "tags": [],
      "image/png": {
       "width": 698,
       "height": 391
      },
      "needs_background": "light"
     }
    }
   ]
  },
  {
   "cell_type": "markdown",
   "source": "<div style=\"background:#222222; color:#ffffff; padding:20px\">\n  <h3 style=\"color:#01ff84; margin-top:4px\">Exercise 3:</h3>\n  <p>Write the code for adding <strong style=\"color:#01ff84\">Early Stopping with patience = 2</strong> to the training loop from scratch.</p>\n  <p><strong style=\"color:#01ff84\">Hint:</strong> Monitor the Validation loss every epoch, and if in 2 epochs, the validation loss does not improve, stop the training loop with <code>break</code>.</p>\n<div>",
   "metadata": {
    "id": "3Jh1BsT_Sgfq",
    "cell_id": "00066-30d72c08-d00b-4ed1-91e8-205cc01271ba",
    "deepnote_cell_type": "markdown"
   }
  },
  {
   "cell_type": "code",
   "metadata": {
    "id": "PdG34VLmSgfq",
    "cell_id": "00067-811f143e-5036-43fa-a8c7-e13f93a59002",
    "deepnote_cell_type": "code"
   },
   "source": "## TODO: Your training loop here",
   "execution_count": null,
   "outputs": []
  },
  {
   "cell_type": "markdown",
   "source": "<div style=\"background:#222222; color:#ffffff; padding:20px\">\n  <h3 style=\"color:#01ff84; margin-top:4px\">Optional:</h3>\n  <p>Don't you want to use MNIST? Try EMNIST instead! Maybe using the first 10 letters of the alphabet!</p>\n",
   "metadata": {
    "id": "LVhotYjZSgfr",
    "cell_id": "00068-182e8809-708c-4dca-b953-ac5498a3d094",
    "deepnote_cell_type": "markdown"
   }
  },
  {
   "cell_type": "code",
   "metadata": {
    "ExecuteTime": {
     "end_time": "2021-05-26T22:35:26.981584Z",
     "start_time": "2021-05-26T22:35:26.954522Z"
    },
    "id": "TK2rPtSSSgfr",
    "cell_id": "00069-7c199d4f-10b2-4f4e-a381-a0dfb44eb403",
    "deepnote_cell_type": "code"
   },
   "source": "# we will need a custom visualization function\ndef view_classify_emnist(img, ps):\n\n    ps = ps.data.numpy().squeeze()\n\n    fig, (ax1, ax2) = plt.subplots(figsize=(6,9), ncols=2)\n    ax1.imshow(img.resize_(1, 28, 28).numpy().squeeze())\n    ax1.axis('off')\n    ax2.barh(list(\"abcdefghij\"), ps)\n    ax2.set_aspect(0.1)\n    ax2.set_yticks(np.arange(10))\n    ax2.set_yticklabels(np.arange(10))\n    ax2.set_title('Class Probability')\n    ax2.set_xlim(0, 1.1)",
   "execution_count": null,
   "outputs": []
  },
  {
   "cell_type": "code",
   "metadata": {
    "ExecuteTime": {
     "end_time": "2021-05-26T22:50:57.571260Z",
     "start_time": "2021-05-26T22:50:57.322172Z"
    },
    "colab": {
     "base_uri": "https://localhost:8080/",
     "height": 234,
     "referenced_widgets": [
      "3b6187a6105c44f59afd98bb52763ec4",
      "d7a404b03b8946c6ae10773da9d76b22",
      "152caa6e07e54eeb918dc8a6f8543ae7",
      "d688fa57b5754ec693897ec34bd8ab3a",
      "bc2cf5513e434708be6024455826e462",
      "26aba687288f422dbeb4f76892647cd4",
      "01ae83bc35914f0f886cd97cf9914d8a",
      "0f38e98904e944bca36af72c27c8cd0b"
     ]
    },
    "id": "yFN8AhWlSgfr",
    "outputId": "2f5cbd2a-b071-4c04-aa32-8a2df9056f89",
    "cell_id": "00070-93197b8f-5c0c-476b-a0ba-fe61ca1013db",
    "deepnote_cell_type": "code"
   },
   "source": "# Define a transform to normalize the data (Preprocessing)\ntransform = transforms.Compose([transforms.ToTensor(), transforms.Normalize((0.5), (0.5)) ])\ndef my_collate(batch):\n    modified_batch = []\n    for item in batch:\n        image, label = item\n        if label < 10: # only the first ten letters\n            modified_batch.append(item)\n    return torch.utils.data._utils.collate.default_collate(modified_batch)\n\n\n# Download and load the training data\ntrainset    = datasets.EMNIST('EMNIST_data/', split=\"letters\", download=True, train=True, transform=transform)\ntrainloader = torch.utils.data.DataLoader(trainset, batch_size=16, shuffle=True, collate_fn=my_collate)\n\n# Download and load the test data\ntestset    = datasets.EMNIST('EMNIST_data/', split=\"letters\", download=True, train=False, transform=transform)\ntestloader = torch.utils.data.DataLoader(testset, batch_size=16, shuffle=True, collate_fn=my_collate)",
   "execution_count": null,
   "outputs": [
    {
     "output_type": "stream",
     "text": "Downloading and extracting zip archive\nDownloading https://www.itl.nist.gov/iaui/vip/cs_links/EMNIST/gzip.zip to EMNIST_data/EMNIST/raw/emnist.zip\n",
     "name": "stdout"
    },
    {
     "output_type": "display_data",
     "data": {
      "application/vnd.jupyter.widget-view+json": {
       "model_id": "3b6187a6105c44f59afd98bb52763ec4",
       "version_minor": 0,
       "version_major": 2
      },
      "text/plain": "HBox(children=(FloatProgress(value=0.0, max=561753746.0), HTML(value='')))"
     },
     "metadata": {
      "tags": []
     }
    },
    {
     "output_type": "stream",
     "text": "\nExtracting EMNIST_data/EMNIST/raw/emnist.zip to EMNIST_data/EMNIST/raw\nProcessing byclass\nProcessing bymerge\nProcessing balanced\nProcessing letters\nProcessing digits\nProcessing mnist\nDone!\n",
     "name": "stdout"
    }
   ]
  },
  {
   "cell_type": "code",
   "metadata": {
    "ExecuteTime": {
     "end_time": "2021-05-26T22:51:02.493175Z",
     "start_time": "2021-05-26T22:51:02.464301Z"
    },
    "id": "KPO0Ul6NSgfr",
    "cell_id": "00071-35a8a8eb-f958-42ba-ae54-79d5ff977f07",
    "deepnote_cell_type": "code"
   },
   "source": "dataiter = iter(trainloader)\nimages, labels = dataiter.next()",
   "execution_count": null,
   "outputs": []
  },
  {
   "cell_type": "code",
   "metadata": {
    "ExecuteTime": {
     "end_time": "2021-05-26T22:51:03.118421Z",
     "start_time": "2021-05-26T22:51:02.978678Z"
    },
    "colab": {
     "base_uri": "https://localhost:8080/",
     "height": 265
    },
    "id": "9XG6npNgSgfr",
    "outputId": "89d79af0-db3b-4bce-c550-1b8e28e31001",
    "cell_id": "00072-dc354fae-8bd5-46d0-9be0-f27a32d03b96",
    "deepnote_cell_type": "code"
   },
   "source": "plt.imshow(images[5].numpy().squeeze(), cmap='Greys_r');",
   "execution_count": null,
   "outputs": [
    {
     "output_type": "display_data",
     "data": {
      "image/png": "[encoded data removed]",
      "text/plain": "<Figure size 432x288 with 1 Axes>"
     },
     "metadata": {
      "tags": [],
      "image/png": {
       "width": 503,
       "height": 496
      },
      "needs_background": "light"
     }
    }
   ]
  },
  {
   "cell_type": "code",
   "metadata": {
    "ExecuteTime": {
     "end_time": "2021-05-26T22:51:06.653639Z",
     "start_time": "2021-05-26T22:51:06.647991Z"
    },
    "colab": {
     "base_uri": "https://localhost:8080/"
    },
    "id": "kKYIlUW8Sgfs",
    "outputId": "f19db49d-27b0-4555-c74b-265e8fbf5810",
    "cell_id": "00073-5895e5c6-7784-4320-9652-f5389b331f6f",
    "deepnote_cell_type": "code"
   },
   "source": "labels",
   "execution_count": null,
   "outputs": [
    {
     "output_type": "execute_result",
     "data": {
      "text/plain": "tensor([3, 6, 5, 6, 1, 3, 6])"
     },
     "metadata": {
      "tags": []
     },
     "execution_count": 92
    }
   ]
  },
  {
   "cell_type": "code",
   "metadata": {
    "id": "WhNm0frQSgfs",
    "cell_id": "00074-d888c28f-7f98-4364-a406-5d479f07b19b",
    "deepnote_cell_type": "code"
   },
   "source": "",
   "execution_count": null,
   "outputs": []
  },
  {
   "cell_type": "markdown",
   "source": "<a style='text-decoration:none;line-height:16px;display:flex;color:#5B5B62;padding:10px;justify-content:end;' href='https://deepnote.com?utm_source=created-in-deepnote-cell&projectId=796ba814-f632-4502-b0d7-7e2f8f9e546d' target=\"_blank\">\n<img alt='Created in deepnote.com' style='display:inline;max-height:16px;margin:0px;margin-right:7.5px;' src='data:image/svg+xml;base64,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' > </img>\nCreated in <span style='font-weight:600;margin-left:4px;'>Deepnote</span></a>",
   "metadata": {
    "tags": [],
    "created_in_deepnote_cell": true,
    "deepnote_cell_type": "markdown"
   }
  }
 ],
 "nbformat": 4,
 "nbformat_minor": 0,
 "metadata": {
  "kernelspec": {
   "display_name": "Python 3",
   "language": "python",
   "name": "python3"
  },
  "language_info": {
   "codemirror_mode": {
    "name": "ipython",
    "version": 3
   },
   "file_extension": ".py",
   "mimetype": "text/x-python",
   "name": "python",
   "nbconvert_exporter": "python",
   "pygments_lexer": "ipython3",
   "version": "3.8.5"
  },
  "varInspector": {
   "cols": {
    "lenName": 16,
    "lenType": 16,
    "lenVar": 40
   },
   "kernels_config": {
    "python": {
     "delete_cmd_postfix": "",
     "delete_cmd_prefix": "del ",
     "library": "var_list.py",
     "varRefreshCmd": "print(var_dic_list())"
    },
    "r": {
     "delete_cmd_postfix": ") ",
     "delete_cmd_prefix": "rm(",
     "library": "var_list.r",
     "varRefreshCmd": "cat(var_dic_list()) "
    }
   },
   "types_to_exclude": [
    "module",
    "function",
    "builtin_function_or_method",
    "instance",
    "_Feature"
   ],
   "window_display": false
  },
  "colab": {
   "name": "Pytorch_MNIST.ipynb",
   "provenance": [],
   "collapsed_sections": [],
   "toc_visible": true
  },
  "widgets": {
   "application/vnd.jupyter.widget-state+json": {
    "77690c69c99e457dbf266d65648e306c": {
     "model_module": "@jupyter-widgets/controls",
     "model_name": "HBoxModel",
     "state": {
      "_view_name": "HBoxView",
      "_dom_classes": [],
      "_model_name": "HBoxModel",
      "_view_module": "@jupyter-widgets/controls",
      "_model_module_version": "1.5.0",
      "_view_count": null,
      "_view_module_version": "1.5.0",
      "box_style": "",
      "layout": "IPY_MODEL_3f3521b959214aad97caa966ee423942",
      "_model_module": "@jupyter-widgets/controls",
      "children": [
       "IPY_MODEL_36321b8840d040bdacb3d805f1acd1a5",
       "IPY_MODEL_90300744eae144afa50725fdaad0fd7a"
      ]
     }
    },
    "3f3521b959214aad97caa966ee423942": {
     "model_module": "@jupyter-widgets/base",
     "model_name": "LayoutModel",
     "state": {
      "_view_name": "LayoutView",
      "grid_template_rows": null,
      "right": null,
      "justify_content": null,
      "_view_module": "@jupyter-widgets/base",
      "overflow": null,
      "_model_module_version": "1.2.0",
      "_view_count": null,
      "flex_flow": null,
      "width": null,
      "min_width": null,
      "border": null,
      "align_items": null,
      "bottom": null,
      "_model_module": "@jupyter-widgets/base",
      "top": null,
      "grid_column": null,
      "overflow_y": null,
      "overflow_x": null,
      "grid_auto_flow": null,
      "grid_area": null,
      "grid_template_columns": null,
      "flex": null,
      "_model_name": "LayoutModel",
      "justify_items": null,
      "grid_row": null,
      "max_height": null,
      "align_content": null,
      "visibility": null,
      "align_self": null,
      "height": null,
      "min_height": null,
      "padding": null,
      "grid_auto_rows": null,
      "grid_gap": null,
      "max_width": null,
      "order": null,
      "_view_module_version": "1.2.0",
      "grid_template_areas": null,
      "object_position": null,
      "object_fit": null,
      "grid_auto_columns": null,
      "margin": null,
      "display": null,
      "left": null
     }
    },
    "36321b8840d040bdacb3d805f1acd1a5": {
     "model_module": "@jupyter-widgets/controls",
     "model_name": "FloatProgressModel",
     "state": {
      "_view_name": "ProgressView",
      "style": "IPY_MODEL_c0643b93eadc4d26922b86b3aff5369b",
      "_dom_classes": [],
      "description": "",
      "_model_name": "FloatProgressModel",
      "bar_style": "success",
      "max": 9912422,
      "_view_module": "@jupyter-widgets/controls",
      "_model_module_version": "1.5.0",
      "value": 9912422,
      "_view_count": null,
      "_view_module_version": "1.5.0",
      "orientation": "horizontal",
      "min": 0,
      "description_tooltip": null,
      "_model_module": "@jupyter-widgets/controls",
      "layout": "IPY_MODEL_738a62072b2d49ba9a84d3aac38a1c6d"
     }
    },
    "90300744eae144afa50725fdaad0fd7a": {
     "model_module": "@jupyter-widgets/controls",
     "model_name": "HTMLModel",
     "state": {
      "_view_name": "HTMLView",
      "style": "IPY_MODEL_87587163ca024cc2bb37a1871c2bffab",
      "_dom_classes": [],
      "description": "",
      "_model_name": "HTMLModel",
      "placeholder": "​",
      "_view_module": "@jupyter-widgets/controls",
      "_model_module_version": "1.5.0",
      "value": " 9913344/? [36:50&lt;00:00, 4484.05it/s]",
      "_view_count": null,
      "_view_module_version": "1.5.0",
      "description_tooltip": null,
      "_model_module": "@jupyter-widgets/controls",
      "layout": "IPY_MODEL_49c283f48f8d460bb9c918b8024ce0a2"
     }
    },
    "c0643b93eadc4d26922b86b3aff5369b": {
     "model_module": "@jupyter-widgets/controls",
     "model_name": "ProgressStyleModel",
     "state": {
      "_view_name": "StyleView",
      "_model_name": "ProgressStyleModel",
      "description_width": "initial",
      "_view_module": "@jupyter-widgets/base",
      "_model_module_version": "1.5.0",
      "_view_count": null,
      "_view_module_version": "1.2.0",
      "bar_color": null,
      "_model_module": "@jupyter-widgets/controls"
     }
    },
    "738a62072b2d49ba9a84d3aac38a1c6d": {
     "model_module": "@jupyter-widgets/base",
     "model_name": "LayoutModel",
     "state": {
      "_view_name": "LayoutView",
      "grid_template_rows": null,
      "right": null,
      "justify_content": null,
      "_view_module": "@jupyter-widgets/base",
      "overflow": null,
      "_model_module_version": "1.2.0",
      "_view_count": null,
      "flex_flow": null,
      "width": null,
      "min_width": null,
      "border": null,
      "align_items": null,
      "bottom": null,
      "_model_module": "@jupyter-widgets/base",
      "top": null,
      "grid_column": null,
      "overflow_y": null,
      "overflow_x": null,
      "grid_auto_flow": null,
      "grid_area": null,
      "grid_template_columns": null,
      "flex": null,
      "_model_name": "LayoutModel",
      "justify_items": null,
      "grid_row": null,
      "max_height": null,
      "align_content": null,
      "visibility": null,
      "align_self": null,
      "height": null,
      "min_height": null,
      "padding": null,
      "grid_auto_rows": null,
      "grid_gap": null,
      "max_width": null,
      "order": null,
      "_view_module_version": "1.2.0",
      "grid_template_areas": null,
      "object_position": null,
      "object_fit": null,
      "grid_auto_columns": null,
      "margin": null,
      "display": null,
      "left": null
     }
    },
    "87587163ca024cc2bb37a1871c2bffab": {
     "model_module": "@jupyter-widgets/controls",
     "model_name": "DescriptionStyleModel",
     "state": {
      "_view_name": "StyleView",
      "_model_name": "DescriptionStyleModel",
      "description_width": "",
      "_view_module": "@jupyter-widgets/base",
      "_model_module_version": "1.5.0",
      "_view_count": null,
      "_view_module_version": "1.2.0",
      "_model_module": "@jupyter-widgets/controls"
     }
    },
    "49c283f48f8d460bb9c918b8024ce0a2": {
     "model_module": "@jupyter-widgets/base",
     "model_name": "LayoutModel",
     "state": {
      "_view_name": "LayoutView",
      "grid_template_rows": null,
      "right": null,
      "justify_content": null,
      "_view_module": "@jupyter-widgets/base",
      "overflow": null,
      "_model_module_version": "1.2.0",
      "_view_count": null,
      "flex_flow": null,
      "width": null,
      "min_width": null,
      "border": null,
      "align_items": null,
      "bottom": null,
      "_model_module": "@jupyter-widgets/base",
      "top": null,
      "grid_column": null,
      "overflow_y": null,
      "overflow_x": null,
      "grid_auto_flow": null,
      "grid_area": null,
      "grid_template_columns": null,
      "flex": null,
      "_model_name": "LayoutModel",
      "justify_items": null,
      "grid_row": null,
      "max_height": null,
      "align_content": null,
      "visibility": null,
      "align_self": null,
      "height": null,
      "min_height": null,
      "padding": null,
      "grid_auto_rows": null,
      "grid_gap": null,
      "max_width": null,
      "order": null,
      "_view_module_version": "1.2.0",
      "grid_template_areas": null,
      "object_position": null,
      "object_fit": null,
      "grid_auto_columns": null,
      "margin": null,
      "display": null,
      "left": null
     }
    },
    "dc07ac6a0cd1417eb61e091cc86fc6ce": {
     "model_module": "@jupyter-widgets/controls",
     "model_name": "HBoxModel",
     "state": {
      "_view_name": "HBoxView",
      "_dom_classes": [],
      "_model_name": "HBoxModel",
      "_view_module": "@jupyter-widgets/controls",
      "_model_module_version": "1.5.0",
      "_view_count": null,
      "_view_module_version": "1.5.0",
      "box_style": "",
      "layout": "IPY_MODEL_73edf9765dd7464eba3accc50169ff9b",
      "_model_module": "@jupyter-widgets/controls",
      "children": [
       "IPY_MODEL_e340400112de47bb856f04233cf53f9e",
       "IPY_MODEL_c8d25f97118c42cfac0a07acacd6ad37"
      ]
     }
    },
    "73edf9765dd7464eba3accc50169ff9b": {
     "model_module": "@jupyter-widgets/base",
     "model_name": "LayoutModel",
     "state": {
      "_view_name": "LayoutView",
      "grid_template_rows": null,
      "right": null,
      "justify_content": null,
      "_view_module": "@jupyter-widgets/base",
      "overflow": null,
      "_model_module_version": "1.2.0",
      "_view_count": null,
      "flex_flow": null,
      "width": null,
      "min_width": null,
      "border": null,
      "align_items": null,
      "bottom": null,
      "_model_module": "@jupyter-widgets/base",
      "top": null,
      "grid_column": null,
      "overflow_y": null,
      "overflow_x": null,
      "grid_auto_flow": null,
      "grid_area": null,
      "grid_template_columns": null,
      "flex": null,
      "_model_name": "LayoutModel",
      "justify_items": null,
      "grid_row": null,
      "max_height": null,
      "align_content": null,
      "visibility": null,
      "align_self": null,
      "height": null,
      "min_height": null,
      "padding": null,
      "grid_auto_rows": null,
      "grid_gap": null,
      "max_width": null,
      "order": null,
      "_view_module_version": "1.2.0",
      "grid_template_areas": null,
      "object_position": null,
      "object_fit": null,
      "grid_auto_columns": null,
      "margin": null,
      "display": null,
      "left": null
     }
    },
    "e340400112de47bb856f04233cf53f9e": {
     "model_module": "@jupyter-widgets/controls",
     "model_name": "FloatProgressModel",
     "state": {
      "_view_name": "ProgressView",
      "style": "IPY_MODEL_b1b59f1dc4d74aff99345ba9af0df9da",
      "_dom_classes": [],
      "description": "",
      "_model_name": "FloatProgressModel",
      "bar_style": "success",
      "max": 28881,
      "_view_module": "@jupyter-widgets/controls",
      "_model_module_version": "1.5.0",
      "value": 28881,
      "_view_count": null,
      "_view_module_version": "1.5.0",
      "orientation": "horizontal",
      "min": 0,
      "description_tooltip": null,
      "_model_module": "@jupyter-widgets/controls",
      "layout": "IPY_MODEL_45161762c6f64ec289dffae23689d177"
     }
    },
    "c8d25f97118c42cfac0a07acacd6ad37": {
     "model_module": "@jupyter-widgets/controls",
     "model_name": "HTMLModel",
     "state": {
      "_view_name": "HTMLView",
      "style": "IPY_MODEL_2da8efb8f1d0499797702f2e97a94feb",
      "_dom_classes": [],
      "description": "",
      "_model_name": "HTMLModel",
      "placeholder": "​",
      "_view_module": "@jupyter-widgets/controls",
      "_model_module_version": "1.5.0",
      "value": " 29696/? [31:50&lt;00:00, 15.54it/s]",
      "_view_count": null,
      "_view_module_version": "1.5.0",
      "description_tooltip": null,
      "_model_module": "@jupyter-widgets/controls",
      "layout": "IPY_MODEL_f09f20022d3d43e89fdcfb32f299074b"
     }
    },
    "b1b59f1dc4d74aff99345ba9af0df9da": {
     "model_module": "@jupyter-widgets/controls",
     "model_name": "ProgressStyleModel",
     "state": {
      "_view_name": "StyleView",
      "_model_name": "ProgressStyleModel",
      "description_width": "initial",
      "_view_module": "@jupyter-widgets/base",
      "_model_module_version": "1.5.0",
      "_view_count": null,
      "_view_module_version": "1.2.0",
      "bar_color": null,
      "_model_module": "@jupyter-widgets/controls"
     }
    },
    "45161762c6f64ec289dffae23689d177": {
     "model_module": "@jupyter-widgets/base",
     "model_name": "LayoutModel",
     "state": {
      "_view_name": "LayoutView",
      "grid_template_rows": null,
      "right": null,
      "justify_content": null,
      "_view_module": "@jupyter-widgets/base",
      "overflow": null,
      "_model_module_version": "1.2.0",
      "_view_count": null,
      "flex_flow": null,
      "width": null,
      "min_width": null,
      "border": null,
      "align_items": null,
      "bottom": null,
      "_model_module": "@jupyter-widgets/base",
      "top": null,
      "grid_column": null,
      "overflow_y": null,
      "overflow_x": null,
      "grid_auto_flow": null,
      "grid_area": null,
      "grid_template_columns": null,
      "flex": null,
      "_model_name": "LayoutModel",
      "justify_items": null,
      "grid_row": null,
      "max_height": null,
      "align_content": null,
      "visibility": null,
      "align_self": null,
      "height": null,
      "min_height": null,
      "padding": null,
      "grid_auto_rows": null,
      "grid_gap": null,
      "max_width": null,
      "order": null,
      "_view_module_version": "1.2.0",
      "grid_template_areas": null,
      "object_position": null,
      "object_fit": null,
      "grid_auto_columns": null,
      "margin": null,
      "display": null,
      "left": null
     }
    },
    "2da8efb8f1d0499797702f2e97a94feb": {
     "model_module": "@jupyter-widgets/controls",
     "model_name": "DescriptionStyleModel",
     "state": {
      "_view_name": "StyleView",
      "_model_name": "DescriptionStyleModel",
      "description_width": "",
      "_view_module": "@jupyter-widgets/base",
      "_model_module_version": "1.5.0",
      "_view_count": null,
      "_view_module_version": "1.2.0",
      "_model_module": "@jupyter-widgets/controls"
     }
    },
    "f09f20022d3d43e89fdcfb32f299074b": {
     "model_module": "@jupyter-widgets/base",
     "model_name": "LayoutModel",
     "state": {
      "_view_name": "LayoutView",
      "grid_template_rows": null,
      "right": null,
      "justify_content": null,
      "_view_module": "@jupyter-widgets/base",
      "overflow": null,
      "_model_module_version": "1.2.0",
      "_view_count": null,
      "flex_flow": null,
      "width": null,
      "min_width": null,
      "border": null,
      "align_items": null,
      "bottom": null,
      "_model_module": "@jupyter-widgets/base",
      "top": null,
      "grid_column": null,
      "overflow_y": null,
      "overflow_x": null,
      "grid_auto_flow": null,
      "grid_area": null,
      "grid_template_columns": null,
      "flex": null,
      "_model_name": "LayoutModel",
      "justify_items": null,
      "grid_row": null,
      "max_height": null,
      "align_content": null,
      "visibility": null,
      "align_self": null,
      "height": null,
      "min_height": null,
      "padding": null,
      "grid_auto_rows": null,
      "grid_gap": null,
      "max_width": null,
      "order": null,
      "_view_module_version": "1.2.0",
      "grid_template_areas": null,
      "object_position": null,
      "object_fit": null,
      "grid_auto_columns": null,
      "margin": null,
      "display": null,
      "left": null
     }
    },
    "12567e7e2cbc4fbdb8d5327791d94e8f": {
     "model_module": "@jupyter-widgets/controls",
     "model_name": "HBoxModel",
     "state": {
      "_view_name": "HBoxView",
      "_dom_classes": [],
      "_model_name": "HBoxModel",
      "_view_module": "@jupyter-widgets/controls",
      "_model_module_version": "1.5.0",
      "_view_count": null,
      "_view_module_version": "1.5.0",
      "box_style": "",
      "layout": "IPY_MODEL_c40224316a714da39b1d603890862735",
      "_model_module": "@jupyter-widgets/controls",
      "children": [
       "IPY_MODEL_7ecb7f0754424d56aecf69c4cfbf3844",
       "IPY_MODEL_8ec599e91f054becbe7508d4c423d479"
      ]
     }
    },
    "c40224316a714da39b1d603890862735": {
     "model_module": "@jupyter-widgets/base",
     "model_name": "LayoutModel",
     "state": {
      "_view_name": "LayoutView",
      "grid_template_rows": null,
      "right": null,
      "justify_content": null,
      "_view_module": "@jupyter-widgets/base",
      "overflow": null,
      "_model_module_version": "1.2.0",
      "_view_count": null,
      "flex_flow": null,
      "width": null,
      "min_width": null,
      "border": null,
      "align_items": null,
      "bottom": null,
      "_model_module": "@jupyter-widgets/base",
      "top": null,
      "grid_column": null,
      "overflow_y": null,
      "overflow_x": null,
      "grid_auto_flow": null,
      "grid_area": null,
      "grid_template_columns": null,
      "flex": null,
      "_model_name": "LayoutModel",
      "justify_items": null,
      "grid_row": null,
      "max_height": null,
      "align_content": null,
      "visibility": null,
      "align_self": null,
      "height": null,
      "min_height": null,
      "padding": null,
      "grid_auto_rows": null,
      "grid_gap": null,
      "max_width": null,
      "order": null,
      "_view_module_version": "1.2.0",
      "grid_template_areas": null,
      "object_position": null,
      "object_fit": null,
      "grid_auto_columns": null,
      "margin": null,
      "display": null,
      "left": null
     }
    },
    "7ecb7f0754424d56aecf69c4cfbf3844": {
     "model_module": "@jupyter-widgets/controls",
     "model_name": "FloatProgressModel",
     "state": {
      "_view_name": "ProgressView",
      "style": "IPY_MODEL_99addfac4ea94472989ce1cfa1fc08e4",
      "_dom_classes": [],
      "description": "",
      "_model_name": "FloatProgressModel",
      "bar_style": "success",
      "max": 1648877,
      "_view_module": "@jupyter-widgets/controls",
      "_model_module_version": "1.5.0",
      "value": 1648877,
      "_view_count": null,
      "_view_module_version": "1.5.0",
      "orientation": "horizontal",
      "min": 0,
      "description_tooltip": null,
      "_model_module": "@jupyter-widgets/controls",
      "layout": "IPY_MODEL_c0e2d7fa2b764ac59ad161cbc36e5f85"
     }
    },
    "8ec599e91f054becbe7508d4c423d479": {
     "model_module": "@jupyter-widgets/controls",
     "model_name": "HTMLModel",
     "state": {
      "_view_name": "HTMLView",
      "style": "IPY_MODEL_d3b940d1baa44a5bbf94565f3e610daa",
      "_dom_classes": [],
      "description": "",
      "_model_name": "HTMLModel",
      "placeholder": "​",
      "_view_module": "@jupyter-widgets/controls",
      "_model_module_version": "1.5.0",
      "value": " 1649664/? [03:53&lt;00:00, 7074.76it/s]",
      "_view_count": null,
      "_view_module_version": "1.5.0",
      "description_tooltip": null,
      "_model_module": "@jupyter-widgets/controls",
      "layout": "IPY_MODEL_a9b69991557d4b82a92bdc6faf030107"
     }
    },
    "99addfac4ea94472989ce1cfa1fc08e4": {
     "model_module": "@jupyter-widgets/controls",
     "model_name": "ProgressStyleModel",
     "state": {
      "_view_name": "StyleView",
      "_model_name": "ProgressStyleModel",
      "description_width": "initial",
      "_view_module": "@jupyter-widgets/base",
      "_model_module_version": "1.5.0",
      "_view_count": null,
      "_view_module_version": "1.2.0",
      "bar_color": null,
      "_model_module": "@jupyter-widgets/controls"
     }
    },
    "c0e2d7fa2b764ac59ad161cbc36e5f85": {
     "model_module": "@jupyter-widgets/base",
     "model_name": "LayoutModel",
     "state": {
      "_view_name": "LayoutView",
      "grid_template_rows": null,
      "right": null,
      "justify_content": null,
      "_view_module": "@jupyter-widgets/base",
      "overflow": null,
      "_model_module_version": "1.2.0",
      "_view_count": null,
      "flex_flow": null,
      "width": null,
      "min_width": null,
      "border": null,
      "align_items": null,
      "bottom": null,
      "_model_module": "@jupyter-widgets/base",
      "top": null,
      "grid_column": null,
      "overflow_y": null,
      "overflow_x": null,
      "grid_auto_flow": null,
      "grid_area": null,
      "grid_template_columns": null,
      "flex": null,
      "_model_name": "LayoutModel",
      "justify_items": null,
      "grid_row": null,
      "max_height": null,
      "align_content": null,
      "visibility": null,
      "align_self": null,
      "height": null,
      "min_height": null,
      "padding": null,
      "grid_auto_rows": null,
      "grid_gap": null,
      "max_width": null,
      "order": null,
      "_view_module_version": "1.2.0",
      "grid_template_areas": null,
      "object_position": null,
      "object_fit": null,
      "grid_auto_columns": null,
      "margin": null,
      "display": null,
      "left": null
     }
    },
    "d3b940d1baa44a5bbf94565f3e610daa": {
     "model_module": "@jupyter-widgets/controls",
     "model_name": "DescriptionStyleModel",
     "state": {
      "_view_name": "StyleView",
      "_model_name": "DescriptionStyleModel",
      "description_width": "",
      "_view_module": "@jupyter-widgets/base",
      "_model_module_version": "1.5.0",
      "_view_count": null,
      "_view_module_version": "1.2.0",
      "_model_module": "@jupyter-widgets/controls"
     }
    },
    "a9b69991557d4b82a92bdc6faf030107": {
     "model_module": "@jupyter-widgets/base",
     "model_name": "LayoutModel",
     "state": {
      "_view_name": "LayoutView",
      "grid_template_rows": null,
      "right": null,
      "justify_content": null,
      "_view_module": "@jupyter-widgets/base",
      "overflow": null,
      "_model_module_version": "1.2.0",
      "_view_count": null,
      "flex_flow": null,
      "width": null,
      "min_width": null,
      "border": null,
      "align_items": null,
      "bottom": null,
      "_model_module": "@jupyter-widgets/base",
      "top": null,
      "grid_column": null,
      "overflow_y": null,
      "overflow_x": null,
      "grid_auto_flow": null,
      "grid_area": null,
      "grid_template_columns": null,
      "flex": null,
      "_model_name": "LayoutModel",
      "justify_items": null,
      "grid_row": null,
      "max_height": null,
      "align_content": null,
      "visibility": null,
      "align_self": null,
      "height": null,
      "min_height": null,
      "padding": null,
      "grid_auto_rows": null,
      "grid_gap": null,
      "max_width": null,
      "order": null,
      "_view_module_version": "1.2.0",
      "grid_template_areas": null,
      "object_position": null,
      "object_fit": null,
      "grid_auto_columns": null,
      "margin": null,
      "display": null,
      "left": null
     }
    },
    "27548967b37444ffa44614f4a26821c8": {
     "model_module": "@jupyter-widgets/controls",
     "model_name": "HBoxModel",
     "state": {
      "_view_name": "HBoxView",
      "_dom_classes": [],
      "_model_name": "HBoxModel",
      "_view_module": "@jupyter-widgets/controls",
      "_model_module_version": "1.5.0",
      "_view_count": null,
      "_view_module_version": "1.5.0",
      "box_style": "",
      "layout": "IPY_MODEL_1e2239df64a94f12a83c9b0d6834d1c4",
      "_model_module": "@jupyter-widgets/controls",
      "children": [
       "IPY_MODEL_5574a5d47b0c43e7864d19d0262df905",
       "IPY_MODEL_371c02e6e029437d8e0ef266392b3a88"
      ]
     }
    },
    "1e2239df64a94f12a83c9b0d6834d1c4": {
     "model_module": "@jupyter-widgets/base",
     "model_name": "LayoutModel",
     "state": {
      "_view_name": "LayoutView",
      "grid_template_rows": null,
      "right": null,
      "justify_content": null,
      "_view_module": "@jupyter-widgets/base",
      "overflow": null,
      "_model_module_version": "1.2.0",
      "_view_count": null,
      "flex_flow": null,
      "width": null,
      "min_width": null,
      "border": null,
      "align_items": null,
      "bottom": null,
      "_model_module": "@jupyter-widgets/base",
      "top": null,
      "grid_column": null,
      "overflow_y": null,
      "overflow_x": null,
      "grid_auto_flow": null,
      "grid_area": null,
      "grid_template_columns": null,
      "flex": null,
      "_model_name": "LayoutModel",
      "justify_items": null,
      "grid_row": null,
      "max_height": null,
      "align_content": null,
      "visibility": null,
      "align_self": null,
      "height": null,
      "min_height": null,
      "padding": null,
      "grid_auto_rows": null,
      "grid_gap": null,
      "max_width": null,
      "order": null,
      "_view_module_version": "1.2.0",
      "grid_template_areas": null,
      "object_position": null,
      "object_fit": null,
      "grid_auto_columns": null,
      "margin": null,
      "display": null,
      "left": null
     }
    },
    "5574a5d47b0c43e7864d19d0262df905": {
     "model_module": "@jupyter-widgets/controls",
     "model_name": "FloatProgressModel",
     "state": {
      "_view_name": "ProgressView",
      "style": "IPY_MODEL_64811ff9eb64411cb2f48bf3ebf08f19",
      "_dom_classes": [],
      "description": "",
      "_model_name": "FloatProgressModel",
      "bar_style": "success",
      "max": 4542,
      "_view_module": "@jupyter-widgets/controls",
      "_model_module_version": "1.5.0",
      "value": 4542,
      "_view_count": null,
      "_view_module_version": "1.5.0",
      "orientation": "horizontal",
      "min": 0,
      "description_tooltip": null,
      "_model_module": "@jupyter-widgets/controls",
      "layout": "IPY_MODEL_96fc9b92af964d53910448f1369c1ecf"
     }
    },
    "371c02e6e029437d8e0ef266392b3a88": {
     "model_module": "@jupyter-widgets/controls",
     "model_name": "HTMLModel",
     "state": {
      "_view_name": "HTMLView",
      "style": "IPY_MODEL_583cf549a55e485a8741743796a39b24",
      "_dom_classes": [],
      "description": "",
      "_model_name": "HTMLModel",
      "placeholder": "​",
      "_view_module": "@jupyter-widgets/controls",
      "_model_module_version": "1.5.0",
      "value": " 5120/? [03:02&lt;00:00, 28.12it/s]",
      "_view_count": null,
      "_view_module_version": "1.5.0",
      "description_tooltip": null,
      "_model_module": "@jupyter-widgets/controls",
      "layout": "IPY_MODEL_1ec730d187aa4887abe17397dc96461e"
     }
    },
    "64811ff9eb64411cb2f48bf3ebf08f19": {
     "model_module": "@jupyter-widgets/controls",
     "model_name": "ProgressStyleModel",
     "state": {
      "_view_name": "StyleView",
      "_model_name": "ProgressStyleModel",
      "description_width": "initial",
      "_view_module": "@jupyter-widgets/base",
      "_model_module_version": "1.5.0",
      "_view_count": null,
      "_view_module_version": "1.2.0",
      "bar_color": null,
      "_model_module": "@jupyter-widgets/controls"
     }
    },
    "96fc9b92af964d53910448f1369c1ecf": {
     "model_module": "@jupyter-widgets/base",
     "model_name": "LayoutModel",
     "state": {
      "_view_name": "LayoutView",
      "grid_template_rows": null,
      "right": null,
      "justify_content": null,
      "_view_module": "@jupyter-widgets/base",
      "overflow": null,
      "_model_module_version": "1.2.0",
      "_view_count": null,
      "flex_flow": null,
      "width": null,
      "min_width": null,
      "border": null,
      "align_items": null,
      "bottom": null,
      "_model_module": "@jupyter-widgets/base",
      "top": null,
      "grid_column": null,
      "overflow_y": null,
      "overflow_x": null,
      "grid_auto_flow": null,
      "grid_area": null,
      "grid_template_columns": null,
      "flex": null,
      "_model_name": "LayoutModel",
      "justify_items": null,
      "grid_row": null,
      "max_height": null,
      "align_content": null,
      "visibility": null,
      "align_self": null,
      "height": null,
      "min_height": null,
      "padding": null,
      "grid_auto_rows": null,
      "grid_gap": null,
      "max_width": null,
      "order": null,
      "_view_module_version": "1.2.0",
      "grid_template_areas": null,
      "object_position": null,
      "object_fit": null,
      "grid_auto_columns": null,
      "margin": null,
      "display": null,
      "left": null
     }
    },
    "583cf549a55e485a8741743796a39b24": {
     "model_module": "@jupyter-widgets/controls",
     "model_name": "DescriptionStyleModel",
     "state": {
      "_view_name": "StyleView",
      "_model_name": "DescriptionStyleModel",
      "description_width": "",
      "_view_module": "@jupyter-widgets/base",
      "_model_module_version": "1.5.0",
      "_view_count": null,
      "_view_module_version": "1.2.0",
      "_model_module": "@jupyter-widgets/controls"
     }
    },
    "1ec730d187aa4887abe17397dc96461e": {
     "model_module": "@jupyter-widgets/base",
     "model_name": "LayoutModel",
     "state": {
      "_view_name": "LayoutView",
      "grid_template_rows": null,
      "right": null,
      "justify_content": null,
      "_view_module": "@jupyter-widgets/base",
      "overflow": null,
      "_model_module_version": "1.2.0",
      "_view_count": null,
      "flex_flow": null,
      "width": null,
      "min_width": null,
      "border": null,
      "align_items": null,
      "bottom": null,
      "_model_module": "@jupyter-widgets/base",
      "top": null,
      "grid_column": null,
      "overflow_y": null,
      "overflow_x": null,
      "grid_auto_flow": null,
      "grid_area": null,
      "grid_template_columns": null,
      "flex": null,
      "_model_name": "LayoutModel",
      "justify_items": null,
      "grid_row": null,
      "max_height": null,
      "align_content": null,
      "visibility": null,
      "align_self": null,
      "height": null,
      "min_height": null,
      "padding": null,
      "grid_auto_rows": null,
      "grid_gap": null,
      "max_width": null,
      "order": null,
      "_view_module_version": "1.2.0",
      "grid_template_areas": null,
      "object_position": null,
      "object_fit": null,
      "grid_auto_columns": null,
      "margin": null,
      "display": null,
      "left": null
     }
    },
    "3b6187a6105c44f59afd98bb52763ec4": {
     "model_module": "@jupyter-widgets/controls",
     "model_name": "HBoxModel",
     "state": {
      "_view_name": "HBoxView",
      "_dom_classes": [],
      "_model_name": "HBoxModel",
      "_view_module": "@jupyter-widgets/controls",
      "_model_module_version": "1.5.0",
      "_view_count": null,
      "_view_module_version": "1.5.0",
      "box_style": "",
      "layout": "IPY_MODEL_d7a404b03b8946c6ae10773da9d76b22",
      "_model_module": "@jupyter-widgets/controls",
      "children": [
       "IPY_MODEL_152caa6e07e54eeb918dc8a6f8543ae7",
       "IPY_MODEL_d688fa57b5754ec693897ec34bd8ab3a"
      ]
     }
    },
    "d7a404b03b8946c6ae10773da9d76b22": {
     "model_module": "@jupyter-widgets/base",
     "model_name": "LayoutModel",
     "state": {
      "_view_name": "LayoutView",
      "grid_template_rows": null,
      "right": null,
      "justify_content": null,
      "_view_module": "@jupyter-widgets/base",
      "overflow": null,
      "_model_module_version": "1.2.0",
      "_view_count": null,
      "flex_flow": null,
      "width": null,
      "min_width": null,
      "border": null,
      "align_items": null,
      "bottom": null,
      "_model_module": "@jupyter-widgets/base",
      "top": null,
      "grid_column": null,
      "overflow_y": null,
      "overflow_x": null,
      "grid_auto_flow": null,
      "grid_area": null,
      "grid_template_columns": null,
      "flex": null,
      "_model_name": "LayoutModel",
      "justify_items": null,
      "grid_row": null,
      "max_height": null,
      "align_content": null,
      "visibility": null,
      "align_self": null,
      "height": null,
      "min_height": null,
      "padding": null,
      "grid_auto_rows": null,
      "grid_gap": null,
      "max_width": null,
      "order": null,
      "_view_module_version": "1.2.0",
      "grid_template_areas": null,
      "object_position": null,
      "object_fit": null,
      "grid_auto_columns": null,
      "margin": null,
      "display": null,
      "left": null
     }
    },
    "152caa6e07e54eeb918dc8a6f8543ae7": {
     "model_module": "@jupyter-widgets/controls",
     "model_name": "FloatProgressModel",
     "state": {
      "_view_name": "ProgressView",
      "style": "IPY_MODEL_bc2cf5513e434708be6024455826e462",
      "_dom_classes": [],
      "description": "",
      "_model_name": "FloatProgressModel",
      "bar_style": "success",
      "max": 561753746,
      "_view_module": "@jupyter-widgets/controls",
      "_model_module_version": "1.5.0",
      "value": 561753746,
      "_view_count": null,
      "_view_module_version": "1.5.0",
      "orientation": "horizontal",
      "min": 0,
      "description_tooltip": null,
      "_model_module": "@jupyter-widgets/controls",
      "layout": "IPY_MODEL_26aba687288f422dbeb4f76892647cd4"
     }
    },
    "d688fa57b5754ec693897ec34bd8ab3a": {
     "model_module": "@jupyter-widgets/controls",
     "model_name": "HTMLModel",
     "state": {
      "_view_name": "HTMLView",
      "style": "IPY_MODEL_01ae83bc35914f0f886cd97cf9914d8a",
      "_dom_classes": [],
      "description": "",
      "_model_name": "HTMLModel",
      "placeholder": "​",
      "_view_module": "@jupyter-widgets/controls",
      "_model_module_version": "1.5.0",
      "value": " 561754112/? [01:04&lt;00:00, 8693750.35it/s]",
      "_view_count": null,
      "_view_module_version": "1.5.0",
      "description_tooltip": null,
      "_model_module": "@jupyter-widgets/controls",
      "layout": "IPY_MODEL_0f38e98904e944bca36af72c27c8cd0b"
     }
    },
    "bc2cf5513e434708be6024455826e462": {
     "model_module": "@jupyter-widgets/controls",
     "model_name": "ProgressStyleModel",
     "state": {
      "_view_name": "StyleView",
      "_model_name": "ProgressStyleModel",
      "description_width": "initial",
      "_view_module": "@jupyter-widgets/base",
      "_model_module_version": "1.5.0",
      "_view_count": null,
      "_view_module_version": "1.2.0",
      "bar_color": null,
      "_model_module": "@jupyter-widgets/controls"
     }
    },
    "26aba687288f422dbeb4f76892647cd4": {
     "model_module": "@jupyter-widgets/base",
     "model_name": "LayoutModel",
     "state": {
      "_view_name": "LayoutView",
      "grid_template_rows": null,
      "right": null,
      "justify_content": null,
      "_view_module": "@jupyter-widgets/base",
      "overflow": null,
      "_model_module_version": "1.2.0",
      "_view_count": null,
      "flex_flow": null,
      "width": null,
      "min_width": null,
      "border": null,
      "align_items": null,
      "bottom": null,
      "_model_module": "@jupyter-widgets/base",
      "top": null,
      "grid_column": null,
      "overflow_y": null,
      "overflow_x": null,
      "grid_auto_flow": null,
      "grid_area": null,
      "grid_template_columns": null,
      "flex": null,
      "_model_name": "LayoutModel",
      "justify_items": null,
      "grid_row": null,
      "max_height": null,
      "align_content": null,
      "visibility": null,
      "align_self": null,
      "height": null,
      "min_height": null,
      "padding": null,
      "grid_auto_rows": null,
      "grid_gap": null,
      "max_width": null,
      "order": null,
      "_view_module_version": "1.2.0",
      "grid_template_areas": null,
      "object_position": null,
      "object_fit": null,
      "grid_auto_columns": null,
      "margin": null,
      "display": null,
      "left": null
     }
    },
    "01ae83bc35914f0f886cd97cf9914d8a": {
     "model_module": "@jupyter-widgets/controls",
     "model_name": "DescriptionStyleModel",
     "state": {
      "_view_name": "StyleView",
      "_model_name": "DescriptionStyleModel",
      "description_width": "",
      "_view_module": "@jupyter-widgets/base",
      "_model_module_version": "1.5.0",
      "_view_count": null,
      "_view_module_version": "1.2.0",
      "_model_module": "@jupyter-widgets/controls"
     }
    },
    "0f38e98904e944bca36af72c27c8cd0b": {
     "model_module": "@jupyter-widgets/base",
     "model_name": "LayoutModel",
     "state": {
      "_view_name": "LayoutView",
      "grid_template_rows": null,
      "right": null,
      "justify_content": null,
      "_view_module": "@jupyter-widgets/base",
      "overflow": null,
      "_model_module_version": "1.2.0",
      "_view_count": null,
      "flex_flow": null,
      "width": null,
      "min_width": null,
      "border": null,
      "align_items": null,
      "bottom": null,
      "_model_module": "@jupyter-widgets/base",
      "top": null,
      "grid_column": null,
      "overflow_y": null,
      "overflow_x": null,
      "grid_auto_flow": null,
      "grid_area": null,
      "grid_template_columns": null,
      "flex": null,
      "_model_name": "LayoutModel",
      "justify_items": null,
      "grid_row": null,
      "max_height": null,
      "align_content": null,
      "visibility": null,
      "align_self": null,
      "height": null,
      "min_height": null,
      "padding": null,
      "grid_auto_rows": null,
      "grid_gap": null,
      "max_width": null,
      "order": null,
      "_view_module_version": "1.2.0",
      "grid_template_areas": null,
      "object_position": null,
      "object_fit": null,
      "grid_auto_columns": null,
      "margin": null,
      "display": null,
      "left": null
     }
    }
   }
  },
  "deepnote_notebook_id": "43240cf8-637c-4791-8acf-7a0328ea07a3",
  "deepnote": {},
  "deepnote_execution_queue": []
 }
}