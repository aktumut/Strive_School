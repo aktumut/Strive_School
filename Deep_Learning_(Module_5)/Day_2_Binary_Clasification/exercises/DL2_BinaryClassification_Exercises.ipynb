{
 "cells": [
  {
   "cell_type": "code",
   "metadata": {
    "ExecuteTime": {
     "end_time": "2021-05-26T07:47:37.551793Z",
     "start_time": "2021-05-26T07:47:35.439944Z"
    },
    "cell_id": "00000-d30534ee-bfb2-4eb9-8f01-f8c308a93647",
    "deepnote_to_be_reexecuted": false,
    "source_hash": "8fbb7b69",
    "execution_start": 1622036297714,
    "execution_millis": 1513,
    "deepnote_cell_type": "code"
   },
   "source": "import torch\nimport torch.nn as nn\nimport numpy as np\nimport matplotlib.pyplot as plt\nimport pandas as pd",
   "outputs": [],
   "execution_count": null
  },
  {
   "cell_type": "code",
   "metadata": {
    "ExecuteTime": {
     "end_time": "2021-05-26T07:50:32.482086Z",
     "start_time": "2021-05-26T07:50:32.456893Z"
    },
    "cell_id": "00001-fa3ae762-f5b6-4762-a3d8-920220d199fb",
    "deepnote_to_be_reexecuted": false,
    "source_hash": "4e8781fe",
    "execution_start": 1622036300890,
    "execution_millis": 1,
    "deepnote_cell_type": "code"
   },
   "source": "# create a neural network class inheriting from the nn.Module\n# Call it NeuralNetwork and make, and use \"pass\" in the constructor\n# so that it doesn't give an error\n# Instantiate one instance of it in variable net\n\nnet = 0\n\nclass NeuralNetwork(nn.Module):\n    def __init__(self ):\n        super(NeuralNetwork, self).__init__()\n        pass\n\nnet = NeuralNetwork()",
   "outputs": [],
   "execution_count": null
  },
  {
   "cell_type": "code",
   "metadata": {
    "ExecuteTime": {
     "end_time": "2021-05-26T07:51:28.420569Z",
     "start_time": "2021-05-26T07:51:28.412916Z"
    },
    "cell_id": "00002-563ff05e-9215-4369-a122-26c97bb5feca",
    "deepnote_to_be_reexecuted": false,
    "source_hash": "bdf3a1c2",
    "execution_start": 1622036314663,
    "execution_millis": 0,
    "deepnote_cell_type": "code"
   },
   "source": "assert isinstance(net, NeuralNetwork)",
   "outputs": [],
   "execution_count": null
  },
  {
   "cell_type": "code",
   "metadata": {
    "ExecuteTime": {
     "end_time": "2021-05-26T07:56:11.203531Z",
     "start_time": "2021-05-26T07:56:11.199729Z"
    },
    "cell_id": "00003-a3e3c0ce-e8bf-4665-926a-cfd192aa48f8",
    "deepnote_to_be_reexecuted": false,
    "source_hash": "bafa4b0d",
    "execution_start": 1622036331943,
    "execution_millis": 2,
    "deepnote_cell_type": "code"
   },
   "source": "# Rewrite the NeuralNetwork class so that the constructor receives\n# as input the input_dim and num_hidden, respectively the dimension of \n# the input and the number of hidden neurons\n# use pass again\n\nclass NeuralNetwork(nn.Module):\n    pass\n    def __init__(self, input_dim, num_hidden):\n        super().__init__()\n        pass\n",
   "outputs": [],
   "execution_count": null
  },
  {
   "cell_type": "code",
   "metadata": {
    "ExecuteTime": {
     "end_time": "2021-05-26T07:56:32.252906Z",
     "start_time": "2021-05-26T07:56:32.247913Z"
    },
    "cell_id": "00004-45b53ef7-b2ce-4cad-96ae-528e5cec0489",
    "deepnote_to_be_reexecuted": false,
    "source_hash": "39385948",
    "execution_start": 1622036332895,
    "execution_millis": 3,
    "deepnote_cell_type": "code"
   },
   "source": "assert NeuralNetwork(input_dim=10, num_hidden=16)",
   "outputs": [],
   "execution_count": null
  },
  {
   "cell_type": "code",
   "metadata": {
    "ExecuteTime": {
     "end_time": "2021-05-26T08:04:27.491588Z",
     "start_time": "2021-05-26T08:04:27.484159Z"
    },
    "cell_id": "00005-aa50730b-4600-416d-b7ad-b1cb889943ae",
    "deepnote_to_be_reexecuted": false,
    "source_hash": "907f7c14",
    "execution_start": 1622036349275,
    "execution_millis": 0,
    "deepnote_cell_type": "code"
   },
   "source": "# Rewrite the NeuralNetwork class so that the constructor receives\n# as input the input_dim, num_hidden1 and num_hidden2, respectively the dimension of \n# the input and the number of hidden neurons for the first fully connected\n# layer and the second. Define the attributes in the constructor\n# that consists of the layers, call them fc1, fc2 and fc3 and a sigmoid.\n# use pass again. Be careful to put the dimensions in the right places!\n# Since we will do a binary classification problem, fc3 will have 1 neuron\n# as output\n\nclass NeuralNetwork(nn.Module):\n    def __init__(self, input_dim, num_hidden1, num_hidden2):\n        super().__init__()\n        self.fc1 = nn.Linear(input_dim, num_hidden1)\n        self.fc2 = nn.Linear(num_hidden1, num_hidden2)\n        self.fc3 = nn.Linear(num_hidden2, 1)\n        self.sigmoid = nn.Sigmoid()\n        \n        ",
   "outputs": [],
   "execution_count": null
  },
  {
   "cell_type": "code",
   "metadata": {
    "ExecuteTime": {
     "end_time": "2021-05-26T08:04:48.612004Z",
     "start_time": "2021-05-26T08:04:48.606773Z"
    },
    "cell_id": "00006-045c0024-f5bb-4294-ad9a-fd9e6bec5761",
    "deepnote_to_be_reexecuted": false,
    "source_hash": "341428ce",
    "execution_start": 1622036349986,
    "execution_millis": 3,
    "deepnote_cell_type": "code"
   },
   "source": "net = NeuralNetwork(16, 16, 16)\nassert net.fc1\nassert net.fc2\nassert net.fc3\nassert net.sigmoid",
   "outputs": [],
   "execution_count": null
  },
  {
   "cell_type": "code",
   "metadata": {
    "cell_id": "00007-e7e07875-f351-464f-a40d-b138b2b0a2f1",
    "deepnote_to_be_reexecuted": false,
    "source_hash": "8041f840",
    "execution_start": 1622036351076,
    "execution_millis": 2,
    "deepnote_cell_type": "code"
   },
   "source": "# Define the forward pass to make a reasonable use of the attributes\n# you defined before. Follow the same reasoning we used in class\n",
   "outputs": [],
   "execution_count": null
  },
  {
   "cell_type": "code",
   "metadata": {
    "cell_id": "00008-5d8f0ef4-1415-49e6-a1db-8fbe4062f0bf",
    "deepnote_to_be_reexecuted": false,
    "source_hash": "15055deb",
    "execution_start": 1622036351456,
    "execution_millis": 260,
    "deepnote_cell_type": "code"
   },
   "source": "# For training a model, use the following optimizer and loss\n\noptimizer = torch.optim.Adam(model.parameters(), lr=0.01)\nloss = nn.BCELoss()\n",
   "outputs": [
    {
     "output_type": "error",
     "ename": "NameError",
     "evalue": "name 'model' is not defined",
     "traceback": [
      "\u001b[0;31m---------------------------------------------------------------------------\u001b[0m",
      "\u001b[0;31mNameError\u001b[0m                                 Traceback (most recent call last)",
      "\u001b[0;32m<ipython-input-9-728e050dc894>\u001b[0m in \u001b[0;36m<module>\u001b[0;34m\u001b[0m\n\u001b[1;32m      1\u001b[0m \u001b[0;31m# For training a model, use the following optimizer and loss\u001b[0m\u001b[0;34m\u001b[0m\u001b[0;34m\u001b[0m\u001b[0;34m\u001b[0m\u001b[0m\n\u001b[1;32m      2\u001b[0m \u001b[0;34m\u001b[0m\u001b[0m\n\u001b[0;32m----> 3\u001b[0;31m \u001b[0moptimizer\u001b[0m \u001b[0;34m=\u001b[0m \u001b[0mtorch\u001b[0m\u001b[0;34m.\u001b[0m\u001b[0moptim\u001b[0m\u001b[0;34m.\u001b[0m\u001b[0mAdam\u001b[0m\u001b[0;34m(\u001b[0m\u001b[0mmodel\u001b[0m\u001b[0;34m.\u001b[0m\u001b[0mparameters\u001b[0m\u001b[0;34m(\u001b[0m\u001b[0;34m)\u001b[0m\u001b[0;34m,\u001b[0m \u001b[0mlr\u001b[0m\u001b[0;34m=\u001b[0m\u001b[0;36m0.01\u001b[0m\u001b[0;34m)\u001b[0m\u001b[0;34m\u001b[0m\u001b[0;34m\u001b[0m\u001b[0m\n\u001b[0m\u001b[1;32m      4\u001b[0m \u001b[0mloss\u001b[0m \u001b[0;34m=\u001b[0m \u001b[0mnn\u001b[0m\u001b[0;34m.\u001b[0m\u001b[0mBCELoss\u001b[0m\u001b[0;34m(\u001b[0m\u001b[0;34m)\u001b[0m\u001b[0;34m\u001b[0m\u001b[0;34m\u001b[0m\u001b[0m\n",
      "\u001b[0;31mNameError\u001b[0m: name 'model' is not defined"
     ]
    }
   ],
   "execution_count": null
  },
  {
   "cell_type": "code",
   "metadata": {
    "cell_id": "00009-438871b1-13d9-450f-8da2-2604bf0a04c8",
    "deepnote_cell_type": "code"
   },
   "source": "# train a neural network (feel free to choose the num_hidden1 and num_hidden2)\n# on the dataset in data.csv file\n# You'll have fun with conflicting shapes and types and tensors, but\n# you'll get those errors anyway. Let's go into the wild and learn\n# by reading the errors and trying to understand them! :)\n# You can always use the provided Workbook",
   "execution_count": null,
   "outputs": []
  },
  {
   "cell_type": "markdown",
   "source": "<a style='text-decoration:none;line-height:16px;display:flex;color:#5B5B62;padding:10px;justify-content:end;' href='https://deepnote.com?utm_source=created-in-deepnote-cell&projectId=796ba814-f632-4502-b0d7-7e2f8f9e546d' target=\"_blank\">\n<img alt='Created in deepnote.com' style='display:inline;max-height:16px;margin:0px;margin-right:7.5px;' src='data:image/svg+xml;base64,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' > </img>\nCreated in <span style='font-weight:600;margin-left:4px;'>Deepnote</span></a>",
   "metadata": {
    "tags": [],
    "created_in_deepnote_cell": true,
    "deepnote_cell_type": "markdown"
   }
  }
 ],
 "nbformat": 4,
 "nbformat_minor": 5,
 "metadata": {
  "kernelspec": {
   "display_name": "Python 3",
   "language": "python",
   "name": "python3"
  },
  "language_info": {
   "codemirror_mode": {
    "name": "ipython",
    "version": 3
   },
   "file_extension": ".py",
   "mimetype": "text/x-python",
   "name": "python",
   "nbconvert_exporter": "python",
   "pygments_lexer": "ipython3",
   "version": "3.9.1"
  },
  "varInspector": {
   "cols": {
    "lenName": 16,
    "lenType": 16,
    "lenVar": 40
   },
   "kernels_config": {
    "python": {
     "delete_cmd_postfix": "",
     "delete_cmd_prefix": "del ",
     "library": "var_list.py",
     "varRefreshCmd": "print(var_dic_list())"
    },
    "r": {
     "delete_cmd_postfix": ") ",
     "delete_cmd_prefix": "rm(",
     "library": "var_list.r",
     "varRefreshCmd": "cat(var_dic_list()) "
    }
   },
   "types_to_exclude": [
    "module",
    "function",
    "builtin_function_or_method",
    "instance",
    "_Feature"
   ],
   "window_display": false
  },
  "deepnote_notebook_id": "10fa1226-2689-4e91-8511-18808bc1afe2",
  "deepnote": {},
  "deepnote_execution_queue": []
 }
}