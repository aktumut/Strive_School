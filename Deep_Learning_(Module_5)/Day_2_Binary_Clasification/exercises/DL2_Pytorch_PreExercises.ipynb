{
 "cells": [
  {
   "cell_type": "code",
   "metadata": {
    "cell_id": "00000-587c46a5-299f-4772-95bd-2d39530fae53",
    "deepnote_cell_type": "code"
   },
   "source": "# Install torch and torchvision on your computer\n# It's convenient to create a virtual env for that",
   "execution_count": null,
   "outputs": []
  },
  {
   "cell_type": "code",
   "metadata": {
    "ExecuteTime": {
     "end_time": "2021-05-26T05:44:46.718547Z",
     "start_time": "2021-05-26T05:44:44.015035Z"
    },
    "cell_id": "00001-bcf74911-63b2-4958-a658-e4886eed13b8",
    "deepnote_to_be_reexecuted": false,
    "source_hash": "e2834a42",
    "execution_start": 1622013503916,
    "execution_millis": 1270,
    "deepnote_cell_type": "code"
   },
   "source": "import torch\nimport torch.nn as nn\nimport numpy as np",
   "outputs": [],
   "execution_count": null
  },
  {
   "cell_type": "code",
   "metadata": {
    "ExecuteTime": {
     "end_time": "2021-05-26T05:55:09.345568Z",
     "start_time": "2021-05-26T05:55:09.326608Z"
    },
    "cell_id": "00002-8b1177d5-0bd3-4bee-9e57-bbe783166e75",
    "deepnote_to_be_reexecuted": false,
    "source_hash": "69cba130",
    "execution_start": 1622013771549,
    "execution_millis": 18,
    "deepnote_cell_type": "code"
   },
   "source": "# set the torch manual seed to 42\ntorch.manual_seed(42)\n",
   "outputs": [
    {
     "output_type": "execute_result",
     "execution_count": 2,
     "data": {
      "text/plain": "<torch._C.Generator at 0x7efe1621ac70>"
     },
     "metadata": {}
    }
   ],
   "execution_count": null
  },
  {
   "cell_type": "code",
   "metadata": {
    "ExecuteTime": {
     "end_time": "2021-05-26T05:53:21.990528Z",
     "start_time": "2021-05-26T05:53:21.982001Z"
    },
    "cell_id": "00003-0f81a9c6-0b0d-43e9-8f4a-eefd9932f6fc",
    "deepnote_to_be_reexecuted": false,
    "source_hash": "8c706d92",
    "execution_start": 1622014336226,
    "execution_millis": 10,
    "deepnote_cell_type": "code"
   },
   "source": "# Create a tensor of shape (5,) and store in the features variable\nfeatures = torch.randn((5,))\nfeatures",
   "outputs": [
    {
     "output_type": "execute_result",
     "execution_count": 11,
     "data": {
      "text/plain": "tensor([-0.8676,  1.5231,  0.6647, -1.0324, -0.2770])"
     },
     "metadata": {}
    }
   ],
   "execution_count": null
  },
  {
   "cell_type": "code",
   "metadata": {
    "ExecuteTime": {
     "end_time": "2021-05-26T05:53:21.843474Z",
     "start_time": "2021-05-26T05:53:21.840266Z"
    },
    "cell_id": "00004-b46833de-a64f-493e-a236-62cb8386b588",
    "deepnote_to_be_reexecuted": false,
    "source_hash": "48ccc9e5",
    "execution_start": 1622014337703,
    "execution_millis": 1,
    "deepnote_cell_type": "code"
   },
   "source": "# Generate a tensor called weights with the same shape of features\n# Hint: search torch.rand_like\nweights = torch.rand_like(features)\n",
   "outputs": [],
   "execution_count": null
  },
  {
   "cell_type": "code",
   "metadata": {
    "ExecuteTime": {
     "end_time": "2021-05-26T06:03:23.249934Z",
     "start_time": "2021-05-26T06:03:23.232413Z"
    },
    "cell_id": "00005-1669b3d7-2060-4c2b-8910-cbb0a446bf01",
    "deepnote_to_be_reexecuted": false,
    "source_hash": "52359b00",
    "execution_start": 1622014338338,
    "execution_millis": 1,
    "deepnote_cell_type": "code"
   },
   "source": "assert weights.shape == features.shape",
   "outputs": [],
   "execution_count": null
  },
  {
   "cell_type": "code",
   "metadata": {
    "ExecuteTime": {
     "end_time": "2021-05-26T05:53:22.262490Z",
     "start_time": "2021-05-26T05:53:22.256392Z"
    },
    "cell_id": "00006-62bce319-7cf7-45d5-a11d-3686d4998b87",
    "deepnote_to_be_reexecuted": false,
    "source_hash": "262735a6",
    "execution_start": 1622014339023,
    "execution_millis": 8,
    "deepnote_cell_type": "code"
   },
   "source": "weights",
   "outputs": [
    {
     "output_type": "execute_result",
     "execution_count": 14,
     "data": {
      "text/plain": "tensor([0.5739, 0.2666, 0.6274, 0.2696, 0.4414])"
     },
     "metadata": {}
    }
   ],
   "execution_count": null
  },
  {
   "cell_type": "code",
   "metadata": {
    "ExecuteTime": {
     "end_time": "2021-05-26T05:53:22.688098Z",
     "start_time": "2021-05-26T05:53:22.685070Z"
    },
    "cell_id": "00007-7aebc694-7700-4fcb-8b1c-8f7b00f34747",
    "deepnote_to_be_reexecuted": false,
    "source_hash": "eeaeac40",
    "execution_start": 1622014339943,
    "execution_millis": 0,
    "deepnote_cell_type": "code"
   },
   "source": "bias = torch.randn((1,1))",
   "outputs": [],
   "execution_count": null
  },
  {
   "cell_type": "code",
   "metadata": {
    "ExecuteTime": {
     "end_time": "2021-05-26T05:53:22.837840Z",
     "start_time": "2021-05-26T05:53:22.832752Z"
    },
    "cell_id": "00008-87a08904-c888-4ef7-ae5a-9821325fc1ea",
    "deepnote_to_be_reexecuted": false,
    "source_hash": "2eb8585f",
    "execution_start": 1622014340351,
    "execution_millis": 7,
    "deepnote_cell_type": "code"
   },
   "source": "bias",
   "outputs": [
    {
     "output_type": "execute_result",
     "execution_count": 16,
     "data": {
      "text/plain": "tensor([[-1.3627]])"
     },
     "metadata": {}
    }
   ],
   "execution_count": null
  },
  {
   "cell_type": "code",
   "metadata": {
    "ExecuteTime": {
     "end_time": "2021-05-26T05:53:22.958309Z",
     "start_time": "2021-05-26T05:53:22.953589Z"
    },
    "cell_id": "00009-928bca21-f891-435f-a79e-7d739138660f",
    "deepnote_to_be_reexecuted": false,
    "source_hash": "40d7a3ba",
    "execution_start": 1622014341719,
    "execution_millis": 1,
    "deepnote_cell_type": "code"
   },
   "source": "# Implement the sigmoid function by using torch\ndef sigmoid(x):\n    return 1 / (1+torch.exp(x))",
   "outputs": [],
   "execution_count": null
  },
  {
   "cell_type": "code",
   "metadata": {
    "ExecuteTime": {
     "end_time": "2021-05-26T06:07:15.298988Z",
     "start_time": "2021-05-26T06:07:15.293636Z"
    },
    "cell_id": "00010-0cc2c82a-efb8-4bef-80cc-9200db839c63",
    "deepnote_to_be_reexecuted": false,
    "source_hash": "dc078434",
    "execution_start": 1622014434746,
    "execution_millis": 7,
    "deepnote_cell_type": "code"
   },
   "source": "# Use torch.dot function for multiplying weights and features and\n# add the bias to the result. Store the result into the score variable\n\nscore = torch.dot(weights.T,features)+bias\nscore\n",
   "outputs": [
    {
     "output_type": "execute_result",
     "execution_count": 20,
     "data": {
      "text/plain": "tensor([[-1.4382]])"
     },
     "metadata": {}
    }
   ],
   "execution_count": null
  },
  {
   "cell_type": "code",
   "metadata": {
    "ExecuteTime": {
     "end_time": "2021-05-26T06:07:54.742774Z",
     "start_time": "2021-05-26T06:07:54.738740Z"
    },
    "cell_id": "00011-7e17dd3e-7656-49db-a188-948062191e9b",
    "deepnote_to_be_reexecuted": false,
    "source_hash": "b6029c95",
    "execution_start": 1622014439291,
    "execution_millis": 3,
    "deepnote_cell_type": "code"
   },
   "source": "assert score.shape == (1,1)",
   "outputs": [],
   "execution_count": null
  },
  {
   "cell_type": "code",
   "metadata": {
    "ExecuteTime": {
     "end_time": "2021-05-26T06:09:09.770708Z",
     "start_time": "2021-05-26T06:09:09.764317Z"
    },
    "cell_id": "00012-443f8e91-a467-4824-a3d7-07109cd207ca",
    "deepnote_to_be_reexecuted": false,
    "source_hash": "283e73ee",
    "execution_start": 1622014475166,
    "execution_millis": 12,
    "deepnote_cell_type": "code"
   },
   "source": "# Use the defined sigmoid function to activate the score.\n# Store the result in the prob variable\n\nprob = sigmoid(score)\nprob",
   "outputs": [
    {
     "output_type": "execute_result",
     "execution_count": 23,
     "data": {
      "text/plain": "tensor([[0.8082]])"
     },
     "metadata": {}
    }
   ],
   "execution_count": null
  },
  {
   "cell_type": "code",
   "metadata": {
    "ExecuteTime": {
     "end_time": "2021-05-26T06:09:20.343108Z",
     "start_time": "2021-05-26T06:09:20.339958Z"
    },
    "cell_id": "00013-5b3f88e4-2584-48a1-bab5-272125c710ee",
    "deepnote_to_be_reexecuted": false,
    "source_hash": "e4b830a",
    "execution_start": 1622014477107,
    "execution_millis": 3,
    "deepnote_cell_type": "code"
   },
   "source": "assert prob.shape == (1,1)",
   "outputs": [],
   "execution_count": null
  },
  {
   "cell_type": "code",
   "metadata": {
    "ExecuteTime": {
     "end_time": "2021-05-26T06:11:19.575519Z",
     "start_time": "2021-05-26T06:11:19.568376Z"
    },
    "cell_id": "00014-f64df384-dda2-4415-9000-532995c0011c",
    "deepnote_to_be_reexecuted": false,
    "source_hash": "299b3fc2",
    "execution_start": 1622014554520,
    "execution_millis": 6,
    "deepnote_cell_type": "code"
   },
   "source": "# Convert the a numpy array into a torch tensor\n# Store it in the b variable\na = np.random.rand(4, 3)\na\nb = torch.from_numpy(a)\nb",
   "outputs": [
    {
     "output_type": "execute_result",
     "execution_count": 25,
     "data": {
      "text/plain": "tensor([[0.9962, 0.9856, 0.7242],\n        [0.6626, 0.6698, 0.5493],\n        [0.2078, 0.8882, 0.0687],\n        [0.7757, 0.2970, 0.5674]], dtype=torch.float64)"
     },
     "metadata": {}
    }
   ],
   "execution_count": null
  },
  {
   "cell_type": "code",
   "metadata": {
    "ExecuteTime": {
     "end_time": "2021-05-26T06:12:33.848173Z",
     "start_time": "2021-05-26T06:12:33.845007Z"
    },
    "cell_id": "00015-63be11d5-748b-4450-adc4-97f843fb10fa",
    "deepnote_to_be_reexecuted": false,
    "source_hash": "43ef0dfe",
    "execution_start": 1622014556236,
    "execution_millis": 4,
    "deepnote_cell_type": "code"
   },
   "source": "assert b.shape == (4,3) ",
   "outputs": [],
   "execution_count": null
  },
  {
   "cell_type": "code",
   "metadata": {
    "ExecuteTime": {
     "end_time": "2021-05-26T06:15:11.278855Z",
     "start_time": "2021-05-26T06:15:11.274384Z"
    },
    "cell_id": "00016-c22f7266-054a-44b2-972e-d5e3a030a857",
    "deepnote_to_be_reexecuted": false,
    "source_hash": "14fc1160",
    "execution_start": 1622014753846,
    "execution_millis": 12,
    "deepnote_cell_type": "code"
   },
   "source": "# Do the opposite now. From the given tensor a convert it a numpy array\n# Store the result in b\na = torch.tensor([1,2])\na\nb = a.numpy()\nb",
   "outputs": [
    {
     "output_type": "execute_result",
     "execution_count": 27,
     "data": {
      "text/plain": "array([1, 2])"
     },
     "metadata": {}
    }
   ],
   "execution_count": null
  },
  {
   "cell_type": "code",
   "metadata": {
    "ExecuteTime": {
     "end_time": "2021-05-26T06:15:23.003363Z",
     "start_time": "2021-05-26T06:15:22.999824Z"
    },
    "cell_id": "00017-0dc6f86b-bc74-4b72-8edc-2dca6643fc14",
    "deepnote_to_be_reexecuted": false,
    "source_hash": "5de1ef68",
    "execution_start": 1622014756844,
    "execution_millis": 1,
    "deepnote_cell_type": "code"
   },
   "source": "assert type(b) == np.ndarray",
   "outputs": [],
   "execution_count": null
  },
  {
   "cell_type": "code",
   "metadata": {
    "ExecuteTime": {
     "end_time": "2021-05-26T06:38:16.934705Z",
     "start_time": "2021-05-26T06:38:16.929106Z"
    },
    "cell_id": "00018-6bf0cd09-2feb-409c-8822-d0dcb3b78a75",
    "deepnote_to_be_reexecuted": false,
    "source_hash": "9b5f5828",
    "execution_start": 1622014824715,
    "execution_millis": 12,
    "deepnote_cell_type": "code"
   },
   "source": "# Reshape the given v tensor in a 10x10 tensor.\n# Store the result in v_reshaped\n# You can use various methods: reshape, view, resize... Check all of them\n\nv = torch.randn((100,1))\nv_reshaped = torch.reshape(v, (10, 10))\nv_reshaped.shape",
   "outputs": [
    {
     "output_type": "execute_result",
     "execution_count": 30,
     "data": {
      "text/plain": "torch.Size([10, 10])"
     },
     "metadata": {}
    }
   ],
   "execution_count": null
  },
  {
   "cell_type": "code",
   "metadata": {
    "cell_id": "00019-c90951c5-2ef2-48c1-802e-568a9aa07a19",
    "deepnote_to_be_reexecuted": false,
    "source_hash": "cdceb802",
    "execution_start": 1622014869990,
    "execution_millis": 2,
    "deepnote_cell_type": "code"
   },
   "source": "# create a tensor with shape (16, 32, 32, 3) containing only ones\n# Store it in the ones variable\nones = torch.randn((16, 32, 32, 3))\n",
   "outputs": [],
   "execution_count": null
  },
  {
   "cell_type": "code",
   "metadata": {
    "cell_id": "00020-a2c62257-5c19-4f24-8b0d-3dd9d850f4e9",
    "deepnote_to_be_reexecuted": false,
    "source_hash": "91013821",
    "execution_start": 1622014874895,
    "execution_millis": 0,
    "deepnote_cell_type": "code"
   },
   "source": "assert ones.shape == (16, 32, 32, 3)",
   "outputs": [],
   "execution_count": null
  },
  {
   "cell_type": "code",
   "metadata": {
    "ExecuteTime": {
     "end_time": "2021-05-26T06:50:29.092598Z",
     "start_time": "2021-05-26T06:50:29.067520Z"
    },
    "cell_id": "00021-16976ff4-a06b-4e87-a510-a14ab6c452f7",
    "deepnote_to_be_reexecuted": false,
    "source_hash": "77d4e38c",
    "execution_start": 1622014885655,
    "execution_millis": 419,
    "deepnote_cell_type": "code"
   },
   "source": "import pandas as pd\nimport matplotlib.pyplot as plt\n# load and plot the data using scatterplot with different colors for labels\ndata = pd.read_csv('/work/Strive_School/Deep_Learning_(Module_5)/Day_2/exercises/data.csv', header=None)\ndata",
   "outputs": [
    {
     "output_type": "execute_result",
     "execution_count": 34,
     "data": {
      "application/vnd.deepnote.dataframe.v2+json": {
       "row_count": 100,
       "column_count": 3,
       "columns": [
        {
         "name": 0,
         "dtype": "float64",
         "stats": {
          "unique_count": 100,
          "nan_count": 0,
          "min": "0.0084492",
          "max": "1.0",
          "histogram": [
           {
            "bin_start": 0.0084492,
            "bin_end": 0.10760428,
            "count": 3
           },
           {
            "bin_start": 0.10760428,
            "bin_end": 0.20675935999999998,
            "count": 5
           },
           {
            "bin_start": 0.20675935999999998,
            "bin_end": 0.30591443999999995,
            "count": 12
           },
           {
            "bin_start": 0.30591443999999995,
            "bin_end": 0.40506951999999996,
            "count": 11
           },
           {
            "bin_start": 0.40506951999999996,
            "bin_end": 0.5042246,
            "count": 17
           },
           {
            "bin_start": 0.5042246,
            "bin_end": 0.60337968,
            "count": 11
           },
           {
            "bin_start": 0.60337968,
            "bin_end": 0.70253476,
            "count": 17
           },
           {
            "bin_start": 0.70253476,
            "bin_end": 0.80168984,
            "count": 19
           },
           {
            "bin_start": 0.80168984,
            "bin_end": 0.9008449199999999,
            "count": 4
           },
           {
            "bin_start": 0.9008449199999999,
            "bin_end": 1,
            "count": 1
           }
          ]
         }
        },
        {
         "name": 1,
         "dtype": "float64",
         "stats": {
          "unique_count": 100,
          "nan_count": 0,
          "min": "-0.063669",
          "max": "1.0",
          "histogram": [
           {
            "bin_start": -0.063669,
            "bin_end": 0.0426979,
            "count": 2
           },
           {
            "bin_start": 0.0426979,
            "bin_end": 0.1490648,
            "count": 5
           },
           {
            "bin_start": 0.1490648,
            "bin_end": 0.25543170000000004,
            "count": 7
           },
           {
            "bin_start": 0.25543170000000004,
            "bin_end": 0.36179859999999997,
            "count": 14
           },
           {
            "bin_start": 0.36179859999999997,
            "bin_end": 0.4681655,
            "count": 16
           },
           {
            "bin_start": 0.4681655,
            "bin_end": 0.5745324,
            "count": 12
           },
           {
            "bin_start": 0.5745324,
            "bin_end": 0.6808993,
            "count": 16
           },
           {
            "bin_start": 0.6808993,
            "bin_end": 0.7872662,
            "count": 17
           },
           {
            "bin_start": 0.7872662,
            "bin_end": 0.8936331000000001,
            "count": 7
           },
           {
            "bin_start": 0.8936331000000001,
            "bin_end": 1,
            "count": 4
           }
          ]
         }
        },
        {
         "name": 2,
         "dtype": "int64",
         "stats": {
          "unique_count": 2,
          "nan_count": 0,
          "min": "0",
          "max": "1",
          "histogram": [
           {
            "bin_start": 0,
            "bin_end": 0.1,
            "count": 50
           },
           {
            "bin_start": 0.1,
            "bin_end": 0.2,
            "count": 0
           },
           {
            "bin_start": 0.2,
            "bin_end": 0.30000000000000004,
            "count": 0
           },
           {
            "bin_start": 0.30000000000000004,
            "bin_end": 0.4,
            "count": 0
           },
           {
            "bin_start": 0.4,
            "bin_end": 0.5,
            "count": 0
           },
           {
            "bin_start": 0.5,
            "bin_end": 0.6000000000000001,
            "count": 0
           },
           {
            "bin_start": 0.6000000000000001,
            "bin_end": 0.7000000000000001,
            "count": 0
           },
           {
            "bin_start": 0.7000000000000001,
            "bin_end": 0.8,
            "count": 0
           },
           {
            "bin_start": 0.8,
            "bin_end": 0.9,
            "count": 0
           },
           {
            "bin_start": 0.9,
            "bin_end": 1,
            "count": 50
           }
          ]
         }
        },
        {
         "name": "_deepnote_index_column",
         "dtype": "int64"
        }
       ],
       "rows_top": [
        {
         "0": 0.78051,
         "1": -0.063669,
         "2": 1,
         "_deepnote_index_column": 0
        },
        {
         "0": 0.28774,
         "1": 0.29139,
         "2": 1,
         "_deepnote_index_column": 1
        },
        {
         "0": 0.40714,
         "1": 0.17878,
         "2": 1,
         "_deepnote_index_column": 2
        },
        {
         "0": 0.2923,
         "1": 0.4217,
         "2": 1,
         "_deepnote_index_column": 3
        },
        {
         "0": 0.50922,
         "1": 0.35256,
         "2": 1,
         "_deepnote_index_column": 4
        },
        {
         "0": 0.27785,
         "1": 0.10802,
         "2": 1,
         "_deepnote_index_column": 5
        },
        {
         "0": 0.27527,
         "1": 0.33223,
         "2": 1,
         "_deepnote_index_column": 6
        },
        {
         "0": 0.43999,
         "1": 0.31245,
         "2": 1,
         "_deepnote_index_column": 7
        },
        {
         "0": 0.33557,
         "1": 0.42984,
         "2": 1,
         "_deepnote_index_column": 8
        },
        {
         "0": 0.23448,
         "1": 0.24986,
         "2": 1,
         "_deepnote_index_column": 9
        },
        {
         "0": 0.0084492,
         "1": 0.13658,
         "2": 1,
         "_deepnote_index_column": 10
        },
        {
         "0": 0.12419,
         "1": 0.33595,
         "2": 1,
         "_deepnote_index_column": 11
        },
        {
         "0": 0.25644,
         "1": 0.42624,
         "2": 1,
         "_deepnote_index_column": 12
        },
        {
         "0": 0.4591,
         "1": 0.40426,
         "2": 1,
         "_deepnote_index_column": 13
        },
        {
         "0": 0.44547,
         "1": 0.45117,
         "2": 1,
         "_deepnote_index_column": 14
        },
        {
         "0": 0.42218,
         "1": 0.20118,
         "2": 1,
         "_deepnote_index_column": 15
        },
        {
         "0": 0.49563,
         "1": 0.21445,
         "2": 1,
         "_deepnote_index_column": 16
        },
        {
         "0": 0.30848,
         "1": 0.24306,
         "2": 1,
         "_deepnote_index_column": 17
        },
        {
         "0": 0.39707,
         "1": 0.44438,
         "2": 1,
         "_deepnote_index_column": 18
        },
        {
         "0": 0.32945,
         "1": 0.39217,
         "2": 1,
         "_deepnote_index_column": 19
        },
        {
         "0": 0.40739,
         "1": 0.40271,
         "2": 1,
         "_deepnote_index_column": 20
        },
        {
         "0": 0.3106,
         "1": 0.50702,
         "2": 1,
         "_deepnote_index_column": 21
        },
        {
         "0": 0.49638,
         "1": 0.45384,
         "2": 1,
         "_deepnote_index_column": 22
        },
        {
         "0": 0.10073,
         "1": 0.32053,
         "2": 1,
         "_deepnote_index_column": 23
        },
        {
         "0": 0.69907,
         "1": 0.37307,
         "2": 1,
         "_deepnote_index_column": 24
        },
        {
         "0": 0.29767,
         "1": 0.69648,
         "2": 1,
         "_deepnote_index_column": 25
        },
        {
         "0": 0.15099,
         "1": 0.57341,
         "2": 1,
         "_deepnote_index_column": 26
        },
        {
         "0": 0.16427,
         "1": 0.27759,
         "2": 1,
         "_deepnote_index_column": 27
        },
        {
         "0": 0.33259,
         "1": 0.055964,
         "2": 1,
         "_deepnote_index_column": 28
        },
        {
         "0": 0.53741,
         "1": 0.28637,
         "2": 1,
         "_deepnote_index_column": 29
        },
        {
         "0": 0.19503,
         "1": 0.36879,
         "2": 1,
         "_deepnote_index_column": 30
        },
        {
         "0": 0.40278,
         "1": 0.035148,
         "2": 1,
         "_deepnote_index_column": 31
        },
        {
         "0": 0.21296,
         "1": 0.55169,
         "2": 1,
         "_deepnote_index_column": 32
        },
        {
         "0": 0.48447,
         "1": 0.56991,
         "2": 1,
         "_deepnote_index_column": 33
        },
        {
         "0": 0.25476,
         "1": 0.34596,
         "2": 1,
         "_deepnote_index_column": 34
        },
        {
         "0": 0.21726,
         "1": 0.28641,
         "2": 1,
         "_deepnote_index_column": 35
        },
        {
         "0": 0.67078,
         "1": 0.46538,
         "2": 1,
         "_deepnote_index_column": 36
        },
        {
         "0": 0.3815,
         "1": 0.4622,
         "2": 1,
         "_deepnote_index_column": 37
        },
        {
         "0": 0.53838,
         "1": 0.32774,
         "2": 1,
         "_deepnote_index_column": 38
        },
        {
         "0": 0.4849,
         "1": 0.26071,
         "2": 1,
         "_deepnote_index_column": 39
        },
        {
         "0": 0.37095,
         "1": 0.38809,
         "2": 1,
         "_deepnote_index_column": 40
        },
        {
         "0": 0.54527,
         "1": 0.63911,
         "2": 1,
         "_deepnote_index_column": 41
        },
        {
         "0": 0.32149,
         "1": 0.12007,
         "2": 1,
         "_deepnote_index_column": 42
        },
        {
         "0": 0.42216,
         "1": 0.61666,
         "2": 1,
         "_deepnote_index_column": 43
        },
        {
         "0": 0.10194,
         "1": 0.060408,
         "2": 1,
         "_deepnote_index_column": 44
        },
        {
         "0": 0.15254,
         "1": 0.2168,
         "2": 1,
         "_deepnote_index_column": 45
        },
        {
         "0": 0.45558,
         "1": 0.43769,
         "2": 1,
         "_deepnote_index_column": 46
        },
        {
         "0": 0.28488,
         "1": 0.52142,
         "2": 1,
         "_deepnote_index_column": 47
        },
        {
         "0": 0.27633,
         "1": 0.21264,
         "2": 1,
         "_deepnote_index_column": 48
        },
        {
         "0": 0.39748,
         "1": 0.31902,
         "2": 1,
         "_deepnote_index_column": 49
        },
        {
         "0": 0.5533,
         "1": 1,
         "2": 0,
         "_deepnote_index_column": 50
        },
        {
         "0": 0.44274,
         "1": 0.59205,
         "2": 0,
         "_deepnote_index_column": 51
        },
        {
         "0": 0.85176,
         "1": 0.6612,
         "2": 0,
         "_deepnote_index_column": 52
        },
        {
         "0": 0.60436,
         "1": 0.86605,
         "2": 0,
         "_deepnote_index_column": 53
        },
        {
         "0": 0.68243,
         "1": 0.48301,
         "2": 0,
         "_deepnote_index_column": 54
        },
        {
         "0": 1,
         "1": 0.76815,
         "2": 0,
         "_deepnote_index_column": 55
        },
        {
         "0": 0.72989,
         "1": 0.8107,
         "2": 0,
         "_deepnote_index_column": 56
        },
        {
         "0": 0.67377,
         "1": 0.77975,
         "2": 0,
         "_deepnote_index_column": 57
        },
        {
         "0": 0.78761,
         "1": 0.58177,
         "2": 0,
         "_deepnote_index_column": 58
        },
        {
         "0": 0.71442,
         "1": 0.7668,
         "2": 0,
         "_deepnote_index_column": 59
        },
        {
         "0": 0.49379,
         "1": 0.54226,
         "2": 0,
         "_deepnote_index_column": 60
        },
        {
         "0": 0.78974,
         "1": 0.74233,
         "2": 0,
         "_deepnote_index_column": 61
        },
        {
         "0": 0.67905,
         "1": 0.60921,
         "2": 0,
         "_deepnote_index_column": 62
        },
        {
         "0": 0.6642,
         "1": 0.72519,
         "2": 0,
         "_deepnote_index_column": 63
        },
        {
         "0": 0.79396,
         "1": 0.56789,
         "2": 0,
         "_deepnote_index_column": 64
        },
        {
         "0": 0.70758,
         "1": 0.76022,
         "2": 0,
         "_deepnote_index_column": 65
        },
        {
         "0": 0.59421,
         "1": 0.61857,
         "2": 0,
         "_deepnote_index_column": 66
        },
        {
         "0": 0.49364,
         "1": 0.56224,
         "2": 0,
         "_deepnote_index_column": 67
        },
        {
         "0": 0.77707,
         "1": 0.35025,
         "2": 0,
         "_deepnote_index_column": 68
        },
        {
         "0": 0.79785,
         "1": 0.76921,
         "2": 0,
         "_deepnote_index_column": 69
        },
        {
         "0": 0.70876,
         "1": 0.96764,
         "2": 0,
         "_deepnote_index_column": 70
        },
        {
         "0": 0.69176,
         "1": 0.60865,
         "2": 0,
         "_deepnote_index_column": 71
        },
        {
         "0": 0.66408,
         "1": 0.92075,
         "2": 0,
         "_deepnote_index_column": 72
        },
        {
         "0": 0.65973,
         "1": 0.66666,
         "2": 0,
         "_deepnote_index_column": 73
        },
        {
         "0": 0.64574,
         "1": 0.56845,
         "2": 0,
         "_deepnote_index_column": 74
        },
        {
         "0": 0.89639,
         "1": 0.7085,
         "2": 0,
         "_deepnote_index_column": 75
        },
        {
         "0": 0.85476,
         "1": 0.63167,
         "2": 0,
         "_deepnote_index_column": 76
        },
        {
         "0": 0.62091,
         "1": 0.80424,
         "2": 0,
         "_deepnote_index_column": 77
        },
        {
         "0": 0.79057,
         "1": 0.56108,
         "2": 0,
         "_deepnote_index_column": 78
        },
        {
         "0": 0.58935,
         "1": 0.71582,
         "2": 0,
         "_deepnote_index_column": 79
        },
        {
         "0": 0.56846,
         "1": 0.7406,
         "2": 0,
         "_deepnote_index_column": 80
        },
        {
         "0": 0.65912,
         "1": 0.71548,
         "2": 0,
         "_deepnote_index_column": 81
        },
        {
         "0": 0.70938,
         "1": 0.74041,
         "2": 0,
         "_deepnote_index_column": 82
        },
        {
         "0": 0.59154,
         "1": 0.62927,
         "2": 0,
         "_deepnote_index_column": 83
        },
        {
         "0": 0.45829,
         "1": 0.4641,
         "2": 0,
         "_deepnote_index_column": 84
        },
        {
         "0": 0.79982,
         "1": 0.74847,
         "2": 0,
         "_deepnote_index_column": 85
        },
        {
         "0": 0.60974,
         "1": 0.54757,
         "2": 0,
         "_deepnote_index_column": 86
        },
        {
         "0": 0.68127,
         "1": 0.86985,
         "2": 0,
         "_deepnote_index_column": 87
        },
        {
         "0": 0.76694,
         "1": 0.64736,
         "2": 0,
         "_deepnote_index_column": 88
        },
        {
         "0": 0.69048,
         "1": 0.83058,
         "2": 0,
         "_deepnote_index_column": 89
        },
        {
         "0": 0.68122,
         "1": 0.96541,
         "2": 0,
         "_deepnote_index_column": 90
        },
        {
         "0": 0.73229,
         "1": 0.64245,
         "2": 0,
         "_deepnote_index_column": 91
        },
        {
         "0": 0.76145,
         "1": 0.60138,
         "2": 0,
         "_deepnote_index_column": 92
        },
        {
         "0": 0.58985,
         "1": 0.86955,
         "2": 0,
         "_deepnote_index_column": 93
        },
        {
         "0": 0.73145,
         "1": 0.74516,
         "2": 0,
         "_deepnote_index_column": 94
        },
        {
         "0": 0.77029,
         "1": 0.7014,
         "2": 0,
         "_deepnote_index_column": 95
        },
        {
         "0": 0.73156,
         "1": 0.71782,
         "2": 0,
         "_deepnote_index_column": 96
        },
        {
         "0": 0.44556,
         "1": 0.57991,
         "2": 0,
         "_deepnote_index_column": 97
        },
        {
         "0": 0.85275,
         "1": 0.85987,
         "2": 0,
         "_deepnote_index_column": 98
        },
        {
         "0": 0.51912,
         "1": 0.62359,
         "2": 0,
         "_deepnote_index_column": 99
        }
       ],
       "rows_bottom": null
      },
      "text/plain": "          0         1  2\n0   0.78051 -0.063669  1\n1   0.28774  0.291390  1\n2   0.40714  0.178780  1\n3   0.29230  0.421700  1\n4   0.50922  0.352560  1\n..      ...       ... ..\n95  0.77029  0.701400  0\n96  0.73156  0.717820  0\n97  0.44556  0.579910  0\n98  0.85275  0.859870  0\n99  0.51912  0.623590  0\n\n[100 rows x 3 columns]",
      "text/html": "<div>\n<style scoped>\n    .dataframe tbody tr th:only-of-type {\n        vertical-align: middle;\n    }\n\n    .dataframe tbody tr th {\n        vertical-align: top;\n    }\n\n    .dataframe thead th {\n        text-align: right;\n    }\n</style>\n<table border=\"1\" class=\"dataframe\">\n  <thead>\n    <tr style=\"text-align: right;\">\n      <th></th>\n      <th>0</th>\n      <th>1</th>\n      <th>2</th>\n    </tr>\n  </thead>\n  <tbody>\n    <tr>\n      <th>0</th>\n      <td>0.78051</td>\n      <td>-0.063669</td>\n      <td>1</td>\n    </tr>\n    <tr>\n      <th>1</th>\n      <td>0.28774</td>\n      <td>0.291390</td>\n      <td>1</td>\n    </tr>\n    <tr>\n      <th>2</th>\n      <td>0.40714</td>\n      <td>0.178780</td>\n      <td>1</td>\n    </tr>\n    <tr>\n      <th>3</th>\n      <td>0.29230</td>\n      <td>0.421700</td>\n      <td>1</td>\n    </tr>\n    <tr>\n      <th>4</th>\n      <td>0.50922</td>\n      <td>0.352560</td>\n      <td>1</td>\n    </tr>\n    <tr>\n      <th>...</th>\n      <td>...</td>\n      <td>...</td>\n      <td>...</td>\n    </tr>\n    <tr>\n      <th>95</th>\n      <td>0.77029</td>\n      <td>0.701400</td>\n      <td>0</td>\n    </tr>\n    <tr>\n      <th>96</th>\n      <td>0.73156</td>\n      <td>0.717820</td>\n      <td>0</td>\n    </tr>\n    <tr>\n      <th>97</th>\n      <td>0.44556</td>\n      <td>0.579910</td>\n      <td>0</td>\n    </tr>\n    <tr>\n      <th>98</th>\n      <td>0.85275</td>\n      <td>0.859870</td>\n      <td>0</td>\n    </tr>\n    <tr>\n      <th>99</th>\n      <td>0.51912</td>\n      <td>0.623590</td>\n      <td>0</td>\n    </tr>\n  </tbody>\n</table>\n<p>100 rows × 3 columns</p>\n</div>"
     },
     "metadata": {}
    }
   ],
   "execution_count": null
  },
  {
   "cell_type": "code",
   "metadata": {
    "ExecuteTime": {
     "end_time": "2021-05-26T06:52:46.863528Z",
     "start_time": "2021-05-26T06:52:46.755851Z"
    },
    "cell_id": "00022-2f2591dc-e419-4d15-a7ec-b3c84320f87a",
    "deepnote_to_be_reexecuted": false,
    "source_hash": "137699ff",
    "execution_start": 1622014958422,
    "execution_millis": 215,
    "deepnote_cell_type": "code"
   },
   "source": "import seaborn as sns\nsns.scatterplot(x=data[0],y=data[1],hue=data[2])",
   "outputs": [
    {
     "output_type": "execute_result",
     "execution_count": 36,
     "data": {
      "text/plain": "<AxesSubplot:xlabel='0', ylabel='1'>"
     },
     "metadata": {}
    },
    {
     "data": {
      "text/plain": "<Figure size 432x288 with 1 Axes>",
      "image/png": "[encoded data removed]"
     },
     "metadata": {
      "needs_background": "light",
      "image/png": {
       "width": 386,
       "height": 262
      }
     },
     "output_type": "display_data"
    }
   ],
   "execution_count": null
  },
  {
   "cell_type": "code",
   "metadata": {
    "cell_id": "00023-220f09fd-16cc-496e-a0fa-6d2cfef27c0a",
    "deepnote_cell_type": "code"
   },
   "source": "",
   "execution_count": null,
   "outputs": []
  },
  {
   "cell_type": "markdown",
   "source": "<a style='text-decoration:none;line-height:16px;display:flex;color:#5B5B62;padding:10px;justify-content:end;' href='https://deepnote.com?utm_source=created-in-deepnote-cell&projectId=796ba814-f632-4502-b0d7-7e2f8f9e546d' target=\"_blank\">\n<img alt='Created in deepnote.com' style='display:inline;max-height:16px;margin:0px;margin-right:7.5px;' src='data:image/svg+xml;base64,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' > </img>\nCreated in <span style='font-weight:600;margin-left:4px;'>Deepnote</span></a>",
   "metadata": {
    "tags": [],
    "created_in_deepnote_cell": true,
    "deepnote_cell_type": "markdown"
   }
  }
 ],
 "nbformat": 4,
 "nbformat_minor": 5,
 "metadata": {
  "kernelspec": {
   "display_name": "Python 3",
   "language": "python",
   "name": "python3"
  },
  "language_info": {
   "codemirror_mode": {
    "name": "ipython",
    "version": 3
   },
   "file_extension": ".py",
   "mimetype": "text/x-python",
   "name": "python",
   "nbconvert_exporter": "python",
   "pygments_lexer": "ipython3",
   "version": "3.9.1"
  },
  "varInspector": {
   "cols": {
    "lenName": 16,
    "lenType": 16,
    "lenVar": 40
   },
   "kernels_config": {
    "python": {
     "delete_cmd_postfix": "",
     "delete_cmd_prefix": "del ",
     "library": "var_list.py",
     "varRefreshCmd": "print(var_dic_list())"
    },
    "r": {
     "delete_cmd_postfix": ") ",
     "delete_cmd_prefix": "rm(",
     "library": "var_list.r",
     "varRefreshCmd": "cat(var_dic_list()) "
    }
   },
   "types_to_exclude": [
    "module",
    "function",
    "builtin_function_or_method",
    "instance",
    "_Feature"
   ],
   "window_display": false
  },
  "deepnote_notebook_id": "93054c63-e993-488a-8522-561554c9c671",
  "deepnote": {},
  "deepnote_execution_queue": []
 }
}